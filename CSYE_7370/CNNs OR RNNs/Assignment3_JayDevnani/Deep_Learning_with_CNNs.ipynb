{
  "cells": [
    {
      "cell_type": "markdown",
      "source": [
        "# Deep Learning with CNNs - Rock Paper Scissors!"
      ],
      "metadata": {
        "id": "fG1gb3NT9ABo"
      }
    },
    {
      "cell_type": "code",
      "execution_count": 1,
      "metadata": {
        "id": "-l_3chRNq-uS"
      },
      "outputs": [],
      "source": [
        "pip install -q tensorflow tensorflow-datasets"
      ]
    },
    {
      "cell_type": "code",
      "execution_count": 2,
      "metadata": {
        "id": "zf2QGtpbrD7J"
      },
      "outputs": [],
      "source": [
        "import matplotlib.pyplot as plt\n",
        "import numpy as np\n",
        "\n",
        "import tensorflow as tf\n",
        "import tensorflow_datasets as tfds\n",
        "\n",
        "from tensorflow import keras"
      ]
    },
    {
      "cell_type": "code",
      "execution_count": 3,
      "metadata": {
        "colab": {
          "base_uri": "https://localhost:8080/"
        },
        "id": "LwNG_YbirFtE",
        "outputId": "53dc6fd5-3913-44d2-8346-20872248dfc9"
      },
      "outputs": [
        {
          "output_type": "execute_result",
          "data": {
            "text/plain": [
              "['abstract_reasoning',\n",
              " 'accentdb',\n",
              " 'aeslc',\n",
              " 'aflw2k3d',\n",
              " 'ag_news_subset',\n",
              " 'ai2_arc',\n",
              " 'ai2_arc_with_ir',\n",
              " 'amazon_us_reviews',\n",
              " 'anli',\n",
              " 'answer_equivalence',\n",
              " 'arc',\n",
              " 'asqa',\n",
              " 'asset',\n",
              " 'assin2',\n",
              " 'bair_robot_pushing_small',\n",
              " 'bccd',\n",
              " 'beans',\n",
              " 'bee_dataset',\n",
              " 'beir',\n",
              " 'big_patent',\n",
              " 'bigearthnet',\n",
              " 'billsum',\n",
              " 'binarized_mnist',\n",
              " 'binary_alpha_digits',\n",
              " 'ble_wind_field',\n",
              " 'blimp',\n",
              " 'booksum',\n",
              " 'bool_q',\n",
              " 'c4',\n",
              " 'caltech101',\n",
              " 'caltech_birds2010',\n",
              " 'caltech_birds2011',\n",
              " 'cardiotox',\n",
              " 'cars196',\n",
              " 'cassava',\n",
              " 'cats_vs_dogs',\n",
              " 'celeb_a',\n",
              " 'celeb_a_hq',\n",
              " 'cfq',\n",
              " 'cherry_blossoms',\n",
              " 'chexpert',\n",
              " 'cifar10',\n",
              " 'cifar100',\n",
              " 'cifar10_1',\n",
              " 'cifar10_corrupted',\n",
              " 'citrus_leaves',\n",
              " 'cityscapes',\n",
              " 'civil_comments',\n",
              " 'clevr',\n",
              " 'clic',\n",
              " 'clinc_oos',\n",
              " 'cmaterdb',\n",
              " 'cnn_dailymail',\n",
              " 'coco',\n",
              " 'coco_captions',\n",
              " 'coil100',\n",
              " 'colorectal_histology',\n",
              " 'colorectal_histology_large',\n",
              " 'common_voice',\n",
              " 'coqa',\n",
              " 'cos_e',\n",
              " 'cosmos_qa',\n",
              " 'covid19',\n",
              " 'covid19sum',\n",
              " 'crema_d',\n",
              " 'criteo',\n",
              " 'cs_restaurants',\n",
              " 'curated_breast_imaging_ddsm',\n",
              " 'cycle_gan',\n",
              " 'd4rl_adroit_door',\n",
              " 'd4rl_adroit_hammer',\n",
              " 'd4rl_adroit_pen',\n",
              " 'd4rl_adroit_relocate',\n",
              " 'd4rl_antmaze',\n",
              " 'd4rl_mujoco_ant',\n",
              " 'd4rl_mujoco_halfcheetah',\n",
              " 'd4rl_mujoco_hopper',\n",
              " 'd4rl_mujoco_walker2d',\n",
              " 'dart',\n",
              " 'davis',\n",
              " 'deep1b',\n",
              " 'deep_weeds',\n",
              " 'definite_pronoun_resolution',\n",
              " 'dementiabank',\n",
              " 'diabetic_retinopathy_detection',\n",
              " 'diamonds',\n",
              " 'div2k',\n",
              " 'dmlab',\n",
              " 'doc_nli',\n",
              " 'dolphin_number_word',\n",
              " 'domainnet',\n",
              " 'downsampled_imagenet',\n",
              " 'drop',\n",
              " 'dsprites',\n",
              " 'dtd',\n",
              " 'duke_ultrasound',\n",
              " 'e2e_cleaned',\n",
              " 'efron_morris75',\n",
              " 'emnist',\n",
              " 'eraser_multi_rc',\n",
              " 'esnli',\n",
              " 'eurosat',\n",
              " 'fashion_mnist',\n",
              " 'flic',\n",
              " 'flores',\n",
              " 'food101',\n",
              " 'forest_fires',\n",
              " 'fuss',\n",
              " 'gap',\n",
              " 'geirhos_conflict_stimuli',\n",
              " 'gem',\n",
              " 'genomics_ood',\n",
              " 'german_credit_numeric',\n",
              " 'gigaword',\n",
              " 'glove100_angular',\n",
              " 'glue',\n",
              " 'goemotions',\n",
              " 'gov_report',\n",
              " 'gpt3',\n",
              " 'gref',\n",
              " 'groove',\n",
              " 'grounded_scan',\n",
              " 'gsm8k',\n",
              " 'gtzan',\n",
              " 'gtzan_music_speech',\n",
              " 'hellaswag',\n",
              " 'higgs',\n",
              " 'hillstrom',\n",
              " 'horses_or_humans',\n",
              " 'howell',\n",
              " 'i_naturalist2017',\n",
              " 'i_naturalist2018',\n",
              " 'imagenet2012',\n",
              " 'imagenet2012_corrupted',\n",
              " 'imagenet2012_fewshot',\n",
              " 'imagenet2012_multilabel',\n",
              " 'imagenet2012_real',\n",
              " 'imagenet2012_subset',\n",
              " 'imagenet_a',\n",
              " 'imagenet_lt',\n",
              " 'imagenet_r',\n",
              " 'imagenet_resized',\n",
              " 'imagenet_sketch',\n",
              " 'imagenet_v2',\n",
              " 'imagenette',\n",
              " 'imagewang',\n",
              " 'imdb_reviews',\n",
              " 'irc_disentanglement',\n",
              " 'iris',\n",
              " 'istella',\n",
              " 'kddcup99',\n",
              " 'kitti',\n",
              " 'kmnist',\n",
              " 'lambada',\n",
              " 'lfw',\n",
              " 'librispeech',\n",
              " 'librispeech_lm',\n",
              " 'libritts',\n",
              " 'ljspeech',\n",
              " 'lm1b',\n",
              " 'locomotion',\n",
              " 'lost_and_found',\n",
              " 'lsun',\n",
              " 'lvis',\n",
              " 'malaria',\n",
              " 'math_dataset',\n",
              " 'math_qa',\n",
              " 'mctaco',\n",
              " 'media_sum',\n",
              " 'mlqa',\n",
              " 'mnist',\n",
              " 'mnist_corrupted',\n",
              " 'movie_lens',\n",
              " 'movie_rationales',\n",
              " 'movielens',\n",
              " 'moving_mnist',\n",
              " 'mrqa',\n",
              " 'mslr_web',\n",
              " 'mt_opt',\n",
              " 'multi_news',\n",
              " 'multi_nli',\n",
              " 'multi_nli_mismatch',\n",
              " 'natural_questions',\n",
              " 'natural_questions_open',\n",
              " 'newsroom',\n",
              " 'nsynth',\n",
              " 'nyu_depth_v2',\n",
              " 'ogbg_molpcba',\n",
              " 'omniglot',\n",
              " 'open_images_challenge2019_detection',\n",
              " 'open_images_v4',\n",
              " 'openbookqa',\n",
              " 'opinion_abstracts',\n",
              " 'opinosis',\n",
              " 'opus',\n",
              " 'oxford_flowers102',\n",
              " 'oxford_iiit_pet',\n",
              " 'para_crawl',\n",
              " 'pass',\n",
              " 'patch_camelyon',\n",
              " 'paws_wiki',\n",
              " 'paws_x_wiki',\n",
              " 'penguins',\n",
              " 'pet_finder',\n",
              " 'pg19',\n",
              " 'piqa',\n",
              " 'places365_small',\n",
              " 'plant_leaves',\n",
              " 'plant_village',\n",
              " 'plantae_k',\n",
              " 'protein_net',\n",
              " 'qa4mre',\n",
              " 'qasc',\n",
              " 'quac',\n",
              " 'quality',\n",
              " 'quickdraw_bitmap',\n",
              " 'race',\n",
              " 'radon',\n",
              " 'reddit',\n",
              " 'reddit_disentanglement',\n",
              " 'reddit_tifu',\n",
              " 'ref_coco',\n",
              " 'resisc45',\n",
              " 'rlu_atari',\n",
              " 'rlu_atari_checkpoints',\n",
              " 'rlu_atari_checkpoints_ordered',\n",
              " 'rlu_control_suite',\n",
              " 'rlu_dmlab_explore_object_rewards_few',\n",
              " 'rlu_dmlab_explore_object_rewards_many',\n",
              " 'rlu_dmlab_rooms_select_nonmatching_object',\n",
              " 'rlu_dmlab_rooms_watermaze',\n",
              " 'rlu_dmlab_seekavoid_arena01',\n",
              " 'rlu_locomotion',\n",
              " 'rlu_rwrl',\n",
              " 'robomimic_ph',\n",
              " 'robonet',\n",
              " 'robosuite_panda_pick_place_can',\n",
              " 'rock_paper_scissors',\n",
              " 'rock_you',\n",
              " 's3o4d',\n",
              " 'salient_span_wikipedia',\n",
              " 'samsum',\n",
              " 'savee',\n",
              " 'scan',\n",
              " 'scene_parse150',\n",
              " 'schema_guided_dialogue',\n",
              " 'sci_tail',\n",
              " 'scicite',\n",
              " 'scientific_papers',\n",
              " 'scrolls',\n",
              " 'sentiment140',\n",
              " 'shapes3d',\n",
              " 'sift1m',\n",
              " 'simpte',\n",
              " 'siscore',\n",
              " 'smallnorb',\n",
              " 'smartwatch_gestures',\n",
              " 'snli',\n",
              " 'so2sat',\n",
              " 'speech_commands',\n",
              " 'spoken_digit',\n",
              " 'squad',\n",
              " 'squad_question_generation',\n",
              " 'stanford_dogs',\n",
              " 'stanford_online_products',\n",
              " 'star_cfq',\n",
              " 'starcraft_video',\n",
              " 'stl10',\n",
              " 'story_cloze',\n",
              " 'summscreen',\n",
              " 'sun397',\n",
              " 'super_glue',\n",
              " 'svhn_cropped',\n",
              " 'symmetric_solids',\n",
              " 'tao',\n",
              " 'ted_hrlr_translate',\n",
              " 'ted_multi_translate',\n",
              " 'tedlium',\n",
              " 'tf_flowers',\n",
              " 'the300w_lp',\n",
              " 'tiny_shakespeare',\n",
              " 'titanic',\n",
              " 'trec',\n",
              " 'trivia_qa',\n",
              " 'tydi_qa',\n",
              " 'uc_merced',\n",
              " 'ucf101',\n",
              " 'unified_qa',\n",
              " 'vctk',\n",
              " 'visual_domain_decathlon',\n",
              " 'voc',\n",
              " 'voxceleb',\n",
              " 'voxforge',\n",
              " 'waymo_open_dataset',\n",
              " 'web_graph',\n",
              " 'web_nlg',\n",
              " 'web_questions',\n",
              " 'wider_face',\n",
              " 'wiki40b',\n",
              " 'wiki_auto',\n",
              " 'wiki_bio',\n",
              " 'wiki_dialog',\n",
              " 'wiki_table_questions',\n",
              " 'wiki_table_text',\n",
              " 'wikiann',\n",
              " 'wikihow',\n",
              " 'wikipedia',\n",
              " 'wikipedia_toxicity_subtypes',\n",
              " 'wine_quality',\n",
              " 'winogrande',\n",
              " 'wit',\n",
              " 'wit_kaggle',\n",
              " 'wmt13_translate',\n",
              " 'wmt14_translate',\n",
              " 'wmt15_translate',\n",
              " 'wmt16_translate',\n",
              " 'wmt17_translate',\n",
              " 'wmt18_translate',\n",
              " 'wmt19_translate',\n",
              " 'wmt_t2t_translate',\n",
              " 'wmt_translate',\n",
              " 'wordnet',\n",
              " 'wsc273',\n",
              " 'xnli',\n",
              " 'xquad',\n",
              " 'xsum',\n",
              " 'xtreme_pawsx',\n",
              " 'xtreme_s',\n",
              " 'xtreme_xnli',\n",
              " 'yelp_polarity_reviews',\n",
              " 'yes_no',\n",
              " 'youtube_vis',\n",
              " 'huggingface:acronym_identification',\n",
              " 'huggingface:ade_corpus_v2',\n",
              " 'huggingface:adv_glue',\n",
              " 'huggingface:adversarial_qa',\n",
              " 'huggingface:aeslc',\n",
              " 'huggingface:afrikaans_ner_corpus',\n",
              " 'huggingface:ag_news',\n",
              " 'huggingface:ai2_arc',\n",
              " 'huggingface:air_dialogue',\n",
              " 'huggingface:ajgt_twitter_ar',\n",
              " 'huggingface:allegro_reviews',\n",
              " 'huggingface:allocine',\n",
              " 'huggingface:alt',\n",
              " 'huggingface:amazon_polarity',\n",
              " 'huggingface:amazon_reviews_multi',\n",
              " 'huggingface:amazon_us_reviews',\n",
              " 'huggingface:ambig_qa',\n",
              " 'huggingface:americas_nli',\n",
              " 'huggingface:ami',\n",
              " 'huggingface:amttl',\n",
              " 'huggingface:anli',\n",
              " 'huggingface:app_reviews',\n",
              " 'huggingface:aqua_rat',\n",
              " 'huggingface:aquamuse',\n",
              " 'huggingface:ar_cov19',\n",
              " 'huggingface:ar_res_reviews',\n",
              " 'huggingface:ar_sarcasm',\n",
              " 'huggingface:arabic_billion_words',\n",
              " 'huggingface:arabic_pos_dialect',\n",
              " 'huggingface:arabic_speech_corpus',\n",
              " 'huggingface:arcd',\n",
              " 'huggingface:arsentd_lev',\n",
              " 'huggingface:art',\n",
              " 'huggingface:arxiv_dataset',\n",
              " 'huggingface:ascent_kb',\n",
              " 'huggingface:aslg_pc12',\n",
              " 'huggingface:asnq',\n",
              " 'huggingface:asset',\n",
              " 'huggingface:assin',\n",
              " 'huggingface:assin2',\n",
              " 'huggingface:atomic',\n",
              " 'huggingface:autshumato',\n",
              " 'huggingface:babi_qa',\n",
              " 'huggingface:banking77',\n",
              " 'huggingface:bbaw_egyptian',\n",
              " 'huggingface:bbc_hindi_nli',\n",
              " 'huggingface:bc2gm_corpus',\n",
              " 'huggingface:beans',\n",
              " 'huggingface:best2009',\n",
              " 'huggingface:bianet',\n",
              " 'huggingface:bible_para',\n",
              " 'huggingface:big_patent',\n",
              " 'huggingface:bigbench',\n",
              " 'huggingface:billsum',\n",
              " 'huggingface:bing_coronavirus_query_set',\n",
              " 'huggingface:biomrc',\n",
              " 'huggingface:biosses',\n",
              " 'huggingface:biwi_kinect_head_pose',\n",
              " 'huggingface:blbooks',\n",
              " 'huggingface:blbooksgenre',\n",
              " 'huggingface:blended_skill_talk',\n",
              " 'huggingface:blimp',\n",
              " 'huggingface:blog_authorship_corpus',\n",
              " 'huggingface:bn_hate_speech',\n",
              " 'huggingface:bnl_newspapers',\n",
              " 'huggingface:bookcorpus',\n",
              " 'huggingface:bookcorpusopen',\n",
              " 'huggingface:boolq',\n",
              " 'huggingface:bprec',\n",
              " 'huggingface:break_data',\n",
              " 'huggingface:brwac',\n",
              " 'huggingface:bsd_ja_en',\n",
              " 'huggingface:bswac',\n",
              " 'huggingface:c3',\n",
              " 'huggingface:c4',\n",
              " 'huggingface:cail2018',\n",
              " 'huggingface:caner',\n",
              " 'huggingface:capes',\n",
              " 'huggingface:casino',\n",
              " 'huggingface:catalonia_independence',\n",
              " 'huggingface:cats_vs_dogs',\n",
              " 'huggingface:cawac',\n",
              " 'huggingface:cbt',\n",
              " 'huggingface:cc100',\n",
              " 'huggingface:cc_news',\n",
              " 'huggingface:ccaligned_multilingual',\n",
              " 'huggingface:cdsc',\n",
              " 'huggingface:cdt',\n",
              " 'huggingface:cedr',\n",
              " 'huggingface:cfq',\n",
              " 'huggingface:chr_en',\n",
              " 'huggingface:cifar10',\n",
              " 'huggingface:cifar100',\n",
              " 'huggingface:circa',\n",
              " 'huggingface:civil_comments',\n",
              " 'huggingface:clickbait_news_bg',\n",
              " 'huggingface:climate_fever',\n",
              " 'huggingface:clinc_oos',\n",
              " 'huggingface:clue',\n",
              " 'huggingface:cmrc2018',\n",
              " 'huggingface:cmu_hinglish_dog',\n",
              " 'huggingface:cnn_dailymail',\n",
              " 'huggingface:coached_conv_pref',\n",
              " 'huggingface:coarse_discourse',\n",
              " 'huggingface:codah',\n",
              " 'huggingface:code_search_net',\n",
              " 'huggingface:code_x_glue_cc_clone_detection_big_clone_bench',\n",
              " 'huggingface:code_x_glue_cc_clone_detection_poj104',\n",
              " 'huggingface:code_x_glue_cc_cloze_testing_all',\n",
              " 'huggingface:code_x_glue_cc_cloze_testing_maxmin',\n",
              " 'huggingface:code_x_glue_cc_code_completion_line',\n",
              " 'huggingface:code_x_glue_cc_code_completion_token',\n",
              " 'huggingface:code_x_glue_cc_code_refinement',\n",
              " 'huggingface:code_x_glue_cc_code_to_code_trans',\n",
              " 'huggingface:code_x_glue_cc_defect_detection',\n",
              " 'huggingface:code_x_glue_ct_code_to_text',\n",
              " 'huggingface:code_x_glue_tc_nl_code_search_adv',\n",
              " 'huggingface:code_x_glue_tc_text_to_code',\n",
              " 'huggingface:code_x_glue_tt_text_to_text',\n",
              " 'huggingface:com_qa',\n",
              " 'huggingface:common_gen',\n",
              " 'huggingface:common_language',\n",
              " 'huggingface:common_voice',\n",
              " 'huggingface:commonsense_qa',\n",
              " 'huggingface:competition_math',\n",
              " 'huggingface:compguesswhat',\n",
              " 'huggingface:conceptnet5',\n",
              " 'huggingface:conceptual_12m',\n",
              " 'huggingface:conceptual_captions',\n",
              " 'huggingface:conll2000',\n",
              " 'huggingface:conll2002',\n",
              " 'huggingface:conll2003',\n",
              " 'huggingface:conll2012_ontonotesv5',\n",
              " 'huggingface:conllpp',\n",
              " 'huggingface:consumer-finance-complaints',\n",
              " 'huggingface:conv_ai',\n",
              " 'huggingface:conv_ai_2',\n",
              " 'huggingface:conv_ai_3',\n",
              " 'huggingface:conv_questions',\n",
              " 'huggingface:coqa',\n",
              " 'huggingface:cord19',\n",
              " 'huggingface:cornell_movie_dialog',\n",
              " 'huggingface:cos_e',\n",
              " 'huggingface:cosmos_qa',\n",
              " 'huggingface:counter',\n",
              " 'huggingface:covid_qa_castorini',\n",
              " 'huggingface:covid_qa_deepset',\n",
              " 'huggingface:covid_qa_ucsd',\n",
              " 'huggingface:covid_tweets_japanese',\n",
              " 'huggingface:covost2',\n",
              " 'huggingface:cppe-5',\n",
              " 'huggingface:craigslist_bargains',\n",
              " 'huggingface:crawl_domain',\n",
              " 'huggingface:crd3',\n",
              " 'huggingface:crime_and_punish',\n",
              " 'huggingface:crows_pairs',\n",
              " 'huggingface:cryptonite',\n",
              " 'huggingface:cs_restaurants',\n",
              " 'huggingface:cuad',\n",
              " 'huggingface:curiosity_dialogs',\n",
              " 'huggingface:daily_dialog',\n",
              " 'huggingface:dane',\n",
              " 'huggingface:danish_political_comments',\n",
              " 'huggingface:dart',\n",
              " 'huggingface:datacommons_factcheck',\n",
              " 'huggingface:dbpedia_14',\n",
              " 'huggingface:dbrd',\n",
              " 'huggingface:deal_or_no_dialog',\n",
              " 'huggingface:definite_pronoun_resolution',\n",
              " 'huggingface:dengue_filipino',\n",
              " 'huggingface:dialog_re',\n",
              " 'huggingface:diplomacy_detection',\n",
              " 'huggingface:disaster_response_messages',\n",
              " 'huggingface:discofuse',\n",
              " 'huggingface:discovery',\n",
              " 'huggingface:disfl_qa',\n",
              " 'huggingface:doc2dial',\n",
              " 'huggingface:docred',\n",
              " 'huggingface:doqa',\n",
              " 'huggingface:dream',\n",
              " 'huggingface:drop',\n",
              " 'huggingface:duorc',\n",
              " 'huggingface:dutch_social',\n",
              " 'huggingface:dyk',\n",
              " 'huggingface:e2e_nlg',\n",
              " 'huggingface:e2e_nlg_cleaned',\n",
              " 'huggingface:ecb',\n",
              " 'huggingface:ecthr_cases',\n",
              " 'huggingface:eduge',\n",
              " 'huggingface:ehealth_kd',\n",
              " 'huggingface:eitb_parcc',\n",
              " 'huggingface:electricity_load_diagrams',\n",
              " 'huggingface:eli5',\n",
              " 'huggingface:eli5_category',\n",
              " 'huggingface:elkarhizketak',\n",
              " 'huggingface:emea',\n",
              " 'huggingface:emo',\n",
              " 'huggingface:emotion',\n",
              " 'huggingface:emotone_ar',\n",
              " 'huggingface:empathetic_dialogues',\n",
              " 'huggingface:enriched_web_nlg',\n",
              " 'huggingface:enwik8',\n",
              " 'huggingface:eraser_multi_rc',\n",
              " 'huggingface:esnli',\n",
              " 'huggingface:eth_py150_open',\n",
              " 'huggingface:ethos',\n",
              " 'huggingface:ett',\n",
              " 'huggingface:eu_regulatory_ir',\n",
              " 'huggingface:eurlex',\n",
              " 'huggingface:euronews',\n",
              " 'huggingface:europa_eac_tm',\n",
              " 'huggingface:europa_ecdc_tm',\n",
              " 'huggingface:europarl_bilingual',\n",
              " 'huggingface:event2Mind',\n",
              " 'huggingface:evidence_infer_treatment',\n",
              " 'huggingface:exams',\n",
              " 'huggingface:factckbr',\n",
              " 'huggingface:fake_news_english',\n",
              " 'huggingface:fake_news_filipino',\n",
              " 'huggingface:farsi_news',\n",
              " 'huggingface:fashion_mnist',\n",
              " 'huggingface:fever',\n",
              " 'huggingface:few_rel',\n",
              " 'huggingface:financial_phrasebank',\n",
              " 'huggingface:finer',\n",
              " 'huggingface:flores',\n",
              " 'huggingface:flue',\n",
              " 'huggingface:food101',\n",
              " 'huggingface:fquad',\n",
              " 'huggingface:freebase_qa',\n",
              " 'huggingface:gap',\n",
              " 'huggingface:gem',\n",
              " 'huggingface:generated_reviews_enth',\n",
              " 'huggingface:generics_kb',\n",
              " 'huggingface:german_legal_entity_recognition',\n",
              " 'huggingface:germaner',\n",
              " 'huggingface:germeval_14',\n",
              " 'huggingface:giga_fren',\n",
              " 'huggingface:gigaword',\n",
              " 'huggingface:glucose',\n",
              " 'huggingface:glue',\n",
              " 'huggingface:gnad10',\n",
              " 'huggingface:go_emotions',\n",
              " 'huggingface:gooaq',\n",
              " 'huggingface:google_wellformed_query',\n",
              " 'huggingface:grail_qa',\n",
              " 'huggingface:great_code',\n",
              " 'huggingface:greek_legal_code',\n",
              " 'huggingface:gsm8k',\n",
              " 'huggingface:guardian_authorship',\n",
              " 'huggingface:gutenberg_time',\n",
              " 'huggingface:hans',\n",
              " 'huggingface:hansards',\n",
              " 'huggingface:hard',\n",
              " 'huggingface:harem',\n",
              " 'huggingface:has_part',\n",
              " 'huggingface:hate_offensive',\n",
              " 'huggingface:hate_speech18',\n",
              " 'huggingface:hate_speech_filipino',\n",
              " 'huggingface:hate_speech_offensive',\n",
              " 'huggingface:hate_speech_pl',\n",
              " 'huggingface:hate_speech_portuguese',\n",
              " 'huggingface:hatexplain',\n",
              " 'huggingface:hausa_voa_ner',\n",
              " 'huggingface:hausa_voa_topics',\n",
              " 'huggingface:hda_nli_hindi',\n",
              " 'huggingface:head_qa',\n",
              " 'huggingface:health_fact',\n",
              " 'huggingface:hebrew_projectbenyehuda',\n",
              " 'huggingface:hebrew_sentiment',\n",
              " 'huggingface:hebrew_this_world',\n",
              " 'huggingface:hellaswag',\n",
              " 'huggingface:hendrycks_test',\n",
              " 'huggingface:hind_encorp',\n",
              " 'huggingface:hindi_discourse',\n",
              " 'huggingface:hippocorpus',\n",
              " 'huggingface:hkcancor',\n",
              " 'huggingface:hlgd',\n",
              " 'huggingface:hope_edi',\n",
              " 'huggingface:hotpot_qa',\n",
              " 'huggingface:hover',\n",
              " 'huggingface:hrenwac_para',\n",
              " 'huggingface:hrwac',\n",
              " 'huggingface:humicroedit',\n",
              " 'huggingface:hybrid_qa',\n",
              " 'huggingface:hyperpartisan_news_detection',\n",
              " 'huggingface:iapp_wiki_qa_squad',\n",
              " 'huggingface:id_clickbait',\n",
              " 'huggingface:id_liputan6',\n",
              " 'huggingface:id_nergrit_corpus',\n",
              " 'huggingface:id_newspapers_2018',\n",
              " 'huggingface:id_panl_bppt',\n",
              " 'huggingface:id_puisi',\n",
              " 'huggingface:igbo_english_machine_translation',\n",
              " 'huggingface:igbo_monolingual',\n",
              " 'huggingface:igbo_ner',\n",
              " 'huggingface:ilist',\n",
              " 'huggingface:imagenet-1k',\n",
              " 'huggingface:imagenet_sketch',\n",
              " 'huggingface:imdb',\n",
              " 'huggingface:imdb_urdu_reviews',\n",
              " 'huggingface:imppres',\n",
              " 'huggingface:indic_glue',\n",
              " 'huggingface:indonli',\n",
              " 'huggingface:indonlu',\n",
              " 'huggingface:inquisitive_qg',\n",
              " 'huggingface:interpress_news_category_tr',\n",
              " 'huggingface:interpress_news_category_tr_lite',\n",
              " 'huggingface:irc_disentangle',\n",
              " 'huggingface:isixhosa_ner_corpus',\n",
              " 'huggingface:isizulu_ner_corpus',\n",
              " 'huggingface:iwslt2017',\n",
              " 'huggingface:jeopardy',\n",
              " 'huggingface:jfleg',\n",
              " 'huggingface:jigsaw_toxicity_pred',\n",
              " 'huggingface:jigsaw_unintended_bias',\n",
              " 'huggingface:jnlpba',\n",
              " 'huggingface:journalists_questions',\n",
              " 'huggingface:kan_hope',\n",
              " 'huggingface:kannada_news',\n",
              " 'huggingface:kd_conv',\n",
              " 'huggingface:kde4',\n",
              " 'huggingface:kelm',\n",
              " 'huggingface:kilt_tasks',\n",
              " 'huggingface:kilt_wikipedia',\n",
              " 'huggingface:kinnews_kirnews',\n",
              " 'huggingface:klue',\n",
              " 'huggingface:kor_3i4k',\n",
              " 'huggingface:kor_hate',\n",
              " 'huggingface:kor_ner',\n",
              " 'huggingface:kor_nli',\n",
              " 'huggingface:kor_nlu',\n",
              " 'huggingface:kor_qpair',\n",
              " 'huggingface:kor_sae',\n",
              " 'huggingface:kor_sarcasm',\n",
              " 'huggingface:labr',\n",
              " 'huggingface:lama',\n",
              " 'huggingface:lambada',\n",
              " 'huggingface:large_spanish_corpus',\n",
              " 'huggingface:laroseda',\n",
              " 'huggingface:lc_quad',\n",
              " 'huggingface:lccc',\n",
              " 'huggingface:lener_br',\n",
              " 'huggingface:lex_glue',\n",
              " 'huggingface:liar',\n",
              " 'huggingface:librispeech_asr',\n",
              " 'huggingface:librispeech_lm',\n",
              " 'huggingface:limit',\n",
              " 'huggingface:lince',\n",
              " 'huggingface:linnaeus',\n",
              " 'huggingface:liveqa',\n",
              " 'huggingface:lj_speech',\n",
              " 'huggingface:lm1b',\n",
              " 'huggingface:lst20',\n",
              " 'huggingface:m_lama',\n",
              " 'huggingface:mac_morpho',\n",
              " 'huggingface:makhzan',\n",
              " 'huggingface:masakhaner',\n",
              " 'huggingface:math_dataset',\n",
              " 'huggingface:math_qa',\n",
              " 'huggingface:matinf',\n",
              " 'huggingface:mbpp',\n",
              " 'huggingface:mc4',\n",
              " 'huggingface:mc_taco',\n",
              " 'huggingface:md_gender_bias',\n",
              " 'huggingface:mdd',\n",
              " 'huggingface:med_hop',\n",
              " 'huggingface:medal',\n",
              " 'huggingface:medical_dialog',\n",
              " 'huggingface:medical_questions_pairs',\n",
              " 'huggingface:medmcqa',\n",
              " 'huggingface:menyo20k_mt',\n",
              " 'huggingface:meta_woz',\n",
              " 'huggingface:metashift',\n",
              " 'huggingface:metooma',\n",
              " 'huggingface:metrec',\n",
              " 'huggingface:miam',\n",
              " 'huggingface:mkb',\n",
              " 'huggingface:mkqa',\n",
              " 'huggingface:mlqa',\n",
              " 'huggingface:mlsum',\n",
              " 'huggingface:mnist',\n",
              " 'huggingface:mocha',\n",
              " 'huggingface:monash_tsf',\n",
              " 'huggingface:moroco',\n",
              " 'huggingface:movie_rationales',\n",
              " 'huggingface:mrqa',\n",
              " 'huggingface:ms_marco',\n",
              " 'huggingface:ms_terms',\n",
              " 'huggingface:msr_genomics_kbcomp',\n",
              " 'huggingface:msr_sqa',\n",
              " 'huggingface:msr_text_compression',\n",
              " 'huggingface:msr_zhen_translation_parity',\n",
              " 'huggingface:msra_ner',\n",
              " 'huggingface:mt_eng_vietnamese',\n",
              " 'huggingface:muchocine',\n",
              " 'huggingface:multi_booked',\n",
              " 'huggingface:multi_eurlex',\n",
              " 'huggingface:multi_news',\n",
              " 'huggingface:multi_nli',\n",
              " 'huggingface:multi_nli_mismatch',\n",
              " 'huggingface:multi_para_crawl',\n",
              " 'huggingface:multi_re_qa',\n",
              " 'huggingface:multi_woz_v22',\n",
              " 'huggingface:multi_x_science_sum',\n",
              " 'huggingface:multidoc2dial',\n",
              " 'huggingface:multilingual_librispeech',\n",
              " 'huggingface:mutual_friends',\n",
              " 'huggingface:mwsc',\n",
              " 'huggingface:myanmar_news',\n",
              " 'huggingface:narrativeqa',\n",
              " 'huggingface:narrativeqa_manual',\n",
              " 'huggingface:natural_questions',\n",
              " 'huggingface:ncbi_disease',\n",
              " 'huggingface:nchlt',\n",
              " 'huggingface:ncslgr',\n",
              " 'huggingface:nell',\n",
              " 'huggingface:neural_code_search',\n",
              " 'huggingface:news_commentary',\n",
              " 'huggingface:newsgroup',\n",
              " 'huggingface:newsph',\n",
              " 'huggingface:newsph_nli',\n",
              " 'huggingface:newspop',\n",
              " 'huggingface:newsqa',\n",
              " 'huggingface:newsroom',\n",
              " 'huggingface:nkjp-ner',\n",
              " 'huggingface:nli_tr',\n",
              " 'huggingface:nlu_evaluation_data',\n",
              " 'huggingface:norec',\n",
              " 'huggingface:norne',\n",
              " 'huggingface:norwegian_ner',\n",
              " 'huggingface:nq_open',\n",
              " 'huggingface:nsmc',\n",
              " 'huggingface:numer_sense',\n",
              " 'huggingface:numeric_fused_head',\n",
              " 'huggingface:oclar',\n",
              " 'huggingface:offcombr',\n",
              " 'huggingface:offenseval2020_tr',\n",
              " 'huggingface:offenseval_dravidian',\n",
              " 'huggingface:ofis_publik',\n",
              " 'huggingface:ohsumed',\n",
              " 'huggingface:ollie',\n",
              " 'huggingface:omp',\n",
              " 'huggingface:onestop_english',\n",
              " 'huggingface:onestop_qa',\n",
              " 'huggingface:open_subtitles',\n",
              " 'huggingface:openai_humaneval',\n",
              " 'huggingface:openbookqa',\n",
              " 'huggingface:openslr',\n",
              " 'huggingface:openwebtext',\n",
              " 'huggingface:opinosis',\n",
              " 'huggingface:opus100',\n",
              " 'huggingface:opus_books',\n",
              " 'huggingface:opus_dgt',\n",
              " 'huggingface:opus_dogc',\n",
              " 'huggingface:opus_elhuyar',\n",
              " 'huggingface:opus_euconst',\n",
              " 'huggingface:opus_finlex',\n",
              " 'huggingface:opus_fiskmo',\n",
              " 'huggingface:opus_gnome',\n",
              " 'huggingface:opus_infopankki',\n",
              " 'huggingface:opus_memat',\n",
              " 'huggingface:opus_montenegrinsubs',\n",
              " 'huggingface:opus_openoffice',\n",
              " 'huggingface:opus_paracrawl',\n",
              " 'huggingface:opus_rf',\n",
              " 'huggingface:opus_tedtalks',\n",
              " 'huggingface:opus_ubuntu',\n",
              " 'huggingface:opus_wikipedia',\n",
              " 'huggingface:opus_xhosanavy',\n",
              " 'huggingface:orange_sum',\n",
              " 'huggingface:oscar',\n",
              " 'huggingface:para_crawl',\n",
              " 'huggingface:para_pat',\n",
              " 'huggingface:parsinlu_reading_comprehension',\n",
              " 'huggingface:pass',\n",
              " 'huggingface:paws',\n",
              " 'huggingface:paws-x',\n",
              " 'huggingface:pec',\n",
              " 'huggingface:peer_read',\n",
              " 'huggingface:peoples_daily_ner',\n",
              " 'huggingface:per_sent',\n",
              " 'huggingface:persian_ner',\n",
              " 'huggingface:pg19',\n",
              " 'huggingface:php',\n",
              " 'huggingface:piaf',\n",
              " 'huggingface:pib',\n",
              " 'huggingface:piqa',\n",
              " 'huggingface:pn_summary',\n",
              " 'huggingface:poem_sentiment',\n",
              " 'huggingface:polemo2',\n",
              " 'huggingface:poleval2019_cyberbullying',\n",
              " 'huggingface:poleval2019_mt',\n",
              " 'huggingface:polsum',\n",
              " 'huggingface:polyglot_ner',\n",
              " 'huggingface:prachathai67k',\n",
              " 'huggingface:pragmeval',\n",
              " 'huggingface:proto_qa',\n",
              " 'huggingface:psc',\n",
              " 'huggingface:ptb_text_only',\n",
              " 'huggingface:pubmed',\n",
              " 'huggingface:pubmed_qa',\n",
              " 'huggingface:py_ast',\n",
              " 'huggingface:qa4mre',\n",
              " 'huggingface:qa_srl',\n",
              " 'huggingface:qa_zre',\n",
              " 'huggingface:qangaroo',\n",
              " 'huggingface:qanta',\n",
              " 'huggingface:qasc',\n",
              " 'huggingface:qasper',\n",
              " 'huggingface:qed',\n",
              " 'huggingface:qed_amara',\n",
              " 'huggingface:quac',\n",
              " 'huggingface:quail',\n",
              " 'huggingface:quarel',\n",
              " 'huggingface:quartz',\n",
              " 'huggingface:quickdraw',\n",
              " 'huggingface:quora',\n",
              " 'huggingface:quoref',\n",
              " 'huggingface:race',\n",
              " 'huggingface:re_dial',\n",
              " 'huggingface:reasoning_bg',\n",
              " 'huggingface:recipe_nlg',\n",
              " 'huggingface:reclor',\n",
              " 'huggingface:red_caps',\n",
              " 'huggingface:reddit',\n",
              " 'huggingface:reddit_tifu',\n",
              " 'huggingface:refresd',\n",
              " 'huggingface:reuters21578',\n",
              " 'huggingface:riddle_sense',\n",
              " 'huggingface:ro_sent',\n",
              " 'huggingface:ro_sts',\n",
              " 'huggingface:ro_sts_parallel',\n",
              " 'huggingface:roman_urdu',\n",
              " 'huggingface:roman_urdu_hate_speech',\n",
              " 'huggingface:ronec',\n",
              " 'huggingface:ropes',\n",
              " 'huggingface:rotten_tomatoes',\n",
              " 'huggingface:russian_super_glue',\n",
              " 'huggingface:rvl_cdip',\n",
              " 'huggingface:s2orc',\n",
              " 'huggingface:samsum',\n",
              " 'huggingface:sanskrit_classic',\n",
              " 'huggingface:saudinewsnet',\n",
              " 'huggingface:sberquad',\n",
              " 'huggingface:sbu_captions',\n",
              " 'huggingface:scan',\n",
              " 'huggingface:scb_mt_enth_2020',\n",
              " 'huggingface:scene_parse_150',\n",
              " 'huggingface:schema_guided_dstc8',\n",
              " 'huggingface:scicite',\n",
              " 'huggingface:scielo',\n",
              " 'huggingface:scientific_papers',\n",
              " 'huggingface:scifact',\n",
              " 'huggingface:sciq',\n",
              " 'huggingface:scitail',\n",
              " 'huggingface:scitldr',\n",
              " 'huggingface:search_qa',\n",
              " 'huggingface:sede',\n",
              " 'huggingface:selqa',\n",
              " 'huggingface:sem_eval_2010_task_8',\n",
              " 'huggingface:sem_eval_2014_task_1',\n",
              " 'huggingface:sem_eval_2018_task_1',\n",
              " 'huggingface:sem_eval_2020_task_11',\n",
              " 'huggingface:sent_comp',\n",
              " 'huggingface:senti_lex',\n",
              " 'huggingface:senti_ws',\n",
              " 'huggingface:sentiment140',\n",
              " 'huggingface:sepedi_ner',\n",
              " 'huggingface:sesotho_ner_corpus',\n",
              " 'huggingface:setimes',\n",
              " 'huggingface:setswana_ner_corpus',\n",
              " 'huggingface:sharc',\n",
              " 'huggingface:sharc_modified',\n",
              " 'huggingface:sick',\n",
              " 'huggingface:silicone',\n",
              " 'huggingface:simple_questions_v2',\n",
              " 'huggingface:siswati_ner_corpus',\n",
              " 'huggingface:smartdata',\n",
              " 'huggingface:sms_spam',\n",
              " 'huggingface:snips_built_in_intents',\n",
              " 'huggingface:snli',\n",
              " 'huggingface:snow_simplified_japanese_corpus',\n",
              " 'huggingface:so_stacksample',\n",
              " 'huggingface:social_bias_frames',\n",
              " 'huggingface:social_i_qa',\n",
              " 'huggingface:sofc_materials_articles',\n",
              " 'huggingface:sogou_news',\n",
              " 'huggingface:spanish_billion_words',\n",
              " 'huggingface:spc',\n",
              " 'huggingface:species_800',\n",
              " 'huggingface:speech_commands',\n",
              " 'huggingface:spider',\n",
              " 'huggingface:squad',\n",
              " 'huggingface:squad_adversarial',\n",
              " 'huggingface:squad_es',\n",
              " 'huggingface:squad_it',\n",
              " 'huggingface:squad_kor_v1',\n",
              " 'huggingface:squad_kor_v2',\n",
              " 'huggingface:squad_v1_pt',\n",
              " 'huggingface:squad_v2',\n",
              " 'huggingface:squadshifts',\n",
              " 'huggingface:srwac',\n",
              " 'huggingface:sst',\n",
              " 'huggingface:stereoset',\n",
              " 'huggingface:story_cloze',\n",
              " 'huggingface:stsb_mt_sv',\n",
              " 'huggingface:stsb_multi_mt',\n",
              " 'huggingface:style_change_detection',\n",
              " 'huggingface:subjqa',\n",
              " 'huggingface:super_glue',\n",
              " 'huggingface:superb',\n",
              " 'huggingface:svhn',\n",
              " 'huggingface:swag',\n",
              " 'huggingface:swahili',\n",
              " 'huggingface:swahili_news',\n",
              " 'huggingface:swda',\n",
              " 'huggingface:swedish_medical_ner',\n",
              " 'huggingface:swedish_ner_corpus',\n",
              " 'huggingface:swedish_reviews',\n",
              " 'huggingface:swiss_judgment_prediction',\n",
              " 'huggingface:tab_fact',\n",
              " 'huggingface:tamilmixsentiment',\n",
              " 'huggingface:tanzil',\n",
              " 'huggingface:tapaco',\n",
              " 'huggingface:tashkeela',\n",
              " 'huggingface:taskmaster1',\n",
              " 'huggingface:taskmaster2',\n",
              " 'huggingface:taskmaster3',\n",
              " 'huggingface:tatoeba',\n",
              " 'huggingface:ted_hrlr',\n",
              " 'huggingface:ted_iwlst2013',\n",
              " 'huggingface:ted_multi',\n",
              " 'huggingface:ted_talks_iwslt',\n",
              " 'huggingface:telugu_books',\n",
              " 'huggingface:telugu_news',\n",
              " 'huggingface:tep_en_fa_para',\n",
              " 'huggingface:text2log',\n",
              " 'huggingface:textvqa',\n",
              " 'huggingface:thai_toxicity_tweet',\n",
              " 'huggingface:thainer',\n",
              " 'huggingface:thaiqa_squad',\n",
              " 'huggingface:thaisum',\n",
              " 'huggingface:the_pile',\n",
              " 'huggingface:the_pile_books3',\n",
              " 'huggingface:the_pile_openwebtext2',\n",
              " 'huggingface:the_pile_stack_exchange',\n",
              " 'huggingface:tilde_model',\n",
              " 'huggingface:time_dial',\n",
              " 'huggingface:times_of_india_news_headlines',\n",
              " 'huggingface:timit_asr',\n",
              " 'huggingface:tiny_shakespeare',\n",
              " 'huggingface:tlc',\n",
              " 'huggingface:tmu_gfm_dataset',\n",
              " 'huggingface:tne',\n",
              " 'huggingface:told-br',\n",
              " 'huggingface:totto',\n",
              " 'huggingface:trec',\n",
              " 'huggingface:trivia_qa',\n",
              " 'huggingface:truthful_qa',\n",
              " 'huggingface:tsac',\n",
              " 'huggingface:ttc4900',\n",
              " 'huggingface:tunizi',\n",
              " 'huggingface:tuple_ie',\n",
              " 'huggingface:turk',\n",
              " 'huggingface:turkic_xwmt',\n",
              " 'huggingface:turkish_movie_sentiment',\n",
              " 'huggingface:turkish_ner',\n",
              " ...]"
            ]
          },
          "metadata": {},
          "execution_count": 3
        }
      ],
      "source": [
        "tfds.list_builders()"
      ]
    },
    {
      "cell_type": "markdown",
      "source": [
        "## Dataset Info"
      ],
      "metadata": {
        "id": "q_PHbk5R9PqU"
      }
    },
    {
      "cell_type": "code",
      "execution_count": 4,
      "metadata": {
        "colab": {
          "base_uri": "https://localhost:8080/"
        },
        "id": "VRxGbARQrIcR",
        "outputId": "8f73661e-d28d-4a5f-d5e3-55576145f03d"
      },
      "outputs": [
        {
          "output_type": "execute_result",
          "data": {
            "text/plain": [
              "tfds.core.DatasetInfo(\n",
              "    name='rock_paper_scissors',\n",
              "    full_name='rock_paper_scissors/3.0.0',\n",
              "    description=\"\"\"\n",
              "    Images of hands playing rock, paper, scissor game.\n",
              "    \"\"\",\n",
              "    homepage='http://laurencemoroney.com/rock-paper-scissors-dataset',\n",
              "    data_path='~/tensorflow_datasets/rock_paper_scissors/3.0.0',\n",
              "    file_format=tfrecord,\n",
              "    download_size=219.53 MiB,\n",
              "    dataset_size=219.23 MiB,\n",
              "    features=FeaturesDict({\n",
              "        'image': Image(shape=(300, 300, 3), dtype=tf.uint8),\n",
              "        'label': ClassLabel(shape=(), dtype=tf.int64, num_classes=3),\n",
              "    }),\n",
              "    supervised_keys=('image', 'label'),\n",
              "    disable_shuffling=False,\n",
              "    splits={\n",
              "        'test': <SplitInfo num_examples=372, num_shards=1>,\n",
              "        'train': <SplitInfo num_examples=2520, num_shards=2>,\n",
              "    },\n",
              "    citation=\"\"\"@ONLINE {rps,\n",
              "    author = \"Laurence Moroney\",\n",
              "    title = \"Rock, Paper, Scissors Dataset\",\n",
              "    month = \"feb\",\n",
              "    year = \"2019\",\n",
              "    url = \"http://laurencemoroney.com/rock-paper-scissors-dataset\"\n",
              "    }\"\"\",\n",
              ")"
            ]
          },
          "metadata": {},
          "execution_count": 4
        }
      ],
      "source": [
        "builder = tfds.builder('rock_paper_scissors')\n",
        "info = builder.info\n",
        "\n",
        "info"
      ]
    },
    {
      "cell_type": "markdown",
      "source": [
        "## Preparing and training dataset with basic approach"
      ],
      "metadata": {
        "id": "8xruLqrf-K3f"
      }
    },
    {
      "cell_type": "code",
      "execution_count": 5,
      "metadata": {
        "id": "C1We0TMOrQzr"
      },
      "outputs": [],
      "source": [
        "ds_train = tfds.load(name=\"rock_paper_scissors\", split=\"train\")\n",
        "ds_test = tfds.load(name=\"rock_paper_scissors\", split=\"test\")"
      ]
    },
    {
      "cell_type": "code",
      "execution_count": 6,
      "metadata": {
        "colab": {
          "base_uri": "https://localhost:8080/",
          "height": 568
        },
        "id": "o1OwlGsPrdGD",
        "outputId": "c2d1a985-c83c-440a-fff9-03ae61a10b44"
      },
      "outputs": [
        {
          "output_type": "stream",
          "name": "stdout",
          "text": [
            "WARNING: For consistency with `tfds.load`, the `tfds.show_examples` signature has been modified from (info, ds) to (ds, info).\n",
            "The old signature is deprecated and will be removed. Please change your call to `tfds.show_examples(ds, info)`\n"
          ]
        },
        {
          "output_type": "display_data",
          "data": {
            "text/plain": [
              "<Figure size 648x648 with 9 Axes>"
            ],
            "image/png": "[encoded data removed]"
          },
          "metadata": {}
        }
      ],
      "source": [
        "fig = tfds.show_examples(info, ds_train)"
      ]
    },
    {
      "cell_type": "code",
      "execution_count": 7,
      "metadata": {
        "id": "9OojA4K9rp_P"
      },
      "outputs": [],
      "source": [
        "train_images = np.array([example['image'].numpy()[:,:,0] for example in ds_train])\n",
        "train_labels = np.array([example['label'].numpy() for example in ds_train])\n",
        "\n",
        "test_images = np.array([example['image'].numpy()[:,:,0] for example in ds_test])\n",
        "test_labels = np.array([example['label'].numpy() for example in ds_test])"
      ]
    },
    {
      "cell_type": "code",
      "execution_count": 8,
      "metadata": {
        "id": "av-VOJy1sUHn"
      },
      "outputs": [],
      "source": [
        "train_images = train_images.reshape(2520, 300, 300, 1)\n",
        "test_images = test_images.reshape(372, 300, 300, 1)\n",
        "\n",
        "train_images = train_images.astype('float32')\n",
        "test_images = test_images.astype('float32')\n",
        "\n",
        "train_images /= 255\n",
        "test_images /= 255"
      ]
    },
    {
      "cell_type": "code",
      "execution_count": null,
      "metadata": {
        "colab": {
          "base_uri": "https://localhost:8080/"
        },
        "id": "a70YDTdZsiny",
        "outputId": "6a187a86-236e-4d52-94b9-03a6b8cac2dc"
      },
      "outputs": [
        {
          "name": "stdout",
          "output_type": "stream",
          "text": [
            "Epoch 1/20\n",
            "79/79 [==============================] - 2s 17ms/step - loss: 21.6934 - accuracy: 0.4385\n",
            "Epoch 2/20\n",
            "79/79 [==============================] - 1s 17ms/step - loss: 2.6423 - accuracy: 0.6520\n",
            "Epoch 3/20\n",
            "79/79 [==============================] - 1s 16ms/step - loss: 1.7840 - accuracy: 0.6425\n",
            "Epoch 4/20\n",
            "79/79 [==============================] - 1s 17ms/step - loss: 0.4270 - accuracy: 0.8524\n",
            "Epoch 5/20\n",
            "79/79 [==============================] - 1s 16ms/step - loss: 0.7478 - accuracy: 0.7802\n",
            "Epoch 6/20\n",
            "79/79 [==============================] - 1s 17ms/step - loss: 0.4071 - accuracy: 0.8623\n",
            "Epoch 7/20\n",
            "79/79 [==============================] - 1s 17ms/step - loss: 0.3061 - accuracy: 0.8960\n",
            "Epoch 8/20\n",
            "79/79 [==============================] - 1s 16ms/step - loss: 0.2304 - accuracy: 0.9159\n",
            "Epoch 9/20\n",
            "79/79 [==============================] - 1s 17ms/step - loss: 0.6859 - accuracy: 0.8226\n",
            "Epoch 10/20\n",
            "79/79 [==============================] - 1s 17ms/step - loss: 0.4017 - accuracy: 0.8556\n",
            "Epoch 11/20\n",
            "79/79 [==============================] - 1s 17ms/step - loss: 0.1589 - accuracy: 0.9409\n",
            "Epoch 12/20\n",
            "79/79 [==============================] - 1s 17ms/step - loss: 0.1965 - accuracy: 0.9270\n",
            "Epoch 13/20\n",
            "79/79 [==============================] - 1s 17ms/step - loss: 0.3002 - accuracy: 0.9000\n",
            "Epoch 14/20\n",
            "79/79 [==============================] - 1s 18ms/step - loss: 0.3065 - accuracy: 0.8937\n",
            "Epoch 15/20\n",
            "79/79 [==============================] - 2s 20ms/step - loss: 0.1492 - accuracy: 0.9476\n",
            "Epoch 16/20\n",
            "79/79 [==============================] - 1s 18ms/step - loss: 0.1102 - accuracy: 0.9611\n",
            "Epoch 17/20\n",
            "79/79 [==============================] - 1s 17ms/step - loss: 0.0544 - accuracy: 0.9825\n",
            "Epoch 18/20\n",
            "79/79 [==============================] - 1s 17ms/step - loss: 0.3694 - accuracy: 0.8909\n",
            "Epoch 19/20\n",
            "79/79 [==============================] - 1s 17ms/step - loss: 0.1958 - accuracy: 0.9286\n",
            "Epoch 20/20\n",
            "79/79 [==============================] - 1s 17ms/step - loss: 0.2712 - accuracy: 0.9103\n"
          ]
        },
        {
          "data": {
            "text/plain": [
              "<keras.callbacks.History at 0x7f7fb5362750>"
            ]
          },
          "execution_count": 21,
          "metadata": {},
          "output_type": "execute_result"
        }
      ],
      "source": [
        "model = keras.Sequential([\n",
        "  keras.layers.Flatten(),\n",
        "  keras.layers.Dense(512, activation='relu'),\n",
        "  keras.layers.Dense(256, activation='relu'),\n",
        "  keras.layers.Dense(3, activation='softmax')\n",
        "])\n",
        "\n",
        "model.compile(optimizer='adam',\n",
        "              loss=keras.losses.SparseCategoricalCrossentropy(),\n",
        "              metrics=['accuracy'])\n",
        "\n",
        "model.fit(train_images, train_labels, epochs=20, batch_size=32)"
      ]
    },
    {
      "cell_type": "code",
      "execution_count": null,
      "metadata": {
        "colab": {
          "base_uri": "https://localhost:8080/"
        },
        "id": "j4vZUOcwspts",
        "outputId": "f6b8d9d7-d2e7-456e-f80a-b01f5a2c6287"
      },
      "outputs": [
        {
          "name": "stdout",
          "output_type": "stream",
          "text": [
            "12/12 [==============================] - 0s 8ms/step - loss: 2.5260 - accuracy: 0.4543\n"
          ]
        },
        {
          "data": {
            "text/plain": [
              "[2.52595591545105, 0.4543010890483856]"
            ]
          },
          "execution_count": 22,
          "metadata": {},
          "output_type": "execute_result"
        }
      ],
      "source": [
        "model.evaluate(test_images, test_labels)"
      ]
    },
    {
      "cell_type": "markdown",
      "source": [
        "## Using CNN"
      ],
      "metadata": {
        "id": "YjrXAkNZ-SZN"
      }
    },
    {
      "cell_type": "code",
      "execution_count": 26,
      "metadata": {
        "colab": {
          "base_uri": "https://localhost:8080/"
        },
        "id": "47frvcTqvlwM",
        "outputId": "d88464d0-6fb3-44a4-a54b-ed012b128d72"
      },
      "outputs": [
        {
          "output_type": "stream",
          "name": "stdout",
          "text": [
            "Epoch 1/15\n",
            "79/79 [==============================] - 14s 178ms/step - loss: 2.9084 - accuracy: 0.7385\n",
            "Epoch 2/15\n",
            "79/79 [==============================] - 13s 162ms/step - loss: 0.2523 - accuracy: 0.9599\n",
            "Epoch 3/15\n",
            "79/79 [==============================] - 13s 162ms/step - loss: 0.0219 - accuracy: 0.9960\n",
            "Epoch 4/15\n",
            "79/79 [==============================] - 13s 162ms/step - loss: 0.1511 - accuracy: 0.9698\n",
            "Epoch 5/15\n",
            "79/79 [==============================] - 13s 162ms/step - loss: 6.1906e-04 - accuracy: 1.0000\n",
            "Epoch 7/15\n",
            "79/79 [==============================] - 13s 162ms/step - loss: 2.8506e-04 - accuracy: 1.0000\n",
            "Epoch 8/15\n",
            "79/79 [==============================] - 13s 162ms/step - loss: 2.3469e-04 - accuracy: 1.0000\n",
            "Epoch 9/15\n",
            "79/79 [==============================] - 13s 162ms/step - loss: 1.4100e-04 - accuracy: 1.0000\n",
            "Epoch 10/15\n",
            "79/79 [==============================] - 13s 162ms/step - loss: 1.1529e-04 - accuracy: 1.0000\n",
            "Epoch 11/15\n",
            "79/79 [==============================] - 13s 162ms/step - loss: 8.9891e-05 - accuracy: 1.0000\n",
            "Epoch 12/15\n",
            "79/79 [==============================] - 13s 162ms/step - loss: 7.7349e-05 - accuracy: 1.0000\n",
            "Epoch 13/15\n",
            "79/79 [==============================] - 13s 162ms/step - loss: 7.2143e-05 - accuracy: 1.0000\n",
            "Epoch 14/15\n",
            "79/79 [==============================] - 13s 162ms/step - loss: 6.0572e-05 - accuracy: 1.0000\n",
            "Epoch 15/15\n",
            "79/79 [==============================] - 13s 162ms/step - loss: 5.3229e-05 - accuracy: 1.0000\n"
          ]
        },
        {
          "output_type": "execute_result",
          "data": {
            "text/plain": [
              "<keras.callbacks.History at 0x7f7fb4273f90>"
            ]
          },
          "metadata": {},
          "execution_count": 26
        }
      ],
      "source": [
        "model = keras.Sequential([\n",
        "   keras.layers.Conv2D(64, 3, activation='relu', input_shape=(300,300,1)),\n",
        "   keras.layers.Conv2D(32, 3, activation='relu'),\n",
        "   keras.layers.Flatten(),\n",
        "   keras.layers.Dense(3, activation='softmax')\n",
        "])\n",
        "\n",
        "model.compile(optimizer='adam',\n",
        "              loss=keras.losses.SparseCategoricalCrossentropy(),\n",
        "              metrics=['accuracy'])\n",
        "\n",
        "model.fit(train_images, train_labels, epochs=15, batch_size=32)"
      ]
    },
    {
      "cell_type": "code",
      "execution_count": 27,
      "metadata": {
        "id": "S7uU2nqmvqDN",
        "colab": {
          "base_uri": "https://localhost:8080/"
        },
        "outputId": "0bd97759-3bac-4e12-9abf-6f80a5d8a3f5"
      },
      "outputs": [
        {
          "output_type": "stream",
          "name": "stdout",
          "text": [
            "12/12 [==============================] - 1s 105ms/step - loss: 2.3305 - accuracy: 0.5672\n"
          ]
        },
        {
          "output_type": "execute_result",
          "data": {
            "text/plain": [
              "[2.3305344581604004, 0.5672042965888977]"
            ]
          },
          "metadata": {},
          "execution_count": 27
        }
      ],
      "source": [
        "model.evaluate(test_images, test_labels)"
      ]
    },
    {
      "cell_type": "markdown",
      "source": [
        "As can be seen, the CNN is slightly better. However we will try to optimize this"
      ],
      "metadata": {
        "id": "HLS8Zg0z-VO9"
      }
    },
    {
      "cell_type": "code",
      "source": [
        "model = keras.Sequential([\n",
        "   keras.layers.AveragePooling2D(6,3, input_shape=(300,300,1)),\n",
        "   keras.layers.Conv2D(64, 3, activation='relu'),\n",
        "   keras.layers.Conv2D(32, 3, activation='relu'),\n",
        "   keras.layers.MaxPool2D(2,2),\n",
        "   keras.layers.Dropout(0.5),\n",
        "   keras.layers.Flatten(),\n",
        "   keras.layers.Dense(128, activation='relu'),\n",
        "   keras.layers.Dense(3, activation='softmax')\n",
        "])\n",
        "\n",
        "model.compile(optimizer='adam',\n",
        "              loss=keras.losses.SparseCategoricalCrossentropy(),\n",
        "              metrics=['accuracy'])\n",
        "\n",
        "model.fit(train_images, train_labels, epochs=20, batch_size=32)"
      ],
      "metadata": {
        "colab": {
          "base_uri": "https://localhost:8080/"
        },
        "id": "lxTCQVTUyDks",
        "outputId": "2cf3abc0-17cb-4aae-e14e-c853254c2639"
      },
      "execution_count": 28,
      "outputs": [
        {
          "output_type": "stream",
          "name": "stdout",
          "text": [
            "Epoch 1/20\n",
            "79/79 [==============================] - 3s 32ms/step - loss: 0.8266 - accuracy: 0.7056\n",
            "Epoch 2/20\n",
            "79/79 [==============================] - 2s 29ms/step - loss: 0.0900 - accuracy: 0.9817\n",
            "Epoch 3/20\n",
            "79/79 [==============================] - 2s 29ms/step - loss: 0.0165 - accuracy: 0.9956\n",
            "Epoch 4/20\n",
            "79/79 [==============================] - 2s 29ms/step - loss: 0.0090 - accuracy: 0.9980\n",
            "Epoch 5/20\n",
            "79/79 [==============================] - 2s 29ms/step - loss: 0.0043 - accuracy: 0.9992\n",
            "Epoch 6/20\n",
            "79/79 [==============================] - 2s 29ms/step - loss: 0.0043 - accuracy: 0.9996\n",
            "Epoch 7/20\n",
            "79/79 [==============================] - 2s 29ms/step - loss: 0.0024 - accuracy: 1.0000\n",
            "Epoch 8/20\n",
            "79/79 [==============================] - 2s 29ms/step - loss: 0.0026 - accuracy: 0.9996\n",
            "Epoch 9/20\n",
            "79/79 [==============================] - 2s 29ms/step - loss: 7.9811e-04 - accuracy: 1.0000\n",
            "Epoch 10/20\n",
            "79/79 [==============================] - 2s 29ms/step - loss: 3.7054e-04 - accuracy: 1.0000\n",
            "Epoch 11/20\n",
            "79/79 [==============================] - 2s 29ms/step - loss: 0.0026 - accuracy: 0.9988\n",
            "Epoch 12/20\n",
            "79/79 [==============================] - 2s 29ms/step - loss: 0.0061 - accuracy: 1.0000\n",
            "Epoch 13/20\n",
            "79/79 [==============================] - 2s 29ms/step - loss: 2.5673e-04 - accuracy: 1.0000\n",
            "Epoch 14/20\n",
            "79/79 [==============================] - 2s 29ms/step - loss: 4.3597e-04 - accuracy: 1.0000\n",
            "Epoch 15/20\n",
            "79/79 [==============================] - 2s 29ms/step - loss: 3.2979e-04 - accuracy: 1.0000\n",
            "Epoch 16/20\n",
            "79/79 [==============================] - 2s 29ms/step - loss: 2.8433e-04 - accuracy: 1.0000\n",
            "Epoch 17/20\n",
            "79/79 [==============================] - 2s 29ms/step - loss: 3.7381e-04 - accuracy: 1.0000\n",
            "Epoch 18/20\n",
            "79/79 [==============================] - 2s 29ms/step - loss: 1.7288e-04 - accuracy: 1.0000\n",
            "Epoch 19/20\n",
            "79/79 [==============================] - 2s 29ms/step - loss: 5.8599e-05 - accuracy: 1.0000\n",
            "Epoch 20/20\n",
            "79/79 [==============================] - 2s 29ms/step - loss: 8.6458e-05 - accuracy: 1.0000\n"
          ]
        },
        {
          "output_type": "execute_result",
          "data": {
            "text/plain": [
              "<keras.callbacks.History at 0x7f7fb53f47d0>"
            ]
          },
          "metadata": {},
          "execution_count": 28
        }
      ]
    },
    {
      "cell_type": "code",
      "source": [
        "model.evaluate(test_images,test_labels)"
      ],
      "metadata": {
        "colab": {
          "base_uri": "https://localhost:8080/"
        },
        "id": "cMD_aEiiyILg",
        "outputId": "7071ea8b-caf2-401a-b9e5-c21ec96e1cd3"
      },
      "execution_count": 29,
      "outputs": [
        {
          "output_type": "stream",
          "name": "stdout",
          "text": [
            "12/12 [==============================] - 1s 28ms/step - loss: 2.1890 - accuracy: 0.6855\n"
          ]
        },
        {
          "output_type": "execute_result",
          "data": {
            "text/plain": [
              "[2.1889729499816895, 0.6854838728904724]"
            ]
          },
          "metadata": {},
          "execution_count": 29
        }
      ]
    },
    {
      "cell_type": "markdown",
      "source": [
        "Using AveragePooling and MaxPooling we have been able to get the accuracy up to 68.5%. Now tuning different parameters, we will see the effects they have on the accuracy"
      ],
      "metadata": {
        "id": "paRTVOWD-kuU"
      }
    },
    {
      "cell_type": "markdown",
      "source": [
        "## Part B - Activation Function"
      ],
      "metadata": {
        "id": "MFmkN9lW-vJ4"
      }
    },
    {
      "cell_type": "markdown",
      "source": [
        "We are changing the activation function from relu to sigmoid and will identify the difference"
      ],
      "metadata": {
        "id": "thqPNo3K_79_"
      }
    },
    {
      "cell_type": "code",
      "source": [
        "model = keras.Sequential([\n",
        "   keras.layers.Conv2D(64, 3, activation='sigmoid', input_shape=(300,300,1)),\n",
        "   keras.layers.Conv2D(32, 3, activation='sigmoid'),\n",
        "   keras.layers.Flatten(),\n",
        "   keras.layers.Dense(3, activation='softmax')\n",
        "])\n",
        "\n",
        "model.compile(optimizer='adam',\n",
        "              loss=keras.losses.SparseCategoricalCrossentropy(),\n",
        "              metrics=['accuracy'])\n",
        "\n",
        "model.fit(train_images, train_labels, epochs=20, batch_size=32)"
      ],
      "metadata": {
        "colab": {
          "base_uri": "https://localhost:8080/"
        },
        "id": "seFCPG_Cy8_a",
        "outputId": "5583b093-0c63-4082-9521-4855a3b47c1a"
      },
      "execution_count": 9,
      "outputs": [
        {
          "output_type": "stream",
          "name": "stdout",
          "text": [
            "Epoch 1/20\n",
            "79/79 [==============================] - 24s 175ms/step - loss: 94.2928 - accuracy: 0.3337\n",
            "Epoch 2/20\n",
            "79/79 [==============================] - 13s 159ms/step - loss: 1.0996 - accuracy: 0.3373\n",
            "Epoch 3/20\n",
            "79/79 [==============================] - 13s 161ms/step - loss: 1.0959 - accuracy: 0.3484\n",
            "Epoch 4/20\n",
            "79/79 [==============================] - 13s 161ms/step - loss: 1.0946 - accuracy: 0.3591\n",
            "Epoch 5/20\n",
            "79/79 [==============================] - 13s 162ms/step - loss: 1.0912 - accuracy: 0.4873\n",
            "Epoch 6/20\n",
            "79/79 [==============================] - 13s 163ms/step - loss: 1.0887 - accuracy: 0.4429\n",
            "Epoch 7/20\n",
            "79/79 [==============================] - 13s 164ms/step - loss: 1.0869 - accuracy: 0.4242\n",
            "Epoch 8/20\n",
            "79/79 [==============================] - 13s 163ms/step - loss: 1.0836 - accuracy: 0.4075\n",
            "Epoch 9/20\n",
            "79/79 [==============================] - 13s 164ms/step - loss: 1.0789 - accuracy: 0.4583\n",
            "Epoch 10/20\n",
            "79/79 [==============================] - 13s 164ms/step - loss: 1.0742 - accuracy: 0.5179\n",
            "Epoch 11/20\n",
            "79/79 [==============================] - 13s 163ms/step - loss: 1.0689 - accuracy: 0.5270\n",
            "Epoch 12/20\n",
            "79/79 [==============================] - 13s 163ms/step - loss: 1.0637 - accuracy: 0.5325\n",
            "Epoch 13/20\n",
            "79/79 [==============================] - 13s 163ms/step - loss: 1.0572 - accuracy: 0.5560\n",
            "Epoch 14/20\n",
            "79/79 [==============================] - 13s 163ms/step - loss: 1.0495 - accuracy: 0.5282\n",
            "Epoch 15/20\n",
            "79/79 [==============================] - 13s 164ms/step - loss: 1.0434 - accuracy: 0.4865\n",
            "Epoch 16/20\n",
            "79/79 [==============================] - 13s 163ms/step - loss: 1.0304 - accuracy: 0.5032\n",
            "Epoch 17/20\n",
            "79/79 [==============================] - 13s 163ms/step - loss: 1.0107 - accuracy: 0.5429\n",
            "Epoch 18/20\n",
            "79/79 [==============================] - 13s 164ms/step - loss: 0.9978 - accuracy: 0.5746\n",
            "Epoch 19/20\n",
            "79/79 [==============================] - 13s 163ms/step - loss: 0.9679 - accuracy: 0.6313\n",
            "Epoch 20/20\n",
            "79/79 [==============================] - 13s 163ms/step - loss: 0.9395 - accuracy: 0.5988\n"
          ]
        },
        {
          "output_type": "execute_result",
          "data": {
            "text/plain": [
              "<keras.callbacks.History at 0x7f62a03eb450>"
            ]
          },
          "metadata": {},
          "execution_count": 9
        }
      ]
    },
    {
      "cell_type": "code",
      "source": [
        "model.evaluate(test_images,test_labels)"
      ],
      "metadata": {
        "colab": {
          "base_uri": "https://localhost:8080/"
        },
        "id": "mmnGjnyYzGR9",
        "outputId": "5f0629d3-6d4f-4002-9646-c2f0e60202dd"
      },
      "execution_count": 10,
      "outputs": [
        {
          "output_type": "stream",
          "name": "stdout",
          "text": [
            "12/12 [==============================] - 1s 108ms/step - loss: 1.0520 - accuracy: 0.5108\n"
          ]
        },
        {
          "output_type": "execute_result",
          "data": {
            "text/plain": [
              "[1.0519835948944092, 0.5107526779174805]"
            ]
          },
          "metadata": {},
          "execution_count": 10
        }
      ]
    },
    {
      "cell_type": "markdown",
      "source": [
        "Using the sigmoid activation function has reduced the accuracy to 51.08%"
      ],
      "metadata": {
        "id": "5qQF8e_N-93Z"
      }
    },
    {
      "cell_type": "markdown",
      "source": [
        "## Part C - Cost Function"
      ],
      "metadata": {
        "id": "phIrK5SS_EOw"
      }
    },
    {
      "cell_type": "markdown",
      "source": [
        "We are changing the cost function from Sparse Categorical Cross Entropy to Mean Squared Error"
      ],
      "metadata": {
        "id": "WFDRWkvLADTn"
      }
    },
    {
      "cell_type": "code",
      "source": [
        "model = keras.Sequential([\n",
        "   keras.layers.Conv2D(64, 3, activation='relu', input_shape=(300,300,1)),\n",
        "   keras.layers.Conv2D(32, 3, activation='relu'),\n",
        "   keras.layers.Flatten(),\n",
        "   keras.layers.Dense(3, activation='softmax')\n",
        "])\n",
        "\n",
        "model.compile(optimizer='adam',\n",
        "              loss=keras.losses.MeanSquaredError(),\n",
        "              metrics=['accuracy'])\n",
        "\n",
        "model.fit(train_images, train_labels, epochs=20, batch_size=32)"
      ],
      "metadata": {
        "colab": {
          "base_uri": "https://localhost:8080/"
        },
        "id": "1uR5DeVf0yI7",
        "outputId": "b0f512a0-5ae3-47b0-ab4f-9b237aedfef0"
      },
      "execution_count": 10,
      "outputs": [
        {
          "output_type": "stream",
          "name": "stdout",
          "text": [
            "Epoch 1/20\n",
            "79/79 [==============================] - 13s 158ms/step - loss: 1.3304 - accuracy: 0.3333\n",
            "Epoch 2/20\n",
            "79/79 [==============================] - 13s 160ms/step - loss: 1.3333 - accuracy: 0.3333\n",
            "Epoch 3/20\n",
            "79/79 [==============================] - 13s 162ms/step - loss: 1.3333 - accuracy: 0.3333\n",
            "Epoch 4/20\n",
            "79/79 [==============================] - 13s 162ms/step - loss: 1.3333 - accuracy: 0.3333\n",
            "Epoch 5/20\n",
            "79/79 [==============================] - 13s 162ms/step - loss: 1.3333 - accuracy: 0.3333\n",
            "Epoch 6/20\n",
            "79/79 [==============================] - 13s 161ms/step - loss: 1.3333 - accuracy: 0.3333\n",
            "Epoch 7/20\n",
            "79/79 [==============================] - 13s 161ms/step - loss: 1.3333 - accuracy: 0.3333\n",
            "Epoch 8/20\n",
            "79/79 [==============================] - 13s 160ms/step - loss: 1.3333 - accuracy: 0.3333\n",
            "Epoch 9/20\n",
            "79/79 [==============================] - 13s 161ms/step - loss: 1.3333 - accuracy: 0.3333\n",
            "Epoch 10/20\n",
            "79/79 [==============================] - 13s 162ms/step - loss: 1.3333 - accuracy: 0.3333\n",
            "Epoch 11/20\n",
            "79/79 [==============================] - 13s 161ms/step - loss: 1.3333 - accuracy: 0.3333\n",
            "Epoch 12/20\n",
            "79/79 [==============================] - 13s 161ms/step - loss: 1.3333 - accuracy: 0.3333\n",
            "Epoch 13/20\n",
            "79/79 [==============================] - 13s 160ms/step - loss: 1.3333 - accuracy: 0.3333\n",
            "Epoch 14/20\n",
            "79/79 [==============================] - 13s 161ms/step - loss: 1.3333 - accuracy: 0.3333\n",
            "Epoch 15/20\n",
            "79/79 [==============================] - 13s 161ms/step - loss: 1.3333 - accuracy: 0.3333\n",
            "Epoch 16/20\n",
            "79/79 [==============================] - 13s 161ms/step - loss: 1.3333 - accuracy: 0.3333\n",
            "Epoch 17/20\n",
            "79/79 [==============================] - 13s 162ms/step - loss: 1.3333 - accuracy: 0.3333\n",
            "Epoch 18/20\n",
            "79/79 [==============================] - 13s 162ms/step - loss: 1.3333 - accuracy: 0.3333\n",
            "Epoch 19/20\n",
            "79/79 [==============================] - 13s 161ms/step - loss: 1.3333 - accuracy: 0.3333\n",
            "Epoch 20/20\n",
            "79/79 [==============================] - 13s 162ms/step - loss: 1.3333 - accuracy: 0.3333\n"
          ]
        },
        {
          "output_type": "execute_result",
          "data": {
            "text/plain": [
              "<keras.callbacks.History at 0x7f1356402810>"
            ]
          },
          "metadata": {},
          "execution_count": 10
        }
      ]
    },
    {
      "cell_type": "code",
      "source": [
        "model.evaluate(test_images,test_labels)"
      ],
      "metadata": {
        "colab": {
          "base_uri": "https://localhost:8080/"
        },
        "id": "bTMfANRy1yBO",
        "outputId": "91c72d6a-e518-4703-b10b-8d35d78e297a"
      },
      "execution_count": 12,
      "outputs": [
        {
          "output_type": "stream",
          "name": "stdout",
          "text": [
            "12/12 [==============================] - 0s 27ms/step - loss: 1.5587 - accuracy: 0.7392\n"
          ]
        },
        {
          "output_type": "execute_result",
          "data": {
            "text/plain": [
              "[1.558727502822876, 0.7392473220825195]"
            ]
          },
          "metadata": {},
          "execution_count": 12
        }
      ]
    },
    {
      "cell_type": "markdown",
      "source": [
        "Using MSE has increased the accuracy quite a bit to almost 74%"
      ],
      "metadata": {
        "id": "B0vcljs0_K6i"
      }
    },
    {
      "cell_type": "markdown",
      "source": [
        "# Part D - Epochs"
      ],
      "metadata": {
        "id": "tAHyWZs4_VOd"
      }
    },
    {
      "cell_type": "markdown",
      "source": [
        "We are increasing the number of epochs to 50 from 20"
      ],
      "metadata": {
        "id": "90fxYGFE_YRo"
      }
    },
    {
      "cell_type": "code",
      "source": [
        "model = keras.Sequential([\n",
        "   keras.layers.AveragePooling2D(6,3, input_shape=(300,300,1)),\n",
        "   keras.layers.Conv2D(64, 3, activation='relu'),\n",
        "   keras.layers.Conv2D(32, 3, activation='relu'),\n",
        "   keras.layers.MaxPool2D(2,2),\n",
        "   keras.layers.Dropout(0.5),\n",
        "   keras.layers.Flatten(),\n",
        "   keras.layers.Dense(128, activation='relu'),\n",
        "   keras.layers.Dense(3, activation='softmax')\n",
        "])\n",
        "\n",
        "model.compile(optimizer='adam',\n",
        "              loss=keras.losses.SparseCategoricalCrossentropy(),\n",
        "              metrics=['accuracy'])\n",
        "\n",
        "model.fit(train_images, train_labels, epochs=50, batch_size=32)"
      ],
      "metadata": {
        "colab": {
          "base_uri": "https://localhost:8080/"
        },
        "id": "GJ8RBQmR4fIm",
        "outputId": "a5865450-2ccb-4f37-ddb4-017eb8c48550"
      },
      "execution_count": 13,
      "outputs": [
        {
          "output_type": "stream",
          "name": "stdout",
          "text": [
            "Epoch 1/50\n",
            "79/79 [==============================] - 3s 29ms/step - loss: 0.9399 - accuracy: 0.6337\n",
            "Epoch 2/50\n",
            "79/79 [==============================] - 2s 29ms/step - loss: 0.0981 - accuracy: 0.9794\n",
            "Epoch 3/50\n",
            "79/79 [==============================] - 2s 29ms/step - loss: 0.0244 - accuracy: 0.9960\n",
            "Epoch 4/50\n",
            "79/79 [==============================] - 2s 29ms/step - loss: 0.0052 - accuracy: 1.0000\n",
            "Epoch 5/50\n",
            "79/79 [==============================] - 2s 29ms/step - loss: 0.0030 - accuracy: 0.9996\n",
            "Epoch 6/50\n",
            "79/79 [==============================] - 2s 29ms/step - loss: 0.0098 - accuracy: 0.9988\n",
            "Epoch 7/50\n",
            "79/79 [==============================] - 2s 29ms/step - loss: 0.0030 - accuracy: 1.0000\n",
            "Epoch 8/50\n",
            "79/79 [==============================] - 2s 29ms/step - loss: 0.0315 - accuracy: 0.9925\n",
            "Epoch 9/50\n",
            "79/79 [==============================] - 2s 29ms/step - loss: 0.0092 - accuracy: 0.9976\n",
            "Epoch 10/50\n",
            "79/79 [==============================] - 2s 29ms/step - loss: 0.0011 - accuracy: 1.0000\n",
            "Epoch 11/50\n",
            "79/79 [==============================] - 2s 29ms/step - loss: 0.0012 - accuracy: 1.0000\n",
            "Epoch 12/50\n",
            "79/79 [==============================] - 2s 29ms/step - loss: 3.8721e-04 - accuracy: 1.0000\n",
            "Epoch 13/50\n",
            "79/79 [==============================] - 2s 29ms/step - loss: 5.4753e-04 - accuracy: 1.0000\n",
            "Epoch 14/50\n",
            "79/79 [==============================] - 2s 29ms/step - loss: 2.2095e-04 - accuracy: 1.0000\n",
            "Epoch 15/50\n",
            "79/79 [==============================] - 2s 29ms/step - loss: 1.4803e-04 - accuracy: 1.0000\n",
            "Epoch 16/50\n",
            "79/79 [==============================] - 2s 29ms/step - loss: 1.1911e-04 - accuracy: 1.0000\n",
            "Epoch 17/50\n",
            "79/79 [==============================] - 2s 29ms/step - loss: 1.1827e-04 - accuracy: 1.0000\n",
            "Epoch 18/50\n",
            "79/79 [==============================] - 2s 29ms/step - loss: 1.8390e-04 - accuracy: 1.0000\n",
            "Epoch 19/50\n",
            "79/79 [==============================] - 2s 29ms/step - loss: 9.3793e-05 - accuracy: 1.0000\n",
            "Epoch 20/50\n",
            "79/79 [==============================] - 2s 29ms/step - loss: 4.5551e-05 - accuracy: 1.0000\n",
            "Epoch 21/50\n",
            "79/79 [==============================] - 2s 29ms/step - loss: 5.3007e-05 - accuracy: 1.0000\n",
            "Epoch 22/50\n",
            "79/79 [==============================] - 2s 29ms/step - loss: 3.8737e-05 - accuracy: 1.0000\n",
            "Epoch 23/50\n",
            "79/79 [==============================] - 2s 29ms/step - loss: 6.1247e-05 - accuracy: 1.0000\n",
            "Epoch 24/50\n",
            "79/79 [==============================] - 2s 29ms/step - loss: 4.8185e-05 - accuracy: 1.0000\n",
            "Epoch 25/50\n",
            "79/79 [==============================] - 2s 29ms/step - loss: 3.8598e-05 - accuracy: 1.0000\n",
            "Epoch 26/50\n",
            "79/79 [==============================] - 2s 29ms/step - loss: 2.8762e-05 - accuracy: 1.0000\n",
            "Epoch 27/50\n",
            "79/79 [==============================] - 2s 29ms/step - loss: 3.4882e-05 - accuracy: 1.0000\n",
            "Epoch 28/50\n",
            "79/79 [==============================] - 2s 29ms/step - loss: 2.6340e-05 - accuracy: 1.0000\n",
            "Epoch 29/50\n",
            "79/79 [==============================] - 2s 29ms/step - loss: 2.8802e-05 - accuracy: 1.0000\n",
            "Epoch 30/50\n",
            "79/79 [==============================] - 2s 29ms/step - loss: 6.2127e-05 - accuracy: 1.0000\n",
            "Epoch 31/50\n",
            "79/79 [==============================] - 2s 29ms/step - loss: 1.2000e-04 - accuracy: 1.0000\n",
            "Epoch 32/50\n",
            "79/79 [==============================] - 2s 29ms/step - loss: 9.3278e-05 - accuracy: 1.0000\n",
            "Epoch 33/50\n",
            "79/79 [==============================] - 2s 29ms/step - loss: 2.0442e-05 - accuracy: 1.0000\n",
            "Epoch 34/50\n",
            "79/79 [==============================] - 2s 29ms/step - loss: 2.1941e-05 - accuracy: 1.0000\n",
            "Epoch 35/50\n",
            "79/79 [==============================] - 2s 29ms/step - loss: 2.2307e-05 - accuracy: 1.0000\n",
            "Epoch 36/50\n",
            "79/79 [==============================] - 2s 29ms/step - loss: 1.7907e-05 - accuracy: 1.0000\n",
            "Epoch 37/50\n",
            "79/79 [==============================] - 2s 29ms/step - loss: 2.2311e-05 - accuracy: 1.0000\n",
            "Epoch 38/50\n",
            "79/79 [==============================] - 2s 29ms/step - loss: 2.6156e-05 - accuracy: 1.0000\n",
            "Epoch 39/50\n",
            "79/79 [==============================] - 2s 29ms/step - loss: 3.2611e-05 - accuracy: 1.0000\n",
            "Epoch 40/50\n",
            "79/79 [==============================] - 2s 29ms/step - loss: 2.6059e-05 - accuracy: 1.0000\n",
            "Epoch 41/50\n",
            "79/79 [==============================] - 2s 29ms/step - loss: 1.6938e-05 - accuracy: 1.0000\n",
            "Epoch 42/50\n",
            "79/79 [==============================] - 2s 29ms/step - loss: 1.8304e-05 - accuracy: 1.0000\n",
            "Epoch 43/50\n",
            "79/79 [==============================] - 2s 29ms/step - loss: 1.6840e-05 - accuracy: 1.0000\n",
            "Epoch 44/50\n",
            "79/79 [==============================] - 2s 29ms/step - loss: 1.4466e-05 - accuracy: 1.0000\n",
            "Epoch 45/50\n",
            "79/79 [==============================] - 2s 29ms/step - loss: 1.7479e-05 - accuracy: 1.0000\n",
            "Epoch 46/50\n",
            "79/79 [==============================] - 2s 29ms/step - loss: 1.4571e-05 - accuracy: 1.0000\n",
            "Epoch 47/50\n",
            "79/79 [==============================] - 2s 29ms/step - loss: 1.4234e-05 - accuracy: 1.0000\n",
            "Epoch 48/50\n",
            "79/79 [==============================] - 2s 29ms/step - loss: 3.3945e-05 - accuracy: 1.0000\n",
            "Epoch 49/50\n",
            "79/79 [==============================] - 2s 29ms/step - loss: 1.2550e-05 - accuracy: 1.0000\n",
            "Epoch 50/50\n",
            "79/79 [==============================] - 2s 29ms/step - loss: 1.2174e-05 - accuracy: 1.0000\n"
          ]
        },
        {
          "output_type": "execute_result",
          "data": {
            "text/plain": [
              "<keras.callbacks.History at 0x7f135604cb50>"
            ]
          },
          "metadata": {},
          "execution_count": 13
        }
      ]
    },
    {
      "cell_type": "code",
      "source": [
        "model.evaluate(test_images,test_labels)"
      ],
      "metadata": {
        "colab": {
          "base_uri": "https://localhost:8080/"
        },
        "id": "M-A-GZs_448H",
        "outputId": "d1ff3712-49a6-43dd-b8f4-3a63840a35d7"
      },
      "execution_count": 14,
      "outputs": [
        {
          "output_type": "stream",
          "name": "stdout",
          "text": [
            "12/12 [==============================] - 0s 16ms/step - loss: 2.5668 - accuracy: 0.7043\n"
          ]
        },
        {
          "output_type": "execute_result",
          "data": {
            "text/plain": [
              "[2.5668327808380127, 0.7043010592460632]"
            ]
          },
          "metadata": {},
          "execution_count": 14
        }
      ]
    },
    {
      "cell_type": "markdown",
      "source": [
        "Increasing the number of epochs has increased the accuracy of the model to about 70.5%"
      ],
      "metadata": {
        "id": "IhiV7Uu7_d6z"
      }
    },
    {
      "cell_type": "markdown",
      "source": [
        "# Part E - Gradient Estimation"
      ],
      "metadata": {
        "id": "Zuc0ICJx_ovO"
      }
    },
    {
      "cell_type": "markdown",
      "source": [
        "Chaning the gradient estimation from Adam to RMSprop"
      ],
      "metadata": {
        "id": "7EMQd7T1_uHn"
      }
    },
    {
      "cell_type": "code",
      "source": [
        "model = keras.Sequential([\n",
        "   keras.layers.AveragePooling2D(6,3, input_shape=(300,300,1)),\n",
        "   keras.layers.Conv2D(64, 3, activation='relu'),\n",
        "   keras.layers.Conv2D(32, 3, activation='relu'),\n",
        "   keras.layers.MaxPool2D(2,2),\n",
        "   keras.layers.Dropout(0.5),\n",
        "   keras.layers.Flatten(),\n",
        "   keras.layers.Dense(128, activation='relu'),\n",
        "   keras.layers.Dense(3, activation='softmax')\n",
        "])\n",
        "\n",
        "model.compile(optimizer='RMSprop',\n",
        "              loss=keras.losses.SparseCategoricalCrossentropy(),\n",
        "              metrics=['accuracy'])\n",
        "\n",
        "model.fit(train_images, train_labels, epochs=20, batch_size=32)"
      ],
      "metadata": {
        "colab": {
          "base_uri": "https://localhost:8080/"
        },
        "id": "_9o-bN2d5eDk",
        "outputId": "4674245d-1841-4616-fa9b-8fc0e947ffd2"
      },
      "execution_count": 15,
      "outputs": [
        {
          "output_type": "stream",
          "name": "stdout",
          "text": [
            "Epoch 1/20\n",
            "79/79 [==============================] - 3s 31ms/step - loss: 1.6630 - accuracy: 0.5476\n",
            "Epoch 2/20\n",
            "79/79 [==============================] - 2s 31ms/step - loss: 0.3779 - accuracy: 0.9000\n",
            "Epoch 3/20\n",
            "79/79 [==============================] - 2s 30ms/step - loss: 0.0993 - accuracy: 0.9679\n",
            "Epoch 4/20\n",
            "79/79 [==============================] - 2s 31ms/step - loss: 0.4294 - accuracy: 0.9571\n",
            "Epoch 5/20\n",
            "79/79 [==============================] - 2s 30ms/step - loss: 0.1671 - accuracy: 0.9810\n",
            "Epoch 6/20\n",
            "79/79 [==============================] - 2s 31ms/step - loss: 0.1607 - accuracy: 0.9849\n",
            "Epoch 7/20\n",
            "79/79 [==============================] - 2s 31ms/step - loss: 0.0724 - accuracy: 0.9857\n",
            "Epoch 8/20\n",
            "79/79 [==============================] - 2s 31ms/step - loss: 0.3833 - accuracy: 0.9806\n",
            "Epoch 9/20\n",
            "79/79 [==============================] - 2s 31ms/step - loss: 0.1153 - accuracy: 0.9865\n",
            "Epoch 10/20\n",
            "79/79 [==============================] - 2s 30ms/step - loss: 0.1481 - accuracy: 0.9889\n",
            "Epoch 11/20\n",
            "79/79 [==============================] - 2s 31ms/step - loss: 0.0519 - accuracy: 0.9929\n",
            "Epoch 12/20\n",
            "79/79 [==============================] - 2s 31ms/step - loss: 0.0528 - accuracy: 0.9921\n",
            "Epoch 13/20\n",
            "79/79 [==============================] - 3s 32ms/step - loss: 3.9191e-04 - accuracy: 1.0000\n",
            "Epoch 14/20\n",
            "79/79 [==============================] - 2s 31ms/step - loss: 0.6711 - accuracy: 0.9857\n",
            "Epoch 15/20\n",
            "79/79 [==============================] - 2s 31ms/step - loss: 2.9272e-04 - accuracy: 1.0000\n",
            "Epoch 16/20\n",
            "79/79 [==============================] - 2s 31ms/step - loss: 0.2987 - accuracy: 0.9861\n",
            "Epoch 17/20\n",
            "79/79 [==============================] - 2s 31ms/step - loss: 0.0392 - accuracy: 0.9952\n",
            "Epoch 18/20\n",
            "79/79 [==============================] - 2s 31ms/step - loss: 0.0873 - accuracy: 0.9921\n",
            "Epoch 19/20\n",
            "79/79 [==============================] - 2s 30ms/step - loss: 0.8083 - accuracy: 0.9873\n",
            "Epoch 20/20\n",
            "79/79 [==============================] - 2s 31ms/step - loss: 1.1882e-04 - accuracy: 1.0000\n"
          ]
        },
        {
          "output_type": "execute_result",
          "data": {
            "text/plain": [
              "<keras.callbacks.History at 0x7f134aed9450>"
            ]
          },
          "metadata": {},
          "execution_count": 15
        }
      ]
    },
    {
      "cell_type": "code",
      "source": [
        "model.evaluate(test_images,test_labels)"
      ],
      "metadata": {
        "colab": {
          "base_uri": "https://localhost:8080/"
        },
        "id": "SbHWyfXJ6BCO",
        "outputId": "06c362c1-18f6-45e5-ed28-22fef07a1548"
      },
      "execution_count": 16,
      "outputs": [
        {
          "output_type": "stream",
          "name": "stdout",
          "text": [
            "12/12 [==============================] - 0s 16ms/step - loss: 2.5698 - accuracy: 0.5833\n"
          ]
        },
        {
          "output_type": "execute_result",
          "data": {
            "text/plain": [
              "[2.5697638988494873, 0.5833333134651184]"
            ]
          },
          "metadata": {},
          "execution_count": 16
        }
      ]
    },
    {
      "cell_type": "markdown",
      "source": [
        "Changing the gradient estimation to RMSprop has reduced the accuracy of the model"
      ],
      "metadata": {
        "id": "c_RVzSuG_1TY"
      }
    },
    {
      "cell_type": "markdown",
      "source": [
        "## Part F - Network Architecture"
      ],
      "metadata": {
        "id": "nlDEbln3AZgE"
      }
    },
    {
      "cell_type": "markdown",
      "source": [
        "We are adding another layer and testing out the difference"
      ],
      "metadata": {
        "id": "T9BQ7ZFPAelv"
      }
    },
    {
      "cell_type": "code",
      "source": [
        "model = keras.Sequential([\n",
        "   keras.layers.AveragePooling2D(6,3, input_shape=(300,300,1)),\n",
        "   keras.layers.Conv2D(128, 3, activation='relu'),\n",
        "   keras.layers.Conv2D(64, 3, activation='relu'),\n",
        "   keras.layers.Conv2D(32, 3, activation='relu'),\n",
        "   keras.layers.MaxPool2D(2,2),\n",
        "   keras.layers.Dropout(0.5),\n",
        "   keras.layers.Flatten(),\n",
        "   keras.layers.Dense(128, activation='relu'),\n",
        "   keras.layers.Dense(3, activation='softmax')\n",
        "])\n",
        "\n",
        "model.compile(optimizer='adam',\n",
        "              loss=keras.losses.SparseCategoricalCrossentropy(),\n",
        "              metrics=['accuracy'])\n",
        "\n",
        "model.fit(train_images, train_labels, epochs=20, batch_size=32)"
      ],
      "metadata": {
        "colab": {
          "base_uri": "https://localhost:8080/"
        },
        "id": "sHQaQxLF6P8B",
        "outputId": "2bbfeb22-6414-4773-96cc-881f8606b33c"
      },
      "execution_count": 17,
      "outputs": [
        {
          "output_type": "stream",
          "name": "stdout",
          "text": [
            "Epoch 1/20\n",
            "79/79 [==============================] - 7s 65ms/step - loss: 0.8655 - accuracy: 0.5893\n",
            "Epoch 2/20\n",
            "79/79 [==============================] - 4s 55ms/step - loss: 0.1072 - accuracy: 0.9675\n",
            "Epoch 3/20\n",
            "79/79 [==============================] - 4s 55ms/step - loss: 0.0479 - accuracy: 0.9857\n",
            "Epoch 4/20\n",
            "79/79 [==============================] - 4s 55ms/step - loss: 0.0126 - accuracy: 0.9964\n",
            "Epoch 5/20\n",
            "79/79 [==============================] - 4s 55ms/step - loss: 0.0333 - accuracy: 0.9929\n",
            "Epoch 6/20\n",
            "79/79 [==============================] - 4s 55ms/step - loss: 0.0029 - accuracy: 0.9996\n",
            "Epoch 7/20\n",
            "79/79 [==============================] - 4s 56ms/step - loss: 0.0010 - accuracy: 1.0000\n",
            "Epoch 8/20\n",
            "79/79 [==============================] - 4s 55ms/step - loss: 3.1029e-04 - accuracy: 1.0000\n",
            "Epoch 9/20\n",
            "79/79 [==============================] - 4s 55ms/step - loss: 2.1199e-04 - accuracy: 1.0000\n",
            "Epoch 10/20\n",
            "79/79 [==============================] - 4s 56ms/step - loss: 1.6357e-04 - accuracy: 1.0000\n",
            "Epoch 11/20\n",
            "79/79 [==============================] - 4s 55ms/step - loss: 9.6577e-04 - accuracy: 0.9996\n",
            "Epoch 12/20\n",
            "79/79 [==============================] - 4s 55ms/step - loss: 0.0013 - accuracy: 1.0000\n",
            "Epoch 13/20\n",
            "79/79 [==============================] - 4s 55ms/step - loss: 1.1913e-04 - accuracy: 1.0000\n",
            "Epoch 14/20\n",
            "79/79 [==============================] - 4s 55ms/step - loss: 4.5608e-04 - accuracy: 1.0000\n",
            "Epoch 15/20\n",
            "79/79 [==============================] - 4s 55ms/step - loss: 9.6803e-04 - accuracy: 1.0000\n",
            "Epoch 16/20\n",
            "79/79 [==============================] - 4s 55ms/step - loss: 9.8314e-05 - accuracy: 1.0000\n",
            "Epoch 17/20\n",
            "79/79 [==============================] - 4s 55ms/step - loss: 0.0072 - accuracy: 0.9980\n",
            "Epoch 18/20\n",
            "79/79 [==============================] - 4s 55ms/step - loss: 0.3625 - accuracy: 0.8790\n",
            "Epoch 19/20\n",
            "79/79 [==============================] - 4s 54ms/step - loss: 0.3690 - accuracy: 0.8500\n",
            "Epoch 20/20\n",
            "79/79 [==============================] - 4s 55ms/step - loss: 0.0452 - accuracy: 0.9841\n"
          ]
        },
        {
          "output_type": "execute_result",
          "data": {
            "text/plain": [
              "<keras.callbacks.History at 0x7f134a46f550>"
            ]
          },
          "metadata": {},
          "execution_count": 17
        }
      ]
    },
    {
      "cell_type": "code",
      "source": [
        "model.evaluate(test_images,test_labels)"
      ],
      "metadata": {
        "colab": {
          "base_uri": "https://localhost:8080/"
        },
        "id": "Tphnza4d6koB",
        "outputId": "edb8150e-3db3-47aa-e34a-41ae04081fe5"
      },
      "execution_count": 18,
      "outputs": [
        {
          "output_type": "stream",
          "name": "stdout",
          "text": [
            "12/12 [==============================] - 1s 55ms/step - loss: 1.6544 - accuracy: 0.5887\n"
          ]
        },
        {
          "output_type": "execute_result",
          "data": {
            "text/plain": [
              "[1.6544067859649658, 0.5887096524238586]"
            ]
          },
          "metadata": {},
          "execution_count": 18
        }
      ]
    },
    {
      "cell_type": "markdown",
      "source": [
        "The added layer reduces the accuracy of the model as can be seen above"
      ],
      "metadata": {
        "id": "ViBN4lW5Ai6T"
      }
    },
    {
      "cell_type": "markdown",
      "source": [
        "# Part G - Network Initialization"
      ],
      "metadata": {
        "id": "oe8zDpB7AnPs"
      }
    },
    {
      "cell_type": "markdown",
      "source": [
        "We are adding an initializer to the model which is HeNormal"
      ],
      "metadata": {
        "id": "BjpJdzWDArzo"
      }
    },
    {
      "cell_type": "code",
      "source": [
        "model = keras.Sequential([\n",
        "   keras.layers.AveragePooling2D(6,3, input_shape=(300,300,1)),\n",
        "   keras.layers.Conv2D(64, 3, activation='relu', kernel_initializer=keras.initializers.HeNormal()),\n",
        "   keras.layers.Conv2D(32, 3, activation='relu'),\n",
        "   keras.layers.MaxPool2D(2,2),\n",
        "   keras.layers.Dropout(0.5),\n",
        "   keras.layers.Flatten(),\n",
        "   keras.layers.Dense(128, activation='relu'),\n",
        "   keras.layers.Dense(3, activation='softmax')\n",
        "])\n",
        "\n",
        "model.compile(optimizer='adam',\n",
        "              loss=keras.losses.SparseCategoricalCrossentropy(),\n",
        "              metrics=['accuracy'])\n",
        "\n",
        "model.fit(train_images, train_labels, epochs=20, batch_size=32)"
      ],
      "metadata": {
        "colab": {
          "base_uri": "https://localhost:8080/"
        },
        "id": "A34JQ-TE6-kM",
        "outputId": "f144d936-25fb-4c1f-b9a9-44fa6b12535a"
      },
      "execution_count": 21,
      "outputs": [
        {
          "output_type": "stream",
          "name": "stdout",
          "text": [
            "Epoch 1/20\n",
            "79/79 [==============================] - 3s 29ms/step - loss: 3.2658 - accuracy: 0.8103\n",
            "Epoch 2/20\n",
            "79/79 [==============================] - 2s 29ms/step - loss: 0.0589 - accuracy: 0.9869\n",
            "Epoch 3/20\n",
            "79/79 [==============================] - 2s 29ms/step - loss: 0.1330 - accuracy: 0.9583\n",
            "Epoch 4/20\n",
            "79/79 [==============================] - 2s 29ms/step - loss: 0.0311 - accuracy: 0.9905\n",
            "Epoch 5/20\n",
            "79/79 [==============================] - 2s 29ms/step - loss: 0.0239 - accuracy: 0.9948\n",
            "Epoch 6/20\n",
            "79/79 [==============================] - 2s 29ms/step - loss: 0.0129 - accuracy: 0.9968\n",
            "Epoch 7/20\n",
            "79/79 [==============================] - 2s 29ms/step - loss: 0.0123 - accuracy: 0.9972\n",
            "Epoch 8/20\n",
            "79/79 [==============================] - 2s 29ms/step - loss: 0.0044 - accuracy: 0.9984\n",
            "Epoch 9/20\n",
            "79/79 [==============================] - 2s 29ms/step - loss: 0.0117 - accuracy: 0.9968\n",
            "Epoch 10/20\n",
            "79/79 [==============================] - 2s 29ms/step - loss: 0.0031 - accuracy: 0.9996\n",
            "Epoch 11/20\n",
            "79/79 [==============================] - 2s 29ms/step - loss: 0.0038 - accuracy: 0.9984\n",
            "Epoch 12/20\n",
            "79/79 [==============================] - 2s 29ms/step - loss: 8.4926e-04 - accuracy: 0.9996\n",
            "Epoch 13/20\n",
            "79/79 [==============================] - 2s 29ms/step - loss: 0.0069 - accuracy: 0.9984\n",
            "Epoch 14/20\n",
            "79/79 [==============================] - 2s 29ms/step - loss: 0.0018 - accuracy: 1.0000\n",
            "Epoch 15/20\n",
            "79/79 [==============================] - 2s 29ms/step - loss: 0.0351 - accuracy: 0.9905\n",
            "Epoch 16/20\n",
            "79/79 [==============================] - 2s 29ms/step - loss: 0.0307 - accuracy: 0.9937\n",
            "Epoch 17/20\n",
            "79/79 [==============================] - 2s 29ms/step - loss: 0.0098 - accuracy: 0.9984\n",
            "Epoch 18/20\n",
            "79/79 [==============================] - 2s 29ms/step - loss: 0.0066 - accuracy: 0.9984\n",
            "Epoch 19/20\n",
            "79/79 [==============================] - 2s 29ms/step - loss: 0.0016 - accuracy: 0.9996\n",
            "Epoch 20/20\n",
            "79/79 [==============================] - 2s 29ms/step - loss: 0.0059 - accuracy: 0.9988\n"
          ]
        },
        {
          "output_type": "execute_result",
          "data": {
            "text/plain": [
              "<keras.callbacks.History at 0x7f134a20f410>"
            ]
          },
          "metadata": {},
          "execution_count": 21
        }
      ]
    },
    {
      "cell_type": "code",
      "source": [
        "model.evaluate(test_images,test_labels)"
      ],
      "metadata": {
        "colab": {
          "base_uri": "https://localhost:8080/"
        },
        "id": "PKvRsxEm8W7X",
        "outputId": "d4b34f77-27fd-4d12-fa4c-242a48d80204"
      },
      "execution_count": 22,
      "outputs": [
        {
          "output_type": "stream",
          "name": "stdout",
          "text": [
            "12/12 [==============================] - 0s 16ms/step - loss: 3.1233 - accuracy: 0.7312\n"
          ]
        },
        {
          "output_type": "execute_result",
          "data": {
            "text/plain": [
              "[3.12326717376709, 0.7311828136444092]"
            ]
          },
          "metadata": {},
          "execution_count": 22
        }
      ]
    },
    {
      "cell_type": "markdown",
      "source": [
        "The initializer increases the accuracy of the model to 73.12%"
      ],
      "metadata": {
        "id": "pGZhbwhAA2gO"
      }
    },
    {
      "cell_type": "markdown",
      "source": [
        "## References"
      ],
      "metadata": {
        "id": "lH4txyrfBCYP"
      }
    },
    {
      "cell_type": "markdown",
      "source": [
        "1.   https://www.kaggle.com/nikbearbrown/tmnist-alphabet-94-characters\n",
        "2.   https://www.youtube.com/watch?v=pSexXMdruFM\n",
        "3.   https://www.youtube.com/watch?v=ycxulUVoNbk\n",
        "4. https://keras.io/api/losses/regression_losses/#meansquarederror-class\n",
        "5. https://keras.io/api/layers/initializers/#henormal-class\n",
        "6. https://laurencemoroney.com/datasets.html\n",
        "7. https://www.deeplearning.ai/ai-notes/initialization/index.html\n",
        "8. https://www.tensorflow.org/datasets/overview"
      ],
      "metadata": {
        "id": "I9tDTXtyBEBg"
      }
    },
    {
      "cell_type": "markdown",
      "source": [
        "## License"
      ],
      "metadata": {
        "id": "g6mt8fLLCRn3"
      }
    },
    {
      "cell_type": "markdown",
      "source": [
        "Copyright (c) 2022 Jay Devnani\n",
        "\n",
        "Permission is hereby granted, free of charge, to any person obtaining a copy of this software and associated documentation files (the \"Software\"), to deal in the Software without restriction, including without limitation the rights to use, copy, modify, merge, publish, distribute, sublicense, and/or sell copies of the Software, and to permit persons to whom the Software is furnished to do so, subject to the following conditions:\n",
        "\n",
        "The above copyright notice and this permission notice shall be included in all copies or substantial portions of the Software.\n",
        "\n",
        "THE SOFTWARE IS PROVIDED \"AS IS\", WITHOUT WARRANTY OF ANY KIND, EXPRESS OR IMPLIED, INCLUDING BUT NOT LIMITED TO THE WARRANTIES OF MERCHANTABILITY, FITNESS FOR A PARTICULAR PURPOSE AND NONINFRINGEMENT. IN NO EVENT SHALL THE AUTHORS OR COPYRIGHT HOLDERS BE LIABLE FOR ANY CLAIM, DAMAGES OR OTHER LIABILITY, WHETHER IN AN ACTION OF CONTRACT, TORT OR OTHERWISE, ARISING FROM, OUT OF OR IN CONNECTION WITH THE SOFTWARE OR THE USE OR OTHER DEALINGS IN THE SOFTWARE."
      ],
      "metadata": {
        "id": "KhK4Jd67CpFL"
      }
    },
    {
      "cell_type": "code",
      "source": [],
      "metadata": {
        "id": "3TEmHECrC7fV"
      },
      "execution_count": null,
      "outputs": []
    }
  ],
  "metadata": {
    "accelerator": "GPU",
    "colab": {
      "provenance": []
    },
    "gpuClass": "standard",
    "kernelspec": {
      "display_name": "Python 3",
      "name": "python3"
    },
    "language_info": {
      "name": "python"
    }
  },
  "nbformat": 4,
  "nbformat_minor": 0
}