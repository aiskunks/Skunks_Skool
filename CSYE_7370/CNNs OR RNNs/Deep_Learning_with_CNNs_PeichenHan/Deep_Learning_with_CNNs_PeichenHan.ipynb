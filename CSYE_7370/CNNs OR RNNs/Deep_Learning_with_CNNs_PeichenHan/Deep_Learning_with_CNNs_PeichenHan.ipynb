{
 "cells": [
  {
   "cell_type": "code",
   "execution_count": 22,
   "id": "74c27021",
   "metadata": {},
   "outputs": [],
   "source": [
    "import pandas as pd\n",
    "import numpy as np\n",
    "import keras\n",
    "from sklearn.model_selection import train_test_split\n",
    "from tensorflow.keras.models import Sequential\n",
    "from tensorflow.keras.layers import *\n",
    "from tensorflow.keras.optimizers import Adam\n",
    "import matplotlib.pyplot as plt\n",
    "from sklearn.preprocessing import OneHotEncoder\n",
    "from tensorflow.keras.applications import VGG16\n",
    "import warnings\n",
    "import warnings\n",
    "warnings.filterwarnings(\"ignore\")"
   ]
  },
  {
   "cell_type": "code",
   "execution_count": 33,
   "id": "185faa97",
   "metadata": {},
   "outputs": [],
   "source": [
    "import tensorflow as tf\n",
    "from keras import initializers"
   ]
  },
  {
   "cell_type": "markdown",
   "id": "b46e560c",
   "metadata": {},
   "source": [
    "<b> Data Set : TMNIST Alphabet (94 characters) from  https://www.kaggle.com/datasets/nikbearbrown/tmnist-alphabet-94-characters"
   ]
  },
  {
   "cell_type": "code",
   "execution_count": 2,
   "id": "8715ea30",
   "metadata": {
    "scrolled": true
   },
   "outputs": [],
   "source": [
    "df=pd.read_csv('94_character_TMNIST.csv')"
   ]
  },
  {
   "cell_type": "code",
   "execution_count": 3,
   "id": "76496f00",
   "metadata": {},
   "outputs": [],
   "source": [
    "y=df['labels']\n",
    "X=df.drop(['names','labels'],axis=1)\n",
    "num_classes=df['labels'].nunique()\n",
    "X_train, X_test, y_train, y_test = train_test_split( X, y, test_size=0.25, random_state=42,stratify=y)\n",
    "X_train= (X_train.astype('float32'))/255.0\n",
    "X_test = (X_test.astype('float32'))/255.0\n",
    "enc = OneHotEncoder(sparse=False,handle_unknown='ignore')\n",
    "y_train_encoded=enc.fit_transform(y_train.values.reshape(-1,1))\n",
    "y_test_encoded=  enc.transform(y_test.values.reshape(-1,1))\n",
    "X_train_norm=X_train.values.reshape(X_train.shape[0],28,28)\n",
    "X_test_norm=X_test.values.reshape(X_test.shape[0],28,28)"
   ]
  },
  {
   "cell_type": "markdown",
   "id": "1e379a52",
   "metadata": {},
   "source": [
    "### Part-A  :  Basic model"
   ]
  },
  {
   "cell_type": "code",
   "execution_count": 15,
   "id": "f4bb0aa7",
   "metadata": {},
   "outputs": [
    {
     "name": "stdout",
     "output_type": "stream",
     "text": [
      "Model: \"sequential_1\"\n",
      "_________________________________________________________________\n",
      " Layer (type)                Output Shape              Param #   \n",
      "=================================================================\n",
      " flatten_1 (Flatten)         (None, 784)               0         \n",
      "                                                                 \n",
      " dense_3 (Dense)             (None, 512)               401920    \n",
      "                                                                 \n",
      " dense_4 (Dense)             (None, 128)               65664     \n",
      "                                                                 \n",
      " dense_5 (Dense)             (None, 32)                4128      \n",
      "                                                                 \n",
      " dense_6 (Dense)             (None, 94)                3102      \n",
      "                                                                 \n",
      "=================================================================\n",
      "Total params: 474,814\n",
      "Trainable params: 474,814\n",
      "Non-trainable params: 0\n",
      "_________________________________________________________________\n"
     ]
    }
   ],
   "source": [
    "model = Sequential()\n",
    "model.add(Flatten(input_shape=(28,28)))\n",
    "model.add(Dense(512,activation='relu'))\n",
    "model.add(Dense(128,activation='relu'))\n",
    "model.add(Dense(32, activation='relu'))\n",
    "model.add(Dense(num_classes, activation='softmax'))\n",
    "opt = Adam()\n",
    "model.compile(optimizer=opt, loss='categorical_crossentropy', metrics=['accuracy'])\n",
    "model.summary()"
   ]
  },
  {
   "cell_type": "code",
   "execution_count": 16,
   "id": "8963caa8",
   "metadata": {
    "scrolled": true
   },
   "outputs": [
    {
     "name": "stdout",
     "output_type": "stream",
     "text": [
      "Epoch 1/20\n",
      "1607/1607 - 7s - loss: 0.8226 - accuracy: 0.7851 - val_loss: 0.5197 - val_accuracy: 0.8453 - 7s/epoch - 4ms/step\n",
      "Epoch 2/20\n",
      "1607/1607 - 6s - loss: 0.4480 - accuracy: 0.8630 - val_loss: 0.4234 - val_accuracy: 0.8701 - 6s/epoch - 4ms/step\n",
      "Epoch 3/20\n",
      "1607/1607 - 6s - loss: 0.3765 - accuracy: 0.8795 - val_loss: 0.3816 - val_accuracy: 0.8784 - 6s/epoch - 4ms/step\n",
      "Epoch 4/20\n",
      "1607/1607 - 6s - loss: 0.3324 - accuracy: 0.8912 - val_loss: 0.3692 - val_accuracy: 0.8849 - 6s/epoch - 4ms/step\n",
      "Epoch 5/20\n",
      "1607/1607 - 6s - loss: 0.2975 - accuracy: 0.9006 - val_loss: 0.3473 - val_accuracy: 0.8918 - 6s/epoch - 4ms/step\n",
      "Epoch 6/20\n",
      "1607/1607 - 6s - loss: 0.2707 - accuracy: 0.9079 - val_loss: 0.3316 - val_accuracy: 0.8969 - 6s/epoch - 4ms/step\n",
      "Epoch 7/20\n",
      "1607/1607 - 6s - loss: 0.2494 - accuracy: 0.9142 - val_loss: 0.3290 - val_accuracy: 0.8996 - 6s/epoch - 4ms/step\n",
      "Epoch 8/20\n",
      "1607/1607 - 6s - loss: 0.2308 - accuracy: 0.9196 - val_loss: 0.3315 - val_accuracy: 0.8990 - 6s/epoch - 4ms/step\n",
      "Epoch 9/20\n",
      "1607/1607 - 6s - loss: 0.2198 - accuracy: 0.9231 - val_loss: 0.3304 - val_accuracy: 0.9009 - 6s/epoch - 4ms/step\n",
      "Epoch 10/20\n",
      "1607/1607 - 7s - loss: 0.2021 - accuracy: 0.9285 - val_loss: 0.3363 - val_accuracy: 0.9016 - 7s/epoch - 4ms/step\n",
      "Epoch 11/20\n",
      "1607/1607 - 6s - loss: 0.1901 - accuracy: 0.9322 - val_loss: 0.3384 - val_accuracy: 0.9035 - 6s/epoch - 4ms/step\n",
      "Epoch 12/20\n",
      "1607/1607 - 6s - loss: 0.1812 - accuracy: 0.9347 - val_loss: 0.3449 - val_accuracy: 0.9031 - 6s/epoch - 4ms/step\n",
      "Epoch 13/20\n",
      "1607/1607 - 6s - loss: 0.1736 - accuracy: 0.9371 - val_loss: 0.3369 - val_accuracy: 0.9066 - 6s/epoch - 4ms/step\n",
      "Epoch 14/20\n",
      "1607/1607 - 6s - loss: 0.1657 - accuracy: 0.9396 - val_loss: 0.3601 - val_accuracy: 0.9027 - 6s/epoch - 4ms/step\n",
      "Epoch 15/20\n",
      "1607/1607 - 15s - loss: 0.1600 - accuracy: 0.9414 - val_loss: 0.3539 - val_accuracy: 0.9093 - 15s/epoch - 9ms/step\n",
      "Epoch 16/20\n",
      "1607/1607 - 10s - loss: 0.1547 - accuracy: 0.9437 - val_loss: 0.3700 - val_accuracy: 0.9028 - 10s/epoch - 6ms/step\n",
      "Epoch 17/20\n",
      "1607/1607 - 6s - loss: 0.1487 - accuracy: 0.9452 - val_loss: 0.3648 - val_accuracy: 0.9091 - 6s/epoch - 4ms/step\n",
      "Epoch 18/20\n",
      "1607/1607 - 6s - loss: 0.1459 - accuracy: 0.9462 - val_loss: 0.3849 - val_accuracy: 0.9048 - 6s/epoch - 4ms/step\n",
      "Epoch 19/20\n",
      "1607/1607 - 6s - loss: 0.1430 - accuracy: 0.9477 - val_loss: 0.3751 - val_accuracy: 0.9089 - 6s/epoch - 4ms/step\n",
      "Epoch 20/20\n",
      "1607/1607 - 6s - loss: 0.1366 - accuracy: 0.9496 - val_loss: 0.3912 - val_accuracy: 0.9063 - 6s/epoch - 4ms/step\n"
     ]
    }
   ],
   "source": [
    "model_history=model.fit(X_train_norm, y_train_encoded, epochs=20, validation_data=(X_test_norm, y_test_encoded), verbose=2,batch_size=128)"
   ]
  },
  {
   "cell_type": "markdown",
   "id": "78f6d12c",
   "metadata": {},
   "source": [
    "The performance of the model is good. The speed of each step is very fast, and at the same time, we get 0.9496 accuracy in the end."
   ]
  },
  {
   "cell_type": "markdown",
   "id": "c61ebfb4",
   "metadata": {},
   "source": [
    "### Part-B :  Change activation function"
   ]
  },
  {
   "cell_type": "markdown",
   "id": "7488defa",
   "metadata": {},
   "source": [
    "<b>LeakyReLU"
   ]
  },
  {
   "cell_type": "code",
   "execution_count": 6,
   "id": "4e8a63af",
   "metadata": {},
   "outputs": [
    {
     "name": "stdout",
     "output_type": "stream",
     "text": [
      "Model: \"sequential_1\"\n",
      "_________________________________________________________________\n",
      " Layer (type)                Output Shape              Param #   \n",
      "=================================================================\n",
      " flatten_1 (Flatten)         (None, 784)               0         \n",
      "                                                                 \n",
      " dense (Dense)               (None, 512)               401920    \n",
      "                                                                 \n",
      " dense_1 (Dense)             (None, 128)               65664     \n",
      "                                                                 \n",
      " dense_2 (Dense)             (None, 32)                4128      \n",
      "                                                                 \n",
      " dense_3 (Dense)             (None, 94)                3102      \n",
      "                                                                 \n",
      "=================================================================\n",
      "Total params: 474,814\n",
      "Trainable params: 474,814\n",
      "Non-trainable params: 0\n",
      "_________________________________________________________________\n"
     ]
    }
   ],
   "source": [
    "model = Sequential()\n",
    "model.add(Flatten(input_shape=(28,28)))\n",
    "model.add(Dense(512,activation=tf.keras.layers.LeakyReLU(alpha=0.01)))\n",
    "model.add(Dense(128,activation=tf.keras.layers.LeakyReLU(alpha=0.01)))\n",
    "model.add(Dense(32, activation=tf.keras.layers.LeakyReLU(alpha=0.01)))\n",
    "model.add(Dense(num_classes, activation='softmax'))\n",
    "opt = Adam()\n",
    "model.compile(optimizer=opt, loss='categorical_crossentropy', metrics=['accuracy'])\n",
    "model.summary()"
   ]
  },
  {
   "cell_type": "code",
   "execution_count": 7,
   "id": "980e81fb",
   "metadata": {},
   "outputs": [
    {
     "name": "stdout",
     "output_type": "stream",
     "text": [
      "Epoch 1/20\n",
      "1607/1607 - 7s - loss: 0.8239 - accuracy: 0.7842 - val_loss: 0.5794 - val_accuracy: 0.8311 - 7s/epoch - 4ms/step\n",
      "Epoch 2/20\n",
      "1607/1607 - 7s - loss: 0.4524 - accuracy: 0.8622 - val_loss: 0.4470 - val_accuracy: 0.8608 - 7s/epoch - 4ms/step\n",
      "Epoch 3/20\n",
      "1607/1607 - 7s - loss: 0.3793 - accuracy: 0.8788 - val_loss: 0.3892 - val_accuracy: 0.8795 - 7s/epoch - 4ms/step\n",
      "Epoch 4/20\n",
      "1607/1607 - 7s - loss: 0.3338 - accuracy: 0.8901 - val_loss: 0.3536 - val_accuracy: 0.8901 - 7s/epoch - 4ms/step\n",
      "Epoch 5/20\n",
      "1607/1607 - 7s - loss: 0.2999 - accuracy: 0.8995 - val_loss: 0.3559 - val_accuracy: 0.8839 - 7s/epoch - 4ms/step\n",
      "Epoch 6/20\n",
      "1607/1607 - 7s - loss: 0.2748 - accuracy: 0.9065 - val_loss: 0.3459 - val_accuracy: 0.8926 - 7s/epoch - 4ms/step\n",
      "Epoch 7/20\n",
      "1607/1607 - 7s - loss: 0.2554 - accuracy: 0.9122 - val_loss: 0.3311 - val_accuracy: 0.8996 - 7s/epoch - 4ms/step\n",
      "Epoch 8/20\n",
      "1607/1607 - 7s - loss: 0.2318 - accuracy: 0.9193 - val_loss: 0.3282 - val_accuracy: 0.8995 - 7s/epoch - 4ms/step\n",
      "Epoch 9/20\n",
      "1607/1607 - 7s - loss: 0.2175 - accuracy: 0.9234 - val_loss: 0.3201 - val_accuracy: 0.9033 - 7s/epoch - 5ms/step\n",
      "Epoch 10/20\n",
      "1607/1607 - 6s - loss: 0.2041 - accuracy: 0.9279 - val_loss: 0.3327 - val_accuracy: 0.9013 - 6s/epoch - 4ms/step\n",
      "Epoch 11/20\n",
      "1607/1607 - 7s - loss: 0.1932 - accuracy: 0.9305 - val_loss: 0.3334 - val_accuracy: 0.9037 - 7s/epoch - 4ms/step\n",
      "Epoch 12/20\n",
      "1607/1607 - 6s - loss: 0.1833 - accuracy: 0.9339 - val_loss: 0.3417 - val_accuracy: 0.9018 - 6s/epoch - 4ms/step\n",
      "Epoch 13/20\n",
      "1607/1607 - 7s - loss: 0.1735 - accuracy: 0.9365 - val_loss: 0.3428 - val_accuracy: 0.9060 - 7s/epoch - 4ms/step\n",
      "Epoch 14/20\n",
      "1607/1607 - 6s - loss: 0.1680 - accuracy: 0.9385 - val_loss: 0.3483 - val_accuracy: 0.9066 - 6s/epoch - 4ms/step\n",
      "Epoch 15/20\n",
      "1607/1607 - 6s - loss: 0.1606 - accuracy: 0.9416 - val_loss: 0.3484 - val_accuracy: 0.9073 - 6s/epoch - 4ms/step\n",
      "Epoch 16/20\n",
      "1607/1607 - 7s - loss: 0.1540 - accuracy: 0.9433 - val_loss: 0.3541 - val_accuracy: 0.9070 - 7s/epoch - 4ms/step\n",
      "Epoch 17/20\n",
      "1607/1607 - 7s - loss: 0.1506 - accuracy: 0.9448 - val_loss: 0.3642 - val_accuracy: 0.9115 - 7s/epoch - 5ms/step\n",
      "Epoch 18/20\n",
      "1607/1607 - 6s - loss: 0.1448 - accuracy: 0.9468 - val_loss: 0.3659 - val_accuracy: 0.9077 - 6s/epoch - 4ms/step\n",
      "Epoch 19/20\n",
      "1607/1607 - 6s - loss: 0.1409 - accuracy: 0.9483 - val_loss: 0.3809 - val_accuracy: 0.9052 - 6s/epoch - 4ms/step\n",
      "Epoch 20/20\n",
      "1607/1607 - 6s - loss: 0.1371 - accuracy: 0.9490 - val_loss: 0.3805 - val_accuracy: 0.9072 - 6s/epoch - 4ms/step\n"
     ]
    }
   ],
   "source": [
    "model_history=model.fit(X_train_norm, y_train_encoded, epochs=20, validation_data=(X_test_norm, y_test_encoded), verbose=2,batch_size=128)"
   ]
  },
  {
   "cell_type": "markdown",
   "id": "6f43c61b",
   "metadata": {},
   "source": [
    "   In RELU, for a value less than 0, the gradient of this neuron will always be 0. In practical operation, if the learning rate is large, it is likely that more neurons in the network are 'dead', even if the learning rate is small, this situation is also likely to occur.     \n",
    "    To solve these problems, we can use LeakyRelu, so that the negative axis information will not be lost.   \n",
    "    However, LeakyRelu has no obvious advantages in this experiment"
   ]
  },
  {
   "cell_type": "markdown",
   "id": "61d2f6f4",
   "metadata": {},
   "source": [
    "<b> elu"
   ]
  },
  {
   "cell_type": "code",
   "execution_count": 9,
   "id": "3b1c26a8",
   "metadata": {},
   "outputs": [
    {
     "name": "stdout",
     "output_type": "stream",
     "text": [
      "Model: \"sequential_2\"\n",
      "_________________________________________________________________\n",
      " Layer (type)                Output Shape              Param #   \n",
      "=================================================================\n",
      " flatten_2 (Flatten)         (None, 784)               0         \n",
      "                                                                 \n",
      " dense_4 (Dense)             (None, 512)               401920    \n",
      "                                                                 \n",
      " dense_5 (Dense)             (None, 128)               65664     \n",
      "                                                                 \n",
      " dense_6 (Dense)             (None, 32)                4128      \n",
      "                                                                 \n",
      " dense_7 (Dense)             (None, 94)                3102      \n",
      "                                                                 \n",
      "=================================================================\n",
      "Total params: 474,814\n",
      "Trainable params: 474,814\n",
      "Non-trainable params: 0\n",
      "_________________________________________________________________\n"
     ]
    }
   ],
   "source": [
    "model = Sequential()\n",
    "model.add(Flatten(input_shape=(28,28)))\n",
    "model.add(Dense(512,activation='elu'))\n",
    "model.add(Dense(128,activation='elu'))\n",
    "model.add(Dense(32, activation='elu'))\n",
    "model.add(Dense(num_classes, activation='softmax'))\n",
    "opt = Adam()\n",
    "model.compile(optimizer=opt, loss='categorical_crossentropy', metrics=['accuracy'])\n",
    "model.summary()"
   ]
  },
  {
   "cell_type": "code",
   "execution_count": 10,
   "id": "f499df39",
   "metadata": {
    "scrolled": true
   },
   "outputs": [
    {
     "name": "stdout",
     "output_type": "stream",
     "text": [
      "Epoch 1/20\n",
      "1607/1607 - 7s - loss: 0.8157 - accuracy: 0.7853 - val_loss: 0.5299 - val_accuracy: 0.8463 - 7s/epoch - 4ms/step\n",
      "Epoch 2/20\n",
      "1607/1607 - 6s - loss: 0.4719 - accuracy: 0.8589 - val_loss: 0.4502 - val_accuracy: 0.8622 - 6s/epoch - 4ms/step\n",
      "Epoch 3/20\n",
      "1607/1607 - 6s - loss: 0.4028 - accuracy: 0.8753 - val_loss: 0.4111 - val_accuracy: 0.8749 - 6s/epoch - 4ms/step\n",
      "Epoch 4/20\n",
      "1607/1607 - 6s - loss: 0.3557 - accuracy: 0.8878 - val_loss: 0.3736 - val_accuracy: 0.8873 - 6s/epoch - 4ms/step\n",
      "Epoch 5/20\n",
      "1607/1607 - 7s - loss: 0.3241 - accuracy: 0.8963 - val_loss: 0.3654 - val_accuracy: 0.8882 - 7s/epoch - 4ms/step\n",
      "Epoch 6/20\n",
      "1607/1607 - 6s - loss: 0.2991 - accuracy: 0.9030 - val_loss: 0.3415 - val_accuracy: 0.8942 - 6s/epoch - 4ms/step\n",
      "Epoch 7/20\n",
      "1607/1607 - 6s - loss: 0.2763 - accuracy: 0.9088 - val_loss: 0.3388 - val_accuracy: 0.8970 - 6s/epoch - 4ms/step\n",
      "Epoch 8/20\n",
      "1607/1607 - 6s - loss: 0.2575 - accuracy: 0.9150 - val_loss: 0.3381 - val_accuracy: 0.8981 - 6s/epoch - 4ms/step\n",
      "Epoch 9/20\n",
      "1607/1607 - 7s - loss: 0.2432 - accuracy: 0.9182 - val_loss: 0.3248 - val_accuracy: 0.9030 - 7s/epoch - 4ms/step\n",
      "Epoch 10/20\n",
      "1607/1607 - 7s - loss: 0.2278 - accuracy: 0.9225 - val_loss: 0.3211 - val_accuracy: 0.9069 - 7s/epoch - 4ms/step\n",
      "Epoch 11/20\n",
      "1607/1607 - 7s - loss: 0.2175 - accuracy: 0.9254 - val_loss: 0.3202 - val_accuracy: 0.9084 - 7s/epoch - 4ms/step\n",
      "Epoch 12/20\n",
      "1607/1607 - 7s - loss: 0.2037 - accuracy: 0.9297 - val_loss: 0.3438 - val_accuracy: 0.9026 - 7s/epoch - 4ms/step\n",
      "Epoch 13/20\n",
      "1607/1607 - 7s - loss: 0.1953 - accuracy: 0.9320 - val_loss: 0.3277 - val_accuracy: 0.9096 - 7s/epoch - 4ms/step\n",
      "Epoch 14/20\n",
      "1607/1607 - 7s - loss: 0.1858 - accuracy: 0.9350 - val_loss: 0.3315 - val_accuracy: 0.9090 - 7s/epoch - 4ms/step\n",
      "Epoch 15/20\n",
      "1607/1607 - 7s - loss: 0.1789 - accuracy: 0.9370 - val_loss: 0.3509 - val_accuracy: 0.9039 - 7s/epoch - 4ms/step\n",
      "Epoch 16/20\n",
      "1607/1607 - 7s - loss: 0.1724 - accuracy: 0.9387 - val_loss: 0.3630 - val_accuracy: 0.9036 - 7s/epoch - 4ms/step\n",
      "Epoch 17/20\n",
      "1607/1607 - 8s - loss: 0.1735 - accuracy: 0.9395 - val_loss: 0.3351 - val_accuracy: 0.9140 - 8s/epoch - 5ms/step\n",
      "Epoch 18/20\n",
      "1607/1607 - 7s - loss: 0.1596 - accuracy: 0.9429 - val_loss: 0.3510 - val_accuracy: 0.9088 - 7s/epoch - 4ms/step\n",
      "Epoch 19/20\n",
      "1607/1607 - 7s - loss: 0.1567 - accuracy: 0.9439 - val_loss: 0.3743 - val_accuracy: 0.9034 - 7s/epoch - 4ms/step\n",
      "Epoch 20/20\n",
      "1607/1607 - 7s - loss: 0.1509 - accuracy: 0.9455 - val_loss: 0.3702 - val_accuracy: 0.9078 - 7s/epoch - 4ms/step\n"
     ]
    }
   ],
   "source": [
    "model_history=model.fit(X_train_norm, y_train_encoded, epochs=20, validation_data=(X_test_norm, y_test_encoded), verbose=2,batch_size=128)"
   ]
  },
  {
   "cell_type": "markdown",
   "id": "b99e62d3",
   "metadata": {},
   "source": [
    "The elu combines sigmoid and ReLU, with soft saturation on the left and no saturation on the right. The linear part on the right enables ELU to alleviate the gradient disappearance, while the soft saturation on the left enables ELU to be more robust to input changes or noise\n",
    "However, elu has no obvious advantages in this experiment, only the average epoch time is slightly higher"
   ]
  },
  {
   "cell_type": "markdown",
   "id": "3d038aa7",
   "metadata": {},
   "source": [
    "### PART C - COST FUNCTION"
   ]
  },
  {
   "cell_type": "markdown",
   "id": "5a361441",
   "metadata": {},
   "source": [
    "<b> kullback_leibler_divergence"
   ]
  },
  {
   "cell_type": "code",
   "execution_count": 13,
   "id": "97f0d2fb",
   "metadata": {},
   "outputs": [
    {
     "name": "stdout",
     "output_type": "stream",
     "text": [
      "Model: \"sequential_4\"\n",
      "_________________________________________________________________\n",
      " Layer (type)                Output Shape              Param #   \n",
      "=================================================================\n",
      " flatten_4 (Flatten)         (None, 784)               0         \n",
      "                                                                 \n",
      " dense_12 (Dense)            (None, 512)               401920    \n",
      "                                                                 \n",
      " dense_13 (Dense)            (None, 128)               65664     \n",
      "                                                                 \n",
      " dense_14 (Dense)            (None, 32)                4128      \n",
      "                                                                 \n",
      " dense_15 (Dense)            (None, 94)                3102      \n",
      "                                                                 \n",
      "=================================================================\n",
      "Total params: 474,814\n",
      "Trainable params: 474,814\n",
      "Non-trainable params: 0\n",
      "_________________________________________________________________\n"
     ]
    }
   ],
   "source": [
    "model = Sequential()\n",
    "model.add(Flatten(input_shape=(28,28)))\n",
    "model.add(Dense(512,activation='relu'))\n",
    "model.add(Dense(128,activation='relu'))\n",
    "model.add(Dense(32, activation='relu'))\n",
    "model.add(Dense(num_classes, activation='softmax'))\n",
    "opt = Adam()\n",
    "model.compile(optimizer=opt, loss='kld', metrics=['accuracy'])\n",
    "model.summary()"
   ]
  },
  {
   "cell_type": "code",
   "execution_count": 14,
   "id": "d491406e",
   "metadata": {
    "scrolled": true
   },
   "outputs": [
    {
     "name": "stdout",
     "output_type": "stream",
     "text": [
      "Epoch 1/20\n",
      "1607/1607 - 6s - loss: 0.8320 - accuracy: 0.7824 - val_loss: 0.4840 - val_accuracy: 0.8570 - 6s/epoch - 4ms/step\n",
      "Epoch 2/20\n",
      "1607/1607 - 6s - loss: 0.4498 - accuracy: 0.8632 - val_loss: 0.4270 - val_accuracy: 0.8651 - 6s/epoch - 4ms/step\n",
      "Epoch 3/20\n",
      "1607/1607 - 6s - loss: 0.3798 - accuracy: 0.8787 - val_loss: 0.4047 - val_accuracy: 0.8727 - 6s/epoch - 4ms/step\n",
      "Epoch 4/20\n",
      "1607/1607 - 6s - loss: 0.3353 - accuracy: 0.8900 - val_loss: 0.3552 - val_accuracy: 0.8873 - 6s/epoch - 4ms/step\n",
      "Epoch 5/20\n",
      "1607/1607 - 6s - loss: 0.2987 - accuracy: 0.9007 - val_loss: 0.3640 - val_accuracy: 0.8806 - 6s/epoch - 4ms/step\n",
      "Epoch 6/20\n",
      "1607/1607 - 6s - loss: 0.2764 - accuracy: 0.9072 - val_loss: 0.3436 - val_accuracy: 0.8922 - 6s/epoch - 4ms/step\n",
      "Epoch 7/20\n",
      "1607/1607 - 6s - loss: 0.2515 - accuracy: 0.9147 - val_loss: 0.3302 - val_accuracy: 0.8998 - 6s/epoch - 4ms/step\n",
      "Epoch 8/20\n",
      "1607/1607 - 6s - loss: 0.2337 - accuracy: 0.9190 - val_loss: 0.3440 - val_accuracy: 0.8954 - 6s/epoch - 4ms/step\n",
      "Epoch 9/20\n",
      "1607/1607 - 6s - loss: 0.2176 - accuracy: 0.9239 - val_loss: 0.3248 - val_accuracy: 0.9034 - 6s/epoch - 4ms/step\n",
      "Epoch 10/20\n",
      "1607/1607 - 6s - loss: 0.2061 - accuracy: 0.9269 - val_loss: 0.3258 - val_accuracy: 0.9042 - 6s/epoch - 4ms/step\n",
      "Epoch 11/20\n",
      "1607/1607 - 6s - loss: 0.1938 - accuracy: 0.9310 - val_loss: 0.3212 - val_accuracy: 0.9067 - 6s/epoch - 4ms/step\n",
      "Epoch 12/20\n",
      "1607/1607 - 7s - loss: 0.1849 - accuracy: 0.9337 - val_loss: 0.3258 - val_accuracy: 0.9074 - 7s/epoch - 4ms/step\n",
      "Epoch 13/20\n",
      "1607/1607 - 7s - loss: 0.1745 - accuracy: 0.9372 - val_loss: 0.3290 - val_accuracy: 0.9083 - 7s/epoch - 4ms/step\n",
      "Epoch 14/20\n",
      "1607/1607 - 7s - loss: 0.1674 - accuracy: 0.9395 - val_loss: 0.3420 - val_accuracy: 0.9048 - 7s/epoch - 4ms/step\n",
      "Epoch 15/20\n",
      "1607/1607 - 7s - loss: 0.1626 - accuracy: 0.9410 - val_loss: 0.3520 - val_accuracy: 0.9047 - 7s/epoch - 4ms/step\n",
      "Epoch 16/20\n",
      "1607/1607 - 7s - loss: 0.1601 - accuracy: 0.9416 - val_loss: 0.3488 - val_accuracy: 0.9097 - 7s/epoch - 4ms/step\n",
      "Epoch 17/20\n",
      "1607/1607 - 7s - loss: 0.1505 - accuracy: 0.9447 - val_loss: 0.3494 - val_accuracy: 0.9087 - 7s/epoch - 4ms/step\n",
      "Epoch 18/20\n",
      "1607/1607 - 7s - loss: 0.1469 - accuracy: 0.9464 - val_loss: 0.3619 - val_accuracy: 0.9074 - 7s/epoch - 4ms/step\n",
      "Epoch 19/20\n",
      "1607/1607 - 7s - loss: 0.1432 - accuracy: 0.9476 - val_loss: 0.3924 - val_accuracy: 0.9048 - 7s/epoch - 4ms/step\n",
      "Epoch 20/20\n",
      "1607/1607 - 7s - loss: 0.1431 - accuracy: 0.9475 - val_loss: 0.3704 - val_accuracy: 0.9085 - 7s/epoch - 4ms/step\n"
     ]
    }
   ],
   "source": [
    "model_history=model.fit(X_train_norm, y_train_encoded, epochs=20, validation_data=(X_test_norm, y_test_encoded), verbose=2,batch_size=128)"
   ]
  },
  {
   "cell_type": "markdown",
   "id": "ad27fae9",
   "metadata": {},
   "source": [
    "In this experiment, using kullback leibler divergence cost function finally improves the accuracy slightly, but not much"
   ]
  },
  {
   "cell_type": "markdown",
   "id": "8c72fd5b",
   "metadata": {},
   "source": [
    "<b> mean_squared_logarithmic_error"
   ]
  },
  {
   "cell_type": "code",
   "execution_count": 15,
   "id": "d0b31052",
   "metadata": {},
   "outputs": [
    {
     "name": "stdout",
     "output_type": "stream",
     "text": [
      "Model: \"sequential_5\"\n",
      "_________________________________________________________________\n",
      " Layer (type)                Output Shape              Param #   \n",
      "=================================================================\n",
      " flatten_5 (Flatten)         (None, 784)               0         \n",
      "                                                                 \n",
      " dense_16 (Dense)            (None, 512)               401920    \n",
      "                                                                 \n",
      " dense_17 (Dense)            (None, 128)               65664     \n",
      "                                                                 \n",
      " dense_18 (Dense)            (None, 32)                4128      \n",
      "                                                                 \n",
      " dense_19 (Dense)            (None, 94)                3102      \n",
      "                                                                 \n",
      "=================================================================\n",
      "Total params: 474,814\n",
      "Trainable params: 474,814\n",
      "Non-trainable params: 0\n",
      "_________________________________________________________________\n"
     ]
    }
   ],
   "source": [
    "model = Sequential()\n",
    "model.add(Flatten(input_shape=(28,28)))\n",
    "model.add(Dense(512,activation='relu'))\n",
    "model.add(Dense(128,activation='relu'))\n",
    "model.add(Dense(32, activation='relu'))\n",
    "model.add(Dense(num_classes, activation='softmax'))\n",
    "opt = Adam()\n",
    "model.compile(optimizer=opt, loss='msle', metrics=['accuracy'])\n",
    "model.summary()"
   ]
  },
  {
   "cell_type": "code",
   "execution_count": 16,
   "id": "fe86d6a0",
   "metadata": {
    "scrolled": true
   },
   "outputs": [
    {
     "name": "stdout",
     "output_type": "stream",
     "text": [
      "Epoch 1/20\n",
      "1607/1607 - 7s - loss: 0.0018 - accuracy: 0.7413 - val_loss: 0.0012 - val_accuracy: 0.8441 - 7s/epoch - 4ms/step\n",
      "Epoch 2/20\n",
      "1607/1607 - 6s - loss: 0.0011 - accuracy: 0.8574 - val_loss: 0.0010 - val_accuracy: 0.8643 - 6s/epoch - 4ms/step\n",
      "Epoch 3/20\n",
      "1607/1607 - 6s - loss: 9.0970e-04 - accuracy: 0.8780 - val_loss: 9.2742e-04 - val_accuracy: 0.8755 - 6s/epoch - 4ms/step\n",
      "Epoch 4/20\n",
      "1607/1607 - 6s - loss: 8.3059e-04 - accuracy: 0.8891 - val_loss: 8.5747e-04 - val_accuracy: 0.8848 - 6s/epoch - 4ms/step\n",
      "Epoch 5/20\n",
      "1607/1607 - 6s - loss: 7.7163e-04 - accuracy: 0.8978 - val_loss: 8.3084e-04 - val_accuracy: 0.8890 - 6s/epoch - 4ms/step\n",
      "Epoch 6/20\n",
      "1607/1607 - 6s - loss: 7.2172e-04 - accuracy: 0.9048 - val_loss: 8.0834e-04 - val_accuracy: 0.8935 - 6s/epoch - 4ms/step\n",
      "Epoch 7/20\n",
      "1607/1607 - 6s - loss: 6.8656e-04 - accuracy: 0.9097 - val_loss: 7.8779e-04 - val_accuracy: 0.8950 - 6s/epoch - 4ms/step\n",
      "Epoch 8/20\n",
      "1607/1607 - 6s - loss: 6.5426e-04 - accuracy: 0.9144 - val_loss: 7.8675e-04 - val_accuracy: 0.8959 - 6s/epoch - 4ms/step\n",
      "Epoch 9/20\n",
      "1607/1607 - 6s - loss: 6.3147e-04 - accuracy: 0.9173 - val_loss: 7.3531e-04 - val_accuracy: 0.9033 - 6s/epoch - 4ms/step\n",
      "Epoch 10/20\n",
      "1607/1607 - 6s - loss: 6.0777e-04 - accuracy: 0.9209 - val_loss: 7.5590e-04 - val_accuracy: 0.9005 - 6s/epoch - 4ms/step\n",
      "Epoch 11/20\n",
      "1607/1607 - 6s - loss: 5.8403e-04 - accuracy: 0.9246 - val_loss: 7.3755e-04 - val_accuracy: 0.9032 - 6s/epoch - 4ms/step\n",
      "Epoch 12/20\n",
      "1607/1607 - 6s - loss: 5.8831e-04 - accuracy: 0.9238 - val_loss: 7.5301e-04 - val_accuracy: 0.9023 - 6s/epoch - 4ms/step\n",
      "Epoch 13/20\n",
      "1607/1607 - 6s - loss: 5.4986e-04 - accuracy: 0.9293 - val_loss: 7.2200e-04 - val_accuracy: 0.9067 - 6s/epoch - 4ms/step\n",
      "Epoch 14/20\n",
      "1607/1607 - 6s - loss: 5.3950e-04 - accuracy: 0.9304 - val_loss: 7.0706e-04 - val_accuracy: 0.9087 - 6s/epoch - 4ms/step\n",
      "Epoch 15/20\n",
      "1607/1607 - 6s - loss: 5.2838e-04 - accuracy: 0.9323 - val_loss: 7.4148e-04 - val_accuracy: 0.9047 - 6s/epoch - 4ms/step\n",
      "Epoch 16/20\n",
      "1607/1607 - 6s - loss: 5.1741e-04 - accuracy: 0.9337 - val_loss: 7.2030e-04 - val_accuracy: 0.9069 - 6s/epoch - 4ms/step\n",
      "Epoch 17/20\n",
      "1607/1607 - 6s - loss: 5.0059e-04 - accuracy: 0.9359 - val_loss: 7.1025e-04 - val_accuracy: 0.9082 - 6s/epoch - 4ms/step\n",
      "Epoch 18/20\n",
      "1607/1607 - 6s - loss: 5.1146e-04 - accuracy: 0.9343 - val_loss: 7.1800e-04 - val_accuracy: 0.9076 - 6s/epoch - 4ms/step\n",
      "Epoch 19/20\n",
      "1607/1607 - 6s - loss: 4.8456e-04 - accuracy: 0.9380 - val_loss: 7.1059e-04 - val_accuracy: 0.9091 - 6s/epoch - 4ms/step\n",
      "Epoch 20/20\n",
      "1607/1607 - 6s - loss: 4.7931e-04 - accuracy: 0.9390 - val_loss: 7.1632e-04 - val_accuracy: 0.9083 - 6s/epoch - 4ms/step\n"
     ]
    }
   ],
   "source": [
    "model_history=model.fit(X_train_norm, y_train_encoded, epochs=20, validation_data=(X_test_norm, y_test_encoded), verbose=2,batch_size=128)"
   ]
  },
  {
   "cell_type": "markdown",
   "id": "5bfedc8b",
   "metadata": {},
   "source": [
    "In this experiment, kullback is used_ leibler_ The accuracy rate eventually decreases slightly due to divergence, but also not much. We can draw a small conclusion that cost function has little impact on this dataset and this model"
   ]
  },
  {
   "cell_type": "markdown",
   "id": "b57559bc",
   "metadata": {},
   "source": [
    "### PART D - EPOCHS"
   ]
  },
  {
   "cell_type": "markdown",
   "id": "b6010482",
   "metadata": {},
   "source": [
    "<b> 5 epochs"
   ]
  },
  {
   "cell_type": "code",
   "execution_count": 17,
   "id": "a805f427",
   "metadata": {},
   "outputs": [
    {
     "name": "stdout",
     "output_type": "stream",
     "text": [
      "Model: \"sequential_6\"\n",
      "_________________________________________________________________\n",
      " Layer (type)                Output Shape              Param #   \n",
      "=================================================================\n",
      " flatten_6 (Flatten)         (None, 784)               0         \n",
      "                                                                 \n",
      " dense_20 (Dense)            (None, 512)               401920    \n",
      "                                                                 \n",
      " dense_21 (Dense)            (None, 128)               65664     \n",
      "                                                                 \n",
      " dense_22 (Dense)            (None, 32)                4128      \n",
      "                                                                 \n",
      " dense_23 (Dense)            (None, 94)                3102      \n",
      "                                                                 \n",
      "=================================================================\n",
      "Total params: 474,814\n",
      "Trainable params: 474,814\n",
      "Non-trainable params: 0\n",
      "_________________________________________________________________\n"
     ]
    }
   ],
   "source": [
    "model = Sequential()\n",
    "model.add(Flatten(input_shape=(28,28)))\n",
    "model.add(Dense(512,activation='relu'))\n",
    "model.add(Dense(128,activation='relu'))\n",
    "model.add(Dense(32, activation='relu'))\n",
    "model.add(Dense(num_classes, activation='softmax'))\n",
    "opt = Adam()\n",
    "model.compile(optimizer=opt, loss='categorical_crossentropy', metrics=['accuracy'])\n",
    "model.summary()"
   ]
  },
  {
   "cell_type": "code",
   "execution_count": 18,
   "id": "0207116e",
   "metadata": {},
   "outputs": [
    {
     "name": "stdout",
     "output_type": "stream",
     "text": [
      "Epoch 1/5\n",
      "1607/1607 - 6s - loss: 0.8101 - accuracy: 0.7853 - val_loss: 0.5040 - val_accuracy: 0.8501 - 6s/epoch - 4ms/step\n",
      "Epoch 2/5\n",
      "1607/1607 - 6s - loss: 0.4414 - accuracy: 0.8642 - val_loss: 0.4171 - val_accuracy: 0.8708 - 6s/epoch - 4ms/step\n",
      "Epoch 3/5\n",
      "1607/1607 - 6s - loss: 0.3718 - accuracy: 0.8804 - val_loss: 0.4124 - val_accuracy: 0.8724 - 6s/epoch - 4ms/step\n",
      "Epoch 4/5\n",
      "1607/1607 - 6s - loss: 0.3282 - accuracy: 0.8917 - val_loss: 0.3563 - val_accuracy: 0.8885 - 6s/epoch - 4ms/step\n",
      "Epoch 5/5\n",
      "1607/1607 - 6s - loss: 0.2953 - accuracy: 0.9016 - val_loss: 0.3453 - val_accuracy: 0.8902 - 6s/epoch - 4ms/step\n"
     ]
    }
   ],
   "source": [
    "model_history=model.fit(X_train_norm, y_train_encoded, epochs=5, validation_data=(X_test_norm, y_test_encoded), verbose=2,batch_size=128)"
   ]
  },
  {
   "cell_type": "markdown",
   "id": "85077c1a",
   "metadata": {},
   "source": [
    "<b> 50 epochs"
   ]
  },
  {
   "cell_type": "code",
   "execution_count": 19,
   "id": "475697fb",
   "metadata": {},
   "outputs": [
    {
     "name": "stdout",
     "output_type": "stream",
     "text": [
      "Model: \"sequential_7\"\n",
      "_________________________________________________________________\n",
      " Layer (type)                Output Shape              Param #   \n",
      "=================================================================\n",
      " flatten_7 (Flatten)         (None, 784)               0         \n",
      "                                                                 \n",
      " dense_24 (Dense)            (None, 512)               401920    \n",
      "                                                                 \n",
      " dense_25 (Dense)            (None, 128)               65664     \n",
      "                                                                 \n",
      " dense_26 (Dense)            (None, 32)                4128      \n",
      "                                                                 \n",
      " dense_27 (Dense)            (None, 94)                3102      \n",
      "                                                                 \n",
      "=================================================================\n",
      "Total params: 474,814\n",
      "Trainable params: 474,814\n",
      "Non-trainable params: 0\n",
      "_________________________________________________________________\n"
     ]
    }
   ],
   "source": [
    "model = Sequential()\n",
    "model.add(Flatten(input_shape=(28,28)))\n",
    "model.add(Dense(512,activation='relu'))\n",
    "model.add(Dense(128,activation='relu'))\n",
    "model.add(Dense(32, activation='relu'))\n",
    "model.add(Dense(num_classes, activation='softmax'))\n",
    "opt = Adam()\n",
    "model.compile(optimizer=opt, loss='categorical_crossentropy', metrics=['accuracy'])\n",
    "model.summary()"
   ]
  },
  {
   "cell_type": "code",
   "execution_count": 20,
   "id": "e532c687",
   "metadata": {
    "scrolled": true
   },
   "outputs": [
    {
     "name": "stdout",
     "output_type": "stream",
     "text": [
      "Epoch 1/50\n",
      "1607/1607 - 7s - loss: 0.8344 - accuracy: 0.7806 - val_loss: 0.5389 - val_accuracy: 0.8378 - 7s/epoch - 4ms/step\n",
      "Epoch 2/50\n",
      "1607/1607 - 7s - loss: 0.4538 - accuracy: 0.8619 - val_loss: 0.4389 - val_accuracy: 0.8644 - 7s/epoch - 4ms/step\n",
      "Epoch 3/50\n",
      "1607/1607 - 6s - loss: 0.3809 - accuracy: 0.8791 - val_loss: 0.3996 - val_accuracy: 0.8751 - 6s/epoch - 4ms/step\n",
      "Epoch 4/50\n",
      "1607/1607 - 6s - loss: 0.3349 - accuracy: 0.8908 - val_loss: 0.3595 - val_accuracy: 0.8878 - 6s/epoch - 4ms/step\n",
      "Epoch 5/50\n",
      "1607/1607 - 6s - loss: 0.3022 - accuracy: 0.8996 - val_loss: 0.3580 - val_accuracy: 0.8881 - 6s/epoch - 4ms/step\n",
      "Epoch 6/50\n",
      "1607/1607 - 6s - loss: 0.2757 - accuracy: 0.9071 - val_loss: 0.3613 - val_accuracy: 0.8881 - 6s/epoch - 4ms/step\n",
      "Epoch 7/50\n",
      "1607/1607 - 6s - loss: 0.2568 - accuracy: 0.9125 - val_loss: 0.3390 - val_accuracy: 0.8984 - 6s/epoch - 4ms/step\n",
      "Epoch 8/50\n",
      "1607/1607 - 6s - loss: 0.2417 - accuracy: 0.9165 - val_loss: 0.3248 - val_accuracy: 0.9014 - 6s/epoch - 4ms/step\n",
      "Epoch 9/50\n",
      "1607/1607 - 6s - loss: 0.2177 - accuracy: 0.9241 - val_loss: 0.3378 - val_accuracy: 0.9005 - 6s/epoch - 4ms/step\n",
      "Epoch 10/50\n",
      "1607/1607 - 6s - loss: 0.2058 - accuracy: 0.9272 - val_loss: 0.3337 - val_accuracy: 0.9012 - 6s/epoch - 4ms/step\n",
      "Epoch 11/50\n",
      "1607/1607 - 6s - loss: 0.1973 - accuracy: 0.9297 - val_loss: 0.3271 - val_accuracy: 0.9053 - 6s/epoch - 4ms/step\n",
      "Epoch 12/50\n",
      "1607/1607 - 6s - loss: 0.1862 - accuracy: 0.9334 - val_loss: 0.3310 - val_accuracy: 0.9045 - 6s/epoch - 4ms/step\n",
      "Epoch 13/50\n",
      "1607/1607 - 7s - loss: 0.1771 - accuracy: 0.9364 - val_loss: 0.3637 - val_accuracy: 0.8984 - 7s/epoch - 4ms/step\n",
      "Epoch 14/50\n",
      "1607/1607 - 6s - loss: 0.1770 - accuracy: 0.9373 - val_loss: 0.3409 - val_accuracy: 0.9066 - 6s/epoch - 4ms/step\n",
      "Epoch 15/50\n",
      "1607/1607 - 6s - loss: 0.1619 - accuracy: 0.9419 - val_loss: 0.3687 - val_accuracy: 0.8979 - 6s/epoch - 4ms/step\n",
      "Epoch 16/50\n",
      "1607/1607 - 6s - loss: 0.1572 - accuracy: 0.9431 - val_loss: 0.3519 - val_accuracy: 0.9063 - 6s/epoch - 4ms/step\n",
      "Epoch 17/50\n",
      "1607/1607 - 6s - loss: 0.1524 - accuracy: 0.9444 - val_loss: 0.3463 - val_accuracy: 0.9108 - 6s/epoch - 4ms/step\n",
      "Epoch 18/50\n",
      "1607/1607 - 6s - loss: 0.1482 - accuracy: 0.9457 - val_loss: 0.3645 - val_accuracy: 0.9067 - 6s/epoch - 4ms/step\n",
      "Epoch 19/50\n",
      "1607/1607 - 7s - loss: 0.1428 - accuracy: 0.9476 - val_loss: 0.3627 - val_accuracy: 0.9109 - 7s/epoch - 5ms/step\n",
      "Epoch 20/50\n",
      "1607/1607 - 7s - loss: 0.1412 - accuracy: 0.9481 - val_loss: 0.3695 - val_accuracy: 0.9065 - 7s/epoch - 4ms/step\n",
      "Epoch 21/50\n",
      "1607/1607 - 7s - loss: 0.1351 - accuracy: 0.9501 - val_loss: 0.3888 - val_accuracy: 0.9075 - 7s/epoch - 4ms/step\n",
      "Epoch 22/50\n",
      "1607/1607 - 7s - loss: 0.1329 - accuracy: 0.9510 - val_loss: 0.3782 - val_accuracy: 0.9105 - 7s/epoch - 4ms/step\n",
      "Epoch 23/50\n",
      "1607/1607 - 7s - loss: 0.1287 - accuracy: 0.9524 - val_loss: 0.3863 - val_accuracy: 0.9122 - 7s/epoch - 4ms/step\n",
      "Epoch 24/50\n",
      "1607/1607 - 7s - loss: 0.1271 - accuracy: 0.9528 - val_loss: 0.3959 - val_accuracy: 0.9082 - 7s/epoch - 4ms/step\n",
      "Epoch 25/50\n",
      "1607/1607 - 7s - loss: 0.1253 - accuracy: 0.9537 - val_loss: 0.3969 - val_accuracy: 0.9139 - 7s/epoch - 4ms/step\n",
      "Epoch 26/50\n",
      "1607/1607 - 7s - loss: 0.1202 - accuracy: 0.9552 - val_loss: 0.4040 - val_accuracy: 0.9091 - 7s/epoch - 4ms/step\n",
      "Epoch 27/50\n",
      "1607/1607 - 8s - loss: 0.1216 - accuracy: 0.9546 - val_loss: 0.4108 - val_accuracy: 0.9095 - 8s/epoch - 5ms/step\n",
      "Epoch 28/50\n",
      "1607/1607 - 7s - loss: 0.1157 - accuracy: 0.9567 - val_loss: 0.4432 - val_accuracy: 0.9079 - 7s/epoch - 4ms/step\n",
      "Epoch 29/50\n",
      "1607/1607 - 7s - loss: 0.1190 - accuracy: 0.9560 - val_loss: 0.4265 - val_accuracy: 0.9120 - 7s/epoch - 5ms/step\n",
      "Epoch 30/50\n",
      "1607/1607 - 7s - loss: 0.1113 - accuracy: 0.9583 - val_loss: 0.4382 - val_accuracy: 0.9098 - 7s/epoch - 4ms/step\n",
      "Epoch 31/50\n",
      "1607/1607 - 7s - loss: 0.1111 - accuracy: 0.9583 - val_loss: 0.4330 - val_accuracy: 0.9103 - 7s/epoch - 4ms/step\n",
      "Epoch 32/50\n",
      "1607/1607 - 7s - loss: 0.1100 - accuracy: 0.9584 - val_loss: 0.4496 - val_accuracy: 0.9110 - 7s/epoch - 5ms/step\n",
      "Epoch 33/50\n",
      "1607/1607 - 7s - loss: 0.1105 - accuracy: 0.9587 - val_loss: 0.4453 - val_accuracy: 0.9107 - 7s/epoch - 4ms/step\n",
      "Epoch 34/50\n",
      "1607/1607 - 7s - loss: 0.1122 - accuracy: 0.9582 - val_loss: 0.4539 - val_accuracy: 0.9117 - 7s/epoch - 4ms/step\n",
      "Epoch 35/50\n",
      "1607/1607 - 7s - loss: 0.1051 - accuracy: 0.9610 - val_loss: 0.4740 - val_accuracy: 0.9098 - 7s/epoch - 4ms/step\n",
      "Epoch 36/50\n",
      "1607/1607 - 7s - loss: 0.1035 - accuracy: 0.9604 - val_loss: 0.4697 - val_accuracy: 0.9098 - 7s/epoch - 4ms/step\n",
      "Epoch 37/50\n",
      "1607/1607 - 7s - loss: 0.1025 - accuracy: 0.9616 - val_loss: 0.4639 - val_accuracy: 0.9110 - 7s/epoch - 5ms/step\n",
      "Epoch 38/50\n",
      "1607/1607 - 8s - loss: 0.1011 - accuracy: 0.9619 - val_loss: 0.4707 - val_accuracy: 0.9116 - 8s/epoch - 5ms/step\n",
      "Epoch 39/50\n",
      "1607/1607 - 8s - loss: 0.0997 - accuracy: 0.9623 - val_loss: 0.4885 - val_accuracy: 0.9100 - 8s/epoch - 5ms/step\n",
      "Epoch 40/50\n",
      "1607/1607 - 8s - loss: 0.0989 - accuracy: 0.9629 - val_loss: 0.4685 - val_accuracy: 0.9138 - 8s/epoch - 5ms/step\n",
      "Epoch 41/50\n",
      "1607/1607 - 7s - loss: 0.0979 - accuracy: 0.9632 - val_loss: 0.4857 - val_accuracy: 0.9114 - 7s/epoch - 4ms/step\n",
      "Epoch 42/50\n",
      "1607/1607 - 7s - loss: 0.0964 - accuracy: 0.9635 - val_loss: 0.5025 - val_accuracy: 0.9114 - 7s/epoch - 5ms/step\n",
      "Epoch 43/50\n",
      "1607/1607 - 7s - loss: 0.0976 - accuracy: 0.9634 - val_loss: 0.5071 - val_accuracy: 0.9081 - 7s/epoch - 4ms/step\n",
      "Epoch 44/50\n",
      "1607/1607 - 7s - loss: 0.0924 - accuracy: 0.9647 - val_loss: 0.4901 - val_accuracy: 0.9124 - 7s/epoch - 4ms/step\n",
      "Epoch 45/50\n",
      "1607/1607 - 7s - loss: 0.0915 - accuracy: 0.9653 - val_loss: 0.5172 - val_accuracy: 0.9120 - 7s/epoch - 4ms/step\n",
      "Epoch 46/50\n",
      "1607/1607 - 7s - loss: 0.0918 - accuracy: 0.9659 - val_loss: 0.5251 - val_accuracy: 0.9116 - 7s/epoch - 4ms/step\n",
      "Epoch 47/50\n",
      "1607/1607 - 7s - loss: 0.0954 - accuracy: 0.9644 - val_loss: 0.5297 - val_accuracy: 0.9116 - 7s/epoch - 4ms/step\n",
      "Epoch 48/50\n",
      "1607/1607 - 7s - loss: 0.0907 - accuracy: 0.9657 - val_loss: 0.5256 - val_accuracy: 0.9141 - 7s/epoch - 5ms/step\n",
      "Epoch 49/50\n",
      "1607/1607 - 8s - loss: 0.0899 - accuracy: 0.9664 - val_loss: 0.5362 - val_accuracy: 0.9141 - 8s/epoch - 5ms/step\n",
      "Epoch 50/50\n",
      "1607/1607 - 8s - loss: 0.0868 - accuracy: 0.9670 - val_loss: 0.5477 - val_accuracy: 0.9109 - 8s/epoch - 5ms/step\n"
     ]
    }
   ],
   "source": [
    "model_history=model.fit(X_train_norm, y_train_encoded, epochs=50, validation_data=(X_test_norm, y_test_encoded), verbose=2,batch_size=128)"
   ]
  },
  {
   "cell_type": "markdown",
   "id": "8ec7aa27",
   "metadata": {},
   "source": [
    "Obviously, as predicted, the accuracy rate will increase with the number of epochs, but it will increase less and less"
   ]
  },
  {
   "cell_type": "markdown",
   "id": "90c07d66",
   "metadata": {},
   "source": [
    "### PART E - GRADIENT ESTIMATION"
   ]
  },
  {
   "cell_type": "markdown",
   "id": "8e3ab10b",
   "metadata": {},
   "source": [
    "<b> Stochastic Gradient Descent"
   ]
  },
  {
   "cell_type": "code",
   "execution_count": 23,
   "id": "921acdda",
   "metadata": {
    "scrolled": true
   },
   "outputs": [
    {
     "name": "stdout",
     "output_type": "stream",
     "text": [
      "Model: \"sequential_9\"\n",
      "_________________________________________________________________\n",
      " Layer (type)                Output Shape              Param #   \n",
      "=================================================================\n",
      " flatten_9 (Flatten)         (None, 784)               0         \n",
      "                                                                 \n",
      " dense_32 (Dense)            (None, 512)               401920    \n",
      "                                                                 \n",
      " dense_33 (Dense)            (None, 128)               65664     \n",
      "                                                                 \n",
      " dense_34 (Dense)            (None, 32)                4128      \n",
      "                                                                 \n",
      " dense_35 (Dense)            (None, 94)                3102      \n",
      "                                                                 \n",
      "=================================================================\n",
      "Total params: 474,814\n",
      "Trainable params: 474,814\n",
      "Non-trainable params: 0\n",
      "_________________________________________________________________\n"
     ]
    }
   ],
   "source": [
    "model = Sequential()\n",
    "model.add(Flatten(input_shape=(28,28)))\n",
    "model.add(Dense(512,activation='relu'))\n",
    "model.add(Dense(128,activation='relu'))\n",
    "model.add(Dense(32, activation='relu'))\n",
    "model.add(Dense(num_classes, activation='softmax'))\n",
    "opt = keras.optimizers.SGD(learning_rate=0.01, momentum=0.0, nesterov=False)\n",
    "model.compile(optimizer=opt, loss='categorical_crossentropy', metrics=['accuracy'])\n",
    "model.summary()"
   ]
  },
  {
   "cell_type": "code",
   "execution_count": 24,
   "id": "e93e409c",
   "metadata": {
    "scrolled": true
   },
   "outputs": [
    {
     "name": "stdout",
     "output_type": "stream",
     "text": [
      "Epoch 1/20\n",
      "1607/1607 - 11s - loss: 3.6125 - accuracy: 0.2081 - val_loss: 2.3480 - val_accuracy: 0.4296 - 11s/epoch - 7ms/step\n",
      "Epoch 2/20\n",
      "1607/1607 - 11s - loss: 1.3845 - accuracy: 0.6788 - val_loss: 6.2178 - val_accuracy: 0.1753 - 11s/epoch - 7ms/step\n",
      "Epoch 3/20\n",
      "1607/1607 - 11s - loss: 0.9736 - accuracy: 0.7630 - val_loss: 0.8926 - val_accuracy: 0.7804 - 11s/epoch - 7ms/step\n",
      "Epoch 4/20\n",
      "1607/1607 - 11s - loss: 0.8439 - accuracy: 0.7887 - val_loss: 0.8055 - val_accuracy: 0.7994 - 11s/epoch - 7ms/step\n",
      "Epoch 5/20\n",
      "1607/1607 - 11s - loss: 0.7751 - accuracy: 0.8030 - val_loss: 0.7524 - val_accuracy: 0.8119 - 11s/epoch - 7ms/step\n",
      "Epoch 6/20\n",
      "1607/1607 - 11s - loss: 0.7275 - accuracy: 0.8132 - val_loss: 0.7517 - val_accuracy: 0.8020 - 11s/epoch - 7ms/step\n",
      "Epoch 7/20\n",
      "1607/1607 - 11s - loss: 0.6918 - accuracy: 0.8206 - val_loss: 0.7232 - val_accuracy: 0.8122 - 11s/epoch - 7ms/step\n",
      "Epoch 8/20\n",
      "1607/1607 - 11s - loss: 0.6634 - accuracy: 0.8266 - val_loss: 0.6635 - val_accuracy: 0.8285 - 11s/epoch - 7ms/step\n",
      "Epoch 9/20\n",
      "1607/1607 - 11s - loss: 0.6395 - accuracy: 0.8320 - val_loss: 0.6434 - val_accuracy: 0.8278 - 11s/epoch - 7ms/step\n",
      "Epoch 10/20\n",
      "1607/1607 - 11s - loss: 0.6191 - accuracy: 0.8364 - val_loss: 1.0477 - val_accuracy: 0.7639 - 11s/epoch - 7ms/step\n",
      "Epoch 11/20\n",
      "1607/1607 - 11s - loss: 0.6027 - accuracy: 0.8398 - val_loss: 2.2577 - val_accuracy: 0.6458 - 11s/epoch - 7ms/step\n",
      "Epoch 12/20\n",
      "1607/1607 - 11s - loss: 0.5875 - accuracy: 0.8437 - val_loss: 33.6248 - val_accuracy: 0.0199 - 11s/epoch - 7ms/step\n",
      "Epoch 13/20\n",
      "1607/1607 - 11s - loss: 0.6189 - accuracy: 0.8417 - val_loss: 0.6646 - val_accuracy: 0.8340 - 11s/epoch - 7ms/step\n",
      "Epoch 14/20\n",
      "1607/1607 - 11s - loss: 0.5578 - accuracy: 0.8501 - val_loss: 0.6774 - val_accuracy: 0.8214 - 11s/epoch - 7ms/step\n",
      "Epoch 15/20\n",
      "1607/1607 - 11s - loss: 0.5447 - accuracy: 0.8521 - val_loss: 0.5505 - val_accuracy: 0.8514 - 11s/epoch - 7ms/step\n",
      "Epoch 16/20\n",
      "1607/1607 - 11s - loss: 0.5326 - accuracy: 0.8546 - val_loss: 0.5500 - val_accuracy: 0.8491 - 11s/epoch - 7ms/step\n",
      "Epoch 17/20\n",
      "1607/1607 - 11s - loss: 0.5217 - accuracy: 0.8567 - val_loss: 0.5325 - val_accuracy: 0.8531 - 11s/epoch - 7ms/step\n",
      "Epoch 18/20\n",
      "1607/1607 - 11s - loss: 0.5115 - accuracy: 0.8590 - val_loss: 0.6084 - val_accuracy: 0.8291 - 11s/epoch - 7ms/step\n",
      "Epoch 19/20\n",
      "1607/1607 - 11s - loss: 0.5018 - accuracy: 0.8607 - val_loss: 0.5124 - val_accuracy: 0.8595 - 11s/epoch - 7ms/step\n",
      "Epoch 20/20\n",
      "1607/1607 - 11s - loss: 0.4926 - accuracy: 0.8627 - val_loss: 4.4429 - val_accuracy: 0.4120 - 11s/epoch - 7ms/step\n"
     ]
    }
   ],
   "source": [
    "model_history=model.fit(X_train_norm, y_train_encoded, epochs=20, validation_data=(X_test_norm, y_test_encoded), verbose=2,batch_size=128)"
   ]
  },
  {
   "cell_type": "markdown",
   "id": "a6438476",
   "metadata": {},
   "source": [
    "When Stochastic Gradient Descent is used, both the initial and final values of accuracy become smaller.At the same time, each epoch needs more time to run, so Stochastic Gradient Descent is not suitable for this experiment"
   ]
  },
  {
   "cell_type": "markdown",
   "id": "d2871fa3",
   "metadata": {},
   "source": [
    "<b> Adadelta"
   ]
  },
  {
   "cell_type": "code",
   "execution_count": 25,
   "id": "9ef7f974",
   "metadata": {},
   "outputs": [
    {
     "name": "stdout",
     "output_type": "stream",
     "text": [
      "Model: \"sequential_10\"\n",
      "_________________________________________________________________\n",
      " Layer (type)                Output Shape              Param #   \n",
      "=================================================================\n",
      " flatten_10 (Flatten)        (None, 784)               0         \n",
      "                                                                 \n",
      " dense_36 (Dense)            (None, 512)               401920    \n",
      "                                                                 \n",
      " dense_37 (Dense)            (None, 128)               65664     \n",
      "                                                                 \n",
      " dense_38 (Dense)            (None, 32)                4128      \n",
      "                                                                 \n",
      " dense_39 (Dense)            (None, 94)                3102      \n",
      "                                                                 \n",
      "=================================================================\n",
      "Total params: 474,814\n",
      "Trainable params: 474,814\n",
      "Non-trainable params: 0\n",
      "_________________________________________________________________\n"
     ]
    }
   ],
   "source": [
    "model = Sequential()\n",
    "model.add(Flatten(input_shape=(28,28)))\n",
    "model.add(Dense(512,activation='relu'))\n",
    "model.add(Dense(128,activation='relu'))\n",
    "model.add(Dense(32, activation='relu'))\n",
    "model.add(Dense(num_classes, activation='softmax'))\n",
    "opt = keras.optimizers.Adadelta(learning_rate=1, rho=0.95)\n",
    "model.compile(optimizer=opt, loss='categorical_crossentropy', metrics=['accuracy'])\n",
    "model.summary()"
   ]
  },
  {
   "cell_type": "code",
   "execution_count": 26,
   "id": "a7cce215",
   "metadata": {
    "scrolled": true
   },
   "outputs": [
    {
     "name": "stdout",
     "output_type": "stream",
     "text": [
      "Epoch 1/20\n",
      "1607/1607 - 11s - loss: 0.8251 - accuracy: 0.7771 - val_loss: 0.7079 - val_accuracy: 0.8080 - 11s/epoch - 7ms/step\n",
      "Epoch 2/20\n",
      "1607/1607 - 11s - loss: 0.4448 - accuracy: 0.8633 - val_loss: 0.4393 - val_accuracy: 0.8658 - 11s/epoch - 7ms/step\n",
      "Epoch 3/20\n",
      "1607/1607 - 11s - loss: 0.3777 - accuracy: 0.8796 - val_loss: 0.3778 - val_accuracy: 0.8802 - 11s/epoch - 7ms/step\n",
      "Epoch 4/20\n",
      "1607/1607 - 11s - loss: 0.3360 - accuracy: 0.8910 - val_loss: 0.3750 - val_accuracy: 0.8826 - 11s/epoch - 7ms/step\n",
      "Epoch 5/20\n",
      "1607/1607 - 11s - loss: 0.3048 - accuracy: 0.8994 - val_loss: 0.3519 - val_accuracy: 0.8897 - 11s/epoch - 7ms/step\n",
      "Epoch 6/20\n",
      "1607/1607 - 11s - loss: 0.2815 - accuracy: 0.9056 - val_loss: 0.3446 - val_accuracy: 0.8953 - 11s/epoch - 7ms/step\n",
      "Epoch 7/20\n",
      "1607/1607 - 11s - loss: 0.2608 - accuracy: 0.9118 - val_loss: 0.3261 - val_accuracy: 0.9000 - 11s/epoch - 7ms/step\n",
      "Epoch 8/20\n",
      "1607/1607 - 11s - loss: 0.2429 - accuracy: 0.9174 - val_loss: 0.3435 - val_accuracy: 0.8942 - 11s/epoch - 7ms/step\n",
      "Epoch 9/20\n",
      "1607/1607 - 11s - loss: 0.2279 - accuracy: 0.9214 - val_loss: 0.3307 - val_accuracy: 0.9017 - 11s/epoch - 7ms/step\n",
      "Epoch 10/20\n",
      "1607/1607 - 11s - loss: 0.2138 - accuracy: 0.9259 - val_loss: 0.3408 - val_accuracy: 0.9003 - 11s/epoch - 7ms/step\n",
      "Epoch 11/20\n",
      "1607/1607 - 11s - loss: 0.2027 - accuracy: 0.9284 - val_loss: 0.3220 - val_accuracy: 0.9071 - 11s/epoch - 7ms/step\n",
      "Epoch 12/20\n",
      "1607/1607 - 11s - loss: 0.1920 - accuracy: 0.9326 - val_loss: 0.3461 - val_accuracy: 0.8997 - 11s/epoch - 7ms/step\n",
      "Epoch 13/20\n",
      "1607/1607 - 11s - loss: 0.1839 - accuracy: 0.9356 - val_loss: 0.3472 - val_accuracy: 0.9020 - 11s/epoch - 7ms/step\n",
      "Epoch 14/20\n",
      "1607/1607 - 11s - loss: 0.1759 - accuracy: 0.9378 - val_loss: 0.3466 - val_accuracy: 0.9073 - 11s/epoch - 7ms/step\n",
      "Epoch 15/20\n",
      "1607/1607 - 11s - loss: 0.1674 - accuracy: 0.9403 - val_loss: 0.3406 - val_accuracy: 0.9080 - 11s/epoch - 7ms/step\n",
      "Epoch 16/20\n",
      "1607/1607 - 11s - loss: 0.1616 - accuracy: 0.9417 - val_loss: 0.3820 - val_accuracy: 0.8975 - 11s/epoch - 7ms/step\n",
      "Epoch 17/20\n",
      "1607/1607 - 11s - loss: 0.1537 - accuracy: 0.9442 - val_loss: 0.3494 - val_accuracy: 0.9064 - 11s/epoch - 7ms/step\n",
      "Epoch 18/20\n",
      "1607/1607 - 11s - loss: 0.1495 - accuracy: 0.9462 - val_loss: 0.3749 - val_accuracy: 0.9091 - 11s/epoch - 7ms/step\n",
      "Epoch 19/20\n",
      "1607/1607 - 11s - loss: 0.1439 - accuracy: 0.9481 - val_loss: 0.3594 - val_accuracy: 0.9115 - 11s/epoch - 7ms/step\n",
      "Epoch 20/20\n",
      "1607/1607 - 11s - loss: 0.1393 - accuracy: 0.9495 - val_loss: 0.3664 - val_accuracy: 0.9116 - 11s/epoch - 7ms/step\n"
     ]
    }
   ],
   "source": [
    "model_history=model.fit(X_train_norm, y_train_encoded, epochs=20, validation_data=(X_test_norm, y_test_encoded), verbose=2,batch_size=128)"
   ]
  },
  {
   "cell_type": "markdown",
   "id": "90780644",
   "metadata": {},
   "source": [
    "Different from Stochastic Gradient Descent , Adadelta is an optimized method. In this experiment, it is not different from the basic model, they are all very good."
   ]
  },
  {
   "cell_type": "markdown",
   "id": "3968fcd7",
   "metadata": {},
   "source": [
    "### PART F - NETWORK ARCHITECTURE"
   ]
  },
  {
   "cell_type": "markdown",
   "id": "11b1760e",
   "metadata": {},
   "source": [
    "<b> Number of layers"
   ]
  },
  {
   "cell_type": "code",
   "execution_count": 27,
   "id": "1dbe0487",
   "metadata": {},
   "outputs": [
    {
     "name": "stdout",
     "output_type": "stream",
     "text": [
      "Model: \"sequential_11\"\n",
      "_________________________________________________________________\n",
      " Layer (type)                Output Shape              Param #   \n",
      "=================================================================\n",
      " flatten_11 (Flatten)        (None, 784)               0         \n",
      "                                                                 \n",
      " dense_40 (Dense)            (None, 512)               401920    \n",
      "                                                                 \n",
      " dense_41 (Dense)            (None, 256)               131328    \n",
      "                                                                 \n",
      " dense_42 (Dense)            (None, 128)               32896     \n",
      "                                                                 \n",
      " dense_43 (Dense)            (None, 32)                4128      \n",
      "                                                                 \n",
      " dense_44 (Dense)            (None, 94)                3102      \n",
      "                                                                 \n",
      "=================================================================\n",
      "Total params: 573,374\n",
      "Trainable params: 573,374\n",
      "Non-trainable params: 0\n",
      "_________________________________________________________________\n"
     ]
    }
   ],
   "source": [
    "model = Sequential()\n",
    "model.add(Flatten(input_shape=(28,28)))\n",
    "model.add(Dense(512,activation='relu'))\n",
    "model.add(Dense(256,activation='relu'))\n",
    "model.add(Dense(128,activation='relu'))\n",
    "model.add(Dense(32, activation='relu'))\n",
    "model.add(Dense(num_classes, activation='softmax'))\n",
    "opt = Adam()\n",
    "model.compile(optimizer=opt, loss='categorical_crossentropy', metrics=['accuracy'])\n",
    "model.summary()"
   ]
  },
  {
   "cell_type": "code",
   "execution_count": 28,
   "id": "f0bd00fb",
   "metadata": {
    "scrolled": true
   },
   "outputs": [
    {
     "name": "stdout",
     "output_type": "stream",
     "text": [
      "Epoch 1/20\n",
      "1607/1607 - 11s - loss: 0.7960 - accuracy: 0.7859 - val_loss: 0.5036 - val_accuracy: 0.8487 - 11s/epoch - 7ms/step\n",
      "Epoch 2/20\n",
      "1607/1607 - 10s - loss: 0.4243 - accuracy: 0.8664 - val_loss: 0.4031 - val_accuracy: 0.8741 - 10s/epoch - 6ms/step\n",
      "Epoch 3/20\n",
      "1607/1607 - 10s - loss: 0.3540 - accuracy: 0.8840 - val_loss: 0.3692 - val_accuracy: 0.8800 - 10s/epoch - 6ms/step\n",
      "Epoch 4/20\n",
      "1607/1607 - 10s - loss: 0.3150 - accuracy: 0.8944 - val_loss: 0.3551 - val_accuracy: 0.8878 - 10s/epoch - 6ms/step\n",
      "Epoch 5/20\n",
      "1607/1607 - 10s - loss: 0.2788 - accuracy: 0.9049 - val_loss: 0.3356 - val_accuracy: 0.8941 - 10s/epoch - 6ms/step\n",
      "Epoch 6/20\n",
      "1607/1607 - 10s - loss: 0.2559 - accuracy: 0.9117 - val_loss: 0.3300 - val_accuracy: 0.8961 - 10s/epoch - 6ms/step\n",
      "Epoch 7/20\n",
      "1607/1607 - 10s - loss: 0.2351 - accuracy: 0.9179 - val_loss: 0.3231 - val_accuracy: 0.8978 - 10s/epoch - 6ms/step\n",
      "Epoch 8/20\n",
      "1607/1607 - 10s - loss: 0.2183 - accuracy: 0.9227 - val_loss: 0.3199 - val_accuracy: 0.9056 - 10s/epoch - 6ms/step\n",
      "Epoch 9/20\n",
      "1607/1607 - 10s - loss: 0.2052 - accuracy: 0.9266 - val_loss: 0.3293 - val_accuracy: 0.9033 - 10s/epoch - 6ms/step\n",
      "Epoch 10/20\n",
      "1607/1607 - 10s - loss: 0.1940 - accuracy: 0.9303 - val_loss: 0.3285 - val_accuracy: 0.9070 - 10s/epoch - 6ms/step\n",
      "Epoch 11/20\n",
      "1607/1607 - 10s - loss: 0.1827 - accuracy: 0.9340 - val_loss: 0.3342 - val_accuracy: 0.9074 - 10s/epoch - 6ms/step\n",
      "Epoch 12/20\n",
      "1607/1607 - 10s - loss: 0.1747 - accuracy: 0.9368 - val_loss: 0.3469 - val_accuracy: 0.9053 - 10s/epoch - 6ms/step\n",
      "Epoch 13/20\n",
      "1607/1607 - 10s - loss: 0.1683 - accuracy: 0.9384 - val_loss: 0.3472 - val_accuracy: 0.9070 - 10s/epoch - 6ms/step\n",
      "Epoch 14/20\n",
      "1607/1607 - 10s - loss: 0.1623 - accuracy: 0.9404 - val_loss: 0.3436 - val_accuracy: 0.9091 - 10s/epoch - 6ms/step\n",
      "Epoch 15/20\n",
      "1607/1607 - 10s - loss: 0.1549 - accuracy: 0.9430 - val_loss: 0.3524 - val_accuracy: 0.9115 - 10s/epoch - 6ms/step\n",
      "Epoch 16/20\n",
      "1607/1607 - 10s - loss: 0.1518 - accuracy: 0.9440 - val_loss: 0.3601 - val_accuracy: 0.9120 - 10s/epoch - 6ms/step\n",
      "Epoch 17/20\n",
      "1607/1607 - 10s - loss: 0.1452 - accuracy: 0.9469 - val_loss: 0.3706 - val_accuracy: 0.9083 - 10s/epoch - 6ms/step\n",
      "Epoch 18/20\n",
      "1607/1607 - 10s - loss: 0.1453 - accuracy: 0.9464 - val_loss: 0.3533 - val_accuracy: 0.9143 - 10s/epoch - 6ms/step\n",
      "Epoch 19/20\n",
      "1607/1607 - 10s - loss: 0.1402 - accuracy: 0.9483 - val_loss: 0.3897 - val_accuracy: 0.9060 - 10s/epoch - 6ms/step\n",
      "Epoch 20/20\n",
      "1607/1607 - 10s - loss: 0.1366 - accuracy: 0.9495 - val_loss: 0.3716 - val_accuracy: 0.9119 - 10s/epoch - 6ms/step\n"
     ]
    }
   ],
   "source": [
    "model_history=model.fit(X_train_norm, y_train_encoded, epochs=20, validation_data=(X_test_norm, y_test_encoded), verbose=2,batch_size=128)"
   ]
  },
  {
   "cell_type": "markdown",
   "id": "996b93b9",
   "metadata": {},
   "source": [
    "The added layer increases the computation required for each epoch, and naturally increases the time consumed, which also makes the final accuracy slightly higher"
   ]
  },
  {
   "cell_type": "markdown",
   "id": "350ef52f",
   "metadata": {},
   "source": [
    "<b> Size of each layer"
   ]
  },
  {
   "cell_type": "code",
   "execution_count": 30,
   "id": "b0f053cb",
   "metadata": {},
   "outputs": [
    {
     "name": "stdout",
     "output_type": "stream",
     "text": [
      "Model: \"sequential_12\"\n",
      "_________________________________________________________________\n",
      " Layer (type)                Output Shape              Param #   \n",
      "=================================================================\n",
      " flatten_12 (Flatten)        (None, 784)               0         \n",
      "                                                                 \n",
      " dense_45 (Dense)            (None, 256)               200960    \n",
      "                                                                 \n",
      " dense_46 (Dense)            (None, 64)                16448     \n",
      "                                                                 \n",
      " dense_47 (Dense)            (None, 32)                2080      \n",
      "                                                                 \n",
      " dense_48 (Dense)            (None, 94)                3102      \n",
      "                                                                 \n",
      "=================================================================\n",
      "Total params: 222,590\n",
      "Trainable params: 222,590\n",
      "Non-trainable params: 0\n",
      "_________________________________________________________________\n"
     ]
    }
   ],
   "source": [
    "model = Sequential()\n",
    "model.add(Flatten(input_shape=(28,28)))\n",
    "model.add(Dense(256,activation='relu'))\n",
    "model.add(Dense(64,activation='relu'))\n",
    "model.add(Dense(32, activation='relu'))\n",
    "model.add(Dense(num_classes, activation='softmax'))\n",
    "opt = Adam()\n",
    "model.compile(optimizer=opt, loss='categorical_crossentropy', metrics=['accuracy'])\n",
    "model.summary()"
   ]
  },
  {
   "cell_type": "code",
   "execution_count": 31,
   "id": "d4df2119",
   "metadata": {
    "scrolled": true
   },
   "outputs": [
    {
     "name": "stdout",
     "output_type": "stream",
     "text": [
      "Epoch 1/20\n",
      "1607/1607 - 6s - loss: 0.9483 - accuracy: 0.7588 - val_loss: 0.5600 - val_accuracy: 0.8412 - 6s/epoch - 4ms/step\n",
      "Epoch 2/20\n",
      "1607/1607 - 5s - loss: 0.4998 - accuracy: 0.8524 - val_loss: 0.5121 - val_accuracy: 0.8438 - 5s/epoch - 3ms/step\n",
      "Epoch 3/20\n",
      "1607/1607 - 4s - loss: 0.4281 - accuracy: 0.8684 - val_loss: 0.4469 - val_accuracy: 0.8624 - 4s/epoch - 3ms/step\n",
      "Epoch 4/20\n",
      "1607/1607 - 4s - loss: 0.3818 - accuracy: 0.8791 - val_loss: 0.4014 - val_accuracy: 0.8757 - 4s/epoch - 3ms/step\n",
      "Epoch 5/20\n",
      "1607/1607 - 4s - loss: 0.3487 - accuracy: 0.8878 - val_loss: 0.3927 - val_accuracy: 0.8771 - 4s/epoch - 3ms/step\n",
      "Epoch 6/20\n",
      "1607/1607 - 4s - loss: 0.3213 - accuracy: 0.8946 - val_loss: 0.3719 - val_accuracy: 0.8838 - 4s/epoch - 3ms/step\n",
      "Epoch 7/20\n",
      "1607/1607 - 4s - loss: 0.3011 - accuracy: 0.9004 - val_loss: 0.3584 - val_accuracy: 0.8894 - 4s/epoch - 3ms/step\n",
      "Epoch 8/20\n",
      "1607/1607 - 4s - loss: 0.2831 - accuracy: 0.9060 - val_loss: 0.3560 - val_accuracy: 0.8892 - 4s/epoch - 3ms/step\n",
      "Epoch 9/20\n",
      "1607/1607 - 4s - loss: 0.2689 - accuracy: 0.9104 - val_loss: 0.3599 - val_accuracy: 0.8910 - 4s/epoch - 3ms/step\n",
      "Epoch 10/20\n",
      "1607/1607 - 4s - loss: 0.2544 - accuracy: 0.9136 - val_loss: 0.3521 - val_accuracy: 0.8938 - 4s/epoch - 3ms/step\n",
      "Epoch 11/20\n",
      "1607/1607 - 4s - loss: 0.2420 - accuracy: 0.9173 - val_loss: 0.3441 - val_accuracy: 0.8983 - 4s/epoch - 3ms/step\n",
      "Epoch 12/20\n",
      "1607/1607 - 4s - loss: 0.2322 - accuracy: 0.9206 - val_loss: 0.3475 - val_accuracy: 0.8984 - 4s/epoch - 3ms/step\n",
      "Epoch 13/20\n",
      "1607/1607 - 4s - loss: 0.2225 - accuracy: 0.9231 - val_loss: 0.3415 - val_accuracy: 0.9030 - 4s/epoch - 3ms/step\n",
      "Epoch 14/20\n",
      "1607/1607 - 4s - loss: 0.2141 - accuracy: 0.9259 - val_loss: 0.3530 - val_accuracy: 0.8991 - 4s/epoch - 3ms/step\n",
      "Epoch 15/20\n",
      "1607/1607 - 4s - loss: 0.2065 - accuracy: 0.9274 - val_loss: 0.3532 - val_accuracy: 0.9000 - 4s/epoch - 3ms/step\n",
      "Epoch 16/20\n",
      "1607/1607 - 4s - loss: 0.2000 - accuracy: 0.9297 - val_loss: 0.3625 - val_accuracy: 0.9004 - 4s/epoch - 3ms/step\n",
      "Epoch 17/20\n",
      "1607/1607 - 4s - loss: 0.1982 - accuracy: 0.9302 - val_loss: 0.3513 - val_accuracy: 0.9043 - 4s/epoch - 3ms/step\n",
      "Epoch 18/20\n",
      "1607/1607 - 4s - loss: 0.1885 - accuracy: 0.9330 - val_loss: 0.3577 - val_accuracy: 0.9027 - 4s/epoch - 3ms/step\n",
      "Epoch 19/20\n",
      "1607/1607 - 4s - loss: 0.1837 - accuracy: 0.9348 - val_loss: 0.3655 - val_accuracy: 0.9047 - 4s/epoch - 3ms/step\n",
      "Epoch 20/20\n",
      "1607/1607 - 4s - loss: 0.1787 - accuracy: 0.9361 - val_loss: 0.3796 - val_accuracy: 0.9041 - 4s/epoch - 3ms/step\n"
     ]
    }
   ],
   "source": [
    "model_history=model.fit(X_train_norm, y_train_encoded, epochs=20, validation_data=(X_test_norm, y_test_encoded), verbose=2,batch_size=128)"
   ]
  },
  {
   "cell_type": "markdown",
   "id": "1f54bd4c",
   "metadata": {},
   "source": [
    "The reduction of the size of each layer has greatly reduced the accuracy, which should be due to insufficient variables."
   ]
  },
  {
   "cell_type": "markdown",
   "id": "2c259349",
   "metadata": {},
   "source": [
    "### PART G - NETWORK INITIALIZATION"
   ]
  },
  {
   "cell_type": "markdown",
   "id": "1634a36f",
   "metadata": {},
   "source": [
    "<b> kernel_initializer"
   ]
  },
  {
   "cell_type": "code",
   "execution_count": 34,
   "id": "35d1102a",
   "metadata": {},
   "outputs": [
    {
     "name": "stdout",
     "output_type": "stream",
     "text": [
      "Model: \"sequential_14\"\n",
      "_________________________________________________________________\n",
      " Layer (type)                Output Shape              Param #   \n",
      "=================================================================\n",
      " flatten_14 (Flatten)        (None, 784)               0         \n",
      "                                                                 \n",
      " dense_49 (Dense)            (None, 512)               401920    \n",
      "                                                                 \n",
      " dense_50 (Dense)            (None, 256)               131328    \n",
      "                                                                 \n",
      " dense_51 (Dense)            (None, 128)               32896     \n",
      "                                                                 \n",
      " dense_52 (Dense)            (None, 32)                4128      \n",
      "                                                                 \n",
      " dense_53 (Dense)            (None, 94)                3102      \n",
      "                                                                 \n",
      "=================================================================\n",
      "Total params: 573,374\n",
      "Trainable params: 573,374\n",
      "Non-trainable params: 0\n",
      "_________________________________________________________________\n"
     ]
    }
   ],
   "source": [
    "model = Sequential()\n",
    "model.add(Flatten(input_shape=(28,28)))\n",
    "model.add(Dense(512,activation='relu', kernel_initializer=initializers.random_normal(stddev=0.01)))\n",
    "model.add(Dense(256,activation='relu', kernel_initializer=initializers.random_normal(stddev=0.01)))\n",
    "model.add(Dense(128,activation='relu'))\n",
    "model.add(Dense(32, activation='relu'))\n",
    "model.add(Dense(num_classes, activation='softmax'))\n",
    "opt = Adam()\n",
    "model.compile(optimizer=opt, loss='categorical_crossentropy', metrics=['accuracy'])\n",
    "model.summary()"
   ]
  },
  {
   "cell_type": "code",
   "execution_count": 35,
   "id": "931c1882",
   "metadata": {
    "scrolled": true
   },
   "outputs": [
    {
     "name": "stdout",
     "output_type": "stream",
     "text": [
      "Epoch 1/20\n",
      "1607/1607 - 9s - loss: 0.9176 - accuracy: 0.7586 - val_loss: 0.5213 - val_accuracy: 0.8456 - 9s/epoch - 6ms/step\n",
      "Epoch 2/20\n",
      "1607/1607 - 8s - loss: 0.4508 - accuracy: 0.8596 - val_loss: 0.4226 - val_accuracy: 0.8641 - 8s/epoch - 5ms/step\n",
      "Epoch 3/20\n",
      "1607/1607 - 8s - loss: 0.3791 - accuracy: 0.8766 - val_loss: 0.3945 - val_accuracy: 0.8760 - 8s/epoch - 5ms/step\n",
      "Epoch 4/20\n",
      "1607/1607 - 8s - loss: 0.3325 - accuracy: 0.8888 - val_loss: 0.3604 - val_accuracy: 0.8861 - 8s/epoch - 5ms/step\n",
      "Epoch 5/20\n",
      "1607/1607 - 9s - loss: 0.2984 - accuracy: 0.8987 - val_loss: 0.3507 - val_accuracy: 0.8868 - 9s/epoch - 5ms/step\n",
      "Epoch 6/20\n",
      "1607/1607 - 8s - loss: 0.2722 - accuracy: 0.9067 - val_loss: 0.3524 - val_accuracy: 0.8884 - 8s/epoch - 5ms/step\n",
      "Epoch 7/20\n",
      "1607/1607 - 8s - loss: 0.2509 - accuracy: 0.9123 - val_loss: 0.3370 - val_accuracy: 0.8962 - 8s/epoch - 5ms/step\n",
      "Epoch 8/20\n",
      "1607/1607 - 8s - loss: 0.2328 - accuracy: 0.9177 - val_loss: 0.3633 - val_accuracy: 0.8894 - 8s/epoch - 5ms/step\n",
      "Epoch 9/20\n",
      "1607/1607 - 9s - loss: 0.2199 - accuracy: 0.9221 - val_loss: 0.3418 - val_accuracy: 0.8968 - 9s/epoch - 5ms/step\n",
      "Epoch 10/20\n",
      "1607/1607 - 8s - loss: 0.2082 - accuracy: 0.9253 - val_loss: 0.3277 - val_accuracy: 0.9073 - 8s/epoch - 5ms/step\n",
      "Epoch 11/20\n",
      "1607/1607 - 8s - loss: 0.1938 - accuracy: 0.9303 - val_loss: 0.3434 - val_accuracy: 0.9038 - 8s/epoch - 5ms/step\n",
      "Epoch 12/20\n",
      "1607/1607 - 9s - loss: 0.1861 - accuracy: 0.9328 - val_loss: 0.3415 - val_accuracy: 0.9049 - 9s/epoch - 5ms/step\n",
      "Epoch 13/20\n",
      "1607/1607 - 9s - loss: 0.1762 - accuracy: 0.9361 - val_loss: 0.3417 - val_accuracy: 0.9066 - 9s/epoch - 5ms/step\n",
      "Epoch 14/20\n",
      "1607/1607 - 9s - loss: 0.1702 - accuracy: 0.9381 - val_loss: 0.3595 - val_accuracy: 0.9077 - 9s/epoch - 5ms/step\n",
      "Epoch 15/20\n",
      "1607/1607 - 9s - loss: 0.1633 - accuracy: 0.9402 - val_loss: 0.3598 - val_accuracy: 0.9070 - 9s/epoch - 5ms/step\n",
      "Epoch 16/20\n",
      "1607/1607 - 9s - loss: 0.1577 - accuracy: 0.9425 - val_loss: 0.3782 - val_accuracy: 0.9086 - 9s/epoch - 5ms/step\n",
      "Epoch 17/20\n",
      "1607/1607 - 9s - loss: 0.1550 - accuracy: 0.9430 - val_loss: 0.3847 - val_accuracy: 0.9061 - 9s/epoch - 5ms/step\n",
      "Epoch 18/20\n",
      "1607/1607 - 9s - loss: 0.1482 - accuracy: 0.9453 - val_loss: 0.3774 - val_accuracy: 0.9100 - 9s/epoch - 6ms/step\n",
      "Epoch 19/20\n",
      "1607/1607 - 8s - loss: 0.1439 - accuracy: 0.9468 - val_loss: 0.3722 - val_accuracy: 0.9097 - 8s/epoch - 5ms/step\n",
      "Epoch 20/20\n",
      "1607/1607 - 8s - loss: 0.1436 - accuracy: 0.9475 - val_loss: 0.3783 - val_accuracy: 0.9107 - 8s/epoch - 5ms/step\n"
     ]
    }
   ],
   "source": [
    "model_history=model.fit(X_train_norm, y_train_encoded, epochs=20, validation_data=(X_test_norm, y_test_encoded), verbose=2,batch_size=128)"
   ]
  },
  {
   "cell_type": "markdown",
   "id": "455a05f8",
   "metadata": {},
   "source": [
    "Using random_normal(stddev=0.01) as kernel_initializer does not have a great impact on the results, which should be because this experiment is not complicated. Instead, additional processing make the time consumed by the model increase"
   ]
  },
  {
   "cell_type": "markdown",
   "id": "fdf0b1c3",
   "metadata": {},
   "source": [
    "<b> bias_initializer"
   ]
  },
  {
   "cell_type": "code",
   "execution_count": 36,
   "id": "9767f63d",
   "metadata": {},
   "outputs": [
    {
     "name": "stdout",
     "output_type": "stream",
     "text": [
      "Model: \"sequential_15\"\n",
      "_________________________________________________________________\n",
      " Layer (type)                Output Shape              Param #   \n",
      "=================================================================\n",
      " flatten_15 (Flatten)        (None, 784)               0         \n",
      "                                                                 \n",
      " dense_54 (Dense)            (None, 512)               401920    \n",
      "                                                                 \n",
      " dense_55 (Dense)            (None, 128)               65664     \n",
      "                                                                 \n",
      " dense_56 (Dense)            (None, 32)                4128      \n",
      "                                                                 \n",
      " dense_57 (Dense)            (None, 94)                3102      \n",
      "                                                                 \n",
      "=================================================================\n",
      "Total params: 474,814\n",
      "Trainable params: 474,814\n",
      "Non-trainable params: 0\n",
      "_________________________________________________________________\n"
     ]
    }
   ],
   "source": [
    "model = Sequential()\n",
    "model.add(Flatten(input_shape=(28,28)))\n",
    "model.add(Dense(512,activation='relu', bias_initializer=keras.initializers.TruncatedNormal(mean=0.0, stddev=0.05, seed=None)))\n",
    "model.add(Dense(128,activation='relu', bias_initializer=keras.initializers.TruncatedNormal(mean=0.0, stddev=0.05, seed=None)))\n",
    "model.add(Dense(32, activation='relu'))\n",
    "model.add(Dense(num_classes, activation='softmax'))\n",
    "opt = Adam()\n",
    "model.compile(optimizer=opt, loss='categorical_crossentropy', metrics=['accuracy'])\n",
    "model.summary()"
   ]
  },
  {
   "cell_type": "code",
   "execution_count": 37,
   "id": "4ffa0448",
   "metadata": {
    "scrolled": true
   },
   "outputs": [
    {
     "name": "stdout",
     "output_type": "stream",
     "text": [
      "Epoch 1/20\n",
      "1607/1607 - 9s - loss: 0.8105 - accuracy: 0.7850 - val_loss: 0.4947 - val_accuracy: 0.8543 - 9s/epoch - 6ms/step\n",
      "Epoch 2/20\n",
      "1607/1607 - 8s - loss: 0.4392 - accuracy: 0.8650 - val_loss: 0.4119 - val_accuracy: 0.8725 - 8s/epoch - 5ms/step\n",
      "Epoch 3/20\n",
      "1607/1607 - 8s - loss: 0.3716 - accuracy: 0.8806 - val_loss: 0.3933 - val_accuracy: 0.8773 - 8s/epoch - 5ms/step\n",
      "Epoch 4/20\n",
      "1607/1607 - 8s - loss: 0.3276 - accuracy: 0.8921 - val_loss: 0.3700 - val_accuracy: 0.8800 - 8s/epoch - 5ms/step\n",
      "Epoch 5/20\n",
      "1607/1607 - 8s - loss: 0.2999 - accuracy: 0.9003 - val_loss: 0.3363 - val_accuracy: 0.8945 - 8s/epoch - 5ms/step\n",
      "Epoch 6/20\n",
      "1607/1607 - 8s - loss: 0.2693 - accuracy: 0.9088 - val_loss: 0.3418 - val_accuracy: 0.8943 - 8s/epoch - 5ms/step\n",
      "Epoch 7/20\n",
      "1607/1607 - 8s - loss: 0.2550 - accuracy: 0.9129 - val_loss: 0.3247 - val_accuracy: 0.9007 - 8s/epoch - 5ms/step\n",
      "Epoch 8/20\n",
      "1607/1607 - 8s - loss: 0.2288 - accuracy: 0.9208 - val_loss: 0.3177 - val_accuracy: 0.9040 - 8s/epoch - 5ms/step\n",
      "Epoch 9/20\n",
      "1607/1607 - 7s - loss: 0.2151 - accuracy: 0.9250 - val_loss: 0.3356 - val_accuracy: 0.8981 - 7s/epoch - 5ms/step\n",
      "Epoch 10/20\n",
      "1607/1607 - 7s - loss: 0.2020 - accuracy: 0.9289 - val_loss: 0.3180 - val_accuracy: 0.9068 - 7s/epoch - 5ms/step\n",
      "Epoch 11/20\n",
      "1607/1607 - 8s - loss: 0.1916 - accuracy: 0.9314 - val_loss: 0.3353 - val_accuracy: 0.9030 - 8s/epoch - 5ms/step\n",
      "Epoch 12/20\n",
      "1607/1607 - 8s - loss: 0.1815 - accuracy: 0.9356 - val_loss: 0.3355 - val_accuracy: 0.9078 - 8s/epoch - 5ms/step\n",
      "Epoch 13/20\n",
      "1607/1607 - 8s - loss: 0.1749 - accuracy: 0.9371 - val_loss: 0.3344 - val_accuracy: 0.9071 - 8s/epoch - 5ms/step\n",
      "Epoch 14/20\n",
      "1607/1607 - 8s - loss: 0.1672 - accuracy: 0.9399 - val_loss: 0.3378 - val_accuracy: 0.9081 - 8s/epoch - 5ms/step\n",
      "Epoch 15/20\n",
      "1607/1607 - 8s - loss: 0.1599 - accuracy: 0.9413 - val_loss: 0.3570 - val_accuracy: 0.9078 - 8s/epoch - 5ms/step\n",
      "Epoch 16/20\n",
      "1607/1607 - 7s - loss: 0.1548 - accuracy: 0.9435 - val_loss: 0.3629 - val_accuracy: 0.9088 - 7s/epoch - 5ms/step\n",
      "Epoch 17/20\n",
      "1607/1607 - 8s - loss: 0.1496 - accuracy: 0.9458 - val_loss: 0.3595 - val_accuracy: 0.9095 - 8s/epoch - 5ms/step\n",
      "Epoch 18/20\n",
      "1607/1607 - 8s - loss: 0.1464 - accuracy: 0.9463 - val_loss: 0.3778 - val_accuracy: 0.9067 - 8s/epoch - 5ms/step\n",
      "Epoch 19/20\n",
      "1607/1607 - 8s - loss: 0.1412 - accuracy: 0.9477 - val_loss: 0.3699 - val_accuracy: 0.9117 - 8s/epoch - 5ms/step\n",
      "Epoch 20/20\n",
      "1607/1607 - 8s - loss: 0.1384 - accuracy: 0.9490 - val_loss: 0.3882 - val_accuracy: 0.9067 - 8s/epoch - 5ms/step\n"
     ]
    }
   ],
   "source": [
    "model_history=model.fit(X_train_norm, y_train_encoded, epochs=20, validation_data=(X_test_norm, y_test_encoded), verbose=2,batch_size=128)"
   ]
  },
  {
   "cell_type": "markdown",
   "id": "3ea2ed6c",
   "metadata": {},
   "source": [
    "Using TruncatedNormal(mean=0.0, stddev=0.05, seed=None) as bias_initializer does not have a great impact on the results, which should be because this experiment is not complicated. Instead, additional processing make the time consumed by the model increase"
   ]
  },
  {
   "cell_type": "markdown",
   "id": "9466c832",
   "metadata": {},
   "source": [
    "<b>References:<b>  \n",
    "[1] : Keras Initializers : https://blog.csdn.net/my_name_is_learn/article/details/109516945  \n",
    "[2] : Keras Optimizer : https://blog.csdn.net/zhenyu_qiu/article/details/118019855   \n",
    "[3] : https://blog.csdn.net/u011311291/article/details/79956195  \n",
    "[4] : Keras Sequential model : https://blog.csdn.net/weixin_44779323/article/details/126488830"
   ]
  },
  {
   "cell_type": "markdown",
   "id": "993d9e19",
   "metadata": {},
   "source": [
    "## MIT license"
   ]
  },
  {
   "cell_type": "markdown",
   "id": "7a7119b1",
   "metadata": {},
   "source": [
    "Copyright <2022> Peichen Han\n",
    "\n",
    "Permission is hereby granted, free of charge, to any person obtaining a copy of this software and associated documentation files (the \"Software\"), to deal in the Software without restriction, including without limitation the rights to use, copy, modify, merge, publish, distribute, sublicense, and/or sell copies of the Software, and to permit persons to whom the Software is furnished to do so, subject to the following conditions:\n",
    "\n",
    "The above copyright notice and this permission notice shall be included in all copies or substantial portions of the Software.\n",
    "\n",
    "THE SOFTWARE IS PROVIDED \"AS IS\", WITHOUT WARRANTY OF ANY KIND, EXPRESS OR IMPLIED, INCLUDING BUT NOT LIMITED TO THE WARRANTIES OF MERCHANTABILITY, FITNESS FOR A PARTICULAR PURPOSE AND NONINFRINGEMENT. IN NO EVENT SHALL THE AUTHORS OR COPYRIGHT HOLDERS BE LIABLE FOR ANY CLAIM, DAMAGES OR OTHER LIABILITY, WHETHER IN AN ACTION OF CONTRACT, TORT OR OTHERWISE, ARISING FROM, OUT OF OR IN CONNECTION WITH THE SOFTWARE OR THE USE OR OTHER DEALINGS IN THE SOFTWARE."
   ]
  },
  {
   "cell_type": "code",
   "execution_count": null,
   "id": "d4794479",
   "metadata": {},
   "outputs": [],
   "source": []
  }
 ],
 "metadata": {
  "kernelspec": {
   "display_name": "threenine",
   "language": "python",
   "name": "threenine"
  },
  "language_info": {
   "codemirror_mode": {
    "name": "ipython",
    "version": 3
   },
   "file_extension": ".py",
   "mimetype": "text/x-python",
   "name": "python",
   "nbconvert_exporter": "python",
   "pygments_lexer": "ipython3",
   "version": "3.9.13"
  }
 },
 "nbformat": 4,
 "nbformat_minor": 5
}
