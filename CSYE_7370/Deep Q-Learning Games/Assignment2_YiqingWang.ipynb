{
 "cells": [
  {
   "cell_type": "markdown",
   "metadata": {},
   "source": [
    "\n",
    "<font size=5 color=#A52A2A >Deep Q-Learning with an Atari-like game\n",
    "\n",
    "Yiqing Wang\n",
    "    \n",
    "NUID 001563190"
   ]
  },
  {
   "cell_type": "code",
   "execution_count": 4,
   "metadata": {},
   "outputs": [],
   "source": [
    "import gym\n",
    "import numpy as np\n",
    "import math\n",
    "import matplotlib.pyplot as plt"
   ]
  },
  {
   "cell_type": "code",
   "execution_count": 7,
   "metadata": {},
   "outputs": [],
   "source": [
    "#Creating bounds for the buckets \n",
    "upper_bounds = [\n",
    "        CART_POSITION_HIGHER_BOUND, \n",
    "        CART_VELOCITY_HIGHER_BOUND, \n",
    "        POLE_ANGLE_HIGHER_BOUND, \n",
    "        POLE_VELOCITY_HIGHER_BOUND\n",
    "        ]\n",
    "lower_bounds = [\n",
    "        CART_POSITION_LOWER_BOUND, \n",
    "        CART_VELOCITY_LOWER_BOUND, \n",
    "        POLE_ANGLE_LOWER_BOUND, \n",
    "        POLE_VELOCITY_LOWER_BOUND\n",
    "        ]\n",
    "\n",
    "def discretize(obs):\n",
    "    #Discretise the continuous state into buckets\n",
    "    ratios = [(obs[i] + abs(lower_bounds[i])) / (upper_bounds[i] - lower_bounds[i]) for i in range(len(obs))]\n",
    "    new_obs = [int(round((BUCKETS[i] - 1) * ratios[i])) for i in range(len(obs))]\n",
    "    new_obs = [min(BUCKETS[i] - 1, max(0, new_obs[i])) for i in range(len(obs))]\n",
    "    return tuple(new_obs)"
   ]
  },
  {
   "cell_type": "code",
   "execution_count": 4,
   "metadata": {},
   "outputs": [],
   "source": [
    "class QAgent():\n",
    "    def __init__(self, env, discount_rate, learning_rate, max_epsilon, min_epsilon, epsilon_decay_rate):\n",
    "        self.env = env\n",
    "        #init Q table\n",
    "        self.q_table = np.zeros(BUCKETS + (env.action_space.n,)) \n",
    "        self.discount_rate = discount_rate\n",
    "        self.learning_rate = learning_rate\n",
    "        self.max_epsilon = max_epsilon\n",
    "        self.min_epsilon = min_epsilon\n",
    "        self.epsilon_decay_rate = epsilon_decay_rate\n",
    "        \n",
    "    def get_action(self, state):\n",
    "        exploration_exploitation_tradeoff = np.random.random()\n",
    "        #Epsilon decay\n",
    "        if self.max_epsilon > self.min_epsilon:\n",
    "            self.max_epsilon *= (1-self.epsilon_decay_rate)\n",
    "            \n",
    "        if exploration_exploitation_tradeoff <= self.max_epsilon:\n",
    "            action = env.action_space.sample()  \n",
    "        else:\n",
    "            action = np.argmax(self.q_table[state]) \n",
    "        return action\n",
    "    \n",
    "    def update_qtable(self, current_state, action, reward, new_state):\n",
    "        self.q_table[current_state][action] += self.learning_rate * (reward + self.discount_rate * np.max(self.q_table[new_state]) - self.q_table[current_state][action])"
   ]
  },
  {
   "cell_type": "markdown",
   "metadata": {},
   "source": [
    "<font size=5 color=#A52A2A >1.Establish a baseline performance. How well did your Deep Q-learning do on your problem?\n",
    "\n",
    "With this baseline performance, Deep Q-learning does well on the Cart Pole Environment."
   ]
  },
  {
   "cell_type": "code",
   "execution_count": 5,
   "metadata": {},
   "outputs": [],
   "source": [
    "#Baseline parameters\n",
    "total_episodes = 5000\n",
    "total_test_episodes = 100\n",
    "max_steps = 99\n",
    "learning_rate = 0.7\n",
    "gamma = 0.8\n",
    "max_epsilon = 1.0\n",
    "min_epsilon = 0.01\n",
    "epsilon_decay_rate = 0.01 "
   ]
  },
  {
   "cell_type": "code",
   "execution_count": 6,
   "metadata": {},
   "outputs": [],
   "source": [
    "#Creating an agent with baseline parameters\n",
    "agent = QAgent(env, gamma, learning_rate, max_epsilon, min_epsilon,epsilon_decay_rate)"
   ]
  },
  {
   "cell_type": "code",
   "execution_count": 7,
   "metadata": {},
   "outputs": [],
   "source": [
    "total_rewards = []\n",
    "for episode in range(total_episodes):\n",
    "    current_state = discretize(env.reset())\n",
    "    reward_per_epsiode = 0.0\n",
    "    done = False\n",
    "    while not done and reward_per_epsiode < 100:\n",
    "        env.render()\n",
    "        action = agent.get_action(current_state)\n",
    "        new_state, reward, done, info = env.step(action) \n",
    "        new_state = discretize(new_state)\n",
    "        agent.update_qtable(current_state, action, reward, new_state)\n",
    "        current_state = new_state\n",
    "        reward_per_epsiode += 1\n",
    "    total_rewards.append(reward_per_epsiode)"
   ]
  },
  {
   "cell_type": "code",
   "execution_count": 8,
   "metadata": {},
   "outputs": [
    {
     "data": {
      "image/png": "[encoded data removed]",
      "text/plain": [
       "<Figure size 432x288 with 1 Axes>"
      ]
     },
     "metadata": {
      "needs_background": "light"
     },
     "output_type": "display_data"
    },
    {
     "name": "stdout",
     "output_type": "stream",
     "text": [
      "Average Reward or Steps/Episode: 10.776\n"
     ]
    }
   ],
   "source": [
    "#Plotting Results\n",
    "x = range(total_episodes)\n",
    "plt.plot(x, total_rewards)\n",
    "plt.xlabel('Episode')\n",
    "plt.ylabel('Training rewards')\n",
    "plt.show()\n",
    "\n",
    "avg_reward = 0\n",
    "for i in total_rewards:\n",
    "    avg_reward+=i\n",
    "avg_reward /= total_episodes\n",
    "    \n",
    "print(\"Average Reward or Steps/Episode: \"+str(avg_reward))"
   ]
  },
  {
   "cell_type": "markdown",
   "metadata": {},
   "source": [
    "<font size=5 color=#A52A2A >2.What are the states, the actions, and the size of the Q-table?"
   ]
  },
  {
   "cell_type": "code",
   "execution_count": 6,
   "metadata": {},
   "outputs": [
    {
     "name": "stdout",
     "output_type": "stream",
     "text": [
      "--------STATE SPACE--------\n",
      "\n",
      "--------CART POSITION--------\n",
      "Min : -0.41887903\n",
      "Max : 0.41887903\n",
      "Range : 0.83775806\n",
      "Interval : 0.8377580642700195\n",
      "\n",
      "--------CART VELOCITY--------\n",
      "Min : -0.5\n",
      "Max : 0.5\n",
      "Range : 1.0\n",
      "Interval : 1.0\n",
      "\n",
      "--------POLE ANGLE--------\n",
      "Min : -0.41887903\n",
      "Max : 0.41887903\n",
      "Range : 0.83775806\n",
      "Interval : 0.13962634404500326\n",
      "\n",
      "--------POLE VELOCITY--------\n",
      "Min : -0.8726646259971648\n",
      "Max : 0.8726646259971648\n",
      "Range : 1.7453292519943295\n",
      "Interval : 0.14544410433286079\n",
      "\n",
      "--------ACTION SPACE--------\n",
      "Actions : 2\n",
      "Push cart to the left : 0\n",
      "Push cart to the right : 1\n",
      "\n",
      "--------SIZE OF Q TABLE--------\n",
      "(1, 1, 6, 12, 2)\n"
     ]
    }
   ],
   "source": [
    "#Importing the environment \n",
    "env = gym.make('CartPole-v0')\n",
    "\n",
    "#Using buckets to discretize the state space\n",
    "BUCKETS = (1, 1, 6, 12) \n",
    "\n",
    "CART_POSITION_BUCKETS = BUCKETS[0]\n",
    "CART_POSITION_LOWER_BOUND = env.observation_space.low[2]\n",
    "CART_POSITION_HIGHER_BOUND = env.observation_space.high[2]\n",
    "CART_POSITION_RANGE = CART_POSITION_HIGHER_BOUND - CART_POSITION_LOWER_BOUND\n",
    "CART_POSITION_INTERVAL = CART_POSITION_RANGE / float(CART_POSITION_BUCKETS)\n",
    "\n",
    "CART_VELOCITY_BUCKETS = BUCKETS[1]\n",
    "CART_VELOCITY_LOWER_BOUND = -0.5\n",
    "CART_VELOCITY_HIGHER_BOUND = 0.5\n",
    "CART_VELOCITY_RANGE = CART_VELOCITY_HIGHER_BOUND - CART_VELOCITY_LOWER_BOUND\n",
    "CART_VELOCITY_INTERVAL = CART_VELOCITY_RANGE / float(CART_VELOCITY_BUCKETS)\n",
    "\n",
    "POLE_ANGLE_BUCKETS = BUCKETS[2]\n",
    "POLE_ANGLE_LOWER_BOUND = env.observation_space.low[2]\n",
    "POLE_ANGLE_HIGHER_BOUND = env.observation_space.high[2]\n",
    "POLE_ANGLE_RANGE = POLE_ANGLE_HIGHER_BOUND - POLE_ANGLE_LOWER_BOUND\n",
    "POLE_ANGLE_INTERVAL = POLE_ANGLE_RANGE / float(POLE_ANGLE_BUCKETS)\n",
    "\n",
    "POLE_VELOCITY_BUCKETS = BUCKETS[3]\n",
    "POLE_VELOCITY_LOWER_BOUND = -math.radians(50)\n",
    "POLE_VELOCITY_HIGHER_BOUND = math.radians(50)\n",
    "POLE_VELOCITY_RANGE = POLE_VELOCITY_HIGHER_BOUND - POLE_VELOCITY_LOWER_BOUND\n",
    "POLE_VELOCITY_INTERVAL = POLE_VELOCITY_RANGE / float(POLE_VELOCITY_BUCKETS)\n",
    "\n",
    "print(\"--------STATE SPACE--------\\n\")\n",
    "print(\"--------CART POSITION--------\")\n",
    "print(\"Min : \"+ str(CART_POSITION_LOWER_BOUND))\n",
    "print(\"Max : \"+ str(CART_POSITION_HIGHER_BOUND))\n",
    "print(\"Range : \"+ str(CART_POSITION_RANGE))\n",
    "print(\"Interval : \"+str(CART_POSITION_INTERVAL)+\"\\n\")\n",
    "\n",
    "print(\"--------CART VELOCITY--------\")\n",
    "print(\"Min : \"+ str(CART_VELOCITY_LOWER_BOUND))\n",
    "print(\"Max : \"+ str(CART_VELOCITY_HIGHER_BOUND))\n",
    "print(\"Range : \"+ str(CART_VELOCITY_RANGE))\n",
    "print(\"Interval : \"+str(CART_VELOCITY_INTERVAL)+\"\\n\")\n",
    "\n",
    "print(\"--------POLE ANGLE--------\")\n",
    "print(\"Min : \"+ str(POLE_ANGLE_LOWER_BOUND))\n",
    "print(\"Max : \"+ str(POLE_ANGLE_HIGHER_BOUND))\n",
    "print(\"Range : \"+ str(POLE_ANGLE_RANGE))\n",
    "print(\"Interval : \"+str(POLE_ANGLE_INTERVAL)+\"\\n\")\n",
    "\n",
    "print(\"--------POLE VELOCITY--------\")\n",
    "print(\"Min : \"+ str(POLE_VELOCITY_LOWER_BOUND))\n",
    "print(\"Max : \"+ str(POLE_VELOCITY_HIGHER_BOUND))\n",
    "print(\"Range : \"+ str(POLE_VELOCITY_RANGE))\n",
    "print(\"Interval : \"+str(POLE_VELOCITY_INTERVAL))\n",
    "print()\n",
    "\n",
    "print(\"--------ACTION SPACE--------\")\n",
    "print(\"Actions : \"+str(env.action_space.n))\n",
    "print(\"Push cart to the left : 0\")\n",
    "print(\"Push cart to the right : 1\\n\")\n",
    "\n",
    "print(\"--------SIZE OF Q TABLE--------\")\n",
    "print(str(np.zeros(BUCKETS + (env.action_space.n,)).shape))"
   ]
  },
  {
   "cell_type": "markdown",
   "metadata": {},
   "source": [
    "<font size=5 color=#A52A2A >3.What are the rewards? Why did I choose them? \n",
    "    \n",
    "The reward for the cart pole environment is +1 for every step that satisfies the condition (maintaining balance).\n",
    "Rewards are based on the question statement, i.e. \"Balance the cart pole\".\n",
    "    \n",
    "I chose them because they are easier to present intuitive results and easy to implement"
   ]
  },
  {
   "cell_type": "markdown",
   "metadata": {},
   "source": [
    "<font size=5 color=#A52A2A >4.How did you choose alpha and gamma in the Bellman equation? Try at least one additional value for alpha and gamma. How did it change the baseline performance?\n",
    "\n",
    "I chose the alpha and gamma based on explotary analysis. It improved the baseline performance and the distribution had more ocurrences of high value. It also has a larger maximum reward. "
   ]
  },
  {
   "cell_type": "code",
   "execution_count": 9,
   "metadata": {},
   "outputs": [],
   "source": [
    "learning_rate = 0.1\n",
    "gamma = 0.97"
   ]
  },
  {
   "cell_type": "code",
   "execution_count": 10,
   "metadata": {},
   "outputs": [],
   "source": [
    "#Creating an agent with learning rate and gamma parameters updated\n",
    "agent = QAgent(env, gamma, learning_rate, max_epsilon, min_epsilon,epsilon_decay_rate)"
   ]
  },
  {
   "cell_type": "code",
   "execution_count": 11,
   "metadata": {},
   "outputs": [],
   "source": [
    "total_rewards = []\n",
    "for episode in range(total_episodes):\n",
    "    current_state = discretize(env.reset())\n",
    "    reward_per_epsiode = 0.0\n",
    "    done = False\n",
    "    while not done and reward_per_epsiode < 100:\n",
    "        action = agent.get_action(current_state)\n",
    "        new_state, reward, done, info = env.step(action) \n",
    "        new_state = discretize(new_state)\n",
    "        agent.update_qtable(current_state, action, reward, new_state)\n",
    "        current_state = new_state\n",
    "        reward_per_epsiode += 1\n",
    "    total_rewards.append(reward_per_epsiode)"
   ]
  },
  {
   "cell_type": "code",
   "execution_count": 12,
   "metadata": {},
   "outputs": [
    {
     "data": {
      "image/png": "[encoded data removed]",
      "text/plain": [
       "<Figure size 432x288 with 1 Axes>"
      ]
     },
     "metadata": {
      "needs_background": "light"
     },
     "output_type": "display_data"
    },
    {
     "name": "stdout",
     "output_type": "stream",
     "text": [
      "Average Reward or Steps/Epsiode : 26.7002\n"
     ]
    }
   ],
   "source": [
    "#Plotting Results\n",
    "x = range(total_episodes)\n",
    "plt.plot(x, total_rewards)\n",
    "plt.xlabel('Episode')\n",
    "plt.ylabel('Training rewards')\n",
    "plt.show()\n",
    "\n",
    "avg_reward = 0\n",
    "for i in total_rewards:\n",
    "    avg_reward+=i\n",
    "avg_reward /= total_episodes\n",
    "   \n",
    "print(\"Average Reward or Steps/Epsiode : \"+str(avg_reward))"
   ]
  },
  {
   "cell_type": "markdown",
   "metadata": {},
   "source": [
    "<font size=5 color=#A52A2A >5.Try a policy other than e-greedy. How did it change the baseline performance?\n"
   ]
  },
  {
   "cell_type": "code",
   "execution_count": 14,
   "metadata": {},
   "outputs": [],
   "source": [
    "class QAgent_Median():\n",
    "    def __init__(self, env, discount_rate, learning_rate, max_epsilon, min_epsilon, epsilon_decay_rate):\n",
    "        self.env = env\n",
    "        #init Q table\n",
    "        self.q_table = np.zeros(BUCKETS + (env.action_space.n,)) \n",
    "        self.discount_rate = discount_rate\n",
    "        self.learning_rate = learning_rate\n",
    "        self.max_epsilon = max_epsilon\n",
    "        self.min_epsilon = min_epsilon\n",
    "        self.epsilon_decay_rate = epsilon_decay_rate\n",
    "        \n",
    "    def get_action(self, state):\n",
    "        exploration_exploitation_tradeoff = np.random.random()\n",
    "        #Epsilon decay\n",
    "        if self.max_epsilon > self.min_epsilon:\n",
    "            self.max_epsilon *= (1-self.epsilon_decay_rate)\n",
    "            \n",
    "        if exploration_exploitation_tradeoff <= self.max_epsilon:\n",
    "            action = env.action_space.sample()  \n",
    "        else:\n",
    "            action = np.argsort(self.q_table[state])[len(self.q_table[state])//2]\n",
    "#             action = np.argmin(self.q_table[state])\n",
    "        return action\n",
    "    \n",
    "    def update_qtable(self, current_state, action, reward, new_state):\n",
    "        self.q_table[current_state][action] += self.learning_rate * (reward + self.discount_rate * np.max(self.q_table[new_state]) - self.q_table[current_state][action])"
   ]
  },
  {
   "cell_type": "code",
   "execution_count": 15,
   "metadata": {},
   "outputs": [
    {
     "data": {
      "image/png": "[encoded data removed]",
      "text/plain": [
       "<Figure size 432x288 with 1 Axes>"
      ]
     },
     "metadata": {
      "needs_background": "light"
     },
     "output_type": "display_data"
    },
    {
     "name": "stdout",
     "output_type": "stream",
     "text": [
      "Average Reward or Steps/Epsiode : 23.3842\n",
      "Epsilon : 0.009990566824312964\n"
     ]
    }
   ],
   "source": [
    "total_episodes = 5000\n",
    "total_test_episodes = 100\n",
    "max_steps = 99\n",
    "learning_rate = 0.7\n",
    "gamma = 0.8\n",
    "max_epsilon = 5.0\n",
    "min_epsilon = 0.01\n",
    "epsilon_decay_rate = 0.005 \n",
    "\n",
    "#Creating an agent with epsilon changed \n",
    "agent = QAgent_Median(env, gamma, learning_rate, max_epsilon, min_epsilon,epsilon_decay_rate)\n",
    "\n",
    "total_rewards = []\n",
    "for episode in range(total_episodes):\n",
    "    current_state = discretize(env.reset())\n",
    "    reward_per_epsiode = 0.0\n",
    "    done = False\n",
    "    while not done and reward_per_epsiode < 100:\n",
    "        action = agent.get_action(current_state)\n",
    "        new_state, reward, done, info = env.step(action) \n",
    "        new_state = discretize(new_state)\n",
    "        agent.update_qtable(current_state, action, reward, new_state)\n",
    "        current_state = new_state\n",
    "        reward_per_epsiode += 1\n",
    "    total_rewards.append(reward_per_epsiode)\n",
    "\n",
    "#Plotting Results\n",
    "x = range(total_episodes)\n",
    "plt.plot(x, total_rewards)\n",
    "plt.xlabel('Episode')\n",
    "plt.ylabel('Training rewards')\n",
    "plt.show()\n",
    "\n",
    "avg_reward = 0\n",
    "for i in total_rewards:\n",
    "    avg_reward+=i\n",
    "avg_reward /= total_episodes\n",
    "   \n",
    "print(\"Average Reward or Steps/Epsiode : \"+str(avg_reward))\n",
    "print(\"Epsilon : \"+str(agent.max_epsilon))"
   ]
  },
  {
   "cell_type": "markdown",
   "metadata": {},
   "source": [
    "<font size=5 color=#A52A2A >6.How did you choose your decay rate and starting epsilon? Try at least one additional value for epsilon and the decay rate. How did it change the baseline performance? What is the value of epsilon when if you reach the max steps per episode?\n",
    "\n",
    "I chose my decay rate and epsilon based on exploratory analysis. The baseline performance improved again with a different epsilon and epsilon decay rate. The agent looks a bit unstable. Hence, stabilization would be required to understand how the epsilon and epsilon decay rate would change the performance."
   ]
  },
  {
   "cell_type": "code",
   "execution_count": 13,
   "metadata": {},
   "outputs": [
    {
     "data": {
      "image/png": "[encoded data removed]",
      "text/plain": [
       "<Figure size 432x288 with 1 Axes>"
      ]
     },
     "metadata": {
      "needs_background": "light"
     },
     "output_type": "display_data"
    },
    {
     "name": "stdout",
     "output_type": "stream",
     "text": [
      "Average Reward or Steps/Epsiode : 22.6784\n",
      "Epsilon : 0.009990566824312964\n"
     ]
    }
   ],
   "source": [
    "total_episodes = 5000\n",
    "total_test_episodes = 100\n",
    "max_steps = 99\n",
    "learning_rate = 0.7\n",
    "gamma = 0.8\n",
    "max_epsilon = 5.0\n",
    "min_epsilon = 0.01\n",
    "epsilon_decay_rate = 0.005 \n",
    "\n",
    "#Creating an agent with epsilon changed \n",
    "agent = QAgent(env, gamma, learning_rate, max_epsilon, min_epsilon,epsilon_decay_rate)\n",
    "\n",
    "total_rewards = []\n",
    "for episode in range(total_episodes):\n",
    "    current_state = discretize(env.reset())\n",
    "    reward_per_epsiode = 0.0\n",
    "    done = False\n",
    "    while not done and reward_per_epsiode < 100:\n",
    "        action = agent.get_action(current_state)\n",
    "        new_state, reward, done, info = env.step(action) \n",
    "        new_state = discretize(new_state)\n",
    "        agent.update_qtable(current_state, action, reward, new_state)\n",
    "        current_state = new_state\n",
    "        reward_per_epsiode += 1\n",
    "    total_rewards.append(reward_per_epsiode)\n",
    "\n",
    "#Plotting Results\n",
    "x = range(total_episodes)\n",
    "plt.plot(x, total_rewards)\n",
    "plt.xlabel('Episode')\n",
    "plt.ylabel('Training rewards')\n",
    "plt.show()\n",
    "\n",
    "avg_reward = 0\n",
    "for i in total_rewards:\n",
    "    avg_reward+=i\n",
    "avg_reward /= total_episodes\n",
    "   \n",
    "print(\"Average Reward or Steps/Epsiode : \"+str(avg_reward))\n",
    "print(\"Epsilon : \"+str(agent.max_epsilon))"
   ]
  },
  {
   "cell_type": "markdown",
   "metadata": {},
   "source": [
    "<font size=5 color=#A52A2A >7.What is the average number of steps taken per episode?\n",
    "    \n",
    "As shown in the code above, \n",
    "Average Reward or Steps/Epsiode : 26.7002"
   ]
  },
  {
   "cell_type": "markdown",
   "metadata": {},
   "source": [
    "<font size=5 color=#A52A2A >8.Does Q-learning use value-based or policy-based iteration?\n",
    "    \n",
    "Q-learning is a values-based learning algorithm. Value based algorithms updates the value function based on an equation(particularly Bellman equation). Whereas the other type, policy-based estimates the value function with a greedy policy obtained from the last policy improvement."
   ]
  },
  {
   "cell_type": "markdown",
   "metadata": {},
   "source": [
    "<font size=5 color=#A52A2A >9.Could I use SARSA for this problem?\n",
    "\n",
    "Yes we can use SARSA in this problem. As the environment is low-cost and fast-iterating Q-Learning would do better but we can implement SARSA equation. The only change required is in the Q equation."
   ]
  },
  {
   "cell_type": "markdown",
   "metadata": {},
   "source": [
    "<font size=5 color=#A52A2A >10.What is meant by the expected lifetime value in the Bellman equation? \n",
    "\n",
    "The expected lifetime value in the Bellman equation is used to calcuate Q values for the Q table. It is based on the fact that the Q value considers future rewards with the discount factor."
   ]
  },
  {
   "cell_type": "markdown",
   "metadata": {},
   "source": [
    "<font size=5 color=#A52A2A >11.When would SARSA likely do better than Q-learning?\n",
    "\n",
    "SARSA will approach convergence allowing for possible penalties from exploratory moves, whilst Q-learning will ignore them. That makes SARSA more conservative - if there is risk of a large negative reward close to the optimal path, Q-learning will tend to trigger that reward whilst exploring, whilst SARSA will tend to avoid a dangerous optimal path and only slowly learn to use it when the exploration parameters are reduced. If our goal is to train an optimal agent in simulation, or in a low-cost and fast-iterating environment, then Q-learning is a good choice, due to learning optimal policy directly. If your agent learns online, and you care about rewards gained whilst learning, then SARSA may be a better choice."
   ]
  },
  {
   "cell_type": "markdown",
   "metadata": {},
   "source": [
    "<font size=5 color=#A52A2A >12.How does SARSA differ from Q-learning?\n",
    "    \n",
    "The most important difference between the two is how Q is updated after each action. SARSA uses the Q' following a ε-greedy policy exactly, as A' is drawn from it. In contrast, Q-learning uses the maximum Q' over all possible actions for the next step."
   ]
  },
  {
   "cell_type": "markdown",
   "metadata": {},
   "source": [
    "<font size=5 color=#A52A2A >13.Explain the Q-learning algorithm. \n"
   ]
  },
  {
   "cell_type": "markdown",
   "metadata": {},
   "source": [
    "Q-Learning is a Reinforcement learning policy that will find the next best action, given a current state. It chooses this action at random and aims to maximize the reward.\n",
    "\n",
    "Q-learning is a model-free, off-policy reinforcement learning that will find the best course of action, given the current state of the agent. Depending on where the agent is in the environment, it will decide the next action to be taken. \n",
    "\n",
    "The objective of the model is to find the best course of action given its current state. To do this, it may come up with rules of its own or it may operate outside the policy given to it to follow. This means that there is no actual need for a policy, hence we call it off-policy.\n",
    "\n",
    "Model-free means that the agent uses predictions of the environment’s expected response to move forward. It does not use the reward system to learn, but rather, trial and error."
   ]
  },
  {
   "cell_type": "markdown",
   "metadata": {},
   "source": [
    "<font size=5 color=#A52A2A >14.Explaining the SARSA algorithm.\n",
    "\n",
    "The Sarsa algorithm is an On-Policy algorithm for TD-Learning. The major difference between it and Q-Learning, is that the maximum reward for the next state is not necessarily used for updating the Q-values. Instead, a new action, and therefore reward, is selected using the same policy that determined the original action. The name Sarsa actually comes from the fact that the updates are done using the quintuple Q(s, a, r, s', a'). Where: s, a are the original state and action, r is the reward observed in the following state and s', a' are the new state-action pair. \n"
   ]
  },
  {
   "cell_type": "code",
   "execution_count": 16,
   "metadata": {},
   "outputs": [
    {
     "data": {
      "image/png": "[encoded data removed]",
      "text/plain": [
       "<Figure size 432x288 with 1 Axes>"
      ]
     },
     "metadata": {
      "needs_background": "light"
     },
     "output_type": "display_data"
    },
    {
     "name": "stdout",
     "output_type": "stream",
     "text": [
      "Average Reward or Steps/Epsiode : 17.182\n"
     ]
    }
   ],
   "source": [
    "class SARSA_Agent():\n",
    "    def __init__(self, env, discount_rate, learning_rate, max_epsilon, min_epsilon, epsilon_decay_rate):\n",
    "        #init Q table\n",
    "        self.env = env\n",
    "        self.q_table = np.zeros(BUCKETS + (env.action_space.n,)) \n",
    "        self.discount_rate = discount_rate\n",
    "        self.learning_rate = learning_rate\n",
    "        self.max_epsilon = max_epsilon\n",
    "        self.min_epsilon = min_epsilon\n",
    "        self.epsilon_decay_rate = epsilon_decay_rate\n",
    "        \n",
    "    def get_action(self, state):\n",
    "        exploration_exploitation_tradeoff = np.random.random()\n",
    "        #Epsilon decay\n",
    "        if self.max_epsilon > self.min_epsilon:\n",
    "            self.max_epsilon *= (1-self.epsilon_decay_rate)\n",
    "            \n",
    "        if exploration_exploitation_tradeoff <= self.max_epsilon:\n",
    "            action = env.action_space.sample() \n",
    "        else:\n",
    "            action = np.argmax(self.q_table[state])   \n",
    "        return action\n",
    "    \n",
    "    def update_qtable(self, current_state, action, reward, new_state, new_action):\n",
    "        self.q_table[current_state][action] += self.learning_rate * (reward + self.discount_rate * self.q_table[new_state][new_action] - self.q_table[current_state][action])\n",
    "\n",
    "agent = SARSA_Agent(env, gamma, learning_rate, max_epsilon, min_epsilon,epsilon_decay_rate)\n",
    "\n",
    "total_rewards = []\n",
    "for episode in range(total_episodes):\n",
    "    current_state = discretize(env.reset())\n",
    "    reward_per_epsiode = 0.0\n",
    "    done = False\n",
    "    while not done and reward_per_epsiode < 100:\n",
    "        action = agent.get_action(current_state)\n",
    "        new_state, reward, done, info = env.step(action) \n",
    "        new_state = discretize(new_state)\n",
    "        new_action = agent.get_action(new_state)\n",
    "        agent.update_qtable(current_state, action, reward, new_state, new_action)\n",
    "        current_state = new_state\n",
    "        reward_per_epsiode += 1\n",
    "    total_rewards.append(reward_per_epsiode)\n",
    "\n",
    "\n",
    "env.close()\n",
    "#Plotting Results\n",
    "x = range(total_episodes)\n",
    "plt.plot(x, total_rewards)\n",
    "plt.xlabel('Episode')\n",
    "plt.ylabel('Training rewards')\n",
    "plt.show()\n",
    "\n",
    "avg_reward = 0\n",
    "for i in total_rewards:\n",
    "    avg_reward+=i\n",
    "avg_reward /= total_episodes\n",
    "   \n",
    "print(\"Average Reward or Steps/Epsiode : \"+str(avg_reward))"
   ]
  },
  {
   "cell_type": "markdown",
   "metadata": {},
   "source": [
    "<font size=5 color=#A52A2A >15.What code is yours and what have you adapted? \n",
    "    \n",
    "Implemented the SARSA algorithm, modified the code for epsilon and decay rate attempts to add value, based on citation references."
   ]
  },
  {
   "cell_type": "markdown",
   "metadata": {},
   "source": [
    "\n",
    "<font size=5 color=#A52A2A >References\n",
    "    \n",
    "[1]: Continuous State Problems : https://www.datamachinist.com/reinforcement-learning/part-6-q-learning-for-continuous-state-problems/\n",
    "\n",
    "[2]: Epsion Greedy: https://pylessons.com/Epsilon-Greedy-DQN/\n",
    "\n",
    "[3]: Q-Learning vs. SARSA : https://www.cse.unsw.edu.au/~cs9417ml/RL1/algorithms.html\n",
    "\n",
    "[4]: Q-Learning :https://en.wikipedia.org/wiki/Q-learning\n",
    "\n",
    "\n",
    "<font size=5 color=#A52A2A >Licensing\n",
    "    \n",
    "Copyright 2022 Yiqing Wang\n",
    "\n",
    "Persons who have obtained a copy of the software and associated documentation files may use the software free of charge without restriction. Publish, distribute, sublicense and/or sell copies of the software, subject to the following conditions:\n",
    "\n",
    "THIS SOFTWARE IS PROVIDED \"AS IS\" WITHOUT WARRANTY OF ANY KIND, EXPRESS OR IMPLIED, INCLUDING, BUT NOT LIMITED TO, MERCHANTABILITY, FITNESS FOR A PARTICULAR PURPOSE AND NON-INFRINGEMENT WARRANTIES. \n",
    "    \n",
    "In no event shall the author or copyright holder be liable for any claim, damage or other liability, whether in contract, tort or otherwise, arising out of or in connection with the software or its use or other dealings. software.\n"
   ]
  },
  {
   "cell_type": "code",
   "execution_count": null,
   "metadata": {},
   "outputs": [],
   "source": []
  }
 ],
 "metadata": {
  "kernelspec": {
   "display_name": "Python 3 (ipykernel)",
   "language": "python",
   "name": "python3"
  },
  "language_info": {
   "codemirror_mode": {
    "name": "ipython",
    "version": 3
   },
   "file_extension": ".py",
   "mimetype": "text/x-python",
   "name": "python",
   "nbconvert_exporter": "python",
   "pygments_lexer": "ipython3",
   "version": "3.9.7"
  }
 },
 "nbformat": 4,
 "nbformat_minor": 4
}
