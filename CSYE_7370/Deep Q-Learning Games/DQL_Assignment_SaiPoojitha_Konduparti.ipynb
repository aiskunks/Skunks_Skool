{
  "nbformat": 4,
  "nbformat_minor": 0,
  "metadata": {
    "colab": {
      "provenance": [],
      "collapsed_sections": []
    },
    "kernelspec": {
      "name": "python3",
      "display_name": "Python 3"
    },
    "language_info": {
      "name": "python"
    },
    "accelerator": "GPU",
    "gpuClass": "standard"
  },
  "cells": [
    {
      "cell_type": "markdown",
      "source": [
        "###Import Statements"
      ],
      "metadata": {
        "id": "yVD4eOwY_5dP"
      }
    },
    {
      "cell_type": "code",
      "source": [
        "!pip install --upgrade git+https://github.com/openai/gym"
      ],
      "metadata": {
        "colab": {
          "base_uri": "https://localhost:8080/"
        },
        "id": "6CqdMLzkuNLp",
        "outputId": "a9c2729d-f3c9-405e-859c-e2cd1383fd54"
      },
      "execution_count": 41,
      "outputs": [
        {
          "output_type": "stream",
          "name": "stdout",
          "text": [
            "Looking in indexes: https://pypi.org/simple, https://us-python.pkg.dev/colab-wheels/public/simple/\n",
            "Collecting git+https://github.com/openai/gym\n",
            "  Cloning https://github.com/openai/gym to /tmp/pip-req-build-jq5cffm5\n",
            "  Running command git clone -q https://github.com/openai/gym /tmp/pip-req-build-jq5cffm5\n",
            "  Installing build dependencies ... \u001b[?25l\u001b[?25hdone\n",
            "  Getting requirements to build wheel ... \u001b[?25l\u001b[?25hdone\n",
            "    Preparing wheel metadata ... \u001b[?25l\u001b[?25hdone\n",
            "Requirement already satisfied: gym-notices>=0.0.4 in /usr/local/lib/python3.7/dist-packages (from gym==0.26.2) (0.0.8)\n",
            "Requirement already satisfied: importlib-metadata>=4.8.0 in /usr/local/lib/python3.7/dist-packages (from gym==0.26.2) (4.13.0)\n",
            "Requirement already satisfied: numpy>=1.18.0 in /usr/local/lib/python3.7/dist-packages (from gym==0.26.2) (1.21.6)\n",
            "Requirement already satisfied: cloudpickle>=1.2.0 in /usr/local/lib/python3.7/dist-packages (from gym==0.26.2) (1.5.0)\n",
            "Requirement already satisfied: zipp>=0.5 in /usr/local/lib/python3.7/dist-packages (from importlib-metadata>=4.8.0->gym==0.26.2) (3.10.0)\n",
            "Requirement already satisfied: typing-extensions>=3.6.4 in /usr/local/lib/python3.7/dist-packages (from importlib-metadata>=4.8.0->gym==0.26.2) (4.1.1)\n"
          ]
        }
      ]
    },
    {
      "cell_type": "code",
      "source": [
        "!pip install autorom"
      ],
      "metadata": {
        "colab": {
          "base_uri": "https://localhost:8080/"
        },
        "id": "a23E6yUzuWiJ",
        "outputId": "1342e0bf-262d-4c6e-95c8-55b15df3af6a"
      },
      "execution_count": null,
      "outputs": [
        {
          "output_type": "stream",
          "name": "stdout",
          "text": [
            "Looking in indexes: https://pypi.org/simple, https://us-python.pkg.dev/colab-wheels/public/simple/\n",
            "Collecting autorom\n",
            "  Downloading AutoROM-0.4.2-py3-none-any.whl (16 kB)\n",
            "Requirement already satisfied: click in /usr/local/lib/python3.7/dist-packages (from autorom) (7.1.2)\n",
            "Requirement already satisfied: tqdm in /usr/local/lib/python3.7/dist-packages (from autorom) (4.64.1)\n",
            "Requirement already satisfied: importlib-resources in /usr/local/lib/python3.7/dist-packages (from autorom) (5.10.0)\n",
            "Requirement already satisfied: requests in /usr/local/lib/python3.7/dist-packages (from autorom) (2.23.0)\n",
            "Requirement already satisfied: zipp>=3.1.0 in /usr/local/lib/python3.7/dist-packages (from importlib-resources->autorom) (3.10.0)\n",
            "Requirement already satisfied: idna<3,>=2.5 in /usr/local/lib/python3.7/dist-packages (from requests->autorom) (2.10)\n",
            "Requirement already satisfied: certifi>=2017.4.17 in /usr/local/lib/python3.7/dist-packages (from requests->autorom) (2022.9.24)\n",
            "Requirement already satisfied: chardet<4,>=3.0.2 in /usr/local/lib/python3.7/dist-packages (from requests->autorom) (3.0.4)\n",
            "Requirement already satisfied: urllib3!=1.25.0,!=1.25.1,<1.26,>=1.21.1 in /usr/local/lib/python3.7/dist-packages (from requests->autorom) (1.24.3)\n",
            "Installing collected packages: autorom\n",
            "Successfully installed autorom-0.4.2\n"
          ]
        }
      ]
    },
    {
      "cell_type": "code",
      "source": [
        "!pip install --upgrade gym[atari]"
      ],
      "metadata": {
        "colab": {
          "base_uri": "https://localhost:8080/"
        },
        "id": "ZPYfV9I-uaM8",
        "outputId": "dc0f3f67-c584-4ff0-d788-c268eb709bef"
      },
      "execution_count": null,
      "outputs": [
        {
          "output_type": "stream",
          "name": "stdout",
          "text": [
            "Looking in indexes: https://pypi.org/simple, https://us-python.pkg.dev/colab-wheels/public/simple/\n",
            "Requirement already satisfied: gym[atari] in /usr/local/lib/python3.7/dist-packages (0.26.2)\n",
            "Requirement already satisfied: cloudpickle>=1.2.0 in /usr/local/lib/python3.7/dist-packages (from gym[atari]) (1.5.0)\n",
            "Requirement already satisfied: importlib-metadata>=4.8.0 in /usr/local/lib/python3.7/dist-packages (from gym[atari]) (4.13.0)\n",
            "Requirement already satisfied: gym-notices>=0.0.4 in /usr/local/lib/python3.7/dist-packages (from gym[atari]) (0.0.8)\n",
            "Requirement already satisfied: numpy>=1.18.0 in /usr/local/lib/python3.7/dist-packages (from gym[atari]) (1.21.6)\n",
            "Collecting ale-py~=0.8.0\n",
            "  Downloading ale_py-0.8.0-cp37-cp37m-manylinux_2_17_x86_64.manylinux2014_x86_64.whl (1.7 MB)\n",
            "\u001b[K     |████████████████████████████████| 1.7 MB 4.8 MB/s \n",
            "\u001b[?25hRequirement already satisfied: typing-extensions in /usr/local/lib/python3.7/dist-packages (from ale-py~=0.8.0->gym[atari]) (4.1.1)\n",
            "Requirement already satisfied: importlib-resources in /usr/local/lib/python3.7/dist-packages (from ale-py~=0.8.0->gym[atari]) (5.10.0)\n",
            "Requirement already satisfied: zipp>=0.5 in /usr/local/lib/python3.7/dist-packages (from importlib-metadata>=4.8.0->gym[atari]) (3.10.0)\n",
            "Installing collected packages: ale-py\n",
            "Successfully installed ale-py-0.8.0\n"
          ]
        }
      ]
    },
    {
      "cell_type": "code",
      "source": [
        "!AutoROM"
      ],
      "metadata": {
        "colab": {
          "base_uri": "https://localhost:8080/"
        },
        "id": "mhFX7XzcueiB",
        "outputId": "3df74d70-07c2-4dd4-9aa4-40e9f78b4ee5"
      },
      "execution_count": null,
      "outputs": [
        {
          "output_type": "stream",
          "name": "stdout",
          "text": [
            "AutoROM will download the Atari 2600 ROMs.\n",
            "They will be installed to:\n",
            "\t/usr/local/lib/python3.7/dist-packages/AutoROM/roms\n",
            "\n",
            "Existing ROMs will be overwritten.\n",
            "\n",
            "I own a license to these Atari 2600 ROMs.\n",
            "I agree to not distribute these ROMs and wish to proceed: [Y/n]: y\n",
            "Installed /usr/local/lib/python3.7/dist-packages/AutoROM/roms/adventure.bin\n",
            "Installed /usr/local/lib/python3.7/dist-packages/AutoROM/roms/air_raid.bin\n",
            "Installed /usr/local/lib/python3.7/dist-packages/AutoROM/roms/alien.bin\n",
            "Installed /usr/local/lib/python3.7/dist-packages/AutoROM/roms/amidar.bin\n",
            "Installed /usr/local/lib/python3.7/dist-packages/AutoROM/roms/assault.bin\n",
            "Installed /usr/local/lib/python3.7/dist-packages/AutoROM/roms/asterix.bin\n",
            "Installed /usr/local/lib/python3.7/dist-packages/AutoROM/roms/asteroids.bin\n",
            "Installed /usr/local/lib/python3.7/dist-packages/AutoROM/roms/atlantis.bin\n",
            "Installed /usr/local/lib/python3.7/dist-packages/AutoROM/roms/atlantis2.bin\n",
            "Installed /usr/local/lib/python3.7/dist-packages/AutoROM/roms/backgammon.bin\n",
            "Installed /usr/local/lib/python3.7/dist-packages/AutoROM/roms/bank_heist.bin\n",
            "Installed /usr/local/lib/python3.7/dist-packages/AutoROM/roms/basic_math.bin\n",
            "Installed /usr/local/lib/python3.7/dist-packages/AutoROM/roms/battle_zone.bin\n",
            "Installed /usr/local/lib/python3.7/dist-packages/AutoROM/roms/beam_rider.bin\n",
            "Installed /usr/local/lib/python3.7/dist-packages/AutoROM/roms/berzerk.bin\n",
            "Installed /usr/local/lib/python3.7/dist-packages/AutoROM/roms/blackjack.bin\n",
            "Installed /usr/local/lib/python3.7/dist-packages/AutoROM/roms/bowling.bin\n",
            "Installed /usr/local/lib/python3.7/dist-packages/AutoROM/roms/boxing.bin\n",
            "Installed /usr/local/lib/python3.7/dist-packages/AutoROM/roms/breakout.bin\n",
            "Installed /usr/local/lib/python3.7/dist-packages/AutoROM/roms/carnival.bin\n",
            "Installed /usr/local/lib/python3.7/dist-packages/AutoROM/roms/casino.bin\n",
            "Installed /usr/local/lib/python3.7/dist-packages/AutoROM/roms/centipede.bin\n",
            "Installed /usr/local/lib/python3.7/dist-packages/AutoROM/roms/chopper_command.bin\n",
            "Installed /usr/local/lib/python3.7/dist-packages/AutoROM/roms/combat.bin\n",
            "Installed /usr/local/lib/python3.7/dist-packages/AutoROM/roms/crazy_climber.bin\n",
            "Installed /usr/local/lib/python3.7/dist-packages/AutoROM/roms/crossbow.bin\n",
            "Installed /usr/local/lib/python3.7/dist-packages/AutoROM/roms/darkchambers.bin\n",
            "Installed /usr/local/lib/python3.7/dist-packages/AutoROM/roms/defender.bin\n",
            "Installed /usr/local/lib/python3.7/dist-packages/AutoROM/roms/demon_attack.bin\n",
            "Installed /usr/local/lib/python3.7/dist-packages/AutoROM/roms/donkey_kong.bin\n",
            "Installed /usr/local/lib/python3.7/dist-packages/AutoROM/roms/double_dunk.bin\n",
            "Installed /usr/local/lib/python3.7/dist-packages/AutoROM/roms/earthworld.bin\n",
            "Installed /usr/local/lib/python3.7/dist-packages/AutoROM/roms/elevator_action.bin\n",
            "Installed /usr/local/lib/python3.7/dist-packages/AutoROM/roms/enduro.bin\n",
            "Installed /usr/local/lib/python3.7/dist-packages/AutoROM/roms/entombed.bin\n",
            "Installed /usr/local/lib/python3.7/dist-packages/AutoROM/roms/et.bin\n",
            "Installed /usr/local/lib/python3.7/dist-packages/AutoROM/roms/fishing_derby.bin\n",
            "Installed /usr/local/lib/python3.7/dist-packages/AutoROM/roms/flag_capture.bin\n",
            "Installed /usr/local/lib/python3.7/dist-packages/AutoROM/roms/freeway.bin\n",
            "Installed /usr/local/lib/python3.7/dist-packages/AutoROM/roms/frogger.bin\n",
            "Installed /usr/local/lib/python3.7/dist-packages/AutoROM/roms/frostbite.bin\n",
            "Installed /usr/local/lib/python3.7/dist-packages/AutoROM/roms/galaxian.bin\n",
            "Installed /usr/local/lib/python3.7/dist-packages/AutoROM/roms/gopher.bin\n",
            "Installed /usr/local/lib/python3.7/dist-packages/AutoROM/roms/gravitar.bin\n",
            "Installed /usr/local/lib/python3.7/dist-packages/AutoROM/roms/hangman.bin\n",
            "Installed /usr/local/lib/python3.7/dist-packages/AutoROM/roms/haunted_house.bin\n",
            "Installed /usr/local/lib/python3.7/dist-packages/AutoROM/roms/hero.bin\n",
            "Installed /usr/local/lib/python3.7/dist-packages/AutoROM/roms/human_cannonball.bin\n",
            "Installed /usr/local/lib/python3.7/dist-packages/AutoROM/roms/ice_hockey.bin\n",
            "Installed /usr/local/lib/python3.7/dist-packages/AutoROM/roms/jamesbond.bin\n",
            "Installed /usr/local/lib/python3.7/dist-packages/AutoROM/roms/journey_escape.bin\n",
            "Installed /usr/local/lib/python3.7/dist-packages/AutoROM/roms/joust.bin\n",
            "Installed /usr/local/lib/python3.7/dist-packages/AutoROM/roms/kaboom.bin\n",
            "Installed /usr/local/lib/python3.7/dist-packages/AutoROM/roms/kangaroo.bin\n",
            "Installed /usr/local/lib/python3.7/dist-packages/AutoROM/roms/keystone_kapers.bin\n",
            "Installed /usr/local/lib/python3.7/dist-packages/AutoROM/roms/king_kong.bin\n",
            "Installed /usr/local/lib/python3.7/dist-packages/AutoROM/roms/klax.bin\n",
            "Installed /usr/local/lib/python3.7/dist-packages/AutoROM/roms/koolaid.bin\n",
            "Installed /usr/local/lib/python3.7/dist-packages/AutoROM/roms/krull.bin\n",
            "Installed /usr/local/lib/python3.7/dist-packages/AutoROM/roms/kung_fu_master.bin\n",
            "Installed /usr/local/lib/python3.7/dist-packages/AutoROM/roms/laser_gates.bin\n",
            "Installed /usr/local/lib/python3.7/dist-packages/AutoROM/roms/lost_luggage.bin\n",
            "Installed /usr/local/lib/python3.7/dist-packages/AutoROM/roms/mario_bros.bin\n",
            "Installed /usr/local/lib/python3.7/dist-packages/AutoROM/roms/maze_craze.bin\n",
            "Installed /usr/local/lib/python3.7/dist-packages/AutoROM/roms/miniature_golf.bin\n",
            "Installed /usr/local/lib/python3.7/dist-packages/AutoROM/roms/montezuma_revenge.bin\n",
            "Installed /usr/local/lib/python3.7/dist-packages/AutoROM/roms/mr_do.bin\n",
            "Installed /usr/local/lib/python3.7/dist-packages/AutoROM/roms/ms_pacman.bin\n",
            "Installed /usr/local/lib/python3.7/dist-packages/AutoROM/roms/name_this_game.bin\n",
            "Installed /usr/local/lib/python3.7/dist-packages/AutoROM/roms/othello.bin\n",
            "Installed /usr/local/lib/python3.7/dist-packages/AutoROM/roms/pacman.bin\n",
            "Installed /usr/local/lib/python3.7/dist-packages/AutoROM/roms/phoenix.bin\n",
            "Installed /usr/local/lib/python3.7/dist-packages/AutoROM/roms/pitfall.bin\n",
            "Installed /usr/local/lib/python3.7/dist-packages/AutoROM/roms/pitfall2.bin\n",
            "Installed /usr/local/lib/python3.7/dist-packages/AutoROM/roms/pong.bin\n",
            "Installed /usr/local/lib/python3.7/dist-packages/AutoROM/roms/pooyan.bin\n",
            "Installed /usr/local/lib/python3.7/dist-packages/AutoROM/roms/private_eye.bin\n",
            "Installed /usr/local/lib/python3.7/dist-packages/AutoROM/roms/qbert.bin\n",
            "Installed /usr/local/lib/python3.7/dist-packages/AutoROM/roms/riverraid.bin\n",
            "Installed /usr/local/lib/python3.7/dist-packages/AutoROM/roms/road_runner.bin\n",
            "Installed /usr/local/lib/python3.7/dist-packages/AutoROM/roms/robotank.bin\n",
            "Installed /usr/local/lib/python3.7/dist-packages/AutoROM/roms/seaquest.bin\n",
            "Installed /usr/local/lib/python3.7/dist-packages/AutoROM/roms/sir_lancelot.bin\n",
            "Installed /usr/local/lib/python3.7/dist-packages/AutoROM/roms/skiing.bin\n",
            "Installed /usr/local/lib/python3.7/dist-packages/AutoROM/roms/solaris.bin\n",
            "Installed /usr/local/lib/python3.7/dist-packages/AutoROM/roms/space_invaders.bin\n",
            "Installed /usr/local/lib/python3.7/dist-packages/AutoROM/roms/space_war.bin\n",
            "Installed /usr/local/lib/python3.7/dist-packages/AutoROM/roms/star_gunner.bin\n",
            "Installed /usr/local/lib/python3.7/dist-packages/AutoROM/roms/superman.bin\n",
            "Installed /usr/local/lib/python3.7/dist-packages/AutoROM/roms/surround.bin\n",
            "Installed /usr/local/lib/python3.7/dist-packages/AutoROM/roms/tennis.bin\n",
            "Installed /usr/local/lib/python3.7/dist-packages/AutoROM/roms/tetris.bin\n",
            "Installed /usr/local/lib/python3.7/dist-packages/AutoROM/roms/tic_tac_toe_3d.bin\n",
            "Installed /usr/local/lib/python3.7/dist-packages/AutoROM/roms/time_pilot.bin\n",
            "Installed /usr/local/lib/python3.7/dist-packages/AutoROM/roms/trondead.bin\n",
            "Installed /usr/local/lib/python3.7/dist-packages/AutoROM/roms/turmoil.bin\n",
            "Installed /usr/local/lib/python3.7/dist-packages/AutoROM/roms/tutankham.bin\n",
            "Installed /usr/local/lib/python3.7/dist-packages/AutoROM/roms/up_n_down.bin\n",
            "Installed /usr/local/lib/python3.7/dist-packages/AutoROM/roms/venture.bin\n",
            "Installed /usr/local/lib/python3.7/dist-packages/AutoROM/roms/video_checkers.bin\n",
            "Installed /usr/local/lib/python3.7/dist-packages/AutoROM/roms/video_chess.bin\n",
            "Installed /usr/local/lib/python3.7/dist-packages/AutoROM/roms/video_cube.bin\n",
            "Installed /usr/local/lib/python3.7/dist-packages/AutoROM/roms/video_pinball.bin\n",
            "Installed /usr/local/lib/python3.7/dist-packages/AutoROM/roms/warlords.bin\n",
            "Installed /usr/local/lib/python3.7/dist-packages/AutoROM/roms/wizard_of_wor.bin\n",
            "Installed /usr/local/lib/python3.7/dist-packages/AutoROM/roms/word_zapper.bin\n",
            "Installed /usr/local/lib/python3.7/dist-packages/AutoROM/roms/yars_revenge.bin\n",
            "Installed /usr/local/lib/python3.7/dist-packages/AutoROM/roms/zaxxon.bin\n",
            "Done!\n"
          ]
        }
      ]
    },
    {
      "cell_type": "code",
      "execution_count": null,
      "metadata": {
        "colab": {
          "base_uri": "https://localhost:8080/"
        },
        "id": "4cEBPJ-xuIdj",
        "outputId": "81a7b277-a5a8-4840-f21e-c04ea3e32ae6"
      },
      "outputs": [
        {
          "output_type": "stream",
          "name": "stdout",
          "text": [
            "Looking in indexes: https://pypi.org/simple, https://us-python.pkg.dev/colab-wheels/public/simple/\n",
            "Requirement already satisfied: gym[toy_text] in /usr/local/lib/python3.7/dist-packages (0.26.2)\n",
            "Requirement already satisfied: cloudpickle>=1.2.0 in /usr/local/lib/python3.7/dist-packages (from gym[toy_text]) (1.5.0)\n",
            "Requirement already satisfied: numpy>=1.18.0 in /usr/local/lib/python3.7/dist-packages (from gym[toy_text]) (1.21.6)\n",
            "Requirement already satisfied: importlib-metadata>=4.8.0 in /usr/local/lib/python3.7/dist-packages (from gym[toy_text]) (4.13.0)\n",
            "Requirement already satisfied: gym-notices>=0.0.4 in /usr/local/lib/python3.7/dist-packages (from gym[toy_text]) (0.0.8)\n",
            "Collecting pygame==2.1.0\n",
            "  Downloading pygame-2.1.0-cp37-cp37m-manylinux_2_17_x86_64.manylinux2014_x86_64.whl (18.3 MB)\n",
            "\u001b[K     |████████████████████████████████| 18.3 MB 95 kB/s \n",
            "\u001b[?25hRequirement already satisfied: zipp>=0.5 in /usr/local/lib/python3.7/dist-packages (from importlib-metadata>=4.8.0->gym[toy_text]) (3.10.0)\n",
            "Requirement already satisfied: typing-extensions>=3.6.4 in /usr/local/lib/python3.7/dist-packages (from importlib-metadata>=4.8.0->gym[toy_text]) (4.1.1)\n",
            "Installing collected packages: pygame\n",
            "Successfully installed pygame-2.1.0\n"
          ]
        }
      ],
      "source": [
        "!pip install gym[toy_text]"
      ]
    },
    {
      "cell_type": "code",
      "source": [
        "import numpy as np\n",
        "import gym\n",
        "import ale_py\n",
        "import random\n",
        "import time"
      ],
      "metadata": {
        "id": "eP3sVik5uoc_"
      },
      "execution_count": null,
      "outputs": []
    },
    {
      "cell_type": "code",
      "source": [
        "pip install keras-rl2"
      ],
      "metadata": {
        "colab": {
          "base_uri": "https://localhost:8080/"
        },
        "id": "R0auRIetCw06",
        "outputId": "05763bd2-ed99-4da8-a101-10d99329421d"
      },
      "execution_count": null,
      "outputs": [
        {
          "output_type": "stream",
          "name": "stdout",
          "text": [
            "Looking in indexes: https://pypi.org/simple, https://us-python.pkg.dev/colab-wheels/public/simple/\n",
            "Collecting keras-rl2\n",
            "  Downloading keras_rl2-1.0.5-py3-none-any.whl (52 kB)\n",
            "\u001b[K     |████████████████████████████████| 52 kB 678 kB/s \n",
            "\u001b[?25hRequirement already satisfied: tensorflow in /usr/local/lib/python3.7/dist-packages (from keras-rl2) (2.9.2)\n",
            "Requirement already satisfied: keras<2.10.0,>=2.9.0rc0 in /usr/local/lib/python3.7/dist-packages (from tensorflow->keras-rl2) (2.9.0)\n",
            "Requirement already satisfied: astunparse>=1.6.0 in /usr/local/lib/python3.7/dist-packages (from tensorflow->keras-rl2) (1.6.3)\n",
            "Requirement already satisfied: keras-preprocessing>=1.1.1 in /usr/local/lib/python3.7/dist-packages (from tensorflow->keras-rl2) (1.1.2)\n",
            "Requirement already satisfied: gast<=0.4.0,>=0.2.1 in /usr/local/lib/python3.7/dist-packages (from tensorflow->keras-rl2) (0.4.0)\n",
            "Requirement already satisfied: numpy>=1.20 in /usr/local/lib/python3.7/dist-packages (from tensorflow->keras-rl2) (1.21.6)\n",
            "Requirement already satisfied: protobuf<3.20,>=3.9.2 in /usr/local/lib/python3.7/dist-packages (from tensorflow->keras-rl2) (3.17.3)\n",
            "Requirement already satisfied: flatbuffers<2,>=1.12 in /usr/local/lib/python3.7/dist-packages (from tensorflow->keras-rl2) (1.12)\n",
            "Requirement already satisfied: tensorflow-estimator<2.10.0,>=2.9.0rc0 in /usr/local/lib/python3.7/dist-packages (from tensorflow->keras-rl2) (2.9.0)\n",
            "Requirement already satisfied: setuptools in /usr/local/lib/python3.7/dist-packages (from tensorflow->keras-rl2) (57.4.0)\n",
            "Requirement already satisfied: opt-einsum>=2.3.2 in /usr/local/lib/python3.7/dist-packages (from tensorflow->keras-rl2) (3.3.0)\n",
            "Requirement already satisfied: tensorboard<2.10,>=2.9 in /usr/local/lib/python3.7/dist-packages (from tensorflow->keras-rl2) (2.9.1)\n",
            "Requirement already satisfied: wrapt>=1.11.0 in /usr/local/lib/python3.7/dist-packages (from tensorflow->keras-rl2) (1.14.1)\n",
            "Requirement already satisfied: typing-extensions>=3.6.6 in /usr/local/lib/python3.7/dist-packages (from tensorflow->keras-rl2) (4.1.1)\n",
            "Requirement already satisfied: absl-py>=1.0.0 in /usr/local/lib/python3.7/dist-packages (from tensorflow->keras-rl2) (1.3.0)\n",
            "Requirement already satisfied: h5py>=2.9.0 in /usr/local/lib/python3.7/dist-packages (from tensorflow->keras-rl2) (3.1.0)\n",
            "Requirement already satisfied: grpcio<2.0,>=1.24.3 in /usr/local/lib/python3.7/dist-packages (from tensorflow->keras-rl2) (1.50.0)\n",
            "Requirement already satisfied: tensorflow-io-gcs-filesystem>=0.23.1 in /usr/local/lib/python3.7/dist-packages (from tensorflow->keras-rl2) (0.27.0)\n",
            "Requirement already satisfied: libclang>=13.0.0 in /usr/local/lib/python3.7/dist-packages (from tensorflow->keras-rl2) (14.0.6)\n",
            "Requirement already satisfied: termcolor>=1.1.0 in /usr/local/lib/python3.7/dist-packages (from tensorflow->keras-rl2) (2.0.1)\n",
            "Requirement already satisfied: six>=1.12.0 in /usr/local/lib/python3.7/dist-packages (from tensorflow->keras-rl2) (1.15.0)\n",
            "Requirement already satisfied: packaging in /usr/local/lib/python3.7/dist-packages (from tensorflow->keras-rl2) (21.3)\n",
            "Requirement already satisfied: google-pasta>=0.1.1 in /usr/local/lib/python3.7/dist-packages (from tensorflow->keras-rl2) (0.2.0)\n",
            "Requirement already satisfied: wheel<1.0,>=0.23.0 in /usr/local/lib/python3.7/dist-packages (from astunparse>=1.6.0->tensorflow->keras-rl2) (0.37.1)\n",
            "Requirement already satisfied: cached-property in /usr/local/lib/python3.7/dist-packages (from h5py>=2.9.0->tensorflow->keras-rl2) (1.5.2)\n",
            "Requirement already satisfied: requests<3,>=2.21.0 in /usr/local/lib/python3.7/dist-packages (from tensorboard<2.10,>=2.9->tensorflow->keras-rl2) (2.23.0)\n",
            "Requirement already satisfied: google-auth-oauthlib<0.5,>=0.4.1 in /usr/local/lib/python3.7/dist-packages (from tensorboard<2.10,>=2.9->tensorflow->keras-rl2) (0.4.6)\n",
            "Requirement already satisfied: tensorboard-plugin-wit>=1.6.0 in /usr/local/lib/python3.7/dist-packages (from tensorboard<2.10,>=2.9->tensorflow->keras-rl2) (1.8.1)\n",
            "Requirement already satisfied: markdown>=2.6.8 in /usr/local/lib/python3.7/dist-packages (from tensorboard<2.10,>=2.9->tensorflow->keras-rl2) (3.4.1)\n",
            "Requirement already satisfied: werkzeug>=1.0.1 in /usr/local/lib/python3.7/dist-packages (from tensorboard<2.10,>=2.9->tensorflow->keras-rl2) (1.0.1)\n",
            "Requirement already satisfied: google-auth<3,>=1.6.3 in /usr/local/lib/python3.7/dist-packages (from tensorboard<2.10,>=2.9->tensorflow->keras-rl2) (1.35.0)\n",
            "Requirement already satisfied: tensorboard-data-server<0.7.0,>=0.6.0 in /usr/local/lib/python3.7/dist-packages (from tensorboard<2.10,>=2.9->tensorflow->keras-rl2) (0.6.1)\n",
            "Requirement already satisfied: rsa<5,>=3.1.4 in /usr/local/lib/python3.7/dist-packages (from google-auth<3,>=1.6.3->tensorboard<2.10,>=2.9->tensorflow->keras-rl2) (4.9)\n",
            "Requirement already satisfied: cachetools<5.0,>=2.0.0 in /usr/local/lib/python3.7/dist-packages (from google-auth<3,>=1.6.3->tensorboard<2.10,>=2.9->tensorflow->keras-rl2) (4.2.4)\n",
            "Requirement already satisfied: pyasn1-modules>=0.2.1 in /usr/local/lib/python3.7/dist-packages (from google-auth<3,>=1.6.3->tensorboard<2.10,>=2.9->tensorflow->keras-rl2) (0.2.8)\n",
            "Requirement already satisfied: requests-oauthlib>=0.7.0 in /usr/local/lib/python3.7/dist-packages (from google-auth-oauthlib<0.5,>=0.4.1->tensorboard<2.10,>=2.9->tensorflow->keras-rl2) (1.3.1)\n",
            "Requirement already satisfied: importlib-metadata>=4.4 in /usr/local/lib/python3.7/dist-packages (from markdown>=2.6.8->tensorboard<2.10,>=2.9->tensorflow->keras-rl2) (4.13.0)\n",
            "Requirement already satisfied: zipp>=0.5 in /usr/local/lib/python3.7/dist-packages (from importlib-metadata>=4.4->markdown>=2.6.8->tensorboard<2.10,>=2.9->tensorflow->keras-rl2) (3.10.0)\n",
            "Requirement already satisfied: pyasn1<0.5.0,>=0.4.6 in /usr/local/lib/python3.7/dist-packages (from pyasn1-modules>=0.2.1->google-auth<3,>=1.6.3->tensorboard<2.10,>=2.9->tensorflow->keras-rl2) (0.4.8)\n",
            "Requirement already satisfied: urllib3!=1.25.0,!=1.25.1,<1.26,>=1.21.1 in /usr/local/lib/python3.7/dist-packages (from requests<3,>=2.21.0->tensorboard<2.10,>=2.9->tensorflow->keras-rl2) (1.24.3)\n",
            "Requirement already satisfied: chardet<4,>=3.0.2 in /usr/local/lib/python3.7/dist-packages (from requests<3,>=2.21.0->tensorboard<2.10,>=2.9->tensorflow->keras-rl2) (3.0.4)\n",
            "Requirement already satisfied: idna<3,>=2.5 in /usr/local/lib/python3.7/dist-packages (from requests<3,>=2.21.0->tensorboard<2.10,>=2.9->tensorflow->keras-rl2) (2.10)\n",
            "Requirement already satisfied: certifi>=2017.4.17 in /usr/local/lib/python3.7/dist-packages (from requests<3,>=2.21.0->tensorboard<2.10,>=2.9->tensorflow->keras-rl2) (2022.9.24)\n",
            "Requirement already satisfied: oauthlib>=3.0.0 in /usr/local/lib/python3.7/dist-packages (from requests-oauthlib>=0.7.0->google-auth-oauthlib<0.5,>=0.4.1->tensorboard<2.10,>=2.9->tensorflow->keras-rl2) (3.2.2)\n",
            "Requirement already satisfied: pyparsing!=3.0.5,>=2.0.2 in /usr/local/lib/python3.7/dist-packages (from packaging->tensorflow->keras-rl2) (3.0.9)\n",
            "Installing collected packages: keras-rl2\n",
            "Successfully installed keras-rl2-1.0.5\n"
          ]
        }
      ]
    },
    {
      "cell_type": "code",
      "source": [
        "from rl.memory import SequentialMemory\n",
        "from rl.policy import LinearAnnealedPolicy, EpsGreedyQPolicy\n",
        "from tensorflow.keras.optimizers import Adam\n",
        "from rl.agents.dqn import DQNAgent"
      ],
      "metadata": {
        "id": "yyqMr-LWCYbg"
      },
      "execution_count": null,
      "outputs": []
    },
    {
      "cell_type": "markdown",
      "source": [
        "###Setting up Environment and Initializing the Q Table"
      ],
      "metadata": {
        "id": "olDzhEarAC5p"
      }
    },
    {
      "cell_type": "code",
      "source": [
        "env = gym.make(\"Taxi-v3\").env"
      ],
      "metadata": {
        "id": "Wf8jiNjHuofj"
      },
      "execution_count": null,
      "outputs": []
    },
    {
      "cell_type": "code",
      "source": [
        "n_observations = env.observation_space.n\n",
        "n_actions = env.action_space.n"
      ],
      "metadata": {
        "id": "dhI63DGMuoiq"
      },
      "execution_count": null,
      "outputs": []
    },
    {
      "cell_type": "code",
      "source": [
        "q_table = np.zeros([env.observation_space.n, env.action_space.n])\n",
        "print(q_table)"
      ],
      "metadata": {
        "colab": {
          "base_uri": "https://localhost:8080/"
        },
        "id": "aOuiRae8voZc",
        "outputId": "1fe2ef8b-7e90-4bfd-95f5-180a0936272c"
      },
      "execution_count": null,
      "outputs": [
        {
          "output_type": "stream",
          "name": "stdout",
          "text": [
            "[[0. 0. 0. 0. 0. 0.]\n",
            " [0. 0. 0. 0. 0. 0.]\n",
            " [0. 0. 0. 0. 0. 0.]\n",
            " ...\n",
            " [0. 0. 0. 0. 0. 0.]\n",
            " [0. 0. 0. 0. 0. 0.]\n",
            " [0. 0. 0. 0. 0. 0.]]\n"
          ]
        }
      ]
    },
    {
      "cell_type": "markdown",
      "source": [
        "Establishing Baseline Performance"
      ],
      "metadata": {
        "id": "GC0F_S2U9NkA"
      }
    },
    {
      "cell_type": "markdown",
      "source": [
        "###Question 1\n",
        "The score after 100 test episodes for the baseline performance is:\n",
        "\n",
        "Average timesteps per episode: 13.25\n",
        "\n",
        "\n",
        "Average penalties per episode: 0.0"
      ],
      "metadata": {
        "id": "2T9PruOo_RVT"
      }
    },
    {
      "cell_type": "code",
      "source": [
        "from IPython.display import clear_output\n",
        "alpha = 0.7\n",
        "gamma = 0.6\n",
        "epsilon = 0.1\n",
        "max_epsilon = 0.1\n",
        "min_epsilon = 0.001\n",
        "decay_rate = 0.01\n",
        "total_episodes = 10000\n",
        "max_steps = 99\n",
        "\n",
        "all_epochs = []\n",
        "all_penalties = []\n",
        "\n",
        "for i in range(1, total_episodes):\n",
        "    state = env.reset()\n",
        "    state1 = state[0]\n",
        "\n",
        "    epochs, penalties, reward, = 0, 0, 0\n",
        "    done = False\n",
        "    \n",
        "    while not done:\n",
        "        if random.uniform(0, 1) < epsilon:\n",
        "            action = env.action_space.sample() # Explore action space\n",
        "        else:\n",
        "            action = np.argmax(q_table[state1]) # Exploit learned values\n",
        "            #print(action)\n",
        "\n",
        "        next_state, reward, done,_, info = env.step(action) \n",
        "        \n",
        "        old_value = q_table[state1, action]\n",
        "        next_max = np.max(q_table[next_state])\n",
        "        \n",
        "        new_value = (1 - alpha) * old_value + alpha * (reward + gamma * next_max)\n",
        "        q_table[state1, action] = new_value\n",
        "\n",
        "        if reward == -10:\n",
        "            penalties += 1\n",
        "\n",
        "        state1 = next_state\n",
        "        epochs += 1\n",
        "        \n",
        "    if i % 100 == 0:\n",
        "        clear_output(wait=True)\n",
        "        print(f\"Episode: {i}\")\n",
        "\n",
        "print(\"Training finished.\\n\")\n"
      ],
      "metadata": {
        "colab": {
          "base_uri": "https://localhost:8080/"
        },
        "id": "MjipOWLB8QEx",
        "outputId": "c46bc17a-3fbb-4f07-c8b6-17d09b8418d9"
      },
      "execution_count": 42,
      "outputs": [
        {
          "output_type": "stream",
          "name": "stdout",
          "text": [
            "Episode: 9900\n",
            "Training finished.\n",
            "\n"
          ]
        }
      ]
    },
    {
      "cell_type": "code",
      "source": [
        "total_epochs, total_penalties,total_rewards = 0, 0,0\n",
        "total_test_episodes  = 100\n",
        "\n",
        "for _ in range(total_test_episodes ):\n",
        "    state = env.reset()\n",
        "    state1 = state[0]\n",
        "    epochs, penalties, reward = 0, 0, 0\n",
        "    \n",
        "    done = False\n",
        "    \n",
        "    while not done:\n",
        "        action = np.argmax(q_table[state1])\n",
        "        state1, reward, done,_, info = env.step(action)\n",
        "        total_rewards += reward\n",
        "\n",
        "        if reward == -10:\n",
        "            penalties += 1\n",
        "\n",
        "        epochs += 1\n",
        "\n",
        "    total_penalties += penalties\n",
        "    total_epochs += epochs\n",
        "    \n",
        "\n",
        "print(f\"Results after {total_test_episodes } episodes:\")\n",
        "print(f\"Average reward per episode: {total_rewards / total_test_episodes }\")\n",
        "print(f\"Average timesteps per episode: {total_epochs / total_test_episodes }\")\n",
        "print(f\"Average penalties per episode: {total_penalties / total_test_episodes }\")"
      ],
      "metadata": {
        "colab": {
          "base_uri": "https://localhost:8080/"
        },
        "id": "bgPwQ8Xm-RQJ",
        "outputId": "c152c6c8-785c-44ce-a9f7-d0de014f021c"
      },
      "execution_count": 43,
      "outputs": [
        {
          "output_type": "stream",
          "name": "stdout",
          "text": [
            "Results after 100 episodes:\n",
            "Average reward per episode: 7.75\n",
            "Average timesteps per episode: 13.25\n",
            "Average penalties per episode: 0.0\n"
          ]
        }
      ]
    },
    {
      "cell_type": "markdown",
      "source": [
        "###Question 2\n",
        "The state space and action space are 500, 6 \n",
        "\n",
        "The actions are \n",
        "0 = South\n",
        "1 = North\n",
        "2 = East\n",
        "3 = West\n",
        "4 = Pickup\n",
        "5 = Dropoff\n",
        "\n",
        "The size of the Q Table is 3000"
      ],
      "metadata": {
        "id": "jcY3z1HG_pnk"
      }
    },
    {
      "cell_type": "code",
      "source": [
        "print(\"The state space and the action space are:\", n_observations,n_actions)"
      ],
      "metadata": {
        "colab": {
          "base_uri": "https://localhost:8080/"
        },
        "id": "c4od4BIUuoli",
        "outputId": "0bedd4bb-b2d0-4284-aaf1-1ec04669f24d"
      },
      "execution_count": 44,
      "outputs": [
        {
          "output_type": "stream",
          "name": "stdout",
          "text": [
            "The state space and the action space are: 500 6\n"
          ]
        }
      ]
    },
    {
      "cell_type": "code",
      "source": [
        "print(\"The size of the Q Table is\",q_table.size)"
      ],
      "metadata": {
        "colab": {
          "base_uri": "https://localhost:8080/"
        },
        "id": "Ds3MWhmUwJCl",
        "outputId": "0e0124b1-2f43-4cf1-b15b-f8ad382a683a"
      },
      "execution_count": 45,
      "outputs": [
        {
          "output_type": "stream",
          "name": "stdout",
          "text": [
            "The size of the Q Table is 3000\n"
          ]
        }
      ]
    },
    {
      "cell_type": "markdown",
      "source": [
        "###Question 3\n",
        "\n",
        "There are four locations at the four corners of the table. A passenger is waiting for the taxi at one location and you have to drive him to the designated location. You are rewarded for each move, with a low penalty when you are on travel, with a large penalty if you pick-up or drop-off the passenger at the wrong location, but you earn a big reward if you succeed. "
      ],
      "metadata": {
        "id": "UgfjzzJxAL2h"
      }
    },
    {
      "cell_type": "markdown",
      "source": [
        "###Question 4\n",
        "\n",
        "Alpha, Gamma values choosing and working with different values"
      ],
      "metadata": {
        "id": "R1k8TLhBAQU-"
      }
    },
    {
      "cell_type": "code",
      "source": [
        "alpha = 0.5\n",
        "gamma = 0.2\n",
        "epsilon = 0.1\n",
        "max_epsilon = 0.1\n",
        "min_epsilon = 0.001\n",
        "decay_rate = 0.01\n",
        "total_episodes = 10000\n",
        "max_steps = 99\n",
        "\n",
        "all_epochs = []\n",
        "all_penalties = []\n",
        "\n",
        "for i in range(1, total_episodes):\n",
        "    state = env.reset()\n",
        "    state1 = state[0]\n",
        "\n",
        "    epochs, penalties, reward, = 0, 0, 0\n",
        "    done = False\n",
        "    \n",
        "    while not done:\n",
        "        if random.uniform(0, 1) < epsilon:\n",
        "            action = env.action_space.sample() # Explore action space\n",
        "        else:\n",
        "            action = np.argmax(q_table[state1]) # Exploit learned values\n",
        "            #print(action)\n",
        "\n",
        "        next_state, reward, done,_, info = env.step(action) \n",
        "        \n",
        "        old_value = q_table[state1, action]\n",
        "        next_max = np.max(q_table[next_state])\n",
        "        \n",
        "        new_value = (1 - alpha) * old_value + alpha * (reward + gamma * next_max)\n",
        "        q_table[state1, action] = new_value\n",
        "\n",
        "        if reward == -10:\n",
        "            penalties += 1\n",
        "\n",
        "        state1 = next_state\n",
        "        epochs += 1\n",
        "        \n",
        "    if i % 100 == 0:\n",
        "        clear_output(wait=True)\n",
        "        print(f\"Episode: {i}\")\n",
        "\n",
        "print(\"Training finished.\\n\")\n"
      ],
      "metadata": {
        "colab": {
          "base_uri": "https://localhost:8080/"
        },
        "id": "yPMl1e9iAXOx",
        "outputId": "7f74c5e2-f9fe-4400-87cd-fc08d60d0108"
      },
      "execution_count": 48,
      "outputs": [
        {
          "output_type": "stream",
          "name": "stdout",
          "text": [
            "Episode: 9900\n",
            "Training finished.\n",
            "\n"
          ]
        }
      ]
    },
    {
      "cell_type": "code",
      "source": [
        "total_epochs, total_penalties,total_rewards = 0, 0,0\n",
        "total_test_episodes  = 100\n",
        "\n",
        "for _ in range(total_test_episodes ):\n",
        "    state = env.reset()\n",
        "    state1 = state[0]\n",
        "    epochs, penalties, reward = 0, 0, 0\n",
        "    \n",
        "    done = False\n",
        "    \n",
        "    while not done:\n",
        "        action = np.argmax(q_table[state1])\n",
        "        state1, reward, done,_, info = env.step(action)\n",
        "        total_rewards += reward\n",
        "\n",
        "        if reward == -10:\n",
        "            penalties += 1\n",
        "\n",
        "        epochs += 1\n",
        "\n",
        "    total_penalties += penalties\n",
        "    total_epochs += epochs\n",
        "   \n",
        "\n",
        "print(f\"Results after {total_test_episodes } episodes:\")\n",
        "print(f\"Average reward per episode: {total_rewards / total_test_episodes }\")\n",
        "print(f\"Average timesteps per episode: {total_epochs / total_test_episodes }\")\n",
        "print(f\"Average penalties per episode: {total_penalties / total_test_episodes }\")"
      ],
      "metadata": {
        "colab": {
          "base_uri": "https://localhost:8080/"
        },
        "id": "IYZGBagjAYJo",
        "outputId": "746e8742-faeb-48f3-90fe-eea3e8d936d4"
      },
      "execution_count": 49,
      "outputs": [
        {
          "output_type": "stream",
          "name": "stdout",
          "text": [
            "Results after 100 episodes:\n",
            "Average reward per episode: 7.93\n",
            "Average timesteps per episode: 13.07\n",
            "Average penalties per episode: 0.0\n"
          ]
        }
      ]
    },
    {
      "cell_type": "markdown",
      "source": [
        "###Question 5\n",
        "\n",
        "Using a policy other than e greedy and its effect on the baseline\n"
      ],
      "metadata": {
        "id": "DH5msgd2Frxb"
      }
    },
    {
      "cell_type": "code",
      "source": [
        "input_shape = (1,) + env.observation_space.shape"
      ],
      "metadata": {
        "id": "NoUTmGD7FEI6"
      },
      "execution_count": null,
      "outputs": []
    },
    {
      "cell_type": "code",
      "source": [
        "from tensorflow.keras.layers import Dense, Flatten\n",
        "from tensorflow.keras.models import Sequential\n",
        "\n",
        "# Compute dimensions\n",
        "n_action = env.action_space.n\n",
        "input_shape = (1,) + env.observation_space.shape # (1,) is the batch size that the model expects in input.\n",
        "\n",
        "# Create model\n",
        "model = Sequential()\n",
        "model.add(Dense(128, activation=\"elu\", input_shape=input_shape))\n",
        "model.add(Flatten())\n",
        "model.add(Dense(64, activation=\"elu\"))\n",
        "model.add(Dense(n_action, activation=\"linear\"))"
      ],
      "metadata": {
        "id": "TRKvNTXCD-Ci"
      },
      "execution_count": null,
      "outputs": []
    },
    {
      "cell_type": "code",
      "source": [
        "memory = SequentialMemory(limit=10000, window_length=1)\n",
        "\n",
        "policy = LinearAnnealedPolicy(\n",
        "    EpsGreedyQPolicy(),\n",
        "    attr=\"eps\",\n",
        "    value_max=1.0,\n",
        "    value_min=0.05,\n",
        "    value_test=0.0,\n",
        "    nb_steps=10000,\n",
        ")\n",
        "\n",
        "dqn = DQNAgent(\n",
        "    model=model,\n",
        "    nb_actions=n_action,\n",
        "    policy=policy,\n",
        "    memory=memory,\n",
        "    nb_steps_warmup=1000,\n",
        "    gamma=0.5,\n",
        "    target_model_update=1,\n",
        "    delta_clip=0.01,\n",
        "    enable_double_dqn=True,\n",
        ")\n",
        "dqn.compile(Adam(learning_rate=0.00025), metrics=[\"mae\"])"
      ],
      "metadata": {
        "id": "5ROnVot4F-tP"
      },
      "execution_count": null,
      "outputs": []
    },
    {
      "cell_type": "code",
      "source": [
        "dqn.fit(env, nb_steps=10000)\n",
        "env.close()"
      ],
      "metadata": {
        "colab": {
          "base_uri": "https://localhost:8080/",
          "height": 443
        },
        "id": "HtklI7TyF_ql",
        "outputId": "054d03ef-ef42-4366-a441-ef8f9e0ae41c"
      },
      "execution_count": null,
      "outputs": [
        {
          "output_type": "stream",
          "name": "stdout",
          "text": [
            "Training for 10000 steps ...\n",
            "Interval 1 (0 steps performed)\n"
          ]
        },
        {
          "output_type": "error",
          "ename": "ValueError",
          "evalue": "ignored",
          "traceback": [
            "\u001b[0;31m---------------------------------------------------------------------------\u001b[0m",
            "\u001b[0;31mValueError\u001b[0m                                Traceback (most recent call last)",
            "\u001b[0;32m<ipython-input-40-f76ee8e48e9b>\u001b[0m in \u001b[0;36m<module>\u001b[0;34m\u001b[0m\n\u001b[0;32m----> 1\u001b[0;31m \u001b[0mdqn\u001b[0m\u001b[0;34m.\u001b[0m\u001b[0mfit\u001b[0m\u001b[0;34m(\u001b[0m\u001b[0menv\u001b[0m\u001b[0;34m,\u001b[0m \u001b[0mnb_steps\u001b[0m\u001b[0;34m=\u001b[0m\u001b[0;36m10000\u001b[0m\u001b[0;34m)\u001b[0m\u001b[0;34m\u001b[0m\u001b[0;34m\u001b[0m\u001b[0m\n\u001b[0m\u001b[1;32m      2\u001b[0m \u001b[0menv\u001b[0m\u001b[0;34m.\u001b[0m\u001b[0mclose\u001b[0m\u001b[0;34m(\u001b[0m\u001b[0;34m)\u001b[0m\u001b[0;34m\u001b[0m\u001b[0;34m\u001b[0m\u001b[0m\n",
            "\u001b[0;32m/usr/local/lib/python3.7/dist-packages/rl/core.py\u001b[0m in \u001b[0;36mfit\u001b[0;34m(self, env, nb_steps, action_repetition, callbacks, verbose, visualize, nb_max_start_steps, start_step_policy, log_interval, nb_max_episode_steps)\u001b[0m\n\u001b[1;32m    166\u001b[0m                 \u001b[0;31m# This is were all of the work happens. We first perceive and compute the action\u001b[0m\u001b[0;34m\u001b[0m\u001b[0;34m\u001b[0m\u001b[0;34m\u001b[0m\u001b[0m\n\u001b[1;32m    167\u001b[0m                 \u001b[0;31m# (forward step) and then use the reward to improve (backward step).\u001b[0m\u001b[0;34m\u001b[0m\u001b[0;34m\u001b[0m\u001b[0;34m\u001b[0m\u001b[0m\n\u001b[0;32m--> 168\u001b[0;31m                 \u001b[0maction\u001b[0m \u001b[0;34m=\u001b[0m \u001b[0mself\u001b[0m\u001b[0;34m.\u001b[0m\u001b[0mforward\u001b[0m\u001b[0;34m(\u001b[0m\u001b[0mobservation\u001b[0m\u001b[0;34m)\u001b[0m\u001b[0;34m\u001b[0m\u001b[0;34m\u001b[0m\u001b[0m\n\u001b[0m\u001b[1;32m    169\u001b[0m                 \u001b[0;32mif\u001b[0m \u001b[0mself\u001b[0m\u001b[0;34m.\u001b[0m\u001b[0mprocessor\u001b[0m \u001b[0;32mis\u001b[0m \u001b[0;32mnot\u001b[0m \u001b[0;32mNone\u001b[0m\u001b[0;34m:\u001b[0m\u001b[0;34m\u001b[0m\u001b[0;34m\u001b[0m\u001b[0m\n\u001b[1;32m    170\u001b[0m                     \u001b[0maction\u001b[0m \u001b[0;34m=\u001b[0m \u001b[0mself\u001b[0m\u001b[0;34m.\u001b[0m\u001b[0mprocessor\u001b[0m\u001b[0;34m.\u001b[0m\u001b[0mprocess_action\u001b[0m\u001b[0;34m(\u001b[0m\u001b[0maction\u001b[0m\u001b[0;34m)\u001b[0m\u001b[0;34m\u001b[0m\u001b[0;34m\u001b[0m\u001b[0m\n",
            "\u001b[0;32m/usr/local/lib/python3.7/dist-packages/rl/agents/dqn.py\u001b[0m in \u001b[0;36mforward\u001b[0;34m(self, observation)\u001b[0m\n\u001b[1;32m    222\u001b[0m         \u001b[0;31m# Select an action.\u001b[0m\u001b[0;34m\u001b[0m\u001b[0;34m\u001b[0m\u001b[0;34m\u001b[0m\u001b[0m\n\u001b[1;32m    223\u001b[0m         \u001b[0mstate\u001b[0m \u001b[0;34m=\u001b[0m \u001b[0mself\u001b[0m\u001b[0;34m.\u001b[0m\u001b[0mmemory\u001b[0m\u001b[0;34m.\u001b[0m\u001b[0mget_recent_state\u001b[0m\u001b[0;34m(\u001b[0m\u001b[0mobservation\u001b[0m\u001b[0;34m)\u001b[0m\u001b[0;34m\u001b[0m\u001b[0;34m\u001b[0m\u001b[0m\n\u001b[0;32m--> 224\u001b[0;31m         \u001b[0mq_values\u001b[0m \u001b[0;34m=\u001b[0m \u001b[0mself\u001b[0m\u001b[0;34m.\u001b[0m\u001b[0mcompute_q_values\u001b[0m\u001b[0;34m(\u001b[0m\u001b[0mstate\u001b[0m\u001b[0;34m)\u001b[0m\u001b[0;34m\u001b[0m\u001b[0;34m\u001b[0m\u001b[0m\n\u001b[0m\u001b[1;32m    225\u001b[0m         \u001b[0;32mif\u001b[0m \u001b[0mself\u001b[0m\u001b[0;34m.\u001b[0m\u001b[0mtraining\u001b[0m\u001b[0;34m:\u001b[0m\u001b[0;34m\u001b[0m\u001b[0;34m\u001b[0m\u001b[0m\n\u001b[1;32m    226\u001b[0m             \u001b[0maction\u001b[0m \u001b[0;34m=\u001b[0m \u001b[0mself\u001b[0m\u001b[0;34m.\u001b[0m\u001b[0mpolicy\u001b[0m\u001b[0;34m.\u001b[0m\u001b[0mselect_action\u001b[0m\u001b[0;34m(\u001b[0m\u001b[0mq_values\u001b[0m\u001b[0;34m=\u001b[0m\u001b[0mq_values\u001b[0m\u001b[0;34m)\u001b[0m\u001b[0;34m\u001b[0m\u001b[0;34m\u001b[0m\u001b[0m\n",
            "\u001b[0;32m/usr/local/lib/python3.7/dist-packages/rl/agents/dqn.py\u001b[0m in \u001b[0;36mcompute_q_values\u001b[0;34m(self, state)\u001b[0m\n\u001b[1;32m     66\u001b[0m \u001b[0;34m\u001b[0m\u001b[0m\n\u001b[1;32m     67\u001b[0m     \u001b[0;32mdef\u001b[0m \u001b[0mcompute_q_values\u001b[0m\u001b[0;34m(\u001b[0m\u001b[0mself\u001b[0m\u001b[0;34m,\u001b[0m \u001b[0mstate\u001b[0m\u001b[0;34m)\u001b[0m\u001b[0;34m:\u001b[0m\u001b[0;34m\u001b[0m\u001b[0;34m\u001b[0m\u001b[0m\n\u001b[0;32m---> 68\u001b[0;31m         \u001b[0mq_values\u001b[0m \u001b[0;34m=\u001b[0m \u001b[0mself\u001b[0m\u001b[0;34m.\u001b[0m\u001b[0mcompute_batch_q_values\u001b[0m\u001b[0;34m(\u001b[0m\u001b[0;34m[\u001b[0m\u001b[0mstate\u001b[0m\u001b[0;34m]\u001b[0m\u001b[0;34m)\u001b[0m\u001b[0;34m.\u001b[0m\u001b[0mflatten\u001b[0m\u001b[0;34m(\u001b[0m\u001b[0;34m)\u001b[0m\u001b[0;34m\u001b[0m\u001b[0;34m\u001b[0m\u001b[0m\n\u001b[0m\u001b[1;32m     69\u001b[0m         \u001b[0;32massert\u001b[0m \u001b[0mq_values\u001b[0m\u001b[0;34m.\u001b[0m\u001b[0mshape\u001b[0m \u001b[0;34m==\u001b[0m \u001b[0;34m(\u001b[0m\u001b[0mself\u001b[0m\u001b[0;34m.\u001b[0m\u001b[0mnb_actions\u001b[0m\u001b[0;34m,\u001b[0m\u001b[0;34m)\u001b[0m\u001b[0;34m\u001b[0m\u001b[0;34m\u001b[0m\u001b[0m\n\u001b[1;32m     70\u001b[0m         \u001b[0;32mreturn\u001b[0m \u001b[0mq_values\u001b[0m\u001b[0;34m\u001b[0m\u001b[0;34m\u001b[0m\u001b[0m\n",
            "\u001b[0;32m/usr/local/lib/python3.7/dist-packages/rl/agents/dqn.py\u001b[0m in \u001b[0;36mcompute_batch_q_values\u001b[0;34m(self, state_batch)\u001b[0m\n\u001b[1;32m     61\u001b[0m     \u001b[0;32mdef\u001b[0m \u001b[0mcompute_batch_q_values\u001b[0m\u001b[0;34m(\u001b[0m\u001b[0mself\u001b[0m\u001b[0;34m,\u001b[0m \u001b[0mstate_batch\u001b[0m\u001b[0;34m)\u001b[0m\u001b[0;34m:\u001b[0m\u001b[0;34m\u001b[0m\u001b[0;34m\u001b[0m\u001b[0m\n\u001b[1;32m     62\u001b[0m         \u001b[0mbatch\u001b[0m \u001b[0;34m=\u001b[0m \u001b[0mself\u001b[0m\u001b[0;34m.\u001b[0m\u001b[0mprocess_state_batch\u001b[0m\u001b[0;34m(\u001b[0m\u001b[0mstate_batch\u001b[0m\u001b[0;34m)\u001b[0m\u001b[0;34m\u001b[0m\u001b[0;34m\u001b[0m\u001b[0m\n\u001b[0;32m---> 63\u001b[0;31m         \u001b[0mq_values\u001b[0m \u001b[0;34m=\u001b[0m \u001b[0mself\u001b[0m\u001b[0;34m.\u001b[0m\u001b[0mmodel\u001b[0m\u001b[0;34m.\u001b[0m\u001b[0mpredict_on_batch\u001b[0m\u001b[0;34m(\u001b[0m\u001b[0mbatch\u001b[0m\u001b[0;34m)\u001b[0m\u001b[0;34m\u001b[0m\u001b[0;34m\u001b[0m\u001b[0m\n\u001b[0m\u001b[1;32m     64\u001b[0m         \u001b[0;32massert\u001b[0m \u001b[0mq_values\u001b[0m\u001b[0;34m.\u001b[0m\u001b[0mshape\u001b[0m \u001b[0;34m==\u001b[0m \u001b[0;34m(\u001b[0m\u001b[0mlen\u001b[0m\u001b[0;34m(\u001b[0m\u001b[0mstate_batch\u001b[0m\u001b[0;34m)\u001b[0m\u001b[0;34m,\u001b[0m \u001b[0mself\u001b[0m\u001b[0;34m.\u001b[0m\u001b[0mnb_actions\u001b[0m\u001b[0;34m)\u001b[0m\u001b[0;34m\u001b[0m\u001b[0;34m\u001b[0m\u001b[0m\n\u001b[1;32m     65\u001b[0m         \u001b[0;32mreturn\u001b[0m \u001b[0mq_values\u001b[0m\u001b[0;34m\u001b[0m\u001b[0;34m\u001b[0m\u001b[0m\n",
            "\u001b[0;32m/usr/local/lib/python3.7/dist-packages/keras/engine/training_v1.py\u001b[0m in \u001b[0;36mpredict_on_batch\u001b[0;34m(self, x)\u001b[0m\n\u001b[1;32m   1185\u001b[0m     \u001b[0;31m# Validate and standardize user data.\u001b[0m\u001b[0;34m\u001b[0m\u001b[0;34m\u001b[0m\u001b[0;34m\u001b[0m\u001b[0m\n\u001b[1;32m   1186\u001b[0m     inputs, _, _ = self._standardize_user_data(\n\u001b[0;32m-> 1187\u001b[0;31m         x, extract_tensors_from_dataset=True)\n\u001b[0m\u001b[1;32m   1188\u001b[0m     \u001b[0;31m# If `self._distribution_strategy` is True, then we are in a replica context\u001b[0m\u001b[0;34m\u001b[0m\u001b[0;34m\u001b[0m\u001b[0;34m\u001b[0m\u001b[0m\n\u001b[1;32m   1189\u001b[0m     \u001b[0;31m# at this point.\u001b[0m\u001b[0;34m\u001b[0m\u001b[0;34m\u001b[0m\u001b[0;34m\u001b[0m\u001b[0m\n",
            "\u001b[0;32m/usr/local/lib/python3.7/dist-packages/keras/engine/training_v1.py\u001b[0m in \u001b[0;36m_standardize_user_data\u001b[0;34m(self, x, y, sample_weight, class_weight, batch_size, check_steps, steps_name, steps, validation_split, shuffle, extract_tensors_from_dataset)\u001b[0m\n\u001b[1;32m   2327\u001b[0m         \u001b[0mis_dataset\u001b[0m\u001b[0;34m=\u001b[0m\u001b[0mis_dataset\u001b[0m\u001b[0;34m,\u001b[0m\u001b[0;34m\u001b[0m\u001b[0;34m\u001b[0m\u001b[0m\n\u001b[1;32m   2328\u001b[0m         \u001b[0mclass_weight\u001b[0m\u001b[0;34m=\u001b[0m\u001b[0mclass_weight\u001b[0m\u001b[0;34m,\u001b[0m\u001b[0;34m\u001b[0m\u001b[0;34m\u001b[0m\u001b[0m\n\u001b[0;32m-> 2329\u001b[0;31m         batch_size=batch_size)\n\u001b[0m\u001b[1;32m   2330\u001b[0m \u001b[0;34m\u001b[0m\u001b[0m\n\u001b[1;32m   2331\u001b[0m   def _standardize_tensors(self, x, y, sample_weight, run_eagerly, dict_inputs,\n",
            "\u001b[0;32m/usr/local/lib/python3.7/dist-packages/keras/engine/training_v1.py\u001b[0m in \u001b[0;36m_standardize_tensors\u001b[0;34m(self, x, y, sample_weight, run_eagerly, dict_inputs, is_dataset, class_weight, batch_size)\u001b[0m\n\u001b[1;32m   2354\u001b[0m           \u001b[0mfeed_input_shapes\u001b[0m\u001b[0;34m,\u001b[0m\u001b[0;34m\u001b[0m\u001b[0;34m\u001b[0m\u001b[0m\n\u001b[1;32m   2355\u001b[0m           \u001b[0mcheck_batch_axis\u001b[0m\u001b[0;34m=\u001b[0m\u001b[0;32mFalse\u001b[0m\u001b[0;34m,\u001b[0m  \u001b[0;31m# Don't enforce the batch size.\u001b[0m\u001b[0;34m\u001b[0m\u001b[0;34m\u001b[0m\u001b[0m\n\u001b[0;32m-> 2356\u001b[0;31m           exception_prefix='input')\n\u001b[0m\u001b[1;32m   2357\u001b[0m \u001b[0;34m\u001b[0m\u001b[0m\n\u001b[1;32m   2358\u001b[0m     \u001b[0;31m# Get typespecs for the input data and sanitize it if necessary.\u001b[0m\u001b[0;34m\u001b[0m\u001b[0;34m\u001b[0m\u001b[0;34m\u001b[0m\u001b[0m\n",
            "\u001b[0;32m/usr/local/lib/python3.7/dist-packages/keras/engine/training_utils_v1.py\u001b[0m in \u001b[0;36mstandardize_input_data\u001b[0;34m(data, names, shapes, check_batch_axis, exception_prefix)\u001b[0m\n\u001b[1;32m    634\u001b[0m                            \u001b[0;34m': expected '\u001b[0m \u001b[0;34m+\u001b[0m \u001b[0mnames\u001b[0m\u001b[0;34m[\u001b[0m\u001b[0mi\u001b[0m\u001b[0;34m]\u001b[0m \u001b[0;34m+\u001b[0m \u001b[0;34m' to have '\u001b[0m \u001b[0;34m+\u001b[0m\u001b[0;34m\u001b[0m\u001b[0;34m\u001b[0m\u001b[0m\n\u001b[1;32m    635\u001b[0m                            \u001b[0mstr\u001b[0m\u001b[0;34m(\u001b[0m\u001b[0mlen\u001b[0m\u001b[0;34m(\u001b[0m\u001b[0mshape\u001b[0m\u001b[0;34m)\u001b[0m\u001b[0;34m)\u001b[0m \u001b[0;34m+\u001b[0m \u001b[0;34m' dimensions, but got array '\u001b[0m\u001b[0;34m\u001b[0m\u001b[0;34m\u001b[0m\u001b[0m\n\u001b[0;32m--> 636\u001b[0;31m                            'with shape ' + str(data_shape))\n\u001b[0m\u001b[1;32m    637\u001b[0m         \u001b[0;32mif\u001b[0m \u001b[0;32mnot\u001b[0m \u001b[0mcheck_batch_axis\u001b[0m\u001b[0;34m:\u001b[0m\u001b[0;34m\u001b[0m\u001b[0;34m\u001b[0m\u001b[0m\n\u001b[1;32m    638\u001b[0m           \u001b[0mdata_shape\u001b[0m \u001b[0;34m=\u001b[0m \u001b[0mdata_shape\u001b[0m\u001b[0;34m[\u001b[0m\u001b[0;36m1\u001b[0m\u001b[0;34m:\u001b[0m\u001b[0;34m]\u001b[0m\u001b[0;34m\u001b[0m\u001b[0;34m\u001b[0m\u001b[0m\n",
            "\u001b[0;31mValueError\u001b[0m: Error when checking input: expected dense_7_input to have 2 dimensions, but got array with shape (1, 1, 2)"
          ]
        }
      ]
    },
    {
      "cell_type": "markdown",
      "source": [
        "###Question 6\n",
        "Decay rate and starting epsilon\n",
        "How did it change the baseline performance? What is the value of epsilon when if you reach the max steps per episode? (5 Points)"
      ],
      "metadata": {
        "id": "tp-OoP0GF2mf"
      }
    },
    {
      "cell_type": "markdown",
      "source": [
        "Starting Epsilon of 0.1 was chosen.\n",
        "\n",
        "Epsilon Decay is the decay rate where the value decreases after an epsiode. An epsilon Decay of 0.01 was chosen as this would provide a better balance between Exploration-Exploitation.\n",
        "\n",
        "To test different values of epsilon, the starting espilon starts 1 for max exploration and a faster decay rate of 0.7 to test performance"
      ],
      "metadata": {
        "id": "NSBHpnR9LMHB"
      }
    },
    {
      "cell_type": "code",
      "source": [
        "alpha = 0.5\n",
        "gamma = 0.2\n",
        "epsilon = 1\n",
        "max_epsilon = 0.1\n",
        "min_epsilon = 0.001\n",
        "decay_rate = 0.7\n",
        "total_episodes = 10000\n",
        "max_steps = 99\n",
        "\n",
        "all_epochs = []\n",
        "all_penalties = []\n",
        "\n",
        "for i in range(1, total_episodes):\n",
        "    state = env.reset()\n",
        "    state1 = state[0]\n",
        "\n",
        "    epochs, penalties, reward, = 0, 0, 0\n",
        "    done = False\n",
        "    \n",
        "    while not done:\n",
        "        if random.uniform(0, 1) < epsilon:\n",
        "            action = env.action_space.sample() # Explore action space\n",
        "        else:\n",
        "            action = np.argmax(q_table[state1]) # Exploit learned values\n",
        "            #print(action)\n",
        "\n",
        "        next_state, reward, done,_, info = env.step(action) \n",
        "        \n",
        "        old_value = q_table[state1, action]\n",
        "        next_max = np.max(q_table[next_state])\n",
        "        \n",
        "        new_value = (1 - alpha) * old_value + alpha * (reward + gamma * next_max)\n",
        "        q_table[state1, action] = new_value\n",
        "\n",
        "        if reward == -10:\n",
        "            penalties += 1\n",
        "\n",
        "        state1 = next_state\n",
        "        epochs += 1\n",
        "        \n",
        "    if i % 100 == 0:\n",
        "        clear_output(wait=True)\n",
        "        print(f\"Episode: {i}\")\n",
        "\n",
        "print(\"Training finished.\\n\")"
      ],
      "metadata": {
        "colab": {
          "base_uri": "https://localhost:8080/"
        },
        "id": "BEHEwbZJMf1O",
        "outputId": "0bafda9e-1394-439b-cdc5-d9e6aef9d08a"
      },
      "execution_count": 50,
      "outputs": [
        {
          "output_type": "stream",
          "name": "stdout",
          "text": [
            "Episode: 9900\n",
            "Training finished.\n",
            "\n"
          ]
        }
      ]
    },
    {
      "cell_type": "code",
      "source": [
        "total_epochs, total_penalties,total_rewards = 0, 0,0\n",
        "total_test_episodes  = 100\n",
        "\n",
        "for _ in range(total_test_episodes ):\n",
        "    state = env.reset()\n",
        "    state1 = state[0]\n",
        "    epochs, penalties, reward = 0, 0, 0\n",
        "    \n",
        "    done = False\n",
        "    \n",
        "    while not done:\n",
        "        action = np.argmax(q_table[state1])\n",
        "        state1, reward, done,_, info = env.step(action)\n",
        "        total_rewards += reward\n",
        "\n",
        "        if reward == -10:\n",
        "            penalties += 1\n",
        "\n",
        "        epochs += 1\n",
        "\n",
        "    total_penalties += penalties\n",
        "    total_epochs += epochs\n",
        "   \n",
        "\n",
        "print(f\"Results after {total_test_episodes } episodes:\")\n",
        "print(f\"Average reward per episode: {total_rewards / total_test_episodes }\")\n",
        "print(f\"Average timesteps per episode: {total_epochs / total_test_episodes }\")\n",
        "print(f\"Average penalties per episode: {total_penalties / total_test_episodes }\")"
      ],
      "metadata": {
        "id": "Q2uyk9YnM8Lf"
      },
      "execution_count": null,
      "outputs": []
    },
    {
      "cell_type": "markdown",
      "source": [
        "###Question 7 \n",
        "The average number of time steps per episode is 13.16"
      ],
      "metadata": {
        "id": "IVjpDmxdGALZ"
      }
    },
    {
      "cell_type": "markdown",
      "source": [
        "###Question 8\n",
        "\n",
        "Is Q LearningPolicy based or value based"
      ],
      "metadata": {
        "id": "8Br9UYqbGiAo"
      }
    },
    {
      "cell_type": "markdown",
      "source": [
        "Q learning is a value-based off-policy temporal difference(TD) reinforcement learning. Off-policy means an agent follows a behaviour policy for choosing the action to reach the next state s_t+1 from state s_t. From s_t+1, it uses a policy π that is different from behaviour policy. In Q-learning, we take absolute greedy action as policy π from the next state s_t+1.\n",
        "\n",
        "![q learning eq1.png](data:image/png;base64,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)\n",
        "\n",
        "the above equation indicates how we compute the Q-value for an action a starting from state s in Q learning. It is the sum of immediate reward using a behaviour policy(ϵ-soft, ϵ-greedy or softmax) and from state s_t+1, it takes the absolute greedy action (choose the action that has maximum Q value over other actions)."
      ],
      "metadata": {
        "id": "IBVmVFVnGoBo"
      }
    },
    {
      "cell_type": "markdown",
      "source": [
        "###Question 9 \n",
        "\n",
        " Could you use SARSA for this problem? "
      ],
      "metadata": {
        "id": "NmS7xAnFGqFA"
      }
    },
    {
      "cell_type": "markdown",
      "source": [
        "Since we do not encode any prior knowledge about the outside world into the agent and the state transition function is hard to mode, SARSA can also be an approach to train the agent using an exploration policy like Epsilon-Greedy."
      ],
      "metadata": {
        "id": "sXBZNiYkRsMj"
      }
    },
    {
      "cell_type": "markdown",
      "source": [
        "###Question 10\n",
        "\n",
        "What is meant by the expected lifetime value in the Bellman equation?"
      ],
      "metadata": {
        "id": "PmmsM_IgGvK6"
      }
    },
    {
      "cell_type": "markdown",
      "source": [
        "![bellmaneq1.png](data:image/png;base64,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)"
      ],
      "metadata": {
        "id": "ugQydFZoR0b1"
      }
    },
    {
      "cell_type": "markdown",
      "source": [
        "It refers to the process of using the embedding and optimization principles to create a system of functional equations.Unique solutions should be explored for certain issues.\n",
        "\n"
      ],
      "metadata": {
        "id": "RVrwnO-vTda2"
      }
    },
    {
      "cell_type": "markdown",
      "source": [
        "###Question 11\n",
        "\n",
        "When would SARSA likely do better than Q-learning?"
      ],
      "metadata": {
        "id": "ZaaBNJpLGz-f"
      }
    },
    {
      "cell_type": "markdown",
      "source": [
        "If your goal is to train an optimal agent in simulation, or in a low-cost and fast-iterating environment, then Q-learning is a good choice, due to the first point (learning optimal policy directly). If your agent learns online, and you care about rewards gained whilst learning, then SARSA may be a better choice."
      ],
      "metadata": {
        "id": "JB_1oOI_drS6"
      }
    },
    {
      "cell_type": "markdown",
      "source": [
        "###Question 12\n",
        "\n",
        "How does SARSA differ from Q-learning? "
      ],
      "metadata": {
        "id": "Hj8ifFNTG4fQ"
      }
    },
    {
      "cell_type": "markdown",
      "source": [
        "Q-learning has the following advantages and disadvantages compared to SARSA:\n",
        "\n",
        "Q-learning directly learns the optimal policy, whilst SARSA learns a near-optimal policy whilst exploring. If you want to learn an optimal policy using SARSA, then you will need to decide on a strategy to decay ϵ in ϵ-greedy action choice, which may become a fiddly hyperparameter to tune.\n",
        "\n",
        "Q-learning (and off-policy learning in general) has higher per-sample variance than SARSA, and may suffer from problems converging as a result. This turns up as a problem when training neural networks via Q-learning.\n",
        "\n",
        "SARSA will approach convergence allowing for possible penalties from exploratory moves, whilst Q-learning will ignore them. That makes SARSA more conservative - if there is risk of a large negative reward close to the optimal path, Q-learning will tend to trigger that reward whilst exploring, whilst SARSA will tend to avoid a dangerous optimal path and only slowly learn to use it when the exploration parameters are reduced. The classic toy problem that demonstrates this effect is called cliff walking.\n",
        "\n",
        "In practice the last point can make a big difference if mistakes are costly - e.g. you are training a robot not in simulation, but in the real world. You may prefer a more conservative learning algorithm that avoids high risk, if there was real time and money at stake if the robot was damaged."
      ],
      "metadata": {
        "id": "j5aeAa_Jdu8g"
      }
    },
    {
      "cell_type": "markdown",
      "source": [
        "###Question 13\n",
        "\n",
        "Explain the Q-learning algorithm."
      ],
      "metadata": {
        "id": "Bhq3_njYG9wZ"
      }
    },
    {
      "cell_type": "markdown",
      "source": [
        "Q-Learning is a value-based learning algorithm. Value based algorithms updates the value function based algorithms updates the value function based on an equation (Bellman equation). Where as policy-based estimates the value function with a greedy policy obtained from the last policy improvement.\n",
        "\n",
        "Q-learning is an off-policy learner. Means it learns the value of the optimal policy independently of the agent’s actions. On the other hand, an on-policy learner learns the value of the policy being carried out by the agent, including the exploration steps and it will find a policy that is optimal, taking into account the exploration inherent in the policy.\n",
        "\n",
        "![qlearn1.png](data:image/png;base64,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)\n",
        "\n",
        "Step 1: Initialize the Q-Table\n",
        "First the Q-table has to be built. There are n columns, where n= number of actions. There are m rows, where m= number of states.\n",
        "\n",
        "Step 2 : Choose an Actiom\n",
        "Step 3: Perform an Action\n",
        "The combination of steps 2 and 3 is performed for an undefined amount of time. These steps runs until the time training is stopped, or when the training loop stopped as defined in the code.\n",
        "\n",
        "First, an action (a) in the state (s) is chosen based on the Q-Table. Note that, as mentioned earlier, when the episode initially starts, every Q-value should be 0.\n",
        "\n",
        "Then, update the Q-values for being at the start and moving right using the Bellman equation which is stated above.\n",
        "\n",
        "Epsilon greedy strategy concept comes in to play here. In the beginning, the epsilon rates will be higher. The agent will explore the environment and randomly choose actions. This occurs like this logically,since the agent does not know anything about the environment. As the agent explores the environment, the epsilon rate decreases and the agent starts to exploit the environment.\n",
        "\n",
        "During the process of exploration, the agent progressively becomes more confident in estimating the Q-values.\n",
        "\n",
        "Steps 4 : Measure Reward\n",
        "Now we have taken an action and observed an outcome and reward.\n",
        "\n",
        "Steps 5 : Evaluate\n",
        "We need to update the function Q(s,a).\n",
        "\n",
        "This process is repeated again and again until the learning is stopped. In this way the Q-Table is been updated and the value function Q is maximized. Here the Q(state, action) returns the expected future reward of that action at that state.\n",
        "\n",
        "![q learning eq1.png](data:image/png;base64,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)\n",
        "\n"
      ],
      "metadata": {
        "id": "f-DrX6aedc4W"
      }
    },
    {
      "cell_type": "markdown",
      "source": [
        "###Question 14\n",
        "\n",
        "Explain SARSA Algorithm"
      ],
      "metadata": {
        "id": "AncwYrHRHCuu"
      }
    },
    {
      "cell_type": "markdown",
      "source": [
        "The Sarsa algorithm is an On-Policy algorithm for TD-Learning.\n",
        "\n",
        "\n",
        "The name Sarsa comes from the fact that the updates are done using the quintuple Q(s, a, r, s', a'). Where: s, a are the original state and action, r is the reward observed in the following state and s', a' are the new state-action pair.\n",
        "\n",
        "\n",
        "Here, the equation for SARSA depends on the current state, current action, reward obtained, next state and next action. This observation lead to the naming of the learning technique as SARSA stands for State Action Reward State Action which symbolizes the tuple (s, a, r, s’, a’).\n",
        "\n",
        "![sarsa ps1.png](data:image/png;base64,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)"
      ],
      "metadata": {
        "id": "cWyODo7DHIhI"
      }
    },
    {
      "cell_type": "markdown",
      "source": [
        "###Question 15\n",
        "\n",
        "What code is yours and what have you adapted?\n",
        "\n"
      ],
      "metadata": {
        "id": "DANFmlvXHJLC"
      }
    },
    {
      "cell_type": "markdown",
      "source": [
        "1. Learn Data Science - https://www.learndatasci.com/tutorials/reinforcement-q-learning-scratch-python-openai-gym/\n",
        "\n",
        "2. OpenAI Gym Environment - https://github.com/lhvy/Taxi-v3-Q-Learning\n",
        "\n",
        "3. Q-Learning - https://towardsdatascience.com/practical-reinforcement-learning-02-getting-started-with-q-learning-582f63e4acd9\n",
        "\n",
        "4. Medium - https://medium.com/nerd-for-tech/reinforcement-learning-deep-q-learning-with-atari-games-63f5242440b1\n",
        "\n",
        "5. Q Learning - https://www.freecodecamp.org/news/an-introduction-to-q-learning-reinforcement-learning-14ac0b4493cc/#:~:text=Q%2DTable%20is%20just%20a,at%20each%20non%2Dedge%20tile.\n",
        "\n",
        "6. SARSA - https://www.geeksforgeeks.org/sarsa-reinforcement-learning/\n",
        "\n",
        "7. DQN Implementation - https://github.com/nicknochnack/KerasRL-OpenAI-Atari-SpaceInvadersv0/blob/main/Space%20Invaders%20Walkthrough.ipynb\n",
        "\n",
        "8. LinearAnnealedPolicy- https://poke-env.readthedocs.io/en/stable/rl_with_open_ai_gym_wrapper.html"
      ],
      "metadata": {
        "id": "RQjQaNjuHW3e"
      }
    },
    {
      "cell_type": "markdown",
      "source": [
        "16. Licensing\n",
        "\n",
        "MIT License\n",
        "\n",
        "Copyright (c) 2022 Poojitha Konduparti\n",
        "\n",
        "Permission is hereby granted, free of charge, to any person obtaining a copy\n",
        "of this software and associated documentation files (the \"Software\"), to deal\n",
        "in the Software without restriction, including without limitation the rights\n",
        "to use, copy, modify, merge, publish, distribute, sublicense, and/or sell\n",
        "copies of the Software, and to permit persons to whom the Software is\n",
        "furnished to do so, subject to the following conditions:\n",
        "\n",
        "The above copyright notice and this permission notice shall be included in all\n",
        "copies or substantial portions of the Software.\n",
        "\n",
        "THE SOFTWARE IS PROVIDED \"AS IS\", WITHOUT WARRANTY OF ANY KIND, EXPRESS OR\n",
        "IMPLIED, INCLUDING BUT NOT LIMITED TO THE WARRANTIES OF MERCHANTABILITY,\n",
        "FITNESS FOR A PARTICULAR PURPOSE AND NONINFRINGEMENT. IN NO EVENT SHALL THE\n",
        "AUTHORS OR COPYRIGHT HOLDERS BE LIABLE FOR ANY CLAIM, DAMAGES OR OTHER\n",
        "LIABILITY, WHETHER IN AN ACTION OF CONTRACT, TORT OR OTHERWISE, ARISING FROM,\n",
        "OUT OF OR IN CONNECTION WITH THE SOFTWARE OR THE USE OR OTHER DEALINGS IN THE\n",
        "SOFTWARE."
      ],
      "metadata": {
        "id": "MBJWZOkAVBli"
      }
    },
    {
      "cell_type": "code",
      "source": [],
      "metadata": {
        "id": "RZ7k9BfIVcJp"
      },
      "execution_count": null,
      "outputs": []
    }
  ]
}