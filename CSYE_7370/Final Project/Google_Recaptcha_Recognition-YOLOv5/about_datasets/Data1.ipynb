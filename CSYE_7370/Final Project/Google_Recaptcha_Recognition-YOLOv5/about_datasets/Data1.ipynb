{
 "cells": [
  {
   "cell_type": "code",
   "execution_count": 112,
   "id": "5535d785-eedf-4526-a19b-5b9f5fa7db38",
   "metadata": {},
   "outputs": [],
   "source": [
    "import os\n",
    "import warnings\n",
    "import numpy as np\n",
    "import pandas as pd\n",
    "import seaborn as sns\n",
    "import matplotlib.pyplot as plt\n",
    "import random\n",
    "\n",
    "warnings.filterwarnings('ignore')"
   ]
  },
  {
   "cell_type": "code",
   "execution_count": 113,
   "id": "305c922a-c180-4658-8520-67d8e27df433",
   "metadata": {},
   "outputs": [],
   "source": [
    "def getting_data() -> [dict, dict]:\n",
    "    def sort_dict(unsorted_dict: dict) -> dict:\n",
    "        return dict(sorted(unsorted_dict.items(), key=lambda item: item[1], reverse=True))\n",
    "\n",
    "    folders = ['images', 'labels']\n",
    "    pathes = [f'Google_Recaptcha_V2_Images_Dataset/{folder}/' for folder in folders]\n",
    "    images_data = {}\n",
    "    labels_data = {}\n",
    "    \n",
    "    for i, j, k in os.walk(pathes[0]):\n",
    "        if len(k) > 5:\n",
    "            images_data[k[0].split(' ')[0]] = len(k) \n",
    "  \n",
    "    for i, j, k in os.walk(pathes[1]):\n",
    "        if len(k) > 5:\n",
    "            labels_data[k[0].split(' ')[0]] = len(k) \n",
    "            \n",
    "    return sort_dict(images_data), sort_dict(labels_data)"
   ]
  },
  {
   "cell_type": "code",
   "execution_count": 10,
   "id": "bee3f8d7-9781-4f22-a86b-68fbe737146c",
   "metadata": {},
   "outputs": [],
   "source": [
    "def drowing_barplot(data: dict):\n",
    "    x_axis = list(data.keys())\n",
    "    y_axis = list(data.values())\n",
    "\n",
    "    if len(data) == LEN_IMAGE: \n",
    "        sns.barplot(y_axis, x_axis, saturation=1)\n",
    "    else:\n",
    "        sns.barplot(x_axis, y_axis, saturation=1)    "
   ]
  },
  {
   "cell_type": "code",
   "execution_count": 114,
   "id": "aaaf1c8c-bce0-4315-be9f-cb1d3296e184",
   "metadata": {},
   "outputs": [],
   "source": [
    "images_data, labels_data = getting_data()\n",
    "LEN_IMAGE = len(images_data)\n",
    "LEN_LABELS = len(labels_data)"
   ]
  },
  {
   "cell_type": "code",
   "execution_count": 28,
   "id": "4995cbf5-5788-4a68-a39c-3e2c1ac48bae",
   "metadata": {},
   "outputs": [
    {
     "data": {
      "text/plain": [
       "{'Stair': 211, 'Cross': 180, 'Chimney': 124}"
      ]
     },
     "execution_count": 28,
     "metadata": {},
     "output_type": "execute_result"
    }
   ],
   "source": [
    "images_data"
   ]
  },
  {
   "cell_type": "code",
   "execution_count": 13,
   "id": "4112fd4f-7a91-48e1-a6a9-c3d68499ace8",
   "metadata": {},
   "outputs": [
    {
     "data": {
      "text/plain": [
       "{'Stair': 211, 'Cross': 180, 'Chimney': 124}"
      ]
     },
     "execution_count": 13,
     "metadata": {},
     "output_type": "execute_result"
    }
   ],
   "source": [
    "labels_data"
   ]
  },
  {
   "cell_type": "code",
   "execution_count": 14,
   "id": "02966cff-c9cd-4279-8d9e-08647001fa3c",
   "metadata": {},
   "outputs": [
    {
     "data": {
      "image/png": "[encoded data removed]",
      "text/plain": [
       "<Figure size 432x288 with 1 Axes>"
      ]
     },
     "metadata": {
      "needs_background": "light"
     },
     "output_type": "display_data"
    }
   ],
   "source": [
    "drowing_barplot(images_data)"
   ]
  },
  {
   "cell_type": "code",
   "execution_count": 15,
   "id": "f80b0421-fc5f-4284-8e45-adaaeaf1b9ab",
   "metadata": {},
   "outputs": [
    {
     "data": {
      "image/png": "[encoded data removed]",
      "text/plain": [
       "<Figure size 432x288 with 1 Axes>"
      ]
     },
     "metadata": {
      "needs_background": "light"
     },
     "output_type": "display_data"
    }
   ],
   "source": [
    "drowing_barplot(labels_data)"
   ]
  },
  {
   "cell_type": "code",
   "execution_count": 115,
   "id": "0aa4ecba-cb0e-4ece-9e5a-1f64a793c37b",
   "metadata": {},
   "outputs": [],
   "source": [
    "folders = ['images', 'labels']\n",
    "images_path = []\n",
    "lable_path = []\n",
    "\n",
    "pathes = [f'Google_Recaptcha_V2_Images_Dataset/{folder}/' for folder in folders]\n",
    "    \n",
    "    \n",
    "for i, j, k in os.walk(pathes[0]):\n",
    "    if len(k) > 5:\n",
    "        for m in k:\n",
    "            n = i + \"/\"\n",
    "            images_path.append(os.path.join(n,m))\n",
    "# print(images_path)\n",
    "\n",
    "for i, j, k in os.walk(pathes[1]):\n",
    "    if len(k) > 5:\n",
    "        for m in k:\n",
    "            n = i + \"/\"\n",
    "            lable_path.append(os.path.join(n,m))\n",
    "# print(lable_path)"
   ]
  },
  {
   "cell_type": "code",
   "execution_count": 116,
   "id": "875b11e1-2bef-43d3-8071-18c7142ed150",
   "metadata": {},
   "outputs": [],
   "source": [
    "def data_split(full_list, ratio, shuffle=False):\n",
    "    n_total = len(full_list)\n",
    "    offset = int(n_total * ratio)\n",
    "    if n_total == 0 or offset < 1:\n",
    "        return [], full_list\n",
    "    if shuffle:\n",
    "        random.shuffle(full_list)\n",
    "    sublist_1 = full_list[:offset]\n",
    "    sublist_2 = full_list[offset:]\n",
    "    return sublist_1, sublist_2\n"
   ]
  },
  {
   "cell_type": "code",
   "execution_count": 121,
   "id": "b961c451-3c68-4d63-8750-53a0e9c871dd",
   "metadata": {},
   "outputs": [],
   "source": [
    "data = list(range(20))\n",
    "val_images, train_images = data_split(images_path, ratio=0.1, shuffle=True)\n",
    "# test_images, val_images = data_split(else_images, ratio=0.1, shuffle=True)"
   ]
  },
  {
   "cell_type": "code",
   "execution_count": 122,
   "id": "1aeb356f-0dda-4abd-a879-a9d08e7d99dc",
   "metadata": {},
   "outputs": [],
   "source": [
    "with open('train.txt','w') as q:\n",
    "    for i in train_images:\n",
    "        q.write(i)\n",
    "        q.write('\\n')"
   ]
  },
  {
   "cell_type": "code",
   "execution_count": 123,
   "id": "1669db1e-f0b9-4497-b72c-0355a6efad04",
   "metadata": {},
   "outputs": [],
   "source": [
    "with open('val.txt','w') as q:\n",
    "    for i in val_images:\n",
    "        q.write(i)\n",
    "        q.write('\\n')"
   ]
  },
  {
   "cell_type": "code",
   "execution_count": 120,
   "id": "21ffd296-0148-4d96-b194-b5a28b30b253",
   "metadata": {},
   "outputs": [],
   "source": [
    "# with open('test.txt','w') as q:\n",
    "#     for i in test_images:\n",
    "#         q.write(i)\n",
    "#         q.write('\\n')"
   ]
  },
  {
   "cell_type": "code",
   "execution_count": null,
   "id": "24917495-8a1d-4af1-a648-51959eeec900",
   "metadata": {},
   "outputs": [],
   "source": []
  }
 ],
 "metadata": {
  "kernelspec": {
   "display_name": "Python 3 (ipykernel)",
   "language": "python",
   "name": "python3"
  },
  "language_info": {
   "codemirror_mode": {
    "name": "ipython",
    "version": 3
   },
   "file_extension": ".py",
   "mimetype": "text/x-python",
   "name": "python",
   "nbconvert_exporter": "python",
   "pygments_lexer": "ipython3",
   "version": "3.9.7"
  }
 },
 "nbformat": 4,
 "nbformat_minor": 5
}
