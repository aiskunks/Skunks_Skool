{
 "cells": [
  {
   "cell_type": "code",
   "execution_count": 6,
   "id": "e721a4e5-548f-4a0e-aeea-d17012d5acbf",
   "metadata": {},
   "outputs": [],
   "source": [
    "import os\n",
    "path = 'C:/Users/Yiyun/Desktop/courses/CSYE7370/final/Recaptcha Dataset/Stairs/'\n",
    "files = os.listdir(path)\n",
    "for i, file in enumerate(files):\n",
    "    NewName = os.path.join(path, \"Stair\"+str(i)+\".jpg\")\n",
    "    OldName = os.path.join(path, file)\n",
    "    os.rename(OldName, NewName)"
   ]
  },
  {
   "cell_type": "code",
   "execution_count": 21,
   "id": "f58260a0-04ad-4c8c-b06a-41f6c8d079a2",
   "metadata": {
    "jupyter": {
     "source_hidden": true
    },
    "tags": []
   },
   "outputs": [],
   "source": [
    "\n",
    "import shutil\n",
    "path1 = 'C:/Users/Yiyun/Desktop/courses/CSYE7370/final/Google_Recaptcha_V2_Images_Dataset_Origin/labels/Bicycle/'\n",
    "path2 = 'C:/Users/Yiyun/Desktop/courses/CSYE7370/final/Google_Recaptcha_V2_Images_Dataset_Origin/images/'\n",
    "files1 = os.listdir(path1)\n",
    "for j, file1 in enumerate(files1):\n",
    "    ImgName = os.path.join(path2, 'Bicycle0/'+file1.split('.')[0]+'.png')\n",
    "    NewName = os.path.join(path2, 'Bicycle/'+file1.split('.')[0]+'.png')\n",
    "    shutil.copyfile(ImgName, NewName)"
   ]
  },
  {
   "cell_type": "code",
   "execution_count": 27,
   "id": "532548bb-44cc-4847-9fcc-43fc11775847",
   "metadata": {},
   "outputs": [],
   "source": [
    "import shutil\n",
    "path1 = 'C:/Users/Yiyun/Desktop/courses/CSYE7370/final/Google_Recaptcha_V2_Images_Dataset_Origin/labels/Bus/'\n",
    "path2 = 'C:/Users/Yiyun/Desktop/courses/CSYE7370/final/Google_Recaptcha_V2_Images_Dataset_Origin/images/'\n",
    "files1 = os.listdir(path1)\n",
    "for j, file1 in enumerate(files1):\n",
    "    ImgName = os.path.join(path2, 'Bus0/'+file1.split('.')[0]+'.png')\n",
    "    NewName = os.path.join(path2, 'Bus/'+file1.split('.')[0]+'.png')\n",
    "    shutil.copyfile(ImgName, NewName)"
   ]
  },
  {
   "cell_type": "code",
   "execution_count": 25,
   "id": "0bb3268b-fcc1-4b82-a732-da1a03a5fbbd",
   "metadata": {},
   "outputs": [],
   "source": [
    "path = r'C:\\Users\\Yiyun\\Desktop\\courses\\CSYE7370\\final\\Google_Recaptcha_V2_Images_Dataset_Origin\\labels\\Bicycle0'  # txt文件存放路径\n",
    "sv_path = r'C:\\Users\\Yiyun\\Desktop\\courses\\CSYE7370\\final\\Google_Recaptcha_V2_Images_Dataset_Origin\\labels\\Bicycle'  # 修改后的txt文件存放路径\n",
    "files = os.listdir(path)\n",
    "for txtFile in files:\n",
    "    txt_ab_route=path+\"\\\\\" + txtFile\n",
    "    write_ab_route=sv_path+\"\\\\\" + txtFile\n",
    "    # print(write_ab_route)\n",
    "    with open(txt_ab_route,'r') as txt:  #'r+'表示对文件是进行\"读取和写入的模式\"\n",
    "        lines = txt.readlines()\n",
    "        for line in lines:\n",
    "            old_str = line.rstrip('\\n')\n",
    "            new_str='0'+old_str[1:-1]\n",
    "            f = open(write_ab_route,\"a\")   #a表示没有该文件就新建\n",
    "            f.write(new_str+'\\n')\t\t#写入文件\n",
    "        txt.close()\n",
    "    f.close()\t\n"
   ]
  },
  {
   "cell_type": "code",
   "execution_count": 26,
   "id": "3c61380e-9ced-4e9e-b8bb-f722a9adedb7",
   "metadata": {},
   "outputs": [],
   "source": [
    "path = r'C:\\Users\\Yiyun\\Desktop\\courses\\CSYE7370\\final\\Google_Recaptcha_V2_Images_Dataset_Origin\\labels\\Bus0'  # txt文件存放路径\n",
    "sv_path = r'C:\\Users\\Yiyun\\Desktop\\courses\\CSYE7370\\final\\Google_Recaptcha_V2_Images_Dataset_Origin\\labels\\Bus'  # 修改后的txt文件存放路径\n",
    "files = os.listdir(path)\n",
    "for txtFile in files:\n",
    "    txt_ab_route=path+\"\\\\\" + txtFile\n",
    "    write_ab_route=sv_path+\"\\\\\" + txtFile\n",
    "    # print(write_ab_route)\n",
    "    with open(txt_ab_route,'r') as txt:  #'r+'表示对文件是进行\"读取和写入的模式\"\n",
    "        lines = txt.readlines()\n",
    "        for line in lines:\n",
    "            old_str = line.rstrip('\\n')\n",
    "            new_str='2'+old_str[1:-1]\n",
    "            f = open(write_ab_route,\"a\")   #a表示没有该文件就新建\n",
    "            f.write(new_str+'\\n')\t\t#写入文件\n",
    "        txt.close()\n",
    "    f.close()\t"
   ]
  },
  {
   "cell_type": "code",
   "execution_count": 29,
   "id": "12333d0e-54a6-4774-b690-61357d7e8c86",
   "metadata": {},
   "outputs": [],
   "source": [
    "bus_path='C:/Users/Yiyun/Desktop/courses/CSYE7370/final/Google_Recaptcha_V2_Images_Dataset_Origin/images/Bus/'\n",
    "bicycle_path='C:/Users/Yiyun/Desktop/courses/CSYE7370/final/Google_Recaptcha_V2_Images_Dataset_Origin/images/Bicycle/'\n",
    "chimney_path='C:/Users/Yiyun/Desktop/courses/CSYE7370/final/Google_Recaptcha_V2_Images_Dataset_Origin/images/Chimney/'"
   ]
  },
  {
   "cell_type": "code",
   "execution_count": 30,
   "id": "a4ed4fab-f443-4749-9962-d0092b615b51",
   "metadata": {},
   "outputs": [],
   "source": [
    "bus_img = os.listdir(bus_path)\n",
    "bicycle_img = os.listdir(bicycle_path)\n",
    "chimney_img = os.listdir(chimney_path)"
   ]
  },
  {
   "cell_type": "code",
   "execution_count": 31,
   "id": "87808cf1-fcdf-448b-9c91-fd8690ace6c2",
   "metadata": {},
   "outputs": [],
   "source": [
    "bus_name = []\n",
    "bicycle_name = []\n",
    "chimney_name = []"
   ]
  },
  {
   "cell_type": "code",
   "execution_count": 32,
   "id": "8b86a0c1-e79b-4f12-8c8f-5ecb46031c24",
   "metadata": {},
   "outputs": [],
   "source": [
    "for i, file in enumerate(bus_img):\n",
    "    bus_name.append(file)"
   ]
  },
  {
   "cell_type": "code",
   "execution_count": 34,
   "id": "ae96fb79-2707-4a0e-a862-55ed3f1664b9",
   "metadata": {},
   "outputs": [],
   "source": [
    "for i, file in enumerate(bicycle_img):\n",
    "    bicycle_name.append(file)"
   ]
  },
  {
   "cell_type": "code",
   "execution_count": 35,
   "id": "4bf73efa-6027-4970-8d60-ed3107c78b71",
   "metadata": {},
   "outputs": [],
   "source": [
    "for i, file in enumerate(chimney_img):\n",
    "    chimney_name.append(file)"
   ]
  },
  {
   "cell_type": "code",
   "execution_count": 36,
   "id": "ead0c9a8-541f-43ce-b421-3a52b007fc95",
   "metadata": {},
   "outputs": [],
   "source": [
    "def data_split(full_list, ratio, shuffle=False):\n",
    "    n_total = len(full_list)\n",
    "    offset = int(n_total * ratio)\n",
    "    if n_total == 0 or offset < 1:\n",
    "        return [], full_list\n",
    "    if shuffle:\n",
    "        random.shuffle(full_list)\n",
    "    sublist_1 = full_list[:offset]\n",
    "    sublist_2 = full_list[offset:]\n",
    "    return sublist_1, sublist_2"
   ]
  },
  {
   "cell_type": "code",
   "execution_count": 39,
   "id": "57a83a6e-84c7-4dab-9f58-60a73a946454",
   "metadata": {},
   "outputs": [],
   "source": [
    "data = list(range(20))\n",
    "import random"
   ]
  },
  {
   "cell_type": "code",
   "execution_count": 40,
   "id": "91b4315c-59eb-4d34-9b78-5e56b027646a",
   "metadata": {},
   "outputs": [],
   "source": [
    "val_bus, train_bus = data_split(bus_name, ratio=0.25, shuffle=True)"
   ]
  },
  {
   "cell_type": "code",
   "execution_count": 41,
   "id": "63e21214-30a1-4608-92f2-e7b436d0fcdd",
   "metadata": {},
   "outputs": [],
   "source": [
    "val_bicycle, train_bicycle = data_split(bicycle_name, ratio=0.25, shuffle=True)"
   ]
  },
  {
   "cell_type": "code",
   "execution_count": 42,
   "id": "dd6f828c-2971-4848-b3af-ba9412eef78f",
   "metadata": {},
   "outputs": [],
   "source": [
    "val_chimney, train_chimney = data_split(chimney_name, ratio=0.25, shuffle=True)"
   ]
  },
  {
   "cell_type": "code",
   "execution_count": 50,
   "id": "301edcaa-12f4-4054-9f78-c7719704b6bf",
   "metadata": {},
   "outputs": [],
   "source": [
    "path_origin = 'C:/Users/Yiyun/Desktop/courses/CSYE7370/final/Google_Recaptcha_V2_Images_Dataset_Origin/'\n",
    "path_new = 'C:/Users/Yiyun/Desktop/courses/CSYE7370/final/trydata/'\n",
    "for file in train_bus:\n",
    "    ImgName = os.path.join(path_origin, 'images/Bus/'+file)\n",
    "    NewName = os.path.join(path_new, 'images/train/'+file)\n",
    "    shutil.copyfile(ImgName, NewName)"
   ]
  },
  {
   "cell_type": "code",
   "execution_count": 51,
   "id": "e8f8027b-60e0-44fe-8731-0678b5f99c3a",
   "metadata": {},
   "outputs": [],
   "source": [
    "for file in train_bicycle:\n",
    "    ImgName = os.path.join(path_origin, 'images/Bicycle/'+file)\n",
    "    NewName = os.path.join(path_new, 'images/train/'+file)\n",
    "    shutil.copyfile(ImgName, NewName)"
   ]
  },
  {
   "cell_type": "code",
   "execution_count": 52,
   "id": "29652c0a-db09-4e83-8f7c-cec14d407963",
   "metadata": {},
   "outputs": [],
   "source": [
    "for file in train_chimney:\n",
    "    ImgName = os.path.join(path_origin, 'images/Chimney/'+file)\n",
    "    NewName = os.path.join(path_new, 'images/train/'+file)\n",
    "    shutil.copyfile(ImgName, NewName)"
   ]
  },
  {
   "cell_type": "code",
   "execution_count": 53,
   "id": "c2af8fc6-680f-4148-bc5d-019812ceed9b",
   "metadata": {},
   "outputs": [],
   "source": [
    "for file in val_bus:\n",
    "    ImgName = os.path.join(path_origin, 'images/Bus/'+file)\n",
    "    NewName = os.path.join(path_new, 'images/val/'+file)\n",
    "    shutil.copyfile(ImgName, NewName)"
   ]
  },
  {
   "cell_type": "code",
   "execution_count": 54,
   "id": "65b25617-8d28-4604-ba12-ee7733496061",
   "metadata": {},
   "outputs": [],
   "source": [
    "for file in val_bicycle:\n",
    "    ImgName = os.path.join(path_origin, 'images/Bicycle/'+file)\n",
    "    NewName = os.path.join(path_new, 'images/val/'+file)\n",
    "    shutil.copyfile(ImgName, NewName)"
   ]
  },
  {
   "cell_type": "code",
   "execution_count": 55,
   "id": "7e158874-6378-4538-91f7-298dbe7a5095",
   "metadata": {},
   "outputs": [],
   "source": [
    "for file in val_chimney:\n",
    "    ImgName = os.path.join(path_origin, 'images/Chimney/'+file)\n",
    "    NewName = os.path.join(path_new, 'images/val/'+file)\n",
    "    shutil.copyfile(ImgName, NewName)"
   ]
  },
  {
   "cell_type": "code",
   "execution_count": 56,
   "id": "02674c02-84e7-4634-9fcc-8256d2d4c854",
   "metadata": {},
   "outputs": [],
   "source": [
    "for file in train_bus:\n",
    "    ImgName = os.path.join(path_origin, 'labels/Bus/'+file.split('.')[0]+'.txt')\n",
    "    NewName = os.path.join(path_new, 'labels/train/'+file.split('.')[0]+'.txt')\n",
    "    shutil.copyfile(ImgName, NewName)"
   ]
  },
  {
   "cell_type": "code",
   "execution_count": 57,
   "id": "3ee97602-46a4-4db0-b995-76bbf5093f93",
   "metadata": {},
   "outputs": [],
   "source": [
    "for file in train_bicycle:\n",
    "    ImgName = os.path.join(path_origin, 'labels/Bicycle/'+file.split('.')[0]+'.txt')\n",
    "    NewName = os.path.join(path_new, 'labels/train/'+file.split('.')[0]+'.txt')\n",
    "    shutil.copyfile(ImgName, NewName)"
   ]
  },
  {
   "cell_type": "code",
   "execution_count": 58,
   "id": "02e77d1b-0250-4576-b9ac-78e3272ebedf",
   "metadata": {},
   "outputs": [],
   "source": [
    "for file in train_chimney:\n",
    "    ImgName = os.path.join(path_origin, 'labels/Chimney/'+file.split('.')[0]+'.txt')\n",
    "    NewName = os.path.join(path_new, 'labels/train/'+file.split('.')[0]+'.txt')\n",
    "    shutil.copyfile(ImgName, NewName)"
   ]
  },
  {
   "cell_type": "code",
   "execution_count": 59,
   "id": "d945d077-bf6b-47b0-85cc-719b2a16d801",
   "metadata": {},
   "outputs": [],
   "source": [
    "for file in val_bus:\n",
    "    ImgName = os.path.join(path_origin, 'labels/Bus/'+file.split('.')[0]+'.txt')\n",
    "    NewName = os.path.join(path_new, 'labels/val/'+file.split('.')[0]+'.txt')\n",
    "    shutil.copyfile(ImgName, NewName)"
   ]
  },
  {
   "cell_type": "code",
   "execution_count": 60,
   "id": "a36bfd7c-30a7-47a2-8ef3-06018f33b8df",
   "metadata": {},
   "outputs": [],
   "source": [
    "for file in val_bicycle:\n",
    "    ImgName = os.path.join(path_origin, 'labels/Bicycle/'+file.split('.')[0]+'.txt')\n",
    "    NewName = os.path.join(path_new, 'labels/val/'+file.split('.')[0]+'.txt')\n",
    "    shutil.copyfile(ImgName, NewName)"
   ]
  },
  {
   "cell_type": "code",
   "execution_count": 61,
   "id": "84c99629-32f0-4295-9ee9-2cca15eace69",
   "metadata": {},
   "outputs": [],
   "source": [
    "for file in val_chimney:\n",
    "    ImgName = os.path.join(path_origin, 'labels/Chimney/'+file.split('.')[0]+'.txt')\n",
    "    NewName = os.path.join(path_new, 'labels/val/'+file.split('.')[0]+'.txt')\n",
    "    shutil.copyfile(ImgName, NewName)"
   ]
  },
  {
   "cell_type": "code",
   "execution_count": null,
   "id": "921d167d-881e-4c75-8e18-39ab2edc0d50",
   "metadata": {},
   "outputs": [],
   "source": []
  }
 ],
 "metadata": {
  "kernelspec": {
   "display_name": "Python 3 (ipykernel)",
   "language": "python",
   "name": "python3"
  },
  "language_info": {
   "codemirror_mode": {
    "name": "ipython",
    "version": 3
   },
   "file_extension": ".py",
   "mimetype": "text/x-python",
   "name": "python",
   "nbconvert_exporter": "python",
   "pygments_lexer": "ipython3",
   "version": "3.9.7"
  }
 },
 "nbformat": 4,
 "nbformat_minor": 5
}
