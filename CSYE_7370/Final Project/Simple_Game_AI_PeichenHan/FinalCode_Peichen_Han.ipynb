{
 "cells": [
  {
   "cell_type": "code",
   "execution_count": 8,
   "id": "367e876d",
   "metadata": {},
   "outputs": [],
   "source": [
    "import gym \n",
    "import random"
   ]
  },
  {
   "cell_type": "code",
   "execution_count": 9,
   "id": "9df4e4d5",
   "metadata": {},
   "outputs": [],
   "source": [
    "env = gym.make('SpaceInvaders-v4')\n",
    "height, width, channels = env.observation_space.shape\n",
    "actions = env.action_space.n"
   ]
  },
  {
   "cell_type": "code",
   "execution_count": 10,
   "id": "71d4d045",
   "metadata": {},
   "outputs": [
    {
     "data": {
      "text/plain": [
       "['NOOP', 'FIRE', 'RIGHT', 'LEFT', 'RIGHTFIRE', 'LEFTFIRE']"
      ]
     },
     "execution_count": 10,
     "metadata": {},
     "output_type": "execute_result"
    }
   ],
   "source": [
    "env.get_action_meanings()"
   ]
  },
  {
   "cell_type": "code",
   "execution_count": 49,
   "id": "309830af",
   "metadata": {},
   "outputs": [
    {
     "data": {
      "text/plain": [
       "210"
      ]
     },
     "execution_count": 49,
     "metadata": {},
     "output_type": "execute_result"
    }
   ],
   "source": [
    "height"
   ]
  },
  {
   "cell_type": "code",
   "execution_count": 50,
   "id": "ea379eea",
   "metadata": {},
   "outputs": [
    {
     "data": {
      "text/plain": [
       "160"
      ]
     },
     "execution_count": 50,
     "metadata": {},
     "output_type": "execute_result"
    }
   ],
   "source": [
    "width"
   ]
  },
  {
   "cell_type": "code",
   "execution_count": 51,
   "id": "9ee13a65",
   "metadata": {},
   "outputs": [
    {
     "data": {
      "text/plain": [
       "3"
      ]
     },
     "execution_count": 51,
     "metadata": {},
     "output_type": "execute_result"
    }
   ],
   "source": [
    "channels"
   ]
  },
  {
   "cell_type": "code",
   "execution_count": 36,
   "id": "98fb648d",
   "metadata": {},
   "outputs": [],
   "source": [
    "import numpy as np\n",
    "from tensorflow.keras.models import Sequential\n",
    "from tensorflow.keras.layers import Dense, Flatten, Convolution2D\n",
    "from tensorflow.keras.optimizers import Adam"
   ]
  },
  {
   "cell_type": "code",
   "execution_count": 37,
   "id": "39fd45ae",
   "metadata": {},
   "outputs": [],
   "source": [
    "def build_model(height, width, channels, actions):\n",
    "    model = Sequential()\n",
    "    model.add(Convolution2D(32, (8,8), strides=(4,4), activation='relu', \n",
    "                            input_shape=(3,height, width, channels)))\n",
    "    model.add(Convolution2D(64, (4,4), strides=(2,2), activation='relu'))\n",
    "    model.add(Convolution2D(64, (3,3),  activation='relu'))\n",
    "    model.add(Flatten())\n",
    "    model.add(Dense(512, activation='relu'))\n",
    "    model.add(Dense(actions, activation='linear'))\n",
    "    return model"
   ]
  },
  {
   "cell_type": "code",
   "execution_count": 38,
   "id": "9e4208ca",
   "metadata": {},
   "outputs": [],
   "source": [
    "model = build_model(height, width, channels, actions)"
   ]
  },
  {
   "cell_type": "code",
   "execution_count": 39,
   "id": "5d206351",
   "metadata": {},
   "outputs": [
    {
     "name": "stdout",
     "output_type": "stream",
     "text": [
      "Model: \"sequential_2\"\n",
      "_________________________________________________________________\n",
      "Layer (type)                 Output Shape              Param #   \n",
      "=================================================================\n",
      "conv2d_6 (Conv2D)            (None, 3, 51, 39, 32)     6176      \n",
      "_________________________________________________________________\n",
      "conv2d_7 (Conv2D)            (None, 3, 24, 18, 64)     32832     \n",
      "_________________________________________________________________\n",
      "conv2d_8 (Conv2D)            (None, 3, 22, 16, 64)     36928     \n",
      "_________________________________________________________________\n",
      "flatten_2 (Flatten)          (None, 67584)             0         \n",
      "_________________________________________________________________\n",
      "dense_9 (Dense)              (None, 512)               34603520  \n",
      "_________________________________________________________________\n",
      "dense_10 (Dense)             (None, 6)                 3078      \n",
      "=================================================================\n",
      "Total params: 34,682,534\n",
      "Trainable params: 34,682,534\n",
      "Non-trainable params: 0\n",
      "_________________________________________________________________\n"
     ]
    }
   ],
   "source": [
    "model.summary()"
   ]
  },
  {
   "cell_type": "code",
   "execution_count": 40,
   "id": "da58150e",
   "metadata": {},
   "outputs": [],
   "source": [
    "from rl.agents import DQNAgent, SARSAAgent\n",
    "from rl.memory import SequentialMemory\n",
    "from rl.policy import LinearAnnealedPolicy, EpsGreedyQPolicy, BoltzmannQPolicy"
   ]
  },
  {
   "cell_type": "code",
   "execution_count": 42,
   "id": "0f66d5f1",
   "metadata": {},
   "outputs": [],
   "source": [
    "total_episodes = 10000\n",
    "total_test_episodes = 10\n",
    "max_steps = 10000\n",
    "learning_rate = 0.01\n",
    "Gamma = 0.99\n",
    "epsilon = 1.0\n",
    "min_epsilon = 0.1"
   ]
  },
  {
   "cell_type": "code",
   "execution_count": 43,
   "id": "b26aad0e",
   "metadata": {},
   "outputs": [],
   "source": [
    "def build_agent(model, actions):\n",
    "    policy = LinearAnnealedPolicy(EpsGreedyQPolicy(), attr='eps', value_max=epsilon, value_min=min_epsilon, value_test=.2, nb_steps=max_steps)\n",
    "    memory = SequentialMemory(limit=1000, window_length=3)\n",
    "    dqn = DQNAgent(model=model, memory=memory, policy=policy,\n",
    "                  enable_dueling_network=True, dueling_type='avg', \n",
    "                   nb_actions=actions, nb_steps_warmup=2000,\n",
    "                   gamma=Gamma\n",
    "                  )\n",
    "    return dqn\n",
    "dqn = build_agent(model, actions)\n",
    "dqn.compile(Adam(lr=learning_rate))"
   ]
  },
  {
   "cell_type": "code",
   "execution_count": 22,
   "id": "faaeabe7",
   "metadata": {},
   "outputs": [],
   "source": [
    "del model"
   ]
  },
  {
   "cell_type": "code",
   "execution_count": 44,
   "id": "7e9b9c01",
   "metadata": {},
   "outputs": [],
   "source": [
    "dqn = build_agent(model, actions)\n",
    "dqn.compile(Adam(lr=learning_rate))"
   ]
  },
  {
   "cell_type": "code",
   "execution_count": 45,
   "id": "39977544",
   "metadata": {
    "scrolled": true
   },
   "outputs": [
    {
     "name": "stdout",
     "output_type": "stream",
     "text": [
      "Training for 10000 steps ...\n",
      "  788/10000: episode: 1, duration: 18.955s, episode steps: 788, steps per second:  42, episode reward: 150.000, mean reward:  0.190 [ 0.000, 30.000], mean action: 2.569 [0.000, 5.000],  loss: --, mean_q: --, mean_eps: --\n",
      " 1213/10000: episode: 2, duration: 10.271s, episode steps: 425, steps per second:  41, episode reward: 75.000, mean reward:  0.176 [ 0.000, 25.000], mean action: 2.515 [0.000, 5.000],  loss: --, mean_q: --, mean_eps: --\n",
      " 1629/10000: episode: 3, duration: 10.014s, episode steps: 416, steps per second:  42, episode reward: 75.000, mean reward:  0.180 [ 0.000, 25.000], mean action: 2.548 [0.000, 5.000],  loss: --, mean_q: --, mean_eps: --\n",
      " 2269/10000: episode: 4, duration: 192.290s, episode steps: 640, steps per second:   3, episode reward: 120.000, mean reward:  0.188 [ 0.000, 30.000], mean action: 2.561 [0.000, 5.000],  loss: 4354527.451991, mean_q: 231.011517, mean_eps: 0.807895\n",
      " 2953/10000: episode: 5, duration: 474.437s, episode steps: 684, steps per second:   1, episode reward: 150.000, mean reward:  0.219 [ 0.000, 30.000], mean action: 2.456 [0.000, 5.000],  loss: 0.774751, mean_q: 3.745757, mean_eps: 0.765055\n",
      " 3475/10000: episode: 6, duration: 370.078s, episode steps: 522, steps per second:   1, episode reward: 20.000, mean reward:  0.038 [ 0.000, 10.000], mean action: 2.456 [0.000, 5.000],  loss: 0.493940, mean_q: 3.511363, mean_eps: 0.710785\n",
      " 4126/10000: episode: 7, duration: 460.409s, episode steps: 651, steps per second:   1, episode reward: 105.000, mean reward:  0.161 [ 0.000, 30.000], mean action: 2.555 [0.000, 5.000],  loss: 0.538187, mean_q: 3.146394, mean_eps: 0.658000\n",
      " 4746/10000: episode: 8, duration: 435.163s, episode steps: 620, steps per second:   1, episode reward: 140.000, mean reward:  0.226 [ 0.000, 30.000], mean action: 2.698 [0.000, 5.000],  loss: 0.767614, mean_q: 3.742081, mean_eps: 0.600805\n",
      " 5303/10000: episode: 9, duration: 391.218s, episode steps: 557, steps per second:   1, episode reward: 95.000, mean reward:  0.171 [ 0.000, 30.000], mean action: 2.722 [0.000, 5.000],  loss: 0.833542, mean_q: 3.613848, mean_eps: 0.547840\n",
      " 5712/10000: episode: 10, duration: 287.297s, episode steps: 409, steps per second:   1, episode reward: 50.000, mean reward:  0.122 [ 0.000, 30.000], mean action: 2.570 [0.000, 5.000],  loss: 0.564560, mean_q: 2.903433, mean_eps: 0.504370\n",
      " 6432/10000: episode: 11, duration: 479.463s, episode steps: 720, steps per second:   2, episode reward: 125.000, mean reward:  0.174 [ 0.000, 30.000], mean action: 2.486 [0.000, 5.000],  loss: 0.624024, mean_q: 2.121923, mean_eps: 0.453565\n",
      " 6935/10000: episode: 12, duration: 326.112s, episode steps: 503, steps per second:   2, episode reward: 80.000, mean reward:  0.159 [ 0.000, 25.000], mean action: 2.755 [0.000, 5.000],  loss: 0.516271, mean_q: 2.483215, mean_eps: 0.398530\n",
      " 7605/10000: episode: 13, duration: 436.228s, episode steps: 670, steps per second:   2, episode reward: 185.000, mean reward:  0.276 [ 0.000, 25.000], mean action: 2.855 [0.000, 5.000],  loss: 0.595650, mean_q: 2.911844, mean_eps: 0.345745\n",
      " 8565/10000: episode: 14, duration: 633.367s, episode steps: 960, steps per second:   2, episode reward: 220.000, mean reward:  0.229 [ 0.000, 30.000], mean action: 2.822 [0.000, 5.000],  loss: 1.032366, mean_q: 3.460886, mean_eps: 0.272395\n",
      " 9277/10000: episode: 15, duration: 474.503s, episode steps: 712, steps per second:   2, episode reward: 180.000, mean reward:  0.253 [ 0.000, 30.000], mean action: 2.570 [0.000, 5.000],  loss: 2.192391, mean_q: 3.666786, mean_eps: 0.197155\n",
      "done, took 5495.946 seconds\n"
     ]
    },
    {
     "data": {
      "text/plain": [
       "<tensorflow.python.keras.callbacks.History at 0x18a24c78bc8>"
      ]
     },
     "execution_count": 45,
     "metadata": {},
     "output_type": "execute_result"
    }
   ],
   "source": [
    "dqn.fit(env, nb_steps=total_episodes, visualize=False, verbose=2)"
   ]
  },
  {
   "cell_type": "code",
   "execution_count": 47,
   "id": "ebae0344",
   "metadata": {},
   "outputs": [
    {
     "name": "stdout",
     "output_type": "stream",
     "text": [
      "Testing for 10 episodes ...\n",
      "Episode 1: reward: 420.000, steps: 1075\n",
      "Episode 2: reward: 105.000, steps: 661\n",
      "Episode 3: reward: 155.000, steps: 698\n",
      "Episode 4: reward: 300.000, steps: 1381\n",
      "Episode 5: reward: 120.000, steps: 670\n",
      "Episode 6: reward: 185.000, steps: 702\n",
      "Episode 7: reward: 120.000, steps: 656\n",
      "Episode 8: reward: 145.000, steps: 936\n",
      "Episode 9: reward: 435.000, steps: 889\n",
      "Episode 10: reward: 185.000, steps: 916\n",
      "217.0\n"
     ]
    }
   ],
   "source": [
    "scores = dqn.test(env, nb_episodes=total_test_episodes, visualize=True)\n",
    "print(np.mean(scores.history['episode_reward']))"
   ]
  },
  {
   "cell_type": "code",
   "execution_count": 48,
   "id": "c55c502c",
   "metadata": {},
   "outputs": [],
   "source": [
    "dqn.save_weights('Save/10000/dqn.h5f')"
   ]
  },
  {
   "cell_type": "code",
   "execution_count": null,
   "id": "bb93a710",
   "metadata": {},
   "outputs": [],
   "source": [
    "episodes = 5\n",
    "for episode in range(1, episodes+1):\n",
    "    state = env.reset()\n",
    "    done = False\n",
    "    score = 0 \n",
    "    \n",
    "    while not done:\n",
    "        env.render()\n",
    "        action = random.choice([0,1,2,3,4,5])\n",
    "        n_state, reward, done, info = env.step(action)\n",
    "        score+=reward\n",
    "    print('Episode:{} Score:{}'.format(episode, score))\n",
    "env.close()"
   ]
  },
  {
   "cell_type": "code",
   "execution_count": null,
   "id": "2fe82889",
   "metadata": {},
   "outputs": [],
   "source": [
    "dqn.load_weights('Save/10000/dqn.h5f')"
   ]
  },
  {
   "cell_type": "markdown",
   "id": "835d568c",
   "metadata": {},
   "source": [
    "Copyright <2022> Peichen Han\n",
    "\n",
    "Permission is hereby granted, free of charge, to any person obtaining a copy of this software and associated documentation files (the \"Software\"), to deal in the Software without restriction, including without limitation the rights to use, copy, modify, merge, publish, distribute, sublicense, and/or sell copies of the Software, and to permit persons to whom the Software is furnished to do so, subject to the following conditions:\n",
    "\n",
    "The above copyright notice and this permission notice shall be included in all copies or substantial portions of the Software.\n",
    "\n",
    "THE SOFTWARE IS PROVIDED \"AS IS\", WITHOUT WARRANTY OF ANY KIND, EXPRESS OR IMPLIED, INCLUDING BUT NOT LIMITED TO THE WARRANTIES OF MERCHANTABILITY, FITNESS FOR A PARTICULAR PURPOSE AND NONINFRINGEMENT. IN NO EVENT SHALL THE AUTHORS OR COPYRIGHT HOLDERS BE LIABLE FOR ANY CLAIM, DAMAGES OR OTHER LIABILITY, WHETHER IN AN ACTION OF CONTRACT, TORT OR OTHERWISE, ARISING FROM, OUT OF OR IN CONNECTION WITH THE SOFTWARE OR THE USE OR OTHER DEALINGS IN THE SOFTWARE."
   ]
  }
 ],
 "metadata": {
  "kernelspec": {
   "display_name": "ff",
   "language": "python",
   "name": "ff"
  },
  "language_info": {
   "codemirror_mode": {
    "name": "ipython",
    "version": 3
   },
   "file_extension": ".py",
   "mimetype": "text/x-python",
   "name": "python",
   "nbconvert_exporter": "python",
   "pygments_lexer": "ipython3",
   "version": "3.7.15"
  }
 },
 "nbformat": 4,
 "nbformat_minor": 5
}
