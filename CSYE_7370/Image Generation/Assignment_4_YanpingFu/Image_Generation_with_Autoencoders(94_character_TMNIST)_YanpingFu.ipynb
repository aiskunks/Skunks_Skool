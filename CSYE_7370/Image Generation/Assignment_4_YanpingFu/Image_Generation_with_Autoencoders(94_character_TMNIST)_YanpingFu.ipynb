{
  "nbformat": 4,
  "nbformat_minor": 0,
  "metadata": {
    "colab": {
      "provenance": [],
      "machine_shape": "hm"
    },
    "kernelspec": {
      "name": "python3",
      "display_name": "Python 3"
    },
    "language_info": {
      "name": "python"
    },
    "accelerator": "GPU",
    "gpuClass": "premium"
  },
  "cells": [
    {
      "cell_type": "markdown",
      "source": [
        "## **Image Generation with Autoencoders**\n",
        "\n",
        "#### **What is Autoencoder**\n",
        "An autoencoder is a type of artificial neural network used to learn efficient codings of unlabeled data (unsupervised learning). The encoding is validated and refined by attempting to regenerate the input from the encoding. The autoencoder learns a representation (encoding) for a set of data, typically for dimensionality reduction, by training the network to ignore insignificant data (“noise”).[1]<br/>\n",
        "<img src=\"https://upload.wikimedia.org/wikipedia/commons/2/28/Autoencoder_structure.png\"><br/>\n",
        "A typical autoencoder consist of three parts, an encoder, a latent space representation, and a decoder. The input image is first projected into the latent space by encoding layers of the network resulting in a latent space in a lower dimension than the original image. This latent space is then used by the decoding layers of the network to reconstruct the original image. <br/><br/>\n",
        "Here we using 94_character_TMNIST dataset to make experiment with autoencoder and find how tunning latent space and network architecture to gives the best trade-off between compression and quality.\n",
        "#### **Import libraries and data preparation**"
      ],
      "metadata": {
        "id": "F9IWyLpTbvyg"
      }
    },
    {
      "cell_type": "code",
      "execution_count": null,
      "metadata": {
        "id": "1IXFLeb2Rnw5"
      },
      "outputs": [],
      "source": [
        "import pandas as pd\n",
        "import numpy as np\n",
        "from sklearn.model_selection import train_test_split\n",
        "from tensorflow.keras.models import Sequential, Model\n",
        "from tensorflow.keras.layers import *\n",
        "from tensorflow.keras.optimizers import *\n",
        "from tensorflow.keras.initializers import *\n",
        "from tensorflow.keras.callbacks import EarlyStopping\n",
        "import matplotlib.pyplot as plt\n",
        "from sklearn.preprocessing import OneHotEncoder\n",
        "from sklearn.utils import shuffle\n",
        "from tensorflow.keras.applications import VGG16\n",
        "from tensorflow.keras.utils import to_categorical\n",
        "from tensorflow.keras.preprocessing.image import ImageDataGenerator,load_img, img_to_array\n",
        "import warnings\n",
        "warnings.filterwarnings(\"ignore\")"
      ]
    },
    {
      "cell_type": "code",
      "source": [
        "df=pd.read_csv('94_character_TMNIST.csv')\n",
        "df.head()"
      ],
      "metadata": {
        "colab": {
          "base_uri": "https://localhost:8080/",
          "height": 233
        },
        "id": "unw2AF58Sy-k",
        "outputId": "5683c9aa-6ecc-4835-fc91-c427ab44d622"
      },
      "execution_count": null,
      "outputs": [
        {
          "output_type": "execute_result",
          "data": {
            "text/plain": [
              "                  names labels    1    2    3    4    5    6    7    8  ...  \\\n",
              "0         Salsa-Regular      6  0.0  0.0  0.0  0.0  0.0  0.0  0.0  0.0  ...   \n",
              "1  MouseMemoirs-Regular      D  0.0  0.0  0.0  0.0  0.0  0.0  0.0  0.0  ...   \n",
              "2     Creepster-Regular      f  0.0  0.0  0.0  0.0  0.0  0.0  0.0  0.0  ...   \n",
              "3     SeoulNamsan-Light      /  0.0  0.0  0.0  0.0  0.0  0.0  0.0  0.0  ...   \n",
              "4  HachiMaruPop-Regular      F  0.0  0.0  0.0  0.0  0.0  0.0  0.0  0.0  ...   \n",
              "\n",
              "   775  776  777  778  779  780  781  782  783  784  \n",
              "0  0.0  0.0  0.0  0.0  0.0  0.0  0.0  0.0  0.0  0.0  \n",
              "1  0.0  0.0  0.0  0.0  0.0  0.0  0.0  0.0  0.0  0.0  \n",
              "2  0.0  0.0  0.0  0.0  0.0  0.0  0.0  0.0  0.0  0.0  \n",
              "3  0.0  0.0  0.0  0.0  0.0  0.0  0.0  0.0  0.0  0.0  \n",
              "4  0.0  0.0  0.0  0.0  0.0  0.0  0.0  0.0  0.0  0.0  \n",
              "\n",
              "[5 rows x 786 columns]"
            ],
            "text/html": [
              "\n",
              "  <div id=\"df-ee2dafb4-0a95-4be6-8b21-40124fe7182b\">\n",
              "    <div class=\"colab-df-container\">\n",
              "      <div>\n",
              "<style scoped>\n",
              "    .dataframe tbody tr th:only-of-type {\n",
              "        vertical-align: middle;\n",
              "    }\n",
              "\n",
              "    .dataframe tbody tr th {\n",
              "        vertical-align: top;\n",
              "    }\n",
              "\n",
              "    .dataframe thead th {\n",
              "        text-align: right;\n",
              "    }\n",
              "</style>\n",
              "<table border=\"1\" class=\"dataframe\">\n",
              "  <thead>\n",
              "    <tr style=\"text-align: right;\">\n",
              "      <th></th>\n",
              "      <th>names</th>\n",
              "      <th>labels</th>\n",
              "      <th>1</th>\n",
              "      <th>2</th>\n",
              "      <th>3</th>\n",
              "      <th>4</th>\n",
              "      <th>5</th>\n",
              "      <th>6</th>\n",
              "      <th>7</th>\n",
              "      <th>8</th>\n",
              "      <th>...</th>\n",
              "      <th>775</th>\n",
              "      <th>776</th>\n",
              "      <th>777</th>\n",
              "      <th>778</th>\n",
              "      <th>779</th>\n",
              "      <th>780</th>\n",
              "      <th>781</th>\n",
              "      <th>782</th>\n",
              "      <th>783</th>\n",
              "      <th>784</th>\n",
              "    </tr>\n",
              "  </thead>\n",
              "  <tbody>\n",
              "    <tr>\n",
              "      <th>0</th>\n",
              "      <td>Salsa-Regular</td>\n",
              "      <td>6</td>\n",
              "      <td>0.0</td>\n",
              "      <td>0.0</td>\n",
              "      <td>0.0</td>\n",
              "      <td>0.0</td>\n",
              "      <td>0.0</td>\n",
              "      <td>0.0</td>\n",
              "      <td>0.0</td>\n",
              "      <td>0.0</td>\n",
              "      <td>...</td>\n",
              "      <td>0.0</td>\n",
              "      <td>0.0</td>\n",
              "      <td>0.0</td>\n",
              "      <td>0.0</td>\n",
              "      <td>0.0</td>\n",
              "      <td>0.0</td>\n",
              "      <td>0.0</td>\n",
              "      <td>0.0</td>\n",
              "      <td>0.0</td>\n",
              "      <td>0.0</td>\n",
              "    </tr>\n",
              "    <tr>\n",
              "      <th>1</th>\n",
              "      <td>MouseMemoirs-Regular</td>\n",
              "      <td>D</td>\n",
              "      <td>0.0</td>\n",
              "      <td>0.0</td>\n",
              "      <td>0.0</td>\n",
              "      <td>0.0</td>\n",
              "      <td>0.0</td>\n",
              "      <td>0.0</td>\n",
              "      <td>0.0</td>\n",
              "      <td>0.0</td>\n",
              "      <td>...</td>\n",
              "      <td>0.0</td>\n",
              "      <td>0.0</td>\n",
              "      <td>0.0</td>\n",
              "      <td>0.0</td>\n",
              "      <td>0.0</td>\n",
              "      <td>0.0</td>\n",
              "      <td>0.0</td>\n",
              "      <td>0.0</td>\n",
              "      <td>0.0</td>\n",
              "      <td>0.0</td>\n",
              "    </tr>\n",
              "    <tr>\n",
              "      <th>2</th>\n",
              "      <td>Creepster-Regular</td>\n",
              "      <td>f</td>\n",
              "      <td>0.0</td>\n",
              "      <td>0.0</td>\n",
              "      <td>0.0</td>\n",
              "      <td>0.0</td>\n",
              "      <td>0.0</td>\n",
              "      <td>0.0</td>\n",
              "      <td>0.0</td>\n",
              "      <td>0.0</td>\n",
              "      <td>...</td>\n",
              "      <td>0.0</td>\n",
              "      <td>0.0</td>\n",
              "      <td>0.0</td>\n",
              "      <td>0.0</td>\n",
              "      <td>0.0</td>\n",
              "      <td>0.0</td>\n",
              "      <td>0.0</td>\n",
              "      <td>0.0</td>\n",
              "      <td>0.0</td>\n",
              "      <td>0.0</td>\n",
              "    </tr>\n",
              "    <tr>\n",
              "      <th>3</th>\n",
              "      <td>SeoulNamsan-Light</td>\n",
              "      <td>/</td>\n",
              "      <td>0.0</td>\n",
              "      <td>0.0</td>\n",
              "      <td>0.0</td>\n",
              "      <td>0.0</td>\n",
              "      <td>0.0</td>\n",
              "      <td>0.0</td>\n",
              "      <td>0.0</td>\n",
              "      <td>0.0</td>\n",
              "      <td>...</td>\n",
              "      <td>0.0</td>\n",
              "      <td>0.0</td>\n",
              "      <td>0.0</td>\n",
              "      <td>0.0</td>\n",
              "      <td>0.0</td>\n",
              "      <td>0.0</td>\n",
              "      <td>0.0</td>\n",
              "      <td>0.0</td>\n",
              "      <td>0.0</td>\n",
              "      <td>0.0</td>\n",
              "    </tr>\n",
              "    <tr>\n",
              "      <th>4</th>\n",
              "      <td>HachiMaruPop-Regular</td>\n",
              "      <td>F</td>\n",
              "      <td>0.0</td>\n",
              "      <td>0.0</td>\n",
              "      <td>0.0</td>\n",
              "      <td>0.0</td>\n",
              "      <td>0.0</td>\n",
              "      <td>0.0</td>\n",
              "      <td>0.0</td>\n",
              "      <td>0.0</td>\n",
              "      <td>...</td>\n",
              "      <td>0.0</td>\n",
              "      <td>0.0</td>\n",
              "      <td>0.0</td>\n",
              "      <td>0.0</td>\n",
              "      <td>0.0</td>\n",
              "      <td>0.0</td>\n",
              "      <td>0.0</td>\n",
              "      <td>0.0</td>\n",
              "      <td>0.0</td>\n",
              "      <td>0.0</td>\n",
              "    </tr>\n",
              "  </tbody>\n",
              "</table>\n",
              "<p>5 rows × 786 columns</p>\n",
              "</div>\n",
              "      <button class=\"colab-df-convert\" onclick=\"convertToInteractive('df-ee2dafb4-0a95-4be6-8b21-40124fe7182b')\"\n",
              "              title=\"Convert this dataframe to an interactive table.\"\n",
              "              style=\"display:none;\">\n",
              "        \n",
              "  <svg xmlns=\"http://www.w3.org/2000/svg\" height=\"24px\"viewBox=\"0 0 24 24\"\n",
              "       width=\"24px\">\n",
              "    <path d=\"M0 0h24v24H0V0z\" fill=\"none\"/>\n",
              "    <path d=\"M18.56 5.44l.94 2.06.94-2.06 2.06-.94-2.06-.94-.94-2.06-.94 2.06-2.06.94zm-11 1L8.5 8.5l.94-2.06 2.06-.94-2.06-.94L8.5 2.5l-.94 2.06-2.06.94zm10 10l.94 2.06.94-2.06 2.06-.94-2.06-.94-.94-2.06-.94 2.06-2.06.94z\"/><path d=\"M17.41 7.96l-1.37-1.37c-.4-.4-.92-.59-1.43-.59-.52 0-1.04.2-1.43.59L10.3 9.45l-7.72 7.72c-.78.78-.78 2.05 0 2.83L4 21.41c.39.39.9.59 1.41.59.51 0 1.02-.2 1.41-.59l7.78-7.78 2.81-2.81c.8-.78.8-2.07 0-2.86zM5.41 20L4 18.59l7.72-7.72 1.47 1.35L5.41 20z\"/>\n",
              "  </svg>\n",
              "      </button>\n",
              "      \n",
              "  <style>\n",
              "    .colab-df-container {\n",
              "      display:flex;\n",
              "      flex-wrap:wrap;\n",
              "      gap: 12px;\n",
              "    }\n",
              "\n",
              "    .colab-df-convert {\n",
              "      background-color: #E8F0FE;\n",
              "      border: none;\n",
              "      border-radius: 50%;\n",
              "      cursor: pointer;\n",
              "      display: none;\n",
              "      fill: #1967D2;\n",
              "      height: 32px;\n",
              "      padding: 0 0 0 0;\n",
              "      width: 32px;\n",
              "    }\n",
              "\n",
              "    .colab-df-convert:hover {\n",
              "      background-color: #E2EBFA;\n",
              "      box-shadow: 0px 1px 2px rgba(60, 64, 67, 0.3), 0px 1px 3px 1px rgba(60, 64, 67, 0.15);\n",
              "      fill: #174EA6;\n",
              "    }\n",
              "\n",
              "    [theme=dark] .colab-df-convert {\n",
              "      background-color: #3B4455;\n",
              "      fill: #D2E3FC;\n",
              "    }\n",
              "\n",
              "    [theme=dark] .colab-df-convert:hover {\n",
              "      background-color: #434B5C;\n",
              "      box-shadow: 0px 1px 3px 1px rgba(0, 0, 0, 0.15);\n",
              "      filter: drop-shadow(0px 1px 2px rgba(0, 0, 0, 0.3));\n",
              "      fill: #FFFFFF;\n",
              "    }\n",
              "  </style>\n",
              "\n",
              "      <script>\n",
              "        const buttonEl =\n",
              "          document.querySelector('#df-ee2dafb4-0a95-4be6-8b21-40124fe7182b button.colab-df-convert');\n",
              "        buttonEl.style.display =\n",
              "          google.colab.kernel.accessAllowed ? 'block' : 'none';\n",
              "\n",
              "        async function convertToInteractive(key) {\n",
              "          const element = document.querySelector('#df-ee2dafb4-0a95-4be6-8b21-40124fe7182b');\n",
              "          const dataTable =\n",
              "            await google.colab.kernel.invokeFunction('convertToInteractive',\n",
              "                                                     [key], {});\n",
              "          if (!dataTable) return;\n",
              "\n",
              "          const docLinkHtml = 'Like what you see? Visit the ' +\n",
              "            '<a target=\"_blank\" href=https://colab.research.google.com/notebooks/data_table.ipynb>data table notebook</a>'\n",
              "            + ' to learn more about interactive tables.';\n",
              "          element.innerHTML = '';\n",
              "          dataTable['output_type'] = 'display_data';\n",
              "          await google.colab.output.renderOutput(dataTable, element);\n",
              "          const docLink = document.createElement('div');\n",
              "          docLink.innerHTML = docLinkHtml;\n",
              "          element.appendChild(docLink);\n",
              "        }\n",
              "      </script>\n",
              "    </div>\n",
              "  </div>\n",
              "  "
            ]
          },
          "metadata": {},
          "execution_count": 2
        }
      ]
    },
    {
      "cell_type": "code",
      "source": [
        "#get independent variable and response variable\n",
        "X = df.drop(columns=['names','labels'])\n",
        "y = df[['labels']]\n",
        "#preping the data to create dictionary\n",
        "labels = y['labels'].unique()\n",
        "values = [num for num in range(len(df['labels'].unique()))]\n",
        "label_dict= dict(zip(labels,values)) #Creating Dictionary \n",
        "label_dict_inv = dict(zip(values,labels))\n",
        "y['labels'].replace(label_dict, inplace=True) #Maping Values avaliable for later traning\n",
        "\n",
        "#splitiing the data into test and train\n",
        "X_train, X_test, y_train, y_test = train_test_split( X, y, test_size=0.3, random_state=42,stratify=y)\n",
        "#the pixel values are from 0-255, for neural network models we are squishing them between 0-1 \n",
        "X_train= (X_train.astype('float32'))/255.0\n",
        "X_test = (X_test.astype('float32'))/255.0\n",
        "X_train=X_train.values.reshape(X_train.shape[0],28,28,1)\n",
        "X_test=X_test.values.reshape(X_test.shape[0],28,28,1)\n",
        "#Target into Categorical Values\n",
        "NCl = y_train.nunique()[0]\n",
        "y_train = to_categorical(y_train, NCl, dtype='int' )\n",
        "y_test = to_categorical(y_test, NCl, dtype='int' )\n",
        "print(X_train.shape)"
      ],
      "metadata": {
        "colab": {
          "base_uri": "https://localhost:8080/"
        },
        "id": "LdggjncWTBkS",
        "outputId": "24c03e55-8193-4314-b8e2-0067f16334d1"
      },
      "execution_count": null,
      "outputs": [
        {
          "output_type": "stream",
          "name": "stdout",
          "text": [
            "(191865, 28, 28, 1)\n"
          ]
        }
      ]
    },
    {
      "cell_type": "code",
      "source": [
        "n = 10\n",
        "plt.figure(figsize=(20, 10))\n",
        "for i in range(n):\n",
        "  # display original\n",
        "  ax = plt.subplot(2, 5, i + 1)\n",
        "  plt.imshow(np.reshape(X_test[i], (28, 28)), cmap = 'Greys')\n",
        "  plt.title(\"OG\")\n",
        "  plt.gray()\n",
        "  ax.get_xaxis().set_visible(False)\n",
        "  ax.get_yaxis().set_visible(False)\n",
        "plt.show()"
      ],
      "metadata": {
        "colab": {
          "base_uri": "https://localhost:8080/",
          "height": 536
        },
        "id": "R-AaZ0F7To5M",
        "outputId": "de2c48ef-730a-4413-9512-a16939f61c50"
      },
      "execution_count": null,
      "outputs": [
        {
          "output_type": "display_data",
          "data": {
            "text/plain": [
              "<Figure size 1440x720 with 10 Axes>"
            ],
            "image/png": "[encoded data removed]"
          },
          "metadata": {
            "needs_background": "light"
          }
        }
      ]
    },
    {
      "cell_type": "markdown",
      "source": [
        "#### **Build Autoencoder and training**\n",
        "I chose a autoencoder with 9 layers as baseline. First compress the input to 3 latent space size and using relu as activation function.<br>\n",
        "Then we adjust size of latent space to 16 and other network architecture and parameters/environments keep same as baseline.\n"
      ],
      "metadata": {
        "id": "-KJ3xE9Nh0G8"
      }
    },
    {
      "cell_type": "code",
      "source": [
        "input_layer = Input(shape=(28,28,1))\n",
        "\n",
        "## encoding architecture\n",
        "encode_layer1 = Conv2D(128, (3, 3), activation='relu', padding='same')(input_layer)\n",
        "encode_layer2 = MaxPooling2D((2, 2), padding='same')(encode_layer1)\n",
        "## latent space size 3\n",
        "latent_view   = Conv2D(3, (3, 3), activation='relu', padding='same')(encode_layer2)\n",
        "latent_view   = MaxPooling2D((2, 2), padding='same')(latent_view)\n",
        "## decoding architecture\n",
        "decode_layer1 = Conv2D(3, (3, 3), activation='relu', padding='same')(latent_view)\n",
        "decode_layer2 = UpSampling2D((2, 2))(decode_layer1)\n",
        "decode_layer3 = Conv2D(128, (3, 3), activation='relu', padding='same')(decode_layer2)\n",
        "decode_layer4 = UpSampling2D((2, 2))(decode_layer3)\n",
        "\n",
        "## output layer\n",
        "output_layer  = Conv2D(1, (3, 3), activation='sigmoid', padding='same')(decode_layer4)\n",
        "\n",
        "model = Model(input_layer, output_layer)\n",
        "model.summary()\n",
        "\n",
        "model.compile(optimizer='adam', loss='binary_crossentropy')\n",
        "model.fit(X_train, X_train,\n",
        "                epochs=20,batch_size=255,\n",
        "                validation_data=(X_test, X_test),verbose=1)"
      ],
      "metadata": {
        "colab": {
          "base_uri": "https://localhost:8080/"
        },
        "id": "o9Da09IiqGgo",
        "outputId": "5e1be093-35f0-4d10-ebf8-9cfb80627500"
      },
      "execution_count": null,
      "outputs": [
        {
          "output_type": "stream",
          "name": "stdout",
          "text": [
            "Model: \"model\"\n",
            "_________________________________________________________________\n",
            " Layer (type)                Output Shape              Param #   \n",
            "=================================================================\n",
            " input_1 (InputLayer)        [(None, 28, 28, 1)]       0         \n",
            "                                                                 \n",
            " conv2d_1 (Conv2D)           (None, 28, 28, 128)       1280      \n",
            "                                                                 \n",
            " max_pooling2d (MaxPooling2D  (None, 14, 14, 128)      0         \n",
            " )                                                               \n",
            "                                                                 \n",
            " conv2d_2 (Conv2D)           (None, 14, 14, 3)         3459      \n",
            "                                                                 \n",
            " max_pooling2d_1 (MaxPooling  (None, 7, 7, 3)          0         \n",
            " 2D)                                                             \n",
            "                                                                 \n",
            " conv2d_3 (Conv2D)           (None, 7, 7, 3)           84        \n",
            "                                                                 \n",
            " up_sampling2d (UpSampling2D  (None, 14, 14, 3)        0         \n",
            " )                                                               \n",
            "                                                                 \n",
            " conv2d_4 (Conv2D)           (None, 14, 14, 128)       3584      \n",
            "                                                                 \n",
            " up_sampling2d_1 (UpSampling  (None, 28, 28, 128)      0         \n",
            " 2D)                                                             \n",
            "                                                                 \n",
            " conv2d_5 (Conv2D)           (None, 28, 28, 1)         1153      \n",
            "                                                                 \n",
            "=================================================================\n",
            "Total params: 9,560\n",
            "Trainable params: 9,560\n",
            "Non-trainable params: 0\n",
            "_________________________________________________________________\n",
            "Epoch 1/20\n",
            "753/753 [==============================] - 10s 10ms/step - loss: 0.1542 - val_loss: 0.1157\n",
            "Epoch 2/20\n",
            "753/753 [==============================] - 6s 8ms/step - loss: 0.1129 - val_loss: 0.1106\n",
            "Epoch 3/20\n",
            "753/753 [==============================] - 6s 8ms/step - loss: 0.1091 - val_loss: 0.1075\n",
            "Epoch 4/20\n",
            "753/753 [==============================] - 6s 8ms/step - loss: 0.1056 - val_loss: 0.1041\n",
            "Epoch 5/20\n",
            "753/753 [==============================] - 6s 8ms/step - loss: 0.1032 - val_loss: 0.1028\n",
            "Epoch 6/20\n",
            "753/753 [==============================] - 6s 8ms/step - loss: 0.1016 - val_loss: 0.1021\n",
            "Epoch 7/20\n",
            "753/753 [==============================] - 6s 8ms/step - loss: 0.1002 - val_loss: 0.0996\n",
            "Epoch 8/20\n",
            "753/753 [==============================] - 6s 8ms/step - loss: 0.0991 - val_loss: 0.0985\n",
            "Epoch 9/20\n",
            "753/753 [==============================] - 6s 8ms/step - loss: 0.0981 - val_loss: 0.0987\n",
            "Epoch 10/20\n",
            "753/753 [==============================] - 6s 8ms/step - loss: 0.0974 - val_loss: 0.0970\n",
            "Epoch 11/20\n",
            "753/753 [==============================] - 6s 8ms/step - loss: 0.0968 - val_loss: 0.0965\n",
            "Epoch 12/20\n",
            "753/753 [==============================] - 6s 8ms/step - loss: 0.0963 - val_loss: 0.0960\n",
            "Epoch 13/20\n",
            "753/753 [==============================] - 6s 8ms/step - loss: 0.0959 - val_loss: 0.0957\n",
            "Epoch 14/20\n",
            "753/753 [==============================] - 6s 8ms/step - loss: 0.0956 - val_loss: 0.0958\n",
            "Epoch 15/20\n",
            "753/753 [==============================] - 6s 8ms/step - loss: 0.0952 - val_loss: 0.0952\n",
            "Epoch 16/20\n",
            "753/753 [==============================] - 6s 8ms/step - loss: 0.0950 - val_loss: 0.0959\n",
            "Epoch 17/20\n",
            "753/753 [==============================] - 6s 8ms/step - loss: 0.0948 - val_loss: 0.0947\n",
            "Epoch 18/20\n",
            "753/753 [==============================] - 6s 8ms/step - loss: 0.0946 - val_loss: 0.0945\n",
            "Epoch 19/20\n",
            "753/753 [==============================] - 6s 8ms/step - loss: 0.0944 - val_loss: 0.0945\n",
            "Epoch 20/20\n",
            "753/753 [==============================] - 6s 8ms/step - loss: 0.0942 - val_loss: 0.0941\n"
          ]
        },
        {
          "output_type": "execute_result",
          "data": {
            "text/plain": [
              "<keras.callbacks.History at 0x7f1f56f21130>"
            ]
          },
          "metadata": {},
          "execution_count": 6
        }
      ]
    },
    {
      "cell_type": "markdown",
      "source": [
        "##### **Adjust latent space size**\n",
        "Adjusting latent space size to 16."
      ],
      "metadata": {
        "id": "-nizon3JiXx5"
      }
    },
    {
      "cell_type": "code",
      "source": [
        "## encoding architecture\n",
        "encode_layer1 = Conv2D(128, (3, 3), activation='relu', padding='same')(input_layer)\n",
        "encode_layer2 = MaxPooling2D((2, 2), padding='same')(encode_layer1)\n",
        "\n",
        "## latent space size increase to 16\n",
        "latent_view   = Conv2D(16, (3, 3), activation='relu', padding='same')(encode_layer2)\n",
        "latent_view   = MaxPooling2D((2, 2), padding='same')(latent_view)\n",
        "## decoding architecture\n",
        "decode_layer1 = Conv2D(16, (3, 3), activation='relu', padding='same')(latent_view)\n",
        "decode_layer2 = UpSampling2D((2, 2))(decode_layer1)\n",
        "decode_layer3 = Conv2D(128, (3, 3), activation='relu', padding='same')(decode_layer2)\n",
        "decode_layer4 = UpSampling2D((2, 2))(decode_layer3)\n",
        "\n",
        "## output layer\n",
        "output_layer  = Conv2D(1, (3, 3), activation='sigmoid', padding='same')(decode_layer4)\n",
        "\n",
        "model1 = Model(input_layer, output_layer)\n",
        "model1.summary()\n",
        "\n",
        "model1.compile(optimizer='adam', loss='binary_crossentropy')\n",
        "model1.fit(X_train, X_train,\n",
        "                epochs=20,batch_size=255,\n",
        "                validation_data=(X_test, X_test),verbose=1)"
      ],
      "metadata": {
        "colab": {
          "base_uri": "https://localhost:8080/"
        },
        "id": "8qrhclFQSRt8",
        "outputId": "f02c948d-ecf9-4ded-d511-145284c83f5a"
      },
      "execution_count": null,
      "outputs": [
        {
          "output_type": "stream",
          "name": "stdout",
          "text": [
            "Model: \"model_1\"\n",
            "_________________________________________________________________\n",
            " Layer (type)                Output Shape              Param #   \n",
            "=================================================================\n",
            " input_1 (InputLayer)        [(None, 28, 28, 1)]       0         \n",
            "                                                                 \n",
            " conv2d_6 (Conv2D)           (None, 28, 28, 128)       1280      \n",
            "                                                                 \n",
            " max_pooling2d_2 (MaxPooling  (None, 14, 14, 128)      0         \n",
            " 2D)                                                             \n",
            "                                                                 \n",
            " conv2d_7 (Conv2D)           (None, 14, 14, 16)        18448     \n",
            "                                                                 \n",
            " max_pooling2d_3 (MaxPooling  (None, 7, 7, 16)         0         \n",
            " 2D)                                                             \n",
            "                                                                 \n",
            " conv2d_8 (Conv2D)           (None, 7, 7, 16)          2320      \n",
            "                                                                 \n",
            " up_sampling2d_2 (UpSampling  (None, 14, 14, 16)       0         \n",
            " 2D)                                                             \n",
            "                                                                 \n",
            " conv2d_9 (Conv2D)           (None, 14, 14, 128)       18560     \n",
            "                                                                 \n",
            " up_sampling2d_3 (UpSampling  (None, 28, 28, 128)      0         \n",
            " 2D)                                                             \n",
            "                                                                 \n",
            " conv2d_10 (Conv2D)          (None, 28, 28, 1)         1153      \n",
            "                                                                 \n",
            "=================================================================\n",
            "Total params: 41,761\n",
            "Trainable params: 41,761\n",
            "Non-trainable params: 0\n",
            "_________________________________________________________________\n",
            "Epoch 1/20\n",
            "753/753 [==============================] - 8s 10ms/step - loss: 0.1184 - val_loss: 0.0947\n",
            "Epoch 2/20\n",
            "753/753 [==============================] - 6s 9ms/step - loss: 0.0924 - val_loss: 0.0911\n",
            "Epoch 3/20\n",
            "753/753 [==============================] - 6s 9ms/step - loss: 0.0900 - val_loss: 0.0894\n",
            "Epoch 4/20\n",
            "753/753 [==============================] - 6s 9ms/step - loss: 0.0887 - val_loss: 0.0885\n",
            "Epoch 5/20\n",
            "753/753 [==============================] - 7s 9ms/step - loss: 0.0878 - val_loss: 0.0874\n",
            "Epoch 6/20\n",
            "753/753 [==============================] - 6s 9ms/step - loss: 0.0871 - val_loss: 0.0867\n",
            "Epoch 7/20\n",
            "753/753 [==============================] - 6s 9ms/step - loss: 0.0865 - val_loss: 0.0866\n",
            "Epoch 8/20\n",
            "753/753 [==============================] - 6s 9ms/step - loss: 0.0861 - val_loss: 0.0858\n",
            "Epoch 9/20\n",
            "753/753 [==============================] - 6s 9ms/step - loss: 0.0857 - val_loss: 0.0855\n",
            "Epoch 10/20\n",
            "753/753 [==============================] - 6s 9ms/step - loss: 0.0854 - val_loss: 0.0853\n",
            "Epoch 11/20\n",
            "753/753 [==============================] - 6s 9ms/step - loss: 0.0851 - val_loss: 0.0853\n",
            "Epoch 12/20\n",
            "753/753 [==============================] - 6s 9ms/step - loss: 0.0849 - val_loss: 0.0849\n",
            "Epoch 13/20\n",
            "753/753 [==============================] - 6s 9ms/step - loss: 0.0848 - val_loss: 0.0847\n",
            "Epoch 14/20\n",
            "753/753 [==============================] - 6s 9ms/step - loss: 0.0846 - val_loss: 0.0845\n",
            "Epoch 15/20\n",
            "753/753 [==============================] - 6s 9ms/step - loss: 0.0845 - val_loss: 0.0847\n",
            "Epoch 16/20\n",
            "753/753 [==============================] - 6s 9ms/step - loss: 0.0843 - val_loss: 0.0846\n",
            "Epoch 17/20\n",
            "753/753 [==============================] - 6s 9ms/step - loss: 0.0842 - val_loss: 0.0842\n",
            "Epoch 18/20\n",
            "753/753 [==============================] - 6s 9ms/step - loss: 0.0841 - val_loss: 0.0841\n",
            "Epoch 19/20\n",
            "753/753 [==============================] - 6s 9ms/step - loss: 0.0840 - val_loss: 0.0841\n",
            "Epoch 20/20\n",
            "753/753 [==============================] - 6s 9ms/step - loss: 0.0839 - val_loss: 0.0839\n"
          ]
        },
        {
          "output_type": "execute_result",
          "data": {
            "text/plain": [
              "<keras.callbacks.History at 0x7f1f5959c3a0>"
            ]
          },
          "metadata": {},
          "execution_count": 7
        }
      ]
    },
    {
      "cell_type": "markdown",
      "source": [
        "##### **Modifiy network architecture**\n",
        "updating layers to 2 conv2d and maxpooling layers and conv2d layers with 128 and 64 filters."
      ],
      "metadata": {
        "id": "PZ4sMLj6h_lI"
      }
    },
    {
      "cell_type": "code",
      "source": [
        "## encoding architecture 3 conv2d and 3 maxpooling layers\n",
        "encode_layer1 = Conv2D(128, (3, 3), activation='relu', padding='same')(input_layer)\n",
        "encode_layer2 = MaxPooling2D((2, 2), padding='same')(encode_layer1)\n",
        "encode_layer3 = Conv2D(64, (3, 3), activation='relu', padding='same')(encode_layer2)\n",
        "encode_layer4 = MaxPooling2D((2, 2), padding='same')(encode_layer3)\n",
        "\n",
        "## latent space size decrease to 16\n",
        "encode_layer5   = Conv2D(16, (3, 3), activation='relu', padding='same')(encode_layer4)\n",
        "latent_view   = MaxPooling2D((1, 1), padding='same')(encode_layer5)\n",
        "## decoding architecture\n",
        "decode_layer1 = Conv2D(16, (3, 3), activation='relu', padding='same')(latent_view)\n",
        "decode_layer2 = UpSampling2D((1, 1))(decode_layer1)\n",
        "decode_layer3 = Conv2D(64, (3, 3), activation='relu', padding='same')(decode_layer2)\n",
        "decode_layer4 = UpSampling2D((2, 2))(decode_layer3)\n",
        "decode_layer5 = Conv2D(128, (3, 3), activation='relu', padding='same')(decode_layer4)\n",
        "decode_layer6 = UpSampling2D((2, 2))(decode_layer5)\n",
        "\n",
        "## output layer\n",
        "output_layer  = Conv2D(1, (3, 3), activation='sigmoid', padding='same')(decode_layer6)\n",
        "\n",
        "model2 = Model(input_layer, output_layer)\n",
        "model2.summary()\n",
        "\n",
        "model2.compile(optimizer='adam', loss='binary_crossentropy')\n",
        "model2.fit(X_train, X_train,\n",
        "                epochs=20,batch_size=255,\n",
        "                validation_data=(X_test, X_test),verbose=1)"
      ],
      "metadata": {
        "colab": {
          "base_uri": "https://localhost:8080/"
        },
        "id": "Cx-nhQbQ6nC4",
        "outputId": "944cbf26-24d8-4203-c099-95c690ba5242"
      },
      "execution_count": null,
      "outputs": [
        {
          "output_type": "stream",
          "name": "stdout",
          "text": [
            "Model: \"model_4\"\n",
            "_________________________________________________________________\n",
            " Layer (type)                Output Shape              Param #   \n",
            "=================================================================\n",
            " input_1 (InputLayer)        [(None, 28, 28, 1)]       0         \n",
            "                                                                 \n",
            " conv2d_29 (Conv2D)          (None, 28, 28, 128)       1280      \n",
            "                                                                 \n",
            " max_pooling2d_13 (MaxPoolin  (None, 14, 14, 128)      0         \n",
            " g2D)                                                            \n",
            "                                                                 \n",
            " conv2d_30 (Conv2D)          (None, 14, 14, 64)        73792     \n",
            "                                                                 \n",
            " max_pooling2d_14 (MaxPoolin  (None, 7, 7, 64)         0         \n",
            " g2D)                                                            \n",
            "                                                                 \n",
            " conv2d_31 (Conv2D)          (None, 7, 7, 16)          9232      \n",
            "                                                                 \n",
            " max_pooling2d_15 (MaxPoolin  (None, 7, 7, 16)         0         \n",
            " g2D)                                                            \n",
            "                                                                 \n",
            " conv2d_32 (Conv2D)          (None, 7, 7, 16)          2320      \n",
            "                                                                 \n",
            " up_sampling2d_10 (UpSamplin  (None, 7, 7, 16)         0         \n",
            " g2D)                                                            \n",
            "                                                                 \n",
            " conv2d_33 (Conv2D)          (None, 7, 7, 64)          9280      \n",
            "                                                                 \n",
            " up_sampling2d_11 (UpSamplin  (None, 14, 14, 64)       0         \n",
            " g2D)                                                            \n",
            "                                                                 \n",
            " conv2d_34 (Conv2D)          (None, 14, 14, 128)       73856     \n",
            "                                                                 \n",
            " up_sampling2d_12 (UpSamplin  (None, 28, 28, 128)      0         \n",
            " g2D)                                                            \n",
            "                                                                 \n",
            " conv2d_35 (Conv2D)          (None, 28, 28, 1)         1153      \n",
            "                                                                 \n",
            "=================================================================\n",
            "Total params: 170,913\n",
            "Trainable params: 170,913\n",
            "Non-trainable params: 0\n",
            "_________________________________________________________________\n",
            "Epoch 1/20\n",
            "753/753 [==============================] - 9s 11ms/step - loss: 0.1155 - val_loss: 0.0919\n",
            "Epoch 2/20\n",
            "753/753 [==============================] - 7s 10ms/step - loss: 0.0899 - val_loss: 0.0883\n",
            "Epoch 3/20\n",
            "753/753 [==============================] - 7s 10ms/step - loss: 0.0877 - val_loss: 0.0877\n",
            "Epoch 4/20\n",
            "753/753 [==============================] - 7s 10ms/step - loss: 0.0864 - val_loss: 0.0858\n",
            "Epoch 5/20\n",
            "753/753 [==============================] - 7s 10ms/step - loss: 0.0857 - val_loss: 0.0854\n",
            "Epoch 6/20\n",
            "753/753 [==============================] - 7s 10ms/step - loss: 0.0851 - val_loss: 0.0847\n",
            "Epoch 7/20\n",
            "753/753 [==============================] - 7s 10ms/step - loss: 0.0847 - val_loss: 0.0843\n",
            "Epoch 8/20\n",
            "753/753 [==============================] - 7s 10ms/step - loss: 0.0843 - val_loss: 0.0840\n",
            "Epoch 9/20\n",
            "753/753 [==============================] - 7s 10ms/step - loss: 0.0840 - val_loss: 0.0838\n",
            "Epoch 10/20\n",
            "753/753 [==============================] - 7s 10ms/step - loss: 0.0838 - val_loss: 0.0843\n",
            "Epoch 11/20\n",
            "753/753 [==============================] - 7s 10ms/step - loss: 0.0835 - val_loss: 0.0834\n",
            "Epoch 12/20\n",
            "753/753 [==============================] - 7s 10ms/step - loss: 0.0833 - val_loss: 0.0838\n",
            "Epoch 13/20\n",
            "753/753 [==============================] - 7s 10ms/step - loss: 0.0832 - val_loss: 0.0834\n",
            "Epoch 14/20\n",
            "753/753 [==============================] - 7s 10ms/step - loss: 0.0830 - val_loss: 0.0837\n",
            "Epoch 15/20\n",
            "753/753 [==============================] - 7s 10ms/step - loss: 0.0829 - val_loss: 0.0828\n",
            "Epoch 16/20\n",
            "753/753 [==============================] - 7s 10ms/step - loss: 0.0828 - val_loss: 0.0827\n",
            "Epoch 17/20\n",
            "753/753 [==============================] - 7s 10ms/step - loss: 0.0827 - val_loss: 0.0827\n",
            "Epoch 18/20\n",
            "753/753 [==============================] - 7s 10ms/step - loss: 0.0826 - val_loss: 0.0830\n",
            "Epoch 19/20\n",
            "753/753 [==============================] - 7s 10ms/step - loss: 0.0826 - val_loss: 0.0826\n",
            "Epoch 20/20\n",
            "753/753 [==============================] - 7s 10ms/step - loss: 0.0824 - val_loss: 0.0824\n"
          ]
        },
        {
          "output_type": "execute_result",
          "data": {
            "text/plain": [
              "<keras.callbacks.History at 0x7f1f57769c40>"
            ]
          },
          "metadata": {},
          "execution_count": 15
        }
      ]
    },
    {
      "cell_type": "markdown",
      "source": [
        "##### Observe reconstructed fake image of above autoencoders"
      ],
      "metadata": {
        "id": "JmFJUEpbii5Q"
      }
    },
    {
      "cell_type": "code",
      "source": [
        "# display fake img of autoencoder with a latent size of 3\n",
        "decoded_imgs = model.predict(X_test)\n",
        "plt.figure(figsize=(20, 10))\n",
        "for i in range(40):\n",
        "  # display original\n",
        "  ax = plt.subplot(4, 10, i + 1)\n",
        "  plt.imshow(np.reshape(decoded_imgs[i], (28, 28)))\n",
        "  plt.gray()\n",
        "  ax.get_xaxis().set_visible(False)\n",
        "  ax.get_yaxis().set_visible(False)\n",
        "plt.show()\n"
      ],
      "metadata": {
        "colab": {
          "base_uri": "https://localhost:8080/",
          "height": 568
        },
        "id": "yjGOWDZlbvdA",
        "outputId": "98882b66-baea-4d6a-a6bb-912c042fcba9"
      },
      "execution_count": null,
      "outputs": [
        {
          "output_type": "stream",
          "name": "stdout",
          "text": [
            "2570/2570 [==============================] - 5s 2ms/step\n"
          ]
        },
        {
          "output_type": "display_data",
          "data": {
            "text/plain": [
              "<Figure size 1440x720 with 40 Axes>"
            ],
            "image/png": "[encoded data removed]"
          },
          "metadata": {
            "needs_background": "light"
          }
        }
      ]
    },
    {
      "cell_type": "code",
      "source": [
        " # display fake img of autoencoder with a latent size of 16\n",
        "decoded_imgs1 = model1.predict(X_test)\n",
        "plt.figure(figsize=(20, 10))\n",
        "for i in range(40):\n",
        " \n",
        "  ax = plt.subplot(4, 10, i + 1)\n",
        "  ax.imshow(np.reshape(decoded_imgs1[i], (28, 28)))\n",
        "  #plt.gray()\n",
        "  ax.get_xaxis().set_visible(False)\n",
        "  ax.get_yaxis().set_visible(False)\n",
        "plt.show()\n"
      ],
      "metadata": {
        "colab": {
          "base_uri": "https://localhost:8080/",
          "height": 591
        },
        "id": "OWFyN5WoSaee",
        "outputId": "46f775a9-31ab-43c5-9914-10ce4f0a0440"
      },
      "execution_count": null,
      "outputs": [
        {
          "output_type": "stream",
          "name": "stdout",
          "text": [
            "2570/2570 [==============================] - 5s 2ms/step\n"
          ]
        },
        {
          "output_type": "display_data",
          "data": {
            "text/plain": [
              "<Figure size 1440x720 with 40 Axes>"
            ],
            "image/png": "[encoded data removed]"
          },
          "metadata": {
            "needs_background": "light"
          }
        }
      ]
    },
    {
      "cell_type": "code",
      "source": [
        " # display fake img of autoencoder with a latent size of 16 and 13 layers\n",
        "decoded_imgs2 = model2.predict(X_test)\n",
        "plt.figure(figsize=(20, 10))\n",
        "for i in range(40):\n",
        " \n",
        "  ax = plt.subplot(4, 10, i + 1)\n",
        "  ax.imshow(np.reshape(decoded_imgs2[i], (28, 28)))\n",
        "  #plt.gray()\n",
        "  ax.get_xaxis().set_visible(False)\n",
        "  ax.get_yaxis().set_visible(False)\n",
        "plt.show()"
      ],
      "metadata": {
        "colab": {
          "base_uri": "https://localhost:8080/",
          "height": 568
        },
        "id": "3bNTwDc07-hY",
        "outputId": "31d5232f-ca4e-4cac-f2a1-691491cb8b96"
      },
      "execution_count": null,
      "outputs": [
        {
          "output_type": "stream",
          "name": "stdout",
          "text": [
            "2570/2570 [==============================] - 6s 2ms/step\n"
          ]
        },
        {
          "output_type": "display_data",
          "data": {
            "text/plain": [
              "<Figure size 1440x720 with 40 Axes>"
            ],
            "image/png": "[encoded data removed]"
          },
          "metadata": {
            "needs_background": "light"
          }
        }
      ]
    },
    {
      "cell_type": "code",
      "source": [
        "plt.figure(figsize=(15, 15))\n",
        "ax = plt.subplot(1, 3, 1)\n",
        "plt.title('latent size 3')\n",
        "plt.imshow(np.reshape(decoded_imgs[20], (28, 28)))\n",
        "plt.gray()\n",
        "ax.get_xaxis().set_visible(False)\n",
        "ax.get_yaxis().set_visible(False)\n",
        "ax = plt.subplot(1, 3, 2)\n",
        "plt.title('latent size 16')\n",
        "plt.imshow(np.reshape(decoded_imgs1[20], (28, 28)))\n",
        "plt.gray()\n",
        "ax.get_xaxis().set_visible(False)\n",
        "ax.get_yaxis().set_visible(False)\n",
        "ax = plt.subplot(1, 3, 3)\n",
        "plt.title('latent size 16 and 13 layers')\n",
        "plt.imshow(np.reshape(decoded_imgs2[20], (28, 28)))\n",
        "plt.gray()\n",
        "ax.get_xaxis().set_visible(False)\n",
        "ax.get_yaxis().set_visible(False)\n",
        "plt.show()"
      ],
      "metadata": {
        "colab": {
          "base_uri": "https://localhost:8080/",
          "height": 297
        },
        "id": "OfT4VNPjqVJw",
        "outputId": "45f2aad0-9a21-450c-8164-d0d8411f7da0"
      },
      "execution_count": null,
      "outputs": [
        {
          "output_type": "display_data",
          "data": {
            "text/plain": [
              "<Figure size 1080x1080 with 3 Axes>"
            ],
            "image/png": "[encoded data removed]"
          },
          "metadata": {
            "needs_background": "light"
          }
        }
      ]
    },
    {
      "cell_type": "markdown",
      "source": [
        "From above reconstructed image, we can assume that autoencoder with 9 layers and a latent space size of 16 can give a better trade-off between compression and quality than autoencoder with latent space size of 3. After change the network architecture to 3 conv2d and 3 maxpooling in encoder and decoder, also make latent space size be 16, the quality of fake image is better than baseline."
      ],
      "metadata": {
        "id": "RelybdaZ5FxW"
      }
    },
    {
      "cell_type": "markdown",
      "source": [
        "#### **Conclusion**\n",
        "From above experiments, we can assumed that autoencoder with 13 layers and a latent space size of 16 gives the better trade-off between compression and quality than other conditions in above experiments.\n",
        "\n",
        "#### **Reference**\n",
        "[1] https://en.wikipedia.org/wiki/Autoencoder<br/>\n",
        "[2] https://www.kaggle.com/code/shivamb/how-autoencoders-work-intro-and-usecases/notebook<br/>\n",
        "\n",
        "#### **License**\n",
        "\n",
        "MIT License\n",
        "\n",
        "Copyright (c) 2022 Yanping Fu\n",
        "\n",
        "Permission is hereby granted, free of charge, to any person obtaining a copy\n",
        "of this software and associated documentation files (the \"Software\"), to deal\n",
        "in the Software without restriction, including without limitation the rights\n",
        "to use, copy, modify, merge, publish, distribute, sublicense, and/or sell\n",
        "copies of the Software, and to permit persons to whom the Software is\n",
        "furnished to do so, subject to the following conditions:\n",
        "\n",
        "The above copyright notice and this permission notice shall be included in all\n",
        "copies or substantial portions of the Software.\n",
        "\n",
        "THE SOFTWARE IS PROVIDED \"AS IS\", WITHOUT WARRANTY OF ANY KIND, EXPRESS OR\n",
        "IMPLIED, INCLUDING BUT NOT LIMITED TO THE WARRANTIES OF MERCHANTABILITY,\n",
        "FITNESS FOR A PARTICULAR PURPOSE AND NONINFRINGEMENT. IN NO EVENT SHALL THE\n",
        "AUTHORS OR COPYRIGHT HOLDERS BE LIABLE FOR ANY CLAIM, DAMAGES OR OTHER\n",
        "LIABILITY, WHETHER IN AN ACTION OF CONTRACT, TORT OR OTHERWISE, ARISING FROM,\n",
        "OUT OF OR IN CONNECTION WITH THE SOFTWARE OR THE USE OR OTHER DEALINGS IN THE\n",
        "SOFTWARE."
      ],
      "metadata": {
        "id": "AS2gQNakcTzM"
      }
    }
  ]
}