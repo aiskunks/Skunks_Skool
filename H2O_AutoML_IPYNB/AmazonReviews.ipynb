{
 "cells": [
  {
   "cell_type": "markdown",
   "metadata": {},
   "source": [
    "## Predicting Good Amazon Reviews\n",
    "\n",
    "For this demo, we will be using the [Amazon Fine Food Reviews Data](https://www.kaggle.com/snap/amazon-fine-food-reviews).  The Amazon Fine Food Reviews dataset consists of 568,454 food reviews Amazon users left up to October 2012.\n",
    "\n",
    "This script is based off of the [Craigslist Word2Vec Demo](https://github.com/h2oai/h2o-3/blob/master/h2o-py/demos/word2vec_craigslistjobtitles.ipynb).\n",
    "\n",
    "## Import Data\n",
    "\n",
    "We will begin by importing our review data into our H2O cluster.  In this case, I will be starting up an H2O cluster on my local computer."
   ]
  },
  {
   "cell_type": "code",
   "execution_count": 1,
   "metadata": {
    "collapsed": true
   },
   "outputs": [],
   "source": [
    "import h2o"
   ]
  },
  {
   "cell_type": "code",
   "execution_count": 2,
   "metadata": {
    "collapsed": false
   },
   "outputs": [
    {
     "name": "stdout",
     "output_type": "stream",
     "text": [
      "Checking whether there is an H2O instance running at http://localhost:54321..... not found.\n",
      "Attempting to start a local H2O server...\n",
      "  Java Version: java version \"1.7.0_80\"; Java(TM) SE Runtime Environment (build 1.7.0_80-b15); Java HotSpot(TM) 64-Bit Server VM (build 24.80-b11, mixed mode)\n",
      "  Starting server from /Users/megankurka/anaconda3/envs/py27/lib/python2.7/site-packages/h2o/backend/bin/h2o.jar\n",
      "  Ice root: /var/folders/gv/w2f3zs_d33l3dt5j67k9nhhr0000gn/T/tmpmt_yBb\n",
      "  JVM stdout: /var/folders/gv/w2f3zs_d33l3dt5j67k9nhhr0000gn/T/tmpmt_yBb/h2o_megankurka_started_from_python.out\n",
      "  JVM stderr: /var/folders/gv/w2f3zs_d33l3dt5j67k9nhhr0000gn/T/tmpmt_yBb/h2o_megankurka_started_from_python.err\n",
      "  Server is running at http://127.0.0.1:54321\n",
      "Connecting to H2O server at http://127.0.0.1:54321... successful.\n"
     ]
    },
    {
     "data": {
      "text/html": [
       "<div style=\"overflow:auto\"><table style=\"width:50%\"><tr><td>H2O cluster uptime:</td>\n",
       "<td>02 secs</td></tr>\n",
       "<tr><td>H2O cluster version:</td>\n",
       "<td>3.16.0.2</td></tr>\n",
       "<tr><td>H2O cluster version age:</td>\n",
       "<td>7 days, 16 hours and 40 minutes </td></tr>\n",
       "<tr><td>H2O cluster name:</td>\n",
       "<td>H2O_from_python_megankurka_xhw01z</td></tr>\n",
       "<tr><td>H2O cluster total nodes:</td>\n",
       "<td>1</td></tr>\n",
       "<tr><td>H2O cluster free memory:</td>\n",
       "<td>3.556 Gb</td></tr>\n",
       "<tr><td>H2O cluster total cores:</td>\n",
       "<td>8</td></tr>\n",
       "<tr><td>H2O cluster allowed cores:</td>\n",
       "<td>8</td></tr>\n",
       "<tr><td>H2O cluster status:</td>\n",
       "<td>accepting new members, healthy</td></tr>\n",
       "<tr><td>H2O connection url:</td>\n",
       "<td>http://127.0.0.1:54321</td></tr>\n",
       "<tr><td>H2O connection proxy:</td>\n",
       "<td>None</td></tr>\n",
       "<tr><td>H2O internal security:</td>\n",
       "<td>False</td></tr>\n",
       "<tr><td>H2O API Extensions:</td>\n",
       "<td>AutoML, XGBoost, Algos, Core V3, Core V4</td></tr>\n",
       "<tr><td>Python version:</td>\n",
       "<td>2.7.13 final</td></tr></table></div>"
      ],
      "text/plain": [
       "--------------------------  ----------------------------------------\n",
       "H2O cluster uptime:         02 secs\n",
       "H2O cluster version:        3.16.0.2\n",
       "H2O cluster version age:    7 days, 16 hours and 40 minutes\n",
       "H2O cluster name:           H2O_from_python_megankurka_xhw01z\n",
       "H2O cluster total nodes:    1\n",
       "H2O cluster free memory:    3.556 Gb\n",
       "H2O cluster total cores:    8\n",
       "H2O cluster allowed cores:  8\n",
       "H2O cluster status:         accepting new members, healthy\n",
       "H2O connection url:         http://127.0.0.1:54321\n",
       "H2O connection proxy:\n",
       "H2O internal security:      False\n",
       "H2O API Extensions:         AutoML, XGBoost, Algos, Core V3, Core V4\n",
       "Python version:             2.7.13 final\n",
       "--------------------------  ----------------------------------------"
      ]
     },
     "metadata": {},
     "output_type": "display_data"
    }
   ],
   "source": [
    "h2o.init(max_mem_size=\"4G\")"
   ]
  },
  {
   "cell_type": "code",
   "execution_count": 3,
   "metadata": {
    "collapsed": false
   },
   "outputs": [
    {
     "name": "stdout",
     "output_type": "stream",
     "text": [
      "Parse progress: |█████████████████████████████████████████████████████████| 100%\n"
     ]
    }
   ],
   "source": [
    "# Use local data file or download from GitHub\n",
    "import os\n",
    "docker_data_path = \"/home/h2o/data/nlp/AmazonReviews.csv\"\n",
    "if os.path.isfile(docker_data_path):\n",
    "  data_path = docker_data_path\n",
    "else:\n",
    "  data_path = \"https://s3.amazonaws.com/tomk/h2o-world/megan/AmazonReviews.csv\"\n",
    "\n",
    "\n",
    "# Load data into H2O\n",
    "reviews = h2o.import_file(data_path)"
   ]
  },
  {
   "cell_type": "code",
   "execution_count": 4,
   "metadata": {
    "collapsed": true
   },
   "outputs": [],
   "source": [
    "#' Add Target Column: \"PositiveReview\"\n",
    "reviews[\"PositiveReview\"] = (reviews[\"Score\"] >= 4).ifelse(\"1\", \"0\")"
   ]
  },
  {
   "cell_type": "code",
   "execution_count": 5,
   "metadata": {
    "collapsed": false
   },
   "outputs": [
    {
     "data": {
      "text/html": [
       "<table>\n",
       "<thead>\n",
       "<tr><th>ProductId  </th><th>UserId        </th><th>Summary                               </th><th style=\"text-align: right;\">  Score</th><th style=\"text-align: right;\">  HelpfulnessDenominator</th><th style=\"text-align: right;\">    Id</th><th>ProfileName                                     </th><th style=\"text-align: right;\">  HelpfulnessNumerator</th><th style=\"text-align: right;\">       Time</th><th>Text                                                                                                                                                                                                                                                                                                                                                                                                                                                                                                                                                                                                                                                                                                                                                                                                                                                                                                                                                                                                                                                                                                                                                                                                                                                                                                                                                                                                                                                                                                                                                                                                                                                                                                                                                                                                                                                                                                                                                                                                                                                                                                                                                                                                                                                                                                                                                                                                                                                                                                                                                                                                                                                                                                                                                                                                                                                                                                                                                                                                                                                                                                                                                                                                                                                       </th><th style=\"text-align: right;\">  PositiveReview</th></tr>\n",
       "</thead>\n",
       "<tbody>\n",
       "<tr><td>B00141QYSQ </td><td>A1YS02UZZGRDCT</td><td>Do Not Buy                            </td><td style=\"text-align: right;\">      1</td><td style=\"text-align: right;\">                       2</td><td style=\"text-align: right;\"> 41471</td><td>Evan Eberhardt                                  </td><td style=\"text-align: right;\">                     2</td><td style=\"text-align: right;\">1.34836e+09</td><td>These are made in China (do not buy ANY pet food from China).  Dogswell has been using propylene glycol to soften their treats (what are they thinkng?).  Do not purchase or support this company in any way until they clean up their act.  And for whatever reason Amazon doesn't allow returns of this item, so I had to toss mine out.  Bad business all around on this one.                                                                                                                                                                                                                                                                                                                                                                                                                                                                                                                                                                                                                                                                                                                                                                                                                                                                                                                                                                                                                                                                                                                                                                                                                                                                                                                                                                                                                                                                                                                                                                                                                                                                                                                                                                                                                                                                                                                                                                                                                                                                                                                                                                                                                                                                                                                                                                                                                                                                                                                                                                                                                                                                                                                                                                                                                                                                           </td><td style=\"text-align: right;\">               0</td></tr>\n",
       "<tr><td>B0089SPEO2 </td><td>A3JOYNYL458QHP</td><td>Less lemon and less zing              </td><td style=\"text-align: right;\">      3</td><td style=\"text-align: right;\">                       0</td><td style=\"text-align: right;\"> 28582</td><td>coleridge                                       </td><td style=\"text-align: right;\">                     0</td><td style=\"text-align: right;\">1.32391e+09</td><td>Everything is ok, except it just isn't as good as it is in the bags.  Just considerably more bland -- less lemon and less zing.  Boring.                                                                                                                                                                                                                                                                                                                                                                                                                                                                                                                                                                                                                                                                                                                                                                                                                                                                                                                                                                                                                                                                                                                                                                                                                                                                                                                                                                                                                                                                                                                                                                                                                                                                                                                                                                                                                                                                                                                                                                                                                                                                                                                                                                                                                                                                                                                                                                                                                                                                                                                                                                                                                                                                                                                                                                                                                                                                                                                                                                                                                                                                                                                   </td><td style=\"text-align: right;\">               0</td></tr>\n",
       "<tr><td>B001PMCDK2 </td><td>A14TTMM0Z03Y2W</td><td>my cat goes crazy for these!          </td><td style=\"text-align: right;\">      5</td><td style=\"text-align: right;\">                       0</td><td style=\"text-align: right;\">389965</td><td>Lindsay S. Bradford                             </td><td style=\"text-align: right;\">                     0</td><td style=\"text-align: right;\">1.3106e+09 </td><td>Best cat treat ever. There isn't anything comparable to the love my cat has for these treats, he snubs away any other kind now.<br />I know he likes to manipulate me with his cattiness but these treats are my way of manipulating him to come sit on my lap and have some chill time. :)                                                                                                                                                                                                                                                                                                                                                                                                                                                                                                                                                                                                                                                                                                                                                                                                                                                                                                                                                                                                                                                                                                                                                                                                                                                                                                                                                                                                                                                                                                                                                                                                                                                                                                                                                                                                                                                                                                                                                                                                                                                                                                                                                                                                                                                                                                                                                                                                                                                                                                                                                                                                                                                                                                                                                                                                                                                                                                                                                                </td><td style=\"text-align: right;\">               1</td></tr>\n",
       "<tr><td>B002Q8JOSI </td><td>A17UQD2RSSQH5X</td><td>My dogs tell me these treats are YUMMY</td><td style=\"text-align: right;\">      5</td><td style=\"text-align: right;\">                       1</td><td style=\"text-align: right;\">212536</td><td>in the dark                                     </td><td style=\"text-align: right;\">                     1</td><td style=\"text-align: right;\">1.31613e+09</td><td>My two Corgis were thoroughly spoiled by my late husband (I spent a year and a half dieting them down a combined total of 25 pounds!)<br /><br />They are accustomed to the finest of fare, and they absolutely love the Wellness brand of treats.                                                                                                                                                                                                                                                                                                                                                                                                                                                                                                                                                                                                                                                                                                                                                                                                                                                                                                                                                                                                                                                                                                                                                                                                                                                                                                                                                                                                                                                                                                                                                                                                                                                                                                                                                                                                                                                                                                                                                                                                                                                                                                                                                                                                                                                                                                                                                                                                                                                                                                                                                                                                                                                                                                                                                                                                                                                                                                                                                                                                         </td><td style=\"text-align: right;\">               1</td></tr>\n",
       "<tr><td>B00176G870 </td><td>A2F2MZW8EOGH5J</td><td>Yummy to the tummy                    </td><td style=\"text-align: right;\">      5</td><td style=\"text-align: right;\">                       0</td><td style=\"text-align: right;\">115971</td><td>daemoncycler \"\"When you arrive at a fork in th..</td><td style=\"text-align: right;\">                     0</td><td style=\"text-align: right;\">1.33479e+09</td><td>We used to have drive down to the specialty pet food store for this product.  So glad we discovered Amazon.  As far as I can tell it is no more expensive & in some cases less - Prime membership is awesome.  Loving Pets treats are some of the best according to my dog.  They do not develop that nasty smell like some dog treats do.                                                                                                                                                                                                                                                                                                                                                                                                                                                                                                                                                                                                                                                                                                                                                                                                                                                                                                                                                                                                                                                                                                                                                                                                                                                                                                                                                                                                                                                                                                                                                                                                                                                                                                                                                                                                                                                                                                                                                                                                                                                                                                                                                                                                                                                                                                                                                                                                                                                                                                                                                                                                                                                                                                                                                                                                                                                                                                                 </td><td style=\"text-align: right;\">               1</td></tr>\n",
       "<tr><td>B001CHFUGY </td><td>A2M8VROSDPU4JT</td><td>Very good coffee                      </td><td style=\"text-align: right;\">      5</td><td style=\"text-align: right;\">                       1</td><td style=\"text-align: right;\">434484</td><td>Officefan \"\"Officefankt                         </td><td style=\"text-align: right;\">                     1</td><td style=\"text-align: right;\">1.27725e+09</td><td>I really liked this coffee, it was just as good as everyone claimed it was.  Strong, bold and flavorful!  I would recommend!                                                                                                                                                                                                                                                                                                                                                                                                                                                                                                                                                                                                                                                                                                                                                                                                                                                                                                                                                                                                                                                                                                                                                                                                                                                                                                                                                                                                                                                                                                                                                                                                                                                                                                                                                                                                                                                                                                                                                                                                                                                                                                                                                                                                                                                                                                                                                                                                                                                                                                                                                                                                                                                                                                                                                                                                                                                                                                                                                                                                                                                                                                                               </td><td style=\"text-align: right;\">               1</td></tr>\n",
       "<tr><td>B0041CIR62 </td><td>A16I6WJUEBJ1C3</td><td>okay but not as healthy as it appears </td><td style=\"text-align: right;\">      2</td><td style=\"text-align: right;\">                       1</td><td style=\"text-align: right;\">138997</td><td>doctorsirena \"\"doctorsirena                     </td><td style=\"text-align: right;\">                     1</td><td style=\"text-align: right;\">1.34369e+09</td><td>I am always looking for healthier, whole grain versions of foods I enjoy.  Unfortunately, these Peacock brand noodles are yet another food masquerading as healthy.  The product title in big letters on the front says \"\"Brown Rice Vermicelli\"\", making the consumer think \"\"this is made with brown rice, so it should be a healthy choice\"\".  But the first indication that it is not is when looking at the fiber content on the nutrition facts - only 0.6g per 2oz serving.  Then onto the ingredients list to see why so low... contains brown rice, sago starch and water.  The sago starch comes from palms and must not have much (if any) fiber.<br /><br />The Annie Chun's Maifun Brown Rice Noodles (sold on Amazon and in my local healthy grocer) has become one of my staples and is my frame of reference when comparing to the Peacock brand.  The Annie Chun's product is made with 100% whole grain, with ingredients brown rice flour and water.  Per 2oz serving, it has 4g fiber and pretty much the same calories and other nutrients as the Peacock brand.<br /><br />If you do try this Peacock brand noodles and have not used rice noodles before, you will need to seek guidance elsewhere on preparation.  As others have pointed out, the Peacock package gives almost no directions on how to prepare the product, aside from a brief mention in the recipes (in the header text it does say that they are \"\"easy-to-cook\"\" but does not say how).  It also contains a very strange recipe for rice noodles: Aglio Olio style - this is an Italian recipe for noodles with olive oil/garlic/sprinkled with grated cheese that I think would not be very tasty.  The second recipe appears to be for a soup with veggie strips.  Neither recipe gives amounts or much direction.  In comparison, the Annie Chun's package gives clear, specific directions on rice noodle preparation and two recipes.<br /><br />I use rice noodles = maifun = rice sticks = sometimes called vermicelli for making the Vietnamese salad \"\"bun tofu\"\", to serve with stir-fried veggies or in lettuce rolls.  They can also be used in spring rolls/egg rolls.  When cooking with thin rice noodles, be careful not to oversoak/overcook/overmix or they tend to disintegrate.  Asian rice noodle vermicelli (maifun) are not the same as Italian vermicelli and are not readily interchangeable.  If making an Italian recipe, the best results would be expected from Italian pasta and not maifun.<br /><br />A few final notes...  Both Peacock and Annie Chun's brown rice noodles are gluten free.  The Peacock is made in Singapore and the Annie Chun's in Thailand.  The Peacock noodles do taste fine (kind of bland), but so do the Annie Chun's.  At this time, they are both approximately the same price.  Peacock come in an plastic bag with some noodle crushage upon shipping; Annie Chun's are perfect upon removal from their cellophane bag in a box.  Overall, I highly recommend the Annie Chun's Maifun as a healthier option over the Peacock brand.  On a related note, the Annie Chun's soba and brown rice pad thai noodles are also excellent.<br /><br />Rating for this product: 2.5 stars rounded down to</td><td style=\"text-align: right;\">               0</td></tr>\n",
       "<tr><td>B001R3BQFW </td><td>AM50E42AFUVNL </td><td>Taste great.                          </td><td style=\"text-align: right;\">      5</td><td style=\"text-align: right;\">                       0</td><td style=\"text-align: right;\">126555</td><td>T. Higley \"\"Tina                                </td><td style=\"text-align: right;\">                     0</td><td style=\"text-align: right;\">1.32356e+09</td><td>I have tried many different drink mix, this is the best tasting by far. It does not have the after taste of the sweetener and I really like it, it is pretty strong, so I use a big water bottle (20 oz) for one tube, it still a little stronger than I like, but it is just my taste.                                                                                                                                                                                                                                                                                                                                                                                                                                                                                                                                                                                                                                                                                                                                                                                                                                                                                                                                                                                                                                                                                                                                                                                                                                                                                                                                                                                                                                                                                                                                                                                                                                                                                                                                                                                                                                                                                                                                                                                                                                                                                                                                                                                                                                                                                                                                                                                                                                                                                                                                                                                                                                                                                                                                                                                                                                                                                                                                                                    </td><td style=\"text-align: right;\">               1</td></tr>\n",
       "<tr><td>B005HGAV8I </td><td>A2I5KDNOESGJ1H</td><td>variety galore                        </td><td style=\"text-align: right;\">      5</td><td style=\"text-align: right;\">                       1</td><td style=\"text-align: right;\">438837</td><td>TJ                                              </td><td style=\"text-align: right;\">                     1</td><td style=\"text-align: right;\">1.33402e+09</td><td>This is my favorite item to order for my Keurig. There are so many flavors, my finicky palate never gets bored!  The only downside is there are probably 5-6 decaf varieties.  I don't drink decaf (I REQUIRE copious amounts of caffeine), so they sit on the shelf...                                                                                                                                                                                                                                                                                                                                                                                                                                                                                                                                                                                                                                                                                                                                                                                                                                                                                                                                                                                                                                                                                                                                                                                                                                                                                                                                                                                                                                                                                                                                                                                                                                                                                                                                                                                                                                                                                                                                                                                                                                                                                                                                                                                                                                                                                                                                                                                                                                                                                                                                                                                                                                                                                                                                                                                                                                                                                                                                                                                    </td><td style=\"text-align: right;\">               1</td></tr>\n",
       "<tr><td>B000GFYRHQ </td><td>A3A7YUR6FS6ZCI</td><td>Bigelow Earl Grey Green Tea           </td><td style=\"text-align: right;\">      5</td><td style=\"text-align: right;\">                       0</td><td style=\"text-align: right;\">245379</td><td>Tea Lover                                       </td><td style=\"text-align: right;\">                     0</td><td style=\"text-align: right;\">1.17841e+09</td><td>Tastes like Earl Grey, but it's green tea so it's healthier.                                                                                                                                                                                                                                                                                                                                                                                                                                                                                                                                                                                                                                                                                                                                                                                                                                                                                                                                                                                                                                                                                                                                                                                                                                                                                                                                                                                                                                                                                                                                                                                                                                                                                                                                                                                                                                                                                                                                                                                                                                                                                                                                                                                                                                                                                                                                                                                                                                                                                                                                                                                                                                                                                                                                                                                                                                                                                                                                                                                                                                                                                                                                                                                               </td><td style=\"text-align: right;\">               1</td></tr>\n",
       "</tbody>\n",
       "</table>"
      ]
     },
     "metadata": {},
     "output_type": "display_data"
    },
    {
     "data": {
      "text/plain": []
     },
     "execution_count": 5,
     "metadata": {},
     "output_type": "execute_result"
    }
   ],
   "source": [
    "reviews.head()"
   ]
  },
  {
   "cell_type": "code",
   "execution_count": 6,
   "metadata": {
    "collapsed": false
   },
   "outputs": [
    {
     "data": {
      "text/html": [
       "<table>\n",
       "<thead>\n",
       "<tr><th style=\"text-align: right;\">  PositiveReview</th><th style=\"text-align: right;\">  Count</th></tr>\n",
       "</thead>\n",
       "<tbody>\n",
       "<tr><td style=\"text-align: right;\">               0</td><td style=\"text-align: right;\">  21791</td></tr>\n",
       "<tr><td style=\"text-align: right;\">               1</td><td style=\"text-align: right;\">  78209</td></tr>\n",
       "</tbody>\n",
       "</table>"
      ]
     },
     "metadata": {},
     "output_type": "display_data"
    },
    {
     "data": {
      "text/plain": []
     },
     "execution_count": 6,
     "metadata": {},
     "output_type": "execute_result"
    }
   ],
   "source": [
    "reviews[\"PositiveReview\"].table()"
   ]
  },
  {
   "cell_type": "markdown",
   "metadata": {},
   "source": [
    "## Train Baseline Model\n",
    "\n",
    "We will start by training a baseline model that does not use the review and instead uses other attributes in our dataset."
   ]
  },
  {
   "cell_type": "code",
   "execution_count": 7,
   "metadata": {
    "collapsed": true
   },
   "outputs": [],
   "source": [
    "# Find the 80th quantile of time in the dataset\n",
    "time_split = reviews[\"Time\"].quantile(prob = [0.8])[1]\n",
    "reviews[\"Train\"] = (reviews[\"Time\"] < time_split).ifelse(\"Yes\", \"No\")"
   ]
  },
  {
   "cell_type": "code",
   "execution_count": 8,
   "metadata": {
    "collapsed": true
   },
   "outputs": [],
   "source": [
    "train = reviews[reviews[\"Train\"] == \"Yes\"]\n",
    "test = reviews[reviews[\"Train\"] == \"No\"]"
   ]
  },
  {
   "cell_type": "code",
   "execution_count": 9,
   "metadata": {
    "collapsed": false
   },
   "outputs": [
    {
     "name": "stdout",
     "output_type": "stream",
     "text": [
      "gbm Model Build progress: |███████████████████████████████████████████████| 100%\n"
     ]
    }
   ],
   "source": [
    "from h2o.estimators import H2OGradientBoostingEstimator\n",
    "\n",
    "predictors = ['ProductId', 'UserId', 'HelpfulnessNumerator', 'HelpfulnessDenominator', 'Time']\n",
    "response = 'PositiveReview'\n",
    "\n",
    "gbm_baseline = H2OGradientBoostingEstimator(stopping_metric = \"AUC\", stopping_tolerance = 0.001,\n",
    "                                            stopping_rounds = 5, score_tree_interval = 10,\n",
    "                                            model_id = \"gbm_baseline.hex\"\n",
    "                                           )\n",
    "gbm_baseline.train(x = predictors, y = response, \n",
    "                   training_frame = train, validation_frame = test\n",
    "                  )"
   ]
  },
  {
   "cell_type": "code",
   "execution_count": 10,
   "metadata": {
    "collapsed": false
   },
   "outputs": [
    {
     "name": "stdout",
     "output_type": "stream",
     "text": [
      "AUC on Validation Data: 0.616\n"
     ]
    }
   ],
   "source": [
    "print(\"AUC on Validation Data: \" + str(round(gbm_baseline.auc(valid = True), 3)))"
   ]
  },
  {
   "cell_type": "markdown",
   "metadata": {},
   "source": [
    "We can see that there is a big room for improvement.  Our error is 22%.  To improve our model, we will train word embeddings for the review."
   ]
  },
  {
   "cell_type": "code",
   "execution_count": 11,
   "metadata": {
    "collapsed": false
   },
   "outputs": [
    {
     "name": "stdout",
     "output_type": "stream",
     "text": [
      "Confusion Matrix (Act/Pred) for max f1 @ threshold = 0.459316258112: \n"
     ]
    },
    {
     "data": {
      "text/html": [
       "<div style=\"overflow:auto\"><table style=\"width:50%\"><tr><td><b></b></td>\n",
       "<td><b>0</b></td>\n",
       "<td><b>1</b></td>\n",
       "<td><b>Error</b></td>\n",
       "<td><b>Rate</b></td></tr>\n",
       "<tr><td>0</td>\n",
       "<td>384.0</td>\n",
       "<td>4276.0</td>\n",
       "<td>0.9176</td>\n",
       "<td> (4276.0/4660.0)</td></tr>\n",
       "<tr><td>1</td>\n",
       "<td>128.0</td>\n",
       "<td>15220.0</td>\n",
       "<td>0.0083</td>\n",
       "<td> (128.0/15348.0)</td></tr>\n",
       "<tr><td>Total</td>\n",
       "<td>512.0</td>\n",
       "<td>19496.0</td>\n",
       "<td>0.2201</td>\n",
       "<td> (4404.0/20008.0)</td></tr></table></div>"
      ],
      "text/plain": [
       "       0    1      Error    Rate\n",
       "-----  ---  -----  -------  ----------------\n",
       "0      384  4276   0.9176   (4276.0/4660.0)\n",
       "1      128  15220  0.0083   (128.0/15348.0)\n",
       "Total  512  19496  0.2201   (4404.0/20008.0)"
      ]
     },
     "metadata": {},
     "output_type": "display_data"
    },
    {
     "data": {
      "text/plain": []
     },
     "execution_count": 11,
     "metadata": {},
     "output_type": "execute_result"
    }
   ],
   "source": [
    "gbm_baseline.confusion_matrix(valid = True)"
   ]
  },
  {
   "cell_type": "markdown",
   "metadata": {},
   "source": [
    "The variable importance plot below shows us that the most important variable is `HelpfulnessNumerator`.  Looking at the partial dependency plot for that variable, we see that the more people who find the review helpful, the more likely it is a good review."
   ]
  },
  {
   "cell_type": "code",
   "execution_count": 12,
   "metadata": {
    "collapsed": false
   },
   "outputs": [
    {
     "data": {
      "image/png": "[encoded data removed]",
      "text/plain": [
       "<matplotlib.figure.Figure at 0x116587b50>"
      ]
     },
     "metadata": {},
     "output_type": "display_data"
    }
   ],
   "source": [
    "gbm_baseline.varimp_plot()"
   ]
  },
  {
   "cell_type": "code",
   "execution_count": 13,
   "metadata": {
    "collapsed": false
   },
   "outputs": [
    {
     "name": "stdout",
     "output_type": "stream",
     "text": [
      "PartialDependencePlot progress: |█████████████████████████████████████████| 100%\n"
     ]
    },
    {
     "data": {
      "image/png": "[encoded data removed]",
      "text/plain": [
       "<matplotlib.figure.Figure at 0x103685f90>"
      ]
     },
     "metadata": {},
     "output_type": "display_data"
    }
   ],
   "source": [
    "%matplotlib inline  \n",
    "pdp_helpfulness = gbm_baseline.partial_plot(train, cols = [\"HelpfulnessNumerator\"])"
   ]
  },
  {
   "cell_type": "markdown",
   "metadata": {},
   "source": [
    "## Tokenize Words in Review\n",
    "\n",
    "Our first step will be to tokenize the words in the review column. We will do this by creating a function called `tokenize`.  This will split the reviews into words and remove any stop words, small words, or words with numbers in them."
   ]
  },
  {
   "cell_type": "code",
   "execution_count": 14,
   "metadata": {
    "collapsed": true
   },
   "outputs": [],
   "source": [
    "# Set Stop Words\n",
    "# The STOP WORDS we are importing are from the nltk package\n",
    "import pandas as pd\n",
    "import os\n",
    "\n",
    "# Use local data file or download from GitHub\n",
    "docker_data_path = \"/home/h2o/data/nlp/stopwords.csv\"\n",
    "if os.path.isfile(docker_data_path):\n",
    "  data_path = docker_data_path\n",
    "else:\n",
    "  data_path = \"https://raw.githubusercontent.com/h2oai/h2o-tutorials/master/h2o-world-2017/nlp/stopwords.csv\"\n",
    "\n",
    "STOP_WORDS = pd.read_csv(data_path, header=0)\n",
    "STOP_WORDS = list(STOP_WORDS['STOP_WORD'])"
   ]
  },
  {
   "cell_type": "code",
   "execution_count": 15,
   "metadata": {
    "collapsed": true
   },
   "outputs": [],
   "source": [
    "def tokenize(sentences, stop_word = STOP_WORDS):\n",
    "    tokenized = sentences.tokenize(\"\\\\W+\")\n",
    "    tokenized_lower = tokenized.tolower()\n",
    "    tokenized_filtered = tokenized_lower[(tokenized_lower.nchar() >= 2) | (tokenized_lower.isna()),:]\n",
    "    tokenized_words = tokenized_filtered[tokenized_filtered.grep(\"[0-9]\",invert=True,output_logical=True),:]\n",
    "    tokenized_words = tokenized_words[(tokenized_words.isna()) | (~ tokenized_words.isin(STOP_WORDS)),:]\n",
    "    return tokenized_words"
   ]
  },
  {
   "cell_type": "code",
   "execution_count": 16,
   "metadata": {
    "collapsed": true
   },
   "outputs": [],
   "source": [
    "# Break reviews into sequence of words\n",
    "words = tokenize(reviews[\"Text\"])"
   ]
  },
  {
   "cell_type": "code",
   "execution_count": 17,
   "metadata": {
    "collapsed": false
   },
   "outputs": [
    {
     "data": {
      "text/html": [
       "<table>\n",
       "<thead>\n",
       "<tr><th>C1       </th></tr>\n",
       "</thead>\n",
       "<tbody>\n",
       "<tr><td>made     </td></tr>\n",
       "<tr><td>china    </td></tr>\n",
       "<tr><td>buy      </td></tr>\n",
       "<tr><td>pet      </td></tr>\n",
       "<tr><td>food     </td></tr>\n",
       "<tr><td>china    </td></tr>\n",
       "<tr><td>dogswell </td></tr>\n",
       "<tr><td>using    </td></tr>\n",
       "<tr><td>propylene</td></tr>\n",
       "<tr><td>glycol   </td></tr>\n",
       "</tbody>\n",
       "</table>"
      ]
     },
     "metadata": {},
     "output_type": "display_data"
    },
    {
     "data": {
      "text/plain": []
     },
     "execution_count": 17,
     "metadata": {},
     "output_type": "execute_result"
    }
   ],
   "source": [
    "words.head()"
   ]
  },
  {
   "cell_type": "markdown",
   "metadata": {},
   "source": [
    "## Train Word2Vec Model\n",
    "\n",
    "Now that we've tokenized our words, we can train a word2vec model.  We can use the `find_synonms` function to sanity check our word2vec model after training."
   ]
  },
  {
   "cell_type": "code",
   "execution_count": 18,
   "metadata": {
    "collapsed": false
   },
   "outputs": [],
   "source": [
    "# Train Word2Vec Model\n",
    "from h2o.estimators.word2vec import H2OWord2vecEstimator\n",
    "\n",
    "# This takes time to run - left commented out\n",
    "#w2v_model = H2OWord2vecEstimator(vec_size = 100, model_id = \"w2v.hex\")\n",
    "#w2v_model.train(training_frame=words)\n",
    "\n",
    "# Pre-trained model available on s3: https://s3.amazonaws.com/tomk/h2o-world/megan/w2v.hex\n",
    "w2v_model = h2o.load_model(\"/home/h2o/data/megan/w2v.hex\")"
   ]
  },
  {
   "cell_type": "code",
   "execution_count": 19,
   "metadata": {
    "collapsed": false
   },
   "outputs": [
    {
     "data": {
      "text/plain": [
       "OrderedDict([(u'coffe', 0.8426127433776855),\n",
       "             (u'coffees', 0.7995628714561462),\n",
       "             (u'starbucks', 0.7715724110603333),\n",
       "             (u'espresso', 0.7529839873313904),\n",
       "             (u'expresso', 0.7438507080078125)])"
      ]
     },
     "execution_count": 19,
     "metadata": {},
     "output_type": "execute_result"
    }
   ],
   "source": [
    "# Sanity check - find synonyms for the word 'coffee'\n",
    "w2v_model.find_synonyms(\"coffee\", count = 5)"
   ]
  },
  {
   "cell_type": "code",
   "execution_count": 20,
   "metadata": {
    "collapsed": false
   },
   "outputs": [
    {
     "data": {
      "text/plain": [
       "OrderedDict([(u'rancid', 0.6790934801101685),\n",
       "             (u'unedible', 0.6622459888458252),\n",
       "             (u'moldy', 0.6498295664787292),\n",
       "             (u'expired', 0.6377609968185425),\n",
       "             (u'experation', 0.6255136132240295)])"
      ]
     },
     "execution_count": 20,
     "metadata": {},
     "output_type": "execute_result"
    }
   ],
   "source": [
    "# Sanity check - find synonyms for the word 'stale'\n",
    "w2v_model.find_synonyms(\"stale\", count = 5)"
   ]
  },
  {
   "cell_type": "markdown",
   "metadata": {},
   "source": [
    "Now that we have a word embedding for each word in our vocabulary, we will aggregate the words for each review using the `transform` function.  This will give us one aggregated word embedding for each review."
   ]
  },
  {
   "cell_type": "code",
   "execution_count": 21,
   "metadata": {
    "collapsed": true
   },
   "outputs": [],
   "source": [
    "# Calculate a vector for each review\n",
    "review_vecs = w2v_model.transform(words, aggregate_method = \"AVERAGE\")"
   ]
  },
  {
   "cell_type": "code",
   "execution_count": 22,
   "metadata": {
    "collapsed": false
   },
   "outputs": [
    {
     "data": {
      "text/html": [
       "<table>\n",
       "<thead>\n",
       "<tr><th style=\"text-align: right;\">        C1</th><th style=\"text-align: right;\">        C2</th><th style=\"text-align: right;\">        C3</th><th style=\"text-align: right;\">        C4</th><th style=\"text-align: right;\">       C5</th><th style=\"text-align: right;\">         C6</th><th style=\"text-align: right;\">        C7</th><th style=\"text-align: right;\">        C8</th><th style=\"text-align: right;\">        C9</th><th style=\"text-align: right;\">        C10</th><th style=\"text-align: right;\">       C11</th><th style=\"text-align: right;\">       C12</th><th style=\"text-align: right;\">       C13</th><th style=\"text-align: right;\">        C14</th><th style=\"text-align: right;\">       C15</th><th style=\"text-align: right;\">       C16</th><th style=\"text-align: right;\">        C17</th><th style=\"text-align: right;\">       C18</th><th style=\"text-align: right;\">     C19</th><th style=\"text-align: right;\">       C20</th><th style=\"text-align: right;\">         C21</th><th style=\"text-align: right;\">       C22</th><th style=\"text-align: right;\">      C23</th><th style=\"text-align: right;\">        C24</th><th style=\"text-align: right;\">       C25</th><th style=\"text-align: right;\">        C26</th><th style=\"text-align: right;\">        C27</th><th style=\"text-align: right;\">        C28</th><th style=\"text-align: right;\">        C29</th><th style=\"text-align: right;\">         C30</th><th style=\"text-align: right;\">         C31</th><th style=\"text-align: right;\">         C32</th><th style=\"text-align: right;\">        C33</th><th style=\"text-align: right;\">       C34</th><th style=\"text-align: right;\">       C35</th><th style=\"text-align: right;\">        C36</th><th style=\"text-align: right;\">        C37</th><th style=\"text-align: right;\">       C38</th><th style=\"text-align: right;\">       C39</th><th style=\"text-align: right;\">       C40</th><th style=\"text-align: right;\">       C41</th><th style=\"text-align: right;\">       C42</th><th style=\"text-align: right;\">        C43</th><th style=\"text-align: right;\">        C44</th><th style=\"text-align: right;\">        C45</th><th style=\"text-align: right;\">        C46</th><th style=\"text-align: right;\">        C47</th><th style=\"text-align: right;\">       C48</th><th style=\"text-align: right;\">       C49</th><th style=\"text-align: right;\">       C50</th><th style=\"text-align: right;\">       C51</th><th style=\"text-align: right;\">         C52</th><th style=\"text-align: right;\">       C53</th><th style=\"text-align: right;\">        C54</th><th style=\"text-align: right;\">       C55</th><th style=\"text-align: right;\">      C56</th><th style=\"text-align: right;\">        C57</th><th style=\"text-align: right;\">       C58</th><th style=\"text-align: right;\">      C59</th><th style=\"text-align: right;\">        C60</th><th style=\"text-align: right;\">       C61</th><th style=\"text-align: right;\">        C62</th><th style=\"text-align: right;\">        C63</th><th style=\"text-align: right;\">        C64</th><th style=\"text-align: right;\">       C65</th><th style=\"text-align: right;\">       C66</th><th style=\"text-align: right;\">       C67</th><th style=\"text-align: right;\">        C68</th><th style=\"text-align: right;\">        C69</th><th style=\"text-align: right;\">       C70</th><th style=\"text-align: right;\">       C71</th><th style=\"text-align: right;\">       C72</th><th style=\"text-align: right;\">         C73</th><th style=\"text-align: right;\">         C74</th><th style=\"text-align: right;\">      C75</th><th style=\"text-align: right;\">       C76</th><th style=\"text-align: right;\">      C77</th><th style=\"text-align: right;\">       C78</th><th style=\"text-align: right;\">       C79</th><th style=\"text-align: right;\">        C80</th><th style=\"text-align: right;\">        C81</th><th style=\"text-align: right;\">        C82</th><th style=\"text-align: right;\">        C83</th><th style=\"text-align: right;\">      C84</th><th style=\"text-align: right;\">       C85</th><th style=\"text-align: right;\">        C86</th><th style=\"text-align: right;\">        C87</th><th style=\"text-align: right;\">       C88</th><th style=\"text-align: right;\">         C89</th><th style=\"text-align: right;\">        C90</th><th style=\"text-align: right;\">       C91</th><th style=\"text-align: right;\">        C92</th><th style=\"text-align: right;\">         C93</th><th style=\"text-align: right;\">        C94</th><th style=\"text-align: right;\">       C95</th><th style=\"text-align: right;\">       C96</th><th style=\"text-align: right;\">       C97</th><th style=\"text-align: right;\">        C98</th><th style=\"text-align: right;\">        C99</th><th style=\"text-align: right;\">     C100</th></tr>\n",
       "</thead>\n",
       "<tbody>\n",
       "<tr><td style=\"text-align: right;\">-0.104777 </td><td style=\"text-align: right;\">-0.0893138</td><td style=\"text-align: right;\">-0.0387239</td><td style=\"text-align: right;\">-0.108717 </td><td style=\"text-align: right;\">0.099523 </td><td style=\"text-align: right;\"> 0.03715   </td><td style=\"text-align: right;\"> 0.0624399</td><td style=\"text-align: right;\">-0.0641551</td><td style=\"text-align: right;\">-0.149306 </td><td style=\"text-align: right;\">-0.126409  </td><td style=\"text-align: right;\">-0.0721444</td><td style=\"text-align: right;\">-0.038156 </td><td style=\"text-align: right;\"> 0.116455 </td><td style=\"text-align: right;\">-0.0265259 </td><td style=\"text-align: right;\">-0.0956882</td><td style=\"text-align: right;\">-0.180707 </td><td style=\"text-align: right;\"> 0.0698114 </td><td style=\"text-align: right;\">-0.0244181</td><td style=\"text-align: right;\">0.141046</td><td style=\"text-align: right;\">-0.203772 </td><td style=\"text-align: right;\"> 0.089841   </td><td style=\"text-align: right;\"> 0.0205382</td><td style=\"text-align: right;\">0.286284 </td><td style=\"text-align: right;\"> 0.0915401 </td><td style=\"text-align: right;\">-0.0542666</td><td style=\"text-align: right;\">-0.0843399 </td><td style=\"text-align: right;\">-0.00547226</td><td style=\"text-align: right;\"> 0.220826  </td><td style=\"text-align: right;\">-0.0782427 </td><td style=\"text-align: right;\"> 0.143206   </td><td style=\"text-align: right;\"> 0.000774583</td><td style=\"text-align: right;\"> 0.00692318 </td><td style=\"text-align: right;\"> 0.0707228 </td><td style=\"text-align: right;\">-0.117155 </td><td style=\"text-align: right;\"> 0.20262  </td><td style=\"text-align: right;\"> 0.0173408 </td><td style=\"text-align: right;\"> 0.0366745 </td><td style=\"text-align: right;\">-0.0570107</td><td style=\"text-align: right;\">-0.0389025</td><td style=\"text-align: right;\"> 0.169553 </td><td style=\"text-align: right;\">-0.138162 </td><td style=\"text-align: right;\">-0.0865503</td><td style=\"text-align: right;\">-0.176608  </td><td style=\"text-align: right;\"> 0.0379633 </td><td style=\"text-align: right;\">-0.00802229</td><td style=\"text-align: right;\">-0.168228  </td><td style=\"text-align: right;\">-0.114424  </td><td style=\"text-align: right;\">-0.136997 </td><td style=\"text-align: right;\">-0.0223337</td><td style=\"text-align: right;\"> 0.150667 </td><td style=\"text-align: right;\">-0.177291 </td><td style=\"text-align: right;\"> 0.000573545</td><td style=\"text-align: right;\"> 0.0569629</td><td style=\"text-align: right;\">-0.0718814 </td><td style=\"text-align: right;\"> 0.0904361</td><td style=\"text-align: right;\">0.0910994</td><td style=\"text-align: right;\">-0.0899616 </td><td style=\"text-align: right;\">-0.0462784</td><td style=\"text-align: right;\">0.0711335</td><td style=\"text-align: right;\"> 0.26617   </td><td style=\"text-align: right;\">-0.0549781</td><td style=\"text-align: right;\">-0.0361706 </td><td style=\"text-align: right;\">-0.142266  </td><td style=\"text-align: right;\">-0.0018269 </td><td style=\"text-align: right;\">-0.0883591</td><td style=\"text-align: right;\">-0.0431854</td><td style=\"text-align: right;\">-0.19092  </td><td style=\"text-align: right;\"> 0.094706  </td><td style=\"text-align: right;\">-0.0546188 </td><td style=\"text-align: right;\"> 0.0716453</td><td style=\"text-align: right;\">-0.0616045</td><td style=\"text-align: right;\"> 0.236506 </td><td style=\"text-align: right;\">-0.000376177</td><td style=\"text-align: right;\">-0.016742   </td><td style=\"text-align: right;\">0.0376703</td><td style=\"text-align: right;\">-0.173074 </td><td style=\"text-align: right;\">0.0474426</td><td style=\"text-align: right;\"> 0.15021  </td><td style=\"text-align: right;\"> 0.0127241</td><td style=\"text-align: right;\">-0.0406291 </td><td style=\"text-align: right;\"> 0.0514672 </td><td style=\"text-align: right;\">-0.104053  </td><td style=\"text-align: right;\"> 0.0699488 </td><td style=\"text-align: right;\">0.0867302</td><td style=\"text-align: right;\">-0.0473722</td><td style=\"text-align: right;\"> 0.0444304 </td><td style=\"text-align: right;\">-0.0635966 </td><td style=\"text-align: right;\">-0.115021 </td><td style=\"text-align: right;\"> 0.0436944  </td><td style=\"text-align: right;\">-0.00760587</td><td style=\"text-align: right;\"> 0.109057 </td><td style=\"text-align: right;\"> 0.179448  </td><td style=\"text-align: right;\">-0.0137882  </td><td style=\"text-align: right;\"> 0.0239373 </td><td style=\"text-align: right;\">-0.0461031</td><td style=\"text-align: right;\">-0.102609 </td><td style=\"text-align: right;\">-0.0214486</td><td style=\"text-align: right;\">-0.129548  </td><td style=\"text-align: right;\">-0.0294118 </td><td style=\"text-align: right;\">-0.209036</td></tr>\n",
       "<tr><td style=\"text-align: right;\">-0.150943 </td><td style=\"text-align: right;\">-0.18015  </td><td style=\"text-align: right;\"> 0.0778386</td><td style=\"text-align: right;\"> 0.0872104</td><td style=\"text-align: right;\">0.0563445</td><td style=\"text-align: right;\">-0.24971   </td><td style=\"text-align: right;\"> 0.0175048</td><td style=\"text-align: right;\"> 0.0280696</td><td style=\"text-align: right;\">-0.145466 </td><td style=\"text-align: right;\">-0.135046  </td><td style=\"text-align: right;\">-0.0253416</td><td style=\"text-align: right;\">-0.121022 </td><td style=\"text-align: right;\"> 0.0212608</td><td style=\"text-align: right;\">-0.0836051 </td><td style=\"text-align: right;\">-0.0258977</td><td style=\"text-align: right;\">-0.186726 </td><td style=\"text-align: right;\"> 0.0887503 </td><td style=\"text-align: right;\"> 0.092384 </td><td style=\"text-align: right;\">0.190242</td><td style=\"text-align: right;\"> 0.184348 </td><td style=\"text-align: right;\"> 0.00708532 </td><td style=\"text-align: right;\"> 0.0642552</td><td style=\"text-align: right;\">0.0441702</td><td style=\"text-align: right;\">-0.00202942</td><td style=\"text-align: right;\"> 0.0220385</td><td style=\"text-align: right;\">-0.00437946</td><td style=\"text-align: right;\">-0.0803709 </td><td style=\"text-align: right;\"> 0.122429  </td><td style=\"text-align: right;\">-0.101544  </td><td style=\"text-align: right;\">-0.0196541  </td><td style=\"text-align: right;\">-0.0171053  </td><td style=\"text-align: right;\">-0.105091   </td><td style=\"text-align: right;\"> 0.0395368 </td><td style=\"text-align: right;\">-0.0367961</td><td style=\"text-align: right;\"> 0.0533833</td><td style=\"text-align: right;\">-0.00683283</td><td style=\"text-align: right;\">-0.0268374 </td><td style=\"text-align: right;\">-0.128483 </td><td style=\"text-align: right;\"> 0.0172005</td><td style=\"text-align: right;\">-0.154467 </td><td style=\"text-align: right;\">-0.270173 </td><td style=\"text-align: right;\">-0.0830348</td><td style=\"text-align: right;\">-0.137496  </td><td style=\"text-align: right;\">-0.0550283 </td><td style=\"text-align: right;\">-0.0101595 </td><td style=\"text-align: right;\">-0.012558  </td><td style=\"text-align: right;\"> 0.00959401</td><td style=\"text-align: right;\">-0.214333 </td><td style=\"text-align: right;\">-0.0928339</td><td style=\"text-align: right;\">-0.0827343</td><td style=\"text-align: right;\">-0.0985919</td><td style=\"text-align: right;\"> 0.0518963  </td><td style=\"text-align: right;\"> 0.0749577</td><td style=\"text-align: right;\"> 0.150248  </td><td style=\"text-align: right;\"> 0.0510552</td><td style=\"text-align: right;\">0.188824 </td><td style=\"text-align: right;\">-0.00526999</td><td style=\"text-align: right;\"> 0.0881286</td><td style=\"text-align: right;\">0.153188 </td><td style=\"text-align: right;\"> 0.0382074 </td><td style=\"text-align: right;\">-0.0933986</td><td style=\"text-align: right;\">-0.032291  </td><td style=\"text-align: right;\"> 0.0610677 </td><td style=\"text-align: right;\"> 0.0871974 </td><td style=\"text-align: right;\">-0.0214434</td><td style=\"text-align: right;\">-0.155718 </td><td style=\"text-align: right;\">-0.134393 </td><td style=\"text-align: right;\"> 0.0726165 </td><td style=\"text-align: right;\">-0.121445  </td><td style=\"text-align: right;\"> 0.0336814</td><td style=\"text-align: right;\">-0.0385515</td><td style=\"text-align: right;\"> 0.0968749</td><td style=\"text-align: right;\"> 0.0911647  </td><td style=\"text-align: right;\">-0.0175451  </td><td style=\"text-align: right;\">0.196648 </td><td style=\"text-align: right;\">-0.118069 </td><td style=\"text-align: right;\">0.14769  </td><td style=\"text-align: right;\"> 0.174018 </td><td style=\"text-align: right;\"> 0.176979 </td><td style=\"text-align: right;\">-0.00566942</td><td style=\"text-align: right;\"> 0.0909446 </td><td style=\"text-align: right;\">-0.0588353 </td><td style=\"text-align: right;\">-0.00699213</td><td style=\"text-align: right;\">0.121181 </td><td style=\"text-align: right;\">-0.0203108</td><td style=\"text-align: right;\">-0.00200737</td><td style=\"text-align: right;\">-0.00281995</td><td style=\"text-align: right;\">-0.165172 </td><td style=\"text-align: right;\">-0.0193035  </td><td style=\"text-align: right;\">-0.0236158 </td><td style=\"text-align: right;\"> 0.156242 </td><td style=\"text-align: right;\">-0.0956303 </td><td style=\"text-align: right;\">-0.0634159  </td><td style=\"text-align: right;\"> 0.00229758</td><td style=\"text-align: right;\"> 0.0288154</td><td style=\"text-align: right;\">-0.0148597</td><td style=\"text-align: right;\"> 0.0351692</td><td style=\"text-align: right;\"> 0.0786452 </td><td style=\"text-align: right;\">-0.0978148 </td><td style=\"text-align: right;\">-0.214739</td></tr>\n",
       "<tr><td style=\"text-align: right;\">-0.0784339</td><td style=\"text-align: right;\">-0.177443 </td><td style=\"text-align: right;\"> 0.142632 </td><td style=\"text-align: right;\">-0.0650279</td><td style=\"text-align: right;\">0.0404134</td><td style=\"text-align: right;\">-0.125338  </td><td style=\"text-align: right;\"> 0.0700381</td><td style=\"text-align: right;\">-0.0735972</td><td style=\"text-align: right;\">-0.107172 </td><td style=\"text-align: right;\">-0.00103557</td><td style=\"text-align: right;\">-0.0938815</td><td style=\"text-align: right;\">-0.0259808</td><td style=\"text-align: right;\">-0.0738917</td><td style=\"text-align: right;\">-0.0284076 </td><td style=\"text-align: right;\">-0.168088 </td><td style=\"text-align: right;\">-0.0821494</td><td style=\"text-align: right;\">-0.0301608 </td><td style=\"text-align: right;\">-0.0434049</td><td style=\"text-align: right;\">0.147666</td><td style=\"text-align: right;\">-0.106854 </td><td style=\"text-align: right;\">-0.0290663  </td><td style=\"text-align: right;\"> 0.0301064</td><td style=\"text-align: right;\">0.296466 </td><td style=\"text-align: right;\">-0.0221055 </td><td style=\"text-align: right;\">-0.0097013</td><td style=\"text-align: right;\">-0.0430679 </td><td style=\"text-align: right;\"> 0.0405026 </td><td style=\"text-align: right;\"> 0.0911821 </td><td style=\"text-align: right;\">-0.0533509 </td><td style=\"text-align: right;\"> 0.132035   </td><td style=\"text-align: right;\"> 0.0559074  </td><td style=\"text-align: right;\">-0.0556636  </td><td style=\"text-align: right;\">-0.0278374 </td><td style=\"text-align: right;\">-0.0757753</td><td style=\"text-align: right;\"> 0.0602816</td><td style=\"text-align: right;\">-0.0362208 </td><td style=\"text-align: right;\">-0.0349378 </td><td style=\"text-align: right;\">-0.118651 </td><td style=\"text-align: right;\"> 0.0400976</td><td style=\"text-align: right;\"> 0.0448786</td><td style=\"text-align: right;\">-0.177866 </td><td style=\"text-align: right;\">-0.0899878</td><td style=\"text-align: right;\"> 0.0200344 </td><td style=\"text-align: right;\"> 0.0137393 </td><td style=\"text-align: right;\">-0.055251  </td><td style=\"text-align: right;\"> 0.00808215</td><td style=\"text-align: right;\">-0.244367  </td><td style=\"text-align: right;\">-0.0610968</td><td style=\"text-align: right;\"> 0.114113 </td><td style=\"text-align: right;\">-0.0938133</td><td style=\"text-align: right;\">-0.0838846</td><td style=\"text-align: right;\"> 0.086218   </td><td style=\"text-align: right;\"> 0.0763978</td><td style=\"text-align: right;\">-0.055101  </td><td style=\"text-align: right;\"> 0.161861 </td><td style=\"text-align: right;\">0.0677596</td><td style=\"text-align: right;\">-0.163391  </td><td style=\"text-align: right;\">-0.0369254</td><td style=\"text-align: right;\">0.161951 </td><td style=\"text-align: right;\"> 0.147807  </td><td style=\"text-align: right;\">-0.0508916</td><td style=\"text-align: right;\">-0.0593187 </td><td style=\"text-align: right;\"> 0.0267307 </td><td style=\"text-align: right;\"> 0.0513137 </td><td style=\"text-align: right;\">-0.0530928</td><td style=\"text-align: right;\">-0.150629 </td><td style=\"text-align: right;\">-0.114022 </td><td style=\"text-align: right;\">-0.0121485 </td><td style=\"text-align: right;\">-0.106058  </td><td style=\"text-align: right;\">-0.0341939</td><td style=\"text-align: right;\">-0.140576 </td><td style=\"text-align: right;\"> 0.0854251</td><td style=\"text-align: right;\"> 0.0648086  </td><td style=\"text-align: right;\"> 0.0184547  </td><td style=\"text-align: right;\">0.187935 </td><td style=\"text-align: right;\">-0.0841014</td><td style=\"text-align: right;\">0.0374503</td><td style=\"text-align: right;\"> 0.146254 </td><td style=\"text-align: right;\"> 0.024031 </td><td style=\"text-align: right;\">-0.14471   </td><td style=\"text-align: right;\">-0.0462424 </td><td style=\"text-align: right;\">-0.0357163 </td><td style=\"text-align: right;\"> 0.130185  </td><td style=\"text-align: right;\">0.137596 </td><td style=\"text-align: right;\"> 0.0922682</td><td style=\"text-align: right;\"> 0.00303045</td><td style=\"text-align: right;\">-0.0148133 </td><td style=\"text-align: right;\">-0.0671439</td><td style=\"text-align: right;\">-0.131944   </td><td style=\"text-align: right;\">-0.0581845 </td><td style=\"text-align: right;\"> 0.177339 </td><td style=\"text-align: right;\">-0.0196272 </td><td style=\"text-align: right;\">-0.0119319  </td><td style=\"text-align: right;\"> 0.0924081 </td><td style=\"text-align: right;\">-0.0405273</td><td style=\"text-align: right;\">-0.153547 </td><td style=\"text-align: right;\">-0.0561063</td><td style=\"text-align: right;\">-0.013661  </td><td style=\"text-align: right;\"> 0.0313455 </td><td style=\"text-align: right;\">-0.173018</td></tr>\n",
       "<tr><td style=\"text-align: right;\"> 0.0207442</td><td style=\"text-align: right;\">-0.121042 </td><td style=\"text-align: right;\"> 0.205818 </td><td style=\"text-align: right;\"> 0.0271886</td><td style=\"text-align: right;\">0.131417 </td><td style=\"text-align: right;\"> 0.00648422</td><td style=\"text-align: right;\"> 0.0235201</td><td style=\"text-align: right;\"> 0.0599329</td><td style=\"text-align: right;\">-0.0792963</td><td style=\"text-align: right;\">-0.033467  </td><td style=\"text-align: right;\">-0.0964103</td><td style=\"text-align: right;\">-0.122847 </td><td style=\"text-align: right;\">-0.0147825</td><td style=\"text-align: right;\">-0.0390897 </td><td style=\"text-align: right;\">-0.209295 </td><td style=\"text-align: right;\">-0.18769  </td><td style=\"text-align: right;\">-0.0368012 </td><td style=\"text-align: right;\"> 0.079366 </td><td style=\"text-align: right;\">0.193885</td><td style=\"text-align: right;\"> 0.0612297</td><td style=\"text-align: right;\">-0.0492691  </td><td style=\"text-align: right;\"> 0.17026  </td><td style=\"text-align: right;\">0.187284 </td><td style=\"text-align: right;\"> 0.0582825 </td><td style=\"text-align: right;\">-0.0580818</td><td style=\"text-align: right;\">-0.0415637 </td><td style=\"text-align: right;\">-0.0146321 </td><td style=\"text-align: right;\"> 0.108514  </td><td style=\"text-align: right;\"> 0.0676035 </td><td style=\"text-align: right;\"> 0.136187   </td><td style=\"text-align: right;\"> 0.032809   </td><td style=\"text-align: right;\"> 0.0304932  </td><td style=\"text-align: right;\"> 0.0228237 </td><td style=\"text-align: right;\"> 0.0245993</td><td style=\"text-align: right;\"> 0.0379505</td><td style=\"text-align: right;\">-0.119352  </td><td style=\"text-align: right;\"> 0.0148827 </td><td style=\"text-align: right;\">-0.0845919</td><td style=\"text-align: right;\"> 0.142099 </td><td style=\"text-align: right;\">-0.0774023</td><td style=\"text-align: right;\">-0.135862 </td><td style=\"text-align: right;\">-0.110586 </td><td style=\"text-align: right;\">-0.0503919 </td><td style=\"text-align: right;\"> 0.035325  </td><td style=\"text-align: right;\">-0.0402904 </td><td style=\"text-align: right;\">-0.0338926 </td><td style=\"text-align: right;\">-0.199188  </td><td style=\"text-align: right;\">-0.0637347</td><td style=\"text-align: right;\"> 0.0351021</td><td style=\"text-align: right;\">-0.071915 </td><td style=\"text-align: right;\">-0.134324 </td><td style=\"text-align: right;\">-0.00396956 </td><td style=\"text-align: right;\"> 0.0429275</td><td style=\"text-align: right;\">-0.00365068</td><td style=\"text-align: right;\"> 0.188821 </td><td style=\"text-align: right;\">0.143321 </td><td style=\"text-align: right;\">-0.19803   </td><td style=\"text-align: right;\">-0.105554 </td><td style=\"text-align: right;\">0.0157162</td><td style=\"text-align: right;\"> 0.00800393</td><td style=\"text-align: right;\">-0.0189451</td><td style=\"text-align: right;\">-0.115075  </td><td style=\"text-align: right;\"> 0.0210362 </td><td style=\"text-align: right;\"> 0.127758  </td><td style=\"text-align: right;\">-0.143485 </td><td style=\"text-align: right;\">-0.181347 </td><td style=\"text-align: right;\">-0.08403  </td><td style=\"text-align: right;\">-0.0366014 </td><td style=\"text-align: right;\">-0.0730024 </td><td style=\"text-align: right;\"> 0.071158 </td><td style=\"text-align: right;\">-0.175502 </td><td style=\"text-align: right;\"> 0.163554 </td><td style=\"text-align: right;\"> 0.0369658  </td><td style=\"text-align: right;\"> 0.0145968  </td><td style=\"text-align: right;\">0.112552 </td><td style=\"text-align: right;\">-0.046148 </td><td style=\"text-align: right;\">0.0350732</td><td style=\"text-align: right;\"> 0.109729 </td><td style=\"text-align: right;\">-0.0259048</td><td style=\"text-align: right;\">-0.107765  </td><td style=\"text-align: right;\"> 0.0487584 </td><td style=\"text-align: right;\">-0.00650312</td><td style=\"text-align: right;\"> 0.0863861 </td><td style=\"text-align: right;\">0.107657 </td><td style=\"text-align: right;\"> 0.014315 </td><td style=\"text-align: right;\">-0.00369959</td><td style=\"text-align: right;\"> 0.0583035 </td><td style=\"text-align: right;\">-0.05895  </td><td style=\"text-align: right;\"> 0.0226024  </td><td style=\"text-align: right;\"> 0.0161003 </td><td style=\"text-align: right;\"> 0.0398932</td><td style=\"text-align: right;\"> 0.0669144 </td><td style=\"text-align: right;\">-0.0038533  </td><td style=\"text-align: right;\"> 0.0188122 </td><td style=\"text-align: right;\">-0.0172771</td><td style=\"text-align: right;\">-0.11414  </td><td style=\"text-align: right;\">-0.123933 </td><td style=\"text-align: right;\">-0.0714784 </td><td style=\"text-align: right;\">-0.0979761 </td><td style=\"text-align: right;\">-0.198314</td></tr>\n",
       "<tr><td style=\"text-align: right;\">-0.124295 </td><td style=\"text-align: right;\">-0.207359 </td><td style=\"text-align: right;\"> 0.0547896</td><td style=\"text-align: right;\">-0.0304305</td><td style=\"text-align: right;\">0.154015 </td><td style=\"text-align: right;\">-0.0205962 </td><td style=\"text-align: right;\"> 0.0842201</td><td style=\"text-align: right;\">-0.0706606</td><td style=\"text-align: right;\">-0.1647   </td><td style=\"text-align: right;\">-0.108152  </td><td style=\"text-align: right;\">-0.166922 </td><td style=\"text-align: right;\">-0.125771 </td><td style=\"text-align: right;\">-0.0260786</td><td style=\"text-align: right;\">-0.116414  </td><td style=\"text-align: right;\">-0.199608 </td><td style=\"text-align: right;\">-0.140634 </td><td style=\"text-align: right;\">-0.0916514 </td><td style=\"text-align: right;\"> 0.0494637</td><td style=\"text-align: right;\">0.169558</td><td style=\"text-align: right;\">-0.0861265</td><td style=\"text-align: right;\"> 0.0832132  </td><td style=\"text-align: right;\"> 0.0333396</td><td style=\"text-align: right;\">0.200909 </td><td style=\"text-align: right;\"> 0.0498794 </td><td style=\"text-align: right;\">-0.0240786</td><td style=\"text-align: right;\">-0.064085  </td><td style=\"text-align: right;\">-0.0565524 </td><td style=\"text-align: right;\"> 0.0912165 </td><td style=\"text-align: right;\">-0.00639987</td><td style=\"text-align: right;\"> 0.123293   </td><td style=\"text-align: right;\">-0.0445109  </td><td style=\"text-align: right;\">-0.00757608 </td><td style=\"text-align: right;\">-0.00151864</td><td style=\"text-align: right;\">-0.128118 </td><td style=\"text-align: right;\"> 0.124782 </td><td style=\"text-align: right;\"> 0.0386947 </td><td style=\"text-align: right;\"> 0.031987  </td><td style=\"text-align: right;\">-0.136752 </td><td style=\"text-align: right;\"> 0.0398239</td><td style=\"text-align: right;\"> 0.120508 </td><td style=\"text-align: right;\">-0.110199 </td><td style=\"text-align: right;\">-0.139788 </td><td style=\"text-align: right;\">-0.0994056 </td><td style=\"text-align: right;\"> 0.0862307 </td><td style=\"text-align: right;\">-0.0789786 </td><td style=\"text-align: right;\">-0.00783531</td><td style=\"text-align: right;\">-0.210449  </td><td style=\"text-align: right;\">-0.0842535</td><td style=\"text-align: right;\"> 0.0282057</td><td style=\"text-align: right;\">-0.0177935</td><td style=\"text-align: right;\">-0.0681635</td><td style=\"text-align: right;\"> 0.0802795  </td><td style=\"text-align: right;\"> 0.0914081</td><td style=\"text-align: right;\">-0.0484351 </td><td style=\"text-align: right;\"> 0.137631 </td><td style=\"text-align: right;\">0.0856186</td><td style=\"text-align: right;\">-0.00482426</td><td style=\"text-align: right;\">-0.0160471</td><td style=\"text-align: right;\">0.0915147</td><td style=\"text-align: right;\"> 0.161145  </td><td style=\"text-align: right;\">-0.0337171</td><td style=\"text-align: right;\">-0.0471576 </td><td style=\"text-align: right;\">-0.0049108 </td><td style=\"text-align: right;\"> 0.0588171 </td><td style=\"text-align: right;\">-0.110549 </td><td style=\"text-align: right;\">-0.10001  </td><td style=\"text-align: right;\">-0.148354 </td><td style=\"text-align: right;\"> 0.126402  </td><td style=\"text-align: right;\"> 0.0349634 </td><td style=\"text-align: right;\"> 0.123471 </td><td style=\"text-align: right;\">-0.12269  </td><td style=\"text-align: right;\"> 0.114756 </td><td style=\"text-align: right;\"> 0.0349392  </td><td style=\"text-align: right;\"> 0.0251235  </td><td style=\"text-align: right;\">0.0982317</td><td style=\"text-align: right;\">-0.0783563</td><td style=\"text-align: right;\">0.0864391</td><td style=\"text-align: right;\"> 0.163656 </td><td style=\"text-align: right;\">-0.0442912</td><td style=\"text-align: right;\">-0.132373  </td><td style=\"text-align: right;\"> 0.00547678</td><td style=\"text-align: right;\">-0.0919847 </td><td style=\"text-align: right;\"> 0.0815413 </td><td style=\"text-align: right;\">0.167716 </td><td style=\"text-align: right;\">-0.0377526</td><td style=\"text-align: right;\">-0.049083  </td><td style=\"text-align: right;\"> 0.026563  </td><td style=\"text-align: right;\">-0.165197 </td><td style=\"text-align: right;\"> 0.0392436  </td><td style=\"text-align: right;\">-0.00345092</td><td style=\"text-align: right;\"> 0.0228621</td><td style=\"text-align: right;\">-0.00681942</td><td style=\"text-align: right;\"> 0.0554516  </td><td style=\"text-align: right;\"> 0.0590008 </td><td style=\"text-align: right;\">-0.0512865</td><td style=\"text-align: right;\">-0.174769 </td><td style=\"text-align: right;\">-0.0755073</td><td style=\"text-align: right;\">-0.120474  </td><td style=\"text-align: right;\">-0.110672  </td><td style=\"text-align: right;\">-0.162697</td></tr>\n",
       "<tr><td style=\"text-align: right;\">-0.0497291</td><td style=\"text-align: right;\">-0.172739 </td><td style=\"text-align: right;\"> 0.0526745</td><td style=\"text-align: right;\">-0.142728 </td><td style=\"text-align: right;\">0.0208205</td><td style=\"text-align: right;\">-0.101139  </td><td style=\"text-align: right;\"> 0.143159 </td><td style=\"text-align: right;\">-0.0821187</td><td style=\"text-align: right;\">-0.179903 </td><td style=\"text-align: right;\">-0.135258  </td><td style=\"text-align: right;\">-0.146455 </td><td style=\"text-align: right;\">-0.0688982</td><td style=\"text-align: right;\">-0.0514576</td><td style=\"text-align: right;\">-0.0955344 </td><td style=\"text-align: right;\">-0.0173929</td><td style=\"text-align: right;\">-0.16224  </td><td style=\"text-align: right;\"> 0.0854388 </td><td style=\"text-align: right;\"> 0.012287 </td><td style=\"text-align: right;\">0.304265</td><td style=\"text-align: right;\"> 0.0418289</td><td style=\"text-align: right;\">-0.000875351</td><td style=\"text-align: right;\"> 0.202401 </td><td style=\"text-align: right;\">0.151498 </td><td style=\"text-align: right;\">-0.0721573 </td><td style=\"text-align: right;\">-0.0903185</td><td style=\"text-align: right;\">-0.0546163 </td><td style=\"text-align: right;\"> 0.0770515 </td><td style=\"text-align: right;\"> 0.0813198 </td><td style=\"text-align: right;\">-0.0730298 </td><td style=\"text-align: right;\"> 0.000916828</td><td style=\"text-align: right;\">-0.0586318  </td><td style=\"text-align: right;\">-0.000736892</td><td style=\"text-align: right;\">-0.0893292 </td><td style=\"text-align: right;\">-0.105226 </td><td style=\"text-align: right;\"> 0.0503958</td><td style=\"text-align: right;\"> 0.0178565 </td><td style=\"text-align: right;\"> 0.0753953 </td><td style=\"text-align: right;\">-0.164545 </td><td style=\"text-align: right;\"> 0.253618 </td><td style=\"text-align: right;\">-0.0652915</td><td style=\"text-align: right;\">-0.136067 </td><td style=\"text-align: right;\">-0.105342 </td><td style=\"text-align: right;\"> 0.0107835 </td><td style=\"text-align: right;\"> 0.0321385 </td><td style=\"text-align: right;\"> 0.175403  </td><td style=\"text-align: right;\"> 0.0523293 </td><td style=\"text-align: right;\">-0.167852  </td><td style=\"text-align: right;\">-0.14299  </td><td style=\"text-align: right;\"> 0.0454488</td><td style=\"text-align: right;\"> 0.0140015</td><td style=\"text-align: right;\"> 0.130307 </td><td style=\"text-align: right;\"> 0.102035   </td><td style=\"text-align: right;\">-0.0396289</td><td style=\"text-align: right;\"> 0.244186  </td><td style=\"text-align: right;\">-0.0310498</td><td style=\"text-align: right;\">0.230121 </td><td style=\"text-align: right;\">-0.0560533 </td><td style=\"text-align: right;\">-0.0312674</td><td style=\"text-align: right;\">0.0940689</td><td style=\"text-align: right;\">-0.14132   </td><td style=\"text-align: right;\"> 0.0553402</td><td style=\"text-align: right;\">-0.0296196 </td><td style=\"text-align: right;\"> 0.0732143 </td><td style=\"text-align: right;\">-0.00124884</td><td style=\"text-align: right;\">-0.0622691</td><td style=\"text-align: right;\">-0.137447 </td><td style=\"text-align: right;\">-0.113088 </td><td style=\"text-align: right;\"> 0.0283403 </td><td style=\"text-align: right;\">-0.00681567</td><td style=\"text-align: right;\"> 0.103245 </td><td style=\"text-align: right;\">-0.0336078</td><td style=\"text-align: right;\"> 0.0141382</td><td style=\"text-align: right;\"> 0.152744   </td><td style=\"text-align: right;\"> 0.0564579  </td><td style=\"text-align: right;\">0.158445 </td><td style=\"text-align: right;\">-0.0893126</td><td style=\"text-align: right;\">0.217361 </td><td style=\"text-align: right;\"> 0.0182976</td><td style=\"text-align: right;\"> 0.160799 </td><td style=\"text-align: right;\">-0.101119  </td><td style=\"text-align: right;\"> 0.12551   </td><td style=\"text-align: right;\"> 0.0114576 </td><td style=\"text-align: right;\"> 0.0421132 </td><td style=\"text-align: right;\">0.14134  </td><td style=\"text-align: right;\"> 0.0318897</td><td style=\"text-align: right;\"> 0.146897  </td><td style=\"text-align: right;\"> 0.00573063</td><td style=\"text-align: right;\">-0.0559328</td><td style=\"text-align: right;\">-0.134932   </td><td style=\"text-align: right;\"> 0.0284711 </td><td style=\"text-align: right;\"> 0.10148  </td><td style=\"text-align: right;\">-0.0223586 </td><td style=\"text-align: right;\">-0.215844   </td><td style=\"text-align: right;\"> 0.0564748 </td><td style=\"text-align: right;\">-0.0546697</td><td style=\"text-align: right;\"> 0.0067921</td><td style=\"text-align: right;\">-0.182821 </td><td style=\"text-align: right;\"> 0.0758764 </td><td style=\"text-align: right;\">-0.0962454 </td><td style=\"text-align: right;\">-0.227877</td></tr>\n",
       "<tr><td style=\"text-align: right;\">-0.0568149</td><td style=\"text-align: right;\">-0.0629231</td><td style=\"text-align: right;\"> 0.0777229</td><td style=\"text-align: right;\">-0.0256429</td><td style=\"text-align: right;\">0.101506 </td><td style=\"text-align: right;\">-0.0389447 </td><td style=\"text-align: right;\">-0.0793635</td><td style=\"text-align: right;\">-0.0593537</td><td style=\"text-align: right;\">-0.182863 </td><td style=\"text-align: right;\">-0.0729923 </td><td style=\"text-align: right;\">-0.097567 </td><td style=\"text-align: right;\">-0.016082 </td><td style=\"text-align: right;\"> 0.0663444</td><td style=\"text-align: right;\"> 0.0590753 </td><td style=\"text-align: right;\"> 0.0231217</td><td style=\"text-align: right;\">-0.142591 </td><td style=\"text-align: right;\">-0.0415118 </td><td style=\"text-align: right;\">-0.102916 </td><td style=\"text-align: right;\">0.127864</td><td style=\"text-align: right;\"> 0.130538 </td><td style=\"text-align: right;\">-0.055481   </td><td style=\"text-align: right;\">-0.180058 </td><td style=\"text-align: right;\">0.0150547</td><td style=\"text-align: right;\"> 0.0358391 </td><td style=\"text-align: right;\">-0.071178 </td><td style=\"text-align: right;\"> 0.0049319 </td><td style=\"text-align: right;\">-0.116692  </td><td style=\"text-align: right;\">-0.0971365 </td><td style=\"text-align: right;\">-0.0252073 </td><td style=\"text-align: right;\"> 0.226713   </td><td style=\"text-align: right;\"> 0.0642868  </td><td style=\"text-align: right;\"> 0.051884   </td><td style=\"text-align: right;\"> 0.10772   </td><td style=\"text-align: right;\">-0.0272336</td><td style=\"text-align: right;\">-0.0262592</td><td style=\"text-align: right;\">-0.00905795</td><td style=\"text-align: right;\"> 0.00874825</td><td style=\"text-align: right;\">-0.0462225</td><td style=\"text-align: right;\"> 0.0685229</td><td style=\"text-align: right;\"> 0.0395826</td><td style=\"text-align: right;\">-0.118837 </td><td style=\"text-align: right;\">-0.0460167</td><td style=\"text-align: right;\">-0.0951681 </td><td style=\"text-align: right;\">-0.0622147 </td><td style=\"text-align: right;\"> 0.0620888 </td><td style=\"text-align: right;\"> 0.0548181 </td><td style=\"text-align: right;\">-0.0196732 </td><td style=\"text-align: right;\">-0.138331 </td><td style=\"text-align: right;\">-0.079592 </td><td style=\"text-align: right;\">-0.0194914</td><td style=\"text-align: right;\">-0.15345  </td><td style=\"text-align: right;\"> 0.114051   </td><td style=\"text-align: right;\">-0.0405353</td><td style=\"text-align: right;\"> 0.127597  </td><td style=\"text-align: right;\"> 0.164525 </td><td style=\"text-align: right;\">0.0668319</td><td style=\"text-align: right;\">-0.0204733 </td><td style=\"text-align: right;\">-0.0646356</td><td style=\"text-align: right;\">0.181865 </td><td style=\"text-align: right;\"> 0.0436541 </td><td style=\"text-align: right;\">-0.072891 </td><td style=\"text-align: right;\">-0.00280418</td><td style=\"text-align: right;\">-0.0996457 </td><td style=\"text-align: right;\">-0.0440742 </td><td style=\"text-align: right;\">-0.107828 </td><td style=\"text-align: right;\">-0.216291 </td><td style=\"text-align: right;\">-0.0736526</td><td style=\"text-align: right;\">-0.00610611</td><td style=\"text-align: right;\">-0.077607  </td><td style=\"text-align: right;\">-0.040397 </td><td style=\"text-align: right;\">-0.0932192</td><td style=\"text-align: right;\"> 0.19004  </td><td style=\"text-align: right;\"> 0.212368   </td><td style=\"text-align: right;\">-0.0100296  </td><td style=\"text-align: right;\">0.0669379</td><td style=\"text-align: right;\">-0.0960082</td><td style=\"text-align: right;\">0.0811439</td><td style=\"text-align: right;\"> 0.152575 </td><td style=\"text-align: right;\"> 0.193627 </td><td style=\"text-align: right;\">-0.142891  </td><td style=\"text-align: right;\"> 0.119491  </td><td style=\"text-align: right;\"> 0.0180099 </td><td style=\"text-align: right;\"> 0.0768278 </td><td style=\"text-align: right;\">0.224927 </td><td style=\"text-align: right;\">-0.17332  </td><td style=\"text-align: right;\"> 0.114557  </td><td style=\"text-align: right;\">-0.0118137 </td><td style=\"text-align: right;\">-0.152121 </td><td style=\"text-align: right;\">-0.000920415</td><td style=\"text-align: right;\">-0.0246056 </td><td style=\"text-align: right;\"> 0.19368  </td><td style=\"text-align: right;\"> 0.0926417 </td><td style=\"text-align: right;\">-0.0566742  </td><td style=\"text-align: right;\"> 0.0758347 </td><td style=\"text-align: right;\"> 0.0157395</td><td style=\"text-align: right;\">-0.119214 </td><td style=\"text-align: right;\">-0.112142 </td><td style=\"text-align: right;\">-0.00329384</td><td style=\"text-align: right;\">-0.0954762 </td><td style=\"text-align: right;\">-0.299782</td></tr>\n",
       "<tr><td style=\"text-align: right;\">-0.0797212</td><td style=\"text-align: right;\">-0.173617 </td><td style=\"text-align: right;\"> 0.108163 </td><td style=\"text-align: right;\">-0.107503 </td><td style=\"text-align: right;\">0.0216342</td><td style=\"text-align: right;\">-0.140633  </td><td style=\"text-align: right;\"> 0.0506238</td><td style=\"text-align: right;\">-0.0568952</td><td style=\"text-align: right;\">-0.150429 </td><td style=\"text-align: right;\">-0.121181  </td><td style=\"text-align: right;\">-0.0734269</td><td style=\"text-align: right;\">-0.0138049</td><td style=\"text-align: right;\">-0.0656658</td><td style=\"text-align: right;\">-0.0808302 </td><td style=\"text-align: right;\">-0.029532 </td><td style=\"text-align: right;\">-0.0875219</td><td style=\"text-align: right;\"> 0.0553002 </td><td style=\"text-align: right;\"> 0.0603757</td><td style=\"text-align: right;\">0.170599</td><td style=\"text-align: right;\"> 0.103466 </td><td style=\"text-align: right;\"> 0.0334554  </td><td style=\"text-align: right;\"> 0.0903015</td><td style=\"text-align: right;\">0.076366 </td><td style=\"text-align: right;\">-0.00445736</td><td style=\"text-align: right;\">-0.0411916</td><td style=\"text-align: right;\">-0.00386698</td><td style=\"text-align: right;\">-0.0204134 </td><td style=\"text-align: right;\"> 0.094304  </td><td style=\"text-align: right;\">-0.00568415</td><td style=\"text-align: right;\">-0.0182749  </td><td style=\"text-align: right;\"> 0.0240352  </td><td style=\"text-align: right;\">-0.115381   </td><td style=\"text-align: right;\">-0.00511071</td><td style=\"text-align: right;\">-0.0473832</td><td style=\"text-align: right;\"> 0.0573445</td><td style=\"text-align: right;\"> 0.0520178 </td><td style=\"text-align: right;\"> 0.0527058 </td><td style=\"text-align: right;\">-0.0603055</td><td style=\"text-align: right;\"> 0.0703867</td><td style=\"text-align: right;\">-0.140389 </td><td style=\"text-align: right;\">-0.211046 </td><td style=\"text-align: right;\">-0.0921957</td><td style=\"text-align: right;\">-0.0302414 </td><td style=\"text-align: right;\">-0.0169181 </td><td style=\"text-align: right;\"> 0.0409367 </td><td style=\"text-align: right;\">-0.0538958 </td><td style=\"text-align: right;\">-0.145829  </td><td style=\"text-align: right;\">-0.180445 </td><td style=\"text-align: right;\"> 0.0426627</td><td style=\"text-align: right;\">-0.146734 </td><td style=\"text-align: right;\">-0.0118336</td><td style=\"text-align: right;\"> 0.166017   </td><td style=\"text-align: right;\"> 0.0466829</td><td style=\"text-align: right;\"> 0.0953235 </td><td style=\"text-align: right;\"> 0.0662368</td><td style=\"text-align: right;\">0.172648 </td><td style=\"text-align: right;\">-0.0419875 </td><td style=\"text-align: right;\"> 0.0646048</td><td style=\"text-align: right;\">0.0287446</td><td style=\"text-align: right;\"> 0.0126064 </td><td style=\"text-align: right;\">-0.0556719</td><td style=\"text-align: right;\"> 0.055117  </td><td style=\"text-align: right;\">-0.00705287</td><td style=\"text-align: right;\"> 0.113799  </td><td style=\"text-align: right;\">-0.0981764</td><td style=\"text-align: right;\">-0.118228 </td><td style=\"text-align: right;\">-0.162    </td><td style=\"text-align: right;\"> 0.049193  </td><td style=\"text-align: right;\">-0.00897845</td><td style=\"text-align: right;\"> 0.0112516</td><td style=\"text-align: right;\">-0.1093   </td><td style=\"text-align: right;\"> 0.0846343</td><td style=\"text-align: right;\"> 0.123794   </td><td style=\"text-align: right;\">-0.0117476  </td><td style=\"text-align: right;\">0.187768 </td><td style=\"text-align: right;\">-0.112331 </td><td style=\"text-align: right;\">0.0810788</td><td style=\"text-align: right;\"> 0.157419 </td><td style=\"text-align: right;\"> 0.146585 </td><td style=\"text-align: right;\">-0.0548345 </td><td style=\"text-align: right;\"> 0.106937  </td><td style=\"text-align: right;\">-0.0115633 </td><td style=\"text-align: right;\"> 0.0721555 </td><td style=\"text-align: right;\">0.0592547</td><td style=\"text-align: right;\"> 0.0510364</td><td style=\"text-align: right;\"> 0.0982434 </td><td style=\"text-align: right;\">-0.0223077 </td><td style=\"text-align: right;\">-0.0753102</td><td style=\"text-align: right;\">-0.0928342  </td><td style=\"text-align: right;\"> 0.0154012 </td><td style=\"text-align: right;\"> 0.0562391</td><td style=\"text-align: right;\"> 0.0659295 </td><td style=\"text-align: right;\"> 0.000222585</td><td style=\"text-align: right;\"> 0.0582499 </td><td style=\"text-align: right;\">-0.0134955</td><td style=\"text-align: right;\">-0.0377504</td><td style=\"text-align: right;\">-0.10022  </td><td style=\"text-align: right;\"> 0.171738  </td><td style=\"text-align: right;\">-0.0884614 </td><td style=\"text-align: right;\">-0.2505  </td></tr>\n",
       "<tr><td style=\"text-align: right;\">-0.0732007</td><td style=\"text-align: right;\">-0.16155  </td><td style=\"text-align: right;\"> 0.169509 </td><td style=\"text-align: right;\">-0.0588709</td><td style=\"text-align: right;\">0.137003 </td><td style=\"text-align: right;\">-0.101893  </td><td style=\"text-align: right;\"> 0.0712918</td><td style=\"text-align: right;\"> 0.0538054</td><td style=\"text-align: right;\">-0.179305 </td><td style=\"text-align: right;\">-0.155106  </td><td style=\"text-align: right;\">-0.0516661</td><td style=\"text-align: right;\">-0.0432677</td><td style=\"text-align: right;\">-0.114111 </td><td style=\"text-align: right;\">-0.0995693 </td><td style=\"text-align: right;\">-0.0274235</td><td style=\"text-align: right;\">-0.0690333</td><td style=\"text-align: right;\"> 0.00642208</td><td style=\"text-align: right;\"> 0.0230132</td><td style=\"text-align: right;\">0.226017</td><td style=\"text-align: right;\">-0.0343685</td><td style=\"text-align: right;\"> 0.0156354  </td><td style=\"text-align: right;\"> 0.0641474</td><td style=\"text-align: right;\">0.178739 </td><td style=\"text-align: right;\">-0.0415269 </td><td style=\"text-align: right;\">-0.0756107</td><td style=\"text-align: right;\">-0.109671  </td><td style=\"text-align: right;\"> 0.00291719</td><td style=\"text-align: right;\"> 0.154853  </td><td style=\"text-align: right;\"> 0.0332205 </td><td style=\"text-align: right;\"> 0.0859559  </td><td style=\"text-align: right;\">-0.0376196  </td><td style=\"text-align: right;\">-0.0545254  </td><td style=\"text-align: right;\">-0.0172261 </td><td style=\"text-align: right;\">-0.0518112</td><td style=\"text-align: right;\">-0.0031721</td><td style=\"text-align: right;\"> 0.00489847</td><td style=\"text-align: right;\">-0.031869  </td><td style=\"text-align: right;\">-0.068588 </td><td style=\"text-align: right;\"> 0.0180251</td><td style=\"text-align: right;\">-0.0965746</td><td style=\"text-align: right;\">-0.0793085</td><td style=\"text-align: right;\">-0.056131 </td><td style=\"text-align: right;\">-0.00547694</td><td style=\"text-align: right;\"> 0.00476019</td><td style=\"text-align: right;\">-0.0106659 </td><td style=\"text-align: right;\">-0.140296  </td><td style=\"text-align: right;\">-0.199387  </td><td style=\"text-align: right;\">-0.116954 </td><td style=\"text-align: right;\"> 0.0926532</td><td style=\"text-align: right;\">-0.0951169</td><td style=\"text-align: right;\">-0.0162338</td><td style=\"text-align: right;\"> 0.0793405  </td><td style=\"text-align: right;\"> 0.0164822</td><td style=\"text-align: right;\"> 0.0691578 </td><td style=\"text-align: right;\"> 0.011476 </td><td style=\"text-align: right;\">0.114886 </td><td style=\"text-align: right;\">-0.148701  </td><td style=\"text-align: right;\">-0.0510924</td><td style=\"text-align: right;\">0.0433333</td><td style=\"text-align: right;\">-0.00145437</td><td style=\"text-align: right;\"> 0.0693071</td><td style=\"text-align: right;\"> 0.0793733 </td><td style=\"text-align: right;\"> 0.0181438 </td><td style=\"text-align: right;\">-0.0414775 </td><td style=\"text-align: right;\">-0.0484972</td><td style=\"text-align: right;\">-0.140597 </td><td style=\"text-align: right;\">-0.0127534</td><td style=\"text-align: right;\">-0.044307  </td><td style=\"text-align: right;\"> 0.033697  </td><td style=\"text-align: right;\"> 0.0898299</td><td style=\"text-align: right;\">-0.0787719</td><td style=\"text-align: right;\"> 0.138622 </td><td style=\"text-align: right;\"> 0.0639041  </td><td style=\"text-align: right;\"> 0.000566445</td><td style=\"text-align: right;\">0.179113 </td><td style=\"text-align: right;\">-0.117074 </td><td style=\"text-align: right;\">0.17331  </td><td style=\"text-align: right;\"> 0.135503 </td><td style=\"text-align: right;\"> 0.0465885</td><td style=\"text-align: right;\">-0.00409158</td><td style=\"text-align: right;\"> 0.0979131 </td><td style=\"text-align: right;\">-0.0765709 </td><td style=\"text-align: right;\"> 0.192878  </td><td style=\"text-align: right;\">0.117089 </td><td style=\"text-align: right;\"> 0.0656053</td><td style=\"text-align: right;\"> 0.109539  </td><td style=\"text-align: right;\">-0.0299847 </td><td style=\"text-align: right;\">-0.0677924</td><td style=\"text-align: right;\">-0.0797814  </td><td style=\"text-align: right;\"> 0.0141459 </td><td style=\"text-align: right;\"> 0.110807 </td><td style=\"text-align: right;\"> 0.036249  </td><td style=\"text-align: right;\">-0.0577235  </td><td style=\"text-align: right;\"> 0.118674  </td><td style=\"text-align: right;\">-0.147738 </td><td style=\"text-align: right;\">-0.0263496</td><td style=\"text-align: right;\">-0.239927 </td><td style=\"text-align: right;\"> 0.0611369 </td><td style=\"text-align: right;\">-0.00924327</td><td style=\"text-align: right;\">-0.27347 </td></tr>\n",
       "<tr><td style=\"text-align: right;\">-0.355958 </td><td style=\"text-align: right;\">-0.196831 </td><td style=\"text-align: right;\">-0.015794 </td><td style=\"text-align: right;\"> 0.0348775</td><td style=\"text-align: right;\">0.103654 </td><td style=\"text-align: right;\"> 0.018093  </td><td style=\"text-align: right;\"> 0.156415 </td><td style=\"text-align: right;\">-0.015333 </td><td style=\"text-align: right;\">-0.0551591</td><td style=\"text-align: right;\">-0.483309  </td><td style=\"text-align: right;\">-0.181961 </td><td style=\"text-align: right;\">-0.240734 </td><td style=\"text-align: right;\">-0.0356244</td><td style=\"text-align: right;\">-0.00285861</td><td style=\"text-align: right;\"> 0.166403 </td><td style=\"text-align: right;\">-0.0125618</td><td style=\"text-align: right;\"> 0.0389355 </td><td style=\"text-align: right;\"> 0.16153  </td><td style=\"text-align: right;\">0.211653</td><td style=\"text-align: right;\"> 0.145215 </td><td style=\"text-align: right;\">-0.197268   </td><td style=\"text-align: right;\"> 0.214232 </td><td style=\"text-align: right;\">0.296793 </td><td style=\"text-align: right;\"> 0.201123  </td><td style=\"text-align: right;\">-0.0418813</td><td style=\"text-align: right;\">-0.00285069</td><td style=\"text-align: right;\"> 0.121268  </td><td style=\"text-align: right;\"> 0.00162978</td><td style=\"text-align: right;\"> 0.267035  </td><td style=\"text-align: right;\"> 0.0195831  </td><td style=\"text-align: right;\">-0.0611562  </td><td style=\"text-align: right;\"> 0.182813   </td><td style=\"text-align: right;\">-0.11171   </td><td style=\"text-align: right;\">-0.161658 </td><td style=\"text-align: right;\">-0.0988285</td><td style=\"text-align: right;\">-0.187027  </td><td style=\"text-align: right;\"> 0.0139657 </td><td style=\"text-align: right;\"> 0.0544618</td><td style=\"text-align: right;\"> 0.0748887</td><td style=\"text-align: right;\">-0.130175 </td><td style=\"text-align: right;\">-0.25456  </td><td style=\"text-align: right;\">-0.0119142</td><td style=\"text-align: right;\"> 0.0753773 </td><td style=\"text-align: right;\"> 0.0693355 </td><td style=\"text-align: right;\">-0.087481  </td><td style=\"text-align: right;\">-0.218356  </td><td style=\"text-align: right;\">-0.163171  </td><td style=\"text-align: right;\">-0.19476  </td><td style=\"text-align: right;\">-0.0369585</td><td style=\"text-align: right;\">-0.135052 </td><td style=\"text-align: right;\"> 0.114671 </td><td style=\"text-align: right;\">-0.142072   </td><td style=\"text-align: right;\"> 0.0492515</td><td style=\"text-align: right;\"> 0.212625  </td><td style=\"text-align: right;\">-0.0653282</td><td style=\"text-align: right;\">0.0682745</td><td style=\"text-align: right;\">-0.190866  </td><td style=\"text-align: right;\"> 0.0707219</td><td style=\"text-align: right;\">0.0442442</td><td style=\"text-align: right;\"> 0.0213841 </td><td style=\"text-align: right;\"> 0.169321 </td><td style=\"text-align: right;\"> 0.0725536 </td><td style=\"text-align: right;\"> 0.0927394 </td><td style=\"text-align: right;\">-0.18728   </td><td style=\"text-align: right;\">-0.0528623</td><td style=\"text-align: right;\">-0.493245 </td><td style=\"text-align: right;\">-0.344943 </td><td style=\"text-align: right;\">-0.170402  </td><td style=\"text-align: right;\"> 0.0942355 </td><td style=\"text-align: right;\">-0.24907  </td><td style=\"text-align: right;\">-0.0165013</td><td style=\"text-align: right;\">-0.0617929</td><td style=\"text-align: right;\"> 0.337667   </td><td style=\"text-align: right;\"> 0.140358   </td><td style=\"text-align: right;\">0.179328 </td><td style=\"text-align: right;\"> 0.0374235</td><td style=\"text-align: right;\">0.253994 </td><td style=\"text-align: right;\">-0.0305166</td><td style=\"text-align: right;\"> 0.157847 </td><td style=\"text-align: right;\"> 0.307999  </td><td style=\"text-align: right;\"> 0.205927  </td><td style=\"text-align: right;\"> 0.16942   </td><td style=\"text-align: right;\"> 0.195855  </td><td style=\"text-align: right;\">0.0503341</td><td style=\"text-align: right;\"> 0.317202 </td><td style=\"text-align: right;\"> 0.170732  </td><td style=\"text-align: right;\"> 0.128417  </td><td style=\"text-align: right;\">-0.17811  </td><td style=\"text-align: right;\"> 0.0888614  </td><td style=\"text-align: right;\">-0.106913  </td><td style=\"text-align: right;\">-0.0785357</td><td style=\"text-align: right;\">-0.0674368 </td><td style=\"text-align: right;\">-0.0956883  </td><td style=\"text-align: right;\">-0.0672496 </td><td style=\"text-align: right;\">-0.0158395</td><td style=\"text-align: right;\"> 0.0901865</td><td style=\"text-align: right;\">-0.185872 </td><td style=\"text-align: right;\"> 0.187507  </td><td style=\"text-align: right;\">-0.0399294 </td><td style=\"text-align: right;\">-0.418681</td></tr>\n",
       "</tbody>\n",
       "</table>"
      ]
     },
     "metadata": {},
     "output_type": "display_data"
    },
    {
     "data": {
      "text/plain": []
     },
     "execution_count": 22,
     "metadata": {},
     "output_type": "execute_result"
    }
   ],
   "source": [
    "review_vecs"
   ]
  },
  {
   "cell_type": "code",
   "execution_count": 23,
   "metadata": {
    "collapsed": true
   },
   "outputs": [],
   "source": [
    "# Add aggregated word embeddings \n",
    "ext_reviews = reviews.cbind(review_vecs)"
   ]
  },
  {
   "cell_type": "markdown",
   "metadata": {},
   "source": [
    "## Train GBM Model to Predict Good Review\n",
    "\n",
    "We will train a GBM model with the same parameters as our baseline gbm.  This time, however, we will add the aggregated word embeddings as predictors. "
   ]
  },
  {
   "cell_type": "code",
   "execution_count": 24,
   "metadata": {
    "collapsed": true
   },
   "outputs": [],
   "source": [
    "ext_train = ext_reviews[ext_reviews[\"Train\"] == \"Yes\"]\n",
    "ext_test = ext_reviews[ext_reviews[\"Train\"] == \"No\"]"
   ]
  },
  {
   "cell_type": "code",
   "execution_count": 25,
   "metadata": {
    "collapsed": false
   },
   "outputs": [
    {
     "name": "stdout",
     "output_type": "stream",
     "text": [
      "gbm Model Build progress: |███████████████████████████████████████████████| 100%\n"
     ]
    }
   ],
   "source": [
    "predictors = predictors + review_vecs.names\n",
    "response = 'PositiveReview'\n",
    "\n",
    "gbm_embeddings = H2OGradientBoostingEstimator(stopping_metric = \"AUC\", stopping_tolerance = 0.001,\n",
    "                                              stopping_rounds = 5, score_tree_interval = 10,\n",
    "                                              model_id = \"gbm_embeddings.hex\"\n",
    "                                             )\n",
    "gbm_embeddings.train(x = predictors, y = response, \n",
    "                   training_frame = ext_train, validation_frame = ext_test\n",
    "                  )"
   ]
  },
  {
   "cell_type": "code",
   "execution_count": 26,
   "metadata": {
    "collapsed": false
   },
   "outputs": [
    {
     "name": "stdout",
     "output_type": "stream",
     "text": [
      "Baseline AUC: 0.616\n",
      "With Embeddings AUC: 0.874\n"
     ]
    }
   ],
   "source": [
    "print(\"Baseline AUC: \" + str(round(gbm_baseline.auc(valid = True), 3)))\n",
    "print(\"With Embeddings AUC: \" + str(round(gbm_embeddings.auc(valid = True), 3)))"
   ]
  },
  {
   "cell_type": "code",
   "execution_count": 27,
   "metadata": {
    "collapsed": false
   },
   "outputs": [
    {
     "name": "stdout",
     "output_type": "stream",
     "text": [
      "Confusion Matrix (Act/Pred) for max f1 @ threshold = 0.54593742414: \n"
     ]
    },
    {
     "data": {
      "text/html": [
       "<div style=\"overflow:auto\"><table style=\"width:50%\"><tr><td><b></b></td>\n",
       "<td><b>0</b></td>\n",
       "<td><b>1</b></td>\n",
       "<td><b>Error</b></td>\n",
       "<td><b>Rate</b></td></tr>\n",
       "<tr><td>0</td>\n",
       "<td>2034.0</td>\n",
       "<td>2626.0</td>\n",
       "<td>0.5635</td>\n",
       "<td> (2626.0/4660.0)</td></tr>\n",
       "<tr><td>1</td>\n",
       "<td>551.0</td>\n",
       "<td>14797.0</td>\n",
       "<td>0.0359</td>\n",
       "<td> (551.0/15348.0)</td></tr>\n",
       "<tr><td>Total</td>\n",
       "<td>2585.0</td>\n",
       "<td>17423.0</td>\n",
       "<td>0.1588</td>\n",
       "<td> (3177.0/20008.0)</td></tr></table></div>"
      ],
      "text/plain": [
       "       0     1      Error    Rate\n",
       "-----  ----  -----  -------  ----------------\n",
       "0      2034  2626   0.5635   (2626.0/4660.0)\n",
       "1      551   14797  0.0359   (551.0/15348.0)\n",
       "Total  2585  17423  0.1588   (3177.0/20008.0)"
      ]
     },
     "metadata": {},
     "output_type": "display_data"
    },
    {
     "data": {
      "text/plain": []
     },
     "execution_count": 27,
     "metadata": {},
     "output_type": "execute_result"
    }
   ],
   "source": [
    "gbm_embeddings.confusion_matrix(valid = True)"
   ]
  },
  {
   "cell_type": "markdown",
   "metadata": {},
   "source": [
    "## Adding Summary\n",
    "\n",
    "We saw that the review column is not the only column with text.  We also have a column called `Summary` which summarizes the review.  We will add the word embeddings of the summary to see if this improves our model."
   ]
  },
  {
   "cell_type": "code",
   "execution_count": 28,
   "metadata": {
    "collapsed": true
   },
   "outputs": [],
   "source": [
    "# Break summaries into sequence of words\n",
    "summary_words = tokenize(reviews[\"Summary\"].ascharacter())"
   ]
  },
  {
   "cell_type": "code",
   "execution_count": 29,
   "metadata": {
    "collapsed": true
   },
   "outputs": [],
   "source": [
    "# Add aggregated summary word embeddings\n",
    "summary_vecs = w2v_model.transform(summary_words, aggregate_method = \"AVERAGE\")\n",
    "summary_vecs.names = [\"summary_\" + s for s in summary_vecs.names]\n",
    "\n",
    "ext_reviews = ext_reviews.cbind(summary_vecs)"
   ]
  },
  {
   "cell_type": "code",
   "execution_count": 30,
   "metadata": {
    "collapsed": true
   },
   "outputs": [],
   "source": [
    "ext_train = ext_reviews[ext_reviews[\"Train\"] == \"Yes\"]\n",
    "ext_test = ext_reviews[ext_reviews[\"Train\"] == \"No\"]"
   ]
  },
  {
   "cell_type": "code",
   "execution_count": 31,
   "metadata": {
    "collapsed": false
   },
   "outputs": [
    {
     "name": "stdout",
     "output_type": "stream",
     "text": [
      "gbm Model Build progress: |███████████████████████████████████████████████| 100%\n"
     ]
    }
   ],
   "source": [
    "predictors = predictors + summary_vecs.names\n",
    "response = 'PositiveReview'\n",
    "\n",
    "gbm_plus_summary = H2OGradientBoostingEstimator(stopping_metric = \"AUC\", stopping_tolerance = 0.001,\n",
    "                                              stopping_rounds = 5, score_tree_interval = 10,\n",
    "                                              model_id = \"gbm_plus_summary.hex\"\n",
    "                                             )\n",
    "gbm_plus_summary.train(x = predictors, y = response, \n",
    "                       training_frame = ext_train, validation_frame = ext_test\n",
    "                      )"
   ]
  },
  {
   "cell_type": "code",
   "execution_count": 32,
   "metadata": {
    "collapsed": false
   },
   "outputs": [
    {
     "name": "stdout",
     "output_type": "stream",
     "text": [
      "Baseline AUC: 0.616\n",
      "With Embeddings AUC: 0.874\n",
      "With Summary and Review Embeddings AUC: 0.911\n"
     ]
    }
   ],
   "source": [
    "print(\"Baseline AUC: \" + str(round(gbm_baseline.auc(valid = True), 3)))\n",
    "print(\"With Embeddings AUC: \" + str(round(gbm_embeddings.auc(valid = True), 3)))\n",
    "print(\"With Summary and Review Embeddings AUC: \" + str(round(gbm_plus_summary.auc(valid = True), 3)))"
   ]
  },
  {
   "cell_type": "code",
   "execution_count": 33,
   "metadata": {
    "collapsed": false
   },
   "outputs": [
    {
     "data": {
      "image/png": "[encoded data removed]",
      "text/plain": [
       "<matplotlib.figure.Figure at 0x121890890>"
      ]
     },
     "metadata": {},
     "output_type": "display_data"
    }
   ],
   "source": [
    "gbm_plus_summary.varimp_plot()"
   ]
  },
  {
   "cell_type": "code",
   "execution_count": 34,
   "metadata": {
    "collapsed": false
   },
   "outputs": [
    {
     "name": "stdout",
     "output_type": "stream",
     "text": [
      "PartialDependencePlot progress: |█████████████████████████████████████████| 100%\n"
     ]
    },
    {
     "data": {
      "image/png": "[encoded data removed]",
      "text/plain": [
       "<matplotlib.figure.Figure at 0x1218f2490>"
      ]
     },
     "metadata": {},
     "output_type": "display_data"
    }
   ],
   "source": [
    "pdp_word_vecs = gbm_plus_summary.partial_plot(data = ext_train, cols = [\"C43\"])"
   ]
  },
  {
   "cell_type": "markdown",
   "metadata": {},
   "source": [
    "We can see that a low `C43` is associated with a smaller probability of positive review.  Let's see what words have a low `C43` value."
   ]
  },
  {
   "cell_type": "code",
   "execution_count": 35,
   "metadata": {
    "collapsed": true
   },
   "outputs": [],
   "source": [
    "# Get Word Embeddings per Word\n",
    "unique_words = words.asfactor().unique().ascharacter()\n",
    "unique_words.col_names = [\"Word\"]\n",
    "word_embeddings = w2v_model.transform(unique_words, aggregate_method=\"None\")\n",
    "word_embeddings = unique_words.cbind(word_embeddings)\n",
    "word_embeddings = word_embeddings[~(word_embeddings[\"C1\"].isna())]"
   ]
  },
  {
   "cell_type": "code",
   "execution_count": 36,
   "metadata": {
    "collapsed": false,
    "scrolled": true
   },
   "outputs": [
    {
     "data": {
      "image/png": "[encoded data removed]",
      "text/plain": [
       "<matplotlib.figure.Figure at 0x12300ded0>"
      ]
     },
     "metadata": {},
     "output_type": "display_data"
    }
   ],
   "source": [
    "word_embeddings[\"C43\"].hist()"
   ]
  },
  {
   "cell_type": "code",
   "execution_count": 37,
   "metadata": {
    "collapsed": false,
    "scrolled": true
   },
   "outputs": [
    {
     "data": {
      "text/html": [
       "<table>\n",
       "<thead>\n",
       "<tr><th>Word      </th><th style=\"text-align: right;\">     C43</th></tr>\n",
       "</thead>\n",
       "<tbody>\n",
       "<tr><td>answered  </td><td style=\"text-align: right;\">-1.22806</td></tr>\n",
       "<tr><td>contacted </td><td style=\"text-align: right;\">-1.27295</td></tr>\n",
       "<tr><td>credit    </td><td style=\"text-align: right;\">-1.23765</td></tr>\n",
       "<tr><td>email     </td><td style=\"text-align: right;\">-1.3267 </td></tr>\n",
       "<tr><td>emails    </td><td style=\"text-align: right;\">-1.30889</td></tr>\n",
       "<tr><td>expiration</td><td style=\"text-align: right;\">-1.10804</td></tr>\n",
       "<tr><td>expired   </td><td style=\"text-align: right;\">-1.16901</td></tr>\n",
       "<tr><td>phone     </td><td style=\"text-align: right;\">-1.18508</td></tr>\n",
       "<tr><td>refund    </td><td style=\"text-align: right;\">-1.32436</td></tr>\n",
       "<tr><td>refunded  </td><td style=\"text-align: right;\">-1.26201</td></tr>\n",
       "<tr><td>rep       </td><td style=\"text-align: right;\">-1.4429 </td></tr>\n",
       "<tr><td>responded </td><td style=\"text-align: right;\">-1.10283</td></tr>\n",
       "<tr><td>salmonella</td><td style=\"text-align: right;\">-1.22183</td></tr>\n",
       "<tr><td>similac   </td><td style=\"text-align: right;\">-1.16961</td></tr>\n",
       "</tbody>\n",
       "</table>"
      ]
     },
     "metadata": {},
     "output_type": "display_data"
    },
    {
     "data": {
      "text/plain": []
     },
     "execution_count": 37,
     "metadata": {},
     "output_type": "execute_result"
    }
   ],
   "source": [
    "low_c43_words = word_embeddings[word_embeddings[\"C43\"] < -1.1]\n",
    "low_c43_words[[\"Word\", \"C43\"]].head(15)"
   ]
  },
  {
   "cell_type": "markdown",
   "metadata": {},
   "source": [
    "The words with low `C43` like `contacted`, `answered`, `emails`, `phone` and `refund` all seem to be related to contacting for a refund.  Words like: `salmonella` are obviously an indicator of a negative review for a food product."
   ]
  },
  {
   "cell_type": "markdown",
   "metadata": {},
   "source": [
    "## Predict on New Reviews\n",
    "\n",
    "Now that we've built a model we are satisifed with, we will see how the model performs on new reviews.\n",
    "\n",
    "* *\"The taste is great! especially when you cook it with some vegetable and egg. I like it very much, though it's more expensive than the other noodles\"*\n",
    "\n",
    "\n",
    "* *\"Quite tasteless and they make you order so many. I am stuck with 12 bags of this tasteless stuff. I am not ordering large amounts of anything from Amazon again. So often I don't like it and I am stuck with so much on hand.\"*"
   ]
  },
  {
   "cell_type": "code",
   "execution_count": 38,
   "metadata": {
    "collapsed": true
   },
   "outputs": [],
   "source": [
    "def predict(reviews, w2v, gbm):\n",
    "    \n",
    "    words = tokenize(reviews[\"Text\"].ascharacter())\n",
    "    reviews_vec = w2v.transform(words, aggregate_method=\"AVERAGE\")\n",
    "    \n",
    "    summary_words = tokenize(reviews[\"Summary\"].ascharacter())\n",
    "    summary_vec = w2v.transform(summary_words, aggregate_method=\"AVERAGE\")\n",
    "    \n",
    "    model_data = reviews.cbind(reviews_vec).cbind(summary_vec)\n",
    "    print(gbm.predict(model_data))"
   ]
  },
  {
   "cell_type": "code",
   "execution_count": 39,
   "metadata": {
    "collapsed": false
   },
   "outputs": [
    {
     "name": "stdout",
     "output_type": "stream",
     "text": [
      "Parse progress: |█████████████████████████████████████████████████████████| 100%\n"
     ]
    }
   ],
   "source": [
    "good_review = h2o.H2OFrame([[\"B000EQT574\", \"AISQLBDGS2KXR\", 1, 1, 1263340800, \n",
    "                             \"Delicious\",\n",
    "                             \"These chips are delicious. Salty sweet with a hint of spice. I have no idea how Tamari is supposed to taste, but these chips are awesome. I just finished an entire bag in one day!\"]])\n",
    "\n",
    "good_review.col_names = [\"ProductId\",\"UserId\",\"HelpfulnessNumerator\",\"HelpfulnessDenominator\",\"Time\",\"Summary\",\"Text\"]"
   ]
  },
  {
   "cell_type": "code",
   "execution_count": 40,
   "metadata": {
    "collapsed": false
   },
   "outputs": [
    {
     "name": "stdout",
     "output_type": "stream",
     "text": [
      "Parse progress: |█████████████████████████████████████████████████████████| 100%\n"
     ]
    }
   ],
   "source": [
    "bad_review = h2o.H2OFrame([[\"B003BJZMSM\", \"A2JBZHQVQF7MV0\", 1, 2, 1274832000, \n",
    "                            \"Pretty tasteless\",\n",
    "                            \"Quite tasteless and they make you order so many. I am stuck with 12 bags of this tasteless stuff. I am not ordering large amounts of anything from Amazon again. So often I don't like it and I am stuck with so much on hand.\"]])\n",
    "\n",
    "bad_review.col_names = [\"ProductId\",\"UserId\",\"HelpfulnessNumerator\",\"HelpfulnessDenominator\",\"Time\",\"Summary\",\"Text\"]"
   ]
  },
  {
   "cell_type": "code",
   "execution_count": 41,
   "metadata": {
    "collapsed": false
   },
   "outputs": [
    {
     "name": "stdout",
     "output_type": "stream",
     "text": [
      "Good Review: \n",
      "gbm prediction progress: |████████████████████████████████████████████████| 100%\n"
     ]
    },
    {
     "data": {
      "text/html": [
       "<table>\n",
       "<thead>\n",
       "<tr><th style=\"text-align: right;\">  predict</th><th style=\"text-align: right;\">     p0</th><th style=\"text-align: right;\">     p1</th></tr>\n",
       "</thead>\n",
       "<tbody>\n",
       "<tr><td style=\"text-align: right;\">        1</td><td style=\"text-align: right;\">0.13551</td><td style=\"text-align: right;\">0.86449</td></tr>\n",
       "</tbody>\n",
       "</table>"
      ]
     },
     "metadata": {},
     "output_type": "display_data"
    },
    {
     "name": "stdout",
     "output_type": "stream",
     "text": [
      "\n",
      "None\n",
      "Bad Review: \n",
      "gbm prediction progress: |████████████████████████████████████████████████| 100%\n"
     ]
    },
    {
     "data": {
      "text/html": [
       "<table>\n",
       "<thead>\n",
       "<tr><th style=\"text-align: right;\">  predict</th><th style=\"text-align: right;\">     p0</th><th style=\"text-align: right;\">       p1</th></tr>\n",
       "</thead>\n",
       "<tbody>\n",
       "<tr><td style=\"text-align: right;\">        0</td><td style=\"text-align: right;\">0.93553</td><td style=\"text-align: right;\">0.0644696</td></tr>\n",
       "</tbody>\n",
       "</table>"
      ]
     },
     "metadata": {},
     "output_type": "display_data"
    },
    {
     "name": "stdout",
     "output_type": "stream",
     "text": [
      "\n",
      "None\n"
     ]
    }
   ],
   "source": [
    "# Predict!\n",
    "print(\"Good Review: \")\n",
    "print(predict(good_review, w2v_model, gbm_embeddings))\n",
    "\n",
    "print(\"Bad Review: \")\n",
    "print(predict(bad_review, w2v_model, gbm_embeddings))"
   ]
  },
  {
   "cell_type": "code",
   "execution_count": 42,
   "metadata": {
    "collapsed": false
   },
   "outputs": [
    {
     "name": "stdout",
     "output_type": "stream",
     "text": [
      "H2O session _sid_813b closed.\n"
     ]
    }
   ],
   "source": [
    "h2o.cluster().shutdown()"
   ]
  },
  {
   "cell_type": "code",
   "execution_count": null,
   "metadata": {
    "collapsed": true
   },
   "outputs": [],
   "source": []
  }
 ],
 "metadata": {
  "kernelspec": {
   "display_name": "Python 2",
   "language": "python",
   "name": "python2"
  },
  "language_info": {
   "codemirror_mode": {
    "name": "ipython",
    "version": 2
   },
   "file_extension": ".py",
   "mimetype": "text/x-python",
   "name": "python",
   "nbconvert_exporter": "python",
   "pygments_lexer": "ipython2",
   "version": "2.7.13"
  }
 },
 "nbformat": 4,
 "nbformat_minor": 2
}
