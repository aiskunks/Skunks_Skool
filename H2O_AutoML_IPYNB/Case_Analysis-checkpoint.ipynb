{
 "cells": [
  {
   "cell_type": "code",
   "execution_count": 16,
   "id": "2112999c",
   "metadata": {},
   "outputs": [],
   "source": [
    "import numpy as np \n",
    "import pandas as pd\n",
    "import matplotlib.pyplot as plt\n",
    "import seaborn as sb"
   ]
  },
  {
   "cell_type": "code",
   "execution_count": 17,
   "id": "64d8723f",
   "metadata": {},
   "outputs": [],
   "source": [
    "df= pd.read_csv('Question_1_Case_Analysis.csv')"
   ]
  },
  {
   "cell_type": "code",
   "execution_count": 18,
   "id": "50b5f039",
   "metadata": {},
   "outputs": [
    {
     "data": {
      "text/html": [
       "<div>\n",
       "<style scoped>\n",
       "    .dataframe tbody tr th:only-of-type {\n",
       "        vertical-align: middle;\n",
       "    }\n",
       "\n",
       "    .dataframe tbody tr th {\n",
       "        vertical-align: top;\n",
       "    }\n",
       "\n",
       "    .dataframe thead th {\n",
       "        text-align: right;\n",
       "    }\n",
       "</style>\n",
       "<table border=\"1\" class=\"dataframe\">\n",
       "  <thead>\n",
       "    <tr style=\"text-align: right;\">\n",
       "      <th></th>\n",
       "      <th>Month</th>\n",
       "      <th>Location 1</th>\n",
       "      <th>Location 2</th>\n",
       "      <th>Location 3</th>\n",
       "      <th>Location 4</th>\n",
       "      <th>CSI</th>\n",
       "    </tr>\n",
       "  </thead>\n",
       "  <tbody>\n",
       "    <tr>\n",
       "      <th>0</th>\n",
       "      <td>1</td>\n",
       "      <td>745</td>\n",
       "      <td>785</td>\n",
       "      <td>865</td>\n",
       "      <td>760</td>\n",
       "      <td>8</td>\n",
       "    </tr>\n",
       "    <tr>\n",
       "      <th>1</th>\n",
       "      <td>2</td>\n",
       "      <td>785</td>\n",
       "      <td>830</td>\n",
       "      <td>860</td>\n",
       "      <td>740</td>\n",
       "      <td>9</td>\n",
       "    </tr>\n",
       "    <tr>\n",
       "      <th>2</th>\n",
       "      <td>3</td>\n",
       "      <td>760</td>\n",
       "      <td>825</td>\n",
       "      <td>870</td>\n",
       "      <td>715</td>\n",
       "      <td>8</td>\n",
       "    </tr>\n",
       "    <tr>\n",
       "      <th>3</th>\n",
       "      <td>4</td>\n",
       "      <td>790</td>\n",
       "      <td>800</td>\n",
       "      <td>860</td>\n",
       "      <td>745</td>\n",
       "      <td>9</td>\n",
       "    </tr>\n",
       "    <tr>\n",
       "      <th>4</th>\n",
       "      <td>5</td>\n",
       "      <td>755</td>\n",
       "      <td>785</td>\n",
       "      <td>850</td>\n",
       "      <td>770</td>\n",
       "      <td>8</td>\n",
       "    </tr>\n",
       "  </tbody>\n",
       "</table>\n",
       "</div>"
      ],
      "text/plain": [
       "   Month  Location 1  Location 2  Location 3  Location 4  CSI\n",
       "0      1         745         785         865         760    8\n",
       "1      2         785         830         860         740    9\n",
       "2      3         760         825         870         715    8\n",
       "3      4         790         800         860         745    9\n",
       "4      5         755         785         850         770    8"
      ]
     },
     "execution_count": 18,
     "metadata": {},
     "output_type": "execute_result"
    }
   ],
   "source": [
    "df.head()"
   ]
  },
  {
   "cell_type": "code",
   "execution_count": 19,
   "id": "fcc8d5f5",
   "metadata": {},
   "outputs": [],
   "source": [
    "cols = ['Location 1','Location 1','Location 3','Location 4']\n",
    "df['Avg_Location'] = df[cols].mean(axis=1)"
   ]
  },
  {
   "cell_type": "code",
   "execution_count": 20,
   "id": "70e41005",
   "metadata": {},
   "outputs": [
    {
     "data": {
      "text/html": [
       "<div>\n",
       "<style scoped>\n",
       "    .dataframe tbody tr th:only-of-type {\n",
       "        vertical-align: middle;\n",
       "    }\n",
       "\n",
       "    .dataframe tbody tr th {\n",
       "        vertical-align: top;\n",
       "    }\n",
       "\n",
       "    .dataframe thead th {\n",
       "        text-align: right;\n",
       "    }\n",
       "</style>\n",
       "<table border=\"1\" class=\"dataframe\">\n",
       "  <thead>\n",
       "    <tr style=\"text-align: right;\">\n",
       "      <th></th>\n",
       "      <th>Month</th>\n",
       "      <th>Location 1</th>\n",
       "      <th>Location 2</th>\n",
       "      <th>Location 3</th>\n",
       "      <th>Location 4</th>\n",
       "      <th>CSI</th>\n",
       "      <th>Avg_Location</th>\n",
       "    </tr>\n",
       "  </thead>\n",
       "  <tbody>\n",
       "    <tr>\n",
       "      <th>0</th>\n",
       "      <td>1</td>\n",
       "      <td>745</td>\n",
       "      <td>785</td>\n",
       "      <td>865</td>\n",
       "      <td>760</td>\n",
       "      <td>8</td>\n",
       "      <td>778.75</td>\n",
       "    </tr>\n",
       "    <tr>\n",
       "      <th>1</th>\n",
       "      <td>2</td>\n",
       "      <td>785</td>\n",
       "      <td>830</td>\n",
       "      <td>860</td>\n",
       "      <td>740</td>\n",
       "      <td>9</td>\n",
       "      <td>792.50</td>\n",
       "    </tr>\n",
       "    <tr>\n",
       "      <th>2</th>\n",
       "      <td>3</td>\n",
       "      <td>760</td>\n",
       "      <td>825</td>\n",
       "      <td>870</td>\n",
       "      <td>715</td>\n",
       "      <td>8</td>\n",
       "      <td>776.25</td>\n",
       "    </tr>\n",
       "    <tr>\n",
       "      <th>3</th>\n",
       "      <td>4</td>\n",
       "      <td>790</td>\n",
       "      <td>800</td>\n",
       "      <td>860</td>\n",
       "      <td>745</td>\n",
       "      <td>9</td>\n",
       "      <td>796.25</td>\n",
       "    </tr>\n",
       "    <tr>\n",
       "      <th>4</th>\n",
       "      <td>5</td>\n",
       "      <td>755</td>\n",
       "      <td>785</td>\n",
       "      <td>850</td>\n",
       "      <td>770</td>\n",
       "      <td>8</td>\n",
       "      <td>782.50</td>\n",
       "    </tr>\n",
       "  </tbody>\n",
       "</table>\n",
       "</div>"
      ],
      "text/plain": [
       "   Month  Location 1  Location 2  Location 3  Location 4  CSI  Avg_Location\n",
       "0      1         745         785         865         760    8        778.75\n",
       "1      2         785         830         860         740    9        792.50\n",
       "2      3         760         825         870         715    8        776.25\n",
       "3      4         790         800         860         745    9        796.25\n",
       "4      5         755         785         850         770    8        782.50"
      ]
     },
     "execution_count": 20,
     "metadata": {},
     "output_type": "execute_result"
    }
   ],
   "source": [
    "df.head()"
   ]
  },
  {
   "cell_type": "code",
   "execution_count": 1,
   "id": "4f85ea16",
   "metadata": {},
   "outputs": [
    {
     "ename": "NameError",
     "evalue": "name 'df' is not defined",
     "output_type": "error",
     "traceback": [
      "\u001b[0;31m---------------------------------------------------------------------------\u001b[0m",
      "\u001b[0;31mNameError\u001b[0m                                 Traceback (most recent call last)",
      "\u001b[0;32m/var/folders/lh/42j8mfjx069d1bkc2wlf2pw40000gn/T/ipykernel_6575/3450453172.py\u001b[0m in \u001b[0;36m<module>\u001b[0;34m\u001b[0m\n\u001b[0;32m----> 1\u001b[0;31m \u001b[0mdf\u001b[0m\u001b[0;34m.\u001b[0m\u001b[0mto_csv\u001b[0m\u001b[0;34m(\u001b[0m\u001b[0;34m'Question_1_Case_Analysis_Good.csv'\u001b[0m\u001b[0;34m,\u001b[0m \u001b[0mindex\u001b[0m \u001b[0;34m=\u001b[0m \u001b[0;32mFalse\u001b[0m\u001b[0;34m)\u001b[0m\u001b[0;34m\u001b[0m\u001b[0;34m\u001b[0m\u001b[0m\n\u001b[0m",
      "\u001b[0;31mNameError\u001b[0m: name 'df' is not defined"
     ]
    }
   ],
   "source": [
    "df.to_csv('Question_1_Case_Analysis_Good.csv', index = False)"
   ]
  }
 ],
 "metadata": {
  "kernelspec": {
   "display_name": "Python 3 (ipykernel)",
   "language": "python",
   "name": "python3"
  },
  "language_info": {
   "codemirror_mode": {
    "name": "ipython",
    "version": 3
   },
   "file_extension": ".py",
   "mimetype": "text/x-python",
   "name": "python",
   "nbconvert_exporter": "python",
   "pygments_lexer": "ipython3",
   "version": "3.8.5"
  }
 },
 "nbformat": 4,
 "nbformat_minor": 5
}
