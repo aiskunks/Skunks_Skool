{
 "cells": [
  {
   "cell_type": "markdown",
   "metadata": {},
   "source": [
    "# Statistical Learning \n",
    "This Jupyter Notebook covers \"Introduction to Statistical Learning with Applications in R\" by Gareth James, Daniela Witten, Trevor Hastie and Robert Tibshirani which is considered a canonical text in the field of statistical/machine learning and is an absolutely fantastic reference to move forward in your analytics career. ([The book to download](http://link.Springer.com/book/10.1007/978-1-4614-7138-7))"
   ]
  },
  {
   "cell_type": "markdown",
   "metadata": {},
   "source": [
    "The field of Statistics have always been in the news for a long period of time. With booming industries revolving around Statistics, the pace in which it is being famous is truly swift.\n",
    "\n",
    "Some of the highlights:\n",
    "- How IBM built Watson, its Jeopardy-playing supercomputer by Dawn Kawamoto DailyFinance, 02/08/2011\n",
    "- Quote of the Day, New York Times, August 5, 2009 ”I keep saying that the sexy job in the next 10 years will be statisticians. And I’m not kidding.” — HAL VARIAN, chief economist at Google.\n",
    "\n",
    "\n"
   ]
  },
  {
   "cell_type": "markdown",
   "metadata": {},
   "source": [
    "We will cover various Statistical Learning problems in the following chapters as follows:"
   ]
  },
  {
   "cell_type": "markdown",
   "metadata": {},
   "source": [
    "Statistical Learning Problems\n",
    "- Identify the risk factors for prostate cancer.\n",
    "- Classify a recorded phoneme based on a log-periodogram.\n",
    "- Predict whether someone will have a heart attack on the basis of demographic, diet and clinical measurements.\n",
    "- Customize an email spam detection system.\n",
    "- Identify the numbers in a handwritten zip code.\n",
    "- Classify a tissue sample into one of several cancer classes, based on a gene expression profile.\n",
    "- Establish the relationship between salary and demographic variables in population survey data.\n",
    "- Classify the pixels in a LANDSAT image, by usage."
   ]
  },
  {
   "cell_type": "markdown",
   "metadata": {},
   "source": [
    "There are two set of tools or categories to understand any problem in learning:"
   ]
  },
  {
   "cell_type": "markdown",
   "metadata": {},
   "source": [
    "### The Supervised Learning Problem\n",
    "Starting point:\n",
    "- Outcome measurement Y (also called dependent variable, response, target).\n",
    "- Vector of p predictor measurements X (also called inputs, regressors, covariates, features, independent variables).\n",
    "- In the regression problem, Y is quantitative (e.g price, blood pressure).\n",
    "- In the classification problem, Y takes values in a finite, unordered set (survived/died, digit 0-9, cancer class of tissue sample).\n",
    "- We have training data (x1, y1), . . . ,(xN , yN ). These are observations (examples, instances) of these measurements."
   ]
  },
  {
   "cell_type": "markdown",
   "metadata": {},
   "source": [
    "Objectives:\n",
    "\n",
    "On the basis of the training data we would like to:\n",
    "- Accurately predict unseen test cases.\n",
    "- Understand which inputs affect the outcome, and how.\n",
    "- Assess the quality of our predictions and inferences."
   ]
  },
  {
   "cell_type": "markdown",
   "metadata": {},
   "source": [
    "Philosophy:\n",
    "    \n",
    "- It is important to understand the ideas behind the various techniques, in order to know how and when to use them.\n",
    "- One has to understand the simpler methods first, in order to grasp the more sophisticated ones.\n",
    "- It is important to accurately assess the performance of a method, to know how well or how badly it is working [simpler methods often perform as well as fancier ones!]\n",
    "- This is an exciting research area, having important applications in science, industry and finance.\n",
    "- Statistical learning is a fundamental ingredient in the training of a modern data scientist."
   ]
  },
  {
   "cell_type": "markdown",
   "metadata": {},
   "source": [
    "### Unsupervised learning\n",
    "- No outcome variable, just a set of predictors (features) measured on a set of samples.\n",
    "- Objective is more fuzzy — find groups of samples that behave similarly, find features that behave similarly, find linear combinations of features with the most variation.\n",
    "- Difficult to know how well your are doing.\n",
    "- Different from supervised learning, but can be useful as a pre-processing step for supervised learning."
   ]
  },
  {
   "cell_type": "markdown",
   "metadata": {},
   "source": [
    "Statistical Learning versus Machine Learning\n",
    "- Machine learning arose as a subfield of Artificial\n",
    "Intelligence.\n",
    "- Statistical learning arose as a subfield of Statistics.\n",
    "- There is much overlap — both fields focus on supervised\n",
    "and unsupervised problems:\n",
    "- Machine learning has a greater emphasis on large scale\n",
    "applications and prediction accuracy.\n",
    "- Statistical learning emphasizes models and their\n",
    "interpretability, and precision and uncertainty.\n",
    "- But the distinction has become more and more blurred,\n",
    "and there is a great deal of “cross-fertilization”.\n",
    "- Machine learning has the upper hand in Marketing!"
   ]
  },
  {
   "cell_type": "markdown",
   "metadata": {},
   "source": [
    "#### Course Texts\n",
    "The course will cover most of the material in this\n",
    "[Springer book (ISLR)](http://link.Springer.com/book/10.1007/978-1-4614-7138-7) published in 2013, which\n",
    "the instructors coauthored with Gareth James\n",
    "and Daniela Witten. Each chapter ends with an R\n",
    "lab, in which examples are developed. By January\n",
    "1st, 2014, an electronic version of this book will be\n",
    "available for free from the instructors’ websites.\n",
    "[This Springer book (ESL)](https://web.stanford.edu/~hastie/ElemStatLearn/printings/ESLII_print12.pdf) is more mathematically\n",
    "advanced than ISLR; the second edition was published in 2009, and coauthored by the instructors\n",
    "and Jerome Friedman. It covers a broader range\n",
    "of topics. The book is available from Springer and\n",
    "Amazon, a free electronic version is available from\n",
    "the instructors’ websites."
   ]
  }
 ],
 "metadata": {
  "kernelspec": {
   "display_name": "Python 3",
   "language": "python",
   "name": "python3"
  },
  "language_info": {
   "codemirror_mode": {
    "name": "ipython",
    "version": 3
   },
   "file_extension": ".py",
   "mimetype": "text/x-python",
   "name": "python",
   "nbconvert_exporter": "python",
   "pygments_lexer": "ipython3",
   "version": "3.6.7"
  }
 },
 "nbformat": 4,
 "nbformat_minor": 2
}
