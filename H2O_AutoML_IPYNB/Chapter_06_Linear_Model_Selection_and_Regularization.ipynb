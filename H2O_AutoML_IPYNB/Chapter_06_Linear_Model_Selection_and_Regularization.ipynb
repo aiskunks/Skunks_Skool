{
 "cells": [
  {
   "cell_type": "markdown",
   "metadata": {},
   "source": [
    "# Chapter 6 Linear Model Selection and Regularization"
   ]
  },
  {
   "cell_type": "markdown",
   "metadata": {},
   "source": [
    "- Recall the linear model\n",
    "\\begin{equation}Y=\\beta_{0}+\\beta_{1} X_{1}+\\cdots+\\beta_{p} X_{p}+\\epsilon\\end{equation}\n",
    "- In the lectures that follow, we consider some approaches for extending the linear model framework. In the lectures covering Chapter 7 of the text, we generalize the linear model in order to accommodate non-linear, but still additive, relationships.\n",
    "- In the lectures covering Chapter 8 we consider even more general non-linear models.\n",
    "- Despite its simplicity, the linear model has distinct advantages in terms of its interpretability and often shows good predictive performance.\n",
    "- Hence we discuss in this lecture some ways in which the simple linear model can be improved, by replacing ordinary least squares fitting with some alternative fitting procedures."
   ]
  },
  {
   "cell_type": "markdown",
   "metadata": {},
   "source": [
    "### Why consider alternatives to least squares?\n",
    "\n",
    "- Prediction Accuracy: especially when p > n, to control the variance.\n",
    "- Model Interpretability: By removing irrelevant features, that is, by setting the corresponding coefficient estimates to zero we can obtain a model that is more easily interpreted. We will present some approaches for automatically performing feature selection."
   ]
  },
  {
   "cell_type": "markdown",
   "metadata": {},
   "source": [
    "### Three classes of methods\n",
    "\n",
    "- Subset Selection. We identify a subset of the p predictors\n",
    "that we believe to be related to the response. We then fit a\n",
    "model using least squares on the reduced set of variables.\n",
    "- Shrinkage. We fit a model involving all p predictors, but\n",
    "the estimated coefficients are shrunken towards zero\n",
    "relative to the least squares estimates. This shrinkage (also\n",
    "known as regularization) has the effect of reducing variance\n",
    "and can also perform variable selection.\n",
    "- Dimension Reduction. We project the p predictors into a\n",
    "M-dimensional subspace, where M < p. This is achieved by\n",
    "computing M different linear combinations, or projections,\n",
    "of the variables. Then these M projections are used as\n",
    "predictors to fit a linear regression model by least squares."
   ]
  },
  {
   "cell_type": "markdown",
   "metadata": {},
   "source": [
    "### Subset selection\n",
    "\n",
    "#### Best Subset Selection\n",
    "1. Let $\\mathcal{M}_{0}$ denote the null model, which contains no predictors. This model simply predicts the sample mean for each observation.\n",
    "2. For $k=1,2, \\ldots p:$\n",
    "(a) Fit all $\\left(\\begin{array}{l}p \\\\ k\\end{array}\\right)$ models that contain exactly $k$ predictors.\n",
    "(b) Pick the best among these $\\left(\\begin{array}{l}p \\\\ k\\end{array}\\right)$ models, and call it $\\mathcal{M}_{k} .$ Here best is defined as having the smallest RSS, or equivalently largest $R^{2}$.\n",
    "3. Select a single best model from among $\\mathcal{M}_{0}, \\ldots, \\mathcal{M}_{p}$ using cross-validated prediction error, $C_{p}(\\mathrm{AIC}), \\mathrm{BIC},$ or adjusted $R^{2}$"
   ]
  },
  {
   "cell_type": "code",
   "execution_count": 3,
   "metadata": {},
   "outputs": [],
   "source": [
    "# Example - Credit data set\n",
    "#load modules\n",
    "import pandas as pd\n",
    "from sklearn.linear_model import LinearRegression\n",
    "from mlxtend.feature_selection import ExhaustiveFeatureSelector as EFS\n",
    "import numpy as np\n",
    "import matplotlib.pyplot as plt\n",
    "from mlxtend.feature_selection import SequentialFeatureSelector as sfs\n",
    "from sklearn.model_selection import train_test_split"
   ]
  },
  {
   "cell_type": "code",
   "execution_count": 4,
   "metadata": {},
   "outputs": [
    {
     "data": {
      "text/plain": [
       "Limit         int64\n",
       "Rating        int64\n",
       "Cards         int64\n",
       "Age           int64\n",
       "Education     int64\n",
       "Gender       object\n",
       "Student      object\n",
       "Married      object\n",
       "Ethnicity    object\n",
       "Balance       int64\n",
       "dtype: object"
      ]
     },
     "execution_count": 4,
     "metadata": {},
     "output_type": "execute_result"
    }
   ],
   "source": [
    "#load credit card dataset\n",
    "credit = pd.read_csv('data/Credit.csv', index_col =0)\n",
    "credit.dtypes"
   ]
  },
  {
   "cell_type": "code",
   "execution_count": 5,
   "metadata": {},
   "outputs": [],
   "source": [
    "#mark the predictors and respond variables\n",
    "X= credit.iloc[:, :-1]\n",
    "y= credit.Balance"
   ]
  },
  {
   "cell_type": "code",
   "execution_count": 6,
   "metadata": {},
   "outputs": [
    {
     "data": {
      "text/plain": [
       "<bound method DataFrame.info of          Limit  Rating  Cards  Age  Education  Balance  Gender_ Male  \\\n",
       "Income                                                                 \n",
       "14.891    3606     283      2   34         11      333             1   \n",
       "106.025   6645     483      3   82         15      903             0   \n",
       "104.593   7075     514      4   71         11      580             1   \n",
       "148.924   9504     681      3   36         11      964             0   \n",
       "55.882    4897     357      2   68         16      331             1   \n",
       "...        ...     ...    ...  ...        ...      ...           ...   \n",
       "12.096    4100     307      3   32         13      560             1   \n",
       "13.364    3838     296      5   65         17      480             1   \n",
       "57.872    4171     321      5   67         12      138             0   \n",
       "37.728    2525     192      1   44         13        0             1   \n",
       "18.701    5524     415      5   64          7      966             0   \n",
       "\n",
       "         Student_Yes  Married_Yes  Ethnicity_Asian  Ethnicity_Caucasian  \n",
       "Income                                                                   \n",
       "14.891             0            1                0                    1  \n",
       "106.025            1            1                1                    0  \n",
       "104.593            0            0                1                    0  \n",
       "148.924            0            0                1                    0  \n",
       "55.882             0            1                0                    1  \n",
       "...              ...          ...              ...                  ...  \n",
       "12.096             0            1                0                    1  \n",
       "13.364             0            0                0                    0  \n",
       "57.872             0            1                0                    1  \n",
       "37.728             0            1                0                    1  \n",
       "18.701             0            0                1                    0  \n",
       "\n",
       "[400 rows x 11 columns]>"
      ]
     },
     "execution_count": 6,
     "metadata": {},
     "output_type": "execute_result"
    }
   ],
   "source": [
    "#convert the categorical variables\n",
    "credit_dummies = pd.get_dummies(credit[['Gender', 'Student', 'Married', 'Ethnicity']])\n",
    "credit =credit.drop(credit[['Gender', 'Student', 'Married', 'Ethnicity']],axis=1)\n",
    "credit_dummies =credit_dummies.drop(['Gender_Female', 'Student_No', 'Married_No', 'Ethnicity_African American'],axis=1)\n",
    "credit_df= pd.concat([credit, credit_dummies], axis=1)\n",
    "credit_df.info"
   ]
  },
  {
   "cell_type": "code",
   "execution_count": 7,
   "metadata": {},
   "outputs": [],
   "source": [
    "#mark the predictors and respond variables\n",
    "X= credit_df.loc[:, credit_df.columns != 'Balance']\n",
    "y= credit_df.Balance"
   ]
  },
  {
   "cell_type": "code",
   "execution_count": 8,
   "metadata": {},
   "outputs": [],
   "source": [
    "from sklearn.preprocessing import StandardScaler\n",
    "from sklearn.linear_model import LinearRegression\n",
    "from sklearn.metrics import mean_squared_error\n",
    "\n",
    "def fit_ols(X,y):\n",
    "    ols = LinearRegression()\n",
    "    ols_model =ols.fit(X,y)\n",
    "    RSS= round(mean_squared_error(y,ols_model.predict(X)) * len(y),2)\n",
    "    R_square = round(ols_model.score(X,y),2)\n",
    "    return RSS, R_square"
   ]
  },
  {
   "cell_type": "code",
   "execution_count": 9,
   "metadata": {},
   "outputs": [
    {
     "data": {
      "text/plain": [
       "(14617892.35, 0.83)"
      ]
     },
     "execution_count": 9,
     "metadata": {},
     "output_type": "execute_result"
    }
   ],
   "source": [
    "fit_ols(X,y)"
   ]
  },
  {
   "cell_type": "code",
   "execution_count": 10,
   "metadata": {},
   "outputs": [],
   "source": [
    "import itertools\n",
    "\n",
    "k = 11\n",
    "RSS_list, R_squared_list, feature_list = [],[], []\n",
    "numb_features = []\n",
    "\n",
    "#Looping over k = 1 to k = 11 features in X\n",
    "for k in range(1,len(X.columns) + 1):\n",
    "    #Looping over all possible combinations: from 11 choose k\n",
    "    for combo in itertools.combinations(X.columns,k):\n",
    "        tmp_result = fit_ols(X[list(combo)],y)   #Store temp result b\n",
    "        RSS_list.append(tmp_result[0])                  #Append lists\n",
    "        R_squared_list.append(tmp_result[1])\n",
    "        feature_list.append(combo)\n",
    "        numb_features.append(len(combo))   \n",
    "\n",
    "#Store in DataFrame\n",
    "df = pd.DataFrame({'numb_features': numb_features,'RSS': RSS_list, 'R_squared':R_squared_list,'features':feature_list})"
   ]
  },
  {
   "cell_type": "code",
   "execution_count": 11,
   "metadata": {},
   "outputs": [],
   "source": [
    "df['min_RSS'] = df.groupby('numb_features')['RSS'].transform(min)\n",
    "df['max_R_squared'] = df.groupby('numb_features')['R_squared'].transform(max)"
   ]
  },
  {
   "cell_type": "code",
   "execution_count": 12,
   "metadata": {},
   "outputs": [
    {
     "data": {
      "image/png": "[encoded data removed]",
      "text/plain": [
       "<Figure size 1152x432 with 2 Axes>"
      ]
     },
     "metadata": {
      "needs_background": "light"
     },
     "output_type": "display_data"
    }
   ],
   "source": [
    "fig = plt.figure(figsize = (16,6))\n",
    "ax = fig.add_subplot(1, 2, 1)\n",
    "\n",
    "ax.scatter(df.numb_features,df.RSS, alpha = .2, color = 'darkblue' )\n",
    "ax.set_xlabel('# Features')\n",
    "ax.set_ylabel('RSS')\n",
    "ax.set_title('RSS - Best subset selection')\n",
    "ax.plot(df.numb_features,df.min_RSS,color = 'r', label = 'Best subset')\n",
    "ax.legend()\n",
    "\n",
    "ax = fig.add_subplot(1, 2, 2)\n",
    "ax.scatter(df.numb_features,df.R_squared, alpha = .2, color = 'darkblue' )\n",
    "ax.plot(df.numb_features,df.max_R_squared,color = 'r', label = 'Best subset')\n",
    "ax.set_xlabel('# Features')\n",
    "ax.set_ylabel('R squared')\n",
    "ax.set_title('R_squared - Best subset selection')\n",
    "ax.legend()\n",
    "\n",
    "plt.show()"
   ]
  },
  {
   "cell_type": "markdown",
   "metadata": {},
   "source": [
    "For each possible model containing a subset of the ten predictors in the Credit data set, the RSS and R2 are displayed. The red frontier tracks the best model for a given number of predictors, according to RSS and R2. Though the data set contains only ten predictors, the x-axis ranges from 1 to 11, since one of the variables is categorical and takes on three values, leading to the creation of two dummy variables.\n",
    "Although we have presented best subset selection here for least squares regression, the same ideas apply to other types of models, such as logistic regression. The deviance, negative two times the maximized log-likelihood, plays the role of RSS for a broader class of models."
   ]
  },
  {
   "cell_type": "markdown",
   "metadata": {},
   "source": [
    "### Stepwise Selection\n",
    "\n",
    "- For computational reasons, best subset selection cannot be\n",
    "applied with very large p. Why not?\n",
    "- Best subset selection may also suffer from statistical\n",
    "problems when p is large: larger the search space, the\n",
    "higher the chance of finding models that look good on the\n",
    "training data, even though they might not have any\n",
    "predictive power on future data.\n",
    "- Thus an enormous search space can lead to overfitting and\n",
    "high variance of the coefficient estimates.\n",
    "- For both of these reasons, stepwise methods, which explore\n",
    "a far more restricted set of models, are attractive\n",
    "alternatives to best subset selection."
   ]
  },
  {
   "cell_type": "markdown",
   "metadata": {},
   "source": [
    "### Forward Stepwise Selection\n",
    "- Forward stepwise selection begins with a model containing\n",
    "no predictors, and then adds predictors to the model,\n",
    "one-at-a-time, until all of the predictors are in the model.\n",
    "- In particular, at each step the variable that gives the\n",
    "greatest additional improvement to the fit is added to the\n",
    "model.\n",
    "1. Let $\\mathcal{M}_{0}$ denote the null model, which contains no predictors.\n",
    "2. For $k=0, \\ldots, p-1:$\n",
    "2.1 Consider all $p-k$ models that augment the predictors in $\\mathcal{M}_{k}$ with one additional predictor.\n",
    "2.2 Choose the best among these $p-k$ models, and call it $\\mathcal{M}_{k+1} .$ Here best is defined as having smallest RSS or highest $R^{2}$\n",
    "3. Select a single best model from among $\\mathcal{M}_{0}, \\ldots, \\mathcal{M}_{p}$ using cross-validated prediction error, $C_{p}(\\mathrm{AIC}), \\mathrm{BIC},$ or adjusted $R^{2}$.\n",
    "\n",
    "- Computational advantage over best subset selection is\n",
    "clear.\n",
    "- It is not guaranteed to find the best possible model out of\n",
    "all $2^{p}$ models containing subsets of the p predictors. Why\n",
    "not? Give an example."
   ]
  },
  {
   "cell_type": "code",
   "execution_count": 13,
   "metadata": {},
   "outputs": [
    {
     "name": "stderr",
     "output_type": "stream",
     "text": [
      "[Parallel(n_jobs=-1)]: Using backend LokyBackend with 4 concurrent workers.\n",
      "[Parallel(n_jobs=-1)]: Done  10 out of  10 | elapsed:    2.5s finished\n",
      "\n",
      "[2020-04-22 16:39:18] Features: 1/1 -- score: -54293.176584293506"
     ]
    },
    {
     "data": {
      "text/plain": [
       "SequentialFeatureSelector(clone_estimator=True, cv=5,\n",
       "                          estimator=LinearRegression(copy_X=True,\n",
       "                                                     fit_intercept=True,\n",
       "                                                     n_jobs=None,\n",
       "                                                     normalize=False),\n",
       "                          fixed_features=None, floating=False, forward=True,\n",
       "                          k_features=1, n_jobs=-1, pre_dispatch='2*n_jobs',\n",
       "                          scoring='neg_mean_squared_error', verbose=2)"
      ]
     },
     "execution_count": 13,
     "metadata": {},
     "output_type": "execute_result"
    }
   ],
   "source": [
    "# one variable\n",
    "ols = LinearRegression()\n",
    "sfs1 = sfs(ols,\n",
    "           k_features=1,\n",
    "           forward=True,\n",
    "           floating=False,\n",
    "           verbose=2,\n",
    "           scoring='neg_mean_squared_error',\n",
    "           cv=5,\n",
    "           n_jobs=-1)\n",
    "sfs1.fit(X, y)\n"
   ]
  },
  {
   "cell_type": "code",
   "execution_count": 14,
   "metadata": {},
   "outputs": [
    {
     "name": "stderr",
     "output_type": "stream",
     "text": [
      "[Parallel(n_jobs=-1)]: Using backend LokyBackend with 4 concurrent workers.\n",
      "[Parallel(n_jobs=-1)]: Done  10 out of  10 | elapsed:    0.0s finished\n",
      "\n",
      "[2020-04-22 16:39:20] Features: 1/2 -- score: -54293.176584293506[Parallel(n_jobs=-1)]: Using backend LokyBackend with 4 concurrent workers.\n",
      "[Parallel(n_jobs=-1)]: Done   7 out of   9 | elapsed:    0.0s remaining:    0.0s\n",
      "[Parallel(n_jobs=-1)]: Done   9 out of   9 | elapsed:    0.0s finished\n",
      "\n",
      "[2020-04-22 16:39:20] Features: 2/2 -- score: -40104.361174004574"
     ]
    },
    {
     "data": {
      "text/plain": [
       "SequentialFeatureSelector(clone_estimator=True, cv=5,\n",
       "                          estimator=LinearRegression(copy_X=True,\n",
       "                                                     fit_intercept=True,\n",
       "                                                     n_jobs=None,\n",
       "                                                     normalize=False),\n",
       "                          fixed_features=None, floating=False, forward=True,\n",
       "                          k_features=2, n_jobs=-1, pre_dispatch='2*n_jobs',\n",
       "                          scoring='neg_mean_squared_error', verbose=2)"
      ]
     },
     "execution_count": 14,
     "metadata": {},
     "output_type": "execute_result"
    }
   ],
   "source": [
    "# two variables\n",
    "sfs2 = sfs(ols,\n",
    "           k_features=2,\n",
    "           forward=True,\n",
    "           floating=False,\n",
    "           verbose=2,\n",
    "           scoring='neg_mean_squared_error',\n",
    "           cv=5,\n",
    "           n_jobs=-1)\n",
    "sfs2.fit(X, y)"
   ]
  },
  {
   "cell_type": "code",
   "execution_count": 15,
   "metadata": {},
   "outputs": [
    {
     "name": "stderr",
     "output_type": "stream",
     "text": [
      "[Parallel(n_jobs=-1)]: Using backend LokyBackend with 4 concurrent workers.\n",
      "[Parallel(n_jobs=-1)]: Done  10 out of  10 | elapsed:    0.0s finished\n",
      "\n",
      "[2020-04-22 16:39:21] Features: 1/3 -- score: -54293.176584293506[Parallel(n_jobs=-1)]: Using backend LokyBackend with 4 concurrent workers.\n",
      "[Parallel(n_jobs=-1)]: Done   7 out of   9 | elapsed:    0.0s remaining:    0.0s\n",
      "[Parallel(n_jobs=-1)]: Done   9 out of   9 | elapsed:    0.0s finished\n",
      "\n",
      "[2020-04-22 16:39:21] Features: 2/3 -- score: -40104.361174004574[Parallel(n_jobs=-1)]: Using backend LokyBackend with 4 concurrent workers.\n",
      "[Parallel(n_jobs=-1)]: Done   6 out of   8 | elapsed:    0.0s remaining:    0.0s\n",
      "[Parallel(n_jobs=-1)]: Done   8 out of   8 | elapsed:    0.0s finished\n",
      "\n",
      "[2020-04-22 16:39:21] Features: 3/3 -- score: -38706.395570382505"
     ]
    },
    {
     "data": {
      "text/plain": [
       "SequentialFeatureSelector(clone_estimator=True, cv=5,\n",
       "                          estimator=LinearRegression(copy_X=True,\n",
       "                                                     fit_intercept=True,\n",
       "                                                     n_jobs=None,\n",
       "                                                     normalize=False),\n",
       "                          fixed_features=None, floating=False, forward=True,\n",
       "                          k_features=3, n_jobs=-1, pre_dispatch='2*n_jobs',\n",
       "                          scoring='neg_mean_squared_error', verbose=2)"
      ]
     },
     "execution_count": 15,
     "metadata": {},
     "output_type": "execute_result"
    }
   ],
   "source": [
    "# three variable\n",
    "sfs3 = sfs(ols, k_features =3, forward =True, floating =False, verbose= 2, scoring = 'neg_mean_squared_error', cv=5, n_jobs=-1)\n",
    "sfs3.fit(X,y)"
   ]
  },
  {
   "cell_type": "code",
   "execution_count": 16,
   "metadata": {},
   "outputs": [
    {
     "name": "stderr",
     "output_type": "stream",
     "text": [
      "[Parallel(n_jobs=-1)]: Using backend LokyBackend with 4 concurrent workers.\n",
      "[Parallel(n_jobs=-1)]: Done  10 out of  10 | elapsed:    0.0s finished\n",
      "\n",
      "[2020-04-22 16:39:21] Features: 1/4 -- score: -54293.176584293506[Parallel(n_jobs=-1)]: Using backend LokyBackend with 4 concurrent workers.\n",
      "[Parallel(n_jobs=-1)]: Done   7 out of   9 | elapsed:    0.0s remaining:    0.0s\n",
      "[Parallel(n_jobs=-1)]: Done   9 out of   9 | elapsed:    0.0s finished\n",
      "\n",
      "[2020-04-22 16:39:21] Features: 2/4 -- score: -40104.361174004574[Parallel(n_jobs=-1)]: Using backend LokyBackend with 4 concurrent workers.\n",
      "[Parallel(n_jobs=-1)]: Done   6 out of   8 | elapsed:    0.0s remaining:    0.0s\n",
      "[Parallel(n_jobs=-1)]: Done   8 out of   8 | elapsed:    0.0s finished\n",
      "\n",
      "[2020-04-22 16:39:22] Features: 3/4 -- score: -38706.395570382505[Parallel(n_jobs=-1)]: Using backend LokyBackend with 4 concurrent workers.\n",
      "[Parallel(n_jobs=-1)]: Done   4 out of   7 | elapsed:    0.0s remaining:    0.0s\n",
      "[Parallel(n_jobs=-1)]: Done   7 out of   7 | elapsed:    0.0s finished\n",
      "\n",
      "[2020-04-22 16:39:22] Features: 4/4 -- score: -38285.92694490571"
     ]
    },
    {
     "data": {
      "text/plain": [
       "SequentialFeatureSelector(clone_estimator=True, cv=5,\n",
       "                          estimator=LinearRegression(copy_X=True,\n",
       "                                                     fit_intercept=True,\n",
       "                                                     n_jobs=None,\n",
       "                                                     normalize=False),\n",
       "                          fixed_features=None, floating=False, forward=True,\n",
       "                          k_features=4, n_jobs=-1, pre_dispatch='2*n_jobs',\n",
       "                          scoring='neg_mean_squared_error', verbose=2)"
      ]
     },
     "execution_count": 16,
     "metadata": {},
     "output_type": "execute_result"
    }
   ],
   "source": [
    "# four variables\n",
    "sfs4 = sfs(ols, k_features =4, forward =True, floating =False, verbose= 2, scoring = 'neg_mean_squared_error', cv=5, n_jobs=-1)\n",
    "sfs4.fit(X,y)"
   ]
  },
  {
   "cell_type": "code",
   "execution_count": 17,
   "metadata": {},
   "outputs": [
    {
     "name": "stdout",
     "output_type": "stream",
     "text": [
      "  Number of Variables         Forward stepwise Selection\n",
      "0        one variable                          (Rating,)\n",
      "1       two variables              (Rating, Student_Yes)\n",
      "2     three variables         (Rating, Age, Student_Yes)\n",
      "3      four variables  (Rating, Cards, Age, Student_Yes)\n"
     ]
    }
   ],
   "source": [
    "dat= [['one variable', sfs1.k_feature_names_],['two variables', sfs2.k_feature_names_], ['three variables', sfs3.k_feature_names_], ['four variables', sfs4.k_feature_names_]]\n",
    "\n",
    "dat_df = pd.DataFrame(dat, columns=['Number of Variables','Forward stepwise Selection'])\n",
    "\n",
    "print(dat_df)"
   ]
  },
  {
   "cell_type": "markdown",
   "metadata": {},
   "source": [
    "The first four selected models for best subset selection and\n",
    "forward stepwise selection on the Credit data set. The first\n",
    "three models are identical but the fourth models differ."
   ]
  },
  {
   "cell_type": "markdown",
   "metadata": {},
   "source": [
    "### Backward Subset Selection\n",
    "\n",
    "- Like forward stepwise selection, backward stepwise selection\n",
    "provides an efficient alternative to best subset selection.\n",
    "- However, unlike forward stepwise selection, it begins with\n",
    "the full least squares model containing all p predictors, and\n",
    "then iteratively removes the least useful predictor,\n",
    "one-at-a-time.\n",
    "\n",
    "1. Let $\\mathcal{M}_{p}$ denote the full model, which contains all $p$ predictors.\n",
    "2. For $k=p, p-1, \\ldots, 1:$\n",
    "2.1 Consider all $k$ models that contain all but one of the predictors in $\\mathcal{M}_{k},$ for a total of $k-1$ predictors.\n",
    "2.2 Choose the best among these $k$ models, and call it $\\mathcal{M}_{k-1}$ Here best is defined as having smallest RSS or highest $R^{2}$.\n",
    "3. Select a single best model from among $\\mathcal{M}_{0}, \\ldots, \\mathcal{M}_{p}$ using cross-validated prediction error, $C_{p}(\\mathrm{AIC}), \\mathrm{BIC},$ or adjusted $R^{2}$\n",
    "\n",
    "- Like forward stepwise selection, the backward selection\n",
    "approach searches through only 1 + p(p + 1)=2 models, and\n",
    "so can be applied in settings where p is too large to apply\n",
    "best subset selection\n",
    "- Like forward stepwise selection, backward stepwise\n",
    "selection is not guaranteed to yield the best model\n",
    "containing a subset of the p predictors.\n",
    "- Backward selection requires that the number of samples n\n",
    "is larger than the number of variables p (so that the full\n",
    "model can be fit). In contrast, forward stepwise can be\n",
    "used even when n < p, and so is the only viable subset\n",
    "method when p is very large."
   ]
  },
  {
   "cell_type": "markdown",
   "metadata": {},
   "source": [
    "### Choosing the optimal model\n",
    "\n",
    "- The model containing all of the predictors will always have\n",
    "the smallest RSS and the largest R2, since these quantities\n",
    "are related to the training error.\n",
    "- We wish to choose a model with low test error, not a model\n",
    "with low training error. Recall that training error is usually\n",
    "a poor estimate of test error.\n",
    "- Therefore, RSS and R2 are not suitable for selecting the\n",
    "best model among a collection of models with di\u000b",
    "erent\n",
    "numbers of predictors."
   ]
  },
  {
   "cell_type": "markdown",
   "metadata": {},
   "source": [
    "### Estimating test error: two approaches\n",
    "\n",
    "- We can indirectly estimate test error by making an\n",
    "adjustment to the training error to account for the bias due\n",
    "to overfitting.\n",
    "- We can directly estimate the test error, using either a\n",
    "validation set approach or a cross-validation approach, as\n",
    "discussed in previous lectures."
   ]
  },
  {
   "cell_type": "markdown",
   "metadata": {},
   "source": [
    "#### Adjusting training error"
   ]
  },
  {
   "cell_type": "markdown",
   "metadata": {},
   "source": [
    "- These techniques adjust the training error for the model\n",
    "size, and can be used to select among a set of models with\n",
    "different numbers of variables.\n",
    "- The next figures displays Cp, BIC, and adjusted R2 for the\n",
    "best model of each size produced by best subset selection\n",
    "on the Credit data set."
   ]
  },
  {
   "cell_type": "markdown",
   "metadata": {},
   "source": [
    "#### Mallow's $C_{p}$ :\n",
    "$$\n",
    "C_{p}=\\frac{1}{n}\\left(\\mathrm{RSS}+2 d \\hat{\\sigma}^{2}\\right)\n",
    "$$\n",
    "where $d$ is the total # of parameters used and $\\hat{\\sigma}^{2}$ is an estimate of the variance of the error $\\epsilon$ associated with each response measurement.\n",
    "- The $A I C$ criterion is defined for a large class of models fit by maximum likelihood:\n",
    "$$\n",
    "\\mathrm{AIC}=-2 \\log L+2 \\cdot d\n",
    "$$\n",
    "where $L$ is the maximized value of the likelihood function for the estimated model.\n",
    ": In the case of the linear model with Gaussian errors, maximum likelihood and least squares are the same thing, and $C_{p}$ and AIC are equivalent."
   ]
  },
  {
   "cell_type": "markdown",
   "metadata": {},
   "source": [
    "#### BIC\n",
    "$$\n",
    "\\mathrm{BIC}=\\frac{1}{n}\\left(\\mathrm{RSS}+\\log (n) d \\hat{\\sigma}^{2}\\right)\n",
    "$$\n",
    "- Like $C_{p},$ the BIC will tend to take on a small value for a model with a low test error, and so generally we select the model that has the lowest BIC value.\n",
    "\" Notice that BIC replaces the $2 d \\hat{\\sigma}^{2}$ used by $C_{p}$ with a $\\log (n) d \\hat{\\sigma}^{2}$ term, where $n$ is the number of observations.\n",
    "- since $\\log n>2$ for any $n>7,$ the BIC statistic generally places a heavier penalty on models with many variables, and hence results in the selection of smaller models than $C_{p} .$ See Figure on slide 19"
   ]
  },
  {
   "cell_type": "markdown",
   "metadata": {},
   "source": [
    "#### Adjusted $R^{2}$\n",
    "- For a least squares model with $d$ variables, the adjusted $R^{2}$ statistic is calculated as\n",
    "$$\n",
    "\\text { Adjusted } R^{2}=1-\\frac{\\mathrm{RSS} /(n-d-1)}{\\operatorname{TSS} /(n-1)}\n",
    "$$\n",
    "where TSS is the total sum of squares.\n",
    "\\bullet Unlike $C_{p}, \\mathrm{AIC},$ and $\\mathrm{BIC},$ for which a small value indicates a model with a low test error, a large value of adjusted $R^{2}$ indicates a model with a small test error.\n",
    "- Maximizing the adjusted $R^{2}$ is equivalent to minimizing $\\frac{\\mathrm{RSS}}{n-d-1} \\cdot$ While RSS always decreases as the number of variables in the model increases, $\\frac{\\mathrm{RSS}}{n-d-1}$ may increase or decrease, due to the presence of $d$ in the denominator.\n",
    "- Unlike the $R^{2}$ statistic, the adjusted $R^{2}$ statistic pays $a$ price for the inclusion of unnecessary variables in the model."
   ]
  },
  {
   "cell_type": "markdown",
   "metadata": {},
   "source": [
    "#### Validation and Cross-Validation\n",
    "。 Each of the procedures returns a sequence of models $\\mathcal{M}_{k}$ indexed by model size $k=0,1,2, \\ldots . .$ Our job here is to select $\\hat{k} .$ Once selected, we will return model $\\mathcal{M}_{\\hat{k}}$\n",
    "・ We compute the validation set error or the cross-validation error for each model $\\mathcal{M}_{k}$ under consideration, and then select the $k$ for which the resulting estimated test error is smallest.\n",
    "- This procedure has an advantage relative to AIC, BIC, $C_{p}$ and adjusted $R^{2},$ in that it provides a direct estimate of the test error, and doesn't require an estimate of the error variance $\\sigma^{2}$\n",
    "It can also be used in a wider range of model selection tasks, even in cases where it is hard to pinpoint the model degrees of freedom (e.g. the number of predictors in the model) or hard to estimate the error variance $\\sigma^{2}$"
   ]
  },
  {
   "cell_type": "markdown",
   "metadata": {},
   "source": [
    "#### Ridge regression and Lasso\n",
    "- The subset selection methods use least squares to fit a\n",
    "linear model that contains a subset of the predictors.\n",
    "- As an alternative, we can fit a model containing all p\n",
    "predictors using a technique that constrains or regularizes\n",
    "the coefficient estimates, or equivalently, that shrinks the\n",
    "coefficient estimates towards zero.\n",
    "- It may not be immediately obvious why such a constraint\n",
    "should improve the fit, but it turns out that shrinking the\n",
    "coefficient estimates can significantly reduce their variance."
   ]
  },
  {
   "cell_type": "markdown",
   "metadata": {},
   "source": [
    "#### Ridge Regression\n",
    "。 Recall that the least squares fitting procedure estimates $\\beta_{0}, \\beta_{1}, \\ldots, \\beta_{p}$ using the values that minimize\n",
    "$$\n",
    "\\mathrm{RSS}=\\sum_{i=1}^{n}\\left(y_{i}-\\beta_{0}-\\sum_{j=1}^{p} \\beta_{j} x_{i j}\\right)^{2}\n",
    "$$\n",
    "In contrast, the ridge regression coefficient estimates $\\hat{\\beta}^{R}$ are the values that minimize\n",
    "$\\sum_{i=1}^{n}\\left(y_{i}-\\beta_{0}-\\sum_{j=1}^{p} \\beta_{j} x_{i j}\\right)^{2}+\\lambda \\sum_{j=1}^{p} \\beta_{j}^{2}=\\mathrm{RSS}+\\lambda \\sum_{j=1}^{p} \\beta_{j}^{2}$\n",
    "where $\\lambda \\geq 0$ is a tuning parameter, to be determined separately.\n",
    "- As with least squares, ridge regression seeks coefficient\n",
    "estimates that fit the data well, by making the RSS small.\n",
    "- However, the second term, $\\lambda \\sum_{j=1}^{p}$, called a shrinkage\n",
    "penalty, is small when $\\beta_{0}, \\beta_{1}, \\ldots, \\beta_{p}$ are close to zero, and so it\n",
    "has the effect of shrinking the estimates of $\\beta_{j}$ towards zero.\n",
    "- The tuning parameter $\\lambda$ serves to control the relative\n",
    "impact of these two terms on the regression coefficient\n",
    "estimates.\n",
    "- Selecting a good value for $\\lambda$ is critical; cross-validation is\n",
    "used for this."
   ]
  },
  {
   "cell_type": "code",
   "execution_count": 18,
   "metadata": {},
   "outputs": [],
   "source": [
    "# Credit Card Example\n",
    "import pandas as pd\n",
    "import numpy as np\n",
    "from numpy import linalg\n",
    "import matplotlib.pyplot as plt\n",
    "import seaborn as sns\n",
    "\n",
    "from sklearn.preprocessing import scale, StandardScaler\n",
    "from sklearn import model_selection\n",
    "from sklearn.linear_model import LinearRegression, Ridge, RidgeCV, Lasso, LassoCV\n",
    "from sklearn.decomposition import PCA\n",
    "from sklearn.cross_decomposition import PLSRegression\n",
    "from sklearn.model_selection import KFold, cross_val_score\n",
    "from sklearn.metrics import mean_squared_error\n",
    "\n",
    "import itertools\n",
    "from itertools import combinations\n",
    "\n",
    "%matplotlib inline\n",
    "plt.style.use('seaborn-white') "
   ]
  },
  {
   "cell_type": "code",
   "execution_count": 19,
   "metadata": {},
   "outputs": [
    {
     "name": "stdout",
     "output_type": "stream",
     "text": [
      "<class 'pandas.core.frame.DataFrame'>\n",
      "Float64Index: 400 entries, 14.890999999999998 to 18.701\n",
      "Data columns (total 10 columns):\n",
      " #   Column     Non-Null Count  Dtype   \n",
      "---  ------     --------------  -----   \n",
      " 0   Limit      400 non-null    int64   \n",
      " 1   Rating     400 non-null    int64   \n",
      " 2   Cards      400 non-null    int64   \n",
      " 3   Age        400 non-null    int64   \n",
      " 4   Education  400 non-null    int64   \n",
      " 5   Gender     400 non-null    category\n",
      " 6   Student    400 non-null    category\n",
      " 7   Married    400 non-null    category\n",
      " 8   Ethnicity  400 non-null    category\n",
      " 9   Balance    400 non-null    int64   \n",
      "dtypes: category(4), int64(6)\n",
      "memory usage: 23.8 KB\n"
     ]
    }
   ],
   "source": [
    "df_credit = pd.read_csv('Data/Credit.csv', index_col=0)\n",
    "df_credit[\"Gender\"] = df_credit[\"Gender\"].astype('category')\n",
    "df_credit[\"Student\"] = df_credit[\"Student\"].astype('category')\n",
    "df_credit[\"Married\"] = df_credit[\"Married\"].astype('category')\n",
    "df_credit[\"Ethnicity\"] = df_credit[\"Ethnicity\"].astype('category')\n",
    "df_credit.info()"
   ]
  },
  {
   "cell_type": "code",
   "execution_count": 20,
   "metadata": {},
   "outputs": [
    {
     "data": {
      "text/html": [
       "<div>\n",
       "<style scoped>\n",
       "    .dataframe tbody tr th:only-of-type {\n",
       "        vertical-align: middle;\n",
       "    }\n",
       "\n",
       "    .dataframe tbody tr th {\n",
       "        vertical-align: top;\n",
       "    }\n",
       "\n",
       "    .dataframe thead th {\n",
       "        text-align: right;\n",
       "    }\n",
       "</style>\n",
       "<table border=\"1\" class=\"dataframe\">\n",
       "  <thead>\n",
       "    <tr style=\"text-align: right;\">\n",
       "      <th></th>\n",
       "      <th>Age</th>\n",
       "      <th>Cards</th>\n",
       "      <th>Education</th>\n",
       "      <th>Limit</th>\n",
       "      <th>Rating</th>\n",
       "      <th>Ethnicity_Asian</th>\n",
       "      <th>Ethnicity_Caucasian</th>\n",
       "      <th>Gender_Female</th>\n",
       "      <th>Married_Yes</th>\n",
       "      <th>Student_Yes</th>\n",
       "    </tr>\n",
       "    <tr>\n",
       "      <th>Income</th>\n",
       "      <th></th>\n",
       "      <th></th>\n",
       "      <th></th>\n",
       "      <th></th>\n",
       "      <th></th>\n",
       "      <th></th>\n",
       "      <th></th>\n",
       "      <th></th>\n",
       "      <th></th>\n",
       "      <th></th>\n",
       "    </tr>\n",
       "  </thead>\n",
       "  <tbody>\n",
       "    <tr>\n",
       "      <th>14.891</th>\n",
       "      <td>34</td>\n",
       "      <td>2</td>\n",
       "      <td>11</td>\n",
       "      <td>3606</td>\n",
       "      <td>283</td>\n",
       "      <td>0</td>\n",
       "      <td>1</td>\n",
       "      <td>0</td>\n",
       "      <td>1</td>\n",
       "      <td>0</td>\n",
       "    </tr>\n",
       "    <tr>\n",
       "      <th>106.025</th>\n",
       "      <td>82</td>\n",
       "      <td>3</td>\n",
       "      <td>15</td>\n",
       "      <td>6645</td>\n",
       "      <td>483</td>\n",
       "      <td>1</td>\n",
       "      <td>0</td>\n",
       "      <td>1</td>\n",
       "      <td>1</td>\n",
       "      <td>1</td>\n",
       "    </tr>\n",
       "    <tr>\n",
       "      <th>104.593</th>\n",
       "      <td>71</td>\n",
       "      <td>4</td>\n",
       "      <td>11</td>\n",
       "      <td>7075</td>\n",
       "      <td>514</td>\n",
       "      <td>1</td>\n",
       "      <td>0</td>\n",
       "      <td>0</td>\n",
       "      <td>0</td>\n",
       "      <td>0</td>\n",
       "    </tr>\n",
       "  </tbody>\n",
       "</table>\n",
       "</div>"
      ],
      "text/plain": [
       "         Age  Cards  Education  Limit  Rating  Ethnicity_Asian  \\\n",
       "Income                                                           \n",
       "14.891    34      2         11   3606     283                0   \n",
       "106.025   82      3         15   6645     483                1   \n",
       "104.593   71      4         11   7075     514                1   \n",
       "\n",
       "         Ethnicity_Caucasian  Gender_Female  Married_Yes  Student_Yes  \n",
       "Income                                                                 \n",
       "14.891                     1              0            1            0  \n",
       "106.025                    0              1            1            1  \n",
       "104.593                    0              0            0            0  "
      ]
     },
     "execution_count": 20,
     "metadata": {},
     "output_type": "execute_result"
    }
   ],
   "source": [
    "y = df_credit.Balance\n",
    "\n",
    "X = df_credit[df_credit.columns.difference(['Balance'])]\n",
    "# Use K-1 columns for K categories so Yes/No uses only one column 0/1\n",
    "X = pd.get_dummies(X, drop_first=True)\n",
    "X_scaled = scale(X)\n",
    "X.head(3)"
   ]
  },
  {
   "cell_type": "code",
   "execution_count": 21,
   "metadata": {},
   "outputs": [],
   "source": [
    "n_lambdas = 200\n",
    "lambdas = np.logspace(5, -2, n_lambdas)\n",
    "\n",
    "coefs = []\n",
    "scores = []\n",
    "for lam in lambdas:\n",
    "    ridge = Ridge(alpha=lam)\n",
    "    # it's very important to scale the data for Ridge regression\n",
    "    ridge.fit(X_scaled, y)\n",
    "    coefs.append(ridge.coef_)\n",
    "    scores.append(ridge.score(X_scaled, y))"
   ]
  },
  {
   "cell_type": "code",
   "execution_count": 23,
   "metadata": {},
   "outputs": [
    {
     "data": {
      "image/png": "[encoded data removed]",
      "text/plain": [
       "<Figure size 1080x288 with 3 Axes>"
      ]
     },
     "metadata": {},
     "output_type": "display_data"
    }
   ],
   "source": [
    "fig, (ax1, ax2, ax3) = plt.subplots(1, 3, figsize=(15,4))\n",
    "\n",
    "# get the four largest (in abs value) coefficient positions\n",
    "ind = np.argpartition(np.abs(coefs[-1]), -4)[-4:]\n",
    "\n",
    "# firt plot\n",
    "ax1.plot(lambdas, coefs)\n",
    "ax1.set_xscale('log')\n",
    "ax1.set_xlabel('lambda')\n",
    "ax1.set_ylabel('Standardized Coefficients')\n",
    "ax1.legend(np.array(ax1.get_lines())[ind], X.columns[ind]);\n",
    "\n",
    "# second plot\n",
    "no_ridge_norm = linalg.norm(coefs[-1])\n",
    "norm_coefs = linalg.norm(coefs/no_ridge_norm, axis=1)\n",
    "ax2.plot(norm_coefs, coefs)\n",
    "ax2.set_xlabel('Normalized Ridge coefficients')\n",
    "ax2.set_ylabel('Standardized Coefficients')\n",
    "ax2.legend(np.array(ax2.get_lines())[ind], X.columns[ind]); #delimiter\n",
    "\n",
    "# third\n",
    "ax3.plot(lambdas, scores)\n",
    "ax3.set_xscale('log')\n",
    "ax3.set_xlabel('lambda')\n",
    "ax3.set_ylabel('R^2')\n",
    "ax3.set_title('R^2 as a function of regularization');\n"
   ]
  },
  {
   "cell_type": "markdown",
   "metadata": {},
   "source": [
    "- In the left-hand panel, each curve corresponds to the ridge regression coefficient estimate for one of the ten variables, plotted as a function of $\\lambda$\n",
    "- The right-hand panel displays the same ridge coefficient estimates as the left-hand panel, but instead of displaying $\\lambda$ on the $x$ -axis, we now display $\\left\\|\\hat{\\beta}_{\\lambda}^{R}\\right\\|_{2} /\\|\\hat{\\beta}\\|_{2},$ where $\\hat{\\beta}$ denotes the vector of least squares coefficient estimates.\n",
    "- The notation $\\|\\beta\\|_{2}$ denotes the $\\ell_{2}$ norm (pronounced \"ell $\\left.2^{\\prime \\prime}\\right)$ of a vector, and is defined as $\\|\\beta\\|_{2}=\\sqrt{\\sum_{j=1}^{p} \\beta_{j}^{2}}$"
   ]
  },
  {
   "cell_type": "markdown",
   "metadata": {},
   "source": [
    "#### Scaling of predictors\n",
    "\n",
    "- The standard least squares coefficient estimates are scale equivariant: multiplying $X_{j}$ by a constant $c$ simply leads to a scaling of the least squares coefficient estimates by a factor of $1 / c .$ In other words, regardless of how the $j$ th predictor is scaled, $X_{j} \\hat{\\beta}_{j}$ will remain the same.\n",
    "In contrast, the ridge regression coefficient estimates can change substantially when multiplying a given predictor by a constant, due to the sum of squared coefficients term in the penalty part of the ridge regression objective function.\n",
    "- Therefore, it is best to apply ridge regression after standardizing the predictors, using the formula\n",
    "$$\n",
    "\\tilde{x}_{i j}=\\frac{x_{i j}}{\\sqrt{\\frac{1}{n} \\sum_{i=1}^{n}\\left(x_{i j}-\\bar{x}_{j}\\right)^{2}}}\n",
    "$$"
   ]
  },
  {
   "cell_type": "markdown",
   "metadata": {},
   "source": [
    "### Lasso\n",
    "- Ridge regression does have one obvious disadvantage:\n",
    "unlike subset selection, which will generally select models that involve just a subset of the variables, ridge regression will include all $p$ predictors in the final model\n",
    "- The Lasso is a relatively recent alternative to ridge regression that overcomes this disadvantage. The lasso coefficients, $\\hat{\\beta}_{\\lambda}^{L},$ minimize the quantity\n",
    "$\\sum_{i=1}^{n}\\left(y_{i}-\\beta_{0}-\\sum_{j=1}^{p} \\beta_{j} x_{i j}\\right)^{2}+\\lambda \\sum_{j=1}^{p}\\left|\\beta_{j}\\right|=\\mathrm{RSS}+\\lambda \\sum_{j=1}^{p}\\left|\\beta_{j}\\right|$\n",
    "- In statistical parlance, the lasso uses an $\\ell_{1}$ (pronounced\n",
    "\"ell 1\") penalty instead of an $\\ell_{2}$ penalty. The $\\ell_{1}$ norm of a coefficient vector $\\beta$ is given by $\\|\\beta\\|_{1}=\\sum\\left|\\beta_{j}\\right|$\n",
    "- As with ridge regression, the lasso shrinks the coefficient\n",
    "estimates towards zero.\n",
    "- However, in the case of the lasso, the $l_{1}$ penalty has the\n",
    "efect of forcing some of the coefficient estimates to be\n",
    "exactly equal to zero when the tuning parameter $\\lambda$ is\n",
    "sufficiently large.\n",
    "- Hence, much like best subset selection, the lasso performs\n",
    "variable selection.\n",
    "- We say that the lasso yields sparse models | that is,\n",
    "models that involve only a subset of the variables.\n",
    "- As in ridge regression, selecting a good value of $\\lambda$ for the\n",
    "lasso is critical; cross-validation is again the method of\n",
    "choice."
   ]
  },
  {
   "cell_type": "code",
   "execution_count": 24,
   "metadata": {},
   "outputs": [
    {
     "data": {
      "image/png": "[encoded data removed]",
      "text/plain": [
       "<Figure size 1080x288 with 3 Axes>"
      ]
     },
     "metadata": {},
     "output_type": "display_data"
    }
   ],
   "source": [
    "n_lambdas = 200\n",
    "lambdas = np.logspace(3, 0.5, n_lambdas)\n",
    "\n",
    "coefs = []\n",
    "scores = []\n",
    "for lam in lambdas:\n",
    "    lasso = Lasso(alpha=lam)\n",
    "    lasso.fit(X_scaled, y)\n",
    "    coefs.append(lasso.coef_)\n",
    "    scores.append(lasso.score(X_scaled, y));\n",
    "    \n",
    "fig, (ax1, ax2, ax3) = plt.subplots(1, 3, figsize=(15,4))\n",
    "\n",
    "# get the four largest (in abs value) coefficient positions\n",
    "ind = np.argpartition(np.abs(coefs[-1]), -4)[-4:]\n",
    "\n",
    "# firt plot\n",
    "ax1.plot(lambdas, coefs)\n",
    "ax1.set_xscale('log')\n",
    "ax1.set_xlabel('lambda')\n",
    "ax1.set_ylabel('Standardized Coefficients')\n",
    "ax1.legend(np.array(ax1.get_lines())[ind], X.columns[ind]);\n",
    "\n",
    "# second plot\n",
    "no_lasso_norm = linalg.norm(coefs[-1], ord=1)\n",
    "norm_coefs = linalg.norm(coefs/no_lasso_norm, axis=1, ord=1)\n",
    "ax2.plot(norm_coefs, coefs)\n",
    "ax2.set_xlabel('Normalized Lasso coefficients')\n",
    "ax2.set_ylabel('Standardized Coefficients')\n",
    "ax2.legend(np.array(ax2.get_lines())[ind], X.columns[ind]);\n",
    "\n",
    "# third\n",
    "ax3.plot(lambdas, scores)\n",
    "ax3.set_xscale('log')\n",
    "ax3.set_xlabel('lambda')\n",
    "ax3.set_ylabel('R^2')\n",
    "ax3.set_title('R^2 as a function of regularization');\n",
    "\n",
    "# the values for lambda are different here than in the text\n",
    "# most likely the function that is minimized is a bit different in scikit-learn and R\n",
    "# there's probably a factor of N or 2N (N=len(y)) difference."
   ]
  },
  {
   "cell_type": "markdown",
   "metadata": {},
   "source": [
    "Why is it that the lasso, unlike ridge regression, results in coefficient estimates that are exactly equal to zero?\n",
    "\n",
    "One can show that the lasso and ridge regression coefficient estimates solve the problems\n",
    "$$\n",
    "\\underset{\\beta}{\\operatorname{minimize}} \\sum_{i=1}^{n}\\left(y_{i}-\\beta_{0}-\\sum_{j=1}^{p} \\beta_{j} x_{i j}\\right)^{2} \\quad \\text { subject to } \\quad \\sum_{j=1}^{p}\\left|\\beta_{j}\\right| \\leq s\n",
    "$$\n",
    "and\n",
    "$$\n",
    "\\underset{\\beta}{\\operatorname{minimize}} \\sum_{i=1}^{n}\\left(y_{i}-\\beta_{0}-\\sum_{j=1}^{p} \\beta_{j} x_{i j}\\right)^{2} \\quad \\text { subject to } \\quad \\sum_{j=1}^{p} \\beta_{j}^{2} \\leq s\n",
    "$$\n",
    "respectively."
   ]
  },
  {
   "cell_type": "markdown",
   "metadata": {},
   "source": [
    "![ridge and lasso](images/ridge.png)"
   ]
  },
  {
   "cell_type": "markdown",
   "metadata": {},
   "source": [
    "#### Conclusions\n",
    "- These two examples illustrate that neither ridge regression\n",
    "nor the lasso will universally dominate the other.\n",
    "- In general, one might expect the lasso to perform better\n",
    "when the response is a function of only a relatively small\n",
    "number of predictors.\n",
    "- However, the number of predictors that is related to the\n",
    "response is never known a priori for real data sets.\n",
    "- A technique such as cross-validation can be used in order\n",
    "to determine which approach is better on a particular data\n",
    "set."
   ]
  },
  {
   "cell_type": "markdown",
   "metadata": {},
   "source": [
    "#### Selecting the Tuning Parameter for Ridge Regression and Lasso\n",
    "- As for subset selection, for ridge regression and lasso we\n",
    "require a method to determine which of the models under\n",
    "consideration is best.\n",
    "- That is, we require a method selecting a value for the\n",
    "tuning parameter $\\lambda$ or equivalently, the value of the\n",
    "constraint s.\n",
    "- Cross-validation provides a simple way to tackle this\n",
    "problem. We choose a grid of $\\lambda$ values, and compute the\n",
    "cross-validation error rate for each value of $\\lambda$.\n",
    "- We then select the tuning parameter value for which the\n",
    "cross-validation error is smallest.\n",
    "- Finally, the model is re-fit using all of the available\n",
    "observations and the selected value of the tuning\n",
    "parameter."
   ]
  },
  {
   "cell_type": "code",
   "execution_count": 29,
   "metadata": {},
   "outputs": [
    {
     "data": {
      "image/png": "[encoded data removed]",
      "text/plain": [
       "<Figure size 360x288 with 1 Axes>"
      ]
     },
     "metadata": {},
     "output_type": "display_data"
    }
   ],
   "source": [
    "lambdas = np.logspace(0.5, -4, 100)\n",
    "ridgeCV = RidgeCV(alphas=lambdas, store_cv_values=True)\n",
    "ridgeCV.fit(X_scaled, y)\n",
    "MSE_alphas = np.mean(ridgeCV.cv_values_, axis=0)\n",
    "\n",
    "fig, ax = plt.subplots(1, 1, figsize=(5,4))\n",
    "ax.plot(lambdas, MSE_alphas)\n",
    "ax.axvline(ridgeCV.alpha_, color='k', linestyle='--')\n",
    "ax.set_xscale('log')\n",
    "ax.set_xlabel('lambda')\n",
    "ax.set_ylabel('CV MSE');"
   ]
  },
  {
   "cell_type": "markdown",
   "metadata": {},
   "source": [
    "#### Dimension Reduction Methods\n",
    "- The methods that we have discussed so far in this chapter\n",
    "have involved fitting linear regression models, via least\n",
    "squares or a shrunken approach, using the original\n",
    "predictors, $X_{0}, X_{1}, \\ldots, X_{p}$.\n",
    "- We now explore a class of approaches that transform the\n",
    "predictors and then fit a least squares model using the\n",
    "transformed variables. We will refer to these techniques as\n",
    "dimension reduction methods."
   ]
  },
  {
   "cell_type": "markdown",
   "metadata": {},
   "source": [
    "#### Dimension Reduction Methods: details\n",
    "- Let $Z_{1}, Z_{2}, \\ldots, Z_{M}$ represent $M<p$ linear combinations of our original $p$ predictors. That is,\n",
    "$Z_{m}=\\sum_{j=1}^{p} \\phi_{m j} X_{j}$\n",
    "for some constants $\\phi_{m 1}, \\ldots, \\phi_{m p}$\n",
    "- We can then fit the linear regression model,\n",
    "$$\n",
    "y_{i}=\\theta_{0}+\\sum_{m=1}^{M} \\theta_{m} z_{i m}+\\epsilon_{i}, \\quad i=1, \\ldots, n\n",
    "$$\n",
    "using ordinary least squares.\n",
    "- Note that in model (2), the regression coefficients are given by $\\theta_{0}, \\theta_{1}, \\ldots, \\theta_{M} .$ If the constants $\\phi_{m 1}, \\ldots, \\phi_{m p}$ are chosen wisely, then such dimension reduction approaches can often outperform OLS regression\n",
    "\n",
    "- Notice that from definition (1),\n",
    "$\\sum_{m=1}^{M} \\theta_{m} z_{i m}=\\sum_{m=1}^{M} \\theta_{m} \\sum_{j=1}^{p} \\phi_{m j} x_{i j}=\\sum_{j=1}^{p} \\sum_{m=1}^{M} \\theta_{m} \\phi_{m j} x_{i j}=\\sum_{j=1}^{p} \\beta_{j} x_{i j}$\n",
    "where $\\beta_{j}=\\sum_{m=1}^{M} \\theta_{m} \\phi_{m j}$\n",
    "- Hence model (2) can be thought of as a special case of the original linear regression model.\n",
    "- Dimension reduction serves to constrain the estimated $\\beta_{j}$ coefficients, since now they must take the form (3)\n",
    "- Can win in the bias-variance tradeoff."
   ]
  },
  {
   "cell_type": "markdown",
   "metadata": {},
   "source": [
    "#### Principal Components Regression\n",
    "- Here we apply principal components analysis (PCA)\n",
    "(discussed in Chapter 10 of the text) to define the linear\n",
    "combinations of the predictors, for use in our regression.\n",
    "- The first principal component is that (normalized) linear\n",
    "combination of the variables with the largest variance.\n",
    "- The second principal component has largest variance,\n",
    "subject to being uncorrelated with the first.\n",
    "- Hence with many correlated original variables, we replace\n",
    "them with a small set of principal components that capture\n",
    "their joint variation."
   ]
  },
  {
   "cell_type": "code",
   "execution_count": 33,
   "metadata": {},
   "outputs": [
    {
     "data": {
      "image/png": "[encoded data removed]",
      "text/plain": [
       "<Figure size 720x288 with 2 Axes>"
      ]
     },
     "metadata": {},
     "output_type": "display_data"
    }
   ],
   "source": [
    "components = list(range(1, X_scaled.shape[1]+1))\n",
    "coefs = []\n",
    "scores = []\n",
    "for comp in components:\n",
    "    pca = PCA(n_components=comp)\n",
    "    X_pca_comp = pca.fit_transform(X_scaled)\n",
    "    # use the first comp components\n",
    "    #X_pca_comp = X_pca[:, 0:comp+1]\n",
    "    linear = LinearRegression(fit_intercept=False)\n",
    "    linear.fit(X_pca_comp, y)\n",
    "    coefs.append(linear.coef_)\n",
    "    scores.append(linear.score(X_pca_comp, y));\n",
    "    \n",
    "coefs = np.array(list(itertools.zip_longest(*coefs, fillvalue=0))).T\n",
    "\n",
    "fig, (ax1, ax2) = plt.subplots(1, 2, figsize=(10,4))\n",
    "\n",
    "# get the four largest (in abs value) coefficient positions\n",
    "ind = np.argpartition(np.abs(coefs[-1]), -4)[-4:]\n",
    "\n",
    "# firt plot\n",
    "ax1.plot(components, coefs)\n",
    "ax1.set_xlabel('Number of PCA components')\n",
    "ax1.set_ylabel('Standardized Coefficients')\n",
    "ax1.legend(np.array(ax1.get_lines())[ind], X.columns[ind])\n",
    "\n",
    "# third\n",
    "ax2.plot(components, scores)\n",
    "ax2.set_xlabel('Number of PCA components')\n",
    "ax2.set_ylabel('R^2')\n",
    "ax2.set_title('R^2 as a function of regularization');\n"
   ]
  },
  {
   "cell_type": "markdown",
   "metadata": {},
   "source": [
    "#### Partial Least Squares\n",
    "- PCR identifies linear combinations, or directions, that best\n",
    "represent the predictors $X_{0}, X_{1}, \\ldots, X_{p}$.\n",
    "- These directions are identified in an unsupervised way, since\n",
    "the response Y is not used to help determine the principal\n",
    "component directions.\n",
    "- That is, the response does not supervise the identification\n",
    "of the principal components.\n",
    "- Consequently, PCR suffers from a potentially serious\n",
    "drawback: there is no guarantee that the directions that\n",
    "best explain the predictors will also be the best directions\n",
    "to use for predicting the response. \n",
    "- Like PCR, PLS is a dimension reduction method, which\n",
    "first identifies a new set of features $Z_{0}, Z_{1}, \\ldots, Z_{p}$ that are\n",
    "linear combinations of the original features, and then fits a\n",
    "linear model via OLS using these M new features.\n",
    "- But unlike PCR, PLS identifies these new features in a\n",
    "supervised way - that is, it makes use of the response Y in\n",
    "order to identify new features that not only approximate\n",
    "the old features well, but also that are related to the\n",
    "response.\n",
    "- Roughly speaking, the PLS approach attempts to find\n",
    "directions that help explain both the response and the\n",
    "predictors.\n",
    "- After standardizing the $p$ predictors, PLS computes the first direction $Z_{1}$ by setting each $\\phi_{1 j}$ in (1) equal to the coefficient from the simple linear regression of $Y$ onto $X_{j}$\n",
    "one can show that this coefficient is proportional to the correlation between $Y$ and $X_{j}$\n",
    "- Hence, in computing $Z_{1}=\\sum_{j=1}^{p} \\phi_{1 j} X_{j},$ PLS places the highest weight on the variables that are most strongly related to the response.\n",
    "- Subsequent directions are found by taking residuals and then repeating the above prescription."
   ]
  },
  {
   "cell_type": "markdown",
   "metadata": {},
   "source": [
    "### Summary\n",
    "- Model selection methods are an essential tool for data\n",
    "analysis, especially for big datasets involving many\n",
    "predictors.\n",
    "- Research into methods that give sparsity, such as the lasso\n",
    "is an especially hot area.\n",
    "- Later, we will return to sparsity in more detail, and will\n",
    "describe related approaches such as the elastic net."
   ]
  },
  {
   "cell_type": "markdown",
   "metadata": {},
   "source": [
    "### End of Chapter 6"
   ]
  },
  {
   "cell_type": "code",
   "execution_count": 34,
   "metadata": {},
   "outputs": [],
   "source": [
    "# Exercise Problems"
   ]
  }
 ],
 "metadata": {
  "kernelspec": {
   "display_name": "Python 3",
   "language": "python",
   "name": "python3"
  },
  "language_info": {
   "codemirror_mode": {
    "name": "ipython",
    "version": 3
   },
   "file_extension": ".py",
   "mimetype": "text/x-python",
   "name": "python",
   "nbconvert_exporter": "python",
   "pygments_lexer": "ipython3",
   "version": "3.6.7"
  }
 },
 "nbformat": 4,
 "nbformat_minor": 2
}
