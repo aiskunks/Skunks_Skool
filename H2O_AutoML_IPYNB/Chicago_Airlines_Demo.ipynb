{
 "cells": [
  {
   "cell_type": "code",
   "execution_count": 7,
   "metadata": {
    "collapsed": false
   },
   "outputs": [],
   "source": [
    "import os\n",
    "import h2o\n",
    "from h2o.estimators.glm import H2OGeneralizedLinearEstimator\n",
    "from h2o.estimators.gbm import H2OGradientBoostingEstimator"
   ]
  },
  {
   "cell_type": "code",
   "execution_count": 8,
   "metadata": {
    "collapsed": false,
    "scrolled": true
   },
   "outputs": [
    {
     "data": {
      "text/html": [
       "<div style=\"overflow:auto\"><table style=\"width:50%\"><tr><td>H2O cluster uptime: </td>\n",
       "<td>23 minutes 22 seconds 951 milliseconds </td></tr>\n",
       "<tr><td>H2O cluster version: </td>\n",
       "<td>3.8.3.2</td></tr>\n",
       "<tr><td>H2O cluster name: </td>\n",
       "<td>H2O_started_from_R_amy_dmi326</td></tr>\n",
       "<tr><td>H2O cluster total nodes: </td>\n",
       "<td>1</td></tr>\n",
       "<tr><td>H2O cluster total free memory: </td>\n",
       "<td>2.84 GB</td></tr>\n",
       "<tr><td>H2O cluster total cores: </td>\n",
       "<td>8</td></tr>\n",
       "<tr><td>H2O cluster allowed cores: </td>\n",
       "<td>8</td></tr>\n",
       "<tr><td>H2O cluster healthy: </td>\n",
       "<td>True</td></tr>\n",
       "<tr><td>H2O Connection ip: </td>\n",
       "<td>127.0.0.1</td></tr>\n",
       "<tr><td>H2O Connection port: </td>\n",
       "<td>54321</td></tr>\n",
       "<tr><td>H2O Connection proxy: </td>\n",
       "<td>None</td></tr>\n",
       "<tr><td>Python Version: </td>\n",
       "<td>2.7.10</td></tr></table></div>"
      ],
      "text/plain": [
       "------------------------------  --------------------------------------\n",
       "H2O cluster uptime:             23 minutes 22 seconds 951 milliseconds\n",
       "H2O cluster version:            3.8.3.2\n",
       "H2O cluster name:               H2O_started_from_R_amy_dmi326\n",
       "H2O cluster total nodes:        1\n",
       "H2O cluster total free memory:  2.84 GB\n",
       "H2O cluster total cores:        8\n",
       "H2O cluster allowed cores:      8\n",
       "H2O cluster healthy:            True\n",
       "H2O Connection ip:              127.0.0.1\n",
       "H2O Connection port:            54321\n",
       "H2O Connection proxy:\n",
       "Python Version:                 2.7.10\n",
       "------------------------------  --------------------------------------"
      ]
     },
     "metadata": {},
     "output_type": "display_data"
    }
   ],
   "source": [
    "# Connect to a cluster\n",
    "h2o.init()"
   ]
  },
  {
   "cell_type": "code",
   "execution_count": 9,
   "metadata": {
    "collapsed": false
   },
   "outputs": [],
   "source": [
    "## Define data paths\n",
    "base_path = os.path.abspath(\"../data\")\n",
    "flights_path = base_path + \"/flights.csv\"\n",
    "weather_path = base_path + \"/weather.csv\""
   ]
  },
  {
   "cell_type": "code",
   "execution_count": 10,
   "metadata": {
    "collapsed": false
   },
   "outputs": [
    {
     "name": "stdout",
     "output_type": "stream",
     "text": [
      "\n",
      "Parse Progress: [##################################################] 100%\n",
      "\n",
      "Parse Progress: [##################################################] 100%\n"
     ]
    }
   ],
   "source": [
    "## Ingest data\n",
    "flights_hex = h2o.import_file(path = flights_path, destination_frame = \"flights_hex\")\n",
    "weather_hex = h2o.import_file(path = weather_path, destination_frame = \"weather_hex\")"
   ]
  },
  {
   "cell_type": "code",
   "execution_count": 11,
   "metadata": {
    "collapsed": false
   },
   "outputs": [
    {
     "data": {
      "text/html": [
       "<table>\n",
       "<tr><th style=\"text-align: right;\">  Year</th><th style=\"text-align: right;\">  Month</th><th style=\"text-align: right;\">  DayofMonth</th><th style=\"text-align: right;\">  DayOfWeek</th><th style=\"text-align: right;\">  DepTime</th><th style=\"text-align: right;\">  CRSDepTime</th><th style=\"text-align: right;\">  ArrTime</th><th style=\"text-align: right;\">  CRSArrTime</th><th>UniqueCarrier  </th><th style=\"text-align: right;\">  FlightNum</th><th style=\"text-align: right;\">  TailNum</th><th style=\"text-align: right;\">  ActualElapsedTime</th><th style=\"text-align: right;\">  CRSElapsedTime</th><th style=\"text-align: right;\">  AirTime</th><th style=\"text-align: right;\">  ArrDelay</th><th style=\"text-align: right;\">  DepDelay</th><th>Origin  </th><th>Dest  </th><th style=\"text-align: right;\">  Distance</th><th style=\"text-align: right;\">  TaxiIn</th><th style=\"text-align: right;\">  TaxiOut</th><th style=\"text-align: right;\">  Cancelled</th><th style=\"text-align: right;\">  CancellationCode</th><th style=\"text-align: right;\">  Diverted</th><th style=\"text-align: right;\">  CarrierDelay</th><th style=\"text-align: right;\">  WeatherDelay</th><th style=\"text-align: right;\">  NASDelay</th><th style=\"text-align: right;\">  SecurityDelay</th><th style=\"text-align: right;\">  LateAircraftDelay</th><th>IsArrDelayed  </th><th>IsDepDelayed  </th></tr>\n",
       "<tr><td style=\"text-align: right;\">  1987</td><td style=\"text-align: right;\">     10</td><td style=\"text-align: right;\">           3</td><td style=\"text-align: right;\">          6</td><td style=\"text-align: right;\">      907</td><td style=\"text-align: right;\">         907</td><td style=\"text-align: right;\">     1511</td><td style=\"text-align: right;\">        1500</td><td>AA             </td><td style=\"text-align: right;\">         38</td><td style=\"text-align: right;\">      nan</td><td style=\"text-align: right;\">                244</td><td style=\"text-align: right;\">             233</td><td style=\"text-align: right;\">      nan</td><td style=\"text-align: right;\">        11</td><td style=\"text-align: right;\">         0</td><td>SAN     </td><td>ORD   </td><td style=\"text-align: right;\">      1723</td><td style=\"text-align: right;\">     nan</td><td style=\"text-align: right;\">      nan</td><td style=\"text-align: right;\">          0</td><td style=\"text-align: right;\">               nan</td><td style=\"text-align: right;\">         0</td><td style=\"text-align: right;\">             0</td><td style=\"text-align: right;\">             0</td><td style=\"text-align: right;\">         0</td><td style=\"text-align: right;\">              0</td><td style=\"text-align: right;\">                  0</td><td>YES           </td><td>NO            </td></tr>\n",
       "<tr><td style=\"text-align: right;\">  1987</td><td style=\"text-align: right;\">     10</td><td style=\"text-align: right;\">           6</td><td style=\"text-align: right;\">          2</td><td style=\"text-align: right;\">      907</td><td style=\"text-align: right;\">         907</td><td style=\"text-align: right;\">     1507</td><td style=\"text-align: right;\">        1500</td><td>AA             </td><td style=\"text-align: right;\">         38</td><td style=\"text-align: right;\">      nan</td><td style=\"text-align: right;\">                240</td><td style=\"text-align: right;\">             233</td><td style=\"text-align: right;\">      nan</td><td style=\"text-align: right;\">         7</td><td style=\"text-align: right;\">         0</td><td>SAN     </td><td>ORD   </td><td style=\"text-align: right;\">      1723</td><td style=\"text-align: right;\">     nan</td><td style=\"text-align: right;\">      nan</td><td style=\"text-align: right;\">          0</td><td style=\"text-align: right;\">               nan</td><td style=\"text-align: right;\">         0</td><td style=\"text-align: right;\">             0</td><td style=\"text-align: right;\">             0</td><td style=\"text-align: right;\">         0</td><td style=\"text-align: right;\">              0</td><td style=\"text-align: right;\">                  0</td><td>YES           </td><td>NO            </td></tr>\n",
       "<tr><td style=\"text-align: right;\">  1987</td><td style=\"text-align: right;\">     10</td><td style=\"text-align: right;\">           8</td><td style=\"text-align: right;\">          4</td><td style=\"text-align: right;\">      907</td><td style=\"text-align: right;\">         907</td><td style=\"text-align: right;\">     1451</td><td style=\"text-align: right;\">        1500</td><td>AA             </td><td style=\"text-align: right;\">         38</td><td style=\"text-align: right;\">      nan</td><td style=\"text-align: right;\">                224</td><td style=\"text-align: right;\">             233</td><td style=\"text-align: right;\">      nan</td><td style=\"text-align: right;\">        -9</td><td style=\"text-align: right;\">         0</td><td>SAN     </td><td>ORD   </td><td style=\"text-align: right;\">      1723</td><td style=\"text-align: right;\">     nan</td><td style=\"text-align: right;\">      nan</td><td style=\"text-align: right;\">          0</td><td style=\"text-align: right;\">               nan</td><td style=\"text-align: right;\">         0</td><td style=\"text-align: right;\">             0</td><td style=\"text-align: right;\">             0</td><td style=\"text-align: right;\">         0</td><td style=\"text-align: right;\">              0</td><td style=\"text-align: right;\">                  0</td><td>NO            </td><td>NO            </td></tr>\n",
       "<tr><td style=\"text-align: right;\">  1987</td><td style=\"text-align: right;\">     10</td><td style=\"text-align: right;\">           9</td><td style=\"text-align: right;\">          5</td><td style=\"text-align: right;\">      906</td><td style=\"text-align: right;\">         907</td><td style=\"text-align: right;\">     1449</td><td style=\"text-align: right;\">        1500</td><td>AA             </td><td style=\"text-align: right;\">         38</td><td style=\"text-align: right;\">      nan</td><td style=\"text-align: right;\">                223</td><td style=\"text-align: right;\">             233</td><td style=\"text-align: right;\">      nan</td><td style=\"text-align: right;\">       -11</td><td style=\"text-align: right;\">        -1</td><td>SAN     </td><td>ORD   </td><td style=\"text-align: right;\">      1723</td><td style=\"text-align: right;\">     nan</td><td style=\"text-align: right;\">      nan</td><td style=\"text-align: right;\">          0</td><td style=\"text-align: right;\">               nan</td><td style=\"text-align: right;\">         0</td><td style=\"text-align: right;\">             0</td><td style=\"text-align: right;\">             0</td><td style=\"text-align: right;\">         0</td><td style=\"text-align: right;\">              0</td><td style=\"text-align: right;\">                  0</td><td>NO            </td><td>NO            </td></tr>\n",
       "<tr><td style=\"text-align: right;\">  1987</td><td style=\"text-align: right;\">     10</td><td style=\"text-align: right;\">          10</td><td style=\"text-align: right;\">          6</td><td style=\"text-align: right;\">      906</td><td style=\"text-align: right;\">         907</td><td style=\"text-align: right;\">     1434</td><td style=\"text-align: right;\">        1500</td><td>AA             </td><td style=\"text-align: right;\">         38</td><td style=\"text-align: right;\">      nan</td><td style=\"text-align: right;\">                208</td><td style=\"text-align: right;\">             233</td><td style=\"text-align: right;\">      nan</td><td style=\"text-align: right;\">       -26</td><td style=\"text-align: right;\">        -1</td><td>SAN     </td><td>ORD   </td><td style=\"text-align: right;\">      1723</td><td style=\"text-align: right;\">     nan</td><td style=\"text-align: right;\">      nan</td><td style=\"text-align: right;\">          0</td><td style=\"text-align: right;\">               nan</td><td style=\"text-align: right;\">         0</td><td style=\"text-align: right;\">             0</td><td style=\"text-align: right;\">             0</td><td style=\"text-align: right;\">         0</td><td style=\"text-align: right;\">              0</td><td style=\"text-align: right;\">                  0</td><td>NO            </td><td>NO            </td></tr>\n",
       "<tr><td style=\"text-align: right;\">  1987</td><td style=\"text-align: right;\">     10</td><td style=\"text-align: right;\">          11</td><td style=\"text-align: right;\">          7</td><td style=\"text-align: right;\">      907</td><td style=\"text-align: right;\">         907</td><td style=\"text-align: right;\">     1440</td><td style=\"text-align: right;\">        1500</td><td>AA             </td><td style=\"text-align: right;\">         38</td><td style=\"text-align: right;\">      nan</td><td style=\"text-align: right;\">                213</td><td style=\"text-align: right;\">             233</td><td style=\"text-align: right;\">      nan</td><td style=\"text-align: right;\">       -20</td><td style=\"text-align: right;\">         0</td><td>SAN     </td><td>ORD   </td><td style=\"text-align: right;\">      1723</td><td style=\"text-align: right;\">     nan</td><td style=\"text-align: right;\">      nan</td><td style=\"text-align: right;\">          0</td><td style=\"text-align: right;\">               nan</td><td style=\"text-align: right;\">         0</td><td style=\"text-align: right;\">             0</td><td style=\"text-align: right;\">             0</td><td style=\"text-align: right;\">         0</td><td style=\"text-align: right;\">              0</td><td style=\"text-align: right;\">                  0</td><td>NO            </td><td>NO            </td></tr>\n",
       "<tr><td style=\"text-align: right;\">  1987</td><td style=\"text-align: right;\">     10</td><td style=\"text-align: right;\">          12</td><td style=\"text-align: right;\">          1</td><td style=\"text-align: right;\">      906</td><td style=\"text-align: right;\">         907</td><td style=\"text-align: right;\">     1456</td><td style=\"text-align: right;\">        1500</td><td>AA             </td><td style=\"text-align: right;\">         38</td><td style=\"text-align: right;\">      nan</td><td style=\"text-align: right;\">                230</td><td style=\"text-align: right;\">             233</td><td style=\"text-align: right;\">      nan</td><td style=\"text-align: right;\">        -4</td><td style=\"text-align: right;\">        -1</td><td>SAN     </td><td>ORD   </td><td style=\"text-align: right;\">      1723</td><td style=\"text-align: right;\">     nan</td><td style=\"text-align: right;\">      nan</td><td style=\"text-align: right;\">          0</td><td style=\"text-align: right;\">               nan</td><td style=\"text-align: right;\">         0</td><td style=\"text-align: right;\">             0</td><td style=\"text-align: right;\">             0</td><td style=\"text-align: right;\">         0</td><td style=\"text-align: right;\">              0</td><td style=\"text-align: right;\">                  0</td><td>NO            </td><td>NO            </td></tr>\n",
       "<tr><td style=\"text-align: right;\">  1987</td><td style=\"text-align: right;\">     10</td><td style=\"text-align: right;\">          14</td><td style=\"text-align: right;\">          3</td><td style=\"text-align: right;\">      906</td><td style=\"text-align: right;\">         907</td><td style=\"text-align: right;\">     1511</td><td style=\"text-align: right;\">        1500</td><td>AA             </td><td style=\"text-align: right;\">         38</td><td style=\"text-align: right;\">      nan</td><td style=\"text-align: right;\">                245</td><td style=\"text-align: right;\">             233</td><td style=\"text-align: right;\">      nan</td><td style=\"text-align: right;\">        11</td><td style=\"text-align: right;\">        -1</td><td>SAN     </td><td>ORD   </td><td style=\"text-align: right;\">      1723</td><td style=\"text-align: right;\">     nan</td><td style=\"text-align: right;\">      nan</td><td style=\"text-align: right;\">          0</td><td style=\"text-align: right;\">               nan</td><td style=\"text-align: right;\">         0</td><td style=\"text-align: right;\">             0</td><td style=\"text-align: right;\">             0</td><td style=\"text-align: right;\">         0</td><td style=\"text-align: right;\">              0</td><td style=\"text-align: right;\">                  0</td><td>YES           </td><td>NO            </td></tr>\n",
       "<tr><td style=\"text-align: right;\">  1987</td><td style=\"text-align: right;\">     10</td><td style=\"text-align: right;\">          15</td><td style=\"text-align: right;\">          4</td><td style=\"text-align: right;\">      906</td><td style=\"text-align: right;\">         907</td><td style=\"text-align: right;\">     1444</td><td style=\"text-align: right;\">        1500</td><td>AA             </td><td style=\"text-align: right;\">         38</td><td style=\"text-align: right;\">      nan</td><td style=\"text-align: right;\">                218</td><td style=\"text-align: right;\">             233</td><td style=\"text-align: right;\">      nan</td><td style=\"text-align: right;\">       -16</td><td style=\"text-align: right;\">        -1</td><td>SAN     </td><td>ORD   </td><td style=\"text-align: right;\">      1723</td><td style=\"text-align: right;\">     nan</td><td style=\"text-align: right;\">      nan</td><td style=\"text-align: right;\">          0</td><td style=\"text-align: right;\">               nan</td><td style=\"text-align: right;\">         0</td><td style=\"text-align: right;\">             0</td><td style=\"text-align: right;\">             0</td><td style=\"text-align: right;\">         0</td><td style=\"text-align: right;\">              0</td><td style=\"text-align: right;\">                  0</td><td>NO            </td><td>NO            </td></tr>\n",
       "<tr><td style=\"text-align: right;\">  1987</td><td style=\"text-align: right;\">     10</td><td style=\"text-align: right;\">          16</td><td style=\"text-align: right;\">          5</td><td style=\"text-align: right;\">      907</td><td style=\"text-align: right;\">         907</td><td style=\"text-align: right;\">     1451</td><td style=\"text-align: right;\">        1500</td><td>AA             </td><td style=\"text-align: right;\">         38</td><td style=\"text-align: right;\">      nan</td><td style=\"text-align: right;\">                224</td><td style=\"text-align: right;\">             233</td><td style=\"text-align: right;\">      nan</td><td style=\"text-align: right;\">        -9</td><td style=\"text-align: right;\">         0</td><td>SAN     </td><td>ORD   </td><td style=\"text-align: right;\">      1723</td><td style=\"text-align: right;\">     nan</td><td style=\"text-align: right;\">      nan</td><td style=\"text-align: right;\">          0</td><td style=\"text-align: right;\">               nan</td><td style=\"text-align: right;\">         0</td><td style=\"text-align: right;\">             0</td><td style=\"text-align: right;\">             0</td><td style=\"text-align: right;\">         0</td><td style=\"text-align: right;\">              0</td><td style=\"text-align: right;\">                  0</td><td>NO            </td><td>NO            </td></tr>\n",
       "</table>"
      ]
     },
     "metadata": {},
     "output_type": "display_data"
    },
    {
     "data": {
      "text/html": [
       "<table>\n",
       "<tr><th>ICAO  </th><th style=\"text-align: right;\">  MaxTempF</th><th style=\"text-align: right;\">  MeanTempF</th><th style=\"text-align: right;\">  MinTempF</th><th style=\"text-align: right;\">  MaxDewPointF</th><th style=\"text-align: right;\">  MeanDewPointF</th><th style=\"text-align: right;\">  Min DewpointF</th><th style=\"text-align: right;\">  MaxHumidity</th><th style=\"text-align: right;\">  MeanHumidity</th><th style=\"text-align: right;\">  MinHumidity</th><th style=\"text-align: right;\">  MaxSeaLevelPressureIn</th><th style=\"text-align: right;\">  MeanSeaLevelPressureIn</th><th style=\"text-align: right;\">  MinSeaLevelPressureIn</th><th style=\"text-align: right;\">  MaxVisibilityMiles</th><th style=\"text-align: right;\">  MeanVisibilityMiles</th><th style=\"text-align: right;\">  MinVisibilityMiles</th><th style=\"text-align: right;\">  MaxWindSpeedMPH</th><th style=\"text-align: right;\">  MeanWindSpeedMPH</th><th style=\"text-align: right;\">  MaxGustSpeedMPH</th><th style=\"text-align: right;\">  PrecipitationIn</th><th style=\"text-align: right;\">  CloudCover</th><th>Events  </th><th style=\"text-align: right;\">  WindDirDegrees</th><th>Dest  </th><th style=\"text-align: right;\">  Year</th><th style=\"text-align: right;\">  Month</th><th style=\"text-align: right;\">  DayofMonth</th></tr>\n",
       "<tr><td>KORD  </td><td style=\"text-align: right;\">        33</td><td style=\"text-align: right;\">         32</td><td style=\"text-align: right;\">        30</td><td style=\"text-align: right;\">            32</td><td style=\"text-align: right;\">             29</td><td style=\"text-align: right;\">             24</td><td style=\"text-align: right;\">           96</td><td style=\"text-align: right;\">            90</td><td style=\"text-align: right;\">           79</td><td style=\"text-align: right;\">                  30.14</td><td style=\"text-align: right;\">                   30.03</td><td style=\"text-align: right;\">                  29.95</td><td style=\"text-align: right;\">                  10</td><td style=\"text-align: right;\">                    3</td><td style=\"text-align: right;\">                   1</td><td style=\"text-align: right;\">                9</td><td style=\"text-align: right;\">                 5</td><td style=\"text-align: right;\">              nan</td><td style=\"text-align: right;\">             0.16</td><td style=\"text-align: right;\">           8</td><td>Fog-Snow</td><td style=\"text-align: right;\">             308</td><td>ORD   </td><td style=\"text-align: right;\">  1987</td><td style=\"text-align: right;\">      1</td><td style=\"text-align: right;\">           1</td></tr>\n",
       "<tr><td>KORD  </td><td style=\"text-align: right;\">        36</td><td style=\"text-align: right;\">         33</td><td style=\"text-align: right;\">        30</td><td style=\"text-align: right;\">            33</td><td style=\"text-align: right;\">             31</td><td style=\"text-align: right;\">             29</td><td style=\"text-align: right;\">          100</td><td style=\"text-align: right;\">            90</td><td style=\"text-align: right;\">           82</td><td style=\"text-align: right;\">                  30.18</td><td style=\"text-align: right;\">                   30.02</td><td style=\"text-align: right;\">                  29.94</td><td style=\"text-align: right;\">                   8</td><td style=\"text-align: right;\">                    6</td><td style=\"text-align: right;\">                   2</td><td style=\"text-align: right;\">               10</td><td style=\"text-align: right;\">                 7</td><td style=\"text-align: right;\">              nan</td><td style=\"text-align: right;\">             0.01</td><td style=\"text-align: right;\">           7</td><td>Fog-Snow</td><td style=\"text-align: right;\">             323</td><td>ORD   </td><td style=\"text-align: right;\">  1987</td><td style=\"text-align: right;\">      1</td><td style=\"text-align: right;\">           2</td></tr>\n",
       "<tr><td>KORD  </td><td style=\"text-align: right;\">        39</td><td style=\"text-align: right;\">         33</td><td style=\"text-align: right;\">        27</td><td style=\"text-align: right;\">            30</td><td style=\"text-align: right;\">             29</td><td style=\"text-align: right;\">             26</td><td style=\"text-align: right;\">          100</td><td style=\"text-align: right;\">            87</td><td style=\"text-align: right;\">           65</td><td style=\"text-align: right;\">                  30.34</td><td style=\"text-align: right;\">                   30.28</td><td style=\"text-align: right;\">                  30.19</td><td style=\"text-align: right;\">                   9</td><td style=\"text-align: right;\">                    7</td><td style=\"text-align: right;\">                   5</td><td style=\"text-align: right;\">               12</td><td style=\"text-align: right;\">                 5</td><td style=\"text-align: right;\">              nan</td><td style=\"text-align: right;\">             0   </td><td style=\"text-align: right;\">           7</td><td>Fog     </td><td style=\"text-align: right;\">             273</td><td>ORD   </td><td style=\"text-align: right;\">  1987</td><td style=\"text-align: right;\">      1</td><td style=\"text-align: right;\">           3</td></tr>\n",
       "<tr><td>KORD  </td><td style=\"text-align: right;\">        37</td><td style=\"text-align: right;\">         28</td><td style=\"text-align: right;\">        19</td><td style=\"text-align: right;\">            31</td><td style=\"text-align: right;\">             26</td><td style=\"text-align: right;\">             19</td><td style=\"text-align: right;\">          100</td><td style=\"text-align: right;\">            89</td><td style=\"text-align: right;\">           65</td><td style=\"text-align: right;\">                  30.42</td><td style=\"text-align: right;\">                   30.38</td><td style=\"text-align: right;\">                  30.32</td><td style=\"text-align: right;\">                   8</td><td style=\"text-align: right;\">                    4</td><td style=\"text-align: right;\">                   0</td><td style=\"text-align: right;\">                8</td><td style=\"text-align: right;\">                 4</td><td style=\"text-align: right;\">              nan</td><td style=\"text-align: right;\">             0   </td><td style=\"text-align: right;\">           4</td><td>Fog     </td><td style=\"text-align: right;\">             332</td><td>ORD   </td><td style=\"text-align: right;\">  1987</td><td style=\"text-align: right;\">      1</td><td style=\"text-align: right;\">           4</td></tr>\n",
       "<tr><td>KORD  </td><td style=\"text-align: right;\">        39</td><td style=\"text-align: right;\">         32</td><td style=\"text-align: right;\">        25</td><td style=\"text-align: right;\">            30</td><td style=\"text-align: right;\">             27</td><td style=\"text-align: right;\">             24</td><td style=\"text-align: right;\">          100</td><td style=\"text-align: right;\">            81</td><td style=\"text-align: right;\">           62</td><td style=\"text-align: right;\">                  30.39</td><td style=\"text-align: right;\">                   30.27</td><td style=\"text-align: right;\">                  30.07</td><td style=\"text-align: right;\">                  10</td><td style=\"text-align: right;\">                    8</td><td style=\"text-align: right;\">                   3</td><td style=\"text-align: right;\">               13</td><td style=\"text-align: right;\">                 7</td><td style=\"text-align: right;\">              nan</td><td style=\"text-align: right;\">             0   </td><td style=\"text-align: right;\">           5</td><td>Fog     </td><td style=\"text-align: right;\">             180</td><td>ORD   </td><td style=\"text-align: right;\">  1987</td><td style=\"text-align: right;\">      1</td><td style=\"text-align: right;\">           5</td></tr>\n",
       "<tr><td>KORD  </td><td style=\"text-align: right;\">        46</td><td style=\"text-align: right;\">         40</td><td style=\"text-align: right;\">        34</td><td style=\"text-align: right;\">            38</td><td style=\"text-align: right;\">             31</td><td style=\"text-align: right;\">             26</td><td style=\"text-align: right;\">           86</td><td style=\"text-align: right;\">            73</td><td style=\"text-align: right;\">           62</td><td style=\"text-align: right;\">                  30.04</td><td style=\"text-align: right;\">                   29.8 </td><td style=\"text-align: right;\">                  29.61</td><td style=\"text-align: right;\">                  15</td><td style=\"text-align: right;\">                   10</td><td style=\"text-align: right;\">                  10</td><td style=\"text-align: right;\">               23</td><td style=\"text-align: right;\">                14</td><td style=\"text-align: right;\">              nan</td><td style=\"text-align: right;\">             0   </td><td style=\"text-align: right;\">           7</td><td>Rain    </td><td style=\"text-align: right;\">             226</td><td>ORD   </td><td style=\"text-align: right;\">  1987</td><td style=\"text-align: right;\">      1</td><td style=\"text-align: right;\">           6</td></tr>\n",
       "<tr><td>KORD  </td><td style=\"text-align: right;\">        37</td><td style=\"text-align: right;\">         35</td><td style=\"text-align: right;\">        32</td><td style=\"text-align: right;\">            31</td><td style=\"text-align: right;\">             28</td><td style=\"text-align: right;\">             26</td><td style=\"text-align: right;\">           82</td><td style=\"text-align: right;\">            75</td><td style=\"text-align: right;\">           70</td><td style=\"text-align: right;\">                  30.27</td><td style=\"text-align: right;\">                   30.16</td><td style=\"text-align: right;\">                  29.93</td><td style=\"text-align: right;\">                  15</td><td style=\"text-align: right;\">                   11</td><td style=\"text-align: right;\">                   7</td><td style=\"text-align: right;\">               14</td><td style=\"text-align: right;\">                10</td><td style=\"text-align: right;\">              nan</td><td style=\"text-align: right;\">             0   </td><td style=\"text-align: right;\">           8</td><td>        </td><td style=\"text-align: right;\">             309</td><td>ORD   </td><td style=\"text-align: right;\">  1987</td><td style=\"text-align: right;\">      1</td><td style=\"text-align: right;\">           7</td></tr>\n",
       "<tr><td>KORD  </td><td style=\"text-align: right;\">        32</td><td style=\"text-align: right;\">         29</td><td style=\"text-align: right;\">        26</td><td style=\"text-align: right;\">            27</td><td style=\"text-align: right;\">             22</td><td style=\"text-align: right;\">             18</td><td style=\"text-align: right;\">           85</td><td style=\"text-align: right;\">            74</td><td style=\"text-align: right;\">           61</td><td style=\"text-align: right;\">                  30.27</td><td style=\"text-align: right;\">                   30.22</td><td style=\"text-align: right;\">                  30.16</td><td style=\"text-align: right;\">                  15</td><td style=\"text-align: right;\">                   12</td><td style=\"text-align: right;\">                   7</td><td style=\"text-align: right;\">               17</td><td style=\"text-align: right;\">                11</td><td style=\"text-align: right;\">              nan</td><td style=\"text-align: right;\">             0   </td><td style=\"text-align: right;\">           7</td><td>Snow    </td><td style=\"text-align: right;\">             268</td><td>ORD   </td><td style=\"text-align: right;\">  1987</td><td style=\"text-align: right;\">      1</td><td style=\"text-align: right;\">           8</td></tr>\n",
       "<tr><td>KORD  </td><td style=\"text-align: right;\">        30</td><td style=\"text-align: right;\">         26</td><td style=\"text-align: right;\">        21</td><td style=\"text-align: right;\">            30</td><td style=\"text-align: right;\">             25</td><td style=\"text-align: right;\">             19</td><td style=\"text-align: right;\">          100</td><td style=\"text-align: right;\">            89</td><td style=\"text-align: right;\">           82</td><td style=\"text-align: right;\">                  30.14</td><td style=\"text-align: right;\">                   29.9 </td><td style=\"text-align: right;\">                  29.61</td><td style=\"text-align: right;\">                  15</td><td style=\"text-align: right;\">                    6</td><td style=\"text-align: right;\">                   0</td><td style=\"text-align: right;\">               16</td><td style=\"text-align: right;\">                 8</td><td style=\"text-align: right;\">              nan</td><td style=\"text-align: right;\">             0.46</td><td style=\"text-align: right;\">           6</td><td>Fog-Snow</td><td style=\"text-align: right;\">             147</td><td>ORD   </td><td style=\"text-align: right;\">  1987</td><td style=\"text-align: right;\">      1</td><td style=\"text-align: right;\">           9</td></tr>\n",
       "<tr><td>KORD  </td><td style=\"text-align: right;\">        34</td><td style=\"text-align: right;\">         32</td><td style=\"text-align: right;\">        30</td><td style=\"text-align: right;\">            32</td><td style=\"text-align: right;\">             29</td><td style=\"text-align: right;\">             25</td><td style=\"text-align: right;\">          100</td><td style=\"text-align: right;\">            89</td><td style=\"text-align: right;\">           75</td><td style=\"text-align: right;\">                  29.91</td><td style=\"text-align: right;\">                   29.72</td><td style=\"text-align: right;\">                  29.57</td><td style=\"text-align: right;\">                   9</td><td style=\"text-align: right;\">                    4</td><td style=\"text-align: right;\">                   2</td><td style=\"text-align: right;\">               20</td><td style=\"text-align: right;\">                12</td><td style=\"text-align: right;\">               26</td><td style=\"text-align: right;\">             0.15</td><td style=\"text-align: right;\">           8</td><td>Fog-Snow</td><td style=\"text-align: right;\">             339</td><td>ORD   </td><td style=\"text-align: right;\">  1987</td><td style=\"text-align: right;\">      1</td><td style=\"text-align: right;\">          10</td></tr>\n",
       "</table>"
      ]
     },
     "metadata": {},
     "output_type": "display_data"
    }
   ],
   "source": [
    "## Summary of the flights and weather dataset\n",
    "flights_hex.show()\n",
    "weather_hex.show()"
   ]
  },
  {
   "cell_type": "code",
   "execution_count": null,
   "metadata": {
    "collapsed": false,
    "scrolled": true
   },
   "outputs": [],
   "source": [
    "# Group flights by Year\n",
    "flights_hex[\"IsArrDelayedNumeric\"] = (flights_hex[\"IsArrDelayed\"] == \"YES\").ifelse(1,0)\n",
    "flights_hex[\"IsWeatherDelayedNumeric\"] = (flights_hex[\"WeatherDelay\"] > 0).ifelse(1,0)\n",
    "flights_group = flights_hex.group_by(\"Year\")\n",
    "flights_count = flights_group.count().sum(\"IsArrDelayedNumeric\").sum(\"IsWeatherDelayedNumeric\").frame\n",
    "flights_count.as_data_frame()"
   ]
  },
  {
   "cell_type": "code",
   "execution_count": null,
   "metadata": {
    "collapsed": false
   },
   "outputs": [],
   "source": [
    "## Filter flights before 2003\n",
    "flights_hex = flights_hex[ flights_hex[ \"Year\"] >= 2003]\n",
    "## Filter flights that is delayed but not delayed by weather\n",
    "flights_hex = flights_hex[ (flights_hex[\"IsArrDelayed\"] == \"NO\") | (flights_hex[\"WeatherDelay\"] > 0)]"
   ]
  },
  {
   "cell_type": "code",
   "execution_count": null,
   "metadata": {
    "collapsed": false
   },
   "outputs": [],
   "source": [
    "flights_hex[\"CRSArrTime\"]"
   ]
  },
  {
   "cell_type": "code",
   "execution_count": null,
   "metadata": {
    "collapsed": false
   },
   "outputs": [],
   "source": [
    "## Parameter Creation\n",
    "hour1 = flights_hex[\"CRSArrTime\"] // 100\n",
    "mins1 = flights_hex[\"CRSArrTime\"] % 100\n",
    "arrTime = hour1*60+mins1\n",
    "hour2 = flights_hex[\"CRSDepTime\"] // 100\n",
    "mins2 = flights_hex[\"CRSDepTime\"] % 100\n",
    "depTime = hour2*60+mins2\n",
    "\n",
    "travelTime = (arrTime - depTime > 0).ifelse(arrTime - depTime, 0)\n",
    "flights_hex[ \"TravelTime\"]  = travelTime"
   ]
  },
  {
   "cell_type": "code",
   "execution_count": null,
   "metadata": {
    "collapsed": false
   },
   "outputs": [],
   "source": [
    "flights_hex[ \"TravelTime\"]"
   ]
  },
  {
   "cell_type": "code",
   "execution_count": null,
   "metadata": {
    "collapsed": true
   },
   "outputs": [],
   "source": [
    "# Set predictor and response variables\n",
    "myY = \"IsArrDelayed\"\n",
    "myX = [\"Year\", \"Month\", \"DayofMonth\", \"DayOfWeek\", \"UniqueCarrier\", \"Origin\", \"TravelTime\"]"
   ]
  },
  {
   "cell_type": "code",
   "execution_count": null,
   "metadata": {
    "collapsed": false
   },
   "outputs": [],
   "source": [
    "# Create test/train split\n",
    "split = flights_hex[\"Year\"].runif()\n",
    "train = flights_hex[split <= 0.75]\n",
    "valid = flights_hex[split > 0.75]"
   ]
  },
  {
   "cell_type": "code",
   "execution_count": null,
   "metadata": {
    "collapsed": false
   },
   "outputs": [],
   "source": [
    "\n",
    "# GLM - Predict Delays\n",
    "arr_delay_glm = H2OGeneralizedLinearEstimator(family=\"binomial\",\n",
    "                                              standardize=True, \n",
    "                                              alpha = 0.5, \n",
    "                                              lambda_search = True)\n",
    "arr_delay_glm.train(x               =myX,\n",
    "                    y               =myY,\n",
    "                    training_frame  =train,\n",
    "                    validation_frame=valid)\n",
    "\n",
    "# GBM\n",
    "arr_delay_gbm = H2OGradientBoostingEstimator(distribution   =\"bernoulli\",\n",
    "                                             ntrees         =50)\n",
    "\n",
    "arr_delay_gbm.train(x               =myX,\n",
    "                    y               =myY,\n",
    "                    training_frame  =train,\n",
    "                    validation_frame=valid)\n"
   ]
  },
  {
   "cell_type": "code",
   "execution_count": null,
   "metadata": {
    "collapsed": false
   },
   "outputs": [],
   "source": [
    "print \"GLM AUC TRAIN=\", arr_delay_glm.auc(train = True),\", AUC Valid=\",arr_delay_glm.auc(valid = True)\n",
    "print \"GBM AUC TRAIN=\", arr_delay_gbm.auc(train = True),\", AUC Valid=\",arr_delay_gbm.auc(valid = True)"
   ]
  },
  {
   "cell_type": "code",
   "execution_count": null,
   "metadata": {
    "collapsed": false
   },
   "outputs": [],
   "source": [
    "## Merge with weather data\n",
    "merged_data = flights_hex.merge(weather_hex)"
   ]
  },
  {
   "cell_type": "code",
   "execution_count": null,
   "metadata": {
    "collapsed": false
   },
   "outputs": [],
   "source": [
    "# Create test/train split\n",
    "split_weather = merged_data[\"Year\"].runif()\n",
    "train_weather = merged_data[split <= 0.75]\n",
    "valid_weather = merged_data[split > 0.75]"
   ]
  },
  {
   "cell_type": "code",
   "execution_count": null,
   "metadata": {
    "collapsed": true
   },
   "outputs": [],
   "source": [
    "# Set predictor and response variables\n",
    "myY = \"IsArrDelayed\"\n",
    "myX = [\"Year\", \"Month\", \"DayofMonth\", \"DayOfWeek\", \"UniqueCarrier\", \"Origin\", \"TravelTime\"] + weather_hex.columns"
   ]
  },
  {
   "cell_type": "code",
   "execution_count": null,
   "metadata": {
    "collapsed": false
   },
   "outputs": [],
   "source": [
    "# GLM - Predict Delays\n",
    "arr_delay_weather_glm = H2OGeneralizedLinearEstimator(family=\"binomial\",\n",
    "                                                      standardize=True, \n",
    "                                                      alpha = 0.5, \n",
    "                                                      lambda_search = True)\n",
    "arr_delay_weather_glm.train(x               =myX,\n",
    "                            y               =myY,\n",
    "                            training_frame  =train_weather,\n",
    "                            validation_frame=valid_weather)\n",
    "\n",
    "# GBM\n",
    "arr_delay_weather_gbm = H2OGradientBoostingEstimator(distribution   =\"bernoulli\",\n",
    "                                                     ntrees         =50)\n",
    "\n",
    "arr_delay_weather_gbm.train(x               =myX,\n",
    "                            y               =myY,\n",
    "                            training_frame  =train_weather,\n",
    "                            validation_frame=valid_weather)\n",
    "\n"
   ]
  },
  {
   "cell_type": "code",
   "execution_count": null,
   "metadata": {
    "collapsed": false
   },
   "outputs": [],
   "source": [
    "print \"GLM AUC TRAIN=\", arr_delay_weather_glm.auc(train = True),\", AUC Valid=\",arr_delay_weather_glm.auc(valid = True)\n",
    "print \"GBM AUC TRAIN=\", arr_delay_weather_gbm.auc(train = True),\", AUC Valid=\",arr_delay_weather_gbm.auc(valid = True)"
   ]
  }
 ],
 "metadata": {
  "kernelspec": {
   "display_name": "Python 2",
   "language": "python",
   "name": "python2"
  },
  "language_info": {
   "codemirror_mode": {
    "name": "ipython",
    "version": 2
   },
   "file_extension": ".py",
   "mimetype": "text/x-python",
   "name": "python",
   "nbconvert_exporter": "python",
   "pygments_lexer": "ipython2",
   "version": "2.7.10"
  }
 },
 "nbformat": 4,
 "nbformat_minor": 0
}
