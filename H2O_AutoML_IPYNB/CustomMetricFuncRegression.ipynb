{
 "cells": [
  {
   "cell_type": "markdown",
   "metadata": {},
   "source": [
    "# Using Custom Metric Function\n",
    "\n",
    "In this notebook, we will show an example of how to calculate custom performance metrics on an H2O model. The notebook will go through the following steps:\n",
    "\n",
    "1. Train a GBM model in H2O\n",
    "2. Write a script to calculate Mean Absolute Percent Error (MAPE)\n",
    "3. Train a GBM model in H2O using MAPE as a [`custom_metric_func`](https://github.com/h2oai/h2o-3/blob/master/h2o-docs/src/dev/custom_functions.md)\n",
    "4. Train a Grid of GBMs and choose model based on MAPE\n",
    "\n",
    "\n",
    "## 1. Train a  GBM Model in H2O"
   ]
  },
  {
   "cell_type": "code",
   "execution_count": null,
   "metadata": {},
   "outputs": [],
   "source": [
    "# Load H2O library\n",
    "import h2o\n",
    "h2o.init()"
   ]
  },
  {
   "cell_type": "code",
   "execution_count": null,
   "metadata": {},
   "outputs": [],
   "source": [
    "# Import Data\n",
    "train_path = \"https://raw.githubusercontent.com/h2oai/app-consumer-loan/master/data/loan.csv\"\n",
    "train = h2o.import_file(train_path, destination_frame = \"loan_train\")"
   ]
  },
  {
   "cell_type": "code",
   "execution_count": null,
   "metadata": {},
   "outputs": [],
   "source": [
    "# Set target and predictor variables\n",
    "y = \"int_rate\"\n",
    "x = train.col_names\n",
    "x.remove(y)\n",
    "x.remove(\"bad_loan\")"
   ]
  },
  {
   "cell_type": "code",
   "execution_count": null,
   "metadata": {},
   "outputs": [],
   "source": [
    "# Train GBM Model\n",
    "from h2o.estimators import H2OGradientBoostingEstimator\n",
    "\n",
    "gbm_v1 = H2OGradientBoostingEstimator(model_id = \"gbm_v1.hex\")\n",
    "\n",
    "gbm_v1.train(y = y, x = x, training_frame = train)"
   ]
  },
  {
   "cell_type": "code",
   "execution_count": null,
   "metadata": {},
   "outputs": [],
   "source": [
    "print(gbm_v1)"
   ]
  },
  {
   "cell_type": "markdown",
   "metadata": {},
   "source": [
    "## 2. Write Script to Calculate Mean Absolute Percent Error (MAPE)\n",
    "\n",
    "### Function to Calculate MAPE in H2O"
   ]
  },
  {
   "cell_type": "code",
   "execution_count": null,
   "metadata": {},
   "outputs": [],
   "source": [
    "def MAPE(actual, predict):\n",
    "    abs_pct_error = abs((actual - predict) / actual)\n",
    "    mape = abs_pct_error.mean()[0]\n",
    "    return mape"
   ]
  },
  {
   "cell_type": "code",
   "execution_count": null,
   "metadata": {},
   "outputs": [],
   "source": [
    "mape_v1 = MAPE(train[y], gbm_v1.predict(train))\n",
    "print(\"MAPE: \" + str(round(mape_v1, 4)))"
   ]
  },
  {
   "cell_type": "markdown",
   "metadata": {},
   "source": [
    "### Python Script to calculate MAPE in custom_metric_func\n",
    "\n",
    "The MAPE metric is defined in a class stored in utils_model_metrics.py. This class contains three methods `map`, `reduce`, and `metric`. The `map` method takes 5 arguments `predicted`, `actual`, `weight`, `offset` and `model`.\n",
    "\n",
    "```\n",
    "class MapeMetric:\n",
    "    def map(self, predicted, actual, weight, offset, model):\n",
    "        return [weight * abs((actual[0] - predicted[0]) / actual[0]), weight]\n",
    "\n",
    "    def reduce(self, left, right):\n",
    "        return [left[0] + right[0], left[1] + right[1]]\n",
    "\n",
    "    def metric(self, last):\n",
    "        return last[0] / last[1]\n",
    "```\n",
    "\n",
    "This class definition is uploaded to the H2O cluster using [`h2o.upload_custom_metric`](http://docs.h2o.ai/h2o/latest-stable/h2o-py/docs/h2o.html?highlight=custom_metric#h2o.upload_custom_metric)."
   ]
  },
  {
   "cell_type": "code",
   "execution_count": null,
   "metadata": {},
   "outputs": [],
   "source": [
    "from utils_model_metrics import MapeMetric\n",
    "\n",
    "mape_func = h2o.upload_custom_metric(MapeMetric, func_name = \"MAPE\", func_file = \"mape.py\")"
   ]
  },
  {
   "cell_type": "code",
   "execution_count": null,
   "metadata": {},
   "outputs": [],
   "source": [
    "type(mape_func)"
   ]
  },
  {
   "cell_type": "code",
   "execution_count": null,
   "metadata": {},
   "outputs": [],
   "source": [
    "print(mape_func)"
   ]
  },
  {
   "cell_type": "markdown",
   "metadata": {},
   "source": [
    "## 3. Train a GBM Model using custom_metric_func to calculate MAPE\n",
    "\n",
    "The [`H2OGeneralizedLinearEstimator`](http://docs.h2o.ai/h2o/latest-stable/h2o-py/docs/modeling.html?highlight=automl#h2ogeneralizedlinearestimator),\n",
    "[`H2ORandomForestEstimator`](http://docs.h2o.ai/h2o/latest-stable/h2o-py/docs/modeling.html?highlight=automl#h2orandomforestestimator), and\n",
    "[`H2OGradientBoostingEstimator`](http://docs.h2o.ai/h2o/latest-stable/h2o-py/docs/modeling.html?highlight=automl#h2ogradientboostingestimator) models accept a `custom_metric_func` argument."
   ]
  },
  {
   "cell_type": "code",
   "execution_count": null,
   "metadata": {},
   "outputs": [],
   "source": [
    "# Train GBM Model with custom_metric_function\n",
    "gbm_v2 = H2OGradientBoostingEstimator(model_id = \"gbm_v2.hex\",\n",
    "                                      custom_metric_func = mape_func)\n",
    "\n",
    "gbm_v2.train(y = y, x = x, training_frame = train)"
   ]
  },
  {
   "cell_type": "code",
   "execution_count": null,
   "metadata": {},
   "outputs": [],
   "source": [
    "perf = gbm_v2.model_performance()\n",
    "perf"
   ]
  },
  {
   "cell_type": "code",
   "execution_count": null,
   "metadata": {},
   "outputs": [],
   "source": [
    "perf.custom_metric_name()"
   ]
  },
  {
   "cell_type": "code",
   "execution_count": null,
   "metadata": {},
   "outputs": [],
   "source": [
    "perf.custom_metric_value()"
   ]
  },
  {
   "cell_type": "markdown",
   "metadata": {
    "collapsed": true
   },
   "source": [
    "We can see that our custom mae function is in the model performance metrics labeled `mae`.  This value matches the MAE calculated in our original GBM model."
   ]
  },
  {
   "cell_type": "code",
   "execution_count": null,
   "metadata": {},
   "outputs": [],
   "source": [
    "print(\"MAPE V1: \" + str(round(mape_v1, 4)))\n",
    "print(\"MAPE V2: \" + str(round(gbm_v2.model_performance().custom_metric_value(), 4)))"
   ]
  },
  {
   "cell_type": "markdown",
   "metadata": {},
   "source": [
    "## 4. Train a Grid of GBMs and choose model based on MAPE"
   ]
  },
  {
   "cell_type": "code",
   "execution_count": null,
   "metadata": {},
   "outputs": [],
   "source": [
    "from h2o.grid.grid_search import H2OGridSearch\n",
    "gbm_hyper_parameters = {'max_depth': [7, 8, 9]}\n",
    "gbm_grid = H2OGridSearch(H2OGradientBoostingEstimator(custom_metric_func = mape_func,\n",
    "                                                      nfolds = 5),\n",
    "                           gbm_hyper_parameters)\n",
    "gbm_grid.train(x = x, y = y, training_frame = train, grid_id = \"gbm_grid\")"
   ]
  },
  {
   "cell_type": "code",
   "execution_count": null,
   "metadata": {},
   "outputs": [],
   "source": [
    "sorted([[h2o.get_model(x).model_performance(xval = True).custom_metric_value(), x] for x in gbm_grid.model_ids])"
   ]
  },
  {
   "cell_type": "markdown",
   "metadata": {},
   "source": [
    "## Shutdown H2O Cluster"
   ]
  },
  {
   "cell_type": "code",
   "execution_count": null,
   "metadata": {},
   "outputs": [],
   "source": [
    "h2o.cluster().shutdown()"
   ]
  }
 ],
 "metadata": {
  "kernelspec": {
   "display_name": "Python 3",
   "language": "python",
   "name": "python3"
  },
  "language_info": {
   "codemirror_mode": {
    "name": "ipython",
    "version": 3
   },
   "file_extension": ".py",
   "mimetype": "text/x-python",
   "name": "python",
   "nbconvert_exporter": "python",
   "pygments_lexer": "ipython3",
   "version": "3.6.6"
  }
 },
 "nbformat": 4,
 "nbformat_minor": 2
}
