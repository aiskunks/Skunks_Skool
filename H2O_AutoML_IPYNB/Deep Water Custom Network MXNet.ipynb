{
 "cells": [
  {
   "cell_type": "markdown",
   "metadata": {},
   "source": [
    "# Import Modules"
   ]
  },
  {
   "cell_type": "code",
   "execution_count": 1,
   "metadata": {
    "collapsed": true
   },
   "outputs": [],
   "source": [
    "import sys, os\n",
    "sys.path.insert(1, \"/usr/local/lib/python2.7/dist-packages/mxnet-0.7.0-py2.7.egg\")\n",
    "sys.path.insert(1, \"/usr/local/lib/python2.7/dist-packages\")"
   ]
  },
  {
   "cell_type": "code",
   "execution_count": 2,
   "metadata": {
    "collapsed": true
   },
   "outputs": [],
   "source": [
    "import h2o\n",
    "import pandas\n",
    "import mxnet as mx\n",
    "import graphviz"
   ]
  },
  {
   "cell_type": "code",
   "execution_count": 3,
   "metadata": {
    "collapsed": true
   },
   "outputs": [],
   "source": [
    "project_path = \"/gtc-2017\""
   ]
  },
  {
   "cell_type": "markdown",
   "metadata": {},
   "source": [
    "# Connect or Start H2O"
   ]
  },
  {
   "cell_type": "code",
   "execution_count": 4,
   "metadata": {
    "collapsed": false
   },
   "outputs": [
    {
     "name": "stdout",
     "output_type": "stream",
     "text": [
      "Checking whether there is an H2O instance running at http://localhost:54321. connected.\n"
     ]
    },
    {
     "data": {
      "text/html": [
       "<div style=\"overflow:auto\"><table style=\"width:50%\"><tr><td>H2O cluster uptime:</td>\n",
       "<td>1 hour 33 mins</td></tr>\n",
       "<tr><td>H2O cluster version:</td>\n",
       "<td>3.11.0.226</td></tr>\n",
       "<tr><td>H2O cluster version age:</td>\n",
       "<td>2 days </td></tr>\n",
       "<tr><td>H2O cluster name:</td>\n",
       "<td>root</td></tr>\n",
       "<tr><td>H2O cluster total nodes:</td>\n",
       "<td>1</td></tr>\n",
       "<tr><td>H2O cluster free memory:</td>\n",
       "<td>26.52 Gb</td></tr>\n",
       "<tr><td>H2O cluster total cores:</td>\n",
       "<td>20</td></tr>\n",
       "<tr><td>H2O cluster allowed cores:</td>\n",
       "<td>20</td></tr>\n",
       "<tr><td>H2O cluster status:</td>\n",
       "<td>locked, healthy</td></tr>\n",
       "<tr><td>H2O connection url:</td>\n",
       "<td>http://localhost:54321</td></tr>\n",
       "<tr><td>H2O connection proxy:</td>\n",
       "<td>None</td></tr>\n",
       "<tr><td>H2O internal security:</td>\n",
       "<td>False</td></tr>\n",
       "<tr><td>Python version:</td>\n",
       "<td>2.7.12 final</td></tr></table></div>"
      ],
      "text/plain": [
       "--------------------------  ----------------------\n",
       "H2O cluster uptime:         1 hour 33 mins\n",
       "H2O cluster version:        3.11.0.226\n",
       "H2O cluster version age:    2 days\n",
       "H2O cluster name:           root\n",
       "H2O cluster total nodes:    1\n",
       "H2O cluster free memory:    26.52 Gb\n",
       "H2O cluster total cores:    20\n",
       "H2O cluster allowed cores:  20\n",
       "H2O cluster status:         locked, healthy\n",
       "H2O connection url:         http://localhost:54321\n",
       "H2O connection proxy:\n",
       "H2O internal security:      False\n",
       "Python version:             2.7.12 final\n",
       "--------------------------  ----------------------"
      ]
     },
     "metadata": {},
     "output_type": "display_data"
    }
   ],
   "source": [
    "h2o.init()"
   ]
  },
  {
   "cell_type": "markdown",
   "metadata": {},
   "source": [
    "# Import Data"
   ]
  },
  {
   "cell_type": "markdown",
   "metadata": {},
   "source": [
    "Import data into H2O."
   ]
  },
  {
   "cell_type": "code",
   "execution_count": 5,
   "metadata": {
    "collapsed": false,
    "scrolled": true
   },
   "outputs": [
    {
     "name": "stdout",
     "output_type": "stream",
     "text": [
      "Parse progress: |█████████████████████████████████████████████████████████| 100%\n",
      "Parse progress: |█████████████████████████████████████████████████████████| 100%\n"
     ]
    }
   ],
   "source": [
    "mnist_training = h2o.import_file(project_path+\"/data/mnist-training.csv\")\n",
    "mnist_testing = h2o.import_file(project_path+\"/data/mnist-testing.csv\")"
   ]
  },
  {
   "cell_type": "markdown",
   "metadata": {},
   "source": [
    "Change the \"label\" column to a factor (i.e. categorical feature)."
   ]
  },
  {
   "cell_type": "code",
   "execution_count": 6,
   "metadata": {
    "collapsed": true
   },
   "outputs": [],
   "source": [
    "mnist_training[\"label\"] = mnist_training[\"label\"].asfactor()\n",
    "mnist_testing[\"label\"] = mnist_testing[\"label\"].asfactor()"
   ]
  },
  {
   "cell_type": "markdown",
   "metadata": {},
   "source": [
    "# Explore Data"
   ]
  },
  {
   "cell_type": "code",
   "execution_count": 7,
   "metadata": {
    "collapsed": false
   },
   "outputs": [
    {
     "data": {
      "text/html": [
       "<table>\n",
       "<thead>\n",
       "<tr><th>uri                                          </th><th style=\"text-align: right;\">  label</th></tr>\n",
       "</thead>\n",
       "<tbody>\n",
       "<tr><td>/gtc-2017/data/mnist_png/training/6/6453.png </td><td style=\"text-align: right;\">      6</td></tr>\n",
       "<tr><td>/gtc-2017/data/mnist_png/training/6/13970.png</td><td style=\"text-align: right;\">      6</td></tr>\n",
       "<tr><td>/gtc-2017/data/mnist_png/training/6/21967.png</td><td style=\"text-align: right;\">      6</td></tr>\n",
       "<tr><td>/gtc-2017/data/mnist_png/training/6/11277.png</td><td style=\"text-align: right;\">      6</td></tr>\n",
       "<tr><td>/gtc-2017/data/mnist_png/training/6/27350.png</td><td style=\"text-align: right;\">      6</td></tr>\n",
       "<tr><td>/gtc-2017/data/mnist_png/training/6/32119.png</td><td style=\"text-align: right;\">      6</td></tr>\n",
       "<tr><td>/gtc-2017/data/mnist_png/training/6/44201.png</td><td style=\"text-align: right;\">      6</td></tr>\n",
       "<tr><td>/gtc-2017/data/mnist_png/training/6/58770.png</td><td style=\"text-align: right;\">      6</td></tr>\n",
       "<tr><td>/gtc-2017/data/mnist_png/training/6/39440.png</td><td style=\"text-align: right;\">      6</td></tr>\n",
       "<tr><td>/gtc-2017/data/mnist_png/training/6/41988.png</td><td style=\"text-align: right;\">      6</td></tr>\n",
       "</tbody>\n",
       "</table>"
      ]
     },
     "metadata": {},
     "output_type": "display_data"
    },
    {
     "data": {
      "text/plain": []
     },
     "execution_count": 7,
     "metadata": {},
     "output_type": "execute_result"
    }
   ],
   "source": [
    "mnist_training.head()"
   ]
  },
  {
   "cell_type": "markdown",
   "metadata": {},
   "source": [
    "Get the number of output classes from the data."
   ]
  },
  {
   "cell_type": "code",
   "execution_count": 8,
   "metadata": {
    "collapsed": false
   },
   "outputs": [
    {
     "name": "stdout",
     "output_type": "stream",
     "text": [
      "10\n"
     ]
    }
   ],
   "source": [
    "num_classes = mnist_training[\"label\"].nlevels()[0]\n",
    "print(num_classes)"
   ]
  },
  {
   "cell_type": "markdown",
   "metadata": {},
   "source": [
    "# Test GPU Driver"
   ]
  },
  {
   "cell_type": "code",
   "execution_count": 9,
   "metadata": {
    "collapsed": false
   },
   "outputs": [
    {
     "name": "stdout",
     "output_type": "stream",
     "text": [
      "Mon May  8 20:30:46 2017       \r\n",
      "+-----------------------------------------------------------------------------+\r\n",
      "| NVIDIA-SMI 378.13                 Driver Version: 378.13                    |\r\n",
      "|-------------------------------+----------------------+----------------------+\r\n",
      "| GPU  Name        Persistence-M| Bus-Id        Disp.A | Volatile Uncorr. ECC |\r\n",
      "| Fan  Temp  Perf  Pwr:Usage/Cap|         Memory-Usage | GPU-Util  Compute M. |\r\n",
      "|===============================+======================+======================|\r\n",
      "|   0  GeForce GTX 1080    Off  | 0000:02:00.0      On |                  N/A |\r\n",
      "| 27%   35C    P8    11W / 180W |    710MiB /  8112MiB |     27%      Default |\r\n",
      "+-------------------------------+----------------------+----------------------+\r\n",
      "                                                                               \r\n",
      "+-----------------------------------------------------------------------------+\r\n",
      "| Processes:                                                       GPU Memory |\r\n",
      "|  GPU       PID  Type  Process name                               Usage      |\r\n",
      "|=============================================================================|\r\n",
      "+-----------------------------------------------------------------------------+\r\n"
     ]
    }
   ],
   "source": [
    "!nvidia-smi"
   ]
  },
  {
   "cell_type": "markdown",
   "metadata": {},
   "source": [
    "# Define Custom Network"
   ]
  },
  {
   "cell_type": "markdown",
   "metadata": {},
   "source": [
    "We explicitly construct a LeNet network, allowing us to custom each layer properties (e.g. kernel, strides, filters).  The network is parameterized to accept different number of classes so that the output layer can be modified accordingly."
   ]
  },
  {
   "cell_type": "code",
   "execution_count": 10,
   "metadata": {
    "collapsed": true
   },
   "outputs": [],
   "source": [
    "def lenet(num_classes):\n",
    "    # Input layer\n",
    "    data = mx.symbol.Variable(\"data\")\n",
    "    \n",
    "    # Convolution layer 1\n",
    "    conv1 = mx.symbol.Convolution(data=data, kernel=(5,5), num_filter=20)\n",
    "    act1 = mx.symbol.Activation(data=conv1, act_type=\"tanh\")\n",
    "    pool1 = mx.symbol.Pooling(data=act1, pool_type=\"max\", kernel=(2,2), stride=(2,2))\n",
    "    \n",
    "    # Convolution layer 2\n",
    "    conv2 = mx.symbol.Convolution(data=data, kernel=(5,5), num_filter=50)\n",
    "    act2 = mx.symbol.Activation(data=conv2, act_type=\"tanh\")\n",
    "    pool2 = mx.symbol.Pooling(data=act2, pool_type=\"max\", kernel=(2,2), stride=(2,2))\n",
    "\n",
    "    # Fully connected layer 1\n",
    "    flatten = mx.symbol.Flatten(data=pool2)\n",
    "    fc1 = mx.symbol.FullyConnected(data=flatten, num_hidden=500)\n",
    "    act3 = mx.symbol.Activation(data=fc1, act_type=\"tanh\")\n",
    "    \n",
    "    # Fully connected layer 2\n",
    "    fc2 = mx.symbol.FullyConnected(data=act3, num_hidden=500)\n",
    "    out = mx.symbol.SoftmaxOutput(data=fc2, name=\"softmax\")\n",
    "    return out"
   ]
  },
  {
   "cell_type": "markdown",
   "metadata": {},
   "source": [
    "Instantiate an instance of the network."
   ]
  },
  {
   "cell_type": "code",
   "execution_count": 11,
   "metadata": {
    "collapsed": true
   },
   "outputs": [],
   "source": [
    "sym_my_lenet = lenet(num_classes)"
   ]
  },
  {
   "cell_type": "markdown",
   "metadata": {},
   "source": [
    "We can visually view the network."
   ]
  },
  {
   "cell_type": "code",
   "execution_count": 12,
   "metadata": {
    "collapsed": false
   },
   "outputs": [
    {
     "data": {
      "image/svg+xml": [
       "<?xml version=\"1.0\" encoding=\"UTF-8\" standalone=\"no\"?>\n",
       "<!DOCTYPE svg PUBLIC \"-//W3C//DTD SVG 1.1//EN\"\n",
       " \"http://www.w3.org/Graphics/SVG/1.1/DTD/svg11.dtd\">\n",
       "<!-- Generated by graphviz version 2.38.0 (20140413.2041)\n",
       " -->\n",
       "<!-- Title: plot Pages: 1 -->\n",
       "<svg width=\"115pt\" height=\"938pt\"\n",
       " viewBox=\"0.00 0.00 114.50 938.00\" xmlns=\"http://www.w3.org/2000/svg\" xmlns:xlink=\"http://www.w3.org/1999/xlink\">\n",
       "<g id=\"graph0\" class=\"graph\" transform=\"scale(1 1) rotate(0) translate(4 934)\">\n",
       "<title>plot</title>\n",
       "<polygon fill=\"white\" stroke=\"none\" points=\"-4,4 -4,-934 110.5,-934 110.5,4 -4,4\"/>\n",
       "<!-- data -->\n",
       "<g id=\"node1\" class=\"node\"><title>data</title>\n",
       "<polygon fill=\"#8dd3c7\" stroke=\"black\" points=\"98.5,-58 4.5,-58 4.5,-0 98.5,-0 98.5,-58\"/>\n",
       "<text text-anchor=\"middle\" x=\"51.5\" y=\"-25.3\" font-family=\"Times,serif\" font-size=\"14.00\">data</text>\n",
       "</g>\n",
       "<!-- convolution1 -->\n",
       "<g id=\"node2\" class=\"node\"><title>convolution1</title>\n",
       "<polygon fill=\"#fb8072\" stroke=\"black\" points=\"98.5,-167 4.5,-167 4.5,-109 98.5,-109 98.5,-167\"/>\n",
       "<text text-anchor=\"middle\" x=\"51.5\" y=\"-141.8\" font-family=\"Times,serif\" font-size=\"14.00\">Convolution</text>\n",
       "<text text-anchor=\"middle\" x=\"51.5\" y=\"-126.8\" font-family=\"Times,serif\" font-size=\"14.00\">5x5/1, 50</text>\n",
       "</g>\n",
       "<!-- convolution1&#45;&gt;data -->\n",
       "<g id=\"edge1\" class=\"edge\"><title>convolution1&#45;&gt;data</title>\n",
       "<path fill=\"none\" stroke=\"black\" d=\"M51.5,-98.5824C51.5,-85.2841 51.5,-70.632 51.5,-58.2967\"/>\n",
       "<polygon fill=\"black\" stroke=\"black\" points=\"51.5,-108.887 47.0001,-98.887 51.5,-103.887 51.5001,-98.887 51.5001,-98.887 51.5001,-98.887 51.5,-103.887 56.0001,-98.8871 51.5,-108.887 51.5,-108.887\"/>\n",
       "<text text-anchor=\"middle\" x=\"75.5\" y=\"-79.8\" font-family=\"Times,serif\" font-size=\"14.00\">1x28x28</text>\n",
       "</g>\n",
       "<!-- activation1 -->\n",
       "<g id=\"node3\" class=\"node\"><title>activation1</title>\n",
       "<polygon fill=\"#ffffb3\" stroke=\"black\" points=\"98.5,-276 4.5,-276 4.5,-218 98.5,-218 98.5,-276\"/>\n",
       "<text text-anchor=\"middle\" x=\"51.5\" y=\"-250.8\" font-family=\"Times,serif\" font-size=\"14.00\">Activation</text>\n",
       "<text text-anchor=\"middle\" x=\"51.5\" y=\"-235.8\" font-family=\"Times,serif\" font-size=\"14.00\">tanh</text>\n",
       "</g>\n",
       "<!-- activation1&#45;&gt;convolution1 -->\n",
       "<g id=\"edge2\" class=\"edge\"><title>activation1&#45;&gt;convolution1</title>\n",
       "<path fill=\"none\" stroke=\"black\" d=\"M51.5,-207.582C51.5,-194.284 51.5,-179.632 51.5,-167.297\"/>\n",
       "<polygon fill=\"black\" stroke=\"black\" points=\"51.5,-217.887 47.0001,-207.887 51.5,-212.887 51.5001,-207.887 51.5001,-207.887 51.5001,-207.887 51.5,-212.887 56.0001,-207.887 51.5,-217.887 51.5,-217.887\"/>\n",
       "<text text-anchor=\"middle\" x=\"79\" y=\"-188.8\" font-family=\"Times,serif\" font-size=\"14.00\">50x24x24</text>\n",
       "</g>\n",
       "<!-- pooling1 -->\n",
       "<g id=\"node4\" class=\"node\"><title>pooling1</title>\n",
       "<polygon fill=\"#80b1d3\" stroke=\"black\" points=\"98.5,-385 4.5,-385 4.5,-327 98.5,-327 98.5,-385\"/>\n",
       "<text text-anchor=\"middle\" x=\"51.5\" y=\"-359.8\" font-family=\"Times,serif\" font-size=\"14.00\">Pooling</text>\n",
       "<text text-anchor=\"middle\" x=\"51.5\" y=\"-344.8\" font-family=\"Times,serif\" font-size=\"14.00\">max, 2x2/2</text>\n",
       "</g>\n",
       "<!-- pooling1&#45;&gt;activation1 -->\n",
       "<g id=\"edge3\" class=\"edge\"><title>pooling1&#45;&gt;activation1</title>\n",
       "<path fill=\"none\" stroke=\"black\" d=\"M51.5,-316.582C51.5,-303.284 51.5,-288.632 51.5,-276.297\"/>\n",
       "<polygon fill=\"black\" stroke=\"black\" points=\"51.5,-326.887 47.0001,-316.887 51.5,-321.887 51.5001,-316.887 51.5001,-316.887 51.5001,-316.887 51.5,-321.887 56.0001,-316.887 51.5,-326.887 51.5,-326.887\"/>\n",
       "<text text-anchor=\"middle\" x=\"79\" y=\"-297.8\" font-family=\"Times,serif\" font-size=\"14.00\">50x24x24</text>\n",
       "</g>\n",
       "<!-- flatten0 -->\n",
       "<g id=\"node5\" class=\"node\"><title>flatten0</title>\n",
       "<polygon fill=\"#fdb462\" stroke=\"black\" points=\"98.5,-494 4.5,-494 4.5,-436 98.5,-436 98.5,-494\"/>\n",
       "<text text-anchor=\"middle\" x=\"51.5\" y=\"-461.3\" font-family=\"Times,serif\" font-size=\"14.00\">Flatten</text>\n",
       "</g>\n",
       "<!-- flatten0&#45;&gt;pooling1 -->\n",
       "<g id=\"edge4\" class=\"edge\"><title>flatten0&#45;&gt;pooling1</title>\n",
       "<path fill=\"none\" stroke=\"black\" d=\"M51.5,-425.582C51.5,-412.284 51.5,-397.632 51.5,-385.297\"/>\n",
       "<polygon fill=\"black\" stroke=\"black\" points=\"51.5,-435.887 47.0001,-425.887 51.5,-430.887 51.5001,-425.887 51.5001,-425.887 51.5001,-425.887 51.5,-430.887 56.0001,-425.887 51.5,-435.887 51.5,-435.887\"/>\n",
       "<text text-anchor=\"middle\" x=\"79\" y=\"-406.8\" font-family=\"Times,serif\" font-size=\"14.00\">50x12x12</text>\n",
       "</g>\n",
       "<!-- fullyconnected0 -->\n",
       "<g id=\"node6\" class=\"node\"><title>fullyconnected0</title>\n",
       "<polygon fill=\"#fb8072\" stroke=\"black\" points=\"103,-603 0,-603 0,-545 103,-545 103,-603\"/>\n",
       "<text text-anchor=\"middle\" x=\"51.5\" y=\"-577.8\" font-family=\"Times,serif\" font-size=\"14.00\">FullyConnected</text>\n",
       "<text text-anchor=\"middle\" x=\"51.5\" y=\"-562.8\" font-family=\"Times,serif\" font-size=\"14.00\">500</text>\n",
       "</g>\n",
       "<!-- fullyconnected0&#45;&gt;flatten0 -->\n",
       "<g id=\"edge5\" class=\"edge\"><title>fullyconnected0&#45;&gt;flatten0</title>\n",
       "<path fill=\"none\" stroke=\"black\" d=\"M51.5,-534.582C51.5,-521.284 51.5,-506.632 51.5,-494.297\"/>\n",
       "<polygon fill=\"black\" stroke=\"black\" points=\"51.5,-544.887 47.0001,-534.887 51.5,-539.887 51.5001,-534.887 51.5001,-534.887 51.5001,-534.887 51.5,-539.887 56.0001,-534.887 51.5,-544.887 51.5,-544.887\"/>\n",
       "<text text-anchor=\"middle\" x=\"65.5\" y=\"-515.8\" font-family=\"Times,serif\" font-size=\"14.00\">7200</text>\n",
       "</g>\n",
       "<!-- activation2 -->\n",
       "<g id=\"node7\" class=\"node\"><title>activation2</title>\n",
       "<polygon fill=\"#ffffb3\" stroke=\"black\" points=\"98.5,-712 4.5,-712 4.5,-654 98.5,-654 98.5,-712\"/>\n",
       "<text text-anchor=\"middle\" x=\"51.5\" y=\"-686.8\" font-family=\"Times,serif\" font-size=\"14.00\">Activation</text>\n",
       "<text text-anchor=\"middle\" x=\"51.5\" y=\"-671.8\" font-family=\"Times,serif\" font-size=\"14.00\">tanh</text>\n",
       "</g>\n",
       "<!-- activation2&#45;&gt;fullyconnected0 -->\n",
       "<g id=\"edge6\" class=\"edge\"><title>activation2&#45;&gt;fullyconnected0</title>\n",
       "<path fill=\"none\" stroke=\"black\" d=\"M51.5,-643.582C51.5,-630.284 51.5,-615.632 51.5,-603.297\"/>\n",
       "<polygon fill=\"black\" stroke=\"black\" points=\"51.5,-653.887 47.0001,-643.887 51.5,-648.887 51.5001,-643.887 51.5001,-643.887 51.5001,-643.887 51.5,-648.887 56.0001,-643.887 51.5,-653.887 51.5,-653.887\"/>\n",
       "<text text-anchor=\"middle\" x=\"62\" y=\"-624.8\" font-family=\"Times,serif\" font-size=\"14.00\">500</text>\n",
       "</g>\n",
       "<!-- fullyconnected1 -->\n",
       "<g id=\"node8\" class=\"node\"><title>fullyconnected1</title>\n",
       "<polygon fill=\"#fb8072\" stroke=\"black\" points=\"103,-821 0,-821 0,-763 103,-763 103,-821\"/>\n",
       "<text text-anchor=\"middle\" x=\"51.5\" y=\"-795.8\" font-family=\"Times,serif\" font-size=\"14.00\">FullyConnected</text>\n",
       "<text text-anchor=\"middle\" x=\"51.5\" y=\"-780.8\" font-family=\"Times,serif\" font-size=\"14.00\">500</text>\n",
       "</g>\n",
       "<!-- fullyconnected1&#45;&gt;activation2 -->\n",
       "<g id=\"edge7\" class=\"edge\"><title>fullyconnected1&#45;&gt;activation2</title>\n",
       "<path fill=\"none\" stroke=\"black\" d=\"M51.5,-752.582C51.5,-739.284 51.5,-724.632 51.5,-712.297\"/>\n",
       "<polygon fill=\"black\" stroke=\"black\" points=\"51.5,-762.887 47.0001,-752.887 51.5,-757.887 51.5001,-752.887 51.5001,-752.887 51.5001,-752.887 51.5,-757.887 56.0001,-752.887 51.5,-762.887 51.5,-762.887\"/>\n",
       "<text text-anchor=\"middle\" x=\"62\" y=\"-733.8\" font-family=\"Times,serif\" font-size=\"14.00\">500</text>\n",
       "</g>\n",
       "<!-- softmax -->\n",
       "<g id=\"node9\" class=\"node\"><title>softmax</title>\n",
       "<polygon fill=\"#fccde5\" stroke=\"black\" points=\"102,-930 1,-930 1,-872 102,-872 102,-930\"/>\n",
       "<text text-anchor=\"middle\" x=\"51.5\" y=\"-897.3\" font-family=\"Times,serif\" font-size=\"14.00\">SoftmaxOutput</text>\n",
       "</g>\n",
       "<!-- softmax&#45;&gt;fullyconnected1 -->\n",
       "<g id=\"edge8\" class=\"edge\"><title>softmax&#45;&gt;fullyconnected1</title>\n",
       "<path fill=\"none\" stroke=\"black\" d=\"M51.5,-861.582C51.5,-848.284 51.5,-833.632 51.5,-821.297\"/>\n",
       "<polygon fill=\"black\" stroke=\"black\" points=\"51.5,-871.887 47.0001,-861.887 51.5,-866.887 51.5001,-861.887 51.5001,-861.887 51.5001,-861.887 51.5,-866.887 56.0001,-861.887 51.5,-871.887 51.5,-871.887\"/>\n",
       "<text text-anchor=\"middle\" x=\"62\" y=\"-842.8\" font-family=\"Times,serif\" font-size=\"14.00\">500</text>\n",
       "</g>\n",
       "</g>\n",
       "</svg>\n"
      ],
      "text/plain": [
       "<graphviz.dot.Digraph at 0x7f633ff5ef50>"
      ]
     },
     "execution_count": 12,
     "metadata": {},
     "output_type": "execute_result"
    }
   ],
   "source": [
    "mx.viz.plot_network(sym_my_lenet, shape={\"data\": (1,1,28,28)}, node_attrs={\"shape\": \"rect\", \"fixedsize\": \"false\"})"
   ]
  },
  {
   "cell_type": "markdown",
   "metadata": {},
   "source": [
    "The network is persistented so it can be passed to the Deep Water Estimator."
   ]
  },
  {
   "cell_type": "code",
   "execution_count": 13,
   "metadata": {
    "collapsed": true
   },
   "outputs": [],
   "source": [
    "network_def_path = project_path+\"/models/sym_my_lenet.json\"\n",
    "sym_my_lenet.save(network_def_path)"
   ]
  },
  {
   "cell_type": "markdown",
   "metadata": {},
   "source": [
    "# Build Deep Water MXNet Model"
   ]
  },
  {
   "cell_type": "code",
   "execution_count": 14,
   "metadata": {
    "collapsed": false,
    "scrolled": true
   },
   "outputs": [
    {
     "name": "stdout",
     "output_type": "stream",
     "text": [
      "deepwater Model Build progress: |█████████████████████████████████████████| 100%\n"
     ]
    }
   ],
   "source": [
    "from h2o.estimators.deepwater import H2ODeepWaterEstimator\n",
    "model_mnist_mylenet_mx = H2ODeepWaterEstimator(epochs=80,\n",
    "                                            network_definition_file=network_def_path,\n",
    "                                            image_shape=[28,28],\n",
    "                                            channels=1, model_id=\"model_mnist_mylenet_mx\")\n",
    "model_mnist_mylenet_mx.train(x=[\"uri\"], y=\"label\", training_frame=mnist_training, validation_frame=mnist_testing)"
   ]
  },
  {
   "cell_type": "code",
   "execution_count": 15,
   "metadata": {
    "collapsed": false,
    "scrolled": false
   },
   "outputs": [
    {
     "name": "stdout",
     "output_type": "stream",
     "text": [
      "Model Details\n",
      "=============\n",
      "H2ODeepWaterEstimator :  Deep Water\n",
      "Model Key:  model_mnist_mylenet_mx\n",
      "\n",
      "\n",
      "ModelMetricsMultinomial: deepwater\n",
      "** Reported on train data. **\n",
      "\n",
      "MSE: 1.0\n",
      "RMSE: 1.0\n",
      "LogLoss: 34.5387763949\n",
      "Mean Per-Class Error: 0.9\n",
      "Confusion Matrix: vertical: actual; across: predicted\n",
      "\n"
     ]
    },
    {
     "data": {
      "text/html": [
       "<div style=\"overflow:auto\"><table style=\"width:50%\"><tr><td><b>0</b></td>\n",
       "<td><b>1</b></td>\n",
       "<td><b>2</b></td>\n",
       "<td><b>3</b></td>\n",
       "<td><b>4</b></td>\n",
       "<td><b>5</b></td>\n",
       "<td><b>6</b></td>\n",
       "<td><b>7</b></td>\n",
       "<td><b>8</b></td>\n",
       "<td><b>9</b></td>\n",
       "<td><b>Error</b></td>\n",
       "<td><b>Rate</b></td></tr>\n",
       "<tr><td>0.0</td>\n",
       "<td>0.0</td>\n",
       "<td>0.0</td>\n",
       "<td>0.0</td>\n",
       "<td>0.0</td>\n",
       "<td>0.0</td>\n",
       "<td>0.0</td>\n",
       "<td>970.0</td>\n",
       "<td>0.0</td>\n",
       "<td>0.0</td>\n",
       "<td>1.0</td>\n",
       "<td>970 / 970</td></tr>\n",
       "<tr><td>0.0</td>\n",
       "<td>0.0</td>\n",
       "<td>0.0</td>\n",
       "<td>0.0</td>\n",
       "<td>0.0</td>\n",
       "<td>0.0</td>\n",
       "<td>0.0</td>\n",
       "<td>1153.0</td>\n",
       "<td>0.0</td>\n",
       "<td>0.0</td>\n",
       "<td>1.0</td>\n",
       "<td>1,153 / 1,153</td></tr>\n",
       "<tr><td>0.0</td>\n",
       "<td>0.0</td>\n",
       "<td>0.0</td>\n",
       "<td>0.0</td>\n",
       "<td>0.0</td>\n",
       "<td>0.0</td>\n",
       "<td>0.0</td>\n",
       "<td>966.0</td>\n",
       "<td>0.0</td>\n",
       "<td>0.0</td>\n",
       "<td>1.0</td>\n",
       "<td>966 / 966</td></tr>\n",
       "<tr><td>0.0</td>\n",
       "<td>0.0</td>\n",
       "<td>0.0</td>\n",
       "<td>0.0</td>\n",
       "<td>0.0</td>\n",
       "<td>0.0</td>\n",
       "<td>0.0</td>\n",
       "<td>975.0</td>\n",
       "<td>0.0</td>\n",
       "<td>0.0</td>\n",
       "<td>1.0</td>\n",
       "<td>975 / 975</td></tr>\n",
       "<tr><td>0.0</td>\n",
       "<td>0.0</td>\n",
       "<td>0.0</td>\n",
       "<td>0.0</td>\n",
       "<td>0.0</td>\n",
       "<td>0.0</td>\n",
       "<td>0.0</td>\n",
       "<td>942.0</td>\n",
       "<td>0.0</td>\n",
       "<td>0.0</td>\n",
       "<td>1.0</td>\n",
       "<td>942 / 942</td></tr>\n",
       "<tr><td>0.0</td>\n",
       "<td>0.0</td>\n",
       "<td>0.0</td>\n",
       "<td>0.0</td>\n",
       "<td>0.0</td>\n",
       "<td>0.0</td>\n",
       "<td>0.0</td>\n",
       "<td>870.0</td>\n",
       "<td>0.0</td>\n",
       "<td>0.0</td>\n",
       "<td>1.0</td>\n",
       "<td>870 / 870</td></tr>\n",
       "<tr><td>0.0</td>\n",
       "<td>0.0</td>\n",
       "<td>0.0</td>\n",
       "<td>0.0</td>\n",
       "<td>0.0</td>\n",
       "<td>0.0</td>\n",
       "<td>0.0</td>\n",
       "<td>993.0</td>\n",
       "<td>0.0</td>\n",
       "<td>0.0</td>\n",
       "<td>1.0</td>\n",
       "<td>993 / 993</td></tr>\n",
       "<tr><td>0.0</td>\n",
       "<td>0.0</td>\n",
       "<td>0.0</td>\n",
       "<td>0.0</td>\n",
       "<td>0.0</td>\n",
       "<td>0.0</td>\n",
       "<td>0.0</td>\n",
       "<td>1062.0</td>\n",
       "<td>0.0</td>\n",
       "<td>0.0</td>\n",
       "<td>0.0</td>\n",
       "<td>0 / 1,062</td></tr>\n",
       "<tr><td>0.0</td>\n",
       "<td>0.0</td>\n",
       "<td>0.0</td>\n",
       "<td>0.0</td>\n",
       "<td>0.0</td>\n",
       "<td>0.0</td>\n",
       "<td>0.0</td>\n",
       "<td>993.0</td>\n",
       "<td>0.0</td>\n",
       "<td>0.0</td>\n",
       "<td>1.0</td>\n",
       "<td>993 / 993</td></tr>\n",
       "<tr><td>0.0</td>\n",
       "<td>0.0</td>\n",
       "<td>0.0</td>\n",
       "<td>0.0</td>\n",
       "<td>0.0</td>\n",
       "<td>0.0</td>\n",
       "<td>0.0</td>\n",
       "<td>1008.0</td>\n",
       "<td>0.0</td>\n",
       "<td>0.0</td>\n",
       "<td>1.0</td>\n",
       "<td>1,008 / 1,008</td></tr>\n",
       "<tr><td>0.0</td>\n",
       "<td>0.0</td>\n",
       "<td>0.0</td>\n",
       "<td>0.0</td>\n",
       "<td>0.0</td>\n",
       "<td>0.0</td>\n",
       "<td>0.0</td>\n",
       "<td>9932.0</td>\n",
       "<td>0.0</td>\n",
       "<td>0.0</td>\n",
       "<td>0.8930729</td>\n",
       "<td>8,870 / 9,932</td></tr></table></div>"
      ],
      "text/plain": [
       "0    1    2    3    4    5    6    7     8    9    Error     Rate\n",
       "---  ---  ---  ---  ---  ---  ---  ----  ---  ---  --------  -------------\n",
       "0    0    0    0    0    0    0    970   0    0    1         970 / 970\n",
       "0    0    0    0    0    0    0    1153  0    0    1         1,153 / 1,153\n",
       "0    0    0    0    0    0    0    966   0    0    1         966 / 966\n",
       "0    0    0    0    0    0    0    975   0    0    1         975 / 975\n",
       "0    0    0    0    0    0    0    942   0    0    1         942 / 942\n",
       "0    0    0    0    0    0    0    870   0    0    1         870 / 870\n",
       "0    0    0    0    0    0    0    993   0    0    1         993 / 993\n",
       "0    0    0    0    0    0    0    1062  0    0    0         0 / 1,062\n",
       "0    0    0    0    0    0    0    993   0    0    1         993 / 993\n",
       "0    0    0    0    0    0    0    1008  0    0    1         1,008 / 1,008\n",
       "0    0    0    0    0    0    0    9932  0    0    0.893073  8,870 / 9,932"
      ]
     },
     "metadata": {},
     "output_type": "display_data"
    },
    {
     "name": "stdout",
     "output_type": "stream",
     "text": [
      "Top-10 Hit Ratios: \n"
     ]
    },
    {
     "data": {
      "text/html": [
       "<div style=\"overflow:auto\"><table style=\"width:50%\"><tr><td><b>k</b></td>\n",
       "<td><b>hit_ratio</b></td></tr>\n",
       "<tr><td>1</td>\n",
       "<td>0.1069271</td></tr>\n",
       "<tr><td>2</td>\n",
       "<td>0.2017721</td></tr>\n",
       "<tr><td>3</td>\n",
       "<td>0.2017721</td></tr>\n",
       "<tr><td>4</td>\n",
       "<td>0.2017721</td></tr>\n",
       "<tr><td>5</td>\n",
       "<td>0.2017721</td></tr>\n",
       "<tr><td>6</td>\n",
       "<td>0.2017721</td></tr>\n",
       "<tr><td>7</td>\n",
       "<td>0.2017721</td></tr>\n",
       "<tr><td>8</td>\n",
       "<td>0.2017721</td></tr>\n",
       "<tr><td>9</td>\n",
       "<td>0.2017721</td></tr>\n",
       "<tr><td>10</td>\n",
       "<td>1.0</td></tr></table></div>"
      ],
      "text/plain": [
       "k    hit_ratio\n",
       "---  -----------\n",
       "1    0.106927\n",
       "2    0.201772\n",
       "3    0.201772\n",
       "4    0.201772\n",
       "5    0.201772\n",
       "6    0.201772\n",
       "7    0.201772\n",
       "8    0.201772\n",
       "9    0.201772\n",
       "10   1"
      ]
     },
     "metadata": {},
     "output_type": "display_data"
    },
    {
     "name": "stdout",
     "output_type": "stream",
     "text": [
      "\n",
      "ModelMetricsMultinomial: deepwater\n",
      "** Reported on validation data. **\n",
      "\n",
      "MSE: 1.0\n",
      "RMSE: 1.0\n",
      "LogLoss: 34.5387763949\n",
      "Mean Per-Class Error: 0.9\n",
      "Confusion Matrix: vertical: actual; across: predicted\n",
      "\n"
     ]
    },
    {
     "data": {
      "text/html": [
       "<div style=\"overflow:auto\"><table style=\"width:50%\"><tr><td><b>0</b></td>\n",
       "<td><b>1</b></td>\n",
       "<td><b>2</b></td>\n",
       "<td><b>3</b></td>\n",
       "<td><b>4</b></td>\n",
       "<td><b>5</b></td>\n",
       "<td><b>6</b></td>\n",
       "<td><b>7</b></td>\n",
       "<td><b>8</b></td>\n",
       "<td><b>9</b></td>\n",
       "<td><b>Error</b></td>\n",
       "<td><b>Rate</b></td></tr>\n",
       "<tr><td>0.0</td>\n",
       "<td>0.0</td>\n",
       "<td>0.0</td>\n",
       "<td>0.0</td>\n",
       "<td>0.0</td>\n",
       "<td>0.0</td>\n",
       "<td>0.0</td>\n",
       "<td>980.0</td>\n",
       "<td>0.0</td>\n",
       "<td>0.0</td>\n",
       "<td>1.0</td>\n",
       "<td>980 / 980</td></tr>\n",
       "<tr><td>0.0</td>\n",
       "<td>0.0</td>\n",
       "<td>0.0</td>\n",
       "<td>0.0</td>\n",
       "<td>0.0</td>\n",
       "<td>0.0</td>\n",
       "<td>0.0</td>\n",
       "<td>1135.0</td>\n",
       "<td>0.0</td>\n",
       "<td>0.0</td>\n",
       "<td>1.0</td>\n",
       "<td>1,135 / 1,135</td></tr>\n",
       "<tr><td>0.0</td>\n",
       "<td>0.0</td>\n",
       "<td>0.0</td>\n",
       "<td>0.0</td>\n",
       "<td>0.0</td>\n",
       "<td>0.0</td>\n",
       "<td>0.0</td>\n",
       "<td>1032.0</td>\n",
       "<td>0.0</td>\n",
       "<td>0.0</td>\n",
       "<td>1.0</td>\n",
       "<td>1,032 / 1,032</td></tr>\n",
       "<tr><td>0.0</td>\n",
       "<td>0.0</td>\n",
       "<td>0.0</td>\n",
       "<td>0.0</td>\n",
       "<td>0.0</td>\n",
       "<td>0.0</td>\n",
       "<td>0.0</td>\n",
       "<td>1010.0</td>\n",
       "<td>0.0</td>\n",
       "<td>0.0</td>\n",
       "<td>1.0</td>\n",
       "<td>1,010 / 1,010</td></tr>\n",
       "<tr><td>0.0</td>\n",
       "<td>0.0</td>\n",
       "<td>0.0</td>\n",
       "<td>0.0</td>\n",
       "<td>0.0</td>\n",
       "<td>0.0</td>\n",
       "<td>0.0</td>\n",
       "<td>982.0</td>\n",
       "<td>0.0</td>\n",
       "<td>0.0</td>\n",
       "<td>1.0</td>\n",
       "<td>982 / 982</td></tr>\n",
       "<tr><td>0.0</td>\n",
       "<td>0.0</td>\n",
       "<td>0.0</td>\n",
       "<td>0.0</td>\n",
       "<td>0.0</td>\n",
       "<td>0.0</td>\n",
       "<td>0.0</td>\n",
       "<td>892.0</td>\n",
       "<td>0.0</td>\n",
       "<td>0.0</td>\n",
       "<td>1.0</td>\n",
       "<td>892 / 892</td></tr>\n",
       "<tr><td>0.0</td>\n",
       "<td>0.0</td>\n",
       "<td>0.0</td>\n",
       "<td>0.0</td>\n",
       "<td>0.0</td>\n",
       "<td>0.0</td>\n",
       "<td>0.0</td>\n",
       "<td>958.0</td>\n",
       "<td>0.0</td>\n",
       "<td>0.0</td>\n",
       "<td>1.0</td>\n",
       "<td>958 / 958</td></tr>\n",
       "<tr><td>0.0</td>\n",
       "<td>0.0</td>\n",
       "<td>0.0</td>\n",
       "<td>0.0</td>\n",
       "<td>0.0</td>\n",
       "<td>0.0</td>\n",
       "<td>0.0</td>\n",
       "<td>1028.0</td>\n",
       "<td>0.0</td>\n",
       "<td>0.0</td>\n",
       "<td>0.0</td>\n",
       "<td>0 / 1,028</td></tr>\n",
       "<tr><td>0.0</td>\n",
       "<td>0.0</td>\n",
       "<td>0.0</td>\n",
       "<td>0.0</td>\n",
       "<td>0.0</td>\n",
       "<td>0.0</td>\n",
       "<td>0.0</td>\n",
       "<td>974.0</td>\n",
       "<td>0.0</td>\n",
       "<td>0.0</td>\n",
       "<td>1.0</td>\n",
       "<td>974 / 974</td></tr>\n",
       "<tr><td>0.0</td>\n",
       "<td>0.0</td>\n",
       "<td>0.0</td>\n",
       "<td>0.0</td>\n",
       "<td>0.0</td>\n",
       "<td>0.0</td>\n",
       "<td>0.0</td>\n",
       "<td>1009.0</td>\n",
       "<td>0.0</td>\n",
       "<td>0.0</td>\n",
       "<td>1.0</td>\n",
       "<td>1,009 / 1,009</td></tr>\n",
       "<tr><td>0.0</td>\n",
       "<td>0.0</td>\n",
       "<td>0.0</td>\n",
       "<td>0.0</td>\n",
       "<td>0.0</td>\n",
       "<td>0.0</td>\n",
       "<td>0.0</td>\n",
       "<td>10000.0</td>\n",
       "<td>0.0</td>\n",
       "<td>0.0</td>\n",
       "<td>0.8972</td>\n",
       "<td>8,972 / 10,000</td></tr></table></div>"
      ],
      "text/plain": [
       "0    1    2    3    4    5    6    7      8    9    Error    Rate\n",
       "---  ---  ---  ---  ---  ---  ---  -----  ---  ---  -------  --------------\n",
       "0    0    0    0    0    0    0    980    0    0    1        980 / 980\n",
       "0    0    0    0    0    0    0    1135   0    0    1        1,135 / 1,135\n",
       "0    0    0    0    0    0    0    1032   0    0    1        1,032 / 1,032\n",
       "0    0    0    0    0    0    0    1010   0    0    1        1,010 / 1,010\n",
       "0    0    0    0    0    0    0    982    0    0    1        982 / 982\n",
       "0    0    0    0    0    0    0    892    0    0    1        892 / 892\n",
       "0    0    0    0    0    0    0    958    0    0    1        958 / 958\n",
       "0    0    0    0    0    0    0    1028   0    0    0        0 / 1,028\n",
       "0    0    0    0    0    0    0    974    0    0    1        974 / 974\n",
       "0    0    0    0    0    0    0    1009   0    0    1        1,009 / 1,009\n",
       "0    0    0    0    0    0    0    10000  0    0    0.8972   8,972 / 10,000"
      ]
     },
     "metadata": {},
     "output_type": "display_data"
    },
    {
     "name": "stdout",
     "output_type": "stream",
     "text": [
      "Top-10 Hit Ratios: \n"
     ]
    },
    {
     "data": {
      "text/html": [
       "<div style=\"overflow:auto\"><table style=\"width:50%\"><tr><td><b>k</b></td>\n",
       "<td><b>hit_ratio</b></td></tr>\n",
       "<tr><td>1</td>\n",
       "<td>0.1028</td></tr>\n",
       "<tr><td>2</td>\n",
       "<td>0.201</td></tr>\n",
       "<tr><td>3</td>\n",
       "<td>0.201</td></tr>\n",
       "<tr><td>4</td>\n",
       "<td>0.201</td></tr>\n",
       "<tr><td>5</td>\n",
       "<td>0.201</td></tr>\n",
       "<tr><td>6</td>\n",
       "<td>0.201</td></tr>\n",
       "<tr><td>7</td>\n",
       "<td>0.201</td></tr>\n",
       "<tr><td>8</td>\n",
       "<td>0.201</td></tr>\n",
       "<tr><td>9</td>\n",
       "<td>0.201</td></tr>\n",
       "<tr><td>10</td>\n",
       "<td>1.0</td></tr></table></div>"
      ],
      "text/plain": [
       "k    hit_ratio\n",
       "---  -----------\n",
       "1    0.1028\n",
       "2    0.201\n",
       "3    0.201\n",
       "4    0.201\n",
       "5    0.201\n",
       "6    0.201\n",
       "7    0.201\n",
       "8    0.201\n",
       "9    0.201\n",
       "10   1"
      ]
     },
     "metadata": {},
     "output_type": "display_data"
    },
    {
     "name": "stdout",
     "output_type": "stream",
     "text": [
      "Scoring History: \n"
     ]
    },
    {
     "data": {
      "text/html": [
       "<div style=\"overflow:auto\"><table style=\"width:50%\"><tr><td><b></b></td>\n",
       "<td><b>timestamp</b></td>\n",
       "<td><b>duration</b></td>\n",
       "<td><b>training_speed</b></td>\n",
       "<td><b>epochs</b></td>\n",
       "<td><b>iterations</b></td>\n",
       "<td><b>samples</b></td>\n",
       "<td><b>training_rmse</b></td>\n",
       "<td><b>training_logloss</b></td>\n",
       "<td><b>training_classification_error</b></td>\n",
       "<td><b>validation_rmse</b></td>\n",
       "<td><b>validation_logloss</b></td>\n",
       "<td><b>validation_classification_error</b></td></tr>\n",
       "<tr><td></td>\n",
       "<td>2017-05-08 20:30:47</td>\n",
       "<td> 0.000 sec</td>\n",
       "<td>None</td>\n",
       "<td>0.0</td>\n",
       "<td>0</td>\n",
       "<td>0.0</td>\n",
       "<td>nan</td>\n",
       "<td>nan</td>\n",
       "<td>nan</td>\n",
       "<td>nan</td>\n",
       "<td>nan</td>\n",
       "<td>nan</td></tr>\n",
       "<tr><td></td>\n",
       "<td>2017-05-08 20:30:47</td>\n",
       "<td> 1.155 sec</td>\n",
       "<td>8126 obs/sec</td>\n",
       "<td>0.0170667</td>\n",
       "<td>1</td>\n",
       "<td>1024.0</td>\n",
       "<td>1.0</td>\n",
       "<td>34.5387764</td>\n",
       "<td>0.8930729</td>\n",
       "<td>1.0</td>\n",
       "<td>34.5387764</td>\n",
       "<td>0.8972</td></tr>\n",
       "<tr><td></td>\n",
       "<td>2017-05-08 20:30:57</td>\n",
       "<td>10.204 sec</td>\n",
       "<td>13898 obs/sec</td>\n",
       "<td>1.9968</td>\n",
       "<td>117</td>\n",
       "<td>119808.0</td>\n",
       "<td>1.0</td>\n",
       "<td>34.5387764</td>\n",
       "<td>0.8930729</td>\n",
       "<td>1.0</td>\n",
       "<td>34.5387764</td>\n",
       "<td>0.8972</td></tr>\n",
       "<tr><td></td>\n",
       "<td>2017-05-08 20:31:02</td>\n",
       "<td>15.773 sec</td>\n",
       "<td>14034 obs/sec</td>\n",
       "<td>3.1914667</td>\n",
       "<td>187</td>\n",
       "<td>191488.0</td>\n",
       "<td>1.0</td>\n",
       "<td>34.5387764</td>\n",
       "<td>0.8930729</td>\n",
       "<td>1.0</td>\n",
       "<td>34.5387764</td>\n",
       "<td>0.8972</td></tr>\n",
       "<tr><td></td>\n",
       "<td>2017-05-08 20:31:08</td>\n",
       "<td>21.334 sec</td>\n",
       "<td>13967 obs/sec</td>\n",
       "<td>4.3349333</td>\n",
       "<td>254</td>\n",
       "<td>260096.0</td>\n",
       "<td>1.0</td>\n",
       "<td>34.5387764</td>\n",
       "<td>0.8930729</td>\n",
       "<td>1.0</td>\n",
       "<td>34.5387764</td>\n",
       "<td>0.8972</td></tr>\n",
       "<tr><td></td>\n",
       "<td>2017-05-08 20:31:14</td>\n",
       "<td>27.234 sec</td>\n",
       "<td>13874 obs/sec</td>\n",
       "<td>5.5296</td>\n",
       "<td>324</td>\n",
       "<td>331776.0</td>\n",
       "<td>1.0</td>\n",
       "<td>34.5387764</td>\n",
       "<td>0.8930729</td>\n",
       "<td>1.0</td>\n",
       "<td>34.5387764</td>\n",
       "<td>0.8972</td></tr>\n",
       "<tr><td></td>\n",
       "<td>2017-05-08 20:31:20</td>\n",
       "<td>33.344 sec</td>\n",
       "<td>13748 obs/sec</td>\n",
       "<td>6.7413333</td>\n",
       "<td>395</td>\n",
       "<td>404480.0</td>\n",
       "<td>1.0</td>\n",
       "<td>34.5387764</td>\n",
       "<td>0.8930729</td>\n",
       "<td>1.0</td>\n",
       "<td>34.5387764</td>\n",
       "<td>0.8972</td></tr>\n",
       "<tr><td></td>\n",
       "<td>2017-05-08 20:31:26</td>\n",
       "<td>39.404 sec</td>\n",
       "<td>13672 obs/sec</td>\n",
       "<td>7.9530667</td>\n",
       "<td>466</td>\n",
       "<td>477184.0</td>\n",
       "<td>1.0</td>\n",
       "<td>34.5387764</td>\n",
       "<td>0.8930729</td>\n",
       "<td>1.0</td>\n",
       "<td>34.5387764</td>\n",
       "<td>0.8972</td></tr>\n",
       "<tr><td></td>\n",
       "<td>2017-05-08 20:31:32</td>\n",
       "<td>45.267 sec</td>\n",
       "<td>13615 obs/sec</td>\n",
       "<td>9.1136</td>\n",
       "<td>534</td>\n",
       "<td>546816.0</td>\n",
       "<td>1.0</td>\n",
       "<td>34.5387764</td>\n",
       "<td>0.8930729</td>\n",
       "<td>1.0</td>\n",
       "<td>34.5387764</td>\n",
       "<td>0.8972</td></tr>\n",
       "<tr><td></td>\n",
       "<td>2017-05-08 20:31:38</td>\n",
       "<td>51.367 sec</td>\n",
       "<td>13548 obs/sec</td>\n",
       "<td>10.3082667</td>\n",
       "<td>604</td>\n",
       "<td>618496.0</td>\n",
       "<td>1.0</td>\n",
       "<td>34.5387764</td>\n",
       "<td>0.8930729</td>\n",
       "<td>1.0</td>\n",
       "<td>34.5387764</td>\n",
       "<td>0.8972</td></tr>\n",
       "<tr><td></td>\n",
       "<td>2017-05-08 20:31:44</td>\n",
       "<td>57.531 sec</td>\n",
       "<td>13500 obs/sec</td>\n",
       "<td>11.52</td>\n",
       "<td>675</td>\n",
       "<td>691200.0</td>\n",
       "<td>1.0</td>\n",
       "<td>34.5387764</td>\n",
       "<td>0.8930729</td>\n",
       "<td>1.0</td>\n",
       "<td>34.5387764</td>\n",
       "<td>0.8972</td></tr></table></div>"
      ],
      "text/plain": [
       "    timestamp            duration    training_speed    epochs     iterations    samples    training_rmse    training_logloss    training_classification_error    validation_rmse    validation_logloss    validation_classification_error\n",
       "--  -------------------  ----------  ----------------  ---------  ------------  ---------  ---------------  ------------------  -------------------------------  -----------------  --------------------  ---------------------------------\n",
       "    2017-05-08 20:30:47  0.000 sec                     0          0             0          nan              nan                 nan                              nan                nan                   nan\n",
       "    2017-05-08 20:30:47  1.155 sec   8126 obs/sec      0.0170667  1             1024       1                34.5388             0.893073                         1                  34.5388               0.8972\n",
       "    2017-05-08 20:30:57  10.204 sec  13898 obs/sec     1.9968     117           119808     1                34.5388             0.893073                         1                  34.5388               0.8972\n",
       "    2017-05-08 20:31:02  15.773 sec  14034 obs/sec     3.19147    187           191488     1                34.5388             0.893073                         1                  34.5388               0.8972\n",
       "    2017-05-08 20:31:08  21.334 sec  13967 obs/sec     4.33493    254           260096     1                34.5388             0.893073                         1                  34.5388               0.8972\n",
       "    2017-05-08 20:31:14  27.234 sec  13874 obs/sec     5.5296     324           331776     1                34.5388             0.893073                         1                  34.5388               0.8972\n",
       "    2017-05-08 20:31:20  33.344 sec  13748 obs/sec     6.74133    395           404480     1                34.5388             0.893073                         1                  34.5388               0.8972\n",
       "    2017-05-08 20:31:26  39.404 sec  13672 obs/sec     7.95307    466           477184     1                34.5388             0.893073                         1                  34.5388               0.8972\n",
       "    2017-05-08 20:31:32  45.267 sec  13615 obs/sec     9.1136     534           546816     1                34.5388             0.893073                         1                  34.5388               0.8972\n",
       "    2017-05-08 20:31:38  51.367 sec  13548 obs/sec     10.3083    604           618496     1                34.5388             0.893073                         1                  34.5388               0.8972\n",
       "    2017-05-08 20:31:44  57.531 sec  13500 obs/sec     11.52      675           691200     1                34.5388             0.893073                         1                  34.5388               0.8972"
      ]
     },
     "metadata": {},
     "output_type": "display_data"
    }
   ],
   "source": [
    "model_mnist_mylenet_mx.show()"
   ]
  }
 ],
 "metadata": {
  "kernelspec": {
   "display_name": "Python [default]",
   "language": "python",
   "name": "python2"
  },
  "language_info": {
   "codemirror_mode": {
    "name": "ipython",
    "version": 2
   },
   "file_extension": ".py",
   "mimetype": "text/x-python",
   "name": "python",
   "nbconvert_exporter": "python",
   "pygments_lexer": "ipython2",
   "version": "2.7.12"
  }
 },
 "nbformat": 4,
 "nbformat_minor": 2
}
