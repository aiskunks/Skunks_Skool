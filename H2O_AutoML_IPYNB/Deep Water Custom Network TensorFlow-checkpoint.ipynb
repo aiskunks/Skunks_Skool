{
 "cells": [
  {
   "cell_type": "markdown",
   "metadata": {},
   "source": [
    "# Import Modules"
   ]
  },
  {
   "cell_type": "code",
   "execution_count": 1,
   "metadata": {
    "collapsed": true,
    "scrolled": false
   },
   "outputs": [],
   "source": [
    "import h2o\n",
    "import pandas"
   ]
  },
  {
   "cell_type": "code",
   "execution_count": 2,
   "metadata": {
    "collapsed": true
   },
   "outputs": [],
   "source": [
    "project_path = \"/gtc-2017\""
   ]
  },
  {
   "cell_type": "markdown",
   "metadata": {},
   "source": [
    "# Connect or Start H2O"
   ]
  },
  {
   "cell_type": "code",
   "execution_count": 3,
   "metadata": {},
   "outputs": [
    {
     "name": "stdout",
     "output_type": "stream",
     "text": [
      "Checking whether there is an H2O instance running at http://localhost:54321. connected.\n"
     ]
    },
    {
     "data": {
      "text/html": [
       "<div style=\"overflow:auto\"><table style=\"width:50%\"><tr><td>H2O cluster uptime:</td>\n",
       "<td>1 hour 44 mins</td></tr>\n",
       "<tr><td>H2O cluster version:</td>\n",
       "<td>3.11.0.226</td></tr>\n",
       "<tr><td>H2O cluster version age:</td>\n",
       "<td>2 days </td></tr>\n",
       "<tr><td>H2O cluster name:</td>\n",
       "<td>root</td></tr>\n",
       "<tr><td>H2O cluster total nodes:</td>\n",
       "<td>1</td></tr>\n",
       "<tr><td>H2O cluster free memory:</td>\n",
       "<td>26.48 Gb</td></tr>\n",
       "<tr><td>H2O cluster total cores:</td>\n",
       "<td>20</td></tr>\n",
       "<tr><td>H2O cluster allowed cores:</td>\n",
       "<td>20</td></tr>\n",
       "<tr><td>H2O cluster status:</td>\n",
       "<td>locked, healthy</td></tr>\n",
       "<tr><td>H2O connection url:</td>\n",
       "<td>http://localhost:54321</td></tr>\n",
       "<tr><td>H2O connection proxy:</td>\n",
       "<td>None</td></tr>\n",
       "<tr><td>H2O internal security:</td>\n",
       "<td>False</td></tr>\n",
       "<tr><td>Python version:</td>\n",
       "<td>2.7.12 final</td></tr></table></div>"
      ],
      "text/plain": [
       "--------------------------  ----------------------\n",
       "H2O cluster uptime:         1 hour 44 mins\n",
       "H2O cluster version:        3.11.0.226\n",
       "H2O cluster version age:    2 days\n",
       "H2O cluster name:           root\n",
       "H2O cluster total nodes:    1\n",
       "H2O cluster free memory:    26.48 Gb\n",
       "H2O cluster total cores:    20\n",
       "H2O cluster allowed cores:  20\n",
       "H2O cluster status:         locked, healthy\n",
       "H2O connection url:         http://localhost:54321\n",
       "H2O connection proxy:\n",
       "H2O internal security:      False\n",
       "Python version:             2.7.12 final\n",
       "--------------------------  ----------------------"
      ]
     },
     "metadata": {},
     "output_type": "display_data"
    }
   ],
   "source": [
    "h2o.init()"
   ]
  },
  {
   "cell_type": "markdown",
   "metadata": {},
   "source": [
    "# Import Data"
   ]
  },
  {
   "cell_type": "markdown",
   "metadata": {},
   "source": [
    "Import data into H2O."
   ]
  },
  {
   "cell_type": "code",
   "execution_count": 4,
   "metadata": {},
   "outputs": [
    {
     "name": "stdout",
     "output_type": "stream",
     "text": [
      "Parse progress: |█████████████████████████████████████████████████████████| 100%\n",
      "Parse progress: |█████████████████████████████████████████████████████████| 100%\n"
     ]
    }
   ],
   "source": [
    "mnist_training = h2o.import_file(project_path+\"/data/mnist-training.csv\")\n",
    "mnist_testing = h2o.import_file(project_path+\"/data/mnist-testing.csv\")"
   ]
  },
  {
   "cell_type": "markdown",
   "metadata": {},
   "source": [
    "Change the \"label\" column to a factor (i.e. categorical feature)."
   ]
  },
  {
   "cell_type": "code",
   "execution_count": 5,
   "metadata": {
    "collapsed": true
   },
   "outputs": [],
   "source": [
    "mnist_training[\"label\"] = mnist_training[\"label\"].asfactor()\n",
    "mnist_testing[\"label\"] = mnist_testing[\"label\"].asfactor()"
   ]
  },
  {
   "cell_type": "markdown",
   "metadata": {},
   "source": [
    "# Explore Data"
   ]
  },
  {
   "cell_type": "code",
   "execution_count": 6,
   "metadata": {},
   "outputs": [
    {
     "data": {
      "text/html": [
       "<table>\n",
       "<thead>\n",
       "<tr><th>uri                                          </th><th style=\"text-align: right;\">  label</th></tr>\n",
       "</thead>\n",
       "<tbody>\n",
       "<tr><td>/gtc-2017/data/mnist_png/training/6/6453.png </td><td style=\"text-align: right;\">      6</td></tr>\n",
       "<tr><td>/gtc-2017/data/mnist_png/training/6/13970.png</td><td style=\"text-align: right;\">      6</td></tr>\n",
       "<tr><td>/gtc-2017/data/mnist_png/training/6/21967.png</td><td style=\"text-align: right;\">      6</td></tr>\n",
       "<tr><td>/gtc-2017/data/mnist_png/training/6/11277.png</td><td style=\"text-align: right;\">      6</td></tr>\n",
       "<tr><td>/gtc-2017/data/mnist_png/training/6/27350.png</td><td style=\"text-align: right;\">      6</td></tr>\n",
       "<tr><td>/gtc-2017/data/mnist_png/training/6/32119.png</td><td style=\"text-align: right;\">      6</td></tr>\n",
       "<tr><td>/gtc-2017/data/mnist_png/training/6/44201.png</td><td style=\"text-align: right;\">      6</td></tr>\n",
       "<tr><td>/gtc-2017/data/mnist_png/training/6/58770.png</td><td style=\"text-align: right;\">      6</td></tr>\n",
       "<tr><td>/gtc-2017/data/mnist_png/training/6/39440.png</td><td style=\"text-align: right;\">      6</td></tr>\n",
       "<tr><td>/gtc-2017/data/mnist_png/training/6/41988.png</td><td style=\"text-align: right;\">      6</td></tr>\n",
       "</tbody>\n",
       "</table>"
      ]
     },
     "metadata": {},
     "output_type": "display_data"
    },
    {
     "data": {
      "text/plain": []
     },
     "execution_count": 6,
     "metadata": {},
     "output_type": "execute_result"
    }
   ],
   "source": [
    "mnist_training.head()"
   ]
  },
  {
   "cell_type": "markdown",
   "metadata": {},
   "source": [
    "Get the number of output classes from the data."
   ]
  },
  {
   "cell_type": "code",
   "execution_count": 7,
   "metadata": {},
   "outputs": [
    {
     "name": "stdout",
     "output_type": "stream",
     "text": [
      "10\n"
     ]
    }
   ],
   "source": [
    "num_classes = mnist_training[\"label\"].nlevels()[0]\n",
    "print(num_classes)"
   ]
  },
  {
   "cell_type": "markdown",
   "metadata": {},
   "source": [
    "# Test GPU Driver"
   ]
  },
  {
   "cell_type": "code",
   "execution_count": 8,
   "metadata": {},
   "outputs": [
    {
     "name": "stdout",
     "output_type": "stream",
     "text": [
      "Mon May  8 20:41:28 2017       \r\n",
      "+-----------------------------------------------------------------------------+\r\n",
      "| NVIDIA-SMI 378.13                 Driver Version: 378.13                    |\r\n",
      "|-------------------------------+----------------------+----------------------+\r\n",
      "| GPU  Name        Persistence-M| Bus-Id        Disp.A | Volatile Uncorr. ECC |\r\n",
      "| Fan  Temp  Perf  Pwr:Usage/Cap|         Memory-Usage | GPU-Util  Compute M. |\r\n",
      "|===============================+======================+======================|\r\n",
      "|   0  GeForce GTX 1080    Off  | 0000:02:00.0      On |                  N/A |\r\n",
      "| 27%   37C    P8    12W / 180W |    790MiB /  8112MiB |     18%      Default |\r\n",
      "+-------------------------------+----------------------+----------------------+\r\n",
      "                                                                               \r\n",
      "+-----------------------------------------------------------------------------+\r\n",
      "| Processes:                                                       GPU Memory |\r\n",
      "|  GPU       PID  Type  Process name                               Usage      |\r\n",
      "|=============================================================================|\r\n",
      "+-----------------------------------------------------------------------------+\r\n"
     ]
    }
   ],
   "source": [
    "!nvidia-smi"
   ]
  },
  {
   "cell_type": "markdown",
   "metadata": {},
   "source": [
    "# Define Custom Network"
   ]
  },
  {
   "cell_type": "code",
   "execution_count": 9,
   "metadata": {
    "collapsed": true
   },
   "outputs": [],
   "source": [
    "def simple_model(w, h, channels, num_classes):\n",
    "    import json\n",
    "    import tensorflow as tf\n",
    "    from tensorflow.python.framework import ops\n",
    "    \n",
    "    graph = tf.Graph()\n",
    "    with graph.as_default():\n",
    "        size = w * h * channels\n",
    "        x = tf.placeholder(tf.float32, [None, size])\n",
    "        W = tf.Variable(tf.zeros([size, num_classes]))\n",
    "        b = tf.Variable(tf.zeros([num_classes]))\n",
    "        y = tf.matmul(x, W) + b\n",
    "        \n",
    "        predictions = tf.nn.softmax(y)\n",
    "        \n",
    "        y_ = tf.placeholder(tf.float32, [None, num_classes])\n",
    "        \n",
    "        cross_entropy = tf.reduce_mean(tf.nn.softmax_cross_entropy_with_logits(logits=y, labels=y_))\n",
    "        \n",
    "        train_step = tf.train.GradientDescentOptimizer(0.5).minimize(cross_entropy)\n",
    "        \n",
    "        tf.add_to_collection(ops.GraphKeys.TRAIN_OP, train_step)\n",
    "        tf.add_to_collection(\"predictions\", predictions)\n",
    "        \n",
    "        global_step = tf.Variable(0, name=\"global_step\", trainable=False)\n",
    "        \n",
    "        init = tf.global_variables_initializer()\n",
    "        tf.add_to_collection(ops.GraphKeys.INIT_OP, init.name)\n",
    "        tf.add_to_collection(\"logits\", y)\n",
    "        saver = tf.train.Saver()\n",
    "        meta = json.dumps({\n",
    "            \"inputs\": {\"batch_image_input\": x.name, \"categorical_labels\": y_.name},\n",
    "            \"outputs\": {\"categorical_logits\": y.name},\n",
    "            \"parameters\": {\"global_step\": global_step.name}\n",
    "        })\n",
    "        \n",
    "        tf.add_to_collection(\"meta\", meta)\n",
    "        filename = project_path+\"/models/mymodel_tensorflow.meta\"\n",
    "        tf.train.export_meta_graph(filename, saver_def=saver.as_saver_def())\n",
    "    return(filename)"
   ]
  },
  {
   "cell_type": "markdown",
   "metadata": {},
   "source": [
    "Instantiate an instance of the network."
   ]
  },
  {
   "cell_type": "code",
   "execution_count": 10,
   "metadata": {
    "collapsed": true
   },
   "outputs": [],
   "source": [
    "network_def_path = simple_model(28, 28, 1, num_classes)"
   ]
  },
  {
   "cell_type": "markdown",
   "metadata": {},
   "source": [
    "# Build Deep Water TensorFlow Model"
   ]
  },
  {
   "cell_type": "code",
   "execution_count": 11,
   "metadata": {
    "scrolled": false
   },
   "outputs": [
    {
     "name": "stdout",
     "output_type": "stream",
     "text": [
      "deepwater Model Build progress: |█████████████████████████████████████████| 100%\n"
     ]
    }
   ],
   "source": [
    "from h2o.estimators.deepwater import H2ODeepWaterEstimator\n",
    "model_mnist_mymodel_tf = H2ODeepWaterEstimator(epochs=80,\n",
    "                                            network_definition_file=network_def_path,\n",
    "                                            backend=\"tensorflow\",\n",
    "                                            image_shape=[28,28],\n",
    "                                            channels=1, model_id=\"model_mnist_mymodel_tf\")\n",
    "model_mnist_mymodel_tf.train(x=[\"uri\"], y=\"label\", training_frame=mnist_training, validation_frame=mnist_testing)"
   ]
  },
  {
   "cell_type": "code",
   "execution_count": 12,
   "metadata": {
    "scrolled": false
   },
   "outputs": [
    {
     "name": "stdout",
     "output_type": "stream",
     "text": [
      "Model Details\n",
      "=============\n",
      "H2ODeepWaterEstimator :  Deep Water\n",
      "Model Key:  model_mnist_mymodel_tf\n",
      "\n",
      "\n",
      "ModelMetricsMultinomial: deepwater\n",
      "** Reported on train data. **\n",
      "\n",
      "MSE: 0.0886959992018\n",
      "RMSE: 0.297818735478\n",
      "LogLoss: 3.06345128356\n",
      "Mean Per-Class Error: 0.0895792393202\n",
      "Confusion Matrix: vertical: actual; across: predicted\n",
      "\n"
     ]
    },
    {
     "data": {
      "text/html": [
       "<div style=\"overflow:auto\"><table style=\"width:50%\"><tr><td><b>0</b></td>\n",
       "<td><b>1</b></td>\n",
       "<td><b>2</b></td>\n",
       "<td><b>3</b></td>\n",
       "<td><b>4</b></td>\n",
       "<td><b>5</b></td>\n",
       "<td><b>6</b></td>\n",
       "<td><b>7</b></td>\n",
       "<td><b>8</b></td>\n",
       "<td><b>9</b></td>\n",
       "<td><b>Error</b></td>\n",
       "<td><b>Rate</b></td></tr>\n",
       "<tr><td>938.0</td>\n",
       "<td>0.0</td>\n",
       "<td>2.0</td>\n",
       "<td>1.0</td>\n",
       "<td>1.0</td>\n",
       "<td>2.0</td>\n",
       "<td>4.0</td>\n",
       "<td>1.0</td>\n",
       "<td>9.0</td>\n",
       "<td>0.0</td>\n",
       "<td>0.0208768</td>\n",
       "<td>20 / 958</td></tr>\n",
       "<tr><td>1.0</td>\n",
       "<td>1113.0</td>\n",
       "<td>6.0</td>\n",
       "<td>6.0</td>\n",
       "<td>2.0</td>\n",
       "<td>4.0</td>\n",
       "<td>1.0</td>\n",
       "<td>3.0</td>\n",
       "<td>34.0</td>\n",
       "<td>4.0</td>\n",
       "<td>0.0519591</td>\n",
       "<td>61 / 1,174</td></tr>\n",
       "<tr><td>10.0</td>\n",
       "<td>6.0</td>\n",
       "<td>832.0</td>\n",
       "<td>38.0</td>\n",
       "<td>6.0</td>\n",
       "<td>7.0</td>\n",
       "<td>12.0</td>\n",
       "<td>6.0</td>\n",
       "<td>61.0</td>\n",
       "<td>2.0</td>\n",
       "<td>0.1510204</td>\n",
       "<td>148 / 980</td></tr>\n",
       "<tr><td>5.0</td>\n",
       "<td>1.0</td>\n",
       "<td>10.0</td>\n",
       "<td>917.0</td>\n",
       "<td>0.0</td>\n",
       "<td>53.0</td>\n",
       "<td>6.0</td>\n",
       "<td>11.0</td>\n",
       "<td>51.0</td>\n",
       "<td>8.0</td>\n",
       "<td>0.1365348</td>\n",
       "<td>145 / 1,062</td></tr>\n",
       "<tr><td>7.0</td>\n",
       "<td>5.0</td>\n",
       "<td>0.0</td>\n",
       "<td>1.0</td>\n",
       "<td>909.0</td>\n",
       "<td>1.0</td>\n",
       "<td>7.0</td>\n",
       "<td>8.0</td>\n",
       "<td>15.0</td>\n",
       "<td>29.0</td>\n",
       "<td>0.0743381</td>\n",
       "<td>73 / 982</td></tr>\n",
       "<tr><td>7.0</td>\n",
       "<td>2.0</td>\n",
       "<td>9.0</td>\n",
       "<td>25.0</td>\n",
       "<td>8.0</td>\n",
       "<td>758.0</td>\n",
       "<td>10.0</td>\n",
       "<td>1.0</td>\n",
       "<td>58.0</td>\n",
       "<td>5.0</td>\n",
       "<td>0.1415629</td>\n",
       "<td>125 / 883</td></tr>\n",
       "<tr><td>6.0</td>\n",
       "<td>1.0</td>\n",
       "<td>3.0</td>\n",
       "<td>3.0</td>\n",
       "<td>4.0</td>\n",
       "<td>16.0</td>\n",
       "<td>961.0</td>\n",
       "<td>3.0</td>\n",
       "<td>18.0</td>\n",
       "<td>0.0</td>\n",
       "<td>0.0532020</td>\n",
       "<td>54 / 1,015</td></tr>\n",
       "<tr><td>1.0</td>\n",
       "<td>4.0</td>\n",
       "<td>9.0</td>\n",
       "<td>4.0</td>\n",
       "<td>8.0</td>\n",
       "<td>2.0</td>\n",
       "<td>0.0</td>\n",
       "<td>978.0</td>\n",
       "<td>8.0</td>\n",
       "<td>46.0</td>\n",
       "<td>0.0773585</td>\n",
       "<td>82 / 1,060</td></tr>\n",
       "<tr><td>3.0</td>\n",
       "<td>9.0</td>\n",
       "<td>2.0</td>\n",
       "<td>12.0</td>\n",
       "<td>2.0</td>\n",
       "<td>25.0</td>\n",
       "<td>4.0</td>\n",
       "<td>1.0</td>\n",
       "<td>875.0</td>\n",
       "<td>8.0</td>\n",
       "<td>0.0701382</td>\n",
       "<td>66 / 941</td></tr>\n",
       "<tr><td>3.0</td>\n",
       "<td>1.0</td>\n",
       "<td>0.0</td>\n",
       "<td>10.0</td>\n",
       "<td>24.0</td>\n",
       "<td>4.0</td>\n",
       "<td>1.0</td>\n",
       "<td>45.0</td>\n",
       "<td>27.0</td>\n",
       "<td>853.0</td>\n",
       "<td>0.1188017</td>\n",
       "<td>115 / 968</td></tr>\n",
       "<tr><td>981.0</td>\n",
       "<td>1142.0</td>\n",
       "<td>873.0</td>\n",
       "<td>1017.0</td>\n",
       "<td>964.0</td>\n",
       "<td>872.0</td>\n",
       "<td>1006.0</td>\n",
       "<td>1057.0</td>\n",
       "<td>1156.0</td>\n",
       "<td>955.0</td>\n",
       "<td>0.0886960</td>\n",
       "<td>889 / 10,023</td></tr></table></div>"
      ],
      "text/plain": [
       "0    1     2    3     4    5    6     7     8     9    Error      Rate\n",
       "---  ----  ---  ----  ---  ---  ----  ----  ----  ---  ---------  ------------\n",
       "938  0     2    1     1    2    4     1     9     0    0.0208768  20 / 958\n",
       "1    1113  6    6     2    4    1     3     34    4    0.0519591  61 / 1,174\n",
       "10   6     832  38    6    7    12    6     61    2    0.15102    148 / 980\n",
       "5    1     10   917   0    53   6     11    51    8    0.136535   145 / 1,062\n",
       "7    5     0    1     909  1    7     8     15    29   0.0743381  73 / 982\n",
       "7    2     9    25    8    758  10    1     58    5    0.141563   125 / 883\n",
       "6    1     3    3     4    16   961   3     18    0    0.053202   54 / 1,015\n",
       "1    4     9    4     8    2    0     978   8     46   0.0773585  82 / 1,060\n",
       "3    9     2    12    2    25   4     1     875   8    0.0701382  66 / 941\n",
       "3    1     0    10    24   4    1     45    27    853  0.118802   115 / 968\n",
       "981  1142  873  1017  964  872  1006  1057  1156  955  0.088696   889 / 10,023"
      ]
     },
     "metadata": {},
     "output_type": "display_data"
    },
    {
     "name": "stdout",
     "output_type": "stream",
     "text": [
      "Top-10 Hit Ratios: \n"
     ]
    },
    {
     "data": {
      "text/html": [
       "<div style=\"overflow:auto\"><table style=\"width:50%\"><tr><td><b>k</b></td>\n",
       "<td><b>hit_ratio</b></td></tr>\n",
       "<tr><td>1</td>\n",
       "<td>0.911304</td></tr>\n",
       "<tr><td>2</td>\n",
       "<td>0.9179886</td></tr>\n",
       "<tr><td>3</td>\n",
       "<td>0.9179886</td></tr>\n",
       "<tr><td>4</td>\n",
       "<td>0.9179886</td></tr>\n",
       "<tr><td>5</td>\n",
       "<td>0.9179886</td></tr>\n",
       "<tr><td>6</td>\n",
       "<td>0.9179886</td></tr>\n",
       "<tr><td>7</td>\n",
       "<td>0.9179886</td></tr>\n",
       "<tr><td>8</td>\n",
       "<td>0.9179886</td></tr>\n",
       "<tr><td>9</td>\n",
       "<td>0.9179886</td></tr>\n",
       "<tr><td>10</td>\n",
       "<td>1.0</td></tr></table></div>"
      ],
      "text/plain": [
       "k    hit_ratio\n",
       "---  -----------\n",
       "1    0.911304\n",
       "2    0.917989\n",
       "3    0.917989\n",
       "4    0.917989\n",
       "5    0.917989\n",
       "6    0.917989\n",
       "7    0.917989\n",
       "8    0.917989\n",
       "9    0.917989\n",
       "10   1"
      ]
     },
     "metadata": {},
     "output_type": "display_data"
    },
    {
     "name": "stdout",
     "output_type": "stream",
     "text": [
      "\n",
      "ModelMetricsMultinomial: deepwater\n",
      "** Reported on validation data. **\n",
      "\n",
      "MSE: 0.1009\n",
      "RMSE: 0.317647603485\n",
      "LogLoss: 3.48496253825\n",
      "Mean Per-Class Error: 0.101669491765\n",
      "Confusion Matrix: vertical: actual; across: predicted\n",
      "\n"
     ]
    },
    {
     "data": {
      "text/html": [
       "<div style=\"overflow:auto\"><table style=\"width:50%\"><tr><td><b>0</b></td>\n",
       "<td><b>1</b></td>\n",
       "<td><b>2</b></td>\n",
       "<td><b>3</b></td>\n",
       "<td><b>4</b></td>\n",
       "<td><b>5</b></td>\n",
       "<td><b>6</b></td>\n",
       "<td><b>7</b></td>\n",
       "<td><b>8</b></td>\n",
       "<td><b>9</b></td>\n",
       "<td><b>Error</b></td>\n",
       "<td><b>Rate</b></td></tr>\n",
       "<tr><td>958.0</td>\n",
       "<td>0.0</td>\n",
       "<td>1.0</td>\n",
       "<td>1.0</td>\n",
       "<td>0.0</td>\n",
       "<td>6.0</td>\n",
       "<td>6.0</td>\n",
       "<td>2.0</td>\n",
       "<td>4.0</td>\n",
       "<td>2.0</td>\n",
       "<td>0.0224490</td>\n",
       "<td>22 / 980</td></tr>\n",
       "<tr><td>0.0</td>\n",
       "<td>1098.0</td>\n",
       "<td>5.0</td>\n",
       "<td>1.0</td>\n",
       "<td>0.0</td>\n",
       "<td>1.0</td>\n",
       "<td>4.0</td>\n",
       "<td>1.0</td>\n",
       "<td>25.0</td>\n",
       "<td>0.0</td>\n",
       "<td>0.0325991</td>\n",
       "<td>37 / 1,135</td></tr>\n",
       "<tr><td>8.0</td>\n",
       "<td>5.0</td>\n",
       "<td>837.0</td>\n",
       "<td>44.0</td>\n",
       "<td>6.0</td>\n",
       "<td>4.0</td>\n",
       "<td>21.0</td>\n",
       "<td>9.0</td>\n",
       "<td>95.0</td>\n",
       "<td>3.0</td>\n",
       "<td>0.1889535</td>\n",
       "<td>195 / 1,032</td></tr>\n",
       "<tr><td>4.0</td>\n",
       "<td>0.0</td>\n",
       "<td>12.0</td>\n",
       "<td>865.0</td>\n",
       "<td>1.0</td>\n",
       "<td>64.0</td>\n",
       "<td>0.0</td>\n",
       "<td>12.0</td>\n",
       "<td>44.0</td>\n",
       "<td>8.0</td>\n",
       "<td>0.1435644</td>\n",
       "<td>145 / 1,010</td></tr>\n",
       "<tr><td>2.0</td>\n",
       "<td>2.0</td>\n",
       "<td>5.0</td>\n",
       "<td>5.0</td>\n",
       "<td>884.0</td>\n",
       "<td>0.0</td>\n",
       "<td>15.0</td>\n",
       "<td>13.0</td>\n",
       "<td>19.0</td>\n",
       "<td>37.0</td>\n",
       "<td>0.0997963</td>\n",
       "<td>98 / 982</td></tr>\n",
       "<tr><td>10.0</td>\n",
       "<td>2.0</td>\n",
       "<td>2.0</td>\n",
       "<td>29.0</td>\n",
       "<td>5.0</td>\n",
       "<td>758.0</td>\n",
       "<td>10.0</td>\n",
       "<td>9.0</td>\n",
       "<td>66.0</td>\n",
       "<td>1.0</td>\n",
       "<td>0.1502242</td>\n",
       "<td>134 / 892</td></tr>\n",
       "<tr><td>13.0</td>\n",
       "<td>1.0</td>\n",
       "<td>11.0</td>\n",
       "<td>3.0</td>\n",
       "<td>6.0</td>\n",
       "<td>16.0</td>\n",
       "<td>891.0</td>\n",
       "<td>1.0</td>\n",
       "<td>16.0</td>\n",
       "<td>0.0</td>\n",
       "<td>0.0699374</td>\n",
       "<td>67 / 958</td></tr>\n",
       "<tr><td>2.0</td>\n",
       "<td>6.0</td>\n",
       "<td>15.0</td>\n",
       "<td>9.0</td>\n",
       "<td>8.0</td>\n",
       "<td>2.0</td>\n",
       "<td>0.0</td>\n",
       "<td>926.0</td>\n",
       "<td>10.0</td>\n",
       "<td>50.0</td>\n",
       "<td>0.0992218</td>\n",
       "<td>102 / 1,028</td></tr>\n",
       "<tr><td>4.0</td>\n",
       "<td>4.0</td>\n",
       "<td>2.0</td>\n",
       "<td>11.0</td>\n",
       "<td>11.0</td>\n",
       "<td>27.0</td>\n",
       "<td>6.0</td>\n",
       "<td>5.0</td>\n",
       "<td>895.0</td>\n",
       "<td>9.0</td>\n",
       "<td>0.0811088</td>\n",
       "<td>79 / 974</td></tr>\n",
       "<tr><td>10.0</td>\n",
       "<td>2.0</td>\n",
       "<td>0.0</td>\n",
       "<td>5.0</td>\n",
       "<td>32.0</td>\n",
       "<td>9.0</td>\n",
       "<td>0.0</td>\n",
       "<td>38.0</td>\n",
       "<td>34.0</td>\n",
       "<td>879.0</td>\n",
       "<td>0.1288404</td>\n",
       "<td>130 / 1,009</td></tr>\n",
       "<tr><td>1011.0</td>\n",
       "<td>1120.0</td>\n",
       "<td>890.0</td>\n",
       "<td>973.0</td>\n",
       "<td>953.0</td>\n",
       "<td>887.0</td>\n",
       "<td>953.0</td>\n",
       "<td>1016.0</td>\n",
       "<td>1208.0</td>\n",
       "<td>989.0</td>\n",
       "<td>0.1009</td>\n",
       "<td>1,009 / 10,000</td></tr></table></div>"
      ],
      "text/plain": [
       "0     1     2    3    4    5    6    7     8     9    Error      Rate\n",
       "----  ----  ---  ---  ---  ---  ---  ----  ----  ---  ---------  --------------\n",
       "958   0     1    1    0    6    6    2     4     2    0.022449   22 / 980\n",
       "0     1098  5    1    0    1    4    1     25    0    0.0325991  37 / 1,135\n",
       "8     5     837  44   6    4    21   9     95    3    0.188953   195 / 1,032\n",
       "4     0     12   865  1    64   0    12    44    8    0.143564   145 / 1,010\n",
       "2     2     5    5    884  0    15   13    19    37   0.0997963  98 / 982\n",
       "10    2     2    29   5    758  10   9     66    1    0.150224   134 / 892\n",
       "13    1     11   3    6    16   891  1     16    0    0.0699374  67 / 958\n",
       "2     6     15   9    8    2    0    926   10    50   0.0992218  102 / 1,028\n",
       "4     4     2    11   11   27   6    5     895   9    0.0811088  79 / 974\n",
       "10    2     0    5    32   9    0    38    34    879  0.12884    130 / 1,009\n",
       "1011  1120  890  973  953  887  953  1016  1208  989  0.1009     1,009 / 10,000"
      ]
     },
     "metadata": {},
     "output_type": "display_data"
    },
    {
     "name": "stdout",
     "output_type": "stream",
     "text": [
      "Top-10 Hit Ratios: \n"
     ]
    },
    {
     "data": {
      "text/html": [
       "<div style=\"overflow:auto\"><table style=\"width:50%\"><tr><td><b>k</b></td>\n",
       "<td><b>hit_ratio</b></td></tr>\n",
       "<tr><td>1</td>\n",
       "<td>0.8991</td></tr>\n",
       "<tr><td>2</td>\n",
       "<td>0.9066</td></tr>\n",
       "<tr><td>3</td>\n",
       "<td>0.9066</td></tr>\n",
       "<tr><td>4</td>\n",
       "<td>0.9066</td></tr>\n",
       "<tr><td>5</td>\n",
       "<td>0.9066</td></tr>\n",
       "<tr><td>6</td>\n",
       "<td>0.9066</td></tr>\n",
       "<tr><td>7</td>\n",
       "<td>0.9066</td></tr>\n",
       "<tr><td>8</td>\n",
       "<td>0.9066</td></tr>\n",
       "<tr><td>9</td>\n",
       "<td>0.9066</td></tr>\n",
       "<tr><td>10</td>\n",
       "<td>1.0</td></tr></table></div>"
      ],
      "text/plain": [
       "k    hit_ratio\n",
       "---  -----------\n",
       "1    0.8991\n",
       "2    0.9066\n",
       "3    0.9066\n",
       "4    0.9066\n",
       "5    0.9066\n",
       "6    0.9066\n",
       "7    0.9066\n",
       "8    0.9066\n",
       "9    0.9066\n",
       "10   1"
      ]
     },
     "metadata": {},
     "output_type": "display_data"
    },
    {
     "name": "stdout",
     "output_type": "stream",
     "text": [
      "Scoring History: \n"
     ]
    },
    {
     "data": {
      "text/html": [
       "<div style=\"overflow:auto\"><table style=\"width:50%\"><tr><td><b></b></td>\n",
       "<td><b>timestamp</b></td>\n",
       "<td><b>duration</b></td>\n",
       "<td><b>training_speed</b></td>\n",
       "<td><b>epochs</b></td>\n",
       "<td><b>iterations</b></td>\n",
       "<td><b>samples</b></td>\n",
       "<td><b>training_rmse</b></td>\n",
       "<td><b>training_logloss</b></td>\n",
       "<td><b>training_classification_error</b></td>\n",
       "<td><b>validation_rmse</b></td>\n",
       "<td><b>validation_logloss</b></td>\n",
       "<td><b>validation_classification_error</b></td></tr>\n",
       "<tr><td></td>\n",
       "<td>2017-05-08 20:41:30</td>\n",
       "<td> 0.000 sec</td>\n",
       "<td>None</td>\n",
       "<td>0.0</td>\n",
       "<td>0</td>\n",
       "<td>0.0</td>\n",
       "<td>nan</td>\n",
       "<td>nan</td>\n",
       "<td>nan</td>\n",
       "<td>nan</td>\n",
       "<td>nan</td>\n",
       "<td>nan</td></tr>\n",
       "<tr><td></td>\n",
       "<td>2017-05-08 20:41:30</td>\n",
       "<td> 0.849 sec</td>\n",
       "<td>14628 obs/sec</td>\n",
       "<td>0.0170667</td>\n",
       "<td>1</td>\n",
       "<td>1024.0</td>\n",
       "<td>0.5342691</td>\n",
       "<td>9.8564951</td>\n",
       "<td>0.2854435</td>\n",
       "<td>0.5208647</td>\n",
       "<td>9.3703700</td>\n",
       "<td>0.2713</td></tr>\n",
       "<tr><td></td>\n",
       "<td>2017-05-08 20:41:37</td>\n",
       "<td> 7.909 sec</td>\n",
       "<td>46078 obs/sec</td>\n",
       "<td>5.2053333</td>\n",
       "<td>305</td>\n",
       "<td>312320.0</td>\n",
       "<td>0.3729345</td>\n",
       "<td>4.8016515</td>\n",
       "<td>0.1390801</td>\n",
       "<td>0.3733631</td>\n",
       "<td>4.8147054</td>\n",
       "<td>0.1394</td></tr>\n",
       "<tr><td></td>\n",
       "<td>2017-05-08 20:41:42</td>\n",
       "<td>12.954 sec</td>\n",
       "<td>44059 obs/sec</td>\n",
       "<td>8.4138667</td>\n",
       "<td>493</td>\n",
       "<td>504832.0</td>\n",
       "<td>0.3461566</td>\n",
       "<td>4.1385883</td>\n",
       "<td>0.1198244</td>\n",
       "<td>0.3394113</td>\n",
       "<td>3.9788670</td>\n",
       "<td>0.1152</td></tr>\n",
       "<tr><td></td>\n",
       "<td>2017-05-08 20:41:47</td>\n",
       "<td>18.014 sec</td>\n",
       "<td>42595 obs/sec</td>\n",
       "<td>11.4517333</td>\n",
       "<td>671</td>\n",
       "<td>687104.0</td>\n",
       "<td>0.3537121</td>\n",
       "<td>4.3185472</td>\n",
       "<td>0.1251122</td>\n",
       "<td>0.3515679</td>\n",
       "<td>4.2689928</td>\n",
       "<td>0.1236</td></tr>\n",
       "<tr><td></td>\n",
       "<td>2017-05-08 20:41:52</td>\n",
       "<td>23.015 sec</td>\n",
       "<td>40857 obs/sec</td>\n",
       "<td>14.1482667</td>\n",
       "<td>829</td>\n",
       "<td>848896.0</td>\n",
       "<td>0.3270382</td>\n",
       "<td>3.6940605</td>\n",
       "<td>0.1069540</td>\n",
       "<td>0.3268027</td>\n",
       "<td>3.6887413</td>\n",
       "<td>0.1068</td></tr>\n",
       "<tr><td></td>\n",
       "<td>2017-05-08 20:41:57</td>\n",
       "<td>28.053 sec</td>\n",
       "<td>39506 obs/sec</td>\n",
       "<td>16.7594667</td>\n",
       "<td>982</td>\n",
       "<td>1005568.0</td>\n",
       "<td>0.3572205</td>\n",
       "<td>4.4073725</td>\n",
       "<td>0.1276065</td>\n",
       "<td>0.3570714</td>\n",
       "<td>4.4022370</td>\n",
       "<td>0.1275</td></tr>\n",
       "<tr><td></td>\n",
       "<td>2017-05-08 20:42:02</td>\n",
       "<td>33.111 sec</td>\n",
       "<td>39336 obs/sec</td>\n",
       "<td>19.7461333</td>\n",
       "<td>1157</td>\n",
       "<td>1184768.0</td>\n",
       "<td>0.3282563</td>\n",
       "<td>3.7216281</td>\n",
       "<td>0.1077522</td>\n",
       "<td>0.3310589</td>\n",
       "<td>3.7854499</td>\n",
       "<td>0.1096</td></tr>\n",
       "<tr><td></td>\n",
       "<td>2017-05-08 20:42:07</td>\n",
       "<td>38.157 sec</td>\n",
       "<td>38642 obs/sec</td>\n",
       "<td>22.3744</td>\n",
       "<td>1311</td>\n",
       "<td>1342464.0</td>\n",
       "<td>0.3454353</td>\n",
       "<td>4.1213585</td>\n",
       "<td>0.1193256</td>\n",
       "<td>0.3489986</td>\n",
       "<td>4.2068230</td>\n",
       "<td>0.1218</td></tr>\n",
       "<tr><td></td>\n",
       "<td>2017-05-08 20:42:12</td>\n",
       "<td>43.138 sec</td>\n",
       "<td>38839 obs/sec</td>\n",
       "<td>25.4634667</td>\n",
       "<td>1492</td>\n",
       "<td>1527808.0</td>\n",
       "<td>0.3169683</td>\n",
       "<td>3.4700736</td>\n",
       "<td>0.1004689</td>\n",
       "<td>0.3220215</td>\n",
       "<td>3.5786683</td>\n",
       "<td>0.1037</td></tr>\n",
       "<tr><td></td>\n",
       "<td>2017-05-08 20:42:17</td>\n",
       "<td>48.172 sec</td>\n",
       "<td>38296 obs/sec</td>\n",
       "<td>28.0746667</td>\n",
       "<td>1645</td>\n",
       "<td>1684480.0</td>\n",
       "<td>0.3612476</td>\n",
       "<td>4.5070836</td>\n",
       "<td>0.1304999</td>\n",
       "<td>0.3570714</td>\n",
       "<td>4.4036940</td>\n",
       "<td>0.1275</td></tr>\n",
       "<tr><td></td>\n",
       "<td>2017-05-08 20:42:22</td>\n",
       "<td>53.188 sec</td>\n",
       "<td>38534 obs/sec</td>\n",
       "<td>31.232</td>\n",
       "<td>1830</td>\n",
       "<td>1873920.0</td>\n",
       "<td>0.3650937</td>\n",
       "<td>4.6037918</td>\n",
       "<td>0.1332934</td>\n",
       "<td>0.3725587</td>\n",
       "<td>4.7939822</td>\n",
       "<td>0.1388</td></tr>\n",
       "<tr><td></td>\n",
       "<td>2017-05-08 20:42:27</td>\n",
       "<td>58.212 sec</td>\n",
       "<td>38511 obs/sec</td>\n",
       "<td>34.2016</td>\n",
       "<td>2004</td>\n",
       "<td>2052096.0</td>\n",
       "<td>0.2978187</td>\n",
       "<td>3.0634513</td>\n",
       "<td>0.0886960</td>\n",
       "<td>0.3176476</td>\n",
       "<td>3.4849625</td>\n",
       "<td>0.1009</td></tr>\n",
       "<tr><td></td>\n",
       "<td>2017-05-08 20:42:32</td>\n",
       "<td> 1 min  3.220 sec</td>\n",
       "<td>38316 obs/sec</td>\n",
       "<td>37.0005333</td>\n",
       "<td>2168</td>\n",
       "<td>2220032.0</td>\n",
       "<td>0.3230479</td>\n",
       "<td>3.6044657</td>\n",
       "<td>0.1043600</td>\n",
       "<td>0.3290897</td>\n",
       "<td>3.7405495</td>\n",
       "<td>0.1083</td></tr>\n",
       "<tr><td></td>\n",
       "<td>2017-05-08 20:42:37</td>\n",
       "<td> 1 min  8.256 sec</td>\n",
       "<td>37396 obs/sec</td>\n",
       "<td>39.0314667</td>\n",
       "<td>2287</td>\n",
       "<td>2341888.0</td>\n",
       "<td>0.3396097</td>\n",
       "<td>3.9828993</td>\n",
       "<td>0.1153347</td>\n",
       "<td>0.3394113</td>\n",
       "<td>3.9788670</td>\n",
       "<td>0.1152</td></tr>\n",
       "<tr><td></td>\n",
       "<td>2017-05-08 20:42:38</td>\n",
       "<td> 1 min  8.668 sec</td>\n",
       "<td>37387 obs/sec</td>\n",
       "<td>39.0314667</td>\n",
       "<td>2287</td>\n",
       "<td>2341888.0</td>\n",
       "<td>0.2978187</td>\n",
       "<td>3.0634513</td>\n",
       "<td>0.0886960</td>\n",
       "<td>0.3176476</td>\n",
       "<td>3.4849625</td>\n",
       "<td>0.1009</td></tr></table></div>"
      ],
      "text/plain": [
       "    timestamp            duration          training_speed    epochs     iterations    samples      training_rmse    training_logloss    training_classification_error    validation_rmse    validation_logloss    validation_classification_error\n",
       "--  -------------------  ----------------  ----------------  ---------  ------------  -----------  ---------------  ------------------  -------------------------------  -----------------  --------------------  ---------------------------------\n",
       "    2017-05-08 20:41:30  0.000 sec                           0          0             0            nan              nan                 nan                              nan                nan                   nan\n",
       "    2017-05-08 20:41:30  0.849 sec         14628 obs/sec     0.0170667  1             1024         0.534269         9.8565              0.285443                         0.520865           9.37037               0.2713\n",
       "    2017-05-08 20:41:37  7.909 sec         46078 obs/sec     5.20533    305           312320       0.372934         4.80165             0.13908                          0.373363           4.81471               0.1394\n",
       "    2017-05-08 20:41:42  12.954 sec        44059 obs/sec     8.41387    493           504832       0.346157         4.13859             0.119824                         0.339411           3.97887               0.1152\n",
       "    2017-05-08 20:41:47  18.014 sec        42595 obs/sec     11.4517    671           687104       0.353712         4.31855             0.125112                         0.351568           4.26899               0.1236\n",
       "    2017-05-08 20:41:52  23.015 sec        40857 obs/sec     14.1483    829           848896       0.327038         3.69406             0.106954                         0.326803           3.68874               0.1068\n",
       "    2017-05-08 20:41:57  28.053 sec        39506 obs/sec     16.7595    982           1.00557e+06  0.357221         4.40737             0.127607                         0.357071           4.40224               0.1275\n",
       "    2017-05-08 20:42:02  33.111 sec        39336 obs/sec     19.7461    1157          1.18477e+06  0.328256         3.72163             0.107752                         0.331059           3.78545               0.1096\n",
       "    2017-05-08 20:42:07  38.157 sec        38642 obs/sec     22.3744    1311          1.34246e+06  0.345435         4.12136             0.119326                         0.348999           4.20682               0.1218\n",
       "    2017-05-08 20:42:12  43.138 sec        38839 obs/sec     25.4635    1492          1.52781e+06  0.316968         3.47007             0.100469                         0.322021           3.57867               0.1037\n",
       "    2017-05-08 20:42:17  48.172 sec        38296 obs/sec     28.0747    1645          1.68448e+06  0.361248         4.50708             0.1305                           0.357071           4.40369               0.1275\n",
       "    2017-05-08 20:42:22  53.188 sec        38534 obs/sec     31.232     1830          1.87392e+06  0.365094         4.60379             0.133293                         0.372559           4.79398               0.1388\n",
       "    2017-05-08 20:42:27  58.212 sec        38511 obs/sec     34.2016    2004          2.0521e+06   0.297819         3.06345             0.088696                         0.317648           3.48496               0.1009\n",
       "    2017-05-08 20:42:32  1 min  3.220 sec  38316 obs/sec     37.0005    2168          2.22003e+06  0.323048         3.60447             0.10436                          0.32909            3.74055               0.1083\n",
       "    2017-05-08 20:42:37  1 min  8.256 sec  37396 obs/sec     39.0315    2287          2.34189e+06  0.33961          3.9829              0.115335                         0.339411           3.97887               0.1152\n",
       "    2017-05-08 20:42:38  1 min  8.668 sec  37387 obs/sec     39.0315    2287          2.34189e+06  0.297819         3.06345             0.088696                         0.317648           3.48496               0.1009"
      ]
     },
     "metadata": {},
     "output_type": "display_data"
    }
   ],
   "source": [
    "model_mnist_mymodel_tf.show()"
   ]
  }
 ],
 "metadata": {
  "kernelspec": {
   "display_name": "Python 2",
   "language": "python",
   "name": "python2"
  },
  "language_info": {
   "codemirror_mode": {
    "name": "ipython",
    "version": 2
   },
   "file_extension": ".py",
   "mimetype": "text/x-python",
   "name": "python",
   "nbconvert_exporter": "python",
   "pygments_lexer": "ipython2",
   "version": "2.7.12"
  }
 },
 "nbformat": 4,
 "nbformat_minor": 2
}
