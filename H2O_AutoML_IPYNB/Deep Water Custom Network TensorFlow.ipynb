{
 "cells": [
  {
   "cell_type": "markdown",
   "metadata": {},
   "source": [
    "# Import Modules"
   ]
  },
  {
   "cell_type": "code",
   "execution_count": 1,
   "metadata": {
    "collapsed": true,
    "scrolled": false
   },
   "outputs": [],
   "source": [
    "import h2o\n",
    "import pandas"
   ]
  },
  {
   "cell_type": "code",
   "execution_count": 2,
   "metadata": {
    "collapsed": true
   },
   "outputs": [],
   "source": [
    "project_path = \"/gtc-2017\""
   ]
  },
  {
   "cell_type": "markdown",
   "metadata": {},
   "source": [
    "# Connect or Start H2O"
   ]
  },
  {
   "cell_type": "code",
   "execution_count": 3,
   "metadata": {},
   "outputs": [
    {
     "name": "stdout",
     "output_type": "stream",
     "text": [
      "Checking whether there is an H2O instance running at http://localhost:54321. connected.\n"
     ]
    },
    {
     "data": {
      "text/html": [
       "<div style=\"overflow:auto\"><table style=\"width:50%\"><tr><td>H2O cluster uptime:</td>\n",
       "<td>53 mins 23 secs</td></tr>\n",
       "<tr><td>H2O cluster version:</td>\n",
       "<td>3.11.0.230</td></tr>\n",
       "<tr><td>H2O cluster version age:</td>\n",
       "<td>14 hours and 39 minutes </td></tr>\n",
       "<tr><td>H2O cluster name:</td>\n",
       "<td>root</td></tr>\n",
       "<tr><td>H2O cluster total nodes:</td>\n",
       "<td>1</td></tr>\n",
       "<tr><td>H2O cluster free memory:</td>\n",
       "<td>25.76 Gb</td></tr>\n",
       "<tr><td>H2O cluster total cores:</td>\n",
       "<td>20</td></tr>\n",
       "<tr><td>H2O cluster allowed cores:</td>\n",
       "<td>20</td></tr>\n",
       "<tr><td>H2O cluster status:</td>\n",
       "<td>locked, healthy</td></tr>\n",
       "<tr><td>H2O connection url:</td>\n",
       "<td>http://localhost:54321</td></tr>\n",
       "<tr><td>H2O connection proxy:</td>\n",
       "<td>None</td></tr>\n",
       "<tr><td>H2O internal security:</td>\n",
       "<td>False</td></tr>\n",
       "<tr><td>Python version:</td>\n",
       "<td>3.5.2 final</td></tr></table></div>"
      ],
      "text/plain": [
       "--------------------------  -----------------------\n",
       "H2O cluster uptime:         53 mins 23 secs\n",
       "H2O cluster version:        3.11.0.230\n",
       "H2O cluster version age:    14 hours and 39 minutes\n",
       "H2O cluster name:           root\n",
       "H2O cluster total nodes:    1\n",
       "H2O cluster free memory:    25.76 Gb\n",
       "H2O cluster total cores:    20\n",
       "H2O cluster allowed cores:  20\n",
       "H2O cluster status:         locked, healthy\n",
       "H2O connection url:         http://localhost:54321\n",
       "H2O connection proxy:\n",
       "H2O internal security:      False\n",
       "Python version:             3.5.2 final\n",
       "--------------------------  -----------------------"
      ]
     },
     "metadata": {},
     "output_type": "display_data"
    }
   ],
   "source": [
    "h2o.init()"
   ]
  },
  {
   "cell_type": "markdown",
   "metadata": {},
   "source": [
    "# Import Data"
   ]
  },
  {
   "cell_type": "markdown",
   "metadata": {},
   "source": [
    "Import data into H2O."
   ]
  },
  {
   "cell_type": "code",
   "execution_count": 4,
   "metadata": {},
   "outputs": [
    {
     "name": "stdout",
     "output_type": "stream",
     "text": [
      "Parse progress: |█████████████████████████████████████████████████████████| 100%\n",
      "Parse progress: |█████████████████████████████████████████████████████████| 100%\n"
     ]
    }
   ],
   "source": [
    "mnist_training = h2o.import_file(project_path+\"/data/mnist-training.csv\")\n",
    "mnist_testing = h2o.import_file(project_path+\"/data/mnist-testing.csv\")"
   ]
  },
  {
   "cell_type": "markdown",
   "metadata": {},
   "source": [
    "Change the \"label\" column to a factor (i.e. categorical feature)."
   ]
  },
  {
   "cell_type": "code",
   "execution_count": 5,
   "metadata": {
    "collapsed": true
   },
   "outputs": [],
   "source": [
    "mnist_training[\"label\"] = mnist_training[\"label\"].asfactor()\n",
    "mnist_testing[\"label\"] = mnist_testing[\"label\"].asfactor()"
   ]
  },
  {
   "cell_type": "markdown",
   "metadata": {},
   "source": [
    "# Explore Data"
   ]
  },
  {
   "cell_type": "code",
   "execution_count": 6,
   "metadata": {},
   "outputs": [
    {
     "data": {
      "text/html": [
       "<table>\n",
       "<thead>\n",
       "<tr><th>uri                                          </th><th style=\"text-align: right;\">  label</th></tr>\n",
       "</thead>\n",
       "<tbody>\n",
       "<tr><td>/gtc-2017/data/mnist_png/training/6/6453.png </td><td style=\"text-align: right;\">      6</td></tr>\n",
       "<tr><td>/gtc-2017/data/mnist_png/training/6/13970.png</td><td style=\"text-align: right;\">      6</td></tr>\n",
       "<tr><td>/gtc-2017/data/mnist_png/training/6/21967.png</td><td style=\"text-align: right;\">      6</td></tr>\n",
       "<tr><td>/gtc-2017/data/mnist_png/training/6/11277.png</td><td style=\"text-align: right;\">      6</td></tr>\n",
       "<tr><td>/gtc-2017/data/mnist_png/training/6/27350.png</td><td style=\"text-align: right;\">      6</td></tr>\n",
       "<tr><td>/gtc-2017/data/mnist_png/training/6/32119.png</td><td style=\"text-align: right;\">      6</td></tr>\n",
       "<tr><td>/gtc-2017/data/mnist_png/training/6/44201.png</td><td style=\"text-align: right;\">      6</td></tr>\n",
       "<tr><td>/gtc-2017/data/mnist_png/training/6/58770.png</td><td style=\"text-align: right;\">      6</td></tr>\n",
       "<tr><td>/gtc-2017/data/mnist_png/training/6/39440.png</td><td style=\"text-align: right;\">      6</td></tr>\n",
       "<tr><td>/gtc-2017/data/mnist_png/training/6/41988.png</td><td style=\"text-align: right;\">      6</td></tr>\n",
       "</tbody>\n",
       "</table>"
      ]
     },
     "metadata": {},
     "output_type": "display_data"
    },
    {
     "data": {
      "text/plain": []
     },
     "execution_count": 6,
     "metadata": {},
     "output_type": "execute_result"
    }
   ],
   "source": [
    "mnist_training.head()"
   ]
  },
  {
   "cell_type": "markdown",
   "metadata": {},
   "source": [
    "Get the number of output classes from the data."
   ]
  },
  {
   "cell_type": "code",
   "execution_count": 7,
   "metadata": {},
   "outputs": [
    {
     "name": "stdout",
     "output_type": "stream",
     "text": [
      "10\n"
     ]
    }
   ],
   "source": [
    "num_classes = mnist_training[\"label\"].nlevels()[0]\n",
    "print(num_classes)"
   ]
  },
  {
   "cell_type": "markdown",
   "metadata": {},
   "source": [
    "# Test GPU Driver"
   ]
  },
  {
   "cell_type": "code",
   "execution_count": 8,
   "metadata": {},
   "outputs": [
    {
     "name": "stdout",
     "output_type": "stream",
     "text": [
      "Tue May  9 04:12:49 2017       \r\n",
      "+-----------------------------------------------------------------------------+\r\n",
      "| NVIDIA-SMI 378.13                 Driver Version: 378.13                    |\r\n",
      "|-------------------------------+----------------------+----------------------+\r\n",
      "| GPU  Name        Persistence-M| Bus-Id        Disp.A | Volatile Uncorr. ECC |\r\n",
      "| Fan  Temp  Perf  Pwr:Usage/Cap|         Memory-Usage | GPU-Util  Compute M. |\r\n",
      "|===============================+======================+======================|\r\n",
      "|   0  GeForce GTX 1080    Off  | 0000:02:00.0      On |                  N/A |\r\n",
      "| 31%   40C    P8    11W / 180W |   4785MiB /  8112MiB |      8%      Default |\r\n",
      "+-------------------------------+----------------------+----------------------+\r\n",
      "                                                                               \r\n",
      "+-----------------------------------------------------------------------------+\r\n",
      "| Processes:                                                       GPU Memory |\r\n",
      "|  GPU       PID  Type  Process name                               Usage      |\r\n",
      "|=============================================================================|\r\n",
      "+-----------------------------------------------------------------------------+\r\n"
     ]
    }
   ],
   "source": [
    "!nvidia-smi"
   ]
  },
  {
   "cell_type": "markdown",
   "metadata": {},
   "source": [
    "# Define Custom Network"
   ]
  },
  {
   "cell_type": "code",
   "execution_count": 9,
   "metadata": {
    "collapsed": true
   },
   "outputs": [],
   "source": [
    "def simple_model(w, h, channels, num_classes):\n",
    "    import json\n",
    "    import tensorflow as tf\n",
    "    from tensorflow.python.framework import ops\n",
    "    \n",
    "    graph = tf.Graph()\n",
    "    with graph.as_default():\n",
    "        size = w * h * channels\n",
    "        x = tf.placeholder(tf.float32, [None, size])\n",
    "        W = tf.Variable(tf.zeros([size, num_classes]))\n",
    "        b = tf.Variable(tf.zeros([num_classes]))\n",
    "        y = tf.matmul(x, W) + b\n",
    "        \n",
    "        predictions = tf.nn.softmax(y)\n",
    "        \n",
    "        y_ = tf.placeholder(tf.float32, [None, num_classes])\n",
    "        \n",
    "        cross_entropy = tf.reduce_mean(tf.nn.softmax_cross_entropy_with_logits(logits=y, labels=y_))\n",
    "        \n",
    "        train_step = tf.train.GradientDescentOptimizer(0.5).minimize(cross_entropy)\n",
    "        \n",
    "        tf.add_to_collection(ops.GraphKeys.TRAIN_OP, train_step)\n",
    "        tf.add_to_collection(\"predictions\", predictions)\n",
    "        \n",
    "        global_step = tf.Variable(0, name=\"global_step\", trainable=False)\n",
    "        \n",
    "        init = tf.global_variables_initializer()\n",
    "        tf.add_to_collection(ops.GraphKeys.INIT_OP, init.name)\n",
    "        tf.add_to_collection(\"logits\", y)\n",
    "        saver = tf.train.Saver()\n",
    "        meta = json.dumps({\n",
    "            \"inputs\": {\"batch_image_input\": x.name, \"categorical_labels\": y_.name},\n",
    "            \"outputs\": {\"categorical_logits\": y.name},\n",
    "            \"parameters\": {\"global_step\": global_step.name}\n",
    "        })\n",
    "        \n",
    "        tf.add_to_collection(\"meta\", meta)\n",
    "        filename = project_path+\"/models/mymodel_tensorflow.meta\"\n",
    "        tf.train.export_meta_graph(filename, saver_def=saver.as_saver_def())\n",
    "    return(filename)"
   ]
  },
  {
   "cell_type": "markdown",
   "metadata": {},
   "source": [
    "Instantiate an instance of the network."
   ]
  },
  {
   "cell_type": "code",
   "execution_count": 10,
   "metadata": {
    "collapsed": true
   },
   "outputs": [],
   "source": [
    "network_def_path = simple_model(28, 28, 1, num_classes)"
   ]
  },
  {
   "cell_type": "markdown",
   "metadata": {},
   "source": [
    "# Build Deep Water TensorFlow Model"
   ]
  },
  {
   "cell_type": "code",
   "execution_count": 11,
   "metadata": {
    "scrolled": false
   },
   "outputs": [
    {
     "name": "stdout",
     "output_type": "stream",
     "text": [
      "deepwater Model Build progress: |█████████████████████████████████████████| 100%\n"
     ]
    }
   ],
   "source": [
    "from h2o.estimators.deepwater import H2ODeepWaterEstimator\n",
    "model_mnist_mymodel_tf = H2ODeepWaterEstimator(epochs=80,\n",
    "                                            network_definition_file=network_def_path,\n",
    "                                            backend=\"tensorflow\",\n",
    "                                            image_shape=[28,28],\n",
    "                                            channels=1, model_id=\"model_mnist_mymodel_tf\")\n",
    "model_mnist_mymodel_tf.train(x=[\"uri\"], y=\"label\", training_frame=mnist_training, validation_frame=mnist_testing)"
   ]
  },
  {
   "cell_type": "code",
   "execution_count": 12,
   "metadata": {
    "scrolled": false
   },
   "outputs": [
    {
     "name": "stdout",
     "output_type": "stream",
     "text": [
      "Model Details\n",
      "=============\n",
      "H2ODeepWaterEstimator :  Deep Water\n",
      "Model Key:  model_mnist_mymodel_tf\n",
      "\n",
      "\n",
      "ModelMetricsMultinomial: deepwater\n",
      "** Reported on train data. **\n",
      "\n",
      "MSE: 0.08646877789739044\n",
      "RMSE: 0.29405573943963487\n",
      "LogLoss: 2.984679138655652\n",
      "Mean Per-Class Error: 0.08760483306433123\n",
      "Confusion Matrix: vertical: actual; across: predicted\n",
      "\n"
     ]
    },
    {
     "data": {
      "text/html": [
       "<div style=\"overflow:auto\"><table style=\"width:50%\"><tr><td><b>0</b></td>\n",
       "<td><b>1</b></td>\n",
       "<td><b>2</b></td>\n",
       "<td><b>3</b></td>\n",
       "<td><b>4</b></td>\n",
       "<td><b>5</b></td>\n",
       "<td><b>6</b></td>\n",
       "<td><b>7</b></td>\n",
       "<td><b>8</b></td>\n",
       "<td><b>9</b></td>\n",
       "<td><b>Error</b></td>\n",
       "<td><b>Rate</b></td></tr>\n",
       "<tr><td>957.0</td>\n",
       "<td>0.0</td>\n",
       "<td>7.0</td>\n",
       "<td>2.0</td>\n",
       "<td>1.0</td>\n",
       "<td>17.0</td>\n",
       "<td>3.0</td>\n",
       "<td>5.0</td>\n",
       "<td>11.0</td>\n",
       "<td>1.0</td>\n",
       "<td>0.0468127</td>\n",
       "<td>47 / 1,004</td></tr>\n",
       "<tr><td>0.0</td>\n",
       "<td>1099.0</td>\n",
       "<td>19.0</td>\n",
       "<td>1.0</td>\n",
       "<td>1.0</td>\n",
       "<td>0.0</td>\n",
       "<td>1.0</td>\n",
       "<td>7.0</td>\n",
       "<td>6.0</td>\n",
       "<td>1.0</td>\n",
       "<td>0.0317181</td>\n",
       "<td>36 / 1,135</td></tr>\n",
       "<tr><td>8.0</td>\n",
       "<td>7.0</td>\n",
       "<td>944.0</td>\n",
       "<td>4.0</td>\n",
       "<td>2.0</td>\n",
       "<td>5.0</td>\n",
       "<td>5.0</td>\n",
       "<td>13.0</td>\n",
       "<td>23.0</td>\n",
       "<td>6.0</td>\n",
       "<td>0.0717797</td>\n",
       "<td>73 / 1,017</td></tr>\n",
       "<tr><td>1.0</td>\n",
       "<td>6.0</td>\n",
       "<td>52.0</td>\n",
       "<td>864.0</td>\n",
       "<td>2.0</td>\n",
       "<td>49.0</td>\n",
       "<td>4.0</td>\n",
       "<td>12.0</td>\n",
       "<td>34.0</td>\n",
       "<td>12.0</td>\n",
       "<td>0.1660232</td>\n",
       "<td>172 / 1,036</td></tr>\n",
       "<tr><td>0.0</td>\n",
       "<td>2.0</td>\n",
       "<td>9.0</td>\n",
       "<td>0.0</td>\n",
       "<td>880.0</td>\n",
       "<td>5.0</td>\n",
       "<td>5.0</td>\n",
       "<td>25.0</td>\n",
       "<td>7.0</td>\n",
       "<td>56.0</td>\n",
       "<td>0.1102123</td>\n",
       "<td>109 / 989</td></tr>\n",
       "<tr><td>6.0</td>\n",
       "<td>3.0</td>\n",
       "<td>12.0</td>\n",
       "<td>35.0</td>\n",
       "<td>3.0</td>\n",
       "<td>785.0</td>\n",
       "<td>10.0</td>\n",
       "<td>4.0</td>\n",
       "<td>26.0</td>\n",
       "<td>9.0</td>\n",
       "<td>0.1209406</td>\n",
       "<td>108 / 893</td></tr>\n",
       "<tr><td>7.0</td>\n",
       "<td>1.0</td>\n",
       "<td>11.0</td>\n",
       "<td>0.0</td>\n",
       "<td>3.0</td>\n",
       "<td>16.0</td>\n",
       "<td>946.0</td>\n",
       "<td>4.0</td>\n",
       "<td>6.0</td>\n",
       "<td>2.0</td>\n",
       "<td>0.0502008</td>\n",
       "<td>50 / 996</td></tr>\n",
       "<tr><td>1.0</td>\n",
       "<td>3.0</td>\n",
       "<td>7.0</td>\n",
       "<td>3.0</td>\n",
       "<td>6.0</td>\n",
       "<td>1.0</td>\n",
       "<td>0.0</td>\n",
       "<td>990.0</td>\n",
       "<td>1.0</td>\n",
       "<td>29.0</td>\n",
       "<td>0.0489914</td>\n",
       "<td>51 / 1,041</td></tr>\n",
       "<tr><td>3.0</td>\n",
       "<td>9.0</td>\n",
       "<td>28.0</td>\n",
       "<td>22.0</td>\n",
       "<td>5.0</td>\n",
       "<td>30.0</td>\n",
       "<td>3.0</td>\n",
       "<td>5.0</td>\n",
       "<td>862.0</td>\n",
       "<td>13.0</td>\n",
       "<td>0.1204082</td>\n",
       "<td>118 / 980</td></tr>\n",
       "<tr><td>10.0</td>\n",
       "<td>1.0</td>\n",
       "<td>2.0</td>\n",
       "<td>17.0</td>\n",
       "<td>12.0</td>\n",
       "<td>11.0</td>\n",
       "<td>0.0</td>\n",
       "<td>46.0</td>\n",
       "<td>8.0</td>\n",
       "<td>875.0</td>\n",
       "<td>0.1089613</td>\n",
       "<td>107 / 982</td></tr>\n",
       "<tr><td>993.0</td>\n",
       "<td>1131.0</td>\n",
       "<td>1091.0</td>\n",
       "<td>948.0</td>\n",
       "<td>915.0</td>\n",
       "<td>919.0</td>\n",
       "<td>977.0</td>\n",
       "<td>1111.0</td>\n",
       "<td>984.0</td>\n",
       "<td>1004.0</td>\n",
       "<td>0.0864688</td>\n",
       "<td>871 / 10,073</td></tr></table></div>"
      ],
      "text/plain": [
       "0    1     2     3    4    5    6    7     8    9     Error      Rate\n",
       "---  ----  ----  ---  ---  ---  ---  ----  ---  ----  ---------  ------------\n",
       "957  0     7     2    1    17   3    5     11   1     0.0468127  47 / 1,004\n",
       "0    1099  19    1    1    0    1    7     6    1     0.0317181  36 / 1,135\n",
       "8    7     944   4    2    5    5    13    23   6     0.0717797  73 / 1,017\n",
       "1    6     52    864  2    49   4    12    34   12    0.166023   172 / 1,036\n",
       "0    2     9     0    880  5    5    25    7    56    0.110212   109 / 989\n",
       "6    3     12    35   3    785  10   4     26   9     0.120941   108 / 893\n",
       "7    1     11    0    3    16   946  4     6    2     0.0502008  50 / 996\n",
       "1    3     7     3    6    1    0    990   1    29    0.0489914  51 / 1,041\n",
       "3    9     28    22   5    30   3    5     862  13    0.120408   118 / 980\n",
       "10   1     2     17   12   11   0    46    8    875   0.108961   107 / 982\n",
       "993  1131  1091  948  915  919  977  1111  984  1004  0.0864688  871 / 10,073"
      ]
     },
     "metadata": {},
     "output_type": "display_data"
    },
    {
     "name": "stdout",
     "output_type": "stream",
     "text": [
      "Top-10 Hit Ratios: \n"
     ]
    },
    {
     "data": {
      "text/html": [
       "<div style=\"overflow:auto\"><table style=\"width:50%\"><tr><td><b>k</b></td>\n",
       "<td><b>hit_ratio</b></td></tr>\n",
       "<tr><td>1</td>\n",
       "<td>0.9135312</td></tr>\n",
       "<tr><td>2</td>\n",
       "<td>0.919587</td></tr>\n",
       "<tr><td>3</td>\n",
       "<td>0.919587</td></tr>\n",
       "<tr><td>4</td>\n",
       "<td>0.919587</td></tr>\n",
       "<tr><td>5</td>\n",
       "<td>0.919587</td></tr>\n",
       "<tr><td>6</td>\n",
       "<td>0.919587</td></tr>\n",
       "<tr><td>7</td>\n",
       "<td>0.919587</td></tr>\n",
       "<tr><td>8</td>\n",
       "<td>0.919587</td></tr>\n",
       "<tr><td>9</td>\n",
       "<td>0.919587</td></tr>\n",
       "<tr><td>10</td>\n",
       "<td>1.0</td></tr></table></div>"
      ],
      "text/plain": [
       "k    hit_ratio\n",
       "---  -----------\n",
       "1    0.913531\n",
       "2    0.919587\n",
       "3    0.919587\n",
       "4    0.919587\n",
       "5    0.919587\n",
       "6    0.919587\n",
       "7    0.919587\n",
       "8    0.919587\n",
       "9    0.919587\n",
       "10   1"
      ]
     },
     "metadata": {},
     "output_type": "display_data"
    },
    {
     "name": "stdout",
     "output_type": "stream",
     "text": [
      "\n",
      "ModelMetricsMultinomial: deepwater\n",
      "** Reported on validation data. **\n",
      "\n",
      "MSE: 0.0942\n",
      "RMSE: 0.3069201850644561\n",
      "LogLoss: 3.253552736400621\n",
      "Mean Per-Class Error: 0.09549782192578034\n",
      "Confusion Matrix: vertical: actual; across: predicted\n",
      "\n"
     ]
    },
    {
     "data": {
      "text/html": [
       "<div style=\"overflow:auto\"><table style=\"width:50%\"><tr><td><b>0</b></td>\n",
       "<td><b>1</b></td>\n",
       "<td><b>2</b></td>\n",
       "<td><b>3</b></td>\n",
       "<td><b>4</b></td>\n",
       "<td><b>5</b></td>\n",
       "<td><b>6</b></td>\n",
       "<td><b>7</b></td>\n",
       "<td><b>8</b></td>\n",
       "<td><b>9</b></td>\n",
       "<td><b>Error</b></td>\n",
       "<td><b>Rate</b></td></tr>\n",
       "<tr><td>956.0</td>\n",
       "<td>0.0</td>\n",
       "<td>0.0</td>\n",
       "<td>3.0</td>\n",
       "<td>0.0</td>\n",
       "<td>11.0</td>\n",
       "<td>3.0</td>\n",
       "<td>3.0</td>\n",
       "<td>2.0</td>\n",
       "<td>2.0</td>\n",
       "<td>0.0244898</td>\n",
       "<td>24 / 980</td></tr>\n",
       "<tr><td>0.0</td>\n",
       "<td>1109.0</td>\n",
       "<td>13.0</td>\n",
       "<td>0.0</td>\n",
       "<td>0.0</td>\n",
       "<td>1.0</td>\n",
       "<td>4.0</td>\n",
       "<td>1.0</td>\n",
       "<td>7.0</td>\n",
       "<td>0.0</td>\n",
       "<td>0.0229075</td>\n",
       "<td>26 / 1,135</td></tr>\n",
       "<tr><td>7.0</td>\n",
       "<td>7.0</td>\n",
       "<td>937.0</td>\n",
       "<td>8.0</td>\n",
       "<td>5.0</td>\n",
       "<td>7.0</td>\n",
       "<td>15.0</td>\n",
       "<td>9.0</td>\n",
       "<td>32.0</td>\n",
       "<td>5.0</td>\n",
       "<td>0.0920543</td>\n",
       "<td>95 / 1,032</td></tr>\n",
       "<tr><td>4.0</td>\n",
       "<td>2.0</td>\n",
       "<td>52.0</td>\n",
       "<td>838.0</td>\n",
       "<td>2.0</td>\n",
       "<td>56.0</td>\n",
       "<td>2.0</td>\n",
       "<td>13.0</td>\n",
       "<td>30.0</td>\n",
       "<td>11.0</td>\n",
       "<td>0.1702970</td>\n",
       "<td>172 / 1,010</td></tr>\n",
       "<tr><td>2.0</td>\n",
       "<td>3.0</td>\n",
       "<td>13.0</td>\n",
       "<td>1.0</td>\n",
       "<td>859.0</td>\n",
       "<td>2.0</td>\n",
       "<td>12.0</td>\n",
       "<td>17.0</td>\n",
       "<td>13.0</td>\n",
       "<td>60.0</td>\n",
       "<td>0.1252546</td>\n",
       "<td>123 / 982</td></tr>\n",
       "<tr><td>11.0</td>\n",
       "<td>4.0</td>\n",
       "<td>3.0</td>\n",
       "<td>31.0</td>\n",
       "<td>7.0</td>\n",
       "<td>770.0</td>\n",
       "<td>14.0</td>\n",
       "<td>7.0</td>\n",
       "<td>40.0</td>\n",
       "<td>5.0</td>\n",
       "<td>0.1367713</td>\n",
       "<td>122 / 892</td></tr>\n",
       "<tr><td>12.0</td>\n",
       "<td>1.0</td>\n",
       "<td>14.0</td>\n",
       "<td>1.0</td>\n",
       "<td>4.0</td>\n",
       "<td>29.0</td>\n",
       "<td>889.0</td>\n",
       "<td>1.0</td>\n",
       "<td>7.0</td>\n",
       "<td>0.0</td>\n",
       "<td>0.0720251</td>\n",
       "<td>69 / 958</td></tr>\n",
       "<tr><td>2.0</td>\n",
       "<td>6.0</td>\n",
       "<td>24.0</td>\n",
       "<td>6.0</td>\n",
       "<td>5.0</td>\n",
       "<td>2.0</td>\n",
       "<td>0.0</td>\n",
       "<td>952.0</td>\n",
       "<td>2.0</td>\n",
       "<td>29.0</td>\n",
       "<td>0.0739300</td>\n",
       "<td>76 / 1,028</td></tr>\n",
       "<tr><td>8.0</td>\n",
       "<td>8.0</td>\n",
       "<td>15.0</td>\n",
       "<td>12.0</td>\n",
       "<td>5.0</td>\n",
       "<td>40.0</td>\n",
       "<td>9.0</td>\n",
       "<td>12.0</td>\n",
       "<td>852.0</td>\n",
       "<td>13.0</td>\n",
       "<td>0.1252567</td>\n",
       "<td>122 / 974</td></tr>\n",
       "<tr><td>11.0</td>\n",
       "<td>9.0</td>\n",
       "<td>0.0</td>\n",
       "<td>6.0</td>\n",
       "<td>16.0</td>\n",
       "<td>8.0</td>\n",
       "<td>1.0</td>\n",
       "<td>49.0</td>\n",
       "<td>13.0</td>\n",
       "<td>896.0</td>\n",
       "<td>0.1119921</td>\n",
       "<td>113 / 1,009</td></tr>\n",
       "<tr><td>1013.0</td>\n",
       "<td>1149.0</td>\n",
       "<td>1071.0</td>\n",
       "<td>906.0</td>\n",
       "<td>903.0</td>\n",
       "<td>926.0</td>\n",
       "<td>949.0</td>\n",
       "<td>1064.0</td>\n",
       "<td>998.0</td>\n",
       "<td>1021.0</td>\n",
       "<td>0.0942</td>\n",
       "<td>942 / 10,000</td></tr></table></div>"
      ],
      "text/plain": [
       "0     1     2     3    4    5    6    7     8    9     Error      Rate\n",
       "----  ----  ----  ---  ---  ---  ---  ----  ---  ----  ---------  ------------\n",
       "956   0     0     3    0    11   3    3     2    2     0.0244898  24 / 980\n",
       "0     1109  13    0    0    1    4    1     7    0     0.0229075  26 / 1,135\n",
       "7     7     937   8    5    7    15   9     32   5     0.0920543  95 / 1,032\n",
       "4     2     52    838  2    56   2    13    30   11    0.170297   172 / 1,010\n",
       "2     3     13    1    859  2    12   17    13   60    0.125255   123 / 982\n",
       "11    4     3     31   7    770  14   7     40   5     0.136771   122 / 892\n",
       "12    1     14    1    4    29   889  1     7    0     0.0720251  69 / 958\n",
       "2     6     24    6    5    2    0    952   2    29    0.07393    76 / 1,028\n",
       "8     8     15    12   5    40   9    12    852  13    0.125257   122 / 974\n",
       "11    9     0     6    16   8    1    49    13   896   0.111992   113 / 1,009\n",
       "1013  1149  1071  906  903  926  949  1064  998  1021  0.0942     942 / 10,000"
      ]
     },
     "metadata": {},
     "output_type": "display_data"
    },
    {
     "name": "stdout",
     "output_type": "stream",
     "text": [
      "Top-10 Hit Ratios: \n"
     ]
    },
    {
     "data": {
      "text/html": [
       "<div style=\"overflow:auto\"><table style=\"width:50%\"><tr><td><b>k</b></td>\n",
       "<td><b>hit_ratio</b></td></tr>\n",
       "<tr><td>1</td>\n",
       "<td>0.9058</td></tr>\n",
       "<tr><td>2</td>\n",
       "<td>0.9129</td></tr>\n",
       "<tr><td>3</td>\n",
       "<td>0.9129</td></tr>\n",
       "<tr><td>4</td>\n",
       "<td>0.9129</td></tr>\n",
       "<tr><td>5</td>\n",
       "<td>0.9129</td></tr>\n",
       "<tr><td>6</td>\n",
       "<td>0.9129</td></tr>\n",
       "<tr><td>7</td>\n",
       "<td>0.9129</td></tr>\n",
       "<tr><td>8</td>\n",
       "<td>0.9129</td></tr>\n",
       "<tr><td>9</td>\n",
       "<td>0.9129</td></tr>\n",
       "<tr><td>10</td>\n",
       "<td>1.0</td></tr></table></div>"
      ],
      "text/plain": [
       "k    hit_ratio\n",
       "---  -----------\n",
       "1    0.9058\n",
       "2    0.9129\n",
       "3    0.9129\n",
       "4    0.9129\n",
       "5    0.9129\n",
       "6    0.9129\n",
       "7    0.9129\n",
       "8    0.9129\n",
       "9    0.9129\n",
       "10   1"
      ]
     },
     "metadata": {},
     "output_type": "display_data"
    },
    {
     "name": "stdout",
     "output_type": "stream",
     "text": [
      "Scoring History: \n"
     ]
    },
    {
     "data": {
      "text/html": [
       "<div style=\"overflow:auto\"><table style=\"width:50%\"><tr><td><b></b></td>\n",
       "<td><b>timestamp</b></td>\n",
       "<td><b>duration</b></td>\n",
       "<td><b>training_speed</b></td>\n",
       "<td><b>epochs</b></td>\n",
       "<td><b>iterations</b></td>\n",
       "<td><b>samples</b></td>\n",
       "<td><b>training_rmse</b></td>\n",
       "<td><b>training_logloss</b></td>\n",
       "<td><b>training_classification_error</b></td>\n",
       "<td><b>validation_rmse</b></td>\n",
       "<td><b>validation_logloss</b></td>\n",
       "<td><b>validation_classification_error</b></td></tr>\n",
       "<tr><td></td>\n",
       "<td>2017-05-09 04:12:51</td>\n",
       "<td> 0.000 sec</td>\n",
       "<td>None</td>\n",
       "<td>0.0</td>\n",
       "<td>0</td>\n",
       "<td>0.0</td>\n",
       "<td>nan</td>\n",
       "<td>nan</td>\n",
       "<td>nan</td>\n",
       "<td>nan</td>\n",
       "<td>nan</td>\n",
       "<td>nan</td></tr>\n",
       "<tr><td></td>\n",
       "<td>2017-05-09 04:12:51</td>\n",
       "<td> 0.838 sec</td>\n",
       "<td>10138 obs/sec</td>\n",
       "<td>0.0170667</td>\n",
       "<td>1</td>\n",
       "<td>1024.0</td>\n",
       "<td>0.5317293</td>\n",
       "<td>9.7624729</td>\n",
       "<td>0.2827360</td>\n",
       "<td>0.5208647</td>\n",
       "<td>9.3703700</td>\n",
       "<td>0.2713</td></tr>\n",
       "<tr><td></td>\n",
       "<td>2017-05-09 04:12:58</td>\n",
       "<td> 7.586 sec</td>\n",
       "<td>47180 obs/sec</td>\n",
       "<td>5.0688</td>\n",
       "<td>297</td>\n",
       "<td>304128.0</td>\n",
       "<td>0.3203914</td>\n",
       "<td>3.5454279</td>\n",
       "<td>0.1026507</td>\n",
       "<td>0.3200000</td>\n",
       "<td>3.5361700</td>\n",
       "<td>0.1024</td></tr>\n",
       "<tr><td></td>\n",
       "<td>2017-05-09 04:13:03</td>\n",
       "<td>12.565 sec</td>\n",
       "<td>45813 obs/sec</td>\n",
       "<td>8.448</td>\n",
       "<td>495</td>\n",
       "<td>506880.0</td>\n",
       "<td>0.3777017</td>\n",
       "<td>4.9272532</td>\n",
       "<td>0.1426586</td>\n",
       "<td>0.3764306</td>\n",
       "<td>4.8941446</td>\n",
       "<td>0.1417</td></tr>\n",
       "<tr><td></td>\n",
       "<td>2017-05-09 04:13:08</td>\n",
       "<td>17.595 sec</td>\n",
       "<td>43663 obs/sec</td>\n",
       "<td>11.4346667</td>\n",
       "<td>670</td>\n",
       "<td>686080.0</td>\n",
       "<td>0.4117793</td>\n",
       "<td>5.8564708</td>\n",
       "<td>0.1695622</td>\n",
       "<td>0.4153312</td>\n",
       "<td>5.9561915</td>\n",
       "<td>0.1725</td></tr>\n",
       "<tr><td></td>\n",
       "<td>2017-05-09 04:13:13</td>\n",
       "<td>22.626 sec</td>\n",
       "<td>42470 obs/sec</td>\n",
       "<td>14.4384</td>\n",
       "<td>846</td>\n",
       "<td>866304.0</td>\n",
       "<td>0.3934084</td>\n",
       "<td>5.3455726</td>\n",
       "<td>0.1547702</td>\n",
       "<td>0.4093898</td>\n",
       "<td>5.7886989</td>\n",
       "<td>0.1676</td></tr>\n",
       "<tr><td></td>\n",
       "<td>2017-05-09 04:13:18</td>\n",
       "<td>27.694 sec</td>\n",
       "<td>42091 obs/sec</td>\n",
       "<td>17.5957333</td>\n",
       "<td>1031</td>\n",
       "<td>1055744.0</td>\n",
       "<td>0.3109254</td>\n",
       "<td>3.3349102</td>\n",
       "<td>0.0966941</td>\n",
       "<td>0.3117691</td>\n",
       "<td>3.3571691</td>\n",
       "<td>0.0972</td></tr>\n",
       "<tr><td></td>\n",
       "<td>2017-05-09 04:13:23</td>\n",
       "<td>32.721 sec</td>\n",
       "<td>41814 obs/sec</td>\n",
       "<td>20.7189333</td>\n",
       "<td>1214</td>\n",
       "<td>1243136.0</td>\n",
       "<td>0.3160236</td>\n",
       "<td>3.4485574</td>\n",
       "<td>0.0998709</td>\n",
       "<td>0.3204684</td>\n",
       "<td>3.5471323</td>\n",
       "<td>0.1027</td></tr>\n",
       "<tr><td></td>\n",
       "<td>2017-05-09 04:13:28</td>\n",
       "<td>37.734 sec</td>\n",
       "<td>41558 obs/sec</td>\n",
       "<td>23.808</td>\n",
       "<td>1395</td>\n",
       "<td>1428480.0</td>\n",
       "<td>0.3259211</td>\n",
       "<td>3.6688663</td>\n",
       "<td>0.1062246</td>\n",
       "<td>0.3388215</td>\n",
       "<td>3.9650515</td>\n",
       "<td>0.1148</td></tr>\n",
       "<tr><td></td>\n",
       "<td>2017-05-09 04:13:33</td>\n",
       "<td>42.806 sec</td>\n",
       "<td>41392 obs/sec</td>\n",
       "<td>26.9482667</td>\n",
       "<td>1579</td>\n",
       "<td>1616896.0</td>\n",
       "<td>0.3112759</td>\n",
       "<td>3.3465547</td>\n",
       "<td>0.0968927</td>\n",
       "<td>0.3264966</td>\n",
       "<td>3.6818336</td>\n",
       "<td>0.1066</td></tr>\n",
       "<tr><td></td>\n",
       "<td>2017-05-09 04:13:38</td>\n",
       "<td>47.800 sec</td>\n",
       "<td>41390 obs/sec</td>\n",
       "<td>30.1397333</td>\n",
       "<td>1766</td>\n",
       "<td>1808384.0</td>\n",
       "<td>0.3306087</td>\n",
       "<td>3.7750102</td>\n",
       "<td>0.1093021</td>\n",
       "<td>0.3424909</td>\n",
       "<td>4.0513985</td>\n",
       "<td>0.1173</td></tr>\n",
       "<tr><td></td>\n",
       "<td>2017-05-09 04:13:43</td>\n",
       "<td>52.826 sec</td>\n",
       "<td>41324 obs/sec</td>\n",
       "<td>33.2970667</td>\n",
       "<td>1951</td>\n",
       "<td>1997824.0</td>\n",
       "<td>0.3352307</td>\n",
       "<td>3.8814549</td>\n",
       "<td>0.1123796</td>\n",
       "<td>0.3389690</td>\n",
       "<td>3.9685054</td>\n",
       "<td>0.1149</td></tr>\n",
       "<tr><td></td>\n",
       "<td>2017-05-09 04:13:48</td>\n",
       "<td>57.825 sec</td>\n",
       "<td>41204 obs/sec</td>\n",
       "<td>36.3861333</td>\n",
       "<td>2132</td>\n",
       "<td>2183168.0</td>\n",
       "<td>0.3442887</td>\n",
       "<td>4.0940436</td>\n",
       "<td>0.1185347</td>\n",
       "<td>0.3505710</td>\n",
       "<td>4.2444180</td>\n",
       "<td>0.1229</td></tr>\n",
       "<tr><td></td>\n",
       "<td>2017-05-09 04:13:53</td>\n",
       "<td> 1 min  2.888 sec</td>\n",
       "<td>41035 obs/sec</td>\n",
       "<td>39.424</td>\n",
       "<td>2310</td>\n",
       "<td>2365440.0</td>\n",
       "<td>0.3128665</td>\n",
       "<td>3.3787453</td>\n",
       "<td>0.0978854</td>\n",
       "<td>0.3215587</td>\n",
       "<td>3.5713095</td>\n",
       "<td>0.1034</td></tr>\n",
       "<tr><td></td>\n",
       "<td>2017-05-09 04:13:58</td>\n",
       "<td> 1 min  7.874 sec</td>\n",
       "<td>41008 obs/sec</td>\n",
       "<td>42.5472</td>\n",
       "<td>2493</td>\n",
       "<td>2552832.0</td>\n",
       "<td>0.3442887</td>\n",
       "<td>4.0940434</td>\n",
       "<td>0.1185347</td>\n",
       "<td>0.3522783</td>\n",
       "<td>4.2862622</td>\n",
       "<td>0.1241</td></tr>\n",
       "<tr><td></td>\n",
       "<td>2017-05-09 04:14:03</td>\n",
       "<td> 1 min 12.868 sec</td>\n",
       "<td>40856 obs/sec</td>\n",
       "<td>45.5509333</td>\n",
       "<td>2669</td>\n",
       "<td>2733056.0</td>\n",
       "<td>0.2940557</td>\n",
       "<td>2.9846791</td>\n",
       "<td>0.0864688</td>\n",
       "<td>0.3069202</td>\n",
       "<td>3.2535527</td>\n",
       "<td>0.0942</td></tr></table></div>"
      ],
      "text/plain": [
       "    timestamp            duration          training_speed    epochs     iterations    samples      training_rmse    training_logloss    training_classification_error    validation_rmse    validation_logloss    validation_classification_error\n",
       "--  -------------------  ----------------  ----------------  ---------  ------------  -----------  ---------------  ------------------  -------------------------------  -----------------  --------------------  ---------------------------------\n",
       "    2017-05-09 04:12:51  0.000 sec                           0          0             0            nan              nan                 nan                              nan                nan                   nan\n",
       "    2017-05-09 04:12:51  0.838 sec         10138 obs/sec     0.0170667  1             1024         0.531729         9.76247             0.282736                         0.520865           9.37037               0.2713\n",
       "    2017-05-09 04:12:58  7.586 sec         47180 obs/sec     5.0688     297           304128       0.320391         3.54543             0.102651                         0.32               3.53617               0.1024\n",
       "    2017-05-09 04:13:03  12.565 sec        45813 obs/sec     8.448      495           506880       0.377702         4.92725             0.142659                         0.376431           4.89414               0.1417\n",
       "    2017-05-09 04:13:08  17.595 sec        43663 obs/sec     11.4347    670           686080       0.411779         5.85647             0.169562                         0.415331           5.95619               0.1725\n",
       "    2017-05-09 04:13:13  22.626 sec        42470 obs/sec     14.4384    846           866304       0.393408         5.34557             0.15477                          0.40939            5.7887                0.1676\n",
       "    2017-05-09 04:13:18  27.694 sec        42091 obs/sec     17.5957    1031          1.05574e+06  0.310925         3.33491             0.0966941                        0.311769           3.35717               0.0972\n",
       "    2017-05-09 04:13:23  32.721 sec        41814 obs/sec     20.7189    1214          1.24314e+06  0.316024         3.44856             0.0998709                        0.320468           3.54713               0.1027\n",
       "    2017-05-09 04:13:28  37.734 sec        41558 obs/sec     23.808     1395          1.42848e+06  0.325921         3.66887             0.106225                         0.338821           3.96505               0.1148\n",
       "    2017-05-09 04:13:33  42.806 sec        41392 obs/sec     26.9483    1579          1.6169e+06   0.311276         3.34655             0.0968927                        0.326497           3.68183               0.1066\n",
       "    2017-05-09 04:13:38  47.800 sec        41390 obs/sec     30.1397    1766          1.80838e+06  0.330609         3.77501             0.109302                         0.342491           4.0514                0.1173\n",
       "    2017-05-09 04:13:43  52.826 sec        41324 obs/sec     33.2971    1951          1.99782e+06  0.335231         3.88145             0.11238                          0.338969           3.96851               0.1149\n",
       "    2017-05-09 04:13:48  57.825 sec        41204 obs/sec     36.3861    2132          2.18317e+06  0.344289         4.09404             0.118535                         0.350571           4.24442               0.1229\n",
       "    2017-05-09 04:13:53  1 min  2.888 sec  41035 obs/sec     39.424     2310          2.36544e+06  0.312866         3.37875             0.0978854                        0.321559           3.57131               0.1034\n",
       "    2017-05-09 04:13:58  1 min  7.874 sec  41008 obs/sec     42.5472    2493          2.55283e+06  0.344289         4.09404             0.118535                         0.352278           4.28626               0.1241\n",
       "    2017-05-09 04:14:03  1 min 12.868 sec  40856 obs/sec     45.5509    2669          2.73306e+06  0.294056         2.98468             0.0864688                        0.30692            3.25355               0.0942"
      ]
     },
     "metadata": {},
     "output_type": "display_data"
    }
   ],
   "source": [
    "model_mnist_mymodel_tf.show()"
   ]
  }
 ],
 "metadata": {
  "kernelspec": {
   "display_name": "Python 3",
   "language": "python",
   "name": "python3"
  },
  "language_info": {
   "codemirror_mode": {
    "name": "ipython",
    "version": 3
   },
   "file_extension": ".py",
   "mimetype": "text/x-python",
   "name": "python",
   "nbconvert_exporter": "python",
   "pygments_lexer": "ipython3",
   "version": "3.5.2"
  }
 },
 "nbformat": 4,
 "nbformat_minor": 2
}
