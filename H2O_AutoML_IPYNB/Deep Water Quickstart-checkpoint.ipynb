{
 "cells": [
  {
   "cell_type": "markdown",
   "metadata": {},
   "source": [
    "# Import Modules"
   ]
  },
  {
   "cell_type": "code",
   "execution_count": 16,
   "metadata": {
    "collapsed": true
   },
   "outputs": [],
   "source": [
    "import h2o\n",
    "import pandas\n",
    "import random\n",
    "from PIL import Image"
   ]
  },
  {
   "cell_type": "code",
   "execution_count": 17,
   "metadata": {
    "scrolled": true
   },
   "outputs": [
    {
     "name": "stdout",
     "output_type": "stream",
     "text": [
      "Populating the interactive namespace from numpy and matplotlib\n"
     ]
    },
    {
     "name": "stderr",
     "output_type": "stream",
     "text": [
      "/usr/local/lib/python3.5/dist-packages/IPython/core/magics/pylab.py:160: UserWarning: pylab import has clobbered these variables: ['random']\n",
      "`%matplotlib` prevents importing * from pylab and numpy\n",
      "  \"\\n`%matplotlib` prevents importing * from pylab and numpy\"\n"
     ]
    }
   ],
   "source": [
    "%pylab inline\n",
    "import matplotlib.pyplot as plt\n",
    "import matplotlib.image as mpimg"
   ]
  },
  {
   "cell_type": "code",
   "execution_count": 18,
   "metadata": {
    "collapsed": true
   },
   "outputs": [],
   "source": [
    "project_path = \"/gtc-2017\""
   ]
  },
  {
   "cell_type": "markdown",
   "metadata": {},
   "source": [
    "# Connect or Start H2O"
   ]
  },
  {
   "cell_type": "code",
   "execution_count": 19,
   "metadata": {},
   "outputs": [
    {
     "name": "stdout",
     "output_type": "stream",
     "text": [
      "Checking whether there is an H2O instance running at http://localhost:54321. connected.\n"
     ]
    },
    {
     "data": {
      "text/html": [
       "<div style=\"overflow:auto\"><table style=\"width:50%\"><tr><td>H2O cluster uptime:</td>\n",
       "<td>1 hour 19 mins</td></tr>\n",
       "<tr><td>H2O cluster version:</td>\n",
       "<td>3.11.0.230</td></tr>\n",
       "<tr><td>H2O cluster version age:</td>\n",
       "<td>15 hours and 5 minutes </td></tr>\n",
       "<tr><td>H2O cluster name:</td>\n",
       "<td>root</td></tr>\n",
       "<tr><td>H2O cluster total nodes:</td>\n",
       "<td>1</td></tr>\n",
       "<tr><td>H2O cluster free memory:</td>\n",
       "<td>25.76 Gb</td></tr>\n",
       "<tr><td>H2O cluster total cores:</td>\n",
       "<td>20</td></tr>\n",
       "<tr><td>H2O cluster allowed cores:</td>\n",
       "<td>20</td></tr>\n",
       "<tr><td>H2O cluster status:</td>\n",
       "<td>locked, healthy</td></tr>\n",
       "<tr><td>H2O connection url:</td>\n",
       "<td>http://localhost:54321</td></tr>\n",
       "<tr><td>H2O connection proxy:</td>\n",
       "<td>None</td></tr>\n",
       "<tr><td>H2O internal security:</td>\n",
       "<td>False</td></tr>\n",
       "<tr><td>Python version:</td>\n",
       "<td>3.5.2 final</td></tr></table></div>"
      ],
      "text/plain": [
       "--------------------------  ----------------------\n",
       "H2O cluster uptime:         1 hour 19 mins\n",
       "H2O cluster version:        3.11.0.230\n",
       "H2O cluster version age:    15 hours and 5 minutes\n",
       "H2O cluster name:           root\n",
       "H2O cluster total nodes:    1\n",
       "H2O cluster free memory:    25.76 Gb\n",
       "H2O cluster total cores:    20\n",
       "H2O cluster allowed cores:  20\n",
       "H2O cluster status:         locked, healthy\n",
       "H2O connection url:         http://localhost:54321\n",
       "H2O connection proxy:\n",
       "H2O internal security:      False\n",
       "Python version:             3.5.2 final\n",
       "--------------------------  ----------------------"
      ]
     },
     "metadata": {},
     "output_type": "display_data"
    }
   ],
   "source": [
    "h2o.init()"
   ]
  },
  {
   "cell_type": "markdown",
   "metadata": {},
   "source": [
    "# Import Data"
   ]
  },
  {
   "cell_type": "markdown",
   "metadata": {},
   "source": [
    "Import data into H2O."
   ]
  },
  {
   "cell_type": "code",
   "execution_count": 20,
   "metadata": {
    "scrolled": true
   },
   "outputs": [
    {
     "name": "stdout",
     "output_type": "stream",
     "text": [
      "Parse progress: |█████████████████████████████████████████████████████████| 100%\n",
      "Parse progress: |█████████████████████████████████████████████████████████| 100%\n"
     ]
    }
   ],
   "source": [
    "mnist_training = h2o.import_file(project_path+\"/data/mnist-training.csv\")\n",
    "mnist_testing = h2o.import_file(project_path+\"/data/mnist-testing.csv\")"
   ]
  },
  {
   "cell_type": "markdown",
   "metadata": {},
   "source": [
    "Change the \"label\" column to a factor (i.e. categorical feature)."
   ]
  },
  {
   "cell_type": "code",
   "execution_count": 21,
   "metadata": {
    "collapsed": true
   },
   "outputs": [],
   "source": [
    "mnist_training[\"label\"] = mnist_training[\"label\"].asfactor()\n",
    "mnist_testing[\"label\"] = mnist_testing[\"label\"].asfactor()"
   ]
  },
  {
   "cell_type": "markdown",
   "metadata": {},
   "source": [
    "# Explore Data"
   ]
  },
  {
   "cell_type": "code",
   "execution_count": 22,
   "metadata": {
    "scrolled": true
   },
   "outputs": [
    {
     "data": {
      "text/html": [
       "<table>\n",
       "<thead>\n",
       "<tr><th>uri                                          </th><th style=\"text-align: right;\">  label</th></tr>\n",
       "</thead>\n",
       "<tbody>\n",
       "<tr><td>/gtc-2017/data/mnist_png/training/6/6453.png </td><td style=\"text-align: right;\">      6</td></tr>\n",
       "<tr><td>/gtc-2017/data/mnist_png/training/6/13970.png</td><td style=\"text-align: right;\">      6</td></tr>\n",
       "<tr><td>/gtc-2017/data/mnist_png/training/6/21967.png</td><td style=\"text-align: right;\">      6</td></tr>\n",
       "<tr><td>/gtc-2017/data/mnist_png/training/6/11277.png</td><td style=\"text-align: right;\">      6</td></tr>\n",
       "<tr><td>/gtc-2017/data/mnist_png/training/6/27350.png</td><td style=\"text-align: right;\">      6</td></tr>\n",
       "<tr><td>/gtc-2017/data/mnist_png/training/6/32119.png</td><td style=\"text-align: right;\">      6</td></tr>\n",
       "<tr><td>/gtc-2017/data/mnist_png/training/6/44201.png</td><td style=\"text-align: right;\">      6</td></tr>\n",
       "<tr><td>/gtc-2017/data/mnist_png/training/6/58770.png</td><td style=\"text-align: right;\">      6</td></tr>\n",
       "<tr><td>/gtc-2017/data/mnist_png/training/6/39440.png</td><td style=\"text-align: right;\">      6</td></tr>\n",
       "<tr><td>/gtc-2017/data/mnist_png/training/6/41988.png</td><td style=\"text-align: right;\">      6</td></tr>\n",
       "</tbody>\n",
       "</table>"
      ]
     },
     "metadata": {},
     "output_type": "display_data"
    },
    {
     "data": {
      "text/plain": []
     },
     "execution_count": 22,
     "metadata": {},
     "output_type": "execute_result"
    }
   ],
   "source": [
    "mnist_training.head()"
   ]
  },
  {
   "cell_type": "markdown",
   "metadata": {},
   "source": [
    "Let's view a sample fo the images."
   ]
  },
  {
   "cell_type": "code",
   "execution_count": 23,
   "metadata": {
    "collapsed": true
   },
   "outputs": [],
   "source": [
    "pd_mnist_training = mnist_training.as_data_frame()\n",
    "list_image_uris = pd_mnist_training[\"uri\"].tolist()"
   ]
  },
  {
   "cell_type": "code",
   "execution_count": 9,
   "metadata": {
    "scrolled": true
   },
   "outputs": [
    {
     "data": {
      "image/png": "[encoded data removed]",
      "text/plain": [
       "<matplotlib.figure.Figure at 0x7f05b51487f0>"
      ]
     },
     "metadata": {},
     "output_type": "display_data"
    },
    {
     "data": {
      "image/png": "[encoded data removed]",
      "text/plain": [
       "<matplotlib.figure.Figure at 0x7f058d8dd128>"
      ]
     },
     "metadata": {},
     "output_type": "display_data"
    },
    {
     "data": {
      "image/png": "[encoded data removed]",
      "text/plain": [
       "<matplotlib.figure.Figure at 0x7f058d851cc0>"
      ]
     },
     "metadata": {},
     "output_type": "display_data"
    },
    {
     "data": {
      "image/png": "[encoded data removed]",
      "text/plain": [
       "<matplotlib.figure.Figure at 0x7f058d90ee48>"
      ]
     },
     "metadata": {},
     "output_type": "display_data"
    },
    {
     "data": {
      "image/png": "[encoded data removed]",
      "text/plain": [
       "<matplotlib.figure.Figure at 0x7f058d895d68>"
      ]
     },
     "metadata": {},
     "output_type": "display_data"
    },
    {
     "data": {
      "image/png": "[encoded data removed]",
      "text/plain": [
       "<matplotlib.figure.Figure at 0x7f058d9c5e10>"
      ]
     },
     "metadata": {},
     "output_type": "display_data"
    },
    {
     "data": {
      "image/png": "[encoded data removed]",
      "text/plain": [
       "<matplotlib.figure.Figure at 0x7f058d710d30>"
      ]
     },
     "metadata": {},
     "output_type": "display_data"
    },
    {
     "data": {
      "image/png": "[encoded data removed]",
      "text/plain": [
       "<matplotlib.figure.Figure at 0x7f058ecc5a90>"
      ]
     },
     "metadata": {},
     "output_type": "display_data"
    },
    {
     "data": {
      "image/png": "[encoded data removed]",
      "text/plain": [
       "<matplotlib.figure.Figure at 0x7f058d83ef98>"
      ]
     },
     "metadata": {},
     "output_type": "display_data"
    },
    {
     "data": {
      "image/png": "[encoded data removed]",
      "text/plain": [
       "<matplotlib.figure.Figure at 0x7f058d7a2cc0>"
      ]
     },
     "metadata": {},
     "output_type": "display_data"
    }
   ],
   "source": [
    "num_sample_images = 10\n",
    "\n",
    "for x in range(num_sample_images):\n",
    "    uri = random.choice(list_image_uris)\n",
    "    img=mpimg.imread(uri)\n",
    "    imgplot = plt.imshow(img, cmap=\"Greys\")\n",
    "    plt.show()"
   ]
  },
  {
   "cell_type": "markdown",
   "metadata": {},
   "source": [
    "# Test GPU Driver"
   ]
  },
  {
   "cell_type": "code",
   "execution_count": 10,
   "metadata": {
    "scrolled": true
   },
   "outputs": [
    {
     "name": "stdout",
     "output_type": "stream",
     "text": [
      "Tue May  9 04:27:45 2017       \r\n",
      "+-----------------------------------------------------------------------------+\r\n",
      "| NVIDIA-SMI 378.13                 Driver Version: 378.13                    |\r\n",
      "|-------------------------------+----------------------+----------------------+\r\n",
      "| GPU  Name        Persistence-M| Bus-Id        Disp.A | Volatile Uncorr. ECC |\r\n",
      "| Fan  Temp  Perf  Pwr:Usage/Cap|         Memory-Usage | GPU-Util  Compute M. |\r\n",
      "|===============================+======================+======================|\r\n",
      "|   0  GeForce GTX 1080    Off  | 0000:02:00.0      On |                  N/A |\r\n",
      "| 27%   34C    P8    11W / 180W |   4784MiB /  8112MiB |      3%      Default |\r\n",
      "+-------------------------------+----------------------+----------------------+\r\n",
      "                                                                               \r\n",
      "+-----------------------------------------------------------------------------+\r\n",
      "| Processes:                                                       GPU Memory |\r\n",
      "|  GPU       PID  Type  Process name                               Usage      |\r\n",
      "|=============================================================================|\r\n",
      "+-----------------------------------------------------------------------------+\r\n"
     ]
    }
   ],
   "source": [
    "!nvidia-smi"
   ]
  },
  {
   "cell_type": "markdown",
   "metadata": {},
   "source": [
    "# Build Deep Water MXNet Model"
   ]
  },
  {
   "cell_type": "markdown",
   "metadata": {},
   "source": [
    "The MXNet backend is the default, so if no backend is explicitly set, MXNet will be used."
   ]
  },
  {
   "cell_type": "code",
   "execution_count": 24,
   "metadata": {},
   "outputs": [
    {
     "name": "stdout",
     "output_type": "stream",
     "text": [
      "deepwater Model Build progress: |█████████████████████████████████████████| 100%\n"
     ]
    }
   ],
   "source": [
    "from h2o.estimators.deepwater import H2ODeepWaterEstimator\n",
    "model_mnist_lenet_mx = H2ODeepWaterEstimator(epochs=80, network=\"lenet\")\n",
    "model_mnist_lenet_mx.train(x=[\"uri\"], y=\"label\",\n",
    "                           training_frame=mnist_training,\n",
    "                           validation_frame=mnist_testing,\n",
    "                           model_id=\"model_mnist_lenet_mx\")"
   ]
  },
  {
   "cell_type": "code",
   "execution_count": 12,
   "metadata": {
    "scrolled": false
   },
   "outputs": [
    {
     "name": "stdout",
     "output_type": "stream",
     "text": [
      "Model Details\n",
      "=============\n",
      "H2ODeepWaterEstimator :  Deep Water\n",
      "Model Key:  model_mnist_lenet_mx\n",
      "\n",
      "\n",
      "ModelMetricsMultinomial: deepwater\n",
      "** Reported on train data. **\n",
      "\n",
      "MSE: 0.0009472463034723156\n",
      "RMSE: 0.03077736674038758\n",
      "LogLoss: 0.00464757003564893\n",
      "Mean Per-Class Error: 0.0008820068615183107\n",
      "Confusion Matrix: vertical: actual; across: predicted\n",
      "\n"
     ]
    },
    {
     "data": {
      "text/html": [
       "<div style=\"overflow:auto\"><table style=\"width:50%\"><tr><td><b>0</b></td>\n",
       "<td><b>1</b></td>\n",
       "<td><b>2</b></td>\n",
       "<td><b>3</b></td>\n",
       "<td><b>4</b></td>\n",
       "<td><b>5</b></td>\n",
       "<td><b>6</b></td>\n",
       "<td><b>7</b></td>\n",
       "<td><b>8</b></td>\n",
       "<td><b>9</b></td>\n",
       "<td><b>Error</b></td>\n",
       "<td><b>Rate</b></td></tr>\n",
       "<tr><td>933.0</td>\n",
       "<td>0.0</td>\n",
       "<td>0.0</td>\n",
       "<td>0.0</td>\n",
       "<td>0.0</td>\n",
       "<td>0.0</td>\n",
       "<td>0.0</td>\n",
       "<td>0.0</td>\n",
       "<td>0.0</td>\n",
       "<td>0.0</td>\n",
       "<td>0.0</td>\n",
       "<td>0 / 933</td></tr>\n",
       "<tr><td>0.0</td>\n",
       "<td>1128.0</td>\n",
       "<td>0.0</td>\n",
       "<td>0.0</td>\n",
       "<td>1.0</td>\n",
       "<td>0.0</td>\n",
       "<td>1.0</td>\n",
       "<td>0.0</td>\n",
       "<td>0.0</td>\n",
       "<td>0.0</td>\n",
       "<td>0.0017699</td>\n",
       "<td>2 / 1,130</td></tr>\n",
       "<tr><td>0.0</td>\n",
       "<td>0.0</td>\n",
       "<td>1024.0</td>\n",
       "<td>0.0</td>\n",
       "<td>0.0</td>\n",
       "<td>0.0</td>\n",
       "<td>0.0</td>\n",
       "<td>0.0</td>\n",
       "<td>0.0</td>\n",
       "<td>0.0</td>\n",
       "<td>0.0</td>\n",
       "<td>0 / 1,024</td></tr>\n",
       "<tr><td>0.0</td>\n",
       "<td>0.0</td>\n",
       "<td>0.0</td>\n",
       "<td>1008.0</td>\n",
       "<td>0.0</td>\n",
       "<td>4.0</td>\n",
       "<td>0.0</td>\n",
       "<td>0.0</td>\n",
       "<td>0.0</td>\n",
       "<td>0.0</td>\n",
       "<td>0.0039526</td>\n",
       "<td>4 / 1,012</td></tr>\n",
       "<tr><td>0.0</td>\n",
       "<td>0.0</td>\n",
       "<td>0.0</td>\n",
       "<td>0.0</td>\n",
       "<td>994.0</td>\n",
       "<td>0.0</td>\n",
       "<td>0.0</td>\n",
       "<td>1.0</td>\n",
       "<td>0.0</td>\n",
       "<td>0.0</td>\n",
       "<td>0.0010050</td>\n",
       "<td>1 / 995</td></tr>\n",
       "<tr><td>0.0</td>\n",
       "<td>0.0</td>\n",
       "<td>0.0</td>\n",
       "<td>0.0</td>\n",
       "<td>0.0</td>\n",
       "<td>929.0</td>\n",
       "<td>1.0</td>\n",
       "<td>0.0</td>\n",
       "<td>0.0</td>\n",
       "<td>0.0</td>\n",
       "<td>0.0010753</td>\n",
       "<td>1 / 930</td></tr>\n",
       "<tr><td>0.0</td>\n",
       "<td>0.0</td>\n",
       "<td>0.0</td>\n",
       "<td>0.0</td>\n",
       "<td>0.0</td>\n",
       "<td>0.0</td>\n",
       "<td>974.0</td>\n",
       "<td>0.0</td>\n",
       "<td>0.0</td>\n",
       "<td>0.0</td>\n",
       "<td>0.0</td>\n",
       "<td>0 / 974</td></tr>\n",
       "<tr><td>0.0</td>\n",
       "<td>0.0</td>\n",
       "<td>0.0</td>\n",
       "<td>0.0</td>\n",
       "<td>0.0</td>\n",
       "<td>0.0</td>\n",
       "<td>0.0</td>\n",
       "<td>1015.0</td>\n",
       "<td>0.0</td>\n",
       "<td>0.0</td>\n",
       "<td>0.0</td>\n",
       "<td>0 / 1,015</td></tr>\n",
       "<tr><td>0.0</td>\n",
       "<td>0.0</td>\n",
       "<td>0.0</td>\n",
       "<td>0.0</td>\n",
       "<td>0.0</td>\n",
       "<td>0.0</td>\n",
       "<td>0.0</td>\n",
       "<td>0.0</td>\n",
       "<td>1013.0</td>\n",
       "<td>0.0</td>\n",
       "<td>0.0</td>\n",
       "<td>0 / 1,013</td></tr>\n",
       "<tr><td>0.0</td>\n",
       "<td>0.0</td>\n",
       "<td>0.0</td>\n",
       "<td>0.0</td>\n",
       "<td>1.0</td>\n",
       "<td>0.0</td>\n",
       "<td>0.0</td>\n",
       "<td>0.0</td>\n",
       "<td>0.0</td>\n",
       "<td>982.0</td>\n",
       "<td>0.0010173</td>\n",
       "<td>1 / 983</td></tr>\n",
       "<tr><td>933.0</td>\n",
       "<td>1128.0</td>\n",
       "<td>1024.0</td>\n",
       "<td>1008.0</td>\n",
       "<td>996.0</td>\n",
       "<td>933.0</td>\n",
       "<td>976.0</td>\n",
       "<td>1016.0</td>\n",
       "<td>1013.0</td>\n",
       "<td>982.0</td>\n",
       "<td>0.0008992</td>\n",
       "<td>9 / 10,009</td></tr></table></div>"
      ],
      "text/plain": [
       "0    1     2     3     4    5    6    7     8     9    Error        Rate\n",
       "---  ----  ----  ----  ---  ---  ---  ----  ----  ---  -----------  ----------\n",
       "933  0     0     0     0    0    0    0     0     0    0            0 / 933\n",
       "0    1128  0     0     1    0    1    0     0     0    0.00176991   2 / 1,130\n",
       "0    0     1024  0     0    0    0    0     0     0    0            0 / 1,024\n",
       "0    0     0     1008  0    4    0    0     0     0    0.00395257   4 / 1,012\n",
       "0    0     0     0     994  0    0    1     0     0    0.00100503   1 / 995\n",
       "0    0     0     0     0    929  1    0     0     0    0.00107527   1 / 930\n",
       "0    0     0     0     0    0    974  0     0     0    0            0 / 974\n",
       "0    0     0     0     0    0    0    1015  0     0    0            0 / 1,015\n",
       "0    0     0     0     0    0    0    0     1013  0    0            0 / 1,013\n",
       "0    0     0     0     1    0    0    0     0     982  0.00101729   1 / 983\n",
       "933  1128  1024  1008  996  933  976  1016  1013  982  0.000899191  9 / 10,009"
      ]
     },
     "metadata": {},
     "output_type": "display_data"
    },
    {
     "name": "stdout",
     "output_type": "stream",
     "text": [
      "Top-10 Hit Ratios: \n"
     ]
    },
    {
     "data": {
      "text/html": [
       "<div style=\"overflow:auto\"><table style=\"width:50%\"><tr><td><b>k</b></td>\n",
       "<td><b>hit_ratio</b></td></tr>\n",
       "<tr><td>1</td>\n",
       "<td>0.9991008</td></tr>\n",
       "<tr><td>2</td>\n",
       "<td>1.0</td></tr>\n",
       "<tr><td>3</td>\n",
       "<td>1.0</td></tr>\n",
       "<tr><td>4</td>\n",
       "<td>1.0</td></tr>\n",
       "<tr><td>5</td>\n",
       "<td>1.0</td></tr>\n",
       "<tr><td>6</td>\n",
       "<td>1.0</td></tr>\n",
       "<tr><td>7</td>\n",
       "<td>1.0</td></tr>\n",
       "<tr><td>8</td>\n",
       "<td>1.0</td></tr>\n",
       "<tr><td>9</td>\n",
       "<td>1.0</td></tr>\n",
       "<tr><td>10</td>\n",
       "<td>1.0</td></tr></table></div>"
      ],
      "text/plain": [
       "k    hit_ratio\n",
       "---  -----------\n",
       "1    0.999101\n",
       "2    1\n",
       "3    1\n",
       "4    1\n",
       "5    1\n",
       "6    1\n",
       "7    1\n",
       "8    1\n",
       "9    1\n",
       "10   1"
      ]
     },
     "metadata": {},
     "output_type": "display_data"
    },
    {
     "name": "stdout",
     "output_type": "stream",
     "text": [
      "\n",
      "ModelMetricsMultinomial: deepwater\n",
      "** Reported on validation data. **\n",
      "\n",
      "MSE: 0.009451572661231106\n",
      "RMSE: 0.09721919903615286\n",
      "LogLoss: 0.04867654975142493\n",
      "Mean Per-Class Error: 0.011366631859032549\n",
      "Confusion Matrix: vertical: actual; across: predicted\n",
      "\n"
     ]
    },
    {
     "data": {
      "text/html": [
       "<div style=\"overflow:auto\"><table style=\"width:50%\"><tr><td><b>0</b></td>\n",
       "<td><b>1</b></td>\n",
       "<td><b>2</b></td>\n",
       "<td><b>3</b></td>\n",
       "<td><b>4</b></td>\n",
       "<td><b>5</b></td>\n",
       "<td><b>6</b></td>\n",
       "<td><b>7</b></td>\n",
       "<td><b>8</b></td>\n",
       "<td><b>9</b></td>\n",
       "<td><b>Error</b></td>\n",
       "<td><b>Rate</b></td></tr>\n",
       "<tr><td>974.0</td>\n",
       "<td>0.0</td>\n",
       "<td>2.0</td>\n",
       "<td>0.0</td>\n",
       "<td>0.0</td>\n",
       "<td>0.0</td>\n",
       "<td>3.0</td>\n",
       "<td>1.0</td>\n",
       "<td>0.0</td>\n",
       "<td>0.0</td>\n",
       "<td>0.0061224</td>\n",
       "<td>6 / 980</td></tr>\n",
       "<tr><td>1.0</td>\n",
       "<td>1128.0</td>\n",
       "<td>0.0</td>\n",
       "<td>2.0</td>\n",
       "<td>1.0</td>\n",
       "<td>0.0</td>\n",
       "<td>2.0</td>\n",
       "<td>1.0</td>\n",
       "<td>0.0</td>\n",
       "<td>0.0</td>\n",
       "<td>0.0061674</td>\n",
       "<td>7 / 1,135</td></tr>\n",
       "<tr><td>1.0</td>\n",
       "<td>0.0</td>\n",
       "<td>1024.0</td>\n",
       "<td>0.0</td>\n",
       "<td>0.0</td>\n",
       "<td>0.0</td>\n",
       "<td>0.0</td>\n",
       "<td>6.0</td>\n",
       "<td>1.0</td>\n",
       "<td>0.0</td>\n",
       "<td>0.0077519</td>\n",
       "<td>8 / 1,032</td></tr>\n",
       "<tr><td>0.0</td>\n",
       "<td>0.0</td>\n",
       "<td>1.0</td>\n",
       "<td>993.0</td>\n",
       "<td>0.0</td>\n",
       "<td>9.0</td>\n",
       "<td>0.0</td>\n",
       "<td>3.0</td>\n",
       "<td>2.0</td>\n",
       "<td>2.0</td>\n",
       "<td>0.0168317</td>\n",
       "<td>17 / 1,010</td></tr>\n",
       "<tr><td>0.0</td>\n",
       "<td>0.0</td>\n",
       "<td>0.0</td>\n",
       "<td>0.0</td>\n",
       "<td>974.0</td>\n",
       "<td>0.0</td>\n",
       "<td>2.0</td>\n",
       "<td>0.0</td>\n",
       "<td>1.0</td>\n",
       "<td>5.0</td>\n",
       "<td>0.0081466</td>\n",
       "<td>8 / 982</td></tr>\n",
       "<tr><td>1.0</td>\n",
       "<td>0.0</td>\n",
       "<td>0.0</td>\n",
       "<td>4.0</td>\n",
       "<td>0.0</td>\n",
       "<td>879.0</td>\n",
       "<td>2.0</td>\n",
       "<td>1.0</td>\n",
       "<td>3.0</td>\n",
       "<td>2.0</td>\n",
       "<td>0.0145740</td>\n",
       "<td>13 / 892</td></tr>\n",
       "<tr><td>3.0</td>\n",
       "<td>2.0</td>\n",
       "<td>0.0</td>\n",
       "<td>1.0</td>\n",
       "<td>1.0</td>\n",
       "<td>1.0</td>\n",
       "<td>947.0</td>\n",
       "<td>0.0</td>\n",
       "<td>2.0</td>\n",
       "<td>1.0</td>\n",
       "<td>0.0114823</td>\n",
       "<td>11 / 958</td></tr>\n",
       "<tr><td>0.0</td>\n",
       "<td>2.0</td>\n",
       "<td>5.0</td>\n",
       "<td>1.0</td>\n",
       "<td>0.0</td>\n",
       "<td>0.0</td>\n",
       "<td>0.0</td>\n",
       "<td>1011.0</td>\n",
       "<td>3.0</td>\n",
       "<td>6.0</td>\n",
       "<td>0.0165370</td>\n",
       "<td>17 / 1,028</td></tr>\n",
       "<tr><td>1.0</td>\n",
       "<td>0.0</td>\n",
       "<td>0.0</td>\n",
       "<td>0.0</td>\n",
       "<td>2.0</td>\n",
       "<td>1.0</td>\n",
       "<td>2.0</td>\n",
       "<td>0.0</td>\n",
       "<td>966.0</td>\n",
       "<td>2.0</td>\n",
       "<td>0.0082136</td>\n",
       "<td>8 / 974</td></tr>\n",
       "<tr><td>0.0</td>\n",
       "<td>2.0</td>\n",
       "<td>0.0</td>\n",
       "<td>1.0</td>\n",
       "<td>7.0</td>\n",
       "<td>3.0</td>\n",
       "<td>0.0</td>\n",
       "<td>0.0</td>\n",
       "<td>5.0</td>\n",
       "<td>991.0</td>\n",
       "<td>0.0178394</td>\n",
       "<td>18 / 1,009</td></tr>\n",
       "<tr><td>981.0</td>\n",
       "<td>1134.0</td>\n",
       "<td>1032.0</td>\n",
       "<td>1002.0</td>\n",
       "<td>985.0</td>\n",
       "<td>893.0</td>\n",
       "<td>958.0</td>\n",
       "<td>1023.0</td>\n",
       "<td>983.0</td>\n",
       "<td>1009.0</td>\n",
       "<td>0.0113</td>\n",
       "<td>113 / 10,000</td></tr></table></div>"
      ],
      "text/plain": [
       "0    1     2     3     4    5    6    7     8    9     Error       Rate\n",
       "---  ----  ----  ----  ---  ---  ---  ----  ---  ----  ----------  ------------\n",
       "974  0     2     0     0    0    3    1     0    0     0.00612245  6 / 980\n",
       "1    1128  0     2     1    0    2    1     0    0     0.0061674   7 / 1,135\n",
       "1    0     1024  0     0    0    0    6     1    0     0.00775194  8 / 1,032\n",
       "0    0     1     993   0    9    0    3     2    2     0.0168317   17 / 1,010\n",
       "0    0     0     0     974  0    2    0     1    5     0.00814664  8 / 982\n",
       "1    0     0     4     0    879  2    1     3    2     0.014574    13 / 892\n",
       "3    2     0     1     1    1    947  0     2    1     0.0114823   11 / 958\n",
       "0    2     5     1     0    0    0    1011  3    6     0.016537    17 / 1,028\n",
       "1    0     0     0     2    1    2    0     966  2     0.00821355  8 / 974\n",
       "0    2     0     1     7    3    0    0     5    991   0.0178394   18 / 1,009\n",
       "981  1134  1032  1002  985  893  958  1023  983  1009  0.0113      113 / 10,000"
      ]
     },
     "metadata": {},
     "output_type": "display_data"
    },
    {
     "name": "stdout",
     "output_type": "stream",
     "text": [
      "Top-10 Hit Ratios: \n"
     ]
    },
    {
     "data": {
      "text/html": [
       "<div style=\"overflow:auto\"><table style=\"width:50%\"><tr><td><b>k</b></td>\n",
       "<td><b>hit_ratio</b></td></tr>\n",
       "<tr><td>1</td>\n",
       "<td>0.9887</td></tr>\n",
       "<tr><td>2</td>\n",
       "<td>0.9977</td></tr>\n",
       "<tr><td>3</td>\n",
       "<td>0.9995</td></tr>\n",
       "<tr><td>4</td>\n",
       "<td>0.9997000</td></tr>\n",
       "<tr><td>5</td>\n",
       "<td>0.9998000</td></tr>\n",
       "<tr><td>6</td>\n",
       "<td>0.9999999</td></tr>\n",
       "<tr><td>7</td>\n",
       "<td>0.9999999</td></tr>\n",
       "<tr><td>8</td>\n",
       "<td>0.9999999</td></tr>\n",
       "<tr><td>9</td>\n",
       "<td>0.9999999</td></tr>\n",
       "<tr><td>10</td>\n",
       "<td>0.9999999</td></tr></table></div>"
      ],
      "text/plain": [
       "k    hit_ratio\n",
       "---  -----------\n",
       "1    0.9887\n",
       "2    0.9977\n",
       "3    0.9995\n",
       "4    0.9997\n",
       "5    0.9998\n",
       "6    1\n",
       "7    1\n",
       "8    1\n",
       "9    1\n",
       "10   1"
      ]
     },
     "metadata": {},
     "output_type": "display_data"
    },
    {
     "name": "stdout",
     "output_type": "stream",
     "text": [
      "Scoring History: \n"
     ]
    },
    {
     "data": {
      "text/html": [
       "<div style=\"overflow:auto\"><table style=\"width:50%\"><tr><td><b></b></td>\n",
       "<td><b>timestamp</b></td>\n",
       "<td><b>duration</b></td>\n",
       "<td><b>training_speed</b></td>\n",
       "<td><b>epochs</b></td>\n",
       "<td><b>iterations</b></td>\n",
       "<td><b>samples</b></td>\n",
       "<td><b>training_rmse</b></td>\n",
       "<td><b>training_logloss</b></td>\n",
       "<td><b>training_classification_error</b></td>\n",
       "<td><b>validation_rmse</b></td>\n",
       "<td><b>validation_logloss</b></td>\n",
       "<td><b>validation_classification_error</b></td></tr>\n",
       "<tr><td></td>\n",
       "<td>2017-05-09 04:27:45</td>\n",
       "<td> 0.000 sec</td>\n",
       "<td>None</td>\n",
       "<td>0.0</td>\n",
       "<td>0</td>\n",
       "<td>0.0</td>\n",
       "<td>nan</td>\n",
       "<td>nan</td>\n",
       "<td>nan</td>\n",
       "<td>nan</td>\n",
       "<td>nan</td>\n",
       "<td>nan</td></tr>\n",
       "<tr><td></td>\n",
       "<td>2017-05-09 04:27:45</td>\n",
       "<td> 0.895 sec</td>\n",
       "<td>11636 obs/sec</td>\n",
       "<td>0.0170667</td>\n",
       "<td>1</td>\n",
       "<td>1024.0</td>\n",
       "<td>0.4736593</td>\n",
       "<td>1.7914402</td>\n",
       "<td>0.2463783</td>\n",
       "<td>0.4697706</td>\n",
       "<td>1.7736782</td>\n",
       "<td>0.2452</td></tr>\n",
       "<tr><td></td>\n",
       "<td>2017-05-09 04:27:53</td>\n",
       "<td> 8.463 sec</td>\n",
       "<td>18270 obs/sec</td>\n",
       "<td>2.1845333</td>\n",
       "<td>128</td>\n",
       "<td>131072.0</td>\n",
       "<td>0.0926150</td>\n",
       "<td>0.0386218</td>\n",
       "<td>0.0110900</td>\n",
       "<td>0.1266856</td>\n",
       "<td>0.0700052</td>\n",
       "<td>0.0194</td></tr>\n",
       "<tr><td></td>\n",
       "<td>2017-05-09 04:27:58</td>\n",
       "<td>13.437 sec</td>\n",
       "<td>18341 obs/sec</td>\n",
       "<td>3.584</td>\n",
       "<td>210</td>\n",
       "<td>215040.0</td>\n",
       "<td>0.0831750</td>\n",
       "<td>0.0308378</td>\n",
       "<td>0.0083924</td>\n",
       "<td>0.1161430</td>\n",
       "<td>0.0672313</td>\n",
       "<td>0.0161</td></tr>\n",
       "<tr><td></td>\n",
       "<td>2017-05-09 04:28:03</td>\n",
       "<td>18.602 sec</td>\n",
       "<td>18004 obs/sec</td>\n",
       "<td>4.9152</td>\n",
       "<td>288</td>\n",
       "<td>294912.0</td>\n",
       "<td>0.0498900</td>\n",
       "<td>0.0105153</td>\n",
       "<td>0.0031971</td>\n",
       "<td>0.1076549</td>\n",
       "<td>0.0551120</td>\n",
       "<td>0.0142</td></tr>\n",
       "<tr><td></td>\n",
       "<td>2017-05-09 04:28:08</td>\n",
       "<td>23.683 sec</td>\n",
       "<td>17694 obs/sec</td>\n",
       "<td>6.1952</td>\n",
       "<td>363</td>\n",
       "<td>371712.0</td>\n",
       "<td>0.0383263</td>\n",
       "<td>0.0071765</td>\n",
       "<td>0.0018983</td>\n",
       "<td>0.0993615</td>\n",
       "<td>0.0511327</td>\n",
       "<td>0.0117</td></tr>\n",
       "<tr><td></td>\n",
       "<td>2017-05-09 04:28:13</td>\n",
       "<td>28.721 sec</td>\n",
       "<td>17374 obs/sec</td>\n",
       "<td>7.4069333</td>\n",
       "<td>434</td>\n",
       "<td>444416.0</td>\n",
       "<td>0.0307774</td>\n",
       "<td>0.0046476</td>\n",
       "<td>0.0008992</td>\n",
       "<td>0.0972192</td>\n",
       "<td>0.0486765</td>\n",
       "<td>0.0113</td></tr>\n",
       "<tr><td></td>\n",
       "<td>2017-05-09 04:28:19</td>\n",
       "<td>33.809 sec</td>\n",
       "<td>17153 obs/sec</td>\n",
       "<td>8.6186667</td>\n",
       "<td>505</td>\n",
       "<td>517120.0</td>\n",
       "<td>0.0145683</td>\n",
       "<td>0.0009591</td>\n",
       "<td>0.0001998</td>\n",
       "<td>0.0992103</td>\n",
       "<td>0.0504551</td>\n",
       "<td>0.0121</td></tr>\n",
       "<tr><td></td>\n",
       "<td>2017-05-09 04:28:24</td>\n",
       "<td>39.041 sec</td>\n",
       "<td>16979 obs/sec</td>\n",
       "<td>9.8645333</td>\n",
       "<td>578</td>\n",
       "<td>591872.0</td>\n",
       "<td>0.0095443</td>\n",
       "<td>0.0004391</td>\n",
       "<td>0.0000999</td>\n",
       "<td>0.0963126</td>\n",
       "<td>0.0529568</td>\n",
       "<td>0.011</td></tr>\n",
       "<tr><td></td>\n",
       "<td>2017-05-09 04:28:29</td>\n",
       "<td>44.317 sec</td>\n",
       "<td>16902 obs/sec</td>\n",
       "<td>11.1616</td>\n",
       "<td>654</td>\n",
       "<td>669696.0</td>\n",
       "<td>0.0048307</td>\n",
       "<td>0.0001807</td>\n",
       "<td>0.0</td>\n",
       "<td>0.0952988</td>\n",
       "<td>0.0576076</td>\n",
       "<td>0.0108</td></tr>\n",
       "<tr><td></td>\n",
       "<td>2017-05-09 04:28:34</td>\n",
       "<td>49.451 sec</td>\n",
       "<td>16845 obs/sec</td>\n",
       "<td>12.4245333</td>\n",
       "<td>728</td>\n",
       "<td>745472.0</td>\n",
       "<td>0.0016364</td>\n",
       "<td>0.0000831</td>\n",
       "<td>0.0</td>\n",
       "<td>0.0945814</td>\n",
       "<td>0.0558459</td>\n",
       "<td>0.0099</td></tr>\n",
       "<tr><td></td>\n",
       "<td>2017-05-09 04:28:39</td>\n",
       "<td>54.488 sec</td>\n",
       "<td>16782 obs/sec</td>\n",
       "<td>13.6533333</td>\n",
       "<td>800</td>\n",
       "<td>819200.0</td>\n",
       "<td>0.0010228</td>\n",
       "<td>0.0000594</td>\n",
       "<td>0.0</td>\n",
       "<td>0.0947145</td>\n",
       "<td>0.0565735</td>\n",
       "<td>0.0101</td></tr>\n",
       "<tr><td></td>\n",
       "<td>2017-05-09 04:28:44</td>\n",
       "<td>59.534 sec</td>\n",
       "<td>16741 obs/sec</td>\n",
       "<td>14.8992</td>\n",
       "<td>873</td>\n",
       "<td>893952.0</td>\n",
       "<td>0.0005048</td>\n",
       "<td>0.0000402</td>\n",
       "<td>0.0</td>\n",
       "<td>0.0949931</td>\n",
       "<td>0.0569137</td>\n",
       "<td>0.0101</td></tr>\n",
       "<tr><td></td>\n",
       "<td>2017-05-09 04:28:49</td>\n",
       "<td> 1 min  4.640 sec</td>\n",
       "<td>16679 obs/sec</td>\n",
       "<td>16.128</td>\n",
       "<td>945</td>\n",
       "<td>967680.0</td>\n",
       "<td>0.0003969</td>\n",
       "<td>0.0000346</td>\n",
       "<td>0.0</td>\n",
       "<td>0.0948364</td>\n",
       "<td>0.0570879</td>\n",
       "<td>0.01</td></tr>\n",
       "<tr><td></td>\n",
       "<td>2017-05-09 04:28:50</td>\n",
       "<td> 1 min  5.136 sec</td>\n",
       "<td>16673 obs/sec</td>\n",
       "<td>16.128</td>\n",
       "<td>945</td>\n",
       "<td>967680.0</td>\n",
       "<td>0.0307774</td>\n",
       "<td>0.0046476</td>\n",
       "<td>0.0008992</td>\n",
       "<td>0.0972192</td>\n",
       "<td>0.0486765</td>\n",
       "<td>0.0113</td></tr></table></div>"
      ],
      "text/plain": [
       "    timestamp            duration          training_speed    epochs     iterations    samples    training_rmse    training_logloss    training_classification_error    validation_rmse    validation_logloss    validation_classification_error\n",
       "--  -------------------  ----------------  ----------------  ---------  ------------  ---------  ---------------  ------------------  -------------------------------  -----------------  --------------------  ---------------------------------\n",
       "    2017-05-09 04:27:45  0.000 sec                           0          0             0          nan              nan                 nan                              nan                nan                   nan\n",
       "    2017-05-09 04:27:45  0.895 sec         11636 obs/sec     0.0170667  1             1024       0.473659         1.79144             0.246378                         0.469771           1.77368               0.2452\n",
       "    2017-05-09 04:27:53  8.463 sec         18270 obs/sec     2.18453    128           131072     0.092615         0.0386218           0.01109                          0.126686           0.0700052             0.0194\n",
       "    2017-05-09 04:27:58  13.437 sec        18341 obs/sec     3.584      210           215040     0.083175         0.0308378           0.00839245                       0.116143           0.0672313             0.0161\n",
       "    2017-05-09 04:28:03  18.602 sec        18004 obs/sec     4.9152     288           294912     0.04989          0.0105153           0.00319712                       0.107655           0.055112              0.0142\n",
       "    2017-05-09 04:28:08  23.683 sec        17694 obs/sec     6.1952     363           371712     0.0383263        0.00717648          0.00189829                       0.0993615          0.0511327             0.0117\n",
       "    2017-05-09 04:28:13  28.721 sec        17374 obs/sec     7.40693    434           444416     0.0307774        0.00464757          0.000899191                      0.0972192          0.0486765             0.0113\n",
       "    2017-05-09 04:28:19  33.809 sec        17153 obs/sec     8.61867    505           517120     0.0145683        0.000959057         0.00019982                       0.0992103          0.0504551             0.0121\n",
       "    2017-05-09 04:28:24  39.041 sec        16979 obs/sec     9.86453    578           591872     0.00954428       0.000439132         9.99101e-05                      0.0963126          0.0529568             0.011\n",
       "    2017-05-09 04:28:29  44.317 sec        16902 obs/sec     11.1616    654           669696     0.00483068       0.00018073          0                                0.0952988          0.0576076             0.0108\n",
       "    2017-05-09 04:28:34  49.451 sec        16845 obs/sec     12.4245    728           745472     0.00163641       8.30884e-05         0                                0.0945814          0.0558459             0.0099\n",
       "    2017-05-09 04:28:39  54.488 sec        16782 obs/sec     13.6533    800           819200     0.00102282       5.93664e-05         0                                0.0947145          0.0565735             0.0101\n",
       "    2017-05-09 04:28:44  59.534 sec        16741 obs/sec     14.8992    873           893952     0.000504823      4.01971e-05         0                                0.0949931          0.0569137             0.0101\n",
       "    2017-05-09 04:28:49  1 min  4.640 sec  16679 obs/sec     16.128     945           967680     0.000396932      3.4632e-05          0                                0.0948364          0.0570879             0.01\n",
       "    2017-05-09 04:28:50  1 min  5.136 sec  16673 obs/sec     16.128     945           967680     0.0307774        0.00464757          0.000899191                      0.0972192          0.0486765             0.0113"
      ]
     },
     "metadata": {},
     "output_type": "display_data"
    }
   ],
   "source": [
    "model_mnist_lenet_mx.show()"
   ]
  },
  {
   "cell_type": "markdown",
   "metadata": {},
   "source": [
    "# Build Deep Water TensorFlow Model"
   ]
  },
  {
   "cell_type": "code",
   "execution_count": 13,
   "metadata": {
    "scrolled": true
   },
   "outputs": [
    {
     "name": "stdout",
     "output_type": "stream",
     "text": [
      "deepwater Model Build progress: |█████████████████████████████████████████| 100%\n"
     ]
    }
   ],
   "source": [
    "model_mnist_lenet_tf = H2ODeepWaterEstimator(epochs=80, network=\"lenet\", backend=\"tensorflow\")\n",
    "model_mnist_lenet_tf.train(x=[\"uri\"], y=\"label\",\n",
    "                           training_frame=mnist_training,\n",
    "                           validation_frame=mnist_testing,\n",
    "                           model_id=\"model_mnist_lenet_tf\")"
   ]
  },
  {
   "cell_type": "code",
   "execution_count": 14,
   "metadata": {},
   "outputs": [
    {
     "name": "stdout",
     "output_type": "stream",
     "text": [
      "Model Details\n",
      "=============\n",
      "H2ODeepWaterEstimator :  Deep Water\n",
      "Model Key:  model_mnist_lenet_tf\n",
      "\n",
      "\n",
      "ModelMetricsMultinomial: deepwater\n",
      "** Reported on train data. **\n",
      "\n",
      "MSE: 0.012878477834901992\n",
      "RMSE: 0.11348338131595301\n",
      "LogLoss: 0.059103467606230316\n",
      "Mean Per-Class Error: 0.01531195825863194\n",
      "Confusion Matrix: vertical: actual; across: predicted\n",
      "\n"
     ]
    },
    {
     "data": {
      "text/html": [
       "<div style=\"overflow:auto\"><table style=\"width:50%\"><tr><td><b>0</b></td>\n",
       "<td><b>1</b></td>\n",
       "<td><b>2</b></td>\n",
       "<td><b>3</b></td>\n",
       "<td><b>4</b></td>\n",
       "<td><b>5</b></td>\n",
       "<td><b>6</b></td>\n",
       "<td><b>7</b></td>\n",
       "<td><b>8</b></td>\n",
       "<td><b>9</b></td>\n",
       "<td><b>Error</b></td>\n",
       "<td><b>Rate</b></td></tr>\n",
       "<tr><td>1004.0</td>\n",
       "<td>0.0</td>\n",
       "<td>0.0</td>\n",
       "<td>0.0</td>\n",
       "<td>0.0</td>\n",
       "<td>1.0</td>\n",
       "<td>5.0</td>\n",
       "<td>0.0</td>\n",
       "<td>0.0</td>\n",
       "<td>0.0</td>\n",
       "<td>0.0059406</td>\n",
       "<td>6 / 1,010</td></tr>\n",
       "<tr><td>2.0</td>\n",
       "<td>1113.0</td>\n",
       "<td>6.0</td>\n",
       "<td>1.0</td>\n",
       "<td>2.0</td>\n",
       "<td>0.0</td>\n",
       "<td>1.0</td>\n",
       "<td>3.0</td>\n",
       "<td>1.0</td>\n",
       "<td>0.0</td>\n",
       "<td>0.0141718</td>\n",
       "<td>16 / 1,129</td></tr>\n",
       "<tr><td>1.0</td>\n",
       "<td>1.0</td>\n",
       "<td>981.0</td>\n",
       "<td>2.0</td>\n",
       "<td>0.0</td>\n",
       "<td>0.0</td>\n",
       "<td>0.0</td>\n",
       "<td>3.0</td>\n",
       "<td>4.0</td>\n",
       "<td>1.0</td>\n",
       "<td>0.0120846</td>\n",
       "<td>12 / 993</td></tr>\n",
       "<tr><td>0.0</td>\n",
       "<td>0.0</td>\n",
       "<td>11.0</td>\n",
       "<td>1011.0</td>\n",
       "<td>0.0</td>\n",
       "<td>6.0</td>\n",
       "<td>0.0</td>\n",
       "<td>1.0</td>\n",
       "<td>3.0</td>\n",
       "<td>3.0</td>\n",
       "<td>0.0231884</td>\n",
       "<td>24 / 1,035</td></tr>\n",
       "<tr><td>0.0</td>\n",
       "<td>0.0</td>\n",
       "<td>0.0</td>\n",
       "<td>0.0</td>\n",
       "<td>976.0</td>\n",
       "<td>0.0</td>\n",
       "<td>2.0</td>\n",
       "<td>0.0</td>\n",
       "<td>0.0</td>\n",
       "<td>15.0</td>\n",
       "<td>0.0171198</td>\n",
       "<td>17 / 993</td></tr>\n",
       "<tr><td>1.0</td>\n",
       "<td>0.0</td>\n",
       "<td>0.0</td>\n",
       "<td>2.0</td>\n",
       "<td>0.0</td>\n",
       "<td>874.0</td>\n",
       "<td>18.0</td>\n",
       "<td>0.0</td>\n",
       "<td>3.0</td>\n",
       "<td>1.0</td>\n",
       "<td>0.0278087</td>\n",
       "<td>25 / 899</td></tr>\n",
       "<tr><td>0.0</td>\n",
       "<td>0.0</td>\n",
       "<td>1.0</td>\n",
       "<td>0.0</td>\n",
       "<td>1.0</td>\n",
       "<td>0.0</td>\n",
       "<td>946.0</td>\n",
       "<td>0.0</td>\n",
       "<td>0.0</td>\n",
       "<td>0.0</td>\n",
       "<td>0.0021097</td>\n",
       "<td>2 / 948</td></tr>\n",
       "<tr><td>0.0</td>\n",
       "<td>2.0</td>\n",
       "<td>1.0</td>\n",
       "<td>2.0</td>\n",
       "<td>2.0</td>\n",
       "<td>1.0</td>\n",
       "<td>0.0</td>\n",
       "<td>1032.0</td>\n",
       "<td>2.0</td>\n",
       "<td>11.0</td>\n",
       "<td>0.0199430</td>\n",
       "<td>21 / 1,053</td></tr>\n",
       "<tr><td>1.0</td>\n",
       "<td>1.0</td>\n",
       "<td>2.0</td>\n",
       "<td>1.0</td>\n",
       "<td>0.0</td>\n",
       "<td>0.0</td>\n",
       "<td>5.0</td>\n",
       "<td>0.0</td>\n",
       "<td>958.0</td>\n",
       "<td>3.0</td>\n",
       "<td>0.0133883</td>\n",
       "<td>13 / 971</td></tr>\n",
       "<tr><td>1.0</td>\n",
       "<td>0.0</td>\n",
       "<td>1.0</td>\n",
       "<td>2.0</td>\n",
       "<td>3.0</td>\n",
       "<td>1.0</td>\n",
       "<td>0.0</td>\n",
       "<td>1.0</td>\n",
       "<td>8.0</td>\n",
       "<td>962.0</td>\n",
       "<td>0.0173647</td>\n",
       "<td>17 / 979</td></tr>\n",
       "<tr><td>1010.0</td>\n",
       "<td>1117.0</td>\n",
       "<td>1003.0</td>\n",
       "<td>1021.0</td>\n",
       "<td>984.0</td>\n",
       "<td>883.0</td>\n",
       "<td>977.0</td>\n",
       "<td>1040.0</td>\n",
       "<td>979.0</td>\n",
       "<td>996.0</td>\n",
       "<td>0.0152847</td>\n",
       "<td>153 / 10,010</td></tr></table></div>"
      ],
      "text/plain": [
       "0     1     2     3     4    5    6    7     8    9    Error       Rate\n",
       "----  ----  ----  ----  ---  ---  ---  ----  ---  ---  ----------  ------------\n",
       "1004  0     0     0     0    1    5    0     0    0    0.00594059  6 / 1,010\n",
       "2     1113  6     1     2    0    1    3     1    0    0.0141718   16 / 1,129\n",
       "1     1     981   2     0    0    0    3     4    1    0.0120846   12 / 993\n",
       "0     0     11    1011  0    6    0    1     3    3    0.0231884   24 / 1,035\n",
       "0     0     0     0     976  0    2    0     0    15   0.0171198   17 / 993\n",
       "1     0     0     2     0    874  18   0     3    1    0.0278087   25 / 899\n",
       "0     0     1     0     1    0    946  0     0    0    0.0021097   2 / 948\n",
       "0     2     1     2     2    1    0    1032  2    11   0.019943    21 / 1,053\n",
       "1     1     2     1     0    0    5    0     958  3    0.0133883   13 / 971\n",
       "1     0     1     2     3    1    0    1     8    962  0.0173647   17 / 979\n",
       "1010  1117  1003  1021  984  883  977  1040  979  996  0.0152847   153 / 10,010"
      ]
     },
     "metadata": {},
     "output_type": "display_data"
    },
    {
     "name": "stdout",
     "output_type": "stream",
     "text": [
      "Top-10 Hit Ratios: \n"
     ]
    },
    {
     "data": {
      "text/html": [
       "<div style=\"overflow:auto\"><table style=\"width:50%\"><tr><td><b>k</b></td>\n",
       "<td><b>hit_ratio</b></td></tr>\n",
       "<tr><td>1</td>\n",
       "<td>0.9847153</td></tr>\n",
       "<tr><td>2</td>\n",
       "<td>0.9973027</td></tr>\n",
       "<tr><td>3</td>\n",
       "<td>0.9988012</td></tr>\n",
       "<tr><td>4</td>\n",
       "<td>0.9992008</td></tr>\n",
       "<tr><td>5</td>\n",
       "<td>0.9996004</td></tr>\n",
       "<tr><td>6</td>\n",
       "<td>0.9999001</td></tr>\n",
       "<tr><td>7</td>\n",
       "<td>1.0</td></tr>\n",
       "<tr><td>8</td>\n",
       "<td>1.0</td></tr>\n",
       "<tr><td>9</td>\n",
       "<td>1.0</td></tr>\n",
       "<tr><td>10</td>\n",
       "<td>1.0</td></tr></table></div>"
      ],
      "text/plain": [
       "k    hit_ratio\n",
       "---  -----------\n",
       "1    0.984715\n",
       "2    0.997303\n",
       "3    0.998801\n",
       "4    0.999201\n",
       "5    0.9996\n",
       "6    0.9999\n",
       "7    1\n",
       "8    1\n",
       "9    1\n",
       "10   1"
      ]
     },
     "metadata": {},
     "output_type": "display_data"
    },
    {
     "name": "stdout",
     "output_type": "stream",
     "text": [
      "\n",
      "ModelMetricsMultinomial: deepwater\n",
      "** Reported on validation data. **\n",
      "\n",
      "MSE: 0.017858337401689198\n",
      "RMSE: 0.13363509045789282\n",
      "LogLoss: 0.09006033506504404\n",
      "Mean Per-Class Error: 0.021420796458510603\n",
      "Confusion Matrix: vertical: actual; across: predicted\n",
      "\n"
     ]
    },
    {
     "data": {
      "text/html": [
       "<div style=\"overflow:auto\"><table style=\"width:50%\"><tr><td><b>0</b></td>\n",
       "<td><b>1</b></td>\n",
       "<td><b>2</b></td>\n",
       "<td><b>3</b></td>\n",
       "<td><b>4</b></td>\n",
       "<td><b>5</b></td>\n",
       "<td><b>6</b></td>\n",
       "<td><b>7</b></td>\n",
       "<td><b>8</b></td>\n",
       "<td><b>9</b></td>\n",
       "<td><b>Error</b></td>\n",
       "<td><b>Rate</b></td></tr>\n",
       "<tr><td>960.0</td>\n",
       "<td>0.0</td>\n",
       "<td>1.0</td>\n",
       "<td>0.0</td>\n",
       "<td>1.0</td>\n",
       "<td>2.0</td>\n",
       "<td>11.0</td>\n",
       "<td>0.0</td>\n",
       "<td>1.0</td>\n",
       "<td>4.0</td>\n",
       "<td>0.0204082</td>\n",
       "<td>20 / 980</td></tr>\n",
       "<tr><td>3.0</td>\n",
       "<td>1122.0</td>\n",
       "<td>4.0</td>\n",
       "<td>1.0</td>\n",
       "<td>0.0</td>\n",
       "<td>0.0</td>\n",
       "<td>2.0</td>\n",
       "<td>2.0</td>\n",
       "<td>1.0</td>\n",
       "<td>0.0</td>\n",
       "<td>0.0114537</td>\n",
       "<td>13 / 1,135</td></tr>\n",
       "<tr><td>2.0</td>\n",
       "<td>0.0</td>\n",
       "<td>1022.0</td>\n",
       "<td>0.0</td>\n",
       "<td>0.0</td>\n",
       "<td>0.0</td>\n",
       "<td>0.0</td>\n",
       "<td>7.0</td>\n",
       "<td>1.0</td>\n",
       "<td>0.0</td>\n",
       "<td>0.0096899</td>\n",
       "<td>10 / 1,032</td></tr>\n",
       "<tr><td>0.0</td>\n",
       "<td>0.0</td>\n",
       "<td>5.0</td>\n",
       "<td>986.0</td>\n",
       "<td>0.0</td>\n",
       "<td>8.0</td>\n",
       "<td>0.0</td>\n",
       "<td>4.0</td>\n",
       "<td>7.0</td>\n",
       "<td>0.0</td>\n",
       "<td>0.0237624</td>\n",
       "<td>24 / 1,010</td></tr>\n",
       "<tr><td>0.0</td>\n",
       "<td>0.0</td>\n",
       "<td>0.0</td>\n",
       "<td>0.0</td>\n",
       "<td>955.0</td>\n",
       "<td>0.0</td>\n",
       "<td>4.0</td>\n",
       "<td>1.0</td>\n",
       "<td>1.0</td>\n",
       "<td>21.0</td>\n",
       "<td>0.0274949</td>\n",
       "<td>27 / 982</td></tr>\n",
       "<tr><td>1.0</td>\n",
       "<td>0.0</td>\n",
       "<td>1.0</td>\n",
       "<td>6.0</td>\n",
       "<td>1.0</td>\n",
       "<td>870.0</td>\n",
       "<td>11.0</td>\n",
       "<td>1.0</td>\n",
       "<td>1.0</td>\n",
       "<td>0.0</td>\n",
       "<td>0.0246637</td>\n",
       "<td>22 / 892</td></tr>\n",
       "<tr><td>1.0</td>\n",
       "<td>3.0</td>\n",
       "<td>1.0</td>\n",
       "<td>0.0</td>\n",
       "<td>0.0</td>\n",
       "<td>1.0</td>\n",
       "<td>952.0</td>\n",
       "<td>0.0</td>\n",
       "<td>0.0</td>\n",
       "<td>0.0</td>\n",
       "<td>0.0062630</td>\n",
       "<td>6 / 958</td></tr>\n",
       "<tr><td>1.0</td>\n",
       "<td>0.0</td>\n",
       "<td>6.0</td>\n",
       "<td>0.0</td>\n",
       "<td>8.0</td>\n",
       "<td>2.0</td>\n",
       "<td>0.0</td>\n",
       "<td>991.0</td>\n",
       "<td>6.0</td>\n",
       "<td>14.0</td>\n",
       "<td>0.0359922</td>\n",
       "<td>37 / 1,028</td></tr>\n",
       "<tr><td>7.0</td>\n",
       "<td>0.0</td>\n",
       "<td>6.0</td>\n",
       "<td>1.0</td>\n",
       "<td>4.0</td>\n",
       "<td>1.0</td>\n",
       "<td>5.0</td>\n",
       "<td>1.0</td>\n",
       "<td>947.0</td>\n",
       "<td>2.0</td>\n",
       "<td>0.0277207</td>\n",
       "<td>27 / 974</td></tr>\n",
       "<tr><td>1.0</td>\n",
       "<td>1.0</td>\n",
       "<td>0.0</td>\n",
       "<td>4.0</td>\n",
       "<td>2.0</td>\n",
       "<td>6.0</td>\n",
       "<td>1.0</td>\n",
       "<td>4.0</td>\n",
       "<td>8.0</td>\n",
       "<td>982.0</td>\n",
       "<td>0.0267592</td>\n",
       "<td>27 / 1,009</td></tr>\n",
       "<tr><td>976.0</td>\n",
       "<td>1126.0</td>\n",
       "<td>1046.0</td>\n",
       "<td>998.0</td>\n",
       "<td>971.0</td>\n",
       "<td>890.0</td>\n",
       "<td>986.0</td>\n",
       "<td>1011.0</td>\n",
       "<td>973.0</td>\n",
       "<td>1023.0</td>\n",
       "<td>0.0213</td>\n",
       "<td>213 / 10,000</td></tr></table></div>"
      ],
      "text/plain": [
       "0    1     2     3    4    5    6    7     8    9     Error       Rate\n",
       "---  ----  ----  ---  ---  ---  ---  ----  ---  ----  ----------  ------------\n",
       "960  0     1     0    1    2    11   0     1    4     0.0204082   20 / 980\n",
       "3    1122  4     1    0    0    2    2     1    0     0.0114537   13 / 1,135\n",
       "2    0     1022  0    0    0    0    7     1    0     0.00968992  10 / 1,032\n",
       "0    0     5     986  0    8    0    4     7    0     0.0237624   24 / 1,010\n",
       "0    0     0     0    955  0    4    1     1    21    0.0274949   27 / 982\n",
       "1    0     1     6    1    870  11   1     1    0     0.0246637   22 / 892\n",
       "1    3     1     0    0    1    952  0     0    0     0.00626305  6 / 958\n",
       "1    0     6     0    8    2    0    991   6    14    0.0359922   37 / 1,028\n",
       "7    0     6     1    4    1    5    1     947  2     0.0277207   27 / 974\n",
       "1    1     0     4    2    6    1    4     8    982   0.0267592   27 / 1,009\n",
       "976  1126  1046  998  971  890  986  1011  973  1023  0.0213      213 / 10,000"
      ]
     },
     "metadata": {},
     "output_type": "display_data"
    },
    {
     "name": "stdout",
     "output_type": "stream",
     "text": [
      "Top-10 Hit Ratios: \n"
     ]
    },
    {
     "data": {
      "text/html": [
       "<div style=\"overflow:auto\"><table style=\"width:50%\"><tr><td><b>k</b></td>\n",
       "<td><b>hit_ratio</b></td></tr>\n",
       "<tr><td>1</td>\n",
       "<td>0.9787</td></tr>\n",
       "<tr><td>2</td>\n",
       "<td>0.9939</td></tr>\n",
       "<tr><td>3</td>\n",
       "<td>0.9979</td></tr>\n",
       "<tr><td>4</td>\n",
       "<td>0.9988</td></tr>\n",
       "<tr><td>5</td>\n",
       "<td>0.9993</td></tr>\n",
       "<tr><td>6</td>\n",
       "<td>0.9996</td></tr>\n",
       "<tr><td>7</td>\n",
       "<td>0.9999</td></tr>\n",
       "<tr><td>8</td>\n",
       "<td>1.0</td></tr>\n",
       "<tr><td>9</td>\n",
       "<td>1.0</td></tr>\n",
       "<tr><td>10</td>\n",
       "<td>1.0</td></tr></table></div>"
      ],
      "text/plain": [
       "k    hit_ratio\n",
       "---  -----------\n",
       "1    0.9787\n",
       "2    0.9939\n",
       "3    0.9979\n",
       "4    0.9988\n",
       "5    0.9993\n",
       "6    0.9996\n",
       "7    0.9999\n",
       "8    1\n",
       "9    1\n",
       "10   1"
      ]
     },
     "metadata": {},
     "output_type": "display_data"
    },
    {
     "name": "stdout",
     "output_type": "stream",
     "text": [
      "Scoring History: \n"
     ]
    },
    {
     "data": {
      "text/html": [
       "<div style=\"overflow:auto\"><table style=\"width:50%\"><tr><td><b></b></td>\n",
       "<td><b>timestamp</b></td>\n",
       "<td><b>duration</b></td>\n",
       "<td><b>training_speed</b></td>\n",
       "<td><b>epochs</b></td>\n",
       "<td><b>iterations</b></td>\n",
       "<td><b>samples</b></td>\n",
       "<td><b>training_rmse</b></td>\n",
       "<td><b>training_logloss</b></td>\n",
       "<td><b>training_classification_error</b></td>\n",
       "<td><b>validation_rmse</b></td>\n",
       "<td><b>validation_logloss</b></td>\n",
       "<td><b>validation_classification_error</b></td></tr>\n",
       "<tr><td></td>\n",
       "<td>2017-05-09 04:28:52</td>\n",
       "<td> 0.000 sec</td>\n",
       "<td>None</td>\n",
       "<td>0.0</td>\n",
       "<td>0</td>\n",
       "<td>0.0</td>\n",
       "<td>nan</td>\n",
       "<td>nan</td>\n",
       "<td>nan</td>\n",
       "<td>nan</td>\n",
       "<td>nan</td>\n",
       "<td>nan</td></tr>\n",
       "<tr><td></td>\n",
       "<td>2017-05-09 04:28:52</td>\n",
       "<td> 1.425 sec</td>\n",
       "<td>7262 obs/sec</td>\n",
       "<td>0.0170667</td>\n",
       "<td>1</td>\n",
       "<td>1024.0</td>\n",
       "<td>0.5560882</td>\n",
       "<td>1.1981536</td>\n",
       "<td>0.3516484</td>\n",
       "<td>0.5460968</td>\n",
       "<td>1.1293380</td>\n",
       "<td>0.3425</td></tr>\n",
       "<tr><td></td>\n",
       "<td>2017-05-09 04:29:03</td>\n",
       "<td>12.360 sec</td>\n",
       "<td>11557 obs/sec</td>\n",
       "<td>1.9797333</td>\n",
       "<td>116</td>\n",
       "<td>118784.0</td>\n",
       "<td>0.1399173</td>\n",
       "<td>0.0737000</td>\n",
       "<td>0.0223776</td>\n",
       "<td>0.1573133</td>\n",
       "<td>0.1056472</td>\n",
       "<td>0.0283</td></tr>\n",
       "<tr><td></td>\n",
       "<td>2017-05-09 04:29:11</td>\n",
       "<td>20.324 sec</td>\n",
       "<td>11577 obs/sec</td>\n",
       "<td>3.3792</td>\n",
       "<td>198</td>\n",
       "<td>202752.0</td>\n",
       "<td>0.1631406</td>\n",
       "<td>0.1106412</td>\n",
       "<td>0.0315684</td>\n",
       "<td>0.1666921</td>\n",
       "<td>0.1303410</td>\n",
       "<td>0.0321</td></tr>\n",
       "<tr><td></td>\n",
       "<td>2017-05-09 04:29:18</td>\n",
       "<td>27.699 sec</td>\n",
       "<td>11476 obs/sec</td>\n",
       "<td>4.608</td>\n",
       "<td>270</td>\n",
       "<td>276480.0</td>\n",
       "<td>0.1134834</td>\n",
       "<td>0.0591035</td>\n",
       "<td>0.0152847</td>\n",
       "<td>0.1336351</td>\n",
       "<td>0.0900603</td>\n",
       "<td>0.0213</td></tr>\n",
       "<tr><td></td>\n",
       "<td>2017-05-09 04:29:26</td>\n",
       "<td>35.690 sec</td>\n",
       "<td>11282 obs/sec</td>\n",
       "<td>5.888</td>\n",
       "<td>345</td>\n",
       "<td>353280.0</td>\n",
       "<td>0.1159631</td>\n",
       "<td>0.0596587</td>\n",
       "<td>0.0160839</td>\n",
       "<td>0.1465547</td>\n",
       "<td>0.1100784</td>\n",
       "<td>0.0246</td></tr>\n",
       "<tr><td></td>\n",
       "<td>2017-05-09 04:29:34</td>\n",
       "<td>43.535 sec</td>\n",
       "<td>11132 obs/sec</td>\n",
       "<td>7.1168</td>\n",
       "<td>417</td>\n",
       "<td>427008.0</td>\n",
       "<td>0.0947959</td>\n",
       "<td>0.0424675</td>\n",
       "<td>0.0101898</td>\n",
       "<td>0.1304879</td>\n",
       "<td>0.1037693</td>\n",
       "<td>0.0194</td></tr>\n",
       "<tr><td></td>\n",
       "<td>2017-05-09 04:29:42</td>\n",
       "<td>51.537 sec</td>\n",
       "<td>11006 obs/sec</td>\n",
       "<td>8.3626667</td>\n",
       "<td>490</td>\n",
       "<td>501760.0</td>\n",
       "<td>0.0932212</td>\n",
       "<td>0.0385726</td>\n",
       "<td>0.0102897</td>\n",
       "<td>0.1359301</td>\n",
       "<td>0.1166358</td>\n",
       "<td>0.0217</td></tr>\n",
       "<tr><td></td>\n",
       "<td>2017-05-09 04:29:50</td>\n",
       "<td>59.325 sec</td>\n",
       "<td>10890 obs/sec</td>\n",
       "<td>9.5402667</td>\n",
       "<td>559</td>\n",
       "<td>572416.0</td>\n",
       "<td>0.0955331</td>\n",
       "<td>0.0434609</td>\n",
       "<td>0.0104895</td>\n",
       "<td>0.1406344</td>\n",
       "<td>0.1393764</td>\n",
       "<td>0.0219</td></tr>\n",
       "<tr><td></td>\n",
       "<td>2017-05-09 04:29:58</td>\n",
       "<td> 1 min  8.334 sec</td>\n",
       "<td>10779 obs/sec</td>\n",
       "<td>10.7690667</td>\n",
       "<td>631</td>\n",
       "<td>646144.0</td>\n",
       "<td>0.0787437</td>\n",
       "<td>0.0317380</td>\n",
       "<td>0.0073926</td>\n",
       "<td>0.1295670</td>\n",
       "<td>0.1403262</td>\n",
       "<td>0.0187</td></tr>\n",
       "<tr><td></td>\n",
       "<td>2017-05-09 04:30:15</td>\n",
       "<td> 1 min 23.805 sec</td>\n",
       "<td>10656 obs/sec</td>\n",
       "<td>13.2608</td>\n",
       "<td>777</td>\n",
       "<td>795648.0</td>\n",
       "<td>0.0564820</td>\n",
       "<td>0.0149586</td>\n",
       "<td>0.0039960</td>\n",
       "<td>0.1316940</td>\n",
       "<td>0.1441903</td>\n",
       "<td>0.019</td></tr>\n",
       "<tr><td></td>\n",
       "<td>2017-05-09 04:30:22</td>\n",
       "<td> 1 min 31.478 sec</td>\n",
       "<td>10637 obs/sec</td>\n",
       "<td>14.4554667</td>\n",
       "<td>847</td>\n",
       "<td>867328.0</td>\n",
       "<td>0.0603828</td>\n",
       "<td>0.0167506</td>\n",
       "<td>0.0042957</td>\n",
       "<td>0.1223736</td>\n",
       "<td>0.1440235</td>\n",
       "<td>0.0162</td></tr>\n",
       "<tr><td></td>\n",
       "<td>2017-05-09 04:30:23</td>\n",
       "<td> 1 min 32.625 sec</td>\n",
       "<td>10627 obs/sec</td>\n",
       "<td>14.4554667</td>\n",
       "<td>847</td>\n",
       "<td>867328.0</td>\n",
       "<td>0.1134834</td>\n",
       "<td>0.0591035</td>\n",
       "<td>0.0152847</td>\n",
       "<td>0.1336351</td>\n",
       "<td>0.0900603</td>\n",
       "<td>0.0213</td></tr></table></div>"
      ],
      "text/plain": [
       "    timestamp            duration          training_speed    epochs     iterations    samples    training_rmse    training_logloss    training_classification_error    validation_rmse    validation_logloss    validation_classification_error\n",
       "--  -------------------  ----------------  ----------------  ---------  ------------  ---------  ---------------  ------------------  -------------------------------  -----------------  --------------------  ---------------------------------\n",
       "    2017-05-09 04:28:52  0.000 sec                           0          0             0          nan              nan                 nan                              nan                nan                   nan\n",
       "    2017-05-09 04:28:52  1.425 sec         7262 obs/sec      0.0170667  1             1024       0.556088         1.19815             0.351648                         0.546097           1.12934               0.3425\n",
       "    2017-05-09 04:29:03  12.360 sec        11557 obs/sec     1.97973    116           118784     0.139917         0.0737              0.0223776                        0.157313           0.105647              0.0283\n",
       "    2017-05-09 04:29:11  20.324 sec        11577 obs/sec     3.3792     198           202752     0.163141         0.110641            0.0315684                        0.166692           0.130341              0.0321\n",
       "    2017-05-09 04:29:18  27.699 sec        11476 obs/sec     4.608      270           276480     0.113483         0.0591035           0.0152847                        0.133635           0.0900603             0.0213\n",
       "    2017-05-09 04:29:26  35.690 sec        11282 obs/sec     5.888      345           353280     0.115963         0.0596587           0.0160839                        0.146555           0.110078              0.0246\n",
       "    2017-05-09 04:29:34  43.535 sec        11132 obs/sec     7.1168     417           427008     0.0947959        0.0424675           0.0101898                        0.130488           0.103769              0.0194\n",
       "    2017-05-09 04:29:42  51.537 sec        11006 obs/sec     8.36267    490           501760     0.0932212        0.0385726           0.0102897                        0.13593            0.116636              0.0217\n",
       "    2017-05-09 04:29:50  59.325 sec        10890 obs/sec     9.54027    559           572416     0.0955331        0.0434609           0.0104895                        0.140634           0.139376              0.0219\n",
       "    2017-05-09 04:29:58  1 min  8.334 sec  10779 obs/sec     10.7691    631           646144     0.0787437        0.031738            0.00739261                       0.129567           0.140326              0.0187\n",
       "    2017-05-09 04:30:15  1 min 23.805 sec  10656 obs/sec     13.2608    777           795648     0.056482         0.0149586           0.003996                         0.131694           0.14419               0.019\n",
       "    2017-05-09 04:30:22  1 min 31.478 sec  10637 obs/sec     14.4555    847           867328     0.0603828        0.0167506           0.0042957                        0.122374           0.144023              0.0162\n",
       "    2017-05-09 04:30:23  1 min 32.625 sec  10627 obs/sec     14.4555    847           867328     0.113483         0.0591035           0.0152847                        0.133635           0.0900603             0.0213"
      ]
     },
     "metadata": {},
     "output_type": "display_data"
    }
   ],
   "source": [
    "model_mnist_lenet_tf.show()"
   ]
  },
  {
   "cell_type": "markdown",
   "metadata": {},
   "source": [
    "# Build Deep Water Caffe Model"
   ]
  },
  {
   "cell_type": "code",
   "execution_count": 15,
   "metadata": {},
   "outputs": [
    {
     "name": "stdout",
     "output_type": "stream",
     "text": [
      "deepwater Model Build progress: |█████████████ (cancelled)\n"
     ]
    },
    {
     "ename": "H2OJobCancelled",
     "evalue": "Job<$0301c0a8fe0132d4ffffffff$_8f4f68daea52edf286da1872b0b7417f> was cancelled by the user.",
     "output_type": "error",
     "traceback": [
      "\u001b[0;31m---------------------------------------------------------------------------\u001b[0m",
      "\u001b[0;31mH2OJobCancelled\u001b[0m                           Traceback (most recent call last)",
      "\u001b[0;32m<ipython-input-15-99b72f162663>\u001b[0m in \u001b[0;36m<module>\u001b[0;34m()\u001b[0m\n\u001b[1;32m      3\u001b[0m                            \u001b[0mtraining_frame\u001b[0m\u001b[0;34m=\u001b[0m\u001b[0mmnist_training\u001b[0m\u001b[0;34m,\u001b[0m\u001b[0;34m\u001b[0m\u001b[0m\n\u001b[1;32m      4\u001b[0m                            \u001b[0mvalidation_frame\u001b[0m\u001b[0;34m=\u001b[0m\u001b[0mmnist_testing\u001b[0m\u001b[0;34m,\u001b[0m\u001b[0;34m\u001b[0m\u001b[0m\n\u001b[0;32m----> 5\u001b[0;31m                            model_id=\"model_mnist_lenet_caffe\")\n\u001b[0m",
      "\u001b[0;32m/usr/local/lib/python3.5/dist-packages/h2o/estimators/estimator_base.py\u001b[0m in \u001b[0;36mtrain\u001b[0;34m(self, x, y, training_frame, offset_column, fold_column, weights_column, validation_frame, max_runtime_secs, ignored_columns, model_id)\u001b[0m\n\u001b[1;32m    202\u001b[0m             \u001b[0;32mreturn\u001b[0m\u001b[0;34m\u001b[0m\u001b[0m\n\u001b[1;32m    203\u001b[0m \u001b[0;34m\u001b[0m\u001b[0m\n\u001b[0;32m--> 204\u001b[0;31m         \u001b[0mmodel\u001b[0m\u001b[0;34m.\u001b[0m\u001b[0mpoll\u001b[0m\u001b[0;34m(\u001b[0m\u001b[0;34m)\u001b[0m\u001b[0;34m\u001b[0m\u001b[0m\n\u001b[0m\u001b[1;32m    205\u001b[0m         \u001b[0mmodel_json\u001b[0m \u001b[0;34m=\u001b[0m \u001b[0mh2o\u001b[0m\u001b[0;34m.\u001b[0m\u001b[0mapi\u001b[0m\u001b[0;34m(\u001b[0m\u001b[0;34m\"GET /%d/Models/%s\"\u001b[0m \u001b[0;34m%\u001b[0m \u001b[0;34m(\u001b[0m\u001b[0mrest_ver\u001b[0m\u001b[0;34m,\u001b[0m \u001b[0mmodel\u001b[0m\u001b[0;34m.\u001b[0m\u001b[0mdest_key\u001b[0m\u001b[0;34m)\u001b[0m\u001b[0;34m)\u001b[0m\u001b[0;34m[\u001b[0m\u001b[0;34m\"models\"\u001b[0m\u001b[0;34m]\u001b[0m\u001b[0;34m[\u001b[0m\u001b[0;36m0\u001b[0m\u001b[0;34m]\u001b[0m\u001b[0;34m\u001b[0m\u001b[0m\n\u001b[1;32m    206\u001b[0m         \u001b[0mself\u001b[0m\u001b[0;34m.\u001b[0m\u001b[0m_resolve_model\u001b[0m\u001b[0;34m(\u001b[0m\u001b[0mmodel\u001b[0m\u001b[0;34m.\u001b[0m\u001b[0mdest_key\u001b[0m\u001b[0;34m,\u001b[0m \u001b[0mmodel_json\u001b[0m\u001b[0;34m)\u001b[0m\u001b[0;34m\u001b[0m\u001b[0m\n",
      "\u001b[0;32m/usr/local/lib/python3.5/dist-packages/h2o/job.py\u001b[0m in \u001b[0;36mpoll\u001b[0;34m(self)\u001b[0m\n\u001b[1;32m     67\u001b[0m         \u001b[0;31m# check if failed... and politely print relevant message\u001b[0m\u001b[0;34m\u001b[0m\u001b[0;34m\u001b[0m\u001b[0m\n\u001b[1;32m     68\u001b[0m         \u001b[0;32mif\u001b[0m \u001b[0mself\u001b[0m\u001b[0;34m.\u001b[0m\u001b[0mstatus\u001b[0m \u001b[0;34m==\u001b[0m \u001b[0;34m\"CANCELLED\"\u001b[0m\u001b[0;34m:\u001b[0m\u001b[0;34m\u001b[0m\u001b[0m\n\u001b[0;32m---> 69\u001b[0;31m             \u001b[0;32mraise\u001b[0m \u001b[0mH2OJobCancelled\u001b[0m\u001b[0;34m(\u001b[0m\u001b[0;34m\"Job<%s> was cancelled by the user.\"\u001b[0m \u001b[0;34m%\u001b[0m \u001b[0mself\u001b[0m\u001b[0;34m.\u001b[0m\u001b[0mjob_key\u001b[0m\u001b[0;34m)\u001b[0m\u001b[0;34m\u001b[0m\u001b[0m\n\u001b[0m\u001b[1;32m     70\u001b[0m         \u001b[0;32mif\u001b[0m \u001b[0mself\u001b[0m\u001b[0;34m.\u001b[0m\u001b[0mstatus\u001b[0m \u001b[0;34m==\u001b[0m \u001b[0;34m\"FAILED\"\u001b[0m\u001b[0;34m:\u001b[0m\u001b[0;34m\u001b[0m\u001b[0m\n\u001b[1;32m     71\u001b[0m             \u001b[0;32mif\u001b[0m \u001b[0;34m(\u001b[0m\u001b[0misinstance\u001b[0m\u001b[0;34m(\u001b[0m\u001b[0mself\u001b[0m\u001b[0;34m.\u001b[0m\u001b[0mjob\u001b[0m\u001b[0;34m,\u001b[0m \u001b[0mdict\u001b[0m\u001b[0;34m)\u001b[0m\u001b[0;34m)\u001b[0m \u001b[0;32mand\u001b[0m \u001b[0;34m(\u001b[0m\u001b[0;34m\"stacktrace\"\u001b[0m \u001b[0;32min\u001b[0m \u001b[0mlist\u001b[0m\u001b[0;34m(\u001b[0m\u001b[0mself\u001b[0m\u001b[0;34m.\u001b[0m\u001b[0mjob\u001b[0m\u001b[0;34m)\u001b[0m\u001b[0;34m)\u001b[0m\u001b[0;34m:\u001b[0m\u001b[0;34m\u001b[0m\u001b[0m\n",
      "\u001b[0;31mH2OJobCancelled\u001b[0m: Job<$0301c0a8fe0132d4ffffffff$_8f4f68daea52edf286da1872b0b7417f> was cancelled by the user."
     ]
    }
   ],
   "source": [
    "model_mnist_lenet_caffe = H2ODeepWaterEstimator(epochs=80, network=\"lenet\", backend=\"caffe\")\n",
    "model_mnist_lenet_caffe.train(x=[\"uri\"], y=\"label\",\n",
    "                           training_frame=mnist_training,\n",
    "                           validation_frame=mnist_testing,\n",
    "                           model_id=\"model_mnist_lenet_caffe\")"
   ]
  },
  {
   "cell_type": "code",
   "execution_count": null,
   "metadata": {},
   "outputs": [],
   "source": [
    "model_mnist_lenet_caffe.show()"
   ]
  },
  {
   "cell_type": "markdown",
   "metadata": {},
   "source": [
    "# Save H2O Models"
   ]
  },
  {
   "cell_type": "code",
   "execution_count": 25,
   "metadata": {},
   "outputs": [
    {
     "data": {
      "text/plain": [
       "'/gtc-2017/models/model_mnist_lenet_mx'"
      ]
     },
     "execution_count": 25,
     "metadata": {},
     "output_type": "execute_result"
    }
   ],
   "source": [
    "h2o.save_model(model=model_mnist_lenet_mx, path=project_path+\"/models/\", force=True)\n",
    "h2o.save_model(model=model_mnist_lenet_tf, path=project_path+\"/models/\", force=True)\n",
    "h2o.save_model(model=model_mnist_lenet_caffe, path=project_path+\"/models/\", force=True)"
   ]
  },
  {
   "cell_type": "markdown",
   "metadata": {},
   "source": [
    "# Export MOJOs for Deployment"
   ]
  },
  {
   "cell_type": "code",
   "execution_count": null,
   "metadata": {},
   "outputs": [],
   "source": [
    "model_mnist_lenet_mx.download_mojo(path=project_path+\"/models/\", get_genmodel_jar=True)\n",
    "model_mnist_lenet_tf.download_mojo(path=project_path+\"/models/\", get_genmodel_jar=True)\n",
    "model_mnist_lenet_caffe.download_mojo(path=project_path+\"/models/\", get_genmodel_jar=True)"
   ]
  }
 ],
 "metadata": {
  "anaconda-cloud": {},
  "kernelspec": {
   "display_name": "Python 3",
   "language": "python",
   "name": "python3"
  },
  "language_info": {
   "codemirror_mode": {
    "name": "ipython",
    "version": 3
   },
   "file_extension": ".py",
   "mimetype": "text/x-python",
   "name": "python",
   "nbconvert_exporter": "python",
   "pygments_lexer": "ipython3",
   "version": "3.5.2"
  }
 },
 "nbformat": 4,
 "nbformat_minor": 2
}
