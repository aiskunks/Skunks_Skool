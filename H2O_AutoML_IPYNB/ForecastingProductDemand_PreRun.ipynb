{
 "cells": [
  {
   "cell_type": "markdown",
   "metadata": {},
   "source": [
    "# Forecasting Product Demand\n",
    "\n",
    "In this example, we will be forecasting the monthly demand of different products.  The data used is a public Kaggle dataset consisting of order demand per product and warehouse: [Product Demand Data](https://www.kaggle.com/felixzhao/productdemandforecasting).\n",
    "\n",
    "We will be using Sparkling Water to ingest the data and add historical lags.\n",
    "\n",
    "Our Machine Learning Workflow is: \n",
    "\n",
    "1. Import data into Spark\n",
    "2. Exploratory Analysis\n",
    "3. Feature engineering\n",
    "   * Add time lag columns\n",
    "4. Train a baseline model\n",
    "5. Train model with lag features\n",
    "6. Train model with additional features\n",
    "7. Compare models\n",
    "8. Shut down sparkling water cluster"
   ]
  },
  {
   "cell_type": "markdown",
   "metadata": {},
   "source": [
    "# Step 1 (of 8).  Import data into Spark"
   ]
  },
  {
   "cell_type": "code",
   "execution_count": 1,
   "metadata": {
    "collapsed": false
   },
   "outputs": [
    {
     "name": "stdout",
     "output_type": "stream",
     "text": [
      "Connecting to H2O server at http://172.16.2.48:54327... successful.\n"
     ]
    },
    {
     "data": {
      "text/html": [
       "<div style=\"overflow:auto\"><table style=\"width:50%\"><tr><td>H2O cluster uptime:</td>\n",
       "<td>11 secs</td></tr>\n",
       "<tr><td>H2O cluster timezone:</td>\n",
       "<td>America/Los_Angeles</td></tr>\n",
       "<tr><td>H2O data parsing timezone:</td>\n",
       "<td>UTC</td></tr>\n",
       "<tr><td>H2O cluster version:</td>\n",
       "<td>3.20.0.2</td></tr>\n",
       "<tr><td>H2O cluster version age:</td>\n",
       "<td>1 month and 3 days </td></tr>\n",
       "<tr><td>H2O cluster name:</td>\n",
       "<td>sparkling-water-megankurka_app-20180719165539-0000</td></tr>\n",
       "<tr><td>H2O cluster total nodes:</td>\n",
       "<td>3</td></tr>\n",
       "<tr><td>H2O cluster free memory:</td>\n",
       "<td>2.210 Gb</td></tr>\n",
       "<tr><td>H2O cluster total cores:</td>\n",
       "<td>24</td></tr>\n",
       "<tr><td>H2O cluster allowed cores:</td>\n",
       "<td>24</td></tr>\n",
       "<tr><td>H2O cluster status:</td>\n",
       "<td>accepting new members, healthy</td></tr>\n",
       "<tr><td>H2O connection url:</td>\n",
       "<td>http://172.16.2.48:54327</td></tr>\n",
       "<tr><td>H2O connection proxy:</td>\n",
       "<td>None</td></tr>\n",
       "<tr><td>H2O internal security:</td>\n",
       "<td>False</td></tr>\n",
       "<tr><td>H2O API Extensions:</td>\n",
       "<td>XGBoost, Algos, AutoML, Core V3, Core V4</td></tr>\n",
       "<tr><td>Python version:</td>\n",
       "<td>3.6.0 final</td></tr></table></div>"
      ],
      "text/plain": [
       "--------------------------  --------------------------------------------------\n",
       "H2O cluster uptime:         11 secs\n",
       "H2O cluster timezone:       America/Los_Angeles\n",
       "H2O data parsing timezone:  UTC\n",
       "H2O cluster version:        3.20.0.2\n",
       "H2O cluster version age:    1 month and 3 days\n",
       "H2O cluster name:           sparkling-water-megankurka_app-20180719165539-0000\n",
       "H2O cluster total nodes:    3\n",
       "H2O cluster free memory:    2.210 Gb\n",
       "H2O cluster total cores:    24\n",
       "H2O cluster allowed cores:  24\n",
       "H2O cluster status:         accepting new members, healthy\n",
       "H2O connection url:         http://172.16.2.48:54327\n",
       "H2O connection proxy:\n",
       "H2O internal security:      False\n",
       "H2O API Extensions:         XGBoost, Algos, AutoML, Core V3, Core V4\n",
       "Python version:             3.6.0 final\n",
       "--------------------------  --------------------------------------------------"
      ]
     },
     "metadata": {},
     "output_type": "display_data"
    },
    {
     "name": "stdout",
     "output_type": "stream",
     "text": [
      "\n",
      "Sparkling Water Context:\n",
      " * H2O name: sparkling-water-megankurka_app-20180719165539-0000\n",
      " * cluster size: 3\n",
      " * list of used nodes:\n",
      "  (executorId, host, port)\n",
      "  ------------------------\n",
      "  (2,172.16.2.48,54321)\n",
      "  (0,172.16.2.48,54323)\n",
      "  (1,172.16.2.48,54325)\n",
      "  ------------------------\n",
      "\n",
      "  Open H2O Flow in browser: http://172.16.2.48:54327 (CMD + click in Mac OSX)\n",
      "\n",
      "    \n"
     ]
    }
   ],
   "source": [
    "# Initiate H2OContext on top of Spark\n",
    "\n",
    "from pysparkling import *\n",
    "hc = H2OContext.getOrCreate(spark)"
   ]
  },
  {
   "cell_type": "code",
   "execution_count": 2,
   "metadata": {
    "collapsed": false
   },
   "outputs": [],
   "source": [
    "# Import data\n",
    "\n",
    "from pyspark.sql.types import *\n",
    "\n",
    "schema = StructType([StructField(\"Product_Code\", StringType(), True),\n",
    "                     StructField(\"Warehouse\", StringType(), True),\n",
    "                     StructField(\"Product_Category\", StringType(), True),\n",
    "                     StructField(\"Month\", DateType(), True),\n",
    "                     StructField(\"Total_Demand\", DoubleType(), True),\n",
    "                     StructField(\"Number_Orders\", DoubleType(), True)])\n",
    "\n",
    "# https://s3-us-west-2.amazonaws.com/h2o-tutorials/data/topics/time_series/product_demand/Monthly_Product_Demand.csv\n",
    "products_df = spark.read.csv(\"../../data/topics/time_series/product_demand/Monthly_Product_Demand.csv\", header = True, schema = schema)"
   ]
  },
  {
   "cell_type": "code",
   "execution_count": 3,
   "metadata": {
    "collapsed": false
   },
   "outputs": [
    {
     "name": "stdout",
     "output_type": "stream",
     "text": [
      "+------------+---------+----------------+----------+------------+-------------+\n",
      "|Product_Code|Warehouse|Product_Category|     Month|Total_Demand|Number_Orders|\n",
      "+------------+---------+----------------+----------+------------+-------------+\n",
      "|Product_0001|   Whse_A|    Category_005|2012-01-01|      6400.0|          7.0|\n",
      "|Product_0001|   Whse_A|    Category_005|2012-02-01|     10400.0|          5.0|\n",
      "|Product_0001|   Whse_A|    Category_005|2012-03-01|     11000.0|          6.0|\n",
      "|Product_0001|   Whse_A|    Category_005|2012-04-01|      1500.0|          2.0|\n",
      "|Product_0001|   Whse_A|    Category_005|2012-05-01|      8000.0|          4.0|\n",
      "+------------+---------+----------------+----------+------------+-------------+\n",
      "only showing top 5 rows\n",
      "\n"
     ]
    }
   ],
   "source": [
    "products_df.show(5)"
   ]
  },
  {
   "cell_type": "markdown",
   "metadata": {},
   "source": [
    "# Step 2 (of 8).  Exploratory Analysis\n",
    "\n",
    "We will start by exploring and analyzing our data.  We will first explore the data in PySpark and then do the same exploration in H2O. \n",
    "\n",
    "### PySpark Exploratory Analysis"
   ]
  },
  {
   "cell_type": "code",
   "execution_count": 4,
   "metadata": {
    "collapsed": false
   },
   "outputs": [
    {
     "name": "stdout",
     "output_type": "stream",
     "text": [
      "root\n",
      " |-- Product_Code: string (nullable = true)\n",
      " |-- Warehouse: string (nullable = true)\n",
      " |-- Product_Category: string (nullable = true)\n",
      " |-- Month: date (nullable = true)\n",
      " |-- Total_Demand: double (nullable = true)\n",
      " |-- Number_Orders: double (nullable = true)\n",
      "\n"
     ]
    }
   ],
   "source": [
    "# Data Schema\n",
    "products_df.printSchema()"
   ]
  },
  {
   "cell_type": "code",
   "execution_count": 5,
   "metadata": {
    "collapsed": false
   },
   "outputs": [
    {
     "name": "stdout",
     "output_type": "stream",
     "text": [
      "Number of rows:  160,750\n",
      "Number of columns:  6\n"
     ]
    }
   ],
   "source": [
    "# Dimensions\n",
    "print(\"Number of rows: \", \"{:,}\".format(products_df.count()))\n",
    "print(\"Number of columns: \", \"{:,}\".format(len(products_df.columns)))"
   ]
  },
  {
   "cell_type": "code",
   "execution_count": 6,
   "metadata": {
    "collapsed": false
   },
   "outputs": [
    {
     "name": "stdout",
     "output_type": "stream",
     "text": [
      "Number of Products:  2160\n"
     ]
    }
   ],
   "source": [
    "# Distinct Products\n",
    "print(\"Number of Products: \", products_df.select(\"Product_Code\").distinct().count())"
   ]
  },
  {
   "cell_type": "code",
   "execution_count": 7,
   "metadata": {
    "collapsed": false
   },
   "outputs": [
    {
     "name": "stdout",
     "output_type": "stream",
     "text": [
      "Number of Warehouses:  4\n"
     ]
    }
   ],
   "source": [
    "# Distinct Warehouses\n",
    "print(\"Number of Warehouses: \", products_df.select(\"Warehouse\").distinct().count())"
   ]
  },
  {
   "cell_type": "code",
   "execution_count": 8,
   "metadata": {
    "collapsed": false
   },
   "outputs": [
    {
     "name": "stdout",
     "output_type": "stream",
     "text": [
      "Demand Range:  -447500.0  to  10450000.0\n"
     ]
    }
   ],
   "source": [
    "# Range of Demand\n",
    "min_demand = products_df.agg({\"Total_Demand\": \"min\"}).collect()[0][0]\n",
    "max_demand = products_df.agg({\"Total_Demand\": \"max\"}).collect()[0][0]\n",
    "print(\"Demand Range: \", min_demand, \" to \", max_demand)"
   ]
  },
  {
   "cell_type": "code",
   "execution_count": 9,
   "metadata": {
    "collapsed": false
   },
   "outputs": [
    {
     "name": "stdout",
     "output_type": "stream",
     "text": [
      "Date Range:  2011-01-01  to  2017-01-01\n"
     ]
    }
   ],
   "source": [
    "# Date Range\n",
    "min_date = products_df.agg({\"Month\": \"min\"}).collect()[0][0]\n",
    "max_date = products_df.agg({\"Month\": \"max\"}).collect()[0][0]\n",
    "print(\"Date Range: \", min_date, \" to \", max_date)"
   ]
  },
  {
   "cell_type": "code",
   "execution_count": 10,
   "metadata": {
    "collapsed": false
   },
   "outputs": [
    {
     "name": "stdout",
     "output_type": "stream",
     "text": [
      "+------------+----------------+---------+---+\n",
      "|Product_Code|Product_Category|Warehouse|cnt|\n",
      "+------------+----------------+---------+---+\n",
      "|Product_0051|    Category_005|   Whse_J| 60|\n",
      "|Product_0425|    Category_019|   Whse_A| 60|\n",
      "|Product_0584|    Category_032|   Whse_J| 60|\n",
      "|Product_0586|    Category_032|   Whse_J| 60|\n",
      "|Product_0664|    Category_011|   Whse_J| 60|\n",
      "|Product_0703|    Category_001|   Whse_J| 60|\n",
      "|Product_0841|    Category_021|   Whse_J| 60|\n",
      "|Product_1089|    Category_020|   Whse_S| 58|\n",
      "|Product_1584|    Category_031|   Whse_A| 60|\n",
      "|Product_1625|    Category_019|   Whse_J| 58|\n",
      "|Product_1794|    Category_024|   Whse_S| 59|\n",
      "|Product_1846|    Category_006|   Whse_S| 59|\n",
      "|Product_1884|    Category_007|   Whse_J| 55|\n",
      "|Product_2157|    Category_022|   Whse_S| 61|\n",
      "|Product_0059|    Category_019|   Whse_J| 58|\n",
      "|Product_0187|    Category_007|   Whse_J| 60|\n",
      "|Product_0256|    Category_001|   Whse_J| 60|\n",
      "|Product_0388|    Category_025|   Whse_S| 23|\n",
      "|Product_0649|    Category_005|   Whse_J| 60|\n",
      "|Product_0690|    Category_011|   Whse_J| 60|\n",
      "+------------+----------------+---------+---+\n",
      "only showing top 20 rows\n",
      "\n"
     ]
    }
   ],
   "source": [
    "# Number of records per product and warehouse\n",
    "from pyspark.sql.functions import count, col \n",
    "cnts = products_df.groupBy(\"Product_Code\", \"Product_Category\", \"Warehouse\").agg(count(\"*\").alias(\"cnt\")).alias(\"cnts\")\n",
    "cnts.show()"
   ]
  },
  {
   "cell_type": "code",
   "execution_count": 11,
   "metadata": {
    "collapsed": false
   },
   "outputs": [
    {
     "data": {
      "text/plain": [
       "179"
      ]
     },
     "execution_count": 11,
     "metadata": {},
     "output_type": "execute_result"
    }
   ],
   "source": [
    "# Plot some of the time series data\n",
    "plot_data = products_df.where((products_df.Product_Code == \"Product_1846\"))\n",
    "plot_data.count()"
   ]
  },
  {
   "cell_type": "code",
   "execution_count": 12,
   "metadata": {
    "collapsed": false
   },
   "outputs": [],
   "source": [
    "plot_data = plot_data.toPandas()"
   ]
  },
  {
   "cell_type": "code",
   "execution_count": 13,
   "metadata": {
    "collapsed": false
   },
   "outputs": [
    {
     "data": {
      "text/html": [
       "<div>\n",
       "<table border=\"1\" class=\"dataframe\">\n",
       "  <thead>\n",
       "    <tr style=\"text-align: right;\">\n",
       "      <th></th>\n",
       "      <th>Product_Code</th>\n",
       "      <th>Warehouse</th>\n",
       "      <th>Product_Category</th>\n",
       "      <th>Month</th>\n",
       "      <th>Total_Demand</th>\n",
       "      <th>Number_Orders</th>\n",
       "    </tr>\n",
       "  </thead>\n",
       "  <tbody>\n",
       "    <tr>\n",
       "      <th>0</th>\n",
       "      <td>Product_1846</td>\n",
       "      <td>Whse_A</td>\n",
       "      <td>Category_006</td>\n",
       "      <td>2012-01-01</td>\n",
       "      <td>10000.0</td>\n",
       "      <td>2.0</td>\n",
       "    </tr>\n",
       "    <tr>\n",
       "      <th>1</th>\n",
       "      <td>Product_1846</td>\n",
       "      <td>Whse_A</td>\n",
       "      <td>Category_006</td>\n",
       "      <td>2012-02-01</td>\n",
       "      <td>11000.0</td>\n",
       "      <td>4.0</td>\n",
       "    </tr>\n",
       "    <tr>\n",
       "      <th>2</th>\n",
       "      <td>Product_1846</td>\n",
       "      <td>Whse_A</td>\n",
       "      <td>Category_006</td>\n",
       "      <td>2012-03-01</td>\n",
       "      <td>0.0</td>\n",
       "      <td>0.0</td>\n",
       "    </tr>\n",
       "    <tr>\n",
       "      <th>3</th>\n",
       "      <td>Product_1846</td>\n",
       "      <td>Whse_A</td>\n",
       "      <td>Category_006</td>\n",
       "      <td>2012-04-01</td>\n",
       "      <td>10000.0</td>\n",
       "      <td>1.0</td>\n",
       "    </tr>\n",
       "    <tr>\n",
       "      <th>4</th>\n",
       "      <td>Product_1846</td>\n",
       "      <td>Whse_A</td>\n",
       "      <td>Category_006</td>\n",
       "      <td>2012-05-01</td>\n",
       "      <td>4000.0</td>\n",
       "      <td>3.0</td>\n",
       "    </tr>\n",
       "  </tbody>\n",
       "</table>\n",
       "</div>"
      ],
      "text/plain": [
       "   Product_Code Warehouse Product_Category       Month  Total_Demand  \\\n",
       "0  Product_1846    Whse_A     Category_006  2012-01-01       10000.0   \n",
       "1  Product_1846    Whse_A     Category_006  2012-02-01       11000.0   \n",
       "2  Product_1846    Whse_A     Category_006  2012-03-01           0.0   \n",
       "3  Product_1846    Whse_A     Category_006  2012-04-01       10000.0   \n",
       "4  Product_1846    Whse_A     Category_006  2012-05-01        4000.0   \n",
       "\n",
       "   Number_Orders  \n",
       "0            2.0  \n",
       "1            4.0  \n",
       "2            0.0  \n",
       "3            1.0  \n",
       "4            3.0  "
      ]
     },
     "execution_count": 13,
     "metadata": {},
     "output_type": "execute_result"
    }
   ],
   "source": [
    "plot_data.head()"
   ]
  },
  {
   "cell_type": "code",
   "execution_count": 14,
   "metadata": {
    "collapsed": false
   },
   "outputs": [
    {
     "data": {
      "text/plain": [
       "<matplotlib.legend.Legend at 0x10dcd6f98>"
      ]
     },
     "execution_count": 14,
     "metadata": {},
     "output_type": "execute_result"
    },
    {
     "data": {
      "image/png": "[encoded data removed]",
      "text/plain": [
       "<matplotlib.figure.Figure at 0x10dcd6fd0>"
      ]
     },
     "metadata": {},
     "output_type": "display_data"
    }
   ],
   "source": [
    "%matplotlib inline\n",
    "import matplotlib.pyplot as plt\n",
    "\n",
    "fig, ax = plt.subplots(1,1);\n",
    "plot_data.groupby(\"Warehouse\").plot(x=\"Month\", y=\"Total_Demand\", ax=ax);\n",
    "plt.legend([v[0] for v in plot_data.groupby('Warehouse')['Warehouse']])"
   ]
  },
  {
   "cell_type": "markdown",
   "metadata": {},
   "source": [
    "### H2O Exploratory Analysis\n",
    "\n",
    "We will repeat the same exploratory analysis on the H2O Frame to show the differences in functionality."
   ]
  },
  {
   "cell_type": "code",
   "execution_count": 15,
   "metadata": {
    "collapsed": false
   },
   "outputs": [],
   "source": [
    "## Convert Spark DataFrame to H2O Frame\n",
    "\n",
    "import h2o\n",
    "products_hf = hc.as_h2o_frame(products_df, \"productsTable\")"
   ]
  },
  {
   "cell_type": "code",
   "execution_count": 16,
   "metadata": {
    "collapsed": false
   },
   "outputs": [
    {
     "name": "stdout",
     "output_type": "stream",
     "text": [
      "Rows:160750\n",
      "Cols:6\n",
      "\n",
      "\n"
     ]
    },
    {
     "data": {
      "text/html": [
       "<table>\n",
       "<thead>\n",
       "<tr><th>       </th><th>Product_Code  </th><th>Warehouse  </th><th>Product_Category  </th><th>Month              </th><th>Total_Demand      </th><th>Number_Orders     </th></tr>\n",
       "</thead>\n",
       "<tbody>\n",
       "<tr><td>type   </td><td>string        </td><td>string     </td><td>string            </td><td>time               </td><td>int               </td><td>int               </td></tr>\n",
       "<tr><td>mins   </td><td>NaN           </td><td>NaN        </td><td>NaN               </td><td>1293868800000.0    </td><td>-447500.0         </td><td>0.0               </td></tr>\n",
       "<tr><td>mean   </td><td>NaN           </td><td>NaN        </td><td>NaN               </td><td>1404129105249.1445 </td><td>31750.247160186555</td><td>6.453101088646986 </td></tr>\n",
       "<tr><td>maxs   </td><td>NaN           </td><td>NaN        </td><td>NaN               </td><td>1483257600000.0    </td><td>10450000.0        </td><td>360.0             </td></tr>\n",
       "<tr><td>sigma  </td><td>NaN           </td><td>NaN        </td><td>NaN               </td><td>44903973191.3951   </td><td>237129.89990964456</td><td>14.273056248626924</td></tr>\n",
       "<tr><td>zeros  </td><td>0             </td><td>0          </td><td>0                 </td><td>0                  </td><td>24909             </td><td>24724             </td></tr>\n",
       "<tr><td>missing</td><td>0             </td><td>0          </td><td>0                 </td><td>0                  </td><td>0                 </td><td>0                 </td></tr>\n",
       "<tr><td>0      </td><td>Product_0001  </td><td>Whse_A     </td><td>Category_005      </td><td>2012-01-01 08:00:00</td><td>6400.0            </td><td>7.0               </td></tr>\n",
       "<tr><td>1      </td><td>Product_0001  </td><td>Whse_A     </td><td>Category_005      </td><td>2012-02-01 08:00:00</td><td>10400.0           </td><td>5.0               </td></tr>\n",
       "<tr><td>2      </td><td>Product_0001  </td><td>Whse_A     </td><td>Category_005      </td><td>2012-03-01 08:00:00</td><td>11000.0           </td><td>6.0               </td></tr>\n",
       "<tr><td>3      </td><td>Product_0001  </td><td>Whse_A     </td><td>Category_005      </td><td>2012-04-01 07:00:00</td><td>1500.0            </td><td>2.0               </td></tr>\n",
       "<tr><td>4      </td><td>Product_0001  </td><td>Whse_A     </td><td>Category_005      </td><td>2012-05-01 07:00:00</td><td>8000.0            </td><td>4.0               </td></tr>\n",
       "<tr><td>5      </td><td>Product_0001  </td><td>Whse_A     </td><td>Category_005      </td><td>2012-06-01 07:00:00</td><td>2000.0            </td><td>1.0               </td></tr>\n",
       "<tr><td>6      </td><td>Product_0001  </td><td>Whse_A     </td><td>Category_005      </td><td>2012-07-01 07:00:00</td><td>8000.0            </td><td>3.0               </td></tr>\n",
       "<tr><td>7      </td><td>Product_0001  </td><td>Whse_A     </td><td>Category_005      </td><td>2012-08-01 07:00:00</td><td>6400.0            </td><td>8.0               </td></tr>\n",
       "<tr><td>8      </td><td>Product_0001  </td><td>Whse_A     </td><td>Category_005      </td><td>2012-09-01 07:00:00</td><td>5600.0            </td><td>5.0               </td></tr>\n",
       "<tr><td>9      </td><td>Product_0001  </td><td>Whse_A     </td><td>Category_005      </td><td>2012-10-01 07:00:00</td><td>11700.0           </td><td>8.0               </td></tr>\n",
       "</tbody>\n",
       "</table>"
      ]
     },
     "metadata": {},
     "output_type": "display_data"
    }
   ],
   "source": [
    "# Data Schema\n",
    "products_hf.describe()"
   ]
  },
  {
   "cell_type": "code",
   "execution_count": 17,
   "metadata": {
    "collapsed": true
   },
   "outputs": [],
   "source": [
    "# Convert String to Categorical\n",
    "cat_cols = [\"Product_Code\", \"Product_Category\", \"Warehouse\"]\n",
    "for i in cat_cols:\n",
    "    products_hf[i] = products_hf[i].asfactor()"
   ]
  },
  {
   "cell_type": "code",
   "execution_count": 18,
   "metadata": {
    "collapsed": false
   },
   "outputs": [
    {
     "name": "stdout",
     "output_type": "stream",
     "text": [
      "Number of rows:  160,750\n",
      "Number of columns:  6\n"
     ]
    }
   ],
   "source": [
    "# Dimensions\n",
    "print(\"Number of rows: \", \"{:,}\".format(products_hf.nrow))\n",
    "print(\"Number of columns: \", \"{:,}\".format(products_hf.ncol))"
   ]
  },
  {
   "cell_type": "code",
   "execution_count": 19,
   "metadata": {
    "collapsed": false
   },
   "outputs": [
    {
     "name": "stdout",
     "output_type": "stream",
     "text": [
      "Number of Products:  2160\n"
     ]
    }
   ],
   "source": [
    "# Number of unique products\n",
    "print(\"Number of Products: \", products_hf[\"Product_Code\"].table().nrow)"
   ]
  },
  {
   "cell_type": "code",
   "execution_count": 20,
   "metadata": {
    "collapsed": false
   },
   "outputs": [
    {
     "name": "stdout",
     "output_type": "stream",
     "text": [
      "Number of Warehouses:  4\n"
     ]
    }
   ],
   "source": [
    "# Number of unique warehouses\n",
    "print(\"Number of Warehouses: \", products_hf[\"Warehouse\"].table().nrow)"
   ]
  },
  {
   "cell_type": "code",
   "execution_count": 21,
   "metadata": {
    "collapsed": false
   },
   "outputs": [
    {
     "data": {
      "image/png": "[encoded data removed]",
      "text/plain": [
       "<matplotlib.figure.Figure at 0x10e96b908>"
      ]
     },
     "metadata": {},
     "output_type": "display_data"
    }
   ],
   "source": [
    "# Range of Demand\n",
    "products_hf[\"Total_Demand\"].hist()"
   ]
  },
  {
   "cell_type": "code",
   "execution_count": 22,
   "metadata": {
    "collapsed": false
   },
   "outputs": [
    {
     "name": "stdout",
     "output_type": "stream",
     "text": [
      "Date Range\n"
     ]
    },
    {
     "data": {
      "text/html": [
       "<table>\n",
       "<thead>\n",
       "<tr><th>Month              </th></tr>\n",
       "</thead>\n",
       "<tbody>\n",
       "<tr><td>2011-01-01 08:00:00</td></tr>\n",
       "<tr><td>2017-01-01 08:00:00</td></tr>\n",
       "</tbody>\n",
       "</table>"
      ]
     },
     "metadata": {},
     "output_type": "display_data"
    },
    {
     "name": "stdout",
     "output_type": "stream",
     "text": [
      "\n"
     ]
    }
   ],
   "source": [
    "# Date Range\n",
    "print(\"Date Range\")\n",
    "products_hf = products_hf.sort(\"Month\")\n",
    "print(products_hf[\"Month\"][[0, (products_hf.nrow - 1)], \"Month\"])"
   ]
  },
  {
   "cell_type": "code",
   "execution_count": 23,
   "metadata": {
    "collapsed": false
   },
   "outputs": [
    {
     "name": "stdout",
     "output_type": "stream",
     "text": [
      "Count per Product and Warehouse\n"
     ]
    },
    {
     "data": {
      "text/html": [
       "<table>\n",
       "<thead>\n",
       "<tr><th>Product_Code  </th><th>Product_Category  </th><th>Warehouse  </th><th style=\"text-align: right;\">  nrow</th></tr>\n",
       "</thead>\n",
       "<tbody>\n",
       "<tr><td>Product_0001  </td><td>Category_005      </td><td>Whse_A     </td><td style=\"text-align: right;\">    60</td></tr>\n",
       "<tr><td>Product_0001  </td><td>Category_005      </td><td>Whse_J     </td><td style=\"text-align: right;\">    61</td></tr>\n",
       "<tr><td>Product_0002  </td><td>Category_005      </td><td>Whse_C     </td><td style=\"text-align: right;\">    61</td></tr>\n",
       "<tr><td>Product_0002  </td><td>Category_005      </td><td>Whse_S     </td><td style=\"text-align: right;\">    61</td></tr>\n",
       "<tr><td>Product_0003  </td><td>Category_005      </td><td>Whse_J     </td><td style=\"text-align: right;\">    60</td></tr>\n",
       "<tr><td>Product_0003  </td><td>Category_005      </td><td>Whse_S     </td><td style=\"text-align: right;\">    58</td></tr>\n",
       "<tr><td>Product_0004  </td><td>Category_005      </td><td>Whse_J     </td><td style=\"text-align: right;\">    60</td></tr>\n",
       "<tr><td>Product_0005  </td><td>Category_005      </td><td>Whse_J     </td><td style=\"text-align: right;\">    54</td></tr>\n",
       "<tr><td>Product_0006  </td><td>Category_005      </td><td>Whse_J     </td><td style=\"text-align: right;\">    52</td></tr>\n",
       "<tr><td>Product_0007  </td><td>Category_005      </td><td>Whse_J     </td><td style=\"text-align: right;\">    60</td></tr>\n",
       "</tbody>\n",
       "</table>"
      ]
     },
     "metadata": {},
     "output_type": "display_data"
    },
    {
     "data": {
      "text/plain": []
     },
     "execution_count": 23,
     "metadata": {},
     "output_type": "execute_result"
    }
   ],
   "source": [
    "# Count per Product and Warehouse\n",
    "print(\"Count per Product and Warehouse\")\n",
    "cnts = products_hf.group_by([\"Product_Code\", \"Product_Category\", \"Warehouse\"]).count().get_frame()\n",
    "cnts.head()"
   ]
  },
  {
   "cell_type": "markdown",
   "metadata": {},
   "source": [
    "# Step 3 (of 8).  Feature Engineering\n",
    "\n",
    "We will add new features to our data that can help predict the Demand for a given product and warehouse.  Features that tell us:\n",
    "* what was the Demand for a product and warehouse last month, two months ago, three months ago, etc?  \n",
    "* what was the Number of Order for a product and warehouse last month?\n",
    "\n",
    "can be very predictive in forecasting.  To create these features we will use PySpark's window function."
   ]
  },
  {
   "cell_type": "code",
   "execution_count": 24,
   "metadata": {
    "collapsed": false
   },
   "outputs": [],
   "source": [
    "## Add Total Demand from the Previous month, Previous 2 months, Previous 3 months, etc per Product and Warehouse\n",
    "from pyspark.sql.functions import lag, col\n",
    "from pyspark.sql.window import Window\n",
    "\n",
    "w = Window().partitionBy([col(x) for x in [\"Product_Code\", \"Product_Category\", \"Warehouse\"]]).orderBy(col(\"Month\"))\n",
    "ext_products_df = products_df.select(\"*\", lag(\"Total_Demand\", count = 1).over(w).alias(\"Demand_lag1\"),\n",
    "                                     lag(\"Total_Demand\", count = 2).over(w).alias(\"Demand_lag2\"),\n",
    "                                     lag(\"Total_Demand\", count = 3).over(w).alias(\"Demand_lag3\"),\n",
    "                                     lag(\"Total_Demand\", count = 4).over(w).alias(\"Demand_lag4\"),\n",
    "                                     lag(\"Total_Demand\", count = 5).over(w).alias(\"Demand_lag5\"),\n",
    "                                     lag(\"Total_Demand\", count = 6).over(w).alias(\"Demand_lag6\"),\n",
    "                                     lag(\"Total_Demand\", count = 12).over(w).alias(\"Demand_lag12\")).na.drop()"
   ]
  },
  {
   "cell_type": "code",
   "execution_count": 25,
   "metadata": {
    "collapsed": false
   },
   "outputs": [
    {
     "name": "stdout",
     "output_type": "stream",
     "text": [
      "+------------+---------+----------------+----------+------------+-------------+-----------+-----------+-----------+-----------+-----------+-----------+------------+\n",
      "|Product_Code|Warehouse|Product_Category|     Month|Total_Demand|Number_Orders|Demand_lag1|Demand_lag2|Demand_lag3|Demand_lag4|Demand_lag5|Demand_lag6|Demand_lag12|\n",
      "+------------+---------+----------------+----------+------------+-------------+-----------+-----------+-----------+-----------+-----------+-----------+------------+\n",
      "|Product_0051|   Whse_J|    Category_005|2013-01-01|      2000.0|          3.0|     4000.0|     3525.0|     2000.0|      575.0|     1000.0|     1500.0|      2000.0|\n",
      "|Product_0051|   Whse_J|    Category_005|2013-02-01|      3500.0|          3.0|     2000.0|     4000.0|     3525.0|     2000.0|      575.0|     1000.0|      2525.0|\n",
      "|Product_0051|   Whse_J|    Category_005|2013-03-01|      2525.0|          4.0|     3500.0|     2000.0|     4000.0|     3525.0|     2000.0|      575.0|      2000.0|\n",
      "|Product_0051|   Whse_J|    Category_005|2013-04-01|      3050.0|          3.0|     2525.0|     3500.0|     2000.0|     4000.0|     3525.0|     2000.0|      2600.0|\n",
      "|Product_0051|   Whse_J|    Category_005|2013-05-01|      1050.0|          3.0|     3050.0|     2525.0|     3500.0|     2000.0|     4000.0|     3525.0|      2500.0|\n",
      "|Product_0051|   Whse_J|    Category_005|2013-06-01|      1025.0|          2.0|     1050.0|     3050.0|     2525.0|     3500.0|     2000.0|     4000.0|      2500.0|\n",
      "|Product_0051|   Whse_J|    Category_005|2013-07-01|      3550.0|          4.0|     1025.0|     1050.0|     3050.0|     2525.0|     3500.0|     2000.0|      1500.0|\n",
      "|Product_0051|   Whse_J|    Category_005|2013-08-01|      3050.0|          6.0|     3550.0|     1025.0|     1050.0|     3050.0|     2525.0|     3500.0|      1000.0|\n",
      "|Product_0051|   Whse_J|    Category_005|2013-09-01|      2025.0|          2.0|     3050.0|     3550.0|     1025.0|     1050.0|     3050.0|     2525.0|       575.0|\n",
      "|Product_0051|   Whse_J|    Category_005|2013-10-01|      4175.0|          4.0|     2025.0|     3050.0|     3550.0|     1025.0|     1050.0|     3050.0|      2000.0|\n",
      "|Product_0051|   Whse_J|    Category_005|2013-11-01|      3125.0|          5.0|     4175.0|     2025.0|     3050.0|     3550.0|     1025.0|     1050.0|      3525.0|\n",
      "|Product_0051|   Whse_J|    Category_005|2013-12-01|      3500.0|          2.0|     3125.0|     4175.0|     2025.0|     3050.0|     3550.0|     1025.0|      4000.0|\n",
      "|Product_0051|   Whse_J|    Category_005|2014-01-01|       550.0|          2.0|     3500.0|     3125.0|     4175.0|     2025.0|     3050.0|     3550.0|      2000.0|\n",
      "|Product_0051|   Whse_J|    Category_005|2014-02-01|      4025.0|          3.0|      550.0|     3500.0|     3125.0|     4175.0|     2025.0|     3050.0|      3500.0|\n",
      "|Product_0051|   Whse_J|    Category_005|2014-03-01|     10000.0|          3.0|     4025.0|      550.0|     3500.0|     3125.0|     4175.0|     2025.0|      2525.0|\n",
      "|Product_0051|   Whse_J|    Category_005|2014-04-01|      2025.0|          2.0|    10000.0|     4025.0|      550.0|     3500.0|     3125.0|     4175.0|      3050.0|\n",
      "|Product_0051|   Whse_J|    Category_005|2014-05-01|      2025.0|          2.0|     2025.0|    10000.0|     4025.0|      550.0|     3500.0|     3125.0|      1050.0|\n",
      "|Product_0051|   Whse_J|    Category_005|2014-06-01|      2150.0|          4.0|     2025.0|     2025.0|    10000.0|     4025.0|      550.0|     3500.0|      1025.0|\n",
      "|Product_0051|   Whse_J|    Category_005|2014-07-01|     10000.0|          2.0|     2150.0|     2025.0|     2025.0|    10000.0|     4025.0|      550.0|      3550.0|\n",
      "|Product_0051|   Whse_J|    Category_005|2014-08-01|         0.0|          0.0|    10000.0|     2150.0|     2025.0|     2025.0|    10000.0|     4025.0|      3050.0|\n",
      "+------------+---------+----------------+----------+------------+-------------+-----------+-----------+-----------+-----------+-----------+-----------+------------+\n",
      "only showing top 20 rows\n",
      "\n"
     ]
    }
   ],
   "source": [
    "ext_products_df.show()"
   ]
  },
  {
   "cell_type": "code",
   "execution_count": 26,
   "metadata": {
    "collapsed": true
   },
   "outputs": [],
   "source": [
    "## Add Number of Orders for Previous month per Product and Warehouse\n",
    "\n",
    "ext_products_df = ext_products_df.select(\"*\", lag(\"Number_Orders\", count = 1).over(w).alias(\"Number_Orders_lag1\")).na.drop()"
   ]
  },
  {
   "cell_type": "code",
   "execution_count": 27,
   "metadata": {
    "collapsed": true
   },
   "outputs": [],
   "source": [
    "## Convert Spark DataFrame to H2O Frame\n",
    "ext_products_hf = hc.as_h2o_frame(ext_products_df, \"productsWithLagsTable\")"
   ]
  },
  {
   "cell_type": "code",
   "execution_count": 28,
   "metadata": {
    "collapsed": true
   },
   "outputs": [],
   "source": [
    "# Convert String to Categorical\n",
    "for i in cat_cols:\n",
    "    ext_products_hf[i] = ext_products_hf[i].asfactor()"
   ]
  },
  {
   "cell_type": "markdown",
   "metadata": {},
   "source": [
    "# Step 4 (of 8).  Train baseline model\n",
    "\n",
    "We will begin our machine learning section by training a model using solely our original data.  We will use this model as a baseline to compare the performance of new models with additional features."
   ]
  },
  {
   "cell_type": "code",
   "execution_count": 29,
   "metadata": {
    "collapsed": true
   },
   "outputs": [],
   "source": [
    "# Set Predictors\n",
    "predictors = [\"Product_Code\", \"Warehouse\", \"Product_Category\"]\n",
    "response = \"Total_Demand\""
   ]
  },
  {
   "cell_type": "code",
   "execution_count": 30,
   "metadata": {
    "collapsed": false
   },
   "outputs": [],
   "source": [
    "# Split data into training and testing by time\n",
    "\n",
    "train = ext_products_hf[ext_products_hf[\"Month\"].year() < 2015]\n",
    "test = ext_products_hf[ext_products_hf[\"Month\"].year() == 2015]"
   ]
  },
  {
   "cell_type": "code",
   "execution_count": 31,
   "metadata": {
    "collapsed": false
   },
   "outputs": [
    {
     "name": "stdout",
     "output_type": "stream",
     "text": [
      "gbm Model Build progress: |███████████████████████████████████████████████| 100%\n"
     ]
    }
   ],
   "source": [
    "# Train GBM Model with Early Stopping\n",
    "\n",
    "from h2o.estimators import H2OGradientBoostingEstimator\n",
    "baseline_model = H2OGradientBoostingEstimator(model_id = \"baseline_model.hex\",\n",
    "                                              stopping_rounds = 3, stopping_metric = \"MAE\",\n",
    "                                              score_tree_interval = 10, ntrees = 500)\n",
    "baseline_model.train(x = predictors,\n",
    "                     y = response,\n",
    "                     training_frame = train,\n",
    "                     validation_frame = test)"
   ]
  },
  {
   "cell_type": "code",
   "execution_count": 32,
   "metadata": {
    "collapsed": false
   },
   "outputs": [
    {
     "data": {
      "image/png": "[encoded data removed]",
      "text/plain": [
       "<matplotlib.figure.Figure at 0x10ec63240>"
      ]
     },
     "metadata": {},
     "output_type": "display_data"
    }
   ],
   "source": [
    "baseline_model.plot()"
   ]
  },
  {
   "cell_type": "code",
   "execution_count": 33,
   "metadata": {
    "collapsed": false
   },
   "outputs": [
    {
     "name": "stdout",
     "output_type": "stream",
     "text": [
      "Baseline - MAE: 14,524\n"
     ]
    }
   ],
   "source": [
    "print(\"Baseline - MAE: \" + \"{:,}\".format(round(baseline_model.mae(valid = True))))"
   ]
  },
  {
   "cell_type": "markdown",
   "metadata": {},
   "source": [
    "# Step 5 (of 8).  Train model with lags\n",
    "\n",
    "We will see if we can improve our model by adding our lag features as new predictors."
   ]
  },
  {
   "cell_type": "code",
   "execution_count": 34,
   "metadata": {
    "collapsed": false,
    "scrolled": true
   },
   "outputs": [
    {
     "data": {
      "text/plain": [
       "['Warehouse',\n",
       " 'Demand_lag4',\n",
       " 'Number_Orders_lag1',\n",
       " 'Month',\n",
       " 'Product_Category',\n",
       " 'Demand_lag12',\n",
       " 'Product_Code',\n",
       " 'Demand_lag5',\n",
       " 'Demand_lag6',\n",
       " 'Demand_lag2',\n",
       " 'Demand_lag3',\n",
       " 'Demand_lag1']"
      ]
     },
     "execution_count": 34,
     "metadata": {},
     "output_type": "execute_result"
    }
   ],
   "source": [
    "# Add Lag Predictors\n",
    "ext_predictors = list(set(train.col_names) - set([\"Total_Demand\", \"Number_Orders\"]))\n",
    "ext_predictors"
   ]
  },
  {
   "cell_type": "code",
   "execution_count": 35,
   "metadata": {
    "collapsed": false
   },
   "outputs": [
    {
     "name": "stdout",
     "output_type": "stream",
     "text": [
      "gbm Model Build progress: |███████████████████████████████████████████████| 100%\n"
     ]
    }
   ],
   "source": [
    "# Train GBM Model with Early Stopping\n",
    "\n",
    "lag_features_v1 = H2OGradientBoostingEstimator(model_id = \"lag_features_v1.hex\",\n",
    "                                              stopping_rounds = 3,  stopping_metric = \"MAE\",\n",
    "                                              score_tree_interval = 10, ntrees = 500)\n",
    "lag_features_v1.train(x = ext_predictors,\n",
    "                      y = response,\n",
    "                      training_frame = train,\n",
    "                      validation_frame = test)"
   ]
  },
  {
   "cell_type": "code",
   "execution_count": 36,
   "metadata": {
    "collapsed": false
   },
   "outputs": [
    {
     "data": {
      "image/png": "[encoded data removed]",
      "text/plain": [
       "<matplotlib.figure.Figure at 0x10e9804a8>"
      ]
     },
     "metadata": {},
     "output_type": "display_data"
    }
   ],
   "source": [
    "lag_features_v1.plot()"
   ]
  },
  {
   "cell_type": "code",
   "execution_count": 37,
   "metadata": {
    "collapsed": false
   },
   "outputs": [
    {
     "name": "stdout",
     "output_type": "stream",
     "text": [
      "Baseline - MAE: 14,524\n",
      "Lag Features - MAE: 13,091\n"
     ]
    }
   ],
   "source": [
    "print(\"Baseline - MAE: \" + \"{:,}\".format(round(baseline_model.mae(valid = True))))\n",
    "print(\"Lag Features - MAE: \" + \"{:,}\".format(round(lag_features_v1.mae(valid = True))))"
   ]
  },
  {
   "cell_type": "markdown",
   "metadata": {},
   "source": [
    "The graph below shows the variable importance for the gradient boosted model.  The most important predictors are the demand lags.  We can use the partial dependency plots to see the relationship between these features and the model's prediction."
   ]
  },
  {
   "cell_type": "code",
   "execution_count": 38,
   "metadata": {
    "collapsed": false,
    "scrolled": true
   },
   "outputs": [
    {
     "data": {
      "image/png": "[encoded data removed]",
      "text/plain": [
       "<matplotlib.figure.Figure at 0x10eece588>"
      ]
     },
     "metadata": {},
     "output_type": "display_data"
    }
   ],
   "source": [
    "%matplotlib inline\n",
    "lag_features_v1.varimp_plot(num_of_features = 10)"
   ]
  },
  {
   "cell_type": "code",
   "execution_count": 39,
   "metadata": {
    "collapsed": false
   },
   "outputs": [
    {
     "name": "stdout",
     "output_type": "stream",
     "text": [
      "PartialDependencePlot progress: |█████████████████████████████████████████| 100%\n"
     ]
    },
    {
     "data": {
      "image/png": "[encoded data removed]",
      "text/plain": [
       "<matplotlib.figure.Figure at 0x10ec630f0>"
      ]
     },
     "metadata": {},
     "output_type": "display_data"
    }
   ],
   "source": [
    "# Filter data to common demand\n",
    "max_demand = train[\"Total_Demand\"].quantile(prob = [0.9])[0, 1]\n",
    "pdp_data = train[(train[\"Demand_lag3\"] < max_demand) & (train[\"Demand_lag3\"] >= 0)]\n",
    "# create pdp's\n",
    "pdps = lag_features_v1.partial_plot(data = pdp_data, cols = [\"Demand_lag3\"])"
   ]
  },
  {
   "cell_type": "markdown",
   "metadata": {},
   "source": [
    "The partial plots show that the Demand from last quarter is related to the current month Demand."
   ]
  },
  {
   "cell_type": "markdown",
   "metadata": {},
   "source": [
    "# Step 6 (of 8).  Train Model with Additional Features\n",
    "\n",
    "We will now use H2O to add additional features such as the change in demand over days.\n",
    "\n",
    "A feature we would like to add is the average demand for product, warehouse, and product & warehouse.  Using the actual demand when calculating the average, however, can result in data leakage.  Instead we will calculate the average of the previous month's Demand."
   ]
  },
  {
   "cell_type": "code",
   "execution_count": 40,
   "metadata": {
    "collapsed": true
   },
   "outputs": [],
   "source": [
    "# Average Demand Lag 1 by Product & Warehouse\n",
    "avg_demand_group = ext_products_hf.group_by([\"Product_Code\", \"Product_Category\", \"Warehouse\"]).mean([\"Demand_lag1\"])\n",
    "avg_demand_group = avg_demand_group.get_frame()\n",
    "avg_demand_group.col_names = [\"Product_Code\", \"Product_Category\", \"Warehouse\", \"mean_Demand_lag1_Product_Warehouse\"]"
   ]
  },
  {
   "cell_type": "code",
   "execution_count": 41,
   "metadata": {
    "collapsed": false
   },
   "outputs": [
    {
     "data": {
      "text/html": [
       "<table>\n",
       "<thead>\n",
       "<tr><th>Product_Code  </th><th>Product_Category  </th><th>Warehouse  </th><th style=\"text-align: right;\">  mean_Demand_lag1_Product_Warehouse</th></tr>\n",
       "</thead>\n",
       "<tbody>\n",
       "<tr><td>Product_0001  </td><td>Category_005      </td><td>Whse_A     </td><td style=\"text-align: right;\">                            5617.02 </td></tr>\n",
       "<tr><td>Product_0001  </td><td>Category_005      </td><td>Whse_J     </td><td style=\"text-align: right;\">                            1604.17 </td></tr>\n",
       "<tr><td>Product_0002  </td><td>Category_005      </td><td>Whse_C     </td><td style=\"text-align: right;\">                            2927.08 </td></tr>\n",
       "<tr><td>Product_0002  </td><td>Category_005      </td><td>Whse_S     </td><td style=\"text-align: right;\">                          150792    </td></tr>\n",
       "<tr><td>Product_0003  </td><td>Category_005      </td><td>Whse_J     </td><td style=\"text-align: right;\">                            1823.4  </td></tr>\n",
       "<tr><td>Product_0003  </td><td>Category_005      </td><td>Whse_S     </td><td style=\"text-align: right;\">                             344.444</td></tr>\n",
       "<tr><td>Product_0004  </td><td>Category_005      </td><td>Whse_J     </td><td style=\"text-align: right;\">                            2474.47 </td></tr>\n",
       "<tr><td>Product_0005  </td><td>Category_005      </td><td>Whse_J     </td><td style=\"text-align: right;\">                             392.683</td></tr>\n",
       "<tr><td>Product_0006  </td><td>Category_005      </td><td>Whse_J     </td><td style=\"text-align: right;\">                             133.333</td></tr>\n",
       "<tr><td>Product_0007  </td><td>Category_005      </td><td>Whse_J     </td><td style=\"text-align: right;\">                            3342.55 </td></tr>\n",
       "</tbody>\n",
       "</table>"
      ]
     },
     "metadata": {},
     "output_type": "display_data"
    },
    {
     "data": {
      "text/plain": []
     },
     "execution_count": 41,
     "metadata": {},
     "output_type": "execute_result"
    }
   ],
   "source": [
    "avg_demand_group.head()"
   ]
  },
  {
   "cell_type": "code",
   "execution_count": 42,
   "metadata": {
    "collapsed": false
   },
   "outputs": [
    {
     "data": {
      "text/html": [
       "<table>\n",
       "<thead>\n",
       "<tr><th>Warehouse  </th><th style=\"text-align: right;\">  mean_Demand_lag1_Warehouse</th></tr>\n",
       "</thead>\n",
       "<tbody>\n",
       "<tr><td>Whse_A     </td><td style=\"text-align: right;\">                     6173.64</td></tr>\n",
       "<tr><td>Whse_C     </td><td style=\"text-align: right;\">                    43603.4 </td></tr>\n",
       "<tr><td>Whse_J     </td><td style=\"text-align: right;\">                    37219.7 </td></tr>\n",
       "<tr><td>Whse_S     </td><td style=\"text-align: right;\">                    36090.1 </td></tr>\n",
       "</tbody>\n",
       "</table>"
      ]
     },
     "metadata": {},
     "output_type": "display_data"
    },
    {
     "data": {
      "text/plain": []
     },
     "execution_count": 42,
     "metadata": {},
     "output_type": "execute_result"
    }
   ],
   "source": [
    "# Average Demand Lag 1 by Warehouse\n",
    "avg_demand_warehouse = ext_products_hf.group_by([\"Warehouse\"]).mean([\"Demand_lag1\"]).get_frame()\n",
    "avg_demand_warehouse.col_names = [\"Warehouse\", \"mean_Demand_lag1_Warehouse\"]\n",
    "avg_demand_warehouse.head()"
   ]
  },
  {
   "cell_type": "code",
   "execution_count": 43,
   "metadata": {
    "collapsed": false
   },
   "outputs": [
    {
     "data": {
      "text/html": [
       "<table>\n",
       "<thead>\n",
       "<tr><th>Product_Code  </th><th style=\"text-align: right;\">  mean_Demand_lag1_Product</th></tr>\n",
       "</thead>\n",
       "<tbody>\n",
       "<tr><td>Product_0001  </td><td style=\"text-align: right;\">                  3589.47 </td></tr>\n",
       "<tr><td>Product_0002  </td><td style=\"text-align: right;\">                 76859.4  </td></tr>\n",
       "<tr><td>Product_0003  </td><td style=\"text-align: right;\">                  1100    </td></tr>\n",
       "<tr><td>Product_0004  </td><td style=\"text-align: right;\">                  2474.47 </td></tr>\n",
       "<tr><td>Product_0005  </td><td style=\"text-align: right;\">                   392.683</td></tr>\n",
       "<tr><td>Product_0006  </td><td style=\"text-align: right;\">                   133.333</td></tr>\n",
       "<tr><td>Product_0007  </td><td style=\"text-align: right;\">                  3342.55 </td></tr>\n",
       "<tr><td>Product_0008  </td><td style=\"text-align: right;\">                  4218.09 </td></tr>\n",
       "<tr><td>Product_0009  </td><td style=\"text-align: right;\">                   782.979</td></tr>\n",
       "<tr><td>Product_0010  </td><td style=\"text-align: right;\">                  1553.19 </td></tr>\n",
       "</tbody>\n",
       "</table>"
      ]
     },
     "metadata": {},
     "output_type": "display_data"
    },
    {
     "data": {
      "text/plain": []
     },
     "execution_count": 43,
     "metadata": {},
     "output_type": "execute_result"
    }
   ],
   "source": [
    "# Average Demand Lag 1 by Product\n",
    "avg_demand_product = ext_products_hf.group_by([\"Product_Code\"]).mean([\"Demand_lag1\"]).get_frame()\n",
    "avg_demand_product.col_names = [\"Product_Code\", \"mean_Demand_lag1_Product\"]\n",
    "avg_demand_product.head()"
   ]
  },
  {
   "cell_type": "code",
   "execution_count": 44,
   "metadata": {
    "collapsed": false
   },
   "outputs": [
    {
     "data": {
      "text/html": [
       "<table>\n",
       "<thead>\n",
       "<tr><th>Product_Category  </th><th style=\"text-align: right;\">  mean_Demand_lag1_ProductCat</th></tr>\n",
       "</thead>\n",
       "<tbody>\n",
       "<tr><td>Category_001      </td><td style=\"text-align: right;\">                     102.99  </td></tr>\n",
       "<tr><td>Category_002      </td><td style=\"text-align: right;\">                      16.5238</td></tr>\n",
       "<tr><td>Category_003      </td><td style=\"text-align: right;\">                     537.911 </td></tr>\n",
       "<tr><td>Category_004      </td><td style=\"text-align: right;\">                    1932.69  </td></tr>\n",
       "<tr><td>Category_005      </td><td style=\"text-align: right;\">                   15011.7   </td></tr>\n",
       "<tr><td>Category_006      </td><td style=\"text-align: right;\">                   51413     </td></tr>\n",
       "<tr><td>Category_007      </td><td style=\"text-align: right;\">                   11585.3   </td></tr>\n",
       "<tr><td>Category_008      </td><td style=\"text-align: right;\">                      37.7217</td></tr>\n",
       "<tr><td>Category_009      </td><td style=\"text-align: right;\">                     522.301 </td></tr>\n",
       "<tr><td>Category_010      </td><td style=\"text-align: right;\">                      40.0836</td></tr>\n",
       "</tbody>\n",
       "</table>"
      ]
     },
     "metadata": {},
     "output_type": "display_data"
    },
    {
     "data": {
      "text/plain": []
     },
     "execution_count": 44,
     "metadata": {},
     "output_type": "execute_result"
    }
   ],
   "source": [
    "# Average Demand Lag 1 by Product Category\n",
    "avg_demand_product_cat = ext_products_hf.group_by([\"Product_Category\"]).mean([\"Demand_lag1\"]).get_frame()\n",
    "avg_demand_product_cat.col_names = [\"Product_Category\", \"mean_Demand_lag1_ProductCat\"]\n",
    "avg_demand_product_cat.head()"
   ]
  },
  {
   "cell_type": "code",
   "execution_count": 45,
   "metadata": {
    "collapsed": false
   },
   "outputs": [],
   "source": [
    "# Merge averages to our original frame\n",
    "ext_products_hf = ext_products_hf.merge(avg_demand_group, all_x = True, all_y = False)\n",
    "ext_products_hf = ext_products_hf.merge(avg_demand_warehouse, all_x = True, all_y = False)\n",
    "ext_products_hf = ext_products_hf.merge(avg_demand_product, all_x = True, all_y = False)\n",
    "ext_products_hf = ext_products_hf.merge(avg_demand_product_cat, all_x = True, all_y = False)"
   ]
  },
  {
   "cell_type": "code",
   "execution_count": 46,
   "metadata": {
    "collapsed": false
   },
   "outputs": [
    {
     "data": {
      "text/html": [
       "<table>\n",
       "<thead>\n",
       "<tr><th>Product_Category  </th><th>Product_Code  </th><th>Warehouse  </th><th>Month              </th><th style=\"text-align: right;\">  Total_Demand</th><th style=\"text-align: right;\">  Number_Orders</th><th style=\"text-align: right;\">  Demand_lag1</th><th style=\"text-align: right;\">  Demand_lag2</th><th style=\"text-align: right;\">  Demand_lag3</th><th style=\"text-align: right;\">  Demand_lag4</th><th style=\"text-align: right;\">  Demand_lag5</th><th style=\"text-align: right;\">  Demand_lag6</th><th style=\"text-align: right;\">  Demand_lag12</th><th style=\"text-align: right;\">  Number_Orders_lag1</th><th style=\"text-align: right;\">  mean_Demand_lag1_Product_Warehouse</th><th style=\"text-align: right;\">  mean_Demand_lag1_Warehouse</th><th style=\"text-align: right;\">  mean_Demand_lag1_Product</th><th style=\"text-align: right;\">  mean_Demand_lag1_ProductCat</th></tr>\n",
       "</thead>\n",
       "<tbody>\n",
       "<tr><td>Category_001      </td><td>Product_0256  </td><td>Whse_J     </td><td>2013-02-01 08:00:00</td><td style=\"text-align: right;\">             3</td><td style=\"text-align: right;\">              2</td><td style=\"text-align: right;\">            6</td><td style=\"text-align: right;\">            1</td><td style=\"text-align: right;\">            7</td><td style=\"text-align: right;\">            8</td><td style=\"text-align: right;\">           10</td><td style=\"text-align: right;\">            9</td><td style=\"text-align: right;\">             7</td><td style=\"text-align: right;\">                   6</td><td style=\"text-align: right;\">                             6.14894</td><td style=\"text-align: right;\">                     37219.7</td><td style=\"text-align: right;\">                   6.14894</td><td style=\"text-align: right;\">                       102.99</td></tr>\n",
       "<tr><td>Category_001      </td><td>Product_0256  </td><td>Whse_J     </td><td>2013-03-01 08:00:00</td><td style=\"text-align: right;\">             4</td><td style=\"text-align: right;\">              4</td><td style=\"text-align: right;\">            3</td><td style=\"text-align: right;\">            6</td><td style=\"text-align: right;\">            1</td><td style=\"text-align: right;\">            7</td><td style=\"text-align: right;\">            8</td><td style=\"text-align: right;\">           10</td><td style=\"text-align: right;\">             6</td><td style=\"text-align: right;\">                   2</td><td style=\"text-align: right;\">                             6.14894</td><td style=\"text-align: right;\">                     37219.7</td><td style=\"text-align: right;\">                   6.14894</td><td style=\"text-align: right;\">                       102.99</td></tr>\n",
       "<tr><td>Category_001      </td><td>Product_0256  </td><td>Whse_J     </td><td>2013-04-01 07:00:00</td><td style=\"text-align: right;\">             7</td><td style=\"text-align: right;\">              3</td><td style=\"text-align: right;\">            4</td><td style=\"text-align: right;\">            3</td><td style=\"text-align: right;\">            6</td><td style=\"text-align: right;\">            1</td><td style=\"text-align: right;\">            7</td><td style=\"text-align: right;\">            8</td><td style=\"text-align: right;\">             2</td><td style=\"text-align: right;\">                   4</td><td style=\"text-align: right;\">                             6.14894</td><td style=\"text-align: right;\">                     37219.7</td><td style=\"text-align: right;\">                   6.14894</td><td style=\"text-align: right;\">                       102.99</td></tr>\n",
       "<tr><td>Category_001      </td><td>Product_0256  </td><td>Whse_J     </td><td>2013-05-01 07:00:00</td><td style=\"text-align: right;\">             8</td><td style=\"text-align: right;\">              6</td><td style=\"text-align: right;\">            7</td><td style=\"text-align: right;\">            4</td><td style=\"text-align: right;\">            3</td><td style=\"text-align: right;\">            6</td><td style=\"text-align: right;\">            1</td><td style=\"text-align: right;\">            7</td><td style=\"text-align: right;\">             1</td><td style=\"text-align: right;\">                   3</td><td style=\"text-align: right;\">                             6.14894</td><td style=\"text-align: right;\">                     37219.7</td><td style=\"text-align: right;\">                   6.14894</td><td style=\"text-align: right;\">                       102.99</td></tr>\n",
       "<tr><td>Category_001      </td><td>Product_0256  </td><td>Whse_J     </td><td>2013-06-01 07:00:00</td><td style=\"text-align: right;\">             2</td><td style=\"text-align: right;\">              2</td><td style=\"text-align: right;\">            8</td><td style=\"text-align: right;\">            7</td><td style=\"text-align: right;\">            4</td><td style=\"text-align: right;\">            3</td><td style=\"text-align: right;\">            6</td><td style=\"text-align: right;\">            1</td><td style=\"text-align: right;\">             1</td><td style=\"text-align: right;\">                   6</td><td style=\"text-align: right;\">                             6.14894</td><td style=\"text-align: right;\">                     37219.7</td><td style=\"text-align: right;\">                   6.14894</td><td style=\"text-align: right;\">                       102.99</td></tr>\n",
       "<tr><td>Category_001      </td><td>Product_0256  </td><td>Whse_J     </td><td>2013-07-01 07:00:00</td><td style=\"text-align: right;\">             1</td><td style=\"text-align: right;\">              1</td><td style=\"text-align: right;\">            2</td><td style=\"text-align: right;\">            8</td><td style=\"text-align: right;\">            7</td><td style=\"text-align: right;\">            4</td><td style=\"text-align: right;\">            3</td><td style=\"text-align: right;\">            6</td><td style=\"text-align: right;\">             7</td><td style=\"text-align: right;\">                   2</td><td style=\"text-align: right;\">                             6.14894</td><td style=\"text-align: right;\">                     37219.7</td><td style=\"text-align: right;\">                   6.14894</td><td style=\"text-align: right;\">                       102.99</td></tr>\n",
       "<tr><td>Category_001      </td><td>Product_0256  </td><td>Whse_J     </td><td>2013-08-01 07:00:00</td><td style=\"text-align: right;\">             6</td><td style=\"text-align: right;\">              4</td><td style=\"text-align: right;\">            1</td><td style=\"text-align: right;\">            2</td><td style=\"text-align: right;\">            8</td><td style=\"text-align: right;\">            7</td><td style=\"text-align: right;\">            4</td><td style=\"text-align: right;\">            3</td><td style=\"text-align: right;\">             9</td><td style=\"text-align: right;\">                   1</td><td style=\"text-align: right;\">                             6.14894</td><td style=\"text-align: right;\">                     37219.7</td><td style=\"text-align: right;\">                   6.14894</td><td style=\"text-align: right;\">                       102.99</td></tr>\n",
       "<tr><td>Category_001      </td><td>Product_0256  </td><td>Whse_J     </td><td>2013-09-01 07:00:00</td><td style=\"text-align: right;\">             1</td><td style=\"text-align: right;\">              1</td><td style=\"text-align: right;\">            6</td><td style=\"text-align: right;\">            1</td><td style=\"text-align: right;\">            2</td><td style=\"text-align: right;\">            8</td><td style=\"text-align: right;\">            7</td><td style=\"text-align: right;\">            4</td><td style=\"text-align: right;\">            10</td><td style=\"text-align: right;\">                   4</td><td style=\"text-align: right;\">                             6.14894</td><td style=\"text-align: right;\">                     37219.7</td><td style=\"text-align: right;\">                   6.14894</td><td style=\"text-align: right;\">                       102.99</td></tr>\n",
       "<tr><td>Category_001      </td><td>Product_0256  </td><td>Whse_J     </td><td>2013-10-01 07:00:00</td><td style=\"text-align: right;\">             6</td><td style=\"text-align: right;\">              5</td><td style=\"text-align: right;\">            1</td><td style=\"text-align: right;\">            6</td><td style=\"text-align: right;\">            1</td><td style=\"text-align: right;\">            2</td><td style=\"text-align: right;\">            8</td><td style=\"text-align: right;\">            7</td><td style=\"text-align: right;\">             8</td><td style=\"text-align: right;\">                   1</td><td style=\"text-align: right;\">                             6.14894</td><td style=\"text-align: right;\">                     37219.7</td><td style=\"text-align: right;\">                   6.14894</td><td style=\"text-align: right;\">                       102.99</td></tr>\n",
       "<tr><td>Category_001      </td><td>Product_0256  </td><td>Whse_J     </td><td>2013-11-01 07:00:00</td><td style=\"text-align: right;\">             7</td><td style=\"text-align: right;\">              5</td><td style=\"text-align: right;\">            6</td><td style=\"text-align: right;\">            1</td><td style=\"text-align: right;\">            6</td><td style=\"text-align: right;\">            1</td><td style=\"text-align: right;\">            2</td><td style=\"text-align: right;\">            8</td><td style=\"text-align: right;\">             7</td><td style=\"text-align: right;\">                   5</td><td style=\"text-align: right;\">                             6.14894</td><td style=\"text-align: right;\">                     37219.7</td><td style=\"text-align: right;\">                   6.14894</td><td style=\"text-align: right;\">                       102.99</td></tr>\n",
       "</tbody>\n",
       "</table>"
      ]
     },
     "metadata": {},
     "output_type": "display_data"
    },
    {
     "data": {
      "text/plain": []
     },
     "execution_count": 46,
     "metadata": {},
     "output_type": "execute_result"
    }
   ],
   "source": [
    "ext_products_hf.head()"
   ]
  },
  {
   "cell_type": "code",
   "execution_count": 47,
   "metadata": {
    "collapsed": false
   },
   "outputs": [
    {
     "data": {
      "text/html": [
       "<table>\n",
       "<thead>\n",
       "<tr><th style=\"text-align: right;\">  Categorical_Month</th><th style=\"text-align: right;\">  Count</th></tr>\n",
       "</thead>\n",
       "<tbody>\n",
       "<tr><td style=\"text-align: right;\">                  1</td><td style=\"text-align: right;\">   8411</td></tr>\n",
       "<tr><td style=\"text-align: right;\">                  2</td><td style=\"text-align: right;\">  10109</td></tr>\n",
       "<tr><td style=\"text-align: right;\">                  3</td><td style=\"text-align: right;\">  10372</td></tr>\n",
       "<tr><td style=\"text-align: right;\">                  4</td><td style=\"text-align: right;\">  10473</td></tr>\n",
       "<tr><td style=\"text-align: right;\">                  5</td><td style=\"text-align: right;\">  10527</td></tr>\n",
       "<tr><td style=\"text-align: right;\">                  6</td><td style=\"text-align: right;\">  10561</td></tr>\n",
       "<tr><td style=\"text-align: right;\">                  7</td><td style=\"text-align: right;\">  10603</td></tr>\n",
       "<tr><td style=\"text-align: right;\">                  8</td><td style=\"text-align: right;\">  10627</td></tr>\n",
       "<tr><td style=\"text-align: right;\">                  9</td><td style=\"text-align: right;\">  10644</td></tr>\n",
       "<tr><td style=\"text-align: right;\">                 10</td><td style=\"text-align: right;\">  10656</td></tr>\n",
       "</tbody>\n",
       "</table>"
      ]
     },
     "metadata": {},
     "output_type": "display_data"
    },
    {
     "data": {
      "text/plain": []
     },
     "execution_count": 47,
     "metadata": {},
     "output_type": "execute_result"
    }
   ],
   "source": [
    "# Extract the month in case there is seasonality \n",
    "ext_products_hf[\"Categorical_Month\"] = ext_products_hf[\"Month\"].month().asfactor()\n",
    "ext_products_hf[\"Categorical_Month\"].table()"
   ]
  },
  {
   "cell_type": "code",
   "execution_count": 48,
   "metadata": {
    "collapsed": false
   },
   "outputs": [
    {
     "data": {
      "text/plain": [
       "['Warehouse',\n",
       " 'Demand_lag4',\n",
       " 'Number_Orders_lag1',\n",
       " 'Month',\n",
       " 'Product_Category',\n",
       " 'Demand_lag12',\n",
       " 'Product_Code',\n",
       " 'Demand_lag3',\n",
       " 'Demand_lag1',\n",
       " 'mean_Demand_lag1_Warehouse',\n",
       " 'Categorical_Month',\n",
       " 'mean_Demand_lag1_Product',\n",
       " 'Demand_lag5',\n",
       " 'Demand_lag6',\n",
       " 'Demand_lag2',\n",
       " 'mean_Demand_lag1_Product_Warehouse',\n",
       " 'mean_Demand_lag1_ProductCat']"
      ]
     },
     "execution_count": 48,
     "metadata": {},
     "output_type": "execute_result"
    }
   ],
   "source": [
    "# Add Lag Predictors\n",
    "ext_predictors = list(set(ext_products_hf.col_names) - set([\"Total_Demand\", \"Number_Orders\"]))\n",
    "ext_predictors"
   ]
  },
  {
   "cell_type": "code",
   "execution_count": 49,
   "metadata": {
    "collapsed": true
   },
   "outputs": [],
   "source": [
    "# Split data into training and testing by time\n",
    "\n",
    "train = ext_products_hf[ext_products_hf[\"Month\"].year() < 2015]\n",
    "test = ext_products_hf[ext_products_hf[\"Month\"].year() == 2015]"
   ]
  },
  {
   "cell_type": "code",
   "execution_count": 50,
   "metadata": {
    "collapsed": false
   },
   "outputs": [
    {
     "name": "stdout",
     "output_type": "stream",
     "text": [
      "gbm Model Build progress: |███████████████████████████████████████████████| 100%\n"
     ]
    }
   ],
   "source": [
    "# Train GBM Model with Early Stopping\n",
    "\n",
    "lag_features_v2 = H2OGradientBoostingEstimator(model_id = \"lag_features_v2.hex\",\n",
    "                                              stopping_rounds = 3,  stopping_metric = \"MAE\",\n",
    "                                              score_tree_interval = 10, ntrees = 500)\n",
    "lag_features_v2.train(x = ext_predictors,\n",
    "                      y = response,\n",
    "                      training_frame = train,\n",
    "                      validation_frame = test)"
   ]
  },
  {
   "cell_type": "markdown",
   "metadata": {},
   "source": [
    "# Step 7 (of 8).  Compare Models\n",
    "\n",
    "Below we compare our models by the Mean Absolute Error."
   ]
  },
  {
   "cell_type": "code",
   "execution_count": 51,
   "metadata": {
    "collapsed": false
   },
   "outputs": [
    {
     "name": "stdout",
     "output_type": "stream",
     "text": [
      "Baseline - MAE: 14,524\n",
      "Lag Features V1 - MAE: 13,091\n",
      "Lag Features V2 - MAE: 12,386\n"
     ]
    }
   ],
   "source": [
    "print(\"Baseline - MAE: \" + \"{:,}\".format(round(baseline_model.mae(valid = True))))\n",
    "print(\"Lag Features V1 - MAE: \" + \"{:,}\".format(round(lag_features_v1.mae(valid = True))))\n",
    "print(\"Lag Features V2 - MAE: \" + \"{:,}\".format(round(lag_features_v2.mae(valid = True))))"
   ]
  },
  {
   "cell_type": "code",
   "execution_count": 52,
   "metadata": {
    "collapsed": false
   },
   "outputs": [
    {
     "data": {
      "image/png": "[encoded data removed]",
      "text/plain": [
       "<matplotlib.figure.Figure at 0x1034c5588>"
      ]
     },
     "metadata": {},
     "output_type": "display_data"
    }
   ],
   "source": [
    "lag_features_v2.varimp_plot()"
   ]
  },
  {
   "cell_type": "markdown",
   "metadata": {},
   "source": [
    "# Step 8 (of 8).  Shutdown the Sparkling Water Cluster"
   ]
  },
  {
   "cell_type": "code",
   "execution_count": 53,
   "metadata": {
    "collapsed": true
   },
   "outputs": [],
   "source": [
    "# Stop H2O and Spark services\n",
    "h2o.cluster().shutdown()\n",
    "spark.stop()"
   ]
  },
  {
   "cell_type": "markdown",
   "metadata": {},
   "source": [
    "# Bonus: Github location for this tutorial\n",
    "\n",
    "* https://github.com/h2oai/h2o-tutorials/tree/master/training/sparkling_water_hands_on/time_series"
   ]
  },
  {
   "cell_type": "code",
   "execution_count": null,
   "metadata": {
    "collapsed": true
   },
   "outputs": [],
   "source": []
  }
 ],
 "metadata": {
  "kernelspec": {
   "display_name": "PySparkling",
   "language": "python",
   "name": "pyspark"
  },
  "language_info": {
   "codemirror_mode": {
    "name": "ipython",
    "version": 3
   },
   "file_extension": ".py",
   "mimetype": "text/x-python",
   "name": "python",
   "nbconvert_exporter": "python",
   "pygments_lexer": "ipython3",
   "version": "3.6.0"
  }
 },
 "nbformat": 4,
 "nbformat_minor": 2
}
