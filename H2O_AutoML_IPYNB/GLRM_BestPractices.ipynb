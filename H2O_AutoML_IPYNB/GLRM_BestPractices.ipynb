{
 "cells": [
  {
   "cell_type": "markdown",
   "id": "b37d0d0d",
   "metadata": {},
   "source": [
    "GLRM Model\n",
    "----------\n",
    "\n",
    "What is a Low Rank Model?\n",
    "-------------------------\n",
    "\n",
    "-   **Given:** Data table *A* with m rows and n columns\n",
    "-   **Find:** Compress representation as numeric tables *X* and *Y*,\n",
    "    where \\# cols in X = \\# rows in Y = small user-specified k &lt;&lt;\n",
    "    max(m, n)\n",
    "-   \\# cols in *Y* is d = (total dimension of embedded features in\n",
    "    *A*) &gt;= n\n",
    "\n",
    "In the example below, we are seeing the decomposition of A when A\n",
    "consists of only numeric columns.\n",
    "\n",
    "![](./images/GLRM.png \"Title\")\n",
    "\n",
    "-   *Y* = archetypal features created from columns of *A*\n",
    "-   *X* = row of *A* in reduced feature space\n",
    "-   GLRM can approximately reconstruct *A* from product *XY*\n",
    "\n",
    "GLRM Models Uses\n",
    "----------------\n",
    "\n",
    "GLRM models have multiple use cases:\n",
    "\n",
    "-   filling in missing entries\n",
    "-   reduce storage\n",
    "-   remove noise\n",
    "-   understand (visualize, cluster)\n",
    "\n"
   ]
  },
  {
   "cell_type": "markdown",
   "id": "14ecadb2",
   "metadata": {},
   "source": [
    "Understanding the Data\n",
    "----------------------\n",
    "\n",
    "We can use GLRM to understand the data. GLRM generates principal\n",
    "components to interpret the data. Each row of Y is an archetypal feature\n",
    "formed from the columns of A, and each row of X corresponds to a row of\n",
    "A projected into this reduced dimension feature space.\n",
    "\n",
    "For this tutorial, we will use data that contains attributes about a\n",
    "house and its price in King County. The data is a public dataset from\n",
    "Kaggle: <https://www.kaggle.com/harlfoxem/housesalesprediction>. We can\n",
    "use GLRM to reduce the dimensions of the data 2 columns. We can use GLRM to reduce the dimensions of the data to 2 columns in order to visualize the houses data in a 2 dimensional plot.\n",
    "\n",
    "We will begin by initializing the h2o cluster and importing the csv\n",
    "file.\n",
    "\n"
   ]
  },
  {
   "cell_type": "code",
   "execution_count": 1,
   "id": "fdd19050",
   "metadata": {},
   "outputs": [
    {
     "name": "stdout",
     "output_type": "stream",
     "text": [
      "Checking whether there is an H2O instance running at http://localhost:54321 ..... not found.\n",
      "Attempting to start a local H2O server...\n",
      "  Java Version: openjdk version \"9\"; OpenJDK Runtime Environment (build 9+181); OpenJDK 64-Bit Server VM (build 9+181, mixed mode)\n",
      "Connecting to H2O server at http://127.0.0.1:54321 ... successful.\n"
     ]
    },
    {
     "data": {
      "text/html": [
       "<div style=\"overflow:auto\"><table style=\"width:50%\"><tr><td>H2O_cluster_uptime:</td>\n",
       "<td>02 secs</td></tr>\n",
       "<tr><td>H2O_cluster_timezone:</td>\n",
       "<td>America/Chicago</td></tr>\n",
       "<tr><td>H2O_data_parsing_timezone:</td>\n",
       "<td>UTC</td></tr>\n",
       "<tr><td>H2O_cluster_version:</td>\n",
       "<td>3.36.1.3</td></tr>\n",
       "<tr><td>H2O_cluster_version_age:</td>\n",
       "<td>15 days </td></tr>\n",
       "<tr><td>H2O_cluster_name:</td>\n",
       "<td>H2O_from_python_x0976g</td></tr>\n",
       "<tr><td>H2O_cluster_total_nodes:</td>\n",
       "<td>1</td></tr>\n",
       "<tr><td>H2O_cluster_free_memory:</td>\n",
       "<td>4 Gb</td></tr>\n",
       "<tr><td>H2O_cluster_total_cores:</td>\n",
       "<td>12</td></tr>\n",
       "<tr><td>H2O_cluster_allowed_cores:</td>\n",
       "<td>12</td></tr>\n",
       "<tr><td>H2O_cluster_status:</td>\n",
       "<td>locked, healthy</td></tr>\n",
       "<tr><td>H2O_connection_url:</td>\n",
       "<td>http://127.0.0.1:54321</td></tr>\n",
       "<tr><td>H2O_connection_proxy:</td>\n",
       "<td>{\"http\": null, \"https\": null}</td></tr>\n",
       "<tr><td>H2O_internal_security:</td>\n",
       "<td>False</td></tr>\n",
       "<tr><td>Python_version:</td>\n",
       "<td>3.7.9 final</td></tr></table></div>"
      ],
      "text/plain": [
       "--------------------------  --------------------------------\n",
       "H2O_cluster_uptime:         02 secs\n",
       "H2O_cluster_timezone:       America/Chicago\n",
       "H2O_data_parsing_timezone:  UTC\n",
       "H2O_cluster_version:        3.36.1.3\n",
       "H2O_cluster_version_age:    15 days\n",
       "H2O_cluster_name:           H2O_from_python_x0976g\n",
       "H2O_cluster_total_nodes:    1\n",
       "H2O_cluster_free_memory:    4 Gb\n",
       "H2O_cluster_total_cores:    12\n",
       "H2O_cluster_allowed_cores:  12\n",
       "H2O_cluster_status:         locked, healthy\n",
       "H2O_connection_url:         http://127.0.0.1:54321\n",
       "H2O_connection_proxy:       {\"http\": null, \"https\": null}\n",
       "H2O_internal_security:      False\n",
       "Python_version:             3.7.9 final\n",
       "--------------------------  --------------------------------"
      ]
     },
     "metadata": {},
     "output_type": "display_data"
    }
   ],
   "source": [
    "import h2o\n",
    "from h2o.estimators import H2OGeneralizedLowRankEstimator\n",
    "\n",
    "h2o.init()\n",
    "h2o.no_progress()"
   ]
  },
  {
   "cell_type": "code",
   "execution_count": 2,
   "id": "0f168c70",
   "metadata": {
    "scrolled": true
   },
   "outputs": [
    {
     "data": {
      "text/html": [
       "<table>\n",
       "<thead>\n",
       "<tr><th style=\"text-align: right;\">         id</th><th>date           </th><th style=\"text-align: right;\">         price</th><th style=\"text-align: right;\">  bedrooms</th><th style=\"text-align: right;\">  bathrooms</th><th style=\"text-align: right;\">  sqft_living</th><th style=\"text-align: right;\">  sqft_lot</th><th style=\"text-align: right;\">  floors</th><th style=\"text-align: right;\">  waterfront</th><th style=\"text-align: right;\">  view</th><th style=\"text-align: right;\">  condition</th><th style=\"text-align: right;\">  grade</th><th style=\"text-align: right;\">  sqft_above</th><th style=\"text-align: right;\">  sqft_basement</th><th style=\"text-align: right;\">  yr_built</th><th style=\"text-align: right;\">  yr_renovated</th><th style=\"text-align: right;\">  zipcode</th><th style=\"text-align: right;\">    lat</th><th style=\"text-align: right;\">    long</th><th style=\"text-align: right;\">  sqft_living15</th><th style=\"text-align: right;\">  sqft_lot15</th></tr>\n",
       "</thead>\n",
       "<tbody>\n",
       "<tr><td style=\"text-align: right;\">7.1293e+09 </td><td>20141013T000000</td><td style=\"text-align: right;\">221900        </td><td style=\"text-align: right;\">         3</td><td style=\"text-align: right;\">       1   </td><td style=\"text-align: right;\">         1180</td><td style=\"text-align: right;\">      5650</td><td style=\"text-align: right;\">       1</td><td style=\"text-align: right;\">           0</td><td style=\"text-align: right;\">     0</td><td style=\"text-align: right;\">          3</td><td style=\"text-align: right;\">      7</td><td style=\"text-align: right;\">        1180</td><td style=\"text-align: right;\">              0</td><td style=\"text-align: right;\">      1955</td><td style=\"text-align: right;\">             0</td><td style=\"text-align: right;\">    98178</td><td style=\"text-align: right;\">47.5112</td><td style=\"text-align: right;\">-122.257</td><td style=\"text-align: right;\">           1340</td><td style=\"text-align: right;\">        5650</td></tr>\n",
       "<tr><td style=\"text-align: right;\">6.4141e+09 </td><td>20141209T000000</td><td style=\"text-align: right;\">538000        </td><td style=\"text-align: right;\">         3</td><td style=\"text-align: right;\">       2.25</td><td style=\"text-align: right;\">         2570</td><td style=\"text-align: right;\">      7242</td><td style=\"text-align: right;\">       2</td><td style=\"text-align: right;\">           0</td><td style=\"text-align: right;\">     0</td><td style=\"text-align: right;\">          3</td><td style=\"text-align: right;\">      7</td><td style=\"text-align: right;\">        2170</td><td style=\"text-align: right;\">            400</td><td style=\"text-align: right;\">      1951</td><td style=\"text-align: right;\">          1991</td><td style=\"text-align: right;\">    98125</td><td style=\"text-align: right;\">47.721 </td><td style=\"text-align: right;\">-122.319</td><td style=\"text-align: right;\">           1690</td><td style=\"text-align: right;\">        7639</td></tr>\n",
       "<tr><td style=\"text-align: right;\">5.6315e+09 </td><td>20150225T000000</td><td style=\"text-align: right;\">180000        </td><td style=\"text-align: right;\">         2</td><td style=\"text-align: right;\">       1   </td><td style=\"text-align: right;\">          770</td><td style=\"text-align: right;\">     10000</td><td style=\"text-align: right;\">       1</td><td style=\"text-align: right;\">           0</td><td style=\"text-align: right;\">     0</td><td style=\"text-align: right;\">          3</td><td style=\"text-align: right;\">      6</td><td style=\"text-align: right;\">         770</td><td style=\"text-align: right;\">              0</td><td style=\"text-align: right;\">      1933</td><td style=\"text-align: right;\">             0</td><td style=\"text-align: right;\">    98028</td><td style=\"text-align: right;\">47.7379</td><td style=\"text-align: right;\">-122.233</td><td style=\"text-align: right;\">           2720</td><td style=\"text-align: right;\">        8062</td></tr>\n",
       "<tr><td style=\"text-align: right;\">2.4872e+09 </td><td>20141209T000000</td><td style=\"text-align: right;\">604000        </td><td style=\"text-align: right;\">         4</td><td style=\"text-align: right;\">       3   </td><td style=\"text-align: right;\">         1960</td><td style=\"text-align: right;\">      5000</td><td style=\"text-align: right;\">       1</td><td style=\"text-align: right;\">           0</td><td style=\"text-align: right;\">     0</td><td style=\"text-align: right;\">          5</td><td style=\"text-align: right;\">      7</td><td style=\"text-align: right;\">        1050</td><td style=\"text-align: right;\">            910</td><td style=\"text-align: right;\">      1965</td><td style=\"text-align: right;\">             0</td><td style=\"text-align: right;\">    98136</td><td style=\"text-align: right;\">47.5208</td><td style=\"text-align: right;\">-122.393</td><td style=\"text-align: right;\">           1360</td><td style=\"text-align: right;\">        5000</td></tr>\n",
       "<tr><td style=\"text-align: right;\">1.9544e+09 </td><td>20150218T000000</td><td style=\"text-align: right;\">510000        </td><td style=\"text-align: right;\">         3</td><td style=\"text-align: right;\">       2   </td><td style=\"text-align: right;\">         1680</td><td style=\"text-align: right;\">      8080</td><td style=\"text-align: right;\">       1</td><td style=\"text-align: right;\">           0</td><td style=\"text-align: right;\">     0</td><td style=\"text-align: right;\">          3</td><td style=\"text-align: right;\">      8</td><td style=\"text-align: right;\">        1680</td><td style=\"text-align: right;\">              0</td><td style=\"text-align: right;\">      1987</td><td style=\"text-align: right;\">             0</td><td style=\"text-align: right;\">    98074</td><td style=\"text-align: right;\">47.6168</td><td style=\"text-align: right;\">-122.045</td><td style=\"text-align: right;\">           1800</td><td style=\"text-align: right;\">        7503</td></tr>\n",
       "<tr><td style=\"text-align: right;\">7.23755e+09</td><td>20140512T000000</td><td style=\"text-align: right;\">     1.225e+06</td><td style=\"text-align: right;\">         4</td><td style=\"text-align: right;\">       4.5 </td><td style=\"text-align: right;\">         5420</td><td style=\"text-align: right;\">    101930</td><td style=\"text-align: right;\">       1</td><td style=\"text-align: right;\">           0</td><td style=\"text-align: right;\">     0</td><td style=\"text-align: right;\">          3</td><td style=\"text-align: right;\">     11</td><td style=\"text-align: right;\">        3890</td><td style=\"text-align: right;\">           1530</td><td style=\"text-align: right;\">      2001</td><td style=\"text-align: right;\">             0</td><td style=\"text-align: right;\">    98053</td><td style=\"text-align: right;\">47.6561</td><td style=\"text-align: right;\">-122.005</td><td style=\"text-align: right;\">           4760</td><td style=\"text-align: right;\">      101930</td></tr>\n",
       "<tr><td style=\"text-align: right;\">1.3214e+09 </td><td>20140627T000000</td><td style=\"text-align: right;\">257500        </td><td style=\"text-align: right;\">         3</td><td style=\"text-align: right;\">       2.25</td><td style=\"text-align: right;\">         1715</td><td style=\"text-align: right;\">      6819</td><td style=\"text-align: right;\">       2</td><td style=\"text-align: right;\">           0</td><td style=\"text-align: right;\">     0</td><td style=\"text-align: right;\">          3</td><td style=\"text-align: right;\">      7</td><td style=\"text-align: right;\">        1715</td><td style=\"text-align: right;\">              0</td><td style=\"text-align: right;\">      1995</td><td style=\"text-align: right;\">             0</td><td style=\"text-align: right;\">    98003</td><td style=\"text-align: right;\">47.3097</td><td style=\"text-align: right;\">-122.327</td><td style=\"text-align: right;\">           2238</td><td style=\"text-align: right;\">        6819</td></tr>\n",
       "<tr><td style=\"text-align: right;\">2.008e+09  </td><td>20150115T000000</td><td style=\"text-align: right;\">291850        </td><td style=\"text-align: right;\">         3</td><td style=\"text-align: right;\">       1.5 </td><td style=\"text-align: right;\">         1060</td><td style=\"text-align: right;\">      9711</td><td style=\"text-align: right;\">       1</td><td style=\"text-align: right;\">           0</td><td style=\"text-align: right;\">     0</td><td style=\"text-align: right;\">          3</td><td style=\"text-align: right;\">      7</td><td style=\"text-align: right;\">        1060</td><td style=\"text-align: right;\">              0</td><td style=\"text-align: right;\">      1963</td><td style=\"text-align: right;\">             0</td><td style=\"text-align: right;\">    98198</td><td style=\"text-align: right;\">47.4095</td><td style=\"text-align: right;\">-122.315</td><td style=\"text-align: right;\">           1650</td><td style=\"text-align: right;\">        9711</td></tr>\n",
       "<tr><td style=\"text-align: right;\">2.4146e+09 </td><td>20150415T000000</td><td style=\"text-align: right;\">229500        </td><td style=\"text-align: right;\">         3</td><td style=\"text-align: right;\">       1   </td><td style=\"text-align: right;\">         1780</td><td style=\"text-align: right;\">      7470</td><td style=\"text-align: right;\">       1</td><td style=\"text-align: right;\">           0</td><td style=\"text-align: right;\">     0</td><td style=\"text-align: right;\">          3</td><td style=\"text-align: right;\">      7</td><td style=\"text-align: right;\">        1050</td><td style=\"text-align: right;\">            730</td><td style=\"text-align: right;\">      1960</td><td style=\"text-align: right;\">             0</td><td style=\"text-align: right;\">    98146</td><td style=\"text-align: right;\">47.5123</td><td style=\"text-align: right;\">-122.337</td><td style=\"text-align: right;\">           1780</td><td style=\"text-align: right;\">        8113</td></tr>\n",
       "<tr><td style=\"text-align: right;\">3.7935e+09 </td><td>20150312T000000</td><td style=\"text-align: right;\">323000        </td><td style=\"text-align: right;\">         3</td><td style=\"text-align: right;\">       2.5 </td><td style=\"text-align: right;\">         1890</td><td style=\"text-align: right;\">      6560</td><td style=\"text-align: right;\">       2</td><td style=\"text-align: right;\">           0</td><td style=\"text-align: right;\">     0</td><td style=\"text-align: right;\">          3</td><td style=\"text-align: right;\">      7</td><td style=\"text-align: right;\">        1890</td><td style=\"text-align: right;\">              0</td><td style=\"text-align: right;\">      2003</td><td style=\"text-align: right;\">             0</td><td style=\"text-align: right;\">    98038</td><td style=\"text-align: right;\">47.3684</td><td style=\"text-align: right;\">-122.031</td><td style=\"text-align: right;\">           2390</td><td style=\"text-align: right;\">        7570</td></tr>\n",
       "</tbody>\n",
       "</table>"
      ]
     },
     "metadata": {},
     "output_type": "display_data"
    },
    {
     "data": {
      "text/plain": []
     },
     "execution_count": 2,
     "metadata": {},
     "output_type": "execute_result"
    }
   ],
   "source": [
    "# Import Data\n",
    "houses_data = h2o.import_file(\"./data/kc_house_data.csv\")\n",
    "houses_data.head()"
   ]
  },
  {
   "cell_type": "code",
   "execution_count": 3,
   "id": "dd172ddc",
   "metadata": {},
   "outputs": [
    {
     "data": {
      "text/plain": [
       "(21613, 21)"
      ]
     },
     "execution_count": 3,
     "metadata": {},
     "output_type": "execute_result"
    }
   ],
   "source": [
    "houses_data.shape"
   ]
  },
  {
   "cell_type": "markdown",
   "id": "5d2a73fe",
   "metadata": {},
   "source": [
    "There are 3 columns that are being treated as integer that should be\n",
    "converted to categorical or enum. The columns `condition`, `grade`, and\n",
    "`view` are really ordinal columns so we will convert it to categorical.\n",
    "Later on we can use ordinal loss for these functions. The column\n",
    "`zipcode` is also being treated as an integer when it is really a\n",
    "categorical column."
   ]
  },
  {
   "cell_type": "code",
   "execution_count": 4,
   "id": "10ae2338",
   "metadata": {},
   "outputs": [],
   "source": [
    "cat_cols = ['condition', 'grade', 'zipcode', 'view', 'waterfront']\n",
    "houses_data[cat_cols]  = houses_data[cat_cols].asfactor()"
   ]
  },
  {
   "cell_type": "markdown",
   "id": "6ac9c45e",
   "metadata": {},
   "source": [
    "When we define our first GLRM, we need to know which columns we want to\n",
    "include in the model. In this case, we will not use `zipcode`, `id`, or\n",
    "`date` since they have many unique values. We will also want to select\n",
    "the loss function for GLRM. The GLRM model is trying to minimize this\n",
    "loss function. It is tightly coupled to:\n",
    "\n",
    "-   the use case\n",
    "    -   some loss functions are sensitive to outliers and some are\n",
    "        robust to outliers\n",
    "-   the data type\n",
    "    -   some loss functions are specific to the type of data in the\n",
    "        column\n",
    "\n",
    "For this example, we will try Absolute loss for the numeric features.\n",
    "This loss will be robust to outliers. For the columns, `condition`,\n",
    "`grade`, and `view`, we will use Ordinal loss."
   ]
  },
  {
   "cell_type": "code",
   "execution_count": 5,
   "id": "2461acc1",
   "metadata": {
    "scrolled": true
   },
   "outputs": [
    {
     "name": "stdout",
     "output_type": "stream",
     "text": [
      "Model Details\n",
      "=============\n",
      "H2OGeneralizedLowRankEstimator :  Generalized Low Rank Modeling\n",
      "Model Key:  rank2\n",
      "\n",
      "\n",
      "Model Summary: \n"
     ]
    },
    {
     "data": {
      "text/html": [
       "<div>\n",
       "<style scoped>\n",
       "    .dataframe tbody tr th:only-of-type {\n",
       "        vertical-align: middle;\n",
       "    }\n",
       "\n",
       "    .dataframe tbody tr th {\n",
       "        vertical-align: top;\n",
       "    }\n",
       "\n",
       "    .dataframe thead th {\n",
       "        text-align: right;\n",
       "    }\n",
       "</style>\n",
       "<table border=\"1\" class=\"dataframe\">\n",
       "  <thead>\n",
       "    <tr style=\"text-align: right;\">\n",
       "      <th></th>\n",
       "      <th></th>\n",
       "      <th>number_of_iterations</th>\n",
       "      <th>final_step_size</th>\n",
       "      <th>final_objective_value</th>\n",
       "    </tr>\n",
       "  </thead>\n",
       "  <tbody>\n",
       "    <tr>\n",
       "      <th>0</th>\n",
       "      <td></td>\n",
       "      <td>34.0</td>\n",
       "      <td>0.000098</td>\n",
       "      <td>432107.358306</td>\n",
       "    </tr>\n",
       "  </tbody>\n",
       "</table>\n",
       "</div>"
      ],
      "text/plain": [
       "     number_of_iterations  final_step_size  final_objective_value\n",
       "0                    34.0         0.000098          432107.358306"
      ]
     },
     "metadata": {},
     "output_type": "display_data"
    },
    {
     "name": "stdout",
     "output_type": "stream",
     "text": [
      "\n",
      "\n",
      "ModelMetricsGLRM: glrm\n",
      "** Reported on train data. **\n",
      "\n",
      "MSE: NaN\n",
      "RMSE: NaN\n",
      "Sum of Squared Error (Numeric): 319289.7567706062\n",
      "Misclassification Error (Categorical): 62969.0\n",
      "\n",
      "Scoring History: \n"
     ]
    },
    {
     "data": {
      "text/html": [
       "<div>\n",
       "<style scoped>\n",
       "    .dataframe tbody tr th:only-of-type {\n",
       "        vertical-align: middle;\n",
       "    }\n",
       "\n",
       "    .dataframe tbody tr th {\n",
       "        vertical-align: top;\n",
       "    }\n",
       "\n",
       "    .dataframe thead th {\n",
       "        text-align: right;\n",
       "    }\n",
       "</style>\n",
       "<table border=\"1\" class=\"dataframe\">\n",
       "  <thead>\n",
       "    <tr style=\"text-align: right;\">\n",
       "      <th></th>\n",
       "      <th></th>\n",
       "      <th>timestamp</th>\n",
       "      <th>duration</th>\n",
       "      <th>iterations</th>\n",
       "      <th>step_size</th>\n",
       "      <th>objective</th>\n",
       "    </tr>\n",
       "  </thead>\n",
       "  <tbody>\n",
       "    <tr>\n",
       "      <th>0</th>\n",
       "      <td></td>\n",
       "      <td>2022-07-24 14:46:24</td>\n",
       "      <td>1.322 sec</td>\n",
       "      <td>0.0</td>\n",
       "      <td>0.666667</td>\n",
       "      <td>634295.070514</td>\n",
       "    </tr>\n",
       "    <tr>\n",
       "      <th>1</th>\n",
       "      <td></td>\n",
       "      <td>2022-07-24 14:46:24</td>\n",
       "      <td>1.491 sec</td>\n",
       "      <td>1.0</td>\n",
       "      <td>0.444444</td>\n",
       "      <td>634295.070514</td>\n",
       "    </tr>\n",
       "    <tr>\n",
       "      <th>2</th>\n",
       "      <td></td>\n",
       "      <td>2022-07-24 14:46:24</td>\n",
       "      <td>1.585 sec</td>\n",
       "      <td>2.0</td>\n",
       "      <td>0.222222</td>\n",
       "      <td>634295.070514</td>\n",
       "    </tr>\n",
       "    <tr>\n",
       "      <th>3</th>\n",
       "      <td></td>\n",
       "      <td>2022-07-24 14:46:24</td>\n",
       "      <td>1.601 sec</td>\n",
       "      <td>3.0</td>\n",
       "      <td>0.074074</td>\n",
       "      <td>634295.070514</td>\n",
       "    </tr>\n",
       "    <tr>\n",
       "      <th>4</th>\n",
       "      <td></td>\n",
       "      <td>2022-07-24 14:46:24</td>\n",
       "      <td>1.619 sec</td>\n",
       "      <td>4.0</td>\n",
       "      <td>0.018519</td>\n",
       "      <td>634295.070514</td>\n",
       "    </tr>\n",
       "    <tr>\n",
       "      <th>5</th>\n",
       "      <td></td>\n",
       "      <td>2022-07-24 14:46:24</td>\n",
       "      <td>1.639 sec</td>\n",
       "      <td>5.0</td>\n",
       "      <td>0.003704</td>\n",
       "      <td>634295.070514</td>\n",
       "    </tr>\n",
       "    <tr>\n",
       "      <th>6</th>\n",
       "      <td></td>\n",
       "      <td>2022-07-24 14:46:24</td>\n",
       "      <td>1.659 sec</td>\n",
       "      <td>6.0</td>\n",
       "      <td>0.003889</td>\n",
       "      <td>539113.650084</td>\n",
       "    </tr>\n",
       "    <tr>\n",
       "      <th>7</th>\n",
       "      <td></td>\n",
       "      <td>2022-07-24 14:46:25</td>\n",
       "      <td>1.930 sec</td>\n",
       "      <td>7.0</td>\n",
       "      <td>0.004083</td>\n",
       "      <td>518293.371244</td>\n",
       "    </tr>\n",
       "    <tr>\n",
       "      <th>8</th>\n",
       "      <td></td>\n",
       "      <td>2022-07-24 14:46:25</td>\n",
       "      <td>2.058 sec</td>\n",
       "      <td>8.0</td>\n",
       "      <td>0.002722</td>\n",
       "      <td>518293.371244</td>\n",
       "    </tr>\n",
       "    <tr>\n",
       "      <th>9</th>\n",
       "      <td></td>\n",
       "      <td>2022-07-24 14:46:25</td>\n",
       "      <td>2.074 sec</td>\n",
       "      <td>9.0</td>\n",
       "      <td>0.002858</td>\n",
       "      <td>483792.966644</td>\n",
       "    </tr>\n",
       "    <tr>\n",
       "      <th>10</th>\n",
       "      <td></td>\n",
       "      <td>2022-07-24 14:46:25</td>\n",
       "      <td>2.090 sec</td>\n",
       "      <td>10.0</td>\n",
       "      <td>0.001906</td>\n",
       "      <td>483792.966644</td>\n",
       "    </tr>\n",
       "    <tr>\n",
       "      <th>11</th>\n",
       "      <td></td>\n",
       "      <td>2022-07-24 14:46:25</td>\n",
       "      <td>2.110 sec</td>\n",
       "      <td>11.0</td>\n",
       "      <td>0.002001</td>\n",
       "      <td>460108.693005</td>\n",
       "    </tr>\n",
       "    <tr>\n",
       "      <th>12</th>\n",
       "      <td></td>\n",
       "      <td>2022-07-24 14:46:25</td>\n",
       "      <td>2.126 sec</td>\n",
       "      <td>12.0</td>\n",
       "      <td>0.001334</td>\n",
       "      <td>460108.693005</td>\n",
       "    </tr>\n",
       "    <tr>\n",
       "      <th>13</th>\n",
       "      <td></td>\n",
       "      <td>2022-07-24 14:46:25</td>\n",
       "      <td>2.146 sec</td>\n",
       "      <td>13.0</td>\n",
       "      <td>0.001401</td>\n",
       "      <td>449509.051833</td>\n",
       "    </tr>\n",
       "    <tr>\n",
       "      <th>14</th>\n",
       "      <td></td>\n",
       "      <td>2022-07-24 14:46:25</td>\n",
       "      <td>2.164 sec</td>\n",
       "      <td>14.0</td>\n",
       "      <td>0.001471</td>\n",
       "      <td>448372.496241</td>\n",
       "    </tr>\n",
       "    <tr>\n",
       "      <th>15</th>\n",
       "      <td></td>\n",
       "      <td>2022-07-24 14:46:25</td>\n",
       "      <td>2.179 sec</td>\n",
       "      <td>15.0</td>\n",
       "      <td>0.000980</td>\n",
       "      <td>448372.496241</td>\n",
       "    </tr>\n",
       "    <tr>\n",
       "      <th>16</th>\n",
       "      <td></td>\n",
       "      <td>2022-07-24 14:46:25</td>\n",
       "      <td>2.201 sec</td>\n",
       "      <td>16.0</td>\n",
       "      <td>0.001029</td>\n",
       "      <td>442177.179450</td>\n",
       "    </tr>\n",
       "    <tr>\n",
       "      <th>17</th>\n",
       "      <td></td>\n",
       "      <td>2022-07-24 14:46:25</td>\n",
       "      <td>2.218 sec</td>\n",
       "      <td>17.0</td>\n",
       "      <td>0.000686</td>\n",
       "      <td>442177.179450</td>\n",
       "    </tr>\n",
       "    <tr>\n",
       "      <th>18</th>\n",
       "      <td></td>\n",
       "      <td>2022-07-24 14:46:25</td>\n",
       "      <td>2.233 sec</td>\n",
       "      <td>18.0</td>\n",
       "      <td>0.000721</td>\n",
       "      <td>439911.656556</td>\n",
       "    </tr>\n",
       "    <tr>\n",
       "      <th>19</th>\n",
       "      <td></td>\n",
       "      <td>2022-07-24 14:46:25</td>\n",
       "      <td>2.248 sec</td>\n",
       "      <td>19.0</td>\n",
       "      <td>0.000480</td>\n",
       "      <td>439911.656556</td>\n",
       "    </tr>\n",
       "  </tbody>\n",
       "</table>\n",
       "</div>"
      ],
      "text/plain": [
       "                timestamp    duration  iterations  step_size      objective\n",
       "0     2022-07-24 14:46:24   1.322 sec         0.0   0.666667  634295.070514\n",
       "1     2022-07-24 14:46:24   1.491 sec         1.0   0.444444  634295.070514\n",
       "2     2022-07-24 14:46:24   1.585 sec         2.0   0.222222  634295.070514\n",
       "3     2022-07-24 14:46:24   1.601 sec         3.0   0.074074  634295.070514\n",
       "4     2022-07-24 14:46:24   1.619 sec         4.0   0.018519  634295.070514\n",
       "5     2022-07-24 14:46:24   1.639 sec         5.0   0.003704  634295.070514\n",
       "6     2022-07-24 14:46:24   1.659 sec         6.0   0.003889  539113.650084\n",
       "7     2022-07-24 14:46:25   1.930 sec         7.0   0.004083  518293.371244\n",
       "8     2022-07-24 14:46:25   2.058 sec         8.0   0.002722  518293.371244\n",
       "9     2022-07-24 14:46:25   2.074 sec         9.0   0.002858  483792.966644\n",
       "10    2022-07-24 14:46:25   2.090 sec        10.0   0.001906  483792.966644\n",
       "11    2022-07-24 14:46:25   2.110 sec        11.0   0.002001  460108.693005\n",
       "12    2022-07-24 14:46:25   2.126 sec        12.0   0.001334  460108.693005\n",
       "13    2022-07-24 14:46:25   2.146 sec        13.0   0.001401  449509.051833\n",
       "14    2022-07-24 14:46:25   2.164 sec        14.0   0.001471  448372.496241\n",
       "15    2022-07-24 14:46:25   2.179 sec        15.0   0.000980  448372.496241\n",
       "16    2022-07-24 14:46:25   2.201 sec        16.0   0.001029  442177.179450\n",
       "17    2022-07-24 14:46:25   2.218 sec        17.0   0.000686  442177.179450\n",
       "18    2022-07-24 14:46:25   2.233 sec        18.0   0.000721  439911.656556\n",
       "19    2022-07-24 14:46:25   2.248 sec        19.0   0.000480  439911.656556"
      ]
     },
     "metadata": {},
     "output_type": "display_data"
    },
    {
     "name": "stdout",
     "output_type": "stream",
     "text": [
      "\n",
      "See the whole table with table.as_data_frame()\n"
     ]
    },
    {
     "data": {
      "text/plain": []
     },
     "execution_count": 5,
     "metadata": {},
     "output_type": "execute_result"
    }
   ],
   "source": [
    "glrm_cols = [x for x in houses_data.columns if x not in [\"id\", \"date\",\"zipcode\"]]\n",
    "\n",
    "'''calculate indexes of columns \"condition\",\"grade\" and \"view\"'''\n",
    "losses_idx = [houses_data.columns.index(x) for x in houses_data.columns if x in [\"condition\",\"grade\",\"view\"]]\n",
    "losses_loss_f = [\"Ordinal\", \"Ordinal\", \"Ordinal\"]\n",
    "\n",
    "rank2_model = H2OGeneralizedLowRankEstimator(k=2,\n",
    "                                             model_id = \"rank2\", \n",
    "                                             seed = 1234, \n",
    "                                             loss=\"Absolute\",\n",
    "                                             loss_by_col=losses_loss_f,\n",
    "                                             loss_by_col_idx=losses_idx,\n",
    "                                             transform=\"standardize\",\n",
    "                                             representation_name=\"rank2_full\")\n",
    "rank2_model.train(training_frame=houses_data, \n",
    "                  x=glrm_cols\n",
    "                 )"
   ]
  },
  {
   "cell_type": "code",
   "execution_count": 6,
   "id": "0479804c",
   "metadata": {},
   "outputs": [],
   "source": [
    "X = h2o.get_frame(\"rank2_full\")\n",
    "Y = rank2_model.archetypes()"
   ]
  },
  {
   "cell_type": "code",
   "execution_count": 7,
   "id": "e25dd26d",
   "metadata": {},
   "outputs": [
    {
     "name": "stdout",
     "output_type": "stream",
     "text": [
      "(21613, 2)\n",
      "2 38\n"
     ]
    }
   ],
   "source": [
    "print(X.shape)\n",
    "print(len(Y), len(Y[0]))"
   ]
  },
  {
   "cell_type": "markdown",
   "id": "3a594ddf",
   "metadata": {},
   "source": [
    "In this case, the rows of Y represent some house attribute profiles. The\n",
    "rows of X can be used to cluster houses.\n",
    "\n",
    "Let’s visualize the first two archetypes of Y."
   ]
  },
  {
   "cell_type": "code",
   "execution_count": 8,
   "id": "859f4436",
   "metadata": {
    "scrolled": true
   },
   "outputs": [
    {
     "data": {
      "text/html": [
       "<div>\n",
       "<style scoped>\n",
       "    .dataframe tbody tr th:only-of-type {\n",
       "        vertical-align: middle;\n",
       "    }\n",
       "\n",
       "    .dataframe tbody tr th {\n",
       "        vertical-align: top;\n",
       "    }\n",
       "\n",
       "    .dataframe thead th {\n",
       "        text-align: right;\n",
       "    }\n",
       "</style>\n",
       "<table border=\"1\" class=\"dataframe\">\n",
       "  <thead>\n",
       "    <tr style=\"text-align: right;\">\n",
       "      <th></th>\n",
       "      <th>Arch1</th>\n",
       "      <th>Arch2</th>\n",
       "      <th>attribute</th>\n",
       "    </tr>\n",
       "  </thead>\n",
       "  <tbody>\n",
       "    <tr>\n",
       "      <th>0</th>\n",
       "      <td>2.224996</td>\n",
       "      <td>2.222383</td>\n",
       "      <td>grade1</td>\n",
       "    </tr>\n",
       "    <tr>\n",
       "      <th>1</th>\n",
       "      <td>2.224687</td>\n",
       "      <td>2.222075</td>\n",
       "      <td>grade3</td>\n",
       "    </tr>\n",
       "    <tr>\n",
       "      <th>2</th>\n",
       "      <td>2.221699</td>\n",
       "      <td>2.219099</td>\n",
       "      <td>grade4</td>\n",
       "    </tr>\n",
       "    <tr>\n",
       "      <th>3</th>\n",
       "      <td>2.196760</td>\n",
       "      <td>2.194261</td>\n",
       "      <td>grade5</td>\n",
       "    </tr>\n",
       "    <tr>\n",
       "      <th>4</th>\n",
       "      <td>1.986743</td>\n",
       "      <td>1.985091</td>\n",
       "      <td>grade6</td>\n",
       "    </tr>\n",
       "    <tr>\n",
       "      <th>5</th>\n",
       "      <td>2.061743</td>\n",
       "      <td>1.062541</td>\n",
       "      <td>grade7</td>\n",
       "    </tr>\n",
       "    <tr>\n",
       "      <th>6</th>\n",
       "      <td>0.893676</td>\n",
       "      <td>1.898060</td>\n",
       "      <td>grade8</td>\n",
       "    </tr>\n",
       "    <tr>\n",
       "      <th>7</th>\n",
       "      <td>0.912458</td>\n",
       "      <td>0.922905</td>\n",
       "      <td>grade9</td>\n",
       "    </tr>\n",
       "    <tr>\n",
       "      <th>8</th>\n",
       "      <td>0.279906</td>\n",
       "      <td>0.283366</td>\n",
       "      <td>grade10</td>\n",
       "    </tr>\n",
       "    <tr>\n",
       "      <th>9</th>\n",
       "      <td>0.057433</td>\n",
       "      <td>0.058152</td>\n",
       "      <td>grade11</td>\n",
       "    </tr>\n",
       "    <tr>\n",
       "      <th>10</th>\n",
       "      <td>0.007258</td>\n",
       "      <td>0.007341</td>\n",
       "      <td>grade12</td>\n",
       "    </tr>\n",
       "    <tr>\n",
       "      <th>11</th>\n",
       "      <td>0.000000</td>\n",
       "      <td>0.000000</td>\n",
       "      <td>grade13</td>\n",
       "    </tr>\n",
       "    <tr>\n",
       "      <th>12</th>\n",
       "      <td>2.222008</td>\n",
       "      <td>2.219406</td>\n",
       "      <td>condition1</td>\n",
       "    </tr>\n",
       "    <tr>\n",
       "      <th>13</th>\n",
       "      <td>2.204288</td>\n",
       "      <td>2.201745</td>\n",
       "      <td>condition2</td>\n",
       "    </tr>\n",
       "    <tr>\n",
       "      <th>14</th>\n",
       "      <td>1.444625</td>\n",
       "      <td>1.443119</td>\n",
       "      <td>condition3</td>\n",
       "    </tr>\n",
       "    <tr>\n",
       "      <th>15</th>\n",
       "      <td>0.955063</td>\n",
       "      <td>0.951989</td>\n",
       "      <td>condition4</td>\n",
       "    </tr>\n",
       "    <tr>\n",
       "      <th>16</th>\n",
       "      <td>1.946803</td>\n",
       "      <td>1.944567</td>\n",
       "      <td>condition5</td>\n",
       "    </tr>\n",
       "    <tr>\n",
       "      <th>17</th>\n",
       "      <td>1.057267</td>\n",
       "      <td>1.057102</td>\n",
       "      <td>view0</td>\n",
       "    </tr>\n",
       "    <tr>\n",
       "      <th>18</th>\n",
       "      <td>1.002771</td>\n",
       "      <td>1.006537</td>\n",
       "      <td>view1</td>\n",
       "    </tr>\n",
       "    <tr>\n",
       "      <th>19</th>\n",
       "      <td>0.463510</td>\n",
       "      <td>0.465920</td>\n",
       "      <td>view2</td>\n",
       "    </tr>\n",
       "  </tbody>\n",
       "</table>\n",
       "</div>"
      ],
      "text/plain": [
       "       Arch1     Arch2   attribute\n",
       "0   2.224996  2.222383      grade1\n",
       "1   2.224687  2.222075      grade3\n",
       "2   2.221699  2.219099      grade4\n",
       "3   2.196760  2.194261      grade5\n",
       "4   1.986743  1.985091      grade6\n",
       "5   2.061743  1.062541      grade7\n",
       "6   0.893676  1.898060      grade8\n",
       "7   0.912458  0.922905      grade9\n",
       "8   0.279906  0.283366     grade10\n",
       "9   0.057433  0.058152     grade11\n",
       "10  0.007258  0.007341     grade12\n",
       "11  0.000000  0.000000     grade13\n",
       "12  2.222008  2.219406  condition1\n",
       "13  2.204288  2.201745  condition2\n",
       "14  1.444625  1.443119  condition3\n",
       "15  0.955063  0.951989  condition4\n",
       "16  1.946803  1.944567  condition5\n",
       "17  1.057267  1.057102       view0\n",
       "18  1.002771  1.006537       view1\n",
       "19  0.463510  0.465920       view2"
      ]
     },
     "execution_count": 8,
     "metadata": {},
     "output_type": "execute_result"
    }
   ],
   "source": [
    "import pandas as pd\n",
    "\n",
    "archetypes_cols = rank2_model._model_json[\"output\"][\"archetypes\"].as_data_frame().reset_index(drop=True).columns.to_list()\n",
    "archetypes_y = pd.DataFrame({'Arch1':Y[0],'Arch2':Y[1], 'attribute':archetypes_cols[1:]})\n",
    "archetypes_y.head(n=20)"
   ]
  },
  {
   "cell_type": "code",
   "execution_count": 9,
   "id": "2390b5cf",
   "metadata": {
    "scrolled": false
   },
   "outputs": [],
   "source": [
    "from matplotlib.pyplot import figure\n",
    "import matplotlib.pyplot as pl\n",
    "import random\n",
    "\n",
    "pl.rcParams['figure.figsize'] = [15, 10]\n",
    "\n",
    "ax1 = archetypes_y.plot.scatter(x='Arch1',\n",
    "                                y='Arch2',\n",
    "                                c='DarkBlue')\n",
    "for i, txt in enumerate(archetypes_cols[1:]):\n",
    "    if txt in [\"sqft_lot\", \"sqft_lot15\", \"floors\", \"bedrooms\", \"price\", \"waterfront0\", \"waterfront1\"]:\n",
    "        ax1.annotate(txt, (Y[0][i]+random.uniform(-0.2,0.2), Y[1][i]+random.uniform(-0.2,0.2)))\n",
    "\n",
    "#Don't display output of matplotlib\n",
    "pl.close()"
   ]
  },
  {
   "cell_type": "markdown",
   "id": "ac7f5a9b",
   "metadata": {},
   "source": [
    "![archetypes\\_y](./images/archetypes_y.png)\n",
    "\n",
    "Attributes that are close together are considered similar. For example,\n",
    "`sqft_lot` and `sqft_lot15` are very close together. This makes sense\n",
    "since `sqft_lot` is the sqft of the lot where as `sqft_lot15` is the\n",
    "sqft of the lot in 2015. Additionally `floors`, `bedrooms`, and `price`\n",
    "are very close together. The values `waterfront0` and `waterfront1` are\n",
    "far apart.\n",
    "\n",
    "Now let’s visualize the first two archetypes of X."
   ]
  },
  {
   "cell_type": "code",
   "execution_count": 10,
   "id": "d7579cb7",
   "metadata": {
    "scrolled": true
   },
   "outputs": [],
   "source": [
    "x_df = X.as_data_frame()\n",
    "x_df['id'] = houses_data['id'].as_data_frame()\n",
    "archetypes_x = x_df.sample(n=100, random_state=1234)\n",
    "\n",
    "# Include spesific houses to match R version of the notebook\n",
    "include_houses = [5379802181, 3046200125]\n",
    "for house in include_houses:\n",
    "    if archetypes_x.loc[archetypes_x['id'].isin([house])].shape[0] == 0:\n",
    "        archetypes_x = archetypes_x.append(x_df.loc[x_df['id'].isin([house])])\n",
    "        \n",
    "pl.rcParams['figure.figsize'] = [15, 10]\n",
    "\n",
    "ax1 = archetypes_x.plot.scatter(x='Arch1',\n",
    "                                y='Arch2',\n",
    "                                c='DarkBlue')\n",
    "\n",
    "#Color in Red two selected houses\n",
    "custom_houses = archetypes_x.loc[archetypes_x['id'].isin(include_houses)].values.tolist()\n",
    "ax1.scatter(custom_houses[0][0],custom_houses[0][1], color='#d62728')\n",
    "ax1.scatter(custom_houses[1][0],custom_houses[1][1], color='#d62728')\n",
    "#Don't display output of matplotlib\n",
    "pl.close()        "
   ]
  },
  {
   "cell_type": "markdown",
   "id": "42d09013",
   "metadata": {},
   "source": [
    "![archetypes\\_x\\_highlighted](./images/archetypes_x_highlighted.png)\n",
    "\n",
    "The houses in red are shown below:\n",
    "\n",
    "|          id| date            |   price|  bedrooms|  bathrooms|  sqft\\_living|  sqft\\_lot|  floors| waterfront | view | condition | grade |  sqft\\_above|  sqft\\_basement|  yr\\_built|  yr\\_renovated| zipcode |      lat|      long|  sqft\\_living15|  sqft\\_lot15|\n",
    "|-----------:|:----------------|-------:|---------:|----------:|-------------:|----------:|-------:|:-----------|:-----|:----------|:------|------------:|---------------:|----------:|--------------:|:--------|--------:|---------:|---------------:|------------:|\n",
    "|  5379802181| 20141119T000000 |  193000|         2|          1|           680|       8640|       1| 0          | 0    | 4         | 5     |          680|               0|       1951|              0| 98188   |  47.4559|  -122.289|            1320|        13140|\n",
    "|  3046200125| 20150406T000000 |  202000|         2|          1|           740|       6550|       1| 0          | 0    | 4         | 5     |          740|               0|       1946|              0| 98168   |  47.4807|  -122.332|            1080|         8515|\n",
    "\n",
    "We can see that they have very similar sizes and price and were also\n",
    "built during the same 5 year period.\n"
   ]
  },
  {
   "cell_type": "markdown",
   "id": "7d1f1e77",
   "metadata": {},
   "source": [
    "### Transform (new) dataset\n",
    "\n",
    "Demo `transform_frame(self, fr)` method. Available starting version 3.36.1.3\n",
    " 1. GLRM performs `A=X*Y`  during training.  When a new dataset is given, GLRM will perform `Anew = Xnew*Y`.  \n",
    " 2. When predict is called, `Xnew*Y` is returned.  \n",
    " 3. When transform_frame is called, Xnew is returned instead.\n",
    " 4. The method `return: an H2OFrame that contains Xnew` .\n",
    " \n",
    " In the below example we use the same dataset we have used to train the model. The method works the same on new dataset as well."
   ]
  },
  {
   "cell_type": "code",
   "execution_count": 11,
   "id": "a6f2f255",
   "metadata": {},
   "outputs": [
    {
     "name": "stdout",
     "output_type": "stream",
     "text": [
      "Original data shape: (21613, 21)\n",
      "Transformed data shape: (21613, 2)\n"
     ]
    },
    {
     "data": {
      "text/html": [
       "<table>\n",
       "<thead>\n",
       "<tr><th style=\"text-align: right;\">    Arch1</th><th style=\"text-align: right;\">    Arch2</th></tr>\n",
       "</thead>\n",
       "<tbody>\n",
       "<tr><td style=\"text-align: right;\"> 0.942417</td><td style=\"text-align: right;\">-0.160551</td></tr>\n",
       "<tr><td style=\"text-align: right;\"> 0.210512</td><td style=\"text-align: right;\"> 0.331416</td></tr>\n",
       "<tr><td style=\"text-align: right;\"> 1.18075 </td><td style=\"text-align: right;\">-0.412068</td></tr>\n",
       "<tr><td style=\"text-align: right;\"> 0.754107</td><td style=\"text-align: right;\"> 0.127383</td></tr>\n",
       "<tr><td style=\"text-align: right;\"> 0.59147 </td><td style=\"text-align: right;\"> 0.557455</td></tr>\n",
       "<tr><td style=\"text-align: right;\">-1.13326 </td><td style=\"text-align: right;\"> 2.83233 </td></tr>\n",
       "<tr><td style=\"text-align: right;\"> 0.5756  </td><td style=\"text-align: right;\"> 0.622305</td></tr>\n",
       "<tr><td style=\"text-align: right;\"> 0.878726</td><td style=\"text-align: right;\">-0.071743</td></tr>\n",
       "<tr><td style=\"text-align: right;\"> 0.704439</td><td style=\"text-align: right;\">-0.201302</td></tr>\n",
       "<tr><td style=\"text-align: right;\"> 0.378564</td><td style=\"text-align: right;\"> 0.881173</td></tr>\n",
       "</tbody>\n",
       "</table>"
      ]
     },
     "metadata": {},
     "output_type": "display_data"
    },
    {
     "data": {
      "text/plain": []
     },
     "execution_count": 11,
     "metadata": {},
     "output_type": "execute_result"
    }
   ],
   "source": [
    "Xnew = rank2_model.transform_frame(houses_data)\n",
    "print(\"Original data shape:\", houses_data.shape)\n",
    "print(\"Transformed data shape:\",Xnew.shape)\n",
    "Xnew.head()"
   ]
  },
  {
   "cell_type": "markdown",
   "id": "97d9ae2a",
   "metadata": {},
   "source": [
    "#### Clustering\n",
    "\n",
    "Now that we’ve examined the archetypal space, we can cluster the houses\n",
    "based on their archetypes. This is more effective than clustering on the\n",
    "raw data because the raw data has noise and correlated attributes.\n",
    "\n",
    "We can let H2O choose the best number of clusters by speciying\n",
    "`estimate_k = TRUE`."
   ]
  },
  {
   "cell_type": "code",
   "execution_count": 12,
   "id": "23ab16f3",
   "metadata": {},
   "outputs": [
    {
     "name": "stdout",
     "output_type": "stream",
     "text": [
      "\n",
      "ModelMetricsClustering: kmeans\n",
      "** Reported on train data. **\n",
      "\n",
      "MSE: NaN\n",
      "RMSE: NaN\n",
      "Total Within Cluster Sum of Square Error: 0.15637705630931298\n",
      "Total Sum of Square Error to Grand Mean: 0.664998875819947\n",
      "Between Cluster Sum of Square Error: 0.508621819510634\n",
      "\n",
      "Centroid Statistics: \n"
     ]
    },
    {
     "data": {
      "text/html": [
       "<div>\n",
       "<style scoped>\n",
       "    .dataframe tbody tr th:only-of-type {\n",
       "        vertical-align: middle;\n",
       "    }\n",
       "\n",
       "    .dataframe tbody tr th {\n",
       "        vertical-align: top;\n",
       "    }\n",
       "\n",
       "    .dataframe thead th {\n",
       "        text-align: right;\n",
       "    }\n",
       "</style>\n",
       "<table border=\"1\" class=\"dataframe\">\n",
       "  <thead>\n",
       "    <tr style=\"text-align: right;\">\n",
       "      <th></th>\n",
       "      <th></th>\n",
       "      <th>centroid</th>\n",
       "      <th>size</th>\n",
       "      <th>within_cluster_sum_of_squares</th>\n",
       "    </tr>\n",
       "  </thead>\n",
       "  <tbody>\n",
       "    <tr>\n",
       "      <th>0</th>\n",
       "      <td></td>\n",
       "      <td>1.0</td>\n",
       "      <td>9951.0</td>\n",
       "      <td>0.074883</td>\n",
       "    </tr>\n",
       "    <tr>\n",
       "      <th>1</th>\n",
       "      <td></td>\n",
       "      <td>2.0</td>\n",
       "      <td>11662.0</td>\n",
       "      <td>0.081494</td>\n",
       "    </tr>\n",
       "  </tbody>\n",
       "</table>\n",
       "</div>"
      ],
      "text/plain": [
       "     centroid     size  within_cluster_sum_of_squares\n",
       "0         1.0   9951.0                       0.074883\n",
       "1         2.0  11662.0                       0.081494"
      ]
     },
     "metadata": {},
     "output_type": "display_data"
    },
    {
     "name": "stdout",
     "output_type": "stream",
     "text": [
      "\n"
     ]
    }
   ],
   "source": [
    "from h2o.estimators import H2OKMeansEstimator\n",
    "kmeans_data = houses_data.cbind(X)\n",
    "#kmeans_model = h2o.kmeans(kmeans_data, x = c(\"Arch1\",  \"Arch2\"), estimate_k = TRUE, k = 100, seed = 1234)\n",
    "kmeans_model = H2OKMeansEstimator(k=10,\n",
    "                                  estimate_k=True,\n",
    "                                  standardize=False,\n",
    "                                  seed=1234)\n",
    "kmeans_model.train(x=[\"Arch1\",  \"Arch2\"], training_frame=kmeans_data)\n",
    "\n",
    "# Eval performance:\n",
    "perf = kmeans_model.model_performance()\n",
    "print(perf)"
   ]
  },
  {
   "cell_type": "markdown",
   "id": "a715210a",
   "metadata": {},
   "source": [
    "Let’s visualize the clusters:\n",
    "\n",
    "We will add the clusters to our original dataframe for vizualization purpose. For vizualization we will select same houses we sampled in the previous section."
   ]
  },
  {
   "cell_type": "code",
   "execution_count": 13,
   "id": "208c336c",
   "metadata": {},
   "outputs": [],
   "source": [
    "clusters = kmeans_model.predict(kmeans_data)\n",
    "clusters.col_names = ['cluster']\n",
    "kmeans_data = kmeans_data.cbind(clusters)\n",
    "\n",
    "kmeans_df = kmeans_data[[\"Arch1\", \"Arch2\", \"cluster\", \"id\"]].as_data_frame()\n",
    "kmeans_df = kmeans_df.loc[archetypes_x.index,:]"
   ]
  },
  {
   "cell_type": "code",
   "execution_count": 14,
   "id": "eb782726",
   "metadata": {},
   "outputs": [],
   "source": [
    "pl.rcParams['figure.figsize'] = [15, 10]\n",
    "fig, ax = pl.subplots()\n",
    "ax.scatter(kmeans_df['Arch1'], kmeans_df['Arch2'], c=kmeans_df['cluster'])\n",
    "#Don't display output of matplotlib\n",
    "pl.close()  "
   ]
  },
  {
   "cell_type": "markdown",
   "id": "4178beb6",
   "metadata": {},
   "source": [
    "![clusters](./images/clusters.png) There are two clusters found. If we\n",
    "examine these clusters, we can see that the top cluster represents more\n",
    "expensive and larger houses with a higher grade."
   ]
  },
  {
   "cell_type": "code",
   "execution_count": 15,
   "id": "3d082477",
   "metadata": {},
   "outputs": [
    {
     "data": {
      "text/html": [
       "<table>\n",
       "<thead>\n",
       "<tr><th style=\"text-align: right;\">  cluster</th><th style=\"text-align: right;\">  mean_price</th><th style=\"text-align: right;\">  mean_sqft_lot</th><th style=\"text-align: right;\">  mean_bedrooms</th><th style=\"text-align: right;\">  mean_grade</th></tr>\n",
       "</thead>\n",
       "<tbody>\n",
       "<tr><td style=\"text-align: right;\">        0</td><td style=\"text-align: right;\">      714144</td><td style=\"text-align: right;\">        20555.1</td><td style=\"text-align: right;\">        3.84263</td><td style=\"text-align: right;\">     6.43594</td></tr>\n",
       "<tr><td style=\"text-align: right;\">        1</td><td style=\"text-align: right;\">      391569</td><td style=\"text-align: right;\">        10458.2</td><td style=\"text-align: right;\">        2.96827</td><td style=\"text-align: right;\">     4.9922 </td></tr>\n",
       "</tbody>\n",
       "</table>"
      ]
     },
     "metadata": {},
     "output_type": "display_data"
    },
    {
     "data": {
      "text/plain": []
     },
     "execution_count": 15,
     "metadata": {},
     "output_type": "execute_result"
    }
   ],
   "source": [
    "kmeans_data.group_by(\"cluster\").mean(\"price\").mean(\"sqft_lot\").mean(\"bedrooms\").mean(\"grade\").get_frame()"
   ]
  },
  {
   "cell_type": "markdown",
   "id": "db6f37de",
   "metadata": {},
   "source": [
    "Filling in Missing Entries\n",
    "--------------------------\n",
    "\n",
    "Another use of GLRM would be to fill in any missing entries. We can view\n",
    "missing entries as NA’s or events that have not yet happened. For\n",
    "example, if we had data of customers and products, we could place NA’s\n",
    "where a user has not yet purchased a product. In this way, by using GLRM\n",
    "to impute missing values, we are also creating a recommender.\n",
    "\n",
    "For our houses dataset, we do not having any missing values. We will\n",
    "manually add missing values to our dataset to show how to use GLRM for\n",
    "imputation.\n",
    "\n",
    "### Split the Data\n",
    "\n",
    "Given a training frame A, GLRM will produce a matrix factorization X and\n",
    "Y. During validation, it approximately reconstructs A as a function of\n",
    "the matrix product XY. This gives A = f(XY) which has the same number of\n",
    "dimensions and features as A. Any missing values in A will also be\n",
    "automatically filled in. Validation occurs by comparing A with the\n",
    "validation frame and computing the squared error (for numeric entries)\n",
    "and the number of mismatches (for categorical entries).\n",
    "\n",
    "The correct way to do validation in GLRM is to take a dataset with no\n",
    "(or very few) missing entries as your validation frame B. Create a deep\n",
    "copy of B, then deliberately replace known values with missing values."
   ]
  },
  {
   "cell_type": "code",
   "execution_count": 16,
   "id": "b55d9dad",
   "metadata": {},
   "outputs": [
    {
     "data": {
      "text/html": [
       "<table>\n",
       "<thead>\n",
       "<tr><th style=\"text-align: right;\">          id</th><th>date           </th><th style=\"text-align: right;\">         price</th><th style=\"text-align: right;\">  bedrooms</th><th style=\"text-align: right;\">  bathrooms</th><th style=\"text-align: right;\">  sqft_living</th><th style=\"text-align: right;\">  sqft_lot</th><th style=\"text-align: right;\">  floors</th><th>waterfront  </th><th>view  </th><th>condition  </th><th>grade  </th><th style=\"text-align: right;\">  sqft_above</th><th style=\"text-align: right;\">  sqft_basement</th><th style=\"text-align: right;\">  yr_built</th><th style=\"text-align: right;\">  yr_renovated</th><th>zipcode  </th><th style=\"text-align: right;\">     lat</th><th style=\"text-align: right;\">    long</th><th style=\"text-align: right;\">  sqft_living15</th><th style=\"text-align: right;\">  sqft_lot15</th></tr>\n",
       "</thead>\n",
       "<tbody>\n",
       "<tr><td style=\"text-align: right;\">  7.1293e+09</td><td>20141013T000000</td><td style=\"text-align: right;\">221900        </td><td style=\"text-align: right;\">         3</td><td style=\"text-align: right;\">       1   </td><td style=\"text-align: right;\">         1180</td><td style=\"text-align: right;\">      5650</td><td style=\"text-align: right;\">     nan</td><td>0           </td><td>0     </td><td>3          </td><td>7      </td><td style=\"text-align: right;\">         nan</td><td style=\"text-align: right;\">              0</td><td style=\"text-align: right;\">      1955</td><td style=\"text-align: right;\">             0</td><td>98178    </td><td style=\"text-align: right;\"> 47.5112</td><td style=\"text-align: right;\">-122.257</td><td style=\"text-align: right;\">           1340</td><td style=\"text-align: right;\">         nan</td></tr>\n",
       "<tr><td style=\"text-align: right;\">  6.4141e+09</td><td>20141209T000000</td><td style=\"text-align: right;\">538000        </td><td style=\"text-align: right;\">       nan</td><td style=\"text-align: right;\">     nan   </td><td style=\"text-align: right;\">         2570</td><td style=\"text-align: right;\">      7242</td><td style=\"text-align: right;\">       2</td><td>0           </td><td>0     </td><td>3          </td><td>7      </td><td style=\"text-align: right;\">        2170</td><td style=\"text-align: right;\">            nan</td><td style=\"text-align: right;\">      1951</td><td style=\"text-align: right;\">          1991</td><td>98125    </td><td style=\"text-align: right;\"> 47.721 </td><td style=\"text-align: right;\">-122.319</td><td style=\"text-align: right;\">           1690</td><td style=\"text-align: right;\">         nan</td></tr>\n",
       "<tr><td style=\"text-align: right;\">  5.6315e+09</td><td>20150225T000000</td><td style=\"text-align: right;\">180000        </td><td style=\"text-align: right;\">         2</td><td style=\"text-align: right;\">       1   </td><td style=\"text-align: right;\">          770</td><td style=\"text-align: right;\">     10000</td><td style=\"text-align: right;\">       1</td><td>0           </td><td>      </td><td>3          </td><td>6      </td><td style=\"text-align: right;\">         770</td><td style=\"text-align: right;\">              0</td><td style=\"text-align: right;\">      1933</td><td style=\"text-align: right;\">           nan</td><td>         </td><td style=\"text-align: right;\"> 47.7379</td><td style=\"text-align: right;\">-122.233</td><td style=\"text-align: right;\">           2720</td><td style=\"text-align: right;\">        8062</td></tr>\n",
       "<tr><td style=\"text-align: right;\">  2.4872e+09</td><td>20141209T000000</td><td style=\"text-align: right;\">   nan        </td><td style=\"text-align: right;\">         4</td><td style=\"text-align: right;\">       3   </td><td style=\"text-align: right;\">         1960</td><td style=\"text-align: right;\">      5000</td><td style=\"text-align: right;\">       1</td><td>0           </td><td>0     </td><td>5          </td><td>7      </td><td style=\"text-align: right;\">        1050</td><td style=\"text-align: right;\">            910</td><td style=\"text-align: right;\">      1965</td><td style=\"text-align: right;\">             0</td><td>         </td><td style=\"text-align: right;\"> 47.5208</td><td style=\"text-align: right;\"> nan    </td><td style=\"text-align: right;\">           1360</td><td style=\"text-align: right;\">        5000</td></tr>\n",
       "<tr><td style=\"text-align: right;\">  1.9544e+09</td><td>20150218T000000</td><td style=\"text-align: right;\">   nan        </td><td style=\"text-align: right;\">         3</td><td style=\"text-align: right;\">       2   </td><td style=\"text-align: right;\">         1680</td><td style=\"text-align: right;\">      8080</td><td style=\"text-align: right;\">       1</td><td>0           </td><td>0     </td><td>3          </td><td>8      </td><td style=\"text-align: right;\">        1680</td><td style=\"text-align: right;\">              0</td><td style=\"text-align: right;\">      1987</td><td style=\"text-align: right;\">             0</td><td>         </td><td style=\"text-align: right;\"> 47.6168</td><td style=\"text-align: right;\">-122.045</td><td style=\"text-align: right;\">            nan</td><td style=\"text-align: right;\">        7503</td></tr>\n",
       "<tr><td style=\"text-align: right;\">nan         </td><td>20140512T000000</td><td style=\"text-align: right;\">     1.225e+06</td><td style=\"text-align: right;\">         4</td><td style=\"text-align: right;\">     nan   </td><td style=\"text-align: right;\">          nan</td><td style=\"text-align: right;\">    101930</td><td style=\"text-align: right;\">       1</td><td>0           </td><td>      </td><td>           </td><td>       </td><td style=\"text-align: right;\">        3890</td><td style=\"text-align: right;\">            nan</td><td style=\"text-align: right;\">       nan</td><td style=\"text-align: right;\">             0</td><td>98053    </td><td style=\"text-align: right;\"> 47.6561</td><td style=\"text-align: right;\">-122.005</td><td style=\"text-align: right;\">           4760</td><td style=\"text-align: right;\">         nan</td></tr>\n",
       "<tr><td style=\"text-align: right;\">  1.3214e+09</td><td>               </td><td style=\"text-align: right;\">257500        </td><td style=\"text-align: right;\">         3</td><td style=\"text-align: right;\">       2.25</td><td style=\"text-align: right;\">         1715</td><td style=\"text-align: right;\">      6819</td><td style=\"text-align: right;\">       2</td><td>0           </td><td>0     </td><td>3          </td><td>7      </td><td style=\"text-align: right;\">         nan</td><td style=\"text-align: right;\">              0</td><td style=\"text-align: right;\">      1995</td><td style=\"text-align: right;\">             0</td><td>98003    </td><td style=\"text-align: right;\">nan     </td><td style=\"text-align: right;\"> nan    </td><td style=\"text-align: right;\">           2238</td><td style=\"text-align: right;\">        6819</td></tr>\n",
       "<tr><td style=\"text-align: right;\">  2.008e+09 </td><td>20150115T000000</td><td style=\"text-align: right;\">291850        </td><td style=\"text-align: right;\">       nan</td><td style=\"text-align: right;\">       1.5 </td><td style=\"text-align: right;\">         1060</td><td style=\"text-align: right;\">      9711</td><td style=\"text-align: right;\">     nan</td><td>0           </td><td>0     </td><td>3          </td><td>7      </td><td style=\"text-align: right;\">        1060</td><td style=\"text-align: right;\">              0</td><td style=\"text-align: right;\">      1963</td><td style=\"text-align: right;\">             0</td><td>98198    </td><td style=\"text-align: right;\"> 47.4095</td><td style=\"text-align: right;\">-122.315</td><td style=\"text-align: right;\">           1650</td><td style=\"text-align: right;\">         nan</td></tr>\n",
       "<tr><td style=\"text-align: right;\">  2.4146e+09</td><td>20150415T000000</td><td style=\"text-align: right;\">229500        </td><td style=\"text-align: right;\">       nan</td><td style=\"text-align: right;\">     nan   </td><td style=\"text-align: right;\">         1780</td><td style=\"text-align: right;\">      7470</td><td style=\"text-align: right;\">       1</td><td>            </td><td>      </td><td>3          </td><td>       </td><td style=\"text-align: right;\">        1050</td><td style=\"text-align: right;\">            730</td><td style=\"text-align: right;\">      1960</td><td style=\"text-align: right;\">             0</td><td>98146    </td><td style=\"text-align: right;\"> 47.5123</td><td style=\"text-align: right;\">-122.337</td><td style=\"text-align: right;\">           1780</td><td style=\"text-align: right;\">        8113</td></tr>\n",
       "<tr><td style=\"text-align: right;\">  3.7935e+09</td><td>20150312T000000</td><td style=\"text-align: right;\">323000        </td><td style=\"text-align: right;\">         3</td><td style=\"text-align: right;\">       2.5 </td><td style=\"text-align: right;\">         1890</td><td style=\"text-align: right;\">      6560</td><td style=\"text-align: right;\">     nan</td><td>0           </td><td>0     </td><td>3          </td><td>7      </td><td style=\"text-align: right;\">        1890</td><td style=\"text-align: right;\">            nan</td><td style=\"text-align: right;\">      2003</td><td style=\"text-align: right;\">             0</td><td>98038    </td><td style=\"text-align: right;\"> 47.3684</td><td style=\"text-align: right;\"> nan    </td><td style=\"text-align: right;\">           2390</td><td style=\"text-align: right;\">        7570</td></tr>\n",
       "</tbody>\n",
       "</table>"
      ]
     },
     "metadata": {},
     "output_type": "display_data"
    },
    {
     "data": {
      "text/plain": []
     },
     "execution_count": 16,
     "metadata": {},
     "output_type": "execute_result"
    }
   ],
   "source": [
    "houses_data = h2o.assign(houses_data,\"houses_data.hex\")\n",
    "miss_data = h2o.deep_copy(houses_data, \"miss_data.hex\")\n",
    "miss_data.insert_missing_values(fraction = 0.15, seed = 1234)"
   ]
  },
  {
   "cell_type": "markdown",
   "id": "457f9229",
   "metadata": {},
   "source": [
    "We can now compare the number of NA’s between the two datasets:"
   ]
  },
  {
   "cell_type": "code",
   "execution_count": 17,
   "id": "cd724e07",
   "metadata": {},
   "outputs": [
    {
     "name": "stdout",
     "output_type": "stream",
     "text": [
      "Missing data in the original Data Frame: 0.0\n",
      "Missing data in the modified Data Frame: 68240.0\n"
     ]
    }
   ],
   "source": [
    "print('Missing data in the original Data Frame:', houses_data.isna().sum())\n",
    "print('Missing data in the modified Data Frame:', miss_data.isna().sum())"
   ]
  },
  {
   "cell_type": "markdown",
   "id": "51ff6d4f",
   "metadata": {},
   "source": [
    "### Determining Best Parameters\n",
    "\n",
    "The main parameters in the GLRM model are associated with rank,\n",
    "regularization, loss, and initialization:\n",
    "\n",
    "#### Rank\n",
    "\n",
    "The size of the matrices *X* and *Y*. In the diagram, the rank is\n",
    "denoted as `k`.\n",
    "\n",
    "![](./images/GLRM.png)\n",
    "\n",
    "#### Regularizations\n",
    "\n",
    "| structure    | regularization\\_x | regularization\\_y |\n",
    "|--------------|-------------------|-------------------|\n",
    "| small        | Quadratic         | Quadratic         |\n",
    "| sparse       | L1                | L1                |\n",
    "| non negative | Non Negative      | Non Negative      |\n",
    "| clustered    | Sparse            | None              |\n",
    "\n",
    "#### Loss\n",
    "\n",
    "| data type   | loss          | L(u, a)                                                  |\n",
    "|-------------|---------------|----------------------------------------------------------|\n",
    "| real        | quadratic     | ![quadratic\\_loss](./images/quadratic_loss.gif)          |\n",
    "| real        | absolute      | ![absolute\\_loss](./images/absolute_loss.gif)            |\n",
    "| real        | huber         | ![huber\\_loss](./images/huber_loss.gif)                  |\n",
    "| boolean     | hinge         | ![hinge\\_loss](./images/hinge_loss.gif)                  |\n",
    "| boolean     | logistic      | ![logistic\\_loss](./images/logistic_loss.gif)            |\n",
    "| integer     | poisson       | ![poisson\\_loss](./images/poisson_loss.gif)              |\n",
    "| ordinal     | ordinal hinge | ![ordinal\\_hinge\\_loss](./images/ordinal_hinge_loss.gif) |\n",
    "| categorical | one-vs-all    | ![one\\_vs\\_all\\_loss](./images/one_vs_all_loss.gif)      |\n",
    "\n",
    "#### Initialization\n",
    "\n",
    "The `init` parameter specifies how the X and Y matrices are initially\n",
    "generated.\n",
    "\n",
    "-   **Random:** random arrays from normal distribution\n",
    "-   **PlusPlus:** initialization using the clusters from k-means++\n",
    "    initialization.\n",
    "-   **SVD:** initialization using the first k right singular values.\n",
    "    Helps with global convergence for matrix factorizations where global\n",
    "    convergence not guaranteed (ex Non Negative Matrix Factorization)\n",
    "\n",
    "In this tutorial, we will start by building a model using the default\n",
    "parameters. We will set the rank (`k`) of the model to 5 and the\n",
    "regularization strength to 2. We will tune these parameters later on. We\n",
    "will also tell the GLRM model to use Ordinal loss for our ordinal\n",
    "columns: `view`, `condition`, and `grade`."
   ]
  },
  {
   "cell_type": "code",
   "execution_count": 18,
   "id": "03928261",
   "metadata": {},
   "outputs": [
    {
     "name": "stdout",
     "output_type": "stream",
     "text": [
      "\n",
      "ModelMetricsGLRM: glrm\n",
      "** Reported on validation data. **\n",
      "\n",
      "MSE: NaN\n",
      "RMSE: NaN\n",
      "Sum of Squared Error (Numeric): 3262887894484737.5\n",
      "Misclassification Error (Categorical): 57857.0\n",
      "\n"
     ]
    }
   ],
   "source": [
    "glrm_k = 5\n",
    "gamma  = 2\n",
    "\n",
    "glrm_cols = [x for x in houses_data.columns if x not in [\"id\", \"date\",\"zipcode\"]]\n",
    "\n",
    "'''calculate indexes of columns \"condition\",\"grade\" and \"view\"'''\n",
    "losses_idx = [houses_data.columns.index(x) for x in houses_data.columns if x in [\"condition\",\"grade\",\"view\"]]\n",
    "losses_loss_f = [\"Ordinal\", \"Ordinal\", \"Ordinal\"]\n",
    "\n",
    "base_model = H2OGeneralizedLowRankEstimator(k=glrm_k,\n",
    "                                             gamma_x = gamma, \n",
    "                                             gamma_y = gamma,\n",
    "                                             model_id = \"base_glrm_model\", \n",
    "                                             seed = 1234, \n",
    "                                             regularization_x = \"Quadratic\", \n",
    "                                             regularization_y = \"Quadratic\",\n",
    "                                             loss=\"Absolute\",\n",
    "                                             loss_by_col=losses_loss_f,\n",
    "                                             loss_by_col_idx=losses_idx,\n",
    "                                             representation_name=\"base_glrm_frame\")\n",
    "\n",
    "base_model.train(training_frame=miss_data, \n",
    "                 validation_frame = houses_data,\n",
    "                 x=glrm_cols)\n",
    "\n",
    "# Let’s take a look at the validation error\n",
    "print(base_model.model_performance(valid=True))"
   ]
  },
  {
   "cell_type": "markdown",
   "id": "89d5f22b",
   "metadata": {},
   "source": [
    "We have a very high numeric error. We are also misclassifying more than 50% of the categorical values.  \n",
    "Let’s improve this by transforming the numerical values in the dataset.  \n",
    "This is advised because some columns may have very large means which may cause our model to be biased.  \n",
    "Since we are transforming the data, we make sure to include `impute_original = True`. This will reverse the transformation during prediction."
   ]
  },
  {
   "cell_type": "code",
   "execution_count": 19,
   "id": "30b530cc",
   "metadata": {},
   "outputs": [
    {
     "name": "stdout",
     "output_type": "stream",
     "text": [
      "\n",
      "ModelMetricsGLRM: glrm\n",
      "** Reported on validation data. **\n",
      "\n",
      "MSE: NaN\n",
      "RMSE: NaN\n",
      "Sum of Squared Error (Numeric): 2134773085652903.8\n",
      "Misclassification Error (Categorical): 62969.0\n",
      "\n"
     ]
    }
   ],
   "source": [
    "standardized_model = H2OGeneralizedLowRankEstimator(k=glrm_k,\n",
    "                                                    gamma_x = gamma, \n",
    "                                                    gamma_y = gamma,\n",
    "                                                    model_id = \"standardized_glrm_model\", \n",
    "                                                    seed = 1234, \n",
    "                                                    regularization_x = \"Quadratic\", \n",
    "                                                    regularization_y = \"Quadratic\",\n",
    "                                                    loss=\"Absolute\",\n",
    "                                                    loss_by_col=losses_loss_f,\n",
    "                                                    loss_by_col_idx=losses_idx,\n",
    "                                                    representation_name=\"standardized_glrm_frame\",\n",
    "                                                    impute_original = True,\n",
    "                                                    transform = \"STANDARDIZE\", )\n",
    "\n",
    "standardized_model.train(training_frame=miss_data, \n",
    "                         validation_frame = houses_data,\n",
    "                         x=glrm_cols)\n",
    "\n",
    "# Let’s take a look at the validation error\n",
    "print(standardized_model.model_performance(valid=True))"
   ]
  },
  {
   "cell_type": "code",
   "execution_count": 20,
   "id": "d216916f",
   "metadata": {},
   "outputs": [
    {
     "data": {
      "text/plain": [
       "1858581575013018.5"
      ]
     },
     "execution_count": 20,
     "metadata": {},
     "output_type": "execute_result"
    }
   ],
   "source": [
    "standardized_model.model_performance(valid=False).num_err()"
   ]
  },
  {
   "cell_type": "markdown",
   "id": "fbc2058c",
   "metadata": {},
   "source": [
    "Here we see a great reduction in the numeric error."
   ]
  },
  {
   "cell_type": "markdown",
   "id": "129b1f31",
   "metadata": {},
   "source": [
    "### Effects of Rank\n",
    "\n",
    "Rank controls the size of our decomposed matrices. If our rank is too\n",
    "low, we will have high error because we are not including some\n",
    "archetypes. If our rank is too high, our X and Y matrices are\n",
    "unnecessarily large and this may cause overfitting. We will examine how\n",
    "different ranks effect the reconstruction error on the validation data\n",
    "by training a GLRM model for the ranks 1, 3, 5, …, 21."
   ]
  },
  {
   "cell_type": "code",
   "execution_count": 21,
   "id": "4b51cbd9",
   "metadata": {},
   "outputs": [],
   "source": [
    "k_range = [1,5,9,13,17,21]\n",
    "perf_train_arr = []\n",
    "perf_valid_arr = []\n",
    "\n",
    "for k in k_range:\n",
    "    k_model = H2OGeneralizedLowRankEstimator(k=k,\n",
    "                                            gamma_x = gamma, \n",
    "                                            gamma_y = gamma,\n",
    "                                            model_id = \"k_glrm_model_\"+str(k), \n",
    "                                            seed = 1234, \n",
    "                                            regularization_x = \"Quadratic\", \n",
    "                                            regularization_y = \"Quadratic\",\n",
    "                                            loss=\"Absolute\",\n",
    "                                            loss_by_col=losses_loss_f,\n",
    "                                            loss_by_col_idx=losses_idx,\n",
    "                                            representation_name=\"k_glrm_frame_\"+str(k),\n",
    "                                            impute_original = True,\n",
    "                                            transform = \"STANDARDIZE\" )\n",
    "\n",
    "    k_model.train(training_frame=miss_data, \n",
    "                  validation_frame = houses_data,\n",
    "                  x=glrm_cols)\n",
    "\n",
    "    perf_train_arr.append(k_model.model_performance(valid=False).num_err())\n",
    "    perf_valid_arr.append(k_model.model_performance(valid=True).num_err())"
   ]
  },
  {
   "cell_type": "code",
   "execution_count": 22,
   "id": "fe044d59",
   "metadata": {},
   "outputs": [
    {
     "data": {
      "image/png": "[encoded data removed]",
      "text/plain": [
       "<Figure size 1080x720 with 1 Axes>"
      ]
     },
     "metadata": {
      "needs_background": "light"
     },
     "output_type": "display_data"
    }
   ],
   "source": [
    "import matplotlib.pyplot as plt\n",
    "import matplotlib.patches as mpatches\n",
    "\n",
    "plt.rcParams['figure.figsize'] = [15, 10]\n",
    "fig, ax = plt.subplots()\n",
    "ax.plot(k_range, perf_train_arr,c='r')\n",
    "ax.plot(k_range, perf_valid_arr, c='b')\n",
    "red_patch = mpatches.Patch(color='r', label='Training Error')\n",
    "blue_patch = mpatches.Patch(color='b', label='Validation Error')\n",
    "ax.legend(handles=[red_patch, blue_patch])\n",
    "plt.show()"
   ]
  },
  {
   "cell_type": "markdown",
   "id": "05e3cfd4",
   "metadata": {},
   "source": [
    "Based on our plot, it looks like\n",
    "our optimal k is 17. After this value, the improvement plateaus. If our\n",
    "aim was to lower the dimensionality of the data, we could choose the\n",
    "elbow of the graph as `k`. In this case, the elbow is round `k = 9`.\n",
    "\n",
    "The plot of the validation error should helps us to determine the\n",
    "true rank of the data. The true rank of the data should encompass the\n",
    "signal of the data, not the noise. When we see that the validation error\n",
    "is increasing as k increases, the low rank matrix is beginning to\n",
    "capture not just the signal but also the noise."
   ]
  },
  {
   "cell_type": "markdown",
   "id": "b569d836",
   "metadata": {},
   "source": [
    "### Effects of Regularization Strength\n",
    "\n",
    "Regularization strength is especially important if there are a lot of\n",
    "missing values in the data to prevent overfitting. Regularization is\n",
    "added to the loss function so that our new goal is to mimimize:\n",
    "\n",
    "![loss\\_equation](./images/loss_equation.gif)\n",
    "\n",
    "We will examine how different regularization strengths effect the\n",
    "reconstruction error on the validation data when `k = 17`. In a future\n",
    "version of this tutorial, we will run a grid search over both `k` and\n",
    "`gamma` since the effects of each parameter are dependent of each other."
   ]
  },
  {
   "cell_type": "code",
   "execution_count": 23,
   "id": "bc5631f7",
   "metadata": {},
   "outputs": [],
   "source": [
    "gamma_range = [0,0.1,0.2,0.3,0.4,0.5,0.6,0.7,0.8,0.9,1,3,4,5]\n",
    "perf_train_arr = []\n",
    "perf_valid_arr = []\n",
    "\n",
    "for gamma in gamma_range:\n",
    "    gamma_model = H2OGeneralizedLowRankEstimator(k=17,\n",
    "                                                gamma_x = gamma, \n",
    "                                                gamma_y = gamma,\n",
    "                                                model_id = \"gamma_glrm_model_\"+str(gamma), \n",
    "                                                seed = 1234, \n",
    "                                                regularization_x = \"Quadratic\", \n",
    "                                                regularization_y = \"Quadratic\",\n",
    "                                                loss=\"Absolute\",\n",
    "                                                loss_by_col=losses_loss_f,\n",
    "                                                loss_by_col_idx=losses_idx,\n",
    "                                                representation_name=\"gamma_glrm_frame_\"+str(gamma),\n",
    "                                                impute_original = True,\n",
    "                                                transform = \"STANDARDIZE\" )\n",
    "\n",
    "    gamma_model.train(training_frame=miss_data, \n",
    "                      validation_frame = houses_data,\n",
    "                      x=glrm_cols)\n",
    "\n",
    "    perf_train_arr.append(gamma_model.model_performance(valid=False).num_err())\n",
    "    perf_valid_arr.append(gamma_model.model_performance(valid=True).num_err())"
   ]
  },
  {
   "cell_type": "code",
   "execution_count": 24,
   "id": "9e6f15d4",
   "metadata": {},
   "outputs": [
    {
     "data": {
      "image/png": "[encoded data removed]",
      "text/plain": [
       "<Figure size 1080x720 with 1 Axes>"
      ]
     },
     "metadata": {
      "needs_background": "light"
     },
     "output_type": "display_data"
    }
   ],
   "source": [
    "plt.rcParams['figure.figsize'] = [15, 10]\n",
    "fig, ax = plt.subplots()\n",
    "ax.plot(gamma_range, perf_train_arr,c='r')\n",
    "ax.plot(gamma_range, perf_valid_arr, c='b')\n",
    "red_patch = mpatches.Patch(color='r', label='Training Error')\n",
    "blue_patch = mpatches.Patch(color='b', label='Validation Error')\n",
    "ax.legend(handles=[red_patch, blue_patch])\n",
    "plt.show()"
   ]
  },
  {
   "cell_type": "markdown",
   "id": "ddd91e74",
   "metadata": {},
   "source": [
    "The relationship between regularization strength and validation error shows a different story than what we saw with rank. Some regularization helps improve the validation error but too much hurts the performance. It looks like we have the best Validation performance with a regularization strength around 0.1 ."
   ]
  },
  {
   "cell_type": "markdown",
   "id": "c7a2fe7c",
   "metadata": {},
   "source": [
    "### Our Final Model\n",
    "\n",
    "Below we generate the final model and view the performance metrics."
   ]
  },
  {
   "cell_type": "code",
   "execution_count": 25,
   "id": "dd8cc5e9",
   "metadata": {},
   "outputs": [
    {
     "name": "stdout",
     "output_type": "stream",
     "text": [
      "\n",
      "ModelMetricsGLRM: glrm\n",
      "** Reported on validation data. **\n",
      "\n",
      "MSE: NaN\n",
      "RMSE: NaN\n",
      "Sum of Squared Error (Numeric): 278994325336073.25\n",
      "Misclassification Error (Categorical): 62566.0\n",
      "\n"
     ]
    }
   ],
   "source": [
    "final_glrm = H2OGeneralizedLowRankEstimator(k=17,\n",
    "                                            gamma_x = 0.1, \n",
    "                                            gamma_y = 0.1,\n",
    "                                            model_id = \"final_glrm_model_\", \n",
    "                                            seed = 1234, \n",
    "                                            regularization_x = \"Quadratic\", \n",
    "                                            regularization_y = \"Quadratic\",\n",
    "                                            loss=\"Absolute\",\n",
    "                                            loss_by_col=losses_loss_f,\n",
    "                                            loss_by_col_idx=losses_idx,\n",
    "                                            representation_name=\"final_glrm_frame\",\n",
    "                                            impute_original = True,\n",
    "                                            transform = \"STANDARDIZE\" )\n",
    "final_glrm.train(training_frame=miss_data, \n",
    "                 validation_frame = houses_data,\n",
    "                 x=glrm_cols)\n",
    "print(final_glrm.model_performance(valid = True))"
   ]
  },
  {
   "cell_type": "markdown",
   "id": "025d90ef",
   "metadata": {},
   "source": [
    "### Matrix Completion and Denoising\n",
    "\n",
    "Matrix Completion and Denoising occur by multiplying the matrices X and\n",
    "Y (if the original data was numeric) or using the function `h2o.predict`\n",
    "(in the event of mixed data types).\n",
    "\n",
    "In our `miss_data`, we manually created ~68k missing values. We will use\n",
    "our final GLRM model to impute these missing values."
   ]
  },
  {
   "cell_type": "code",
   "execution_count": 26,
   "id": "18da7949",
   "metadata": {},
   "outputs": [],
   "source": [
    "# Predict data based on low rank matrices\n",
    "houses_pred = final_glrm.predict(miss_data)\n",
    "\n",
    "# Add House ID as first column\n",
    "houses_pred = miss_data['id'].cbind(houses_pred)"
   ]
  },
  {
   "cell_type": "markdown",
   "id": "d08964e9",
   "metadata": {},
   "source": [
    "Let’s take a look at the number of missing values in the predicted data."
   ]
  },
  {
   "cell_type": "code",
   "execution_count": 27,
   "id": "d2480070",
   "metadata": {},
   "outputs": [
    {
     "name": "stdout",
     "output_type": "stream",
     "text": [
      "Missing data in Data Frame imputed with missing values: 68240.0\n",
      "Missing data in the transformed by GLRM Data Frame : 0.0\n"
     ]
    }
   ],
   "source": [
    "print('Missing data in Data Frame imputed with missing values:', miss_data.isna().sum())\n",
    "# 68240.0\n",
    "print('Missing data in the transformed by GLRM Data Frame :', houses_pred[1:].isna().sum())\n",
    "# 0"
   ]
  },
  {
   "cell_type": "markdown",
   "id": "2f4d1174",
   "metadata": {},
   "source": [
    "Let’s examine the first record which had missing values added to the\n",
    "features `floors` and `sqft_above`."
   ]
  },
  {
   "cell_type": "code",
   "execution_count": 28,
   "id": "57101ac2",
   "metadata": {},
   "outputs": [
    {
     "data": {
      "text/html": [
       "<table>\n",
       "<thead>\n",
       "<tr><th style=\"text-align: right;\">  floors</th><th style=\"text-align: right;\">  sqft_above</th></tr>\n",
       "</thead>\n",
       "<tbody>\n",
       "<tr><td style=\"text-align: right;\">       1</td><td style=\"text-align: right;\">        1180</td></tr>\n",
       "</tbody>\n",
       "</table>"
      ]
     },
     "metadata": {},
     "output_type": "display_data"
    },
    {
     "data": {
      "text/plain": []
     },
     "execution_count": 28,
     "metadata": {},
     "output_type": "execute_result"
    }
   ],
   "source": [
    "houses_data[['floors','sqft_above']].head(1)"
   ]
  },
  {
   "cell_type": "code",
   "execution_count": 29,
   "id": "75981057",
   "metadata": {},
   "outputs": [
    {
     "data": {
      "text/html": [
       "<table>\n",
       "<thead>\n",
       "<tr><th style=\"text-align: right;\">  reconstr_floors</th><th style=\"text-align: right;\">  reconstr_sqft_above</th></tr>\n",
       "</thead>\n",
       "<tbody>\n",
       "<tr><td style=\"text-align: right;\">          1.12398</td><td style=\"text-align: right;\">              1177.52</td></tr>\n",
       "</tbody>\n",
       "</table>"
      ]
     },
     "metadata": {},
     "output_type": "display_data"
    },
    {
     "data": {
      "text/plain": []
     },
     "execution_count": 29,
     "metadata": {},
     "output_type": "execute_result"
    }
   ],
   "source": [
    "houses_pred[['reconstr_floors','reconstr_sqft_above']].head(1)"
   ]
  },
  {
   "cell_type": "markdown",
   "id": "35fab899",
   "metadata": {},
   "source": [
    "\n",
    "|  floors|  sqft\\_above|\n",
    "|-------:|------------:|\n",
    "|       1|         1180|\n",
    "\n",
    "|  reconstr\\_floors|  reconstr\\_sqft\\_above|\n",
    "|-----------------:|----------------------:|\n",
    "|          1.12398 |               1177.52 |\n",
    "\n",
    "The GLRM model is able to correctly estimate the number of floors and\n",
    "the sqft of the interior above the ground level.\n",
    "\n",
    "Compressing Data\n",
    "----------------\n",
    "\n",
    "If the goal of GLRM is to compress data, then choosing the best rank of\n",
    "the model may be done slightly differently. As seen before, we want to\n",
    "minimize the error on a validation dataset, however, now we need to keep\n",
    "in mind the compression rate.\n",
    "\n",
    "Compression Rate = Number of Non Zeros is X and Y Matrices/ Number of\n",
    "Non Zeros in original data\n",
    "\n",
    "If the decomposed matrices are dense, then the compression rate is\n",
    "simply =\n",
    "`(num rows of X + num cols of Y)*k/(num cols of A * num rows of A)`\n",
    "where A is the original data.\n",
    "\n",
    "We have a dense decomposition because we have used the quadratic\n",
    "regularization. Therefore, the compression rate is\n",
    "`((1470 + 77)*9)/(1470*35) = 27%`. We may choose to compress further by\n",
    "using an L1 regularization instead of L2.\n",
    "\n",
    "If we need to achieve a compression rate of 10%, then we would choose\n",
    "the rank that minimizes the validation error under the restriction that\n",
    "the compression rate is &lt;= 10%."
   ]
  }
 ],
 "metadata": {
  "kernelspec": {
   "display_name": "Python 3 (ipykernel)",
   "language": "python",
   "name": "python3"
  },
  "language_info": {
   "codemirror_mode": {
    "name": "ipython",
    "version": 3
   },
   "file_extension": ".py",
   "mimetype": "text/x-python",
   "name": "python",
   "nbconvert_exporter": "python",
   "pygments_lexer": "ipython3",
   "version": "3.7.9"
  }
 },
 "nbformat": 4,
 "nbformat_minor": 5
}
