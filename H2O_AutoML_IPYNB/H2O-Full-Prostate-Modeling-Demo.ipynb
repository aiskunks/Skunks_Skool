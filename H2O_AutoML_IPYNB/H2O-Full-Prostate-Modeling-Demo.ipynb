{
 "cells": [
  {
   "cell_type": "code",
   "execution_count": 1,
   "metadata": {
    "collapsed": true
   },
   "outputs": [],
   "source": [
    "import h2o"
   ]
  },
  {
   "cell_type": "code",
   "execution_count": 2,
   "metadata": {},
   "outputs": [
    {
     "name": "stderr",
     "output_type": "stream",
     "text": [
      "ERROR:h2o:Key init.version_check is not a valid config key\n"
     ]
    },
    {
     "name": "stdout",
     "output_type": "stream",
     "text": [
      "Checking whether there is an H2O instance running at http://localhost:54321..... not found.\n",
      "Attempting to start a local H2O server...\n",
      "  Java Version: java version \"1.8.0_101\"; Java(TM) SE Runtime Environment (build 1.8.0_101-b13); Java HotSpot(TM) 64-Bit Server VM (build 25.101-b13, mixed mode)\n",
      "  Starting server from /Users/avkashchauhan/.local/lib/python2.7/site-packages/h2o/backend/bin/h2o.jar\n",
      "  Ice root: /var/folders/x7/331tvwcd6p17jj9zdmhnkpyc0000gn/T/tmpNrr4y0\n",
      "  JVM stdout: /var/folders/x7/331tvwcd6p17jj9zdmhnkpyc0000gn/T/tmpNrr4y0/h2o_avkashchauhan_started_from_python.out\n",
      "  JVM stderr: /var/folders/x7/331tvwcd6p17jj9zdmhnkpyc0000gn/T/tmpNrr4y0/h2o_avkashchauhan_started_from_python.err\n",
      "  Server is running at http://127.0.0.1:54321\n",
      "Connecting to H2O server at http://127.0.0.1:54321... successful.\n"
     ]
    },
    {
     "data": {
      "text/html": [
       "<div style=\"overflow:auto\"><table style=\"width:50%\"><tr><td>H2O cluster uptime:</td>\n",
       "<td>02 secs</td></tr>\n",
       "<tr><td>H2O cluster version:</td>\n",
       "<td>3.14.0.3</td></tr>\n",
       "<tr><td>H2O cluster version age:</td>\n",
       "<td>2 days </td></tr>\n",
       "<tr><td>H2O cluster name:</td>\n",
       "<td>H2O_from_python_avkashchauhan_z78ck3</td></tr>\n",
       "<tr><td>H2O cluster total nodes:</td>\n",
       "<td>1</td></tr>\n",
       "<tr><td>H2O cluster free memory:</td>\n",
       "<td>3.556 Gb</td></tr>\n",
       "<tr><td>H2O cluster total cores:</td>\n",
       "<td>8</td></tr>\n",
       "<tr><td>H2O cluster allowed cores:</td>\n",
       "<td>8</td></tr>\n",
       "<tr><td>H2O cluster status:</td>\n",
       "<td>accepting new members, healthy</td></tr>\n",
       "<tr><td>H2O connection url:</td>\n",
       "<td>http://127.0.0.1:54321</td></tr>\n",
       "<tr><td>H2O connection proxy:</td>\n",
       "<td>None</td></tr>\n",
       "<tr><td>H2O internal security:</td>\n",
       "<td>False</td></tr>\n",
       "<tr><td>H2O API Extensions:</td>\n",
       "<td>XGBoost, Algos, AutoML, Core V3, Core V4</td></tr>\n",
       "<tr><td>Python version:</td>\n",
       "<td>2.7.13 final</td></tr></table></div>"
      ],
      "text/plain": [
       "--------------------------  ----------------------------------------\n",
       "H2O cluster uptime:         02 secs\n",
       "H2O cluster version:        3.14.0.3\n",
       "H2O cluster version age:    2 days\n",
       "H2O cluster name:           H2O_from_python_avkashchauhan_z78ck3\n",
       "H2O cluster total nodes:    1\n",
       "H2O cluster free memory:    3.556 Gb\n",
       "H2O cluster total cores:    8\n",
       "H2O cluster allowed cores:  8\n",
       "H2O cluster status:         accepting new members, healthy\n",
       "H2O connection url:         http://127.0.0.1:54321\n",
       "H2O connection proxy:\n",
       "H2O internal security:      False\n",
       "H2O API Extensions:         XGBoost, Algos, AutoML, Core V3, Core V4\n",
       "Python version:             2.7.13 final\n",
       "--------------------------  ----------------------------------------"
      ]
     },
     "metadata": {},
     "output_type": "display_data"
    }
   ],
   "source": [
    "h2o.init()"
   ]
  },
  {
   "cell_type": "code",
   "execution_count": 3,
   "metadata": {},
   "outputs": [
    {
     "name": "stdout",
     "output_type": "stream",
     "text": [
      "[WARNING] in <ipython-input-3-543db3df6d2d> line 1:\n",
      "    >>> h2o.cluster_info()\n",
      "        ^^^^ Deprecated, use ``h2o.cluster().show_status()``.\n"
     ]
    },
    {
     "data": {
      "text/html": [
       "<div style=\"overflow:auto\"><table style=\"width:50%\"><tr><td>H2O cluster uptime:</td>\n",
       "<td>08 secs</td></tr>\n",
       "<tr><td>H2O cluster version:</td>\n",
       "<td>3.14.0.3</td></tr>\n",
       "<tr><td>H2O cluster version age:</td>\n",
       "<td>2 days </td></tr>\n",
       "<tr><td>H2O cluster name:</td>\n",
       "<td>H2O_from_python_avkashchauhan_z78ck3</td></tr>\n",
       "<tr><td>H2O cluster total nodes:</td>\n",
       "<td>1</td></tr>\n",
       "<tr><td>H2O cluster free memory:</td>\n",
       "<td>3.543 Gb</td></tr>\n",
       "<tr><td>H2O cluster total cores:</td>\n",
       "<td>8</td></tr>\n",
       "<tr><td>H2O cluster allowed cores:</td>\n",
       "<td>8</td></tr>\n",
       "<tr><td>H2O cluster status:</td>\n",
       "<td>locked, healthy</td></tr>\n",
       "<tr><td>H2O connection url:</td>\n",
       "<td>http://127.0.0.1:54321</td></tr>\n",
       "<tr><td>H2O connection proxy:</td>\n",
       "<td>None</td></tr>\n",
       "<tr><td>H2O internal security:</td>\n",
       "<td>False</td></tr>\n",
       "<tr><td>H2O API Extensions:</td>\n",
       "<td>XGBoost, Algos, AutoML, Core V3, Core V4</td></tr>\n",
       "<tr><td>Python version:</td>\n",
       "<td>2.7.13 final</td></tr></table></div>"
      ],
      "text/plain": [
       "--------------------------  ----------------------------------------\n",
       "H2O cluster uptime:         08 secs\n",
       "H2O cluster version:        3.14.0.3\n",
       "H2O cluster version age:    2 days\n",
       "H2O cluster name:           H2O_from_python_avkashchauhan_z78ck3\n",
       "H2O cluster total nodes:    1\n",
       "H2O cluster free memory:    3.543 Gb\n",
       "H2O cluster total cores:    8\n",
       "H2O cluster allowed cores:  8\n",
       "H2O cluster status:         locked, healthy\n",
       "H2O connection url:         http://127.0.0.1:54321\n",
       "H2O connection proxy:\n",
       "H2O internal security:      False\n",
       "H2O API Extensions:         XGBoost, Algos, AutoML, Core V3, Core V4\n",
       "Python version:             2.7.13 final\n",
       "--------------------------  ----------------------------------------"
      ]
     },
     "metadata": {},
     "output_type": "display_data"
    }
   ],
   "source": [
    "h2o.cluster_info()"
   ]
  },
  {
   "cell_type": "code",
   "execution_count": 4,
   "metadata": {},
   "outputs": [
    {
     "name": "stdout",
     "output_type": "stream",
     "text": [
      "[WARNING] in <ipython-input-4-f797d33662e0> line 1:\n",
      "    >>> h2o.cluster_status()\n",
      "        ^^^^ Deprecated, use ``h2o.cluster().show_status(True)``.\n"
     ]
    },
    {
     "data": {
      "text/html": [
       "<div style=\"overflow:auto\"><table style=\"width:50%\"><tr><td>H2O cluster uptime:</td>\n",
       "<td>12 secs</td></tr>\n",
       "<tr><td>H2O cluster version:</td>\n",
       "<td>3.14.0.3</td></tr>\n",
       "<tr><td>H2O cluster version age:</td>\n",
       "<td>2 days </td></tr>\n",
       "<tr><td>H2O cluster name:</td>\n",
       "<td>H2O_from_python_avkashchauhan_z78ck3</td></tr>\n",
       "<tr><td>H2O cluster total nodes:</td>\n",
       "<td>1</td></tr>\n",
       "<tr><td>H2O cluster free memory:</td>\n",
       "<td>3.543 Gb</td></tr>\n",
       "<tr><td>H2O cluster total cores:</td>\n",
       "<td>8</td></tr>\n",
       "<tr><td>H2O cluster allowed cores:</td>\n",
       "<td>8</td></tr>\n",
       "<tr><td>H2O cluster status:</td>\n",
       "<td>locked, healthy</td></tr>\n",
       "<tr><td>H2O connection url:</td>\n",
       "<td>http://127.0.0.1:54321</td></tr>\n",
       "<tr><td>H2O connection proxy:</td>\n",
       "<td>None</td></tr>\n",
       "<tr><td>H2O internal security:</td>\n",
       "<td>False</td></tr>\n",
       "<tr><td>H2O API Extensions:</td>\n",
       "<td>XGBoost, Algos, AutoML, Core V3, Core V4</td></tr>\n",
       "<tr><td>Python version:</td>\n",
       "<td>2.7.13 final</td></tr></table></div>"
      ],
      "text/plain": [
       "--------------------------  ----------------------------------------\n",
       "H2O cluster uptime:         12 secs\n",
       "H2O cluster version:        3.14.0.3\n",
       "H2O cluster version age:    2 days\n",
       "H2O cluster name:           H2O_from_python_avkashchauhan_z78ck3\n",
       "H2O cluster total nodes:    1\n",
       "H2O cluster free memory:    3.543 Gb\n",
       "H2O cluster total cores:    8\n",
       "H2O cluster allowed cores:  8\n",
       "H2O cluster status:         locked, healthy\n",
       "H2O connection url:         http://127.0.0.1:54321\n",
       "H2O connection proxy:\n",
       "H2O internal security:      False\n",
       "H2O API Extensions:         XGBoost, Algos, AutoML, Core V3, Core V4\n",
       "Python version:             2.7.13 final\n",
       "--------------------------  ----------------------------------------"
      ]
     },
     "metadata": {},
     "output_type": "display_data"
    },
    {
     "data": {
      "text/html": [
       "<div style=\"overflow:auto\"><table style=\"width:50%\"><tr><td><b>Nodes info:</b></td>\n",
       "<td><b>Node 1</b></td></tr>\n",
       "<tr><td>h2o</td>\n",
       "<td>/127.0.0.1:54321</td></tr>\n",
       "<tr><td>healthy</td>\n",
       "<td>True</td></tr>\n",
       "<tr><td>last_ping</td>\n",
       "<td>1506353553801.0000000</td></tr>\n",
       "<tr><td>num_cpus</td>\n",
       "<td>8</td></tr>\n",
       "<tr><td>sys_load</td>\n",
       "<td>2.3574219</td></tr>\n",
       "<tr><td>mem_value_size</td>\n",
       "<td>0</td></tr>\n",
       "<tr><td>free_mem</td>\n",
       "<td>3803731968.0000000</td></tr>\n",
       "<tr><td>pojo_mem</td>\n",
       "<td>14132224</td></tr>\n",
       "<tr><td>swap_mem</td>\n",
       "<td>0</td></tr>\n",
       "<tr><td>free_disk</td>\n",
       "<td>265825550336.0000000</td></tr>\n",
       "<tr><td>max_disk</td>\n",
       "<td>499987251200.0000000</td></tr>\n",
       "<tr><td>pid</td>\n",
       "<td>63405</td></tr>\n",
       "<tr><td>num_keys</td>\n",
       "<td>0</td></tr>\n",
       "<tr><td>tcps_active</td>\n",
       "<td>0</td></tr>\n",
       "<tr><td>open_fds</td>\n",
       "<td>-1</td></tr>\n",
       "<tr><td>rpcs_active</td>\n",
       "<td>0</td></tr></table></div>"
      ],
      "text/plain": [
       "Nodes info:     Node 1\n",
       "--------------  ----------------\n",
       "h2o             /127.0.0.1:54321\n",
       "healthy         True\n",
       "last_ping       1506353553801\n",
       "num_cpus        8\n",
       "sys_load        2.3574219\n",
       "mem_value_size  0\n",
       "free_mem        3803731968\n",
       "pojo_mem        14132224\n",
       "swap_mem        0\n",
       "free_disk       265825550336\n",
       "max_disk        499987251200\n",
       "pid             63405\n",
       "num_keys        0\n",
       "tcps_active     0\n",
       "open_fds        -1\n",
       "rpcs_active     0"
      ]
     },
     "metadata": {},
     "output_type": "display_data"
    }
   ],
   "source": [
    "h2o.cluster_status()"
   ]
  },
  {
   "cell_type": "code",
   "execution_count": 5,
   "metadata": {},
   "outputs": [
    {
     "name": "stdout",
     "output_type": "stream",
     "text": [
      "Parse progress: |█████████████████████████████████████████████████████████| 100%\n"
     ]
    }
   ],
   "source": [
    "df = h2o.import_file(\"https://raw.githubusercontent.com/h2oai/sparkling-water/master/examples/smalldata/prostate.csv\")"
   ]
  },
  {
   "cell_type": "code",
   "execution_count": 6,
   "metadata": {},
   "outputs": [
    {
     "data": {
      "text/html": [
       "<table>\n",
       "<thead>\n",
       "<tr><th>       </th><th>ID           </th><th>CAPSULE       </th><th>AGE          </th><th>RACE          </th><th>DPROS        </th><th>DCAPS         </th><th>PSA          </th><th>VOL          </th><th>GLEASON      </th></tr>\n",
       "</thead>\n",
       "<tbody>\n",
       "<tr><td>type   </td><td>int          </td><td>int           </td><td>int          </td><td>int           </td><td>int          </td><td>int           </td><td>real         </td><td>real         </td><td>int          </td></tr>\n",
       "<tr><td>mins   </td><td>1.0          </td><td>0.0           </td><td>43.0         </td><td>0.0           </td><td>1.0          </td><td>1.0           </td><td>0.3          </td><td>0.0          </td><td>0.0          </td></tr>\n",
       "<tr><td>mean   </td><td>190.5        </td><td>0.402631578947</td><td>66.0394736842</td><td>1.08684210526 </td><td>2.27105263158</td><td>1.10789473684 </td><td>15.4086315789</td><td>15.8129210526</td><td>6.38421052632</td></tr>\n",
       "<tr><td>maxs   </td><td>380.0        </td><td>1.0           </td><td>79.0         </td><td>2.0           </td><td>4.0          </td><td>2.0           </td><td>139.7        </td><td>97.6         </td><td>9.0          </td></tr>\n",
       "<tr><td>sigma  </td><td>109.840793879</td><td>0.491074338963</td><td>6.52707126917</td><td>0.308773258025</td><td>1.00010761815</td><td>0.310656449351</td><td>19.9975726686</td><td>18.3476199673</td><td>1.09195337443</td></tr>\n",
       "<tr><td>zeros  </td><td>0            </td><td>227           </td><td>0            </td><td>3             </td><td>0            </td><td>0             </td><td>0            </td><td>167          </td><td>2            </td></tr>\n",
       "<tr><td>missing</td><td>0            </td><td>0             </td><td>0            </td><td>0             </td><td>0            </td><td>0             </td><td>0            </td><td>0            </td><td>0            </td></tr>\n",
       "<tr><td>0      </td><td>1.0          </td><td>0.0           </td><td>65.0         </td><td>1.0           </td><td>2.0          </td><td>1.0           </td><td>1.4          </td><td>0.0          </td><td>6.0          </td></tr>\n",
       "<tr><td>1      </td><td>2.0          </td><td>0.0           </td><td>72.0         </td><td>1.0           </td><td>3.0          </td><td>2.0           </td><td>6.7          </td><td>0.0          </td><td>7.0          </td></tr>\n",
       "<tr><td>2      </td><td>3.0          </td><td>0.0           </td><td>70.0         </td><td>1.0           </td><td>1.0          </td><td>2.0           </td><td>4.9          </td><td>0.0          </td><td>6.0          </td></tr>\n",
       "<tr><td>3      </td><td>4.0          </td><td>0.0           </td><td>76.0         </td><td>2.0           </td><td>2.0          </td><td>1.0           </td><td>51.2         </td><td>20.0         </td><td>7.0          </td></tr>\n",
       "<tr><td>4      </td><td>5.0          </td><td>0.0           </td><td>69.0         </td><td>1.0           </td><td>1.0          </td><td>1.0           </td><td>12.3         </td><td>55.9         </td><td>6.0          </td></tr>\n",
       "<tr><td>5      </td><td>6.0          </td><td>1.0           </td><td>71.0         </td><td>1.0           </td><td>3.0          </td><td>2.0           </td><td>3.3          </td><td>0.0          </td><td>8.0          </td></tr>\n",
       "<tr><td>6      </td><td>7.0          </td><td>0.0           </td><td>68.0         </td><td>2.0           </td><td>4.0          </td><td>2.0           </td><td>31.9         </td><td>0.0          </td><td>7.0          </td></tr>\n",
       "<tr><td>7      </td><td>8.0          </td><td>0.0           </td><td>61.0         </td><td>2.0           </td><td>4.0          </td><td>2.0           </td><td>66.7         </td><td>27.2         </td><td>7.0          </td></tr>\n",
       "<tr><td>8      </td><td>9.0          </td><td>0.0           </td><td>69.0         </td><td>1.0           </td><td>1.0          </td><td>1.0           </td><td>3.9          </td><td>24.0         </td><td>7.0          </td></tr>\n",
       "<tr><td>9      </td><td>10.0         </td><td>0.0           </td><td>68.0         </td><td>2.0           </td><td>1.0          </td><td>2.0           </td><td>13.0         </td><td>0.0          </td><td>6.0          </td></tr>\n",
       "</tbody>\n",
       "</table>"
      ]
     },
     "metadata": {},
     "output_type": "display_data"
    }
   ],
   "source": [
    "df.summary()"
   ]
  },
  {
   "cell_type": "code",
   "execution_count": 7,
   "metadata": {},
   "outputs": [
    {
     "name": "stdout",
     "output_type": "stream",
     "text": [
      "Rows:380\n",
      "Cols:9\n",
      "\n",
      "\n"
     ]
    },
    {
     "data": {
      "text/html": [
       "<table>\n",
       "<thead>\n",
       "<tr><th>       </th><th>ID           </th><th>CAPSULE       </th><th>AGE          </th><th>RACE          </th><th>DPROS        </th><th>DCAPS         </th><th>PSA          </th><th>VOL          </th><th>GLEASON      </th></tr>\n",
       "</thead>\n",
       "<tbody>\n",
       "<tr><td>type   </td><td>int          </td><td>int           </td><td>int          </td><td>int           </td><td>int          </td><td>int           </td><td>real         </td><td>real         </td><td>int          </td></tr>\n",
       "<tr><td>mins   </td><td>1.0          </td><td>0.0           </td><td>43.0         </td><td>0.0           </td><td>1.0          </td><td>1.0           </td><td>0.3          </td><td>0.0          </td><td>0.0          </td></tr>\n",
       "<tr><td>mean   </td><td>190.5        </td><td>0.402631578947</td><td>66.0394736842</td><td>1.08684210526 </td><td>2.27105263158</td><td>1.10789473684 </td><td>15.4086315789</td><td>15.8129210526</td><td>6.38421052632</td></tr>\n",
       "<tr><td>maxs   </td><td>380.0        </td><td>1.0           </td><td>79.0         </td><td>2.0           </td><td>4.0          </td><td>2.0           </td><td>139.7        </td><td>97.6         </td><td>9.0          </td></tr>\n",
       "<tr><td>sigma  </td><td>109.840793879</td><td>0.491074338963</td><td>6.52707126917</td><td>0.308773258025</td><td>1.00010761815</td><td>0.310656449351</td><td>19.9975726686</td><td>18.3476199673</td><td>1.09195337443</td></tr>\n",
       "<tr><td>zeros  </td><td>0            </td><td>227           </td><td>0            </td><td>3             </td><td>0            </td><td>0             </td><td>0            </td><td>167          </td><td>2            </td></tr>\n",
       "<tr><td>missing</td><td>0            </td><td>0             </td><td>0            </td><td>0             </td><td>0            </td><td>0             </td><td>0            </td><td>0            </td><td>0            </td></tr>\n",
       "<tr><td>0      </td><td>1.0          </td><td>0.0           </td><td>65.0         </td><td>1.0           </td><td>2.0          </td><td>1.0           </td><td>1.4          </td><td>0.0          </td><td>6.0          </td></tr>\n",
       "<tr><td>1      </td><td>2.0          </td><td>0.0           </td><td>72.0         </td><td>1.0           </td><td>3.0          </td><td>2.0           </td><td>6.7          </td><td>0.0          </td><td>7.0          </td></tr>\n",
       "<tr><td>2      </td><td>3.0          </td><td>0.0           </td><td>70.0         </td><td>1.0           </td><td>1.0          </td><td>2.0           </td><td>4.9          </td><td>0.0          </td><td>6.0          </td></tr>\n",
       "<tr><td>3      </td><td>4.0          </td><td>0.0           </td><td>76.0         </td><td>2.0           </td><td>2.0          </td><td>1.0           </td><td>51.2         </td><td>20.0         </td><td>7.0          </td></tr>\n",
       "<tr><td>4      </td><td>5.0          </td><td>0.0           </td><td>69.0         </td><td>1.0           </td><td>1.0          </td><td>1.0           </td><td>12.3         </td><td>55.9         </td><td>6.0          </td></tr>\n",
       "<tr><td>5      </td><td>6.0          </td><td>1.0           </td><td>71.0         </td><td>1.0           </td><td>3.0          </td><td>2.0           </td><td>3.3          </td><td>0.0          </td><td>8.0          </td></tr>\n",
       "<tr><td>6      </td><td>7.0          </td><td>0.0           </td><td>68.0         </td><td>2.0           </td><td>4.0          </td><td>2.0           </td><td>31.9         </td><td>0.0          </td><td>7.0          </td></tr>\n",
       "<tr><td>7      </td><td>8.0          </td><td>0.0           </td><td>61.0         </td><td>2.0           </td><td>4.0          </td><td>2.0           </td><td>66.7         </td><td>27.2         </td><td>7.0          </td></tr>\n",
       "<tr><td>8      </td><td>9.0          </td><td>0.0           </td><td>69.0         </td><td>1.0           </td><td>1.0          </td><td>1.0           </td><td>3.9          </td><td>24.0         </td><td>7.0          </td></tr>\n",
       "<tr><td>9      </td><td>10.0         </td><td>0.0           </td><td>68.0         </td><td>2.0           </td><td>1.0          </td><td>2.0           </td><td>13.0         </td><td>0.0          </td><td>6.0          </td></tr>\n",
       "</tbody>\n",
       "</table>"
      ]
     },
     "metadata": {},
     "output_type": "display_data"
    }
   ],
   "source": [
    "df.describe()"
   ]
  },
  {
   "cell_type": "code",
   "execution_count": 8,
   "metadata": {},
   "outputs": [
    {
     "data": {
      "text/html": [
       "<table>\n",
       "<thead>\n",
       "<tr><th style=\"text-align: right;\">  ID</th><th style=\"text-align: right;\">  CAPSULE</th><th style=\"text-align: right;\">  AGE</th><th style=\"text-align: right;\">  RACE</th><th style=\"text-align: right;\">  DPROS</th><th style=\"text-align: right;\">  DCAPS</th><th style=\"text-align: right;\">  PSA</th><th style=\"text-align: right;\">  VOL</th><th style=\"text-align: right;\">  GLEASON</th></tr>\n",
       "</thead>\n",
       "<tbody>\n",
       "<tr><td style=\"text-align: right;\">   1</td><td style=\"text-align: right;\">        0</td><td style=\"text-align: right;\">   65</td><td style=\"text-align: right;\">     1</td><td style=\"text-align: right;\">      2</td><td style=\"text-align: right;\">      1</td><td style=\"text-align: right;\">  1.4</td><td style=\"text-align: right;\">  0  </td><td style=\"text-align: right;\">        6</td></tr>\n",
       "<tr><td style=\"text-align: right;\">   2</td><td style=\"text-align: right;\">        0</td><td style=\"text-align: right;\">   72</td><td style=\"text-align: right;\">     1</td><td style=\"text-align: right;\">      3</td><td style=\"text-align: right;\">      2</td><td style=\"text-align: right;\">  6.7</td><td style=\"text-align: right;\">  0  </td><td style=\"text-align: right;\">        7</td></tr>\n",
       "<tr><td style=\"text-align: right;\">   3</td><td style=\"text-align: right;\">        0</td><td style=\"text-align: right;\">   70</td><td style=\"text-align: right;\">     1</td><td style=\"text-align: right;\">      1</td><td style=\"text-align: right;\">      2</td><td style=\"text-align: right;\">  4.9</td><td style=\"text-align: right;\">  0  </td><td style=\"text-align: right;\">        6</td></tr>\n",
       "<tr><td style=\"text-align: right;\">   4</td><td style=\"text-align: right;\">        0</td><td style=\"text-align: right;\">   76</td><td style=\"text-align: right;\">     2</td><td style=\"text-align: right;\">      2</td><td style=\"text-align: right;\">      1</td><td style=\"text-align: right;\"> 51.2</td><td style=\"text-align: right;\"> 20  </td><td style=\"text-align: right;\">        7</td></tr>\n",
       "<tr><td style=\"text-align: right;\">   5</td><td style=\"text-align: right;\">        0</td><td style=\"text-align: right;\">   69</td><td style=\"text-align: right;\">     1</td><td style=\"text-align: right;\">      1</td><td style=\"text-align: right;\">      1</td><td style=\"text-align: right;\"> 12.3</td><td style=\"text-align: right;\"> 55.9</td><td style=\"text-align: right;\">        6</td></tr>\n",
       "<tr><td style=\"text-align: right;\">   6</td><td style=\"text-align: right;\">        1</td><td style=\"text-align: right;\">   71</td><td style=\"text-align: right;\">     1</td><td style=\"text-align: right;\">      3</td><td style=\"text-align: right;\">      2</td><td style=\"text-align: right;\">  3.3</td><td style=\"text-align: right;\">  0  </td><td style=\"text-align: right;\">        8</td></tr>\n",
       "<tr><td style=\"text-align: right;\">   7</td><td style=\"text-align: right;\">        0</td><td style=\"text-align: right;\">   68</td><td style=\"text-align: right;\">     2</td><td style=\"text-align: right;\">      4</td><td style=\"text-align: right;\">      2</td><td style=\"text-align: right;\"> 31.9</td><td style=\"text-align: right;\">  0  </td><td style=\"text-align: right;\">        7</td></tr>\n",
       "<tr><td style=\"text-align: right;\">   8</td><td style=\"text-align: right;\">        0</td><td style=\"text-align: right;\">   61</td><td style=\"text-align: right;\">     2</td><td style=\"text-align: right;\">      4</td><td style=\"text-align: right;\">      2</td><td style=\"text-align: right;\"> 66.7</td><td style=\"text-align: right;\"> 27.2</td><td style=\"text-align: right;\">        7</td></tr>\n",
       "<tr><td style=\"text-align: right;\">   9</td><td style=\"text-align: right;\">        0</td><td style=\"text-align: right;\">   69</td><td style=\"text-align: right;\">     1</td><td style=\"text-align: right;\">      1</td><td style=\"text-align: right;\">      1</td><td style=\"text-align: right;\">  3.9</td><td style=\"text-align: right;\"> 24  </td><td style=\"text-align: right;\">        7</td></tr>\n",
       "<tr><td style=\"text-align: right;\">  10</td><td style=\"text-align: right;\">        0</td><td style=\"text-align: right;\">   68</td><td style=\"text-align: right;\">     2</td><td style=\"text-align: right;\">      1</td><td style=\"text-align: right;\">      2</td><td style=\"text-align: right;\"> 13  </td><td style=\"text-align: right;\">  0  </td><td style=\"text-align: right;\">        6</td></tr>\n",
       "</tbody>\n",
       "</table>"
      ]
     },
     "metadata": {},
     "output_type": "display_data"
    },
    {
     "data": {
      "text/plain": []
     },
     "execution_count": 8,
     "metadata": {},
     "output_type": "execute_result"
    }
   ],
   "source": [
    "df.head()"
   ]
  },
  {
   "cell_type": "code",
   "execution_count": 9,
   "metadata": {},
   "outputs": [
    {
     "data": {
      "text/html": [
       "<table>\n",
       "<thead>\n",
       "<tr><th style=\"text-align: right;\">  ID</th><th style=\"text-align: right;\">  CAPSULE</th><th style=\"text-align: right;\">  AGE</th><th style=\"text-align: right;\">  RACE</th><th style=\"text-align: right;\">  DPROS</th><th style=\"text-align: right;\">  DCAPS</th><th style=\"text-align: right;\">  PSA</th><th style=\"text-align: right;\">  VOL</th><th style=\"text-align: right;\">  GLEASON</th></tr>\n",
       "</thead>\n",
       "<tbody>\n",
       "<tr><td style=\"text-align: right;\"> 371</td><td style=\"text-align: right;\">        1</td><td style=\"text-align: right;\">   74</td><td style=\"text-align: right;\">     1</td><td style=\"text-align: right;\">      3</td><td style=\"text-align: right;\">      1</td><td style=\"text-align: right;\">  6  </td><td style=\"text-align: right;\">  0  </td><td style=\"text-align: right;\">        5</td></tr>\n",
       "<tr><td style=\"text-align: right;\"> 372</td><td style=\"text-align: right;\">        0</td><td style=\"text-align: right;\">   73</td><td style=\"text-align: right;\">     1</td><td style=\"text-align: right;\">      4</td><td style=\"text-align: right;\">      1</td><td style=\"text-align: right;\"> 10  </td><td style=\"text-align: right;\"> 27.4</td><td style=\"text-align: right;\">        6</td></tr>\n",
       "<tr><td style=\"text-align: right;\"> 373</td><td style=\"text-align: right;\">        0</td><td style=\"text-align: right;\">   72</td><td style=\"text-align: right;\">     1</td><td style=\"text-align: right;\">      2</td><td style=\"text-align: right;\">      1</td><td style=\"text-align: right;\"> 11  </td><td style=\"text-align: right;\"> 31  </td><td style=\"text-align: right;\">        6</td></tr>\n",
       "<tr><td style=\"text-align: right;\"> 374</td><td style=\"text-align: right;\">        1</td><td style=\"text-align: right;\">   65</td><td style=\"text-align: right;\">     1</td><td style=\"text-align: right;\">      4</td><td style=\"text-align: right;\">      1</td><td style=\"text-align: right;\">139.7</td><td style=\"text-align: right;\"> 29.9</td><td style=\"text-align: right;\">        9</td></tr>\n",
       "<tr><td style=\"text-align: right;\"> 375</td><td style=\"text-align: right;\">        0</td><td style=\"text-align: right;\">   64</td><td style=\"text-align: right;\">     1</td><td style=\"text-align: right;\">      1</td><td style=\"text-align: right;\">      1</td><td style=\"text-align: right;\"> 32.2</td><td style=\"text-align: right;\"> 26.6</td><td style=\"text-align: right;\">        5</td></tr>\n",
       "<tr><td style=\"text-align: right;\"> 376</td><td style=\"text-align: right;\">        0</td><td style=\"text-align: right;\">   58</td><td style=\"text-align: right;\">     2</td><td style=\"text-align: right;\">      3</td><td style=\"text-align: right;\">      1</td><td style=\"text-align: right;\"> 18.2</td><td style=\"text-align: right;\"> 28.6</td><td style=\"text-align: right;\">        7</td></tr>\n",
       "<tr><td style=\"text-align: right;\"> 377</td><td style=\"text-align: right;\">        0</td><td style=\"text-align: right;\">   69</td><td style=\"text-align: right;\">     2</td><td style=\"text-align: right;\">      1</td><td style=\"text-align: right;\">      1</td><td style=\"text-align: right;\">  7.9</td><td style=\"text-align: right;\"> 14.6</td><td style=\"text-align: right;\">        5</td></tr>\n",
       "<tr><td style=\"text-align: right;\"> 378</td><td style=\"text-align: right;\">        1</td><td style=\"text-align: right;\">   76</td><td style=\"text-align: right;\">     1</td><td style=\"text-align: right;\">      2</td><td style=\"text-align: right;\">      1</td><td style=\"text-align: right;\">  5.5</td><td style=\"text-align: right;\"> 53.9</td><td style=\"text-align: right;\">        8</td></tr>\n",
       "<tr><td style=\"text-align: right;\"> 379</td><td style=\"text-align: right;\">        0</td><td style=\"text-align: right;\">   69</td><td style=\"text-align: right;\">     2</td><td style=\"text-align: right;\">      2</td><td style=\"text-align: right;\">      1</td><td style=\"text-align: right;\">  1.5</td><td style=\"text-align: right;\">  8.6</td><td style=\"text-align: right;\">        5</td></tr>\n",
       "<tr><td style=\"text-align: right;\"> 380</td><td style=\"text-align: right;\">        0</td><td style=\"text-align: right;\">   69</td><td style=\"text-align: right;\">     1</td><td style=\"text-align: right;\">      2</td><td style=\"text-align: right;\">      1</td><td style=\"text-align: right;\">  1.9</td><td style=\"text-align: right;\"> 20.7</td><td style=\"text-align: right;\">        6</td></tr>\n",
       "</tbody>\n",
       "</table>"
      ]
     },
     "metadata": {},
     "output_type": "display_data"
    },
    {
     "data": {
      "text/plain": []
     },
     "execution_count": 9,
     "metadata": {},
     "output_type": "execute_result"
    }
   ],
   "source": [
    "df.tail()"
   ]
  },
  {
   "cell_type": "code",
   "execution_count": 10,
   "metadata": {},
   "outputs": [
    {
     "data": {
      "text/plain": [
       "[109.84079387914127,\n",
       " 0.4910743389630552,\n",
       " 6.527071269173311,\n",
       " 0.3087732580252793,\n",
       " 1.0001076181502861,\n",
       " 0.3106564493514939,\n",
       " 19.99757266856046,\n",
       " 18.347619967271175,\n",
       " 1.0919533744261092]"
      ]
     },
     "execution_count": 10,
     "metadata": {},
     "output_type": "execute_result"
    }
   ],
   "source": [
    "df.sd()"
   ]
  },
  {
   "cell_type": "code",
   "execution_count": 11,
   "metadata": {},
   "outputs": [
    {
     "data": {
      "image/png": "[encoded data removed]",
      "text/plain": [
       "<matplotlib.figure.Figure at 0x113ffe890>"
      ]
     },
     "metadata": {},
     "output_type": "display_data"
    }
   ],
   "source": [
    "import pylab as pl\n",
    "df.as_data_frame().hist()\n",
    "pl.show()"
   ]
  },
  {
   "cell_type": "code",
   "execution_count": 12,
   "metadata": {},
   "outputs": [
    {
     "data": {
      "text/html": [
       "<table>\n",
       "<thead>\n",
       "<tr><th style=\"text-align: right;\">  ID</th><th style=\"text-align: right;\">  CAPSULE</th><th style=\"text-align: right;\">  AGE</th><th style=\"text-align: right;\">  RACE</th><th style=\"text-align: right;\">  DPROS</th><th style=\"text-align: right;\">  DCAPS</th><th style=\"text-align: right;\">  PSA</th><th style=\"text-align: right;\">  VOL</th><th style=\"text-align: right;\">  GLEASON</th></tr>\n",
       "</thead>\n",
       "<tbody>\n",
       "<tr><td style=\"text-align: right;\">   1</td><td style=\"text-align: right;\">        0</td><td style=\"text-align: right;\">   65</td><td style=\"text-align: right;\">     1</td><td style=\"text-align: right;\">      2</td><td style=\"text-align: right;\">      1</td><td style=\"text-align: right;\">  1.4</td><td style=\"text-align: right;\">  0  </td><td style=\"text-align: right;\">        6</td></tr>\n",
       "<tr><td style=\"text-align: right;\">   2</td><td style=\"text-align: right;\">        0</td><td style=\"text-align: right;\">   72</td><td style=\"text-align: right;\">     1</td><td style=\"text-align: right;\">      3</td><td style=\"text-align: right;\">      2</td><td style=\"text-align: right;\">  6.7</td><td style=\"text-align: right;\">  0  </td><td style=\"text-align: right;\">        7</td></tr>\n",
       "<tr><td style=\"text-align: right;\">   3</td><td style=\"text-align: right;\">        0</td><td style=\"text-align: right;\">   70</td><td style=\"text-align: right;\">     1</td><td style=\"text-align: right;\">      1</td><td style=\"text-align: right;\">      2</td><td style=\"text-align: right;\">  4.9</td><td style=\"text-align: right;\">  0  </td><td style=\"text-align: right;\">        6</td></tr>\n",
       "<tr><td style=\"text-align: right;\">   4</td><td style=\"text-align: right;\">        0</td><td style=\"text-align: right;\">   76</td><td style=\"text-align: right;\">     2</td><td style=\"text-align: right;\">      2</td><td style=\"text-align: right;\">      1</td><td style=\"text-align: right;\"> 51.2</td><td style=\"text-align: right;\"> 20  </td><td style=\"text-align: right;\">        7</td></tr>\n",
       "<tr><td style=\"text-align: right;\">   5</td><td style=\"text-align: right;\">        0</td><td style=\"text-align: right;\">   69</td><td style=\"text-align: right;\">     1</td><td style=\"text-align: right;\">      1</td><td style=\"text-align: right;\">      1</td><td style=\"text-align: right;\"> 12.3</td><td style=\"text-align: right;\"> 55.9</td><td style=\"text-align: right;\">        6</td></tr>\n",
       "<tr><td style=\"text-align: right;\">   6</td><td style=\"text-align: right;\">        1</td><td style=\"text-align: right;\">   71</td><td style=\"text-align: right;\">     1</td><td style=\"text-align: right;\">      3</td><td style=\"text-align: right;\">      2</td><td style=\"text-align: right;\">  3.3</td><td style=\"text-align: right;\">  0  </td><td style=\"text-align: right;\">        8</td></tr>\n",
       "<tr><td style=\"text-align: right;\">   7</td><td style=\"text-align: right;\">        0</td><td style=\"text-align: right;\">   68</td><td style=\"text-align: right;\">     2</td><td style=\"text-align: right;\">      4</td><td style=\"text-align: right;\">      2</td><td style=\"text-align: right;\"> 31.9</td><td style=\"text-align: right;\">  0  </td><td style=\"text-align: right;\">        7</td></tr>\n",
       "<tr><td style=\"text-align: right;\">   8</td><td style=\"text-align: right;\">        0</td><td style=\"text-align: right;\">   61</td><td style=\"text-align: right;\">     2</td><td style=\"text-align: right;\">      4</td><td style=\"text-align: right;\">      2</td><td style=\"text-align: right;\"> 66.7</td><td style=\"text-align: right;\"> 27.2</td><td style=\"text-align: right;\">        7</td></tr>\n",
       "<tr><td style=\"text-align: right;\">   9</td><td style=\"text-align: right;\">        0</td><td style=\"text-align: right;\">   69</td><td style=\"text-align: right;\">     1</td><td style=\"text-align: right;\">      1</td><td style=\"text-align: right;\">      1</td><td style=\"text-align: right;\">  3.9</td><td style=\"text-align: right;\"> 24  </td><td style=\"text-align: right;\">        7</td></tr>\n",
       "<tr><td style=\"text-align: right;\">  10</td><td style=\"text-align: right;\">        0</td><td style=\"text-align: right;\">   68</td><td style=\"text-align: right;\">     2</td><td style=\"text-align: right;\">      1</td><td style=\"text-align: right;\">      2</td><td style=\"text-align: right;\"> 13  </td><td style=\"text-align: right;\">  0  </td><td style=\"text-align: right;\">        6</td></tr>\n",
       "</tbody>\n",
       "</table>"
      ]
     },
     "metadata": {},
     "output_type": "display_data"
    },
    {
     "data": {
      "text/plain": [
       "<bound method H2OFrame.type of >"
      ]
     },
     "execution_count": 12,
     "metadata": {},
     "output_type": "execute_result"
    }
   ],
   "source": [
    "df.type"
   ]
  },
  {
   "cell_type": "code",
   "execution_count": 13,
   "metadata": {},
   "outputs": [
    {
     "data": {
      "text/plain": [
       "(380, 9)"
      ]
     },
     "execution_count": 13,
     "metadata": {},
     "output_type": "execute_result"
    }
   ],
   "source": [
    "df.shape"
   ]
  },
  {
   "cell_type": "code",
   "execution_count": 14,
   "metadata": {},
   "outputs": [
    {
     "data": {
      "text/plain": [
       "[u'ID',\n",
       " u'CAPSULE',\n",
       " u'AGE',\n",
       " u'RACE',\n",
       " u'DPROS',\n",
       " u'DCAPS',\n",
       " u'PSA',\n",
       " u'VOL',\n",
       " u'GLEASON']"
      ]
     },
     "execution_count": 14,
     "metadata": {},
     "output_type": "execute_result"
    }
   ],
   "source": [
    "df.col_names"
   ]
  },
  {
   "cell_type": "code",
   "execution_count": 15,
   "metadata": {},
   "outputs": [
    {
     "data": {
      "text/html": [
       "<table>\n",
       "<thead>\n",
       "<tr><th style=\"text-align: right;\">  C1</th></tr>\n",
       "</thead>\n",
       "<tbody>\n",
       "<tr><td style=\"text-align: right;\">   0</td></tr>\n",
       "<tr><td style=\"text-align: right;\">   1</td></tr>\n",
       "</tbody>\n",
       "</table>"
      ]
     },
     "metadata": {},
     "output_type": "display_data"
    },
    {
     "name": "stdout",
     "output_type": "stream",
     "text": [
      "\n"
     ]
    },
    {
     "data": {
      "text/html": [
       "<table>\n",
       "<thead>\n",
       "<tr><th style=\"text-align: right;\">  DPROS</th></tr>\n",
       "</thead>\n",
       "<tbody>\n",
       "<tr><td style=\"text-align: right;\">      2</td></tr>\n",
       "<tr><td style=\"text-align: right;\">      3</td></tr>\n",
       "<tr><td style=\"text-align: right;\">      1</td></tr>\n",
       "<tr><td style=\"text-align: right;\">      2</td></tr>\n",
       "<tr><td style=\"text-align: right;\">      1</td></tr>\n",
       "<tr><td style=\"text-align: right;\">      3</td></tr>\n",
       "<tr><td style=\"text-align: right;\">      4</td></tr>\n",
       "<tr><td style=\"text-align: right;\">      4</td></tr>\n",
       "<tr><td style=\"text-align: right;\">      1</td></tr>\n",
       "<tr><td style=\"text-align: right;\">      1</td></tr>\n",
       "</tbody>\n",
       "</table>"
      ]
     },
     "metadata": {},
     "output_type": "display_data"
    },
    {
     "name": "stdout",
     "output_type": "stream",
     "text": [
      "<bound method H2OFrame.levels of >\n"
     ]
    }
   ],
   "source": [
    "print(df['CAPSULE'].unique())\n",
    "print(df['DPROS'].levels)"
   ]
  },
  {
   "cell_type": "markdown",
   "metadata": {},
   "source": [
    "## Generalized Liner Model : Linear Regression"
   ]
  },
  {
   "cell_type": "code",
   "execution_count": 16,
   "metadata": {
    "collapsed": true
   },
   "outputs": [],
   "source": [
    "y = 'CAPSULE'\n",
    "x = df.col_names\n",
    "x.remove(y)"
   ]
  },
  {
   "cell_type": "code",
   "execution_count": 17,
   "metadata": {},
   "outputs": [
    {
     "name": "stdout",
     "output_type": "stream",
     "text": [
      "Response = CAPSULE\n",
      "Pridictors = [u'ID', u'AGE', u'RACE', u'DPROS', u'DCAPS', u'PSA', u'VOL', u'GLEASON']\n"
     ]
    }
   ],
   "source": [
    "print(\"Response = \" + y)\n",
    "print(\"Pridictors = \" + str(x))"
   ]
  },
  {
   "cell_type": "code",
   "execution_count": 19,
   "metadata": {},
   "outputs": [],
   "source": [
    "from h2o.estimators.glm import H2OGeneralizedLinearEstimator"
   ]
  },
  {
   "cell_type": "code",
   "execution_count": 20,
   "metadata": {
    "collapsed": true
   },
   "outputs": [],
   "source": [
    "glm = H2OGeneralizedLinearEstimator()"
   ]
  },
  {
   "cell_type": "code",
   "execution_count": 21,
   "metadata": {},
   "outputs": [
    {
     "name": "stdout",
     "output_type": "stream",
     "text": [
      "glm Model Build progress: |███████████████████████████████████████████████| 100%\n"
     ]
    }
   ],
   "source": [
    "glm.train(x= x, y = y, training_frame=df)"
   ]
  },
  {
   "cell_type": "code",
   "execution_count": 22,
   "metadata": {},
   "outputs": [
    {
     "name": "stdout",
     "output_type": "stream",
     "text": [
      "Model Details\n",
      "=============\n",
      "H2OGeneralizedLinearEstimator :  Generalized Linear Modeling\n",
      "Model Key:  GLM_model_python_1506353541346_1\n",
      "\n",
      "\n",
      "ModelMetricsRegressionGLM: glm\n",
      "** Reported on train data. **\n",
      "\n",
      "MSE: 0.171166559131\n",
      "RMSE: 0.413722804702\n",
      "MAE: 0.360095170207\n",
      "RMSLE: 0.298422968136\n",
      "R^2: 0.288346113315\n",
      "Mean Residual Deviance: 0.171166559131\n",
      "Null degrees of freedom: 379\n",
      "Residual degrees of freedom: 371\n",
      "Null deviance: 91.3973684211\n",
      "Residual deviance: 65.0432924697\n",
      "AIC: 427.648381952\n",
      "Scoring History: \n"
     ]
    },
    {
     "data": {
      "text/html": [
       "<div style=\"overflow:auto\"><table style=\"width:50%\"><tr><td><b></b></td>\n",
       "<td><b>timestamp</b></td>\n",
       "<td><b>duration</b></td>\n",
       "<td><b>iterations</b></td>\n",
       "<td><b>negative_log_likelihood</b></td>\n",
       "<td><b>objective</b></td></tr>\n",
       "<tr><td></td>\n",
       "<td>2017-09-25 08:35:25</td>\n",
       "<td> 0.000 sec</td>\n",
       "<td>0</td>\n",
       "<td>91.3973684</td>\n",
       "<td>0.2405194</td></tr></table></div>"
      ],
      "text/plain": [
       "    timestamp            duration    iterations    negative_log_likelihood    objective\n",
       "--  -------------------  ----------  ------------  -------------------------  -----------\n",
       "    2017-09-25 08:35:25  0.000 sec   0             91.3974                    0.240519"
      ]
     },
     "metadata": {},
     "output_type": "display_data"
    },
    {
     "name": "stdout",
     "output_type": "stream",
     "text": [
      "\n"
     ]
    }
   ],
   "source": [
    "print(glm)"
   ]
  },
  {
   "cell_type": "code",
   "execution_count": 23,
   "metadata": {},
   "outputs": [
    {
     "name": "stdout",
     "output_type": "stream",
     "text": [
      "\n",
      "ModelMetricsRegressionGLM: glm\n",
      "** Reported on train data. **\n",
      "\n",
      "MSE: 0.171166559131\n",
      "RMSE: 0.413722804702\n",
      "MAE: 0.360095170207\n",
      "RMSLE: 0.298422968136\n",
      "R^2: 0.288346113315\n",
      "Mean Residual Deviance: 0.171166559131\n",
      "Null degrees of freedom: 379\n",
      "Residual degrees of freedom: 371\n",
      "Null deviance: 91.3973684211\n",
      "Residual deviance: 65.0432924697\n",
      "AIC: 427.648381952\n"
     ]
    },
    {
     "data": {
      "text/plain": []
     },
     "execution_count": 23,
     "metadata": {},
     "output_type": "execute_result"
    }
   ],
   "source": [
    "glm.model_performance()"
   ]
  },
  {
   "cell_type": "code",
   "execution_count": 24,
   "metadata": {},
   "outputs": [
    {
     "name": "stdout",
     "output_type": "stream",
     "text": [
      "0.413722804702\n",
      "0.171166559131\n",
      "0.288346113315\n"
     ]
    }
   ],
   "source": [
    "print(glm.rmse())\n",
    "print(glm.mse())\n",
    "print(glm.r2())"
   ]
  },
  {
   "cell_type": "code",
   "execution_count": 25,
   "metadata": {},
   "outputs": [
    {
     "data": {
      "text/plain": [
       "{u'AGE': -0.0011331492033401125,\n",
       " u'DCAPS': 0.1085073577337114,\n",
       " u'DPROS': 0.09233430643683936,\n",
       " u'GLEASON': 0.15140493476895678,\n",
       " u'ID': 0.0002737401477708327,\n",
       " u'Intercept': -0.8055753037768821,\n",
       " u'PSA': 0.0036139417439959207,\n",
       " u'RACE': -0.0818370556607493,\n",
       " u'VOL': -0.0020465387634969107}"
      ]
     },
     "execution_count": 25,
     "metadata": {},
     "output_type": "execute_result"
    }
   ],
   "source": [
    "glm.coef()"
   ]
  },
  {
   "cell_type": "code",
   "execution_count": 26,
   "metadata": {},
   "outputs": [],
   "source": [
    "train, valid = df.split_frame(ratios=[.9])"
   ]
  },
  {
   "cell_type": "code",
   "execution_count": null,
   "metadata": {},
   "outputs": [],
   "source": [
    "print(df.shape)\n",
    "print(train.shape)\n",
    "print(valid.shape)"
   ]
  },
  {
   "cell_type": "code",
   "execution_count": 27,
   "metadata": {
    "collapsed": true
   },
   "outputs": [],
   "source": [
    "train, valid, test = df.split_frame(ratios=[.8, .1])"
   ]
  },
  {
   "cell_type": "code",
   "execution_count": 28,
   "metadata": {},
   "outputs": [
    {
     "name": "stdout",
     "output_type": "stream",
     "text": [
      "(380, 9)\n",
      "(303, 9)\n",
      "(35, 9)\n",
      "(42, 9)\n"
     ]
    }
   ],
   "source": [
    "print(df.shape)\n",
    "print(train.shape)\n",
    "print(valid.shape)\n",
    "print(test.shape)"
   ]
  },
  {
   "cell_type": "code",
   "execution_count": 29,
   "metadata": {},
   "outputs": [
    {
     "name": "stdout",
     "output_type": "stream",
     "text": [
      "glm Model Build progress: |███████████████████████████████████████████████| 100%\n"
     ]
    }
   ],
   "source": [
    "glm.train(x= x, y = y, training_frame=train, validation_frame=valid)"
   ]
  },
  {
   "cell_type": "code",
   "execution_count": 30,
   "metadata": {},
   "outputs": [
    {
     "name": "stdout",
     "output_type": "stream",
     "text": [
      "Model Details\n",
      "=============\n",
      "H2OGeneralizedLinearEstimator :  Generalized Linear Modeling\n",
      "Model Key:  GLM_model_python_1506353541346_2\n",
      "\n",
      "\n",
      "ModelMetricsRegressionGLM: glm\n",
      "** Reported on train data. **\n",
      "\n",
      "MSE: 0.172403689468\n",
      "RMSE: 0.415215232702\n",
      "MAE: 0.363679884651\n",
      "RMSLE: 0.300667901268\n",
      "R^2: 0.288619760615\n",
      "Mean Residual Deviance: 0.172403689468\n",
      "Null degrees of freedom: 302\n",
      "Residual degrees of freedom: 294\n",
      "Null deviance: 73.4323432343\n",
      "Residual deviance: 52.2383179087\n",
      "AIC: 347.228045454\n",
      "\n",
      "ModelMetricsRegressionGLM: glm\n",
      "** Reported on validation data. **\n",
      "\n",
      "MSE: 0.164141309218\n",
      "RMSE: 0.405143566181\n",
      "MAE: 0.345580226778\n",
      "RMSLE: 0.282811098139\n",
      "R^2: 0.329756320694\n",
      "Mean Residual Deviance: 0.164141309218\n",
      "Null degrees of freedom: 34\n",
      "Residual degrees of freedom: 26\n",
      "Null deviance: 8.58042239868\n",
      "Residual deviance: 5.74494582263\n",
      "AIC: 56.0797320038\n",
      "Scoring History: \n"
     ]
    },
    {
     "data": {
      "text/html": [
       "<div style=\"overflow:auto\"><table style=\"width:50%\"><tr><td><b></b></td>\n",
       "<td><b>timestamp</b></td>\n",
       "<td><b>duration</b></td>\n",
       "<td><b>iterations</b></td>\n",
       "<td><b>negative_log_likelihood</b></td>\n",
       "<td><b>objective</b></td></tr>\n",
       "<tr><td></td>\n",
       "<td>2017-09-25 08:36:22</td>\n",
       "<td> 0.000 sec</td>\n",
       "<td>0</td>\n",
       "<td>73.4323432</td>\n",
       "<td>0.2423510</td></tr></table></div>"
      ],
      "text/plain": [
       "    timestamp            duration    iterations    negative_log_likelihood    objective\n",
       "--  -------------------  ----------  ------------  -------------------------  -----------\n",
       "    2017-09-25 08:36:22  0.000 sec   0             73.4323                    0.242351"
      ]
     },
     "metadata": {},
     "output_type": "display_data"
    },
    {
     "data": {
      "text/plain": []
     },
     "execution_count": 30,
     "metadata": {},
     "output_type": "execute_result"
    }
   ],
   "source": [
    "glm"
   ]
  },
  {
   "cell_type": "code",
   "execution_count": 31,
   "metadata": {},
   "outputs": [
    {
     "name": "stdout",
     "output_type": "stream",
     "text": [
      "0.415769233977\n",
      "0.405143566181\n",
      "0.415215232702\n"
     ]
    }
   ],
   "source": [
    "print(glm.model_performance(test_data=test).rmse())\n",
    "print(glm.model_performance(test_data=valid).rmse())\n",
    "print(glm.model_performance(test_data=train).rmse())"
   ]
  },
  {
   "cell_type": "code",
   "execution_count": 32,
   "metadata": {},
   "outputs": [
    {
     "name": "stdout",
     "output_type": "stream",
     "text": [
      "0.191161287412\n",
      "0.329756320694\n",
      "0.288619760615\n"
     ]
    }
   ],
   "source": [
    "print(glm.model_performance(test_data=test).r2())\n",
    "print(glm.model_performance(test_data=valid).r2())\n",
    "print(glm.model_performance(test_data=train).r2())"
   ]
  },
  {
   "cell_type": "code",
   "execution_count": 33,
   "metadata": {},
   "outputs": [
    {
     "data": {
      "text/plain": [
       "{u'AGE': 0.00015085319397684416,\n",
       " u'DCAPS': 0.08870984356512389,\n",
       " u'DPROS': 0.08990239551684037,\n",
       " u'GLEASON': 0.15237688242836475,\n",
       " u'ID': 0.00033818599708490066,\n",
       " u'Intercept': -0.9028748484931891,\n",
       " u'PSA': 0.004148852140944091,\n",
       " u'RACE': -0.050389045302068364,\n",
       " u'VOL': -0.0026159620765498167}"
      ]
     },
     "execution_count": 33,
     "metadata": {},
     "output_type": "execute_result"
    }
   ],
   "source": [
    "glm.coef()"
   ]
  },
  {
   "cell_type": "code",
   "execution_count": 34,
   "metadata": {},
   "outputs": [
    {
     "name": "stdout",
     "output_type": "stream",
     "text": [
      "glm prediction progress: |████████████████████████████████████████████████| 100%\n"
     ]
    },
    {
     "data": {
      "text/html": [
       "<table>\n",
       "<thead>\n",
       "<tr><th style=\"text-align: right;\">  predict</th></tr>\n",
       "</thead>\n",
       "<tbody>\n",
       "<tr><td style=\"text-align: right;\">0.599836 </td></tr>\n",
       "<tr><td style=\"text-align: right;\">0.104345 </td></tr>\n",
       "<tr><td style=\"text-align: right;\">0.0441512</td></tr>\n",
       "<tr><td style=\"text-align: right;\">0.620465 </td></tr>\n",
       "<tr><td style=\"text-align: right;\">0.67054  </td></tr>\n",
       "<tr><td style=\"text-align: right;\">0.0767894</td></tr>\n",
       "<tr><td style=\"text-align: right;\">1.24471  </td></tr>\n",
       "<tr><td style=\"text-align: right;\">0.285589 </td></tr>\n",
       "<tr><td style=\"text-align: right;\">0.416404 </td></tr>\n",
       "<tr><td style=\"text-align: right;\">0.375689 </td></tr>\n",
       "</tbody>\n",
       "</table>"
      ]
     },
     "metadata": {},
     "output_type": "display_data"
    },
    {
     "data": {
      "text/plain": []
     },
     "execution_count": 34,
     "metadata": {},
     "output_type": "execute_result"
    }
   ],
   "source": [
    "glm.predict(test_data=test)"
   ]
  },
  {
   "cell_type": "markdown",
   "metadata": {},
   "source": [
    "## Generalized Linear Model : Logistic Regression"
   ]
  },
  {
   "cell_type": "code",
   "execution_count": 35,
   "metadata": {},
   "outputs": [
    {
     "data": {
      "text/html": [
       "<table>\n",
       "<thead>\n",
       "<tr><th>       </th><th>CAPSULE       </th></tr>\n",
       "</thead>\n",
       "<tbody>\n",
       "<tr><td>type   </td><td>int           </td></tr>\n",
       "<tr><td>mins   </td><td>0.0           </td></tr>\n",
       "<tr><td>mean   </td><td>0.402631578947</td></tr>\n",
       "<tr><td>maxs   </td><td>1.0           </td></tr>\n",
       "<tr><td>sigma  </td><td>0.491074338963</td></tr>\n",
       "<tr><td>zeros  </td><td>227           </td></tr>\n",
       "<tr><td>missing</td><td>0             </td></tr>\n",
       "<tr><td>0      </td><td>0.0           </td></tr>\n",
       "<tr><td>1      </td><td>0.0           </td></tr>\n",
       "<tr><td>2      </td><td>0.0           </td></tr>\n",
       "<tr><td>3      </td><td>0.0           </td></tr>\n",
       "<tr><td>4      </td><td>0.0           </td></tr>\n",
       "<tr><td>5      </td><td>1.0           </td></tr>\n",
       "<tr><td>6      </td><td>0.0           </td></tr>\n",
       "<tr><td>7      </td><td>0.0           </td></tr>\n",
       "<tr><td>8      </td><td>0.0           </td></tr>\n",
       "<tr><td>9      </td><td>0.0           </td></tr>\n",
       "</tbody>\n",
       "</table>"
      ]
     },
     "metadata": {},
     "output_type": "display_data"
    }
   ],
   "source": [
    "df['CAPSULE'].summary()"
   ]
  },
  {
   "cell_type": "code",
   "execution_count": 36,
   "metadata": {
    "collapsed": true
   },
   "outputs": [],
   "source": [
    "df['CAPSULE'] = df['CAPSULE'].asfactor()"
   ]
  },
  {
   "cell_type": "code",
   "execution_count": 37,
   "metadata": {},
   "outputs": [
    {
     "data": {
      "text/html": [
       "<table>\n",
       "<thead>\n",
       "<tr><th>       </th><th>CAPSULE  </th></tr>\n",
       "</thead>\n",
       "<tbody>\n",
       "<tr><td>type   </td><td>enum     </td></tr>\n",
       "<tr><td>mins   </td><td>         </td></tr>\n",
       "<tr><td>mean   </td><td>         </td></tr>\n",
       "<tr><td>maxs   </td><td>         </td></tr>\n",
       "<tr><td>sigma  </td><td>         </td></tr>\n",
       "<tr><td>zeros  </td><td>         </td></tr>\n",
       "<tr><td>missing</td><td>0        </td></tr>\n",
       "<tr><td>0      </td><td>0        </td></tr>\n",
       "<tr><td>1      </td><td>0        </td></tr>\n",
       "<tr><td>2      </td><td>0        </td></tr>\n",
       "<tr><td>3      </td><td>0        </td></tr>\n",
       "<tr><td>4      </td><td>0        </td></tr>\n",
       "<tr><td>5      </td><td>1        </td></tr>\n",
       "<tr><td>6      </td><td>0        </td></tr>\n",
       "<tr><td>7      </td><td>0        </td></tr>\n",
       "<tr><td>8      </td><td>0        </td></tr>\n",
       "<tr><td>9      </td><td>0        </td></tr>\n",
       "</tbody>\n",
       "</table>"
      ]
     },
     "metadata": {},
     "output_type": "display_data"
    }
   ],
   "source": [
    "df['CAPSULE'].summary()"
   ]
  },
  {
   "cell_type": "code",
   "execution_count": 38,
   "metadata": {},
   "outputs": [
    {
     "data": {
      "text/plain": [
       "[['0', '1']]"
      ]
     },
     "execution_count": 38,
     "metadata": {},
     "output_type": "execute_result"
    }
   ],
   "source": [
    "df['CAPSULE'].levels()"
   ]
  },
  {
   "cell_type": "code",
   "execution_count": 39,
   "metadata": {
    "collapsed": true
   },
   "outputs": [],
   "source": [
    "train, valid, test = df.split_frame(ratios=[.8,.1])"
   ]
  },
  {
   "cell_type": "code",
   "execution_count": 40,
   "metadata": {},
   "outputs": [],
   "source": [
    "glm_logistic = H2OGeneralizedLinearEstimator(family = \"binomial\")"
   ]
  },
  {
   "cell_type": "code",
   "execution_count": 41,
   "metadata": {},
   "outputs": [
    {
     "name": "stdout",
     "output_type": "stream",
     "text": [
      "glm Model Build progress: |███████████████████████████████████████████████| 100%\n"
     ]
    }
   ],
   "source": [
    "glm_logistic.train(x=x, y= y, training_frame=train, validation_frame=valid, \n",
    "                   model_id=\"glm_logistic\"\n",
    "                  )\n"
   ]
  },
  {
   "cell_type": "code",
   "execution_count": 42,
   "metadata": {},
   "outputs": [
    {
     "name": "stdout",
     "output_type": "stream",
     "text": [
      "Model Details\n",
      "=============\n",
      "H2OGeneralizedLinearEstimator :  Generalized Linear Modeling\n",
      "Model Key:  glm_logistic\n",
      "\n",
      "\n",
      "ModelMetricsBinomialGLM: glm\n",
      "** Reported on train data. **\n",
      "\n",
      "MSE: 0.162133994646\n",
      "RMSE: 0.402658657732\n",
      "LogLoss: 0.487112389551\n",
      "Null degrees of freedom: 308\n",
      "Residual degrees of freedom: 300\n",
      "Null deviance: 418.522955066\n",
      "Residual deviance: 301.035456743\n",
      "AIC: 319.035456743\n",
      "AUC: 0.83525136281\n",
      "Gini: 0.670502725621\n",
      "Confusion Matrix (Act/Pred) for max f1 @ threshold = 0.307379670896: \n"
     ]
    },
    {
     "data": {
      "text/html": [
       "<div style=\"overflow:auto\"><table style=\"width:50%\"><tr><td><b></b></td>\n",
       "<td><b>0</b></td>\n",
       "<td><b>1</b></td>\n",
       "<td><b>Error</b></td>\n",
       "<td><b>Rate</b></td></tr>\n",
       "<tr><td>0</td>\n",
       "<td>124.0</td>\n",
       "<td>58.0</td>\n",
       "<td>0.3187</td>\n",
       "<td> (58.0/182.0)</td></tr>\n",
       "<tr><td>1</td>\n",
       "<td>20.0</td>\n",
       "<td>107.0</td>\n",
       "<td>0.1575</td>\n",
       "<td> (20.0/127.0)</td></tr>\n",
       "<tr><td>Total</td>\n",
       "<td>144.0</td>\n",
       "<td>165.0</td>\n",
       "<td>0.2524</td>\n",
       "<td> (78.0/309.0)</td></tr></table></div>"
      ],
      "text/plain": [
       "       0    1    Error    Rate\n",
       "-----  ---  ---  -------  ------------\n",
       "0      124  58   0.3187   (58.0/182.0)\n",
       "1      20   107  0.1575   (20.0/127.0)\n",
       "Total  144  165  0.2524   (78.0/309.0)"
      ]
     },
     "metadata": {},
     "output_type": "display_data"
    },
    {
     "name": "stdout",
     "output_type": "stream",
     "text": [
      "Maximum Metrics: Maximum metrics at their respective thresholds\n",
      "\n"
     ]
    },
    {
     "data": {
      "text/html": [
       "<div style=\"overflow:auto\"><table style=\"width:50%\"><tr><td><b>metric</b></td>\n",
       "<td><b>threshold</b></td>\n",
       "<td><b>value</b></td>\n",
       "<td><b>idx</b></td></tr>\n",
       "<tr><td>max f1</td>\n",
       "<td>0.3073797</td>\n",
       "<td>0.7328767</td>\n",
       "<td>164.0</td></tr>\n",
       "<tr><td>max f2</td>\n",
       "<td>0.1812627</td>\n",
       "<td>0.8276798</td>\n",
       "<td>228.0</td></tr>\n",
       "<tr><td>max f0point5</td>\n",
       "<td>0.4745225</td>\n",
       "<td>0.7283142</td>\n",
       "<td>120.0</td></tr>\n",
       "<tr><td>max accuracy</td>\n",
       "<td>0.4745225</td>\n",
       "<td>0.7734628</td>\n",
       "<td>120.0</td></tr>\n",
       "<tr><td>max precision</td>\n",
       "<td>0.9989894</td>\n",
       "<td>1.0</td>\n",
       "<td>0.0</td></tr>\n",
       "<tr><td>max recall</td>\n",
       "<td>0.0969395</td>\n",
       "<td>1.0</td>\n",
       "<td>276.0</td></tr>\n",
       "<tr><td>max specificity</td>\n",
       "<td>0.9989894</td>\n",
       "<td>1.0</td>\n",
       "<td>0.0</td></tr>\n",
       "<tr><td>max absolute_mcc</td>\n",
       "<td>0.4673514</td>\n",
       "<td>0.5300557</td>\n",
       "<td>122.0</td></tr>\n",
       "<tr><td>max min_per_class_accuracy</td>\n",
       "<td>0.3797467</td>\n",
       "<td>0.7401575</td>\n",
       "<td>137.0</td></tr>\n",
       "<tr><td>max mean_per_class_accuracy</td>\n",
       "<td>0.4673514</td>\n",
       "<td>0.7636714</td>\n",
       "<td>122.0</td></tr></table></div>"
      ],
      "text/plain": [
       "metric                       threshold    value     idx\n",
       "---------------------------  -----------  --------  -----\n",
       "max f1                       0.30738      0.732877  164\n",
       "max f2                       0.181263     0.82768   228\n",
       "max f0point5                 0.474523     0.728314  120\n",
       "max accuracy                 0.474523     0.773463  120\n",
       "max precision                0.998989     1         0\n",
       "max recall                   0.0969395    1         276\n",
       "max specificity              0.998989     1         0\n",
       "max absolute_mcc             0.467351     0.530056  122\n",
       "max min_per_class_accuracy   0.379747     0.740157  137\n",
       "max mean_per_class_accuracy  0.467351     0.763671  122"
      ]
     },
     "metadata": {},
     "output_type": "display_data"
    },
    {
     "name": "stdout",
     "output_type": "stream",
     "text": [
      "Gains/Lift Table: Avg response rate: 41.10 %\n",
      "\n"
     ]
    },
    {
     "data": {
      "text/html": [
       "<div style=\"overflow:auto\"><table style=\"width:50%\"><tr><td><b></b></td>\n",
       "<td><b>group</b></td>\n",
       "<td><b>cumulative_data_fraction</b></td>\n",
       "<td><b>lower_threshold</b></td>\n",
       "<td><b>lift</b></td>\n",
       "<td><b>cumulative_lift</b></td>\n",
       "<td><b>response_rate</b></td>\n",
       "<td><b>cumulative_response_rate</b></td>\n",
       "<td><b>capture_rate</b></td>\n",
       "<td><b>cumulative_capture_rate</b></td>\n",
       "<td><b>gain</b></td>\n",
       "<td><b>cumulative_gain</b></td></tr>\n",
       "<tr><td></td>\n",
       "<td>1</td>\n",
       "<td>0.0129450</td>\n",
       "<td>0.9921801</td>\n",
       "<td>2.4330709</td>\n",
       "<td>2.4330709</td>\n",
       "<td>1.0</td>\n",
       "<td>1.0</td>\n",
       "<td>0.0314961</td>\n",
       "<td>0.0314961</td>\n",
       "<td>143.3070866</td>\n",
       "<td>143.3070866</td></tr>\n",
       "<tr><td></td>\n",
       "<td>2</td>\n",
       "<td>0.0226537</td>\n",
       "<td>0.9881679</td>\n",
       "<td>2.4330709</td>\n",
       "<td>2.4330709</td>\n",
       "<td>1.0</td>\n",
       "<td>1.0</td>\n",
       "<td>0.0236220</td>\n",
       "<td>0.0551181</td>\n",
       "<td>143.3070866</td>\n",
       "<td>143.3070866</td></tr>\n",
       "<tr><td></td>\n",
       "<td>3</td>\n",
       "<td>0.0323625</td>\n",
       "<td>0.9834748</td>\n",
       "<td>2.4330709</td>\n",
       "<td>2.4330709</td>\n",
       "<td>1.0</td>\n",
       "<td>1.0</td>\n",
       "<td>0.0236220</td>\n",
       "<td>0.0787402</td>\n",
       "<td>143.3070866</td>\n",
       "<td>143.3070866</td></tr>\n",
       "<tr><td></td>\n",
       "<td>4</td>\n",
       "<td>0.0420712</td>\n",
       "<td>0.9753879</td>\n",
       "<td>2.4330709</td>\n",
       "<td>2.4330709</td>\n",
       "<td>1.0</td>\n",
       "<td>1.0</td>\n",
       "<td>0.0236220</td>\n",
       "<td>0.1023622</td>\n",
       "<td>143.3070866</td>\n",
       "<td>143.3070866</td></tr>\n",
       "<tr><td></td>\n",
       "<td>5</td>\n",
       "<td>0.0517799</td>\n",
       "<td>0.9624040</td>\n",
       "<td>2.4330709</td>\n",
       "<td>2.4330709</td>\n",
       "<td>1.0</td>\n",
       "<td>1.0</td>\n",
       "<td>0.0236220</td>\n",
       "<td>0.1259843</td>\n",
       "<td>143.3070866</td>\n",
       "<td>143.3070866</td></tr>\n",
       "<tr><td></td>\n",
       "<td>6</td>\n",
       "<td>0.1003236</td>\n",
       "<td>0.8725362</td>\n",
       "<td>1.7842520</td>\n",
       "<td>2.1191262</td>\n",
       "<td>0.7333333</td>\n",
       "<td>0.8709677</td>\n",
       "<td>0.0866142</td>\n",
       "<td>0.2125984</td>\n",
       "<td>78.4251969</td>\n",
       "<td>111.9126238</td></tr>\n",
       "<tr><td></td>\n",
       "<td>7</td>\n",
       "<td>0.1521036</td>\n",
       "<td>0.7972965</td>\n",
       "<td>2.4330709</td>\n",
       "<td>2.2260010</td>\n",
       "<td>1.0</td>\n",
       "<td>0.9148936</td>\n",
       "<td>0.1259843</td>\n",
       "<td>0.3385827</td>\n",
       "<td>143.3070866</td>\n",
       "<td>122.6001005</td></tr>\n",
       "<tr><td></td>\n",
       "<td>8</td>\n",
       "<td>0.2006472</td>\n",
       "<td>0.6903485</td>\n",
       "<td>1.4598425</td>\n",
       "<td>2.0406401</td>\n",
       "<td>0.6</td>\n",
       "<td>0.8387097</td>\n",
       "<td>0.0708661</td>\n",
       "<td>0.4094488</td>\n",
       "<td>45.9842520</td>\n",
       "<td>104.0640081</td></tr>\n",
       "<tr><td></td>\n",
       "<td>9</td>\n",
       "<td>0.3009709</td>\n",
       "<td>0.5566725</td>\n",
       "<td>1.4912370</td>\n",
       "<td>1.8575057</td>\n",
       "<td>0.6129032</td>\n",
       "<td>0.7634409</td>\n",
       "<td>0.1496063</td>\n",
       "<td>0.5590551</td>\n",
       "<td>49.1236982</td>\n",
       "<td>85.7505715</td></tr>\n",
       "<tr><td></td>\n",
       "<td>10</td>\n",
       "<td>0.4012945</td>\n",
       "<td>0.4644164</td>\n",
       "<td>1.4912370</td>\n",
       "<td>1.7659385</td>\n",
       "<td>0.6129032</td>\n",
       "<td>0.7258065</td>\n",
       "<td>0.1496063</td>\n",
       "<td>0.7086614</td>\n",
       "<td>49.1236982</td>\n",
       "<td>76.5938532</td></tr>\n",
       "<tr><td></td>\n",
       "<td>11</td>\n",
       "<td>0.5016181</td>\n",
       "<td>0.3271213</td>\n",
       "<td>0.9418339</td>\n",
       "<td>1.6011176</td>\n",
       "<td>0.3870968</td>\n",
       "<td>0.6580645</td>\n",
       "<td>0.0944882</td>\n",
       "<td>0.8031496</td>\n",
       "<td>-5.8166116</td>\n",
       "<td>60.1117602</td></tr>\n",
       "<tr><td></td>\n",
       "<td>12</td>\n",
       "<td>0.5987055</td>\n",
       "<td>0.2500131</td>\n",
       "<td>0.8110236</td>\n",
       "<td>1.4729943</td>\n",
       "<td>0.3333333</td>\n",
       "<td>0.6054054</td>\n",
       "<td>0.0787402</td>\n",
       "<td>0.8818898</td>\n",
       "<td>-18.8976378</td>\n",
       "<td>47.2994254</td></tr>\n",
       "<tr><td></td>\n",
       "<td>13</td>\n",
       "<td>0.6990291</td>\n",
       "<td>0.2014186</td>\n",
       "<td>0.3139446</td>\n",
       "<td>1.3066492</td>\n",
       "<td>0.1290323</td>\n",
       "<td>0.5370370</td>\n",
       "<td>0.0314961</td>\n",
       "<td>0.9133858</td>\n",
       "<td>-68.6055372</td>\n",
       "<td>30.6649169</td></tr>\n",
       "<tr><td></td>\n",
       "<td>14</td>\n",
       "<td>0.7993528</td>\n",
       "<td>0.1450775</td>\n",
       "<td>0.6278893</td>\n",
       "<td>1.2214607</td>\n",
       "<td>0.2580645</td>\n",
       "<td>0.5020243</td>\n",
       "<td>0.0629921</td>\n",
       "<td>0.9763780</td>\n",
       "<td>-37.2110744</td>\n",
       "<td>22.1460678</td></tr>\n",
       "<tr><td></td>\n",
       "<td>15</td>\n",
       "<td>0.8996764</td>\n",
       "<td>0.0904541</td>\n",
       "<td>0.2354585</td>\n",
       "<td>1.1115108</td>\n",
       "<td>0.0967742</td>\n",
       "<td>0.4568345</td>\n",
       "<td>0.0236220</td>\n",
       "<td>1.0</td>\n",
       "<td>-76.4541529</td>\n",
       "<td>11.1510791</td></tr>\n",
       "<tr><td></td>\n",
       "<td>16</td>\n",
       "<td>1.0</td>\n",
       "<td>0.0003640</td>\n",
       "<td>0.0</td>\n",
       "<td>1.0</td>\n",
       "<td>0.0</td>\n",
       "<td>0.4110032</td>\n",
       "<td>0.0</td>\n",
       "<td>1.0</td>\n",
       "<td>-100.0</td>\n",
       "<td>0.0</td></tr></table></div>"
      ],
      "text/plain": [
       "    group    cumulative_data_fraction    lower_threshold    lift      cumulative_lift    response_rate    cumulative_response_rate    capture_rate    cumulative_capture_rate    gain      cumulative_gain\n",
       "--  -------  --------------------------  -----------------  --------  -----------------  ---------------  --------------------------  --------------  -------------------------  --------  -----------------\n",
       "    1        0.012945                    0.99218            2.43307   2.43307            1                1                           0.0314961       0.0314961                  143.307   143.307\n",
       "    2        0.0226537                   0.988168           2.43307   2.43307            1                1                           0.023622        0.0551181                  143.307   143.307\n",
       "    3        0.0323625                   0.983475           2.43307   2.43307            1                1                           0.023622        0.0787402                  143.307   143.307\n",
       "    4        0.0420712                   0.975388           2.43307   2.43307            1                1                           0.023622        0.102362                   143.307   143.307\n",
       "    5        0.0517799                   0.962404           2.43307   2.43307            1                1                           0.023622        0.125984                   143.307   143.307\n",
       "    6        0.100324                    0.872536           1.78425   2.11913            0.733333         0.870968                    0.0866142       0.212598                   78.4252   111.913\n",
       "    7        0.152104                    0.797296           2.43307   2.226              1                0.914894                    0.125984        0.338583                   143.307   122.6\n",
       "    8        0.200647                    0.690349           1.45984   2.04064            0.6              0.83871                     0.0708661       0.409449                   45.9843   104.064\n",
       "    9        0.300971                    0.556673           1.49124   1.85751            0.612903         0.763441                    0.149606        0.559055                   49.1237   85.7506\n",
       "    10       0.401294                    0.464416           1.49124   1.76594            0.612903         0.725806                    0.149606        0.708661                   49.1237   76.5939\n",
       "    11       0.501618                    0.327121           0.941834  1.60112            0.387097         0.658065                    0.0944882       0.80315                    -5.81661  60.1118\n",
       "    12       0.598706                    0.250013           0.811024  1.47299            0.333333         0.605405                    0.0787402       0.88189                    -18.8976  47.2994\n",
       "    13       0.699029                    0.201419           0.313945  1.30665            0.129032         0.537037                    0.0314961       0.913386                   -68.6055  30.6649\n",
       "    14       0.799353                    0.145077           0.627889  1.22146            0.258065         0.502024                    0.0629921       0.976378                   -37.2111  22.1461\n",
       "    15       0.899676                    0.0904541          0.235458  1.11151            0.0967742        0.456835                    0.023622        1                          -76.4542  11.1511\n",
       "    16       1                           0.000363972        0         1                  0                0.411003                    0               1                          -100      0"
      ]
     },
     "metadata": {},
     "output_type": "display_data"
    },
    {
     "name": "stdout",
     "output_type": "stream",
     "text": [
      "\n",
      "\n",
      "ModelMetricsBinomialGLM: glm\n",
      "** Reported on validation data. **\n",
      "\n",
      "MSE: 0.126417804604\n",
      "RMSE: 0.355552815491\n",
      "LogLoss: 0.390039687759\n",
      "Null degrees of freedom: 28\n",
      "Residual degrees of freedom: 20\n",
      "Null deviance: 37.1781590207\n",
      "Residual deviance: 22.62230189\n",
      "AIC: 40.62230189\n",
      "AUC: 0.877777777778\n",
      "Gini: 0.755555555556\n",
      "Confusion Matrix (Act/Pred) for max f1 @ threshold = 0.458300188451: \n"
     ]
    },
    {
     "data": {
      "text/html": [
       "<div style=\"overflow:auto\"><table style=\"width:50%\"><tr><td><b></b></td>\n",
       "<td><b>0</b></td>\n",
       "<td><b>1</b></td>\n",
       "<td><b>Error</b></td>\n",
       "<td><b>Rate</b></td></tr>\n",
       "<tr><td>0</td>\n",
       "<td>17.0</td>\n",
       "<td>3.0</td>\n",
       "<td>0.15</td>\n",
       "<td> (3.0/20.0)</td></tr>\n",
       "<tr><td>1</td>\n",
       "<td>2.0</td>\n",
       "<td>7.0</td>\n",
       "<td>0.2222</td>\n",
       "<td> (2.0/9.0)</td></tr>\n",
       "<tr><td>Total</td>\n",
       "<td>19.0</td>\n",
       "<td>10.0</td>\n",
       "<td>0.1724</td>\n",
       "<td> (5.0/29.0)</td></tr></table></div>"
      ],
      "text/plain": [
       "       0    1    Error    Rate\n",
       "-----  ---  ---  -------  ----------\n",
       "0      17   3    0.15     (3.0/20.0)\n",
       "1      2    7    0.2222   (2.0/9.0)\n",
       "Total  19   10   0.1724   (5.0/29.0)"
      ]
     },
     "metadata": {},
     "output_type": "display_data"
    },
    {
     "name": "stdout",
     "output_type": "stream",
     "text": [
      "Maximum Metrics: Maximum metrics at their respective thresholds\n",
      "\n"
     ]
    },
    {
     "data": {
      "text/html": [
       "<div style=\"overflow:auto\"><table style=\"width:50%\"><tr><td><b>metric</b></td>\n",
       "<td><b>threshold</b></td>\n",
       "<td><b>value</b></td>\n",
       "<td><b>idx</b></td></tr>\n",
       "<tr><td>max f1</td>\n",
       "<td>0.4583002</td>\n",
       "<td>0.7368421</td>\n",
       "<td>9.0</td></tr>\n",
       "<tr><td>max f2</td>\n",
       "<td>0.2021891</td>\n",
       "<td>0.8181818</td>\n",
       "<td>18.0</td></tr>\n",
       "<tr><td>max f0point5</td>\n",
       "<td>0.7840649</td>\n",
       "<td>0.8620690</td>\n",
       "<td>4.0</td></tr>\n",
       "<tr><td>max accuracy</td>\n",
       "<td>0.7840649</td>\n",
       "<td>0.8620690</td>\n",
       "<td>4.0</td></tr>\n",
       "<tr><td>max precision</td>\n",
       "<td>0.9686239</td>\n",
       "<td>1.0</td>\n",
       "<td>0.0</td></tr>\n",
       "<tr><td>max recall</td>\n",
       "<td>0.2021891</td>\n",
       "<td>1.0</td>\n",
       "<td>18.0</td></tr>\n",
       "<tr><td>max specificity</td>\n",
       "<td>0.9686239</td>\n",
       "<td>1.0</td>\n",
       "<td>0.0</td></tr>\n",
       "<tr><td>max absolute_mcc</td>\n",
       "<td>0.7840649</td>\n",
       "<td>0.6804138</td>\n",
       "<td>4.0</td></tr>\n",
       "<tr><td>max min_per_class_accuracy</td>\n",
       "<td>0.4583002</td>\n",
       "<td>0.7777778</td>\n",
       "<td>9.0</td></tr>\n",
       "<tr><td>max mean_per_class_accuracy</td>\n",
       "<td>0.4583002</td>\n",
       "<td>0.8138889</td>\n",
       "<td>9.0</td></tr></table></div>"
      ],
      "text/plain": [
       "metric                       threshold    value     idx\n",
       "---------------------------  -----------  --------  -----\n",
       "max f1                       0.4583       0.736842  9\n",
       "max f2                       0.202189     0.818182  18\n",
       "max f0point5                 0.784065     0.862069  4\n",
       "max accuracy                 0.784065     0.862069  4\n",
       "max precision                0.968624     1         0\n",
       "max recall                   0.202189     1         18\n",
       "max specificity              0.968624     1         0\n",
       "max absolute_mcc             0.784065     0.680414  4\n",
       "max min_per_class_accuracy   0.4583       0.777778  9\n",
       "max mean_per_class_accuracy  0.4583       0.813889  9"
      ]
     },
     "metadata": {},
     "output_type": "display_data"
    },
    {
     "name": "stdout",
     "output_type": "stream",
     "text": [
      "Gains/Lift Table: Avg response rate: 31.03 %\n",
      "\n"
     ]
    },
    {
     "data": {
      "text/html": [
       "<div style=\"overflow:auto\"><table style=\"width:50%\"><tr><td><b></b></td>\n",
       "<td><b>group</b></td>\n",
       "<td><b>cumulative_data_fraction</b></td>\n",
       "<td><b>lower_threshold</b></td>\n",
       "<td><b>lift</b></td>\n",
       "<td><b>cumulative_lift</b></td>\n",
       "<td><b>response_rate</b></td>\n",
       "<td><b>cumulative_response_rate</b></td>\n",
       "<td><b>capture_rate</b></td>\n",
       "<td><b>cumulative_capture_rate</b></td>\n",
       "<td><b>gain</b></td>\n",
       "<td><b>cumulative_gain</b></td></tr>\n",
       "<tr><td></td>\n",
       "<td>1</td>\n",
       "<td>0.0344828</td>\n",
       "<td>0.9278182</td>\n",
       "<td>3.2222222</td>\n",
       "<td>3.2222222</td>\n",
       "<td>1.0</td>\n",
       "<td>1.0</td>\n",
       "<td>0.1111111</td>\n",
       "<td>0.1111111</td>\n",
       "<td>222.2222222</td>\n",
       "<td>222.2222222</td></tr>\n",
       "<tr><td></td>\n",
       "<td>2</td>\n",
       "<td>0.0344828</td>\n",
       "<td>0.8870125</td>\n",
       "<td>0.0</td>\n",
       "<td>3.2222222</td>\n",
       "<td>0.0</td>\n",
       "<td>1.0</td>\n",
       "<td>0.0</td>\n",
       "<td>0.1111111</td>\n",
       "<td>-100.0</td>\n",
       "<td>222.2222222</td></tr>\n",
       "<tr><td></td>\n",
       "<td>3</td>\n",
       "<td>0.0344828</td>\n",
       "<td>0.8462068</td>\n",
       "<td>0.0</td>\n",
       "<td>3.2222222</td>\n",
       "<td>0.0</td>\n",
       "<td>1.0</td>\n",
       "<td>0.0</td>\n",
       "<td>0.1111111</td>\n",
       "<td>-100.0</td>\n",
       "<td>222.2222222</td></tr>\n",
       "<tr><td></td>\n",
       "<td>4</td>\n",
       "<td>0.0689655</td>\n",
       "<td>0.8211536</td>\n",
       "<td>3.2222222</td>\n",
       "<td>3.2222222</td>\n",
       "<td>1.0</td>\n",
       "<td>1.0</td>\n",
       "<td>0.1111111</td>\n",
       "<td>0.2222222</td>\n",
       "<td>222.2222222</td>\n",
       "<td>222.2222222</td></tr>\n",
       "<tr><td></td>\n",
       "<td>5</td>\n",
       "<td>0.0689655</td>\n",
       "<td>0.8171038</td>\n",
       "<td>0.0</td>\n",
       "<td>3.2222222</td>\n",
       "<td>0.0</td>\n",
       "<td>1.0</td>\n",
       "<td>0.0</td>\n",
       "<td>0.2222222</td>\n",
       "<td>-100.0</td>\n",
       "<td>222.2222222</td></tr>\n",
       "<tr><td></td>\n",
       "<td>6</td>\n",
       "<td>0.1034483</td>\n",
       "<td>0.7994778</td>\n",
       "<td>3.2222222</td>\n",
       "<td>3.2222222</td>\n",
       "<td>1.0</td>\n",
       "<td>1.0</td>\n",
       "<td>0.1111111</td>\n",
       "<td>0.3333333</td>\n",
       "<td>222.2222222</td>\n",
       "<td>222.2222222</td></tr>\n",
       "<tr><td></td>\n",
       "<td>7</td>\n",
       "<td>0.1724138</td>\n",
       "<td>0.7467703</td>\n",
       "<td>3.2222222</td>\n",
       "<td>3.2222222</td>\n",
       "<td>1.0</td>\n",
       "<td>1.0</td>\n",
       "<td>0.2222222</td>\n",
       "<td>0.5555556</td>\n",
       "<td>222.2222222</td>\n",
       "<td>222.2222222</td></tr>\n",
       "<tr><td></td>\n",
       "<td>8</td>\n",
       "<td>0.2068966</td>\n",
       "<td>0.5721313</td>\n",
       "<td>0.0</td>\n",
       "<td>2.6851852</td>\n",
       "<td>0.0</td>\n",
       "<td>0.8333333</td>\n",
       "<td>0.0</td>\n",
       "<td>0.5555556</td>\n",
       "<td>-100.0</td>\n",
       "<td>168.5185185</td></tr>\n",
       "<tr><td></td>\n",
       "<td>9</td>\n",
       "<td>0.3103448</td>\n",
       "<td>0.4591001</td>\n",
       "<td>1.0740741</td>\n",
       "<td>2.1481481</td>\n",
       "<td>0.3333333</td>\n",
       "<td>0.6666667</td>\n",
       "<td>0.1111111</td>\n",
       "<td>0.6666667</td>\n",
       "<td>7.4074074</td>\n",
       "<td>114.8148148</td></tr>\n",
       "<tr><td></td>\n",
       "<td>10</td>\n",
       "<td>0.4137931</td>\n",
       "<td>0.4133575</td>\n",
       "<td>1.0740741</td>\n",
       "<td>1.8796296</td>\n",
       "<td>0.3333333</td>\n",
       "<td>0.5833333</td>\n",
       "<td>0.1111111</td>\n",
       "<td>0.7777778</td>\n",
       "<td>7.4074074</td>\n",
       "<td>87.9629630</td></tr>\n",
       "<tr><td></td>\n",
       "<td>11</td>\n",
       "<td>0.5172414</td>\n",
       "<td>0.2749497</td>\n",
       "<td>1.0740741</td>\n",
       "<td>1.7185185</td>\n",
       "<td>0.3333333</td>\n",
       "<td>0.5333333</td>\n",
       "<td>0.1111111</td>\n",
       "<td>0.8888889</td>\n",
       "<td>7.4074074</td>\n",
       "<td>71.8518519</td></tr>\n",
       "<tr><td></td>\n",
       "<td>12</td>\n",
       "<td>0.5862069</td>\n",
       "<td>0.2344198</td>\n",
       "<td>0.0</td>\n",
       "<td>1.5163399</td>\n",
       "<td>0.0</td>\n",
       "<td>0.4705882</td>\n",
       "<td>0.0</td>\n",
       "<td>0.8888889</td>\n",
       "<td>-100.0</td>\n",
       "<td>51.6339869</td></tr>\n",
       "<tr><td></td>\n",
       "<td>13</td>\n",
       "<td>0.6896552</td>\n",
       "<td>0.1619136</td>\n",
       "<td>1.0740741</td>\n",
       "<td>1.45</td>\n",
       "<td>0.3333333</td>\n",
       "<td>0.45</td>\n",
       "<td>0.1111111</td>\n",
       "<td>1.0</td>\n",
       "<td>7.4074074</td>\n",
       "<td>45.0</td></tr>\n",
       "<tr><td></td>\n",
       "<td>14</td>\n",
       "<td>0.7931034</td>\n",
       "<td>0.0666908</td>\n",
       "<td>0.0</td>\n",
       "<td>1.2608696</td>\n",
       "<td>0.0</td>\n",
       "<td>0.3913043</td>\n",
       "<td>0.0</td>\n",
       "<td>1.0</td>\n",
       "<td>-100.0</td>\n",
       "<td>26.0869565</td></tr>\n",
       "<tr><td></td>\n",
       "<td>15</td>\n",
       "<td>0.8965517</td>\n",
       "<td>0.0473761</td>\n",
       "<td>0.0</td>\n",
       "<td>1.1153846</td>\n",
       "<td>0.0</td>\n",
       "<td>0.3461538</td>\n",
       "<td>0.0</td>\n",
       "<td>1.0</td>\n",
       "<td>-100.0</td>\n",
       "<td>11.5384615</td></tr>\n",
       "<tr><td></td>\n",
       "<td>16</td>\n",
       "<td>1.0</td>\n",
       "<td>0.0003358</td>\n",
       "<td>0.0</td>\n",
       "<td>1.0</td>\n",
       "<td>0.0</td>\n",
       "<td>0.3103448</td>\n",
       "<td>0.0</td>\n",
       "<td>1.0</td>\n",
       "<td>-100.0</td>\n",
       "<td>0.0</td></tr></table></div>"
      ],
      "text/plain": [
       "    group    cumulative_data_fraction    lower_threshold    lift     cumulative_lift    response_rate    cumulative_response_rate    capture_rate    cumulative_capture_rate    gain     cumulative_gain\n",
       "--  -------  --------------------------  -----------------  -------  -----------------  ---------------  --------------------------  --------------  -------------------------  -------  -----------------\n",
       "    1        0.0344828                   0.927818           3.22222  3.22222            1                1                           0.111111        0.111111                   222.222  222.222\n",
       "    2        0.0344828                   0.887012           0        3.22222            0                1                           0               0.111111                   -100     222.222\n",
       "    3        0.0344828                   0.846207           0        3.22222            0                1                           0               0.111111                   -100     222.222\n",
       "    4        0.0689655                   0.821154           3.22222  3.22222            1                1                           0.111111        0.222222                   222.222  222.222\n",
       "    5        0.0689655                   0.817104           0        3.22222            0                1                           0               0.222222                   -100     222.222\n",
       "    6        0.103448                    0.799478           3.22222  3.22222            1                1                           0.111111        0.333333                   222.222  222.222\n",
       "    7        0.172414                    0.74677            3.22222  3.22222            1                1                           0.222222        0.555556                   222.222  222.222\n",
       "    8        0.206897                    0.572131           0        2.68519            0                0.833333                    0               0.555556                   -100     168.519\n",
       "    9        0.310345                    0.4591             1.07407  2.14815            0.333333         0.666667                    0.111111        0.666667                   7.40741  114.815\n",
       "    10       0.413793                    0.413358           1.07407  1.87963            0.333333         0.583333                    0.111111        0.777778                   7.40741  87.963\n",
       "    11       0.517241                    0.27495            1.07407  1.71852            0.333333         0.533333                    0.111111        0.888889                   7.40741  71.8519\n",
       "    12       0.586207                    0.23442            0        1.51634            0                0.470588                    0               0.888889                   -100     51.634\n",
       "    13       0.689655                    0.161914           1.07407  1.45               0.333333         0.45                        0.111111        1                          7.40741  45\n",
       "    14       0.793103                    0.0666908          0        1.26087            0                0.391304                    0               1                          -100     26.087\n",
       "    15       0.896552                    0.0473761          0        1.11538            0                0.346154                    0               1                          -100     11.5385\n",
       "    16       1                           0.000335831        0        1                  0                0.310345                    0               1                          -100     0"
      ]
     },
     "metadata": {},
     "output_type": "display_data"
    },
    {
     "name": "stdout",
     "output_type": "stream",
     "text": [
      "\n",
      "Scoring History: \n"
     ]
    },
    {
     "data": {
      "text/html": [
       "<div style=\"overflow:auto\"><table style=\"width:50%\"><tr><td><b></b></td>\n",
       "<td><b>timestamp</b></td>\n",
       "<td><b>duration</b></td>\n",
       "<td><b>iterations</b></td>\n",
       "<td><b>negative_log_likelihood</b></td>\n",
       "<td><b>objective</b></td></tr>\n",
       "<tr><td></td>\n",
       "<td>2017-09-25 08:38:08</td>\n",
       "<td> 0.000 sec</td>\n",
       "<td>0</td>\n",
       "<td>209.2614775</td>\n",
       "<td>0.6772216</td></tr>\n",
       "<tr><td></td>\n",
       "<td>2017-09-25 08:38:08</td>\n",
       "<td> 0.003 sec</td>\n",
       "<td>1</td>\n",
       "<td>156.3119545</td>\n",
       "<td>0.5063993</td></tr>\n",
       "<tr><td></td>\n",
       "<td>2017-09-25 08:38:08</td>\n",
       "<td> 0.004 sec</td>\n",
       "<td>2</td>\n",
       "<td>150.8831919</td>\n",
       "<td>0.4891214</td></tr>\n",
       "<tr><td></td>\n",
       "<td>2017-09-25 08:38:08</td>\n",
       "<td> 0.006 sec</td>\n",
       "<td>3</td>\n",
       "<td>150.5227545</td>\n",
       "<td>0.4880588</td></tr>\n",
       "<tr><td></td>\n",
       "<td>2017-09-25 08:38:08</td>\n",
       "<td> 0.007 sec</td>\n",
       "<td>4</td>\n",
       "<td>150.5177284</td>\n",
       "<td>0.4880518</td></tr></table></div>"
      ],
      "text/plain": [
       "    timestamp            duration    iterations    negative_log_likelihood    objective\n",
       "--  -------------------  ----------  ------------  -------------------------  -----------\n",
       "    2017-09-25 08:38:08  0.000 sec   0             209.261                    0.677222\n",
       "    2017-09-25 08:38:08  0.003 sec   1             156.312                    0.506399\n",
       "    2017-09-25 08:38:08  0.004 sec   2             150.883                    0.489121\n",
       "    2017-09-25 08:38:08  0.006 sec   3             150.523                    0.488059\n",
       "    2017-09-25 08:38:08  0.007 sec   4             150.518                    0.488052"
      ]
     },
     "metadata": {},
     "output_type": "display_data"
    },
    {
     "data": {
      "text/plain": []
     },
     "execution_count": 42,
     "metadata": {},
     "output_type": "execute_result"
    }
   ],
   "source": [
    "glm_logistic"
   ]
  },
  {
   "cell_type": "code",
   "execution_count": 43,
   "metadata": {},
   "outputs": [
    {
     "name": "stdout",
     "output_type": "stream",
     "text": [
      "Warning: This model doesn't have variable importances\n"
     ]
    }
   ],
   "source": [
    "glm_logistic.varimp()"
   ]
  },
  {
   "cell_type": "code",
   "execution_count": 44,
   "metadata": {},
   "outputs": [
    {
     "name": "stdout",
     "output_type": "stream",
     "text": [
      "Confusion Matrix (Act/Pred) for max f1 @ threshold = 0.307379670896: \n"
     ]
    },
    {
     "data": {
      "text/html": [
       "<div style=\"overflow:auto\"><table style=\"width:50%\"><tr><td><b></b></td>\n",
       "<td><b>0</b></td>\n",
       "<td><b>1</b></td>\n",
       "<td><b>Error</b></td>\n",
       "<td><b>Rate</b></td></tr>\n",
       "<tr><td>0</td>\n",
       "<td>124.0</td>\n",
       "<td>58.0</td>\n",
       "<td>0.3187</td>\n",
       "<td> (58.0/182.0)</td></tr>\n",
       "<tr><td>1</td>\n",
       "<td>20.0</td>\n",
       "<td>107.0</td>\n",
       "<td>0.1575</td>\n",
       "<td> (20.0/127.0)</td></tr>\n",
       "<tr><td>Total</td>\n",
       "<td>144.0</td>\n",
       "<td>165.0</td>\n",
       "<td>0.2524</td>\n",
       "<td> (78.0/309.0)</td></tr></table></div>"
      ],
      "text/plain": [
       "       0    1    Error    Rate\n",
       "-----  ---  ---  -------  ------------\n",
       "0      124  58   0.3187   (58.0/182.0)\n",
       "1      20   107  0.1575   (20.0/127.0)\n",
       "Total  144  165  0.2524   (78.0/309.0)"
      ]
     },
     "metadata": {},
     "output_type": "display_data"
    },
    {
     "data": {
      "text/plain": []
     },
     "execution_count": 44,
     "metadata": {},
     "output_type": "execute_result"
    }
   ],
   "source": [
    "glm_logistic.confusion_matrix()"
   ]
  },
  {
   "cell_type": "code",
   "execution_count": 45,
   "metadata": {},
   "outputs": [
    {
     "name": "stdout",
     "output_type": "stream",
     "text": [
      "glm prediction progress: |████████████████████████████████████████████████| 100%\n"
     ]
    },
    {
     "data": {
      "text/html": [
       "<table>\n",
       "<thead>\n",
       "<tr><th style=\"text-align: right;\">  predict</th><th style=\"text-align: right;\">       p0</th><th style=\"text-align: right;\">       p1</th></tr>\n",
       "</thead>\n",
       "<tbody>\n",
       "<tr><td style=\"text-align: right;\">        0</td><td style=\"text-align: right;\">0.914936 </td><td style=\"text-align: right;\">0.0850641</td></tr>\n",
       "<tr><td style=\"text-align: right;\">        1</td><td style=\"text-align: right;\">0.0540292</td><td style=\"text-align: right;\">0.945971 </td></tr>\n",
       "<tr><td style=\"text-align: right;\">        1</td><td style=\"text-align: right;\">0.0112619</td><td style=\"text-align: right;\">0.988738 </td></tr>\n",
       "<tr><td style=\"text-align: right;\">        0</td><td style=\"text-align: right;\">0.936428 </td><td style=\"text-align: right;\">0.0635724</td></tr>\n",
       "<tr><td style=\"text-align: right;\">        0</td><td style=\"text-align: right;\">0.612683 </td><td style=\"text-align: right;\">0.387317 </td></tr>\n",
       "<tr><td style=\"text-align: right;\">        0</td><td style=\"text-align: right;\">0.940213 </td><td style=\"text-align: right;\">0.0597871</td></tr>\n",
       "<tr><td style=\"text-align: right;\">        0</td><td style=\"text-align: right;\">0.8211   </td><td style=\"text-align: right;\">0.1789   </td></tr>\n",
       "<tr><td style=\"text-align: right;\">        0</td><td style=\"text-align: right;\">0.818788 </td><td style=\"text-align: right;\">0.181212 </td></tr>\n",
       "<tr><td style=\"text-align: right;\">        1</td><td style=\"text-align: right;\">0.0481867</td><td style=\"text-align: right;\">0.951813 </td></tr>\n",
       "<tr><td style=\"text-align: right;\">        1</td><td style=\"text-align: right;\">0.515774 </td><td style=\"text-align: right;\">0.484226 </td></tr>\n",
       "</tbody>\n",
       "</table>"
      ]
     },
     "metadata": {},
     "output_type": "display_data"
    },
    {
     "data": {
      "text/plain": []
     },
     "execution_count": 45,
     "metadata": {},
     "output_type": "execute_result"
    }
   ],
   "source": [
    "glm_logistic.predict(test_data=test)"
   ]
  },
  {
   "cell_type": "markdown",
   "metadata": {},
   "source": [
    "## Gradient Boosting Model"
   ]
  },
  {
   "cell_type": "code",
   "execution_count": null,
   "metadata": {
    "collapsed": true
   },
   "outputs": [],
   "source": [
    "from h2o.estimators.gbm import H2OGradientBoostingEstimator"
   ]
  },
  {
   "cell_type": "code",
   "execution_count": null,
   "metadata": {
    "collapsed": true
   },
   "outputs": [],
   "source": [
    "gbm = H2OGradientBoostingEstimator()"
   ]
  },
  {
   "cell_type": "code",
   "execution_count": null,
   "metadata": {},
   "outputs": [],
   "source": [
    "gbm.train(x=x, y =y, training_frame=train, validation_frame=valid)"
   ]
  },
  {
   "cell_type": "code",
   "execution_count": null,
   "metadata": {},
   "outputs": [],
   "source": [
    "gbm"
   ]
  },
  {
   "cell_type": "code",
   "execution_count": null,
   "metadata": {},
   "outputs": [],
   "source": [
    "gbm.confusion_matrix()"
   ]
  },
  {
   "cell_type": "code",
   "execution_count": null,
   "metadata": {},
   "outputs": [],
   "source": [
    "gbm.varimp()"
   ]
  },
  {
   "cell_type": "code",
   "execution_count": null,
   "metadata": {},
   "outputs": [],
   "source": [
    "gbm.varimp_plot()"
   ]
  },
  {
   "cell_type": "markdown",
   "metadata": {},
   "source": [
    "## Machine learning with cross validation"
   ]
  },
  {
   "cell_type": "code",
   "execution_count": null,
   "metadata": {},
   "outputs": [],
   "source": [
    "gbm_cv3 = H2OGradientBoostingEstimator(nfolds=3)"
   ]
  },
  {
   "cell_type": "code",
   "execution_count": null,
   "metadata": {},
   "outputs": [],
   "source": [
    "gbm_cv3.train(x=x, y=y, training_frame=train)"
   ]
  },
  {
   "cell_type": "code",
   "execution_count": null,
   "metadata": {},
   "outputs": [],
   "source": [
    "gbm_cv3"
   ]
  },
  {
   "cell_type": "code",
   "execution_count": null,
   "metadata": {},
   "outputs": [],
   "source": [
    "gbm_cv3.cross_validation_predictions()"
   ]
  },
  {
   "cell_type": "code",
   "execution_count": null,
   "metadata": {
    "collapsed": true
   },
   "outputs": [],
   "source": [
    "gbm_cv4 = H2OGradientBoostingEstimator(keep_cross_validation_predictions = True, nfolds=4)"
   ]
  },
  {
   "cell_type": "code",
   "execution_count": null,
   "metadata": {},
   "outputs": [],
   "source": [
    "gbm_cv4.train(x=x, y=y, training_frame=train)"
   ]
  },
  {
   "cell_type": "code",
   "execution_count": null,
   "metadata": {},
   "outputs": [],
   "source": [
    "gbm_cv4.cross_validation_fold_assignment"
   ]
  },
  {
   "cell_type": "markdown",
   "metadata": {},
   "source": [
    "## Random Forest"
   ]
  },
  {
   "cell_type": "code",
   "execution_count": null,
   "metadata": {},
   "outputs": [],
   "source": [
    "from h2o.estimators.random_forest import H2ORandomForestEstimator"
   ]
  },
  {
   "cell_type": "code",
   "execution_count": null,
   "metadata": {
    "collapsed": true
   },
   "outputs": [],
   "source": [
    "drf = H2ORandomForestEstimator(nfolds=5, keep_cross_validation_predictions=True)"
   ]
  },
  {
   "cell_type": "code",
   "execution_count": null,
   "metadata": {},
   "outputs": [],
   "source": [
    "drf.train(x=x, y = y, training_frame=train)"
   ]
  },
  {
   "cell_type": "code",
   "execution_count": null,
   "metadata": {},
   "outputs": [],
   "source": [
    "drf"
   ]
  },
  {
   "cell_type": "code",
   "execution_count": null,
   "metadata": {},
   "outputs": [],
   "source": [
    "drf.confusion_matrix()"
   ]
  },
  {
   "cell_type": "code",
   "execution_count": null,
   "metadata": {},
   "outputs": [],
   "source": [
    "drf.gains_lift()"
   ]
  },
  {
   "cell_type": "markdown",
   "metadata": {},
   "source": [
    "## Deep Learning"
   ]
  },
  {
   "cell_type": "code",
   "execution_count": null,
   "metadata": {},
   "outputs": [],
   "source": [
    "from h2o.estimators.deeplearning import H2ODeepLearningEstimator"
   ]
  },
  {
   "cell_type": "code",
   "execution_count": null,
   "metadata": {},
   "outputs": [],
   "source": [
    "##random_fold = random.randint(3,10)\n",
    "dl_model = H2ODeepLearningEstimator(nfolds=5,fold_assignment=\"Modulo\",hidden=[20,20],epochs=10)"
   ]
  },
  {
   "cell_type": "code",
   "execution_count": null,
   "metadata": {},
   "outputs": [],
   "source": [
    "dl_model.train(x=x, y=y, training_frame=train)"
   ]
  },
  {
   "cell_type": "code",
   "execution_count": null,
   "metadata": {},
   "outputs": [],
   "source": [
    "dl_model"
   ]
  },
  {
   "cell_type": "code",
   "execution_count": null,
   "metadata": {},
   "outputs": [],
   "source": [
    "train.hist"
   ]
  },
  {
   "cell_type": "markdown",
   "metadata": {},
   "source": [
    "## AutoML"
   ]
  },
  {
   "cell_type": "code",
   "execution_count": 46,
   "metadata": {
    "collapsed": true
   },
   "outputs": [],
   "source": [
    "from h2o.automl import H2OAutoML"
   ]
  },
  {
   "cell_type": "code",
   "execution_count": 48,
   "metadata": {},
   "outputs": [],
   "source": [
    "aml = H2OAutoML(max_runtime_secs=30)"
   ]
  },
  {
   "cell_type": "code",
   "execution_count": 49,
   "metadata": {},
   "outputs": [
    {
     "name": "stdout",
     "output_type": "stream",
     "text": [
      "AutoML progress: |████████████████████████████████████████████████████████| 100%\n",
      "Parse progress: |█████████████████████████████████████████████████████████| 100%\n"
     ]
    }
   ],
   "source": [
    "aml.train(x=x, y = y, training_frame=train)"
   ]
  },
  {
   "cell_type": "code",
   "execution_count": 50,
   "metadata": {},
   "outputs": [
    {
     "data": {
      "text/html": [
       "<table>\n",
       "<thead>\n",
       "<tr><th>model_id                                  </th><th style=\"text-align: right;\">     auc</th><th style=\"text-align: right;\">  logloss</th></tr>\n",
       "</thead>\n",
       "<tbody>\n",
       "<tr><td>GLM_grid_0_AutoML_20170925_084236_model_0 </td><td style=\"text-align: right;\">0.942529</td><td style=\"text-align: right;\"> 0.382879</td></tr>\n",
       "<tr><td>GLM_grid_0_AutoML_20170925_084236_model_1 </td><td style=\"text-align: right;\">0.942529</td><td style=\"text-align: right;\"> 0.382879</td></tr>\n",
       "<tr><td>StackedEnsemble_0_AutoML_20170925_084236  </td><td style=\"text-align: right;\">0.935961</td><td style=\"text-align: right;\"> 0.404332</td></tr>\n",
       "<tr><td>GBM_grid_1_AutoML_20170925_084236_model_18</td><td style=\"text-align: right;\">0.924466</td><td style=\"text-align: right;\"> 0.416168</td></tr>\n",
       "<tr><td>GBM_grid_1_AutoML_20170925_084236_model_2 </td><td style=\"text-align: right;\">0.921182</td><td style=\"text-align: right;\"> 0.454204</td></tr>\n",
       "<tr><td>GBM_grid_1_AutoML_20170925_084236_model_0 </td><td style=\"text-align: right;\">0.916256</td><td style=\"text-align: right;\"> 0.38847 </td></tr>\n",
       "<tr><td>GBM_grid_0_AutoML_20170925_084236_model_0 </td><td style=\"text-align: right;\">0.914614</td><td style=\"text-align: right;\"> 0.394755</td></tr>\n",
       "<tr><td>DL_grid_0_AutoML_20170925_084236_model_1  </td><td style=\"text-align: right;\">0.912972</td><td style=\"text-align: right;\"> 0.381593</td></tr>\n",
       "<tr><td>GBM_grid_1_AutoML_20170925_084236_model_1 </td><td style=\"text-align: right;\">0.901478</td><td style=\"text-align: right;\"> 0.673377</td></tr>\n",
       "<tr><td>GBM_grid_0_AutoML_20170925_084236_model_1 </td><td style=\"text-align: right;\">0.901478</td><td style=\"text-align: right;\"> 0.440371</td></tr>\n",
       "</tbody>\n",
       "</table>"
      ]
     },
     "metadata": {},
     "output_type": "display_data"
    },
    {
     "data": {
      "text/plain": []
     },
     "execution_count": 50,
     "metadata": {},
     "output_type": "execute_result"
    }
   ],
   "source": [
    "aml.leaderboard"
   ]
  },
  {
   "cell_type": "code",
   "execution_count": 51,
   "metadata": {},
   "outputs": [
    {
     "name": "stdout",
     "output_type": "stream",
     "text": [
      "Model Details\n",
      "=============\n",
      "H2OGeneralizedLinearEstimator :  Generalized Linear Modeling\n",
      "Model Key:  GLM_grid_0_AutoML_20170925_084236_model_0\n",
      "\n",
      "\n",
      "ModelMetricsBinomialGLM: glm\n",
      "** Reported on train data. **\n",
      "\n",
      "MSE: 0.167336397221\n",
      "RMSE: 0.409067717158\n",
      "LogLoss: 0.500658063479\n",
      "Null degrees of freedom: 212\n",
      "Residual degrees of freedom: 204\n",
      "Null deviance: 289.50336051\n",
      "Residual deviance: 213.280335042\n",
      "AIC: 231.280335042\n",
      "AUC: 0.828832910475\n",
      "Gini: 0.65766582095\n",
      "Confusion Matrix (Act/Pred) for max f1 @ threshold = 0.300733639628: \n"
     ]
    },
    {
     "data": {
      "text/html": [
       "<div style=\"overflow:auto\"><table style=\"width:50%\"><tr><td><b></b></td>\n",
       "<td><b>0</b></td>\n",
       "<td><b>1</b></td>\n",
       "<td><b>Error</b></td>\n",
       "<td><b>Rate</b></td></tr>\n",
       "<tr><td>0</td>\n",
       "<td>80.0</td>\n",
       "<td>44.0</td>\n",
       "<td>0.3548</td>\n",
       "<td> (44.0/124.0)</td></tr>\n",
       "<tr><td>1</td>\n",
       "<td>10.0</td>\n",
       "<td>79.0</td>\n",
       "<td>0.1124</td>\n",
       "<td> (10.0/89.0)</td></tr>\n",
       "<tr><td>Total</td>\n",
       "<td>90.0</td>\n",
       "<td>123.0</td>\n",
       "<td>0.2535</td>\n",
       "<td> (54.0/213.0)</td></tr></table></div>"
      ],
      "text/plain": [
       "       0    1    Error    Rate\n",
       "-----  ---  ---  -------  ------------\n",
       "0      80   44   0.3548   (44.0/124.0)\n",
       "1      10   79   0.1124   (10.0/89.0)\n",
       "Total  90   123  0.2535   (54.0/213.0)"
      ]
     },
     "metadata": {},
     "output_type": "display_data"
    },
    {
     "name": "stdout",
     "output_type": "stream",
     "text": [
      "Maximum Metrics: Maximum metrics at their respective thresholds\n",
      "\n"
     ]
    },
    {
     "data": {
      "text/html": [
       "<div style=\"overflow:auto\"><table style=\"width:50%\"><tr><td><b>metric</b></td>\n",
       "<td><b>threshold</b></td>\n",
       "<td><b>value</b></td>\n",
       "<td><b>idx</b></td></tr>\n",
       "<tr><td>max f1</td>\n",
       "<td>0.3007336</td>\n",
       "<td>0.7452830</td>\n",
       "<td>122.0</td></tr>\n",
       "<tr><td>max f2</td>\n",
       "<td>0.2377486</td>\n",
       "<td>0.8284024</td>\n",
       "<td>150.0</td></tr>\n",
       "<tr><td>max f0point5</td>\n",
       "<td>0.4677915</td>\n",
       "<td>0.7263923</td>\n",
       "<td>80.0</td></tr>\n",
       "<tr><td>max accuracy</td>\n",
       "<td>0.4677915</td>\n",
       "<td>0.7652582</td>\n",
       "<td>80.0</td></tr>\n",
       "<tr><td>max precision</td>\n",
       "<td>0.9838652</td>\n",
       "<td>1.0</td>\n",
       "<td>0.0</td></tr>\n",
       "<tr><td>max recall</td>\n",
       "<td>0.1445611</td>\n",
       "<td>1.0</td>\n",
       "<td>188.0</td></tr>\n",
       "<tr><td>max specificity</td>\n",
       "<td>0.9838652</td>\n",
       "<td>1.0</td>\n",
       "<td>0.0</td></tr>\n",
       "<tr><td>max absolute_mcc</td>\n",
       "<td>0.3007336</td>\n",
       "<td>0.5319829</td>\n",
       "<td>122.0</td></tr>\n",
       "<tr><td>max min_per_class_accuracy</td>\n",
       "<td>0.3746643</td>\n",
       "<td>0.7338710</td>\n",
       "<td>98.0</td></tr>\n",
       "<tr><td>max mean_per_class_accuracy</td>\n",
       "<td>0.3007336</td>\n",
       "<td>0.7664009</td>\n",
       "<td>122.0</td></tr></table></div>"
      ],
      "text/plain": [
       "metric                       threshold    value     idx\n",
       "---------------------------  -----------  --------  -----\n",
       "max f1                       0.300734     0.745283  122\n",
       "max f2                       0.237749     0.828402  150\n",
       "max f0point5                 0.467791     0.726392  80\n",
       "max accuracy                 0.467791     0.765258  80\n",
       "max precision                0.983865     1         0\n",
       "max recall                   0.144561     1         188\n",
       "max specificity              0.983865     1         0\n",
       "max absolute_mcc             0.300734     0.531983  122\n",
       "max min_per_class_accuracy   0.374664     0.733871  98\n",
       "max mean_per_class_accuracy  0.300734     0.766401  122"
      ]
     },
     "metadata": {},
     "output_type": "display_data"
    },
    {
     "name": "stdout",
     "output_type": "stream",
     "text": [
      "Gains/Lift Table: Avg response rate: 41.78 %\n",
      "\n"
     ]
    },
    {
     "data": {
      "text/html": [
       "<div style=\"overflow:auto\"><table style=\"width:50%\"><tr><td><b></b></td>\n",
       "<td><b>group</b></td>\n",
       "<td><b>cumulative_data_fraction</b></td>\n",
       "<td><b>lower_threshold</b></td>\n",
       "<td><b>lift</b></td>\n",
       "<td><b>cumulative_lift</b></td>\n",
       "<td><b>response_rate</b></td>\n",
       "<td><b>cumulative_response_rate</b></td>\n",
       "<td><b>capture_rate</b></td>\n",
       "<td><b>cumulative_capture_rate</b></td>\n",
       "<td><b>gain</b></td>\n",
       "<td><b>cumulative_gain</b></td></tr>\n",
       "<tr><td></td>\n",
       "<td>1</td>\n",
       "<td>0.0140845</td>\n",
       "<td>0.9783909</td>\n",
       "<td>2.3932584</td>\n",
       "<td>2.3932584</td>\n",
       "<td>1.0</td>\n",
       "<td>1.0</td>\n",
       "<td>0.0337079</td>\n",
       "<td>0.0337079</td>\n",
       "<td>139.3258427</td>\n",
       "<td>139.3258427</td></tr>\n",
       "<tr><td></td>\n",
       "<td>2</td>\n",
       "<td>0.0234742</td>\n",
       "<td>0.9725420</td>\n",
       "<td>2.3932584</td>\n",
       "<td>2.3932584</td>\n",
       "<td>1.0</td>\n",
       "<td>1.0</td>\n",
       "<td>0.0224719</td>\n",
       "<td>0.0561798</td>\n",
       "<td>139.3258427</td>\n",
       "<td>139.3258427</td></tr>\n",
       "<tr><td></td>\n",
       "<td>3</td>\n",
       "<td>0.0328638</td>\n",
       "<td>0.9646568</td>\n",
       "<td>2.3932584</td>\n",
       "<td>2.3932584</td>\n",
       "<td>1.0</td>\n",
       "<td>1.0</td>\n",
       "<td>0.0224719</td>\n",
       "<td>0.0786517</td>\n",
       "<td>139.3258427</td>\n",
       "<td>139.3258427</td></tr>\n",
       "<tr><td></td>\n",
       "<td>4</td>\n",
       "<td>0.0422535</td>\n",
       "<td>0.9480102</td>\n",
       "<td>2.3932584</td>\n",
       "<td>2.3932584</td>\n",
       "<td>1.0</td>\n",
       "<td>1.0</td>\n",
       "<td>0.0224719</td>\n",
       "<td>0.1011236</td>\n",
       "<td>139.3258427</td>\n",
       "<td>139.3258427</td></tr>\n",
       "<tr><td></td>\n",
       "<td>5</td>\n",
       "<td>0.0516432</td>\n",
       "<td>0.8995372</td>\n",
       "<td>2.3932584</td>\n",
       "<td>2.3932584</td>\n",
       "<td>1.0</td>\n",
       "<td>1.0</td>\n",
       "<td>0.0224719</td>\n",
       "<td>0.1235955</td>\n",
       "<td>139.3258427</td>\n",
       "<td>139.3258427</td></tr>\n",
       "<tr><td></td>\n",
       "<td>6</td>\n",
       "<td>0.1032864</td>\n",
       "<td>0.8237633</td>\n",
       "<td>2.1756895</td>\n",
       "<td>2.2844740</td>\n",
       "<td>0.9090909</td>\n",
       "<td>0.9545455</td>\n",
       "<td>0.1123596</td>\n",
       "<td>0.2359551</td>\n",
       "<td>117.5689479</td>\n",
       "<td>128.4473953</td></tr>\n",
       "<tr><td></td>\n",
       "<td>7</td>\n",
       "<td>0.1502347</td>\n",
       "<td>0.7484340</td>\n",
       "<td>1.6752809</td>\n",
       "<td>2.0941011</td>\n",
       "<td>0.7</td>\n",
       "<td>0.875</td>\n",
       "<td>0.0786517</td>\n",
       "<td>0.3146067</td>\n",
       "<td>67.5280899</td>\n",
       "<td>109.4101124</td></tr>\n",
       "<tr><td></td>\n",
       "<td>8</td>\n",
       "<td>0.2018779</td>\n",
       "<td>0.6427574</td>\n",
       "<td>1.7405516</td>\n",
       "<td>2.0036582</td>\n",
       "<td>0.7272727</td>\n",
       "<td>0.8372093</td>\n",
       "<td>0.0898876</td>\n",
       "<td>0.4044944</td>\n",
       "<td>74.0551583</td>\n",
       "<td>100.3658218</td></tr>\n",
       "<tr><td></td>\n",
       "<td>9</td>\n",
       "<td>0.3004695</td>\n",
       "<td>0.5285038</td>\n",
       "<td>1.3675762</td>\n",
       "<td>1.7949438</td>\n",
       "<td>0.5714286</td>\n",
       "<td>0.75</td>\n",
       "<td>0.1348315</td>\n",
       "<td>0.5393258</td>\n",
       "<td>36.7576244</td>\n",
       "<td>79.4943820</td></tr>\n",
       "<tr><td></td>\n",
       "<td>10</td>\n",
       "<td>0.3990610</td>\n",
       "<td>0.4503207</td>\n",
       "<td>1.3675762</td>\n",
       "<td>1.6893589</td>\n",
       "<td>0.5714286</td>\n",
       "<td>0.7058824</td>\n",
       "<td>0.1348315</td>\n",
       "<td>0.6741573</td>\n",
       "<td>36.7576244</td>\n",
       "<td>68.9358890</td></tr>\n",
       "<tr><td></td>\n",
       "<td>11</td>\n",
       "<td>0.5023474</td>\n",
       "<td>0.3490482</td>\n",
       "<td>1.0878447</td>\n",
       "<td>1.5656831</td>\n",
       "<td>0.4545455</td>\n",
       "<td>0.6542056</td>\n",
       "<td>0.1123596</td>\n",
       "<td>0.7865169</td>\n",
       "<td>8.7844740</td>\n",
       "<td>56.5683083</td></tr>\n",
       "<tr><td></td>\n",
       "<td>12</td>\n",
       "<td>0.6009390</td>\n",
       "<td>0.2782860</td>\n",
       "<td>1.0256822</td>\n",
       "<td>1.4770892</td>\n",
       "<td>0.4285714</td>\n",
       "<td>0.6171875</td>\n",
       "<td>0.1011236</td>\n",
       "<td>0.8876404</td>\n",
       "<td>2.5682183</td>\n",
       "<td>47.7089185</td></tr>\n",
       "<tr><td></td>\n",
       "<td>13</td>\n",
       "<td>0.6995305</td>\n",
       "<td>0.2399428</td>\n",
       "<td>0.4558587</td>\n",
       "<td>1.3331574</td>\n",
       "<td>0.1904762</td>\n",
       "<td>0.5570470</td>\n",
       "<td>0.0449438</td>\n",
       "<td>0.9325843</td>\n",
       "<td>-54.4141252</td>\n",
       "<td>33.3157379</td></tr>\n",
       "<tr><td></td>\n",
       "<td>14</td>\n",
       "<td>0.7981221</td>\n",
       "<td>0.1920113</td>\n",
       "<td>0.3418941</td>\n",
       "<td>1.2107072</td>\n",
       "<td>0.1428571</td>\n",
       "<td>0.5058824</td>\n",
       "<td>0.0337079</td>\n",
       "<td>0.9662921</td>\n",
       "<td>-65.8105939</td>\n",
       "<td>21.0707204</td></tr>\n",
       "<tr><td></td>\n",
       "<td>15</td>\n",
       "<td>0.8967136</td>\n",
       "<td>0.1375484</td>\n",
       "<td>0.3418941</td>\n",
       "<td>1.1151832</td>\n",
       "<td>0.1428571</td>\n",
       "<td>0.4659686</td>\n",
       "<td>0.0337079</td>\n",
       "<td>1.0</td>\n",
       "<td>-65.8105939</td>\n",
       "<td>11.5183246</td></tr>\n",
       "<tr><td></td>\n",
       "<td>16</td>\n",
       "<td>1.0</td>\n",
       "<td>0.0023740</td>\n",
       "<td>0.0</td>\n",
       "<td>1.0</td>\n",
       "<td>0.0</td>\n",
       "<td>0.4178404</td>\n",
       "<td>0.0</td>\n",
       "<td>1.0</td>\n",
       "<td>-100.0</td>\n",
       "<td>0.0</td></tr></table></div>"
      ],
      "text/plain": [
       "    group    cumulative_data_fraction    lower_threshold    lift      cumulative_lift    response_rate    cumulative_response_rate    capture_rate    cumulative_capture_rate    gain      cumulative_gain\n",
       "--  -------  --------------------------  -----------------  --------  -----------------  ---------------  --------------------------  --------------  -------------------------  --------  -----------------\n",
       "    1        0.0140845                   0.978391           2.39326   2.39326            1                1                           0.0337079       0.0337079                  139.326   139.326\n",
       "    2        0.0234742                   0.972542           2.39326   2.39326            1                1                           0.0224719       0.0561798                  139.326   139.326\n",
       "    3        0.0328638                   0.964657           2.39326   2.39326            1                1                           0.0224719       0.0786517                  139.326   139.326\n",
       "    4        0.0422535                   0.94801            2.39326   2.39326            1                1                           0.0224719       0.101124                   139.326   139.326\n",
       "    5        0.0516432                   0.899537           2.39326   2.39326            1                1                           0.0224719       0.123596                   139.326   139.326\n",
       "    6        0.103286                    0.823763           2.17569   2.28447            0.909091         0.954545                    0.11236         0.235955                   117.569   128.447\n",
       "    7        0.150235                    0.748434           1.67528   2.0941             0.7              0.875                       0.0786517       0.314607                   67.5281   109.41\n",
       "    8        0.201878                    0.642757           1.74055   2.00366            0.727273         0.837209                    0.0898876       0.404494                   74.0552   100.366\n",
       "    9        0.300469                    0.528504           1.36758   1.79494            0.571429         0.75                        0.134831        0.539326                   36.7576   79.4944\n",
       "    10       0.399061                    0.450321           1.36758   1.68936            0.571429         0.705882                    0.134831        0.674157                   36.7576   68.9359\n",
       "    11       0.502347                    0.349048           1.08784   1.56568            0.454545         0.654206                    0.11236         0.786517                   8.78447   56.5683\n",
       "    12       0.600939                    0.278286           1.02568   1.47709            0.428571         0.617188                    0.101124        0.88764                    2.56822   47.7089\n",
       "    13       0.699531                    0.239943           0.455859  1.33316            0.190476         0.557047                    0.0449438       0.932584                   -54.4141  33.3157\n",
       "    14       0.798122                    0.192011           0.341894  1.21071            0.142857         0.505882                    0.0337079       0.966292                   -65.8106  21.0707\n",
       "    15       0.896714                    0.137548           0.341894  1.11518            0.142857         0.465969                    0.0337079       1                          -65.8106  11.5183\n",
       "    16       1                           0.00237401         0         1                  0                0.41784                     0               1                          -100      0"
      ]
     },
     "metadata": {},
     "output_type": "display_data"
    },
    {
     "name": "stdout",
     "output_type": "stream",
     "text": [
      "\n",
      "\n",
      "ModelMetricsBinomialGLM: glm\n",
      "** Reported on validation data. **\n",
      "\n",
      "MSE: 0.196127039437\n",
      "RMSE: 0.442862325602\n",
      "LogLoss: 0.578239786285\n",
      "Null degrees of freedom: 45\n",
      "Residual degrees of freedom: 37\n",
      "Null deviance: 61.0489118693\n",
      "Residual deviance: 53.1980603382\n",
      "AIC: 71.1980603382\n",
      "AUC: 0.762677484787\n",
      "Gini: 0.525354969574\n",
      "Confusion Matrix (Act/Pred) for max f1 @ threshold = 0.309699266483: \n"
     ]
    },
    {
     "data": {
      "text/html": [
       "<div style=\"overflow:auto\"><table style=\"width:50%\"><tr><td><b></b></td>\n",
       "<td><b>0</b></td>\n",
       "<td><b>1</b></td>\n",
       "<td><b>Error</b></td>\n",
       "<td><b>Rate</b></td></tr>\n",
       "<tr><td>0</td>\n",
       "<td>19.0</td>\n",
       "<td>10.0</td>\n",
       "<td>0.3448</td>\n",
       "<td> (10.0/29.0)</td></tr>\n",
       "<tr><td>1</td>\n",
       "<td>3.0</td>\n",
       "<td>14.0</td>\n",
       "<td>0.1765</td>\n",
       "<td> (3.0/17.0)</td></tr>\n",
       "<tr><td>Total</td>\n",
       "<td>22.0</td>\n",
       "<td>24.0</td>\n",
       "<td>0.2826</td>\n",
       "<td> (13.0/46.0)</td></tr></table></div>"
      ],
      "text/plain": [
       "       0    1    Error    Rate\n",
       "-----  ---  ---  -------  -----------\n",
       "0      19   10   0.3448   (10.0/29.0)\n",
       "1      3    14   0.1765   (3.0/17.0)\n",
       "Total  22   24   0.2826   (13.0/46.0)"
      ]
     },
     "metadata": {},
     "output_type": "display_data"
    },
    {
     "name": "stdout",
     "output_type": "stream",
     "text": [
      "Maximum Metrics: Maximum metrics at their respective thresholds\n",
      "\n"
     ]
    },
    {
     "data": {
      "text/html": [
       "<div style=\"overflow:auto\"><table style=\"width:50%\"><tr><td><b>metric</b></td>\n",
       "<td><b>threshold</b></td>\n",
       "<td><b>value</b></td>\n",
       "<td><b>idx</b></td></tr>\n",
       "<tr><td>max f1</td>\n",
       "<td>0.3096993</td>\n",
       "<td>0.6829268</td>\n",
       "<td>23.0</td></tr>\n",
       "<tr><td>max f2</td>\n",
       "<td>0.2161376</td>\n",
       "<td>0.8173077</td>\n",
       "<td>35.0</td></tr>\n",
       "<tr><td>max f0point5</td>\n",
       "<td>0.4817648</td>\n",
       "<td>0.6790123</td>\n",
       "<td>15.0</td></tr>\n",
       "<tr><td>max accuracy</td>\n",
       "<td>0.4817648</td>\n",
       "<td>0.7608696</td>\n",
       "<td>15.0</td></tr>\n",
       "<tr><td>max precision</td>\n",
       "<td>0.9793444</td>\n",
       "<td>1.0</td>\n",
       "<td>0.0</td></tr>\n",
       "<tr><td>max recall</td>\n",
       "<td>0.2161376</td>\n",
       "<td>1.0</td>\n",
       "<td>35.0</td></tr>\n",
       "<tr><td>max specificity</td>\n",
       "<td>0.9793444</td>\n",
       "<td>1.0</td>\n",
       "<td>0.0</td></tr>\n",
       "<tr><td>max absolute_mcc</td>\n",
       "<td>0.4817648</td>\n",
       "<td>0.4810296</td>\n",
       "<td>15.0</td></tr>\n",
       "<tr><td>max min_per_class_accuracy</td>\n",
       "<td>0.3868008</td>\n",
       "<td>0.6896552</td>\n",
       "<td>20.0</td></tr>\n",
       "<tr><td>max mean_per_class_accuracy</td>\n",
       "<td>0.3096993</td>\n",
       "<td>0.7393509</td>\n",
       "<td>23.0</td></tr></table></div>"
      ],
      "text/plain": [
       "metric                       threshold    value     idx\n",
       "---------------------------  -----------  --------  -----\n",
       "max f1                       0.309699     0.682927  23\n",
       "max f2                       0.216138     0.817308  35\n",
       "max f0point5                 0.481765     0.679012  15\n",
       "max accuracy                 0.481765     0.76087   15\n",
       "max precision                0.979344     1         0\n",
       "max recall                   0.216138     1         35\n",
       "max specificity              0.979344     1         0\n",
       "max absolute_mcc             0.481765     0.48103   15\n",
       "max min_per_class_accuracy   0.386801     0.689655  20\n",
       "max mean_per_class_accuracy  0.309699     0.739351  23"
      ]
     },
     "metadata": {},
     "output_type": "display_data"
    },
    {
     "name": "stdout",
     "output_type": "stream",
     "text": [
      "Gains/Lift Table: Avg response rate: 36.96 %\n",
      "\n"
     ]
    },
    {
     "data": {
      "text/html": [
       "<div style=\"overflow:auto\"><table style=\"width:50%\"><tr><td><b></b></td>\n",
       "<td><b>group</b></td>\n",
       "<td><b>cumulative_data_fraction</b></td>\n",
       "<td><b>lower_threshold</b></td>\n",
       "<td><b>lift</b></td>\n",
       "<td><b>cumulative_lift</b></td>\n",
       "<td><b>response_rate</b></td>\n",
       "<td><b>cumulative_response_rate</b></td>\n",
       "<td><b>capture_rate</b></td>\n",
       "<td><b>cumulative_capture_rate</b></td>\n",
       "<td><b>gain</b></td>\n",
       "<td><b>cumulative_gain</b></td></tr>\n",
       "<tr><td></td>\n",
       "<td>1</td>\n",
       "<td>0.0217391</td>\n",
       "<td>0.9461700</td>\n",
       "<td>2.7058824</td>\n",
       "<td>2.7058824</td>\n",
       "<td>1.0</td>\n",
       "<td>1.0</td>\n",
       "<td>0.0588235</td>\n",
       "<td>0.0588235</td>\n",
       "<td>170.5882353</td>\n",
       "<td>170.5882353</td></tr>\n",
       "<tr><td></td>\n",
       "<td>2</td>\n",
       "<td>0.0217391</td>\n",
       "<td>0.9129957</td>\n",
       "<td>0.0</td>\n",
       "<td>2.7058824</td>\n",
       "<td>0.0</td>\n",
       "<td>1.0</td>\n",
       "<td>0.0</td>\n",
       "<td>0.0588235</td>\n",
       "<td>-100.0</td>\n",
       "<td>170.5882353</td></tr>\n",
       "<tr><td></td>\n",
       "<td>3</td>\n",
       "<td>0.0434783</td>\n",
       "<td>0.9004228</td>\n",
       "<td>0.0</td>\n",
       "<td>1.3529412</td>\n",
       "<td>0.0</td>\n",
       "<td>0.5</td>\n",
       "<td>0.0</td>\n",
       "<td>0.0588235</td>\n",
       "<td>-100.0</td>\n",
       "<td>35.2941176</td></tr>\n",
       "<tr><td></td>\n",
       "<td>4</td>\n",
       "<td>0.0434783</td>\n",
       "<td>0.8937360</td>\n",
       "<td>0.0</td>\n",
       "<td>1.3529412</td>\n",
       "<td>0.0</td>\n",
       "<td>0.5</td>\n",
       "<td>0.0</td>\n",
       "<td>0.0588235</td>\n",
       "<td>-100.0</td>\n",
       "<td>35.2941176</td></tr>\n",
       "<tr><td></td>\n",
       "<td>5</td>\n",
       "<td>0.0652174</td>\n",
       "<td>0.8732083</td>\n",
       "<td>2.7058824</td>\n",
       "<td>1.8039216</td>\n",
       "<td>1.0</td>\n",
       "<td>0.6666667</td>\n",
       "<td>0.0588235</td>\n",
       "<td>0.1176471</td>\n",
       "<td>170.5882353</td>\n",
       "<td>80.3921569</td></tr>\n",
       "<tr><td></td>\n",
       "<td>6</td>\n",
       "<td>0.1086957</td>\n",
       "<td>0.7306952</td>\n",
       "<td>1.3529412</td>\n",
       "<td>1.6235294</td>\n",
       "<td>0.5</td>\n",
       "<td>0.6</td>\n",
       "<td>0.0588235</td>\n",
       "<td>0.1764706</td>\n",
       "<td>35.2941176</td>\n",
       "<td>62.3529412</td></tr>\n",
       "<tr><td></td>\n",
       "<td>7</td>\n",
       "<td>0.1521739</td>\n",
       "<td>0.5854614</td>\n",
       "<td>1.3529412</td>\n",
       "<td>1.5462185</td>\n",
       "<td>0.5</td>\n",
       "<td>0.5714286</td>\n",
       "<td>0.0588235</td>\n",
       "<td>0.2352941</td>\n",
       "<td>35.2941176</td>\n",
       "<td>54.6218487</td></tr>\n",
       "<tr><td></td>\n",
       "<td>8</td>\n",
       "<td>0.2173913</td>\n",
       "<td>0.5540796</td>\n",
       "<td>2.7058824</td>\n",
       "<td>1.8941176</td>\n",
       "<td>1.0</td>\n",
       "<td>0.7</td>\n",
       "<td>0.1764706</td>\n",
       "<td>0.4117647</td>\n",
       "<td>170.5882353</td>\n",
       "<td>89.4117647</td></tr>\n",
       "<tr><td></td>\n",
       "<td>9</td>\n",
       "<td>0.3043478</td>\n",
       "<td>0.4995658</td>\n",
       "<td>1.3529412</td>\n",
       "<td>1.7394958</td>\n",
       "<td>0.5</td>\n",
       "<td>0.6428571</td>\n",
       "<td>0.1176471</td>\n",
       "<td>0.5294118</td>\n",
       "<td>35.2941176</td>\n",
       "<td>73.9495798</td></tr>\n",
       "<tr><td></td>\n",
       "<td>10</td>\n",
       "<td>0.4130435</td>\n",
       "<td>0.3977583</td>\n",
       "<td>1.0823529</td>\n",
       "<td>1.5665635</td>\n",
       "<td>0.4</td>\n",
       "<td>0.5789474</td>\n",
       "<td>0.1176471</td>\n",
       "<td>0.6470588</td>\n",
       "<td>8.2352941</td>\n",
       "<td>56.6563467</td></tr>\n",
       "<tr><td></td>\n",
       "<td>11</td>\n",
       "<td>0.5</td>\n",
       "<td>0.3241396</td>\n",
       "<td>1.3529412</td>\n",
       "<td>1.5294118</td>\n",
       "<td>0.5</td>\n",
       "<td>0.5652174</td>\n",
       "<td>0.1176471</td>\n",
       "<td>0.7647059</td>\n",
       "<td>35.2941176</td>\n",
       "<td>52.9411765</td></tr>\n",
       "<tr><td></td>\n",
       "<td>12</td>\n",
       "<td>0.6086957</td>\n",
       "<td>0.2956835</td>\n",
       "<td>0.5411765</td>\n",
       "<td>1.3529412</td>\n",
       "<td>0.2</td>\n",
       "<td>0.5</td>\n",
       "<td>0.0588235</td>\n",
       "<td>0.8235294</td>\n",
       "<td>-45.8823529</td>\n",
       "<td>35.2941176</td></tr>\n",
       "<tr><td></td>\n",
       "<td>13</td>\n",
       "<td>0.6956522</td>\n",
       "<td>0.2395572</td>\n",
       "<td>0.6764706</td>\n",
       "<td>1.2683824</td>\n",
       "<td>0.25</td>\n",
       "<td>0.46875</td>\n",
       "<td>0.0588235</td>\n",
       "<td>0.8823529</td>\n",
       "<td>-32.3529412</td>\n",
       "<td>26.8382353</td></tr>\n",
       "<tr><td></td>\n",
       "<td>14</td>\n",
       "<td>0.8043478</td>\n",
       "<td>0.2047685</td>\n",
       "<td>1.0823529</td>\n",
       "<td>1.2432432</td>\n",
       "<td>0.4</td>\n",
       "<td>0.4594595</td>\n",
       "<td>0.1176471</td>\n",
       "<td>1.0</td>\n",
       "<td>8.2352941</td>\n",
       "<td>24.3243243</td></tr>\n",
       "<tr><td></td>\n",
       "<td>15</td>\n",
       "<td>0.8913043</td>\n",
       "<td>0.1561964</td>\n",
       "<td>0.0</td>\n",
       "<td>1.1219512</td>\n",
       "<td>0.0</td>\n",
       "<td>0.4146341</td>\n",
       "<td>0.0</td>\n",
       "<td>1.0</td>\n",
       "<td>-100.0</td>\n",
       "<td>12.1951220</td></tr>\n",
       "<tr><td></td>\n",
       "<td>16</td>\n",
       "<td>1.0</td>\n",
       "<td>0.0669411</td>\n",
       "<td>0.0</td>\n",
       "<td>1.0</td>\n",
       "<td>0.0</td>\n",
       "<td>0.3695652</td>\n",
       "<td>0.0</td>\n",
       "<td>1.0</td>\n",
       "<td>-100.0</td>\n",
       "<td>0.0</td></tr></table></div>"
      ],
      "text/plain": [
       "    group    cumulative_data_fraction    lower_threshold    lift      cumulative_lift    response_rate    cumulative_response_rate    capture_rate    cumulative_capture_rate    gain      cumulative_gain\n",
       "--  -------  --------------------------  -----------------  --------  -----------------  ---------------  --------------------------  --------------  -------------------------  --------  -----------------\n",
       "    1        0.0217391                   0.94617            2.70588   2.70588            1                1                           0.0588235       0.0588235                  170.588   170.588\n",
       "    2        0.0217391                   0.912996           0         2.70588            0                1                           0               0.0588235                  -100      170.588\n",
       "    3        0.0434783                   0.900423           0         1.35294            0                0.5                         0               0.0588235                  -100      35.2941\n",
       "    4        0.0434783                   0.893736           0         1.35294            0                0.5                         0               0.0588235                  -100      35.2941\n",
       "    5        0.0652174                   0.873208           2.70588   1.80392            1                0.666667                    0.0588235       0.117647                   170.588   80.3922\n",
       "    6        0.108696                    0.730695           1.35294   1.62353            0.5              0.6                         0.0588235       0.176471                   35.2941   62.3529\n",
       "    7        0.152174                    0.585461           1.35294   1.54622            0.5              0.571429                    0.0588235       0.235294                   35.2941   54.6218\n",
       "    8        0.217391                    0.55408            2.70588   1.89412            1                0.7                         0.176471        0.411765                   170.588   89.4118\n",
       "    9        0.304348                    0.499566           1.35294   1.7395             0.5              0.642857                    0.117647        0.529412                   35.2941   73.9496\n",
       "    10       0.413043                    0.397758           1.08235   1.56656            0.4              0.578947                    0.117647        0.647059                   8.23529   56.6563\n",
       "    11       0.5                         0.32414            1.35294   1.52941            0.5              0.565217                    0.117647        0.764706                   35.2941   52.9412\n",
       "    12       0.608696                    0.295684           0.541176  1.35294            0.2              0.5                         0.0588235       0.823529                   -45.8824  35.2941\n",
       "    13       0.695652                    0.239557           0.676471  1.26838            0.25             0.46875                     0.0588235       0.882353                   -32.3529  26.8382\n",
       "    14       0.804348                    0.204769           1.08235   1.24324            0.4              0.459459                    0.117647        1                          8.23529   24.3243\n",
       "    15       0.891304                    0.156196           0         1.12195            0                0.414634                    0               1                          -100      12.1951\n",
       "    16       1                           0.0669411          0         1                  0                0.369565                    0               1                          -100      0"
      ]
     },
     "metadata": {},
     "output_type": "display_data"
    },
    {
     "name": "stdout",
     "output_type": "stream",
     "text": [
      "\n",
      "\n",
      "ModelMetricsBinomialGLM: glm\n",
      "** Reported on cross-validation data. **\n",
      "\n",
      "MSE: 0.180576523435\n",
      "RMSE: 0.42494296492\n",
      "LogLoss: 0.532560996042\n",
      "Null degrees of freedom: 212\n",
      "Residual degrees of freedom: 204\n",
      "Null deviance: 290.133832456\n",
      "Residual deviance: 226.870984314\n",
      "AIC: 244.870984314\n",
      "AUC: 0.798387096774\n",
      "Gini: 0.596774193548\n",
      "Confusion Matrix (Act/Pred) for max f1 @ threshold = 0.347759535881: \n"
     ]
    },
    {
     "data": {
      "text/html": [
       "<div style=\"overflow:auto\"><table style=\"width:50%\"><tr><td><b></b></td>\n",
       "<td><b>0</b></td>\n",
       "<td><b>1</b></td>\n",
       "<td><b>Error</b></td>\n",
       "<td><b>Rate</b></td></tr>\n",
       "<tr><td>0</td>\n",
       "<td>86.0</td>\n",
       "<td>38.0</td>\n",
       "<td>0.3065</td>\n",
       "<td> (38.0/124.0)</td></tr>\n",
       "<tr><td>1</td>\n",
       "<td>19.0</td>\n",
       "<td>70.0</td>\n",
       "<td>0.2135</td>\n",
       "<td> (19.0/89.0)</td></tr>\n",
       "<tr><td>Total</td>\n",
       "<td>105.0</td>\n",
       "<td>108.0</td>\n",
       "<td>0.2676</td>\n",
       "<td> (57.0/213.0)</td></tr></table></div>"
      ],
      "text/plain": [
       "       0    1    Error    Rate\n",
       "-----  ---  ---  -------  ------------\n",
       "0      86   38   0.3065   (38.0/124.0)\n",
       "1      19   70   0.2135   (19.0/89.0)\n",
       "Total  105  108  0.2676   (57.0/213.0)"
      ]
     },
     "metadata": {},
     "output_type": "display_data"
    },
    {
     "name": "stdout",
     "output_type": "stream",
     "text": [
      "Maximum Metrics: Maximum metrics at their respective thresholds\n",
      "\n"
     ]
    },
    {
     "data": {
      "text/html": [
       "<div style=\"overflow:auto\"><table style=\"width:50%\"><tr><td><b>metric</b></td>\n",
       "<td><b>threshold</b></td>\n",
       "<td><b>value</b></td>\n",
       "<td><b>idx</b></td></tr>\n",
       "<tr><td>max f1</td>\n",
       "<td>0.3477595</td>\n",
       "<td>0.7106599</td>\n",
       "<td>107.0</td></tr>\n",
       "<tr><td>max f2</td>\n",
       "<td>0.1795443</td>\n",
       "<td>0.8161351</td>\n",
       "<td>176.0</td></tr>\n",
       "<tr><td>max f0point5</td>\n",
       "<td>0.5095521</td>\n",
       "<td>0.7002801</td>\n",
       "<td>66.0</td></tr>\n",
       "<tr><td>max accuracy</td>\n",
       "<td>0.5095521</td>\n",
       "<td>0.7370892</td>\n",
       "<td>66.0</td></tr>\n",
       "<tr><td>max precision</td>\n",
       "<td>0.9855261</td>\n",
       "<td>1.0</td>\n",
       "<td>0.0</td></tr>\n",
       "<tr><td>max recall</td>\n",
       "<td>0.1439870</td>\n",
       "<td>1.0</td>\n",
       "<td>190.0</td></tr>\n",
       "<tr><td>max specificity</td>\n",
       "<td>0.9855261</td>\n",
       "<td>1.0</td>\n",
       "<td>0.0</td></tr>\n",
       "<tr><td>max absolute_mcc</td>\n",
       "<td>0.3477595</td>\n",
       "<td>0.4735868</td>\n",
       "<td>107.0</td></tr>\n",
       "<tr><td>max min_per_class_accuracy</td>\n",
       "<td>0.3839538</td>\n",
       "<td>0.7177419</td>\n",
       "<td>98.0</td></tr>\n",
       "<tr><td>max mean_per_class_accuracy</td>\n",
       "<td>0.3477595</td>\n",
       "<td>0.7400326</td>\n",
       "<td>107.0</td></tr></table></div>"
      ],
      "text/plain": [
       "metric                       threshold    value     idx\n",
       "---------------------------  -----------  --------  -----\n",
       "max f1                       0.34776      0.71066   107\n",
       "max f2                       0.179544     0.816135  176\n",
       "max f0point5                 0.509552     0.70028   66\n",
       "max accuracy                 0.509552     0.737089  66\n",
       "max precision                0.985526     1         0\n",
       "max recall                   0.143987     1         190\n",
       "max specificity              0.985526     1         0\n",
       "max absolute_mcc             0.34776      0.473587  107\n",
       "max min_per_class_accuracy   0.383954     0.717742  98\n",
       "max mean_per_class_accuracy  0.34776      0.740033  107"
      ]
     },
     "metadata": {},
     "output_type": "display_data"
    },
    {
     "name": "stdout",
     "output_type": "stream",
     "text": [
      "Gains/Lift Table: Avg response rate: 41.78 %\n",
      "\n"
     ]
    },
    {
     "data": {
      "text/html": [
       "<div style=\"overflow:auto\"><table style=\"width:50%\"><tr><td><b></b></td>\n",
       "<td><b>group</b></td>\n",
       "<td><b>cumulative_data_fraction</b></td>\n",
       "<td><b>lower_threshold</b></td>\n",
       "<td><b>lift</b></td>\n",
       "<td><b>cumulative_lift</b></td>\n",
       "<td><b>response_rate</b></td>\n",
       "<td><b>cumulative_response_rate</b></td>\n",
       "<td><b>capture_rate</b></td>\n",
       "<td><b>cumulative_capture_rate</b></td>\n",
       "<td><b>gain</b></td>\n",
       "<td><b>cumulative_gain</b></td></tr>\n",
       "<tr><td></td>\n",
       "<td>1</td>\n",
       "<td>0.0140845</td>\n",
       "<td>0.9780329</td>\n",
       "<td>2.3932584</td>\n",
       "<td>2.3932584</td>\n",
       "<td>1.0</td>\n",
       "<td>1.0</td>\n",
       "<td>0.0337079</td>\n",
       "<td>0.0337079</td>\n",
       "<td>139.3258427</td>\n",
       "<td>139.3258427</td></tr>\n",
       "<tr><td></td>\n",
       "<td>2</td>\n",
       "<td>0.0234742</td>\n",
       "<td>0.9707956</td>\n",
       "<td>2.3932584</td>\n",
       "<td>2.3932584</td>\n",
       "<td>1.0</td>\n",
       "<td>1.0</td>\n",
       "<td>0.0224719</td>\n",
       "<td>0.0561798</td>\n",
       "<td>139.3258427</td>\n",
       "<td>139.3258427</td></tr>\n",
       "<tr><td></td>\n",
       "<td>3</td>\n",
       "<td>0.0328638</td>\n",
       "<td>0.9646820</td>\n",
       "<td>2.3932584</td>\n",
       "<td>2.3932584</td>\n",
       "<td>1.0</td>\n",
       "<td>1.0</td>\n",
       "<td>0.0224719</td>\n",
       "<td>0.0786517</td>\n",
       "<td>139.3258427</td>\n",
       "<td>139.3258427</td></tr>\n",
       "<tr><td></td>\n",
       "<td>4</td>\n",
       "<td>0.0422535</td>\n",
       "<td>0.9456062</td>\n",
       "<td>2.3932584</td>\n",
       "<td>2.3932584</td>\n",
       "<td>1.0</td>\n",
       "<td>1.0</td>\n",
       "<td>0.0224719</td>\n",
       "<td>0.1011236</td>\n",
       "<td>139.3258427</td>\n",
       "<td>139.3258427</td></tr>\n",
       "<tr><td></td>\n",
       "<td>5</td>\n",
       "<td>0.0516432</td>\n",
       "<td>0.9176368</td>\n",
       "<td>2.3932584</td>\n",
       "<td>2.3932584</td>\n",
       "<td>1.0</td>\n",
       "<td>1.0</td>\n",
       "<td>0.0224719</td>\n",
       "<td>0.1235955</td>\n",
       "<td>139.3258427</td>\n",
       "<td>139.3258427</td></tr>\n",
       "<tr><td></td>\n",
       "<td>6</td>\n",
       "<td>0.1032864</td>\n",
       "<td>0.8017546</td>\n",
       "<td>1.7405516</td>\n",
       "<td>2.0669050</td>\n",
       "<td>0.7272727</td>\n",
       "<td>0.8636364</td>\n",
       "<td>0.0898876</td>\n",
       "<td>0.2134831</td>\n",
       "<td>74.0551583</td>\n",
       "<td>106.6905005</td></tr>\n",
       "<tr><td></td>\n",
       "<td>7</td>\n",
       "<td>0.1502347</td>\n",
       "<td>0.7190190</td>\n",
       "<td>1.9146067</td>\n",
       "<td>2.0193118</td>\n",
       "<td>0.8</td>\n",
       "<td>0.84375</td>\n",
       "<td>0.0898876</td>\n",
       "<td>0.3033708</td>\n",
       "<td>91.4606742</td>\n",
       "<td>101.9311798</td></tr>\n",
       "<tr><td></td>\n",
       "<td>8</td>\n",
       "<td>0.2018779</td>\n",
       "<td>0.6211663</td>\n",
       "<td>1.3054137</td>\n",
       "<td>1.8366867</td>\n",
       "<td>0.5454545</td>\n",
       "<td>0.7674419</td>\n",
       "<td>0.0674157</td>\n",
       "<td>0.3707865</td>\n",
       "<td>30.5413687</td>\n",
       "<td>83.6686700</td></tr>\n",
       "<tr><td></td>\n",
       "<td>9</td>\n",
       "<td>0.3004695</td>\n",
       "<td>0.5122317</td>\n",
       "<td>1.5955056</td>\n",
       "<td>1.7575492</td>\n",
       "<td>0.6666667</td>\n",
       "<td>0.734375</td>\n",
       "<td>0.1573034</td>\n",
       "<td>0.5280899</td>\n",
       "<td>59.5505618</td>\n",
       "<td>75.7549157</td></tr>\n",
       "<tr><td></td>\n",
       "<td>10</td>\n",
       "<td>0.3990610</td>\n",
       "<td>0.4300429</td>\n",
       "<td>1.1396469</td>\n",
       "<td>1.6048909</td>\n",
       "<td>0.4761905</td>\n",
       "<td>0.6705882</td>\n",
       "<td>0.1123596</td>\n",
       "<td>0.6404494</td>\n",
       "<td>13.9646870</td>\n",
       "<td>60.4890945</td></tr>\n",
       "<tr><td></td>\n",
       "<td>11</td>\n",
       "<td>0.5023474</td>\n",
       "<td>0.3504846</td>\n",
       "<td>1.3054137</td>\n",
       "<td>1.5433162</td>\n",
       "<td>0.5454545</td>\n",
       "<td>0.6448598</td>\n",
       "<td>0.1348315</td>\n",
       "<td>0.7752809</td>\n",
       "<td>30.5413687</td>\n",
       "<td>54.3316182</td></tr>\n",
       "<tr><td></td>\n",
       "<td>12</td>\n",
       "<td>0.6009390</td>\n",
       "<td>0.2848610</td>\n",
       "<td>0.6837881</td>\n",
       "<td>1.4022999</td>\n",
       "<td>0.2857143</td>\n",
       "<td>0.5859375</td>\n",
       "<td>0.0674157</td>\n",
       "<td>0.8426966</td>\n",
       "<td>-31.6211878</td>\n",
       "<td>40.2299860</td></tr>\n",
       "<tr><td></td>\n",
       "<td>13</td>\n",
       "<td>0.6995305</td>\n",
       "<td>0.2411480</td>\n",
       "<td>0.6837881</td>\n",
       "<td>1.3010331</td>\n",
       "<td>0.2857143</td>\n",
       "<td>0.5436242</td>\n",
       "<td>0.0674157</td>\n",
       "<td>0.9101124</td>\n",
       "<td>-31.6211878</td>\n",
       "<td>30.1033105</td></tr>\n",
       "<tr><td></td>\n",
       "<td>14</td>\n",
       "<td>0.7981221</td>\n",
       "<td>0.1952269</td>\n",
       "<td>0.4558587</td>\n",
       "<td>1.1966292</td>\n",
       "<td>0.1904762</td>\n",
       "<td>0.5</td>\n",
       "<td>0.0449438</td>\n",
       "<td>0.9550562</td>\n",
       "<td>-54.4141252</td>\n",
       "<td>19.6629213</td></tr>\n",
       "<tr><td></td>\n",
       "<td>15</td>\n",
       "<td>0.8967136</td>\n",
       "<td>0.1437498</td>\n",
       "<td>0.4558587</td>\n",
       "<td>1.1151832</td>\n",
       "<td>0.1904762</td>\n",
       "<td>0.4659686</td>\n",
       "<td>0.0449438</td>\n",
       "<td>1.0</td>\n",
       "<td>-54.4141252</td>\n",
       "<td>11.5183246</td></tr>\n",
       "<tr><td></td>\n",
       "<td>16</td>\n",
       "<td>1.0</td>\n",
       "<td>0.0023326</td>\n",
       "<td>0.0</td>\n",
       "<td>1.0</td>\n",
       "<td>0.0</td>\n",
       "<td>0.4178404</td>\n",
       "<td>0.0</td>\n",
       "<td>1.0</td>\n",
       "<td>-100.0</td>\n",
       "<td>0.0</td></tr></table></div>"
      ],
      "text/plain": [
       "    group    cumulative_data_fraction    lower_threshold    lift      cumulative_lift    response_rate    cumulative_response_rate    capture_rate    cumulative_capture_rate    gain      cumulative_gain\n",
       "--  -------  --------------------------  -----------------  --------  -----------------  ---------------  --------------------------  --------------  -------------------------  --------  -----------------\n",
       "    1        0.0140845                   0.978033           2.39326   2.39326            1                1                           0.0337079       0.0337079                  139.326   139.326\n",
       "    2        0.0234742                   0.970796           2.39326   2.39326            1                1                           0.0224719       0.0561798                  139.326   139.326\n",
       "    3        0.0328638                   0.964682           2.39326   2.39326            1                1                           0.0224719       0.0786517                  139.326   139.326\n",
       "    4        0.0422535                   0.945606           2.39326   2.39326            1                1                           0.0224719       0.101124                   139.326   139.326\n",
       "    5        0.0516432                   0.917637           2.39326   2.39326            1                1                           0.0224719       0.123596                   139.326   139.326\n",
       "    6        0.103286                    0.801755           1.74055   2.06691            0.727273         0.863636                    0.0898876       0.213483                   74.0552   106.691\n",
       "    7        0.150235                    0.719019           1.91461   2.01931            0.8              0.84375                     0.0898876       0.303371                   91.4607   101.931\n",
       "    8        0.201878                    0.621166           1.30541   1.83669            0.545455         0.767442                    0.0674157       0.370787                   30.5414   83.6687\n",
       "    9        0.300469                    0.512232           1.59551   1.75755            0.666667         0.734375                    0.157303        0.52809                    59.5506   75.7549\n",
       "    10       0.399061                    0.430043           1.13965   1.60489            0.47619          0.670588                    0.11236         0.640449                   13.9647   60.4891\n",
       "    11       0.502347                    0.350485           1.30541   1.54332            0.545455         0.64486                     0.134831        0.775281                   30.5414   54.3316\n",
       "    12       0.600939                    0.284861           0.683788  1.4023             0.285714         0.585938                    0.0674157       0.842697                   -31.6212  40.23\n",
       "    13       0.699531                    0.241148           0.683788  1.30103            0.285714         0.543624                    0.0674157       0.910112                   -31.6212  30.1033\n",
       "    14       0.798122                    0.195227           0.455859  1.19663            0.190476         0.5                         0.0449438       0.955056                   -54.4141  19.6629\n",
       "    15       0.896714                    0.14375            0.455859  1.11518            0.190476         0.465969                    0.0449438       1                          -54.4141  11.5183\n",
       "    16       1                           0.00233258         0         1                  0                0.41784                     0               1                          -100      0"
      ]
     },
     "metadata": {},
     "output_type": "display_data"
    },
    {
     "name": "stdout",
     "output_type": "stream",
     "text": [
      "\n",
      "Cross-Validation Metrics Summary: \n"
     ]
    },
    {
     "data": {
      "text/html": [
       "<div style=\"overflow:auto\"><table style=\"width:50%\"><tr><td><b></b></td>\n",
       "<td><b>mean</b></td>\n",
       "<td><b>sd</b></td>\n",
       "<td><b>cv_1_valid</b></td>\n",
       "<td><b>cv_2_valid</b></td>\n",
       "<td><b>cv_3_valid</b></td>\n",
       "<td><b>cv_4_valid</b></td>\n",
       "<td><b>cv_5_valid</b></td></tr>\n",
       "<tr><td>accuracy</td>\n",
       "<td>0.7417497</td>\n",
       "<td>0.0237936</td>\n",
       "<td>0.7209302</td>\n",
       "<td>0.7441860</td>\n",
       "<td>0.7674419</td>\n",
       "<td>0.6904762</td>\n",
       "<td>0.7857143</td></tr>\n",
       "<tr><td>auc</td>\n",
       "<td>0.7977588</td>\n",
       "<td>0.0181596</td>\n",
       "<td>0.8048246</td>\n",
       "<td>0.800905</td>\n",
       "<td>0.8179824</td>\n",
       "<td>0.7481481</td>\n",
       "<td>0.8169336</td></tr>\n",
       "<tr><td>err</td>\n",
       "<td>0.2582503</td>\n",
       "<td>0.0237936</td>\n",
       "<td>0.2790698</td>\n",
       "<td>0.2558140</td>\n",
       "<td>0.2325581</td>\n",
       "<td>0.3095238</td>\n",
       "<td>0.2142857</td></tr>\n",
       "<tr><td>err_count</td>\n",
       "<td>11.0</td>\n",
       "<td>1.0</td>\n",
       "<td>12.0</td>\n",
       "<td>11.0</td>\n",
       "<td>10.0</td>\n",
       "<td>13.0</td>\n",
       "<td>9.0</td></tr>\n",
       "<tr><td>f0point5</td>\n",
       "<td>0.6755289</td>\n",
       "<td>0.0395844</td>\n",
       "<td>0.6722689</td>\n",
       "<td>0.6701031</td>\n",
       "<td>0.7086614</td>\n",
       "<td>0.5789474</td>\n",
       "<td>0.7476636</td></tr>\n",
       "<tr><td>---</td>\n",
       "<td>---</td>\n",
       "<td>---</td>\n",
       "<td>---</td>\n",
       "<td>---</td>\n",
       "<td>---</td>\n",
       "<td>---</td>\n",
       "<td>---</td></tr>\n",
       "<tr><td>r2</td>\n",
       "<td>0.2549109</td>\n",
       "<td>0.0207128</td>\n",
       "<td>0.2885329</td>\n",
       "<td>0.2712372</td>\n",
       "<td>0.2358457</td>\n",
       "<td>0.2074313</td>\n",
       "<td>0.2715071</td></tr>\n",
       "<tr><td>recall</td>\n",
       "<td>0.8259236</td>\n",
       "<td>0.0525291</td>\n",
       "<td>0.8421053</td>\n",
       "<td>0.7647059</td>\n",
       "<td>0.9473684</td>\n",
       "<td>0.7333333</td>\n",
       "<td>0.8421053</td></tr>\n",
       "<tr><td>residual_deviance</td>\n",
       "<td>45.250744</td>\n",
       "<td>0.6878654</td>\n",
       "<td>44.42573</td>\n",
       "<td>44.313198</td>\n",
       "<td>47.023743</td>\n",
       "<td>45.364635</td>\n",
       "<td>45.12642</td></tr>\n",
       "<tr><td>rmse</td>\n",
       "<td>0.4243552</td>\n",
       "<td>0.0042303</td>\n",
       "<td>0.4188817</td>\n",
       "<td>0.4173840</td>\n",
       "<td>0.4341147</td>\n",
       "<td>0.4265763</td>\n",
       "<td>0.4248191</td></tr>\n",
       "<tr><td>specificity</td>\n",
       "<td>0.6773133</td>\n",
       "<td>0.0350223</td>\n",
       "<td>0.625</td>\n",
       "<td>0.7307692</td>\n",
       "<td>0.625</td>\n",
       "<td>0.6666667</td>\n",
       "<td>0.7391304</td></tr></table></div>"
      ],
      "text/plain": [
       "                   mean        sd            cv_1_valid    cv_2_valid    cv_3_valid    cv_4_valid    cv_5_valid\n",
       "-----------------  ----------  ------------  ------------  ------------  ------------  ------------  ------------\n",
       "accuracy           0.7417497   0.02379355    0.7209302     0.74418604    0.76744187    0.6904762     0.78571427\n",
       "auc                0.79775876  0.0181596     0.8048246     0.800905      0.81798244    0.74814814    0.81693363\n",
       "err                0.25825027  0.02379355    0.27906978    0.25581396    0.23255815    0.30952382    0.21428572\n",
       "err_count          11.0        1.0           12.0          11.0          10.0          13.0          9.0\n",
       "f0point5           0.6755289   0.03958438    0.6722689     0.6701031     0.70866144    0.57894737    0.74766356\n",
       "---                ---         ---           ---           ---           ---           ---           ---\n",
       "r2                 0.2549109   0.02071283    0.28853294    0.27123725    0.23584573    0.20743135    0.27150708\n",
       "recall             0.8259236   0.052529138   0.84210527    0.7647059     0.94736844    0.73333335    0.84210527\n",
       "residual_deviance  45.250744   0.6878654     44.42573      44.313198     47.023743     45.364635     45.12642\n",
       "rmse               0.42435515  0.0042302907  0.41888168    0.41738397    0.4341147     0.42657626    0.42481914\n",
       "specificity        0.67731327  0.03502229    0.625         0.7307692     0.625         0.6666667     0.73913044"
      ]
     },
     "metadata": {},
     "output_type": "display_data"
    },
    {
     "name": "stdout",
     "output_type": "stream",
     "text": [
      "\n",
      "See the whole table with table.as_data_frame()\n",
      "Scoring History: \n"
     ]
    },
    {
     "data": {
      "text/html": [
       "<div style=\"overflow:auto\"><table style=\"width:50%\"><tr><td><b></b></td>\n",
       "<td><b>timestamp</b></td>\n",
       "<td><b>duration</b></td>\n",
       "<td><b>iteration</b></td>\n",
       "<td><b>lambda</b></td>\n",
       "<td><b>predictors</b></td>\n",
       "<td><b>deviance_train</b></td>\n",
       "<td><b>deviance_test</b></td>\n",
       "<td><b>deviance_xval</b></td>\n",
       "<td><b>deviance_se</b></td></tr>\n",
       "<tr><td></td>\n",
       "<td>2017-09-25 08:42:49</td>\n",
       "<td> 0.000 sec</td>\n",
       "<td>2</td>\n",
       "<td>.22E2</td>\n",
       "<td>9</td>\n",
       "<td>1.3475878</td>\n",
       "<td>1.3200290</td>\n",
       "<td>1.3530589</td>\n",
       "<td>0.0105923</td></tr>\n",
       "<tr><td></td>\n",
       "<td>2017-09-25 08:42:49</td>\n",
       "<td> 0.001 sec</td>\n",
       "<td>4</td>\n",
       "<td>.14E2</td>\n",
       "<td>9</td>\n",
       "<td>1.3408701</td>\n",
       "<td>1.3159020</td>\n",
       "<td>1.3477858</td>\n",
       "<td>0.0103651</td></tr>\n",
       "<tr><td></td>\n",
       "<td>2017-09-25 08:42:49</td>\n",
       "<td> 0.007 sec</td>\n",
       "<td>6</td>\n",
       "<td>.86E1</td>\n",
       "<td>9</td>\n",
       "<td>1.3305734</td>\n",
       "<td>1.3095800</td>\n",
       "<td>1.3396366</td>\n",
       "<td>0.0100352</td></tr>\n",
       "<tr><td></td>\n",
       "<td>2017-09-25 08:42:49</td>\n",
       "<td> 0.007 sec</td>\n",
       "<td>8</td>\n",
       "<td>.53E1</td>\n",
       "<td>9</td>\n",
       "<td>1.3152325</td>\n",
       "<td>1.3001724</td>\n",
       "<td>1.3273475</td>\n",
       "<td>0.0095861</td></tr>\n",
       "<tr><td></td>\n",
       "<td>2017-09-25 08:42:49</td>\n",
       "<td> 0.008 sec</td>\n",
       "<td>10</td>\n",
       "<td>.33E1</td>\n",
       "<td>9</td>\n",
       "<td>1.2932981</td>\n",
       "<td>1.2867602</td>\n",
       "<td>1.3094740</td>\n",
       "<td>0.0090425</td></tr>\n",
       "<tr><td></td>\n",
       "<td>2017-09-25 08:42:49</td>\n",
       "<td> 0.009 sec</td>\n",
       "<td>12</td>\n",
       "<td>.21E1</td>\n",
       "<td>9</td>\n",
       "<td>1.2638016</td>\n",
       "<td>1.2688060</td>\n",
       "<td>1.2848572</td>\n",
       "<td>0.0085078</td></tr>\n",
       "<tr><td></td>\n",
       "<td>2017-09-25 08:42:49</td>\n",
       "<td> 0.010 sec</td>\n",
       "<td>14</td>\n",
       "<td>.13E1</td>\n",
       "<td>9</td>\n",
       "<td>1.2271330</td>\n",
       "<td>1.2466972</td>\n",
       "<td>1.2533878</td>\n",
       "<td>0.0081536</td></tr>\n",
       "<tr><td></td>\n",
       "<td>2017-09-25 08:42:49</td>\n",
       "<td> 0.010 sec</td>\n",
       "<td>16</td>\n",
       "<td>.79E0</td>\n",
       "<td>9</td>\n",
       "<td>1.1856645</td>\n",
       "<td>1.2221528</td>\n",
       "<td>1.2168485</td>\n",
       "<td>0.0080784</td></tr>\n",
       "<tr><td></td>\n",
       "<td>2017-09-25 08:42:49</td>\n",
       "<td> 0.011 sec</td>\n",
       "<td>18</td>\n",
       "<td>.49E0</td>\n",
       "<td>9</td>\n",
       "<td>1.1430739</td>\n",
       "<td>1.1978532</td>\n",
       "<td>1.1787300</td>\n",
       "<td>0.0081745</td></tr>\n",
       "<tr><td></td>\n",
       "<td>2017-09-25 08:42:49</td>\n",
       "<td> 0.012 sec</td>\n",
       "<td>20</td>\n",
       "<td>.31E0</td>\n",
       "<td>9</td>\n",
       "<td>1.1032021</td>\n",
       "<td>1.1766716</td>\n",
       "<td>1.1431051</td>\n",
       "<td>0.0082719</td></tr>\n",
       "<tr><td></td>\n",
       "<td>2017-09-25 08:42:49</td>\n",
       "<td> 0.012 sec</td>\n",
       "<td>22</td>\n",
       "<td>.19E0</td>\n",
       "<td>9</td>\n",
       "<td>1.0689457</td>\n",
       "<td>1.1608427</td>\n",
       "<td>1.1132184</td>\n",
       "<td>0.0083898</td></tr>\n",
       "<tr><td></td>\n",
       "<td>2017-09-25 08:42:49</td>\n",
       "<td> 0.013 sec</td>\n",
       "<td>24</td>\n",
       "<td>.12E0</td>\n",
       "<td>9</td>\n",
       "<td>1.0418608</td>\n",
       "<td>1.1515297</td>\n",
       "<td>1.0908031</td>\n",
       "<td>0.0087323</td></tr>\n",
       "<tr><td></td>\n",
       "<td>2017-09-25 08:42:49</td>\n",
       "<td> 0.014 sec</td>\n",
       "<td>26</td>\n",
       "<td>.73E-1</td>\n",
       "<td>9</td>\n",
       "<td>1.0222092</td>\n",
       "<td>1.1486493</td>\n",
       "<td>1.0760917</td>\n",
       "<td>0.0094758</td></tr>\n",
       "<tr><td></td>\n",
       "<td>2017-09-25 08:42:49</td>\n",
       "<td> 0.014 sec</td>\n",
       "<td>28</td>\n",
       "<td>.45E-1</td>\n",
       "<td>9</td>\n",
       "<td>1.0091842</td>\n",
       "<td>1.1509563</td>\n",
       "<td>1.0681351</td>\n",
       "<td>0.0106377</td></tr>\n",
       "<tr><td></td>\n",
       "<td>2017-09-25 08:42:49</td>\n",
       "<td> 0.015 sec</td>\n",
       "<td>30</td>\n",
       "<td>.28E-1</td>\n",
       "<td>9</td>\n",
       "<td>1.0013161</td>\n",
       "<td>1.1564796</td>\n",
       "<td>1.0652594</td>\n",
       "<td>0.0120901</td></tr>\n",
       "<tr><td></td>\n",
       "<td>2017-09-25 08:42:49</td>\n",
       "<td> 0.016 sec</td>\n",
       "<td>32</td>\n",
       "<td>.18E-1</td>\n",
       "<td>9</td>\n",
       "<td>0.9969807</td>\n",
       "<td>1.1631875</td>\n",
       "<td>1.0655653</td>\n",
       "<td>0.0136303</td></tr>\n",
       "<tr><td></td>\n",
       "<td>2017-09-25 08:42:49</td>\n",
       "<td> 0.017 sec</td>\n",
       "<td>34</td>\n",
       "<td>.11E-1</td>\n",
       "<td>9</td>\n",
       "<td>0.9947887</td>\n",
       "<td>1.1695535</td>\n",
       "<td>1.0673989</td>\n",
       "<td>0.0150721</td></tr>\n",
       "<tr><td></td>\n",
       "<td>2017-09-25 08:42:49</td>\n",
       "<td> 0.018 sec</td>\n",
       "<td>36</td>\n",
       "<td>.68E-2</td>\n",
       "<td>9</td>\n",
       "<td>0.9937584</td>\n",
       "<td>1.1747867</td>\n",
       "<td>1.0696140</td>\n",
       "<td>0.0162837</td></tr></table></div>"
      ],
      "text/plain": [
       "    timestamp            duration    iteration    lambda    predictors    deviance_train    deviance_test    deviance_xval    deviance_se\n",
       "--  -------------------  ----------  -----------  --------  ------------  ----------------  ---------------  ---------------  -------------\n",
       "    2017-09-25 08:42:49  0.000 sec   2            22        9             1.34759           1.32003          1.35306          0.0105923\n",
       "    2017-09-25 08:42:49  0.001 sec   4            14        9             1.34087           1.3159           1.34779          0.0103651\n",
       "    2017-09-25 08:42:49  0.007 sec   6            8.6       9             1.33057           1.30958          1.33964          0.0100352\n",
       "    2017-09-25 08:42:49  0.007 sec   8            5.3       9             1.31523           1.30017          1.32735          0.00958614\n",
       "    2017-09-25 08:42:49  0.008 sec   10           3.3       9             1.2933            1.28676          1.30947          0.00904245\n",
       "    2017-09-25 08:42:49  0.009 sec   12           2.1       9             1.2638            1.26881          1.28486          0.00850784\n",
       "    2017-09-25 08:42:49  0.010 sec   14           1.3       9             1.22713           1.2467           1.25339          0.00815364\n",
       "    2017-09-25 08:42:49  0.010 sec   16           0.79      9             1.18566           1.22215          1.21685          0.00807842\n",
       "    2017-09-25 08:42:49  0.011 sec   18           0.49      9             1.14307           1.19785          1.17873          0.00817453\n",
       "    2017-09-25 08:42:49  0.012 sec   20           0.31      9             1.1032            1.17667          1.14311          0.00827193\n",
       "    2017-09-25 08:42:49  0.012 sec   22           0.19      9             1.06895           1.16084          1.11322          0.00838983\n",
       "    2017-09-25 08:42:49  0.013 sec   24           0.12      9             1.04186           1.15153          1.0908           0.00873227\n",
       "    2017-09-25 08:42:49  0.014 sec   26           0.073     9             1.02221           1.14865          1.07609          0.00947575\n",
       "    2017-09-25 08:42:49  0.014 sec   28           0.045     9             1.00918           1.15096          1.06814          0.0106377\n",
       "    2017-09-25 08:42:49  0.015 sec   30           0.028     9             1.00132           1.15648          1.06526          0.0120901\n",
       "    2017-09-25 08:42:49  0.016 sec   32           0.018     9             0.996981          1.16319          1.06557          0.0136303\n",
       "    2017-09-25 08:42:49  0.017 sec   34           0.011     9             0.994789          1.16955          1.0674           0.0150721\n",
       "    2017-09-25 08:42:49  0.018 sec   36           0.0068    9             0.993758          1.17479          1.06961          0.0162837"
      ]
     },
     "metadata": {},
     "output_type": "display_data"
    },
    {
     "data": {
      "text/plain": []
     },
     "execution_count": 51,
     "metadata": {},
     "output_type": "execute_result"
    }
   ],
   "source": [
    "aml.leader"
   ]
  },
  {
   "cell_type": "code",
   "execution_count": 52,
   "metadata": {},
   "outputs": [
    {
     "data": {
      "text/plain": [
       "0.8288329104748097"
      ]
     },
     "execution_count": 52,
     "metadata": {},
     "output_type": "execute_result"
    }
   ],
   "source": [
    "aml.leader.auc()"
   ]
  },
  {
   "cell_type": "code",
   "execution_count": 53,
   "metadata": {},
   "outputs": [
    {
     "name": "stdout",
     "output_type": "stream",
     "text": [
      "Confusion Matrix (Act/Pred) for max f1 @ threshold = 0.300733639628: \n"
     ]
    },
    {
     "data": {
      "text/html": [
       "<div style=\"overflow:auto\"><table style=\"width:50%\"><tr><td><b></b></td>\n",
       "<td><b>0</b></td>\n",
       "<td><b>1</b></td>\n",
       "<td><b>Error</b></td>\n",
       "<td><b>Rate</b></td></tr>\n",
       "<tr><td>0</td>\n",
       "<td>80.0</td>\n",
       "<td>44.0</td>\n",
       "<td>0.3548</td>\n",
       "<td> (44.0/124.0)</td></tr>\n",
       "<tr><td>1</td>\n",
       "<td>10.0</td>\n",
       "<td>79.0</td>\n",
       "<td>0.1124</td>\n",
       "<td> (10.0/89.0)</td></tr>\n",
       "<tr><td>Total</td>\n",
       "<td>90.0</td>\n",
       "<td>123.0</td>\n",
       "<td>0.2535</td>\n",
       "<td> (54.0/213.0)</td></tr></table></div>"
      ],
      "text/plain": [
       "       0    1    Error    Rate\n",
       "-----  ---  ---  -------  ------------\n",
       "0      80   44   0.3548   (44.0/124.0)\n",
       "1      10   79   0.1124   (10.0/89.0)\n",
       "Total  90   123  0.2535   (54.0/213.0)"
      ]
     },
     "metadata": {},
     "output_type": "display_data"
    },
    {
     "data": {
      "text/plain": []
     },
     "execution_count": 53,
     "metadata": {},
     "output_type": "execute_result"
    }
   ],
   "source": [
    "aml.leader.confusion_matrix()"
   ]
  },
  {
   "cell_type": "code",
   "execution_count": 54,
   "metadata": {},
   "outputs": [
    {
     "name": "stdout",
     "output_type": "stream",
     "text": [
      "glm prediction progress: |████████████████████████████████████████████████| 100%\n"
     ]
    },
    {
     "data": {
      "text/html": [
       "<table>\n",
       "<thead>\n",
       "<tr><th style=\"text-align: right;\">  predict</th><th style=\"text-align: right;\">       p0</th><th style=\"text-align: right;\">      p1</th></tr>\n",
       "</thead>\n",
       "<tbody>\n",
       "<tr><td style=\"text-align: right;\">        0</td><td style=\"text-align: right;\">0.85998  </td><td style=\"text-align: right;\">0.14002 </td></tr>\n",
       "<tr><td style=\"text-align: right;\">        1</td><td style=\"text-align: right;\">0.0765746</td><td style=\"text-align: right;\">0.923425</td></tr>\n",
       "<tr><td style=\"text-align: right;\">        1</td><td style=\"text-align: right;\">0.0236777</td><td style=\"text-align: right;\">0.976322</td></tr>\n",
       "<tr><td style=\"text-align: right;\">        0</td><td style=\"text-align: right;\">0.88567  </td><td style=\"text-align: right;\">0.11433 </td></tr>\n",
       "<tr><td style=\"text-align: right;\">        1</td><td style=\"text-align: right;\">0.577736 </td><td style=\"text-align: right;\">0.422264</td></tr>\n",
       "<tr><td style=\"text-align: right;\">        0</td><td style=\"text-align: right;\">0.89272  </td><td style=\"text-align: right;\">0.10728 </td></tr>\n",
       "<tr><td style=\"text-align: right;\">        0</td><td style=\"text-align: right;\">0.7614   </td><td style=\"text-align: right;\">0.2386  </td></tr>\n",
       "<tr><td style=\"text-align: right;\">        0</td><td style=\"text-align: right;\">0.762093 </td><td style=\"text-align: right;\">0.237907</td></tr>\n",
       "<tr><td style=\"text-align: right;\">        1</td><td style=\"text-align: right;\">0.0951192</td><td style=\"text-align: right;\">0.904881</td></tr>\n",
       "<tr><td style=\"text-align: right;\">        1</td><td style=\"text-align: right;\">0.446411 </td><td style=\"text-align: right;\">0.553589</td></tr>\n",
       "</tbody>\n",
       "</table>"
      ]
     },
     "metadata": {},
     "output_type": "display_data"
    },
    {
     "data": {
      "text/plain": []
     },
     "execution_count": 54,
     "metadata": {},
     "output_type": "execute_result"
    }
   ],
   "source": [
    "aml.leader.predict(test_data=test)"
   ]
  },
  {
   "cell_type": "code",
   "execution_count": 55,
   "metadata": {},
   "outputs": [
    {
     "name": "stdout",
     "output_type": "stream",
     "text": [
      "\n",
      "ModelMetricsBinomialGLM: glm\n",
      "** Reported on test data. **\n",
      "\n",
      "MSE: 0.215631603393\n",
      "RMSE: 0.464361500766\n",
      "LogLoss: 0.639087735123\n",
      "Null degrees of freedom: 41\n",
      "Residual degrees of freedom: 33\n",
      "Null deviance: 56.7208270684\n",
      "Residual deviance: 53.6833697503\n",
      "AIC: 71.6833697503\n",
      "AUC: 0.729411764706\n",
      "Gini: 0.458823529412\n",
      "Confusion Matrix (Act/Pred) for max f1 @ threshold = 0.273355461032: \n"
     ]
    },
    {
     "data": {
      "text/html": [
       "<div style=\"overflow:auto\"><table style=\"width:50%\"><tr><td><b></b></td>\n",
       "<td><b>0</b></td>\n",
       "<td><b>1</b></td>\n",
       "<td><b>Error</b></td>\n",
       "<td><b>Rate</b></td></tr>\n",
       "<tr><td>0</td>\n",
       "<td>12.0</td>\n",
       "<td>13.0</td>\n",
       "<td>0.52</td>\n",
       "<td> (13.0/25.0)</td></tr>\n",
       "<tr><td>1</td>\n",
       "<td>1.0</td>\n",
       "<td>16.0</td>\n",
       "<td>0.0588</td>\n",
       "<td> (1.0/17.0)</td></tr>\n",
       "<tr><td>Total</td>\n",
       "<td>13.0</td>\n",
       "<td>29.0</td>\n",
       "<td>0.3333</td>\n",
       "<td> (14.0/42.0)</td></tr></table></div>"
      ],
      "text/plain": [
       "       0    1    Error    Rate\n",
       "-----  ---  ---  -------  -----------\n",
       "0      12   13   0.52     (13.0/25.0)\n",
       "1      1    16   0.0588   (1.0/17.0)\n",
       "Total  13   29   0.3333   (14.0/42.0)"
      ]
     },
     "metadata": {},
     "output_type": "display_data"
    },
    {
     "name": "stdout",
     "output_type": "stream",
     "text": [
      "Maximum Metrics: Maximum metrics at their respective thresholds\n",
      "\n"
     ]
    },
    {
     "data": {
      "text/html": [
       "<div style=\"overflow:auto\"><table style=\"width:50%\"><tr><td><b>metric</b></td>\n",
       "<td><b>threshold</b></td>\n",
       "<td><b>value</b></td>\n",
       "<td><b>idx</b></td></tr>\n",
       "<tr><td>max f1</td>\n",
       "<td>0.2733555</td>\n",
       "<td>0.6956522</td>\n",
       "<td>28.0</td></tr>\n",
       "<tr><td>max f2</td>\n",
       "<td>0.2733555</td>\n",
       "<td>0.8247423</td>\n",
       "<td>28.0</td></tr>\n",
       "<tr><td>max f0point5</td>\n",
       "<td>0.4222639</td>\n",
       "<td>0.6435644</td>\n",
       "<td>20.0</td></tr>\n",
       "<tr><td>max accuracy</td>\n",
       "<td>0.4222639</td>\n",
       "<td>0.7142857</td>\n",
       "<td>20.0</td></tr>\n",
       "<tr><td>max precision</td>\n",
       "<td>0.9940320</td>\n",
       "<td>1.0</td>\n",
       "<td>0.0</td></tr>\n",
       "<tr><td>max recall</td>\n",
       "<td>0.0956680</td>\n",
       "<td>1.0</td>\n",
       "<td>38.0</td></tr>\n",
       "<tr><td>max specificity</td>\n",
       "<td>0.9940320</td>\n",
       "<td>1.0</td>\n",
       "<td>0.0</td></tr>\n",
       "<tr><td>max absolute_mcc</td>\n",
       "<td>0.2733555</td>\n",
       "<td>0.4471857</td>\n",
       "<td>28.0</td></tr>\n",
       "<tr><td>max min_per_class_accuracy</td>\n",
       "<td>0.4494017</td>\n",
       "<td>0.68</td>\n",
       "<td>19.0</td></tr>\n",
       "<tr><td>max mean_per_class_accuracy</td>\n",
       "<td>0.4222639</td>\n",
       "<td>0.7223529</td>\n",
       "<td>20.0</td></tr></table></div>"
      ],
      "text/plain": [
       "metric                       threshold    value     idx\n",
       "---------------------------  -----------  --------  -----\n",
       "max f1                       0.273355     0.695652  28\n",
       "max f2                       0.273355     0.824742  28\n",
       "max f0point5                 0.422264     0.643564  20\n",
       "max accuracy                 0.422264     0.714286  20\n",
       "max precision                0.994032     1         0\n",
       "max recall                   0.095668     1         38\n",
       "max specificity              0.994032     1         0\n",
       "max absolute_mcc             0.273355     0.447186  28\n",
       "max min_per_class_accuracy   0.449402     0.68      19\n",
       "max mean_per_class_accuracy  0.422264     0.722353  20"
      ]
     },
     "metadata": {},
     "output_type": "display_data"
    },
    {
     "name": "stdout",
     "output_type": "stream",
     "text": [
      "Gains/Lift Table: Avg response rate: 40.48 %\n",
      "\n"
     ]
    },
    {
     "data": {
      "text/html": [
       "<div style=\"overflow:auto\"><table style=\"width:50%\"><tr><td><b></b></td>\n",
       "<td><b>group</b></td>\n",
       "<td><b>cumulative_data_fraction</b></td>\n",
       "<td><b>lower_threshold</b></td>\n",
       "<td><b>lift</b></td>\n",
       "<td><b>cumulative_lift</b></td>\n",
       "<td><b>response_rate</b></td>\n",
       "<td><b>cumulative_response_rate</b></td>\n",
       "<td><b>capture_rate</b></td>\n",
       "<td><b>cumulative_capture_rate</b></td>\n",
       "<td><b>gain</b></td>\n",
       "<td><b>cumulative_gain</b></td></tr>\n",
       "<tr><td></td>\n",
       "<td>1</td>\n",
       "<td>0.0238095</td>\n",
       "<td>0.9867711</td>\n",
       "<td>2.4705882</td>\n",
       "<td>2.4705882</td>\n",
       "<td>1.0</td>\n",
       "<td>1.0</td>\n",
       "<td>0.0588235</td>\n",
       "<td>0.0588235</td>\n",
       "<td>147.0588235</td>\n",
       "<td>147.0588235</td></tr>\n",
       "<tr><td></td>\n",
       "<td>2</td>\n",
       "<td>0.0238095</td>\n",
       "<td>0.9795101</td>\n",
       "<td>0.0</td>\n",
       "<td>2.4705882</td>\n",
       "<td>0.0</td>\n",
       "<td>1.0</td>\n",
       "<td>0.0</td>\n",
       "<td>0.0588235</td>\n",
       "<td>-100.0</td>\n",
       "<td>147.0588235</td></tr>\n",
       "<tr><td></td>\n",
       "<td>3</td>\n",
       "<td>0.0476190</td>\n",
       "<td>0.9641560</td>\n",
       "<td>2.4705882</td>\n",
       "<td>2.4705882</td>\n",
       "<td>1.0</td>\n",
       "<td>1.0</td>\n",
       "<td>0.0588235</td>\n",
       "<td>0.1176471</td>\n",
       "<td>147.0588235</td>\n",
       "<td>147.0588235</td></tr>\n",
       "<tr><td></td>\n",
       "<td>4</td>\n",
       "<td>0.0476190</td>\n",
       "<td>0.9424683</td>\n",
       "<td>0.0</td>\n",
       "<td>2.4705882</td>\n",
       "<td>0.0</td>\n",
       "<td>1.0</td>\n",
       "<td>0.0</td>\n",
       "<td>0.1176471</td>\n",
       "<td>-100.0</td>\n",
       "<td>147.0588235</td></tr>\n",
       "<tr><td></td>\n",
       "<td>5</td>\n",
       "<td>0.0714286</td>\n",
       "<td>0.9224982</td>\n",
       "<td>0.0</td>\n",
       "<td>1.6470588</td>\n",
       "<td>0.0</td>\n",
       "<td>0.6666667</td>\n",
       "<td>0.0</td>\n",
       "<td>0.1176471</td>\n",
       "<td>-100.0</td>\n",
       "<td>64.7058824</td></tr>\n",
       "<tr><td></td>\n",
       "<td>6</td>\n",
       "<td>0.1190476</td>\n",
       "<td>0.8704876</td>\n",
       "<td>0.0</td>\n",
       "<td>0.9882353</td>\n",
       "<td>0.0</td>\n",
       "<td>0.4</td>\n",
       "<td>0.0</td>\n",
       "<td>0.1176471</td>\n",
       "<td>-100.0</td>\n",
       "<td>-1.1764706</td></tr>\n",
       "<tr><td></td>\n",
       "<td>7</td>\n",
       "<td>0.1666667</td>\n",
       "<td>0.8264610</td>\n",
       "<td>2.4705882</td>\n",
       "<td>1.4117647</td>\n",
       "<td>1.0</td>\n",
       "<td>0.5714286</td>\n",
       "<td>0.1176471</td>\n",
       "<td>0.2352941</td>\n",
       "<td>147.0588235</td>\n",
       "<td>41.1764706</td></tr>\n",
       "<tr><td></td>\n",
       "<td>8</td>\n",
       "<td>0.2142857</td>\n",
       "<td>0.6730630</td>\n",
       "<td>2.4705882</td>\n",
       "<td>1.6470588</td>\n",
       "<td>1.0</td>\n",
       "<td>0.6666667</td>\n",
       "<td>0.1176471</td>\n",
       "<td>0.3529412</td>\n",
       "<td>147.0588235</td>\n",
       "<td>64.7058824</td></tr>\n",
       "<tr><td></td>\n",
       "<td>9</td>\n",
       "<td>0.3095238</td>\n",
       "<td>0.5809326</td>\n",
       "<td>1.2352941</td>\n",
       "<td>1.5203620</td>\n",
       "<td>0.5</td>\n",
       "<td>0.6153846</td>\n",
       "<td>0.1176471</td>\n",
       "<td>0.4705882</td>\n",
       "<td>23.5294118</td>\n",
       "<td>52.0361991</td></tr>\n",
       "<tr><td></td>\n",
       "<td>10</td>\n",
       "<td>0.4047619</td>\n",
       "<td>0.5427469</td>\n",
       "<td>1.2352941</td>\n",
       "<td>1.4532872</td>\n",
       "<td>0.5</td>\n",
       "<td>0.5882353</td>\n",
       "<td>0.1176471</td>\n",
       "<td>0.5882353</td>\n",
       "<td>23.5294118</td>\n",
       "<td>45.3287197</td></tr>\n",
       "<tr><td></td>\n",
       "<td>11</td>\n",
       "<td>0.5</td>\n",
       "<td>0.4016680</td>\n",
       "<td>1.8529412</td>\n",
       "<td>1.5294118</td>\n",
       "<td>0.75</td>\n",
       "<td>0.6190476</td>\n",
       "<td>0.1764706</td>\n",
       "<td>0.7647059</td>\n",
       "<td>85.2941176</td>\n",
       "<td>52.9411765</td></tr>\n",
       "<tr><td></td>\n",
       "<td>12</td>\n",
       "<td>0.5952381</td>\n",
       "<td>0.3357136</td>\n",
       "<td>0.6176471</td>\n",
       "<td>1.3835294</td>\n",
       "<td>0.25</td>\n",
       "<td>0.56</td>\n",
       "<td>0.0588235</td>\n",
       "<td>0.8235294</td>\n",
       "<td>-38.2352941</td>\n",
       "<td>38.3529412</td></tr>\n",
       "<tr><td></td>\n",
       "<td>13</td>\n",
       "<td>0.6904762</td>\n",
       "<td>0.2557259</td>\n",
       "<td>1.2352941</td>\n",
       "<td>1.3630832</td>\n",
       "<td>0.5</td>\n",
       "<td>0.5517241</td>\n",
       "<td>0.1176471</td>\n",
       "<td>0.9411765</td>\n",
       "<td>23.5294118</td>\n",
       "<td>36.3083164</td></tr>\n",
       "<tr><td></td>\n",
       "<td>14</td>\n",
       "<td>0.7857143</td>\n",
       "<td>0.2052185</td>\n",
       "<td>0.0</td>\n",
       "<td>1.1978610</td>\n",
       "<td>0.0</td>\n",
       "<td>0.4848485</td>\n",
       "<td>0.0</td>\n",
       "<td>0.9411765</td>\n",
       "<td>-100.0</td>\n",
       "<td>19.7860963</td></tr>\n",
       "<tr><td></td>\n",
       "<td>15</td>\n",
       "<td>0.8809524</td>\n",
       "<td>0.1007014</td>\n",
       "<td>0.0</td>\n",
       "<td>1.0683625</td>\n",
       "<td>0.0</td>\n",
       "<td>0.4324324</td>\n",
       "<td>0.0</td>\n",
       "<td>0.9411765</td>\n",
       "<td>-100.0</td>\n",
       "<td>6.8362480</td></tr>\n",
       "<tr><td></td>\n",
       "<td>16</td>\n",
       "<td>1.0</td>\n",
       "<td>0.0645721</td>\n",
       "<td>0.4941176</td>\n",
       "<td>1.0</td>\n",
       "<td>0.2</td>\n",
       "<td>0.4047619</td>\n",
       "<td>0.0588235</td>\n",
       "<td>1.0</td>\n",
       "<td>-50.5882353</td>\n",
       "<td>0.0</td></tr></table></div>"
      ],
      "text/plain": [
       "    group    cumulative_data_fraction    lower_threshold    lift      cumulative_lift    response_rate    cumulative_response_rate    capture_rate    cumulative_capture_rate    gain      cumulative_gain\n",
       "--  -------  --------------------------  -----------------  --------  -----------------  ---------------  --------------------------  --------------  -------------------------  --------  -----------------\n",
       "    1        0.0238095                   0.986771           2.47059   2.47059            1                1                           0.0588235       0.0588235                  147.059   147.059\n",
       "    2        0.0238095                   0.97951            0         2.47059            0                1                           0               0.0588235                  -100      147.059\n",
       "    3        0.047619                    0.964156           2.47059   2.47059            1                1                           0.0588235       0.117647                   147.059   147.059\n",
       "    4        0.047619                    0.942468           0         2.47059            0                1                           0               0.117647                   -100      147.059\n",
       "    5        0.0714286                   0.922498           0         1.64706            0                0.666667                    0               0.117647                   -100      64.7059\n",
       "    6        0.119048                    0.870488           0         0.988235           0                0.4                         0               0.117647                   -100      -1.17647\n",
       "    7        0.166667                    0.826461           2.47059   1.41176            1                0.571429                    0.117647        0.235294                   147.059   41.1765\n",
       "    8        0.214286                    0.673063           2.47059   1.64706            1                0.666667                    0.117647        0.352941                   147.059   64.7059\n",
       "    9        0.309524                    0.580933           1.23529   1.52036            0.5              0.615385                    0.117647        0.470588                   23.5294   52.0362\n",
       "    10       0.404762                    0.542747           1.23529   1.45329            0.5              0.588235                    0.117647        0.588235                   23.5294   45.3287\n",
       "    11       0.5                         0.401668           1.85294   1.52941            0.75             0.619048                    0.176471        0.764706                   85.2941   52.9412\n",
       "    12       0.595238                    0.335714           0.617647  1.38353            0.25             0.56                        0.0588235       0.823529                   -38.2353  38.3529\n",
       "    13       0.690476                    0.255726           1.23529   1.36308            0.5              0.551724                    0.117647        0.941176                   23.5294   36.3083\n",
       "    14       0.785714                    0.205218           0         1.19786            0                0.484848                    0               0.941176                   -100      19.7861\n",
       "    15       0.880952                    0.100701           0         1.06836            0                0.432432                    0               0.941176                   -100      6.83625\n",
       "    16       1                           0.0645721          0.494118  1                  0.2              0.404762                    0.0588235       1                          -50.5882  0"
      ]
     },
     "metadata": {},
     "output_type": "display_data"
    },
    {
     "name": "stdout",
     "output_type": "stream",
     "text": [
      "\n"
     ]
    },
    {
     "data": {
      "text/plain": []
     },
     "execution_count": 55,
     "metadata": {},
     "output_type": "execute_result"
    }
   ],
   "source": [
    "aml.leader.model_performance(test_data=test)"
   ]
  },
  {
   "cell_type": "code",
   "execution_count": null,
   "metadata": {
    "collapsed": true
   },
   "outputs": [],
   "source": []
  }
 ],
 "metadata": {
  "kernelspec": {
   "display_name": "Python 2",
   "language": "python",
   "name": "python2"
  },
  "language_info": {
   "codemirror_mode": {
    "name": "ipython",
    "version": 2
   },
   "file_extension": ".py",
   "mimetype": "text/x-python",
   "name": "python",
   "nbconvert_exporter": "python",
   "pygments_lexer": "ipython2",
   "version": "2.7.13"
  }
 },
 "nbformat": 4,
 "nbformat_minor": 2
}
