{
 "cells": [
  {
   "cell_type": "markdown",
   "metadata": {},
   "source": [
    "# Pre-Training Assignment\n",
    "\n",
    "This pre-training assignment is designed to familiarize you with the basics of H2O-3's Python API and H2O-3's documentation. \n",
    "\n",
    "**Please complete this assignment to the best of your ability before coming to the training session.**\n",
    "\n",
    "\n",
    "We recommend you have two tabs open while doing this assignment: one open to the [H2O-3 User Guide](http://docs.h2o.ai/h2o/latest-stable/h2o-docs/index.html), and one open to the [Python API documentation](http://docs.h2o.ai/h2o/latest-stable/h2o-py/docs/index.html).\n",
    "\n",
    "In addition you can search answers to your questions or post questions in [StackOverflow](https://stackoverflow.com/questions/tagged/h2o+or+sparkling-water+or+h2o-4gpu) and H2O-3's google group, [h2ostream](https://groups.google.com/forum/#!forum/h2ostream).\n",
    "\n",
    "## Assignment Overview\n",
    "\n",
    "Complete the following steps - you will know to fill in code when you see **TODO: add code here** \n",
    "\n",
    "1. Download the airlines dataset from Amazon S3\n",
    "2. Launch an H2O Cluster\n",
    "3. Import the airlines dataset\n",
    "3. Run a GLM model on the airlines dataset to predict whether or not a flight will be delayed"
   ]
  },
  {
   "cell_type": "markdown",
   "metadata": {},
   "source": [
    "### Launch an H2O Cluster\n",
    "\n",
    "**hint:** http://docs.h2o.ai/h2o/latest-stable/h2o-docs/starting-h2o.html#starting-h2o"
   ]
  },
  {
   "cell_type": "code",
   "execution_count": null,
   "metadata": {
    "collapsed": true
   },
   "outputs": [],
   "source": [
    "# import required packages\n",
    "import h2o\n",
    "\n",
    "# launch an h2o cluster (hint:http://docs.h2o.ai/h2o/latest-stable/h2o-py/docs/h2o.html?20init#h2o.init)\n",
    "# TODO: add code here"
   ]
  },
  {
   "cell_type": "markdown",
   "metadata": {},
   "source": [
    "Questions: Look at the output from launching a cluster and answer the following questions:\n",
    "1. What version of H2O are you using?\n",
    "2. What version of Python are you using?"
   ]
  },
  {
   "cell_type": "markdown",
   "metadata": {},
   "source": [
    "### Import the Airlines Dataset\n",
    "\n",
    "Download and import the airlines dataset from Amazon S3 using the following link https://s3.amazonaws.com/h2o-airlines-unpacked/allyears2k.csv (note: click on the url and it should download the dataset).\n",
    "\n",
    "**hint:** you can download the dataset as a csv from s3 and then import that csv file or you can import the dataset using the s3 link directly.\n"
   ]
  },
  {
   "cell_type": "code",
   "execution_count": null,
   "metadata": {
    "collapsed": true
   },
   "outputs": [],
   "source": [
    "# import file\n",
    "# hint: http://docs.h2o.ai/h2o/latest-stable/h2o-docs/data-munging/importing-data.html?#importing-a-file\n",
    "# TODO: add code here"
   ]
  },
  {
   "cell_type": "markdown",
   "metadata": {},
   "source": [
    "Questions:\n",
    "\n",
    "1. What are the columns in your dataset? \n",
    "2. Which columns should you include in your model if you want to predict flight delays?\n",
    "3. Which columns should you drop so that you don't have data leakage?"
   ]
  },
  {
   "cell_type": "code",
   "execution_count": null,
   "metadata": {
    "collapsed": true
   },
   "outputs": [],
   "source": [
    "# print the column names in your dataset\n",
    "# hint: http://docs.h2o.ai/h2o/latest-stable/h2o-py/docs/frame.html?#h2o.frame.H2OFrame.columns\n",
    "# TODO: add code here"
   ]
  },
  {
   "cell_type": "code",
   "execution_count": null,
   "metadata": {
    "collapsed": true
   },
   "outputs": [],
   "source": [
    "# show the top 10 rows of your dataset \n",
    "# hint: you can use the same method name as you would expect in pandas\n",
    "# hint: http://docs.h2o.ai/h2o/latest-stable/h2o-py/docs/frame.html?highlight=head#h2o.frame.H2OFrame.head\n",
    "# TODO: add code here"
   ]
  },
  {
   "cell_type": "markdown",
   "metadata": {},
   "source": [
    "### Build a Generalized Linear Model (GLM)"
   ]
  },
  {
   "cell_type": "code",
   "execution_count": null,
   "metadata": {
    "collapsed": true
   },
   "outputs": [],
   "source": [
    "# specify your features and target column\n",
    "features = [\"Origin\", \"Dest\", \"Year\", \"UniqueCarrier\", \"DayOfWeek\", \"Month\", \"Distance\", \"FlightNum\"]\n",
    "target = \"IsDepDelayed\""
   ]
  },
  {
   "cell_type": "markdown",
   "metadata": {},
   "source": [
    "Question:\n",
    "\n",
    "1. why do you need to convert your target \"IsDepDelayed\" to a categorical (aka enum or factor)?\n",
    "\n",
    "**hint:** https://0xdata.atlassian.net/browse/TN-2"
   ]
  },
  {
   "cell_type": "code",
   "execution_count": null,
   "metadata": {
    "collapsed": true
   },
   "outputs": [],
   "source": [
    "# convert your target from numeric to categorical\n",
    "# hint: http://docs.h2o.ai/h2o/latest-stable/h2o-py/docs/frame.html?highlight=asfactor#h2o.frame.H2OFrame.asfactor"
   ]
  },
  {
   "cell_type": "markdown",
   "metadata": {},
   "source": [
    "#### Split the Dataset\n",
    "\n",
    "**hint**: http://docs.h2o.ai/h2o/latest-stable/h2o-docs/data-munging/splitting-datasets.html"
   ]
  },
  {
   "cell_type": "code",
   "execution_count": null,
   "metadata": {
    "collapsed": true
   },
   "outputs": [],
   "source": [
    "# split your airlines dataset into train and valid\n",
    "# TODO: add code here"
   ]
  },
  {
   "cell_type": "markdown",
   "metadata": {},
   "source": [
    "#### Train a GLM for classification \n",
    "**hint**: http://docs.h2o.ai/h2o/latest-stable/h2o-docs/data-science/glm.html\n"
   ]
  },
  {
   "cell_type": "code",
   "execution_count": null,
   "metadata": {
    "collapsed": true
   },
   "outputs": [],
   "source": [
    "# train a GLM\n",
    "# hint: http://docs.h2o.ai/h2o/latest-stable/h2o-docs/data-science/algo-params/alpha.html#example\n",
    "# hint: http://docs.h2o.ai/h2o/latest-stable/h2o-py/docs/modeling.html#h2ogeneralizedlinearestimator\n",
    "# hint: don't forget to set the family type (family = \"binomial\")\n",
    "\n",
    "from h2o.estimators.glm import H2OGeneralizedLinearEstimator\n",
    "# TODO: add code here"
   ]
  },
  {
   "cell_type": "markdown",
   "metadata": {},
   "source": [
    "#### Inspect Performance\n",
    "**hint**: http://docs.h2o.ai/h2o/latest-stable/h2o-py/docs/metrics.html?#h2o.model.metrics_base.MetricsBase.auc"
   ]
  },
  {
   "cell_type": "code",
   "execution_count": null,
   "metadata": {
    "collapsed": true
   },
   "outputs": [],
   "source": [
    "# specify what the AUC for the train and validation datasets are\n",
    "# TODO: add code here"
   ]
  }
 ],
 "metadata": {
  "kernelspec": {
   "display_name": "Python 3.5",
   "language": "python",
   "name": "py_35"
  },
  "language_info": {
   "codemirror_mode": {
    "name": "ipython",
    "version": 3
   },
   "file_extension": ".py",
   "mimetype": "text/x-python",
   "name": "python",
   "nbconvert_exporter": "python",
   "pygments_lexer": "ipython3",
   "version": "3.5.1"
  }
 },
 "nbformat": 4,
 "nbformat_minor": 2
}
