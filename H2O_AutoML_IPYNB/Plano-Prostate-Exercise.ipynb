{
 "cells": [
  {
   "cell_type": "code",
   "execution_count": 1,
   "metadata": {
    "collapsed": true
   },
   "outputs": [],
   "source": [
    "import h2o"
   ]
  },
  {
   "cell_type": "code",
   "execution_count": 2,
   "metadata": {},
   "outputs": [
    {
     "name": "stderr",
     "output_type": "stream",
     "text": [
      "ERROR:h2o:Key init.version_check is not a valid config key\n"
     ]
    },
    {
     "name": "stdout",
     "output_type": "stream",
     "text": [
      "Checking whether there is an H2O instance running at http://localhost:54321. connected.\n"
     ]
    },
    {
     "data": {
      "text/html": [
       "<div style=\"overflow:auto\"><table style=\"width:50%\"><tr><td>H2O cluster uptime:</td>\n",
       "<td>3 hours 21 mins</td></tr>\n",
       "<tr><td>H2O cluster version:</td>\n",
       "<td>3.14.0.7</td></tr>\n",
       "<tr><td>H2O cluster version age:</td>\n",
       "<td>18 days </td></tr>\n",
       "<tr><td>H2O cluster name:</td>\n",
       "<td>H2O_from_python_avkashchauhan_s33m97</td></tr>\n",
       "<tr><td>H2O cluster total nodes:</td>\n",
       "<td>1</td></tr>\n",
       "<tr><td>H2O cluster free memory:</td>\n",
       "<td>3.181 Gb</td></tr>\n",
       "<tr><td>H2O cluster total cores:</td>\n",
       "<td>8</td></tr>\n",
       "<tr><td>H2O cluster allowed cores:</td>\n",
       "<td>8</td></tr>\n",
       "<tr><td>H2O cluster status:</td>\n",
       "<td>locked, healthy</td></tr>\n",
       "<tr><td>H2O connection url:</td>\n",
       "<td>http://localhost:54321</td></tr>\n",
       "<tr><td>H2O connection proxy:</td>\n",
       "<td>None</td></tr>\n",
       "<tr><td>H2O internal security:</td>\n",
       "<td>False</td></tr>\n",
       "<tr><td>H2O API Extensions:</td>\n",
       "<td>XGBoost, Algos, AutoML, Core V3, Core V4</td></tr>\n",
       "<tr><td>Python version:</td>\n",
       "<td>2.7.13 final</td></tr></table></div>"
      ],
      "text/plain": [
       "--------------------------  ----------------------------------------\n",
       "H2O cluster uptime:         3 hours 21 mins\n",
       "H2O cluster version:        3.14.0.7\n",
       "H2O cluster version age:    18 days\n",
       "H2O cluster name:           H2O_from_python_avkashchauhan_s33m97\n",
       "H2O cluster total nodes:    1\n",
       "H2O cluster free memory:    3.181 Gb\n",
       "H2O cluster total cores:    8\n",
       "H2O cluster allowed cores:  8\n",
       "H2O cluster status:         locked, healthy\n",
       "H2O connection url:         http://localhost:54321\n",
       "H2O connection proxy:\n",
       "H2O internal security:      False\n",
       "H2O API Extensions:         XGBoost, Algos, AutoML, Core V3, Core V4\n",
       "Python version:             2.7.13 final\n",
       "--------------------------  ----------------------------------------"
      ]
     },
     "metadata": {},
     "output_type": "display_data"
    }
   ],
   "source": [
    "h2o.init()"
   ]
  },
  {
   "cell_type": "code",
   "execution_count": 3,
   "metadata": {},
   "outputs": [
    {
     "name": "stdout",
     "output_type": "stream",
     "text": [
      "[WARNING] in <ipython-input-3-f797d33662e0> line 1:\n",
      "    >>> h2o.cluster_status()\n",
      "        ^^^^ Deprecated, use ``h2o.cluster().show_status(True)``.\n"
     ]
    },
    {
     "data": {
      "text/html": [
       "<div style=\"overflow:auto\"><table style=\"width:50%\"><tr><td>H2O cluster uptime:</td>\n",
       "<td>3 hours 21 mins</td></tr>\n",
       "<tr><td>H2O cluster version:</td>\n",
       "<td>3.14.0.7</td></tr>\n",
       "<tr><td>H2O cluster version age:</td>\n",
       "<td>18 days </td></tr>\n",
       "<tr><td>H2O cluster name:</td>\n",
       "<td>H2O_from_python_avkashchauhan_s33m97</td></tr>\n",
       "<tr><td>H2O cluster total nodes:</td>\n",
       "<td>1</td></tr>\n",
       "<tr><td>H2O cluster free memory:</td>\n",
       "<td>3.181 Gb</td></tr>\n",
       "<tr><td>H2O cluster total cores:</td>\n",
       "<td>8</td></tr>\n",
       "<tr><td>H2O cluster allowed cores:</td>\n",
       "<td>8</td></tr>\n",
       "<tr><td>H2O cluster status:</td>\n",
       "<td>locked, healthy</td></tr>\n",
       "<tr><td>H2O connection url:</td>\n",
       "<td>http://localhost:54321</td></tr>\n",
       "<tr><td>H2O connection proxy:</td>\n",
       "<td>None</td></tr>\n",
       "<tr><td>H2O internal security:</td>\n",
       "<td>False</td></tr>\n",
       "<tr><td>H2O API Extensions:</td>\n",
       "<td>XGBoost, Algos, AutoML, Core V3, Core V4</td></tr>\n",
       "<tr><td>Python version:</td>\n",
       "<td>2.7.13 final</td></tr></table></div>"
      ],
      "text/plain": [
       "--------------------------  ----------------------------------------\n",
       "H2O cluster uptime:         3 hours 21 mins\n",
       "H2O cluster version:        3.14.0.7\n",
       "H2O cluster version age:    18 days\n",
       "H2O cluster name:           H2O_from_python_avkashchauhan_s33m97\n",
       "H2O cluster total nodes:    1\n",
       "H2O cluster free memory:    3.181 Gb\n",
       "H2O cluster total cores:    8\n",
       "H2O cluster allowed cores:  8\n",
       "H2O cluster status:         locked, healthy\n",
       "H2O connection url:         http://localhost:54321\n",
       "H2O connection proxy:\n",
       "H2O internal security:      False\n",
       "H2O API Extensions:         XGBoost, Algos, AutoML, Core V3, Core V4\n",
       "Python version:             2.7.13 final\n",
       "--------------------------  ----------------------------------------"
      ]
     },
     "metadata": {},
     "output_type": "display_data"
    },
    {
     "data": {
      "text/html": [
       "<div style=\"overflow:auto\"><table style=\"width:50%\"><tr><td><b>Nodes info:</b></td>\n",
       "<td><b>Node 1</b></td></tr>\n",
       "<tr><td>h2o</td>\n",
       "<td>/127.0.0.1:54321</td></tr>\n",
       "<tr><td>healthy</td>\n",
       "<td>True</td></tr>\n",
       "<tr><td>last_ping</td>\n",
       "<td>1510181688778.0000000</td></tr>\n",
       "<tr><td>num_cpus</td>\n",
       "<td>8</td></tr>\n",
       "<tr><td>sys_load</td>\n",
       "<td>1.828125</td></tr>\n",
       "<tr><td>mem_value_size</td>\n",
       "<td>48524288</td></tr>\n",
       "<tr><td>free_mem</td>\n",
       "<td>3415979008.0000000</td></tr>\n",
       "<tr><td>pojo_mem</td>\n",
       "<td>353360896</td></tr>\n",
       "<tr><td>swap_mem</td>\n",
       "<td>0</td></tr>\n",
       "<tr><td>free_disk</td>\n",
       "<td>240084058112.0000000</td></tr>\n",
       "<tr><td>max_disk</td>\n",
       "<td>499987251200.0000000</td></tr>\n",
       "<tr><td>pid</td>\n",
       "<td>55933</td></tr>\n",
       "<tr><td>num_keys</td>\n",
       "<td>14727</td></tr>\n",
       "<tr><td>tcps_active</td>\n",
       "<td>0</td></tr>\n",
       "<tr><td>open_fds</td>\n",
       "<td>-1</td></tr>\n",
       "<tr><td>rpcs_active</td>\n",
       "<td>0</td></tr></table></div>"
      ],
      "text/plain": [
       "Nodes info:     Node 1\n",
       "--------------  ----------------\n",
       "h2o             /127.0.0.1:54321\n",
       "healthy         True\n",
       "last_ping       1510181688778\n",
       "num_cpus        8\n",
       "sys_load        1.828125\n",
       "mem_value_size  48524288\n",
       "free_mem        3415979008\n",
       "pojo_mem        353360896\n",
       "swap_mem        0\n",
       "free_disk       240084058112\n",
       "max_disk        499987251200\n",
       "pid             55933\n",
       "num_keys        14727\n",
       "tcps_active     0\n",
       "open_fds        -1\n",
       "rpcs_active     0"
      ]
     },
     "metadata": {},
     "output_type": "display_data"
    }
   ],
   "source": [
    "h2o.cluster_status()"
   ]
  },
  {
   "cell_type": "code",
   "execution_count": 4,
   "metadata": {},
   "outputs": [
    {
     "name": "stdout",
     "output_type": "stream",
     "text": [
      "Parse progress: |█████████████████████████████████████████████████████████| 100%\n"
     ]
    }
   ],
   "source": [
    "prostate_main = h2o.import_file(\"https://raw.githubusercontent.com/h2oai/h2o-tutorials/master/training/plano-tx/prostate.csv\")"
   ]
  },
  {
   "cell_type": "code",
   "execution_count": 5,
   "metadata": {},
   "outputs": [
    {
     "data": {
      "text/html": [
       "<table>\n",
       "<thead>\n",
       "<tr><th style=\"text-align: right;\">  ID</th><th style=\"text-align: right;\">  CAPSULE</th><th style=\"text-align: right;\">  AGE</th><th style=\"text-align: right;\">  RACE</th><th style=\"text-align: right;\">  DPROS</th><th style=\"text-align: right;\">  DCAPS</th><th style=\"text-align: right;\">  PSA</th><th style=\"text-align: right;\">  VOL</th><th style=\"text-align: right;\">  GLEASON</th></tr>\n",
       "</thead>\n",
       "<tbody>\n",
       "<tr><td style=\"text-align: right;\">   1</td><td style=\"text-align: right;\">        0</td><td style=\"text-align: right;\">   65</td><td style=\"text-align: right;\">     1</td><td style=\"text-align: right;\">      2</td><td style=\"text-align: right;\">      1</td><td style=\"text-align: right;\">  1.4</td><td style=\"text-align: right;\">  0  </td><td style=\"text-align: right;\">        6</td></tr>\n",
       "<tr><td style=\"text-align: right;\">   2</td><td style=\"text-align: right;\">        0</td><td style=\"text-align: right;\">   72</td><td style=\"text-align: right;\">     1</td><td style=\"text-align: right;\">      3</td><td style=\"text-align: right;\">      2</td><td style=\"text-align: right;\">  6.7</td><td style=\"text-align: right;\">  0  </td><td style=\"text-align: right;\">        7</td></tr>\n",
       "<tr><td style=\"text-align: right;\">   3</td><td style=\"text-align: right;\">        0</td><td style=\"text-align: right;\">   70</td><td style=\"text-align: right;\">     1</td><td style=\"text-align: right;\">      1</td><td style=\"text-align: right;\">      2</td><td style=\"text-align: right;\">  4.9</td><td style=\"text-align: right;\">  0  </td><td style=\"text-align: right;\">        6</td></tr>\n",
       "<tr><td style=\"text-align: right;\">   4</td><td style=\"text-align: right;\">        0</td><td style=\"text-align: right;\">   76</td><td style=\"text-align: right;\">     2</td><td style=\"text-align: right;\">      2</td><td style=\"text-align: right;\">      1</td><td style=\"text-align: right;\"> 51.2</td><td style=\"text-align: right;\"> 20  </td><td style=\"text-align: right;\">        7</td></tr>\n",
       "<tr><td style=\"text-align: right;\">   5</td><td style=\"text-align: right;\">        0</td><td style=\"text-align: right;\">   69</td><td style=\"text-align: right;\">     1</td><td style=\"text-align: right;\">      1</td><td style=\"text-align: right;\">      1</td><td style=\"text-align: right;\"> 12.3</td><td style=\"text-align: right;\"> 55.9</td><td style=\"text-align: right;\">        6</td></tr>\n",
       "<tr><td style=\"text-align: right;\">   6</td><td style=\"text-align: right;\">        1</td><td style=\"text-align: right;\">   71</td><td style=\"text-align: right;\">     1</td><td style=\"text-align: right;\">      3</td><td style=\"text-align: right;\">      2</td><td style=\"text-align: right;\">  3.3</td><td style=\"text-align: right;\">  0  </td><td style=\"text-align: right;\">        8</td></tr>\n",
       "<tr><td style=\"text-align: right;\">   7</td><td style=\"text-align: right;\">        0</td><td style=\"text-align: right;\">   68</td><td style=\"text-align: right;\">     2</td><td style=\"text-align: right;\">      4</td><td style=\"text-align: right;\">      2</td><td style=\"text-align: right;\"> 31.9</td><td style=\"text-align: right;\">  0  </td><td style=\"text-align: right;\">        7</td></tr>\n",
       "<tr><td style=\"text-align: right;\">   8</td><td style=\"text-align: right;\">        0</td><td style=\"text-align: right;\">   61</td><td style=\"text-align: right;\">     2</td><td style=\"text-align: right;\">      4</td><td style=\"text-align: right;\">      2</td><td style=\"text-align: right;\"> 66.7</td><td style=\"text-align: right;\"> 27.2</td><td style=\"text-align: right;\">        7</td></tr>\n",
       "<tr><td style=\"text-align: right;\">   9</td><td style=\"text-align: right;\">        0</td><td style=\"text-align: right;\">   69</td><td style=\"text-align: right;\">     1</td><td style=\"text-align: right;\">      1</td><td style=\"text-align: right;\">      1</td><td style=\"text-align: right;\">  3.9</td><td style=\"text-align: right;\"> 24  </td><td style=\"text-align: right;\">        7</td></tr>\n",
       "<tr><td style=\"text-align: right;\">  10</td><td style=\"text-align: right;\">        0</td><td style=\"text-align: right;\">   68</td><td style=\"text-align: right;\">     2</td><td style=\"text-align: right;\">      1</td><td style=\"text-align: right;\">      2</td><td style=\"text-align: right;\"> 13  </td><td style=\"text-align: right;\">  0  </td><td style=\"text-align: right;\">        6</td></tr>\n",
       "</tbody>\n",
       "</table>"
      ]
     },
     "metadata": {},
     "output_type": "display_data"
    },
    {
     "data": {
      "text/plain": []
     },
     "execution_count": 5,
     "metadata": {},
     "output_type": "execute_result"
    }
   ],
   "source": [
    "prostate_main"
   ]
  },
  {
   "cell_type": "code",
   "execution_count": 6,
   "metadata": {},
   "outputs": [
    {
     "name": "stdout",
     "output_type": "stream",
     "text": [
      "Rows:380\n",
      "Cols:9\n",
      "\n",
      "\n"
     ]
    },
    {
     "data": {
      "text/html": [
       "<table>\n",
       "<thead>\n",
       "<tr><th>       </th><th>ID           </th><th>CAPSULE       </th><th>AGE          </th><th>RACE          </th><th>DPROS        </th><th>DCAPS         </th><th>PSA          </th><th>VOL          </th><th>GLEASON      </th></tr>\n",
       "</thead>\n",
       "<tbody>\n",
       "<tr><td>type   </td><td>int          </td><td>int           </td><td>int          </td><td>int           </td><td>int          </td><td>int           </td><td>real         </td><td>real         </td><td>int          </td></tr>\n",
       "<tr><td>mins   </td><td>1.0          </td><td>0.0           </td><td>43.0         </td><td>0.0           </td><td>1.0          </td><td>1.0           </td><td>0.3          </td><td>0.0          </td><td>0.0          </td></tr>\n",
       "<tr><td>mean   </td><td>190.5        </td><td>0.402631578947</td><td>66.0394736842</td><td>1.08684210526 </td><td>2.27105263158</td><td>1.10789473684 </td><td>15.4086315789</td><td>15.8129210526</td><td>6.38421052632</td></tr>\n",
       "<tr><td>maxs   </td><td>380.0        </td><td>1.0           </td><td>79.0         </td><td>2.0           </td><td>4.0          </td><td>2.0           </td><td>139.7        </td><td>97.6         </td><td>9.0          </td></tr>\n",
       "<tr><td>sigma  </td><td>109.840793879</td><td>0.491074338963</td><td>6.52707126917</td><td>0.308773258025</td><td>1.00010761815</td><td>0.310656449351</td><td>19.9975726686</td><td>18.3476199673</td><td>1.09195337443</td></tr>\n",
       "<tr><td>zeros  </td><td>0            </td><td>227           </td><td>0            </td><td>3             </td><td>0            </td><td>0             </td><td>0            </td><td>167          </td><td>2            </td></tr>\n",
       "<tr><td>missing</td><td>0            </td><td>0             </td><td>0            </td><td>0             </td><td>0            </td><td>0             </td><td>0            </td><td>0            </td><td>0            </td></tr>\n",
       "<tr><td>0      </td><td>1.0          </td><td>0.0           </td><td>65.0         </td><td>1.0           </td><td>2.0          </td><td>1.0           </td><td>1.4          </td><td>0.0          </td><td>6.0          </td></tr>\n",
       "<tr><td>1      </td><td>2.0          </td><td>0.0           </td><td>72.0         </td><td>1.0           </td><td>3.0          </td><td>2.0           </td><td>6.7          </td><td>0.0          </td><td>7.0          </td></tr>\n",
       "<tr><td>2      </td><td>3.0          </td><td>0.0           </td><td>70.0         </td><td>1.0           </td><td>1.0          </td><td>2.0           </td><td>4.9          </td><td>0.0          </td><td>6.0          </td></tr>\n",
       "<tr><td>3      </td><td>4.0          </td><td>0.0           </td><td>76.0         </td><td>2.0           </td><td>2.0          </td><td>1.0           </td><td>51.2         </td><td>20.0         </td><td>7.0          </td></tr>\n",
       "<tr><td>4      </td><td>5.0          </td><td>0.0           </td><td>69.0         </td><td>1.0           </td><td>1.0          </td><td>1.0           </td><td>12.3         </td><td>55.9         </td><td>6.0          </td></tr>\n",
       "<tr><td>5      </td><td>6.0          </td><td>1.0           </td><td>71.0         </td><td>1.0           </td><td>3.0          </td><td>2.0           </td><td>3.3          </td><td>0.0          </td><td>8.0          </td></tr>\n",
       "<tr><td>6      </td><td>7.0          </td><td>0.0           </td><td>68.0         </td><td>2.0           </td><td>4.0          </td><td>2.0           </td><td>31.9         </td><td>0.0          </td><td>7.0          </td></tr>\n",
       "<tr><td>7      </td><td>8.0          </td><td>0.0           </td><td>61.0         </td><td>2.0           </td><td>4.0          </td><td>2.0           </td><td>66.7         </td><td>27.2         </td><td>7.0          </td></tr>\n",
       "<tr><td>8      </td><td>9.0          </td><td>0.0           </td><td>69.0         </td><td>1.0           </td><td>1.0          </td><td>1.0           </td><td>3.9          </td><td>24.0         </td><td>7.0          </td></tr>\n",
       "<tr><td>9      </td><td>10.0         </td><td>0.0           </td><td>68.0         </td><td>2.0           </td><td>1.0          </td><td>2.0           </td><td>13.0         </td><td>0.0          </td><td>6.0          </td></tr>\n",
       "</tbody>\n",
       "</table>"
      ]
     },
     "metadata": {},
     "output_type": "display_data"
    }
   ],
   "source": [
    "prostate_main.describe()"
   ]
  },
  {
   "cell_type": "code",
   "execution_count": 7,
   "metadata": {},
   "outputs": [
    {
     "data": {
      "text/html": [
       "<table>\n",
       "<thead>\n",
       "<tr><th style=\"text-align: right;\">  ID</th><th style=\"text-align: right;\">  CAPSULE</th><th style=\"text-align: right;\">  AGE</th><th style=\"text-align: right;\">  RACE</th><th style=\"text-align: right;\">  DPROS</th><th style=\"text-align: right;\">  DCAPS</th><th style=\"text-align: right;\">  PSA</th><th style=\"text-align: right;\">  VOL</th><th style=\"text-align: right;\">  GLEASON</th></tr>\n",
       "</thead>\n",
       "<tbody>\n",
       "<tr><td style=\"text-align: right;\">   1</td><td style=\"text-align: right;\">        0</td><td style=\"text-align: right;\">   65</td><td style=\"text-align: right;\">     1</td><td style=\"text-align: right;\">      2</td><td style=\"text-align: right;\">      1</td><td style=\"text-align: right;\">  1.4</td><td style=\"text-align: right;\">  0  </td><td style=\"text-align: right;\">        6</td></tr>\n",
       "<tr><td style=\"text-align: right;\">   2</td><td style=\"text-align: right;\">        0</td><td style=\"text-align: right;\">   72</td><td style=\"text-align: right;\">     1</td><td style=\"text-align: right;\">      3</td><td style=\"text-align: right;\">      2</td><td style=\"text-align: right;\">  6.7</td><td style=\"text-align: right;\">  0  </td><td style=\"text-align: right;\">        7</td></tr>\n",
       "<tr><td style=\"text-align: right;\">   3</td><td style=\"text-align: right;\">        0</td><td style=\"text-align: right;\">   70</td><td style=\"text-align: right;\">     1</td><td style=\"text-align: right;\">      1</td><td style=\"text-align: right;\">      2</td><td style=\"text-align: right;\">  4.9</td><td style=\"text-align: right;\">  0  </td><td style=\"text-align: right;\">        6</td></tr>\n",
       "<tr><td style=\"text-align: right;\">   4</td><td style=\"text-align: right;\">        0</td><td style=\"text-align: right;\">   76</td><td style=\"text-align: right;\">     2</td><td style=\"text-align: right;\">      2</td><td style=\"text-align: right;\">      1</td><td style=\"text-align: right;\"> 51.2</td><td style=\"text-align: right;\"> 20  </td><td style=\"text-align: right;\">        7</td></tr>\n",
       "<tr><td style=\"text-align: right;\">   5</td><td style=\"text-align: right;\">        0</td><td style=\"text-align: right;\">   69</td><td style=\"text-align: right;\">     1</td><td style=\"text-align: right;\">      1</td><td style=\"text-align: right;\">      1</td><td style=\"text-align: right;\"> 12.3</td><td style=\"text-align: right;\"> 55.9</td><td style=\"text-align: right;\">        6</td></tr>\n",
       "</tbody>\n",
       "</table>"
      ]
     },
     "metadata": {},
     "output_type": "display_data"
    },
    {
     "data": {
      "text/plain": []
     },
     "execution_count": 7,
     "metadata": {},
     "output_type": "execute_result"
    }
   ],
   "source": [
    "prostate_main.head(5)"
   ]
  },
  {
   "cell_type": "code",
   "execution_count": 8,
   "metadata": {},
   "outputs": [
    {
     "data": {
      "text/html": [
       "<table>\n",
       "<thead>\n",
       "<tr><th style=\"text-align: right;\">  ID</th><th style=\"text-align: right;\">  CAPSULE</th><th style=\"text-align: right;\">  AGE</th><th style=\"text-align: right;\">  RACE</th><th style=\"text-align: right;\">  DPROS</th><th style=\"text-align: right;\">  DCAPS</th><th style=\"text-align: right;\">  PSA</th><th style=\"text-align: right;\">  VOL</th><th style=\"text-align: right;\">  GLEASON</th></tr>\n",
       "</thead>\n",
       "<tbody>\n",
       "<tr><td style=\"text-align: right;\"> 376</td><td style=\"text-align: right;\">        0</td><td style=\"text-align: right;\">   58</td><td style=\"text-align: right;\">     2</td><td style=\"text-align: right;\">      3</td><td style=\"text-align: right;\">      1</td><td style=\"text-align: right;\"> 18.2</td><td style=\"text-align: right;\"> 28.6</td><td style=\"text-align: right;\">        7</td></tr>\n",
       "<tr><td style=\"text-align: right;\"> 377</td><td style=\"text-align: right;\">        0</td><td style=\"text-align: right;\">   69</td><td style=\"text-align: right;\">     2</td><td style=\"text-align: right;\">      1</td><td style=\"text-align: right;\">      1</td><td style=\"text-align: right;\">  7.9</td><td style=\"text-align: right;\"> 14.6</td><td style=\"text-align: right;\">        5</td></tr>\n",
       "<tr><td style=\"text-align: right;\"> 378</td><td style=\"text-align: right;\">        1</td><td style=\"text-align: right;\">   76</td><td style=\"text-align: right;\">     1</td><td style=\"text-align: right;\">      2</td><td style=\"text-align: right;\">      1</td><td style=\"text-align: right;\">  5.5</td><td style=\"text-align: right;\"> 53.9</td><td style=\"text-align: right;\">        8</td></tr>\n",
       "<tr><td style=\"text-align: right;\"> 379</td><td style=\"text-align: right;\">        0</td><td style=\"text-align: right;\">   69</td><td style=\"text-align: right;\">     2</td><td style=\"text-align: right;\">      2</td><td style=\"text-align: right;\">      1</td><td style=\"text-align: right;\">  1.5</td><td style=\"text-align: right;\">  8.6</td><td style=\"text-align: right;\">        5</td></tr>\n",
       "<tr><td style=\"text-align: right;\"> 380</td><td style=\"text-align: right;\">        0</td><td style=\"text-align: right;\">   69</td><td style=\"text-align: right;\">     1</td><td style=\"text-align: right;\">      2</td><td style=\"text-align: right;\">      1</td><td style=\"text-align: right;\">  1.9</td><td style=\"text-align: right;\"> 20.7</td><td style=\"text-align: right;\">        6</td></tr>\n",
       "</tbody>\n",
       "</table>"
      ]
     },
     "metadata": {},
     "output_type": "display_data"
    },
    {
     "data": {
      "text/plain": []
     },
     "execution_count": 8,
     "metadata": {},
     "output_type": "execute_result"
    }
   ],
   "source": [
    "prostate_main.tail(5)"
   ]
  },
  {
   "cell_type": "code",
   "execution_count": 9,
   "metadata": {},
   "outputs": [
    {
     "data": {
      "text/html": [
       "<table>\n",
       "<thead>\n",
       "<tr><th style=\"text-align: right;\">  AGE</th></tr>\n",
       "</thead>\n",
       "<tbody>\n",
       "<tr><td style=\"text-align: right;\">   65</td></tr>\n",
       "<tr><td style=\"text-align: right;\">   72</td></tr>\n",
       "<tr><td style=\"text-align: right;\">   70</td></tr>\n",
       "<tr><td style=\"text-align: right;\">   76</td></tr>\n",
       "<tr><td style=\"text-align: right;\">   69</td></tr>\n",
       "<tr><td style=\"text-align: right;\">   71</td></tr>\n",
       "<tr><td style=\"text-align: right;\">   68</td></tr>\n",
       "<tr><td style=\"text-align: right;\">   61</td></tr>\n",
       "<tr><td style=\"text-align: right;\">   69</td></tr>\n",
       "<tr><td style=\"text-align: right;\">   68</td></tr>\n",
       "</tbody>\n",
       "</table>"
      ]
     },
     "metadata": {},
     "output_type": "display_data"
    },
    {
     "data": {
      "text/plain": []
     },
     "execution_count": 9,
     "metadata": {},
     "output_type": "execute_result"
    }
   ],
   "source": [
    "prostate_main['AGE']"
   ]
  },
  {
   "cell_type": "code",
   "execution_count": 10,
   "metadata": {},
   "outputs": [
    {
     "data": {
      "text/plain": [
       "(380, 1)"
      ]
     },
     "execution_count": 10,
     "metadata": {},
     "output_type": "execute_result"
    }
   ],
   "source": [
    "prostate_main['AGE'].shape"
   ]
  },
  {
   "cell_type": "code",
   "execution_count": 11,
   "metadata": {},
   "outputs": [
    {
     "data": {
      "text/plain": [
       "(380, 9)"
      ]
     },
     "execution_count": 11,
     "metadata": {},
     "output_type": "execute_result"
    }
   ],
   "source": [
    "prostate_main.shape"
   ]
  },
  {
   "cell_type": "code",
   "execution_count": 12,
   "metadata": {},
   "outputs": [
    {
     "data": {
      "text/plain": [
       "[u'ID',\n",
       " u'CAPSULE',\n",
       " u'AGE',\n",
       " u'RACE',\n",
       " u'DPROS',\n",
       " u'DCAPS',\n",
       " u'PSA',\n",
       " u'VOL',\n",
       " u'GLEASON']"
      ]
     },
     "execution_count": 12,
     "metadata": {},
     "output_type": "execute_result"
    }
   ],
   "source": [
    "prostate_main.columns"
   ]
  },
  {
   "cell_type": "code",
   "execution_count": 13,
   "metadata": {},
   "outputs": [
    {
     "data": {
      "text/plain": [
       "[u'ID',\n",
       " u'CAPSULE',\n",
       " u'AGE',\n",
       " u'RACE',\n",
       " u'DPROS',\n",
       " u'DCAPS',\n",
       " u'PSA',\n",
       " u'VOL',\n",
       " u'GLEASON']"
      ]
     },
     "execution_count": 13,
     "metadata": {},
     "output_type": "execute_result"
    }
   ],
   "source": [
    "prostate_main.col_names"
   ]
  },
  {
   "cell_type": "code",
   "execution_count": 14,
   "metadata": {},
   "outputs": [
    {
     "data": {
      "text/plain": [
       "[0.0, 1.0, 2.0, 3.0, 4.0, 5.0, 6.0, 7.0, 8.0]"
      ]
     },
     "execution_count": 14,
     "metadata": {},
     "output_type": "execute_result"
    }
   ],
   "source": [
    "prostate_main.columns_by_type()"
   ]
  },
  {
   "cell_type": "code",
   "execution_count": 15,
   "metadata": {},
   "outputs": [
    {
     "data": {
      "text/plain": [
       "9"
      ]
     },
     "execution_count": 15,
     "metadata": {},
     "output_type": "execute_result"
    }
   ],
   "source": [
    "len(prostate_main.col_names)"
   ]
  },
  {
   "cell_type": "code",
   "execution_count": 16,
   "metadata": {},
   "outputs": [
    {
     "data": {
      "text/plain": [
       "[]"
      ]
     },
     "execution_count": 16,
     "metadata": {},
     "output_type": "execute_result"
    }
   ],
   "source": [
    "prostate_main.columns_by_type(\"categorical\")"
   ]
  },
  {
   "cell_type": "code",
   "execution_count": 17,
   "metadata": {},
   "outputs": [
    {
     "data": {
      "text/plain": [
       "[0.0, 1.0, 2.0, 3.0, 4.0, 5.0, 6.0, 7.0, 8.0]"
      ]
     },
     "execution_count": 17,
     "metadata": {},
     "output_type": "execute_result"
    }
   ],
   "source": [
    "prostate_main.columns_by_type(\"numeric\")"
   ]
  },
  {
   "cell_type": "code",
   "execution_count": 18,
   "metadata": {},
   "outputs": [
    {
     "data": {
      "text/plain": [
       "[0.0]"
      ]
     },
     "execution_count": 18,
     "metadata": {},
     "output_type": "execute_result"
    }
   ],
   "source": [
    "prostate_main['CAPSULE'].columns_by_type(\"numeric\")"
   ]
  },
  {
   "cell_type": "code",
   "execution_count": 19,
   "metadata": {
    "collapsed": true
   },
   "outputs": [],
   "source": [
    "response = \"CAPSULE\""
   ]
  },
  {
   "cell_type": "code",
   "execution_count": 22,
   "metadata": {},
   "outputs": [
    {
     "name": "stdout",
     "output_type": "stream",
     "text": [
      "[u'ID', u'AGE', u'RACE', u'DPROS', u'DCAPS', u'PSA', u'VOL', u'GLEASON']\n"
     ]
    }
   ],
   "source": [
    "features = prostate_main.col_names\n",
    "features.remove(response)\n",
    "print(features)"
   ]
  },
  {
   "cell_type": "code",
   "execution_count": 24,
   "metadata": {},
   "outputs": [],
   "source": [
    "prostate_main[response] = prostate_main[response].asfactor()"
   ]
  },
  {
   "cell_type": "code",
   "execution_count": 25,
   "metadata": {},
   "outputs": [
    {
     "data": {
      "text/plain": [
       "[1.0]"
      ]
     },
     "execution_count": 25,
     "metadata": {},
     "output_type": "execute_result"
    }
   ],
   "source": [
    "prostate_main.columns_by_type(\"categorical\")"
   ]
  },
  {
   "cell_type": "code",
   "execution_count": 26,
   "metadata": {},
   "outputs": [
    {
     "data": {
      "text/plain": [
       "[0.0]"
      ]
     },
     "execution_count": 26,
     "metadata": {},
     "output_type": "execute_result"
    }
   ],
   "source": [
    "prostate_main['CAPSULE'].columns_by_type(\"categorical\")"
   ]
  },
  {
   "cell_type": "code",
   "execution_count": 27,
   "metadata": {
    "collapsed": true
   },
   "outputs": [],
   "source": [
    "prostate_main[response] = prostate_main[response].asnumeric()"
   ]
  },
  {
   "cell_type": "code",
   "execution_count": 28,
   "metadata": {},
   "outputs": [
    {
     "data": {
      "text/html": [
       "<table>\n",
       "<thead>\n",
       "<tr><th style=\"text-align: right;\">  ID</th><th style=\"text-align: right;\">  CAPSULE</th><th style=\"text-align: right;\">  AGE</th><th style=\"text-align: right;\">  RACE</th><th style=\"text-align: right;\">  DPROS</th><th style=\"text-align: right;\">  DCAPS</th><th style=\"text-align: right;\">  PSA</th><th style=\"text-align: right;\">  VOL</th><th style=\"text-align: right;\">  GLEASON</th></tr>\n",
       "</thead>\n",
       "<tbody>\n",
       "<tr><td style=\"text-align: right;\">   1</td><td style=\"text-align: right;\">        0</td><td style=\"text-align: right;\">   65</td><td style=\"text-align: right;\">     1</td><td style=\"text-align: right;\">      2</td><td style=\"text-align: right;\">      1</td><td style=\"text-align: right;\">  1.4</td><td style=\"text-align: right;\">  0  </td><td style=\"text-align: right;\">        6</td></tr>\n",
       "<tr><td style=\"text-align: right;\">   2</td><td style=\"text-align: right;\">        0</td><td style=\"text-align: right;\">   72</td><td style=\"text-align: right;\">     1</td><td style=\"text-align: right;\">      3</td><td style=\"text-align: right;\">      2</td><td style=\"text-align: right;\">  6.7</td><td style=\"text-align: right;\">  0  </td><td style=\"text-align: right;\">        7</td></tr>\n",
       "<tr><td style=\"text-align: right;\">   3</td><td style=\"text-align: right;\">        0</td><td style=\"text-align: right;\">   70</td><td style=\"text-align: right;\">     1</td><td style=\"text-align: right;\">      1</td><td style=\"text-align: right;\">      2</td><td style=\"text-align: right;\">  4.9</td><td style=\"text-align: right;\">  0  </td><td style=\"text-align: right;\">        6</td></tr>\n",
       "<tr><td style=\"text-align: right;\">   4</td><td style=\"text-align: right;\">        0</td><td style=\"text-align: right;\">   76</td><td style=\"text-align: right;\">     2</td><td style=\"text-align: right;\">      2</td><td style=\"text-align: right;\">      1</td><td style=\"text-align: right;\"> 51.2</td><td style=\"text-align: right;\"> 20  </td><td style=\"text-align: right;\">        7</td></tr>\n",
       "<tr><td style=\"text-align: right;\">   5</td><td style=\"text-align: right;\">        0</td><td style=\"text-align: right;\">   69</td><td style=\"text-align: right;\">     1</td><td style=\"text-align: right;\">      1</td><td style=\"text-align: right;\">      1</td><td style=\"text-align: right;\"> 12.3</td><td style=\"text-align: right;\"> 55.9</td><td style=\"text-align: right;\">        6</td></tr>\n",
       "<tr><td style=\"text-align: right;\">   6</td><td style=\"text-align: right;\">        1</td><td style=\"text-align: right;\">   71</td><td style=\"text-align: right;\">     1</td><td style=\"text-align: right;\">      3</td><td style=\"text-align: right;\">      2</td><td style=\"text-align: right;\">  3.3</td><td style=\"text-align: right;\">  0  </td><td style=\"text-align: right;\">        8</td></tr>\n",
       "<tr><td style=\"text-align: right;\">   7</td><td style=\"text-align: right;\">        0</td><td style=\"text-align: right;\">   68</td><td style=\"text-align: right;\">     2</td><td style=\"text-align: right;\">      4</td><td style=\"text-align: right;\">      2</td><td style=\"text-align: right;\"> 31.9</td><td style=\"text-align: right;\">  0  </td><td style=\"text-align: right;\">        7</td></tr>\n",
       "<tr><td style=\"text-align: right;\">   8</td><td style=\"text-align: right;\">        0</td><td style=\"text-align: right;\">   61</td><td style=\"text-align: right;\">     2</td><td style=\"text-align: right;\">      4</td><td style=\"text-align: right;\">      2</td><td style=\"text-align: right;\"> 66.7</td><td style=\"text-align: right;\"> 27.2</td><td style=\"text-align: right;\">        7</td></tr>\n",
       "<tr><td style=\"text-align: right;\">   9</td><td style=\"text-align: right;\">        0</td><td style=\"text-align: right;\">   69</td><td style=\"text-align: right;\">     1</td><td style=\"text-align: right;\">      1</td><td style=\"text-align: right;\">      1</td><td style=\"text-align: right;\">  3.9</td><td style=\"text-align: right;\"> 24  </td><td style=\"text-align: right;\">        7</td></tr>\n",
       "<tr><td style=\"text-align: right;\">  10</td><td style=\"text-align: right;\">        0</td><td style=\"text-align: right;\">   68</td><td style=\"text-align: right;\">     2</td><td style=\"text-align: right;\">      1</td><td style=\"text-align: right;\">      2</td><td style=\"text-align: right;\"> 13  </td><td style=\"text-align: right;\">  0  </td><td style=\"text-align: right;\">        6</td></tr>\n",
       "</tbody>\n",
       "</table>"
      ]
     },
     "metadata": {},
     "output_type": "display_data"
    },
    {
     "data": {
      "text/plain": []
     },
     "execution_count": 28,
     "metadata": {},
     "output_type": "execute_result"
    }
   ],
   "source": [
    "prostate_main"
   ]
  },
  {
   "cell_type": "code",
   "execution_count": 29,
   "metadata": {},
   "outputs": [
    {
     "data": {
      "text/plain": [
       "<matplotlib.figure.Figure at 0x10c012f90>"
      ]
     },
     "metadata": {},
     "output_type": "display_data"
    },
    {
     "data": {
      "image/png": "[encoded data removed]",
      "text/plain": [
       "<matplotlib.figure.Figure at 0x10d4bdb50>"
      ]
     },
     "metadata": {},
     "output_type": "display_data"
    }
   ],
   "source": [
    "import pylab as pl\n",
    "pl.figure(figsize=(20,10))\n",
    "prostate_main.as_data_frame().hist()\n",
    "pl.show()"
   ]
  },
  {
   "cell_type": "code",
   "execution_count": 31,
   "metadata": {},
   "outputs": [
    {
     "data": {
      "image/png": "[encoded data removed]",
      "text/plain": [
       "<matplotlib.figure.Figure at 0x1096ac050>"
      ]
     },
     "metadata": {},
     "output_type": "display_data"
    }
   ],
   "source": [
    "import matplotlib.pyplot as plt\n",
    "plt.rcParams['figure.figsize'] = (12, 12)\n",
    "\n",
    "import seaborn as sns\n",
    "sns.set_context(\"notebook\")\n",
    "\n",
    "sns.pairplot(prostate_main.as_data_frame(), vars=[\"AGE\" , \"RACE\", \"DPROS\", \"DCAPS\"], hue=\"CAPSULE\");\n",
    "plt.show()"
   ]
  },
  {
   "cell_type": "code",
   "execution_count": 32,
   "metadata": {},
   "outputs": [
    {
     "name": "stdout",
     "output_type": "stream",
     "text": [
      "[0.0, 1.0, 2.0, 3.0, 4.0, 5.0, 6.0, 7.0, 8.0]\n",
      "9\n"
     ]
    },
    {
     "data": {
      "image/png": "[encoded data removed]",
      "text/plain": [
       "<matplotlib.figure.Figure at 0x1177ef510>"
      ]
     },
     "metadata": {},
     "output_type": "display_data"
    }
   ],
   "source": [
    "## Getting the list of numeric features from the given dataset:\n",
    "print(prostate_main.columns_by_type(\"numeric\"))\n",
    "print(len(prostate_main.col_names))\n",
    "\n",
    "## Now lets build Corralation matrix heatmap\n",
    "cor_matrix = prostate_main.as_data_frame().corr().round(2)\n",
    "# Plotting heatmap \n",
    "fig = plt.figure(figsize=(18,18));\n",
    "sns.heatmap(cor_matrix, annot=True, center=0, cmap = sns.diverging_palette(250, 10, as_cmap=True), ax=plt.subplot(111));\n",
    "plt.show()"
   ]
  },
  {
   "cell_type": "code",
   "execution_count": 33,
   "metadata": {
    "collapsed": true
   },
   "outputs": [],
   "source": [
    "from h2o.estimators.glm import H2OGeneralizedLinearEstimator"
   ]
  },
  {
   "cell_type": "code",
   "execution_count": 34,
   "metadata": {
    "collapsed": true
   },
   "outputs": [],
   "source": [
    "glm_prostate_reg = H2OGeneralizedLinearEstimator()"
   ]
  },
  {
   "cell_type": "code",
   "execution_count": 35,
   "metadata": {},
   "outputs": [
    {
     "name": "stdout",
     "output_type": "stream",
     "text": [
      "glm Model Build progress: |███████████████████████████████████████████████| 100%\n"
     ]
    }
   ],
   "source": [
    "glm_prostate_reg.train(x = features, y  = response, training_frame= prostate_main)"
   ]
  },
  {
   "cell_type": "code",
   "execution_count": 36,
   "metadata": {},
   "outputs": [
    {
     "name": "stdout",
     "output_type": "stream",
     "text": [
      "Model Details\n",
      "=============\n",
      "H2OGeneralizedLinearEstimator :  Generalized Linear Modeling\n",
      "Model Key:  GLM_model_python_1510169571676_8335\n",
      "\n",
      "\n",
      "ModelMetricsRegressionGLM: glm\n",
      "** Reported on train data. **\n",
      "\n",
      "MSE: 0.171166559131\n",
      "RMSE: 0.413722804702\n",
      "MAE: 0.360095170207\n",
      "RMSLE: 0.298422968136\n",
      "R^2: 0.288346113315\n",
      "Mean Residual Deviance: 0.171166559131\n",
      "Null degrees of freedom: 379\n",
      "Residual degrees of freedom: 371\n",
      "Null deviance: 91.3973684211\n",
      "Residual deviance: 65.0432924697\n",
      "AIC: 427.648381952\n",
      "Scoring History: \n"
     ]
    },
    {
     "data": {
      "text/html": [
       "<div style=\"overflow:auto\"><table style=\"width:50%\"><tr><td><b></b></td>\n",
       "<td><b>timestamp</b></td>\n",
       "<td><b>duration</b></td>\n",
       "<td><b>iterations</b></td>\n",
       "<td><b>negative_log_likelihood</b></td>\n",
       "<td><b>objective</b></td></tr>\n",
       "<tr><td></td>\n",
       "<td>2017-11-08 15:10:37</td>\n",
       "<td> 0.000 sec</td>\n",
       "<td>0</td>\n",
       "<td>91.3973684</td>\n",
       "<td>0.2405194</td></tr></table></div>"
      ],
      "text/plain": [
       "    timestamp            duration    iterations    negative_log_likelihood    objective\n",
       "--  -------------------  ----------  ------------  -------------------------  -----------\n",
       "    2017-11-08 15:10:37  0.000 sec   0             91.3974                    0.240519"
      ]
     },
     "metadata": {},
     "output_type": "display_data"
    },
    {
     "data": {
      "text/plain": []
     },
     "execution_count": 36,
     "metadata": {},
     "output_type": "execute_result"
    }
   ],
   "source": [
    "glm_prostate_reg"
   ]
  },
  {
   "cell_type": "code",
   "execution_count": 37,
   "metadata": {
    "collapsed": true
   },
   "outputs": [],
   "source": [
    "prostate_train, prostate_valid = prostate_main.split_frame(ratios=[0.9])"
   ]
  },
  {
   "cell_type": "code",
   "execution_count": 38,
   "metadata": {},
   "outputs": [
    {
     "name": "stdout",
     "output_type": "stream",
     "text": [
      "(339, 9)\n",
      "(41, 9)\n"
     ]
    }
   ],
   "source": [
    "print(prostate_train.shape)\n",
    "print(prostate_valid.shape)"
   ]
  },
  {
   "cell_type": "code",
   "execution_count": 39,
   "metadata": {
    "collapsed": true
   },
   "outputs": [],
   "source": [
    "prostate_train, prostate_valid, prostate_test = prostate_main.split_frame(ratios=[0.8,0.1])"
   ]
  },
  {
   "cell_type": "code",
   "execution_count": 40,
   "metadata": {},
   "outputs": [
    {
     "name": "stdout",
     "output_type": "stream",
     "text": [
      "(308, 9)\n",
      "(30, 9)\n",
      "(42, 9)\n"
     ]
    }
   ],
   "source": [
    "print(prostate_train.shape)\n",
    "print(prostate_valid.shape)\n",
    "print(prostate_test.shape)\n"
   ]
  },
  {
   "cell_type": "code",
   "execution_count": 42,
   "metadata": {},
   "outputs": [
    {
     "name": "stdout",
     "output_type": "stream",
     "text": [
      "glm Model Build progress: |███████████████████████████████████████████████| 100%\n"
     ]
    }
   ],
   "source": [
    "glm_prostate_reg.train(x = features, y  = response, training_frame= prostate_train,validation_frame=prostate_valid)"
   ]
  },
  {
   "cell_type": "code",
   "execution_count": 43,
   "metadata": {},
   "outputs": [
    {
     "name": "stdout",
     "output_type": "stream",
     "text": [
      "Model Details\n",
      "=============\n",
      "H2OGeneralizedLinearEstimator :  Generalized Linear Modeling\n",
      "Model Key:  GLM_model_python_1510169571676_8337\n",
      "\n",
      "\n",
      "ModelMetricsRegressionGLM: glm\n",
      "** Reported on train data. **\n",
      "\n",
      "MSE: 0.175079978959\n",
      "RMSE: 0.418425595487\n",
      "MAE: 0.369476016492\n",
      "RMSLE: 0.299110256266\n",
      "R^2: 0.282247747452\n",
      "Mean Residual Deviance: 0.175079978959\n",
      "Null degrees of freedom: 307\n",
      "Residual degrees of freedom: 299\n",
      "Null deviance: 75.1298701299\n",
      "Residual deviance: 53.9246335194\n",
      "AIC: 357.372321308\n",
      "\n",
      "ModelMetricsRegressionGLM: glm\n",
      "** Reported on validation data. **\n",
      "\n",
      "MSE: 0.122963815237\n",
      "RMSE: 0.350661967196\n",
      "MAE: 0.308566583728\n",
      "RMSLE: 0.253824435737\n",
      "R^2: 0.446662831432\n",
      "Mean Residual Deviance: 0.122963815237\n",
      "Null degrees of freedom: 29\n",
      "Residual degrees of freedom: 21\n",
      "Null deviance: 6.90293472761\n",
      "Residual deviance: 3.68891445712\n",
      "AIC: 42.2603574337\n",
      "Scoring History: \n"
     ]
    },
    {
     "data": {
      "text/html": [
       "<div style=\"overflow:auto\"><table style=\"width:50%\"><tr><td><b></b></td>\n",
       "<td><b>timestamp</b></td>\n",
       "<td><b>duration</b></td>\n",
       "<td><b>iterations</b></td>\n",
       "<td><b>negative_log_likelihood</b></td>\n",
       "<td><b>objective</b></td></tr>\n",
       "<tr><td></td>\n",
       "<td>2017-11-08 15:13:01</td>\n",
       "<td> 0.000 sec</td>\n",
       "<td>0</td>\n",
       "<td>75.1298701</td>\n",
       "<td>0.2439281</td></tr></table></div>"
      ],
      "text/plain": [
       "    timestamp            duration    iterations    negative_log_likelihood    objective\n",
       "--  -------------------  ----------  ------------  -------------------------  -----------\n",
       "    2017-11-08 15:13:01  0.000 sec   0             75.1299                    0.243928"
      ]
     },
     "metadata": {},
     "output_type": "display_data"
    },
    {
     "data": {
      "text/plain": []
     },
     "execution_count": 43,
     "metadata": {},
     "output_type": "execute_result"
    }
   ],
   "source": [
    "glm_prostate_reg"
   ]
  },
  {
   "cell_type": "code",
   "execution_count": 45,
   "metadata": {},
   "outputs": [
    {
     "name": "stdout",
     "output_type": "stream",
     "text": [
      "glm prediction progress: |████████████████████████████████████████████████| 100%\n"
     ]
    }
   ],
   "source": [
    "glm_pred = glm_prostate_reg.predict(prostate_test)"
   ]
  },
  {
   "cell_type": "code",
   "execution_count": 46,
   "metadata": {},
   "outputs": [
    {
     "data": {
      "text/html": [
       "<table>\n",
       "<thead>\n",
       "<tr><th style=\"text-align: right;\">  predict</th></tr>\n",
       "</thead>\n",
       "<tbody>\n",
       "<tr><td style=\"text-align: right;\"> 0.457253</td></tr>\n",
       "<tr><td style=\"text-align: right;\"> 0.604067</td></tr>\n",
       "<tr><td style=\"text-align: right;\"> 0.955888</td></tr>\n",
       "<tr><td style=\"text-align: right;\"> 0.301697</td></tr>\n",
       "<tr><td style=\"text-align: right;\"> 0.429837</td></tr>\n",
       "<tr><td style=\"text-align: right;\"> 0.960295</td></tr>\n",
       "<tr><td style=\"text-align: right;\"> 0.104404</td></tr>\n",
       "<tr><td style=\"text-align: right;\"> 0.535231</td></tr>\n",
       "<tr><td style=\"text-align: right;\"> 0.383497</td></tr>\n",
       "<tr><td style=\"text-align: right;\"> 0.894026</td></tr>\n",
       "</tbody>\n",
       "</table>"
      ]
     },
     "metadata": {},
     "output_type": "display_data"
    },
    {
     "data": {
      "text/plain": []
     },
     "execution_count": 46,
     "metadata": {},
     "output_type": "execute_result"
    }
   ],
   "source": [
    "glm_pred"
   ]
  },
  {
   "cell_type": "code",
   "execution_count": 49,
   "metadata": {},
   "outputs": [
    {
     "ename": "AttributeError",
     "evalue": "'NoneType' object has no attribute 'r2'",
     "output_type": "error",
     "traceback": [
      "\u001b[0;31m---------------------------------------------------------------------------\u001b[0m",
      "\u001b[0;31mAttributeError\u001b[0m                            Traceback (most recent call last)",
      "\u001b[0;32m<ipython-input-49-7fbbd7042389>\u001b[0m in \u001b[0;36m<module>\u001b[0;34m()\u001b[0m\n\u001b[1;32m      1\u001b[0m \u001b[0mglm_prostate_reg\u001b[0m\u001b[0;34m.\u001b[0m\u001b[0mmodel_performance\u001b[0m\u001b[0;34m(\u001b[0m\u001b[0mtrain\u001b[0m\u001b[0;34m=\u001b[0m\u001b[0mTrue\u001b[0m\u001b[0;34m)\u001b[0m\u001b[0;34m\u001b[0m\u001b[0m\n\u001b[1;32m      2\u001b[0m \u001b[0mglm_prostate_reg\u001b[0m\u001b[0;34m.\u001b[0m\u001b[0mmodel_performance\u001b[0m\u001b[0;34m(\u001b[0m\u001b[0mvalid\u001b[0m\u001b[0;34m=\u001b[0m\u001b[0mTrue\u001b[0m\u001b[0;34m)\u001b[0m\u001b[0;34m\u001b[0m\u001b[0m\n\u001b[0;32m----> 3\u001b[0;31m \u001b[0mglm_prostate_reg\u001b[0m\u001b[0;34m.\u001b[0m\u001b[0mmodel_performance\u001b[0m\u001b[0;34m(\u001b[0m\u001b[0mxval\u001b[0m\u001b[0;34m=\u001b[0m\u001b[0mTrue\u001b[0m\u001b[0;34m)\u001b[0m\u001b[0;34m.\u001b[0m\u001b[0mr2\u001b[0m\u001b[0;34m(\u001b[0m\u001b[0;34m)\u001b[0m\u001b[0;34m\u001b[0m\u001b[0m\n\u001b[0m",
      "\u001b[0;31mAttributeError\u001b[0m: 'NoneType' object has no attribute 'r2'"
     ]
    }
   ],
   "source": [
    "glm_prostate_reg.model_performance(train=True)\n",
    "glm_prostate_reg.model_performance(valid=True)\n",
    "glm_prostate_reg.model_performance(xval=True)"
   ]
  },
  {
   "cell_type": "code",
   "execution_count": 52,
   "metadata": {},
   "outputs": [
    {
     "name": "stdout",
     "output_type": "stream",
     "text": [
      "0.282247747452\n",
      "0.446662831432\n"
     ]
    },
    {
     "ename": "AttributeError",
     "evalue": "'NoneType' object has no attribute 'r2'",
     "output_type": "error",
     "traceback": [
      "\u001b[0;31m---------------------------------------------------------------------------\u001b[0m",
      "\u001b[0;31mAttributeError\u001b[0m                            Traceback (most recent call last)",
      "\u001b[0;32m<ipython-input-52-6b71863ab85a>\u001b[0m in \u001b[0;36m<module>\u001b[0;34m()\u001b[0m\n\u001b[1;32m      1\u001b[0m \u001b[0;32mprint\u001b[0m\u001b[0;34m(\u001b[0m\u001b[0mglm_prostate_reg\u001b[0m\u001b[0;34m.\u001b[0m\u001b[0mmodel_performance\u001b[0m\u001b[0;34m(\u001b[0m\u001b[0mtrain\u001b[0m\u001b[0;34m=\u001b[0m\u001b[0mTrue\u001b[0m\u001b[0;34m)\u001b[0m\u001b[0;34m.\u001b[0m\u001b[0mr2\u001b[0m\u001b[0;34m(\u001b[0m\u001b[0;34m)\u001b[0m\u001b[0;34m)\u001b[0m\u001b[0;34m\u001b[0m\u001b[0m\n\u001b[1;32m      2\u001b[0m \u001b[0;32mprint\u001b[0m\u001b[0;34m(\u001b[0m\u001b[0mglm_prostate_reg\u001b[0m\u001b[0;34m.\u001b[0m\u001b[0mmodel_performance\u001b[0m\u001b[0;34m(\u001b[0m\u001b[0mvalid\u001b[0m\u001b[0;34m=\u001b[0m\u001b[0mTrue\u001b[0m\u001b[0;34m)\u001b[0m\u001b[0;34m.\u001b[0m\u001b[0mr2\u001b[0m\u001b[0;34m(\u001b[0m\u001b[0;34m)\u001b[0m\u001b[0;34m)\u001b[0m\u001b[0;34m\u001b[0m\u001b[0m\n\u001b[0;32m----> 3\u001b[0;31m \u001b[0;32mprint\u001b[0m\u001b[0;34m(\u001b[0m\u001b[0mglm_prostate_reg\u001b[0m\u001b[0;34m.\u001b[0m\u001b[0mmodel_performance\u001b[0m\u001b[0;34m(\u001b[0m\u001b[0mxval\u001b[0m\u001b[0;34m=\u001b[0m\u001b[0mTrue\u001b[0m\u001b[0;34m)\u001b[0m\u001b[0;34m.\u001b[0m\u001b[0mr2\u001b[0m\u001b[0;34m(\u001b[0m\u001b[0;34m)\u001b[0m\u001b[0;34m)\u001b[0m\u001b[0;34m\u001b[0m\u001b[0m\n\u001b[0m",
      "\u001b[0;31mAttributeError\u001b[0m: 'NoneType' object has no attribute 'r2'"
     ]
    }
   ],
   "source": [
    "print(glm_prostate_reg.model_performance(train=True).r2())\n",
    "print(glm_prostate_reg.model_performance(valid=True).r2())\n",
    "print(glm_prostate_reg.model_performance(xval=True).r2())"
   ]
  },
  {
   "cell_type": "code",
   "execution_count": 64,
   "metadata": {
    "collapsed": true
   },
   "outputs": [],
   "source": [
    "glm_prostate_xval = H2OGeneralizedLinearEstimator(nfolds = 5, family = \"binomial\")"
   ]
  },
  {
   "cell_type": "code",
   "execution_count": 65,
   "metadata": {},
   "outputs": [
    {
     "name": "stdout",
     "output_type": "stream",
     "text": [
      "glm Model Build progress: |███████████████████████████████████████████████| 100%\n"
     ]
    }
   ],
   "source": [
    "glm_prostate_xval.train(x = features, y = response, training_frame= prostate_main)"
   ]
  },
  {
   "cell_type": "code",
   "execution_count": 66,
   "metadata": {},
   "outputs": [
    {
     "name": "stdout",
     "output_type": "stream",
     "text": [
      "Model Details\n",
      "=============\n",
      "H2OGeneralizedLinearEstimator :  Generalized Linear Modeling\n",
      "Model Key:  GLM_model_python_1510169571676_8341\n",
      "\n",
      "\n",
      "ModelMetricsBinomialGLM: glm\n",
      "** Reported on train data. **\n",
      "\n",
      "MSE: 0.165329175291\n",
      "RMSE: 0.40660690512\n",
      "LogLoss: 0.495921946388\n",
      "Null degrees of freedom: 379\n",
      "Residual degrees of freedom: 371\n",
      "Null deviance: 512.288840185\n",
      "Residual deviance: 376.900679255\n",
      "AIC: 394.900679255\n",
      "AUC: 0.827387636406\n",
      "Gini: 0.654775272811\n",
      "Confusion Matrix (Act/Pred) for max f1 @ threshold = 0.273868116441: \n"
     ]
    },
    {
     "data": {
      "text/html": [
       "<div style=\"overflow:auto\"><table style=\"width:50%\"><tr><td><b></b></td>\n",
       "<td><b>0</b></td>\n",
       "<td><b>1</b></td>\n",
       "<td><b>Error</b></td>\n",
       "<td><b>Rate</b></td></tr>\n",
       "<tr><td>0</td>\n",
       "<td>142.0</td>\n",
       "<td>85.0</td>\n",
       "<td>0.3744</td>\n",
       "<td> (85.0/227.0)</td></tr>\n",
       "<tr><td>1</td>\n",
       "<td>18.0</td>\n",
       "<td>135.0</td>\n",
       "<td>0.1176</td>\n",
       "<td> (18.0/153.0)</td></tr>\n",
       "<tr><td>Total</td>\n",
       "<td>160.0</td>\n",
       "<td>220.0</td>\n",
       "<td>0.2711</td>\n",
       "<td> (103.0/380.0)</td></tr></table></div>"
      ],
      "text/plain": [
       "       0    1    Error    Rate\n",
       "-----  ---  ---  -------  -------------\n",
       "0      142  85   0.3744   (85.0/227.0)\n",
       "1      18   135  0.1176   (18.0/153.0)\n",
       "Total  160  220  0.2711   (103.0/380.0)"
      ]
     },
     "metadata": {},
     "output_type": "display_data"
    },
    {
     "name": "stdout",
     "output_type": "stream",
     "text": [
      "Maximum Metrics: Maximum metrics at their respective thresholds\n",
      "\n"
     ]
    },
    {
     "data": {
      "text/html": [
       "<div style=\"overflow:auto\"><table style=\"width:50%\"><tr><td><b>metric</b></td>\n",
       "<td><b>threshold</b></td>\n",
       "<td><b>value</b></td>\n",
       "<td><b>idx</b></td></tr>\n",
       "<tr><td>max f1</td>\n",
       "<td>0.2738681</td>\n",
       "<td>0.7238606</td>\n",
       "<td>219.0</td></tr>\n",
       "<tr><td>max f2</td>\n",
       "<td>0.1476253</td>\n",
       "<td>0.8187773</td>\n",
       "<td>303.0</td></tr>\n",
       "<tr><td>max f0point5</td>\n",
       "<td>0.5807376</td>\n",
       "<td>0.7142857</td>\n",
       "<td>99.0</td></tr>\n",
       "<tr><td>max accuracy</td>\n",
       "<td>0.4560958</td>\n",
       "<td>0.7631579</td>\n",
       "<td>148.0</td></tr>\n",
       "<tr><td>max precision</td>\n",
       "<td>0.9986394</td>\n",
       "<td>1.0</td>\n",
       "<td>0.0</td></tr>\n",
       "<tr><td>max recall</td>\n",
       "<td>0.0623959</td>\n",
       "<td>1.0</td>\n",
       "<td>357.0</td></tr>\n",
       "<tr><td>max specificity</td>\n",
       "<td>0.9986394</td>\n",
       "<td>1.0</td>\n",
       "<td>0.0</td></tr>\n",
       "<tr><td>max absolute_mcc</td>\n",
       "<td>0.4560958</td>\n",
       "<td>0.5056595</td>\n",
       "<td>148.0</td></tr>\n",
       "<tr><td>max min_per_class_accuracy</td>\n",
       "<td>0.3817675</td>\n",
       "<td>0.7450980</td>\n",
       "<td>170.0</td></tr>\n",
       "<tr><td>max mean_per_class_accuracy</td>\n",
       "<td>0.2738681</td>\n",
       "<td>0.7539518</td>\n",
       "<td>219.0</td></tr></table></div>"
      ],
      "text/plain": [
       "metric                       threshold    value     idx\n",
       "---------------------------  -----------  --------  -----\n",
       "max f1                       0.273868     0.723861  219\n",
       "max f2                       0.147625     0.818777  303\n",
       "max f0point5                 0.580738     0.714286  99\n",
       "max accuracy                 0.456096     0.763158  148\n",
       "max precision                0.998639     1         0\n",
       "max recall                   0.0623959    1         357\n",
       "max specificity              0.998639     1         0\n",
       "max absolute_mcc             0.456096     0.50566   148\n",
       "max min_per_class_accuracy   0.381768     0.745098  170\n",
       "max mean_per_class_accuracy  0.273868     0.753952  219"
      ]
     },
     "metadata": {},
     "output_type": "display_data"
    },
    {
     "name": "stdout",
     "output_type": "stream",
     "text": [
      "Gains/Lift Table: Avg response rate: 40.26 %\n",
      "\n"
     ]
    },
    {
     "data": {
      "text/html": [
       "<div style=\"overflow:auto\"><table style=\"width:50%\"><tr><td><b></b></td>\n",
       "<td><b>group</b></td>\n",
       "<td><b>cumulative_data_fraction</b></td>\n",
       "<td><b>lower_threshold</b></td>\n",
       "<td><b>lift</b></td>\n",
       "<td><b>cumulative_lift</b></td>\n",
       "<td><b>response_rate</b></td>\n",
       "<td><b>cumulative_response_rate</b></td>\n",
       "<td><b>capture_rate</b></td>\n",
       "<td><b>cumulative_capture_rate</b></td>\n",
       "<td><b>gain</b></td>\n",
       "<td><b>cumulative_gain</b></td></tr>\n",
       "<tr><td></td>\n",
       "<td>1</td>\n",
       "<td>0.0105263</td>\n",
       "<td>0.9867979</td>\n",
       "<td>2.4836601</td>\n",
       "<td>2.4836601</td>\n",
       "<td>1.0</td>\n",
       "<td>1.0</td>\n",
       "<td>0.0261438</td>\n",
       "<td>0.0261438</td>\n",
       "<td>148.3660131</td>\n",
       "<td>148.3660131</td></tr>\n",
       "<tr><td></td>\n",
       "<td>2</td>\n",
       "<td>0.0210526</td>\n",
       "<td>0.9767913</td>\n",
       "<td>2.4836601</td>\n",
       "<td>2.4836601</td>\n",
       "<td>1.0</td>\n",
       "<td>1.0</td>\n",
       "<td>0.0261438</td>\n",
       "<td>0.0522876</td>\n",
       "<td>148.3660131</td>\n",
       "<td>148.3660131</td></tr>\n",
       "<tr><td></td>\n",
       "<td>3</td>\n",
       "<td>0.0315789</td>\n",
       "<td>0.9666501</td>\n",
       "<td>2.4836601</td>\n",
       "<td>2.4836601</td>\n",
       "<td>1.0</td>\n",
       "<td>1.0</td>\n",
       "<td>0.0261438</td>\n",
       "<td>0.0784314</td>\n",
       "<td>148.3660131</td>\n",
       "<td>148.3660131</td></tr>\n",
       "<tr><td></td>\n",
       "<td>4</td>\n",
       "<td>0.0421053</td>\n",
       "<td>0.9570197</td>\n",
       "<td>2.4836601</td>\n",
       "<td>2.4836601</td>\n",
       "<td>1.0</td>\n",
       "<td>1.0</td>\n",
       "<td>0.0261438</td>\n",
       "<td>0.1045752</td>\n",
       "<td>148.3660131</td>\n",
       "<td>148.3660131</td></tr>\n",
       "<tr><td></td>\n",
       "<td>5</td>\n",
       "<td>0.05</td>\n",
       "<td>0.9399771</td>\n",
       "<td>2.4836601</td>\n",
       "<td>2.4836601</td>\n",
       "<td>1.0</td>\n",
       "<td>1.0</td>\n",
       "<td>0.0196078</td>\n",
       "<td>0.1241830</td>\n",
       "<td>148.3660131</td>\n",
       "<td>148.3660131</td></tr>\n",
       "<tr><td></td>\n",
       "<td>6</td>\n",
       "<td>0.1</td>\n",
       "<td>0.8274993</td>\n",
       "<td>1.8300654</td>\n",
       "<td>2.1568627</td>\n",
       "<td>0.7368421</td>\n",
       "<td>0.8684211</td>\n",
       "<td>0.0915033</td>\n",
       "<td>0.2156863</td>\n",
       "<td>83.0065359</td>\n",
       "<td>115.6862745</td></tr>\n",
       "<tr><td></td>\n",
       "<td>7</td>\n",
       "<td>0.15</td>\n",
       "<td>0.7649272</td>\n",
       "<td>1.9607843</td>\n",
       "<td>2.0915033</td>\n",
       "<td>0.7894737</td>\n",
       "<td>0.8421053</td>\n",
       "<td>0.0980392</td>\n",
       "<td>0.3137255</td>\n",
       "<td>96.0784314</td>\n",
       "<td>109.1503268</td></tr>\n",
       "<tr><td></td>\n",
       "<td>8</td>\n",
       "<td>0.2</td>\n",
       "<td>0.6596141</td>\n",
       "<td>1.8300654</td>\n",
       "<td>2.0261438</td>\n",
       "<td>0.7368421</td>\n",
       "<td>0.8157895</td>\n",
       "<td>0.0915033</td>\n",
       "<td>0.4052288</td>\n",
       "<td>83.0065359</td>\n",
       "<td>102.6143791</td></tr>\n",
       "<tr><td></td>\n",
       "<td>9</td>\n",
       "<td>0.3</td>\n",
       "<td>0.5523884</td>\n",
       "<td>1.5032680</td>\n",
       "<td>1.8518519</td>\n",
       "<td>0.6052632</td>\n",
       "<td>0.7456140</td>\n",
       "<td>0.1503268</td>\n",
       "<td>0.5555556</td>\n",
       "<td>50.3267974</td>\n",
       "<td>85.1851852</td></tr>\n",
       "<tr><td></td>\n",
       "<td>10</td>\n",
       "<td>0.4</td>\n",
       "<td>0.4390252</td>\n",
       "<td>1.3725490</td>\n",
       "<td>1.7320261</td>\n",
       "<td>0.5526316</td>\n",
       "<td>0.6973684</td>\n",
       "<td>0.1372549</td>\n",
       "<td>0.6928105</td>\n",
       "<td>37.2549020</td>\n",
       "<td>73.2026144</td></tr>\n",
       "<tr><td></td>\n",
       "<td>11</td>\n",
       "<td>0.5</td>\n",
       "<td>0.3320543</td>\n",
       "<td>0.9803922</td>\n",
       "<td>1.5816993</td>\n",
       "<td>0.3947368</td>\n",
       "<td>0.6368421</td>\n",
       "<td>0.0980392</td>\n",
       "<td>0.7908497</td>\n",
       "<td>-1.9607843</td>\n",
       "<td>58.1699346</td></tr>\n",
       "<tr><td></td>\n",
       "<td>12</td>\n",
       "<td>0.6</td>\n",
       "<td>0.2519998</td>\n",
       "<td>0.9150327</td>\n",
       "<td>1.4705882</td>\n",
       "<td>0.3684211</td>\n",
       "<td>0.5921053</td>\n",
       "<td>0.0915033</td>\n",
       "<td>0.8823529</td>\n",
       "<td>-8.4967320</td>\n",
       "<td>47.0588235</td></tr>\n",
       "<tr><td></td>\n",
       "<td>13</td>\n",
       "<td>0.7</td>\n",
       "<td>0.2008203</td>\n",
       "<td>0.4575163</td>\n",
       "<td>1.3258637</td>\n",
       "<td>0.1842105</td>\n",
       "<td>0.5338346</td>\n",
       "<td>0.0457516</td>\n",
       "<td>0.9281046</td>\n",
       "<td>-54.2483660</td>\n",
       "<td>32.5863679</td></tr>\n",
       "<tr><td></td>\n",
       "<td>14</td>\n",
       "<td>0.8</td>\n",
       "<td>0.1469887</td>\n",
       "<td>0.5228758</td>\n",
       "<td>1.2254902</td>\n",
       "<td>0.2105263</td>\n",
       "<td>0.4934211</td>\n",
       "<td>0.0522876</td>\n",
       "<td>0.9803922</td>\n",
       "<td>-47.7124183</td>\n",
       "<td>22.5490196</td></tr>\n",
       "<tr><td></td>\n",
       "<td>15</td>\n",
       "<td>0.9</td>\n",
       "<td>0.0876284</td>\n",
       "<td>0.1307190</td>\n",
       "<td>1.1038489</td>\n",
       "<td>0.0526316</td>\n",
       "<td>0.4444444</td>\n",
       "<td>0.0130719</td>\n",
       "<td>0.9934641</td>\n",
       "<td>-86.9281046</td>\n",
       "<td>10.3848947</td></tr>\n",
       "<tr><td></td>\n",
       "<td>16</td>\n",
       "<td>1.0</td>\n",
       "<td>0.0005319</td>\n",
       "<td>0.0653595</td>\n",
       "<td>1.0</td>\n",
       "<td>0.0263158</td>\n",
       "<td>0.4026316</td>\n",
       "<td>0.0065359</td>\n",
       "<td>1.0</td>\n",
       "<td>-93.4640523</td>\n",
       "<td>0.0</td></tr></table></div>"
      ],
      "text/plain": [
       "    group    cumulative_data_fraction    lower_threshold    lift       cumulative_lift    response_rate    cumulative_response_rate    capture_rate    cumulative_capture_rate    gain      cumulative_gain\n",
       "--  -------  --------------------------  -----------------  ---------  -----------------  ---------------  --------------------------  --------------  -------------------------  --------  -----------------\n",
       "    1        0.0105263                   0.986798           2.48366    2.48366            1                1                           0.0261438       0.0261438                  148.366   148.366\n",
       "    2        0.0210526                   0.976791           2.48366    2.48366            1                1                           0.0261438       0.0522876                  148.366   148.366\n",
       "    3        0.0315789                   0.96665            2.48366    2.48366            1                1                           0.0261438       0.0784314                  148.366   148.366\n",
       "    4        0.0421053                   0.95702            2.48366    2.48366            1                1                           0.0261438       0.104575                   148.366   148.366\n",
       "    5        0.05                        0.939977           2.48366    2.48366            1                1                           0.0196078       0.124183                   148.366   148.366\n",
       "    6        0.1                         0.827499           1.83007    2.15686            0.736842         0.868421                    0.0915033       0.215686                   83.0065   115.686\n",
       "    7        0.15                        0.764927           1.96078    2.0915             0.789474         0.842105                    0.0980392       0.313725                   96.0784   109.15\n",
       "    8        0.2                         0.659614           1.83007    2.02614            0.736842         0.815789                    0.0915033       0.405229                   83.0065   102.614\n",
       "    9        0.3                         0.552388           1.50327    1.85185            0.605263         0.745614                    0.150327        0.555556                   50.3268   85.1852\n",
       "    10       0.4                         0.439025           1.37255    1.73203            0.552632         0.697368                    0.137255        0.69281                    37.2549   73.2026\n",
       "    11       0.5                         0.332054           0.980392   1.5817             0.394737         0.636842                    0.0980392       0.79085                    -1.96078  58.1699\n",
       "    12       0.6                         0.252              0.915033   1.47059            0.368421         0.592105                    0.0915033       0.882353                   -8.49673  47.0588\n",
       "    13       0.7                         0.20082            0.457516   1.32586            0.184211         0.533835                    0.0457516       0.928105                   -54.2484  32.5864\n",
       "    14       0.8                         0.146989           0.522876   1.22549            0.210526         0.493421                    0.0522876       0.980392                   -47.7124  22.549\n",
       "    15       0.9                         0.0876284          0.130719   1.10385            0.0526316        0.444444                    0.0130719       0.993464                   -86.9281  10.3849\n",
       "    16       1                           0.000531917        0.0653595  1                  0.0263158        0.402632                    0.00653595      1                          -93.4641  0"
      ]
     },
     "metadata": {},
     "output_type": "display_data"
    },
    {
     "name": "stdout",
     "output_type": "stream",
     "text": [
      "\n",
      "\n",
      "ModelMetricsBinomialGLM: glm\n",
      "** Reported on cross-validation data. **\n",
      "\n",
      "MSE: 0.174827631952\n",
      "RMSE: 0.41812394329\n",
      "LogLoss: 0.52176691958\n",
      "Null degrees of freedom: 379\n",
      "Residual degrees of freedom: 371\n",
      "Null deviance: 516.609476569\n",
      "Residual deviance: 396.542858881\n",
      "AIC: 414.542858881\n",
      "AUC: 0.807405487893\n",
      "Gini: 0.614810975785\n",
      "Confusion Matrix (Act/Pred) for max f1 @ threshold = 0.279495120558: \n"
     ]
    },
    {
     "data": {
      "text/html": [
       "<div style=\"overflow:auto\"><table style=\"width:50%\"><tr><td><b></b></td>\n",
       "<td><b>0</b></td>\n",
       "<td><b>1</b></td>\n",
       "<td><b>Error</b></td>\n",
       "<td><b>Rate</b></td></tr>\n",
       "<tr><td>0</td>\n",
       "<td>139.0</td>\n",
       "<td>88.0</td>\n",
       "<td>0.3877</td>\n",
       "<td> (88.0/227.0)</td></tr>\n",
       "<tr><td>1</td>\n",
       "<td>25.0</td>\n",
       "<td>128.0</td>\n",
       "<td>0.1634</td>\n",
       "<td> (25.0/153.0)</td></tr>\n",
       "<tr><td>Total</td>\n",
       "<td>164.0</td>\n",
       "<td>216.0</td>\n",
       "<td>0.2974</td>\n",
       "<td> (113.0/380.0)</td></tr></table></div>"
      ],
      "text/plain": [
       "       0    1    Error    Rate\n",
       "-----  ---  ---  -------  -------------\n",
       "0      139  88   0.3877   (88.0/227.0)\n",
       "1      25   128  0.1634   (25.0/153.0)\n",
       "Total  164  216  0.2974   (113.0/380.0)"
      ]
     },
     "metadata": {},
     "output_type": "display_data"
    },
    {
     "name": "stdout",
     "output_type": "stream",
     "text": [
      "Maximum Metrics: Maximum metrics at their respective thresholds\n",
      "\n"
     ]
    },
    {
     "data": {
      "text/html": [
       "<div style=\"overflow:auto\"><table style=\"width:50%\"><tr><td><b>metric</b></td>\n",
       "<td><b>threshold</b></td>\n",
       "<td><b>value</b></td>\n",
       "<td><b>idx</b></td></tr>\n",
       "<tr><td>max f1</td>\n",
       "<td>0.2794951</td>\n",
       "<td>0.6937669</td>\n",
       "<td>215.0</td></tr>\n",
       "<tr><td>max f2</td>\n",
       "<td>0.1238109</td>\n",
       "<td>0.8116883</td>\n",
       "<td>311.0</td></tr>\n",
       "<tr><td>max f0point5</td>\n",
       "<td>0.4717562</td>\n",
       "<td>0.6965517</td>\n",
       "<td>142.0</td></tr>\n",
       "<tr><td>max accuracy</td>\n",
       "<td>0.4717562</td>\n",
       "<td>0.7526316</td>\n",
       "<td>142.0</td></tr>\n",
       "<tr><td>max precision</td>\n",
       "<td>0.9979589</td>\n",
       "<td>1.0</td>\n",
       "<td>0.0</td></tr>\n",
       "<tr><td>max recall</td>\n",
       "<td>0.0650245</td>\n",
       "<td>1.0</td>\n",
       "<td>354.0</td></tr>\n",
       "<tr><td>max specificity</td>\n",
       "<td>0.9979589</td>\n",
       "<td>1.0</td>\n",
       "<td>0.0</td></tr>\n",
       "<tr><td>max absolute_mcc</td>\n",
       "<td>0.4717562</td>\n",
       "<td>0.4809605</td>\n",
       "<td>142.0</td></tr>\n",
       "<tr><td>max min_per_class_accuracy</td>\n",
       "<td>0.3976724</td>\n",
       "<td>0.7254902</td>\n",
       "<td>167.0</td></tr>\n",
       "<tr><td>max mean_per_class_accuracy</td>\n",
       "<td>0.4114465</td>\n",
       "<td>0.7394691</td>\n",
       "<td>161.0</td></tr></table></div>"
      ],
      "text/plain": [
       "metric                       threshold    value     idx\n",
       "---------------------------  -----------  --------  -----\n",
       "max f1                       0.279495     0.693767  215\n",
       "max f2                       0.123811     0.811688  311\n",
       "max f0point5                 0.471756     0.696552  142\n",
       "max accuracy                 0.471756     0.752632  142\n",
       "max precision                0.997959     1         0\n",
       "max recall                   0.0650245    1         354\n",
       "max specificity              0.997959     1         0\n",
       "max absolute_mcc             0.471756     0.480961  142\n",
       "max min_per_class_accuracy   0.397672     0.72549   167\n",
       "max mean_per_class_accuracy  0.411446     0.739469  161"
      ]
     },
     "metadata": {},
     "output_type": "display_data"
    },
    {
     "name": "stdout",
     "output_type": "stream",
     "text": [
      "Gains/Lift Table: Avg response rate: 40.26 %\n",
      "\n"
     ]
    },
    {
     "data": {
      "text/html": [
       "<div style=\"overflow:auto\"><table style=\"width:50%\"><tr><td><b></b></td>\n",
       "<td><b>group</b></td>\n",
       "<td><b>cumulative_data_fraction</b></td>\n",
       "<td><b>lower_threshold</b></td>\n",
       "<td><b>lift</b></td>\n",
       "<td><b>cumulative_lift</b></td>\n",
       "<td><b>response_rate</b></td>\n",
       "<td><b>cumulative_response_rate</b></td>\n",
       "<td><b>capture_rate</b></td>\n",
       "<td><b>cumulative_capture_rate</b></td>\n",
       "<td><b>gain</b></td>\n",
       "<td><b>cumulative_gain</b></td></tr>\n",
       "<tr><td></td>\n",
       "<td>1</td>\n",
       "<td>0.0105263</td>\n",
       "<td>0.9892794</td>\n",
       "<td>2.4836601</td>\n",
       "<td>2.4836601</td>\n",
       "<td>1.0</td>\n",
       "<td>1.0</td>\n",
       "<td>0.0261438</td>\n",
       "<td>0.0261438</td>\n",
       "<td>148.3660131</td>\n",
       "<td>148.3660131</td></tr>\n",
       "<tr><td></td>\n",
       "<td>2</td>\n",
       "<td>0.0210526</td>\n",
       "<td>0.9797545</td>\n",
       "<td>2.4836601</td>\n",
       "<td>2.4836601</td>\n",
       "<td>1.0</td>\n",
       "<td>1.0</td>\n",
       "<td>0.0261438</td>\n",
       "<td>0.0522876</td>\n",
       "<td>148.3660131</td>\n",
       "<td>148.3660131</td></tr>\n",
       "<tr><td></td>\n",
       "<td>3</td>\n",
       "<td>0.0315789</td>\n",
       "<td>0.9707798</td>\n",
       "<td>2.4836601</td>\n",
       "<td>2.4836601</td>\n",
       "<td>1.0</td>\n",
       "<td>1.0</td>\n",
       "<td>0.0261438</td>\n",
       "<td>0.0784314</td>\n",
       "<td>148.3660131</td>\n",
       "<td>148.3660131</td></tr>\n",
       "<tr><td></td>\n",
       "<td>4</td>\n",
       "<td>0.0421053</td>\n",
       "<td>0.9603928</td>\n",
       "<td>2.4836601</td>\n",
       "<td>2.4836601</td>\n",
       "<td>1.0</td>\n",
       "<td>1.0</td>\n",
       "<td>0.0261438</td>\n",
       "<td>0.1045752</td>\n",
       "<td>148.3660131</td>\n",
       "<td>148.3660131</td></tr>\n",
       "<tr><td></td>\n",
       "<td>5</td>\n",
       "<td>0.05</td>\n",
       "<td>0.9504504</td>\n",
       "<td>1.6557734</td>\n",
       "<td>2.3529412</td>\n",
       "<td>0.6666667</td>\n",
       "<td>0.9473684</td>\n",
       "<td>0.0130719</td>\n",
       "<td>0.1176471</td>\n",
       "<td>65.5773420</td>\n",
       "<td>135.2941176</td></tr>\n",
       "<tr><td></td>\n",
       "<td>6</td>\n",
       "<td>0.1</td>\n",
       "<td>0.8493954</td>\n",
       "<td>1.8300654</td>\n",
       "<td>2.0915033</td>\n",
       "<td>0.7368421</td>\n",
       "<td>0.8421053</td>\n",
       "<td>0.0915033</td>\n",
       "<td>0.2091503</td>\n",
       "<td>83.0065359</td>\n",
       "<td>109.1503268</td></tr>\n",
       "<tr><td></td>\n",
       "<td>7</td>\n",
       "<td>0.15</td>\n",
       "<td>0.7522525</td>\n",
       "<td>1.6993464</td>\n",
       "<td>1.9607843</td>\n",
       "<td>0.6842105</td>\n",
       "<td>0.7894737</td>\n",
       "<td>0.0849673</td>\n",
       "<td>0.2941176</td>\n",
       "<td>69.9346405</td>\n",
       "<td>96.0784314</td></tr>\n",
       "<tr><td></td>\n",
       "<td>8</td>\n",
       "<td>0.2</td>\n",
       "<td>0.6786216</td>\n",
       "<td>2.0915033</td>\n",
       "<td>1.9934641</td>\n",
       "<td>0.8421053</td>\n",
       "<td>0.8026316</td>\n",
       "<td>0.1045752</td>\n",
       "<td>0.3986928</td>\n",
       "<td>109.1503268</td>\n",
       "<td>99.3464052</td></tr>\n",
       "<tr><td></td>\n",
       "<td>9</td>\n",
       "<td>0.3</td>\n",
       "<td>0.5468971</td>\n",
       "<td>1.5032680</td>\n",
       "<td>1.8300654</td>\n",
       "<td>0.6052632</td>\n",
       "<td>0.7368421</td>\n",
       "<td>0.1503268</td>\n",
       "<td>0.5490196</td>\n",
       "<td>50.3267974</td>\n",
       "<td>83.0065359</td></tr>\n",
       "<tr><td></td>\n",
       "<td>10</td>\n",
       "<td>0.4</td>\n",
       "<td>0.4449805</td>\n",
       "<td>1.3071895</td>\n",
       "<td>1.6993464</td>\n",
       "<td>0.5263158</td>\n",
       "<td>0.6842105</td>\n",
       "<td>0.1307190</td>\n",
       "<td>0.6797386</td>\n",
       "<td>30.7189542</td>\n",
       "<td>69.9346405</td></tr>\n",
       "<tr><td></td>\n",
       "<td>11</td>\n",
       "<td>0.5</td>\n",
       "<td>0.3411542</td>\n",
       "<td>0.7843137</td>\n",
       "<td>1.5163399</td>\n",
       "<td>0.3157895</td>\n",
       "<td>0.6105263</td>\n",
       "<td>0.0784314</td>\n",
       "<td>0.7581699</td>\n",
       "<td>-21.5686275</td>\n",
       "<td>51.6339869</td></tr>\n",
       "<tr><td></td>\n",
       "<td>12</td>\n",
       "<td>0.6</td>\n",
       "<td>0.2605512</td>\n",
       "<td>0.9803922</td>\n",
       "<td>1.4270153</td>\n",
       "<td>0.3947368</td>\n",
       "<td>0.5745614</td>\n",
       "<td>0.0980392</td>\n",
       "<td>0.8562092</td>\n",
       "<td>-1.9607843</td>\n",
       "<td>42.7015251</td></tr>\n",
       "<tr><td></td>\n",
       "<td>13</td>\n",
       "<td>0.7</td>\n",
       "<td>0.2034589</td>\n",
       "<td>0.5882353</td>\n",
       "<td>1.3071895</td>\n",
       "<td>0.2368421</td>\n",
       "<td>0.5263158</td>\n",
       "<td>0.0588235</td>\n",
       "<td>0.9150327</td>\n",
       "<td>-41.1764706</td>\n",
       "<td>30.7189542</td></tr>\n",
       "<tr><td></td>\n",
       "<td>14</td>\n",
       "<td>0.8</td>\n",
       "<td>0.1417365</td>\n",
       "<td>0.5228758</td>\n",
       "<td>1.2091503</td>\n",
       "<td>0.2105263</td>\n",
       "<td>0.4868421</td>\n",
       "<td>0.0522876</td>\n",
       "<td>0.9673203</td>\n",
       "<td>-47.7124183</td>\n",
       "<td>20.9150327</td></tr>\n",
       "<tr><td></td>\n",
       "<td>15</td>\n",
       "<td>0.9</td>\n",
       "<td>0.0800925</td>\n",
       "<td>0.2614379</td>\n",
       "<td>1.1038489</td>\n",
       "<td>0.1052632</td>\n",
       "<td>0.4444444</td>\n",
       "<td>0.0261438</td>\n",
       "<td>0.9934641</td>\n",
       "<td>-73.8562092</td>\n",
       "<td>10.3848947</td></tr>\n",
       "<tr><td></td>\n",
       "<td>16</td>\n",
       "<td>1.0</td>\n",
       "<td>0.0002212</td>\n",
       "<td>0.0653595</td>\n",
       "<td>1.0</td>\n",
       "<td>0.0263158</td>\n",
       "<td>0.4026316</td>\n",
       "<td>0.0065359</td>\n",
       "<td>1.0</td>\n",
       "<td>-93.4640523</td>\n",
       "<td>0.0</td></tr></table></div>"
      ],
      "text/plain": [
       "    group    cumulative_data_fraction    lower_threshold    lift       cumulative_lift    response_rate    cumulative_response_rate    capture_rate    cumulative_capture_rate    gain      cumulative_gain\n",
       "--  -------  --------------------------  -----------------  ---------  -----------------  ---------------  --------------------------  --------------  -------------------------  --------  -----------------\n",
       "    1        0.0105263                   0.989279           2.48366    2.48366            1                1                           0.0261438       0.0261438                  148.366   148.366\n",
       "    2        0.0210526                   0.979755           2.48366    2.48366            1                1                           0.0261438       0.0522876                  148.366   148.366\n",
       "    3        0.0315789                   0.97078            2.48366    2.48366            1                1                           0.0261438       0.0784314                  148.366   148.366\n",
       "    4        0.0421053                   0.960393           2.48366    2.48366            1                1                           0.0261438       0.104575                   148.366   148.366\n",
       "    5        0.05                        0.95045            1.65577    2.35294            0.666667         0.947368                    0.0130719       0.117647                   65.5773   135.294\n",
       "    6        0.1                         0.849395           1.83007    2.0915             0.736842         0.842105                    0.0915033       0.20915                    83.0065   109.15\n",
       "    7        0.15                        0.752252           1.69935    1.96078            0.684211         0.789474                    0.0849673       0.294118                   69.9346   96.0784\n",
       "    8        0.2                         0.678622           2.0915     1.99346            0.842105         0.802632                    0.104575        0.398693                   109.15    99.3464\n",
       "    9        0.3                         0.546897           1.50327    1.83007            0.605263         0.736842                    0.150327        0.54902                    50.3268   83.0065\n",
       "    10       0.4                         0.44498            1.30719    1.69935            0.526316         0.684211                    0.130719        0.679739                   30.719    69.9346\n",
       "    11       0.5                         0.341154           0.784314   1.51634            0.315789         0.610526                    0.0784314       0.75817                    -21.5686  51.634\n",
       "    12       0.6                         0.260551           0.980392   1.42702            0.394737         0.574561                    0.0980392       0.856209                   -1.96078  42.7015\n",
       "    13       0.7                         0.203459           0.588235   1.30719            0.236842         0.526316                    0.0588235       0.915033                   -41.1765  30.719\n",
       "    14       0.8                         0.141736           0.522876   1.20915            0.210526         0.486842                    0.0522876       0.96732                    -47.7124  20.915\n",
       "    15       0.9                         0.0800925          0.261438   1.10385            0.105263         0.444444                    0.0261438       0.993464                   -73.8562  10.3849\n",
       "    16       1                           0.000221227        0.0653595  1                  0.0263158        0.402632                    0.00653595      1                          -93.4641  0"
      ]
     },
     "metadata": {},
     "output_type": "display_data"
    },
    {
     "name": "stdout",
     "output_type": "stream",
     "text": [
      "\n",
      "Cross-Validation Metrics Summary: \n"
     ]
    },
    {
     "data": {
      "text/html": [
       "<div style=\"overflow:auto\"><table style=\"width:50%\"><tr><td><b></b></td>\n",
       "<td><b>mean</b></td>\n",
       "<td><b>sd</b></td>\n",
       "<td><b>cv_1_valid</b></td>\n",
       "<td><b>cv_2_valid</b></td>\n",
       "<td><b>cv_3_valid</b></td>\n",
       "<td><b>cv_4_valid</b></td>\n",
       "<td><b>cv_5_valid</b></td></tr>\n",
       "<tr><td>accuracy</td>\n",
       "<td>0.7500995</td>\n",
       "<td>0.0220639</td>\n",
       "<td>0.7666667</td>\n",
       "<td>0.7272728</td>\n",
       "<td>0.7460318</td>\n",
       "<td>0.7105263</td>\n",
       "<td>0.8</td></tr>\n",
       "<tr><td>auc</td>\n",
       "<td>0.8142822</td>\n",
       "<td>0.0189873</td>\n",
       "<td>0.8292924</td>\n",
       "<td>0.7663817</td>\n",
       "<td>0.8471934</td>\n",
       "<td>0.8132103</td>\n",
       "<td>0.8153333</td></tr>\n",
       "<tr><td>err</td>\n",
       "<td>0.2499005</td>\n",
       "<td>0.0220639</td>\n",
       "<td>0.2333333</td>\n",
       "<td>0.2727273</td>\n",
       "<td>0.2539683</td>\n",
       "<td>0.2894737</td>\n",
       "<td>0.2</td></tr>\n",
       "<tr><td>err_count</td>\n",
       "<td>18.8</td>\n",
       "<td>1.6370705</td>\n",
       "<td>21.0</td>\n",
       "<td>18.0</td>\n",
       "<td>16.0</td>\n",
       "<td>22.0</td>\n",
       "<td>17.0</td></tr>\n",
       "<tr><td>f0point5</td>\n",
       "<td>0.6771837</td>\n",
       "<td>0.0249278</td>\n",
       "<td>0.7446808</td>\n",
       "<td>0.6571429</td>\n",
       "<td>0.6790124</td>\n",
       "<td>0.6481481</td>\n",
       "<td>0.6569343</td></tr>\n",
       "<tr><td>---</td>\n",
       "<td>---</td>\n",
       "<td>---</td>\n",
       "<td>---</td>\n",
       "<td>---</td>\n",
       "<td>---</td>\n",
       "<td>---</td>\n",
       "<td>---</td></tr>\n",
       "<tr><td>r2</td>\n",
       "<td>0.2604828</td>\n",
       "<td>0.0416906</td>\n",
       "<td>0.2739275</td>\n",
       "<td>0.1732180</td>\n",
       "<td>0.3506145</td>\n",
       "<td>0.2780988</td>\n",
       "<td>0.2265552</td></tr>\n",
       "<tr><td>recall</td>\n",
       "<td>0.8213918</td>\n",
       "<td>0.0384063</td>\n",
       "<td>0.8139535</td>\n",
       "<td>0.8518519</td>\n",
       "<td>0.8461539</td>\n",
       "<td>0.875</td>\n",
       "<td>0.72</td></tr>\n",
       "<tr><td>residual_deviance</td>\n",
       "<td>79.30857</td>\n",
       "<td>8.531997</td>\n",
       "<td>96.21583</td>\n",
       "<td>79.36724</td>\n",
       "<td>58.56861</td>\n",
       "<td>79.64262</td>\n",
       "<td>82.748566</td></tr>\n",
       "<tr><td>rmse</td>\n",
       "<td>0.4179273</td>\n",
       "<td>0.0128676</td>\n",
       "<td>0.4256284</td>\n",
       "<td>0.4470600</td>\n",
       "<td>0.3967330</td>\n",
       "<td>0.4194948</td>\n",
       "<td>0.4007203</td></tr>\n",
       "<tr><td>specificity</td>\n",
       "<td>0.6928696</td>\n",
       "<td>0.0583453</td>\n",
       "<td>0.7234042</td>\n",
       "<td>0.6410257</td>\n",
       "<td>0.6756757</td>\n",
       "<td>0.5909091</td>\n",
       "<td>0.8333333</td></tr></table></div>"
      ],
      "text/plain": [
       "                   mean        sd           cv_1_valid    cv_2_valid    cv_3_valid    cv_4_valid    cv_5_valid\n",
       "-----------------  ----------  -----------  ------------  ------------  ------------  ------------  ------------\n",
       "accuracy           0.7500995   0.022063943  0.76666665    0.72727275    0.74603176    0.7105263     0.8\n",
       "auc                0.81428224  0.01898725   0.8292924     0.76638174    0.84719336    0.81321025    0.8153333\n",
       "err                0.2499005   0.022063943  0.23333333    0.27272728    0.25396827    0.28947368    0.2\n",
       "err_count          18.8        1.6370705    21.0          18.0          16.0          22.0          17.0\n",
       "f0point5           0.6771837   0.024927787  0.7446808     0.6571429     0.67901236    0.6481481     0.6569343\n",
       "---                ---         ---          ---           ---           ---           ---           ---\n",
       "r2                 0.26048282  0.04169058   0.27392754    0.17321797    0.35061452    0.27809882    0.2265552\n",
       "recall             0.8213918   0.0384063    0.81395346    0.8518519     0.84615386    0.875         0.72\n",
       "residual_deviance  79.30857    8.531997     96.21583      79.36724      58.56861      79.64262      82.748566\n",
       "rmse               0.4179273   0.012867618  0.42562842    0.44705996    0.39673296    0.41949484    0.40072033\n",
       "specificity        0.6928696   0.058345348  0.7234042     0.64102566    0.6756757     0.59090906    0.8333333"
      ]
     },
     "metadata": {},
     "output_type": "display_data"
    },
    {
     "name": "stdout",
     "output_type": "stream",
     "text": [
      "\n",
      "See the whole table with table.as_data_frame()\n",
      "Scoring History: \n"
     ]
    },
    {
     "data": {
      "text/html": [
       "<div style=\"overflow:auto\"><table style=\"width:50%\"><tr><td><b></b></td>\n",
       "<td><b>timestamp</b></td>\n",
       "<td><b>duration</b></td>\n",
       "<td><b>iterations</b></td>\n",
       "<td><b>negative_log_likelihood</b></td>\n",
       "<td><b>objective</b></td></tr>\n",
       "<tr><td></td>\n",
       "<td>2017-11-08 15:19:14</td>\n",
       "<td> 0.000 sec</td>\n",
       "<td>0</td>\n",
       "<td>256.1444201</td>\n",
       "<td>0.6740643</td></tr>\n",
       "<tr><td></td>\n",
       "<td>2017-11-08 15:19:14</td>\n",
       "<td> 0.000 sec</td>\n",
       "<td>1</td>\n",
       "<td>194.8874941</td>\n",
       "<td>0.5133770</td></tr>\n",
       "<tr><td></td>\n",
       "<td>2017-11-08 15:19:14</td>\n",
       "<td> 0.001 sec</td>\n",
       "<td>2</td>\n",
       "<td>188.7807393</td>\n",
       "<td>0.4975772</td></tr>\n",
       "<tr><td></td>\n",
       "<td>2017-11-08 15:19:14</td>\n",
       "<td> 0.001 sec</td>\n",
       "<td>3</td>\n",
       "<td>188.4538605</td>\n",
       "<td>0.4968035</td></tr>\n",
       "<tr><td></td>\n",
       "<td>2017-11-08 15:19:14</td>\n",
       "<td> 0.001 sec</td>\n",
       "<td>4</td>\n",
       "<td>188.4503396</td>\n",
       "<td>0.4968002</td></tr></table></div>"
      ],
      "text/plain": [
       "    timestamp            duration    iterations    negative_log_likelihood    objective\n",
       "--  -------------------  ----------  ------------  -------------------------  -----------\n",
       "    2017-11-08 15:19:14  0.000 sec   0             256.144                    0.674064\n",
       "    2017-11-08 15:19:14  0.000 sec   1             194.887                    0.513377\n",
       "    2017-11-08 15:19:14  0.001 sec   2             188.781                    0.497577\n",
       "    2017-11-08 15:19:14  0.001 sec   3             188.454                    0.496803\n",
       "    2017-11-08 15:19:14  0.001 sec   4             188.45                     0.4968"
      ]
     },
     "metadata": {},
     "output_type": "display_data"
    },
    {
     "data": {
      "text/plain": []
     },
     "execution_count": 66,
     "metadata": {},
     "output_type": "execute_result"
    }
   ],
   "source": [
    "glm_prostate_xval"
   ]
  },
  {
   "cell_type": "code",
   "execution_count": 57,
   "metadata": {},
   "outputs": [
    {
     "name": "stdout",
     "output_type": "stream",
     "text": [
      "0.262764638983\n"
     ]
    }
   ],
   "source": [
    "print(glm_prostate_xval.model_performance(xval=True).r2())"
   ]
  },
  {
   "cell_type": "code",
   "execution_count": 58,
   "metadata": {
    "collapsed": true
   },
   "outputs": [],
   "source": [
    "prostate_main[response] = prostate_main[response].asfactor()"
   ]
  },
  {
   "cell_type": "code",
   "execution_count": 67,
   "metadata": {},
   "outputs": [
    {
     "name": "stdout",
     "output_type": "stream",
     "text": [
      "0.807405487893\n"
     ]
    }
   ],
   "source": [
    "print(glm_prostate_xval.model_performance(xval=True).auc())"
   ]
  },
  {
   "cell_type": "code",
   "execution_count": 74,
   "metadata": {},
   "outputs": [
    {
     "data": {
      "text/plain": [
       "{u'AGE': -0.007959389969014725,\n",
       " u'DCAPS': 0.5422518782813839,\n",
       " u'DPROS': 0.5503891749841721,\n",
       " u'GLEASON': 1.0053229809192141,\n",
       " u'ID': 0.001584456980571878,\n",
       " u'Intercept': -8.102861233026575,\n",
       " u'PSA': 0.027076170422619898,\n",
       " u'RACE': -0.606018934540387,\n",
       " u'VOL': -0.011441518403143272}"
      ]
     },
     "execution_count": 74,
     "metadata": {},
     "output_type": "execute_result"
    }
   ],
   "source": [
    "glm_prostate_xval.coef()"
   ]
  },
  {
   "cell_type": "code",
   "execution_count": 75,
   "metadata": {},
   "outputs": [
    {
     "name": "stdout",
     "output_type": "stream",
     "text": [
      "Variable importance does not apply to GLM. Will use std_coef_plot() instead.\n"
     ]
    },
    {
     "data": {
      "image/png": "[encoded data removed]",
      "text/plain": [
       "<matplotlib.figure.Figure at 0x118cb7bd0>"
      ]
     },
     "metadata": {},
     "output_type": "display_data"
    }
   ],
   "source": [
    "glm_prostate_xval.varimp_plot()"
   ]
  },
  {
   "cell_type": "code",
   "execution_count": 68,
   "metadata": {
    "collapsed": true
   },
   "outputs": [],
   "source": [
    "from h2o.estimators.gbm import H2OGradientBoostingEstimator"
   ]
  },
  {
   "cell_type": "code",
   "execution_count": 69,
   "metadata": {
    "collapsed": true
   },
   "outputs": [],
   "source": [
    "prostate_gbm = H2OGradientBoostingEstimator()"
   ]
  },
  {
   "cell_type": "code",
   "execution_count": 70,
   "metadata": {},
   "outputs": [
    {
     "name": "stdout",
     "output_type": "stream",
     "text": [
      "gbm Model Build progress: |███████████████████████████████████████████████| 100%\n"
     ]
    }
   ],
   "source": [
    "prostate_gbm.train(x = features, y = response, training_frame= prostate_main)"
   ]
  },
  {
   "cell_type": "code",
   "execution_count": 71,
   "metadata": {},
   "outputs": [
    {
     "name": "stdout",
     "output_type": "stream",
     "text": [
      "Model Details\n",
      "=============\n",
      "H2OGradientBoostingEstimator :  Gradient Boosting Machine\n",
      "Model Key:  GBM_model_python_1510169571676_8359\n",
      "\n",
      "\n",
      "ModelMetricsBinomial: gbm\n",
      "** Reported on train data. **\n",
      "\n",
      "MSE: 0.0637863025683\n",
      "RMSE: 0.252559503025\n",
      "LogLoss: 0.244491796997\n",
      "Mean Per-Class Error: 0.0581900895454\n",
      "AUC: 0.98825256975\n",
      "Gini: 0.976505139501\n",
      "Confusion Matrix (Act/Pred) for max f1 @ threshold = 0.369290229047: \n"
     ]
    },
    {
     "data": {
      "text/html": [
       "<div style=\"overflow:auto\"><table style=\"width:50%\"><tr><td><b></b></td>\n",
       "<td><b>0</b></td>\n",
       "<td><b>1</b></td>\n",
       "<td><b>Error</b></td>\n",
       "<td><b>Rate</b></td></tr>\n",
       "<tr><td>0</td>\n",
       "<td>208.0</td>\n",
       "<td>19.0</td>\n",
       "<td>0.0837</td>\n",
       "<td> (19.0/227.0)</td></tr>\n",
       "<tr><td>1</td>\n",
       "<td>5.0</td>\n",
       "<td>148.0</td>\n",
       "<td>0.0327</td>\n",
       "<td> (5.0/153.0)</td></tr>\n",
       "<tr><td>Total</td>\n",
       "<td>213.0</td>\n",
       "<td>167.0</td>\n",
       "<td>0.0632</td>\n",
       "<td> (24.0/380.0)</td></tr></table></div>"
      ],
      "text/plain": [
       "       0    1    Error    Rate\n",
       "-----  ---  ---  -------  ------------\n",
       "0      208  19   0.0837   (19.0/227.0)\n",
       "1      5    148  0.0327   (5.0/153.0)\n",
       "Total  213  167  0.0632   (24.0/380.0)"
      ]
     },
     "metadata": {},
     "output_type": "display_data"
    },
    {
     "name": "stdout",
     "output_type": "stream",
     "text": [
      "Maximum Metrics: Maximum metrics at their respective thresholds\n",
      "\n"
     ]
    },
    {
     "data": {
      "text/html": [
       "<div style=\"overflow:auto\"><table style=\"width:50%\"><tr><td><b>metric</b></td>\n",
       "<td><b>threshold</b></td>\n",
       "<td><b>value</b></td>\n",
       "<td><b>idx</b></td></tr>\n",
       "<tr><td>max f1</td>\n",
       "<td>0.3692902</td>\n",
       "<td>0.925</td>\n",
       "<td>166.0</td></tr>\n",
       "<tr><td>max f2</td>\n",
       "<td>0.3284870</td>\n",
       "<td>0.9554140</td>\n",
       "<td>172.0</td></tr>\n",
       "<tr><td>max f0point5</td>\n",
       "<td>0.5709882</td>\n",
       "<td>0.9471366</td>\n",
       "<td>131.0</td></tr>\n",
       "<tr><td>max accuracy</td>\n",
       "<td>0.4617671</td>\n",
       "<td>0.9368421</td>\n",
       "<td>150.0</td></tr>\n",
       "<tr><td>max precision</td>\n",
       "<td>0.9740913</td>\n",
       "<td>1.0</td>\n",
       "<td>0.0</td></tr>\n",
       "<tr><td>max recall</td>\n",
       "<td>0.2716047</td>\n",
       "<td>1.0</td>\n",
       "<td>200.0</td></tr>\n",
       "<tr><td>max specificity</td>\n",
       "<td>0.9740913</td>\n",
       "<td>1.0</td>\n",
       "<td>0.0</td></tr>\n",
       "<tr><td>max absolute_mcc</td>\n",
       "<td>0.3692902</td>\n",
       "<td>0.8731243</td>\n",
       "<td>166.0</td></tr>\n",
       "<tr><td>max min_per_class_accuracy</td>\n",
       "<td>0.4303894</td>\n",
       "<td>0.9295154</td>\n",
       "<td>158.0</td></tr>\n",
       "<tr><td>max mean_per_class_accuracy</td>\n",
       "<td>0.3692902</td>\n",
       "<td>0.9418099</td>\n",
       "<td>166.0</td></tr></table></div>"
      ],
      "text/plain": [
       "metric                       threshold    value     idx\n",
       "---------------------------  -----------  --------  -----\n",
       "max f1                       0.36929      0.925     166\n",
       "max f2                       0.328487     0.955414  172\n",
       "max f0point5                 0.570988     0.947137  131\n",
       "max accuracy                 0.461767     0.936842  150\n",
       "max precision                0.974091     1         0\n",
       "max recall                   0.271605     1         200\n",
       "max specificity              0.974091     1         0\n",
       "max absolute_mcc             0.36929      0.873124  166\n",
       "max min_per_class_accuracy   0.430389     0.929515  158\n",
       "max mean_per_class_accuracy  0.36929      0.94181   166"
      ]
     },
     "metadata": {},
     "output_type": "display_data"
    },
    {
     "name": "stdout",
     "output_type": "stream",
     "text": [
      "Gains/Lift Table: Avg response rate: 40.26 %\n",
      "\n"
     ]
    },
    {
     "data": {
      "text/html": [
       "<div style=\"overflow:auto\"><table style=\"width:50%\"><tr><td><b></b></td>\n",
       "<td><b>group</b></td>\n",
       "<td><b>cumulative_data_fraction</b></td>\n",
       "<td><b>lower_threshold</b></td>\n",
       "<td><b>lift</b></td>\n",
       "<td><b>cumulative_lift</b></td>\n",
       "<td><b>response_rate</b></td>\n",
       "<td><b>cumulative_response_rate</b></td>\n",
       "<td><b>capture_rate</b></td>\n",
       "<td><b>cumulative_capture_rate</b></td>\n",
       "<td><b>gain</b></td>\n",
       "<td><b>cumulative_gain</b></td></tr>\n",
       "<tr><td></td>\n",
       "<td>1</td>\n",
       "<td>0.0105263</td>\n",
       "<td>0.9656726</td>\n",
       "<td>2.4836601</td>\n",
       "<td>2.4836601</td>\n",
       "<td>1.0</td>\n",
       "<td>1.0</td>\n",
       "<td>0.0261438</td>\n",
       "<td>0.0261438</td>\n",
       "<td>148.3660131</td>\n",
       "<td>148.3660131</td></tr>\n",
       "<tr><td></td>\n",
       "<td>2</td>\n",
       "<td>0.0210526</td>\n",
       "<td>0.9589343</td>\n",
       "<td>2.4836601</td>\n",
       "<td>2.4836601</td>\n",
       "<td>1.0</td>\n",
       "<td>1.0</td>\n",
       "<td>0.0261438</td>\n",
       "<td>0.0522876</td>\n",
       "<td>148.3660131</td>\n",
       "<td>148.3660131</td></tr>\n",
       "<tr><td></td>\n",
       "<td>3</td>\n",
       "<td>0.0315789</td>\n",
       "<td>0.9507825</td>\n",
       "<td>2.4836601</td>\n",
       "<td>2.4836601</td>\n",
       "<td>1.0</td>\n",
       "<td>1.0</td>\n",
       "<td>0.0261438</td>\n",
       "<td>0.0784314</td>\n",
       "<td>148.3660131</td>\n",
       "<td>148.3660131</td></tr>\n",
       "<tr><td></td>\n",
       "<td>4</td>\n",
       "<td>0.0421053</td>\n",
       "<td>0.9422672</td>\n",
       "<td>2.4836601</td>\n",
       "<td>2.4836601</td>\n",
       "<td>1.0</td>\n",
       "<td>1.0</td>\n",
       "<td>0.0261438</td>\n",
       "<td>0.1045752</td>\n",
       "<td>148.3660131</td>\n",
       "<td>148.3660131</td></tr>\n",
       "<tr><td></td>\n",
       "<td>5</td>\n",
       "<td>0.05</td>\n",
       "<td>0.9301226</td>\n",
       "<td>2.4836601</td>\n",
       "<td>2.4836601</td>\n",
       "<td>1.0</td>\n",
       "<td>1.0</td>\n",
       "<td>0.0196078</td>\n",
       "<td>0.1241830</td>\n",
       "<td>148.3660131</td>\n",
       "<td>148.3660131</td></tr>\n",
       "<tr><td></td>\n",
       "<td>6</td>\n",
       "<td>0.1</td>\n",
       "<td>0.9044146</td>\n",
       "<td>2.4836601</td>\n",
       "<td>2.4836601</td>\n",
       "<td>1.0</td>\n",
       "<td>1.0</td>\n",
       "<td>0.1241830</td>\n",
       "<td>0.2483660</td>\n",
       "<td>148.3660131</td>\n",
       "<td>148.3660131</td></tr>\n",
       "<tr><td></td>\n",
       "<td>7</td>\n",
       "<td>0.15</td>\n",
       "<td>0.8446853</td>\n",
       "<td>2.4836601</td>\n",
       "<td>2.4836601</td>\n",
       "<td>1.0</td>\n",
       "<td>1.0</td>\n",
       "<td>0.1241830</td>\n",
       "<td>0.3725490</td>\n",
       "<td>148.3660131</td>\n",
       "<td>148.3660131</td></tr>\n",
       "<tr><td></td>\n",
       "<td>8</td>\n",
       "<td>0.2</td>\n",
       "<td>0.7961432</td>\n",
       "<td>2.4836601</td>\n",
       "<td>2.4836601</td>\n",
       "<td>1.0</td>\n",
       "<td>1.0</td>\n",
       "<td>0.1241830</td>\n",
       "<td>0.4967320</td>\n",
       "<td>148.3660131</td>\n",
       "<td>148.3660131</td></tr>\n",
       "<tr><td></td>\n",
       "<td>9</td>\n",
       "<td>0.3</td>\n",
       "<td>0.6723258</td>\n",
       "<td>2.4836601</td>\n",
       "<td>2.4836601</td>\n",
       "<td>1.0</td>\n",
       "<td>1.0</td>\n",
       "<td>0.2483660</td>\n",
       "<td>0.7450980</td>\n",
       "<td>148.3660131</td>\n",
       "<td>148.3660131</td></tr>\n",
       "<tr><td></td>\n",
       "<td>10</td>\n",
       "<td>0.4</td>\n",
       "<td>0.4587689</td>\n",
       "<td>1.6993464</td>\n",
       "<td>2.2875817</td>\n",
       "<td>0.6842105</td>\n",
       "<td>0.9210526</td>\n",
       "<td>0.1699346</td>\n",
       "<td>0.9150327</td>\n",
       "<td>69.9346405</td>\n",
       "<td>128.7581699</td></tr>\n",
       "<tr><td></td>\n",
       "<td>11</td>\n",
       "<td>0.5</td>\n",
       "<td>0.2941654</td>\n",
       "<td>0.7843137</td>\n",
       "<td>1.9869281</td>\n",
       "<td>0.3157895</td>\n",
       "<td>0.8</td>\n",
       "<td>0.0784314</td>\n",
       "<td>0.9934641</td>\n",
       "<td>-21.5686275</td>\n",
       "<td>98.6928105</td></tr>\n",
       "<tr><td></td>\n",
       "<td>12</td>\n",
       "<td>0.6</td>\n",
       "<td>0.1936958</td>\n",
       "<td>0.0653595</td>\n",
       "<td>1.6666667</td>\n",
       "<td>0.0263158</td>\n",
       "<td>0.6710526</td>\n",
       "<td>0.0065359</td>\n",
       "<td>1.0</td>\n",
       "<td>-93.4640523</td>\n",
       "<td>66.6666667</td></tr>\n",
       "<tr><td></td>\n",
       "<td>13</td>\n",
       "<td>0.7</td>\n",
       "<td>0.1169011</td>\n",
       "<td>0.0</td>\n",
       "<td>1.4285714</td>\n",
       "<td>0.0</td>\n",
       "<td>0.5751880</td>\n",
       "<td>0.0</td>\n",
       "<td>1.0</td>\n",
       "<td>-100.0</td>\n",
       "<td>42.8571429</td></tr>\n",
       "<tr><td></td>\n",
       "<td>14</td>\n",
       "<td>0.8</td>\n",
       "<td>0.0800475</td>\n",
       "<td>0.0</td>\n",
       "<td>1.25</td>\n",
       "<td>0.0</td>\n",
       "<td>0.5032895</td>\n",
       "<td>0.0</td>\n",
       "<td>1.0</td>\n",
       "<td>-100.0</td>\n",
       "<td>25.0</td></tr>\n",
       "<tr><td></td>\n",
       "<td>15</td>\n",
       "<td>0.9</td>\n",
       "<td>0.0473553</td>\n",
       "<td>0.0</td>\n",
       "<td>1.1111111</td>\n",
       "<td>0.0</td>\n",
       "<td>0.4473684</td>\n",
       "<td>0.0</td>\n",
       "<td>1.0</td>\n",
       "<td>-100.0</td>\n",
       "<td>11.1111111</td></tr>\n",
       "<tr><td></td>\n",
       "<td>16</td>\n",
       "<td>1.0</td>\n",
       "<td>0.0097484</td>\n",
       "<td>0.0</td>\n",
       "<td>1.0</td>\n",
       "<td>0.0</td>\n",
       "<td>0.4026316</td>\n",
       "<td>0.0</td>\n",
       "<td>1.0</td>\n",
       "<td>-100.0</td>\n",
       "<td>0.0</td></tr></table></div>"
      ],
      "text/plain": [
       "    group    cumulative_data_fraction    lower_threshold    lift       cumulative_lift    response_rate    cumulative_response_rate    capture_rate    cumulative_capture_rate    gain      cumulative_gain\n",
       "--  -------  --------------------------  -----------------  ---------  -----------------  ---------------  --------------------------  --------------  -------------------------  --------  -----------------\n",
       "    1        0.0105263                   0.965673           2.48366    2.48366            1                1                           0.0261438       0.0261438                  148.366   148.366\n",
       "    2        0.0210526                   0.958934           2.48366    2.48366            1                1                           0.0261438       0.0522876                  148.366   148.366\n",
       "    3        0.0315789                   0.950783           2.48366    2.48366            1                1                           0.0261438       0.0784314                  148.366   148.366\n",
       "    4        0.0421053                   0.942267           2.48366    2.48366            1                1                           0.0261438       0.104575                   148.366   148.366\n",
       "    5        0.05                        0.930123           2.48366    2.48366            1                1                           0.0196078       0.124183                   148.366   148.366\n",
       "    6        0.1                         0.904415           2.48366    2.48366            1                1                           0.124183        0.248366                   148.366   148.366\n",
       "    7        0.15                        0.844685           2.48366    2.48366            1                1                           0.124183        0.372549                   148.366   148.366\n",
       "    8        0.2                         0.796143           2.48366    2.48366            1                1                           0.124183        0.496732                   148.366   148.366\n",
       "    9        0.3                         0.672326           2.48366    2.48366            1                1                           0.248366        0.745098                   148.366   148.366\n",
       "    10       0.4                         0.458769           1.69935    2.28758            0.684211         0.921053                    0.169935        0.915033                   69.9346   128.758\n",
       "    11       0.5                         0.294165           0.784314   1.98693            0.315789         0.8                         0.0784314       0.993464                   -21.5686  98.6928\n",
       "    12       0.6                         0.193696           0.0653595  1.66667            0.0263158        0.671053                    0.00653595      1                          -93.4641  66.6667\n",
       "    13       0.7                         0.116901           0          1.42857            0                0.575188                    0               1                          -100      42.8571\n",
       "    14       0.8                         0.0800475          0          1.25               0                0.503289                    0               1                          -100      25\n",
       "    15       0.9                         0.0473553          0          1.11111            0                0.447368                    0               1                          -100      11.1111\n",
       "    16       1                           0.00974841         0          1                  0                0.402632                    0               1                          -100      0"
      ]
     },
     "metadata": {},
     "output_type": "display_data"
    },
    {
     "name": "stdout",
     "output_type": "stream",
     "text": [
      "\n",
      "Scoring History: \n"
     ]
    },
    {
     "data": {
      "text/html": [
       "<div style=\"overflow:auto\"><table style=\"width:50%\"><tr><td><b></b></td>\n",
       "<td><b>timestamp</b></td>\n",
       "<td><b>duration</b></td>\n",
       "<td><b>number_of_trees</b></td>\n",
       "<td><b>training_rmse</b></td>\n",
       "<td><b>training_logloss</b></td>\n",
       "<td><b>training_auc</b></td>\n",
       "<td><b>training_lift</b></td>\n",
       "<td><b>training_classification_error</b></td></tr>\n",
       "<tr><td></td>\n",
       "<td>2017-11-08 15:23:26</td>\n",
       "<td> 0.000 sec</td>\n",
       "<td>0.0</td>\n",
       "<td>0.4904278</td>\n",
       "<td>0.6740643</td>\n",
       "<td>0.5</td>\n",
       "<td>1.0</td>\n",
       "<td>0.5973684</td></tr>\n",
       "<tr><td></td>\n",
       "<td>2017-11-08 15:23:26</td>\n",
       "<td> 0.005 sec</td>\n",
       "<td>1.0</td>\n",
       "<td>0.4686191</td>\n",
       "<td>0.6307225</td>\n",
       "<td>0.8893064</td>\n",
       "<td>2.4836601</td>\n",
       "<td>0.2052632</td></tr>\n",
       "<tr><td></td>\n",
       "<td>2017-11-08 15:23:26</td>\n",
       "<td> 0.008 sec</td>\n",
       "<td>2.0</td>\n",
       "<td>0.4511855</td>\n",
       "<td>0.5972755</td>\n",
       "<td>0.8968789</td>\n",
       "<td>2.4836601</td>\n",
       "<td>0.1868421</td></tr>\n",
       "<tr><td></td>\n",
       "<td>2017-11-08 15:23:26</td>\n",
       "<td> 0.011 sec</td>\n",
       "<td>3.0</td>\n",
       "<td>0.4364517</td>\n",
       "<td>0.5695314</td>\n",
       "<td>0.8989807</td>\n",
       "<td>2.4836601</td>\n",
       "<td>0.1815789</td></tr>\n",
       "<tr><td></td>\n",
       "<td>2017-11-08 15:23:26</td>\n",
       "<td> 0.013 sec</td>\n",
       "<td>4.0</td>\n",
       "<td>0.4235059</td>\n",
       "<td>0.5454486</td>\n",
       "<td>0.9031845</td>\n",
       "<td>2.4836601</td>\n",
       "<td>0.1684211</td></tr>\n",
       "<tr><td>---</td>\n",
       "<td>---</td>\n",
       "<td>---</td>\n",
       "<td>---</td>\n",
       "<td>---</td>\n",
       "<td>---</td>\n",
       "<td>---</td>\n",
       "<td>---</td>\n",
       "<td>---</td></tr>\n",
       "<tr><td></td>\n",
       "<td>2017-11-08 15:23:26</td>\n",
       "<td> 0.190 sec</td>\n",
       "<td>46.0</td>\n",
       "<td>0.2607981</td>\n",
       "<td>0.2566517</td>\n",
       "<td>0.9857764</td>\n",
       "<td>2.4836601</td>\n",
       "<td>0.0631579</td></tr>\n",
       "<tr><td></td>\n",
       "<td>2017-11-08 15:23:26</td>\n",
       "<td> 0.195 sec</td>\n",
       "<td>47.0</td>\n",
       "<td>0.2579166</td>\n",
       "<td>0.2523916</td>\n",
       "<td>0.9866690</td>\n",
       "<td>2.4836601</td>\n",
       "<td>0.0657895</td></tr>\n",
       "<tr><td></td>\n",
       "<td>2017-11-08 15:23:26</td>\n",
       "<td> 0.200 sec</td>\n",
       "<td>48.0</td>\n",
       "<td>0.2570579</td>\n",
       "<td>0.2508900</td>\n",
       "<td>0.9866978</td>\n",
       "<td>2.4836601</td>\n",
       "<td>0.0631579</td></tr>\n",
       "<tr><td></td>\n",
       "<td>2017-11-08 15:23:26</td>\n",
       "<td> 0.205 sec</td>\n",
       "<td>49.0</td>\n",
       "<td>0.2535220</td>\n",
       "<td>0.2459155</td>\n",
       "<td>0.9880510</td>\n",
       "<td>2.4836601</td>\n",
       "<td>0.0631579</td></tr>\n",
       "<tr><td></td>\n",
       "<td>2017-11-08 15:23:26</td>\n",
       "<td> 0.211 sec</td>\n",
       "<td>50.0</td>\n",
       "<td>0.2525595</td>\n",
       "<td>0.2444918</td>\n",
       "<td>0.9882526</td>\n",
       "<td>2.4836601</td>\n",
       "<td>0.0631579</td></tr></table></div>"
      ],
      "text/plain": [
       "     timestamp            duration    number_of_trees    training_rmse    training_logloss    training_auc    training_lift    training_classification_error\n",
       "---  -------------------  ----------  -----------------  ---------------  ------------------  --------------  ---------------  -------------------------------\n",
       "     2017-11-08 15:23:26  0.000 sec   0.0                0.490427762858   0.674064263401      0.5             1.0              0.597368421053\n",
       "     2017-11-08 15:23:26  0.005 sec   1.0                0.468619074637   0.630722536895      0.889306383346  2.48366013072    0.205263157895\n",
       "     2017-11-08 15:23:26  0.008 sec   2.0                0.451185464277   0.597275528716      0.896878869022  2.48366013072    0.186842105263\n",
       "     2017-11-08 15:23:26  0.011 sec   3.0                0.436451698786   0.569531355681      0.89898073767   2.48366013072    0.181578947368\n",
       "     2017-11-08 15:23:26  0.013 sec   4.0                0.42350586729    0.545448639588      0.903184474965  2.48366013072    0.168421052632\n",
       "---  ---                  ---         ---                ---              ---                 ---             ---              ---\n",
       "     2017-11-08 15:23:26  0.190 sec   46.0               0.260798063771   0.25665171288       0.985776395727  2.48366013072    0.0631578947368\n",
       "     2017-11-08 15:23:26  0.195 sec   47.0               0.257916552548   0.252391619428      0.986668970084  2.48366013072    0.0657894736842\n",
       "     2017-11-08 15:23:26  0.200 sec   48.0               0.257057914235   0.250889978828      0.986697762806  2.48366013072    0.0631578947368\n",
       "     2017-11-08 15:23:26  0.205 sec   49.0               0.253522031578   0.245915459067      0.988051020702  2.48366013072    0.0631578947368\n",
       "     2017-11-08 15:23:26  0.211 sec   50.0               0.252559503025   0.244491796997      0.98825256975   2.48366013072    0.0631578947368"
      ]
     },
     "metadata": {},
     "output_type": "display_data"
    },
    {
     "name": "stdout",
     "output_type": "stream",
     "text": [
      "\n",
      "See the whole table with table.as_data_frame()\n",
      "Variable Importances: \n"
     ]
    },
    {
     "data": {
      "text/html": [
       "<div style=\"overflow:auto\"><table style=\"width:50%\"><tr><td><b>variable</b></td>\n",
       "<td><b>relative_importance</b></td>\n",
       "<td><b>scaled_importance</b></td>\n",
       "<td><b>percentage</b></td></tr>\n",
       "<tr><td>GLEASON</td>\n",
       "<td>110.3258133</td>\n",
       "<td>1.0</td>\n",
       "<td>0.3229987</td></tr>\n",
       "<tr><td>ID</td>\n",
       "<td>58.6968040</td>\n",
       "<td>0.5320315</td>\n",
       "<td>0.1718455</td></tr>\n",
       "<tr><td>PSA</td>\n",
       "<td>57.7674637</td>\n",
       "<td>0.5236079</td>\n",
       "<td>0.1691247</td></tr>\n",
       "<tr><td>VOL</td>\n",
       "<td>40.0885315</td>\n",
       "<td>0.3633649</td>\n",
       "<td>0.1173664</td></tr>\n",
       "<tr><td>DPROS</td>\n",
       "<td>34.9556313</td>\n",
       "<td>0.3168400</td>\n",
       "<td>0.1023389</td></tr>\n",
       "<tr><td>AGE</td>\n",
       "<td>31.4995918</td>\n",
       "<td>0.2855142</td>\n",
       "<td>0.0922207</td></tr>\n",
       "<tr><td>DCAPS</td>\n",
       "<td>7.1565890</td>\n",
       "<td>0.0648678</td>\n",
       "<td>0.0209522</td></tr>\n",
       "<tr><td>RACE</td>\n",
       "<td>1.0769546</td>\n",
       "<td>0.0097616</td>\n",
       "<td>0.0031530</td></tr></table></div>"
      ],
      "text/plain": [
       "variable    relative_importance    scaled_importance    percentage\n",
       "----------  ---------------------  -------------------  ------------\n",
       "GLEASON     110.326                1                    0.322999\n",
       "ID          58.6968                0.532031             0.171845\n",
       "PSA         57.7675                0.523608             0.169125\n",
       "VOL         40.0885                0.363365             0.117366\n",
       "DPROS       34.9556                0.31684              0.102339\n",
       "AGE         31.4996                0.285514             0.0922207\n",
       "DCAPS       7.15659                0.0648678            0.0209522\n",
       "RACE        1.07695                0.00976158           0.00315298"
      ]
     },
     "metadata": {},
     "output_type": "display_data"
    },
    {
     "data": {
      "text/plain": []
     },
     "execution_count": 71,
     "metadata": {},
     "output_type": "execute_result"
    }
   ],
   "source": [
    "prostate_gbm"
   ]
  },
  {
   "cell_type": "code",
   "execution_count": 72,
   "metadata": {},
   "outputs": [
    {
     "data": {
      "text/plain": [
       "[(u'GLEASON', 110.32581329345703, 1.0, 0.32299868195890524),\n",
       " (u'ID', 58.69680404663086, 0.5320314647534252, 0.17184546187602212),\n",
       " (u'PSA', 57.76746368408203, 0.5236078661883563, 0.16912465064215393),\n",
       " (u'VOL', 40.088531494140625, 0.3633649306305917, 0.11736639366377016),\n",
       " (u'DPROS', 34.955631256103516, 0.3168400051864978, 0.10233890406709151),\n",
       " (u'AGE', 31.499591827392578, 0.28551424990275315, 0.09222072639907478),\n",
       " (u'DCAPS', 7.156589031219482, 0.06486776591606518, 0.020952202892507852),\n",
       " (u'RACE', 1.0769546031951904, 0.009761583178458745, 0.003152978500474396)]"
      ]
     },
     "execution_count": 72,
     "metadata": {},
     "output_type": "execute_result"
    }
   ],
   "source": [
    "prostate_gbm.varimp()"
   ]
  },
  {
   "cell_type": "code",
   "execution_count": 73,
   "metadata": {},
   "outputs": [
    {
     "data": {
      "image/png": "[encoded data removed]",
      "text/plain": [
       "<matplotlib.figure.Figure at 0x11510fdd0>"
      ]
     },
     "metadata": {},
     "output_type": "display_data"
    }
   ],
   "source": [
    "prostate_gbm.varimp_plot()"
   ]
  },
  {
   "cell_type": "code",
   "execution_count": null,
   "metadata": {
    "collapsed": true
   },
   "outputs": [],
   "source": []
  }
 ],
 "metadata": {
  "kernelspec": {
   "display_name": "Python 2",
   "language": "python",
   "name": "python2"
  },
  "language_info": {
   "codemirror_mode": {
    "name": "ipython",
    "version": 2
   },
   "file_extension": ".py",
   "mimetype": "text/x-python",
   "name": "python",
   "nbconvert_exporter": "python",
   "pygments_lexer": "ipython2",
   "version": "2.7.13"
  }
 },
 "nbformat": 4,
 "nbformat_minor": 2
}
