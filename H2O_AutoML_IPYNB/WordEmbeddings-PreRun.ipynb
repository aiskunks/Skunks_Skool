{
 "cells": [
  {
   "cell_type": "markdown",
   "metadata": {},
   "source": [
    "## Predicting Good Amazon Reviews\n",
    "\n",
    "For this demo, we will be using the [Amazon Fine Food Reviews Data](https://www.kaggle.com/snap/amazon-fine-food-reviews).  The Amazon Fine Food Reviews dataset consists of 568,454 food reviews Amazon users left up to October 2012.\n",
    "\n",
    "This script is based off of the [Craigslist Word2Vec Demo](https://github.com/h2oai/h2o-3/blob/master/h2o-py/demos/word2vec_craigslistjobtitles.ipynb).\n",
    "\n",
    "Our Machine Learning Workflow is: \n",
    "\n",
    "1. Import data into H2O\n",
    "2. Exploratory Analysis\n",
    "3. Tokenize Text\n",
    "4. Train Word2Vec Model\n",
    "5. Analyze Word Embeddings\n",
    "6. Train Positive Review Model with Original Data\n",
    "7. Train Positive Review Model with Word Embeddings\n",
    "8. Run AutoML\n",
    "9. View AutoML in Flow\n",
    "10. Shutdown H2O cluster\n",
    "\n",
    "# Step 1 (of 10).  Import data into H2O\n",
    "\n",
    "We will begin by importing our review data into our H2O cluster."
   ]
  },
  {
   "cell_type": "code",
   "execution_count": 351,
   "metadata": {},
   "outputs": [],
   "source": [
    "import h2o"
   ]
  },
  {
   "cell_type": "code",
   "execution_count": 352,
   "metadata": {},
   "outputs": [
    {
     "name": "stdout",
     "output_type": "stream",
     "text": [
      "Checking whether there is an H2O instance running at http://localhost:54321..... not found.\n",
      "Attempting to start a local H2O server...\n",
      "  Java Version: java version \"1.8.0_201\"; Java(TM) SE Runtime Environment (build 1.8.0_201-b09); Java HotSpot(TM) 64-Bit Server VM (build 25.201-b09, mixed mode)\n",
      "  Starting server from /home/h2o/Miniconda3/envs/h2o/lib/python3.6/site-packages/h2o/backend/bin/h2o.jar\n",
      "  Ice root: /tmp/tmp_7uylthm\n",
      "  JVM stdout: /tmp/tmp_7uylthm/h2o_unknownUser_started_from_python.out\n",
      "  JVM stderr: /tmp/tmp_7uylthm/h2o_unknownUser_started_from_python.err\n",
      "  Server is running at http://127.0.0.1:54321\n",
      "Connecting to H2O server at http://127.0.0.1:54321... successful.\n"
     ]
    },
    {
     "data": {
      "text/html": [
       "<div style=\"overflow:auto\"><table style=\"width:50%\"><tr><td>H2O cluster uptime:</td>\n",
       "<td>01 secs</td></tr>\n",
       "<tr><td>H2O cluster timezone:</td>\n",
       "<td>Etc/UTC</td></tr>\n",
       "<tr><td>H2O data parsing timezone:</td>\n",
       "<td>UTC</td></tr>\n",
       "<tr><td>H2O cluster version:</td>\n",
       "<td>3.22.0.2</td></tr>\n",
       "<tr><td>H2O cluster version age:</td>\n",
       "<td>2 months and 10 days </td></tr>\n",
       "<tr><td>H2O cluster name:</td>\n",
       "<td>H2O_from_python_unknownUser_msdgho</td></tr>\n",
       "<tr><td>H2O cluster total nodes:</td>\n",
       "<td>1</td></tr>\n",
       "<tr><td>H2O cluster free memory:</td>\n",
       "<td>7.111 Gb</td></tr>\n",
       "<tr><td>H2O cluster total cores:</td>\n",
       "<td>4</td></tr>\n",
       "<tr><td>H2O cluster allowed cores:</td>\n",
       "<td>4</td></tr>\n",
       "<tr><td>H2O cluster status:</td>\n",
       "<td>accepting new members, healthy</td></tr>\n",
       "<tr><td>H2O connection url:</td>\n",
       "<td>http://127.0.0.1:54321</td></tr>\n",
       "<tr><td>H2O connection proxy:</td>\n",
       "<td>None</td></tr>\n",
       "<tr><td>H2O internal security:</td>\n",
       "<td>False</td></tr>\n",
       "<tr><td>H2O API Extensions:</td>\n",
       "<td>XGBoost, Algos, AutoML, Core V3, Core V4</td></tr>\n",
       "<tr><td>Python version:</td>\n",
       "<td>3.6.7 final</td></tr></table></div>"
      ],
      "text/plain": [
       "--------------------------  ----------------------------------------\n",
       "H2O cluster uptime:         01 secs\n",
       "H2O cluster timezone:       Etc/UTC\n",
       "H2O data parsing timezone:  UTC\n",
       "H2O cluster version:        3.22.0.2\n",
       "H2O cluster version age:    2 months and 10 days\n",
       "H2O cluster name:           H2O_from_python_unknownUser_msdgho\n",
       "H2O cluster total nodes:    1\n",
       "H2O cluster free memory:    7.111 Gb\n",
       "H2O cluster total cores:    4\n",
       "H2O cluster allowed cores:  4\n",
       "H2O cluster status:         accepting new members, healthy\n",
       "H2O connection url:         http://127.0.0.1:54321\n",
       "H2O connection proxy:\n",
       "H2O internal security:      False\n",
       "H2O API Extensions:         XGBoost, Algos, AutoML, Core V3, Core V4\n",
       "Python version:             3.6.7 final\n",
       "--------------------------  ----------------------------------------"
      ]
     },
     "metadata": {},
     "output_type": "display_data"
    }
   ],
   "source": [
    "h2o.init(max_mem_size=\"8G\", bind_to_localhost=False)"
   ]
  },
  {
   "cell_type": "code",
   "execution_count": 353,
   "metadata": {},
   "outputs": [
    {
     "name": "stdout",
     "output_type": "stream",
     "text": [
      "Parse progress: |█████████████████████████████████████████████████████████| 100%\n"
     ]
    }
   ],
   "source": [
    "# Load data into H2O\n",
    "\n",
    "# https://s3-us-west-2.amazonaws.com/h2o-tutorials/data/topics/nlp/amazon_reviews/AmazonReviews.csv\n",
    "reviews = h2o.import_file(\"../../data/topics/nlp/amazon_reviews/AmazonReviews.csv\")"
   ]
  },
  {
   "cell_type": "markdown",
   "metadata": {},
   "source": [
    "# Step 2 (of 10).  Exploratory Analysis\n",
    "\n",
    "We will start our analysis by exploring the dataset and creating our target column.  In this case, we would like to predict whether or not a reviewer liked the product."
   ]
  },
  {
   "cell_type": "code",
   "execution_count": 354,
   "metadata": {},
   "outputs": [
    {
     "name": "stdout",
     "output_type": "stream",
     "text": [
      "[100000, 10]\n"
     ]
    }
   ],
   "source": [
    "print(reviews.dim)"
   ]
  },
  {
   "cell_type": "code",
   "execution_count": 355,
   "metadata": {},
   "outputs": [
    {
     "data": {
      "text/html": [
       "<table>\n",
       "<thead>\n",
       "<tr><th>ProductId  </th><th>UserId        </th><th>Summary                               </th><th style=\"text-align: right;\">  Score</th><th style=\"text-align: right;\">  HelpfulnessDenominator</th><th style=\"text-align: right;\">    Id</th><th>ProfileName                                     </th><th style=\"text-align: right;\">  HelpfulnessNumerator</th><th style=\"text-align: right;\">       Time</th><th>Text                                                                                                                                                                                                                                                                                                                                                                                                                                                                                                                                                                                                                                                                                                                                                                                                                                                                                                                                                                                                                                                                                                                                                                                                                                                                                                                                                                                                                                                                                                                                                                                                                                                                                                                                                                                                                                                                                                                                                                                                                                                                                                                                                                                                                                                                                                                                                                                                                                                                                                                                                                                                                                                                                                                                                                                                                                                                                                                                                                                                                                                                                                                                                                                                                                                        </th></tr>\n",
       "</thead>\n",
       "<tbody>\n",
       "<tr><td>B00141QYSQ </td><td>A1YS02UZZGRDCT</td><td>Do Not Buy                            </td><td style=\"text-align: right;\">      1</td><td style=\"text-align: right;\">                       2</td><td style=\"text-align: right;\"> 41471</td><td>Evan Eberhardt                                  </td><td style=\"text-align: right;\">                     2</td><td style=\"text-align: right;\">1.34836e+09</td><td>These are made in China (do not buy ANY pet food from China).  Dogswell has been using propylene glycol to soften their treats (what are they thinkng?).  Do not purchase or support this company in any way until they clean up their act.  And for whatever reason Amazon doesn't allow returns of this item, so I had to toss mine out.  Bad business all around on this one.                                                                                                                                                                                                                                                                                                                                                                                                                                                                                                                                                                                                                                                                                                                                                                                                                                                                                                                                                                                                                                                                                                                                                                                                                                                                                                                                                                                                                                                                                                                                                                                                                                                                                                                                                                                                                                                                                                                                                                                                                                                                                                                                                                                                                                                                                                                                                                                                                                                                                                                                                                                                                                                                                                                                                                                                                                                                            </td></tr>\n",
       "<tr><td>B0089SPEO2 </td><td>A3JOYNYL458QHP</td><td>Less lemon and less zing              </td><td style=\"text-align: right;\">      3</td><td style=\"text-align: right;\">                       0</td><td style=\"text-align: right;\"> 28582</td><td>coleridge                                       </td><td style=\"text-align: right;\">                     0</td><td style=\"text-align: right;\">1.32391e+09</td><td>Everything is ok, except it just isn't as good as it is in the bags.  Just considerably more bland -- less lemon and less zing.  Boring.                                                                                                                                                                                                                                                                                                                                                                                                                                                                                                                                                                                                                                                                                                                                                                                                                                                                                                                                                                                                                                                                                                                                                                                                                                                                                                                                                                                                                                                                                                                                                                                                                                                                                                                                                                                                                                                                                                                                                                                                                                                                                                                                                                                                                                                                                                                                                                                                                                                                                                                                                                                                                                                                                                                                                                                                                                                                                                                                                                                                                                                                                                                    </td></tr>\n",
       "<tr><td>B001PMCDK2 </td><td>A14TTMM0Z03Y2W</td><td>my cat goes crazy for these!          </td><td style=\"text-align: right;\">      5</td><td style=\"text-align: right;\">                       0</td><td style=\"text-align: right;\">389965</td><td>Lindsay S. Bradford                             </td><td style=\"text-align: right;\">                     0</td><td style=\"text-align: right;\">1.3106e+09 </td><td>Best cat treat ever. There isn't anything comparable to the love my cat has for these treats, he snubs away any other kind now.<br />I know he likes to manipulate me with his cattiness but these treats are my way of manipulating him to come sit on my lap and have some chill time. :)                                                                                                                                                                                                                                                                                                                                                                                                                                                                                                                                                                                                                                                                                                                                                                                                                                                                                                                                                                                                                                                                                                                                                                                                                                                                                                                                                                                                                                                                                                                                                                                                                                                                                                                                                                                                                                                                                                                                                                                                                                                                                                                                                                                                                                                                                                                                                                                                                                                                                                                                                                                                                                                                                                                                                                                                                                                                                                                                                                 </td></tr>\n",
       "<tr><td>B002Q8JOSI </td><td>A17UQD2RSSQH5X</td><td>My dogs tell me these treats are YUMMY</td><td style=\"text-align: right;\">      5</td><td style=\"text-align: right;\">                       1</td><td style=\"text-align: right;\">212536</td><td>in the dark                                     </td><td style=\"text-align: right;\">                     1</td><td style=\"text-align: right;\">1.31613e+09</td><td>My two Corgis were thoroughly spoiled by my late husband (I spent a year and a half dieting them down a combined total of 25 pounds!)<br /><br />They are accustomed to the finest of fare, and they absolutely love the Wellness brand of treats.                                                                                                                                                                                                                                                                                                                                                                                                                                                                                                                                                                                                                                                                                                                                                                                                                                                                                                                                                                                                                                                                                                                                                                                                                                                                                                                                                                                                                                                                                                                                                                                                                                                                                                                                                                                                                                                                                                                                                                                                                                                                                                                                                                                                                                                                                                                                                                                                                                                                                                                                                                                                                                                                                                                                                                                                                                                                                                                                                                                                          </td></tr>\n",
       "<tr><td>B00176G870 </td><td>A2F2MZW8EOGH5J</td><td>Yummy to the tummy                    </td><td style=\"text-align: right;\">      5</td><td style=\"text-align: right;\">                       0</td><td style=\"text-align: right;\">115971</td><td>daemoncycler \"When you arrive at a fork in th...</td><td style=\"text-align: right;\">                     0</td><td style=\"text-align: right;\">1.33479e+09</td><td>We used to have drive down to the specialty pet food store for this product.  So glad we discovered Amazon.  As far as I can tell it is no more expensive & in some cases less - Prime membership is awesome.  Loving Pets treats are some of the best according to my dog.  They do not develop that nasty smell like some dog treats do.                                                                                                                                                                                                                                                                                                                                                                                                                                                                                                                                                                                                                                                                                                                                                                                                                                                                                                                                                                                                                                                                                                                                                                                                                                                                                                                                                                                                                                                                                                                                                                                                                                                                                                                                                                                                                                                                                                                                                                                                                                                                                                                                                                                                                                                                                                                                                                                                                                                                                                                                                                                                                                                                                                                                                                                                                                                                                                                  </td></tr>\n",
       "<tr><td>B001CHFUGY </td><td>A2M8VROSDPU4JT</td><td>Very good coffee                      </td><td style=\"text-align: right;\">      5</td><td style=\"text-align: right;\">                       1</td><td style=\"text-align: right;\">434484</td><td>Officefan \"Officefankt\"                         </td><td style=\"text-align: right;\">                     1</td><td style=\"text-align: right;\">1.27725e+09</td><td>I really liked this coffee, it was just as good as everyone claimed it was.  Strong, bold and flavorful!  I would recommend!                                                                                                                                                                                                                                                                                                                                                                                                                                                                                                                                                                                                                                                                                                                                                                                                                                                                                                                                                                                                                                                                                                                                                                                                                                                                                                                                                                                                                                                                                                                                                                                                                                                                                                                                                                                                                                                                                                                                                                                                                                                                                                                                                                                                                                                                                                                                                                                                                                                                                                                                                                                                                                                                                                                                                                                                                                                                                                                                                                                                                                                                                                                                </td></tr>\n",
       "<tr><td>B0041CIR62 </td><td>A16I6WJUEBJ1C3</td><td>okay but not as healthy as it appears </td><td style=\"text-align: right;\">      2</td><td style=\"text-align: right;\">                       1</td><td style=\"text-align: right;\">138997</td><td>doctorsirena \"doctorsirena\"                     </td><td style=\"text-align: right;\">                     1</td><td style=\"text-align: right;\">1.34369e+09</td><td>I am always looking for healthier, whole grain versions of foods I enjoy.  Unfortunately, these Peacock brand noodles are yet another food masquerading as healthy.  The product title in big letters on the front says \"Brown Rice Vermicelli\", making the consumer think \"this is made with brown rice, so it should be a healthy choice\".  But the first indication that it is not is when looking at the fiber content on the nutrition facts - only 0.6g per 2oz serving.  Then onto the ingredients list to see why so low... contains brown rice, sago starch and water.  The sago starch comes from palms and must not have much (if any) fiber.<br /><br />The Annie Chun's Maifun Brown Rice Noodles (sold on Amazon and in my local healthy grocer) has become one of my staples and is my frame of reference when comparing to the Peacock brand.  The Annie Chun's product is made with 100% whole grain, with ingredients brown rice flour and water.  Per 2oz serving, it has 4g fiber and pretty much the same calories and other nutrients as the Peacock brand.<br /><br />If you do try this Peacock brand noodles and have not used rice noodles before, you will need to seek guidance elsewhere on preparation.  As others have pointed out, the Peacock package gives almost no directions on how to prepare the product, aside from a brief mention in the recipes (in the header text it does say that they are \"easy-to-cook\" but does not say how).  It also contains a very strange recipe for rice noodles: Aglio Olio style - this is an Italian recipe for noodles with olive oil/garlic/sprinkled with grated cheese that I think would not be very tasty.  The second recipe appears to be for a soup with veggie strips.  Neither recipe gives amounts or much direction.  In comparison, the Annie Chun's package gives clear, specific directions on rice noodle preparation and two recipes.<br /><br />I use rice noodles = maifun = rice sticks = sometimes called vermicelli for making the Vietnamese salad \"bun tofu\", to serve with stir-fried veggies or in lettuce rolls.  They can also be used in spring rolls/egg rolls.  When cooking with thin rice noodles, be careful not to oversoak/overcook/overmix or they tend to disintegrate.  Asian rice noodle vermicelli (maifun) are not the same as Italian vermicelli and are not readily interchangeable.  If making an Italian recipe, the best results would be expected from Italian pasta and not maifun.<br /><br />A few final notes...  Both Peacock and Annie Chun's brown rice noodles are gluten free.  The Peacock is made in Singapore and the Annie Chun's in Thailand.  The Peacock noodles do taste fine (kind of bland), but so do the Annie Chun's.  At this time, they are both approximately the same price.  Peacock come in an plastic bag with some noodle crushage upon shipping; Annie Chun's are perfect upon removal from their cellophane bag in a box.  Overall, I highly recommend the Annie Chun's Maifun as a healthier option over the Peacock brand.  On a related note, the Annie Chun's soba and brown rice pad thai noodles are also excellent.<br /><br />Rating for this product: 2.5 stars rounded down to 2 stars.</td></tr>\n",
       "<tr><td>B001R3BQFW </td><td>AM50E42AFUVNL </td><td>Taste great.                          </td><td style=\"text-align: right;\">      5</td><td style=\"text-align: right;\">                       0</td><td style=\"text-align: right;\">126555</td><td>T. Higley \"Tina\"                                </td><td style=\"text-align: right;\">                     0</td><td style=\"text-align: right;\">1.32356e+09</td><td>I have tried many different drink mix, this is the best tasting by far. It does not have the after taste of the sweetener and I really like it, it is pretty strong, so I use a big water bottle (20 oz) for one tube, it still a little stronger than I like, but it is just my taste.                                                                                                                                                                                                                                                                                                                                                                                                                                                                                                                                                                                                                                                                                                                                                                                                                                                                                                                                                                                                                                                                                                                                                                                                                                                                                                                                                                                                                                                                                                                                                                                                                                                                                                                                                                                                                                                                                                                                                                                                                                                                                                                                                                                                                                                                                                                                                                                                                                                                                                                                                                                                                                                                                                                                                                                                                                                                                                                                                                     </td></tr>\n",
       "<tr><td>B005HGAV8I </td><td>A2I5KDNOESGJ1H</td><td>variety galore                        </td><td style=\"text-align: right;\">      5</td><td style=\"text-align: right;\">                       1</td><td style=\"text-align: right;\">438837</td><td>TJ                                              </td><td style=\"text-align: right;\">                     1</td><td style=\"text-align: right;\">1.33402e+09</td><td>This is my favorite item to order for my Keurig. There are so many flavors, my finicky palate never gets bored!  The only downside is there are probably 5-6 decaf varieties.  I don't drink decaf (I REQUIRE copious amounts of caffeine), so they sit on the shelf...                                                                                                                                                                                                                                                                                                                                                                                                                                                                                                                                                                                                                                                                                                                                                                                                                                                                                                                                                                                                                                                                                                                                                                                                                                                                                                                                                                                                                                                                                                                                                                                                                                                                                                                                                                                                                                                                                                                                                                                                                                                                                                                                                                                                                                                                                                                                                                                                                                                                                                                                                                                                                                                                                                                                                                                                                                                                                                                                                                                     </td></tr>\n",
       "<tr><td>B000GFYRHQ </td><td>A3A7YUR6FS6ZCI</td><td>Bigelow Earl Grey Green Tea           </td><td style=\"text-align: right;\">      5</td><td style=\"text-align: right;\">                       0</td><td style=\"text-align: right;\">245379</td><td>Tea Lover                                       </td><td style=\"text-align: right;\">                     0</td><td style=\"text-align: right;\">1.17841e+09</td><td>Tastes like Earl Grey, but it's green tea so it's healthier.                                                                                                                                                                                                                                                                                                                                                                                                                                                                                                                                                                                                                                                                                                                                                                                                                                                                                                                                                                                                                                                                                                                                                                                                                                                                                                                                                                                                                                                                                                                                                                                                                                                                                                                                                                                                                                                                                                                                                                                                                                                                                                                                                                                                                                                                                                                                                                                                                                                                                                                                                                                                                                                                                                                                                                                                                                                                                                                                                                                                                                                                                                                                                                                                </td></tr>\n",
       "</tbody>\n",
       "</table>"
      ]
     },
     "metadata": {},
     "output_type": "display_data"
    },
    {
     "data": {
      "text/plain": []
     },
     "execution_count": 355,
     "metadata": {},
     "output_type": "execute_result"
    }
   ],
   "source": [
    "reviews.head()"
   ]
  },
  {
   "cell_type": "code",
   "execution_count": 356,
   "metadata": {},
   "outputs": [
    {
     "data": {
      "text/html": [
       "<table>\n",
       "<thead>\n",
       "<tr><th style=\"text-align: right;\">  Score</th><th style=\"text-align: right;\">  Count</th></tr>\n",
       "</thead>\n",
       "<tbody>\n",
       "<tr><td style=\"text-align: right;\">      1</td><td style=\"text-align: right;\">   9204</td></tr>\n",
       "<tr><td style=\"text-align: right;\">      2</td><td style=\"text-align: right;\">   5180</td></tr>\n",
       "<tr><td style=\"text-align: right;\">      3</td><td style=\"text-align: right;\">   7407</td></tr>\n",
       "<tr><td style=\"text-align: right;\">      4</td><td style=\"text-align: right;\">  14221</td></tr>\n",
       "<tr><td style=\"text-align: right;\">      5</td><td style=\"text-align: right;\">  63988</td></tr>\n",
       "</tbody>\n",
       "</table>"
      ]
     },
     "metadata": {},
     "output_type": "display_data"
    },
    {
     "data": {
      "text/plain": []
     },
     "execution_count": 356,
     "metadata": {},
     "output_type": "execute_result"
    }
   ],
   "source": [
    "reviews[\"Score\"].table()"
   ]
  },
  {
   "cell_type": "code",
   "execution_count": 357,
   "metadata": {},
   "outputs": [
    {
     "data": {
      "text/html": [
       "<table>\n",
       "<thead>\n",
       "<tr><th>Summary      </th><th style=\"text-align: right;\">  Count</th></tr>\n",
       "</thead>\n",
       "<tbody>\n",
       "<tr><td>Delicious    </td><td style=\"text-align: right;\">    426</td></tr>\n",
       "<tr><td>Delicious!   </td><td style=\"text-align: right;\">    417</td></tr>\n",
       "<tr><td>Yummy!       </td><td style=\"text-align: right;\">    284</td></tr>\n",
       "<tr><td>Yummy        </td><td style=\"text-align: right;\">    222</td></tr>\n",
       "<tr><td>Great product</td><td style=\"text-align: right;\">    204</td></tr>\n",
       "<tr><td>Yum!         </td><td style=\"text-align: right;\">    193</td></tr>\n",
       "<tr><td>Excellent    </td><td style=\"text-align: right;\">    183</td></tr>\n",
       "<tr><td>Great Product</td><td style=\"text-align: right;\">    155</td></tr>\n",
       "<tr><td>Love it!     </td><td style=\"text-align: right;\">    154</td></tr>\n",
       "<tr><td>Great        </td><td style=\"text-align: right;\">    138</td></tr>\n",
       "</tbody>\n",
       "</table>"
      ]
     },
     "metadata": {},
     "output_type": "display_data"
    },
    {
     "data": {
      "text/plain": []
     },
     "execution_count": 357,
     "metadata": {},
     "output_type": "execute_result"
    }
   ],
   "source": [
    "summary_freq = reviews[\"Summary\"].table()\n",
    "summary_freq = summary_freq.sort(\"Count\", ascending = [False])\n",
    "summary_freq.head()"
   ]
  },
  {
   "cell_type": "code",
   "execution_count": 358,
   "metadata": {},
   "outputs": [],
   "source": [
    "#' Add Target Column: \"PositiveReview\"\n",
    "reviews[\"PositiveReview\"] = (reviews[\"Score\"] >= 4).ifelse(\"1\", \"0\")"
   ]
  },
  {
   "cell_type": "code",
   "execution_count": 359,
   "metadata": {},
   "outputs": [
    {
     "data": {
      "text/html": [
       "<table>\n",
       "<thead>\n",
       "<tr><th style=\"text-align: right;\">  PositiveReview</th><th style=\"text-align: right;\">  Count</th></tr>\n",
       "</thead>\n",
       "<tbody>\n",
       "<tr><td style=\"text-align: right;\">               0</td><td style=\"text-align: right;\">  21791</td></tr>\n",
       "<tr><td style=\"text-align: right;\">               1</td><td style=\"text-align: right;\">  78209</td></tr>\n",
       "</tbody>\n",
       "</table>"
      ]
     },
     "metadata": {},
     "output_type": "display_data"
    },
    {
     "data": {
      "text/plain": []
     },
     "execution_count": 359,
     "metadata": {},
     "output_type": "execute_result"
    }
   ],
   "source": [
    "reviews[\"PositiveReview\"].table()"
   ]
  },
  {
   "cell_type": "markdown",
   "metadata": {},
   "source": [
    "# Step 3 (of 10).  Tokenize Words\n",
    "\n",
    "\n",
    "We will tokenize the words in the review column. We will do this by creating a function called `tokenize`.  This will split the reviews into words and remove any stop words, small words, or words with numbers in them."
   ]
  },
  {
   "cell_type": "code",
   "execution_count": 360,
   "metadata": {},
   "outputs": [
    {
     "data": {
      "text/plain": [
       "['all',\n",
       " 'just',\n",
       " 'being',\n",
       " 'over',\n",
       " 'both',\n",
       " 'through',\n",
       " 'yourselves',\n",
       " 'its',\n",
       " 'before',\n",
       " 'o',\n",
       " 'hadn',\n",
       " 'herself',\n",
       " 'll',\n",
       " 'had',\n",
       " 'should',\n",
       " 'to',\n",
       " 'only',\n",
       " 'won',\n",
       " 'under',\n",
       " 'ours',\n",
       " 'has',\n",
       " 'do',\n",
       " 'them',\n",
       " 'his',\n",
       " 'very',\n",
       " 'they',\n",
       " 'not',\n",
       " 'during',\n",
       " 'now',\n",
       " 'him',\n",
       " 'nor',\n",
       " 'd',\n",
       " 'did',\n",
       " 'didn',\n",
       " 'this',\n",
       " 'she',\n",
       " 'each',\n",
       " 'further',\n",
       " 'where',\n",
       " 'few',\n",
       " 'because',\n",
       " 'doing',\n",
       " 'some',\n",
       " 'hasn',\n",
       " 'are',\n",
       " 'our',\n",
       " 'ourselves',\n",
       " 'out',\n",
       " 'what',\n",
       " 'for',\n",
       " 'while',\n",
       " 're',\n",
       " 'does',\n",
       " 'above',\n",
       " 'between',\n",
       " 'mustn',\n",
       " 't',\n",
       " 'be',\n",
       " 'we',\n",
       " 'who',\n",
       " 'were',\n",
       " 'here',\n",
       " 'shouldn',\n",
       " 'hers',\n",
       " 'by',\n",
       " 'on',\n",
       " 'about',\n",
       " 'couldn',\n",
       " 'of',\n",
       " 'against',\n",
       " 's',\n",
       " 'isn',\n",
       " 'or',\n",
       " 'own',\n",
       " 'into',\n",
       " 'yourself',\n",
       " 'down',\n",
       " 'mightn',\n",
       " 'wasn',\n",
       " 'your',\n",
       " 'from',\n",
       " 'her',\n",
       " 'their',\n",
       " 'aren',\n",
       " 'there',\n",
       " 'been',\n",
       " 'whom',\n",
       " 'too',\n",
       " 'wouldn',\n",
       " 'themselves',\n",
       " 'weren',\n",
       " 'was',\n",
       " 'until',\n",
       " 'more',\n",
       " 'himself',\n",
       " 'that',\n",
       " 'but',\n",
       " 'don',\n",
       " 'with',\n",
       " 'than',\n",
       " 'those',\n",
       " 'he',\n",
       " 'me',\n",
       " 'myself',\n",
       " 'ma',\n",
       " 'these',\n",
       " 'up',\n",
       " 'will',\n",
       " 'below',\n",
       " 'ain',\n",
       " 'can',\n",
       " 'theirs',\n",
       " 'my',\n",
       " 'and',\n",
       " 've',\n",
       " 'then',\n",
       " 'is',\n",
       " 'am',\n",
       " 'it',\n",
       " 'doesn',\n",
       " 'an',\n",
       " 'as',\n",
       " 'itself',\n",
       " 'at',\n",
       " 'have',\n",
       " 'in',\n",
       " 'any',\n",
       " 'if',\n",
       " 'again',\n",
       " 'no',\n",
       " 'when',\n",
       " 'same',\n",
       " 'how',\n",
       " 'other',\n",
       " 'which',\n",
       " 'you',\n",
       " 'shan',\n",
       " 'needn',\n",
       " 'haven',\n",
       " 'after',\n",
       " 'most',\n",
       " 'such',\n",
       " 'why',\n",
       " 'a',\n",
       " 'off',\n",
       " 'i',\n",
       " 'm',\n",
       " 'yours',\n",
       " 'so',\n",
       " 'y',\n",
       " 'the',\n",
       " 'having',\n",
       " 'once']"
      ]
     },
     "execution_count": 360,
     "metadata": {},
     "output_type": "execute_result"
    }
   ],
   "source": [
    "# Set Stop Words\n",
    "# The STOP WORDS we are importing are from the nltk package\n",
    "import pandas as pd\n",
    "\n",
    "# https://s3-us-west-2.amazonaws.com/h2o-tutorials/data/topics/nlp/amazon_reviews/stopwords.csv\n",
    "STOP_WORDS = pd.read_csv(\"../../data/topics/nlp/amazon_reviews/stopwords.csv\", header=0)\n",
    "STOP_WORDS = list(STOP_WORDS['STOP_WORD'])\n",
    "\n",
    "STOP_WORDS"
   ]
  },
  {
   "cell_type": "code",
   "execution_count": 361,
   "metadata": {},
   "outputs": [],
   "source": [
    "def tokenize(sentences, stop_word = STOP_WORDS):\n",
    "    tokenized = sentences.tokenize(\"\\\\W+\")\n",
    "    tokenized_lower = tokenized.tolower()\n",
    "    tokenized_filtered = tokenized_lower[(tokenized_lower.nchar() >= 2) | (tokenized_lower.isna()),:]\n",
    "    tokenized_words = tokenized_filtered[tokenized_filtered.grep(\"[0-9]\",invert=True,output_logical=True),:]\n",
    "    tokenized_words = tokenized_words[(tokenized_words.isna()) | (~ tokenized_words.isin(STOP_WORDS)),:]\n",
    "    return tokenized_words"
   ]
  },
  {
   "cell_type": "code",
   "execution_count": 362,
   "metadata": {},
   "outputs": [],
   "source": [
    "# Break reviews into sequence of words\n",
    "words = tokenize(reviews[\"Text\"])"
   ]
  },
  {
   "cell_type": "code",
   "execution_count": 363,
   "metadata": {},
   "outputs": [
    {
     "data": {
      "text/html": [
       "<table>\n",
       "<thead>\n",
       "<tr><th>C1       </th></tr>\n",
       "</thead>\n",
       "<tbody>\n",
       "<tr><td>made     </td></tr>\n",
       "<tr><td>china    </td></tr>\n",
       "<tr><td>buy      </td></tr>\n",
       "<tr><td>pet      </td></tr>\n",
       "<tr><td>food     </td></tr>\n",
       "<tr><td>china    </td></tr>\n",
       "<tr><td>dogswell </td></tr>\n",
       "<tr><td>using    </td></tr>\n",
       "<tr><td>propylene</td></tr>\n",
       "<tr><td>glycol   </td></tr>\n",
       "</tbody>\n",
       "</table>"
      ]
     },
     "metadata": {},
     "output_type": "display_data"
    },
    {
     "data": {
      "text/plain": []
     },
     "execution_count": 363,
     "metadata": {},
     "output_type": "execute_result"
    }
   ],
   "source": [
    "words.head()"
   ]
  },
  {
   "cell_type": "markdown",
   "metadata": {},
   "source": [
    "# Step 4 (of 10).  Train Word2Vec Model\n",
    "\n",
    "Now that we've tokenized our words, we can train a word2vec model. We will start by creating word embeddings of length 2.  We will use these to understand the word embedding since they can be easily visualized. "
   ]
  },
  {
   "cell_type": "code",
   "execution_count": 364,
   "metadata": {},
   "outputs": [
    {
     "name": "stdout",
     "output_type": "stream",
     "text": [
      "word2vec Model Build progress: |██████████████████████████████████████████| 100%\n"
     ]
    }
   ],
   "source": [
    "# Train Word2Vec Model for vec size = 2\n",
    "from h2o.estimators.word2vec import H2OWord2vecEstimator\n",
    "\n",
    "w2v_len2_model = H2OWord2vecEstimator(vec_size = 2, model_id = \"w2v_len2.hex\")\n",
    "w2v_len2_model.train(training_frame=words)"
   ]
  },
  {
   "cell_type": "markdown",
   "metadata": {},
   "source": [
    "# Step 5 (of 10).  Analyze Word Embeddings\n",
    "\n",
    "We have created word embeddings for each word in our corpus, now we want to understand what they mean and how to interpret them.  The word embeddings for the first few words are shown below."
   ]
  },
  {
   "cell_type": "code",
   "execution_count": 365,
   "metadata": {},
   "outputs": [
    {
     "data": {
      "text/html": [
       "<table>\n",
       "<thead>\n",
       "<tr><th>Word     </th><th style=\"text-align: right;\">      C1</th><th style=\"text-align: right;\">       C2</th></tr>\n",
       "</thead>\n",
       "<tbody>\n",
       "<tr><td>made     </td><td style=\"text-align: right;\">0.610339</td><td style=\"text-align: right;\"> 0.231565</td></tr>\n",
       "<tr><td>china    </td><td style=\"text-align: right;\">0.716439</td><td style=\"text-align: right;\">-0.444724</td></tr>\n",
       "<tr><td>buy      </td><td style=\"text-align: right;\">0.718317</td><td style=\"text-align: right;\">-0.220201</td></tr>\n",
       "<tr><td>pet      </td><td style=\"text-align: right;\">0.936121</td><td style=\"text-align: right;\">-1.02212 </td></tr>\n",
       "<tr><td>food     </td><td style=\"text-align: right;\">0.853329</td><td style=\"text-align: right;\">-0.506986</td></tr>\n",
       "<tr><td>china    </td><td style=\"text-align: right;\">0.716439</td><td style=\"text-align: right;\">-0.444724</td></tr>\n",
       "<tr><td>dogswell </td><td style=\"text-align: right;\">0.911542</td><td style=\"text-align: right;\">-0.810621</td></tr>\n",
       "<tr><td>using    </td><td style=\"text-align: right;\">0.596196</td><td style=\"text-align: right;\"> 0.12708 </td></tr>\n",
       "<tr><td>propylene</td><td style=\"text-align: right;\">0.110746</td><td style=\"text-align: right;\"> 1.02412 </td></tr>\n",
       "<tr><td>glycol   </td><td style=\"text-align: right;\">0.10385 </td><td style=\"text-align: right;\"> 0.919851</td></tr>\n",
       "</tbody>\n",
       "</table>"
      ]
     },
     "metadata": {},
     "output_type": "display_data"
    },
    {
     "data": {
      "text/plain": []
     },
     "execution_count": 365,
     "metadata": {},
     "output_type": "execute_result"
    }
   ],
   "source": [
    "sample_embeddings = words.head()\n",
    "sample_embeddings.col_names = [\"Word\"]\n",
    "sample_embeddings = sample_embeddings.cbind(w2v_len2_model.transform(sample_embeddings, aggregate_method=\"None\"))\n",
    "\n",
    "sample_embeddings"
   ]
  },
  {
   "cell_type": "markdown",
   "metadata": {},
   "source": [
    "We will plot the word embeddings to see which words are related to one another."
   ]
  },
  {
   "cell_type": "code",
   "execution_count": 366,
   "metadata": {},
   "outputs": [
    {
     "data": {
      "text/html": [
       "<table>\n",
       "<thead>\n",
       "<tr><th>Word    </th><th style=\"text-align: right;\">      V1</th><th style=\"text-align: right;\">        V2</th></tr>\n",
       "</thead>\n",
       "<tbody>\n",
       "<tr><td>kronung </td><td style=\"text-align: right;\">0.419184</td><td style=\"text-align: right;\"> 0.460847 </td></tr>\n",
       "<tr><td>berge   </td><td style=\"text-align: right;\">0.269701</td><td style=\"text-align: right;\">-0.109011 </td></tr>\n",
       "<tr><td>ewww    </td><td style=\"text-align: right;\">0.613415</td><td style=\"text-align: right;\"> 0.182156 </td></tr>\n",
       "<tr><td>maison  </td><td style=\"text-align: right;\">0.398088</td><td style=\"text-align: right;\"> 0.674622 </td></tr>\n",
       "<tr><td>mattered</td><td style=\"text-align: right;\">1.00475 </td><td style=\"text-align: right;\"> 0.171814 </td></tr>\n",
       "<tr><td>helpings</td><td style=\"text-align: right;\">0.472761</td><td style=\"text-align: right;\">-0.0391524</td></tr>\n",
       "<tr><td>twitter </td><td style=\"text-align: right;\">0.708145</td><td style=\"text-align: right;\">-0.095113 </td></tr>\n",
       "<tr><td>aah     </td><td style=\"text-align: right;\">0.575162</td><td style=\"text-align: right;\"> 0.401143 </td></tr>\n",
       "<tr><td>reverted</td><td style=\"text-align: right;\">0.944553</td><td style=\"text-align: right;\">-0.12086  </td></tr>\n",
       "<tr><td>mroe    </td><td style=\"text-align: right;\">0.777501</td><td style=\"text-align: right;\"> 0.0888365</td></tr>\n",
       "</tbody>\n",
       "</table>"
      ]
     },
     "metadata": {},
     "output_type": "display_data"
    },
    {
     "data": {
      "text/plain": []
     },
     "execution_count": 366,
     "metadata": {},
     "output_type": "execute_result"
    }
   ],
   "source": [
    "word_embeddings = w2v_len2_model.to_frame()\n",
    "word_embeddings.head()"
   ]
  },
  {
   "cell_type": "code",
   "execution_count": 367,
   "metadata": {},
   "outputs": [],
   "source": [
    "# Filter Word Embeddings to selected words\n",
    "\n",
    "selected_words = [\"coffee\", \"espresso\", \"starbucks\", \"sweet\", \"salty\", \"savory\", \"email\", \"support\", \"answered\", \n",
    "                  \"unhappy\", \"waited\", \"returned\", \"tasty\", \"yummy\", \"moldy\", \"expired\", \"salmonella\", \"best\", \n",
    "                  \"amazing\", \"abdominal\", \"folic\", \"zinc\"]\n",
    "\n",
    "filtered_embeddings = word_embeddings[word_embeddings[\"Word\"].isin(selected_words)]\n",
    "plot_data = filtered_embeddings.as_data_frame(use_pandas = True)"
   ]
  },
  {
   "cell_type": "code",
   "execution_count": 368,
   "metadata": {},
   "outputs": [
    {
     "data": {
      "image/png": "[encoded data removed]",
      "text/plain": [
       "<Figure size 1440x720 with 1 Axes>"
      ]
     },
     "metadata": {
      "needs_background": "light"
     },
     "output_type": "display_data"
    }
   ],
   "source": [
    "# Plot Word Embeddings\n",
    "import matplotlib.pyplot as plt\n",
    "\n",
    "fig, ax = plt.subplots(figsize=(20, 10))\n",
    "ax.scatter(plot_data[\"V1\"], plot_data[\"V2\"])\n",
    "\n",
    "for i, txt in enumerate(plot_data[\"Word\"]):\n",
    "    ax.annotate(txt, (plot_data[\"V1\"].iloc[i], plot_data[\"V2\"].iloc[i]))"
   ]
  },
  {
   "cell_type": "markdown",
   "metadata": {},
   "source": [
    "##### We will train a more complex word2vec model with length 100 - this will be able to catch further nuances in the text."
   ]
  },
  {
   "cell_type": "code",
   "execution_count": 369,
   "metadata": {},
   "outputs": [
    {
     "name": "stdout",
     "output_type": "stream",
     "text": [
      "word2vec Model Build progress: |██████████████████████████████████████████| 100%\n"
     ]
    }
   ],
   "source": [
    "# Train Word2Vec Model for vec size = 100\n",
    "w2v_model = H2OWord2vecEstimator(vec_size = 100, model_id = \"w2v.hex\")\n",
    "w2v_model.train(training_frame=words)"
   ]
  },
  {
   "cell_type": "markdown",
   "metadata": {},
   "source": [
    "One way to interpret the word embeddings is to use them to find synonyms. The `find_synonyms` function finds the words that have the smallest cosine distance in word embeddings.  We assume that if the word embeddings are similar, the two words are synonyms."
   ]
  },
  {
   "cell_type": "code",
   "execution_count": 370,
   "metadata": {},
   "outputs": [
    {
     "data": {
      "text/plain": [
       "OrderedDict([('coffe', 0.8031262159347534),\n",
       "             ('coffees', 0.7833374738693237),\n",
       "             ('starbucks', 0.7626325488090515),\n",
       "             ('expresso', 0.757642388343811),\n",
       "             ('espresso', 0.7523917555809021)])"
      ]
     },
     "execution_count": 370,
     "metadata": {},
     "output_type": "execute_result"
    }
   ],
   "source": [
    "# Sanity check - find synonyms for the word 'coffee'\n",
    "w2v_model.find_synonyms(\"coffee\", count = 5)"
   ]
  },
  {
   "cell_type": "code",
   "execution_count": 371,
   "metadata": {},
   "outputs": [
    {
     "data": {
      "text/plain": [
       "OrderedDict([('rancid', 0.7185792326927185),\n",
       "             ('moldy', 0.691475510597229),\n",
       "             ('inedible', 0.6480197310447693),\n",
       "             ('expired', 0.6422848701477051),\n",
       "             ('tasteless', 0.621466875076294)])"
      ]
     },
     "execution_count": 371,
     "metadata": {},
     "output_type": "execute_result"
    }
   ],
   "source": [
    "# Sanity check - find synonyms for the word 'stale'\n",
    "w2v_model.find_synonyms(\"stale\", count = 5)"
   ]
  },
  {
   "cell_type": "markdown",
   "metadata": {},
   "source": [
    "We will cluster the word embeddings to identify segments of similar words. "
   ]
  },
  {
   "cell_type": "code",
   "execution_count": 372,
   "metadata": {},
   "outputs": [
    {
     "data": {
      "text/html": [
       "<table>\n",
       "<thead>\n",
       "<tr><th>Word    </th><th style=\"text-align: right;\">        V1</th><th style=\"text-align: right;\">        V2</th><th style=\"text-align: right;\">         V3</th><th style=\"text-align: right;\">        V4</th><th style=\"text-align: right;\">        V5</th><th style=\"text-align: right;\">        V6</th><th style=\"text-align: right;\">         V7</th><th style=\"text-align: right;\">        V8</th><th style=\"text-align: right;\">        V9</th><th style=\"text-align: right;\">        V10</th><th style=\"text-align: right;\">        V11</th><th style=\"text-align: right;\">       V12</th><th style=\"text-align: right;\">        V13</th><th style=\"text-align: right;\">        V14</th><th style=\"text-align: right;\">       V15</th><th style=\"text-align: right;\">       V16</th><th style=\"text-align: right;\">       V17</th><th style=\"text-align: right;\">       V18</th><th style=\"text-align: right;\">       V19</th><th style=\"text-align: right;\">       V20</th><th style=\"text-align: right;\">       V21</th><th style=\"text-align: right;\">        V22</th><th style=\"text-align: right;\">       V23</th><th style=\"text-align: right;\">       V24</th><th style=\"text-align: right;\">        V25</th><th style=\"text-align: right;\">       V26</th><th style=\"text-align: right;\">       V27</th><th style=\"text-align: right;\">       V28</th><th style=\"text-align: right;\">       V29</th><th style=\"text-align: right;\">       V30</th><th style=\"text-align: right;\">       V31</th><th style=\"text-align: right;\">       V32</th><th style=\"text-align: right;\">      V33</th><th style=\"text-align: right;\">       V34</th><th style=\"text-align: right;\">       V35</th><th style=\"text-align: right;\">       V36</th><th style=\"text-align: right;\">       V37</th><th style=\"text-align: right;\">       V38</th><th style=\"text-align: right;\">        V39</th><th style=\"text-align: right;\">       V40</th><th style=\"text-align: right;\">       V41</th><th style=\"text-align: right;\">       V42</th><th style=\"text-align: right;\">       V43</th><th style=\"text-align: right;\">       V44</th><th style=\"text-align: right;\">        V45</th><th style=\"text-align: right;\">        V46</th><th style=\"text-align: right;\">       V47</th><th style=\"text-align: right;\">      V48</th><th style=\"text-align: right;\">        V49</th><th style=\"text-align: right;\">        V50</th><th style=\"text-align: right;\">        V51</th><th style=\"text-align: right;\">       V52</th><th style=\"text-align: right;\">       V53</th><th style=\"text-align: right;\">        V54</th><th style=\"text-align: right;\">        V55</th><th style=\"text-align: right;\">        V56</th><th style=\"text-align: right;\">       V57</th><th style=\"text-align: right;\">       V58</th><th style=\"text-align: right;\">        V59</th><th style=\"text-align: right;\">       V60</th><th style=\"text-align: right;\">       V61</th><th style=\"text-align: right;\">         V62</th><th style=\"text-align: right;\">       V63</th><th style=\"text-align: right;\">       V64</th><th style=\"text-align: right;\">        V65</th><th style=\"text-align: right;\">        V66</th><th style=\"text-align: right;\">       V67</th><th style=\"text-align: right;\">        V68</th><th style=\"text-align: right;\">        V69</th><th style=\"text-align: right;\">        V70</th><th style=\"text-align: right;\">       V71</th><th style=\"text-align: right;\">        V72</th><th style=\"text-align: right;\">        V73</th><th style=\"text-align: right;\">       V74</th><th style=\"text-align: right;\">       V75</th><th style=\"text-align: right;\">       V76</th><th style=\"text-align: right;\">       V77</th><th style=\"text-align: right;\">        V78</th><th style=\"text-align: right;\">       V79</th><th style=\"text-align: right;\">       V80</th><th style=\"text-align: right;\">       V81</th><th style=\"text-align: right;\">       V82</th><th style=\"text-align: right;\">        V83</th><th style=\"text-align: right;\">       V84</th><th style=\"text-align: right;\">        V85</th><th style=\"text-align: right;\">       V86</th><th style=\"text-align: right;\">        V87</th><th style=\"text-align: right;\">        V88</th><th style=\"text-align: right;\">       V89</th><th style=\"text-align: right;\">        V90</th><th style=\"text-align: right;\">       V91</th><th style=\"text-align: right;\">         V92</th><th style=\"text-align: right;\">     V93</th><th style=\"text-align: right;\">        V94</th><th style=\"text-align: right;\">       V95</th><th style=\"text-align: right;\">       V96</th><th style=\"text-align: right;\">       V97</th><th style=\"text-align: right;\">        V98</th><th style=\"text-align: right;\">        V99</th><th style=\"text-align: right;\">      V100</th></tr>\n",
       "</thead>\n",
       "<tbody>\n",
       "<tr><td>kronung </td><td style=\"text-align: right;\">-0.186979 </td><td style=\"text-align: right;\">-0.0153036</td><td style=\"text-align: right;\"> 0.00903588</td><td style=\"text-align: right;\"> 0.192138 </td><td style=\"text-align: right;\">-0.015826 </td><td style=\"text-align: right;\">-0.0948709</td><td style=\"text-align: right;\">-0.0130764 </td><td style=\"text-align: right;\">-0.0664779</td><td style=\"text-align: right;\"> 0.0502882</td><td style=\"text-align: right;\"> 0.159545  </td><td style=\"text-align: right;\"> 0.0448018 </td><td style=\"text-align: right;\"> 0.0911593</td><td style=\"text-align: right;\">-0.149339  </td><td style=\"text-align: right;\">-0.0179864 </td><td style=\"text-align: right;\">-0.131887 </td><td style=\"text-align: right;\"> 0.0524951</td><td style=\"text-align: right;\">-0.301796 </td><td style=\"text-align: right;\">-0.330235 </td><td style=\"text-align: right;\"> 0.209257 </td><td style=\"text-align: right;\"> 0.226235 </td><td style=\"text-align: right;\"> 0.17329  </td><td style=\"text-align: right;\"> 0.0447856 </td><td style=\"text-align: right;\">-0.0985032</td><td style=\"text-align: right;\"> 0.183645 </td><td style=\"text-align: right;\"> 0.137673  </td><td style=\"text-align: right;\">-0.123419 </td><td style=\"text-align: right;\">-0.028752 </td><td style=\"text-align: right;\">-0.18716  </td><td style=\"text-align: right;\">-0.0915169</td><td style=\"text-align: right;\">-0.0534096</td><td style=\"text-align: right;\">-0.142204 </td><td style=\"text-align: right;\"> 0.0089295</td><td style=\"text-align: right;\">0.246172 </td><td style=\"text-align: right;\"> 0.123501 </td><td style=\"text-align: right;\">-0.177005 </td><td style=\"text-align: right;\">-0.0952818</td><td style=\"text-align: right;\"> 0.0952784</td><td style=\"text-align: right;\">-0.170744 </td><td style=\"text-align: right;\">-0.200568  </td><td style=\"text-align: right;\">-0.0782143</td><td style=\"text-align: right;\"> 0.141527 </td><td style=\"text-align: right;\">-0.229289 </td><td style=\"text-align: right;\">-0.0776954</td><td style=\"text-align: right;\"> 0.0580285</td><td style=\"text-align: right;\">-0.163326  </td><td style=\"text-align: right;\">-0.0850556 </td><td style=\"text-align: right;\"> 0.0566811</td><td style=\"text-align: right;\"> 0.110682</td><td style=\"text-align: right;\">-0.133351  </td><td style=\"text-align: right;\"> 0.0613863 </td><td style=\"text-align: right;\"> 0.107579  </td><td style=\"text-align: right;\"> 0.0664217</td><td style=\"text-align: right;\"> 0.170823 </td><td style=\"text-align: right;\"> 0.137167  </td><td style=\"text-align: right;\">-0.00695534</td><td style=\"text-align: right;\"> 0.230261  </td><td style=\"text-align: right;\">-0.0815008</td><td style=\"text-align: right;\">-0.0201681</td><td style=\"text-align: right;\">-0.13876   </td><td style=\"text-align: right;\"> 0.129282 </td><td style=\"text-align: right;\"> 0.141181 </td><td style=\"text-align: right;\"> 0.0339449  </td><td style=\"text-align: right;\"> 0.116144 </td><td style=\"text-align: right;\"> 0.114986 </td><td style=\"text-align: right;\"> 0.0674399 </td><td style=\"text-align: right;\">-0.120704  </td><td style=\"text-align: right;\"> 0.113887 </td><td style=\"text-align: right;\">-0.00512403</td><td style=\"text-align: right;\"> 0.127136  </td><td style=\"text-align: right;\"> 0.0204725 </td><td style=\"text-align: right;\"> 0.167883 </td><td style=\"text-align: right;\">-0.00992536</td><td style=\"text-align: right;\"> 0.195811  </td><td style=\"text-align: right;\">-0.0696723</td><td style=\"text-align: right;\">-0.171999 </td><td style=\"text-align: right;\"> 0.0353726</td><td style=\"text-align: right;\"> 0.0163219</td><td style=\"text-align: right;\"> 0.150309  </td><td style=\"text-align: right;\">-0.0437225</td><td style=\"text-align: right;\">-0.213199 </td><td style=\"text-align: right;\">-0.0936342</td><td style=\"text-align: right;\"> 0.0115403</td><td style=\"text-align: right;\"> 0.0314848 </td><td style=\"text-align: right;\">-0.0409124</td><td style=\"text-align: right;\">-0.357439  </td><td style=\"text-align: right;\"> 0.0447146</td><td style=\"text-align: right;\"> 0.129435  </td><td style=\"text-align: right;\"> 0.0607185 </td><td style=\"text-align: right;\"> 0.0609706</td><td style=\"text-align: right;\">-0.330273  </td><td style=\"text-align: right;\">-0.151227 </td><td style=\"text-align: right;\">-0.0578362  </td><td style=\"text-align: right;\">0.117452</td><td style=\"text-align: right;\"> 0.0415204 </td><td style=\"text-align: right;\">-0.0959512</td><td style=\"text-align: right;\">-0.125975 </td><td style=\"text-align: right;\">-0.0195938</td><td style=\"text-align: right;\">-0.123947  </td><td style=\"text-align: right;\"> 0.186205  </td><td style=\"text-align: right;\">-0.0116992</td></tr>\n",
       "<tr><td>berge   </td><td style=\"text-align: right;\">-0.095521 </td><td style=\"text-align: right;\"> 0.127056 </td><td style=\"text-align: right;\">-0.220942  </td><td style=\"text-align: right;\"> 0.203142 </td><td style=\"text-align: right;\">-0.0267843</td><td style=\"text-align: right;\">-0.0126091</td><td style=\"text-align: right;\"> 0.163174  </td><td style=\"text-align: right;\"> 0.152238 </td><td style=\"text-align: right;\">-0.102379 </td><td style=\"text-align: right;\"> 0.0269905 </td><td style=\"text-align: right;\">-0.130995  </td><td style=\"text-align: right;\"> 0.305796 </td><td style=\"text-align: right;\">-0.130363  </td><td style=\"text-align: right;\"> 0.154187  </td><td style=\"text-align: right;\">-0.0832876</td><td style=\"text-align: right;\">-0.194465 </td><td style=\"text-align: right;\">-0.101718 </td><td style=\"text-align: right;\"> 0.141748 </td><td style=\"text-align: right;\"> 0.0414537</td><td style=\"text-align: right;\"> 0.127992 </td><td style=\"text-align: right;\"> 0.206262 </td><td style=\"text-align: right;\"> 0.024989  </td><td style=\"text-align: right;\">-0.383589 </td><td style=\"text-align: right;\"> 0.115988 </td><td style=\"text-align: right;\"> 0.13399   </td><td style=\"text-align: right;\">-0.103989 </td><td style=\"text-align: right;\"> 0.0755279</td><td style=\"text-align: right;\">-0.0374923</td><td style=\"text-align: right;\"> 0.0905498</td><td style=\"text-align: right;\"> 0.211422 </td><td style=\"text-align: right;\">-0.144142 </td><td style=\"text-align: right;\">-0.0062852</td><td style=\"text-align: right;\">0.114597 </td><td style=\"text-align: right;\">-0.0941535</td><td style=\"text-align: right;\">-0.29023  </td><td style=\"text-align: right;\"> 0.0686212</td><td style=\"text-align: right;\"> 0.189882 </td><td style=\"text-align: right;\"> 0.129122 </td><td style=\"text-align: right;\">-0.101846  </td><td style=\"text-align: right;\"> 0.0480214</td><td style=\"text-align: right;\"> 0.0403817</td><td style=\"text-align: right;\">-0.0284778</td><td style=\"text-align: right;\">-0.167574 </td><td style=\"text-align: right;\">-0.0317829</td><td style=\"text-align: right;\"> 0.00651867</td><td style=\"text-align: right;\"> 0.0635247 </td><td style=\"text-align: right;\"> 0.220987 </td><td style=\"text-align: right;\">-0.210132</td><td style=\"text-align: right;\">-0.313338  </td><td style=\"text-align: right;\"> 0.310529  </td><td style=\"text-align: right;\"> 0.00220881</td><td style=\"text-align: right;\"> 0.0534196</td><td style=\"text-align: right;\"> 0.0700496</td><td style=\"text-align: right;\"> 0.187463  </td><td style=\"text-align: right;\"> 0.0822825 </td><td style=\"text-align: right;\">-0.00441207</td><td style=\"text-align: right;\"> 0.0199326</td><td style=\"text-align: right;\"> 0.102792 </td><td style=\"text-align: right;\">-0.119909  </td><td style=\"text-align: right;\"> 0.155436 </td><td style=\"text-align: right;\"> 0.117545 </td><td style=\"text-align: right;\"> 0.000335343</td><td style=\"text-align: right;\">-0.101508 </td><td style=\"text-align: right;\"> 0.170549 </td><td style=\"text-align: right;\">-0.0438396 </td><td style=\"text-align: right;\"> 0.0351382 </td><td style=\"text-align: right;\">-0.0424766</td><td style=\"text-align: right;\">-0.182191  </td><td style=\"text-align: right;\">-0.0222576 </td><td style=\"text-align: right;\">-0.0404435 </td><td style=\"text-align: right;\"> 0.162355 </td><td style=\"text-align: right;\">-0.0750803 </td><td style=\"text-align: right;\"> 0.103726  </td><td style=\"text-align: right;\">-0.0819198</td><td style=\"text-align: right;\"> 0.167185 </td><td style=\"text-align: right;\"> 0.148626 </td><td style=\"text-align: right;\"> 0.302937 </td><td style=\"text-align: right;\">-0.192593  </td><td style=\"text-align: right;\"> 0.0873443</td><td style=\"text-align: right;\">-0.057181 </td><td style=\"text-align: right;\"> 0.302481 </td><td style=\"text-align: right;\"> 0.244805 </td><td style=\"text-align: right;\"> 0.0110065 </td><td style=\"text-align: right;\"> 0.028667 </td><td style=\"text-align: right;\">-0.169615  </td><td style=\"text-align: right;\"> 0.0912255</td><td style=\"text-align: right;\"> 0.186697  </td><td style=\"text-align: right;\"> 0.404173  </td><td style=\"text-align: right;\"> 0.154856 </td><td style=\"text-align: right;\">-0.159207  </td><td style=\"text-align: right;\"> 0.0407687</td><td style=\"text-align: right;\">-0.0165095  </td><td style=\"text-align: right;\">0.133028</td><td style=\"text-align: right;\">-0.00625283</td><td style=\"text-align: right;\"> 0.0524113</td><td style=\"text-align: right;\">-0.112414 </td><td style=\"text-align: right;\"> 0.144327 </td><td style=\"text-align: right;\"> 0.1476    </td><td style=\"text-align: right;\"> 0.017623  </td><td style=\"text-align: right;\">-0.0348565</td></tr>\n",
       "<tr><td>ewww    </td><td style=\"text-align: right;\">-0.135311 </td><td style=\"text-align: right;\"> 0.13497  </td><td style=\"text-align: right;\"> 0.0561701 </td><td style=\"text-align: right;\"> 0.0821579</td><td style=\"text-align: right;\"> 0.0383749</td><td style=\"text-align: right;\">-0.0228721</td><td style=\"text-align: right;\">-0.143621  </td><td style=\"text-align: right;\"> 0.0656188</td><td style=\"text-align: right;\">-0.312099 </td><td style=\"text-align: right;\">-0.049639  </td><td style=\"text-align: right;\">-0.0506092 </td><td style=\"text-align: right;\">-0.224543 </td><td style=\"text-align: right;\"> 0.00209053</td><td style=\"text-align: right;\"> 0.126378  </td><td style=\"text-align: right;\"> 0.0042594</td><td style=\"text-align: right;\">-0.0218682</td><td style=\"text-align: right;\">-0.234122 </td><td style=\"text-align: right;\"> 0.0458455</td><td style=\"text-align: right;\">-0.110669 </td><td style=\"text-align: right;\">-0.0622416</td><td style=\"text-align: right;\"> 0.115162 </td><td style=\"text-align: right;\"> 0.0390776 </td><td style=\"text-align: right;\"> 0.0495499</td><td style=\"text-align: right;\"> 0.201554 </td><td style=\"text-align: right;\">-0.0385467 </td><td style=\"text-align: right;\">-0.115473 </td><td style=\"text-align: right;\">-0.0897109</td><td style=\"text-align: right;\">-0.261215 </td><td style=\"text-align: right;\"> 0.227721 </td><td style=\"text-align: right;\">-0.166586 </td><td style=\"text-align: right;\">-0.119221 </td><td style=\"text-align: right;\">-0.0274062</td><td style=\"text-align: right;\">0.0897813</td><td style=\"text-align: right;\"> 0.0128394</td><td style=\"text-align: right;\">-0.109694 </td><td style=\"text-align: right;\"> 0.0216823</td><td style=\"text-align: right;\">-0.164019 </td><td style=\"text-align: right;\">-0.0437707</td><td style=\"text-align: right;\">-0.00978966</td><td style=\"text-align: right;\">-0.275288 </td><td style=\"text-align: right;\"> 0.0150381</td><td style=\"text-align: right;\">-0.183798 </td><td style=\"text-align: right;\">-0.162425 </td><td style=\"text-align: right;\"> 0.166299 </td><td style=\"text-align: right;\">-0.0568173 </td><td style=\"text-align: right;\"> 0.0142936 </td><td style=\"text-align: right;\"> 0.265117 </td><td style=\"text-align: right;\"> 0.280727</td><td style=\"text-align: right;\"> 0.209717  </td><td style=\"text-align: right;\">-0.154521  </td><td style=\"text-align: right;\">-0.0238048 </td><td style=\"text-align: right;\">-0.0258004</td><td style=\"text-align: right;\">-0.23127  </td><td style=\"text-align: right;\"> 0.122304  </td><td style=\"text-align: right;\">-0.0734229 </td><td style=\"text-align: right;\"> 0.00205962</td><td style=\"text-align: right;\">-0.061169 </td><td style=\"text-align: right;\"> 0.0398695</td><td style=\"text-align: right;\">-0.0828883 </td><td style=\"text-align: right;\">-0.117359 </td><td style=\"text-align: right;\">-0.196886 </td><td style=\"text-align: right;\"> 0.0593441  </td><td style=\"text-align: right;\">-0.0270455</td><td style=\"text-align: right;\"> 0.0880555</td><td style=\"text-align: right;\">-0.18765   </td><td style=\"text-align: right;\">-0.00460142</td><td style=\"text-align: right;\"> 0.199178 </td><td style=\"text-align: right;\">-0.0224983 </td><td style=\"text-align: right;\"> 0.00378718</td><td style=\"text-align: right;\">-0.155945  </td><td style=\"text-align: right;\">-0.0106075</td><td style=\"text-align: right;\"> 0.0797897 </td><td style=\"text-align: right;\">-0.0193334 </td><td style=\"text-align: right;\">-0.136101 </td><td style=\"text-align: right;\"> 0.107366 </td><td style=\"text-align: right;\"> 0.137336 </td><td style=\"text-align: right;\"> 0.219846 </td><td style=\"text-align: right;\">-0.02563   </td><td style=\"text-align: right;\">-0.103073 </td><td style=\"text-align: right;\">-0.0870936</td><td style=\"text-align: right;\"> 0.0379895</td><td style=\"text-align: right;\">-0.158545 </td><td style=\"text-align: right;\"> 0.0369861 </td><td style=\"text-align: right;\"> 0.167125 </td><td style=\"text-align: right;\">-0.159178  </td><td style=\"text-align: right;\">-0.139991 </td><td style=\"text-align: right;\">-0.0221446 </td><td style=\"text-align: right;\"> 0.0648762 </td><td style=\"text-align: right;\">-0.0772104</td><td style=\"text-align: right;\"> 0.113602  </td><td style=\"text-align: right;\">-0.0091751</td><td style=\"text-align: right;\">-0.0760102  </td><td style=\"text-align: right;\">0.128971</td><td style=\"text-align: right;\"> 0.0148447 </td><td style=\"text-align: right;\"> 0.0262159</td><td style=\"text-align: right;\">-0.0933158</td><td style=\"text-align: right;\">-0.0184854</td><td style=\"text-align: right;\">-0.0155688 </td><td style=\"text-align: right;\"> 0.0713153 </td><td style=\"text-align: right;\"> 0.0038603</td></tr>\n",
       "<tr><td>maison  </td><td style=\"text-align: right;\">-0.258984 </td><td style=\"text-align: right;\">-0.0550588</td><td style=\"text-align: right;\">-0.0761064 </td><td style=\"text-align: right;\"> 0.270047 </td><td style=\"text-align: right;\"> 0.181012 </td><td style=\"text-align: right;\">-0.308724 </td><td style=\"text-align: right;\"> 0.0903988 </td><td style=\"text-align: right;\">-0.299135 </td><td style=\"text-align: right;\">-0.119322 </td><td style=\"text-align: right;\">-0.119682  </td><td style=\"text-align: right;\"> 0.174063  </td><td style=\"text-align: right;\"> 0.195168 </td><td style=\"text-align: right;\">-0.162097  </td><td style=\"text-align: right;\">-0.10979   </td><td style=\"text-align: right;\">-0.274323 </td><td style=\"text-align: right;\">-0.150074 </td><td style=\"text-align: right;\">-0.20318  </td><td style=\"text-align: right;\">-0.363325 </td><td style=\"text-align: right;\"> 0.0866702</td><td style=\"text-align: right;\"> 0.366441 </td><td style=\"text-align: right;\">-0.0295383</td><td style=\"text-align: right;\"> 0.133308  </td><td style=\"text-align: right;\">-0.154314 </td><td style=\"text-align: right;\"> 0.125764 </td><td style=\"text-align: right;\"> 0.154033  </td><td style=\"text-align: right;\">-0.0664603</td><td style=\"text-align: right;\"> 0.0071787</td><td style=\"text-align: right;\">-0.167199 </td><td style=\"text-align: right;\">-0.214293 </td><td style=\"text-align: right;\"> 0.25187  </td><td style=\"text-align: right;\">-0.137432 </td><td style=\"text-align: right;\">-0.186225 </td><td style=\"text-align: right;\">0.262148 </td><td style=\"text-align: right;\"> 0.0056485</td><td style=\"text-align: right;\">-0.19379  </td><td style=\"text-align: right;\">-0.133    </td><td style=\"text-align: right;\">-0.0540865</td><td style=\"text-align: right;\">-0.094667 </td><td style=\"text-align: right;\">-0.128394  </td><td style=\"text-align: right;\"> 0.0221546</td><td style=\"text-align: right;\">-0.0405898</td><td style=\"text-align: right;\">-0.104361 </td><td style=\"text-align: right;\"> 0.0641256</td><td style=\"text-align: right;\"> 0.032732 </td><td style=\"text-align: right;\"> 0.0583797 </td><td style=\"text-align: right;\">-0.115187  </td><td style=\"text-align: right;\">-0.0282894</td><td style=\"text-align: right;\"> 0.137346</td><td style=\"text-align: right;\">-0.119002  </td><td style=\"text-align: right;\"> 0.0776681 </td><td style=\"text-align: right;\"> 0.38106   </td><td style=\"text-align: right;\"> 0.212575 </td><td style=\"text-align: right;\"> 0.0854629</td><td style=\"text-align: right;\"> 0.128697  </td><td style=\"text-align: right;\">-0.0234128 </td><td style=\"text-align: right;\"> 0.088587  </td><td style=\"text-align: right;\">-0.0279232</td><td style=\"text-align: right;\">-0.0758149</td><td style=\"text-align: right;\">-0.114183  </td><td style=\"text-align: right;\"> 0.0870437</td><td style=\"text-align: right;\">-0.0689108</td><td style=\"text-align: right;\">-0.00649555 </td><td style=\"text-align: right;\"> 0.0520439</td><td style=\"text-align: right;\"> 0.12007  </td><td style=\"text-align: right;\"> 0.00688883</td><td style=\"text-align: right;\">-0.265797  </td><td style=\"text-align: right;\"> 0.0763088</td><td style=\"text-align: right;\"> 0.122166  </td><td style=\"text-align: right;\"> 0.144649  </td><td style=\"text-align: right;\">-0.0331432 </td><td style=\"text-align: right;\"> 0.352169 </td><td style=\"text-align: right;\"> 0.409081  </td><td style=\"text-align: right;\"> 0.0758955 </td><td style=\"text-align: right;\">-0.112697 </td><td style=\"text-align: right;\">-0.137172 </td><td style=\"text-align: right;\">-0.0425002</td><td style=\"text-align: right;\"> 0.0448178</td><td style=\"text-align: right;\">-0.0282098 </td><td style=\"text-align: right;\">-0.294714 </td><td style=\"text-align: right;\">-0.104721 </td><td style=\"text-align: right;\">-0.144396 </td><td style=\"text-align: right;\"> 0.0873757</td><td style=\"text-align: right;\">-0.149197  </td><td style=\"text-align: right;\">-0.118161 </td><td style=\"text-align: right;\">-0.21838   </td><td style=\"text-align: right;\"> 0.0770458</td><td style=\"text-align: right;\">-0.132076  </td><td style=\"text-align: right;\"> 0.116049  </td><td style=\"text-align: right;\">-0.0928775</td><td style=\"text-align: right;\">-0.107361  </td><td style=\"text-align: right;\">-0.067724 </td><td style=\"text-align: right;\">-0.0211074  </td><td style=\"text-align: right;\">0.248392</td><td style=\"text-align: right;\"> 0.00634707</td><td style=\"text-align: right;\"> 0.0355938</td><td style=\"text-align: right;\">-0.234974 </td><td style=\"text-align: right;\">-0.180651 </td><td style=\"text-align: right;\">-0.00805732</td><td style=\"text-align: right;\">-0.0618615 </td><td style=\"text-align: right;\"> 0.137576 </td></tr>\n",
       "<tr><td>mattered</td><td style=\"text-align: right;\"> 0.208378 </td><td style=\"text-align: right;\">-0.295938 </td><td style=\"text-align: right;\">-0.00720378</td><td style=\"text-align: right;\"> 0.264866 </td><td style=\"text-align: right;\">-0.0773968</td><td style=\"text-align: right;\"> 0.102843 </td><td style=\"text-align: right;\">-0.0383251 </td><td style=\"text-align: right;\"> 0.310452 </td><td style=\"text-align: right;\">-0.138137 </td><td style=\"text-align: right;\"> 0.0163061 </td><td style=\"text-align: right;\">-0.237464  </td><td style=\"text-align: right;\">-0.112773 </td><td style=\"text-align: right;\">-0.037844  </td><td style=\"text-align: right;\"> 0.00348861</td><td style=\"text-align: right;\">-0.140924 </td><td style=\"text-align: right;\">-0.032368 </td><td style=\"text-align: right;\"> 0.0812929</td><td style=\"text-align: right;\">-0.0409652</td><td style=\"text-align: right;\"> 0.033799 </td><td style=\"text-align: right;\">-0.0677569</td><td style=\"text-align: right;\"> 0.173551 </td><td style=\"text-align: right;\">-0.00456881</td><td style=\"text-align: right;\"> 0.0216759</td><td style=\"text-align: right;\"> 0.165181 </td><td style=\"text-align: right;\">-0.0291791 </td><td style=\"text-align: right;\">-0.128788 </td><td style=\"text-align: right;\"> 0.0433622</td><td style=\"text-align: right;\">-0.403876 </td><td style=\"text-align: right;\"> 0.233453 </td><td style=\"text-align: right;\">-0.0520256</td><td style=\"text-align: right;\">-0.0523149</td><td style=\"text-align: right;\"> 0.0790023</td><td style=\"text-align: right;\">0.0812866</td><td style=\"text-align: right;\"> 0.0484121</td><td style=\"text-align: right;\">-0.223524 </td><td style=\"text-align: right;\"> 0.0737952</td><td style=\"text-align: right;\">-0.134686 </td><td style=\"text-align: right;\"> 0.0239332</td><td style=\"text-align: right;\">-0.119955  </td><td style=\"text-align: right;\">-0.455743 </td><td style=\"text-align: right;\">-0.0320278</td><td style=\"text-align: right;\">-0.193159 </td><td style=\"text-align: right;\">-0.0448623</td><td style=\"text-align: right;\"> 0.267476 </td><td style=\"text-align: right;\"> 0.133675  </td><td style=\"text-align: right;\"> 0.137171  </td><td style=\"text-align: right;\"> 0.185337 </td><td style=\"text-align: right;\"> 0.23819 </td><td style=\"text-align: right;\"> 0.105568  </td><td style=\"text-align: right;\">-0.104602  </td><td style=\"text-align: right;\">-0.0726087 </td><td style=\"text-align: right;\"> 0.172189 </td><td style=\"text-align: right;\">-0.142386 </td><td style=\"text-align: right;\"> 0.0264235 </td><td style=\"text-align: right;\">-0.13607   </td><td style=\"text-align: right;\"> 0.0962911 </td><td style=\"text-align: right;\">-0.133228 </td><td style=\"text-align: right;\">-0.0209772</td><td style=\"text-align: right;\"> 0.0461873 </td><td style=\"text-align: right;\"> 0.128964 </td><td style=\"text-align: right;\">-0.200384 </td><td style=\"text-align: right;\"> 0.357343   </td><td style=\"text-align: right;\">-0.385404 </td><td style=\"text-align: right;\">-0.0609512</td><td style=\"text-align: right;\">-0.13867   </td><td style=\"text-align: right;\"> 0.130495  </td><td style=\"text-align: right;\"> 0.226866 </td><td style=\"text-align: right;\">-0.101655  </td><td style=\"text-align: right;\">-0.0587987 </td><td style=\"text-align: right;\">-0.115084  </td><td style=\"text-align: right;\"> 0.0121914</td><td style=\"text-align: right;\"> 0.137869  </td><td style=\"text-align: right;\">-0.00646328</td><td style=\"text-align: right;\">-0.0802764</td><td style=\"text-align: right;\">-0.102584 </td><td style=\"text-align: right;\"> 0.163173 </td><td style=\"text-align: right;\">-0.0207951</td><td style=\"text-align: right;\">-0.0625804 </td><td style=\"text-align: right;\">-0.150126 </td><td style=\"text-align: right;\">-0.136572 </td><td style=\"text-align: right;\">-0.142497 </td><td style=\"text-align: right;\">-0.0283555</td><td style=\"text-align: right;\">-0.0512765 </td><td style=\"text-align: right;\"> 0.184698 </td><td style=\"text-align: right;\">-0.00332574</td><td style=\"text-align: right;\">-0.167757 </td><td style=\"text-align: right;\"> 0.113486  </td><td style=\"text-align: right;\"> 0.165404  </td><td style=\"text-align: right;\">-0.193546 </td><td style=\"text-align: right;\"> 0.246863  </td><td style=\"text-align: right;\"> 0.063534 </td><td style=\"text-align: right;\"> 0.0821186  </td><td style=\"text-align: right;\">0.278284</td><td style=\"text-align: right;\"> 0.202733  </td><td style=\"text-align: right;\">-0.0784841</td><td style=\"text-align: right;\">-0.363238 </td><td style=\"text-align: right;\">-0.353133 </td><td style=\"text-align: right;\"> 0.0220239 </td><td style=\"text-align: right;\"> 0.191233  </td><td style=\"text-align: right;\"> 0.0431496</td></tr>\n",
       "<tr><td>helpings</td><td style=\"text-align: right;\"> 0.0328257</td><td style=\"text-align: right;\">-0.0310991</td><td style=\"text-align: right;\">-0.10157   </td><td style=\"text-align: right;\"> 0.0573536</td><td style=\"text-align: right;\"> 0.227782 </td><td style=\"text-align: right;\">-0.121776 </td><td style=\"text-align: right;\">-0.00676735</td><td style=\"text-align: right;\">-0.0505162</td><td style=\"text-align: right;\">-0.16561  </td><td style=\"text-align: right;\"> 0.0972499 </td><td style=\"text-align: right;\">-0.163506  </td><td style=\"text-align: right;\"> 0.219868 </td><td style=\"text-align: right;\"> 0.155608  </td><td style=\"text-align: right;\">-0.0283874 </td><td style=\"text-align: right;\"> 0.021933 </td><td style=\"text-align: right;\"> 0.0573013</td><td style=\"text-align: right;\"> 0.0644263</td><td style=\"text-align: right;\">-0.141928 </td><td style=\"text-align: right;\">-0.290092 </td><td style=\"text-align: right;\"> 0.0114479</td><td style=\"text-align: right;\">-0.18445  </td><td style=\"text-align: right;\">-0.032178  </td><td style=\"text-align: right;\"> 0.0183255</td><td style=\"text-align: right;\"> 0.0385053</td><td style=\"text-align: right;\"> 0.109498  </td><td style=\"text-align: right;\"> 0.0768983</td><td style=\"text-align: right;\"> 0.0740765</td><td style=\"text-align: right;\">-0.11601  </td><td style=\"text-align: right;\"> 0.114498 </td><td style=\"text-align: right;\">-0.0781671</td><td style=\"text-align: right;\">-0.0951731</td><td style=\"text-align: right;\"> 0.0647467</td><td style=\"text-align: right;\">0.192832 </td><td style=\"text-align: right;\"> 0.121851 </td><td style=\"text-align: right;\">-0.0883401</td><td style=\"text-align: right;\">-0.188094 </td><td style=\"text-align: right;\"> 0.114496 </td><td style=\"text-align: right;\"> 0.0198282</td><td style=\"text-align: right;\">-0.0564381 </td><td style=\"text-align: right;\">-0.114328 </td><td style=\"text-align: right;\"> 0.0953206</td><td style=\"text-align: right;\">-0.227601 </td><td style=\"text-align: right;\"> 0.0836346</td><td style=\"text-align: right;\"> 0.116922 </td><td style=\"text-align: right;\"> 0.203951  </td><td style=\"text-align: right;\">-0.0433959 </td><td style=\"text-align: right;\"> 0.0785644</td><td style=\"text-align: right;\"> 0.248398</td><td style=\"text-align: right;\"> 0.0940347 </td><td style=\"text-align: right;\">-0.00462221</td><td style=\"text-align: right;\"> 0.029677  </td><td style=\"text-align: right;\">-0.0155645</td><td style=\"text-align: right;\">-0.0437567</td><td style=\"text-align: right;\">-0.106477  </td><td style=\"text-align: right;\">-0.15502   </td><td style=\"text-align: right;\"> 0.0593373 </td><td style=\"text-align: right;\">-0.194687 </td><td style=\"text-align: right;\">-0.0581467</td><td style=\"text-align: right;\"> 0.00859307</td><td style=\"text-align: right;\">-0.0950557</td><td style=\"text-align: right;\">-0.170458 </td><td style=\"text-align: right;\"> 0.0736836  </td><td style=\"text-align: right;\">-0.0850282</td><td style=\"text-align: right;\"> 0.0311197</td><td style=\"text-align: right;\">-0.177451  </td><td style=\"text-align: right;\"> 0.243333  </td><td style=\"text-align: right;\"> 0.127781 </td><td style=\"text-align: right;\"> 0.0620417 </td><td style=\"text-align: right;\">-0.246246  </td><td style=\"text-align: right;\"> 0.00521045</td><td style=\"text-align: right;\">-0.0510397</td><td style=\"text-align: right;\"> 0.045185  </td><td style=\"text-align: right;\">-0.0425713 </td><td style=\"text-align: right;\">-0.0101593</td><td style=\"text-align: right;\"> 0.0678034</td><td style=\"text-align: right;\"> 0.0364106</td><td style=\"text-align: right;\"> 0.0751157</td><td style=\"text-align: right;\"> 0.0591678 </td><td style=\"text-align: right;\"> 0.0678834</td><td style=\"text-align: right;\">-0.012747 </td><td style=\"text-align: right;\">-0.0106857</td><td style=\"text-align: right;\">-0.0837724</td><td style=\"text-align: right;\">-0.00761404</td><td style=\"text-align: right;\"> 0.311342 </td><td style=\"text-align: right;\"> 0.0565779 </td><td style=\"text-align: right;\">-0.196455 </td><td style=\"text-align: right;\">-0.235444  </td><td style=\"text-align: right;\">-0.00773293</td><td style=\"text-align: right;\"> 0.0349072</td><td style=\"text-align: right;\"> 0.0188783 </td><td style=\"text-align: right;\">-0.1256   </td><td style=\"text-align: right;\">-0.134364   </td><td style=\"text-align: right;\">0.151981</td><td style=\"text-align: right;\">-0.210493  </td><td style=\"text-align: right;\"> 0.0379617</td><td style=\"text-align: right;\">-0.0716437</td><td style=\"text-align: right;\">-0.153185 </td><td style=\"text-align: right;\"> 0.146383  </td><td style=\"text-align: right;\">-0.161729  </td><td style=\"text-align: right;\">-0.065986 </td></tr>\n",
       "<tr><td>twitter </td><td style=\"text-align: right;\"> 0.0990182</td><td style=\"text-align: right;\"> 0.0878385</td><td style=\"text-align: right;\">-0.399692  </td><td style=\"text-align: right;\"> 0.329958 </td><td style=\"text-align: right;\"> 0.0111265</td><td style=\"text-align: right;\">-0.0921062</td><td style=\"text-align: right;\"> 0.147578  </td><td style=\"text-align: right;\">-0.198977 </td><td style=\"text-align: right;\">-0.129506 </td><td style=\"text-align: right;\">-0.0505521 </td><td style=\"text-align: right;\"> 0.0613075 </td><td style=\"text-align: right;\"> 0.112931 </td><td style=\"text-align: right;\">-0.392433  </td><td style=\"text-align: right;\">-0.09014   </td><td style=\"text-align: right;\">-0.18783  </td><td style=\"text-align: right;\"> 0.173576 </td><td style=\"text-align: right;\">-0.0362131</td><td style=\"text-align: right;\">-0.169787 </td><td style=\"text-align: right;\"> 0.0886904</td><td style=\"text-align: right;\"> 0.0936638</td><td style=\"text-align: right;\">-0.0784026</td><td style=\"text-align: right;\"> 0.192571  </td><td style=\"text-align: right;\">-0.0892678</td><td style=\"text-align: right;\"> 0.15546  </td><td style=\"text-align: right;\">-0.053773  </td><td style=\"text-align: right;\"> 0.0161971</td><td style=\"text-align: right;\"> 0.0819403</td><td style=\"text-align: right;\">-0.29363  </td><td style=\"text-align: right;\"> 0.0184636</td><td style=\"text-align: right;\"> 0.0244846</td><td style=\"text-align: right;\">-0.361384 </td><td style=\"text-align: right;\"> 0.291822 </td><td style=\"text-align: right;\">0.30866  </td><td style=\"text-align: right;\"> 0.240087 </td><td style=\"text-align: right;\">-0.236482 </td><td style=\"text-align: right;\">-0.152171 </td><td style=\"text-align: right;\">-0.0131035</td><td style=\"text-align: right;\">-0.214184 </td><td style=\"text-align: right;\">-0.190771  </td><td style=\"text-align: right;\">-0.381918 </td><td style=\"text-align: right;\"> 0.279902 </td><td style=\"text-align: right;\">-0.185049 </td><td style=\"text-align: right;\">-0.100679 </td><td style=\"text-align: right;\">-0.125868 </td><td style=\"text-align: right;\"> 0.189379  </td><td style=\"text-align: right;\">-0.0321715 </td><td style=\"text-align: right;\"> 0.0683287</td><td style=\"text-align: right;\">-0.201412</td><td style=\"text-align: right;\">-0.00422626</td><td style=\"text-align: right;\"> 0.136003  </td><td style=\"text-align: right;\">-0.0756431 </td><td style=\"text-align: right;\">-0.0614936</td><td style=\"text-align: right;\">-0.150784 </td><td style=\"text-align: right;\"> 0.0109837 </td><td style=\"text-align: right;\"> 0.195356  </td><td style=\"text-align: right;\"> 0.0518889 </td><td style=\"text-align: right;\"> 0.189251 </td><td style=\"text-align: right;\">-0.128532 </td><td style=\"text-align: right;\"> 0.031882  </td><td style=\"text-align: right;\">-0.0806078</td><td style=\"text-align: right;\">-0.0226967</td><td style=\"text-align: right;\">-0.168244   </td><td style=\"text-align: right;\"> 0.0913245</td><td style=\"text-align: right;\"> 0.230696 </td><td style=\"text-align: right;\">-0.217507  </td><td style=\"text-align: right;\"> 0.185277  </td><td style=\"text-align: right;\">-0.0289111</td><td style=\"text-align: right;\">-0.141679  </td><td style=\"text-align: right;\"> 0.296659  </td><td style=\"text-align: right;\">-0.181884  </td><td style=\"text-align: right;\"> 0.177135 </td><td style=\"text-align: right;\"> 0.0818892 </td><td style=\"text-align: right;\">-0.118875  </td><td style=\"text-align: right;\">-0.178369 </td><td style=\"text-align: right;\"> 0.210087 </td><td style=\"text-align: right;\">-0.0433876</td><td style=\"text-align: right;\"> 0.066916 </td><td style=\"text-align: right;\">-0.032243  </td><td style=\"text-align: right;\">-0.108098 </td><td style=\"text-align: right;\">-0.0706673</td><td style=\"text-align: right;\"> 0.0184123</td><td style=\"text-align: right;\"> 0.0310044</td><td style=\"text-align: right;\"> 0.111598  </td><td style=\"text-align: right;\"> 0.213969 </td><td style=\"text-align: right;\">-0.0796466 </td><td style=\"text-align: right;\"> 0.24544  </td><td style=\"text-align: right;\"> 0.0233378 </td><td style=\"text-align: right;\"> 0.184555  </td><td style=\"text-align: right;\">-0.0893383</td><td style=\"text-align: right;\"> 0.252104  </td><td style=\"text-align: right;\">-0.19903  </td><td style=\"text-align: right;\"> 0.00617344 </td><td style=\"text-align: right;\">0.427342</td><td style=\"text-align: right;\"> 0.334742  </td><td style=\"text-align: right;\">-0.205426 </td><td style=\"text-align: right;\">-0.187456 </td><td style=\"text-align: right;\"> 0.0960152</td><td style=\"text-align: right;\"> 0.1568    </td><td style=\"text-align: right;\"> 0.0936542 </td><td style=\"text-align: right;\"> 0.128166 </td></tr>\n",
       "<tr><td>aah     </td><td style=\"text-align: right;\"> 0.193637 </td><td style=\"text-align: right;\">-0.0629058</td><td style=\"text-align: right;\">-0.0161221 </td><td style=\"text-align: right;\"> 0.0156913</td><td style=\"text-align: right;\">-0.114343 </td><td style=\"text-align: right;\">-0.013887 </td><td style=\"text-align: right;\">-0.160531  </td><td style=\"text-align: right;\">-0.191334 </td><td style=\"text-align: right;\">-0.161074 </td><td style=\"text-align: right;\"> 0.00376189</td><td style=\"text-align: right;\">-0.00426767</td><td style=\"text-align: right;\">-0.0649988</td><td style=\"text-align: right;\">-0.218561  </td><td style=\"text-align: right;\"> 0.115692  </td><td style=\"text-align: right;\"> 0.0816987</td><td style=\"text-align: right;\"> 0.105092 </td><td style=\"text-align: right;\">-0.177348 </td><td style=\"text-align: right;\">-0.150616 </td><td style=\"text-align: right;\"> 0.0551515</td><td style=\"text-align: right;\"> 0.156972 </td><td style=\"text-align: right;\"> 0.145622 </td><td style=\"text-align: right;\"> 0.0437482 </td><td style=\"text-align: right;\">-0.111689 </td><td style=\"text-align: right;\"> 0.212389 </td><td style=\"text-align: right;\">-0.0687204 </td><td style=\"text-align: right;\">-0.0923856</td><td style=\"text-align: right;\">-0.108161 </td><td style=\"text-align: right;\">-0.0951644</td><td style=\"text-align: right;\"> 0.0554066</td><td style=\"text-align: right;\">-0.023806 </td><td style=\"text-align: right;\">-0.13976  </td><td style=\"text-align: right;\">-0.226178 </td><td style=\"text-align: right;\">0.353074 </td><td style=\"text-align: right;\"> 0.0906484</td><td style=\"text-align: right;\">-0.0205487</td><td style=\"text-align: right;\"> 0.106476 </td><td style=\"text-align: right;\">-0.0199385</td><td style=\"text-align: right;\">-0.117276 </td><td style=\"text-align: right;\">-0.102336  </td><td style=\"text-align: right;\">-0.0172126</td><td style=\"text-align: right;\">-0.0381103</td><td style=\"text-align: right;\"> 0.0111778</td><td style=\"text-align: right;\">-0.0330197</td><td style=\"text-align: right;\"> 0.0991747</td><td style=\"text-align: right;\">-0.0227909 </td><td style=\"text-align: right;\">-0.0998537 </td><td style=\"text-align: right;\"> 0.130253 </td><td style=\"text-align: right;\"> 0.203271</td><td style=\"text-align: right;\"> 0.125828  </td><td style=\"text-align: right;\">-0.0786596 </td><td style=\"text-align: right;\">-0.0670271 </td><td style=\"text-align: right;\"> 0.0954023</td><td style=\"text-align: right;\">-0.197533 </td><td style=\"text-align: right;\">-0.00679281</td><td style=\"text-align: right;\">-0.0234627 </td><td style=\"text-align: right;\"> 0.114873  </td><td style=\"text-align: right;\"> 0.0225009</td><td style=\"text-align: right;\">-0.0519742</td><td style=\"text-align: right;\"> 0.112641  </td><td style=\"text-align: right;\">-0.1216   </td><td style=\"text-align: right;\">-0.247975 </td><td style=\"text-align: right;\"> 0.0903561  </td><td style=\"text-align: right;\">-0.0493914</td><td style=\"text-align: right;\"> 0.0554032</td><td style=\"text-align: right;\">-0.068096  </td><td style=\"text-align: right;\"> 0.0795752 </td><td style=\"text-align: right;\"> 0.209553 </td><td style=\"text-align: right;\">-0.0925035 </td><td style=\"text-align: right;\"> 0.026211  </td><td style=\"text-align: right;\">-0.223861  </td><td style=\"text-align: right;\"> 0.0941412</td><td style=\"text-align: right;\"> 0.225107  </td><td style=\"text-align: right;\"> 0.0344821 </td><td style=\"text-align: right;\">-0.0673011</td><td style=\"text-align: right;\">-0.271734 </td><td style=\"text-align: right;\"> 0.0539948</td><td style=\"text-align: right;\">-0.0149314</td><td style=\"text-align: right;\"> 0.00478816</td><td style=\"text-align: right;\">-0.0468611</td><td style=\"text-align: right;\">-0.0477461</td><td style=\"text-align: right;\">-0.0486918</td><td style=\"text-align: right;\">-0.185471 </td><td style=\"text-align: right;\"> 0.027334  </td><td style=\"text-align: right;\"> 0.282709 </td><td style=\"text-align: right;\">-0.295161  </td><td style=\"text-align: right;\">-0.0179322</td><td style=\"text-align: right;\">-0.218681  </td><td style=\"text-align: right;\"> 0.0974178 </td><td style=\"text-align: right;\"> 0.0339295</td><td style=\"text-align: right;\"> 0.00110282</td><td style=\"text-align: right;\">-0.0964241</td><td style=\"text-align: right;\">-0.0419371  </td><td style=\"text-align: right;\">0.266336</td><td style=\"text-align: right;\">-0.0047059 </td><td style=\"text-align: right;\"> 0.0437793</td><td style=\"text-align: right;\">-0.287339 </td><td style=\"text-align: right;\">-0.0617863</td><td style=\"text-align: right;\">-0.168626  </td><td style=\"text-align: right;\"> 0.0959263 </td><td style=\"text-align: right;\"> 0.211411 </td></tr>\n",
       "<tr><td>reverted</td><td style=\"text-align: right;\">-0.0282112</td><td style=\"text-align: right;\"> 0.0719078</td><td style=\"text-align: right;\">-0.105041  </td><td style=\"text-align: right;\"> 0.311902 </td><td style=\"text-align: right;\">-0.158538 </td><td style=\"text-align: right;\">-0.0452927</td><td style=\"text-align: right;\">-0.137809  </td><td style=\"text-align: right;\"> 0.0141743</td><td style=\"text-align: right;\">-0.105337 </td><td style=\"text-align: right;\">-0.0580699 </td><td style=\"text-align: right;\">-0.053279  </td><td style=\"text-align: right;\">-0.0427543</td><td style=\"text-align: right;\">-0.180782  </td><td style=\"text-align: right;\">-0.243694  </td><td style=\"text-align: right;\">-0.0573335</td><td style=\"text-align: right;\">-0.0038514</td><td style=\"text-align: right;\">-0.147339 </td><td style=\"text-align: right;\">-0.0952661</td><td style=\"text-align: right;\"> 0.0885631</td><td style=\"text-align: right;\"> 0.10612  </td><td style=\"text-align: right;\">-0.0798271</td><td style=\"text-align: right;\">-0.0975342 </td><td style=\"text-align: right;\">-0.209614 </td><td style=\"text-align: right;\"> 0.144136 </td><td style=\"text-align: right;\">-0.071713  </td><td style=\"text-align: right;\">-0.316778 </td><td style=\"text-align: right;\"> 0.089748 </td><td style=\"text-align: right;\">-0.27121  </td><td style=\"text-align: right;\"> 0.280364 </td><td style=\"text-align: right;\">-0.157934 </td><td style=\"text-align: right;\">-0.450114 </td><td style=\"text-align: right;\"> 0.0184315</td><td style=\"text-align: right;\">0.278305 </td><td style=\"text-align: right;\">-0.148446 </td><td style=\"text-align: right;\">-0.113387 </td><td style=\"text-align: right;\">-0.109735 </td><td style=\"text-align: right;\">-0.0125422</td><td style=\"text-align: right;\"> 0.0100562</td><td style=\"text-align: right;\">-0.0548147 </td><td style=\"text-align: right;\">-0.161833 </td><td style=\"text-align: right;\"> 0.146412 </td><td style=\"text-align: right;\">-0.261186 </td><td style=\"text-align: right;\">-0.137598 </td><td style=\"text-align: right;\">-0.0193003</td><td style=\"text-align: right;\"> 0.0370105 </td><td style=\"text-align: right;\"> 0.00319625</td><td style=\"text-align: right;\"> 0.079031 </td><td style=\"text-align: right;\"> 0.219336</td><td style=\"text-align: right;\"> 0.0914665 </td><td style=\"text-align: right;\">-0.189421  </td><td style=\"text-align: right;\"> 0.00712774</td><td style=\"text-align: right;\">-0.156225 </td><td style=\"text-align: right;\">-0.152773 </td><td style=\"text-align: right;\"> 0.277474  </td><td style=\"text-align: right;\"> 0.00673786</td><td style=\"text-align: right;\"> 0.108171  </td><td style=\"text-align: right;\">-0.0817867</td><td style=\"text-align: right;\">-0.246115 </td><td style=\"text-align: right;\"> 0.0273509 </td><td style=\"text-align: right;\"> 0.0348348</td><td style=\"text-align: right;\"> 0.0456783</td><td style=\"text-align: right;\"> 0.0715056  </td><td style=\"text-align: right;\"> 0.116322 </td><td style=\"text-align: right;\">-0.0270118</td><td style=\"text-align: right;\">-0.173711  </td><td style=\"text-align: right;\"> 0.0217988 </td><td style=\"text-align: right;\"> 0.0443364</td><td style=\"text-align: right;\"> 0.234285  </td><td style=\"text-align: right;\"> 0.00338226</td><td style=\"text-align: right;\">-0.0240875 </td><td style=\"text-align: right;\"> 0.0432287</td><td style=\"text-align: right;\"> 0.0224778 </td><td style=\"text-align: right;\"> 0.17232   </td><td style=\"text-align: right;\">-0.194387 </td><td style=\"text-align: right;\"> 0.176285 </td><td style=\"text-align: right;\"> 0.232846 </td><td style=\"text-align: right;\"> 0.358483 </td><td style=\"text-align: right;\"> 0.0641844 </td><td style=\"text-align: right;\"> 0.20261  </td><td style=\"text-align: right;\">-0.170415 </td><td style=\"text-align: right;\"> 0.0345633</td><td style=\"text-align: right;\">-0.347811 </td><td style=\"text-align: right;\">-0.109501  </td><td style=\"text-align: right;\"> 0.119806 </td><td style=\"text-align: right;\"> 0.0830041 </td><td style=\"text-align: right;\">-0.114471 </td><td style=\"text-align: right;\">-0.154615  </td><td style=\"text-align: right;\"> 0.0921616 </td><td style=\"text-align: right;\"> 0.180926 </td><td style=\"text-align: right;\">-0.0275171 </td><td style=\"text-align: right;\">-0.118834 </td><td style=\"text-align: right;\">-0.0266783  </td><td style=\"text-align: right;\">0.105386</td><td style=\"text-align: right;\">-0.152997  </td><td style=\"text-align: right;\">-0.0734354</td><td style=\"text-align: right;\">-0.140403 </td><td style=\"text-align: right;\"> 0.0614095</td><td style=\"text-align: right;\"> 0.162551  </td><td style=\"text-align: right;\">-0.136064  </td><td style=\"text-align: right;\"> 0.100665 </td></tr>\n",
       "<tr><td>mroe    </td><td style=\"text-align: right;\"> 0.139046 </td><td style=\"text-align: right;\">-0.122128 </td><td style=\"text-align: right;\">-0.0390116 </td><td style=\"text-align: right;\">-0.0620297</td><td style=\"text-align: right;\"> 0.219994 </td><td style=\"text-align: right;\"> 0.0866794</td><td style=\"text-align: right;\">-0.0169233 </td><td style=\"text-align: right;\">-0.053546 </td><td style=\"text-align: right;\">-0.367765 </td><td style=\"text-align: right;\">-0.0582515 </td><td style=\"text-align: right;\">-0.0585571 </td><td style=\"text-align: right;\"> 0.0372596</td><td style=\"text-align: right;\">-0.180534  </td><td style=\"text-align: right;\"> 0.0111253 </td><td style=\"text-align: right;\">-0.0213904</td><td style=\"text-align: right;\">-0.0159651</td><td style=\"text-align: right;\">-0.368145 </td><td style=\"text-align: right;\"> 0.0375027</td><td style=\"text-align: right;\">-0.177084 </td><td style=\"text-align: right;\"> 0.132053 </td><td style=\"text-align: right;\">-0.0509025</td><td style=\"text-align: right;\">-0.014089  </td><td style=\"text-align: right;\">-0.121523 </td><td style=\"text-align: right;\">-0.151464 </td><td style=\"text-align: right;\">-0.00112565</td><td style=\"text-align: right;\">-0.231542 </td><td style=\"text-align: right;\"> 0.0291591</td><td style=\"text-align: right;\">-0.30437  </td><td style=\"text-align: right;\"> 0.109179 </td><td style=\"text-align: right;\">-0.0316555</td><td style=\"text-align: right;\">-0.050597 </td><td style=\"text-align: right;\"> 0.0978401</td><td style=\"text-align: right;\">0.0755787</td><td style=\"text-align: right;\"> 0.0662438</td><td style=\"text-align: right;\">-0.0583628</td><td style=\"text-align: right;\"> 0.144968 </td><td style=\"text-align: right;\"> 0.104484 </td><td style=\"text-align: right;\">-0.162704 </td><td style=\"text-align: right;\">-0.0433234 </td><td style=\"text-align: right;\">-0.275469 </td><td style=\"text-align: right;\"> 0.0043841</td><td style=\"text-align: right;\">-0.0827939</td><td style=\"text-align: right;\">-0.0047655</td><td style=\"text-align: right;\"> 0.100962 </td><td style=\"text-align: right;\"> 0.0611555 </td><td style=\"text-align: right;\"> 0.0703277 </td><td style=\"text-align: right;\">-0.0689118</td><td style=\"text-align: right;\"> 0.167111</td><td style=\"text-align: right;\"> 0.0448411 </td><td style=\"text-align: right;\">-0.223002  </td><td style=\"text-align: right;\">-0.139626  </td><td style=\"text-align: right;\"> 0.135425 </td><td style=\"text-align: right;\">-0.029091 </td><td style=\"text-align: right;\">-0.0208465 </td><td style=\"text-align: right;\">-0.054591  </td><td style=\"text-align: right;\"> 0.0783553 </td><td style=\"text-align: right;\"> 0.140677 </td><td style=\"text-align: right;\"> 0.0558849</td><td style=\"text-align: right;\"> 0.139078  </td><td style=\"text-align: right;\">-0.0547923</td><td style=\"text-align: right;\"> 0.0226654</td><td style=\"text-align: right;\"> 0.0662843  </td><td style=\"text-align: right;\">-0.0730495</td><td style=\"text-align: right;\">-0.0499922</td><td style=\"text-align: right;\">-0.107265  </td><td style=\"text-align: right;\"> 0.0574754 </td><td style=\"text-align: right;\"> 0.201997 </td><td style=\"text-align: right;\"> 0.154592  </td><td style=\"text-align: right;\">-0.31962   </td><td style=\"text-align: right;\">-0.125529  </td><td style=\"text-align: right;\">-0.0420566</td><td style=\"text-align: right;\"> 0.035321  </td><td style=\"text-align: right;\"> 0.17289   </td><td style=\"text-align: right;\">-0.220354 </td><td style=\"text-align: right;\">-0.088851 </td><td style=\"text-align: right;\"> 0.177501 </td><td style=\"text-align: right;\"> 0.11447  </td><td style=\"text-align: right;\"> 0.16247   </td><td style=\"text-align: right;\"> 0.169505 </td><td style=\"text-align: right;\">-0.0425139</td><td style=\"text-align: right;\"> 0.0141342</td><td style=\"text-align: right;\"> 0.0150126</td><td style=\"text-align: right;\"> 0.0632485 </td><td style=\"text-align: right;\"> 0.223094 </td><td style=\"text-align: right;\">-0.131917  </td><td style=\"text-align: right;\">-0.0656925</td><td style=\"text-align: right;\"> 0.00593948</td><td style=\"text-align: right;\">-0.0593028 </td><td style=\"text-align: right;\"> 0.0298772</td><td style=\"text-align: right;\">-0.0103118 </td><td style=\"text-align: right;\">-0.108559 </td><td style=\"text-align: right;\"> 0.000237705</td><td style=\"text-align: right;\">0.16839 </td><td style=\"text-align: right;\">-0.0397157 </td><td style=\"text-align: right;\">-0.196348 </td><td style=\"text-align: right;\">-0.19723  </td><td style=\"text-align: right;\">-0.152681 </td><td style=\"text-align: right;\">-0.131305  </td><td style=\"text-align: right;\"> 0.00156709</td><td style=\"text-align: right;\"> 0.129262 </td></tr>\n",
       "</tbody>\n",
       "</table>"
      ]
     },
     "metadata": {},
     "output_type": "display_data"
    },
    {
     "data": {
      "text/plain": []
     },
     "execution_count": 372,
     "metadata": {},
     "output_type": "execute_result"
    }
   ],
   "source": [
    "word_embeddings = w2v_model.to_frame()\n",
    "word_embeddings.head()"
   ]
  },
  {
   "cell_type": "code",
   "execution_count": 373,
   "metadata": {},
   "outputs": [
    {
     "name": "stdout",
     "output_type": "stream",
     "text": [
      "kmeans Model Build progress: |████████████████████████████████████████████| 100%\n"
     ]
    }
   ],
   "source": [
    "from h2o.estimators import H2OKMeansEstimator\n",
    "\n",
    "kmeans = H2OKMeansEstimator(model_id = \"word_segments.hex\",\n",
    "                            estimate_k = True, k = 100, # Max number of clusters\n",
    "                            seed = 1234)\n",
    "\n",
    "x = list(set(word_embeddings.col_names) - set([\"Word\"]))\n",
    "kmeans.train(x = x, training_frame = word_embeddings)"
   ]
  },
  {
   "cell_type": "code",
   "execution_count": 374,
   "metadata": {},
   "outputs": [
    {
     "name": "stdout",
     "output_type": "stream",
     "text": [
      "Centroid Statistics: \n"
     ]
    },
    {
     "data": {
      "text/html": [
       "<div style=\"overflow:auto\"><table style=\"width:50%\"><tr><td><b></b></td>\n",
       "<td><b>centroid</b></td>\n",
       "<td><b>size</b></td>\n",
       "<td><b>within_cluster_sum_of_squares</b></td></tr>\n",
       "<tr><td></td>\n",
       "<td>1.0</td>\n",
       "<td>8412.0</td>\n",
       "<td>812318.5523361</td></tr>\n",
       "<tr><td></td>\n",
       "<td>2.0</td>\n",
       "<td>4681.0</td>\n",
       "<td>479200.8316874</td></tr>\n",
       "<tr><td></td>\n",
       "<td>3.0</td>\n",
       "<td>5986.0</td>\n",
       "<td>517324.4919284</td></tr></table></div>"
      ],
      "text/plain": [
       "    centroid    size    within_cluster_sum_of_squares\n",
       "--  ----------  ------  -------------------------------\n",
       "    1           8412    812319\n",
       "    2           4681    479201\n",
       "    3           5986    517324"
      ]
     },
     "metadata": {},
     "output_type": "display_data"
    },
    {
     "data": {
      "text/plain": []
     },
     "execution_count": 374,
     "metadata": {},
     "output_type": "execute_result"
    }
   ],
   "source": [
    "# Clusters\n",
    "kmeans.centroid_stats()"
   ]
  },
  {
   "cell_type": "code",
   "execution_count": 375,
   "metadata": {},
   "outputs": [
    {
     "name": "stdout",
     "output_type": "stream",
     "text": [
      "kmeans prediction progress: |█████████████████████████████████████████████| 100%\n"
     ]
    },
    {
     "data": {
      "text/html": [
       "<table>\n",
       "<thead>\n",
       "<tr><th>Word    </th><th style=\"text-align: right;\">  predict</th></tr>\n",
       "</thead>\n",
       "<tbody>\n",
       "<tr><td>kronung </td><td style=\"text-align: right;\">        0</td></tr>\n",
       "<tr><td>berge   </td><td style=\"text-align: right;\">        0</td></tr>\n",
       "<tr><td>ewww    </td><td style=\"text-align: right;\">        2</td></tr>\n",
       "<tr><td>maison  </td><td style=\"text-align: right;\">        0</td></tr>\n",
       "<tr><td>mattered</td><td style=\"text-align: right;\">        2</td></tr>\n",
       "<tr><td>helpings</td><td style=\"text-align: right;\">        2</td></tr>\n",
       "<tr><td>twitter </td><td style=\"text-align: right;\">        1</td></tr>\n",
       "<tr><td>aah     </td><td style=\"text-align: right;\">        0</td></tr>\n",
       "<tr><td>reverted</td><td style=\"text-align: right;\">        0</td></tr>\n",
       "<tr><td>mroe    </td><td style=\"text-align: right;\">        1</td></tr>\n",
       "</tbody>\n",
       "</table>"
      ]
     },
     "metadata": {},
     "output_type": "display_data"
    },
    {
     "data": {
      "text/plain": []
     },
     "execution_count": 375,
     "metadata": {},
     "output_type": "execute_result"
    }
   ],
   "source": [
    "word_clusters = word_embeddings.cbind(kmeans.predict(word_embeddings))\n",
    "word_clusters[[\"Word\", \"predict\"]].head()"
   ]
  },
  {
   "cell_type": "code",
   "execution_count": 376,
   "metadata": {},
   "outputs": [],
   "source": [
    "selected_clusters = word_clusters[word_clusters[\"Word\"].isin(selected_words)]"
   ]
  },
  {
   "cell_type": "code",
   "execution_count": 377,
   "metadata": {},
   "outputs": [
    {
     "name": "stdout",
     "output_type": "stream",
     "text": [
      "Cluster 0\n"
     ]
    },
    {
     "data": {
      "text/html": [
       "<table>\n",
       "<thead>\n",
       "<tr><th>Word     </th></tr>\n",
       "</thead>\n",
       "<tbody>\n",
       "<tr><td>savory   </td></tr>\n",
       "<tr><td>espresso </td></tr>\n",
       "<tr><td>yummy    </td></tr>\n",
       "<tr><td>salty    </td></tr>\n",
       "<tr><td>starbucks</td></tr>\n",
       "<tr><td>amazing  </td></tr>\n",
       "<tr><td>tasty    </td></tr>\n",
       "<tr><td>sweet    </td></tr>\n",
       "<tr><td>best     </td></tr>\n",
       "<tr><td>coffee   </td></tr>\n",
       "</tbody>\n",
       "</table>"
      ]
     },
     "metadata": {},
     "output_type": "display_data"
    },
    {
     "name": "stdout",
     "output_type": "stream",
     "text": [
      "\n"
     ]
    }
   ],
   "source": [
    "print(\"Cluster 0\")\n",
    "print(selected_clusters[selected_clusters[\"predict\"] == 0, \"Word\"])"
   ]
  },
  {
   "cell_type": "code",
   "execution_count": 378,
   "metadata": {},
   "outputs": [
    {
     "name": "stdout",
     "output_type": "stream",
     "text": [
      "Cluster 1\n"
     ]
    },
    {
     "data": {
      "text/html": [
       "<table>\n",
       "<thead>\n",
       "<tr><th>Word      </th></tr>\n",
       "</thead>\n",
       "<tbody>\n",
       "<tr><td>abdominal </td></tr>\n",
       "<tr><td>answered  </td></tr>\n",
       "<tr><td>salmonella</td></tr>\n",
       "<tr><td>folic     </td></tr>\n",
       "<tr><td>unhappy   </td></tr>\n",
       "<tr><td>zinc      </td></tr>\n",
       "<tr><td>expired   </td></tr>\n",
       "<tr><td>support   </td></tr>\n",
       "<tr><td>email     </td></tr>\n",
       "</tbody>\n",
       "</table>"
      ]
     },
     "metadata": {},
     "output_type": "display_data"
    },
    {
     "name": "stdout",
     "output_type": "stream",
     "text": [
      "\n"
     ]
    }
   ],
   "source": [
    "print(\"Cluster 1\")\n",
    "print(selected_clusters[selected_clusters[\"predict\"] == 1, \"Word\"])"
   ]
  },
  {
   "cell_type": "markdown",
   "metadata": {},
   "source": [
    "# Step 6 (of 10).  Train Model with Original Data\n",
    "\n",
    "Now that we have analyzed our word embeddings, we will turn to our supervised learning task to predict whether someone liked the review.  We will first train a model on our original data - not our word embeddings to see what our accuracy is. We will use this model as a baseline model."
   ]
  },
  {
   "cell_type": "code",
   "execution_count": 379,
   "metadata": {},
   "outputs": [],
   "source": [
    "# Find the 80th quantile of time in the dataset\n",
    "time_split = reviews[\"Time\"].quantile(prob = [0.8])[1]\n",
    "reviews[\"Train\"] = (reviews[\"Time\"] < time_split).ifelse(\"Yes\", \"No\")"
   ]
  },
  {
   "cell_type": "code",
   "execution_count": 380,
   "metadata": {},
   "outputs": [],
   "source": [
    "train = reviews[reviews[\"Train\"] == \"Yes\"]\n",
    "test = reviews[reviews[\"Train\"] == \"No\"]"
   ]
  },
  {
   "cell_type": "code",
   "execution_count": 381,
   "metadata": {},
   "outputs": [
    {
     "name": "stdout",
     "output_type": "stream",
     "text": [
      "gbm Model Build progress: |███████████████████████████████████████████████| 100%\n"
     ]
    }
   ],
   "source": [
    "from h2o.estimators import H2OGradientBoostingEstimator\n",
    "\n",
    "predictors = ['ProductId', 'UserId', 'HelpfulnessNumerator', 'HelpfulnessDenominator', 'Time']\n",
    "response = 'PositiveReview'\n",
    "\n",
    "gbm_baseline = H2OGradientBoostingEstimator(stopping_metric = \"AUC\", stopping_tolerance = 0.001,\n",
    "                                            stopping_rounds = 5, score_tree_interval = 10,\n",
    "                                            model_id = \"gbm_baseline.hex\"\n",
    "                                           )\n",
    "gbm_baseline.train(x = predictors, y = response, \n",
    "                   training_frame = train, validation_frame = test\n",
    "                  )"
   ]
  },
  {
   "cell_type": "code",
   "execution_count": 382,
   "metadata": {},
   "outputs": [
    {
     "name": "stdout",
     "output_type": "stream",
     "text": [
      "AUC on Validation Data: 0.616\n"
     ]
    }
   ],
   "source": [
    "print(\"AUC on Validation Data: \" + str(round(gbm_baseline.auc(valid = True), 3)))"
   ]
  },
  {
   "cell_type": "markdown",
   "metadata": {},
   "source": [
    "We can see that there is a big room for improvement.  Our error is 22%.  To improve our model, we will train word embeddings for the review."
   ]
  },
  {
   "cell_type": "code",
   "execution_count": 383,
   "metadata": {},
   "outputs": [
    {
     "name": "stdout",
     "output_type": "stream",
     "text": [
      "Confusion Matrix (Act/Pred) for max f1 @ threshold = 0.45931625811239496: \n"
     ]
    },
    {
     "data": {
      "text/html": [
       "<div style=\"overflow:auto\"><table style=\"width:50%\"><tr><td><b></b></td>\n",
       "<td><b>0</b></td>\n",
       "<td><b>1</b></td>\n",
       "<td><b>Error</b></td>\n",
       "<td><b>Rate</b></td></tr>\n",
       "<tr><td>0</td>\n",
       "<td>384.0</td>\n",
       "<td>4276.0</td>\n",
       "<td>0.9176</td>\n",
       "<td> (4276.0/4660.0)</td></tr>\n",
       "<tr><td>1</td>\n",
       "<td>128.0</td>\n",
       "<td>15220.0</td>\n",
       "<td>0.0083</td>\n",
       "<td> (128.0/15348.0)</td></tr>\n",
       "<tr><td>Total</td>\n",
       "<td>512.0</td>\n",
       "<td>19496.0</td>\n",
       "<td>0.2201</td>\n",
       "<td> (4404.0/20008.0)</td></tr></table></div>"
      ],
      "text/plain": [
       "       0    1      Error    Rate\n",
       "-----  ---  -----  -------  ----------------\n",
       "0      384  4276   0.9176   (4276.0/4660.0)\n",
       "1      128  15220  0.0083   (128.0/15348.0)\n",
       "Total  512  19496  0.2201   (4404.0/20008.0)"
      ]
     },
     "metadata": {},
     "output_type": "display_data"
    },
    {
     "data": {
      "text/plain": []
     },
     "execution_count": 383,
     "metadata": {},
     "output_type": "execute_result"
    }
   ],
   "source": [
    "gbm_baseline.confusion_matrix(valid = True)"
   ]
  },
  {
   "cell_type": "markdown",
   "metadata": {},
   "source": [
    "The variable importance plot below shows us that the most important variable is `HelpfulnessNumerator`.  Looking at the partial dependency plot for that variable, we see that the more people who find the review helpful, the more likely it is a good review."
   ]
  },
  {
   "cell_type": "code",
   "execution_count": 384,
   "metadata": {},
   "outputs": [
    {
     "data": {
      "image/png": "[encoded data removed]",
      "text/plain": [
       "<Figure size 1008x720 with 1 Axes>"
      ]
     },
     "metadata": {
      "needs_background": "light"
     },
     "output_type": "display_data"
    }
   ],
   "source": [
    "gbm_baseline.varimp_plot()"
   ]
  },
  {
   "cell_type": "code",
   "execution_count": 385,
   "metadata": {
    "scrolled": false
   },
   "outputs": [
    {
     "name": "stdout",
     "output_type": "stream",
     "text": [
      "PartialDependencePlot progress: |█████████████████████████████████████████| 100%\n"
     ]
    },
    {
     "data": {
      "image/png": "[encoded data removed]",
      "text/plain": [
       "<Figure size 504x720 with 1 Axes>"
      ]
     },
     "metadata": {
      "needs_background": "light"
     },
     "output_type": "display_data"
    }
   ],
   "source": [
    "%matplotlib inline  \n",
    "pdp_helpfulness = gbm_baseline.partial_plot(train, cols = [\"HelpfulnessNumerator\"])"
   ]
  },
  {
   "cell_type": "markdown",
   "metadata": {},
   "source": [
    "# Step 7 (of 10).  Train Model with Word Embeddings\n",
    "\n",
    "We will train a GBM model with the same parameters as our baseline gbm.  This time, however, we will add the aggregated word embeddings as predictors. Then we will use the features the GBM model identified as important to train a GLM model to see if we can get a similar performance from a simpler linear model."
   ]
  },
  {
   "cell_type": "code",
   "execution_count": 386,
   "metadata": {},
   "outputs": [],
   "source": [
    "# Calculate a vector for each review\n",
    "review_vecs = w2v_model.transform(words, aggregate_method = \"AVERAGE\")"
   ]
  },
  {
   "cell_type": "code",
   "execution_count": 387,
   "metadata": {
    "scrolled": true
   },
   "outputs": [
    {
     "data": {
      "text/html": [
       "<table>\n",
       "<thead>\n",
       "<tr><th style=\"text-align: right;\">          C1</th><th style=\"text-align: right;\">        C2</th><th style=\"text-align: right;\">         C3</th><th style=\"text-align: right;\">       C4</th><th style=\"text-align: right;\">        C5</th><th style=\"text-align: right;\">        C6</th><th style=\"text-align: right;\">       C7</th><th style=\"text-align: right;\">         C8</th><th style=\"text-align: right;\">        C9</th><th style=\"text-align: right;\">        C10</th><th style=\"text-align: right;\">        C11</th><th style=\"text-align: right;\">        C12</th><th style=\"text-align: right;\">        C13</th><th style=\"text-align: right;\">       C14</th><th style=\"text-align: right;\">       C15</th><th style=\"text-align: right;\">        C16</th><th style=\"text-align: right;\">        C17</th><th style=\"text-align: right;\">         C18</th><th style=\"text-align: right;\">        C19</th><th style=\"text-align: right;\">        C20</th><th style=\"text-align: right;\">       C21</th><th style=\"text-align: right;\">        C22</th><th style=\"text-align: right;\">        C23</th><th style=\"text-align: right;\">      C24</th><th style=\"text-align: right;\">        C25</th><th style=\"text-align: right;\">       C26</th><th style=\"text-align: right;\">        C27</th><th style=\"text-align: right;\">      C28</th><th style=\"text-align: right;\">        C29</th><th style=\"text-align: right;\">         C30</th><th style=\"text-align: right;\">         C31</th><th style=\"text-align: right;\">        C32</th><th style=\"text-align: right;\">       C33</th><th style=\"text-align: right;\">        C34</th><th style=\"text-align: right;\">        C35</th><th style=\"text-align: right;\">        C36</th><th style=\"text-align: right;\">       C37</th><th style=\"text-align: right;\">        C38</th><th style=\"text-align: right;\">         C39</th><th style=\"text-align: right;\">       C40</th><th style=\"text-align: right;\">         C41</th><th style=\"text-align: right;\">       C42</th><th style=\"text-align: right;\">       C43</th><th style=\"text-align: right;\">         C44</th><th style=\"text-align: right;\">         C45</th><th style=\"text-align: right;\">      C46</th><th style=\"text-align: right;\">        C47</th><th style=\"text-align: right;\">     C48</th><th style=\"text-align: right;\">       C49</th><th style=\"text-align: right;\">       C50</th><th style=\"text-align: right;\">       C51</th><th style=\"text-align: right;\">       C52</th><th style=\"text-align: right;\">       C53</th><th style=\"text-align: right;\">        C54</th><th style=\"text-align: right;\">       C55</th><th style=\"text-align: right;\">       C56</th><th style=\"text-align: right;\">       C57</th><th style=\"text-align: right;\">        C58</th><th style=\"text-align: right;\">        C59</th><th style=\"text-align: right;\">        C60</th><th style=\"text-align: right;\">       C61</th><th style=\"text-align: right;\">        C62</th><th style=\"text-align: right;\">        C63</th><th style=\"text-align: right;\">        C64</th><th style=\"text-align: right;\">        C65</th><th style=\"text-align: right;\">      C66</th><th style=\"text-align: right;\">       C67</th><th style=\"text-align: right;\">       C68</th><th style=\"text-align: right;\">        C69</th><th style=\"text-align: right;\">        C70</th><th style=\"text-align: right;\">       C71</th><th style=\"text-align: right;\">       C72</th><th style=\"text-align: right;\">        C73</th><th style=\"text-align: right;\">        C74</th><th style=\"text-align: right;\">        C75</th><th style=\"text-align: right;\">      C76</th><th style=\"text-align: right;\">      C77</th><th style=\"text-align: right;\">        C78</th><th style=\"text-align: right;\">       C79</th><th style=\"text-align: right;\">       C80</th><th style=\"text-align: right;\">       C81</th><th style=\"text-align: right;\">       C82</th><th style=\"text-align: right;\">         C83</th><th style=\"text-align: right;\">      C84</th><th style=\"text-align: right;\">       C85</th><th style=\"text-align: right;\">       C86</th><th style=\"text-align: right;\">       C87</th><th style=\"text-align: right;\">        C88</th><th style=\"text-align: right;\">       C89</th><th style=\"text-align: right;\">        C90</th><th style=\"text-align: right;\">        C91</th><th style=\"text-align: right;\">       C92</th><th style=\"text-align: right;\">      C93</th><th style=\"text-align: right;\">        C94</th><th style=\"text-align: right;\">       C95</th><th style=\"text-align: right;\">       C96</th><th style=\"text-align: right;\">        C97</th><th style=\"text-align: right;\">        C98</th><th style=\"text-align: right;\">       C99</th><th style=\"text-align: right;\">     C100</th></tr>\n",
       "</thead>\n",
       "<tbody>\n",
       "<tr><td style=\"text-align: right;\"> 2.87124e-05</td><td style=\"text-align: right;\"> 0.0912176</td><td style=\"text-align: right;\">-0.0970528 </td><td style=\"text-align: right;\">0.13177  </td><td style=\"text-align: right;\"> 0.0538552</td><td style=\"text-align: right;\">-0.0999479</td><td style=\"text-align: right;\">-0.191905</td><td style=\"text-align: right;\"> 0.121468  </td><td style=\"text-align: right;\">-0.191615 </td><td style=\"text-align: right;\">-0.00347021</td><td style=\"text-align: right;\">-0.0181034 </td><td style=\"text-align: right;\">-0.00161293</td><td style=\"text-align: right;\"> 0.060723  </td><td style=\"text-align: right;\">-0.22616  </td><td style=\"text-align: right;\">-0.23666  </td><td style=\"text-align: right;\">-0.00692957</td><td style=\"text-align: right;\">-0.0325776 </td><td style=\"text-align: right;\">-0.085193   </td><td style=\"text-align: right;\">-0.00255965</td><td style=\"text-align: right;\"> 0.100049  </td><td style=\"text-align: right;\">-0.0301294</td><td style=\"text-align: right;\"> 0.105212  </td><td style=\"text-align: right;\">-0.037868  </td><td style=\"text-align: right;\">0.0579461</td><td style=\"text-align: right;\">-0.077339  </td><td style=\"text-align: right;\">-0.102866 </td><td style=\"text-align: right;\"> 0.0359691 </td><td style=\"text-align: right;\">-0.211495</td><td style=\"text-align: right;\"> 0.14193   </td><td style=\"text-align: right;\"> 0.0440362  </td><td style=\"text-align: right;\">-0.0799722  </td><td style=\"text-align: right;\"> 0.0532667 </td><td style=\"text-align: right;\"> 0.122969 </td><td style=\"text-align: right;\">-0.0172174 </td><td style=\"text-align: right;\">-0.084887  </td><td style=\"text-align: right;\"> 0.0562133 </td><td style=\"text-align: right;\"> 0.207831 </td><td style=\"text-align: right;\"> 0.00241011</td><td style=\"text-align: right;\">-0.00892564 </td><td style=\"text-align: right;\">-0.195842 </td><td style=\"text-align: right;\"> 0.0974532  </td><td style=\"text-align: right;\">-0.27653  </td><td style=\"text-align: right;\">-0.0355934</td><td style=\"text-align: right;\"> 0.000292195</td><td style=\"text-align: right;\"> 0.0579174  </td><td style=\"text-align: right;\">0.0767987</td><td style=\"text-align: right;\"> 0.0132687 </td><td style=\"text-align: right;\">0.131898</td><td style=\"text-align: right;\"> 0.100711 </td><td style=\"text-align: right;\">-0.165826 </td><td style=\"text-align: right;\">-0.157413 </td><td style=\"text-align: right;\">-0.207306 </td><td style=\"text-align: right;\"> 0.0232431</td><td style=\"text-align: right;\"> 0.106078  </td><td style=\"text-align: right;\"> 0.0638186</td><td style=\"text-align: right;\">-0.0209052</td><td style=\"text-align: right;\"> 0.0520109</td><td style=\"text-align: right;\"> 0.0068358 </td><td style=\"text-align: right;\">-0.00818194</td><td style=\"text-align: right;\"> 0.00700529</td><td style=\"text-align: right;\">-0.103515 </td><td style=\"text-align: right;\">-0.00444815</td><td style=\"text-align: right;\">-0.0953192 </td><td style=\"text-align: right;\">-0.102601  </td><td style=\"text-align: right;\">-0.1098    </td><td style=\"text-align: right;\">0.0468683</td><td style=\"text-align: right;\">-0.0650143</td><td style=\"text-align: right;\">-0.02183  </td><td style=\"text-align: right;\"> 0.036197  </td><td style=\"text-align: right;\"> 0.0284745 </td><td style=\"text-align: right;\"> 0.0890689</td><td style=\"text-align: right;\"> 0.0498064</td><td style=\"text-align: right;\"> 0.114422  </td><td style=\"text-align: right;\">-0.112592  </td><td style=\"text-align: right;\"> 0.0737806 </td><td style=\"text-align: right;\">0.0901997</td><td style=\"text-align: right;\">0.25053  </td><td style=\"text-align: right;\"> 0.0618977 </td><td style=\"text-align: right;\"> 0.143701 </td><td style=\"text-align: right;\">-0.0419887</td><td style=\"text-align: right;\">-0.0332032</td><td style=\"text-align: right;\">-0.0328179</td><td style=\"text-align: right;\"> 0.0920827  </td><td style=\"text-align: right;\">0.224983 </td><td style=\"text-align: right;\"> 0.0282226</td><td style=\"text-align: right;\">-0.0885295</td><td style=\"text-align: right;\"> 0.0918985</td><td style=\"text-align: right;\"> 0.0760164 </td><td style=\"text-align: right;\">-0.0763571</td><td style=\"text-align: right;\"> 0.0528946 </td><td style=\"text-align: right;\">-0.00812004</td><td style=\"text-align: right;\"> 0.0729336</td><td style=\"text-align: right;\">0.0750347</td><td style=\"text-align: right;\"> 0.0942212 </td><td style=\"text-align: right;\">-0.100833 </td><td style=\"text-align: right;\">-0.0983671</td><td style=\"text-align: right;\">-0.169939  </td><td style=\"text-align: right;\"> 0.00746757</td><td style=\"text-align: right;\">-0.0908034</td><td style=\"text-align: right;\">0.115533 </td></tr>\n",
       "<tr><td style=\"text-align: right;\">-0.0421966  </td><td style=\"text-align: right;\">-0.343935 </td><td style=\"text-align: right;\"> 0.00589402</td><td style=\"text-align: right;\">0.0980159</td><td style=\"text-align: right;\"> 0.0356696</td><td style=\"text-align: right;\">-0.0165078</td><td style=\"text-align: right;\">-0.151915</td><td style=\"text-align: right;\">-0.0785746 </td><td style=\"text-align: right;\">-0.138458 </td><td style=\"text-align: right;\">-0.0927861 </td><td style=\"text-align: right;\">-0.12632   </td><td style=\"text-align: right;\">-0.131436  </td><td style=\"text-align: right;\"> 0.0283106 </td><td style=\"text-align: right;\">-0.0169432</td><td style=\"text-align: right;\">-0.104549 </td><td style=\"text-align: right;\"> 0.0357914 </td><td style=\"text-align: right;\">-0.143835  </td><td style=\"text-align: right;\">-0.00135921 </td><td style=\"text-align: right;\"> 0.00650079</td><td style=\"text-align: right;\"> 0.0131688 </td><td style=\"text-align: right;\"> 0.0836186</td><td style=\"text-align: right;\">-0.0122552 </td><td style=\"text-align: right;\"> 0.0828945 </td><td style=\"text-align: right;\">0.144072 </td><td style=\"text-align: right;\"> 0.0157594 </td><td style=\"text-align: right;\">-0.0494778</td><td style=\"text-align: right;\">-0.0863583 </td><td style=\"text-align: right;\">-0.269097</td><td style=\"text-align: right;\">-0.0173865 </td><td style=\"text-align: right;\">-0.162896   </td><td style=\"text-align: right;\">-0.00179928 </td><td style=\"text-align: right;\"> 0.0714688 </td><td style=\"text-align: right;\">-0.0084867</td><td style=\"text-align: right;\"> 0.045725  </td><td style=\"text-align: right;\">-0.0624196 </td><td style=\"text-align: right;\">-0.0368468 </td><td style=\"text-align: right;\"> 0.0408186</td><td style=\"text-align: right;\">-0.171819  </td><td style=\"text-align: right;\">-0.0533207  </td><td style=\"text-align: right;\">-0.204762 </td><td style=\"text-align: right;\">-0.00782662 </td><td style=\"text-align: right;\">-0.0573253</td><td style=\"text-align: right;\">-0.059218 </td><td style=\"text-align: right;\"> 0.0789604  </td><td style=\"text-align: right;\">-0.0757997  </td><td style=\"text-align: right;\">0.158539 </td><td style=\"text-align: right;\"> 0.0574871 </td><td style=\"text-align: right;\">0.101102</td><td style=\"text-align: right;\"> 0.0193431</td><td style=\"text-align: right;\">-0.0126137</td><td style=\"text-align: right;\">-0.047745 </td><td style=\"text-align: right;\">-0.131897 </td><td style=\"text-align: right;\">-0.0576674</td><td style=\"text-align: right;\"> 0.133767  </td><td style=\"text-align: right;\">-0.104362 </td><td style=\"text-align: right;\"> 0.0607467</td><td style=\"text-align: right;\">-0.0246293</td><td style=\"text-align: right;\">-0.0515247 </td><td style=\"text-align: right;\"> 0.0656951 </td><td style=\"text-align: right;\"> 0.0354199 </td><td style=\"text-align: right;\"> 0.0078883</td><td style=\"text-align: right;\"> 0.154012  </td><td style=\"text-align: right;\"> 0.00594016</td><td style=\"text-align: right;\">-0.0441351 </td><td style=\"text-align: right;\">-0.0656293 </td><td style=\"text-align: right;\">0.13991  </td><td style=\"text-align: right;\"> 0.105871 </td><td style=\"text-align: right;\"> 0.130566 </td><td style=\"text-align: right;\">-0.0134084 </td><td style=\"text-align: right;\">-0.0367255 </td><td style=\"text-align: right;\">-0.039289 </td><td style=\"text-align: right;\"> 0.105639 </td><td style=\"text-align: right;\">-0.00180723</td><td style=\"text-align: right;\"> 0.0563623 </td><td style=\"text-align: right;\">-0.06517   </td><td style=\"text-align: right;\">0.125891 </td><td style=\"text-align: right;\">0.200336 </td><td style=\"text-align: right;\"> 0.0258046 </td><td style=\"text-align: right;\"> 0.0612234</td><td style=\"text-align: right;\">-0.127542 </td><td style=\"text-align: right;\">-0.10071  </td><td style=\"text-align: right;\">-0.172384 </td><td style=\"text-align: right;\"> 0.00145003 </td><td style=\"text-align: right;\">0.0960163</td><td style=\"text-align: right;\">-0.0495617</td><td style=\"text-align: right;\">-0.103422 </td><td style=\"text-align: right;\">-0.148295 </td><td style=\"text-align: right;\">-0.0523661 </td><td style=\"text-align: right;\">-0.102919 </td><td style=\"text-align: right;\">-0.0438225 </td><td style=\"text-align: right;\">-0.0804922 </td><td style=\"text-align: right;\">-0.11589  </td><td style=\"text-align: right;\">0.0699318</td><td style=\"text-align: right;\"> 0.00020831</td><td style=\"text-align: right;\">-0.253124 </td><td style=\"text-align: right;\">-0.090096 </td><td style=\"text-align: right;\">-0.0430407 </td><td style=\"text-align: right;\">-0.0176674 </td><td style=\"text-align: right;\"> 0.0430949</td><td style=\"text-align: right;\">0.139215 </td></tr>\n",
       "<tr><td style=\"text-align: right;\"> 0.0101584  </td><td style=\"text-align: right;\">-0.0754288</td><td style=\"text-align: right;\"> 0.00805314</td><td style=\"text-align: right;\">0.108342 </td><td style=\"text-align: right;\"> 0.0422871</td><td style=\"text-align: right;\">-0.0517993</td><td style=\"text-align: right;\">-0.141159</td><td style=\"text-align: right;\"> 0.0262341 </td><td style=\"text-align: right;\">-0.0638897</td><td style=\"text-align: right;\"> 0.00623173</td><td style=\"text-align: right;\">-0.023477  </td><td style=\"text-align: right;\"> 0.0365365 </td><td style=\"text-align: right;\"> 0.038606  </td><td style=\"text-align: right;\">-0.0543711</td><td style=\"text-align: right;\">-0.167102 </td><td style=\"text-align: right;\"> 0.021213  </td><td style=\"text-align: right;\">-0.137964  </td><td style=\"text-align: right;\">-0.0437051  </td><td style=\"text-align: right;\"> 0.0324936 </td><td style=\"text-align: right;\"> 0.054613  </td><td style=\"text-align: right;\"> 0.0872131</td><td style=\"text-align: right;\">-0.0423796 </td><td style=\"text-align: right;\">-0.0155873 </td><td style=\"text-align: right;\">0.0906941</td><td style=\"text-align: right;\">-0.0306947 </td><td style=\"text-align: right;\">-0.0253465</td><td style=\"text-align: right;\">-0.0224231 </td><td style=\"text-align: right;\">-0.230287</td><td style=\"text-align: right;\"> 0.00874843</td><td style=\"text-align: right;\"> 0.0832605  </td><td style=\"text-align: right;\">-0.0513829  </td><td style=\"text-align: right;\">-0.00254675</td><td style=\"text-align: right;\"> 0.0591953</td><td style=\"text-align: right;\"> 0.0100612 </td><td style=\"text-align: right;\"> 0.0456459 </td><td style=\"text-align: right;\"> 0.00153348</td><td style=\"text-align: right;\"> 0.0759555</td><td style=\"text-align: right;\"> 0.0210454 </td><td style=\"text-align: right;\">-0.0341371  </td><td style=\"text-align: right;\">-0.196564 </td><td style=\"text-align: right;\"> 0.12318    </td><td style=\"text-align: right;\">-0.143543 </td><td style=\"text-align: right;\"> 0.0579539</td><td style=\"text-align: right;\"> 0.151179   </td><td style=\"text-align: right;\"> 0.0972495  </td><td style=\"text-align: right;\">0.0461468</td><td style=\"text-align: right;\"> 0.00904616</td><td style=\"text-align: right;\">0.120235</td><td style=\"text-align: right;\"> 0.112753 </td><td style=\"text-align: right;\">-0.0648898</td><td style=\"text-align: right;\">-0.199853 </td><td style=\"text-align: right;\">-0.114974 </td><td style=\"text-align: right;\">-0.140364 </td><td style=\"text-align: right;\">-0.121155  </td><td style=\"text-align: right;\">-0.0879767</td><td style=\"text-align: right;\"> 0.0808563</td><td style=\"text-align: right;\">-0.110018 </td><td style=\"text-align: right;\"> 0.100932  </td><td style=\"text-align: right;\"> 0.107925  </td><td style=\"text-align: right;\"> 0.0207263 </td><td style=\"text-align: right;\">-0.154743 </td><td style=\"text-align: right;\"> 0.0812827 </td><td style=\"text-align: right;\">-0.124729  </td><td style=\"text-align: right;\">-0.0372676 </td><td style=\"text-align: right;\">-0.102886  </td><td style=\"text-align: right;\">0.0995738</td><td style=\"text-align: right;\"> 0.0233578</td><td style=\"text-align: right;\"> 0.0732745</td><td style=\"text-align: right;\">-0.00299283</td><td style=\"text-align: right;\">-0.0538553 </td><td style=\"text-align: right;\">-0.097658 </td><td style=\"text-align: right;\"> 0.167778 </td><td style=\"text-align: right;\"> 0.0111008 </td><td style=\"text-align: right;\">-0.0292831 </td><td style=\"text-align: right;\"> 0.00925522</td><td style=\"text-align: right;\">0.217098 </td><td style=\"text-align: right;\">0.105325 </td><td style=\"text-align: right;\"> 0.0810183 </td><td style=\"text-align: right;\"> 0.166724 </td><td style=\"text-align: right;\">-0.0262329</td><td style=\"text-align: right;\">-0.0259484</td><td style=\"text-align: right;\"> 0.151435 </td><td style=\"text-align: right;\"> 0.0371764  </td><td style=\"text-align: right;\">0.293725 </td><td style=\"text-align: right;\">-0.0675705</td><td style=\"text-align: right;\">-0.156074 </td><td style=\"text-align: right;\"> 0.0266319</td><td style=\"text-align: right;\"> 0.0264286 </td><td style=\"text-align: right;\">-0.0506685</td><td style=\"text-align: right;\"> 0.0375797 </td><td style=\"text-align: right;\">-0.0984033 </td><td style=\"text-align: right;\">-0.0130791</td><td style=\"text-align: right;\">0.120911 </td><td style=\"text-align: right;\"> 0.027164  </td><td style=\"text-align: right;\">-0.097491 </td><td style=\"text-align: right;\">-0.0229194</td><td style=\"text-align: right;\">-0.0351742 </td><td style=\"text-align: right;\"> 0.0279497 </td><td style=\"text-align: right;\"> 0.0951515</td><td style=\"text-align: right;\">0.108943 </td></tr>\n",
       "<tr><td style=\"text-align: right;\"> 0.131561   </td><td style=\"text-align: right;\">-0.109586 </td><td style=\"text-align: right;\"> 0.0243651 </td><td style=\"text-align: right;\">0.0820552</td><td style=\"text-align: right;\"> 0.0526061</td><td style=\"text-align: right;\">-0.0281553</td><td style=\"text-align: right;\">-0.132649</td><td style=\"text-align: right;\"> 0.0477758 </td><td style=\"text-align: right;\">-0.130582 </td><td style=\"text-align: right;\"> 0.0804485 </td><td style=\"text-align: right;\"> 0.00418309</td><td style=\"text-align: right;\"> 0.0253865 </td><td style=\"text-align: right;\">-0.00810057</td><td style=\"text-align: right;\">-0.121252 </td><td style=\"text-align: right;\">-0.0780475</td><td style=\"text-align: right;\">-0.0136528 </td><td style=\"text-align: right;\">-0.116357  </td><td style=\"text-align: right;\">-0.0367472  </td><td style=\"text-align: right;\">-0.0466269 </td><td style=\"text-align: right;\"> 0.0782624 </td><td style=\"text-align: right;\"> 0.158665 </td><td style=\"text-align: right;\"> 0.0344374 </td><td style=\"text-align: right;\">-0.085285  </td><td style=\"text-align: right;\">0.0558091</td><td style=\"text-align: right;\">-0.00541981</td><td style=\"text-align: right;\">-0.0817131</td><td style=\"text-align: right;\"> 0.00411706</td><td style=\"text-align: right;\">-0.222105</td><td style=\"text-align: right;\"> 0.0554749 </td><td style=\"text-align: right;\"> 0.0340144  </td><td style=\"text-align: right;\"> 0.000115414</td><td style=\"text-align: right;\">-0.0656363 </td><td style=\"text-align: right;\"> 0.0496886</td><td style=\"text-align: right;\"> 0.038011  </td><td style=\"text-align: right;\"> 0.164635  </td><td style=\"text-align: right;\"> 0.0284239 </td><td style=\"text-align: right;\"> 0.0363391</td><td style=\"text-align: right;\">-0.19307   </td><td style=\"text-align: right;\"> 0.000550502</td><td style=\"text-align: right;\">-0.114123 </td><td style=\"text-align: right;\"> 0.10764    </td><td style=\"text-align: right;\">-0.132045 </td><td style=\"text-align: right;\"> 0.024799 </td><td style=\"text-align: right;\"> 0.0960482  </td><td style=\"text-align: right;\">-0.00452622 </td><td style=\"text-align: right;\">0.0813379</td><td style=\"text-align: right;\"> 0.00157042</td><td style=\"text-align: right;\">0.100781</td><td style=\"text-align: right;\"> 0.044317 </td><td style=\"text-align: right;\">-0.143115 </td><td style=\"text-align: right;\">-0.105076 </td><td style=\"text-align: right;\">-0.105309 </td><td style=\"text-align: right;\"> 0.0147913</td><td style=\"text-align: right;\"> 0.0570399 </td><td style=\"text-align: right;\"> 0.115605 </td><td style=\"text-align: right;\"> 0.187625 </td><td style=\"text-align: right;\">-0.0939257</td><td style=\"text-align: right;\"> 0.00675181</td><td style=\"text-align: right;\"> 0.0217969 </td><td style=\"text-align: right;\">-0.0357049 </td><td style=\"text-align: right;\">-0.0681446</td><td style=\"text-align: right;\"> 0.0395825 </td><td style=\"text-align: right;\">-0.0278973 </td><td style=\"text-align: right;\">-0.0357768 </td><td style=\"text-align: right;\">-0.0631861 </td><td style=\"text-align: right;\">0.0467712</td><td style=\"text-align: right;\"> 0.0011082</td><td style=\"text-align: right;\"> 0.234876 </td><td style=\"text-align: right;\">-0.052833  </td><td style=\"text-align: right;\">-0.0594052 </td><td style=\"text-align: right;\">-0.0254216</td><td style=\"text-align: right;\"> 0.119341 </td><td style=\"text-align: right;\"> 0.023181  </td><td style=\"text-align: right;\">-0.0436833 </td><td style=\"text-align: right;\"> 0.00814958</td><td style=\"text-align: right;\">0.161674 </td><td style=\"text-align: right;\">0.154998 </td><td style=\"text-align: right;\"> 0.034918  </td><td style=\"text-align: right;\"> 0.206744 </td><td style=\"text-align: right;\">-0.159643 </td><td style=\"text-align: right;\"> 0.069611 </td><td style=\"text-align: right;\"> 0.0339043</td><td style=\"text-align: right;\"> 0.000553876</td><td style=\"text-align: right;\">0.259336 </td><td style=\"text-align: right;\"> 0.0472864</td><td style=\"text-align: right;\">-0.0999995</td><td style=\"text-align: right;\"> 0.0256521</td><td style=\"text-align: right;\">-0.0171728 </td><td style=\"text-align: right;\">-0.0259374</td><td style=\"text-align: right;\">-0.0113607 </td><td style=\"text-align: right;\">-0.0944352 </td><td style=\"text-align: right;\">-0.089655 </td><td style=\"text-align: right;\">0.0579463</td><td style=\"text-align: right;\"> 0.0797551 </td><td style=\"text-align: right;\">-0.0438533</td><td style=\"text-align: right;\">-0.0323543</td><td style=\"text-align: right;\">-0.00455059</td><td style=\"text-align: right;\"> 0.106869  </td><td style=\"text-align: right;\"> 0.0393431</td><td style=\"text-align: right;\">0.163886 </td></tr>\n",
       "<tr><td style=\"text-align: right;\">-0.0352784  </td><td style=\"text-align: right;\">-0.0798605</td><td style=\"text-align: right;\">-0.0247749 </td><td style=\"text-align: right;\">0.159188 </td><td style=\"text-align: right;\">-0.0177701</td><td style=\"text-align: right;\">-0.0626411</td><td style=\"text-align: right;\">-0.121989</td><td style=\"text-align: right;\"> 0.0325723 </td><td style=\"text-align: right;\">-0.108111 </td><td style=\"text-align: right;\"> 0.0448648 </td><td style=\"text-align: right;\"> 0.0368162 </td><td style=\"text-align: right;\">-0.0806711 </td><td style=\"text-align: right;\"> 0.102555  </td><td style=\"text-align: right;\">-0.162139 </td><td style=\"text-align: right;\">-0.200263 </td><td style=\"text-align: right;\">-0.0556262 </td><td style=\"text-align: right;\">-0.133565  </td><td style=\"text-align: right;\">-0.137102   </td><td style=\"text-align: right;\"> 0.0358878 </td><td style=\"text-align: right;\">-0.0584571 </td><td style=\"text-align: right;\"> 0.0493876</td><td style=\"text-align: right;\"> 0.0269598 </td><td style=\"text-align: right;\">-0.133484  </td><td style=\"text-align: right;\">0.0011335</td><td style=\"text-align: right;\">-0.0244594 </td><td style=\"text-align: right;\">-0.11168  </td><td style=\"text-align: right;\">-0.00131726</td><td style=\"text-align: right;\">-0.201165</td><td style=\"text-align: right;\"> 0.107326  </td><td style=\"text-align: right;\">-0.000965741</td><td style=\"text-align: right;\">-0.0959926  </td><td style=\"text-align: right;\">-0.00869698</td><td style=\"text-align: right;\">-0.0229012</td><td style=\"text-align: right;\">-0.00204561</td><td style=\"text-align: right;\">-0.019614  </td><td style=\"text-align: right;\"> 0.051674  </td><td style=\"text-align: right;\"> 0.141029 </td><td style=\"text-align: right;\">-0.090782  </td><td style=\"text-align: right;\">-0.0286405  </td><td style=\"text-align: right;\">-0.120637 </td><td style=\"text-align: right;\"> 0.142981   </td><td style=\"text-align: right;\">-0.204845 </td><td style=\"text-align: right;\">-0.0465685</td><td style=\"text-align: right;\"> 0.046616   </td><td style=\"text-align: right;\"> 0.000255721</td><td style=\"text-align: right;\">0.0963583</td><td style=\"text-align: right;\">-0.0845109 </td><td style=\"text-align: right;\">0.155754</td><td style=\"text-align: right;\"> 0.0447675</td><td style=\"text-align: right;\">-0.122546 </td><td style=\"text-align: right;\">-0.112163 </td><td style=\"text-align: right;\">-0.213229 </td><td style=\"text-align: right;\">-0.0752813</td><td style=\"text-align: right;\"> 0.00793525</td><td style=\"text-align: right;\"> 0.0352988</td><td style=\"text-align: right;\"> 0.0635128</td><td style=\"text-align: right;\">-0.0173891</td><td style=\"text-align: right;\"> 0.108319  </td><td style=\"text-align: right;\"> 0.0420035 </td><td style=\"text-align: right;\"> 0.129592  </td><td style=\"text-align: right;\"> 0.0124347</td><td style=\"text-align: right;\"> 0.0591389 </td><td style=\"text-align: right;\">-0.0729451 </td><td style=\"text-align: right;\">-0.0725105 </td><td style=\"text-align: right;\">-0.0943826 </td><td style=\"text-align: right;\">0.0356824</td><td style=\"text-align: right;\">-0.0397267</td><td style=\"text-align: right;\"> 0.0573458</td><td style=\"text-align: right;\"> 0.107202  </td><td style=\"text-align: right;\">-0.05258   </td><td style=\"text-align: right;\">-0.0596128</td><td style=\"text-align: right;\"> 0.143664 </td><td style=\"text-align: right;\"> 0.10837   </td><td style=\"text-align: right;\">-0.0330321 </td><td style=\"text-align: right;\"> 0.0857255 </td><td style=\"text-align: right;\">0.146718 </td><td style=\"text-align: right;\">0.203545 </td><td style=\"text-align: right;\"> 0.0672628 </td><td style=\"text-align: right;\"> 0.130411 </td><td style=\"text-align: right;\">-0.142763 </td><td style=\"text-align: right;\">-0.0518941</td><td style=\"text-align: right;\"> 0.0563782</td><td style=\"text-align: right;\"> 0.0277529  </td><td style=\"text-align: right;\">0.366704 </td><td style=\"text-align: right;\">-0.0763882</td><td style=\"text-align: right;\">-0.116533 </td><td style=\"text-align: right;\"> 0.0610029</td><td style=\"text-align: right;\"> 0.0240092 </td><td style=\"text-align: right;\">-0.0550435</td><td style=\"text-align: right;\">-0.00153912</td><td style=\"text-align: right;\">-0.0380366 </td><td style=\"text-align: right;\"> 0.014351 </td><td style=\"text-align: right;\">0.017627 </td><td style=\"text-align: right;\"> 0.013322  </td><td style=\"text-align: right;\">-0.0678513</td><td style=\"text-align: right;\"> 0.0393556</td><td style=\"text-align: right;\">-0.0112378 </td><td style=\"text-align: right;\"> 0.0538062 </td><td style=\"text-align: right;\">-0.0515896</td><td style=\"text-align: right;\">0.165717 </td></tr>\n",
       "<tr><td style=\"text-align: right;\"> 0.000176113</td><td style=\"text-align: right;\">-0.213978 </td><td style=\"text-align: right;\">-0.078101  </td><td style=\"text-align: right;\">0.0811111</td><td style=\"text-align: right;\"> 0.0795507</td><td style=\"text-align: right;\"> 0.031823 </td><td style=\"text-align: right;\">-0.171957</td><td style=\"text-align: right;\">-0.198449  </td><td style=\"text-align: right;\"> 0.0396278</td><td style=\"text-align: right;\"> 0.0475912 </td><td style=\"text-align: right;\">-0.0953033 </td><td style=\"text-align: right;\"> 0.01543   </td><td style=\"text-align: right;\">-0.0552113 </td><td style=\"text-align: right;\"> 0.0967084</td><td style=\"text-align: right;\">-0.24154  </td><td style=\"text-align: right;\"> 0.0120049 </td><td style=\"text-align: right;\">-0.30376   </td><td style=\"text-align: right;\"> 1.53712e-05</td><td style=\"text-align: right;\"> 0.111146  </td><td style=\"text-align: right;\">-0.00647856</td><td style=\"text-align: right;\"> 0.0786088</td><td style=\"text-align: right;\"> 0.0619754 </td><td style=\"text-align: right;\">-0.121081  </td><td style=\"text-align: right;\">0.267371 </td><td style=\"text-align: right;\"> 0.0191792 </td><td style=\"text-align: right;\">-0.162952 </td><td style=\"text-align: right;\">-0.0904842 </td><td style=\"text-align: right;\">-0.20017 </td><td style=\"text-align: right;\">-0.0237673 </td><td style=\"text-align: right;\"> 0.0291378  </td><td style=\"text-align: right;\">-0.0406818  </td><td style=\"text-align: right;\">-0.0159143 </td><td style=\"text-align: right;\"> 0.153521 </td><td style=\"text-align: right;\"> 0.12127   </td><td style=\"text-align: right;\">-0.0395653 </td><td style=\"text-align: right;\"> 0.0223151 </td><td style=\"text-align: right;\"> 0.160735 </td><td style=\"text-align: right;\">-0.163413  </td><td style=\"text-align: right;\">-0.0647795  </td><td style=\"text-align: right;\">-0.115226 </td><td style=\"text-align: right;\"> 0.104748   </td><td style=\"text-align: right;\">-0.0315682</td><td style=\"text-align: right;\"> 0.0699441</td><td style=\"text-align: right;\">-0.0217752  </td><td style=\"text-align: right;\">-0.0827378  </td><td style=\"text-align: right;\">0.071871 </td><td style=\"text-align: right;\">-0.0202173 </td><td style=\"text-align: right;\">0.161071</td><td style=\"text-align: right;\">-0.134985 </td><td style=\"text-align: right;\">-0.0879125</td><td style=\"text-align: right;\">-0.0501837</td><td style=\"text-align: right;\">-0.0712569</td><td style=\"text-align: right;\">-0.120439 </td><td style=\"text-align: right;\"> 0.10696   </td><td style=\"text-align: right;\"> 0.158923 </td><td style=\"text-align: right;\"> 0.144727 </td><td style=\"text-align: right;\"> 0.0132261</td><td style=\"text-align: right;\"> 0.0268268 </td><td style=\"text-align: right;\"> 0.0676093 </td><td style=\"text-align: right;\">-0.00712804</td><td style=\"text-align: right;\"> 0.0236138</td><td style=\"text-align: right;\"> 0.111987  </td><td style=\"text-align: right;\">-0.0621618 </td><td style=\"text-align: right;\">-0.0239244 </td><td style=\"text-align: right;\">-0.0474792 </td><td style=\"text-align: right;\">0.102837 </td><td style=\"text-align: right;\"> 0.0365172</td><td style=\"text-align: right;\"> 0.132195 </td><td style=\"text-align: right;\"> 0.0807304 </td><td style=\"text-align: right;\">-0.0510951 </td><td style=\"text-align: right;\"> 0.0635927</td><td style=\"text-align: right;\"> 0.195303 </td><td style=\"text-align: right;\"> 0.0581407 </td><td style=\"text-align: right;\">-0.0650954 </td><td style=\"text-align: right;\">-0.0388381 </td><td style=\"text-align: right;\">0.0980219</td><td style=\"text-align: right;\">0.09269  </td><td style=\"text-align: right;\"> 0.0427706 </td><td style=\"text-align: right;\">-0.0790267</td><td style=\"text-align: right;\"> 0.0695656</td><td style=\"text-align: right;\">-0.169553 </td><td style=\"text-align: right;\"> 0.0914142</td><td style=\"text-align: right;\"> 0.0670495  </td><td style=\"text-align: right;\">0.0820749</td><td style=\"text-align: right;\">-0.102736 </td><td style=\"text-align: right;\">-0.0490385</td><td style=\"text-align: right;\">-0.0530871</td><td style=\"text-align: right;\"> 0.0535268 </td><td style=\"text-align: right;\">-0.241955 </td><td style=\"text-align: right;\">-0.163456  </td><td style=\"text-align: right;\">-0.0379765 </td><td style=\"text-align: right;\">-0.0233524</td><td style=\"text-align: right;\">0.106801 </td><td style=\"text-align: right;\"> 0.0516261 </td><td style=\"text-align: right;\">-0.0603754</td><td style=\"text-align: right;\">-0.166209 </td><td style=\"text-align: right;\"> 0.124665  </td><td style=\"text-align: right;\">-0.0640068 </td><td style=\"text-align: right;\"> 0.112077 </td><td style=\"text-align: right;\">0.15655  </td></tr>\n",
       "<tr><td style=\"text-align: right;\">-0.068119   </td><td style=\"text-align: right;\">-0.0776154</td><td style=\"text-align: right;\">-0.0228066 </td><td style=\"text-align: right;\">0.0507505</td><td style=\"text-align: right;\"> 0.154999 </td><td style=\"text-align: right;\">-0.15928  </td><td style=\"text-align: right;\">-0.119292</td><td style=\"text-align: right;\">-0.14387   </td><td style=\"text-align: right;\">-0.245426 </td><td style=\"text-align: right;\"> 0.00925748</td><td style=\"text-align: right;\">-0.110243  </td><td style=\"text-align: right;\">-0.00368111</td><td style=\"text-align: right;\"> 0.0843181 </td><td style=\"text-align: right;\">-0.159784 </td><td style=\"text-align: right;\">-0.172064 </td><td style=\"text-align: right;\">-0.0462664 </td><td style=\"text-align: right;\">-0.00156843</td><td style=\"text-align: right;\">-0.121639   </td><td style=\"text-align: right;\">-0.0440697 </td><td style=\"text-align: right;\"> 0.0315996 </td><td style=\"text-align: right;\"> 0.0494271</td><td style=\"text-align: right;\">-0.0136825 </td><td style=\"text-align: right;\"> 0.00847719</td><td style=\"text-align: right;\">0.255866 </td><td style=\"text-align: right;\"> 0.0345455 </td><td style=\"text-align: right;\">-0.0939176</td><td style=\"text-align: right;\">-0.0857862 </td><td style=\"text-align: right;\">-0.219795</td><td style=\"text-align: right;\"> 0.074325  </td><td style=\"text-align: right;\"> 0.0176011  </td><td style=\"text-align: right;\">-0.193636   </td><td style=\"text-align: right;\"> 0.0878211 </td><td style=\"text-align: right;\"> 0.252889 </td><td style=\"text-align: right;\"> 0.157476  </td><td style=\"text-align: right;\">-0.135627  </td><td style=\"text-align: right;\">-0.11621   </td><td style=\"text-align: right;\"> 0.154235 </td><td style=\"text-align: right;\">-0.169599  </td><td style=\"text-align: right;\">-0.0631181  </td><td style=\"text-align: right;\">-0.112239 </td><td style=\"text-align: right;\"> 0.18853    </td><td style=\"text-align: right;\">-0.136801 </td><td style=\"text-align: right;\">-0.0868879</td><td style=\"text-align: right;\"> 0.0295376  </td><td style=\"text-align: right;\"> 0.0347456  </td><td style=\"text-align: right;\">0.0550836</td><td style=\"text-align: right;\">-0.0177042 </td><td style=\"text-align: right;\">0.130042</td><td style=\"text-align: right;\"> 0.013439 </td><td style=\"text-align: right;\">-0.0782004</td><td style=\"text-align: right;\"> 0.075522 </td><td style=\"text-align: right;\">-0.0619333</td><td style=\"text-align: right;\">-0.0699281</td><td style=\"text-align: right;\">-0.0314723 </td><td style=\"text-align: right;\">-0.0276683</td><td style=\"text-align: right;\">-0.037767 </td><td style=\"text-align: right;\">-0.033437 </td><td style=\"text-align: right;\">-0.0719433 </td><td style=\"text-align: right;\"> 0.00831403</td><td style=\"text-align: right;\">-0.0816753 </td><td style=\"text-align: right;\"> 0.0120306</td><td style=\"text-align: right;\"> 0.0218922 </td><td style=\"text-align: right;\"> 0.0196459 </td><td style=\"text-align: right;\">-0.10525   </td><td style=\"text-align: right;\"> 0.0818921 </td><td style=\"text-align: right;\">0.155533 </td><td style=\"text-align: right;\"> 0.0668998</td><td style=\"text-align: right;\"> 0.104101 </td><td style=\"text-align: right;\">-0.110152  </td><td style=\"text-align: right;\">-0.0937498 </td><td style=\"text-align: right;\">-0.0580351</td><td style=\"text-align: right;\"> 0.123793 </td><td style=\"text-align: right;\">-0.00619252</td><td style=\"text-align: right;\"> 0.125638  </td><td style=\"text-align: right;\"> 0.0930828 </td><td style=\"text-align: right;\">0.16722  </td><td style=\"text-align: right;\">0.103145 </td><td style=\"text-align: right;\"> 0.022968  </td><td style=\"text-align: right;\"> 0.0803574</td><td style=\"text-align: right;\">-0.0384366</td><td style=\"text-align: right;\"> 0.0729055</td><td style=\"text-align: right;\">-0.0689573</td><td style=\"text-align: right;\"> 0.0150864  </td><td style=\"text-align: right;\">0.132723 </td><td style=\"text-align: right;\"> 0.010728 </td><td style=\"text-align: right;\">-0.0396212</td><td style=\"text-align: right;\"> 0.0254319</td><td style=\"text-align: right;\">-0.0956249 </td><td style=\"text-align: right;\">-0.0573645</td><td style=\"text-align: right;\"> 0.0179935 </td><td style=\"text-align: right;\"> 0.0084394 </td><td style=\"text-align: right;\">-0.0101187</td><td style=\"text-align: right;\">0.0272331</td><td style=\"text-align: right;\"> 0.130582  </td><td style=\"text-align: right;\">-0.068123 </td><td style=\"text-align: right;\">-0.120329 </td><td style=\"text-align: right;\">-0.153152  </td><td style=\"text-align: right;\">-0.0516045 </td><td style=\"text-align: right;\">-0.036968 </td><td style=\"text-align: right;\">0.0702834</td></tr>\n",
       "<tr><td style=\"text-align: right;\"> 0.0112714  </td><td style=\"text-align: right;\">-0.266237 </td><td style=\"text-align: right;\"> 0.0371502 </td><td style=\"text-align: right;\">0.167385 </td><td style=\"text-align: right;\"> 0.0160637</td><td style=\"text-align: right;\">-0.0737208</td><td style=\"text-align: right;\">-0.126402</td><td style=\"text-align: right;\">-0.0199785 </td><td style=\"text-align: right;\">-0.0873356</td><td style=\"text-align: right;\">-0.0389556 </td><td style=\"text-align: right;\">-0.0581495 </td><td style=\"text-align: right;\">-0.0073111 </td><td style=\"text-align: right;\">-0.051963  </td><td style=\"text-align: right;\"> 0.0195459</td><td style=\"text-align: right;\">-0.153059 </td><td style=\"text-align: right;\"> 0.0284989 </td><td style=\"text-align: right;\">-0.157659  </td><td style=\"text-align: right;\">-0.0393205  </td><td style=\"text-align: right;\"> 0.123966  </td><td style=\"text-align: right;\">-0.0915841 </td><td style=\"text-align: right;\"> 0.0990513</td><td style=\"text-align: right;\">-0.041637  </td><td style=\"text-align: right;\">-0.0334076 </td><td style=\"text-align: right;\">0.220595 </td><td style=\"text-align: right;\">-0.0104654 </td><td style=\"text-align: right;\">-0.122648 </td><td style=\"text-align: right;\">-0.0937984 </td><td style=\"text-align: right;\">-0.231048</td><td style=\"text-align: right;\"> 0.0340732 </td><td style=\"text-align: right;\">-0.0911437  </td><td style=\"text-align: right;\">-0.00523271 </td><td style=\"text-align: right;\"> 0.0763447 </td><td style=\"text-align: right;\"> 0.102718 </td><td style=\"text-align: right;\"> 0.146022  </td><td style=\"text-align: right;\">-0.0417565 </td><td style=\"text-align: right;\">-0.011516  </td><td style=\"text-align: right;\"> 0.0101551</td><td style=\"text-align: right;\">-0.139831  </td><td style=\"text-align: right;\">-0.00209814 </td><td style=\"text-align: right;\">-0.0788641</td><td style=\"text-align: right;\"> 0.0354518  </td><td style=\"text-align: right;\">-0.0662205</td><td style=\"text-align: right;\"> 0.0031157</td><td style=\"text-align: right;\"> 0.0135471  </td><td style=\"text-align: right;\">-0.0795045  </td><td style=\"text-align: right;\">0.0462285</td><td style=\"text-align: right;\"> 0.0125475 </td><td style=\"text-align: right;\">0.157473</td><td style=\"text-align: right;\"> 0.0670595</td><td style=\"text-align: right;\">-0.0702004</td><td style=\"text-align: right;\">-0.0775543</td><td style=\"text-align: right;\">-0.0788344</td><td style=\"text-align: right;\">-0.120761 </td><td style=\"text-align: right;\"> 0.0373501 </td><td style=\"text-align: right;\">-0.0442381</td><td style=\"text-align: right;\"> 0.156418 </td><td style=\"text-align: right;\">-0.0389037</td><td style=\"text-align: right;\"> 0.00574433</td><td style=\"text-align: right;\"> 0.0135338 </td><td style=\"text-align: right;\"> 0.0672836 </td><td style=\"text-align: right;\">-0.134832 </td><td style=\"text-align: right;\"> 0.156685  </td><td style=\"text-align: right;\">-0.138757  </td><td style=\"text-align: right;\">-0.113302  </td><td style=\"text-align: right;\"> 0.00936979</td><td style=\"text-align: right;\">0.0928975</td><td style=\"text-align: right;\"> 0.0488322</td><td style=\"text-align: right;\"> 0.0949998</td><td style=\"text-align: right;\"> 0.00491608</td><td style=\"text-align: right;\"> 0.00496354</td><td style=\"text-align: right;\">-0.0667228</td><td style=\"text-align: right;\"> 0.127654 </td><td style=\"text-align: right;\"> 0.0790821 </td><td style=\"text-align: right;\">-0.0394297 </td><td style=\"text-align: right;\">-0.0242046 </td><td style=\"text-align: right;\">0.110086 </td><td style=\"text-align: right;\">0.0600443</td><td style=\"text-align: right;\"> 0.0591685 </td><td style=\"text-align: right;\">-0.0138848</td><td style=\"text-align: right;\">-0.0646429</td><td style=\"text-align: right;\">-0.119793 </td><td style=\"text-align: right;\">-0.0969973</td><td style=\"text-align: right;\"> 0.0159684  </td><td style=\"text-align: right;\">0.0916828</td><td style=\"text-align: right;\">-0.123878 </td><td style=\"text-align: right;\">-0.0863252</td><td style=\"text-align: right;\">-0.0586703</td><td style=\"text-align: right;\"> 0.00219429</td><td style=\"text-align: right;\">-0.147392 </td><td style=\"text-align: right;\">-0.0605936 </td><td style=\"text-align: right;\">-0.0365586 </td><td style=\"text-align: right;\">-0.0196231</td><td style=\"text-align: right;\">0.116791 </td><td style=\"text-align: right;\">-0.0437647 </td><td style=\"text-align: right;\">-0.0124425</td><td style=\"text-align: right;\">-0.142073 </td><td style=\"text-align: right;\">-0.0882416 </td><td style=\"text-align: right;\">-0.0247339 </td><td style=\"text-align: right;\"> 0.107013 </td><td style=\"text-align: right;\">0.109638 </td></tr>\n",
       "<tr><td style=\"text-align: right;\">-0.0466794  </td><td style=\"text-align: right;\">-0.154956 </td><td style=\"text-align: right;\">-0.0211504 </td><td style=\"text-align: right;\">0.152835 </td><td style=\"text-align: right;\"> 0.0437251</td><td style=\"text-align: right;\">-0.0804223</td><td style=\"text-align: right;\">-0.155409</td><td style=\"text-align: right;\"> 0.00436627</td><td style=\"text-align: right;\">-0.0806911</td><td style=\"text-align: right;\"> 0.0922225 </td><td style=\"text-align: right;\">-0.00983484</td><td style=\"text-align: right;\">-0.0080375 </td><td style=\"text-align: right;\">-0.0991914 </td><td style=\"text-align: right;\"> 0.0138242</td><td style=\"text-align: right;\">-0.24633  </td><td style=\"text-align: right;\">-0.0457445 </td><td style=\"text-align: right;\">-0.20137   </td><td style=\"text-align: right;\">-0.00955321 </td><td style=\"text-align: right;\"> 0.116257  </td><td style=\"text-align: right;\"> 0.0378143 </td><td style=\"text-align: right;\"> 0.0623849</td><td style=\"text-align: right;\"> 0.00989561</td><td style=\"text-align: right;\">-0.0991239 </td><td style=\"text-align: right;\">0.182433 </td><td style=\"text-align: right;\"> 0.00170055</td><td style=\"text-align: right;\">-0.126804 </td><td style=\"text-align: right;\">-0.00370799</td><td style=\"text-align: right;\">-0.124396</td><td style=\"text-align: right;\"> 0.0254098 </td><td style=\"text-align: right;\"> 0.10141    </td><td style=\"text-align: right;\">-0.0955788  </td><td style=\"text-align: right;\">-0.046437  </td><td style=\"text-align: right;\"> 0.140018 </td><td style=\"text-align: right;\"> 0.0272485 </td><td style=\"text-align: right;\">-0.00325895</td><td style=\"text-align: right;\"> 0.0103197 </td><td style=\"text-align: right;\"> 0.0357637</td><td style=\"text-align: right;\">-0.0900553 </td><td style=\"text-align: right;\"> 0.0733462  </td><td style=\"text-align: right;\">-0.129146 </td><td style=\"text-align: right;\">-0.000805004</td><td style=\"text-align: right;\">-0.0748673</td><td style=\"text-align: right;\"> 0.0439822</td><td style=\"text-align: right;\"> 0.13245    </td><td style=\"text-align: right;\">-0.0598631  </td><td style=\"text-align: right;\">0.0224834</td><td style=\"text-align: right;\"> 0.0340173 </td><td style=\"text-align: right;\">0.158287</td><td style=\"text-align: right;\"> 0.0426805</td><td style=\"text-align: right;\">-0.0485297</td><td style=\"text-align: right;\">-0.0288589</td><td style=\"text-align: right;\">-0.119769 </td><td style=\"text-align: right;\">-0.124838 </td><td style=\"text-align: right;\">-0.00762832</td><td style=\"text-align: right;\">-0.107356 </td><td style=\"text-align: right;\"> 0.21976  </td><td style=\"text-align: right;\"> 0.0241911</td><td style=\"text-align: right;\"> 0.0147388 </td><td style=\"text-align: right;\"> 0.12805   </td><td style=\"text-align: right;\"> 0.0225529 </td><td style=\"text-align: right;\">-0.104899 </td><td style=\"text-align: right;\"> 0.144698  </td><td style=\"text-align: right;\">-0.0544428 </td><td style=\"text-align: right;\"> 0.00811646</td><td style=\"text-align: right;\">-0.0474168 </td><td style=\"text-align: right;\">0.0426789</td><td style=\"text-align: right;\">-0.0137964</td><td style=\"text-align: right;\"> 0.0972832</td><td style=\"text-align: right;\">-0.0122335 </td><td style=\"text-align: right;\">-0.00921839</td><td style=\"text-align: right;\"> 0.0411328</td><td style=\"text-align: right;\"> 0.0999278</td><td style=\"text-align: right;\"> 0.0720815 </td><td style=\"text-align: right;\"> 0.00719463</td><td style=\"text-align: right;\">-0.110652  </td><td style=\"text-align: right;\">0.0534854</td><td style=\"text-align: right;\">0.14274  </td><td style=\"text-align: right;\"> 0.00835808</td><td style=\"text-align: right;\"> 0.0951608</td><td style=\"text-align: right;\">-0.0229549</td><td style=\"text-align: right;\">-0.0597708</td><td style=\"text-align: right;\"> 0.0414625</td><td style=\"text-align: right;\"> 0.0974094  </td><td style=\"text-align: right;\">0.298529 </td><td style=\"text-align: right;\">-0.0731011</td><td style=\"text-align: right;\">-0.110647 </td><td style=\"text-align: right;\">-0.113252 </td><td style=\"text-align: right;\">-0.00370838</td><td style=\"text-align: right;\">-0.125118 </td><td style=\"text-align: right;\">-0.00126505</td><td style=\"text-align: right;\">-0.105843  </td><td style=\"text-align: right;\"> 0.0254402</td><td style=\"text-align: right;\">0.069088 </td><td style=\"text-align: right;\"> 0.0740297 </td><td style=\"text-align: right;\"> 0.0915848</td><td style=\"text-align: right;\">-0.131586 </td><td style=\"text-align: right;\"> 0.0192003 </td><td style=\"text-align: right;\">-0.0480774 </td><td style=\"text-align: right;\"> 0.0644587</td><td style=\"text-align: right;\">0.12777  </td></tr>\n",
       "<tr><td style=\"text-align: right;\"> 0.201689   </td><td style=\"text-align: right;\">-0.132224 </td><td style=\"text-align: right;\"> 0.16247   </td><td style=\"text-align: right;\">0.219571 </td><td style=\"text-align: right;\">-0.243014 </td><td style=\"text-align: right;\"> 0.0453828</td><td style=\"text-align: right;\">-0.292501</td><td style=\"text-align: right;\">-0.0181481 </td><td style=\"text-align: right;\">-0.246505 </td><td style=\"text-align: right;\"> 0.0542181 </td><td style=\"text-align: right;\">-0.013855  </td><td style=\"text-align: right;\"> 0.148134  </td><td style=\"text-align: right;\">-0.272333  </td><td style=\"text-align: right;\"> 0.271482 </td><td style=\"text-align: right;\">-0.134787 </td><td style=\"text-align: right;\">-0.13357   </td><td style=\"text-align: right;\">-0.145316  </td><td style=\"text-align: right;\"> 0.117836   </td><td style=\"text-align: right;\"> 0.384187  </td><td style=\"text-align: right;\"> 0.152924  </td><td style=\"text-align: right;\"> 0.1416   </td><td style=\"text-align: right;\"> 0.269712  </td><td style=\"text-align: right;\"> 0.00386481</td><td style=\"text-align: right;\">0.363439 </td><td style=\"text-align: right;\"> 0.219593  </td><td style=\"text-align: right;\">-0.0193655</td><td style=\"text-align: right;\">-0.173641  </td><td style=\"text-align: right;\">-0.220838</td><td style=\"text-align: right;\">-0.072858  </td><td style=\"text-align: right;\"> 0.0537837  </td><td style=\"text-align: right;\">-0.132123   </td><td style=\"text-align: right;\"> 0.0379583 </td><td style=\"text-align: right;\"> 0.275792 </td><td style=\"text-align: right;\"> 0.167356  </td><td style=\"text-align: right;\">-0.140671  </td><td style=\"text-align: right;\">-0.0343174 </td><td style=\"text-align: right;\">-0.0165117</td><td style=\"text-align: right;\">-0.194452  </td><td style=\"text-align: right;\"> 0.00880067 </td><td style=\"text-align: right;\">-0.140227 </td><td style=\"text-align: right;\">-0.164558   </td><td style=\"text-align: right;\">-0.161705 </td><td style=\"text-align: right;\">-0.0161959</td><td style=\"text-align: right;\">-0.169586   </td><td style=\"text-align: right;\">-0.278394   </td><td style=\"text-align: right;\">0.180645 </td><td style=\"text-align: right;\">-0.194264  </td><td style=\"text-align: right;\">0.157372</td><td style=\"text-align: right;\"> 0.16573  </td><td style=\"text-align: right;\">-0.123734 </td><td style=\"text-align: right;\">-0.125457 </td><td style=\"text-align: right;\">-0.0515124</td><td style=\"text-align: right;\">-0.171232 </td><td style=\"text-align: right;\"> 0.0544294 </td><td style=\"text-align: right;\">-0.0205379</td><td style=\"text-align: right;\"> 0.0610344</td><td style=\"text-align: right;\"> 0.16044  </td><td style=\"text-align: right;\"> 0.0201712 </td><td style=\"text-align: right;\">-0.0797561 </td><td style=\"text-align: right;\">-0.302529  </td><td style=\"text-align: right;\"> 0.237782 </td><td style=\"text-align: right;\"> 0.248566  </td><td style=\"text-align: right;\"> 0.0145206 </td><td style=\"text-align: right;\"> 0.164716  </td><td style=\"text-align: right;\">-0.00446796</td><td style=\"text-align: right;\">0.0975003</td><td style=\"text-align: right;\"> 0.0658215</td><td style=\"text-align: right;\"> 0.151987 </td><td style=\"text-align: right;\"> 0.211716  </td><td style=\"text-align: right;\"> 0.267733  </td><td style=\"text-align: right;\"> 0.121348 </td><td style=\"text-align: right;\">-0.126495 </td><td style=\"text-align: right;\">-0.159015  </td><td style=\"text-align: right;\"> 0.0866187 </td><td style=\"text-align: right;\">-0.0827354 </td><td style=\"text-align: right;\">0.0897146</td><td style=\"text-align: right;\">0.184646 </td><td style=\"text-align: right;\">-0.0953898 </td><td style=\"text-align: right;\"> 0.179481 </td><td style=\"text-align: right;\">-0.210269 </td><td style=\"text-align: right;\">-0.178536 </td><td style=\"text-align: right;\">-0.117314 </td><td style=\"text-align: right;\">-0.0527183  </td><td style=\"text-align: right;\">0.276671 </td><td style=\"text-align: right;\">-0.404156 </td><td style=\"text-align: right;\">-0.21025  </td><td style=\"text-align: right;\">-0.107361 </td><td style=\"text-align: right;\">-0.165594  </td><td style=\"text-align: right;\">-0.141497 </td><td style=\"text-align: right;\"> 0.0676361 </td><td style=\"text-align: right;\"> 0.163259  </td><td style=\"text-align: right;\">-0.129924 </td><td style=\"text-align: right;\">0.204267 </td><td style=\"text-align: right;\">-0.00578968</td><td style=\"text-align: right;\">-0.107101 </td><td style=\"text-align: right;\"> 0.042773 </td><td style=\"text-align: right;\"> 0.219131  </td><td style=\"text-align: right;\">-0.0657193 </td><td style=\"text-align: right;\"> 0.4076   </td><td style=\"text-align: right;\">0.12046  </td></tr>\n",
       "</tbody>\n",
       "</table>"
      ]
     },
     "metadata": {},
     "output_type": "display_data"
    },
    {
     "data": {
      "text/plain": []
     },
     "execution_count": 387,
     "metadata": {},
     "output_type": "execute_result"
    }
   ],
   "source": [
    "review_vecs"
   ]
  },
  {
   "cell_type": "code",
   "execution_count": 388,
   "metadata": {},
   "outputs": [],
   "source": [
    "# Add aggregated word embeddings \n",
    "ext_reviews = reviews.cbind(review_vecs)"
   ]
  },
  {
   "cell_type": "code",
   "execution_count": 389,
   "metadata": {},
   "outputs": [],
   "source": [
    "ext_train = ext_reviews[ext_reviews[\"Train\"] == \"Yes\"]\n",
    "ext_test = ext_reviews[ext_reviews[\"Train\"] == \"No\"]"
   ]
  },
  {
   "cell_type": "code",
   "execution_count": 390,
   "metadata": {},
   "outputs": [
    {
     "name": "stdout",
     "output_type": "stream",
     "text": [
      "gbm Model Build progress: |███████████████████████████████████████████████| 100%\n"
     ]
    }
   ],
   "source": [
    "predictors = predictors + review_vecs.names\n",
    "response = 'PositiveReview'\n",
    "\n",
    "gbm_embeddings = H2OGradientBoostingEstimator(stopping_metric = \"AUC\", stopping_tolerance = 0.001,\n",
    "                                              stopping_rounds = 5, score_tree_interval = 10,\n",
    "                                              model_id = \"gbm_embeddings.hex\", ntrees = 1000,\n",
    "                                             )\n",
    "gbm_embeddings.train(x = predictors, y = response, \n",
    "                   training_frame = ext_train, validation_frame = ext_test\n",
    "                  )"
   ]
  },
  {
   "cell_type": "code",
   "execution_count": 391,
   "metadata": {},
   "outputs": [
    {
     "name": "stdout",
     "output_type": "stream",
     "text": [
      "Baseline AUC: 0.616\n",
      "With Embeddings AUC: 0.897\n"
     ]
    }
   ],
   "source": [
    "print(\"Baseline AUC: \" + str(round(gbm_baseline.auc(valid = True), 3)))\n",
    "print(\"With Embeddings AUC: \" + str(round(gbm_embeddings.auc(valid = True), 3)))"
   ]
  },
  {
   "cell_type": "code",
   "execution_count": 392,
   "metadata": {},
   "outputs": [
    {
     "name": "stdout",
     "output_type": "stream",
     "text": [
      "Confusion Matrix (Act/Pred) for max f1 @ threshold = 0.5422499277530589: \n"
     ]
    },
    {
     "data": {
      "text/html": [
       "<div style=\"overflow:auto\"><table style=\"width:50%\"><tr><td><b></b></td>\n",
       "<td><b>0</b></td>\n",
       "<td><b>1</b></td>\n",
       "<td><b>Error</b></td>\n",
       "<td><b>Rate</b></td></tr>\n",
       "<tr><td>0</td>\n",
       "<td>2545.0</td>\n",
       "<td>2115.0</td>\n",
       "<td>0.4539</td>\n",
       "<td> (2115.0/4660.0)</td></tr>\n",
       "<tr><td>1</td>\n",
       "<td>770.0</td>\n",
       "<td>14578.0</td>\n",
       "<td>0.0502</td>\n",
       "<td> (770.0/15348.0)</td></tr>\n",
       "<tr><td>Total</td>\n",
       "<td>3315.0</td>\n",
       "<td>16693.0</td>\n",
       "<td>0.1442</td>\n",
       "<td> (2885.0/20008.0)</td></tr></table></div>"
      ],
      "text/plain": [
       "       0     1      Error    Rate\n",
       "-----  ----  -----  -------  ----------------\n",
       "0      2545  2115   0.4539   (2115.0/4660.0)\n",
       "1      770   14578  0.0502   (770.0/15348.0)\n",
       "Total  3315  16693  0.1442   (2885.0/20008.0)"
      ]
     },
     "metadata": {},
     "output_type": "display_data"
    },
    {
     "data": {
      "text/plain": []
     },
     "execution_count": 392,
     "metadata": {},
     "output_type": "execute_result"
    }
   ],
   "source": [
    "gbm_embeddings.confusion_matrix(valid = True)"
   ]
  },
  {
   "cell_type": "code",
   "execution_count": 393,
   "metadata": {},
   "outputs": [
    {
     "data": {
      "image/png": "[encoded data removed]",
      "text/plain": [
       "<Figure size 1008x720 with 1 Axes>"
      ]
     },
     "metadata": {
      "needs_background": "light"
     },
     "output_type": "display_data"
    }
   ],
   "source": [
    "gbm_embeddings.varimp_plot()"
   ]
  },
  {
   "cell_type": "markdown",
   "metadata": {},
   "source": [
    "Train a simpler GLM model using important word2vec features of the GBM model to generate interactions"
   ]
  },
  {
   "cell_type": "code",
   "execution_count": 394,
   "metadata": {
    "scrolled": true
   },
   "outputs": [
    {
     "data": {
      "text/plain": [
       "['C22', 'C40', 'C89', 'C9', 'C32', 'C61', 'C84', 'C48', 'C47']"
      ]
     },
     "execution_count": 394,
     "metadata": {},
     "output_type": "execute_result"
    }
   ],
   "source": [
    "top_w2v_features = list(filter(lambda x: x.startswith('C'), map(lambda x: x[0], gbm_embeddings.varimp())))[1:10]\n",
    "top_w2v_features"
   ]
  },
  {
   "cell_type": "code",
   "execution_count": 395,
   "metadata": {},
   "outputs": [
    {
     "name": "stdout",
     "output_type": "stream",
     "text": [
      "glm Model Build progress: |███████████████████████████████████████████████| 100%\n"
     ]
    }
   ],
   "source": [
    "from h2o.estimators import H2OGeneralizedLinearEstimator\n",
    "\n",
    "glm_predictors = [\"HelpfulnessNumerator\", \"HelpfulnessDenominator\"] + review_vecs.names\n",
    "\n",
    "glm_embeddings = H2OGeneralizedLinearEstimator(model_id = \"glm_embeddings.hex\", interactions = top_w2v_features,\n",
    "                                               family = \"binomial\"\n",
    "                                              )\n",
    "glm_embeddings.train(x = glm_predictors, y = response,\n",
    "                     training_frame = ext_train, validation_frame = ext_test\n",
    "                    )"
   ]
  },
  {
   "cell_type": "code",
   "execution_count": 396,
   "metadata": {},
   "outputs": [
    {
     "name": "stdout",
     "output_type": "stream",
     "text": [
      "Baseline AUC: 0.616\n",
      "With Embeddings AUC (GBM): 0.897\n",
      "With Embeddings AUC (GLM): 0.901\n"
     ]
    }
   ],
   "source": [
    "print(\"Baseline AUC: \" + str(round(gbm_baseline.auc(valid = True), 3)))\n",
    "print(\"With Embeddings AUC (GBM): \" + str(round(gbm_embeddings.auc(valid = True), 3)))\n",
    "print(\"With Embeddings AUC (GLM): \" + str(round(glm_embeddings.auc(valid = True), 3)))"
   ]
  },
  {
   "cell_type": "code",
   "execution_count": 397,
   "metadata": {},
   "outputs": [
    {
     "name": "stdout",
     "output_type": "stream",
     "text": [
      "Confusion Matrix (Act/Pred) for max f1 @ threshold = 0.5382286787797593: \n"
     ]
    },
    {
     "data": {
      "text/html": [
       "<div style=\"overflow:auto\"><table style=\"width:50%\"><tr><td><b></b></td>\n",
       "<td><b>0</b></td>\n",
       "<td><b>1</b></td>\n",
       "<td><b>Error</b></td>\n",
       "<td><b>Rate</b></td></tr>\n",
       "<tr><td>0</td>\n",
       "<td>2671.0</td>\n",
       "<td>1989.0</td>\n",
       "<td>0.4268</td>\n",
       "<td> (1989.0/4660.0)</td></tr>\n",
       "<tr><td>1</td>\n",
       "<td>826.0</td>\n",
       "<td>14522.0</td>\n",
       "<td>0.0538</td>\n",
       "<td> (826.0/15348.0)</td></tr>\n",
       "<tr><td>Total</td>\n",
       "<td>3497.0</td>\n",
       "<td>16511.0</td>\n",
       "<td>0.1407</td>\n",
       "<td> (2815.0/20008.0)</td></tr></table></div>"
      ],
      "text/plain": [
       "       0     1      Error    Rate\n",
       "-----  ----  -----  -------  ----------------\n",
       "0      2671  1989   0.4268   (1989.0/4660.0)\n",
       "1      826   14522  0.0538   (826.0/15348.0)\n",
       "Total  3497  16511  0.1407   (2815.0/20008.0)"
      ]
     },
     "metadata": {},
     "output_type": "display_data"
    },
    {
     "data": {
      "text/plain": []
     },
     "execution_count": 397,
     "metadata": {},
     "output_type": "execute_result"
    }
   ],
   "source": [
    "glm_embeddings.confusion_matrix(valid = True)"
   ]
  },
  {
   "cell_type": "markdown",
   "metadata": {
    "collapsed": true
   },
   "source": [
    "# Step 8 (of 10).  Run AutoML\n",
    "\n",
    "We will use H2O's AutoML to see if we can improve the performance further by exploring the algorithm and parameter space. "
   ]
  },
  {
   "cell_type": "code",
   "execution_count": 398,
   "metadata": {},
   "outputs": [
    {
     "name": "stdout",
     "output_type": "stream",
     "text": [
      "AutoML progress: |████████████████████████████████████████████████████████| 100%\n"
     ]
    }
   ],
   "source": [
    "from h2o.automl import H2OAutoML\n",
    "\n",
    "automl = H2OAutoML(project_name = \"positive_reviews\", max_runtime_secs = 180, \n",
    "                   keep_cross_validation_models = False, keep_cross_validation_predictions = False,\n",
    "                   nfolds = 3, exclude_algos = [\"DRF\"], seed = 1234)\n",
    "automl.train(x = predictors, y = response, training_frame = ext_train, leaderboard_frame = ext_test)"
   ]
  },
  {
   "cell_type": "code",
   "execution_count": 399,
   "metadata": {},
   "outputs": [
    {
     "data": {
      "text/html": [
       "<table>\n",
       "<thead>\n",
       "<tr><th>model_id                                 </th><th style=\"text-align: right;\">    auc</th><th style=\"text-align: right;\">  logloss</th><th style=\"text-align: right;\">  mean_per_class_error</th><th style=\"text-align: right;\">    rmse</th><th style=\"text-align: right;\">     mse</th></tr>\n",
       "</thead>\n",
       "<tbody>\n",
       "<tr><td>GLM_grid_1_AutoML_20190201_223021_model_1</td><td style=\"text-align: right;\">0.89691</td><td style=\"text-align: right;\"> 0.333024</td><td style=\"text-align: right;\">                 0.267</td><td style=\"text-align: right;\">0.321485</td><td style=\"text-align: right;\">0.103352</td></tr>\n",
       "</tbody>\n",
       "</table>"
      ]
     },
     "metadata": {},
     "output_type": "display_data"
    },
    {
     "data": {
      "text/plain": []
     },
     "execution_count": 399,
     "metadata": {},
     "output_type": "execute_result"
    }
   ],
   "source": [
    "automl.leaderboard"
   ]
  },
  {
   "cell_type": "markdown",
   "metadata": {},
   "source": [
    "# Step 9 (of 10). Watch AutoML progress (in the H2O Flow Web UI)¶\n",
    "\n",
    "* Go to port 54321\n",
    "* In H2O Flow, go to Admin -> Jobs\n",
    "* Click on the \"Auto Model\" job with the \"positive_reviews\" job name and explore it"
   ]
  },
  {
   "cell_type": "markdown",
   "metadata": {
    "collapsed": true
   },
   "source": [
    "# Step 10 (of 10).  Shutdown the H2O Cluster"
   ]
  },
  {
   "cell_type": "code",
   "execution_count": 400,
   "metadata": {},
   "outputs": [
    {
     "name": "stdout",
     "output_type": "stream",
     "text": [
      "H2O session _sid_97a2 closed.\n"
     ]
    }
   ],
   "source": [
    "h2o.cluster().shutdown()"
   ]
  },
  {
   "cell_type": "markdown",
   "metadata": {},
   "source": [
    "# Bonus: Github location for this tutorial\n",
    "\n",
    "* https://github.com/h2oai/h2o-tutorials/tree/master/training/h2o_3_hands_on/nlp"
   ]
  },
  {
   "cell_type": "code",
   "execution_count": null,
   "metadata": {},
   "outputs": [],
   "source": []
  }
 ],
 "metadata": {
  "kernelspec": {
   "display_name": "Python 3",
   "language": "python",
   "name": "python3"
  },
  "language_info": {
   "codemirror_mode": {
    "name": "ipython",
    "version": 3
   },
   "file_extension": ".py",
   "mimetype": "text/x-python",
   "name": "python",
   "nbconvert_exporter": "python",
   "pygments_lexer": "ipython3",
   "version": "3.6.7"
  }
 },
 "nbformat": 4,
 "nbformat_minor": 2
}
