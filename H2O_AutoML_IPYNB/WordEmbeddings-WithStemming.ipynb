{
 "cells": [
  {
   "cell_type": "markdown",
   "metadata": {},
   "source": [
    "# Predicting Good Amazon Reviews\n",
    "\n",
    "For this demo, we will be using the [Amazon Fine Food Reviews Data](https://www.kaggle.com/snap/amazon-fine-food-reviews).  The Amazon Fine Food Reviews dataset consists of 568,454 food reviews Amazon users left up to October 2012.\n",
    "\n",
    "This script is based off of the [Craigslist Word2Vec Demo](https://github.com/h2oai/h2o-3/blob/master/h2o-py/demos/word2vec_craigslistjobtitles.ipynb).\n",
    "\n",
    "Our Machine Learning Workflow is: \n",
    "\n",
    "1. Import data into H2O\n",
    "2. Exploratory Analysis\n",
    "3. Tokenize Text\n",
    "4. Perform stemming\n",
    "5. Train Word2Vec Model\n",
    "6. Analyze Word Embeddings\n",
    "7. Train Positive Review Model with Original Data\n",
    "8. Train Positive Review Model with Word Embeddings\n",
    "9. Run AutoML\n",
    "10. View AutoML in Flow\n",
    "11. Shutdown H2O cluster\n",
    "\n",
    "# Step 1 (of 11).  Import data into H2O\n",
    "\n",
    "We will begin by starting the Sparkling Water cluster and importing our review data into our H2O cluster."
   ]
  },
  {
   "cell_type": "code",
   "execution_count": 1,
   "metadata": {
    "collapsed": false
   },
   "outputs": [
    {
     "name": "stdout",
     "output_type": "stream",
     "text": [
      "Connecting to H2O server at http://172.16.2.47:54321... successful.\n"
     ]
    },
    {
     "data": {
      "text/html": [
       "<div style=\"overflow:auto\"><table style=\"width:50%\"><tr><td>H2O cluster uptime:</td>\n",
       "<td>06 secs</td></tr>\n",
       "<tr><td>H2O cluster timezone:</td>\n",
       "<td>America/Los_Angeles</td></tr>\n",
       "<tr><td>H2O data parsing timezone:</td>\n",
       "<td>UTC</td></tr>\n",
       "<tr><td>H2O cluster version:</td>\n",
       "<td>3.20.0.2</td></tr>\n",
       "<tr><td>H2O cluster version age:</td>\n",
       "<td>1 month and 7 days </td></tr>\n",
       "<tr><td>H2O cluster name:</td>\n",
       "<td>sparkling-water-megankurka_local-1532377508251</td></tr>\n",
       "<tr><td>H2O cluster total nodes:</td>\n",
       "<td>1</td></tr>\n",
       "<tr><td>H2O cluster free memory:</td>\n",
       "<td>3.492 Gb</td></tr>\n",
       "<tr><td>H2O cluster total cores:</td>\n",
       "<td>8</td></tr>\n",
       "<tr><td>H2O cluster allowed cores:</td>\n",
       "<td>8</td></tr>\n",
       "<tr><td>H2O cluster status:</td>\n",
       "<td>accepting new members, healthy</td></tr>\n",
       "<tr><td>H2O connection url:</td>\n",
       "<td>http://172.16.2.47:54321</td></tr>\n",
       "<tr><td>H2O connection proxy:</td>\n",
       "<td>None</td></tr>\n",
       "<tr><td>H2O internal security:</td>\n",
       "<td>False</td></tr>\n",
       "<tr><td>H2O API Extensions:</td>\n",
       "<td>XGBoost, Algos, AutoML, Core V3, Core V4</td></tr>\n",
       "<tr><td>Python version:</td>\n",
       "<td>3.6.0 final</td></tr></table></div>"
      ],
      "text/plain": [
       "--------------------------  ----------------------------------------------\n",
       "H2O cluster uptime:         06 secs\n",
       "H2O cluster timezone:       America/Los_Angeles\n",
       "H2O data parsing timezone:  UTC\n",
       "H2O cluster version:        3.20.0.2\n",
       "H2O cluster version age:    1 month and 7 days\n",
       "H2O cluster name:           sparkling-water-megankurka_local-1532377508251\n",
       "H2O cluster total nodes:    1\n",
       "H2O cluster free memory:    3.492 Gb\n",
       "H2O cluster total cores:    8\n",
       "H2O cluster allowed cores:  8\n",
       "H2O cluster status:         accepting new members, healthy\n",
       "H2O connection url:         http://172.16.2.47:54321\n",
       "H2O connection proxy:\n",
       "H2O internal security:      False\n",
       "H2O API Extensions:         XGBoost, Algos, AutoML, Core V3, Core V4\n",
       "Python version:             3.6.0 final\n",
       "--------------------------  ----------------------------------------------"
      ]
     },
     "metadata": {},
     "output_type": "display_data"
    },
    {
     "name": "stdout",
     "output_type": "stream",
     "text": [
      "\n",
      "Sparkling Water Context:\n",
      " * H2O name: sparkling-water-megankurka_local-1532377508251\n",
      " * cluster size: 1\n",
      " * list of used nodes:\n",
      "  (executorId, host, port)\n",
      "  ------------------------\n",
      "  (driver,megans-mbp-1068.0xdata.loc,54321)\n",
      "  ------------------------\n",
      "\n",
      "  Open H2O Flow in browser: http://172.16.2.47:54321 (CMD + click in Mac OSX)\n",
      "\n",
      "    \n"
     ]
    }
   ],
   "source": [
    "#Initiate H2OContext on top of Spark\n",
    "from pysparkling import *\n",
    "hc = H2OContext.getOrCreate(spark)"
   ]
  },
  {
   "cell_type": "code",
   "execution_count": 2,
   "metadata": {
    "collapsed": false
   },
   "outputs": [
    {
     "name": "stdout",
     "output_type": "stream",
     "text": [
      "Parse progress: |█████████████████████████████████████████████████████████| 100%\n"
     ]
    }
   ],
   "source": [
    "import h2o\n",
    "\n",
    "reviews = h2o.import_file(\"https://s3-us-west-2.amazonaws.com/h2o-tutorials/data/topics/nlp/amazon_reviews/AmazonReviews.csv\")"
   ]
  },
  {
   "cell_type": "markdown",
   "metadata": {},
   "source": [
    "# Step 2 (of 11).  Exploratory Analysis\n",
    "\n",
    "We will start our analysis by exploring the dataset and creating our target column.  In this case, we would like to predict whether or not a reviewer liked the product."
   ]
  },
  {
   "cell_type": "code",
   "execution_count": 3,
   "metadata": {
    "collapsed": false
   },
   "outputs": [
    {
     "data": {
      "text/plain": [
       "[100000, 10]"
      ]
     },
     "execution_count": 3,
     "metadata": {},
     "output_type": "execute_result"
    }
   ],
   "source": [
    "reviews.dim"
   ]
  },
  {
   "cell_type": "code",
   "execution_count": 4,
   "metadata": {
    "collapsed": false
   },
   "outputs": [
    {
     "data": {
      "text/html": [
       "<table>\n",
       "<thead>\n",
       "<tr><th>ProductId  </th><th>UserId        </th><th>Summary                               </th><th style=\"text-align: right;\">  Score</th><th style=\"text-align: right;\">  HelpfulnessDenominator</th><th style=\"text-align: right;\">    Id</th><th>ProfileName                                      </th><th style=\"text-align: right;\">  HelpfulnessNumerator</th><th style=\"text-align: right;\">       Time</th><th>Text                                                                                                                                                                                                                                                                                                                                                                                                                                                                                                                                                                                                                                                                                                                                                                                                                                                                                                                                                                                                                                                                                                                                                                                                                                                                                                                                                                                                                                                                                                                                                                                                                                                                                                                                                                                                                                                                                                                                                                                                                                                                                                                                                                                                                                                                                                                                                                                                                                                                                                                                                                                                                                                                                                                                                                                                                                                                                                                                                                                                                                                                                                                                                                                                                                                                </th></tr>\n",
       "</thead>\n",
       "<tbody>\n",
       "<tr><td>B00141QYSQ </td><td>A1YS02UZZGRDCT</td><td>Do Not Buy                            </td><td style=\"text-align: right;\">      1</td><td style=\"text-align: right;\">                       2</td><td style=\"text-align: right;\"> 41471</td><td>Evan Eberhardt                                   </td><td style=\"text-align: right;\">                     2</td><td style=\"text-align: right;\">1.34836e+09</td><td>These are made in China (do not buy ANY pet food from China).  Dogswell has been using propylene glycol to soften their treats (what are they thinkng?).  Do not purchase or support this company in any way until they clean up their act.  And for whatever reason Amazon doesn't allow returns of this item, so I had to toss mine out.  Bad business all around on this one.                                                                                                                                                                                                                                                                                                                                                                                                                                                                                                                                                                                                                                                                                                                                                                                                                                                                                                                                                                                                                                                                                                                                                                                                                                                                                                                                                                                                                                                                                                                                                                                                                                                                                                                                                                                                                                                                                                                                                                                                                                                                                                                                                                                                                                                                                                                                                                                                                                                                                                                                                                                                                                                                                                                                                                                                                                                                                    </td></tr>\n",
       "<tr><td>B0089SPEO2 </td><td>A3JOYNYL458QHP</td><td>Less lemon and less zing              </td><td style=\"text-align: right;\">      3</td><td style=\"text-align: right;\">                       0</td><td style=\"text-align: right;\"> 28582</td><td>coleridge                                        </td><td style=\"text-align: right;\">                     0</td><td style=\"text-align: right;\">1.32391e+09</td><td>Everything is ok, except it just isn't as good as it is in the bags.  Just considerably more bland -- less lemon and less zing.  Boring.                                                                                                                                                                                                                                                                                                                                                                                                                                                                                                                                                                                                                                                                                                                                                                                                                                                                                                                                                                                                                                                                                                                                                                                                                                                                                                                                                                                                                                                                                                                                                                                                                                                                                                                                                                                                                                                                                                                                                                                                                                                                                                                                                                                                                                                                                                                                                                                                                                                                                                                                                                                                                                                                                                                                                                                                                                                                                                                                                                                                                                                                                                                            </td></tr>\n",
       "<tr><td>B001PMCDK2 </td><td>A14TTMM0Z03Y2W</td><td>my cat goes crazy for these!          </td><td style=\"text-align: right;\">      5</td><td style=\"text-align: right;\">                       0</td><td style=\"text-align: right;\">389965</td><td>Lindsay S. Bradford                              </td><td style=\"text-align: right;\">                     0</td><td style=\"text-align: right;\">1.3106e+09 </td><td>Best cat treat ever. There isn't anything comparable to the love my cat has for these treats, he snubs away any other kind now.<br />I know he likes to manipulate me with his cattiness but these treats are my way of manipulating him to come sit on my lap and have some chill time. :)                                                                                                                                                                                                                                                                                                                                                                                                                                                                                                                                                                                                                                                                                                                                                                                                                                                                                                                                                                                                                                                                                                                                                                                                                                                                                                                                                                                                                                                                                                                                                                                                                                                                                                                                                                                                                                                                                                                                                                                                                                                                                                                                                                                                                                                                                                                                                                                                                                                                                                                                                                                                                                                                                                                                                                                                                                                                                                                                                                         </td></tr>\n",
       "<tr><td>B002Q8JOSI </td><td>A17UQD2RSSQH5X</td><td>My dogs tell me these treats are YUMMY</td><td style=\"text-align: right;\">      5</td><td style=\"text-align: right;\">                       1</td><td style=\"text-align: right;\">212536</td><td>in the dark                                      </td><td style=\"text-align: right;\">                     1</td><td style=\"text-align: right;\">1.31613e+09</td><td>My two Corgis were thoroughly spoiled by my late husband (I spent a year and a half dieting them down a combined total of 25 pounds!)<br /><br />They are accustomed to the finest of fare, and they absolutely love the Wellness brand of treats.                                                                                                                                                                                                                                                                                                                                                                                                                                                                                                                                                                                                                                                                                                                                                                                                                                                                                                                                                                                                                                                                                                                                                                                                                                                                                                                                                                                                                                                                                                                                                                                                                                                                                                                                                                                                                                                                                                                                                                                                                                                                                                                                                                                                                                                                                                                                                                                                                                                                                                                                                                                                                                                                                                                                                                                                                                                                                                                                                                                                                  </td></tr>\n",
       "<tr><td>B00176G870 </td><td>A2F2MZW8EOGH5J</td><td>Yummy to the tummy                    </td><td style=\"text-align: right;\">      5</td><td style=\"text-align: right;\">                       0</td><td style=\"text-align: right;\">115971</td><td>daemoncycler \"\"When you arrive at a fork in th...</td><td style=\"text-align: right;\">                     0</td><td style=\"text-align: right;\">1.33479e+09</td><td>We used to have drive down to the specialty pet food store for this product.  So glad we discovered Amazon.  As far as I can tell it is no more expensive & in some cases less - Prime membership is awesome.  Loving Pets treats are some of the best according to my dog.  They do not develop that nasty smell like some dog treats do.                                                                                                                                                                                                                                                                                                                                                                                                                                                                                                                                                                                                                                                                                                                                                                                                                                                                                                                                                                                                                                                                                                                                                                                                                                                                                                                                                                                                                                                                                                                                                                                                                                                                                                                                                                                                                                                                                                                                                                                                                                                                                                                                                                                                                                                                                                                                                                                                                                                                                                                                                                                                                                                                                                                                                                                                                                                                                                                          </td></tr>\n",
       "<tr><td>B001CHFUGY </td><td>A2M8VROSDPU4JT</td><td>Very good coffee                      </td><td style=\"text-align: right;\">      5</td><td style=\"text-align: right;\">                       1</td><td style=\"text-align: right;\">434484</td><td>Officefan \"\"Officefankt\"\"                        </td><td style=\"text-align: right;\">                     1</td><td style=\"text-align: right;\">1.27725e+09</td><td>I really liked this coffee, it was just as good as everyone claimed it was.  Strong, bold and flavorful!  I would recommend!                                                                                                                                                                                                                                                                                                                                                                                                                                                                                                                                                                                                                                                                                                                                                                                                                                                                                                                                                                                                                                                                                                                                                                                                                                                                                                                                                                                                                                                                                                                                                                                                                                                                                                                                                                                                                                                                                                                                                                                                                                                                                                                                                                                                                                                                                                                                                                                                                                                                                                                                                                                                                                                                                                                                                                                                                                                                                                                                                                                                                                                                                                                                        </td></tr>\n",
       "<tr><td>B0041CIR62 </td><td>A16I6WJUEBJ1C3</td><td>okay but not as healthy as it appears </td><td style=\"text-align: right;\">      2</td><td style=\"text-align: right;\">                       1</td><td style=\"text-align: right;\">138997</td><td>doctorsirena \"\"doctorsirena\"\"                    </td><td style=\"text-align: right;\">                     1</td><td style=\"text-align: right;\">1.34369e+09</td><td>I am always looking for healthier, whole grain versions of foods I enjoy.  Unfortunately, these Peacock brand noodles are yet another food masquerading as healthy.  The product title in big letters on the front says \"\"Brown Rice Vermicelli\"\", making the consumer think \"\"this is made with brown rice, so it should be a healthy choice\"\".  But the first indication that it is not is when looking at the fiber content on the nutrition facts - only 0.6g per 2oz serving.  Then onto the ingredients list to see why so low... contains brown rice, sago starch and water.  The sago starch comes from palms and must not have much (if any) fiber.<br /><br />The Annie Chun's Maifun Brown Rice Noodles (sold on Amazon and in my local healthy grocer) has become one of my staples and is my frame of reference when comparing to the Peacock brand.  The Annie Chun's product is made with 100% whole grain, with ingredients brown rice flour and water.  Per 2oz serving, it has 4g fiber and pretty much the same calories and other nutrients as the Peacock brand.<br /><br />If you do try this Peacock brand noodles and have not used rice noodles before, you will need to seek guidance elsewhere on preparation.  As others have pointed out, the Peacock package gives almost no directions on how to prepare the product, aside from a brief mention in the recipes (in the header text it does say that they are \"\"easy-to-cook\"\" but does not say how).  It also contains a very strange recipe for rice noodles: Aglio Olio style - this is an Italian recipe for noodles with olive oil/garlic/sprinkled with grated cheese that I think would not be very tasty.  The second recipe appears to be for a soup with veggie strips.  Neither recipe gives amounts or much direction.  In comparison, the Annie Chun's package gives clear, specific directions on rice noodle preparation and two recipes.<br /><br />I use rice noodles = maifun = rice sticks = sometimes called vermicelli for making the Vietnamese salad \"\"bun tofu\"\", to serve with stir-fried veggies or in lettuce rolls.  They can also be used in spring rolls/egg rolls.  When cooking with thin rice noodles, be careful not to oversoak/overcook/overmix or they tend to disintegrate.  Asian rice noodle vermicelli (maifun) are not the same as Italian vermicelli and are not readily interchangeable.  If making an Italian recipe, the best results would be expected from Italian pasta and not maifun.<br /><br />A few final notes...  Both Peacock and Annie Chun's brown rice noodles are gluten free.  The Peacock is made in Singapore and the Annie Chun's in Thailand.  The Peacock noodles do taste fine (kind of bland), but so do the Annie Chun's.  At this time, they are both approximately the same price.  Peacock come in an plastic bag with some noodle crushage upon shipping; Annie Chun's are perfect upon removal from their cellophane bag in a box.  Overall, I highly recommend the Annie Chun's Maifun as a healthier option over the Peacock brand.  On a related note, the Annie Chun's soba and brown rice pad thai noodles are also excellent.<br /><br />Rating for this product: 2.5 stars rounded down to 2 stars.</td></tr>\n",
       "<tr><td>B001R3BQFW </td><td>AM50E42AFUVNL </td><td>Taste great.                          </td><td style=\"text-align: right;\">      5</td><td style=\"text-align: right;\">                       0</td><td style=\"text-align: right;\">126555</td><td>T. Higley \"\"Tina\"\"                               </td><td style=\"text-align: right;\">                     0</td><td style=\"text-align: right;\">1.32356e+09</td><td>I have tried many different drink mix, this is the best tasting by far. It does not have the after taste of the sweetener and I really like it, it is pretty strong, so I use a big water bottle (20 oz) for one tube, it still a little stronger than I like, but it is just my taste.                                                                                                                                                                                                                                                                                                                                                                                                                                                                                                                                                                                                                                                                                                                                                                                                                                                                                                                                                                                                                                                                                                                                                                                                                                                                                                                                                                                                                                                                                                                                                                                                                                                                                                                                                                                                                                                                                                                                                                                                                                                                                                                                                                                                                                                                                                                                                                                                                                                                                                                                                                                                                                                                                                                                                                                                                                                                                                                                                                             </td></tr>\n",
       "<tr><td>B005HGAV8I </td><td>A2I5KDNOESGJ1H</td><td>variety galore                        </td><td style=\"text-align: right;\">      5</td><td style=\"text-align: right;\">                       1</td><td style=\"text-align: right;\">438837</td><td>TJ                                               </td><td style=\"text-align: right;\">                     1</td><td style=\"text-align: right;\">1.33402e+09</td><td>This is my favorite item to order for my Keurig. There are so many flavors, my finicky palate never gets bored!  The only downside is there are probably 5-6 decaf varieties.  I don't drink decaf (I REQUIRE copious amounts of caffeine), so they sit on the shelf...                                                                                                                                                                                                                                                                                                                                                                                                                                                                                                                                                                                                                                                                                                                                                                                                                                                                                                                                                                                                                                                                                                                                                                                                                                                                                                                                                                                                                                                                                                                                                                                                                                                                                                                                                                                                                                                                                                                                                                                                                                                                                                                                                                                                                                                                                                                                                                                                                                                                                                                                                                                                                                                                                                                                                                                                                                                                                                                                                                                             </td></tr>\n",
       "<tr><td>B000GFYRHQ </td><td>A3A7YUR6FS6ZCI</td><td>Bigelow Earl Grey Green Tea           </td><td style=\"text-align: right;\">      5</td><td style=\"text-align: right;\">                       0</td><td style=\"text-align: right;\">245379</td><td>Tea Lover                                        </td><td style=\"text-align: right;\">                     0</td><td style=\"text-align: right;\">1.17841e+09</td><td>Tastes like Earl Grey, but it's green tea so it's healthier.                                                                                                                                                                                                                                                                                                                                                                                                                                                                                                                                                                                                                                                                                                                                                                                                                                                                                                                                                                                                                                                                                                                                                                                                                                                                                                                                                                                                                                                                                                                                                                                                                                                                                                                                                                                                                                                                                                                                                                                                                                                                                                                                                                                                                                                                                                                                                                                                                                                                                                                                                                                                                                                                                                                                                                                                                                                                                                                                                                                                                                                                                                                                                                                                        </td></tr>\n",
       "</tbody>\n",
       "</table>"
      ]
     },
     "metadata": {},
     "output_type": "display_data"
    },
    {
     "data": {
      "text/plain": []
     },
     "execution_count": 4,
     "metadata": {},
     "output_type": "execute_result"
    }
   ],
   "source": [
    "reviews.head()"
   ]
  },
  {
   "cell_type": "code",
   "execution_count": 5,
   "metadata": {
    "collapsed": false
   },
   "outputs": [
    {
     "data": {
      "image/png": "[encoded data removed]",
      "text/plain": [
       "<matplotlib.figure.Figure at 0x112a62470>"
      ]
     },
     "metadata": {},
     "output_type": "display_data"
    }
   ],
   "source": [
    "%matplotlib inline\n",
    "reviews[\"Score\"].hist()"
   ]
  },
  {
   "cell_type": "code",
   "execution_count": 6,
   "metadata": {
    "collapsed": false
   },
   "outputs": [
    {
     "data": {
      "text/html": [
       "<table>\n",
       "<thead>\n",
       "<tr><th>Summary      </th><th style=\"text-align: right;\">  Count</th></tr>\n",
       "</thead>\n",
       "<tbody>\n",
       "<tr><td>Delicious    </td><td style=\"text-align: right;\">    426</td></tr>\n",
       "<tr><td>Delicious!   </td><td style=\"text-align: right;\">    417</td></tr>\n",
       "<tr><td>Yummy!       </td><td style=\"text-align: right;\">    284</td></tr>\n",
       "<tr><td>Yummy        </td><td style=\"text-align: right;\">    222</td></tr>\n",
       "<tr><td>Great product</td><td style=\"text-align: right;\">    204</td></tr>\n",
       "<tr><td>Yum!         </td><td style=\"text-align: right;\">    193</td></tr>\n",
       "<tr><td>Excellent    </td><td style=\"text-align: right;\">    183</td></tr>\n",
       "<tr><td>Great Product</td><td style=\"text-align: right;\">    155</td></tr>\n",
       "<tr><td>Love it!     </td><td style=\"text-align: right;\">    154</td></tr>\n",
       "<tr><td>Great        </td><td style=\"text-align: right;\">    138</td></tr>\n",
       "</tbody>\n",
       "</table>"
      ]
     },
     "metadata": {},
     "output_type": "display_data"
    },
    {
     "data": {
      "text/plain": []
     },
     "execution_count": 6,
     "metadata": {},
     "output_type": "execute_result"
    }
   ],
   "source": [
    "summary_freq = reviews[\"Summary\"].table()\n",
    "summary_freq = summary_freq.sort(\"Count\", ascending = [False])\n",
    "summary_freq.head()"
   ]
  },
  {
   "cell_type": "code",
   "execution_count": 7,
   "metadata": {
    "collapsed": true
   },
   "outputs": [],
   "source": [
    "#' Add Target Column: \"PositiveReview\"\n",
    "reviews[\"PositiveReview\"] = (reviews[\"Score\"] >= 4).ifelse(\"1\", \"0\")"
   ]
  },
  {
   "cell_type": "code",
   "execution_count": 8,
   "metadata": {
    "collapsed": false
   },
   "outputs": [
    {
     "data": {
      "text/html": [
       "<table>\n",
       "<thead>\n",
       "<tr><th style=\"text-align: right;\">  PositiveReview</th><th style=\"text-align: right;\">  Count</th></tr>\n",
       "</thead>\n",
       "<tbody>\n",
       "<tr><td style=\"text-align: right;\">               0</td><td style=\"text-align: right;\">  21791</td></tr>\n",
       "<tr><td style=\"text-align: right;\">               1</td><td style=\"text-align: right;\">  78209</td></tr>\n",
       "</tbody>\n",
       "</table>"
      ]
     },
     "metadata": {},
     "output_type": "display_data"
    },
    {
     "data": {
      "text/plain": []
     },
     "execution_count": 8,
     "metadata": {},
     "output_type": "execute_result"
    }
   ],
   "source": [
    "reviews[\"PositiveReview\"].table()"
   ]
  },
  {
   "cell_type": "markdown",
   "metadata": {},
   "source": [
    "# Step 3 (of 11).  Tokenize Words\n",
    "\n",
    "\n",
    "We will tokenize the words in the review column. We will do this by creating a function called `tokenize`.  This will split the reviews into words and remove any stop words, small words, or words with numbers in them."
   ]
  },
  {
   "cell_type": "code",
   "execution_count": 9,
   "metadata": {
    "collapsed": false
   },
   "outputs": [
    {
     "data": {
      "text/plain": [
       "['i', 'me', 'my', 'myself', 'we', 'our', 'ours', 'ourselves', 'you', 'your']"
      ]
     },
     "execution_count": 9,
     "metadata": {},
     "output_type": "execute_result"
    }
   ],
   "source": [
    "# Get Stop Words\n",
    "from pyspark.ml.feature import StopWordsRemover\n",
    "\n",
    "STOP_WORDS = StopWordsRemover().getStopWords() \n",
    "STOP_WORDS[:10]"
   ]
  },
  {
   "cell_type": "code",
   "execution_count": 10,
   "metadata": {
    "collapsed": false
   },
   "outputs": [],
   "source": [
    "# Define Tokenization function\n",
    "\n",
    "def tokenize(sentences, stop_word = STOP_WORDS):\n",
    "    tokenized = sentences.tokenize(\"\\\\W+\")\n",
    "    tokenized_lower = tokenized.tolower()\n",
    "    tokenized_filtered = tokenized_lower[(tokenized_lower.nchar() >= 2) | (tokenized_lower.isna()),:]\n",
    "    tokenized_words = tokenized_filtered[tokenized_filtered.grep(\"[0-9]\",invert=True,output_logical=True),:]\n",
    "    tokenized_words = tokenized_words[(tokenized_words.isna()) | (~ tokenized_words.isin(STOP_WORDS)),:]\n",
    "    return tokenized_words"
   ]
  },
  {
   "cell_type": "code",
   "execution_count": 11,
   "metadata": {
    "collapsed": true
   },
   "outputs": [],
   "source": [
    "words = tokenize(reviews[\"Text\"])"
   ]
  },
  {
   "cell_type": "code",
   "execution_count": 12,
   "metadata": {
    "collapsed": false
   },
   "outputs": [
    {
     "data": {
      "text/html": [
       "<table>\n",
       "<thead>\n",
       "<tr><th>C1       </th></tr>\n",
       "</thead>\n",
       "<tbody>\n",
       "<tr><td>made     </td></tr>\n",
       "<tr><td>china    </td></tr>\n",
       "<tr><td>buy      </td></tr>\n",
       "<tr><td>pet      </td></tr>\n",
       "<tr><td>food     </td></tr>\n",
       "<tr><td>china    </td></tr>\n",
       "<tr><td>dogswell </td></tr>\n",
       "<tr><td>using    </td></tr>\n",
       "<tr><td>propylene</td></tr>\n",
       "<tr><td>glycol   </td></tr>\n",
       "</tbody>\n",
       "</table>"
      ]
     },
     "metadata": {},
     "output_type": "display_data"
    },
    {
     "data": {
      "text/plain": []
     },
     "execution_count": 12,
     "metadata": {},
     "output_type": "execute_result"
    }
   ],
   "source": [
    "words.head()"
   ]
  },
  {
   "cell_type": "markdown",
   "metadata": {},
   "source": [
    "# Step 4 (of 11).  Stemming\n",
    "\n",
    "\n",
    "We will apply stemming to our tokenized words.  Stemming is the process of reducing a word to their base or root form.  For example, the stem for \"running\" would be \"run\".  PySpark has stemming capabilities so we will leverage the Sparkling Water functionality that allows us to easily convert the H2O frame of words to a Spark DataFrame."
   ]
  },
  {
   "cell_type": "code",
   "execution_count": 13,
   "metadata": {
    "collapsed": false
   },
   "outputs": [],
   "source": [
    "df_words = hc.as_spark_frame(words)"
   ]
  },
  {
   "cell_type": "markdown",
   "metadata": {},
   "source": [
    "The stemmer library is part ofthe nltk library in Python.  We will load the library and test the function."
   ]
  },
  {
   "cell_type": "code",
   "execution_count": 14,
   "metadata": {
    "collapsed": false
   },
   "outputs": [
    {
     "name": "stdout",
     "output_type": "stream",
     "text": [
      "like\n",
      "use\n",
      "think\n",
      "tri\n",
      "rate\n"
     ]
    }
   ],
   "source": [
    "# Import stemmer library\n",
    "from nltk.stem.porter import *\n",
    "\n",
    "# Instantiate stemmer object\n",
    "stemmer = PorterStemmer()\n",
    "\n",
    "# Quick test of the stemming function\n",
    "tokens = [\"liked\", \"using\", \"thinking\", \"tried\", \"rating\"]\n",
    "for t in tokens:\n",
    "    print(stemmer.stem(t))"
   ]
  },
  {
   "cell_type": "code",
   "execution_count": 15,
   "metadata": {
    "collapsed": true
   },
   "outputs": [],
   "source": [
    "# Create user defined function for stemming with return type Array<String>\n",
    "from pyspark.sql.types import *\n",
    "from pyspark.sql.functions import udf, lower\n",
    "\n",
    "stemmer_udf = udf(lambda x: stemmer.stem(x) if x != None else None, StringType())\n",
    "\n",
    "# Create new df with vectors containing the stemmed tokens \n",
    "df_words_stemmed = (\n",
    "    df_words\n",
    "        .withColumn(\"words_stemmed\", stemmer_udf(\"C1\"))\n",
    "        .select(\"words_stemmed\")\n",
    "  )"
   ]
  },
  {
   "cell_type": "code",
   "execution_count": 16,
   "metadata": {
    "collapsed": false
   },
   "outputs": [
    {
     "name": "stdout",
     "output_type": "stream",
     "text": [
      "+-------------+\n",
      "|words_stemmed|\n",
      "+-------------+\n",
      "|         made|\n",
      "|        china|\n",
      "|          buy|\n",
      "|          pet|\n",
      "|         food|\n",
      "|        china|\n",
      "|      dogswel|\n",
      "|          use|\n",
      "|     propylen|\n",
      "|       glycol|\n",
      "|       soften|\n",
      "|        treat|\n",
      "|      thinkng|\n",
      "|      purchas|\n",
      "|      support|\n",
      "|      compani|\n",
      "|          way|\n",
      "|        clean|\n",
      "|          act|\n",
      "|       whatev|\n",
      "+-------------+\n",
      "only showing top 20 rows\n",
      "\n"
     ]
    }
   ],
   "source": [
    "df_words_stemmed.show()"
   ]
  },
  {
   "cell_type": "code",
   "execution_count": 18,
   "metadata": {
    "collapsed": false
   },
   "outputs": [],
   "source": [
    "words_stemmed = hc.as_h2o_frame(df_words_stemmed, \"words_stemmed\")"
   ]
  },
  {
   "cell_type": "markdown",
   "metadata": {},
   "source": [
    "# Step 5 (of 11).  Train Word2Vec Model\n",
    "\n",
    "Now that we've tokenized and stemmed our words, we can train a Word2Vec model. We will start by creating word embeddings of length 2.  We will use these to understand the word embedding since they can be easily visualized. "
   ]
  },
  {
   "cell_type": "code",
   "execution_count": 19,
   "metadata": {
    "collapsed": false
   },
   "outputs": [
    {
     "name": "stdout",
     "output_type": "stream",
     "text": [
      "word2vec Model Build progress: |██████████████████████████████████████████| 100%\n"
     ]
    }
   ],
   "source": [
    "# Train Word2Vec Model for vec size = 2\n",
    "from h2o.estimators.word2vec import H2OWord2vecEstimator\n",
    "\n",
    "w2v_len2_model = H2OWord2vecEstimator(vec_size = 2, model_id = \"w2v_len2.hex\")\n",
    "w2v_len2_model.train(training_frame=words_stemmed)"
   ]
  },
  {
   "cell_type": "markdown",
   "metadata": {},
   "source": [
    "# Step 5 (of 11).  Analyze Word Embeddings\n",
    "\n",
    "We have created word embeddings for each word in our corpus, now we want to understand what they mean and how to interpret them.  The word embeddings for the first few words are shown below."
   ]
  },
  {
   "cell_type": "code",
   "execution_count": 22,
   "metadata": {
    "collapsed": false
   },
   "outputs": [
    {
     "data": {
      "text/html": [
       "<table>\n",
       "<thead>\n",
       "<tr><th>Word    </th><th style=\"text-align: right;\">        C1</th><th style=\"text-align: right;\">       C2</th></tr>\n",
       "</thead>\n",
       "<tbody>\n",
       "<tr><td>made    </td><td style=\"text-align: right;\">-0.0708372</td><td style=\"text-align: right;\">-0.581775</td></tr>\n",
       "<tr><td>china   </td><td style=\"text-align: right;\">-0.597502 </td><td style=\"text-align: right;\">-0.516987</td></tr>\n",
       "<tr><td>buy     </td><td style=\"text-align: right;\">-0.564495 </td><td style=\"text-align: right;\">-0.600256</td></tr>\n",
       "<tr><td>pet     </td><td style=\"text-align: right;\">-1.17222  </td><td style=\"text-align: right;\">-0.424889</td></tr>\n",
       "<tr><td>food    </td><td style=\"text-align: right;\">-0.663015 </td><td style=\"text-align: right;\">-0.486643</td></tr>\n",
       "<tr><td>china   </td><td style=\"text-align: right;\">-0.597502 </td><td style=\"text-align: right;\">-0.516987</td></tr>\n",
       "<tr><td>dogswel </td><td style=\"text-align: right;\">-1.12503  </td><td style=\"text-align: right;\">-0.429632</td></tr>\n",
       "<tr><td>use     </td><td style=\"text-align: right;\"> 0.1133   </td><td style=\"text-align: right;\">-0.676341</td></tr>\n",
       "<tr><td>propylen</td><td style=\"text-align: right;\"> 1.0348   </td><td style=\"text-align: right;\">-0.620876</td></tr>\n",
       "<tr><td>glycol  </td><td style=\"text-align: right;\"> 0.999514 </td><td style=\"text-align: right;\">-0.587951</td></tr>\n",
       "</tbody>\n",
       "</table>"
      ]
     },
     "metadata": {},
     "output_type": "display_data"
    },
    {
     "data": {
      "text/plain": []
     },
     "execution_count": 22,
     "metadata": {},
     "output_type": "execute_result"
    }
   ],
   "source": [
    "sample_embeddings = words_stemmed.head()\n",
    "sample_embeddings.col_names = [\"Word\"]\n",
    "sample_embeddings = sample_embeddings.cbind(w2v_len2_model.transform(sample_embeddings, aggregate_method=\"None\"))\n",
    "\n",
    "sample_embeddings"
   ]
  },
  {
   "cell_type": "code",
   "execution_count": 23,
   "metadata": {
    "collapsed": false
   },
   "outputs": [
    {
     "data": {
      "text/html": [
       "<table>\n",
       "<thead>\n",
       "<tr><th>Word   </th><th style=\"text-align: right;\">  Count</th><th style=\"text-align: right;\">        C1</th><th style=\"text-align: right;\">       C2</th></tr>\n",
       "</thead>\n",
       "<tbody>\n",
       "<tr><td>aa     </td><td style=\"text-align: right;\">     26</td><td style=\"text-align: right;\"> 0.518384 </td><td style=\"text-align: right;\">-0.60923 </td></tr>\n",
       "<tr><td>aaa    </td><td style=\"text-align: right;\">      9</td><td style=\"text-align: right;\">-0.241672 </td><td style=\"text-align: right;\">-0.716564</td></tr>\n",
       "<tr><td>aaaaa  </td><td style=\"text-align: right;\">      5</td><td style=\"text-align: right;\">-0.358846 </td><td style=\"text-align: right;\">-0.815762</td></tr>\n",
       "<tr><td>aaah   </td><td style=\"text-align: right;\">      6</td><td style=\"text-align: right;\"> 0.130271 </td><td style=\"text-align: right;\">-0.773159</td></tr>\n",
       "<tr><td>aacut  </td><td style=\"text-align: right;\">     12</td><td style=\"text-align: right;\"> 0.0851249</td><td style=\"text-align: right;\">-0.16002 </td></tr>\n",
       "<tr><td>aafco  </td><td style=\"text-align: right;\">      8</td><td style=\"text-align: right;\">-0.372421 </td><td style=\"text-align: right;\">-0.485951</td></tr>\n",
       "<tr><td>aah    </td><td style=\"text-align: right;\">      8</td><td style=\"text-align: right;\">-0.143755 </td><td style=\"text-align: right;\">-0.578287</td></tr>\n",
       "<tr><td>ab     </td><td style=\"text-align: right;\">     14</td><td style=\"text-align: right;\"> 0.418797 </td><td style=\"text-align: right;\">-0.610373</td></tr>\n",
       "<tr><td>aback  </td><td style=\"text-align: right;\">     16</td><td style=\"text-align: right;\"> 0.0344654</td><td style=\"text-align: right;\">-0.743601</td></tr>\n",
       "<tr><td>abandon</td><td style=\"text-align: right;\">     39</td><td style=\"text-align: right;\">-0.407999 </td><td style=\"text-align: right;\">-0.487089</td></tr>\n",
       "</tbody>\n",
       "</table>"
      ]
     },
     "metadata": {},
     "output_type": "display_data"
    },
    {
     "data": {
      "text/plain": []
     },
     "execution_count": 23,
     "metadata": {},
     "output_type": "execute_result"
    }
   ],
   "source": [
    "unique_words = words_stemmed.asfactor().table()\n",
    "unique_words.col_names = [\"Word\", \"Count\"]\n",
    "\n",
    "word_embeddings = w2v_len2_model.transform(unique_words[\"Word\"].ascharacter(), aggregate_method=\"None\")\n",
    "word_embeddings = unique_words.cbind(word_embeddings)\n",
    "word_embeddings = word_embeddings[~word_embeddings[\"C1\"].isna()]\n",
    "word_embeddings.head()"
   ]
  },
  {
   "cell_type": "code",
   "execution_count": 24,
   "metadata": {
    "collapsed": false
   },
   "outputs": [],
   "source": [
    "# Filter Word Embeddings to selected words\n",
    "\n",
    "selected_words = [\"coffee\", \"espresso\", \"starbucks\", \"sweet\", \"salty\", \"savory\", \"email\", \"support\", \"answered\", \n",
    "                  \"unhappy\", \"waited\", \"returned\", \"tasty\", \"yummy\", \"moldy\", \"expired\", \"salmonella\", \"best\", \n",
    "                  \"amazing\", \"abdominal\", \"folic\", \"zinc\"]\n",
    "selected_words = list(map(lambda x: stemmer.stem(x), selected_words))\n",
    "\n",
    "filtered_embeddings = word_embeddings[word_embeddings[\"Word\"].isin(selected_words)]\n",
    "plot_data = filtered_embeddings.as_data_frame(use_pandas = True)"
   ]
  },
  {
   "cell_type": "code",
   "execution_count": 25,
   "metadata": {
    "collapsed": true
   },
   "outputs": [],
   "source": [
    "word_embeddings = w2v_len2_model.transform(unique_words[\"Word\"].ascharacter(), aggregate_method=\"None\")\n",
    "word_embeddings = unique_words.cbind(word_embeddings)"
   ]
  },
  {
   "cell_type": "code",
   "execution_count": 26,
   "metadata": {
    "collapsed": false
   },
   "outputs": [
    {
     "data": {
      "image/png": "[encoded data removed]",
      "text/plain": [
       "<matplotlib.figure.Figure at 0x1600f2ef0>"
      ]
     },
     "metadata": {},
     "output_type": "display_data"
    }
   ],
   "source": [
    "# Plot Word Embeddings\n",
    "import matplotlib.pyplot as plt\n",
    "\n",
    "fig, ax = plt.subplots(figsize=(20, 10))\n",
    "ax.scatter(plot_data[\"C1\"], plot_data[\"C2\"])\n",
    "\n",
    "for i, txt in enumerate(plot_data[\"Word\"]):\n",
    "    ax.annotate(txt, (plot_data[\"C1\"].iloc[i], plot_data[\"C2\"].iloc[i]))"
   ]
  },
  {
   "cell_type": "markdown",
   "metadata": {},
   "source": [
    "We will train a more complex word2vec model with length 100 - this will be able to catch further nuances in the text."
   ]
  },
  {
   "cell_type": "code",
   "execution_count": 32,
   "metadata": {
    "collapsed": false
   },
   "outputs": [
    {
     "name": "stdout",
     "output_type": "stream",
     "text": [
      "word2vec Model Build progress: |██████████████████████████████████████████| 100%\n"
     ]
    }
   ],
   "source": [
    "# Train Word2Vec Model for vec size = 100\n",
    "w2v_model = H2OWord2vecEstimator(vec_size = 100, model_id = \"w2v.hex\")\n",
    "w2v_model.train(training_frame=words_stemmed)"
   ]
  },
  {
   "cell_type": "markdown",
   "metadata": {},
   "source": [
    "One way to interpret the word embeddings is to use them to find synonyms. The `find_synonyms` function finds the words that have the smallest cosine distance in word embeddings.  We assume that if the word embeddings are similar, the two words are synonyms."
   ]
  },
  {
   "cell_type": "code",
   "execution_count": 33,
   "metadata": {
    "collapsed": false
   },
   "outputs": [
    {
     "data": {
      "text/plain": [
       "OrderedDict([('keur', 0.7322350144386292),\n",
       "             ('coffeepot', 0.7100801467895508),\n",
       "             ('cupper', 0.6987289190292358),\n",
       "             ('medaglia', 0.6950191855430603),\n",
       "             ('cappacino', 0.6778680086135864)])"
      ]
     },
     "execution_count": 33,
     "metadata": {},
     "output_type": "execute_result"
    }
   ],
   "source": [
    "# Sanity check - find synonyms for the word 'coffee'\n",
    "w2v_model.find_synonyms(\"coffee\", count = 5)"
   ]
  },
  {
   "cell_type": "code",
   "execution_count": 34,
   "metadata": {
    "collapsed": false
   },
   "outputs": [
    {
     "data": {
      "text/plain": [
       "OrderedDict([('rancid', 0.7147429585456848),\n",
       "             ('ined', 0.6574108600616455),\n",
       "             ('uned', 0.62749844789505),\n",
       "             ('exper', 0.6131126284599304),\n",
       "             ('moldi', 0.6113917827606201)])"
      ]
     },
     "execution_count": 34,
     "metadata": {},
     "output_type": "execute_result"
    }
   ],
   "source": [
    "# Sanity check - find synonyms for the word 'stale'\n",
    "w2v_model.find_synonyms(\"stale\", count = 5)"
   ]
  },
  {
   "cell_type": "markdown",
   "metadata": {},
   "source": [
    "We will cluster the word embeddings to identify segments of similar words. "
   ]
  },
  {
   "cell_type": "code",
   "execution_count": 35,
   "metadata": {
    "collapsed": true
   },
   "outputs": [],
   "source": [
    "word_embeddings = w2v_model.transform(unique_words[\"Word\"].ascharacter(), aggregate_method=\"None\")\n",
    "word_embeddings = unique_words.cbind(word_embeddings)\n",
    "word_embeddings = word_embeddings[~word_embeddings[\"C1\"].isna()]"
   ]
  },
  {
   "cell_type": "code",
   "execution_count": 36,
   "metadata": {
    "collapsed": false
   },
   "outputs": [
    {
     "name": "stdout",
     "output_type": "stream",
     "text": [
      "kmeans Model Build progress: |████████████████████████████████████████████| 100%\n"
     ]
    }
   ],
   "source": [
    "from h2o.estimators import H2OKMeansEstimator\n",
    "\n",
    "kmeans = H2OKMeansEstimator(model_id = \"word_segments.hex\",\n",
    "                            estimate_k = True, k = 100, # Max number of clusters\n",
    "                            seed = 1234)\n",
    "\n",
    "x = list(set(word_embeddings.col_names) - set([\"Word\", \"Count\"]))\n",
    "kmeans.train(x = x, training_frame = word_embeddings)"
   ]
  },
  {
   "cell_type": "code",
   "execution_count": 37,
   "metadata": {
    "collapsed": false
   },
   "outputs": [
    {
     "name": "stdout",
     "output_type": "stream",
     "text": [
      "Centroid Statistics: \n"
     ]
    },
    {
     "data": {
      "text/html": [
       "<div style=\"overflow:auto\"><table style=\"width:50%\"><tr><td><b></b></td>\n",
       "<td><b>centroid</b></td>\n",
       "<td><b>size</b></td>\n",
       "<td><b>within_cluster_sum_of_squares</b></td></tr>\n",
       "<tr><td></td>\n",
       "<td>1.0</td>\n",
       "<td>7551.0</td>\n",
       "<td>730027.8909247</td></tr>\n",
       "<tr><td></td>\n",
       "<td>2.0</td>\n",
       "<td>5524.0</td>\n",
       "<td>541896.8572332</td></tr></table></div>"
      ],
      "text/plain": [
       "    centroid    size    within_cluster_sum_of_squares\n",
       "--  ----------  ------  -------------------------------\n",
       "    1           7551    730028\n",
       "    2           5524    541897"
      ]
     },
     "metadata": {},
     "output_type": "display_data"
    },
    {
     "data": {
      "text/plain": []
     },
     "execution_count": 37,
     "metadata": {},
     "output_type": "execute_result"
    }
   ],
   "source": [
    "# Clusters\n",
    "kmeans.centroid_stats()"
   ]
  },
  {
   "cell_type": "code",
   "execution_count": 38,
   "metadata": {
    "collapsed": false
   },
   "outputs": [
    {
     "name": "stdout",
     "output_type": "stream",
     "text": [
      "kmeans prediction progress: |█████████████████████████████████████████████| 100%\n"
     ]
    },
    {
     "data": {
      "text/html": [
       "<table>\n",
       "<thead>\n",
       "<tr><th>Word   </th><th style=\"text-align: right;\">  predict</th></tr>\n",
       "</thead>\n",
       "<tbody>\n",
       "<tr><td>aa     </td><td style=\"text-align: right;\">        0</td></tr>\n",
       "<tr><td>aaa    </td><td style=\"text-align: right;\">        0</td></tr>\n",
       "<tr><td>aaaaa  </td><td style=\"text-align: right;\">        1</td></tr>\n",
       "<tr><td>aaah   </td><td style=\"text-align: right;\">        0</td></tr>\n",
       "<tr><td>aacut  </td><td style=\"text-align: right;\">        0</td></tr>\n",
       "<tr><td>aafco  </td><td style=\"text-align: right;\">        1</td></tr>\n",
       "<tr><td>aah    </td><td style=\"text-align: right;\">        0</td></tr>\n",
       "<tr><td>ab     </td><td style=\"text-align: right;\">        1</td></tr>\n",
       "<tr><td>aback  </td><td style=\"text-align: right;\">        1</td></tr>\n",
       "<tr><td>abandon</td><td style=\"text-align: right;\">        1</td></tr>\n",
       "</tbody>\n",
       "</table>"
      ]
     },
     "metadata": {},
     "output_type": "display_data"
    },
    {
     "data": {
      "text/plain": []
     },
     "execution_count": 38,
     "metadata": {},
     "output_type": "execute_result"
    }
   ],
   "source": [
    "word_clusters = word_embeddings.cbind(kmeans.predict(word_embeddings))\n",
    "word_clusters[[\"Word\", \"predict\"]].head()"
   ]
  },
  {
   "cell_type": "code",
   "execution_count": 39,
   "metadata": {
    "collapsed": true
   },
   "outputs": [],
   "source": [
    "selected_clusters = word_clusters[word_clusters[\"Word\"].isin(selected_words)]"
   ]
  },
  {
   "cell_type": "code",
   "execution_count": 40,
   "metadata": {
    "collapsed": false
   },
   "outputs": [
    {
     "name": "stdout",
     "output_type": "stream",
     "text": [
      "Cluster 0\n"
     ]
    },
    {
     "data": {
      "text/html": [
       "<table>\n",
       "<thead>\n",
       "<tr><th>Word    </th></tr>\n",
       "</thead>\n",
       "<tbody>\n",
       "<tr><td>amaz    </td></tr>\n",
       "<tr><td>best    </td></tr>\n",
       "<tr><td>coffe   </td></tr>\n",
       "<tr><td>espresso</td></tr>\n",
       "<tr><td>expir   </td></tr>\n",
       "<tr><td>moldi   </td></tr>\n",
       "<tr><td>salti   </td></tr>\n",
       "<tr><td>savori  </td></tr>\n",
       "<tr><td>starbuck</td></tr>\n",
       "<tr><td>sweet   </td></tr>\n",
       "</tbody>\n",
       "</table>"
      ]
     },
     "metadata": {},
     "output_type": "display_data"
    },
    {
     "name": "stdout",
     "output_type": "stream",
     "text": [
      "\n"
     ]
    }
   ],
   "source": [
    "print(\"Cluster 0\")\n",
    "print(selected_clusters[selected_clusters[\"predict\"] == 0, \"Word\"])"
   ]
  },
  {
   "cell_type": "code",
   "execution_count": 41,
   "metadata": {
    "collapsed": false
   },
   "outputs": [
    {
     "name": "stdout",
     "output_type": "stream",
     "text": [
      "Cluster 1\n"
     ]
    },
    {
     "data": {
      "text/html": [
       "<table>\n",
       "<thead>\n",
       "<tr><th>Word      </th></tr>\n",
       "</thead>\n",
       "<tbody>\n",
       "<tr><td>abdomin   </td></tr>\n",
       "<tr><td>answer    </td></tr>\n",
       "<tr><td>email     </td></tr>\n",
       "<tr><td>folic     </td></tr>\n",
       "<tr><td>return    </td></tr>\n",
       "<tr><td>salmonella</td></tr>\n",
       "<tr><td>support   </td></tr>\n",
       "<tr><td>unhappi   </td></tr>\n",
       "<tr><td>zinc      </td></tr>\n",
       "</tbody>\n",
       "</table>"
      ]
     },
     "metadata": {},
     "output_type": "display_data"
    },
    {
     "name": "stdout",
     "output_type": "stream",
     "text": [
      "\n"
     ]
    }
   ],
   "source": [
    "print(\"Cluster 1\")\n",
    "print(selected_clusters[selected_clusters[\"predict\"] == 1, \"Word\"])"
   ]
  },
  {
   "cell_type": "markdown",
   "metadata": {},
   "source": [
    "# Step 7 (of 11).  Train Model with Original Data\n",
    "\n",
    "Now that we have analyzed our word embeddings, we will turn to our supervised learning task to predict whether someone liked the review.  We will first train a model on our original data - not our word embeddings to see what our accuracy is. We will use this model as a baseline model."
   ]
  },
  {
   "cell_type": "code",
   "execution_count": 42,
   "metadata": {
    "collapsed": true
   },
   "outputs": [],
   "source": [
    "# Find the 80th quantile of time in the dataset\n",
    "time_split = reviews[\"Time\"].quantile(prob = [0.8])[1]\n",
    "reviews[\"Train\"] = (reviews[\"Time\"] < time_split).ifelse(\"Yes\", \"No\")"
   ]
  },
  {
   "cell_type": "code",
   "execution_count": 43,
   "metadata": {
    "collapsed": true
   },
   "outputs": [],
   "source": [
    "train = reviews[reviews[\"Train\"] == \"Yes\"]\n",
    "test = reviews[reviews[\"Train\"] == \"No\"]"
   ]
  },
  {
   "cell_type": "code",
   "execution_count": 44,
   "metadata": {
    "collapsed": false
   },
   "outputs": [
    {
     "name": "stdout",
     "output_type": "stream",
     "text": [
      "gbm Model Build progress: |███████████████████████████████████████████████| 100%\n"
     ]
    }
   ],
   "source": [
    "from h2o.estimators import H2OGradientBoostingEstimator\n",
    "\n",
    "predictors = ['ProductId', 'UserId', 'HelpfulnessNumerator', 'HelpfulnessDenominator', 'Time']\n",
    "response = 'PositiveReview'\n",
    "\n",
    "gbm_baseline = H2OGradientBoostingEstimator(stopping_metric = \"AUC\", stopping_tolerance = 0.001,\n",
    "                                            stopping_rounds = 5, score_tree_interval = 10,\n",
    "                                            model_id = \"gbm_baseline.hex\"\n",
    "                                           )\n",
    "gbm_baseline.train(x = predictors, y = response, \n",
    "                   training_frame = train, validation_frame = test\n",
    "                  )"
   ]
  },
  {
   "cell_type": "code",
   "execution_count": 45,
   "metadata": {
    "collapsed": false
   },
   "outputs": [
    {
     "name": "stdout",
     "output_type": "stream",
     "text": [
      "AUC on Validation Data: 0.616\n"
     ]
    }
   ],
   "source": [
    "print(\"AUC on Validation Data: \" + str(round(gbm_baseline.auc(valid = True), 3)))"
   ]
  },
  {
   "cell_type": "markdown",
   "metadata": {},
   "source": [
    "We can see that there is a big room for improvement.  Our error is 22%.  To improve our model, we will train word embeddings for the review."
   ]
  },
  {
   "cell_type": "code",
   "execution_count": 46,
   "metadata": {
    "collapsed": false
   },
   "outputs": [
    {
     "name": "stdout",
     "output_type": "stream",
     "text": [
      "Confusion Matrix (Act/Pred) for max f1 @ threshold = 0.45931625811239496: \n"
     ]
    },
    {
     "data": {
      "text/html": [
       "<div style=\"overflow:auto\"><table style=\"width:50%\"><tr><td><b></b></td>\n",
       "<td><b>0</b></td>\n",
       "<td><b>1</b></td>\n",
       "<td><b>Error</b></td>\n",
       "<td><b>Rate</b></td></tr>\n",
       "<tr><td>0</td>\n",
       "<td>384.0</td>\n",
       "<td>4276.0</td>\n",
       "<td>0.9176</td>\n",
       "<td> (4276.0/4660.0)</td></tr>\n",
       "<tr><td>1</td>\n",
       "<td>128.0</td>\n",
       "<td>15220.0</td>\n",
       "<td>0.0083</td>\n",
       "<td> (128.0/15348.0)</td></tr>\n",
       "<tr><td>Total</td>\n",
       "<td>512.0</td>\n",
       "<td>19496.0</td>\n",
       "<td>0.2201</td>\n",
       "<td> (4404.0/20008.0)</td></tr></table></div>"
      ],
      "text/plain": [
       "       0    1      Error    Rate\n",
       "-----  ---  -----  -------  ----------------\n",
       "0      384  4276   0.9176   (4276.0/4660.0)\n",
       "1      128  15220  0.0083   (128.0/15348.0)\n",
       "Total  512  19496  0.2201   (4404.0/20008.0)"
      ]
     },
     "metadata": {},
     "output_type": "display_data"
    },
    {
     "data": {
      "text/plain": []
     },
     "execution_count": 46,
     "metadata": {},
     "output_type": "execute_result"
    }
   ],
   "source": [
    "gbm_baseline.confusion_matrix(valid = True)"
   ]
  },
  {
   "cell_type": "markdown",
   "metadata": {},
   "source": [
    "The variable importance plot below shows us that the most important variable is `HelpfulnessNumerator`.  Looking at the partial dependency plot for that variable, we see that the more people who find the review helpful, the more likely it is a good review."
   ]
  },
  {
   "cell_type": "code",
   "execution_count": 47,
   "metadata": {
    "collapsed": false
   },
   "outputs": [
    {
     "data": {
      "image/png": "[encoded data removed]",
      "text/plain": [
       "<matplotlib.figure.Figure at 0x160c1ecf8>"
      ]
     },
     "metadata": {},
     "output_type": "display_data"
    }
   ],
   "source": [
    "gbm_baseline.varimp_plot()"
   ]
  },
  {
   "cell_type": "code",
   "execution_count": 48,
   "metadata": {
    "collapsed": false
   },
   "outputs": [
    {
     "name": "stdout",
     "output_type": "stream",
     "text": [
      "PartialDependencePlot progress: |█████████████████████████████████████████| 100%\n"
     ]
    },
    {
     "data": {
      "image/png": "[encoded data removed]",
      "text/plain": [
       "<matplotlib.figure.Figure at 0x112c12cf8>"
      ]
     },
     "metadata": {},
     "output_type": "display_data"
    }
   ],
   "source": [
    "pdp_helpfulness = gbm_baseline.partial_plot(train, cols = [\"HelpfulnessNumerator\"])"
   ]
  },
  {
   "cell_type": "markdown",
   "metadata": {},
   "source": [
    "# Step 8 (of 11).  Train Model with Word Embeddings\n",
    "\n",
    "We will train a GBM model with the same parameters as our baseline gbm.  This time, however, we will add the aggregated word embeddings as predictors. "
   ]
  },
  {
   "cell_type": "code",
   "execution_count": 49,
   "metadata": {
    "collapsed": true
   },
   "outputs": [],
   "source": [
    "# Calculate a vector for each review\n",
    "review_vecs = w2v_model.transform(words_stemmed, aggregate_method = \"AVERAGE\")"
   ]
  },
  {
   "cell_type": "code",
   "execution_count": 50,
   "metadata": {
    "collapsed": false
   },
   "outputs": [
    {
     "data": {
      "text/html": [
       "<table>\n",
       "<thead>\n",
       "<tr><th style=\"text-align: right;\">         C1</th><th style=\"text-align: right;\">          C2</th><th style=\"text-align: right;\">         C3</th><th style=\"text-align: right;\">         C4</th><th style=\"text-align: right;\">         C5</th><th style=\"text-align: right;\">        C6</th><th style=\"text-align: right;\">         C7</th><th style=\"text-align: right;\">         C8</th><th style=\"text-align: right;\">         C9</th><th style=\"text-align: right;\">       C10</th><th style=\"text-align: right;\">       C11</th><th style=\"text-align: right;\">      C12</th><th style=\"text-align: right;\">       C13</th><th style=\"text-align: right;\">       C14</th><th style=\"text-align: right;\">        C15</th><th style=\"text-align: right;\">         C16</th><th style=\"text-align: right;\">       C17</th><th style=\"text-align: right;\">        C18</th><th style=\"text-align: right;\">         C19</th><th style=\"text-align: right;\">       C20</th><th style=\"text-align: right;\">     C21</th><th style=\"text-align: right;\">        C22</th><th style=\"text-align: right;\">        C23</th><th style=\"text-align: right;\">       C24</th><th style=\"text-align: right;\">       C25</th><th style=\"text-align: right;\">       C26</th><th style=\"text-align: right;\">        C27</th><th style=\"text-align: right;\">       C28</th><th style=\"text-align: right;\">       C29</th><th style=\"text-align: right;\">       C30</th><th style=\"text-align: right;\">        C31</th><th style=\"text-align: right;\">      C32</th><th style=\"text-align: right;\">      C33</th><th style=\"text-align: right;\">         C34</th><th style=\"text-align: right;\">       C35</th><th style=\"text-align: right;\">       C36</th><th style=\"text-align: right;\">        C37</th><th style=\"text-align: right;\">         C38</th><th style=\"text-align: right;\">      C39</th><th style=\"text-align: right;\">        C40</th><th style=\"text-align: right;\">       C41</th><th style=\"text-align: right;\">       C42</th><th style=\"text-align: right;\">     C43</th><th style=\"text-align: right;\">        C44</th><th style=\"text-align: right;\">       C45</th><th style=\"text-align: right;\">      C46</th><th style=\"text-align: right;\">     C47</th><th style=\"text-align: right;\">        C48</th><th style=\"text-align: right;\">      C49</th><th style=\"text-align: right;\">       C50</th><th style=\"text-align: right;\">      C51</th><th style=\"text-align: right;\">        C52</th><th style=\"text-align: right;\">       C53</th><th style=\"text-align: right;\">      C54</th><th style=\"text-align: right;\">      C55</th><th style=\"text-align: right;\">        C56</th><th style=\"text-align: right;\">        C57</th><th style=\"text-align: right;\">        C58</th><th style=\"text-align: right;\">      C59</th><th style=\"text-align: right;\">         C60</th><th style=\"text-align: right;\">      C61</th><th style=\"text-align: right;\">        C62</th><th style=\"text-align: right;\">        C63</th><th style=\"text-align: right;\">        C64</th><th style=\"text-align: right;\">        C65</th><th style=\"text-align: right;\">       C66</th><th style=\"text-align: right;\">       C67</th><th style=\"text-align: right;\">        C68</th><th style=\"text-align: right;\">       C69</th><th style=\"text-align: right;\">         C70</th><th style=\"text-align: right;\">      C71</th><th style=\"text-align: right;\">         C72</th><th style=\"text-align: right;\">         C73</th><th style=\"text-align: right;\">        C74</th><th style=\"text-align: right;\">        C75</th><th style=\"text-align: right;\">        C76</th><th style=\"text-align: right;\">        C77</th><th style=\"text-align: right;\">        C78</th><th style=\"text-align: right;\">       C79</th><th style=\"text-align: right;\">        C80</th><th style=\"text-align: right;\">        C81</th><th style=\"text-align: right;\">        C82</th><th style=\"text-align: right;\">       C83</th><th style=\"text-align: right;\">        C84</th><th style=\"text-align: right;\">        C85</th><th style=\"text-align: right;\">        C86</th><th style=\"text-align: right;\">      C87</th><th style=\"text-align: right;\">        C88</th><th style=\"text-align: right;\">        C89</th><th style=\"text-align: right;\">        C90</th><th style=\"text-align: right;\">       C91</th><th style=\"text-align: right;\">      C92</th><th style=\"text-align: right;\">        C93</th><th style=\"text-align: right;\">        C94</th><th style=\"text-align: right;\">        C95</th><th style=\"text-align: right;\">        C96</th><th style=\"text-align: right;\">        C97</th><th style=\"text-align: right;\">        C98</th><th style=\"text-align: right;\">       C99</th><th style=\"text-align: right;\">      C100</th></tr>\n",
       "</thead>\n",
       "<tbody>\n",
       "<tr><td style=\"text-align: right;\"> 0.00784518</td><td style=\"text-align: right;\"> 0.107158   </td><td style=\"text-align: right;\">-0.111525  </td><td style=\"text-align: right;\"> 0.184099  </td><td style=\"text-align: right;\"> 0.167717  </td><td style=\"text-align: right;\">-0.0634441</td><td style=\"text-align: right;\">-0.0177535 </td><td style=\"text-align: right;\"> 0.11939   </td><td style=\"text-align: right;\"> 0.065257  </td><td style=\"text-align: right;\">-0.187196 </td><td style=\"text-align: right;\">-0.18425  </td><td style=\"text-align: right;\">-0.147702</td><td style=\"text-align: right;\">0.00327742</td><td style=\"text-align: right;\">-0.142274 </td><td style=\"text-align: right;\">-0.101835  </td><td style=\"text-align: right;\"> 0.0695351  </td><td style=\"text-align: right;\"> 0.103424 </td><td style=\"text-align: right;\"> 0.143931  </td><td style=\"text-align: right;\">-0.0619482  </td><td style=\"text-align: right;\"> 0.0468367</td><td style=\"text-align: right;\">0.200661</td><td style=\"text-align: right;\"> 0.00782102</td><td style=\"text-align: right;\">-0.00414565</td><td style=\"text-align: right;\"> 0.0049926</td><td style=\"text-align: right;\"> 0.12779  </td><td style=\"text-align: right;\">-0.0283421</td><td style=\"text-align: right;\">-0.0538695 </td><td style=\"text-align: right;\">-0.0525243</td><td style=\"text-align: right;\">-0.236349 </td><td style=\"text-align: right;\"> 0.0472668</td><td style=\"text-align: right;\">-0.145139  </td><td style=\"text-align: right;\">0.250518 </td><td style=\"text-align: right;\">0.103992 </td><td style=\"text-align: right;\">-0.0256768  </td><td style=\"text-align: right;\">-0.0555298</td><td style=\"text-align: right;\"> 0.0880073</td><td style=\"text-align: right;\">-0.0281891 </td><td style=\"text-align: right;\"> 0.043228   </td><td style=\"text-align: right;\">0.0485787</td><td style=\"text-align: right;\"> 0.0177903 </td><td style=\"text-align: right;\">-0.117431 </td><td style=\"text-align: right;\">-0.0207104</td><td style=\"text-align: right;\">0.123975</td><td style=\"text-align: right;\"> 0.047469  </td><td style=\"text-align: right;\">-0.155867 </td><td style=\"text-align: right;\">0.15769  </td><td style=\"text-align: right;\">0.147833</td><td style=\"text-align: right;\">-0.0662895 </td><td style=\"text-align: right;\"> 0.131484</td><td style=\"text-align: right;\"> 0.103363 </td><td style=\"text-align: right;\">0.107977 </td><td style=\"text-align: right;\">-0.0317904 </td><td style=\"text-align: right;\">-0.0695611</td><td style=\"text-align: right;\">0.186146 </td><td style=\"text-align: right;\">0.175865 </td><td style=\"text-align: right;\">-0.117611  </td><td style=\"text-align: right;\"> 0.117542  </td><td style=\"text-align: right;\"> 0.0614899 </td><td style=\"text-align: right;\">0.0641408</td><td style=\"text-align: right;\"> 0.0384522  </td><td style=\"text-align: right;\">0.114321 </td><td style=\"text-align: right;\">-0.135223  </td><td style=\"text-align: right;\"> 0.0217244 </td><td style=\"text-align: right;\">-0.0534547 </td><td style=\"text-align: right;\"> 0.155521  </td><td style=\"text-align: right;\"> 0.138489 </td><td style=\"text-align: right;\">-0.0423033</td><td style=\"text-align: right;\"> 0.155558  </td><td style=\"text-align: right;\"> 0.0222809</td><td style=\"text-align: right;\">-0.0016856  </td><td style=\"text-align: right;\">-0.202971</td><td style=\"text-align: right;\">-0.081332   </td><td style=\"text-align: right;\">-5.88783e-05</td><td style=\"text-align: right;\"> 0.0863712 </td><td style=\"text-align: right;\">-0.0876646 </td><td style=\"text-align: right;\"> 0.198043  </td><td style=\"text-align: right;\">-0.0830277 </td><td style=\"text-align: right;\"> 0.120345  </td><td style=\"text-align: right;\">-0.150084 </td><td style=\"text-align: right;\">-0.0438009 </td><td style=\"text-align: right;\">-0.0721294 </td><td style=\"text-align: right;\">-0.121055  </td><td style=\"text-align: right;\">-0.0417422</td><td style=\"text-align: right;\">-0.117785  </td><td style=\"text-align: right;\">-0.0894806 </td><td style=\"text-align: right;\"> 0.214599  </td><td style=\"text-align: right;\">-0.294285</td><td style=\"text-align: right;\">-0.113523  </td><td style=\"text-align: right;\">-0.0710969 </td><td style=\"text-align: right;\">-0.00599179</td><td style=\"text-align: right;\">-0.0699131</td><td style=\"text-align: right;\">0.133121 </td><td style=\"text-align: right;\">-0.065504  </td><td style=\"text-align: right;\">-0.00315983</td><td style=\"text-align: right;\">-0.132177  </td><td style=\"text-align: right;\"> 0.0247558 </td><td style=\"text-align: right;\"> 0.0473632 </td><td style=\"text-align: right;\">-0.0350887 </td><td style=\"text-align: right;\">-0.10879  </td><td style=\"text-align: right;\">-0.0141113</td></tr>\n",
       "<tr><td style=\"text-align: right;\"> 0.0986566 </td><td style=\"text-align: right;\">-0.0101422  </td><td style=\"text-align: right;\"> 0.0134339 </td><td style=\"text-align: right;\"> 0.0468712 </td><td style=\"text-align: right;\">-0.0546086 </td><td style=\"text-align: right;\">-0.0525141</td><td style=\"text-align: right;\"> 0.0863225 </td><td style=\"text-align: right;\"> 0.0777688 </td><td style=\"text-align: right;\">-0.00475754</td><td style=\"text-align: right;\">-0.0780714</td><td style=\"text-align: right;\"> 0.0548963</td><td style=\"text-align: right;\">-0.350729</td><td style=\"text-align: right;\">0.0639524 </td><td style=\"text-align: right;\"> 0.02286  </td><td style=\"text-align: right;\">-0.149814  </td><td style=\"text-align: right;\"> 0.0447106  </td><td style=\"text-align: right;\">-0.0358571</td><td style=\"text-align: right;\"> 0.0831388 </td><td style=\"text-align: right;\">-0.0665903  </td><td style=\"text-align: right;\"> 0.0494236</td><td style=\"text-align: right;\">0.193659</td><td style=\"text-align: right;\">-0.12648   </td><td style=\"text-align: right;\"> 0.188638  </td><td style=\"text-align: right;\"> 0.114453 </td><td style=\"text-align: right;\"> 0.0989383</td><td style=\"text-align: right;\">-0.0567637</td><td style=\"text-align: right;\">-0.211141  </td><td style=\"text-align: right;\">-0.244589 </td><td style=\"text-align: right;\">-0.108677 </td><td style=\"text-align: right;\"> 0.0503497</td><td style=\"text-align: right;\">-0.112334  </td><td style=\"text-align: right;\">0.21568  </td><td style=\"text-align: right;\">0.134613 </td><td style=\"text-align: right;\">-0.0307104  </td><td style=\"text-align: right;\"> 0.0111056</td><td style=\"text-align: right;\">-0.0878728</td><td style=\"text-align: right;\"> 0.0294376 </td><td style=\"text-align: right;\"> 0.114227   </td><td style=\"text-align: right;\">0.115534 </td><td style=\"text-align: right;\"> 0.0173485 </td><td style=\"text-align: right;\">-0.0161681</td><td style=\"text-align: right;\"> 0.210413 </td><td style=\"text-align: right;\">0.164389</td><td style=\"text-align: right;\"> 0.105334  </td><td style=\"text-align: right;\">-0.13985  </td><td style=\"text-align: right;\">0.0305944</td><td style=\"text-align: right;\">0.214663</td><td style=\"text-align: right;\">-0.062138  </td><td style=\"text-align: right;\"> 0.16174 </td><td style=\"text-align: right;\"> 0.0893444</td><td style=\"text-align: right;\">0.0800352</td><td style=\"text-align: right;\">-0.0352864 </td><td style=\"text-align: right;\">-0.155    </td><td style=\"text-align: right;\">0.136245 </td><td style=\"text-align: right;\">0.088965 </td><td style=\"text-align: right;\">-0.0290111 </td><td style=\"text-align: right;\">-0.0949184 </td><td style=\"text-align: right;\">-0.0929577 </td><td style=\"text-align: right;\">0.0450089</td><td style=\"text-align: right;\"> 0.0527226  </td><td style=\"text-align: right;\">0.117071 </td><td style=\"text-align: right;\"> 0.0187021 </td><td style=\"text-align: right;\"> 0.0632502 </td><td style=\"text-align: right;\"> 0.0708755 </td><td style=\"text-align: right;\"> 0.0336108 </td><td style=\"text-align: right;\"> 0.0236615</td><td style=\"text-align: right;\">-0.0931108</td><td style=\"text-align: right;\"> 0.0716325 </td><td style=\"text-align: right;\">-0.0977479</td><td style=\"text-align: right;\"> 0.0125156  </td><td style=\"text-align: right;\">-0.176521</td><td style=\"text-align: right;\"> 0.000972025</td><td style=\"text-align: right;\"> 0.0186576  </td><td style=\"text-align: right;\">-0.142713  </td><td style=\"text-align: right;\">-0.0433475 </td><td style=\"text-align: right;\"> 0.0434505 </td><td style=\"text-align: right;\">-0.183574  </td><td style=\"text-align: right;\"> 0.00298222</td><td style=\"text-align: right;\">-0.110703 </td><td style=\"text-align: right;\"> 0.0173804 </td><td style=\"text-align: right;\">-0.0756338 </td><td style=\"text-align: right;\"> 0.126952  </td><td style=\"text-align: right;\">-0.158965 </td><td style=\"text-align: right;\">-0.0642494 </td><td style=\"text-align: right;\">-0.0431339 </td><td style=\"text-align: right;\"> 0.184649  </td><td style=\"text-align: right;\">-0.264305</td><td style=\"text-align: right;\">-0.0460478 </td><td style=\"text-align: right;\">-0.098581  </td><td style=\"text-align: right;\">-0.0673949 </td><td style=\"text-align: right;\">-0.253924 </td><td style=\"text-align: right;\">0.0840178</td><td style=\"text-align: right;\"> 0.0371073 </td><td style=\"text-align: right;\">-0.0321134 </td><td style=\"text-align: right;\">-0.00376784</td><td style=\"text-align: right;\"> 0.0318147 </td><td style=\"text-align: right;\">-0.0577522 </td><td style=\"text-align: right;\"> 0.00276691</td><td style=\"text-align: right;\">-0.0489595</td><td style=\"text-align: right;\">-0.0250437</td></tr>\n",
       "<tr><td style=\"text-align: right;\">-0.044748  </td><td style=\"text-align: right;\"> 0.11748    </td><td style=\"text-align: right;\">-0.0706765 </td><td style=\"text-align: right;\"> 0.0873602 </td><td style=\"text-align: right;\"> 0.0490317 </td><td style=\"text-align: right;\">-0.129463 </td><td style=\"text-align: right;\"> 0.0183384 </td><td style=\"text-align: right;\"> 0.120273  </td><td style=\"text-align: right;\">-0.0714544 </td><td style=\"text-align: right;\">-0.208564 </td><td style=\"text-align: right;\">-0.219846 </td><td style=\"text-align: right;\">-0.16877 </td><td style=\"text-align: right;\">0.0478037 </td><td style=\"text-align: right;\">-0.0385019</td><td style=\"text-align: right;\">-0.0185969 </td><td style=\"text-align: right;\"> 0.145708   </td><td style=\"text-align: right;\"> 0.10323  </td><td style=\"text-align: right;\"> 0.0516264 </td><td style=\"text-align: right;\">-0.064128   </td><td style=\"text-align: right;\"> 0.124953 </td><td style=\"text-align: right;\">0.218274</td><td style=\"text-align: right;\">-0.022777  </td><td style=\"text-align: right;\"> 0.037408  </td><td style=\"text-align: right;\"> 0.0475489</td><td style=\"text-align: right;\"> 0.259531 </td><td style=\"text-align: right;\"> 0.0463736</td><td style=\"text-align: right;\">-0.168564  </td><td style=\"text-align: right;\">-0.202743 </td><td style=\"text-align: right;\">-0.112488 </td><td style=\"text-align: right;\"> 0.050881 </td><td style=\"text-align: right;\">-0.00726505</td><td style=\"text-align: right;\">0.278353 </td><td style=\"text-align: right;\">0.151971 </td><td style=\"text-align: right;\"> 0.00946583 </td><td style=\"text-align: right;\">-0.0865379</td><td style=\"text-align: right;\"> 0.0959436</td><td style=\"text-align: right;\">-0.0761823 </td><td style=\"text-align: right;\">-0.0634333  </td><td style=\"text-align: right;\">0.17152  </td><td style=\"text-align: right;\"> 0.101167  </td><td style=\"text-align: right;\">-0.0133065</td><td style=\"text-align: right;\"> 0.0876103</td><td style=\"text-align: right;\">0.189848</td><td style=\"text-align: right;\"> 0.0136845 </td><td style=\"text-align: right;\">-0.0644196</td><td style=\"text-align: right;\">0.0551264</td><td style=\"text-align: right;\">0.13109 </td><td style=\"text-align: right;\">-0.0521589 </td><td style=\"text-align: right;\"> 0.322988</td><td style=\"text-align: right;\"> 0.0715896</td><td style=\"text-align: right;\">0.179912 </td><td style=\"text-align: right;\"> 0.0367743 </td><td style=\"text-align: right;\">-0.202214 </td><td style=\"text-align: right;\">0.132014 </td><td style=\"text-align: right;\">0.0781795</td><td style=\"text-align: right;\"> 0.00858524</td><td style=\"text-align: right;\"> 0.068561  </td><td style=\"text-align: right;\">-0.00190771</td><td style=\"text-align: right;\">0.176347 </td><td style=\"text-align: right;\"> 0.0460341  </td><td style=\"text-align: right;\">0.148644 </td><td style=\"text-align: right;\">-0.00967915</td><td style=\"text-align: right;\"> 0.0789254 </td><td style=\"text-align: right;\">-0.0148036 </td><td style=\"text-align: right;\">-0.00950676</td><td style=\"text-align: right;\"> 0.103527 </td><td style=\"text-align: right;\"> 0.130755 </td><td style=\"text-align: right;\"> 0.00962094</td><td style=\"text-align: right;\"> 0.122132 </td><td style=\"text-align: right;\"> 0.0175181  </td><td style=\"text-align: right;\">-0.137231</td><td style=\"text-align: right;\">-0.0756209  </td><td style=\"text-align: right;\"> 0.0475817  </td><td style=\"text-align: right;\">-0.114898  </td><td style=\"text-align: right;\"> 0.0165424 </td><td style=\"text-align: right;\"> 0.0895087 </td><td style=\"text-align: right;\"> 0.00670301</td><td style=\"text-align: right;\"> 0.0653747 </td><td style=\"text-align: right;\">-0.150526 </td><td style=\"text-align: right;\"> 0.0469406 </td><td style=\"text-align: right;\">-0.00366403</td><td style=\"text-align: right;\"> 0.124808  </td><td style=\"text-align: right;\">-0.147059 </td><td style=\"text-align: right;\">-0.0899216 </td><td style=\"text-align: right;\"> 0.0336352 </td><td style=\"text-align: right;\"> 0.0511398 </td><td style=\"text-align: right;\">-0.230417</td><td style=\"text-align: right;\">-0.0700995 </td><td style=\"text-align: right;\">-0.0969043 </td><td style=\"text-align: right;\">-0.124404  </td><td style=\"text-align: right;\">-0.0808247</td><td style=\"text-align: right;\">0.12987  </td><td style=\"text-align: right;\">-0.0841681 </td><td style=\"text-align: right;\"> 0.0138979 </td><td style=\"text-align: right;\">-0.0869316 </td><td style=\"text-align: right;\"> 0.0270348 </td><td style=\"text-align: right;\"> 0.0378613 </td><td style=\"text-align: right;\"> 0.0123046 </td><td style=\"text-align: right;\">-0.0816082</td><td style=\"text-align: right;\">-0.0191247</td></tr>\n",
       "<tr><td style=\"text-align: right;\"> 0.0265577 </td><td style=\"text-align: right;\"> 0.0719119  </td><td style=\"text-align: right;\"> 0.00105605</td><td style=\"text-align: right;\"> 0.0239039 </td><td style=\"text-align: right;\"> 0.0469006 </td><td style=\"text-align: right;\">-0.0978028</td><td style=\"text-align: right;\">-0.0121789 </td><td style=\"text-align: right;\"> 0.0335286 </td><td style=\"text-align: right;\"> 0.00809974</td><td style=\"text-align: right;\">-0.200502 </td><td style=\"text-align: right;\">-0.0718121</td><td style=\"text-align: right;\">-0.270962</td><td style=\"text-align: right;\">0.0581416 </td><td style=\"text-align: right;\">-0.0152059</td><td style=\"text-align: right;\">-0.0798326 </td><td style=\"text-align: right;\"> 0.0633996  </td><td style=\"text-align: right;\"> 0.11655  </td><td style=\"text-align: right;\">-0.0218619 </td><td style=\"text-align: right;\">-0.0616411  </td><td style=\"text-align: right;\"> 0.0806127</td><td style=\"text-align: right;\">0.241763</td><td style=\"text-align: right;\">-0.0301582 </td><td style=\"text-align: right;\"> 0.0461934 </td><td style=\"text-align: right;\"> 0.0659742</td><td style=\"text-align: right;\"> 0.173038 </td><td style=\"text-align: right;\"> 0.0275301</td><td style=\"text-align: right;\">-0.132386  </td><td style=\"text-align: right;\">-0.171537 </td><td style=\"text-align: right;\">-0.170796 </td><td style=\"text-align: right;\">-0.013721 </td><td style=\"text-align: right;\">-0.0528392 </td><td style=\"text-align: right;\">0.289395 </td><td style=\"text-align: right;\">0.187602 </td><td style=\"text-align: right;\">-0.0222288  </td><td style=\"text-align: right;\">-0.0448023</td><td style=\"text-align: right;\"> 0.0142614</td><td style=\"text-align: right;\">-0.0444147 </td><td style=\"text-align: right;\">-0.0505386  </td><td style=\"text-align: right;\">0.126023 </td><td style=\"text-align: right;\"> 0.0895761 </td><td style=\"text-align: right;\"> 0.0501047</td><td style=\"text-align: right;\"> 0.0305495</td><td style=\"text-align: right;\">0.275694</td><td style=\"text-align: right;\">-0.0190927 </td><td style=\"text-align: right;\">-0.174637 </td><td style=\"text-align: right;\">0.0941839</td><td style=\"text-align: right;\">0.188489</td><td style=\"text-align: right;\">-0.054458  </td><td style=\"text-align: right;\"> 0.199008</td><td style=\"text-align: right;\">-0.0228371</td><td style=\"text-align: right;\">0.161101 </td><td style=\"text-align: right;\"> 0.00561678</td><td style=\"text-align: right;\">-0.121633 </td><td style=\"text-align: right;\">0.145196 </td><td style=\"text-align: right;\">0.152741 </td><td style=\"text-align: right;\"> 0.086865  </td><td style=\"text-align: right;\"> 0.0178401 </td><td style=\"text-align: right;\">-0.0568654 </td><td style=\"text-align: right;\">0.156779 </td><td style=\"text-align: right;\"> 0.00758243 </td><td style=\"text-align: right;\">0.0571219</td><td style=\"text-align: right;\"> 0.0453022 </td><td style=\"text-align: right;\">-0.00968117</td><td style=\"text-align: right;\"> 0.0141392 </td><td style=\"text-align: right;\"> 0.00687026</td><td style=\"text-align: right;\">-0.0470785</td><td style=\"text-align: right;\">-0.0229139</td><td style=\"text-align: right;\"> 0.00840402</td><td style=\"text-align: right;\">-0.0613603</td><td style=\"text-align: right;\">-0.000308234</td><td style=\"text-align: right;\">-0.129688</td><td style=\"text-align: right;\">-0.106283   </td><td style=\"text-align: right;\">-0.144008   </td><td style=\"text-align: right;\">-0.0445977 </td><td style=\"text-align: right;\">-0.0371409 </td><td style=\"text-align: right;\"> 0.126647  </td><td style=\"text-align: right;\"> 0.15211   </td><td style=\"text-align: right;\"> 0.0887891 </td><td style=\"text-align: right;\">-0.0895611</td><td style=\"text-align: right;\"> 0.0349482 </td><td style=\"text-align: right;\">-0.0748492 </td><td style=\"text-align: right;\"> 0.0641708 </td><td style=\"text-align: right;\">-0.104824 </td><td style=\"text-align: right;\">-0.059756  </td><td style=\"text-align: right;\"> 0.00416533</td><td style=\"text-align: right;\">-0.00215455</td><td style=\"text-align: right;\">-0.174693</td><td style=\"text-align: right;\"> 0.037787  </td><td style=\"text-align: right;\">-0.0761937 </td><td style=\"text-align: right;\">-0.0320835 </td><td style=\"text-align: right;\">-0.100671 </td><td style=\"text-align: right;\">0.0676627</td><td style=\"text-align: right;\"> 0.00757504</td><td style=\"text-align: right;\">-0.113608  </td><td style=\"text-align: right;\">-0.0333596 </td><td style=\"text-align: right;\"> 0.109952  </td><td style=\"text-align: right;\"> 0.00881687</td><td style=\"text-align: right;\">-0.00510369</td><td style=\"text-align: right;\">-0.0978736</td><td style=\"text-align: right;\">-0.0556952</td></tr>\n",
       "<tr><td style=\"text-align: right;\"> 0.00995215</td><td style=\"text-align: right;\"> 0.0760008  </td><td style=\"text-align: right;\">-0.0535228 </td><td style=\"text-align: right;\"> 0.154772  </td><td style=\"text-align: right;\"> 0.185106  </td><td style=\"text-align: right;\">-0.129362 </td><td style=\"text-align: right;\">-0.0269809 </td><td style=\"text-align: right;\"> 0.157294  </td><td style=\"text-align: right;\"> 0.0403673 </td><td style=\"text-align: right;\">-0.148146 </td><td style=\"text-align: right;\">-0.0930598</td><td style=\"text-align: right;\">-0.225084</td><td style=\"text-align: right;\">0.0877337 </td><td style=\"text-align: right;\">-0.140239 </td><td style=\"text-align: right;\">-0.086897  </td><td style=\"text-align: right;\"> 0.0918106  </td><td style=\"text-align: right;\"> 0.0176566</td><td style=\"text-align: right;\"> 0.0017623 </td><td style=\"text-align: right;\">-0.0112617  </td><td style=\"text-align: right;\"> 0.103855 </td><td style=\"text-align: right;\">0.133372</td><td style=\"text-align: right;\"> 0.0306123 </td><td style=\"text-align: right;\"> 0.111363  </td><td style=\"text-align: right;\"> 0.0854742</td><td style=\"text-align: right;\"> 0.0961251</td><td style=\"text-align: right;\"> 0.110681 </td><td style=\"text-align: right;\">-0.151985  </td><td style=\"text-align: right;\">-0.0701304</td><td style=\"text-align: right;\">-0.165099 </td><td style=\"text-align: right;\">-0.056704 </td><td style=\"text-align: right;\">-0.0900694 </td><td style=\"text-align: right;\">0.316234 </td><td style=\"text-align: right;\">0.180069 </td><td style=\"text-align: right;\">-0.0680177  </td><td style=\"text-align: right;\">-0.0513012</td><td style=\"text-align: right;\"> 0.0238021</td><td style=\"text-align: right;\">-0.0305814 </td><td style=\"text-align: right;\">-0.0831132  </td><td style=\"text-align: right;\">0.121482 </td><td style=\"text-align: right;\"> 0.0651214 </td><td style=\"text-align: right;\"> 0.0315235</td><td style=\"text-align: right;\">-0.0713276</td><td style=\"text-align: right;\">0.109509</td><td style=\"text-align: right;\">-0.0205812 </td><td style=\"text-align: right;\">-0.0458679</td><td style=\"text-align: right;\">0.0396329</td><td style=\"text-align: right;\">0.184605</td><td style=\"text-align: right;\">-0.094128  </td><td style=\"text-align: right;\"> 0.291406</td><td style=\"text-align: right;\"> 0.0172855</td><td style=\"text-align: right;\">0.0813319</td><td style=\"text-align: right;\">-0.042253  </td><td style=\"text-align: right;\">-0.131664 </td><td style=\"text-align: right;\">0.164294 </td><td style=\"text-align: right;\">0.160766 </td><td style=\"text-align: right;\">-0.00192143</td><td style=\"text-align: right;\"> 0.105552  </td><td style=\"text-align: right;\"> 0.0116595 </td><td style=\"text-align: right;\">0.101607 </td><td style=\"text-align: right;\">-0.0534639  </td><td style=\"text-align: right;\">0.126829 </td><td style=\"text-align: right;\">-0.0297299 </td><td style=\"text-align: right;\">-0.00257022</td><td style=\"text-align: right;\"> 0.041843  </td><td style=\"text-align: right;\"> 0.156305  </td><td style=\"text-align: right;\"> 0.0903784</td><td style=\"text-align: right;\">-0.0531625</td><td style=\"text-align: right;\"> 0.100402  </td><td style=\"text-align: right;\"> 0.0456788</td><td style=\"text-align: right;\"> 0.0155731  </td><td style=\"text-align: right;\">-0.182183</td><td style=\"text-align: right;\">-0.125234   </td><td style=\"text-align: right;\"> 0.0172196  </td><td style=\"text-align: right;\">-0.0526655 </td><td style=\"text-align: right;\">-0.0102391 </td><td style=\"text-align: right;\"> 0.128241  </td><td style=\"text-align: right;\"> 0.0201192 </td><td style=\"text-align: right;\"> 0.123614  </td><td style=\"text-align: right;\">-0.140409 </td><td style=\"text-align: right;\">-0.0167103 </td><td style=\"text-align: right;\">-0.0183102 </td><td style=\"text-align: right;\">-0.0228635 </td><td style=\"text-align: right;\">-0.13383  </td><td style=\"text-align: right;\">-0.0569782 </td><td style=\"text-align: right;\">-0.0463173 </td><td style=\"text-align: right;\"> 0.113888  </td><td style=\"text-align: right;\">-0.222161</td><td style=\"text-align: right;\">-0.101279  </td><td style=\"text-align: right;\">-0.0430515 </td><td style=\"text-align: right;\">-0.0368286 </td><td style=\"text-align: right;\">-0.108246 </td><td style=\"text-align: right;\">0.0905528</td><td style=\"text-align: right;\">-0.038485  </td><td style=\"text-align: right;\">-0.120238  </td><td style=\"text-align: right;\">-0.121546  </td><td style=\"text-align: right;\"> 0.0842336 </td><td style=\"text-align: right;\"> 0.0141964 </td><td style=\"text-align: right;\"> 0.080095  </td><td style=\"text-align: right;\">-0.132262 </td><td style=\"text-align: right;\">-0.0965841</td></tr>\n",
       "<tr><td style=\"text-align: right;\"> 0.00302714</td><td style=\"text-align: right;\"> 0.000654522</td><td style=\"text-align: right;\"> 0.119998  </td><td style=\"text-align: right;\"> 0.0327982 </td><td style=\"text-align: right;\">-0.122491  </td><td style=\"text-align: right;\"> 0.0207158</td><td style=\"text-align: right;\"> 0.029539  </td><td style=\"text-align: right;\">-0.0391799 </td><td style=\"text-align: right;\"> 0.0939897 </td><td style=\"text-align: right;\">-0.0079826</td><td style=\"text-align: right;\">-0.0972797</td><td style=\"text-align: right;\">-0.533132</td><td style=\"text-align: right;\">0.0651274 </td><td style=\"text-align: right;\"> 0.032517 </td><td style=\"text-align: right;\">-0.131467  </td><td style=\"text-align: right;\">-0.0373168  </td><td style=\"text-align: right;\">-0.107073 </td><td style=\"text-align: right;\">-0.0102901 </td><td style=\"text-align: right;\">-0.0234991  </td><td style=\"text-align: right;\"> 0.0136708</td><td style=\"text-align: right;\">0.163463</td><td style=\"text-align: right;\">-0.0938197 </td><td style=\"text-align: right;\">-0.00908032</td><td style=\"text-align: right;\"> 0.0605449</td><td style=\"text-align: right;\"> 0.0279243</td><td style=\"text-align: right;\"> 0.116948 </td><td style=\"text-align: right;\">-0.0766956 </td><td style=\"text-align: right;\">-0.0644604</td><td style=\"text-align: right;\">-0.0506485</td><td style=\"text-align: right;\"> 0.269987 </td><td style=\"text-align: right;\"> 0.0757036 </td><td style=\"text-align: right;\">0.248541 </td><td style=\"text-align: right;\">0.0104297</td><td style=\"text-align: right;\"> 0.0936044  </td><td style=\"text-align: right;\">-0.0504999</td><td style=\"text-align: right;\"> 0.036909 </td><td style=\"text-align: right;\">-0.104517  </td><td style=\"text-align: right;\">-0.000441656</td><td style=\"text-align: right;\">0.0511545</td><td style=\"text-align: right;\">-0.0433088 </td><td style=\"text-align: right;\"> 0.129953 </td><td style=\"text-align: right;\"> 0.183702 </td><td style=\"text-align: right;\">0.104274</td><td style=\"text-align: right;\"> 0.0970044 </td><td style=\"text-align: right;\">-0.155185 </td><td style=\"text-align: right;\">0.0150534</td><td style=\"text-align: right;\">0.249688</td><td style=\"text-align: right;\"> 0.0096046 </td><td style=\"text-align: right;\"> 0.338273</td><td style=\"text-align: right;\">-0.0510115</td><td style=\"text-align: right;\">0.149047 </td><td style=\"text-align: right;\"> 0.0893299 </td><td style=\"text-align: right;\">-0.0402627</td><td style=\"text-align: right;\">0.171278 </td><td style=\"text-align: right;\">0.330362 </td><td style=\"text-align: right;\">-0.190705  </td><td style=\"text-align: right;\">-0.0595584 </td><td style=\"text-align: right;\"> 0.0310396 </td><td style=\"text-align: right;\">0.156912 </td><td style=\"text-align: right;\">-6.15433e-05</td><td style=\"text-align: right;\">0.219394 </td><td style=\"text-align: right;\">-0.0135462 </td><td style=\"text-align: right;\"> 0.1173    </td><td style=\"text-align: right;\"> 0.109808  </td><td style=\"text-align: right;\"> 0.0855926 </td><td style=\"text-align: right;\">-0.0622457</td><td style=\"text-align: right;\"> 0.081092 </td><td style=\"text-align: right;\"> 0.0976926 </td><td style=\"text-align: right;\">-0.0986194</td><td style=\"text-align: right;\"> 0.0359364  </td><td style=\"text-align: right;\">-0.154878</td><td style=\"text-align: right;\">-0.0320489  </td><td style=\"text-align: right;\"> 0.00318756 </td><td style=\"text-align: right;\">-0.190731  </td><td style=\"text-align: right;\"> 0.00776768</td><td style=\"text-align: right;\">-0.00901993</td><td style=\"text-align: right;\"> 0.110274  </td><td style=\"text-align: right;\">-0.04821   </td><td style=\"text-align: right;\">-0.0248505</td><td style=\"text-align: right;\"> 0.00625491</td><td style=\"text-align: right;\">-0.0104963 </td><td style=\"text-align: right;\">-0.0124921 </td><td style=\"text-align: right;\">-0.0178226</td><td style=\"text-align: right;\">-0.0866919 </td><td style=\"text-align: right;\"> 0.0192018 </td><td style=\"text-align: right;\"> 0.242736  </td><td style=\"text-align: right;\">-0.214485</td><td style=\"text-align: right;\"> 0.0840511 </td><td style=\"text-align: right;\">-0.0994229 </td><td style=\"text-align: right;\">-0.14774   </td><td style=\"text-align: right;\">-0.234758 </td><td style=\"text-align: right;\">0.212025 </td><td style=\"text-align: right;\"> 0.0928694 </td><td style=\"text-align: right;\">-0.0597823 </td><td style=\"text-align: right;\">-0.0729364 </td><td style=\"text-align: right;\"> 0.00694839</td><td style=\"text-align: right;\"> 0.0102242 </td><td style=\"text-align: right;\"> 0.0545577 </td><td style=\"text-align: right;\">-0.0215151</td><td style=\"text-align: right;\"> 0.0432527</td></tr>\n",
       "<tr><td style=\"text-align: right;\"> 0.139935  </td><td style=\"text-align: right;\">-0.0499113  </td><td style=\"text-align: right;\"> 0.0459505 </td><td style=\"text-align: right;\"> 0.0886275 </td><td style=\"text-align: right;\"> 0.0282523 </td><td style=\"text-align: right;\">-0.0258293</td><td style=\"text-align: right;\">-0.0489997 </td><td style=\"text-align: right;\"> 0.0260889 </td><td style=\"text-align: right;\"> 0.0155774 </td><td style=\"text-align: right;\">-0.188942 </td><td style=\"text-align: right;\">-0.0352248</td><td style=\"text-align: right;\">-0.285951</td><td style=\"text-align: right;\">0.0450893 </td><td style=\"text-align: right;\">-0.0771111</td><td style=\"text-align: right;\"> 0.00378632</td><td style=\"text-align: right;\">-0.0526679  </td><td style=\"text-align: right;\"> 0.0336302</td><td style=\"text-align: right;\"> 0.0376658 </td><td style=\"text-align: right;\">-0.0326109  </td><td style=\"text-align: right;\"> 0.201353 </td><td style=\"text-align: right;\">0.106017</td><td style=\"text-align: right;\">-0.101525  </td><td style=\"text-align: right;\"> 0.22104   </td><td style=\"text-align: right;\"> 0.0501629</td><td style=\"text-align: right;\"> 0.12448  </td><td style=\"text-align: right;\">-0.0921809</td><td style=\"text-align: right;\">-0.13474   </td><td style=\"text-align: right;\">-0.0748832</td><td style=\"text-align: right;\">-0.243309 </td><td style=\"text-align: right;\"> 0.103286 </td><td style=\"text-align: right;\">-0.0229134 </td><td style=\"text-align: right;\">0.213161 </td><td style=\"text-align: right;\">0.220664 </td><td style=\"text-align: right;\"> 0.0221943  </td><td style=\"text-align: right;\"> 0.0451452</td><td style=\"text-align: right;\">-0.0344344</td><td style=\"text-align: right;\">-0.00354941</td><td style=\"text-align: right;\">-0.0350347  </td><td style=\"text-align: right;\">0.112221 </td><td style=\"text-align: right;\">-0.00874578</td><td style=\"text-align: right;\"> 0.0637588</td><td style=\"text-align: right;\"> 0.176923 </td><td style=\"text-align: right;\">0.12615 </td><td style=\"text-align: right;\"> 0.0780285 </td><td style=\"text-align: right;\">-0.222488 </td><td style=\"text-align: right;\">0.086405 </td><td style=\"text-align: right;\">0.182106</td><td style=\"text-align: right;\">-0.00937203</td><td style=\"text-align: right;\">-0.113534</td><td style=\"text-align: right;\"> 0.0363245</td><td style=\"text-align: right;\">0.0105824</td><td style=\"text-align: right;\"> 0.0394214 </td><td style=\"text-align: right;\">-0.120157 </td><td style=\"text-align: right;\">0.111814 </td><td style=\"text-align: right;\">0.0383228</td><td style=\"text-align: right;\">-0.0933239 </td><td style=\"text-align: right;\"> 0.127472  </td><td style=\"text-align: right;\"> 0.0827451 </td><td style=\"text-align: right;\">0.254653 </td><td style=\"text-align: right;\">-0.128006   </td><td style=\"text-align: right;\">0.184977 </td><td style=\"text-align: right;\">-0.0513716 </td><td style=\"text-align: right;\">-0.0193223 </td><td style=\"text-align: right;\"> 0.00593158</td><td style=\"text-align: right;\"> 0.129043  </td><td style=\"text-align: right;\"> 0.252821 </td><td style=\"text-align: right;\">-0.121743 </td><td style=\"text-align: right;\"> 0.00859881</td><td style=\"text-align: right;\">-0.028229 </td><td style=\"text-align: right;\"> 0.0112267  </td><td style=\"text-align: right;\">-0.15348 </td><td style=\"text-align: right;\">-0.0598343  </td><td style=\"text-align: right;\">-0.0340272  </td><td style=\"text-align: right;\"> 0.00766735</td><td style=\"text-align: right;\"> 0.124796  </td><td style=\"text-align: right;\"> 0.18035   </td><td style=\"text-align: right;\">-0.00628373</td><td style=\"text-align: right;\">-0.0152886 </td><td style=\"text-align: right;\">-0.160774 </td><td style=\"text-align: right;\"> 0.096712  </td><td style=\"text-align: right;\"> 0.0106961 </td><td style=\"text-align: right;\"> 0.00470301</td><td style=\"text-align: right;\">-0.0588797</td><td style=\"text-align: right;\">-0.142646  </td><td style=\"text-align: right;\"> 0.0168955 </td><td style=\"text-align: right;\"> 0.0981256 </td><td style=\"text-align: right;\">-0.289316</td><td style=\"text-align: right;\"> 0.0302926 </td><td style=\"text-align: right;\"> 0.0374997 </td><td style=\"text-align: right;\">-0.0235394 </td><td style=\"text-align: right;\">-0.250036 </td><td style=\"text-align: right;\">0.169536 </td><td style=\"text-align: right;\">-0.0581529 </td><td style=\"text-align: right;\"> 0.00410336</td><td style=\"text-align: right;\"> 0.0875803 </td><td style=\"text-align: right;\"> 0.018905  </td><td style=\"text-align: right;\"> 0.0367104 </td><td style=\"text-align: right;\"> 0.0848884 </td><td style=\"text-align: right;\">-0.0460984</td><td style=\"text-align: right;\"> 0.0462211</td></tr>\n",
       "<tr><td style=\"text-align: right;\"> 0.0088565 </td><td style=\"text-align: right;\"> 0.0694556  </td><td style=\"text-align: right;\"> 0.088523  </td><td style=\"text-align: right;\">-0.0268801 </td><td style=\"text-align: right;\">-0.105455  </td><td style=\"text-align: right;\">-0.0337137</td><td style=\"text-align: right;\">-0.0147538 </td><td style=\"text-align: right;\">-0.00421905</td><td style=\"text-align: right;\"> 0.0719848 </td><td style=\"text-align: right;\">-0.0548744</td><td style=\"text-align: right;\">-0.0574289</td><td style=\"text-align: right;\">-0.359162</td><td style=\"text-align: right;\">0.0559024 </td><td style=\"text-align: right;\"> 0.0611042</td><td style=\"text-align: right;\">-0.136039  </td><td style=\"text-align: right;\"> 0.000165164</td><td style=\"text-align: right;\">-0.0911484</td><td style=\"text-align: right;\">-0.00516617</td><td style=\"text-align: right;\">-0.104385   </td><td style=\"text-align: right;\"> 0.0269003</td><td style=\"text-align: right;\">0.219131</td><td style=\"text-align: right;\">-0.0856115 </td><td style=\"text-align: right;\"> 0.137255  </td><td style=\"text-align: right;\"> 0.111152 </td><td style=\"text-align: right;\"> 0.0830475</td><td style=\"text-align: right;\"> 0.0226353</td><td style=\"text-align: right;\">-0.11774   </td><td style=\"text-align: right;\">-0.0898248</td><td style=\"text-align: right;\">-0.0685666</td><td style=\"text-align: right;\"> 0.120994 </td><td style=\"text-align: right;\"> 0.0204737 </td><td style=\"text-align: right;\">0.236898 </td><td style=\"text-align: right;\">0.176868 </td><td style=\"text-align: right;\"> 0.000313451</td><td style=\"text-align: right;\">-0.0250879</td><td style=\"text-align: right;\"> 0.0987043</td><td style=\"text-align: right;\">-0.0176875 </td><td style=\"text-align: right;\"> 0.117027   </td><td style=\"text-align: right;\">0.194196 </td><td style=\"text-align: right;\"> 0.101851  </td><td style=\"text-align: right;\"> 0.0187415</td><td style=\"text-align: right;\"> 0.196283 </td><td style=\"text-align: right;\">0.139432</td><td style=\"text-align: right;\"> 0.00834047</td><td style=\"text-align: right;\">-0.107546 </td><td style=\"text-align: right;\">0.0212492</td><td style=\"text-align: right;\">0.146776</td><td style=\"text-align: right;\">-0.0206805 </td><td style=\"text-align: right;\"> 0.183954</td><td style=\"text-align: right;\"> 0.0730948</td><td style=\"text-align: right;\">0.127436 </td><td style=\"text-align: right;\">-0.00592279</td><td style=\"text-align: right;\">-0.118872 </td><td style=\"text-align: right;\">0.0641974</td><td style=\"text-align: right;\">0.158748 </td><td style=\"text-align: right;\">-0.00381817</td><td style=\"text-align: right;\">-0.0609516 </td><td style=\"text-align: right;\">-0.0329393 </td><td style=\"text-align: right;\">0.0678455</td><td style=\"text-align: right;\">-0.0551507  </td><td style=\"text-align: right;\">0.214581 </td><td style=\"text-align: right;\">-0.0175743 </td><td style=\"text-align: right;\"> 0.0969725 </td><td style=\"text-align: right;\"> 0.0492039 </td><td style=\"text-align: right;\">-0.00832102</td><td style=\"text-align: right;\"> 0.0159947</td><td style=\"text-align: right;\">-0.0065945</td><td style=\"text-align: right;\"> 0.0824777 </td><td style=\"text-align: right;\">-0.0889685</td><td style=\"text-align: right;\"> 0.0682551  </td><td style=\"text-align: right;\">-0.164062</td><td style=\"text-align: right;\">-0.0480289  </td><td style=\"text-align: right;\">-0.0230717  </td><td style=\"text-align: right;\">-0.149387  </td><td style=\"text-align: right;\"> 0.0476082 </td><td style=\"text-align: right;\"> 0.106481  </td><td style=\"text-align: right;\"> 0.00770948</td><td style=\"text-align: right;\">-0.0492188 </td><td style=\"text-align: right;\">-0.0836848</td><td style=\"text-align: right;\"> 0.0477554 </td><td style=\"text-align: right;\">-0.0701182 </td><td style=\"text-align: right;\"> 0.0354498 </td><td style=\"text-align: right;\">-0.119483 </td><td style=\"text-align: right;\">-0.101679  </td><td style=\"text-align: right;\"> 0.0538718 </td><td style=\"text-align: right;\"> 0.174576  </td><td style=\"text-align: right;\">-0.226213</td><td style=\"text-align: right;\">-0.00521951</td><td style=\"text-align: right;\">-0.119957  </td><td style=\"text-align: right;\">-0.0724494 </td><td style=\"text-align: right;\">-0.180357 </td><td style=\"text-align: right;\">0.175187 </td><td style=\"text-align: right;\"> 0.102629  </td><td style=\"text-align: right;\">-0.179842  </td><td style=\"text-align: right;\"> 0.026902  </td><td style=\"text-align: right;\"> 0.0734715 </td><td style=\"text-align: right;\">-0.0156369 </td><td style=\"text-align: right;\"> 0.0198031 </td><td style=\"text-align: right;\">-0.103032 </td><td style=\"text-align: right;\"> 0.0295185</td></tr>\n",
       "<tr><td style=\"text-align: right;\">-0.0364686 </td><td style=\"text-align: right;\"> 0.0085311  </td><td style=\"text-align: right;\"> 0.0388647 </td><td style=\"text-align: right;\">-0.0372406 </td><td style=\"text-align: right;\"> 0.00087125</td><td style=\"text-align: right;\">-0.139454 </td><td style=\"text-align: right;\">-0.00646634</td><td style=\"text-align: right;\"> 0.0786097 </td><td style=\"text-align: right;\">-0.0346979 </td><td style=\"text-align: right;\">-0.0875113</td><td style=\"text-align: right;\">-0.105552 </td><td style=\"text-align: right;\">-0.318963</td><td style=\"text-align: right;\">0.200469  </td><td style=\"text-align: right;\">-0.0774414</td><td style=\"text-align: right;\"> 0.00248095</td><td style=\"text-align: right;\">-0.0212236  </td><td style=\"text-align: right;\">-0.0248703</td><td style=\"text-align: right;\"> 0.0356756 </td><td style=\"text-align: right;\">-0.0359385  </td><td style=\"text-align: right;\"> 0.062594 </td><td style=\"text-align: right;\">0.181592</td><td style=\"text-align: right;\"> 0.00975027</td><td style=\"text-align: right;\"> 0.0731946 </td><td style=\"text-align: right;\"> 0.0521037</td><td style=\"text-align: right;\"> 0.0766787</td><td style=\"text-align: right;\"> 0.0232794</td><td style=\"text-align: right;\">-0.144433  </td><td style=\"text-align: right;\">-0.0383721</td><td style=\"text-align: right;\">-0.153343 </td><td style=\"text-align: right;\"> 0.144961 </td><td style=\"text-align: right;\"> 0.00629914</td><td style=\"text-align: right;\">0.184713 </td><td style=\"text-align: right;\">0.0809127</td><td style=\"text-align: right;\">-0.0736627  </td><td style=\"text-align: right;\">-0.0385087</td><td style=\"text-align: right;\"> 0.0659452</td><td style=\"text-align: right;\">-0.0305611 </td><td style=\"text-align: right;\"> 0.0795375  </td><td style=\"text-align: right;\">0.150942 </td><td style=\"text-align: right;\"> 0.0478335 </td><td style=\"text-align: right;\">-0.0267536</td><td style=\"text-align: right;\"> 0.0938058</td><td style=\"text-align: right;\">0.117604</td><td style=\"text-align: right;\"> 0.153724  </td><td style=\"text-align: right;\">-0.23384  </td><td style=\"text-align: right;\">0.100722 </td><td style=\"text-align: right;\">0.15396 </td><td style=\"text-align: right;\">-0.00831898</td><td style=\"text-align: right;\"> 0.331013</td><td style=\"text-align: right;\"> 0.0946175</td><td style=\"text-align: right;\">0.146534 </td><td style=\"text-align: right;\">-0.00492332</td><td style=\"text-align: right;\">-0.138349 </td><td style=\"text-align: right;\">0.141902 </td><td style=\"text-align: right;\">0.232426 </td><td style=\"text-align: right;\">-0.0275406 </td><td style=\"text-align: right;\">-0.00893792</td><td style=\"text-align: right;\">-0.0713897 </td><td style=\"text-align: right;\">0.240112 </td><td style=\"text-align: right;\">-0.00929391 </td><td style=\"text-align: right;\">0.11878  </td><td style=\"text-align: right;\">-0.0378493 </td><td style=\"text-align: right;\"> 0.0829146 </td><td style=\"text-align: right;\">-0.0620432 </td><td style=\"text-align: right;\"> 0.0737735 </td><td style=\"text-align: right;\">-0.0851568</td><td style=\"text-align: right;\"> 0.013596 </td><td style=\"text-align: right;\"> 0.104348  </td><td style=\"text-align: right;\">-0.072917 </td><td style=\"text-align: right;\">-0.0208584  </td><td style=\"text-align: right;\">-0.198831</td><td style=\"text-align: right;\">-0.0776526  </td><td style=\"text-align: right;\"> 0.0460053  </td><td style=\"text-align: right;\">-0.13191   </td><td style=\"text-align: right;\">-0.00275966</td><td style=\"text-align: right;\"> 0.13581   </td><td style=\"text-align: right;\"> 0.0791753 </td><td style=\"text-align: right;\">-0.0613407 </td><td style=\"text-align: right;\">-0.0954938</td><td style=\"text-align: right;\">-0.0666468 </td><td style=\"text-align: right;\">-0.0715938 </td><td style=\"text-align: right;\"> 0.10827   </td><td style=\"text-align: right;\">-0.11399  </td><td style=\"text-align: right;\">-0.00647476</td><td style=\"text-align: right;\"> 0.0297042 </td><td style=\"text-align: right;\"> 0.0729223 </td><td style=\"text-align: right;\">-0.146087</td><td style=\"text-align: right;\"> 0.00945788</td><td style=\"text-align: right;\">-0.00785781</td><td style=\"text-align: right;\">-0.0349855 </td><td style=\"text-align: right;\">-0.194132 </td><td style=\"text-align: right;\">0.141315 </td><td style=\"text-align: right;\"> 0.0423391 </td><td style=\"text-align: right;\">-0.10721   </td><td style=\"text-align: right;\">-0.0328915 </td><td style=\"text-align: right;\"> 0.0250073 </td><td style=\"text-align: right;\"> 0.0179355 </td><td style=\"text-align: right;\"> 0.0643468 </td><td style=\"text-align: right;\">-0.101444 </td><td style=\"text-align: right;\"> 0.0165676</td></tr>\n",
       "<tr><td style=\"text-align: right;\"> 0.12189   </td><td style=\"text-align: right;\"> 0.0380412  </td><td style=\"text-align: right;\"> 0.227481  </td><td style=\"text-align: right;\"> 0.00690168</td><td style=\"text-align: right;\">-0.226768  </td><td style=\"text-align: right;\">-0.0886299</td><td style=\"text-align: right;\">-0.188861  </td><td style=\"text-align: right;\">-0.007078  </td><td style=\"text-align: right;\"> 0.0671775 </td><td style=\"text-align: right;\"> 0.213533 </td><td style=\"text-align: right;\">-0.172141 </td><td style=\"text-align: right;\">-0.27902 </td><td style=\"text-align: right;\">0.0813773 </td><td style=\"text-align: right;\"> 0.21184  </td><td style=\"text-align: right;\">-0.0351306 </td><td style=\"text-align: right;\">-0.285174   </td><td style=\"text-align: right;\"> 0.063498 </td><td style=\"text-align: right;\"> 0.396987  </td><td style=\"text-align: right;\">-0.000850072</td><td style=\"text-align: right;\">-0.220324 </td><td style=\"text-align: right;\">0.340516</td><td style=\"text-align: right;\">-0.0318264 </td><td style=\"text-align: right;\"> 0.0892889 </td><td style=\"text-align: right;\">-0.0322674</td><td style=\"text-align: right;\">-0.290703 </td><td style=\"text-align: right;\"> 0.0329914</td><td style=\"text-align: right;\"> 0.00982522</td><td style=\"text-align: right;\">-0.0743469</td><td style=\"text-align: right;\"> 0.103351 </td><td style=\"text-align: right;\"> 0.421832 </td><td style=\"text-align: right;\"> 0.0346608 </td><td style=\"text-align: right;\">0.0625098</td><td style=\"text-align: right;\">0.342402 </td><td style=\"text-align: right;\">-0.224651   </td><td style=\"text-align: right;\"> 0.237791 </td><td style=\"text-align: right;\">-0.177974 </td><td style=\"text-align: right;\"> 0.148188  </td><td style=\"text-align: right;\">-0.0440472  </td><td style=\"text-align: right;\">0.0823191</td><td style=\"text-align: right;\"> 0.118615  </td><td style=\"text-align: right;\"> 0.0715205</td><td style=\"text-align: right;\"> 0.193009 </td><td style=\"text-align: right;\">0.122974</td><td style=\"text-align: right;\"> 0.0439091 </td><td style=\"text-align: right;\">-0.1862   </td><td style=\"text-align: right;\">0.102811 </td><td style=\"text-align: right;\">0.158781</td><td style=\"text-align: right;\"> 0.0233115 </td><td style=\"text-align: right;\"> 0.559099</td><td style=\"text-align: right;\"> 0.0131613</td><td style=\"text-align: right;\">0.132176 </td><td style=\"text-align: right;\"> 0.00503909</td><td style=\"text-align: right;\">-0.228483 </td><td style=\"text-align: right;\">0.307578 </td><td style=\"text-align: right;\">0.116123 </td><td style=\"text-align: right;\"> 0.263169  </td><td style=\"text-align: right;\">-0.020651  </td><td style=\"text-align: right;\">-0.014229  </td><td style=\"text-align: right;\">0.482204 </td><td style=\"text-align: right;\"> 0.259377   </td><td style=\"text-align: right;\">0.0774409</td><td style=\"text-align: right;\">-0.103997  </td><td style=\"text-align: right;\">-0.0057575 </td><td style=\"text-align: right;\"> 0.110846  </td><td style=\"text-align: right;\">-0.104778  </td><td style=\"text-align: right;\">-0.148637 </td><td style=\"text-align: right;\">-0.176537 </td><td style=\"text-align: right;\">-0.161174  </td><td style=\"text-align: right;\">-0.357649 </td><td style=\"text-align: right;\">-0.157128   </td><td style=\"text-align: right;\">-0.338687</td><td style=\"text-align: right;\">-0.289916   </td><td style=\"text-align: right;\">-0.0385664  </td><td style=\"text-align: right;\">-0.335982  </td><td style=\"text-align: right;\"> 0.113872  </td><td style=\"text-align: right;\"> 0.0494272 </td><td style=\"text-align: right;\"> 0.0135984 </td><td style=\"text-align: right;\">-0.0587052 </td><td style=\"text-align: right;\">-0.177871 </td><td style=\"text-align: right;\">-0.00790216</td><td style=\"text-align: right;\"> 0.123614  </td><td style=\"text-align: right;\">-0.052164  </td><td style=\"text-align: right;\"> 0.0361886</td><td style=\"text-align: right;\"> 0.11786   </td><td style=\"text-align: right;\"> 0.109551  </td><td style=\"text-align: right;\"> 0.128147  </td><td style=\"text-align: right;\">-0.274476</td><td style=\"text-align: right;\">-0.0952613 </td><td style=\"text-align: right;\"> 0.201213  </td><td style=\"text-align: right;\"> 0.0705121 </td><td style=\"text-align: right;\">-0.350031 </td><td style=\"text-align: right;\">0.334249 </td><td style=\"text-align: right;\">-0.260306  </td><td style=\"text-align: right;\">-0.269325  </td><td style=\"text-align: right;\"> 0.0101202 </td><td style=\"text-align: right;\">-0.0348991 </td><td style=\"text-align: right;\">-0.0221914 </td><td style=\"text-align: right;\"> 0.0356891 </td><td style=\"text-align: right;\">-0.0670541</td><td style=\"text-align: right;\">-0.0414625</td></tr>\n",
       "</tbody>\n",
       "</table>"
      ]
     },
     "metadata": {},
     "output_type": "display_data"
    },
    {
     "data": {
      "text/plain": []
     },
     "execution_count": 50,
     "metadata": {},
     "output_type": "execute_result"
    }
   ],
   "source": [
    "review_vecs"
   ]
  },
  {
   "cell_type": "code",
   "execution_count": 51,
   "metadata": {
    "collapsed": true
   },
   "outputs": [],
   "source": [
    "# Add aggregated word embeddings \n",
    "ext_reviews = reviews.cbind(review_vecs)"
   ]
  },
  {
   "cell_type": "code",
   "execution_count": 52,
   "metadata": {
    "collapsed": true
   },
   "outputs": [],
   "source": [
    "ext_train = ext_reviews[ext_reviews[\"Train\"] == \"Yes\"]\n",
    "ext_test = ext_reviews[ext_reviews[\"Train\"] == \"No\"]"
   ]
  },
  {
   "cell_type": "code",
   "execution_count": 53,
   "metadata": {
    "collapsed": false
   },
   "outputs": [
    {
     "name": "stdout",
     "output_type": "stream",
     "text": [
      "gbm Model Build progress: |███████████████████████████████████████████████| 100%\n"
     ]
    }
   ],
   "source": [
    "predictors = predictors + review_vecs.names\n",
    "response = 'PositiveReview'\n",
    "\n",
    "gbm_embeddings = H2OGradientBoostingEstimator(stopping_metric = \"AUC\", stopping_tolerance = 0.001,\n",
    "                                              stopping_rounds = 5, score_tree_interval = 10,\n",
    "                                              model_id = \"gbm_embeddings.hex\"\n",
    "                                             )\n",
    "gbm_embeddings.train(x = predictors, y = response, \n",
    "                   training_frame = ext_train, validation_frame = ext_test\n",
    "                  )"
   ]
  },
  {
   "cell_type": "code",
   "execution_count": 54,
   "metadata": {
    "collapsed": false
   },
   "outputs": [
    {
     "name": "stdout",
     "output_type": "stream",
     "text": [
      "Baseline AUC: 0.616\n",
      "With Embeddings AUC: 0.869\n"
     ]
    }
   ],
   "source": [
    "print(\"Baseline AUC: \" + str(round(gbm_baseline.auc(valid = True), 3)))\n",
    "print(\"With Embeddings AUC: \" + str(round(gbm_embeddings.auc(valid = True), 3)))"
   ]
  },
  {
   "cell_type": "code",
   "execution_count": 55,
   "metadata": {
    "collapsed": false
   },
   "outputs": [
    {
     "name": "stdout",
     "output_type": "stream",
     "text": [
      "Confusion Matrix (Act/Pred) for max f1 @ threshold = 0.5414789546991408: \n"
     ]
    },
    {
     "data": {
      "text/html": [
       "<div style=\"overflow:auto\"><table style=\"width:50%\"><tr><td><b></b></td>\n",
       "<td><b>0</b></td>\n",
       "<td><b>1</b></td>\n",
       "<td><b>Error</b></td>\n",
       "<td><b>Rate</b></td></tr>\n",
       "<tr><td>0</td>\n",
       "<td>1895.0</td>\n",
       "<td>2765.0</td>\n",
       "<td>0.5933</td>\n",
       "<td> (2765.0/4660.0)</td></tr>\n",
       "<tr><td>1</td>\n",
       "<td>535.0</td>\n",
       "<td>14813.0</td>\n",
       "<td>0.0349</td>\n",
       "<td> (535.0/15348.0)</td></tr>\n",
       "<tr><td>Total</td>\n",
       "<td>2430.0</td>\n",
       "<td>17578.0</td>\n",
       "<td>0.1649</td>\n",
       "<td> (3300.0/20008.0)</td></tr></table></div>"
      ],
      "text/plain": [
       "       0     1      Error    Rate\n",
       "-----  ----  -----  -------  ----------------\n",
       "0      1895  2765   0.5933   (2765.0/4660.0)\n",
       "1      535   14813  0.0349   (535.0/15348.0)\n",
       "Total  2430  17578  0.1649   (3300.0/20008.0)"
      ]
     },
     "metadata": {},
     "output_type": "display_data"
    },
    {
     "data": {
      "text/plain": []
     },
     "execution_count": 55,
     "metadata": {},
     "output_type": "execute_result"
    }
   ],
   "source": [
    "gbm_embeddings.confusion_matrix(valid = True)"
   ]
  },
  {
   "cell_type": "code",
   "execution_count": 56,
   "metadata": {
    "collapsed": false
   },
   "outputs": [
    {
     "data": {
      "image/png": "[encoded data removed]",
      "text/plain": [
       "<matplotlib.figure.Figure at 0x162a79ac8>"
      ]
     },
     "metadata": {},
     "output_type": "display_data"
    }
   ],
   "source": [
    "gbm_embeddings.varimp_plot()"
   ]
  },
  {
   "cell_type": "markdown",
   "metadata": {},
   "source": [
    "# Step 9 (of 11).  Run AutoML\n",
    "\n",
    "We will use H2O's AutoML to see if we can improve the performance further by exploring the algorithm and parameter space. "
   ]
  },
  {
   "cell_type": "code",
   "execution_count": 57,
   "metadata": {
    "collapsed": false
   },
   "outputs": [
    {
     "name": "stdout",
     "output_type": "stream",
     "text": [
      "AutoML progress: |████████████████████████████████████████████████████████| 100%\n"
     ]
    }
   ],
   "source": [
    "from h2o.automl import H2OAutoML\n",
    "\n",
    "automl = H2OAutoML(project_name = \"positive_reviews\", max_runtime_secs = 180, \n",
    "                   keep_cross_validation_models = False, keep_cross_validation_predictions = False,\n",
    "                   nfolds = 3, exclude_algos = [\"DRF\"], seed = 1234)\n",
    "automl.train(x = predictors, y = response, training_frame = ext_train, leaderboard_frame = ext_test)"
   ]
  },
  {
   "cell_type": "code",
   "execution_count": 58,
   "metadata": {
    "collapsed": false
   },
   "outputs": [
    {
     "data": {
      "text/html": [
       "<table>\n",
       "<thead>\n",
       "<tr><th>model_id                                             </th><th style=\"text-align: right;\">     auc</th><th style=\"text-align: right;\">  logloss</th><th style=\"text-align: right;\">  mean_per_class_error</th><th style=\"text-align: right;\">    rmse</th><th style=\"text-align: right;\">     mse</th></tr>\n",
       "</thead>\n",
       "<tbody>\n",
       "<tr><td>StackedEnsemble_BestOfFamily_0_AutoML_20180723_133736</td><td style=\"text-align: right;\">0.898887</td><td style=\"text-align: right;\"> 0.340446</td><td style=\"text-align: right;\">              0.253246</td><td style=\"text-align: right;\">0.323734</td><td style=\"text-align: right;\">0.104804</td></tr>\n",
       "<tr><td>StackedEnsemble_AllModels_0_AutoML_20180723_133736   </td><td style=\"text-align: right;\">0.898485</td><td style=\"text-align: right;\"> 0.342181</td><td style=\"text-align: right;\">              0.252303</td><td style=\"text-align: right;\">0.324685</td><td style=\"text-align: right;\">0.10542 </td></tr>\n",
       "<tr><td>GLM_grid_0_AutoML_20180723_133736_model_0            </td><td style=\"text-align: right;\">0.894988</td><td style=\"text-align: right;\"> 0.332123</td><td style=\"text-align: right;\">              0.242032</td><td style=\"text-align: right;\">0.321461</td><td style=\"text-align: right;\">0.103337</td></tr>\n",
       "<tr><td>GBM_grid_0_AutoML_20180723_133736_model_0            </td><td style=\"text-align: right;\">0.892508</td><td style=\"text-align: right;\"> 0.337591</td><td style=\"text-align: right;\">              0.249263</td><td style=\"text-align: right;\">0.325033</td><td style=\"text-align: right;\">0.105647</td></tr>\n",
       "<tr><td>GBM_grid_0_AutoML_20180723_133736_model_1            </td><td style=\"text-align: right;\">0.88775 </td><td style=\"text-align: right;\"> 0.343599</td><td style=\"text-align: right;\">              0.265104</td><td style=\"text-align: right;\">0.328721</td><td style=\"text-align: right;\">0.108057</td></tr>\n",
       "</tbody>\n",
       "</table>"
      ]
     },
     "metadata": {},
     "output_type": "display_data"
    },
    {
     "data": {
      "text/plain": []
     },
     "execution_count": 58,
     "metadata": {},
     "output_type": "execute_result"
    }
   ],
   "source": [
    "automl.leaderboard"
   ]
  },
  {
   "cell_type": "markdown",
   "metadata": {},
   "source": [
    "# Step 10 (of 11). Watch AutoML progress (in the H2O Flow Web UI)¶\n",
    "\n",
    "* Go to port 54321\n",
    "* In H2O Flow, go to Admin -> Jobs\n",
    "* Click on the \"Auto Model\" job with the \"positive_reviews\" job name and explore it"
   ]
  },
  {
   "cell_type": "markdown",
   "metadata": {},
   "source": [
    "# Step 11 (of 11).  Shutdown the Sparkling Water Cluster"
   ]
  },
  {
   "cell_type": "code",
   "execution_count": 59,
   "metadata": {
    "collapsed": false
   },
   "outputs": [
    {
     "name": "stdout",
     "output_type": "stream",
     "text": [
      "H2O session _sid_863c closed.\n"
     ]
    }
   ],
   "source": [
    "h2o.cluster().shutdown()\n",
    "spark.stop()"
   ]
  },
  {
   "cell_type": "code",
   "execution_count": null,
   "metadata": {
    "collapsed": true
   },
   "outputs": [],
   "source": []
  }
 ],
 "metadata": {
  "kernelspec": {
   "display_name": "PySparkling",
   "language": "python",
   "name": "pyspark"
  },
  "language_info": {
   "codemirror_mode": {
    "name": "ipython",
    "version": 3
   },
   "file_extension": ".py",
   "mimetype": "text/x-python",
   "name": "python",
   "nbconvert_exporter": "python",
   "pygments_lexer": "ipython3",
   "version": "3.6.0"
  }
 },
 "nbformat": 4,
 "nbformat_minor": 2
}
