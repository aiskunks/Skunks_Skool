{
 "cells": [
  {
   "cell_type": "code",
   "execution_count": 1,
   "metadata": {
    "collapsed": false
   },
   "outputs": [],
   "source": [
    "#Import the appropriate libraries \n",
    "%matplotlib inline\n",
    "\n",
    "import h2o\n",
    "import pandas\n",
    "import pprint\n",
    "import operator\n",
    "import matplotlib\n",
    "from h2o.estimators.glm import H2OGeneralizedLinearEstimator\n",
    "from h2o.estimators.gbm import H2OGradientBoostingEstimator\n",
    "from h2o.estimators.random_forest import H2ORandomForestEstimator\n",
    "from h2o.estimators.deeplearning import H2ODeepLearningEstimator\n",
    "from tabulate import tabulate"
   ]
  },
  {
   "cell_type": "code",
   "execution_count": 2,
   "metadata": {
    "collapsed": false
   },
   "outputs": [
    {
     "name": "stdout",
     "output_type": "stream",
     "text": [
      "Checking whether there is an H2O instance running at http://localhost:54321. connected.\n"
     ]
    },
    {
     "data": {
      "text/html": [
       "<div style=\"overflow:auto\"><table style=\"width:50%\"><tr><td>H2O cluster uptime:</td>\n",
       "<td>4 hours 18 mins</td></tr>\n",
       "<tr><td>H2O cluster version:</td>\n",
       "<td>3.10.1.1</td></tr>\n",
       "<tr><td>H2O cluster version age:</td>\n",
       "<td>7 days, 3 hours and 52 minutes </td></tr>\n",
       "<tr><td>H2O cluster name:</td>\n",
       "<td>chris</td></tr>\n",
       "<tr><td>H2O cluster total nodes:</td>\n",
       "<td>1</td></tr>\n",
       "<tr><td>H2O cluster free memory:</td>\n",
       "<td>13.65 Gb</td></tr>\n",
       "<tr><td>H2O cluster total cores:</td>\n",
       "<td>8</td></tr>\n",
       "<tr><td>H2O cluster allowed cores:</td>\n",
       "<td>8</td></tr>\n",
       "<tr><td>H2O cluster status:</td>\n",
       "<td>locked, healthy</td></tr>\n",
       "<tr><td>H2O connection url:</td>\n",
       "<td>http://localhost:54321</td></tr>\n",
       "<tr><td>H2O connection proxy:</td>\n",
       "<td>None</td></tr>\n",
       "<tr><td>Python version:</td>\n",
       "<td>3.5.2 final</td></tr></table></div>"
      ],
      "text/plain": [
       "--------------------------  ------------------------------\n",
       "H2O cluster uptime:         4 hours 18 mins\n",
       "H2O cluster version:        3.10.1.1\n",
       "H2O cluster version age:    7 days, 3 hours and 52 minutes\n",
       "H2O cluster name:           chris\n",
       "H2O cluster total nodes:    1\n",
       "H2O cluster free memory:    13.65 Gb\n",
       "H2O cluster total cores:    8\n",
       "H2O cluster allowed cores:  8\n",
       "H2O cluster status:         locked, healthy\n",
       "H2O connection url:         http://localhost:54321\n",
       "H2O connection proxy:\n",
       "Python version:             3.5.2 final\n",
       "--------------------------  ------------------------------"
      ]
     },
     "metadata": {},
     "output_type": "display_data"
    }
   ],
   "source": [
    "# Task 1: Connect to a cluster\n",
    "h2o.init(strict_version_check=False)"
   ]
  },
  {
   "cell_type": "code",
   "execution_count": 3,
   "metadata": {
    "collapsed": true
   },
   "outputs": [],
   "source": [
    "# set this to True if interactive (matplotlib) plots are desired\n",
    "interactive = True\n",
    "if not interactive: matplotlib.use('Agg', warn=False)\n",
    "import matplotlib.pyplot as plt"
   ]
  },
  {
   "cell_type": "code",
   "execution_count": 4,
   "metadata": {
    "collapsed": false
   },
   "outputs": [
    {
     "name": "stdout",
     "output_type": "stream",
     "text": [
      "Import and Parse airlines data\n",
      "Parse progress: |█████████████████████████████████████████████████████████| 100%\n",
      "Rows:43978\n",
      "Cols:31\n",
      "\n",
      "\n"
     ]
    },
    {
     "data": {
      "text/html": [
       "<table>\n",
       "<thead>\n",
       "<tr><th>       </th><th>Year             </th><th>Month             </th><th>DayofMonth        </th><th>DayOfWeek         </th><th>DepTime           </th><th>CRSDepTime       </th><th>ArrTime           </th><th>CRSArrTime        </th><th>UniqueCarrier  </th><th>FlightNum        </th><th>TailNum  </th><th>ActualElapsedTime  </th><th>CRSElapsedTime    </th><th>AirTime          </th><th>ArrDelay         </th><th>DepDelay          </th><th>Origin  </th><th>Dest  </th><th>Distance         </th><th>TaxiIn            </th><th>TaxiOut           </th><th>Cancelled           </th><th>CancellationCode  </th><th>Diverted             </th><th>CarrierDelay      </th><th>WeatherDelay      </th><th>NASDelay          </th><th>SecurityDelay       </th><th>LateAircraftDelay  </th><th>IsArrDelayed      </th><th>IsDepDelayed       </th></tr>\n",
       "</thead>\n",
       "<tbody>\n",
       "<tr><td>type   </td><td>int              </td><td>int               </td><td>int               </td><td>int               </td><td>int               </td><td>int              </td><td>int               </td><td>int               </td><td>enum           </td><td>int              </td><td>enum     </td><td>int                </td><td>int               </td><td>int              </td><td>int              </td><td>int               </td><td>enum    </td><td>enum  </td><td>int              </td><td>int               </td><td>int               </td><td>int                 </td><td>enum              </td><td>int                  </td><td>int               </td><td>int               </td><td>int               </td><td>int                 </td><td>int                </td><td>enum              </td><td>enum               </td></tr>\n",
       "<tr><td>mins   </td><td>1987.0           </td><td>1.0               </td><td>1.0               </td><td>1.0               </td><td>1.0               </td><td>0.0              </td><td>1.0               </td><td>0.0               </td><td>0.0            </td><td>1.0              </td><td>0.0      </td><td>16.0               </td><td>17.0              </td><td>14.0             </td><td>-63.0            </td><td>-16.0             </td><td>0.0     </td><td>0.0   </td><td>11.0             </td><td>0.0               </td><td>0.0               </td><td>0.0                 </td><td>0.0               </td><td>0.0                  </td><td>0.0               </td><td>0.0               </td><td>0.0               </td><td>0.0                 </td><td>0.0                </td><td>0.0               </td><td>0.0                </td></tr>\n",
       "<tr><td>mean   </td><td>1997.500000000007</td><td>1.4090909090909112</td><td>14.601073263904548</td><td>3.8206148528809805</td><td>1345.8466613820847</td><td>1313.222861430723</td><td>1504.6341303788763</td><td>1485.28916731093  </td><td>NaN            </td><td>818.8429896766555</td><td>NaN      </td><td>124.81452913540394 </td><td>125.02156260661943</td><td>114.3161110907823</td><td>9.3171119369843  </td><td>10.00739065560008 </td><td>NaN     </td><td>NaN   </td><td>730.1821905650545</td><td>5.3813680595305895</td><td>14.168634184732053</td><td>0.024694165264450407</td><td>NaN               </td><td>0.0024785119832643593</td><td>4.047800291055636 </td><td>0.2893764692712416</td><td>4.855031904175528 </td><td>0.017015560282100085</td><td>7.620060450016803  </td><td>0.5557551503024238</td><td>0.5250579835372231 </td></tr>\n",
       "<tr><td>maxs   </td><td>2008.0           </td><td>10.0              </td><td>31.0              </td><td>7.0               </td><td>2400.0            </td><td>2359.0           </td><td>2400.0            </td><td>2359.0            </td><td>9.0            </td><td>3949.0           </td><td>3500.0   </td><td>475.0              </td><td>437.0             </td><td>402.0            </td><td>475.0            </td><td>473.0             </td><td>131.0   </td><td>133.0 </td><td>3365.0           </td><td>128.0             </td><td>254.0             </td><td>1.0                 </td><td>3.0               </td><td>1.0                  </td><td>369.0             </td><td>201.0             </td><td>323.0             </td><td>14.0                </td><td>373.0              </td><td>1.0               </td><td>1.0                </td></tr>\n",
       "<tr><td>sigma  </td><td>6.344360901707364</td><td>1.8747113713439594</td><td>9.175790425861416 </td><td>1.9050131191329   </td><td>465.3408991242314 </td><td>476.2511399926006</td><td>484.3474879035155 </td><td>492.75043412270236</td><td>NaN            </td><td>777.404369163635 </td><td>NaN      </td><td>73.97444166059002  </td><td>73.40159463000958 </td><td>69.63632951506123</td><td>29.84022196241487</td><td>26.438809042916432</td><td>NaN     </td><td>NaN   </td><td>578.4380082304231</td><td>4.201979939864828 </td><td>9.9050857472043   </td><td>0.15519314135784237 </td><td>NaN               </td><td>0.049723487218862286 </td><td>16.205729904484198</td><td>4.416779898734125 </td><td>18.619776221475668</td><td>0.4039401821015119  </td><td>23.487565874106227 </td><td>0.4968872883428838</td><td>0.49937738031758006</td></tr>\n",
       "<tr><td>zeros  </td><td>0                </td><td>0                 </td><td>0                 </td><td>0                 </td><td>0                 </td><td>569              </td><td>0                 </td><td>569               </td><td>724            </td><td>0                </td><td>2        </td><td>0                  </td><td>0                 </td><td>0                </td><td>1514             </td><td>6393              </td><td>59      </td><td>172   </td><td>0                </td><td>623               </td><td>557               </td><td>42892               </td><td>81                </td><td>43869                </td><td>7344              </td><td>8840              </td><td>7388              </td><td>8914                </td><td>7140               </td><td>19537             </td><td>20887              </td></tr>\n",
       "<tr><td>missing</td><td>0                </td><td>0                 </td><td>0                 </td><td>0                 </td><td>1086              </td><td>0                </td><td>1195              </td><td>0                 </td><td>0              </td><td>0                </td><td>32       </td><td>1195               </td><td>13                </td><td>16649            </td><td>1195             </td><td>1086              </td><td>0       </td><td>0     </td><td>35               </td><td>16026             </td><td>16024             </td><td>0                   </td><td>9774              </td><td>0                    </td><td>35045             </td><td>35045             </td><td>35045             </td><td>35045               </td><td>35045              </td><td>0                 </td><td>0                  </td></tr>\n",
       "<tr><td>0      </td><td>1987.0           </td><td>10.0              </td><td>14.0              </td><td>3.0               </td><td>741.0             </td><td>730.0            </td><td>912.0             </td><td>849.0             </td><td>PS             </td><td>1451.0           </td><td>NA       </td><td>91.0               </td><td>79.0              </td><td>nan              </td><td>23.0             </td><td>11.0              </td><td>SAN     </td><td>SFO   </td><td>447.0            </td><td>nan               </td><td>nan               </td><td>0.0                 </td><td>NA                </td><td>0.0                  </td><td>nan               </td><td>nan               </td><td>nan               </td><td>nan                 </td><td>nan                </td><td>YES               </td><td>YES                </td></tr>\n",
       "<tr><td>1      </td><td>1987.0           </td><td>10.0              </td><td>15.0              </td><td>4.0               </td><td>729.0             </td><td>730.0            </td><td>903.0             </td><td>849.0             </td><td>PS             </td><td>1451.0           </td><td>NA       </td><td>94.0               </td><td>79.0              </td><td>nan              </td><td>14.0             </td><td>-1.0              </td><td>SAN     </td><td>SFO   </td><td>447.0            </td><td>nan               </td><td>nan               </td><td>0.0                 </td><td>NA                </td><td>0.0                  </td><td>nan               </td><td>nan               </td><td>nan               </td><td>nan                 </td><td>nan                </td><td>YES               </td><td>NO                 </td></tr>\n",
       "<tr><td>2      </td><td>1987.0           </td><td>10.0              </td><td>17.0              </td><td>6.0               </td><td>741.0             </td><td>730.0            </td><td>918.0             </td><td>849.0             </td><td>PS             </td><td>1451.0           </td><td>NA       </td><td>97.0               </td><td>79.0              </td><td>nan              </td><td>29.0             </td><td>11.0              </td><td>SAN     </td><td>SFO   </td><td>447.0            </td><td>nan               </td><td>nan               </td><td>0.0                 </td><td>NA                </td><td>0.0                  </td><td>nan               </td><td>nan               </td><td>nan               </td><td>nan                 </td><td>nan                </td><td>YES               </td><td>YES                </td></tr>\n",
       "<tr><td>3      </td><td>1987.0           </td><td>10.0              </td><td>18.0              </td><td>7.0               </td><td>729.0             </td><td>730.0            </td><td>847.0             </td><td>849.0             </td><td>PS             </td><td>1451.0           </td><td>NA       </td><td>78.0               </td><td>79.0              </td><td>nan              </td><td>-2.0             </td><td>-1.0              </td><td>SAN     </td><td>SFO   </td><td>447.0            </td><td>nan               </td><td>nan               </td><td>0.0                 </td><td>NA                </td><td>0.0                  </td><td>nan               </td><td>nan               </td><td>nan               </td><td>nan                 </td><td>nan                </td><td>NO                </td><td>NO                 </td></tr>\n",
       "<tr><td>4      </td><td>1987.0           </td><td>10.0              </td><td>19.0              </td><td>1.0               </td><td>749.0             </td><td>730.0            </td><td>922.0             </td><td>849.0             </td><td>PS             </td><td>1451.0           </td><td>NA       </td><td>93.0               </td><td>79.0              </td><td>nan              </td><td>33.0             </td><td>19.0              </td><td>SAN     </td><td>SFO   </td><td>447.0            </td><td>nan               </td><td>nan               </td><td>0.0                 </td><td>NA                </td><td>0.0                  </td><td>nan               </td><td>nan               </td><td>nan               </td><td>nan                 </td><td>nan                </td><td>YES               </td><td>YES                </td></tr>\n",
       "<tr><td>5      </td><td>1987.0           </td><td>10.0              </td><td>21.0              </td><td>3.0               </td><td>728.0             </td><td>730.0            </td><td>848.0             </td><td>849.0             </td><td>PS             </td><td>1451.0           </td><td>NA       </td><td>80.0               </td><td>79.0              </td><td>nan              </td><td>-1.0             </td><td>-2.0              </td><td>SAN     </td><td>SFO   </td><td>447.0            </td><td>nan               </td><td>nan               </td><td>0.0                 </td><td>NA                </td><td>0.0                  </td><td>nan               </td><td>nan               </td><td>nan               </td><td>nan                 </td><td>nan                </td><td>NO                </td><td>NO                 </td></tr>\n",
       "<tr><td>6      </td><td>1987.0           </td><td>10.0              </td><td>22.0              </td><td>4.0               </td><td>728.0             </td><td>730.0            </td><td>852.0             </td><td>849.0             </td><td>PS             </td><td>1451.0           </td><td>NA       </td><td>84.0               </td><td>79.0              </td><td>nan              </td><td>3.0              </td><td>-2.0              </td><td>SAN     </td><td>SFO   </td><td>447.0            </td><td>nan               </td><td>nan               </td><td>0.0                 </td><td>NA                </td><td>0.0                  </td><td>nan               </td><td>nan               </td><td>nan               </td><td>nan                 </td><td>nan                </td><td>YES               </td><td>NO                 </td></tr>\n",
       "<tr><td>7      </td><td>1987.0           </td><td>10.0              </td><td>23.0              </td><td>5.0               </td><td>731.0             </td><td>730.0            </td><td>902.0             </td><td>849.0             </td><td>PS             </td><td>1451.0           </td><td>NA       </td><td>91.0               </td><td>79.0              </td><td>nan              </td><td>13.0             </td><td>1.0               </td><td>SAN     </td><td>SFO   </td><td>447.0            </td><td>nan               </td><td>nan               </td><td>0.0                 </td><td>NA                </td><td>0.0                  </td><td>nan               </td><td>nan               </td><td>nan               </td><td>nan                 </td><td>nan                </td><td>YES               </td><td>YES                </td></tr>\n",
       "<tr><td>8      </td><td>1987.0           </td><td>10.0              </td><td>24.0              </td><td>6.0               </td><td>744.0             </td><td>730.0            </td><td>908.0             </td><td>849.0             </td><td>PS             </td><td>1451.0           </td><td>NA       </td><td>84.0               </td><td>79.0              </td><td>nan              </td><td>19.0             </td><td>14.0              </td><td>SAN     </td><td>SFO   </td><td>447.0            </td><td>nan               </td><td>nan               </td><td>0.0                 </td><td>NA                </td><td>0.0                  </td><td>nan               </td><td>nan               </td><td>nan               </td><td>nan                 </td><td>nan                </td><td>YES               </td><td>YES                </td></tr>\n",
       "<tr><td>9      </td><td>1987.0           </td><td>10.0              </td><td>25.0              </td><td>7.0               </td><td>729.0             </td><td>730.0            </td><td>851.0             </td><td>849.0             </td><td>PS             </td><td>1451.0           </td><td>NA       </td><td>82.0               </td><td>79.0              </td><td>nan              </td><td>2.0              </td><td>-1.0              </td><td>SAN     </td><td>SFO   </td><td>447.0            </td><td>nan               </td><td>nan               </td><td>0.0                 </td><td>NA                </td><td>0.0                  </td><td>nan               </td><td>nan               </td><td>nan               </td><td>nan                 </td><td>nan                </td><td>YES               </td><td>NO                 </td></tr>\n",
       "</tbody>\n",
       "</table>"
      ]
     },
     "metadata": {},
     "output_type": "display_data"
    }
   ],
   "source": [
    "# Task 2: Load data - 1 row per flight.  Has columns showing the origin,\n",
    "# destination, departure and arrival time, carrier information, and\n",
    "# whether the flight was delayed.\n",
    "print(\"Import and Parse airlines data\")\n",
    "data = h2o.import_file(path='https://s3.amazonaws.com/h2o-airlines-unpacked/allyears2k.csv')\n",
    "data.describe()"
   ]
  },
  {
   "cell_type": "code",
   "execution_count": 5,
   "metadata": {
    "collapsed": false
   },
   "outputs": [],
   "source": [
    "# ----------\n",
    "\n",
    "# 2- Data exploration and munging. Generate scatter plots \n",
    "# of various columns and plot fitted GLM model.\n",
    "\n",
    "# Function to fit a GLM model and plot the fitted (x,y) values\n",
    "def scatter_plot(data, x, y, max_points = 1000, fit = True):\n",
    "    if(fit):\n",
    "        lr = H2OGeneralizedLinearEstimator(family = \"gaussian\")\n",
    "        lr.train(x=x, y=y, training_frame=data)\n",
    "        coeff = lr.coef()\n",
    "    df = data[[x,y]]\n",
    "    runif = df[y].runif()\n",
    "    df_subset = df[runif < float(max_points)/data.nrow]\n",
    "    df_py = h2o.as_list(df_subset)\n",
    "    \n",
    "    if(fit): h2o.remove(lr._id)\n",
    "\n",
    "    # If x variable is string, generate box-and-whisker plot\n",
    "    if(df_py[x].dtype == \"object\"):\n",
    "        if interactive: df_py.boxplot(column = y, by = x)\n",
    "    # Otherwise, generate a scatter plot\n",
    "    else:\n",
    "        if interactive: df_py.plot(x = x, y = y, kind = \"scatter\")\n",
    "    \n",
    "    if(fit):\n",
    "        x_min = min(df_py[x])\n",
    "        x_max = max(df_py[x])\n",
    "        y_min = coeff[\"Intercept\"] + coeff[x]*x_min\n",
    "        y_max = coeff[\"Intercept\"] + coeff[x]*x_max\n",
    "        plt.plot([x_min, x_max], [y_min, y_max], \"k-\")\n",
    "    if interactive: plt.show()\n"
   ]
  },
  {
   "cell_type": "code",
   "execution_count": 6,
   "metadata": {
    "collapsed": false
   },
   "outputs": [
    {
     "name": "stdout",
     "output_type": "stream",
     "text": [
      "glm Model Build progress: |███████████████████████████████████████████████| 100%\n"
     ]
    },
    {
     "data": {
      "image/png": "[encoded data removed]",
      "text/plain": [
       "<matplotlib.figure.Figure at 0x115d1e3c8>"
      ]
     },
     "metadata": {},
     "output_type": "display_data"
    },
    {
     "data": {
      "image/png": "[encoded data removed]",
      "text/plain": [
       "<matplotlib.figure.Figure at 0x115d1c908>"
      ]
     },
     "metadata": {},
     "output_type": "display_data"
    }
   ],
   "source": [
    "# Task 3: Generate scatterplots for \"Distance\" and \"Airtime\" and one for \"Unique Carrier\" and the \"ArrDelay\" \n",
    "scatter_plot(data, \"Distance\", \"AirTime\", fit = True)\n",
    "scatter_plot(data, \"UniqueCarrier\", \"ArrDelay\", max_points = 5000, fit = False)"
   ]
  },
  {
   "cell_type": "code",
   "execution_count": 7,
   "metadata": {
    "collapsed": false
   },
   "outputs": [
    {
     "data": {
      "text/html": [
       "<table>\n",
       "<thead>\n",
       "<tr><th style=\"text-align: right;\">  Month</th><th style=\"text-align: right;\">  sum_Cancelled</th><th style=\"text-align: right;\">  nrow_Year</th></tr>\n",
       "</thead>\n",
       "<tbody>\n",
       "<tr><td style=\"text-align: right;\">      1</td><td style=\"text-align: right;\">           1067</td><td style=\"text-align: right;\">      41979</td></tr>\n",
       "<tr><td style=\"text-align: right;\">     10</td><td style=\"text-align: right;\">             19</td><td style=\"text-align: right;\">       1999</td></tr>\n",
       "</tbody>\n",
       "</table>"
      ]
     },
     "metadata": {},
     "output_type": "display_data"
    },
    {
     "name": "stdout",
     "output_type": "stream",
     "text": [
      "Rows:2\n",
      "Cols:3\n",
      "\n",
      "\n"
     ]
    },
    {
     "data": {
      "text/html": [
       "<table>\n",
       "<thead>\n",
       "<tr><th>       </th><th>Month            </th><th>sum_Cancelled    </th><th>nrow_Year        </th></tr>\n",
       "</thead>\n",
       "<tbody>\n",
       "<tr><td>type   </td><td>int              </td><td>int              </td><td>int              </td></tr>\n",
       "<tr><td>mins   </td><td>1.0              </td><td>19.0             </td><td>1999.0           </td></tr>\n",
       "<tr><td>mean   </td><td>5.5              </td><td>543.0            </td><td>21989.0          </td></tr>\n",
       "<tr><td>maxs   </td><td>10.0             </td><td>1067.0           </td><td>41979.0          </td></tr>\n",
       "<tr><td>sigma  </td><td>6.363961030678928</td><td>741.0479066835018</td><td>28270.12911183817</td></tr>\n",
       "<tr><td>zeros  </td><td>0                </td><td>0                </td><td>0                </td></tr>\n",
       "<tr><td>missing</td><td>0                </td><td>0                </td><td>0                </td></tr>\n",
       "<tr><td>0      </td><td>1.0              </td><td>1067.0           </td><td>41979.0          </td></tr>\n",
       "<tr><td>1      </td><td>10.0             </td><td>19.0             </td><td>1999.0           </td></tr>\n",
       "</tbody>\n",
       "</table>"
      ]
     },
     "metadata": {},
     "output_type": "display_data"
    },
    {
     "data": {
      "text/plain": [
       "[2, 3]"
      ]
     },
     "execution_count": 7,
     "metadata": {},
     "output_type": "execute_result"
    }
   ],
   "source": [
    "# Task 4: Use the .group_by function to group flights by month \n",
    "grouped = data.group_by(\"Month\")\n",
    "bpd = grouped.count().sum(\"Cancelled\").frame\n",
    "bpd.show()\n",
    "bpd.describe()\n",
    "bpd.dim\n"
   ]
  },
  {
   "cell_type": "code",
   "execution_count": 8,
   "metadata": {
    "collapsed": true
   },
   "outputs": [],
   "source": [
    "# Task 5: Convert the \"Year,\" \"Month,\" \"DayOfWeek,\" \"Cancelled\" columns to factors\n",
    "data[\"Year\"]      = data[\"Year\"]     .asfactor()\n",
    "data[\"Month\"]     = data[\"Month\"]    .asfactor()\n",
    "data[\"DayOfWeek\"] = data[\"DayOfWeek\"].asfactor()\n",
    "data[\"Cancelled\"] = data[\"Cancelled\"].asfactor()"
   ]
  },
  {
   "cell_type": "code",
   "execution_count": 9,
   "metadata": {
    "collapsed": false
   },
   "outputs": [
    {
     "name": "stdout",
     "output_type": "stream",
     "text": [
      "Parse progress: |█████████████████████████████████████████████████████████| 100%\n",
      "glm Model Build progress: |███████████████████████████████████████████████| 100%\n"
     ]
    },
    {
     "data": {
      "image/png": "[encoded data removed]",
      "text/plain": [
       "<matplotlib.figure.Figure at 0x115d1e6a0>"
      ]
     },
     "metadata": {},
     "output_type": "display_data"
    }
   ],
   "source": [
    "# Calculate and plot travel time\n",
    "hour1 = data[\"CRSArrTime\"] / 100\n",
    "mins1 = data[\"CRSArrTime\"] % 100\n",
    "arrTime = hour1*60 + mins1\n",
    "\n",
    "hour2 = data[\"CRSDepTime\"] / 100\n",
    "mins2 = data[\"CRSDepTime\"] % 100\n",
    "depTime = hour2*60 + mins2\n",
    "\n",
    "\n",
    "data[\"TravelTime\"] = (arrTime-depTime > 0).ifelse((arrTime-depTime), h2o.H2OFrame([[None]] * data.nrow))\n",
    "scatter_plot(data, \"Distance\", \"TravelTime\")"
   ]
  },
  {
   "cell_type": "code",
   "execution_count": 10,
   "metadata": {
    "collapsed": false
   },
   "outputs": [
    {
     "name": "stdout",
     "output_type": "stream",
     "text": [
      "glm Model Build progress: |███████████████████████████████████████████████| 100%\n"
     ]
    },
    {
     "data": {
      "image/png": "[encoded data removed]",
      "text/plain": [
       "<matplotlib.figure.Figure at 0x1187a5518>"
      ]
     },
     "metadata": {},
     "output_type": "display_data"
    }
   ],
   "source": [
    "# Task 6: Impute missing travel times by the \"Origin\" and \"Dest\" columns and re-plot. \n",
    "data.impute(column = \"Distance\", by = [\"Origin\", \"Dest\"])\n",
    "scatter_plot(data, \"Distance\", \"TravelTime\")"
   ]
  },
  {
   "cell_type": "code",
   "execution_count": 30,
   "metadata": {
    "collapsed": false
   },
   "outputs": [
    {
     "data": {
      "text/plain": [
       "43978"
      ]
     },
     "execution_count": 30,
     "metadata": {},
     "output_type": "execute_result"
    }
   ],
   "source": [
    "# Task 7: Create a test/train split\n",
    "splits = data.split_frame([.75])\n",
    "train = splits[0]\n",
    "test = splits[1]"
   ]
  },
  {
   "cell_type": "code",
   "execution_count": 12,
   "metadata": {
    "collapsed": true
   },
   "outputs": [],
   "source": [
    "# Task 8: Set response variable and your choice of predictor variables\n",
    "myY = \"IsDepDelayed\"\n",
    "myX = [\"Origin\", \"Dest\", \"Year\", \"UniqueCarrier\", \"DayOfWeek\", \"Month\", \"Distance\", \"FlightNum\"]"
   ]
  },
  {
   "cell_type": "code",
   "execution_count": 13,
   "metadata": {
    "collapsed": false
   },
   "outputs": [
    {
     "name": "stdout",
     "output_type": "stream",
     "text": [
      "glm Model Build progress: |███████████████████████████████████████████████| 100%\n"
     ]
    }
   ],
   "source": [
    "# Task 9: Build simple GLM model\n",
    "\n",
    "data_glm = H2OGeneralizedLinearEstimator(family=\"binomial\", standardize=True)\n",
    "data_glm.train(x               =myX,\n",
    "               y               =myY,\n",
    "               training_frame  =train,\n",
    "               validation_frame=test)\n"
   ]
  },
  {
   "cell_type": "code",
   "execution_count": 14,
   "metadata": {
    "collapsed": false
   },
   "outputs": [
    {
     "name": "stdout",
     "output_type": "stream",
     "text": [
      "gbm Model Build progress: |███████████████████████████████████████████████| 100%\n"
     ]
    }
   ],
   "source": [
    "# Task 10: Build simple GBM model\n",
    "\n",
    "data_gbm = H2OGradientBoostingEstimator(balance_classes=True,\n",
    "                                        ntrees         =10,\n",
    "                                        max_depth      =1,\n",
    "                                        distribution   =\"bernoulli\",\n",
    "                                        learn_rate     =0.1,\n",
    "                                        min_rows       =2)\n",
    "\n",
    "data_gbm.train(x               =myX,\n",
    "               y               =myY,\n",
    "               training_frame  =train,\n",
    "               validation_frame=test)"
   ]
  },
  {
   "cell_type": "code",
   "execution_count": 15,
   "metadata": {
    "collapsed": false
   },
   "outputs": [
    {
     "name": "stdout",
     "output_type": "stream",
     "text": [
      "Variable Importances:\n",
      "\n",
      "| Predictor        |   Normalized Coefficient |\n",
      "|------------------+--------------------------|\n",
      "| Year.2008        |               2.24345    |\n",
      "| Year.2003        |               1.56592    |\n",
      "| Year.2007        |               1.51587    |\n",
      "| Origin.HPN       |               1.49035    |\n",
      "| Origin.TRI       |               1.47252    |\n",
      "| Origin.CAE       |               1.45465    |\n",
      "| Dest.LYH         |               1.3459     |\n",
      "| Origin.MDW       |               1.285      |\n",
      "| Origin.LIH       |               1.27808    |\n",
      "| Origin.TLH       |               1.26816    |\n",
      "| Origin.LEX       |               1.24252    |\n",
      "| Origin.MYR       |               1.22129    |\n",
      "| Origin.OGG       |               1.21821    |\n",
      "| Origin.HNL       |               1.18236    |\n",
      "| Dest.HTS         |               1.17858    |\n",
      "| UniqueCarrier.HP |               1.05843    |\n",
      "| Dest.ICT         |               1.00366    |\n",
      "| Year.2002        |               0.995075   |\n",
      "| Origin.ERI       |               0.957076   |\n",
      "| UniqueCarrier.TW |               0.955223   |\n",
      "| Year.2001        |               0.920534   |\n",
      "| Origin.CHO       |               0.91518    |\n",
      "| Origin.IAH       |               0.84293    |\n",
      "| Year.1994        |               0.82327    |\n",
      "| Origin.PSP       |               0.819499   |\n",
      "| Dest.PSP         |               0.819064   |\n",
      "| Dest.DAY         |               0.814914   |\n",
      "| Origin.MLB       |               0.807114   |\n",
      "| Year.2006        |               0.78773    |\n",
      "| Origin.ATL       |               0.769829   |\n",
      "| Origin.MSY       |               0.765474   |\n",
      "| Origin.AUS       |               0.762836   |\n",
      "| Year.2004        |               0.749459   |\n",
      "| Origin.ORD       |               0.741947   |\n",
      "| Dest.PNS         |               0.74007    |\n",
      "| Origin.SAV       |               0.726533   |\n",
      "| Dest.CHO         |               0.688335   |\n",
      "| Origin.LYH       |               0.688335   |\n",
      "| Origin.BOI       |               0.671702   |\n",
      "| Origin.STL       |               0.667325   |\n",
      "| Origin.ROA       |               0.651882   |\n",
      "| Origin.GSO       |               0.650836   |\n",
      "| Origin.PWM       |               0.649608   |\n",
      "| Origin.BTV       |               0.647338   |\n",
      "| Origin.MIA       |               0.647009   |\n",
      "| Origin.CRP       |               0.641942   |\n",
      "| Dest.FLL         |               0.628597   |\n",
      "| Year.1990        |               0.617869   |\n",
      "| Dest.UCA         |               0.611812   |\n",
      "| Origin.PBI       |               0.605957   |\n",
      "| Dest.IAH         |               0.5998     |\n",
      "| Dest.TOL         |               0.596045   |\n",
      "| Dest.ISP         |               0.588897   |\n",
      "| Year.1996        |               0.585818   |\n",
      "| Dest.SFO         |               0.581959   |\n",
      "| Origin.EYW       |               0.574075   |\n",
      "| Dest.FAY         |               0.57351    |\n",
      "| Origin.SRQ       |               0.559653   |\n",
      "| Origin.ALB       |               0.552757   |\n",
      "| Year.1997        |               0.546865   |\n",
      "| Dest.LIH         |               0.533861   |\n",
      "| Dest.KOA         |               0.533007   |\n",
      "| Origin.OMA       |               0.529893   |\n",
      "| UniqueCarrier.WN |               0.52321    |\n",
      "| Dest.STL         |               0.509948   |\n",
      "| Dest.PBI         |               0.49715    |\n",
      "| Origin.ACY       |               0.489388   |\n",
      "| Dest.OGG         |               0.487071   |\n",
      "| Origin.PIT       |               0.484705   |\n",
      "| Origin.FLL       |               0.483906   |\n",
      "| Origin.ABE       |               0.476295   |\n",
      "| Origin.SYR       |               0.475869   |\n",
      "| Origin.JAX       |               0.470681   |\n",
      "| Dest.GSO         |               0.46992    |\n",
      "| Origin.OAK       |               0.460565   |\n",
      "| Year.2005        |               0.432518   |\n",
      "| Dest.BUF         |               0.430295   |\n",
      "| Origin.BUR       |               0.418286   |\n",
      "| Dest.CAK         |               0.415727   |\n",
      "| UniqueCarrier.PI |               0.412389   |\n",
      "| Origin.PHL       |               0.408527   |\n",
      "| Dest.IND         |               0.407353   |\n",
      "| Origin.SAN       |               0.405512   |\n",
      "| Origin.SLC       |               0.401056   |\n",
      "| Origin.CLE       |               0.398304   |\n",
      "| Dest.TPA         |               0.394023   |\n",
      "| Year.1995        |               0.388936   |\n",
      "| Dest.BGM         |               0.36244    |\n",
      "| UniqueCarrier.CO |               0.361857   |\n",
      "| Origin.LAX       |               0.36101    |\n",
      "| Dest.SLC         |               0.359508   |\n",
      "| Origin.STX       |               0.357889   |\n",
      "| Dest.LBB         |               0.353165   |\n",
      "| Origin.IAD       |               0.352612   |\n",
      "| Dest.MCO         |               0.351136   |\n",
      "| Dest.ABQ         |               0.348509   |\n",
      "| Dest.GEG         |               0.348411   |\n",
      "| Dest.BDL         |               0.348089   |\n",
      "| Origin.IND       |               0.347906   |\n",
      "| Origin.MCO       |               0.342589   |\n",
      "| Origin.DAY       |               0.341007   |\n",
      "| Origin.OKC       |               0.339817   |\n",
      "| Dest.CLE         |               0.333155   |\n",
      "| Dest.BOI         |               0.32119    |\n",
      "| Origin.PHF       |               0.318479   |\n",
      "| Origin.MDT       |               0.318263   |\n",
      "| Dest.BUR         |               0.316346   |\n",
      "| UniqueCarrier.US |               0.311956   |\n",
      "| Dest.SDF         |               0.30592    |\n",
      "| Dest.MIA         |               0.29579    |\n",
      "| Dest.TUL         |               0.295179   |\n",
      "| Origin.PHX       |               0.292986   |\n",
      "| Origin.ROC       |               0.292406   |\n",
      "| Dest.SEA         |               0.290878   |\n",
      "| Origin.BUF       |               0.28524    |\n",
      "| Origin.LGA       |               0.28506    |\n",
      "| Origin.DFW       |               0.284806   |\n",
      "| Origin.LIT       |               0.283306   |\n",
      "| Dest.BTV         |               0.282553   |\n",
      "| Origin.ELP       |               0.281942   |\n",
      "| Dest.MAF         |               0.279836   |\n",
      "| Origin.CRW       |               0.273113   |\n",
      "| Dest.SBN         |               0.263062   |\n",
      "| DayOfWeek.5      |               0.257329   |\n",
      "| Year.1992        |               0.255086   |\n",
      "| Origin.SJC       |               0.254286   |\n",
      "| Origin.MCI       |               0.243143   |\n",
      "| Dest.JAX         |               0.237113   |\n",
      "| Origin.CLT       |               0.235005   |\n",
      "| Year.1991        |               0.228784   |\n",
      "| Origin.TPA       |               0.228186   |\n",
      "| Dest.OMA         |               0.225419   |\n",
      "| Origin.TUS       |               0.222799   |\n",
      "| Dest.CMH         |               0.212416   |\n",
      "| Dest.CLT         |               0.209786   |\n",
      "| Origin.EWR       |               0.207188   |\n",
      "| Month.10         |               0.20364    |\n",
      "| Year.1987        |               0.20364    |\n",
      "| Dest.ALB         |               0.198935   |\n",
      "| Dest.MDT         |               0.196362   |\n",
      "| Dest.PHX         |               0.188985   |\n",
      "| UniqueCarrier.AA |               0.185646   |\n",
      "| Origin.BOS       |               0.184006   |\n",
      "| Origin.SFO       |               0.179813   |\n",
      "| Dest.SMF         |               0.177714   |\n",
      "| Origin.PDX       |               0.175977   |\n",
      "| Dest.SAT         |               0.174547   |\n",
      "| Dest.ORF         |               0.167741   |\n",
      "| Distance         |               0.166956   |\n",
      "| Dest.SAN         |               0.163924   |\n",
      "| Origin.COS       |               0.163435   |\n",
      "| DayOfWeek.2      |               0.162888   |\n",
      "| Year.1999        |               0.160355   |\n",
      "| DayOfWeek.4      |               0.159564   |\n",
      "| Dest.PHL         |               0.157126   |\n",
      "| Dest.LAX         |               0.153819   |\n",
      "| Dest.SNA         |               0.150286   |\n",
      "| Dest.RSW         |               0.149748   |\n",
      "| Dest.CAE         |               0.143066   |\n",
      "| Dest.ORD         |               0.139719   |\n",
      "| Dest.OAK         |               0.137052   |\n",
      "| Dest.RDU         |               0.13625    |\n",
      "| Dest.BOS         |               0.134845   |\n",
      "| Origin.MEM       |               0.133854   |\n",
      "| Dest.BWI         |               0.133789   |\n",
      "| Dest.MSP         |               0.133354   |\n",
      "| Origin.CHS       |               0.131937   |\n",
      "| Dest.ROC         |               0.131514   |\n",
      "| Origin.RSW       |               0.127843   |\n",
      "| Year.1993        |               0.12465    |\n",
      "| Dest.IAD         |               0.124599   |\n",
      "| Origin.DEN       |               0.120136   |\n",
      "| Dest.MKE         |               0.119598   |\n",
      "| Origin.RNO       |               0.116746   |\n",
      "| Origin.JAN       |               0.113761   |\n",
      "| Origin.BWI       |               0.112378   |\n",
      "| Dest.BNA         |               0.108791   |\n",
      "| Year.1989        |               0.101137   |\n",
      "| Dest.PIT         |               0.100797   |\n",
      "| Origin.SMF       |               0.100753   |\n",
      "| Month.1          |               0.0992642  |\n",
      "| Dest.RIC         |               0.0934903  |\n",
      "| DayOfWeek.7      |               0.0926569  |\n",
      "| Year.1988        |               0.0896241  |\n",
      "| Origin.BNA       |               0.0876637  |\n",
      "| Dest.MCI         |               0.0865375  |\n",
      "| Dest.DTW         |               0.0863439  |\n",
      "| Dest.HOU         |               0.0840998  |\n",
      "| Origin.ABQ       |               0.0809429  |\n",
      "| Year.2000        |               0.074581   |\n",
      "| Origin.MSP       |               0.0727178  |\n",
      "| Origin.CVG       |               0.0713801  |\n",
      "| DayOfWeek.6      |               0.070332   |\n",
      "| Dest.EWR         |               0.0682128  |\n",
      "| Dest.LGA         |               0.065189   |\n",
      "| Origin.SJU       |               0.0622285  |\n",
      "| Dest.DCA         |               0.0606061  |\n",
      "| Origin.ORF       |               0.059751   |\n",
      "| Origin.BHM       |               0.0585463  |\n",
      "| Dest.ILM         |               0.0572854  |\n",
      "| UniqueCarrier.PS |               0.055701   |\n",
      "| Year.1998        |               0.0511345  |\n",
      "| Dest.MYR         |               0.0500575  |\n",
      "| Origin.GEG       |               0.0488093  |\n",
      "| Origin.ISP       |               0.0452881  |\n",
      "| UniqueCarrier.UA |               0.0422893  |\n",
      "| Origin.ONT       |               0.0393653  |\n",
      "| Dest.PVD         |               0.0376694  |\n",
      "| FlightNum        |               0.037651   |\n",
      "| Dest.ACY         |               0.0374731  |\n",
      "| Dest.MDW         |               0.0350943  |\n",
      "| Origin.LAS       |               0.02799    |\n",
      "| Dest.DEN         |               0.0255077  |\n",
      "| Dest.LAS         |               0.0234371  |\n",
      "| Origin.DTW       |               0.0153966  |\n",
      "| Dest.BHM         |               0.0138378  |\n",
      "| Dest.ATL         |               0.0134905  |\n",
      "| Origin.MHT       |               0.0124296  |\n",
      "| Dest.SYR         |               0.0108815  |\n",
      "| Dest.DFW         |               0.0108082  |\n",
      "| Origin.AVP       |               0.00989391 |\n",
      "| Origin.MKE       |               0.00947    |\n",
      "| Origin.JFK       |               0.00624918 |\n",
      "| Origin.DAL       |               0.00624068 |\n",
      "| Intercept        |               0.00349008 |\n",
      "| DayOfWeek.3      |               0.00238668 |\n",
      "| UniqueCarrier.DL |               0.00173429 |\n",
      "| Dest.HNL         |               0.00133263 |\n",
      "| Origin.TUL       |               0          |\n",
      "| Dest.ABE         |               0          |\n",
      "| Origin.GRR       |               0          |\n",
      "| Origin.HOU       |               0          |\n",
      "| Dest.LEX         |               0          |\n",
      "| Origin.EGE       |               0          |\n",
      "| Origin.TYS       |               0          |\n",
      "| Origin.BGM       |               0          |\n",
      "| Dest.SWF         |               0          |\n",
      "| Origin.BDL       |               0          |\n",
      "| Dest.AVL         |               0          |\n",
      "| Origin.DCA       |               0          |\n",
      "| Origin.RDU       |               0          |\n",
      "| Origin.RIC       |               0          |\n",
      "| Dest.DSM         |               0          |\n",
      "| Origin.PVD       |               0          |\n",
      "| Origin.DSM       |               0          |\n",
      "| Dest.ANC         |               0          |\n",
      "| DayOfWeek.1      |               0          |\n",
      "| Origin.MAF       |               0          |\n",
      "| Dest.MRY         |               0          |\n",
      "| Dest.GRR         |               0          |\n",
      "| Origin.MRY       |               0          |\n",
      "| Origin.UCA       |               0          |\n",
      "| Dest.CVG         |               0          |\n",
      "| Dest.MHT         |               0          |\n",
      "| Dest.ONT         |               0          |\n",
      "| Dest.ROA         |               0          |\n",
      "| Dest.OKC         |               0          |\n",
      "| Dest.FAT         |               0          |\n",
      "| Dest.SRQ         |               0          |\n",
      "| Origin.CMH       |               0          |\n",
      "| Dest.STT         |               0          |\n",
      "| Origin.SBN       |               0          |\n",
      "| Origin.SCK       |               0          |\n",
      "| Dest.AUS         |               0          |\n",
      "| Dest.SJC         |               0          |\n",
      "| Dest.PWM         |               0          |\n",
      "| Origin.SAT       |               0          |\n",
      "| Origin.HRL       |               0          |\n",
      "| Dest.JAN         |               0          |\n",
      "| Dest.HPN         |               0          |\n",
      "| Dest.MSY         |               0          |\n",
      "| Dest.CRP         |               0          |\n",
      "| Dest.GSP         |               0          |\n",
      "| Origin.LBB       |               0          |\n",
      "| Dest.EUG         |               0          |\n",
      "| Dest.ELM         |               0          |\n",
      "| Dest.COS         |               0          |\n",
      "| Dest.OAJ         |               0          |\n",
      "| Origin.MFR       |               0          |\n",
      "| Dest.ERI         |               0          |\n",
      "| Dest.ELP         |               0          |\n",
      "| Dest.FNT         |               0          |\n",
      "| Origin.SEA       |               0          |\n",
      "| Dest.DAL         |               0          |\n",
      "| Dest.JFK         |               0          |\n",
      "| Origin.ANC       |               0          |\n",
      "| Dest.HRL         |               0          |\n",
      "| Dest.LIT         |               0          |\n",
      "| Dest.TUS         |               0          |\n",
      "| Dest.PHF         |               0          |\n",
      "| Dest.EYW         |               0          |\n",
      "| Dest.AVP         |               0          |\n",
      "| Origin.SDF       |               0          |\n",
      "| Origin.STT       |               0          |\n",
      "| Dest.ORH         |               0          |\n",
      "| Origin.ICT       |               0          |\n",
      "| Dest.RNO         |               0          |\n",
      "| Origin.SNA       |               0          |\n",
      "| Dest.SCK         |               0          |\n",
      "| Origin.GNV       |               0          |\n",
      "| Dest.AMA         |               0          |\n",
      "| Origin.AMA       |               0          |\n",
      "| Origin.KOA       |               0          |\n",
      "| Dest.SJU         |               0          |\n",
      "| Dest.CHS         |               0          |\n",
      "| Origin.BIL       |               0          |\n",
      "| Dest.PDX         |               0          |\n",
      "| Origin.LAN       |               0          |\n",
      "| Dest.CHA         |               0          |\n",
      "| Origin.SWF       |               0          |\n",
      "Warning: This model doesn't have variable importances\n"
     ]
    },
    {
     "data": {
      "text/plain": [
       "[('Year', 2360.10400390625, 1.0, 0.8422023165084003),\n",
       " ('Origin', 442.196533203125, 0.18736315538266013, 0.1577976834915997),\n",
       " ('Month', 0.0, 0.0, 0.0),\n",
       " ('DayOfWeek', 0.0, 0.0, 0.0),\n",
       " ('UniqueCarrier', 0.0, 0.0, 0.0),\n",
       " ('FlightNum', 0.0, 0.0, 0.0),\n",
       " ('Dest', 0.0, 0.0, 0.0),\n",
       " ('Distance', 0.0, 0.0, 0.0)]"
      ]
     },
     "execution_count": 15,
     "metadata": {},
     "output_type": "execute_result"
    }
   ],
   "source": [
    "# Variable importances from each algorithm\n",
    "# Calculate magnitude of normalized GLM coefficients\n",
    "from six import iteritems\n",
    "glm_varimp = data_glm.coef_norm()\n",
    "for k,v in iteritems(glm_varimp):\n",
    "    glm_varimp[k] = abs(glm_varimp[k])\n",
    "    \n",
    "# Sort in descending order by magnitude\n",
    "glm_sorted = sorted(glm_varimp.items(), key = operator.itemgetter(1), reverse = True)\n",
    "table = tabulate(glm_sorted, headers = [\"Predictor\", \"Normalized Coefficient\"], tablefmt = \"orgtbl\")\n",
    "print(\"Variable Importances:\\n\\n\" + table)\n",
    "\n",
    "data_glm.varimp()\n",
    "data_gbm.varimp()"
   ]
  },
  {
   "cell_type": "code",
   "execution_count": 16,
   "metadata": {
    "collapsed": false,
    "scrolled": true
   },
   "outputs": [
    {
     "name": "stdout",
     "output_type": "stream",
     "text": [
      "\n",
      "ModelMetricsBinomial: gbm\n",
      "** Reported on test data. **\n",
      "\n",
      "MSE: 0.23404576525698326\n",
      "RMSE: 0.48378276659776054\n",
      "LogLoss: 0.6608719198653813\n",
      "Mean Per-Class Error: 0.3512201159391206\n",
      "AUC: 0.6777060836827385\n",
      "Gini: 0.3554121673654771\n",
      "Confusion Matrix (Act/Pred) for max f1 @ threshold = 0.450630627000934: \n"
     ]
    },
    {
     "data": {
      "text/html": [
       "<div style=\"overflow:auto\"><table style=\"width:50%\"><tr><td><b></b></td>\n",
       "<td><b>NO</b></td>\n",
       "<td><b>YES</b></td>\n",
       "<td><b>Error</b></td>\n",
       "<td><b>Rate</b></td></tr>\n",
       "<tr><td>NO</td>\n",
       "<td>636.0</td>\n",
       "<td>4575.0</td>\n",
       "<td>0.878</td>\n",
       "<td> (4575.0/5211.0)</td></tr>\n",
       "<tr><td>YES</td>\n",
       "<td>261.0</td>\n",
       "<td>5534.0</td>\n",
       "<td>0.045</td>\n",
       "<td> (261.0/5795.0)</td></tr>\n",
       "<tr><td>Total</td>\n",
       "<td>897.0</td>\n",
       "<td>10109.0</td>\n",
       "<td>0.4394</td>\n",
       "<td> (4836.0/11006.0)</td></tr></table></div>"
      ],
      "text/plain": [
       "       NO    YES    Error    Rate\n",
       "-----  ----  -----  -------  ----------------\n",
       "NO     636   4575   0.878    (4575.0/5211.0)\n",
       "YES    261   5534   0.045    (261.0/5795.0)\n",
       "Total  897   10109  0.4394   (4836.0/11006.0)"
      ]
     },
     "metadata": {},
     "output_type": "display_data"
    },
    {
     "name": "stdout",
     "output_type": "stream",
     "text": [
      "Maximum Metrics: Maximum metrics at their respective thresholds\n",
      "\n"
     ]
    },
    {
     "data": {
      "text/html": [
       "<div style=\"overflow:auto\"><table style=\"width:50%\"><tr><td><b>metric</b></td>\n",
       "<td><b>threshold</b></td>\n",
       "<td><b>value</b></td>\n",
       "<td><b>idx</b></td></tr>\n",
       "<tr><td>max f1</td>\n",
       "<td>0.4506306</td>\n",
       "<td>0.6959256</td>\n",
       "<td>19.0</td></tr>\n",
       "<tr><td>max f2</td>\n",
       "<td>0.4339883</td>\n",
       "<td>0.8475692</td>\n",
       "<td>20.0</td></tr>\n",
       "<tr><td>max f0point5</td>\n",
       "<td>0.5088656</td>\n",
       "<td>0.6673769</td>\n",
       "<td>12.0</td></tr>\n",
       "<tr><td>max accuracy</td>\n",
       "<td>0.5088656</td>\n",
       "<td>0.6499182</td>\n",
       "<td>12.0</td></tr>\n",
       "<tr><td>max precision</td>\n",
       "<td>0.6259072</td>\n",
       "<td>0.7829755</td>\n",
       "<td>0.0</td></tr>\n",
       "<tr><td>max recall</td>\n",
       "<td>0.4339883</td>\n",
       "<td>1.0</td>\n",
       "<td>20.0</td></tr>\n",
       "<tr><td>max specificity</td>\n",
       "<td>0.6259072</td>\n",
       "<td>0.9456918</td>\n",
       "<td>0.0</td></tr>\n",
       "<tr><td>max absolute_mcc</td>\n",
       "<td>0.5088656</td>\n",
       "<td>0.2976537</td>\n",
       "<td>12.0</td></tr>\n",
       "<tr><td>max min_per_class_accuracy</td>\n",
       "<td>0.5252527</td>\n",
       "<td>0.6317405</td>\n",
       "<td>11.0</td></tr>\n",
       "<tr><td>max mean_per_class_accuracy</td>\n",
       "<td>0.5088656</td>\n",
       "<td>0.6487799</td>\n",
       "<td>12.0</td></tr></table></div>"
      ],
      "text/plain": [
       "metric                       threshold    value     idx\n",
       "---------------------------  -----------  --------  -----\n",
       "max f1                       0.450631     0.695926  19\n",
       "max f2                       0.433988     0.847569  20\n",
       "max f0point5                 0.508866     0.667377  12\n",
       "max accuracy                 0.508866     0.649918  12\n",
       "max precision                0.625907     0.782975  0\n",
       "max recall                   0.433988     1         20\n",
       "max specificity              0.625907     0.945692  0\n",
       "max absolute_mcc             0.508866     0.297654  12\n",
       "max min_per_class_accuracy   0.525253     0.631741  11\n",
       "max mean_per_class_accuracy  0.508866     0.64878   12"
      ]
     },
     "metadata": {},
     "output_type": "display_data"
    },
    {
     "name": "stdout",
     "output_type": "stream",
     "text": [
      "Gains/Lift Table: Avg response rate: 52.65 %\n",
      "\n"
     ]
    },
    {
     "data": {
      "text/html": [
       "<div style=\"overflow:auto\"><table style=\"width:50%\"><tr><td><b></b></td>\n",
       "<td><b>group</b></td>\n",
       "<td><b>cumulative_data_fraction</b></td>\n",
       "<td><b>lower_threshold</b></td>\n",
       "<td><b>lift</b></td>\n",
       "<td><b>cumulative_lift</b></td>\n",
       "<td><b>response_rate</b></td>\n",
       "<td><b>cumulative_response_rate</b></td>\n",
       "<td><b>capture_rate</b></td>\n",
       "<td><b>cumulative_capture_rate</b></td>\n",
       "<td><b>gain</b></td>\n",
       "<td><b>cumulative_gain</b></td></tr>\n",
       "<tr><td></td>\n",
       "<td>1</td>\n",
       "<td>0.1184808</td>\n",
       "<td>0.6259072</td>\n",
       "<td>1.4870454</td>\n",
       "<td>1.4870454</td>\n",
       "<td>0.7829755</td>\n",
       "<td>0.7829755</td>\n",
       "<td>0.1761864</td>\n",
       "<td>0.1761864</td>\n",
       "<td>48.7045369</td>\n",
       "<td>48.7045369</td></tr>\n",
       "<tr><td></td>\n",
       "<td>2</td>\n",
       "<td>0.1675450</td>\n",
       "<td>0.6079560</td>\n",
       "<td>1.3364906</td>\n",
       "<td>1.4429567</td>\n",
       "<td>0.7037037</td>\n",
       "<td>0.7597614</td>\n",
       "<td>0.0655738</td>\n",
       "<td>0.2417601</td>\n",
       "<td>33.6490589</td>\n",
       "<td>44.2956659</td></tr>\n",
       "<tr><td></td>\n",
       "<td>3</td>\n",
       "<td>0.2139742</td>\n",
       "<td>0.5937649</td>\n",
       "<td>1.2190710</td>\n",
       "<td>1.3943768</td>\n",
       "<td>0.6418787</td>\n",
       "<td>0.7341826</td>\n",
       "<td>0.0566005</td>\n",
       "<td>0.2983607</td>\n",
       "<td>21.9071033</td>\n",
       "<td>39.4376806</td></tr>\n",
       "<tr><td></td>\n",
       "<td>4</td>\n",
       "<td>0.3211884</td>\n",
       "<td>0.5547502</td>\n",
       "<td>1.1797719</td>\n",
       "<td>1.3227406</td>\n",
       "<td>0.6211864</td>\n",
       "<td>0.6964639</td>\n",
       "<td>0.1264884</td>\n",
       "<td>0.4248490</td>\n",
       "<td>17.9771866</td>\n",
       "<td>32.2740645</td></tr>\n",
       "<tr><td></td>\n",
       "<td>5</td>\n",
       "<td>0.4557514</td>\n",
       "<td>0.5420925</td>\n",
       "<td>1.2490504</td>\n",
       "<td>1.3009832</td>\n",
       "<td>0.6576637</td>\n",
       "<td>0.6850080</td>\n",
       "<td>0.1680759</td>\n",
       "<td>0.5929249</td>\n",
       "<td>24.9050411</td>\n",
       "<td>30.0983221</td></tr>\n",
       "<tr><td></td>\n",
       "<td>6</td>\n",
       "<td>0.5243504</td>\n",
       "<td>0.5252527</td>\n",
       "<td>1.0464596</td>\n",
       "<td>1.2676848</td>\n",
       "<td>0.5509934</td>\n",
       "<td>0.6674753</td>\n",
       "<td>0.0717860</td>\n",
       "<td>0.6647110</td>\n",
       "<td>4.6459554</td>\n",
       "<td>26.7684769</td></tr>\n",
       "<tr><td></td>\n",
       "<td>7</td>\n",
       "<td>0.6263856</td>\n",
       "<td>0.5084049</td>\n",
       "<td>0.7322919</td>\n",
       "<td>1.1804718</td>\n",
       "<td>0.3855744</td>\n",
       "<td>0.6215550</td>\n",
       "<td>0.0747196</td>\n",
       "<td>0.7394305</td>\n",
       "<td>-26.7708137</td>\n",
       "<td>18.0471796</td></tr>\n",
       "<tr><td></td>\n",
       "<td>8</td>\n",
       "<td>0.8174632</td>\n",
       "<td>0.4674336</td>\n",
       "<td>0.7694429</td>\n",
       "<td>1.0843960</td>\n",
       "<td>0.4051355</td>\n",
       "<td>0.5709681</td>\n",
       "<td>0.1470233</td>\n",
       "<td>0.8864538</td>\n",
       "<td>-23.0557111</td>\n",
       "<td>8.4396016</td></tr>\n",
       "<tr><td></td>\n",
       "<td>9</td>\n",
       "<td>0.9184990</td>\n",
       "<td>0.4506306</td>\n",
       "<td>0.6780501</td>\n",
       "<td>1.0396976</td>\n",
       "<td>0.3570144</td>\n",
       "<td>0.5474330</td>\n",
       "<td>0.0685073</td>\n",
       "<td>0.9549612</td>\n",
       "<td>-32.1949895</td>\n",
       "<td>3.9697564</td></tr>\n",
       "<tr><td></td>\n",
       "<td>10</td>\n",
       "<td>1.0</td>\n",
       "<td>0.4339883</td>\n",
       "<td>0.5526169</td>\n",
       "<td>1.0</td>\n",
       "<td>0.2909699</td>\n",
       "<td>0.5265310</td>\n",
       "<td>0.0450388</td>\n",
       "<td>1.0</td>\n",
       "<td>-44.7383138</td>\n",
       "<td>0.0</td></tr></table></div>"
      ],
      "text/plain": [
       "    group    cumulative_data_fraction    lower_threshold    lift      cumulative_lift    response_rate    cumulative_response_rate    capture_rate    cumulative_capture_rate    gain      cumulative_gain\n",
       "--  -------  --------------------------  -----------------  --------  -----------------  ---------------  --------------------------  --------------  -------------------------  --------  -----------------\n",
       "    1        0.118481                    0.625907           1.48705   1.48705            0.782975         0.782975                    0.176186        0.176186                   48.7045   48.7045\n",
       "    2        0.167545                    0.607956           1.33649   1.44296            0.703704         0.759761                    0.0655738       0.24176                    33.6491   44.2957\n",
       "    3        0.213974                    0.593765           1.21907   1.39438            0.641879         0.734183                    0.0566005       0.298361                   21.9071   39.4377\n",
       "    4        0.321188                    0.55475            1.17977   1.32274            0.621186         0.696464                    0.126488        0.424849                   17.9772   32.2741\n",
       "    5        0.455751                    0.542093           1.24905   1.30098            0.657664         0.685008                    0.168076        0.592925                   24.905    30.0983\n",
       "    6        0.52435                     0.525253           1.04646   1.26768            0.550993         0.667475                    0.071786        0.664711                   4.64596   26.7685\n",
       "    7        0.626386                    0.508405           0.732292  1.18047            0.385574         0.621555                    0.0747196       0.739431                   -26.7708  18.0472\n",
       "    8        0.817463                    0.467434           0.769443  1.0844             0.405136         0.570968                    0.147023        0.886454                   -23.0557  8.4396\n",
       "    9        0.918499                    0.450631           0.67805   1.0397             0.357014         0.547433                    0.0685073       0.954961                   -32.195   3.96976\n",
       "    10       1                           0.433988           0.552617  1                  0.29097          0.526531                    0.0450388       1                          -44.7383  0"
      ]
     },
     "metadata": {},
     "output_type": "display_data"
    },
    {
     "name": "stdout",
     "output_type": "stream",
     "text": [
      "\n"
     ]
    },
    {
     "data": {
      "text/plain": []
     },
     "execution_count": 16,
     "metadata": {},
     "output_type": "execute_result"
    }
   ],
   "source": [
    "# Model performance of GBM model on test data\n",
    "data_gbm.model_performance(test)"
   ]
  }
 ],
 "metadata": {
  "anaconda-cloud": {},
  "kernelspec": {
   "display_name": "Python [Root]",
   "language": "python",
   "name": "Python [Root]"
  },
  "language_info": {
   "codemirror_mode": {
    "name": "ipython",
    "version": 3
   },
   "file_extension": ".py",
   "mimetype": "text/x-python",
   "name": "python",
   "nbconvert_exporter": "python",
   "pygments_lexer": "ipython3",
   "version": "3.5.2"
  }
 },
 "nbformat": 4,
 "nbformat_minor": 0
}
