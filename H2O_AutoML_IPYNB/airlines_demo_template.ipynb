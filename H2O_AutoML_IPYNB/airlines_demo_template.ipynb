{
 "cells": [
  {
   "cell_type": "code",
   "execution_count": 1,
   "metadata": {
    "collapsed": false
   },
   "outputs": [
    {
     "name": "stderr",
     "output_type": "stream",
     "text": [
      "/Users/avniwadhwa/anaconda/lib/python2.7/site-packages/matplotlib/font_manager.py:273: UserWarning: Matplotlib is building the font cache using fc-list. This may take a moment.\n",
      "  warnings.warn('Matplotlib is building the font cache using fc-list. This may take a moment.')\n"
     ]
    }
   ],
   "source": [
    "#Import the appropriate libraries \n",
    "%matplotlib inline\n",
    "\n",
    "import h2o\n",
    "import pandas\n",
    "import pprint\n",
    "import operator\n",
    "import matplotlib\n",
    "from h2o.estimators.glm import H2OGeneralizedLinearEstimator\n",
    "from h2o.estimators.gbm import H2OGradientBoostingEstimator\n",
    "from h2o.estimators.random_forest import H2ORandomForestEstimator\n",
    "from h2o.estimators.deeplearning import H2ODeepLearningEstimator\n",
    "from tabulate import tabulate"
   ]
  },
  {
   "cell_type": "code",
   "execution_count": 2,
   "metadata": {
    "collapsed": false
   },
   "outputs": [
    {
     "name": "stdout",
     "output_type": "stream",
     "text": [
      "Checking whether there is an H2O instance running at http://localhost:54321. connected.\n"
     ]
    },
    {
     "data": {
      "text/html": [
       "<div style=\"overflow:auto\"><table style=\"width:50%\"><tr><td>H2O cluster uptime:</td>\n",
       "<td>2 hours 33 mins</td></tr>\n",
       "<tr><td>H2O cluster version:</td>\n",
       "<td>3.10.0.8</td></tr>\n",
       "<tr><td>H2O cluster version age:</td>\n",
       "<td>1 month and 28 days </td></tr>\n",
       "<tr><td>H2O cluster name:</td>\n",
       "<td>H2O_from_python_avniwadhwa_lwcddv</td></tr>\n",
       "<tr><td>H2O cluster total nodes:</td>\n",
       "<td>1</td></tr>\n",
       "<tr><td>H2O cluster free memory:</td>\n",
       "<td>3.233 Gb</td></tr>\n",
       "<tr><td>H2O cluster total cores:</td>\n",
       "<td>8</td></tr>\n",
       "<tr><td>H2O cluster allowed cores:</td>\n",
       "<td>8</td></tr>\n",
       "<tr><td>H2O cluster status:</td>\n",
       "<td>locked, healthy</td></tr>\n",
       "<tr><td>H2O connection url:</td>\n",
       "<td>http://localhost:54321</td></tr>\n",
       "<tr><td>H2O connection proxy:</td>\n",
       "<td>None</td></tr>\n",
       "<tr><td>Python version:</td>\n",
       "<td>2.7.12 final</td></tr></table></div>"
      ],
      "text/plain": [
       "--------------------------  ---------------------------------\n",
       "H2O cluster uptime:         2 hours 33 mins\n",
       "H2O cluster version:        3.10.0.8\n",
       "H2O cluster version age:    1 month and 28 days\n",
       "H2O cluster name:           H2O_from_python_avniwadhwa_lwcddv\n",
       "H2O cluster total nodes:    1\n",
       "H2O cluster free memory:    3.233 Gb\n",
       "H2O cluster total cores:    8\n",
       "H2O cluster allowed cores:  8\n",
       "H2O cluster status:         locked, healthy\n",
       "H2O connection url:         http://localhost:54321\n",
       "H2O connection proxy:\n",
       "Python version:             2.7.12 final\n",
       "--------------------------  ---------------------------------"
      ]
     },
     "metadata": {},
     "output_type": "display_data"
    }
   ],
   "source": [
    "# Task 1: Connect to a cluster"
   ]
  },
  {
   "cell_type": "code",
   "execution_count": 3,
   "metadata": {
    "collapsed": true
   },
   "outputs": [],
   "source": [
    "# set this to True if interactive (matplotlib) plots are desired\n",
    "interactive = True\n",
    "if not interactive: matplotlib.use('Agg', warn=False)\n",
    "import matplotlib.pyplot as plt"
   ]
  },
  {
   "cell_type": "code",
   "execution_count": 4,
   "metadata": {
    "collapsed": false
   },
   "outputs": [
    {
     "name": "stdout",
     "output_type": "stream",
     "text": [
      "Import and Parse airlines data\n",
      "Parse progress: |█████████████████████████████████████████████████████████████████████████████| 100%\n",
      "Rows:43978\n",
      "Cols:31\n",
      "\n",
      "\n"
     ]
    },
    {
     "data": {
      "text/html": [
       "<table>\n",
       "<tr><th>       </th><th>Year         </th><th>Month        </th><th>DayofMonth   </th><th>DayOfWeek    </th><th>DepTime      </th><th>CRSDepTime   </th><th>ArrTime      </th><th>CRSArrTime   </th><th>UniqueCarrier  </th><th>FlightNum    </th><th>TailNum  </th><th>ActualElapsedTime  </th><th>CRSElapsedTime  </th><th>AirTime      </th><th>ArrDelay     </th><th>DepDelay     </th><th>Origin  </th><th>Dest  </th><th>Distance     </th><th>TaxiIn       </th><th>TaxiOut      </th><th>Cancelled      </th><th>CancellationCode  </th><th>Diverted        </th><th>CarrierDelay  </th><th>WeatherDelay  </th><th>NASDelay     </th><th>SecurityDelay  </th><th>LateAircraftDelay  </th><th>IsArrDelayed  </th><th>IsDepDelayed  </th></tr>\n",
       "<tr><td>type   </td><td>int          </td><td>int          </td><td>int          </td><td>int          </td><td>int          </td><td>int          </td><td>int          </td><td>int          </td><td>enum           </td><td>int          </td><td>enum     </td><td>int                </td><td>int             </td><td>int          </td><td>int          </td><td>int          </td><td>enum    </td><td>enum  </td><td>int          </td><td>int          </td><td>int          </td><td>int            </td><td>enum              </td><td>int             </td><td>int           </td><td>int           </td><td>int          </td><td>int            </td><td>int                </td><td>enum          </td><td>enum          </td></tr>\n",
       "<tr><td>mins   </td><td>1987.0       </td><td>1.0          </td><td>1.0          </td><td>1.0          </td><td>1.0          </td><td>0.0          </td><td>1.0          </td><td>0.0          </td><td>0.0            </td><td>1.0          </td><td>0.0      </td><td>16.0               </td><td>17.0            </td><td>14.0         </td><td>-63.0        </td><td>-16.0        </td><td>0.0     </td><td>0.0   </td><td>11.0         </td><td>0.0          </td><td>0.0          </td><td>0.0            </td><td>0.0               </td><td>0.0             </td><td>0.0           </td><td>0.0           </td><td>0.0          </td><td>0.0            </td><td>0.0                </td><td>0.0           </td><td>0.0           </td></tr>\n",
       "<tr><td>mean   </td><td>1997.5       </td><td>1.40909090909</td><td>14.6010732639</td><td>3.82061485288</td><td>1345.84666138</td><td>1313.22286143</td><td>1504.63413038</td><td>1485.28916731</td><td>NaN            </td><td>818.842989677</td><td>NaN      </td><td>124.814529135      </td><td>125.021562607   </td><td>114.316111091</td><td>9.31711193698</td><td>10.0073906556</td><td>NaN     </td><td>NaN   </td><td>730.182190565</td><td>5.38136805953</td><td>14.1686341847</td><td>0.0246941652645</td><td>NaN               </td><td>0.00247851198326</td><td>4.04780029106 </td><td>0.289376469271</td><td>4.85503190418</td><td>0.0170155602821</td><td>7.62006045002      </td><td>0.555755150302</td><td>0.525057983537</td></tr>\n",
       "<tr><td>maxs   </td><td>2008.0       </td><td>10.0         </td><td>31.0         </td><td>7.0          </td><td>2400.0       </td><td>2359.0       </td><td>2400.0       </td><td>2359.0       </td><td>9.0            </td><td>3949.0       </td><td>3500.0   </td><td>475.0              </td><td>437.0           </td><td>402.0        </td><td>475.0        </td><td>473.0        </td><td>131.0   </td><td>133.0 </td><td>3365.0       </td><td>128.0        </td><td>254.0        </td><td>1.0            </td><td>3.0               </td><td>1.0             </td><td>369.0         </td><td>201.0         </td><td>323.0        </td><td>14.0           </td><td>373.0              </td><td>1.0           </td><td>1.0           </td></tr>\n",
       "<tr><td>sigma  </td><td>6.34436090171</td><td>1.87471137134</td><td>9.17579042586</td><td>1.90501311913</td><td>465.340899124</td><td>476.251139993</td><td>484.347487904</td><td>492.750434123</td><td>NaN            </td><td>777.404369164</td><td>NaN      </td><td>73.9744416606      </td><td>73.40159463     </td><td>69.6363295151</td><td>29.8402219624</td><td>26.4388090429</td><td>NaN     </td><td>NaN   </td><td>578.43800823 </td><td>4.20197993986</td><td>9.9050857472 </td><td>0.155193141358 </td><td>NaN               </td><td>0.0497234872189 </td><td>16.2057299045 </td><td>4.41677989873 </td><td>18.6197762215</td><td>0.403940182102 </td><td>23.4875658741      </td><td>0.496887288343</td><td>0.499377380318</td></tr>\n",
       "<tr><td>zeros  </td><td>0            </td><td>0            </td><td>0            </td><td>0            </td><td>0            </td><td>569          </td><td>0            </td><td>569          </td><td>724            </td><td>0            </td><td>2        </td><td>0                  </td><td>0               </td><td>0            </td><td>1514         </td><td>6393         </td><td>59      </td><td>172   </td><td>0            </td><td>623          </td><td>557          </td><td>42892          </td><td>81                </td><td>43869           </td><td>7344          </td><td>8840          </td><td>7388         </td><td>8914           </td><td>7140               </td><td>19537         </td><td>20887         </td></tr>\n",
       "<tr><td>missing</td><td>0            </td><td>0            </td><td>0            </td><td>0            </td><td>1086         </td><td>0            </td><td>1195         </td><td>0            </td><td>0              </td><td>0            </td><td>32       </td><td>1195               </td><td>13              </td><td>16649        </td><td>1195         </td><td>1086         </td><td>0       </td><td>0     </td><td>35           </td><td>16026        </td><td>16024        </td><td>0              </td><td>9774              </td><td>0               </td><td>35045         </td><td>35045         </td><td>35045        </td><td>35045          </td><td>35045              </td><td>0             </td><td>0             </td></tr>\n",
       "<tr><td>0      </td><td>1987.0       </td><td>10.0         </td><td>14.0         </td><td>3.0          </td><td>741.0        </td><td>730.0        </td><td>912.0        </td><td>849.0        </td><td>PS             </td><td>1451.0       </td><td>NA       </td><td>91.0               </td><td>79.0            </td><td>nan          </td><td>23.0         </td><td>11.0         </td><td>SAN     </td><td>SFO   </td><td>447.0        </td><td>nan          </td><td>nan          </td><td>0.0            </td><td>NA                </td><td>0.0             </td><td>nan           </td><td>nan           </td><td>nan          </td><td>nan            </td><td>nan                </td><td>YES           </td><td>YES           </td></tr>\n",
       "<tr><td>1      </td><td>1987.0       </td><td>10.0         </td><td>15.0         </td><td>4.0          </td><td>729.0        </td><td>730.0        </td><td>903.0        </td><td>849.0        </td><td>PS             </td><td>1451.0       </td><td>NA       </td><td>94.0               </td><td>79.0            </td><td>nan          </td><td>14.0         </td><td>-1.0         </td><td>SAN     </td><td>SFO   </td><td>447.0        </td><td>nan          </td><td>nan          </td><td>0.0            </td><td>NA                </td><td>0.0             </td><td>nan           </td><td>nan           </td><td>nan          </td><td>nan            </td><td>nan                </td><td>YES           </td><td>NO            </td></tr>\n",
       "<tr><td>2      </td><td>1987.0       </td><td>10.0         </td><td>17.0         </td><td>6.0          </td><td>741.0        </td><td>730.0        </td><td>918.0        </td><td>849.0        </td><td>PS             </td><td>1451.0       </td><td>NA       </td><td>97.0               </td><td>79.0            </td><td>nan          </td><td>29.0         </td><td>11.0         </td><td>SAN     </td><td>SFO   </td><td>447.0        </td><td>nan          </td><td>nan          </td><td>0.0            </td><td>NA                </td><td>0.0             </td><td>nan           </td><td>nan           </td><td>nan          </td><td>nan            </td><td>nan                </td><td>YES           </td><td>YES           </td></tr>\n",
       "<tr><td>3      </td><td>1987.0       </td><td>10.0         </td><td>18.0         </td><td>7.0          </td><td>729.0        </td><td>730.0        </td><td>847.0        </td><td>849.0        </td><td>PS             </td><td>1451.0       </td><td>NA       </td><td>78.0               </td><td>79.0            </td><td>nan          </td><td>-2.0         </td><td>-1.0         </td><td>SAN     </td><td>SFO   </td><td>447.0        </td><td>nan          </td><td>nan          </td><td>0.0            </td><td>NA                </td><td>0.0             </td><td>nan           </td><td>nan           </td><td>nan          </td><td>nan            </td><td>nan                </td><td>NO            </td><td>NO            </td></tr>\n",
       "<tr><td>4      </td><td>1987.0       </td><td>10.0         </td><td>19.0         </td><td>1.0          </td><td>749.0        </td><td>730.0        </td><td>922.0        </td><td>849.0        </td><td>PS             </td><td>1451.0       </td><td>NA       </td><td>93.0               </td><td>79.0            </td><td>nan          </td><td>33.0         </td><td>19.0         </td><td>SAN     </td><td>SFO   </td><td>447.0        </td><td>nan          </td><td>nan          </td><td>0.0            </td><td>NA                </td><td>0.0             </td><td>nan           </td><td>nan           </td><td>nan          </td><td>nan            </td><td>nan                </td><td>YES           </td><td>YES           </td></tr>\n",
       "<tr><td>5      </td><td>1987.0       </td><td>10.0         </td><td>21.0         </td><td>3.0          </td><td>728.0        </td><td>730.0        </td><td>848.0        </td><td>849.0        </td><td>PS             </td><td>1451.0       </td><td>NA       </td><td>80.0               </td><td>79.0            </td><td>nan          </td><td>-1.0         </td><td>-2.0         </td><td>SAN     </td><td>SFO   </td><td>447.0        </td><td>nan          </td><td>nan          </td><td>0.0            </td><td>NA                </td><td>0.0             </td><td>nan           </td><td>nan           </td><td>nan          </td><td>nan            </td><td>nan                </td><td>NO            </td><td>NO            </td></tr>\n",
       "<tr><td>6      </td><td>1987.0       </td><td>10.0         </td><td>22.0         </td><td>4.0          </td><td>728.0        </td><td>730.0        </td><td>852.0        </td><td>849.0        </td><td>PS             </td><td>1451.0       </td><td>NA       </td><td>84.0               </td><td>79.0            </td><td>nan          </td><td>3.0          </td><td>-2.0         </td><td>SAN     </td><td>SFO   </td><td>447.0        </td><td>nan          </td><td>nan          </td><td>0.0            </td><td>NA                </td><td>0.0             </td><td>nan           </td><td>nan           </td><td>nan          </td><td>nan            </td><td>nan                </td><td>YES           </td><td>NO            </td></tr>\n",
       "<tr><td>7      </td><td>1987.0       </td><td>10.0         </td><td>23.0         </td><td>5.0          </td><td>731.0        </td><td>730.0        </td><td>902.0        </td><td>849.0        </td><td>PS             </td><td>1451.0       </td><td>NA       </td><td>91.0               </td><td>79.0            </td><td>nan          </td><td>13.0         </td><td>1.0          </td><td>SAN     </td><td>SFO   </td><td>447.0        </td><td>nan          </td><td>nan          </td><td>0.0            </td><td>NA                </td><td>0.0             </td><td>nan           </td><td>nan           </td><td>nan          </td><td>nan            </td><td>nan                </td><td>YES           </td><td>YES           </td></tr>\n",
       "<tr><td>8      </td><td>1987.0       </td><td>10.0         </td><td>24.0         </td><td>6.0          </td><td>744.0        </td><td>730.0        </td><td>908.0        </td><td>849.0        </td><td>PS             </td><td>1451.0       </td><td>NA       </td><td>84.0               </td><td>79.0            </td><td>nan          </td><td>19.0         </td><td>14.0         </td><td>SAN     </td><td>SFO   </td><td>447.0        </td><td>nan          </td><td>nan          </td><td>0.0            </td><td>NA                </td><td>0.0             </td><td>nan           </td><td>nan           </td><td>nan          </td><td>nan            </td><td>nan                </td><td>YES           </td><td>YES           </td></tr>\n",
       "<tr><td>9      </td><td>1987.0       </td><td>10.0         </td><td>25.0         </td><td>7.0          </td><td>729.0        </td><td>730.0        </td><td>851.0        </td><td>849.0        </td><td>PS             </td><td>1451.0       </td><td>NA       </td><td>82.0               </td><td>79.0            </td><td>nan          </td><td>2.0          </td><td>-1.0         </td><td>SAN     </td><td>SFO   </td><td>447.0        </td><td>nan          </td><td>nan          </td><td>0.0            </td><td>NA                </td><td>0.0             </td><td>nan           </td><td>nan           </td><td>nan          </td><td>nan            </td><td>nan                </td><td>YES           </td><td>NO            </td></tr>\n",
       "</table>"
      ]
     },
     "metadata": {},
     "output_type": "display_data"
    }
   ],
   "source": [
    "# Task 2: Load data - 1 row per flight.  Has columns showing the origin,\n",
    "# destination, departure and arrival time, carrier information, and\n",
    "# whether the flight was delayed.\n",
    "print(\"Import and Parse airlines data\")\n",
    "data = h2o.import_file(path='https://s3.amazonaws.com/h2o-airlines-unpacked/allyears2k.csv')\n",
    "data.describe()"
   ]
  },
  {
   "cell_type": "code",
   "execution_count": 5,
   "metadata": {
    "collapsed": false
   },
   "outputs": [],
   "source": [
    "# ----------\n",
    "\n",
    "# 2- Data exploration and munging. Generate scatter plots \n",
    "# of various columns and plot fitted GLM model.\n",
    "\n",
    "# Function to fit a GLM model and plot the fitted (x,y) values\n",
    "def scatter_plot(data, x, y, max_points = 1000, fit = True):\n",
    "    if(fit):\n",
    "        lr = H2OGeneralizedLinearEstimator(family = \"gaussian\")\n",
    "        lr.train(x=x, y=y, training_frame=data)\n",
    "        coeff = lr.coef()\n",
    "    df = data[[x,y]]\n",
    "    runif = df[y].runif()\n",
    "    df_subset = df[runif < float(max_points)/data.nrow]\n",
    "    df_py = h2o.as_list(df_subset)\n",
    "    \n",
    "    if(fit): h2o.remove(lr._id)\n",
    "\n",
    "    # If x variable is string, generate box-and-whisker plot\n",
    "    if(df_py[x].dtype == \"object\"):\n",
    "        if interactive: df_py.boxplot(column = y, by = x)\n",
    "    # Otherwise, generate a scatter plot\n",
    "    else:\n",
    "        if interactive: df_py.plot(x = x, y = y, kind = \"scatter\")\n",
    "    \n",
    "    if(fit):\n",
    "        x_min = min(df_py[x])\n",
    "        x_max = max(df_py[x])\n",
    "        y_min = coeff[\"Intercept\"] + coeff[x]*x_min\n",
    "        y_max = coeff[\"Intercept\"] + coeff[x]*x_max\n",
    "        plt.plot([x_min, x_max], [y_min, y_max], \"k-\")\n",
    "    if interactive: plt.show()\n"
   ]
  },
  {
   "cell_type": "code",
   "execution_count": 6,
   "metadata": {
    "collapsed": false
   },
   "outputs": [
    {
     "name": "stdout",
     "output_type": "stream",
     "text": [
      "glm Model Build progress: |███████████████████████████████████████████████████████████████████| 100%\n"
     ]
    },
    {
     "data": {
      "image/png": "[encoded data removed]",
      "text/plain": [
       "<matplotlib.figure.Figure at 0x118a07550>"
      ]
     },
     "metadata": {},
     "output_type": "display_data"
    },
    {
     "data": {
      "image/png": "[encoded data removed]",
      "text/plain": [
       "<matplotlib.figure.Figure at 0x118c69b10>"
      ]
     },
     "metadata": {},
     "output_type": "display_data"
    }
   ],
   "source": [
    "# Task 3: Generate scatterplots for \"Distance\" and \"Airtime\" and one for \"Unique Carrier\" and the \"ArrDelay\" \n"
   ]
  },
  {
   "cell_type": "code",
   "execution_count": 7,
   "metadata": {
    "collapsed": false
   },
   "outputs": [
    {
     "data": {
      "text/html": [
       "<table>\n",
       "<tr><th style=\"text-align: right;\">  Month</th><th style=\"text-align: right;\">  sum_Cancelled</th><th style=\"text-align: right;\">  nrow_Year</th></tr>\n",
       "<tr><td style=\"text-align: right;\">      1</td><td style=\"text-align: right;\">           1067</td><td style=\"text-align: right;\">      41979</td></tr>\n",
       "<tr><td style=\"text-align: right;\">     10</td><td style=\"text-align: right;\">             19</td><td style=\"text-align: right;\">       1999</td></tr>\n",
       "</table>"
      ]
     },
     "metadata": {},
     "output_type": "display_data"
    },
    {
     "name": "stdout",
     "output_type": "stream",
     "text": [
      "Rows:2\n",
      "Cols:3\n",
      "\n",
      "\n"
     ]
    },
    {
     "data": {
      "text/html": [
       "<table>\n",
       "<tr><th>       </th><th>Month        </th><th>sum_Cancelled  </th><th>nrow_Year    </th></tr>\n",
       "<tr><td>type   </td><td>int          </td><td>int            </td><td>int          </td></tr>\n",
       "<tr><td>mins   </td><td>1.0          </td><td>19.0           </td><td>1999.0       </td></tr>\n",
       "<tr><td>mean   </td><td>5.5          </td><td>543.0          </td><td>21989.0      </td></tr>\n",
       "<tr><td>maxs   </td><td>10.0         </td><td>1067.0         </td><td>41979.0      </td></tr>\n",
       "<tr><td>sigma  </td><td>6.36396103068</td><td>741.047906684  </td><td>28270.1291118</td></tr>\n",
       "<tr><td>zeros  </td><td>0            </td><td>0              </td><td>0            </td></tr>\n",
       "<tr><td>missing</td><td>0            </td><td>0              </td><td>0            </td></tr>\n",
       "<tr><td>0      </td><td>1.0          </td><td>1067.0         </td><td>41979.0      </td></tr>\n",
       "<tr><td>1      </td><td>10.0         </td><td>19.0           </td><td>1999.0       </td></tr>\n",
       "</table>"
      ]
     },
     "metadata": {},
     "output_type": "display_data"
    },
    {
     "data": {
      "text/plain": [
       "[2, 3]"
      ]
     },
     "execution_count": 7,
     "metadata": {},
     "output_type": "execute_result"
    }
   ],
   "source": [
    "# Task 4: Use the .group_by function to group flights by month \n",
    "grouped = \n",
    "bpd = "
   ]
  },
  {
   "cell_type": "code",
   "execution_count": 8,
   "metadata": {
    "collapsed": true
   },
   "outputs": [],
   "source": [
    "# Task 5: Convert the \"Year,\" \"Month,\" \"DayOfWeek,\" \"Cancelled\" columns to factors\n",
    "data[\"Year\"]      = data[\"Year\"]     .asfactor()\n",
    "data[\"Month\"]     = data[\"Month\"]    .asfactor()\n",
    "data[\"DayOfWeek\"] = data[\"DayOfWeek\"].asfactor()\n",
    "data[\"Cancelled\"] = data[\"Cancelled\"].asfactor()"
   ]
  },
  {
   "cell_type": "code",
   "execution_count": 9,
   "metadata": {
    "collapsed": false
   },
   "outputs": [
    {
     "name": "stdout",
     "output_type": "stream",
     "text": [
      "Parse progress: |█████████████████████████████████████████████████████████████████████████████| 100%\n",
      "glm Model Build progress: |███████████████████████████████████████████████████████████████████| 100%\n"
     ]
    },
    {
     "data": {
      "image/png": "[encoded data removed]",
      "text/plain": [
       "<matplotlib.figure.Figure at 0x11c073f50>"
      ]
     },
     "metadata": {},
     "output_type": "display_data"
    }
   ],
   "source": [
    "# Calculate and plot travel time\n",
    "hour1 = data[\"CRSArrTime\"] / 100\n",
    "mins1 = data[\"CRSArrTime\"] % 100\n",
    "arrTime = hour1*60 + mins1\n",
    "\n",
    "hour2 = data[\"CRSDepTime\"] / 100\n",
    "mins2 = data[\"CRSDepTime\"] % 100\n",
    "depTime = hour2*60 + mins2\n",
    "\n",
    "\n",
    "data[\"TravelTime\"] = \n"
   ]
  },
  {
   "cell_type": "code",
   "execution_count": 10,
   "metadata": {
    "collapsed": false
   },
   "outputs": [
    {
     "name": "stdout",
     "output_type": "stream",
     "text": [
      "glm Model Build progress: |███████████████████████████████████████████████████████████████████| 100%\n"
     ]
    },
    {
     "data": {
      "image/png": "[encoded data removed]",
      "text/plain": [
       "<matplotlib.figure.Figure at 0x11c1a1d90>"
      ]
     },
     "metadata": {},
     "output_type": "display_data"
    }
   ],
   "source": [
    "# Task 6: Impute missing travel times by the \"Origin\" and \"Dest\" columns and re-plot. \n"
   ]
  },
  {
   "cell_type": "code",
   "execution_count": 11,
   "metadata": {
    "collapsed": true
   },
   "outputs": [],
   "source": [
    "# Task 7: Create a test/train split\n",
    "split = \n",
    "train =\n",
    "test  = "
   ]
  },
  {
   "cell_type": "code",
   "execution_count": 12,
   "metadata": {
    "collapsed": true
   },
   "outputs": [],
   "source": [
    "# Task 8: Set response variable and your choice of predictor variables\n",
    "myY = \"IsDepDelayed\"\n",
    "myX = "
   ]
  },
  {
   "cell_type": "code",
   "execution_count": 13,
   "metadata": {
    "collapsed": false
   },
   "outputs": [
    {
     "name": "stdout",
     "output_type": "stream",
     "text": [
      "glm Model Build progress: |███████████████████████████████████████████████████████████████████| 100%\n"
     ]
    }
   ],
   "source": [
    "# Task 9: Build simple GLM model\n",
    "\n",
    "data_glm = "
   ]
  },
  {
   "cell_type": "code",
   "execution_count": 14,
   "metadata": {
    "collapsed": false
   },
   "outputs": [
    {
     "name": "stdout",
     "output_type": "stream",
     "text": [
      "gbm Model Build progress: |███████████████████████████████████████████████████████████████████| 100%\n"
     ]
    }
   ],
   "source": [
    "# Task 10: Build simple GBM model\n",
    "\n",
    "data_gbm = \n",
    "\n"
   ]
  },
  {
   "cell_type": "code",
   "execution_count": 15,
   "metadata": {
    "collapsed": false
   },
   "outputs": [
    {
     "name": "stdout",
     "output_type": "stream",
     "text": [
      "Variable Importances:\n",
      "\n",
      "| Predictor        |   Normalized Coefficient |\n",
      "|------------------+--------------------------|\n",
      "| Year.2008        |               2.25931    |\n",
      "| Origin.LIH       |               1.87383    |\n",
      "| Year.2003        |               1.67963    |\n",
      "| Dest.LYH         |               1.53       |\n",
      "| Origin.MDW       |               1.47075    |\n",
      "| Origin.HPN       |               1.46759    |\n",
      "| Year.2007        |               1.44941    |\n",
      "| Origin.TLH       |               1.411      |\n",
      "| Origin.CAE       |               1.29575    |\n",
      "| Dest.HTS         |               1.26756    |\n",
      "| Origin.MLB       |               1.21089    |\n",
      "| Origin.LEX       |               1.19798    |\n",
      "| Origin.MYR       |               1.14159    |\n",
      "| Origin.ERI       |               1.12833    |\n",
      "| Origin.HNL       |               1.12592    |\n",
      "| UniqueCarrier.TW |               1.10475    |\n",
      "| UniqueCarrier.HP |               1.08403    |\n",
      "| Origin.LBB       |               1.04048    |\n",
      "| Origin.OGG       |               1.0055     |\n",
      "| Year.2002        |               1.00469    |\n",
      "| Origin.ACY       |               0.989833   |\n",
      "| Origin.TRI       |               0.950173   |\n",
      "| Year.2001        |               0.93545    |\n",
      "| Origin.STL       |               0.909361   |\n",
      "| Year.2004        |               0.898965   |\n",
      "| Origin.CRP       |               0.866383   |\n",
      "| Dest.ICT         |               0.863408   |\n",
      "| Origin.IAH       |               0.854266   |\n",
      "| Origin.CHO       |               0.840316   |\n",
      "| Origin.PSP       |               0.838689   |\n",
      "| Origin.CRW       |               0.817666   |\n",
      "| Year.2006        |               0.816912   |\n",
      "| Dest.PSP         |               0.809611   |\n",
      "| Origin.AUS       |               0.778674   |\n",
      "| Origin.BTV       |               0.766023   |\n",
      "| Origin.BOI       |               0.756568   |\n",
      "| Origin.MSY       |               0.748891   |\n",
      "| Year.1994        |               0.731362   |\n",
      "| Origin.SRQ       |               0.723819   |\n",
      "| Dest.PBI         |               0.712606   |\n",
      "| Dest.DAY         |               0.70965    |\n",
      "| Origin.PBI       |               0.708172   |\n",
      "| Dest.KOA         |               0.705957   |\n",
      "| Dest.ISP         |               0.701133   |\n",
      "| Origin.OKC       |               0.678925   |\n",
      "| Origin.JAX       |               0.678179   |\n",
      "| Dest.LBB         |               0.663655   |\n",
      "| Origin.SLC       |               0.662765   |\n",
      "| Year.1996        |               0.655824   |\n",
      "| Origin.SAV       |               0.654284   |\n",
      "| Origin.ATL       |               0.642384   |\n",
      "| Origin.ORD       |               0.625356   |\n",
      "| Dest.BDL         |               0.612756   |\n",
      "| Origin.MRY       |               0.612622   |\n",
      "| Origin.LYH       |               0.610506   |\n",
      "| Dest.CHO         |               0.610506   |\n",
      "| Year.1997        |               0.607441   |\n",
      "| Dest.FLL         |               0.601237   |\n",
      "| Dest.FAY         |               0.5858     |\n",
      "| Origin.EYW       |               0.577088   |\n",
      "| Dest.IAH         |               0.57594    |\n",
      "| Dest.GEG         |               0.556331   |\n",
      "| Origin.FLL       |               0.551436   |\n",
      "| Origin.JFK       |               0.547569   |\n",
      "| Dest.CAK         |               0.547496   |\n",
      "| Origin.OAK       |               0.545638   |\n",
      "| Origin.PWM       |               0.538376   |\n",
      "| Dest.SBN         |               0.538149   |\n",
      "| UniqueCarrier.WN |               0.514272   |\n",
      "| Year.2005        |               0.507577   |\n",
      "| Year.1990        |               0.501168   |\n",
      "| Origin.MIA       |               0.497946   |\n",
      "| Dest.TPA         |               0.490159   |\n",
      "| UniqueCarrier.CO |               0.472691   |\n",
      "| Origin.DAY       |               0.465343   |\n",
      "| Origin.OMA       |               0.461827   |\n",
      "| Origin.GSO       |               0.460938   |\n",
      "| Dest.GSO         |               0.460664   |\n",
      "| Dest.SFO         |               0.458174   |\n",
      "| Origin.LIT       |               0.452441   |\n",
      "| Origin.STX       |               0.449261   |\n",
      "| Origin.PIT       |               0.433957   |\n",
      "| Origin.ROA       |               0.425879   |\n",
      "| Dest.BUF         |               0.420935   |\n",
      "| Dest.CHS         |               0.4197     |\n",
      "| Origin.BUR       |               0.415307   |\n",
      "| Dest.PNS         |               0.410571   |\n",
      "| Dest.JAX         |               0.409869   |\n",
      "| Dest.EYW         |               0.408068   |\n",
      "| UniqueCarrier.PI |               0.397237   |\n",
      "| Dest.MKE         |               0.386183   |\n",
      "| Dest.SAT         |               0.384422   |\n",
      "| Dest.CLE         |               0.379798   |\n",
      "| Dest.CMH         |               0.375076   |\n",
      "| Origin.MDT       |               0.374568   |\n",
      "| Dest.SLC         |               0.373901   |\n",
      "| Origin.CLE       |               0.366119   |\n",
      "| Dest.MCO         |               0.365881   |\n",
      "| Dest.LIH         |               0.364537   |\n",
      "| Dest.TOL         |               0.359744   |\n",
      "| Year.1995        |               0.34516    |\n",
      "| Origin.ALB       |               0.345008   |\n",
      "| Origin.MCO       |               0.341699   |\n",
      "| Origin.LGA       |               0.337183   |\n",
      "| Dest.IND         |               0.331378   |\n",
      "| Dest.FAT         |               0.330388   |\n",
      "| Origin.ROC       |               0.329937   |\n",
      "| Dest.SEA         |               0.329086   |\n",
      "| Origin.SYR       |               0.324966   |\n",
      "| Origin.SJC       |               0.323475   |\n",
      "| Dest.BUR         |               0.322127   |\n",
      "| Origin.PHX       |               0.32149    |\n",
      "| Year.1991        |               0.317946   |\n",
      "| Origin.SAN       |               0.313618   |\n",
      "| Origin.MHT       |               0.31256    |\n",
      "| Dest.RSW         |               0.311511   |\n",
      "| Dest.HRL         |               0.307108   |\n",
      "| Origin.TUS       |               0.304761   |\n",
      "| Origin.PHL       |               0.301073   |\n",
      "| Dest.IAD         |               0.29862    |\n",
      "| Origin.LAX       |               0.296383   |\n",
      "| Dest.GSP         |               0.290255   |\n",
      "| Dest.BTV         |               0.290223   |\n",
      "| Origin.UCA       |               0.283876   |\n",
      "| Dest.ABQ         |               0.283218   |\n",
      "| Year.1992        |               0.277079   |\n",
      "| Origin.MEM       |               0.274835   |\n",
      "| UniqueCarrier.US |               0.266023   |\n",
      "| Origin.MKE       |               0.265741   |\n",
      "| Origin.CHS       |               0.259665   |\n",
      "| Year.1987        |               0.257727   |\n",
      "| Month.10         |               0.257727   |\n",
      "| Origin.DFW       |               0.257072   |\n",
      "| Origin.BDL       |               0.256957   |\n",
      "| Dest.SMF         |               0.2566     |\n",
      "| Dest.ROC         |               0.253893   |\n",
      "| Dest.OMA         |               0.250925   |\n",
      "| Origin.RNO       |               0.249077   |\n",
      "| Year.1989        |               0.247756   |\n",
      "| Dest.ACY         |               0.24638    |\n",
      "| Origin.IND       |               0.23783    |\n",
      "| Origin.EWR       |               0.237396   |\n",
      "| Dest.CLT         |               0.235537   |\n",
      "| Dest.BWI         |               0.232093   |\n",
      "| Dest.OAK         |               0.230877   |\n",
      "| Origin.MSP       |               0.229346   |\n",
      "| Origin.PDX       |               0.226689   |\n",
      "| Origin.MCI       |               0.226307   |\n",
      "| Dest.MSP         |               0.225969   |\n",
      "| Dest.LAS         |               0.222631   |\n",
      "| Year.2000        |               0.216379   |\n",
      "| Dest.AUS         |               0.21559    |\n",
      "| DayOfWeek.5      |               0.212729   |\n",
      "| Dest.PVD         |               0.209341   |\n",
      "| Origin.IAD       |               0.208413   |\n",
      "| Dest.STL         |               0.204748   |\n",
      "| Dest.TUL         |               0.203249   |\n",
      "| UniqueCarrier.AA |               0.192551   |\n",
      "| Year.1999        |               0.189558   |\n",
      "| DayOfWeek.2      |               0.186824   |\n",
      "| Dest.PHL         |               0.186194   |\n",
      "| Origin.SEA       |               0.184753   |\n",
      "| Dest.CAE         |               0.18322    |\n",
      "| Origin.DAL       |               0.182333   |\n",
      "| Dest.COS         |               0.182216   |\n",
      "| Origin.GEG       |               0.179688   |\n",
      "| Dest.AVL         |               0.179555   |\n",
      "| Dest.MSY         |               0.178483   |\n",
      "| DayOfWeek.6      |               0.176996   |\n",
      "| Distance         |               0.167732   |\n",
      "| Dest.DFW         |               0.167055   |\n",
      "| Origin.CLT       |               0.16455    |\n",
      "| Origin.BNA       |               0.163865   |\n",
      "| Origin.BUF       |               0.161996   |\n",
      "| Dest.LAX         |               0.16114    |\n",
      "| Dest.MHT         |               0.16005    |\n",
      "| Origin.CVG       |               0.154695   |\n",
      "| Intercept        |               0.150263   |\n",
      "| Origin.SWF       |               0.149904   |\n",
      "| Dest.PDX         |               0.148359   |\n",
      "| UniqueCarrier.UA |               0.143944   |\n",
      "| Origin.BHM       |               0.14115    |\n",
      "| Year.1993        |               0.140994   |\n",
      "| Dest.UCA         |               0.140988   |\n",
      "| Dest.RDU         |               0.140113   |\n",
      "| Origin.ONT       |               0.138243   |\n",
      "| Origin.AVP       |               0.136244   |\n",
      "| Dest.ORD         |               0.123494   |\n",
      "| Origin.BOS       |               0.121452   |\n",
      "| Origin.TPA       |               0.120375   |\n",
      "| DayOfWeek.4      |               0.119877   |\n",
      "| Dest.JAN         |               0.118561   |\n",
      "| Month.1          |               0.11767    |\n",
      "| Dest.SAN         |               0.115321   |\n",
      "| Dest.AMA         |               0.107884   |\n",
      "| Origin.MAF       |               0.100451   |\n",
      "| Origin.DCA       |               0.0926482  |\n",
      "| Origin.LAS       |               0.0916918  |\n",
      "| Dest.LGA         |               0.0909282  |\n",
      "| Dest.SYR         |               0.0891426  |\n",
      "| Origin.JAN       |               0.0885678  |\n",
      "| Origin.RSW       |               0.087028   |\n",
      "| Dest.SNA         |               0.0865519  |\n",
      "| Origin.BWI       |               0.0865163  |\n",
      "| Dest.PHX         |               0.0833849  |\n",
      "| Origin.DEN       |               0.0731361  |\n",
      "| Dest.SJC         |               0.0689831  |\n",
      "| Dest.BNA         |               0.068356   |\n",
      "| Dest.BOS         |               0.0628507  |\n",
      "| Dest.RNO         |               0.0577511  |\n",
      "| Dest.ABE         |               0.0546053  |\n",
      "| Dest.EWR         |               0.0517494  |\n",
      "| Origin.PVD       |               0.0502305  |\n",
      "| Origin.ABQ       |               0.0487616  |\n",
      "| Dest.MIA         |               0.0481079  |\n",
      "| Dest.ATL         |               0.0481045  |\n",
      "| Dest.ROA         |               0.0473667  |\n",
      "| Origin.SJU       |               0.0473019  |\n",
      "| Dest.RIC         |               0.0443412  |\n",
      "| Dest.ALB         |               0.0415257  |\n",
      "| Origin.RIC       |               0.0355144  |\n",
      "| DayOfWeek.3      |               0.0324021  |\n",
      "| Year.1988        |               0.0321721  |\n",
      "| Dest.PIT         |               0.0314939  |\n",
      "| Origin.HOU       |               0.0305088  |\n",
      "| Dest.MCI         |               0.0304513  |\n",
      "| Dest.DEN         |               0.0281135  |\n",
      "| Dest.SDF         |               0.0269407  |\n",
      "| Origin.RDU       |               0.0203246  |\n",
      "| UniqueCarrier.PS |               0.0173492  |\n",
      "| DayOfWeek.7      |               0.0171247  |\n",
      "| Origin.SNA       |               0.0169168  |\n",
      "| Origin.SAT       |               0.0163101  |\n",
      "| FlightNum        |               0.0148873  |\n",
      "| UniqueCarrier.DL |               0.00801602 |\n",
      "| Dest.MDW         |               0.00746915 |\n",
      "| Year.1998        |               0.00286162 |\n",
      "| Dest.LIT         |               0          |\n",
      "| Dest.OKC         |               0          |\n",
      "| Origin.BGM       |               0          |\n",
      "| Dest.ORF         |               0          |\n",
      "| Dest.HPN         |               0          |\n",
      "| Dest.ORH         |               0          |\n",
      "| Origin.ANC       |               0          |\n",
      "| Dest.SRQ         |               0          |\n",
      "| Dest.MRY         |               0          |\n",
      "| Dest.SJU         |               0          |\n",
      "| Dest.DCA         |               0          |\n",
      "| Origin.GRR       |               0          |\n",
      "| Origin.EGE       |               0          |\n",
      "| Dest.DSM         |               0          |\n",
      "| Dest.HNL         |               0          |\n",
      "| Origin.SCK       |               0          |\n",
      "| Dest.PWM         |               0          |\n",
      "| Origin.ISP       |               0          |\n",
      "| Origin.CMH       |               0          |\n",
      "| Origin.LAN       |               0          |\n",
      "| Origin.ICT       |               0          |\n",
      "| Dest.GRR         |               0          |\n",
      "| Dest.SWF         |               0          |\n",
      "| Origin.KOA       |               0          |\n",
      "| Dest.DAL         |               0          |\n",
      "| Dest.JFK         |               0          |\n",
      "| Origin.SMF       |               0          |\n",
      "| Origin.AMA       |               0          |\n",
      "| Dest.ERI         |               0          |\n",
      "| Dest.DTW         |               0          |\n",
      "| Dest.FNT         |               0          |\n",
      "| Origin.DTW       |               0          |\n",
      "| Dest.OAJ         |               0          |\n",
      "| Dest.CRP         |               0          |\n",
      "| Origin.MFR       |               0          |\n",
      "| Origin.DSM       |               0          |\n",
      "| Dest.TUS         |               0          |\n",
      "| Origin.STT       |               0          |\n",
      "| Origin.COS       |               0          |\n",
      "| Dest.ELP         |               0          |\n",
      "| Dest.BHM         |               0          |\n",
      "| Dest.ELM         |               0          |\n",
      "| Dest.CHA         |               0          |\n",
      "| Origin.ABE       |               0          |\n",
      "| Origin.SBN       |               0          |\n",
      "| Origin.ORF       |               0          |\n",
      "| Dest.MDT         |               0          |\n",
      "| Origin.HRL       |               0          |\n",
      "| Origin.GNV       |               0          |\n",
      "| Dest.HOU         |               0          |\n",
      "| Dest.BGM         |               0          |\n",
      "| Dest.LEX         |               0          |\n",
      "| Origin.TUL       |               0          |\n",
      "| Origin.TYS       |               0          |\n",
      "| Dest.BOI         |               0          |\n",
      "| Dest.OGG         |               0          |\n",
      "| Origin.SDF       |               0          |\n",
      "| Dest.ILM         |               0          |\n",
      "| Dest.MAF         |               0          |\n",
      "| Dest.PHF         |               0          |\n",
      "| Dest.ANC         |               0          |\n",
      "| Dest.AVP         |               0          |\n",
      "| DayOfWeek.1      |               0          |\n",
      "| Dest.STT         |               0          |\n",
      "| Origin.SFO       |               0          |\n",
      "| Dest.ONT         |               0          |\n",
      "| Origin.ELP       |               0          |\n",
      "| Dest.EUG         |               0          |\n",
      "| Dest.MYR         |               0          |\n",
      "| Dest.SCK         |               0          |\n",
      "| Origin.PHF       |               0          |\n",
      "| Origin.BIL       |               0          |\n",
      "| Dest.CVG         |               0          |\n",
      "Warning: This model doesn't have variable importances\n"
     ]
    },
    {
     "data": {
      "text/plain": [
       "[(u'Year', 2367.470947265625, 1.0, 0.8459032133822162),\n",
       " (u'Origin', 431.27825927734375, 0.18216834287891065, 0.15409678661778387),\n",
       " (u'Month', 0.0, 0.0, 0.0),\n",
       " (u'DayOfWeek', 0.0, 0.0, 0.0),\n",
       " (u'UniqueCarrier', 0.0, 0.0, 0.0),\n",
       " (u'FlightNum', 0.0, 0.0, 0.0),\n",
       " (u'Dest', 0.0, 0.0, 0.0),\n",
       " (u'Distance', 0.0, 0.0, 0.0)]"
      ]
     },
     "execution_count": 15,
     "metadata": {},
     "output_type": "execute_result"
    }
   ],
   "source": [
    "# Variable importances from each algorithm\n",
    "# Calculate magnitude of normalized GLM coefficients\n",
    "from six import iteritems\n",
    "glm_varimp = data_glm.coef_norm()\n",
    "for k,v in iteritems(glm_varimp):\n",
    "    glm_varimp[k] = abs(glm_varimp[k])\n",
    "    \n",
    "# Sort in descending order by magnitude\n",
    "glm_sorted = sorted(glm_varimp.items(), key = operator.itemgetter(1), reverse = True)\n",
    "table = tabulate(glm_sorted, headers = [\"Predictor\", \"Normalized Coefficient\"], tablefmt = \"orgtbl\")\n",
    "print(\"Variable Importances:\\n\\n\" + table)\n",
    "\n",
    "data_glm.varimp()\n",
    "data_gbm.varimp()"
   ]
  },
  {
   "cell_type": "code",
   "execution_count": 16,
   "metadata": {
    "collapsed": false,
    "scrolled": true
   },
   "outputs": [
    {
     "name": "stdout",
     "output_type": "stream",
     "text": [
      "\n",
      "ModelMetricsBinomial: gbm\n",
      "** Reported on test data. **\n",
      "\n",
      "MSE: 0.23445812582\n",
      "RMSE: 0.484208762643\n",
      "LogLoss: 0.661718519336\n",
      "Mean Per-Class Error: 0.359023952176\n",
      "AUC: 0.674330578177\n",
      "Gini: 0.348661156354\n",
      "Confusion Matrix (Act/Pred) for max f1 @ threshold = 0.449301377218: \n"
     ]
    },
    {
     "data": {
      "text/html": [
       "<div style=\"overflow:auto\"><table style=\"width:50%\"><tr><td><b></b></td>\n",
       "<td><b>NO</b></td>\n",
       "<td><b>YES</b></td>\n",
       "<td><b>Error</b></td>\n",
       "<td><b>Rate</b></td></tr>\n",
       "<tr><td>NO</td>\n",
       "<td>682.0</td>\n",
       "<td>4540.0</td>\n",
       "<td>0.8694</td>\n",
       "<td> (4540.0/5222.0)</td></tr>\n",
       "<tr><td>YES</td>\n",
       "<td>277.0</td>\n",
       "<td>5460.0</td>\n",
       "<td>0.0483</td>\n",
       "<td> (277.0/5737.0)</td></tr>\n",
       "<tr><td>Total</td>\n",
       "<td>959.0</td>\n",
       "<td>10000.0</td>\n",
       "<td>0.4395</td>\n",
       "<td> (4817.0/10959.0)</td></tr></table></div>"
      ],
      "text/plain": [
       "       NO    YES    Error    Rate\n",
       "-----  ----  -----  -------  ----------------\n",
       "NO     682   4540   0.8694   (4540.0/5222.0)\n",
       "YES    277   5460   0.0483   (277.0/5737.0)\n",
       "Total  959   10000  0.4395   (4817.0/10959.0)"
      ]
     },
     "metadata": {},
     "output_type": "display_data"
    },
    {
     "name": "stdout",
     "output_type": "stream",
     "text": [
      "Maximum Metrics: Maximum metrics at their respective thresholds\n",
      "\n"
     ]
    },
    {
     "data": {
      "text/html": [
       "<div style=\"overflow:auto\"><table style=\"width:50%\"><tr><td><b>metric</b></td>\n",
       "<td><b>threshold</b></td>\n",
       "<td><b>value</b></td>\n",
       "<td><b>idx</b></td></tr>\n",
       "<tr><td>max f1</td>\n",
       "<td>0.4493014</td>\n",
       "<td>0.6939061</td>\n",
       "<td>19.0</td></tr>\n",
       "<tr><td>max f2</td>\n",
       "<td>0.4324853</td>\n",
       "<td>0.8459905</td>\n",
       "<td>20.0</td></tr>\n",
       "<tr><td>max f0point5</td>\n",
       "<td>0.5404476</td>\n",
       "<td>0.6583047</td>\n",
       "<td>8.0</td></tr>\n",
       "<tr><td>max accuracy</td>\n",
       "<td>0.5404476</td>\n",
       "<td>0.6381969</td>\n",
       "<td>8.0</td></tr>\n",
       "<tr><td>max precision</td>\n",
       "<td>0.6053035</td>\n",
       "<td>0.7825521</td>\n",
       "<td>1.0</td></tr>\n",
       "<tr><td>max recall</td>\n",
       "<td>0.4324853</td>\n",
       "<td>1.0</td>\n",
       "<td>20.0</td></tr>\n",
       "<tr><td>max specificity</td>\n",
       "<td>0.6210166</td>\n",
       "<td>0.9465722</td>\n",
       "<td>0.0</td></tr>\n",
       "<tr><td>max absolute_mcc</td>\n",
       "<td>0.5404476</td>\n",
       "<td>0.2832069</td>\n",
       "<td>8.0</td></tr>\n",
       "<tr><td>max min_per_class_accuracy</td>\n",
       "<td>0.5234628</td>\n",
       "<td>0.6070471</td>\n",
       "<td>10.0</td></tr>\n",
       "<tr><td>max mean_per_class_accuracy</td>\n",
       "<td>0.5404476</td>\n",
       "<td>0.6409760</td>\n",
       "<td>8.0</td></tr></table></div>"
      ],
      "text/plain": [
       "metric                       threshold    value     idx\n",
       "---------------------------  -----------  --------  -----\n",
       "max f1                       0.449301     0.693906  19\n",
       "max f2                       0.432485     0.845991  20\n",
       "max f0point5                 0.540448     0.658305  8\n",
       "max accuracy                 0.540448     0.638197  8\n",
       "max precision                0.605304     0.782552  1\n",
       "max recall                   0.432485     1         20\n",
       "max specificity              0.621017     0.946572  0\n",
       "max absolute_mcc             0.540448     0.283207  8\n",
       "max min_per_class_accuracy   0.523463     0.607047  10\n",
       "max mean_per_class_accuracy  0.540448     0.640976  8"
      ]
     },
     "metadata": {},
     "output_type": "display_data"
    },
    {
     "name": "stdout",
     "output_type": "stream",
     "text": [
      "Gains/Lift Table: Avg response rate: 52.35 %\n",
      "\n"
     ]
    },
    {
     "data": {
      "text/html": [
       "<div style=\"overflow:auto\"><table style=\"width:50%\"><tr><td><b></b></td>\n",
       "<td><b>group</b></td>\n",
       "<td><b>cumulative_data_fraction</b></td>\n",
       "<td><b>lower_threshold</b></td>\n",
       "<td><b>lift</b></td>\n",
       "<td><b>cumulative_lift</b></td>\n",
       "<td><b>response_rate</b></td>\n",
       "<td><b>cumulative_response_rate</b></td>\n",
       "<td><b>capture_rate</b></td>\n",
       "<td><b>cumulative_capture_rate</b></td>\n",
       "<td><b>gain</b></td>\n",
       "<td><b>cumulative_gain</b></td></tr>\n",
       "<tr><td></td>\n",
       "<td>1</td>\n",
       "<td>0.1161602</td>\n",
       "<td>0.6210166</td>\n",
       "<td>1.4915714</td>\n",
       "<td>1.4915714</td>\n",
       "<td>0.7808327</td>\n",
       "<td>0.7808327</td>\n",
       "<td>0.1732613</td>\n",
       "<td>0.1732613</td>\n",
       "<td>49.1571436</td>\n",
       "<td>49.1571436</td></tr>\n",
       "<tr><td></td>\n",
       "<td>2</td>\n",
       "<td>0.2197281</td>\n",
       "<td>0.6009209</td>\n",
       "<td>1.3396868</td>\n",
       "<td>1.4199813</td>\n",
       "<td>0.7013216</td>\n",
       "<td>0.7433555</td>\n",
       "<td>0.1387485</td>\n",
       "<td>0.3120098</td>\n",
       "<td>33.9686815</td>\n",
       "<td>41.9981301</td></tr>\n",
       "<tr><td></td>\n",
       "<td>3</td>\n",
       "<td>0.3143535</td>\n",
       "<td>0.5682775</td>\n",
       "<td>1.0941926</td>\n",
       "<td>1.3219137</td>\n",
       "<td>0.5728062</td>\n",
       "<td>0.6920174</td>\n",
       "<td>0.1035384</td>\n",
       "<td>0.4155482</td>\n",
       "<td>9.4192581</td>\n",
       "<td>32.1913695</td></tr>\n",
       "<tr><td></td>\n",
       "<td>4</td>\n",
       "<td>0.4147276</td>\n",
       "<td>0.5417959</td>\n",
       "<td>1.3111137</td>\n",
       "<td>1.3192998</td>\n",
       "<td>0.6863636</td>\n",
       "<td>0.6906491</td>\n",
       "<td>0.1316019</td>\n",
       "<td>0.5471501</td>\n",
       "<td>31.1113664</td>\n",
       "<td>31.9299826</td></tr>\n",
       "<tr><td></td>\n",
       "<td>5</td>\n",
       "<td>0.5207592</td>\n",
       "<td>0.5234628</td>\n",
       "<td>0.8482613</td>\n",
       "<td>1.2233919</td>\n",
       "<td>0.4440620</td>\n",
       "<td>0.6404416</td>\n",
       "<td>0.0899425</td>\n",
       "<td>0.6370926</td>\n",
       "<td>-15.1738706</td>\n",
       "<td>22.3391858</td></tr>\n",
       "<tr><td></td>\n",
       "<td>6</td>\n",
       "<td>0.6126471</td>\n",
       "<td>0.5055687</td>\n",
       "<td>0.9503735</td>\n",
       "<td>1.1824432</td>\n",
       "<td>0.4975174</td>\n",
       "<td>0.6190051</td>\n",
       "<td>0.0873279</td>\n",
       "<td>0.7244204</td>\n",
       "<td>-4.9626469</td>\n",
       "<td>18.2443175</td></tr>\n",
       "<tr><td></td>\n",
       "<td>7</td>\n",
       "<td>0.8078292</td>\n",
       "<td>0.4657434</td>\n",
       "<td>0.8028511</td>\n",
       "<td>1.0907288</td>\n",
       "<td>0.4202899</td>\n",
       "<td>0.5709929</td>\n",
       "<td>0.1567021</td>\n",
       "<td>0.8811225</td>\n",
       "<td>-19.7148942</td>\n",
       "<td>9.0728780</td></tr>\n",
       "<tr><td></td>\n",
       "<td>8</td>\n",
       "<td>0.9124920</td>\n",
       "<td>0.4493014</td>\n",
       "<td>0.6744934</td>\n",
       "<td>1.0429866</td>\n",
       "<td>0.3530950</td>\n",
       "<td>0.546</td>\n",
       "<td>0.0705944</td>\n",
       "<td>0.9517169</td>\n",
       "<td>-32.5506634</td>\n",
       "<td>4.2986578</td></tr>\n",
       "<tr><td></td>\n",
       "<td>9</td>\n",
       "<td>1.0</td>\n",
       "<td>0.4324853</td>\n",
       "<td>0.5517562</td>\n",
       "<td>1.0</td>\n",
       "<td>0.2888425</td>\n",
       "<td>0.5234967</td>\n",
       "<td>0.0482831</td>\n",
       "<td>1.0</td>\n",
       "<td>-44.8243778</td>\n",
       "<td>0.0</td></tr></table></div>"
      ],
      "text/plain": [
       "    group    cumulative_data_fraction    lower_threshold    lift      cumulative_lift    response_rate    cumulative_response_rate    capture_rate    cumulative_capture_rate    gain      cumulative_gain\n",
       "--  -------  --------------------------  -----------------  --------  -----------------  ---------------  --------------------------  --------------  -------------------------  --------  -----------------\n",
       "    1        0.11616                     0.621017           1.49157   1.49157            0.780833         0.780833                    0.173261        0.173261                   49.1571   49.1571\n",
       "    2        0.219728                    0.600921           1.33969   1.41998            0.701322         0.743355                    0.138748        0.31201                    33.9687   41.9981\n",
       "    3        0.314353                    0.568277           1.09419   1.32191            0.572806         0.692017                    0.103538        0.415548                   9.41926   32.1914\n",
       "    4        0.414728                    0.541796           1.31111   1.3193             0.686364         0.690649                    0.131602        0.54715                    31.1114   31.93\n",
       "    5        0.520759                    0.523463           0.848261  1.22339            0.444062         0.640442                    0.0899425       0.637093                   -15.1739  22.3392\n",
       "    6        0.612647                    0.505569           0.950374  1.18244            0.497517         0.619005                    0.0873279       0.72442                    -4.96265  18.2443\n",
       "    7        0.807829                    0.465743           0.802851  1.09073            0.42029          0.570993                    0.156702        0.881123                   -19.7149  9.07288\n",
       "    8        0.912492                    0.449301           0.674493  1.04299            0.353095         0.546                       0.0705944       0.951717                   -32.5507  4.29866\n",
       "    9        1                           0.432485           0.551756  1                  0.288843         0.523497                    0.0482831       1                          -44.8244  0"
      ]
     },
     "metadata": {},
     "output_type": "display_data"
    },
    {
     "name": "stdout",
     "output_type": "stream",
     "text": [
      "\n"
     ]
    },
    {
     "data": {
      "text/plain": []
     },
     "execution_count": 16,
     "metadata": {},
     "output_type": "execute_result"
    }
   ],
   "source": [
    "# Model performance of GBM model on test data\n"
   ]
  }
 ],
 "metadata": {
  "anaconda-cloud": {},
  "kernelspec": {
   "display_name": "Python [Root]",
   "language": "python",
   "name": "Python [Root]"
  },
  "language_info": {
   "codemirror_mode": {
    "name": "ipython",
    "version": 2
   },
   "file_extension": ".py",
   "mimetype": "text/x-python",
   "name": "python",
   "nbconvert_exporter": "python",
   "pygments_lexer": "ipython2",
   "version": "2.7.12"
  }
 },
 "nbformat": 4,
 "nbformat_minor": 0
}
