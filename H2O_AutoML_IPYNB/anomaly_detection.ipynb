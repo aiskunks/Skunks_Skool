{
 "cells": [
  {
   "cell_type": "markdown",
   "metadata": {},
   "source": [
    "# Anomaly Detection\n",
    "\n",
    "In this notebook, we will use multiple methods for anomaly detection.  We use multiple methods, since one method may find one group of anomalies and another method may find a different group.  Combining the results of mulitple anomaly detection methods leads to more robust anomaly detection.\n",
    "\n",
    "**Steps**\n",
    "\n",
    "1. Data Exploration\n",
    "2. Anomaly Detection with H2O-3 Isolation Forest\n",
    "3. Analyze anomalies\n",
    "4. Anomaly Detection with H2O-3 Autoencoder\n",
    "5. Compare and combine results\n",
    "\n",
    "## Step 1: Data Exploration\n",
    "\n",
    "Before we dive into the anomaly detection, let's initialize the h2o cluster and load our data in. We will be using public [Housing Dataset in King County](https://www.kaggle.com/harlfoxem/housesalesprediction). This contains one record per home for homes sold between May 2014 and May 2015 in King County."
   ]
  },
  {
   "cell_type": "code",
   "execution_count": 1,
   "metadata": {},
   "outputs": [
    {
     "name": "stdout",
     "output_type": "stream",
     "text": [
      "Checking whether there is an H2O instance running at http://localhost:54321 ..... not found.\n",
      "Attempting to start a local H2O server...\n",
      "  Java Version: java version \"12.0.2\" 2019-07-16; Java(TM) SE Runtime Environment (build 12.0.2+10); Java HotSpot(TM) 64-Bit Server VM (build 12.0.2+10, mixed mode, sharing)\n",
      "  Starting server from /Users/megankurka/env2/lib/python3.6/site-packages/h2o/backend/bin/h2o.jar\n",
      "  Ice root: /var/folders/fk/z2fjbsq163scfcsq9fhsw7r00000gn/T/tmpbraitjmw\n",
      "  JVM stdout: /var/folders/fk/z2fjbsq163scfcsq9fhsw7r00000gn/T/tmpbraitjmw/h2o_megankurka_started_from_python.out\n",
      "  JVM stderr: /var/folders/fk/z2fjbsq163scfcsq9fhsw7r00000gn/T/tmpbraitjmw/h2o_megankurka_started_from_python.err\n",
      "  Server is running at http://127.0.0.1:54321\n",
      "Connecting to H2O server at http://127.0.0.1:54321 ... successful.\n"
     ]
    },
    {
     "data": {
      "text/html": [
       "<div style=\"overflow:auto\"><table style=\"width:50%\"><tr><td>H2O_cluster_uptime:</td>\n",
       "<td>01 secs</td></tr>\n",
       "<tr><td>H2O_cluster_timezone:</td>\n",
       "<td>America/New_York</td></tr>\n",
       "<tr><td>H2O_data_parsing_timezone:</td>\n",
       "<td>UTC</td></tr>\n",
       "<tr><td>H2O_cluster_version:</td>\n",
       "<td>3.30.0.2</td></tr>\n",
       "<tr><td>H2O_cluster_version_age:</td>\n",
       "<td>27 days </td></tr>\n",
       "<tr><td>H2O_cluster_name:</td>\n",
       "<td>H2O_from_python_megankurka_nvv3dq</td></tr>\n",
       "<tr><td>H2O_cluster_total_nodes:</td>\n",
       "<td>1</td></tr>\n",
       "<tr><td>H2O_cluster_free_memory:</td>\n",
       "<td>4 Gb</td></tr>\n",
       "<tr><td>H2O_cluster_total_cores:</td>\n",
       "<td>16</td></tr>\n",
       "<tr><td>H2O_cluster_allowed_cores:</td>\n",
       "<td>16</td></tr>\n",
       "<tr><td>H2O_cluster_status:</td>\n",
       "<td>accepting new members, healthy</td></tr>\n",
       "<tr><td>H2O_connection_url:</td>\n",
       "<td>http://127.0.0.1:54321</td></tr>\n",
       "<tr><td>H2O_connection_proxy:</td>\n",
       "<td>{\"http\": null, \"https\": null}</td></tr>\n",
       "<tr><td>H2O_internal_security:</td>\n",
       "<td>False</td></tr>\n",
       "<tr><td>H2O_API_Extensions:</td>\n",
       "<td>Amazon S3, XGBoost, Algos, AutoML, Core V3, TargetEncoder, Core V4</td></tr>\n",
       "<tr><td>Python_version:</td>\n",
       "<td>3.6.8 final</td></tr></table></div>"
      ],
      "text/plain": [
       "--------------------------  ------------------------------------------------------------------\n",
       "H2O_cluster_uptime:         01 secs\n",
       "H2O_cluster_timezone:       America/New_York\n",
       "H2O_data_parsing_timezone:  UTC\n",
       "H2O_cluster_version:        3.30.0.2\n",
       "H2O_cluster_version_age:    27 days\n",
       "H2O_cluster_name:           H2O_from_python_megankurka_nvv3dq\n",
       "H2O_cluster_total_nodes:    1\n",
       "H2O_cluster_free_memory:    4 Gb\n",
       "H2O_cluster_total_cores:    16\n",
       "H2O_cluster_allowed_cores:  16\n",
       "H2O_cluster_status:         accepting new members, healthy\n",
       "H2O_connection_url:         http://127.0.0.1:54321\n",
       "H2O_connection_proxy:       {\"http\": null, \"https\": null}\n",
       "H2O_internal_security:      False\n",
       "H2O_API_Extensions:         Amazon S3, XGBoost, Algos, AutoML, Core V3, TargetEncoder, Core V4\n",
       "Python_version:             3.6.8 final\n",
       "--------------------------  ------------------------------------------------------------------"
      ]
     },
     "metadata": {},
     "output_type": "display_data"
    }
   ],
   "source": [
    "# import h2o library and start h2o cluster\n",
    "import h2o\n",
    "h2o.init()"
   ]
  },
  {
   "cell_type": "code",
   "execution_count": 3,
   "metadata": {},
   "outputs": [
    {
     "name": "stdout",
     "output_type": "stream",
     "text": [
      "Parse progress: |█████████████████████████████████████████████████████████| 100%\n"
     ]
    }
   ],
   "source": [
    "house_data = h2o.import_file(\"../../../../Data/KCHousing/kc_house_data.csv\")"
   ]
  },
  {
   "cell_type": "code",
   "execution_count": 4,
   "metadata": {},
   "outputs": [
    {
     "data": {
      "text/html": [
       "<table>\n",
       "<thead>\n",
       "<tr><th style=\"text-align: right;\">         id</th><th>date           </th><th style=\"text-align: right;\">         price</th><th style=\"text-align: right;\">  bedrooms</th><th style=\"text-align: right;\">  bathrooms</th><th style=\"text-align: right;\">  sqft_living</th><th style=\"text-align: right;\">  sqft_lot</th><th style=\"text-align: right;\">  floors</th><th style=\"text-align: right;\">  waterfront</th><th style=\"text-align: right;\">  view</th><th style=\"text-align: right;\">  condition</th><th style=\"text-align: right;\">  grade</th><th style=\"text-align: right;\">  sqft_above</th><th style=\"text-align: right;\">  sqft_basement</th><th style=\"text-align: right;\">  yr_built</th><th style=\"text-align: right;\">  yr_renovated</th><th style=\"text-align: right;\">  zipcode</th><th style=\"text-align: right;\">    lat</th><th style=\"text-align: right;\">    long</th><th style=\"text-align: right;\">  sqft_living15</th><th style=\"text-align: right;\">  sqft_lot15</th></tr>\n",
       "</thead>\n",
       "<tbody>\n",
       "<tr><td style=\"text-align: right;\">7.1293e+09 </td><td>20141013T000000</td><td style=\"text-align: right;\">221900        </td><td style=\"text-align: right;\">         3</td><td style=\"text-align: right;\">       1   </td><td style=\"text-align: right;\">         1180</td><td style=\"text-align: right;\">      5650</td><td style=\"text-align: right;\">       1</td><td style=\"text-align: right;\">           0</td><td style=\"text-align: right;\">     0</td><td style=\"text-align: right;\">          3</td><td style=\"text-align: right;\">      7</td><td style=\"text-align: right;\">        1180</td><td style=\"text-align: right;\">              0</td><td style=\"text-align: right;\">      1955</td><td style=\"text-align: right;\">             0</td><td style=\"text-align: right;\">    98178</td><td style=\"text-align: right;\">47.5112</td><td style=\"text-align: right;\">-122.257</td><td style=\"text-align: right;\">           1340</td><td style=\"text-align: right;\">        5650</td></tr>\n",
       "<tr><td style=\"text-align: right;\">6.4141e+09 </td><td>20141209T000000</td><td style=\"text-align: right;\">538000        </td><td style=\"text-align: right;\">         3</td><td style=\"text-align: right;\">       2.25</td><td style=\"text-align: right;\">         2570</td><td style=\"text-align: right;\">      7242</td><td style=\"text-align: right;\">       2</td><td style=\"text-align: right;\">           0</td><td style=\"text-align: right;\">     0</td><td style=\"text-align: right;\">          3</td><td style=\"text-align: right;\">      7</td><td style=\"text-align: right;\">        2170</td><td style=\"text-align: right;\">            400</td><td style=\"text-align: right;\">      1951</td><td style=\"text-align: right;\">          1991</td><td style=\"text-align: right;\">    98125</td><td style=\"text-align: right;\">47.721 </td><td style=\"text-align: right;\">-122.319</td><td style=\"text-align: right;\">           1690</td><td style=\"text-align: right;\">        7639</td></tr>\n",
       "<tr><td style=\"text-align: right;\">5.6315e+09 </td><td>20150225T000000</td><td style=\"text-align: right;\">180000        </td><td style=\"text-align: right;\">         2</td><td style=\"text-align: right;\">       1   </td><td style=\"text-align: right;\">          770</td><td style=\"text-align: right;\">     10000</td><td style=\"text-align: right;\">       1</td><td style=\"text-align: right;\">           0</td><td style=\"text-align: right;\">     0</td><td style=\"text-align: right;\">          3</td><td style=\"text-align: right;\">      6</td><td style=\"text-align: right;\">         770</td><td style=\"text-align: right;\">              0</td><td style=\"text-align: right;\">      1933</td><td style=\"text-align: right;\">             0</td><td style=\"text-align: right;\">    98028</td><td style=\"text-align: right;\">47.7379</td><td style=\"text-align: right;\">-122.233</td><td style=\"text-align: right;\">           2720</td><td style=\"text-align: right;\">        8062</td></tr>\n",
       "<tr><td style=\"text-align: right;\">2.4872e+09 </td><td>20141209T000000</td><td style=\"text-align: right;\">604000        </td><td style=\"text-align: right;\">         4</td><td style=\"text-align: right;\">       3   </td><td style=\"text-align: right;\">         1960</td><td style=\"text-align: right;\">      5000</td><td style=\"text-align: right;\">       1</td><td style=\"text-align: right;\">           0</td><td style=\"text-align: right;\">     0</td><td style=\"text-align: right;\">          5</td><td style=\"text-align: right;\">      7</td><td style=\"text-align: right;\">        1050</td><td style=\"text-align: right;\">            910</td><td style=\"text-align: right;\">      1965</td><td style=\"text-align: right;\">             0</td><td style=\"text-align: right;\">    98136</td><td style=\"text-align: right;\">47.5208</td><td style=\"text-align: right;\">-122.393</td><td style=\"text-align: right;\">           1360</td><td style=\"text-align: right;\">        5000</td></tr>\n",
       "<tr><td style=\"text-align: right;\">1.9544e+09 </td><td>20150218T000000</td><td style=\"text-align: right;\">510000        </td><td style=\"text-align: right;\">         3</td><td style=\"text-align: right;\">       2   </td><td style=\"text-align: right;\">         1680</td><td style=\"text-align: right;\">      8080</td><td style=\"text-align: right;\">       1</td><td style=\"text-align: right;\">           0</td><td style=\"text-align: right;\">     0</td><td style=\"text-align: right;\">          3</td><td style=\"text-align: right;\">      8</td><td style=\"text-align: right;\">        1680</td><td style=\"text-align: right;\">              0</td><td style=\"text-align: right;\">      1987</td><td style=\"text-align: right;\">             0</td><td style=\"text-align: right;\">    98074</td><td style=\"text-align: right;\">47.6168</td><td style=\"text-align: right;\">-122.045</td><td style=\"text-align: right;\">           1800</td><td style=\"text-align: right;\">        7503</td></tr>\n",
       "<tr><td style=\"text-align: right;\">7.23755e+09</td><td>20140512T000000</td><td style=\"text-align: right;\">     1.225e+06</td><td style=\"text-align: right;\">         4</td><td style=\"text-align: right;\">       4.5 </td><td style=\"text-align: right;\">         5420</td><td style=\"text-align: right;\">    101930</td><td style=\"text-align: right;\">       1</td><td style=\"text-align: right;\">           0</td><td style=\"text-align: right;\">     0</td><td style=\"text-align: right;\">          3</td><td style=\"text-align: right;\">     11</td><td style=\"text-align: right;\">        3890</td><td style=\"text-align: right;\">           1530</td><td style=\"text-align: right;\">      2001</td><td style=\"text-align: right;\">             0</td><td style=\"text-align: right;\">    98053</td><td style=\"text-align: right;\">47.6561</td><td style=\"text-align: right;\">-122.005</td><td style=\"text-align: right;\">           4760</td><td style=\"text-align: right;\">      101930</td></tr>\n",
       "<tr><td style=\"text-align: right;\">1.3214e+09 </td><td>20140627T000000</td><td style=\"text-align: right;\">257500        </td><td style=\"text-align: right;\">         3</td><td style=\"text-align: right;\">       2.25</td><td style=\"text-align: right;\">         1715</td><td style=\"text-align: right;\">      6819</td><td style=\"text-align: right;\">       2</td><td style=\"text-align: right;\">           0</td><td style=\"text-align: right;\">     0</td><td style=\"text-align: right;\">          3</td><td style=\"text-align: right;\">      7</td><td style=\"text-align: right;\">        1715</td><td style=\"text-align: right;\">              0</td><td style=\"text-align: right;\">      1995</td><td style=\"text-align: right;\">             0</td><td style=\"text-align: right;\">    98003</td><td style=\"text-align: right;\">47.3097</td><td style=\"text-align: right;\">-122.327</td><td style=\"text-align: right;\">           2238</td><td style=\"text-align: right;\">        6819</td></tr>\n",
       "<tr><td style=\"text-align: right;\">2.008e+09  </td><td>20150115T000000</td><td style=\"text-align: right;\">291850        </td><td style=\"text-align: right;\">         3</td><td style=\"text-align: right;\">       1.5 </td><td style=\"text-align: right;\">         1060</td><td style=\"text-align: right;\">      9711</td><td style=\"text-align: right;\">       1</td><td style=\"text-align: right;\">           0</td><td style=\"text-align: right;\">     0</td><td style=\"text-align: right;\">          3</td><td style=\"text-align: right;\">      7</td><td style=\"text-align: right;\">        1060</td><td style=\"text-align: right;\">              0</td><td style=\"text-align: right;\">      1963</td><td style=\"text-align: right;\">             0</td><td style=\"text-align: right;\">    98198</td><td style=\"text-align: right;\">47.4095</td><td style=\"text-align: right;\">-122.315</td><td style=\"text-align: right;\">           1650</td><td style=\"text-align: right;\">        9711</td></tr>\n",
       "<tr><td style=\"text-align: right;\">2.4146e+09 </td><td>20150415T000000</td><td style=\"text-align: right;\">229500        </td><td style=\"text-align: right;\">         3</td><td style=\"text-align: right;\">       1   </td><td style=\"text-align: right;\">         1780</td><td style=\"text-align: right;\">      7470</td><td style=\"text-align: right;\">       1</td><td style=\"text-align: right;\">           0</td><td style=\"text-align: right;\">     0</td><td style=\"text-align: right;\">          3</td><td style=\"text-align: right;\">      7</td><td style=\"text-align: right;\">        1050</td><td style=\"text-align: right;\">            730</td><td style=\"text-align: right;\">      1960</td><td style=\"text-align: right;\">             0</td><td style=\"text-align: right;\">    98146</td><td style=\"text-align: right;\">47.5123</td><td style=\"text-align: right;\">-122.337</td><td style=\"text-align: right;\">           1780</td><td style=\"text-align: right;\">        8113</td></tr>\n",
       "<tr><td style=\"text-align: right;\">3.7935e+09 </td><td>20150312T000000</td><td style=\"text-align: right;\">323000        </td><td style=\"text-align: right;\">         3</td><td style=\"text-align: right;\">       2.5 </td><td style=\"text-align: right;\">         1890</td><td style=\"text-align: right;\">      6560</td><td style=\"text-align: right;\">       2</td><td style=\"text-align: right;\">           0</td><td style=\"text-align: right;\">     0</td><td style=\"text-align: right;\">          3</td><td style=\"text-align: right;\">      7</td><td style=\"text-align: right;\">        1890</td><td style=\"text-align: right;\">              0</td><td style=\"text-align: right;\">      2003</td><td style=\"text-align: right;\">             0</td><td style=\"text-align: right;\">    98038</td><td style=\"text-align: right;\">47.3684</td><td style=\"text-align: right;\">-122.031</td><td style=\"text-align: right;\">           2390</td><td style=\"text-align: right;\">        7570</td></tr>\n",
       "</tbody>\n",
       "</table>"
      ]
     },
     "metadata": {},
     "output_type": "display_data"
    },
    {
     "data": {
      "text/plain": []
     },
     "execution_count": 4,
     "metadata": {},
     "output_type": "execute_result"
    }
   ],
   "source": [
    "house_data.head()"
   ]
  },
  {
   "cell_type": "markdown",
   "metadata": {},
   "source": [
    "### Visualize Data\n",
    "\n",
    "We will first visualize the data to see if we can see anomalies in our data.\n",
    "\n",
    "The histogram below shows us that must properties have between 2000 and 6000 sqft, however, there are some homes with 10k sqft and greater."
   ]
  },
  {
   "cell_type": "code",
   "execution_count": 6,
   "metadata": {},
   "outputs": [
    {
     "data": {
      "image/png": "[encoded data removed]",
      "text/plain": [
       "<Figure size 432x288 with 1 Axes>"
      ]
     },
     "metadata": {
      "needs_background": "light"
     },
     "output_type": "display_data"
    }
   ],
   "source": [
    "%matplotlib inline\n",
    "house_data[\"sqft_living\"].hist()"
   ]
  },
  {
   "cell_type": "markdown",
   "metadata": {},
   "source": [
    "The histogram of year built shows that there was a big jump in construction between 2010 and 2015."
   ]
  },
  {
   "cell_type": "code",
   "execution_count": 7,
   "metadata": {},
   "outputs": [
    {
     "data": {
      "image/png": "[encoded data removed]",
      "text/plain": [
       "<Figure size 432x288 with 1 Axes>"
      ]
     },
     "metadata": {
      "needs_background": "light"
     },
     "output_type": "display_data"
    }
   ],
   "source": [
    "house_data[\"yr_built\"].hist()"
   ]
  },
  {
   "cell_type": "markdown",
   "metadata": {},
   "source": [
    "There may be cases where we which to visualize individual points, not aggregations. For most datasets, however, these scatter plots will have too many points causing the plot to be unreadable.\n",
    "\n",
    "In this case, we can use H2O-3's Aggregator to reduce the size of the data. This method is preferred to random sampling because the aggregator will maintain the shape of the data. Random sampling will often cause outliers to be accidentally removed.\n",
    "\n",
    "We will ask the aggregator to reduce the size of the data to 100 records."
   ]
  },
  {
   "cell_type": "code",
   "execution_count": 8,
   "metadata": {},
   "outputs": [],
   "source": [
    "import matplotlib.pyplot as plt\n",
    "\n",
    "plt.style.use('ggplot')"
   ]
  },
  {
   "cell_type": "code",
   "execution_count": 24,
   "metadata": {},
   "outputs": [
    {
     "name": "stdout",
     "output_type": "stream",
     "text": [
      "aggregator Model Build progress: |████████████████████████████████████████| 100%\n"
     ]
    }
   ],
   "source": [
    "from h2o.estimators.aggregator import H2OAggregatorEstimator\n",
    "\n",
    "\n",
    "# Build an aggregated frame with around 100 records\n",
    "agg = H2OAggregatorEstimator(target_num_exemplars = 100)\n",
    "agg.train(training_frame=house_data)\n",
    "\n",
    "# Use the aggregated model to create a new dataframe using aggregated_frame\n",
    "plot_data = agg.aggregated_frame.as_data_frame(use_pandas = True)\n",
    "plot_data[\"price\"] = plot_data[\"price\"]/1000"
   ]
  },
  {
   "cell_type": "markdown",
   "metadata": {},
   "source": [
    "We can now easily plot the data without being overwhelmed by points to see if there are any outliers in our graphs. The size of the marker indicates how many homes fall into that point.  \n",
    "\n",
    "We can see that most homes have less than 4000 sqft and are less than 2 million."
   ]
  },
  {
   "cell_type": "code",
   "execution_count": 26,
   "metadata": {},
   "outputs": [
    {
     "data": {
      "image/png": "[encoded data removed]",
      "text/plain": [
       "<Figure size 432x288 with 1 Axes>"
      ]
     },
     "metadata": {},
     "output_type": "display_data"
    }
   ],
   "source": [
    "plt.scatter(plot_data.sqft_living, plot_data.price, s = plot_data.counts)\n",
    "plt.xlabel(\"sqft_living\")\n",
    "plt.ylabel(\"price (k)\")\n",
    "plt.show()"
   ]
  },
  {
   "cell_type": "markdown",
   "metadata": {},
   "source": [
    "The next graph shows the sqft of living area and the sqft of the lot.  We can see some outliers with a small living area and large lot and large living area and small lot."
   ]
  },
  {
   "cell_type": "code",
   "execution_count": 266,
   "metadata": {},
   "outputs": [
    {
     "data": {
      "image/png": "[encoded data removed]",
      "text/plain": [
       "<Figure size 432x288 with 1 Axes>"
      ]
     },
     "metadata": {},
     "output_type": "display_data"
    }
   ],
   "source": [
    "plt.scatter(plot_data.sqft_lot, plot_data.price, s = plot_data.counts)\n",
    "plt.xlabel(\"sqft_lot\")\n",
    "plt.ylabel(\"price\")\n",
    "plt.show()"
   ]
  },
  {
   "cell_type": "markdown",
   "metadata": {},
   "source": [
    "## Step 2: Anomaly Detection with Isolation Forest\n",
    "\n",
    "The idea behind Isolation Forest is that anomalies are easier to separate from the rest of the data than other points. The Isolation Forest algorithm partitions the data through a forest of decision trees. Each split is made randomly. The number of splits it takes to isolate a record indicates whether or not the record is an anomaly. When a forest of random trees collectively produces shorter path lengths for particular samples, they are highly likely to be anomalies.\n",
    "\n",
    "To find our anomalous houses, let's train our isolation forest and see how the predictions look. We will only use a subset of columns for demo purposes."
   ]
  },
  {
   "cell_type": "code",
   "execution_count": 33,
   "metadata": {},
   "outputs": [
    {
     "data": {
      "text/html": [
       "<table>\n",
       "<thead>\n",
       "<tr><th style=\"text-align: right;\">         id</th><th>date           </th><th style=\"text-align: right;\">         price</th><th style=\"text-align: right;\">  bedrooms</th><th style=\"text-align: right;\">  bathrooms</th><th style=\"text-align: right;\">  sqft_living</th><th style=\"text-align: right;\">  sqft_lot</th><th style=\"text-align: right;\">  floors</th><th style=\"text-align: right;\">  waterfront</th><th style=\"text-align: right;\">  view</th><th style=\"text-align: right;\">  condition</th><th style=\"text-align: right;\">  grade</th><th style=\"text-align: right;\">  sqft_above</th><th style=\"text-align: right;\">  sqft_basement</th><th style=\"text-align: right;\">  yr_built</th><th style=\"text-align: right;\">  yr_renovated</th><th style=\"text-align: right;\">  zipcode</th><th style=\"text-align: right;\">    lat</th><th style=\"text-align: right;\">    long</th><th style=\"text-align: right;\">  sqft_living15</th><th style=\"text-align: right;\">  sqft_lot15</th></tr>\n",
       "</thead>\n",
       "<tbody>\n",
       "<tr><td style=\"text-align: right;\">7.1293e+09 </td><td>20141013T000000</td><td style=\"text-align: right;\">221900        </td><td style=\"text-align: right;\">         3</td><td style=\"text-align: right;\">       1   </td><td style=\"text-align: right;\">         1180</td><td style=\"text-align: right;\">      5650</td><td style=\"text-align: right;\">       1</td><td style=\"text-align: right;\">           0</td><td style=\"text-align: right;\">     0</td><td style=\"text-align: right;\">          3</td><td style=\"text-align: right;\">      7</td><td style=\"text-align: right;\">        1180</td><td style=\"text-align: right;\">              0</td><td style=\"text-align: right;\">      1955</td><td style=\"text-align: right;\">             0</td><td style=\"text-align: right;\">    98178</td><td style=\"text-align: right;\">47.5112</td><td style=\"text-align: right;\">-122.257</td><td style=\"text-align: right;\">           1340</td><td style=\"text-align: right;\">        5650</td></tr>\n",
       "<tr><td style=\"text-align: right;\">6.4141e+09 </td><td>20141209T000000</td><td style=\"text-align: right;\">538000        </td><td style=\"text-align: right;\">         3</td><td style=\"text-align: right;\">       2.25</td><td style=\"text-align: right;\">         2570</td><td style=\"text-align: right;\">      7242</td><td style=\"text-align: right;\">       2</td><td style=\"text-align: right;\">           0</td><td style=\"text-align: right;\">     0</td><td style=\"text-align: right;\">          3</td><td style=\"text-align: right;\">      7</td><td style=\"text-align: right;\">        2170</td><td style=\"text-align: right;\">            400</td><td style=\"text-align: right;\">      1951</td><td style=\"text-align: right;\">          1991</td><td style=\"text-align: right;\">    98125</td><td style=\"text-align: right;\">47.721 </td><td style=\"text-align: right;\">-122.319</td><td style=\"text-align: right;\">           1690</td><td style=\"text-align: right;\">        7639</td></tr>\n",
       "<tr><td style=\"text-align: right;\">5.6315e+09 </td><td>20150225T000000</td><td style=\"text-align: right;\">180000        </td><td style=\"text-align: right;\">         2</td><td style=\"text-align: right;\">       1   </td><td style=\"text-align: right;\">          770</td><td style=\"text-align: right;\">     10000</td><td style=\"text-align: right;\">       1</td><td style=\"text-align: right;\">           0</td><td style=\"text-align: right;\">     0</td><td style=\"text-align: right;\">          3</td><td style=\"text-align: right;\">      6</td><td style=\"text-align: right;\">         770</td><td style=\"text-align: right;\">              0</td><td style=\"text-align: right;\">      1933</td><td style=\"text-align: right;\">             0</td><td style=\"text-align: right;\">    98028</td><td style=\"text-align: right;\">47.7379</td><td style=\"text-align: right;\">-122.233</td><td style=\"text-align: right;\">           2720</td><td style=\"text-align: right;\">        8062</td></tr>\n",
       "<tr><td style=\"text-align: right;\">2.4872e+09 </td><td>20141209T000000</td><td style=\"text-align: right;\">604000        </td><td style=\"text-align: right;\">         4</td><td style=\"text-align: right;\">       3   </td><td style=\"text-align: right;\">         1960</td><td style=\"text-align: right;\">      5000</td><td style=\"text-align: right;\">       1</td><td style=\"text-align: right;\">           0</td><td style=\"text-align: right;\">     0</td><td style=\"text-align: right;\">          5</td><td style=\"text-align: right;\">      7</td><td style=\"text-align: right;\">        1050</td><td style=\"text-align: right;\">            910</td><td style=\"text-align: right;\">      1965</td><td style=\"text-align: right;\">             0</td><td style=\"text-align: right;\">    98136</td><td style=\"text-align: right;\">47.5208</td><td style=\"text-align: right;\">-122.393</td><td style=\"text-align: right;\">           1360</td><td style=\"text-align: right;\">        5000</td></tr>\n",
       "<tr><td style=\"text-align: right;\">1.9544e+09 </td><td>20150218T000000</td><td style=\"text-align: right;\">510000        </td><td style=\"text-align: right;\">         3</td><td style=\"text-align: right;\">       2   </td><td style=\"text-align: right;\">         1680</td><td style=\"text-align: right;\">      8080</td><td style=\"text-align: right;\">       1</td><td style=\"text-align: right;\">           0</td><td style=\"text-align: right;\">     0</td><td style=\"text-align: right;\">          3</td><td style=\"text-align: right;\">      8</td><td style=\"text-align: right;\">        1680</td><td style=\"text-align: right;\">              0</td><td style=\"text-align: right;\">      1987</td><td style=\"text-align: right;\">             0</td><td style=\"text-align: right;\">    98074</td><td style=\"text-align: right;\">47.6168</td><td style=\"text-align: right;\">-122.045</td><td style=\"text-align: right;\">           1800</td><td style=\"text-align: right;\">        7503</td></tr>\n",
       "<tr><td style=\"text-align: right;\">7.23755e+09</td><td>20140512T000000</td><td style=\"text-align: right;\">     1.225e+06</td><td style=\"text-align: right;\">         4</td><td style=\"text-align: right;\">       4.5 </td><td style=\"text-align: right;\">         5420</td><td style=\"text-align: right;\">    101930</td><td style=\"text-align: right;\">       1</td><td style=\"text-align: right;\">           0</td><td style=\"text-align: right;\">     0</td><td style=\"text-align: right;\">          3</td><td style=\"text-align: right;\">     11</td><td style=\"text-align: right;\">        3890</td><td style=\"text-align: right;\">           1530</td><td style=\"text-align: right;\">      2001</td><td style=\"text-align: right;\">             0</td><td style=\"text-align: right;\">    98053</td><td style=\"text-align: right;\">47.6561</td><td style=\"text-align: right;\">-122.005</td><td style=\"text-align: right;\">           4760</td><td style=\"text-align: right;\">      101930</td></tr>\n",
       "<tr><td style=\"text-align: right;\">1.3214e+09 </td><td>20140627T000000</td><td style=\"text-align: right;\">257500        </td><td style=\"text-align: right;\">         3</td><td style=\"text-align: right;\">       2.25</td><td style=\"text-align: right;\">         1715</td><td style=\"text-align: right;\">      6819</td><td style=\"text-align: right;\">       2</td><td style=\"text-align: right;\">           0</td><td style=\"text-align: right;\">     0</td><td style=\"text-align: right;\">          3</td><td style=\"text-align: right;\">      7</td><td style=\"text-align: right;\">        1715</td><td style=\"text-align: right;\">              0</td><td style=\"text-align: right;\">      1995</td><td style=\"text-align: right;\">             0</td><td style=\"text-align: right;\">    98003</td><td style=\"text-align: right;\">47.3097</td><td style=\"text-align: right;\">-122.327</td><td style=\"text-align: right;\">           2238</td><td style=\"text-align: right;\">        6819</td></tr>\n",
       "<tr><td style=\"text-align: right;\">2.008e+09  </td><td>20150115T000000</td><td style=\"text-align: right;\">291850        </td><td style=\"text-align: right;\">         3</td><td style=\"text-align: right;\">       1.5 </td><td style=\"text-align: right;\">         1060</td><td style=\"text-align: right;\">      9711</td><td style=\"text-align: right;\">       1</td><td style=\"text-align: right;\">           0</td><td style=\"text-align: right;\">     0</td><td style=\"text-align: right;\">          3</td><td style=\"text-align: right;\">      7</td><td style=\"text-align: right;\">        1060</td><td style=\"text-align: right;\">              0</td><td style=\"text-align: right;\">      1963</td><td style=\"text-align: right;\">             0</td><td style=\"text-align: right;\">    98198</td><td style=\"text-align: right;\">47.4095</td><td style=\"text-align: right;\">-122.315</td><td style=\"text-align: right;\">           1650</td><td style=\"text-align: right;\">        9711</td></tr>\n",
       "<tr><td style=\"text-align: right;\">2.4146e+09 </td><td>20150415T000000</td><td style=\"text-align: right;\">229500        </td><td style=\"text-align: right;\">         3</td><td style=\"text-align: right;\">       1   </td><td style=\"text-align: right;\">         1780</td><td style=\"text-align: right;\">      7470</td><td style=\"text-align: right;\">       1</td><td style=\"text-align: right;\">           0</td><td style=\"text-align: right;\">     0</td><td style=\"text-align: right;\">          3</td><td style=\"text-align: right;\">      7</td><td style=\"text-align: right;\">        1050</td><td style=\"text-align: right;\">            730</td><td style=\"text-align: right;\">      1960</td><td style=\"text-align: right;\">             0</td><td style=\"text-align: right;\">    98146</td><td style=\"text-align: right;\">47.5123</td><td style=\"text-align: right;\">-122.337</td><td style=\"text-align: right;\">           1780</td><td style=\"text-align: right;\">        8113</td></tr>\n",
       "<tr><td style=\"text-align: right;\">3.7935e+09 </td><td>20150312T000000</td><td style=\"text-align: right;\">323000        </td><td style=\"text-align: right;\">         3</td><td style=\"text-align: right;\">       2.5 </td><td style=\"text-align: right;\">         1890</td><td style=\"text-align: right;\">      6560</td><td style=\"text-align: right;\">       2</td><td style=\"text-align: right;\">           0</td><td style=\"text-align: right;\">     0</td><td style=\"text-align: right;\">          3</td><td style=\"text-align: right;\">      7</td><td style=\"text-align: right;\">        1890</td><td style=\"text-align: right;\">              0</td><td style=\"text-align: right;\">      2003</td><td style=\"text-align: right;\">             0</td><td style=\"text-align: right;\">    98038</td><td style=\"text-align: right;\">47.3684</td><td style=\"text-align: right;\">-122.031</td><td style=\"text-align: right;\">           2390</td><td style=\"text-align: right;\">        7570</td></tr>\n",
       "</tbody>\n",
       "</table>"
      ]
     },
     "metadata": {},
     "output_type": "display_data"
    },
    {
     "data": {
      "text/plain": []
     },
     "execution_count": 33,
     "metadata": {},
     "output_type": "execute_result"
    }
   ],
   "source": [
    "house_data.head()"
   ]
  },
  {
   "cell_type": "code",
   "execution_count": 38,
   "metadata": {},
   "outputs": [
    {
     "name": "stdout",
     "output_type": "stream",
     "text": [
      "isolationforest Model Build progress: |███████████████████████████████████| 100%\n"
     ]
    }
   ],
   "source": [
    "from h2o.estimators import H2OIsolationForestEstimator\n",
    "\n",
    "myX = [x for x in house_data.col_names if x not in [\"id\", \"date\"]]\n",
    "\n",
    "isolation_model = H2OIsolationForestEstimator(model_id = \"isolation_forest.hex\", \n",
    "                                              max_depth = 20,\n",
    "                                              seed = 1234 # make reproducible\n",
    "                                             )\n",
    "isolation_model.train(training_frame = house_data, x = myX)"
   ]
  },
  {
   "cell_type": "markdown",
   "metadata": {},
   "source": [
    "The predictions from the isolation forest return the mean_length. This is the average number of splits it took to isolate the record across all the decision trees in the forest. Records with a smaller mean_length are more likely to be anomalous since it takes fewer partitions of the data to isolate them."
   ]
  },
  {
   "cell_type": "code",
   "execution_count": 39,
   "metadata": {},
   "outputs": [
    {
     "name": "stdout",
     "output_type": "stream",
     "text": [
      "isolationforest prediction progress: |████████████████████████████████████| 100%\n"
     ]
    },
    {
     "data": {
      "text/html": [
       "<table>\n",
       "<thead>\n",
       "<tr><th style=\"text-align: right;\">  predict</th><th style=\"text-align: right;\">  mean_length</th></tr>\n",
       "</thead>\n",
       "<tbody>\n",
       "<tr><td style=\"text-align: right;\"> 0.191489</td><td style=\"text-align: right;\">        12.86</td></tr>\n",
       "<tr><td style=\"text-align: right;\"> 0.356792</td><td style=\"text-align: right;\">        10.84</td></tr>\n",
       "<tr><td style=\"text-align: right;\"> 0.397709</td><td style=\"text-align: right;\">        10.34</td></tr>\n",
       "<tr><td style=\"text-align: right;\"> 0.410802</td><td style=\"text-align: right;\">        10.18</td></tr>\n",
       "<tr><td style=\"text-align: right;\"> 0.10311 </td><td style=\"text-align: right;\">        13.94</td></tr>\n",
       "<tr><td style=\"text-align: right;\"> 0.728314</td><td style=\"text-align: right;\">         6.3 </td></tr>\n",
       "<tr><td style=\"text-align: right;\"> 0.204583</td><td style=\"text-align: right;\">        12.7 </td></tr>\n",
       "<tr><td style=\"text-align: right;\"> 0.225859</td><td style=\"text-align: right;\">        12.44</td></tr>\n",
       "<tr><td style=\"text-align: right;\"> 0.170213</td><td style=\"text-align: right;\">        13.12</td></tr>\n",
       "<tr><td style=\"text-align: right;\"> 0.14239 </td><td style=\"text-align: right;\">        13.46</td></tr>\n",
       "</tbody>\n",
       "</table>"
      ]
     },
     "metadata": {},
     "output_type": "display_data"
    },
    {
     "data": {
      "text/plain": []
     },
     "execution_count": 39,
     "metadata": {},
     "output_type": "execute_result"
    }
   ],
   "source": [
    "predictions = isolation_model.predict(house_data)\n",
    "predictions.head()"
   ]
  },
  {
   "cell_type": "markdown",
   "metadata": {},
   "source": [
    "The histogram of the `mean_length` shows that it takes between 12 and 15 splits to separate the record."
   ]
  },
  {
   "cell_type": "code",
   "execution_count": 40,
   "metadata": {},
   "outputs": [
    {
     "data": {
      "image/png": "[encoded data removed]",
      "text/plain": [
       "<Figure size 432x288 with 1 Axes>"
      ]
     },
     "metadata": {},
     "output_type": "display_data"
    }
   ],
   "source": [
    "predictions[\"mean_length\"].hist()"
   ]
  },
  {
   "cell_type": "markdown",
   "metadata": {},
   "source": [
    "## Step 3: Analyze Anomalies\n",
    "\n",
    "We will define an anomaly as a house who's mean_length is less than 5.0. These were houses who were easier to isolate from the rest of the data.\n",
    "\n",
    "There are 57 anomalous houses."
   ]
  },
  {
   "cell_type": "code",
   "execution_count": 48,
   "metadata": {},
   "outputs": [
    {
     "name": "stdout",
     "output_type": "stream",
     "text": [
      "Number of Anomalies: 44\n"
     ]
    }
   ],
   "source": [
    "anomalies = house_data[predictions[\"mean_length\"] < 5.0]\n",
    "print(\"Number of Anomalies: \" + str(anomalies.nrow))"
   ]
  },
  {
   "cell_type": "code",
   "execution_count": 49,
   "metadata": {},
   "outputs": [
    {
     "name": "stdout",
     "output_type": "stream",
     "text": [
      "isolationforest prediction progress: |████████████████████████████████████| 100%\n"
     ]
    },
    {
     "data": {
      "text/html": [
       "<table>\n",
       "<thead>\n",
       "<tr><th style=\"text-align: right;\">  mean_length</th><th style=\"text-align: right;\">     price</th><th style=\"text-align: right;\">  bedrooms</th><th style=\"text-align: right;\">  bathrooms</th><th style=\"text-align: right;\">  sqft_living</th><th style=\"text-align: right;\">  sqft_lot</th><th style=\"text-align: right;\">  floors</th><th style=\"text-align: right;\">  waterfront</th><th style=\"text-align: right;\">  view</th><th style=\"text-align: right;\">  condition</th><th style=\"text-align: right;\">  grade</th><th style=\"text-align: right;\">  sqft_above</th><th style=\"text-align: right;\">  sqft_basement</th><th style=\"text-align: right;\">  yr_built</th><th style=\"text-align: right;\">  yr_renovated</th><th style=\"text-align: right;\">  zipcode</th><th style=\"text-align: right;\">    lat</th><th style=\"text-align: right;\">    long</th><th style=\"text-align: right;\">  sqft_living15</th><th style=\"text-align: right;\">  sqft_lot15</th></tr>\n",
       "</thead>\n",
       "<tbody>\n",
       "<tr><td style=\"text-align: right;\">         4.46</td><td style=\"text-align: right;\">3.075e+06 </td><td style=\"text-align: right;\">         4</td><td style=\"text-align: right;\">       5   </td><td style=\"text-align: right;\">         4550</td><td style=\"text-align: right;\">     18641</td><td style=\"text-align: right;\">     1  </td><td style=\"text-align: right;\">           1</td><td style=\"text-align: right;\">     4</td><td style=\"text-align: right;\">          3</td><td style=\"text-align: right;\">     10</td><td style=\"text-align: right;\">        2600</td><td style=\"text-align: right;\">           1950</td><td style=\"text-align: right;\">      2002</td><td style=\"text-align: right;\">             0</td><td style=\"text-align: right;\">    98074</td><td style=\"text-align: right;\">47.6053</td><td style=\"text-align: right;\">-122.077</td><td style=\"text-align: right;\">           4550</td><td style=\"text-align: right;\">       19508</td></tr>\n",
       "<tr><td style=\"text-align: right;\">         4.18</td><td style=\"text-align: right;\">2.125e+06 </td><td style=\"text-align: right;\">         3</td><td style=\"text-align: right;\">       2.5 </td><td style=\"text-align: right;\">         5403</td><td style=\"text-align: right;\">     24069</td><td style=\"text-align: right;\">     2  </td><td style=\"text-align: right;\">           1</td><td style=\"text-align: right;\">     4</td><td style=\"text-align: right;\">          4</td><td style=\"text-align: right;\">     12</td><td style=\"text-align: right;\">        5403</td><td style=\"text-align: right;\">              0</td><td style=\"text-align: right;\">      1976</td><td style=\"text-align: right;\">             0</td><td style=\"text-align: right;\">    98166</td><td style=\"text-align: right;\">47.4169</td><td style=\"text-align: right;\">-122.348</td><td style=\"text-align: right;\">           3980</td><td style=\"text-align: right;\">      104374</td></tr>\n",
       "<tr><td style=\"text-align: right;\">         4.82</td><td style=\"text-align: right;\">3.07e+06  </td><td style=\"text-align: right;\">         3</td><td style=\"text-align: right;\">       2.5 </td><td style=\"text-align: right;\">         3930</td><td style=\"text-align: right;\">     55867</td><td style=\"text-align: right;\">     1  </td><td style=\"text-align: right;\">           1</td><td style=\"text-align: right;\">     4</td><td style=\"text-align: right;\">          4</td><td style=\"text-align: right;\">      8</td><td style=\"text-align: right;\">        2330</td><td style=\"text-align: right;\">           1600</td><td style=\"text-align: right;\">      1957</td><td style=\"text-align: right;\">             0</td><td style=\"text-align: right;\">    98034</td><td style=\"text-align: right;\">47.7022</td><td style=\"text-align: right;\">-122.224</td><td style=\"text-align: right;\">           2730</td><td style=\"text-align: right;\">       26324</td></tr>\n",
       "<tr><td style=\"text-align: right;\">         3.64</td><td style=\"text-align: right;\">5.1108e+06</td><td style=\"text-align: right;\">         5</td><td style=\"text-align: right;\">       5.25</td><td style=\"text-align: right;\">         8010</td><td style=\"text-align: right;\">     45517</td><td style=\"text-align: right;\">     2  </td><td style=\"text-align: right;\">           1</td><td style=\"text-align: right;\">     4</td><td style=\"text-align: right;\">          3</td><td style=\"text-align: right;\">     12</td><td style=\"text-align: right;\">        5990</td><td style=\"text-align: right;\">           2020</td><td style=\"text-align: right;\">      1999</td><td style=\"text-align: right;\">             0</td><td style=\"text-align: right;\">    98033</td><td style=\"text-align: right;\">47.6767</td><td style=\"text-align: right;\">-122.211</td><td style=\"text-align: right;\">           3430</td><td style=\"text-align: right;\">       26788</td></tr>\n",
       "<tr><td style=\"text-align: right;\">         3.38</td><td style=\"text-align: right;\">5.3e+06   </td><td style=\"text-align: right;\">         6</td><td style=\"text-align: right;\">       6   </td><td style=\"text-align: right;\">         7390</td><td style=\"text-align: right;\">     24829</td><td style=\"text-align: right;\">     2  </td><td style=\"text-align: right;\">           1</td><td style=\"text-align: right;\">     4</td><td style=\"text-align: right;\">          4</td><td style=\"text-align: right;\">     12</td><td style=\"text-align: right;\">        5000</td><td style=\"text-align: right;\">           2390</td><td style=\"text-align: right;\">      1991</td><td style=\"text-align: right;\">             0</td><td style=\"text-align: right;\">    98040</td><td style=\"text-align: right;\">47.5631</td><td style=\"text-align: right;\">-122.21 </td><td style=\"text-align: right;\">           4320</td><td style=\"text-align: right;\">       24619</td></tr>\n",
       "<tr><td style=\"text-align: right;\">         4.66</td><td style=\"text-align: right;\">2.2e+06   </td><td style=\"text-align: right;\">         5</td><td style=\"text-align: right;\">       4.25</td><td style=\"text-align: right;\">         4640</td><td style=\"text-align: right;\">     22703</td><td style=\"text-align: right;\">     2  </td><td style=\"text-align: right;\">           1</td><td style=\"text-align: right;\">     4</td><td style=\"text-align: right;\">          5</td><td style=\"text-align: right;\">      8</td><td style=\"text-align: right;\">        2860</td><td style=\"text-align: right;\">           1780</td><td style=\"text-align: right;\">      1952</td><td style=\"text-align: right;\">             0</td><td style=\"text-align: right;\">    98052</td><td style=\"text-align: right;\">47.6393</td><td style=\"text-align: right;\">-122.097</td><td style=\"text-align: right;\">           3140</td><td style=\"text-align: right;\">       14200</td></tr>\n",
       "<tr><td style=\"text-align: right;\">         4.56</td><td style=\"text-align: right;\">3.85e+06  </td><td style=\"text-align: right;\">         4</td><td style=\"text-align: right;\">       4.25</td><td style=\"text-align: right;\">         5770</td><td style=\"text-align: right;\">     21300</td><td style=\"text-align: right;\">     2  </td><td style=\"text-align: right;\">           1</td><td style=\"text-align: right;\">     4</td><td style=\"text-align: right;\">          4</td><td style=\"text-align: right;\">     11</td><td style=\"text-align: right;\">        5770</td><td style=\"text-align: right;\">              0</td><td style=\"text-align: right;\">      1980</td><td style=\"text-align: right;\">             0</td><td style=\"text-align: right;\">    98040</td><td style=\"text-align: right;\">47.585 </td><td style=\"text-align: right;\">-122.222</td><td style=\"text-align: right;\">           4620</td><td style=\"text-align: right;\">       22748</td></tr>\n",
       "<tr><td style=\"text-align: right;\">         4.14</td><td style=\"text-align: right;\">3.278e+06 </td><td style=\"text-align: right;\">         2</td><td style=\"text-align: right;\">       1.75</td><td style=\"text-align: right;\">         6840</td><td style=\"text-align: right;\">     10000</td><td style=\"text-align: right;\">     2.5</td><td style=\"text-align: right;\">           1</td><td style=\"text-align: right;\">     4</td><td style=\"text-align: right;\">          3</td><td style=\"text-align: right;\">     11</td><td style=\"text-align: right;\">        4350</td><td style=\"text-align: right;\">           2490</td><td style=\"text-align: right;\">      2001</td><td style=\"text-align: right;\">             0</td><td style=\"text-align: right;\">    98008</td><td style=\"text-align: right;\">47.6042</td><td style=\"text-align: right;\">-122.112</td><td style=\"text-align: right;\">           3120</td><td style=\"text-align: right;\">       12300</td></tr>\n",
       "<tr><td style=\"text-align: right;\">         4.42</td><td style=\"text-align: right;\">4.5e+06   </td><td style=\"text-align: right;\">         5</td><td style=\"text-align: right;\">       5.5 </td><td style=\"text-align: right;\">         6640</td><td style=\"text-align: right;\">     40014</td><td style=\"text-align: right;\">     2  </td><td style=\"text-align: right;\">           1</td><td style=\"text-align: right;\">     4</td><td style=\"text-align: right;\">          3</td><td style=\"text-align: right;\">     12</td><td style=\"text-align: right;\">        6350</td><td style=\"text-align: right;\">            290</td><td style=\"text-align: right;\">      2004</td><td style=\"text-align: right;\">             0</td><td style=\"text-align: right;\">    98155</td><td style=\"text-align: right;\">47.7493</td><td style=\"text-align: right;\">-122.28 </td><td style=\"text-align: right;\">           3030</td><td style=\"text-align: right;\">       23408</td></tr>\n",
       "<tr><td style=\"text-align: right;\">         4.76</td><td style=\"text-align: right;\">3.6e+06   </td><td style=\"text-align: right;\">         3</td><td style=\"text-align: right;\">       3.25</td><td style=\"text-align: right;\">         5020</td><td style=\"text-align: right;\">     12431</td><td style=\"text-align: right;\">     2  </td><td style=\"text-align: right;\">           1</td><td style=\"text-align: right;\">     4</td><td style=\"text-align: right;\">          3</td><td style=\"text-align: right;\">     10</td><td style=\"text-align: right;\">        3420</td><td style=\"text-align: right;\">           1600</td><td style=\"text-align: right;\">      1941</td><td style=\"text-align: right;\">          2002</td><td style=\"text-align: right;\">    98144</td><td style=\"text-align: right;\">47.5925</td><td style=\"text-align: right;\">-122.287</td><td style=\"text-align: right;\">           3680</td><td style=\"text-align: right;\">       12620</td></tr>\n",
       "</tbody>\n",
       "</table>"
      ]
     },
     "metadata": {},
     "output_type": "display_data"
    },
    {
     "data": {
      "text/plain": []
     },
     "execution_count": 49,
     "metadata": {},
     "output_type": "execute_result"
    }
   ],
   "source": [
    "isolation_model.predict(anomalies)[\"mean_length\"].cbind(anomalies[myX])"
   ]
  },
  {
   "cell_type": "markdown",
   "metadata": {},
   "source": [
    "### Interpreting Anomalies\n",
    "\n",
    "\n",
    "Now that we have found anomalous employees, we are interested in why they are considered anomalies. To do this, we will train a surrogate decision tree. The purpose of the surrogate decision tree is to find records with the anomaly flag. To do this, it will find segments of similar anomalies and discover how to separate them from records that are not anomalies. We can use this decision tree to then describe anomalous segments of the data.\n",
    "\n",
    "The steps of interpreting anomalies on a global level are:\n",
    "\n",
    "1. Create a frame with a column that indicates whether the record was considered an anomaly.\n",
    "2. Train a decision tree to predict the anomaly flag.\n",
    "3. Visualize the decision tree to determine which segments of the data are considered anomalous.\n",
    "4. In our first step, we will add a column called anomaly. This is a flag that indicates whether the isolation forest considered the record an anomaly."
   ]
  },
  {
   "cell_type": "code",
   "execution_count": 50,
   "metadata": {},
   "outputs": [
    {
     "data": {
      "text/html": [
       "<table>\n",
       "<thead>\n",
       "<tr><th>anomaly_iso_for  </th><th style=\"text-align: right;\">  Count</th></tr>\n",
       "</thead>\n",
       "<tbody>\n",
       "<tr><td>No               </td><td style=\"text-align: right;\">  21569</td></tr>\n",
       "<tr><td>Yes              </td><td style=\"text-align: right;\">     44</td></tr>\n",
       "</tbody>\n",
       "</table>"
      ]
     },
     "metadata": {},
     "output_type": "display_data"
    },
    {
     "data": {
      "text/plain": []
     },
     "execution_count": 50,
     "metadata": {},
     "output_type": "execute_result"
    }
   ],
   "source": [
    "house_data[\"anomaly_iso_for\"] = (predictions[\"mean_length\"] < 5).ifelse(\"Yes\", \"No\")\n",
    "house_data[\"anomaly_iso_for\"].table()"
   ]
  },
  {
   "cell_type": "markdown",
   "metadata": {},
   "source": [
    "Now that we have the surrogate data, we can train a single decision tree to predict the anomaly flag. We will keep this decision tree simple (only a single decision tree with a depth of 5) because the purpose of the decision tree is to be completely interpretable."
   ]
  },
  {
   "cell_type": "code",
   "execution_count": 182,
   "metadata": {},
   "outputs": [
    {
     "name": "stdout",
     "output_type": "stream",
     "text": [
      "drf Model Build progress: |███████████████████████████████████████████████| 100%\n"
     ]
    }
   ],
   "source": [
    "from h2o.estimators import H2ORandomForestEstimator\n",
    "\n",
    "global_surrogate_dt = H2ORandomForestEstimator(model_id = \"global_surrogate_decision_tree.hex\", \n",
    "                                               ntrees = 1, max_depth = 5, min_rows = 10,\n",
    "                                               sample_rate = 1, mtries = len(myX))\n",
    "global_surrogate_dt.train(training_frame = house_data, x = myX, y = \"anomaly_iso_for\")"
   ]
  },
  {
   "cell_type": "code",
   "execution_count": 183,
   "metadata": {},
   "outputs": [],
   "source": [
    "import os\n",
    "import subprocess\n",
    "from IPython.display import Image\n",
    "def generateTreeImage(decision_tree, image_file_path):\n",
    "    # Download MOJO\n",
    "    mojo_path = decision_tree.download_mojo(get_genmodel_jar=True)\n",
    "    directory = os.path.dirname(mojo_path)\n",
    "    h2o_jar_path = os.path.join(directory, \"h2o-genmodel.jar\")\n",
    "    # Create Graphviz file\n",
    "    gv_file_path = os.path.join(directory, \"decision_tree.gv\")\n",
    "    gv_call = \" \".join([\"java\", \"-cp\", h2o_jar_path, \"hex.genmodel.tools.PrintMojo\", \"--tree 0 -i\", mojo_path , \"-o\", gv_file_path])\n",
    "    result = subprocess.call(gv_call, shell=True)\n",
    "    result = subprocess.call([\"ls\", gv_file_path], shell = False)\n",
    "    result = subprocess.call([\"dot\", \"-Tpng\", gv_file_path, \"-o\", image_file_path], shell=False)\n",
    "    result = subprocess.call([\"ls\",image_file_path], shell = False)\n",
    "    \n",
    "    return Image(image_file_path)"
   ]
  },
  {
   "cell_type": "code",
   "execution_count": 184,
   "metadata": {
    "scrolled": true
   },
   "outputs": [
    {
     "data": {
      "image/png": "[encoded data removed]",
      "text/plain": [
       "<IPython.core.display.Image object>"
      ]
     },
     "execution_count": 184,
     "metadata": {},
     "output_type": "execute_result"
    }
   ],
   "source": [
    "generateTreeImage(global_surrogate_dt, \"./global_surrogate_decision_tree.png\")\n"
   ]
  },
  {
   "cell_type": "markdown",
   "metadata": {},
   "source": [
    "The visualization shows our global surrogate decision tree. The values in the leaf nodes represent the probability of the record not being an anomaly. We are, therefore, interested in leaf nodes with low values - these will indicate a segment of data that is anomalous.\n",
    "\n",
    "We can see that there are three leaf nodes with high proportion of anomalies.  The leaf nodes show the following groups:\n",
    "\n",
    "1. Large Homes with Lower Price\n",
    "    * sqft_basement >= 1,565\n",
    "    * waterfront == 1\n",
    "    * price < 3 million\n",
    "2. Expensive Homes on the Water\n",
    "    * price > 3 million\n",
    "    * waterfront == 1\n",
    "    * (this segment encompasses the two leaf nodes to the right of the decision tree)\n",
    "    \n",
    "**Segment 1**\n",
    "\n",
    "If we examine Segment 1, we can see that houses of that size on the waterfront are typically more expensive."
   ]
  },
  {
   "cell_type": "code",
   "execution_count": 187,
   "metadata": {},
   "outputs": [
    {
     "name": "stdout",
     "output_type": "stream",
     "text": [
      "# of houses in Segment 1: 11\n"
     ]
    }
   ],
   "source": [
    "segment_1 = house_data[(house_data[\"price\"] < 3068408) &\n",
    "                       (house_data[\"waterfront\"] == 1) &\n",
    "                       (house_data[\"sqft_basement\"] >= 1565)]\n",
    "print(\"# of houses in Segment 1: {}\".format(segment_1.nrow))"
   ]
  },
  {
   "cell_type": "code",
   "execution_count": 191,
   "metadata": {},
   "outputs": [
    {
     "data": {
      "image/png": "[encoded data removed]",
      "text/plain": [
       "<Figure size 432x288 with 1 Axes>"
      ]
     },
     "metadata": {},
     "output_type": "display_data"
    }
   ],
   "source": [
    "house_data[(house_data[\"waterfront\"]== 1) & (house_data[\"sqft_basement\"] >= 1565)][\"price\"].hist()"
   ]
  },
  {
   "cell_type": "markdown",
   "metadata": {},
   "source": [
    "**Segment 2**\n",
    "\n",
    "This segment are considered outliers because they are on the waterfront and are much more expensive than a typical home in the dataset."
   ]
  },
  {
   "cell_type": "code",
   "execution_count": 193,
   "metadata": {},
   "outputs": [
    {
     "name": "stdout",
     "output_type": "stream",
     "text": [
      "# of houses in Segment 2: 24\n"
     ]
    }
   ],
   "source": [
    "segment_2 = house_data[(house_data[\"price\"] >= 3068408) &\n",
    "                       (house_data[\"waterfront\"] == 0)]\n",
    "print(\"# of houses in Segment 2: {}\".format(segment_2.nrow))"
   ]
  },
  {
   "cell_type": "code",
   "execution_count": 197,
   "metadata": {},
   "outputs": [
    {
     "data": {
      "text/html": [
       "<table>\n",
       "<thead>\n",
       "<tr><th style=\"text-align: right;\">  waterfront</th><th style=\"text-align: right;\">  Count</th></tr>\n",
       "</thead>\n",
       "<tbody>\n",
       "<tr><td style=\"text-align: right;\">           0</td><td style=\"text-align: right;\">  21450</td></tr>\n",
       "<tr><td style=\"text-align: right;\">           1</td><td style=\"text-align: right;\">    163</td></tr>\n",
       "</tbody>\n",
       "</table>"
      ]
     },
     "metadata": {},
     "output_type": "display_data"
    },
    {
     "data": {
      "text/plain": []
     },
     "execution_count": 197,
     "metadata": {},
     "output_type": "execute_result"
    }
   ],
   "source": [
    "house_data[\"waterfront\"].table()"
   ]
  },
  {
   "cell_type": "code",
   "execution_count": 195,
   "metadata": {
    "scrolled": true
   },
   "outputs": [
    {
     "data": {
      "image/png": "[encoded data removed]",
      "text/plain": [
       "<Figure size 432x288 with 1 Axes>"
      ]
     },
     "metadata": {},
     "output_type": "display_data"
    }
   ],
   "source": [
    "house_data[\"price\"].hist()"
   ]
  },
  {
   "cell_type": "markdown",
   "metadata": {},
   "source": [
    "## Step 4: Anomaly Detection with Autoencoder\n",
    "\n",
    "The idea behind Autoencoder is that if we use deep learning to build a low dimensional representation of the data then this approximation of the data will have high error for anomalies.\n",
    "\n",
    "Note: There are many parameters that can be set for a Deep Learning model (Deep Learning is the algorithm used for Autoencoder). We want a model that is good at reconstructing the data so we want to learn the best parameters for this dataset.  If our Autoencoder model is not good at reconstructing any rows of data, then it will not be good at helping us find outliers.\n",
    "\n",
    "To start, we will first run a grid search to determine the optimal Autoencoder parameters on some holdout set."
   ]
  },
  {
   "cell_type": "code",
   "execution_count": 198,
   "metadata": {},
   "outputs": [],
   "source": [
    "train, test = house_data.split_frame(ratios = [0.75], destination_frames=[\"train\", \"test\"], seed = 1234)"
   ]
  },
  {
   "cell_type": "code",
   "execution_count": 199,
   "metadata": {},
   "outputs": [],
   "source": [
    "## Set DeepLearning Grid Search Parameters\n",
    "from h2o.estimators import H2ODeepLearningEstimator\n",
    "from h2o.grid.grid_search import H2OGridSearch\n",
    "\n",
    "# create hyperameter and search criteria lists (ranges are inclusive..exclusive))\n",
    "dl_hyper_params_tune = {\n",
    "    'activation' : [\"Tanh\",\"RectifierWithDropout\",\"TanhWithDropout\"],\n",
    "    'hidden': [[2], [5], [10], [2, 2]],\n",
    "    'input_dropout_ratio' : [0,0.05],\n",
    "    'l1': [0, 1e-05, 2e-05, 3e-05, 4e-05, 5e-05, 6e-05, 7e-05, 8e-05, 9e-05, 1e-04],\n",
    "    'l2': [0, 1e-05, 2e-05, 3e-05, 4e-05, 5e-05, 6e-05, 7e-05, 8e-05, 9e-05, 1e-04]}"
   ]
  },
  {
   "cell_type": "code",
   "execution_count": 200,
   "metadata": {},
   "outputs": [],
   "source": [
    "random_search_criteria_tune = {'strategy': \"RandomDiscrete\",\n",
    "                               'max_runtime_secs': 60, \n",
    "                               'seed' : 1234, # make it reproducible\n",
    "                               'stopping_rounds' : 5, # stop grid search once the best models have similar AUC\n",
    "                               'stopping_metric' : \"MSE\",\n",
    "                               'stopping_tolerance': 1e-3\n",
    "                              }"
   ]
  },
  {
   "cell_type": "code",
   "execution_count": 201,
   "metadata": {},
   "outputs": [],
   "source": [
    "stopping_metric = \"MSE\"\n",
    "stopping_tolerance = 1e-3\n",
    "stopping_rounds = 5"
   ]
  },
  {
   "cell_type": "code",
   "execution_count": 203,
   "metadata": {},
   "outputs": [],
   "source": [
    "## Deep Learning Model\n",
    "\n",
    "dl_model = H2ODeepLearningEstimator(\n",
    "    seed = 1234,\n",
    "    ## here, use \"more than enough\" epochs - we have early stopping\n",
    "    epochs=10000, \n",
    "    ## early stopping\n",
    "    stopping_rounds = stopping_rounds,\n",
    "    stopping_metric = stopping_metric,\n",
    "    stopping_tolerance = stopping_tolerance,\n",
    "    autoencoder = True,\n",
    "    reproducible = True\n",
    ")"
   ]
  },
  {
   "cell_type": "code",
   "execution_count": 204,
   "metadata": {},
   "outputs": [
    {
     "name": "stdout",
     "output_type": "stream",
     "text": [
      "deeplearning Grid Build progress: |███████████████████████████████████████| 100%\n",
      "Errors/Warnings building gridsearch model\n",
      "\n",
      "Hyper-parameter: activation, RectifierWithDropout\n",
      "Hyper-parameter: hidden, [2]\n",
      "Hyper-parameter: input_dropout_ratio, 0.05\n",
      "Hyper-parameter: l1, 0.0001\n",
      "Hyper-parameter: l2, 8e-05\n",
      "failure_details: DistributedException from /127.0.0.1:54321: '\n",
      "\n",
      "Trying to predict with an unstable model.\n",
      "Job was aborted due to observed numerical instability (exponential growth).\n",
      "Either the weights or the bias values are unreasonably large or lead to large activation values.\n",
      "Try a different initial distribution, a bounded activation function (Tanh), adding regularization\n",
      "(via max_w2, l1, l2, dropout) or learning rate (either enable adaptive_rate or use a smaller learning rate or faster annealing).\n",
      "\n",
      "For more information visit:\n",
      "  http://jira.h2o.ai/browse/TN-4'\n",
      "failure_stack_traces: DistributedException from /127.0.0.1:54321: '\n",
      "\n",
      "Trying to predict with an unstable model.\n",
      "Job was aborted due to observed numerical instability (exponential growth).\n",
      "Either the weights or the bias values are unreasonably large or lead to large activation values.\n",
      "Try a different initial distribution, a bounded activation function (Tanh), adding regularization\n",
      "(via max_w2, l1, l2, dropout) or learning rate (either enable adaptive_rate or use a smaller learning rate or faster annealing).\n",
      "\n",
      "For more information visit:\n",
      "  http://jira.h2o.ai/browse/TN-4', caused by java.lang.UnsupportedOperationException: \n",
      "\n",
      "Trying to predict with an unstable model.\n",
      "Job was aborted due to observed numerical instability (exponential growth).\n",
      "Either the weights or the bias values are unreasonably large or lead to large activation values.\n",
      "Try a different initial distribution, a bounded activation function (Tanh), adding regularization\n",
      "(via max_w2, l1, l2, dropout) or learning rate (either enable adaptive_rate or use a smaller learning rate or faster annealing).\n",
      "\n",
      "For more information visit:\n",
      "  http://jira.h2o.ai/browse/TN-4\n",
      "\tat water.MRTask.getResult(MRTask.java:494)\n",
      "\tat water.MRTask.getResult(MRTask.java:502)\n",
      "\tat water.MRTask.doAll(MRTask.java:397)\n",
      "\tat water.MRTask.doAll(MRTask.java:403)\n",
      "\tat hex.deeplearning.DeepLearningModel.scoreAutoEncoder(DeepLearningModel.java:761)\n",
      "\tat hex.deeplearning.DeepLearningModel.doScoring(DeepLearningModel.java:353)\n",
      "\tat hex.deeplearning.DeepLearning$DeepLearningDriver.trainModel(DeepLearning.java:435)\n",
      "\tat hex.deeplearning.DeepLearning$DeepLearningDriver.buildModel(DeepLearning.java:305)\n",
      "\tat hex.deeplearning.DeepLearning$DeepLearningDriver.computeImpl(DeepLearning.java:210)\n",
      "\tat hex.ModelBuilder$Driver.compute2(ModelBuilder.java:248)\n",
      "\tat hex.deeplearning.DeepLearning$DeepLearningDriver.compute2(DeepLearning.java:203)\n",
      "\tat hex.ModelBuilder.trainModelNested(ModelBuilder.java:399)\n",
      "\tat hex.ModelBuilder$TrainModelNestedRunnable.run(ModelBuilder.java:434)\n",
      "\tat water.H2O.runOnH2ONode(H2O.java:1445)\n",
      "\tat water.H2O.runOnH2ONode(H2O.java:1434)\n",
      "\tat hex.ModelBuilder.trainModelNested(ModelBuilder.java:415)\n",
      "\tat hex.grid.GridSearch.buildModel(GridSearch.java:541)\n",
      "\tat hex.grid.GridSearch.gridSearch(GridSearch.java:373)\n",
      "\tat hex.grid.GridSearch.access$000(GridSearch.java:69)\n",
      "\tat hex.grid.GridSearch$1.compute2(GridSearch.java:140)\n",
      "\tat water.H2O$H2OCountedCompleter.compute(H2O.java:1557)\n",
      "\tat jsr166y.CountedCompleter.exec(CountedCompleter.java:468)\n",
      "\tat jsr166y.ForkJoinTask.doExec(ForkJoinTask.java:263)\n",
      "\tat jsr166y.ForkJoinPool$WorkQueue.runTask(ForkJoinPool.java:974)\n",
      "\tat jsr166y.ForkJoinPool.runWorker(ForkJoinPool.java:1477)\n",
      "\tat jsr166y.ForkJoinWorkerThread.run(ForkJoinWorkerThread.java:104)\n",
      "Caused by: java.lang.UnsupportedOperationException: \n",
      "\n",
      "Trying to predict with an unstable model.\n",
      "Job was aborted due to observed numerical instability (exponential growth).\n",
      "Either the weights or the bias values are unreasonably large or lead to large activation values.\n",
      "Try a different initial distribution, a bounded activation function (Tanh), adding regularization\n",
      "(via max_w2, l1, l2, dropout) or learning rate (either enable adaptive_rate or use a smaller learning rate or faster annealing).\n",
      "\n",
      "For more information visit:\n",
      "  http://jira.h2o.ai/browse/TN-4\n",
      "\tat hex.deeplearning.DeepLearningModel.score_autoencoder(DeepLearningModel.java:870)\n",
      "\tat hex.deeplearning.DeepLearningModel.access$200(DeepLearningModel.java:34)\n",
      "\tat hex.deeplearning.DeepLearningModel$2.map(DeepLearningModel.java:756)\n",
      "\tat water.MRTask.compute2(MRTask.java:675)\n",
      "\tat water.H2O$H2OCountedCompleter.compute1(H2O.java:1560)\n",
      "\tat hex.deeplearning.DeepLearningModel$2$Icer.compute1(DeepLearningModel$2$Icer.java)\n",
      "\tat water.H2O$H2OCountedCompleter.compute(H2O.java:1556)\n",
      "\t... 5 more\n",
      "\n",
      "\n",
      "Hyper-parameter: activation, RectifierWithDropout\n",
      "Hyper-parameter: hidden, [10]\n",
      "Hyper-parameter: input_dropout_ratio, 0.05\n",
      "Hyper-parameter: l1, 4e-05\n",
      "Hyper-parameter: l2, 1e-05\n",
      "failure_details: DistributedException from /127.0.0.1:54321: '\n",
      "\n",
      "Trying to predict with an unstable model.\n",
      "Job was aborted due to observed numerical instability (exponential growth).\n",
      "Either the weights or the bias values are unreasonably large or lead to large activation values.\n",
      "Try a different initial distribution, a bounded activation function (Tanh), adding regularization\n",
      "(via max_w2, l1, l2, dropout) or learning rate (either enable adaptive_rate or use a smaller learning rate or faster annealing).\n",
      "\n",
      "For more information visit:\n",
      "  http://jira.h2o.ai/browse/TN-4'\n",
      "failure_stack_traces: DistributedException from /127.0.0.1:54321: '\n",
      "\n",
      "Trying to predict with an unstable model.\n",
      "Job was aborted due to observed numerical instability (exponential growth).\n",
      "Either the weights or the bias values are unreasonably large or lead to large activation values.\n",
      "Try a different initial distribution, a bounded activation function (Tanh), adding regularization\n",
      "(via max_w2, l1, l2, dropout) or learning rate (either enable adaptive_rate or use a smaller learning rate or faster annealing).\n",
      "\n",
      "For more information visit:\n",
      "  http://jira.h2o.ai/browse/TN-4', caused by java.lang.UnsupportedOperationException: \n",
      "\n",
      "Trying to predict with an unstable model.\n",
      "Job was aborted due to observed numerical instability (exponential growth).\n",
      "Either the weights or the bias values are unreasonably large or lead to large activation values.\n",
      "Try a different initial distribution, a bounded activation function (Tanh), adding regularization\n",
      "(via max_w2, l1, l2, dropout) or learning rate (either enable adaptive_rate or use a smaller learning rate or faster annealing).\n",
      "\n",
      "For more information visit:\n",
      "  http://jira.h2o.ai/browse/TN-4\n",
      "\tat water.MRTask.getResult(MRTask.java:494)\n",
      "\tat water.MRTask.getResult(MRTask.java:502)\n",
      "\tat water.MRTask.doAll(MRTask.java:397)\n",
      "\tat water.MRTask.doAll(MRTask.java:403)\n",
      "\tat hex.deeplearning.DeepLearningModel.scoreAutoEncoder(DeepLearningModel.java:761)\n",
      "\tat hex.deeplearning.DeepLearningModel.doScoring(DeepLearningModel.java:353)\n",
      "\tat hex.deeplearning.DeepLearning$DeepLearningDriver.trainModel(DeepLearning.java:435)\n",
      "\tat hex.deeplearning.DeepLearning$DeepLearningDriver.buildModel(DeepLearning.java:305)\n",
      "\tat hex.deeplearning.DeepLearning$DeepLearningDriver.computeImpl(DeepLearning.java:210)\n",
      "\tat hex.ModelBuilder$Driver.compute2(ModelBuilder.java:248)\n",
      "\tat hex.deeplearning.DeepLearning$DeepLearningDriver.compute2(DeepLearning.java:203)\n",
      "\tat hex.ModelBuilder.trainModelNested(ModelBuilder.java:399)\n",
      "\tat hex.ModelBuilder$TrainModelNestedRunnable.run(ModelBuilder.java:434)\n",
      "\tat water.H2O.runOnH2ONode(H2O.java:1445)\n",
      "\tat water.H2O.runOnH2ONode(H2O.java:1434)\n",
      "\tat hex.ModelBuilder.trainModelNested(ModelBuilder.java:415)\n",
      "\tat hex.grid.GridSearch.buildModel(GridSearch.java:541)\n",
      "\tat hex.grid.GridSearch.gridSearch(GridSearch.java:373)\n",
      "\tat hex.grid.GridSearch.access$000(GridSearch.java:69)\n",
      "\tat hex.grid.GridSearch$1.compute2(GridSearch.java:140)\n",
      "\tat water.H2O$H2OCountedCompleter.compute(H2O.java:1557)\n",
      "\tat jsr166y.CountedCompleter.exec(CountedCompleter.java:468)\n",
      "\tat jsr166y.ForkJoinTask.doExec(ForkJoinTask.java:263)\n",
      "\tat jsr166y.ForkJoinPool$WorkQueue.runTask(ForkJoinPool.java:974)\n",
      "\tat jsr166y.ForkJoinPool.runWorker(ForkJoinPool.java:1477)\n",
      "\tat jsr166y.ForkJoinWorkerThread.run(ForkJoinWorkerThread.java:104)\n",
      "Caused by: java.lang.UnsupportedOperationException: \n",
      "\n",
      "Trying to predict with an unstable model.\n",
      "Job was aborted due to observed numerical instability (exponential growth).\n",
      "Either the weights or the bias values are unreasonably large or lead to large activation values.\n",
      "Try a different initial distribution, a bounded activation function (Tanh), adding regularization\n",
      "(via max_w2, l1, l2, dropout) or learning rate (either enable adaptive_rate or use a smaller learning rate or faster annealing).\n",
      "\n",
      "For more information visit:\n",
      "  http://jira.h2o.ai/browse/TN-4\n",
      "\tat hex.deeplearning.DeepLearningModel.score_autoencoder(DeepLearningModel.java:870)\n",
      "\tat hex.deeplearning.DeepLearningModel.access$200(DeepLearningModel.java:34)\n",
      "\tat hex.deeplearning.DeepLearningModel$2.map(DeepLearningModel.java:756)\n",
      "\tat water.MRTask.compute2(MRTask.java:675)\n",
      "\tat water.H2O$H2OCountedCompleter.compute1(H2O.java:1560)\n",
      "\tat hex.deeplearning.DeepLearningModel$2$Icer.compute1(DeepLearningModel$2$Icer.java)\n",
      "\tat water.H2O$H2OCountedCompleter.compute(H2O.java:1556)\n",
      "\t... 5 more\n",
      "\n"
     ]
    },
    {
     "name": "stdout",
     "output_type": "stream",
     "text": [
      "\n",
      "Hyper-parameter: activation, RectifierWithDropout\n",
      "Hyper-parameter: hidden, [2]\n",
      "Hyper-parameter: input_dropout_ratio, 0.0\n",
      "Hyper-parameter: l1, 4e-05\n",
      "Hyper-parameter: l2, 3e-05\n",
      "failure_details: DistributedException from /127.0.0.1:54321: '\n",
      "\n",
      "Trying to predict with an unstable model.\n",
      "Job was aborted due to observed numerical instability (exponential growth).\n",
      "Either the weights or the bias values are unreasonably large or lead to large activation values.\n",
      "Try a different initial distribution, a bounded activation function (Tanh), adding regularization\n",
      "(via max_w2, l1, l2, dropout) or learning rate (either enable adaptive_rate or use a smaller learning rate or faster annealing).\n",
      "\n",
      "For more information visit:\n",
      "  http://jira.h2o.ai/browse/TN-4'\n",
      "failure_stack_traces: DistributedException from /127.0.0.1:54321: '\n",
      "\n",
      "Trying to predict with an unstable model.\n",
      "Job was aborted due to observed numerical instability (exponential growth).\n",
      "Either the weights or the bias values are unreasonably large or lead to large activation values.\n",
      "Try a different initial distribution, a bounded activation function (Tanh), adding regularization\n",
      "(via max_w2, l1, l2, dropout) or learning rate (either enable adaptive_rate or use a smaller learning rate or faster annealing).\n",
      "\n",
      "For more information visit:\n",
      "  http://jira.h2o.ai/browse/TN-4', caused by java.lang.UnsupportedOperationException: \n",
      "\n",
      "Trying to predict with an unstable model.\n",
      "Job was aborted due to observed numerical instability (exponential growth).\n",
      "Either the weights or the bias values are unreasonably large or lead to large activation values.\n",
      "Try a different initial distribution, a bounded activation function (Tanh), adding regularization\n",
      "(via max_w2, l1, l2, dropout) or learning rate (either enable adaptive_rate or use a smaller learning rate or faster annealing).\n",
      "\n",
      "For more information visit:\n",
      "  http://jira.h2o.ai/browse/TN-4\n",
      "\tat water.MRTask.getResult(MRTask.java:494)\n",
      "\tat water.MRTask.getResult(MRTask.java:502)\n",
      "\tat water.MRTask.doAll(MRTask.java:397)\n",
      "\tat water.MRTask.doAll(MRTask.java:403)\n",
      "\tat hex.deeplearning.DeepLearningModel.scoreAutoEncoder(DeepLearningModel.java:761)\n",
      "\tat hex.deeplearning.DeepLearningModel.doScoring(DeepLearningModel.java:353)\n",
      "\tat hex.deeplearning.DeepLearning$DeepLearningDriver.trainModel(DeepLearning.java:435)\n",
      "\tat hex.deeplearning.DeepLearning$DeepLearningDriver.buildModel(DeepLearning.java:305)\n",
      "\tat hex.deeplearning.DeepLearning$DeepLearningDriver.computeImpl(DeepLearning.java:210)\n",
      "\tat hex.ModelBuilder$Driver.compute2(ModelBuilder.java:248)\n",
      "\tat hex.deeplearning.DeepLearning$DeepLearningDriver.compute2(DeepLearning.java:203)\n",
      "\tat hex.ModelBuilder.trainModelNested(ModelBuilder.java:399)\n",
      "\tat hex.ModelBuilder$TrainModelNestedRunnable.run(ModelBuilder.java:434)\n",
      "\tat water.H2O.runOnH2ONode(H2O.java:1445)\n",
      "\tat water.H2O.runOnH2ONode(H2O.java:1434)\n",
      "\tat hex.ModelBuilder.trainModelNested(ModelBuilder.java:415)\n",
      "\tat hex.grid.GridSearch.buildModel(GridSearch.java:541)\n",
      "\tat hex.grid.GridSearch.gridSearch(GridSearch.java:373)\n",
      "\tat hex.grid.GridSearch.access$000(GridSearch.java:69)\n",
      "\tat hex.grid.GridSearch$1.compute2(GridSearch.java:140)\n",
      "\tat water.H2O$H2OCountedCompleter.compute(H2O.java:1557)\n",
      "\tat jsr166y.CountedCompleter.exec(CountedCompleter.java:468)\n",
      "\tat jsr166y.ForkJoinTask.doExec(ForkJoinTask.java:263)\n",
      "\tat jsr166y.ForkJoinPool$WorkQueue.runTask(ForkJoinPool.java:974)\n",
      "\tat jsr166y.ForkJoinPool.runWorker(ForkJoinPool.java:1477)\n",
      "\tat jsr166y.ForkJoinWorkerThread.run(ForkJoinWorkerThread.java:104)\n",
      "Caused by: java.lang.UnsupportedOperationException: \n",
      "\n",
      "Trying to predict with an unstable model.\n",
      "Job was aborted due to observed numerical instability (exponential growth).\n",
      "Either the weights or the bias values are unreasonably large or lead to large activation values.\n",
      "Try a different initial distribution, a bounded activation function (Tanh), adding regularization\n",
      "(via max_w2, l1, l2, dropout) or learning rate (either enable adaptive_rate or use a smaller learning rate or faster annealing).\n",
      "\n",
      "For more information visit:\n",
      "  http://jira.h2o.ai/browse/TN-4\n",
      "\tat hex.deeplearning.DeepLearningModel.score_autoencoder(DeepLearningModel.java:870)\n",
      "\tat hex.deeplearning.DeepLearningModel.access$200(DeepLearningModel.java:34)\n",
      "\tat hex.deeplearning.DeepLearningModel$2.map(DeepLearningModel.java:756)\n",
      "\tat water.MRTask.compute2(MRTask.java:675)\n",
      "\tat water.H2O$H2OCountedCompleter.compute1(H2O.java:1560)\n",
      "\tat hex.deeplearning.DeepLearningModel$2$Icer.compute1(DeepLearningModel$2$Icer.java)\n",
      "\tat water.H2O$H2OCountedCompleter.compute(H2O.java:1556)\n",
      "\t... 5 more\n",
      "\n",
      "\n",
      "Hyper-parameter: activation, RectifierWithDropout\n",
      "Hyper-parameter: hidden, [10]\n",
      "Hyper-parameter: input_dropout_ratio, 0.05\n",
      "Hyper-parameter: l1, 9e-05\n",
      "Hyper-parameter: l2, 0.0\n",
      "failure_details: DistributedException from /127.0.0.1:54321: '\n",
      "\n",
      "Trying to predict with an unstable model.\n",
      "Job was aborted due to observed numerical instability (exponential growth).\n",
      "Either the weights or the bias values are unreasonably large or lead to large activation values.\n",
      "Try a different initial distribution, a bounded activation function (Tanh), adding regularization\n",
      "(via max_w2, l1, l2, dropout) or learning rate (either enable adaptive_rate or use a smaller learning rate or faster annealing).\n",
      "\n",
      "For more information visit:\n",
      "  http://jira.h2o.ai/browse/TN-4'\n",
      "failure_stack_traces: DistributedException from /127.0.0.1:54321: '\n",
      "\n",
      "Trying to predict with an unstable model.\n",
      "Job was aborted due to observed numerical instability (exponential growth).\n",
      "Either the weights or the bias values are unreasonably large or lead to large activation values.\n",
      "Try a different initial distribution, a bounded activation function (Tanh), adding regularization\n",
      "(via max_w2, l1, l2, dropout) or learning rate (either enable adaptive_rate or use a smaller learning rate or faster annealing).\n",
      "\n",
      "For more information visit:\n",
      "  http://jira.h2o.ai/browse/TN-4', caused by java.lang.UnsupportedOperationException: \n",
      "\n",
      "Trying to predict with an unstable model.\n",
      "Job was aborted due to observed numerical instability (exponential growth).\n",
      "Either the weights or the bias values are unreasonably large or lead to large activation values.\n",
      "Try a different initial distribution, a bounded activation function (Tanh), adding regularization\n",
      "(via max_w2, l1, l2, dropout) or learning rate (either enable adaptive_rate or use a smaller learning rate or faster annealing).\n",
      "\n",
      "For more information visit:\n",
      "  http://jira.h2o.ai/browse/TN-4\n",
      "\tat water.MRTask.getResult(MRTask.java:494)\n",
      "\tat water.MRTask.getResult(MRTask.java:502)\n",
      "\tat water.MRTask.doAll(MRTask.java:397)\n",
      "\tat water.MRTask.doAll(MRTask.java:403)\n",
      "\tat hex.deeplearning.DeepLearningModel.scoreAutoEncoder(DeepLearningModel.java:761)\n",
      "\tat hex.deeplearning.DeepLearningModel.doScoring(DeepLearningModel.java:353)\n",
      "\tat hex.deeplearning.DeepLearning$DeepLearningDriver.trainModel(DeepLearning.java:435)\n",
      "\tat hex.deeplearning.DeepLearning$DeepLearningDriver.buildModel(DeepLearning.java:305)\n",
      "\tat hex.deeplearning.DeepLearning$DeepLearningDriver.computeImpl(DeepLearning.java:210)\n",
      "\tat hex.ModelBuilder$Driver.compute2(ModelBuilder.java:248)\n",
      "\tat hex.deeplearning.DeepLearning$DeepLearningDriver.compute2(DeepLearning.java:203)\n",
      "\tat hex.ModelBuilder.trainModelNested(ModelBuilder.java:399)\n",
      "\tat hex.ModelBuilder$TrainModelNestedRunnable.run(ModelBuilder.java:434)\n",
      "\tat water.H2O.runOnH2ONode(H2O.java:1445)\n",
      "\tat water.H2O.runOnH2ONode(H2O.java:1434)\n",
      "\tat hex.ModelBuilder.trainModelNested(ModelBuilder.java:415)\n",
      "\tat hex.grid.GridSearch.buildModel(GridSearch.java:541)\n",
      "\tat hex.grid.GridSearch.gridSearch(GridSearch.java:373)\n",
      "\tat hex.grid.GridSearch.access$000(GridSearch.java:69)\n",
      "\tat hex.grid.GridSearch$1.compute2(GridSearch.java:140)\n",
      "\tat water.H2O$H2OCountedCompleter.compute(H2O.java:1557)\n",
      "\tat jsr166y.CountedCompleter.exec(CountedCompleter.java:468)\n",
      "\tat jsr166y.ForkJoinTask.doExec(ForkJoinTask.java:263)\n",
      "\tat jsr166y.ForkJoinPool$WorkQueue.runTask(ForkJoinPool.java:974)\n",
      "\tat jsr166y.ForkJoinPool.runWorker(ForkJoinPool.java:1477)\n",
      "\tat jsr166y.ForkJoinWorkerThread.run(ForkJoinWorkerThread.java:104)\n",
      "Caused by: java.lang.UnsupportedOperationException: \n",
      "\n",
      "Trying to predict with an unstable model.\n",
      "Job was aborted due to observed numerical instability (exponential growth).\n",
      "Either the weights or the bias values are unreasonably large or lead to large activation values.\n",
      "Try a different initial distribution, a bounded activation function (Tanh), adding regularization\n",
      "(via max_w2, l1, l2, dropout) or learning rate (either enable adaptive_rate or use a smaller learning rate or faster annealing).\n",
      "\n",
      "For more information visit:\n",
      "  http://jira.h2o.ai/browse/TN-4\n",
      "\tat hex.deeplearning.DeepLearningModel.score_autoencoder(DeepLearningModel.java:870)\n",
      "\tat hex.deeplearning.DeepLearningModel.access$200(DeepLearningModel.java:34)\n",
      "\tat hex.deeplearning.DeepLearningModel$2.map(DeepLearningModel.java:756)\n",
      "\tat water.MRTask.compute2(MRTask.java:675)\n",
      "\tat water.H2O$H2OCountedCompleter.compute1(H2O.java:1560)\n",
      "\tat hex.deeplearning.DeepLearningModel$2$Icer.compute1(DeepLearningModel$2$Icer.java)\n",
      "\tat water.H2O$H2OCountedCompleter.compute(H2O.java:1556)\n",
      "\t... 5 more\n",
      "\n"
     ]
    },
    {
     "name": "stdout",
     "output_type": "stream",
     "text": [
      "\n",
      "Hyper-parameter: activation, RectifierWithDropout\n",
      "Hyper-parameter: hidden, [10]\n",
      "Hyper-parameter: input_dropout_ratio, 0.0\n",
      "Hyper-parameter: l1, 8e-05\n",
      "Hyper-parameter: l2, 8e-05\n",
      "failure_details: DistributedException from /127.0.0.1:54321: '\n",
      "\n",
      "Trying to predict with an unstable model.\n",
      "Job was aborted due to observed numerical instability (exponential growth).\n",
      "Either the weights or the bias values are unreasonably large or lead to large activation values.\n",
      "Try a different initial distribution, a bounded activation function (Tanh), adding regularization\n",
      "(via max_w2, l1, l2, dropout) or learning rate (either enable adaptive_rate or use a smaller learning rate or faster annealing).\n",
      "\n",
      "For more information visit:\n",
      "  http://jira.h2o.ai/browse/TN-4'\n",
      "failure_stack_traces: DistributedException from /127.0.0.1:54321: '\n",
      "\n",
      "Trying to predict with an unstable model.\n",
      "Job was aborted due to observed numerical instability (exponential growth).\n",
      "Either the weights or the bias values are unreasonably large or lead to large activation values.\n",
      "Try a different initial distribution, a bounded activation function (Tanh), adding regularization\n",
      "(via max_w2, l1, l2, dropout) or learning rate (either enable adaptive_rate or use a smaller learning rate or faster annealing).\n",
      "\n",
      "For more information visit:\n",
      "  http://jira.h2o.ai/browse/TN-4', caused by java.lang.UnsupportedOperationException: \n",
      "\n",
      "Trying to predict with an unstable model.\n",
      "Job was aborted due to observed numerical instability (exponential growth).\n",
      "Either the weights or the bias values are unreasonably large or lead to large activation values.\n",
      "Try a different initial distribution, a bounded activation function (Tanh), adding regularization\n",
      "(via max_w2, l1, l2, dropout) or learning rate (either enable adaptive_rate or use a smaller learning rate or faster annealing).\n",
      "\n",
      "For more information visit:\n",
      "  http://jira.h2o.ai/browse/TN-4\n",
      "\tat water.MRTask.getResult(MRTask.java:494)\n",
      "\tat water.MRTask.getResult(MRTask.java:502)\n",
      "\tat water.MRTask.doAll(MRTask.java:397)\n",
      "\tat water.MRTask.doAll(MRTask.java:403)\n",
      "\tat hex.deeplearning.DeepLearningModel.scoreAutoEncoder(DeepLearningModel.java:761)\n",
      "\tat hex.deeplearning.DeepLearningModel.doScoring(DeepLearningModel.java:353)\n",
      "\tat hex.deeplearning.DeepLearning$DeepLearningDriver.trainModel(DeepLearning.java:435)\n",
      "\tat hex.deeplearning.DeepLearning$DeepLearningDriver.buildModel(DeepLearning.java:305)\n",
      "\tat hex.deeplearning.DeepLearning$DeepLearningDriver.computeImpl(DeepLearning.java:210)\n",
      "\tat hex.ModelBuilder$Driver.compute2(ModelBuilder.java:248)\n",
      "\tat hex.deeplearning.DeepLearning$DeepLearningDriver.compute2(DeepLearning.java:203)\n",
      "\tat hex.ModelBuilder.trainModelNested(ModelBuilder.java:399)\n",
      "\tat hex.ModelBuilder$TrainModelNestedRunnable.run(ModelBuilder.java:434)\n",
      "\tat water.H2O.runOnH2ONode(H2O.java:1445)\n",
      "\tat water.H2O.runOnH2ONode(H2O.java:1434)\n",
      "\tat hex.ModelBuilder.trainModelNested(ModelBuilder.java:415)\n",
      "\tat hex.grid.GridSearch.buildModel(GridSearch.java:541)\n",
      "\tat hex.grid.GridSearch.gridSearch(GridSearch.java:373)\n",
      "\tat hex.grid.GridSearch.access$000(GridSearch.java:69)\n",
      "\tat hex.grid.GridSearch$1.compute2(GridSearch.java:140)\n",
      "\tat water.H2O$H2OCountedCompleter.compute(H2O.java:1557)\n",
      "\tat jsr166y.CountedCompleter.exec(CountedCompleter.java:468)\n",
      "\tat jsr166y.ForkJoinTask.doExec(ForkJoinTask.java:263)\n",
      "\tat jsr166y.ForkJoinPool$WorkQueue.runTask(ForkJoinPool.java:974)\n",
      "\tat jsr166y.ForkJoinPool.runWorker(ForkJoinPool.java:1477)\n",
      "\tat jsr166y.ForkJoinWorkerThread.run(ForkJoinWorkerThread.java:104)\n",
      "Caused by: java.lang.UnsupportedOperationException: \n",
      "\n",
      "Trying to predict with an unstable model.\n",
      "Job was aborted due to observed numerical instability (exponential growth).\n",
      "Either the weights or the bias values are unreasonably large or lead to large activation values.\n",
      "Try a different initial distribution, a bounded activation function (Tanh), adding regularization\n",
      "(via max_w2, l1, l2, dropout) or learning rate (either enable adaptive_rate or use a smaller learning rate or faster annealing).\n",
      "\n",
      "For more information visit:\n",
      "  http://jira.h2o.ai/browse/TN-4\n",
      "\tat hex.deeplearning.DeepLearningModel.score_autoencoder(DeepLearningModel.java:870)\n",
      "\tat hex.deeplearning.DeepLearningModel.access$200(DeepLearningModel.java:34)\n",
      "\tat hex.deeplearning.DeepLearningModel$2.map(DeepLearningModel.java:756)\n",
      "\tat water.MRTask.compute2(MRTask.java:675)\n",
      "\tat water.H2O$H2OCountedCompleter.compute1(H2O.java:1560)\n",
      "\tat hex.deeplearning.DeepLearningModel$2$Icer.compute1(DeepLearningModel$2$Icer.java)\n",
      "\tat water.H2O$H2OCountedCompleter.compute(H2O.java:1556)\n",
      "\t... 5 more\n",
      "\n",
      "\n",
      "Hyper-parameter: activation, RectifierWithDropout\n",
      "Hyper-parameter: hidden, [10]\n",
      "Hyper-parameter: input_dropout_ratio, 0.0\n",
      "Hyper-parameter: l1, 5e-05\n",
      "Hyper-parameter: l2, 0.0001\n",
      "failure_details: DistributedException from /127.0.0.1:54321: '\n",
      "\n",
      "Trying to predict with an unstable model.\n",
      "Job was aborted due to observed numerical instability (exponential growth).\n",
      "Either the weights or the bias values are unreasonably large or lead to large activation values.\n",
      "Try a different initial distribution, a bounded activation function (Tanh), adding regularization\n",
      "(via max_w2, l1, l2, dropout) or learning rate (either enable adaptive_rate or use a smaller learning rate or faster annealing).\n",
      "\n",
      "For more information visit:\n",
      "  http://jira.h2o.ai/browse/TN-4'\n",
      "failure_stack_traces: DistributedException from /127.0.0.1:54321: '\n",
      "\n",
      "Trying to predict with an unstable model.\n",
      "Job was aborted due to observed numerical instability (exponential growth).\n",
      "Either the weights or the bias values are unreasonably large or lead to large activation values.\n",
      "Try a different initial distribution, a bounded activation function (Tanh), adding regularization\n",
      "(via max_w2, l1, l2, dropout) or learning rate (either enable adaptive_rate or use a smaller learning rate or faster annealing).\n",
      "\n",
      "For more information visit:\n",
      "  http://jira.h2o.ai/browse/TN-4', caused by java.lang.UnsupportedOperationException: \n",
      "\n",
      "Trying to predict with an unstable model.\n",
      "Job was aborted due to observed numerical instability (exponential growth).\n",
      "Either the weights or the bias values are unreasonably large or lead to large activation values.\n",
      "Try a different initial distribution, a bounded activation function (Tanh), adding regularization\n",
      "(via max_w2, l1, l2, dropout) or learning rate (either enable adaptive_rate or use a smaller learning rate or faster annealing).\n",
      "\n",
      "For more information visit:\n",
      "  http://jira.h2o.ai/browse/TN-4\n",
      "\tat water.MRTask.getResult(MRTask.java:494)\n",
      "\tat water.MRTask.getResult(MRTask.java:502)\n",
      "\tat water.MRTask.doAll(MRTask.java:397)\n",
      "\tat water.MRTask.doAll(MRTask.java:403)\n",
      "\tat hex.deeplearning.DeepLearningModel.scoreAutoEncoder(DeepLearningModel.java:761)\n",
      "\tat hex.deeplearning.DeepLearningModel.doScoring(DeepLearningModel.java:353)\n",
      "\tat hex.deeplearning.DeepLearning$DeepLearningDriver.trainModel(DeepLearning.java:435)\n",
      "\tat hex.deeplearning.DeepLearning$DeepLearningDriver.buildModel(DeepLearning.java:305)\n",
      "\tat hex.deeplearning.DeepLearning$DeepLearningDriver.computeImpl(DeepLearning.java:210)\n",
      "\tat hex.ModelBuilder$Driver.compute2(ModelBuilder.java:248)\n",
      "\tat hex.deeplearning.DeepLearning$DeepLearningDriver.compute2(DeepLearning.java:203)\n",
      "\tat hex.ModelBuilder.trainModelNested(ModelBuilder.java:399)\n",
      "\tat hex.ModelBuilder$TrainModelNestedRunnable.run(ModelBuilder.java:434)\n",
      "\tat water.H2O.runOnH2ONode(H2O.java:1445)\n",
      "\tat water.H2O.runOnH2ONode(H2O.java:1434)\n",
      "\tat hex.ModelBuilder.trainModelNested(ModelBuilder.java:415)\n",
      "\tat hex.grid.GridSearch.buildModel(GridSearch.java:541)\n",
      "\tat hex.grid.GridSearch.gridSearch(GridSearch.java:373)\n",
      "\tat hex.grid.GridSearch.access$000(GridSearch.java:69)\n",
      "\tat hex.grid.GridSearch$1.compute2(GridSearch.java:140)\n",
      "\tat water.H2O$H2OCountedCompleter.compute(H2O.java:1557)\n",
      "\tat jsr166y.CountedCompleter.exec(CountedCompleter.java:468)\n",
      "\tat jsr166y.ForkJoinTask.doExec(ForkJoinTask.java:263)\n",
      "\tat jsr166y.ForkJoinPool$WorkQueue.runTask(ForkJoinPool.java:974)\n",
      "\tat jsr166y.ForkJoinPool.runWorker(ForkJoinPool.java:1477)\n",
      "\tat jsr166y.ForkJoinWorkerThread.run(ForkJoinWorkerThread.java:104)\n",
      "Caused by: java.lang.UnsupportedOperationException: \n",
      "\n",
      "Trying to predict with an unstable model.\n",
      "Job was aborted due to observed numerical instability (exponential growth).\n",
      "Either the weights or the bias values are unreasonably large or lead to large activation values.\n",
      "Try a different initial distribution, a bounded activation function (Tanh), adding regularization\n",
      "(via max_w2, l1, l2, dropout) or learning rate (either enable adaptive_rate or use a smaller learning rate or faster annealing).\n",
      "\n",
      "For more information visit:\n",
      "  http://jira.h2o.ai/browse/TN-4\n",
      "\tat hex.deeplearning.DeepLearningModel.score_autoencoder(DeepLearningModel.java:870)\n",
      "\tat hex.deeplearning.DeepLearningModel.access$200(DeepLearningModel.java:34)\n",
      "\tat hex.deeplearning.DeepLearningModel$2.map(DeepLearningModel.java:756)\n",
      "\tat water.MRTask.compute2(MRTask.java:675)\n",
      "\tat water.H2O$H2OCountedCompleter.compute1(H2O.java:1560)\n",
      "\tat hex.deeplearning.DeepLearningModel$2$Icer.compute1(DeepLearningModel$2$Icer.java)\n",
      "\tat water.H2O$H2OCountedCompleter.compute(H2O.java:1556)\n",
      "\t... 5 more\n",
      "\n"
     ]
    },
    {
     "name": "stdout",
     "output_type": "stream",
     "text": [
      "\n",
      "Hyper-parameter: activation, RectifierWithDropout\n",
      "Hyper-parameter: hidden, [10]\n",
      "Hyper-parameter: input_dropout_ratio, 0.05\n",
      "Hyper-parameter: l1, 5e-05\n",
      "Hyper-parameter: l2, 9e-05\n",
      "failure_details: DistributedException from /127.0.0.1:54321: '\n",
      "\n",
      "Trying to predict with an unstable model.\n",
      "Job was aborted due to observed numerical instability (exponential growth).\n",
      "Either the weights or the bias values are unreasonably large or lead to large activation values.\n",
      "Try a different initial distribution, a bounded activation function (Tanh), adding regularization\n",
      "(via max_w2, l1, l2, dropout) or learning rate (either enable adaptive_rate or use a smaller learning rate or faster annealing).\n",
      "\n",
      "For more information visit:\n",
      "  http://jira.h2o.ai/browse/TN-4'\n",
      "failure_stack_traces: DistributedException from /127.0.0.1:54321: '\n",
      "\n",
      "Trying to predict with an unstable model.\n",
      "Job was aborted due to observed numerical instability (exponential growth).\n",
      "Either the weights or the bias values are unreasonably large or lead to large activation values.\n",
      "Try a different initial distribution, a bounded activation function (Tanh), adding regularization\n",
      "(via max_w2, l1, l2, dropout) or learning rate (either enable adaptive_rate or use a smaller learning rate or faster annealing).\n",
      "\n",
      "For more information visit:\n",
      "  http://jira.h2o.ai/browse/TN-4', caused by java.lang.UnsupportedOperationException: \n",
      "\n",
      "Trying to predict with an unstable model.\n",
      "Job was aborted due to observed numerical instability (exponential growth).\n",
      "Either the weights or the bias values are unreasonably large or lead to large activation values.\n",
      "Try a different initial distribution, a bounded activation function (Tanh), adding regularization\n",
      "(via max_w2, l1, l2, dropout) or learning rate (either enable adaptive_rate or use a smaller learning rate or faster annealing).\n",
      "\n",
      "For more information visit:\n",
      "  http://jira.h2o.ai/browse/TN-4\n",
      "\tat water.MRTask.getResult(MRTask.java:494)\n",
      "\tat water.MRTask.getResult(MRTask.java:502)\n",
      "\tat water.MRTask.doAll(MRTask.java:397)\n",
      "\tat water.MRTask.doAll(MRTask.java:403)\n",
      "\tat hex.deeplearning.DeepLearningModel.scoreAutoEncoder(DeepLearningModel.java:761)\n",
      "\tat hex.deeplearning.DeepLearningModel.doScoring(DeepLearningModel.java:353)\n",
      "\tat hex.deeplearning.DeepLearning$DeepLearningDriver.trainModel(DeepLearning.java:435)\n",
      "\tat hex.deeplearning.DeepLearning$DeepLearningDriver.buildModel(DeepLearning.java:305)\n",
      "\tat hex.deeplearning.DeepLearning$DeepLearningDriver.computeImpl(DeepLearning.java:210)\n",
      "\tat hex.ModelBuilder$Driver.compute2(ModelBuilder.java:248)\n",
      "\tat hex.deeplearning.DeepLearning$DeepLearningDriver.compute2(DeepLearning.java:203)\n",
      "\tat hex.ModelBuilder.trainModelNested(ModelBuilder.java:399)\n",
      "\tat hex.ModelBuilder$TrainModelNestedRunnable.run(ModelBuilder.java:434)\n",
      "\tat water.H2O.runOnH2ONode(H2O.java:1445)\n",
      "\tat water.H2O.runOnH2ONode(H2O.java:1434)\n",
      "\tat hex.ModelBuilder.trainModelNested(ModelBuilder.java:415)\n",
      "\tat hex.grid.GridSearch.buildModel(GridSearch.java:541)\n",
      "\tat hex.grid.GridSearch.gridSearch(GridSearch.java:373)\n",
      "\tat hex.grid.GridSearch.access$000(GridSearch.java:69)\n",
      "\tat hex.grid.GridSearch$1.compute2(GridSearch.java:140)\n",
      "\tat water.H2O$H2OCountedCompleter.compute(H2O.java:1557)\n",
      "\tat jsr166y.CountedCompleter.exec(CountedCompleter.java:468)\n",
      "\tat jsr166y.ForkJoinTask.doExec(ForkJoinTask.java:263)\n",
      "\tat jsr166y.ForkJoinPool$WorkQueue.runTask(ForkJoinPool.java:974)\n",
      "\tat jsr166y.ForkJoinPool.runWorker(ForkJoinPool.java:1477)\n",
      "\tat jsr166y.ForkJoinWorkerThread.run(ForkJoinWorkerThread.java:104)\n",
      "Caused by: java.lang.UnsupportedOperationException: \n",
      "\n",
      "Trying to predict with an unstable model.\n",
      "Job was aborted due to observed numerical instability (exponential growth).\n",
      "Either the weights or the bias values are unreasonably large or lead to large activation values.\n",
      "Try a different initial distribution, a bounded activation function (Tanh), adding regularization\n",
      "(via max_w2, l1, l2, dropout) or learning rate (either enable adaptive_rate or use a smaller learning rate or faster annealing).\n",
      "\n",
      "For more information visit:\n",
      "  http://jira.h2o.ai/browse/TN-4\n",
      "\tat hex.deeplearning.DeepLearningModel.score_autoencoder(DeepLearningModel.java:870)\n",
      "\tat hex.deeplearning.DeepLearningModel.access$200(DeepLearningModel.java:34)\n",
      "\tat hex.deeplearning.DeepLearningModel$2.map(DeepLearningModel.java:756)\n",
      "\tat water.MRTask.compute2(MRTask.java:675)\n",
      "\tat water.H2O$H2OCountedCompleter.compute1(H2O.java:1560)\n",
      "\tat hex.deeplearning.DeepLearningModel$2$Icer.compute1(DeepLearningModel$2$Icer.java)\n",
      "\tat water.H2O$H2OCountedCompleter.compute(H2O.java:1556)\n",
      "\t... 5 more\n",
      "\n",
      "\n",
      "Hyper-parameter: activation, RectifierWithDropout\n",
      "Hyper-parameter: hidden, [10]\n",
      "Hyper-parameter: input_dropout_ratio, 0.05\n",
      "Hyper-parameter: l1, 0.0\n",
      "Hyper-parameter: l2, 9e-05\n",
      "failure_details: DistributedException from /127.0.0.1:54321: '\n",
      "\n",
      "Trying to predict with an unstable model.\n",
      "Job was aborted due to observed numerical instability (exponential growth).\n",
      "Either the weights or the bias values are unreasonably large or lead to large activation values.\n",
      "Try a different initial distribution, a bounded activation function (Tanh), adding regularization\n",
      "(via max_w2, l1, l2, dropout) or learning rate (either enable adaptive_rate or use a smaller learning rate or faster annealing).\n",
      "\n",
      "For more information visit:\n",
      "  http://jira.h2o.ai/browse/TN-4'\n",
      "failure_stack_traces: DistributedException from /127.0.0.1:54321: '\n",
      "\n",
      "Trying to predict with an unstable model.\n",
      "Job was aborted due to observed numerical instability (exponential growth).\n",
      "Either the weights or the bias values are unreasonably large or lead to large activation values.\n",
      "Try a different initial distribution, a bounded activation function (Tanh), adding regularization\n",
      "(via max_w2, l1, l2, dropout) or learning rate (either enable adaptive_rate or use a smaller learning rate or faster annealing).\n",
      "\n",
      "For more information visit:\n",
      "  http://jira.h2o.ai/browse/TN-4', caused by java.lang.UnsupportedOperationException: \n",
      "\n",
      "Trying to predict with an unstable model.\n",
      "Job was aborted due to observed numerical instability (exponential growth).\n",
      "Either the weights or the bias values are unreasonably large or lead to large activation values.\n",
      "Try a different initial distribution, a bounded activation function (Tanh), adding regularization\n",
      "(via max_w2, l1, l2, dropout) or learning rate (either enable adaptive_rate or use a smaller learning rate or faster annealing).\n",
      "\n",
      "For more information visit:\n",
      "  http://jira.h2o.ai/browse/TN-4\n",
      "\tat water.MRTask.getResult(MRTask.java:494)\n",
      "\tat water.MRTask.getResult(MRTask.java:502)\n",
      "\tat water.MRTask.doAll(MRTask.java:397)\n",
      "\tat water.MRTask.doAll(MRTask.java:403)\n",
      "\tat hex.deeplearning.DeepLearningModel.scoreAutoEncoder(DeepLearningModel.java:761)\n",
      "\tat hex.deeplearning.DeepLearningModel.doScoring(DeepLearningModel.java:353)\n",
      "\tat hex.deeplearning.DeepLearning$DeepLearningDriver.trainModel(DeepLearning.java:435)\n",
      "\tat hex.deeplearning.DeepLearning$DeepLearningDriver.buildModel(DeepLearning.java:305)\n",
      "\tat hex.deeplearning.DeepLearning$DeepLearningDriver.computeImpl(DeepLearning.java:210)\n",
      "\tat hex.ModelBuilder$Driver.compute2(ModelBuilder.java:248)\n",
      "\tat hex.deeplearning.DeepLearning$DeepLearningDriver.compute2(DeepLearning.java:203)\n",
      "\tat hex.ModelBuilder.trainModelNested(ModelBuilder.java:399)\n",
      "\tat hex.ModelBuilder$TrainModelNestedRunnable.run(ModelBuilder.java:434)\n",
      "\tat water.H2O.runOnH2ONode(H2O.java:1445)\n",
      "\tat water.H2O.runOnH2ONode(H2O.java:1434)\n",
      "\tat hex.ModelBuilder.trainModelNested(ModelBuilder.java:415)\n",
      "\tat hex.grid.GridSearch.buildModel(GridSearch.java:541)\n",
      "\tat hex.grid.GridSearch.gridSearch(GridSearch.java:373)\n",
      "\tat hex.grid.GridSearch.access$000(GridSearch.java:69)\n",
      "\tat hex.grid.GridSearch$1.compute2(GridSearch.java:140)\n",
      "\tat water.H2O$H2OCountedCompleter.compute(H2O.java:1557)\n",
      "\tat jsr166y.CountedCompleter.exec(CountedCompleter.java:468)\n",
      "\tat jsr166y.ForkJoinTask.doExec(ForkJoinTask.java:263)\n",
      "\tat jsr166y.ForkJoinPool$WorkQueue.runTask(ForkJoinPool.java:974)\n",
      "\tat jsr166y.ForkJoinPool.runWorker(ForkJoinPool.java:1477)\n",
      "\tat jsr166y.ForkJoinWorkerThread.run(ForkJoinWorkerThread.java:104)\n",
      "Caused by: java.lang.UnsupportedOperationException: \n",
      "\n",
      "Trying to predict with an unstable model.\n",
      "Job was aborted due to observed numerical instability (exponential growth).\n",
      "Either the weights or the bias values are unreasonably large or lead to large activation values.\n",
      "Try a different initial distribution, a bounded activation function (Tanh), adding regularization\n",
      "(via max_w2, l1, l2, dropout) or learning rate (either enable adaptive_rate or use a smaller learning rate or faster annealing).\n",
      "\n",
      "For more information visit:\n",
      "  http://jira.h2o.ai/browse/TN-4\n",
      "\tat hex.deeplearning.DeepLearningModel.score_autoencoder(DeepLearningModel.java:870)\n",
      "\tat hex.deeplearning.DeepLearningModel.access$200(DeepLearningModel.java:34)\n",
      "\tat hex.deeplearning.DeepLearningModel$2.map(DeepLearningModel.java:756)\n",
      "\tat water.MRTask.compute2(MRTask.java:675)\n",
      "\tat water.H2O$H2OCountedCompleter.compute1(H2O.java:1560)\n",
      "\tat hex.deeplearning.DeepLearningModel$2$Icer.compute1(DeepLearningModel$2$Icer.java)\n",
      "\tat water.H2O$H2OCountedCompleter.compute(H2O.java:1556)\n",
      "\t... 5 more\n",
      "\n"
     ]
    },
    {
     "name": "stdout",
     "output_type": "stream",
     "text": [
      "\n",
      "Hyper-parameter: activation, RectifierWithDropout\n",
      "Hyper-parameter: hidden, [5]\n",
      "Hyper-parameter: input_dropout_ratio, 0.05\n",
      "Hyper-parameter: l1, 4e-05\n",
      "Hyper-parameter: l2, 0.0\n",
      "failure_details: DistributedException from /127.0.0.1:54321: '\n",
      "\n",
      "Trying to predict with an unstable model.\n",
      "Job was aborted due to observed numerical instability (exponential growth).\n",
      "Either the weights or the bias values are unreasonably large or lead to large activation values.\n",
      "Try a different initial distribution, a bounded activation function (Tanh), adding regularization\n",
      "(via max_w2, l1, l2, dropout) or learning rate (either enable adaptive_rate or use a smaller learning rate or faster annealing).\n",
      "\n",
      "For more information visit:\n",
      "  http://jira.h2o.ai/browse/TN-4'\n",
      "failure_stack_traces: DistributedException from /127.0.0.1:54321: '\n",
      "\n",
      "Trying to predict with an unstable model.\n",
      "Job was aborted due to observed numerical instability (exponential growth).\n",
      "Either the weights or the bias values are unreasonably large or lead to large activation values.\n",
      "Try a different initial distribution, a bounded activation function (Tanh), adding regularization\n",
      "(via max_w2, l1, l2, dropout) or learning rate (either enable adaptive_rate or use a smaller learning rate or faster annealing).\n",
      "\n",
      "For more information visit:\n",
      "  http://jira.h2o.ai/browse/TN-4', caused by java.lang.UnsupportedOperationException: \n",
      "\n",
      "Trying to predict with an unstable model.\n",
      "Job was aborted due to observed numerical instability (exponential growth).\n",
      "Either the weights or the bias values are unreasonably large or lead to large activation values.\n",
      "Try a different initial distribution, a bounded activation function (Tanh), adding regularization\n",
      "(via max_w2, l1, l2, dropout) or learning rate (either enable adaptive_rate or use a smaller learning rate or faster annealing).\n",
      "\n",
      "For more information visit:\n",
      "  http://jira.h2o.ai/browse/TN-4\n",
      "\tat water.MRTask.getResult(MRTask.java:494)\n",
      "\tat water.MRTask.getResult(MRTask.java:502)\n",
      "\tat water.MRTask.doAll(MRTask.java:397)\n",
      "\tat water.MRTask.doAll(MRTask.java:403)\n",
      "\tat hex.deeplearning.DeepLearningModel.scoreAutoEncoder(DeepLearningModel.java:761)\n",
      "\tat hex.deeplearning.DeepLearningModel.doScoring(DeepLearningModel.java:353)\n",
      "\tat hex.deeplearning.DeepLearning$DeepLearningDriver.trainModel(DeepLearning.java:435)\n",
      "\tat hex.deeplearning.DeepLearning$DeepLearningDriver.buildModel(DeepLearning.java:305)\n",
      "\tat hex.deeplearning.DeepLearning$DeepLearningDriver.computeImpl(DeepLearning.java:210)\n",
      "\tat hex.ModelBuilder$Driver.compute2(ModelBuilder.java:248)\n",
      "\tat hex.deeplearning.DeepLearning$DeepLearningDriver.compute2(DeepLearning.java:203)\n",
      "\tat hex.ModelBuilder.trainModelNested(ModelBuilder.java:399)\n",
      "\tat hex.ModelBuilder$TrainModelNestedRunnable.run(ModelBuilder.java:434)\n",
      "\tat water.H2O.runOnH2ONode(H2O.java:1445)\n",
      "\tat water.H2O.runOnH2ONode(H2O.java:1434)\n",
      "\tat hex.ModelBuilder.trainModelNested(ModelBuilder.java:415)\n",
      "\tat hex.grid.GridSearch.buildModel(GridSearch.java:541)\n",
      "\tat hex.grid.GridSearch.gridSearch(GridSearch.java:373)\n",
      "\tat hex.grid.GridSearch.access$000(GridSearch.java:69)\n",
      "\tat hex.grid.GridSearch$1.compute2(GridSearch.java:140)\n",
      "\tat water.H2O$H2OCountedCompleter.compute(H2O.java:1557)\n",
      "\tat jsr166y.CountedCompleter.exec(CountedCompleter.java:468)\n",
      "\tat jsr166y.ForkJoinTask.doExec(ForkJoinTask.java:263)\n",
      "\tat jsr166y.ForkJoinPool$WorkQueue.runTask(ForkJoinPool.java:974)\n",
      "\tat jsr166y.ForkJoinPool.runWorker(ForkJoinPool.java:1477)\n",
      "\tat jsr166y.ForkJoinWorkerThread.run(ForkJoinWorkerThread.java:104)\n",
      "Caused by: java.lang.UnsupportedOperationException: \n",
      "\n",
      "Trying to predict with an unstable model.\n",
      "Job was aborted due to observed numerical instability (exponential growth).\n",
      "Either the weights or the bias values are unreasonably large or lead to large activation values.\n",
      "Try a different initial distribution, a bounded activation function (Tanh), adding regularization\n",
      "(via max_w2, l1, l2, dropout) or learning rate (either enable adaptive_rate or use a smaller learning rate or faster annealing).\n",
      "\n",
      "For more information visit:\n",
      "  http://jira.h2o.ai/browse/TN-4\n",
      "\tat hex.deeplearning.DeepLearningModel.score_autoencoder(DeepLearningModel.java:870)\n",
      "\tat hex.deeplearning.DeepLearningModel.access$200(DeepLearningModel.java:34)\n",
      "\tat hex.deeplearning.DeepLearningModel$2.map(DeepLearningModel.java:756)\n",
      "\tat water.MRTask.compute2(MRTask.java:675)\n",
      "\tat water.H2O$H2OCountedCompleter.compute1(H2O.java:1560)\n",
      "\tat hex.deeplearning.DeepLearningModel$2$Icer.compute1(DeepLearningModel$2$Icer.java)\n",
      "\tat water.H2O$H2OCountedCompleter.compute(H2O.java:1556)\n",
      "\t... 5 more\n",
      "\n",
      "\n",
      "Hyper-parameter: activation, RectifierWithDropout\n",
      "Hyper-parameter: hidden, [2]\n",
      "Hyper-parameter: input_dropout_ratio, 0.0\n",
      "Hyper-parameter: l1, 4e-05\n",
      "Hyper-parameter: l2, 2e-05\n",
      "failure_details: DistributedException from /127.0.0.1:54321: '\n",
      "\n",
      "Trying to predict with an unstable model.\n",
      "Job was aborted due to observed numerical instability (exponential growth).\n",
      "Either the weights or the bias values are unreasonably large or lead to large activation values.\n",
      "Try a different initial distribution, a bounded activation function (Tanh), adding regularization\n",
      "(via max_w2, l1, l2, dropout) or learning rate (either enable adaptive_rate or use a smaller learning rate or faster annealing).\n",
      "\n",
      "For more information visit:\n",
      "  http://jira.h2o.ai/browse/TN-4'\n",
      "failure_stack_traces: DistributedException from /127.0.0.1:54321: '\n",
      "\n",
      "Trying to predict with an unstable model.\n",
      "Job was aborted due to observed numerical instability (exponential growth).\n",
      "Either the weights or the bias values are unreasonably large or lead to large activation values.\n",
      "Try a different initial distribution, a bounded activation function (Tanh), adding regularization\n",
      "(via max_w2, l1, l2, dropout) or learning rate (either enable adaptive_rate or use a smaller learning rate or faster annealing).\n",
      "\n",
      "For more information visit:\n",
      "  http://jira.h2o.ai/browse/TN-4', caused by java.lang.UnsupportedOperationException: \n",
      "\n",
      "Trying to predict with an unstable model.\n",
      "Job was aborted due to observed numerical instability (exponential growth).\n",
      "Either the weights or the bias values are unreasonably large or lead to large activation values.\n",
      "Try a different initial distribution, a bounded activation function (Tanh), adding regularization\n",
      "(via max_w2, l1, l2, dropout) or learning rate (either enable adaptive_rate or use a smaller learning rate or faster annealing).\n",
      "\n",
      "For more information visit:\n",
      "  http://jira.h2o.ai/browse/TN-4\n",
      "\tat water.MRTask.getResult(MRTask.java:494)\n",
      "\tat water.MRTask.getResult(MRTask.java:502)\n",
      "\tat water.MRTask.doAll(MRTask.java:397)\n",
      "\tat water.MRTask.doAll(MRTask.java:403)\n",
      "\tat hex.deeplearning.DeepLearningModel.scoreAutoEncoder(DeepLearningModel.java:761)\n",
      "\tat hex.deeplearning.DeepLearningModel.doScoring(DeepLearningModel.java:353)\n",
      "\tat hex.deeplearning.DeepLearning$DeepLearningDriver.trainModel(DeepLearning.java:435)\n",
      "\tat hex.deeplearning.DeepLearning$DeepLearningDriver.buildModel(DeepLearning.java:305)\n",
      "\tat hex.deeplearning.DeepLearning$DeepLearningDriver.computeImpl(DeepLearning.java:210)\n",
      "\tat hex.ModelBuilder$Driver.compute2(ModelBuilder.java:248)\n",
      "\tat hex.deeplearning.DeepLearning$DeepLearningDriver.compute2(DeepLearning.java:203)\n",
      "\tat hex.ModelBuilder.trainModelNested(ModelBuilder.java:399)\n",
      "\tat hex.ModelBuilder$TrainModelNestedRunnable.run(ModelBuilder.java:434)\n",
      "\tat water.H2O.runOnH2ONode(H2O.java:1445)\n",
      "\tat water.H2O.runOnH2ONode(H2O.java:1434)\n",
      "\tat hex.ModelBuilder.trainModelNested(ModelBuilder.java:415)\n",
      "\tat hex.grid.GridSearch.buildModel(GridSearch.java:541)\n",
      "\tat hex.grid.GridSearch.gridSearch(GridSearch.java:373)\n",
      "\tat hex.grid.GridSearch.access$000(GridSearch.java:69)\n",
      "\tat hex.grid.GridSearch$1.compute2(GridSearch.java:140)\n",
      "\tat water.H2O$H2OCountedCompleter.compute(H2O.java:1557)\n",
      "\tat jsr166y.CountedCompleter.exec(CountedCompleter.java:468)\n",
      "\tat jsr166y.ForkJoinTask.doExec(ForkJoinTask.java:263)\n",
      "\tat jsr166y.ForkJoinPool$WorkQueue.runTask(ForkJoinPool.java:974)\n",
      "\tat jsr166y.ForkJoinPool.runWorker(ForkJoinPool.java:1477)\n",
      "\tat jsr166y.ForkJoinWorkerThread.run(ForkJoinWorkerThread.java:104)\n",
      "Caused by: java.lang.UnsupportedOperationException: \n",
      "\n",
      "Trying to predict with an unstable model.\n",
      "Job was aborted due to observed numerical instability (exponential growth).\n",
      "Either the weights or the bias values are unreasonably large or lead to large activation values.\n",
      "Try a different initial distribution, a bounded activation function (Tanh), adding regularization\n",
      "(via max_w2, l1, l2, dropout) or learning rate (either enable adaptive_rate or use a smaller learning rate or faster annealing).\n",
      "\n",
      "For more information visit:\n",
      "  http://jira.h2o.ai/browse/TN-4\n",
      "\tat hex.deeplearning.DeepLearningModel.score_autoencoder(DeepLearningModel.java:870)\n",
      "\tat hex.deeplearning.DeepLearningModel.access$200(DeepLearningModel.java:34)\n",
      "\tat hex.deeplearning.DeepLearningModel$2.map(DeepLearningModel.java:756)\n",
      "\tat water.MRTask.compute2(MRTask.java:675)\n",
      "\tat water.H2O$H2OCountedCompleter.compute1(H2O.java:1560)\n",
      "\tat hex.deeplearning.DeepLearningModel$2$Icer.compute1(DeepLearningModel$2$Icer.java)\n",
      "\tat water.H2O$H2OCountedCompleter.compute(H2O.java:1556)\n",
      "\t... 5 more\n",
      "\n"
     ]
    },
    {
     "name": "stdout",
     "output_type": "stream",
     "text": [
      "\n",
      "Hyper-parameter: activation, RectifierWithDropout\n",
      "Hyper-parameter: hidden, [10]\n",
      "Hyper-parameter: input_dropout_ratio, 0.0\n",
      "Hyper-parameter: l1, 2e-05\n",
      "Hyper-parameter: l2, 0.0001\n",
      "failure_details: DistributedException from /127.0.0.1:54321: '\n",
      "\n",
      "Trying to predict with an unstable model.\n",
      "Job was aborted due to observed numerical instability (exponential growth).\n",
      "Either the weights or the bias values are unreasonably large or lead to large activation values.\n",
      "Try a different initial distribution, a bounded activation function (Tanh), adding regularization\n",
      "(via max_w2, l1, l2, dropout) or learning rate (either enable adaptive_rate or use a smaller learning rate or faster annealing).\n",
      "\n",
      "For more information visit:\n",
      "  http://jira.h2o.ai/browse/TN-4'\n",
      "failure_stack_traces: DistributedException from /127.0.0.1:54321: '\n",
      "\n",
      "Trying to predict with an unstable model.\n",
      "Job was aborted due to observed numerical instability (exponential growth).\n",
      "Either the weights or the bias values are unreasonably large or lead to large activation values.\n",
      "Try a different initial distribution, a bounded activation function (Tanh), adding regularization\n",
      "(via max_w2, l1, l2, dropout) or learning rate (either enable adaptive_rate or use a smaller learning rate or faster annealing).\n",
      "\n",
      "For more information visit:\n",
      "  http://jira.h2o.ai/browse/TN-4', caused by java.lang.UnsupportedOperationException: \n",
      "\n",
      "Trying to predict with an unstable model.\n",
      "Job was aborted due to observed numerical instability (exponential growth).\n",
      "Either the weights or the bias values are unreasonably large or lead to large activation values.\n",
      "Try a different initial distribution, a bounded activation function (Tanh), adding regularization\n",
      "(via max_w2, l1, l2, dropout) or learning rate (either enable adaptive_rate or use a smaller learning rate or faster annealing).\n",
      "\n",
      "For more information visit:\n",
      "  http://jira.h2o.ai/browse/TN-4\n",
      "\tat water.MRTask.getResult(MRTask.java:494)\n",
      "\tat water.MRTask.getResult(MRTask.java:502)\n",
      "\tat water.MRTask.doAll(MRTask.java:397)\n",
      "\tat water.MRTask.doAll(MRTask.java:403)\n",
      "\tat hex.deeplearning.DeepLearningModel.scoreAutoEncoder(DeepLearningModel.java:761)\n",
      "\tat hex.deeplearning.DeepLearningModel.doScoring(DeepLearningModel.java:353)\n",
      "\tat hex.deeplearning.DeepLearning$DeepLearningDriver.trainModel(DeepLearning.java:435)\n",
      "\tat hex.deeplearning.DeepLearning$DeepLearningDriver.buildModel(DeepLearning.java:305)\n",
      "\tat hex.deeplearning.DeepLearning$DeepLearningDriver.computeImpl(DeepLearning.java:210)\n",
      "\tat hex.ModelBuilder$Driver.compute2(ModelBuilder.java:248)\n",
      "\tat hex.deeplearning.DeepLearning$DeepLearningDriver.compute2(DeepLearning.java:203)\n",
      "\tat hex.ModelBuilder.trainModelNested(ModelBuilder.java:399)\n",
      "\tat hex.ModelBuilder$TrainModelNestedRunnable.run(ModelBuilder.java:434)\n",
      "\tat water.H2O.runOnH2ONode(H2O.java:1445)\n",
      "\tat water.H2O.runOnH2ONode(H2O.java:1434)\n",
      "\tat hex.ModelBuilder.trainModelNested(ModelBuilder.java:415)\n",
      "\tat hex.grid.GridSearch.buildModel(GridSearch.java:541)\n",
      "\tat hex.grid.GridSearch.gridSearch(GridSearch.java:373)\n",
      "\tat hex.grid.GridSearch.access$000(GridSearch.java:69)\n",
      "\tat hex.grid.GridSearch$1.compute2(GridSearch.java:140)\n",
      "\tat water.H2O$H2OCountedCompleter.compute(H2O.java:1557)\n",
      "\tat jsr166y.CountedCompleter.exec(CountedCompleter.java:468)\n",
      "\tat jsr166y.ForkJoinTask.doExec(ForkJoinTask.java:263)\n",
      "\tat jsr166y.ForkJoinPool$WorkQueue.runTask(ForkJoinPool.java:974)\n",
      "\tat jsr166y.ForkJoinPool.runWorker(ForkJoinPool.java:1477)\n",
      "\tat jsr166y.ForkJoinWorkerThread.run(ForkJoinWorkerThread.java:104)\n",
      "Caused by: java.lang.UnsupportedOperationException: \n",
      "\n",
      "Trying to predict with an unstable model.\n",
      "Job was aborted due to observed numerical instability (exponential growth).\n",
      "Either the weights or the bias values are unreasonably large or lead to large activation values.\n",
      "Try a different initial distribution, a bounded activation function (Tanh), adding regularization\n",
      "(via max_w2, l1, l2, dropout) or learning rate (either enable adaptive_rate or use a smaller learning rate or faster annealing).\n",
      "\n",
      "For more information visit:\n",
      "  http://jira.h2o.ai/browse/TN-4\n",
      "\tat hex.deeplearning.DeepLearningModel.score_autoencoder(DeepLearningModel.java:870)\n",
      "\tat hex.deeplearning.DeepLearningModel.access$200(DeepLearningModel.java:34)\n",
      "\tat hex.deeplearning.DeepLearningModel$2.map(DeepLearningModel.java:756)\n",
      "\tat water.MRTask.compute2(MRTask.java:675)\n",
      "\tat water.H2O$H2OCountedCompleter.compute1(H2O.java:1560)\n",
      "\tat hex.deeplearning.DeepLearningModel$2$Icer.compute1(DeepLearningModel$2$Icer.java)\n",
      "\tat water.H2O$H2OCountedCompleter.compute(H2O.java:1556)\n",
      "\t... 5 more\n",
      "\n",
      "\n",
      "Hyper-parameter: activation, RectifierWithDropout\n",
      "Hyper-parameter: hidden, [5]\n",
      "Hyper-parameter: input_dropout_ratio, 0.0\n",
      "Hyper-parameter: l1, 1e-05\n",
      "Hyper-parameter: l2, 4e-05\n",
      "failure_details: DistributedException from /127.0.0.1:54321: '\n",
      "\n",
      "Trying to predict with an unstable model.\n",
      "Job was aborted due to observed numerical instability (exponential growth).\n",
      "Either the weights or the bias values are unreasonably large or lead to large activation values.\n",
      "Try a different initial distribution, a bounded activation function (Tanh), adding regularization\n",
      "(via max_w2, l1, l2, dropout) or learning rate (either enable adaptive_rate or use a smaller learning rate or faster annealing).\n",
      "\n",
      "For more information visit:\n",
      "  http://jira.h2o.ai/browse/TN-4'\n",
      "failure_stack_traces: DistributedException from /127.0.0.1:54321: '\n",
      "\n",
      "Trying to predict with an unstable model.\n",
      "Job was aborted due to observed numerical instability (exponential growth).\n",
      "Either the weights or the bias values are unreasonably large or lead to large activation values.\n",
      "Try a different initial distribution, a bounded activation function (Tanh), adding regularization\n",
      "(via max_w2, l1, l2, dropout) or learning rate (either enable adaptive_rate or use a smaller learning rate or faster annealing).\n",
      "\n",
      "For more information visit:\n",
      "  http://jira.h2o.ai/browse/TN-4', caused by java.lang.UnsupportedOperationException: \n",
      "\n",
      "Trying to predict with an unstable model.\n",
      "Job was aborted due to observed numerical instability (exponential growth).\n",
      "Either the weights or the bias values are unreasonably large or lead to large activation values.\n",
      "Try a different initial distribution, a bounded activation function (Tanh), adding regularization\n",
      "(via max_w2, l1, l2, dropout) or learning rate (either enable adaptive_rate or use a smaller learning rate or faster annealing).\n",
      "\n",
      "For more information visit:\n",
      "  http://jira.h2o.ai/browse/TN-4\n",
      "\tat water.MRTask.getResult(MRTask.java:494)\n",
      "\tat water.MRTask.getResult(MRTask.java:502)\n",
      "\tat water.MRTask.doAll(MRTask.java:397)\n",
      "\tat water.MRTask.doAll(MRTask.java:403)\n",
      "\tat hex.deeplearning.DeepLearningModel.scoreAutoEncoder(DeepLearningModel.java:761)\n",
      "\tat hex.deeplearning.DeepLearningModel.doScoring(DeepLearningModel.java:353)\n",
      "\tat hex.deeplearning.DeepLearning$DeepLearningDriver.trainModel(DeepLearning.java:435)\n",
      "\tat hex.deeplearning.DeepLearning$DeepLearningDriver.buildModel(DeepLearning.java:305)\n",
      "\tat hex.deeplearning.DeepLearning$DeepLearningDriver.computeImpl(DeepLearning.java:210)\n",
      "\tat hex.ModelBuilder$Driver.compute2(ModelBuilder.java:248)\n",
      "\tat hex.deeplearning.DeepLearning$DeepLearningDriver.compute2(DeepLearning.java:203)\n",
      "\tat hex.ModelBuilder.trainModelNested(ModelBuilder.java:399)\n",
      "\tat hex.ModelBuilder$TrainModelNestedRunnable.run(ModelBuilder.java:434)\n",
      "\tat water.H2O.runOnH2ONode(H2O.java:1445)\n",
      "\tat water.H2O.runOnH2ONode(H2O.java:1434)\n",
      "\tat hex.ModelBuilder.trainModelNested(ModelBuilder.java:415)\n",
      "\tat hex.grid.GridSearch.buildModel(GridSearch.java:541)\n",
      "\tat hex.grid.GridSearch.gridSearch(GridSearch.java:373)\n",
      "\tat hex.grid.GridSearch.access$000(GridSearch.java:69)\n",
      "\tat hex.grid.GridSearch$1.compute2(GridSearch.java:140)\n",
      "\tat water.H2O$H2OCountedCompleter.compute(H2O.java:1557)\n",
      "\tat jsr166y.CountedCompleter.exec(CountedCompleter.java:468)\n",
      "\tat jsr166y.ForkJoinTask.doExec(ForkJoinTask.java:263)\n",
      "\tat jsr166y.ForkJoinPool$WorkQueue.runTask(ForkJoinPool.java:974)\n",
      "\tat jsr166y.ForkJoinPool.runWorker(ForkJoinPool.java:1477)\n",
      "\tat jsr166y.ForkJoinWorkerThread.run(ForkJoinWorkerThread.java:104)\n",
      "Caused by: java.lang.UnsupportedOperationException: \n",
      "\n",
      "Trying to predict with an unstable model.\n",
      "Job was aborted due to observed numerical instability (exponential growth).\n",
      "Either the weights or the bias values are unreasonably large or lead to large activation values.\n",
      "Try a different initial distribution, a bounded activation function (Tanh), adding regularization\n",
      "(via max_w2, l1, l2, dropout) or learning rate (either enable adaptive_rate or use a smaller learning rate or faster annealing).\n",
      "\n",
      "For more information visit:\n",
      "  http://jira.h2o.ai/browse/TN-4\n",
      "\tat hex.deeplearning.DeepLearningModel.score_autoencoder(DeepLearningModel.java:870)\n",
      "\tat hex.deeplearning.DeepLearningModel.access$200(DeepLearningModel.java:34)\n",
      "\tat hex.deeplearning.DeepLearningModel$2.map(DeepLearningModel.java:756)\n",
      "\tat water.MRTask.compute2(MRTask.java:675)\n",
      "\tat water.H2O$H2OCountedCompleter.compute1(H2O.java:1560)\n",
      "\tat hex.deeplearning.DeepLearningModel$2$Icer.compute1(DeepLearningModel$2$Icer.java)\n",
      "\tat water.H2O$H2OCountedCompleter.compute(H2O.java:1556)\n",
      "\t... 5 more\n",
      "\n"
     ]
    },
    {
     "name": "stdout",
     "output_type": "stream",
     "text": [
      "\n",
      "Hyper-parameter: activation, RectifierWithDropout\n",
      "Hyper-parameter: hidden, [10]\n",
      "Hyper-parameter: input_dropout_ratio, 0.0\n",
      "Hyper-parameter: l1, 9e-05\n",
      "Hyper-parameter: l2, 2e-05\n",
      "failure_details: DistributedException from /127.0.0.1:54321: '\n",
      "\n",
      "Trying to predict with an unstable model.\n",
      "Job was aborted due to observed numerical instability (exponential growth).\n",
      "Either the weights or the bias values are unreasonably large or lead to large activation values.\n",
      "Try a different initial distribution, a bounded activation function (Tanh), adding regularization\n",
      "(via max_w2, l1, l2, dropout) or learning rate (either enable adaptive_rate or use a smaller learning rate or faster annealing).\n",
      "\n",
      "For more information visit:\n",
      "  http://jira.h2o.ai/browse/TN-4'\n",
      "failure_stack_traces: DistributedException from /127.0.0.1:54321: '\n",
      "\n",
      "Trying to predict with an unstable model.\n",
      "Job was aborted due to observed numerical instability (exponential growth).\n",
      "Either the weights or the bias values are unreasonably large or lead to large activation values.\n",
      "Try a different initial distribution, a bounded activation function (Tanh), adding regularization\n",
      "(via max_w2, l1, l2, dropout) or learning rate (either enable adaptive_rate or use a smaller learning rate or faster annealing).\n",
      "\n",
      "For more information visit:\n",
      "  http://jira.h2o.ai/browse/TN-4', caused by java.lang.UnsupportedOperationException: \n",
      "\n",
      "Trying to predict with an unstable model.\n",
      "Job was aborted due to observed numerical instability (exponential growth).\n",
      "Either the weights or the bias values are unreasonably large or lead to large activation values.\n",
      "Try a different initial distribution, a bounded activation function (Tanh), adding regularization\n",
      "(via max_w2, l1, l2, dropout) or learning rate (either enable adaptive_rate or use a smaller learning rate or faster annealing).\n",
      "\n",
      "For more information visit:\n",
      "  http://jira.h2o.ai/browse/TN-4\n",
      "\tat water.MRTask.getResult(MRTask.java:494)\n",
      "\tat water.MRTask.getResult(MRTask.java:502)\n",
      "\tat water.MRTask.doAll(MRTask.java:397)\n",
      "\tat water.MRTask.doAll(MRTask.java:403)\n",
      "\tat hex.deeplearning.DeepLearningModel.scoreAutoEncoder(DeepLearningModel.java:761)\n",
      "\tat hex.deeplearning.DeepLearningModel.doScoring(DeepLearningModel.java:353)\n",
      "\tat hex.deeplearning.DeepLearning$DeepLearningDriver.trainModel(DeepLearning.java:435)\n",
      "\tat hex.deeplearning.DeepLearning$DeepLearningDriver.buildModel(DeepLearning.java:305)\n",
      "\tat hex.deeplearning.DeepLearning$DeepLearningDriver.computeImpl(DeepLearning.java:210)\n",
      "\tat hex.ModelBuilder$Driver.compute2(ModelBuilder.java:248)\n",
      "\tat hex.deeplearning.DeepLearning$DeepLearningDriver.compute2(DeepLearning.java:203)\n",
      "\tat hex.ModelBuilder.trainModelNested(ModelBuilder.java:399)\n",
      "\tat hex.ModelBuilder$TrainModelNestedRunnable.run(ModelBuilder.java:434)\n",
      "\tat water.H2O.runOnH2ONode(H2O.java:1445)\n",
      "\tat water.H2O.runOnH2ONode(H2O.java:1434)\n",
      "\tat hex.ModelBuilder.trainModelNested(ModelBuilder.java:415)\n",
      "\tat hex.grid.GridSearch.buildModel(GridSearch.java:541)\n",
      "\tat hex.grid.GridSearch.gridSearch(GridSearch.java:373)\n",
      "\tat hex.grid.GridSearch.access$000(GridSearch.java:69)\n",
      "\tat hex.grid.GridSearch$1.compute2(GridSearch.java:140)\n",
      "\tat water.H2O$H2OCountedCompleter.compute(H2O.java:1557)\n",
      "\tat jsr166y.CountedCompleter.exec(CountedCompleter.java:468)\n",
      "\tat jsr166y.ForkJoinTask.doExec(ForkJoinTask.java:263)\n",
      "\tat jsr166y.ForkJoinPool$WorkQueue.runTask(ForkJoinPool.java:974)\n",
      "\tat jsr166y.ForkJoinPool.runWorker(ForkJoinPool.java:1477)\n",
      "\tat jsr166y.ForkJoinWorkerThread.run(ForkJoinWorkerThread.java:104)\n",
      "Caused by: java.lang.UnsupportedOperationException: \n",
      "\n",
      "Trying to predict with an unstable model.\n",
      "Job was aborted due to observed numerical instability (exponential growth).\n",
      "Either the weights or the bias values are unreasonably large or lead to large activation values.\n",
      "Try a different initial distribution, a bounded activation function (Tanh), adding regularization\n",
      "(via max_w2, l1, l2, dropout) or learning rate (either enable adaptive_rate or use a smaller learning rate or faster annealing).\n",
      "\n",
      "For more information visit:\n",
      "  http://jira.h2o.ai/browse/TN-4\n",
      "\tat hex.deeplearning.DeepLearningModel.score_autoencoder(DeepLearningModel.java:870)\n",
      "\tat hex.deeplearning.DeepLearningModel.access$200(DeepLearningModel.java:34)\n",
      "\tat hex.deeplearning.DeepLearningModel$2.map(DeepLearningModel.java:756)\n",
      "\tat water.MRTask.compute2(MRTask.java:675)\n",
      "\tat water.H2O$H2OCountedCompleter.compute1(H2O.java:1560)\n",
      "\tat hex.deeplearning.DeepLearningModel$2$Icer.compute1(DeepLearningModel$2$Icer.java)\n",
      "\tat water.H2O$H2OCountedCompleter.compute(H2O.java:1556)\n",
      "\t... 5 more\n",
      "\n",
      "\n",
      "Hyper-parameter: activation, RectifierWithDropout\n",
      "Hyper-parameter: hidden, [2]\n",
      "Hyper-parameter: input_dropout_ratio, 0.0\n",
      "Hyper-parameter: l1, 3e-05\n",
      "Hyper-parameter: l2, 1e-05\n",
      "failure_details: DistributedException from /127.0.0.1:54321: '\n",
      "\n",
      "Trying to predict with an unstable model.\n",
      "Job was aborted due to observed numerical instability (exponential growth).\n",
      "Either the weights or the bias values are unreasonably large or lead to large activation values.\n",
      "Try a different initial distribution, a bounded activation function (Tanh), adding regularization\n",
      "(via max_w2, l1, l2, dropout) or learning rate (either enable adaptive_rate or use a smaller learning rate or faster annealing).\n",
      "\n",
      "For more information visit:\n",
      "  http://jira.h2o.ai/browse/TN-4'\n",
      "failure_stack_traces: DistributedException from /127.0.0.1:54321: '\n",
      "\n",
      "Trying to predict with an unstable model.\n",
      "Job was aborted due to observed numerical instability (exponential growth).\n",
      "Either the weights or the bias values are unreasonably large or lead to large activation values.\n",
      "Try a different initial distribution, a bounded activation function (Tanh), adding regularization\n",
      "(via max_w2, l1, l2, dropout) or learning rate (either enable adaptive_rate or use a smaller learning rate or faster annealing).\n",
      "\n",
      "For more information visit:\n",
      "  http://jira.h2o.ai/browse/TN-4', caused by java.lang.UnsupportedOperationException: \n",
      "\n",
      "Trying to predict with an unstable model.\n",
      "Job was aborted due to observed numerical instability (exponential growth).\n",
      "Either the weights or the bias values are unreasonably large or lead to large activation values.\n",
      "Try a different initial distribution, a bounded activation function (Tanh), adding regularization\n",
      "(via max_w2, l1, l2, dropout) or learning rate (either enable adaptive_rate or use a smaller learning rate or faster annealing).\n",
      "\n",
      "For more information visit:\n",
      "  http://jira.h2o.ai/browse/TN-4\n",
      "\tat water.MRTask.getResult(MRTask.java:494)\n",
      "\tat water.MRTask.getResult(MRTask.java:502)\n",
      "\tat water.MRTask.doAll(MRTask.java:397)\n",
      "\tat water.MRTask.doAll(MRTask.java:403)\n",
      "\tat hex.deeplearning.DeepLearningModel.scoreAutoEncoder(DeepLearningModel.java:761)\n",
      "\tat hex.deeplearning.DeepLearningModel.doScoring(DeepLearningModel.java:353)\n",
      "\tat hex.deeplearning.DeepLearning$DeepLearningDriver.trainModel(DeepLearning.java:435)\n",
      "\tat hex.deeplearning.DeepLearning$DeepLearningDriver.buildModel(DeepLearning.java:305)\n",
      "\tat hex.deeplearning.DeepLearning$DeepLearningDriver.computeImpl(DeepLearning.java:210)\n",
      "\tat hex.ModelBuilder$Driver.compute2(ModelBuilder.java:248)\n",
      "\tat hex.deeplearning.DeepLearning$DeepLearningDriver.compute2(DeepLearning.java:203)\n",
      "\tat hex.ModelBuilder.trainModelNested(ModelBuilder.java:399)\n",
      "\tat hex.ModelBuilder$TrainModelNestedRunnable.run(ModelBuilder.java:434)\n",
      "\tat water.H2O.runOnH2ONode(H2O.java:1445)\n",
      "\tat water.H2O.runOnH2ONode(H2O.java:1434)\n",
      "\tat hex.ModelBuilder.trainModelNested(ModelBuilder.java:415)\n",
      "\tat hex.grid.GridSearch.buildModel(GridSearch.java:541)\n",
      "\tat hex.grid.GridSearch.gridSearch(GridSearch.java:373)\n",
      "\tat hex.grid.GridSearch.access$000(GridSearch.java:69)\n",
      "\tat hex.grid.GridSearch$1.compute2(GridSearch.java:140)\n",
      "\tat water.H2O$H2OCountedCompleter.compute(H2O.java:1557)\n",
      "\tat jsr166y.CountedCompleter.exec(CountedCompleter.java:468)\n",
      "\tat jsr166y.ForkJoinTask.doExec(ForkJoinTask.java:263)\n",
      "\tat jsr166y.ForkJoinPool$WorkQueue.runTask(ForkJoinPool.java:974)\n",
      "\tat jsr166y.ForkJoinPool.runWorker(ForkJoinPool.java:1477)\n",
      "\tat jsr166y.ForkJoinWorkerThread.run(ForkJoinWorkerThread.java:104)\n",
      "Caused by: java.lang.UnsupportedOperationException: \n",
      "\n",
      "Trying to predict with an unstable model.\n",
      "Job was aborted due to observed numerical instability (exponential growth).\n",
      "Either the weights or the bias values are unreasonably large or lead to large activation values.\n",
      "Try a different initial distribution, a bounded activation function (Tanh), adding regularization\n",
      "(via max_w2, l1, l2, dropout) or learning rate (either enable adaptive_rate or use a smaller learning rate or faster annealing).\n",
      "\n",
      "For more information visit:\n",
      "  http://jira.h2o.ai/browse/TN-4\n",
      "\tat hex.deeplearning.DeepLearningModel.score_autoencoder(DeepLearningModel.java:870)\n",
      "\tat hex.deeplearning.DeepLearningModel.access$200(DeepLearningModel.java:34)\n",
      "\tat hex.deeplearning.DeepLearningModel$2.map(DeepLearningModel.java:756)\n",
      "\tat water.MRTask.compute2(MRTask.java:675)\n",
      "\tat water.H2O$H2OCountedCompleter.compute1(H2O.java:1560)\n",
      "\tat hex.deeplearning.DeepLearningModel$2$Icer.compute1(DeepLearningModel$2$Icer.java)\n",
      "\tat water.H2O$H2OCountedCompleter.compute(H2O.java:1556)\n",
      "\t... 5 more\n",
      "\n"
     ]
    },
    {
     "name": "stdout",
     "output_type": "stream",
     "text": [
      "\n",
      "Hyper-parameter: activation, RectifierWithDropout\n",
      "Hyper-parameter: hidden, [5]\n",
      "Hyper-parameter: input_dropout_ratio, 0.0\n",
      "Hyper-parameter: l1, 4e-05\n",
      "Hyper-parameter: l2, 8e-05\n",
      "failure_details: DistributedException from /127.0.0.1:54321: '\n",
      "\n",
      "Trying to predict with an unstable model.\n",
      "Job was aborted due to observed numerical instability (exponential growth).\n",
      "Either the weights or the bias values are unreasonably large or lead to large activation values.\n",
      "Try a different initial distribution, a bounded activation function (Tanh), adding regularization\n",
      "(via max_w2, l1, l2, dropout) or learning rate (either enable adaptive_rate or use a smaller learning rate or faster annealing).\n",
      "\n",
      "For more information visit:\n",
      "  http://jira.h2o.ai/browse/TN-4'\n",
      "failure_stack_traces: DistributedException from /127.0.0.1:54321: '\n",
      "\n",
      "Trying to predict with an unstable model.\n",
      "Job was aborted due to observed numerical instability (exponential growth).\n",
      "Either the weights or the bias values are unreasonably large or lead to large activation values.\n",
      "Try a different initial distribution, a bounded activation function (Tanh), adding regularization\n",
      "(via max_w2, l1, l2, dropout) or learning rate (either enable adaptive_rate or use a smaller learning rate or faster annealing).\n",
      "\n",
      "For more information visit:\n",
      "  http://jira.h2o.ai/browse/TN-4', caused by java.lang.UnsupportedOperationException: \n",
      "\n",
      "Trying to predict with an unstable model.\n",
      "Job was aborted due to observed numerical instability (exponential growth).\n",
      "Either the weights or the bias values are unreasonably large or lead to large activation values.\n",
      "Try a different initial distribution, a bounded activation function (Tanh), adding regularization\n",
      "(via max_w2, l1, l2, dropout) or learning rate (either enable adaptive_rate or use a smaller learning rate or faster annealing).\n",
      "\n",
      "For more information visit:\n",
      "  http://jira.h2o.ai/browse/TN-4\n",
      "\tat water.MRTask.getResult(MRTask.java:494)\n",
      "\tat water.MRTask.getResult(MRTask.java:502)\n",
      "\tat water.MRTask.doAll(MRTask.java:397)\n",
      "\tat water.MRTask.doAll(MRTask.java:403)\n",
      "\tat hex.deeplearning.DeepLearningModel.scoreAutoEncoder(DeepLearningModel.java:761)\n",
      "\tat hex.deeplearning.DeepLearningModel.doScoring(DeepLearningModel.java:353)\n",
      "\tat hex.deeplearning.DeepLearning$DeepLearningDriver.trainModel(DeepLearning.java:435)\n",
      "\tat hex.deeplearning.DeepLearning$DeepLearningDriver.buildModel(DeepLearning.java:305)\n",
      "\tat hex.deeplearning.DeepLearning$DeepLearningDriver.computeImpl(DeepLearning.java:210)\n",
      "\tat hex.ModelBuilder$Driver.compute2(ModelBuilder.java:248)\n",
      "\tat hex.deeplearning.DeepLearning$DeepLearningDriver.compute2(DeepLearning.java:203)\n",
      "\tat hex.ModelBuilder.trainModelNested(ModelBuilder.java:399)\n",
      "\tat hex.ModelBuilder$TrainModelNestedRunnable.run(ModelBuilder.java:434)\n",
      "\tat water.H2O.runOnH2ONode(H2O.java:1445)\n",
      "\tat water.H2O.runOnH2ONode(H2O.java:1434)\n",
      "\tat hex.ModelBuilder.trainModelNested(ModelBuilder.java:415)\n",
      "\tat hex.grid.GridSearch.buildModel(GridSearch.java:541)\n",
      "\tat hex.grid.GridSearch.gridSearch(GridSearch.java:373)\n",
      "\tat hex.grid.GridSearch.access$000(GridSearch.java:69)\n",
      "\tat hex.grid.GridSearch$1.compute2(GridSearch.java:140)\n",
      "\tat water.H2O$H2OCountedCompleter.compute(H2O.java:1557)\n",
      "\tat jsr166y.CountedCompleter.exec(CountedCompleter.java:468)\n",
      "\tat jsr166y.ForkJoinTask.doExec(ForkJoinTask.java:263)\n",
      "\tat jsr166y.ForkJoinPool$WorkQueue.runTask(ForkJoinPool.java:974)\n",
      "\tat jsr166y.ForkJoinPool.runWorker(ForkJoinPool.java:1477)\n",
      "\tat jsr166y.ForkJoinWorkerThread.run(ForkJoinWorkerThread.java:104)\n",
      "Caused by: java.lang.UnsupportedOperationException: \n",
      "\n",
      "Trying to predict with an unstable model.\n",
      "Job was aborted due to observed numerical instability (exponential growth).\n",
      "Either the weights or the bias values are unreasonably large or lead to large activation values.\n",
      "Try a different initial distribution, a bounded activation function (Tanh), adding regularization\n",
      "(via max_w2, l1, l2, dropout) or learning rate (either enable adaptive_rate or use a smaller learning rate or faster annealing).\n",
      "\n",
      "For more information visit:\n",
      "  http://jira.h2o.ai/browse/TN-4\n",
      "\tat hex.deeplearning.DeepLearningModel.score_autoencoder(DeepLearningModel.java:870)\n",
      "\tat hex.deeplearning.DeepLearningModel.access$200(DeepLearningModel.java:34)\n",
      "\tat hex.deeplearning.DeepLearningModel$2.map(DeepLearningModel.java:756)\n",
      "\tat water.MRTask.compute2(MRTask.java:675)\n",
      "\tat water.H2O$H2OCountedCompleter.compute1(H2O.java:1560)\n",
      "\tat hex.deeplearning.DeepLearningModel$2$Icer.compute1(DeepLearningModel$2$Icer.java)\n",
      "\tat water.H2O$H2OCountedCompleter.compute(H2O.java:1556)\n",
      "\t... 5 more\n",
      "\n",
      "\n",
      "Hyper-parameter: activation, RectifierWithDropout\n",
      "Hyper-parameter: hidden, [2]\n",
      "Hyper-parameter: input_dropout_ratio, 0.0\n",
      "Hyper-parameter: l1, 6e-05\n",
      "Hyper-parameter: l2, 8e-05\n",
      "failure_details: DistributedException from /127.0.0.1:54321: '\n",
      "\n",
      "Trying to predict with an unstable model.\n",
      "Job was aborted due to observed numerical instability (exponential growth).\n",
      "Either the weights or the bias values are unreasonably large or lead to large activation values.\n",
      "Try a different initial distribution, a bounded activation function (Tanh), adding regularization\n",
      "(via max_w2, l1, l2, dropout) or learning rate (either enable adaptive_rate or use a smaller learning rate or faster annealing).\n",
      "\n",
      "For more information visit:\n",
      "  http://jira.h2o.ai/browse/TN-4'\n",
      "failure_stack_traces: DistributedException from /127.0.0.1:54321: '\n",
      "\n",
      "Trying to predict with an unstable model.\n",
      "Job was aborted due to observed numerical instability (exponential growth).\n",
      "Either the weights or the bias values are unreasonably large or lead to large activation values.\n",
      "Try a different initial distribution, a bounded activation function (Tanh), adding regularization\n",
      "(via max_w2, l1, l2, dropout) or learning rate (either enable adaptive_rate or use a smaller learning rate or faster annealing).\n",
      "\n",
      "For more information visit:\n",
      "  http://jira.h2o.ai/browse/TN-4', caused by java.lang.UnsupportedOperationException: \n",
      "\n",
      "Trying to predict with an unstable model.\n",
      "Job was aborted due to observed numerical instability (exponential growth).\n",
      "Either the weights or the bias values are unreasonably large or lead to large activation values.\n",
      "Try a different initial distribution, a bounded activation function (Tanh), adding regularization\n",
      "(via max_w2, l1, l2, dropout) or learning rate (either enable adaptive_rate or use a smaller learning rate or faster annealing).\n",
      "\n",
      "For more information visit:\n",
      "  http://jira.h2o.ai/browse/TN-4\n",
      "\tat water.MRTask.getResult(MRTask.java:494)\n",
      "\tat water.MRTask.getResult(MRTask.java:502)\n",
      "\tat water.MRTask.doAll(MRTask.java:397)\n",
      "\tat water.MRTask.doAll(MRTask.java:403)\n",
      "\tat hex.deeplearning.DeepLearningModel.scoreAutoEncoder(DeepLearningModel.java:761)\n",
      "\tat hex.deeplearning.DeepLearningModel.doScoring(DeepLearningModel.java:353)\n",
      "\tat hex.deeplearning.DeepLearning$DeepLearningDriver.trainModel(DeepLearning.java:435)\n",
      "\tat hex.deeplearning.DeepLearning$DeepLearningDriver.buildModel(DeepLearning.java:305)\n",
      "\tat hex.deeplearning.DeepLearning$DeepLearningDriver.computeImpl(DeepLearning.java:210)\n",
      "\tat hex.ModelBuilder$Driver.compute2(ModelBuilder.java:248)\n",
      "\tat hex.deeplearning.DeepLearning$DeepLearningDriver.compute2(DeepLearning.java:203)\n",
      "\tat hex.ModelBuilder.trainModelNested(ModelBuilder.java:399)\n",
      "\tat hex.ModelBuilder$TrainModelNestedRunnable.run(ModelBuilder.java:434)\n",
      "\tat water.H2O.runOnH2ONode(H2O.java:1445)\n",
      "\tat water.H2O.runOnH2ONode(H2O.java:1434)\n",
      "\tat hex.ModelBuilder.trainModelNested(ModelBuilder.java:415)\n",
      "\tat hex.grid.GridSearch.buildModel(GridSearch.java:541)\n",
      "\tat hex.grid.GridSearch.gridSearch(GridSearch.java:373)\n",
      "\tat hex.grid.GridSearch.access$000(GridSearch.java:69)\n",
      "\tat hex.grid.GridSearch$1.compute2(GridSearch.java:140)\n",
      "\tat water.H2O$H2OCountedCompleter.compute(H2O.java:1557)\n",
      "\tat jsr166y.CountedCompleter.exec(CountedCompleter.java:468)\n",
      "\tat jsr166y.ForkJoinTask.doExec(ForkJoinTask.java:263)\n",
      "\tat jsr166y.ForkJoinPool$WorkQueue.runTask(ForkJoinPool.java:974)\n",
      "\tat jsr166y.ForkJoinPool.runWorker(ForkJoinPool.java:1477)\n",
      "\tat jsr166y.ForkJoinWorkerThread.run(ForkJoinWorkerThread.java:104)\n",
      "Caused by: java.lang.UnsupportedOperationException: \n",
      "\n",
      "Trying to predict with an unstable model.\n",
      "Job was aborted due to observed numerical instability (exponential growth).\n",
      "Either the weights or the bias values are unreasonably large or lead to large activation values.\n",
      "Try a different initial distribution, a bounded activation function (Tanh), adding regularization\n",
      "(via max_w2, l1, l2, dropout) or learning rate (either enable adaptive_rate or use a smaller learning rate or faster annealing).\n",
      "\n",
      "For more information visit:\n",
      "  http://jira.h2o.ai/browse/TN-4\n",
      "\tat hex.deeplearning.DeepLearningModel.score_autoencoder(DeepLearningModel.java:870)\n",
      "\tat hex.deeplearning.DeepLearningModel.access$200(DeepLearningModel.java:34)\n",
      "\tat hex.deeplearning.DeepLearningModel$2.map(DeepLearningModel.java:756)\n",
      "\tat water.MRTask.compute2(MRTask.java:675)\n",
      "\tat water.H2O$H2OCountedCompleter.compute1(H2O.java:1560)\n",
      "\tat hex.deeplearning.DeepLearningModel$2$Icer.compute1(DeepLearningModel$2$Icer.java)\n",
      "\tat water.H2O$H2OCountedCompleter.compute(H2O.java:1556)\n",
      "\t... 5 more\n",
      "\n"
     ]
    },
    {
     "name": "stdout",
     "output_type": "stream",
     "text": [
      "\n",
      "Hyper-parameter: activation, RectifierWithDropout\n",
      "Hyper-parameter: hidden, [2]\n",
      "Hyper-parameter: input_dropout_ratio, 0.05\n",
      "Hyper-parameter: l1, 0.0\n",
      "Hyper-parameter: l2, 3e-05\n",
      "failure_details: DistributedException from /127.0.0.1:54321: '\n",
      "\n",
      "Trying to predict with an unstable model.\n",
      "Job was aborted due to observed numerical instability (exponential growth).\n",
      "Either the weights or the bias values are unreasonably large or lead to large activation values.\n",
      "Try a different initial distribution, a bounded activation function (Tanh), adding regularization\n",
      "(via max_w2, l1, l2, dropout) or learning rate (either enable adaptive_rate or use a smaller learning rate or faster annealing).\n",
      "\n",
      "For more information visit:\n",
      "  http://jira.h2o.ai/browse/TN-4'\n",
      "failure_stack_traces: DistributedException from /127.0.0.1:54321: '\n",
      "\n",
      "Trying to predict with an unstable model.\n",
      "Job was aborted due to observed numerical instability (exponential growth).\n",
      "Either the weights or the bias values are unreasonably large or lead to large activation values.\n",
      "Try a different initial distribution, a bounded activation function (Tanh), adding regularization\n",
      "(via max_w2, l1, l2, dropout) or learning rate (either enable adaptive_rate or use a smaller learning rate or faster annealing).\n",
      "\n",
      "For more information visit:\n",
      "  http://jira.h2o.ai/browse/TN-4', caused by java.lang.UnsupportedOperationException: \n",
      "\n",
      "Trying to predict with an unstable model.\n",
      "Job was aborted due to observed numerical instability (exponential growth).\n",
      "Either the weights or the bias values are unreasonably large or lead to large activation values.\n",
      "Try a different initial distribution, a bounded activation function (Tanh), adding regularization\n",
      "(via max_w2, l1, l2, dropout) or learning rate (either enable adaptive_rate or use a smaller learning rate or faster annealing).\n",
      "\n",
      "For more information visit:\n",
      "  http://jira.h2o.ai/browse/TN-4\n",
      "\tat water.MRTask.getResult(MRTask.java:494)\n",
      "\tat water.MRTask.getResult(MRTask.java:502)\n",
      "\tat water.MRTask.doAll(MRTask.java:397)\n",
      "\tat water.MRTask.doAll(MRTask.java:403)\n",
      "\tat hex.deeplearning.DeepLearningModel.scoreAutoEncoder(DeepLearningModel.java:761)\n",
      "\tat hex.deeplearning.DeepLearningModel.doScoring(DeepLearningModel.java:353)\n",
      "\tat hex.deeplearning.DeepLearning$DeepLearningDriver.trainModel(DeepLearning.java:435)\n",
      "\tat hex.deeplearning.DeepLearning$DeepLearningDriver.buildModel(DeepLearning.java:305)\n",
      "\tat hex.deeplearning.DeepLearning$DeepLearningDriver.computeImpl(DeepLearning.java:210)\n",
      "\tat hex.ModelBuilder$Driver.compute2(ModelBuilder.java:248)\n",
      "\tat hex.deeplearning.DeepLearning$DeepLearningDriver.compute2(DeepLearning.java:203)\n",
      "\tat hex.ModelBuilder.trainModelNested(ModelBuilder.java:399)\n",
      "\tat hex.ModelBuilder$TrainModelNestedRunnable.run(ModelBuilder.java:434)\n",
      "\tat water.H2O.runOnH2ONode(H2O.java:1445)\n",
      "\tat water.H2O.runOnH2ONode(H2O.java:1434)\n",
      "\tat hex.ModelBuilder.trainModelNested(ModelBuilder.java:415)\n",
      "\tat hex.grid.GridSearch.buildModel(GridSearch.java:541)\n",
      "\tat hex.grid.GridSearch.gridSearch(GridSearch.java:373)\n",
      "\tat hex.grid.GridSearch.access$000(GridSearch.java:69)\n",
      "\tat hex.grid.GridSearch$1.compute2(GridSearch.java:140)\n",
      "\tat water.H2O$H2OCountedCompleter.compute(H2O.java:1557)\n",
      "\tat jsr166y.CountedCompleter.exec(CountedCompleter.java:468)\n",
      "\tat jsr166y.ForkJoinTask.doExec(ForkJoinTask.java:263)\n",
      "\tat jsr166y.ForkJoinPool$WorkQueue.runTask(ForkJoinPool.java:974)\n",
      "\tat jsr166y.ForkJoinPool.runWorker(ForkJoinPool.java:1477)\n",
      "\tat jsr166y.ForkJoinWorkerThread.run(ForkJoinWorkerThread.java:104)\n",
      "Caused by: java.lang.UnsupportedOperationException: \n",
      "\n",
      "Trying to predict with an unstable model.\n",
      "Job was aborted due to observed numerical instability (exponential growth).\n",
      "Either the weights or the bias values are unreasonably large or lead to large activation values.\n",
      "Try a different initial distribution, a bounded activation function (Tanh), adding regularization\n",
      "(via max_w2, l1, l2, dropout) or learning rate (either enable adaptive_rate or use a smaller learning rate or faster annealing).\n",
      "\n",
      "For more information visit:\n",
      "  http://jira.h2o.ai/browse/TN-4\n",
      "\tat hex.deeplearning.DeepLearningModel.score_autoencoder(DeepLearningModel.java:870)\n",
      "\tat hex.deeplearning.DeepLearningModel.access$200(DeepLearningModel.java:34)\n",
      "\tat hex.deeplearning.DeepLearningModel$2.map(DeepLearningModel.java:756)\n",
      "\tat water.MRTask.compute2(MRTask.java:675)\n",
      "\tat water.H2O$H2OCountedCompleter.compute1(H2O.java:1560)\n",
      "\tat hex.deeplearning.DeepLearningModel$2$Icer.compute1(DeepLearningModel$2$Icer.java)\n",
      "\tat water.H2O$H2OCountedCompleter.compute(H2O.java:1556)\n",
      "\t... 5 more\n",
      "\n",
      "\n",
      "Hyper-parameter: activation, RectifierWithDropout\n",
      "Hyper-parameter: hidden, [10]\n",
      "Hyper-parameter: input_dropout_ratio, 0.05\n",
      "Hyper-parameter: l1, 6e-05\n",
      "Hyper-parameter: l2, 4e-05\n",
      "failure_details: DistributedException from /127.0.0.1:54321: '\n",
      "\n",
      "Trying to predict with an unstable model.\n",
      "Job was aborted due to observed numerical instability (exponential growth).\n",
      "Either the weights or the bias values are unreasonably large or lead to large activation values.\n",
      "Try a different initial distribution, a bounded activation function (Tanh), adding regularization\n",
      "(via max_w2, l1, l2, dropout) or learning rate (either enable adaptive_rate or use a smaller learning rate or faster annealing).\n",
      "\n",
      "For more information visit:\n",
      "  http://jira.h2o.ai/browse/TN-4'\n",
      "failure_stack_traces: DistributedException from /127.0.0.1:54321: '\n",
      "\n",
      "Trying to predict with an unstable model.\n",
      "Job was aborted due to observed numerical instability (exponential growth).\n",
      "Either the weights or the bias values are unreasonably large or lead to large activation values.\n",
      "Try a different initial distribution, a bounded activation function (Tanh), adding regularization\n",
      "(via max_w2, l1, l2, dropout) or learning rate (either enable adaptive_rate or use a smaller learning rate or faster annealing).\n",
      "\n",
      "For more information visit:\n",
      "  http://jira.h2o.ai/browse/TN-4', caused by java.lang.UnsupportedOperationException: \n",
      "\n",
      "Trying to predict with an unstable model.\n",
      "Job was aborted due to observed numerical instability (exponential growth).\n",
      "Either the weights or the bias values are unreasonably large or lead to large activation values.\n",
      "Try a different initial distribution, a bounded activation function (Tanh), adding regularization\n",
      "(via max_w2, l1, l2, dropout) or learning rate (either enable adaptive_rate or use a smaller learning rate or faster annealing).\n",
      "\n",
      "For more information visit:\n",
      "  http://jira.h2o.ai/browse/TN-4\n",
      "\tat water.MRTask.getResult(MRTask.java:494)\n",
      "\tat water.MRTask.getResult(MRTask.java:502)\n",
      "\tat water.MRTask.doAll(MRTask.java:397)\n",
      "\tat water.MRTask.doAll(MRTask.java:403)\n",
      "\tat hex.deeplearning.DeepLearningModel.scoreAutoEncoder(DeepLearningModel.java:761)\n",
      "\tat hex.deeplearning.DeepLearningModel.doScoring(DeepLearningModel.java:353)\n",
      "\tat hex.deeplearning.DeepLearning$DeepLearningDriver.trainModel(DeepLearning.java:435)\n",
      "\tat hex.deeplearning.DeepLearning$DeepLearningDriver.buildModel(DeepLearning.java:305)\n",
      "\tat hex.deeplearning.DeepLearning$DeepLearningDriver.computeImpl(DeepLearning.java:210)\n",
      "\tat hex.ModelBuilder$Driver.compute2(ModelBuilder.java:248)\n",
      "\tat hex.deeplearning.DeepLearning$DeepLearningDriver.compute2(DeepLearning.java:203)\n",
      "\tat hex.ModelBuilder.trainModelNested(ModelBuilder.java:399)\n",
      "\tat hex.ModelBuilder$TrainModelNestedRunnable.run(ModelBuilder.java:434)\n",
      "\tat water.H2O.runOnH2ONode(H2O.java:1445)\n",
      "\tat water.H2O.runOnH2ONode(H2O.java:1434)\n",
      "\tat hex.ModelBuilder.trainModelNested(ModelBuilder.java:415)\n",
      "\tat hex.grid.GridSearch.buildModel(GridSearch.java:541)\n",
      "\tat hex.grid.GridSearch.gridSearch(GridSearch.java:373)\n",
      "\tat hex.grid.GridSearch.access$000(GridSearch.java:69)\n",
      "\tat hex.grid.GridSearch$1.compute2(GridSearch.java:140)\n",
      "\tat water.H2O$H2OCountedCompleter.compute(H2O.java:1557)\n",
      "\tat jsr166y.CountedCompleter.exec(CountedCompleter.java:468)\n",
      "\tat jsr166y.ForkJoinTask.doExec(ForkJoinTask.java:263)\n",
      "\tat jsr166y.ForkJoinPool$WorkQueue.runTask(ForkJoinPool.java:974)\n",
      "\tat jsr166y.ForkJoinPool.runWorker(ForkJoinPool.java:1477)\n",
      "\tat jsr166y.ForkJoinWorkerThread.run(ForkJoinWorkerThread.java:104)\n",
      "Caused by: java.lang.UnsupportedOperationException: \n",
      "\n",
      "Trying to predict with an unstable model.\n",
      "Job was aborted due to observed numerical instability (exponential growth).\n",
      "Either the weights or the bias values are unreasonably large or lead to large activation values.\n",
      "Try a different initial distribution, a bounded activation function (Tanh), adding regularization\n",
      "(via max_w2, l1, l2, dropout) or learning rate (either enable adaptive_rate or use a smaller learning rate or faster annealing).\n",
      "\n",
      "For more information visit:\n",
      "  http://jira.h2o.ai/browse/TN-4\n",
      "\tat hex.deeplearning.DeepLearningModel.score_autoencoder(DeepLearningModel.java:870)\n",
      "\tat hex.deeplearning.DeepLearningModel.access$200(DeepLearningModel.java:34)\n",
      "\tat hex.deeplearning.DeepLearningModel$2.map(DeepLearningModel.java:756)\n",
      "\tat water.MRTask.compute2(MRTask.java:675)\n",
      "\tat water.H2O$H2OCountedCompleter.compute1(H2O.java:1560)\n",
      "\tat hex.deeplearning.DeepLearningModel$2$Icer.compute1(DeepLearningModel$2$Icer.java)\n",
      "\tat water.H2O$H2OCountedCompleter.compute(H2O.java:1556)\n",
      "\t... 5 more\n",
      "\n"
     ]
    },
    {
     "name": "stdout",
     "output_type": "stream",
     "text": [
      "\n",
      "Hyper-parameter: activation, RectifierWithDropout\n",
      "Hyper-parameter: hidden, [2]\n",
      "Hyper-parameter: input_dropout_ratio, 0.05\n",
      "Hyper-parameter: l1, 9e-05\n",
      "Hyper-parameter: l2, 8e-05\n",
      "failure_details: DistributedException from /127.0.0.1:54321: '\n",
      "\n",
      "Trying to predict with an unstable model.\n",
      "Job was aborted due to observed numerical instability (exponential growth).\n",
      "Either the weights or the bias values are unreasonably large or lead to large activation values.\n",
      "Try a different initial distribution, a bounded activation function (Tanh), adding regularization\n",
      "(via max_w2, l1, l2, dropout) or learning rate (either enable adaptive_rate or use a smaller learning rate or faster annealing).\n",
      "\n",
      "For more information visit:\n",
      "  http://jira.h2o.ai/browse/TN-4'\n",
      "failure_stack_traces: DistributedException from /127.0.0.1:54321: '\n",
      "\n",
      "Trying to predict with an unstable model.\n",
      "Job was aborted due to observed numerical instability (exponential growth).\n",
      "Either the weights or the bias values are unreasonably large or lead to large activation values.\n",
      "Try a different initial distribution, a bounded activation function (Tanh), adding regularization\n",
      "(via max_w2, l1, l2, dropout) or learning rate (either enable adaptive_rate or use a smaller learning rate or faster annealing).\n",
      "\n",
      "For more information visit:\n",
      "  http://jira.h2o.ai/browse/TN-4', caused by java.lang.UnsupportedOperationException: \n",
      "\n",
      "Trying to predict with an unstable model.\n",
      "Job was aborted due to observed numerical instability (exponential growth).\n",
      "Either the weights or the bias values are unreasonably large or lead to large activation values.\n",
      "Try a different initial distribution, a bounded activation function (Tanh), adding regularization\n",
      "(via max_w2, l1, l2, dropout) or learning rate (either enable adaptive_rate or use a smaller learning rate or faster annealing).\n",
      "\n",
      "For more information visit:\n",
      "  http://jira.h2o.ai/browse/TN-4\n",
      "\tat water.MRTask.getResult(MRTask.java:494)\n",
      "\tat water.MRTask.getResult(MRTask.java:502)\n",
      "\tat water.MRTask.doAll(MRTask.java:397)\n",
      "\tat water.MRTask.doAll(MRTask.java:403)\n",
      "\tat hex.deeplearning.DeepLearningModel.scoreAutoEncoder(DeepLearningModel.java:761)\n",
      "\tat hex.deeplearning.DeepLearningModel.doScoring(DeepLearningModel.java:353)\n",
      "\tat hex.deeplearning.DeepLearning$DeepLearningDriver.trainModel(DeepLearning.java:435)\n",
      "\tat hex.deeplearning.DeepLearning$DeepLearningDriver.buildModel(DeepLearning.java:305)\n",
      "\tat hex.deeplearning.DeepLearning$DeepLearningDriver.computeImpl(DeepLearning.java:210)\n",
      "\tat hex.ModelBuilder$Driver.compute2(ModelBuilder.java:248)\n",
      "\tat hex.deeplearning.DeepLearning$DeepLearningDriver.compute2(DeepLearning.java:203)\n",
      "\tat hex.ModelBuilder.trainModelNested(ModelBuilder.java:399)\n",
      "\tat hex.ModelBuilder$TrainModelNestedRunnable.run(ModelBuilder.java:434)\n",
      "\tat water.H2O.runOnH2ONode(H2O.java:1445)\n",
      "\tat water.H2O.runOnH2ONode(H2O.java:1434)\n",
      "\tat hex.ModelBuilder.trainModelNested(ModelBuilder.java:415)\n",
      "\tat hex.grid.GridSearch.buildModel(GridSearch.java:541)\n",
      "\tat hex.grid.GridSearch.gridSearch(GridSearch.java:373)\n",
      "\tat hex.grid.GridSearch.access$000(GridSearch.java:69)\n",
      "\tat hex.grid.GridSearch$1.compute2(GridSearch.java:140)\n",
      "\tat water.H2O$H2OCountedCompleter.compute(H2O.java:1557)\n",
      "\tat jsr166y.CountedCompleter.exec(CountedCompleter.java:468)\n",
      "\tat jsr166y.ForkJoinTask.doExec(ForkJoinTask.java:263)\n",
      "\tat jsr166y.ForkJoinPool$WorkQueue.runTask(ForkJoinPool.java:974)\n",
      "\tat jsr166y.ForkJoinPool.runWorker(ForkJoinPool.java:1477)\n",
      "\tat jsr166y.ForkJoinWorkerThread.run(ForkJoinWorkerThread.java:104)\n",
      "Caused by: java.lang.UnsupportedOperationException: \n",
      "\n",
      "Trying to predict with an unstable model.\n",
      "Job was aborted due to observed numerical instability (exponential growth).\n",
      "Either the weights or the bias values are unreasonably large or lead to large activation values.\n",
      "Try a different initial distribution, a bounded activation function (Tanh), adding regularization\n",
      "(via max_w2, l1, l2, dropout) or learning rate (either enable adaptive_rate or use a smaller learning rate or faster annealing).\n",
      "\n",
      "For more information visit:\n",
      "  http://jira.h2o.ai/browse/TN-4\n",
      "\tat hex.deeplearning.DeepLearningModel.score_autoencoder(DeepLearningModel.java:870)\n",
      "\tat hex.deeplearning.DeepLearningModel.access$200(DeepLearningModel.java:34)\n",
      "\tat hex.deeplearning.DeepLearningModel$2.map(DeepLearningModel.java:756)\n",
      "\tat water.MRTask.compute2(MRTask.java:675)\n",
      "\tat water.H2O$H2OCountedCompleter.compute1(H2O.java:1560)\n",
      "\tat hex.deeplearning.DeepLearningModel$2$Icer.compute1(DeepLearningModel$2$Icer.java)\n",
      "\tat water.H2O$H2OCountedCompleter.compute(H2O.java:1556)\n",
      "\t... 5 more\n",
      "\n",
      "\n",
      "Hyper-parameter: activation, RectifierWithDropout\n",
      "Hyper-parameter: hidden, [10]\n",
      "Hyper-parameter: input_dropout_ratio, 0.0\n",
      "Hyper-parameter: l1, 3e-05\n",
      "Hyper-parameter: l2, 7e-05\n",
      "failure_details: DistributedException from /127.0.0.1:54321: '\n",
      "\n",
      "Trying to predict with an unstable model.\n",
      "Job was aborted due to observed numerical instability (exponential growth).\n",
      "Either the weights or the bias values are unreasonably large or lead to large activation values.\n",
      "Try a different initial distribution, a bounded activation function (Tanh), adding regularization\n",
      "(via max_w2, l1, l2, dropout) or learning rate (either enable adaptive_rate or use a smaller learning rate or faster annealing).\n",
      "\n",
      "For more information visit:\n",
      "  http://jira.h2o.ai/browse/TN-4'\n",
      "failure_stack_traces: DistributedException from /127.0.0.1:54321: '\n",
      "\n",
      "Trying to predict with an unstable model.\n",
      "Job was aborted due to observed numerical instability (exponential growth).\n",
      "Either the weights or the bias values are unreasonably large or lead to large activation values.\n",
      "Try a different initial distribution, a bounded activation function (Tanh), adding regularization\n",
      "(via max_w2, l1, l2, dropout) or learning rate (either enable adaptive_rate or use a smaller learning rate or faster annealing).\n",
      "\n",
      "For more information visit:\n",
      "  http://jira.h2o.ai/browse/TN-4', caused by java.lang.UnsupportedOperationException: \n",
      "\n",
      "Trying to predict with an unstable model.\n",
      "Job was aborted due to observed numerical instability (exponential growth).\n",
      "Either the weights or the bias values are unreasonably large or lead to large activation values.\n",
      "Try a different initial distribution, a bounded activation function (Tanh), adding regularization\n",
      "(via max_w2, l1, l2, dropout) or learning rate (either enable adaptive_rate or use a smaller learning rate or faster annealing).\n",
      "\n",
      "For more information visit:\n",
      "  http://jira.h2o.ai/browse/TN-4\n",
      "\tat water.MRTask.getResult(MRTask.java:494)\n",
      "\tat water.MRTask.getResult(MRTask.java:502)\n",
      "\tat water.MRTask.doAll(MRTask.java:397)\n",
      "\tat water.MRTask.doAll(MRTask.java:403)\n",
      "\tat hex.deeplearning.DeepLearningModel.scoreAutoEncoder(DeepLearningModel.java:761)\n",
      "\tat hex.deeplearning.DeepLearningModel.doScoring(DeepLearningModel.java:353)\n",
      "\tat hex.deeplearning.DeepLearning$DeepLearningDriver.trainModel(DeepLearning.java:435)\n",
      "\tat hex.deeplearning.DeepLearning$DeepLearningDriver.buildModel(DeepLearning.java:305)\n",
      "\tat hex.deeplearning.DeepLearning$DeepLearningDriver.computeImpl(DeepLearning.java:210)\n",
      "\tat hex.ModelBuilder$Driver.compute2(ModelBuilder.java:248)\n",
      "\tat hex.deeplearning.DeepLearning$DeepLearningDriver.compute2(DeepLearning.java:203)\n",
      "\tat hex.ModelBuilder.trainModelNested(ModelBuilder.java:399)\n",
      "\tat hex.ModelBuilder$TrainModelNestedRunnable.run(ModelBuilder.java:434)\n",
      "\tat water.H2O.runOnH2ONode(H2O.java:1445)\n",
      "\tat water.H2O.runOnH2ONode(H2O.java:1434)\n",
      "\tat hex.ModelBuilder.trainModelNested(ModelBuilder.java:415)\n",
      "\tat hex.grid.GridSearch.buildModel(GridSearch.java:541)\n",
      "\tat hex.grid.GridSearch.gridSearch(GridSearch.java:373)\n",
      "\tat hex.grid.GridSearch.access$000(GridSearch.java:69)\n",
      "\tat hex.grid.GridSearch$1.compute2(GridSearch.java:140)\n",
      "\tat water.H2O$H2OCountedCompleter.compute(H2O.java:1557)\n",
      "\tat jsr166y.CountedCompleter.exec(CountedCompleter.java:468)\n",
      "\tat jsr166y.ForkJoinTask.doExec(ForkJoinTask.java:263)\n",
      "\tat jsr166y.ForkJoinPool$WorkQueue.runTask(ForkJoinPool.java:974)\n",
      "\tat jsr166y.ForkJoinPool.runWorker(ForkJoinPool.java:1477)\n",
      "\tat jsr166y.ForkJoinWorkerThread.run(ForkJoinWorkerThread.java:104)\n",
      "Caused by: java.lang.UnsupportedOperationException: \n",
      "\n",
      "Trying to predict with an unstable model.\n",
      "Job was aborted due to observed numerical instability (exponential growth).\n",
      "Either the weights or the bias values are unreasonably large or lead to large activation values.\n",
      "Try a different initial distribution, a bounded activation function (Tanh), adding regularization\n",
      "(via max_w2, l1, l2, dropout) or learning rate (either enable adaptive_rate or use a smaller learning rate or faster annealing).\n",
      "\n",
      "For more information visit:\n",
      "  http://jira.h2o.ai/browse/TN-4\n",
      "\tat hex.deeplearning.DeepLearningModel.score_autoencoder(DeepLearningModel.java:870)\n",
      "\tat hex.deeplearning.DeepLearningModel.access$200(DeepLearningModel.java:34)\n",
      "\tat hex.deeplearning.DeepLearningModel$2.map(DeepLearningModel.java:756)\n",
      "\tat water.MRTask.compute2(MRTask.java:675)\n",
      "\tat water.H2O$H2OCountedCompleter.compute1(H2O.java:1560)\n",
      "\tat hex.deeplearning.DeepLearningModel$2$Icer.compute1(DeepLearningModel$2$Icer.java)\n",
      "\tat water.H2O$H2OCountedCompleter.compute(H2O.java:1556)\n",
      "\t... 5 more\n",
      "\n"
     ]
    },
    {
     "name": "stdout",
     "output_type": "stream",
     "text": [
      "\n"
     ]
    }
   ],
   "source": [
    "## Run Deep Learning Grid Search\n",
    "dl_grid = H2OGridSearch(dl_model, hyper_params = dl_hyper_params_tune,\n",
    "                        grid_id = 'ae_grid',\n",
    "                        search_criteria = random_search_criteria_tune)\n",
    "\n",
    "dl_grid.train(x=myX, \n",
    "              ## early stopping based on timeout (no model should take more than 1 hour - modify as needed)\n",
    "              max_runtime_secs = 3600, \n",
    "              training_frame = train,\n",
    "              validation_frame = test\n",
    "             )"
   ]
  },
  {
   "cell_type": "code",
   "execution_count": 206,
   "metadata": {},
   "outputs": [
    {
     "name": "stdout",
     "output_type": "stream",
     "text": [
      "                 activation  hidden input_dropout_ratio      l1      l2  \\\n",
      "0                      Tanh    [10]                 0.0  5.0E-5  9.0E-5   \n",
      "1                      Tanh    [10]                0.05  1.0E-5     0.0   \n",
      "2                      Tanh    [10]                0.05  2.0E-5  6.0E-5   \n",
      "3                      Tanh    [10]                0.05  2.0E-5  1.0E-4   \n",
      "4                      Tanh    [10]                0.05  6.0E-5     0.0   \n",
      "5                      Tanh    [10]                0.05  6.0E-5  3.0E-5   \n",
      "6                      Tanh     [5]                 0.0  7.0E-5  5.0E-5   \n",
      "7                      Tanh     [5]                 0.0  7.0E-5  7.0E-5   \n",
      "8                      Tanh     [5]                 0.0  9.0E-5  8.0E-5   \n",
      "9                      Tanh     [5]                0.05  6.0E-5  3.0E-5   \n",
      "10                     Tanh     [5]                0.05  5.0E-5  1.0E-4   \n",
      "11                     Tanh     [5]                0.05  1.0E-4  2.0E-5   \n",
      "12          TanhWithDropout    [10]                0.05  9.0E-5  7.0E-5   \n",
      "13          TanhWithDropout    [10]                0.05  9.0E-5  6.0E-5   \n",
      "14          TanhWithDropout    [10]                0.05  9.0E-5     0.0   \n",
      "15          TanhWithDropout    [10]                0.05  6.0E-5  4.0E-5   \n",
      "16          TanhWithDropout    [10]                0.05  3.0E-5     0.0   \n",
      "17          TanhWithDropout    [10]                 0.0  4.0E-5  7.0E-5   \n",
      "18          TanhWithDropout    [10]                 0.0  4.0E-5  5.0E-5   \n",
      "19          TanhWithDropout    [10]                 0.0  2.0E-5  6.0E-5   \n",
      "20                     Tanh     [2]                 0.0  6.0E-5  1.0E-5   \n",
      "21                     Tanh     [2]                 0.0  3.0E-5  9.0E-5   \n",
      "22                     Tanh     [2]                 0.0  2.0E-5  9.0E-5   \n",
      "23                     Tanh  [2, 2]                 0.0  6.0E-5     0.0   \n",
      "24                     Tanh  [2, 2]                 0.0  7.0E-5  2.0E-5   \n",
      "25                     Tanh  [2, 2]                 0.0  3.0E-5     0.0   \n",
      "26                     Tanh  [2, 2]                 0.0  3.0E-5  2.0E-5   \n",
      "27                     Tanh  [2, 2]                 0.0  2.0E-5  7.0E-5   \n",
      "28                     Tanh  [2, 2]                 0.0     0.0  1.0E-4   \n",
      "29                     Tanh     [2]                0.05  9.0E-5  1.0E-4   \n",
      ".. ..                   ...     ...                 ...     ...     ...   \n",
      "31                     Tanh     [2]                0.05  7.0E-5  5.0E-5   \n",
      "32                     Tanh     [2]                0.05  4.0E-5  7.0E-5   \n",
      "33                     Tanh     [2]                 0.0  1.0E-5  3.0E-5   \n",
      "34                     Tanh     [2]                0.05  1.0E-5  9.0E-5   \n",
      "35                     Tanh  [2, 2]                0.05  6.0E-5  2.0E-5   \n",
      "36          TanhWithDropout     [5]                 0.0  7.0E-5  9.0E-5   \n",
      "37          TanhWithDropout     [5]                 0.0  7.0E-5  4.0E-5   \n",
      "38          TanhWithDropout     [5]                 0.0  5.0E-5  1.0E-5   \n",
      "39          TanhWithDropout     [5]                 0.0  1.0E-5  9.0E-5   \n",
      "40          TanhWithDropout     [5]                 0.0  1.0E-5  6.0E-5   \n",
      "41          TanhWithDropout     [5]                0.05  5.0E-5  9.0E-5   \n",
      "42          TanhWithDropout     [5]                0.05  5.0E-5  8.0E-5   \n",
      "43          TanhWithDropout     [2]                0.05  2.0E-5  4.0E-5   \n",
      "44          TanhWithDropout     [2]                0.05  1.0E-5  4.0E-5   \n",
      "45          TanhWithDropout     [2]                 0.0  1.0E-4  6.0E-5   \n",
      "46          TanhWithDropout     [2]                 0.0  8.0E-5  5.0E-5   \n",
      "47          TanhWithDropout     [2]                 0.0  4.0E-5     0.0   \n",
      "48          TanhWithDropout     [2]                 0.0     0.0  2.0E-5   \n",
      "49          TanhWithDropout  [2, 2]                0.05  1.0E-4  3.0E-5   \n",
      "50          TanhWithDropout  [2, 2]                0.05  2.0E-5  1.0E-4   \n",
      "51          TanhWithDropout  [2, 2]                0.05  5.0E-5     0.0   \n",
      "52          TanhWithDropout  [2, 2]                 0.0  8.0E-5  9.0E-5   \n",
      "53          TanhWithDropout  [2, 2]                 0.0  9.0E-5  1.0E-5   \n",
      "54          TanhWithDropout  [2, 2]                 0.0  5.0E-5  9.0E-5   \n",
      "55          TanhWithDropout  [2, 2]                 0.0  7.0E-5     0.0   \n",
      "56          TanhWithDropout  [2, 2]                 0.0  1.0E-5  2.0E-5   \n",
      "57     RectifierWithDropout  [2, 2]                0.05  2.0E-5  5.0E-5   \n",
      "58     RectifierWithDropout  [2, 2]                0.05  1.0E-4  2.0E-5   \n",
      "59     RectifierWithDropout  [2, 2]                0.05  7.0E-5  5.0E-5   \n",
      "60     RectifierWithDropout  [2, 2]                0.05  4.0E-5  2.0E-5   \n",
      "\n",
      "           model_ids                    mse  \n",
      "0   ae_grid_model_61    9.68736514141369E-4  \n",
      "1   ae_grid_model_42   9.867752779006503E-4  \n",
      "2   ae_grid_model_50  0.0010313548925125638  \n",
      "3   ae_grid_model_59   0.001035019839259044  \n",
      "4   ae_grid_model_12  0.0010416148038637513  \n",
      "5   ae_grid_model_62   0.001043919757777093  \n",
      "6   ae_grid_model_80   0.005123379731558189  \n",
      "7   ae_grid_model_68   0.005123678851880242  \n",
      "8    ae_grid_model_9  0.0051248947904757374  \n",
      "9   ae_grid_model_76   0.005152175069476982  \n",
      "10   ae_grid_model_2  0.0051524687181219355  \n",
      "11  ae_grid_model_47   0.005153929661637315  \n",
      "12  ae_grid_model_69   0.007709370485023712  \n",
      "13  ae_grid_model_65   0.007710734609825065  \n",
      "14  ae_grid_model_56   0.007719068384878787  \n",
      "15  ae_grid_model_21   0.007738692902722947  \n",
      "16  ae_grid_model_25   0.007772201074392495  \n",
      "17  ae_grid_model_34   0.007865421841182737  \n",
      "18  ae_grid_model_31   0.007868651406400683  \n",
      "19  ae_grid_model_53   0.007884568021397781  \n",
      "20  ae_grid_model_78   0.011677455904418686  \n",
      "21   ae_grid_model_6   0.011677594167680496  \n",
      "22  ae_grid_model_22    0.01167774304725581  \n",
      "23   ae_grid_model_4   0.011680206422710046  \n",
      "24  ae_grid_model_29   0.011680229975976779  \n",
      "25   ae_grid_model_7    0.01168098129482399  \n",
      "26  ae_grid_model_57   0.011681127589959341  \n",
      "27  ae_grid_model_44   0.011681783784391135  \n",
      "28  ae_grid_model_41   0.011682631679758594  \n",
      "29  ae_grid_model_55   0.011691713874494618  \n",
      "..               ...                    ...  \n",
      "31  ae_grid_model_58   0.011692862876055003  \n",
      "32  ae_grid_model_24   0.011693973912617893  \n",
      "33  ae_grid_model_81   0.011694174135500912  \n",
      "34  ae_grid_model_73   0.011695280744431014  \n",
      "35  ae_grid_model_37    0.01170279034234527  \n",
      "36  ae_grid_model_30   0.011874695201684389  \n",
      "37  ae_grid_model_49     0.0118800407794321  \n",
      "38  ae_grid_model_20   0.011889911004430195  \n",
      "39  ae_grid_model_13   0.011894938916419443  \n",
      "40   ae_grid_model_5   0.011898113582547295  \n",
      "41  ae_grid_model_43    0.01191785245289152  \n",
      "42   ae_grid_model_1    0.01191900197692883  \n",
      "43  ae_grid_model_46   0.015862480088807654  \n",
      "44  ae_grid_model_17    0.01586629569719246  \n",
      "45  ae_grid_model_11   0.015929598778730476  \n",
      "46  ae_grid_model_63   0.015936955361232505  \n",
      "47  ae_grid_model_67    0.01595436531407476  \n",
      "48  ae_grid_model_66   0.015965459184848603  \n",
      "49  ae_grid_model_40    0.01956790782136664  \n",
      "50  ae_grid_model_16   0.019582287695202965  \n",
      "51  ae_grid_model_27    0.01958264930295685  \n",
      "52  ae_grid_model_45   0.019764419902593266  \n",
      "53  ae_grid_model_33    0.01977545795710189  \n",
      "54  ae_grid_model_14   0.019780847488797406  \n",
      "55  ae_grid_model_77   0.019788661937578153  \n",
      "56  ae_grid_model_23   0.019809172868323233  \n",
      "57  ae_grid_model_39   0.020470541405303553  \n",
      "58  ae_grid_model_74   0.020484628275311643  \n",
      "59  ae_grid_model_32   0.020489982554913935  \n",
      "60  ae_grid_model_10   0.020526616669374505  \n",
      "\n",
      "[61 rows x 8 columns]\n"
     ]
    },
    {
     "data": {
      "text/plain": []
     },
     "execution_count": 206,
     "metadata": {},
     "output_type": "execute_result"
    }
   ],
   "source": [
    "dl_grid.get_grid(\"mse\")"
   ]
  },
  {
   "cell_type": "code",
   "execution_count": 207,
   "metadata": {},
   "outputs": [],
   "source": [
    "ae_model = h2o.get_model(\"ae_grid_model_61\")"
   ]
  },
  {
   "cell_type": "markdown",
   "metadata": {},
   "source": [
    "Most of our houses have a reconstruction error less than 0.1. We see a small peak of houses with reconstruction error scores between 0.04 and 0.05.  "
   ]
  },
  {
   "cell_type": "code",
   "execution_count": 208,
   "metadata": {},
   "outputs": [
    {
     "data": {
      "image/png": "[encoded data removed]",
      "text/plain": [
       "<Figure size 432x288 with 1 Axes>"
      ]
     },
     "metadata": {},
     "output_type": "display_data"
    }
   ],
   "source": [
    "reconstruction_error = ae_model.anomaly(house_data)\n",
    "reconstruction_error.hist()"
   ]
  },
  {
   "cell_type": "markdown",
   "metadata": {},
   "source": [
    "We will define an anomaly as a house who's reconstruction error is greater than 0.038. These were houses where the autoencoder had a hard time reconstructing.\n",
    "\n",
    "There are 41 anomalous houses."
   ]
  },
  {
   "cell_type": "code",
   "execution_count": 212,
   "metadata": {},
   "outputs": [
    {
     "name": "stdout",
     "output_type": "stream",
     "text": [
      "Number of Anomalies: 41\n"
     ]
    }
   ],
   "source": [
    "anomalies_ae = house_data[reconstruction_error[\"Reconstruction.MSE\"] > 0.038]\n",
    "print(\"Number of Anomalies: \" + str(anomalies_ae.nrow))"
   ]
  },
  {
   "cell_type": "code",
   "execution_count": 213,
   "metadata": {},
   "outputs": [],
   "source": [
    "house_data[\"anomaly_ae\"] = (reconstruction_error[\"Reconstruction.MSE\"] > 0.038).ifelse(\"Yes\", \"No\")"
   ]
  },
  {
   "cell_type": "markdown",
   "metadata": {},
   "source": [
    "We will use the same surrogate model approach to determine what segments of anomalies the Autoencoder found."
   ]
  },
  {
   "cell_type": "code",
   "execution_count": 232,
   "metadata": {},
   "outputs": [
    {
     "name": "stdout",
     "output_type": "stream",
     "text": [
      "drf Model Build progress: |███████████████████████████████████████████████| 100%\n"
     ]
    }
   ],
   "source": [
    "global_surrogate_dt_ae = H2ORandomForestEstimator(model_id = \"global_surrogate_decision_tree_ae.hex\", \n",
    "                                                  ntrees = 1, max_depth = 5, min_rows = 10, \n",
    "                                                  sample_rate = 1, mtries = len(myX))\n",
    "global_surrogate_dt_ae.train(training_frame = house_data, x = myX, y = \"anomaly_ae\")"
   ]
  },
  {
   "cell_type": "code",
   "execution_count": 233,
   "metadata": {
    "scrolled": true
   },
   "outputs": [
    {
     "data": {
      "image/png": "[encoded data removed]",
      "text/plain": [
       "<IPython.core.display.Image object>"
      ]
     },
     "execution_count": 233,
     "metadata": {},
     "output_type": "execute_result"
    }
   ],
   "source": [
    "generateTreeImage(global_surrogate_dt_ae, \"./global_surrogate_decision_tree_ae.png\")\n"
   ]
  },
  {
   "cell_type": "markdown",
   "metadata": {},
   "source": [
    "The visualization shows our global surrogate decision tree. The values in the leaf nodes represent the probability of the record not being an anomaly. We are, therefore, interested in leaf nodes with low values - these will indicate a segment of data that is anomalous.\n",
    "\n",
    "We can see that there are two leaf nodes with high proportion of anomalies.  The leaf nodes show the following groups:\n",
    "\n",
    "1. Waterfront Homes with a Low View Score\n",
    "    * waterfront == 1\n",
    "    * view < 3.5\n",
    "2. Very Large Homes on Waterfront\n",
    "    * waterfront == 1\n",
    "    * view >= 3.5\n",
    "    * sqft_above >= 4,188\n",
    "    \n",
    "    \n",
    "**Segment 1**\n",
    "\n",
    "For waterfront homes, the view score is almost always 4 (the highest view score). These houses are strange that they are on the waterfront but do not have a view."
   ]
  },
  {
   "cell_type": "code",
   "execution_count": 219,
   "metadata": {},
   "outputs": [
    {
     "name": "stdout",
     "output_type": "stream",
     "text": [
      "# of houses in Segment 1: 28\n"
     ]
    }
   ],
   "source": [
    "segment_1 = house_data[(house_data[\"waterfront\"] == 1) &\n",
    "                       (house_data[\"view\"] < 3.5)]\n",
    "print(\"# of houses in Segment 1: {}\".format(segment_1.nrow))"
   ]
  },
  {
   "cell_type": "code",
   "execution_count": 221,
   "metadata": {},
   "outputs": [
    {
     "data": {
      "text/html": [
       "<table>\n",
       "<thead>\n",
       "<tr><th style=\"text-align: right;\">  view</th><th style=\"text-align: right;\">  Count</th></tr>\n",
       "</thead>\n",
       "<tbody>\n",
       "<tr><td style=\"text-align: right;\">     1</td><td style=\"text-align: right;\">      1</td></tr>\n",
       "<tr><td style=\"text-align: right;\">     2</td><td style=\"text-align: right;\">      8</td></tr>\n",
       "<tr><td style=\"text-align: right;\">     3</td><td style=\"text-align: right;\">     19</td></tr>\n",
       "<tr><td style=\"text-align: right;\">     4</td><td style=\"text-align: right;\">    135</td></tr>\n",
       "</tbody>\n",
       "</table>"
      ]
     },
     "metadata": {},
     "output_type": "display_data"
    },
    {
     "data": {
      "text/plain": []
     },
     "execution_count": 221,
     "metadata": {},
     "output_type": "execute_result"
    }
   ],
   "source": [
    "house_data[house_data[\"waterfront\"] == 1][\"view\"].table()"
   ]
  },
  {
   "cell_type": "markdown",
   "metadata": {},
   "source": [
    "**Segment 2**\n",
    "\n",
    "These houses are on the water and larger than a typical house."
   ]
  },
  {
   "cell_type": "code",
   "execution_count": 227,
   "metadata": {},
   "outputs": [
    {
     "name": "stdout",
     "output_type": "stream",
     "text": [
      "# of houses in Segment 2: 14\n"
     ]
    }
   ],
   "source": [
    "segment_2 = house_data[(house_data[\"waterfront\"] == 1) &\n",
    "                       (house_data[\"view\"] >= 3.5) &\n",
    "                       (house_data[\"sqft_above\"] >= 4188)]\n",
    "print(\"# of houses in Segment 2: {}\".format(segment_2.nrow))"
   ]
  },
  {
   "cell_type": "code",
   "execution_count": 234,
   "metadata": {},
   "outputs": [
    {
     "data": {
      "image/png": "[encoded data removed]",
      "text/plain": [
       "<Figure size 432x288 with 1 Axes>"
      ]
     },
     "metadata": {},
     "output_type": "display_data"
    }
   ],
   "source": [
    "house_data[\"sqft_above\"].hist()"
   ]
  },
  {
   "cell_type": "markdown",
   "metadata": {},
   "source": [
    "## Step 5: Compare and Combine Results\n",
    "\n",
    "We have identified anomalies in two different ways.  We can now see which homes were identified as outliers by both methods are by one.\n",
    "\n",
    "If we compare the results from the two methods, we can see that about 20% of homes were found to be anomalous by both.  "
   ]
  },
  {
   "cell_type": "code",
   "execution_count": 214,
   "metadata": {
    "scrolled": true
   },
   "outputs": [
    {
     "data": {
      "text/html": [
       "<table>\n",
       "<thead>\n",
       "<tr><th>anomaly_iso_for  </th><th>anomaly_ae  </th><th style=\"text-align: right;\">  Counts</th></tr>\n",
       "</thead>\n",
       "<tbody>\n",
       "<tr><td>No               </td><td>No          </td><td style=\"text-align: right;\">   21541</td></tr>\n",
       "<tr><td>No               </td><td>Yes         </td><td style=\"text-align: right;\">      28</td></tr>\n",
       "<tr><td>Yes              </td><td>No          </td><td style=\"text-align: right;\">      31</td></tr>\n",
       "<tr><td>Yes              </td><td>Yes         </td><td style=\"text-align: right;\">      13</td></tr>\n",
       "</tbody>\n",
       "</table>"
      ]
     },
     "metadata": {},
     "output_type": "display_data"
    },
    {
     "data": {
      "text/plain": []
     },
     "execution_count": 214,
     "metadata": {},
     "output_type": "execute_result"
    }
   ],
   "source": [
    "house_data[[\"anomaly_iso_for\", \"anomaly_ae\"]].table()"
   ]
  },
  {
   "cell_type": "markdown",
   "metadata": {},
   "source": [
    "The homes that were identified by both methods as anomalous are generally larger and more expensive homes.  They are also all on the waterfront except 1."
   ]
  },
  {
   "cell_type": "code",
   "execution_count": 250,
   "metadata": {},
   "outputs": [
    {
     "data": {
      "text/html": [
       "<table>\n",
       "<thead>\n",
       "<tr><th style=\"text-align: right;\">         id</th><th>date           </th><th style=\"text-align: right;\">          price</th><th style=\"text-align: right;\">  bedrooms</th><th style=\"text-align: right;\">  bathrooms</th><th style=\"text-align: right;\">  sqft_living</th><th style=\"text-align: right;\">  sqft_lot</th><th style=\"text-align: right;\">  floors</th><th style=\"text-align: right;\">  waterfront</th><th style=\"text-align: right;\">  view</th><th style=\"text-align: right;\">  condition</th><th style=\"text-align: right;\">  grade</th><th style=\"text-align: right;\">  sqft_above</th><th style=\"text-align: right;\">  sqft_basement</th><th style=\"text-align: right;\">  yr_built</th><th style=\"text-align: right;\">  yr_renovated</th><th style=\"text-align: right;\">  zipcode</th><th style=\"text-align: right;\">    lat</th><th style=\"text-align: right;\">    long</th><th style=\"text-align: right;\">  sqft_living15</th><th style=\"text-align: right;\">  sqft_lot15</th><th>anomaly_iso_for  </th><th>anomaly_ae  </th></tr>\n",
       "</thead>\n",
       "<tbody>\n",
       "<tr><td style=\"text-align: right;\">1.2476e+09 </td><td>20141020T000000</td><td style=\"text-align: right;\">     5.1108e+06</td><td style=\"text-align: right;\">         5</td><td style=\"text-align: right;\">       5.25</td><td style=\"text-align: right;\">         8010</td><td style=\"text-align: right;\">     45517</td><td style=\"text-align: right;\">     2  </td><td style=\"text-align: right;\">           1</td><td style=\"text-align: right;\">     4</td><td style=\"text-align: right;\">          3</td><td style=\"text-align: right;\">     12</td><td style=\"text-align: right;\">        5990</td><td style=\"text-align: right;\">           2020</td><td style=\"text-align: right;\">      1999</td><td style=\"text-align: right;\">             0</td><td style=\"text-align: right;\">    98033</td><td style=\"text-align: right;\">47.6767</td><td style=\"text-align: right;\">-122.211</td><td style=\"text-align: right;\">           3430</td><td style=\"text-align: right;\">       26788</td><td>Yes              </td><td>Yes         </td></tr>\n",
       "<tr><td style=\"text-align: right;\">7.5587e+09 </td><td>20150413T000000</td><td style=\"text-align: right;\">     5.3e+06   </td><td style=\"text-align: right;\">         6</td><td style=\"text-align: right;\">       6   </td><td style=\"text-align: right;\">         7390</td><td style=\"text-align: right;\">     24829</td><td style=\"text-align: right;\">     2  </td><td style=\"text-align: right;\">           1</td><td style=\"text-align: right;\">     4</td><td style=\"text-align: right;\">          4</td><td style=\"text-align: right;\">     12</td><td style=\"text-align: right;\">        5000</td><td style=\"text-align: right;\">           2390</td><td style=\"text-align: right;\">      1991</td><td style=\"text-align: right;\">             0</td><td style=\"text-align: right;\">    98040</td><td style=\"text-align: right;\">47.5631</td><td style=\"text-align: right;\">-122.21 </td><td style=\"text-align: right;\">           4320</td><td style=\"text-align: right;\">       24619</td><td>Yes              </td><td>Yes         </td></tr>\n",
       "<tr><td style=\"text-align: right;\">8.1061e+09 </td><td>20141114T000000</td><td style=\"text-align: right;\">     3.85e+06  </td><td style=\"text-align: right;\">         4</td><td style=\"text-align: right;\">       4.25</td><td style=\"text-align: right;\">         5770</td><td style=\"text-align: right;\">     21300</td><td style=\"text-align: right;\">     2  </td><td style=\"text-align: right;\">           1</td><td style=\"text-align: right;\">     4</td><td style=\"text-align: right;\">          4</td><td style=\"text-align: right;\">     11</td><td style=\"text-align: right;\">        5770</td><td style=\"text-align: right;\">              0</td><td style=\"text-align: right;\">      1980</td><td style=\"text-align: right;\">             0</td><td style=\"text-align: right;\">    98040</td><td style=\"text-align: right;\">47.585 </td><td style=\"text-align: right;\">-122.222</td><td style=\"text-align: right;\">           4620</td><td style=\"text-align: right;\">       22748</td><td>Yes              </td><td>Yes         </td></tr>\n",
       "<tr><td style=\"text-align: right;\">7.5249e+09 </td><td>20141210T000000</td><td style=\"text-align: right;\">     3.278e+06 </td><td style=\"text-align: right;\">         2</td><td style=\"text-align: right;\">       1.75</td><td style=\"text-align: right;\">         6840</td><td style=\"text-align: right;\">     10000</td><td style=\"text-align: right;\">     2.5</td><td style=\"text-align: right;\">           1</td><td style=\"text-align: right;\">     4</td><td style=\"text-align: right;\">          3</td><td style=\"text-align: right;\">     11</td><td style=\"text-align: right;\">        4350</td><td style=\"text-align: right;\">           2490</td><td style=\"text-align: right;\">      2001</td><td style=\"text-align: right;\">             0</td><td style=\"text-align: right;\">    98008</td><td style=\"text-align: right;\">47.6042</td><td style=\"text-align: right;\">-122.112</td><td style=\"text-align: right;\">           3120</td><td style=\"text-align: right;\">       12300</td><td>Yes              </td><td>Yes         </td></tr>\n",
       "<tr><td style=\"text-align: right;\">7.7385e+09 </td><td>20140815T000000</td><td style=\"text-align: right;\">     4.5e+06   </td><td style=\"text-align: right;\">         5</td><td style=\"text-align: right;\">       5.5 </td><td style=\"text-align: right;\">         6640</td><td style=\"text-align: right;\">     40014</td><td style=\"text-align: right;\">     2  </td><td style=\"text-align: right;\">           1</td><td style=\"text-align: right;\">     4</td><td style=\"text-align: right;\">          3</td><td style=\"text-align: right;\">     12</td><td style=\"text-align: right;\">        6350</td><td style=\"text-align: right;\">            290</td><td style=\"text-align: right;\">      2004</td><td style=\"text-align: right;\">             0</td><td style=\"text-align: right;\">    98155</td><td style=\"text-align: right;\">47.7493</td><td style=\"text-align: right;\">-122.28 </td><td style=\"text-align: right;\">           3030</td><td style=\"text-align: right;\">       23408</td><td>Yes              </td><td>Yes         </td></tr>\n",
       "<tr><td style=\"text-align: right;\">2.32203e+09</td><td>20141119T000000</td><td style=\"text-align: right;\">999000         </td><td style=\"text-align: right;\">         3</td><td style=\"text-align: right;\">       2.75</td><td style=\"text-align: right;\">         2830</td><td style=\"text-align: right;\">    505166</td><td style=\"text-align: right;\">     1  </td><td style=\"text-align: right;\">           1</td><td style=\"text-align: right;\">     3</td><td style=\"text-align: right;\">          4</td><td style=\"text-align: right;\">      8</td><td style=\"text-align: right;\">        1830</td><td style=\"text-align: right;\">           1000</td><td style=\"text-align: right;\">      1962</td><td style=\"text-align: right;\">             0</td><td style=\"text-align: right;\">    98070</td><td style=\"text-align: right;\">47.3782</td><td style=\"text-align: right;\">-122.514</td><td style=\"text-align: right;\">           2120</td><td style=\"text-align: right;\">       21988</td><td>Yes              </td><td>Yes         </td></tr>\n",
       "<tr><td style=\"text-align: right;\">9.8087e+09 </td><td>20140611T000000</td><td style=\"text-align: right;\">     7.0625e+06</td><td style=\"text-align: right;\">         5</td><td style=\"text-align: right;\">       4.5 </td><td style=\"text-align: right;\">        10040</td><td style=\"text-align: right;\">     37325</td><td style=\"text-align: right;\">     2  </td><td style=\"text-align: right;\">           1</td><td style=\"text-align: right;\">     2</td><td style=\"text-align: right;\">          3</td><td style=\"text-align: right;\">     11</td><td style=\"text-align: right;\">        7680</td><td style=\"text-align: right;\">           2360</td><td style=\"text-align: right;\">      1940</td><td style=\"text-align: right;\">          2001</td><td style=\"text-align: right;\">    98004</td><td style=\"text-align: right;\">47.65  </td><td style=\"text-align: right;\">-122.214</td><td style=\"text-align: right;\">           3930</td><td style=\"text-align: right;\">       25449</td><td>Yes              </td><td>Yes         </td></tr>\n",
       "<tr><td style=\"text-align: right;\">6.7627e+09 </td><td>20141013T000000</td><td style=\"text-align: right;\">     7.7e+06   </td><td style=\"text-align: right;\">         6</td><td style=\"text-align: right;\">       8   </td><td style=\"text-align: right;\">        12050</td><td style=\"text-align: right;\">     27600</td><td style=\"text-align: right;\">     2.5</td><td style=\"text-align: right;\">           0</td><td style=\"text-align: right;\">     3</td><td style=\"text-align: right;\">          4</td><td style=\"text-align: right;\">     13</td><td style=\"text-align: right;\">        8570</td><td style=\"text-align: right;\">           3480</td><td style=\"text-align: right;\">      1910</td><td style=\"text-align: right;\">          1987</td><td style=\"text-align: right;\">    98102</td><td style=\"text-align: right;\">47.6298</td><td style=\"text-align: right;\">-122.323</td><td style=\"text-align: right;\">           3940</td><td style=\"text-align: right;\">        8800</td><td>Yes              </td><td>Yes         </td></tr>\n",
       "<tr><td style=\"text-align: right;\">1.92406e+09</td><td>20140617T000000</td><td style=\"text-align: right;\">     4.668e+06 </td><td style=\"text-align: right;\">         5</td><td style=\"text-align: right;\">       6.75</td><td style=\"text-align: right;\">         9640</td><td style=\"text-align: right;\">     13068</td><td style=\"text-align: right;\">     1  </td><td style=\"text-align: right;\">           1</td><td style=\"text-align: right;\">     4</td><td style=\"text-align: right;\">          3</td><td style=\"text-align: right;\">     12</td><td style=\"text-align: right;\">        4820</td><td style=\"text-align: right;\">           4820</td><td style=\"text-align: right;\">      1983</td><td style=\"text-align: right;\">          2009</td><td style=\"text-align: right;\">    98040</td><td style=\"text-align: right;\">47.557 </td><td style=\"text-align: right;\">-122.21 </td><td style=\"text-align: right;\">           3270</td><td style=\"text-align: right;\">       10454</td><td>Yes              </td><td>Yes         </td></tr>\n",
       "<tr><td style=\"text-align: right;\">1.21039e+08</td><td>20150313T000000</td><td style=\"text-align: right;\">425000         </td><td style=\"text-align: right;\">         3</td><td style=\"text-align: right;\">       2.75</td><td style=\"text-align: right;\">         3610</td><td style=\"text-align: right;\">    107386</td><td style=\"text-align: right;\">     1.5</td><td style=\"text-align: right;\">           1</td><td style=\"text-align: right;\">     3</td><td style=\"text-align: right;\">          3</td><td style=\"text-align: right;\">      8</td><td style=\"text-align: right;\">        3130</td><td style=\"text-align: right;\">            480</td><td style=\"text-align: right;\">      1918</td><td style=\"text-align: right;\">          1962</td><td style=\"text-align: right;\">    98023</td><td style=\"text-align: right;\">47.3351</td><td style=\"text-align: right;\">-122.362</td><td style=\"text-align: right;\">           2630</td><td style=\"text-align: right;\">       42126</td><td>Yes              </td><td>Yes         </td></tr>\n",
       "<tr><td style=\"text-align: right;\">3.62506e+09</td><td>20140904T000000</td><td style=\"text-align: right;\">     3.3e+06   </td><td style=\"text-align: right;\">         5</td><td style=\"text-align: right;\">       4.75</td><td style=\"text-align: right;\">         6200</td><td style=\"text-align: right;\">     13873</td><td style=\"text-align: right;\">     2  </td><td style=\"text-align: right;\">           1</td><td style=\"text-align: right;\">     4</td><td style=\"text-align: right;\">          4</td><td style=\"text-align: right;\">     11</td><td style=\"text-align: right;\">        4440</td><td style=\"text-align: right;\">           1760</td><td style=\"text-align: right;\">      1989</td><td style=\"text-align: right;\">             0</td><td style=\"text-align: right;\">    98008</td><td style=\"text-align: right;\">47.605 </td><td style=\"text-align: right;\">-122.112</td><td style=\"text-align: right;\">           2940</td><td style=\"text-align: right;\">       13525</td><td>Yes              </td><td>Yes         </td></tr>\n",
       "<tr><td style=\"text-align: right;\">6.24069e+08</td><td>20140812T000000</td><td style=\"text-align: right;\">     3.2e+06   </td><td style=\"text-align: right;\">         4</td><td style=\"text-align: right;\">       3.25</td><td style=\"text-align: right;\">         7000</td><td style=\"text-align: right;\">     28206</td><td style=\"text-align: right;\">     1  </td><td style=\"text-align: right;\">           1</td><td style=\"text-align: right;\">     4</td><td style=\"text-align: right;\">          4</td><td style=\"text-align: right;\">     12</td><td style=\"text-align: right;\">        3500</td><td style=\"text-align: right;\">           3500</td><td style=\"text-align: right;\">      1991</td><td style=\"text-align: right;\">             0</td><td style=\"text-align: right;\">    98075</td><td style=\"text-align: right;\">47.5928</td><td style=\"text-align: right;\">-122.086</td><td style=\"text-align: right;\">           4913</td><td style=\"text-align: right;\">       14663</td><td>Yes              </td><td>Yes         </td></tr>\n",
       "<tr><td style=\"text-align: right;\">2.5795e+09 </td><td>20140701T000000</td><td style=\"text-align: right;\">     2.367e+06 </td><td style=\"text-align: right;\">         3</td><td style=\"text-align: right;\">       2.25</td><td style=\"text-align: right;\">         3530</td><td style=\"text-align: right;\">     17450</td><td style=\"text-align: right;\">     1  </td><td style=\"text-align: right;\">           1</td><td style=\"text-align: right;\">     3</td><td style=\"text-align: right;\">          3</td><td style=\"text-align: right;\">      9</td><td style=\"text-align: right;\">        1840</td><td style=\"text-align: right;\">           1690</td><td style=\"text-align: right;\">      1930</td><td style=\"text-align: right;\">          1993</td><td style=\"text-align: right;\">    98040</td><td style=\"text-align: right;\">47.5358</td><td style=\"text-align: right;\">-122.213</td><td style=\"text-align: right;\">           3530</td><td style=\"text-align: right;\">       17310</td><td>Yes              </td><td>Yes         </td></tr>\n",
       "</tbody>\n",
       "</table>"
      ]
     },
     "metadata": {},
     "output_type": "display_data"
    },
    {
     "data": {
      "text/plain": []
     },
     "execution_count": 250,
     "metadata": {},
     "output_type": "execute_result"
    }
   ],
   "source": [
    "anomalous_both = house_data[(house_data[\"anomaly_ae\"] == \"Yes\") & (house_data[\"anomaly_iso_for\"] == \"Yes\")]\n",
    "anomalous_both.head(13)"
   ]
  },
  {
   "cell_type": "markdown",
   "metadata": {},
   "source": [
    "This is the most inexpensive home in our anomalies list.  Looking closely at it, we can see that it is an anomaly because while it's price, # of bedrooms, and # of bathrooms fall within normal range, it is abnormal because of it's huge lot size and waterfront placement."
   ]
  },
  {
   "cell_type": "code",
   "execution_count": 252,
   "metadata": {},
   "outputs": [
    {
     "data": {
      "text/html": [
       "<table>\n",
       "<thead>\n",
       "<tr><th style=\"text-align: right;\">         id</th><th>date           </th><th style=\"text-align: right;\">  price</th><th style=\"text-align: right;\">  bedrooms</th><th style=\"text-align: right;\">  bathrooms</th><th style=\"text-align: right;\">  sqft_living</th><th style=\"text-align: right;\">  sqft_lot</th><th style=\"text-align: right;\">  floors</th><th style=\"text-align: right;\">  waterfront</th><th style=\"text-align: right;\">  view</th><th style=\"text-align: right;\">  condition</th><th style=\"text-align: right;\">  grade</th><th style=\"text-align: right;\">  sqft_above</th><th style=\"text-align: right;\">  sqft_basement</th><th style=\"text-align: right;\">  yr_built</th><th style=\"text-align: right;\">  yr_renovated</th><th style=\"text-align: right;\">  zipcode</th><th style=\"text-align: right;\">    lat</th><th style=\"text-align: right;\">    long</th><th style=\"text-align: right;\">  sqft_living15</th><th style=\"text-align: right;\">  sqft_lot15</th><th>anomaly_iso_for  </th><th>anomaly_ae  </th></tr>\n",
       "</thead>\n",
       "<tbody>\n",
       "<tr><td style=\"text-align: right;\">1.21039e+08</td><td>20150313T000000</td><td style=\"text-align: right;\"> 425000</td><td style=\"text-align: right;\">         3</td><td style=\"text-align: right;\">       2.75</td><td style=\"text-align: right;\">         3610</td><td style=\"text-align: right;\">    107386</td><td style=\"text-align: right;\">     1.5</td><td style=\"text-align: right;\">           1</td><td style=\"text-align: right;\">     3</td><td style=\"text-align: right;\">          3</td><td style=\"text-align: right;\">      8</td><td style=\"text-align: right;\">        3130</td><td style=\"text-align: right;\">            480</td><td style=\"text-align: right;\">      1918</td><td style=\"text-align: right;\">          1962</td><td style=\"text-align: right;\">    98023</td><td style=\"text-align: right;\">47.3351</td><td style=\"text-align: right;\">-122.362</td><td style=\"text-align: right;\">           2630</td><td style=\"text-align: right;\">       42126</td><td>Yes              </td><td>Yes         </td></tr>\n",
       "</tbody>\n",
       "</table>"
      ]
     },
     "metadata": {},
     "output_type": "display_data"
    },
    {
     "data": {
      "text/plain": []
     },
     "execution_count": 252,
     "metadata": {},
     "output_type": "execute_result"
    }
   ],
   "source": [
    "anomalous_both[anomalous_both[\"price\"] == anomalous_both[\"price\"].min()]"
   ]
  },
  {
   "cell_type": "markdown",
   "metadata": {},
   "source": [
    "Looking back at our graph from earlier, we can see this home showing as one of the outliers on the lower right corner of the chart."
   ]
  },
  {
   "cell_type": "code",
   "execution_count": 268,
   "metadata": {},
   "outputs": [
    {
     "data": {
      "image/png": "[encoded data removed]",
      "text/plain": [
       "<Figure size 432x288 with 1 Axes>"
      ]
     },
     "metadata": {},
     "output_type": "display_data"
    }
   ],
   "source": [
    "plt.scatter(plot_data.sqft_lot, plot_data.price)\n",
    "plt.xlabel(\"sqft_lot\")\n",
    "plt.ylabel(\"price\")\n",
    "plt.show()"
   ]
  },
  {
   "cell_type": "code",
   "execution_count": 269,
   "metadata": {},
   "outputs": [
    {
     "name": "stdout",
     "output_type": "stream",
     "text": [
      "H2O session _sid_a451 closed.\n"
     ]
    }
   ],
   "source": [
    "h2o.cluster().shutdown()"
   ]
  },
  {
   "cell_type": "code",
   "execution_count": null,
   "metadata": {},
   "outputs": [],
   "source": []
  }
 ],
 "metadata": {
  "kernelspec": {
   "display_name": "Python 3",
   "language": "python",
   "name": "python3"
  },
  "language_info": {
   "codemirror_mode": {
    "name": "ipython",
    "version": 3
   },
   "file_extension": ".py",
   "mimetype": "text/x-python",
   "name": "python",
   "nbconvert_exporter": "python",
   "pygments_lexer": "ipython3",
   "version": "3.6.8"
  }
 },
 "nbformat": 4,
 "nbformat_minor": 4
}
