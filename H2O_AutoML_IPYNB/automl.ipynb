{
 "cells": [
  {
   "cell_type": "code",
   "execution_count": 12,
   "metadata": {
    "collapsed": true
   },
   "outputs": [],
   "source": [
    "# import h2o package and specific estimator \n",
    "import h2o\n",
    "from h2o.automl import H2OAutoML"
   ]
  },
  {
   "cell_type": "code",
   "execution_count": 2,
   "metadata": {
    "collapsed": false
   },
   "outputs": [
    {
     "name": "stdout",
     "output_type": "stream",
     "text": [
      "Checking whether there is an H2O instance running at http://localhost:54321..... not found.\n",
      "Attempting to start a local H2O server...\n",
      "  Java Version: java version \"1.8.0_112\"; Java(TM) SE Runtime Environment (build 1.8.0_112-b16); Java HotSpot(TM) 64-Bit Server VM (build 25.112-b16, mixed mode)\n",
      "  Starting server from /Users/phall/anaconda/lib/python3.5/site-packages/h2o/backend/bin/h2o.jar\n",
      "  Ice root: /var/folders/tc/0ss1l73113j3wdyjsxmy1j2r0000gn/T/tmpnap_or86\n",
      "  JVM stdout: /var/folders/tc/0ss1l73113j3wdyjsxmy1j2r0000gn/T/tmpnap_or86/h2o_phall_started_from_python.out\n",
      "  JVM stderr: /var/folders/tc/0ss1l73113j3wdyjsxmy1j2r0000gn/T/tmpnap_or86/h2o_phall_started_from_python.err\n",
      "  Server is running at http://127.0.0.1:54321\n",
      "Connecting to H2O server at http://127.0.0.1:54321... successful.\n"
     ]
    },
    {
     "data": {
      "text/html": [
       "<div style=\"overflow:auto\"><table style=\"width:50%\"><tr><td>H2O cluster uptime:</td>\n",
       "<td>01 secs</td></tr>\n",
       "<tr><td>H2O cluster version:</td>\n",
       "<td>3.12.0.1</td></tr>\n",
       "<tr><td>H2O cluster version age:</td>\n",
       "<td>29 days </td></tr>\n",
       "<tr><td>H2O cluster name:</td>\n",
       "<td>H2O_from_python_phall_psfin7</td></tr>\n",
       "<tr><td>H2O cluster total nodes:</td>\n",
       "<td>1</td></tr>\n",
       "<tr><td>H2O cluster free memory:</td>\n",
       "<td>3.556 Gb</td></tr>\n",
       "<tr><td>H2O cluster total cores:</td>\n",
       "<td>8</td></tr>\n",
       "<tr><td>H2O cluster allowed cores:</td>\n",
       "<td>8</td></tr>\n",
       "<tr><td>H2O cluster status:</td>\n",
       "<td>accepting new members, healthy</td></tr>\n",
       "<tr><td>H2O connection url:</td>\n",
       "<td>http://127.0.0.1:54321</td></tr>\n",
       "<tr><td>H2O connection proxy:</td>\n",
       "<td>None</td></tr>\n",
       "<tr><td>H2O internal security:</td>\n",
       "<td>False</td></tr>\n",
       "<tr><td>Python version:</td>\n",
       "<td>3.5.2 final</td></tr></table></div>"
      ],
      "text/plain": [
       "--------------------------  ------------------------------\n",
       "H2O cluster uptime:         01 secs\n",
       "H2O cluster version:        3.12.0.1\n",
       "H2O cluster version age:    29 days\n",
       "H2O cluster name:           H2O_from_python_phall_psfin7\n",
       "H2O cluster total nodes:    1\n",
       "H2O cluster free memory:    3.556 Gb\n",
       "H2O cluster total cores:    8\n",
       "H2O cluster allowed cores:  8\n",
       "H2O cluster status:         accepting new members, healthy\n",
       "H2O connection url:         http://127.0.0.1:54321\n",
       "H2O connection proxy:\n",
       "H2O internal security:      False\n",
       "Python version:             3.5.2 final\n",
       "--------------------------  ------------------------------"
      ]
     },
     "metadata": {},
     "output_type": "display_data"
    }
   ],
   "source": [
    "h2o.init() # start h2o"
   ]
  },
  {
   "cell_type": "code",
   "execution_count": 3,
   "metadata": {
    "collapsed": true
   },
   "outputs": [],
   "source": [
    "# location of clean data file\n",
    "path = 'https://raw.githubusercontent.com/h2oai/app-consumer-loan/master/data/loan.csv'"
   ]
  },
  {
   "cell_type": "code",
   "execution_count": 4,
   "metadata": {
    "collapsed": true
   },
   "outputs": [],
   "source": [
    "# define input variable measurement levels \n",
    "# strings automatically parsed as enums (nominal)\n",
    "# numbers automatically parsed as numeric\n",
    "col_types = {'bad_loan': 'enum'}"
   ]
  },
  {
   "cell_type": "code",
   "execution_count": 5,
   "metadata": {
    "collapsed": false
   },
   "outputs": [
    {
     "name": "stdout",
     "output_type": "stream",
     "text": [
      "Parse progress: |█████████████████████████████████████████████████████████| 100%\n"
     ]
    }
   ],
   "source": [
    "frame = h2o.import_file(path=path, col_types=col_types) # import from url"
   ]
  },
  {
   "cell_type": "code",
   "execution_count": 6,
   "metadata": {
    "collapsed": false
   },
   "outputs": [
    {
     "name": "stdout",
     "output_type": "stream",
     "text": [
      "Rows:163987\n",
      "Cols:15\n",
      "\n",
      "\n"
     ]
    },
    {
     "data": {
      "text/html": [
       "<table>\n",
       "<thead>\n",
       "<tr><th>       </th><th>loan_amnt         </th><th>term     </th><th>int_rate          </th><th>emp_length       </th><th>home_ownership  </th><th>annual_inc       </th><th>purpose           </th><th>addr_state  </th><th>dti               </th><th>delinq_2yrs        </th><th>revol_util        </th><th>total_acc         </th><th>bad_loan  </th><th>longest_credit_length  </th><th>verification_status  </th></tr>\n",
       "</thead>\n",
       "<tbody>\n",
       "<tr><td>type   </td><td>int               </td><td>enum     </td><td>real              </td><td>int              </td><td>enum            </td><td>real             </td><td>enum              </td><td>enum        </td><td>real              </td><td>int                </td><td>real              </td><td>int               </td><td>enum      </td><td>int                    </td><td>enum                 </td></tr>\n",
       "<tr><td>mins   </td><td>500.0             </td><td>         </td><td>5.42              </td><td>0.0              </td><td>                </td><td>1896.0           </td><td>                  </td><td>            </td><td>0.0               </td><td>0.0                </td><td>0.0               </td><td>1.0               </td><td>          </td><td>0.0                    </td><td>                     </td></tr>\n",
       "<tr><td>mean   </td><td>13074.169141456332</td><td>         </td><td>13.715904065566189</td><td>5.684352932995338</td><td>                </td><td>71915.67051974905</td><td>                  </td><td>            </td><td>15.881530121290167</td><td>0.22735700606252723</td><td>54.07917280242262 </td><td>24.579733834274574</td><td>          </td><td>14.854273655448333     </td><td>                     </td></tr>\n",
       "<tr><td>maxs   </td><td>35000.0           </td><td>         </td><td>26.060000000000002</td><td>10.0             </td><td>                </td><td>7141778.0        </td><td>                  </td><td>            </td><td>39.99             </td><td>29.0               </td><td>150.70000000000002</td><td>118.0             </td><td>          </td><td>65.0                   </td><td>                     </td></tr>\n",
       "<tr><td>sigma  </td><td>7993.556188734672 </td><td>         </td><td>4.391939870545809 </td><td>3.610663731100238</td><td>                </td><td>59070.91565491818</td><td>                  </td><td>            </td><td>7.5876682241925355</td><td>0.6941679229284191 </td><td>25.285366766770498</td><td>11.685190365910666</td><td>          </td><td>6.947732922546689      </td><td>                     </td></tr>\n",
       "<tr><td>zeros  </td><td>0                 </td><td>         </td><td>0                 </td><td>14248            </td><td>                </td><td>0                </td><td>                  </td><td>            </td><td>270               </td><td>139459             </td><td>1562              </td><td>0                 </td><td>          </td><td>11                     </td><td>                     </td></tr>\n",
       "<tr><td>missing</td><td>0                 </td><td>0        </td><td>0                 </td><td>5804             </td><td>0               </td><td>4                </td><td>0                 </td><td>0           </td><td>0                 </td><td>29                 </td><td>193               </td><td>29                </td><td>0         </td><td>29                     </td><td>0                    </td></tr>\n",
       "<tr><td>0      </td><td>5000.0            </td><td>36 months</td><td>10.65             </td><td>10.0             </td><td>RENT            </td><td>24000.0          </td><td>credit_card       </td><td>AZ          </td><td>27.650000000000002</td><td>0.0                </td><td>83.7              </td><td>9.0               </td><td>0         </td><td>26.0                   </td><td>verified             </td></tr>\n",
       "<tr><td>1      </td><td>2500.0            </td><td>60 months</td><td>15.27             </td><td>0.0              </td><td>RENT            </td><td>30000.0          </td><td>car               </td><td>GA          </td><td>1.0               </td><td>0.0                </td><td>9.4               </td><td>4.0               </td><td>1         </td><td>12.0                   </td><td>verified             </td></tr>\n",
       "<tr><td>2      </td><td>2400.0            </td><td>36 months</td><td>15.96             </td><td>10.0             </td><td>RENT            </td><td>12252.0          </td><td>small_business    </td><td>IL          </td><td>8.72              </td><td>0.0                </td><td>98.5              </td><td>10.0              </td><td>0         </td><td>10.0                   </td><td>not verified         </td></tr>\n",
       "<tr><td>3      </td><td>10000.0           </td><td>36 months</td><td>13.49             </td><td>10.0             </td><td>RENT            </td><td>49200.0          </td><td>other             </td><td>CA          </td><td>20.0              </td><td>0.0                </td><td>21.0              </td><td>37.0              </td><td>0         </td><td>15.0                   </td><td>verified             </td></tr>\n",
       "<tr><td>4      </td><td>5000.0            </td><td>36 months</td><td>7.9               </td><td>3.0              </td><td>RENT            </td><td>36000.0          </td><td>wedding           </td><td>AZ          </td><td>11.200000000000001</td><td>0.0                </td><td>28.3              </td><td>12.0              </td><td>0         </td><td>7.0                    </td><td>verified             </td></tr>\n",
       "<tr><td>5      </td><td>3000.0            </td><td>36 months</td><td>18.64             </td><td>9.0              </td><td>RENT            </td><td>48000.0          </td><td>car               </td><td>CA          </td><td>5.3500000000000005</td><td>0.0                </td><td>87.5              </td><td>4.0               </td><td>0         </td><td>4.0                    </td><td>verified             </td></tr>\n",
       "<tr><td>6      </td><td>5600.0            </td><td>60 months</td><td>21.28             </td><td>4.0              </td><td>OWN             </td><td>40000.0          </td><td>small_business    </td><td>CA          </td><td>5.55              </td><td>0.0                </td><td>32.6              </td><td>13.0              </td><td>1         </td><td>7.0                    </td><td>verified             </td></tr>\n",
       "<tr><td>7      </td><td>5375.0            </td><td>60 months</td><td>12.69             </td><td>0.0              </td><td>RENT            </td><td>15000.0          </td><td>other             </td><td>TX          </td><td>18.080000000000002</td><td>0.0                </td><td>36.5              </td><td>3.0               </td><td>1         </td><td>7.0                    </td><td>verified             </td></tr>\n",
       "<tr><td>8      </td><td>6500.0            </td><td>60 months</td><td>14.65             </td><td>5.0              </td><td>OWN             </td><td>72000.0          </td><td>debt_consolidation</td><td>AZ          </td><td>16.12             </td><td>0.0                </td><td>20.6              </td><td>23.0              </td><td>0         </td><td>13.0                   </td><td>not verified         </td></tr>\n",
       "<tr><td>9      </td><td>12000.0           </td><td>36 months</td><td>12.69             </td><td>10.0             </td><td>OWN             </td><td>75000.0          </td><td>debt_consolidation</td><td>CA          </td><td>10.78             </td><td>0.0                </td><td>67.10000000000001 </td><td>34.0              </td><td>0         </td><td>22.0                   </td><td>verified             </td></tr>\n",
       "</tbody>\n",
       "</table>"
      ]
     },
     "metadata": {},
     "output_type": "display_data"
    }
   ],
   "source": [
    "frame.describe() # summarize table"
   ]
  },
  {
   "cell_type": "code",
   "execution_count": 7,
   "metadata": {
    "collapsed": false
   },
   "outputs": [],
   "source": [
    "# split into training and test for cross validation\n",
    "train, test = frame.split_frame([0.7])"
   ]
  },
  {
   "cell_type": "code",
   "execution_count": 8,
   "metadata": {
    "collapsed": false
   },
   "outputs": [
    {
     "name": "stdout",
     "output_type": "stream",
     "text": [
      "bad_loan\n",
      "['loan_amnt', 'term', 'int_rate', 'emp_length', 'home_ownership', 'annual_inc', 'purpose', 'addr_state', 'dti', 'delinq_2yrs', 'revol_util', 'total_acc', 'longest_credit_length', 'verification_status']\n"
     ]
    }
   ],
   "source": [
    "# assign target and inputs for logistic regression\n",
    "y = 'bad_loan'\n",
    "X = [name for name in frame.columns if name != y]\n",
    "print(y)\n",
    "print(X)"
   ]
  },
  {
   "cell_type": "code",
   "execution_count": 9,
   "metadata": {
    "collapsed": false
   },
   "outputs": [
    {
     "name": "stdout",
     "output_type": "stream",
     "text": [
      "['purpose', 'home_ownership', 'term', 'addr_state', 'verification_status']\n",
      "['dti', 'annual_inc', 'loan_amnt', 'int_rate', 'emp_length', 'total_acc', 'longest_credit_length', 'revol_util', 'delinq_2yrs']\n"
     ]
    }
   ],
   "source": [
    "# determine column types\n",
    "reals, enums = [], []\n",
    "for key, val in frame.types.items():\n",
    "    if key in X:\n",
    "        if val == 'enum':\n",
    "            enums.append(key)\n",
    "        else: \n",
    "            reals.append(key)\n",
    "\n",
    "print(enums)\n",
    "print(reals)"
   ]
  },
  {
   "cell_type": "code",
   "execution_count": 10,
   "metadata": {
    "collapsed": false
   },
   "outputs": [],
   "source": [
    "# impute missing values\n",
    "_ = frame[reals].impute(method='mean')"
   ]
  },
  {
   "cell_type": "code",
   "execution_count": 11,
   "metadata": {
    "collapsed": true
   },
   "outputs": [],
   "source": [
    "# set target to factor for logisitic regression\n",
    "# just to be safe ...\n",
    "train[y] = train[y].asfactor()\n",
    "test[y] = test[y].asfactor()"
   ]
  },
  {
   "cell_type": "code",
   "execution_count": 13,
   "metadata": {
    "collapsed": false
   },
   "outputs": [
    {
     "name": "stdout",
     "output_type": "stream",
     "text": [
      "AutoML progress: |████████████████████████████████████████████████████████| 100%\n",
      "Parse progress: |█████████████████████████████████████████████████████████| 100%\n"
     ]
    }
   ],
   "source": [
    "# automl\n",
    "# runs for 300 seconds then builds a stacked ensemble\n",
    "auto = H2OAutoML(max_runtime_secs=300) # init automl, run for 300 seconds\n",
    "auto.train(x=X,  \n",
    "           y=y,\n",
    "           training_frame=train,   # training data split into 70/30 train/valid\n",
    "           leaderboard_frame=test) "
   ]
  },
  {
   "cell_type": "code",
   "execution_count": 14,
   "metadata": {
    "collapsed": false
   },
   "outputs": [
    {
     "data": {
      "text/html": [
       "<table>\n",
       "<thead>\n",
       "<tr><th>model_id                                 </th><th style=\"text-align: right;\">     auc</th><th style=\"text-align: right;\">  logloss</th></tr>\n",
       "</thead>\n",
       "<tbody>\n",
       "<tr><td>StackedEnsemble_0_AutoML_20170706_175725 </td><td style=\"text-align: right;\">0.70527 </td><td style=\"text-align: right;\"> 0.440551</td></tr>\n",
       "<tr><td>GLM_grid_0_AutoML_20170706_175725_model_0</td><td style=\"text-align: right;\">0.701672</td><td style=\"text-align: right;\"> 0.440898</td></tr>\n",
       "<tr><td>GLM_grid_0_AutoML_20170706_175725_model_1</td><td style=\"text-align: right;\">0.701672</td><td style=\"text-align: right;\"> 0.440898</td></tr>\n",
       "<tr><td>GBM_grid_0_AutoML_20170706_175725_model_0</td><td style=\"text-align: right;\">0.700509</td><td style=\"text-align: right;\"> 0.451737</td></tr>\n",
       "<tr><td>XRT_0_AutoML_20170706_175725             </td><td style=\"text-align: right;\">0.688488</td><td style=\"text-align: right;\"> 0.445656</td></tr>\n",
       "<tr><td>DRF_0_AutoML_20170706_175725             </td><td style=\"text-align: right;\">0.683476</td><td style=\"text-align: right;\"> 0.450929</td></tr>\n",
       "</tbody>\n",
       "</table>"
      ]
     },
     "metadata": {},
     "output_type": "display_data"
    },
    {
     "data": {
      "text/plain": []
     },
     "execution_count": 14,
     "metadata": {},
     "output_type": "execute_result"
    }
   ],
   "source": [
    "# view leaderboard\n",
    "lb = auto.leaderboard\n",
    "lb"
   ]
  },
  {
   "cell_type": "code",
   "execution_count": 16,
   "metadata": {
    "collapsed": false
   },
   "outputs": [
    {
     "name": "stdout",
     "output_type": "stream",
     "text": [
      "Model Details\n",
      "=============\n",
      "H2OStackedEnsembleEstimator :  Stacked Ensemble\n",
      "Model Key:  StackedEnsemble_0_AutoML_20170706_175725\n",
      "No model summary for this model\n",
      "\n",
      "\n",
      "ModelMetricsBinomialGLM: stackedensemble\n",
      "** Reported on train data. **\n",
      "\n",
      "MSE: 0.09609371624935503\n",
      "RMSE: 0.3099898647526319\n",
      "LogLoss: 0.32303666631845357\n",
      "Null degrees of freedom: 80242\n",
      "Residual degrees of freedom: 80237\n",
      "Null deviance: 76072.75489639521\n",
      "Residual deviance: 51842.86243078334\n",
      "AIC: 51854.86243078334\n",
      "AUC: 0.9357226014693921\n",
      "Gini: 0.8714452029387842\n",
      "Confusion Matrix (Act/Pred) for max f1 @ threshold = 0.2557261072855434: \n"
     ]
    },
    {
     "data": {
      "text/html": [
       "<div style=\"overflow:auto\"><table style=\"width:50%\"><tr><td><b></b></td>\n",
       "<td><b>0</b></td>\n",
       "<td><b>1</b></td>\n",
       "<td><b>Error</b></td>\n",
       "<td><b>Rate</b></td></tr>\n",
       "<tr><td>0</td>\n",
       "<td>60029.0</td>\n",
       "<td>5631.0</td>\n",
       "<td>0.0858</td>\n",
       "<td> (5631.0/65660.0)</td></tr>\n",
       "<tr><td>1</td>\n",
       "<td>3949.0</td>\n",
       "<td>10634.0</td>\n",
       "<td>0.2708</td>\n",
       "<td> (3949.0/14583.0)</td></tr>\n",
       "<tr><td>Total</td>\n",
       "<td>63978.0</td>\n",
       "<td>16265.0</td>\n",
       "<td>0.1194</td>\n",
       "<td> (9580.0/80243.0)</td></tr></table></div>"
      ],
      "text/plain": [
       "       0      1      Error    Rate\n",
       "-----  -----  -----  -------  ----------------\n",
       "0      60029  5631   0.0858   (5631.0/65660.0)\n",
       "1      3949   10634  0.2708   (3949.0/14583.0)\n",
       "Total  63978  16265  0.1194   (9580.0/80243.0)"
      ]
     },
     "metadata": {},
     "output_type": "display_data"
    },
    {
     "name": "stdout",
     "output_type": "stream",
     "text": [
      "Maximum Metrics: Maximum metrics at their respective thresholds\n",
      "\n"
     ]
    },
    {
     "data": {
      "text/html": [
       "<div style=\"overflow:auto\"><table style=\"width:50%\"><tr><td><b>metric</b></td>\n",
       "<td><b>threshold</b></td>\n",
       "<td><b>value</b></td>\n",
       "<td><b>idx</b></td></tr>\n",
       "<tr><td>max f1</td>\n",
       "<td>0.2557261</td>\n",
       "<td>0.6894450</td>\n",
       "<td>214.0</td></tr>\n",
       "<tr><td>max f2</td>\n",
       "<td>0.1802497</td>\n",
       "<td>0.7825040</td>\n",
       "<td>271.0</td></tr>\n",
       "<tr><td>max f0point5</td>\n",
       "<td>0.3482897</td>\n",
       "<td>0.7380417</td>\n",
       "<td>159.0</td></tr>\n",
       "<tr><td>max accuracy</td>\n",
       "<td>0.3181533</td>\n",
       "<td>0.8936854</td>\n",
       "<td>175.0</td></tr>\n",
       "<tr><td>max precision</td>\n",
       "<td>0.8380285</td>\n",
       "<td>1.0</td>\n",
       "<td>0.0</td></tr>\n",
       "<tr><td>max recall</td>\n",
       "<td>0.0939220</td>\n",
       "<td>1.0</td>\n",
       "<td>361.0</td></tr>\n",
       "<tr><td>max specificity</td>\n",
       "<td>0.8380285</td>\n",
       "<td>1.0</td>\n",
       "<td>0.0</td></tr>\n",
       "<tr><td>max absolute_mcc</td>\n",
       "<td>0.2784861</td>\n",
       "<td>0.6184632</td>\n",
       "<td>198.0</td></tr>\n",
       "<tr><td>max min_per_class_accuracy</td>\n",
       "<td>0.2092455</td>\n",
       "<td>0.8489339</td>\n",
       "<td>246.0</td></tr>\n",
       "<tr><td>max mean_per_class_accuracy</td>\n",
       "<td>0.1875930</td>\n",
       "<td>0.8546684</td>\n",
       "<td>264.0</td></tr></table></div>"
      ],
      "text/plain": [
       "metric                       threshold    value     idx\n",
       "---------------------------  -----------  --------  -----\n",
       "max f1                       0.255726     0.689445  214\n",
       "max f2                       0.18025      0.782504  271\n",
       "max f0point5                 0.34829      0.738042  159\n",
       "max accuracy                 0.318153     0.893685  175\n",
       "max precision                0.838029     1         0\n",
       "max recall                   0.093922     1         361\n",
       "max specificity              0.838029     1         0\n",
       "max absolute_mcc             0.278486     0.618463  198\n",
       "max min_per_class_accuracy   0.209245     0.848934  246\n",
       "max mean_per_class_accuracy  0.187593     0.854668  264"
      ]
     },
     "metadata": {},
     "output_type": "display_data"
    },
    {
     "name": "stdout",
     "output_type": "stream",
     "text": [
      "Gains/Lift Table: Avg response rate: 18.17 %\n",
      "\n"
     ]
    },
    {
     "data": {
      "text/html": [
       "<div style=\"overflow:auto\"><table style=\"width:50%\"><tr><td><b></b></td>\n",
       "<td><b>group</b></td>\n",
       "<td><b>cumulative_data_fraction</b></td>\n",
       "<td><b>lower_threshold</b></td>\n",
       "<td><b>lift</b></td>\n",
       "<td><b>cumulative_lift</b></td>\n",
       "<td><b>response_rate</b></td>\n",
       "<td><b>cumulative_response_rate</b></td>\n",
       "<td><b>capture_rate</b></td>\n",
       "<td><b>cumulative_capture_rate</b></td>\n",
       "<td><b>gain</b></td>\n",
       "<td><b>cumulative_gain</b></td></tr>\n",
       "<tr><td></td>\n",
       "<td>1</td>\n",
       "<td>0.0100071</td>\n",
       "<td>0.6533419</td>\n",
       "<td>5.5025029</td>\n",
       "<td>5.5025029</td>\n",
       "<td>1.0</td>\n",
       "<td>1.0</td>\n",
       "<td>0.0550641</td>\n",
       "<td>0.0550641</td>\n",
       "<td>450.2502914</td>\n",
       "<td>450.2502914</td></tr>\n",
       "<tr><td></td>\n",
       "<td>2</td>\n",
       "<td>0.0200017</td>\n",
       "<td>0.5932918</td>\n",
       "<td>5.4544761</td>\n",
       "<td>5.4785045</td>\n",
       "<td>0.9912718</td>\n",
       "<td>0.9956386</td>\n",
       "<td>0.0545155</td>\n",
       "<td>0.1095796</td>\n",
       "<td>445.4476081</td>\n",
       "<td>447.8504459</td></tr>\n",
       "<tr><td></td>\n",
       "<td>3</td>\n",
       "<td>0.0300088</td>\n",
       "<td>0.5459036</td>\n",
       "<td>5.2421105</td>\n",
       "<td>5.3996737</td>\n",
       "<td>0.9526775</td>\n",
       "<td>0.9813123</td>\n",
       "<td>0.0524583</td>\n",
       "<td>0.1620380</td>\n",
       "<td>424.2110497</td>\n",
       "<td>439.9673749</td></tr>\n",
       "<tr><td></td>\n",
       "<td>4</td>\n",
       "<td>0.0400035</td>\n",
       "<td>0.5094850</td>\n",
       "<td>5.0908443</td>\n",
       "<td>5.3225145</td>\n",
       "<td>0.9251870</td>\n",
       "<td>0.9672897</td>\n",
       "<td>0.0508812</td>\n",
       "<td>0.2129192</td>\n",
       "<td>409.0844342</td>\n",
       "<td>432.2514501</td></tr>\n",
       "<tr><td></td>\n",
       "<td>5</td>\n",
       "<td>0.0500106</td>\n",
       "<td>0.4794765</td>\n",
       "<td>4.9474559</td>\n",
       "<td>5.2474654</td>\n",
       "<td>0.8991283</td>\n",
       "<td>0.9536506</td>\n",
       "<td>0.0495097</td>\n",
       "<td>0.2624289</td>\n",
       "<td>394.7455921</td>\n",
       "<td>424.7465401</td></tr>\n",
       "<tr><td></td>\n",
       "<td>6</td>\n",
       "<td>0.1000087</td>\n",
       "<td>0.3696594</td>\n",
       "<td>4.1639080</td>\n",
       "<td>4.7057542</td>\n",
       "<td>0.7567298</td>\n",
       "<td>0.8552025</td>\n",
       "<td>0.2081876</td>\n",
       "<td>0.4706165</td>\n",
       "<td>316.3907988</td>\n",
       "<td>370.5754206</td></tr>\n",
       "<tr><td></td>\n",
       "<td>7</td>\n",
       "<td>0.1500069</td>\n",
       "<td>0.3007516</td>\n",
       "<td>2.8938886</td>\n",
       "<td>4.1018492</td>\n",
       "<td>0.5259222</td>\n",
       "<td>0.7454515</td>\n",
       "<td>0.1446890</td>\n",
       "<td>0.6153055</td>\n",
       "<td>189.3888621</td>\n",
       "<td>310.1849186</td></tr>\n",
       "<tr><td></td>\n",
       "<td>8</td>\n",
       "<td>0.2000050</td>\n",
       "<td>0.2567565</td>\n",
       "<td>2.1697307</td>\n",
       "<td>3.6188497</td>\n",
       "<td>0.3943170</td>\n",
       "<td>0.6576734</td>\n",
       "<td>0.1084825</td>\n",
       "<td>0.7237880</td>\n",
       "<td>116.9730710</td>\n",
       "<td>261.8849664</td></tr>\n",
       "<tr><td></td>\n",
       "<td>9</td>\n",
       "<td>0.3000012</td>\n",
       "<td>0.1981403</td>\n",
       "<td>1.5395213</td>\n",
       "<td>2.9257690</td>\n",
       "<td>0.2797856</td>\n",
       "<td>0.5317160</td>\n",
       "<td>0.1539464</td>\n",
       "<td>0.8777343</td>\n",
       "<td>53.9521316</td>\n",
       "<td>192.5769007</td></tr>\n",
       "<tr><td></td>\n",
       "<td>10</td>\n",
       "<td>0.3999975</td>\n",
       "<td>0.1604229</td>\n",
       "<td>0.8270213</td>\n",
       "<td>2.4010984</td>\n",
       "<td>0.1502991</td>\n",
       "<td>0.4363648</td>\n",
       "<td>0.0826990</td>\n",
       "<td>0.9604334</td>\n",
       "<td>-17.2978749</td>\n",
       "<td>140.1098415</td></tr>\n",
       "<tr><td></td>\n",
       "<td>11</td>\n",
       "<td>0.5000062</td>\n",
       "<td>0.1356739</td>\n",
       "<td>0.2907241</td>\n",
       "<td>1.9789920</td>\n",
       "<td>0.0528349</td>\n",
       "<td>0.3596531</td>\n",
       "<td>0.0290750</td>\n",
       "<td>0.9895083</td>\n",
       "<td>-70.9275858</td>\n",
       "<td>97.8992001</td></tr>\n",
       "<tr><td></td>\n",
       "<td>12</td>\n",
       "<td>0.6000025</td>\n",
       "<td>0.1176112</td>\n",
       "<td>0.0809192</td>\n",
       "<td>1.6626597</td>\n",
       "<td>0.0147059</td>\n",
       "<td>0.3021643</td>\n",
       "<td>0.0080916</td>\n",
       "<td>0.9975999</td>\n",
       "<td>-91.9080839</td>\n",
       "<td>66.2659668</td></tr>\n",
       "<tr><td></td>\n",
       "<td>13</td>\n",
       "<td>0.6999988</td>\n",
       "<td>0.1039721</td>\n",
       "<td>0.0205727</td>\n",
       "<td>1.4280842</td>\n",
       "<td>0.0037388</td>\n",
       "<td>0.2595336</td>\n",
       "<td>0.0020572</td>\n",
       "<td>0.9996571</td>\n",
       "<td>-97.9427332</td>\n",
       "<td>42.8084164</td></tr>\n",
       "<tr><td></td>\n",
       "<td>14</td>\n",
       "<td>0.7999950</td>\n",
       "<td>0.0918275</td>\n",
       "<td>0.0034288</td>\n",
       "<td>1.2500078</td>\n",
       "<td>0.0006231</td>\n",
       "<td>0.2271708</td>\n",
       "<td>0.0003429</td>\n",
       "<td>1.0</td>\n",
       "<td>-99.6571222</td>\n",
       "<td>25.0007789</td></tr>\n",
       "<tr><td></td>\n",
       "<td>15</td>\n",
       "<td>0.8999913</td>\n",
       "<td>0.0793314</td>\n",
       "<td>0.0</td>\n",
       "<td>1.1111219</td>\n",
       "<td>0.0</td>\n",
       "<td>0.2019303</td>\n",
       "<td>0.0</td>\n",
       "<td>1.0</td>\n",
       "<td>-100.0</td>\n",
       "<td>11.1121881</td></tr>\n",
       "<tr><td></td>\n",
       "<td>16</td>\n",
       "<td>1.0</td>\n",
       "<td>0.0596662</td>\n",
       "<td>0.0</td>\n",
       "<td>1.0</td>\n",
       "<td>0.0</td>\n",
       "<td>0.1817355</td>\n",
       "<td>0.0</td>\n",
       "<td>1.0</td>\n",
       "<td>-100.0</td>\n",
       "<td>0.0</td></tr></table></div>"
      ],
      "text/plain": [
       "    group    cumulative_data_fraction    lower_threshold    lift        cumulative_lift    response_rate    cumulative_response_rate    capture_rate    cumulative_capture_rate    gain      cumulative_gain\n",
       "--  -------  --------------------------  -----------------  ----------  -----------------  ---------------  --------------------------  --------------  -------------------------  --------  -----------------\n",
       "    1        0.0100071                   0.653342           5.5025      5.5025             1                1                           0.0550641       0.0550641                  450.25    450.25\n",
       "    2        0.0200017                   0.593292           5.45448     5.4785             0.991272         0.995639                    0.0545155       0.10958                    445.448   447.85\n",
       "    3        0.0300088                   0.545904           5.24211     5.39967            0.952677         0.981312                    0.0524583       0.162038                   424.211   439.967\n",
       "    4        0.0400035                   0.509485           5.09084     5.32251            0.925187         0.96729                     0.0508812       0.212919                   409.084   432.251\n",
       "    5        0.0500106                   0.479476           4.94746     5.24747            0.899128         0.953651                    0.0495097       0.262429                   394.746   424.747\n",
       "    6        0.100009                    0.369659           4.16391     4.70575            0.75673          0.855202                    0.208188        0.470616                   316.391   370.575\n",
       "    7        0.150007                    0.300752           2.89389     4.10185            0.525922         0.745452                    0.144689        0.615305                   189.389   310.185\n",
       "    8        0.200005                    0.256756           2.16973     3.61885            0.394317         0.657673                    0.108482        0.723788                   116.973   261.885\n",
       "    9        0.300001                    0.19814            1.53952     2.92577            0.279786         0.531716                    0.153946        0.877734                   53.9521   192.577\n",
       "    10       0.399998                    0.160423           0.827021    2.4011             0.150299         0.436365                    0.082699        0.960433                   -17.2979  140.11\n",
       "    11       0.500006                    0.135674           0.290724    1.97899            0.0528349        0.359653                    0.029075        0.989508                   -70.9276  97.8992\n",
       "    12       0.600002                    0.117611           0.0809192   1.66266            0.0147059        0.302164                    0.00809161      0.9976                     -91.9081  66.266\n",
       "    13       0.699999                    0.103972           0.0205727   1.42808            0.00373878       0.259534                    0.00205719      0.999657                   -97.9427  42.8084\n",
       "    14       0.799995                    0.0918275          0.00342878  1.25001            0.000623131      0.227171                    0.000342865     1                          -99.6571  25.0008\n",
       "    15       0.899991                    0.0793314          0           1.11112            0                0.20193                     0               1                          -100      11.1122\n",
       "    16       1                           0.0596662          0           1                  0                0.181735                    0               1                          -100      0"
      ]
     },
     "metadata": {},
     "output_type": "display_data"
    },
    {
     "name": "stdout",
     "output_type": "stream",
     "text": [
      "\n",
      "\n",
      "ModelMetricsBinomialGLM: stackedensemble\n",
      "** Reported on validation data. **\n",
      "\n",
      "MSE: 0.1386155064494514\n",
      "RMSE: 0.37231103455236375\n",
      "LogLoss: 0.44063435028299724\n",
      "Null degrees of freedom: 34532\n",
      "Residual degrees of freedom: 34527\n",
      "Null deviance: 32853.05243414602\n",
      "Residual deviance: 30432.852036645483\n",
      "AIC: 30444.852036645483\n",
      "AUC: 0.6955444324815334\n",
      "Gini: 0.39108886496306683\n",
      "Confusion Matrix (Act/Pred) for max f1 @ threshold = 0.16962774846672032: \n"
     ]
    },
    {
     "data": {
      "text/html": [
       "<div style=\"overflow:auto\"><table style=\"width:50%\"><tr><td><b></b></td>\n",
       "<td><b>0</b></td>\n",
       "<td><b>1</b></td>\n",
       "<td><b>Error</b></td>\n",
       "<td><b>Rate</b></td></tr>\n",
       "<tr><td>0</td>\n",
       "<td>18679.0</td>\n",
       "<td>9540.0</td>\n",
       "<td>0.3381</td>\n",
       "<td> (9540.0/28219.0)</td></tr>\n",
       "<tr><td>1</td>\n",
       "<td>2394.0</td>\n",
       "<td>3920.0</td>\n",
       "<td>0.3792</td>\n",
       "<td> (2394.0/6314.0)</td></tr>\n",
       "<tr><td>Total</td>\n",
       "<td>21073.0</td>\n",
       "<td>13460.0</td>\n",
       "<td>0.3456</td>\n",
       "<td> (11934.0/34533.0)</td></tr></table></div>"
      ],
      "text/plain": [
       "       0      1      Error    Rate\n",
       "-----  -----  -----  -------  -----------------\n",
       "0      18679  9540   0.3381   (9540.0/28219.0)\n",
       "1      2394   3920   0.3792   (2394.0/6314.0)\n",
       "Total  21073  13460  0.3456   (11934.0/34533.0)"
      ]
     },
     "metadata": {},
     "output_type": "display_data"
    },
    {
     "name": "stdout",
     "output_type": "stream",
     "text": [
      "Maximum Metrics: Maximum metrics at their respective thresholds\n",
      "\n"
     ]
    },
    {
     "data": {
      "text/html": [
       "<div style=\"overflow:auto\"><table style=\"width:50%\"><tr><td><b>metric</b></td>\n",
       "<td><b>threshold</b></td>\n",
       "<td><b>value</b></td>\n",
       "<td><b>idx</b></td></tr>\n",
       "<tr><td>max f1</td>\n",
       "<td>0.1696277</td>\n",
       "<td>0.3964802</td>\n",
       "<td>270.0</td></tr>\n",
       "<tr><td>max f2</td>\n",
       "<td>0.1088220</td>\n",
       "<td>0.5595105</td>\n",
       "<td>343.0</td></tr>\n",
       "<tr><td>max f0point5</td>\n",
       "<td>0.2992587</td>\n",
       "<td>0.3615403</td>\n",
       "<td>166.0</td></tr>\n",
       "<tr><td>max accuracy</td>\n",
       "<td>0.6328676</td>\n",
       "<td>0.8175368</td>\n",
       "<td>20.0</td></tr>\n",
       "<tr><td>max precision</td>\n",
       "<td>0.7392779</td>\n",
       "<td>0.75</td>\n",
       "<td>1.0</td></tr>\n",
       "<tr><td>max recall</td>\n",
       "<td>0.0630169</td>\n",
       "<td>1.0</td>\n",
       "<td>398.0</td></tr>\n",
       "<tr><td>max specificity</td>\n",
       "<td>0.7609547</td>\n",
       "<td>0.9999646</td>\n",
       "<td>0.0</td></tr>\n",
       "<tr><td>max absolute_mcc</td>\n",
       "<td>0.2040986</td>\n",
       "<td>0.2266158</td>\n",
       "<td>237.0</td></tr>\n",
       "<tr><td>max min_per_class_accuracy</td>\n",
       "<td>0.1639268</td>\n",
       "<td>0.6406398</td>\n",
       "<td>276.0</td></tr>\n",
       "<tr><td>max mean_per_class_accuracy</td>\n",
       "<td>0.1559873</td>\n",
       "<td>0.6424841</td>\n",
       "<td>284.0</td></tr></table></div>"
      ],
      "text/plain": [
       "metric                       threshold    value     idx\n",
       "---------------------------  -----------  --------  -----\n",
       "max f1                       0.169628     0.39648   270\n",
       "max f2                       0.108822     0.55951   343\n",
       "max f0point5                 0.299259     0.36154   166\n",
       "max accuracy                 0.632868     0.817537  20\n",
       "max precision                0.739278     0.75      1\n",
       "max recall                   0.0630169    1         398\n",
       "max specificity              0.760955     0.999965  0\n",
       "max absolute_mcc             0.204099     0.226616  237\n",
       "max min_per_class_accuracy   0.163927     0.64064   276\n",
       "max mean_per_class_accuracy  0.155987     0.642484  284"
      ]
     },
     "metadata": {},
     "output_type": "display_data"
    },
    {
     "name": "stdout",
     "output_type": "stream",
     "text": [
      "Gains/Lift Table: Avg response rate: 18.28 %\n",
      "\n"
     ]
    },
    {
     "data": {
      "text/html": [
       "<div style=\"overflow:auto\"><table style=\"width:50%\"><tr><td><b></b></td>\n",
       "<td><b>group</b></td>\n",
       "<td><b>cumulative_data_fraction</b></td>\n",
       "<td><b>lower_threshold</b></td>\n",
       "<td><b>lift</b></td>\n",
       "<td><b>cumulative_lift</b></td>\n",
       "<td><b>response_rate</b></td>\n",
       "<td><b>cumulative_response_rate</b></td>\n",
       "<td><b>capture_rate</b></td>\n",
       "<td><b>cumulative_capture_rate</b></td>\n",
       "<td><b>gain</b></td>\n",
       "<td><b>cumulative_gain</b></td></tr>\n",
       "<tr><td></td>\n",
       "<td>1</td>\n",
       "<td>0.0100194</td>\n",
       "<td>0.5740896</td>\n",
       "<td>2.7504445</td>\n",
       "<td>2.7504445</td>\n",
       "<td>0.5028902</td>\n",
       "<td>0.5028902</td>\n",
       "<td>0.0275578</td>\n",
       "<td>0.0275578</td>\n",
       "<td>175.0444466</td>\n",
       "<td>175.0444466</td></tr>\n",
       "<tr><td></td>\n",
       "<td>2</td>\n",
       "<td>0.0200098</td>\n",
       "<td>0.5170237</td>\n",
       "<td>2.5206222</td>\n",
       "<td>2.6356996</td>\n",
       "<td>0.4608696</td>\n",
       "<td>0.4819103</td>\n",
       "<td>0.0251821</td>\n",
       "<td>0.0527399</td>\n",
       "<td>152.0622220</td>\n",
       "<td>163.5699640</td></tr>\n",
       "<tr><td></td>\n",
       "<td>3</td>\n",
       "<td>0.0300003</td>\n",
       "<td>0.4769825</td>\n",
       "<td>2.3779455</td>\n",
       "<td>2.5498645</td>\n",
       "<td>0.4347826</td>\n",
       "<td>0.4662162</td>\n",
       "<td>0.0237567</td>\n",
       "<td>0.0764967</td>\n",
       "<td>137.7945490</td>\n",
       "<td>154.9864522</td></tr>\n",
       "<tr><td></td>\n",
       "<td>4</td>\n",
       "<td>0.0400197</td>\n",
       "<td>0.4439816</td>\n",
       "<td>2.6872159</td>\n",
       "<td>2.5842520</td>\n",
       "<td>0.4913295</td>\n",
       "<td>0.4725036</td>\n",
       "<td>0.0269243</td>\n",
       "<td>0.1034210</td>\n",
       "<td>168.7215858</td>\n",
       "<td>158.4252049</td></tr>\n",
       "<tr><td></td>\n",
       "<td>5</td>\n",
       "<td>0.0500101</td>\n",
       "<td>0.4190918</td>\n",
       "<td>2.2511217</td>\n",
       "<td>2.5177031</td>\n",
       "<td>0.4115942</td>\n",
       "<td>0.4603358</td>\n",
       "<td>0.0224897</td>\n",
       "<td>0.1259107</td>\n",
       "<td>125.1121731</td>\n",
       "<td>151.7703144</td></tr>\n",
       "<tr><td></td>\n",
       "<td>6</td>\n",
       "<td>0.1000203</td>\n",
       "<td>0.3389184</td>\n",
       "<td>1.9571579</td>\n",
       "<td>2.2374305</td>\n",
       "<td>0.3578460</td>\n",
       "<td>0.4090909</td>\n",
       "<td>0.0978777</td>\n",
       "<td>0.2237884</td>\n",
       "<td>95.7157915</td>\n",
       "<td>123.7430530</td></tr>\n",
       "<tr><td></td>\n",
       "<td>7</td>\n",
       "<td>0.1500014</td>\n",
       "<td>0.2877967</td>\n",
       "<td>1.7016225</td>\n",
       "<td>2.0588968</td>\n",
       "<td>0.3111240</td>\n",
       "<td>0.3764479</td>\n",
       "<td>0.0850491</td>\n",
       "<td>0.3088375</td>\n",
       "<td>70.1622523</td>\n",
       "<td>105.8896819</td></tr>\n",
       "<tr><td></td>\n",
       "<td>8</td>\n",
       "<td>0.2000116</td>\n",
       "<td>0.2510326</td>\n",
       "<td>1.5486250</td>\n",
       "<td>1.9313104</td>\n",
       "<td>0.2831500</td>\n",
       "<td>0.3531200</td>\n",
       "<td>0.0774469</td>\n",
       "<td>0.3862844</td>\n",
       "<td>54.8624953</td>\n",
       "<td>93.1310383</td></tr>\n",
       "<tr><td></td>\n",
       "<td>9</td>\n",
       "<td>0.3000029</td>\n",
       "<td>0.1996482</td>\n",
       "<td>1.3035659</td>\n",
       "<td>1.7220824</td>\n",
       "<td>0.2383435</td>\n",
       "<td>0.3148649</td>\n",
       "<td>0.1303453</td>\n",
       "<td>0.5166297</td>\n",
       "<td>30.3565890</td>\n",
       "<td>72.2082417</td></tr>\n",
       "<tr><td></td>\n",
       "<td>10</td>\n",
       "<td>0.3999942</td>\n",
       "<td>0.1661248</td>\n",
       "<td>1.1372543</td>\n",
       "<td>1.5758860</td>\n",
       "<td>0.2079351</td>\n",
       "<td>0.2881344</td>\n",
       "<td>0.1137156</td>\n",
       "<td>0.6303453</td>\n",
       "<td>13.7254325</td>\n",
       "<td>57.5885978</td></tr>\n",
       "<tr><td></td>\n",
       "<td>11</td>\n",
       "<td>0.5000145</td>\n",
       "<td>0.1428530</td>\n",
       "<td>0.9579940</td>\n",
       "<td>1.4522861</td>\n",
       "<td>0.1751592</td>\n",
       "<td>0.2655354</td>\n",
       "<td>0.0958188</td>\n",
       "<td>0.7261641</td>\n",
       "<td>-4.2006037</td>\n",
       "<td>45.2286105</td></tr>\n",
       "<tr><td></td>\n",
       "<td>12</td>\n",
       "<td>0.6000058</td>\n",
       "<td>0.1251349</td>\n",
       "<td>0.8315578</td>\n",
       "<td>1.3488414</td>\n",
       "<td>0.1520417</td>\n",
       "<td>0.2466216</td>\n",
       "<td>0.0831486</td>\n",
       "<td>0.8093126</td>\n",
       "<td>-16.8442172</td>\n",
       "<td>34.8841378</td></tr>\n",
       "<tr><td></td>\n",
       "<td>13</td>\n",
       "<td>0.6999971</td>\n",
       "<td>0.1105853</td>\n",
       "<td>0.6541588</td>\n",
       "<td>1.2496092</td>\n",
       "<td>0.1196061</td>\n",
       "<td>0.2284781</td>\n",
       "<td>0.0654102</td>\n",
       "<td>0.8747228</td>\n",
       "<td>-34.5841175</td>\n",
       "<td>24.9609224</td></tr>\n",
       "<tr><td></td>\n",
       "<td>14</td>\n",
       "<td>0.7999884</td>\n",
       "<td>0.0972857</td>\n",
       "<td>0.5591236</td>\n",
       "<td>1.1633048</td>\n",
       "<td>0.1022299</td>\n",
       "<td>0.2126982</td>\n",
       "<td>0.0559075</td>\n",
       "<td>0.9306303</td>\n",
       "<td>-44.0876356</td>\n",
       "<td>16.3304775</td></tr>\n",
       "<tr><td></td>\n",
       "<td>15</td>\n",
       "<td>0.8999797</td>\n",
       "<td>0.0830655</td>\n",
       "<td>0.4514171</td>\n",
       "<td>1.0842112</td>\n",
       "<td>0.0825369</td>\n",
       "<td>0.1982368</td>\n",
       "<td>0.0451378</td>\n",
       "<td>0.9757681</td>\n",
       "<td>-54.8582893</td>\n",
       "<td>8.4211235</td></tr>\n",
       "<tr><td></td>\n",
       "<td>16</td>\n",
       "<td>1.0</td>\n",
       "<td>0.0589179</td>\n",
       "<td>0.2422695</td>\n",
       "<td>1.0</td>\n",
       "<td>0.0442965</td>\n",
       "<td>0.1828396</td>\n",
       "<td>0.0242319</td>\n",
       "<td>1.0</td>\n",
       "<td>-75.7730452</td>\n",
       "<td>0.0</td></tr></table></div>"
      ],
      "text/plain": [
       "    group    cumulative_data_fraction    lower_threshold    lift      cumulative_lift    response_rate    cumulative_response_rate    capture_rate    cumulative_capture_rate    gain      cumulative_gain\n",
       "--  -------  --------------------------  -----------------  --------  -----------------  ---------------  --------------------------  --------------  -------------------------  --------  -----------------\n",
       "    1        0.0100194                   0.57409            2.75044   2.75044            0.50289          0.50289                     0.0275578       0.0275578                  175.044   175.044\n",
       "    2        0.0200098                   0.517024           2.52062   2.6357             0.46087          0.48191                     0.0251821       0.0527399                  152.062   163.57\n",
       "    3        0.0300003                   0.476983           2.37795   2.54986            0.434783         0.466216                    0.0237567       0.0764967                  137.795   154.986\n",
       "    4        0.0400197                   0.443982           2.68722   2.58425            0.491329         0.472504                    0.0269243       0.103421                   168.722   158.425\n",
       "    5        0.0500101                   0.419092           2.25112   2.5177             0.411594         0.460336                    0.0224897       0.125911                   125.112   151.77\n",
       "    6        0.10002                     0.338918           1.95716   2.23743            0.357846         0.409091                    0.0978777       0.223788                   95.7158   123.743\n",
       "    7        0.150001                    0.287797           1.70162   2.0589             0.311124         0.376448                    0.0850491       0.308838                   70.1623   105.89\n",
       "    8        0.200012                    0.251033           1.54862   1.93131            0.28315          0.35312                     0.0774469       0.386284                   54.8625   93.131\n",
       "    9        0.300003                    0.199648           1.30357   1.72208            0.238343         0.314865                    0.130345        0.51663                    30.3566   72.2082\n",
       "    10       0.399994                    0.166125           1.13725   1.57589            0.207935         0.288134                    0.113716        0.630345                   13.7254   57.5886\n",
       "    11       0.500014                    0.142853           0.957994  1.45229            0.175159         0.265535                    0.0958188       0.726164                   -4.2006   45.2286\n",
       "    12       0.600006                    0.125135           0.831558  1.34884            0.152042         0.246622                    0.0831486       0.809313                   -16.8442  34.8841\n",
       "    13       0.699997                    0.110585           0.654159  1.24961            0.119606         0.228478                    0.0654102       0.874723                   -34.5841  24.9609\n",
       "    14       0.799988                    0.0972857          0.559124  1.1633             0.10223          0.212698                    0.0559075       0.93063                    -44.0876  16.3305\n",
       "    15       0.89998                     0.0830655          0.451417  1.08421            0.0825369        0.198237                    0.0451378       0.975768                   -54.8583  8.42112\n",
       "    16       1                           0.0589179          0.24227   1                  0.0442965        0.18284                     0.0242319       1                          -75.773   0"
      ]
     },
     "metadata": {},
     "output_type": "display_data"
    },
    {
     "name": "stdout",
     "output_type": "stream",
     "text": [
      "\n"
     ]
    },
    {
     "data": {
      "text/plain": []
     },
     "execution_count": 16,
     "metadata": {},
     "output_type": "execute_result"
    }
   ],
   "source": [
    "# view best model \n",
    "best = auto.leader\n",
    "best # must use predict(), no POJO/MOJO available yet for Stacked Ensemble"
   ]
  },
  {
   "cell_type": "code",
   "execution_count": 15,
   "metadata": {
    "collapsed": false
   },
   "outputs": [
    {
     "name": "stdout",
     "output_type": "stream",
     "text": [
      "Are you sure you want to shutdown the H2O instance running at http://127.0.0.1:54321 (Y/N)? y\n",
      "H2O session _sid_955e closed.\n"
     ]
    }
   ],
   "source": [
    "# shutdown h2o ... be careful this can erase your work\n",
    "h2o.cluster().shutdown(prompt=True)"
   ]
  }
 ],
 "metadata": {
  "anaconda-cloud": {},
  "kernelspec": {
   "display_name": "Python [conda root]",
   "language": "python",
   "name": "conda-root-py"
  },
  "language_info": {
   "codemirror_mode": {
    "name": "ipython",
    "version": 3
   },
   "file_extension": ".py",
   "mimetype": "text/x-python",
   "name": "python",
   "nbconvert_exporter": "python",
   "pygments_lexer": "ipython3",
   "version": "3.5.2"
  }
 },
 "nbformat": 4,
 "nbformat_minor": 2
}
