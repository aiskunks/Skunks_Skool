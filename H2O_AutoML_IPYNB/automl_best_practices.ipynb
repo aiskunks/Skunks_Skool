{
 "cells": [
  {
   "cell_type": "markdown",
   "metadata": {},
   "source": [
    "# Best Practices - H2O AutoML\n",
    "\n",
    "This tutorial focuses on two areas for the data scientist to ensure the best performance by AutoML: \n",
    "\n",
    "* choosing the correct validation data\n",
    "* feature engineering"
   ]
  },
  {
   "cell_type": "markdown",
   "metadata": {},
   "source": [
    "## Section 1 - Choosing the Correct Validation Data\n",
    "\n",
    "For this tutorial, we want to use H2O AutoML to build a model to predict the price of Airbnb's: <https://www.kaggle.com/dgomonov/new-york-city-airbnb-open-data>.\n",
    "\n",
    "All AutoML software follows the same basic approach: try multiple models and see which one performs the best.  Where the data scientist comes into play is making sure that the way the AutoML framework measures \"best\" is in agreement with how this model will be used in real life. \n",
    "\n",
    "For example, if you are building a model that will be used to predict sales in a new territory, then you would want AutoML to use validation data that consists of a different territory than what is seen in the training data.  If you use the default cross validation setting, you will most likely get over optimistic results. \n",
    "\n",
    "In this tutorial, we will show how to use AutoML if you expect the scoring data to be the same as your training data and if you expect the socring data to encounter a new situation.\n",
    "\n",
    "\n",
    "### Use Case 1 - Random Split\n",
    "\n",
    "#### Step 1: Import Data"
   ]
  },
  {
   "cell_type": "code",
   "execution_count": 24,
   "metadata": {},
   "outputs": [
    {
     "name": "stdout",
     "output_type": "stream",
     "text": [
      "Checking whether there is an H2O instance running at http://localhost:54321 ..... not found.\n",
      "Attempting to start a local H2O server...\n",
      "  Java Version: java version \"12.0.2\" 2019-07-16; Java(TM) SE Runtime Environment (build 12.0.2+10); Java HotSpot(TM) 64-Bit Server VM (build 12.0.2+10, mixed mode, sharing)\n",
      "  Starting server from /Users/megankurka/env2/lib/python3.6/site-packages/h2o/backend/bin/h2o.jar\n",
      "  Ice root: /var/folders/fk/z2fjbsq163scfcsq9fhsw7r00000gn/T/tmp3wz7idm2\n",
      "  JVM stdout: /var/folders/fk/z2fjbsq163scfcsq9fhsw7r00000gn/T/tmp3wz7idm2/h2o_megankurka_started_from_python.out\n",
      "  JVM stderr: /var/folders/fk/z2fjbsq163scfcsq9fhsw7r00000gn/T/tmp3wz7idm2/h2o_megankurka_started_from_python.err\n",
      "  Server is running at http://127.0.0.1:54321\n",
      "Connecting to H2O server at http://127.0.0.1:54321 ... successful.\n"
     ]
    },
    {
     "data": {
      "text/html": [
       "<div style=\"overflow:auto\"><table style=\"width:50%\"><tr><td>H2O cluster uptime:</td>\n",
       "<td>01 secs</td></tr>\n",
       "<tr><td>H2O cluster timezone:</td>\n",
       "<td>America/New_York</td></tr>\n",
       "<tr><td>H2O data parsing timezone:</td>\n",
       "<td>UTC</td></tr>\n",
       "<tr><td>H2O cluster version:</td>\n",
       "<td>3.28.0.4</td></tr>\n",
       "<tr><td>H2O cluster version age:</td>\n",
       "<td>2 months </td></tr>\n",
       "<tr><td>H2O cluster name:</td>\n",
       "<td>H2O_from_python_megankurka_m5wc4m</td></tr>\n",
       "<tr><td>H2O cluster total nodes:</td>\n",
       "<td>1</td></tr>\n",
       "<tr><td>H2O cluster free memory:</td>\n",
       "<td>4 Gb</td></tr>\n",
       "<tr><td>H2O cluster total cores:</td>\n",
       "<td>16</td></tr>\n",
       "<tr><td>H2O cluster allowed cores:</td>\n",
       "<td>16</td></tr>\n",
       "<tr><td>H2O cluster status:</td>\n",
       "<td>accepting new members, healthy</td></tr>\n",
       "<tr><td>H2O connection url:</td>\n",
       "<td>http://127.0.0.1:54321</td></tr>\n",
       "<tr><td>H2O connection proxy:</td>\n",
       "<td>{'http': None, 'https': None}</td></tr>\n",
       "<tr><td>H2O internal security:</td>\n",
       "<td>False</td></tr>\n",
       "<tr><td>H2O API Extensions:</td>\n",
       "<td>Amazon S3, XGBoost, Algos, AutoML, Core V3, TargetEncoder, Core V4</td></tr>\n",
       "<tr><td>Python version:</td>\n",
       "<td>3.6.8 final</td></tr></table></div>"
      ],
      "text/plain": [
       "--------------------------  ------------------------------------------------------------------\n",
       "H2O cluster uptime:         01 secs\n",
       "H2O cluster timezone:       America/New_York\n",
       "H2O data parsing timezone:  UTC\n",
       "H2O cluster version:        3.28.0.4\n",
       "H2O cluster version age:    2 months\n",
       "H2O cluster name:           H2O_from_python_megankurka_m5wc4m\n",
       "H2O cluster total nodes:    1\n",
       "H2O cluster free memory:    4 Gb\n",
       "H2O cluster total cores:    16\n",
       "H2O cluster allowed cores:  16\n",
       "H2O cluster status:         accepting new members, healthy\n",
       "H2O connection url:         http://127.0.0.1:54321\n",
       "H2O connection proxy:       {'http': None, 'https': None}\n",
       "H2O internal security:      False\n",
       "H2O API Extensions:         Amazon S3, XGBoost, Algos, AutoML, Core V3, TargetEncoder, Core V4\n",
       "Python version:             3.6.8 final\n",
       "--------------------------  ------------------------------------------------------------------"
      ]
     },
     "metadata": {},
     "output_type": "display_data"
    }
   ],
   "source": [
    "import h2o\n",
    "h2o.init()"
   ]
  },
  {
   "cell_type": "code",
   "execution_count": 25,
   "metadata": {},
   "outputs": [
    {
     "name": "stdout",
     "output_type": "stream",
     "text": [
      "Parse progress: |█████████████████████████████████████████████████████████| 100%\n"
     ]
    }
   ],
   "source": [
    "data_path = \"../../../../Data/Airbnb/AB_NYC_2019.csv\"\n",
    "data = h2o.import_file(data_path, destination_frame = \"airbnb_data\", col_types = {\"host_id\": \"enum\"})"
   ]
  },
  {
   "cell_type": "code",
   "execution_count": 26,
   "metadata": {},
   "outputs": [
    {
     "data": {
      "text/html": [
       "<table>\n",
       "<thead>\n",
       "<tr><th style=\"text-align: right;\">  id</th><th>name                                            </th><th style=\"text-align: right;\">  host_id</th><th>host_name  </th><th>neighbourhood_group  </th><th>neighbourhood     </th><th style=\"text-align: right;\">  latitude</th><th style=\"text-align: right;\">  longitude</th><th>room_type      </th><th style=\"text-align: right;\">  price</th><th style=\"text-align: right;\">  minimum_nights</th><th style=\"text-align: right;\">  number_of_reviews</th><th>last_review        </th><th style=\"text-align: right;\">  reviews_per_month</th><th style=\"text-align: right;\">  calculated_host_listings_count</th><th style=\"text-align: right;\">  availability_365</th></tr>\n",
       "</thead>\n",
       "<tbody>\n",
       "<tr><td style=\"text-align: right;\">2539</td><td>Clean & quiet apt home by the park              </td><td style=\"text-align: right;\">     2787</td><td>John       </td><td>Brooklyn             </td><td>Kensington        </td><td style=\"text-align: right;\">   40.6475</td><td style=\"text-align: right;\">   -73.9724</td><td>Private room   </td><td style=\"text-align: right;\">    149</td><td style=\"text-align: right;\">               1</td><td style=\"text-align: right;\">                  9</td><td>2018-10-19 00:00:00</td><td style=\"text-align: right;\">               0.21</td><td style=\"text-align: right;\">                               6</td><td style=\"text-align: right;\">               365</td></tr>\n",
       "<tr><td style=\"text-align: right;\">2595</td><td>Skylit Midtown Castle                           </td><td style=\"text-align: right;\">     2845</td><td>Jennifer   </td><td>Manhattan            </td><td>Midtown           </td><td style=\"text-align: right;\">   40.7536</td><td style=\"text-align: right;\">   -73.9838</td><td>Entire home/apt</td><td style=\"text-align: right;\">    225</td><td style=\"text-align: right;\">               1</td><td style=\"text-align: right;\">                 45</td><td>2019-05-21 00:00:00</td><td style=\"text-align: right;\">               0.38</td><td style=\"text-align: right;\">                               2</td><td style=\"text-align: right;\">               355</td></tr>\n",
       "<tr><td style=\"text-align: right;\">3647</td><td>THE VILLAGE OF HARLEM....NEW YORK !             </td><td style=\"text-align: right;\">     4632</td><td>Elisabeth  </td><td>Manhattan            </td><td>Harlem            </td><td style=\"text-align: right;\">   40.809 </td><td style=\"text-align: right;\">   -73.9419</td><td>Private room   </td><td style=\"text-align: right;\">    150</td><td style=\"text-align: right;\">               3</td><td style=\"text-align: right;\">                  0</td><td>                   </td><td style=\"text-align: right;\">             nan   </td><td style=\"text-align: right;\">                               1</td><td style=\"text-align: right;\">               365</td></tr>\n",
       "<tr><td style=\"text-align: right;\">3831</td><td>Cozy Entire Floor of Brownstone                 </td><td style=\"text-align: right;\">     4869</td><td>LisaRoxanne</td><td>Brooklyn             </td><td>Clinton Hill      </td><td style=\"text-align: right;\">   40.6851</td><td style=\"text-align: right;\">   -73.9598</td><td>Entire home/apt</td><td style=\"text-align: right;\">     89</td><td style=\"text-align: right;\">               1</td><td style=\"text-align: right;\">                270</td><td>2019-07-05 00:00:00</td><td style=\"text-align: right;\">               4.64</td><td style=\"text-align: right;\">                               1</td><td style=\"text-align: right;\">               194</td></tr>\n",
       "<tr><td style=\"text-align: right;\">5022</td><td>Entire Apt: Spacious Studio/Loft by central park</td><td style=\"text-align: right;\">     7192</td><td>Laura      </td><td>Manhattan            </td><td>East Harlem       </td><td style=\"text-align: right;\">   40.7985</td><td style=\"text-align: right;\">   -73.944 </td><td>Entire home/apt</td><td style=\"text-align: right;\">     80</td><td style=\"text-align: right;\">              10</td><td style=\"text-align: right;\">                  9</td><td>2018-11-19 00:00:00</td><td style=\"text-align: right;\">               0.1 </td><td style=\"text-align: right;\">                               1</td><td style=\"text-align: right;\">                 0</td></tr>\n",
       "<tr><td style=\"text-align: right;\">5099</td><td>Large Cozy 1 BR Apartment In Midtown East       </td><td style=\"text-align: right;\">     7322</td><td>Chris      </td><td>Manhattan            </td><td>Murray Hill       </td><td style=\"text-align: right;\">   40.7477</td><td style=\"text-align: right;\">   -73.975 </td><td>Entire home/apt</td><td style=\"text-align: right;\">    200</td><td style=\"text-align: right;\">               3</td><td style=\"text-align: right;\">                 74</td><td>2019-06-22 00:00:00</td><td style=\"text-align: right;\">               0.59</td><td style=\"text-align: right;\">                               1</td><td style=\"text-align: right;\">               129</td></tr>\n",
       "<tr><td style=\"text-align: right;\">5121</td><td>BlissArtsSpace!                                 </td><td style=\"text-align: right;\">     7356</td><td>Garon      </td><td>Brooklyn             </td><td>Bedford-Stuyvesant</td><td style=\"text-align: right;\">   40.6869</td><td style=\"text-align: right;\">   -73.956 </td><td>Private room   </td><td style=\"text-align: right;\">     60</td><td style=\"text-align: right;\">              45</td><td style=\"text-align: right;\">                 49</td><td>2017-10-05 00:00:00</td><td style=\"text-align: right;\">               0.4 </td><td style=\"text-align: right;\">                               1</td><td style=\"text-align: right;\">                 0</td></tr>\n",
       "<tr><td style=\"text-align: right;\">5178</td><td>Large Furnished Room Near B'way                 </td><td style=\"text-align: right;\">     8967</td><td>Shunichi   </td><td>Manhattan            </td><td>Hell's Kitchen    </td><td style=\"text-align: right;\">   40.7649</td><td style=\"text-align: right;\">   -73.9849</td><td>Private room   </td><td style=\"text-align: right;\">     79</td><td style=\"text-align: right;\">               2</td><td style=\"text-align: right;\">                430</td><td>2019-06-24 00:00:00</td><td style=\"text-align: right;\">               3.47</td><td style=\"text-align: right;\">                               1</td><td style=\"text-align: right;\">               220</td></tr>\n",
       "<tr><td style=\"text-align: right;\">5203</td><td>Cozy Clean Guest Room - Family Apt              </td><td style=\"text-align: right;\">     7490</td><td>MaryEllen  </td><td>Manhattan            </td><td>Upper West Side   </td><td style=\"text-align: right;\">   40.8018</td><td style=\"text-align: right;\">   -73.9672</td><td>Private room   </td><td style=\"text-align: right;\">     79</td><td style=\"text-align: right;\">               2</td><td style=\"text-align: right;\">                118</td><td>2017-07-21 00:00:00</td><td style=\"text-align: right;\">               0.99</td><td style=\"text-align: right;\">                               1</td><td style=\"text-align: right;\">                 0</td></tr>\n",
       "<tr><td style=\"text-align: right;\">5238</td><td>Cute & Cozy Lower East Side 1 bdrm              </td><td style=\"text-align: right;\">     7549</td><td>Ben        </td><td>Manhattan            </td><td>Chinatown         </td><td style=\"text-align: right;\">   40.7134</td><td style=\"text-align: right;\">   -73.9904</td><td>Entire home/apt</td><td style=\"text-align: right;\">    150</td><td style=\"text-align: right;\">               1</td><td style=\"text-align: right;\">                160</td><td>2019-06-09 00:00:00</td><td style=\"text-align: right;\">               1.33</td><td style=\"text-align: right;\">                               4</td><td style=\"text-align: right;\">               188</td></tr>\n",
       "</tbody>\n",
       "</table>"
      ]
     },
     "metadata": {},
     "output_type": "display_data"
    },
    {
     "data": {
      "text/plain": []
     },
     "execution_count": 26,
     "metadata": {},
     "output_type": "execute_result"
    }
   ],
   "source": [
    "data.head()"
   ]
  },
  {
   "cell_type": "markdown",
   "metadata": {},
   "source": [
    "#### Step 2: Split Data into Training and Testing\n",
    "\n",
    "For Use Case 1, we will be splitting the data into training and testing at random."
   ]
  },
  {
   "cell_type": "code",
   "execution_count": 27,
   "metadata": {},
   "outputs": [],
   "source": [
    "train, test = data.split_frame(seed = 1234, destination_frames = [\"train.hex\", \"test.hex\"])"
   ]
  },
  {
   "cell_type": "markdown",
   "metadata": {},
   "source": [
    "#### Step 2: Check for Drift\n",
    "\n",
    "We will now check if there is any drift between our training and testing dataset.  This step is important because if drift is detected, we should not use AutoML's default cross validation but should instead provide our own validation data.  We know there should be no drift since we just randomly split our data."
   ]
  },
  {
   "cell_type": "code",
   "execution_count": 28,
   "metadata": {},
   "outputs": [],
   "source": [
    "train[\"is_train\"] = 1\n",
    "test[\"is_train\"] = 0\n",
    "\n",
    "drift_data = train.rbind(test)\n",
    "drift_data[\"is_train\"] = drift_data[\"is_train\"].asfactor()"
   ]
  },
  {
   "cell_type": "code",
   "execution_count": 29,
   "metadata": {},
   "outputs": [
    {
     "data": {
      "text/html": [
       "<table>\n",
       "<thead>\n",
       "<tr><th style=\"text-align: right;\">  is_train</th><th style=\"text-align: right;\">  Count</th></tr>\n",
       "</thead>\n",
       "<tbody>\n",
       "<tr><td style=\"text-align: right;\">         0</td><td style=\"text-align: right;\">  12213</td></tr>\n",
       "<tr><td style=\"text-align: right;\">         1</td><td style=\"text-align: right;\">  36682</td></tr>\n",
       "</tbody>\n",
       "</table>"
      ]
     },
     "metadata": {},
     "output_type": "display_data"
    },
    {
     "data": {
      "text/plain": []
     },
     "execution_count": 29,
     "metadata": {},
     "output_type": "execute_result"
    }
   ],
   "source": [
    "drift_data[\"is_train\"].table()"
   ]
  },
  {
   "cell_type": "code",
   "execution_count": 30,
   "metadata": {},
   "outputs": [
    {
     "name": "stdout",
     "output_type": "stream",
     "text": [
      "xgboost Model Build progress: |███████████████████████████████████████████| 100%\n"
     ]
    }
   ],
   "source": [
    "from h2o.estimators.xgboost import H2OXGBoostEstimator\n",
    "\n",
    "drift_model = H2OXGBoostEstimator(model_id = \"drift_model\", nfolds = 5, seed = 1234)\n",
    "drift_model.train(y = \"is_train\", training_frame=drift_data)"
   ]
  },
  {
   "cell_type": "code",
   "execution_count": 31,
   "metadata": {},
   "outputs": [
    {
     "data": {
      "text/plain": [
       "0.4972291493850322"
      ]
     },
     "execution_count": 31,
     "metadata": {},
     "output_type": "execute_result"
    }
   ],
   "source": [
    "drift_model.auc(xval = True)"
   ]
  },
  {
   "cell_type": "markdown",
   "metadata": {},
   "source": [
    "We can see that our model has horrible performance.  We are not able to separate the training data from the testing data. This tell us that we can use AutoML's default cross validation as validation."
   ]
  },
  {
   "cell_type": "markdown",
   "metadata": {},
   "source": [
    "#### Step 4: Run AutoML"
   ]
  },
  {
   "cell_type": "code",
   "execution_count": 13,
   "metadata": {},
   "outputs": [],
   "source": [
    "x = list(set(train.col_names) - set([\"price\", \"is_train\", \"id\", \"host_name\"]))"
   ]
  },
  {
   "cell_type": "code",
   "execution_count": 33,
   "metadata": {},
   "outputs": [
    {
     "name": "stdout",
     "output_type": "stream",
     "text": [
      "AutoML progress: |████████████████████████████████████████████████████████| 100%\n"
     ]
    }
   ],
   "source": [
    "from h2o.automl import H2OAutoML\n",
    "# Run AutoML for 10 base models (limited to 1 hour max runtime by default)\n",
    "aml = H2OAutoML(max_models=10, seed=1234, sort_metric=\"MAE\", project_name = \"random_split\")\n",
    "aml.train(x=x, y=\"price\", training_frame=train, leaderboard_frame = test)"
   ]
  },
  {
   "cell_type": "markdown",
   "metadata": {},
   "source": [
    "Our leaderboard is ordered by MAE (the model with the smallest MAE on the leaderboard frame is seen at the top)."
   ]
  },
  {
   "cell_type": "code",
   "execution_count": 34,
   "metadata": {},
   "outputs": [
    {
     "data": {
      "text/html": [
       "<table>\n",
       "<thead>\n",
       "<tr><th>model_id                                           </th><th style=\"text-align: right;\">    mae</th><th style=\"text-align: right;\">  mean_residual_deviance</th><th style=\"text-align: right;\">   rmse</th><th style=\"text-align: right;\">    mse</th><th style=\"text-align: right;\">     rmsle</th></tr>\n",
       "</thead>\n",
       "<tbody>\n",
       "<tr><td>XGBoost_1_AutoML_20200424_191834                   </td><td style=\"text-align: right;\">60.6917</td><td style=\"text-align: right;\">                 35856.6</td><td style=\"text-align: right;\">189.358</td><td style=\"text-align: right;\">35856.6</td><td style=\"text-align: right;\">nan       </td></tr>\n",
       "<tr><td>StackedEnsemble_BestOfFamily_AutoML_20200424_191834</td><td style=\"text-align: right;\">60.8347</td><td style=\"text-align: right;\">                 35215.5</td><td style=\"text-align: right;\">187.658</td><td style=\"text-align: right;\">35215.5</td><td style=\"text-align: right;\">  0.46247 </td></tr>\n",
       "<tr><td>StackedEnsemble_AllModels_AutoML_20200424_191834   </td><td style=\"text-align: right;\">61.5207</td><td style=\"text-align: right;\">                 34956.1</td><td style=\"text-align: right;\">186.966</td><td style=\"text-align: right;\">34956.1</td><td style=\"text-align: right;\">  0.466011</td></tr>\n",
       "<tr><td>XGBoost_2_AutoML_20200424_191834                   </td><td style=\"text-align: right;\">61.8524</td><td style=\"text-align: right;\">                 36990  </td><td style=\"text-align: right;\">192.328</td><td style=\"text-align: right;\">36990  </td><td style=\"text-align: right;\">  0.476568</td></tr>\n",
       "<tr><td>XGBoost_3_AutoML_20200424_191834                   </td><td style=\"text-align: right;\">62.0047</td><td style=\"text-align: right;\">                 36340  </td><td style=\"text-align: right;\">190.631</td><td style=\"text-align: right;\">36340  </td><td style=\"text-align: right;\">  0.491189</td></tr>\n",
       "<tr><td>DRF_1_AutoML_20200424_191834                       </td><td style=\"text-align: right;\">62.4632</td><td style=\"text-align: right;\">                 37461.4</td><td style=\"text-align: right;\">193.549</td><td style=\"text-align: right;\">37461.4</td><td style=\"text-align: right;\">  0.472444</td></tr>\n",
       "<tr><td>GBM_1_AutoML_20200424_191834                       </td><td style=\"text-align: right;\">62.5812</td><td style=\"text-align: right;\">                 36489.7</td><td style=\"text-align: right;\">191.023</td><td style=\"text-align: right;\">36489.7</td><td style=\"text-align: right;\">nan       </td></tr>\n",
       "<tr><td>GBM_2_AutoML_20200424_191834                       </td><td style=\"text-align: right;\">63.4477</td><td style=\"text-align: right;\">                 37935.7</td><td style=\"text-align: right;\">194.771</td><td style=\"text-align: right;\">37935.7</td><td style=\"text-align: right;\">nan       </td></tr>\n",
       "<tr><td>GBM_5_AutoML_20200424_191834                       </td><td style=\"text-align: right;\">63.6079</td><td style=\"text-align: right;\">                 37433  </td><td style=\"text-align: right;\">193.476</td><td style=\"text-align: right;\">37433  </td><td style=\"text-align: right;\">  0.484703</td></tr>\n",
       "<tr><td>GBM_3_AutoML_20200424_191834                       </td><td style=\"text-align: right;\">63.69  </td><td style=\"text-align: right;\">                 38300.5</td><td style=\"text-align: right;\">195.705</td><td style=\"text-align: right;\">38300.5</td><td style=\"text-align: right;\">nan       </td></tr>\n",
       "</tbody>\n",
       "</table>"
      ]
     },
     "metadata": {},
     "output_type": "display_data"
    },
    {
     "data": {
      "text/plain": []
     },
     "execution_count": 34,
     "metadata": {},
     "output_type": "execute_result"
    }
   ],
   "source": [
    "# View the AutoML Leaderboard\n",
    "lb = aml.leaderboard\n",
    "lb.head() "
   ]
  },
  {
   "cell_type": "markdown",
   "metadata": {},
   "source": [
    "#### Step 5: Review Best Model\n",
    "\n",
    "The best model is denoted as the `leader`.  We can review this model in more detail."
   ]
  },
  {
   "cell_type": "code",
   "execution_count": 35,
   "metadata": {},
   "outputs": [],
   "source": [
    "best_model = aml.leader"
   ]
  },
  {
   "cell_type": "code",
   "execution_count": 36,
   "metadata": {},
   "outputs": [
    {
     "name": "stdout",
     "output_type": "stream",
     "text": [
      "\n",
      "ModelMetricsRegression: xgboost\n",
      "** Reported on test data. **\n",
      "\n",
      "MSE: 35856.623696727744\n",
      "RMSE: 189.358452931808\n",
      "MAE: 60.69170458473172\n",
      "RMSLE: NaN\n",
      "Mean Residual Deviance: 35856.623696727744\n"
     ]
    },
    {
     "data": {
      "text/plain": []
     },
     "execution_count": 36,
     "metadata": {},
     "output_type": "execute_result"
    }
   ],
   "source": [
    "best_model.model_performance(test)"
   ]
  },
  {
   "cell_type": "code",
   "execution_count": 37,
   "metadata": {},
   "outputs": [
    {
     "data": {
      "image/png": "[encoded data removed]",
      "text/plain": [
       "<Figure size 1008x720 with 1 Axes>"
      ]
     },
     "metadata": {
      "needs_background": "light"
     },
     "output_type": "display_data"
    }
   ],
   "source": [
    "%matplotlib inline\n",
    "best_model.varimp_plot()"
   ]
  },
  {
   "cell_type": "code",
   "execution_count": 38,
   "metadata": {},
   "outputs": [
    {
     "name": "stdout",
     "output_type": "stream",
     "text": [
      "PartialDependencePlot progress: |█████████████████████████████████████████| 100%\n"
     ]
    },
    {
     "data": {
      "image/png": "[encoded data removed]",
      "text/plain": [
       "<Figure size 360x360 with 1 Axes>"
      ]
     },
     "metadata": {
      "needs_background": "light"
     },
     "output_type": "display_data"
    }
   ],
   "source": [
    "best_model.partial_plot(train, cols = [\"longitude\"], figsize = (5, 5));"
   ]
  },
  {
   "cell_type": "code",
   "execution_count": 39,
   "metadata": {},
   "outputs": [
    {
     "name": "stdout",
     "output_type": "stream",
     "text": [
      "PartialDependencePlot progress: |█████████████████████████████████████████| 100%\n"
     ]
    },
    {
     "data": {
      "image/png": "[encoded data removed]",
      "text/plain": [
       "<Figure size 360x360 with 1 Axes>"
      ]
     },
     "metadata": {
      "needs_background": "light"
     },
     "output_type": "display_data"
    }
   ],
   "source": [
    "best_model.partial_plot(train, cols = [\"latitude\"], figsize = (5, 5));"
   ]
  },
  {
   "cell_type": "code",
   "execution_count": 40,
   "metadata": {},
   "outputs": [
    {
     "name": "stdout",
     "output_type": "stream",
     "text": [
      "H2O session _sid_ab9c closed.\n"
     ]
    }
   ],
   "source": [
    "h2o.cluster().shutdown()"
   ]
  },
  {
   "cell_type": "markdown",
   "metadata": {},
   "source": [
    "### Use Case 2 - Split by Neighborhood Group\n",
    "\n",
    "In this case, we will assume that the model will be scored on airbnb's from a new neighbourhood group."
   ]
  },
  {
   "cell_type": "markdown",
   "metadata": {},
   "source": [
    "#### Step1: Import Data"
   ]
  },
  {
   "cell_type": "code",
   "execution_count": 1,
   "metadata": {},
   "outputs": [],
   "source": [
    "import h2o"
   ]
  },
  {
   "cell_type": "code",
   "execution_count": 2,
   "metadata": {
    "scrolled": true
   },
   "outputs": [
    {
     "name": "stdout",
     "output_type": "stream",
     "text": [
      "Checking whether there is an H2O instance running at http://localhost:54321 ..... not found.\n",
      "Attempting to start a local H2O server...\n",
      "  Java Version: java version \"12.0.2\" 2019-07-16; Java(TM) SE Runtime Environment (build 12.0.2+10); Java HotSpot(TM) 64-Bit Server VM (build 12.0.2+10, mixed mode, sharing)\n",
      "  Starting server from /Users/megankurka/env2/lib/python3.6/site-packages/h2o/backend/bin/h2o.jar\n",
      "  Ice root: /var/folders/fk/z2fjbsq163scfcsq9fhsw7r00000gn/T/tmp_qpt9dxy\n",
      "  JVM stdout: /var/folders/fk/z2fjbsq163scfcsq9fhsw7r00000gn/T/tmp_qpt9dxy/h2o_megankurka_started_from_python.out\n",
      "  JVM stderr: /var/folders/fk/z2fjbsq163scfcsq9fhsw7r00000gn/T/tmp_qpt9dxy/h2o_megankurka_started_from_python.err\n",
      "  Server is running at http://127.0.0.1:54321\n",
      "Connecting to H2O server at http://127.0.0.1:54321 ... successful.\n"
     ]
    },
    {
     "data": {
      "text/html": [
       "<div style=\"overflow:auto\"><table style=\"width:50%\"><tr><td>H2O cluster uptime:</td>\n",
       "<td>01 secs</td></tr>\n",
       "<tr><td>H2O cluster timezone:</td>\n",
       "<td>America/New_York</td></tr>\n",
       "<tr><td>H2O data parsing timezone:</td>\n",
       "<td>UTC</td></tr>\n",
       "<tr><td>H2O cluster version:</td>\n",
       "<td>3.28.0.4</td></tr>\n",
       "<tr><td>H2O cluster version age:</td>\n",
       "<td>2 months and 3 days </td></tr>\n",
       "<tr><td>H2O cluster name:</td>\n",
       "<td>H2O_from_python_megankurka_7eohen</td></tr>\n",
       "<tr><td>H2O cluster total nodes:</td>\n",
       "<td>1</td></tr>\n",
       "<tr><td>H2O cluster free memory:</td>\n",
       "<td>4 Gb</td></tr>\n",
       "<tr><td>H2O cluster total cores:</td>\n",
       "<td>16</td></tr>\n",
       "<tr><td>H2O cluster allowed cores:</td>\n",
       "<td>16</td></tr>\n",
       "<tr><td>H2O cluster status:</td>\n",
       "<td>accepting new members, healthy</td></tr>\n",
       "<tr><td>H2O connection url:</td>\n",
       "<td>http://127.0.0.1:54321</td></tr>\n",
       "<tr><td>H2O connection proxy:</td>\n",
       "<td>{'http': None, 'https': None}</td></tr>\n",
       "<tr><td>H2O internal security:</td>\n",
       "<td>False</td></tr>\n",
       "<tr><td>H2O API Extensions:</td>\n",
       "<td>Amazon S3, XGBoost, Algos, AutoML, Core V3, TargetEncoder, Core V4</td></tr>\n",
       "<tr><td>Python version:</td>\n",
       "<td>3.6.8 final</td></tr></table></div>"
      ],
      "text/plain": [
       "--------------------------  ------------------------------------------------------------------\n",
       "H2O cluster uptime:         01 secs\n",
       "H2O cluster timezone:       America/New_York\n",
       "H2O data parsing timezone:  UTC\n",
       "H2O cluster version:        3.28.0.4\n",
       "H2O cluster version age:    2 months and 3 days\n",
       "H2O cluster name:           H2O_from_python_megankurka_7eohen\n",
       "H2O cluster total nodes:    1\n",
       "H2O cluster free memory:    4 Gb\n",
       "H2O cluster total cores:    16\n",
       "H2O cluster allowed cores:  16\n",
       "H2O cluster status:         accepting new members, healthy\n",
       "H2O connection url:         http://127.0.0.1:54321\n",
       "H2O connection proxy:       {'http': None, 'https': None}\n",
       "H2O internal security:      False\n",
       "H2O API Extensions:         Amazon S3, XGBoost, Algos, AutoML, Core V3, TargetEncoder, Core V4\n",
       "Python version:             3.6.8 final\n",
       "--------------------------  ------------------------------------------------------------------"
      ]
     },
     "metadata": {},
     "output_type": "display_data"
    }
   ],
   "source": [
    "import time\n",
    "time.sleep(5)\n",
    "h2o.init()"
   ]
  },
  {
   "cell_type": "code",
   "execution_count": 3,
   "metadata": {},
   "outputs": [
    {
     "name": "stdout",
     "output_type": "stream",
     "text": [
      "Parse progress: |█████████████████████████████████████████████████████████| 100%\n"
     ]
    }
   ],
   "source": [
    "data_path = \"../../../../Data/Airbnb/AB_NYC_2019.csv\"\n",
    "data = h2o.import_file(data_path, destination_frame = \"airbnb_data\", col_types = {\"host_id\": \"enum\"})"
   ]
  },
  {
   "cell_type": "markdown",
   "metadata": {},
   "source": [
    "#### Step 1: Split Data into Training and Testing\n",
    "\n",
    "Since our model will be used to predict price on new neighborhood groups, we will create the test data so that it consists of only airbnb's whose `neighbourhood_group` = \"Queens\"."
   ]
  },
  {
   "cell_type": "code",
   "execution_count": 4,
   "metadata": {},
   "outputs": [],
   "source": [
    "train = data[data[\"neighbourhood_group\"] != \"Queens\"]\n",
    "test = data[data[\"neighbourhood_group\"] == \"Queens\"]"
   ]
  },
  {
   "cell_type": "code",
   "execution_count": 5,
   "metadata": {},
   "outputs": [],
   "source": [
    "train[\"neighbourhood_group\"] = train[\"neighbourhood_group\"].ascharacter().asfactor()\n",
    "test[\"neighbourhood_group\"] = test[\"neighbourhood_group\"].ascharacter().asfactor()"
   ]
  },
  {
   "cell_type": "markdown",
   "metadata": {},
   "source": [
    "#### Step 3: Check for Drift\n",
    "\n",
    "We will now check if there is any drift between our training and testing dataset.  We should detect drift since our test data consists of a never before seen `neighbourhood_group`."
   ]
  },
  {
   "cell_type": "code",
   "execution_count": 6,
   "metadata": {},
   "outputs": [],
   "source": [
    "train[\"is_train\"] = 1\n",
    "test[\"is_train\"] = 0\n",
    "\n",
    "drift_data = train.rbind(test)\n",
    "drift_data[\"is_train\"] = drift_data[\"is_train\"].asfactor()"
   ]
  },
  {
   "cell_type": "code",
   "execution_count": 7,
   "metadata": {},
   "outputs": [
    {
     "data": {
      "text/html": [
       "<table>\n",
       "<thead>\n",
       "<tr><th style=\"text-align: right;\">  is_train</th><th style=\"text-align: right;\">  Count</th></tr>\n",
       "</thead>\n",
       "<tbody>\n",
       "<tr><td style=\"text-align: right;\">         0</td><td style=\"text-align: right;\">   5666</td></tr>\n",
       "<tr><td style=\"text-align: right;\">         1</td><td style=\"text-align: right;\">  43229</td></tr>\n",
       "</tbody>\n",
       "</table>"
      ]
     },
     "metadata": {},
     "output_type": "display_data"
    },
    {
     "data": {
      "text/plain": []
     },
     "execution_count": 7,
     "metadata": {},
     "output_type": "execute_result"
    }
   ],
   "source": [
    "drift_data[\"is_train\"].table()"
   ]
  },
  {
   "cell_type": "code",
   "execution_count": 11,
   "metadata": {},
   "outputs": [
    {
     "name": "stdout",
     "output_type": "stream",
     "text": [
      "xgboost Model Build progress: |███████████████████████████████████████████| 100%\n"
     ]
    }
   ],
   "source": [
    "drift_model = H2OXGBoostEstimator(model_id = \"drift_model\", nfolds = 5, seed = 1234)\n",
    "drift_model.train(y = \"is_train\", training_frame=drift_data)"
   ]
  },
  {
   "cell_type": "code",
   "execution_count": 12,
   "metadata": {},
   "outputs": [
    {
     "data": {
      "text/plain": [
       "1.0"
      ]
     },
     "execution_count": 12,
     "metadata": {},
     "output_type": "execute_result"
    }
   ],
   "source": [
    "drift_model.auc(xval = True)"
   ]
  },
  {
   "cell_type": "markdown",
   "metadata": {},
   "source": [
    "We can see that our model has perfect performance.  This indicates that there is significant drift between the training and testing dataset. This makes sense since we have created our test data to mimic what will be seen in production (scoring on Airbnb's with a different `neighbourhood_group`).  \n",
    "\n",
    "For this use case, we should not use AutoML's default cross validation.  Instead, we should create a validation data that consists of a new Neighbourhood Group or use `neighbourhood_group` as the `fold_column`."
   ]
  },
  {
   "cell_type": "markdown",
   "metadata": {},
   "source": [
    "#### Step 4: Run AutoML"
   ]
  },
  {
   "cell_type": "code",
   "execution_count": 15,
   "metadata": {},
   "outputs": [
    {
     "name": "stdout",
     "output_type": "stream",
     "text": [
      "AutoML progress: |\n",
      "14:04:04.352: Fold column neighbourhood_group will be used for cross-validation. nfolds parameter will be ignored.\n",
      "\n",
      "████████████████████████████████████████████████████████| 100%\n"
     ]
    }
   ],
   "source": [
    "# Run AutoML for 10 base models (limited to 1 hour max runtime by default)\n",
    "aml_neighbourhood_group = H2OAutoML(max_models=10, seed=1234, sort_metric=\"MAE\", project_name = \"neighbourhood_group_split\")\n",
    "aml_neighbourhood_group.train(x=list(set(x) - set([\"neighbourhood_group\"])), y=\"price\", fold_column = \"neighbourhood_group\",\n",
    "                              training_frame=train, leaderboard_frame = test)"
   ]
  },
  {
   "cell_type": "code",
   "execution_count": 16,
   "metadata": {
    "scrolled": true
   },
   "outputs": [
    {
     "data": {
      "text/html": [
       "<table>\n",
       "<thead>\n",
       "<tr><th>model_id                                           </th><th style=\"text-align: right;\">    mae</th><th style=\"text-align: right;\">  mean_residual_deviance</th><th style=\"text-align: right;\">   rmse</th><th style=\"text-align: right;\">    mse</th><th style=\"text-align: right;\">     rmsle</th></tr>\n",
       "</thead>\n",
       "<tbody>\n",
       "<tr><td>GBM_3_AutoML_20200427_140404                       </td><td style=\"text-align: right;\">38.0974</td><td style=\"text-align: right;\">                 25254.6</td><td style=\"text-align: right;\">158.917</td><td style=\"text-align: right;\">25254.6</td><td style=\"text-align: right;\">nan       </td></tr>\n",
       "<tr><td>DRF_1_AutoML_20200427_140404                       </td><td style=\"text-align: right;\">38.2968</td><td style=\"text-align: right;\">                 26372.3</td><td style=\"text-align: right;\">162.396</td><td style=\"text-align: right;\">26372.3</td><td style=\"text-align: right;\">  0.453371</td></tr>\n",
       "<tr><td>GBM_2_AutoML_20200427_140404                       </td><td style=\"text-align: right;\">38.7683</td><td style=\"text-align: right;\">                 25491.3</td><td style=\"text-align: right;\">159.66 </td><td style=\"text-align: right;\">25491.3</td><td style=\"text-align: right;\">nan       </td></tr>\n",
       "<tr><td>GBM_4_AutoML_20200427_140404                       </td><td style=\"text-align: right;\">39.2676</td><td style=\"text-align: right;\">                 25495.6</td><td style=\"text-align: right;\">159.674</td><td style=\"text-align: right;\">25495.6</td><td style=\"text-align: right;\">nan       </td></tr>\n",
       "<tr><td>GBM_1_AutoML_20200427_140404                       </td><td style=\"text-align: right;\">40.3523</td><td style=\"text-align: right;\">                 20634.5</td><td style=\"text-align: right;\">143.647</td><td style=\"text-align: right;\">20634.5</td><td style=\"text-align: right;\">nan       </td></tr>\n",
       "<tr><td>GBM_5_AutoML_20200427_140404                       </td><td style=\"text-align: right;\">40.6984</td><td style=\"text-align: right;\">                 26688  </td><td style=\"text-align: right;\">163.365</td><td style=\"text-align: right;\">26688  </td><td style=\"text-align: right;\">nan       </td></tr>\n",
       "<tr><td>StackedEnsemble_BestOfFamily_AutoML_20200427_140404</td><td style=\"text-align: right;\">45.864 </td><td style=\"text-align: right;\">                 22265.2</td><td style=\"text-align: right;\">149.215</td><td style=\"text-align: right;\">22265.2</td><td style=\"text-align: right;\">  0.505749</td></tr>\n",
       "<tr><td>StackedEnsemble_AllModels_AutoML_20200427_140404   </td><td style=\"text-align: right;\">46.422 </td><td style=\"text-align: right;\">                 23248.4</td><td style=\"text-align: right;\">152.474</td><td style=\"text-align: right;\">23248.4</td><td style=\"text-align: right;\">  0.507481</td></tr>\n",
       "<tr><td>XGBoost_3_AutoML_20200427_140404                   </td><td style=\"text-align: right;\">48.5557</td><td style=\"text-align: right;\">                 22451.4</td><td style=\"text-align: right;\">149.838</td><td style=\"text-align: right;\">22451.4</td><td style=\"text-align: right;\">  0.540067</td></tr>\n",
       "<tr><td>XGBoost_1_AutoML_20200427_140404                   </td><td style=\"text-align: right;\">48.6665</td><td style=\"text-align: right;\">                 23501.3</td><td style=\"text-align: right;\">153.301</td><td style=\"text-align: right;\">23501.3</td><td style=\"text-align: right;\">  0.539574</td></tr>\n",
       "</tbody>\n",
       "</table>"
      ]
     },
     "metadata": {},
     "output_type": "display_data"
    },
    {
     "data": {
      "text/plain": []
     },
     "execution_count": 16,
     "metadata": {},
     "output_type": "execute_result"
    }
   ],
   "source": [
    "# Viewthe AutoML Leaderboard\n",
    "lb = aml_neighbourhood_group.leaderboard\n",
    "lb.head() "
   ]
  },
  {
   "cell_type": "markdown",
   "metadata": {},
   "source": [
    "#### Step 5: Compare with Defaults"
   ]
  },
  {
   "cell_type": "code",
   "execution_count": 17,
   "metadata": {},
   "outputs": [
    {
     "name": "stdout",
     "output_type": "stream",
     "text": [
      "AutoML progress: |████████████████████████████████████████████████████████| 100%\n"
     ]
    }
   ],
   "source": [
    "# Run AutoML for 10 base models (limited to 1 hour max runtime by default)\n",
    "aml_defaults = H2OAutoML(max_models=10, seed=1234, sort_metric=\"MAE\", project_name = \"neighbourhood_group_defaults\")\n",
    "aml_defaults.train(x=list(set(x) - set([\"neighbourhood_group\"])), y=\"price\", \n",
    "                   training_frame=train, leaderboard_frame = test)"
   ]
  },
  {
   "cell_type": "code",
   "execution_count": 18,
   "metadata": {},
   "outputs": [
    {
     "data": {
      "text/html": [
       "<table>\n",
       "<thead>\n",
       "<tr><th>model_id                                           </th><th style=\"text-align: right;\">    mae</th><th style=\"text-align: right;\">  mean_residual_deviance</th><th style=\"text-align: right;\">   rmse</th><th style=\"text-align: right;\">    mse</th><th style=\"text-align: right;\">     rmsle</th></tr>\n",
       "</thead>\n",
       "<tbody>\n",
       "<tr><td>DRF_1_AutoML_20200427_141232                       </td><td style=\"text-align: right;\">38.1067</td><td style=\"text-align: right;\">                 26338.9</td><td style=\"text-align: right;\">162.292</td><td style=\"text-align: right;\">26338.9</td><td style=\"text-align: right;\">  0.451432</td></tr>\n",
       "<tr><td>GBM_3_AutoML_20200427_141232                       </td><td style=\"text-align: right;\">38.1945</td><td style=\"text-align: right;\">                 25597.9</td><td style=\"text-align: right;\">159.993</td><td style=\"text-align: right;\">25597.9</td><td style=\"text-align: right;\">nan       </td></tr>\n",
       "<tr><td>GBM_2_AutoML_20200427_141232                       </td><td style=\"text-align: right;\">38.9881</td><td style=\"text-align: right;\">                 25581.3</td><td style=\"text-align: right;\">159.941</td><td style=\"text-align: right;\">25581.3</td><td style=\"text-align: right;\">nan       </td></tr>\n",
       "<tr><td>GBM_4_AutoML_20200427_141232                       </td><td style=\"text-align: right;\">39.1319</td><td style=\"text-align: right;\">                 25474.8</td><td style=\"text-align: right;\">159.608</td><td style=\"text-align: right;\">25474.8</td><td style=\"text-align: right;\">nan       </td></tr>\n",
       "<tr><td>StackedEnsemble_BestOfFamily_AutoML_20200427_141232</td><td style=\"text-align: right;\">40.0663</td><td style=\"text-align: right;\">                 23023.8</td><td style=\"text-align: right;\">151.736</td><td style=\"text-align: right;\">23023.8</td><td style=\"text-align: right;\">  0.462464</td></tr>\n",
       "<tr><td>GBM_1_AutoML_20200427_141232                       </td><td style=\"text-align: right;\">40.3639</td><td style=\"text-align: right;\">                 20640.1</td><td style=\"text-align: right;\">143.667</td><td style=\"text-align: right;\">20640.1</td><td style=\"text-align: right;\">nan       </td></tr>\n",
       "<tr><td>GBM_5_AutoML_20200427_141232                       </td><td style=\"text-align: right;\">40.4739</td><td style=\"text-align: right;\">                 26624.8</td><td style=\"text-align: right;\">163.171</td><td style=\"text-align: right;\">26624.8</td><td style=\"text-align: right;\">  0.520303</td></tr>\n",
       "<tr><td>StackedEnsemble_AllModels_AutoML_20200427_141232   </td><td style=\"text-align: right;\">41.9314</td><td style=\"text-align: right;\">                 22460.6</td><td style=\"text-align: right;\">149.869</td><td style=\"text-align: right;\">22460.6</td><td style=\"text-align: right;\">  0.472024</td></tr>\n",
       "<tr><td>XGBoost_3_AutoML_20200427_141232                   </td><td style=\"text-align: right;\">48.8292</td><td style=\"text-align: right;\">                 22447.4</td><td style=\"text-align: right;\">149.825</td><td style=\"text-align: right;\">22447.4</td><td style=\"text-align: right;\">  0.541167</td></tr>\n",
       "<tr><td>XGBoost_2_AutoML_20200427_141232                   </td><td style=\"text-align: right;\">54.0231</td><td style=\"text-align: right;\">                 25086.5</td><td style=\"text-align: right;\">158.387</td><td style=\"text-align: right;\">25086.5</td><td style=\"text-align: right;\">nan       </td></tr>\n",
       "</tbody>\n",
       "</table>"
      ]
     },
     "metadata": {},
     "output_type": "display_data"
    },
    {
     "data": {
      "text/plain": []
     },
     "execution_count": 18,
     "metadata": {},
     "output_type": "execute_result"
    }
   ],
   "source": [
    "aml_defaults.leaderboard.head()"
   ]
  },
  {
   "cell_type": "markdown",
   "metadata": {},
   "source": [
    "We see a slight improvement by using `neighbourhood_group` as the fold column. This means that each model is buit until it no longer improves the model accuracy on a new `neighbourhood_group` rather than a random sample of airbnb's."
   ]
  },
  {
   "cell_type": "code",
   "execution_count": 19,
   "metadata": {},
   "outputs": [
    {
     "name": "stdout",
     "output_type": "stream",
     "text": [
      "H2O session _sid_8032 closed.\n"
     ]
    }
   ],
   "source": [
    "h2o.cluster().shutdown()"
   ]
  },
  {
   "cell_type": "markdown",
   "metadata": {},
   "source": [
    "## Section 2 - Feature Engineering\n",
    "\n",
    "AutoML is able to perform grid search to determine the best algorithm and best parameters for a given use case.  It does not, however, perform feature engineering.\n",
    "\n",
    "Feature engineering is especially important when there is text data or categorical features with high cardinality.  Machine learning algorithms are best able to handle numeric data so being able to convert mixed data types to a numeric representation can improve the model. \n",
    "\n",
    "#### Step 1: Import Data"
   ]
  },
  {
   "cell_type": "code",
   "execution_count": 63,
   "metadata": {
    "scrolled": true
   },
   "outputs": [
    {
     "name": "stdout",
     "output_type": "stream",
     "text": [
      "Checking whether there is an H2O instance running at http://localhost:54321 ..... not found.\n",
      "Attempting to start a local H2O server...\n",
      "  Java Version: java version \"12.0.2\" 2019-07-16; Java(TM) SE Runtime Environment (build 12.0.2+10); Java HotSpot(TM) 64-Bit Server VM (build 12.0.2+10, mixed mode, sharing)\n",
      "  Starting server from /Users/megankurka/env2/lib/python3.6/site-packages/h2o/backend/bin/h2o.jar\n",
      "  Ice root: /var/folders/fk/z2fjbsq163scfcsq9fhsw7r00000gn/T/tmpdpv_e0vq\n",
      "  JVM stdout: /var/folders/fk/z2fjbsq163scfcsq9fhsw7r00000gn/T/tmpdpv_e0vq/h2o_megankurka_started_from_python.out\n",
      "  JVM stderr: /var/folders/fk/z2fjbsq163scfcsq9fhsw7r00000gn/T/tmpdpv_e0vq/h2o_megankurka_started_from_python.err\n",
      "  Server is running at http://127.0.0.1:54321\n",
      "Connecting to H2O server at http://127.0.0.1:54321 ... successful.\n"
     ]
    },
    {
     "data": {
      "text/html": [
       "<div style=\"overflow:auto\"><table style=\"width:50%\"><tr><td>H2O cluster uptime:</td>\n",
       "<td>01 secs</td></tr>\n",
       "<tr><td>H2O cluster timezone:</td>\n",
       "<td>America/New_York</td></tr>\n",
       "<tr><td>H2O data parsing timezone:</td>\n",
       "<td>UTC</td></tr>\n",
       "<tr><td>H2O cluster version:</td>\n",
       "<td>3.28.0.4</td></tr>\n",
       "<tr><td>H2O cluster version age:</td>\n",
       "<td>2 months and 1 day </td></tr>\n",
       "<tr><td>H2O cluster name:</td>\n",
       "<td>H2O_from_python_megankurka_jzkbyg</td></tr>\n",
       "<tr><td>H2O cluster total nodes:</td>\n",
       "<td>1</td></tr>\n",
       "<tr><td>H2O cluster free memory:</td>\n",
       "<td>4 Gb</td></tr>\n",
       "<tr><td>H2O cluster total cores:</td>\n",
       "<td>16</td></tr>\n",
       "<tr><td>H2O cluster allowed cores:</td>\n",
       "<td>16</td></tr>\n",
       "<tr><td>H2O cluster status:</td>\n",
       "<td>accepting new members, healthy</td></tr>\n",
       "<tr><td>H2O connection url:</td>\n",
       "<td>http://127.0.0.1:54321</td></tr>\n",
       "<tr><td>H2O connection proxy:</td>\n",
       "<td>{'http': None, 'https': None}</td></tr>\n",
       "<tr><td>H2O internal security:</td>\n",
       "<td>False</td></tr>\n",
       "<tr><td>H2O API Extensions:</td>\n",
       "<td>Amazon S3, XGBoost, Algos, AutoML, Core V3, TargetEncoder, Core V4</td></tr>\n",
       "<tr><td>Python version:</td>\n",
       "<td>3.6.8 final</td></tr></table></div>"
      ],
      "text/plain": [
       "--------------------------  ------------------------------------------------------------------\n",
       "H2O cluster uptime:         01 secs\n",
       "H2O cluster timezone:       America/New_York\n",
       "H2O data parsing timezone:  UTC\n",
       "H2O cluster version:        3.28.0.4\n",
       "H2O cluster version age:    2 months and 1 day\n",
       "H2O cluster name:           H2O_from_python_megankurka_jzkbyg\n",
       "H2O cluster total nodes:    1\n",
       "H2O cluster free memory:    4 Gb\n",
       "H2O cluster total cores:    16\n",
       "H2O cluster allowed cores:  16\n",
       "H2O cluster status:         accepting new members, healthy\n",
       "H2O connection url:         http://127.0.0.1:54321\n",
       "H2O connection proxy:       {'http': None, 'https': None}\n",
       "H2O internal security:      False\n",
       "H2O API Extensions:         Amazon S3, XGBoost, Algos, AutoML, Core V3, TargetEncoder, Core V4\n",
       "Python version:             3.6.8 final\n",
       "--------------------------  ------------------------------------------------------------------"
      ]
     },
     "metadata": {},
     "output_type": "display_data"
    }
   ],
   "source": [
    "time.sleep(5)\n",
    "h2o.init()"
   ]
  },
  {
   "cell_type": "code",
   "execution_count": 64,
   "metadata": {},
   "outputs": [
    {
     "name": "stdout",
     "output_type": "stream",
     "text": [
      "Parse progress: |█████████████████████████████████████████████████████████| 100%\n"
     ]
    }
   ],
   "source": [
    "data_path = \"../../../../Data/Airbnb/AB_NYC_2019.csv\"\n",
    "data = h2o.import_file(data_path, destination_frame = \"airbnb_data\", col_types = {\"host_id\": \"enum\"})"
   ]
  },
  {
   "cell_type": "code",
   "execution_count": 65,
   "metadata": {},
   "outputs": [],
   "source": [
    "# Split data into train and test\n",
    "train, test = data.split_frame(seed = 1234, destination_frames=[\"train.hex\", \"test.hex\"])"
   ]
  },
  {
   "cell_type": "markdown",
   "metadata": {},
   "source": [
    "#### Step 2: Convert Text To Word Embeddings\n",
    "\n",
    "The column `name` is the name of the Airbnb.  We will try to leverage that information by converting the text to word embeddings using the Word2Vec algorithm."
   ]
  },
  {
   "cell_type": "code",
   "execution_count": 66,
   "metadata": {},
   "outputs": [
    {
     "data": {
      "text/html": [
       "<table>\n",
       "<thead>\n",
       "<tr><th>name                                            </th></tr>\n",
       "</thead>\n",
       "<tbody>\n",
       "<tr><td>Clean & quiet apt home by the park              </td></tr>\n",
       "<tr><td>Skylit Midtown Castle                           </td></tr>\n",
       "<tr><td>THE VILLAGE OF HARLEM....NEW YORK !             </td></tr>\n",
       "<tr><td>Entire Apt: Spacious Studio/Loft by central park</td></tr>\n",
       "<tr><td>Large Cozy 1 BR Apartment In Midtown East       </td></tr>\n",
       "<tr><td>BlissArtsSpace!                                 </td></tr>\n",
       "<tr><td>Large Furnished Room Near B'way                 </td></tr>\n",
       "<tr><td>Cozy Clean Guest Room - Family Apt              </td></tr>\n",
       "<tr><td>Beautiful 1br on Upper West Side                </td></tr>\n",
       "<tr><td>Central Manhattan/near Broadway                 </td></tr>\n",
       "</tbody>\n",
       "</table>"
      ]
     },
     "metadata": {},
     "output_type": "display_data"
    },
    {
     "data": {
      "text/plain": []
     },
     "execution_count": 66,
     "metadata": {},
     "output_type": "execute_result"
    }
   ],
   "source": [
    "train[\"name\"]"
   ]
  },
  {
   "cell_type": "markdown",
   "metadata": {},
   "source": [
    "The performance of our model is much better if we do not use desc as a predictor. This could be because the algorithm has a hard time understanding the text. We will instead convert it to numeric vectors by using the Word2Vec algorithm.\n",
    "\n",
    "Our first step will be to tokenize the desc column. This splits the descriptions by word. Our function will also:\n",
    "\n",
    "* convert all words to lowercase\n",
    "* remove words with numbers\n",
    "* remove words with only 1 letter\n",
    "* remove stop words (stop words are defined by the nltk package)"
   ]
  },
  {
   "cell_type": "code",
   "execution_count": 67,
   "metadata": {},
   "outputs": [
    {
     "data": {
      "text/plain": [
       "['i', 'me', 'my', 'myself', 'we']"
      ]
     },
     "execution_count": 67,
     "metadata": {},
     "output_type": "execute_result"
    }
   ],
   "source": [
    "from nltk.corpus import stopwords\n",
    "STOP_WORDS = stopwords.words('english')\n",
    "STOP_WORDS[0:5]"
   ]
  },
  {
   "cell_type": "code",
   "execution_count": 68,
   "metadata": {},
   "outputs": [],
   "source": [
    "def tokenize(sentences, stop_words = STOP_WORDS):\n",
    "    tokenized = sentences.tokenize(\"\\\\W+\")\n",
    "    tokenized_lower = tokenized.tolower()\n",
    "    tokenized_filtered = tokenized_lower[(tokenized_lower.nchar() >= 2) | (tokenized_lower.isna()),:]\n",
    "    tokenized_words = tokenized_filtered[tokenized_filtered.grep(\"[0-9]\",invert=True,output_logical=True),:]\n",
    "    tokenized_words = tokenized_words[(tokenized_words.isna()) | (~ tokenized_words.isin(stop_words)),:]\n",
    "    return tokenized_words"
   ]
  },
  {
   "cell_type": "code",
   "execution_count": 69,
   "metadata": {},
   "outputs": [],
   "source": [
    "# Break name into sequence of words\n",
    "name = tokenize(train[\"name\"].ascharacter())"
   ]
  },
  {
   "cell_type": "markdown",
   "metadata": {},
   "source": [
    "Now we have our the tokenized desc, we can train our Word2Vec model. This will learn the word embeddings that will represent each word."
   ]
  },
  {
   "cell_type": "code",
   "execution_count": 70,
   "metadata": {},
   "outputs": [
    {
     "name": "stdout",
     "output_type": "stream",
     "text": [
      "word2vec Model Build progress: |██████████████████████████████████████████| 100%\n"
     ]
    }
   ],
   "source": [
    "from h2o.estimators.word2vec import H2OWord2vecEstimator\n",
    "\n",
    "w2v_model = H2OWord2vecEstimator(vec_size = 20, model_id = \"w2v.hex\")\n",
    "w2v_model.train(training_frame=name)"
   ]
  },
  {
   "cell_type": "markdown",
   "metadata": {},
   "source": [
    "We can use the Word2Vec model to find synonyms. Synonyms are defined as words with small cosine distance between their word embeddings. Words that have similar word embeddings should have similar meanings.\n",
    "\n",
    "We can test the understanding of our Word2Vec model by finding synonyms for the words `cozy` and `doorman`."
   ]
  },
  {
   "cell_type": "code",
   "execution_count": 71,
   "metadata": {},
   "outputs": [
    {
     "data": {
      "text/plain": [
       "OrderedDict([('quiet', 0.8806065320968628),\n",
       "             ('comfortable', 0.8622459173202515),\n",
       "             ('convenient', 0.8573722243309021),\n",
       "             ('room', 0.8547247648239136),\n",
       "             ('inclusive', 0.852560818195343)])"
      ]
     },
     "execution_count": 71,
     "metadata": {},
     "output_type": "execute_result"
    }
   ],
   "source": [
    "# Sanity check - find synonyms for the word 'cozy'\n",
    "w2v_model.find_synonyms(\"cozy\", count = 5)"
   ]
  },
  {
   "cell_type": "code",
   "execution_count": 72,
   "metadata": {},
   "outputs": [
    {
     "data": {
      "text/plain": [
       "OrderedDict([('sundeck', 0.8782833218574524),\n",
       "             ('blueground', 0.877320408821106),\n",
       "             ('indoor', 0.8709271550178528),\n",
       "             ('stately', 0.8699563145637512),\n",
       "             ('pool', 0.863131046295166)])"
      ]
     },
     "execution_count": 72,
     "metadata": {},
     "output_type": "execute_result"
    }
   ],
   "source": [
    "# Sanity check - find synonyms for the word 'doorman'\n",
    "w2v_model.find_synonyms(\"doorman\", count = 5)"
   ]
  },
  {
   "cell_type": "markdown",
   "metadata": {},
   "source": [
    "Now we can add the word embeddings as new features in our data. There are multiple words for each `name` so we will need to aggregate our word embeddings so that there is a single vector of word embeddings per loan. We will do this by averaging the word embeddings using the aggregate_method = \"AVERAGE\"."
   ]
  },
  {
   "cell_type": "code",
   "execution_count": 73,
   "metadata": {},
   "outputs": [],
   "source": [
    "# Calculate a vector for each name\n",
    "train_name_vecs = w2v_model.transform(name, aggregate_method = \"AVERAGE\")"
   ]
  },
  {
   "cell_type": "code",
   "execution_count": 74,
   "metadata": {},
   "outputs": [
    {
     "data": {
      "text/html": [
       "<table>\n",
       "<thead>\n",
       "<tr><th style=\"text-align: right;\">          C1</th><th style=\"text-align: right;\">         C2</th><th style=\"text-align: right;\">         C3</th><th style=\"text-align: right;\">         C4</th><th style=\"text-align: right;\">        C5</th><th style=\"text-align: right;\">          C6</th><th style=\"text-align: right;\">          C7</th><th style=\"text-align: right;\">         C8</th><th style=\"text-align: right;\">         C9</th><th style=\"text-align: right;\">        C10</th><th style=\"text-align: right;\">        C11</th><th style=\"text-align: right;\">       C12</th><th style=\"text-align: right;\">         C13</th><th style=\"text-align: right;\">        C14</th><th style=\"text-align: right;\">        C15</th><th style=\"text-align: right;\">         C16</th><th style=\"text-align: right;\">         C17</th><th style=\"text-align: right;\">        C18</th><th style=\"text-align: right;\">         C19</th><th style=\"text-align: right;\">        C20</th></tr>\n",
       "</thead>\n",
       "<tbody>\n",
       "<tr><td style=\"text-align: right;\">  0.232858  </td><td style=\"text-align: right;\"> -0.0752014</td><td style=\"text-align: right;\">  0.278972 </td><td style=\"text-align: right;\"> -0.0209727</td><td style=\"text-align: right;\">  0.459522</td><td style=\"text-align: right;\"> -0.0879058 </td><td style=\"text-align: right;\">  0.0734997 </td><td style=\"text-align: right;\"> -0.0750342</td><td style=\"text-align: right;\"> -0.0450306</td><td style=\"text-align: right;\">  0.114489 </td><td style=\"text-align: right;\">  0.198244 </td><td style=\"text-align: right;\">  0.398275</td><td style=\"text-align: right;\">  0.309283  </td><td style=\"text-align: right;\">  0.320322 </td><td style=\"text-align: right;\"> -0.0158934</td><td style=\"text-align: right;\"> -0.0291986 </td><td style=\"text-align: right;\"> -0.26693   </td><td style=\"text-align: right;\"> -0.209948 </td><td style=\"text-align: right;\">  0.0182244 </td><td style=\"text-align: right;\">  0.217868 </td></tr>\n",
       "<tr><td style=\"text-align: right;\">  0.0492047 </td><td style=\"text-align: right;\"> -0.126454 </td><td style=\"text-align: right;\"> -0.0686275</td><td style=\"text-align: right;\">  0.151621 </td><td style=\"text-align: right;\">  0.31429 </td><td style=\"text-align: right;\"> -0.267779  </td><td style=\"text-align: right;\"> -0.147632  </td><td style=\"text-align: right;\"> -0.0120209</td><td style=\"text-align: right;\">  0.0990244</td><td style=\"text-align: right;\"> -0.228009 </td><td style=\"text-align: right;\">  0.122576 </td><td style=\"text-align: right;\">  0.4606  </td><td style=\"text-align: right;\"> -0.0682262 </td><td style=\"text-align: right;\"> -0.0483014</td><td style=\"text-align: right;\">  0.182037 </td><td style=\"text-align: right;\"> -0.220677  </td><td style=\"text-align: right;\">  0.00169631</td><td style=\"text-align: right;\"> -0.166322 </td><td style=\"text-align: right;\">  0.135257  </td><td style=\"text-align: right;\"> -0.0642234</td></tr>\n",
       "<tr><td style=\"text-align: right;\">  0.0873505 </td><td style=\"text-align: right;\"> -0.212738 </td><td style=\"text-align: right;\"> -0.529439 </td><td style=\"text-align: right;\">  0.282886 </td><td style=\"text-align: right;\">  0.61406 </td><td style=\"text-align: right;\"> -0.322092  </td><td style=\"text-align: right;\"> -0.449743  </td><td style=\"text-align: right;\"> -0.231412 </td><td style=\"text-align: right;\"> -0.128735 </td><td style=\"text-align: right;\"> -0.0380835</td><td style=\"text-align: right;\">  0.0268546</td><td style=\"text-align: right;\">  0.597988</td><td style=\"text-align: right;\">  0.0928578 </td><td style=\"text-align: right;\"> -0.164342 </td><td style=\"text-align: right;\"> -0.230445 </td><td style=\"text-align: right;\">  0.363585  </td><td style=\"text-align: right;\"> -0.0709058 </td><td style=\"text-align: right;\"> -0.201373 </td><td style=\"text-align: right;\">  0.366343  </td><td style=\"text-align: right;\">  0.448288 </td></tr>\n",
       "<tr><td style=\"text-align: right;\"> -0.00874077</td><td style=\"text-align: right;\"> -0.0813606</td><td style=\"text-align: right;\">  0.168088 </td><td style=\"text-align: right;\">  0.0158974</td><td style=\"text-align: right;\">  0.391972</td><td style=\"text-align: right;\"> -0.189763  </td><td style=\"text-align: right;\"> -0.0681726 </td><td style=\"text-align: right;\"> -0.0602614</td><td style=\"text-align: right;\"> -0.136516 </td><td style=\"text-align: right;\">  0.0409351</td><td style=\"text-align: right;\">  0.253002 </td><td style=\"text-align: right;\">  0.602712</td><td style=\"text-align: right;\">  0.300413  </td><td style=\"text-align: right;\">  0.213778 </td><td style=\"text-align: right;\"> -0.0397491</td><td style=\"text-align: right;\"> -0.218091  </td><td style=\"text-align: right;\">  0.207559  </td><td style=\"text-align: right;\">  0.0289112</td><td style=\"text-align: right;\"> -0.119443  </td><td style=\"text-align: right;\">  0.167985 </td></tr>\n",
       "<tr><td style=\"text-align: right;\">  0.230107  </td><td style=\"text-align: right;\">  0.066471 </td><td style=\"text-align: right;\">  0.0115866</td><td style=\"text-align: right;\"> -0.057868 </td><td style=\"text-align: right;\">  0.337545</td><td style=\"text-align: right;\"> -0.263708  </td><td style=\"text-align: right;\"> -0.0470072 </td><td style=\"text-align: right;\"> -0.0448454</td><td style=\"text-align: right;\"> -0.132386 </td><td style=\"text-align: right;\">  0.0582648</td><td style=\"text-align: right;\">  0.164772 </td><td style=\"text-align: right;\">  0.610665</td><td style=\"text-align: right;\">  0.00965695</td><td style=\"text-align: right;\"> -0.0490871</td><td style=\"text-align: right;\">  0.0381293</td><td style=\"text-align: right;\"> -0.202699  </td><td style=\"text-align: right;\"> -0.0234658 </td><td style=\"text-align: right;\"> -0.234338 </td><td style=\"text-align: right;\"> -0.00994254</td><td style=\"text-align: right;\">  0.0821001</td></tr>\n",
       "<tr><td style=\"text-align: right;\">nan         </td><td style=\"text-align: right;\">nan        </td><td style=\"text-align: right;\">nan        </td><td style=\"text-align: right;\">nan        </td><td style=\"text-align: right;\">nan       </td><td style=\"text-align: right;\">nan         </td><td style=\"text-align: right;\">nan         </td><td style=\"text-align: right;\">nan        </td><td style=\"text-align: right;\">nan        </td><td style=\"text-align: right;\">nan        </td><td style=\"text-align: right;\">nan        </td><td style=\"text-align: right;\">nan       </td><td style=\"text-align: right;\">nan         </td><td style=\"text-align: right;\">nan        </td><td style=\"text-align: right;\">nan        </td><td style=\"text-align: right;\">nan         </td><td style=\"text-align: right;\">nan         </td><td style=\"text-align: right;\">nan        </td><td style=\"text-align: right;\">nan         </td><td style=\"text-align: right;\">nan        </td></tr>\n",
       "<tr><td style=\"text-align: right;\">  0.139983  </td><td style=\"text-align: right;\">  0.023939 </td><td style=\"text-align: right;\">  0.0719176</td><td style=\"text-align: right;\"> -0.0639023</td><td style=\"text-align: right;\">  0.327255</td><td style=\"text-align: right;\"> -0.233392  </td><td style=\"text-align: right;\"> -0.0125312 </td><td style=\"text-align: right;\">  0.0243645</td><td style=\"text-align: right;\">  0.176348 </td><td style=\"text-align: right;\">  0.0187244</td><td style=\"text-align: right;\"> -0.156053 </td><td style=\"text-align: right;\">  0.488405</td><td style=\"text-align: right;\">  0.290632  </td><td style=\"text-align: right;\">  0.273182 </td><td style=\"text-align: right;\">  0.0690541</td><td style=\"text-align: right;\"> -0.00814104</td><td style=\"text-align: right;\">  0.0664183 </td><td style=\"text-align: right;\"> -0.0792562</td><td style=\"text-align: right;\">  0.229886  </td><td style=\"text-align: right;\">  0.104298 </td></tr>\n",
       "<tr><td style=\"text-align: right;\">  0.383874  </td><td style=\"text-align: right;\">  0.0779639</td><td style=\"text-align: right;\">  0.318677 </td><td style=\"text-align: right;\"> -0.0192144</td><td style=\"text-align: right;\">  0.264649</td><td style=\"text-align: right;\"> -0.00287821</td><td style=\"text-align: right;\"> -0.00196797</td><td style=\"text-align: right;\"> -0.0651584</td><td style=\"text-align: right;\">  0.0524294</td><td style=\"text-align: right;\"> -0.17275  </td><td style=\"text-align: right;\"> -0.0293577</td><td style=\"text-align: right;\">  0.489901</td><td style=\"text-align: right;\">  0.146613  </td><td style=\"text-align: right;\">  0.258108 </td><td style=\"text-align: right;\"> -0.0820297</td><td style=\"text-align: right;\"> -0.0964229 </td><td style=\"text-align: right;\">  0.0129226 </td><td style=\"text-align: right;\"> -0.209549 </td><td style=\"text-align: right;\"> -0.0283557 </td><td style=\"text-align: right;\">  0.03461  </td></tr>\n",
       "<tr><td style=\"text-align: right;\"> -0.030712  </td><td style=\"text-align: right;\">  0.361832 </td><td style=\"text-align: right;\"> -0.193861 </td><td style=\"text-align: right;\"> -0.29969  </td><td style=\"text-align: right;\">  0.265514</td><td style=\"text-align: right;\"> -0.316899  </td><td style=\"text-align: right;\"> -0.352864  </td><td style=\"text-align: right;\"> -0.191607 </td><td style=\"text-align: right;\"> -0.420585 </td><td style=\"text-align: right;\">  0.108805 </td><td style=\"text-align: right;\">  0.13971  </td><td style=\"text-align: right;\">  1.03371 </td><td style=\"text-align: right;\"> -0.0295905 </td><td style=\"text-align: right;\"> -0.305803 </td><td style=\"text-align: right;\"> -0.47348  </td><td style=\"text-align: right;\"> -0.371476  </td><td style=\"text-align: right;\"> -0.144664  </td><td style=\"text-align: right;\"> -0.374034 </td><td style=\"text-align: right;\">  0.11963   </td><td style=\"text-align: right;\">  0.561059 </td></tr>\n",
       "<tr><td style=\"text-align: right;\"> -0.186489  </td><td style=\"text-align: right;\"> -0.255883 </td><td style=\"text-align: right;\">  0.0799126</td><td style=\"text-align: right;\">  0.0155947</td><td style=\"text-align: right;\">  0.401751</td><td style=\"text-align: right;\"> -0.551747  </td><td style=\"text-align: right;\"> -0.0117337 </td><td style=\"text-align: right;\"> -0.152357 </td><td style=\"text-align: right;\">  0.289318 </td><td style=\"text-align: right;\">  0.0831706</td><td style=\"text-align: right;\"> -0.0420085</td><td style=\"text-align: right;\">  0.577398</td><td style=\"text-align: right;\">  0.439577  </td><td style=\"text-align: right;\">  0.193751 </td><td style=\"text-align: right;\"> -0.0926957</td><td style=\"text-align: right;\"> -0.286103  </td><td style=\"text-align: right;\">  0.0340982 </td><td style=\"text-align: right;\"> -0.257213 </td><td style=\"text-align: right;\"> -0.106756  </td><td style=\"text-align: right;\"> -0.017167 </td></tr>\n",
       "</tbody>\n",
       "</table>"
      ]
     },
     "metadata": {},
     "output_type": "display_data"
    },
    {
     "data": {
      "text/plain": []
     },
     "execution_count": 74,
     "metadata": {},
     "output_type": "execute_result"
    }
   ],
   "source": [
    "train_name_vecs"
   ]
  },
  {
   "cell_type": "code",
   "execution_count": 75,
   "metadata": {},
   "outputs": [],
   "source": [
    "# Add aggregated word embeddings \n",
    "ext_train = train.cbind(train_name_vecs)"
   ]
  },
  {
   "cell_type": "code",
   "execution_count": 76,
   "metadata": {},
   "outputs": [],
   "source": [
    "# Perform same steps on test data\n",
    "test_name_vecs = w2v_model.transform(tokenize(test[\"name\"].ascharacter()), aggregate_method = \"AVERAGE\")\n",
    "ext_test = test.cbind(test_name_vecs)"
   ]
  },
  {
   "cell_type": "code",
   "execution_count": 77,
   "metadata": {},
   "outputs": [
    {
     "name": "stdout",
     "output_type": "stream",
     "text": [
      "AutoML progress: |████████████████████████████████████████████████████████| 100%\n"
     ]
    }
   ],
   "source": [
    "# Run AutoML for 10 base models (limited to 1 hour max runtime by default)\n",
    "x = list(set(ext_train.col_names) - set([\"price\", \"id\", \"host_name\"]))\n",
    "aml_word_embeddings = H2OAutoML(max_models=10, seed=1234, sort_metric=\"MAE\", project_name = \"with_word_embeddings\")\n",
    "aml_word_embeddings.train(x=list(set(x) - set([\"name\"])), y=\"price\", \n",
    "                          training_frame=ext_train, leaderboard_frame = ext_test)"
   ]
  },
  {
   "cell_type": "code",
   "execution_count": 78,
   "metadata": {},
   "outputs": [
    {
     "data": {
      "text/html": [
       "<table>\n",
       "<thead>\n",
       "<tr><th>model_id                                           </th><th style=\"text-align: right;\">    mae</th><th style=\"text-align: right;\">  mean_residual_deviance</th><th style=\"text-align: right;\">   rmse</th><th style=\"text-align: right;\">    mse</th><th style=\"text-align: right;\">     rmsle</th></tr>\n",
       "</thead>\n",
       "<tbody>\n",
       "<tr><td>XGBoost_1_AutoML_20200425_085235                   </td><td style=\"text-align: right;\">60.4074</td><td style=\"text-align: right;\">                 37093.6</td><td style=\"text-align: right;\">192.597</td><td style=\"text-align: right;\">37093.6</td><td style=\"text-align: right;\">nan       </td></tr>\n",
       "<tr><td>XGBoost_2_AutoML_20200425_085235                   </td><td style=\"text-align: right;\">60.4303</td><td style=\"text-align: right;\">                 36217.3</td><td style=\"text-align: right;\">190.308</td><td style=\"text-align: right;\">36217.3</td><td style=\"text-align: right;\">nan       </td></tr>\n",
       "<tr><td>StackedEnsemble_BestOfFamily_AutoML_20200425_085235</td><td style=\"text-align: right;\">60.432 </td><td style=\"text-align: right;\">                 36076.5</td><td style=\"text-align: right;\">189.938</td><td style=\"text-align: right;\">36076.5</td><td style=\"text-align: right;\">  0.462684</td></tr>\n",
       "<tr><td>StackedEnsemble_AllModels_AutoML_20200425_085235   </td><td style=\"text-align: right;\">61.3486</td><td style=\"text-align: right;\">                 35483.4</td><td style=\"text-align: right;\">188.37 </td><td style=\"text-align: right;\">35483.4</td><td style=\"text-align: right;\">  0.467981</td></tr>\n",
       "<tr><td>XGBoost_3_AutoML_20200425_085235                   </td><td style=\"text-align: right;\">61.824 </td><td style=\"text-align: right;\">                 36504.3</td><td style=\"text-align: right;\">191.061</td><td style=\"text-align: right;\">36504.3</td><td style=\"text-align: right;\">  0.489293</td></tr>\n",
       "<tr><td>GBM_5_AutoML_20200425_085235                       </td><td style=\"text-align: right;\">61.8671</td><td style=\"text-align: right;\">                 36883.7</td><td style=\"text-align: right;\">192.051</td><td style=\"text-align: right;\">36883.7</td><td style=\"text-align: right;\">nan       </td></tr>\n",
       "<tr><td>GBM_3_AutoML_20200425_085235                       </td><td style=\"text-align: right;\">62.5066</td><td style=\"text-align: right;\">                 37652.3</td><td style=\"text-align: right;\">194.042</td><td style=\"text-align: right;\">37652.3</td><td style=\"text-align: right;\">nan       </td></tr>\n",
       "<tr><td>GBM_2_AutoML_20200425_085235                       </td><td style=\"text-align: right;\">62.763 </td><td style=\"text-align: right;\">                 38014  </td><td style=\"text-align: right;\">194.972</td><td style=\"text-align: right;\">38014  </td><td style=\"text-align: right;\">nan       </td></tr>\n",
       "<tr><td>GBM_4_AutoML_20200425_085235                       </td><td style=\"text-align: right;\">62.8956</td><td style=\"text-align: right;\">                 37032.4</td><td style=\"text-align: right;\">192.438</td><td style=\"text-align: right;\">37032.4</td><td style=\"text-align: right;\">nan       </td></tr>\n",
       "<tr><td>DRF_1_AutoML_20200425_085235                       </td><td style=\"text-align: right;\">63.3201</td><td style=\"text-align: right;\">                 37801  </td><td style=\"text-align: right;\">194.425</td><td style=\"text-align: right;\">37801  </td><td style=\"text-align: right;\">  0.482391</td></tr>\n",
       "</tbody>\n",
       "</table>"
      ]
     },
     "metadata": {},
     "output_type": "display_data"
    },
    {
     "data": {
      "text/plain": []
     },
     "execution_count": 78,
     "metadata": {},
     "output_type": "execute_result"
    }
   ],
   "source": [
    "aml_word_embeddings.leaderboard"
   ]
  }
 ],
 "metadata": {
  "kernelspec": {
   "display_name": "Python 3",
   "language": "python",
   "name": "python3"
  },
  "language_info": {
   "codemirror_mode": {
    "name": "ipython",
    "version": 3
   },
   "file_extension": ".py",
   "mimetype": "text/x-python",
   "name": "python",
   "nbconvert_exporter": "python",
   "pygments_lexer": "ipython3",
   "version": "3.6.8"
  }
 },
 "nbformat": 4,
 "nbformat_minor": 2
}
