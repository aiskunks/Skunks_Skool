{
 "cells": [
  {
   "cell_type": "markdown",
   "metadata": {},
   "source": [
    "# AutoML Grid Search\n",
    "\n",
    "This notebook shows the grid searches that are performed in AutoML.\n",
    "\n",
    "AutoML constructs models for each algorithm in two steps: \n",
    "\n",
    "1. Train models with parameters that have been found to work well most of the time.\n",
    "2. Run grid search over parameters that have been found to have large impact on performance.\n",
    "\n",
    "The reason behind the two step approach is to create good models as fast as possible.  Step 1 should generate a very good baseline.  The grid search that follows can then improve upon step 1 if more time is available.\n",
    "\n",
    "## Start the H2O Cluster"
   ]
  },
  {
   "cell_type": "code",
   "execution_count": 1,
   "metadata": {},
   "outputs": [
    {
     "name": "stdout",
     "output_type": "stream",
     "text": [
      "Checking whether there is an H2O instance running at http://localhost:54321 . connected.\n",
      "Warning: Your H2O cluster version is too old (4 months and 12 days)! Please download and install the latest version from http://h2o.ai/download/\n"
     ]
    },
    {
     "data": {
      "text/html": [
       "<div style=\"overflow:auto\"><table style=\"width:50%\"><tr><td>H2O cluster uptime:</td>\n",
       "<td>37 mins 28 secs</td></tr>\n",
       "<tr><td>H2O cluster timezone:</td>\n",
       "<td>America/New_York</td></tr>\n",
       "<tr><td>H2O data parsing timezone:</td>\n",
       "<td>UTC</td></tr>\n",
       "<tr><td>H2O cluster version:</td>\n",
       "<td>3.28.0.4</td></tr>\n",
       "<tr><td>H2O cluster version age:</td>\n",
       "<td>4 months and 12 days !!!</td></tr>\n",
       "<tr><td>H2O cluster name:</td>\n",
       "<td>H2O_from_python_megankurka_za3wrf</td></tr>\n",
       "<tr><td>H2O cluster total nodes:</td>\n",
       "<td>1</td></tr>\n",
       "<tr><td>H2O cluster free memory:</td>\n",
       "<td>3.903 Gb</td></tr>\n",
       "<tr><td>H2O cluster total cores:</td>\n",
       "<td>16</td></tr>\n",
       "<tr><td>H2O cluster allowed cores:</td>\n",
       "<td>16</td></tr>\n",
       "<tr><td>H2O cluster status:</td>\n",
       "<td>locked, healthy</td></tr>\n",
       "<tr><td>H2O connection url:</td>\n",
       "<td>http://localhost:54321</td></tr>\n",
       "<tr><td>H2O connection proxy:</td>\n",
       "<td>{'http': None, 'https': None}</td></tr>\n",
       "<tr><td>H2O internal security:</td>\n",
       "<td>False</td></tr>\n",
       "<tr><td>H2O API Extensions:</td>\n",
       "<td>Amazon S3, XGBoost, Algos, AutoML, Core V3, TargetEncoder, Core V4</td></tr>\n",
       "<tr><td>Python version:</td>\n",
       "<td>3.6.8 final</td></tr></table></div>"
      ],
      "text/plain": [
       "--------------------------  ------------------------------------------------------------------\n",
       "H2O cluster uptime:         37 mins 28 secs\n",
       "H2O cluster timezone:       America/New_York\n",
       "H2O data parsing timezone:  UTC\n",
       "H2O cluster version:        3.28.0.4\n",
       "H2O cluster version age:    4 months and 12 days !!!\n",
       "H2O cluster name:           H2O_from_python_megankurka_za3wrf\n",
       "H2O cluster total nodes:    1\n",
       "H2O cluster free memory:    3.903 Gb\n",
       "H2O cluster total cores:    16\n",
       "H2O cluster allowed cores:  16\n",
       "H2O cluster status:         locked, healthy\n",
       "H2O connection url:         http://localhost:54321\n",
       "H2O connection proxy:       {'http': None, 'https': None}\n",
       "H2O internal security:      False\n",
       "H2O API Extensions:         Amazon S3, XGBoost, Algos, AutoML, Core V3, TargetEncoder, Core V4\n",
       "Python version:             3.6.8 final\n",
       "--------------------------  ------------------------------------------------------------------"
      ]
     },
     "metadata": {},
     "output_type": "display_data"
    }
   ],
   "source": [
    "import h2o\n",
    "h2o.init()"
   ]
  },
  {
   "cell_type": "markdown",
   "metadata": {},
   "source": [
    "## Dataset\n",
    "\n",
    "The dataset we will be using to predict `y` is shown below:"
   ]
  },
  {
   "cell_type": "code",
   "execution_count": 2,
   "metadata": {},
   "outputs": [
    {
     "name": "stdout",
     "output_type": "stream",
     "text": [
      "Parse progress: |█████████████████████████████████████████████████████████| 100%\n"
     ]
    }
   ],
   "source": [
    "df = h2o.import_file(\"https://s3.amazonaws.com/h2o-public-test-data/smalldata/demos/bank-additional-full.csv\")"
   ]
  },
  {
   "cell_type": "code",
   "execution_count": 3,
   "metadata": {},
   "outputs": [
    {
     "data": {
      "text/html": [
       "<table>\n",
       "<thead>\n",
       "<tr><th style=\"text-align: right;\">  age</th><th>job        </th><th>marital  </th><th>education          </th><th>default  </th><th>housing  </th><th>loan  </th><th>contact  </th><th>month  </th><th>day_of_week  </th><th style=\"text-align: right;\">  duration</th><th style=\"text-align: right;\">  campaign</th><th style=\"text-align: right;\">  pdays</th><th style=\"text-align: right;\">  previous</th><th>poutcome   </th><th style=\"text-align: right;\">  emp.var.rate</th><th style=\"text-align: right;\">  cons.price.idx</th><th style=\"text-align: right;\">  cons.conf.idx</th><th style=\"text-align: right;\">  euribor3m</th><th style=\"text-align: right;\">  nr.employed</th><th>y  </th></tr>\n",
       "</thead>\n",
       "<tbody>\n",
       "<tr><td style=\"text-align: right;\">   56</td><td>housemaid  </td><td>married  </td><td>basic.4y           </td><td>no       </td><td>no       </td><td>no    </td><td>telephone</td><td>may    </td><td>mon          </td><td style=\"text-align: right;\">       261</td><td style=\"text-align: right;\">         1</td><td style=\"text-align: right;\">    999</td><td style=\"text-align: right;\">         0</td><td>nonexistent</td><td style=\"text-align: right;\">           1.1</td><td style=\"text-align: right;\">          93.994</td><td style=\"text-align: right;\">          -36.4</td><td style=\"text-align: right;\">      4.857</td><td style=\"text-align: right;\">         5191</td><td>no </td></tr>\n",
       "<tr><td style=\"text-align: right;\">   57</td><td>services   </td><td>married  </td><td>high.school        </td><td>unknown  </td><td>no       </td><td>no    </td><td>telephone</td><td>may    </td><td>mon          </td><td style=\"text-align: right;\">       149</td><td style=\"text-align: right;\">         1</td><td style=\"text-align: right;\">    999</td><td style=\"text-align: right;\">         0</td><td>nonexistent</td><td style=\"text-align: right;\">           1.1</td><td style=\"text-align: right;\">          93.994</td><td style=\"text-align: right;\">          -36.4</td><td style=\"text-align: right;\">      4.857</td><td style=\"text-align: right;\">         5191</td><td>no </td></tr>\n",
       "<tr><td style=\"text-align: right;\">   37</td><td>services   </td><td>married  </td><td>high.school        </td><td>no       </td><td>yes      </td><td>no    </td><td>telephone</td><td>may    </td><td>mon          </td><td style=\"text-align: right;\">       226</td><td style=\"text-align: right;\">         1</td><td style=\"text-align: right;\">    999</td><td style=\"text-align: right;\">         0</td><td>nonexistent</td><td style=\"text-align: right;\">           1.1</td><td style=\"text-align: right;\">          93.994</td><td style=\"text-align: right;\">          -36.4</td><td style=\"text-align: right;\">      4.857</td><td style=\"text-align: right;\">         5191</td><td>no </td></tr>\n",
       "<tr><td style=\"text-align: right;\">   40</td><td>admin.     </td><td>married  </td><td>basic.6y           </td><td>no       </td><td>no       </td><td>no    </td><td>telephone</td><td>may    </td><td>mon          </td><td style=\"text-align: right;\">       151</td><td style=\"text-align: right;\">         1</td><td style=\"text-align: right;\">    999</td><td style=\"text-align: right;\">         0</td><td>nonexistent</td><td style=\"text-align: right;\">           1.1</td><td style=\"text-align: right;\">          93.994</td><td style=\"text-align: right;\">          -36.4</td><td style=\"text-align: right;\">      4.857</td><td style=\"text-align: right;\">         5191</td><td>no </td></tr>\n",
       "<tr><td style=\"text-align: right;\">   56</td><td>services   </td><td>married  </td><td>high.school        </td><td>no       </td><td>no       </td><td>yes   </td><td>telephone</td><td>may    </td><td>mon          </td><td style=\"text-align: right;\">       307</td><td style=\"text-align: right;\">         1</td><td style=\"text-align: right;\">    999</td><td style=\"text-align: right;\">         0</td><td>nonexistent</td><td style=\"text-align: right;\">           1.1</td><td style=\"text-align: right;\">          93.994</td><td style=\"text-align: right;\">          -36.4</td><td style=\"text-align: right;\">      4.857</td><td style=\"text-align: right;\">         5191</td><td>no </td></tr>\n",
       "<tr><td style=\"text-align: right;\">   45</td><td>services   </td><td>married  </td><td>basic.9y           </td><td>unknown  </td><td>no       </td><td>no    </td><td>telephone</td><td>may    </td><td>mon          </td><td style=\"text-align: right;\">       198</td><td style=\"text-align: right;\">         1</td><td style=\"text-align: right;\">    999</td><td style=\"text-align: right;\">         0</td><td>nonexistent</td><td style=\"text-align: right;\">           1.1</td><td style=\"text-align: right;\">          93.994</td><td style=\"text-align: right;\">          -36.4</td><td style=\"text-align: right;\">      4.857</td><td style=\"text-align: right;\">         5191</td><td>no </td></tr>\n",
       "<tr><td style=\"text-align: right;\">   59</td><td>admin.     </td><td>married  </td><td>professional.course</td><td>no       </td><td>no       </td><td>no    </td><td>telephone</td><td>may    </td><td>mon          </td><td style=\"text-align: right;\">       139</td><td style=\"text-align: right;\">         1</td><td style=\"text-align: right;\">    999</td><td style=\"text-align: right;\">         0</td><td>nonexistent</td><td style=\"text-align: right;\">           1.1</td><td style=\"text-align: right;\">          93.994</td><td style=\"text-align: right;\">          -36.4</td><td style=\"text-align: right;\">      4.857</td><td style=\"text-align: right;\">         5191</td><td>no </td></tr>\n",
       "<tr><td style=\"text-align: right;\">   41</td><td>blue-collar</td><td>married  </td><td>unknown            </td><td>unknown  </td><td>no       </td><td>no    </td><td>telephone</td><td>may    </td><td>mon          </td><td style=\"text-align: right;\">       217</td><td style=\"text-align: right;\">         1</td><td style=\"text-align: right;\">    999</td><td style=\"text-align: right;\">         0</td><td>nonexistent</td><td style=\"text-align: right;\">           1.1</td><td style=\"text-align: right;\">          93.994</td><td style=\"text-align: right;\">          -36.4</td><td style=\"text-align: right;\">      4.857</td><td style=\"text-align: right;\">         5191</td><td>no </td></tr>\n",
       "<tr><td style=\"text-align: right;\">   24</td><td>technician </td><td>single   </td><td>professional.course</td><td>no       </td><td>yes      </td><td>no    </td><td>telephone</td><td>may    </td><td>mon          </td><td style=\"text-align: right;\">       380</td><td style=\"text-align: right;\">         1</td><td style=\"text-align: right;\">    999</td><td style=\"text-align: right;\">         0</td><td>nonexistent</td><td style=\"text-align: right;\">           1.1</td><td style=\"text-align: right;\">          93.994</td><td style=\"text-align: right;\">          -36.4</td><td style=\"text-align: right;\">      4.857</td><td style=\"text-align: right;\">         5191</td><td>no </td></tr>\n",
       "<tr><td style=\"text-align: right;\">   25</td><td>services   </td><td>single   </td><td>high.school        </td><td>no       </td><td>yes      </td><td>no    </td><td>telephone</td><td>may    </td><td>mon          </td><td style=\"text-align: right;\">        50</td><td style=\"text-align: right;\">         1</td><td style=\"text-align: right;\">    999</td><td style=\"text-align: right;\">         0</td><td>nonexistent</td><td style=\"text-align: right;\">           1.1</td><td style=\"text-align: right;\">          93.994</td><td style=\"text-align: right;\">          -36.4</td><td style=\"text-align: right;\">      4.857</td><td style=\"text-align: right;\">         5191</td><td>no </td></tr>\n",
       "</tbody>\n",
       "</table>"
      ]
     },
     "metadata": {},
     "output_type": "display_data"
    },
    {
     "data": {
      "text/plain": []
     },
     "execution_count": 3,
     "metadata": {},
     "output_type": "execute_result"
    }
   ],
   "source": [
    "df.head()"
   ]
  },
  {
   "cell_type": "markdown",
   "metadata": {},
   "source": [
    "Now we will split our data into training and validation."
   ]
  },
  {
   "cell_type": "code",
   "execution_count": 4,
   "metadata": {},
   "outputs": [],
   "source": [
    "train, valid = df.split_frame(seed = 1234)"
   ]
  },
  {
   "cell_type": "markdown",
   "metadata": {},
   "source": [
    "## Train Models\n",
    "\n",
    "We will use H2O-3's Generalized Linear, Gradient Boosting, and XGBoost algorithms to build models to predict `y`.  To determine the best algorithm and parameters, we will train different models and see how well they perform on our validation dataset.  \n",
    "\n",
    "Below, we define the settings for our grid search and a helper function to display the model performances."
   ]
  },
  {
   "cell_type": "markdown",
   "metadata": {},
   "source": [
    "Set parameters for the grid search."
   ]
  },
  {
   "cell_type": "code",
   "execution_count": 5,
   "metadata": {},
   "outputs": [],
   "source": [
    "nfolds = 3\n",
    "seed = 1234\n",
    "target_col = \"y\"\n",
    "x = [i for i in train.col_names if i != target_col]\n",
    "search_criteria = {'max_models': 5, 'seed': seed, 'strategy': \"RandomDiscrete\"}"
   ]
  },
  {
   "cell_type": "code",
   "execution_count": 6,
   "metadata": {},
   "outputs": [],
   "source": [
    "import pandas as pd\n",
    "# helper function to format grid search results\n",
    "\n",
    "def performance_table(models):\n",
    "    model_perf = [[x.model_id, \n",
    "                   x.logloss(train = True), \n",
    "                   x.logloss(xval = True), \n",
    "                   x.logloss(valid = True)] \n",
    "                  for x in models]\n",
    "    model_perf = pd.DataFrame(model_perf)\n",
    "    model_perf.columns = [\"model\", \"train_logloss\", \"cv_logloss\", \"valid_logloss\"]\n",
    "    model_perf = model_perf.sort_values(by=\"valid_logloss\")\n",
    "\n",
    "    return model_perf"
   ]
  },
  {
   "cell_type": "markdown",
   "metadata": {},
   "source": [
    "### Gradient Boosting Machines\n",
    "\n",
    "[Gradient Boosting Machine](http://docs.h2o.ai/h2o/latest-stable/h2o-docs/data-science/gbm.html) is a forward learning ensemble method. The guiding heuristic is that good predictive results can be obtained through increasingly refined approximations.  GBM's tend to have the greatest accuracy for tabular data.\n",
    "\n",
    "We begin by training models with parameters that are known to perform well.  We then continue by running a random discrete grid search to tune parameters that tend to have a large impact on model performance."
   ]
  },
  {
   "cell_type": "code",
   "execution_count": 7,
   "metadata": {},
   "outputs": [],
   "source": [
    "from h2o.estimators.gbm import H2OGradientBoostingEstimator\n",
    "import copy"
   ]
  },
  {
   "cell_type": "markdown",
   "metadata": {},
   "source": [
    "Step 1: Train best guess models."
   ]
  },
  {
   "cell_type": "code",
   "execution_count": 16,
   "metadata": {},
   "outputs": [],
   "source": [
    "default_gbm_params = {\n",
    "    'score_tree_interval': 5,\n",
    "    'stopping_rounds': 3, # early stopping\n",
    "    'ntrees': 10000,\n",
    "    'sample_rate': 0.8,\n",
    "    'col_sample_rate': 0.8,\n",
    "    'col_sample_rate_per_tree': 0.8\n",
    "}"
   ]
  },
  {
   "cell_type": "code",
   "execution_count": 9,
   "metadata": {},
   "outputs": [
    {
     "name": "stdout",
     "output_type": "stream",
     "text": [
      "gbm Model Build progress: |███████████████████████████████████████████████| 100%\n",
      "gbm Model Build progress: |███████████████████████████████████████████████| 100%\n",
      "gbm Model Build progress: |███████████████████████████████████████████████| 100%\n",
      "gbm Model Build progress: |███████████████████████████████████████████████| 100%\n",
      "gbm Model Build progress: |███████████████████████████████████████████████| 100%\n"
     ]
    }
   ],
   "source": [
    "best_guess_params = [{'max_depth': 6, 'min_rows': 1},\n",
    "                     {'max_depth': 7, 'min_rows': 10},\n",
    "                     {'max_depth': 8, 'min_rows': 10},\n",
    "                     {'max_depth': 10, 'min_rows': 10},\n",
    "                     {'max_depth': 15, 'min_rows': 100},\n",
    "                    ]\n",
    "\n",
    "best_guess_gbms = []\n",
    "for i in best_guess_params:\n",
    "    \n",
    "    model_params = copy.deepcopy(default_gbm_params)\n",
    "    for k, v in i.items():\n",
    "        model_params[k] = v\n",
    "    gbm = H2OGradientBoostingEstimator(nfolds=nfolds, seed=seed,\n",
    "                                       **model_params\n",
    "                                      )\n",
    "    gbm.train(training_frame=train, validation_frame=valid, y=target_col, x=x)\n",
    "    best_guess_gbms = best_guess_gbms + [gbm]"
   ]
  },
  {
   "cell_type": "markdown",
   "metadata": {},
   "source": [
    "Step 2: Train grid search."
   ]
  },
  {
   "cell_type": "code",
   "execution_count": 10,
   "metadata": {},
   "outputs": [],
   "source": [
    "from h2o.grid import H2OGridSearch"
   ]
  },
  {
   "cell_type": "code",
   "execution_count": 11,
   "metadata": {},
   "outputs": [],
   "source": [
    "gbm_search_params = {'max_depth': [3, 4, 5, 6, 7, 8, 9, 10, 11, 12, 13, 14, 15, 16, 17],\n",
    "                     'min_rows': [1, 5, 10, 15, 30, 100],\n",
    "                     'sample_rate': [0.50, 0.60, 0.70, 0.80, 0.90, 1.00],\n",
    "                     'col_sample_rate': [0.4, 0.7, 1.0],\n",
    "                     'col_sample_rate_per_tree': [0.4, 0.7, 1.0],\n",
    "                     'min_split_improvement': [1e-4, 1e-5]\n",
    "                    }"
   ]
  },
  {
   "cell_type": "code",
   "execution_count": 12,
   "metadata": {},
   "outputs": [],
   "source": [
    "# remove parameters that are being searched from the default dictionary\n",
    "for k in gbm_search_params.keys():\n",
    "    default_gbm_params.pop(k, None)"
   ]
  },
  {
   "cell_type": "code",
   "execution_count": 13,
   "metadata": {},
   "outputs": [
    {
     "name": "stdout",
     "output_type": "stream",
     "text": [
      "gbm Grid Build progress: |████████████████████████████████████████████████| 100%\n"
     ]
    }
   ],
   "source": [
    "gbm_grid = H2OGridSearch(model=H2OGradientBoostingEstimator,\n",
    "                         grid_id='gbm_grid',\n",
    "                         search_criteria=search_criteria,\n",
    "                         hyper_params=gbm_search_params)\n",
    "gbm_grid.train(x=x, y=target_col,\n",
    "               training_frame=train,\n",
    "               validation_frame=valid,\n",
    "               nfolds=nfolds,\n",
    "               seed=seed,\n",
    "               **default_gbm_params)"
   ]
  },
  {
   "cell_type": "code",
   "execution_count": 14,
   "metadata": {},
   "outputs": [],
   "source": [
    "all_gbm_models = best_guess_gbms + [h2o.get_model(id) for id in gbm_grid.get_grid().model_ids]"
   ]
  },
  {
   "cell_type": "code",
   "execution_count": 15,
   "metadata": {
    "scrolled": false
   },
   "outputs": [
    {
     "data": {
      "text/html": [
       "<div>\n",
       "<style scoped>\n",
       "    .dataframe tbody tr th:only-of-type {\n",
       "        vertical-align: middle;\n",
       "    }\n",
       "\n",
       "    .dataframe tbody tr th {\n",
       "        vertical-align: top;\n",
       "    }\n",
       "\n",
       "    .dataframe thead th {\n",
       "        text-align: right;\n",
       "    }\n",
       "</style>\n",
       "<table border=\"1\" class=\"dataframe\">\n",
       "  <thead>\n",
       "    <tr style=\"text-align: right;\">\n",
       "      <th></th>\n",
       "      <th>model</th>\n",
       "      <th>train_logloss</th>\n",
       "      <th>cv_logloss</th>\n",
       "      <th>valid_logloss</th>\n",
       "    </tr>\n",
       "  </thead>\n",
       "  <tbody>\n",
       "    <tr>\n",
       "      <th>5</th>\n",
       "      <td>gbm_grid_model_2</td>\n",
       "      <td>0.075138</td>\n",
       "      <td>0.091201</td>\n",
       "      <td>0.094628</td>\n",
       "    </tr>\n",
       "    <tr>\n",
       "      <th>4</th>\n",
       "      <td>GBM_model_python_1594045222350_8150</td>\n",
       "      <td>0.054082</td>\n",
       "      <td>0.092299</td>\n",
       "      <td>0.098377</td>\n",
       "    </tr>\n",
       "    <tr>\n",
       "      <th>6</th>\n",
       "      <td>gbm_grid_model_4</td>\n",
       "      <td>0.065576</td>\n",
       "      <td>0.095486</td>\n",
       "      <td>0.099218</td>\n",
       "    </tr>\n",
       "    <tr>\n",
       "      <th>7</th>\n",
       "      <td>gbm_grid_model_1</td>\n",
       "      <td>0.049082</td>\n",
       "      <td>0.101872</td>\n",
       "      <td>0.100268</td>\n",
       "    </tr>\n",
       "    <tr>\n",
       "      <th>0</th>\n",
       "      <td>GBM_model_python_1594045222350_7702</td>\n",
       "      <td>0.045778</td>\n",
       "      <td>0.099466</td>\n",
       "      <td>0.102567</td>\n",
       "    </tr>\n",
       "    <tr>\n",
       "      <th>1</th>\n",
       "      <td>GBM_model_python_1594045222350_7825</td>\n",
       "      <td>0.041472</td>\n",
       "      <td>0.102414</td>\n",
       "      <td>0.104106</td>\n",
       "    </tr>\n",
       "    <tr>\n",
       "      <th>2</th>\n",
       "      <td>GBM_model_python_1594045222350_7936</td>\n",
       "      <td>0.032349</td>\n",
       "      <td>0.103802</td>\n",
       "      <td>0.108141</td>\n",
       "    </tr>\n",
       "    <tr>\n",
       "      <th>3</th>\n",
       "      <td>GBM_model_python_1594045222350_8047</td>\n",
       "      <td>0.023683</td>\n",
       "      <td>0.107995</td>\n",
       "      <td>0.111202</td>\n",
       "    </tr>\n",
       "    <tr>\n",
       "      <th>8</th>\n",
       "      <td>gbm_grid_model_5</td>\n",
       "      <td>0.034704</td>\n",
       "      <td>0.111446</td>\n",
       "      <td>0.111876</td>\n",
       "    </tr>\n",
       "    <tr>\n",
       "      <th>9</th>\n",
       "      <td>gbm_grid_model_3</td>\n",
       "      <td>0.032555</td>\n",
       "      <td>0.122376</td>\n",
       "      <td>0.120097</td>\n",
       "    </tr>\n",
       "  </tbody>\n",
       "</table>\n",
       "</div>"
      ],
      "text/plain": [
       "                                 model  train_logloss  cv_logloss  \\\n",
       "5                     gbm_grid_model_2       0.075138    0.091201   \n",
       "4  GBM_model_python_1594045222350_8150       0.054082    0.092299   \n",
       "6                     gbm_grid_model_4       0.065576    0.095486   \n",
       "7                     gbm_grid_model_1       0.049082    0.101872   \n",
       "0  GBM_model_python_1594045222350_7702       0.045778    0.099466   \n",
       "1  GBM_model_python_1594045222350_7825       0.041472    0.102414   \n",
       "2  GBM_model_python_1594045222350_7936       0.032349    0.103802   \n",
       "3  GBM_model_python_1594045222350_8047       0.023683    0.107995   \n",
       "8                     gbm_grid_model_5       0.034704    0.111446   \n",
       "9                     gbm_grid_model_3       0.032555    0.122376   \n",
       "\n",
       "   valid_logloss  \n",
       "5       0.094628  \n",
       "4       0.098377  \n",
       "6       0.099218  \n",
       "7       0.100268  \n",
       "0       0.102567  \n",
       "1       0.104106  \n",
       "2       0.108141  \n",
       "3       0.111202  \n",
       "8       0.111876  \n",
       "9       0.120097  "
      ]
     },
     "execution_count": 15,
     "metadata": {},
     "output_type": "execute_result"
    }
   ],
   "source": [
    "gbm_perf = performance_table(all_gbm_models)\n",
    "gbm_perf"
   ]
  },
  {
   "cell_type": "markdown",
   "metadata": {},
   "source": [
    "### XGBoost\n",
    "\n",
    "The [XGBoost algorithm](http://docs.h2o.ai/h2o/latest-stable/h2o-docs/data-science/xgboost.html) is another Gradient Boosting algorithm.\n",
    "\n",
    "We begin by training models with parameters that are known to perform well.  We then continue by running a random discrete grid search to tune parameters that tend to have a large impact on model performance. "
   ]
  },
  {
   "cell_type": "code",
   "execution_count": 17,
   "metadata": {},
   "outputs": [],
   "source": [
    "from h2o.estimators.xgboost import H2OXGBoostEstimator"
   ]
  },
  {
   "cell_type": "markdown",
   "metadata": {},
   "source": [
    "Step 1: Train best guess models."
   ]
  },
  {
   "cell_type": "code",
   "execution_count": 18,
   "metadata": {},
   "outputs": [],
   "source": [
    "default_xgb_params = {\n",
    "    'score_tree_interval': 5,\n",
    "    'stopping_rounds': 3, # early stopping\n",
    "    'ntrees': 10000,\n",
    "    'col_sample_rate': 0.8,\n",
    "    'col_sample_rate_per_tree': 0.8\n",
    "}"
   ]
  },
  {
   "cell_type": "code",
   "execution_count": 19,
   "metadata": {},
   "outputs": [
    {
     "name": "stdout",
     "output_type": "stream",
     "text": [
      "xgboost Model Build progress: |███████████████████████████████████████████| 100%\n",
      "xgboost Model Build progress: |███████████████████████████████████████████| 100%\n",
      "xgboost Model Build progress: |███████████████████████████████████████████| 100%\n"
     ]
    }
   ],
   "source": [
    "best_guess_params = [{'max_depth': 10, 'min_rows': 5, 'sample_rate': 0.6},\n",
    "                     {'max_depth': 20, 'min_rows': 10, 'sample_rate': 0.6},\n",
    "                     {'max_depth': 5, 'min_rows': 3, 'sample_rate': 0.8},\n",
    "                    ]\n",
    "\n",
    "best_guess_xgbs = []\n",
    "for i in best_guess_params:\n",
    "    \n",
    "    model_params = copy.deepcopy(default_xgb_params)\n",
    "    for k, v in i.items():\n",
    "        model_params[k] = v\n",
    "    xgb = H2OXGBoostEstimator(nfolds=nfolds, seed=seed,\n",
    "                              **model_params\n",
    "                             )\n",
    "    xgb.train(training_frame=train, validation_frame=valid, y=target_col, x=x)\n",
    "    best_guess_xgbs = best_guess_xgbs + [xgb]"
   ]
  },
  {
   "cell_type": "markdown",
   "metadata": {},
   "source": [
    "Step 2: Train grid search."
   ]
  },
  {
   "cell_type": "code",
   "execution_count": 20,
   "metadata": {},
   "outputs": [],
   "source": [
    "xgb_search_params = {'max_depth': [5, 10, 15, 20],\n",
    "                     'min_rows': [0.01, 0.1, 1.0, 3.0, 5.0, 10.0, 15.0, 20.0],\n",
    "                     'sample_rate': [0.6, 0.8, 1.0],\n",
    "                     'col_sample_rate': [0.6, 0.8, 1.0],\n",
    "                     'col_sample_rate_per_tree': [0.7, 0.8, 0.9, 1.0],\n",
    "                     'reg_lambda': [0.001, 0.01, 0.1, 1, 10, 100],\n",
    "                     'reg_alpha': [0.001, 0.01, 0.1, 0.5, 1]\n",
    "                    }"
   ]
  },
  {
   "cell_type": "code",
   "execution_count": 21,
   "metadata": {},
   "outputs": [],
   "source": [
    "# remove parameters that are being searched from the default dictionary\n",
    "for k in xgb_search_params.keys():\n",
    "    default_xgb_params.pop(k, None)"
   ]
  },
  {
   "cell_type": "code",
   "execution_count": 22,
   "metadata": {},
   "outputs": [
    {
     "name": "stdout",
     "output_type": "stream",
     "text": [
      "xgboost Grid Build progress: |████████████████████████████████████████████| 100%\n"
     ]
    }
   ],
   "source": [
    "xgb_grid = H2OGridSearch(model=H2OXGBoostEstimator,\n",
    "                         grid_id='xgb_grid',\n",
    "                         search_criteria=search_criteria,\n",
    "                         hyper_params=xgb_search_params)\n",
    "xgb_grid.train(x=x, y=target_col,\n",
    "               training_frame=train,\n",
    "               validation_frame=valid,\n",
    "               nfolds=nfolds,\n",
    "               seed=seed,\n",
    "               **default_xgb_params)"
   ]
  },
  {
   "cell_type": "code",
   "execution_count": 23,
   "metadata": {},
   "outputs": [],
   "source": [
    "all_xgb_models = best_guess_xgbs + [h2o.get_model(id) for id in xgb_grid.get_grid().model_ids]"
   ]
  },
  {
   "cell_type": "code",
   "execution_count": 24,
   "metadata": {
    "scrolled": false
   },
   "outputs": [
    {
     "data": {
      "text/html": [
       "<div>\n",
       "<style scoped>\n",
       "    .dataframe tbody tr th:only-of-type {\n",
       "        vertical-align: middle;\n",
       "    }\n",
       "\n",
       "    .dataframe tbody tr th {\n",
       "        vertical-align: top;\n",
       "    }\n",
       "\n",
       "    .dataframe thead th {\n",
       "        text-align: right;\n",
       "    }\n",
       "</style>\n",
       "<table border=\"1\" class=\"dataframe\">\n",
       "  <thead>\n",
       "    <tr style=\"text-align: right;\">\n",
       "      <th></th>\n",
       "      <th>model</th>\n",
       "      <th>train_logloss</th>\n",
       "      <th>cv_logloss</th>\n",
       "      <th>valid_logloss</th>\n",
       "    </tr>\n",
       "  </thead>\n",
       "  <tbody>\n",
       "    <tr>\n",
       "      <th>2</th>\n",
       "      <td>XGBoost_model_python_1594045222350_9109</td>\n",
       "      <td>0.064748</td>\n",
       "      <td>0.095091</td>\n",
       "      <td>0.097964</td>\n",
       "    </tr>\n",
       "    <tr>\n",
       "      <th>3</th>\n",
       "      <td>xgb_grid_model_5</td>\n",
       "      <td>0.070484</td>\n",
       "      <td>0.091288</td>\n",
       "      <td>0.098064</td>\n",
       "    </tr>\n",
       "    <tr>\n",
       "      <th>5</th>\n",
       "      <td>xgb_grid_model_3</td>\n",
       "      <td>0.066510</td>\n",
       "      <td>0.092870</td>\n",
       "      <td>0.098688</td>\n",
       "    </tr>\n",
       "    <tr>\n",
       "      <th>4</th>\n",
       "      <td>xgb_grid_model_2</td>\n",
       "      <td>0.065265</td>\n",
       "      <td>0.092794</td>\n",
       "      <td>0.099291</td>\n",
       "    </tr>\n",
       "    <tr>\n",
       "      <th>0</th>\n",
       "      <td>XGBoost_model_python_1594045222350_8933</td>\n",
       "      <td>0.056353</td>\n",
       "      <td>0.099549</td>\n",
       "      <td>0.100640</td>\n",
       "    </tr>\n",
       "    <tr>\n",
       "      <th>1</th>\n",
       "      <td>XGBoost_model_python_1594045222350_9020</td>\n",
       "      <td>0.067878</td>\n",
       "      <td>0.094697</td>\n",
       "      <td>0.101351</td>\n",
       "    </tr>\n",
       "    <tr>\n",
       "      <th>6</th>\n",
       "      <td>xgb_grid_model_1</td>\n",
       "      <td>0.009925</td>\n",
       "      <td>0.112194</td>\n",
       "      <td>0.119220</td>\n",
       "    </tr>\n",
       "    <tr>\n",
       "      <th>7</th>\n",
       "      <td>xgb_grid_model_4</td>\n",
       "      <td>0.004930</td>\n",
       "      <td>0.121218</td>\n",
       "      <td>0.130009</td>\n",
       "    </tr>\n",
       "  </tbody>\n",
       "</table>\n",
       "</div>"
      ],
      "text/plain": [
       "                                     model  train_logloss  cv_logloss  \\\n",
       "2  XGBoost_model_python_1594045222350_9109       0.064748    0.095091   \n",
       "3                         xgb_grid_model_5       0.070484    0.091288   \n",
       "5                         xgb_grid_model_3       0.066510    0.092870   \n",
       "4                         xgb_grid_model_2       0.065265    0.092794   \n",
       "0  XGBoost_model_python_1594045222350_8933       0.056353    0.099549   \n",
       "1  XGBoost_model_python_1594045222350_9020       0.067878    0.094697   \n",
       "6                         xgb_grid_model_1       0.009925    0.112194   \n",
       "7                         xgb_grid_model_4       0.004930    0.121218   \n",
       "\n",
       "   valid_logloss  \n",
       "2       0.097964  \n",
       "3       0.098064  \n",
       "5       0.098688  \n",
       "4       0.099291  \n",
       "0       0.100640  \n",
       "1       0.101351  \n",
       "6       0.119220  \n",
       "7       0.130009  "
      ]
     },
     "execution_count": 24,
     "metadata": {},
     "output_type": "execute_result"
    }
   ],
   "source": [
    "xgb_perf = performance_table(all_xgb_models)\n",
    "xgb_perf"
   ]
  },
  {
   "cell_type": "markdown",
   "metadata": {},
   "source": [
    "### Generalized Linear Models\n",
    "\n",
    "[Generalized Linear Models](http://docs.h2o.ai/h2o/latest-stable/h2o-docs/data-science/glm.html) are highly interpretable (the coefficient assigned to each variable is defined) and less prone to overfitting. "
   ]
  },
  {
   "cell_type": "code",
   "execution_count": 25,
   "metadata": {},
   "outputs": [],
   "source": [
    "from h2o.estimators.glm import H2OGeneralizedLinearEstimator"
   ]
  },
  {
   "cell_type": "code",
   "execution_count": 26,
   "metadata": {},
   "outputs": [],
   "source": [
    "default_glm_params = {\n",
    "    'lambda_search': True,\n",
    "    'family': \"binomial\"\n",
    "}"
   ]
  },
  {
   "cell_type": "markdown",
   "metadata": {},
   "source": [
    "Train grid search."
   ]
  },
  {
   "cell_type": "code",
   "execution_count": 27,
   "metadata": {},
   "outputs": [],
   "source": [
    "glm_search_params = {'alpha': [0.0, 0.2, 0.4, 0.6, 0.8, 1.0]}"
   ]
  },
  {
   "cell_type": "code",
   "execution_count": 28,
   "metadata": {},
   "outputs": [
    {
     "name": "stdout",
     "output_type": "stream",
     "text": [
      "glm Grid Build progress: |████████████████████████████████████████████████| 100%\n"
     ]
    }
   ],
   "source": [
    "glm_grid = H2OGridSearch(model=H2OGeneralizedLinearEstimator,\n",
    "                         grid_id='glm_grid',\n",
    "                         search_criteria=search_criteria,\n",
    "                         hyper_params=glm_search_params)\n",
    "glm_grid.train(x=x, y=target_col,\n",
    "               training_frame=train,\n",
    "               validation_frame=valid,\n",
    "               nfolds=nfolds,\n",
    "               seed=seed,\n",
    "               **default_glm_params)"
   ]
  },
  {
   "cell_type": "code",
   "execution_count": 29,
   "metadata": {},
   "outputs": [],
   "source": [
    "all_glm_models = [h2o.get_model(id) for id in glm_grid.get_grid().model_ids]"
   ]
  },
  {
   "cell_type": "code",
   "execution_count": 30,
   "metadata": {
    "scrolled": false
   },
   "outputs": [
    {
     "data": {
      "text/html": [
       "<div>\n",
       "<style scoped>\n",
       "    .dataframe tbody tr th:only-of-type {\n",
       "        vertical-align: middle;\n",
       "    }\n",
       "\n",
       "    .dataframe tbody tr th {\n",
       "        vertical-align: top;\n",
       "    }\n",
       "\n",
       "    .dataframe thead th {\n",
       "        text-align: right;\n",
       "    }\n",
       "</style>\n",
       "<table border=\"1\" class=\"dataframe\">\n",
       "  <thead>\n",
       "    <tr style=\"text-align: right;\">\n",
       "      <th></th>\n",
       "      <th>model</th>\n",
       "      <th>train_logloss</th>\n",
       "      <th>cv_logloss</th>\n",
       "      <th>valid_logloss</th>\n",
       "    </tr>\n",
       "  </thead>\n",
       "  <tbody>\n",
       "    <tr>\n",
       "      <th>2</th>\n",
       "      <td>glm_grid_model_2</td>\n",
       "      <td>0.106137</td>\n",
       "      <td>0.107182</td>\n",
       "      <td>0.105525</td>\n",
       "    </tr>\n",
       "    <tr>\n",
       "      <th>3</th>\n",
       "      <td>glm_grid_model_3</td>\n",
       "      <td>0.106108</td>\n",
       "      <td>0.107183</td>\n",
       "      <td>0.105549</td>\n",
       "    </tr>\n",
       "    <tr>\n",
       "      <th>4</th>\n",
       "      <td>glm_grid_model_5</td>\n",
       "      <td>0.106117</td>\n",
       "      <td>0.107198</td>\n",
       "      <td>0.105554</td>\n",
       "    </tr>\n",
       "    <tr>\n",
       "      <th>0</th>\n",
       "      <td>glm_grid_model_4</td>\n",
       "      <td>0.106026</td>\n",
       "      <td>0.107168</td>\n",
       "      <td>0.105718</td>\n",
       "    </tr>\n",
       "    <tr>\n",
       "      <th>1</th>\n",
       "      <td>glm_grid_model_1</td>\n",
       "      <td>0.105790</td>\n",
       "      <td>0.107176</td>\n",
       "      <td>0.106050</td>\n",
       "    </tr>\n",
       "  </tbody>\n",
       "</table>\n",
       "</div>"
      ],
      "text/plain": [
       "              model  train_logloss  cv_logloss  valid_logloss\n",
       "2  glm_grid_model_2       0.106137    0.107182       0.105525\n",
       "3  glm_grid_model_3       0.106108    0.107183       0.105549\n",
       "4  glm_grid_model_5       0.106117    0.107198       0.105554\n",
       "0  glm_grid_model_4       0.106026    0.107168       0.105718\n",
       "1  glm_grid_model_1       0.105790    0.107176       0.106050"
      ]
     },
     "execution_count": 30,
     "metadata": {},
     "output_type": "execute_result"
    }
   ],
   "source": [
    "glm_perf = performance_table(all_glm_models)\n",
    "glm_perf"
   ]
  },
  {
   "cell_type": "markdown",
   "metadata": {},
   "source": [
    "## Examine Best Model\n",
    "\n",
    "The table below shows the models with the lowest logloss on our validation data. The best model is a GBM model from our grid search."
   ]
  },
  {
   "cell_type": "code",
   "execution_count": 31,
   "metadata": {},
   "outputs": [
    {
     "data": {
      "text/html": [
       "<div>\n",
       "<style scoped>\n",
       "    .dataframe tbody tr th:only-of-type {\n",
       "        vertical-align: middle;\n",
       "    }\n",
       "\n",
       "    .dataframe tbody tr th {\n",
       "        vertical-align: top;\n",
       "    }\n",
       "\n",
       "    .dataframe thead th {\n",
       "        text-align: right;\n",
       "    }\n",
       "</style>\n",
       "<table border=\"1\" class=\"dataframe\">\n",
       "  <thead>\n",
       "    <tr style=\"text-align: right;\">\n",
       "      <th></th>\n",
       "      <th>model</th>\n",
       "      <th>train_logloss</th>\n",
       "      <th>cv_logloss</th>\n",
       "      <th>valid_logloss</th>\n",
       "    </tr>\n",
       "  </thead>\n",
       "  <tbody>\n",
       "    <tr>\n",
       "      <th>10</th>\n",
       "      <td>gbm_grid_model_2</td>\n",
       "      <td>0.075138</td>\n",
       "      <td>0.091201</td>\n",
       "      <td>0.094628</td>\n",
       "    </tr>\n",
       "    <tr>\n",
       "      <th>17</th>\n",
       "      <td>XGBoost_model_python_1594045222350_9109</td>\n",
       "      <td>0.064748</td>\n",
       "      <td>0.095091</td>\n",
       "      <td>0.097964</td>\n",
       "    </tr>\n",
       "    <tr>\n",
       "      <th>18</th>\n",
       "      <td>xgb_grid_model_5</td>\n",
       "      <td>0.070484</td>\n",
       "      <td>0.091288</td>\n",
       "      <td>0.098064</td>\n",
       "    </tr>\n",
       "    <tr>\n",
       "      <th>9</th>\n",
       "      <td>GBM_model_python_1594045222350_8150</td>\n",
       "      <td>0.054082</td>\n",
       "      <td>0.092299</td>\n",
       "      <td>0.098377</td>\n",
       "    </tr>\n",
       "    <tr>\n",
       "      <th>20</th>\n",
       "      <td>xgb_grid_model_3</td>\n",
       "      <td>0.066510</td>\n",
       "      <td>0.092870</td>\n",
       "      <td>0.098688</td>\n",
       "    </tr>\n",
       "  </tbody>\n",
       "</table>\n",
       "</div>"
      ],
      "text/plain": [
       "                                      model  train_logloss  cv_logloss  \\\n",
       "10                         gbm_grid_model_2       0.075138    0.091201   \n",
       "17  XGBoost_model_python_1594045222350_9109       0.064748    0.095091   \n",
       "18                         xgb_grid_model_5       0.070484    0.091288   \n",
       "9       GBM_model_python_1594045222350_8150       0.054082    0.092299   \n",
       "20                         xgb_grid_model_3       0.066510    0.092870   \n",
       "\n",
       "    valid_logloss  \n",
       "10       0.094628  \n",
       "17       0.097964  \n",
       "18       0.098064  \n",
       "9        0.098377  \n",
       "20       0.098688  "
      ]
     },
     "execution_count": 31,
     "metadata": {},
     "output_type": "execute_result"
    }
   ],
   "source": [
    "model_perf = performance_table(all_glm_models + all_gbm_models + all_xgb_models)\n",
    "model_perf.head()"
   ]
  },
  {
   "cell_type": "code",
   "execution_count": 33,
   "metadata": {},
   "outputs": [],
   "source": [
    "best_model = h2o.get_model(model_perf.iloc[0, 0])"
   ]
  },
  {
   "cell_type": "code",
   "execution_count": 34,
   "metadata": {},
   "outputs": [
    {
     "data": {
      "image/png": "[encoded data removed]",
      "text/plain": [
       "<Figure size 1008x720 with 1 Axes>"
      ]
     },
     "metadata": {
      "needs_background": "light"
     },
     "output_type": "display_data"
    }
   ],
   "source": [
    "%matplotlib inline\n",
    "best_model.varimp_plot()"
   ]
  },
  {
   "cell_type": "markdown",
   "metadata": {},
   "source": [
    "We can examine the top two variables using Partial Dependence plots.  We can see that as `duration` increases the probability that `y = yes` increases. "
   ]
  },
  {
   "cell_type": "code",
   "execution_count": 47,
   "metadata": {},
   "outputs": [
    {
     "name": "stdout",
     "output_type": "stream",
     "text": [
      "PartialDependencePlot progress: |█████████████████████████████████████████| 100%\n"
     ]
    },
    {
     "data": {
      "image/png": "[encoded data removed]",
      "text/plain": [
       "<Figure size 360x360 with 1 Axes>"
      ]
     },
     "metadata": {
      "needs_background": "light"
     },
     "output_type": "display_data"
    }
   ],
   "source": [
    "# decile bins for PDP\n",
    "bins = list(train[\"duration\"].quantile(prob = [0.1*i for i in range(0, 11)]).as_data_frame().iloc[:, 1])\n",
    "best_model.partial_plot(train, cols=[\"duration\"], figsize=(5, 5), user_splits={'duration': bins});"
   ]
  },
  {
   "cell_type": "markdown",
   "metadata": {},
   "source": [
    "We can see from the table below that jobs like `admin` and `management` have a higher likelihood of `y = yes`."
   ]
  },
  {
   "cell_type": "code",
   "execution_count": 58,
   "metadata": {
    "scrolled": true
   },
   "outputs": [
    {
     "name": "stdout",
     "output_type": "stream",
     "text": [
      "PartialDependencePlot progress: |█████████████████████████████████████████| 100%\n",
      "\n",
      "PartialDependence: Partial Dependence Plot of model gbm_grid_model_2 on column 'job'\n"
     ]
    },
    {
     "data": {
      "text/html": [
       "<div>\n",
       "<style scoped>\n",
       "    .dataframe tbody tr th:only-of-type {\n",
       "        vertical-align: middle;\n",
       "    }\n",
       "\n",
       "    .dataframe tbody tr th {\n",
       "        vertical-align: top;\n",
       "    }\n",
       "\n",
       "    .dataframe thead th {\n",
       "        text-align: right;\n",
       "    }\n",
       "</style>\n",
       "<table border=\"1\" class=\"dataframe\">\n",
       "  <thead>\n",
       "    <tr style=\"text-align: right;\">\n",
       "      <th></th>\n",
       "      <th>job</th>\n",
       "      <th>mean_response</th>\n",
       "      <th>stddev_response</th>\n",
       "      <th>std_error_mean_response</th>\n",
       "    </tr>\n",
       "  </thead>\n",
       "  <tbody>\n",
       "    <tr>\n",
       "      <th>0</th>\n",
       "      <td>admin.</td>\n",
       "      <td>0.050270</td>\n",
       "      <td>0.143574</td>\n",
       "      <td>0.001170</td>\n",
       "    </tr>\n",
       "    <tr>\n",
       "      <th>1</th>\n",
       "      <td>blue-collar</td>\n",
       "      <td>0.045342</td>\n",
       "      <td>0.132850</td>\n",
       "      <td>0.001082</td>\n",
       "    </tr>\n",
       "    <tr>\n",
       "      <th>2</th>\n",
       "      <td>entrepreneur</td>\n",
       "      <td>0.045383</td>\n",
       "      <td>0.121308</td>\n",
       "      <td>0.000988</td>\n",
       "    </tr>\n",
       "    <tr>\n",
       "      <th>3</th>\n",
       "      <td>housemaid</td>\n",
       "      <td>0.033160</td>\n",
       "      <td>0.092855</td>\n",
       "      <td>0.000756</td>\n",
       "    </tr>\n",
       "    <tr>\n",
       "      <th>4</th>\n",
       "      <td>management</td>\n",
       "      <td>0.050081</td>\n",
       "      <td>0.142702</td>\n",
       "      <td>0.001163</td>\n",
       "    </tr>\n",
       "    <tr>\n",
       "      <th>5</th>\n",
       "      <td>retired</td>\n",
       "      <td>0.041673</td>\n",
       "      <td>0.123187</td>\n",
       "      <td>0.001004</td>\n",
       "    </tr>\n",
       "    <tr>\n",
       "      <th>6</th>\n",
       "      <td>self-employed</td>\n",
       "      <td>0.032322</td>\n",
       "      <td>0.092733</td>\n",
       "      <td>0.000755</td>\n",
       "    </tr>\n",
       "    <tr>\n",
       "      <th>7</th>\n",
       "      <td>services</td>\n",
       "      <td>0.045380</td>\n",
       "      <td>0.125427</td>\n",
       "      <td>0.001022</td>\n",
       "    </tr>\n",
       "    <tr>\n",
       "      <th>8</th>\n",
       "      <td>student</td>\n",
       "      <td>0.030099</td>\n",
       "      <td>0.089170</td>\n",
       "      <td>0.000726</td>\n",
       "    </tr>\n",
       "    <tr>\n",
       "      <th>9</th>\n",
       "      <td>technician</td>\n",
       "      <td>0.045101</td>\n",
       "      <td>0.124222</td>\n",
       "      <td>0.001012</td>\n",
       "    </tr>\n",
       "    <tr>\n",
       "      <th>10</th>\n",
       "      <td>unemployed</td>\n",
       "      <td>0.041257</td>\n",
       "      <td>0.112605</td>\n",
       "      <td>0.000917</td>\n",
       "    </tr>\n",
       "    <tr>\n",
       "      <th>11</th>\n",
       "      <td>unknown</td>\n",
       "      <td>0.041854</td>\n",
       "      <td>0.120957</td>\n",
       "      <td>0.000985</td>\n",
       "    </tr>\n",
       "  </tbody>\n",
       "</table>\n",
       "</div>"
      ],
      "text/plain": [
       "              job  mean_response  stddev_response  std_error_mean_response\n",
       "0          admin.       0.050270         0.143574                 0.001170\n",
       "1     blue-collar       0.045342         0.132850                 0.001082\n",
       "2    entrepreneur       0.045383         0.121308                 0.000988\n",
       "3       housemaid       0.033160         0.092855                 0.000756\n",
       "4      management       0.050081         0.142702                 0.001163\n",
       "5         retired       0.041673         0.123187                 0.001004\n",
       "6   self-employed       0.032322         0.092733                 0.000755\n",
       "7        services       0.045380         0.125427                 0.001022\n",
       "8         student       0.030099         0.089170                 0.000726\n",
       "9      technician       0.045101         0.124222                 0.001012\n",
       "10     unemployed       0.041257         0.112605                 0.000917\n",
       "11        unknown       0.041854         0.120957                 0.000985"
      ]
     },
     "metadata": {},
     "output_type": "display_data"
    },
    {
     "data": {
      "text/plain": [
       "[]"
      ]
     },
     "execution_count": 58,
     "metadata": {},
     "output_type": "execute_result"
    }
   ],
   "source": [
    "best_model.partial_plot(train, cols=[\"job\"], figsize=(5, 5), plot=False)"
   ]
  },
  {
   "cell_type": "markdown",
   "metadata": {},
   "source": [
    "## Shutdown the Cluster"
   ]
  },
  {
   "cell_type": "code",
   "execution_count": 59,
   "metadata": {},
   "outputs": [
    {
     "name": "stdout",
     "output_type": "stream",
     "text": [
      "H2O session _sid_a703 closed.\n"
     ]
    }
   ],
   "source": [
    "h2o.cluster().shutdown()"
   ]
  },
  {
   "cell_type": "code",
   "execution_count": null,
   "metadata": {},
   "outputs": [],
   "source": []
  }
 ],
 "metadata": {
  "kernelspec": {
   "display_name": "Python 3",
   "language": "python",
   "name": "python3"
  },
  "language_info": {
   "codemirror_mode": {
    "name": "ipython",
    "version": 3
   },
   "file_extension": ".py",
   "mimetype": "text/x-python",
   "name": "python",
   "nbconvert_exporter": "python",
   "pygments_lexer": "ipython3",
   "version": "3.6.8"
  }
 },
 "nbformat": 4,
 "nbformat_minor": 4
}
