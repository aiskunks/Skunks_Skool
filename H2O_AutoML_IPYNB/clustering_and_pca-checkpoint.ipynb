{
 "cells": [
  {
   "cell_type": "code",
   "execution_count": 1,
   "metadata": {
    "collapsed": true
   },
   "outputs": [],
   "source": [
    "# imports\n",
    "import h2o \n",
    "import matplotlib.pyplot as plt\n",
    "import numpy as np\n",
    "import pandas as pd\n",
    "from h2o.estimators.deeplearning import H2ODeepLearningEstimator\n",
    "from h2o.estimators.kmeans import H2OKMeansEstimator\n",
    "from h2o.estimators.pca import H2OPrincipalComponentAnalysisEstimator"
   ]
  },
  {
   "cell_type": "code",
   "execution_count": 2,
   "metadata": {
    "collapsed": true
   },
   "outputs": [],
   "source": [
    "# display matplotlib graphics in notebook\n",
    "%matplotlib inline"
   ]
  },
  {
   "cell_type": "code",
   "execution_count": 3,
   "metadata": {
    "collapsed": false
   },
   "outputs": [
    {
     "name": "stdout",
     "output_type": "stream",
     "text": [
      "Checking whether there is an H2O instance running at http://localhost:54321..... not found.\n",
      "Attempting to start a local H2O server...\n",
      "  Java Version: java version \"1.8.0_112\"; Java(TM) SE Runtime Environment (build 1.8.0_112-b16); Java HotSpot(TM) 64-Bit Server VM (build 25.112-b16, mixed mode)\n",
      "  Starting server from /Users/phall/anaconda/lib/python3.5/site-packages/h2o/backend/bin/h2o.jar\n",
      "  Ice root: /var/folders/tc/0ss1l73113j3wdyjsxmy1j2r0000gn/T/tmp70iromaq\n",
      "  JVM stdout: /var/folders/tc/0ss1l73113j3wdyjsxmy1j2r0000gn/T/tmp70iromaq/h2o_phall_started_from_python.out\n",
      "  JVM stderr: /var/folders/tc/0ss1l73113j3wdyjsxmy1j2r0000gn/T/tmp70iromaq/h2o_phall_started_from_python.err\n",
      "  Server is running at http://127.0.0.1:54321\n",
      "Connecting to H2O server at http://127.0.0.1:54321... successful.\n"
     ]
    },
    {
     "data": {
      "text/html": [
       "<div style=\"overflow:auto\"><table style=\"width:50%\"><tr><td>H2O cluster uptime:</td>\n",
       "<td>02 secs</td></tr>\n",
       "<tr><td>H2O cluster version:</td>\n",
       "<td>3.12.0.1</td></tr>\n",
       "<tr><td>H2O cluster version age:</td>\n",
       "<td>29 days </td></tr>\n",
       "<tr><td>H2O cluster name:</td>\n",
       "<td>H2O_from_python_phall_46ug2j</td></tr>\n",
       "<tr><td>H2O cluster total nodes:</td>\n",
       "<td>1</td></tr>\n",
       "<tr><td>H2O cluster free memory:</td>\n",
       "<td>3.556 Gb</td></tr>\n",
       "<tr><td>H2O cluster total cores:</td>\n",
       "<td>8</td></tr>\n",
       "<tr><td>H2O cluster allowed cores:</td>\n",
       "<td>8</td></tr>\n",
       "<tr><td>H2O cluster status:</td>\n",
       "<td>accepting new members, healthy</td></tr>\n",
       "<tr><td>H2O connection url:</td>\n",
       "<td>http://127.0.0.1:54321</td></tr>\n",
       "<tr><td>H2O connection proxy:</td>\n",
       "<td>None</td></tr>\n",
       "<tr><td>H2O internal security:</td>\n",
       "<td>False</td></tr>\n",
       "<tr><td>Python version:</td>\n",
       "<td>3.5.2 final</td></tr></table></div>"
      ],
      "text/plain": [
       "--------------------------  ------------------------------\n",
       "H2O cluster uptime:         02 secs\n",
       "H2O cluster version:        3.12.0.1\n",
       "H2O cluster version age:    29 days\n",
       "H2O cluster name:           H2O_from_python_phall_46ug2j\n",
       "H2O cluster total nodes:    1\n",
       "H2O cluster free memory:    3.556 Gb\n",
       "H2O cluster total cores:    8\n",
       "H2O cluster allowed cores:  8\n",
       "H2O cluster status:         accepting new members, healthy\n",
       "H2O connection url:         http://127.0.0.1:54321\n",
       "H2O connection proxy:\n",
       "H2O internal security:      False\n",
       "Python version:             3.5.2 final\n",
       "--------------------------  ------------------------------"
      ]
     },
     "metadata": {},
     "output_type": "display_data"
    }
   ],
   "source": [
    "# start and connect to h2o server\n",
    "h2o.init()"
   ]
  },
  {
   "cell_type": "code",
   "execution_count": 4,
   "metadata": {
    "collapsed": true
   },
   "outputs": [],
   "source": [
    "# load clean data\n",
    "path = 'https://raw.githubusercontent.com/h2oai/app-consumer-loan/master/data/loan.csv'"
   ]
  },
  {
   "cell_type": "code",
   "execution_count": 5,
   "metadata": {
    "collapsed": true
   },
   "outputs": [],
   "source": [
    "# define input variable measurement levels \n",
    "# strings automatically parsed as enums (nominal)\n",
    "# numbers automatically parsed as numeric\n",
    "col_types = {'bad_loan': 'enum'}"
   ]
  },
  {
   "cell_type": "code",
   "execution_count": 6,
   "metadata": {
    "collapsed": false
   },
   "outputs": [
    {
     "name": "stdout",
     "output_type": "stream",
     "text": [
      "Parse progress: |█████████████████████████████████████████████████████████| 100%\n"
     ]
    }
   ],
   "source": [
    "frame = h2o.import_file(path=path, col_types=col_types) # multi-threaded import"
   ]
  },
  {
   "cell_type": "code",
   "execution_count": 7,
   "metadata": {
    "collapsed": false
   },
   "outputs": [
    {
     "name": "stdout",
     "output_type": "stream",
     "text": [
      "Rows:163987\n",
      "Cols:15\n",
      "\n",
      "\n"
     ]
    },
    {
     "data": {
      "text/html": [
       "<table>\n",
       "<thead>\n",
       "<tr><th>       </th><th>loan_amnt         </th><th>term     </th><th>int_rate          </th><th>emp_length       </th><th>home_ownership  </th><th>annual_inc       </th><th>purpose           </th><th>addr_state  </th><th>dti               </th><th>delinq_2yrs        </th><th>revol_util        </th><th>total_acc         </th><th>bad_loan  </th><th>longest_credit_length  </th><th>verification_status  </th></tr>\n",
       "</thead>\n",
       "<tbody>\n",
       "<tr><td>type   </td><td>int               </td><td>enum     </td><td>real              </td><td>int              </td><td>enum            </td><td>real             </td><td>enum              </td><td>enum        </td><td>real              </td><td>int                </td><td>real              </td><td>int               </td><td>enum      </td><td>int                    </td><td>enum                 </td></tr>\n",
       "<tr><td>mins   </td><td>500.0             </td><td>         </td><td>5.42              </td><td>0.0              </td><td>                </td><td>1896.0           </td><td>                  </td><td>            </td><td>0.0               </td><td>0.0                </td><td>0.0               </td><td>1.0               </td><td>          </td><td>0.0                    </td><td>                     </td></tr>\n",
       "<tr><td>mean   </td><td>13074.169141456332</td><td>         </td><td>13.715904065566189</td><td>5.684352932995338</td><td>                </td><td>71915.67051974905</td><td>                  </td><td>            </td><td>15.881530121290167</td><td>0.22735700606252723</td><td>54.07917280242262 </td><td>24.579733834274574</td><td>          </td><td>14.854273655448333     </td><td>                     </td></tr>\n",
       "<tr><td>maxs   </td><td>35000.0           </td><td>         </td><td>26.060000000000002</td><td>10.0             </td><td>                </td><td>7141778.0        </td><td>                  </td><td>            </td><td>39.99             </td><td>29.0               </td><td>150.70000000000002</td><td>118.0             </td><td>          </td><td>65.0                   </td><td>                     </td></tr>\n",
       "<tr><td>sigma  </td><td>7993.556188734672 </td><td>         </td><td>4.391939870545809 </td><td>3.610663731100238</td><td>                </td><td>59070.91565491818</td><td>                  </td><td>            </td><td>7.5876682241925355</td><td>0.6941679229284191 </td><td>25.285366766770498</td><td>11.685190365910666</td><td>          </td><td>6.947732922546689      </td><td>                     </td></tr>\n",
       "<tr><td>zeros  </td><td>0                 </td><td>         </td><td>0                 </td><td>14248            </td><td>                </td><td>0                </td><td>                  </td><td>            </td><td>270               </td><td>139459             </td><td>1562              </td><td>0                 </td><td>          </td><td>11                     </td><td>                     </td></tr>\n",
       "<tr><td>missing</td><td>0                 </td><td>0        </td><td>0                 </td><td>5804             </td><td>0               </td><td>4                </td><td>0                 </td><td>0           </td><td>0                 </td><td>29                 </td><td>193               </td><td>29                </td><td>0         </td><td>29                     </td><td>0                    </td></tr>\n",
       "<tr><td>0      </td><td>5000.0            </td><td>36 months</td><td>10.65             </td><td>10.0             </td><td>RENT            </td><td>24000.0          </td><td>credit_card       </td><td>AZ          </td><td>27.650000000000002</td><td>0.0                </td><td>83.7              </td><td>9.0               </td><td>0         </td><td>26.0                   </td><td>verified             </td></tr>\n",
       "<tr><td>1      </td><td>2500.0            </td><td>60 months</td><td>15.27             </td><td>0.0              </td><td>RENT            </td><td>30000.0          </td><td>car               </td><td>GA          </td><td>1.0               </td><td>0.0                </td><td>9.4               </td><td>4.0               </td><td>1         </td><td>12.0                   </td><td>verified             </td></tr>\n",
       "<tr><td>2      </td><td>2400.0            </td><td>36 months</td><td>15.96             </td><td>10.0             </td><td>RENT            </td><td>12252.0          </td><td>small_business    </td><td>IL          </td><td>8.72              </td><td>0.0                </td><td>98.5              </td><td>10.0              </td><td>0         </td><td>10.0                   </td><td>not verified         </td></tr>\n",
       "<tr><td>3      </td><td>10000.0           </td><td>36 months</td><td>13.49             </td><td>10.0             </td><td>RENT            </td><td>49200.0          </td><td>other             </td><td>CA          </td><td>20.0              </td><td>0.0                </td><td>21.0              </td><td>37.0              </td><td>0         </td><td>15.0                   </td><td>verified             </td></tr>\n",
       "<tr><td>4      </td><td>5000.0            </td><td>36 months</td><td>7.9               </td><td>3.0              </td><td>RENT            </td><td>36000.0          </td><td>wedding           </td><td>AZ          </td><td>11.200000000000001</td><td>0.0                </td><td>28.3              </td><td>12.0              </td><td>0         </td><td>7.0                    </td><td>verified             </td></tr>\n",
       "<tr><td>5      </td><td>3000.0            </td><td>36 months</td><td>18.64             </td><td>9.0              </td><td>RENT            </td><td>48000.0          </td><td>car               </td><td>CA          </td><td>5.3500000000000005</td><td>0.0                </td><td>87.5              </td><td>4.0               </td><td>0         </td><td>4.0                    </td><td>verified             </td></tr>\n",
       "<tr><td>6      </td><td>5600.0            </td><td>60 months</td><td>21.28             </td><td>4.0              </td><td>OWN             </td><td>40000.0          </td><td>small_business    </td><td>CA          </td><td>5.55              </td><td>0.0                </td><td>32.6              </td><td>13.0              </td><td>1         </td><td>7.0                    </td><td>verified             </td></tr>\n",
       "<tr><td>7      </td><td>5375.0            </td><td>60 months</td><td>12.69             </td><td>0.0              </td><td>RENT            </td><td>15000.0          </td><td>other             </td><td>TX          </td><td>18.080000000000002</td><td>0.0                </td><td>36.5              </td><td>3.0               </td><td>1         </td><td>7.0                    </td><td>verified             </td></tr>\n",
       "<tr><td>8      </td><td>6500.0            </td><td>60 months</td><td>14.65             </td><td>5.0              </td><td>OWN             </td><td>72000.0          </td><td>debt_consolidation</td><td>AZ          </td><td>16.12             </td><td>0.0                </td><td>20.6              </td><td>23.0              </td><td>0         </td><td>13.0                   </td><td>not verified         </td></tr>\n",
       "<tr><td>9      </td><td>12000.0           </td><td>36 months</td><td>12.69             </td><td>10.0             </td><td>OWN             </td><td>75000.0          </td><td>debt_consolidation</td><td>CA          </td><td>10.78             </td><td>0.0                </td><td>67.10000000000001 </td><td>34.0              </td><td>0         </td><td>22.0                   </td><td>verified             </td></tr>\n",
       "</tbody>\n",
       "</table>"
      ]
     },
     "metadata": {},
     "output_type": "display_data"
    }
   ],
   "source": [
    "frame.describe()"
   ]
  },
  {
   "cell_type": "code",
   "execution_count": 8,
   "metadata": {
    "collapsed": false
   },
   "outputs": [
    {
     "name": "stdout",
     "output_type": "stream",
     "text": [
      "bad_loan\n",
      "['loan_amnt', 'term', 'int_rate', 'emp_length', 'home_ownership', 'annual_inc', 'purpose', 'addr_state', 'dti', 'delinq_2yrs', 'revol_util', 'total_acc', 'longest_credit_length', 'verification_status']\n"
     ]
    }
   ],
   "source": [
    "# assign target and inputs\n",
    "y = 'bad_loan'\n",
    "X = [name for name in frame.columns if name != y]\n",
    "print(y)\n",
    "print(X)"
   ]
  },
  {
   "cell_type": "code",
   "execution_count": 9,
   "metadata": {
    "collapsed": false
   },
   "outputs": [
    {
     "name": "stdout",
     "output_type": "stream",
     "text": [
      "['home_ownership', 'addr_state', 'verification_status', 'purpose', 'term']\n",
      "['revol_util', 'emp_length', 'annual_inc', 'loan_amnt', 'longest_credit_length', 'delinq_2yrs', 'total_acc', 'dti', 'int_rate']\n"
     ]
    }
   ],
   "source": [
    "# determine column types\n",
    "reals, enums = [], []\n",
    "for key, val in frame.types.items():\n",
    "    if key in X:\n",
    "        if val == 'enum':\n",
    "            enums.append(key)\n",
    "        else: \n",
    "            reals.append(key)\n",
    "\n",
    "print(enums)\n",
    "print(reals)"
   ]
  },
  {
   "cell_type": "code",
   "execution_count": 10,
   "metadata": {
    "collapsed": false
   },
   "outputs": [],
   "source": [
    "# impute missing values\n",
    "# standardize for both clustering and PCA\n",
    "frame[reals].impute(method='mean')\n",
    "frame[reals] = frame[reals].scale()"
   ]
  },
  {
   "cell_type": "code",
   "execution_count": 11,
   "metadata": {
    "collapsed": false
   },
   "outputs": [
    {
     "name": "stdout",
     "output_type": "stream",
     "text": [
      "kmeans Model Build progress: |████████████████████████████████████████████| 100%\n",
      "Model Details\n",
      "=============\n",
      "H2OKMeansEstimator :  K-means\n",
      "Model Key:  KMeans_model_python_1499374486928_1\n",
      "\n",
      "\n",
      "ModelMetricsClustering: kmeans\n",
      "** Reported on train data. **\n",
      "\n",
      "MSE: NaN\n",
      "RMSE: NaN\n",
      "Total Within Cluster Sum of Square Error: 1597695.0117686177\n",
      "Total Sum of Square Error to Grand Mean: 1859349.9953409024\n",
      "Between Cluster Sum of Square Error: 261654.9835722847\n",
      "Centroid Statistics: \n"
     ]
    },
    {
     "data": {
      "text/html": [
       "<div style=\"overflow:auto\"><table style=\"width:50%\"><tr><td><b></b></td>\n",
       "<td><b>centroid</b></td>\n",
       "<td><b>size</b></td>\n",
       "<td><b>within_cluster_sum_of_squares</b></td></tr>\n",
       "<tr><td></td>\n",
       "<td>1.0</td>\n",
       "<td>102044.0</td>\n",
       "<td>848132.4869012</td></tr>\n",
       "<tr><td></td>\n",
       "<td>2.0</td>\n",
       "<td>6.0</td>\n",
       "<td>1899.4841206</td></tr>\n",
       "<tr><td></td>\n",
       "<td>3.0</td>\n",
       "<td>61937.0</td>\n",
       "<td>747663.0407469</td></tr></table></div>"
      ],
      "text/plain": [
       "    centroid    size    within_cluster_sum_of_squares\n",
       "--  ----------  ------  -------------------------------\n",
       "    1           102044  848132\n",
       "    2           6       1899.48\n",
       "    3           61937   747663"
      ]
     },
     "metadata": {},
     "output_type": "display_data"
    },
    {
     "name": "stdout",
     "output_type": "stream",
     "text": [
      "Scoring History: \n"
     ]
    },
    {
     "data": {
      "text/html": [
       "<div style=\"overflow:auto\"><table style=\"width:50%\"><tr><td><b></b></td>\n",
       "<td><b>timestamp</b></td>\n",
       "<td><b>duration</b></td>\n",
       "<td><b>iteration</b></td>\n",
       "<td><b>number_of_reassigned_observations</b></td>\n",
       "<td><b>within_cluster_sum_of_squares</b></td></tr>\n",
       "<tr><td></td>\n",
       "<td>2017-07-06 16:54:53</td>\n",
       "<td> 0.094 sec</td>\n",
       "<td>0.0</td>\n",
       "<td>nan</td>\n",
       "<td>nan</td></tr>\n",
       "<tr><td></td>\n",
       "<td>2017-07-06 16:54:54</td>\n",
       "<td> 0.582 sec</td>\n",
       "<td>1.0</td>\n",
       "<td>163987.0</td>\n",
       "<td>3748306.5105250</td></tr>\n",
       "<tr><td></td>\n",
       "<td>2017-07-06 16:54:54</td>\n",
       "<td> 0.737 sec</td>\n",
       "<td>2.0</td>\n",
       "<td>217.0</td>\n",
       "<td>1775427.0474256</td></tr>\n",
       "<tr><td></td>\n",
       "<td>2017-07-06 16:54:54</td>\n",
       "<td> 0.776 sec</td>\n",
       "<td>3.0</td>\n",
       "<td>411.0</td>\n",
       "<td>1771667.8630573</td></tr>\n",
       "<tr><td></td>\n",
       "<td>2017-07-06 16:54:54</td>\n",
       "<td> 0.804 sec</td>\n",
       "<td>4.0</td>\n",
       "<td>747.0</td>\n",
       "<td>1766087.4662912</td></tr>\n",
       "<tr><td></td>\n",
       "<td>2017-07-06 16:54:54</td>\n",
       "<td> 0.831 sec</td>\n",
       "<td>5.0</td>\n",
       "<td>1522.0</td>\n",
       "<td>1758472.7083499</td></tr>\n",
       "<tr><td></td>\n",
       "<td>2017-07-06 16:54:54</td>\n",
       "<td> 0.859 sec</td>\n",
       "<td>6.0</td>\n",
       "<td>3710.0</td>\n",
       "<td>1744870.7418730</td></tr>\n",
       "<tr><td></td>\n",
       "<td>2017-07-06 16:54:54</td>\n",
       "<td> 0.880 sec</td>\n",
       "<td>7.0</td>\n",
       "<td>9178.0</td>\n",
       "<td>1714168.6983033</td></tr>\n",
       "<tr><td></td>\n",
       "<td>2017-07-06 16:54:54</td>\n",
       "<td> 0.905 sec</td>\n",
       "<td>8.0</td>\n",
       "<td>12886.0</td>\n",
       "<td>1671183.7363382</td></tr>\n",
       "<tr><td></td>\n",
       "<td>2017-07-06 16:54:54</td>\n",
       "<td> 0.931 sec</td>\n",
       "<td>9.0</td>\n",
       "<td>14173.0</td>\n",
       "<td>1631656.6814824</td></tr>\n",
       "<tr><td></td>\n",
       "<td>2017-07-06 16:54:54</td>\n",
       "<td> 0.949 sec</td>\n",
       "<td>10.0</td>\n",
       "<td>11393.0</td>\n",
       "<td>1609675.5923421</td></tr></table></div>"
      ],
      "text/plain": [
       "    timestamp            duration    iteration    number_of_reassigned_observations    within_cluster_sum_of_squares\n",
       "--  -------------------  ----------  -----------  -----------------------------------  -------------------------------\n",
       "    2017-07-06 16:54:53  0.094 sec   0            nan                                  nan\n",
       "    2017-07-06 16:54:54  0.582 sec   1            163987                               3.74831e+06\n",
       "    2017-07-06 16:54:54  0.737 sec   2            217                                  1.77543e+06\n",
       "    2017-07-06 16:54:54  0.776 sec   3            411                                  1.77167e+06\n",
       "    2017-07-06 16:54:54  0.804 sec   4            747                                  1.76609e+06\n",
       "    2017-07-06 16:54:54  0.831 sec   5            1522                                 1.75847e+06\n",
       "    2017-07-06 16:54:54  0.859 sec   6            3710                                 1.74487e+06\n",
       "    2017-07-06 16:54:54  0.880 sec   7            9178                                 1.71417e+06\n",
       "    2017-07-06 16:54:54  0.905 sec   8            12886                                1.67118e+06\n",
       "    2017-07-06 16:54:54  0.931 sec   9            14173                                1.63166e+06\n",
       "    2017-07-06 16:54:54  0.949 sec   10           11393                                1.60968e+06"
      ]
     },
     "metadata": {},
     "output_type": "display_data"
    },
    {
     "name": "stdout",
     "output_type": "stream",
     "text": [
      "\n"
     ]
    }
   ],
   "source": [
    "# train k-means cluster model\n",
    "# print summary\n",
    "clusters = H2OKMeansEstimator(standardize=False, k=3, seed=12345)\n",
    "clusters.train(x=X, training_frame=frame)\n",
    "print(clusters)\n",
    "\n",
    "# view detailed results at http://ip:port/flow/index.html"
   ]
  },
  {
   "cell_type": "code",
   "execution_count": 12,
   "metadata": {
    "collapsed": false
   },
   "outputs": [
    {
     "name": "stdout",
     "output_type": "stream",
     "text": [
      "kmeans prediction progress: |█████████████████████████████████████████████| 100%\n"
     ]
    },
    {
     "data": {
      "text/html": [
       "<table>\n",
       "<thead>\n",
       "<tr><th style=\"text-align: right;\">  predict</th></tr>\n",
       "</thead>\n",
       "<tbody>\n",
       "<tr><td style=\"text-align: right;\">        0</td></tr>\n",
       "<tr><td style=\"text-align: right;\">        0</td></tr>\n",
       "<tr><td style=\"text-align: right;\">        0</td></tr>\n",
       "<tr><td style=\"text-align: right;\">        0</td></tr>\n",
       "<tr><td style=\"text-align: right;\">        0</td></tr>\n",
       "<tr><td style=\"text-align: right;\">        0</td></tr>\n",
       "<tr><td style=\"text-align: right;\">        0</td></tr>\n",
       "<tr><td style=\"text-align: right;\">        0</td></tr>\n",
       "<tr><td style=\"text-align: right;\">        0</td></tr>\n",
       "<tr><td style=\"text-align: right;\">        2</td></tr>\n",
       "</tbody>\n",
       "</table>"
      ]
     },
     "metadata": {},
     "output_type": "display_data"
    },
    {
     "data": {
      "text/plain": []
     },
     "execution_count": 12,
     "metadata": {},
     "output_type": "execute_result"
    }
   ],
   "source": [
    "# join cluster labels to original data for further analysis\n",
    "labels = clusters.predict(frame)\n",
    "labeled_frame = frame.cbind(labels)\n",
    "labeled_frame[-1].head()"
   ]
  },
  {
   "cell_type": "code",
   "execution_count": 13,
   "metadata": {
    "collapsed": false
   },
   "outputs": [
    {
     "data": {
      "text/html": [
       "<table>\n",
       "<thead>\n",
       "<tr><th style=\"text-align: right;\">  predict</th><th style=\"text-align: right;\">  mean_total_acc</th><th style=\"text-align: right;\">  mean_longest_credit_length</th><th style=\"text-align: right;\">  mean_revol_util</th><th style=\"text-align: right;\">  mean_delinq_2yrs</th><th style=\"text-align: right;\">  mean_loan_amnt</th><th style=\"text-align: right;\">  mean_dti</th><th style=\"text-align: right;\">  mean_int_rate</th><th style=\"text-align: right;\">  mean_annual_inc</th><th style=\"text-align: right;\">  mean_emp_length</th></tr>\n",
       "</thead>\n",
       "<tbody>\n",
       "<tr><td style=\"text-align: right;\">        0</td><td style=\"text-align: right;\">      -0.417512 </td><td style=\"text-align: right;\">                   -0.368099</td><td style=\"text-align: right;\">       -0.0872035</td><td style=\"text-align: right;\">         -0.145322</td><td style=\"text-align: right;\">       -0.448524</td><td style=\"text-align: right;\"> -0.123311</td><td style=\"text-align: right;\">      -0.172252</td><td style=\"text-align: right;\">        -0.250118</td><td style=\"text-align: right;\">        -0.261724</td></tr>\n",
       "<tr><td style=\"text-align: right;\">        1</td><td style=\"text-align: right;\">       0.0930262</td><td style=\"text-align: right;\">                   -0.410857</td><td style=\"text-align: right;\">       -0.561096 </td><td style=\"text-align: right;\">          0.15268 </td><td style=\"text-align: right;\">        0.979539</td><td style=\"text-align: right;\"> -2.02388 </td><td style=\"text-align: right;\">      -0.406632</td><td style=\"text-align: right;\">        92.01    </td><td style=\"text-align: right;\">         0.793992</td></tr>\n",
       "<tr><td style=\"text-align: right;\">        2</td><td style=\"text-align: right;\">       0.687861 </td><td style=\"text-align: right;\">                    0.606499</td><td style=\"text-align: right;\">        0.143726 </td><td style=\"text-align: right;\">          0.239409</td><td style=\"text-align: right;\">        0.738868</td><td style=\"text-align: right;\">  0.203356</td><td style=\"text-align: right;\">       0.283832</td><td style=\"text-align: right;\">         0.403167</td><td style=\"text-align: right;\">         0.431126</td></tr>\n",
       "</tbody>\n",
       "</table>"
      ]
     },
     "metadata": {},
     "output_type": "display_data"
    },
    {
     "name": "stdout",
     "output_type": "stream",
     "text": [
      "\n"
     ]
    }
   ],
   "source": [
    "# profile clusters by means\n",
    "grouped = labeled_frame.group_by(by=['predict'])\n",
    "means = grouped.mean(col=reals).get_frame()\n",
    "print(means)"
   ]
  },
  {
   "cell_type": "code",
   "execution_count": 14,
   "metadata": {
    "collapsed": false
   },
   "outputs": [
    {
     "data": {
      "text/html": [
       "<table>\n",
       "<thead>\n",
       "<tr><th style=\"text-align: right;\">  predict</th><th style=\"text-align: right;\">  mode_term</th><th style=\"text-align: right;\">  mode_purpose</th><th style=\"text-align: right;\">  mode_home_ownership</th><th style=\"text-align: right;\">  mode_addr_state</th><th style=\"text-align: right;\">  mode_verification_status</th></tr>\n",
       "</thead>\n",
       "<tbody>\n",
       "<tr><td style=\"text-align: right;\">        0</td><td style=\"text-align: right;\">          0</td><td style=\"text-align: right;\">             2</td><td style=\"text-align: right;\">                    5</td><td style=\"text-align: right;\">                4</td><td style=\"text-align: right;\">                         1</td></tr>\n",
       "<tr><td style=\"text-align: right;\">        1</td><td style=\"text-align: right;\">          0</td><td style=\"text-align: right;\">             2</td><td style=\"text-align: right;\">                    1</td><td style=\"text-align: right;\">                4</td><td style=\"text-align: right;\">                         1</td></tr>\n",
       "<tr><td style=\"text-align: right;\">        2</td><td style=\"text-align: right;\">          0</td><td style=\"text-align: right;\">             2</td><td style=\"text-align: right;\">                    1</td><td style=\"text-align: right;\">                4</td><td style=\"text-align: right;\">                         1</td></tr>\n",
       "</tbody>\n",
       "</table>"
      ]
     },
     "metadata": {},
     "output_type": "display_data"
    },
    {
     "name": "stdout",
     "output_type": "stream",
     "text": [
      "\n"
     ]
    }
   ],
   "source": [
    "# profile clusters by modes\n",
    "grouped = labeled_frame.group_by(by=['predict'])\n",
    "modes = grouped.mode(col=enums).get_frame()\n",
    "print(modes)"
   ]
  },
  {
   "cell_type": "code",
   "execution_count": 15,
   "metadata": {
    "collapsed": false
   },
   "outputs": [],
   "source": [
    "# define a function for plotting clusters in 2-d\n",
    "def plot(_2d_labeled_frame):\n",
    "\n",
    "    _0 = plt.scatter(features_pandas[_2d_labeled_frame.label == 0].iloc[0:750, 0], \n",
    "                     features_pandas[_2d_labeled_frame.label == 0].iloc[0:750, 1],\n",
    "                     color='m', marker='^', alpha=.15)\n",
    "\n",
    "    _1 = plt.scatter(features_pandas[_2d_labeled_frame.label == 1].iloc[0:750, 0], \n",
    "                     features_pandas[_2d_labeled_frame.label == 1].iloc[0:750, 1],\n",
    "                     color='c', alpha=.15)\n",
    "\n",
    "    _2 = plt.scatter(features_pandas[_2d_labeled_frame.label == 2].iloc[0:750, 0], \n",
    "                     features_pandas[_2d_labeled_frame.label == 2].iloc[0:750, 1],\n",
    "                     color='g', marker='s', alpha=.15)               \n",
    "                     \n",
    "    plt.legend([_0, _1, _2], \n",
    "               ['Cluster 0', 'Cluster 1', 'Cluster 2'],\n",
    "               bbox_to_anchor=(1.05, 0.0), \n",
    "               loc=3, borderaxespad=0.)\n",
    "    \n",
    "    plt.xlabel('Dimension 1')\n",
    "    plt.ylabel('Dimension 2')"
   ]
  },
  {
   "cell_type": "code",
   "execution_count": 16,
   "metadata": {
    "collapsed": false
   },
   "outputs": [
    {
     "name": "stdout",
     "output_type": "stream",
     "text": [
      "pca Model Build progress: |███████████████████████████████████████████████| 100%\n"
     ]
    },
    {
     "name": "stderr",
     "output_type": "stream",
     "text": [
      "/Users/phall/anaconda/lib/python3.5/site-packages/h2o/job.py:65: UserWarning: _train: Dataset used may contain fewer number of rows due to removal of rows with NA/missing values.  If this is not desirable, set impute_missing argument in pca call to TRUE/True/true/... depending on the client language.\n",
      "  warnings.warn(w)\n"
     ]
    },
    {
     "name": "stdout",
     "output_type": "stream",
     "text": [
      "pca prediction progress: |████████████████████████████████████████████████| 100%\n",
      "        PC1       PC2  label\n",
      "0  0.055350 -0.839534      0\n",
      "1 -3.112822  0.793804      0\n",
      "2 -1.266717 -1.537850      0\n",
      "3  0.407435  0.792267      0\n",
      "4 -2.601477  0.798351      0\n"
     ]
    },
    {
     "data": {
      "image/png": "[encoded data removed]",
      "text/plain": [
       "<matplotlib.figure.Figure at 0x115a279b0>"
      ]
     },
     "metadata": {},
     "output_type": "display_data"
    }
   ],
   "source": [
    "# project training data onto 2-D using principal components\n",
    "# join with clusters labels\n",
    "# plot\n",
    "pca = H2OPrincipalComponentAnalysisEstimator(k=2) # project onto 2 PCs\n",
    "pca.train(x=reals, training_frame=labeled_frame)\n",
    "features = pca.predict(labeled_frame)\n",
    "features_pandas = features.as_data_frame()\n",
    "features_pandas['label'] = labeled_frame[-1].as_data_frame()\n",
    "print(features_pandas.head())\n",
    "plot(features_pandas)\n",
    "\n",
    "# view detailed results at http://ip:port/flow/index.html"
   ]
  },
  {
   "cell_type": "code",
   "execution_count": 17,
   "metadata": {
    "collapsed": false
   },
   "outputs": [
    {
     "name": "stdout",
     "output_type": "stream",
     "text": [
      "Are you sure you want to shutdown the H2O instance running at http://127.0.0.1:54321 (Y/N)? y\n",
      "H2O session _sid_bf39 closed.\n"
     ]
    }
   ],
   "source": [
    "# shutdown h2o\n",
    "# be careful - this can erase your work\n",
    "h2o.cluster().shutdown(prompt=True)"
   ]
  }
 ],
 "metadata": {
  "anaconda-cloud": {},
  "kernelspec": {
   "display_name": "Python [conda root]",
   "language": "python",
   "name": "conda-root-py"
  },
  "language_info": {
   "codemirror_mode": {
    "name": "ipython",
    "version": 3
   },
   "file_extension": ".py",
   "mimetype": "text/x-python",
   "name": "python",
   "nbconvert_exporter": "python",
   "pygments_lexer": "ipython3",
   "version": "3.5.2"
  }
 },
 "nbformat": 4,
 "nbformat_minor": 2
}
