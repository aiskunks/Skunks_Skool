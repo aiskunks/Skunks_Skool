{
 "cells": [
  {
   "cell_type": "code",
   "execution_count": null,
   "metadata": {},
   "outputs": [],
   "source": [
    "# Load package and connect to cluster\n",
    "import h2o\n",
    "h2o.init(max_mem_size = \"6g\")"
   ]
  },
  {
   "cell_type": "code",
   "execution_count": null,
   "metadata": {},
   "outputs": [],
   "source": [
    "# Import data and manage data types\n",
    "train_path = \"http://s3.amazonaws.com/h2o-public-test-data/smalldata/diabetes/diabetes_train.csv\"\n",
    "train = h2o.import_file(train_path)"
   ]
  },
  {
   "cell_type": "code",
   "execution_count": null,
   "metadata": {},
   "outputs": [],
   "source": [
    "for j in [\"admission_type_id\", \"discharge_disposition_id\", \"admission_source_id\",\n",
    "          \"diag_1\", \"diag_2\", \"diag_3\"]:\n",
    "    train[j] = (train[j].ascharacter()).asfactor()\n",
    "train = h2o.assign(train, \"diabetes_train\")"
   ]
  },
  {
   "cell_type": "code",
   "execution_count": null,
   "metadata": {},
   "outputs": [],
   "source": [
    "# Set target and predictor variables\n",
    "y = \"readmitted\"\n",
    "x = train.col_names\n",
    "x.remove(y)\n",
    "x.remove(\"id\")\n",
    "x.remove(\"patient_nbr\")"
   ]
  },
  {
   "cell_type": "code",
   "execution_count": null,
   "metadata": {},
   "outputs": [],
   "source": [
    "# Use Auto ML to train models\n",
    "from h2o.automl import H2OAutoML\n",
    "aml = H2OAutoML(max_runtime_secs = 300)\n",
    "aml.train(x = x, y = y, training_frame = train)"
   ]
  }
 ],
 "metadata": {
  "kernelspec": {
   "display_name": "Python 3",
   "language": "python",
   "name": "python3"
  },
  "language_info": {
   "codemirror_mode": {
    "name": "ipython",
    "version": 3
   },
   "file_extension": ".py",
   "mimetype": "text/x-python",
   "name": "python",
   "nbconvert_exporter": "python",
   "pygments_lexer": "ipython3",
   "version": "3.6.5"
  }
 },
 "nbformat": 4,
 "nbformat_minor": 2
}
