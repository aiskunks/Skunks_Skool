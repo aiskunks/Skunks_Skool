{
 "cells": [
  {
   "cell_type": "markdown",
   "metadata": {},
   "source": [
    "# H2O Segment Model Building"
   ]
  },
  {
   "cell_type": "markdown",
   "metadata": {},
   "source": [
    "H2O-3 Release 3.30 (Zahradnik) introduced Segment Model Building to scale building multiple models on dataset segments (partitions). Both the Python and R API were extended with a new function `train_segments()`: with any H2O algorithm specify `segment_columns` (columns that will be used to make groups of observations, e.g. a Product Category, Region, etc.) and train many models in parallel on all available nodes of your H2O cluster. You can then access each individual model and work with them in the way you are already familiar with. For more details sse:\n",
    "\n",
    "  - [H2O Release 3.30 (Zahradnik)](https://www.h2o.ai/blog/h2o-release-3-30-zahradnik/))\n",
    "  - [Python Reference](http://docs.h2o.ai/h2o/latest-stable/h2o-py/docs/modeling.html#h2o.estimators.estimator_base.H2OEstimator.train_segments)\n",
    "  - [R Reference](http://docs.h2o.ai/h2o/latest-stable/h2o-r/docs/reference/h2o.train_segments.html)\n",
    "  - [H2O-3 source code](https://github.com/h2oai/h2o-3/blob/455c3bec27a3cdbf9c6e77b4c22da5305f2649ac/h2o-py/h2o/estimators/estimator_base.py#L117)\n",
    "  \n",
    "This example illustrates complete workflow to build multiple models on dataset segments using H2O-3 Python API\n",
    "\n",
    "### Initialize H2O and load packages"
   ]
  },
  {
   "cell_type": "code",
   "execution_count": 10,
   "metadata": {},
   "outputs": [
    {
     "name": "stdout",
     "output_type": "stream",
     "text": [
      "Checking whether there is an H2O instance running at http://localhost:54321 . connected.\n"
     ]
    },
    {
     "data": {
      "text/html": [
       "<div style=\"overflow:auto\"><table style=\"width:50%\"><tr><td>H2O_cluster_uptime:</td>\n",
       "<td>32 secs</td></tr>\n",
       "<tr><td>H2O_cluster_timezone:</td>\n",
       "<td>America/Chicago</td></tr>\n",
       "<tr><td>H2O_data_parsing_timezone:</td>\n",
       "<td>UTC</td></tr>\n",
       "<tr><td>H2O_cluster_version:</td>\n",
       "<td>3.30.0.3</td></tr>\n",
       "<tr><td>H2O_cluster_version_age:</td>\n",
       "<td>7 days, 3 hours and 43 minutes </td></tr>\n",
       "<tr><td>H2O_cluster_name:</td>\n",
       "<td>H2O_from_python_gkanevsky_8sv77s</td></tr>\n",
       "<tr><td>H2O_cluster_total_nodes:</td>\n",
       "<td>1</td></tr>\n",
       "<tr><td>H2O_cluster_free_memory:</td>\n",
       "<td>7.963 Gb</td></tr>\n",
       "<tr><td>H2O_cluster_total_cores:</td>\n",
       "<td>16</td></tr>\n",
       "<tr><td>H2O_cluster_allowed_cores:</td>\n",
       "<td>16</td></tr>\n",
       "<tr><td>H2O_cluster_status:</td>\n",
       "<td>locked, healthy</td></tr>\n",
       "<tr><td>H2O_connection_url:</td>\n",
       "<td>http://localhost:54321</td></tr>\n",
       "<tr><td>H2O_connection_proxy:</td>\n",
       "<td>{\"http\": null, \"https\": null}</td></tr>\n",
       "<tr><td>H2O_internal_security:</td>\n",
       "<td>False</td></tr>\n",
       "<tr><td>H2O_API_Extensions:</td>\n",
       "<td>Amazon S3, XGBoost, Algos, AutoML, Core V3, TargetEncoder, Core V4</td></tr>\n",
       "<tr><td>Python_version:</td>\n",
       "<td>3.7.4 final</td></tr></table></div>"
      ],
      "text/plain": [
       "--------------------------  ------------------------------------------------------------------\n",
       "H2O_cluster_uptime:         32 secs\n",
       "H2O_cluster_timezone:       America/Chicago\n",
       "H2O_data_parsing_timezone:  UTC\n",
       "H2O_cluster_version:        3.30.0.3\n",
       "H2O_cluster_version_age:    7 days, 3 hours and 43 minutes\n",
       "H2O_cluster_name:           H2O_from_python_gkanevsky_8sv77s\n",
       "H2O_cluster_total_nodes:    1\n",
       "H2O_cluster_free_memory:    7.963 Gb\n",
       "H2O_cluster_total_cores:    16\n",
       "H2O_cluster_allowed_cores:  16\n",
       "H2O_cluster_status:         locked, healthy\n",
       "H2O_connection_url:         http://localhost:54321\n",
       "H2O_connection_proxy:       {\"http\": null, \"https\": null}\n",
       "H2O_internal_security:      False\n",
       "H2O_API_Extensions:         Amazon S3, XGBoost, Algos, AutoML, Core V3, TargetEncoder, Core V4\n",
       "Python_version:             3.7.4 final\n",
       "--------------------------  ------------------------------------------------------------------"
      ]
     },
     "metadata": {},
     "output_type": "display_data"
    }
   ],
   "source": [
    "import h2o\n",
    "\n",
    "h2o.init()"
   ]
  },
  {
   "cell_type": "code",
   "execution_count": 11,
   "metadata": {},
   "outputs": [],
   "source": [
    "from h2o.estimators.gbm import H2OGradientBoostingEstimator\n",
    "import pandas as pd\n",
    "import datatable as dt\n",
    "from plotnine import *"
   ]
  },
  {
   "cell_type": "markdown",
   "metadata": {},
   "source": [
    "### Import data with white and red wine quality\n",
    "\n",
    "First, import wine quality data from your local repository or from H2O public S3 bucket to the H2O cluster:"
   ]
  },
  {
   "cell_type": "code",
   "execution_count": 12,
   "metadata": {},
   "outputs": [
    {
     "name": "stdout",
     "output_type": "stream",
     "text": [
      "Parse progress: |█████████████████████████████████████████████████████████| 100%\n"
     ]
    }
   ],
   "source": [
    "import_from_s3 = True\n",
    "if import_from_s3:\n",
    "    winequality_df = h2o.import_file(\"https://h2o-public-test-data.s3.amazonaws.com/smalldata/wine/winequality-redwhite.csv\")\n",
    "else:\n",
    "    winequality_df = h2o.upload_file(\"../data/winequality-redwhite.csv\")\n",
    "\n",
    "predictors = winequality_df.names\n",
    "predictors.remove('type')\n",
    "predictors.remove('quality')"
   ]
  },
  {
   "cell_type": "markdown",
   "metadata": {},
   "source": [
    "### Split data into train, validation, and test partitions\n",
    "\n",
    "Before modeling split dataset into train, validation, and test partitions. H2O-3 has function `split_frame()` with the simplest possible random split by handling each row independently with a \"coin flip\". The thinking is, since H2O-3 is intended to handle big data, there are enough samples to not worry about it (reference: [stackoverflow.com](https://stackoverflow.com/a/53510090/59470))"
   ]
  },
  {
   "cell_type": "code",
   "execution_count": 13,
   "metadata": {},
   "outputs": [],
   "source": [
    "train_df,valid_df,test_df = winequality_df.split_frame(ratios=[.7, .15])"
   ]
  },
  {
   "cell_type": "markdown",
   "metadata": {},
   "source": [
    "### Stratified split"
   ]
  },
  {
   "cell_type": "markdown",
   "metadata": {},
   "source": [
    "Because we intend to use segmented models let's alternatively create stratified partitions to assure that between segments (variable `type`) and dependent variable (`quality`) the train and validation sets are well represented. \n",
    "First, create empty H2O frames to hold train, valid, and test data:"
   ]
  },
  {
   "cell_type": "code",
   "execution_count": 14,
   "metadata": {},
   "outputs": [],
   "source": [
    "mask = winequality_df[\"quality\"] < 0\n",
    "train_df = winequality_df[mask,:]\n",
    "valid_df = winequality_df[mask,:]\n",
    "test_df = winequality_df[mask,:]"
   ]
  },
  {
   "cell_type": "markdown",
   "metadata": {},
   "source": [
    "Next, obtain all unique values from column `quality` that defines our segments:"
   ]
  },
  {
   "cell_type": "code",
   "execution_count": 15,
   "metadata": {},
   "outputs": [
    {
     "name": "stdout",
     "output_type": "stream",
     "text": [
      "   quality  nrow\n",
      "0        3    30\n",
      "1        4   216\n",
      "2        5  2138\n",
      "3        6  2836\n",
      "4        7  1079\n",
      "5        8   193\n",
      "6        9     5\n"
     ]
    }
   ],
   "source": [
    "quality_values = winequality_df.group_by(\"quality\").count().get_frame().as_data_frame()\n",
    "print(quality_values)"
   ]
  },
  {
   "cell_type": "markdown",
   "metadata": {},
   "source": [
    "Finally, iterate over quality segments to split each and bind results to train, valid, and test frames:"
   ]
  },
  {
   "cell_type": "code",
   "execution_count": 16,
   "metadata": {},
   "outputs": [],
   "source": [
    "for _, value in quality_values[\"quality\"].iteritems(): \n",
    "    segment = winequality_df[winequality_df[\"quality\"] == value]\n",
    "    train_segment,valid_segment,test_segment = segment.split_frame(ratios=[.5, .25])\n",
    "    train_df = train_df.rbind(train_segment)\n",
    "    valid_df = valid_df.rbind(valid_segment)\n",
    "    test_df = test_df.rbind(test_segment)"
   ]
  },
  {
   "cell_type": "markdown",
   "metadata": {},
   "source": [
    "Review the sizes of partitions visually:"
   ]
  },
  {
   "cell_type": "code",
   "execution_count": 27,
   "metadata": {},
   "outputs": [
    {
     "data": {
      "image/png": "[encoded data removed]",
      "text/plain": [
       "<Figure size 640x480 with 1 Axes>"
      ]
     },
     "metadata": {
      "needs_background": "light"
     },
     "output_type": "display_data"
    },
    {
     "data": {
      "text/plain": [
       "<ggplot: (8771582291209)>"
      ]
     },
     "execution_count": 27,
     "metadata": {},
     "output_type": "execute_result"
    }
   ],
   "source": [
    "data_toplot = pd.DataFrame({\"datasets\": [\"all\",\"train\",\"valid\",\"test\"],\n",
    "                            \"size\": [winequality_df.shape[0],\n",
    "                                     train_df.shape[0],\n",
    "                                     valid_df.shape[0],\n",
    "                                     test_df.shape[0]]})\n",
    "ggplot(data_toplot, aes(x='datasets', y='size', fill='datasets')) + \\\n",
    "    geom_bar(stat = 'identity') + \\\n",
    "    scale_fill_brewer(type = 'qual', palette = 2) + \\\n",
    "    labs(title = 'Dataset Sizes', x = None, y = 'row counts') + \\\n",
    "    theme_minimal() + \\\n",
    "    theme(legend_position = 'none')\n"
   ]
  },
  {
   "cell_type": "markdown",
   "metadata": {},
   "source": [
    "### Create segmented models\n",
    "\n",
    "Wine dataset contains two types of wines: white and red. We will create a model for each type using H2O egmented model training function `train_segments()` by defining segment with column `type`:"
   ]
  },
  {
   "cell_type": "code",
   "execution_count": 28,
   "metadata": {},
   "outputs": [
    {
     "name": "stdout",
     "output_type": "stream",
     "text": [
      "gbm Segment Models Build progress: |██████████████████████████████████████| 100%\n"
     ]
    }
   ],
   "source": [
    "wine_gbm = H2OGradientBoostingEstimator(seed = 2020)\n",
    "wine_models = wine_gbm.train_segments(x = predictors, y = 'quality', \n",
    "                                      training_frame = train_df, \n",
    "                                      validation_frame = valid_df,\n",
    "                                      segments = ['type'])"
   ]
  },
  {
   "cell_type": "markdown",
   "metadata": {},
   "source": [
    "Retrieve models using H2O frame:"
   ]
  },
  {
   "cell_type": "code",
   "execution_count": 30,
   "metadata": {},
   "outputs": [],
   "source": [
    "wine_models_h2o = wine_models.as_frame()\n",
    "model_id = (wine_models_h2o[wine_models_h2o[\"type\"] == \"red\"][\"model\"])\n",
    "wine_red_gbm = h2o.get_model(model_id.flatten())\n",
    "model_id = (wine_models_h2o[wine_models_h2o[\"type\"] == \"white\"][\"model\"])\n",
    "wine_white_gbm = h2o.get_model(model_id.flatten())"
   ]
  },
  {
   "cell_type": "markdown",
   "metadata": {},
   "source": [
    "Alternatively, retrieve models using Pandas frame:"
   ]
  },
  {
   "cell_type": "code",
   "execution_count": 31,
   "metadata": {},
   "outputs": [],
   "source": [
    "wine_models_pd = wine_models.as_frame().as_data_frame()\n",
    "model_id = wine_models_pd.loc[wine_models_pd['type'] == \"red\", 'model'].values[0]\n",
    "wine_red_gbm = h2o.get_model(model_id)\n",
    "model_id = wine_models_pd.loc[wine_models_pd['type'] == \"white\", 'model'].values[0]\n",
    "wine_white_gbm = h2o.get_model(model_id)"
   ]
  },
  {
   "cell_type": "markdown",
   "metadata": {},
   "source": [
    "Alternatively, retrieve models using datatable (Pydatatable):"
   ]
  },
  {
   "cell_type": "code",
   "execution_count": 32,
   "metadata": {},
   "outputs": [],
   "source": [
    "wine_model_dt = dt.Frame(wine_models.as_frame().as_data_frame())\n",
    "model_id = wine_model_dt[dt.f.type == 'red', 'model'].to_tuples()[0][0]\n",
    "wine_red_gbm = h2o.get_model(model_id)\n",
    "model_id = wine_model_dt[dt.f.type == 'white', 'model'].to_tuples()[0][0]\n",
    "wine_white_gbm = h2o.get_model(model_id)"
   ]
  },
  {
   "cell_type": "markdown",
   "metadata": {},
   "source": [
    "### Model performance\n",
    "\n",
    "Predicting and scoring segmented models should take place on the respective segments of validation and test sets:"
   ]
  },
  {
   "cell_type": "code",
   "execution_count": 33,
   "metadata": {},
   "outputs": [],
   "source": [
    "valid_white_df = valid_df[valid_df[\"type\"] == 'white']\n",
    "valid_white_perf = wine_white_gbm.model_performance(valid_white_df)\n",
    "\n",
    "test_white_df = test_df[test_df[\"type\"] == 'white']\n",
    "test_white_perf = wine_white_gbm.model_performance(test_white_df)\n",
    "\n",
    "valid_red_df = valid_df[valid_df[\"type\"] == 'red']\n",
    "valid_red_perf = wine_red_gbm.model_performance(valid_red_df)\n",
    "\n",
    "test_red_df = test_df[test_df[\"type\"] == 'red']\n",
    "test_red_perf = wine_red_gbm.model_performance(test_red_df)"
   ]
  },
  {
   "cell_type": "markdown",
   "metadata": {},
   "source": [
    "Compute standard deviations on red and white segments for all data as baseline metrics to compare RMSE scores:"
   ]
  },
  {
   "cell_type": "code",
   "execution_count": 35,
   "metadata": {},
   "outputs": [],
   "source": [
    "sdev_data = winequality_df.group_by(\"type\").sd().get_frame()[['type','sdev_quality']].as_data_frame()\n",
    "sdev_data.columns = ['type', 'value']\n",
    "sdev_data[\"dataset\"] = \"all: std.dev\""
   ]
  },
  {
   "cell_type": "markdown",
   "metadata": {},
   "source": [
    "Visualize RMSE scores on all segments using validation and test predictions:"
   ]
  },
  {
   "cell_type": "code",
   "execution_count": 37,
   "metadata": {
    "scrolled": true
   },
   "outputs": [
    {
     "data": {
      "image/png": "[encoded data removed]",
      "text/plain": [
       "<Figure size 640x480 with 2 Axes>"
      ]
     },
     "metadata": {
      "needs_background": "light"
     },
     "output_type": "display_data"
    },
    {
     "data": {
      "text/plain": [
       "<ggplot: (8771598392229)>"
      ]
     },
     "execution_count": 37,
     "metadata": {},
     "output_type": "execute_result"
    }
   ],
   "source": [
    "data_toplot = pd.DataFrame({\"type\": ['white','red','white','red'],\n",
    "                            \"value\": [valid_white_perf.rmse(),\n",
    "                                     valid_red_perf.rmse(),\n",
    "                                     test_white_perf.rmse(),\n",
    "                                     test_red_perf.rmse()],\n",
    "                            \"dataset\": ['valid','valid','test','test'],})\n",
    "data_toplot = data_toplot.append(sdev_data)\n",
    "ggplot(data_toplot, aes(x='dataset', y='value', fill='dataset')) + \\\n",
    "    geom_bar(stat = 'identity') + \\\n",
    "    scale_fill_brewer(type = 'qual', palette = 2) + \\\n",
    "    facet_wrap('~type', ncol = 2) + theme_minimal() + \\\n",
    "    labs(title = 'Model Performance by Segments', y = 'RMSE') + \\\n",
    "    theme_minimal() + \\\n",
    "    theme(legend_position = 'right',\n",
    "          axis_text_x = element_blank())"
   ]
  }
 ],
 "metadata": {
  "kernelspec": {
   "display_name": "Python 3",
   "language": "python",
   "name": "python3"
  },
  "language_info": {
   "codemirror_mode": {
    "name": "ipython",
    "version": 3
   },
   "file_extension": ".py",
   "mimetype": "text/x-python",
   "name": "python",
   "nbconvert_exporter": "python",
   "pygments_lexer": "ipython3",
   "version": "3.7.4"
  }
 },
 "nbformat": 4,
 "nbformat_minor": 2
}
