{
 "cells": [
  {
   "cell_type": "markdown",
   "metadata": {},
   "source": [
    "# Airbnb Analysis in H2O-3\n",
    "\n",
    "**Steps**\n",
    "1. Data Exploration\n",
    "2. Feature Engineering\n",
    "3. AutoML\n",
    "4. Model Interpretability"
   ]
  },
  {
   "cell_type": "code",
   "execution_count": 253,
   "metadata": {},
   "outputs": [
    {
     "name": "stdout",
     "output_type": "stream",
     "text": [
      "Checking whether there is an H2O instance running at http://localhost:54321 . connected.\n"
     ]
    },
    {
     "data": {
      "text/html": [
       "<div style=\"overflow:auto\"><table style=\"width:50%\"><tr><td>H2O_cluster_uptime:</td>\n",
       "<td>9 mins 44 secs</td></tr>\n",
       "<tr><td>H2O_cluster_timezone:</td>\n",
       "<td>America/New_York</td></tr>\n",
       "<tr><td>H2O_data_parsing_timezone:</td>\n",
       "<td>UTC</td></tr>\n",
       "<tr><td>H2O_cluster_version:</td>\n",
       "<td>3.30.0.4</td></tr>\n",
       "<tr><td>H2O_cluster_version_age:</td>\n",
       "<td>1 day </td></tr>\n",
       "<tr><td>H2O_cluster_name:</td>\n",
       "<td>H2O_from_python_megankurka_93oxu4</td></tr>\n",
       "<tr><td>H2O_cluster_total_nodes:</td>\n",
       "<td>1</td></tr>\n",
       "<tr><td>H2O_cluster_free_memory:</td>\n",
       "<td>3.858 Gb</td></tr>\n",
       "<tr><td>H2O_cluster_total_cores:</td>\n",
       "<td>16</td></tr>\n",
       "<tr><td>H2O_cluster_allowed_cores:</td>\n",
       "<td>16</td></tr>\n",
       "<tr><td>H2O_cluster_status:</td>\n",
       "<td>locked, healthy</td></tr>\n",
       "<tr><td>H2O_connection_url:</td>\n",
       "<td>http://localhost:54321</td></tr>\n",
       "<tr><td>H2O_connection_proxy:</td>\n",
       "<td>{\"http\": null, \"https\": null}</td></tr>\n",
       "<tr><td>H2O_internal_security:</td>\n",
       "<td>False</td></tr>\n",
       "<tr><td>H2O_API_Extensions:</td>\n",
       "<td>Amazon S3, XGBoost, Algos, AutoML, Core V3, TargetEncoder, Core V4</td></tr>\n",
       "<tr><td>Python_version:</td>\n",
       "<td>3.6.8 final</td></tr></table></div>"
      ],
      "text/plain": [
       "--------------------------  ------------------------------------------------------------------\n",
       "H2O_cluster_uptime:         9 mins 44 secs\n",
       "H2O_cluster_timezone:       America/New_York\n",
       "H2O_data_parsing_timezone:  UTC\n",
       "H2O_cluster_version:        3.30.0.4\n",
       "H2O_cluster_version_age:    1 day\n",
       "H2O_cluster_name:           H2O_from_python_megankurka_93oxu4\n",
       "H2O_cluster_total_nodes:    1\n",
       "H2O_cluster_free_memory:    3.858 Gb\n",
       "H2O_cluster_total_cores:    16\n",
       "H2O_cluster_allowed_cores:  16\n",
       "H2O_cluster_status:         locked, healthy\n",
       "H2O_connection_url:         http://localhost:54321\n",
       "H2O_connection_proxy:       {\"http\": null, \"https\": null}\n",
       "H2O_internal_security:      False\n",
       "H2O_API_Extensions:         Amazon S3, XGBoost, Algos, AutoML, Core V3, TargetEncoder, Core V4\n",
       "Python_version:             3.6.8 final\n",
       "--------------------------  ------------------------------------------------------------------"
      ]
     },
     "metadata": {},
     "output_type": "display_data"
    }
   ],
   "source": [
    "import h2o\n",
    "h2o.init()"
   ]
  },
  {
   "cell_type": "code",
   "execution_count": 254,
   "metadata": {},
   "outputs": [
    {
     "name": "stdout",
     "output_type": "stream",
     "text": [
      "Parse progress: |█████████████████████████████████████████████████████████| 100%\n"
     ]
    },
    {
     "data": {
      "text/html": [
       "<table>\n",
       "<thead>\n",
       "<tr><th style=\"text-align: right;\">  id</th><th>name                                            </th><th style=\"text-align: right;\">  host_id</th><th>host_name  </th><th>neighbourhood_group  </th><th>neighbourhood     </th><th style=\"text-align: right;\">  latitude</th><th style=\"text-align: right;\">  longitude</th><th>room_type      </th><th style=\"text-align: right;\">  price</th><th style=\"text-align: right;\">  minimum_nights</th><th style=\"text-align: right;\">  number_of_reviews</th><th>last_review        </th><th style=\"text-align: right;\">  reviews_per_month</th><th style=\"text-align: right;\">  calculated_host_listings_count</th><th style=\"text-align: right;\">  availability_365</th></tr>\n",
       "</thead>\n",
       "<tbody>\n",
       "<tr><td style=\"text-align: right;\">2539</td><td>Clean & quiet apt home by the park              </td><td style=\"text-align: right;\">     2787</td><td>John       </td><td>Brooklyn             </td><td>Kensington        </td><td style=\"text-align: right;\">   40.6475</td><td style=\"text-align: right;\">   -73.9724</td><td>Private room   </td><td style=\"text-align: right;\">    149</td><td style=\"text-align: right;\">               1</td><td style=\"text-align: right;\">                  9</td><td>2018-10-19 00:00:00</td><td style=\"text-align: right;\">               0.21</td><td style=\"text-align: right;\">                               6</td><td style=\"text-align: right;\">               365</td></tr>\n",
       "<tr><td style=\"text-align: right;\">2595</td><td>Skylit Midtown Castle                           </td><td style=\"text-align: right;\">     2845</td><td>Jennifer   </td><td>Manhattan            </td><td>Midtown           </td><td style=\"text-align: right;\">   40.7536</td><td style=\"text-align: right;\">   -73.9838</td><td>Entire home/apt</td><td style=\"text-align: right;\">    225</td><td style=\"text-align: right;\">               1</td><td style=\"text-align: right;\">                 45</td><td>2019-05-21 00:00:00</td><td style=\"text-align: right;\">               0.38</td><td style=\"text-align: right;\">                               2</td><td style=\"text-align: right;\">               355</td></tr>\n",
       "<tr><td style=\"text-align: right;\">3647</td><td>THE VILLAGE OF HARLEM....NEW YORK !             </td><td style=\"text-align: right;\">     4632</td><td>Elisabeth  </td><td>Manhattan            </td><td>Harlem            </td><td style=\"text-align: right;\">   40.809 </td><td style=\"text-align: right;\">   -73.9419</td><td>Private room   </td><td style=\"text-align: right;\">    150</td><td style=\"text-align: right;\">               3</td><td style=\"text-align: right;\">                  0</td><td>                   </td><td style=\"text-align: right;\">             nan   </td><td style=\"text-align: right;\">                               1</td><td style=\"text-align: right;\">               365</td></tr>\n",
       "<tr><td style=\"text-align: right;\">3831</td><td>Cozy Entire Floor of Brownstone                 </td><td style=\"text-align: right;\">     4869</td><td>LisaRoxanne</td><td>Brooklyn             </td><td>Clinton Hill      </td><td style=\"text-align: right;\">   40.6851</td><td style=\"text-align: right;\">   -73.9598</td><td>Entire home/apt</td><td style=\"text-align: right;\">     89</td><td style=\"text-align: right;\">               1</td><td style=\"text-align: right;\">                270</td><td>2019-07-05 00:00:00</td><td style=\"text-align: right;\">               4.64</td><td style=\"text-align: right;\">                               1</td><td style=\"text-align: right;\">               194</td></tr>\n",
       "<tr><td style=\"text-align: right;\">5022</td><td>Entire Apt: Spacious Studio/Loft by central park</td><td style=\"text-align: right;\">     7192</td><td>Laura      </td><td>Manhattan            </td><td>East Harlem       </td><td style=\"text-align: right;\">   40.7985</td><td style=\"text-align: right;\">   -73.944 </td><td>Entire home/apt</td><td style=\"text-align: right;\">     80</td><td style=\"text-align: right;\">              10</td><td style=\"text-align: right;\">                  9</td><td>2018-11-19 00:00:00</td><td style=\"text-align: right;\">               0.1 </td><td style=\"text-align: right;\">                               1</td><td style=\"text-align: right;\">                 0</td></tr>\n",
       "<tr><td style=\"text-align: right;\">5099</td><td>Large Cozy 1 BR Apartment In Midtown East       </td><td style=\"text-align: right;\">     7322</td><td>Chris      </td><td>Manhattan            </td><td>Murray Hill       </td><td style=\"text-align: right;\">   40.7477</td><td style=\"text-align: right;\">   -73.975 </td><td>Entire home/apt</td><td style=\"text-align: right;\">    200</td><td style=\"text-align: right;\">               3</td><td style=\"text-align: right;\">                 74</td><td>2019-06-22 00:00:00</td><td style=\"text-align: right;\">               0.59</td><td style=\"text-align: right;\">                               1</td><td style=\"text-align: right;\">               129</td></tr>\n",
       "<tr><td style=\"text-align: right;\">5121</td><td>BlissArtsSpace!                                 </td><td style=\"text-align: right;\">     7356</td><td>Garon      </td><td>Brooklyn             </td><td>Bedford-Stuyvesant</td><td style=\"text-align: right;\">   40.6869</td><td style=\"text-align: right;\">   -73.956 </td><td>Private room   </td><td style=\"text-align: right;\">     60</td><td style=\"text-align: right;\">              45</td><td style=\"text-align: right;\">                 49</td><td>2017-10-05 00:00:00</td><td style=\"text-align: right;\">               0.4 </td><td style=\"text-align: right;\">                               1</td><td style=\"text-align: right;\">                 0</td></tr>\n",
       "<tr><td style=\"text-align: right;\">5178</td><td>Large Furnished Room Near B'way                 </td><td style=\"text-align: right;\">     8967</td><td>Shunichi   </td><td>Manhattan            </td><td>Hell's Kitchen    </td><td style=\"text-align: right;\">   40.7649</td><td style=\"text-align: right;\">   -73.9849</td><td>Private room   </td><td style=\"text-align: right;\">     79</td><td style=\"text-align: right;\">               2</td><td style=\"text-align: right;\">                430</td><td>2019-06-24 00:00:00</td><td style=\"text-align: right;\">               3.47</td><td style=\"text-align: right;\">                               1</td><td style=\"text-align: right;\">               220</td></tr>\n",
       "<tr><td style=\"text-align: right;\">5203</td><td>Cozy Clean Guest Room - Family Apt              </td><td style=\"text-align: right;\">     7490</td><td>MaryEllen  </td><td>Manhattan            </td><td>Upper West Side   </td><td style=\"text-align: right;\">   40.8018</td><td style=\"text-align: right;\">   -73.9672</td><td>Private room   </td><td style=\"text-align: right;\">     79</td><td style=\"text-align: right;\">               2</td><td style=\"text-align: right;\">                118</td><td>2017-07-21 00:00:00</td><td style=\"text-align: right;\">               0.99</td><td style=\"text-align: right;\">                               1</td><td style=\"text-align: right;\">                 0</td></tr>\n",
       "<tr><td style=\"text-align: right;\">5238</td><td>Cute & Cozy Lower East Side 1 bdrm              </td><td style=\"text-align: right;\">     7549</td><td>Ben        </td><td>Manhattan            </td><td>Chinatown         </td><td style=\"text-align: right;\">   40.7134</td><td style=\"text-align: right;\">   -73.9904</td><td>Entire home/apt</td><td style=\"text-align: right;\">    150</td><td style=\"text-align: right;\">               1</td><td style=\"text-align: right;\">                160</td><td>2019-06-09 00:00:00</td><td style=\"text-align: right;\">               1.33</td><td style=\"text-align: right;\">                               4</td><td style=\"text-align: right;\">               188</td></tr>\n",
       "</tbody>\n",
       "</table>"
      ]
     },
     "metadata": {},
     "output_type": "display_data"
    },
    {
     "data": {
      "text/plain": []
     },
     "execution_count": 254,
     "metadata": {},
     "output_type": "execute_result"
    }
   ],
   "source": [
    "airbnb = h2o.import_file(\"../../Data/Airbnb/AB_NYC_2019.csv\")\n",
    "airbnb.head()"
   ]
  },
  {
   "cell_type": "markdown",
   "metadata": {},
   "source": [
    "## Data Exploration\n",
    "\n",
    "We will begin by exploring our data and using H2O-3 to visualize the dataset.\n",
    "\n",
    "We can use H2O-3 to generate summary statistics, run correlations, and create histogram graphs.  Since H2O-3 is scalable, this can be run on very large datasets."
   ]
  },
  {
   "cell_type": "code",
   "execution_count": 255,
   "metadata": {
    "scrolled": true
   },
   "outputs": [
    {
     "data": {
      "text/html": [
       "<table>\n",
       "<thead>\n",
       "<tr><th>       </th><th>id                </th><th>name                                            </th><th>host_id          </th><th>host_name  </th><th>neighbourhood_group  </th><th>neighbourhood     </th><th>latitude            </th><th>longitude          </th><th>room_type      </th><th>price            </th><th>minimum_nights   </th><th>number_of_reviews  </th><th>last_review        </th><th>reviews_per_month  </th><th>calculated_host_listings_count  </th><th>availability_365  </th></tr>\n",
       "</thead>\n",
       "<tbody>\n",
       "<tr><td>type   </td><td>int               </td><td>string                                          </td><td>int              </td><td>enum       </td><td>enum                 </td><td>enum              </td><td>real                </td><td>real               </td><td>enum           </td><td>int              </td><td>int              </td><td>int                </td><td>time               </td><td>real               </td><td>int                             </td><td>int               </td></tr>\n",
       "<tr><td>mins   </td><td>2539.0            </td><td>NaN                                             </td><td>2438.0           </td><td>           </td><td>                     </td><td>                  </td><td>40.49979            </td><td>-74.24442          </td><td>               </td><td>0.0              </td><td>1.0              </td><td>0.0                </td><td>1301270400000.0    </td><td>0.01               </td><td>1.0                             </td><td>0.0               </td></tr>\n",
       "<tr><td>mean   </td><td>19017143.236179568</td><td>NaN                                             </td><td>67620010.64661008</td><td>           </td><td>                     </td><td>                  </td><td>40.72894888066265   </td><td>-73.95216961468452 </td><td>               </td><td>152.7206871868289</td><td>7.029962163820431</td><td>23.274465691788528 </td><td>1538617643910.0996 </td><td>1.3732214298586618 </td><td>7.14398200224972                </td><td>112.78132733408324</td></tr>\n",
       "<tr><td>maxs   </td><td>36487245.0        </td><td>NaN                                             </td><td>274321313.0      </td><td>           </td><td>                     </td><td>                  </td><td>40.91306            </td><td>-73.71299          </td><td>               </td><td>10000.0          </td><td>1250.0           </td><td>629.0              </td><td>1562544000000.0    </td><td>58.5               </td><td>327.0                           </td><td>365.0             </td></tr>\n",
       "<tr><td>sigma  </td><td>10983108.385610096</td><td>NaN                                             </td><td>78610967.03266662</td><td>           </td><td>                     </td><td>                  </td><td>0.054530078057372144</td><td>0.04615673610637309</td><td>               </td><td>240.1541697471876</td><td>20.51054953317987</td><td>44.550582266683925 </td><td>35762427432.20709  </td><td>1.6804419952744725 </td><td>32.95251884941994               </td><td>131.62228885171479</td></tr>\n",
       "<tr><td>zeros  </td><td>0                 </td><td>0                                               </td><td>0                </td><td>           </td><td>                     </td><td>                  </td><td>0                   </td><td>0                  </td><td>               </td><td>11               </td><td>0                </td><td>10052              </td><td>0                  </td><td>0                  </td><td>0                               </td><td>17533             </td></tr>\n",
       "<tr><td>missing</td><td>0                 </td><td>0                                               </td><td>0                </td><td>21         </td><td>0                    </td><td>0                 </td><td>0                   </td><td>0                  </td><td>0              </td><td>0                </td><td>0                </td><td>0                  </td><td>10052              </td><td>10052              </td><td>0                               </td><td>0                 </td></tr>\n",
       "<tr><td>0      </td><td>2539.0            </td><td>Clean & quiet apt home by the park              </td><td>2787.0           </td><td>John       </td><td>Brooklyn             </td><td>Kensington        </td><td>40.64749            </td><td>-73.97237          </td><td>Private room   </td><td>149.0            </td><td>1.0              </td><td>9.0                </td><td>2018-10-19 00:00:00</td><td>0.21               </td><td>6.0                             </td><td>365.0             </td></tr>\n",
       "<tr><td>1      </td><td>2595.0            </td><td>Skylit Midtown Castle                           </td><td>2845.0           </td><td>Jennifer   </td><td>Manhattan            </td><td>Midtown           </td><td>40.75362            </td><td>-73.98377          </td><td>Entire home/apt</td><td>225.0            </td><td>1.0              </td><td>45.0               </td><td>2019-05-21 00:00:00</td><td>0.38               </td><td>2.0                             </td><td>355.0             </td></tr>\n",
       "<tr><td>2      </td><td>3647.0            </td><td>THE VILLAGE OF HARLEM....NEW YORK !             </td><td>4632.0           </td><td>Elisabeth  </td><td>Manhattan            </td><td>Harlem            </td><td>40.80902            </td><td>-73.9419           </td><td>Private room   </td><td>150.0            </td><td>3.0              </td><td>0.0                </td><td>                   </td><td>nan                </td><td>1.0                             </td><td>365.0             </td></tr>\n",
       "<tr><td>3      </td><td>3831.0            </td><td>Cozy Entire Floor of Brownstone                 </td><td>4869.0           </td><td>LisaRoxanne</td><td>Brooklyn             </td><td>Clinton Hill      </td><td>40.68514            </td><td>-73.95976          </td><td>Entire home/apt</td><td>89.0             </td><td>1.0              </td><td>270.0              </td><td>2019-07-05 00:00:00</td><td>4.64               </td><td>1.0                             </td><td>194.0             </td></tr>\n",
       "<tr><td>4      </td><td>5022.0            </td><td>Entire Apt: Spacious Studio/Loft by central park</td><td>7192.0           </td><td>Laura      </td><td>Manhattan            </td><td>East Harlem       </td><td>40.79851            </td><td>-73.94399          </td><td>Entire home/apt</td><td>80.0             </td><td>10.0             </td><td>9.0                </td><td>2018-11-19 00:00:00</td><td>0.1                </td><td>1.0                             </td><td>0.0               </td></tr>\n",
       "<tr><td>5      </td><td>5099.0            </td><td>Large Cozy 1 BR Apartment In Midtown East       </td><td>7322.0           </td><td>Chris      </td><td>Manhattan            </td><td>Murray Hill       </td><td>40.74767            </td><td>-73.975            </td><td>Entire home/apt</td><td>200.0            </td><td>3.0              </td><td>74.0               </td><td>2019-06-22 00:00:00</td><td>0.59               </td><td>1.0                             </td><td>129.0             </td></tr>\n",
       "<tr><td>6      </td><td>5121.0            </td><td>BlissArtsSpace!                                 </td><td>7356.0           </td><td>Garon      </td><td>Brooklyn             </td><td>Bedford-Stuyvesant</td><td>40.68688            </td><td>-73.95596          </td><td>Private room   </td><td>60.0             </td><td>45.0             </td><td>49.0               </td><td>2017-10-05 00:00:00</td><td>0.4                </td><td>1.0                             </td><td>0.0               </td></tr>\n",
       "<tr><td>7      </td><td>5178.0            </td><td>Large Furnished Room Near B'way                 </td><td>8967.0           </td><td>Shunichi   </td><td>Manhattan            </td><td>Hell's Kitchen    </td><td>40.76489            </td><td>-73.98493          </td><td>Private room   </td><td>79.0             </td><td>2.0              </td><td>430.0              </td><td>2019-06-24 00:00:00</td><td>3.47               </td><td>1.0                             </td><td>220.0             </td></tr>\n",
       "<tr><td>8      </td><td>5203.0            </td><td>Cozy Clean Guest Room - Family Apt              </td><td>7490.0           </td><td>MaryEllen  </td><td>Manhattan            </td><td>Upper West Side   </td><td>40.80178            </td><td>-73.96723          </td><td>Private room   </td><td>79.0             </td><td>2.0              </td><td>118.0              </td><td>2017-07-21 00:00:00</td><td>0.99               </td><td>1.0                             </td><td>0.0               </td></tr>\n",
       "<tr><td>9      </td><td>5238.0            </td><td>Cute & Cozy Lower East Side 1 bdrm              </td><td>7549.0           </td><td>Ben        </td><td>Manhattan            </td><td>Chinatown         </td><td>40.71344            </td><td>-73.99037          </td><td>Entire home/apt</td><td>150.0            </td><td>1.0              </td><td>160.0              </td><td>2019-06-09 00:00:00</td><td>1.33               </td><td>4.0                             </td><td>188.0             </td></tr>\n",
       "</tbody>\n",
       "</table>"
      ]
     },
     "metadata": {},
     "output_type": "display_data"
    }
   ],
   "source": [
    "airbnb.summary()"
   ]
  },
  {
   "cell_type": "code",
   "execution_count": 256,
   "metadata": {
    "scrolled": false
   },
   "outputs": [
    {
     "data": {
      "text/html": [
       "<table>\n",
       "<thead>\n",
       "<tr><th style=\"text-align: right;\">        id0</th><th style=\"text-align: right;\">   host_id0</th><th style=\"text-align: right;\">  latitude0</th><th style=\"text-align: right;\">  longitude0</th><th style=\"text-align: right;\">     price0</th><th style=\"text-align: right;\">  minimum_nights0</th><th style=\"text-align: right;\">  number_of_reviews0</th><th style=\"text-align: right;\">  reviews_per_month0</th><th style=\"text-align: right;\">  calculated_host_listings_count0</th><th style=\"text-align: right;\">  availability_3650</th></tr>\n",
       "</thead>\n",
       "<tbody>\n",
       "<tr><td style=\"text-align: right;\"> 1         </td><td style=\"text-align: right;\"> 0.591529  </td><td style=\"text-align: right;\">-0.010013  </td><td style=\"text-align: right;\">   0.10315  </td><td style=\"text-align: right;\">-0.00664654</td><td style=\"text-align: right;\">       -0.0739018</td><td style=\"text-align: right;\">          -0.329865 </td><td style=\"text-align: right;\">          0.291828  </td><td style=\"text-align: right;\">                       0.0984823 </td><td style=\"text-align: right;\">         0.00642997</td></tr>\n",
       "<tr><td style=\"text-align: right;\"> 0.591529  </td><td style=\"text-align: right;\"> 1         </td><td style=\"text-align: right;\"> 0.0129462 </td><td style=\"text-align: right;\">   0.141095 </td><td style=\"text-align: right;\"> 0.00626947</td><td style=\"text-align: right;\">       -0.0516927</td><td style=\"text-align: right;\">          -0.141819 </td><td style=\"text-align: right;\">          0.296417  </td><td style=\"text-align: right;\">                       0.149412  </td><td style=\"text-align: right;\">         0.155082  </td></tr>\n",
       "<tr><td style=\"text-align: right;\">-0.010013  </td><td style=\"text-align: right;\"> 0.0129462 </td><td style=\"text-align: right;\"> 1         </td><td style=\"text-align: right;\">   0.0881516</td><td style=\"text-align: right;\"> 0.0313178 </td><td style=\"text-align: right;\">        0.0248079</td><td style=\"text-align: right;\">          -0.0087465</td><td style=\"text-align: right;\">         -0.0101416 </td><td style=\"text-align: right;\">                       0.00432565</td><td style=\"text-align: right;\">        -0.0222281 </td></tr>\n",
       "<tr><td style=\"text-align: right;\"> 0.10315   </td><td style=\"text-align: right;\"> 0.141095  </td><td style=\"text-align: right;\"> 0.0881516 </td><td style=\"text-align: right;\">   1        </td><td style=\"text-align: right;\">-0.155361  </td><td style=\"text-align: right;\">       -0.0554183</td><td style=\"text-align: right;\">           0.0546812</td><td style=\"text-align: right;\">          0.145948  </td><td style=\"text-align: right;\">                      -0.0933245 </td><td style=\"text-align: right;\">         0.10254   </td></tr>\n",
       "<tr><td style=\"text-align: right;\">-0.00664654</td><td style=\"text-align: right;\"> 0.00626947</td><td style=\"text-align: right;\"> 0.0313178 </td><td style=\"text-align: right;\">  -0.155361 </td><td style=\"text-align: right;\"> 1         </td><td style=\"text-align: right;\">        0.0255058</td><td style=\"text-align: right;\">          -0.0359381</td><td style=\"text-align: right;\">         -0.0306083 </td><td style=\"text-align: right;\">                       0.0529032 </td><td style=\"text-align: right;\">         0.0782336 </td></tr>\n",
       "<tr><td style=\"text-align: right;\">-0.0739018 </td><td style=\"text-align: right;\">-0.0516927 </td><td style=\"text-align: right;\"> 0.0248079 </td><td style=\"text-align: right;\">  -0.0554183</td><td style=\"text-align: right;\"> 0.0255058 </td><td style=\"text-align: right;\">        1        </td><td style=\"text-align: right;\">          -0.0693678</td><td style=\"text-align: right;\">         -0.121702  </td><td style=\"text-align: right;\">                       0.0734789 </td><td style=\"text-align: right;\">         0.101686  </td></tr>\n",
       "<tr><td style=\"text-align: right;\">-0.329865  </td><td style=\"text-align: right;\">-0.141819  </td><td style=\"text-align: right;\">-0.0087465 </td><td style=\"text-align: right;\">   0.0546812</td><td style=\"text-align: right;\">-0.0359381 </td><td style=\"text-align: right;\">       -0.0693678</td><td style=\"text-align: right;\">           1        </td><td style=\"text-align: right;\">          0.549868  </td><td style=\"text-align: right;\">                      -0.0597844 </td><td style=\"text-align: right;\">         0.193557  </td></tr>\n",
       "<tr><td style=\"text-align: right;\"> 0.291828  </td><td style=\"text-align: right;\"> 0.296417  </td><td style=\"text-align: right;\">-0.0101416 </td><td style=\"text-align: right;\">   0.145948 </td><td style=\"text-align: right;\">-0.0306083 </td><td style=\"text-align: right;\">       -0.121702 </td><td style=\"text-align: right;\">           0.549868 </td><td style=\"text-align: right;\">          1         </td><td style=\"text-align: right;\">                      -0.00942116</td><td style=\"text-align: right;\">         0.185791  </td></tr>\n",
       "<tr><td style=\"text-align: right;\"> 0.0984823 </td><td style=\"text-align: right;\"> 0.149412  </td><td style=\"text-align: right;\"> 0.00432565</td><td style=\"text-align: right;\">  -0.0933245</td><td style=\"text-align: right;\"> 0.0529032 </td><td style=\"text-align: right;\">        0.0734789</td><td style=\"text-align: right;\">          -0.0597844</td><td style=\"text-align: right;\">         -0.00942116</td><td style=\"text-align: right;\">                       1         </td><td style=\"text-align: right;\">         0.182911  </td></tr>\n",
       "<tr><td style=\"text-align: right;\"> 0.00642997</td><td style=\"text-align: right;\"> 0.155082  </td><td style=\"text-align: right;\">-0.0222281 </td><td style=\"text-align: right;\">   0.10254  </td><td style=\"text-align: right;\"> 0.0782336 </td><td style=\"text-align: right;\">        0.101686 </td><td style=\"text-align: right;\">           0.193557 </td><td style=\"text-align: right;\">          0.185791  </td><td style=\"text-align: right;\">                       0.182911  </td><td style=\"text-align: right;\">         1         </td></tr>\n",
       "</tbody>\n",
       "</table>"
      ]
     },
     "metadata": {},
     "output_type": "display_data"
    },
    {
     "data": {
      "text/plain": []
     },
     "execution_count": 256,
     "metadata": {},
     "output_type": "execute_result"
    }
   ],
   "source": [
    "num_cols = [k for k,v in airbnb.types.items() if v in [\"real\", \"int\"]]\n",
    "airbnb[num_cols].cor(na_rm = True)"
   ]
  },
  {
   "cell_type": "code",
   "execution_count": 257,
   "metadata": {},
   "outputs": [
    {
     "data": {
      "image/png": "[encoded data removed]",
      "text/plain": [
       "<Figure size 432x288 with 1 Axes>"
      ]
     },
     "metadata": {
      "needs_background": "light"
     },
     "output_type": "display_data"
    }
   ],
   "source": [
    "%matplotlib inline\n",
    "airbnb[\"calculated_host_listings_count\"].hist()"
   ]
  },
  {
   "cell_type": "code",
   "execution_count": 258,
   "metadata": {},
   "outputs": [
    {
     "data": {
      "image/png": "[encoded data removed]",
      "text/plain": [
       "<Figure size 432x288 with 1 Axes>"
      ]
     },
     "metadata": {
      "needs_background": "light"
     },
     "output_type": "display_data"
    }
   ],
   "source": [
    "airbnb[\"calculated_host_listings_count\"].log().hist()"
   ]
  },
  {
   "cell_type": "markdown",
   "metadata": {},
   "source": [
    "Now we will create some aggregations of the data using h2o's group_by function and visualize using open source plotting libraries like matplotlib.\n",
    "\n",
    "We can use H2O-3 to aggregate our large data.  Once it has been aggregated, it is much smaller and can be easily converted to a pandas dataframe without the concern of running out of memory."
   ]
  },
  {
   "cell_type": "code",
   "execution_count": 259,
   "metadata": {},
   "outputs": [
    {
     "data": {
      "text/html": [
       "<table>\n",
       "<thead>\n",
       "<tr><th>neighbourhood_group  </th><th style=\"text-align: right;\">  mean_price</th></tr>\n",
       "</thead>\n",
       "<tbody>\n",
       "<tr><td>Bronx                </td><td style=\"text-align: right;\">     87.4968</td></tr>\n",
       "<tr><td>Brooklyn             </td><td style=\"text-align: right;\">    124.383 </td></tr>\n",
       "<tr><td>Manhattan            </td><td style=\"text-align: right;\">    196.876 </td></tr>\n",
       "<tr><td>Queens               </td><td style=\"text-align: right;\">     99.5176</td></tr>\n",
       "<tr><td>Staten Island        </td><td style=\"text-align: right;\">    114.812 </td></tr>\n",
       "</tbody>\n",
       "</table>"
      ]
     },
     "metadata": {},
     "output_type": "display_data"
    },
    {
     "data": {
      "text/plain": []
     },
     "execution_count": 259,
     "metadata": {},
     "output_type": "execute_result"
    }
   ],
   "source": [
    "price_by_neighborhood_grp = airbnb.group_by(\"neighbourhood_group\").mean(\"price\").get_frame()\n",
    "price_by_neighborhood_grp"
   ]
  },
  {
   "cell_type": "code",
   "execution_count": 260,
   "metadata": {},
   "outputs": [],
   "source": [
    "import plotly.express as px"
   ]
  },
  {
   "cell_type": "code",
   "execution_count": 261,
   "metadata": {},
   "outputs": [
    {
     "data": {
      "application/vnd.plotly.v1+json": {
       "config": {
        "plotlyServerURL": "https://plot.ly"
       },
       "data": [
        {
         "alignmentgroup": "True",
         "hoverlabel": {
          "namelength": 0
         },
         "hovertemplate": "neighbourhood_group=%{x}<br>mean_price=%{y}",
         "legendgroup": "",
         "marker": {
          "color": "#636efa"
         },
         "name": "",
         "offsetgroup": "",
         "orientation": "v",
         "showlegend": false,
         "textposition": "auto",
         "type": "bar",
         "x": [
          "Bronx",
          "Brooklyn",
          "Manhattan",
          "Queens",
          "Staten Island"
         ],
         "xaxis": "x",
         "y": [
          87.49679193400551,
          124.38320732192598,
          196.87581367434558,
          99.51764913519236,
          114.81233243967829
         ],
         "yaxis": "y"
        }
       ],
       "layout": {
        "barmode": "relative",
        "legend": {
         "tracegroupgap": 0
        },
        "margin": {
         "t": 60
        },
        "template": {
         "data": {
          "bar": [
           {
            "error_x": {
             "color": "#2a3f5f"
            },
            "error_y": {
             "color": "#2a3f5f"
            },
            "marker": {
             "line": {
              "color": "#E5ECF6",
              "width": 0.5
             }
            },
            "type": "bar"
           }
          ],
          "barpolar": [
           {
            "marker": {
             "line": {
              "color": "#E5ECF6",
              "width": 0.5
             }
            },
            "type": "barpolar"
           }
          ],
          "carpet": [
           {
            "aaxis": {
             "endlinecolor": "#2a3f5f",
             "gridcolor": "white",
             "linecolor": "white",
             "minorgridcolor": "white",
             "startlinecolor": "#2a3f5f"
            },
            "baxis": {
             "endlinecolor": "#2a3f5f",
             "gridcolor": "white",
             "linecolor": "white",
             "minorgridcolor": "white",
             "startlinecolor": "#2a3f5f"
            },
            "type": "carpet"
           }
          ],
          "choropleth": [
           {
            "colorbar": {
             "outlinewidth": 0,
             "ticks": ""
            },
            "type": "choropleth"
           }
          ],
          "contour": [
           {
            "colorbar": {
             "outlinewidth": 0,
             "ticks": ""
            },
            "colorscale": [
             [
              0,
              "#0d0887"
             ],
             [
              0.1111111111111111,
              "#46039f"
             ],
             [
              0.2222222222222222,
              "#7201a8"
             ],
             [
              0.3333333333333333,
              "#9c179e"
             ],
             [
              0.4444444444444444,
              "#bd3786"
             ],
             [
              0.5555555555555556,
              "#d8576b"
             ],
             [
              0.6666666666666666,
              "#ed7953"
             ],
             [
              0.7777777777777778,
              "#fb9f3a"
             ],
             [
              0.8888888888888888,
              "#fdca26"
             ],
             [
              1,
              "#f0f921"
             ]
            ],
            "type": "contour"
           }
          ],
          "contourcarpet": [
           {
            "colorbar": {
             "outlinewidth": 0,
             "ticks": ""
            },
            "type": "contourcarpet"
           }
          ],
          "heatmap": [
           {
            "colorbar": {
             "outlinewidth": 0,
             "ticks": ""
            },
            "colorscale": [
             [
              0,
              "#0d0887"
             ],
             [
              0.1111111111111111,
              "#46039f"
             ],
             [
              0.2222222222222222,
              "#7201a8"
             ],
             [
              0.3333333333333333,
              "#9c179e"
             ],
             [
              0.4444444444444444,
              "#bd3786"
             ],
             [
              0.5555555555555556,
              "#d8576b"
             ],
             [
              0.6666666666666666,
              "#ed7953"
             ],
             [
              0.7777777777777778,
              "#fb9f3a"
             ],
             [
              0.8888888888888888,
              "#fdca26"
             ],
             [
              1,
              "#f0f921"
             ]
            ],
            "type": "heatmap"
           }
          ],
          "heatmapgl": [
           {
            "colorbar": {
             "outlinewidth": 0,
             "ticks": ""
            },
            "colorscale": [
             [
              0,
              "#0d0887"
             ],
             [
              0.1111111111111111,
              "#46039f"
             ],
             [
              0.2222222222222222,
              "#7201a8"
             ],
             [
              0.3333333333333333,
              "#9c179e"
             ],
             [
              0.4444444444444444,
              "#bd3786"
             ],
             [
              0.5555555555555556,
              "#d8576b"
             ],
             [
              0.6666666666666666,
              "#ed7953"
             ],
             [
              0.7777777777777778,
              "#fb9f3a"
             ],
             [
              0.8888888888888888,
              "#fdca26"
             ],
             [
              1,
              "#f0f921"
             ]
            ],
            "type": "heatmapgl"
           }
          ],
          "histogram": [
           {
            "marker": {
             "colorbar": {
              "outlinewidth": 0,
              "ticks": ""
             }
            },
            "type": "histogram"
           }
          ],
          "histogram2d": [
           {
            "colorbar": {
             "outlinewidth": 0,
             "ticks": ""
            },
            "colorscale": [
             [
              0,
              "#0d0887"
             ],
             [
              0.1111111111111111,
              "#46039f"
             ],
             [
              0.2222222222222222,
              "#7201a8"
             ],
             [
              0.3333333333333333,
              "#9c179e"
             ],
             [
              0.4444444444444444,
              "#bd3786"
             ],
             [
              0.5555555555555556,
              "#d8576b"
             ],
             [
              0.6666666666666666,
              "#ed7953"
             ],
             [
              0.7777777777777778,
              "#fb9f3a"
             ],
             [
              0.8888888888888888,
              "#fdca26"
             ],
             [
              1,
              "#f0f921"
             ]
            ],
            "type": "histogram2d"
           }
          ],
          "histogram2dcontour": [
           {
            "colorbar": {
             "outlinewidth": 0,
             "ticks": ""
            },
            "colorscale": [
             [
              0,
              "#0d0887"
             ],
             [
              0.1111111111111111,
              "#46039f"
             ],
             [
              0.2222222222222222,
              "#7201a8"
             ],
             [
              0.3333333333333333,
              "#9c179e"
             ],
             [
              0.4444444444444444,
              "#bd3786"
             ],
             [
              0.5555555555555556,
              "#d8576b"
             ],
             [
              0.6666666666666666,
              "#ed7953"
             ],
             [
              0.7777777777777778,
              "#fb9f3a"
             ],
             [
              0.8888888888888888,
              "#fdca26"
             ],
             [
              1,
              "#f0f921"
             ]
            ],
            "type": "histogram2dcontour"
           }
          ],
          "mesh3d": [
           {
            "colorbar": {
             "outlinewidth": 0,
             "ticks": ""
            },
            "type": "mesh3d"
           }
          ],
          "parcoords": [
           {
            "line": {
             "colorbar": {
              "outlinewidth": 0,
              "ticks": ""
             }
            },
            "type": "parcoords"
           }
          ],
          "pie": [
           {
            "automargin": true,
            "type": "pie"
           }
          ],
          "scatter": [
           {
            "marker": {
             "colorbar": {
              "outlinewidth": 0,
              "ticks": ""
             }
            },
            "type": "scatter"
           }
          ],
          "scatter3d": [
           {
            "line": {
             "colorbar": {
              "outlinewidth": 0,
              "ticks": ""
             }
            },
            "marker": {
             "colorbar": {
              "outlinewidth": 0,
              "ticks": ""
             }
            },
            "type": "scatter3d"
           }
          ],
          "scattercarpet": [
           {
            "marker": {
             "colorbar": {
              "outlinewidth": 0,
              "ticks": ""
             }
            },
            "type": "scattercarpet"
           }
          ],
          "scattergeo": [
           {
            "marker": {
             "colorbar": {
              "outlinewidth": 0,
              "ticks": ""
             }
            },
            "type": "scattergeo"
           }
          ],
          "scattergl": [
           {
            "marker": {
             "colorbar": {
              "outlinewidth": 0,
              "ticks": ""
             }
            },
            "type": "scattergl"
           }
          ],
          "scattermapbox": [
           {
            "marker": {
             "colorbar": {
              "outlinewidth": 0,
              "ticks": ""
             }
            },
            "type": "scattermapbox"
           }
          ],
          "scatterpolar": [
           {
            "marker": {
             "colorbar": {
              "outlinewidth": 0,
              "ticks": ""
             }
            },
            "type": "scatterpolar"
           }
          ],
          "scatterpolargl": [
           {
            "marker": {
             "colorbar": {
              "outlinewidth": 0,
              "ticks": ""
             }
            },
            "type": "scatterpolargl"
           }
          ],
          "scatterternary": [
           {
            "marker": {
             "colorbar": {
              "outlinewidth": 0,
              "ticks": ""
             }
            },
            "type": "scatterternary"
           }
          ],
          "surface": [
           {
            "colorbar": {
             "outlinewidth": 0,
             "ticks": ""
            },
            "colorscale": [
             [
              0,
              "#0d0887"
             ],
             [
              0.1111111111111111,
              "#46039f"
             ],
             [
              0.2222222222222222,
              "#7201a8"
             ],
             [
              0.3333333333333333,
              "#9c179e"
             ],
             [
              0.4444444444444444,
              "#bd3786"
             ],
             [
              0.5555555555555556,
              "#d8576b"
             ],
             [
              0.6666666666666666,
              "#ed7953"
             ],
             [
              0.7777777777777778,
              "#fb9f3a"
             ],
             [
              0.8888888888888888,
              "#fdca26"
             ],
             [
              1,
              "#f0f921"
             ]
            ],
            "type": "surface"
           }
          ],
          "table": [
           {
            "cells": {
             "fill": {
              "color": "#EBF0F8"
             },
             "line": {
              "color": "white"
             }
            },
            "header": {
             "fill": {
              "color": "#C8D4E3"
             },
             "line": {
              "color": "white"
             }
            },
            "type": "table"
           }
          ]
         },
         "layout": {
          "annotationdefaults": {
           "arrowcolor": "#2a3f5f",
           "arrowhead": 0,
           "arrowwidth": 1
          },
          "coloraxis": {
           "colorbar": {
            "outlinewidth": 0,
            "ticks": ""
           }
          },
          "colorscale": {
           "diverging": [
            [
             0,
             "#8e0152"
            ],
            [
             0.1,
             "#c51b7d"
            ],
            [
             0.2,
             "#de77ae"
            ],
            [
             0.3,
             "#f1b6da"
            ],
            [
             0.4,
             "#fde0ef"
            ],
            [
             0.5,
             "#f7f7f7"
            ],
            [
             0.6,
             "#e6f5d0"
            ],
            [
             0.7,
             "#b8e186"
            ],
            [
             0.8,
             "#7fbc41"
            ],
            [
             0.9,
             "#4d9221"
            ],
            [
             1,
             "#276419"
            ]
           ],
           "sequential": [
            [
             0,
             "#0d0887"
            ],
            [
             0.1111111111111111,
             "#46039f"
            ],
            [
             0.2222222222222222,
             "#7201a8"
            ],
            [
             0.3333333333333333,
             "#9c179e"
            ],
            [
             0.4444444444444444,
             "#bd3786"
            ],
            [
             0.5555555555555556,
             "#d8576b"
            ],
            [
             0.6666666666666666,
             "#ed7953"
            ],
            [
             0.7777777777777778,
             "#fb9f3a"
            ],
            [
             0.8888888888888888,
             "#fdca26"
            ],
            [
             1,
             "#f0f921"
            ]
           ],
           "sequentialminus": [
            [
             0,
             "#0d0887"
            ],
            [
             0.1111111111111111,
             "#46039f"
            ],
            [
             0.2222222222222222,
             "#7201a8"
            ],
            [
             0.3333333333333333,
             "#9c179e"
            ],
            [
             0.4444444444444444,
             "#bd3786"
            ],
            [
             0.5555555555555556,
             "#d8576b"
            ],
            [
             0.6666666666666666,
             "#ed7953"
            ],
            [
             0.7777777777777778,
             "#fb9f3a"
            ],
            [
             0.8888888888888888,
             "#fdca26"
            ],
            [
             1,
             "#f0f921"
            ]
           ]
          },
          "colorway": [
           "#636efa",
           "#EF553B",
           "#00cc96",
           "#ab63fa",
           "#FFA15A",
           "#19d3f3",
           "#FF6692",
           "#B6E880",
           "#FF97FF",
           "#FECB52"
          ],
          "font": {
           "color": "#2a3f5f"
          },
          "geo": {
           "bgcolor": "white",
           "lakecolor": "white",
           "landcolor": "#E5ECF6",
           "showlakes": true,
           "showland": true,
           "subunitcolor": "white"
          },
          "hoverlabel": {
           "align": "left"
          },
          "hovermode": "closest",
          "mapbox": {
           "style": "light"
          },
          "paper_bgcolor": "white",
          "plot_bgcolor": "#E5ECF6",
          "polar": {
           "angularaxis": {
            "gridcolor": "white",
            "linecolor": "white",
            "ticks": ""
           },
           "bgcolor": "#E5ECF6",
           "radialaxis": {
            "gridcolor": "white",
            "linecolor": "white",
            "ticks": ""
           }
          },
          "scene": {
           "xaxis": {
            "backgroundcolor": "#E5ECF6",
            "gridcolor": "white",
            "gridwidth": 2,
            "linecolor": "white",
            "showbackground": true,
            "ticks": "",
            "zerolinecolor": "white"
           },
           "yaxis": {
            "backgroundcolor": "#E5ECF6",
            "gridcolor": "white",
            "gridwidth": 2,
            "linecolor": "white",
            "showbackground": true,
            "ticks": "",
            "zerolinecolor": "white"
           },
           "zaxis": {
            "backgroundcolor": "#E5ECF6",
            "gridcolor": "white",
            "gridwidth": 2,
            "linecolor": "white",
            "showbackground": true,
            "ticks": "",
            "zerolinecolor": "white"
           }
          },
          "shapedefaults": {
           "line": {
            "color": "#2a3f5f"
           }
          },
          "ternary": {
           "aaxis": {
            "gridcolor": "white",
            "linecolor": "white",
            "ticks": ""
           },
           "baxis": {
            "gridcolor": "white",
            "linecolor": "white",
            "ticks": ""
           },
           "bgcolor": "#E5ECF6",
           "caxis": {
            "gridcolor": "white",
            "linecolor": "white",
            "ticks": ""
           }
          },
          "title": {
           "x": 0.05
          },
          "xaxis": {
           "automargin": true,
           "gridcolor": "white",
           "linecolor": "white",
           "ticks": "",
           "title": {
            "standoff": 15
           },
           "zerolinecolor": "white",
           "zerolinewidth": 2
          },
          "yaxis": {
           "automargin": true,
           "gridcolor": "white",
           "linecolor": "white",
           "ticks": "",
           "title": {
            "standoff": 15
           },
           "zerolinecolor": "white",
           "zerolinewidth": 2
          }
         }
        },
        "xaxis": {
         "anchor": "y",
         "domain": [
          0,
          1
         ],
         "title": {
          "text": "neighbourhood_group"
         }
        },
        "yaxis": {
         "anchor": "x",
         "domain": [
          0,
          1
         ],
         "title": {
          "text": "mean_price"
         }
        }
       }
      },
      "text/html": [
       "<div>\n",
       "        \n",
       "        \n",
       "            <div id=\"007f2f55-7053-41a1-995a-fa489bbea479\" class=\"plotly-graph-div\" style=\"height:525px; width:100%;\"></div>\n",
       "            <script type=\"text/javascript\">\n",
       "                require([\"plotly\"], function(Plotly) {\n",
       "                    window.PLOTLYENV=window.PLOTLYENV || {};\n",
       "                    \n",
       "                if (document.getElementById(\"007f2f55-7053-41a1-995a-fa489bbea479\")) {\n",
       "                    Plotly.newPlot(\n",
       "                        '007f2f55-7053-41a1-995a-fa489bbea479',\n",
       "                        [{\"alignmentgroup\": \"True\", \"hoverlabel\": {\"namelength\": 0}, \"hovertemplate\": \"neighbourhood_group=%{x}<br>mean_price=%{y}\", \"legendgroup\": \"\", \"marker\": {\"color\": \"#636efa\"}, \"name\": \"\", \"offsetgroup\": \"\", \"orientation\": \"v\", \"showlegend\": false, \"textposition\": \"auto\", \"type\": \"bar\", \"x\": [\"Bronx\", \"Brooklyn\", \"Manhattan\", \"Queens\", \"Staten Island\"], \"xaxis\": \"x\", \"y\": [87.49679193400551, 124.38320732192598, 196.87581367434558, 99.51764913519236, 114.81233243967829], \"yaxis\": \"y\"}],\n",
       "                        {\"barmode\": \"relative\", \"legend\": {\"tracegroupgap\": 0}, \"margin\": {\"t\": 60}, \"template\": {\"data\": {\"bar\": [{\"error_x\": {\"color\": \"#2a3f5f\"}, \"error_y\": {\"color\": \"#2a3f5f\"}, \"marker\": {\"line\": {\"color\": \"#E5ECF6\", \"width\": 0.5}}, \"type\": \"bar\"}], \"barpolar\": [{\"marker\": {\"line\": {\"color\": \"#E5ECF6\", \"width\": 0.5}}, \"type\": \"barpolar\"}], \"carpet\": [{\"aaxis\": {\"endlinecolor\": \"#2a3f5f\", \"gridcolor\": \"white\", \"linecolor\": \"white\", \"minorgridcolor\": \"white\", \"startlinecolor\": \"#2a3f5f\"}, \"baxis\": {\"endlinecolor\": \"#2a3f5f\", \"gridcolor\": \"white\", \"linecolor\": \"white\", \"minorgridcolor\": \"white\", \"startlinecolor\": \"#2a3f5f\"}, \"type\": \"carpet\"}], \"choropleth\": [{\"colorbar\": {\"outlinewidth\": 0, \"ticks\": \"\"}, \"type\": \"choropleth\"}], \"contour\": [{\"colorbar\": {\"outlinewidth\": 0, \"ticks\": \"\"}, \"colorscale\": [[0.0, \"#0d0887\"], [0.1111111111111111, \"#46039f\"], [0.2222222222222222, \"#7201a8\"], [0.3333333333333333, \"#9c179e\"], [0.4444444444444444, \"#bd3786\"], [0.5555555555555556, \"#d8576b\"], [0.6666666666666666, \"#ed7953\"], [0.7777777777777778, \"#fb9f3a\"], [0.8888888888888888, \"#fdca26\"], [1.0, \"#f0f921\"]], \"type\": \"contour\"}], \"contourcarpet\": [{\"colorbar\": {\"outlinewidth\": 0, \"ticks\": \"\"}, \"type\": \"contourcarpet\"}], \"heatmap\": [{\"colorbar\": {\"outlinewidth\": 0, \"ticks\": \"\"}, \"colorscale\": [[0.0, \"#0d0887\"], [0.1111111111111111, \"#46039f\"], [0.2222222222222222, \"#7201a8\"], [0.3333333333333333, \"#9c179e\"], [0.4444444444444444, \"#bd3786\"], [0.5555555555555556, \"#d8576b\"], [0.6666666666666666, \"#ed7953\"], [0.7777777777777778, \"#fb9f3a\"], [0.8888888888888888, \"#fdca26\"], [1.0, \"#f0f921\"]], \"type\": \"heatmap\"}], \"heatmapgl\": [{\"colorbar\": {\"outlinewidth\": 0, \"ticks\": \"\"}, \"colorscale\": [[0.0, \"#0d0887\"], [0.1111111111111111, \"#46039f\"], [0.2222222222222222, \"#7201a8\"], [0.3333333333333333, \"#9c179e\"], [0.4444444444444444, \"#bd3786\"], [0.5555555555555556, \"#d8576b\"], [0.6666666666666666, \"#ed7953\"], [0.7777777777777778, \"#fb9f3a\"], [0.8888888888888888, \"#fdca26\"], [1.0, \"#f0f921\"]], \"type\": \"heatmapgl\"}], \"histogram\": [{\"marker\": {\"colorbar\": {\"outlinewidth\": 0, \"ticks\": \"\"}}, \"type\": \"histogram\"}], \"histogram2d\": [{\"colorbar\": {\"outlinewidth\": 0, \"ticks\": \"\"}, \"colorscale\": [[0.0, \"#0d0887\"], [0.1111111111111111, \"#46039f\"], [0.2222222222222222, \"#7201a8\"], [0.3333333333333333, \"#9c179e\"], [0.4444444444444444, \"#bd3786\"], [0.5555555555555556, \"#d8576b\"], [0.6666666666666666, \"#ed7953\"], [0.7777777777777778, \"#fb9f3a\"], [0.8888888888888888, \"#fdca26\"], [1.0, \"#f0f921\"]], \"type\": \"histogram2d\"}], \"histogram2dcontour\": [{\"colorbar\": {\"outlinewidth\": 0, \"ticks\": \"\"}, \"colorscale\": [[0.0, \"#0d0887\"], [0.1111111111111111, \"#46039f\"], [0.2222222222222222, \"#7201a8\"], [0.3333333333333333, \"#9c179e\"], [0.4444444444444444, \"#bd3786\"], [0.5555555555555556, \"#d8576b\"], [0.6666666666666666, \"#ed7953\"], [0.7777777777777778, \"#fb9f3a\"], [0.8888888888888888, \"#fdca26\"], [1.0, \"#f0f921\"]], \"type\": \"histogram2dcontour\"}], \"mesh3d\": [{\"colorbar\": {\"outlinewidth\": 0, \"ticks\": \"\"}, \"type\": \"mesh3d\"}], \"parcoords\": [{\"line\": {\"colorbar\": {\"outlinewidth\": 0, \"ticks\": \"\"}}, \"type\": \"parcoords\"}], \"pie\": [{\"automargin\": true, \"type\": \"pie\"}], \"scatter\": [{\"marker\": {\"colorbar\": {\"outlinewidth\": 0, \"ticks\": \"\"}}, \"type\": \"scatter\"}], \"scatter3d\": [{\"line\": {\"colorbar\": {\"outlinewidth\": 0, \"ticks\": \"\"}}, \"marker\": {\"colorbar\": {\"outlinewidth\": 0, \"ticks\": \"\"}}, \"type\": \"scatter3d\"}], \"scattercarpet\": [{\"marker\": {\"colorbar\": {\"outlinewidth\": 0, \"ticks\": \"\"}}, \"type\": \"scattercarpet\"}], \"scattergeo\": [{\"marker\": {\"colorbar\": {\"outlinewidth\": 0, \"ticks\": \"\"}}, \"type\": \"scattergeo\"}], \"scattergl\": [{\"marker\": {\"colorbar\": {\"outlinewidth\": 0, \"ticks\": \"\"}}, \"type\": \"scattergl\"}], \"scattermapbox\": [{\"marker\": {\"colorbar\": {\"outlinewidth\": 0, \"ticks\": \"\"}}, \"type\": \"scattermapbox\"}], \"scatterpolar\": [{\"marker\": {\"colorbar\": {\"outlinewidth\": 0, \"ticks\": \"\"}}, \"type\": \"scatterpolar\"}], \"scatterpolargl\": [{\"marker\": {\"colorbar\": {\"outlinewidth\": 0, \"ticks\": \"\"}}, \"type\": \"scatterpolargl\"}], \"scatterternary\": [{\"marker\": {\"colorbar\": {\"outlinewidth\": 0, \"ticks\": \"\"}}, \"type\": \"scatterternary\"}], \"surface\": [{\"colorbar\": {\"outlinewidth\": 0, \"ticks\": \"\"}, \"colorscale\": [[0.0, \"#0d0887\"], [0.1111111111111111, \"#46039f\"], [0.2222222222222222, \"#7201a8\"], [0.3333333333333333, \"#9c179e\"], [0.4444444444444444, \"#bd3786\"], [0.5555555555555556, \"#d8576b\"], [0.6666666666666666, \"#ed7953\"], [0.7777777777777778, \"#fb9f3a\"], [0.8888888888888888, \"#fdca26\"], [1.0, \"#f0f921\"]], \"type\": \"surface\"}], \"table\": [{\"cells\": {\"fill\": {\"color\": \"#EBF0F8\"}, \"line\": {\"color\": \"white\"}}, \"header\": {\"fill\": {\"color\": \"#C8D4E3\"}, \"line\": {\"color\": \"white\"}}, \"type\": \"table\"}]}, \"layout\": {\"annotationdefaults\": {\"arrowcolor\": \"#2a3f5f\", \"arrowhead\": 0, \"arrowwidth\": 1}, \"coloraxis\": {\"colorbar\": {\"outlinewidth\": 0, \"ticks\": \"\"}}, \"colorscale\": {\"diverging\": [[0, \"#8e0152\"], [0.1, \"#c51b7d\"], [0.2, \"#de77ae\"], [0.3, \"#f1b6da\"], [0.4, \"#fde0ef\"], [0.5, \"#f7f7f7\"], [0.6, \"#e6f5d0\"], [0.7, \"#b8e186\"], [0.8, \"#7fbc41\"], [0.9, \"#4d9221\"], [1, \"#276419\"]], \"sequential\": [[0.0, \"#0d0887\"], [0.1111111111111111, \"#46039f\"], [0.2222222222222222, \"#7201a8\"], [0.3333333333333333, \"#9c179e\"], [0.4444444444444444, \"#bd3786\"], [0.5555555555555556, \"#d8576b\"], [0.6666666666666666, \"#ed7953\"], [0.7777777777777778, \"#fb9f3a\"], [0.8888888888888888, \"#fdca26\"], [1.0, \"#f0f921\"]], \"sequentialminus\": [[0.0, \"#0d0887\"], [0.1111111111111111, \"#46039f\"], [0.2222222222222222, \"#7201a8\"], [0.3333333333333333, \"#9c179e\"], [0.4444444444444444, \"#bd3786\"], [0.5555555555555556, \"#d8576b\"], [0.6666666666666666, \"#ed7953\"], [0.7777777777777778, \"#fb9f3a\"], [0.8888888888888888, \"#fdca26\"], [1.0, \"#f0f921\"]]}, \"colorway\": [\"#636efa\", \"#EF553B\", \"#00cc96\", \"#ab63fa\", \"#FFA15A\", \"#19d3f3\", \"#FF6692\", \"#B6E880\", \"#FF97FF\", \"#FECB52\"], \"font\": {\"color\": \"#2a3f5f\"}, \"geo\": {\"bgcolor\": \"white\", \"lakecolor\": \"white\", \"landcolor\": \"#E5ECF6\", \"showlakes\": true, \"showland\": true, \"subunitcolor\": \"white\"}, \"hoverlabel\": {\"align\": \"left\"}, \"hovermode\": \"closest\", \"mapbox\": {\"style\": \"light\"}, \"paper_bgcolor\": \"white\", \"plot_bgcolor\": \"#E5ECF6\", \"polar\": {\"angularaxis\": {\"gridcolor\": \"white\", \"linecolor\": \"white\", \"ticks\": \"\"}, \"bgcolor\": \"#E5ECF6\", \"radialaxis\": {\"gridcolor\": \"white\", \"linecolor\": \"white\", \"ticks\": \"\"}}, \"scene\": {\"xaxis\": {\"backgroundcolor\": \"#E5ECF6\", \"gridcolor\": \"white\", \"gridwidth\": 2, \"linecolor\": \"white\", \"showbackground\": true, \"ticks\": \"\", \"zerolinecolor\": \"white\"}, \"yaxis\": {\"backgroundcolor\": \"#E5ECF6\", \"gridcolor\": \"white\", \"gridwidth\": 2, \"linecolor\": \"white\", \"showbackground\": true, \"ticks\": \"\", \"zerolinecolor\": \"white\"}, \"zaxis\": {\"backgroundcolor\": \"#E5ECF6\", \"gridcolor\": \"white\", \"gridwidth\": 2, \"linecolor\": \"white\", \"showbackground\": true, \"ticks\": \"\", \"zerolinecolor\": \"white\"}}, \"shapedefaults\": {\"line\": {\"color\": \"#2a3f5f\"}}, \"ternary\": {\"aaxis\": {\"gridcolor\": \"white\", \"linecolor\": \"white\", \"ticks\": \"\"}, \"baxis\": {\"gridcolor\": \"white\", \"linecolor\": \"white\", \"ticks\": \"\"}, \"bgcolor\": \"#E5ECF6\", \"caxis\": {\"gridcolor\": \"white\", \"linecolor\": \"white\", \"ticks\": \"\"}}, \"title\": {\"x\": 0.05}, \"xaxis\": {\"automargin\": true, \"gridcolor\": \"white\", \"linecolor\": \"white\", \"ticks\": \"\", \"title\": {\"standoff\": 15}, \"zerolinecolor\": \"white\", \"zerolinewidth\": 2}, \"yaxis\": {\"automargin\": true, \"gridcolor\": \"white\", \"linecolor\": \"white\", \"ticks\": \"\", \"title\": {\"standoff\": 15}, \"zerolinecolor\": \"white\", \"zerolinewidth\": 2}}}, \"xaxis\": {\"anchor\": \"y\", \"domain\": [0.0, 1.0], \"title\": {\"text\": \"neighbourhood_group\"}}, \"yaxis\": {\"anchor\": \"x\", \"domain\": [0.0, 1.0], \"title\": {\"text\": \"mean_price\"}}},\n",
       "                        {\"responsive\": true}\n",
       "                    ).then(function(){\n",
       "                            \n",
       "var gd = document.getElementById('007f2f55-7053-41a1-995a-fa489bbea479');\n",
       "var x = new MutationObserver(function (mutations, observer) {{\n",
       "        var display = window.getComputedStyle(gd).display;\n",
       "        if (!display || display === 'none') {{\n",
       "            console.log([gd, 'removed!']);\n",
       "            Plotly.purge(gd);\n",
       "            observer.disconnect();\n",
       "        }}\n",
       "}});\n",
       "\n",
       "// Listen for the removal of the full notebook cells\n",
       "var notebookContainer = gd.closest('#notebook-container');\n",
       "if (notebookContainer) {{\n",
       "    x.observe(notebookContainer, {childList: true});\n",
       "}}\n",
       "\n",
       "// Listen for the clearing of the current output cell\n",
       "var outputEl = gd.closest('.output');\n",
       "if (outputEl) {{\n",
       "    x.observe(outputEl, {childList: true});\n",
       "}}\n",
       "\n",
       "                        })\n",
       "                };\n",
       "                });\n",
       "            </script>\n",
       "        </div>"
      ]
     },
     "metadata": {},
     "output_type": "display_data"
    }
   ],
   "source": [
    "plot_data = price_by_neighborhood_grp.as_data_frame(use_pandas=True)\n",
    "fig = px.bar(plot_data, x = \"neighbourhood_group\", y = \"mean_price\")\n",
    "fig.show()"
   ]
  },
  {
   "cell_type": "markdown",
   "metadata": {},
   "source": [
    "We now reduce the size of the data using the the H2OAggregatorEstimator and create a density map of the number of airbnb's per longitude/latitude."
   ]
  },
  {
   "cell_type": "code",
   "execution_count": 262,
   "metadata": {},
   "outputs": [
    {
     "name": "stdout",
     "output_type": "stream",
     "text": [
      "aggregator Model Build progress: |████████████████████████████████████████| 100%\n"
     ]
    }
   ],
   "source": [
    "from h2o.estimators.aggregator import H2OAggregatorEstimator\n",
    "\n",
    "\n",
    "# Build an aggregated frame with around 500 records\n",
    "x = [\"latitude\", \"longitude\"]\n",
    "agg = H2OAggregatorEstimator(target_num_exemplars = 500, save_mapping_frame = True)\n",
    "agg.train(training_frame=airbnb, x = x)\n",
    "\n",
    "# Use the aggregated model to create a new dataframe using aggregated_frame\n",
    "small_airbnb = agg.aggregated_frame"
   ]
  },
  {
   "cell_type": "code",
   "execution_count": 263,
   "metadata": {},
   "outputs": [],
   "source": [
    "small_airbnb_pd = small_airbnb.as_data_frame(use_pandas = True)"
   ]
  },
  {
   "cell_type": "code",
   "execution_count": 264,
   "metadata": {},
   "outputs": [
    {
     "data": {
      "text/plain": [
       "[580, 17]"
      ]
     },
     "execution_count": 264,
     "metadata": {},
     "output_type": "execute_result"
    }
   ],
   "source": [
    "small_airbnb.dim"
   ]
  },
  {
   "cell_type": "code",
   "execution_count": 265,
   "metadata": {},
   "outputs": [
    {
     "data": {
      "application/vnd.plotly.v1+json": {
       "config": {
        "plotlyServerURL": "https://plot.ly"
       },
       "data": [
        {
         "coloraxis": "coloraxis",
         "hoverlabel": {
          "namelength": 0
         },
         "hovertemplate": "counts=%{z}<br>latitude=%{lat}<br>longitude=%{lon}",
         "lat": [
          40.647490000000005,
          40.75362,
          40.809020000000004,
          40.685140000000004,
          40.79851,
          40.74767,
          40.76489,
          40.80178,
          40.713440000000006,
          40.66829,
          40.7353,
          40.70837,
          40.69169,
          40.74192,
          40.67592,
          40.71842,
          40.680690000000006,
          40.68371,
          40.65599,
          40.867540000000005,
          40.7292,
          40.82245,
          40.81305,
          40.722190000000005,
          40.701859999999996,
          40.63702,
          40.7229,
          40.66278,
          40.79009,
          40.659440000000004,
          40.74771,
          40.78635,
          40.7042,
          40.73506,
          40.73961,
          40.720040000000004,
          40.755309999999994,
          40.71185,
          40.77065,
          40.67811,
          40.83139,
          40.75038,
          40.82915,
          40.69723,
          40.684129999999996,
          40.67967,
          40.83927,
          40.71332,
          40.68157,
          40.77823,
          40.778,
          40.85879,
          40.631879999999995,
          40.74028,
          40.79295,
          40.74559,
          40.70207,
          40.76123,
          40.64524,
          40.70641,
          40.83232,
          40.70666,
          40.82374,
          40.70382,
          40.80549,
          40.76307,
          40.74859,
          40.67252,
          40.69546,
          40.717220000000005,
          40.728609999999996,
          40.729,
          40.77185,
          40.68926,
          40.76193,
          40.72003,
          40.73194,
          40.81583,
          40.644459999999995,
          40.688,
          40.63536,
          40.753840000000004,
          40.641059999999996,
          40.81309,
          40.88057,
          40.673190000000005,
          40.87207,
          40.77635,
          40.72488,
          40.67174,
          40.69465,
          40.72413,
          40.58615,
          40.77944,
          40.784909999999996,
          40.764340000000004,
          40.804809999999996,
          40.70925,
          40.650999999999996,
          40.6858,
          40.742490000000004,
          40.89747,
          40.7385,
          40.681309999999996,
          40.858109999999996,
          40.60452,
          40.75744,
          40.86466,
          40.67497,
          40.66788,
          40.76684,
          40.7709,
          40.7969,
          40.65513,
          40.70275,
          40.68897,
          40.68812,
          40.683640000000004,
          40.82802,
          40.58422,
          40.60742,
          40.61927,
          40.61922,
          40.711929999999995,
          40.61077,
          40.662929999999996,
          40.70163,
          40.75575,
          40.776790000000005,
          40.68501,
          40.7347,
          40.85099,
          40.58147,
          40.74965,
          40.67855,
          40.70554,
          40.59251,
          40.64468,
          40.69778,
          40.707409999999996,
          40.73349,
          40.89557,
          40.79951,
          40.66431,
          40.74409,
          40.65992,
          40.67264,
          40.67889,
          40.75295,
          40.66795,
          40.62318,
          40.6339,
          40.77688,
          40.63602,
          40.64372,
          40.62109,
          40.59721,
          40.87039,
          40.879909999999995,
          40.76082,
          40.71151,
          40.68581,
          40.5781,
          40.65408,
          40.81128,
          40.75193,
          40.816109999999995,
          40.62897,
          40.66933,
          40.61269,
          40.59274,
          40.84937,
          40.72719,
          40.74767,
          40.64437,
          40.75578,
          40.64882,
          40.59783,
          40.69249,
          40.68375,
          40.50868,
          40.62879,
          40.61676,
          40.60183,
          40.63324,
          40.859559999999995,
          40.76372,
          40.75666,
          40.69254,
          40.78027,
          40.80343,
          40.69407,
          40.80461,
          40.71502,
          40.85082,
          40.887570000000004,
          40.70947,
          40.69319,
          40.75979,
          40.62908,
          40.78417,
          40.840579999999996,
          40.64902,
          40.6101,
          40.75088,
          40.6745,
          40.85235,
          40.63463,
          40.76356,
          40.74142,
          40.81906,
          40.629220000000004,
          40.75959,
          40.7017,
          40.771029999999996,
          40.676590000000004,
          40.69965,
          40.74658,
          40.64298,
          40.76797,
          40.651759999999996,
          40.67463,
          40.592040000000004,
          40.694140000000004,
          40.70382,
          40.812909999999995,
          40.725120000000004,
          40.73193,
          40.6891,
          40.80011,
          40.635909999999996,
          40.58426,
          40.64308,
          40.72509,
          40.88296,
          40.82138,
          40.71697,
          40.53884,
          40.863170000000004,
          40.71594,
          40.735440000000004,
          40.66173,
          40.64913,
          40.83645,
          40.715759999999996,
          40.73943,
          40.77,
          40.793209999999995,
          40.90804,
          40.700390000000006,
          40.6283,
          40.82347,
          40.70988,
          40.72675,
          40.63592,
          40.864670000000004,
          40.57645,
          40.7095,
          40.72664,
          40.68172,
          40.67657,
          40.884370000000004,
          40.82528,
          40.78645,
          40.67948,
          40.62338,
          40.87605,
          40.63113,
          40.60375,
          40.718270000000004,
          40.79721,
          40.7625,
          40.86705,
          40.85711,
          40.745470000000005,
          40.6955,
          40.60549,
          40.73726,
          40.70061,
          40.704809999999995,
          40.61098,
          40.727129999999995,
          40.76428,
          40.88075,
          40.896029999999996,
          40.59601,
          40.54268,
          40.750370000000004,
          40.69283,
          40.77995,
          40.63402,
          40.88855,
          40.72356,
          40.63881,
          40.58835,
          40.756640000000004,
          40.57718,
          40.67425,
          40.630559999999996,
          40.634809999999995,
          40.73303,
          40.6852,
          40.65443,
          40.63621,
          40.65337,
          40.573209999999996,
          40.71873,
          40.8423,
          40.765390000000004,
          40.75985,
          40.66953,
          40.65687,
          40.75943,
          40.75398,
          40.72401,
          40.66171,
          40.8442,
          40.72325,
          40.7312,
          40.61959,
          40.629709999999996,
          40.85062,
          40.7583,
          40.85465,
          40.631820000000005,
          40.6216,
          40.74602,
          40.870540000000005,
          40.6375,
          40.59642,
          40.600590000000004,
          40.665409999999994,
          40.66788,
          40.83875,
          40.738859999999995,
          40.59968,
          40.6631,
          40.643209999999996,
          40.656040000000004,
          40.61056,
          40.62105,
          40.5517,
          40.778420000000004,
          40.72399,
          40.723620000000004,
          40.5777,
          40.63438,
          40.74253,
          40.828829999999996,
          40.736270000000005,
          40.684909999999995,
          40.58115,
          40.689820000000005,
          40.61291,
          40.71351,
          40.6724,
          40.76578,
          40.69121,
          40.61363,
          40.73859,
          40.76729,
          40.76735,
          40.81335,
          40.67589,
          40.78223,
          40.75421,
          40.844229999999996,
          40.63878,
          40.72172,
          40.81476,
          40.60926,
          40.5455,
          40.85362,
          40.62257,
          40.733509999999995,
          40.81773,
          40.65918,
          40.720009999999995,
          40.71412,
          40.58599,
          40.713409999999996,
          40.60597,
          40.58892,
          40.72756,
          40.84487,
          40.715270000000004,
          40.85487,
          40.71425,
          40.61952,
          40.6186,
          40.694720000000004,
          40.642179999999996,
          40.67836,
          40.63655,
          40.76875,
          40.71775,
          40.59195,
          40.74071,
          40.758359999999996,
          40.73839,
          40.6896,
          40.625859999999996,
          40.729459999999996,
          40.65108,
          40.596059999999994,
          40.64465,
          40.839529999999996,
          40.68606,
          40.57411,
          40.86553,
          40.499790000000004,
          40.87556,
          40.82345,
          40.67667,
          40.6756,
          40.9008,
          40.8787,
          40.72191,
          40.8183,
          40.630520000000004,
          40.8883,
          40.579409999999996,
          40.67112,
          40.6235,
          40.70085,
          40.73975,
          40.691720000000004,
          40.830490000000005,
          40.57093,
          40.75058,
          40.834579999999995,
          40.57509,
          40.774390000000004,
          40.60391,
          40.659729999999996,
          40.83166,
          40.66405,
          40.81937,
          40.67866,
          40.59535,
          40.63245,
          40.8355,
          40.57476,
          40.68345,
          40.564640000000004,
          40.60778,
          40.5738,
          40.6599,
          40.70796,
          40.65045,
          40.815870000000004,
          40.837959999999995,
          40.66933,
          40.52211,
          40.591159999999995,
          40.6363,
          40.6735,
          40.72,
          40.65378,
          40.661359999999995,
          40.67537,
          40.73834,
          40.609790000000004,
          40.70677,
          40.838440000000006,
          40.70075,
          40.62063,
          40.66675,
          40.562329999999996,
          40.62903,
          40.66041,
          40.82286,
          40.55616,
          40.71368,
          40.589059999999996,
          40.76978,
          40.66406,
          40.538709999999995,
          40.75047,
          40.60353,
          40.7824,
          40.73434,
          40.58023,
          40.63748,
          40.59855,
          40.61357,
          40.70388,
          40.80652,
          40.902809999999995,
          40.623979999999996,
          40.8329,
          40.6839,
          40.67,
          40.562509999999996,
          40.83914,
          40.58085,
          40.59082,
          40.77401,
          40.707229999999996,
          40.757940000000005,
          40.62187,
          40.79511,
          40.88304,
          40.68156,
          40.78881,
          40.638259999999995,
          40.68507,
          40.696059999999996,
          40.68185,
          40.83121,
          40.77773,
          40.90356,
          40.71768,
          40.60903,
          40.74893,
          40.5975,
          40.6661,
          40.690020000000004,
          40.65059,
          40.76962,
          40.77317,
          40.70404,
          40.576409999999996,
          40.746520000000004,
          40.58508,
          40.64963,
          40.680209999999995,
          40.89215,
          40.62547,
          40.61609,
          40.61224,
          40.61807,
          40.60583,
          40.58486,
          40.63971,
          40.85702,
          40.81978,
          40.56033,
          40.60295,
          40.5895,
          40.74807,
          40.843,
          40.67581,
          40.75354,
          40.74622,
          40.814370000000004,
          40.830220000000004,
          40.579409999999996,
          40.82257,
          40.72437,
          40.5479,
          40.59689,
          40.61036,
          40.56605,
          40.527,
          40.598859999999995,
          40.6609,
          40.66959,
          40.63933,
          40.6934,
          40.897529999999996,
          40.56028,
          40.78497,
          40.76212,
          40.67156,
          40.667359999999995,
          40.76813,
          40.6396,
          40.69911,
          40.77811,
          40.55762,
          40.90406,
          40.69955,
          40.63302,
          40.74027,
          40.539390000000004,
          40.61058,
          40.75982,
          40.60585,
          40.506409999999995
         ],
         "lon": [
          -73.97237,
          -73.98376999999999,
          -73.9419,
          -73.95976,
          -73.94399,
          -73.975,
          -73.98493,
          -73.96723,
          -73.99037,
          -73.98779,
          -74.00525,
          -73.95352,
          -73.97185,
          -73.99501,
          -73.94694,
          -73.95718000000001,
          -73.97706,
          -73.94028,
          -73.97519,
          -73.92639,
          -73.98541999999999,
          -73.95104,
          -73.95466,
          -73.93762,
          -73.92745,
          -73.96327,
          -73.98199,
          -73.97966,
          -73.97927,
          -73.96238000000001,
          -73.9474,
          -73.97008000000001,
          -73.9356,
          -73.95392,
          -73.98074,
          -73.99104,
          -73.99293,
          -73.96204,
          -73.95269,
          -73.96428,
          -73.94095,
          -73.90334,
          -73.95136,
          -73.99268000000001,
          -73.92357,
          -74.00154,
          -73.94281,
          -73.94176999999999,
          -73.98989,
          -73.97636999999999,
          -73.94821999999999,
          -73.93128,
          -73.93248,
          -73.83168,
          -73.93997,
          -73.92313,
          -73.98571,
          -73.9642,
          -74.08088000000001,
          -73.91765,
          -73.93184000000001,
          -74.01374,
          -73.9373,
          -73.89797,
          -73.95924000000001,
          -73.99665,
          -73.99671,
          -73.76597,
          -73.93503,
          -73.87856,
          -74.0049,
          -73.95829,
          -73.90502,
          -73.99386,
          -73.9501,
          -74.00262,
          -73.99474000000001,
          -73.94707,
          -73.9503,
          -73.9171,
          -74.08537,
          -73.91433,
          -73.97426,
          -73.85514,
          -73.83572,
          -73.97323,
          -73.90193000000001,
          -73.93426,
          -73.95018,
          -73.95663,
          -73.95458,
          -73.76133,
          -73.81245,
          -73.98567,
          -73.9508,
          -73.92132,
          -73.94794,
          -73.85262,
          -73.94886,
          -73.9828,
          -74.00329,
          -73.8639,
          -73.91806,
          -73.95331999999999,
          -73.90675,
          -73.97103,
          -73.92163000000001,
          -73.85709,
          -73.87305,
          -73.94813,
          -73.95944,
          -73.99181,
          -73.96128,
          -73.95640999999999,
          -73.94501,
          -73.93569000000001,
          -73.94934,
          -73.91076,
          -73.92039,
          -73.94079,
          -74.14388000000001,
          -74.0307,
          -73.99399,
          -74.00816999999999,
          -74.06824,
          -73.99833000000001,
          -73.90867,
          -73.96842,
          -73.91686999999999,
          -73.97019,
          -73.88065999999999,
          -73.92822,
          -73.96726,
          -73.89344,
          -73.8896,
          -73.76637,
          -74.06479,
          -73.94219,
          -73.97676,
          -74.00102,
          -73.86009,
          -73.8447,
          -73.95257,
          -73.93216,
          -73.91122,
          -73.99042,
          -73.98136,
          -73.86404,
          -73.93228,
          -73.89232,
          -74.07848,
          -74.02035,
          -73.96177,
          -73.94606999999999,
          -74.02065999999999,
          -74.16534,
          -73.95149,
          -73.91611,
          -73.91673,
          -73.97548,
          -73.81560999999999,
          -73.84642,
          -73.95455,
          -73.87883000000001,
          -73.92399,
          -73.87873,
          -73.89909,
          -73.90334,
          -73.93798000000001,
          -74.03381,
          -74.16178000000001,
          -73.91328,
          -73.86166,
          -74.01061,
          -74.00304,
          -73.81948,
          -73.9605,
          -73.80158,
          -73.73382,
          -73.87065,
          -74.23986,
          -74.16062,
          -73.92551999999999,
          -74.08953000000001,
          -73.99461,
          -73.87066999999999,
          -73.79201,
          -73.76314,
          -73.91091999999999,
          -73.90821,
          -73.93514,
          -73.94551,
          -73.92276,
          -73.98192,
          -73.9378,
          -73.90522,
          -73.82921999999999,
          -73.96351,
          -73.81016,
          -73.95965,
          -73.83875,
          -73.91382,
          -74.00896999999999,
          -73.99591,
          -73.81029000000001,
          -73.99582,
          -73.78873,
          -74.03621,
          -73.8885,
          -73.8202,
          -73.92806,
          -74.13354,
          -73.90835,
          -73.82316,
          -73.89461,
          -74.01550999999999,
          -73.79286,
          -73.98846999999999,
          -73.89035,
          -73.92858000000001,
          -73.93451999999999,
          -73.91811,
          -73.78665,
          -73.82538000000001,
          -73.73955,
          -73.90772,
          -73.73986,
          -73.74481,
          -73.7733,
          -73.9133,
          -73.90941,
          -73.95949,
          -73.9077,
          -73.89686999999999,
          -73.86264,
          -73.87603,
          -73.83396,
          -74.19826,
          -73.82494,
          -73.82264,
          -73.97465,
          -73.95382,
          -73.92525,
          -73.86634000000001,
          -73.86268000000001,
          -73.87475,
          -73.94285,
          -73.9694,
          -73.90005,
          -73.75233,
          -74.01608,
          -73.89495,
          -73.90845,
          -73.90522,
          -74.00476,
          -73.90125,
          -74.01065,
          -73.78828,
          -73.82795,
          -73.93236,
          -73.84083000000001,
          -73.89746,
          -73.86004,
          -73.77958000000001,
          -73.85335,
          -73.94078,
          -73.88046999999999,
          -74.02767,
          -74.08065,
          -73.90647,
          -73.816,
          -73.93919,
          -73.88545,
          -73.91594,
          -73.93184000000001,
          -73.86281,
          -73.75546999999999,
          -73.89792,
          -73.84107,
          -73.97755,
          -73.9742,
          -73.84946,
          -73.83225,
          -73.84845,
          -73.89958,
          -73.96862,
          -74.16254,
          -73.79154,
          -73.75828,
          -73.78506,
          -73.97556,
          -73.85127,
          -73.83981999999999,
          -73.91751,
          -73.79565,
          -73.79975,
          -74.13981,
          -73.75796,
          -73.89043000000001,
          -74.09591,
          -73.79736,
          -73.7962,
          -73.84605,
          -73.89407,
          -73.91229,
          -73.85769,
          -73.80324,
          -73.87055,
          -73.87635999999999,
          -73.92979,
          -73.92685999999999,
          -74.00489,
          -73.89553000000001,
          -73.82778,
          -73.72901,
          -73.89891,
          -73.93721,
          -74.00990999999999,
          -73.78579,
          -73.97856999999999,
          -73.95069000000001,
          -73.90250999999999,
          -73.77232,
          -73.85669,
          -74.124,
          -73.95315,
          -73.87338000000001,
          -73.84680999999999,
          -74.07654000000001,
          -73.75605999999999,
          -73.95899,
          -74.01406999999999,
          -73.82419,
          -73.88728,
          -73.85146999999999,
          -73.76451999999999,
          -73.76749000000001,
          -73.98294,
          -73.94221,
          -73.96558,
          -74.08723,
          -74.14636,
          -73.92549,
          -73.87088,
          -73.791,
          -73.93988,
          -74.11518000000001,
          -73.9549,
          -73.88854,
          -73.81305,
          -73.75895,
          -74.09182,
          -73.85379,
          -73.94972,
          -73.92999,
          -73.88118,
          -73.86424,
          -73.78341999999999,
          -74.12151999999999,
          -73.78891,
          -73.77162,
          -73.81801,
          -73.8873,
          -73.9287,
          -73.80724000000001,
          -73.86435,
          -73.83601999999999,
          -74.10636,
          -73.8881,
          -73.80001,
          -74.10092,
          -74.14829,
          -73.82949,
          -74.09984,
          -73.71299,
          -73.86164000000001,
          -73.83038,
          -73.75402,
          -73.73008,
          -73.92761999999999,
          -73.74804,
          -74.06208000000001,
          -73.97379000000001,
          -73.71795,
          -73.78954,
          -73.89829,
          -73.88710999999999,
          -73.84503000000001,
          -73.96928,
          -74.0071,
          -73.84855999999999,
          -74.01175,
          -73.729,
          -73.95424,
          -73.96763,
          -74.01509,
          -73.94639000000001,
          -73.86498,
          -73.87631,
          -73.93,
          -73.80445999999999,
          -73.98079,
          -73.8075,
          -73.73402,
          -73.77882,
          -74.09272,
          -73.85717,
          -74.00121999999999,
          -74.09436,
          -73.83993000000001,
          -74.24084,
          -73.8584,
          -73.9033,
          -73.79829000000001,
          -73.78244000000001,
          -73.90639,
          -73.90098,
          -73.78206999999999,
          -73.91938,
          -73.92181,
          -73.91665,
          -73.84844,
          -73.73529,
          -73.91056,
          -73.81284000000001,
          -73.76156999999999,
          -73.79495,
          -73.87354,
          -74.12429,
          -73.8535,
          -73.91020999999999,
          -73.96603,
          -73.77723,
          -73.99339,
          -73.74098000000001,
          -73.81747,
          -73.85676,
          -73.90978,
          -73.8068,
          -73.98946,
          -74.17065,
          -73.83729,
          -74.00101,
          -73.83378,
          -74.1,
          -73.94194,
          -73.99044,
          -73.73221,
          -73.80117,
          -73.74596,
          -73.81532,
          -73.9016,
          -73.77818,
          -74.18028000000001,
          -74.08174,
          -74.15911,
          -73.89635,
          -73.85410999999999,
          -73.72582,
          -73.8678,
          -73.77355,
          -73.90774,
          -74.01120999999999,
          -73.96745,
          -73.92489,
          -73.88743000000001,
          -74.13001,
          -73.81071,
          -74.12673000000001,
          -74.08206,
          -73.91561999999999,
          -73.84765,
          -74.16027,
          -73.76337,
          -73.98245,
          -73.73915,
          -73.84599,
          -74.16966,
          -73.75349,
          -74.01599,
          -73.82144,
          -73.94185999999999,
          -74.10725,
          -74.13495999999999,
          -74.0067,
          -74.13566,
          -73.88011999999999,
          -73.85311999999999,
          -73.85200999999999,
          -74.10801,
          -73.89608,
          -73.82444,
          -73.79231999999999,
          -74.14780999999999,
          -73.78158,
          -74.15443,
          -73.80328,
          -73.80169000000001,
          -73.72948000000001,
          -73.72955999999999,
          -73.93079,
          -73.8473,
          -73.88278000000001,
          -73.76844,
          -73.82882,
          -73.93186,
          -73.73342,
          -73.77311,
          -73.88128,
          -73.8483,
          -73.83237,
          -73.84172,
          -73.77308000000001,
          -73.91846,
          -73.82046,
          -73.7397,
          -73.87469,
          -73.83688000000001,
          -73.82896,
          -73.74795,
          -73.82405,
          -73.85831999999999,
          -74.12931,
          -73.82873000000001,
          -74.16162,
          -73.89817,
          -73.74167,
          -73.83351,
          -74.00647,
          -73.95893000000001,
          -73.98563,
          -73.90162,
          -73.95165,
          -73.99004000000001,
          -74.03089,
          -73.83697,
          -73.88743000000001,
          -74.18259,
          -74.17116999999999,
          -74.09663,
          -73.73674,
          -73.84806,
          -73.82304,
          -73.95113,
          -73.78296999999999,
          -73.82774,
          -73.83286,
          -73.975,
          -73.83773000000001,
          -73.81523,
          -74.21016999999999,
          -73.93353,
          -73.7687,
          -73.86994,
          -74.20940999999999,
          -74.13217,
          -73.75633,
          -73.75246,
          -73.88221,
          -73.8951,
          -73.87359000000001,
          -74.10678,
          -73.85754,
          -73.71928,
          -73.74383,
          -73.83457,
          -73.84541999999999,
          -74.1661,
          -73.78196,
          -73.77069,
          -74.19626,
          -73.86286,
          -73.72247,
          -73.9837,
          -73.71829,
          -74.15389,
          -73.90971,
          -73.78312,
          -74.13331,
          -74.23059
         ],
         "name": "",
         "radius": 10,
         "subplot": "mapbox",
         "type": "densitymapbox",
         "z": [
          234,
          267,
          920,
          903,
          467,
          1240,
          1023,
          528,
          477,
          317,
          1160,
          418,
          552,
          731,
          870,
          789,
          700,
          873,
          56,
          167,
          1204,
          904,
          427,
          245,
          735,
          166,
          1757,
          277,
          450,
          361,
          172,
          106,
          465,
          403,
          527,
          412,
          1197,
          980,
          1011,
          213,
          531,
          91,
          47,
          153,
          680,
          245,
          251,
          1358,
          213,
          311,
          476,
          190,
          44,
          32,
          93,
          211,
          128,
          614,
          39,
          822,
          13,
          783,
          62,
          218,
          393,
          11,
          156,
          64,
          431,
          19,
          509,
          307,
          250,
          143,
          57,
          279,
          6,
          31,
          178,
          476,
          50,
          111,
          63,
          16,
          15,
          80,
          29,
          33,
          156,
          492,
          494,
          5,
          40,
          492,
          205,
          554,
          21,
          43,
          184,
          63,
          18,
          21,
          37,
          2,
          36,
          24,
          26,
          24,
          48,
          108,
          27,
          102,
          398,
          83,
          102,
          2,
          60,
          372,
          54,
          32,
          1,
          59,
          24,
          96,
          14,
          59,
          191,
          24,
          37,
          1,
          90,
          69,
          6,
          224,
          60,
          14,
          9,
          28,
          20,
          8,
          39,
          9,
          1,
          214,
          215,
          1,
          16,
          10,
          80,
          105,
          8,
          78,
          15,
          41,
          69,
          4,
          17,
          54,
          12,
          10,
          53,
          18,
          66,
          4,
          66,
          50,
          16,
          25,
          13,
          2,
          5,
          36,
          43,
          8,
          140,
          130,
          187,
          44,
          16,
          48,
          5,
          6,
          5,
          24,
          15,
          34,
          16,
          12,
          74,
          129,
          99,
          22,
          1,
          4,
          115,
          40,
          35,
          6,
          30,
          67,
          11,
          42,
          55,
          34,
          35,
          20,
          11,
          4,
          18,
          1,
          24,
          25,
          7,
          14,
          3,
          21,
          2,
          12,
          27,
          51,
          59,
          204,
          12,
          28,
          23,
          14,
          6,
          3,
          18,
          10,
          6,
          25,
          43,
          16,
          47,
          3,
          22,
          1,
          2,
          2,
          6,
          119,
          19,
          4,
          5,
          33,
          18,
          8,
          8,
          10,
          9,
          11,
          15,
          13,
          35,
          3,
          7,
          15,
          13,
          11,
          19,
          3,
          4,
          2,
          5,
          23,
          24,
          49,
          4,
          6,
          1,
          131,
          36,
          2,
          1,
          41,
          10,
          39,
          13,
          1,
          14,
          34,
          23,
          9,
          8,
          16,
          1,
          5,
          26,
          3,
          6,
          1,
          27,
          13,
          20,
          5,
          1,
          8,
          11,
          2,
          10,
          27,
          2,
          25,
          38,
          4,
          11,
          1,
          83,
          53,
          87,
          17,
          72,
          56,
          1,
          9,
          35,
          13,
          2,
          7,
          3,
          23,
          9,
          18,
          5,
          17,
          18,
          26,
          15,
          16,
          44,
          1,
          3,
          26,
          43,
          10,
          36,
          6,
          7,
          35,
          18,
          8,
          14,
          47,
          2,
          4,
          9,
          40,
          2,
          22,
          12,
          10,
          14,
          6,
          1,
          1,
          10,
          33,
          7,
          19,
          1,
          5,
          4,
          3,
          2,
          46,
          15,
          1,
          9,
          1,
          2,
          3,
          2,
          2,
          1,
          5,
          4,
          10,
          11,
          1,
          12,
          1,
          19,
          7,
          1,
          1,
          30,
          3,
          2,
          10,
          38,
          23,
          4,
          32,
          62,
          8,
          8,
          8,
          12,
          22,
          11,
          1,
          13,
          33,
          10,
          8,
          29,
          58,
          5,
          10,
          1,
          3,
          24,
          4,
          4,
          1,
          2,
          11,
          2,
          10,
          13,
          7,
          13,
          6,
          32,
          1,
          16,
          19,
          2,
          14,
          4,
          8,
          4,
          16,
          2,
          11,
          21,
          3,
          1,
          6,
          2,
          18,
          4,
          9,
          3,
          3,
          14,
          2,
          14,
          1,
          4,
          8,
          4,
          1,
          13,
          1,
          17,
          7,
          4,
          7,
          8,
          1,
          2,
          33,
          5,
          13,
          1,
          4,
          4,
          6,
          15,
          1,
          1,
          7,
          5,
          3,
          3,
          5,
          7,
          5,
          7,
          1,
          8,
          1,
          1,
          2,
          3,
          7,
          2,
          4,
          1,
          4,
          43,
          1,
          6,
          5,
          17,
          7,
          10,
          6,
          20,
          5,
          2,
          5,
          1,
          7,
          2,
          5,
          34,
          7,
          1,
          3,
          8,
          4,
          4,
          5,
          5,
          22,
          1,
          2,
          11,
          6,
          1,
          31,
          1,
          5,
          8,
          13,
          2,
          15,
          6,
          1,
          10,
          1,
          5,
          6,
          8,
          1,
          2,
          1,
          1,
          4,
          11,
          1,
          1,
          3,
          4,
          1,
          1,
          7,
          1,
          2,
          6,
          3,
          3,
          1,
          4,
          13,
          2,
          7,
          3,
          3,
          1,
          1,
          1,
          2,
          1,
          1,
          1,
          1,
          1,
          1,
          1,
          1,
          2,
          1,
          1,
          1,
          1,
          1
         ]
        }
       ],
       "layout": {
        "coloraxis": {
         "colorbar": {
          "title": {
           "text": "counts"
          }
         },
         "colorscale": [
          [
           0,
           "#0d0887"
          ],
          [
           0.1111111111111111,
           "#46039f"
          ],
          [
           0.2222222222222222,
           "#7201a8"
          ],
          [
           0.3333333333333333,
           "#9c179e"
          ],
          [
           0.4444444444444444,
           "#bd3786"
          ],
          [
           0.5555555555555556,
           "#d8576b"
          ],
          [
           0.6666666666666666,
           "#ed7953"
          ],
          [
           0.7777777777777778,
           "#fb9f3a"
          ],
          [
           0.8888888888888888,
           "#fdca26"
          ],
          [
           1,
           "#f0f921"
          ]
         ]
        },
        "legend": {
         "tracegroupgap": 0
        },
        "mapbox": {
         "center": {
          "lat": 40.703285,
          "lon": -73.9168
         },
         "domain": {
          "x": [
           0,
           1
          ],
          "y": [
           0,
           1
          ]
         },
         "style": "stamen-terrain",
         "zoom": 9
        },
        "margin": {
         "t": 60
        },
        "template": {
         "data": {
          "bar": [
           {
            "error_x": {
             "color": "#2a3f5f"
            },
            "error_y": {
             "color": "#2a3f5f"
            },
            "marker": {
             "line": {
              "color": "#E5ECF6",
              "width": 0.5
             }
            },
            "type": "bar"
           }
          ],
          "barpolar": [
           {
            "marker": {
             "line": {
              "color": "#E5ECF6",
              "width": 0.5
             }
            },
            "type": "barpolar"
           }
          ],
          "carpet": [
           {
            "aaxis": {
             "endlinecolor": "#2a3f5f",
             "gridcolor": "white",
             "linecolor": "white",
             "minorgridcolor": "white",
             "startlinecolor": "#2a3f5f"
            },
            "baxis": {
             "endlinecolor": "#2a3f5f",
             "gridcolor": "white",
             "linecolor": "white",
             "minorgridcolor": "white",
             "startlinecolor": "#2a3f5f"
            },
            "type": "carpet"
           }
          ],
          "choropleth": [
           {
            "colorbar": {
             "outlinewidth": 0,
             "ticks": ""
            },
            "type": "choropleth"
           }
          ],
          "contour": [
           {
            "colorbar": {
             "outlinewidth": 0,
             "ticks": ""
            },
            "colorscale": [
             [
              0,
              "#0d0887"
             ],
             [
              0.1111111111111111,
              "#46039f"
             ],
             [
              0.2222222222222222,
              "#7201a8"
             ],
             [
              0.3333333333333333,
              "#9c179e"
             ],
             [
              0.4444444444444444,
              "#bd3786"
             ],
             [
              0.5555555555555556,
              "#d8576b"
             ],
             [
              0.6666666666666666,
              "#ed7953"
             ],
             [
              0.7777777777777778,
              "#fb9f3a"
             ],
             [
              0.8888888888888888,
              "#fdca26"
             ],
             [
              1,
              "#f0f921"
             ]
            ],
            "type": "contour"
           }
          ],
          "contourcarpet": [
           {
            "colorbar": {
             "outlinewidth": 0,
             "ticks": ""
            },
            "type": "contourcarpet"
           }
          ],
          "heatmap": [
           {
            "colorbar": {
             "outlinewidth": 0,
             "ticks": ""
            },
            "colorscale": [
             [
              0,
              "#0d0887"
             ],
             [
              0.1111111111111111,
              "#46039f"
             ],
             [
              0.2222222222222222,
              "#7201a8"
             ],
             [
              0.3333333333333333,
              "#9c179e"
             ],
             [
              0.4444444444444444,
              "#bd3786"
             ],
             [
              0.5555555555555556,
              "#d8576b"
             ],
             [
              0.6666666666666666,
              "#ed7953"
             ],
             [
              0.7777777777777778,
              "#fb9f3a"
             ],
             [
              0.8888888888888888,
              "#fdca26"
             ],
             [
              1,
              "#f0f921"
             ]
            ],
            "type": "heatmap"
           }
          ],
          "heatmapgl": [
           {
            "colorbar": {
             "outlinewidth": 0,
             "ticks": ""
            },
            "colorscale": [
             [
              0,
              "#0d0887"
             ],
             [
              0.1111111111111111,
              "#46039f"
             ],
             [
              0.2222222222222222,
              "#7201a8"
             ],
             [
              0.3333333333333333,
              "#9c179e"
             ],
             [
              0.4444444444444444,
              "#bd3786"
             ],
             [
              0.5555555555555556,
              "#d8576b"
             ],
             [
              0.6666666666666666,
              "#ed7953"
             ],
             [
              0.7777777777777778,
              "#fb9f3a"
             ],
             [
              0.8888888888888888,
              "#fdca26"
             ],
             [
              1,
              "#f0f921"
             ]
            ],
            "type": "heatmapgl"
           }
          ],
          "histogram": [
           {
            "marker": {
             "colorbar": {
              "outlinewidth": 0,
              "ticks": ""
             }
            },
            "type": "histogram"
           }
          ],
          "histogram2d": [
           {
            "colorbar": {
             "outlinewidth": 0,
             "ticks": ""
            },
            "colorscale": [
             [
              0,
              "#0d0887"
             ],
             [
              0.1111111111111111,
              "#46039f"
             ],
             [
              0.2222222222222222,
              "#7201a8"
             ],
             [
              0.3333333333333333,
              "#9c179e"
             ],
             [
              0.4444444444444444,
              "#bd3786"
             ],
             [
              0.5555555555555556,
              "#d8576b"
             ],
             [
              0.6666666666666666,
              "#ed7953"
             ],
             [
              0.7777777777777778,
              "#fb9f3a"
             ],
             [
              0.8888888888888888,
              "#fdca26"
             ],
             [
              1,
              "#f0f921"
             ]
            ],
            "type": "histogram2d"
           }
          ],
          "histogram2dcontour": [
           {
            "colorbar": {
             "outlinewidth": 0,
             "ticks": ""
            },
            "colorscale": [
             [
              0,
              "#0d0887"
             ],
             [
              0.1111111111111111,
              "#46039f"
             ],
             [
              0.2222222222222222,
              "#7201a8"
             ],
             [
              0.3333333333333333,
              "#9c179e"
             ],
             [
              0.4444444444444444,
              "#bd3786"
             ],
             [
              0.5555555555555556,
              "#d8576b"
             ],
             [
              0.6666666666666666,
              "#ed7953"
             ],
             [
              0.7777777777777778,
              "#fb9f3a"
             ],
             [
              0.8888888888888888,
              "#fdca26"
             ],
             [
              1,
              "#f0f921"
             ]
            ],
            "type": "histogram2dcontour"
           }
          ],
          "mesh3d": [
           {
            "colorbar": {
             "outlinewidth": 0,
             "ticks": ""
            },
            "type": "mesh3d"
           }
          ],
          "parcoords": [
           {
            "line": {
             "colorbar": {
              "outlinewidth": 0,
              "ticks": ""
             }
            },
            "type": "parcoords"
           }
          ],
          "pie": [
           {
            "automargin": true,
            "type": "pie"
           }
          ],
          "scatter": [
           {
            "marker": {
             "colorbar": {
              "outlinewidth": 0,
              "ticks": ""
             }
            },
            "type": "scatter"
           }
          ],
          "scatter3d": [
           {
            "line": {
             "colorbar": {
              "outlinewidth": 0,
              "ticks": ""
             }
            },
            "marker": {
             "colorbar": {
              "outlinewidth": 0,
              "ticks": ""
             }
            },
            "type": "scatter3d"
           }
          ],
          "scattercarpet": [
           {
            "marker": {
             "colorbar": {
              "outlinewidth": 0,
              "ticks": ""
             }
            },
            "type": "scattercarpet"
           }
          ],
          "scattergeo": [
           {
            "marker": {
             "colorbar": {
              "outlinewidth": 0,
              "ticks": ""
             }
            },
            "type": "scattergeo"
           }
          ],
          "scattergl": [
           {
            "marker": {
             "colorbar": {
              "outlinewidth": 0,
              "ticks": ""
             }
            },
            "type": "scattergl"
           }
          ],
          "scattermapbox": [
           {
            "marker": {
             "colorbar": {
              "outlinewidth": 0,
              "ticks": ""
             }
            },
            "type": "scattermapbox"
           }
          ],
          "scatterpolar": [
           {
            "marker": {
             "colorbar": {
              "outlinewidth": 0,
              "ticks": ""
             }
            },
            "type": "scatterpolar"
           }
          ],
          "scatterpolargl": [
           {
            "marker": {
             "colorbar": {
              "outlinewidth": 0,
              "ticks": ""
             }
            },
            "type": "scatterpolargl"
           }
          ],
          "scatterternary": [
           {
            "marker": {
             "colorbar": {
              "outlinewidth": 0,
              "ticks": ""
             }
            },
            "type": "scatterternary"
           }
          ],
          "surface": [
           {
            "colorbar": {
             "outlinewidth": 0,
             "ticks": ""
            },
            "colorscale": [
             [
              0,
              "#0d0887"
             ],
             [
              0.1111111111111111,
              "#46039f"
             ],
             [
              0.2222222222222222,
              "#7201a8"
             ],
             [
              0.3333333333333333,
              "#9c179e"
             ],
             [
              0.4444444444444444,
              "#bd3786"
             ],
             [
              0.5555555555555556,
              "#d8576b"
             ],
             [
              0.6666666666666666,
              "#ed7953"
             ],
             [
              0.7777777777777778,
              "#fb9f3a"
             ],
             [
              0.8888888888888888,
              "#fdca26"
             ],
             [
              1,
              "#f0f921"
             ]
            ],
            "type": "surface"
           }
          ],
          "table": [
           {
            "cells": {
             "fill": {
              "color": "#EBF0F8"
             },
             "line": {
              "color": "white"
             }
            },
            "header": {
             "fill": {
              "color": "#C8D4E3"
             },
             "line": {
              "color": "white"
             }
            },
            "type": "table"
           }
          ]
         },
         "layout": {
          "annotationdefaults": {
           "arrowcolor": "#2a3f5f",
           "arrowhead": 0,
           "arrowwidth": 1
          },
          "coloraxis": {
           "colorbar": {
            "outlinewidth": 0,
            "ticks": ""
           }
          },
          "colorscale": {
           "diverging": [
            [
             0,
             "#8e0152"
            ],
            [
             0.1,
             "#c51b7d"
            ],
            [
             0.2,
             "#de77ae"
            ],
            [
             0.3,
             "#f1b6da"
            ],
            [
             0.4,
             "#fde0ef"
            ],
            [
             0.5,
             "#f7f7f7"
            ],
            [
             0.6,
             "#e6f5d0"
            ],
            [
             0.7,
             "#b8e186"
            ],
            [
             0.8,
             "#7fbc41"
            ],
            [
             0.9,
             "#4d9221"
            ],
            [
             1,
             "#276419"
            ]
           ],
           "sequential": [
            [
             0,
             "#0d0887"
            ],
            [
             0.1111111111111111,
             "#46039f"
            ],
            [
             0.2222222222222222,
             "#7201a8"
            ],
            [
             0.3333333333333333,
             "#9c179e"
            ],
            [
             0.4444444444444444,
             "#bd3786"
            ],
            [
             0.5555555555555556,
             "#d8576b"
            ],
            [
             0.6666666666666666,
             "#ed7953"
            ],
            [
             0.7777777777777778,
             "#fb9f3a"
            ],
            [
             0.8888888888888888,
             "#fdca26"
            ],
            [
             1,
             "#f0f921"
            ]
           ],
           "sequentialminus": [
            [
             0,
             "#0d0887"
            ],
            [
             0.1111111111111111,
             "#46039f"
            ],
            [
             0.2222222222222222,
             "#7201a8"
            ],
            [
             0.3333333333333333,
             "#9c179e"
            ],
            [
             0.4444444444444444,
             "#bd3786"
            ],
            [
             0.5555555555555556,
             "#d8576b"
            ],
            [
             0.6666666666666666,
             "#ed7953"
            ],
            [
             0.7777777777777778,
             "#fb9f3a"
            ],
            [
             0.8888888888888888,
             "#fdca26"
            ],
            [
             1,
             "#f0f921"
            ]
           ]
          },
          "colorway": [
           "#636efa",
           "#EF553B",
           "#00cc96",
           "#ab63fa",
           "#FFA15A",
           "#19d3f3",
           "#FF6692",
           "#B6E880",
           "#FF97FF",
           "#FECB52"
          ],
          "font": {
           "color": "#2a3f5f"
          },
          "geo": {
           "bgcolor": "white",
           "lakecolor": "white",
           "landcolor": "#E5ECF6",
           "showlakes": true,
           "showland": true,
           "subunitcolor": "white"
          },
          "hoverlabel": {
           "align": "left"
          },
          "hovermode": "closest",
          "mapbox": {
           "style": "light"
          },
          "paper_bgcolor": "white",
          "plot_bgcolor": "#E5ECF6",
          "polar": {
           "angularaxis": {
            "gridcolor": "white",
            "linecolor": "white",
            "ticks": ""
           },
           "bgcolor": "#E5ECF6",
           "radialaxis": {
            "gridcolor": "white",
            "linecolor": "white",
            "ticks": ""
           }
          },
          "scene": {
           "xaxis": {
            "backgroundcolor": "#E5ECF6",
            "gridcolor": "white",
            "gridwidth": 2,
            "linecolor": "white",
            "showbackground": true,
            "ticks": "",
            "zerolinecolor": "white"
           },
           "yaxis": {
            "backgroundcolor": "#E5ECF6",
            "gridcolor": "white",
            "gridwidth": 2,
            "linecolor": "white",
            "showbackground": true,
            "ticks": "",
            "zerolinecolor": "white"
           },
           "zaxis": {
            "backgroundcolor": "#E5ECF6",
            "gridcolor": "white",
            "gridwidth": 2,
            "linecolor": "white",
            "showbackground": true,
            "ticks": "",
            "zerolinecolor": "white"
           }
          },
          "shapedefaults": {
           "line": {
            "color": "#2a3f5f"
           }
          },
          "ternary": {
           "aaxis": {
            "gridcolor": "white",
            "linecolor": "white",
            "ticks": ""
           },
           "baxis": {
            "gridcolor": "white",
            "linecolor": "white",
            "ticks": ""
           },
           "bgcolor": "#E5ECF6",
           "caxis": {
            "gridcolor": "white",
            "linecolor": "white",
            "ticks": ""
           }
          },
          "title": {
           "x": 0.05
          },
          "xaxis": {
           "automargin": true,
           "gridcolor": "white",
           "linecolor": "white",
           "ticks": "",
           "title": {
            "standoff": 15
           },
           "zerolinecolor": "white",
           "zerolinewidth": 2
          },
          "yaxis": {
           "automargin": true,
           "gridcolor": "white",
           "linecolor": "white",
           "ticks": "",
           "title": {
            "standoff": 15
           },
           "zerolinecolor": "white",
           "zerolinewidth": 2
          }
         }
        }
       }
      },
      "text/html": [
       "<div>\n",
       "        \n",
       "        \n",
       "            <div id=\"9fe494f9-d633-442d-a5b9-254ac6c814af\" class=\"plotly-graph-div\" style=\"height:525px; width:100%;\"></div>\n",
       "            <script type=\"text/javascript\">\n",
       "                require([\"plotly\"], function(Plotly) {\n",
       "                    window.PLOTLYENV=window.PLOTLYENV || {};\n",
       "                    \n",
       "                if (document.getElementById(\"9fe494f9-d633-442d-a5b9-254ac6c814af\")) {\n",
       "                    Plotly.newPlot(\n",
       "                        '9fe494f9-d633-442d-a5b9-254ac6c814af',\n",
       "                        [{\"coloraxis\": \"coloraxis\", \"hoverlabel\": {\"namelength\": 0}, \"hovertemplate\": \"counts=%{z}<br>latitude=%{lat}<br>longitude=%{lon}\", \"lat\": [40.647490000000005, 40.75362, 40.809020000000004, 40.685140000000004, 40.79851, 40.74767, 40.76489, 40.80178, 40.713440000000006, 40.66829, 40.7353, 40.70837, 40.69169, 40.74192, 40.67592, 40.71842, 40.680690000000006, 40.68371, 40.65599, 40.867540000000005, 40.7292, 40.82245, 40.81305, 40.722190000000005, 40.701859999999996, 40.63702, 40.7229, 40.66278, 40.79009, 40.659440000000004, 40.74771, 40.78635, 40.7042, 40.73506, 40.73961, 40.720040000000004, 40.755309999999994, 40.71185, 40.77065, 40.67811, 40.83139, 40.75038, 40.82915, 40.69723, 40.684129999999996, 40.67967, 40.83927, 40.71332, 40.68157, 40.77823, 40.778, 40.85879, 40.631879999999995, 40.74028, 40.79295, 40.74559, 40.70207, 40.76123, 40.64524, 40.70641, 40.83232, 40.70666, 40.82374, 40.70382, 40.80549, 40.76307, 40.74859, 40.67252, 40.69546, 40.717220000000005, 40.728609999999996, 40.729, 40.77185, 40.68926, 40.76193, 40.72003, 40.73194, 40.81583, 40.644459999999995, 40.688, 40.63536, 40.753840000000004, 40.641059999999996, 40.81309, 40.88057, 40.673190000000005, 40.87207, 40.77635, 40.72488, 40.67174, 40.69465, 40.72413, 40.58615, 40.77944, 40.784909999999996, 40.764340000000004, 40.804809999999996, 40.70925, 40.650999999999996, 40.6858, 40.742490000000004, 40.89747, 40.7385, 40.681309999999996, 40.858109999999996, 40.60452, 40.75744, 40.86466, 40.67497, 40.66788, 40.76684, 40.7709, 40.7969, 40.65513, 40.70275, 40.68897, 40.68812, 40.683640000000004, 40.82802, 40.58422, 40.60742, 40.61927, 40.61922, 40.711929999999995, 40.61077, 40.662929999999996, 40.70163, 40.75575, 40.776790000000005, 40.68501, 40.7347, 40.85099, 40.58147, 40.74965, 40.67855, 40.70554, 40.59251, 40.64468, 40.69778, 40.707409999999996, 40.73349, 40.89557, 40.79951, 40.66431, 40.74409, 40.65992, 40.67264, 40.67889, 40.75295, 40.66795, 40.62318, 40.6339, 40.77688, 40.63602, 40.64372, 40.62109, 40.59721, 40.87039, 40.879909999999995, 40.76082, 40.71151, 40.68581, 40.5781, 40.65408, 40.81128, 40.75193, 40.816109999999995, 40.62897, 40.66933, 40.61269, 40.59274, 40.84937, 40.72719, 40.74767, 40.64437, 40.75578, 40.64882, 40.59783, 40.69249, 40.68375, 40.50868, 40.62879, 40.61676, 40.60183, 40.63324, 40.859559999999995, 40.76372, 40.75666, 40.69254, 40.78027, 40.80343, 40.69407, 40.80461, 40.71502, 40.85082, 40.887570000000004, 40.70947, 40.69319, 40.75979, 40.62908, 40.78417, 40.840579999999996, 40.64902, 40.6101, 40.75088, 40.6745, 40.85235, 40.63463, 40.76356, 40.74142, 40.81906, 40.629220000000004, 40.75959, 40.7017, 40.771029999999996, 40.676590000000004, 40.69965, 40.74658, 40.64298, 40.76797, 40.651759999999996, 40.67463, 40.592040000000004, 40.694140000000004, 40.70382, 40.812909999999995, 40.725120000000004, 40.73193, 40.6891, 40.80011, 40.635909999999996, 40.58426, 40.64308, 40.72509, 40.88296, 40.82138, 40.71697, 40.53884, 40.863170000000004, 40.71594, 40.735440000000004, 40.66173, 40.64913, 40.83645, 40.715759999999996, 40.73943, 40.77, 40.793209999999995, 40.90804, 40.700390000000006, 40.6283, 40.82347, 40.70988, 40.72675, 40.63592, 40.864670000000004, 40.57645, 40.7095, 40.72664, 40.68172, 40.67657, 40.884370000000004, 40.82528, 40.78645, 40.67948, 40.62338, 40.87605, 40.63113, 40.60375, 40.718270000000004, 40.79721, 40.7625, 40.86705, 40.85711, 40.745470000000005, 40.6955, 40.60549, 40.73726, 40.70061, 40.704809999999995, 40.61098, 40.727129999999995, 40.76428, 40.88075, 40.896029999999996, 40.59601, 40.54268, 40.750370000000004, 40.69283, 40.77995, 40.63402, 40.88855, 40.72356, 40.63881, 40.58835, 40.756640000000004, 40.57718, 40.67425, 40.630559999999996, 40.634809999999995, 40.73303, 40.6852, 40.65443, 40.63621, 40.65337, 40.573209999999996, 40.71873, 40.8423, 40.765390000000004, 40.75985, 40.66953, 40.65687, 40.75943, 40.75398, 40.72401, 40.66171, 40.8442, 40.72325, 40.7312, 40.61959, 40.629709999999996, 40.85062, 40.7583, 40.85465, 40.631820000000005, 40.6216, 40.74602, 40.870540000000005, 40.6375, 40.59642, 40.600590000000004, 40.665409999999994, 40.66788, 40.83875, 40.738859999999995, 40.59968, 40.6631, 40.643209999999996, 40.656040000000004, 40.61056, 40.62105, 40.5517, 40.778420000000004, 40.72399, 40.723620000000004, 40.5777, 40.63438, 40.74253, 40.828829999999996, 40.736270000000005, 40.684909999999995, 40.58115, 40.689820000000005, 40.61291, 40.71351, 40.6724, 40.76578, 40.69121, 40.61363, 40.73859, 40.76729, 40.76735, 40.81335, 40.67589, 40.78223, 40.75421, 40.844229999999996, 40.63878, 40.72172, 40.81476, 40.60926, 40.5455, 40.85362, 40.62257, 40.733509999999995, 40.81773, 40.65918, 40.720009999999995, 40.71412, 40.58599, 40.713409999999996, 40.60597, 40.58892, 40.72756, 40.84487, 40.715270000000004, 40.85487, 40.71425, 40.61952, 40.6186, 40.694720000000004, 40.642179999999996, 40.67836, 40.63655, 40.76875, 40.71775, 40.59195, 40.74071, 40.758359999999996, 40.73839, 40.6896, 40.625859999999996, 40.729459999999996, 40.65108, 40.596059999999994, 40.64465, 40.839529999999996, 40.68606, 40.57411, 40.86553, 40.499790000000004, 40.87556, 40.82345, 40.67667, 40.6756, 40.9008, 40.8787, 40.72191, 40.8183, 40.630520000000004, 40.8883, 40.579409999999996, 40.67112, 40.6235, 40.70085, 40.73975, 40.691720000000004, 40.830490000000005, 40.57093, 40.75058, 40.834579999999995, 40.57509, 40.774390000000004, 40.60391, 40.659729999999996, 40.83166, 40.66405, 40.81937, 40.67866, 40.59535, 40.63245, 40.8355, 40.57476, 40.68345, 40.564640000000004, 40.60778, 40.5738, 40.6599, 40.70796, 40.65045, 40.815870000000004, 40.837959999999995, 40.66933, 40.52211, 40.591159999999995, 40.6363, 40.6735, 40.72, 40.65378, 40.661359999999995, 40.67537, 40.73834, 40.609790000000004, 40.70677, 40.838440000000006, 40.70075, 40.62063, 40.66675, 40.562329999999996, 40.62903, 40.66041, 40.82286, 40.55616, 40.71368, 40.589059999999996, 40.76978, 40.66406, 40.538709999999995, 40.75047, 40.60353, 40.7824, 40.73434, 40.58023, 40.63748, 40.59855, 40.61357, 40.70388, 40.80652, 40.902809999999995, 40.623979999999996, 40.8329, 40.6839, 40.67, 40.562509999999996, 40.83914, 40.58085, 40.59082, 40.77401, 40.707229999999996, 40.757940000000005, 40.62187, 40.79511, 40.88304, 40.68156, 40.78881, 40.638259999999995, 40.68507, 40.696059999999996, 40.68185, 40.83121, 40.77773, 40.90356, 40.71768, 40.60903, 40.74893, 40.5975, 40.6661, 40.690020000000004, 40.65059, 40.76962, 40.77317, 40.70404, 40.576409999999996, 40.746520000000004, 40.58508, 40.64963, 40.680209999999995, 40.89215, 40.62547, 40.61609, 40.61224, 40.61807, 40.60583, 40.58486, 40.63971, 40.85702, 40.81978, 40.56033, 40.60295, 40.5895, 40.74807, 40.843, 40.67581, 40.75354, 40.74622, 40.814370000000004, 40.830220000000004, 40.579409999999996, 40.82257, 40.72437, 40.5479, 40.59689, 40.61036, 40.56605, 40.527, 40.598859999999995, 40.6609, 40.66959, 40.63933, 40.6934, 40.897529999999996, 40.56028, 40.78497, 40.76212, 40.67156, 40.667359999999995, 40.76813, 40.6396, 40.69911, 40.77811, 40.55762, 40.90406, 40.69955, 40.63302, 40.74027, 40.539390000000004, 40.61058, 40.75982, 40.60585, 40.506409999999995], \"lon\": [-73.97237, -73.98376999999999, -73.9419, -73.95976, -73.94399, -73.975, -73.98493, -73.96723, -73.99037, -73.98779, -74.00525, -73.95352, -73.97185, -73.99501, -73.94694, -73.95718000000001, -73.97706, -73.94028, -73.97519, -73.92639, -73.98541999999999, -73.95104, -73.95466, -73.93762, -73.92745, -73.96327, -73.98199, -73.97966, -73.97927, -73.96238000000001, -73.9474, -73.97008000000001, -73.9356, -73.95392, -73.98074, -73.99104, -73.99293, -73.96204, -73.95269, -73.96428, -73.94095, -73.90334, -73.95136, -73.99268000000001, -73.92357, -74.00154, -73.94281, -73.94176999999999, -73.98989, -73.97636999999999, -73.94821999999999, -73.93128, -73.93248, -73.83168, -73.93997, -73.92313, -73.98571, -73.9642, -74.08088000000001, -73.91765, -73.93184000000001, -74.01374, -73.9373, -73.89797, -73.95924000000001, -73.99665, -73.99671, -73.76597, -73.93503, -73.87856, -74.0049, -73.95829, -73.90502, -73.99386, -73.9501, -74.00262, -73.99474000000001, -73.94707, -73.9503, -73.9171, -74.08537, -73.91433, -73.97426, -73.85514, -73.83572, -73.97323, -73.90193000000001, -73.93426, -73.95018, -73.95663, -73.95458, -73.76133, -73.81245, -73.98567, -73.9508, -73.92132, -73.94794, -73.85262, -73.94886, -73.9828, -74.00329, -73.8639, -73.91806, -73.95331999999999, -73.90675, -73.97103, -73.92163000000001, -73.85709, -73.87305, -73.94813, -73.95944, -73.99181, -73.96128, -73.95640999999999, -73.94501, -73.93569000000001, -73.94934, -73.91076, -73.92039, -73.94079, -74.14388000000001, -74.0307, -73.99399, -74.00816999999999, -74.06824, -73.99833000000001, -73.90867, -73.96842, -73.91686999999999, -73.97019, -73.88065999999999, -73.92822, -73.96726, -73.89344, -73.8896, -73.76637, -74.06479, -73.94219, -73.97676, -74.00102, -73.86009, -73.8447, -73.95257, -73.93216, -73.91122, -73.99042, -73.98136, -73.86404, -73.93228, -73.89232, -74.07848, -74.02035, -73.96177, -73.94606999999999, -74.02065999999999, -74.16534, -73.95149, -73.91611, -73.91673, -73.97548, -73.81560999999999, -73.84642, -73.95455, -73.87883000000001, -73.92399, -73.87873, -73.89909, -73.90334, -73.93798000000001, -74.03381, -74.16178000000001, -73.91328, -73.86166, -74.01061, -74.00304, -73.81948, -73.9605, -73.80158, -73.73382, -73.87065, -74.23986, -74.16062, -73.92551999999999, -74.08953000000001, -73.99461, -73.87066999999999, -73.79201, -73.76314, -73.91091999999999, -73.90821, -73.93514, -73.94551, -73.92276, -73.98192, -73.9378, -73.90522, -73.82921999999999, -73.96351, -73.81016, -73.95965, -73.83875, -73.91382, -74.00896999999999, -73.99591, -73.81029000000001, -73.99582, -73.78873, -74.03621, -73.8885, -73.8202, -73.92806, -74.13354, -73.90835, -73.82316, -73.89461, -74.01550999999999, -73.79286, -73.98846999999999, -73.89035, -73.92858000000001, -73.93451999999999, -73.91811, -73.78665, -73.82538000000001, -73.73955, -73.90772, -73.73986, -73.74481, -73.7733, -73.9133, -73.90941, -73.95949, -73.9077, -73.89686999999999, -73.86264, -73.87603, -73.83396, -74.19826, -73.82494, -73.82264, -73.97465, -73.95382, -73.92525, -73.86634000000001, -73.86268000000001, -73.87475, -73.94285, -73.9694, -73.90005, -73.75233, -74.01608, -73.89495, -73.90845, -73.90522, -74.00476, -73.90125, -74.01065, -73.78828, -73.82795, -73.93236, -73.84083000000001, -73.89746, -73.86004, -73.77958000000001, -73.85335, -73.94078, -73.88046999999999, -74.02767, -74.08065, -73.90647, -73.816, -73.93919, -73.88545, -73.91594, -73.93184000000001, -73.86281, -73.75546999999999, -73.89792, -73.84107, -73.97755, -73.9742, -73.84946, -73.83225, -73.84845, -73.89958, -73.96862, -74.16254, -73.79154, -73.75828, -73.78506, -73.97556, -73.85127, -73.83981999999999, -73.91751, -73.79565, -73.79975, -74.13981, -73.75796, -73.89043000000001, -74.09591, -73.79736, -73.7962, -73.84605, -73.89407, -73.91229, -73.85769, -73.80324, -73.87055, -73.87635999999999, -73.92979, -73.92685999999999, -74.00489, -73.89553000000001, -73.82778, -73.72901, -73.89891, -73.93721, -74.00990999999999, -73.78579, -73.97856999999999, -73.95069000000001, -73.90250999999999, -73.77232, -73.85669, -74.124, -73.95315, -73.87338000000001, -73.84680999999999, -74.07654000000001, -73.75605999999999, -73.95899, -74.01406999999999, -73.82419, -73.88728, -73.85146999999999, -73.76451999999999, -73.76749000000001, -73.98294, -73.94221, -73.96558, -74.08723, -74.14636, -73.92549, -73.87088, -73.791, -73.93988, -74.11518000000001, -73.9549, -73.88854, -73.81305, -73.75895, -74.09182, -73.85379, -73.94972, -73.92999, -73.88118, -73.86424, -73.78341999999999, -74.12151999999999, -73.78891, -73.77162, -73.81801, -73.8873, -73.9287, -73.80724000000001, -73.86435, -73.83601999999999, -74.10636, -73.8881, -73.80001, -74.10092, -74.14829, -73.82949, -74.09984, -73.71299, -73.86164000000001, -73.83038, -73.75402, -73.73008, -73.92761999999999, -73.74804, -74.06208000000001, -73.97379000000001, -73.71795, -73.78954, -73.89829, -73.88710999999999, -73.84503000000001, -73.96928, -74.0071, -73.84855999999999, -74.01175, -73.729, -73.95424, -73.96763, -74.01509, -73.94639000000001, -73.86498, -73.87631, -73.93, -73.80445999999999, -73.98079, -73.8075, -73.73402, -73.77882, -74.09272, -73.85717, -74.00121999999999, -74.09436, -73.83993000000001, -74.24084, -73.8584, -73.9033, -73.79829000000001, -73.78244000000001, -73.90639, -73.90098, -73.78206999999999, -73.91938, -73.92181, -73.91665, -73.84844, -73.73529, -73.91056, -73.81284000000001, -73.76156999999999, -73.79495, -73.87354, -74.12429, -73.8535, -73.91020999999999, -73.96603, -73.77723, -73.99339, -73.74098000000001, -73.81747, -73.85676, -73.90978, -73.8068, -73.98946, -74.17065, -73.83729, -74.00101, -73.83378, -74.1, -73.94194, -73.99044, -73.73221, -73.80117, -73.74596, -73.81532, -73.9016, -73.77818, -74.18028000000001, -74.08174, -74.15911, -73.89635, -73.85410999999999, -73.72582, -73.8678, -73.77355, -73.90774, -74.01120999999999, -73.96745, -73.92489, -73.88743000000001, -74.13001, -73.81071, -74.12673000000001, -74.08206, -73.91561999999999, -73.84765, -74.16027, -73.76337, -73.98245, -73.73915, -73.84599, -74.16966, -73.75349, -74.01599, -73.82144, -73.94185999999999, -74.10725, -74.13495999999999, -74.0067, -74.13566, -73.88011999999999, -73.85311999999999, -73.85200999999999, -74.10801, -73.89608, -73.82444, -73.79231999999999, -74.14780999999999, -73.78158, -74.15443, -73.80328, -73.80169000000001, -73.72948000000001, -73.72955999999999, -73.93079, -73.8473, -73.88278000000001, -73.76844, -73.82882, -73.93186, -73.73342, -73.77311, -73.88128, -73.8483, -73.83237, -73.84172, -73.77308000000001, -73.91846, -73.82046, -73.7397, -73.87469, -73.83688000000001, -73.82896, -73.74795, -73.82405, -73.85831999999999, -74.12931, -73.82873000000001, -74.16162, -73.89817, -73.74167, -73.83351, -74.00647, -73.95893000000001, -73.98563, -73.90162, -73.95165, -73.99004000000001, -74.03089, -73.83697, -73.88743000000001, -74.18259, -74.17116999999999, -74.09663, -73.73674, -73.84806, -73.82304, -73.95113, -73.78296999999999, -73.82774, -73.83286, -73.975, -73.83773000000001, -73.81523, -74.21016999999999, -73.93353, -73.7687, -73.86994, -74.20940999999999, -74.13217, -73.75633, -73.75246, -73.88221, -73.8951, -73.87359000000001, -74.10678, -73.85754, -73.71928, -73.74383, -73.83457, -73.84541999999999, -74.1661, -73.78196, -73.77069, -74.19626, -73.86286, -73.72247, -73.9837, -73.71829, -74.15389, -73.90971, -73.78312, -74.13331, -74.23059], \"name\": \"\", \"radius\": 10, \"subplot\": \"mapbox\", \"type\": \"densitymapbox\", \"z\": [234, 267, 920, 903, 467, 1240, 1023, 528, 477, 317, 1160, 418, 552, 731, 870, 789, 700, 873, 56, 167, 1204, 904, 427, 245, 735, 166, 1757, 277, 450, 361, 172, 106, 465, 403, 527, 412, 1197, 980, 1011, 213, 531, 91, 47, 153, 680, 245, 251, 1358, 213, 311, 476, 190, 44, 32, 93, 211, 128, 614, 39, 822, 13, 783, 62, 218, 393, 11, 156, 64, 431, 19, 509, 307, 250, 143, 57, 279, 6, 31, 178, 476, 50, 111, 63, 16, 15, 80, 29, 33, 156, 492, 494, 5, 40, 492, 205, 554, 21, 43, 184, 63, 18, 21, 37, 2, 36, 24, 26, 24, 48, 108, 27, 102, 398, 83, 102, 2, 60, 372, 54, 32, 1, 59, 24, 96, 14, 59, 191, 24, 37, 1, 90, 69, 6, 224, 60, 14, 9, 28, 20, 8, 39, 9, 1, 214, 215, 1, 16, 10, 80, 105, 8, 78, 15, 41, 69, 4, 17, 54, 12, 10, 53, 18, 66, 4, 66, 50, 16, 25, 13, 2, 5, 36, 43, 8, 140, 130, 187, 44, 16, 48, 5, 6, 5, 24, 15, 34, 16, 12, 74, 129, 99, 22, 1, 4, 115, 40, 35, 6, 30, 67, 11, 42, 55, 34, 35, 20, 11, 4, 18, 1, 24, 25, 7, 14, 3, 21, 2, 12, 27, 51, 59, 204, 12, 28, 23, 14, 6, 3, 18, 10, 6, 25, 43, 16, 47, 3, 22, 1, 2, 2, 6, 119, 19, 4, 5, 33, 18, 8, 8, 10, 9, 11, 15, 13, 35, 3, 7, 15, 13, 11, 19, 3, 4, 2, 5, 23, 24, 49, 4, 6, 1, 131, 36, 2, 1, 41, 10, 39, 13, 1, 14, 34, 23, 9, 8, 16, 1, 5, 26, 3, 6, 1, 27, 13, 20, 5, 1, 8, 11, 2, 10, 27, 2, 25, 38, 4, 11, 1, 83, 53, 87, 17, 72, 56, 1, 9, 35, 13, 2, 7, 3, 23, 9, 18, 5, 17, 18, 26, 15, 16, 44, 1, 3, 26, 43, 10, 36, 6, 7, 35, 18, 8, 14, 47, 2, 4, 9, 40, 2, 22, 12, 10, 14, 6, 1, 1, 10, 33, 7, 19, 1, 5, 4, 3, 2, 46, 15, 1, 9, 1, 2, 3, 2, 2, 1, 5, 4, 10, 11, 1, 12, 1, 19, 7, 1, 1, 30, 3, 2, 10, 38, 23, 4, 32, 62, 8, 8, 8, 12, 22, 11, 1, 13, 33, 10, 8, 29, 58, 5, 10, 1, 3, 24, 4, 4, 1, 2, 11, 2, 10, 13, 7, 13, 6, 32, 1, 16, 19, 2, 14, 4, 8, 4, 16, 2, 11, 21, 3, 1, 6, 2, 18, 4, 9, 3, 3, 14, 2, 14, 1, 4, 8, 4, 1, 13, 1, 17, 7, 4, 7, 8, 1, 2, 33, 5, 13, 1, 4, 4, 6, 15, 1, 1, 7, 5, 3, 3, 5, 7, 5, 7, 1, 8, 1, 1, 2, 3, 7, 2, 4, 1, 4, 43, 1, 6, 5, 17, 7, 10, 6, 20, 5, 2, 5, 1, 7, 2, 5, 34, 7, 1, 3, 8, 4, 4, 5, 5, 22, 1, 2, 11, 6, 1, 31, 1, 5, 8, 13, 2, 15, 6, 1, 10, 1, 5, 6, 8, 1, 2, 1, 1, 4, 11, 1, 1, 3, 4, 1, 1, 7, 1, 2, 6, 3, 3, 1, 4, 13, 2, 7, 3, 3, 1, 1, 1, 2, 1, 1, 1, 1, 1, 1, 1, 1, 2, 1, 1, 1, 1, 1]}],\n",
       "                        {\"coloraxis\": {\"colorbar\": {\"title\": {\"text\": \"counts\"}}, \"colorscale\": [[0.0, \"#0d0887\"], [0.1111111111111111, \"#46039f\"], [0.2222222222222222, \"#7201a8\"], [0.3333333333333333, \"#9c179e\"], [0.4444444444444444, \"#bd3786\"], [0.5555555555555556, \"#d8576b\"], [0.6666666666666666, \"#ed7953\"], [0.7777777777777778, \"#fb9f3a\"], [0.8888888888888888, \"#fdca26\"], [1.0, \"#f0f921\"]]}, \"legend\": {\"tracegroupgap\": 0}, \"mapbox\": {\"center\": {\"lat\": 40.703285, \"lon\": -73.9168}, \"domain\": {\"x\": [0.0, 1.0], \"y\": [0.0, 1.0]}, \"style\": \"stamen-terrain\", \"zoom\": 9}, \"margin\": {\"t\": 60}, \"template\": {\"data\": {\"bar\": [{\"error_x\": {\"color\": \"#2a3f5f\"}, \"error_y\": {\"color\": \"#2a3f5f\"}, \"marker\": {\"line\": {\"color\": \"#E5ECF6\", \"width\": 0.5}}, \"type\": \"bar\"}], \"barpolar\": [{\"marker\": {\"line\": {\"color\": \"#E5ECF6\", \"width\": 0.5}}, \"type\": \"barpolar\"}], \"carpet\": [{\"aaxis\": {\"endlinecolor\": \"#2a3f5f\", \"gridcolor\": \"white\", \"linecolor\": \"white\", \"minorgridcolor\": \"white\", \"startlinecolor\": \"#2a3f5f\"}, \"baxis\": {\"endlinecolor\": \"#2a3f5f\", \"gridcolor\": \"white\", \"linecolor\": \"white\", \"minorgridcolor\": \"white\", \"startlinecolor\": \"#2a3f5f\"}, \"type\": \"carpet\"}], \"choropleth\": [{\"colorbar\": {\"outlinewidth\": 0, \"ticks\": \"\"}, \"type\": \"choropleth\"}], \"contour\": [{\"colorbar\": {\"outlinewidth\": 0, \"ticks\": \"\"}, \"colorscale\": [[0.0, \"#0d0887\"], [0.1111111111111111, \"#46039f\"], [0.2222222222222222, \"#7201a8\"], [0.3333333333333333, \"#9c179e\"], [0.4444444444444444, \"#bd3786\"], [0.5555555555555556, \"#d8576b\"], [0.6666666666666666, \"#ed7953\"], [0.7777777777777778, \"#fb9f3a\"], [0.8888888888888888, \"#fdca26\"], [1.0, \"#f0f921\"]], \"type\": \"contour\"}], \"contourcarpet\": [{\"colorbar\": {\"outlinewidth\": 0, \"ticks\": \"\"}, \"type\": \"contourcarpet\"}], \"heatmap\": [{\"colorbar\": {\"outlinewidth\": 0, \"ticks\": \"\"}, \"colorscale\": [[0.0, \"#0d0887\"], [0.1111111111111111, \"#46039f\"], [0.2222222222222222, \"#7201a8\"], [0.3333333333333333, \"#9c179e\"], [0.4444444444444444, \"#bd3786\"], [0.5555555555555556, \"#d8576b\"], [0.6666666666666666, \"#ed7953\"], [0.7777777777777778, \"#fb9f3a\"], [0.8888888888888888, \"#fdca26\"], [1.0, \"#f0f921\"]], \"type\": \"heatmap\"}], \"heatmapgl\": [{\"colorbar\": {\"outlinewidth\": 0, \"ticks\": \"\"}, \"colorscale\": [[0.0, \"#0d0887\"], [0.1111111111111111, \"#46039f\"], [0.2222222222222222, \"#7201a8\"], [0.3333333333333333, \"#9c179e\"], [0.4444444444444444, \"#bd3786\"], [0.5555555555555556, \"#d8576b\"], [0.6666666666666666, \"#ed7953\"], [0.7777777777777778, \"#fb9f3a\"], [0.8888888888888888, \"#fdca26\"], [1.0, \"#f0f921\"]], \"type\": \"heatmapgl\"}], \"histogram\": [{\"marker\": {\"colorbar\": {\"outlinewidth\": 0, \"ticks\": \"\"}}, \"type\": \"histogram\"}], \"histogram2d\": [{\"colorbar\": {\"outlinewidth\": 0, \"ticks\": \"\"}, \"colorscale\": [[0.0, \"#0d0887\"], [0.1111111111111111, \"#46039f\"], [0.2222222222222222, \"#7201a8\"], [0.3333333333333333, \"#9c179e\"], [0.4444444444444444, \"#bd3786\"], [0.5555555555555556, \"#d8576b\"], [0.6666666666666666, \"#ed7953\"], [0.7777777777777778, \"#fb9f3a\"], [0.8888888888888888, \"#fdca26\"], [1.0, \"#f0f921\"]], \"type\": \"histogram2d\"}], \"histogram2dcontour\": [{\"colorbar\": {\"outlinewidth\": 0, \"ticks\": \"\"}, \"colorscale\": [[0.0, \"#0d0887\"], [0.1111111111111111, \"#46039f\"], [0.2222222222222222, \"#7201a8\"], [0.3333333333333333, \"#9c179e\"], [0.4444444444444444, \"#bd3786\"], [0.5555555555555556, \"#d8576b\"], [0.6666666666666666, \"#ed7953\"], [0.7777777777777778, \"#fb9f3a\"], [0.8888888888888888, \"#fdca26\"], [1.0, \"#f0f921\"]], \"type\": \"histogram2dcontour\"}], \"mesh3d\": [{\"colorbar\": {\"outlinewidth\": 0, \"ticks\": \"\"}, \"type\": \"mesh3d\"}], \"parcoords\": [{\"line\": {\"colorbar\": {\"outlinewidth\": 0, \"ticks\": \"\"}}, \"type\": \"parcoords\"}], \"pie\": [{\"automargin\": true, \"type\": \"pie\"}], \"scatter\": [{\"marker\": {\"colorbar\": {\"outlinewidth\": 0, \"ticks\": \"\"}}, \"type\": \"scatter\"}], \"scatter3d\": [{\"line\": {\"colorbar\": {\"outlinewidth\": 0, \"ticks\": \"\"}}, \"marker\": {\"colorbar\": {\"outlinewidth\": 0, \"ticks\": \"\"}}, \"type\": \"scatter3d\"}], \"scattercarpet\": [{\"marker\": {\"colorbar\": {\"outlinewidth\": 0, \"ticks\": \"\"}}, \"type\": \"scattercarpet\"}], \"scattergeo\": [{\"marker\": {\"colorbar\": {\"outlinewidth\": 0, \"ticks\": \"\"}}, \"type\": \"scattergeo\"}], \"scattergl\": [{\"marker\": {\"colorbar\": {\"outlinewidth\": 0, \"ticks\": \"\"}}, \"type\": \"scattergl\"}], \"scattermapbox\": [{\"marker\": {\"colorbar\": {\"outlinewidth\": 0, \"ticks\": \"\"}}, \"type\": \"scattermapbox\"}], \"scatterpolar\": [{\"marker\": {\"colorbar\": {\"outlinewidth\": 0, \"ticks\": \"\"}}, \"type\": \"scatterpolar\"}], \"scatterpolargl\": [{\"marker\": {\"colorbar\": {\"outlinewidth\": 0, \"ticks\": \"\"}}, \"type\": \"scatterpolargl\"}], \"scatterternary\": [{\"marker\": {\"colorbar\": {\"outlinewidth\": 0, \"ticks\": \"\"}}, \"type\": \"scatterternary\"}], \"surface\": [{\"colorbar\": {\"outlinewidth\": 0, \"ticks\": \"\"}, \"colorscale\": [[0.0, \"#0d0887\"], [0.1111111111111111, \"#46039f\"], [0.2222222222222222, \"#7201a8\"], [0.3333333333333333, \"#9c179e\"], [0.4444444444444444, \"#bd3786\"], [0.5555555555555556, \"#d8576b\"], [0.6666666666666666, \"#ed7953\"], [0.7777777777777778, \"#fb9f3a\"], [0.8888888888888888, \"#fdca26\"], [1.0, \"#f0f921\"]], \"type\": \"surface\"}], \"table\": [{\"cells\": {\"fill\": {\"color\": \"#EBF0F8\"}, \"line\": {\"color\": \"white\"}}, \"header\": {\"fill\": {\"color\": \"#C8D4E3\"}, \"line\": {\"color\": \"white\"}}, \"type\": \"table\"}]}, \"layout\": {\"annotationdefaults\": {\"arrowcolor\": \"#2a3f5f\", \"arrowhead\": 0, \"arrowwidth\": 1}, \"coloraxis\": {\"colorbar\": {\"outlinewidth\": 0, \"ticks\": \"\"}}, \"colorscale\": {\"diverging\": [[0, \"#8e0152\"], [0.1, \"#c51b7d\"], [0.2, \"#de77ae\"], [0.3, \"#f1b6da\"], [0.4, \"#fde0ef\"], [0.5, \"#f7f7f7\"], [0.6, \"#e6f5d0\"], [0.7, \"#b8e186\"], [0.8, \"#7fbc41\"], [0.9, \"#4d9221\"], [1, \"#276419\"]], \"sequential\": [[0.0, \"#0d0887\"], [0.1111111111111111, \"#46039f\"], [0.2222222222222222, \"#7201a8\"], [0.3333333333333333, \"#9c179e\"], [0.4444444444444444, \"#bd3786\"], [0.5555555555555556, \"#d8576b\"], [0.6666666666666666, \"#ed7953\"], [0.7777777777777778, \"#fb9f3a\"], [0.8888888888888888, \"#fdca26\"], [1.0, \"#f0f921\"]], \"sequentialminus\": [[0.0, \"#0d0887\"], [0.1111111111111111, \"#46039f\"], [0.2222222222222222, \"#7201a8\"], [0.3333333333333333, \"#9c179e\"], [0.4444444444444444, \"#bd3786\"], [0.5555555555555556, \"#d8576b\"], [0.6666666666666666, \"#ed7953\"], [0.7777777777777778, \"#fb9f3a\"], [0.8888888888888888, \"#fdca26\"], [1.0, \"#f0f921\"]]}, \"colorway\": [\"#636efa\", \"#EF553B\", \"#00cc96\", \"#ab63fa\", \"#FFA15A\", \"#19d3f3\", \"#FF6692\", \"#B6E880\", \"#FF97FF\", \"#FECB52\"], \"font\": {\"color\": \"#2a3f5f\"}, \"geo\": {\"bgcolor\": \"white\", \"lakecolor\": \"white\", \"landcolor\": \"#E5ECF6\", \"showlakes\": true, \"showland\": true, \"subunitcolor\": \"white\"}, \"hoverlabel\": {\"align\": \"left\"}, \"hovermode\": \"closest\", \"mapbox\": {\"style\": \"light\"}, \"paper_bgcolor\": \"white\", \"plot_bgcolor\": \"#E5ECF6\", \"polar\": {\"angularaxis\": {\"gridcolor\": \"white\", \"linecolor\": \"white\", \"ticks\": \"\"}, \"bgcolor\": \"#E5ECF6\", \"radialaxis\": {\"gridcolor\": \"white\", \"linecolor\": \"white\", \"ticks\": \"\"}}, \"scene\": {\"xaxis\": {\"backgroundcolor\": \"#E5ECF6\", \"gridcolor\": \"white\", \"gridwidth\": 2, \"linecolor\": \"white\", \"showbackground\": true, \"ticks\": \"\", \"zerolinecolor\": \"white\"}, \"yaxis\": {\"backgroundcolor\": \"#E5ECF6\", \"gridcolor\": \"white\", \"gridwidth\": 2, \"linecolor\": \"white\", \"showbackground\": true, \"ticks\": \"\", \"zerolinecolor\": \"white\"}, \"zaxis\": {\"backgroundcolor\": \"#E5ECF6\", \"gridcolor\": \"white\", \"gridwidth\": 2, \"linecolor\": \"white\", \"showbackground\": true, \"ticks\": \"\", \"zerolinecolor\": \"white\"}}, \"shapedefaults\": {\"line\": {\"color\": \"#2a3f5f\"}}, \"ternary\": {\"aaxis\": {\"gridcolor\": \"white\", \"linecolor\": \"white\", \"ticks\": \"\"}, \"baxis\": {\"gridcolor\": \"white\", \"linecolor\": \"white\", \"ticks\": \"\"}, \"bgcolor\": \"#E5ECF6\", \"caxis\": {\"gridcolor\": \"white\", \"linecolor\": \"white\", \"ticks\": \"\"}}, \"title\": {\"x\": 0.05}, \"xaxis\": {\"automargin\": true, \"gridcolor\": \"white\", \"linecolor\": \"white\", \"ticks\": \"\", \"title\": {\"standoff\": 15}, \"zerolinecolor\": \"white\", \"zerolinewidth\": 2}, \"yaxis\": {\"automargin\": true, \"gridcolor\": \"white\", \"linecolor\": \"white\", \"ticks\": \"\", \"title\": {\"standoff\": 15}, \"zerolinecolor\": \"white\", \"zerolinewidth\": 2}}}},\n",
       "                        {\"responsive\": true}\n",
       "                    ).then(function(){\n",
       "                            \n",
       "var gd = document.getElementById('9fe494f9-d633-442d-a5b9-254ac6c814af');\n",
       "var x = new MutationObserver(function (mutations, observer) {{\n",
       "        var display = window.getComputedStyle(gd).display;\n",
       "        if (!display || display === 'none') {{\n",
       "            console.log([gd, 'removed!']);\n",
       "            Plotly.purge(gd);\n",
       "            observer.disconnect();\n",
       "        }}\n",
       "}});\n",
       "\n",
       "// Listen for the removal of the full notebook cells\n",
       "var notebookContainer = gd.closest('#notebook-container');\n",
       "if (notebookContainer) {{\n",
       "    x.observe(notebookContainer, {childList: true});\n",
       "}}\n",
       "\n",
       "// Listen for the clearing of the current output cell\n",
       "var outputEl = gd.closest('.output');\n",
       "if (outputEl) {{\n",
       "    x.observe(outputEl, {childList: true});\n",
       "}}\n",
       "\n",
       "                        })\n",
       "                };\n",
       "                });\n",
       "            </script>\n",
       "        </div>"
      ]
     },
     "metadata": {},
     "output_type": "display_data"
    }
   ],
   "source": [
    "# heatmap of price by location\n",
    "fig = px.density_mapbox(small_airbnb_pd, lat='latitude', lon='longitude', z='counts', radius=10,\n",
    "                        center=dict(lat=small_airbnb_pd.latitude.median(), lon=small_airbnb_pd.longitude.median()), \n",
    "                        zoom=9,\n",
    "                        mapbox_style=\"stamen-terrain\")\n",
    "fig.show()"
   ]
  },
  {
   "cell_type": "markdown",
   "metadata": {},
   "source": [
    "## Step 2: Feature Engineering\n",
    "\n",
    "If we review the dataset, we can see that the column `name` might be helpful in predicting price since it tells us more about the listing. Machine learning algorithms, however, cannot inherently handle text columns so we will first need to pre-process this feature.  Here we will use Word2Vec to do the pre-processing."
   ]
  },
  {
   "cell_type": "code",
   "execution_count": 266,
   "metadata": {},
   "outputs": [
    {
     "data": {
      "text/html": [
       "<table>\n",
       "<thead>\n",
       "<tr><th>name                                            </th></tr>\n",
       "</thead>\n",
       "<tbody>\n",
       "<tr><td>Clean & quiet apt home by the park              </td></tr>\n",
       "<tr><td>Skylit Midtown Castle                           </td></tr>\n",
       "<tr><td>THE VILLAGE OF HARLEM....NEW YORK !             </td></tr>\n",
       "<tr><td>Cozy Entire Floor of Brownstone                 </td></tr>\n",
       "<tr><td>Entire Apt: Spacious Studio/Loft by central park</td></tr>\n",
       "<tr><td>Large Cozy 1 BR Apartment In Midtown East       </td></tr>\n",
       "<tr><td>BlissArtsSpace!                                 </td></tr>\n",
       "<tr><td>Large Furnished Room Near B'way                 </td></tr>\n",
       "<tr><td>Cozy Clean Guest Room - Family Apt              </td></tr>\n",
       "<tr><td>Cute & Cozy Lower East Side 1 bdrm              </td></tr>\n",
       "</tbody>\n",
       "</table>"
      ]
     },
     "metadata": {},
     "output_type": "display_data"
    },
    {
     "data": {
      "text/plain": []
     },
     "execution_count": 266,
     "metadata": {},
     "output_type": "execute_result"
    }
   ],
   "source": [
    "airbnb[\"name\"]"
   ]
  },
  {
   "cell_type": "code",
   "execution_count": 267,
   "metadata": {},
   "outputs": [
    {
     "data": {
      "text/plain": [
       "['i', 'me', 'my', 'myself', 'we']"
      ]
     },
     "execution_count": 267,
     "metadata": {},
     "output_type": "execute_result"
    }
   ],
   "source": [
    "from nltk.corpus import stopwords\n",
    "STOP_WORDS = stopwords.words('english')\n",
    "STOP_WORDS[0:5]"
   ]
  },
  {
   "cell_type": "code",
   "execution_count": 268,
   "metadata": {},
   "outputs": [],
   "source": [
    "def tokenize(sentences, stop_words = STOP_WORDS):\n",
    "    tokenized = sentences.tokenize(\"\\\\W+\")\n",
    "    tokenized_lower = tokenized.tolower()\n",
    "    tokenized_filtered = tokenized_lower[(tokenized_lower.nchar() >= 2) | (tokenized_lower.isna()),:]\n",
    "    tokenized_words = tokenized_filtered[tokenized_filtered.grep(\"[0-9]\",invert=True,output_logical=True),:]\n",
    "    tokenized_words = tokenized_words[(tokenized_words.isna()) | (~ tokenized_words.isin(stop_words)),:]\n",
    "    return tokenized_words"
   ]
  },
  {
   "cell_type": "code",
   "execution_count": 269,
   "metadata": {},
   "outputs": [],
   "source": [
    "# Break desc into sequence of words\n",
    "names = tokenize(airbnb[\"name\"].ascharacter())"
   ]
  },
  {
   "cell_type": "code",
   "execution_count": 270,
   "metadata": {},
   "outputs": [
    {
     "data": {
      "text/html": [
       "<table>\n",
       "<thead>\n",
       "<tr><th>C1     </th></tr>\n",
       "</thead>\n",
       "<tbody>\n",
       "<tr><td>clean  </td></tr>\n",
       "<tr><td>quiet  </td></tr>\n",
       "<tr><td>apt    </td></tr>\n",
       "<tr><td>home   </td></tr>\n",
       "<tr><td>park   </td></tr>\n",
       "<tr><td>       </td></tr>\n",
       "<tr><td>skylit </td></tr>\n",
       "<tr><td>midtown</td></tr>\n",
       "<tr><td>castle </td></tr>\n",
       "<tr><td>       </td></tr>\n",
       "</tbody>\n",
       "</table>"
      ]
     },
     "metadata": {},
     "output_type": "display_data"
    },
    {
     "data": {
      "text/plain": []
     },
     "execution_count": 270,
     "metadata": {},
     "output_type": "execute_result"
    }
   ],
   "source": [
    "names"
   ]
  },
  {
   "cell_type": "code",
   "execution_count": 271,
   "metadata": {},
   "outputs": [
    {
     "name": "stdout",
     "output_type": "stream",
     "text": [
      "word2vec Model Build progress: |██████████████████████████████████████████| 100%\n"
     ]
    }
   ],
   "source": [
    "from h2o.estimators.word2vec import H2OWord2vecEstimator\n",
    "\n",
    "# This takes time to run - left commented out\n",
    "w2v_model = H2OWord2vecEstimator(vec_size = 100, model_id = \"w2v.hex\")\n",
    "w2v_model.train(training_frame=names)"
   ]
  },
  {
   "cell_type": "code",
   "execution_count": 272,
   "metadata": {},
   "outputs": [
    {
     "data": {
      "text/plain": [
       "OrderedDict([('spacious', 0.7236642837524414),\n",
       "             ('big', 0.6033230423927307),\n",
       "             ('douglaston', 0.5775948166847229),\n",
       "             ('proper', 0.5746610164642334),\n",
       "             ('bathrm', 0.5684499740600586)])"
      ]
     },
     "execution_count": 272,
     "metadata": {},
     "output_type": "execute_result"
    }
   ],
   "source": [
    "# Sanity check - find synonyms for the word 'large'\n",
    "w2v_model.find_synonyms(\"large\", count = 5)"
   ]
  },
  {
   "cell_type": "code",
   "execution_count": 273,
   "metadata": {},
   "outputs": [
    {
     "data": {
      "text/plain": [
       "OrderedDict([('airport', 0.7740574479103088),\n",
       "             ('laguardia', 0.7507581114768982),\n",
       "             ('airports', 0.7232791185379028),\n",
       "             ('del', 0.7203145027160645),\n",
       "             ('lga', 0.7192762494087219)])"
      ]
     },
     "execution_count": 273,
     "metadata": {},
     "output_type": "execute_result"
    }
   ],
   "source": [
    "# Sanity check - find synonyms for the word 'jfk'\n",
    "w2v_model.find_synonyms(\"jfk\", count = 5)"
   ]
  },
  {
   "cell_type": "code",
   "execution_count": 274,
   "metadata": {},
   "outputs": [],
   "source": [
    "# Add word embeddings to dataset\n",
    "word_embeddings = w2v_model.transform(names, aggregate_method = \"AVERAGE\")\n",
    "ext_airbnb = airbnb.cbind(word_embeddings)"
   ]
  },
  {
   "cell_type": "code",
   "execution_count": 275,
   "metadata": {},
   "outputs": [
    {
     "data": {
      "text/html": [
       "<table>\n",
       "<thead>\n",
       "<tr><th style=\"text-align: right;\">  id</th><th>name                                            </th><th style=\"text-align: right;\">  host_id</th><th>host_name  </th><th>neighbourhood_group  </th><th>neighbourhood     </th><th style=\"text-align: right;\">  latitude</th><th style=\"text-align: right;\">  longitude</th><th>room_type      </th><th style=\"text-align: right;\">  price</th><th style=\"text-align: right;\">  minimum_nights</th><th style=\"text-align: right;\">  number_of_reviews</th><th>last_review        </th><th style=\"text-align: right;\">  reviews_per_month</th><th style=\"text-align: right;\">  calculated_host_listings_count</th><th style=\"text-align: right;\">  availability_365</th><th style=\"text-align: right;\">          C1</th><th style=\"text-align: right;\">         C2</th><th style=\"text-align: right;\">         C3</th><th style=\"text-align: right;\">         C4</th><th style=\"text-align: right;\">          C5</th><th style=\"text-align: right;\">         C6</th><th style=\"text-align: right;\">          C7</th><th style=\"text-align: right;\">        C8</th><th style=\"text-align: right;\">          C9</th><th style=\"text-align: right;\">         C10</th><th style=\"text-align: right;\">         C11</th><th style=\"text-align: right;\">        C12</th><th style=\"text-align: right;\">       C13</th><th style=\"text-align: right;\">          C14</th><th style=\"text-align: right;\">        C15</th><th style=\"text-align: right;\">         C16</th><th style=\"text-align: right;\">        C17</th><th style=\"text-align: right;\">        C18</th><th style=\"text-align: right;\">         C19</th><th style=\"text-align: right;\">        C20</th><th style=\"text-align: right;\">        C21</th><th style=\"text-align: right;\">         C22</th><th style=\"text-align: right;\">          C23</th><th style=\"text-align: right;\">         C24</th><th style=\"text-align: right;\">        C25</th><th style=\"text-align: right;\">        C26</th><th style=\"text-align: right;\">       C27</th><th style=\"text-align: right;\">         C28</th><th style=\"text-align: right;\">        C29</th><th style=\"text-align: right;\">         C30</th><th style=\"text-align: right;\">        C31</th><th style=\"text-align: right;\">         C32</th><th style=\"text-align: right;\">         C33</th><th style=\"text-align: right;\">        C34</th><th style=\"text-align: right;\">        C35</th><th style=\"text-align: right;\">        C36</th><th style=\"text-align: right;\">          C37</th><th style=\"text-align: right;\">        C38</th><th style=\"text-align: right;\">         C39</th><th style=\"text-align: right;\">        C40</th><th style=\"text-align: right;\">        C41</th><th style=\"text-align: right;\">         C42</th><th style=\"text-align: right;\">         C43</th><th style=\"text-align: right;\">         C44</th><th style=\"text-align: right;\">        C45</th><th style=\"text-align: right;\">        C46</th><th style=\"text-align: right;\">        C47</th><th style=\"text-align: right;\">        C48</th><th style=\"text-align: right;\">         C49</th><th style=\"text-align: right;\">        C50</th><th style=\"text-align: right;\">        C51</th><th style=\"text-align: right;\">        C52</th><th style=\"text-align: right;\">        C53</th><th style=\"text-align: right;\">          C54</th><th style=\"text-align: right;\">         C55</th><th style=\"text-align: right;\">        C56</th><th style=\"text-align: right;\">         C57</th><th style=\"text-align: right;\">         C58</th><th style=\"text-align: right;\">        C59</th><th style=\"text-align: right;\">         C60</th><th style=\"text-align: right;\">        C61</th><th style=\"text-align: right;\">         C62</th><th style=\"text-align: right;\">        C63</th><th style=\"text-align: right;\">        C64</th><th style=\"text-align: right;\">        C65</th><th style=\"text-align: right;\">        C66</th><th style=\"text-align: right;\">          C67</th><th style=\"text-align: right;\">         C68</th><th style=\"text-align: right;\">        C69</th><th style=\"text-align: right;\">          C70</th><th style=\"text-align: right;\">        C71</th><th style=\"text-align: right;\">         C72</th><th style=\"text-align: right;\">         C73</th><th style=\"text-align: right;\">         C74</th><th style=\"text-align: right;\">          C75</th><th style=\"text-align: right;\">        C76</th><th style=\"text-align: right;\">        C77</th><th style=\"text-align: right;\">        C78</th><th style=\"text-align: right;\">         C79</th><th style=\"text-align: right;\">        C80</th><th style=\"text-align: right;\">        C81</th><th style=\"text-align: right;\">        C82</th><th style=\"text-align: right;\">         C83</th><th style=\"text-align: right;\">         C84</th><th style=\"text-align: right;\">         C85</th><th style=\"text-align: right;\">        C86</th><th style=\"text-align: right;\">        C87</th><th style=\"text-align: right;\">         C88</th><th style=\"text-align: right;\">        C89</th><th style=\"text-align: right;\">         C90</th><th style=\"text-align: right;\">        C91</th><th style=\"text-align: right;\">        C92</th><th style=\"text-align: right;\">        C93</th><th style=\"text-align: right;\">        C94</th><th style=\"text-align: right;\">         C95</th><th style=\"text-align: right;\">         C96</th><th style=\"text-align: right;\">         C97</th><th style=\"text-align: right;\">         C98</th><th style=\"text-align: right;\">         C99</th><th style=\"text-align: right;\">       C100</th></tr>\n",
       "</thead>\n",
       "<tbody>\n",
       "<tr><td style=\"text-align: right;\">2539</td><td>Clean & quiet apt home by the park              </td><td style=\"text-align: right;\">     2787</td><td>John       </td><td>Brooklyn             </td><td>Kensington        </td><td style=\"text-align: right;\">   40.6475</td><td style=\"text-align: right;\">   -73.9724</td><td>Private room   </td><td style=\"text-align: right;\">    149</td><td style=\"text-align: right;\">               1</td><td style=\"text-align: right;\">                  9</td><td>2018-10-19 00:00:00</td><td style=\"text-align: right;\">               0.21</td><td style=\"text-align: right;\">                               6</td><td style=\"text-align: right;\">               365</td><td style=\"text-align: right;\"> -0.0178391 </td><td style=\"text-align: right;\"> -0.0767163</td><td style=\"text-align: right;\">  0.206293 </td><td style=\"text-align: right;\"> -0.0302384</td><td style=\"text-align: right;\">  0.00254587</td><td style=\"text-align: right;\">  0.106907 </td><td style=\"text-align: right;\"> -0.0863028 </td><td style=\"text-align: right;\"> -0.361024</td><td style=\"text-align: right;\">  0.0339243 </td><td style=\"text-align: right;\">  0.0291278 </td><td style=\"text-align: right;\"> -0.160812  </td><td style=\"text-align: right;\"> -0.287266 </td><td style=\"text-align: right;\">  0.266776</td><td style=\"text-align: right;\">  0.187327   </td><td style=\"text-align: right;\"> -0.0251311</td><td style=\"text-align: right;\"> -0.0192201 </td><td style=\"text-align: right;\">  0.0126559</td><td style=\"text-align: right;\"> -0.0224633</td><td style=\"text-align: right;\"> -0.174198  </td><td style=\"text-align: right;\"> -0.201168 </td><td style=\"text-align: right;\"> -0.0352843</td><td style=\"text-align: right;\">  0.0849452 </td><td style=\"text-align: right;\">  0.0276145  </td><td style=\"text-align: right;\"> -0.0108308 </td><td style=\"text-align: right;\"> -0.0693741</td><td style=\"text-align: right;\">  0.0303754</td><td style=\"text-align: right;\">  0.211696</td><td style=\"text-align: right;\">  0.00306098</td><td style=\"text-align: right;\"> -0.103745 </td><td style=\"text-align: right;\">  0.0912081 </td><td style=\"text-align: right;\"> -0.085172 </td><td style=\"text-align: right;\"> -0.196108  </td><td style=\"text-align: right;\"> -0.00615776</td><td style=\"text-align: right;\">  0.169042 </td><td style=\"text-align: right;\"> -0.0176588</td><td style=\"text-align: right;\"> -0.20755  </td><td style=\"text-align: right;\">  0.089326   </td><td style=\"text-align: right;\"> -0.0847771</td><td style=\"text-align: right;\">  0.217492  </td><td style=\"text-align: right;\">  0.0733117</td><td style=\"text-align: right;\"> -0.139493 </td><td style=\"text-align: right;\">  0.035787  </td><td style=\"text-align: right;\">  0.0752454 </td><td style=\"text-align: right;\"> -0.227576  </td><td style=\"text-align: right;\"> -0.227903 </td><td style=\"text-align: right;\">  0.197923 </td><td style=\"text-align: right;\">  0.176537 </td><td style=\"text-align: right;\">  0.191313 </td><td style=\"text-align: right;\"> -0.102017  </td><td style=\"text-align: right;\"> -0.29619  </td><td style=\"text-align: right;\">  0.100975 </td><td style=\"text-align: right;\"> -0.1699   </td><td style=\"text-align: right;\"> -0.0259403</td><td style=\"text-align: right;\">  0.000382572</td><td style=\"text-align: right;\"> -0.00379666</td><td style=\"text-align: right;\">  0.0332966</td><td style=\"text-align: right;\"> -0.139614  </td><td style=\"text-align: right;\"> -0.00861732</td><td style=\"text-align: right;\">  0.0285922</td><td style=\"text-align: right;\">  0.174294  </td><td style=\"text-align: right;\">  0.235979 </td><td style=\"text-align: right;\"> -0.0079891 </td><td style=\"text-align: right;\"> -0.0917717</td><td style=\"text-align: right;\"> -0.06179  </td><td style=\"text-align: right;\"> -0.173422 </td><td style=\"text-align: right;\"> -0.260145 </td><td style=\"text-align: right;\">  0.000981006</td><td style=\"text-align: right;\"> -0.124044  </td><td style=\"text-align: right;\"> -0.11742  </td><td style=\"text-align: right;\">  0.0273176  </td><td style=\"text-align: right;\">  0.163905 </td><td style=\"text-align: right;\"> -0.009646  </td><td style=\"text-align: right;\"> -0.0675552 </td><td style=\"text-align: right;\">  0.12098   </td><td style=\"text-align: right;\"> -0.138616   </td><td style=\"text-align: right;\"> -0.0750378</td><td style=\"text-align: right;\"> -0.0185383</td><td style=\"text-align: right;\">  0.128495 </td><td style=\"text-align: right;\"> -0.0618829 </td><td style=\"text-align: right;\">  0.0526601</td><td style=\"text-align: right;\"> -0.0706375</td><td style=\"text-align: right;\">  0.0290394</td><td style=\"text-align: right;\">  0.0786247 </td><td style=\"text-align: right;\">  0.191649  </td><td style=\"text-align: right;\"> -0.0379945 </td><td style=\"text-align: right;\">  0.020829 </td><td style=\"text-align: right;\"> -0.0985761</td><td style=\"text-align: right;\"> -0.00420225</td><td style=\"text-align: right;\"> -0.0149608</td><td style=\"text-align: right;\"> -0.0833633 </td><td style=\"text-align: right;\"> -0.0140499</td><td style=\"text-align: right;\"> -0.0649895</td><td style=\"text-align: right;\">  0.0185829</td><td style=\"text-align: right;\">  0.07119  </td><td style=\"text-align: right;\"> -0.0303391 </td><td style=\"text-align: right;\"> -0.0143681 </td><td style=\"text-align: right;\"> -0.00599695</td><td style=\"text-align: right;\"> -0.144762  </td><td style=\"text-align: right;\">  0.121175  </td><td style=\"text-align: right;\"> -0.09546  </td></tr>\n",
       "<tr><td style=\"text-align: right;\">2595</td><td>Skylit Midtown Castle                           </td><td style=\"text-align: right;\">     2845</td><td>Jennifer   </td><td>Manhattan            </td><td>Midtown           </td><td style=\"text-align: right;\">   40.7536</td><td style=\"text-align: right;\">   -73.9838</td><td>Entire home/apt</td><td style=\"text-align: right;\">    225</td><td style=\"text-align: right;\">               1</td><td style=\"text-align: right;\">                 45</td><td>2019-05-21 00:00:00</td><td style=\"text-align: right;\">               0.38</td><td style=\"text-align: right;\">                               2</td><td style=\"text-align: right;\">               355</td><td style=\"text-align: right;\"> -0.0155972 </td><td style=\"text-align: right;\"> -0.0523996</td><td style=\"text-align: right;\">  0.109703 </td><td style=\"text-align: right;\">  0.0330927</td><td style=\"text-align: right;\"> -0.0979939 </td><td style=\"text-align: right;\">  0.0921528</td><td style=\"text-align: right;\">  0.246681  </td><td style=\"text-align: right;\"> -0.161424</td><td style=\"text-align: right;\">  0.00512206</td><td style=\"text-align: right;\"> -0.0405607 </td><td style=\"text-align: right;\">  0.00881644</td><td style=\"text-align: right;\">  0.0812689</td><td style=\"text-align: right;\">  0.104306</td><td style=\"text-align: right;\">  0.121316   </td><td style=\"text-align: right;\">  0.0491711</td><td style=\"text-align: right;\">  0.0281354 </td><td style=\"text-align: right;\"> -0.157629 </td><td style=\"text-align: right;\"> -0.0796954</td><td style=\"text-align: right;\">  0.0267162 </td><td style=\"text-align: right;\"> -0.206433 </td><td style=\"text-align: right;\"> -0.014823 </td><td style=\"text-align: right;\"> -0.0854921 </td><td style=\"text-align: right;\"> -0.000339729</td><td style=\"text-align: right;\"> -0.081447  </td><td style=\"text-align: right;\"> -0.155186 </td><td style=\"text-align: right;\">  0.139829 </td><td style=\"text-align: right;\">  0.163501</td><td style=\"text-align: right;\">  0.14744   </td><td style=\"text-align: right;\">  0.0101101</td><td style=\"text-align: right;\">  0.0109214 </td><td style=\"text-align: right;\"> -0.203884 </td><td style=\"text-align: right;\">  0.209711  </td><td style=\"text-align: right;\"> -0.102192  </td><td style=\"text-align: right;\">  0.0392898</td><td style=\"text-align: right;\"> -0.11706  </td><td style=\"text-align: right;\"> -0.102039 </td><td style=\"text-align: right;\">  0.0782096  </td><td style=\"text-align: right;\"> -0.0214458</td><td style=\"text-align: right;\"> -0.0329361 </td><td style=\"text-align: right;\">  0.0831465</td><td style=\"text-align: right;\"> -0.142521 </td><td style=\"text-align: right;\">  0.0501403 </td><td style=\"text-align: right;\">  0.0915453 </td><td style=\"text-align: right;\"> -0.102831  </td><td style=\"text-align: right;\"> -0.0470461</td><td style=\"text-align: right;\">  0.0515758</td><td style=\"text-align: right;\">  0.0111925</td><td style=\"text-align: right;\">  0.179768 </td><td style=\"text-align: right;\"> -0.0684943 </td><td style=\"text-align: right;\">  0.0152998</td><td style=\"text-align: right;\">  0.131792 </td><td style=\"text-align: right;\"> -0.0349347</td><td style=\"text-align: right;\"> -0.212471 </td><td style=\"text-align: right;\"> -0.0608156  </td><td style=\"text-align: right;\"> -0.0427651 </td><td style=\"text-align: right;\">  0.0793006</td><td style=\"text-align: right;\"> -0.0931376 </td><td style=\"text-align: right;\"> -0.164626  </td><td style=\"text-align: right;\">  0.241959 </td><td style=\"text-align: right;\">  0.0615485 </td><td style=\"text-align: right;\">  0.118279 </td><td style=\"text-align: right;\"> -0.140307  </td><td style=\"text-align: right;\">  0.0811743</td><td style=\"text-align: right;\"> -0.105805 </td><td style=\"text-align: right;\"> -0.157587 </td><td style=\"text-align: right;\"> -0.0626305</td><td style=\"text-align: right;\"> -0.107205   </td><td style=\"text-align: right;\">  0.0298126 </td><td style=\"text-align: right;\"> -0.0457603</td><td style=\"text-align: right;\">  0.0997153  </td><td style=\"text-align: right;\">  0.0369579</td><td style=\"text-align: right;\">  0.0278318 </td><td style=\"text-align: right;\"> -0.187261  </td><td style=\"text-align: right;\"> -0.0673557 </td><td style=\"text-align: right;\"> -0.115354   </td><td style=\"text-align: right;\"> -0.0376944</td><td style=\"text-align: right;\">  0.118519 </td><td style=\"text-align: right;\">  0.18503  </td><td style=\"text-align: right;\"> -0.0475285 </td><td style=\"text-align: right;\"> -0.123814 </td><td style=\"text-align: right;\"> -0.0940301</td><td style=\"text-align: right;\"> -0.148506 </td><td style=\"text-align: right;\">  0.148234  </td><td style=\"text-align: right;\"> -0.0692534 </td><td style=\"text-align: right;\"> -0.132458  </td><td style=\"text-align: right;\">  0.0776122</td><td style=\"text-align: right;\"> -0.141496 </td><td style=\"text-align: right;\"> -0.0700623 </td><td style=\"text-align: right;\">  0.140619 </td><td style=\"text-align: right;\">  0.18897   </td><td style=\"text-align: right;\">  0.070931 </td><td style=\"text-align: right;\">  0.0861576</td><td style=\"text-align: right;\"> -0.0938348</td><td style=\"text-align: right;\">  0.0827297</td><td style=\"text-align: right;\"> -0.00546941</td><td style=\"text-align: right;\"> -0.0125152 </td><td style=\"text-align: right;\"> -0.200658  </td><td style=\"text-align: right;\"> -0.0652965 </td><td style=\"text-align: right;\">  0.0156504 </td><td style=\"text-align: right;\"> -0.0257766</td></tr>\n",
       "<tr><td style=\"text-align: right;\">3647</td><td>THE VILLAGE OF HARLEM....NEW YORK !             </td><td style=\"text-align: right;\">     4632</td><td>Elisabeth  </td><td>Manhattan            </td><td>Harlem            </td><td style=\"text-align: right;\">   40.809 </td><td style=\"text-align: right;\">   -73.9419</td><td>Private room   </td><td style=\"text-align: right;\">    150</td><td style=\"text-align: right;\">               3</td><td style=\"text-align: right;\">                  0</td><td>                   </td><td style=\"text-align: right;\">             nan   </td><td style=\"text-align: right;\">                               1</td><td style=\"text-align: right;\">               365</td><td style=\"text-align: right;\"> -0.104461  </td><td style=\"text-align: right;\"> -0.0308133</td><td style=\"text-align: right;\">  0.146957 </td><td style=\"text-align: right;\"> -0.0336716</td><td style=\"text-align: right;\"> -0.100542  </td><td style=\"text-align: right;\">  0.0470171</td><td style=\"text-align: right;\">  0.361474  </td><td style=\"text-align: right;\"> -0.162655</td><td style=\"text-align: right;\"> -0.191613  </td><td style=\"text-align: right;\">  0.228573  </td><td style=\"text-align: right;\"> -0.293649  </td><td style=\"text-align: right;\">  0.103856 </td><td style=\"text-align: right;\">  0.310937</td><td style=\"text-align: right;\">  0.000454105</td><td style=\"text-align: right;\"> -0.0436866</td><td style=\"text-align: right;\"> -0.0726488 </td><td style=\"text-align: right;\"> -0.0445564</td><td style=\"text-align: right;\"> -0.301698 </td><td style=\"text-align: right;\"> -0.0841636 </td><td style=\"text-align: right;\"> -0.335023 </td><td style=\"text-align: right;\"> -0.0385708</td><td style=\"text-align: right;\">  0.0548308 </td><td style=\"text-align: right;\"> -0.183659   </td><td style=\"text-align: right;\"> -0.0276715 </td><td style=\"text-align: right;\">  0.214852 </td><td style=\"text-align: right;\"> -0.152113 </td><td style=\"text-align: right;\">  0.304821</td><td style=\"text-align: right;\"> -0.0698794 </td><td style=\"text-align: right;\"> -0.16638  </td><td style=\"text-align: right;\">  0.124689  </td><td style=\"text-align: right;\"> -0.0906122</td><td style=\"text-align: right;\">  0.230468  </td><td style=\"text-align: right;\"> -0.5021    </td><td style=\"text-align: right;\"> -0.303373 </td><td style=\"text-align: right;\"> -0.0414653</td><td style=\"text-align: right;\"> -0.188615 </td><td style=\"text-align: right;\"> -0.000331037</td><td style=\"text-align: right;\">  0.113011 </td><td style=\"text-align: right;\">  0.00748738</td><td style=\"text-align: right;\">  0.123185 </td><td style=\"text-align: right;\">  0.020859 </td><td style=\"text-align: right;\">  0.00756726</td><td style=\"text-align: right;\">  0.0960231 </td><td style=\"text-align: right;\"> -0.171871  </td><td style=\"text-align: right;\"> -0.241959 </td><td style=\"text-align: right;\">  0.251559 </td><td style=\"text-align: right;\">  0.100478 </td><td style=\"text-align: right;\"> -0.0890586</td><td style=\"text-align: right;\"> -0.128321  </td><td style=\"text-align: right;\"> -0.0156307</td><td style=\"text-align: right;\">  0.253839 </td><td style=\"text-align: right;\"> -0.260049 </td><td style=\"text-align: right;\"> -0.010655 </td><td style=\"text-align: right;\"> -0.0354059  </td><td style=\"text-align: right;\">  0.157474  </td><td style=\"text-align: right;\">  0.046917 </td><td style=\"text-align: right;\"> -0.0694733 </td><td style=\"text-align: right;\"> -0.218739  </td><td style=\"text-align: right;\">  0.0895268</td><td style=\"text-align: right;\"> -0.0476232 </td><td style=\"text-align: right;\"> -0.0702695</td><td style=\"text-align: right;\"> -0.175395  </td><td style=\"text-align: right;\"> -0.0690733</td><td style=\"text-align: right;\">  0.0221705</td><td style=\"text-align: right;\"> -0.141899 </td><td style=\"text-align: right;\"> -0.225246 </td><td style=\"text-align: right;\"> -0.073788   </td><td style=\"text-align: right;\">  0.0733962 </td><td style=\"text-align: right;\">  0.0554827</td><td style=\"text-align: right;\"> -0.100805   </td><td style=\"text-align: right;\"> -0.0601269</td><td style=\"text-align: right;\"> -0.300355  </td><td style=\"text-align: right;\"> -0.317613  </td><td style=\"text-align: right;\"> -0.129374  </td><td style=\"text-align: right;\"> -0.000975613</td><td style=\"text-align: right;\">  0.098694 </td><td style=\"text-align: right;\"> -0.0138858</td><td style=\"text-align: right;\">  0.185016 </td><td style=\"text-align: right;\">  0.0192756 </td><td style=\"text-align: right;\"> -0.159793 </td><td style=\"text-align: right;\"> -0.0407697</td><td style=\"text-align: right;\"> -0.301879 </td><td style=\"text-align: right;\">  0.138904  </td><td style=\"text-align: right;\"> -0.00965655</td><td style=\"text-align: right;\"> -0.162843  </td><td style=\"text-align: right;\">  0.107727 </td><td style=\"text-align: right;\"> -0.161983 </td><td style=\"text-align: right;\"> -0.0995584 </td><td style=\"text-align: right;\">  0.127788 </td><td style=\"text-align: right;\">  0.101442  </td><td style=\"text-align: right;\">  0.236484 </td><td style=\"text-align: right;\"> -0.028516 </td><td style=\"text-align: right;\"> -0.115807 </td><td style=\"text-align: right;\">  0.24212  </td><td style=\"text-align: right;\">  0.227332  </td><td style=\"text-align: right;\"> -0.148782  </td><td style=\"text-align: right;\"> -0.0557305 </td><td style=\"text-align: right;\"> -0.151765  </td><td style=\"text-align: right;\">  0.0609387 </td><td style=\"text-align: right;\"> -0.227426 </td></tr>\n",
       "<tr><td style=\"text-align: right;\">3831</td><td>Cozy Entire Floor of Brownstone                 </td><td style=\"text-align: right;\">     4869</td><td>LisaRoxanne</td><td>Brooklyn             </td><td>Clinton Hill      </td><td style=\"text-align: right;\">   40.6851</td><td style=\"text-align: right;\">   -73.9598</td><td>Entire home/apt</td><td style=\"text-align: right;\">     89</td><td style=\"text-align: right;\">               1</td><td style=\"text-align: right;\">                270</td><td>2019-07-05 00:00:00</td><td style=\"text-align: right;\">               4.64</td><td style=\"text-align: right;\">                               1</td><td style=\"text-align: right;\">               194</td><td style=\"text-align: right;\">  0.00719022</td><td style=\"text-align: right;\"> -0.0615364</td><td style=\"text-align: right;\">  0.22396  </td><td style=\"text-align: right;\"> -0.336208 </td><td style=\"text-align: right;\"> -0.0130516 </td><td style=\"text-align: right;\"> -0.0494232</td><td style=\"text-align: right;\">  0.00353529</td><td style=\"text-align: right;\"> -0.282576</td><td style=\"text-align: right;\"> -0.246667  </td><td style=\"text-align: right;\"> -0.073871  </td><td style=\"text-align: right;\"> -0.185204  </td><td style=\"text-align: right;\"> -0.123295 </td><td style=\"text-align: right;\">  0.20861 </td><td style=\"text-align: right;\">  0.146927   </td><td style=\"text-align: right;\"> -0.0789463</td><td style=\"text-align: right;\">  0.187411  </td><td style=\"text-align: right;\"> -0.166634 </td><td style=\"text-align: right;\"> -0.17139  </td><td style=\"text-align: right;\"> -0.214369  </td><td style=\"text-align: right;\"> -0.0267175</td><td style=\"text-align: right;\">  0.0170557</td><td style=\"text-align: right;\"> -0.00967154</td><td style=\"text-align: right;\"> -0.0645276  </td><td style=\"text-align: right;\">  0.0294734 </td><td style=\"text-align: right;\">  0.128693 </td><td style=\"text-align: right;\">  0.0067682</td><td style=\"text-align: right;\">  0.165014</td><td style=\"text-align: right;\"> -0.020562  </td><td style=\"text-align: right;\"> -0.0109295</td><td style=\"text-align: right;\"> -0.0514738 </td><td style=\"text-align: right;\"> -0.256554 </td><td style=\"text-align: right;\">  0.0962433 </td><td style=\"text-align: right;\"> -0.0784897 </td><td style=\"text-align: right;\">  0.187737 </td><td style=\"text-align: right;\">  0.0564711</td><td style=\"text-align: right;\">  0.0496783</td><td style=\"text-align: right;\">  0.327469   </td><td style=\"text-align: right;\"> -0.148167 </td><td style=\"text-align: right;\">  0.100577  </td><td style=\"text-align: right;\">  0.0292294</td><td style=\"text-align: right;\"> -0.195647 </td><td style=\"text-align: right;\"> -0.174536  </td><td style=\"text-align: right;\">  0.00600464</td><td style=\"text-align: right;\"> -0.162964  </td><td style=\"text-align: right;\"> -0.197923 </td><td style=\"text-align: right;\">  0.274403 </td><td style=\"text-align: right;\">  0.0558374</td><td style=\"text-align: right;\">  0.128148 </td><td style=\"text-align: right;\"> -0.0464406 </td><td style=\"text-align: right;\">  0.0757892</td><td style=\"text-align: right;\">  0.0970668</td><td style=\"text-align: right;\"> -0.210143 </td><td style=\"text-align: right;\"> -0.0499579</td><td style=\"text-align: right;\"> -0.198221   </td><td style=\"text-align: right;\"> -0.0461733 </td><td style=\"text-align: right;\"> -0.0854482</td><td style=\"text-align: right;\">  0.133472  </td><td style=\"text-align: right;\">  0.0834323 </td><td style=\"text-align: right;\"> -0.0807488</td><td style=\"text-align: right;\">  0.273027  </td><td style=\"text-align: right;\">  0.0668402</td><td style=\"text-align: right;\">  0.0506049 </td><td style=\"text-align: right;\"> -0.146045 </td><td style=\"text-align: right;\"> -0.0621557</td><td style=\"text-align: right;\"> -0.220439 </td><td style=\"text-align: right;\"> -0.251246 </td><td style=\"text-align: right;\"> -0.175502   </td><td style=\"text-align: right;\"> -0.117848  </td><td style=\"text-align: right;\"> -0.0638407</td><td style=\"text-align: right;\"> -0.115984   </td><td style=\"text-align: right;\">  0.298694 </td><td style=\"text-align: right;\"> -0.0852707 </td><td style=\"text-align: right;\">  0.142649  </td><td style=\"text-align: right;\"> -0.103431  </td><td style=\"text-align: right;\"> -0.111148   </td><td style=\"text-align: right;\"> -0.231376 </td><td style=\"text-align: right;\">  0.0716625</td><td style=\"text-align: right;\">  0.268629 </td><td style=\"text-align: right;\">  0.0177481 </td><td style=\"text-align: right;\">  0.038982 </td><td style=\"text-align: right;\"> -0.189806 </td><td style=\"text-align: right;\"> -0.0581653</td><td style=\"text-align: right;\"> -0.197636  </td><td style=\"text-align: right;\">  0.076118  </td><td style=\"text-align: right;\">  0.00701106</td><td style=\"text-align: right;\"> -0.0192486</td><td style=\"text-align: right;\"> -0.0312021</td><td style=\"text-align: right;\"> -0.172983  </td><td style=\"text-align: right;\"> -0.07791  </td><td style=\"text-align: right;\"> -0.0606691 </td><td style=\"text-align: right;\"> -0.0522939</td><td style=\"text-align: right;\">  0.0724155</td><td style=\"text-align: right;\"> -0.0316203</td><td style=\"text-align: right;\"> -0.133288 </td><td style=\"text-align: right;\">  0.0839505 </td><td style=\"text-align: right;\"> -0.00746087</td><td style=\"text-align: right;\"> -0.16584   </td><td style=\"text-align: right;\">  0.00266833</td><td style=\"text-align: right;\">  0.195453  </td><td style=\"text-align: right;\">  0.0461083</td></tr>\n",
       "<tr><td style=\"text-align: right;\">5022</td><td>Entire Apt: Spacious Studio/Loft by central park</td><td style=\"text-align: right;\">     7192</td><td>Laura      </td><td>Manhattan            </td><td>East Harlem       </td><td style=\"text-align: right;\">   40.7985</td><td style=\"text-align: right;\">   -73.944 </td><td>Entire home/apt</td><td style=\"text-align: right;\">     80</td><td style=\"text-align: right;\">              10</td><td style=\"text-align: right;\">                  9</td><td>2018-11-19 00:00:00</td><td style=\"text-align: right;\">               0.1 </td><td style=\"text-align: right;\">                               1</td><td style=\"text-align: right;\">                 0</td><td style=\"text-align: right;\">  0.0527666 </td><td style=\"text-align: right;\"> -0.0909183</td><td style=\"text-align: right;\">  0.137408 </td><td style=\"text-align: right;\"> -0.0297339</td><td style=\"text-align: right;\"> -0.1293    </td><td style=\"text-align: right;\">  0.0331629</td><td style=\"text-align: right;\">  0.130443  </td><td style=\"text-align: right;\"> -0.348456</td><td style=\"text-align: right;\">  0.0532395 </td><td style=\"text-align: right;\">  0.0451484 </td><td style=\"text-align: right;\"> -0.180072  </td><td style=\"text-align: right;\"> -0.113207 </td><td style=\"text-align: right;\">  0.15922 </td><td style=\"text-align: right;\">  0.147954   </td><td style=\"text-align: right;\"> -0.159598 </td><td style=\"text-align: right;\">  0.123022  </td><td style=\"text-align: right;\"> -0.0535417</td><td style=\"text-align: right;\">  0.0134308</td><td style=\"text-align: right;\"> -0.170144  </td><td style=\"text-align: right;\"> -0.34329  </td><td style=\"text-align: right;\">  0.0586563</td><td style=\"text-align: right;\">  0.00464453</td><td style=\"text-align: right;\">  0.0962095  </td><td style=\"text-align: right;\"> -0.0506277 </td><td style=\"text-align: right;\"> -0.101814 </td><td style=\"text-align: right;\">  0.0376702</td><td style=\"text-align: right;\">  0.291102</td><td style=\"text-align: right;\">  0.143892  </td><td style=\"text-align: right;\"> -0.172825 </td><td style=\"text-align: right;\">  0.118347  </td><td style=\"text-align: right;\"> -0.278159 </td><td style=\"text-align: right;\"> -0.0112435 </td><td style=\"text-align: right;\"> -0.0323186 </td><td style=\"text-align: right;\">  0.198108 </td><td style=\"text-align: right;\">  0.0161525</td><td style=\"text-align: right;\"> -0.0284557</td><td style=\"text-align: right;\">  0.0417205  </td><td style=\"text-align: right;\"> -0.0153766</td><td style=\"text-align: right;\">  0.140864  </td><td style=\"text-align: right;\">  0.0429677</td><td style=\"text-align: right;\"> -0.0716093</td><td style=\"text-align: right;\"> -0.0485569 </td><td style=\"text-align: right;\">  0.00292441</td><td style=\"text-align: right;\"> -0.151838  </td><td style=\"text-align: right;\"> -0.123146 </td><td style=\"text-align: right;\">  0.229736 </td><td style=\"text-align: right;\">  0.0105866</td><td style=\"text-align: right;\">  0.257167 </td><td style=\"text-align: right;\"> -0.00908735</td><td style=\"text-align: right;\"> -0.177267 </td><td style=\"text-align: right;\">  0.0788689</td><td style=\"text-align: right;\"> -0.0912441</td><td style=\"text-align: right;\"> -0.0525917</td><td style=\"text-align: right;\"> -0.09086    </td><td style=\"text-align: right;\"> -0.0755124 </td><td style=\"text-align: right;\">  0.0383197</td><td style=\"text-align: right;\">  0.00878997</td><td style=\"text-align: right;\">  0.0624996 </td><td style=\"text-align: right;\">  0.0224085</td><td style=\"text-align: right;\">  0.205449  </td><td style=\"text-align: right;\">  0.17779  </td><td style=\"text-align: right;\"> -0.0655916 </td><td style=\"text-align: right;\"> -0.0896184</td><td style=\"text-align: right;\"> -0.0499133</td><td style=\"text-align: right;\"> -0.182082 </td><td style=\"text-align: right;\"> -0.150331 </td><td style=\"text-align: right;\"> -0.0235726  </td><td style=\"text-align: right;\"> -0.0418363 </td><td style=\"text-align: right;\">  0.021981 </td><td style=\"text-align: right;\"> -0.0296823  </td><td style=\"text-align: right;\">  0.16499  </td><td style=\"text-align: right;\">  0.0568623 </td><td style=\"text-align: right;\"> -0.0119771 </td><td style=\"text-align: right;\">  0.0639335 </td><td style=\"text-align: right;\"> -0.0881869  </td><td style=\"text-align: right;\"> -0.0739174</td><td style=\"text-align: right;\">  0.0375079</td><td style=\"text-align: right;\">  0.20937  </td><td style=\"text-align: right;\">  0.0747043 </td><td style=\"text-align: right;\">  0.0474537</td><td style=\"text-align: right;\">  0.0824544</td><td style=\"text-align: right;\"> -0.0793727</td><td style=\"text-align: right;\">  0.0102026 </td><td style=\"text-align: right;\">  0.0150648 </td><td style=\"text-align: right;\"> -0.142527  </td><td style=\"text-align: right;\">  0.17097  </td><td style=\"text-align: right;\"> -0.0998526</td><td style=\"text-align: right;\">  0.0444323 </td><td style=\"text-align: right;\"> -0.0150399</td><td style=\"text-align: right;\">  0.00277199</td><td style=\"text-align: right;\"> -0.0372433</td><td style=\"text-align: right;\"> -0.0841476</td><td style=\"text-align: right;\">  0.0112413</td><td style=\"text-align: right;\"> -0.0530069</td><td style=\"text-align: right;\">  0.0175373 </td><td style=\"text-align: right;\">  0.0450188 </td><td style=\"text-align: right;\">  0.0912009 </td><td style=\"text-align: right;\">  0.0989767 </td><td style=\"text-align: right;\">  0.181302  </td><td style=\"text-align: right;\"> -0.0164974</td></tr>\n",
       "<tr><td style=\"text-align: right;\">5099</td><td>Large Cozy 1 BR Apartment In Midtown East       </td><td style=\"text-align: right;\">     7322</td><td>Chris      </td><td>Manhattan            </td><td>Murray Hill       </td><td style=\"text-align: right;\">   40.7477</td><td style=\"text-align: right;\">   -73.975 </td><td>Entire home/apt</td><td style=\"text-align: right;\">    200</td><td style=\"text-align: right;\">               3</td><td style=\"text-align: right;\">                 74</td><td>2019-06-22 00:00:00</td><td style=\"text-align: right;\">               0.59</td><td style=\"text-align: right;\">                               1</td><td style=\"text-align: right;\">               129</td><td style=\"text-align: right;\">  0.00796837</td><td style=\"text-align: right;\"> -0.0475138</td><td style=\"text-align: right;\">  0.233614 </td><td style=\"text-align: right;\"> -0.100223 </td><td style=\"text-align: right;\"> -0.127347  </td><td style=\"text-align: right;\">  0.0982175</td><td style=\"text-align: right;\">  0.189884  </td><td style=\"text-align: right;\"> -0.272091</td><td style=\"text-align: right;\"> -0.0490905 </td><td style=\"text-align: right;\">  0.00899442</td><td style=\"text-align: right;\"> -0.209268  </td><td style=\"text-align: right;\">  0.0941126</td><td style=\"text-align: right;\">  0.115589</td><td style=\"text-align: right;\"> -0.00385168 </td><td style=\"text-align: right;\"> -0.044961 </td><td style=\"text-align: right;\">  0.106695  </td><td style=\"text-align: right;\"> -0.203378 </td><td style=\"text-align: right;\">  0.0167376</td><td style=\"text-align: right;\">  0.0193835 </td><td style=\"text-align: right;\"> -0.289219 </td><td style=\"text-align: right;\">  0.0584278</td><td style=\"text-align: right;\">  0.0299734 </td><td style=\"text-align: right;\">  0.00157868 </td><td style=\"text-align: right;\"> -0.00765034</td><td style=\"text-align: right;\"> -0.0581792</td><td style=\"text-align: right;\">  0.0223862</td><td style=\"text-align: right;\">  0.340707</td><td style=\"text-align: right;\">  0.11349   </td><td style=\"text-align: right;\"> -0.113424 </td><td style=\"text-align: right;\"> -0.0448006 </td><td style=\"text-align: right;\"> -0.32908  </td><td style=\"text-align: right;\"> -0.00995979</td><td style=\"text-align: right;\"> -0.0502991 </td><td style=\"text-align: right;\">  0.0724877</td><td style=\"text-align: right;\"> -0.080199 </td><td style=\"text-align: right;\">  0.066572 </td><td style=\"text-align: right;\">  0.0607798  </td><td style=\"text-align: right;\"> -0.0560324</td><td style=\"text-align: right;\">  0.109469  </td><td style=\"text-align: right;\">  0.147513 </td><td style=\"text-align: right;\"> -0.0822079</td><td style=\"text-align: right;\">  0.0538359 </td><td style=\"text-align: right;\">  0.0179162 </td><td style=\"text-align: right;\"> -0.0471306 </td><td style=\"text-align: right;\"> -0.114985 </td><td style=\"text-align: right;\">  0.235111 </td><td style=\"text-align: right;\">  0.0514479</td><td style=\"text-align: right;\">  0.217135 </td><td style=\"text-align: right;\"> -0.134715  </td><td style=\"text-align: right;\"> -0.154179 </td><td style=\"text-align: right;\">  0.064111 </td><td style=\"text-align: right;\"> -0.10442  </td><td style=\"text-align: right;\"> -0.0685894</td><td style=\"text-align: right;\"> -0.083449   </td><td style=\"text-align: right;\"> -0.0649018 </td><td style=\"text-align: right;\">  0.0809267</td><td style=\"text-align: right;\"> -0.0114235 </td><td style=\"text-align: right;\"> -0.111488  </td><td style=\"text-align: right;\">  0.225194 </td><td style=\"text-align: right;\">  0.110165  </td><td style=\"text-align: right;\">  0.176202 </td><td style=\"text-align: right;\"> -0.148022  </td><td style=\"text-align: right;\"> -0.0206669</td><td style=\"text-align: right;\"> -0.15599  </td><td style=\"text-align: right;\"> -0.192526 </td><td style=\"text-align: right;\"> -0.158609 </td><td style=\"text-align: right;\">  0.074158   </td><td style=\"text-align: right;\"> -0.0635756 </td><td style=\"text-align: right;\"> -0.104881 </td><td style=\"text-align: right;\"> -0.0786188  </td><td style=\"text-align: right;\">  0.0424903</td><td style=\"text-align: right;\"> -0.0753365 </td><td style=\"text-align: right;\"> -0.162092  </td><td style=\"text-align: right;\">  0.00693226</td><td style=\"text-align: right;\">  0.0010697  </td><td style=\"text-align: right;\"> -0.155144 </td><td style=\"text-align: right;\"> -0.0658855</td><td style=\"text-align: right;\">  0.249457 </td><td style=\"text-align: right;\"> -0.0100098 </td><td style=\"text-align: right;\">  0.0114018</td><td style=\"text-align: right;\"> -0.0588376</td><td style=\"text-align: right;\">  0.0178789</td><td style=\"text-align: right;\">  0.0652433 </td><td style=\"text-align: right;\"> -0.059913  </td><td style=\"text-align: right;\"> -0.114529  </td><td style=\"text-align: right;\"> -0.0187256</td><td style=\"text-align: right;\"> -0.152978 </td><td style=\"text-align: right;\">  0.0277303 </td><td style=\"text-align: right;\">  0.0737353</td><td style=\"text-align: right;\">  0.0618626 </td><td style=\"text-align: right;\"> -0.031339 </td><td style=\"text-align: right;\"> -0.0695933</td><td style=\"text-align: right;\"> -0.0566403</td><td style=\"text-align: right;\"> -0.0367475</td><td style=\"text-align: right;\">  0.00613514</td><td style=\"text-align: right;\">  0.00496717</td><td style=\"text-align: right;\"> -0.162513  </td><td style=\"text-align: right;\"> -0.0209921 </td><td style=\"text-align: right;\"> -0.00462717</td><td style=\"text-align: right;\"> -0.0144921</td></tr>\n",
       "<tr><td style=\"text-align: right;\">5121</td><td>BlissArtsSpace!                                 </td><td style=\"text-align: right;\">     7356</td><td>Garon      </td><td>Brooklyn             </td><td>Bedford-Stuyvesant</td><td style=\"text-align: right;\">   40.6869</td><td style=\"text-align: right;\">   -73.956 </td><td>Private room   </td><td style=\"text-align: right;\">     60</td><td style=\"text-align: right;\">              45</td><td style=\"text-align: right;\">                 49</td><td>2017-10-05 00:00:00</td><td style=\"text-align: right;\">               0.4 </td><td style=\"text-align: right;\">                               1</td><td style=\"text-align: right;\">                 0</td><td style=\"text-align: right;\">nan         </td><td style=\"text-align: right;\">nan        </td><td style=\"text-align: right;\">nan        </td><td style=\"text-align: right;\">nan        </td><td style=\"text-align: right;\">nan         </td><td style=\"text-align: right;\">nan        </td><td style=\"text-align: right;\">nan         </td><td style=\"text-align: right;\">nan       </td><td style=\"text-align: right;\">nan         </td><td style=\"text-align: right;\">nan         </td><td style=\"text-align: right;\">nan         </td><td style=\"text-align: right;\">nan        </td><td style=\"text-align: right;\">nan       </td><td style=\"text-align: right;\">nan          </td><td style=\"text-align: right;\">nan        </td><td style=\"text-align: right;\">nan         </td><td style=\"text-align: right;\">nan        </td><td style=\"text-align: right;\">nan        </td><td style=\"text-align: right;\">nan         </td><td style=\"text-align: right;\">nan        </td><td style=\"text-align: right;\">nan        </td><td style=\"text-align: right;\">nan         </td><td style=\"text-align: right;\">nan          </td><td style=\"text-align: right;\">nan         </td><td style=\"text-align: right;\">nan        </td><td style=\"text-align: right;\">nan        </td><td style=\"text-align: right;\">nan       </td><td style=\"text-align: right;\">nan         </td><td style=\"text-align: right;\">nan        </td><td style=\"text-align: right;\">nan         </td><td style=\"text-align: right;\">nan        </td><td style=\"text-align: right;\">nan         </td><td style=\"text-align: right;\">nan         </td><td style=\"text-align: right;\">nan        </td><td style=\"text-align: right;\">nan        </td><td style=\"text-align: right;\">nan        </td><td style=\"text-align: right;\">nan          </td><td style=\"text-align: right;\">nan        </td><td style=\"text-align: right;\">nan         </td><td style=\"text-align: right;\">nan        </td><td style=\"text-align: right;\">nan        </td><td style=\"text-align: right;\">nan         </td><td style=\"text-align: right;\">nan         </td><td style=\"text-align: right;\">nan         </td><td style=\"text-align: right;\">nan        </td><td style=\"text-align: right;\">nan        </td><td style=\"text-align: right;\">nan        </td><td style=\"text-align: right;\">nan        </td><td style=\"text-align: right;\">nan         </td><td style=\"text-align: right;\">nan        </td><td style=\"text-align: right;\">nan        </td><td style=\"text-align: right;\">nan        </td><td style=\"text-align: right;\">nan        </td><td style=\"text-align: right;\">nan          </td><td style=\"text-align: right;\">nan         </td><td style=\"text-align: right;\">nan        </td><td style=\"text-align: right;\">nan         </td><td style=\"text-align: right;\">nan         </td><td style=\"text-align: right;\">nan        </td><td style=\"text-align: right;\">nan         </td><td style=\"text-align: right;\">nan        </td><td style=\"text-align: right;\">nan         </td><td style=\"text-align: right;\">nan        </td><td style=\"text-align: right;\">nan        </td><td style=\"text-align: right;\">nan        </td><td style=\"text-align: right;\">nan        </td><td style=\"text-align: right;\">nan          </td><td style=\"text-align: right;\">nan         </td><td style=\"text-align: right;\">nan        </td><td style=\"text-align: right;\">nan          </td><td style=\"text-align: right;\">nan        </td><td style=\"text-align: right;\">nan         </td><td style=\"text-align: right;\">nan         </td><td style=\"text-align: right;\">nan         </td><td style=\"text-align: right;\">nan          </td><td style=\"text-align: right;\">nan        </td><td style=\"text-align: right;\">nan        </td><td style=\"text-align: right;\">nan        </td><td style=\"text-align: right;\">nan         </td><td style=\"text-align: right;\">nan        </td><td style=\"text-align: right;\">nan        </td><td style=\"text-align: right;\">nan        </td><td style=\"text-align: right;\">nan         </td><td style=\"text-align: right;\">nan         </td><td style=\"text-align: right;\">nan         </td><td style=\"text-align: right;\">nan        </td><td style=\"text-align: right;\">nan        </td><td style=\"text-align: right;\">nan         </td><td style=\"text-align: right;\">nan        </td><td style=\"text-align: right;\">nan         </td><td style=\"text-align: right;\">nan        </td><td style=\"text-align: right;\">nan        </td><td style=\"text-align: right;\">nan        </td><td style=\"text-align: right;\">nan        </td><td style=\"text-align: right;\">nan         </td><td style=\"text-align: right;\">nan         </td><td style=\"text-align: right;\">nan         </td><td style=\"text-align: right;\">nan         </td><td style=\"text-align: right;\">nan         </td><td style=\"text-align: right;\">nan        </td></tr>\n",
       "<tr><td style=\"text-align: right;\">5178</td><td>Large Furnished Room Near B'way                 </td><td style=\"text-align: right;\">     8967</td><td>Shunichi   </td><td>Manhattan            </td><td>Hell's Kitchen    </td><td style=\"text-align: right;\">   40.7649</td><td style=\"text-align: right;\">   -73.9849</td><td>Private room   </td><td style=\"text-align: right;\">     79</td><td style=\"text-align: right;\">               2</td><td style=\"text-align: right;\">                430</td><td>2019-06-24 00:00:00</td><td style=\"text-align: right;\">               3.47</td><td style=\"text-align: right;\">                               1</td><td style=\"text-align: right;\">               220</td><td style=\"text-align: right;\">  0.104825  </td><td style=\"text-align: right;\"> -0.0621729</td><td style=\"text-align: right;\">  0.0444079</td><td style=\"text-align: right;\"> -0.100767 </td><td style=\"text-align: right;\"> -0.152459  </td><td style=\"text-align: right;\"> -0.0576884</td><td style=\"text-align: right;\">  0.302601  </td><td style=\"text-align: right;\"> -0.193696</td><td style=\"text-align: right;\"> -0.111005  </td><td style=\"text-align: right;\">  0.199953  </td><td style=\"text-align: right;\"> -0.0631631 </td><td style=\"text-align: right;\"> -0.191996 </td><td style=\"text-align: right;\">  0.225855</td><td style=\"text-align: right;\">  0.0664767  </td><td style=\"text-align: right;\">  0.053634 </td><td style=\"text-align: right;\">  0.0316828 </td><td style=\"text-align: right;\">  0.0970957</td><td style=\"text-align: right;\">  0.0155538</td><td style=\"text-align: right;\"> -0.0117525 </td><td style=\"text-align: right;\"> -0.165066 </td><td style=\"text-align: right;\">  0.0117802</td><td style=\"text-align: right;\">  0.210895  </td><td style=\"text-align: right;\"> -0.0237195  </td><td style=\"text-align: right;\"> -0.0306201 </td><td style=\"text-align: right;\"> -0.164912 </td><td style=\"text-align: right;\"> -0.100094 </td><td style=\"text-align: right;\">  0.217   </td><td style=\"text-align: right;\"> -0.0598166 </td><td style=\"text-align: right;\"> -0.0996946</td><td style=\"text-align: right;\">  0.00402487</td><td style=\"text-align: right;\"> -0.162021 </td><td style=\"text-align: right;\">  0.0988975 </td><td style=\"text-align: right;\"> -0.0738955 </td><td style=\"text-align: right;\">  0.204515 </td><td style=\"text-align: right;\"> -0.0217871</td><td style=\"text-align: right;\"> -0.0776607</td><td style=\"text-align: right;\">  0.0727115  </td><td style=\"text-align: right;\"> -0.0730179</td><td style=\"text-align: right;\">  0.186784  </td><td style=\"text-align: right;\">  0.102712 </td><td style=\"text-align: right;\"> -0.138615 </td><td style=\"text-align: right;\"> -0.0165396 </td><td style=\"text-align: right;\">  0.0611799 </td><td style=\"text-align: right;\"> -0.0618048 </td><td style=\"text-align: right;\"> -0.193911 </td><td style=\"text-align: right;\">  0.253526 </td><td style=\"text-align: right;\">  0.070424 </td><td style=\"text-align: right;\">  0.0561479</td><td style=\"text-align: right;\"> -0.141165  </td><td style=\"text-align: right;\"> -0.0505277</td><td style=\"text-align: right;\">  0.0940218</td><td style=\"text-align: right;\"> -0.150969 </td><td style=\"text-align: right;\"> -0.12007  </td><td style=\"text-align: right;\"> -0.0721534  </td><td style=\"text-align: right;\"> -0.179445  </td><td style=\"text-align: right;\">  0.15888  </td><td style=\"text-align: right;\"> -0.0113733 </td><td style=\"text-align: right;\">  0.120125  </td><td style=\"text-align: right;\">  0.120799 </td><td style=\"text-align: right;\">  0.0902066 </td><td style=\"text-align: right;\">  0.135218 </td><td style=\"text-align: right;\">  0.00109009</td><td style=\"text-align: right;\"> -0.0606695</td><td style=\"text-align: right;\"> -0.0912111</td><td style=\"text-align: right;\"> -0.0320591</td><td style=\"text-align: right;\"> -0.144912 </td><td style=\"text-align: right;\">  0.0170638  </td><td style=\"text-align: right;\"> -0.00283958</td><td style=\"text-align: right;\"> -0.164314 </td><td style=\"text-align: right;\"> -0.0379921  </td><td style=\"text-align: right;\">  0.205997 </td><td style=\"text-align: right;\">  0.00934705</td><td style=\"text-align: right;\">  0.00533042</td><td style=\"text-align: right;\"> -0.209512  </td><td style=\"text-align: right;\"> -0.14942    </td><td style=\"text-align: right;\">  0.046116 </td><td style=\"text-align: right;\"> -0.12087  </td><td style=\"text-align: right;\"> -0.0125443</td><td style=\"text-align: right;\"> -0.00402844</td><td style=\"text-align: right;\"> -0.0526096</td><td style=\"text-align: right;\"> -0.0869138</td><td style=\"text-align: right;\"> -0.137565 </td><td style=\"text-align: right;\">  0.0135858 </td><td style=\"text-align: right;\"> -0.117227  </td><td style=\"text-align: right;\"> -0.0208025 </td><td style=\"text-align: right;\">  0.0583431</td><td style=\"text-align: right;\"> -0.218797 </td><td style=\"text-align: right;\">  0.0883419 </td><td style=\"text-align: right;\">  0.0240441</td><td style=\"text-align: right;\"> -0.0719281 </td><td style=\"text-align: right;\"> -0.0605078</td><td style=\"text-align: right;\">  0.0275272</td><td style=\"text-align: right;\"> -0.052299 </td><td style=\"text-align: right;\">  0.0180452</td><td style=\"text-align: right;\"> -0.0369026 </td><td style=\"text-align: right;\">  0.0205661 </td><td style=\"text-align: right;\"> -0.0814429 </td><td style=\"text-align: right;\"> -0.0971219 </td><td style=\"text-align: right;\">  0.0414669 </td><td style=\"text-align: right;\">  0.03802  </td></tr>\n",
       "<tr><td style=\"text-align: right;\">5203</td><td>Cozy Clean Guest Room - Family Apt              </td><td style=\"text-align: right;\">     7490</td><td>MaryEllen  </td><td>Manhattan            </td><td>Upper West Side   </td><td style=\"text-align: right;\">   40.8018</td><td style=\"text-align: right;\">   -73.9672</td><td>Private room   </td><td style=\"text-align: right;\">     79</td><td style=\"text-align: right;\">               2</td><td style=\"text-align: right;\">                118</td><td>2017-07-21 00:00:00</td><td style=\"text-align: right;\">               0.99</td><td style=\"text-align: right;\">                               1</td><td style=\"text-align: right;\">                 0</td><td style=\"text-align: right;\">  0.0278888 </td><td style=\"text-align: right;\"> -0.105573 </td><td style=\"text-align: right;\">  0.12724  </td><td style=\"text-align: right;\"> -0.102465 </td><td style=\"text-align: right;\"> -0.0748593 </td><td style=\"text-align: right;\"> -0.0682446</td><td style=\"text-align: right;\">  0.250309  </td><td style=\"text-align: right;\"> -0.238573</td><td style=\"text-align: right;\"> -0.0658707 </td><td style=\"text-align: right;\">  0.118221  </td><td style=\"text-align: right;\"> -0.140393  </td><td style=\"text-align: right;\"> -0.30829  </td><td style=\"text-align: right;\">  0.32219 </td><td style=\"text-align: right;\">  0.137453   </td><td style=\"text-align: right;\">  0.120733 </td><td style=\"text-align: right;\"> -0.0809097 </td><td style=\"text-align: right;\"> -0.0628997</td><td style=\"text-align: right;\"> -0.124899 </td><td style=\"text-align: right;\"> -0.187616  </td><td style=\"text-align: right;\"> -0.163961 </td><td style=\"text-align: right;\"> -0.0295944</td><td style=\"text-align: right;\">  0.181251  </td><td style=\"text-align: right;\"> -0.0897365  </td><td style=\"text-align: right;\">  0.0228472 </td><td style=\"text-align: right;\"> -0.0253791</td><td style=\"text-align: right;\">  0.13698  </td><td style=\"text-align: right;\">  0.20392 </td><td style=\"text-align: right;\">  0.145438  </td><td style=\"text-align: right;\"> -0.0474766</td><td style=\"text-align: right;\"> -0.0786972 </td><td style=\"text-align: right;\"> -0.0383121</td><td style=\"text-align: right;\"> -0.0931195 </td><td style=\"text-align: right;\"> -0.107504  </td><td style=\"text-align: right;\">  0.136903 </td><td style=\"text-align: right;\">  0.0519624</td><td style=\"text-align: right;\"> -0.0191796</td><td style=\"text-align: right;\">  0.132212   </td><td style=\"text-align: right;\"> -0.0802822</td><td style=\"text-align: right;\">  0.00308094</td><td style=\"text-align: right;\">  0.0500197</td><td style=\"text-align: right;\"> -0.0944108</td><td style=\"text-align: right;\">  0.101936  </td><td style=\"text-align: right;\">  0.0151124 </td><td style=\"text-align: right;\"> -0.0987438 </td><td style=\"text-align: right;\"> -0.166225 </td><td style=\"text-align: right;\">  0.0888995</td><td style=\"text-align: right;\">  0.0881287</td><td style=\"text-align: right;\">  0.0443918</td><td style=\"text-align: right;\"> -0.0828189 </td><td style=\"text-align: right;\"> -0.219682 </td><td style=\"text-align: right;\">  0.0869525</td><td style=\"text-align: right;\"> -0.130205 </td><td style=\"text-align: right;\"> -0.111147 </td><td style=\"text-align: right;\"> -0.0726022  </td><td style=\"text-align: right;\"> -0.15237   </td><td style=\"text-align: right;\"> -0.0620494</td><td style=\"text-align: right;\"> -0.0393372 </td><td style=\"text-align: right;\"> -0.0272688 </td><td style=\"text-align: right;\">  0.111111 </td><td style=\"text-align: right;\">  0.124582  </td><td style=\"text-align: right;\">  0.182755 </td><td style=\"text-align: right;\"> -0.0868435 </td><td style=\"text-align: right;\"> -0.0726444</td><td style=\"text-align: right;\"> -0.170582 </td><td style=\"text-align: right;\"> -0.206207 </td><td style=\"text-align: right;\"> -0.143015 </td><td style=\"text-align: right;\"> -0.00479413 </td><td style=\"text-align: right;\"> -0.0878891 </td><td style=\"text-align: right;\"> -0.185355 </td><td style=\"text-align: right;\"> -0.000230285</td><td style=\"text-align: right;\">  0.230996 </td><td style=\"text-align: right;\">  0.0288683 </td><td style=\"text-align: right;\"> -0.0547795 </td><td style=\"text-align: right;\">  0.021501  </td><td style=\"text-align: right;\"> -0.0952599  </td><td style=\"text-align: right;\"> -0.162762 </td><td style=\"text-align: right;\"> -0.111909 </td><td style=\"text-align: right;\">  0.0657578</td><td style=\"text-align: right;\">  0.013676  </td><td style=\"text-align: right;\">  0.036146 </td><td style=\"text-align: right;\"> -0.0985363</td><td style=\"text-align: right;\"> -0.130951 </td><td style=\"text-align: right;\">  0.0733108 </td><td style=\"text-align: right;\"> -0.061732  </td><td style=\"text-align: right;\"> -0.0208485 </td><td style=\"text-align: right;\"> -0.0155656</td><td style=\"text-align: right;\"> -0.156467 </td><td style=\"text-align: right;\">  0.089034  </td><td style=\"text-align: right;\">  0.140333 </td><td style=\"text-align: right;\"> -0.0649855 </td><td style=\"text-align: right;\">  0.0364375</td><td style=\"text-align: right;\"> -0.103033 </td><td style=\"text-align: right;\"> -0.123923 </td><td style=\"text-align: right;\"> -0.116819 </td><td style=\"text-align: right;\"> -0.171446  </td><td style=\"text-align: right;\"> -0.022979  </td><td style=\"text-align: right;\"> -0.110392  </td><td style=\"text-align: right;\"> -0.0330818 </td><td style=\"text-align: right;\">  0.17299   </td><td style=\"text-align: right;\"> -0.0574044</td></tr>\n",
       "<tr><td style=\"text-align: right;\">5238</td><td>Cute & Cozy Lower East Side 1 bdrm              </td><td style=\"text-align: right;\">     7549</td><td>Ben        </td><td>Manhattan            </td><td>Chinatown         </td><td style=\"text-align: right;\">   40.7134</td><td style=\"text-align: right;\">   -73.9904</td><td>Entire home/apt</td><td style=\"text-align: right;\">    150</td><td style=\"text-align: right;\">               1</td><td style=\"text-align: right;\">                160</td><td>2019-06-09 00:00:00</td><td style=\"text-align: right;\">               1.33</td><td style=\"text-align: right;\">                               4</td><td style=\"text-align: right;\">               188</td><td style=\"text-align: right;\"> -0.0287255 </td><td style=\"text-align: right;\"> -0.0761458</td><td style=\"text-align: right;\">  0.3911   </td><td style=\"text-align: right;\"> -0.0689083</td><td style=\"text-align: right;\">  0.0438053 </td><td style=\"text-align: right;\">  0.134612 </td><td style=\"text-align: right;\">  0.129253  </td><td style=\"text-align: right;\"> -0.200051</td><td style=\"text-align: right;\"> -0.0688894 </td><td style=\"text-align: right;\">  0.147335  </td><td style=\"text-align: right;\"> -0.472836  </td><td style=\"text-align: right;\"> -0.0706356</td><td style=\"text-align: right;\">  0.128125</td><td style=\"text-align: right;\"> -0.0641413  </td><td style=\"text-align: right;\"> -0.0698626</td><td style=\"text-align: right;\"> -0.00586839</td><td style=\"text-align: right;\"> -0.134378 </td><td style=\"text-align: right;\"> -0.117745 </td><td style=\"text-align: right;\"> -0.00630452</td><td style=\"text-align: right;\"> -0.392826 </td><td style=\"text-align: right;\">  0.231055 </td><td style=\"text-align: right;\">  0.108822  </td><td style=\"text-align: right;\"> -0.0180719  </td><td style=\"text-align: right;\">  0.0786745 </td><td style=\"text-align: right;\"> -0.094067 </td><td style=\"text-align: right;\">  0.0233288</td><td style=\"text-align: right;\">  0.327583</td><td style=\"text-align: right;\">  0.255897  </td><td style=\"text-align: right;\"> -0.0416921</td><td style=\"text-align: right;\"> -0.124682  </td><td style=\"text-align: right;\"> -0.280626 </td><td style=\"text-align: right;\">  0.0579894 </td><td style=\"text-align: right;\"> -0.0337309 </td><td style=\"text-align: right;\"> -0.099581 </td><td style=\"text-align: right;\">  0.0605693</td><td style=\"text-align: right;\">  0.0630592</td><td style=\"text-align: right;\">  0.0902781  </td><td style=\"text-align: right;\"> -0.154641 </td><td style=\"text-align: right;\">  0.317314  </td><td style=\"text-align: right;\">  0.0359938</td><td style=\"text-align: right;\">  0.0644324</td><td style=\"text-align: right;\">  0.2053    </td><td style=\"text-align: right;\"> -0.061442  </td><td style=\"text-align: right;\"> -0.00955972</td><td style=\"text-align: right;\"> -0.0882476</td><td style=\"text-align: right;\">  0.426364 </td><td style=\"text-align: right;\">  0.0932145</td><td style=\"text-align: right;\">  0.15601  </td><td style=\"text-align: right;\"> -0.0753336 </td><td style=\"text-align: right;\"> -0.329671 </td><td style=\"text-align: right;\">  0.198975 </td><td style=\"text-align: right;\"> -0.177995 </td><td style=\"text-align: right;\"> -0.0911929</td><td style=\"text-align: right;\"> -0.203107   </td><td style=\"text-align: right;\">  0.094322  </td><td style=\"text-align: right;\">  0.116281 </td><td style=\"text-align: right;\">  0.111109  </td><td style=\"text-align: right;\"> -0.0287866 </td><td style=\"text-align: right;\">  0.14871  </td><td style=\"text-align: right;\"> -0.00924483</td><td style=\"text-align: right;\">  0.091506 </td><td style=\"text-align: right;\"> -0.159115  </td><td style=\"text-align: right;\"> -0.115821 </td><td style=\"text-align: right;\"> -0.101224 </td><td style=\"text-align: right;\"> -0.102096 </td><td style=\"text-align: right;\"> -0.0271063</td><td style=\"text-align: right;\">  0.0444424  </td><td style=\"text-align: right;\"> -0.0938902 </td><td style=\"text-align: right;\"> -0.114985 </td><td style=\"text-align: right;\"> -0.129941   </td><td style=\"text-align: right;\"> -0.0577769</td><td style=\"text-align: right;\"> -0.264563  </td><td style=\"text-align: right;\"> -0.17198   </td><td style=\"text-align: right;\">  0.15897   </td><td style=\"text-align: right;\">  0.084934   </td><td style=\"text-align: right;\"> -0.194669 </td><td style=\"text-align: right;\"> -0.172973 </td><td style=\"text-align: right;\">  0.192106 </td><td style=\"text-align: right;\">  0.0452674 </td><td style=\"text-align: right;\">  0.0474427</td><td style=\"text-align: right;\"> -0.121073 </td><td style=\"text-align: right;\">  0.0573101</td><td style=\"text-align: right;\">  0.00193295</td><td style=\"text-align: right;\"> -0.0548531 </td><td style=\"text-align: right;\"> -0.100979  </td><td style=\"text-align: right;\"> -0.123968 </td><td style=\"text-align: right;\"> -0.143751 </td><td style=\"text-align: right;\">  0.0683994 </td><td style=\"text-align: right;\">  0.0889023</td><td style=\"text-align: right;\">  0.0184213 </td><td style=\"text-align: right;\"> -0.187236 </td><td style=\"text-align: right;\"> -0.22084  </td><td style=\"text-align: right;\">  0.0417545</td><td style=\"text-align: right;\">  0.0957849</td><td style=\"text-align: right;\">  0.0356495 </td><td style=\"text-align: right;\"> -0.0968024 </td><td style=\"text-align: right;\"> -0.189425  </td><td style=\"text-align: right;\"> -0.00913725</td><td style=\"text-align: right;\">  0.0463991 </td><td style=\"text-align: right;\">  0.0162569</td></tr>\n",
       "</tbody>\n",
       "</table>"
      ]
     },
     "metadata": {},
     "output_type": "display_data"
    },
    {
     "data": {
      "text/plain": []
     },
     "execution_count": 275,
     "metadata": {},
     "output_type": "execute_result"
    }
   ],
   "source": [
    "ext_airbnb.head()"
   ]
  },
  {
   "cell_type": "markdown",
   "metadata": {},
   "source": [
    "## Step 3: Run AutoML\n",
    "\n",
    "We will use AutoML to perform automatic grid search and algorithm selection on this dataset.  Our goal is to find the model that is most accurate in predicting price."
   ]
  },
  {
   "cell_type": "code",
   "execution_count": 276,
   "metadata": {},
   "outputs": [
    {
     "name": "stdout",
     "output_type": "stream",
     "text": [
      "AutoML progress: |████████████████████████████████████████████████████████| 100%\n"
     ]
    }
   ],
   "source": [
    "from h2o.automl import H2OAutoML\n",
    "\n",
    "x = list(set(ext_airbnb.col_names) - set([\"id\", \"host_name\", \"name\", \"price\"]))\n",
    "\n",
    "automl = H2OAutoML(project_name=\"airbnb_word_embeddings\", \n",
    "                   max_models=5, # small for demo purposes\n",
    "                   max_runtime_secs=300,\n",
    "                   sort_metric=\"MAE\",\n",
    "                   exclude_algos=[\"StackedEnsemble\"]\n",
    "                  )\n",
    "automl.train(training_frame=ext_airbnb, y = \"price\", x = x)"
   ]
  },
  {
   "cell_type": "code",
   "execution_count": 277,
   "metadata": {},
   "outputs": [
    {
     "data": {
      "text/html": [
       "<table>\n",
       "<thead>\n",
       "<tr><th>model_id                        </th><th style=\"text-align: right;\">     mae</th><th style=\"text-align: right;\">  mean_residual_deviance</th><th style=\"text-align: right;\">   rmse</th><th style=\"text-align: right;\">    mse</th><th style=\"text-align: right;\">     rmsle</th></tr>\n",
       "</thead>\n",
       "<tbody>\n",
       "<tr><td>XGBoost_3_AutoML_20200603_145721</td><td style=\"text-align: right;\"> 70.7598</td><td style=\"text-align: right;\">                 56237.1</td><td style=\"text-align: right;\">237.144</td><td style=\"text-align: right;\">56237.1</td><td style=\"text-align: right;\">  0.596819</td></tr>\n",
       "<tr><td>GLM_1_AutoML_20200603_145721    </td><td style=\"text-align: right;\"> 71.0398</td><td style=\"text-align: right;\">                 50204.7</td><td style=\"text-align: right;\">224.064</td><td style=\"text-align: right;\">50204.7</td><td style=\"text-align: right;\">nan       </td></tr>\n",
       "<tr><td>DRF_1_AutoML_20200603_145721    </td><td style=\"text-align: right;\"> 78.5304</td><td style=\"text-align: right;\">                 72655.3</td><td style=\"text-align: right;\">269.546</td><td style=\"text-align: right;\">72655.3</td><td style=\"text-align: right;\">  0.561155</td></tr>\n",
       "<tr><td>XGBoost_1_AutoML_20200603_145721</td><td style=\"text-align: right;\"> 83.7559</td><td style=\"text-align: right;\">                 58438  </td><td style=\"text-align: right;\">241.74 </td><td style=\"text-align: right;\">58438  </td><td style=\"text-align: right;\">nan       </td></tr>\n",
       "<tr><td>XGBoost_2_AutoML_20200603_145721</td><td style=\"text-align: right;\">111.29  </td><td style=\"text-align: right;\">                 65883  </td><td style=\"text-align: right;\">256.677</td><td style=\"text-align: right;\">65883  </td><td style=\"text-align: right;\">  1.26571 </td></tr>\n",
       "</tbody>\n",
       "</table>"
      ]
     },
     "metadata": {},
     "output_type": "display_data"
    },
    {
     "data": {
      "text/plain": []
     },
     "execution_count": 277,
     "metadata": {},
     "output_type": "execute_result"
    }
   ],
   "source": [
    "automl.leaderboard"
   ]
  },
  {
   "cell_type": "code",
   "execution_count": 278,
   "metadata": {},
   "outputs": [],
   "source": [
    "model = automl.leader"
   ]
  },
  {
   "cell_type": "markdown",
   "metadata": {},
   "source": [
    "## Step 4: Interpret our Model\n",
    "\n",
    "Now that we have chosen our model based on the Mean Absolute Error, we can analyze the model and determine how it predicts price.\n",
    "\n",
    "We first look at the most important variables in the model and how those variables affect the price prediction."
   ]
  },
  {
   "cell_type": "code",
   "execution_count": 279,
   "metadata": {},
   "outputs": [
    {
     "data": {
      "image/png": "[encoded data removed]",
      "text/plain": [
       "<Figure size 1008x720 with 1 Axes>"
      ]
     },
     "metadata": {
      "needs_background": "light"
     },
     "output_type": "display_data"
    }
   ],
   "source": [
    "model.varimp_plot()"
   ]
  },
  {
   "cell_type": "code",
   "execution_count": 280,
   "metadata": {},
   "outputs": [
    {
     "name": "stdout",
     "output_type": "stream",
     "text": [
      "PartialDependencePlot progress: |█████████████████████████████████████████| 100%\n",
      "\n",
      "PartialDependence: Partial Dependence Plot of model XGBoost_3_AutoML_20200603_145721 on column 'room_type'.\n"
     ]
    },
    {
     "data": {
      "text/html": [
       "<div>\n",
       "<style scoped>\n",
       "    .dataframe tbody tr th:only-of-type {\n",
       "        vertical-align: middle;\n",
       "    }\n",
       "\n",
       "    .dataframe tbody tr th {\n",
       "        vertical-align: top;\n",
       "    }\n",
       "\n",
       "    .dataframe thead th {\n",
       "        text-align: right;\n",
       "    }\n",
       "</style>\n",
       "<table border=\"1\" class=\"dataframe\">\n",
       "  <thead>\n",
       "    <tr style=\"text-align: right;\">\n",
       "      <th></th>\n",
       "      <th>room_type</th>\n",
       "      <th>mean_response</th>\n",
       "      <th>stddev_response</th>\n",
       "      <th>std_error_mean_response</th>\n",
       "    </tr>\n",
       "  </thead>\n",
       "  <tbody>\n",
       "    <tr>\n",
       "      <th>0</th>\n",
       "      <td>Entire home/apt</td>\n",
       "      <td>101.539330</td>\n",
       "      <td>40.689900</td>\n",
       "      <td>0.184015</td>\n",
       "    </tr>\n",
       "    <tr>\n",
       "      <th>1</th>\n",
       "      <td>Private room</td>\n",
       "      <td>49.053205</td>\n",
       "      <td>33.238009</td>\n",
       "      <td>0.150315</td>\n",
       "    </tr>\n",
       "    <tr>\n",
       "      <th>2</th>\n",
       "      <td>Shared room</td>\n",
       "      <td>68.370854</td>\n",
       "      <td>40.763259</td>\n",
       "      <td>0.184347</td>\n",
       "    </tr>\n",
       "  </tbody>\n",
       "</table>\n",
       "</div>"
      ],
      "text/plain": [
       "         room_type  mean_response  stddev_response  std_error_mean_response\n",
       "0  Entire home/apt     101.539330        40.689900                 0.184015\n",
       "1     Private room      49.053205        33.238009                 0.150315\n",
       "2      Shared room      68.370854        40.763259                 0.184347"
      ]
     },
     "metadata": {},
     "output_type": "display_data"
    },
    {
     "data": {
      "text/plain": [
       "[]"
      ]
     },
     "execution_count": 280,
     "metadata": {},
     "output_type": "execute_result"
    },
    {
     "data": {
      "image/png": "[encoded data removed]",
      "text/plain": [
       "<Figure size 504x720 with 1 Axes>"
      ]
     },
     "metadata": {
      "needs_background": "light"
     },
     "output_type": "display_data"
    }
   ],
   "source": [
    "model.partial_plot(ext_airbnb, cols = [\"room_type\"])"
   ]
  },
  {
   "cell_type": "code",
   "execution_count": 281,
   "metadata": {},
   "outputs": [
    {
     "name": "stdout",
     "output_type": "stream",
     "text": [
      "PartialDependencePlot progress: |█████████████████████████████████████████| 100%\n",
      "\n",
      "PartialDependence: Partial Dependence Plot of model XGBoost_3_AutoML_20200603_145721 on column 'availability_365'.\n"
     ]
    },
    {
     "data": {
      "text/html": [
       "<div>\n",
       "<style scoped>\n",
       "    .dataframe tbody tr th:only-of-type {\n",
       "        vertical-align: middle;\n",
       "    }\n",
       "\n",
       "    .dataframe tbody tr th {\n",
       "        vertical-align: top;\n",
       "    }\n",
       "\n",
       "    .dataframe thead th {\n",
       "        text-align: right;\n",
       "    }\n",
       "</style>\n",
       "<table border=\"1\" class=\"dataframe\">\n",
       "  <thead>\n",
       "    <tr style=\"text-align: right;\">\n",
       "      <th></th>\n",
       "      <th>availability_365</th>\n",
       "      <th>mean_response</th>\n",
       "      <th>stddev_response</th>\n",
       "      <th>std_error_mean_response</th>\n",
       "    </tr>\n",
       "  </thead>\n",
       "  <tbody>\n",
       "    <tr>\n",
       "      <th>0</th>\n",
       "      <td>0.000000</td>\n",
       "      <td>76.669962</td>\n",
       "      <td>45.733921</td>\n",
       "      <td>0.206827</td>\n",
       "    </tr>\n",
       "    <tr>\n",
       "      <th>1</th>\n",
       "      <td>19.210526</td>\n",
       "      <td>76.669962</td>\n",
       "      <td>45.733921</td>\n",
       "      <td>0.206827</td>\n",
       "    </tr>\n",
       "    <tr>\n",
       "      <th>2</th>\n",
       "      <td>38.421053</td>\n",
       "      <td>76.669962</td>\n",
       "      <td>45.733921</td>\n",
       "      <td>0.206827</td>\n",
       "    </tr>\n",
       "    <tr>\n",
       "      <th>3</th>\n",
       "      <td>57.631579</td>\n",
       "      <td>76.669962</td>\n",
       "      <td>45.733921</td>\n",
       "      <td>0.206827</td>\n",
       "    </tr>\n",
       "    <tr>\n",
       "      <th>4</th>\n",
       "      <td>76.842105</td>\n",
       "      <td>76.669962</td>\n",
       "      <td>45.733921</td>\n",
       "      <td>0.206827</td>\n",
       "    </tr>\n",
       "    <tr>\n",
       "      <th>5</th>\n",
       "      <td>96.052632</td>\n",
       "      <td>76.305444</td>\n",
       "      <td>38.917909</td>\n",
       "      <td>0.176002</td>\n",
       "    </tr>\n",
       "    <tr>\n",
       "      <th>6</th>\n",
       "      <td>115.263158</td>\n",
       "      <td>76.305444</td>\n",
       "      <td>38.917909</td>\n",
       "      <td>0.176002</td>\n",
       "    </tr>\n",
       "    <tr>\n",
       "      <th>7</th>\n",
       "      <td>134.473684</td>\n",
       "      <td>76.305444</td>\n",
       "      <td>38.917909</td>\n",
       "      <td>0.176002</td>\n",
       "    </tr>\n",
       "    <tr>\n",
       "      <th>8</th>\n",
       "      <td>153.684211</td>\n",
       "      <td>76.305444</td>\n",
       "      <td>38.917909</td>\n",
       "      <td>0.176002</td>\n",
       "    </tr>\n",
       "    <tr>\n",
       "      <th>9</th>\n",
       "      <td>172.894737</td>\n",
       "      <td>76.305444</td>\n",
       "      <td>38.917909</td>\n",
       "      <td>0.176002</td>\n",
       "    </tr>\n",
       "    <tr>\n",
       "      <th>10</th>\n",
       "      <td>192.105263</td>\n",
       "      <td>76.305444</td>\n",
       "      <td>38.917909</td>\n",
       "      <td>0.176002</td>\n",
       "    </tr>\n",
       "    <tr>\n",
       "      <th>11</th>\n",
       "      <td>211.315789</td>\n",
       "      <td>76.305444</td>\n",
       "      <td>38.917909</td>\n",
       "      <td>0.176002</td>\n",
       "    </tr>\n",
       "    <tr>\n",
       "      <th>12</th>\n",
       "      <td>230.526316</td>\n",
       "      <td>76.305444</td>\n",
       "      <td>38.917909</td>\n",
       "      <td>0.176002</td>\n",
       "    </tr>\n",
       "    <tr>\n",
       "      <th>13</th>\n",
       "      <td>249.736842</td>\n",
       "      <td>76.305444</td>\n",
       "      <td>38.917909</td>\n",
       "      <td>0.176002</td>\n",
       "    </tr>\n",
       "    <tr>\n",
       "      <th>14</th>\n",
       "      <td>268.947368</td>\n",
       "      <td>76.305444</td>\n",
       "      <td>38.917909</td>\n",
       "      <td>0.176002</td>\n",
       "    </tr>\n",
       "    <tr>\n",
       "      <th>15</th>\n",
       "      <td>288.157895</td>\n",
       "      <td>76.305444</td>\n",
       "      <td>38.917909</td>\n",
       "      <td>0.176002</td>\n",
       "    </tr>\n",
       "    <tr>\n",
       "      <th>16</th>\n",
       "      <td>307.368421</td>\n",
       "      <td>76.305444</td>\n",
       "      <td>38.917909</td>\n",
       "      <td>0.176002</td>\n",
       "    </tr>\n",
       "    <tr>\n",
       "      <th>17</th>\n",
       "      <td>326.578947</td>\n",
       "      <td>76.305444</td>\n",
       "      <td>38.917909</td>\n",
       "      <td>0.176002</td>\n",
       "    </tr>\n",
       "    <tr>\n",
       "      <th>18</th>\n",
       "      <td>345.789474</td>\n",
       "      <td>76.305444</td>\n",
       "      <td>38.917909</td>\n",
       "      <td>0.176002</td>\n",
       "    </tr>\n",
       "    <tr>\n",
       "      <th>19</th>\n",
       "      <td>365.000000</td>\n",
       "      <td>114.546067</td>\n",
       "      <td>100.790707</td>\n",
       "      <td>0.455815</td>\n",
       "    </tr>\n",
       "  </tbody>\n",
       "</table>\n",
       "</div>"
      ],
      "text/plain": [
       "    availability_365  mean_response  stddev_response  std_error_mean_response\n",
       "0           0.000000      76.669962        45.733921                 0.206827\n",
       "1          19.210526      76.669962        45.733921                 0.206827\n",
       "2          38.421053      76.669962        45.733921                 0.206827\n",
       "3          57.631579      76.669962        45.733921                 0.206827\n",
       "4          76.842105      76.669962        45.733921                 0.206827\n",
       "5          96.052632      76.305444        38.917909                 0.176002\n",
       "6         115.263158      76.305444        38.917909                 0.176002\n",
       "7         134.473684      76.305444        38.917909                 0.176002\n",
       "8         153.684211      76.305444        38.917909                 0.176002\n",
       "9         172.894737      76.305444        38.917909                 0.176002\n",
       "10        192.105263      76.305444        38.917909                 0.176002\n",
       "11        211.315789      76.305444        38.917909                 0.176002\n",
       "12        230.526316      76.305444        38.917909                 0.176002\n",
       "13        249.736842      76.305444        38.917909                 0.176002\n",
       "14        268.947368      76.305444        38.917909                 0.176002\n",
       "15        288.157895      76.305444        38.917909                 0.176002\n",
       "16        307.368421      76.305444        38.917909                 0.176002\n",
       "17        326.578947      76.305444        38.917909                 0.176002\n",
       "18        345.789474      76.305444        38.917909                 0.176002\n",
       "19        365.000000     114.546067       100.790707                 0.455815"
      ]
     },
     "metadata": {},
     "output_type": "display_data"
    },
    {
     "data": {
      "text/plain": [
       "[]"
      ]
     },
     "execution_count": 281,
     "metadata": {},
     "output_type": "execute_result"
    },
    {
     "data": {
      "image/png": "[encoded data removed]",
      "text/plain": [
       "<Figure size 504x720 with 1 Axes>"
      ]
     },
     "metadata": {
      "needs_background": "light"
     },
     "output_type": "display_data"
    }
   ],
   "source": [
    "model.partial_plot(ext_airbnb, cols = [\"availability_365\"])"
   ]
  },
  {
   "cell_type": "markdown",
   "metadata": {},
   "source": [
    "Now we will use Shapley contributions to generate reason codes around why the model predicted a specific price."
   ]
  },
  {
   "cell_type": "code",
   "execution_count": 283,
   "metadata": {},
   "outputs": [
    {
     "name": "stdout",
     "output_type": "stream",
     "text": [
      "contributions progress: |█████████████████████████████████████████████████| 100%\n"
     ]
    },
    {
     "data": {
      "text/html": [
       "<table>\n",
       "<thead>\n",
       "<tr><th style=\"text-align: right;\">  price</th><th style=\"text-align: right;\">  neighbourhood.Allerton</th><th style=\"text-align: right;\">  neighbourhood.Arden Heights</th><th style=\"text-align: right;\">  neighbourhood.Arrochar</th><th style=\"text-align: right;\">  neighbourhood.Arverne</th><th style=\"text-align: right;\">  neighbourhood.Astoria</th><th style=\"text-align: right;\">  neighbourhood.Bath Beach</th><th style=\"text-align: right;\">  neighbourhood.Battery Park City</th><th style=\"text-align: right;\">  neighbourhood.Bay Ridge</th><th style=\"text-align: right;\">  neighbourhood.Bay Terrace</th><th style=\"text-align: right;\">  neighbourhood.Bay Terrace, Staten Island</th><th style=\"text-align: right;\">  neighbourhood.Baychester</th><th style=\"text-align: right;\">  neighbourhood.Bayside</th><th style=\"text-align: right;\">  neighbourhood.Bayswater</th><th style=\"text-align: right;\">  neighbourhood.Bedford-Stuyvesant</th><th style=\"text-align: right;\">  neighbourhood.Belle Harbor</th><th style=\"text-align: right;\">  neighbourhood.Bellerose</th><th style=\"text-align: right;\">  neighbourhood.Belmont</th><th style=\"text-align: right;\">  neighbourhood.Bensonhurst</th><th style=\"text-align: right;\">  neighbourhood.Bergen Beach</th><th style=\"text-align: right;\">  neighbourhood.Boerum Hill</th><th style=\"text-align: right;\">  neighbourhood.Borough Park</th><th style=\"text-align: right;\">  neighbourhood.Breezy Point</th><th style=\"text-align: right;\">  neighbourhood.Briarwood</th><th style=\"text-align: right;\">  neighbourhood.Brighton Beach</th><th style=\"text-align: right;\">  neighbourhood.Bronxdale</th><th style=\"text-align: right;\">  neighbourhood.Brooklyn Heights</th><th style=\"text-align: right;\">  neighbourhood.Brownsville</th><th style=\"text-align: right;\">  neighbourhood.Bull's Head</th><th style=\"text-align: right;\">  neighbourhood.Bushwick</th><th style=\"text-align: right;\">  neighbourhood.Cambria Heights</th><th style=\"text-align: right;\">  neighbourhood.Canarsie</th><th style=\"text-align: right;\">  neighbourhood.Carroll Gardens</th><th style=\"text-align: right;\">  neighbourhood.Castle Hill</th><th style=\"text-align: right;\">  neighbourhood.Castleton Corners</th><th style=\"text-align: right;\">  neighbourhood.Chelsea</th><th style=\"text-align: right;\">  neighbourhood.Chinatown</th><th style=\"text-align: right;\">  neighbourhood.City Island</th><th style=\"text-align: right;\">  neighbourhood.Civic Center</th><th style=\"text-align: right;\">  neighbourhood.Claremont Village</th><th style=\"text-align: right;\">  neighbourhood.Clason Point</th><th style=\"text-align: right;\">  neighbourhood.Clifton</th><th style=\"text-align: right;\">  neighbourhood.Clinton Hill</th><th style=\"text-align: right;\">  neighbourhood.Co-op City</th><th style=\"text-align: right;\">  neighbourhood.Cobble Hill</th><th style=\"text-align: right;\">  neighbourhood.College Point</th><th style=\"text-align: right;\">  neighbourhood.Columbia St</th><th style=\"text-align: right;\">  neighbourhood.Concord</th><th style=\"text-align: right;\">  neighbourhood.Concourse</th><th style=\"text-align: right;\">  neighbourhood.Concourse Village</th><th style=\"text-align: right;\">  neighbourhood.Coney Island</th><th style=\"text-align: right;\">  neighbourhood.Corona</th><th style=\"text-align: right;\">  neighbourhood.Crown Heights</th><th style=\"text-align: right;\">  neighbourhood.Cypress Hills</th><th style=\"text-align: right;\">  neighbourhood.DUMBO</th><th style=\"text-align: right;\">  neighbourhood.Ditmars Steinway</th><th style=\"text-align: right;\">  neighbourhood.Dongan Hills</th><th style=\"text-align: right;\">  neighbourhood.Douglaston</th><th style=\"text-align: right;\">  neighbourhood.Downtown Brooklyn</th><th style=\"text-align: right;\">  neighbourhood.Dyker Heights</th><th style=\"text-align: right;\">  neighbourhood.East Elmhurst</th><th style=\"text-align: right;\">  neighbourhood.East Flatbush</th><th style=\"text-align: right;\">  neighbourhood.East Harlem</th><th style=\"text-align: right;\">  neighbourhood.East Morrisania</th><th style=\"text-align: right;\">  neighbourhood.East New York</th><th style=\"text-align: right;\">  neighbourhood.East Village</th><th style=\"text-align: right;\">  neighbourhood.Eastchester</th><th style=\"text-align: right;\">  neighbourhood.Edenwald</th><th style=\"text-align: right;\">  neighbourhood.Edgemere</th><th style=\"text-align: right;\">  neighbourhood.Elmhurst</th><th style=\"text-align: right;\">  neighbourhood.Eltingville</th><th style=\"text-align: right;\">  neighbourhood.Emerson Hill</th><th style=\"text-align: right;\">  neighbourhood.Far Rockaway</th><th style=\"text-align: right;\">  neighbourhood.Fieldston</th><th style=\"text-align: right;\">  neighbourhood.Financial District</th><th style=\"text-align: right;\">  neighbourhood.Flatbush</th><th style=\"text-align: right;\">  neighbourhood.Flatiron District</th><th style=\"text-align: right;\">  neighbourhood.Flatlands</th><th style=\"text-align: right;\">  neighbourhood.Flushing</th><th style=\"text-align: right;\">  neighbourhood.Fordham</th><th style=\"text-align: right;\">  neighbourhood.Forest Hills</th><th style=\"text-align: right;\">  neighbourhood.Fort Greene</th><th style=\"text-align: right;\">  neighbourhood.Fort Hamilton</th><th style=\"text-align: right;\">  neighbourhood.Fort Wadsworth</th><th style=\"text-align: right;\">  neighbourhood.Fresh Meadows</th><th style=\"text-align: right;\">  neighbourhood.Glendale</th><th style=\"text-align: right;\">  neighbourhood.Gowanus</th><th style=\"text-align: right;\">  neighbourhood.Gramercy</th><th style=\"text-align: right;\">  neighbourhood.Graniteville</th><th style=\"text-align: right;\">  neighbourhood.Grant City</th><th style=\"text-align: right;\">  neighbourhood.Gravesend</th><th style=\"text-align: right;\">  neighbourhood.Great Kills</th><th style=\"text-align: right;\">  neighbourhood.Greenpoint</th><th style=\"text-align: right;\">  neighbourhood.Greenwich Village</th><th style=\"text-align: right;\">  neighbourhood.Grymes Hill</th><th style=\"text-align: right;\">  neighbourhood.Harlem</th><th style=\"text-align: right;\">  neighbourhood.Hell's Kitchen</th><th style=\"text-align: right;\">  neighbourhood.Highbridge</th><th style=\"text-align: right;\">  neighbourhood.Hollis</th><th style=\"text-align: right;\">  neighbourhood.Holliswood</th><th style=\"text-align: right;\">  neighbourhood.Howard Beach</th><th style=\"text-align: right;\">  neighbourhood.Howland Hook</th><th style=\"text-align: right;\">  neighbourhood.Huguenot</th><th style=\"text-align: right;\">  neighbourhood.Hunts Point</th><th style=\"text-align: right;\">  neighbourhood.Inwood</th><th style=\"text-align: right;\">  neighbourhood.Jackson Heights</th><th style=\"text-align: right;\">  neighbourhood.Jamaica</th><th style=\"text-align: right;\">  neighbourhood.Jamaica Estates</th><th style=\"text-align: right;\">  neighbourhood.Jamaica Hills</th><th style=\"text-align: right;\">  neighbourhood.Kensington</th><th style=\"text-align: right;\">  neighbourhood.Kew Gardens</th><th style=\"text-align: right;\">  neighbourhood.Kew Gardens Hills</th><th style=\"text-align: right;\">  neighbourhood.Kingsbridge</th><th style=\"text-align: right;\">  neighbourhood.Kips Bay</th><th style=\"text-align: right;\">  neighbourhood.Laurelton</th><th style=\"text-align: right;\">  neighbourhood.Lighthouse Hill</th><th style=\"text-align: right;\">  neighbourhood.Little Italy</th><th style=\"text-align: right;\">  neighbourhood.Little Neck</th><th style=\"text-align: right;\">  neighbourhood.Long Island City</th><th style=\"text-align: right;\">  neighbourhood.Longwood</th><th style=\"text-align: right;\">  neighbourhood.Lower East Side</th><th style=\"text-align: right;\">  neighbourhood.Manhattan Beach</th><th style=\"text-align: right;\">  neighbourhood.Marble Hill</th><th style=\"text-align: right;\">  neighbourhood.Mariners Harbor</th><th style=\"text-align: right;\">  neighbourhood.Maspeth</th><th style=\"text-align: right;\">  neighbourhood.Melrose</th><th style=\"text-align: right;\">  neighbourhood.Middle Village</th><th style=\"text-align: right;\">  neighbourhood.Midland Beach</th><th style=\"text-align: right;\">  neighbourhood.Midtown</th><th style=\"text-align: right;\">  neighbourhood.Midwood</th><th style=\"text-align: right;\">  neighbourhood.Mill Basin</th><th style=\"text-align: right;\">  neighbourhood.Morningside Heights</th><th style=\"text-align: right;\">  neighbourhood.Morris Heights</th><th style=\"text-align: right;\">  neighbourhood.Morris Park</th><th style=\"text-align: right;\">  neighbourhood.Morrisania</th><th style=\"text-align: right;\">  neighbourhood.Mott Haven</th><th style=\"text-align: right;\">  neighbourhood.Mount Eden</th><th style=\"text-align: right;\">  neighbourhood.Mount Hope</th><th style=\"text-align: right;\">  neighbourhood.Murray Hill</th><th style=\"text-align: right;\">  neighbourhood.Navy Yard</th><th style=\"text-align: right;\">  neighbourhood.Neponsit</th><th style=\"text-align: right;\">  neighbourhood.New Brighton</th><th style=\"text-align: right;\">  neighbourhood.New Dorp</th><th style=\"text-align: right;\">  neighbourhood.New Dorp Beach</th><th style=\"text-align: right;\">  neighbourhood.New Springville</th><th style=\"text-align: right;\">  neighbourhood.NoHo</th><th style=\"text-align: right;\">  neighbourhood.Nolita</th><th style=\"text-align: right;\">  neighbourhood.North Riverdale</th><th style=\"text-align: right;\">  neighbourhood.Norwood</th><th style=\"text-align: right;\">  neighbourhood.Oakwood</th><th style=\"text-align: right;\">  neighbourhood.Olinville</th><th style=\"text-align: right;\">  neighbourhood.Ozone Park</th><th style=\"text-align: right;\">  neighbourhood.Park Slope</th><th style=\"text-align: right;\">  neighbourhood.Parkchester</th><th style=\"text-align: right;\">  neighbourhood.Pelham Bay</th><th style=\"text-align: right;\">  neighbourhood.Pelham Gardens</th><th style=\"text-align: right;\">  neighbourhood.Port Morris</th><th style=\"text-align: right;\">  neighbourhood.Port Richmond</th><th style=\"text-align: right;\">  neighbourhood.Prince's Bay</th><th style=\"text-align: right;\">  neighbourhood.Prospect Heights</th><th style=\"text-align: right;\">  neighbourhood.Prospect-Lefferts Gardens</th><th style=\"text-align: right;\">  neighbourhood.Queens Village</th><th style=\"text-align: right;\">  neighbourhood.Randall Manor</th><th style=\"text-align: right;\">  neighbourhood.Red Hook</th><th style=\"text-align: right;\">  neighbourhood.Rego Park</th><th style=\"text-align: right;\">  neighbourhood.Richmond Hill</th><th style=\"text-align: right;\">  neighbourhood.Richmondtown</th><th style=\"text-align: right;\">  neighbourhood.Ridgewood</th><th style=\"text-align: right;\">  neighbourhood.Riverdale</th><th style=\"text-align: right;\">  neighbourhood.Rockaway Beach</th><th style=\"text-align: right;\">  neighbourhood.Roosevelt Island</th><th style=\"text-align: right;\">  neighbourhood.Rosebank</th><th style=\"text-align: right;\">  neighbourhood.Rosedale</th><th style=\"text-align: right;\">  neighbourhood.Rossville</th><th style=\"text-align: right;\">  neighbourhood.Schuylerville</th><th style=\"text-align: right;\">  neighbourhood.Sea Gate</th><th style=\"text-align: right;\">  neighbourhood.Sheepshead Bay</th><th style=\"text-align: right;\">  neighbourhood.Shore Acres</th><th style=\"text-align: right;\">  neighbourhood.Silver Lake</th><th style=\"text-align: right;\">  neighbourhood.SoHo</th><th style=\"text-align: right;\">  neighbourhood.Soundview</th><th style=\"text-align: right;\">  neighbourhood.South Beach</th><th style=\"text-align: right;\">  neighbourhood.South Ozone Park</th><th style=\"text-align: right;\">  neighbourhood.South Slope</th><th style=\"text-align: right;\">  neighbourhood.Springfield Gardens</th><th style=\"text-align: right;\">  neighbourhood.Spuyten Duyvil</th><th style=\"text-align: right;\">  neighbourhood.St. Albans</th><th style=\"text-align: right;\">  neighbourhood.St. George</th><th style=\"text-align: right;\">  neighbourhood.Stapleton</th><th style=\"text-align: right;\">  neighbourhood.Stuyvesant Town</th><th style=\"text-align: right;\">  neighbourhood.Sunnyside</th><th style=\"text-align: right;\">  neighbourhood.Sunset Park</th><th style=\"text-align: right;\">  neighbourhood.Theater District</th><th style=\"text-align: right;\">  neighbourhood.Throgs Neck</th><th style=\"text-align: right;\">  neighbourhood.Todt Hill</th><th style=\"text-align: right;\">  neighbourhood.Tompkinsville</th><th style=\"text-align: right;\">  neighbourhood.Tottenville</th><th style=\"text-align: right;\">  neighbourhood.Tremont</th><th style=\"text-align: right;\">  neighbourhood.Tribeca</th><th style=\"text-align: right;\">  neighbourhood.Two Bridges</th></tr>\n",
       "</thead>\n",
       "<tbody>\n",
       "<tr><td style=\"text-align: right;\">    149</td><td style=\"text-align: right;\">                       0</td><td style=\"text-align: right;\">                            0</td><td style=\"text-align: right;\">                       0</td><td style=\"text-align: right;\">                      0</td><td style=\"text-align: right;\">                      0</td><td style=\"text-align: right;\">                         0</td><td style=\"text-align: right;\">                                0</td><td style=\"text-align: right;\">                        0</td><td style=\"text-align: right;\">                          0</td><td style=\"text-align: right;\">                                         0</td><td style=\"text-align: right;\">                         0</td><td style=\"text-align: right;\">                      0</td><td style=\"text-align: right;\">                        0</td><td style=\"text-align: right;\">                                 0</td><td style=\"text-align: right;\">                           0</td><td style=\"text-align: right;\">                        0</td><td style=\"text-align: right;\">                      0</td><td style=\"text-align: right;\">                          0</td><td style=\"text-align: right;\">                           0</td><td style=\"text-align: right;\">                          0</td><td style=\"text-align: right;\">                           0</td><td style=\"text-align: right;\">                           0</td><td style=\"text-align: right;\">                        0</td><td style=\"text-align: right;\">                             0</td><td style=\"text-align: right;\">                        0</td><td style=\"text-align: right;\">                               0</td><td style=\"text-align: right;\">                          0</td><td style=\"text-align: right;\">                          0</td><td style=\"text-align: right;\">                       0</td><td style=\"text-align: right;\">                              0</td><td style=\"text-align: right;\">                       0</td><td style=\"text-align: right;\">                              0</td><td style=\"text-align: right;\">                          0</td><td style=\"text-align: right;\">                                0</td><td style=\"text-align: right;\">                      0</td><td style=\"text-align: right;\">                        0</td><td style=\"text-align: right;\">                          0</td><td style=\"text-align: right;\">                           0</td><td style=\"text-align: right;\">                                0</td><td style=\"text-align: right;\">                           0</td><td style=\"text-align: right;\">                      0</td><td style=\"text-align: right;\">                           0</td><td style=\"text-align: right;\">                         0</td><td style=\"text-align: right;\">                          0</td><td style=\"text-align: right;\">                            0</td><td style=\"text-align: right;\">                          0</td><td style=\"text-align: right;\">                      0</td><td style=\"text-align: right;\">                        0</td><td style=\"text-align: right;\">                                0</td><td style=\"text-align: right;\">                           0</td><td style=\"text-align: right;\">                     0</td><td style=\"text-align: right;\">                            0</td><td style=\"text-align: right;\">                            0</td><td style=\"text-align: right;\">                    0</td><td style=\"text-align: right;\">                               0</td><td style=\"text-align: right;\">                           0</td><td style=\"text-align: right;\">                         0</td><td style=\"text-align: right;\">                                0</td><td style=\"text-align: right;\">                            0</td><td style=\"text-align: right;\">                            0</td><td style=\"text-align: right;\">                            0</td><td style=\"text-align: right;\">                          0</td><td style=\"text-align: right;\">                              0</td><td style=\"text-align: right;\">                            0</td><td style=\"text-align: right;\">                           0</td><td style=\"text-align: right;\">                          0</td><td style=\"text-align: right;\">                       0</td><td style=\"text-align: right;\">                       0</td><td style=\"text-align: right;\">                       0</td><td style=\"text-align: right;\">                          0</td><td style=\"text-align: right;\">                           0</td><td style=\"text-align: right;\">                           0</td><td style=\"text-align: right;\">                        0</td><td style=\"text-align: right;\">                                 0</td><td style=\"text-align: right;\">                       0</td><td style=\"text-align: right;\">                                0</td><td style=\"text-align: right;\">                        0</td><td style=\"text-align: right;\">                       0</td><td style=\"text-align: right;\">                      0</td><td style=\"text-align: right;\">                           0</td><td style=\"text-align: right;\">                          0</td><td style=\"text-align: right;\">                            0</td><td style=\"text-align: right;\">                             0</td><td style=\"text-align: right;\">                            0</td><td style=\"text-align: right;\">                       0</td><td style=\"text-align: right;\">                      0</td><td style=\"text-align: right;\">                       0</td><td style=\"text-align: right;\">                           0</td><td style=\"text-align: right;\">                         0</td><td style=\"text-align: right;\">                        0</td><td style=\"text-align: right;\">                          0</td><td style=\"text-align: right;\">                         0</td><td style=\"text-align: right;\">                                0</td><td style=\"text-align: right;\">                          0</td><td style=\"text-align: right;\">                     0</td><td style=\"text-align: right;\">                             0</td><td style=\"text-align: right;\">                         0</td><td style=\"text-align: right;\">                     0</td><td style=\"text-align: right;\">                         0</td><td style=\"text-align: right;\">                           0</td><td style=\"text-align: right;\">                           0</td><td style=\"text-align: right;\">                       0</td><td style=\"text-align: right;\">                          0</td><td style=\"text-align: right;\">                     0</td><td style=\"text-align: right;\">                              0</td><td style=\"text-align: right;\">                      0</td><td style=\"text-align: right;\">                              0</td><td style=\"text-align: right;\">                            0</td><td style=\"text-align: right;\">                         0</td><td style=\"text-align: right;\">                          0</td><td style=\"text-align: right;\">                                0</td><td style=\"text-align: right;\">                          0</td><td style=\"text-align: right;\">                       0</td><td style=\"text-align: right;\">                        0</td><td style=\"text-align: right;\">                              0</td><td style=\"text-align: right;\">                           0</td><td style=\"text-align: right;\">                          0</td><td style=\"text-align: right;\">                               0</td><td style=\"text-align: right;\">                       0</td><td style=\"text-align: right;\">                              0</td><td style=\"text-align: right;\">                              0</td><td style=\"text-align: right;\">                          0</td><td style=\"text-align: right;\">                              0</td><td style=\"text-align: right;\">                      0</td><td style=\"text-align: right;\">                      0</td><td style=\"text-align: right;\">                             0</td><td style=\"text-align: right;\">                            0</td><td style=\"text-align: right;\">              -1.12713 </td><td style=\"text-align: right;\">                      0</td><td style=\"text-align: right;\">                         0</td><td style=\"text-align: right;\">                                  0</td><td style=\"text-align: right;\">                             0</td><td style=\"text-align: right;\">                          0</td><td style=\"text-align: right;\">                         0</td><td style=\"text-align: right;\">                         0</td><td style=\"text-align: right;\">                         0</td><td style=\"text-align: right;\">                         0</td><td style=\"text-align: right;\">                          0</td><td style=\"text-align: right;\">                        0</td><td style=\"text-align: right;\">                       0</td><td style=\"text-align: right;\">                           0</td><td style=\"text-align: right;\">                       0</td><td style=\"text-align: right;\">                             0</td><td style=\"text-align: right;\">                              0</td><td style=\"text-align: right;\">                   0</td><td style=\"text-align: right;\">                     0</td><td style=\"text-align: right;\">                              0</td><td style=\"text-align: right;\">                      0</td><td style=\"text-align: right;\">                      0</td><td style=\"text-align: right;\">                        0</td><td style=\"text-align: right;\">                         0</td><td style=\"text-align: right;\">                         0</td><td style=\"text-align: right;\">                          0</td><td style=\"text-align: right;\">                         0</td><td style=\"text-align: right;\">                             0</td><td style=\"text-align: right;\">                          0</td><td style=\"text-align: right;\">                            0</td><td style=\"text-align: right;\">                           0</td><td style=\"text-align: right;\">                               0</td><td style=\"text-align: right;\">                                        0</td><td style=\"text-align: right;\">                             0</td><td style=\"text-align: right;\">                            0</td><td style=\"text-align: right;\">                       0</td><td style=\"text-align: right;\">                        0</td><td style=\"text-align: right;\">                            0</td><td style=\"text-align: right;\">                           0</td><td style=\"text-align: right;\">                        0</td><td style=\"text-align: right;\">              -0.0122537 </td><td style=\"text-align: right;\">                             0</td><td style=\"text-align: right;\">                               0</td><td style=\"text-align: right;\">                       0</td><td style=\"text-align: right;\">                       0</td><td style=\"text-align: right;\">                        0</td><td style=\"text-align: right;\">                            0</td><td style=\"text-align: right;\">             -0.00418479</td><td style=\"text-align: right;\">                             0</td><td style=\"text-align: right;\">                          0</td><td style=\"text-align: right;\">                          0</td><td style=\"text-align: right;\">                   0</td><td style=\"text-align: right;\">                        0</td><td style=\"text-align: right;\">                          0</td><td style=\"text-align: right;\">                               0</td><td style=\"text-align: right;\">                          0</td><td style=\"text-align: right;\">                                  0</td><td style=\"text-align: right;\">                             0</td><td style=\"text-align: right;\">                         0</td><td style=\"text-align: right;\">                         0</td><td style=\"text-align: right;\">                        0</td><td style=\"text-align: right;\">                              0</td><td style=\"text-align: right;\">                        0</td><td style=\"text-align: right;\">                          0</td><td style=\"text-align: right;\">                               0</td><td style=\"text-align: right;\">                          0</td><td style=\"text-align: right;\">                        0</td><td style=\"text-align: right;\">                            0</td><td style=\"text-align: right;\">                          0</td><td style=\"text-align: right;\">                      0</td><td style=\"text-align: right;\">                      0</td><td style=\"text-align: right;\">                          0</td></tr>\n",
       "<tr><td style=\"text-align: right;\">    225</td><td style=\"text-align: right;\">                       0</td><td style=\"text-align: right;\">                            0</td><td style=\"text-align: right;\">                       0</td><td style=\"text-align: right;\">                      0</td><td style=\"text-align: right;\">                      0</td><td style=\"text-align: right;\">                         0</td><td style=\"text-align: right;\">                                0</td><td style=\"text-align: right;\">                        0</td><td style=\"text-align: right;\">                          0</td><td style=\"text-align: right;\">                                         0</td><td style=\"text-align: right;\">                         0</td><td style=\"text-align: right;\">                      0</td><td style=\"text-align: right;\">                        0</td><td style=\"text-align: right;\">                                 0</td><td style=\"text-align: right;\">                           0</td><td style=\"text-align: right;\">                        0</td><td style=\"text-align: right;\">                      0</td><td style=\"text-align: right;\">                          0</td><td style=\"text-align: right;\">                           0</td><td style=\"text-align: right;\">                          0</td><td style=\"text-align: right;\">                           0</td><td style=\"text-align: right;\">                           0</td><td style=\"text-align: right;\">                        0</td><td style=\"text-align: right;\">                             0</td><td style=\"text-align: right;\">                        0</td><td style=\"text-align: right;\">                               0</td><td style=\"text-align: right;\">                          0</td><td style=\"text-align: right;\">                          0</td><td style=\"text-align: right;\">                       0</td><td style=\"text-align: right;\">                              0</td><td style=\"text-align: right;\">                       0</td><td style=\"text-align: right;\">                              0</td><td style=\"text-align: right;\">                          0</td><td style=\"text-align: right;\">                                0</td><td style=\"text-align: right;\">                      0</td><td style=\"text-align: right;\">                        0</td><td style=\"text-align: right;\">                          0</td><td style=\"text-align: right;\">                           0</td><td style=\"text-align: right;\">                                0</td><td style=\"text-align: right;\">                           0</td><td style=\"text-align: right;\">                      0</td><td style=\"text-align: right;\">                           0</td><td style=\"text-align: right;\">                         0</td><td style=\"text-align: right;\">                          0</td><td style=\"text-align: right;\">                            0</td><td style=\"text-align: right;\">                          0</td><td style=\"text-align: right;\">                      0</td><td style=\"text-align: right;\">                        0</td><td style=\"text-align: right;\">                                0</td><td style=\"text-align: right;\">                           0</td><td style=\"text-align: right;\">                     0</td><td style=\"text-align: right;\">                            0</td><td style=\"text-align: right;\">                            0</td><td style=\"text-align: right;\">                    0</td><td style=\"text-align: right;\">                               0</td><td style=\"text-align: right;\">                           0</td><td style=\"text-align: right;\">                         0</td><td style=\"text-align: right;\">                                0</td><td style=\"text-align: right;\">                            0</td><td style=\"text-align: right;\">                            0</td><td style=\"text-align: right;\">                            0</td><td style=\"text-align: right;\">                          0</td><td style=\"text-align: right;\">                              0</td><td style=\"text-align: right;\">                            0</td><td style=\"text-align: right;\">                           0</td><td style=\"text-align: right;\">                          0</td><td style=\"text-align: right;\">                       0</td><td style=\"text-align: right;\">                       0</td><td style=\"text-align: right;\">                       0</td><td style=\"text-align: right;\">                          0</td><td style=\"text-align: right;\">                           0</td><td style=\"text-align: right;\">                           0</td><td style=\"text-align: right;\">                        0</td><td style=\"text-align: right;\">                                 0</td><td style=\"text-align: right;\">                       0</td><td style=\"text-align: right;\">                                0</td><td style=\"text-align: right;\">                        0</td><td style=\"text-align: right;\">                       0</td><td style=\"text-align: right;\">                      0</td><td style=\"text-align: right;\">                           0</td><td style=\"text-align: right;\">                          0</td><td style=\"text-align: right;\">                            0</td><td style=\"text-align: right;\">                             0</td><td style=\"text-align: right;\">                            0</td><td style=\"text-align: right;\">                       0</td><td style=\"text-align: right;\">                      0</td><td style=\"text-align: right;\">                       0</td><td style=\"text-align: right;\">                           0</td><td style=\"text-align: right;\">                         0</td><td style=\"text-align: right;\">                        0</td><td style=\"text-align: right;\">                          0</td><td style=\"text-align: right;\">                         0</td><td style=\"text-align: right;\">                                0</td><td style=\"text-align: right;\">                          0</td><td style=\"text-align: right;\">                     0</td><td style=\"text-align: right;\">                             0</td><td style=\"text-align: right;\">                         0</td><td style=\"text-align: right;\">                     0</td><td style=\"text-align: right;\">                         0</td><td style=\"text-align: right;\">                           0</td><td style=\"text-align: right;\">                           0</td><td style=\"text-align: right;\">                       0</td><td style=\"text-align: right;\">                          0</td><td style=\"text-align: right;\">                     0</td><td style=\"text-align: right;\">                              0</td><td style=\"text-align: right;\">                      0</td><td style=\"text-align: right;\">                              0</td><td style=\"text-align: right;\">                            0</td><td style=\"text-align: right;\">                         0</td><td style=\"text-align: right;\">                          0</td><td style=\"text-align: right;\">                                0</td><td style=\"text-align: right;\">                          0</td><td style=\"text-align: right;\">                       0</td><td style=\"text-align: right;\">                        0</td><td style=\"text-align: right;\">                              0</td><td style=\"text-align: right;\">                           0</td><td style=\"text-align: right;\">                          0</td><td style=\"text-align: right;\">                               0</td><td style=\"text-align: right;\">                       0</td><td style=\"text-align: right;\">                              0</td><td style=\"text-align: right;\">                              0</td><td style=\"text-align: right;\">                          0</td><td style=\"text-align: right;\">                              0</td><td style=\"text-align: right;\">                      0</td><td style=\"text-align: right;\">                      0</td><td style=\"text-align: right;\">                             0</td><td style=\"text-align: right;\">                            0</td><td style=\"text-align: right;\">              13.6441  </td><td style=\"text-align: right;\">                      0</td><td style=\"text-align: right;\">                         0</td><td style=\"text-align: right;\">                                  0</td><td style=\"text-align: right;\">                             0</td><td style=\"text-align: right;\">                          0</td><td style=\"text-align: right;\">                         0</td><td style=\"text-align: right;\">                         0</td><td style=\"text-align: right;\">                         0</td><td style=\"text-align: right;\">                         0</td><td style=\"text-align: right;\">                          0</td><td style=\"text-align: right;\">                        0</td><td style=\"text-align: right;\">                       0</td><td style=\"text-align: right;\">                           0</td><td style=\"text-align: right;\">                       0</td><td style=\"text-align: right;\">                             0</td><td style=\"text-align: right;\">                              0</td><td style=\"text-align: right;\">                   0</td><td style=\"text-align: right;\">                     0</td><td style=\"text-align: right;\">                              0</td><td style=\"text-align: right;\">                      0</td><td style=\"text-align: right;\">                      0</td><td style=\"text-align: right;\">                        0</td><td style=\"text-align: right;\">                         0</td><td style=\"text-align: right;\">                         0</td><td style=\"text-align: right;\">                          0</td><td style=\"text-align: right;\">                         0</td><td style=\"text-align: right;\">                             0</td><td style=\"text-align: right;\">                          0</td><td style=\"text-align: right;\">                            0</td><td style=\"text-align: right;\">                           0</td><td style=\"text-align: right;\">                               0</td><td style=\"text-align: right;\">                                        0</td><td style=\"text-align: right;\">                             0</td><td style=\"text-align: right;\">                            0</td><td style=\"text-align: right;\">                       0</td><td style=\"text-align: right;\">                        0</td><td style=\"text-align: right;\">                            0</td><td style=\"text-align: right;\">                           0</td><td style=\"text-align: right;\">                        0</td><td style=\"text-align: right;\">              -0.00435551</td><td style=\"text-align: right;\">                             0</td><td style=\"text-align: right;\">                               0</td><td style=\"text-align: right;\">                       0</td><td style=\"text-align: right;\">                       0</td><td style=\"text-align: right;\">                        0</td><td style=\"text-align: right;\">                            0</td><td style=\"text-align: right;\">             -0.0156747 </td><td style=\"text-align: right;\">                             0</td><td style=\"text-align: right;\">                          0</td><td style=\"text-align: right;\">                          0</td><td style=\"text-align: right;\">                   0</td><td style=\"text-align: right;\">                        0</td><td style=\"text-align: right;\">                          0</td><td style=\"text-align: right;\">                               0</td><td style=\"text-align: right;\">                          0</td><td style=\"text-align: right;\">                                  0</td><td style=\"text-align: right;\">                             0</td><td style=\"text-align: right;\">                         0</td><td style=\"text-align: right;\">                         0</td><td style=\"text-align: right;\">                        0</td><td style=\"text-align: right;\">                              0</td><td style=\"text-align: right;\">                        0</td><td style=\"text-align: right;\">                          0</td><td style=\"text-align: right;\">                               0</td><td style=\"text-align: right;\">                          0</td><td style=\"text-align: right;\">                        0</td><td style=\"text-align: right;\">                            0</td><td style=\"text-align: right;\">                          0</td><td style=\"text-align: right;\">                      0</td><td style=\"text-align: right;\">                      0</td><td style=\"text-align: right;\">                          0</td></tr>\n",
       "<tr><td style=\"text-align: right;\">    150</td><td style=\"text-align: right;\">                       0</td><td style=\"text-align: right;\">                            0</td><td style=\"text-align: right;\">                       0</td><td style=\"text-align: right;\">                      0</td><td style=\"text-align: right;\">                      0</td><td style=\"text-align: right;\">                         0</td><td style=\"text-align: right;\">                                0</td><td style=\"text-align: right;\">                        0</td><td style=\"text-align: right;\">                          0</td><td style=\"text-align: right;\">                                         0</td><td style=\"text-align: right;\">                         0</td><td style=\"text-align: right;\">                      0</td><td style=\"text-align: right;\">                        0</td><td style=\"text-align: right;\">                                 0</td><td style=\"text-align: right;\">                           0</td><td style=\"text-align: right;\">                        0</td><td style=\"text-align: right;\">                      0</td><td style=\"text-align: right;\">                          0</td><td style=\"text-align: right;\">                           0</td><td style=\"text-align: right;\">                          0</td><td style=\"text-align: right;\">                           0</td><td style=\"text-align: right;\">                           0</td><td style=\"text-align: right;\">                        0</td><td style=\"text-align: right;\">                             0</td><td style=\"text-align: right;\">                        0</td><td style=\"text-align: right;\">                               0</td><td style=\"text-align: right;\">                          0</td><td style=\"text-align: right;\">                          0</td><td style=\"text-align: right;\">                       0</td><td style=\"text-align: right;\">                              0</td><td style=\"text-align: right;\">                       0</td><td style=\"text-align: right;\">                              0</td><td style=\"text-align: right;\">                          0</td><td style=\"text-align: right;\">                                0</td><td style=\"text-align: right;\">                      0</td><td style=\"text-align: right;\">                        0</td><td style=\"text-align: right;\">                          0</td><td style=\"text-align: right;\">                           0</td><td style=\"text-align: right;\">                                0</td><td style=\"text-align: right;\">                           0</td><td style=\"text-align: right;\">                      0</td><td style=\"text-align: right;\">                           0</td><td style=\"text-align: right;\">                         0</td><td style=\"text-align: right;\">                          0</td><td style=\"text-align: right;\">                            0</td><td style=\"text-align: right;\">                          0</td><td style=\"text-align: right;\">                      0</td><td style=\"text-align: right;\">                        0</td><td style=\"text-align: right;\">                                0</td><td style=\"text-align: right;\">                           0</td><td style=\"text-align: right;\">                     0</td><td style=\"text-align: right;\">                            0</td><td style=\"text-align: right;\">                            0</td><td style=\"text-align: right;\">                    0</td><td style=\"text-align: right;\">                               0</td><td style=\"text-align: right;\">                           0</td><td style=\"text-align: right;\">                         0</td><td style=\"text-align: right;\">                                0</td><td style=\"text-align: right;\">                            0</td><td style=\"text-align: right;\">                            0</td><td style=\"text-align: right;\">                            0</td><td style=\"text-align: right;\">                          0</td><td style=\"text-align: right;\">                              0</td><td style=\"text-align: right;\">                            0</td><td style=\"text-align: right;\">                           0</td><td style=\"text-align: right;\">                          0</td><td style=\"text-align: right;\">                       0</td><td style=\"text-align: right;\">                       0</td><td style=\"text-align: right;\">                       0</td><td style=\"text-align: right;\">                          0</td><td style=\"text-align: right;\">                           0</td><td style=\"text-align: right;\">                           0</td><td style=\"text-align: right;\">                        0</td><td style=\"text-align: right;\">                                 0</td><td style=\"text-align: right;\">                       0</td><td style=\"text-align: right;\">                                0</td><td style=\"text-align: right;\">                        0</td><td style=\"text-align: right;\">                       0</td><td style=\"text-align: right;\">                      0</td><td style=\"text-align: right;\">                           0</td><td style=\"text-align: right;\">                          0</td><td style=\"text-align: right;\">                            0</td><td style=\"text-align: right;\">                             0</td><td style=\"text-align: right;\">                            0</td><td style=\"text-align: right;\">                       0</td><td style=\"text-align: right;\">                      0</td><td style=\"text-align: right;\">                       0</td><td style=\"text-align: right;\">                           0</td><td style=\"text-align: right;\">                         0</td><td style=\"text-align: right;\">                        0</td><td style=\"text-align: right;\">                          0</td><td style=\"text-align: right;\">                         0</td><td style=\"text-align: right;\">                                0</td><td style=\"text-align: right;\">                          0</td><td style=\"text-align: right;\">                     0</td><td style=\"text-align: right;\">                             0</td><td style=\"text-align: right;\">                         0</td><td style=\"text-align: right;\">                     0</td><td style=\"text-align: right;\">                         0</td><td style=\"text-align: right;\">                           0</td><td style=\"text-align: right;\">                           0</td><td style=\"text-align: right;\">                       0</td><td style=\"text-align: right;\">                          0</td><td style=\"text-align: right;\">                     0</td><td style=\"text-align: right;\">                              0</td><td style=\"text-align: right;\">                      0</td><td style=\"text-align: right;\">                              0</td><td style=\"text-align: right;\">                            0</td><td style=\"text-align: right;\">                         0</td><td style=\"text-align: right;\">                          0</td><td style=\"text-align: right;\">                                0</td><td style=\"text-align: right;\">                          0</td><td style=\"text-align: right;\">                       0</td><td style=\"text-align: right;\">                        0</td><td style=\"text-align: right;\">                              0</td><td style=\"text-align: right;\">                           0</td><td style=\"text-align: right;\">                          0</td><td style=\"text-align: right;\">                               0</td><td style=\"text-align: right;\">                       0</td><td style=\"text-align: right;\">                              0</td><td style=\"text-align: right;\">                              0</td><td style=\"text-align: right;\">                          0</td><td style=\"text-align: right;\">                              0</td><td style=\"text-align: right;\">                      0</td><td style=\"text-align: right;\">                      0</td><td style=\"text-align: right;\">                             0</td><td style=\"text-align: right;\">                            0</td><td style=\"text-align: right;\">              -0.754051</td><td style=\"text-align: right;\">                      0</td><td style=\"text-align: right;\">                         0</td><td style=\"text-align: right;\">                                  0</td><td style=\"text-align: right;\">                             0</td><td style=\"text-align: right;\">                          0</td><td style=\"text-align: right;\">                         0</td><td style=\"text-align: right;\">                         0</td><td style=\"text-align: right;\">                         0</td><td style=\"text-align: right;\">                         0</td><td style=\"text-align: right;\">                          0</td><td style=\"text-align: right;\">                        0</td><td style=\"text-align: right;\">                       0</td><td style=\"text-align: right;\">                           0</td><td style=\"text-align: right;\">                       0</td><td style=\"text-align: right;\">                             0</td><td style=\"text-align: right;\">                              0</td><td style=\"text-align: right;\">                   0</td><td style=\"text-align: right;\">                     0</td><td style=\"text-align: right;\">                              0</td><td style=\"text-align: right;\">                      0</td><td style=\"text-align: right;\">                      0</td><td style=\"text-align: right;\">                        0</td><td style=\"text-align: right;\">                         0</td><td style=\"text-align: right;\">                         0</td><td style=\"text-align: right;\">                          0</td><td style=\"text-align: right;\">                         0</td><td style=\"text-align: right;\">                             0</td><td style=\"text-align: right;\">                          0</td><td style=\"text-align: right;\">                            0</td><td style=\"text-align: right;\">                           0</td><td style=\"text-align: right;\">                               0</td><td style=\"text-align: right;\">                                        0</td><td style=\"text-align: right;\">                             0</td><td style=\"text-align: right;\">                            0</td><td style=\"text-align: right;\">                       0</td><td style=\"text-align: right;\">                        0</td><td style=\"text-align: right;\">                            0</td><td style=\"text-align: right;\">                           0</td><td style=\"text-align: right;\">                        0</td><td style=\"text-align: right;\">              -0.0335146 </td><td style=\"text-align: right;\">                             0</td><td style=\"text-align: right;\">                               0</td><td style=\"text-align: right;\">                       0</td><td style=\"text-align: right;\">                       0</td><td style=\"text-align: right;\">                        0</td><td style=\"text-align: right;\">                            0</td><td style=\"text-align: right;\">             -0.00276378</td><td style=\"text-align: right;\">                             0</td><td style=\"text-align: right;\">                          0</td><td style=\"text-align: right;\">                          0</td><td style=\"text-align: right;\">                   0</td><td style=\"text-align: right;\">                        0</td><td style=\"text-align: right;\">                          0</td><td style=\"text-align: right;\">                               0</td><td style=\"text-align: right;\">                          0</td><td style=\"text-align: right;\">                                  0</td><td style=\"text-align: right;\">                             0</td><td style=\"text-align: right;\">                         0</td><td style=\"text-align: right;\">                         0</td><td style=\"text-align: right;\">                        0</td><td style=\"text-align: right;\">                              0</td><td style=\"text-align: right;\">                        0</td><td style=\"text-align: right;\">                          0</td><td style=\"text-align: right;\">                               0</td><td style=\"text-align: right;\">                          0</td><td style=\"text-align: right;\">                        0</td><td style=\"text-align: right;\">                            0</td><td style=\"text-align: right;\">                          0</td><td style=\"text-align: right;\">                      0</td><td style=\"text-align: right;\">                      0</td><td style=\"text-align: right;\">                          0</td></tr>\n",
       "<tr><td style=\"text-align: right;\">     89</td><td style=\"text-align: right;\">                       0</td><td style=\"text-align: right;\">                            0</td><td style=\"text-align: right;\">                       0</td><td style=\"text-align: right;\">                      0</td><td style=\"text-align: right;\">                      0</td><td style=\"text-align: right;\">                         0</td><td style=\"text-align: right;\">                                0</td><td style=\"text-align: right;\">                        0</td><td style=\"text-align: right;\">                          0</td><td style=\"text-align: right;\">                                         0</td><td style=\"text-align: right;\">                         0</td><td style=\"text-align: right;\">                      0</td><td style=\"text-align: right;\">                        0</td><td style=\"text-align: right;\">                                 0</td><td style=\"text-align: right;\">                           0</td><td style=\"text-align: right;\">                        0</td><td style=\"text-align: right;\">                      0</td><td style=\"text-align: right;\">                          0</td><td style=\"text-align: right;\">                           0</td><td style=\"text-align: right;\">                          0</td><td style=\"text-align: right;\">                           0</td><td style=\"text-align: right;\">                           0</td><td style=\"text-align: right;\">                        0</td><td style=\"text-align: right;\">                             0</td><td style=\"text-align: right;\">                        0</td><td style=\"text-align: right;\">                               0</td><td style=\"text-align: right;\">                          0</td><td style=\"text-align: right;\">                          0</td><td style=\"text-align: right;\">                       0</td><td style=\"text-align: right;\">                              0</td><td style=\"text-align: right;\">                       0</td><td style=\"text-align: right;\">                              0</td><td style=\"text-align: right;\">                          0</td><td style=\"text-align: right;\">                                0</td><td style=\"text-align: right;\">                      0</td><td style=\"text-align: right;\">                        0</td><td style=\"text-align: right;\">                          0</td><td style=\"text-align: right;\">                           0</td><td style=\"text-align: right;\">                                0</td><td style=\"text-align: right;\">                           0</td><td style=\"text-align: right;\">                      0</td><td style=\"text-align: right;\">                           0</td><td style=\"text-align: right;\">                         0</td><td style=\"text-align: right;\">                          0</td><td style=\"text-align: right;\">                            0</td><td style=\"text-align: right;\">                          0</td><td style=\"text-align: right;\">                      0</td><td style=\"text-align: right;\">                        0</td><td style=\"text-align: right;\">                                0</td><td style=\"text-align: right;\">                           0</td><td style=\"text-align: right;\">                     0</td><td style=\"text-align: right;\">                            0</td><td style=\"text-align: right;\">                            0</td><td style=\"text-align: right;\">                    0</td><td style=\"text-align: right;\">                               0</td><td style=\"text-align: right;\">                           0</td><td style=\"text-align: right;\">                         0</td><td style=\"text-align: right;\">                                0</td><td style=\"text-align: right;\">                            0</td><td style=\"text-align: right;\">                            0</td><td style=\"text-align: right;\">                            0</td><td style=\"text-align: right;\">                          0</td><td style=\"text-align: right;\">                              0</td><td style=\"text-align: right;\">                            0</td><td style=\"text-align: right;\">                           0</td><td style=\"text-align: right;\">                          0</td><td style=\"text-align: right;\">                       0</td><td style=\"text-align: right;\">                       0</td><td style=\"text-align: right;\">                       0</td><td style=\"text-align: right;\">                          0</td><td style=\"text-align: right;\">                           0</td><td style=\"text-align: right;\">                           0</td><td style=\"text-align: right;\">                        0</td><td style=\"text-align: right;\">                                 0</td><td style=\"text-align: right;\">                       0</td><td style=\"text-align: right;\">                                0</td><td style=\"text-align: right;\">                        0</td><td style=\"text-align: right;\">                       0</td><td style=\"text-align: right;\">                      0</td><td style=\"text-align: right;\">                           0</td><td style=\"text-align: right;\">                          0</td><td style=\"text-align: right;\">                            0</td><td style=\"text-align: right;\">                             0</td><td style=\"text-align: right;\">                            0</td><td style=\"text-align: right;\">                       0</td><td style=\"text-align: right;\">                      0</td><td style=\"text-align: right;\">                       0</td><td style=\"text-align: right;\">                           0</td><td style=\"text-align: right;\">                         0</td><td style=\"text-align: right;\">                        0</td><td style=\"text-align: right;\">                          0</td><td style=\"text-align: right;\">                         0</td><td style=\"text-align: right;\">                                0</td><td style=\"text-align: right;\">                          0</td><td style=\"text-align: right;\">                     0</td><td style=\"text-align: right;\">                             0</td><td style=\"text-align: right;\">                         0</td><td style=\"text-align: right;\">                     0</td><td style=\"text-align: right;\">                         0</td><td style=\"text-align: right;\">                           0</td><td style=\"text-align: right;\">                           0</td><td style=\"text-align: right;\">                       0</td><td style=\"text-align: right;\">                          0</td><td style=\"text-align: right;\">                     0</td><td style=\"text-align: right;\">                              0</td><td style=\"text-align: right;\">                      0</td><td style=\"text-align: right;\">                              0</td><td style=\"text-align: right;\">                            0</td><td style=\"text-align: right;\">                         0</td><td style=\"text-align: right;\">                          0</td><td style=\"text-align: right;\">                                0</td><td style=\"text-align: right;\">                          0</td><td style=\"text-align: right;\">                       0</td><td style=\"text-align: right;\">                        0</td><td style=\"text-align: right;\">                              0</td><td style=\"text-align: right;\">                           0</td><td style=\"text-align: right;\">                          0</td><td style=\"text-align: right;\">                               0</td><td style=\"text-align: right;\">                       0</td><td style=\"text-align: right;\">                              0</td><td style=\"text-align: right;\">                              0</td><td style=\"text-align: right;\">                          0</td><td style=\"text-align: right;\">                              0</td><td style=\"text-align: right;\">                      0</td><td style=\"text-align: right;\">                      0</td><td style=\"text-align: right;\">                             0</td><td style=\"text-align: right;\">                            0</td><td style=\"text-align: right;\">              -0.258405</td><td style=\"text-align: right;\">                      0</td><td style=\"text-align: right;\">                         0</td><td style=\"text-align: right;\">                                  0</td><td style=\"text-align: right;\">                             0</td><td style=\"text-align: right;\">                          0</td><td style=\"text-align: right;\">                         0</td><td style=\"text-align: right;\">                         0</td><td style=\"text-align: right;\">                         0</td><td style=\"text-align: right;\">                         0</td><td style=\"text-align: right;\">                          0</td><td style=\"text-align: right;\">                        0</td><td style=\"text-align: right;\">                       0</td><td style=\"text-align: right;\">                           0</td><td style=\"text-align: right;\">                       0</td><td style=\"text-align: right;\">                             0</td><td style=\"text-align: right;\">                              0</td><td style=\"text-align: right;\">                   0</td><td style=\"text-align: right;\">                     0</td><td style=\"text-align: right;\">                              0</td><td style=\"text-align: right;\">                      0</td><td style=\"text-align: right;\">                      0</td><td style=\"text-align: right;\">                        0</td><td style=\"text-align: right;\">                         0</td><td style=\"text-align: right;\">                         0</td><td style=\"text-align: right;\">                          0</td><td style=\"text-align: right;\">                         0</td><td style=\"text-align: right;\">                             0</td><td style=\"text-align: right;\">                          0</td><td style=\"text-align: right;\">                            0</td><td style=\"text-align: right;\">                           0</td><td style=\"text-align: right;\">                               0</td><td style=\"text-align: right;\">                                        0</td><td style=\"text-align: right;\">                             0</td><td style=\"text-align: right;\">                            0</td><td style=\"text-align: right;\">                       0</td><td style=\"text-align: right;\">                        0</td><td style=\"text-align: right;\">                            0</td><td style=\"text-align: right;\">                           0</td><td style=\"text-align: right;\">                        0</td><td style=\"text-align: right;\">              -0.00977223</td><td style=\"text-align: right;\">                             0</td><td style=\"text-align: right;\">                               0</td><td style=\"text-align: right;\">                       0</td><td style=\"text-align: right;\">                       0</td><td style=\"text-align: right;\">                        0</td><td style=\"text-align: right;\">                            0</td><td style=\"text-align: right;\">             -0.0128154 </td><td style=\"text-align: right;\">                             0</td><td style=\"text-align: right;\">                          0</td><td style=\"text-align: right;\">                          0</td><td style=\"text-align: right;\">                   0</td><td style=\"text-align: right;\">                        0</td><td style=\"text-align: right;\">                          0</td><td style=\"text-align: right;\">                               0</td><td style=\"text-align: right;\">                          0</td><td style=\"text-align: right;\">                                  0</td><td style=\"text-align: right;\">                             0</td><td style=\"text-align: right;\">                         0</td><td style=\"text-align: right;\">                         0</td><td style=\"text-align: right;\">                        0</td><td style=\"text-align: right;\">                              0</td><td style=\"text-align: right;\">                        0</td><td style=\"text-align: right;\">                          0</td><td style=\"text-align: right;\">                               0</td><td style=\"text-align: right;\">                          0</td><td style=\"text-align: right;\">                        0</td><td style=\"text-align: right;\">                            0</td><td style=\"text-align: right;\">                          0</td><td style=\"text-align: right;\">                      0</td><td style=\"text-align: right;\">                      0</td><td style=\"text-align: right;\">                          0</td></tr>\n",
       "<tr><td style=\"text-align: right;\">     80</td><td style=\"text-align: right;\">                       0</td><td style=\"text-align: right;\">                            0</td><td style=\"text-align: right;\">                       0</td><td style=\"text-align: right;\">                      0</td><td style=\"text-align: right;\">                      0</td><td style=\"text-align: right;\">                         0</td><td style=\"text-align: right;\">                                0</td><td style=\"text-align: right;\">                        0</td><td style=\"text-align: right;\">                          0</td><td style=\"text-align: right;\">                                         0</td><td style=\"text-align: right;\">                         0</td><td style=\"text-align: right;\">                      0</td><td style=\"text-align: right;\">                        0</td><td style=\"text-align: right;\">                                 0</td><td style=\"text-align: right;\">                           0</td><td style=\"text-align: right;\">                        0</td><td style=\"text-align: right;\">                      0</td><td style=\"text-align: right;\">                          0</td><td style=\"text-align: right;\">                           0</td><td style=\"text-align: right;\">                          0</td><td style=\"text-align: right;\">                           0</td><td style=\"text-align: right;\">                           0</td><td style=\"text-align: right;\">                        0</td><td style=\"text-align: right;\">                             0</td><td style=\"text-align: right;\">                        0</td><td style=\"text-align: right;\">                               0</td><td style=\"text-align: right;\">                          0</td><td style=\"text-align: right;\">                          0</td><td style=\"text-align: right;\">                       0</td><td style=\"text-align: right;\">                              0</td><td style=\"text-align: right;\">                       0</td><td style=\"text-align: right;\">                              0</td><td style=\"text-align: right;\">                          0</td><td style=\"text-align: right;\">                                0</td><td style=\"text-align: right;\">                      0</td><td style=\"text-align: right;\">                        0</td><td style=\"text-align: right;\">                          0</td><td style=\"text-align: right;\">                           0</td><td style=\"text-align: right;\">                                0</td><td style=\"text-align: right;\">                           0</td><td style=\"text-align: right;\">                      0</td><td style=\"text-align: right;\">                           0</td><td style=\"text-align: right;\">                         0</td><td style=\"text-align: right;\">                          0</td><td style=\"text-align: right;\">                            0</td><td style=\"text-align: right;\">                          0</td><td style=\"text-align: right;\">                      0</td><td style=\"text-align: right;\">                        0</td><td style=\"text-align: right;\">                                0</td><td style=\"text-align: right;\">                           0</td><td style=\"text-align: right;\">                     0</td><td style=\"text-align: right;\">                            0</td><td style=\"text-align: right;\">                            0</td><td style=\"text-align: right;\">                    0</td><td style=\"text-align: right;\">                               0</td><td style=\"text-align: right;\">                           0</td><td style=\"text-align: right;\">                         0</td><td style=\"text-align: right;\">                                0</td><td style=\"text-align: right;\">                            0</td><td style=\"text-align: right;\">                            0</td><td style=\"text-align: right;\">                            0</td><td style=\"text-align: right;\">                          0</td><td style=\"text-align: right;\">                              0</td><td style=\"text-align: right;\">                            0</td><td style=\"text-align: right;\">                           0</td><td style=\"text-align: right;\">                          0</td><td style=\"text-align: right;\">                       0</td><td style=\"text-align: right;\">                       0</td><td style=\"text-align: right;\">                       0</td><td style=\"text-align: right;\">                          0</td><td style=\"text-align: right;\">                           0</td><td style=\"text-align: right;\">                           0</td><td style=\"text-align: right;\">                        0</td><td style=\"text-align: right;\">                                 0</td><td style=\"text-align: right;\">                       0</td><td style=\"text-align: right;\">                                0</td><td style=\"text-align: right;\">                        0</td><td style=\"text-align: right;\">                       0</td><td style=\"text-align: right;\">                      0</td><td style=\"text-align: right;\">                           0</td><td style=\"text-align: right;\">                          0</td><td style=\"text-align: right;\">                            0</td><td style=\"text-align: right;\">                             0</td><td style=\"text-align: right;\">                            0</td><td style=\"text-align: right;\">                       0</td><td style=\"text-align: right;\">                      0</td><td style=\"text-align: right;\">                       0</td><td style=\"text-align: right;\">                           0</td><td style=\"text-align: right;\">                         0</td><td style=\"text-align: right;\">                        0</td><td style=\"text-align: right;\">                          0</td><td style=\"text-align: right;\">                         0</td><td style=\"text-align: right;\">                                0</td><td style=\"text-align: right;\">                          0</td><td style=\"text-align: right;\">                     0</td><td style=\"text-align: right;\">                             0</td><td style=\"text-align: right;\">                         0</td><td style=\"text-align: right;\">                     0</td><td style=\"text-align: right;\">                         0</td><td style=\"text-align: right;\">                           0</td><td style=\"text-align: right;\">                           0</td><td style=\"text-align: right;\">                       0</td><td style=\"text-align: right;\">                          0</td><td style=\"text-align: right;\">                     0</td><td style=\"text-align: right;\">                              0</td><td style=\"text-align: right;\">                      0</td><td style=\"text-align: right;\">                              0</td><td style=\"text-align: right;\">                            0</td><td style=\"text-align: right;\">                         0</td><td style=\"text-align: right;\">                          0</td><td style=\"text-align: right;\">                                0</td><td style=\"text-align: right;\">                          0</td><td style=\"text-align: right;\">                       0</td><td style=\"text-align: right;\">                        0</td><td style=\"text-align: right;\">                              0</td><td style=\"text-align: right;\">                           0</td><td style=\"text-align: right;\">                          0</td><td style=\"text-align: right;\">                               0</td><td style=\"text-align: right;\">                       0</td><td style=\"text-align: right;\">                              0</td><td style=\"text-align: right;\">                              0</td><td style=\"text-align: right;\">                          0</td><td style=\"text-align: right;\">                              0</td><td style=\"text-align: right;\">                      0</td><td style=\"text-align: right;\">                      0</td><td style=\"text-align: right;\">                             0</td><td style=\"text-align: right;\">                            0</td><td style=\"text-align: right;\">              -0.250977</td><td style=\"text-align: right;\">                      0</td><td style=\"text-align: right;\">                         0</td><td style=\"text-align: right;\">                                  0</td><td style=\"text-align: right;\">                             0</td><td style=\"text-align: right;\">                          0</td><td style=\"text-align: right;\">                         0</td><td style=\"text-align: right;\">                         0</td><td style=\"text-align: right;\">                         0</td><td style=\"text-align: right;\">                         0</td><td style=\"text-align: right;\">                          0</td><td style=\"text-align: right;\">                        0</td><td style=\"text-align: right;\">                       0</td><td style=\"text-align: right;\">                           0</td><td style=\"text-align: right;\">                       0</td><td style=\"text-align: right;\">                             0</td><td style=\"text-align: right;\">                              0</td><td style=\"text-align: right;\">                   0</td><td style=\"text-align: right;\">                     0</td><td style=\"text-align: right;\">                              0</td><td style=\"text-align: right;\">                      0</td><td style=\"text-align: right;\">                      0</td><td style=\"text-align: right;\">                        0</td><td style=\"text-align: right;\">                         0</td><td style=\"text-align: right;\">                         0</td><td style=\"text-align: right;\">                          0</td><td style=\"text-align: right;\">                         0</td><td style=\"text-align: right;\">                             0</td><td style=\"text-align: right;\">                          0</td><td style=\"text-align: right;\">                            0</td><td style=\"text-align: right;\">                           0</td><td style=\"text-align: right;\">                               0</td><td style=\"text-align: right;\">                                        0</td><td style=\"text-align: right;\">                             0</td><td style=\"text-align: right;\">                            0</td><td style=\"text-align: right;\">                       0</td><td style=\"text-align: right;\">                        0</td><td style=\"text-align: right;\">                            0</td><td style=\"text-align: right;\">                           0</td><td style=\"text-align: right;\">                        0</td><td style=\"text-align: right;\">              -0.00977223</td><td style=\"text-align: right;\">                             0</td><td style=\"text-align: right;\">                               0</td><td style=\"text-align: right;\">                       0</td><td style=\"text-align: right;\">                       0</td><td style=\"text-align: right;\">                        0</td><td style=\"text-align: right;\">                            0</td><td style=\"text-align: right;\">             -0.00573611</td><td style=\"text-align: right;\">                             0</td><td style=\"text-align: right;\">                          0</td><td style=\"text-align: right;\">                          0</td><td style=\"text-align: right;\">                   0</td><td style=\"text-align: right;\">                        0</td><td style=\"text-align: right;\">                          0</td><td style=\"text-align: right;\">                               0</td><td style=\"text-align: right;\">                          0</td><td style=\"text-align: right;\">                                  0</td><td style=\"text-align: right;\">                             0</td><td style=\"text-align: right;\">                         0</td><td style=\"text-align: right;\">                         0</td><td style=\"text-align: right;\">                        0</td><td style=\"text-align: right;\">                              0</td><td style=\"text-align: right;\">                        0</td><td style=\"text-align: right;\">                          0</td><td style=\"text-align: right;\">                               0</td><td style=\"text-align: right;\">                          0</td><td style=\"text-align: right;\">                        0</td><td style=\"text-align: right;\">                            0</td><td style=\"text-align: right;\">                          0</td><td style=\"text-align: right;\">                      0</td><td style=\"text-align: right;\">                      0</td><td style=\"text-align: right;\">                          0</td></tr>\n",
       "<tr><td style=\"text-align: right;\">    200</td><td style=\"text-align: right;\">                       0</td><td style=\"text-align: right;\">                            0</td><td style=\"text-align: right;\">                       0</td><td style=\"text-align: right;\">                      0</td><td style=\"text-align: right;\">                      0</td><td style=\"text-align: right;\">                         0</td><td style=\"text-align: right;\">                                0</td><td style=\"text-align: right;\">                        0</td><td style=\"text-align: right;\">                          0</td><td style=\"text-align: right;\">                                         0</td><td style=\"text-align: right;\">                         0</td><td style=\"text-align: right;\">                      0</td><td style=\"text-align: right;\">                        0</td><td style=\"text-align: right;\">                                 0</td><td style=\"text-align: right;\">                           0</td><td style=\"text-align: right;\">                        0</td><td style=\"text-align: right;\">                      0</td><td style=\"text-align: right;\">                          0</td><td style=\"text-align: right;\">                           0</td><td style=\"text-align: right;\">                          0</td><td style=\"text-align: right;\">                           0</td><td style=\"text-align: right;\">                           0</td><td style=\"text-align: right;\">                        0</td><td style=\"text-align: right;\">                             0</td><td style=\"text-align: right;\">                        0</td><td style=\"text-align: right;\">                               0</td><td style=\"text-align: right;\">                          0</td><td style=\"text-align: right;\">                          0</td><td style=\"text-align: right;\">                       0</td><td style=\"text-align: right;\">                              0</td><td style=\"text-align: right;\">                       0</td><td style=\"text-align: right;\">                              0</td><td style=\"text-align: right;\">                          0</td><td style=\"text-align: right;\">                                0</td><td style=\"text-align: right;\">                      0</td><td style=\"text-align: right;\">                        0</td><td style=\"text-align: right;\">                          0</td><td style=\"text-align: right;\">                           0</td><td style=\"text-align: right;\">                                0</td><td style=\"text-align: right;\">                           0</td><td style=\"text-align: right;\">                      0</td><td style=\"text-align: right;\">                           0</td><td style=\"text-align: right;\">                         0</td><td style=\"text-align: right;\">                          0</td><td style=\"text-align: right;\">                            0</td><td style=\"text-align: right;\">                          0</td><td style=\"text-align: right;\">                      0</td><td style=\"text-align: right;\">                        0</td><td style=\"text-align: right;\">                                0</td><td style=\"text-align: right;\">                           0</td><td style=\"text-align: right;\">                     0</td><td style=\"text-align: right;\">                            0</td><td style=\"text-align: right;\">                            0</td><td style=\"text-align: right;\">                    0</td><td style=\"text-align: right;\">                               0</td><td style=\"text-align: right;\">                           0</td><td style=\"text-align: right;\">                         0</td><td style=\"text-align: right;\">                                0</td><td style=\"text-align: right;\">                            0</td><td style=\"text-align: right;\">                            0</td><td style=\"text-align: right;\">                            0</td><td style=\"text-align: right;\">                          0</td><td style=\"text-align: right;\">                              0</td><td style=\"text-align: right;\">                            0</td><td style=\"text-align: right;\">                           0</td><td style=\"text-align: right;\">                          0</td><td style=\"text-align: right;\">                       0</td><td style=\"text-align: right;\">                       0</td><td style=\"text-align: right;\">                       0</td><td style=\"text-align: right;\">                          0</td><td style=\"text-align: right;\">                           0</td><td style=\"text-align: right;\">                           0</td><td style=\"text-align: right;\">                        0</td><td style=\"text-align: right;\">                                 0</td><td style=\"text-align: right;\">                       0</td><td style=\"text-align: right;\">                                0</td><td style=\"text-align: right;\">                        0</td><td style=\"text-align: right;\">                       0</td><td style=\"text-align: right;\">                      0</td><td style=\"text-align: right;\">                           0</td><td style=\"text-align: right;\">                          0</td><td style=\"text-align: right;\">                            0</td><td style=\"text-align: right;\">                             0</td><td style=\"text-align: right;\">                            0</td><td style=\"text-align: right;\">                       0</td><td style=\"text-align: right;\">                      0</td><td style=\"text-align: right;\">                       0</td><td style=\"text-align: right;\">                           0</td><td style=\"text-align: right;\">                         0</td><td style=\"text-align: right;\">                        0</td><td style=\"text-align: right;\">                          0</td><td style=\"text-align: right;\">                         0</td><td style=\"text-align: right;\">                                0</td><td style=\"text-align: right;\">                          0</td><td style=\"text-align: right;\">                     0</td><td style=\"text-align: right;\">                             0</td><td style=\"text-align: right;\">                         0</td><td style=\"text-align: right;\">                     0</td><td style=\"text-align: right;\">                         0</td><td style=\"text-align: right;\">                           0</td><td style=\"text-align: right;\">                           0</td><td style=\"text-align: right;\">                       0</td><td style=\"text-align: right;\">                          0</td><td style=\"text-align: right;\">                     0</td><td style=\"text-align: right;\">                              0</td><td style=\"text-align: right;\">                      0</td><td style=\"text-align: right;\">                              0</td><td style=\"text-align: right;\">                            0</td><td style=\"text-align: right;\">                         0</td><td style=\"text-align: right;\">                          0</td><td style=\"text-align: right;\">                                0</td><td style=\"text-align: right;\">                          0</td><td style=\"text-align: right;\">                       0</td><td style=\"text-align: right;\">                        0</td><td style=\"text-align: right;\">                              0</td><td style=\"text-align: right;\">                           0</td><td style=\"text-align: right;\">                          0</td><td style=\"text-align: right;\">                               0</td><td style=\"text-align: right;\">                       0</td><td style=\"text-align: right;\">                              0</td><td style=\"text-align: right;\">                              0</td><td style=\"text-align: right;\">                          0</td><td style=\"text-align: right;\">                              0</td><td style=\"text-align: right;\">                      0</td><td style=\"text-align: right;\">                      0</td><td style=\"text-align: right;\">                             0</td><td style=\"text-align: right;\">                            0</td><td style=\"text-align: right;\">              -0.234111</td><td style=\"text-align: right;\">                      0</td><td style=\"text-align: right;\">                         0</td><td style=\"text-align: right;\">                                  0</td><td style=\"text-align: right;\">                             0</td><td style=\"text-align: right;\">                          0</td><td style=\"text-align: right;\">                         0</td><td style=\"text-align: right;\">                         0</td><td style=\"text-align: right;\">                         0</td><td style=\"text-align: right;\">                         0</td><td style=\"text-align: right;\">                          0</td><td style=\"text-align: right;\">                        0</td><td style=\"text-align: right;\">                       0</td><td style=\"text-align: right;\">                           0</td><td style=\"text-align: right;\">                       0</td><td style=\"text-align: right;\">                             0</td><td style=\"text-align: right;\">                              0</td><td style=\"text-align: right;\">                   0</td><td style=\"text-align: right;\">                     0</td><td style=\"text-align: right;\">                              0</td><td style=\"text-align: right;\">                      0</td><td style=\"text-align: right;\">                      0</td><td style=\"text-align: right;\">                        0</td><td style=\"text-align: right;\">                         0</td><td style=\"text-align: right;\">                         0</td><td style=\"text-align: right;\">                          0</td><td style=\"text-align: right;\">                         0</td><td style=\"text-align: right;\">                             0</td><td style=\"text-align: right;\">                          0</td><td style=\"text-align: right;\">                            0</td><td style=\"text-align: right;\">                           0</td><td style=\"text-align: right;\">                               0</td><td style=\"text-align: right;\">                                        0</td><td style=\"text-align: right;\">                             0</td><td style=\"text-align: right;\">                            0</td><td style=\"text-align: right;\">                       0</td><td style=\"text-align: right;\">                        0</td><td style=\"text-align: right;\">                            0</td><td style=\"text-align: right;\">                           0</td><td style=\"text-align: right;\">                        0</td><td style=\"text-align: right;\">              -0.00583501</td><td style=\"text-align: right;\">                             0</td><td style=\"text-align: right;\">                               0</td><td style=\"text-align: right;\">                       0</td><td style=\"text-align: right;\">                       0</td><td style=\"text-align: right;\">                        0</td><td style=\"text-align: right;\">                            0</td><td style=\"text-align: right;\">             -0.0156747 </td><td style=\"text-align: right;\">                             0</td><td style=\"text-align: right;\">                          0</td><td style=\"text-align: right;\">                          0</td><td style=\"text-align: right;\">                   0</td><td style=\"text-align: right;\">                        0</td><td style=\"text-align: right;\">                          0</td><td style=\"text-align: right;\">                               0</td><td style=\"text-align: right;\">                          0</td><td style=\"text-align: right;\">                                  0</td><td style=\"text-align: right;\">                             0</td><td style=\"text-align: right;\">                         0</td><td style=\"text-align: right;\">                         0</td><td style=\"text-align: right;\">                        0</td><td style=\"text-align: right;\">                              0</td><td style=\"text-align: right;\">                        0</td><td style=\"text-align: right;\">                          0</td><td style=\"text-align: right;\">                               0</td><td style=\"text-align: right;\">                          0</td><td style=\"text-align: right;\">                        0</td><td style=\"text-align: right;\">                            0</td><td style=\"text-align: right;\">                          0</td><td style=\"text-align: right;\">                      0</td><td style=\"text-align: right;\">                      0</td><td style=\"text-align: right;\">                          0</td></tr>\n",
       "<tr><td style=\"text-align: right;\">     60</td><td style=\"text-align: right;\">                       0</td><td style=\"text-align: right;\">                            0</td><td style=\"text-align: right;\">                       0</td><td style=\"text-align: right;\">                      0</td><td style=\"text-align: right;\">                      0</td><td style=\"text-align: right;\">                         0</td><td style=\"text-align: right;\">                                0</td><td style=\"text-align: right;\">                        0</td><td style=\"text-align: right;\">                          0</td><td style=\"text-align: right;\">                                         0</td><td style=\"text-align: right;\">                         0</td><td style=\"text-align: right;\">                      0</td><td style=\"text-align: right;\">                        0</td><td style=\"text-align: right;\">                                 0</td><td style=\"text-align: right;\">                           0</td><td style=\"text-align: right;\">                        0</td><td style=\"text-align: right;\">                      0</td><td style=\"text-align: right;\">                          0</td><td style=\"text-align: right;\">                           0</td><td style=\"text-align: right;\">                          0</td><td style=\"text-align: right;\">                           0</td><td style=\"text-align: right;\">                           0</td><td style=\"text-align: right;\">                        0</td><td style=\"text-align: right;\">                             0</td><td style=\"text-align: right;\">                        0</td><td style=\"text-align: right;\">                               0</td><td style=\"text-align: right;\">                          0</td><td style=\"text-align: right;\">                          0</td><td style=\"text-align: right;\">                       0</td><td style=\"text-align: right;\">                              0</td><td style=\"text-align: right;\">                       0</td><td style=\"text-align: right;\">                              0</td><td style=\"text-align: right;\">                          0</td><td style=\"text-align: right;\">                                0</td><td style=\"text-align: right;\">                      0</td><td style=\"text-align: right;\">                        0</td><td style=\"text-align: right;\">                          0</td><td style=\"text-align: right;\">                           0</td><td style=\"text-align: right;\">                                0</td><td style=\"text-align: right;\">                           0</td><td style=\"text-align: right;\">                      0</td><td style=\"text-align: right;\">                           0</td><td style=\"text-align: right;\">                         0</td><td style=\"text-align: right;\">                          0</td><td style=\"text-align: right;\">                            0</td><td style=\"text-align: right;\">                          0</td><td style=\"text-align: right;\">                      0</td><td style=\"text-align: right;\">                        0</td><td style=\"text-align: right;\">                                0</td><td style=\"text-align: right;\">                           0</td><td style=\"text-align: right;\">                     0</td><td style=\"text-align: right;\">                            0</td><td style=\"text-align: right;\">                            0</td><td style=\"text-align: right;\">                    0</td><td style=\"text-align: right;\">                               0</td><td style=\"text-align: right;\">                           0</td><td style=\"text-align: right;\">                         0</td><td style=\"text-align: right;\">                                0</td><td style=\"text-align: right;\">                            0</td><td style=\"text-align: right;\">                            0</td><td style=\"text-align: right;\">                            0</td><td style=\"text-align: right;\">                          0</td><td style=\"text-align: right;\">                              0</td><td style=\"text-align: right;\">                            0</td><td style=\"text-align: right;\">                           0</td><td style=\"text-align: right;\">                          0</td><td style=\"text-align: right;\">                       0</td><td style=\"text-align: right;\">                       0</td><td style=\"text-align: right;\">                       0</td><td style=\"text-align: right;\">                          0</td><td style=\"text-align: right;\">                           0</td><td style=\"text-align: right;\">                           0</td><td style=\"text-align: right;\">                        0</td><td style=\"text-align: right;\">                                 0</td><td style=\"text-align: right;\">                       0</td><td style=\"text-align: right;\">                                0</td><td style=\"text-align: right;\">                        0</td><td style=\"text-align: right;\">                       0</td><td style=\"text-align: right;\">                      0</td><td style=\"text-align: right;\">                           0</td><td style=\"text-align: right;\">                          0</td><td style=\"text-align: right;\">                            0</td><td style=\"text-align: right;\">                             0</td><td style=\"text-align: right;\">                            0</td><td style=\"text-align: right;\">                       0</td><td style=\"text-align: right;\">                      0</td><td style=\"text-align: right;\">                       0</td><td style=\"text-align: right;\">                           0</td><td style=\"text-align: right;\">                         0</td><td style=\"text-align: right;\">                        0</td><td style=\"text-align: right;\">                          0</td><td style=\"text-align: right;\">                         0</td><td style=\"text-align: right;\">                                0</td><td style=\"text-align: right;\">                          0</td><td style=\"text-align: right;\">                     0</td><td style=\"text-align: right;\">                             0</td><td style=\"text-align: right;\">                         0</td><td style=\"text-align: right;\">                     0</td><td style=\"text-align: right;\">                         0</td><td style=\"text-align: right;\">                           0</td><td style=\"text-align: right;\">                           0</td><td style=\"text-align: right;\">                       0</td><td style=\"text-align: right;\">                          0</td><td style=\"text-align: right;\">                     0</td><td style=\"text-align: right;\">                              0</td><td style=\"text-align: right;\">                      0</td><td style=\"text-align: right;\">                              0</td><td style=\"text-align: right;\">                            0</td><td style=\"text-align: right;\">                         0</td><td style=\"text-align: right;\">                          0</td><td style=\"text-align: right;\">                                0</td><td style=\"text-align: right;\">                          0</td><td style=\"text-align: right;\">                       0</td><td style=\"text-align: right;\">                        0</td><td style=\"text-align: right;\">                              0</td><td style=\"text-align: right;\">                           0</td><td style=\"text-align: right;\">                          0</td><td style=\"text-align: right;\">                               0</td><td style=\"text-align: right;\">                       0</td><td style=\"text-align: right;\">                              0</td><td style=\"text-align: right;\">                              0</td><td style=\"text-align: right;\">                          0</td><td style=\"text-align: right;\">                              0</td><td style=\"text-align: right;\">                      0</td><td style=\"text-align: right;\">                      0</td><td style=\"text-align: right;\">                             0</td><td style=\"text-align: right;\">                            0</td><td style=\"text-align: right;\">              -0.772418</td><td style=\"text-align: right;\">                      0</td><td style=\"text-align: right;\">                         0</td><td style=\"text-align: right;\">                                  0</td><td style=\"text-align: right;\">                             0</td><td style=\"text-align: right;\">                          0</td><td style=\"text-align: right;\">                         0</td><td style=\"text-align: right;\">                         0</td><td style=\"text-align: right;\">                         0</td><td style=\"text-align: right;\">                         0</td><td style=\"text-align: right;\">                          0</td><td style=\"text-align: right;\">                        0</td><td style=\"text-align: right;\">                       0</td><td style=\"text-align: right;\">                           0</td><td style=\"text-align: right;\">                       0</td><td style=\"text-align: right;\">                             0</td><td style=\"text-align: right;\">                              0</td><td style=\"text-align: right;\">                   0</td><td style=\"text-align: right;\">                     0</td><td style=\"text-align: right;\">                              0</td><td style=\"text-align: right;\">                      0</td><td style=\"text-align: right;\">                      0</td><td style=\"text-align: right;\">                        0</td><td style=\"text-align: right;\">                         0</td><td style=\"text-align: right;\">                         0</td><td style=\"text-align: right;\">                          0</td><td style=\"text-align: right;\">                         0</td><td style=\"text-align: right;\">                             0</td><td style=\"text-align: right;\">                          0</td><td style=\"text-align: right;\">                            0</td><td style=\"text-align: right;\">                           0</td><td style=\"text-align: right;\">                               0</td><td style=\"text-align: right;\">                                        0</td><td style=\"text-align: right;\">                             0</td><td style=\"text-align: right;\">                            0</td><td style=\"text-align: right;\">                       0</td><td style=\"text-align: right;\">                        0</td><td style=\"text-align: right;\">                            0</td><td style=\"text-align: right;\">                           0</td><td style=\"text-align: right;\">                        0</td><td style=\"text-align: right;\">              -0.0335146 </td><td style=\"text-align: right;\">                             0</td><td style=\"text-align: right;\">                               0</td><td style=\"text-align: right;\">                       0</td><td style=\"text-align: right;\">                       0</td><td style=\"text-align: right;\">                        0</td><td style=\"text-align: right;\">                            0</td><td style=\"text-align: right;\">             -0.00589447</td><td style=\"text-align: right;\">                             0</td><td style=\"text-align: right;\">                          0</td><td style=\"text-align: right;\">                          0</td><td style=\"text-align: right;\">                   0</td><td style=\"text-align: right;\">                        0</td><td style=\"text-align: right;\">                          0</td><td style=\"text-align: right;\">                               0</td><td style=\"text-align: right;\">                          0</td><td style=\"text-align: right;\">                                  0</td><td style=\"text-align: right;\">                             0</td><td style=\"text-align: right;\">                         0</td><td style=\"text-align: right;\">                         0</td><td style=\"text-align: right;\">                        0</td><td style=\"text-align: right;\">                              0</td><td style=\"text-align: right;\">                        0</td><td style=\"text-align: right;\">                          0</td><td style=\"text-align: right;\">                               0</td><td style=\"text-align: right;\">                          0</td><td style=\"text-align: right;\">                        0</td><td style=\"text-align: right;\">                            0</td><td style=\"text-align: right;\">                          0</td><td style=\"text-align: right;\">                      0</td><td style=\"text-align: right;\">                      0</td><td style=\"text-align: right;\">                          0</td></tr>\n",
       "<tr><td style=\"text-align: right;\">     79</td><td style=\"text-align: right;\">                       0</td><td style=\"text-align: right;\">                            0</td><td style=\"text-align: right;\">                       0</td><td style=\"text-align: right;\">                      0</td><td style=\"text-align: right;\">                      0</td><td style=\"text-align: right;\">                         0</td><td style=\"text-align: right;\">                                0</td><td style=\"text-align: right;\">                        0</td><td style=\"text-align: right;\">                          0</td><td style=\"text-align: right;\">                                         0</td><td style=\"text-align: right;\">                         0</td><td style=\"text-align: right;\">                      0</td><td style=\"text-align: right;\">                        0</td><td style=\"text-align: right;\">                                 0</td><td style=\"text-align: right;\">                           0</td><td style=\"text-align: right;\">                        0</td><td style=\"text-align: right;\">                      0</td><td style=\"text-align: right;\">                          0</td><td style=\"text-align: right;\">                           0</td><td style=\"text-align: right;\">                          0</td><td style=\"text-align: right;\">                           0</td><td style=\"text-align: right;\">                           0</td><td style=\"text-align: right;\">                        0</td><td style=\"text-align: right;\">                             0</td><td style=\"text-align: right;\">                        0</td><td style=\"text-align: right;\">                               0</td><td style=\"text-align: right;\">                          0</td><td style=\"text-align: right;\">                          0</td><td style=\"text-align: right;\">                       0</td><td style=\"text-align: right;\">                              0</td><td style=\"text-align: right;\">                       0</td><td style=\"text-align: right;\">                              0</td><td style=\"text-align: right;\">                          0</td><td style=\"text-align: right;\">                                0</td><td style=\"text-align: right;\">                      0</td><td style=\"text-align: right;\">                        0</td><td style=\"text-align: right;\">                          0</td><td style=\"text-align: right;\">                           0</td><td style=\"text-align: right;\">                                0</td><td style=\"text-align: right;\">                           0</td><td style=\"text-align: right;\">                      0</td><td style=\"text-align: right;\">                           0</td><td style=\"text-align: right;\">                         0</td><td style=\"text-align: right;\">                          0</td><td style=\"text-align: right;\">                            0</td><td style=\"text-align: right;\">                          0</td><td style=\"text-align: right;\">                      0</td><td style=\"text-align: right;\">                        0</td><td style=\"text-align: right;\">                                0</td><td style=\"text-align: right;\">                           0</td><td style=\"text-align: right;\">                     0</td><td style=\"text-align: right;\">                            0</td><td style=\"text-align: right;\">                            0</td><td style=\"text-align: right;\">                    0</td><td style=\"text-align: right;\">                               0</td><td style=\"text-align: right;\">                           0</td><td style=\"text-align: right;\">                         0</td><td style=\"text-align: right;\">                                0</td><td style=\"text-align: right;\">                            0</td><td style=\"text-align: right;\">                            0</td><td style=\"text-align: right;\">                            0</td><td style=\"text-align: right;\">                          0</td><td style=\"text-align: right;\">                              0</td><td style=\"text-align: right;\">                            0</td><td style=\"text-align: right;\">                           0</td><td style=\"text-align: right;\">                          0</td><td style=\"text-align: right;\">                       0</td><td style=\"text-align: right;\">                       0</td><td style=\"text-align: right;\">                       0</td><td style=\"text-align: right;\">                          0</td><td style=\"text-align: right;\">                           0</td><td style=\"text-align: right;\">                           0</td><td style=\"text-align: right;\">                        0</td><td style=\"text-align: right;\">                                 0</td><td style=\"text-align: right;\">                       0</td><td style=\"text-align: right;\">                                0</td><td style=\"text-align: right;\">                        0</td><td style=\"text-align: right;\">                       0</td><td style=\"text-align: right;\">                      0</td><td style=\"text-align: right;\">                           0</td><td style=\"text-align: right;\">                          0</td><td style=\"text-align: right;\">                            0</td><td style=\"text-align: right;\">                             0</td><td style=\"text-align: right;\">                            0</td><td style=\"text-align: right;\">                       0</td><td style=\"text-align: right;\">                      0</td><td style=\"text-align: right;\">                       0</td><td style=\"text-align: right;\">                           0</td><td style=\"text-align: right;\">                         0</td><td style=\"text-align: right;\">                        0</td><td style=\"text-align: right;\">                          0</td><td style=\"text-align: right;\">                         0</td><td style=\"text-align: right;\">                                0</td><td style=\"text-align: right;\">                          0</td><td style=\"text-align: right;\">                     0</td><td style=\"text-align: right;\">                             0</td><td style=\"text-align: right;\">                         0</td><td style=\"text-align: right;\">                     0</td><td style=\"text-align: right;\">                         0</td><td style=\"text-align: right;\">                           0</td><td style=\"text-align: right;\">                           0</td><td style=\"text-align: right;\">                       0</td><td style=\"text-align: right;\">                          0</td><td style=\"text-align: right;\">                     0</td><td style=\"text-align: right;\">                              0</td><td style=\"text-align: right;\">                      0</td><td style=\"text-align: right;\">                              0</td><td style=\"text-align: right;\">                            0</td><td style=\"text-align: right;\">                         0</td><td style=\"text-align: right;\">                          0</td><td style=\"text-align: right;\">                                0</td><td style=\"text-align: right;\">                          0</td><td style=\"text-align: right;\">                       0</td><td style=\"text-align: right;\">                        0</td><td style=\"text-align: right;\">                              0</td><td style=\"text-align: right;\">                           0</td><td style=\"text-align: right;\">                          0</td><td style=\"text-align: right;\">                               0</td><td style=\"text-align: right;\">                       0</td><td style=\"text-align: right;\">                              0</td><td style=\"text-align: right;\">                              0</td><td style=\"text-align: right;\">                          0</td><td style=\"text-align: right;\">                              0</td><td style=\"text-align: right;\">                      0</td><td style=\"text-align: right;\">                      0</td><td style=\"text-align: right;\">                             0</td><td style=\"text-align: right;\">                            0</td><td style=\"text-align: right;\">              -0.538931</td><td style=\"text-align: right;\">                      0</td><td style=\"text-align: right;\">                         0</td><td style=\"text-align: right;\">                                  0</td><td style=\"text-align: right;\">                             0</td><td style=\"text-align: right;\">                          0</td><td style=\"text-align: right;\">                         0</td><td style=\"text-align: right;\">                         0</td><td style=\"text-align: right;\">                         0</td><td style=\"text-align: right;\">                         0</td><td style=\"text-align: right;\">                          0</td><td style=\"text-align: right;\">                        0</td><td style=\"text-align: right;\">                       0</td><td style=\"text-align: right;\">                           0</td><td style=\"text-align: right;\">                       0</td><td style=\"text-align: right;\">                             0</td><td style=\"text-align: right;\">                              0</td><td style=\"text-align: right;\">                   0</td><td style=\"text-align: right;\">                     0</td><td style=\"text-align: right;\">                              0</td><td style=\"text-align: right;\">                      0</td><td style=\"text-align: right;\">                      0</td><td style=\"text-align: right;\">                        0</td><td style=\"text-align: right;\">                         0</td><td style=\"text-align: right;\">                         0</td><td style=\"text-align: right;\">                          0</td><td style=\"text-align: right;\">                         0</td><td style=\"text-align: right;\">                             0</td><td style=\"text-align: right;\">                          0</td><td style=\"text-align: right;\">                            0</td><td style=\"text-align: right;\">                           0</td><td style=\"text-align: right;\">                               0</td><td style=\"text-align: right;\">                                        0</td><td style=\"text-align: right;\">                             0</td><td style=\"text-align: right;\">                            0</td><td style=\"text-align: right;\">                       0</td><td style=\"text-align: right;\">                        0</td><td style=\"text-align: right;\">                            0</td><td style=\"text-align: right;\">                           0</td><td style=\"text-align: right;\">                        0</td><td style=\"text-align: right;\">              -0.0122537 </td><td style=\"text-align: right;\">                             0</td><td style=\"text-align: right;\">                               0</td><td style=\"text-align: right;\">                       0</td><td style=\"text-align: right;\">                       0</td><td style=\"text-align: right;\">                        0</td><td style=\"text-align: right;\">                            0</td><td style=\"text-align: right;\">             -0.00686769</td><td style=\"text-align: right;\">                             0</td><td style=\"text-align: right;\">                          0</td><td style=\"text-align: right;\">                          0</td><td style=\"text-align: right;\">                   0</td><td style=\"text-align: right;\">                        0</td><td style=\"text-align: right;\">                          0</td><td style=\"text-align: right;\">                               0</td><td style=\"text-align: right;\">                          0</td><td style=\"text-align: right;\">                                  0</td><td style=\"text-align: right;\">                             0</td><td style=\"text-align: right;\">                         0</td><td style=\"text-align: right;\">                         0</td><td style=\"text-align: right;\">                        0</td><td style=\"text-align: right;\">                              0</td><td style=\"text-align: right;\">                        0</td><td style=\"text-align: right;\">                          0</td><td style=\"text-align: right;\">                               0</td><td style=\"text-align: right;\">                          0</td><td style=\"text-align: right;\">                        0</td><td style=\"text-align: right;\">                            0</td><td style=\"text-align: right;\">                          0</td><td style=\"text-align: right;\">                      0</td><td style=\"text-align: right;\">                      0</td><td style=\"text-align: right;\">                          0</td></tr>\n",
       "<tr><td style=\"text-align: right;\">     79</td><td style=\"text-align: right;\">                       0</td><td style=\"text-align: right;\">                            0</td><td style=\"text-align: right;\">                       0</td><td style=\"text-align: right;\">                      0</td><td style=\"text-align: right;\">                      0</td><td style=\"text-align: right;\">                         0</td><td style=\"text-align: right;\">                                0</td><td style=\"text-align: right;\">                        0</td><td style=\"text-align: right;\">                          0</td><td style=\"text-align: right;\">                                         0</td><td style=\"text-align: right;\">                         0</td><td style=\"text-align: right;\">                      0</td><td style=\"text-align: right;\">                        0</td><td style=\"text-align: right;\">                                 0</td><td style=\"text-align: right;\">                           0</td><td style=\"text-align: right;\">                        0</td><td style=\"text-align: right;\">                      0</td><td style=\"text-align: right;\">                          0</td><td style=\"text-align: right;\">                           0</td><td style=\"text-align: right;\">                          0</td><td style=\"text-align: right;\">                           0</td><td style=\"text-align: right;\">                           0</td><td style=\"text-align: right;\">                        0</td><td style=\"text-align: right;\">                             0</td><td style=\"text-align: right;\">                        0</td><td style=\"text-align: right;\">                               0</td><td style=\"text-align: right;\">                          0</td><td style=\"text-align: right;\">                          0</td><td style=\"text-align: right;\">                       0</td><td style=\"text-align: right;\">                              0</td><td style=\"text-align: right;\">                       0</td><td style=\"text-align: right;\">                              0</td><td style=\"text-align: right;\">                          0</td><td style=\"text-align: right;\">                                0</td><td style=\"text-align: right;\">                      0</td><td style=\"text-align: right;\">                        0</td><td style=\"text-align: right;\">                          0</td><td style=\"text-align: right;\">                           0</td><td style=\"text-align: right;\">                                0</td><td style=\"text-align: right;\">                           0</td><td style=\"text-align: right;\">                      0</td><td style=\"text-align: right;\">                           0</td><td style=\"text-align: right;\">                         0</td><td style=\"text-align: right;\">                          0</td><td style=\"text-align: right;\">                            0</td><td style=\"text-align: right;\">                          0</td><td style=\"text-align: right;\">                      0</td><td style=\"text-align: right;\">                        0</td><td style=\"text-align: right;\">                                0</td><td style=\"text-align: right;\">                           0</td><td style=\"text-align: right;\">                     0</td><td style=\"text-align: right;\">                            0</td><td style=\"text-align: right;\">                            0</td><td style=\"text-align: right;\">                    0</td><td style=\"text-align: right;\">                               0</td><td style=\"text-align: right;\">                           0</td><td style=\"text-align: right;\">                         0</td><td style=\"text-align: right;\">                                0</td><td style=\"text-align: right;\">                            0</td><td style=\"text-align: right;\">                            0</td><td style=\"text-align: right;\">                            0</td><td style=\"text-align: right;\">                          0</td><td style=\"text-align: right;\">                              0</td><td style=\"text-align: right;\">                            0</td><td style=\"text-align: right;\">                           0</td><td style=\"text-align: right;\">                          0</td><td style=\"text-align: right;\">                       0</td><td style=\"text-align: right;\">                       0</td><td style=\"text-align: right;\">                       0</td><td style=\"text-align: right;\">                          0</td><td style=\"text-align: right;\">                           0</td><td style=\"text-align: right;\">                           0</td><td style=\"text-align: right;\">                        0</td><td style=\"text-align: right;\">                                 0</td><td style=\"text-align: right;\">                       0</td><td style=\"text-align: right;\">                                0</td><td style=\"text-align: right;\">                        0</td><td style=\"text-align: right;\">                       0</td><td style=\"text-align: right;\">                      0</td><td style=\"text-align: right;\">                           0</td><td style=\"text-align: right;\">                          0</td><td style=\"text-align: right;\">                            0</td><td style=\"text-align: right;\">                             0</td><td style=\"text-align: right;\">                            0</td><td style=\"text-align: right;\">                       0</td><td style=\"text-align: right;\">                      0</td><td style=\"text-align: right;\">                       0</td><td style=\"text-align: right;\">                           0</td><td style=\"text-align: right;\">                         0</td><td style=\"text-align: right;\">                        0</td><td style=\"text-align: right;\">                          0</td><td style=\"text-align: right;\">                         0</td><td style=\"text-align: right;\">                                0</td><td style=\"text-align: right;\">                          0</td><td style=\"text-align: right;\">                     0</td><td style=\"text-align: right;\">                             0</td><td style=\"text-align: right;\">                         0</td><td style=\"text-align: right;\">                     0</td><td style=\"text-align: right;\">                         0</td><td style=\"text-align: right;\">                           0</td><td style=\"text-align: right;\">                           0</td><td style=\"text-align: right;\">                       0</td><td style=\"text-align: right;\">                          0</td><td style=\"text-align: right;\">                     0</td><td style=\"text-align: right;\">                              0</td><td style=\"text-align: right;\">                      0</td><td style=\"text-align: right;\">                              0</td><td style=\"text-align: right;\">                            0</td><td style=\"text-align: right;\">                         0</td><td style=\"text-align: right;\">                          0</td><td style=\"text-align: right;\">                                0</td><td style=\"text-align: right;\">                          0</td><td style=\"text-align: right;\">                       0</td><td style=\"text-align: right;\">                        0</td><td style=\"text-align: right;\">                              0</td><td style=\"text-align: right;\">                           0</td><td style=\"text-align: right;\">                          0</td><td style=\"text-align: right;\">                               0</td><td style=\"text-align: right;\">                       0</td><td style=\"text-align: right;\">                              0</td><td style=\"text-align: right;\">                              0</td><td style=\"text-align: right;\">                          0</td><td style=\"text-align: right;\">                              0</td><td style=\"text-align: right;\">                      0</td><td style=\"text-align: right;\">                      0</td><td style=\"text-align: right;\">                             0</td><td style=\"text-align: right;\">                            0</td><td style=\"text-align: right;\">              -0.538931</td><td style=\"text-align: right;\">                      0</td><td style=\"text-align: right;\">                         0</td><td style=\"text-align: right;\">                                  0</td><td style=\"text-align: right;\">                             0</td><td style=\"text-align: right;\">                          0</td><td style=\"text-align: right;\">                         0</td><td style=\"text-align: right;\">                         0</td><td style=\"text-align: right;\">                         0</td><td style=\"text-align: right;\">                         0</td><td style=\"text-align: right;\">                          0</td><td style=\"text-align: right;\">                        0</td><td style=\"text-align: right;\">                       0</td><td style=\"text-align: right;\">                           0</td><td style=\"text-align: right;\">                       0</td><td style=\"text-align: right;\">                             0</td><td style=\"text-align: right;\">                              0</td><td style=\"text-align: right;\">                   0</td><td style=\"text-align: right;\">                     0</td><td style=\"text-align: right;\">                              0</td><td style=\"text-align: right;\">                      0</td><td style=\"text-align: right;\">                      0</td><td style=\"text-align: right;\">                        0</td><td style=\"text-align: right;\">                         0</td><td style=\"text-align: right;\">                         0</td><td style=\"text-align: right;\">                          0</td><td style=\"text-align: right;\">                         0</td><td style=\"text-align: right;\">                             0</td><td style=\"text-align: right;\">                          0</td><td style=\"text-align: right;\">                            0</td><td style=\"text-align: right;\">                           0</td><td style=\"text-align: right;\">                               0</td><td style=\"text-align: right;\">                                        0</td><td style=\"text-align: right;\">                             0</td><td style=\"text-align: right;\">                            0</td><td style=\"text-align: right;\">                       0</td><td style=\"text-align: right;\">                        0</td><td style=\"text-align: right;\">                            0</td><td style=\"text-align: right;\">                           0</td><td style=\"text-align: right;\">                        0</td><td style=\"text-align: right;\">              -0.0122537 </td><td style=\"text-align: right;\">                             0</td><td style=\"text-align: right;\">                               0</td><td style=\"text-align: right;\">                       0</td><td style=\"text-align: right;\">                       0</td><td style=\"text-align: right;\">                        0</td><td style=\"text-align: right;\">                            0</td><td style=\"text-align: right;\">             -0.00686769</td><td style=\"text-align: right;\">                             0</td><td style=\"text-align: right;\">                          0</td><td style=\"text-align: right;\">                          0</td><td style=\"text-align: right;\">                   0</td><td style=\"text-align: right;\">                        0</td><td style=\"text-align: right;\">                          0</td><td style=\"text-align: right;\">                               0</td><td style=\"text-align: right;\">                          0</td><td style=\"text-align: right;\">                                  0</td><td style=\"text-align: right;\">                             0</td><td style=\"text-align: right;\">                         0</td><td style=\"text-align: right;\">                         0</td><td style=\"text-align: right;\">                        0</td><td style=\"text-align: right;\">                              0</td><td style=\"text-align: right;\">                        0</td><td style=\"text-align: right;\">                          0</td><td style=\"text-align: right;\">                               0</td><td style=\"text-align: right;\">                          0</td><td style=\"text-align: right;\">                        0</td><td style=\"text-align: right;\">                            0</td><td style=\"text-align: right;\">                          0</td><td style=\"text-align: right;\">                      0</td><td style=\"text-align: right;\">                      0</td><td style=\"text-align: right;\">                          0</td></tr>\n",
       "<tr><td style=\"text-align: right;\">    150</td><td style=\"text-align: right;\">                       0</td><td style=\"text-align: right;\">                            0</td><td style=\"text-align: right;\">                       0</td><td style=\"text-align: right;\">                      0</td><td style=\"text-align: right;\">                      0</td><td style=\"text-align: right;\">                         0</td><td style=\"text-align: right;\">                                0</td><td style=\"text-align: right;\">                        0</td><td style=\"text-align: right;\">                          0</td><td style=\"text-align: right;\">                                         0</td><td style=\"text-align: right;\">                         0</td><td style=\"text-align: right;\">                      0</td><td style=\"text-align: right;\">                        0</td><td style=\"text-align: right;\">                                 0</td><td style=\"text-align: right;\">                           0</td><td style=\"text-align: right;\">                        0</td><td style=\"text-align: right;\">                      0</td><td style=\"text-align: right;\">                          0</td><td style=\"text-align: right;\">                           0</td><td style=\"text-align: right;\">                          0</td><td style=\"text-align: right;\">                           0</td><td style=\"text-align: right;\">                           0</td><td style=\"text-align: right;\">                        0</td><td style=\"text-align: right;\">                             0</td><td style=\"text-align: right;\">                        0</td><td style=\"text-align: right;\">                               0</td><td style=\"text-align: right;\">                          0</td><td style=\"text-align: right;\">                          0</td><td style=\"text-align: right;\">                       0</td><td style=\"text-align: right;\">                              0</td><td style=\"text-align: right;\">                       0</td><td style=\"text-align: right;\">                              0</td><td style=\"text-align: right;\">                          0</td><td style=\"text-align: right;\">                                0</td><td style=\"text-align: right;\">                      0</td><td style=\"text-align: right;\">                        0</td><td style=\"text-align: right;\">                          0</td><td style=\"text-align: right;\">                           0</td><td style=\"text-align: right;\">                                0</td><td style=\"text-align: right;\">                           0</td><td style=\"text-align: right;\">                      0</td><td style=\"text-align: right;\">                           0</td><td style=\"text-align: right;\">                         0</td><td style=\"text-align: right;\">                          0</td><td style=\"text-align: right;\">                            0</td><td style=\"text-align: right;\">                          0</td><td style=\"text-align: right;\">                      0</td><td style=\"text-align: right;\">                        0</td><td style=\"text-align: right;\">                                0</td><td style=\"text-align: right;\">                           0</td><td style=\"text-align: right;\">                     0</td><td style=\"text-align: right;\">                            0</td><td style=\"text-align: right;\">                            0</td><td style=\"text-align: right;\">                    0</td><td style=\"text-align: right;\">                               0</td><td style=\"text-align: right;\">                           0</td><td style=\"text-align: right;\">                         0</td><td style=\"text-align: right;\">                                0</td><td style=\"text-align: right;\">                            0</td><td style=\"text-align: right;\">                            0</td><td style=\"text-align: right;\">                            0</td><td style=\"text-align: right;\">                          0</td><td style=\"text-align: right;\">                              0</td><td style=\"text-align: right;\">                            0</td><td style=\"text-align: right;\">                           0</td><td style=\"text-align: right;\">                          0</td><td style=\"text-align: right;\">                       0</td><td style=\"text-align: right;\">                       0</td><td style=\"text-align: right;\">                       0</td><td style=\"text-align: right;\">                          0</td><td style=\"text-align: right;\">                           0</td><td style=\"text-align: right;\">                           0</td><td style=\"text-align: right;\">                        0</td><td style=\"text-align: right;\">                                 0</td><td style=\"text-align: right;\">                       0</td><td style=\"text-align: right;\">                                0</td><td style=\"text-align: right;\">                        0</td><td style=\"text-align: right;\">                       0</td><td style=\"text-align: right;\">                      0</td><td style=\"text-align: right;\">                           0</td><td style=\"text-align: right;\">                          0</td><td style=\"text-align: right;\">                            0</td><td style=\"text-align: right;\">                             0</td><td style=\"text-align: right;\">                            0</td><td style=\"text-align: right;\">                       0</td><td style=\"text-align: right;\">                      0</td><td style=\"text-align: right;\">                       0</td><td style=\"text-align: right;\">                           0</td><td style=\"text-align: right;\">                         0</td><td style=\"text-align: right;\">                        0</td><td style=\"text-align: right;\">                          0</td><td style=\"text-align: right;\">                         0</td><td style=\"text-align: right;\">                                0</td><td style=\"text-align: right;\">                          0</td><td style=\"text-align: right;\">                     0</td><td style=\"text-align: right;\">                             0</td><td style=\"text-align: right;\">                         0</td><td style=\"text-align: right;\">                     0</td><td style=\"text-align: right;\">                         0</td><td style=\"text-align: right;\">                           0</td><td style=\"text-align: right;\">                           0</td><td style=\"text-align: right;\">                       0</td><td style=\"text-align: right;\">                          0</td><td style=\"text-align: right;\">                     0</td><td style=\"text-align: right;\">                              0</td><td style=\"text-align: right;\">                      0</td><td style=\"text-align: right;\">                              0</td><td style=\"text-align: right;\">                            0</td><td style=\"text-align: right;\">                         0</td><td style=\"text-align: right;\">                          0</td><td style=\"text-align: right;\">                                0</td><td style=\"text-align: right;\">                          0</td><td style=\"text-align: right;\">                       0</td><td style=\"text-align: right;\">                        0</td><td style=\"text-align: right;\">                              0</td><td style=\"text-align: right;\">                           0</td><td style=\"text-align: right;\">                          0</td><td style=\"text-align: right;\">                               0</td><td style=\"text-align: right;\">                       0</td><td style=\"text-align: right;\">                              0</td><td style=\"text-align: right;\">                              0</td><td style=\"text-align: right;\">                          0</td><td style=\"text-align: right;\">                              0</td><td style=\"text-align: right;\">                      0</td><td style=\"text-align: right;\">                      0</td><td style=\"text-align: right;\">                             0</td><td style=\"text-align: right;\">                            0</td><td style=\"text-align: right;\">              -0.238399</td><td style=\"text-align: right;\">                      0</td><td style=\"text-align: right;\">                         0</td><td style=\"text-align: right;\">                                  0</td><td style=\"text-align: right;\">                             0</td><td style=\"text-align: right;\">                          0</td><td style=\"text-align: right;\">                         0</td><td style=\"text-align: right;\">                         0</td><td style=\"text-align: right;\">                         0</td><td style=\"text-align: right;\">                         0</td><td style=\"text-align: right;\">                          0</td><td style=\"text-align: right;\">                        0</td><td style=\"text-align: right;\">                       0</td><td style=\"text-align: right;\">                           0</td><td style=\"text-align: right;\">                       0</td><td style=\"text-align: right;\">                             0</td><td style=\"text-align: right;\">                              0</td><td style=\"text-align: right;\">                   0</td><td style=\"text-align: right;\">                     0</td><td style=\"text-align: right;\">                              0</td><td style=\"text-align: right;\">                      0</td><td style=\"text-align: right;\">                      0</td><td style=\"text-align: right;\">                        0</td><td style=\"text-align: right;\">                         0</td><td style=\"text-align: right;\">                         0</td><td style=\"text-align: right;\">                          0</td><td style=\"text-align: right;\">                         0</td><td style=\"text-align: right;\">                             0</td><td style=\"text-align: right;\">                          0</td><td style=\"text-align: right;\">                            0</td><td style=\"text-align: right;\">                           0</td><td style=\"text-align: right;\">                               0</td><td style=\"text-align: right;\">                                        0</td><td style=\"text-align: right;\">                             0</td><td style=\"text-align: right;\">                            0</td><td style=\"text-align: right;\">                       0</td><td style=\"text-align: right;\">                        0</td><td style=\"text-align: right;\">                            0</td><td style=\"text-align: right;\">                           0</td><td style=\"text-align: right;\">                        0</td><td style=\"text-align: right;\">              -0.00583501</td><td style=\"text-align: right;\">                             0</td><td style=\"text-align: right;\">                               0</td><td style=\"text-align: right;\">                       0</td><td style=\"text-align: right;\">                       0</td><td style=\"text-align: right;\">                        0</td><td style=\"text-align: right;\">                            0</td><td style=\"text-align: right;\">             -0.0156747 </td><td style=\"text-align: right;\">                             0</td><td style=\"text-align: right;\">                          0</td><td style=\"text-align: right;\">                          0</td><td style=\"text-align: right;\">                   0</td><td style=\"text-align: right;\">                        0</td><td style=\"text-align: right;\">                          0</td><td style=\"text-align: right;\">                               0</td><td style=\"text-align: right;\">                          0</td><td style=\"text-align: right;\">                                  0</td><td style=\"text-align: right;\">                             0</td><td style=\"text-align: right;\">                         0</td><td style=\"text-align: right;\">                         0</td><td style=\"text-align: right;\">                        0</td><td style=\"text-align: right;\">                              0</td><td style=\"text-align: right;\">                        0</td><td style=\"text-align: right;\">                          0</td><td style=\"text-align: right;\">                               0</td><td style=\"text-align: right;\">                          0</td><td style=\"text-align: right;\">                        0</td><td style=\"text-align: right;\">                            0</td><td style=\"text-align: right;\">                          0</td><td style=\"text-align: right;\">                      0</td><td style=\"text-align: right;\">                      0</td><td style=\"text-align: right;\">                          0</td></tr>\n",
       "</tbody>\n",
       "</table>"
      ]
     },
     "metadata": {},
     "output_type": "display_data"
    },
    {
     "data": {
      "text/plain": []
     },
     "execution_count": 283,
     "metadata": {},
     "output_type": "execute_result"
    }
   ],
   "source": [
    "shapley_contribs = model.predict_contributions(ext_airbnb)\n",
    "shapley_contribs = ext_airbnb[\"price\"].cbind(shapley_contribs)\n",
    "shapley_contribs.head()"
   ]
  },
  {
   "cell_type": "code",
   "execution_count": 295,
   "metadata": {},
   "outputs": [],
   "source": [
    "def examine_top_rc(record):\n",
    "    \n",
    "    rc = record[0, list(set(record.col_names) - set([\"price\", \"BiasTerm\"]))]\n",
    "    rc = rc.as_data_frame(use_pandas = True).transpose().reset_index()\n",
    "    rc.columns = [\"column\", \"contribution\"]\n",
    "    rc = rc.reindex(rc.contribution.abs().sort_values(ascending = False).index)\n",
    "    \n",
    "    return rc"
   ]
  },
  {
   "cell_type": "code",
   "execution_count": 297,
   "metadata": {
    "scrolled": true
   },
   "outputs": [
    {
     "data": {
      "text/html": [
       "<div>\n",
       "<style scoped>\n",
       "    .dataframe tbody tr th:only-of-type {\n",
       "        vertical-align: middle;\n",
       "    }\n",
       "\n",
       "    .dataframe tbody tr th {\n",
       "        vertical-align: top;\n",
       "    }\n",
       "\n",
       "    .dataframe thead th {\n",
       "        text-align: right;\n",
       "    }\n",
       "</style>\n",
       "<table border=\"1\" class=\"dataframe\">\n",
       "  <thead>\n",
       "    <tr style=\"text-align: right;\">\n",
       "      <th></th>\n",
       "      <th>column</th>\n",
       "      <th>contribution</th>\n",
       "    </tr>\n",
       "  </thead>\n",
       "  <tbody>\n",
       "    <tr>\n",
       "      <th>211</th>\n",
       "      <td>room_type.Entire home/apt</td>\n",
       "      <td>-25.292227</td>\n",
       "    </tr>\n",
       "    <tr>\n",
       "      <th>264</th>\n",
       "      <td>availability_365</td>\n",
       "      <td>15.791730</td>\n",
       "    </tr>\n",
       "    <tr>\n",
       "      <th>124</th>\n",
       "      <td>room_type.Private room</td>\n",
       "      <td>-13.021234</td>\n",
       "    </tr>\n",
       "    <tr>\n",
       "      <th>30</th>\n",
       "      <td>neighbourhood_group.Manhattan</td>\n",
       "      <td>-6.914857</td>\n",
       "    </tr>\n",
       "    <tr>\n",
       "      <th>239</th>\n",
       "      <td>C12</td>\n",
       "      <td>-4.539287</td>\n",
       "    </tr>\n",
       "  </tbody>\n",
       "</table>\n",
       "</div>"
      ],
      "text/plain": [
       "                            column  contribution\n",
       "211      room_type.Entire home/apt    -25.292227\n",
       "264               availability_365     15.791730\n",
       "124         room_type.Private room    -13.021234\n",
       "30   neighbourhood_group.Manhattan     -6.914857\n",
       "239                            C12     -4.539287"
      ]
     },
     "execution_count": 297,
     "metadata": {},
     "output_type": "execute_result"
    }
   ],
   "source": [
    "examine_top_rc(shapley_contribs[0, :]).head()"
   ]
  },
  {
   "cell_type": "code",
   "execution_count": 300,
   "metadata": {},
   "outputs": [
    {
     "data": {
      "text/html": [
       "<table>\n",
       "<thead>\n",
       "<tr><th style=\"text-align: right;\">  id</th><th>name                              </th><th style=\"text-align: right;\">  host_id</th><th>host_name  </th><th>neighbourhood_group  </th><th>neighbourhood  </th><th style=\"text-align: right;\">  latitude</th><th style=\"text-align: right;\">  longitude</th><th>room_type   </th><th style=\"text-align: right;\">  price</th><th style=\"text-align: right;\">  minimum_nights</th><th style=\"text-align: right;\">  number_of_reviews</th><th>last_review        </th><th style=\"text-align: right;\">  reviews_per_month</th><th style=\"text-align: right;\">  calculated_host_listings_count</th><th style=\"text-align: right;\">  availability_365</th></tr>\n",
       "</thead>\n",
       "<tbody>\n",
       "<tr><td style=\"text-align: right;\">2539</td><td>Clean & quiet apt home by the park</td><td style=\"text-align: right;\">     2787</td><td>John       </td><td>Brooklyn             </td><td>Kensington     </td><td style=\"text-align: right;\">   40.6475</td><td style=\"text-align: right;\">   -73.9724</td><td>Private room</td><td style=\"text-align: right;\">    149</td><td style=\"text-align: right;\">               1</td><td style=\"text-align: right;\">                  9</td><td>2018-10-19 00:00:00</td><td style=\"text-align: right;\">               0.21</td><td style=\"text-align: right;\">                               6</td><td style=\"text-align: right;\">               365</td></tr>\n",
       "</tbody>\n",
       "</table>"
      ]
     },
     "metadata": {},
     "output_type": "display_data"
    },
    {
     "data": {
      "text/plain": []
     },
     "execution_count": 300,
     "metadata": {},
     "output_type": "execute_result"
    }
   ],
   "source": [
    "airbnb[0, :]"
   ]
  },
  {
   "cell_type": "markdown",
   "metadata": {},
   "source": [
    "Now we can build a surrogate decision tree model to explain at a high level how our model is predicting price."
   ]
  },
  {
   "cell_type": "code",
   "execution_count": 326,
   "metadata": {},
   "outputs": [
    {
     "name": "stdout",
     "output_type": "stream",
     "text": [
      "xgboost prediction progress: |████████████████████████████████████████████| 100%\n"
     ]
    }
   ],
   "source": [
    "surrogate_dt_data = model.predict(ext_airbnb).cbind(ext_airbnb)"
   ]
  },
  {
   "cell_type": "code",
   "execution_count": 332,
   "metadata": {},
   "outputs": [
    {
     "name": "stdout",
     "output_type": "stream",
     "text": [
      "drf Model Build progress: |███████████████████████████████████████████████| 100%\n"
     ]
    }
   ],
   "source": [
    "from h2o.estimators.random_forest import H2ORandomForestEstimator\n",
    "\n",
    "dt = H2ORandomForestEstimator(model_id=\"surrogate.hex\",\n",
    "                              ntrees=1, max_depth=3,\n",
    "                              sample_rate=1,\n",
    "                              categorical_encoding=\"one_hot_explicit\",\n",
    "                              mtries=112)\n",
    "dt.train(y=\"predict\", training_frame=surrogate_dt_data, x=x)"
   ]
  },
  {
   "cell_type": "code",
   "execution_count": 333,
   "metadata": {},
   "outputs": [],
   "source": [
    "import os\n",
    "import subprocess\n",
    "from IPython.display import Image\n",
    "def generateTreeImage(model, tree_number):\n",
    "    # Download MOJO\n",
    "    mojo_path = model.download_mojo(get_genmodel_jar=True)\n",
    "    directory = os.path.dirname(mojo_path)\n",
    "    h2o_jar_path = os.path.join(directory, \"h2o-genmodel.jar\")\n",
    "    # Create Graphviz file\n",
    "    gv_file_path = os.path.join(directory, \"decision_tree.gv\")\n",
    "    gv_call = \" \".join([\"java\", \"-cp\", h2o_jar_path, \"hex.genmodel.tools.PrintMojo\", \"--tree\", str(tree_number), \"-i\", mojo_path , \"-o\", gv_file_path])\n",
    "    result = subprocess.call(gv_call, shell=True)\n",
    "    result = subprocess.call([\"ls\", gv_file_path], shell = False)\n",
    "    result = subprocess.call([\"dot\", \"-Tpng\", gv_file_path, \"-o decision_tree.png\"], shell=False)\n",
    "    result = subprocess.call([\"ls\",\"decision_tree.png\"], shell = False)\n",
    "    \n",
    "    return Image(\" decision_tree.png\")"
   ]
  },
  {
   "cell_type": "markdown",
   "metadata": {},
   "source": [
    "The decision tree shows us three segments of the data on the right with higher than average price.  These are listings with:\n",
    "* C69 >= 0.0167\n",
    "* room_type = \"home/apt\""
   ]
  },
  {
   "cell_type": "code",
   "execution_count": 334,
   "metadata": {},
   "outputs": [
    {
     "data": {
      "image/png": "[encoded data removed]",
      "text/plain": [
       "<IPython.core.display.Image object>"
      ]
     },
     "execution_count": 334,
     "metadata": {},
     "output_type": "execute_result"
    }
   ],
   "source": [
    "generateTreeImage(dt, 0)"
   ]
  },
  {
   "cell_type": "markdown",
   "metadata": {},
   "source": [
    "We can use our Word2Vec model again to see which words have high C69 and C12 values to determine why this feature is so important in predicting price."
   ]
  },
  {
   "cell_type": "code",
   "execution_count": 338,
   "metadata": {},
   "outputs": [],
   "source": [
    "# Get Word Embeddings per Word\n",
    "unique_words = names.asfactor().unique().ascharacter()\n",
    "unique_words.col_names = [\"name\"]\n",
    "word_embeddings = w2v_model.transform(unique_words, aggregate_method=\"None\")\n",
    "word_embeddings = unique_words.cbind(word_embeddings)\n",
    "word_embeddings = word_embeddings[~(word_embeddings[\"C69\"].isna())]"
   ]
  },
  {
   "cell_type": "code",
   "execution_count": 344,
   "metadata": {},
   "outputs": [
    {
     "data": {
      "text/html": [
       "<table>\n",
       "<thead>\n",
       "<tr><th>name         </th><th style=\"text-align: right;\">     C69</th></tr>\n",
       "</thead>\n",
       "<tbody>\n",
       "<tr><td>professionals</td><td style=\"text-align: right;\">0.780826</td></tr>\n",
       "<tr><td>view         </td><td style=\"text-align: right;\">0.693343</td></tr>\n",
       "<tr><td>hudson       </td><td style=\"text-align: right;\">0.599203</td></tr>\n",
       "<tr><td>ave          </td><td style=\"text-align: right;\">0.58502 </td></tr>\n",
       "<tr><td>high         </td><td style=\"text-align: right;\">0.583406</td></tr>\n",
       "<tr><td>bedford      </td><td style=\"text-align: right;\">0.578053</td></tr>\n",
       "<tr><td>penthouse    </td><td style=\"text-align: right;\">0.566686</td></tr>\n",
       "<tr><td>views        </td><td style=\"text-align: right;\">0.557124</td></tr>\n",
       "<tr><td>multi        </td><td style=\"text-align: right;\">0.532083</td></tr>\n",
       "<tr><td>luxury       </td><td style=\"text-align: right;\">0.504097</td></tr>\n",
       "</tbody>\n",
       "</table>"
      ]
     },
     "metadata": {},
     "output_type": "display_data"
    },
    {
     "data": {
      "text/plain": []
     },
     "execution_count": 344,
     "metadata": {},
     "output_type": "execute_result"
    }
   ],
   "source": [
    "word_embeddings[[\"name\", \"C69\"]].sort(by=\"C69\", ascending=[False])"
   ]
  },
  {
   "cell_type": "code",
   "execution_count": 345,
   "metadata": {},
   "outputs": [
    {
     "data": {
      "text/html": [
       "<table>\n",
       "<thead>\n",
       "<tr><th>name      </th><th style=\"text-align: right;\">     C12</th></tr>\n",
       "</thead>\n",
       "<tbody>\n",
       "<tr><td>blueground</td><td style=\"text-align: right;\">0.794744</td></tr>\n",
       "<tr><td>wyndham   </td><td style=\"text-align: right;\">0.753197</td></tr>\n",
       "<tr><td>indoor    </td><td style=\"text-align: right;\">0.602927</td></tr>\n",
       "<tr><td>union     </td><td style=\"text-align: right;\">0.588891</td></tr>\n",
       "<tr><td>pool      </td><td style=\"text-align: right;\">0.588137</td></tr>\n",
       "<tr><td>midtown   </td><td style=\"text-align: right;\">0.577057</td></tr>\n",
       "<tr><td>terrace   </td><td style=\"text-align: right;\">0.565009</td></tr>\n",
       "<tr><td>box       </td><td style=\"text-align: right;\">0.562298</td></tr>\n",
       "<tr><td>club      </td><td style=\"text-align: right;\">0.55298 </td></tr>\n",
       "<tr><td>roofdeck  </td><td style=\"text-align: right;\">0.511236</td></tr>\n",
       "</tbody>\n",
       "</table>"
      ]
     },
     "metadata": {},
     "output_type": "display_data"
    },
    {
     "data": {
      "text/plain": []
     },
     "execution_count": 345,
     "metadata": {},
     "output_type": "execute_result"
    }
   ],
   "source": [
    "word_embeddings[[\"name\", \"C12\"]].sort(by=\"C12\", ascending=[False])"
   ]
  },
  {
   "cell_type": "code",
   "execution_count": 346,
   "metadata": {},
   "outputs": [
    {
     "name": "stdout",
     "output_type": "stream",
     "text": [
      "H2O session _sid_8f85 closed.\n"
     ]
    }
   ],
   "source": [
    "h2o.cluster().shutdown()"
   ]
  },
  {
   "cell_type": "code",
   "execution_count": null,
   "metadata": {},
   "outputs": [],
   "source": []
  }
 ],
 "metadata": {
  "kernelspec": {
   "display_name": "Python 3",
   "language": "python",
   "name": "python3"
  },
  "language_info": {
   "codemirror_mode": {
    "name": "ipython",
    "version": 3
   },
   "file_extension": ".py",
   "mimetype": "text/x-python",
   "name": "python",
   "nbconvert_exporter": "python",
   "pygments_lexer": "ipython3",
   "version": "3.6.8"
  }
 },
 "nbformat": 4,
 "nbformat_minor": 4
}
