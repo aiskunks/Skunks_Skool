{
 "cells": [
  {
   "cell_type": "markdown",
   "metadata": {},
   "source": [
    "# Predicting Airline Delays in Python\n",
    "\n",
    "The following is a demonstration of predicting potential flight delays using a publicly available airlines dataset. For this example, the dataset used is a small sample of what is more than two decades worth of flight data in order to ensure the download and import process would not take more than a minute or two.\n",
    "\n",
    "## The Data\n",
    "\n",
    "The data comes originally from [RITA](http://www.transtats.bts.gov/OT_Delay/OT_DelayCause1.asp) where it is described in detail. To use the entire 26 years worth of flight information to more accurately predict delays and cancellation please download one of the following and change the path to the data in the notebook: \n",
    "\n",
    "  * [2 Thousand Rows - 4.3MB](https://s3.amazonaws.com/h2o-airlines-unpacked/allyears2k.csv)\n",
    "  * [5.8 Million Rows - 580MB](https://s3.amazonaws.com/h2o-airlines-unpacked/airlines_all.05p.csv)\n",
    "  * [152 Million Rows (Years: 1987-2013) - 14.5GB](https://s3.amazonaws.com/h2o-airlines-unpacked/allyears.1987.2013.csv)\n",
    "\n",
    "## Business Benefits\n",
    "\n",
    "There are obvious benefits to predicting potential delays and logistic issues for a business. It helps the user make contingency plans and corrections to avoid undesirable outcomes. Recommendation engines can forewarn flyers of possible delays and rank flight options accordingly, other businesses might pay more for a flight to ensure certain shipments arrive on time, and airline carriers can use the information to better their flight plans. The goal is to have the machine take in all the possible factors that will affect a flight and return the probability of a flight being delayed."
   ]
  },
  {
   "cell_type": "markdown",
   "metadata": {},
   "source": [
    "### Load the H2O module and start an local H2O cluster\n",
    "\n",
    "Connection to an H2O cloud is established through the `h2o.init` function from the `h2o` module. To connect to a pre-existing H2O cluster make sure to edit the H2O location with argument `myIP` and `myPort`.\n"
   ]
  },
  {
   "cell_type": "code",
   "execution_count": null,
   "metadata": {
    "collapsed": false
   },
   "outputs": [],
   "source": [
    "import h2o\n",
    "import os\n",
    "import tabulate\n",
    "import operator \n",
    "from h2o.estimators.glm import H2OGeneralizedLinearEstimator\n",
    "from h2o.estimators.deeplearning import H2ODeepLearningEstimator"
   ]
  },
  {
   "cell_type": "code",
   "execution_count": null,
   "metadata": {
    "collapsed": false
   },
   "outputs": [],
   "source": [
    "h2o.init()"
   ]
  },
  {
   "cell_type": "markdown",
   "metadata": {},
   "source": [
    "### Import Data into H2O\n",
    "\n",
    "We will use the `h2o.importFile` function to do a parallel read of the data into the H2O distributed key-value store. During import of the data, features Year, Month, DayOfWeek, and FlightNum were set to be parsed as enumerator or categorical rather than numeric columns. Once the data is in H2O, get an overview of the airlines dataset quickly by using `describe`.\n"
   ]
  },
  {
   "cell_type": "code",
   "execution_count": null,
   "metadata": {
    "collapsed": false
   },
   "outputs": [],
   "source": [
    "airlines_hex = h2o.import_file(path = os.path.realpath(\"../data/allyears2k.csv\"),\n",
    "                               destination_frame = \"airlines.hex\")\n",
    "airlines_hex.describe()"
   ]
  },
  {
   "cell_type": "markdown",
   "metadata": {},
   "source": [
    "### Building a GLM Model\n",
    "\n",
    "Run a logistic regression model using function `h2o.glm` and selecting “binomial” for parameter `Family`. Add some regularization by setting alpha to 0.5 and lambda to 1e-05."
   ]
  },
  {
   "cell_type": "code",
   "execution_count": null,
   "metadata": {
    "collapsed": false
   },
   "outputs": [],
   "source": [
    "# Set predictor and response variables\n",
    "myY = \"IsDepDelayed\"\n",
    "myX = [\"Dest\", \"Origin\", \"DayofMonth\", \"Year\", \"UniqueCarrier\", \"DayOfWeek\", \"Month\", \"Distance\"]\n",
    "\n",
    "# GLM - Predict Delays\n",
    "glm_model = H2OGeneralizedLinearEstimator(\n",
    "    family = \"binomial\",standardize = True, solver = \"IRLSM\",\n",
    "    link = \"logit\", alpha = 0.5, model_id = \"glm_model_from_python\" )\n",
    "glm_model.train(x               = myX,\n",
    "               y               = myY,\n",
    "               training_frame  = airlines_hex)\n"
   ]
  },
  {
   "cell_type": "code",
   "execution_count": null,
   "metadata": {
    "collapsed": false
   },
   "outputs": [],
   "source": [
    "print \"AUC of the training set : \" + str(glm_model.auc())\n",
    "# Variable importances from each algorithm\n",
    "# Calculate magnitude of normalized GLM coefficients\n",
    "glm_varimp = glm_model.coef_norm()\n",
    "for k,v in glm_varimp.iteritems():\n",
    "    glm_varimp[k] = abs(glm_varimp[k])\n",
    "    \n",
    "# Sort in descending order by magnitude\n",
    "glm_sorted = sorted(glm_varimp.items(), key = operator.itemgetter(1), reverse = True)\n",
    "table = tabulate.tabulate(glm_sorted, headers = [\"Predictor\", \"Normalized Coefficient\"], tablefmt = \"orgtbl\")\n",
    "print \"Variable Importances:\\n\\n\" + table"
   ]
  },
  {
   "cell_type": "markdown",
   "metadata": {},
   "source": [
    "### Building a Deep Learning Model\n",
    "\n",
    "Build a binary classfication model using function `h2o.deeplearning` and selecting “bernoulli” for parameter `Distribution`. Run 100 passes over the data by setting parameter `epoch` to 100."
   ]
  },
  {
   "cell_type": "code",
   "execution_count": null,
   "metadata": {
    "collapsed": false
   },
   "outputs": [],
   "source": [
    "# Deep Learning - Predict Delays\n",
    "deeplearning_model = H2ODeepLearningEstimator(\n",
    "    distribution = \"bernoulli\", model_id = \"deeplearning_model_from_python\",\n",
    "    epochs = 100, hidden = [200,200],  \n",
    "    seed = 6765686131094811000, variable_importances = True)\n",
    "deeplearning_model.train(x               = myX,\n",
    "                         y               = myY,\n",
    "                         training_frame  = airlines_hex)"
   ]
  },
  {
   "cell_type": "code",
   "execution_count": null,
   "metadata": {
    "collapsed": false
   },
   "outputs": [],
   "source": [
    "print \"AUC of the training set : \" + str(deeplearning_model.auc())\n",
    "deeplearning_model.varimp(table)"
   ]
  },
  {
   "cell_type": "markdown",
   "metadata": {},
   "source": [
    "### Shut down the cluster\n",
    "\n",
    "Shut down the cluster now that we are done using it."
   ]
  },
  {
   "cell_type": "code",
   "execution_count": null,
   "metadata": {
    "collapsed": true
   },
   "outputs": [],
   "source": [
    "h2o.shutdown(prompt=False)"
   ]
  }
 ],
 "metadata": {
  "kernelspec": {
   "display_name": "Python 2",
   "language": "python",
   "name": "python2"
  },
  "language_info": {
   "codemirror_mode": {
    "name": "ipython",
    "version": 2
   },
   "file_extension": ".py",
   "mimetype": "text/x-python",
   "name": "python",
   "nbconvert_exporter": "python",
   "pygments_lexer": "ipython2",
   "version": "2.7.9"
  }
 },
 "nbformat": 4,
 "nbformat_minor": 0
}
