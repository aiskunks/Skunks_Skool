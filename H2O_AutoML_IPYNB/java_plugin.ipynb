{
 "cells": [
  {
   "cell_type": "markdown",
   "metadata": {},
   "source": [
    "# H2OAutoML Plugin\n",
    "\n",
    "Since H2O-3 `3.28.0.1`, users have the possibility to customize the `H2OAutoML` model selection engine by writing their own training steps as a Java plugin."
   ]
  },
  {
   "cell_type": "markdown",
   "metadata": {},
   "source": [
    "## How to write a simple plugin\n",
    "\n",
    "To create such plugin, user simply needs to create a small project containing at least:\n",
    "- an implementation of the `ai.h2o.automl.ModelingStepsProvider` interface.\n",
    "- a file `META-INF/services/ai.h2o.automl.ModelingStepsProvider` with a entry for each of those implementations that need to be exposed to the service provider of the main `H2O-3` jar.\n",
    "\n",
    "This folder contains such a plugin example:\n",
    "```text\n",
    ".\n",
    "├── Makefile\n",
    "├── java_plugin.ipynb\n",
    "└── src\n",
    "    ├── META-INF\n",
    "    │   └── services\n",
    "    │       └── ai.h2o.automl.ModelingStepsProvider\n",
    "    └── my\n",
    "        └── automl\n",
    "            ├── MyDRFStepsProvider.java\n",
    "            └── MyGLMStepsProvider.java\n",
    "```\n",
    "\n",
    "with `src/META-INF/services/ai.h2o.automl.ModelingStepsProvider`:\n",
    "```text\n",
    "my.automl.MyDRFStepsProvider\n",
    "my.automl.MyGLMStepsProvider\n",
    "```\n",
    "\n",
    "and for example `MyDRFStepsProvider.java`:\n",
    "```java\n",
    "package my.automl;\n",
    "\n",
    "import ai.h2o.automl.*;\n",
    "import hex.grid.Grid;\n",
    "import hex.tree.drf.DRFModel;\n",
    "import hex.tree.drf.DRFModel.DRFParameters;\n",
    "import water.Job;\n",
    "\n",
    "import java.util.HashMap;\n",
    "import java.util.Map;\n",
    "import java.util.stream.IntStream;\n",
    "\n",
    "import static ai.h2o.automl.ModelingStep.ModelStep.DEFAULT_MODEL_TRAINING_WEIGHT;\n",
    "\n",
    "\n",
    "public class MyDRFStepsProvider implements ModelingStepsProvider<MyDRFStepsProvider.DRFSteps> {\n",
    "\n",
    "    public static class DRFSteps extends ModelingSteps {\n",
    "\n",
    "        static abstract class DRFGridStep extends ModelingStep.GridStep<DRFModel> {\n",
    "\n",
    "            DRFGridStep(String id, int weight, AutoML autoML) {\n",
    "                super(Algo.DRF, id, weight, autoML);\n",
    "            }\n",
    "\n",
    "            DRFParameters prepareModelParameters() {\n",
    "                DRFParameters drfParameters = new DRFParameters();\n",
    "                drfParameters._sample_rate = 0.8;\n",
    "                drfParameters._col_sample_rate_per_tree = 0.8;\n",
    "                drfParameters._col_sample_rate_change_per_level = 0.9;\n",
    "                return drfParameters;\n",
    "            }\n",
    "        }\n",
    "\n",
    "        private ModelingStep[] grids = new ModelingStep[] {\n",
    "                new DRFGridStep(\"grid_1\", 10*DEFAULT_MODEL_TRAINING_WEIGHT, aml()) {\n",
    "                    @Override\n",
    "                    protected Job<Grid> startJob() {\n",
    "                        DRFParameters drfParameters = prepareModelParameters();\n",
    "\n",
    "                        Map<String, Object[]> searchParams = new HashMap<>();\n",
    "                        searchParams.put(\"_ntrees\", IntStream.rangeClosed(5, 1000).filter(i -> i % 50 == 0).boxed().toArray());\n",
    "                        searchParams.put(\"_nbins\", IntStream.of(5, 10, 15, 20, 30).boxed().toArray());\n",
    "                        searchParams.put(\"_max_depth\", IntStream.rangeClosed(3, 20).boxed().toArray());\n",
    "                        searchParams.put(\"_min_rows\", IntStream.of(3, 5, 10, 20, 50, 80, 100).boxed().toArray());\n",
    "\n",
    "                        return hyperparameterSearch(makeKey(\"MyDRF\", false), drfParameters, searchParams);\n",
    "                    }\n",
    "                },\n",
    "        };\n",
    "\n",
    "        public DRFSteps(AutoML autoML) {\n",
    "            super(autoML);\n",
    "        }\n",
    "\n",
    "        @Override\n",
    "        protected ModelingStep[] getGrids() {\n",
    "            return grids;\n",
    "        }\n",
    "    }\n",
    "\n",
    "    @Override\n",
    "    public String getName() {\n",
    "        return \"MyDRF\";\n",
    "    }\n",
    "\n",
    "    @Override\n",
    "    public DRFSteps newInstance(AutoML aml) {\n",
    "        return new DRFSteps(aml);\n",
    "    }\n",
    "}\n",
    "```\n",
    "\n",
    "As shown above, writing a `ModelingStepsProvider` simply requires to implement 2 methods:\n",
    "- `String getName()` returning the name of this provider, which should be unique among all the registered providers: default algo names like \"GLM\", \"XGBoost\", \"GBM\", \"DRF\" are already used by `H2O-3` and must be avoided.\n",
    "- `T newInstance(AutoML aml)` returning an instance of `ai.h2o.automl.ModelingSteps`: this is the class defining the logic for the default models and/or the grids that the user wants to add to `H2O AutoML`.\n"
   ]
  },
  {
   "cell_type": "markdown",
   "metadata": {},
   "source": [
    "## How to add the plugin to H2O-3\n",
    "\n",
    "H2O AutoML plugins are simply discovered using [ServiceLoader](https://docs.oracle.com/javase/8/docs/api/java/util/ServiceLoader.html), so the only requirement is to make this plugin available on the classpath.\n",
    "\n",
    "The simplest way is to create a jar, and add it to the classpath.\n",
    "For example, from this directory, running\n",
    "```bash\n",
    "make dist\n",
    "```\n",
    "will create a jar for our plugin in the `./dist` subfolder.\n",
    "\n",
    "This jar can then be added to the classpath when starting `H2O-3`:\n",
    "```bash\n",
    "java -cp /path/to/h2o.jar:/path/to/automl/plugin.jar water.H2OApp\n",
    "```\n",
    "or directly from the clients:\n",
    "- Python:\n",
    "```python\n",
    "import h2o\n",
    "h2o.init(extra_classpath=[\"/path/to/automl/plugin.jar\"])\n",
    "```\n",
    "- R:\n",
    "```R\n",
    "library(\"h2o\")\n",
    "h2o.init(extra_classpath=c(\"/path/to/automl/plugin.jar\"))\n",
    "```"
   ]
  },
  {
   "cell_type": "code",
   "execution_count": 1,
   "metadata": {},
   "outputs": [
    {
     "name": "stdout",
     "output_type": "stream",
     "text": [
      "Collecting h2o\n",
      "  Downloading h2o-3.28.0.2.tar.gz (126.2 MB)\n",
      "\u001b[K     |████████████████████████████████| 126.2 MB 1.6 MB/s eta 0:00:01\n",
      "\u001b[?25hRequirement already satisfied: requests in /Users/seb/.pyenv/versions/3.7.5/lib/python3.7/site-packages (from h2o) (2.22.0)\n",
      "Requirement already satisfied: tabulate in /Users/seb/.pyenv/versions/3.7.5/lib/python3.7/site-packages (from h2o) (0.8.6)\n",
      "Requirement already satisfied: future in /Users/seb/.pyenv/versions/3.7.5/lib/python3.7/site-packages (from h2o) (0.18.2)\n",
      "Requirement already satisfied: colorama>=0.3.8 in /Users/seb/.pyenv/versions/3.7.5/lib/python3.7/site-packages (from h2o) (0.4.3)\n",
      "Requirement already satisfied: chardet<3.1.0,>=3.0.2 in /Users/seb/.pyenv/versions/3.7.5/lib/python3.7/site-packages (from requests->h2o) (3.0.4)\n",
      "Requirement already satisfied: idna<2.9,>=2.5 in /Users/seb/.pyenv/versions/3.7.5/lib/python3.7/site-packages (from requests->h2o) (2.8)\n",
      "Requirement already satisfied: certifi>=2017.4.17 in /Users/seb/.pyenv/versions/3.7.5/lib/python3.7/site-packages (from requests->h2o) (2019.11.28)\n",
      "Requirement already satisfied: urllib3!=1.25.0,!=1.25.1,<1.26,>=1.21.1 in /Users/seb/.pyenv/versions/3.7.5/lib/python3.7/site-packages (from requests->h2o) (1.24.3)\n",
      "Installing collected packages: h2o\n",
      "    Running setup.py install for h2o ... \u001b[?25ldone\n",
      "\u001b[?25hSuccessfully installed h2o-3.28.0.2\n"
     ]
    }
   ],
   "source": [
    "# run this cell if you don't have h2o installed in your Python environment\n",
    "!pip install h2o"
   ]
  },
  {
   "cell_type": "code",
   "execution_count": 2,
   "metadata": {},
   "outputs": [
    {
     "name": "stdout",
     "output_type": "stream",
     "text": [
      "rm -Rf ./build ./dist\n",
      "sources = ./src/my/automl/MyGLMStepsProvider.java ./src/my/automl/MyDRFStepsProvider.java\n",
      "mkdir -p build\n",
      "javac ./src/my/automl/MyGLMStepsProvider.java ./src/my/automl/MyDRFStepsProvider.java -cp \"/Users/seb/.pyenv/versions/3.7.5/lib/python3.7/site-packages/h2o/backend/bin/h2o.jar\" -d ./build\n",
      "cp -R ./src/META-INF ./build\n",
      "mkdir -p dist\n",
      "jar cvf ./dist/h2oautoml_plugin.jar -C ./build .\n",
      "added manifest\n",
      "ignoring entry META-INF/\n",
      "adding: META-INF/services/(in = 0) (out= 0)(stored 0%)\n",
      "adding: META-INF/services/ai.h2o.automl.ModelingStepsProvider(in = 59) (out= 40)(deflated 32%)\n",
      "adding: my/(in = 0) (out= 0)(stored 0%)\n",
      "adding: my/automl/(in = 0) (out= 0)(stored 0%)\n",
      "adding: my/automl/MyGLMStepsProvider$GLMSteps$1.class(in = 2770) (out= 1282)(deflated 53%)\n",
      "adding: my/automl/MyDRFStepsProvider$DRFSteps.class(in = 899) (out= 452)(deflated 49%)\n",
      "adding: my/automl/MyDRFStepsProvider$DRFSteps$DRFGridStep.class(in = 1109) (out= 571)(deflated 48%)\n",
      "adding: my/automl/MyDRFStepsProvider.class(in = 827) (out= 411)(deflated 50%)\n",
      "adding: my/automl/MyGLMStepsProvider.class(in = 827) (out= 415)(deflated 49%)\n",
      "adding: my/automl/MyDRFStepsProvider$DRFSteps$1.class(in = 2500) (out= 1191)(deflated 52%)\n",
      "adding: my/automl/MyGLMStepsProvider$GLMSteps.class(in = 900) (out= 452)(deflated 49%)\n",
      "adding: my/automl/MyGLMStepsProvider$GLMSteps$GLMGridStep.class(in = 1510) (out= 779)(deflated 48%)\n"
     ]
    }
   ],
   "source": [
    "# let's build our plugin jar\n",
    "!make dist"
   ]
  },
  {
   "cell_type": "code",
   "execution_count": 3,
   "metadata": {},
   "outputs": [
    {
     "name": "stdout",
     "output_type": "stream",
     "text": [
      "Checking whether there is an H2O instance running at http://localhost:54321 ..... not found.\n",
      "Attempting to start a local H2O server...\n",
      "  Java Version: java version \"1.8.0_202\"; Java(TM) SE Runtime Environment (build 1.8.0_202-b08); Java HotSpot(TM) 64-Bit Server VM (build 25.202-b08, mixed mode)\n",
      "  Starting server from /Users/seb/.pyenv/versions/3.7.5/envs/ve37-h2o/lib/python3.7/site-packages/h2o/backend/bin/h2o.jar\n",
      "  Ice root: /var/folders/8j/1spy0dnn4pj3f018plmmbf200000gn/T/tmpaufn47qd\n",
      "  JVM stdout: /var/folders/8j/1spy0dnn4pj3f018plmmbf200000gn/T/tmpaufn47qd/h2o_seb_started_from_python.out\n",
      "  JVM stderr: /var/folders/8j/1spy0dnn4pj3f018plmmbf200000gn/T/tmpaufn47qd/h2o_seb_started_from_python.err\n",
      "  Server is running at http://127.0.0.1:54321\n",
      "Connecting to H2O server at http://127.0.0.1:54321 ... successful.\n"
     ]
    },
    {
     "data": {
      "text/html": [
       "<div style=\"overflow:auto\"><table style=\"width:50%\"><tr><td>H2O cluster uptime:</td>\n",
       "<td>01 secs</td></tr>\n",
       "<tr><td>H2O cluster timezone:</td>\n",
       "<td>Europe/Prague</td></tr>\n",
       "<tr><td>H2O data parsing timezone:</td>\n",
       "<td>UTC</td></tr>\n",
       "<tr><td>H2O cluster version:</td>\n",
       "<td>3.28.0.2</td></tr>\n",
       "<tr><td>H2O cluster version age:</td>\n",
       "<td>7 days, 23 hours and 16 minutes </td></tr>\n",
       "<tr><td>H2O cluster name:</td>\n",
       "<td>H2O_from_python_seb_cy6gp3</td></tr>\n",
       "<tr><td>H2O cluster total nodes:</td>\n",
       "<td>1</td></tr>\n",
       "<tr><td>H2O cluster free memory:</td>\n",
       "<td>3.556 Gb</td></tr>\n",
       "<tr><td>H2O cluster total cores:</td>\n",
       "<td>8</td></tr>\n",
       "<tr><td>H2O cluster allowed cores:</td>\n",
       "<td>8</td></tr>\n",
       "<tr><td>H2O cluster status:</td>\n",
       "<td>accepting new members, healthy</td></tr>\n",
       "<tr><td>H2O connection url:</td>\n",
       "<td>http://127.0.0.1:54321</td></tr>\n",
       "<tr><td>H2O connection proxy:</td>\n",
       "<td>{'http': None, 'https': None}</td></tr>\n",
       "<tr><td>H2O internal security:</td>\n",
       "<td>False</td></tr>\n",
       "<tr><td>H2O API Extensions:</td>\n",
       "<td>Amazon S3, XGBoost, Algos, AutoML, Core V3, TargetEncoder, Core V4</td></tr>\n",
       "<tr><td>Python version:</td>\n",
       "<td>3.7.5 final</td></tr></table></div>"
      ],
      "text/plain": [
       "--------------------------  ------------------------------------------------------------------\n",
       "H2O cluster uptime:         01 secs\n",
       "H2O cluster timezone:       Europe/Prague\n",
       "H2O data parsing timezone:  UTC\n",
       "H2O cluster version:        3.28.0.2\n",
       "H2O cluster version age:    7 days, 23 hours and 16 minutes\n",
       "H2O cluster name:           H2O_from_python_seb_cy6gp3\n",
       "H2O cluster total nodes:    1\n",
       "H2O cluster free memory:    3.556 Gb\n",
       "H2O cluster total cores:    8\n",
       "H2O cluster allowed cores:  8\n",
       "H2O cluster status:         accepting new members, healthy\n",
       "H2O connection url:         http://127.0.0.1:54321\n",
       "H2O connection proxy:       {'http': None, 'https': None}\n",
       "H2O internal security:      False\n",
       "H2O API Extensions:         Amazon S3, XGBoost, Algos, AutoML, Core V3, TargetEncoder, Core V4\n",
       "Python version:             3.7.5 final\n",
       "--------------------------  ------------------------------------------------------------------"
      ]
     },
     "metadata": {},
     "output_type": "display_data"
    }
   ],
   "source": [
    "# and start the Python client with our plugin\n",
    "import h2o\n",
    "h2o.init(extra_classpath=[\"./dist/h2oautoml_plugin.jar\"])"
   ]
  },
  {
   "cell_type": "markdown",
   "metadata": {},
   "source": [
    "## How to use the custom steps\n",
    "\n",
    "Those new steps won't be trained by default by `H2O AutoML`, however user can use the `modeling_plan` argument in the `Python` or `R` clients to tell `AutoML` to use them."
   ]
  },
  {
   "cell_type": "markdown",
   "metadata": {},
   "source": [
    "Let's first run a simple AutoML job and look at the first modeling steps:"
   ]
  },
  {
   "cell_type": "code",
   "execution_count": 4,
   "metadata": {},
   "outputs": [],
   "source": [
    "from h2o.automl import H2OAutoML\n",
    "\n",
    "aml = H2OAutoML(project_name=\"without_plugin\", max_models=15, seed=42)"
   ]
  },
  {
   "cell_type": "code",
   "execution_count": 5,
   "metadata": {},
   "outputs": [
    {
     "name": "stdout",
     "output_type": "stream",
     "text": [
      "Parse progress: |█████████████████████████████████████████████████████████| 100%\n"
     ]
    }
   ],
   "source": [
    "fr = h2o.import_file(\"https://h2o-public-test-data.s3.amazonaws.com/smalldata/prostate/prostate.csv\")"
   ]
  },
  {
   "cell_type": "code",
   "execution_count": 6,
   "metadata": {},
   "outputs": [],
   "source": [
    "target = \"CAPSULE\"\n",
    "train = fr\n",
    "train[target] = train[target].asfactor()"
   ]
  },
  {
   "cell_type": "code",
   "execution_count": 7,
   "metadata": {},
   "outputs": [
    {
     "name": "stdout",
     "output_type": "stream",
     "text": [
      "AutoML progress: |████████████████████████████████████████████████████████| 100%\n"
     ]
    }
   ],
   "source": [
    "aml.train(y=target, training_frame=train)"
   ]
  },
  {
   "cell_type": "code",
   "execution_count": 8,
   "metadata": {},
   "outputs": [
    {
     "data": {
      "text/plain": [
       "[{'name': 'XGBoost',\n",
       "  'steps': [{'id': 'def_1', 'weight': 10},\n",
       "   {'id': 'def_2', 'weight': 10},\n",
       "   {'id': 'def_3', 'weight': 10}]},\n",
       " {'name': 'GLM', 'steps': [{'id': 'def_1', 'weight': 10}]},\n",
       " {'name': 'DRF', 'steps': [{'id': 'def_1', 'weight': 10}]},\n",
       " {'name': 'GBM',\n",
       "  'steps': [{'id': 'def_1', 'weight': 10},\n",
       "   {'id': 'def_2', 'weight': 10},\n",
       "   {'id': 'def_3', 'weight': 10},\n",
       "   {'id': 'def_4', 'weight': 10},\n",
       "   {'id': 'def_5', 'weight': 10}]},\n",
       " {'name': 'DeepLearning', 'steps': [{'id': 'def_1', 'weight': 10}]},\n",
       " {'name': 'DRF', 'steps': [{'id': 'XRT', 'weight': 10}]},\n",
       " {'name': 'XGBoost', 'steps': [{'id': 'grid_1', 'weight': 100}]},\n",
       " {'name': 'GBM', 'steps': [{'id': 'grid_1', 'weight': 60}]},\n",
       " {'name': 'StackedEnsemble',\n",
       "  'steps': [{'id': 'best', 'weight': 10}, {'id': 'all', 'weight': 10}]}]"
      ]
     },
     "execution_count": 8,
     "metadata": {},
     "output_type": "execute_result"
    }
   ],
   "source": [
    "aml.modeling_steps"
   ]
  },
  {
   "cell_type": "markdown",
   "metadata": {},
   "source": [
    "As we can see, the default run doesn't contain any step defined in our plugin.\n",
    "To tell AutoML to use our new steps, we will use the `modeling_plan` property."
   ]
  },
  {
   "cell_type": "code",
   "execution_count": 9,
   "metadata": {},
   "outputs": [],
   "source": [
    "# we can decide to add our new steps at the beginning: \n",
    "# by default, adding just the provider name will add both the default models and the grids.\n",
    "new_plan = [\"MyGLM\", \"MyDRF\"] + aml.modeling_steps\n",
    "\n",
    "# it is also possible to be more precise when defining the modeling sequence, \n",
    "# for example ensuring that default models are all trained before the grids:\n",
    "another_plan = [\n",
    "    ('XGBoost', 'defaults'),\n",
    "    ('GLM', 'defaults'),\n",
    "    ('DRF', 'defaults'),\n",
    "    ('GBM', 'defaults'),\n",
    "    ('DeepLearning', 'defaults'),\n",
    "    ('MyGLM', 'grids'),\n",
    "    ('MyDRF', 'grids'),\n",
    "    ('XGBoost', 'grids'),\n",
    "    ('GBM', 'grids'),\n",
    "    ('DeepLearning', 'grids'),\n",
    "    'StackedEnsemble'\n",
    "]\n",
    "\n",
    "# or even go into further details, \n",
    "# for example by tweaking the 'weight' property of the `modeling_plan` to produce more models from the `MyGBM` grid, relatively to other grids: \n",
    "# this is currently applied only for grids when using `max_runtime_secs` and/or `max_models` constraints.\n",
    "yet_another_plan = [\n",
    "    ('XGBoost', 'defaults'),\n",
    "    ('GLM', 'defaults'),\n",
    "    ('DRF', 'defaults'),\n",
    "    ('GBM', 'defaults'),\n",
    "    ('DeepLearning', 'defaults'),\n",
    "    ('MyGLM', 'grids'),\n",
    "    dict(name='MyDRF', steps=dict(id='grid_1', weight=100)),\n",
    "    dict(name='XGBoost', steps=dict(id='grid_1', weight=60)),\n",
    "    ('GBM', 'grids'),\n",
    "    ('DeepLearning', 'grids'),\n",
    "    'StackedEnsemble'\n",
    "]"
   ]
  },
  {
   "cell_type": "code",
   "execution_count": 10,
   "metadata": {},
   "outputs": [
    {
     "data": {
      "text/plain": [
       "['MyGLM',\n",
       " 'MyDRF',\n",
       " {'name': 'XGBoost',\n",
       "  'steps': [{'id': 'def_1', 'weight': 10},\n",
       "   {'id': 'def_2', 'weight': 10},\n",
       "   {'id': 'def_3', 'weight': 10}]},\n",
       " {'name': 'GLM', 'steps': [{'id': 'def_1', 'weight': 10}]},\n",
       " {'name': 'DRF', 'steps': [{'id': 'def_1', 'weight': 10}]},\n",
       " {'name': 'GBM',\n",
       "  'steps': [{'id': 'def_1', 'weight': 10},\n",
       "   {'id': 'def_2', 'weight': 10},\n",
       "   {'id': 'def_3', 'weight': 10},\n",
       "   {'id': 'def_4', 'weight': 10},\n",
       "   {'id': 'def_5', 'weight': 10}]},\n",
       " {'name': 'DeepLearning', 'steps': [{'id': 'def_1', 'weight': 10}]},\n",
       " {'name': 'DRF', 'steps': [{'id': 'XRT', 'weight': 10}]},\n",
       " {'name': 'XGBoost', 'steps': [{'id': 'grid_1', 'weight': 100}]},\n",
       " {'name': 'GBM', 'steps': [{'id': 'grid_1', 'weight': 60}]},\n",
       " {'name': 'StackedEnsemble',\n",
       "  'steps': [{'id': 'best', 'weight': 10}, {'id': 'all', 'weight': 10}]}]"
      ]
     },
     "execution_count": 10,
     "metadata": {},
     "output_type": "execute_result"
    }
   ],
   "source": [
    "new_plan"
   ]
  },
  {
   "cell_type": "code",
   "execution_count": 11,
   "metadata": {},
   "outputs": [],
   "source": [
    "aml_plugin = H2OAutoML(project_name=\"with_plugin\", max_models=25, modeling_plan=new_plan, seed=42)"
   ]
  },
  {
   "cell_type": "code",
   "execution_count": 12,
   "metadata": {},
   "outputs": [
    {
     "name": "stdout",
     "output_type": "stream",
     "text": [
      "AutoML progress: |████████████████████████████████████████████████████████| 100%\n"
     ]
    }
   ],
   "source": [
    "aml_plugin.train(y=target, training_frame=train)"
   ]
  },
  {
   "cell_type": "markdown",
   "metadata": {},
   "source": [
    "## Verification\n",
    "\n",
    "Let's now compare the 2 leaderboards.\n",
    "\n",
    "The first one contains only models defined by `H2O AutoML`, whereas the second one contains a mix of models defined by both `H2O AutoML` and our plugin."
   ]
  },
  {
   "cell_type": "code",
   "execution_count": 13,
   "metadata": {},
   "outputs": [
    {
     "data": {
      "text/html": [
       "<table>\n",
       "<thead>\n",
       "<tr><th>model_id                                           </th><th style=\"text-align: right;\">     auc</th><th style=\"text-align: right;\">  logloss</th><th style=\"text-align: right;\">   aucpr</th><th style=\"text-align: right;\">  mean_per_class_error</th><th style=\"text-align: right;\">    rmse</th><th style=\"text-align: right;\">     mse</th></tr>\n",
       "</thead>\n",
       "<tbody>\n",
       "<tr><td>GLM_1_AutoML_20200128_181828                       </td><td style=\"text-align: right;\">0.808816</td><td style=\"text-align: right;\"> 0.523744</td><td style=\"text-align: right;\">0.730139</td><td style=\"text-align: right;\">              0.273545</td><td style=\"text-align: right;\">0.418759</td><td style=\"text-align: right;\">0.175359</td></tr>\n",
       "<tr><td>StackedEnsemble_BestOfFamily_AutoML_20200128_181828</td><td style=\"text-align: right;\">0.806858</td><td style=\"text-align: right;\"> 0.528142</td><td style=\"text-align: right;\">0.715206</td><td style=\"text-align: right;\">              0.246826</td><td style=\"text-align: right;\">0.41849 </td><td style=\"text-align: right;\">0.175134</td></tr>\n",
       "<tr><td>StackedEnsemble_AllModels_AutoML_20200128_181828   </td><td style=\"text-align: right;\">0.805563</td><td style=\"text-align: right;\"> 0.528472</td><td style=\"text-align: right;\">0.709471</td><td style=\"text-align: right;\">              0.250022</td><td style=\"text-align: right;\">0.418364</td><td style=\"text-align: right;\">0.175028</td></tr>\n",
       "<tr><td>XGBoost_3_AutoML_20200128_181828                   </td><td style=\"text-align: right;\">0.801992</td><td style=\"text-align: right;\"> 0.534371</td><td style=\"text-align: right;\">0.689133</td><td style=\"text-align: right;\">              0.239858</td><td style=\"text-align: right;\">0.422096</td><td style=\"text-align: right;\">0.178165</td></tr>\n",
       "<tr><td>XGBoost_1_AutoML_20200128_181828                   </td><td style=\"text-align: right;\">0.801877</td><td style=\"text-align: right;\"> 0.536284</td><td style=\"text-align: right;\">0.673698</td><td style=\"text-align: right;\">              0.224511</td><td style=\"text-align: right;\">0.422864</td><td style=\"text-align: right;\">0.178814</td></tr>\n",
       "<tr><td>XGBoost_2_AutoML_20200128_181828                   </td><td style=\"text-align: right;\">0.794175</td><td style=\"text-align: right;\"> 0.544483</td><td style=\"text-align: right;\">0.685078</td><td style=\"text-align: right;\">              0.244263</td><td style=\"text-align: right;\">0.425622</td><td style=\"text-align: right;\">0.181154</td></tr>\n",
       "<tr><td>DRF_1_AutoML_20200128_181828                       </td><td style=\"text-align: right;\">0.789165</td><td style=\"text-align: right;\"> 0.548811</td><td style=\"text-align: right;\">0.686757</td><td style=\"text-align: right;\">              0.286617</td><td style=\"text-align: right;\">0.426756</td><td style=\"text-align: right;\">0.182121</td></tr>\n",
       "<tr><td>GBM_2_AutoML_20200128_181828                       </td><td style=\"text-align: right;\">0.787251</td><td style=\"text-align: right;\"> 0.552955</td><td style=\"text-align: right;\">0.692255</td><td style=\"text-align: right;\">              0.280859</td><td style=\"text-align: right;\">0.429891</td><td style=\"text-align: right;\">0.184806</td></tr>\n",
       "<tr><td>GBM_grid__1_AutoML_20200128_181828_model_1         </td><td style=\"text-align: right;\">0.785206</td><td style=\"text-align: right;\"> 0.552939</td><td style=\"text-align: right;\">0.696239</td><td style=\"text-align: right;\">              0.266793</td><td style=\"text-align: right;\">0.430176</td><td style=\"text-align: right;\">0.185051</td></tr>\n",
       "<tr><td>GBM_4_AutoML_20200128_181828                       </td><td style=\"text-align: right;\">0.784602</td><td style=\"text-align: right;\"> 0.552572</td><td style=\"text-align: right;\">0.684192</td><td style=\"text-align: right;\">              0.27248 </td><td style=\"text-align: right;\">0.431463</td><td style=\"text-align: right;\">0.18616 </td></tr>\n",
       "</tbody>\n",
       "</table>"
      ]
     },
     "metadata": {},
     "output_type": "display_data"
    },
    {
     "data": {
      "text/plain": []
     },
     "execution_count": 13,
     "metadata": {},
     "output_type": "execute_result"
    }
   ],
   "source": [
    "aml.leaderboard"
   ]
  },
  {
   "cell_type": "code",
   "execution_count": 14,
   "metadata": {},
   "outputs": [
    {
     "data": {
      "text/html": [
       "<table>\n",
       "<thead>\n",
       "<tr><th>model_id                                           </th><th style=\"text-align: right;\">     auc</th><th style=\"text-align: right;\">  logloss</th><th style=\"text-align: right;\">   aucpr</th><th style=\"text-align: right;\">  mean_per_class_error</th><th style=\"text-align: right;\">    rmse</th><th style=\"text-align: right;\">     mse</th></tr>\n",
       "</thead>\n",
       "<tbody>\n",
       "<tr><td>GLM_1_AutoML_20200128_181849                       </td><td style=\"text-align: right;\">0.808816</td><td style=\"text-align: right;\"> 0.523744</td><td style=\"text-align: right;\">0.730139</td><td style=\"text-align: right;\">              0.273545</td><td style=\"text-align: right;\">0.418759</td><td style=\"text-align: right;\">0.175359</td></tr>\n",
       "<tr><td>StackedEnsemble_BestOfFamily_AutoML_20200128_181849</td><td style=\"text-align: right;\">0.808183</td><td style=\"text-align: right;\"> 0.525923</td><td style=\"text-align: right;\">0.714758</td><td style=\"text-align: right;\">              0.252224</td><td style=\"text-align: right;\">0.41704 </td><td style=\"text-align: right;\">0.173922</td></tr>\n",
       "<tr><td>MyGLM_grid__AutoML_20200128_181849_model_1         </td><td style=\"text-align: right;\">0.806974</td><td style=\"text-align: right;\"> 0.526215</td><td style=\"text-align: right;\">0.724679</td><td style=\"text-align: right;\">              0.261035</td><td style=\"text-align: right;\">0.420071</td><td style=\"text-align: right;\">0.17646 </td></tr>\n",
       "<tr><td>XGBoost_3_AutoML_20200128_181849                   </td><td style=\"text-align: right;\">0.801992</td><td style=\"text-align: right;\"> 0.534371</td><td style=\"text-align: right;\">0.689133</td><td style=\"text-align: right;\">              0.239858</td><td style=\"text-align: right;\">0.422096</td><td style=\"text-align: right;\">0.178165</td></tr>\n",
       "<tr><td>StackedEnsemble_AllModels_AutoML_20200128_181849   </td><td style=\"text-align: right;\">0.801992</td><td style=\"text-align: right;\"> 0.537614</td><td style=\"text-align: right;\">0.700143</td><td style=\"text-align: right;\">              0.248956</td><td style=\"text-align: right;\">0.422697</td><td style=\"text-align: right;\">0.178673</td></tr>\n",
       "<tr><td>XGBoost_1_AutoML_20200128_181849                   </td><td style=\"text-align: right;\">0.801877</td><td style=\"text-align: right;\"> 0.536284</td><td style=\"text-align: right;\">0.673698</td><td style=\"text-align: right;\">              0.224511</td><td style=\"text-align: right;\">0.422864</td><td style=\"text-align: right;\">0.178814</td></tr>\n",
       "<tr><td>XGBoost_grid__1_AutoML_20200128_181849_model_3     </td><td style=\"text-align: right;\">0.79871 </td><td style=\"text-align: right;\"> 0.538929</td><td style=\"text-align: right;\">0.68214 </td><td style=\"text-align: right;\">              0.229838</td><td style=\"text-align: right;\">0.423159</td><td style=\"text-align: right;\">0.179064</td></tr>\n",
       "<tr><td>XGBoost_grid__1_AutoML_20200128_181849_model_4     </td><td style=\"text-align: right;\">0.796637</td><td style=\"text-align: right;\"> 0.537556</td><td style=\"text-align: right;\">0.703381</td><td style=\"text-align: right;\">              0.263237</td><td style=\"text-align: right;\">0.424004</td><td style=\"text-align: right;\">0.179779</td></tr>\n",
       "<tr><td>XGBoost_2_AutoML_20200128_181849                   </td><td style=\"text-align: right;\">0.794175</td><td style=\"text-align: right;\"> 0.544483</td><td style=\"text-align: right;\">0.685078</td><td style=\"text-align: right;\">              0.244263</td><td style=\"text-align: right;\">0.425622</td><td style=\"text-align: right;\">0.181154</td></tr>\n",
       "<tr><td>DRF_1_AutoML_20200128_181849                       </td><td style=\"text-align: right;\">0.789165</td><td style=\"text-align: right;\"> 0.548811</td><td style=\"text-align: right;\">0.686757</td><td style=\"text-align: right;\">              0.286617</td><td style=\"text-align: right;\">0.426756</td><td style=\"text-align: right;\">0.182121</td></tr>\n",
       "<tr><td>GBM_2_AutoML_20200128_181849                       </td><td style=\"text-align: right;\">0.787251</td><td style=\"text-align: right;\"> 0.552955</td><td style=\"text-align: right;\">0.692255</td><td style=\"text-align: right;\">              0.280859</td><td style=\"text-align: right;\">0.429891</td><td style=\"text-align: right;\">0.184806</td></tr>\n",
       "<tr><td>GBM_grid__1_AutoML_20200128_181849_model_1         </td><td style=\"text-align: right;\">0.785206</td><td style=\"text-align: right;\"> 0.552939</td><td style=\"text-align: right;\">0.696239</td><td style=\"text-align: right;\">              0.266793</td><td style=\"text-align: right;\">0.430176</td><td style=\"text-align: right;\">0.185051</td></tr>\n",
       "<tr><td>MyDRF_grid__AutoML_20200128_181849_model_2         </td><td style=\"text-align: right;\">0.784947</td><td style=\"text-align: right;\"> 0.57803 </td><td style=\"text-align: right;\">0.66362 </td><td style=\"text-align: right;\">              0.250583</td><td style=\"text-align: right;\">0.441776</td><td style=\"text-align: right;\">0.195166</td></tr>\n",
       "<tr><td>GBM_4_AutoML_20200128_181849                       </td><td style=\"text-align: right;\">0.784602</td><td style=\"text-align: right;\"> 0.552572</td><td style=\"text-align: right;\">0.684192</td><td style=\"text-align: right;\">              0.27248 </td><td style=\"text-align: right;\">0.431463</td><td style=\"text-align: right;\">0.18616 </td></tr>\n",
       "<tr><td>XGBoost_grid__1_AutoML_20200128_181849_model_1     </td><td style=\"text-align: right;\">0.784343</td><td style=\"text-align: right;\"> 0.552853</td><td style=\"text-align: right;\">0.695315</td><td style=\"text-align: right;\">              0.281003</td><td style=\"text-align: right;\">0.430531</td><td style=\"text-align: right;\">0.185357</td></tr>\n",
       "<tr><td>MyDRF_grid__AutoML_20200128_181849_model_5         </td><td style=\"text-align: right;\">0.781607</td><td style=\"text-align: right;\"> 0.557199</td><td style=\"text-align: right;\">0.650905</td><td style=\"text-align: right;\">              0.250511</td><td style=\"text-align: right;\">0.433521</td><td style=\"text-align: right;\">0.18794 </td></tr>\n",
       "<tr><td>MyDRF_grid__AutoML_20200128_181849_model_6         </td><td style=\"text-align: right;\">0.780484</td><td style=\"text-align: right;\"> 0.552754</td><td style=\"text-align: right;\">0.690859</td><td style=\"text-align: right;\">              0.274323</td><td style=\"text-align: right;\">0.430711</td><td style=\"text-align: right;\">0.185512</td></tr>\n",
       "<tr><td>GBM_5_AutoML_20200128_181849                       </td><td style=\"text-align: right;\">0.780052</td><td style=\"text-align: right;\"> 0.555865</td><td style=\"text-align: right;\">0.652507</td><td style=\"text-align: right;\">              0.256414</td><td style=\"text-align: right;\">0.431454</td><td style=\"text-align: right;\">0.186153</td></tr>\n",
       "<tr><td>GBM_3_AutoML_20200128_181849                       </td><td style=\"text-align: right;\">0.779563</td><td style=\"text-align: right;\"> 0.560774</td><td style=\"text-align: right;\">0.696828</td><td style=\"text-align: right;\">              0.280715</td><td style=\"text-align: right;\">0.434402</td><td style=\"text-align: right;\">0.188705</td></tr>\n",
       "<tr><td>MyDRF_grid__AutoML_20200128_181849_model_7         </td><td style=\"text-align: right;\">0.774452</td><td style=\"text-align: right;\"> 0.560555</td><td style=\"text-align: right;\">0.670805</td><td style=\"text-align: right;\">              0.279793</td><td style=\"text-align: right;\">0.43473 </td><td style=\"text-align: right;\">0.18899 </td></tr>\n",
       "<tr><td>GBM_1_AutoML_20200128_181849                       </td><td style=\"text-align: right;\">0.773718</td><td style=\"text-align: right;\"> 0.587287</td><td style=\"text-align: right;\">0.676561</td><td style=\"text-align: right;\">              0.296061</td><td style=\"text-align: right;\">0.442062</td><td style=\"text-align: right;\">0.195419</td></tr>\n",
       "<tr><td>MyDRF_grid__AutoML_20200128_181849_model_4         </td><td style=\"text-align: right;\">0.773286</td><td style=\"text-align: right;\"> 0.560643</td><td style=\"text-align: right;\">0.692592</td><td style=\"text-align: right;\">              0.265296</td><td style=\"text-align: right;\">0.433433</td><td style=\"text-align: right;\">0.187864</td></tr>\n",
       "<tr><td>XRT_1_AutoML_20200128_181849                       </td><td style=\"text-align: right;\">0.770061</td><td style=\"text-align: right;\"> 0.562456</td><td style=\"text-align: right;\">0.684192</td><td style=\"text-align: right;\">              0.290663</td><td style=\"text-align: right;\">0.435648</td><td style=\"text-align: right;\">0.189789</td></tr>\n",
       "<tr><td>XGBoost_grid__1_AutoML_20200128_181849_model_2     </td><td style=\"text-align: right;\">0.766275</td><td style=\"text-align: right;\"> 0.612308</td><td style=\"text-align: right;\">0.662335</td><td style=\"text-align: right;\">              0.267355</td><td style=\"text-align: right;\">0.458695</td><td style=\"text-align: right;\">0.210401</td></tr>\n",
       "<tr><td>DeepLearning_1_AutoML_20200128_181849              </td><td style=\"text-align: right;\">0.757162</td><td style=\"text-align: right;\"> 0.595172</td><td style=\"text-align: right;\">0.682784</td><td style=\"text-align: right;\">              0.311696</td><td style=\"text-align: right;\">0.445011</td><td style=\"text-align: right;\">0.198035</td></tr>\n",
       "<tr><td>MyDRF_grid__AutoML_20200128_181849_model_1         </td><td style=\"text-align: right;\">0.754556</td><td style=\"text-align: right;\"> 0.605174</td><td style=\"text-align: right;\">0.631186</td><td style=\"text-align: right;\">              0.297702</td><td style=\"text-align: right;\">0.455787</td><td style=\"text-align: right;\">0.207742</td></tr>\n",
       "<tr><td>MyDRF_grid__AutoML_20200128_181849_model_3         </td><td style=\"text-align: right;\">0.726152</td><td style=\"text-align: right;\"> 0.593083</td><td style=\"text-align: right;\">0.592718</td><td style=\"text-align: right;\">              0.2751  </td><td style=\"text-align: right;\">0.449475</td><td style=\"text-align: right;\">0.202028</td></tr>\n",
       "</tbody>\n",
       "</table>"
      ]
     },
     "metadata": {},
     "output_type": "display_data"
    },
    {
     "data": {
      "text/plain": []
     },
     "execution_count": 14,
     "metadata": {},
     "output_type": "execute_result"
    }
   ],
   "source": [
    "aml_plugin.leaderboard.head(30)"
   ]
  },
  {
   "cell_type": "code",
   "execution_count": null,
   "metadata": {},
   "outputs": [],
   "source": []
  }
 ],
 "metadata": {
  "kernelspec": {
   "display_name": "Python 3",
   "language": "python",
   "name": "python3"
  },
  "language_info": {
   "codemirror_mode": {
    "name": "ipython",
    "version": 3
   },
   "file_extension": ".py",
   "mimetype": "text/x-python",
   "name": "python",
   "nbconvert_exporter": "python",
   "pygments_lexer": "ipython3",
   "version": "3.7.5"
  },
  "varInspector": {
   "cols": {
    "lenName": 16,
    "lenType": 16,
    "lenVar": 40
   },
   "kernels_config": {
    "python": {
     "delete_cmd_postfix": "",
     "delete_cmd_prefix": "del ",
     "library": "var_list.py",
     "varRefreshCmd": "print(var_dic_list())"
    },
    "r": {
     "delete_cmd_postfix": ") ",
     "delete_cmd_prefix": "rm(",
     "library": "var_list.r",
     "varRefreshCmd": "cat(var_dic_list()) "
    }
   },
   "types_to_exclude": [
    "module",
    "function",
    "builtin_function_or_method",
    "instance",
    "_Feature"
   ],
   "window_display": false
  }
 },
 "nbformat": 4,
 "nbformat_minor": 4
}
