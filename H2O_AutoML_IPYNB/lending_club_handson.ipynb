{
 "cells": [
  {
   "cell_type": "code",
   "execution_count": 15,
   "metadata": {
    "collapsed": true
   },
   "outputs": [],
   "source": [
    "# Import necessary packages\n",
    "import h2o\n",
    "from h2o.estimators.gbm import H2OGradientBoostingEstimator\n",
    "from h2o.estimators.glm import H2OGeneralizedLinearEstimator"
   ]
  },
  {
   "cell_type": "code",
   "execution_count": 16,
   "metadata": {
    "collapsed": false
   },
   "outputs": [
    {
     "data": {
      "text/html": [
       "<div style=\"overflow:auto\"><table style=\"width:50%\"><tr><td>H2O cluster uptime: </td>\n",
       "<td>1 days 23 hours 13 minutes 6 seconds 497 milliseconds </td></tr>\n",
       "<tr><td>H2O cluster version: </td>\n",
       "<td>3.8.3.2</td></tr>\n",
       "<tr><td>H2O cluster name: </td>\n",
       "<td>H2O_started_from_python_avniwadhwa_lrw267</td></tr>\n",
       "<tr><td>H2O cluster total nodes: </td>\n",
       "<td>1</td></tr>\n",
       "<tr><td>H2O cluster total free memory: </td>\n",
       "<td>2.8 GB</td></tr>\n",
       "<tr><td>H2O cluster total cores: </td>\n",
       "<td>8</td></tr>\n",
       "<tr><td>H2O cluster allowed cores: </td>\n",
       "<td>8</td></tr>\n",
       "<tr><td>H2O cluster healthy: </td>\n",
       "<td>True</td></tr>\n",
       "<tr><td>H2O Connection ip: </td>\n",
       "<td>127.0.0.1</td></tr>\n",
       "<tr><td>H2O Connection port: </td>\n",
       "<td>54321</td></tr>\n",
       "<tr><td>H2O Connection proxy: </td>\n",
       "<td>None</td></tr>\n",
       "<tr><td>Python Version: </td>\n",
       "<td>2.7.10</td></tr></table></div>"
      ],
      "text/plain": [
       "------------------------------  -----------------------------------------------------\n",
       "H2O cluster uptime:             1 days 23 hours 13 minutes 6 seconds 497 milliseconds\n",
       "H2O cluster version:            3.8.3.2\n",
       "H2O cluster name:               H2O_started_from_python_avniwadhwa_lrw267\n",
       "H2O cluster total nodes:        1\n",
       "H2O cluster total free memory:  2.8 GB\n",
       "H2O cluster total cores:        8\n",
       "H2O cluster allowed cores:      8\n",
       "H2O cluster healthy:            True\n",
       "H2O Connection ip:              127.0.0.1\n",
       "H2O Connection port:            54321\n",
       "H2O Connection proxy:\n",
       "Python Version:                 2.7.10\n",
       "------------------------------  -----------------------------------------------------"
      ]
     },
     "metadata": {},
     "output_type": "display_data"
    }
   ],
   "source": [
    "# Initialize instance of H2O\n",
    "h2o.init()"
   ]
  },
  {
   "cell_type": "code",
   "execution_count": 17,
   "metadata": {
    "collapsed": true
   },
   "outputs": [],
   "source": [
    "# If possible download from the s3 link and change the path to the dataset\n",
    "path = \"http://h2o-public-test-data.s3.amazonaws.com/bigdata/laptop/lending-club/LoanStats3a.csv\""
   ]
  },
  {
   "cell_type": "code",
   "execution_count": 18,
   "metadata": {
    "collapsed": true
   },
   "outputs": [],
   "source": [
    "# Specify some column types to \"String\" that we want to munge later\n",
    "types = {\"int_rate\":\"string\", \"revol_util\":\"string\", \"emp_length\":\"string\", \n",
    "         \"earliest_cr_line\":\"string\", \"issue_d\":\"string\", \"last_credit_pull_d\":\"factor\", \"verification_status\":\"string\"}"
   ]
  },
  {
   "cell_type": "code",
   "execution_count": 19,
   "metadata": {
    "collapsed": false
   },
   "outputs": [
    {
     "name": "stdout",
     "output_type": "stream",
     "text": [
      "\n",
      "Parse Progress: [##################################################] 100%\n",
      "Rows:42,538 Cols:52\n",
      "\n",
      "Chunk compression summary: \n"
     ]
    },
    {
     "data": {
      "text/html": [
       "<div style=\"overflow:auto\"><table style=\"width:50%\"><tr><td><b>chunk_type</b></td>\n",
       "<td><b>chunk_name</b></td>\n",
       "<td><b>count</b></td>\n",
       "<td><b>count_percentage</b></td>\n",
       "<td><b>size</b></td>\n",
       "<td><b>size_percentage</b></td></tr>\n",
       "<tr><td>C0L</td>\n",
       "<td>Constant Integers</td>\n",
       "<td>167</td>\n",
       "<td>10.0360580</td>\n",
       "<td>   13.0 KB</td>\n",
       "<td>0.1296856</td></tr>\n",
       "<tr><td>CBS</td>\n",
       "<td>Bits</td>\n",
       "<td>22</td>\n",
       "<td>1.3221154</td>\n",
       "<td>    5.3 KB</td>\n",
       "<td>0.0523596</td></tr>\n",
       "<tr><td>CX0</td>\n",
       "<td>Zero Sparse Bits</td>\n",
       "<td>10</td>\n",
       "<td>0.6009615</td>\n",
       "<td>    1.5 KB</td>\n",
       "<td>0.0146576</td></tr>\n",
       "<tr><td>CXI</td>\n",
       "<td>Zero Sparse Integers</td>\n",
       "<td>106</td>\n",
       "<td>6.3701920</td>\n",
       "<td>   48.0 KB</td>\n",
       "<td>0.4775846</td></tr>\n",
       "<tr><td>C1</td>\n",
       "<td>1-Byte Integers</td>\n",
       "<td>40</td>\n",
       "<td>2.4038462</td>\n",
       "<td>   51.7 KB</td>\n",
       "<td>0.5138888</td></tr>\n",
       "<tr><td>C1N</td>\n",
       "<td>1-Byte Integers (w/o NAs)</td>\n",
       "<td>371</td>\n",
       "<td>22.2956732</td>\n",
       "<td>  509.1 KB</td>\n",
       "<td>5.0605815</td></tr>\n",
       "<tr><td>C2</td>\n",
       "<td>2-Byte Integers</td>\n",
       "<td>164</td>\n",
       "<td>9.8557696</td>\n",
       "<td>  429.1 KB</td>\n",
       "<td>4.2652965</td></tr>\n",
       "<tr><td>C2S</td>\n",
       "<td>2-Byte Fractions</td>\n",
       "<td>60</td>\n",
       "<td>3.6057692</td>\n",
       "<td>  168.3 KB</td>\n",
       "<td>1.6727109</td></tr>\n",
       "<tr><td>C4</td>\n",
       "<td>4-Byte Integers</td>\n",
       "<td>96</td>\n",
       "<td>5.7692308</td>\n",
       "<td>  504.9 KB</td>\n",
       "<td>5.0183658</td></tr>\n",
       "<tr><td>C4S</td>\n",
       "<td>4-Byte Fractions</td>\n",
       "<td>209</td>\n",
       "<td>12.5600964</td>\n",
       "<td>    1.1 MB</td>\n",
       "<td>11.0504918</td></tr>\n",
       "<tr><td>CStr</td>\n",
       "<td>String</td>\n",
       "<td>224</td>\n",
       "<td>13.4615391</td>\n",
       "<td>    6.2 MB</td>\n",
       "<td>63.5759711</td></tr>\n",
       "<tr><td>CXD</td>\n",
       "<td>Zero Sparse Reals</td>\n",
       "<td>126</td>\n",
       "<td>7.5721152</td>\n",
       "<td>  133.7 KB</td>\n",
       "<td>1.3292189</td></tr>\n",
       "<tr><td>CUD</td>\n",
       "<td>Unique Reals</td>\n",
       "<td>5</td>\n",
       "<td>0.3004808</td>\n",
       "<td>   19.1 KB</td>\n",
       "<td>0.1902767</td></tr>\n",
       "<tr><td>C8D</td>\n",
       "<td>64-bit Reals</td>\n",
       "<td>64</td>\n",
       "<td>3.8461540</td>\n",
       "<td>  668.9 KB</td>\n",
       "<td>6.6489093</td></tr></table></div>"
      ],
      "text/plain": [
       "chunk_type    chunk_name                 count    count_percentage    size      size_percentage\n",
       "------------  -------------------------  -------  ------------------  --------  -----------------\n",
       "C0L           Constant Integers          167      10.0361             13.0 KB   0.129686\n",
       "CBS           Bits                       22       1.32212             5.3 KB    0.0523596\n",
       "CX0           Zero Sparse Bits           10       0.600962            1.5 KB    0.0146576\n",
       "CXI           Zero Sparse Integers       106      6.37019             48.0 KB   0.477585\n",
       "C1            1-Byte Integers            40       2.40385             51.7 KB   0.513889\n",
       "C1N           1-Byte Integers (w/o NAs)  371      22.2957             509.1 KB  5.06058\n",
       "C2            2-Byte Integers            164      9.85577             429.1 KB  4.2653\n",
       "C2S           2-Byte Fractions           60       3.60577             168.3 KB  1.67271\n",
       "C4            4-Byte Integers            96       5.76923             504.9 KB  5.01837\n",
       "C4S           4-Byte Fractions           209      12.5601             1.1 MB    11.0505\n",
       "CStr          String                     224      13.4615             6.2 MB    63.576\n",
       "CXD           Zero Sparse Reals          126      7.57212             133.7 KB  1.32922\n",
       "CUD           Unique Reals               5        0.300481            19.1 KB   0.190277\n",
       "C8D           64-bit Reals               64       3.84615             668.9 KB  6.64891"
      ]
     },
     "metadata": {},
     "output_type": "display_data"
    },
    {
     "name": "stdout",
     "output_type": "stream",
     "text": [
      "\n",
      "Frame distribution summary: \n"
     ]
    },
    {
     "data": {
      "text/html": [
       "<div style=\"overflow:auto\"><table style=\"width:50%\"><tr><td><b></b></td>\n",
       "<td><b>size</b></td>\n",
       "<td><b>number_of_rows</b></td>\n",
       "<td><b>number_of_chunks_per_column</b></td>\n",
       "<td><b>number_of_chunks</b></td></tr>\n",
       "<tr><td>127.0.0.1:54321</td>\n",
       "<td>    9.8 MB</td>\n",
       "<td>42538.0</td>\n",
       "<td>32.0</td>\n",
       "<td>1664.0</td></tr>\n",
       "<tr><td>mean</td>\n",
       "<td>    9.8 MB</td>\n",
       "<td>42538.0</td>\n",
       "<td>32.0</td>\n",
       "<td>1664.0</td></tr>\n",
       "<tr><td>min</td>\n",
       "<td>    9.8 MB</td>\n",
       "<td>42538.0</td>\n",
       "<td>32.0</td>\n",
       "<td>1664.0</td></tr>\n",
       "<tr><td>max</td>\n",
       "<td>    9.8 MB</td>\n",
       "<td>42538.0</td>\n",
       "<td>32.0</td>\n",
       "<td>1664.0</td></tr>\n",
       "<tr><td>stddev</td>\n",
       "<td>      0  B</td>\n",
       "<td>0.0</td>\n",
       "<td>0.0</td>\n",
       "<td>0.0</td></tr>\n",
       "<tr><td>total</td>\n",
       "<td>    9.8 MB</td>\n",
       "<td>42538.0</td>\n",
       "<td>32.0</td>\n",
       "<td>1664.0</td></tr></table></div>"
      ],
      "text/plain": [
       "                 size    number_of_rows    number_of_chunks_per_column    number_of_chunks\n",
       "---------------  ------  ----------------  -----------------------------  ------------------\n",
       "127.0.0.1:54321  9.8 MB  42538             32                             1664\n",
       "mean             9.8 MB  42538             32                             1664\n",
       "min              9.8 MB  42538             32                             1664\n",
       "max              9.8 MB  42538             32                             1664\n",
       "stddev           0  B    0                 0                              0\n",
       "total            9.8 MB  42538             32                             1664"
      ]
     },
     "metadata": {},
     "output_type": "display_data"
    },
    {
     "name": "stdout",
     "output_type": "stream",
     "text": [
      "\n",
      "\n"
     ]
    },
    {
     "data": {
      "text/html": [
       "<table>\n",
       "<tr><th>       </th><th>id           </th><th>member_id    </th><th>loan_amnt    </th><th>funded_amnt  </th><th>funded_amnt_inv  </th><th>term          </th><th>int_rate  </th><th>installment  </th><th>grade  </th><th>sub_grade  </th><th>emp_title                </th><th>emp_length  </th><th>home_ownership  </th><th>annual_inc   </th><th>verification_status     </th><th>issue_d  </th><th>loan_status  </th><th>pymnt_plan      </th><th>url                                                                 </th><th>desc                                                                                                                                                                                                                                                                                                                                                                                                                                                                                                                                                                                                        </th><th>purpose           </th><th>title                                </th><th>zip_code  </th><th>addr_state  </th><th>dti          </th><th>delinq_2yrs   </th><th>earliest_cr_line  </th><th>inq_last_6mths  </th><th>mths_since_last_delinq  </th><th>mths_since_last_record  </th><th>open_acc     </th><th>pub_rec        </th><th>revol_bal    </th><th>revol_util  </th><th>total_acc    </th><th>initial_list_status  </th><th>out_prncp    </th><th>out_prncp_inv  </th><th>total_pymnt  </th><th>total_pymnt_inv  </th><th>total_rec_prncp  </th><th>total_rec_int  </th><th>total_rec_late_fee  </th><th>recoveries  </th><th>collection_recovery_fee  </th><th>last_pymnt_d  </th><th>last_pymnt_amnt  </th><th>next_pymnt_d  </th><th>last_credit_pull_d  </th><th>collections_12_mths_ex_med  </th><th>mths_since_last_major_derog  </th><th>policy_code  </th></tr>\n",
       "<tr><td>type   </td><td>int          </td><td>int          </td><td>int          </td><td>int          </td><td>real             </td><td>enum          </td><td>string    </td><td>real         </td><td>enum   </td><td>enum       </td><td>enum                     </td><td>string      </td><td>enum            </td><td>real         </td><td>string                  </td><td>string   </td><td>enum         </td><td>enum            </td><td>string                                                              </td><td>enum                                                                                                                                                                                                                                                                                                                                                                                                                                                                                                                                                                                                        </td><td>enum              </td><td>enum                                 </td><td>enum      </td><td>enum        </td><td>real         </td><td>int           </td><td>string            </td><td>int             </td><td>enum                    </td><td>enum                    </td><td>int          </td><td>int            </td><td>int          </td><td>string      </td><td>int          </td><td>enum                 </td><td>real         </td><td>real           </td><td>real         </td><td>real             </td><td>real             </td><td>real           </td><td>real                </td><td>real        </td><td>real                     </td><td>enum          </td><td>real             </td><td>enum          </td><td>enum                </td><td>int                         </td><td>enum                         </td><td>int          </td></tr>\n",
       "<tr><td>mins   </td><td>54734.0      </td><td>70473.0      </td><td>500.0        </td><td>500.0        </td><td>0.0              </td><td>0.0           </td><td>NaN       </td><td>15.67        </td><td>0.0    </td><td>0.0        </td><td>0.0                      </td><td>NaN         </td><td>0.0             </td><td>1896.0       </td><td>NaN                     </td><td>NaN      </td><td>0.0          </td><td>0.0             </td><td>NaN                                                                 </td><td>0.0                                                                                                                                                                                                                                                                                                                                                                                                                                                                                                                                                                                                         </td><td>0.0               </td><td>0.0                                  </td><td>0.0       </td><td>0.0         </td><td>0.0          </td><td>0.0           </td><td>NaN               </td><td>0.0             </td><td>0.0                     </td><td>0.0                     </td><td>1.0          </td><td>0.0            </td><td>0.0          </td><td>NaN         </td><td>1.0          </td><td>0.0                  </td><td>0.0          </td><td>0.0            </td><td>0.0          </td><td>0.0              </td><td>0.0              </td><td>0.0            </td><td>0.0                 </td><td>0.0         </td><td>0.0                      </td><td>0.0           </td><td>0.0              </td><td>0.0           </td><td>0.0                 </td><td>0.0                         </td><td>0.0                          </td><td>1.0          </td></tr>\n",
       "<tr><td>mean   </td><td>664579.85231 </td><td>825702.55117 </td><td>11089.7225814</td><td>10821.5857529</td><td>10139.8306012    </td><td>0.258634066063</td><td>NaN       </td><td>322.625618667</td><td>NaN    </td><td>NaN        </td><td>NaN                      </td><td>NaN         </td><td>NaN             </td><td>69136.5564203</td><td>NaN                     </td><td>NaN      </td><td>NaN          </td><td>0.00014106030328</td><td>NaN                                                                 </td><td>NaN                                                                                                                                                                                                                                                                                                                                                                                                                                                                                                                                                                                                         </td><td>NaN               </td><td>NaN                                  </td><td>NaN       </td><td>NaN         </td><td>13.3730431409</td><td>0.152449066014</td><td>NaN               </td><td>1.08142379899   </td><td>NaN                     </td><td>NaN                     </td><td>9.34395144215</td><td>0.0581564955536</td><td>14297.8609145</td><td>NaN         </td><td>22.1244059662</td><td>0.0                  </td><td>329.411123545</td><td>327.08996544   </td><td>11651.753137 </td><td>10948.5801657    </td><td>9368.08058187    </td><td>2209.04911203  </td><td>1.45873268638       </td><td>73.164719007</td><td>9.07681827201            </td><td>NaN           </td><td>2552.60725685    </td><td>NaN           </td><td>NaN                 </td><td>0.0                         </td><td>0.0                          </td><td>1.0          </td></tr>\n",
       "<tr><td>maxs   </td><td>1077501.0    </td><td>1314167.0    </td><td>35000.0      </td><td>35000.0      </td><td>35000.0          </td><td>1.0           </td><td>NaN       </td><td>1305.19      </td><td>6.0    </td><td>34.0       </td><td>30660.0                  </td><td>NaN         </td><td>4.0             </td><td>6000000.0    </td><td>NaN                     </td><td>NaN      </td><td>10.0         </td><td>1.0             </td><td>NaN                                                                 </td><td>28964.0                                                                                                                                                                                                                                                                                                                                                                                                                                                                                                                                                                                                     </td><td>13.0              </td><td>21267.0                              </td><td>836.0     </td><td>49.0        </td><td>29.99        </td><td>13.0          </td><td>NaN               </td><td>33.0            </td><td>95.0                    </td><td>113.0                   </td><td>47.0         </td><td>5.0            </td><td>1207359.0    </td><td>NaN         </td><td>90.0         </td><td>0.0                  </td><td>17749.51     </td><td>17749.51       </td><td>56809.0516288</td><td>56475.05         </td><td>35000.03         </td><td>21809.05       </td><td>208.819529958       </td><td>29623.35    </td><td>7002.19                  </td><td>91.0          </td><td>36115.2          </td><td>93.0          </td><td>97.0                </td><td>0.0                         </td><td>0.0                          </td><td>1.0          </td></tr>\n",
       "<tr><td>sigma  </td><td>219302.219319</td><td>279540.905635</td><td>7410.93839055</td><td>7146.91467501</td><td>7131.68644868    </td><td>0.437889248459</td><td>NaN       </td><td>208.928069   </td><td>NaN    </td><td>NaN        </td><td>NaN                      </td><td>NaN         </td><td>NaN             </td><td>64096.3497189</td><td>NaN                     </td><td>NaN      </td><td>NaN          </td><td>0.0118761829396 </td><td>NaN                                                                 </td><td>NaN                                                                                                                                                                                                                                                                                                                                                                                                                                                                                                                                                                                                         </td><td>NaN               </td><td>NaN                                  </td><td>NaN       </td><td>NaN         </td><td>6.72631490173</td><td>0.512406485017</td><td>NaN               </td><td>1.5274548353    </td><td>NaN                     </td><td>NaN                     </td><td>4.49627387569</td><td>0.245713140651 </td><td>22018.4410097</td><td>NaN         </td><td>11.5928113373</td><td>0.0                  </td><td>1417.54568613</td><td>1409.61373349  </td><td>8555.46989933</td><td>8486.98039403    </td><td>6777.11981861    </td><td>2502.52824092  </td><td>7.57275617593       </td><td>612.26018535</td><td>149.086823026            </td><td>NaN           </td><td>4380.38476617    </td><td>NaN           </td><td>NaN                 </td><td>0.0                         </td><td>0.0                          </td><td>0.0          </td></tr>\n",
       "<tr><td>zeros  </td><td>0            </td><td>0            </td><td>0            </td><td>0            </td><td>233              </td><td>31534         </td><td>0         </td><td>0            </td><td>10183  </td><td>1142       </td><td>2618                     </td><td>0           </td><td>18959           </td><td>0            </td><td>0                       </td><td>0        </td><td>5435         </td><td>42529           </td><td>0                                                                   </td><td>13292                                                                                                                                                                                                                                                                                                                                                                                                                                                                                                                                                                                                       </td><td>1615              </td><td>10                                   </td><td>1         </td><td>86          </td><td>206          </td><td>37771         </td><td>0                 </td><td>19657           </td><td>26926                   </td><td>38884                   </td><td>0            </td><td>40130          </td><td>1119         </td><td>0           </td><td>0            </td><td>42535                </td><td>38972        </td><td>38972          </td><td>26           </td><td>304              </td><td>86               </td><td>83             </td><td>40214               </td><td>38357       </td><td>39033                    </td><td>83            </td><td>95               </td><td>36278         </td><td>4                   </td><td>42390                       </td><td>42535                        </td><td>0            </td></tr>\n",
       "<tr><td>missing</td><td>3            </td><td>3            </td><td>3            </td><td>3            </td><td>3                </td><td>3             </td><td>3         </td><td>3            </td><td>3      </td><td>3          </td><td>3                        </td><td>3           </td><td>3               </td><td>7            </td><td>3                       </td><td>3        </td><td>3            </td><td>3               </td><td>3                                                                   </td><td>3                                                                                                                                                                                                                                                                                                                                                                                                                                                                                                                                                                                                           </td><td>3                 </td><td>3                                    </td><td>3         </td><td>3           </td><td>3            </td><td>32            </td><td>3                 </td><td>32              </td><td>3                       </td><td>3                       </td><td>32           </td><td>32             </td><td>3            </td><td>3           </td><td>32           </td><td>3                    </td><td>3            </td><td>3              </td><td>3            </td><td>3                </td><td>3                </td><td>3              </td><td>3                   </td><td>3           </td><td>3                        </td><td>3             </td><td>3                </td><td>3             </td><td>3                   </td><td>148                         </td><td>3                            </td><td>3            </td></tr>\n",
       "<tr><td>0      </td><td>1077501.0    </td><td>1296599.0    </td><td>5000.0       </td><td>5000.0       </td><td>4975.0           </td><td>36 months     </td><td>10.65%    </td><td>162.87       </td><td>B      </td><td>B2         </td><td>                         </td><td>10+ years   </td><td>RENT            </td><td>24000.0      </td><td>VERIFIED - income       </td><td>Dec-2011 </td><td>Fully Paid   </td><td>n               </td><td>https://www.lendingclub.com/browse/loanDetail.action?loan_id=1077501</td><td>Borrower added on 12/22/11 > I need to upgrade my business technologies.<br>                                                                                                                                                                                                                                                                                                                                                                                                                                                                                                                                </td><td>credit_card       </td><td>Computer                             </td><td>860xx     </td><td>AZ          </td><td>27.65        </td><td>0.0           </td><td>Jan-1985          </td><td>1.0             </td><td>                        </td><td>                        </td><td>3.0          </td><td>0.0            </td><td>13648.0      </td><td>83.7%       </td><td>9.0          </td><td>f                    </td><td>0.0          </td><td>0.0            </td><td>5861.07141425</td><td>5831.78          </td><td>5000.0           </td><td>861.07         </td><td>0.0                 </td><td>0.0         </td><td>0.0                      </td><td>Jan-2015      </td><td>171.62           </td><td>              </td><td>Jan-2015            </td><td>0.0                         </td><td>                             </td><td>1.0          </td></tr>\n",
       "<tr><td>1      </td><td>1077430.0    </td><td>1314167.0    </td><td>2500.0       </td><td>2500.0       </td><td>2500.0           </td><td>60 months     </td><td>15.27%    </td><td>59.83        </td><td>C      </td><td>C4         </td><td>Ryder                    </td><td>< 1 year    </td><td>RENT            </td><td>30000.0      </td><td>VERIFIED - income source</td><td>Dec-2011 </td><td>Charged Off  </td><td>n               </td><td>https://www.lendingclub.com/browse/loanDetail.action?loan_id=1077430</td><td>Borrower added on 12/22/11 > I plan to use this money to finance the motorcycle i am looking at. I plan to have it paid off as soon as possible/when i sell my old bike. I only need this money because the deal im looking at is to good to pass up.<br><br>  Borrower added on 12/22/11 > I plan to use this money to finance the motorcycle i am looking at. I plan to have it paid off as soon as possible/when i sell my old bike.I only need this money because the deal im looking at is to good to pass up. I have finished college with an associates degree in business and its takingmeplaces<br></td><td>car               </td><td>bike                                 </td><td>309xx     </td><td>GA          </td><td>1.0          </td><td>0.0           </td><td>Apr-1999          </td><td>5.0             </td><td>                        </td><td>                        </td><td>3.0          </td><td>0.0            </td><td>1687.0       </td><td>9.4%        </td><td>4.0          </td><td>f                    </td><td>0.0          </td><td>0.0            </td><td>1008.71      </td><td>1008.71          </td><td>456.46           </td><td>435.17         </td><td>0.0                 </td><td>117.08      </td><td>1.11                     </td><td>Apr-2013      </td><td>119.66           </td><td>              </td><td>Sep-2013            </td><td>0.0                         </td><td>                             </td><td>1.0          </td></tr>\n",
       "<tr><td>2      </td><td>1077175.0    </td><td>1313524.0    </td><td>2400.0       </td><td>2400.0       </td><td>2400.0           </td><td>36 months     </td><td>15.96%    </td><td>84.33        </td><td>C      </td><td>C5         </td><td>                         </td><td>10+ years   </td><td>RENT            </td><td>12252.0      </td><td>not verified            </td><td>Dec-2011 </td><td>Fully Paid   </td><td>n               </td><td>https://www.lendingclub.com/browse/loanDetail.action?loan_id=1077175</td><td>                                                                                                                                                                                                                                                                                                                                                                                                                                                                                                                                                                                                            </td><td>small_business    </td><td>real estate business                 </td><td>606xx     </td><td>IL          </td><td>8.72         </td><td>0.0           </td><td>Nov-2001          </td><td>2.0             </td><td>                        </td><td>                        </td><td>2.0          </td><td>0.0            </td><td>2956.0       </td><td>98.5%       </td><td>10.0         </td><td>f                    </td><td>0.0          </td><td>0.0            </td><td>3003.65364445</td><td>3003.65          </td><td>2400.0           </td><td>603.65         </td><td>0.0                 </td><td>0.0         </td><td>0.0                      </td><td>Jun-2014      </td><td>649.91           </td><td>              </td><td>Jun-2015            </td><td>0.0                         </td><td>                             </td><td>1.0          </td></tr>\n",
       "<tr><td>3      </td><td>1076863.0    </td><td>1277178.0    </td><td>10000.0      </td><td>10000.0      </td><td>10000.0          </td><td>36 months     </td><td>13.49%    </td><td>339.31       </td><td>C      </td><td>C1         </td><td>AIR RESOURCES BOARD      </td><td>10+ years   </td><td>RENT            </td><td>49200.0      </td><td>VERIFIED - income source</td><td>Dec-2011 </td><td>Fully Paid   </td><td>n               </td><td>https://www.lendingclub.com/browse/loanDetail.action?loan_id=1076863</td><td>Borrower added on 12/21/11 > to pay for property tax (borrow from friend, need to pay back) & central A/C need to be replace. I'm very sorry to let my loan expired last time.<br>                                                                                                                                                                                                                                                                                                                                                                                                                          </td><td>other             </td><td>personel                             </td><td>917xx     </td><td>CA          </td><td>20.0         </td><td>0.0           </td><td>Feb-1996          </td><td>1.0             </td><td>35                      </td><td>                        </td><td>10.0         </td><td>0.0            </td><td>5598.0       </td><td>21%         </td><td>37.0         </td><td>f                    </td><td>0.0          </td><td>0.0            </td><td>12226.3022123</td><td>12226.3          </td><td>10000.0          </td><td>2209.33        </td><td>16.97               </td><td>0.0         </td><td>0.0                      </td><td>Jan-2015      </td><td>357.48           </td><td>              </td><td>Jan-2015            </td><td>0.0                         </td><td>                             </td><td>1.0          </td></tr>\n",
       "<tr><td>4      </td><td>1075358.0    </td><td>1311748.0    </td><td>3000.0       </td><td>3000.0       </td><td>3000.0           </td><td>60 months     </td><td>12.69%    </td><td>67.79        </td><td>B      </td><td>B5         </td><td>University Medical Group </td><td>1 year      </td><td>RENT            </td><td>80000.0      </td><td>VERIFIED - income source</td><td>Dec-2011 </td><td>Current      </td><td>n               </td><td>https://www.lendingclub.com/browse/loanDetail.action?loan_id=1075358</td><td>Borrower added on 12/21/11 > I plan on combining three large interest bills together and freeing up some extra each month to pay toward other bills.  I've always been a good payor but have found myself needing to make adjustments to my budget due to a medical scare. My job is very stable, I love it.<br>                                                                                                                                                                                                                                                                                            </td><td>other             </td><td>Personal                             </td><td>972xx     </td><td>OR          </td><td>17.94        </td><td>0.0           </td><td>Jan-1996          </td><td>0.0             </td><td>38                      </td><td>                        </td><td>15.0         </td><td>0.0            </td><td>27783.0      </td><td>53.9%       </td><td>38.0         </td><td>f                    </td><td>1168.04      </td><td>1168.04        </td><td>2767.64      </td><td>2767.64          </td><td>1831.96          </td><td>935.68         </td><td>0.0                 </td><td>0.0         </td><td>0.0                      </td><td>Jun-2015      </td><td>67.79            </td><td>Jul-2015      </td><td>Jun-2015            </td><td>0.0                         </td><td>                             </td><td>1.0          </td></tr>\n",
       "<tr><td>5      </td><td>1075269.0    </td><td>1311441.0    </td><td>5000.0       </td><td>5000.0       </td><td>5000.0           </td><td>36 months     </td><td>7.90%     </td><td>156.46       </td><td>A      </td><td>A4         </td><td>Veolia Transportaton     </td><td>3 years     </td><td>RENT            </td><td>36000.0      </td><td>VERIFIED - income source</td><td>Dec-2011 </td><td>Fully Paid   </td><td>n               </td><td>https://www.lendingclub.com/browse/loanDetail.action?loan_id=1075269</td><td>                                                                                                                                                                                                                                                                                                                                                                                                                                                                                                                                                                                                            </td><td>wedding           </td><td>My wedding loan I promise to pay back</td><td>852xx     </td><td>AZ          </td><td>11.2         </td><td>0.0           </td><td>Nov-2004          </td><td>3.0             </td><td>                        </td><td>                        </td><td>9.0          </td><td>0.0            </td><td>7963.0       </td><td>28.3%       </td><td>12.0         </td><td>f                    </td><td>0.0          </td><td>0.0            </td><td>5631.37775318</td><td>5631.38          </td><td>5000.0           </td><td>631.38         </td><td>0.0                 </td><td>0.0         </td><td>0.0                      </td><td>Jan-2015      </td><td>161.03           </td><td>              </td><td>Jun-2015            </td><td>0.0                         </td><td>                             </td><td>1.0          </td></tr>\n",
       "<tr><td>6      </td><td>1069639.0    </td><td>1304742.0    </td><td>7000.0       </td><td>7000.0       </td><td>7000.0           </td><td>60 months     </td><td>15.96%    </td><td>170.08       </td><td>C      </td><td>C5         </td><td>Southern Star Photography</td><td>8 years     </td><td>RENT            </td><td>47004.0      </td><td>not verified            </td><td>Dec-2011 </td><td>Current      </td><td>n               </td><td>https://www.lendingclub.com/browse/loanDetail.action?loan_id=1069639</td><td>Borrower added on 12/18/11 > I am planning on using the funds to pay off two retail credit cards with 24.99% interest rates, as well as a major bank credit card with a 18.99% rate.  I pay all my bills on time, looking for a lower combined payment and lower monthly payment.<br>                                                                                                                                                                                                                                                                                                                       </td><td>debt_consolidation</td><td>Loan                                 </td><td>280xx     </td><td>NC          </td><td>23.51        </td><td>0.0           </td><td>Jul-2005          </td><td>1.0             </td><td>                        </td><td>                        </td><td>7.0          </td><td>0.0            </td><td>17726.0      </td><td>85.6%       </td><td>11.0         </td><td>f                    </td><td>2853.21      </td><td>2853.21        </td><td>6946.28      </td><td>6946.28          </td><td>4146.8           </td><td>2799.48        </td><td>0.0                 </td><td>0.0         </td><td>0.0                      </td><td>Jun-2015      </td><td>170.08           </td><td>Aug-2015      </td><td>Jun-2015            </td><td>0.0                         </td><td>                             </td><td>1.0          </td></tr>\n",
       "<tr><td>7      </td><td>1072053.0    </td><td>1288686.0    </td><td>3000.0       </td><td>3000.0       </td><td>3000.0           </td><td>36 months     </td><td>18.64%    </td><td>109.43       </td><td>E      </td><td>E1         </td><td>MKC Accounting           </td><td>9 years     </td><td>RENT            </td><td>48000.0      </td><td>VERIFIED - income source</td><td>Dec-2011 </td><td>Fully Paid   </td><td>n               </td><td>https://www.lendingclub.com/browse/loanDetail.action?loan_id=1072053</td><td>Borrower added on 12/16/11 > Downpayment for a car.<br>                                                                                                                                                                                                                                                                                                                                                                                                                                                                                                                                                     </td><td>car               </td><td>Car Downpayment                      </td><td>900xx     </td><td>CA          </td><td>5.35         </td><td>0.0           </td><td>Jan-2007          </td><td>2.0             </td><td>                        </td><td>                        </td><td>4.0          </td><td>0.0            </td><td>8221.0       </td><td>87.5%       </td><td>4.0          </td><td>f                    </td><td>0.0          </td><td>0.0            </td><td>3938.14433376</td><td>3938.14          </td><td>3000.0           </td><td>938.14         </td><td>0.0                 </td><td>0.0         </td><td>0.0                      </td><td>Jan-2015      </td><td>111.34           </td><td>              </td><td>Dec-2014            </td><td>0.0                         </td><td>                             </td><td>1.0          </td></tr>\n",
       "<tr><td>8      </td><td>1071795.0    </td><td>1306957.0    </td><td>5600.0       </td><td>5600.0       </td><td>5600.0           </td><td>60 months     </td><td>21.28%    </td><td>152.39       </td><td>F      </td><td>F2         </td><td>                         </td><td>4 years     </td><td>OWN             </td><td>40000.0      </td><td>VERIFIED - income source</td><td>Dec-2011 </td><td>Charged Off  </td><td>n               </td><td>https://www.lendingclub.com/browse/loanDetail.action?loan_id=1071795</td><td>Borrower added on 12/21/11 > I own a small home-based judgment collection business. I have 5 years experience collecting debts. I am now going from a home office to a small office. I also plan to buy a small debt portfolio (eg. $10K for $1M of debt) <br>My score is not A+ because I own my home and have no mortgage.<br>                                                                                                                                                                                                                                                                            </td><td>small_business    </td><td>Expand Business & Buy Debt Portfolio </td><td>958xx     </td><td>CA          </td><td>5.55         </td><td>0.0           </td><td>Apr-2004          </td><td>2.0             </td><td>                        </td><td>                        </td><td>11.0         </td><td>0.0            </td><td>5210.0       </td><td>32.6%       </td><td>13.0         </td><td>f                    </td><td>0.0          </td><td>0.0            </td><td>646.02       </td><td>646.02           </td><td>162.02           </td><td>294.94         </td><td>0.0                 </td><td>189.06      </td><td>2.09                     </td><td>Apr-2012      </td><td>152.39           </td><td>              </td><td>Aug-2012            </td><td>0.0                         </td><td>                             </td><td>1.0          </td></tr>\n",
       "<tr><td>9      </td><td>1071570.0    </td><td>1306721.0    </td><td>5375.0       </td><td>5375.0       </td><td>5350.0           </td><td>60 months     </td><td>12.69%    </td><td>121.45       </td><td>B      </td><td>B5         </td><td>Starbucks                </td><td>< 1 year    </td><td>RENT            </td><td>15000.0      </td><td>VERIFIED - income       </td><td>Dec-2011 </td><td>Charged Off  </td><td>n               </td><td>https://www.lendingclub.com/browse/loanDetail.action?loan_id=1071570</td><td>Borrower added on 12/16/11 > I'm trying to build up my credit history. I live with my brother and have no car payment or credit cards. I am in community college and work full time. Im going to use the money to make some repairs around the house and get some maintenance done on my car.<br><br>  Borrower added on 12/20/11 > $1000 down only $4375 to go. Thanks to everyone that invested so far, looking forward to surprising my brother with the fixes around the house.<br>                                                                                                                     </td><td>other             </td><td>Building my credit history.          </td><td>774xx     </td><td>TX          </td><td>18.08        </td><td>0.0           </td><td>Sep-2004          </td><td>0.0             </td><td>                        </td><td>                        </td><td>2.0          </td><td>0.0            </td><td>9279.0       </td><td>36.5%       </td><td>3.0          </td><td>f                    </td><td>0.0          </td><td>0.0            </td><td>1476.19      </td><td>1469.34          </td><td>673.48           </td><td>533.42         </td><td>0.0                 </td><td>269.29      </td><td>2.52                     </td><td>Nov-2012      </td><td>121.45           </td><td>              </td><td>Mar-2013            </td><td>0.0                         </td><td>                             </td><td>1.0          </td></tr>\n",
       "</table>"
      ]
     },
     "metadata": {},
     "output_type": "display_data"
    }
   ],
   "source": [
    "# Task 1: Import the file and look at the frame\n",
    "data = h2o.import_file(path=path, col_types= types)\n",
    "data.describe()"
   ]
  },
  {
   "cell_type": "code",
   "execution_count": 20,
   "metadata": {
    "collapsed": false
   },
   "outputs": [
    {
     "data": {
      "text/html": [
       "<table>\n",
       "<tr><th>loan_status                                             </th><th style=\"text-align: right;\">  Count</th></tr>\n",
       "<tr><td>Charged Off                                             </td><td style=\"text-align: right;\">   5435</td></tr>\n",
       "<tr><td>Current                                                 </td><td style=\"text-align: right;\">   3351</td></tr>\n",
       "<tr><td>Default                                                 </td><td style=\"text-align: right;\">      7</td></tr>\n",
       "<tr><td>Does not meet the credit policy.  Status:Charged Off    </td><td style=\"text-align: right;\">    761</td></tr>\n",
       "<tr><td>Does not meet the credit policy.  Status:Current        </td><td style=\"text-align: right;\">     53</td></tr>\n",
       "<tr><td>Does not meet the credit policy.  Status:Fully Paid     </td><td style=\"text-align: right;\">   1933</td></tr>\n",
       "<tr><td>Does not meet the credit policy.  Status:In Grace Period</td><td style=\"text-align: right;\">      2</td></tr>\n",
       "<tr><td>Fully Paid                                              </td><td style=\"text-align: right;\">  30843</td></tr>\n",
       "<tr><td>In Grace Period                                         </td><td style=\"text-align: right;\">     60</td></tr>\n",
       "<tr><td>Late (16-30 days)                                       </td><td style=\"text-align: right;\">     16</td></tr>\n",
       "</table>"
      ]
     },
     "metadata": {},
     "output_type": "display_data"
    },
    {
     "data": {
      "text/plain": []
     },
     "execution_count": 20,
     "metadata": {},
     "output_type": "execute_result"
    }
   ],
   "source": [
    "# Task 2: Look at the levels int he response column, \"loan_status\"\n",
    "# Hint: Use .table() function on the response column\n",
    "\n"
   ]
  },
  {
   "cell_type": "code",
   "execution_count": 21,
   "metadata": {
    "collapsed": false
   },
   "outputs": [],
   "source": [
    "# Task 3: Drop all loans that are still in progess and therefore cannot be deemed good/bad loans\n",
    "# Hint: \"Current\", \"In Grace Period\", \"Late (16-30 days)\", \"Late (31-120 days)\" are ongoing loans\n",
    "\n"
   ]
  },
  {
   "cell_type": "code",
   "execution_count": 22,
   "metadata": {
    "collapsed": false
   },
   "outputs": [
    {
     "data": {
      "text/html": [
       "<table>\n",
       "<tr><th style=\"text-align: right;\">         id</th><th style=\"text-align: right;\">  member_id</th><th style=\"text-align: right;\">  loan_amnt</th><th style=\"text-align: right;\">  funded_amnt</th><th style=\"text-align: right;\">  funded_amnt_inv</th><th>term     </th><th>int_rate  </th><th style=\"text-align: right;\">  installment</th><th>grade  </th><th>sub_grade  </th><th>emp_title            </th><th>emp_length  </th><th>home_ownership  </th><th style=\"text-align: right;\">  annual_inc</th><th>verification_status     </th><th>issue_d  </th><th>loan_status  </th><th>pymnt_plan  </th><th>url                                                                 </th><th>desc                                                                                                                                                                                                                                                                                                                                                                                                                                                                                                                                                                                                        </th><th>purpose           </th><th>title                                </th><th>zip_code  </th><th>addr_state  </th><th style=\"text-align: right;\">  dti</th><th style=\"text-align: right;\">  delinq_2yrs</th><th>earliest_cr_line  </th><th style=\"text-align: right;\">  inq_last_6mths</th><th>mths_since_last_delinq  </th><th>mths_since_last_record  </th><th style=\"text-align: right;\">  open_acc</th><th style=\"text-align: right;\">  pub_rec</th><th style=\"text-align: right;\">  revol_bal</th><th>revol_util  </th><th style=\"text-align: right;\">  total_acc</th><th>initial_list_status  </th><th style=\"text-align: right;\">  out_prncp</th><th style=\"text-align: right;\">  out_prncp_inv</th><th style=\"text-align: right;\">  total_pymnt</th><th style=\"text-align: right;\">  total_pymnt_inv</th><th style=\"text-align: right;\">  total_rec_prncp</th><th style=\"text-align: right;\">  total_rec_int</th><th style=\"text-align: right;\">  total_rec_late_fee</th><th style=\"text-align: right;\">  recoveries</th><th style=\"text-align: right;\">  collection_recovery_fee</th><th>last_pymnt_d  </th><th style=\"text-align: right;\">  last_pymnt_amnt</th><th>next_pymnt_d  </th><th>last_credit_pull_d  </th><th style=\"text-align: right;\">  collections_12_mths_ex_med</th><th>mths_since_last_major_derog  </th><th style=\"text-align: right;\">  policy_code</th></tr>\n",
       "<tr><td style=\"text-align: right;\">1.0775e+06 </td><td style=\"text-align: right;\">1.2966e+06 </td><td style=\"text-align: right;\">       5000</td><td style=\"text-align: right;\">         5000</td><td style=\"text-align: right;\">             4975</td><td>36 months</td><td>10.65%    </td><td style=\"text-align: right;\">       162.87</td><td>B      </td><td>B2         </td><td>                     </td><td>10+ years   </td><td>RENT            </td><td style=\"text-align: right;\">       24000</td><td>VERIFIED - income       </td><td>Dec-2011 </td><td>Fully Paid   </td><td>n           </td><td>https://www.lendingclub.com/browse/loanDetail.action?loan_id=1077501</td><td>Borrower added on 12/22/11 > I need to upgrade my business technologies.<br>                                                                                                                                                                                                                                                                                                                                                                                                                                                                                                                                </td><td>credit_card       </td><td>Computer                             </td><td>860xx     </td><td>AZ          </td><td style=\"text-align: right;\">27.65</td><td style=\"text-align: right;\">            0</td><td>Jan-1985          </td><td style=\"text-align: right;\">               1</td><td>                        </td><td>                        </td><td style=\"text-align: right;\">         3</td><td style=\"text-align: right;\">        0</td><td style=\"text-align: right;\">      13648</td><td>83.7%       </td><td style=\"text-align: right;\">          9</td><td>f                    </td><td style=\"text-align: right;\">          0</td><td style=\"text-align: right;\">              0</td><td style=\"text-align: right;\">      5861.07</td><td style=\"text-align: right;\">          5831.78</td><td style=\"text-align: right;\">          5000   </td><td style=\"text-align: right;\">         861.07</td><td style=\"text-align: right;\">                0   </td><td style=\"text-align: right;\">        0   </td><td style=\"text-align: right;\">                     0   </td><td>Jan-2015      </td><td style=\"text-align: right;\">           171.62</td><td>              </td><td>Jan-2015            </td><td style=\"text-align: right;\">                           0</td><td>                             </td><td style=\"text-align: right;\">            1</td></tr>\n",
       "<tr><td style=\"text-align: right;\">1.07743e+06</td><td style=\"text-align: right;\">1.31417e+06</td><td style=\"text-align: right;\">       2500</td><td style=\"text-align: right;\">         2500</td><td style=\"text-align: right;\">             2500</td><td>60 months</td><td>15.27%    </td><td style=\"text-align: right;\">        59.83</td><td>C      </td><td>C4         </td><td>Ryder                </td><td>< 1 year    </td><td>RENT            </td><td style=\"text-align: right;\">       30000</td><td>VERIFIED - income source</td><td>Dec-2011 </td><td>Charged Off  </td><td>n           </td><td>https://www.lendingclub.com/browse/loanDetail.action?loan_id=1077430</td><td>Borrower added on 12/22/11 > I plan to use this money to finance the motorcycle i am looking at. I plan to have it paid off as soon as possible/when i sell my old bike. I only need this money because the deal im looking at is to good to pass up.<br><br>  Borrower added on 12/22/11 > I plan to use this money to finance the motorcycle i am looking at. I plan to have it paid off as soon as possible/when i sell my old bike.I only need this money because the deal im looking at is to good to pass up. I have finished college with an associates degree in business and its takingmeplaces<br></td><td>car               </td><td>bike                                 </td><td>309xx     </td><td>GA          </td><td style=\"text-align: right;\"> 1   </td><td style=\"text-align: right;\">            0</td><td>Apr-1999          </td><td style=\"text-align: right;\">               5</td><td>                        </td><td>                        </td><td style=\"text-align: right;\">         3</td><td style=\"text-align: right;\">        0</td><td style=\"text-align: right;\">       1687</td><td>9.4%        </td><td style=\"text-align: right;\">          4</td><td>f                    </td><td style=\"text-align: right;\">          0</td><td style=\"text-align: right;\">              0</td><td style=\"text-align: right;\">      1008.71</td><td style=\"text-align: right;\">          1008.71</td><td style=\"text-align: right;\">           456.46</td><td style=\"text-align: right;\">         435.17</td><td style=\"text-align: right;\">                0   </td><td style=\"text-align: right;\">      117.08</td><td style=\"text-align: right;\">                     1.11</td><td>Apr-2013      </td><td style=\"text-align: right;\">           119.66</td><td>              </td><td>Sep-2013            </td><td style=\"text-align: right;\">                           0</td><td>                             </td><td style=\"text-align: right;\">            1</td></tr>\n",
       "<tr><td style=\"text-align: right;\">1.07718e+06</td><td style=\"text-align: right;\">1.31352e+06</td><td style=\"text-align: right;\">       2400</td><td style=\"text-align: right;\">         2400</td><td style=\"text-align: right;\">             2400</td><td>36 months</td><td>15.96%    </td><td style=\"text-align: right;\">        84.33</td><td>C      </td><td>C5         </td><td>                     </td><td>10+ years   </td><td>RENT            </td><td style=\"text-align: right;\">       12252</td><td>not verified            </td><td>Dec-2011 </td><td>Fully Paid   </td><td>n           </td><td>https://www.lendingclub.com/browse/loanDetail.action?loan_id=1077175</td><td>                                                                                                                                                                                                                                                                                                                                                                                                                                                                                                                                                                                                            </td><td>small_business    </td><td>real estate business                 </td><td>606xx     </td><td>IL          </td><td style=\"text-align: right;\"> 8.72</td><td style=\"text-align: right;\">            0</td><td>Nov-2001          </td><td style=\"text-align: right;\">               2</td><td>                        </td><td>                        </td><td style=\"text-align: right;\">         2</td><td style=\"text-align: right;\">        0</td><td style=\"text-align: right;\">       2956</td><td>98.5%       </td><td style=\"text-align: right;\">         10</td><td>f                    </td><td style=\"text-align: right;\">          0</td><td style=\"text-align: right;\">              0</td><td style=\"text-align: right;\">      3003.65</td><td style=\"text-align: right;\">          3003.65</td><td style=\"text-align: right;\">          2400   </td><td style=\"text-align: right;\">         603.65</td><td style=\"text-align: right;\">                0   </td><td style=\"text-align: right;\">        0   </td><td style=\"text-align: right;\">                     0   </td><td>Jun-2014      </td><td style=\"text-align: right;\">           649.91</td><td>              </td><td>Jun-2015            </td><td style=\"text-align: right;\">                           0</td><td>                             </td><td style=\"text-align: right;\">            1</td></tr>\n",
       "<tr><td style=\"text-align: right;\">1.07686e+06</td><td style=\"text-align: right;\">1.27718e+06</td><td style=\"text-align: right;\">      10000</td><td style=\"text-align: right;\">        10000</td><td style=\"text-align: right;\">            10000</td><td>36 months</td><td>13.49%    </td><td style=\"text-align: right;\">       339.31</td><td>C      </td><td>C1         </td><td>AIR RESOURCES BOARD  </td><td>10+ years   </td><td>RENT            </td><td style=\"text-align: right;\">       49200</td><td>VERIFIED - income source</td><td>Dec-2011 </td><td>Fully Paid   </td><td>n           </td><td>https://www.lendingclub.com/browse/loanDetail.action?loan_id=1076863</td><td>Borrower added on 12/21/11 > to pay for property tax (borrow from friend, need to pay back) & central A/C need to be replace. I'm very sorry to let my loan expired last time.<br>                                                                                                                                                                                                                                                                                                                                                                                                                          </td><td>other             </td><td>personel                             </td><td>917xx     </td><td>CA          </td><td style=\"text-align: right;\">20   </td><td style=\"text-align: right;\">            0</td><td>Feb-1996          </td><td style=\"text-align: right;\">               1</td><td>35                      </td><td>                        </td><td style=\"text-align: right;\">        10</td><td style=\"text-align: right;\">        0</td><td style=\"text-align: right;\">       5598</td><td>21%         </td><td style=\"text-align: right;\">         37</td><td>f                    </td><td style=\"text-align: right;\">          0</td><td style=\"text-align: right;\">              0</td><td style=\"text-align: right;\">     12226.3 </td><td style=\"text-align: right;\">         12226.3 </td><td style=\"text-align: right;\">         10000   </td><td style=\"text-align: right;\">        2209.33</td><td style=\"text-align: right;\">               16.97</td><td style=\"text-align: right;\">        0   </td><td style=\"text-align: right;\">                     0   </td><td>Jan-2015      </td><td style=\"text-align: right;\">           357.48</td><td>              </td><td>Jan-2015            </td><td style=\"text-align: right;\">                           0</td><td>                             </td><td style=\"text-align: right;\">            1</td></tr>\n",
       "<tr><td style=\"text-align: right;\">1.07527e+06</td><td style=\"text-align: right;\">1.31144e+06</td><td style=\"text-align: right;\">       5000</td><td style=\"text-align: right;\">         5000</td><td style=\"text-align: right;\">             5000</td><td>36 months</td><td>7.90%     </td><td style=\"text-align: right;\">       156.46</td><td>A      </td><td>A4         </td><td>Veolia Transportaton </td><td>3 years     </td><td>RENT            </td><td style=\"text-align: right;\">       36000</td><td>VERIFIED - income source</td><td>Dec-2011 </td><td>Fully Paid   </td><td>n           </td><td>https://www.lendingclub.com/browse/loanDetail.action?loan_id=1075269</td><td>                                                                                                                                                                                                                                                                                                                                                                                                                                                                                                                                                                                                            </td><td>wedding           </td><td>My wedding loan I promise to pay back</td><td>852xx     </td><td>AZ          </td><td style=\"text-align: right;\">11.2 </td><td style=\"text-align: right;\">            0</td><td>Nov-2004          </td><td style=\"text-align: right;\">               3</td><td>                        </td><td>                        </td><td style=\"text-align: right;\">         9</td><td style=\"text-align: right;\">        0</td><td style=\"text-align: right;\">       7963</td><td>28.3%       </td><td style=\"text-align: right;\">         12</td><td>f                    </td><td style=\"text-align: right;\">          0</td><td style=\"text-align: right;\">              0</td><td style=\"text-align: right;\">      5631.38</td><td style=\"text-align: right;\">          5631.38</td><td style=\"text-align: right;\">          5000   </td><td style=\"text-align: right;\">         631.38</td><td style=\"text-align: right;\">                0   </td><td style=\"text-align: right;\">        0   </td><td style=\"text-align: right;\">                     0   </td><td>Jan-2015      </td><td style=\"text-align: right;\">           161.03</td><td>              </td><td>Jun-2015            </td><td style=\"text-align: right;\">                           0</td><td>                             </td><td style=\"text-align: right;\">            1</td></tr>\n",
       "<tr><td style=\"text-align: right;\">1.07205e+06</td><td style=\"text-align: right;\">1.28869e+06</td><td style=\"text-align: right;\">       3000</td><td style=\"text-align: right;\">         3000</td><td style=\"text-align: right;\">             3000</td><td>36 months</td><td>18.64%    </td><td style=\"text-align: right;\">       109.43</td><td>E      </td><td>E1         </td><td>MKC Accounting       </td><td>9 years     </td><td>RENT            </td><td style=\"text-align: right;\">       48000</td><td>VERIFIED - income source</td><td>Dec-2011 </td><td>Fully Paid   </td><td>n           </td><td>https://www.lendingclub.com/browse/loanDetail.action?loan_id=1072053</td><td>Borrower added on 12/16/11 > Downpayment for a car.<br>                                                                                                                                                                                                                                                                                                                                                                                                                                                                                                                                                     </td><td>car               </td><td>Car Downpayment                      </td><td>900xx     </td><td>CA          </td><td style=\"text-align: right;\"> 5.35</td><td style=\"text-align: right;\">            0</td><td>Jan-2007          </td><td style=\"text-align: right;\">               2</td><td>                        </td><td>                        </td><td style=\"text-align: right;\">         4</td><td style=\"text-align: right;\">        0</td><td style=\"text-align: right;\">       8221</td><td>87.5%       </td><td style=\"text-align: right;\">          4</td><td>f                    </td><td style=\"text-align: right;\">          0</td><td style=\"text-align: right;\">              0</td><td style=\"text-align: right;\">      3938.14</td><td style=\"text-align: right;\">          3938.14</td><td style=\"text-align: right;\">          3000   </td><td style=\"text-align: right;\">         938.14</td><td style=\"text-align: right;\">                0   </td><td style=\"text-align: right;\">        0   </td><td style=\"text-align: right;\">                     0   </td><td>Jan-2015      </td><td style=\"text-align: right;\">           111.34</td><td>              </td><td>Dec-2014            </td><td style=\"text-align: right;\">                           0</td><td>                             </td><td style=\"text-align: right;\">            1</td></tr>\n",
       "<tr><td style=\"text-align: right;\">1.0718e+06 </td><td style=\"text-align: right;\">1.30696e+06</td><td style=\"text-align: right;\">       5600</td><td style=\"text-align: right;\">         5600</td><td style=\"text-align: right;\">             5600</td><td>60 months</td><td>21.28%    </td><td style=\"text-align: right;\">       152.39</td><td>F      </td><td>F2         </td><td>                     </td><td>4 years     </td><td>OWN             </td><td style=\"text-align: right;\">       40000</td><td>VERIFIED - income source</td><td>Dec-2011 </td><td>Charged Off  </td><td>n           </td><td>https://www.lendingclub.com/browse/loanDetail.action?loan_id=1071795</td><td>Borrower added on 12/21/11 > I own a small home-based judgment collection business. I have 5 years experience collecting debts. I am now going from a home office to a small office. I also plan to buy a small debt portfolio (eg. $10K for $1M of debt) <br>My score is not A+ because I own my home and have no mortgage.<br>                                                                                                                                                                                                                                                                            </td><td>small_business    </td><td>Expand Business & Buy Debt Portfolio </td><td>958xx     </td><td>CA          </td><td style=\"text-align: right;\"> 5.55</td><td style=\"text-align: right;\">            0</td><td>Apr-2004          </td><td style=\"text-align: right;\">               2</td><td>                        </td><td>                        </td><td style=\"text-align: right;\">        11</td><td style=\"text-align: right;\">        0</td><td style=\"text-align: right;\">       5210</td><td>32.6%       </td><td style=\"text-align: right;\">         13</td><td>f                    </td><td style=\"text-align: right;\">          0</td><td style=\"text-align: right;\">              0</td><td style=\"text-align: right;\">       646.02</td><td style=\"text-align: right;\">           646.02</td><td style=\"text-align: right;\">           162.02</td><td style=\"text-align: right;\">         294.94</td><td style=\"text-align: right;\">                0   </td><td style=\"text-align: right;\">      189.06</td><td style=\"text-align: right;\">                     2.09</td><td>Apr-2012      </td><td style=\"text-align: right;\">           152.39</td><td>              </td><td>Aug-2012            </td><td style=\"text-align: right;\">                           0</td><td>                             </td><td style=\"text-align: right;\">            1</td></tr>\n",
       "<tr><td style=\"text-align: right;\">1.07157e+06</td><td style=\"text-align: right;\">1.30672e+06</td><td style=\"text-align: right;\">       5375</td><td style=\"text-align: right;\">         5375</td><td style=\"text-align: right;\">             5350</td><td>60 months</td><td>12.69%    </td><td style=\"text-align: right;\">       121.45</td><td>B      </td><td>B5         </td><td>Starbucks            </td><td>< 1 year    </td><td>RENT            </td><td style=\"text-align: right;\">       15000</td><td>VERIFIED - income       </td><td>Dec-2011 </td><td>Charged Off  </td><td>n           </td><td>https://www.lendingclub.com/browse/loanDetail.action?loan_id=1071570</td><td>Borrower added on 12/16/11 > I'm trying to build up my credit history. I live with my brother and have no car payment or credit cards. I am in community college and work full time. Im going to use the money to make some repairs around the house and get some maintenance done on my car.<br><br>  Borrower added on 12/20/11 > $1000 down only $4375 to go. Thanks to everyone that invested so far, looking forward to surprising my brother with the fixes around the house.<br>                                                                                                                     </td><td>other             </td><td>Building my credit history.          </td><td>774xx     </td><td>TX          </td><td style=\"text-align: right;\">18.08</td><td style=\"text-align: right;\">            0</td><td>Sep-2004          </td><td style=\"text-align: right;\">               0</td><td>                        </td><td>                        </td><td style=\"text-align: right;\">         2</td><td style=\"text-align: right;\">        0</td><td style=\"text-align: right;\">       9279</td><td>36.5%       </td><td style=\"text-align: right;\">          3</td><td>f                    </td><td style=\"text-align: right;\">          0</td><td style=\"text-align: right;\">              0</td><td style=\"text-align: right;\">      1476.19</td><td style=\"text-align: right;\">          1469.34</td><td style=\"text-align: right;\">           673.48</td><td style=\"text-align: right;\">         533.42</td><td style=\"text-align: right;\">                0   </td><td style=\"text-align: right;\">      269.29</td><td style=\"text-align: right;\">                     2.52</td><td>Nov-2012      </td><td style=\"text-align: right;\">           121.45</td><td>              </td><td>Mar-2013            </td><td style=\"text-align: right;\">                           0</td><td>                             </td><td style=\"text-align: right;\">            1</td></tr>\n",
       "<tr><td style=\"text-align: right;\">1.07008e+06</td><td style=\"text-align: right;\">1.3052e+06 </td><td style=\"text-align: right;\">       6500</td><td style=\"text-align: right;\">         6500</td><td style=\"text-align: right;\">             6500</td><td>60 months</td><td>14.65%    </td><td style=\"text-align: right;\">       153.45</td><td>C      </td><td>C3         </td><td>Southwest Rural metro</td><td>5 years     </td><td>OWN             </td><td style=\"text-align: right;\">       72000</td><td>not verified            </td><td>Dec-2011 </td><td>Fully Paid   </td><td>n           </td><td>https://www.lendingclub.com/browse/loanDetail.action?loan_id=1070078</td><td>Borrower added on 12/15/11 > I had recived a loan from Citi Financial about a year ago, I was paying 29.99 intrest, so the refinance is to cut that rate since cleaning up my credit I have been paying everything on time as shown on my credit report<br>                                                                                                                                                                                                                                                                                                                                                 </td><td>debt_consolidation</td><td>High intrest Consolidation           </td><td>853xx     </td><td>AZ          </td><td style=\"text-align: right;\">16.12</td><td style=\"text-align: right;\">            0</td><td>Jan-1998          </td><td style=\"text-align: right;\">               2</td><td>                        </td><td>                        </td><td style=\"text-align: right;\">        14</td><td style=\"text-align: right;\">        0</td><td style=\"text-align: right;\">       4032</td><td>20.6%       </td><td style=\"text-align: right;\">         23</td><td>f                    </td><td style=\"text-align: right;\">          0</td><td style=\"text-align: right;\">              0</td><td style=\"text-align: right;\">      7677.52</td><td style=\"text-align: right;\">          7677.52</td><td style=\"text-align: right;\">          6500   </td><td style=\"text-align: right;\">        1177.52</td><td style=\"text-align: right;\">                0   </td><td style=\"text-align: right;\">        0   </td><td style=\"text-align: right;\">                     0   </td><td>Jun-2013      </td><td style=\"text-align: right;\">          1655.54</td><td>              </td><td>Jul-2013            </td><td style=\"text-align: right;\">                           0</td><td>                             </td><td style=\"text-align: right;\">            1</td></tr>\n",
       "<tr><td style=\"text-align: right;\">1.06991e+06</td><td style=\"text-align: right;\">1.30501e+06</td><td style=\"text-align: right;\">      12000</td><td style=\"text-align: right;\">        12000</td><td style=\"text-align: right;\">            12000</td><td>36 months</td><td>12.69%    </td><td style=\"text-align: right;\">       402.54</td><td>B      </td><td>B5         </td><td>UCLA                 </td><td>10+ years   </td><td>OWN             </td><td style=\"text-align: right;\">       75000</td><td>VERIFIED - income source</td><td>Dec-2011 </td><td>Fully Paid   </td><td>n           </td><td>https://www.lendingclub.com/browse/loanDetail.action?loan_id=1069908</td><td>                                                                                                                                                                                                                                                                                                                                                                                                                                                                                                                                                                                                            </td><td>debt_consolidation</td><td>Consolidation                        </td><td>913xx     </td><td>CA          </td><td style=\"text-align: right;\">10.78</td><td style=\"text-align: right;\">            0</td><td>Oct-1989          </td><td style=\"text-align: right;\">               0</td><td>                        </td><td>                        </td><td style=\"text-align: right;\">        12</td><td style=\"text-align: right;\">        0</td><td style=\"text-align: right;\">      23336</td><td>67.1%       </td><td style=\"text-align: right;\">         34</td><td>f                    </td><td style=\"text-align: right;\">          0</td><td style=\"text-align: right;\">              0</td><td style=\"text-align: right;\">     13943.1 </td><td style=\"text-align: right;\">         13943.1 </td><td style=\"text-align: right;\">         12000   </td><td style=\"text-align: right;\">        1943.08</td><td style=\"text-align: right;\">                0   </td><td style=\"text-align: right;\">        0   </td><td style=\"text-align: right;\">                     0   </td><td>Sep-2013      </td><td style=\"text-align: right;\">          6315.3 </td><td>              </td><td>Aug-2013            </td><td style=\"text-align: right;\">                           0</td><td>                             </td><td style=\"text-align: right;\">            1</td></tr>\n",
       "</table>"
      ]
     },
     "metadata": {},
     "output_type": "display_data"
    }
   ],
   "source": [
    "data.show()"
   ]
  },
  {
   "cell_type": "code",
   "execution_count": 23,
   "metadata": {
    "collapsed": true
   },
   "outputs": [],
   "source": [
    "# Task 4: Bin the response variable to good/bad oans only, use your best judgement for what qualifies as a good/bad loan\n",
    "# Create a new column called \"bad_loan\" which should be a binary variable\n",
    "# Hint: You can turn the bad_loan columm into a factor using .asfactor()\n"
   ]
  },
  {
   "cell_type": "code",
   "execution_count": 24,
   "metadata": {
    "collapsed": false
   },
   "outputs": [
    {
     "data": {
      "text/html": [
       "<table>\n",
       "<tr><th style=\"text-align: right;\">  int_rate</th></tr>\n",
       "<tr><td style=\"text-align: right;\">     10.65</td></tr>\n",
       "<tr><td style=\"text-align: right;\">     15.27</td></tr>\n",
       "<tr><td style=\"text-align: right;\">     15.96</td></tr>\n",
       "<tr><td style=\"text-align: right;\">     13.49</td></tr>\n",
       "<tr><td style=\"text-align: right;\">      7.9 </td></tr>\n",
       "<tr><td style=\"text-align: right;\">     18.64</td></tr>\n",
       "<tr><td style=\"text-align: right;\">     21.28</td></tr>\n",
       "<tr><td style=\"text-align: right;\">     12.69</td></tr>\n",
       "<tr><td style=\"text-align: right;\">     14.65</td></tr>\n",
       "<tr><td style=\"text-align: right;\">     12.69</td></tr>\n",
       "</table>"
      ]
     },
     "metadata": {},
     "output_type": "display_data"
    }
   ],
   "source": [
    "# Task 5: String munging to clearn string columns before converting to numeric\n",
    "# Hint: Column that need munging include \"int_rate,\" \"revol_util,\" \"emp_length\"\n",
    "\n",
    "#### Example for int_rate using gsub, trim, asnumeric ####\n",
    "data [\"int_rate\"] = data[\"int_rate\"].gsub(pattern = \"%\", replacement = \"\") # strip %\n",
    "data [ \"int_rate\"] = data[\"int_rate\"].trim() # trim ws\n",
    "data [\"int_rate\"] = data[\"int_rate\"].asnumeric() #change to a numeric \n",
    "data[\"int_rate\"].show()"
   ]
  },
  {
   "cell_type": "code",
   "execution_count": 25,
   "metadata": {
    "collapsed": false
   },
   "outputs": [
    {
     "data": {
      "text/html": [
       "<table>\n",
       "<tr><th style=\"text-align: right;\">  revol_util</th></tr>\n",
       "<tr><td style=\"text-align: right;\">        83.7</td></tr>\n",
       "<tr><td style=\"text-align: right;\">         9.4</td></tr>\n",
       "<tr><td style=\"text-align: right;\">        98.5</td></tr>\n",
       "<tr><td style=\"text-align: right;\">        21  </td></tr>\n",
       "<tr><td style=\"text-align: right;\">        28.3</td></tr>\n",
       "<tr><td style=\"text-align: right;\">        87.5</td></tr>\n",
       "<tr><td style=\"text-align: right;\">        32.6</td></tr>\n",
       "<tr><td style=\"text-align: right;\">        36.5</td></tr>\n",
       "<tr><td style=\"text-align: right;\">        20.6</td></tr>\n",
       "<tr><td style=\"text-align: right;\">        67.1</td></tr>\n",
       "</table>"
      ]
     },
     "metadata": {},
     "output_type": "display_data"
    }
   ],
   "source": [
    "# Now try for revol_util yourself\n",
    "\n",
    "\n",
    "\n",
    "\n"
   ]
  },
  {
   "cell_type": "code",
   "execution_count": 26,
   "metadata": {
    "collapsed": true
   },
   "outputs": [],
   "source": [
    "# Now we're going to clean up emp_length\n",
    "# Use gsub to remove \" year\" and \" years\" also translate n/a to \"\" \n",
    "data [\"emp_length\"] = data[\"emp_length\"].gsub(pattern = \"([ ]*+[a-zA-Z].*)|(n/a)\", \n",
    "                                              replacement = \"\") \n",
    "\n",
    "# Use trim to remove any trailing spaces \n",
    "data [\"emp_length\"] = data[\"emp_length\"].trim()"
   ]
  },
  {
   "cell_type": "code",
   "execution_count": 27,
   "metadata": {
    "collapsed": false
   },
   "outputs": [
    {
     "data": {
      "text/html": [
       "<table>\n",
       "<tr><th style=\"text-align: right;\">  emp_length</th></tr>\n",
       "<tr><td style=\"text-align: right;\">        10  </td></tr>\n",
       "<tr><td style=\"text-align: right;\">         0.5</td></tr>\n",
       "<tr><td style=\"text-align: right;\">        10  </td></tr>\n",
       "<tr><td style=\"text-align: right;\">        10  </td></tr>\n",
       "<tr><td style=\"text-align: right;\">         3  </td></tr>\n",
       "<tr><td style=\"text-align: right;\">         9  </td></tr>\n",
       "<tr><td style=\"text-align: right;\">         4  </td></tr>\n",
       "<tr><td style=\"text-align: right;\">         0.5</td></tr>\n",
       "<tr><td style=\"text-align: right;\">         5  </td></tr>\n",
       "<tr><td style=\"text-align: right;\">        10  </td></tr>\n",
       "</table>"
      ]
     },
     "metadata": {},
     "output_type": "display_data"
    }
   ],
   "source": [
    "# Use sub to convert < 1 to 0 years and do the same for 10 + to 10\n",
    "# Hint: Be mindful of spaces between characters\n",
    "\n",
    "\n",
    "\n",
    "\n",
    "\n"
   ]
  },
  {
   "cell_type": "code",
   "execution_count": 30,
   "metadata": {
    "collapsed": false
   },
   "outputs": [
    {
     "data": {
      "text/html": [
       "<table>\n",
       "<tr><th style=\"text-align: right;\">  earliest_cr_year</th></tr>\n",
       "<tr><td style=\"text-align: right;\">              1985</td></tr>\n",
       "<tr><td style=\"text-align: right;\">              1999</td></tr>\n",
       "<tr><td style=\"text-align: right;\">              2001</td></tr>\n",
       "<tr><td style=\"text-align: right;\">              1996</td></tr>\n",
       "<tr><td style=\"text-align: right;\">              2004</td></tr>\n",
       "<tr><td style=\"text-align: right;\">              2007</td></tr>\n",
       "<tr><td style=\"text-align: right;\">              2004</td></tr>\n",
       "<tr><td style=\"text-align: right;\">              2004</td></tr>\n",
       "<tr><td style=\"text-align: right;\">              1998</td></tr>\n",
       "<tr><td style=\"text-align: right;\">              1989</td></tr>\n",
       "</table>"
      ]
     },
     "metadata": {},
     "output_type": "display_data"
    }
   ],
   "source": [
    "# Task 6: Extract month and year from earliest_cr_line and make two new columns called \n",
    "# earliest_cr_month and earliest_cr_year\n",
    "\n",
    "\n",
    "\n",
    "\n",
    "\n",
    "\n"
   ]
  },
  {
   "cell_type": "code",
   "execution_count": 33,
   "metadata": {
    "collapsed": false
   },
   "outputs": [
    {
     "data": {
      "text/html": [
       "<table>\n",
       "<tr><th style=\"text-align: right;\">  issue_d_year</th></tr>\n",
       "<tr><td style=\"text-align: right;\">          2011</td></tr>\n",
       "<tr><td style=\"text-align: right;\">          2011</td></tr>\n",
       "<tr><td style=\"text-align: right;\">          2011</td></tr>\n",
       "<tr><td style=\"text-align: right;\">          2011</td></tr>\n",
       "<tr><td style=\"text-align: right;\">          2011</td></tr>\n",
       "<tr><td style=\"text-align: right;\">          2011</td></tr>\n",
       "<tr><td style=\"text-align: right;\">          2011</td></tr>\n",
       "<tr><td style=\"text-align: right;\">          2011</td></tr>\n",
       "<tr><td style=\"text-align: right;\">          2011</td></tr>\n",
       "<tr><td style=\"text-align: right;\">          2011</td></tr>\n",
       "</table>"
      ]
     },
     "metadata": {},
     "output_type": "display_data"
    }
   ],
   "source": [
    "# Task 7: Extract month and year from issue_d and make two new columns called issue_d_month and issue_d_year\n",
    "\n",
    "\n",
    "\n",
    "\n",
    "\n",
    "\n"
   ]
  },
  {
   "cell_type": "code",
   "execution_count": 34,
   "metadata": {
    "collapsed": false
   },
   "outputs": [
    {
     "data": {
      "text/html": [
       "<table>\n",
       "<tr><th style=\"text-align: right;\">  credit_length</th></tr>\n",
       "<tr><td style=\"text-align: right;\">             26</td></tr>\n",
       "<tr><td style=\"text-align: right;\">             12</td></tr>\n",
       "<tr><td style=\"text-align: right;\">             10</td></tr>\n",
       "<tr><td style=\"text-align: right;\">             15</td></tr>\n",
       "<tr><td style=\"text-align: right;\">              7</td></tr>\n",
       "<tr><td style=\"text-align: right;\">              4</td></tr>\n",
       "<tr><td style=\"text-align: right;\">              7</td></tr>\n",
       "<tr><td style=\"text-align: right;\">              7</td></tr>\n",
       "<tr><td style=\"text-align: right;\">             13</td></tr>\n",
       "<tr><td style=\"text-align: right;\">             22</td></tr>\n",
       "</table>"
      ]
     },
     "metadata": {},
     "output_type": "display_data"
    }
   ],
   "source": [
    "# Task 8: Create new column called credit_length\n",
    "# Hint: Do this by subtracting the earliest_cr_year from the issue_d_year\n",
    "\n",
    "\n",
    "\n",
    "\n",
    "\n"
   ]
  },
  {
   "cell_type": "code",
   "execution_count": 35,
   "metadata": {
    "collapsed": false,
    "scrolled": true
   },
   "outputs": [],
   "source": [
    "# Task 9: Use the sub function to create two levels from the verification_status column. Ie \"verified\" and \"not verified\"\n",
    "\n",
    "\n",
    "\n",
    "\n",
    "\n"
   ]
  },
  {
   "cell_type": "code",
   "execution_count": 36,
   "metadata": {
    "collapsed": true
   },
   "outputs": [],
   "source": [
    "# Task 10: Do a test-train split (80-20)\n",
    "\n",
    "\n",
    "\n"
   ]
  },
  {
   "cell_type": "code",
   "execution_count": 37,
   "metadata": {
    "collapsed": true
   },
   "outputs": [],
   "source": [
    "# Task 11: Define your response and predictor variables \n",
    "y=\"bad_loan\"\n",
    "x=[]"
   ]
  },
  {
   "cell_type": "code",
   "execution_count": 38,
   "metadata": {
    "collapsed": true
   },
   "outputs": [],
   "source": [
    "# Task 12: Set parameters for GBM model \n"
   ]
  },
  {
   "cell_type": "code",
   "execution_count": 39,
   "metadata": {
    "collapsed": false
   },
   "outputs": [
    {
     "name": "stdout",
     "output_type": "stream",
     "text": [
      "\n",
      "gbm Model Build Progress: [##################################################] 100%\n"
     ]
    }
   ],
   "source": [
    "# Task 13: Build your model\n"
   ]
  },
  {
   "cell_type": "code",
   "execution_count": null,
   "metadata": {
    "collapsed": false,
    "scrolled": false
   },
   "outputs": [],
   "source": [
    "# Task 14: View your model results\n"
   ]
  }
 ],
 "metadata": {
  "kernelspec": {
   "display_name": "Python 2",
   "language": "python",
   "name": "python2"
  },
  "language_info": {
   "codemirror_mode": {
    "name": "ipython",
    "version": 2
   },
   "file_extension": ".py",
   "mimetype": "text/x-python",
   "name": "python",
   "nbconvert_exporter": "python",
   "pygments_lexer": "ipython2",
   "version": "2.7.12"
  }
 },
 "nbformat": 4,
 "nbformat_minor": 0
}
