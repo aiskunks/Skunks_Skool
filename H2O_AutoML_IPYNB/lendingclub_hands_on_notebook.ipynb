{
 "cells": [
  {
   "cell_type": "markdown",
   "metadata": {},
   "source": [
    "## Lending Club Hands On Session\n",
    "\n",
    "### Dataset\n",
    "\n",
    "- Loan data from 2007 up until 2015 including rejected applications and accepted applications.\n",
    "- Of the 500k accepted applicants about 160k loans have either been completely paid off or defaulted.\n",
    "- There are about 4million applicants in the rejected loans dataset.\n",
    "- We are only going to pull about 42000 loan applicants for this particular demo.\n",
    "\n",
    "#### Data Dictionary\n",
    "\n",
    "To get an idea of all the different features available in the dataset:\n",
    "\n",
    "![](https://s3-us-west-1.amazonaws.com/testing-amy/lending_club_demo_images/lc_datadict.png)\n",
    "\n",
    "Since 2016, Lending Club has added new features to the each loan application. Also if you log into Lending Club securely you can download the FICO credit score associated with each loan app.\n",
    "\n",
    "#### Possible Use Cases:\n",
    "- Use Case 1 Predict the likelihood of a user defaulting based on the information supplied when applying for a loan.\n",
    "- Use Case 2 Determine the interest rate Lending  Club would have offered the user based on the information supplied when applying for a loan.\n",
    "- Use Case 3 Based on the subset of information available in both rejected and accepted loans, predict the likelihood Lending Club will approve your loan request."
   ]
  },
  {
   "cell_type": "markdown",
   "metadata": {},
   "source": [
    "## START H2O\n",
    "\n",
    "To launch h2o locally from R, execute `h2o.init`. To use all available threads run with `nthreads = -1`. To see all available arguments and parameters for any h2o function run `?h2o.init` to access the R documentation. "
   ]
  },
  {
   "cell_type": "code",
   "execution_count": null,
   "metadata": {
    "collapsed": false
   },
   "outputs": [],
   "source": [
    "library(h2o)"
   ]
  },
  {
   "cell_type": "code",
   "execution_count": null,
   "metadata": {
    "collapsed": true
   },
   "outputs": [],
   "source": [
    "?h2o.init"
   ]
  },
  {
   "cell_type": "code",
   "execution_count": null,
   "metadata": {
    "collapsed": false
   },
   "outputs": [],
   "source": [
    "h2o.init(nthreads = -1)"
   ]
  },
  {
   "cell_type": "markdown",
   "metadata": {},
   "source": [
    "## Task 1: Import dataset.\n",
    "\n",
    "If possible download from the s3 link and change the path to the dataset. Download Link: http://h2o-public-test-data.s3.amazonaws.com/bigdata/laptop/lending-club/LoanStats3a.csv. Then set the variable `small_test_path` to where your downloaded LoanStats file is.\n",
    "\n",
    "For example: `small_test_path <- \"/Users/amy/h2o-3/bigdata/laptop/lending-club/LoanStats3a.csv\"`\n",
    "\n",
    "Parse with user imposed schema which changes the column types of column: 'int_rate', 'revol_util', 'emp_length', 'verification_status' to String instead of Enum so we can modify the columns."
   ]
  },
  {
   "cell_type": "code",
   "execution_count": null,
   "metadata": {
    "collapsed": false
   },
   "outputs": [],
   "source": [
    "small_test_path <- \"\"\n",
    "col_types <- c('Numeric', 'Numeric', 'Numeric', 'Numeric', 'Numeric', 'Enum', 'String', 'Numeric', \n",
    "               'Enum', 'Enum', 'Enum', 'String', 'Enum', 'Numeric', 'String', 'Time', 'Enum', 'Enum', \n",
    "               'String', 'Enum', 'Enum', 'Enum', 'Enum', 'Enum', 'Numeric', 'Numeric', 'Time', 'Numeric', \n",
    "               'Enum', 'Enum', 'Numeric', 'Numeric', 'Numeric', 'String', 'Numeric', 'Enum', 'Numeric', \n",
    "               'Numeric', 'Numeric', 'Numeric', 'Numeric', 'Numeric', 'Numeric', 'Numeric', 'Numeric', \n",
    "               'Enum', 'Numeric', 'Enum', 'Time', 'Numeric', 'Enum', 'Numeric')\n",
    "loanStats <- h2o.importFile(path = small_test_path, col.types = col_types)\n",
    "summary(loanStats)"
   ]
  },
  {
   "cell_type": "markdown",
   "metadata": {},
   "source": [
    "## Task 2: Look at the levels in the response column loan_status\n",
    "\n",
    "Let's inspect our response column: \"loan_status\".\n",
    "\n",
    "`as.h2o` - Downloads data.frame out to disk as a tmp file and then execute `h2o.uploadFile` to upload the file to H2O.\n",
    "\n",
    "`as.data.frame` and `as.matrix` - Download an H2OFrame from H2O to disk and uses either `read.csv` or `fread` to import the data into R.\n",
    "\n",
    "Create a frequency count table of all the different levels in the \"loan_status\" column using `h2o.table` on the H2OFrame and then bring it back into R to view the entire frame:\n",
    "<p>\n",
    "<details>\n",
    "    <summary>Click Me to Reveal Answer</summary>\n",
    "    <p><tt>as.data.frame(h2o.table(loanStats$loan_status))</tt>\n",
    "    </p>\n",
    "</details>"
   ]
  },
  {
   "cell_type": "code",
   "execution_count": null,
   "metadata": {
    "collapsed": false
   },
   "outputs": [],
   "source": [
    "## Input answer\n"
   ]
  },
  {
   "cell_type": "markdown",
   "metadata": {},
   "source": [
    "## Task 3:  Filter out all loans that are completed, aka subset data\n",
    "\n",
    "You can run subset with the exact same syntax as you would on a R frame.\n",
    "\n",
    "Note: \"Current\", \"In Grace Period\", \"Late (16-30 days)\", \"Late (31-120 days)\" are ongoing loans.\n",
    "<p>\n",
    "<details>\n",
    "    <summary>Click Me to Reveal Answer</summary>\n",
    "    <p><tt>loanStats <- loanStats[!(loanStats[,\"loan_status\"] %in% c(\"Current\", \"In Grace Period\", \"Late (16-30 days)\", \"Late (31-120 days)\")), ]</tt>\n",
    "    </p>\n",
    "</details>"
   ]
  },
  {
   "cell_type": "code",
   "execution_count": null,
   "metadata": {
    "collapsed": false
   },
   "outputs": [],
   "source": [
    "## Input answer\n",
    "loanStats <- "
   ]
  },
  {
   "cell_type": "markdown",
   "metadata": {},
   "source": [
    "## Task 4: Bin the response variable to good/bad loans only, use your best judgment for what is a good/bad loan\n",
    "\n",
    "Create new column called bad_loan which should be a binary variable. You can turn the bad_loan column into factor using `as.factor`.\n",
    "<p>\n",
    "<details>\n",
    "    <summary>Click Me to Reveal Answer</summary>\n",
    "    <br><tt>loanStats[, \"bad_loan\"] <- loanStats[,\"loan_status\"] %in% c(\"Charged Off\", \"Default\", \"Does not meet the credit policy.  Status:Charged Off\")\n",
    "    </br> <br>\n",
    "    loanStats[, \"bad_loan\"] <- as.factor(loanStats[,\"bad_loan\"])</tt>\n",
    "    </br>\n",
    "</details>\n"
   ]
  },
  {
   "cell_type": "code",
   "execution_count": null,
   "metadata": {
    "collapsed": false
   },
   "outputs": [],
   "source": [
    "## Input answer\n",
    "loanStats[, \"bad_loan\"] <- \n",
    "loanStats[, \"bad_loan\"] <- as.factor(loanStats[,\"bad_loan\"])"
   ]
  },
  {
   "cell_type": "markdown",
   "metadata": {},
   "source": [
    "## Task 5: String munging to clean string columns before converting to numeric\n",
    "\n",
    "Hint: Columns that need munging includes \"int_rate\", \"revol_util\", \"emp_length\".\n",
    "\n",
    "```\n",
    "## Example for int_rate using h2o.strsplit, trim, as.numeric\n",
    "loanStats[, \"int_rate\"] <- h2o.strsplit(loanStats[, \"int_rate\"], split = \"%\")\n",
    "loanStats[, \"int_rate\"] <- h2o.trim(loanStats[, \"int_rate\"])\n",
    "loanStats[, \"int_rate\"] <- as.numeric(loanStats[, \"int_rate\"])\n",
    "```\n",
    "\n",
    "<details>\n",
    "    <summary>Click Me to Reveal Answer</summary>\n",
    "    <br><tt>loanStats[, \"revol_util\"] <- h2o.strsplit(loanStats[, \"revol_util\"], split = \"%\")\n",
    "    </br> <br>loanStats[, \"revol_util\"] <- h2o.trim(loanStats[, \"revol_util\"]) \n",
    "    </br> <br>loanStats[, \"revol_util\"] <- as.numeric(loanStats[, \"revol_util\"]) </tt>\n",
    "    </br>\n",
    "</details>\n"
   ]
  },
  {
   "cell_type": "code",
   "execution_count": null,
   "metadata": {
    "collapsed": false
   },
   "outputs": [],
   "source": [
    "## Example for int_rate using h2o.strsplit, trim, as.numeric\n",
    "loanStats[, \"int_rate\"] <- h2o.strsplit(loanStats[, \"int_rate\"], split = \"%\")\n",
    "loanStats[, \"int_rate\"] <- h2o.trim(loanStats[, \"int_rate\"])\n",
    "loanStats[, \"int_rate\"] <- as.numeric(loanStats[, \"int_rate\"])\n",
    "\n",
    "## Input Answer\n",
    "loanStats[, \"revol_util\"] <- \n",
    "loanStats[, \"revol_util\"] <-\n",
    "loanStats[, \"revol_util\"] <-\n",
    "\n",
    "## Now we're going to clean up emp_length.\n",
    "## Use h2o.sub to remove \" year\" and \" years\", also translate n/a to \"\"\n",
    "loanStats[, \"emp_length\"] <- h2o.sub(x = loanStats[, \"emp_length\"], pattern = \"([ ]*+[a-zA-Z].*)|(n/a)\", replacement = \"\")\n",
    "## Use h2o.trim to remove any trailing spaces\n",
    "loanStats[, \"emp_length\"] <- h2o.trim(loanStats[, \"emp_length\"])\n",
    "## Use h2o.sub to convert < 1 to 0 years and do the same for 10 + to 10 \n",
    "## Hint: Be mindful of spaces between characters\n",
    "loanStats[, \"emp_length\"] <- h2o.sub(x = loanStats[, \"emp_length\"], pattern = \"< 1\", replacement = \"0\")\n",
    "loanStats[, \"emp_length\"] <- h2o.sub(x = loanStats[, \"emp_length\"], pattern = \"10\\\\\\\\+\", replacement = \"10\")\n",
    "loanStats[, \"emp_length\"] <- as.numeric(loanStats[, \"emp_length\"])"
   ]
  },
  {
   "cell_type": "markdown",
   "metadata": {},
   "source": [
    "## Task 6: Create new feature called \"credit_length_in_years\"\n",
    "\n",
    "I want to see what is the longest credit line the applicant has held. Use date/time functions supported by h2o to find out credit length. Keep in mind that the column was already imported as a Date column but you can also import it as a String and convert the column by using `as.Date`.\n",
    "<p>\n",
    "Hint: Use the columns \"earliest_cr_line\" and \"issue_d\" which are both date columns.\n",
    "\n",
    "`h2o.year`, `h2o.month`, `h2o.dayOfWeek`, `h2o.hour` are all h2o functions that allow you to decipher time columns and transform them into human readable int.\n",
    "\n",
    "\n",
    "<p>\n",
    "\n",
    "<details>\n",
    "    <summary>Click Me to Reveal Answer</summary>\n",
    "    <br><tt>loanStats[, \"credit_length_in_years\"] <- h2o.year(loanStats[,\"issue_d\"]) - h2o.year(loanStats[,\"earliest_cr_line\"])\n",
    " </tt>\n",
    "    </br>\n",
    "</details>"
   ]
  },
  {
   "cell_type": "code",
   "execution_count": null,
   "metadata": {
    "collapsed": true
   },
   "outputs": [],
   "source": [
    "## Input Answer\n",
    "loanStats[, \"credit_length_in_years\"] <-"
   ]
  },
  {
   "cell_type": "markdown",
   "metadata": {},
   "source": [
    "## Task 7: Bin categorical in a Enum Column\n",
    "\n",
    "Use `h2o.sub` to create two levels for column \"verification_status\" i.e. \"verified\" and \"not verified\". Then execute `h2o.table` to examine levels within \"verification_status\"\n",
    "\n",
    "<p>\n",
    "\n",
    "<details>\n",
    "    <summary>Click Me to Reveal Answer</summary>\n",
    "    <br><tt>loanStats[, \"verification_status\"] <- h2o.sub(x = loanStats[, \"verification_status\"], pattern = \"VERIFIED - income source\", replacement = \"verified\")\n",
    "    </br> <br>loanStats[, \"verification_status\"] <- h2o.sub(x = loanStats[, \"verification_status\"], pattern = \"VERIFIED - income\", replacement = \"verified\")\n",
    "    </br> <br>loanStats[, \"verification_status\"] <- as.factor(loanStats[, \"verification_status\"])\n",
    "    </br> <br>h2o.table(loanStats[, \"verification_status\"])</tt>\n",
    "    </br>\n",
    "</details>\n"
   ]
  },
  {
   "cell_type": "code",
   "execution_count": null,
   "metadata": {
    "collapsed": false
   },
   "outputs": [],
   "source": [
    "## Look at the levels in the column first\n",
    "h2o.table(\"verification_status\")\n",
    "\n",
    "## Input Answer\n",
    "loanStats[, \"verification_status\"] <- h2o.sub()\n",
    "loanStats[, \"verification_status\"] <- h2o.sub()\n",
    "loanStats[, \"verification_status\"] <- as.factor()\n",
    "\n",
    "## Review the new levels in the column\n",
    "h2o.table(\"verification_status\")"
   ]
  },
  {
   "cell_type": "markdown",
   "metadata": {},
   "source": [
    "## Task 8: Define your response and predictor variables\n",
    "\n",
    "<p>\n",
    "\n",
    "<details>\n",
    "    <summary>Click Me to Reveal Example Code</summary>\n",
    "    <br><tt>myY <- \"bad_loan\"\n",
    "    </br> <br>myX <-  c(\"loan_amnt\", \"term\", \"home_ownership\", \"annual_inc\", \"verification_status\", \"purpose\",\n",
    "          \"addr_state\", \"dti\", \"delinq_2yrs\", \"open_acc\", \"pub_rec\", \"revol_bal\", \"total_acc\",\n",
    "          \"emp_length\", \"credit_length_in_years\", \"inq_last_6mths\", \"revol_util\")</tt>\n",
    "    </br>\n",
    "</details>\n"
   ]
  },
  {
   "cell_type": "code",
   "execution_count": null,
   "metadata": {
    "collapsed": false
   },
   "outputs": [],
   "source": [
    "## Fix myX!\n",
    "myY <- \"bad_loan\"\n",
    "myX <-  c(\"loan_amnt\", \"term\", ##Add more features\n",
    "         )"
   ]
  },
  {
   "cell_type": "markdown",
   "metadata": {},
   "source": [
    "## Task 9: Do a test-train split (80-20)\n",
    "\n",
    "Use `h2o.splitFrame` to create random splits. It will return two objects both pointers to the new frame. Assign the first object to be the training set, and the second is the validation set.\n",
    "\n",
    "Note: Use `h2o.splitFrame` ONLY once!\n",
    "Note: Use `h2o.table` to see if the ratio of the response class is maintained\n",
    "\n",
    "<p>\n",
    "\n",
    "<details>\n",
    "    <summary>Click Me to Reveal Example Code</summary>\n",
    "    <br><tt>split <- h2o.splitFrame(loanStats, ratios = 0.8)\n",
    "    </br> <br>train <- split[[1]]</br> <br>valid <- split[[2]]</tt>\n",
    "    </br>\n",
    "</details>\n"
   ]
  },
  {
   "cell_type": "code",
   "execution_count": null,
   "metadata": {
    "collapsed": false
   },
   "outputs": [],
   "source": [
    "## Input Answer\n",
    "split <- h2o.splitFrame(loanStats, ratios = )\n",
    "train <-\n",
    "valid <- "
   ]
  },
  {
   "cell_type": "code",
   "execution_count": null,
   "metadata": {
    "collapsed": false
   },
   "outputs": [],
   "source": [
    "## Use h2o.table to see if the ratio of the response class is maintained\n",
    "h2o.table(loanStats[,myY])\n",
    "h2o.table(train[,myY])\n",
    "h2o.table(valid[,myY])"
   ]
  },
  {
   "cell_type": "markdown",
   "metadata": {},
   "source": [
    "## Task 10: Build model predicting good/bad loan \n",
    "\n",
    "Use any of the classification methods available including GLM, GBM, Random Forest, and Deep Learning. Just reply to specify your x, y, training_frame, and validation frame. In the case of GLM you will need to specify the family of distribution as well which in our case is \"binomial\".\n",
    "\n",
    "<p>\n",
    "\n",
    "<details>\n",
    "    <summary>Click Me to Reveal Example Code</summary>\n",
    "    <br><tt>glm_model <- h2o.glm(x = myX, y = myY, training_frame = train, validation_frame = valid, family = \"binomial\", model_id = \"GLM_BadLoan\")\n",
    "    </br> <br>gbm_model <- h2o.gbm(x = myX, y = myY, training_frame = train, validation_frame = valid,\n",
    "                     learn_rate = 0.05, score_each_iteration = T, ntrees = 50, model_id = \"GBM_BadLoan\")\n",
    "</tt>\n",
    "    </br>\n",
    "</details>\n"
   ]
  },
  {
   "cell_type": "code",
   "execution_count": null,
   "metadata": {
    "collapsed": false
   },
   "outputs": [],
   "source": [
    "## Input Answer\n",
    "glm_model <- h2o.glm()\n",
    "gbm_model <- h2o.gbm()"
   ]
  },
  {
   "cell_type": "markdown",
   "metadata": {},
   "source": [
    "## Task 11: Plot the scoring history to make sure you're not overfitting\n",
    "\n",
    "Hint: Use plot function on the model object\n",
    "\n",
    "<p>\n",
    "\n",
    "<details>\n",
    "    <summary>Click Me to Reveal Answer</summary>\n",
    "    <br><tt>plot(gbm_model)\n",
    "    </tt>\n",
    "    </br>\n",
    "</details>\n"
   ]
  },
  {
   "cell_type": "code",
   "execution_count": null,
   "metadata": {
    "collapsed": false
   },
   "outputs": [],
   "source": [
    "## Input Answer\n"
   ]
  },
  {
   "cell_type": "markdown",
   "metadata": {},
   "source": [
    "## Task 12: Plot the ROC curve for the binomial models and get auc using h2o.auc\n",
    "\n",
    "Use `h2o.performance` and `plot` to grab the modelmetrics and then plotting the model metrics:\n",
    "\n",
    "<p>\n",
    "\n",
    "<details>\n",
    "    <summary>Click Me to Reveal Example Code</summary>\n",
    "    <br><tt>perf <- h2o.performance(model = gbm_model)\n",
    "    </br> <br>plot(perf, train = T)\n",
    "    </br> <br>plot(perf, train = F)</tt>\n",
    "    </br>\n",
    "</details>\n"
   ]
  },
  {
   "cell_type": "code",
   "execution_count": null,
   "metadata": {
    "collapsed": false
   },
   "outputs": [],
   "source": [
    "## Input Answer\n",
    "perf <- h2o.performance(model = gbm_model)\n",
    "plot(, train = T)\n",
    "plot(, valid = T)"
   ]
  },
  {
   "cell_type": "code",
   "execution_count": null,
   "metadata": {
    "collapsed": false
   },
   "outputs": [],
   "source": [
    "## Grab the AUC value for all the models. \n",
    "h2o.auc(gbm_model, train = T)\n",
    "h2o.auc(gbm_model, valid = T)\n",
    "\n",
    "h2o.auc(glm_model, train = T)\n",
    "h2o.auc(glm_model, valid = T)"
   ]
  },
  {
   "cell_type": "markdown",
   "metadata": {},
   "source": [
    "## Task 8: Task 13: Check the variable importance\n",
    "\n",
    "\n",
    "Use `h2o.varimp_plot` for non-GLM model and use `h2o.std_coef_plot` for GLM models. Also, limit number of features in order to get a better plot for GLM models.\n",
    "<p>\n",
    "\n",
    "<details>\n",
    "    <summary>Click Me to Reveal Example Code</summary>\n",
    "    <br><tt>varimp_chart = h2o.varimp(gbm_model)\n",
    "    </br> <br>h2o.varimp_plot(gbm_model)</tt>\n",
    "    </br>\n",
    "</details>\n"
   ]
  },
  {
   "cell_type": "code",
   "execution_count": null,
   "metadata": {
    "collapsed": false
   },
   "outputs": [],
   "source": [
    "## Standardized Mag. Coef for GLM model\n",
    "std_coef_chart = glm_model@model$standardized_coefficient_magnitudes\n",
    "std_coef_plot = h2o.std_coef_plot(glm_model, num_of_features = 20)\n",
    "\n",
    "## Input Answer for GBM model\n"
   ]
  },
  {
   "cell_type": "markdown",
   "metadata": {},
   "source": [
    "## Task 14: Score the entire data set using the model\n",
    "\n",
    "Use `h2o.predict` and supply the model you want to predict with and the dataset you want to predict on.\n",
    "\n",
    "<p>\n",
    "\n",
    "<details>\n",
    "    <summary>Click Me to Reveal Example Code</summary>\n",
    "    <br><tt>pred <- h2o.predict(gbm_model, loanStats)</tt>\n",
    "    </br>\n",
    "</details>\n"
   ]
  },
  {
   "cell_type": "code",
   "execution_count": null,
   "metadata": {
    "collapsed": false
   },
   "outputs": [],
   "source": [
    "## Input Answer\n",
    "pred <- h2o.predict()"
   ]
  },
  {
   "cell_type": "markdown",
   "metadata": {},
   "source": [
    "## Extra: Calculate the money gain/loss if model is implemented"
   ]
  },
  {
   "cell_type": "code",
   "execution_count": null,
   "metadata": {
    "collapsed": false
   },
   "outputs": [],
   "source": [
    "## Calculate the total amount of money earned or lost per loan\n",
    "loanStats$earned <- loanStats$total_pymnt - loanStats$loan_amnt\n",
    "\n",
    "## Calculate how much money will be lost to false negative, vs how much will be saved due to true positives\n",
    "loanStats$pred <- pred[,1]\n",
    "net <- as.data.frame(h2o.group_by(data = loanStats, by = c(\"bad_loan\", \"pred\"), gb.control = list(na.methods = \"ignore\"), sum(\"earned\")))\n",
    "n1  <- net[ net$bad_loan == 0 & net$pred == 0, 3]\n",
    "n2  <- net[ net$bad_loan == 0 & net$pred == 1, 3]\n",
    "n3  <- net[ net$bad_loan == 1 & net$pred == 1, 3]\n",
    "n4  <- net[ net$bad_loan == 1 & net$pred == 0, 3]\n",
    "\n",
    "\n",
    "## Function defined to pretty print numerics as dollars\n",
    "printMoney <- function(x){\n",
    "  x <- round(abs(x),2)\n",
    "  format(x, digits=10, nsmall=2, decimal.mark=\".\", big.mark=\",\")\n",
    "}\n",
    "\n",
    "## Calculate the amount of earned\n",
    "print(paste0(\"Total amount of profit still earned using the model : $\", printMoney(n1) , \"\"))\n",
    "print(paste0(\"Total amount of profit forfeitted using the model : $\", printMoney(n2) , \"\"))\n",
    "print(paste0(\"Total amount of loss that could have been prevented : $\", printMoney(n3) , \"\"))\n",
    "print(paste0(\"Total amount of loss that still would've accrued : $\", printMoney(n4) , \"\"))\n",
    "## Calculate Net\n",
    "print(paste0(\"Total profit by implementing model : $\", printMoney( n1 - n2 + n3 - n4)))\n"
   ]
  }
 ],
 "metadata": {
  "kernelspec": {
   "display_name": "R",
   "language": "R",
   "name": "ir"
  },
  "language_info": {
   "codemirror_mode": "r",
   "file_extension": ".r",
   "mimetype": "text/x-r-source",
   "name": "R",
   "pygments_lexer": "r",
   "version": "3.3.2"
  }
 },
 "nbformat": 4,
 "nbformat_minor": 2
}
