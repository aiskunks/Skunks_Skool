{
 "cells": [
  {
   "cell_type": "markdown",
   "metadata": {},
   "source": [
    "# Building a Probabilistic Matching Engine\n",
    "\n",
    "\n",
    "In this notebook, we will show how to build a probabilistic matching engine.  This approach is used for record matching or deduplication of a dataset.  In this notebook, we will try to link records for the same person.  This is not necessarily a straightforward process since a person's address, name, phone number, etc. can change over time.  \n",
    "\n",
    "\n",
    "**Steps**\n",
    "\n",
    "1. Create matching dataset - we will need to formulate the data so that there is one record comparing two people \n",
    "2. Calculate string distances between the attributes of two people\n",
    "3. Build machine learning models to predict if two people are a match\n",
    "4. Use model to predict matches\n",
    "\n",
    "## Step 1: Create Matching Dataset\n",
    "\n",
    "In order to treat this problem as a supervised learning problem, we need a target column.  In this case, we will assume that people were being matched by hand and we have some historical data that indicates whether two people were found to be a match.  The benefit of using a machine learning model to identify matches in the future is that the process can now be done automatically on huge datasets.\n",
    "\n",
    "The end result of our dataset should be something like this: \n",
    "\n",
    "\n",
    "| rec_id_orig | given_name_orig | surname_orig | rec_id_dup | given_name_dup | surname_dup | is_match |\n",
    "|-------------|-----------------|--------------|------------|----------------|-------------|----------|\n",
    "| 1070        | michaela        | neumann      | 1016       | courtney       | painter     | False    |\n",
    "| 1070        | michaela        | neumann      | 1016       | courtney       | painter     | False    |\n",
    "| 1070        | michaela        | neumann      | 4405       | charles        | green       | False    |\n",
    "| 1070        | michaela        | neumann      | 1016       | michaela       | jakimow     | True     |\n",
    "\n",
    "We will use the `recordlinkage` package to load the data we will use during this tutorial.  Two datasets are loaded - the original records and the duplicates.  The `rec_id` tells us if they are matches.  "
   ]
  },
  {
   "cell_type": "code",
   "execution_count": 245,
   "metadata": {},
   "outputs": [],
   "source": [
    "import recordlinkage\n",
    "from recordlinkage.datasets import load_febrl4\n",
    "\n",
    "orig, dup = load_febrl4()"
   ]
  },
  {
   "cell_type": "code",
   "execution_count": 246,
   "metadata": {
    "scrolled": true
   },
   "outputs": [
    {
     "data": {
      "text/html": [
       "<div>\n",
       "<style scoped>\n",
       "    .dataframe tbody tr th:only-of-type {\n",
       "        vertical-align: middle;\n",
       "    }\n",
       "\n",
       "    .dataframe tbody tr th {\n",
       "        vertical-align: top;\n",
       "    }\n",
       "\n",
       "    .dataframe thead th {\n",
       "        text-align: right;\n",
       "    }\n",
       "</style>\n",
       "<table border=\"1\" class=\"dataframe\">\n",
       "  <thead>\n",
       "    <tr style=\"text-align: right;\">\n",
       "      <th></th>\n",
       "      <th>given_name</th>\n",
       "      <th>surname</th>\n",
       "      <th>street_number</th>\n",
       "      <th>address_1</th>\n",
       "      <th>address_2</th>\n",
       "      <th>suburb</th>\n",
       "      <th>postcode</th>\n",
       "      <th>state</th>\n",
       "      <th>date_of_birth</th>\n",
       "      <th>soc_sec_id</th>\n",
       "    </tr>\n",
       "    <tr>\n",
       "      <th>rec_id</th>\n",
       "      <th></th>\n",
       "      <th></th>\n",
       "      <th></th>\n",
       "      <th></th>\n",
       "      <th></th>\n",
       "      <th></th>\n",
       "      <th></th>\n",
       "      <th></th>\n",
       "      <th></th>\n",
       "      <th></th>\n",
       "    </tr>\n",
       "  </thead>\n",
       "  <tbody>\n",
       "    <tr>\n",
       "      <th>rec-1070-org</th>\n",
       "      <td>michaela</td>\n",
       "      <td>neumann</td>\n",
       "      <td>8</td>\n",
       "      <td>stanley street</td>\n",
       "      <td>miami</td>\n",
       "      <td>winston hills</td>\n",
       "      <td>4223</td>\n",
       "      <td>nsw</td>\n",
       "      <td>19151111</td>\n",
       "      <td>5304218</td>\n",
       "    </tr>\n",
       "    <tr>\n",
       "      <th>rec-1016-org</th>\n",
       "      <td>courtney</td>\n",
       "      <td>painter</td>\n",
       "      <td>12</td>\n",
       "      <td>pinkerton circuit</td>\n",
       "      <td>bega flats</td>\n",
       "      <td>richlands</td>\n",
       "      <td>4560</td>\n",
       "      <td>vic</td>\n",
       "      <td>19161214</td>\n",
       "      <td>4066625</td>\n",
       "    </tr>\n",
       "    <tr>\n",
       "      <th>rec-4405-org</th>\n",
       "      <td>charles</td>\n",
       "      <td>green</td>\n",
       "      <td>38</td>\n",
       "      <td>salkauskas crescent</td>\n",
       "      <td>kela</td>\n",
       "      <td>dapto</td>\n",
       "      <td>4566</td>\n",
       "      <td>nsw</td>\n",
       "      <td>19480930</td>\n",
       "      <td>4365168</td>\n",
       "    </tr>\n",
       "    <tr>\n",
       "      <th>rec-1288-org</th>\n",
       "      <td>vanessa</td>\n",
       "      <td>parr</td>\n",
       "      <td>905</td>\n",
       "      <td>macquoid place</td>\n",
       "      <td>broadbridge manor</td>\n",
       "      <td>south grafton</td>\n",
       "      <td>2135</td>\n",
       "      <td>sa</td>\n",
       "      <td>19951119</td>\n",
       "      <td>9239102</td>\n",
       "    </tr>\n",
       "    <tr>\n",
       "      <th>rec-3585-org</th>\n",
       "      <td>mikayla</td>\n",
       "      <td>malloney</td>\n",
       "      <td>37</td>\n",
       "      <td>randwick road</td>\n",
       "      <td>avalind</td>\n",
       "      <td>hoppers crossing</td>\n",
       "      <td>4552</td>\n",
       "      <td>vic</td>\n",
       "      <td>19860208</td>\n",
       "      <td>7207688</td>\n",
       "    </tr>\n",
       "  </tbody>\n",
       "</table>\n",
       "</div>"
      ],
      "text/plain": [
       "             given_name   surname street_number            address_1  \\\n",
       "rec_id                                                                 \n",
       "rec-1070-org   michaela   neumann             8       stanley street   \n",
       "rec-1016-org   courtney   painter            12    pinkerton circuit   \n",
       "rec-4405-org    charles     green            38  salkauskas crescent   \n",
       "rec-1288-org    vanessa      parr           905       macquoid place   \n",
       "rec-3585-org    mikayla  malloney            37        randwick road   \n",
       "\n",
       "                      address_2            suburb postcode state  \\\n",
       "rec_id                                                             \n",
       "rec-1070-org              miami     winston hills     4223   nsw   \n",
       "rec-1016-org         bega flats         richlands     4560   vic   \n",
       "rec-4405-org               kela             dapto     4566   nsw   \n",
       "rec-1288-org  broadbridge manor     south grafton     2135    sa   \n",
       "rec-3585-org            avalind  hoppers crossing     4552   vic   \n",
       "\n",
       "             date_of_birth soc_sec_id  \n",
       "rec_id                                 \n",
       "rec-1070-org      19151111    5304218  \n",
       "rec-1016-org      19161214    4066625  \n",
       "rec-4405-org      19480930    4365168  \n",
       "rec-1288-org      19951119    9239102  \n",
       "rec-3585-org      19860208    7207688  "
      ]
     },
     "execution_count": 246,
     "metadata": {},
     "output_type": "execute_result"
    }
   ],
   "source": [
    "orig.head()"
   ]
  },
  {
   "cell_type": "code",
   "execution_count": 247,
   "metadata": {},
   "outputs": [
    {
     "data": {
      "text/html": [
       "<div>\n",
       "<style scoped>\n",
       "    .dataframe tbody tr th:only-of-type {\n",
       "        vertical-align: middle;\n",
       "    }\n",
       "\n",
       "    .dataframe tbody tr th {\n",
       "        vertical-align: top;\n",
       "    }\n",
       "\n",
       "    .dataframe thead th {\n",
       "        text-align: right;\n",
       "    }\n",
       "</style>\n",
       "<table border=\"1\" class=\"dataframe\">\n",
       "  <thead>\n",
       "    <tr style=\"text-align: right;\">\n",
       "      <th></th>\n",
       "      <th>given_name</th>\n",
       "      <th>surname</th>\n",
       "      <th>street_number</th>\n",
       "      <th>address_1</th>\n",
       "      <th>address_2</th>\n",
       "      <th>suburb</th>\n",
       "      <th>postcode</th>\n",
       "      <th>state</th>\n",
       "      <th>date_of_birth</th>\n",
       "      <th>soc_sec_id</th>\n",
       "    </tr>\n",
       "    <tr>\n",
       "      <th>rec_id</th>\n",
       "      <th></th>\n",
       "      <th></th>\n",
       "      <th></th>\n",
       "      <th></th>\n",
       "      <th></th>\n",
       "      <th></th>\n",
       "      <th></th>\n",
       "      <th></th>\n",
       "      <th></th>\n",
       "      <th></th>\n",
       "    </tr>\n",
       "  </thead>\n",
       "  <tbody>\n",
       "    <tr>\n",
       "      <th>rec-561-dup-0</th>\n",
       "      <td>elton</td>\n",
       "      <td>NaN</td>\n",
       "      <td>3</td>\n",
       "      <td>light setreet</td>\n",
       "      <td>pinehill</td>\n",
       "      <td>windermere</td>\n",
       "      <td>3212</td>\n",
       "      <td>vic</td>\n",
       "      <td>19651013</td>\n",
       "      <td>1551941</td>\n",
       "    </tr>\n",
       "    <tr>\n",
       "      <th>rec-2642-dup-0</th>\n",
       "      <td>mitchell</td>\n",
       "      <td>maxon</td>\n",
       "      <td>47</td>\n",
       "      <td>edkins street</td>\n",
       "      <td>lochaoair</td>\n",
       "      <td>north ryde</td>\n",
       "      <td>3355</td>\n",
       "      <td>nsw</td>\n",
       "      <td>19390212</td>\n",
       "      <td>8859999</td>\n",
       "    </tr>\n",
       "    <tr>\n",
       "      <th>rec-608-dup-0</th>\n",
       "      <td>NaN</td>\n",
       "      <td>white</td>\n",
       "      <td>72</td>\n",
       "      <td>lambrigg street</td>\n",
       "      <td>kelgoola</td>\n",
       "      <td>broadbeach waters</td>\n",
       "      <td>3159</td>\n",
       "      <td>vic</td>\n",
       "      <td>19620216</td>\n",
       "      <td>9731855</td>\n",
       "    </tr>\n",
       "    <tr>\n",
       "      <th>rec-3239-dup-0</th>\n",
       "      <td>elk i</td>\n",
       "      <td>menzies</td>\n",
       "      <td>1</td>\n",
       "      <td>lyster place</td>\n",
       "      <td>NaN</td>\n",
       "      <td>northwood</td>\n",
       "      <td>2585</td>\n",
       "      <td>vic</td>\n",
       "      <td>19980624</td>\n",
       "      <td>4970481</td>\n",
       "    </tr>\n",
       "    <tr>\n",
       "      <th>rec-2886-dup-0</th>\n",
       "      <td>NaN</td>\n",
       "      <td>garanggar</td>\n",
       "      <td>NaN</td>\n",
       "      <td>may maxwell crescent</td>\n",
       "      <td>springettst arcade</td>\n",
       "      <td>forest hill</td>\n",
       "      <td>2342</td>\n",
       "      <td>vic</td>\n",
       "      <td>19921016</td>\n",
       "      <td>1366884</td>\n",
       "    </tr>\n",
       "  </tbody>\n",
       "</table>\n",
       "</div>"
      ],
      "text/plain": [
       "               given_name    surname street_number             address_1  \\\n",
       "rec_id                                                                     \n",
       "rec-561-dup-0       elton        NaN             3         light setreet   \n",
       "rec-2642-dup-0   mitchell      maxon            47         edkins street   \n",
       "rec-608-dup-0         NaN      white            72       lambrigg street   \n",
       "rec-3239-dup-0      elk i    menzies             1          lyster place   \n",
       "rec-2886-dup-0        NaN  garanggar           NaN  may maxwell crescent   \n",
       "\n",
       "                         address_2             suburb postcode state  \\\n",
       "rec_id                                                                 \n",
       "rec-561-dup-0             pinehill         windermere     3212   vic   \n",
       "rec-2642-dup-0           lochaoair         north ryde     3355   nsw   \n",
       "rec-608-dup-0             kelgoola  broadbeach waters     3159   vic   \n",
       "rec-3239-dup-0                 NaN          northwood     2585   vic   \n",
       "rec-2886-dup-0  springettst arcade        forest hill     2342   vic   \n",
       "\n",
       "               date_of_birth soc_sec_id  \n",
       "rec_id                                   \n",
       "rec-561-dup-0       19651013    1551941  \n",
       "rec-2642-dup-0      19390212    8859999  \n",
       "rec-608-dup-0       19620216    9731855  \n",
       "rec-3239-dup-0      19980624    4970481  \n",
       "rec-2886-dup-0      19921016    1366884  "
      ]
     },
     "execution_count": 247,
     "metadata": {},
     "output_type": "execute_result"
    }
   ],
   "source": [
    "dup.head()"
   ]
  },
  {
   "cell_type": "code",
   "execution_count": 248,
   "metadata": {},
   "outputs": [
    {
     "data": {
      "text/html": [
       "<div>\n",
       "<style scoped>\n",
       "    .dataframe tbody tr th:only-of-type {\n",
       "        vertical-align: middle;\n",
       "    }\n",
       "\n",
       "    .dataframe tbody tr th {\n",
       "        vertical-align: top;\n",
       "    }\n",
       "\n",
       "    .dataframe thead th {\n",
       "        text-align: right;\n",
       "    }\n",
       "</style>\n",
       "<table border=\"1\" class=\"dataframe\">\n",
       "  <thead>\n",
       "    <tr style=\"text-align: right;\">\n",
       "      <th></th>\n",
       "      <th>rec_id</th>\n",
       "      <th>given_name</th>\n",
       "      <th>surname</th>\n",
       "      <th>street_number</th>\n",
       "      <th>address_1</th>\n",
       "      <th>address_2</th>\n",
       "      <th>suburb</th>\n",
       "      <th>postcode</th>\n",
       "      <th>state</th>\n",
       "      <th>date_of_birth</th>\n",
       "      <th>soc_sec_id</th>\n",
       "    </tr>\n",
       "  </thead>\n",
       "  <tbody>\n",
       "    <tr>\n",
       "      <th>0</th>\n",
       "      <td>1070</td>\n",
       "      <td>michaela</td>\n",
       "      <td>neumann</td>\n",
       "      <td>8</td>\n",
       "      <td>stanley street</td>\n",
       "      <td>miami</td>\n",
       "      <td>winston hills</td>\n",
       "      <td>4223</td>\n",
       "      <td>nsw</td>\n",
       "      <td>19151111</td>\n",
       "      <td>5304218</td>\n",
       "    </tr>\n",
       "    <tr>\n",
       "      <th>1</th>\n",
       "      <td>1016</td>\n",
       "      <td>courtney</td>\n",
       "      <td>painter</td>\n",
       "      <td>12</td>\n",
       "      <td>pinkerton circuit</td>\n",
       "      <td>bega flats</td>\n",
       "      <td>richlands</td>\n",
       "      <td>4560</td>\n",
       "      <td>vic</td>\n",
       "      <td>19161214</td>\n",
       "      <td>4066625</td>\n",
       "    </tr>\n",
       "    <tr>\n",
       "      <th>2</th>\n",
       "      <td>4405</td>\n",
       "      <td>charles</td>\n",
       "      <td>green</td>\n",
       "      <td>38</td>\n",
       "      <td>salkauskas crescent</td>\n",
       "      <td>kela</td>\n",
       "      <td>dapto</td>\n",
       "      <td>4566</td>\n",
       "      <td>nsw</td>\n",
       "      <td>19480930</td>\n",
       "      <td>4365168</td>\n",
       "    </tr>\n",
       "    <tr>\n",
       "      <th>3</th>\n",
       "      <td>1288</td>\n",
       "      <td>vanessa</td>\n",
       "      <td>parr</td>\n",
       "      <td>905</td>\n",
       "      <td>macquoid place</td>\n",
       "      <td>broadbridge manor</td>\n",
       "      <td>south grafton</td>\n",
       "      <td>2135</td>\n",
       "      <td>sa</td>\n",
       "      <td>19951119</td>\n",
       "      <td>9239102</td>\n",
       "    </tr>\n",
       "    <tr>\n",
       "      <th>4</th>\n",
       "      <td>3585</td>\n",
       "      <td>mikayla</td>\n",
       "      <td>malloney</td>\n",
       "      <td>37</td>\n",
       "      <td>randwick road</td>\n",
       "      <td>avalind</td>\n",
       "      <td>hoppers crossing</td>\n",
       "      <td>4552</td>\n",
       "      <td>vic</td>\n",
       "      <td>19860208</td>\n",
       "      <td>7207688</td>\n",
       "    </tr>\n",
       "  </tbody>\n",
       "</table>\n",
       "</div>"
      ],
      "text/plain": [
       "  rec_id given_name   surname street_number            address_1  \\\n",
       "0   1070   michaela   neumann             8       stanley street   \n",
       "1   1016   courtney   painter            12    pinkerton circuit   \n",
       "2   4405    charles     green            38  salkauskas crescent   \n",
       "3   1288    vanessa      parr           905       macquoid place   \n",
       "4   3585    mikayla  malloney            37        randwick road   \n",
       "\n",
       "           address_2            suburb postcode state date_of_birth soc_sec_id  \n",
       "0              miami     winston hills     4223   nsw      19151111    5304218  \n",
       "1         bega flats         richlands     4560   vic      19161214    4066625  \n",
       "2               kela             dapto     4566   nsw      19480930    4365168  \n",
       "3  broadbridge manor     south grafton     2135    sa      19951119    9239102  \n",
       "4            avalind  hoppers crossing     4552   vic      19860208    7207688  "
      ]
     },
     "execution_count": 248,
     "metadata": {},
     "output_type": "execute_result"
    }
   ],
   "source": [
    "# clean the rec_id so they match\n",
    "\n",
    "orig = orig.reset_index()\n",
    "orig.rec_id = orig.rec_id.str.replace(\"rec-\", \"\").str.replace(\"-org\", \"\")\n",
    "\n",
    "dup = dup.reset_index()\n",
    "dup.rec_id = dup.rec_id.str.replace(\"rec-\", \"\").str.replace(\"-dup-\\d\", \"\")\n",
    "\n",
    "orig.head()"
   ]
  },
  {
   "cell_type": "markdown",
   "metadata": {},
   "source": [
    "Once we have the data from the `recordlinkage` package we will start to use H2O. We will be using H2O for the rest of this tutorial with the assumption that this data could be very large and would require a scalable solution."
   ]
  },
  {
   "cell_type": "code",
   "execution_count": 249,
   "metadata": {},
   "outputs": [
    {
     "name": "stdout",
     "output_type": "stream",
     "text": [
      "Checking whether there is an H2O instance running at http://localhost:54321 ..... not found.\n",
      "Attempting to start a local H2O server...\n",
      "  Java Version: java version \"12.0.2\" 2019-07-16; Java(TM) SE Runtime Environment (build 12.0.2+10); Java HotSpot(TM) 64-Bit Server VM (build 12.0.2+10, mixed mode, sharing)\n",
      "  Starting server from /Users/megankurka/env2/lib/python3.6/site-packages/h2o/backend/bin/h2o.jar\n",
      "  Ice root: /var/folders/fk/z2fjbsq163scfcsq9fhsw7r00000gn/T/tmpmvb989wd\n",
      "  JVM stdout: /var/folders/fk/z2fjbsq163scfcsq9fhsw7r00000gn/T/tmpmvb989wd/h2o_megankurka_started_from_python.out\n",
      "  JVM stderr: /var/folders/fk/z2fjbsq163scfcsq9fhsw7r00000gn/T/tmpmvb989wd/h2o_megankurka_started_from_python.err\n",
      "  Server is running at http://127.0.0.1:54321\n",
      "Connecting to H2O server at http://127.0.0.1:54321 ... successful.\n"
     ]
    },
    {
     "data": {
      "text/html": [
       "<div style=\"overflow:auto\"><table style=\"width:50%\"><tr><td>H2O_cluster_uptime:</td>\n",
       "<td>01 secs</td></tr>\n",
       "<tr><td>H2O_cluster_timezone:</td>\n",
       "<td>America/New_York</td></tr>\n",
       "<tr><td>H2O_data_parsing_timezone:</td>\n",
       "<td>UTC</td></tr>\n",
       "<tr><td>H2O_cluster_version:</td>\n",
       "<td>3.30.1.2</td></tr>\n",
       "<tr><td>H2O_cluster_version_age:</td>\n",
       "<td>18 days </td></tr>\n",
       "<tr><td>H2O_cluster_name:</td>\n",
       "<td>H2O_from_python_megankurka_s70525</td></tr>\n",
       "<tr><td>H2O_cluster_total_nodes:</td>\n",
       "<td>1</td></tr>\n",
       "<tr><td>H2O_cluster_free_memory:</td>\n",
       "<td>4 Gb</td></tr>\n",
       "<tr><td>H2O_cluster_total_cores:</td>\n",
       "<td>16</td></tr>\n",
       "<tr><td>H2O_cluster_allowed_cores:</td>\n",
       "<td>16</td></tr>\n",
       "<tr><td>H2O_cluster_status:</td>\n",
       "<td>accepting new members, healthy</td></tr>\n",
       "<tr><td>H2O_connection_url:</td>\n",
       "<td>http://127.0.0.1:54321</td></tr>\n",
       "<tr><td>H2O_connection_proxy:</td>\n",
       "<td>{\"http\": null, \"https\": null}</td></tr>\n",
       "<tr><td>H2O_internal_security:</td>\n",
       "<td>False</td></tr>\n",
       "<tr><td>H2O_API_Extensions:</td>\n",
       "<td>Amazon S3, XGBoost, Algos, AutoML, Core V3, TargetEncoder, Core V4</td></tr>\n",
       "<tr><td>Python_version:</td>\n",
       "<td>3.6.8 final</td></tr></table></div>"
      ],
      "text/plain": [
       "--------------------------  ------------------------------------------------------------------\n",
       "H2O_cluster_uptime:         01 secs\n",
       "H2O_cluster_timezone:       America/New_York\n",
       "H2O_data_parsing_timezone:  UTC\n",
       "H2O_cluster_version:        3.30.1.2\n",
       "H2O_cluster_version_age:    18 days\n",
       "H2O_cluster_name:           H2O_from_python_megankurka_s70525\n",
       "H2O_cluster_total_nodes:    1\n",
       "H2O_cluster_free_memory:    4 Gb\n",
       "H2O_cluster_total_cores:    16\n",
       "H2O_cluster_allowed_cores:  16\n",
       "H2O_cluster_status:         accepting new members, healthy\n",
       "H2O_connection_url:         http://127.0.0.1:54321\n",
       "H2O_connection_proxy:       {\"http\": null, \"https\": null}\n",
       "H2O_internal_security:      False\n",
       "H2O_API_Extensions:         Amazon S3, XGBoost, Algos, AutoML, Core V3, TargetEncoder, Core V4\n",
       "Python_version:             3.6.8 final\n",
       "--------------------------  ------------------------------------------------------------------"
      ]
     },
     "metadata": {},
     "output_type": "display_data"
    }
   ],
   "source": [
    "import h2o\n",
    "h2o.init()"
   ]
  },
  {
   "cell_type": "code",
   "execution_count": 250,
   "metadata": {},
   "outputs": [
    {
     "name": "stdout",
     "output_type": "stream",
     "text": [
      "Parse progress: |█████████████████████████████████████████████████████████| 100%\n",
      "Parse progress: |█████████████████████████████████████████████████████████| 100%\n"
     ]
    }
   ],
   "source": [
    "# convert data to H2O\n",
    "orig_hf = h2o.H2OFrame(orig)\n",
    "dup_hf = h2o.H2OFrame(dup)"
   ]
  },
  {
   "cell_type": "code",
   "execution_count": 251,
   "metadata": {},
   "outputs": [
    {
     "data": {
      "text/html": [
       "<table>\n",
       "<thead>\n",
       "<tr><th style=\"text-align: right;\">  rec_id</th><th>given_name  </th><th>surname  </th><th style=\"text-align: right;\">  street_number</th><th>address_1          </th><th>address_2                        </th><th>suburb          </th><th style=\"text-align: right;\">  postcode</th><th>state  </th><th style=\"text-align: right;\">  date_of_birth</th><th style=\"text-align: right;\">  soc_sec_id</th></tr>\n",
       "</thead>\n",
       "<tbody>\n",
       "<tr><td style=\"text-align: right;\">    1070</td><td>michaela    </td><td>neumann  </td><td style=\"text-align: right;\">              8</td><td>stanley street     </td><td>miami                            </td><td>winston hills   </td><td style=\"text-align: right;\">      4223</td><td>nsw    </td><td style=\"text-align: right;\">    1.91511e+07</td><td style=\"text-align: right;\"> 5.30422e+06</td></tr>\n",
       "<tr><td style=\"text-align: right;\">    1016</td><td>courtney    </td><td>painter  </td><td style=\"text-align: right;\">             12</td><td>pinkerton circuit  </td><td>bega flats                       </td><td>richlands       </td><td style=\"text-align: right;\">      4560</td><td>vic    </td><td style=\"text-align: right;\">    1.91612e+07</td><td style=\"text-align: right;\"> 4.06662e+06</td></tr>\n",
       "<tr><td style=\"text-align: right;\">    4405</td><td>charles     </td><td>green    </td><td style=\"text-align: right;\">             38</td><td>salkauskas crescent</td><td>kela                             </td><td>dapto           </td><td style=\"text-align: right;\">      4566</td><td>nsw    </td><td style=\"text-align: right;\">    1.94809e+07</td><td style=\"text-align: right;\"> 4.36517e+06</td></tr>\n",
       "<tr><td style=\"text-align: right;\">    1288</td><td>vanessa     </td><td>parr     </td><td style=\"text-align: right;\">            905</td><td>macquoid place     </td><td>broadbridge manor                </td><td>south grafton   </td><td style=\"text-align: right;\">      2135</td><td>sa     </td><td style=\"text-align: right;\">    1.99511e+07</td><td style=\"text-align: right;\"> 9.2391e+06 </td></tr>\n",
       "<tr><td style=\"text-align: right;\">    3585</td><td>mikayla     </td><td>malloney </td><td style=\"text-align: right;\">             37</td><td>randwick road      </td><td>avalind                          </td><td>hoppers crossing</td><td style=\"text-align: right;\">      4552</td><td>vic    </td><td style=\"text-align: right;\">    1.98602e+07</td><td style=\"text-align: right;\"> 7.20769e+06</td></tr>\n",
       "<tr><td style=\"text-align: right;\">     298</td><td>blake       </td><td>howie    </td><td style=\"text-align: right;\">              1</td><td>cutlack street     </td><td>belmont park belted galloway stud</td><td>budgewoi        </td><td style=\"text-align: right;\">      6017</td><td>vic    </td><td style=\"text-align: right;\">    1.92503e+07</td><td style=\"text-align: right;\"> 5.18055e+06</td></tr>\n",
       "<tr><td style=\"text-align: right;\">    1985</td><td>nan         </td><td>lund     </td><td style=\"text-align: right;\">            109</td><td>caley crescent     </td><td>allandale aged care facility     </td><td>mill park       </td><td style=\"text-align: right;\">      4053</td><td>nsw    </td><td style=\"text-align: right;\">    1.91809e+07</td><td style=\"text-align: right;\"> 7.07469e+06</td></tr>\n",
       "<tr><td style=\"text-align: right;\">    2404</td><td>blakeston   </td><td>broadby  </td><td style=\"text-align: right;\">             53</td><td>traeger street     </td><td>valley of springs                </td><td>north ward      </td><td style=\"text-align: right;\">      3083</td><td>qld    </td><td style=\"text-align: right;\">    1.91209e+07</td><td style=\"text-align: right;\"> 4.30856e+06</td></tr>\n",
       "<tr><td style=\"text-align: right;\">    1473</td><td>nan         </td><td>leslie   </td><td style=\"text-align: right;\">            925</td><td>carpenter close    </td><td>nan                              </td><td>canterbury      </td><td style=\"text-align: right;\">      2340</td><td>vic    </td><td style=\"text-align: right;\">    1.99506e+07</td><td style=\"text-align: right;\"> 2.43806e+06</td></tr>\n",
       "<tr><td style=\"text-align: right;\">     453</td><td>edward      </td><td>denholm  </td><td style=\"text-align: right;\">             10</td><td>corin place        </td><td>gold tyne                        </td><td>clayfield       </td><td style=\"text-align: right;\">      4221</td><td>vic    </td><td style=\"text-align: right;\">    1.96603e+07</td><td style=\"text-align: right;\"> 7.11977e+06</td></tr>\n",
       "</tbody>\n",
       "</table>"
      ]
     },
     "metadata": {},
     "output_type": "display_data"
    },
    {
     "data": {
      "text/plain": []
     },
     "execution_count": 251,
     "metadata": {},
     "output_type": "execute_result"
    }
   ],
   "source": [
    "orig_hf.head()"
   ]
  },
  {
   "cell_type": "markdown",
   "metadata": {},
   "source": [
    "We change the column names of our frames to indicate if the attribute belongs to the original or a possible duplicate."
   ]
  },
  {
   "cell_type": "code",
   "execution_count": 252,
   "metadata": {},
   "outputs": [],
   "source": [
    "orig_hf.col_names = [\"{}_orig\".format(i) for i in orig_hf.col_names]\n",
    "dup_hf.col_names = [\"{}_dup\".format(i) for i in dup_hf.col_names]"
   ]
  },
  {
   "cell_type": "markdown",
   "metadata": {},
   "source": [
    "Since each record in our modeling data will be a pair of people, we need to merge the original and duplicates together.  We will first merge all the matches together (the original and duplicate are the same person)."
   ]
  },
  {
   "cell_type": "code",
   "execution_count": 254,
   "metadata": {},
   "outputs": [],
   "source": [
    "# merge all matches\n",
    "matching_hf = orig_hf.merge(dup_hf, all_x=True, by_x=[\"rec_id_orig\"], by_y=[\"rec_id_dup\"])\n",
    "matching_hf[\"rec_id_dup\"] = matching_hf[\"rec_id_orig\"]"
   ]
  },
  {
   "cell_type": "code",
   "execution_count": 255,
   "metadata": {},
   "outputs": [
    {
     "data": {
      "text/html": [
       "<table>\n",
       "<thead>\n",
       "<tr><th style=\"text-align: right;\">  rec_id_orig</th><th>given_name_orig  </th><th>surname_orig  </th><th style=\"text-align: right;\">  street_number_orig</th><th>address_1_orig  </th><th>address_2_orig  </th><th>suburb_orig        </th><th style=\"text-align: right;\">  postcode_orig</th><th>state_orig  </th><th style=\"text-align: right;\">  date_of_birth_orig</th><th style=\"text-align: right;\">  soc_sec_id_orig</th><th>given_name_dup  </th><th>surname_dup  </th><th style=\"text-align: right;\">  street_number_dup</th><th>address_1_dup   </th><th>address_2_dup   </th><th>suburb_dup        </th><th style=\"text-align: right;\">  postcode_dup</th><th>state_dup  </th><th style=\"text-align: right;\">  date_of_birth_dup</th><th style=\"text-align: right;\">  soc_sec_id_dup</th><th style=\"text-align: right;\">  rec_id_dup</th></tr>\n",
       "</thead>\n",
       "<tbody>\n",
       "<tr><td style=\"text-align: right;\">            0</td><td>rachael          </td><td>dent          </td><td style=\"text-align: right;\">                   1</td><td>knox street     </td><td>lakewood estate </td><td>byford             </td><td style=\"text-align: right;\">           4129</td><td>vic         </td><td style=\"text-align: right;\">         1.92807e+07</td><td style=\"text-align: right;\">      1.68399e+06</td><td>rachael         </td><td>dent         </td><td style=\"text-align: right;\">                  4</td><td>knox street     </td><td>lakewood estate </td><td>byford            </td><td style=\"text-align: right;\">          4129</td><td>vic        </td><td style=\"text-align: right;\">        1.92807e+07</td><td style=\"text-align: right;\">     1.68399e+06</td><td style=\"text-align: right;\">           0</td></tr>\n",
       "<tr><td style=\"text-align: right;\">            1</td><td>isabella         </td><td>everett       </td><td style=\"text-align: right;\">                  25</td><td>pike place      </td><td>rowethorpe      </td><td>marsden            </td><td style=\"text-align: right;\">           2152</td><td>nsw         </td><td style=\"text-align: right;\">         1.91108e+07</td><td style=\"text-align: right;\">      6.65313e+06</td><td>isabella        </td><td>everett      </td><td style=\"text-align: right;\">                 25</td><td>pike mlace      </td><td>rowethorpe      </td><td>marsden           </td><td style=\"text-align: right;\">          2152</td><td>nsw        </td><td style=\"text-align: right;\">        1.91108e+07</td><td style=\"text-align: right;\">     6.65313e+06</td><td style=\"text-align: right;\">           1</td></tr>\n",
       "<tr><td style=\"text-align: right;\">            2</td><td>olivia           </td><td>trigwell      </td><td style=\"text-align: right;\">                  13</td><td>waldock street  </td><td>wilpena         </td><td>new lambton heights</td><td style=\"text-align: right;\">           3194</td><td>vic         </td><td style=\"text-align: right;\">         1.95711e+07</td><td style=\"text-align: right;\">      9.99175e+06</td><td>olivia          </td><td>trigwell     </td><td style=\"text-align: right;\">                 13</td><td>waldock street  </td><td>wilpena         </td><td>newlambto nheights</td><td style=\"text-align: right;\">          3194</td><td>vic        </td><td style=\"text-align: right;\">        1.95711e+07</td><td style=\"text-align: right;\">     9.99175e+06</td><td style=\"text-align: right;\">           2</td></tr>\n",
       "<tr><td style=\"text-align: right;\">            3</td><td>reeve            </td><td>stanley       </td><td style=\"text-align: right;\">                   4</td><td>alawa street    </td><td>rowethorpe d1   </td><td>mourilyan          </td><td style=\"text-align: right;\">           2474</td><td>sa          </td><td style=\"text-align: right;\">         1.91908e+07</td><td style=\"text-align: right;\">      5.96167e+06</td><td>reeve           </td><td>stanlhy      </td><td style=\"text-align: right;\">                  4</td><td>alawa street    </td><td>rowethorpe d1   </td><td>mourilyan         </td><td style=\"text-align: right;\">          2474</td><td>sa         </td><td style=\"text-align: right;\">        1.91908e+07</td><td style=\"text-align: right;\">     5.96167e+06</td><td style=\"text-align: right;\">           3</td></tr>\n",
       "<tr><td style=\"text-align: right;\">            4</td><td>jayde            </td><td>crouch        </td><td style=\"text-align: right;\">                  42</td><td>weston street   </td><td>waimaru         </td><td>niagara park       </td><td style=\"text-align: right;\">           2119</td><td>wa          </td><td style=\"text-align: right;\">         1.92504e+07</td><td style=\"text-align: right;\">      8.8927e+06 </td><td>ja yde          </td><td>crouch       </td><td style=\"text-align: right;\">                 42</td><td>westo atreet    </td><td>waimaru         </td><td>niagara park      </td><td style=\"text-align: right;\">          2119</td><td>wa         </td><td style=\"text-align: right;\">        1.92504e+07</td><td style=\"text-align: right;\">     8.8927e+06 </td><td style=\"text-align: right;\">           4</td></tr>\n",
       "<tr><td style=\"text-align: right;\">            5</td><td>josephine        </td><td>yu            </td><td style=\"text-align: right;\">                 145</td><td>hensman street  </td><td>lambar          </td><td>burwood            </td><td style=\"text-align: right;\">           6164</td><td>wa          </td><td style=\"text-align: right;\">         1.91109e+07</td><td style=\"text-align: right;\">      5.79234e+06</td><td>josephine       </td><td>yu           </td><td style=\"text-align: right;\">                145</td><td>hensman street  </td><td>lambar          </td><td>burwood           </td><td style=\"text-align: right;\">          6164</td><td>wa         </td><td style=\"text-align: right;\">        1.93109e+07</td><td style=\"text-align: right;\">     5.79234e+06</td><td style=\"text-align: right;\">           5</td></tr>\n",
       "<tr><td style=\"text-align: right;\">            6</td><td>holly            </td><td>petersen      </td><td style=\"text-align: right;\">                  13</td><td>marou place     </td><td>never die       </td><td>birkdale           </td><td style=\"text-align: right;\">           6530</td><td>nsw         </td><td style=\"text-align: right;\">         1.92712e+07</td><td style=\"text-align: right;\">      9.50079e+06</td><td>holy            </td><td>petersen     </td><td style=\"text-align: right;\">                 13</td><td>marou place     </td><td>never die       </td><td>birkdale          </td><td style=\"text-align: right;\">          6530</td><td>nsw        </td><td style=\"text-align: right;\">        1.92712e+07</td><td style=\"text-align: right;\">     9.50079e+06</td><td style=\"text-align: right;\">           6</td></tr>\n",
       "<tr><td style=\"text-align: right;\">            7</td><td>jasmine          </td><td>silvestro     </td><td style=\"text-align: right;\">                  41</td><td>nott street     </td><td>tathra river est</td><td>middleton beach    </td><td style=\"text-align: right;\">           3173</td><td>nsw         </td><td style=\"text-align: right;\">         1.95607e+07</td><td style=\"text-align: right;\">      9.87395e+06</td><td>angus           </td><td>silvestro    </td><td style=\"text-align: right;\">                 41</td><td>nott street     </td><td>tathra river est</td><td>middleton beach   </td><td style=\"text-align: right;\">          3137</td><td>nsw        </td><td style=\"text-align: right;\">        1.95607e+07</td><td style=\"text-align: right;\">     9.87395e+06</td><td style=\"text-align: right;\">           7</td></tr>\n",
       "<tr><td style=\"text-align: right;\">            8</td><td>nicholas         </td><td>procter       </td><td style=\"text-align: right;\">                   1</td><td>cavanaugh street</td><td>sherwood        </td><td>leeville           </td><td style=\"text-align: right;\">           2089</td><td>nsw         </td><td style=\"text-align: right;\">         1.90312e+07</td><td style=\"text-align: right;\">      2.66227e+06</td><td>nicholas        </td><td>procter      </td><td style=\"text-align: right;\">                  1</td><td>cavanaughlstreet</td><td>sherwood        </td><td>leevflle          </td><td style=\"text-align: right;\">          2089</td><td>nsw        </td><td style=\"text-align: right;\">        1.90312e+07</td><td style=\"text-align: right;\">     2.66227e+06</td><td style=\"text-align: right;\">           8</td></tr>\n",
       "<tr><td style=\"text-align: right;\">            9</td><td>paris            </td><td>reid          </td><td style=\"text-align: right;\">                  39</td><td>crowder circuit </td><td>nan             </td><td>st ives            </td><td style=\"text-align: right;\">           3225</td><td>vic         </td><td style=\"text-align: right;\">         1.99808e+07</td><td style=\"text-align: right;\">      2.55331e+06</td><td>paris           </td><td>reid         </td><td style=\"text-align: right;\">                 39</td><td>crowder circuit </td><td>nan             </td><td>st ives           </td><td style=\"text-align: right;\">          3225</td><td>vic        </td><td style=\"text-align: right;\">        1.99808e+07</td><td style=\"text-align: right;\">     2.54331e+06</td><td style=\"text-align: right;\">           9</td></tr>\n",
       "</tbody>\n",
       "</table>"
      ]
     },
     "metadata": {},
     "output_type": "display_data"
    },
    {
     "data": {
      "text/plain": []
     },
     "execution_count": 255,
     "metadata": {},
     "output_type": "execute_result"
    }
   ],
   "source": [
    "matching_hf.head()"
   ]
  },
  {
   "cell_type": "markdown",
   "metadata": {},
   "source": [
    "We now need to create our non-matching pairs.  We do not want to compare all possibilities - this will result in a very large frame.  Instead, we will randomly select 10% of the non-matching records to pair up.  In our case, this means that for every matching pair, there will be 500 non-matching pairs that have been randomly selected."
   ]
  },
  {
   "cell_type": "code",
   "execution_count": 256,
   "metadata": {},
   "outputs": [
    {
     "data": {
      "text/html": [
       "<div>\n",
       "<style scoped>\n",
       "    .dataframe tbody tr th:only-of-type {\n",
       "        vertical-align: middle;\n",
       "    }\n",
       "\n",
       "    .dataframe tbody tr th {\n",
       "        vertical-align: top;\n",
       "    }\n",
       "\n",
       "    .dataframe thead th {\n",
       "        text-align: right;\n",
       "    }\n",
       "</style>\n",
       "<table border=\"1\" class=\"dataframe\">\n",
       "  <thead>\n",
       "    <tr style=\"text-align: right;\">\n",
       "      <th></th>\n",
       "      <th>rec_id_orig</th>\n",
       "      <th>rec_id_dup</th>\n",
       "    </tr>\n",
       "  </thead>\n",
       "  <tbody>\n",
       "    <tr>\n",
       "      <th>0</th>\n",
       "      <td>0</td>\n",
       "      <td>3736</td>\n",
       "    </tr>\n",
       "    <tr>\n",
       "      <th>1</th>\n",
       "      <td>0</td>\n",
       "      <td>2441</td>\n",
       "    </tr>\n",
       "    <tr>\n",
       "      <th>2</th>\n",
       "      <td>0</td>\n",
       "      <td>1914</td>\n",
       "    </tr>\n",
       "    <tr>\n",
       "      <th>3</th>\n",
       "      <td>0</td>\n",
       "      <td>4528</td>\n",
       "    </tr>\n",
       "    <tr>\n",
       "      <th>4</th>\n",
       "      <td>0</td>\n",
       "      <td>525</td>\n",
       "    </tr>\n",
       "  </tbody>\n",
       "</table>\n",
       "</div>"
      ],
      "text/plain": [
       "   rec_id_orig  rec_id_dup\n",
       "0            0        3736\n",
       "1            0        2441\n",
       "2            0        1914\n",
       "3            0        4528\n",
       "4            0         525"
      ]
     },
     "execution_count": 256,
     "metadata": {},
     "output_type": "execute_result"
    }
   ],
   "source": [
    "# merge 10% of non-matches\n",
    "from random import sample \n",
    "non_match_count = round(orig_hf.nrow * 0.1)\n",
    "\n",
    "orig_ids = list(orig_hf[\"rec_id_orig\"].unique().as_data_frame().C1.values)\n",
    "dup_ids = list(dup_hf[\"rec_id_dup\"].unique().as_data_frame().C1.values)\n",
    "non_match_indices = [pd.DataFrame({'rec_id_orig': [i]*non_match_count, 'rec_id_dup': sample(dup_ids, non_match_count)}) \n",
    "                     for i in orig_ids]\n",
    "non_match_indices = pd.concat(non_match_indices)\n",
    "\n",
    "non_match_indices.head()"
   ]
  },
  {
   "cell_type": "code",
   "execution_count": 257,
   "metadata": {},
   "outputs": [
    {
     "name": "stdout",
     "output_type": "stream",
     "text": [
      "Parse progress: |█████████████████████████████████████████████████████████| 100%\n"
     ]
    }
   ],
   "source": [
    "non_match_indices_hf = h2o.H2OFrame(non_match_indices)\n",
    "non_matching_hf = non_match_indices_hf.merge(orig_hf, all_x = True)\n",
    "non_matching_hf = non_matching_hf.merge(dup_hf, all_x = True)\n",
    "non_matching_hf = non_matching_hf[non_matching_hf[\"rec_id_orig\"] < non_matching_hf[\"rec_id_dup\"]]"
   ]
  },
  {
   "cell_type": "markdown",
   "metadata": {},
   "source": [
    "Now we combine our matching and non-matching pairs and add our `is_match` column."
   ]
  },
  {
   "cell_type": "code",
   "execution_count": 258,
   "metadata": {},
   "outputs": [],
   "source": [
    "model_hf = matching_hf.rbind(non_matching_hf[matching_hf.col_names])\n",
    "model_hf[\"is_match\"] = (model_hf[\"rec_id_orig\"] == model_hf[\"rec_id_dup\"]).asfactor()"
   ]
  },
  {
   "cell_type": "code",
   "execution_count": 269,
   "metadata": {},
   "outputs": [
    {
     "data": {
      "text/html": [
       "<table>\n",
       "<thead>\n",
       "<tr><th style=\"text-align: right;\">  rec_id_orig</th><th>given_name_orig  </th><th>surname_orig  </th><th style=\"text-align: right;\">  street_number_orig</th><th>address_1_orig  </th><th>address_2_orig  </th><th>suburb_orig        </th><th style=\"text-align: right;\">  postcode_orig</th><th>state_orig  </th><th style=\"text-align: right;\">  date_of_birth_orig</th><th style=\"text-align: right;\">  soc_sec_id_orig</th><th>given_name_dup  </th><th>surname_dup  </th><th style=\"text-align: right;\">  street_number_dup</th><th>address_1_dup   </th><th>address_2_dup   </th><th>suburb_dup        </th><th style=\"text-align: right;\">  postcode_dup</th><th>state_dup  </th><th style=\"text-align: right;\">  date_of_birth_dup</th><th style=\"text-align: right;\">  soc_sec_id_dup</th><th style=\"text-align: right;\">  rec_id_dup</th><th style=\"text-align: right;\">  is_match</th><th style=\"text-align: right;\">  given_name_jw</th><th style=\"text-align: right;\">  surname_jw</th><th style=\"text-align: right;\">  address_1_jw</th><th style=\"text-align: right;\">  address_2_jw</th><th style=\"text-align: right;\">  suburb_jw</th><th style=\"text-align: right;\">  state_jw</th></tr>\n",
       "</thead>\n",
       "<tbody>\n",
       "<tr><td style=\"text-align: right;\">            0</td><td>rachael          </td><td>dent          </td><td style=\"text-align: right;\">                   1</td><td>knox street     </td><td>lakewood estate </td><td>byford             </td><td style=\"text-align: right;\">           4129</td><td>vic         </td><td style=\"text-align: right;\">         1.92807e+07</td><td style=\"text-align: right;\">      1.68399e+06</td><td>rachael         </td><td>dent         </td><td style=\"text-align: right;\">                  4</td><td>knox street     </td><td>lakewood estate </td><td>byford            </td><td style=\"text-align: right;\">          4129</td><td>vic        </td><td style=\"text-align: right;\">        1.92807e+07</td><td style=\"text-align: right;\">     1.68399e+06</td><td style=\"text-align: right;\">           0</td><td style=\"text-align: right;\">         1</td><td style=\"text-align: right;\">       1       </td><td style=\"text-align: right;\">    1       </td><td style=\"text-align: right;\">      1       </td><td style=\"text-align: right;\">             1</td><td style=\"text-align: right;\">   1       </td><td style=\"text-align: right;\">         1</td></tr>\n",
       "<tr><td style=\"text-align: right;\">            1</td><td>isabella         </td><td>everett       </td><td style=\"text-align: right;\">                  25</td><td>pike place      </td><td>rowethorpe      </td><td>marsden            </td><td style=\"text-align: right;\">           2152</td><td>nsw         </td><td style=\"text-align: right;\">         1.91108e+07</td><td style=\"text-align: right;\">      6.65313e+06</td><td>isabella        </td><td>everett      </td><td style=\"text-align: right;\">                 25</td><td>pike mlace      </td><td>rowethorpe      </td><td>marsden           </td><td style=\"text-align: right;\">          2152</td><td>nsw        </td><td style=\"text-align: right;\">        1.91108e+07</td><td style=\"text-align: right;\">     6.65313e+06</td><td style=\"text-align: right;\">           1</td><td style=\"text-align: right;\">         1</td><td style=\"text-align: right;\">       1       </td><td style=\"text-align: right;\">    1       </td><td style=\"text-align: right;\">      0.96    </td><td style=\"text-align: right;\">             1</td><td style=\"text-align: right;\">   1       </td><td style=\"text-align: right;\">         1</td></tr>\n",
       "<tr><td style=\"text-align: right;\">            2</td><td>olivia           </td><td>trigwell      </td><td style=\"text-align: right;\">                  13</td><td>waldock street  </td><td>wilpena         </td><td>new lambton heights</td><td style=\"text-align: right;\">           3194</td><td>vic         </td><td style=\"text-align: right;\">         1.95711e+07</td><td style=\"text-align: right;\">      9.99175e+06</td><td>olivia          </td><td>trigwell     </td><td style=\"text-align: right;\">                 13</td><td>waldock street  </td><td>wilpena         </td><td>newlambto nheights</td><td style=\"text-align: right;\">          3194</td><td>vic        </td><td style=\"text-align: right;\">        1.95711e+07</td><td style=\"text-align: right;\">     9.99175e+06</td><td style=\"text-align: right;\">           2</td><td style=\"text-align: right;\">         1</td><td style=\"text-align: right;\">       1       </td><td style=\"text-align: right;\">    1       </td><td style=\"text-align: right;\">      1       </td><td style=\"text-align: right;\">             1</td><td style=\"text-align: right;\">   0.974756</td><td style=\"text-align: right;\">         1</td></tr>\n",
       "<tr><td style=\"text-align: right;\">            3</td><td>reeve            </td><td>stanley       </td><td style=\"text-align: right;\">                   4</td><td>alawa street    </td><td>rowethorpe d1   </td><td>mourilyan          </td><td style=\"text-align: right;\">           2474</td><td>sa          </td><td style=\"text-align: right;\">         1.91908e+07</td><td style=\"text-align: right;\">      5.96167e+06</td><td>reeve           </td><td>stanlhy      </td><td style=\"text-align: right;\">                  4</td><td>alawa street    </td><td>rowethorpe d1   </td><td>mourilyan         </td><td style=\"text-align: right;\">          2474</td><td>sa         </td><td style=\"text-align: right;\">        1.91908e+07</td><td style=\"text-align: right;\">     5.96167e+06</td><td style=\"text-align: right;\">           3</td><td style=\"text-align: right;\">         1</td><td style=\"text-align: right;\">       1       </td><td style=\"text-align: right;\">    0.942857</td><td style=\"text-align: right;\">      1       </td><td style=\"text-align: right;\">             1</td><td style=\"text-align: right;\">   1       </td><td style=\"text-align: right;\">         1</td></tr>\n",
       "<tr><td style=\"text-align: right;\">            4</td><td>jayde            </td><td>crouch        </td><td style=\"text-align: right;\">                  42</td><td>weston street   </td><td>waimaru         </td><td>niagara park       </td><td style=\"text-align: right;\">           2119</td><td>wa          </td><td style=\"text-align: right;\">         1.92504e+07</td><td style=\"text-align: right;\">      8.8927e+06 </td><td>ja yde          </td><td>crouch       </td><td style=\"text-align: right;\">                 42</td><td>westo atreet    </td><td>waimaru         </td><td>niagara park      </td><td style=\"text-align: right;\">          2119</td><td>wa         </td><td style=\"text-align: right;\">        1.92504e+07</td><td style=\"text-align: right;\">     8.8927e+06 </td><td style=\"text-align: right;\">           4</td><td style=\"text-align: right;\">         1</td><td style=\"text-align: right;\">       0.955556</td><td style=\"text-align: right;\">    1       </td><td style=\"text-align: right;\">      0.952564</td><td style=\"text-align: right;\">             1</td><td style=\"text-align: right;\">   1       </td><td style=\"text-align: right;\">         1</td></tr>\n",
       "<tr><td style=\"text-align: right;\">            5</td><td>josephine        </td><td>yu            </td><td style=\"text-align: right;\">                 145</td><td>hensman street  </td><td>lambar          </td><td>burwood            </td><td style=\"text-align: right;\">           6164</td><td>wa          </td><td style=\"text-align: right;\">         1.91109e+07</td><td style=\"text-align: right;\">      5.79234e+06</td><td>josephine       </td><td>yu           </td><td style=\"text-align: right;\">                145</td><td>hensman street  </td><td>lambar          </td><td>burwood           </td><td style=\"text-align: right;\">          6164</td><td>wa         </td><td style=\"text-align: right;\">        1.93109e+07</td><td style=\"text-align: right;\">     5.79234e+06</td><td style=\"text-align: right;\">           5</td><td style=\"text-align: right;\">         1</td><td style=\"text-align: right;\">       1       </td><td style=\"text-align: right;\">    1       </td><td style=\"text-align: right;\">      1       </td><td style=\"text-align: right;\">             1</td><td style=\"text-align: right;\">   1       </td><td style=\"text-align: right;\">         1</td></tr>\n",
       "<tr><td style=\"text-align: right;\">            6</td><td>holly            </td><td>petersen      </td><td style=\"text-align: right;\">                  13</td><td>marou place     </td><td>never die       </td><td>birkdale           </td><td style=\"text-align: right;\">           6530</td><td>nsw         </td><td style=\"text-align: right;\">         1.92712e+07</td><td style=\"text-align: right;\">      9.50079e+06</td><td>holy            </td><td>petersen     </td><td style=\"text-align: right;\">                 13</td><td>marou place     </td><td>never die       </td><td>birkdale          </td><td style=\"text-align: right;\">          6530</td><td>nsw        </td><td style=\"text-align: right;\">        1.92712e+07</td><td style=\"text-align: right;\">     9.50079e+06</td><td style=\"text-align: right;\">           6</td><td style=\"text-align: right;\">         1</td><td style=\"text-align: right;\">       0.953333</td><td style=\"text-align: right;\">    1       </td><td style=\"text-align: right;\">      1       </td><td style=\"text-align: right;\">             1</td><td style=\"text-align: right;\">   1       </td><td style=\"text-align: right;\">         1</td></tr>\n",
       "<tr><td style=\"text-align: right;\">            7</td><td>jasmine          </td><td>silvestro     </td><td style=\"text-align: right;\">                  41</td><td>nott street     </td><td>tathra river est</td><td>middleton beach    </td><td style=\"text-align: right;\">           3173</td><td>nsw         </td><td style=\"text-align: right;\">         1.95607e+07</td><td style=\"text-align: right;\">      9.87395e+06</td><td>angus           </td><td>silvestro    </td><td style=\"text-align: right;\">                 41</td><td>nott street     </td><td>tathra river est</td><td>middleton beach   </td><td style=\"text-align: right;\">          3137</td><td>nsw        </td><td style=\"text-align: right;\">        1.95607e+07</td><td style=\"text-align: right;\">     9.87395e+06</td><td style=\"text-align: right;\">           7</td><td style=\"text-align: right;\">         1</td><td style=\"text-align: right;\">       0.561905</td><td style=\"text-align: right;\">    1       </td><td style=\"text-align: right;\">      1       </td><td style=\"text-align: right;\">             1</td><td style=\"text-align: right;\">   1       </td><td style=\"text-align: right;\">         1</td></tr>\n",
       "<tr><td style=\"text-align: right;\">            8</td><td>nicholas         </td><td>procter       </td><td style=\"text-align: right;\">                   1</td><td>cavanaugh street</td><td>sherwood        </td><td>leeville           </td><td style=\"text-align: right;\">           2089</td><td>nsw         </td><td style=\"text-align: right;\">         1.90312e+07</td><td style=\"text-align: right;\">      2.66227e+06</td><td>nicholas        </td><td>procter      </td><td style=\"text-align: right;\">                  1</td><td>cavanaughlstreet</td><td>sherwood        </td><td>leevflle          </td><td style=\"text-align: right;\">          2089</td><td>nsw        </td><td style=\"text-align: right;\">        1.90312e+07</td><td style=\"text-align: right;\">     2.66227e+06</td><td style=\"text-align: right;\">           8</td><td style=\"text-align: right;\">         1</td><td style=\"text-align: right;\">       1       </td><td style=\"text-align: right;\">    1       </td><td style=\"text-align: right;\">      0.975   </td><td style=\"text-align: right;\">             1</td><td style=\"text-align: right;\">   0.95    </td><td style=\"text-align: right;\">         1</td></tr>\n",
       "<tr><td style=\"text-align: right;\">            9</td><td>paris            </td><td>reid          </td><td style=\"text-align: right;\">                  39</td><td>crowder circuit </td><td>nan             </td><td>st ives            </td><td style=\"text-align: right;\">           3225</td><td>vic         </td><td style=\"text-align: right;\">         1.99808e+07</td><td style=\"text-align: right;\">      2.55331e+06</td><td>paris           </td><td>reid         </td><td style=\"text-align: right;\">                 39</td><td>crowder circuit </td><td>nan             </td><td>st ives           </td><td style=\"text-align: right;\">          3225</td><td>vic        </td><td style=\"text-align: right;\">        1.99808e+07</td><td style=\"text-align: right;\">     2.54331e+06</td><td style=\"text-align: right;\">           9</td><td style=\"text-align: right;\">         1</td><td style=\"text-align: right;\">       1       </td><td style=\"text-align: right;\">    1       </td><td style=\"text-align: right;\">      1       </td><td style=\"text-align: right;\">             1</td><td style=\"text-align: right;\">   1       </td><td style=\"text-align: right;\">         1</td></tr>\n",
       "</tbody>\n",
       "</table>"
      ]
     },
     "metadata": {},
     "output_type": "display_data"
    },
    {
     "data": {
      "text/plain": []
     },
     "execution_count": 269,
     "metadata": {},
     "output_type": "execute_result"
    }
   ],
   "source": [
    "model_hf.head()"
   ]
  },
  {
   "cell_type": "code",
   "execution_count": 259,
   "metadata": {},
   "outputs": [
    {
     "data": {
      "text/html": [
       "<table>\n",
       "<thead>\n",
       "<tr><th style=\"text-align: right;\">  is_match</th><th style=\"text-align: right;\">        Count</th></tr>\n",
       "</thead>\n",
       "<tbody>\n",
       "<tr><td style=\"text-align: right;\">         0</td><td style=\"text-align: right;\">   1.2487e+06</td></tr>\n",
       "<tr><td style=\"text-align: right;\">         1</td><td style=\"text-align: right;\">5000         </td></tr>\n",
       "</tbody>\n",
       "</table>"
      ]
     },
     "metadata": {},
     "output_type": "display_data"
    },
    {
     "data": {
      "text/plain": []
     },
     "execution_count": 259,
     "metadata": {},
     "output_type": "execute_result"
    }
   ],
   "source": [
    "model_hf[\"is_match\"].table()"
   ]
  },
  {
   "cell_type": "markdown",
   "metadata": {},
   "source": [
    "\n",
    "## Step 2: Calculating String Distances\n",
    "\n",
    "Now that we have our pairs data, we will calculate the distances between the attributes.  We will calculate the string distances using the JaroWinkler edit distance."
   ]
  },
  {
   "cell_type": "code",
   "execution_count": 260,
   "metadata": {},
   "outputs": [],
   "source": [
    "str_cols = [\"given_name\", \"surname\", \"address_1\", \"address_2\", \"suburb\", \"state\"]\n",
    "\n",
    "jw_dist = model_hf[[\"{}_orig\".format(i) for i in str_cols]].strdistance(model_hf[[\"{}_dup\".format(i) for i in str_cols]], measure = \"jw\")\n",
    "jw_dist.col_names = [\"{}_jw\".format(i) for i in str_cols]\n",
    "\n",
    "model_hf = model_hf.cbind(jw_dist)"
   ]
  },
  {
   "cell_type": "code",
   "execution_count": 261,
   "metadata": {},
   "outputs": [
    {
     "data": {
      "text/html": [
       "<table>\n",
       "<thead>\n",
       "<tr><th>given_name_orig  </th><th>given_name_dup  </th><th style=\"text-align: right;\">  given_name_jw</th></tr>\n",
       "</thead>\n",
       "<tbody>\n",
       "<tr><td>rachael          </td><td>rachael         </td><td style=\"text-align: right;\">       1       </td></tr>\n",
       "<tr><td>isabella         </td><td>isabella        </td><td style=\"text-align: right;\">       1       </td></tr>\n",
       "<tr><td>olivia           </td><td>olivia          </td><td style=\"text-align: right;\">       1       </td></tr>\n",
       "<tr><td>reeve            </td><td>reeve           </td><td style=\"text-align: right;\">       1       </td></tr>\n",
       "<tr><td>jayde            </td><td>ja yde          </td><td style=\"text-align: right;\">       0.955556</td></tr>\n",
       "<tr><td>josephine        </td><td>josephine       </td><td style=\"text-align: right;\">       1       </td></tr>\n",
       "<tr><td>holly            </td><td>holy            </td><td style=\"text-align: right;\">       0.953333</td></tr>\n",
       "<tr><td>jasmine          </td><td>angus           </td><td style=\"text-align: right;\">       0.561905</td></tr>\n",
       "<tr><td>nicholas         </td><td>nicholas        </td><td style=\"text-align: right;\">       1       </td></tr>\n",
       "<tr><td>paris            </td><td>paris           </td><td style=\"text-align: right;\">       1       </td></tr>\n",
       "</tbody>\n",
       "</table>"
      ]
     },
     "metadata": {},
     "output_type": "display_data"
    },
    {
     "data": {
      "text/plain": []
     },
     "execution_count": 261,
     "metadata": {},
     "output_type": "execute_result"
    }
   ],
   "source": [
    "model_hf[[\"given_name_orig\", \"given_name_dup\", \"given_name_jw\"]].head()"
   ]
  },
  {
   "cell_type": "markdown",
   "metadata": {},
   "source": [
    "## Step 3: Build Machine Learning Models\n",
    "\n",
    "Now that we have our string distances, we can build a model to predict `is_match`. \n",
    "\n",
    "We will begin by splitting our data by the original record id. This means that the test data will not consist of any original records shown in the training dataset."
   ]
  },
  {
   "cell_type": "code",
   "execution_count": 262,
   "metadata": {},
   "outputs": [],
   "source": [
    "# Split data into training and testing by unique rec_id_orig\n",
    "train = model_hf[model_hf[\"rec_id_orig\"] <= 3750, :]\n",
    "test = model_hf[model_hf[\"rec_id_dup\"] > 3750, :]"
   ]
  },
  {
   "cell_type": "code",
   "execution_count": 263,
   "metadata": {},
   "outputs": [],
   "source": [
    "predictors = jw_dist.col_names\n",
    "response = \"is_match\""
   ]
  },
  {
   "cell_type": "markdown",
   "metadata": {},
   "source": [
    "We use H2O-3's AutoML to search the algorithm and parameter space."
   ]
  },
  {
   "cell_type": "code",
   "execution_count": 268,
   "metadata": {},
   "outputs": [
    {
     "name": "stdout",
     "output_type": "stream",
     "text": [
      "AutoML progress: |████████████████████████████████████████████████████████| 100%\n"
     ]
    }
   ],
   "source": [
    "from h2o.automl import H2OAutoML\n",
    "\n",
    "automl = H2OAutoML(seed=1234,\n",
    "                   max_models=5 # only run 5 models for demo purposes\n",
    "                  )\n",
    "automl.train(y=response, x=predictors, training_frame=train, leaderboard_frame=test)"
   ]
  },
  {
   "cell_type": "code",
   "execution_count": 270,
   "metadata": {},
   "outputs": [
    {
     "data": {
      "text/html": [
       "<table>\n",
       "<thead>\n",
       "<tr><th>model_id                                           </th><th style=\"text-align: right;\">     auc</th><th style=\"text-align: right;\">    logloss</th><th style=\"text-align: right;\">   aucpr</th><th style=\"text-align: right;\">  mean_per_class_error</th><th style=\"text-align: right;\">      rmse</th><th style=\"text-align: right;\">        mse</th></tr>\n",
       "</thead>\n",
       "<tbody>\n",
       "<tr><td>XGBoost_2_AutoML_20200921_211508                   </td><td style=\"text-align: right;\">0.999993</td><td style=\"text-align: right;\">0.00013396 </td><td style=\"text-align: right;\">0.998608</td><td style=\"text-align: right;\">            0.00440994</td><td style=\"text-align: right;\">0.00536296</td><td style=\"text-align: right;\">2.87613e-05</td></tr>\n",
       "<tr><td>XGBoost_1_AutoML_20200921_211508                   </td><td style=\"text-align: right;\">0.999988</td><td style=\"text-align: right;\">0.000143596</td><td style=\"text-align: right;\">0.998239</td><td style=\"text-align: right;\">            0.00560632</td><td style=\"text-align: right;\">0.00527494</td><td style=\"text-align: right;\">2.78249e-05</td></tr>\n",
       "<tr><td>StackedEnsemble_AllModels_AutoML_20200921_211508   </td><td style=\"text-align: right;\">0.999982</td><td style=\"text-align: right;\">0.000230711</td><td style=\"text-align: right;\">0.998223</td><td style=\"text-align: right;\">            0.00400687</td><td style=\"text-align: right;\">0.00498066</td><td style=\"text-align: right;\">2.4807e-05 </td></tr>\n",
       "<tr><td>StackedEnsemble_BestOfFamily_AutoML_20200921_211508</td><td style=\"text-align: right;\">0.999982</td><td style=\"text-align: right;\">0.000250168</td><td style=\"text-align: right;\">0.998168</td><td style=\"text-align: right;\">            0.00400778</td><td style=\"text-align: right;\">0.00539656</td><td style=\"text-align: right;\">2.91229e-05</td></tr>\n",
       "<tr><td>XGBoost_3_AutoML_20200921_211508                   </td><td style=\"text-align: right;\">0.999981</td><td style=\"text-align: right;\">0.000123187</td><td style=\"text-align: right;\">0.998625</td><td style=\"text-align: right;\">            0.00400595</td><td style=\"text-align: right;\">0.00488688</td><td style=\"text-align: right;\">2.38816e-05</td></tr>\n",
       "<tr><td>GLM_1_AutoML_20200921_211508                       </td><td style=\"text-align: right;\">0.999773</td><td style=\"text-align: right;\">0.0004538  </td><td style=\"text-align: right;\">0.991616</td><td style=\"text-align: right;\">            0.0144408 </td><td style=\"text-align: right;\">0.00979893</td><td style=\"text-align: right;\">9.60191e-05</td></tr>\n",
       "<tr><td>DRF_1_AutoML_20200921_211508                       </td><td style=\"text-align: right;\">0.998789</td><td style=\"text-align: right;\">0.000227962</td><td style=\"text-align: right;\">0.996032</td><td style=\"text-align: right;\">            0.00400412</td><td style=\"text-align: right;\">0.00503093</td><td style=\"text-align: right;\">2.53102e-05</td></tr>\n",
       "</tbody>\n",
       "</table>"
      ]
     },
     "metadata": {},
     "output_type": "display_data"
    },
    {
     "data": {
      "text/plain": []
     },
     "execution_count": 270,
     "metadata": {},
     "output_type": "execute_result"
    }
   ],
   "source": [
    "automl.leaderboard"
   ]
  },
  {
   "cell_type": "markdown",
   "metadata": {},
   "source": [
    "Our best model is an XGBoost model. We can see from the confusion matrix that it has very low error in predicting matches."
   ]
  },
  {
   "cell_type": "code",
   "execution_count": 271,
   "metadata": {},
   "outputs": [],
   "source": [
    "xgb = automl.leader"
   ]
  },
  {
   "cell_type": "code",
   "execution_count": 274,
   "metadata": {},
   "outputs": [
    {
     "name": "stdout",
     "output_type": "stream",
     "text": [
      "\n",
      "Confusion Matrix (Act/Pred) for max f1 @ threshold = 0.5371371507644653: \n"
     ]
    },
    {
     "data": {
      "text/html": [
       "<div>\n",
       "<style scoped>\n",
       "    .dataframe tbody tr th:only-of-type {\n",
       "        vertical-align: middle;\n",
       "    }\n",
       "\n",
       "    .dataframe tbody tr th {\n",
       "        vertical-align: top;\n",
       "    }\n",
       "\n",
       "    .dataframe thead th {\n",
       "        text-align: right;\n",
       "    }\n",
       "</style>\n",
       "<table border=\"1\" class=\"dataframe\">\n",
       "  <thead>\n",
       "    <tr style=\"text-align: right;\">\n",
       "      <th></th>\n",
       "      <th></th>\n",
       "      <th>0</th>\n",
       "      <th>1</th>\n",
       "      <th>Error</th>\n",
       "      <th>Rate</th>\n",
       "    </tr>\n",
       "  </thead>\n",
       "  <tbody>\n",
       "    <tr>\n",
       "      <th>0</th>\n",
       "      <td>0</td>\n",
       "      <td>545814.0</td>\n",
       "      <td>7.0</td>\n",
       "      <td>0.0</td>\n",
       "      <td>(7.0/545821.0)</td>\n",
       "    </tr>\n",
       "    <tr>\n",
       "      <th>1</th>\n",
       "      <td>1</td>\n",
       "      <td>11.0</td>\n",
       "      <td>1238.0</td>\n",
       "      <td>0.0088</td>\n",
       "      <td>(11.0/1249.0)</td>\n",
       "    </tr>\n",
       "    <tr>\n",
       "      <th>2</th>\n",
       "      <td>Total</td>\n",
       "      <td>545825.0</td>\n",
       "      <td>1245.0</td>\n",
       "      <td>0.0</td>\n",
       "      <td>(18.0/547070.0)</td>\n",
       "    </tr>\n",
       "  </tbody>\n",
       "</table>\n",
       "</div>"
      ],
      "text/plain": [
       "                 0       1   Error              Rate\n",
       "0      0  545814.0     7.0     0.0    (7.0/545821.0)\n",
       "1      1      11.0  1238.0  0.0088     (11.0/1249.0)\n",
       "2  Total  545825.0  1245.0     0.0   (18.0/547070.0)"
      ]
     },
     "metadata": {},
     "output_type": "display_data"
    },
    {
     "data": {
      "text/plain": []
     },
     "execution_count": 274,
     "metadata": {},
     "output_type": "execute_result"
    }
   ],
   "source": [
    "xgb.model_performance(test).confusion_matrix()"
   ]
  },
  {
   "cell_type": "code",
   "execution_count": 272,
   "metadata": {},
   "outputs": [
    {
     "data": {
      "image/png": "[encoded data removed]",
      "text/plain": [
       "<Figure size 1008x720 with 1 Axes>"
      ]
     },
     "metadata": {
      "needs_background": "light"
     },
     "output_type": "display_data"
    }
   ],
   "source": [
    "%matplotlib inline\n",
    "xgb.varimp_plot()"
   ]
  },
  {
   "cell_type": "markdown",
   "metadata": {},
   "source": [
    "We can see from the partial dependence plots that the greater the similarity between these attributes, the more likely the two people are the same."
   ]
  },
  {
   "cell_type": "code",
   "execution_count": 277,
   "metadata": {},
   "outputs": [
    {
     "name": "stdout",
     "output_type": "stream",
     "text": [
      "PartialDependencePlot progress: |█████████████████████████████████████████| 100%\n",
      "PartialDependencePlot progress: |█████████████████████████████████████████| 100%\n",
      "PartialDependencePlot progress: |█████████████████████████████████████████| 100%\n"
     ]
    },
    {
     "data": {
      "image/png": "[encoded data removed]",
      "text/plain": [
       "<Figure size 360x360 with 1 Axes>"
      ]
     },
     "metadata": {
      "needs_background": "light"
     },
     "output_type": "display_data"
    },
    {
     "data": {
      "image/png": "[encoded data removed]",
      "text/plain": [
       "<Figure size 360x360 with 1 Axes>"
      ]
     },
     "metadata": {
      "needs_background": "light"
     },
     "output_type": "display_data"
    },
    {
     "data": {
      "image/png": "[encoded data removed]",
      "text/plain": [
       "<Figure size 360x360 with 1 Axes>"
      ]
     },
     "metadata": {
      "needs_background": "light"
     },
     "output_type": "display_data"
    }
   ],
   "source": [
    "xgb.partial_plot(train, cols=[\"suburb_jw\"], figsize=(5,5));\n",
    "xgb.partial_plot(train, cols=[\"address_1_jw\"], figsize=(5,5));\n",
    "xgb.partial_plot(train, cols=[\"given_name_jw\"], figsize=(5,5));"
   ]
  },
  {
   "cell_type": "markdown",
   "metadata": {},
   "source": [
    "## Step 4: Predict Matches\n",
    "\n",
    "Now that we have built and selected our matching model, we can use it to determine which two people are matches."
   ]
  },
  {
   "cell_type": "code",
   "execution_count": 340,
   "metadata": {},
   "outputs": [],
   "source": [
    "def predict_match(model, orig_record, data, str_cols, threshold=0.5):\n",
    "    \n",
    "    # create pairs of data\n",
    "    orig_record.col_names = [\"{}_orig\".format(i) for i in orig_record.col_names]\n",
    "    orig_record[\"merge_col\"] = 1\n",
    "    \n",
    "    data = h2o.deep_copy(data, xid=\"original_data_copy\")\n",
    "    data.col_names = [\"{}_dup\".format(i) for i in data.col_names]\n",
    "    data[\"merge_col\"] = 1\n",
    "    \n",
    "    matching_data = orig_record.merge(data, all_y=True)\n",
    "    \n",
    "    # calculate string distances\n",
    "    jw_dist = matching_data[[\"{}_orig\".format(i) for i in str_cols]].strdistance(matching_data[[\"{}_dup\".format(i) for i in str_cols]], measure = \"jw\")\n",
    "    jw_dist.col_names = [\"{}_jw\".format(i) for i in str_cols]\n",
    "    matching_data = matching_data.cbind(jw_dist)\n",
    "    \n",
    "    preds = model.predict(matching_data)\n",
    "    matches = matching_data[preds[\"p1\"] > threshold, data.col_names]\n",
    "    \n",
    "    return matches\n",
    "    \n",
    "    "
   ]
  },
  {
   "cell_type": "code",
   "execution_count": 333,
   "metadata": {},
   "outputs": [
    {
     "name": "stdout",
     "output_type": "stream",
     "text": [
      "Parse progress: |█████████████████████████████████████████████████████████| 100%\n",
      "Parse progress: |█████████████████████████████████████████████████████████| 100%\n"
     ]
    }
   ],
   "source": [
    "full_data = h2o.H2OFrame(orig).rbind(h2o.H2OFrame(dup))"
   ]
  },
  {
   "cell_type": "markdown",
   "metadata": {},
   "source": [
    "We ask H2O who matches our first record:"
   ]
  },
  {
   "cell_type": "code",
   "execution_count": 335,
   "metadata": {},
   "outputs": [
    {
     "data": {
      "text/html": [
       "<table>\n",
       "<thead>\n",
       "<tr><th style=\"text-align: right;\">  rec_id</th><th>given_name  </th><th>surname  </th><th style=\"text-align: right;\">  street_number</th><th>address_1     </th><th>address_2  </th><th>suburb       </th><th style=\"text-align: right;\">  postcode</th><th>state  </th><th style=\"text-align: right;\">  date_of_birth</th><th style=\"text-align: right;\">  soc_sec_id</th></tr>\n",
       "</thead>\n",
       "<tbody>\n",
       "<tr><td style=\"text-align: right;\">    1070</td><td>michaela    </td><td>neumann  </td><td style=\"text-align: right;\">              8</td><td>stanley street</td><td>miami      </td><td>winston hills</td><td style=\"text-align: right;\">      4223</td><td>nsw    </td><td style=\"text-align: right;\">    1.91511e+07</td><td style=\"text-align: right;\"> 5.30422e+06</td></tr>\n",
       "</tbody>\n",
       "</table>"
      ]
     },
     "metadata": {},
     "output_type": "display_data"
    },
    {
     "data": {
      "text/plain": []
     },
     "execution_count": 335,
     "metadata": {},
     "output_type": "execute_result"
    }
   ],
   "source": [
    "full_data[0, :]"
   ]
  },
  {
   "cell_type": "markdown",
   "metadata": {},
   "source": [
    "Our model returns two matches.  From the record id, we can see that they are both actual matches.  "
   ]
  },
  {
   "cell_type": "code",
   "execution_count": 341,
   "metadata": {},
   "outputs": [
    {
     "name": "stdout",
     "output_type": "stream",
     "text": [
      "xgboost prediction progress: |████████████████████████████████████████████| 100%\n"
     ]
    },
    {
     "data": {
      "text/html": [
       "<table>\n",
       "<thead>\n",
       "<tr><th style=\"text-align: right;\">  rec_id_dup</th><th>given_name_dup  </th><th>surname_dup  </th><th style=\"text-align: right;\">  street_number_dup</th><th>address_1_dup  </th><th>address_2_dup  </th><th>suburb_dup   </th><th style=\"text-align: right;\">  postcode_dup</th><th>state_dup  </th><th style=\"text-align: right;\">  date_of_birth_dup</th><th style=\"text-align: right;\">  soc_sec_id_dup</th><th style=\"text-align: right;\">  merge_col</th></tr>\n",
       "</thead>\n",
       "<tbody>\n",
       "<tr><td style=\"text-align: right;\">        1070</td><td>michaela        </td><td>neumann      </td><td style=\"text-align: right;\">                  8</td><td>stanley street </td><td>miami          </td><td>winston hills</td><td style=\"text-align: right;\">          4223</td><td>nsw        </td><td style=\"text-align: right;\">        1.91511e+07</td><td style=\"text-align: right;\">     5.30422e+06</td><td style=\"text-align: right;\">          1</td></tr>\n",
       "<tr><td style=\"text-align: right;\">        1070</td><td>michafla        </td><td>jakimow      </td><td style=\"text-align: right;\">                  8</td><td>stanleykstreet </td><td>miami          </td><td>winstonbhills</td><td style=\"text-align: right;\">          4223</td><td>nan        </td><td style=\"text-align: right;\">        1.91511e+07</td><td style=\"text-align: right;\">     5.30422e+06</td><td style=\"text-align: right;\">          1</td></tr>\n",
       "</tbody>\n",
       "</table>"
      ]
     },
     "metadata": {},
     "output_type": "display_data"
    },
    {
     "data": {
      "text/plain": []
     },
     "execution_count": 341,
     "metadata": {},
     "output_type": "execute_result"
    }
   ],
   "source": [
    "predict_match(xgb, full_data[0, :], full_data, str_cols)"
   ]
  },
  {
   "cell_type": "code",
   "execution_count": 343,
   "metadata": {},
   "outputs": [
    {
     "name": "stdout",
     "output_type": "stream",
     "text": [
      "H2O session _sid_ad03 closed.\n"
     ]
    }
   ],
   "source": [
    "h2o.cluster().shutdown()"
   ]
  },
  {
   "cell_type": "code",
   "execution_count": null,
   "metadata": {},
   "outputs": [],
   "source": []
  }
 ],
 "metadata": {
  "kernelspec": {
   "display_name": "Python 3",
   "language": "python",
   "name": "python3"
  },
  "language_info": {
   "codemirror_mode": {
    "name": "ipython",
    "version": 3
   },
   "file_extension": ".py",
   "mimetype": "text/x-python",
   "name": "python",
   "nbconvert_exporter": "python",
   "pygments_lexer": "ipython3",
   "version": "3.6.8"
  }
 },
 "nbformat": 4,
 "nbformat_minor": 4
}
