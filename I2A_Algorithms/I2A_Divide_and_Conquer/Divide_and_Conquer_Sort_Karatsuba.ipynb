{
 "cells": [
  {
   "cell_type": "markdown",
   "id": "02961d69",
   "metadata": {},
   "source": [
    "#Divide and Conquer\n",
    "\n",
    "###What is Divide and Conquer?\n",
    "Divide and Conquer is a recursive problem-solving approach which break a problem into smaller subproblems, recursively solve the subproblems, and finally combines the solutions to the subproblems to solve the original problem. In computer science, divide and conquer is an algorithm design paradigm based on multi-branched recursion. This method usually allows us to reduce the time complexity to a large extent\n",
    "\n",
    "###Phases of Divide and Conquer\n",
    "###It consists of three phases:\n",
    "- **Divide**: Dividing the problem into two or more than two sub-problems that are similar to the original problem but smaller in size.\n",
    "- **Conquer**: Solve the sub-problems recursively.\n",
    "- **Combine**: Combine these solutions to subproblems to create a solution to the original problem.\n",
    "\n"
   ]
  },
  {
   "cell_type": "markdown",
   "id": "e34640ad",
   "metadata": {},
   "source": [
    "###Divide and Conquer technique has certain applications which are given below\n",
    "- **Merge Sort**\n",
    "- **Quick Sort**\n",
    "- **Karatsuba Multiplication**"
   ]
  },
  {
   "cell_type": "markdown",
   "id": "eea5763e",
   "metadata": {},
   "source": [
    "#Merge Sort"
   ]
  },
  {
   "cell_type": "markdown",
   "id": "9c9a6513",
   "metadata": {},
   "source": [
    "In computer science, merge sort (also commonly spelled mergesort) is an efficient, general-purpose, comparison-based sorting algorithm. Most implementations produce a stable sort, which means that the order of equal elements is the same in the input and output. Merge sort is a divide and conquer algorithm that was invented by John von Neumann in 1945\n",
    "Time complexity of Merge Sort is $ \\Theta(nlog n)$"
   ]
  },
  {
   "cell_type": "markdown",
   "id": "7a32395e",
   "metadata": {},
   "source": [
    "\n",
    "\n",
    "Following a visual representation of the divide and conquer applied for sorting numbers. This algorithm is known as merge sort:\n",
    "\n",
    "\n",
    "<img src=\"https://upload.wikimedia.org/wikipedia/commons/thumb/e/e6/Merge_sort_algorithm_diagram.svg/2560px-Merge_sort_algorithm_diagram.svg.png\" width=\"480\">\n"
   ]
  },
  {
   "cell_type": "markdown",
   "id": "2297a407",
   "metadata": {},
   "source": [
    "Here's a step-by-step description for merge sort:\n",
    "\n",
    "- If the input list is empty or contains just one element, it is already sorted. Return it.\n",
    "- If not, divide the list of numbers into two roughly equal parts.\n",
    "- Sort each part recursively using the merge sort algorithm. You'll get back two sorted lists.\n",
    "- Merge the two sorted lists to get a single sorted list"
   ]
  },
  {
   "cell_type": "code",
   "execution_count": 13,
   "id": "674dbe45",
   "metadata": {},
   "outputs": [],
   "source": [
    "# Main libraries\n",
    "import math\n",
    "import random\n",
    "import copy\n",
    "import timeit\n",
    "import numpy as np\n",
    "from datetime import datetime\n",
    "import matplotlib.pyplot as plt"
   ]
  },
  {
   "cell_type": "code",
   "execution_count": 7,
   "id": "3115bdac",
   "metadata": {},
   "outputs": [],
   "source": [
    "# Efficiente merge function\n",
    "def merge(u, v):\n",
    "    t = []\n",
    "    i, j = 0, 0\n",
    "    m, n = len(u), len(v)\n",
    "    u.append(math.inf)\n",
    "    v.append(math.inf)\n",
    "    \n",
    "    for k in range(m + n):\n",
    "        if u[i] < v[j]:\n",
    "            t.append(u[i])\n",
    "            i += 1\n",
    "        else:\n",
    "            t.append(v[j])\n",
    "            j += 1\n",
    "    \n",
    "    return t"
   ]
  },
  {
   "cell_type": "code",
   "execution_count": 8,
   "id": "2096ac82",
   "metadata": {},
   "outputs": [],
   "source": [
    "# Merge-sort recursive algorithm\n",
    "def merge_sort(l):\n",
    "    n = len(l)\n",
    "    \n",
    "    if n > 1:\n",
    "        u = l[0 : n//2]\n",
    "        v = l[n//2 : n]\n",
    "        \n",
    "        u = merge_sort(u)\n",
    "        v = merge_sort(v)\n",
    "        return merge(u, v)\n",
    "    \n",
    "    return l"
   ]
  },
  {
   "cell_type": "code",
   "execution_count": 9,
   "id": "15ee6903",
   "metadata": {},
   "outputs": [
    {
     "data": {
      "text/plain": [
       "[0, 1, 1, 2, 3, 3, 4, 5, 5, 5, 6, 8, 9, 9]"
      ]
     },
     "execution_count": 9,
     "metadata": {},
     "output_type": "execute_result"
    }
   ],
   "source": [
    "# Test values\n",
    "l = [3, 1, 4, 1, 5, 9, 2, 6, 5, 3, 5, 8, 9, 0]\n",
    "\n",
    "# Run algorithm\n",
    "merge_sort(l)"
   ]
  },
  {
   "cell_type": "markdown",
   "id": "0532472c",
   "metadata": {},
   "source": [
    "#Quick Sort"
   ]
  },
  {
   "cell_type": "markdown",
   "id": "25fcbc1d",
   "metadata": {},
   "source": [
    "Quicksort (sometimes called partition-exchange sort) is an efficient sorting algorithm. Developed by British computer scientist Tony Hoare in 1959 and published in 1961, it is still a commonly used algorithm for sorting"
   ]
  },
  {
   "cell_type": "markdown",
   "id": "5e35e6a8",
   "metadata": {},
   "source": [
    "Quicksort is a divide-and-conquer algorithm. It works by selecting a 'pivot' element from the array and partitioning the other elements into two sub-arrays, according to whether they are less than or greater than the pivot. The sub-arrays are then sorted recursively. This can be done in-place, requiring small additional amounts of memory to perform the sorting.\n",
    "Time complexity of Quick Sort is $ \\Theta(nlog n)$"
   ]
  },
  {
   "cell_type": "markdown",
   "id": "955c72ef",
   "metadata": {},
   "source": [
    "Here's a step-by-step description for quick sort:\n",
    "\n",
    "\n",
    "- If the list is empty or has just one element, return it. It's already sorted.\n",
    "- Pick a random element from the list. This element is called a _pivot_.\n",
    "- Reorder the list so that all elements with values less than or equal to the pivot come before the pivot, while all elements with values greater than the pivot come after it. This operation is called _partitioning_.\n",
    "- The pivot element divides the array into two parts which can be sorted independently by making a recursive call to quicksort.\n",
    "\n",
    "![](https://images.deepai.org/glossary-terms/a5228ea07c794b468efd1b7f758b9ead/Quicksort.png)\n"
   ]
  },
  {
   "cell_type": "code",
   "execution_count": 10,
   "id": "2d96d830",
   "metadata": {},
   "outputs": [],
   "source": [
    "def partition(array, i, j):\n",
    "    pivot = array[i]\n",
    "    k = i + 1\n",
    "    l = j - 1\n",
    "    \n",
    "    while True:\n",
    "        \n",
    "        while k <= l and array[l] > pivot:\n",
    "            l = l - 1\n",
    "        \n",
    "        while k <= l and array[k] <= pivot:\n",
    "            k = k + 1\n",
    "        \n",
    "        if k <= l:\n",
    "            array[k], array[l] = array[l], array[k]\n",
    "        else:\n",
    "            break\n",
    "\n",
    "    array[i], array[l] = array[l], array[i]\n",
    "\n",
    "    return l"
   ]
  },
  {
   "cell_type": "code",
   "execution_count": 11,
   "id": "063c137d",
   "metadata": {},
   "outputs": [],
   "source": [
    "# Quicksort recursive algorithm\n",
    "def _quick_sort(array, i, j):\n",
    "    \n",
    "    if i < j:\n",
    "        l = partition(array, i, j)\n",
    "        _quick_sort(array, i, l)\n",
    "        _quick_sort(array, l + 1, j)\n",
    "    \n",
    "    return array\n",
    "\n",
    "# Quicksort algorithm\n",
    "def quick_sort(array):\n",
    "    return _quick_sort(array, 0, len(array))"
   ]
  },
  {
   "cell_type": "code",
   "execution_count": 12,
   "id": "aa964467",
   "metadata": {},
   "outputs": [
    {
     "data": {
      "text/plain": [
       "[0, 1, 1, 2, 3, 3, 4, 5, 5, 5, 6, 8, 9, 9]"
      ]
     },
     "execution_count": 12,
     "metadata": {},
     "output_type": "execute_result"
    }
   ],
   "source": [
    "# Test values\n",
    "array = [3, 1, 4, 1, 5, 9, 2, 6, 5, 3, 5, 8, 9, 0]\n",
    "\n",
    "# Run algorithm\n",
    "quick_sort(array)"
   ]
  },
  {
   "cell_type": "markdown",
   "id": "8937b3ae",
   "metadata": {},
   "source": [
    "#Comparing Various Sorting Algorithms to gauge the performance"
   ]
  },
  {
   "cell_type": "code",
   "execution_count": 14,
   "id": "46f2809a",
   "metadata": {},
   "outputs": [],
   "source": [
    "# Experiment variables\n",
    "n_list = [1000, 2000, 5000, 10000, 20000, 50000, 100000, 200000]\n",
    "n_max = n_list[len(n_list) -1]"
   ]
  },
  {
   "cell_type": "code",
   "execution_count": 15,
   "id": "2155cfd2",
   "metadata": {},
   "outputs": [],
   "source": [
    "# Creating a random value (uniform)\n",
    "ms = datetime.now().microsecond / 1000\n",
    "random.seed(ms)\n",
    "\n",
    "numbers = []\n",
    "for i in range(n_max):\n",
    "    numbers.append(int(random.random() * 1000))"
   ]
  },
  {
   "cell_type": "code",
   "execution_count": 16,
   "id": "f57ecbdd",
   "metadata": {},
   "outputs": [],
   "source": [
    "a_time = []\n",
    "b_time = []\n",
    "c_time = []\n",
    "\n",
    "for l in n_list:\n",
    "    a = copy.deepcopy(numbers[0:l])\n",
    "    b = copy.deepcopy(numbers[0:l])\n",
    "    c = copy.deepcopy(numbers[0:l])\n",
    "    \n",
    "    start_time = timeit.default_timer()\n",
    "    quick_sort(a)\n",
    "    a_time.append((timeit.default_timer() - start_time) * 1000)\n",
    "    \n",
    "    start_time = timeit.default_timer()\n",
    "    merge_sort(b)\n",
    "    b_time.append((timeit.default_timer() - start_time) * 1000)\n",
    "    \n",
    "    start_time = timeit.default_timer()\n",
    "    c.sort()\n",
    "    c_time.append((timeit.default_timer() - start_time) * 1000)"
   ]
  },
  {
   "cell_type": "code",
   "execution_count": 17,
   "id": "d58bdaaf",
   "metadata": {
    "scrolled": true
   },
   "outputs": [
    {
     "data": {
      "image/png": "[encoded data removed]",
      "text/plain": [
       "<Figure size 720x360 with 1 Axes>"
      ]
     },
     "metadata": {
      "needs_background": "light"
     },
     "output_type": "display_data"
    }
   ],
   "source": [
    "# Plotting results\n",
    "plt.figure(figsize=(10, 5))\n",
    "plt.plot(a_time, linewidth = 1, marker=\"o\")\n",
    "plt.plot(b_time, linewidth = 1, marker=\"o\")\n",
    "plt.plot(c_time, linewidth = 1, marker=\"o\")\n",
    "plt.xticks(np.arange(len(n_list)), n_list)\n",
    "plt.title(\"Compare Sorting Algorithms\", fontsize = 14)\n",
    "plt.ylabel('Time (ms)')\n",
    "plt.xlabel('n')\n",
    "plt.legend((\"Quicksort\", \"Mergesort\", \"Timsort\"), loc = \"best\")\n",
    "plt.show()"
   ]
  },
  {
   "cell_type": "markdown",
   "id": "f0ebb0f0",
   "metadata": {},
   "source": [
    "**Karatsuba Multiplication**"
   ]
  },
  {
   "cell_type": "markdown",
   "id": "bcf22341",
   "metadata": {},
   "source": [
    "The Karatsuba multiplication algorithm is named after the Russian mathematician Anatoly Karatsuba. It uses a divide and conquer approach that gives it a running time improvement over the standard multiplication method"
   ]
  },
  {
   "cell_type": "markdown",
   "id": "507b53a6",
   "metadata": {},
   "source": [
    "The key to understanding Karatsuba’s multiplication algorithm is remembering that you can express x (an n-digit integer) in the following way:\n",
    "\n",
    "$x = a*10^{{n}/{2}} + b$\n",
    "\n",
    "You can use this if you want to multiply x by another n-digit integer y:\n",
    "\n",
    "$y = c*10^{{n}/{2}} + d$\n",
    "\n",
    "Then x multiplied by y can be written as:\n",
    "\n",
    "$ x*y =(a*10^{{n}/{2}} + b)(c*10^{{n}/{2}} + d) $\n",
    "\n",
    "This is where Karatsuba found a neat trick. He found a way to calculate ac, bd and (ad + bc) with just three multiplications (instead of four).\n",
    "\n",
    "$ (a+b)(c+d) = ac + ad + bc + bd$\n",
    "\n",
    "If you have already calculated ac, and bd then (ab + bc) can be calculated by subtracting ac and bd from (a+b)(c+d).\n",
    "You can use Karatsuba’s trick recursively to compute the multiplication."
   ]
  },
  {
   "cell_type": "markdown",
   "id": "e8e6796c",
   "metadata": {},
   "source": [
    "**Karatsuba Algorithm Explaination**"
   ]
  },
  {
   "cell_type": "markdown",
   "id": "d8fbbf8d",
   "metadata": {},
   "source": [
    "- Break the two integers x and y into a, b, c and d as described above\n",
    "- Recursively compute ac\n",
    "- Recursively compute bd\n",
    "- Recursively compute (a + b)(c + d)\n",
    "- Calculate (ab + bc) as (a + b)(c + d) – ac – bd\n",
    "- Let A be ac with n zeros added to the end\n",
    "- let B be (ab + bc) with half n zeros added to the end\n",
    "- The final answer is A + B + bd"
   ]
  },
  {
   "cell_type": "code",
   "execution_count": 18,
   "id": "6086d738",
   "metadata": {},
   "outputs": [],
   "source": [
    "def zeroPad(numberString, zeros, left = True):\n",
    "    \"\"\"Return the string with zeros added to the left or right.\"\"\"\n",
    "    for i in range(zeros):\n",
    "        if left:\n",
    "            numberString = '0' + numberString\n",
    "        else:\n",
    "            numberString = numberString + '0'\n",
    "    return numberString\n",
    "\n",
    "def karatsubaMultiplication(x ,y):\n",
    "\n",
    "    x = str(x)\n",
    "    y = str(y)\n",
    "    \n",
    "    if len(x) == 1 and len(y) == 1:\n",
    "        return int(x) * int(y)\n",
    "    if len(x) < len(y):\n",
    "        x = zeroPad(x, len(y) - len(x))\n",
    "    elif len(y) < len(x):\n",
    "        y = zeroPad(y, len(x) - len(y))\n",
    "    n = len(x)\n",
    "    j = n//2\n",
    "    \n",
    "    #for odd digit integers\n",
    "    if (n % 2) != 0:\n",
    "        j += 1    \n",
    "    BZeroPadding = n - j\n",
    "    AZeroPadding = BZeroPadding * 2\n",
    "    a = int(x[:j])\n",
    "    b = int(x[j:])\n",
    "    c = int(y[:j])\n",
    "    d = int(y[j:])\n",
    "    \n",
    "    #recursively calculate\n",
    "    ac = karatsubaMultiplication(a, c)\n",
    "    bd = karatsubaMultiplication(b, d)\n",
    "    k = karatsubaMultiplication(a + b, c + d)\n",
    "    A = int(zeroPad(str(ac), AZeroPadding, False))\n",
    "    B = int(zeroPad(str(k - ac - bd), BZeroPadding, False))\n",
    "    return A + B + bd"
   ]
  },
  {
   "cell_type": "code",
   "execution_count": 19,
   "id": "261a6b99",
   "metadata": {},
   "outputs": [
    {
     "data": {
      "text/plain": [
       "9801"
      ]
     },
     "execution_count": 19,
     "metadata": {},
     "output_type": "execute_result"
    }
   ],
   "source": [
    "karatsubaMultiplication(99,99)"
   ]
  },
  {
   "cell_type": "markdown",
   "id": "b0a85b7b",
   "metadata": {},
   "source": [
    "#References\n",
    "- https://afteracademy.com/blog/divide-and-conquer-approach-in-programming#\n",
    "- http://web.stanford.edu/class/archive/cs/cs161/cs161.1182/schedule.html\n",
    "- https://en.wikipedia.org/wiki/Divide-and-conquer_algorithm\n",
    "- https://github.com/bharath3794/Algorithms-Illuminated---Part-1/"
   ]
  },
  {
   "cell_type": "markdown",
   "id": "4c4b4ae9",
   "metadata": {},
   "source": [
    "##Submitted By -\n",
    "###Tarun Balwani (001561792)"
   ]
  }
 ],
 "metadata": {
  "kernelspec": {
   "display_name": "Python 3 (ipykernel)",
   "language": "python",
   "name": "python3"
  },
  "language_info": {
   "codemirror_mode": {
    "name": "ipython",
    "version": 3
   },
   "file_extension": ".py",
   "mimetype": "text/x-python",
   "name": "python",
   "nbconvert_exporter": "python",
   "pygments_lexer": "ipython3",
   "version": "3.9.7"
  }
 },
 "nbformat": 4,
 "nbformat_minor": 5
}
