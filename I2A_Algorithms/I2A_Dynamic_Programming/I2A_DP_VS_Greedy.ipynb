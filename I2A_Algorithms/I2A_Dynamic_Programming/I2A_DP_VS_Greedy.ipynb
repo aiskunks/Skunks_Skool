{
 "cells": [
  {
   "attachments": {},
   "cell_type": "markdown",
   "id": "5eb4e551",
   "metadata": {},
   "source": [
    "<div style=\"text-align: right\">Reference (All images are from online)</div>\n",
    "<div style=\"text-align: right\">https://leetcode.com/</div>\n",
    "<div style=\"text-align: right\">https://www.geeksforgeeks.org/wildcard-pattern-matching/</div>\n",
    "<div style=\"text-align: right\">https://python.plainenglish.io/greedy-algorithm-in-python-4b66e250d088</div>\n",
    "\n",
    "## Info6205_Final Portfolio_Minghui Qiu  (Greedy Algorithm & Dynamic Programming)"
   ]
  },
  {
   "cell_type": "markdown",
   "id": "eee15acc",
   "metadata": {},
   "source": [
    "#### When facing a problem, we can consider multiple approaches to solve it. One of the most asked questions is the difference between a greedy approach and dynamic programming. In this tutorial, we’re going to explain the two concepts and provide a comparison between them."
   ]
  },
  {
   "cell_type": "markdown",
   "id": "625eda9f",
   "metadata": {},
   "source": [
    "### 1-1. What is Greedy Algorithm?"
   ]
  },
  {
   "cell_type": "markdown",
   "id": "ec029854",
   "metadata": {},
   "source": [
    "Greedy approach means solving the problem step-by-step. On each step, the algorithm makes a choice, based on some heuristic, that achieves the most obvious and beneficial profit. The algorithm hopes to achieve an optimal solution, even though it’s not always achievable.\n",
    "\n",
    "*The greedy approach is suitable for problems where local optimality leads to an optimal global solution.*\n",
    "\n",
    "<img src=\"https://i.morioh.com/210716/8db768ef.webp\" width=500 height=500 />\n",
    "\n",
    "For example, consider the ***Wildcard Pattern Matching Problem***. The local optimal strategy is to choose the item that has maximum value vs weight ratio. This strategy also leads to global optimal solution because we allowed taking fractions of an item. Here is an example:\n",
    "\n"
   ]
  },
  {
   "cell_type": "markdown",
   "id": "62abac82",
   "metadata": {},
   "source": [
    "### 1-2-1. Example 1 of Greedy Algorithm - Wildcard Pattern Matching"
   ]
  },
  {
   "cell_type": "markdown",
   "id": "0c5a4c12",
   "metadata": {},
   "source": [
    "`'?'` Matches any single character.<br>\n",
    "`'*'` Matches any sequence of characters (including the empty sequence).<br>\n",
    "The matching should cover the entire input string (not partial).<br>\n",
    "\n",
    "The function prototype should be:<br>\n",
    "bool isMatch(const char *s, const char *p)<br><br>\n",
    "\n",
    "Some examples:<br>\n",
    "isMatch(\"aa\",\"a\") → false<br>\n",
    "isMatch(\"aa\",\"aa\") → true<br>\n",
    "isMatch(\"aaa\",\"aa\") → false<br>\n",
    "isMatch(\"aa\", \"*\") → true<br>\n",
    "isMatch(\"aa\", \"a*\") → true<br>\n",
    "isMatch(\"ab\", \"?*\") → true<br>\n",
    "isMatch(\"aab\", \"c*a*b\") → false<br>\n",
    "\n",
    "<img src = 'https://media.geeksforgeeks.org/wp-content/cdn-uploads/wildcard-pattern-matching.png'>\n"
   ]
  },
  {
   "cell_type": "markdown",
   "id": "572018d4",
   "metadata": {},
   "source": [
    "### 1-2-2. Greedy part in this problem - Wildcard Pattern Matching\n",
    "\n",
    "Let's take `p = ∗abcd∗` as an example. (p for pattern)<br><br>\n",
    "`p` can match **all strings containing the substring abcd**, that is, we only need to brute force the enumeration of characters in each position in the string `s` is used as the starting position, and we only need to tell whether the corresponding substring is `abcd`. <br><br>\n",
    "The time complexity of this brute force method is `O(mn)`and the space complexity is `O(1)`. <br><br>\n",
    "What if `p = ∗abcd∗efgh∗i∗`? Obviously, `p` can match any string where the substrings `abcd`, `efgh`, `i` appearing in sequence. At this point, for any string `s`, we first violently find the earliest `abcd`, then violently find the earliest `efgh` from the next position, and finally find `i`. Then we can tell whether `s` can be matched with `p`.<br><br> \n",
    "It is intuitive to find the earliest substring \"greedily\" in this way, because if a substring appears multiple times in `s`, then we choose the earliest position, which can make the subsequent substrings have a greater chance of being found. Therefore, if the pattern `p` is of the form `*u_1*u_2*u_3*`, that is, a string (which can be empty) alternate with asterisks, and the first and last characters are asterisks, then we can design the following greedy-based brute force matching algorithm. The essence of the algorithm is: if `u_1` is found first in the string `s`, and then `u_2, u_3, ... ,u_x`, then `s` can match the pattern `p`. Code is as follows:"
   ]
  },
  {
   "cell_type": "markdown",
   "id": "6ecfb688",
   "metadata": {},
   "source": [
    "### 1-2-3. Greedy Implement in this problem - Wildcard Pattern Matching"
   ]
  },
  {
   "cell_type": "code",
   "execution_count": 67,
   "id": "17ed066d",
   "metadata": {},
   "outputs": [],
   "source": [
    "def isMatch(s: str, p: str) -> bool:\n",
    "    N1 = len(s)  # The length of string\n",
    "    N2 = len(p)  # The length of pattern\n",
    "\n",
    "    while N1 > 0 and N2 > 0 and p[N2 - 1] != \"*\":\n",
    "        if p[N2 - 1] == \"?\" or p[N2 - 1] == s[N1 - 1]:\n",
    "            N1 -= 1\n",
    "            N2 -= 1\n",
    "        else:\n",
    "            return False\n",
    "\n",
    "    if N2 == 0:\n",
    "        return N1 == 0\n",
    "\n",
    "    i1 = i2 = 0\n",
    "    r1 = r2 = -1\n",
    "    while i1 < N1 and i2 < N2:\n",
    "        if p[i2] == \"*\":\n",
    "            i2 += 1\n",
    "            r1 = i1\n",
    "            r2 = i2\n",
    "        elif p[i2] == \"?\" or p[i2] == s[i1]:\n",
    "            i1 += 1\n",
    "            i2 += 1\n",
    "        elif r1 != -1:\n",
    "            r1 += 1\n",
    "            i1 = r1\n",
    "            i2 = r2\n",
    "        else:\n",
    "            return False\n",
    "        \n",
    "    return all(i == \"*\" for i in p[i2:N2])"
   ]
  },
  {
   "cell_type": "code",
   "execution_count": 68,
   "id": "04466fcb",
   "metadata": {},
   "outputs": [
    {
     "data": {
      "text/plain": [
       "False"
      ]
     },
     "execution_count": 68,
     "metadata": {},
     "output_type": "execute_result"
    }
   ],
   "source": [
    "isMatch(\"aa\",\"a\")"
   ]
  },
  {
   "cell_type": "code",
   "execution_count": 69,
   "id": "049d94d8",
   "metadata": {},
   "outputs": [
    {
     "data": {
      "text/plain": [
       "True"
      ]
     },
     "execution_count": 69,
     "metadata": {},
     "output_type": "execute_result"
    }
   ],
   "source": [
    "isMatch(\"aa\",\"aa\")"
   ]
  },
  {
   "cell_type": "code",
   "execution_count": 70,
   "id": "11edf147",
   "metadata": {},
   "outputs": [
    {
     "data": {
      "text/plain": [
       "False"
      ]
     },
     "execution_count": 70,
     "metadata": {},
     "output_type": "execute_result"
    }
   ],
   "source": [
    "isMatch(\"aaa\",\"aa\")"
   ]
  },
  {
   "cell_type": "code",
   "execution_count": 71,
   "id": "16bfeb0b",
   "metadata": {},
   "outputs": [
    {
     "data": {
      "text/plain": [
       "False"
      ]
     },
     "execution_count": 71,
     "metadata": {},
     "output_type": "execute_result"
    }
   ],
   "source": [
    "isMatch(\"aab\", \"cab\") "
   ]
  },
  {
   "cell_type": "markdown",
   "id": "6e14bc5c",
   "metadata": {},
   "source": [
    "### 1-3-1. Example 2 of Greedy Algorithm - Kruskal’s Minimum Spanning Tree Algorithm\n",
    "\n",
    "<img src='https://www.simplilearn.com/ice9/free_resources_article_thumb/Kruskals_algorithm/Graph_for_Constructing_MST.png' width=500 height=500>\n",
    "\n",
    "Concept Explanation: Minimum Spanning Tree<br><br>\n",
    "Given a connected and undirected graph, a spanning tree of that graph is a subgraph that is a tree and connects all the vertices together. A single graph can have many different spanning trees. A minimum spanning tree (MST) or minimum weight spanning tree for a weighted, connected, undirected graph is a spanning tree with a weight less than or equal to the weight of every other spanning tree. The weight of a spanning tree is the sum of weights given to each edge of the spanning tree."
   ]
  },
  {
   "cell_type": "markdown",
   "id": "93488515",
   "metadata": {},
   "source": [
    "### 1-3-2. Greedy part in this problem - Kruskal’s Minimum Spanning Tree Algorithm\n",
    "\n",
    "Below are the steps for finding MST using Kruskal’s algorithm:\n",
    "\n",
    "`1. Sort all the edges in non-decreasing order of their weight.` <br>\n",
    "`2. Pick the smallest edge. Check if it forms a cycle with the spanning tree formed so far. If cycle is not formed, include this edge. Else, discard it. `<br>\n",
    "`3. Repeat step#2 until there are (V-1) edges in the spanning tree.`<br><br>\n",
    "\n",
    "**Analysis**: Where E is the number of edges in the graph and V is the number of vertices, Kruskal's Algorithm can be shown to run in O (E log E) time, or simply, O (E log V) time, all with simple data structures. These running times are equivalent because:\n",
    "\n",
    "E is at most V2 and log V2= 2 x log V is O (log V).\n",
    "If we ignore isolated vertices, which will each their components of the minimum spanning tree, V ≤ 2 E, so log V is O (log E).<br><br>\n",
    "Thus the total time is: `O (E log E) = O (E log V)`. \n",
    "\n"
   ]
  },
  {
   "cell_type": "markdown",
   "id": "34438150",
   "metadata": {},
   "source": [
    "### 1-3-3. Greedy Implement in this problem - Kruskal’s Minimum Spanning Tree Algorithm"
   ]
  },
  {
   "cell_type": "code",
   "execution_count": 72,
   "id": "162ac759",
   "metadata": {},
   "outputs": [],
   "source": [
    "# Python program for Kruskal's algorithm to find\n",
    "# Minimum Spanning Tree of a given connected,\n",
    "# undirected and weighted graph\n",
    "\n",
    "from collections import defaultdict\n",
    "\n",
    "# Class to represent a graph\n",
    "\n",
    "\n",
    "class Graph:\n",
    "\n",
    "\tdef __init__(self, vertices):\n",
    "\t\tself.V = vertices # No. of vertices\n",
    "\t\tself.graph = [] # default dictionary\n",
    "\t\t# to store graph\n",
    "\n",
    "\t# function to add an edge to graph\n",
    "\tdef addEdge(self, u, v, w):\n",
    "\t\tself.graph.append([u, v, w])\n",
    "\n",
    "\t# A utility function to find set of an element i\n",
    "\t# (uses path compression technique)\n",
    "\tdef find(self, parent, i):\n",
    "\t\tif parent[i] == i:\n",
    "\t\t\treturn i\n",
    "\t\treturn self.find(parent, parent[i])\n",
    "\n",
    "\t# A function that does union of two sets of x and y\n",
    "\t# (uses union by rank)\n",
    "\tdef union(self, parent, rank, x, y):\n",
    "\t\txroot = self.find(parent, x)\n",
    "\t\tyroot = self.find(parent, y)\n",
    "\n",
    "\t\t# Attach smaller rank tree under root of\n",
    "\t\t# high rank tree (Union by Rank)\n",
    "\t\tif rank[xroot] < rank[yroot]:\n",
    "\t\t\tparent[xroot] = yroot\n",
    "\t\telif rank[xroot] > rank[yroot]:\n",
    "\t\t\tparent[yroot] = xroot\n",
    "\n",
    "\t\t# If ranks are same, then make one as root\n",
    "\t\t# and increment its rank by one\n",
    "\t\telse:\n",
    "\t\t\tparent[yroot] = xroot\n",
    "\t\t\trank[xroot] += 1\n",
    "\n",
    "\t# The main function to construct MST using Kruskal's\n",
    "\t\t# algorithm\n",
    "\tdef KruskalMST(self):\n",
    "\n",
    "\t\tresult = [] # This will store the resultant MST\n",
    "\t\t\n",
    "\t\t# An index variable, used for sorted edges\n",
    "\t\ti = 0\n",
    "\t\t\n",
    "\t\t# An index variable, used for result[]\n",
    "\t\te = 0\n",
    "\n",
    "\t\t# Step 1: Sort all the edges in\n",
    "\t\t# non-decreasing order of their\n",
    "\t\t# weight. If we are not allowed to change the\n",
    "\t\t# given graph, we can create a copy of graph\n",
    "\t\tself.graph = sorted(self.graph,\n",
    "\t\t\t\t\t\t\tkey=lambda item: item[2])\n",
    "\n",
    "\t\tparent = []\n",
    "\t\trank = []\n",
    "\n",
    "\t\t# Create V subsets with single elements\n",
    "\t\tfor node in range(self.V):\n",
    "\t\t\tparent.append(node)\n",
    "\t\t\trank.append(0)\n",
    "\n",
    "\t\t# Number of edges to be taken is equal to V-1\n",
    "\t\twhile e < self.V - 1:\n",
    "\n",
    "\t\t\t# Step 2: Pick the smallest edge and increment\n",
    "\t\t\t# the index for next iteration\n",
    "\t\t\tu, v, w = self.graph[i]\n",
    "\t\t\ti = i + 1\n",
    "\t\t\tx = self.find(parent, u)\n",
    "\t\t\ty = self.find(parent, v)\n",
    "\n",
    "\t\t\t# If including this edge doesn't\n",
    "\t\t\t# cause cycle, include it in result\n",
    "\t\t\t# and increment the indexof result\n",
    "\t\t\t# for next edge\n",
    "\t\t\tif x != y:\n",
    "\t\t\t\te = e + 1\n",
    "\t\t\t\tresult.append([u, v, w])\n",
    "\t\t\t\tself.union(parent, rank, x, y)\n",
    "\t\t\t# Else discard the edge\n",
    "\n",
    "\t\tminimumCost = 0\n",
    "\t\tprint (\"Edges in the constructed MST\")\n",
    "\t\tfor u, v, weight in result:\n",
    "\t\t\tminimumCost += weight\n",
    "\t\t\tprint(\"%d -- %d == %d\" % (u, v, weight))\n",
    "\t\tprint(\"Minimum Spanning Tree\" , minimumCost)\n"
   ]
  },
  {
   "cell_type": "code",
   "execution_count": 73,
   "id": "47a85efb",
   "metadata": {},
   "outputs": [
    {
     "name": "stdout",
     "output_type": "stream",
     "text": [
      "Edges in the constructed MST\n",
      "2 -- 3 == 4\n",
      "0 -- 3 == 5\n",
      "0 -- 1 == 10\n",
      "Minimum Spanning Tree 19\n"
     ]
    }
   ],
   "source": [
    "# Driver code\n",
    "g = Graph(4)\n",
    "g.addEdge(0, 1, 10)\n",
    "g.addEdge(0, 2, 6)\n",
    "g.addEdge(0, 3, 5)\n",
    "g.addEdge(1, 3, 15)\n",
    "g.addEdge(2, 3, 4)\n",
    "\n",
    "# Function call\n",
    "g.KruskalMST()\n"
   ]
  },
  {
   "cell_type": "markdown",
   "id": "71c4cc54",
   "metadata": {},
   "source": [
    "### 2-1. What is Dynamic Programming?\n",
    "\n",
    "Dynamic Programming (DP) is an algorithmic technique for solving an optimization problem by breaking it down into simpler subproblems and utilizing the fact that the optimal solution to the overall problem depends upon the optimal solution to its subproblems.\n",
    "\n",
    "Let’s take the example of the Fibonacci numbers. As we all know, Fibonacci numbers are a series of numbers in which each number is the sum of the two preceding numbers. The first few Fibonacci numbers are 0, 1, 1, 2, 3, 5, and 8, and they continue on from there.\n",
    "\n",
    "If we are asked to calculate the nth Fibonacci number, we can do that with the following equation,\n",
    "\n",
    "`Fib(n) = Fib(n-1) + Fib(n-2), for n > 1`\n",
    "\n",
    "As we can clearly see here, to solve the overall problem (i.e. Fib(n)), we broke it down into two smaller subproblems `(which are Fib(n-1) and Fib(n-2))`. This shows that we can use DP to solve this problem.\n",
    "\n",
    "<img src='https://www.codesdope.com/staticroot/images/algorithm/dynamic4.png' width=500 height=500>"
   ]
  },
  {
   "cell_type": "markdown",
   "id": "93bd7b41",
   "metadata": {},
   "source": [
    "### 2-2-1. Same example 1 of Dynamic Programming - Wildcard Pattern Matching\n",
    "\n",
    "**The description is in Chapter 1-2-1.*\n",
    "\n",
    "Let’s consider any character in the pattern.\n",
    "\n",
    "`Case 1: The character is ‘*’ .` <br>Here two cases arise:  \n",
    "1.We can ignore ‘*’ character and move to next character in the Pattern.<br>\n",
    "2.‘*’ character matches with one or more characters in Text. Here we will move to next character in the string.\n",
    "\n",
    "`Case 2: The character is ‘?’ `<br>\n",
    "We can ignore current character in Text and move to next character in the Pattern and Text.\n",
    "\n",
    "`Case 3: The character is not a wildcard character `<br>\n",
    "If current character in Text matches with current character in Pattern, we move to next character in the Pattern and Text. If they do not match, wildcard pattern and Text do not match.\n",
    "We can use Dynamic Programming to solve this problem – \n",
    "\n",
    "Let `T[i][j]` is true if first i characters in given string matches the first j characters of pattern. "
   ]
  },
  {
   "cell_type": "markdown",
   "id": "f97a9778",
   "metadata": {},
   "source": [
    "**DP Initialization:**\n",
    "\n",
    "// both text and pattern are null<br>\n",
    "`T[0][0] = true; `\n",
    "\n",
    "// pattern is null<br>\n",
    "`T[i][0] = false; `\n",
    "\n",
    "// text is null<br>\n",
    "`T[0][j] = T[0][j - 1] if pattern[j – 1] is '*' `\n",
    "\n",
    "**DP relation: **\n",
    "\n",
    "// If current characters match, result is same as result for lengths minus one. Characters match in two cases:<br>\n",
    "     a) If pattern character is '?' then it matches with any character of text. <br>\n",
    "     b) If current characters in both match<br>\n",
    "`if ( pattern[j – 1] == ‘?’) || (pattern[j – 1] == text[i - 1])`<br>\n",
    "    `T[i][j] = T[i-1][j-1]`\n",
    " \n",
    "// If we encounter ‘*’, two choices are possible:<br>\n",
    "     a) We ignore ‘*’ character and move to next character in the pattern, i.e., ‘*’ indicates an empty sequence.<br>\n",
    "     b) '*' character matches with ith character in input .<br>\n",
    "`else if (pattern[j – 1] == ‘*’)`<br>\n",
    "    `T[i][j] = T[i][j-1] || T[i-1][j]`<br>\n",
    "`else if (pattern[j – 1] != text[i - 1])`<br>\n",
    "    `T[i][j]  = false` "
   ]
  },
  {
   "cell_type": "markdown",
   "id": "77b5fbb7",
   "metadata": {},
   "source": [
    "### 2-2-2. Dynamic Programming in this problem - Wildcard Pattern Matching"
   ]
  },
  {
   "cell_type": "code",
   "execution_count": 74,
   "id": "9d34f158",
   "metadata": {},
   "outputs": [],
   "source": [
    "\n",
    "    def isMatch(s, p):\n",
    "\t    return helper(s, p, 0, 0)\n",
    "\n",
    "    def helper(s, p, start_s, start_p):\n",
    "        if start_s==len(s) and start_p==len(p): # reached the end of both S and P\n",
    "            return True\n",
    "        if start_p==len(p): # there are still characters in S => there is no match\n",
    "            return False\n",
    "        if start_s==len(s): # Hopefully the remaining characters in P are all stars\n",
    "            return p[start_p]=='*' and helper(s, p, start_s, start_p+1)\n",
    "        if p[start_p]=='*': # star either matches 0 or >=1 character\n",
    "            return helper(s, p, start_s+1, start_p) or helper(s, p, start_s, start_p+1)\n",
    "        elif p[start_p]=='?' or p[start_p]==s[start_s]: # move both pointers\n",
    "            return helper(s, p, start_s+1, start_p+1)\n",
    "        else: # the current char from P is a lowercase char different from s[start_s]\n",
    "            return False    "
   ]
  },
  {
   "cell_type": "code",
   "execution_count": 75,
   "id": "0efa4a3a",
   "metadata": {},
   "outputs": [
    {
     "data": {
      "text/plain": [
       "False"
      ]
     },
     "execution_count": 75,
     "metadata": {},
     "output_type": "execute_result"
    }
   ],
   "source": [
    "isMatch(\"aa\",\"a\")"
   ]
  },
  {
   "cell_type": "code",
   "execution_count": 76,
   "id": "57db3bbd",
   "metadata": {},
   "outputs": [
    {
     "data": {
      "text/plain": [
       "True"
      ]
     },
     "execution_count": 76,
     "metadata": {},
     "output_type": "execute_result"
    }
   ],
   "source": [
    "isMatch(\"aa\",\"aa\")"
   ]
  },
  {
   "cell_type": "code",
   "execution_count": 77,
   "id": "93f2a9c7",
   "metadata": {},
   "outputs": [
    {
     "data": {
      "text/plain": [
       "False"
      ]
     },
     "execution_count": 77,
     "metadata": {},
     "output_type": "execute_result"
    }
   ],
   "source": [
    "isMatch(\"aab\", \"cab\") "
   ]
  },
  {
   "cell_type": "markdown",
   "id": "0e4584d2",
   "metadata": {},
   "source": [
    "### 3. Dynamic Programming vs. Greedy Algorithm\n",
    "\n",
    "Taking look at the table, we see the main differences and similarities between greedy approach vs dynamic programming.\n",
    "\n",
    "<img src='https://www.baeldung.com/wp-content/ql-cache/quicklatex.com-9a636fa11511b4f814e0860b91df408f_l3.svg'>\n",
    "\n",
    "In general, if we can solve the problem using a greedy approach, it’s usually the best choice to go with.\n",
    "\n",
    "However, some problems may require a very complex greedy approach or are unsolvable using this approach. In this case, we try to optimize the recursive solution in order to implement a dynamic programming approach.\n",
    "\n"
   ]
  },
  {
   "cell_type": "markdown",
   "id": "6d38702f",
   "metadata": {},
   "source": [
    "### 4. Conclusion\n",
    "In this tutorial, we explained the main ideas behind the greedy approach and dynamic programming, with an example of each approach.\n",
    "Finally, we summarized by presenting a basic comparison between the two approaches."
   ]
  }
 ],
 "metadata": {
  "kernelspec": {
   "display_name": "Python 3 (ipykernel)",
   "language": "python",
   "name": "python3"
  },
  "language_info": {
   "codemirror_mode": {
    "name": "ipython",
    "version": 3
   },
   "file_extension": ".py",
   "mimetype": "text/x-python",
   "name": "python",
   "nbconvert_exporter": "python",
   "pygments_lexer": "ipython3",
   "version": "3.9.7"
  }
 },
 "nbformat": 4,
 "nbformat_minor": 5
}
