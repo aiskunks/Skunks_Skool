{
  "nbformat": 4,
  "nbformat_minor": 0,
  "metadata": {
    "colab": {
      "name": "Untitled0.ipynb",
      "provenance": [],
      "toc_visible": true
    },
    "kernelspec": {
      "name": "python3",
      "display_name": "Python 3"
    },
    "language_info": {
      "name": "python"
    }
  },
  "cells": [
    {
      "cell_type": "markdown",
      "source": [
        "# I2A_Dynamic_Programming\n",
        "\n",
        "NUID 002193521  \n",
        "Name Jianzhen Cao "
      ],
      "metadata": {
        "id": "b-FZEDhoVWB2"
      }
    },
    {
      "cell_type": "markdown",
      "source": [
        "## What is Dynamic Programing?\n",
        "\n",
        "Actually, Dynamic Programing is not an algorithm but an idea. An algorithm is used for a problem, however, DP can be applied on a family of problems.  \n",
        "Which family of problems can be solved by DP? What are their characteristics? By clarifying these problems, we can know what DP is.  \n",
        "There are three important characteristics of these problems.\n",
        "\n",
        "1.   Optimal substructure. A problem is said to have optimal substructure if its optimal solution contains optimal solutions to its subproblems. Its form just looks like recurrence and with the help of it we can \"reduce\" a problem until solving it.\n",
        "2.   Overlapping subproblems. The overlapping property of sub-problems means that when the problem is solved top-down by recursive algorithm, the sub-problems generated each time are not always new problems, and some sub-problems will be recalculated many times. For these overlapping subproblems, memorizing their solutions is a good choice to avoid recalculating.\n",
        "3.   No aftereffects. Once the solution of the sub-problem is determined, it will not change, and will not be affected by the subsequent decision-making of the larger problem that contains it. Only based on this characteristics, can the memo generated from 2. work normally.\n",
        "\n",
        "Now we can know what DP does. When we encounter a problem, just do\n",
        "\n",
        "\n",
        "1.   find its optimal substructure\n",
        "2.   prove overlapping and no-aftereffects\n",
        "3.   memorize subproblems' solutions\n",
        "\n",
        "To find, prove and memorize, this is actually what DP is.  \n",
        "It still feels fairly abstract, isn't it? Let's take some examples.\n",
        "\n",
        "\n",
        "\n",
        "\n",
        "\n",
        "\n",
        "\n"
      ],
      "metadata": {
        "id": "Pd_-7fTXaDKd"
      }
    },
    {
      "cell_type": "markdown",
      "source": [
        "## Examples\n",
        "Stock is really an exciting(sometimes thrilling) thing, so let's study DP by considering it."
      ],
      "metadata": {
        "id": "bG6rOPslizJi"
      }
    },
    {
      "cell_type": "markdown",
      "source": [
        "###  Best Time to Buy and Sell Stock I\n",
        "Now we are given an array prices where prices[i] is the price of a given stock on the ith day. We want to maximize profit by choosing a single day to buy one stock and choosing a different day in the future to sell that stock.  \n",
        "How to apply DP on this problem? Just begin our three steps: find, prove and memorize.\n",
        "\n",
        "\n",
        "1.   Find its optimal substructure.  \n",
        "If we know 1,2,3,...,ith days' prices, what does max profit equal to? Or what is the relationship between maxprofit[i] and maxprofit[j] where j < i? We can answer this question by asking another question: does price[i] 'affect' maxprofit[i]?  \n",
        "Denote min price in i-1 days as min[i-1]. If price[i] - min[i-1] > maxprofit[i-1], then maxprofit[i] = price[i] - min[i-1], that is, price[i] 'affects' maxprofit[i]. Otherwise maxprofit[i] = maxprofit[i-1], price[i] has no influence on maxprofit[i].\n",
        "So the optimal substructure is  \n",
        "maxprofit[i] = max{maxprofit[i-1],price[i]-min[i-1]}\n",
        "2.   Prove overlapping and no-aftereffects.  \n",
        "When we calculate maxprofit[i] we use solutions calculated before so it is overlapping. And obviously it is no-aftereffects.\n",
        "3.   Memorize subproblems' solutions.  \n",
        "We will memorize useful solutions and other helpful information to avoid recalculating.\n",
        "\n",
        "Based on the analysis, we can calculate the max profit.\n",
        "\n"
      ],
      "metadata": {
        "id": "WFv159rNmy4N"
      }
    },
    {
      "cell_type": "code",
      "source": [
        "# Time: O(n)\n",
        "# Space: O(1)\n",
        "\n",
        "def maxProfit(price):\n",
        "    # Here we initialize maxprofit[0] and min[0]. However, we just use two variables instead of two lists\n",
        "    # because maxprofit[i] is always greater or equal than maxprofit[i-1], memorizing the biggest is enough, \n",
        "    # other values are unuseful. And This also applies to min[i].\n",
        "    max_profit, min_price = 0, float('inf') \n",
        "    for price in price:\n",
        "        min_price = min(min_price, price)\n",
        "        profit = price - min_price\n",
        "        max_profit = max(max_profit, profit) # apply optimal structure and memorize\n",
        "    return max_profit"
      ],
      "metadata": {
        "id": "7P2oqL22AV8o"
      },
      "execution_count": null,
      "outputs": []
    },
    {
      "cell_type": "markdown",
      "source": [
        "###  Best Time to Buy and Sell Stock II\n",
        "Now let's extend this stock problem. We are still given an integer array prices where prices[i] is the price of a given stock on the ith day. And our task is still to find the maximum profit.  \n",
        "However, we are also given an integer k this time. We need to complete at most k transactions instead of just 1 transaction.\n",
        "But note we are not supposed to engage in multiple transactions simultaneously (i.e. we must sell the stock before you buy again).  \n",
        "OK let's get started.\n",
        "For this problem, as we can see, there are two variables, most times k and days i, thus our memo should be 2-dimension, which means the memo should look like maxprofit[k][i] so as to store adequate information.\n",
        "\n",
        "1.  \n",
        "Find its optimal substructure.  \n",
        "The thought is similar: shall we sell a stock on ith day? If not,   \n",
        "maxprofit[k][i] = maxprofit[k][i-1]  \n",
        "If so, and assume we bought this stock on nth day(temporarily we don't care about what n is, we just know n < i, and we will solve it later), we have  \n",
        "maxprofit[k][i] = price[i] - price[n] + maxprofit[k-1][n]  \n",
        "Why does i change to n? From nth to ith day, we do not have any transactions, which means profit doest change.  \n",
        "Why does k change to k-1? We 'consume' a transaction on ith day, which means in [1,...,n] days we have only k-1 transactions which can be executed.  \n",
        "Overall,  \n",
        "maxprofit[k][i] = max{maxprofit[k][i-1], price[i] - price[n] + maxprofit[k-1][n]}  \n",
        "\n",
        "2.   Prove overlapping and no-aftereffects.  \n",
        "Similar to above.\n",
        "\n",
        "3.   Memorize subproblems' solutions.  \n",
        "We will memorize useful solutions and other helpful information to avoid recalculating.\n",
        "\n",
        "Now let's consider what n is. Of course we can traverse price list to calculate when we need, but it is inefficient, leading to O(n^2) time.  \n",
        "We take another approach to solve it. Observe the optimal substructure equation, - price[n] + maxprofit[k-1][n] can be calculated after calculating maxprofit[k-1][n]. We can store it in a new variable max_diff, and update it each time we calculate a new solution of a subproblem. When we need it, just take and use its value. In this way, the price list is traversed just on time, leading to O(n) time.\n",
        "\n"
      ],
      "metadata": {
        "id": "TGaUcp8kDqiU"
      }
    },
    {
      "cell_type": "code",
      "source": [
        "# Time: O(n)\n",
        "# Space: O(n)(or O(nk))\n",
        "\n",
        "def maxProfit(K, price):\n",
        "        n = len(price)\n",
        "        # corner case 1\n",
        "        if n == 0 or K == 0:\n",
        "            return 0\n",
        "        # corner case 2\n",
        "        # if we have so many chances to do transactions that we cannot even use up in n days, we just check every day to decide whether to do transaction\n",
        "        if K >= n // 2:\n",
        "            res = 0\n",
        "            for i in range(1, n):\n",
        "                res += max(0, price[i] - price[i - 1])\n",
        "            return res\n",
        "        # main part\n",
        "        maxprofit = [[0] * n for _ in range(K + 1)]\n",
        "        for i in range(1, K + 1):\n",
        "            max_diff = float('-inf')\n",
        "            for j in range(1, n):\n",
        "                max_diff = max(max_diff, maxprofit[i - 1][j - 1] - price[j - 1])\n",
        "                maxprofit[i][j] = max(maxprofit[i][j - 1], price[j] + max_diff)\n",
        "        return maxprofit[K][n - 1]"
      ],
      "metadata": {
        "id": "uTG-LqczFNX8"
      },
      "execution_count": null,
      "outputs": []
    },
    {
      "cell_type": "markdown",
      "source": [
        "### Unique Paths I\n",
        "Let's convert to another problem.\n"
      ],
      "metadata": {
        "id": "zWw0BjeRtIDa"
      }
    },
    {
      "cell_type": "markdown",
      "source": [
        "![robot_maze.png](data:image/png;base64,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)"
      ],
      "metadata": {
        "id": "VYHkmLqiyOrh"
      }
    },
    {
      "cell_type": "markdown",
      "source": [
        "Look at this maze. We have a robot on an m x n grid. The robot is initially located at the top-left corner (i.e. (0,0)). The robot tries to move to the bottom-right corner (i.e. (m - 1,n - 1)). The robot can only move either down or right at any point in time.  \n",
        "Given the two integers m and n, that is, size of the maze, we want to calculate the number of possible unique paths that the robot can take to reach the bottom-right corner.\n",
        "\n",
        "\n",
        "\n",
        "1.   Find its optimal substructure.  \n",
        "We use a memo, path[r][c], to store the number of paths to move from (0, 0) to (r, c). What does path[i][j] equal to? Note this robot can only move down or right, which means the robot can reach (i,j) from (i-1,j) or (i,j-1). So we have  \n",
        "path[i][j] = path[i-1][j] + path[i][j-1]\n",
        "\n",
        "2.   Prove overlapping and no-aftereffects.  \n",
        "When we calculate path[i][j] we use solutions calculated before so it is overlapping. And obviously it is no-aftereffects.\n",
        "\n",
        "3.   Memorize subproblems' solutions.\n",
        "We use memo to store useful solutions and other helpful information to avoid recalculating.\n",
        "\n",
        "\n",
        "\n"
      ],
      "metadata": {
        "id": "A-uuP0MNyYmA"
      }
    },
    {
      "cell_type": "code",
      "source": [
        "# Time: O(mn)\n",
        "# Space: O(mn)\n",
        "\n",
        "def uniquePaths(m, n):\n",
        "        path = [[0] * n for _ in range(m)]\n",
        "        for r in range(m):\n",
        "            for c in range(n):\n",
        "                if r == 0 and c == 0:\n",
        "                    path[r][c] = 1\n",
        "                elif r == 0: # upper edge\n",
        "                    path[r][c] = path[r][c-1] \n",
        "                elif c == 0: # right edge\n",
        "                    path[r][c] = path[r-1][c]\n",
        "                else:\n",
        "                    path[r][c] = path[r-1][c] + path[r][c-1]\n",
        "        return path[m-1][n-1]"
      ],
      "metadata": {
        "id": "uCMCHcG43XG8"
      },
      "execution_count": null,
      "outputs": []
    },
    {
      "cell_type": "markdown",
      "source": [
        "### Unique Paths II\n",
        "Let's extend this problem.\n"
      ],
      "metadata": {
        "id": "H8x8WLRU88dI"
      }
    },
    {
      "cell_type": "markdown",
      "source": [
        "![robot1.jpeg](data:image/jpeg;base64,/9j/4AAQSkZJRgABAQAAAQABAAD/2wBDAAMCAgICAgMCAgIDAwMDBAYEBAQEBAgGBgUGCQgKCgkICQkKDA8MCgsOCwkJDRENDg8QEBEQCgwSExIQEw8QEBD/2wBDAQMDAwQDBAgEBAgQCwkLEBAQEBAQEBAQEBAQEBAQEBAQEBAQEBAQEBAQEBAQEBAQEBAQEBAQEBAQEBAQEBAQEBD/wAARCADyAPIDASIAAhEBAxEB/8QAHQABAQEBAAMBAQEAAAAAAAAAAAgGBwQFCQIDAf/EAFUQAAAEBAEGBwoKBQoGAwAAAAABAgMEBQYHEQgSITd2tAkZMThBUZYTFyJUV2F3lbPSFCNCVnF1gaHR0xYykZKxFRhSVWKClKWywSQzY3J0tTRDov/EABwBAQACAwEBAQAAAAAAAAAAAAAFBgMEBwIBCP/EAEARAAIBAwIDBAgEAQoHAAAAAAABAgMEEQUxBhIhQVFhcRMUIjKBkbHBB6HR4RUWIyQzNFKCkrPwQlNUcqLT8f/aAAwDAQACEQMRAD8A3+Sbkm28v9byeV1XVVXAamTVYT2WJTLKri4VgmGItZNETRKNKcEmScE4FgktHKZ9q4t+xPzxur23jPxDg39RNQekCpN8UKqAEqlwcFiiPEqxupiXXW0Yf+45VWmS5aqi68iYO7M5r5mVxzKnZZHyGp4uGQskERZi2ErNJK5CM04FjgZ44mZXBXVXwFCUpMKpmJZzcE1nIbzsDdcPQhBfSoyL7xE0sjIy9N0oJutZ+cKmbRBtrexIksIJJmltsj0JxwJJec8TxMbFGnzJuWxS+KtYdhWoUrV/0hvos+zhvHtLZpvbbGM5XbzSe2psOmJU3TSLquQ5H4LsbX8YlSv7iMcP3jCRWpsOqJS3UqLqtw5n4TsFX8YpSf7i8Mf3iHSLz0FJbcVq5TkhnC5hDFDtvGbqkqcZUo1EbazSRFjgRHyFoUQWXoKS3HrVFOT6cOS+GOHceI2lJS48pJpIm0GojLHAzPkPQkxseipcnNjoUn+UPEX8R9T9KvSc3LjEeXPdtt8c/E/nReS5autK8hoO0s5r16WQLKXZnHz6pouJQgllhmIYUskmrlIjURliRmWBERn1U+DgsUZ4nWN1MT6q2jC/3HMZpFxllrpxrdE1AcUmUxBIQ9iRpfQaSNTThFoVhiaT86cSwMWzQlXwFeUpL6plxZjca1nLbzsTacLQtB/QojL7xr1ocqTjsXbhXV3f1q9K7f8ASE+qz7OE8eytkk99285y+ydOLfsT88bq9t4z8Rj7ycH1ZSmrQ1xUcBVlzXIqVU3M41lERWUW60pxqFcWkloM8FJM0lik9BliQtoc/wAoXUFcvY+c7k6NcuhE+ShwemT3dfJ0oK5FTLrFqb1DKG4yO+A1HEMsqexNJqJGJ4Y5pGZY4Y8mBYEXWeKzyYPG7gdqogb/ACA+ZtafZ9v2ixQAAkDis8mDxu4HaqIDis8mDxu4HaqIFfgAJA4rPJg8buB2qiA4rPJg8buB2qiBX4ACQOKzyYPG7gdqogOKzyYPG7gdqogV+AAkDis8mDxu4HaqIHo664MrJnp6iKhn8I7XLz8slUXGNNv1REqbWttlSySsiMjNJmWBkRlo6RbYyl2NVlZbPzHdnABCeRXkRWluvkv0FcKpKmuFDTOcwcQ7Ety2rIuGhiUmKeRihpKsE4kgjPDpMz6R23i37E/PG6vbeM/Ee14N7mS2t+r4vfogUqAJV4t+xPzxur23jPxDi37E/PG6vbeM/EVUAAlXi37E/PG6vbeM/EOLfsT88bq9t4z8RVQACVeLfsT88bq9t4z8Q4t+xPzxur23jPxFVAAJV4t+xPzxur23jPxHpa34PqylNUXP6jgatug5EyqVxUayh6tY00KW00paSURKIzLFJY4GR4dJCxBlLsarKy2fmO7OAD5ZWxi4qPttScfHxLsTExMjgHnnnlmtbi1Q6DUpSj0mZmZmZnpMzAfxtNqro3Z+Xbs2AAtTg39RNQekCpN8UKqEncHbFtQGT5VEc9j3OGrup3l4cuamLUZ/wHo5llW3NfqBcxlr0HDS1Lhm3L1QyFpNvHQS1mWeZ4cpkZfQMlOlKpsQes8QWehcnrWcy2SWdt3uunXzOmZXrk3ipBIJHLICKiW4mKeiXe4NKXh3NKSTjgWj/mn+wS7+jNSfN+Zf4Rz8BSt6r31hLKXoipqImRylFQwsRERDSmGnjxT3LBOLiD5DUssSwxHJf5yt6vnl/l0L+UNuipxhhJHM+KammXWqTqVqs84jjlhFrDimsNzT7c7Iwn6M1J835l/hHPwD9Gak+b8y/wAI5+A3f85W9Xzy/wAuhfyg/nK3q+eX+XQv5Qy5qdy+f7Fe9Fo3/Nq/5I/+wwn6M1J835l/hHPwFRZITk3hafn8jmUBFQyIaKZiWu7tKRj3RKiVhiWn/lF+0cY/nK3q+eX+XQv5Q61ZW99XzOlq4qat5kc2RT0LDPw7SWGmTxV3bFOLaC5TSgsTxwGKspuGGkWHhapplrqcKlGrPOJZ5oRSwotvLU2+zOzKOHP8oXUFcvY+c7k6JyluVbcxioETGZPQcTLTcI3JemGQhJN46SQsizyPDkMzP6BQ194tqPydbhxzOPc4mips6jHlzVQLpl/EalSlKnudM0biCz13n9VzmO6axvs930/Mw2QHzNrT7Pt+0WKAE/5AfM2tPs+37RYoAYycAAAAAAAAAAAAyl2NVlZbPzHdnBqxlLsarKy2fmO7OADivBvcyW1v1fF79EClRNXBvcyW1v1fF79EClQAAAAAAAAAAAAGUuxqsrLZ+Y7s4NWMpdjVZWWz8x3ZwAfKy02qujdn5duzYBabVXRuz8u3ZsABYOQPzY632xqzeFjgw7zkD82Ot9sas3hY4MN202Zyn8SP6238pfVHYLv6prUfV8b/AKmRx8dgu/qmtR9Xxv8AqZHHxsU/d+f1KZr/APbf8FP/AE4AAAeyFA7BaDVLdj/wIL/U8OPjsFoNUt2P/Agv9Twx1Pd+X1JrQP7b/gqf6czj4uO7nNcrTYGY/wDrnBDguO7nNcrTYGY/+ucGC72Rc/w3/rbjyj9WZLID5m1p9n2/aLFACf8AID5m1p9n2/aLFADSOrAAAAAAAAAAAAZS7Gqystn5juzg1Yyl2NVlZbPzHdnABxXg3uZLa36vi9+iBSomrg3uZLa36vi9+iBSoAAAAAAAAAAAADKXY1WVls/Md2cGrGUuxqsrLZ+Y7s4APlZabVXRuz8u3ZsAtNqro3Z+Xbs2AAs/g6oVqNyf6ng4hOLT9eVO0sutKotRH9xjwplkiVwioVwsrmcuclCnfAi3XDS4hvH5SCLSoi6tB9ZdHsuDf1E1B6QKk3xQqoZIVJU/dIbV9Bstb5PW0/Z2w8b7ryJNypqdhaSp231NQTi3GZbDRkOla/1l4Exio/OZ4n9onsWBlVW9qOsZLJ5zTkA7HLky3yfh2U5zhodJHhJTyqwNvSRYnp8wkN9h+FfchYplbLzKzbcbWk0qQojwMjI9JGR9A3qEswRyHjO0nbatNqGINR5e7Cil08sYP5gPZS2mqinLCoqUSGYRrKVm2pyHhluJJRER4GaSMscDLR5yCZU1UUmYTEzeQzCCZUsm0uREMttJqwM8CNREWOBHo8xjLlFY9BV5efleO/HQ9aKEyWadhatpy4NNRri22ZlDQcOpaOVGJRGCi+g8D+wT+ww/FPtwsKyt555ZNttoSalLUZ4EREWkzM+gV7kq29qOjpJOJxUUA7ArnK2CYh3k5rhNtEvwlJ5U4m5yHgejzjFXliDLPwZaTudWg3HMEpc3dhxa6+ecHOJbkiVwuoUQs0mcublCXfjItpwzcW3j8lBloUZdegus+nu9+YVmCyeLiwUOnNah6Lm7SC6kpgXSL7iHRRz/AChdQVy9j5zuTo0Z1JVPeOvaRoNloin6on7W+XnbZeRz/ID5m1p9n2/aLFACf8gPmbWn2fb9osUAMZMgAAAAAAAAAAAZS7Gqystn5juzg1Yyl2NVlZbPzHdnABxXg3uZLa36vi9+iBSomrg3uZLa36vi9+iBSoAAAAAAAAAAAADKXY1WVls/Md2cGrGUuxqsrLZ+Y7s4APlZabVXRuz8u3ZsAtNqro3Z+Xbs2AAtTg39RNQekCpN8UKqEq8G/qJqD0gVJvihVQAD54XQ1l1b9eR3t1j6Hj5+XklEwk90amZmEOtpURM4iLaxLQtp1xS0KLrxJRDatfeZzr8RoydpRkl0Un9Cj8j3VpMvrx72DA/zLC1ayz68Z9g+PNyTZRHyu1zr0dDqaTMZm9Fw+cWBqa7m2glftbUP8yspRHzS17T8DDqdTL5mzFRGaWJpa7m4g1fvLSPmf5/4m36Of8keXHX0f7/Qlm1+sukvryB9ugfQ8fP2zcoj5zdGmWZfDqdVDzOHi3cC0JaacJa1H1YEkx9Ah9uveRqfhzGStK0mujkvoBz/AChdQVy9j5zuTo6AOf5QuoK5ex853J0ap0U5/kB8za0+z7ftFigBP+QHzNrT7Pt+0WKAAAAAAAAAAAAAAZS7Gqystn5juzg1Yyl2NVlZbPzHdnABxXg3uZLa36vi9+iBSomrg3uZLa36vi9+iBSoAAAAAAAAAAAADKXY1WVls/Md2cGrGUuxqsrLZ+Y7s4APlZabVXRuz8u3ZsAtNqro3Z+Xbs2AA6bke5Cdjb22vm1W1o9VqJhC1dPJWRy+fvwza2mYxZIM20+CSsD0mkiI8McMcTPuXFZ5MHjdwO1UQPa8G/qJqD0gVJvihVQAkDis8mDxu4HaqIHlwPBlZO0sStMtn9y4RLmhZMVjFNkr6c0yxFaAGcHmcI1FyzWV4kgq4LXJiWo1rjbgqUo8TM6riDMzBPBa5MSFEtEbcFKkniRlVcQRkYr4APWOwkuO4MrJ2maUImU/uXFpb0IJ+sYpwk/RiZ4DxOKzyYPG7gdqogV+AZyeYQjTXLBYXgSBxWeTB43cDtVED+UVwVeS7Fwr0KuMuASXm1Nmf6UPKwIyw5FEaT+gyMusjFiAB6PmZkdZENvbyWqmNRVJcy6kA5K6nm0hhIaV1StiHag4R82mUJQaFYYIIi5cNHIQ7pxY1m/K7ertkr8oe14N/UTUHpAqTfFCqgBIHFjWb8rt6u2Svyg4sazfldvV2yV+UK/AASBxY1m/K7ertkr8oQll803abJ2mzdr7LXOutPa3h20xs6djatdehZRDGRGlK0oQnF1eck8DVglJliRmohf+XdllMZOFLQ9E0ETU0ujVjZsySASRL+BoVin4Y6nkwI8cxKtClJP5KVD5UXBpB2jbQVRMZ9MXJtVlRLaiZ1M31mtx11cQhak5x6TLEzxPpPSfQRatxdQt3GD3k0l89yd0fQbjV6da4h0p0oSlJ+SbSXi8fBde7P8AG0tQN07OJNMMpCprmRVET1tpRzmm6oiGoiWmssSU60slk4kjMsSLNPAzMjUZZp/Tel+Duyea1p6X1XSd9bwTWUTRhMTBxkLW5uNPNqLElJUTQgOlZTCTC3cllcwhm3mXZTDIcbcSRkeLScSMh0nIzymptkg3JhrY1xM3X7R1bGdzYfiHDMqfjVnoWRnjg0o8M8tBYeGWlKiVpWGpq5m6NTpJN48f3LPxXwNPRrWnqNnmVKUYuSe8W0v/ABb+RY/FjWb8rt6u2SvyhlrrcHZauirXVhWUou1eRcfIZBMJnCpfrBamzeYh1uIJZE2RmnOSWJEZaOkhcrTrb7SHmXEuNuJJSFJPElEfIZH0kMFlC6grl7HzncnRLnOyI8kng78ny6GTdQFwamiKzRNJ7KExcWUHUTzDPdDWojzG06Elo5CHXeKzyYPG7gdqogb/ACA+ZtafZ9v2ixQAAkDis8mDxu4HaqIDis8mDxu4HaqIFfgAJA4rPJg8buB2qiA4rPJg8buB2qiBX4ACQOKzyYPG7gdqogOKzyYPG7gdqogV+AAkDis8mDxu4HaqIHpK34M3Jqpqi5/UcC/XTkTKpXFRrKHqpiTQpbTSlpJREZGZYpLHAyPDpIW0MpdjVZWWz8x3ZwAfHS29oaamdu6WmT8dM0uxclgX1kh1skkpTCDPDFHJiYDcWm1V0bs/Lt2bAAWpwb+omoPSBUm+KFVCVeDf1E1B6QKk3xQqoAAAAAAAAAAAAAAABKvBv6iag9IFSb4oVUJV4N/UTUHpAqTfFCqgAHEMrbKmo/JVtk/V86zJhPo8zhafkqF4PTCLMtBYFpJtOg1rw0FgRYqUkj2d7700Nk/22m1z7gzIoaWStozQ0ky7tGPmXxcOykzLPcWegi6NJmZERmXx+mtW1vlHXKico28SFIU6eZSsiNRmzLIMjxbMkn04ac7pUZr6U4a11dQtKbqT/wDpNaBodzxBextLdeb7Irvf2Xazxqegaun9TzW9t3pguaV7VLin3FOnimBZV+qy2nkQRJwSRF+qkiSXIeOXyg3jK2UxzjxN15hP0/GEf+w6Q66t5w3HDxUY4PfStSqWGiaHpWBcmSpcZRs0iGfCbYQ3jinEukj5erk5ccKnb1Kt9exqy7Gn4JH6C1izseGOGatjR6OUJRS3lKTXh1b7X3LuSO0SNj4LJJfC4YdxhWm/2IIh6ytKZl9TyaIlcwazmYhGYoy5UK+SsuoyMeZSs+g6np2Xz6AwJmMYS4Scccw+RST85GRl9g9mtBOINCuRRYGI7mnSq52aZcFRt7+yVNYlTlFY7mmvo0V3wXuUpM6wpSY5N1x5kTlXW+bSUsdcUZrmEn0E2rE+U2s5Kf8AsU3oxJRir8oXUFcvY+c7k6PjAqtZ9Ye6VJ5QdLIdVF0pHIbmcO2rN+GS5w811pR+dKlJIzI8DUR/JH2Lu1UsorPJcrWrpBFJiZZOqCmUwg3knocZdl7i0K+0lEL3ZXKuqKqdvb5n5T4n0SWgalO0fu7xffF7fLZ+KMnkB8za0+z7ftFigBP+QHzNrT7Pt+0WKAG2V8AAAAAAAAAAADKXY1WVls/Md2cGrGUuxqsrLZ+Y7s4APlZabVXRuz8u3ZsAtNqro3Z+Xbs2AAtTg39RNQekCpN8UKqEq8G/qJqD0gVJvihVQAAAAAAAAAAAAAAACVeDf1E1B6QKk3xQpKr6upugqYmVZVhOIaVSaTwy4uNjIhea200ksTMz+4iLSZmRFpMTTwdETDwdgaljIt9tlhivamcdccUSUoQUYozUZnoIiLpEbZXuUpM8s24DtrqBmL8JZykYzGYx7K1I/SCLR1GWhTST/ULz90PSaCLHVqwoQdSbwkbmn2FxqdzC1to805PC/V+C7TJXmvNUeW5c4q9qKHiZdaumHlt0xJHtHw1ZHgcS+nE0qWrDA8NBERILHBZqRD5vrzjIkpIsEpLkSXUMfV90aBoCFalK4tlsoNCWoeWwSSU4lJFoLNLQnR/SMhxytLr3OqJyDlUlla5AzN3fg8K1j/xb5HoxMz0oLSWkiLl5TwFUrQudVq879mPZnosfc7/ptxo3Adk7aLdWv051Bc0uZ9Em9orLwk2n3Jt9dxXVdzmppyq21tXM+PX4MxmKFeBBt44KIlf0ugz5S5C8Lk2FF2+kNFSA5HBME8cQkyjH3ElnxKjLAzV5tJkRdBfaY/2gKGlVByJqWQLZKiHCJcXEHpW87hpMz6iPHAugvPiY0wj69eKj6Gh0ivm33v7LsLbpelVZ1f4lqeJV5LCW8acX/wAMfH+9LdvpscktQ67RVXT21ccsyYbcOPlKlnpWyrlSR9OBYHo6SWOtjkt9IV6QLklzpWhJRskikNPdHdWFn+qZ9WJmX98xsKGuTTFfQndZNF5kShOL0G9gl5vz4dJaS0liQyXVOVeCu4ro/e8Gv13NLQrujpdzU0CtNKUHmmm/epy6pLvcHmOO5I8+ppTDTaBiJfFt5zEayth0vMZYft/AU3kM3Xi6lyFbzWZnjq1TW2MlnkE2alGZrgIiEiHGT06dCyfSRcmaSMBO8cjPh1dafCIesspV7tuL115K1xhsy25NsqhlzqDVg2uLZgHnWjMuTO+JzSP/AKpl0iS0GvibpPt+q/Ypv4saUqlrTv4rrB4flL9Gl8z6h5AfM2tPs+37RYoAT/kB8za0+z7ftFigBaTgwAAAAAAAAAAAGUuxqsrLZ+Y7s4NWMpdjVZWWz8x3ZwAfKy02qujdn5duzYBabVXRuz8u3ZsABanBv6iag9IFSb4oVUJV4N/UTUHpAqTfFCqgAAAAAAAAAAAAAAAHwWuLlgVDIrOTfJboZ2LgYea1lPY+pZjCn8dEQz0cvMg2cD/VUlOcs/lEpKeTOI8FL1XGn0hhqakrKKIplpGaTLR50Y/1qWvQrOM9Jn4P0GP3QEBKqUudUtKREtaQT0dHHKIlxBG4plmJdZUklnp/+s/3VDfuINtxSD+SZkK/ql7KFT0Sjt2vr8UtjsHAfDNG6s/XpVnieU4x9l9H7spL2sPfCaz0zky8goKlqUQqNbhieiUpNbkZFKz16NJqxPQn7MB/K00tcresJhcuPbUcFBGqClCFp0YFoU4X2Gf2qPqHhXJmEbHfAaCkZkcyn7hNK/6bHylH1Ef8CUOx03IYGmJFBSGXIzWIJom09aj6VH5zPEz+kRVWtOFFzm8zn0X/AG9vz28sl8sdPt7rUo2ttBRoW2JNJYTqteyvHlXtPxccnswABEl/MHfKFOLtdO0EWJoQ07+66k/9hztuiIOppHKKnk8W5KJ58EZdTGQxmnOXmFjnkXLpx08v08g7DX0D/KNET6CJOKnZdEEn/u7mZl9+A5va+I+E0HKF445rSm/3VqT/ALCVtqs6drzQeGpfVfsUTWNPoXuueiuY80Z0finCe6e6a5+jXU/rTt35pIYlFM3WhChXl+AxNWk/EPedWGgvpL7SIeLd59MMulqtgIkjQxGqY7q0vQpt5GnSXKRkky+0aCdS2XTeBXLpnCNxLLpYGhZY4ecuo/OWkcaqCk6gTMioKiIqOnTCiXMlyxts3lQSWkKWtwzIvBQlGepR6MElirkxG9p8adWvGpTXLLtXY+/Hd9Cq8X1ruw0mraXcvTUZJKMm0qkXlOKl2TWVuva709z7s5AfM2tPs+37RYoAT/kB8za0+z7ftFigBaDhIAAAAAAAAAAAGUuxqsrLZ+Y7s4NWMpdjVZWWz8x3ZwAfKy02qujdn5duzYBabVXRuz8u3ZsABanBv6iag9IFSb4oVUJV4N/UTUHpAqTfFCqgAAAAAAAAAAAAAAAHxnuBY6LqnI1ib/UnCGqorZXJqR6J7k3it+Vux2DqTMixMkLzV6dBIN0+kcpXPZbGSZqqUOkiBfhSijUr5CSLFRH5ywwPzj6bcH5JJZUuTdWFOzqERFS+aVtVMHFsLLFLrLkUtC0n5jSZkPkllAW/n1g7m1Fkzz6MXCSiBnXdYOZxPK5KnfjGlaCwPFJpM835ZKTo0iM1Gy9aUZLdb+ReuC+J3oUq1GfWM1mK7OddFnuT7X4I95ZaTRFQzaZXTm7KknGKVCyttenubCTwNRfThhiXUrrHYRgJVdO0kllsNKZdVME1DQjSWmkES9CSLAugeV35rY/O+D/Yv8BVrmncV6jkqbS2Sw+iWx3TRL3SdKs40JXdOU3mU3zx9qcusnv37dywjagMV35rY/O+D/Yv8A781sfnfB/sX+AweqXH9x/Jkt/H9J/6qn/nj+psItkomFehz5HW1I/aWA4PZiJV+iD0K7oODjnmiLqLQr+JmOkd+a2Pzvg/2L/Ac4slQNyr33Gm1prHSz4Y9Npo7FKmqs5MNLoE15pxDqiLwEkRp04YmehJGoyISVjZ1qtOdJxay0+qxtn9SlcUcR6bY3ltfwrRmoxqRajJSftKLXRPvj29DRSuAru6tdQdo7NyRydVVM1ZqjQXxMC38p11fIhKSPEzPQXnMyI/pnbzIqoXJRyWbmvpU1Pa7m9Fzk53UTrfxjhnBuqNhjHShkjItHKsyJSvkknrmSfkkW5yUaGKQUuyUwn8wShyeT99GERMHixPrPMaSZnmoI8CLSZmozUezyhdQVy9j5zuTos9raQtYcsd+1nDde1+61+49NXeIr3Y9iX3fe/t0Of5AfM2tPs+37RYoAT/AJAfM2tPs+37RYoAbRBAAAAAAAAAAAAZS7Gqystn5juzg1Yyl2NVlZbPzHdnAB8rLTaq6N2fl27NgFptVdG7Py7dmwAHTcj3Ihtzee182qiobiXNlb8HV08lbUPJalVCQxNMxi80ybzDIlHnGajLAjPThiZjuXFjWb8rt6u2Svyh7Xg39RNQekCpN8UKqAEgcWNZvyu3q7ZK/KDixrN+V29XbJX5Qr8ABIHFjWb8rt6u2Svyg4sazfldvV2yV+UK/AASBxY1m/K7ertkr8oOLGs35Xb1dslflCvwAEgcWNZvyu3q7ZK/KHo664N+01OURUNQy+7l5jipXKouNYJysVGg3G2VLTnF3MsSxSWOkW2MpdjVZWWz8x3ZwAQdkm8HlYO7GT5Rt0qxmVcPT6rYAprMnGKjeZQuIWoyWokpLlUac4zUZmZmenDAi6fG8EvkjTJ0n5jBVlFOJLNJb9ROrURdWJlyDpuQHzNrT7Pt+0WKAAEVcUNkbf1JVXr5z3Q4obI2/qSqvXznui1QAEVcUNkbf1JVXr5z3Q4obI2/qSqvXznui1QAEVcUNkbf1JVXr5z3R5kDwT2SZLEqTLWK2hCWeKiYqR5slfTmkWIskABIHFZ5MHjdwO1UQMld3g08m2krUVpVcsfrhyMktPTGYQ6YipohbSnWYZxxJLT8pOKSxLpLEXYOf5QuoK5ex853J0ARPkn8Hpk93Wycbf3DqVdYszSeSZqJi0QNRxDDHdMVJM0N4mScc3EyLRiZ4ERaB1nis8mDxu4HaqIG/wAgPmbWn2fb9osUAAJA4rPJg8buB2qiA4rPJg8buB2qiBX4ACOI/gv8luXQMRMHoyvybhmlvKM6piD0JIzPQX0Dx4nJVsbWUK1T8VQTDCG4c0d2ljqoOJzUowx7q2acVnh+srHSeJiobpTVuWUk+g1GTkY4iHbwI+XHOPHDk8FKvuLpHPbfLbJ6MmLqtDaSaSXWZnif8C/aOT8b6pXWs2tnbzceRczw2t3s8eEfzLBptBK0qVpLOei/38TlzfBbZLrqEuNxtfqSsiURlVcRgZGP1xWeTB43cDtVECqqZjvh8mYcMsFN5zJ+FjjmngRn5zIiPzY4D2o6lb1o3FGFaO0kn80QVSDpzcX2EgcVnkweN3A7VRA9JW/Bm5NVNUXP6jgX66ciZVK4qNZQ9VMSaFLaaUtJKIjIzLFJY4GR4dJC2hlLsarKy2fmO7ODMeD46W3tDTUzt3S0yfjpml2LksC+skOtkklKYQZ4Yo5MTAbi02qujdn5duzYAC1ODf1E1B6QKk3xQqoSrwb+omoPSBUm+KFVAAAAAAAAAAAAAMpdjVZWWz8x3ZwasZS7Gqystn5juzgA5VkB8za0+z7ftFigBP8AkB8za0+z7ftFigAAAAAAAAAAAAAHP8oXUFcvY+c7k6OgDn+ULqCuXsfOdydAHP8AID5m1p9n2/aLFACf8gPmbWn2fb9osUAAAAPGjZlL5a13eYx0PCtGokkt5wkFifIWJ9I8ylGC5pPCPqTk8I5JfqdpRFyySoxxbbXEuYlo8I81OB/3VY/SQzFPx6YGSJMlnnPqU4rT9hfcX3jPXXqdue1zMImHdz4do0MMHhyoSRFiXWRqzjI+ox4UROCYh0MJXobQSS09RD87ahfLUuILu8i8xT5V5LpleeM/E6JaWLp2VKk113fx6/c7raOdqj2pnLlOZxMOIeRiZmZZ5GRl1EXgEf0mY6HiRcpiRqWuE5Sk6VM0xT7aFsrZWTRJUaiMyPDBWjlSWnlIf7Ut9phMCWy03EOsmRFhExKjSoi0ligtGOIvmmcZ0NO0+FCpBynHK7EsZ6dfLpsRl3w1cXV05UukXj9ytCioU3O5FENmvkzSUWIzN2NVlZbPzHdnBKtIPVpdWqWaelESmFQ58ZEvNtEaIdktCln0ny4EWOkzItHKVPV/LG5LZep5S0+++iEpqPaJx9w3HF4Qy9KlHpMxauHddr67CdWdDkguifNnL+S27yH1jSY6S4wdTmm+rWNl+58uLTaq6N2fl27NgFptVdG7Py7dmwFlIUtTg39RNQekCpN8UKqEq8G/qJqD0gVJvihVQAAAAAAAAAAAADKXY1WVls/Md2cGrGUuxqsrLZ+Y7s4AOVZAfM2tPs+37RYoAT/kB8za0+z7ftFigAAAAAAAAAAAAAHP8oXUFcvY+c7k6OgDn+ULqCuXsfOdydAHO8g1b7WRbaxyGYJ55NOINDZrzc9WevAsejHrG4qS6r8kX8FmJwklfUakk3GH8YrAi0t4mRLwM/1iJRGMXkB8za0+z7ftFjtVS0pTlYyxcnqeTQ0xhF4/FvIxzTwMs5J8qVYGeCiMjLrEXqtpd3dHls6zpy8lh+fTK818mbdnVoUqi9YhzR/P9H/vqcfm1fTiYMkf8tvrb/WSbLhNpPR0mjAzI+o8S8wxUznmco1qWRqMsDUZ5x4fSPGuXkj1FJDfndoJ5EutkWccrffzHscdPc3dBK6PBVgeg/CMzIhOsxq2v6VmL0mnyo2Gi4dWa7DRzRktJ+fOLHD+I4zrVrqFrUxqkZPuk5OUX5P7b+B0TTLa0uoc1lUT8MYa81/tHaZpOG3DI3DJWaeJY9BjOR88xx8P7xzhu5cY8WbGwZKP+k0Zl9x/iP8AVVOzGF8WtSTPoWWBiJg6SWIYX5EzC2lD3jTRs5xx8P7x4sohpvVk7hKekUKuKjo50mmW09JnymZ9CSLEzM9BERmYy0RGPuch/eLKyQ7eyKWUO1cHO+Ezec91aUtRf/GaQ4ae5pLzmjOM+nwerTMaJo71m8VvnCXVvwWNvHrgwapqMdJtXXxl7JePj4HTLT2yldr6ZRKIVRPxr5k7HRZpwN53Do6klyEX28pmY8q7Gqystn5juzg1Yyl2NVlZbPzHdnB3K3t6VpSjQorEYrCRyOvXqXNSVaq8yfVs+VlptVdG7Py7dmwC02qujdn5duzYDMYi1ODf1E1B6QKk3xQqoSrwb+omoPSBUm+KFVAAAAAAAAAAAAAMpdjVZWWz8x3ZwasZS7Gqystn5juzgA5VkB8za0+z7ftFigBP+QHzNrT7Pt+0WKAAAAAAAAAAAAAAc/yhdQVy9j5zuTo6AOf5QuoK5ex853J0Ac/yA+ZtafZ9v2ixQAn/ACA+ZtafZ9v2ixQAACesq+XyScokUqjoCGeeLuzxuGhPdUJ8EiwX+skjPHRyGaS/oihRLt8pimZ3AjjS4TiIBluFJScDIs0s5RYly4KWouvHEugc/wDxM1H1DQJxi8SqSjFfPmf5RZY+FaXpNRjP+6m/t9yYZpTMNBzF6FhDUtps8CNfLjhp+8fhuRf2Bvjk633VPOI8JajUf0mOoWjsP+nPdprPFPwkobSpttbWCXHneTwcSMs1PSfWWHXhxrSba71evGztVzTa+Cxu2+xHQ7zUKVnTdaq8JE9NyMy+SK6yPpqgqQm9LrJROy+NKJTiRERtupwIi6TMlNqx/wC4hjKyyd6npdTkVLWznEAR6HIdB91SX9pvSf2pxLDSeHR7XJ2iP5CrlUEsldzmkKtgsCLAnE4LSZn1YJUWjpMhaOHHecP8Q0aF/Bw5249dnnosPZ9cbEJq9ejqmmzlQlzY6+WPDyyU8MpdjVZWWz8x3ZwasZS7Gqystn5juzg76c0PlZabVXRuz8u3ZsAtNqro3Z+Xbs2AAtTg39RNQekCpN8UKqEq8G/qJqD0gVJvihVQAAAAAAAAAAAADKXY1WVls/Md2cGrGUuxqsrLZ+Y7s4AOVZAfM2tPs+37RYoAT/kB8za0+z7ftFigAAAAAAAAAAAAAHP8oXUFcvY+c7k6OgDn+ULqCuXsfOdydAHP8gPmbWn2fb9osUAJ/wAgPmbWn2fb9osUAAPw862w0t95aUNtpNSlKPAkkXKZn0EI8my1zmZxcbmZq4+JcfUSiwPw1GpWOHTpP7RVlZw0dGUrNYOWsG9EvwrjSGyw8LOLAy06OQzE40/SU1n1SNyGHYNqIQaze7oky7gSTwUpRebHDDrMiHEvxZV3fXdjp1vTcuZyfRdHJ4SWdspJvyeS38MTp0IVa03jb4JdTyKAtq7WE2Jk/i4GHMlxbpcub/QT/aP7ixPqI6YgICDlkGzL4CHbYh2EEhttCcEpIuoh4lO0/LqZlbUqlrWa22WK1mRZzi+lajLlM/wLoHsx0DhDhelw1Z8sutaXWcvsvBfm+vlDatqc9Rq9OkFsvv5gehjKJp2LnELP0wKYeYQrpuk+wRJNwz5SWWGCses9PUZD3wCzV7ajcpRrRUkmmsrOGuqa7muxkZTqzpPMHgDKXY1WVls/Md2cGrGUuxqsrLZ+Y7s4M54PlZabVXRuz8u3ZsAtNqro3Z+Xbs2AAh+4lw6/kdxatlUkrioJfBMVBMu5Q0LM32mkYxTijzUJURFiZmZ4FymZjP8AfZup5S6r9cxPvgAAd9m6nlLqv1zE++HfZup5S6r9cxPvgAAd9m6nlLqv1zE++HfZup5S6r9cxPvgAAd9m6nlLqv1zE++HfZup5S6r9cxPvgAAd9m6nlLqv1zE++Py9dO50Q0th+49UONOJNC0LnEQaVJMsDIyNekjIAAH4hLnXJgIVmAgLhVLDQ0M2llllmbRCENoSWCUpSS8CIiIiIi0ERD+vfZup5S6r9cxPvgAAd9m6nlLqv1zE++HfZup5S6r9cxPvgAAd9m6nlLqv1zE++HfZup5S6r9cxPvgAAd9m6nlLqv1zE++HfZup5S6r9cxPvgAAd9m6nlLqv1zE++Py9dO50Q0th+49UONOJNC0LnEQaVJMsDIyNekjIAAH4hLnXJgIVmAgLhVLDQ0M2llllmbRCENoSWCUpSS8CIiIiIi0ERD+vfZup5S6r9cxPvgAAd9m6nlLqv1zE++P0d27rGkkHc6rDSWki/lqJwL/9gAwVfeh5/ZnuG0vL7o/PfZup5S6r9cxPvh32bqeUuq/XMT74AM54HfZup5S6r9cxPvh32bqeUuq/XMT74AAHfZup5S6r9cxPvh32bqeUuq/XMT74AAPoBabVXRuz8u3ZsAAAf//Z)"
      ],
      "metadata": {
        "id": "DE7O4eGf9VtQ"
      }
    },
    {
      "cell_type": "markdown",
      "source": [
        "Now we add obstacle. We can use a matrix to represent the maze. An obstacle and space are marked as 1 or 0 respectively. A path that the robot takes cannot include any square that is an obstacle.  \n",
        "In fact, clue is very similar. we just need to add an if condition when we apply optimal substructure, that is, whether here is an obstacle."
      ],
      "metadata": {
        "id": "Uv2_OiHk9Z6j"
      }
    },
    {
      "cell_type": "code",
      "source": [
        "# Time: O(mn)\n",
        "# Space: O(mn)\n",
        "\n",
        "def uniquePathsWithObstacles(obstacleGrid):\n",
        "        path = [[0]*len(obstacleGrid[0]) for _ in range(len(obstacleGrid))]\n",
        "        path[0][0] = 1 if obstacleGrid[0][0] == 0 else 0\n",
        "\n",
        "        for i in range(len(obstacleGrid)):\n",
        "            for j in range(len(obstacleGrid[0])):\n",
        "                if obstacleGrid[i][j] == 1:\n",
        "                    path[i][j] = 0 # encountering obstacle\n",
        "                else:\n",
        "                    if i-1>=0:\n",
        "                        path[i][j] += path[i-1][j]\n",
        "                    if j-1>=0:\n",
        "                         path[i][j] += path[i][j-1]\n",
        "        return path[-1][-1]"
      ],
      "metadata": {
        "id": "-pDRfNZi965D"
      },
      "execution_count": null,
      "outputs": []
    },
    {
      "cell_type": "markdown",
      "source": [
        "### House Robber I\n",
        "OK let's consider another problem combining money and path: to ROB!  \n",
        "Assume we are a professional robber planning to rob houses along a street. Each house has a certain amount of money stashed, the only constraint stopping us from robbing each of them is that adjacent houses have security systems connected and it will automatically contact the police if two adjacent houses were broken into on the same night.  \n",
        "We are given an integer array nums representing the amount of money of each house, and we shall return the maximum amount of money which we can rob tonight without alerting the police.\n",
        "\n",
        "\n",
        "\n",
        "1.   Find its optimal substructure.  \n",
        "While we are scanning the array, nums, the key point is whether or not we rob the kth house. Note that if we choose yes, that is, rob kth house, then it means we didn't rob the k-1th house, so the money we have robbed will be kth's money + money robbed from 1th to k-2th houses. If we choose no, that is, not rob kth house, it means we get money from 1th to k-1th houses. Thus we derive optimal substructure  \n",
        "money[k] = max{money[k-1], money[k-2]+nums[k]}\n",
        "2.   Prove overlapping and no-aftereffects.  \n",
        "When we calculate money[k] we use solutions calculated before so it is overlapping. And obviously it is no-aftereffects.\n",
        "3.   Memorize subproblems' solutions.  \n",
        "We use memo to store useful solutions and other helpful information to avoid recalculating.\n",
        "\n",
        "\n",
        "\n",
        "\n",
        "\n",
        " \n"
      ],
      "metadata": {
        "id": "cE507AkIjMfW"
      }
    },
    {
      "cell_type": "code",
      "source": [
        "# Time: O(n)\n",
        "# Space: O(1)\n",
        "\n",
        "def rob(nums):        \n",
        "    prev = curr = 0 # Just use two variables as memo instead of an array\n",
        "    for num in nums:\n",
        "      temp = prev # nums[i-2]th value\n",
        "      prev = curr # nums[i-1]th value\n",
        "      curr = max(num + temp, prev) # Here we just plug into the formula\n",
        "    return curr"
      ],
      "metadata": {
        "id": "MSym8dRPr_9S"
      },
      "execution_count": null,
      "outputs": []
    },
    {
      "cell_type": "markdown",
      "source": [
        "### House Robber II\n",
        "Based on problem above we change a little: if this street is a circle, how to rob?  \n",
        "\n",
        "\n",
        "1.   Find its optimal substructure.  \n",
        "Not only adjacent houses but also the first and last should be dealt with. Assume there are n houses. If we choose to rob 1th house, then we can only choose the rest from 2th to n-1th because nth is also adjacent to 1th. And if we choose not to rob 1th house, then we can choose the rest from 2th to nth. With the help of function rob(nums) above, we have  \n",
        "max_money = max{nums[0] + rob(nums[2:-1]), rob(nums[1:])}\n",
        "2.   Prove overlapping and no-aftereffects.  \n",
        "For overlapping it is just similar to above. For no-aftereffects, if we see this problem as a whole problem, then clearly choice of 1th will have aftereffects on nth. However, we segment this problem into two independent ones, which leads to no-aftereffects.\n",
        "3.   Memorize subproblems' solutions.  \n",
        "We use memo to store useful solutions and other helpful information to avoid recalculating.\n",
        "\n",
        "\n",
        "\n"
      ],
      "metadata": {
        "id": "GWAdwtJHtlXz"
      }
    },
    {
      "cell_type": "code",
      "source": [
        "# Time: O(n)\n",
        "# Space: O(1)\n",
        "\n",
        "def rob(nums):\n",
        "        def rob_helper(nums): # actually the rob function above\n",
        "            prev = curr = 0\n",
        "            for num in nums:\n",
        "              temp = prev\n",
        "              prev = curr\n",
        "              curr = max(num + temp, prev)       \n",
        "            return curr\n",
        "    \n",
        "        return max(nums[0] + rob_helper(nums[2:-1]), rob_helper(nums[1:]))"
      ],
      "metadata": {
        "id": "PqI9MUeTyFNa"
      },
      "execution_count": null,
      "outputs": []
    },
    {
      "cell_type": "markdown",
      "source": [
        "## Conclusion\n",
        "\n",
        "This is basically what DP is and how it works. The most important things \n",
        "1.   find its optimal substructure\n",
        "2.   prove overlapping and no-aftereffects\n",
        "3.   memorize subproblems' solutions\n",
        "\n",
        "Just remember: to find, prove and memorize."
      ],
      "metadata": {
        "id": "9Gj_EWkNB11U"
      }
    },
    {
      "cell_type": "markdown",
      "source": [
        "## References\n",
        "\n",
        "\n",
        "*   Algorithm Design, JON KLEINBERG, EVA TARDOS\n",
        "*   https://en.wikipedia.org/wiki/Dynamic_programming\n",
        "*   https://www.jiuzhang.com/solution/best-time-to-buy-and-sell-stock-iv/\n",
        "*   https://leetcode.com/problems/unique-paths/discuss/254228/Python-3-solutions%3A-Bottom-up-DP-Math-Picture-Explained-Clean-and-Concise\n",
        "*   https://leetcode.com/problems/unique-paths-ii/discuss/146073/Python-DP-beat-100-python-submissions\n",
        "*   https://leetcode.com/problems/house-robber-ii/discuss/893957/Python-Just-use-House-Robber-twice\n",
        "\n"
      ],
      "metadata": {
        "id": "0UO_2fphCqd5"
      }
    },
    {
      "cell_type": "markdown",
      "source": [
        "## License\n",
        "Copyright (c) 2022 Jianzhen Cao\n",
        "\n",
        "Permission is hereby granted, free of charge, to any person obtaining a copy\n",
        "of this software and associated documentation files (the \"Software\"), to deal\n",
        "in the Software without restriction, including without limitation the rights\n",
        "to use, copy, modify, merge, publish, distribute, sublicense, and/or sell\n",
        "copies of the Software, and to permit persons to whom the Software is\n",
        "furnished to do so, subject to the following conditions:\n",
        "\n",
        "The above copyright notice and this permission notice shall be included in all\n",
        "copies or substantial portions of the Software.\n",
        "\n",
        "THE SOFTWARE IS PROVIDED \"AS IS\", WITHOUT WARRANTY OF ANY KIND, EXPRESS OR\n",
        "IMPLIED, INCLUDING BUT NOT LIMITED TO THE WARRANTIES OF MERCHANTABILITY,\n",
        "FITNESS FOR A PARTICULAR PURPOSE AND NONINFRINGEMENT. IN NO EVENT SHALL THE\n",
        "AUTHORS OR COPYRIGHT HOLDERS BE LIABLE FOR ANY CLAIM, DAMAGES OR OTHER\n",
        "LIABILITY, WHETHER IN AN ACTION OF CONTRACT, TORT OR OTHERWISE, ARISING FROM,\n",
        "OUT OF OR IN CONNECTION WITH THE SOFTWARE OR THE USE OR OTHER DEALINGS IN THE\n",
        "SOFTWARE."
      ],
      "metadata": {
        "id": "13g3TroMc4ww"
      }
    }
  ]
}