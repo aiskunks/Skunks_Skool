{
 "cells": [
  {
   "cell_type": "markdown",
   "metadata": {},
   "source": [
    "# AutoML with H20.ai\n",
    "This notebook will be a part of Modeling node of the Klee project. This is a Jupyter Notebook we will execute the autoML using H20.ai library. This is part of the **Modeling** component of the Klee project.\n",
    "\n",
    "- H2O’s AutoML can be used for automating the machine learning workflow, which includes automatic training and tuning of many models within a user-specified time-limit.\n",
    "- H2O’s AutoML can also be a helpful tool for the advanced user, by providing a simple wrapper function that performs a large number of modeling-related tasks that would typically require many lines of code, and by freeing up their time to focus on other aspects of the data science pipeline tasks such as data-preprocessing, feature engineering and model deployment.\n",
    "\n",
    "##### We can see in this notebook that the ensemble model from h20.ai works best, as it is a combination of all the models tested.\n",
    "\n",
    "##### Limitation:\n",
    "The h20.ai library tests on alot of models, but because of low computational power on my system, it is testing on mostly tree based models. "
   ]
  },
  {
   "cell_type": "markdown",
   "metadata": {},
   "source": [
    "### Libraries used \n",
    "- We use H20.AI to investigate and select best features from the dataset. \n",
    "\n",
    "#### Input: \n",
    "The input to this notebook is Tabular dataset. Ex. Titanic dataset used in this notebook\n",
    "\n",
    "#### Output:\n",
    "Output of this notebook is the best model based on performance accuracy for the dataset"
   ]
  },
  {
   "cell_type": "code",
   "execution_count": 1,
   "metadata": {},
   "outputs": [],
   "source": [
    "# import the library\n",
    "\n",
    "import h2o\n",
    "from h2o.automl import H2OAutoML\n",
    "import os\n",
    "import pandas as pd"
   ]
  },
  {
   "cell_type": "code",
   "execution_count": 2,
   "metadata": {},
   "outputs": [
    {
     "name": "stdout",
     "output_type": "stream",
     "text": [
      "Checking whether there is an H2O instance running at http://localhost:54321 ..... not found.\n",
      "Attempting to start a local H2O server...\n",
      "; Java HotSpot(TM) 64-Bit Server VM (build 25.221-b11, mixed mode)\n",
      "  Starting server from C:\\Users\\Abhishek\\Anaconda3\\lib\\site-packages\\h2o\\backend\\bin\\h2o.jar\n",
      "  Ice root: C:\\Users\\Abhishek\\AppData\\Local\\Temp\\tmp41d858y9\n",
      "  JVM stdout: C:\\Users\\Abhishek\\AppData\\Local\\Temp\\tmp41d858y9\\h2o_Abhishek_started_from_python.out\n",
      "  JVM stderr: C:\\Users\\Abhishek\\AppData\\Local\\Temp\\tmp41d858y9\\h2o_Abhishek_started_from_python.err\n",
      "  Server is running at http://127.0.0.1:54321\n",
      "Connecting to H2O server at http://127.0.0.1:54321 ... successful.\n"
     ]
    },
    {
     "data": {
      "text/html": [
       "<div style=\"overflow:auto\"><table style=\"width:50%\"><tr><td>H2O_cluster_uptime:</td>\n",
       "<td>03 secs</td></tr>\n",
       "<tr><td>H2O_cluster_timezone:</td>\n",
       "<td>America/New_York</td></tr>\n",
       "<tr><td>H2O_data_parsing_timezone:</td>\n",
       "<td>UTC</td></tr>\n",
       "<tr><td>H2O_cluster_version:</td>\n",
       "<td>3.34.0.3</td></tr>\n",
       "<tr><td>H2O_cluster_version_age:</td>\n",
       "<td>11 days </td></tr>\n",
       "<tr><td>H2O_cluster_name:</td>\n",
       "<td>H2O_from_python_Abhishek_0glhyh</td></tr>\n",
       "<tr><td>H2O_cluster_total_nodes:</td>\n",
       "<td>1</td></tr>\n",
       "<tr><td>H2O_cluster_free_memory:</td>\n",
       "<td>3.530 Gb</td></tr>\n",
       "<tr><td>H2O_cluster_total_cores:</td>\n",
       "<td>8</td></tr>\n",
       "<tr><td>H2O_cluster_allowed_cores:</td>\n",
       "<td>8</td></tr>\n",
       "<tr><td>H2O_cluster_status:</td>\n",
       "<td>locked, healthy</td></tr>\n",
       "<tr><td>H2O_connection_url:</td>\n",
       "<td>http://127.0.0.1:54321</td></tr>\n",
       "<tr><td>H2O_connection_proxy:</td>\n",
       "<td>{\"http\": null, \"https\": null}</td></tr>\n",
       "<tr><td>H2O_internal_security:</td>\n",
       "<td>False</td></tr>\n",
       "<tr><td>H2O_API_Extensions:</td>\n",
       "<td>Amazon S3, Algos, AutoML, Core V3, TargetEncoder, Core V4</td></tr>\n",
       "<tr><td>Python_version:</td>\n",
       "<td>3.7.4 final</td></tr></table></div>"
      ],
      "text/plain": [
       "--------------------------  ---------------------------------------------------------\n",
       "H2O_cluster_uptime:         03 secs\n",
       "H2O_cluster_timezone:       America/New_York\n",
       "H2O_data_parsing_timezone:  UTC\n",
       "H2O_cluster_version:        3.34.0.3\n",
       "H2O_cluster_version_age:    11 days\n",
       "H2O_cluster_name:           H2O_from_python_Abhishek_0glhyh\n",
       "H2O_cluster_total_nodes:    1\n",
       "H2O_cluster_free_memory:    3.530 Gb\n",
       "H2O_cluster_total_cores:    8\n",
       "H2O_cluster_allowed_cores:  8\n",
       "H2O_cluster_status:         locked, healthy\n",
       "H2O_connection_url:         http://127.0.0.1:54321\n",
       "H2O_connection_proxy:       {\"http\": null, \"https\": null}\n",
       "H2O_internal_security:      False\n",
       "H2O_API_Extensions:         Amazon S3, Algos, AutoML, Core V3, TargetEncoder, Core V4\n",
       "Python_version:             3.7.4 final\n",
       "--------------------------  ---------------------------------------------------------"
      ]
     },
     "metadata": {},
     "output_type": "display_data"
    }
   ],
   "source": [
    "h2o.init()"
   ]
  },
  {
   "cell_type": "markdown",
   "metadata": {},
   "source": [
    "# Load the dataset"
   ]
  },
  {
   "cell_type": "code",
   "execution_count": 3,
   "metadata": {},
   "outputs": [
    {
     "data": {
      "text/html": [
       "<div>\n",
       "<style scoped>\n",
       "    .dataframe tbody tr th:only-of-type {\n",
       "        vertical-align: middle;\n",
       "    }\n",
       "\n",
       "    .dataframe tbody tr th {\n",
       "        vertical-align: top;\n",
       "    }\n",
       "\n",
       "    .dataframe thead th {\n",
       "        text-align: right;\n",
       "    }\n",
       "</style>\n",
       "<table border=\"1\" class=\"dataframe\">\n",
       "  <thead>\n",
       "    <tr style=\"text-align: right;\">\n",
       "      <th></th>\n",
       "      <th>PassengerId</th>\n",
       "      <th>Pclass</th>\n",
       "      <th>Name</th>\n",
       "      <th>Sex</th>\n",
       "      <th>Age</th>\n",
       "      <th>SibSp</th>\n",
       "      <th>Parch</th>\n",
       "      <th>Ticket</th>\n",
       "      <th>Fare</th>\n",
       "      <th>Cabin</th>\n",
       "      <th>Embarked</th>\n",
       "    </tr>\n",
       "  </thead>\n",
       "  <tbody>\n",
       "    <tr>\n",
       "      <th>0</th>\n",
       "      <td>892</td>\n",
       "      <td>3</td>\n",
       "      <td>Kelly, Mr. James</td>\n",
       "      <td>male</td>\n",
       "      <td>34.5</td>\n",
       "      <td>0</td>\n",
       "      <td>0</td>\n",
       "      <td>330911</td>\n",
       "      <td>7.8292</td>\n",
       "      <td>NaN</td>\n",
       "      <td>Q</td>\n",
       "    </tr>\n",
       "    <tr>\n",
       "      <th>1</th>\n",
       "      <td>893</td>\n",
       "      <td>3</td>\n",
       "      <td>Wilkes, Mrs. James (Ellen Needs)</td>\n",
       "      <td>female</td>\n",
       "      <td>47.0</td>\n",
       "      <td>1</td>\n",
       "      <td>0</td>\n",
       "      <td>363272</td>\n",
       "      <td>7.0000</td>\n",
       "      <td>NaN</td>\n",
       "      <td>S</td>\n",
       "    </tr>\n",
       "    <tr>\n",
       "      <th>2</th>\n",
       "      <td>894</td>\n",
       "      <td>2</td>\n",
       "      <td>Myles, Mr. Thomas Francis</td>\n",
       "      <td>male</td>\n",
       "      <td>62.0</td>\n",
       "      <td>0</td>\n",
       "      <td>0</td>\n",
       "      <td>240276</td>\n",
       "      <td>9.6875</td>\n",
       "      <td>NaN</td>\n",
       "      <td>Q</td>\n",
       "    </tr>\n",
       "    <tr>\n",
       "      <th>3</th>\n",
       "      <td>895</td>\n",
       "      <td>3</td>\n",
       "      <td>Wirz, Mr. Albert</td>\n",
       "      <td>male</td>\n",
       "      <td>27.0</td>\n",
       "      <td>0</td>\n",
       "      <td>0</td>\n",
       "      <td>315154</td>\n",
       "      <td>8.6625</td>\n",
       "      <td>NaN</td>\n",
       "      <td>S</td>\n",
       "    </tr>\n",
       "    <tr>\n",
       "      <th>4</th>\n",
       "      <td>896</td>\n",
       "      <td>3</td>\n",
       "      <td>Hirvonen, Mrs. Alexander (Helga E Lindqvist)</td>\n",
       "      <td>female</td>\n",
       "      <td>22.0</td>\n",
       "      <td>1</td>\n",
       "      <td>1</td>\n",
       "      <td>3101298</td>\n",
       "      <td>12.2875</td>\n",
       "      <td>NaN</td>\n",
       "      <td>S</td>\n",
       "    </tr>\n",
       "    <tr>\n",
       "      <th>...</th>\n",
       "      <td>...</td>\n",
       "      <td>...</td>\n",
       "      <td>...</td>\n",
       "      <td>...</td>\n",
       "      <td>...</td>\n",
       "      <td>...</td>\n",
       "      <td>...</td>\n",
       "      <td>...</td>\n",
       "      <td>...</td>\n",
       "      <td>...</td>\n",
       "      <td>...</td>\n",
       "    </tr>\n",
       "    <tr>\n",
       "      <th>413</th>\n",
       "      <td>1305</td>\n",
       "      <td>3</td>\n",
       "      <td>Spector, Mr. Woolf</td>\n",
       "      <td>male</td>\n",
       "      <td>NaN</td>\n",
       "      <td>0</td>\n",
       "      <td>0</td>\n",
       "      <td>A.5. 3236</td>\n",
       "      <td>8.0500</td>\n",
       "      <td>NaN</td>\n",
       "      <td>S</td>\n",
       "    </tr>\n",
       "    <tr>\n",
       "      <th>414</th>\n",
       "      <td>1306</td>\n",
       "      <td>1</td>\n",
       "      <td>Oliva y Ocana, Dona. Fermina</td>\n",
       "      <td>female</td>\n",
       "      <td>39.0</td>\n",
       "      <td>0</td>\n",
       "      <td>0</td>\n",
       "      <td>PC 17758</td>\n",
       "      <td>108.9000</td>\n",
       "      <td>C105</td>\n",
       "      <td>C</td>\n",
       "    </tr>\n",
       "    <tr>\n",
       "      <th>415</th>\n",
       "      <td>1307</td>\n",
       "      <td>3</td>\n",
       "      <td>Saether, Mr. Simon Sivertsen</td>\n",
       "      <td>male</td>\n",
       "      <td>38.5</td>\n",
       "      <td>0</td>\n",
       "      <td>0</td>\n",
       "      <td>SOTON/O.Q. 3101262</td>\n",
       "      <td>7.2500</td>\n",
       "      <td>NaN</td>\n",
       "      <td>S</td>\n",
       "    </tr>\n",
       "    <tr>\n",
       "      <th>416</th>\n",
       "      <td>1308</td>\n",
       "      <td>3</td>\n",
       "      <td>Ware, Mr. Frederick</td>\n",
       "      <td>male</td>\n",
       "      <td>NaN</td>\n",
       "      <td>0</td>\n",
       "      <td>0</td>\n",
       "      <td>359309</td>\n",
       "      <td>8.0500</td>\n",
       "      <td>NaN</td>\n",
       "      <td>S</td>\n",
       "    </tr>\n",
       "    <tr>\n",
       "      <th>417</th>\n",
       "      <td>1309</td>\n",
       "      <td>3</td>\n",
       "      <td>Peter, Master. Michael J</td>\n",
       "      <td>male</td>\n",
       "      <td>NaN</td>\n",
       "      <td>1</td>\n",
       "      <td>1</td>\n",
       "      <td>2668</td>\n",
       "      <td>22.3583</td>\n",
       "      <td>NaN</td>\n",
       "      <td>C</td>\n",
       "    </tr>\n",
       "  </tbody>\n",
       "</table>\n",
       "<p>418 rows × 11 columns</p>\n",
       "</div>"
      ],
      "text/plain": [
       "     PassengerId  Pclass                                          Name  \\\n",
       "0            892       3                              Kelly, Mr. James   \n",
       "1            893       3              Wilkes, Mrs. James (Ellen Needs)   \n",
       "2            894       2                     Myles, Mr. Thomas Francis   \n",
       "3            895       3                              Wirz, Mr. Albert   \n",
       "4            896       3  Hirvonen, Mrs. Alexander (Helga E Lindqvist)   \n",
       "..           ...     ...                                           ...   \n",
       "413         1305       3                            Spector, Mr. Woolf   \n",
       "414         1306       1                  Oliva y Ocana, Dona. Fermina   \n",
       "415         1307       3                  Saether, Mr. Simon Sivertsen   \n",
       "416         1308       3                           Ware, Mr. Frederick   \n",
       "417         1309       3                      Peter, Master. Michael J   \n",
       "\n",
       "        Sex   Age  SibSp  Parch              Ticket      Fare Cabin Embarked  \n",
       "0      male  34.5      0      0              330911    7.8292   NaN        Q  \n",
       "1    female  47.0      1      0              363272    7.0000   NaN        S  \n",
       "2      male  62.0      0      0              240276    9.6875   NaN        Q  \n",
       "3      male  27.0      0      0              315154    8.6625   NaN        S  \n",
       "4    female  22.0      1      1             3101298   12.2875   NaN        S  \n",
       "..      ...   ...    ...    ...                 ...       ...   ...      ...  \n",
       "413    male   NaN      0      0           A.5. 3236    8.0500   NaN        S  \n",
       "414  female  39.0      0      0            PC 17758  108.9000  C105        C  \n",
       "415    male  38.5      0      0  SOTON/O.Q. 3101262    7.2500   NaN        S  \n",
       "416    male   NaN      0      0              359309    8.0500   NaN        S  \n",
       "417    male   NaN      1      1                2668   22.3583   NaN        C  \n",
       "\n",
       "[418 rows x 11 columns]"
      ]
     },
     "execution_count": 3,
     "metadata": {},
     "output_type": "execute_result"
    }
   ],
   "source": [
    "# Use local data file or download from GitHub\n",
    "\n",
    "data_path = \"test.csv\"\n",
    "\n",
    "pd.read_csv(data_path)"
   ]
  },
  {
   "cell_type": "code",
   "execution_count": 8,
   "metadata": {},
   "outputs": [
    {
     "name": "stdout",
     "output_type": "stream",
     "text": [
      "Parse progress: |████████████████████████████████████████████████████████████████| (done) 100%\n"
     ]
    }
   ],
   "source": [
    "# load data into h20 \n",
    "\n",
    "df = h2o.import_file(data_path)\n",
    "# df = pd.read_csv(data_path)"
   ]
  },
  {
   "cell_type": "code",
   "execution_count": 9,
   "metadata": {},
   "outputs": [
    {
     "name": "stdout",
     "output_type": "stream",
     "text": [
      "Rows:418\n",
      "Cols:11\n",
      "\n",
      "\n"
     ]
    },
    {
     "data": {
      "text/html": [
       "<table>\n",
       "<thead>\n",
       "<tr><th>       </th><th>PassengerId       </th><th>Pclass            </th><th>Name                                        </th><th>Sex   </th><th>Age               </th><th>SibSp              </th><th>Parch              </th><th>Ticket            </th><th>Fare              </th><th>Cabin  </th><th>Embarked  </th></tr>\n",
       "</thead>\n",
       "<tbody>\n",
       "<tr><td>type   </td><td>int               </td><td>int               </td><td>string                                      </td><td>enum  </td><td>real              </td><td>int                </td><td>int                </td><td>int               </td><td>real              </td><td>enum   </td><td>enum      </td></tr>\n",
       "<tr><td>mins   </td><td>892.0             </td><td>1.0               </td><td>NaN                                         </td><td>      </td><td>0.17              </td><td>0.0                </td><td>0.0                </td><td>680.0             </td><td>0.0               </td><td>       </td><td>          </td></tr>\n",
       "<tr><td>mean   </td><td>1100.5            </td><td>2.2655502392344493</td><td>NaN                                         </td><td>      </td><td>30.272590361445786</td><td>0.44736842105263147</td><td>0.39234449760765555</td><td>223850.98986486494</td><td>35.627188489208656</td><td>       </td><td>          </td></tr>\n",
       "<tr><td>maxs   </td><td>1309.0            </td><td>3.0               </td><td>NaN                                         </td><td>      </td><td>76.0              </td><td>8.0                </td><td>9.0                </td><td>3101298.0         </td><td>512.3292          </td><td>       </td><td>          </td></tr>\n",
       "<tr><td>sigma  </td><td>120.81045760473994</td><td>0.8418375519640504</td><td>NaN                                         </td><td>      </td><td>14.181209235624422</td><td>0.8967595611217135 </td><td>0.9814288785371694 </td><td>369523.7764694362 </td><td>55.907576179973844</td><td>       </td><td>          </td></tr>\n",
       "<tr><td>zeros  </td><td>0                 </td><td>0                 </td><td>0                                           </td><td>      </td><td>0                 </td><td>283                </td><td>324                </td><td>0                 </td><td>2                 </td><td>       </td><td>          </td></tr>\n",
       "<tr><td>missing</td><td>0                 </td><td>0                 </td><td>0                                           </td><td>0     </td><td>86                </td><td>0                  </td><td>0                  </td><td>122               </td><td>1                 </td><td>327    </td><td>0         </td></tr>\n",
       "<tr><td>0      </td><td>892.0             </td><td>3.0               </td><td>Kelly, Mr. James                            </td><td>male  </td><td>34.5              </td><td>0.0                </td><td>0.0                </td><td>330911.0          </td><td>7.8292            </td><td>       </td><td>Q         </td></tr>\n",
       "<tr><td>1      </td><td>893.0             </td><td>3.0               </td><td>Wilkes, Mrs. James (Ellen Needs)            </td><td>female</td><td>47.0              </td><td>1.0                </td><td>0.0                </td><td>363272.0          </td><td>7.0               </td><td>       </td><td>S         </td></tr>\n",
       "<tr><td>2      </td><td>894.0             </td><td>2.0               </td><td>Myles, Mr. Thomas Francis                   </td><td>male  </td><td>62.0              </td><td>0.0                </td><td>0.0                </td><td>240276.0          </td><td>9.6875            </td><td>       </td><td>Q         </td></tr>\n",
       "<tr><td>3      </td><td>895.0             </td><td>3.0               </td><td>Wirz, Mr. Albert                            </td><td>male  </td><td>27.0              </td><td>0.0                </td><td>0.0                </td><td>315154.0          </td><td>8.6625            </td><td>       </td><td>S         </td></tr>\n",
       "<tr><td>4      </td><td>896.0             </td><td>3.0               </td><td>Hirvonen, Mrs. Alexander (Helga E Lindqvist)</td><td>female</td><td>22.0              </td><td>1.0                </td><td>1.0                </td><td>3101298.0         </td><td>12.2875           </td><td>       </td><td>S         </td></tr>\n",
       "<tr><td>5      </td><td>897.0             </td><td>3.0               </td><td>Svensson, Mr. Johan Cervin                  </td><td>male  </td><td>14.0              </td><td>0.0                </td><td>0.0                </td><td>7538.0            </td><td>9.225             </td><td>       </td><td>S         </td></tr>\n",
       "<tr><td>6      </td><td>898.0             </td><td>3.0               </td><td>Connolly, Miss. Kate                        </td><td>female</td><td>30.0              </td><td>0.0                </td><td>0.0                </td><td>330972.0          </td><td>7.6292            </td><td>       </td><td>Q         </td></tr>\n",
       "<tr><td>7      </td><td>899.0             </td><td>2.0               </td><td>Caldwell, Mr. Albert Francis                </td><td>male  </td><td>26.0              </td><td>1.0                </td><td>1.0                </td><td>248738.0          </td><td>29.0              </td><td>       </td><td>S         </td></tr>\n",
       "<tr><td>8      </td><td>900.0             </td><td>3.0               </td><td>Abrahim, Mrs. Joseph (Sophie Halaut Easu)   </td><td>female</td><td>18.0              </td><td>0.0                </td><td>0.0                </td><td>2657.0            </td><td>7.2292            </td><td>       </td><td>C         </td></tr>\n",
       "<tr><td>9      </td><td>901.0             </td><td>3.0               </td><td>Davies, Mr. John Samuel                     </td><td>male  </td><td>21.0              </td><td>2.0                </td><td>0.0                </td><td>nan               </td><td>24.15             </td><td>       </td><td>S         </td></tr>\n",
       "</tbody>\n",
       "</table>"
      ]
     },
     "metadata": {},
     "output_type": "display_data"
    }
   ],
   "source": [
    "# descriptive statistics for the dataset\n",
    "\n",
    "df.describe()"
   ]
  },
  {
   "cell_type": "code",
   "execution_count": 10,
   "metadata": {},
   "outputs": [],
   "source": [
    "# define the independent and dependent variable\n",
    "y = \"Fare\""
   ]
  },
  {
   "cell_type": "code",
   "execution_count": 11,
   "metadata": {},
   "outputs": [],
   "source": [
    "# split the data into train and test split\n",
    "\n",
    "splits = df.split_frame(ratios = [0.8], seed = 1)\n",
    "train = splits[0]\n",
    "test = splits[1]"
   ]
  },
  {
   "cell_type": "code",
   "execution_count": 12,
   "metadata": {},
   "outputs": [
    {
     "data": {
      "text/html": [
       "<table>\n",
       "<thead>\n",
       "<tr><th style=\"text-align: right;\">  PassengerId</th><th style=\"text-align: right;\">  Pclass</th><th>Name                                        </th><th>Sex   </th><th style=\"text-align: right;\">  Age</th><th style=\"text-align: right;\">  SibSp</th><th style=\"text-align: right;\">  Parch</th><th style=\"text-align: right;\">         Ticket</th><th style=\"text-align: right;\">   Fare</th><th>Cabin  </th><th>Embarked  </th></tr>\n",
       "</thead>\n",
       "<tbody>\n",
       "<tr><td style=\"text-align: right;\">          892</td><td style=\"text-align: right;\">       3</td><td>Kelly, Mr. James                            </td><td>male  </td><td style=\"text-align: right;\"> 34.5</td><td style=\"text-align: right;\">      0</td><td style=\"text-align: right;\">      0</td><td style=\"text-align: right;\">330911         </td><td style=\"text-align: right;\"> 7.8292</td><td>       </td><td>Q         </td></tr>\n",
       "<tr><td style=\"text-align: right;\">          893</td><td style=\"text-align: right;\">       3</td><td>Wilkes, Mrs. James (Ellen Needs)            </td><td>female</td><td style=\"text-align: right;\"> 47  </td><td style=\"text-align: right;\">      1</td><td style=\"text-align: right;\">      0</td><td style=\"text-align: right;\">363272         </td><td style=\"text-align: right;\"> 7     </td><td>       </td><td>S         </td></tr>\n",
       "<tr><td style=\"text-align: right;\">          895</td><td style=\"text-align: right;\">       3</td><td>Wirz, Mr. Albert                            </td><td>male  </td><td style=\"text-align: right;\"> 27  </td><td style=\"text-align: right;\">      0</td><td style=\"text-align: right;\">      0</td><td style=\"text-align: right;\">315154         </td><td style=\"text-align: right;\"> 8.6625</td><td>       </td><td>S         </td></tr>\n",
       "<tr><td style=\"text-align: right;\">          896</td><td style=\"text-align: right;\">       3</td><td>Hirvonen, Mrs. Alexander (Helga E Lindqvist)</td><td>female</td><td style=\"text-align: right;\"> 22  </td><td style=\"text-align: right;\">      1</td><td style=\"text-align: right;\">      1</td><td style=\"text-align: right;\">     3.1013e+06</td><td style=\"text-align: right;\">12.2875</td><td>       </td><td>S         </td></tr>\n",
       "<tr><td style=\"text-align: right;\">          897</td><td style=\"text-align: right;\">       3</td><td>Svensson, Mr. Johan Cervin                  </td><td>male  </td><td style=\"text-align: right;\"> 14  </td><td style=\"text-align: right;\">      0</td><td style=\"text-align: right;\">      0</td><td style=\"text-align: right;\">  7538         </td><td style=\"text-align: right;\"> 9.225 </td><td>       </td><td>S         </td></tr>\n",
       "<tr><td style=\"text-align: right;\">          898</td><td style=\"text-align: right;\">       3</td><td>Connolly, Miss. Kate                        </td><td>female</td><td style=\"text-align: right;\"> 30  </td><td style=\"text-align: right;\">      0</td><td style=\"text-align: right;\">      0</td><td style=\"text-align: right;\">330972         </td><td style=\"text-align: right;\"> 7.6292</td><td>       </td><td>Q         </td></tr>\n",
       "<tr><td style=\"text-align: right;\">          899</td><td style=\"text-align: right;\">       2</td><td>Caldwell, Mr. Albert Francis                </td><td>male  </td><td style=\"text-align: right;\"> 26  </td><td style=\"text-align: right;\">      1</td><td style=\"text-align: right;\">      1</td><td style=\"text-align: right;\">248738         </td><td style=\"text-align: right;\">29     </td><td>       </td><td>S         </td></tr>\n",
       "<tr><td style=\"text-align: right;\">          900</td><td style=\"text-align: right;\">       3</td><td>Abrahim, Mrs. Joseph (Sophie Halaut Easu)   </td><td>female</td><td style=\"text-align: right;\"> 18  </td><td style=\"text-align: right;\">      0</td><td style=\"text-align: right;\">      0</td><td style=\"text-align: right;\">  2657         </td><td style=\"text-align: right;\"> 7.2292</td><td>       </td><td>C         </td></tr>\n",
       "<tr><td style=\"text-align: right;\">          902</td><td style=\"text-align: right;\">       3</td><td>Ilieff, Mr. Ylio                            </td><td>male  </td><td style=\"text-align: right;\">nan  </td><td style=\"text-align: right;\">      0</td><td style=\"text-align: right;\">      0</td><td style=\"text-align: right;\">349220         </td><td style=\"text-align: right;\"> 7.8958</td><td>       </td><td>S         </td></tr>\n",
       "<tr><td style=\"text-align: right;\">          903</td><td style=\"text-align: right;\">       1</td><td>Jones, Mr. Charles Cresson                  </td><td>male  </td><td style=\"text-align: right;\"> 46  </td><td style=\"text-align: right;\">      0</td><td style=\"text-align: right;\">      0</td><td style=\"text-align: right;\">   694         </td><td style=\"text-align: right;\">26     </td><td>       </td><td>S         </td></tr>\n",
       "</tbody>\n",
       "</table>"
      ]
     },
     "metadata": {},
     "output_type": "display_data"
    },
    {
     "data": {
      "text/html": [
       "<table>\n",
       "<thead>\n",
       "<tr><th style=\"text-align: right;\">  PassengerId</th><th style=\"text-align: right;\">  Pclass</th><th>Name                          </th><th>Sex   </th><th style=\"text-align: right;\">  Age</th><th style=\"text-align: right;\">  SibSp</th><th style=\"text-align: right;\">  Parch</th><th style=\"text-align: right;\">         Ticket</th><th style=\"text-align: right;\">    Fare</th><th>Cabin          </th><th>Embarked  </th></tr>\n",
       "</thead>\n",
       "<tbody>\n",
       "<tr><td style=\"text-align: right;\">          894</td><td style=\"text-align: right;\">       2</td><td>Myles, Mr. Thomas Francis     </td><td>male  </td><td style=\"text-align: right;\">   62</td><td style=\"text-align: right;\">      0</td><td style=\"text-align: right;\">      0</td><td style=\"text-align: right;\">240276         </td><td style=\"text-align: right;\">  9.6875</td><td>               </td><td>Q         </td></tr>\n",
       "<tr><td style=\"text-align: right;\">          901</td><td style=\"text-align: right;\">       3</td><td>Davies, Mr. John Samuel       </td><td>male  </td><td style=\"text-align: right;\">   21</td><td style=\"text-align: right;\">      2</td><td style=\"text-align: right;\">      0</td><td style=\"text-align: right;\">   nan         </td><td style=\"text-align: right;\"> 24.15  </td><td>               </td><td>S         </td></tr>\n",
       "<tr><td style=\"text-align: right;\">          912</td><td style=\"text-align: right;\">       1</td><td>Rothschild, Mr. Martin        </td><td>male  </td><td style=\"text-align: right;\">   55</td><td style=\"text-align: right;\">      1</td><td style=\"text-align: right;\">      0</td><td style=\"text-align: right;\">   nan         </td><td style=\"text-align: right;\"> 59.4   </td><td>               </td><td>C         </td></tr>\n",
       "<tr><td style=\"text-align: right;\">          929</td><td style=\"text-align: right;\">       3</td><td>Cacic, Miss. Manda            </td><td>female</td><td style=\"text-align: right;\">   21</td><td style=\"text-align: right;\">      0</td><td style=\"text-align: right;\">      0</td><td style=\"text-align: right;\">315087         </td><td style=\"text-align: right;\">  8.6625</td><td>               </td><td>S         </td></tr>\n",
       "<tr><td style=\"text-align: right;\">          931</td><td style=\"text-align: right;\">       3</td><td>Hee, Mr. Ling                 </td><td>male  </td><td style=\"text-align: right;\">  nan</td><td style=\"text-align: right;\">      0</td><td style=\"text-align: right;\">      0</td><td style=\"text-align: right;\">  1601         </td><td style=\"text-align: right;\"> 56.4958</td><td>               </td><td>S         </td></tr>\n",
       "<tr><td style=\"text-align: right;\">          943</td><td style=\"text-align: right;\">       2</td><td>Pulbaum, Mr. Franz            </td><td>male  </td><td style=\"text-align: right;\">   27</td><td style=\"text-align: right;\">      0</td><td style=\"text-align: right;\">      0</td><td style=\"text-align: right;\">   nan         </td><td style=\"text-align: right;\"> 15.0333</td><td>               </td><td>C         </td></tr>\n",
       "<tr><td style=\"text-align: right;\">          947</td><td style=\"text-align: right;\">       3</td><td>Rice, Master. Albert          </td><td>male  </td><td style=\"text-align: right;\">   10</td><td style=\"text-align: right;\">      4</td><td style=\"text-align: right;\">      1</td><td style=\"text-align: right;\">382652         </td><td style=\"text-align: right;\"> 29.125 </td><td>               </td><td>Q         </td></tr>\n",
       "<tr><td style=\"text-align: right;\">          955</td><td style=\"text-align: right;\">       3</td><td>Bradley, Miss. Bridget Delia  </td><td>female</td><td style=\"text-align: right;\">   22</td><td style=\"text-align: right;\">      0</td><td style=\"text-align: right;\">      0</td><td style=\"text-align: right;\">334914         </td><td style=\"text-align: right;\">  7.725 </td><td>               </td><td>Q         </td></tr>\n",
       "<tr><td style=\"text-align: right;\">          956</td><td style=\"text-align: right;\">       1</td><td>Ryerson, Master. John Borie   </td><td>male  </td><td style=\"text-align: right;\">   13</td><td style=\"text-align: right;\">      2</td><td style=\"text-align: right;\">      2</td><td style=\"text-align: right;\">   nan         </td><td style=\"text-align: right;\">262.375 </td><td>B57 B59 B63 B66</td><td>C         </td></tr>\n",
       "<tr><td style=\"text-align: right;\">          964</td><td style=\"text-align: right;\">       3</td><td>Nieminen, Miss. Manta Josefina</td><td>female</td><td style=\"text-align: right;\">   29</td><td style=\"text-align: right;\">      0</td><td style=\"text-align: right;\">      0</td><td style=\"text-align: right;\">     3.1013e+06</td><td style=\"text-align: right;\">  7.925 </td><td>               </td><td>S         </td></tr>\n",
       "</tbody>\n",
       "</table>"
      ]
     },
     "metadata": {},
     "output_type": "display_data"
    },
    {
     "data": {
      "text/plain": [
       "[, ]"
      ]
     },
     "execution_count": 12,
     "metadata": {},
     "output_type": "execute_result"
    }
   ],
   "source": [
    "splits"
   ]
  },
  {
   "cell_type": "markdown",
   "metadata": {},
   "source": [
    "# AutoML\n",
    "- Run AutoML, stopping after 60 seconds. The **max_runtime_secs** argument provides a way to limit the AutoML run by time. When using a time-limited stopping criterion, the number of models train will vary between runs. If different hardware is used or even if the same machine is used but the available compute resources on that machine are not the same between runs, then AutoML may be able to train more models on one run vs another.\n",
    "\n",
    "- The test frame is passed explicitly to the leaderboard_frame argument here, which means that instead of using cross-validated metrics, we use test set metrics for generating the leaderboard."
   ]
  },
  {
   "cell_type": "code",
   "execution_count": null,
   "metadata": {},
   "outputs": [
    {
     "name": "stdout",
     "output_type": "stream",
     "text": [
      "AutoML progress: |\n",
      "18:11:00.236: AutoML: XGBoost is not available; skipping it.\n",
      "18:11:00.253: Step 'best_of_family_xgboost' not defined in provider 'StackedEnsemble': skipping it.\n",
      "18:11:00.253: Step 'all_xgboost' not defined in provider 'StackedEnsemble': skipping it.\n",
      "11:37:36.907: New models will be added to existing leaderboard Testing_frame@@Fare (leaderboard frame=py_3_sid_a3a4) with already 49 models.\n",
      "11:37:36.907: AutoML: XGBoost is not available; skipping it.\n",
      "11:37:36.907: Step 'best_of_family_xgboost' not defined in provider 'StackedEnsemble': skipping it.\n",
      "11:37:36.907: Step 'all_xgboost' not defined in provider 'StackedEnsemble': skipping it.\n",
      "\n",
      "███████\n",
      "11:37:43.990: StackedEnsemble_BestOfFamily_5_AutoML_2_20211014_113736 [StackedEnsemble best_of_family_2 (built with AUTO metalearner, using top model from each algorithm type)] failed: water.exceptions.H2OIllegalArgumentException: Failed to find the xval predictions frame. . .  Looks like keep_cross_validation_predictions wasn't set when building the models, or the frame was deleted.\n",
      "\n",
      "██\n",
      "11:37:45.4: StackedEnsemble_AllModels_4_AutoML_2_20211014_113736 [StackedEnsemble all_2 (built with AUTO metalearner, using all AutoML models)] failed: water.exceptions.H2OIllegalArgumentException: Failed to find the xval predictions frame. . .  Looks like keep_cross_validation_predictions wasn't set when building the models, or the frame was deleted.\n",
      "\n",
      "█████\n",
      "11:37:49.38: StackedEnsemble_BestOfFamily_6_AutoML_2_20211014_113736 [StackedEnsemble best_of_family_3 (built with AUTO metalearner, using top model from each algorithm type)] failed: water.exceptions.H2OIllegalArgumentException: Failed to find the xval predictions frame. . .  Looks like keep_cross_validation_predictions wasn't set when building the models, or the frame was deleted.\n",
      "\n",
      "██\n",
      "11:37:50.48: StackedEnsemble_AllModels_5_AutoML_2_20211014_113736 [StackedEnsemble all_3 (built with AUTO metalearner, using all AutoML models)] failed: water.exceptions.H2OIllegalArgumentException: Failed to find the xval predictions frame. . .  Looks like keep_cross_validation_predictions wasn't set when building the models, or the frame was deleted.\n",
      "\n",
      "██"
     ]
    }
   ],
   "source": [
    "aml = H2OAutoML(max_runtime_secs = 60, seed = 1, project_name = \"Testing_frame\")\n",
    "aml.train(y = y, training_frame = train, leaderboard_frame = test)"
   ]
  },
  {
   "cell_type": "markdown",
   "metadata": {},
   "source": [
    "## Leaderboard\n",
    "- View the AutoML Leaderboard. Since we specified a leaderboard_frame in the H2OAutoML.train() method for scoring and ranking the models, the AutoML leaderboard uses the performance on this data to rank the models.\n",
    "\n",
    "- A default performance metric for each machine learning task (binary classification, multiclass classification, regression) is specified internally and the leaderboard will be sorted by that metric. In the case of regression, the default ranking metric is mean residual deviance. In the future, the user will be able to specify any of the H2O metrics so that different metrics can be used to generate rankings on the leaderboard."
   ]
  },
  {
   "cell_type": "code",
   "execution_count": 22,
   "metadata": {},
   "outputs": [
    {
     "data": {
      "text/html": [
       "<table>\n",
       "<thead>\n",
       "<tr><th>model_id                                               </th><th style=\"text-align: right;\">  mean_residual_deviance</th><th style=\"text-align: right;\">   rmse</th><th style=\"text-align: right;\">     mse</th><th style=\"text-align: right;\">    mae</th><th style=\"text-align: right;\">   rmsle</th></tr>\n",
       "</thead>\n",
       "<tbody>\n",
       "<tr><td>StackedEnsemble_BestOfFamily_2_AutoML_1_20211013_181100</td><td style=\"text-align: right;\">                 937.551</td><td style=\"text-align: right;\">30.6195</td><td style=\"text-align: right;\"> 937.551</td><td style=\"text-align: right;\">16.5652</td><td style=\"text-align: right;\">0.990622</td></tr>\n",
       "<tr><td>GBM_grid_1_AutoML_1_20211013_181100_model_9            </td><td style=\"text-align: right;\">                 978.155</td><td style=\"text-align: right;\">31.2755</td><td style=\"text-align: right;\"> 978.155</td><td style=\"text-align: right;\">15.1538</td><td style=\"text-align: right;\">0.505271</td></tr>\n",
       "<tr><td>StackedEnsemble_AllModels_1_AutoML_1_20211013_181100   </td><td style=\"text-align: right;\">                 981.505</td><td style=\"text-align: right;\">31.329 </td><td style=\"text-align: right;\"> 981.505</td><td style=\"text-align: right;\">16.7283</td><td style=\"text-align: right;\">0.87147 </td></tr>\n",
       "<tr><td>StackedEnsemble_BestOfFamily_3_AutoML_1_20211013_181100</td><td style=\"text-align: right;\">                 995.181</td><td style=\"text-align: right;\">31.5465</td><td style=\"text-align: right;\"> 995.181</td><td style=\"text-align: right;\">15.5825</td><td style=\"text-align: right;\">0.612669</td></tr>\n",
       "<tr><td>GBM_grid_1_AutoML_1_20211013_181100_model_10           </td><td style=\"text-align: right;\">                1019.92 </td><td style=\"text-align: right;\">31.9362</td><td style=\"text-align: right;\">1019.92 </td><td style=\"text-align: right;\">14.6545</td><td style=\"text-align: right;\">0.537303</td></tr>\n",
       "<tr><td>GBM_grid_1_AutoML_1_20211013_181100_model_17           </td><td style=\"text-align: right;\">                1020.91 </td><td style=\"text-align: right;\">31.9516</td><td style=\"text-align: right;\">1020.91 </td><td style=\"text-align: right;\">14.5714</td><td style=\"text-align: right;\">0.515761</td></tr>\n",
       "<tr><td>GBM_2_AutoML_1_20211013_181100                         </td><td style=\"text-align: right;\">                1026.35 </td><td style=\"text-align: right;\">32.0368</td><td style=\"text-align: right;\">1026.35 </td><td style=\"text-align: right;\">13.3962</td><td style=\"text-align: right;\">0.487166</td></tr>\n",
       "<tr><td>StackedEnsemble_AllModels_2_AutoML_1_20211013_181100   </td><td style=\"text-align: right;\">                1031.83 </td><td style=\"text-align: right;\">32.1221</td><td style=\"text-align: right;\">1031.83 </td><td style=\"text-align: right;\">15.6841</td><td style=\"text-align: right;\">0.608232</td></tr>\n",
       "<tr><td>GBM_grid_1_AutoML_1_20211013_181100_model_2            </td><td style=\"text-align: right;\">                1032.56 </td><td style=\"text-align: right;\">32.1335</td><td style=\"text-align: right;\">1032.56 </td><td style=\"text-align: right;\">14.2254</td><td style=\"text-align: right;\">0.492624</td></tr>\n",
       "<tr><td>GBM_5_AutoML_1_20211013_181100                         </td><td style=\"text-align: right;\">                1064.86 </td><td style=\"text-align: right;\">32.6321</td><td style=\"text-align: right;\">1064.86 </td><td style=\"text-align: right;\">14.2371</td><td style=\"text-align: right;\">0.484867</td></tr>\n",
       "</tbody>\n",
       "</table>"
      ]
     },
     "metadata": {},
     "output_type": "display_data"
    },
    {
     "data": {
      "text/plain": []
     },
     "execution_count": 22,
     "metadata": {},
     "output_type": "execute_result"
    }
   ],
   "source": [
    "aml.leaderboard.head()"
   ]
  },
  {
   "cell_type": "markdown",
   "metadata": {},
   "source": [
    "Mostly on the top there will be ensemble of models, as they perform better than a single model"
   ]
  },
  {
   "cell_type": "markdown",
   "metadata": {},
   "source": [
    "## Testing of model"
   ]
  },
  {
   "cell_type": "code",
   "execution_count": 23,
   "metadata": {},
   "outputs": [
    {
     "name": "stdout",
     "output_type": "stream",
     "text": [
      "\n",
      "ModelMetricsRegressionGLM: stackedensemble\n",
      "** Reported on test data. **\n",
      "\n",
      "MSE: 937.5513364583173\n",
      "RMSE: 30.619460094167522\n",
      "MAE: 16.56518781190623\n",
      "RMSLE: 0.9906215169332465\n",
      "R^2: 0.6755365000824696\n",
      "Mean Residual Deviance: 937.5513364583173\n",
      "Null degrees of freedom: 83\n",
      "Residual degrees of freedom: 80\n",
      "Null deviance: 242885.75655845192\n",
      "Residual deviance: 78754.31226249866\n",
      "AIC: 823.2164808580599\n"
     ]
    },
    {
     "data": {
      "text/plain": []
     },
     "execution_count": 23,
     "metadata": {},
     "output_type": "execute_result"
    }
   ],
   "source": [
    "perf = aml.leader.model_performance(test)\n",
    "perf"
   ]
  },
  {
   "cell_type": "code",
   "execution_count": 24,
   "metadata": {},
   "outputs": [],
   "source": [
    "# Get model ids for all models in the AutoML Leaderboard\n",
    "model_ids = list(aml.leaderboard['model_id'].as_data_frame().iloc[:,0])\n",
    "# Get the \"All Models\" Stacked Ensemble model\n",
    "se = h2o.get_model([mid for mid in model_ids if \"StackedEnsemble_AllModels\" in mid][0])\n",
    "# Get the Stacked Ensemble metalearner model\n",
    "metalearner = se.metalearner()"
   ]
  },
  {
   "cell_type": "code",
   "execution_count": 25,
   "metadata": {},
   "outputs": [
    {
     "data": {
      "text/plain": [
       "{'Intercept': 35.35996883798829,\n",
       " 'GBM_2_AutoML_1_20211013_181100': 1.6771024065601614,\n",
       " 'GBM_4_AutoML_1_20211013_181100': 28.387593613334428,\n",
       " 'GBM_3_AutoML_1_20211013_181100': 0.0015506532170065127,\n",
       " 'DRF_1_AutoML_1_20211013_181100': 0.0,\n",
       " 'GLM_1_AutoML_1_20211013_181100': 13.7485312905518,\n",
       " 'GBM_1_AutoML_1_20211013_181100': 0.0}"
      ]
     },
     "execution_count": 25,
     "metadata": {},
     "output_type": "execute_result"
    }
   ],
   "source": [
    "metalearner.coef_norm()"
   ]
  },
  {
   "cell_type": "markdown",
   "metadata": {},
   "source": [
    "## Save the best Model"
   ]
  },
  {
   "cell_type": "code",
   "execution_count": 27,
   "metadata": {},
   "outputs": [
    {
     "data": {
      "text/plain": [
       "'C:\\\\Users\\\\Abhishek\\\\Desktop\\\\Kinesso\\\\BestModel\\\\StackedEnsemble_BestOfFamily_2_AutoML_1_20211013_181100'"
      ]
     },
     "execution_count": 27,
     "metadata": {},
     "output_type": "execute_result"
    }
   ],
   "source": [
    "h2o.save_model(aml.leader, path = \"./BestModel\")"
   ]
  }
 ],
 "metadata": {
  "kernelspec": {
   "display_name": "Python 3",
   "language": "python",
   "name": "python3"
  },
  "language_info": {
   "codemirror_mode": {
    "name": "ipython",
    "version": 3
   },
   "file_extension": ".py",
   "mimetype": "text/x-python",
   "name": "python",
   "nbconvert_exporter": "python",
   "pygments_lexer": "ipython3",
   "version": "3.7.4"
  }
 },
 "nbformat": 4,
 "nbformat_minor": 2
}
