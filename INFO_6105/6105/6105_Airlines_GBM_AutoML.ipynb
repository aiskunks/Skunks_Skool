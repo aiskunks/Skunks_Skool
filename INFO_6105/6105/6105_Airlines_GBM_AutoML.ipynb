{
 "cells": [
  {
   "cell_type": "markdown",
   "metadata": {},
   "source": [
    "Install H2O for python [http://h2o-release.s3.amazonaws.com/h2o/rel-tibshirani/3/index.html](http://h2o-release.s3.amazonaws.com/h2o/rel-tibshirani/3/index.html)  \n",
    "\n",
    "```bash\n",
    "sudo pip uninstall h2o\n",
    "sudo pip install -f http://h2o-release.s3.amazonaws.com/h2o/latest_stable_Py.html h2o\n",
    "```"
   ]
  },
  {
   "cell_type": "code",
   "execution_count": 31,
   "metadata": {},
   "outputs": [],
   "source": [
    "%matplotlib inline\n",
    "import random, os, sys\n",
    "import h2o\n",
    "import pandas\n",
    "import pprint\n",
    "import operator\n",
    "import matplotlib\n",
    "from h2o.estimators.glm import H2OGeneralizedLinearEstimator\n",
    "from h2o.estimators.gbm import H2OGradientBoostingEstimator\n",
    "from h2o.estimators.random_forest import H2ORandomForestEstimator\n",
    "from h2o.estimators.deeplearning import H2ODeepLearningEstimator\n",
    "from tabulate import tabulate\n",
    "from h2o.automl import H2OAutoML\n",
    "from datetime import datetime\n",
    "import pandas as pd\n",
    "import logging\n",
    "import csv\n",
    "import optparse\n",
    "import time\n",
    "import json\n",
    "from distutils.util import strtobool\n",
    "import psutil\n",
    "import numpy as np"
   ]
  },
  {
   "cell_type": "code",
   "execution_count": 32,
   "metadata": {},
   "outputs": [
    {
     "name": "stdout",
     "output_type": "stream",
     "text": [
      "Checking whether there is an H2O instance running at http://localhost:54321..... not found.\n",
      "Attempting to start a local H2O server...\n",
      "  Java Version: openjdk version \"1.8.0_121\"; OpenJDK Runtime Environment (Zulu 8.20.0.5-macosx) (build 1.8.0_121-b15); OpenJDK 64-Bit Server VM (Zulu 8.20.0.5-macosx) (build 25.121-b15, mixed mode)\n",
      "  Starting server from /Users/bear/anaconda/lib/python3.6/site-packages/h2o/backend/bin/h2o.jar\n",
      "  Ice root: /var/folders/lh/42j8mfjx069d1bkc2wlf2pw40000gn/T/tmpcf28851q\n",
      "  JVM stdout: /var/folders/lh/42j8mfjx069d1bkc2wlf2pw40000gn/T/tmpcf28851q/h2o_bear_started_from_python.out\n",
      "  JVM stderr: /var/folders/lh/42j8mfjx069d1bkc2wlf2pw40000gn/T/tmpcf28851q/h2o_bear_started_from_python.err\n",
      "  Server is running at http://127.0.0.1:54321\n",
      "Connecting to H2O server at http://127.0.0.1:54321... successful.\n"
     ]
    },
    {
     "data": {
      "text/html": [
       "<div style=\"overflow:auto\"><table style=\"width:50%\"><tr><td>H2O cluster uptime:</td>\n",
       "<td>01 secs</td></tr>\n",
       "<tr><td>H2O cluster timezone:</td>\n",
       "<td>America/New_York</td></tr>\n",
       "<tr><td>H2O data parsing timezone:</td>\n",
       "<td>UTC</td></tr>\n",
       "<tr><td>H2O cluster version:</td>\n",
       "<td>3.22.1.3</td></tr>\n",
       "<tr><td>H2O cluster version age:</td>\n",
       "<td>14 days, 2 hours and 55 minutes </td></tr>\n",
       "<tr><td>H2O cluster name:</td>\n",
       "<td>H2O_from_python_bear_jpsd3w</td></tr>\n",
       "<tr><td>H2O cluster total nodes:</td>\n",
       "<td>1</td></tr>\n",
       "<tr><td>H2O cluster free memory:</td>\n",
       "<td>3.556 Gb</td></tr>\n",
       "<tr><td>H2O cluster total cores:</td>\n",
       "<td>8</td></tr>\n",
       "<tr><td>H2O cluster allowed cores:</td>\n",
       "<td>8</td></tr>\n",
       "<tr><td>H2O cluster status:</td>\n",
       "<td>accepting new members, healthy</td></tr>\n",
       "<tr><td>H2O connection url:</td>\n",
       "<td>http://127.0.0.1:54321</td></tr>\n",
       "<tr><td>H2O connection proxy:</td>\n",
       "<td>None</td></tr>\n",
       "<tr><td>H2O internal security:</td>\n",
       "<td>False</td></tr>\n",
       "<tr><td>H2O API Extensions:</td>\n",
       "<td>XGBoost, Algos, AutoML, Core V3, Core V4</td></tr>\n",
       "<tr><td>Python version:</td>\n",
       "<td>3.6.5 final</td></tr></table></div>"
      ],
      "text/plain": [
       "--------------------------  ----------------------------------------\n",
       "H2O cluster uptime:         01 secs\n",
       "H2O cluster timezone:       America/New_York\n",
       "H2O data parsing timezone:  UTC\n",
       "H2O cluster version:        3.22.1.3\n",
       "H2O cluster version age:    14 days, 2 hours and 55 minutes\n",
       "H2O cluster name:           H2O_from_python_bear_jpsd3w\n",
       "H2O cluster total nodes:    1\n",
       "H2O cluster free memory:    3.556 Gb\n",
       "H2O cluster total cores:    8\n",
       "H2O cluster allowed cores:  8\n",
       "H2O cluster status:         accepting new members, healthy\n",
       "H2O connection url:         http://127.0.0.1:54321\n",
       "H2O connection proxy:\n",
       "H2O internal security:      False\n",
       "H2O API Extensions:         XGBoost, Algos, AutoML, Core V3, Core V4\n",
       "Python version:             3.6.5 final\n",
       "--------------------------  ----------------------------------------"
      ]
     },
     "metadata": {},
     "output_type": "display_data"
    }
   ],
   "source": [
    "# Task 1: Connect to a cluster\n",
    "h2o.init(strict_version_check=False)"
   ]
  },
  {
   "cell_type": "code",
   "execution_count": 33,
   "metadata": {
    "collapsed": true
   },
   "outputs": [],
   "source": [
    "# set this to True if interactive (matplotlib) plots are desired\n",
    "interactive = True\n",
    "if not interactive: matplotlib.use('Agg', warn=False)\n",
    "import matplotlib.pyplot as plt"
   ]
  },
  {
   "cell_type": "code",
   "execution_count": 34,
   "metadata": {},
   "outputs": [
    {
     "name": "stdout",
     "output_type": "stream",
     "text": [
      "Import and Parse airlines data\n",
      "Parse progress: |█████████████████████████████████████████████████████████| 100%\n",
      "Rows:43978\n",
      "Cols:31\n",
      "\n",
      "\n"
     ]
    },
    {
     "data": {
      "text/html": [
       "<table>\n",
       "<thead>\n",
       "<tr><th>       </th><th>Year             </th><th>Month             </th><th>DayofMonth        </th><th>DayOfWeek         </th><th>DepTime          </th><th>CRSDepTime        </th><th>ArrTime           </th><th>CRSArrTime       </th><th>UniqueCarrier  </th><th>FlightNum        </th><th>TailNum  </th><th>ActualElapsedTime  </th><th>CRSElapsedTime    </th><th>AirTime           </th><th>ArrDelay          </th><th>DepDelay          </th><th>Origin  </th><th>Dest  </th><th>Distance         </th><th>TaxiIn            </th><th>TaxiOut           </th><th>Cancelled           </th><th>CancellationCode  </th><th>Diverted             </th><th>CarrierDelay      </th><th>WeatherDelay       </th><th>NASDelay         </th><th>SecurityDelay       </th><th>LateAircraftDelay  </th><th>IsArrDelayed  </th><th>IsDepDelayed  </th></tr>\n",
       "</thead>\n",
       "<tbody>\n",
       "<tr><td>type   </td><td>int              </td><td>int               </td><td>int               </td><td>int               </td><td>int              </td><td>int               </td><td>int               </td><td>int              </td><td>enum           </td><td>int              </td><td>enum     </td><td>int                </td><td>int               </td><td>int               </td><td>int               </td><td>int               </td><td>enum    </td><td>enum  </td><td>int              </td><td>int               </td><td>int               </td><td>int                 </td><td>enum              </td><td>int                  </td><td>int               </td><td>int                </td><td>int              </td><td>int                 </td><td>int                </td><td>enum          </td><td>enum          </td></tr>\n",
       "<tr><td>mins   </td><td>1987.0           </td><td>1.0               </td><td>1.0               </td><td>1.0               </td><td>1.0              </td><td>0.0               </td><td>1.0               </td><td>0.0              </td><td>               </td><td>1.0              </td><td>         </td><td>16.0               </td><td>17.0              </td><td>14.0              </td><td>-63.0             </td><td>-16.0             </td><td>        </td><td>      </td><td>11.0             </td><td>0.0               </td><td>0.0               </td><td>0.0                 </td><td>                  </td><td>0.0                  </td><td>0.0               </td><td>0.0                </td><td>0.0              </td><td>0.0                 </td><td>0.0                </td><td>              </td><td>              </td></tr>\n",
       "<tr><td>mean   </td><td>1997.5           </td><td>1.4090909090909092</td><td>14.601073263904679</td><td>3.8206148528809845</td><td>1345.846661382076</td><td>1313.2228614307153</td><td>1504.6341303788888</td><td>1485.289167310928</td><td>               </td><td>818.8429896766563</td><td>         </td><td>124.81452913540424 </td><td>125.02156260661893</td><td>114.31611109078267</td><td>9.317111936984317 </td><td>10.007390655600112</td><td>        </td><td>      </td><td>730.1821905650505</td><td>5.3813680595306215</td><td>14.168634184732063</td><td>0.024694165264450407</td><td>                  </td><td>0.0024785119832643593</td><td>4.047800291055637 </td><td>0.28937646927124144</td><td>4.855031904175528</td><td>0.017015560282100082</td><td>7.620060450016791  </td><td>              </td><td>              </td></tr>\n",
       "<tr><td>maxs   </td><td>2008.0           </td><td>10.0              </td><td>31.0              </td><td>7.0               </td><td>2400.0           </td><td>2359.0            </td><td>2400.0            </td><td>2359.0           </td><td>               </td><td>3949.0           </td><td>         </td><td>475.0              </td><td>437.0             </td><td>402.0             </td><td>475.0             </td><td>473.0             </td><td>        </td><td>      </td><td>3365.0           </td><td>128.0             </td><td>254.0             </td><td>1.0                 </td><td>                  </td><td>1.0                  </td><td>369.0             </td><td>201.0              </td><td>323.0            </td><td>14.0                </td><td>373.0              </td><td>              </td><td>              </td></tr>\n",
       "<tr><td>sigma  </td><td>6.344360901710564</td><td>1.874711371343963 </td><td>9.17579042586145  </td><td>1.905013119132896 </td><td>465.3408991242338</td><td>476.25113999259963</td><td>484.347487903516  </td><td>492.750434122701 </td><td>               </td><td>777.4043691636348</td><td>         </td><td>73.97444166059019  </td><td>73.4015946300093  </td><td>69.63632951506105 </td><td>29.840221962414844</td><td>26.43880904291645 </td><td>        </td><td>      </td><td>578.4380082304244</td><td>4.201979939864827 </td><td>9.905085747204327 </td><td>0.15519314135784237 </td><td>                  </td><td>0.049723487218862286 </td><td>16.205729904484198</td><td>4.416779898734125  </td><td>18.61977622147568</td><td>0.40394018210151184 </td><td>23.487565874106213 </td><td>              </td><td>              </td></tr>\n",
       "<tr><td>zeros  </td><td>0                </td><td>0                 </td><td>0                 </td><td>0                 </td><td>0                </td><td>569               </td><td>0                 </td><td>569              </td><td>               </td><td>0                </td><td>         </td><td>0                  </td><td>0                 </td><td>0                 </td><td>1514              </td><td>6393              </td><td>        </td><td>      </td><td>0                </td><td>623               </td><td>557               </td><td>42892               </td><td>                  </td><td>43869                </td><td>7344              </td><td>8840               </td><td>7388             </td><td>8914                </td><td>7140               </td><td>              </td><td>              </td></tr>\n",
       "<tr><td>missing</td><td>0                </td><td>0                 </td><td>0                 </td><td>0                 </td><td>1086             </td><td>0                 </td><td>1195              </td><td>0                </td><td>0              </td><td>0                </td><td>32       </td><td>1195               </td><td>13                </td><td>16649             </td><td>1195              </td><td>1086              </td><td>0       </td><td>0     </td><td>35               </td><td>16026             </td><td>16024             </td><td>0                   </td><td>9774              </td><td>0                    </td><td>35045             </td><td>35045              </td><td>35045            </td><td>35045               </td><td>35045              </td><td>0             </td><td>0             </td></tr>\n",
       "<tr><td>0      </td><td>1987.0           </td><td>10.0              </td><td>14.0              </td><td>3.0               </td><td>741.0            </td><td>730.0             </td><td>912.0             </td><td>849.0            </td><td>PS             </td><td>1451.0           </td><td>NA       </td><td>91.0               </td><td>79.0              </td><td>nan               </td><td>23.0              </td><td>11.0              </td><td>SAN     </td><td>SFO   </td><td>447.0            </td><td>nan               </td><td>nan               </td><td>0.0                 </td><td>NA                </td><td>0.0                  </td><td>nan               </td><td>nan                </td><td>nan              </td><td>nan                 </td><td>nan                </td><td>YES           </td><td>YES           </td></tr>\n",
       "<tr><td>1      </td><td>1987.0           </td><td>10.0              </td><td>15.0              </td><td>4.0               </td><td>729.0            </td><td>730.0             </td><td>903.0             </td><td>849.0            </td><td>PS             </td><td>1451.0           </td><td>NA       </td><td>94.0               </td><td>79.0              </td><td>nan               </td><td>14.0              </td><td>-1.0              </td><td>SAN     </td><td>SFO   </td><td>447.0            </td><td>nan               </td><td>nan               </td><td>0.0                 </td><td>NA                </td><td>0.0                  </td><td>nan               </td><td>nan                </td><td>nan              </td><td>nan                 </td><td>nan                </td><td>YES           </td><td>NO            </td></tr>\n",
       "<tr><td>2      </td><td>1987.0           </td><td>10.0              </td><td>17.0              </td><td>6.0               </td><td>741.0            </td><td>730.0             </td><td>918.0             </td><td>849.0            </td><td>PS             </td><td>1451.0           </td><td>NA       </td><td>97.0               </td><td>79.0              </td><td>nan               </td><td>29.0              </td><td>11.0              </td><td>SAN     </td><td>SFO   </td><td>447.0            </td><td>nan               </td><td>nan               </td><td>0.0                 </td><td>NA                </td><td>0.0                  </td><td>nan               </td><td>nan                </td><td>nan              </td><td>nan                 </td><td>nan                </td><td>YES           </td><td>YES           </td></tr>\n",
       "<tr><td>3      </td><td>1987.0           </td><td>10.0              </td><td>18.0              </td><td>7.0               </td><td>729.0            </td><td>730.0             </td><td>847.0             </td><td>849.0            </td><td>PS             </td><td>1451.0           </td><td>NA       </td><td>78.0               </td><td>79.0              </td><td>nan               </td><td>-2.0              </td><td>-1.0              </td><td>SAN     </td><td>SFO   </td><td>447.0            </td><td>nan               </td><td>nan               </td><td>0.0                 </td><td>NA                </td><td>0.0                  </td><td>nan               </td><td>nan                </td><td>nan              </td><td>nan                 </td><td>nan                </td><td>NO            </td><td>NO            </td></tr>\n",
       "<tr><td>4      </td><td>1987.0           </td><td>10.0              </td><td>19.0              </td><td>1.0               </td><td>749.0            </td><td>730.0             </td><td>922.0             </td><td>849.0            </td><td>PS             </td><td>1451.0           </td><td>NA       </td><td>93.0               </td><td>79.0              </td><td>nan               </td><td>33.0              </td><td>19.0              </td><td>SAN     </td><td>SFO   </td><td>447.0            </td><td>nan               </td><td>nan               </td><td>0.0                 </td><td>NA                </td><td>0.0                  </td><td>nan               </td><td>nan                </td><td>nan              </td><td>nan                 </td><td>nan                </td><td>YES           </td><td>YES           </td></tr>\n",
       "<tr><td>5      </td><td>1987.0           </td><td>10.0              </td><td>21.0              </td><td>3.0               </td><td>728.0            </td><td>730.0             </td><td>848.0             </td><td>849.0            </td><td>PS             </td><td>1451.0           </td><td>NA       </td><td>80.0               </td><td>79.0              </td><td>nan               </td><td>-1.0              </td><td>-2.0              </td><td>SAN     </td><td>SFO   </td><td>447.0            </td><td>nan               </td><td>nan               </td><td>0.0                 </td><td>NA                </td><td>0.0                  </td><td>nan               </td><td>nan                </td><td>nan              </td><td>nan                 </td><td>nan                </td><td>NO            </td><td>NO            </td></tr>\n",
       "<tr><td>6      </td><td>1987.0           </td><td>10.0              </td><td>22.0              </td><td>4.0               </td><td>728.0            </td><td>730.0             </td><td>852.0             </td><td>849.0            </td><td>PS             </td><td>1451.0           </td><td>NA       </td><td>84.0               </td><td>79.0              </td><td>nan               </td><td>3.0               </td><td>-2.0              </td><td>SAN     </td><td>SFO   </td><td>447.0            </td><td>nan               </td><td>nan               </td><td>0.0                 </td><td>NA                </td><td>0.0                  </td><td>nan               </td><td>nan                </td><td>nan              </td><td>nan                 </td><td>nan                </td><td>YES           </td><td>NO            </td></tr>\n",
       "<tr><td>7      </td><td>1987.0           </td><td>10.0              </td><td>23.0              </td><td>5.0               </td><td>731.0            </td><td>730.0             </td><td>902.0             </td><td>849.0            </td><td>PS             </td><td>1451.0           </td><td>NA       </td><td>91.0               </td><td>79.0              </td><td>nan               </td><td>13.0              </td><td>1.0               </td><td>SAN     </td><td>SFO   </td><td>447.0            </td><td>nan               </td><td>nan               </td><td>0.0                 </td><td>NA                </td><td>0.0                  </td><td>nan               </td><td>nan                </td><td>nan              </td><td>nan                 </td><td>nan                </td><td>YES           </td><td>YES           </td></tr>\n",
       "<tr><td>8      </td><td>1987.0           </td><td>10.0              </td><td>24.0              </td><td>6.0               </td><td>744.0            </td><td>730.0             </td><td>908.0             </td><td>849.0            </td><td>PS             </td><td>1451.0           </td><td>NA       </td><td>84.0               </td><td>79.0              </td><td>nan               </td><td>19.0              </td><td>14.0              </td><td>SAN     </td><td>SFO   </td><td>447.0            </td><td>nan               </td><td>nan               </td><td>0.0                 </td><td>NA                </td><td>0.0                  </td><td>nan               </td><td>nan                </td><td>nan              </td><td>nan                 </td><td>nan                </td><td>YES           </td><td>YES           </td></tr>\n",
       "<tr><td>9      </td><td>1987.0           </td><td>10.0              </td><td>25.0              </td><td>7.0               </td><td>729.0            </td><td>730.0             </td><td>851.0             </td><td>849.0            </td><td>PS             </td><td>1451.0           </td><td>NA       </td><td>82.0               </td><td>79.0              </td><td>nan               </td><td>2.0               </td><td>-1.0              </td><td>SAN     </td><td>SFO   </td><td>447.0            </td><td>nan               </td><td>nan               </td><td>0.0                 </td><td>NA                </td><td>0.0                  </td><td>nan               </td><td>nan                </td><td>nan              </td><td>nan                 </td><td>nan                </td><td>YES           </td><td>NO            </td></tr>\n",
       "</tbody>\n",
       "</table>"
      ]
     },
     "metadata": {},
     "output_type": "display_data"
    }
   ],
   "source": [
    "# Task 2: Load data - 1 row per flight.  Has columns showing the origin,\n",
    "# destination, departure and arrival time, carrier information, and\n",
    "# whether the flight was delayed.\n",
    "print(\"Import and Parse airlines data\")\n",
    "data = h2o.import_file(path='data/allyears2k.csv')\n",
    "data.describe()"
   ]
  },
  {
   "cell_type": "code",
   "execution_count": 35,
   "metadata": {},
   "outputs": [],
   "source": [
    "# ----------\n",
    "\n",
    "# 2- Data exploration and munging. Generate scatter plots \n",
    "# of various columns and plot fitted GLM model.\n",
    "\n",
    "# Function to fit a GLM model and plot the fitted (x,y) values\n",
    "def scatter_plot(data, x, y, max_points = 1000, fit = True):\n",
    "    if(fit):\n",
    "        lr = H2OGeneralizedLinearEstimator(family = \"gaussian\")\n",
    "        lr.train(x=x, y=y, training_frame=data)\n",
    "        coeff = lr.coef()\n",
    "    df = data[[x,y]]\n",
    "    runif = df[y].runif()\n",
    "    df_subset = df[runif < float(max_points)/data.nrow]\n",
    "    df_py = h2o.as_list(df_subset)\n",
    "    \n",
    "    if(fit): h2o.remove(lr._id)\n",
    "\n",
    "    # If x variable is string, generate box-and-whisker plot\n",
    "    if(df_py[x].dtype == \"object\"):\n",
    "        if interactive: df_py.boxplot(column = y, by = x)\n",
    "    # Otherwise, generate a scatter plot\n",
    "    else:\n",
    "        if interactive: df_py.plot(x = x, y = y, kind = \"scatter\")\n",
    "    \n",
    "    if(fit):\n",
    "        x_min = min(df_py[x])\n",
    "        x_max = max(df_py[x])\n",
    "        y_min = coeff[\"Intercept\"] + coeff[x]*x_min\n",
    "        y_max = coeff[\"Intercept\"] + coeff[x]*x_max\n",
    "        plt.plot([x_min, x_max], [y_min, y_max], \"k-\")\n",
    "    if interactive: plt.show()\n"
   ]
  },
  {
   "cell_type": "code",
   "execution_count": 36,
   "metadata": {},
   "outputs": [
    {
     "name": "stdout",
     "output_type": "stream",
     "text": [
      "glm Model Build progress: |███████████████████████████████████████████████| 100%\n"
     ]
    },
    {
     "data": {
      "image/png": "[encoded data removed]",
      "text/plain": [
       "<Figure size 432x288 with 1 Axes>"
      ]
     },
     "metadata": {},
     "output_type": "display_data"
    },
    {
     "name": "stderr",
     "output_type": "stream",
     "text": [
      "/Users/bear/anaconda/lib/python3.6/site-packages/numpy/core/fromnumeric.py:57: FutureWarning: reshape is deprecated and will raise in a subsequent release. Please use .values.reshape(...) instead\n",
      "  return getattr(obj, method)(*args, **kwds)\n"
     ]
    },
    {
     "data": {
      "image/png": "[encoded data removed]",
      "text/plain": [
       "<Figure size 432x288 with 1 Axes>"
      ]
     },
     "metadata": {},
     "output_type": "display_data"
    }
   ],
   "source": [
    "# Task 3: Generate scatterplots for \"Distance\" and \"Airtime\" and one for \"Unique Carrier\" and the \"ArrDelay\" \n",
    "scatter_plot(data, \"Distance\", \"AirTime\", fit = True)\n",
    "scatter_plot(data, \"UniqueCarrier\", \"ArrDelay\", max_points = 5000, fit = False)"
   ]
  },
  {
   "cell_type": "code",
   "execution_count": 37,
   "metadata": {},
   "outputs": [
    {
     "data": {
      "text/html": [
       "<table>\n",
       "<thead>\n",
       "<tr><th style=\"text-align: right;\">  Month</th><th style=\"text-align: right;\">  nrow</th><th style=\"text-align: right;\">  sum_Cancelled</th></tr>\n",
       "</thead>\n",
       "<tbody>\n",
       "<tr><td style=\"text-align: right;\">      1</td><td style=\"text-align: right;\"> 41979</td><td style=\"text-align: right;\">           1067</td></tr>\n",
       "<tr><td style=\"text-align: right;\">     10</td><td style=\"text-align: right;\">  1999</td><td style=\"text-align: right;\">             19</td></tr>\n",
       "</tbody>\n",
       "</table>"
      ]
     },
     "metadata": {},
     "output_type": "display_data"
    },
    {
     "name": "stdout",
     "output_type": "stream",
     "text": [
      "Rows:2\n",
      "Cols:3\n",
      "\n",
      "\n"
     ]
    },
    {
     "data": {
      "text/html": [
       "<table>\n",
       "<thead>\n",
       "<tr><th>       </th><th>Month            </th><th>nrow             </th><th>sum_Cancelled    </th></tr>\n",
       "</thead>\n",
       "<tbody>\n",
       "<tr><td>type   </td><td>int              </td><td>int              </td><td>int              </td></tr>\n",
       "<tr><td>mins   </td><td>1.0              </td><td>1999.0           </td><td>19.0             </td></tr>\n",
       "<tr><td>mean   </td><td>5.5              </td><td>21989.0          </td><td>543.0            </td></tr>\n",
       "<tr><td>maxs   </td><td>10.0             </td><td>41979.0          </td><td>1067.0           </td></tr>\n",
       "<tr><td>sigma  </td><td>6.363961030678928</td><td>28270.12911183817</td><td>741.0479066835018</td></tr>\n",
       "<tr><td>zeros  </td><td>0                </td><td>0                </td><td>0                </td></tr>\n",
       "<tr><td>missing</td><td>0                </td><td>0                </td><td>0                </td></tr>\n",
       "<tr><td>0      </td><td>1.0              </td><td>41979.0          </td><td>1067.0           </td></tr>\n",
       "<tr><td>1      </td><td>10.0             </td><td>1999.0           </td><td>19.0             </td></tr>\n",
       "</tbody>\n",
       "</table>"
      ]
     },
     "metadata": {},
     "output_type": "display_data"
    },
    {
     "data": {
      "text/plain": [
       "[2, 3]"
      ]
     },
     "execution_count": 37,
     "metadata": {},
     "output_type": "execute_result"
    }
   ],
   "source": [
    "# Task 4: Use the .group_by function to group flights by month \n",
    "grouped = data.group_by(\"Month\")\n",
    "bpd = grouped.count().sum(\"Cancelled\").frame\n",
    "bpd.show()\n",
    "bpd.describe()\n",
    "bpd.dim\n"
   ]
  },
  {
   "cell_type": "code",
   "execution_count": 38,
   "metadata": {
    "collapsed": true
   },
   "outputs": [],
   "source": [
    "# Task 5: Convert the \"Year,\" \"Month,\" \"DayOfWeek,\" \"Cancelled\" columns to factors\n",
    "data[\"Year\"]      = data[\"Year\"]     .asfactor()\n",
    "data[\"Month\"]     = data[\"Month\"]    .asfactor()\n",
    "data[\"DayOfWeek\"] = data[\"DayOfWeek\"].asfactor()\n",
    "data[\"Cancelled\"] = data[\"Cancelled\"].asfactor()"
   ]
  },
  {
   "cell_type": "code",
   "execution_count": 39,
   "metadata": {},
   "outputs": [
    {
     "name": "stdout",
     "output_type": "stream",
     "text": [
      "Parse progress: |█████████████████████████████████████████████████████████| 100%\n",
      "glm Model Build progress: |███████████████████████████████████████████████| 100%\n"
     ]
    },
    {
     "data": {
      "image/png": "[encoded data removed]",
      "text/plain": [
       "<Figure size 432x288 with 1 Axes>"
      ]
     },
     "metadata": {},
     "output_type": "display_data"
    }
   ],
   "source": [
    "# Calculate and plot travel time\n",
    "hour1 = data[\"CRSArrTime\"] / 100\n",
    "mins1 = data[\"CRSArrTime\"] % 100\n",
    "arrTime = hour1*60 + mins1\n",
    "\n",
    "hour2 = data[\"CRSDepTime\"] / 100\n",
    "mins2 = data[\"CRSDepTime\"] % 100\n",
    "depTime = hour2*60 + mins2\n",
    "\n",
    "\n",
    "data[\"TravelTime\"] = (arrTime-depTime > 0).ifelse((arrTime-depTime), h2o.H2OFrame([[None]] * data.nrow))\n",
    "scatter_plot(data, \"Distance\", \"TravelTime\")"
   ]
  },
  {
   "cell_type": "code",
   "execution_count": 40,
   "metadata": {},
   "outputs": [
    {
     "name": "stdout",
     "output_type": "stream",
     "text": [
      "glm Model Build progress: |███████████████████████████████████████████████| 100%\n"
     ]
    },
    {
     "data": {
      "image/png": "[encoded data removed]",
      "text/plain": [
       "<Figure size 432x288 with 1 Axes>"
      ]
     },
     "metadata": {},
     "output_type": "display_data"
    }
   ],
   "source": [
    "# Task 6: Impute missing travel times by the \"Origin\" and \"Dest\" columns and re-plot. \n",
    "data.impute(column = \"Distance\", by = [\"Origin\", \"Dest\"])\n",
    "scatter_plot(data, \"Distance\", \"TravelTime\")"
   ]
  },
  {
   "cell_type": "code",
   "execution_count": 41,
   "metadata": {},
   "outputs": [],
   "source": [
    "# Task 7: Create a test/train split\n",
    "train,test = data.split_frame([.9])"
   ]
  },
  {
   "cell_type": "code",
   "execution_count": 42,
   "metadata": {
    "collapsed": true
   },
   "outputs": [],
   "source": [
    "# Task 8: Set response variable and your choice of predictor variables\n",
    "myY = \"IsDepDelayed\"\n",
    "myX = [\"Origin\", \"Dest\", \"Year\", \"UniqueCarrier\", \"DayOfWeek\", \"Month\", \"Distance\", \"FlightNum\"]"
   ]
  },
  {
   "cell_type": "code",
   "execution_count": 43,
   "metadata": {},
   "outputs": [
    {
     "name": "stdout",
     "output_type": "stream",
     "text": [
      "glm Model Build progress: |███████████████████████████████████████████████| 100%\n"
     ]
    }
   ],
   "source": [
    "# Task 9: Build simple GLM model\n",
    "\n",
    "data_glm = H2OGeneralizedLinearEstimator(family=\"binomial\", standardize=True)\n",
    "data_glm.train(x               =myX,\n",
    "               y               =myY,\n",
    "               training_frame  =train,\n",
    "               validation_frame=test)\n"
   ]
  },
  {
   "cell_type": "code",
   "execution_count": 44,
   "metadata": {},
   "outputs": [
    {
     "name": "stdout",
     "output_type": "stream",
     "text": [
      "gbm Model Build progress: |███████████████████████████████████████████████| 100%\n"
     ]
    }
   ],
   "source": [
    "# Task 10: Build simple GBM model\n",
    "\n",
    "data_gbm = H2OGradientBoostingEstimator(balance_classes=True,\n",
    "                                        ntrees         =10,\n",
    "                                        max_depth      =1,\n",
    "                                        distribution   =\"bernoulli\",\n",
    "                                        learn_rate     =0.1,\n",
    "                                        min_rows       =2)\n",
    "\n",
    "data_gbm.train(x               =myX,\n",
    "               y               =myY,\n",
    "               training_frame  =train,\n",
    "               validation_frame=test)"
   ]
  },
  {
   "cell_type": "code",
   "execution_count": 45,
   "metadata": {},
   "outputs": [
    {
     "name": "stdout",
     "output_type": "stream",
     "text": [
      "Variable Importances:\n",
      "\n",
      "| Predictor        |   Normalized Coefficient |\n",
      "|------------------+--------------------------|\n",
      "| Year.2008        |              2.23648     |\n",
      "| Origin.MDW       |              1.58218     |\n",
      "| Year.2003        |              1.57131     |\n",
      "| Origin.HPN       |              1.55316     |\n",
      "| Dest.LYH         |              1.41372     |\n",
      "| Year.2007        |              1.4014      |\n",
      "| Origin.LIH       |              1.3322      |\n",
      "| Dest.HTS         |              1.21597     |\n",
      "| Origin.LEX       |              1.20948     |\n",
      "| UniqueCarrier.HP |              1.20419     |\n",
      "| Origin.TLH       |              1.10634     |\n",
      "| Origin.CAE       |              1.09369     |\n",
      "| Origin.HNL       |              1.05937     |\n",
      "| Origin.LBB       |              1.03871     |\n",
      "| Year.2001        |              1.03786     |\n",
      "| Origin.BTV       |              1.02759     |\n",
      "| UniqueCarrier.TW |              1.01851     |\n",
      "| Year.2002        |              1.01473     |\n",
      "| Origin.ERI       |              0.9763      |\n",
      "| Origin.MYR       |              0.937302    |\n",
      "| Origin.ATL       |              0.935583    |\n",
      "| Origin.TRI       |              0.916529    |\n",
      "| Origin.CHO       |              0.895555    |\n",
      "| Origin.OGG       |              0.873672    |\n",
      "| Year.2006        |              0.839504    |\n",
      "| Origin.PSP       |              0.836756    |\n",
      "| Origin.IAH       |              0.80898     |\n",
      "| Year.2004        |              0.807707    |\n",
      "| Origin.ORD       |              0.799258    |\n",
      "| Origin.PBI       |              0.797556    |\n",
      "| Year.1994        |              0.774634    |\n",
      "| Origin.CRP       |              0.74041     |\n",
      "| Origin.ALB       |              0.726937    |\n",
      "| Origin.LYH       |              0.724411    |\n",
      "| Dest.CHO         |              0.724411    |\n",
      "| Origin.CMH       |              0.712943    |\n",
      "| Dest.ISP         |              0.707632    |\n",
      "| Origin.STL       |              0.69686     |\n",
      "| Origin.SRQ       |              0.687303    |\n",
      "| Dest.DAY         |              0.676644    |\n",
      "| Dest.CAK         |              0.670498    |\n",
      "| Dest.PBI         |              0.669706    |\n",
      "| Origin.ROA       |              0.646814    |\n",
      "| Origin.SAV       |              0.62186     |\n",
      "| Origin.FLL       |              0.61608     |\n",
      "| Origin.MRY       |              0.610116    |\n",
      "| Year.1996        |              0.609101    |\n",
      "| Dest.PSP         |              0.606975    |\n",
      "| Dest.ICT         |              0.60201     |\n",
      "| Dest.FLL         |              0.592164    |\n",
      "| Origin.PIT       |              0.591963    |\n",
      "| Dest.LIH         |              0.591109    |\n",
      "| Origin.ACY       |              0.578618    |\n",
      "| Origin.MLB       |              0.573855    |\n",
      "| Origin.SYR       |              0.548267    |\n",
      "| UniqueCarrier.CO |              0.541955    |\n",
      "| Origin.JAX       |              0.537406    |\n",
      "| Origin.AUS       |              0.536957    |\n",
      "| Year.1990        |              0.535793    |\n",
      "| Dest.TPA         |              0.525684    |\n",
      "| Origin.MSY       |              0.525285    |\n",
      "| Dest.SFO         |              0.519478    |\n",
      "| Dest.CHS         |              0.513268    |\n",
      "| UniqueCarrier.WN |              0.513127    |\n",
      "| Origin.SLC       |              0.509006    |\n",
      "| Year.1997        |              0.502372    |\n",
      "| Origin.OKC       |              0.499027    |\n",
      "| Origin.PHL       |              0.497024    |\n",
      "| Dest.GSO         |              0.495158    |\n",
      "| Dest.FAY         |              0.494276    |\n",
      "| Origin.LAX       |              0.487463    |\n",
      "| Dest.OGG         |              0.485329    |\n",
      "| Origin.BOI       |              0.479943    |\n",
      "| Origin.STX       |              0.479399    |\n",
      "| Origin.DFW       |              0.47449     |\n",
      "| Dest.PNS         |              0.472406    |\n",
      "| Origin.GSO       |              0.466214    |\n",
      "| Origin.PWM       |              0.463376    |\n",
      "| Dest.IAH         |              0.461086    |\n",
      "| Origin.OMA       |              0.45238     |\n",
      "| Dest.OAJ         |              0.452222    |\n",
      "| Dest.GEG         |              0.452156    |\n",
      "| Origin.IND       |              0.450263    |\n",
      "| Year.2005        |              0.44926     |\n",
      "| Origin.MCO       |              0.448085    |\n",
      "| Origin.LGA       |              0.443594    |\n",
      "| Origin.MIA       |              0.443331    |\n",
      "| Dest.LBB         |              0.41592     |\n",
      "| Dest.CLE         |              0.413823    |\n",
      "| Dest.IND         |              0.413428    |\n",
      "| Dest.CAE         |              0.411012    |\n",
      "| Origin.ROC       |              0.410773    |\n",
      "| UniqueCarrier.PI |              0.40716     |\n",
      "| Year.1995        |              0.402222    |\n",
      "| Dest.ABQ         |              0.383159    |\n",
      "| Origin.EYW       |              0.382018    |\n",
      "| Origin.BUF       |              0.371354    |\n",
      "| Dest.BGM         |              0.35627     |\n",
      "| Dest.BDL         |              0.355425    |\n",
      "| Origin.JFK       |              0.354728    |\n",
      "| Origin.BOS       |              0.35084     |\n",
      "| Origin.RNO       |              0.34637     |\n",
      "| Dest.CMH         |              0.345351    |\n",
      "| Origin.BDL       |              0.344946    |\n",
      "| Origin.OAK       |              0.344208    |\n",
      "| Dest.SAT         |              0.34285     |\n",
      "| Origin.DAY       |              0.339165    |\n",
      "| Origin.SAN       |              0.334028    |\n",
      "| Origin.MCI       |              0.321631    |\n",
      "| Origin.TUS       |              0.308033    |\n",
      "| Origin.BWI       |              0.306633    |\n",
      "| Year.1991        |              0.302947    |\n",
      "| Year.1992        |              0.300952    |\n",
      "| Origin.CLT       |              0.299495    |\n",
      "| Dest.BUF         |              0.298456    |\n",
      "| Dest.FAT         |              0.292035    |\n",
      "| Dest.JAX         |              0.285829    |\n",
      "| Origin.PHF       |              0.285362    |\n",
      "| Dest.HRL         |              0.284827    |\n",
      "| Dest.STL         |              0.27637     |\n",
      "| Dest.BTV         |              0.274623    |\n",
      "| Origin.DEN       |              0.273315    |\n",
      "| Origin.MKE       |              0.270456    |\n",
      "| UniqueCarrier.AA |              0.26809     |\n",
      "| Dest.KOA         |              0.261321    |\n",
      "| Dest.MCO         |              0.260578    |\n",
      "| UniqueCarrier.US |              0.260157    |\n",
      "| DayOfWeek.5      |              0.26002     |\n",
      "| Dest.SBN         |              0.252135    |\n",
      "| Dest.UCA         |              0.249607    |\n",
      "| Origin.CRW       |              0.249082    |\n",
      "| Dest.OMA         |              0.244309    |\n",
      "| Origin.TPA       |              0.240669    |\n",
      "| Dest.SLC         |              0.240148    |\n",
      "| Year.1987        |              0.236738    |\n",
      "| Month.10         |              0.236738    |\n",
      "| Origin.BUR       |              0.232538    |\n",
      "| Dest.TUL         |              0.22682     |\n",
      "| Dest.PDX         |              0.224443    |\n",
      "| Year.1999        |              0.220733    |\n",
      "| Dest.BUR         |              0.210789    |\n",
      "| Origin.LIT       |              0.20777     |\n",
      "| Dest.SNA         |              0.205343    |\n",
      "| Origin.MDT       |              0.203545    |\n",
      "| Dest.BWI         |              0.202627    |\n",
      "| Origin.CLE       |              0.201193    |\n",
      "| Dest.IAD         |              0.201098    |\n",
      "| Origin.COS       |              0.198181    |\n",
      "| Dest.SEA         |              0.197677    |\n",
      "| Origin.PDX       |              0.19518     |\n",
      "| Dest.CLT         |              0.194804    |\n",
      "| Origin.SWF       |              0.193489    |\n",
      "| Origin.MSP       |              0.189611    |\n",
      "| Dest.MSP         |              0.183348    |\n",
      "| Dest.MIA         |              0.182812    |\n",
      "| Origin.IAD       |              0.181412    |\n",
      "| Origin.ISP       |              0.180195    |\n",
      "| Dest.ALB         |              0.174277    |\n",
      "| Dest.MKE         |              0.173424    |\n",
      "| Origin.SFO       |              0.166665    |\n",
      "| Dest.SDF         |              0.163493    |\n",
      "| Origin.BGM       |              0.162846    |\n",
      "| Dest.LAX         |              0.161593    |\n",
      "| Dest.PHL         |              0.161102    |\n",
      "| Distance         |              0.159733    |\n",
      "| Dest.DFW         |              0.159054    |\n",
      "| DayOfWeek.2      |              0.158503    |\n",
      "| Dest.AVL         |              0.15584     |\n",
      "| Dest.ONT         |              0.147069    |\n",
      "| Dest.ACY         |              0.144944    |\n",
      "| DayOfWeek.4      |              0.144377    |\n",
      "| Dest.MDW         |              0.141406    |\n",
      "| Origin.RDU       |              0.14024     |\n",
      "| Dest.MSY         |              0.132983    |\n",
      "| Origin.PHX       |              0.128323    |\n",
      "| Dest.SMF         |              0.127974    |\n",
      "| Dest.ROC         |              0.12783     |\n",
      "| Origin.ELP       |              0.125843    |\n",
      "| Dest.COS         |              0.124554    |\n",
      "| Year.1993        |              0.124464    |\n",
      "| Dest.PHX         |              0.123731    |\n",
      "| Dest.ILM         |              0.121728    |\n",
      "| Year.1989        |              0.119341    |\n",
      "| DayOfWeek.6      |              0.118796    |\n",
      "| Origin.SJC       |              0.11643     |\n",
      "| Dest.OAK         |              0.116178    |\n",
      "| Origin.ORF       |              0.109458    |\n",
      "| Dest.RSW         |              0.109288    |\n",
      "| Month.1          |              0.107885    |\n",
      "| Dest.ORD         |              0.104301    |\n",
      "| Year.2000        |              0.0990253   |\n",
      "| Dest.LAS         |              0.0979131   |\n",
      "| Origin.PVD       |              0.0974108   |\n",
      "| Origin.BHM       |              0.0972851   |\n",
      "| Dest.BNA         |              0.0965401   |\n",
      "| Dest.PVD         |              0.0962006   |\n",
      "| Dest.ROA         |              0.0899155   |\n",
      "| Dest.SAN         |              0.0865249   |\n",
      "| Origin.DCA       |              0.0855969   |\n",
      "| Dest.MAF         |              0.0838388   |\n",
      "| Year.1998        |              0.0814944   |\n",
      "| Dest.BHM         |              0.0745394   |\n",
      "| Dest.GSP         |              0.0716197   |\n",
      "| Dest.RDU         |              0.0711357   |\n",
      "| Dest.DAL         |              0.0710077   |\n",
      "| Dest.HNL         |              0.0675259   |\n",
      "| Dest.SYR         |              0.0644608   |\n",
      "| Origin.DTW       |              0.0598259   |\n",
      "| Dest.MCI         |              0.0592781   |\n",
      "| Dest.DEN         |              0.0478467   |\n",
      "| Dest.HPN         |              0.0412054   |\n",
      "| UniqueCarrier.UA |              0.0411691   |\n",
      "| FlightNum        |              0.0395716   |\n",
      "| Origin.MFR       |              0.0392779   |\n",
      "| DayOfWeek.7      |              0.0368093   |\n",
      "| Origin.AVP       |              0.0363764   |\n",
      "| Dest.RNO         |              0.0334651   |\n",
      "| Dest.EWR         |              0.0328481   |\n",
      "| Origin.MEM       |              0.0302658   |\n",
      "| Dest.SJC         |              0.0275965   |\n",
      "| Origin.SMF       |              0.0262741   |\n",
      "| Dest.ABE         |              0.0231411   |\n",
      "| UniqueCarrier.DL |              0.0221988   |\n",
      "| Origin.GEG       |              0.0203448   |\n",
      "| Dest.HOU         |              0.0188547   |\n",
      "| Intercept        |              0.0176665   |\n",
      "| Origin.BNA       |              0.0163581   |\n",
      "| Dest.AUS         |              0.0151133   |\n",
      "| DayOfWeek.3      |              0.0144264   |\n",
      "| Origin.SNA       |              0.01316     |\n",
      "| Origin.RSW       |              0.0126265   |\n",
      "| Year.1988        |              0.0105367   |\n",
      "| Origin.DAL       |              0.00971928  |\n",
      "| Origin.ABQ       |              0.00503002  |\n",
      "| Origin.EWR       |              0.00380557  |\n",
      "| Origin.CHS       |              0.00374979  |\n",
      "| Origin.CVG       |              0.00230268  |\n",
      "| Dest.MDT         |              6.23232e-05 |\n",
      "| Dest.LGA         |              1.2259e-05  |\n",
      "| Dest.AMA         |              0           |\n",
      "| Dest.ANC         |              0           |\n",
      "| Dest.ATL         |              0           |\n",
      "| Dest.AVP         |              0           |\n",
      "| Dest.BOI         |              0           |\n",
      "| Dest.BOS         |              0           |\n",
      "| Dest.CHA         |              0           |\n",
      "| Dest.CRP         |              0           |\n",
      "| Dest.CVG         |              0           |\n",
      "| Dest.DCA         |              0           |\n",
      "| Dest.DSM         |              0           |\n",
      "| Dest.DTW         |              0           |\n",
      "| Dest.ELM         |              0           |\n",
      "| Dest.ELP         |              0           |\n",
      "| Dest.ERI         |              0           |\n",
      "| Dest.EUG         |              0           |\n",
      "| Dest.EYW         |              0           |\n",
      "| Dest.FNT         |              0           |\n",
      "| Dest.GRR         |              0           |\n",
      "| Dest.JAN         |              0           |\n",
      "| Dest.JFK         |              0           |\n",
      "| Dest.LEX         |              0           |\n",
      "| Dest.LIT         |              0           |\n",
      "| Dest.MHT         |              0           |\n",
      "| Dest.MRY         |              0           |\n",
      "| Dest.MYR         |              0           |\n",
      "| Dest.OKC         |              0           |\n",
      "| Dest.ORF         |              0           |\n",
      "| Dest.ORH         |              0           |\n",
      "| Dest.PHF         |              0           |\n",
      "| Dest.PIT         |              0           |\n",
      "| Dest.PWM         |              0           |\n",
      "| Dest.RIC         |              0           |\n",
      "| Dest.SCK         |              0           |\n",
      "| Dest.SJU         |              0           |\n",
      "| Dest.SRQ         |              0           |\n",
      "| Dest.STT         |              0           |\n",
      "| Dest.SWF         |              0           |\n",
      "| Dest.TOL         |              0           |\n",
      "| Dest.TUS         |              0           |\n",
      "| Origin.ABE       |              0           |\n",
      "| Origin.AMA       |              0           |\n",
      "| Origin.ANC       |              0           |\n",
      "| Origin.BIL       |              0           |\n",
      "| Origin.DSM       |              0           |\n",
      "| Origin.EGE       |              0           |\n",
      "| Origin.GNV       |              0           |\n",
      "| Origin.GRR       |              0           |\n",
      "| Origin.HOU       |              0           |\n",
      "| Origin.HRL       |              0           |\n",
      "| Origin.ICT       |              0           |\n",
      "| Origin.JAN       |              0           |\n",
      "| Origin.KOA       |              0           |\n",
      "| Origin.LAN       |              0           |\n",
      "| Origin.LAS       |              0           |\n",
      "| Origin.MAF       |              0           |\n",
      "| Origin.MHT       |              0           |\n",
      "| Origin.ONT       |              0           |\n",
      "| Origin.RIC       |              0           |\n",
      "| Origin.SAT       |              0           |\n",
      "| Origin.SBN       |              0           |\n",
      "| Origin.SCK       |              0           |\n",
      "| Origin.SDF       |              0           |\n",
      "| Origin.SEA       |              0           |\n",
      "| Origin.SJU       |              0           |\n",
      "| Origin.STT       |              0           |\n",
      "| Origin.TUL       |              0           |\n",
      "| Origin.TYS       |              0           |\n",
      "| Origin.UCA       |              0           |\n",
      "| UniqueCarrier.PS |              0           |\n"
     ]
    },
    {
     "name": "stdout",
     "output_type": "stream",
     "text": [
      "| DayOfWeek.1      |              0           |\n",
      "Warning: This model doesn't have variable importances\n"
     ]
    },
    {
     "data": {
      "text/plain": [
       "[('Year', 2932.593505859375, 1.0, 0.8491710335609072),\n",
       " ('Origin', 520.884521484375, 0.17761906668743496, 0.15082896643909283),\n",
       " ('Month', 0.0, 0.0, 0.0),\n",
       " ('DayOfWeek', 0.0, 0.0, 0.0),\n",
       " ('UniqueCarrier', 0.0, 0.0, 0.0),\n",
       " ('FlightNum', 0.0, 0.0, 0.0),\n",
       " ('Dest', 0.0, 0.0, 0.0),\n",
       " ('Distance', 0.0, 0.0, 0.0)]"
      ]
     },
     "execution_count": 45,
     "metadata": {},
     "output_type": "execute_result"
    }
   ],
   "source": [
    "# Variable importances from each algorithm\n",
    "# Calculate magnitude of normalized GLM coefficients\n",
    "from six import iteritems\n",
    "glm_varimp = data_glm.coef_norm()\n",
    "for k,v in iteritems(glm_varimp):\n",
    "    glm_varimp[k] = abs(glm_varimp[k])\n",
    "    \n",
    "# Sort in descending order by magnitude\n",
    "glm_sorted = sorted(glm_varimp.items(), key = operator.itemgetter(1), reverse = True)\n",
    "table = tabulate(glm_sorted, headers = [\"Predictor\", \"Normalized Coefficient\"], tablefmt = \"orgtbl\")\n",
    "print(\"Variable Importances:\\n\\n\" + table)\n",
    "\n",
    "data_glm.varimp()\n",
    "data_gbm.varimp()"
   ]
  },
  {
   "cell_type": "code",
   "execution_count": 46,
   "metadata": {},
   "outputs": [
    {
     "data": {
      "text/plain": [
       "['F0point5',\n",
       " 'F1',\n",
       " 'F2',\n",
       " 'Lambda',\n",
       " '__class__',\n",
       " '__delattr__',\n",
       " '__dict__',\n",
       " '__dir__',\n",
       " '__doc__',\n",
       " '__eq__',\n",
       " '__format__',\n",
       " '__ge__',\n",
       " '__getattr__',\n",
       " '__getattribute__',\n",
       " '__gt__',\n",
       " '__hash__',\n",
       " '__init__',\n",
       " '__init_subclass__',\n",
       " '__le__',\n",
       " '__lt__',\n",
       " '__module__',\n",
       " '__ne__',\n",
       " '__new__',\n",
       " '__reduce__',\n",
       " '__reduce_ex__',\n",
       " '__repr__',\n",
       " '__setattr__',\n",
       " '__sizeof__',\n",
       " '__str__',\n",
       " '__subclasshook__',\n",
       " '__weakref__',\n",
       " '_bc',\n",
       " '_bcin',\n",
       " '_check_and_save_parm',\n",
       " '_check_targets',\n",
       " '_compute_algo',\n",
       " '_end_time',\n",
       " '_estimator_type',\n",
       " '_future',\n",
       " '_get_metrics',\n",
       " '_have_mojo',\n",
       " '_have_pojo',\n",
       " '_id',\n",
       " '_is_xvalidated',\n",
       " '_job',\n",
       " '_keyify_if_h2oframe',\n",
       " '_metrics_class',\n",
       " '_model_json',\n",
       " '_parms',\n",
       " '_plot',\n",
       " '_requires_training_frame',\n",
       " '_resolve_model',\n",
       " '_run_time',\n",
       " '_start_time',\n",
       " '_verify_training_frame_params',\n",
       " '_xval_keys',\n",
       " 'accuracy',\n",
       " 'actual_params',\n",
       " 'aic',\n",
       " 'algo',\n",
       " 'alpha',\n",
       " 'auc',\n",
       " 'balance_classes',\n",
       " 'beta_constraints',\n",
       " 'beta_epsilon',\n",
       " 'biases',\n",
       " 'catoffsets',\n",
       " 'class_sampling_factors',\n",
       " 'coef',\n",
       " 'coef_norm',\n",
       " 'compute_p_values',\n",
       " 'confusion_matrix',\n",
       " 'convert_H2OXGBoostParams_2_XGBoostParams',\n",
       " 'cross_validation_fold_assignment',\n",
       " 'cross_validation_holdout_predictions',\n",
       " 'cross_validation_metrics_summary',\n",
       " 'cross_validation_models',\n",
       " 'cross_validation_predictions',\n",
       " 'custom_metric_func',\n",
       " 'deepfeatures',\n",
       " 'default_params',\n",
       " 'download_mojo',\n",
       " 'download_pojo',\n",
       " 'early_stopping',\n",
       " 'end_time',\n",
       " 'error',\n",
       " 'export_checkpoints_dir',\n",
       " 'fallout',\n",
       " 'family',\n",
       " 'find_idx_by_threshold',\n",
       " 'find_threshold_by_max_metric',\n",
       " 'fit',\n",
       " 'fnr',\n",
       " 'fold_assignment',\n",
       " 'fold_column',\n",
       " 'fpr',\n",
       " 'full_parameters',\n",
       " 'gains_lift',\n",
       " 'getGLMRegularizationPath',\n",
       " 'get_params',\n",
       " 'get_xval_models',\n",
       " 'gini',\n",
       " 'gradient_epsilon',\n",
       " 'have_mojo',\n",
       " 'have_pojo',\n",
       " 'ignore_const_cols',\n",
       " 'ignored_columns',\n",
       " 'interaction_pairs',\n",
       " 'interactions',\n",
       " 'intercept',\n",
       " 'is_cross_validated',\n",
       " 'join',\n",
       " 'keep_cross_validation_fold_assignment',\n",
       " 'keep_cross_validation_models',\n",
       " 'keep_cross_validation_predictions',\n",
       " 'lambda_',\n",
       " 'lambda_min_ratio',\n",
       " 'lambda_search',\n",
       " 'link',\n",
       " 'logloss',\n",
       " 'mae',\n",
       " 'makeGLMModel',\n",
       " 'max_active_predictors',\n",
       " 'max_after_balance_size',\n",
       " 'max_confusion_matrix_size',\n",
       " 'max_hit_ratio_k',\n",
       " 'max_iterations',\n",
       " 'max_per_class_error',\n",
       " 'max_runtime_secs',\n",
       " 'mcc',\n",
       " 'mean_per_class_error',\n",
       " 'mean_residual_deviance',\n",
       " 'metric',\n",
       " 'missing_values_handling',\n",
       " 'missrate',\n",
       " 'mixin',\n",
       " 'model_id',\n",
       " 'model_performance',\n",
       " 'mse',\n",
       " 'nfolds',\n",
       " 'nlambdas',\n",
       " 'non_negative',\n",
       " 'normmul',\n",
       " 'normsub',\n",
       " 'null_degrees_of_freedom',\n",
       " 'null_deviance',\n",
       " 'obj_reg',\n",
       " 'objective_epsilon',\n",
       " 'offset_column',\n",
       " 'params',\n",
       " 'parms',\n",
       " 'partial_plot',\n",
       " 'plot',\n",
       " 'pprint_coef',\n",
       " 'precision',\n",
       " 'predict',\n",
       " 'predict_leaf_node_assignment',\n",
       " 'prior',\n",
       " 'r2',\n",
       " 'recall',\n",
       " 'remove_collinear_columns',\n",
       " 'residual_degrees_of_freedom',\n",
       " 'residual_deviance',\n",
       " 'respmul',\n",
       " 'response_column',\n",
       " 'respsub',\n",
       " 'rmse',\n",
       " 'rmsle',\n",
       " 'roc',\n",
       " 'rotation',\n",
       " 'run_time',\n",
       " 'save_model_details',\n",
       " 'save_mojo',\n",
       " 'score_each_iteration',\n",
       " 'score_history',\n",
       " 'scoring_history',\n",
       " 'seed',\n",
       " 'sensitivity',\n",
       " 'set_params',\n",
       " 'show',\n",
       " 'solver',\n",
       " 'specificity',\n",
       " 'staged_predict_proba',\n",
       " 'standardize',\n",
       " 'start',\n",
       " 'start_time',\n",
       " 'std_coef_plot',\n",
       " 'summary',\n",
       " 'tnr',\n",
       " 'tpr',\n",
       " 'train',\n",
       " 'training_frame',\n",
       " 'tweedie_link_power',\n",
       " 'tweedie_variance_power',\n",
       " 'type',\n",
       " 'validation_frame',\n",
       " 'varimp',\n",
       " 'varimp_plot',\n",
       " 'weights',\n",
       " 'weights_column',\n",
       " 'xval_keys',\n",
       " 'xvals']"
      ]
     },
     "execution_count": 46,
     "metadata": {},
     "output_type": "execute_result"
    }
   ],
   "source": [
    "dir(data_glm)"
   ]
  },
  {
   "cell_type": "code",
   "execution_count": 47,
   "metadata": {},
   "outputs": [
    {
     "name": "stderr",
     "output_type": "stream",
     "text": [
      "/Users/bear/anaconda/lib/python3.6/site-packages/matplotlib/cbook/deprecation.py:107: MatplotlibDeprecationWarning: Passing one of 'on', 'true', 'off', 'false' as a boolean is deprecated; use an actual boolean (True/False) instead.\n",
      "  warnings.warn(message, mplDeprecation, stacklevel=1)\n"
     ]
    },
    {
     "data": {
      "image/png": "[encoded data removed]",
      "text/plain": [
       "<Figure size 1008x720 with 1 Axes>"
      ]
     },
     "metadata": {},
     "output_type": "display_data"
    },
    {
     "data": {
      "image/png": "[encoded data removed]",
      "text/plain": [
       "<Figure size 1008x720 with 1 Axes>"
      ]
     },
     "metadata": {},
     "output_type": "display_data"
    }
   ],
   "source": [
    "data_glm.std_coef_plot()\n",
    "data_gbm.varimp_plot()"
   ]
  },
  {
   "cell_type": "code",
   "execution_count": 48,
   "metadata": {
    "scrolled": true
   },
   "outputs": [
    {
     "name": "stdout",
     "output_type": "stream",
     "text": [
      "\n",
      "ModelMetricsBinomial: gbm\n",
      "** Reported on test data. **\n",
      "\n",
      "MSE: 0.23578015654084256\n",
      "RMSE: 0.48557198904059795\n",
      "LogLoss: 0.6643704584465113\n",
      "Mean Per-Class Error: 0.3657797830210392\n",
      "AUC: 0.6645601692023206\n",
      "pr_auc: 0.5323561417148603\n",
      "Gini: 0.3291203384046413\n",
      "Confusion Matrix (Act/Pred) for max f1 @ threshold = 0.45237684869009187: \n"
     ]
    },
    {
     "data": {
      "text/html": [
       "<div style=\"overflow:auto\"><table style=\"width:50%\"><tr><td><b></b></td>\n",
       "<td><b>NO</b></td>\n",
       "<td><b>YES</b></td>\n",
       "<td><b>Error</b></td>\n",
       "<td><b>Rate</b></td></tr>\n",
       "<tr><td>NO</td>\n",
       "<td>276.0</td>\n",
       "<td>1889.0</td>\n",
       "<td>0.8725</td>\n",
       "<td> (1889.0/2165.0)</td></tr>\n",
       "<tr><td>YES</td>\n",
       "<td>99.0</td>\n",
       "<td>2229.0</td>\n",
       "<td>0.0425</td>\n",
       "<td> (99.0/2328.0)</td></tr>\n",
       "<tr><td>Total</td>\n",
       "<td>375.0</td>\n",
       "<td>4118.0</td>\n",
       "<td>0.4425</td>\n",
       "<td> (1988.0/4493.0)</td></tr></table></div>"
      ],
      "text/plain": [
       "       NO    YES    Error    Rate\n",
       "-----  ----  -----  -------  ---------------\n",
       "NO     276   1889   0.8725   (1889.0/2165.0)\n",
       "YES    99    2229   0.0425   (99.0/2328.0)\n",
       "Total  375   4118   0.4425   (1988.0/4493.0)"
      ]
     },
     "metadata": {},
     "output_type": "display_data"
    },
    {
     "name": "stdout",
     "output_type": "stream",
     "text": [
      "Maximum Metrics: Maximum metrics at their respective thresholds\n",
      "\n"
     ]
    },
    {
     "data": {
      "text/html": [
       "<div style=\"overflow:auto\"><table style=\"width:50%\"><tr><td><b>metric</b></td>\n",
       "<td><b>threshold</b></td>\n",
       "<td><b>value</b></td>\n",
       "<td><b>idx</b></td></tr>\n",
       "<tr><td>max f1</td>\n",
       "<td>0.4523768</td>\n",
       "<td>0.6915917</td>\n",
       "<td>22.0</td></tr>\n",
       "<tr><td>max f2</td>\n",
       "<td>0.4357455</td>\n",
       "<td>0.8431728</td>\n",
       "<td>23.0</td></tr>\n",
       "<tr><td>max f0point5</td>\n",
       "<td>0.5274961</td>\n",
       "<td>0.6474941</td>\n",
       "<td>14.0</td></tr>\n",
       "<tr><td>max accuracy</td>\n",
       "<td>0.5274961</td>\n",
       "<td>0.6352103</td>\n",
       "<td>14.0</td></tr>\n",
       "<tr><td>max precision</td>\n",
       "<td>0.6282162</td>\n",
       "<td>0.7729008</td>\n",
       "<td>0.0</td></tr>\n",
       "<tr><td>max recall</td>\n",
       "<td>0.4357455</td>\n",
       "<td>1.0</td>\n",
       "<td>23.0</td></tr>\n",
       "<tr><td>max specificity</td>\n",
       "<td>0.6282162</td>\n",
       "<td>0.9450346</td>\n",
       "<td>0.0</td></tr>\n",
       "<tr><td>max absolute_mcc</td>\n",
       "<td>0.5274961</td>\n",
       "<td>0.2688204</td>\n",
       "<td>14.0</td></tr>\n",
       "<tr><td>max min_per_class_accuracy</td>\n",
       "<td>0.5290360</td>\n",
       "<td>0.6286374</td>\n",
       "<td>13.0</td></tr>\n",
       "<tr><td>max mean_per_class_accuracy</td>\n",
       "<td>0.5274961</td>\n",
       "<td>0.6342202</td>\n",
       "<td>14.0</td></tr></table></div>"
      ],
      "text/plain": [
       "metric                       threshold    value     idx\n",
       "---------------------------  -----------  --------  -----\n",
       "max f1                       0.452377     0.691592  22\n",
       "max f2                       0.435746     0.843173  23\n",
       "max f0point5                 0.527496     0.647494  14\n",
       "max accuracy                 0.527496     0.63521   14\n",
       "max precision                0.628216     0.772901  0\n",
       "max recall                   0.435746     1         23\n",
       "max specificity              0.628216     0.945035  0\n",
       "max absolute_mcc             0.527496     0.26882   14\n",
       "max min_per_class_accuracy   0.529036     0.628637  13\n",
       "max mean_per_class_accuracy  0.527496     0.63422   14"
      ]
     },
     "metadata": {},
     "output_type": "display_data"
    },
    {
     "name": "stdout",
     "output_type": "stream",
     "text": [
      "Gains/Lift Table: Avg response rate: 51.81 %, avg score: 52.66 %\n",
      "\n"
     ]
    },
    {
     "data": {
      "text/html": [
       "<div style=\"overflow:auto\"><table style=\"width:50%\"><tr><td><b></b></td>\n",
       "<td><b>group</b></td>\n",
       "<td><b>cumulative_data_fraction</b></td>\n",
       "<td><b>lower_threshold</b></td>\n",
       "<td><b>lift</b></td>\n",
       "<td><b>cumulative_lift</b></td>\n",
       "<td><b>response_rate</b></td>\n",
       "<td><b>score</b></td>\n",
       "<td><b>cumulative_response_rate</b></td>\n",
       "<td><b>cumulative_score</b></td>\n",
       "<td><b>capture_rate</b></td>\n",
       "<td><b>cumulative_capture_rate</b></td>\n",
       "<td><b>gain</b></td>\n",
       "<td><b>cumulative_gain</b></td></tr>\n",
       "<tr><td></td>\n",
       "<td>1</td>\n",
       "<td>0.1166259</td>\n",
       "<td>0.6282162</td>\n",
       "<td>1.4916852</td>\n",
       "<td>1.4916852</td>\n",
       "<td>0.7729008</td>\n",
       "<td>0.6282162</td>\n",
       "<td>0.7729008</td>\n",
       "<td>0.6282162</td>\n",
       "<td>0.1739691</td>\n",
       "<td>0.1739691</td>\n",
       "<td>49.1685193</td>\n",
       "<td>49.1685193</td></tr>\n",
       "<tr><td></td>\n",
       "<td>2</td>\n",
       "<td>0.1573559</td>\n",
       "<td>0.6102753</td>\n",
       "<td>1.2233771</td>\n",
       "<td>1.4222363</td>\n",
       "<td>0.6338798</td>\n",
       "<td>0.6110826</td>\n",
       "<td>0.7369165</td>\n",
       "<td>0.6237813</td>\n",
       "<td>0.0498282</td>\n",
       "<td>0.2237973</td>\n",
       "<td>22.3377087</td>\n",
       "<td>42.2236277</td></tr>\n",
       "<tr><td></td>\n",
       "<td>3</td>\n",
       "<td>0.2025373</td>\n",
       "<td>0.5963080</td>\n",
       "<td>1.2549642</td>\n",
       "<td>1.3849217</td>\n",
       "<td>0.6502463</td>\n",
       "<td>0.5963080</td>\n",
       "<td>0.7175824</td>\n",
       "<td>0.6176527</td>\n",
       "<td>0.0567010</td>\n",
       "<td>0.2804983</td>\n",
       "<td>25.4964197</td>\n",
       "<td>38.4921736</td></tr>\n",
       "<tr><td></td>\n",
       "<td>4</td>\n",
       "<td>0.3040285</td>\n",
       "<td>0.5686764</td>\n",
       "<td>1.2824228</td>\n",
       "<td>1.3507054</td>\n",
       "<td>0.6644737</td>\n",
       "<td>0.5836498</td>\n",
       "<td>0.6998536</td>\n",
       "<td>0.6063018</td>\n",
       "<td>0.1301546</td>\n",
       "<td>0.4106529</td>\n",
       "<td>28.2422793</td>\n",
       "<td>35.0705398</td></tr>\n",
       "<tr><td></td>\n",
       "<td>5</td>\n",
       "<td>0.4133096</td>\n",
       "<td>0.5441812</td>\n",
       "<td>1.1006012</td>\n",
       "<td>1.2845766</td>\n",
       "<td>0.5702648</td>\n",
       "<td>0.5484776</td>\n",
       "<td>0.6655897</td>\n",
       "<td>0.5910128</td>\n",
       "<td>0.1202749</td>\n",
       "<td>0.5309278</td>\n",
       "<td>10.0601200</td>\n",
       "<td>28.4576609</td></tr>\n",
       "<tr><td></td>\n",
       "<td>6</td>\n",
       "<td>0.5083463</td>\n",
       "<td>0.5290360</td>\n",
       "<td>1.1028473</td>\n",
       "<td>1.2506018</td>\n",
       "<td>0.5714286</td>\n",
       "<td>0.5302202</td>\n",
       "<td>0.6479860</td>\n",
       "<td>0.5796475</td>\n",
       "<td>0.1048110</td>\n",
       "<td>0.6357388</td>\n",
       "<td>10.2847324</td>\n",
       "<td>25.0601826</td></tr>\n",
       "<tr><td></td>\n",
       "<td>7</td>\n",
       "<td>0.6018251</td>\n",
       "<td>0.5106785</td>\n",
       "<td>0.7995643</td>\n",
       "<td>1.1805442</td>\n",
       "<td>0.4142857</td>\n",
       "<td>0.5151591</td>\n",
       "<td>0.6116864</td>\n",
       "<td>0.5696308</td>\n",
       "<td>0.0747423</td>\n",
       "<td>0.7104811</td>\n",
       "<td>-20.0435690</td>\n",
       "<td>18.0544224</td></tr>\n",
       "<tr><td></td>\n",
       "<td>8</td>\n",
       "<td>0.8103717</td>\n",
       "<td>0.4690445</td>\n",
       "<td>0.8259585</td>\n",
       "<td>1.0892927</td>\n",
       "<td>0.4279616</td>\n",
       "<td>0.4765677</td>\n",
       "<td>0.5644054</td>\n",
       "<td>0.5456813</td>\n",
       "<td>0.1722509</td>\n",
       "<td>0.8827320</td>\n",
       "<td>-17.4041505</td>\n",
       "<td>8.9292692</td></tr>\n",
       "<tr><td></td>\n",
       "<td>9</td>\n",
       "<td>0.9165368</td>\n",
       "<td>0.4523768</td>\n",
       "<td>0.7040189</td>\n",
       "<td>1.0446653</td>\n",
       "<td>0.3647799</td>\n",
       "<td>0.4524299</td>\n",
       "<td>0.5412822</td>\n",
       "<td>0.5348797</td>\n",
       "<td>0.0747423</td>\n",
       "<td>0.9574742</td>\n",
       "<td>-29.5981110</td>\n",
       "<td>4.4665299</td></tr>\n",
       "<tr><td></td>\n",
       "<td>10</td>\n",
       "<td>1.0</td>\n",
       "<td>0.4357455</td>\n",
       "<td>0.5095155</td>\n",
       "<td>1.0</td>\n",
       "<td>0.264</td>\n",
       "<td>0.4357455</td>\n",
       "<td>0.5181393</td>\n",
       "<td>0.5266056</td>\n",
       "<td>0.0425258</td>\n",
       "<td>1.0</td>\n",
       "<td>-49.0484536</td>\n",
       "<td>0.0</td></tr></table></div>"
      ],
      "text/plain": [
       "    group    cumulative_data_fraction    lower_threshold    lift      cumulative_lift    response_rate    score     cumulative_response_rate    cumulative_score    capture_rate    cumulative_capture_rate    gain      cumulative_gain\n",
       "--  -------  --------------------------  -----------------  --------  -----------------  ---------------  --------  --------------------------  ------------------  --------------  -------------------------  --------  -----------------\n",
       "    1        0.116626                    0.628216           1.49169   1.49169            0.772901         0.628216  0.772901                    0.628216            0.173969        0.173969                   49.1685   49.1685\n",
       "    2        0.157356                    0.610275           1.22338   1.42224            0.63388          0.611083  0.736917                    0.623781            0.0498282       0.223797                   22.3377   42.2236\n",
       "    3        0.202537                    0.596308           1.25496   1.38492            0.650246         0.596308  0.717582                    0.617653            0.056701        0.280498                   25.4964   38.4922\n",
       "    4        0.304028                    0.568676           1.28242   1.35071            0.664474         0.58365   0.699854                    0.606302            0.130155        0.410653                   28.2423   35.0705\n",
       "    5        0.41331                     0.544181           1.1006    1.28458            0.570265         0.548478  0.66559                     0.591013            0.120275        0.530928                   10.0601   28.4577\n",
       "    6        0.508346                    0.529036           1.10285   1.2506             0.571429         0.53022   0.647986                    0.579647            0.104811        0.635739                   10.2847   25.0602\n",
       "    7        0.601825                    0.510678           0.799564  1.18054            0.414286         0.515159  0.611686                    0.569631            0.0747423       0.710481                   -20.0436  18.0544\n",
       "    8        0.810372                    0.469045           0.825958  1.08929            0.427962         0.476568  0.564405                    0.545681            0.172251        0.882732                   -17.4042  8.92927\n",
       "    9        0.916537                    0.452377           0.704019  1.04467            0.36478          0.45243   0.541282                    0.53488             0.0747423       0.957474                   -29.5981  4.46653\n",
       "    10       1                           0.435746           0.509515  1                  0.264            0.435746  0.518139                    0.526606            0.0425258       1                          -49.0485  0"
      ]
     },
     "metadata": {},
     "output_type": "display_data"
    },
    {
     "name": "stdout",
     "output_type": "stream",
     "text": [
      "\n"
     ]
    },
    {
     "data": {
      "text/plain": []
     },
     "execution_count": 48,
     "metadata": {},
     "output_type": "execute_result"
    }
   ],
   "source": [
    "# Model performance of GBM model on test data\n",
    "data_gbm.model_performance(test)"
   ]
  },
  {
   "cell_type": "code",
   "execution_count": 49,
   "metadata": {
    "collapsed": true
   },
   "outputs": [],
   "source": [
    "def get_independent_variables(df, targ):\n",
    "    C = [name for name in df.columns if name != targ]\n",
    "    # determine column types\n",
    "    ints, reals, enums = [], [], []\n",
    "    for key, val in df.types.items():\n",
    "        if key in C:\n",
    "            if val == 'enum':\n",
    "                enums.append(key)\n",
    "            elif val == 'int':\n",
    "                ints.append(key)            \n",
    "            else: \n",
    "                reals.append(key)    \n",
    "    x=ints+enums+reals\n",
    "    return x"
   ]
  },
  {
   "cell_type": "code",
   "execution_count": 50,
   "metadata": {},
   "outputs": [
    {
     "name": "stdout",
     "output_type": "stream",
     "text": [
      "['DayofMonth', 'DepTime', 'CRSDepTime', 'ArrTime', 'CRSArrTime', 'FlightNum', 'ActualElapsedTime', 'CRSElapsedTime', 'AirTime', 'ArrDelay', 'DepDelay', 'Distance', 'TaxiIn', 'TaxiOut', 'Diverted', 'CarrierDelay', 'WeatherDelay', 'NASDelay', 'SecurityDelay', 'LateAircraftDelay', 'Year', 'Month', 'DayOfWeek', 'UniqueCarrier', 'TailNum', 'Origin', 'Dest', 'Cancelled', 'CancellationCode', 'IsArrDelayed', 'TravelTime']\n",
      "IsDepDelayed\n"
     ]
    }
   ],
   "source": [
    "X=get_independent_variables(train, myY) \n",
    "print(X)\n",
    "print(myY)"
   ]
  },
  {
   "cell_type": "code",
   "execution_count": 51,
   "metadata": {},
   "outputs": [
    {
     "name": "stdout",
     "output_type": "stream",
     "text": [
      "['Year', 'Month', 'DayofMonth', 'DayOfWeek', 'DepTime', 'CRSDepTime', 'ArrTime', 'CRSArrTime', 'UniqueCarrier', 'FlightNum', 'TailNum', 'ActualElapsedTime', 'CRSElapsedTime', 'AirTime', 'ArrDelay', 'DepDelay', 'Origin', 'Dest', 'Distance', 'TaxiIn', 'TaxiOut', 'Cancelled', 'CancellationCode', 'Diverted', 'CarrierDelay', 'WeatherDelay', 'NASDelay', 'SecurityDelay', 'LateAircraftDelay', 'IsArrDelayed', 'IsDepDelayed', 'TravelTime']\n"
     ]
    }
   ],
   "source": [
    "print(train.columns)"
   ]
  },
  {
   "cell_type": "code",
   "execution_count": 52,
   "metadata": {},
   "outputs": [
    {
     "data": {
      "text/html": [
       "<table>\n",
       "<thead>\n",
       "<tr><th style=\"text-align: right;\">  Year</th><th style=\"text-align: right;\">  Month</th><th style=\"text-align: right;\">  DayofMonth</th><th style=\"text-align: right;\">  DayOfWeek</th><th style=\"text-align: right;\">  DepTime</th><th style=\"text-align: right;\">  CRSDepTime</th><th style=\"text-align: right;\">  ArrTime</th><th style=\"text-align: right;\">  CRSArrTime</th><th>UniqueCarrier  </th><th style=\"text-align: right;\">  FlightNum</th><th>TailNum  </th><th style=\"text-align: right;\">  ActualElapsedTime</th><th style=\"text-align: right;\">  CRSElapsedTime</th><th style=\"text-align: right;\">  AirTime</th><th style=\"text-align: right;\">  ArrDelay</th><th style=\"text-align: right;\">  DepDelay</th><th>Origin  </th><th>Dest  </th><th style=\"text-align: right;\">  Distance</th><th style=\"text-align: right;\">  TaxiIn</th><th style=\"text-align: right;\">  TaxiOut</th><th style=\"text-align: right;\">  Cancelled</th><th>CancellationCode  </th><th style=\"text-align: right;\">  Diverted</th><th style=\"text-align: right;\">  CarrierDelay</th><th style=\"text-align: right;\">  WeatherDelay</th><th style=\"text-align: right;\">  NASDelay</th><th style=\"text-align: right;\">  SecurityDelay</th><th style=\"text-align: right;\">  LateAircraftDelay</th><th>IsArrDelayed  </th><th>IsDepDelayed  </th><th style=\"text-align: right;\">  TravelTime</th></tr>\n",
       "</thead>\n",
       "<tbody>\n",
       "<tr><td style=\"text-align: right;\">  1987</td><td style=\"text-align: right;\">     10</td><td style=\"text-align: right;\">          14</td><td style=\"text-align: right;\">          3</td><td style=\"text-align: right;\">      741</td><td style=\"text-align: right;\">         730</td><td style=\"text-align: right;\">      912</td><td style=\"text-align: right;\">         849</td><td>PS             </td><td style=\"text-align: right;\">       1451</td><td>NA       </td><td style=\"text-align: right;\">                 91</td><td style=\"text-align: right;\">              79</td><td style=\"text-align: right;\">      nan</td><td style=\"text-align: right;\">        23</td><td style=\"text-align: right;\">        11</td><td>SAN     </td><td>SFO   </td><td style=\"text-align: right;\">       447</td><td style=\"text-align: right;\">     nan</td><td style=\"text-align: right;\">      nan</td><td style=\"text-align: right;\">          0</td><td>NA                </td><td style=\"text-align: right;\">         0</td><td style=\"text-align: right;\">           nan</td><td style=\"text-align: right;\">           nan</td><td style=\"text-align: right;\">       nan</td><td style=\"text-align: right;\">            nan</td><td style=\"text-align: right;\">                nan</td><td>YES           </td><td>YES           </td><td style=\"text-align: right;\">        90.4</td></tr>\n",
       "<tr><td style=\"text-align: right;\">  1987</td><td style=\"text-align: right;\">     10</td><td style=\"text-align: right;\">          15</td><td style=\"text-align: right;\">          4</td><td style=\"text-align: right;\">      729</td><td style=\"text-align: right;\">         730</td><td style=\"text-align: right;\">      903</td><td style=\"text-align: right;\">         849</td><td>PS             </td><td style=\"text-align: right;\">       1451</td><td>NA       </td><td style=\"text-align: right;\">                 94</td><td style=\"text-align: right;\">              79</td><td style=\"text-align: right;\">      nan</td><td style=\"text-align: right;\">        14</td><td style=\"text-align: right;\">        -1</td><td>SAN     </td><td>SFO   </td><td style=\"text-align: right;\">       447</td><td style=\"text-align: right;\">     nan</td><td style=\"text-align: right;\">      nan</td><td style=\"text-align: right;\">          0</td><td>NA                </td><td style=\"text-align: right;\">         0</td><td style=\"text-align: right;\">           nan</td><td style=\"text-align: right;\">           nan</td><td style=\"text-align: right;\">       nan</td><td style=\"text-align: right;\">            nan</td><td style=\"text-align: right;\">                nan</td><td>YES           </td><td>NO            </td><td style=\"text-align: right;\">        90.4</td></tr>\n",
       "<tr><td style=\"text-align: right;\">  1987</td><td style=\"text-align: right;\">     10</td><td style=\"text-align: right;\">          17</td><td style=\"text-align: right;\">          6</td><td style=\"text-align: right;\">      741</td><td style=\"text-align: right;\">         730</td><td style=\"text-align: right;\">      918</td><td style=\"text-align: right;\">         849</td><td>PS             </td><td style=\"text-align: right;\">       1451</td><td>NA       </td><td style=\"text-align: right;\">                 97</td><td style=\"text-align: right;\">              79</td><td style=\"text-align: right;\">      nan</td><td style=\"text-align: right;\">        29</td><td style=\"text-align: right;\">        11</td><td>SAN     </td><td>SFO   </td><td style=\"text-align: right;\">       447</td><td style=\"text-align: right;\">     nan</td><td style=\"text-align: right;\">      nan</td><td style=\"text-align: right;\">          0</td><td>NA                </td><td style=\"text-align: right;\">         0</td><td style=\"text-align: right;\">           nan</td><td style=\"text-align: right;\">           nan</td><td style=\"text-align: right;\">       nan</td><td style=\"text-align: right;\">            nan</td><td style=\"text-align: right;\">                nan</td><td>YES           </td><td>YES           </td><td style=\"text-align: right;\">        90.4</td></tr>\n",
       "<tr><td style=\"text-align: right;\">  1987</td><td style=\"text-align: right;\">     10</td><td style=\"text-align: right;\">          18</td><td style=\"text-align: right;\">          7</td><td style=\"text-align: right;\">      729</td><td style=\"text-align: right;\">         730</td><td style=\"text-align: right;\">      847</td><td style=\"text-align: right;\">         849</td><td>PS             </td><td style=\"text-align: right;\">       1451</td><td>NA       </td><td style=\"text-align: right;\">                 78</td><td style=\"text-align: right;\">              79</td><td style=\"text-align: right;\">      nan</td><td style=\"text-align: right;\">        -2</td><td style=\"text-align: right;\">        -1</td><td>SAN     </td><td>SFO   </td><td style=\"text-align: right;\">       447</td><td style=\"text-align: right;\">     nan</td><td style=\"text-align: right;\">      nan</td><td style=\"text-align: right;\">          0</td><td>NA                </td><td style=\"text-align: right;\">         0</td><td style=\"text-align: right;\">           nan</td><td style=\"text-align: right;\">           nan</td><td style=\"text-align: right;\">       nan</td><td style=\"text-align: right;\">            nan</td><td style=\"text-align: right;\">                nan</td><td>NO            </td><td>NO            </td><td style=\"text-align: right;\">        90.4</td></tr>\n",
       "<tr><td style=\"text-align: right;\">  1987</td><td style=\"text-align: right;\">     10</td><td style=\"text-align: right;\">          19</td><td style=\"text-align: right;\">          1</td><td style=\"text-align: right;\">      749</td><td style=\"text-align: right;\">         730</td><td style=\"text-align: right;\">      922</td><td style=\"text-align: right;\">         849</td><td>PS             </td><td style=\"text-align: right;\">       1451</td><td>NA       </td><td style=\"text-align: right;\">                 93</td><td style=\"text-align: right;\">              79</td><td style=\"text-align: right;\">      nan</td><td style=\"text-align: right;\">        33</td><td style=\"text-align: right;\">        19</td><td>SAN     </td><td>SFO   </td><td style=\"text-align: right;\">       447</td><td style=\"text-align: right;\">     nan</td><td style=\"text-align: right;\">      nan</td><td style=\"text-align: right;\">          0</td><td>NA                </td><td style=\"text-align: right;\">         0</td><td style=\"text-align: right;\">           nan</td><td style=\"text-align: right;\">           nan</td><td style=\"text-align: right;\">       nan</td><td style=\"text-align: right;\">            nan</td><td style=\"text-align: right;\">                nan</td><td>YES           </td><td>YES           </td><td style=\"text-align: right;\">        90.4</td></tr>\n",
       "<tr><td style=\"text-align: right;\">  1987</td><td style=\"text-align: right;\">     10</td><td style=\"text-align: right;\">          21</td><td style=\"text-align: right;\">          3</td><td style=\"text-align: right;\">      728</td><td style=\"text-align: right;\">         730</td><td style=\"text-align: right;\">      848</td><td style=\"text-align: right;\">         849</td><td>PS             </td><td style=\"text-align: right;\">       1451</td><td>NA       </td><td style=\"text-align: right;\">                 80</td><td style=\"text-align: right;\">              79</td><td style=\"text-align: right;\">      nan</td><td style=\"text-align: right;\">        -1</td><td style=\"text-align: right;\">        -2</td><td>SAN     </td><td>SFO   </td><td style=\"text-align: right;\">       447</td><td style=\"text-align: right;\">     nan</td><td style=\"text-align: right;\">      nan</td><td style=\"text-align: right;\">          0</td><td>NA                </td><td style=\"text-align: right;\">         0</td><td style=\"text-align: right;\">           nan</td><td style=\"text-align: right;\">           nan</td><td style=\"text-align: right;\">       nan</td><td style=\"text-align: right;\">            nan</td><td style=\"text-align: right;\">                nan</td><td>NO            </td><td>NO            </td><td style=\"text-align: right;\">        90.4</td></tr>\n",
       "<tr><td style=\"text-align: right;\">  1987</td><td style=\"text-align: right;\">     10</td><td style=\"text-align: right;\">          22</td><td style=\"text-align: right;\">          4</td><td style=\"text-align: right;\">      728</td><td style=\"text-align: right;\">         730</td><td style=\"text-align: right;\">      852</td><td style=\"text-align: right;\">         849</td><td>PS             </td><td style=\"text-align: right;\">       1451</td><td>NA       </td><td style=\"text-align: right;\">                 84</td><td style=\"text-align: right;\">              79</td><td style=\"text-align: right;\">      nan</td><td style=\"text-align: right;\">         3</td><td style=\"text-align: right;\">        -2</td><td>SAN     </td><td>SFO   </td><td style=\"text-align: right;\">       447</td><td style=\"text-align: right;\">     nan</td><td style=\"text-align: right;\">      nan</td><td style=\"text-align: right;\">          0</td><td>NA                </td><td style=\"text-align: right;\">         0</td><td style=\"text-align: right;\">           nan</td><td style=\"text-align: right;\">           nan</td><td style=\"text-align: right;\">       nan</td><td style=\"text-align: right;\">            nan</td><td style=\"text-align: right;\">                nan</td><td>YES           </td><td>NO            </td><td style=\"text-align: right;\">        90.4</td></tr>\n",
       "<tr><td style=\"text-align: right;\">  1987</td><td style=\"text-align: right;\">     10</td><td style=\"text-align: right;\">          23</td><td style=\"text-align: right;\">          5</td><td style=\"text-align: right;\">      731</td><td style=\"text-align: right;\">         730</td><td style=\"text-align: right;\">      902</td><td style=\"text-align: right;\">         849</td><td>PS             </td><td style=\"text-align: right;\">       1451</td><td>NA       </td><td style=\"text-align: right;\">                 91</td><td style=\"text-align: right;\">              79</td><td style=\"text-align: right;\">      nan</td><td style=\"text-align: right;\">        13</td><td style=\"text-align: right;\">         1</td><td>SAN     </td><td>SFO   </td><td style=\"text-align: right;\">       447</td><td style=\"text-align: right;\">     nan</td><td style=\"text-align: right;\">      nan</td><td style=\"text-align: right;\">          0</td><td>NA                </td><td style=\"text-align: right;\">         0</td><td style=\"text-align: right;\">           nan</td><td style=\"text-align: right;\">           nan</td><td style=\"text-align: right;\">       nan</td><td style=\"text-align: right;\">            nan</td><td style=\"text-align: right;\">                nan</td><td>YES           </td><td>YES           </td><td style=\"text-align: right;\">        90.4</td></tr>\n",
       "<tr><td style=\"text-align: right;\">  1987</td><td style=\"text-align: right;\">     10</td><td style=\"text-align: right;\">          24</td><td style=\"text-align: right;\">          6</td><td style=\"text-align: right;\">      744</td><td style=\"text-align: right;\">         730</td><td style=\"text-align: right;\">      908</td><td style=\"text-align: right;\">         849</td><td>PS             </td><td style=\"text-align: right;\">       1451</td><td>NA       </td><td style=\"text-align: right;\">                 84</td><td style=\"text-align: right;\">              79</td><td style=\"text-align: right;\">      nan</td><td style=\"text-align: right;\">        19</td><td style=\"text-align: right;\">        14</td><td>SAN     </td><td>SFO   </td><td style=\"text-align: right;\">       447</td><td style=\"text-align: right;\">     nan</td><td style=\"text-align: right;\">      nan</td><td style=\"text-align: right;\">          0</td><td>NA                </td><td style=\"text-align: right;\">         0</td><td style=\"text-align: right;\">           nan</td><td style=\"text-align: right;\">           nan</td><td style=\"text-align: right;\">       nan</td><td style=\"text-align: right;\">            nan</td><td style=\"text-align: right;\">                nan</td><td>YES           </td><td>YES           </td><td style=\"text-align: right;\">        90.4</td></tr>\n",
       "<tr><td style=\"text-align: right;\">  1987</td><td style=\"text-align: right;\">     10</td><td style=\"text-align: right;\">          25</td><td style=\"text-align: right;\">          7</td><td style=\"text-align: right;\">      729</td><td style=\"text-align: right;\">         730</td><td style=\"text-align: right;\">      851</td><td style=\"text-align: right;\">         849</td><td>PS             </td><td style=\"text-align: right;\">       1451</td><td>NA       </td><td style=\"text-align: right;\">                 82</td><td style=\"text-align: right;\">              79</td><td style=\"text-align: right;\">      nan</td><td style=\"text-align: right;\">         2</td><td style=\"text-align: right;\">        -1</td><td>SAN     </td><td>SFO   </td><td style=\"text-align: right;\">       447</td><td style=\"text-align: right;\">     nan</td><td style=\"text-align: right;\">      nan</td><td style=\"text-align: right;\">          0</td><td>NA                </td><td style=\"text-align: right;\">         0</td><td style=\"text-align: right;\">           nan</td><td style=\"text-align: right;\">           nan</td><td style=\"text-align: right;\">       nan</td><td style=\"text-align: right;\">            nan</td><td style=\"text-align: right;\">                nan</td><td>YES           </td><td>NO            </td><td style=\"text-align: right;\">        90.4</td></tr>\n",
       "</tbody>\n",
       "</table>"
      ]
     },
     "metadata": {},
     "output_type": "display_data"
    },
    {
     "data": {
      "text/plain": []
     },
     "execution_count": 52,
     "metadata": {},
     "output_type": "execute_result"
    }
   ],
   "source": [
    "train.head()"
   ]
  },
  {
   "cell_type": "code",
   "execution_count": 53,
   "metadata": {},
   "outputs": [],
   "source": [
    "# Set up AutoML\n",
    "run_time=333\n",
    "aml = H2OAutoML(max_runtime_secs=run_time)"
   ]
  },
  {
   "cell_type": "code",
   "execution_count": 54,
   "metadata": {},
   "outputs": [
    {
     "name": "stdout",
     "output_type": "stream",
     "text": [
      "AutoML progress: |████████████████████████████████████████████████████████| 100%\n"
     ]
    }
   ],
   "source": [
    "model_start_time = time.time()\n",
    "  \n",
    "aml.train(x=X,y=myY,training_frame=train) "
   ]
  },
  {
   "cell_type": "code",
   "execution_count": 55,
   "metadata": {},
   "outputs": [
    {
     "name": "stdout",
     "output_type": "stream",
     "text": [
      "338.415559053421\n"
     ]
    }
   ],
   "source": [
    "execution_time = time.time() - model_start_time\n",
    "print(execution_time)"
   ]
  },
  {
   "cell_type": "code",
   "execution_count": 56,
   "metadata": {},
   "outputs": [
    {
     "data": {
      "text/html": [
       "<table>\n",
       "<thead>\n",
       "<tr><th>model_id                                           </th><th style=\"text-align: right;\">     auc</th><th style=\"text-align: right;\">    logloss</th><th style=\"text-align: right;\">  mean_per_class_error</th><th style=\"text-align: right;\">       rmse</th><th style=\"text-align: right;\">        mse</th></tr>\n",
       "</thead>\n",
       "<tbody>\n",
       "<tr><td>XGBoost_2_AutoML_20190208_224411                   </td><td style=\"text-align: right;\">1       </td><td style=\"text-align: right;\">0.000534486</td><td style=\"text-align: right;\">           0          </td><td style=\"text-align: right;\">0.000898293</td><td style=\"text-align: right;\">8.0693e-07 </td></tr>\n",
       "<tr><td>XGBoost_1_AutoML_20190208_224411                   </td><td style=\"text-align: right;\">1       </td><td style=\"text-align: right;\">0.000238567</td><td style=\"text-align: right;\">           0          </td><td style=\"text-align: right;\">0.000418267</td><td style=\"text-align: right;\">1.74947e-07</td></tr>\n",
       "<tr><td>StackedEnsemble_AllModels_AutoML_20190208_224411   </td><td style=\"text-align: right;\">1       </td><td style=\"text-align: right;\">0.00177019 </td><td style=\"text-align: right;\">           0          </td><td style=\"text-align: right;\">0.00240546 </td><td style=\"text-align: right;\">5.78625e-06</td></tr>\n",
       "<tr><td>StackedEnsemble_BestOfFamily_AutoML_20190208_224411</td><td style=\"text-align: right;\">1       </td><td style=\"text-align: right;\">0.002285   </td><td style=\"text-align: right;\">           0          </td><td style=\"text-align: right;\">0.0038932  </td><td style=\"text-align: right;\">1.5157e-05 </td></tr>\n",
       "<tr><td>DRF_1_AutoML_20190208_224411                       </td><td style=\"text-align: right;\">1       </td><td style=\"text-align: right;\">0.0505812  </td><td style=\"text-align: right;\">           0.000120406</td><td style=\"text-align: right;\">0.0843813  </td><td style=\"text-align: right;\">0.0071202  </td></tr>\n",
       "<tr><td>XRT_1_AutoML_20190208_224411                       </td><td style=\"text-align: right;\">0.999939</td><td style=\"text-align: right;\">0.119422   </td><td style=\"text-align: right;\">           0.0030556  </td><td style=\"text-align: right;\">0.165721   </td><td style=\"text-align: right;\">0.0274634  </td></tr>\n",
       "<tr><td>GLM_grid_1_AutoML_20190208_224411_model_1          </td><td style=\"text-align: right;\">0.975382</td><td style=\"text-align: right;\">0.27614    </td><td style=\"text-align: right;\">           0.0911293  </td><td style=\"text-align: right;\">0.284197   </td><td style=\"text-align: right;\">0.0807681  </td></tr>\n",
       "</tbody>\n",
       "</table>"
      ]
     },
     "metadata": {},
     "output_type": "display_data"
    },
    {
     "name": "stdout",
     "output_type": "stream",
     "text": [
      "\n"
     ]
    }
   ],
   "source": [
    "print(aml.leaderboard)"
   ]
  },
  {
   "cell_type": "code",
   "execution_count": 57,
   "metadata": {},
   "outputs": [
    {
     "data": {
      "text/plain": [
       "['__class__',\n",
       " '__delattr__',\n",
       " '__dict__',\n",
       " '__dir__',\n",
       " '__doc__',\n",
       " '__eq__',\n",
       " '__format__',\n",
       " '__ge__',\n",
       " '__getattribute__',\n",
       " '__gt__',\n",
       " '__hash__',\n",
       " '__init__',\n",
       " '__init_subclass__',\n",
       " '__le__',\n",
       " '__lt__',\n",
       " '__module__',\n",
       " '__ne__',\n",
       " '__new__',\n",
       " '__reduce__',\n",
       " '__reduce_ex__',\n",
       " '__repr__',\n",
       " '__setattr__',\n",
       " '__sizeof__',\n",
       " '__str__',\n",
       " '__subclasshook__',\n",
       " '__weakref__',\n",
       " '_fetch',\n",
       " '_get_params',\n",
       " '_job',\n",
       " '_leader_id',\n",
       " '_leaderboard',\n",
       " 'build_control',\n",
       " 'build_models',\n",
       " 'download_mojo',\n",
       " 'download_pojo',\n",
       " 'leader',\n",
       " 'leaderboard',\n",
       " 'max_models',\n",
       " 'max_runtime_secs',\n",
       " 'nfolds',\n",
       " 'predict',\n",
       " 'project_name',\n",
       " 'sort_metric',\n",
       " 'stopping_metric',\n",
       " 'stopping_rounds',\n",
       " 'stopping_tolerence',\n",
       " 'train']"
      ]
     },
     "execution_count": 57,
     "metadata": {},
     "output_type": "execute_result"
    }
   ],
   "source": [
    "dir(aml)"
   ]
  },
  {
   "cell_type": "code",
   "execution_count": 61,
   "metadata": {
    "collapsed": true
   },
   "outputs": [],
   "source": [
    "best_model = h2o.get_model(aml.leaderboard[0,'model_id'])"
   ]
  },
  {
   "cell_type": "code",
   "execution_count": 62,
   "metadata": {},
   "outputs": [
    {
     "data": {
      "text/plain": [
       "'xgboost'"
      ]
     },
     "execution_count": 62,
     "metadata": {},
     "output_type": "execute_result"
    }
   ],
   "source": [
    "best_model.algo"
   ]
  },
  {
   "cell_type": "code",
   "execution_count": 63,
   "metadata": {},
   "outputs": [
    {
     "data": {
      "image/png": "[encoded data removed]",
      "text/plain": [
       "<Figure size 1008x720 with 1 Axes>"
      ]
     },
     "metadata": {},
     "output_type": "display_data"
    }
   ],
   "source": [
    "if best_model.algo in ['xgboost','drf','gbm']:\n",
    "  best_model.varimp_plot()"
   ]
  },
  {
   "cell_type": "code",
   "execution_count": 64,
   "metadata": {},
   "outputs": [
    {
     "data": {
      "text/plain": [
       "['F0point5',\n",
       " 'F1',\n",
       " 'F2',\n",
       " '__class__',\n",
       " '__delattr__',\n",
       " '__dict__',\n",
       " '__dir__',\n",
       " '__doc__',\n",
       " '__eq__',\n",
       " '__format__',\n",
       " '__ge__',\n",
       " '__getattr__',\n",
       " '__getattribute__',\n",
       " '__gt__',\n",
       " '__hash__',\n",
       " '__init__',\n",
       " '__init_subclass__',\n",
       " '__le__',\n",
       " '__lt__',\n",
       " '__module__',\n",
       " '__ne__',\n",
       " '__new__',\n",
       " '__reduce__',\n",
       " '__reduce_ex__',\n",
       " '__repr__',\n",
       " '__setattr__',\n",
       " '__sizeof__',\n",
       " '__str__',\n",
       " '__subclasshook__',\n",
       " '__weakref__',\n",
       " '_bc',\n",
       " '_bcin',\n",
       " '_check_and_save_parm',\n",
       " '_check_targets',\n",
       " '_compute_algo',\n",
       " '_end_time',\n",
       " '_estimator_type',\n",
       " '_future',\n",
       " '_get_metrics',\n",
       " '_have_mojo',\n",
       " '_have_pojo',\n",
       " '_id',\n",
       " '_is_xvalidated',\n",
       " '_job',\n",
       " '_keyify_if_h2oframe',\n",
       " '_metrics_class',\n",
       " '_model_json',\n",
       " '_parms',\n",
       " '_plot',\n",
       " '_requires_training_frame',\n",
       " '_resolve_model',\n",
       " '_run_time',\n",
       " '_start_time',\n",
       " '_verify_training_frame_params',\n",
       " '_xval_keys',\n",
       " 'accuracy',\n",
       " 'actual_params',\n",
       " 'aic',\n",
       " 'algo',\n",
       " 'auc',\n",
       " 'available',\n",
       " 'backend',\n",
       " 'biases',\n",
       " 'booster',\n",
       " 'categorical_encoding',\n",
       " 'catoffsets',\n",
       " 'coef',\n",
       " 'coef_norm',\n",
       " 'col_sample_rate',\n",
       " 'col_sample_rate_per_tree',\n",
       " 'colsample_bylevel',\n",
       " 'colsample_bytree',\n",
       " 'confusion_matrix',\n",
       " 'convert_H2OXGBoostParams_2_XGBoostParams',\n",
       " 'cross_validation_fold_assignment',\n",
       " 'cross_validation_holdout_predictions',\n",
       " 'cross_validation_metrics_summary',\n",
       " 'cross_validation_models',\n",
       " 'cross_validation_predictions',\n",
       " 'deepfeatures',\n",
       " 'default_params',\n",
       " 'distribution',\n",
       " 'dmatrix_type',\n",
       " 'download_mojo',\n",
       " 'download_pojo',\n",
       " 'end_time',\n",
       " 'error',\n",
       " 'eta',\n",
       " 'export_checkpoints_dir',\n",
       " 'fallout',\n",
       " 'find_idx_by_threshold',\n",
       " 'find_threshold_by_max_metric',\n",
       " 'fit',\n",
       " 'fnr',\n",
       " 'fold_assignment',\n",
       " 'fold_column',\n",
       " 'fpr',\n",
       " 'full_parameters',\n",
       " 'gains_lift',\n",
       " 'gamma',\n",
       " 'get_params',\n",
       " 'get_xval_models',\n",
       " 'gini',\n",
       " 'gpu_id',\n",
       " 'grow_policy',\n",
       " 'have_mojo',\n",
       " 'have_pojo',\n",
       " 'ignore_const_cols',\n",
       " 'ignored_columns',\n",
       " 'is_cross_validated',\n",
       " 'join',\n",
       " 'keep_cross_validation_fold_assignment',\n",
       " 'keep_cross_validation_models',\n",
       " 'keep_cross_validation_predictions',\n",
       " 'learn_rate',\n",
       " 'logloss',\n",
       " 'mae',\n",
       " 'max_abs_leafnode_pred',\n",
       " 'max_bins',\n",
       " 'max_delta_step',\n",
       " 'max_depth',\n",
       " 'max_leaves',\n",
       " 'max_per_class_error',\n",
       " 'max_runtime_secs',\n",
       " 'mcc',\n",
       " 'mean_per_class_error',\n",
       " 'mean_residual_deviance',\n",
       " 'metric',\n",
       " 'min_child_weight',\n",
       " 'min_data_in_leaf',\n",
       " 'min_rows',\n",
       " 'min_split_improvement',\n",
       " 'min_sum_hessian_in_leaf',\n",
       " 'missrate',\n",
       " 'mixin',\n",
       " 'model_id',\n",
       " 'model_performance',\n",
       " 'monotone_constraints',\n",
       " 'mse',\n",
       " 'nfolds',\n",
       " 'normalize_type',\n",
       " 'normmul',\n",
       " 'normsub',\n",
       " 'nthread',\n",
       " 'ntrees',\n",
       " 'null_degrees_of_freedom',\n",
       " 'null_deviance',\n",
       " 'offset_column',\n",
       " 'one_drop',\n",
       " 'params',\n",
       " 'parms',\n",
       " 'partial_plot',\n",
       " 'plot',\n",
       " 'pprint_coef',\n",
       " 'precision',\n",
       " 'predict',\n",
       " 'predict_leaf_node_assignment',\n",
       " 'quiet_mode',\n",
       " 'r2',\n",
       " 'rate_drop',\n",
       " 'recall',\n",
       " 'reg_alpha',\n",
       " 'reg_lambda',\n",
       " 'residual_degrees_of_freedom',\n",
       " 'residual_deviance',\n",
       " 'respmul',\n",
       " 'response_column',\n",
       " 'respsub',\n",
       " 'rmse',\n",
       " 'rmsle',\n",
       " 'roc',\n",
       " 'rotation',\n",
       " 'run_time',\n",
       " 'sample_rate',\n",
       " 'sample_type',\n",
       " 'save_model_details',\n",
       " 'save_mojo',\n",
       " 'score_each_iteration',\n",
       " 'score_history',\n",
       " 'score_tree_interval',\n",
       " 'scoring_history',\n",
       " 'seed',\n",
       " 'sensitivity',\n",
       " 'set_params',\n",
       " 'show',\n",
       " 'skip_drop',\n",
       " 'specificity',\n",
       " 'staged_predict_proba',\n",
       " 'start',\n",
       " 'start_time',\n",
       " 'std_coef_plot',\n",
       " 'stopping_metric',\n",
       " 'stopping_rounds',\n",
       " 'stopping_tolerance',\n",
       " 'subsample',\n",
       " 'summary',\n",
       " 'tnr',\n",
       " 'tpr',\n",
       " 'train',\n",
       " 'training_frame',\n",
       " 'tree_method',\n",
       " 'tweedie_power',\n",
       " 'type',\n",
       " 'validation_frame',\n",
       " 'varimp',\n",
       " 'varimp_plot',\n",
       " 'weights',\n",
       " 'weights_column',\n",
       " 'xval_keys',\n",
       " 'xvals']"
      ]
     },
     "execution_count": 64,
     "metadata": {},
     "output_type": "execute_result"
    }
   ],
   "source": [
    "dir(best_model)"
   ]
  },
  {
   "cell_type": "code",
   "execution_count": 65,
   "metadata": {},
   "outputs": [
    {
     "data": {
      "text/plain": [
       "{'backend': {'actual': 'auto', 'default': 'auto'},\n",
       " 'booster': {'actual': 'gbtree', 'default': 'gbtree'},\n",
       " 'categorical_encoding': {'actual': 'AUTO', 'default': 'AUTO'},\n",
       " 'col_sample_rate': {'actual': 0.8, 'default': 1.0},\n",
       " 'col_sample_rate_per_tree': {'actual': 0.8, 'default': 1.0},\n",
       " 'colsample_bylevel': {'actual': 1.0, 'default': 1.0},\n",
       " 'colsample_bytree': {'actual': 1.0, 'default': 1.0},\n",
       " 'distribution': {'actual': 'bernoulli', 'default': 'AUTO'},\n",
       " 'dmatrix_type': {'actual': 'auto', 'default': 'auto'},\n",
       " 'eta': {'actual': 0.3, 'default': 0.3},\n",
       " 'export_checkpoints_dir': {'actual': None, 'default': None},\n",
       " 'fold_assignment': {'actual': 'Modulo', 'default': 'AUTO'},\n",
       " 'fold_column': {'actual': None, 'default': None},\n",
       " 'gamma': {'actual': 0.0, 'default': 0.0},\n",
       " 'gpu_id': {'actual': 0, 'default': 0},\n",
       " 'grow_policy': {'actual': 'depthwise', 'default': 'depthwise'},\n",
       " 'ignore_const_cols': {'actual': True, 'default': True},\n",
       " 'ignored_columns': {'actual': [], 'default': None},\n",
       " 'keep_cross_validation_fold_assignment': {'actual': False, 'default': False},\n",
       " 'keep_cross_validation_models': {'actual': False, 'default': True},\n",
       " 'keep_cross_validation_predictions': {'actual': True, 'default': False},\n",
       " 'learn_rate': {'actual': 0.05, 'default': 0.3},\n",
       " 'max_abs_leafnode_pred': {'actual': 0.0, 'default': 0.0},\n",
       " 'max_bins': {'actual': 256, 'default': 256},\n",
       " 'max_delta_step': {'actual': 0.0, 'default': 0.0},\n",
       " 'max_depth': {'actual': 20, 'default': 6},\n",
       " 'max_leaves': {'actual': 0, 'default': 0},\n",
       " 'max_runtime_secs': {'actual': 58.0, 'default': 0.0},\n",
       " 'min_child_weight': {'actual': 1.0, 'default': 1.0},\n",
       " 'min_data_in_leaf': {'actual': 0.0, 'default': 0.0},\n",
       " 'min_rows': {'actual': 10.0, 'default': 1.0},\n",
       " 'min_split_improvement': {'actual': 0.0, 'default': 0.0},\n",
       " 'min_sum_hessian_in_leaf': {'actual': 100.0, 'default': 100.0},\n",
       " 'model_id': {'actual': {'URL': '/3/Models/XGBoost_2_AutoML_20190208_224411',\n",
       "   '__meta': {'schema_name': 'ModelKeyV3',\n",
       "    'schema_type': 'Key<Model>',\n",
       "    'schema_version': 3},\n",
       "   'name': 'XGBoost_2_AutoML_20190208_224411',\n",
       "   'type': 'Key<Model>'},\n",
       "  'default': None},\n",
       " 'monotone_constraints': {'actual': None, 'default': None},\n",
       " 'nfolds': {'actual': 5, 'default': 0},\n",
       " 'normalize_type': {'actual': 'tree', 'default': 'tree'},\n",
       " 'nthread': {'actual': -1, 'default': -1},\n",
       " 'ntrees': {'actual': 290, 'default': 50},\n",
       " 'offset_column': {'actual': None, 'default': None},\n",
       " 'one_drop': {'actual': False, 'default': False},\n",
       " 'quiet_mode': {'actual': True, 'default': True},\n",
       " 'rate_drop': {'actual': 0.0, 'default': 0.0},\n",
       " 'reg_alpha': {'actual': 0.0, 'default': 0.0},\n",
       " 'reg_lambda': {'actual': 1.0, 'default': 1.0},\n",
       " 'response_column': {'actual': {'__meta': {'schema_name': 'ColSpecifierV3',\n",
       "    'schema_type': 'VecSpecifier',\n",
       "    'schema_version': 3},\n",
       "   'column_name': 'IsDepDelayed',\n",
       "   'is_member_of_frames': None},\n",
       "  'default': None},\n",
       " 'sample_rate': {'actual': 0.6, 'default': 1.0},\n",
       " 'sample_type': {'actual': 'uniform', 'default': 'uniform'},\n",
       " 'score_each_iteration': {'actual': False, 'default': False},\n",
       " 'score_tree_interval': {'actual': 5, 'default': 0},\n",
       " 'seed': {'actual': 4521480389612151864, 'default': -1},\n",
       " 'skip_drop': {'actual': 0.0, 'default': 0.0},\n",
       " 'stopping_metric': {'actual': 'logloss', 'default': 'AUTO'},\n",
       " 'stopping_rounds': {'actual': 3, 'default': 0},\n",
       " 'stopping_tolerance': {'actual': 0.005032501683293462, 'default': 0.001},\n",
       " 'subsample': {'actual': 1.0, 'default': 1.0},\n",
       " 'training_frame': {'actual': {'URL': '/3/Frames/automl_training_py_62_sid_bd4e',\n",
       "   '__meta': {'schema_name': 'FrameKeyV3',\n",
       "    'schema_type': 'Key<Frame>',\n",
       "    'schema_version': 3},\n",
       "   'name': 'automl_training_py_62_sid_bd4e',\n",
       "   'type': 'Key<Frame>'},\n",
       "  'default': None},\n",
       " 'tree_method': {'actual': 'auto', 'default': 'auto'},\n",
       " 'tweedie_power': {'actual': 1.5, 'default': 1.5},\n",
       " 'validation_frame': {'actual': None, 'default': None},\n",
       " 'weights_column': {'actual': None, 'default': None}}"
      ]
     },
     "execution_count": 65,
     "metadata": {},
     "output_type": "execute_result"
    }
   ],
   "source": [
    "best_model.params"
   ]
  },
  {
   "cell_type": "code",
   "execution_count": 68,
   "metadata": {},
   "outputs": [
    {
     "name": "stdout",
     "output_type": "stream",
     "text": [
      "Confusion Matrix (Act/Pred) for max f1 @ threshold = 0.9967505931854248: \n"
     ]
    },
    {
     "data": {
      "text/html": [
       "<div style=\"overflow:auto\"><table style=\"width:50%\"><tr><td><b></b></td>\n",
       "<td><b>NO</b></td>\n",
       "<td><b>YES</b></td>\n",
       "<td><b>Error</b></td>\n",
       "<td><b>Rate</b></td></tr>\n",
       "<tr><td>NO</td>\n",
       "<td>18722.0</td>\n",
       "<td>0.0</td>\n",
       "<td>0.0</td>\n",
       "<td> (0.0/18722.0)</td></tr>\n",
       "<tr><td>YES</td>\n",
       "<td>0.0</td>\n",
       "<td>20763.0</td>\n",
       "<td>0.0</td>\n",
       "<td> (0.0/20763.0)</td></tr>\n",
       "<tr><td>Total</td>\n",
       "<td>18722.0</td>\n",
       "<td>20763.0</td>\n",
       "<td>0.0</td>\n",
       "<td> (0.0/39485.0)</td></tr></table></div>"
      ],
      "text/plain": [
       "       NO     YES    Error    Rate\n",
       "-----  -----  -----  -------  -------------\n",
       "NO     18722  0      0        (0.0/18722.0)\n",
       "YES    0      20763  0        (0.0/20763.0)\n",
       "Total  18722  20763  0        (0.0/39485.0)"
      ]
     },
     "metadata": {},
     "output_type": "display_data"
    },
    {
     "data": {
      "text/plain": []
     },
     "execution_count": 68,
     "metadata": {},
     "output_type": "execute_result"
    }
   ],
   "source": [
    "best_model.confusion_matrix()"
   ]
  },
  {
   "cell_type": "code",
   "execution_count": 69,
   "metadata": {},
   "outputs": [
    {
     "name": "stdout",
     "output_type": "stream",
     "text": [
      "Confusion Matrix (Act/Pred) for max f1 @ threshold = 0.9967505931854248: \n"
     ]
    },
    {
     "data": {
      "text/html": [
       "<div style=\"overflow:auto\"><table style=\"width:50%\"><tr><td><b></b></td>\n",
       "<td><b>NO</b></td>\n",
       "<td><b>YES</b></td>\n",
       "<td><b>Error</b></td>\n",
       "<td><b>Rate</b></td></tr>\n",
       "<tr><td>NO</td>\n",
       "<td>18722.0</td>\n",
       "<td>0.0</td>\n",
       "<td>0.0</td>\n",
       "<td> (0.0/18722.0)</td></tr>\n",
       "<tr><td>YES</td>\n",
       "<td>0.0</td>\n",
       "<td>20763.0</td>\n",
       "<td>0.0</td>\n",
       "<td> (0.0/20763.0)</td></tr>\n",
       "<tr><td>Total</td>\n",
       "<td>18722.0</td>\n",
       "<td>20763.0</td>\n",
       "<td>0.0</td>\n",
       "<td> (0.0/39485.0)</td></tr></table></div>"
      ],
      "text/plain": [
       "       NO     YES    Error    Rate\n",
       "-----  -----  -----  -------  -------------\n",
       "NO     18722  0      0        (0.0/18722.0)\n",
       "YES    0      20763  0        (0.0/20763.0)\n",
       "Total  18722  20763  0        (0.0/39485.0)"
      ]
     },
     "metadata": {},
     "output_type": "display_data"
    },
    {
     "name": "stdout",
     "output_type": "stream",
     "text": [
      "Confusion Matrix (Act/Pred) for max f1 @ threshold = 0.9967505931854248: \n"
     ]
    },
    {
     "data": {
      "text/html": [
       "<div style=\"overflow:auto\"><table style=\"width:50%\"><tr><td><b></b></td>\n",
       "<td><b>NO</b></td>\n",
       "<td><b>YES</b></td>\n",
       "<td><b>Error</b></td>\n",
       "<td><b>Rate</b></td></tr>\n",
       "<tr><td>NO</td>\n",
       "<td>18722.0</td>\n",
       "<td>0.0</td>\n",
       "<td>0.0</td>\n",
       "<td> (0.0/18722.0)</td></tr>\n",
       "<tr><td>YES</td>\n",
       "<td>0.0</td>\n",
       "<td>20763.0</td>\n",
       "<td>0.0</td>\n",
       "<td> (0.0/20763.0)</td></tr>\n",
       "<tr><td>Total</td>\n",
       "<td>18722.0</td>\n",
       "<td>20763.0</td>\n",
       "<td>0.0</td>\n",
       "<td> (0.0/39485.0)</td></tr></table></div>"
      ],
      "text/plain": [
       "       NO     YES    Error    Rate\n",
       "-----  -----  -----  -------  -------------\n",
       "NO     18722  0      0        (0.0/18722.0)\n",
       "YES    0      20763  0        (0.0/20763.0)\n",
       "Total  18722  20763  0        (0.0/39485.0)"
      ]
     },
     "metadata": {},
     "output_type": "display_data"
    },
    {
     "name": "stdout",
     "output_type": "stream",
     "text": [
      "Confusion Matrix (Act/Pred) for max f1 @ threshold = 0.9967505931854248: \n"
     ]
    },
    {
     "data": {
      "text/html": [
       "<div style=\"overflow:auto\"><table style=\"width:50%\"><tr><td><b></b></td>\n",
       "<td><b>NO</b></td>\n",
       "<td><b>YES</b></td>\n",
       "<td><b>Error</b></td>\n",
       "<td><b>Rate</b></td></tr>\n",
       "<tr><td>NO</td>\n",
       "<td>18722.0</td>\n",
       "<td>0.0</td>\n",
       "<td>0.0</td>\n",
       "<td> (0.0/18722.0)</td></tr>\n",
       "<tr><td>YES</td>\n",
       "<td>0.0</td>\n",
       "<td>20763.0</td>\n",
       "<td>0.0</td>\n",
       "<td> (0.0/20763.0)</td></tr>\n",
       "<tr><td>Total</td>\n",
       "<td>18722.0</td>\n",
       "<td>20763.0</td>\n",
       "<td>0.0</td>\n",
       "<td> (0.0/39485.0)</td></tr></table></div>"
      ],
      "text/plain": [
       "       NO     YES    Error    Rate\n",
       "-----  -----  -----  -------  -------------\n",
       "NO     18722  0      0        (0.0/18722.0)\n",
       "YES    0      20763  0        (0.0/20763.0)\n",
       "Total  18722  20763  0        (0.0/39485.0)"
      ]
     },
     "metadata": {},
     "output_type": "display_data"
    },
    {
     "name": "stdout",
     "output_type": "stream",
     "text": [
      "Confusion Matrix (Act/Pred) for max f1 @ threshold = 0.9967505931854248: \n"
     ]
    },
    {
     "data": {
      "text/html": [
       "<div style=\"overflow:auto\"><table style=\"width:50%\"><tr><td><b></b></td>\n",
       "<td><b>NO</b></td>\n",
       "<td><b>YES</b></td>\n",
       "<td><b>Error</b></td>\n",
       "<td><b>Rate</b></td></tr>\n",
       "<tr><td>NO</td>\n",
       "<td>18722.0</td>\n",
       "<td>0.0</td>\n",
       "<td>0.0</td>\n",
       "<td> (0.0/18722.0)</td></tr>\n",
       "<tr><td>YES</td>\n",
       "<td>0.0</td>\n",
       "<td>20763.0</td>\n",
       "<td>0.0</td>\n",
       "<td> (0.0/20763.0)</td></tr>\n",
       "<tr><td>Total</td>\n",
       "<td>18722.0</td>\n",
       "<td>20763.0</td>\n",
       "<td>0.0</td>\n",
       "<td> (0.0/39485.0)</td></tr></table></div>"
      ],
      "text/plain": [
       "       NO     YES    Error    Rate\n",
       "-----  -----  -----  -------  -------------\n",
       "NO     18722  0      0        (0.0/18722.0)\n",
       "YES    0      20763  0        (0.0/20763.0)\n",
       "Total  18722  20763  0        (0.0/39485.0)"
      ]
     },
     "metadata": {},
     "output_type": "display_data"
    },
    {
     "name": "stdout",
     "output_type": "stream",
     "text": [
      "Confusion Matrix (Act/Pred) for max precision @ threshold = 0.9999400696664487: \n"
     ]
    },
    {
     "data": {
      "text/html": [
       "<div style=\"overflow:auto\"><table style=\"width:50%\"><tr><td><b></b></td>\n",
       "<td><b>NO</b></td>\n",
       "<td><b>YES</b></td>\n",
       "<td><b>Error</b></td>\n",
       "<td><b>Rate</b></td></tr>\n",
       "<tr><td>NO</td>\n",
       "<td>18722.0</td>\n",
       "<td>0.0</td>\n",
       "<td>0.0</td>\n",
       "<td> (0.0/18722.0)</td></tr>\n",
       "<tr><td>YES</td>\n",
       "<td>20498.0</td>\n",
       "<td>265.0</td>\n",
       "<td>0.9872</td>\n",
       "<td> (20498.0/20763.0)</td></tr>\n",
       "<tr><td>Total</td>\n",
       "<td>39220.0</td>\n",
       "<td>265.0</td>\n",
       "<td>0.5191</td>\n",
       "<td> (20498.0/39485.0)</td></tr></table></div>"
      ],
      "text/plain": [
       "       NO     YES    Error    Rate\n",
       "-----  -----  -----  -------  -----------------\n",
       "NO     18722  0      0        (0.0/18722.0)\n",
       "YES    20498  265    0.9872   (20498.0/20763.0)\n",
       "Total  39220  265    0.5191   (20498.0/39485.0)"
      ]
     },
     "metadata": {},
     "output_type": "display_data"
    },
    {
     "name": "stdout",
     "output_type": "stream",
     "text": [
      "Confusion Matrix (Act/Pred) for max f1 @ threshold = 0.9967505931854248: \n"
     ]
    },
    {
     "data": {
      "text/html": [
       "<div style=\"overflow:auto\"><table style=\"width:50%\"><tr><td><b></b></td>\n",
       "<td><b>NO</b></td>\n",
       "<td><b>YES</b></td>\n",
       "<td><b>Error</b></td>\n",
       "<td><b>Rate</b></td></tr>\n",
       "<tr><td>NO</td>\n",
       "<td>18722.0</td>\n",
       "<td>0.0</td>\n",
       "<td>0.0</td>\n",
       "<td> (0.0/18722.0)</td></tr>\n",
       "<tr><td>YES</td>\n",
       "<td>0.0</td>\n",
       "<td>20763.0</td>\n",
       "<td>0.0</td>\n",
       "<td> (0.0/20763.0)</td></tr>\n",
       "<tr><td>Total</td>\n",
       "<td>18722.0</td>\n",
       "<td>20763.0</td>\n",
       "<td>0.0</td>\n",
       "<td> (0.0/39485.0)</td></tr></table></div>"
      ],
      "text/plain": [
       "       NO     YES    Error    Rate\n",
       "-----  -----  -----  -------  -------------\n",
       "NO     18722  0      0        (0.0/18722.0)\n",
       "YES    0      20763  0        (0.0/20763.0)\n",
       "Total  18722  20763  0        (0.0/39485.0)"
      ]
     },
     "metadata": {},
     "output_type": "display_data"
    },
    {
     "name": "stdout",
     "output_type": "stream",
     "text": [
      "Confusion Matrix (Act/Pred) for max precision @ threshold = 0.9999400696664487: \n"
     ]
    },
    {
     "data": {
      "text/html": [
       "<div style=\"overflow:auto\"><table style=\"width:50%\"><tr><td><b></b></td>\n",
       "<td><b>NO</b></td>\n",
       "<td><b>YES</b></td>\n",
       "<td><b>Error</b></td>\n",
       "<td><b>Rate</b></td></tr>\n",
       "<tr><td>NO</td>\n",
       "<td>18722.0</td>\n",
       "<td>0.0</td>\n",
       "<td>0.0</td>\n",
       "<td> (0.0/18722.0)</td></tr>\n",
       "<tr><td>YES</td>\n",
       "<td>20498.0</td>\n",
       "<td>265.0</td>\n",
       "<td>0.9872</td>\n",
       "<td> (20498.0/20763.0)</td></tr>\n",
       "<tr><td>Total</td>\n",
       "<td>39220.0</td>\n",
       "<td>265.0</td>\n",
       "<td>0.5191</td>\n",
       "<td> (20498.0/39485.0)</td></tr></table></div>"
      ],
      "text/plain": [
       "       NO     YES    Error    Rate\n",
       "-----  -----  -----  -------  -----------------\n",
       "NO     18722  0      0        (0.0/18722.0)\n",
       "YES    20498  265    0.9872   (20498.0/20763.0)\n",
       "Total  39220  265    0.5191   (20498.0/39485.0)"
      ]
     },
     "metadata": {},
     "output_type": "display_data"
    },
    {
     "name": "stdout",
     "output_type": "stream",
     "text": [
      "Confusion Matrix (Act/Pred) for max f1 @ threshold = 0.9967505931854248: \n"
     ]
    },
    {
     "data": {
      "text/html": [
       "<div style=\"overflow:auto\"><table style=\"width:50%\"><tr><td><b></b></td>\n",
       "<td><b>NO</b></td>\n",
       "<td><b>YES</b></td>\n",
       "<td><b>Error</b></td>\n",
       "<td><b>Rate</b></td></tr>\n",
       "<tr><td>NO</td>\n",
       "<td>18722.0</td>\n",
       "<td>0.0</td>\n",
       "<td>0.0</td>\n",
       "<td> (0.0/18722.0)</td></tr>\n",
       "<tr><td>YES</td>\n",
       "<td>0.0</td>\n",
       "<td>20763.0</td>\n",
       "<td>0.0</td>\n",
       "<td> (0.0/20763.0)</td></tr>\n",
       "<tr><td>Total</td>\n",
       "<td>18722.0</td>\n",
       "<td>20763.0</td>\n",
       "<td>0.0</td>\n",
       "<td> (0.0/39485.0)</td></tr></table></div>"
      ],
      "text/plain": [
       "       NO     YES    Error    Rate\n",
       "-----  -----  -----  -------  -------------\n",
       "NO     18722  0      0        (0.0/18722.0)\n",
       "YES    0      20763  0        (0.0/20763.0)\n",
       "Total  18722  20763  0        (0.0/39485.0)"
      ]
     },
     "metadata": {},
     "output_type": "display_data"
    },
    {
     "name": "stdout",
     "output_type": "stream",
     "text": [
      "Confusion Matrix (Act/Pred) for max f1 @ threshold = 0.9967505931854248: \n"
     ]
    },
    {
     "data": {
      "text/html": [
       "<div style=\"overflow:auto\"><table style=\"width:50%\"><tr><td><b></b></td>\n",
       "<td><b>NO</b></td>\n",
       "<td><b>YES</b></td>\n",
       "<td><b>Error</b></td>\n",
       "<td><b>Rate</b></td></tr>\n",
       "<tr><td>NO</td>\n",
       "<td>18722.0</td>\n",
       "<td>0.0</td>\n",
       "<td>0.0</td>\n",
       "<td> (0.0/18722.0)</td></tr>\n",
       "<tr><td>YES</td>\n",
       "<td>0.0</td>\n",
       "<td>20763.0</td>\n",
       "<td>0.0</td>\n",
       "<td> (0.0/20763.0)</td></tr>\n",
       "<tr><td>Total</td>\n",
       "<td>18722.0</td>\n",
       "<td>20763.0</td>\n",
       "<td>0.0</td>\n",
       "<td> (0.0/39485.0)</td></tr></table></div>"
      ],
      "text/plain": [
       "       NO     YES    Error    Rate\n",
       "-----  -----  -----  -------  -------------\n",
       "NO     18722  0      0        (0.0/18722.0)\n",
       "YES    0      20763  0        (0.0/20763.0)\n",
       "Total  18722  20763  0        (0.0/39485.0)"
      ]
     },
     "metadata": {},
     "output_type": "display_data"
    },
    {
     "name": "stdout",
     "output_type": "stream",
     "text": [
      "Confusion Matrix (Act/Pred) for max f1 @ threshold = 0.9967505931854248: \n"
     ]
    },
    {
     "data": {
      "text/html": [
       "<div style=\"overflow:auto\"><table style=\"width:50%\"><tr><td><b></b></td>\n",
       "<td><b>NO</b></td>\n",
       "<td><b>YES</b></td>\n",
       "<td><b>Error</b></td>\n",
       "<td><b>Rate</b></td></tr>\n",
       "<tr><td>NO</td>\n",
       "<td>18722.0</td>\n",
       "<td>0.0</td>\n",
       "<td>0.0</td>\n",
       "<td> (0.0/18722.0)</td></tr>\n",
       "<tr><td>YES</td>\n",
       "<td>0.0</td>\n",
       "<td>20763.0</td>\n",
       "<td>0.0</td>\n",
       "<td> (0.0/20763.0)</td></tr>\n",
       "<tr><td>Total</td>\n",
       "<td>18722.0</td>\n",
       "<td>20763.0</td>\n",
       "<td>0.0</td>\n",
       "<td> (0.0/39485.0)</td></tr></table></div>"
      ],
      "text/plain": [
       "       NO     YES    Error    Rate\n",
       "-----  -----  -----  -------  -------------\n",
       "NO     18722  0      0        (0.0/18722.0)\n",
       "YES    0      20763  0        (0.0/20763.0)\n",
       "Total  18722  20763  0        (0.0/39485.0)"
      ]
     },
     "metadata": {},
     "output_type": "display_data"
    },
    {
     "data": {
      "text/plain": [
       "[, , , , , , , , , ]"
      ]
     },
     "execution_count": 69,
     "metadata": {},
     "output_type": "execute_result"
    }
   ],
   "source": [
    "best_model.confusion_matrix(metrics=[\"f1\",\"f2\",\"f0point5\",\"accuracy\",\"precision\",\"recall\",\"specificity\",\"absolute_mcc\",\"min_per_class_accuracy\",\"mean_per_class_accuracy\"])"
   ]
  },
  {
   "cell_type": "code",
   "execution_count": null,
   "metadata": {
    "collapsed": true
   },
   "outputs": [],
   "source": [
    "# h2o.cluster().shutdown()"
   ]
  }
 ],
 "metadata": {
  "anaconda-cloud": {},
  "kernelspec": {
   "display_name": "Python 3 (ipykernel)",
   "language": "python",
   "name": "python3"
  },
  "language_info": {
   "codemirror_mode": {
    "name": "ipython",
    "version": 3
   },
   "file_extension": ".py",
   "mimetype": "text/x-python",
   "name": "python",
   "nbconvert_exporter": "python",
   "pygments_lexer": "ipython3",
   "version": "3.8.5"
  }
 },
 "nbformat": 4,
 "nbformat_minor": 1
}
