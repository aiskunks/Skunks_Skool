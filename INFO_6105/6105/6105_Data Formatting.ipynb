{
 "cells": [
  {
   "cell_type": "markdown",
   "metadata": {},
   "source": [
    "### Exercise 1 using the % operator to format"
   ]
  },
  {
   "cell_type": "code",
   "execution_count": 18,
   "metadata": {},
   "outputs": [],
   "source": [
    "from csv import DictReader\n",
    "raw_data = []\n",
    "with open(\"combinded_data.csv\", \"rt\") as fd:\n",
    "    data_rows = DictReader(fd)\n",
    "    for data in data_rows:\n",
    "        raw_data.append(dict(data))"
   ]
  },
  {
   "cell_type": "code",
   "execution_count": 19,
   "metadata": {},
   "outputs": [
    {
     "data": {
      "text/plain": [
       "[{'Name': 'Bob',\n",
       "  'Age': '23.0',\n",
       "  'Height': '1.7',\n",
       "  'Weight': '70',\n",
       "  'Disease_history': 'N',\n",
       "  'Heart_problem': 'N'},\n",
       " {'Name': 'Alex',\n",
       "  'Age': '45',\n",
       "  'Height': '1.61',\n",
       "  'Weight': '61',\n",
       "  'Disease_history': 'Y',\n",
       "  'Heart_problem': 'N'},\n",
       " {'Name': 'George',\n",
       "  'Age': '12.5',\n",
       "  'Height': '1.4',\n",
       "  'Weight': '40',\n",
       "  'Disease_history': 'N',\n",
       "  'Heart_problem': ''},\n",
       " {'Name': 'Alice',\n",
       "  'Age': '34',\n",
       "  'Height': '1.56',\n",
       "  'Weight': '51',\n",
       "  'Disease_history': 'N',\n",
       "  'Heart_problem': 'Y'}]"
      ]
     },
     "execution_count": 19,
     "metadata": {},
     "output_type": "execute_result"
    }
   ],
   "source": [
    "raw_data"
   ]
  },
  {
   "cell_type": "code",
   "execution_count": 22,
   "metadata": {},
   "outputs": [
    {
     "name": "stdout",
     "output_type": "stream",
     "text": [
      "Bob is 23.0 years old and is 1.7 meter tall weiging about 70 kg.\n",
      "\n",
      "    Has a hsitory of family illness: N.\n",
      "\n",
      "    Presently suffering from a heart disease: N\n",
      "    \n",
      "Alex is 45 years old and is 1.61 meter tall weiging about 61 kg.\n",
      "\n",
      "    Has a hsitory of family illness: Y.\n",
      "\n",
      "    Presently suffering from a heart disease: N\n",
      "    \n",
      "George is 12.5 years old and is 1.4 meter tall weiging about 40 kg.\n",
      "\n",
      "    Has a hsitory of family illness: N.\n",
      "\n",
      "    Presently suffering from a heart disease: \n",
      "    \n",
      "Alice is 34 years old and is 1.56 meter tall weiging about 51 kg.\n",
      "\n",
      "    Has a hsitory of family illness: N.\n",
      "\n",
      "    Presently suffering from a heart disease: Y\n",
      "    \n"
     ]
    }
   ],
   "source": [
    "for data in raw_data:\n",
    "    report_str = \"\"\"%s is %s years old and is %s meter tall weiging about %s kg.\\n\n",
    "    Has a hsitory of family illness: %s.\\n\n",
    "    Presently suffering from a heart disease: %s\n",
    "    \"\"\" % (data[\"Name\"], data[\"Age\"], data[\"Height\"], data[\"Weight\"], data[\"Disease_history\"], data[\"Heart_problem\"])\n",
    "    print(report_str)"
   ]
  },
  {
   "cell_type": "markdown",
   "metadata": {},
   "source": [
    "### Exercise 2 (using the 'format' statement)"
   ]
  },
  {
   "cell_type": "code",
   "execution_count": 23,
   "metadata": {},
   "outputs": [
    {
     "name": "stdout",
     "output_type": "stream",
     "text": [
      "Bob is 23.0 years old and is 1.7 meter tall weiging about 70 kg.\n",
      "\n",
      "    Has a hsitory of family illness: N.\n",
      "\n",
      "    Presently suffering from a heart disease: N\n",
      "    \n",
      "Alex is 45 years old and is 1.61 meter tall weiging about 61 kg.\n",
      "\n",
      "    Has a hsitory of family illness: Y.\n",
      "\n",
      "    Presently suffering from a heart disease: N\n",
      "    \n",
      "George is 12.5 years old and is 1.4 meter tall weiging about 40 kg.\n",
      "\n",
      "    Has a hsitory of family illness: N.\n",
      "\n",
      "    Presently suffering from a heart disease: \n",
      "    \n",
      "Alice is 34 years old and is 1.56 meter tall weiging about 51 kg.\n",
      "\n",
      "    Has a hsitory of family illness: N.\n",
      "\n",
      "    Presently suffering from a heart disease: Y\n",
      "    \n"
     ]
    }
   ],
   "source": [
    "for data in raw_data:\n",
    "    report_str = \"\"\"{} is {} years old and is {} meter tall weiging about {} kg.\\n\n",
    "    Has a hsitory of family illness: {}.\\n\n",
    "    Presently suffering from a heart disease: {}\n",
    "    \"\"\".format(data[\"Name\"], data[\"Age\"], data[\"Height\"], data[\"Weight\"], data[\"Disease_history\"], data[\"Heart_problem\"])\n",
    "    print(report_str)"
   ]
  },
  {
   "cell_type": "markdown",
   "metadata": {},
   "source": [
    "### Exercise 3 (Naming the variables inside the string representation)"
   ]
  },
  {
   "cell_type": "code",
   "execution_count": 25,
   "metadata": {},
   "outputs": [
    {
     "name": "stdout",
     "output_type": "stream",
     "text": [
      "Bob is 23.0 years old and is 1.7 meter tall weiging about 70 kg.\n",
      "\n",
      "    Has a hsitory of family illness: N.\n",
      "\n",
      "    Presently suffering from a heart disease: N\n",
      "    \n",
      "Alex is 45 years old and is 1.61 meter tall weiging about 61 kg.\n",
      "\n",
      "    Has a hsitory of family illness: Y.\n",
      "\n",
      "    Presently suffering from a heart disease: N\n",
      "    \n",
      "George is 12.5 years old and is 1.4 meter tall weiging about 40 kg.\n",
      "\n",
      "    Has a hsitory of family illness: N.\n",
      "\n",
      "    Presently suffering from a heart disease: \n",
      "    \n",
      "Alice is 34 years old and is 1.56 meter tall weiging about 51 kg.\n",
      "\n",
      "    Has a hsitory of family illness: N.\n",
      "\n",
      "    Presently suffering from a heart disease: Y\n",
      "    \n"
     ]
    }
   ],
   "source": [
    "for data in raw_data:\n",
    "    report_str = \"\"\"{Name} is {Age} years old and is {Height} meter tall weiging about {Weight} kg.\\n\n",
    "    Has a hsitory of family illness: {Disease_history}.\\n\n",
    "    Presently suffering from a heart disease: {Heart_problem}\n",
    "    \"\"\".format(**data)\n",
    "    print(report_str)"
   ]
  },
  {
   "cell_type": "markdown",
   "metadata": {},
   "source": [
    "### Exercise 4 (Various conversion tricks with format)"
   ]
  },
  {
   "cell_type": "code",
   "execution_count": 30,
   "metadata": {},
   "outputs": [
    {
     "name": "stdout",
     "output_type": "stream",
     "text": [
      "The binary representation of 42 is - 101010\n"
     ]
    }
   ],
   "source": [
    "original_number = 42\n",
    "print(\"The binary representation of 42 is - {0:b}\".format(original_number))"
   ]
  },
  {
   "cell_type": "code",
   "execution_count": 31,
   "metadata": {},
   "outputs": [
    {
     "name": "stdout",
     "output_type": "stream",
     "text": [
      "            I am at the center            \n"
     ]
    }
   ],
   "source": [
    "print(\"{:^42}\".format(\"I am at the center\"))"
   ]
  },
  {
   "cell_type": "code",
   "execution_count": 33,
   "metadata": {},
   "outputs": [
    {
     "name": "stdout",
     "output_type": "stream",
     "text": [
      "============I am at the center============\n"
     ]
    }
   ],
   "source": [
    "print(\"{:=^42}\".format(\"I am at the center\"))"
   ]
  },
  {
   "cell_type": "markdown",
   "metadata": {},
   "source": [
    "### Exercise 5 (Date formatting)"
   ]
  },
  {
   "cell_type": "code",
   "execution_count": 34,
   "metadata": {},
   "outputs": [],
   "source": [
    "from datetime import datetime"
   ]
  },
  {
   "cell_type": "code",
   "execution_count": 35,
   "metadata": {},
   "outputs": [
    {
     "name": "stdout",
     "output_type": "stream",
     "text": [
      "The present datetime is 2018-10-14 09:57:15\n"
     ]
    }
   ],
   "source": [
    "print(\"The present datetime is {:%Y-%m-%d %H:%M:%S}\".format(datetime.utcnow()))"
   ]
  },
  {
   "cell_type": "code",
   "execution_count": null,
   "metadata": {},
   "outputs": [],
   "source": []
  }
 ],
 "metadata": {
  "kernelspec": {
   "display_name": "Python 3",
   "language": "python",
   "name": "python3"
  },
  "language_info": {
   "codemirror_mode": {
    "name": "ipython",
    "version": 3
   },
   "file_extension": ".py",
   "mimetype": "text/x-python",
   "name": "python",
   "nbconvert_exporter": "python",
   "pygments_lexer": "ipython3",
   "version": "3.6.6"
  }
 },
 "nbformat": 4,
 "nbformat_minor": 2
}
