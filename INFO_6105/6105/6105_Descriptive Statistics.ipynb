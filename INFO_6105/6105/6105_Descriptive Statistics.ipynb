{
 "cells": [
  {
   "cell_type": "markdown",
   "metadata": {
    "colab_type": "text",
    "id": "HrotValaX5gT"
   },
   "source": [
    "# Descriptive Statistics"
   ]
  },
  {
   "cell_type": "markdown",
   "metadata": {
    "colab_type": "text",
    "id": "Cy1MCfOzX5gW"
   },
   "source": [
    "## Description"
   ]
  },
  {
   "cell_type": "markdown",
   "metadata": {
    "colab_type": "text",
    "id": "42lk2t_UX5gX"
   },
   "source": [
    "Descriptive statistics are brief descriptive coefficients that summarize a given data set, which can be either a representation of the entire or a sample of a population.  Descriptive statistics are broken down into measures of frequency, measures of central tendency, measures of dispersion or variation (spread), and measures of position."
   ]
  },
  {
   "cell_type": "markdown",
   "metadata": {
    "colab_type": "text",
    "id": "NcbUFZClX5gY"
   },
   "source": [
    "## Import"
   ]
  },
  {
   "cell_type": "code",
   "execution_count": 0,
   "metadata": {
    "colab": {},
    "colab_type": "code",
    "id": "REkJCdLXX5gY"
   },
   "outputs": [],
   "source": [
    "from typing import List"
   ]
  },
  {
   "cell_type": "markdown",
   "metadata": {
    "colab_type": "text",
    "id": "7NPmgZ_RX5gd"
   },
   "source": [
    "## Data"
   ]
  },
  {
   "cell_type": "code",
   "execution_count": 0,
   "metadata": {
    "colab": {
     "base_uri": "https://localhost:8080/",
     "height": 170
    },
    "colab_type": "code",
    "executionInfo": {
     "elapsed": 1296,
     "status": "ok",
     "timestamp": 1573159284088,
     "user": {
      "displayName": "Gregory DeSantis",
      "photoUrl": "https://lh3.googleusercontent.com/a-/AAuE7mCHssn6k_W39SXrih--NHbKlExO1GXsE0Yvse1A6n8=s64",
      "userId": "13988622607574133301"
     },
     "user_tz": 300
    },
    "id": "2MswfxWKX5ge",
    "outputId": "6d4b87f8-110d-4384-be47-44fd10b1cf5d"
   },
   "outputs": [
    {
     "name": "stdout",
     "output_type": "stream",
     "text": [
      "[1, 2, 3, 4, 5, 6, 7, 8, 9, 10]\n",
      "[11, 10, 9, 8, 7, 6, 5, 4, 3, 2, 1]\n",
      "[1, 2, 3, 4, 5, 6, 7, 8, 9, 10, 1]\n",
      "[1, 2, 3, 4, 5, 6, 7, 8, 9, 10, 1, 2]\n",
      "[2, 4, 6, 8, 10, 12, 14, 16, 18, 20]\n",
      "[43, 21, 25, 42, 57, 59]\n",
      "[99, 65, 79, 75, 87, 81]\n",
      "[56, 29, 45, 93, 67, 38, 85, 77, 56, 71]\n",
      "[11.3, 12.9, 11.9, 10.2, 11.1, 12.5, 10.8, 10.5, 12.0, 10.9]\n"
     ]
    }
   ],
   "source": [
    "a = list(range(1, 11))\n",
    "b = list(range(11, 0, -1))\n",
    "c = a + [1]\n",
    "d = c + [2]\n",
    "e = list(range(2, 21, 2))\n",
    "age_x = [43, 21, 25, 42, 57, 59]\n",
    "glucose_level_y = [99, 65, 79, 75, 87, 81]\n",
    "math_score = [56, 29, 45, 93, 67, 38, 85, 77, 56, 71]\n",
    "time_taken_to_run_100m_secs = [11.3, 12.9, 11.9, 10.2, 11.1, 12.5, 10.8, 10.5, \\\n",
    "                               12.0, 10.9]\n",
    "print(a)\n",
    "print(b)\n",
    "print(c)\n",
    "print(d)\n",
    "print(e)\n",
    "print(age_x)\n",
    "print(glucose_level_y)\n",
    "print(math_score)\n",
    "print(time_taken_to_run_100m_secs)"
   ]
  },
  {
   "cell_type": "markdown",
   "metadata": {
    "colab_type": "text",
    "id": "Us3U6DsvX5gi"
   },
   "source": [
    "## Count"
   ]
  },
  {
   "cell_type": "code",
   "execution_count": 0,
   "metadata": {
    "colab": {},
    "colab_type": "code",
    "id": "IuRNO2xKX5gj"
   },
   "outputs": [],
   "source": [
    "def calc_count(x: List[float]) -> int:\n",
    "    \"\"\"Returns the number of data points in a data set\"\"\"\n",
    "    return len(x)"
   ]
  },
  {
   "cell_type": "markdown",
   "metadata": {
    "colab_type": "text",
    "id": "PInpQqPKX5gm"
   },
   "source": [
    "## Output"
   ]
  },
  {
   "cell_type": "code",
   "execution_count": 0,
   "metadata": {
    "colab": {
     "base_uri": "https://localhost:8080/",
     "height": 51
    },
    "colab_type": "code",
    "executionInfo": {
     "elapsed": 1287,
     "status": "ok",
     "timestamp": 1573159284089,
     "user": {
      "displayName": "Gregory DeSantis",
      "photoUrl": "https://lh3.googleusercontent.com/a-/AAuE7mCHssn6k_W39SXrih--NHbKlExO1GXsE0Yvse1A6n8=s64",
      "userId": "13988622607574133301"
     },
     "user_tz": 300
    },
    "id": "-oqVyYSGX5gn",
    "outputId": "903030b1-62e9-473e-9b92-904b6d9f178c"
   },
   "outputs": [
    {
     "name": "stdout",
     "output_type": "stream",
     "text": [
      "10\n",
      "11\n"
     ]
    }
   ],
   "source": [
    "print(calc_count(a))\n",
    "print(calc_count(b))"
   ]
  },
  {
   "cell_type": "markdown",
   "metadata": {
    "colab_type": "text",
    "id": "J9ZBkvarX5g5"
   },
   "source": [
    "## Minimum"
   ]
  },
  {
   "cell_type": "code",
   "execution_count": 0,
   "metadata": {
    "colab": {},
    "colab_type": "code",
    "id": "g8vcXRB0X5g5"
   },
   "outputs": [],
   "source": [
    "def calc_minimum(x: List[float]) -> int:\n",
    "    \"\"\"Returns the lowest data point in a data set\"\"\"\n",
    "    return min(x)"
   ]
  },
  {
   "cell_type": "markdown",
   "metadata": {
    "colab_type": "text",
    "id": "Q2iOpd76X5g9"
   },
   "source": [
    "## Output"
   ]
  },
  {
   "cell_type": "code",
   "execution_count": 0,
   "metadata": {
    "colab": {
     "base_uri": "https://localhost:8080/",
     "height": 51
    },
    "colab_type": "code",
    "executionInfo": {
     "elapsed": 1275,
     "status": "ok",
     "timestamp": 1573159284090,
     "user": {
      "displayName": "Gregory DeSantis",
      "photoUrl": "https://lh3.googleusercontent.com/a-/AAuE7mCHssn6k_W39SXrih--NHbKlExO1GXsE0Yvse1A6n8=s64",
      "userId": "13988622607574133301"
     },
     "user_tz": 300
    },
    "id": "OOLR-RIUX5g9",
    "outputId": "3324e374-1304-49b4-ac18-655e0f986bd1"
   },
   "outputs": [
    {
     "name": "stdout",
     "output_type": "stream",
     "text": [
      "1\n",
      "1\n"
     ]
    }
   ],
   "source": [
    "print(calc_minimum(a))\n",
    "print(calc_minimum(b))"
   ]
  },
  {
   "cell_type": "markdown",
   "metadata": {
    "colab_type": "text",
    "id": "TBIWmsN7X5hD"
   },
   "source": [
    "## Maximum"
   ]
  },
  {
   "cell_type": "code",
   "execution_count": 0,
   "metadata": {
    "colab": {},
    "colab_type": "code",
    "id": "bmOKVj-HX5hG"
   },
   "outputs": [],
   "source": [
    "def calc_maximum(x: List[float]) -> int:\n",
    "    \"\"\"Returns the highest data point in a data set\"\"\"\n",
    "    return max(x)"
   ]
  },
  {
   "cell_type": "markdown",
   "metadata": {
    "colab_type": "text",
    "id": "XUwYMyG3X5hJ"
   },
   "source": [
    "## Output"
   ]
  },
  {
   "cell_type": "code",
   "execution_count": 0,
   "metadata": {
    "colab": {
     "base_uri": "https://localhost:8080/",
     "height": 51
    },
    "colab_type": "code",
    "executionInfo": {
     "elapsed": 1234,
     "status": "ok",
     "timestamp": 1573159284091,
     "user": {
      "displayName": "Gregory DeSantis",
      "photoUrl": "https://lh3.googleusercontent.com/a-/AAuE7mCHssn6k_W39SXrih--NHbKlExO1GXsE0Yvse1A6n8=s64",
      "userId": "13988622607574133301"
     },
     "user_tz": 300
    },
    "id": "QCgtg2lCX5hJ",
    "outputId": "3ec2db40-6cf5-4d7e-fa4c-4388dd74b598"
   },
   "outputs": [
    {
     "name": "stdout",
     "output_type": "stream",
     "text": [
      "10\n",
      "11\n"
     ]
    }
   ],
   "source": [
    "print(calc_maximum(a))\n",
    "print(calc_maximum(b))"
   ]
  },
  {
   "cell_type": "markdown",
   "metadata": {
    "colab_type": "text",
    "id": "2kXoBRg-X5hO"
   },
   "source": [
    "## Range"
   ]
  },
  {
   "cell_type": "code",
   "execution_count": 0,
   "metadata": {
    "colab": {},
    "colab_type": "code",
    "id": "MULq_aA3X5hP"
   },
   "outputs": [],
   "source": [
    "def calc_range(x: List[float]) -> float:\n",
    "    \"\"\"Returns the difference between the lowest and highest data points in a \n",
    "    data set\"\"\"\n",
    "    return calc_maximum(x) - calc_minimum(x)"
   ]
  },
  {
   "cell_type": "markdown",
   "metadata": {
    "colab_type": "text",
    "id": "44td0FBiX5hS"
   },
   "source": [
    "## Output"
   ]
  },
  {
   "cell_type": "code",
   "execution_count": 0,
   "metadata": {
    "colab": {
     "base_uri": "https://localhost:8080/",
     "height": 51
    },
    "colab_type": "code",
    "executionInfo": {
     "elapsed": 1219,
     "status": "ok",
     "timestamp": 1573159284092,
     "user": {
      "displayName": "Gregory DeSantis",
      "photoUrl": "https://lh3.googleusercontent.com/a-/AAuE7mCHssn6k_W39SXrih--NHbKlExO1GXsE0Yvse1A6n8=s64",
      "userId": "13988622607574133301"
     },
     "user_tz": 300
    },
    "id": "Ap7vGzY8X5hT",
    "outputId": "3c71ac98-7556-4489-fe81-8eb96091252c"
   },
   "outputs": [
    {
     "name": "stdout",
     "output_type": "stream",
     "text": [
      "9\n",
      "10\n"
     ]
    }
   ],
   "source": [
    "print(calc_range(a))\n",
    "print(calc_range(b))"
   ]
  },
  {
   "cell_type": "markdown",
   "metadata": {
    "colab_type": "text",
    "id": "RjYTnnlOX5hW"
   },
   "source": [
    "## Mean"
   ]
  },
  {
   "cell_type": "code",
   "execution_count": 0,
   "metadata": {
    "colab": {},
    "colab_type": "code",
    "id": "T5vW7GQYX5hX"
   },
   "outputs": [],
   "source": [
    "def calc_mean(x: List[float]) -> float:\n",
    "    \"\"\"Returns the sum of the data points divided by the number of data points \n",
    "    in a data set\"\"\"\n",
    "    return sum(x) / calc_count(x)   "
   ]
  },
  {
   "cell_type": "markdown",
   "metadata": {
    "colab_type": "text",
    "id": "_ToInAPcX5hY"
   },
   "source": [
    "## Output"
   ]
  },
  {
   "cell_type": "code",
   "execution_count": 0,
   "metadata": {
    "colab": {
     "base_uri": "https://localhost:8080/",
     "height": 51
    },
    "colab_type": "code",
    "executionInfo": {
     "elapsed": 1192,
     "status": "ok",
     "timestamp": 1573159284093,
     "user": {
      "displayName": "Gregory DeSantis",
      "photoUrl": "https://lh3.googleusercontent.com/a-/AAuE7mCHssn6k_W39SXrih--NHbKlExO1GXsE0Yvse1A6n8=s64",
      "userId": "13988622607574133301"
     },
     "user_tz": 300
    },
    "id": "-_5Ffz1YX5hZ",
    "outputId": "5eea87bd-45aa-46cc-ffdf-2956576eeecf"
   },
   "outputs": [
    {
     "name": "stdout",
     "output_type": "stream",
     "text": [
      "5.5\n",
      "6.0\n"
     ]
    }
   ],
   "source": [
    "print(calc_mean(a))\n",
    "print(calc_mean(b))"
   ]
  },
  {
   "cell_type": "markdown",
   "metadata": {
    "colab_type": "text",
    "id": "N_QRPKfdX5hb"
   },
   "source": [
    "## Median"
   ]
  },
  {
   "cell_type": "code",
   "execution_count": 0,
   "metadata": {
    "colab": {},
    "colab_type": "code",
    "id": "0OESQfqEX5hb"
   },
   "outputs": [],
   "source": [
    "def calc_median(x: List[float]) -> float:\n",
    "    \"\"\"Returns the middle data point in a data set\"\"\"\n",
    "    if calc_count(x) % 2 == 1:\n",
    "        return sorted(x)[calc_count(x) // 2]\n",
    "    if calc_count(x) % 2 == 0:\n",
    "        return ((sorted(x)[(calc_count(x) // 2) - 1]) + \\\n",
    "                (sorted(x)[calc_count(x) // 2])) / 2"
   ]
  },
  {
   "cell_type": "markdown",
   "metadata": {
    "colab_type": "text",
    "id": "EjLqcV2SX5hd"
   },
   "source": [
    "## Output"
   ]
  },
  {
   "cell_type": "code",
   "execution_count": 0,
   "metadata": {
    "colab": {
     "base_uri": "https://localhost:8080/",
     "height": 51
    },
    "colab_type": "code",
    "executionInfo": {
     "elapsed": 1178,
     "status": "ok",
     "timestamp": 1573159284094,
     "user": {
      "displayName": "Gregory DeSantis",
      "photoUrl": "https://lh3.googleusercontent.com/a-/AAuE7mCHssn6k_W39SXrih--NHbKlExO1GXsE0Yvse1A6n8=s64",
      "userId": "13988622607574133301"
     },
     "user_tz": 300
    },
    "id": "EAfyzfZ7X5he",
    "outputId": "3312d689-f59f-495d-a559-62057577b319"
   },
   "outputs": [
    {
     "name": "stdout",
     "output_type": "stream",
     "text": [
      "5.5\n",
      "6\n"
     ]
    }
   ],
   "source": [
    "print(calc_median(a))\n",
    "print(calc_median(b))"
   ]
  },
  {
   "cell_type": "markdown",
   "metadata": {
    "colab_type": "text",
    "id": "j2xr2agQX5hg"
   },
   "source": [
    "## Quantile"
   ]
  },
  {
   "cell_type": "code",
   "execution_count": 0,
   "metadata": {
    "colab": {},
    "colab_type": "code",
    "id": "Ot5Lef6gX5hg"
   },
   "outputs": [],
   "source": [
    "def calc_quantile(x: List[float], y: float) -> float:\n",
    "    \"\"\"Returns the percentile value in the data set\"\"\"\n",
    "    return sorted(x)[int(y * calc_count(x))]"
   ]
  },
  {
   "cell_type": "markdown",
   "metadata": {
    "colab_type": "text",
    "id": "bcbBC6hUX5hj"
   },
   "source": [
    "## Output"
   ]
  },
  {
   "cell_type": "code",
   "execution_count": 0,
   "metadata": {
    "colab": {
     "base_uri": "https://localhost:8080/",
     "height": 68
    },
    "colab_type": "code",
    "executionInfo": {
     "elapsed": 1140,
     "status": "ok",
     "timestamp": 1573159284095,
     "user": {
      "displayName": "Gregory DeSantis",
      "photoUrl": "https://lh3.googleusercontent.com/a-/AAuE7mCHssn6k_W39SXrih--NHbKlExO1GXsE0Yvse1A6n8=s64",
      "userId": "13988622607574133301"
     },
     "user_tz": 300
    },
    "id": "mndUI9csX5hl",
    "outputId": "8d03e92b-e3f9-4167-afad-a264783a9cc6"
   },
   "outputs": [
    {
     "name": "stdout",
     "output_type": "stream",
     "text": [
      "3\n",
      "6\n",
      "8\n"
     ]
    }
   ],
   "source": [
    "print(calc_quantile(a, 0.25))\n",
    "print(calc_quantile(a, 0.50))\n",
    "print(calc_quantile(a, 0.75))"
   ]
  },
  {
   "cell_type": "markdown",
   "metadata": {
    "colab_type": "text",
    "id": "myCUt1MnX5hq"
   },
   "source": [
    "## Interquantile Range"
   ]
  },
  {
   "cell_type": "code",
   "execution_count": 0,
   "metadata": {
    "colab": {},
    "colab_type": "code",
    "id": "xntfgFxFX5hq"
   },
   "outputs": [],
   "source": [
    "def calc_interquantile_range(x: List[float]) -> float:\n",
    "    \"\"\"Returns the difference between the 75th percentile and the 25th \n",
    "    percentile in a data set\"\"\"\n",
    "    return calc_quantile(x, 0.75) - calc_quantile(x, 0.25)"
   ]
  },
  {
   "cell_type": "markdown",
   "metadata": {
    "colab_type": "text",
    "id": "xYyvQYm_X5hs"
   },
   "source": [
    "## Output"
   ]
  },
  {
   "cell_type": "code",
   "execution_count": 0,
   "metadata": {
    "colab": {
     "base_uri": "https://localhost:8080/",
     "height": 34
    },
    "colab_type": "code",
    "executionInfo": {
     "elapsed": 1815,
     "status": "ok",
     "timestamp": 1573159284784,
     "user": {
      "displayName": "Gregory DeSantis",
      "photoUrl": "https://lh3.googleusercontent.com/a-/AAuE7mCHssn6k_W39SXrih--NHbKlExO1GXsE0Yvse1A6n8=s64",
      "userId": "13988622607574133301"
     },
     "user_tz": 300
    },
    "id": "hMLx4pgiX5ht",
    "outputId": "c9047493-4c57-45b6-895d-eae11b7a49b4"
   },
   "outputs": [
    {
     "name": "stdout",
     "output_type": "stream",
     "text": [
      "5\n"
     ]
    }
   ],
   "source": [
    "print(calc_interquantile_range(a))"
   ]
  },
  {
   "cell_type": "markdown",
   "metadata": {
    "colab_type": "text",
    "id": "HBas6qdWX5hv"
   },
   "source": [
    "## Mode"
   ]
  },
  {
   "cell_type": "code",
   "execution_count": 0,
   "metadata": {
    "colab": {},
    "colab_type": "code",
    "id": "AjiGcUIaX5hv"
   },
   "outputs": [],
   "source": [
    "def calc_mode(x: List[float]) -> List[float]:\n",
    "    \"\"\"Returns the number(s) that appear most frequently in a data set\"\"\"\n",
    "    frequency_dict = {}\n",
    "    for i in x:\n",
    "        if i not in frequency_dict:\n",
    "            frequency_dict[i] = 1\n",
    "        else:\n",
    "            frequency_dict[i] += 1\n",
    "    modes = []\n",
    "    highest_frequency = sorted(frequency_dict.values())[-1]\n",
    "    for key, value in frequency_dict.items():\n",
    "        if value == highest_frequency:\n",
    "            modes.append(key)\n",
    "    return modes"
   ]
  },
  {
   "cell_type": "markdown",
   "metadata": {
    "colab_type": "text",
    "id": "qSVeI2DSX5hy"
   },
   "source": [
    "## Output"
   ]
  },
  {
   "cell_type": "code",
   "execution_count": 0,
   "metadata": {
    "colab": {
     "base_uri": "https://localhost:8080/",
     "height": 51
    },
    "colab_type": "code",
    "executionInfo": {
     "elapsed": 1799,
     "status": "ok",
     "timestamp": 1573159284786,
     "user": {
      "displayName": "Gregory DeSantis",
      "photoUrl": "https://lh3.googleusercontent.com/a-/AAuE7mCHssn6k_W39SXrih--NHbKlExO1GXsE0Yvse1A6n8=s64",
      "userId": "13988622607574133301"
     },
     "user_tz": 300
    },
    "id": "S83g7eEjX5hy",
    "outputId": "b5f4eac5-ad94-47ef-feec-03aabacf8581"
   },
   "outputs": [
    {
     "name": "stdout",
     "output_type": "stream",
     "text": [
      "[1]\n",
      "[1, 2]\n"
     ]
    }
   ],
   "source": [
    "print(calc_mode(c))\n",
    "print(calc_mode(d))"
   ]
  },
  {
   "cell_type": "markdown",
   "metadata": {
    "colab_type": "text",
    "id": "tsW7tUBAX5h0"
   },
   "source": [
    "## Variance"
   ]
  },
  {
   "cell_type": "code",
   "execution_count": 0,
   "metadata": {
    "colab": {},
    "colab_type": "code",
    "id": "oYJnKevtX5h1"
   },
   "outputs": [],
   "source": [
    "def calc_variance(x: List[float]) -> float:\n",
    "    \"\"\"Returns the average of the squared differences from the mean in a data \n",
    "    set\"\"\"\n",
    "    assert calc_count(x) >= 2, \"Variance requires at least two elements\"\n",
    "    return sum([(i - (calc_mean(x)))**2 for i in x]) / calc_count(x)"
   ]
  },
  {
   "cell_type": "markdown",
   "metadata": {
    "colab_type": "text",
    "id": "sZjIGQm1X5h4"
   },
   "source": [
    "## Output"
   ]
  },
  {
   "cell_type": "code",
   "execution_count": 0,
   "metadata": {
    "colab": {
     "base_uri": "https://localhost:8080/",
     "height": 51
    },
    "colab_type": "code",
    "executionInfo": {
     "elapsed": 1783,
     "status": "ok",
     "timestamp": 1573159284787,
     "user": {
      "displayName": "Gregory DeSantis",
      "photoUrl": "https://lh3.googleusercontent.com/a-/AAuE7mCHssn6k_W39SXrih--NHbKlExO1GXsE0Yvse1A6n8=s64",
      "userId": "13988622607574133301"
     },
     "user_tz": 300
    },
    "id": "hcBHZQ7tX5h4",
    "outputId": "ce88cee8-36a2-4202-f5cd-d00a817584cd"
   },
   "outputs": [
    {
     "name": "stdout",
     "output_type": "stream",
     "text": [
      "8.25\n",
      "10.0\n"
     ]
    }
   ],
   "source": [
    "print(calc_variance(a))\n",
    "print(calc_variance(b))"
   ]
  },
  {
   "cell_type": "markdown",
   "metadata": {
    "colab_type": "text",
    "id": "xtB2QRW0X5h6"
   },
   "source": [
    "## Bessel's Correction Variance"
   ]
  },
  {
   "cell_type": "code",
   "execution_count": 0,
   "metadata": {
    "colab": {},
    "colab_type": "code",
    "id": "bMVsGuhHX5h6"
   },
   "outputs": [],
   "source": [
    "def calc_bessel_variance(x: List[float]) -> float:\n",
    "    \"\"\"Returns the average of the squared differences from the mean in a data \n",
    "    set but corrected for bias in the estimation of the population variance\"\"\"\n",
    "    assert calc_count(x) >= 2, \"Variance requires at least two elements\"\n",
    "    return sum([(i - (calc_mean(x)))**2 for i in x]) / (calc_count(x) - 1)"
   ]
  },
  {
   "cell_type": "markdown",
   "metadata": {
    "colab_type": "text",
    "id": "niD6BmYXX5h7"
   },
   "source": [
    "## Output"
   ]
  },
  {
   "cell_type": "code",
   "execution_count": 0,
   "metadata": {
    "colab": {
     "base_uri": "https://localhost:8080/",
     "height": 51
    },
    "colab_type": "code",
    "executionInfo": {
     "elapsed": 1763,
     "status": "ok",
     "timestamp": 1573159284788,
     "user": {
      "displayName": "Gregory DeSantis",
      "photoUrl": "https://lh3.googleusercontent.com/a-/AAuE7mCHssn6k_W39SXrih--NHbKlExO1GXsE0Yvse1A6n8=s64",
      "userId": "13988622607574133301"
     },
     "user_tz": 300
    },
    "id": "TpYiLvryX5h8",
    "outputId": "8f40c73d-5c81-4094-f4cd-e61cf0cca48a"
   },
   "outputs": [
    {
     "name": "stdout",
     "output_type": "stream",
     "text": [
      "9.166666666666666\n",
      "11.0\n"
     ]
    }
   ],
   "source": [
    "print(calc_bessel_variance(a))\n",
    "print(calc_bessel_variance(b))"
   ]
  },
  {
   "cell_type": "markdown",
   "metadata": {
    "colab_type": "text",
    "id": "CJDelIr2X5h9"
   },
   "source": [
    "## Standard Deviation"
   ]
  },
  {
   "cell_type": "code",
   "execution_count": 0,
   "metadata": {
    "colab": {},
    "colab_type": "code",
    "id": "y_ZhdErTX5h-"
   },
   "outputs": [],
   "source": [
    "def calc_standard_deviation(x: List[float]) -> float:\n",
    "    \"\"\"Returns the dispersion of a dataset relative to its mean and is \n",
    "    calculated as the square root of the\n",
    "    variance\"\"\"\n",
    "    assert calc_count(x) >= 2, \"Standard Deviation requires at least two \" \\\n",
    "    \"elements\"\n",
    "    return (sum([(i - (calc_mean(x)))**2 for i in x]) / calc_count(x))**0.5"
   ]
  },
  {
   "cell_type": "markdown",
   "metadata": {
    "colab_type": "text",
    "id": "HoDGfdLgX5iA"
   },
   "source": [
    "## Output"
   ]
  },
  {
   "cell_type": "code",
   "execution_count": 0,
   "metadata": {
    "colab": {
     "base_uri": "https://localhost:8080/",
     "height": 51
    },
    "colab_type": "code",
    "executionInfo": {
     "elapsed": 1700,
     "status": "ok",
     "timestamp": 1573159284789,
     "user": {
      "displayName": "Gregory DeSantis",
      "photoUrl": "https://lh3.googleusercontent.com/a-/AAuE7mCHssn6k_W39SXrih--NHbKlExO1GXsE0Yvse1A6n8=s64",
      "userId": "13988622607574133301"
     },
     "user_tz": 300
    },
    "id": "Pv3MW_C1X5iA",
    "outputId": "ab84d2ec-a99c-4638-9dbe-08aeb5af88fe"
   },
   "outputs": [
    {
     "name": "stdout",
     "output_type": "stream",
     "text": [
      "2.8722813232690143\n",
      "3.1622776601683795\n"
     ]
    }
   ],
   "source": [
    "print(calc_standard_deviation(a))\n",
    "print(calc_standard_deviation(b))"
   ]
  },
  {
   "cell_type": "markdown",
   "metadata": {
    "colab_type": "text",
    "id": "T5R4g0dvX5iC"
   },
   "source": [
    "## Bessel's Correction Standard Deviation"
   ]
  },
  {
   "cell_type": "code",
   "execution_count": 0,
   "metadata": {
    "colab": {},
    "colab_type": "code",
    "id": "we_qFs2TX5iC"
   },
   "outputs": [],
   "source": [
    "def calc_bessel_standard_deviation(x: List[float]) -> float:\n",
    "    \"\"\"Returns the dispersion of a dataset relative to its mean and is \n",
    "    calculated as the square root of the variance but corrected for bias in the \n",
    "    estimation of the population\"\"\"\n",
    "    assert calc_count(x) >= 2, \"Standard Deviation requires at least two \" \\\n",
    "    \"elements\"\n",
    "    return (sum([(i - (calc_mean(x)))**2 for i in x]) / \\\n",
    "            (calc_count(x) - 1))**0.5"
   ]
  },
  {
   "cell_type": "markdown",
   "metadata": {
    "colab_type": "text",
    "id": "RiJVW2vJX5iE"
   },
   "source": [
    "## Output"
   ]
  },
  {
   "cell_type": "code",
   "execution_count": 0,
   "metadata": {
    "colab": {
     "base_uri": "https://localhost:8080/",
     "height": 51
    },
    "colab_type": "code",
    "executionInfo": {
     "elapsed": 1647,
     "status": "ok",
     "timestamp": 1573159284790,
     "user": {
      "displayName": "Gregory DeSantis",
      "photoUrl": "https://lh3.googleusercontent.com/a-/AAuE7mCHssn6k_W39SXrih--NHbKlExO1GXsE0Yvse1A6n8=s64",
      "userId": "13988622607574133301"
     },
     "user_tz": 300
    },
    "id": "WpFYxhcxX5iF",
    "outputId": "734bdb78-b618-460c-8c1e-c34a4c5fa796"
   },
   "outputs": [
    {
     "name": "stdout",
     "output_type": "stream",
     "text": [
      "3.0276503540974917\n",
      "3.3166247903554\n"
     ]
    }
   ],
   "source": [
    "print(calc_bessel_standard_deviation(a))\n",
    "print(calc_bessel_standard_deviation(b))"
   ]
  },
  {
   "cell_type": "markdown",
   "metadata": {
    "colab_type": "text",
    "id": "CF6nv61nX5iI"
   },
   "source": [
    "## Covariance"
   ]
  },
  {
   "cell_type": "code",
   "execution_count": 0,
   "metadata": {
    "colab": {},
    "colab_type": "code",
    "id": "nZtADQzhX5iI"
   },
   "outputs": [],
   "source": [
    "def calc_covariance(x: List[float], y: List[float]) -> float:\n",
    "    \"\"\"Returns a measurement of how changes in one variable are associated with \n",
    "    changes in a second variable\"\"\"\n",
    "    assert calc_count(x) == calc_count(y), \"x and y must contain the same \" \\\n",
    "    \"number of elements\"\n",
    "    return sum([(i - (calc_mean(x))) * (j - (calc_mean(y))) for i, \\\n",
    "                j in zip(x, y)]) / (calc_count(x) - 1)"
   ]
  },
  {
   "cell_type": "markdown",
   "metadata": {
    "colab_type": "text",
    "id": "jHBF90UJX5iL"
   },
   "source": [
    "## Output"
   ]
  },
  {
   "cell_type": "code",
   "execution_count": 0,
   "metadata": {
    "colab": {
     "base_uri": "https://localhost:8080/",
     "height": 34
    },
    "colab_type": "code",
    "executionInfo": {
     "elapsed": 1593,
     "status": "ok",
     "timestamp": 1573159284792,
     "user": {
      "displayName": "Gregory DeSantis",
      "photoUrl": "https://lh3.googleusercontent.com/a-/AAuE7mCHssn6k_W39SXrih--NHbKlExO1GXsE0Yvse1A6n8=s64",
      "userId": "13988622607574133301"
     },
     "user_tz": 300
    },
    "id": "iHLSzwGIX5iL",
    "outputId": "b7a1b2cb-587a-4bd3-fe17-15cc1994a17a"
   },
   "outputs": [
    {
     "name": "stdout",
     "output_type": "stream",
     "text": [
      "18.333333333333332\n"
     ]
    }
   ],
   "source": [
    "print(calc_covariance(a, e))"
   ]
  },
  {
   "cell_type": "markdown",
   "metadata": {
    "colab_type": "text",
    "id": "IdyT7gZ7X5iO"
   },
   "source": [
    "## Correlation"
   ]
  },
  {
   "cell_type": "code",
   "execution_count": 0,
   "metadata": {
    "colab": {},
    "colab_type": "code",
    "id": "SyMnQ7YfX5iO"
   },
   "outputs": [],
   "source": [
    "def calc_correlation(x: List[float], y: List[float]) -> float:\n",
    "    \"\"\"Returns a measurement of the strength of the relationship between the \n",
    "    relative movements of two data sets\"\"\"\n",
    "    if calc_bessel_standard_deviation(x) > 0 and \\\n",
    "    calc_bessel_standard_deviation(y) > 0:\n",
    "        return calc_covariance(x, y) / calc_bessel_standard_deviation(x) / \\\n",
    "        calc_bessel_standard_deviation(y)\n",
    "    else:\n",
    "        return 0"
   ]
  },
  {
   "cell_type": "markdown",
   "metadata": {
    "colab_type": "text",
    "id": "Rt7wwHMKX5iQ"
   },
   "source": [
    "## Output"
   ]
  },
  {
   "cell_type": "code",
   "execution_count": 0,
   "metadata": {
    "colab": {
     "base_uri": "https://localhost:8080/",
     "height": 34
    },
    "colab_type": "code",
    "executionInfo": {
     "elapsed": 1554,
     "status": "ok",
     "timestamp": 1573159284793,
     "user": {
      "displayName": "Gregory DeSantis",
      "photoUrl": "https://lh3.googleusercontent.com/a-/AAuE7mCHssn6k_W39SXrih--NHbKlExO1GXsE0Yvse1A6n8=s64",
      "userId": "13988622607574133301"
     },
     "user_tz": 300
    },
    "id": "qbAorRzgX5iR",
    "outputId": "d120f28e-b7db-46c9-e797-10ac1a1edb34"
   },
   "outputs": [
    {
     "name": "stdout",
     "output_type": "stream",
     "text": [
      "0.5298089018901744\n"
     ]
    }
   ],
   "source": [
    "print(calc_correlation(age_x, glucose_level_y))"
   ]
  },
  {
   "cell_type": "code",
   "execution_count": 0,
   "metadata": {
    "colab": {
     "base_uri": "https://localhost:8080/",
     "height": 34
    },
    "colab_type": "code",
    "executionInfo": {
     "elapsed": 1537,
     "status": "ok",
     "timestamp": 1573159284793,
     "user": {
      "displayName": "Gregory DeSantis",
      "photoUrl": "https://lh3.googleusercontent.com/a-/AAuE7mCHssn6k_W39SXrih--NHbKlExO1GXsE0Yvse1A6n8=s64",
      "userId": "13988622607574133301"
     },
     "user_tz": 300
    },
    "id": "IpytsDJMX5iT",
    "outputId": "82e26a7f-aa81-4e90-f32e-1741251bffdc"
   },
   "outputs": [
    {
     "name": "stdout",
     "output_type": "stream",
     "text": [
      "-0.960157660824872\n"
     ]
    }
   ],
   "source": [
    "print(calc_correlation(math_score, time_taken_to_run_100m_secs))"
   ]
  }
 ],
 "metadata": {
  "colab": {
   "collapsed_sections": [],
   "name": "Descriptive Statistics.ipynb",
   "provenance": []
  },
  "kernelspec": {
   "display_name": "Python 3",
   "language": "python",
   "name": "python3"
  },
  "language_info": {
   "codemirror_mode": {
    "name": "ipython",
    "version": 3
   },
   "file_extension": ".py",
   "mimetype": "text/x-python",
   "name": "python",
   "nbconvert_exporter": "python",
   "pygments_lexer": "ipython3",
   "version": "3.7.4"
  }
 },
 "nbformat": 4,
 "nbformat_minor": 1
}
