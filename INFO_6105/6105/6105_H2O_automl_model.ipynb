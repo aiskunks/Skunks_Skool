{
 "cells": [
  {
   "cell_type": "markdown",
   "metadata": {},
   "source": [
    "## Starting H2O server"
   ]
  },
  {
   "cell_type": "code",
   "execution_count": 88,
   "metadata": {
    "collapsed": true
   },
   "outputs": [],
   "source": [
    "# import h2o package and specific estimator \n",
    "import h2o\n",
    "from h2o.automl import H2OAutoML"
   ]
  },
  {
   "cell_type": "markdown",
   "metadata": {},
   "source": [
    "h2o.init with python seems very sensitive the the H2O version.  If the H2O cluster version is 3.20.0.1 and the python h2o library is 3.19.0 it will fail so we set strict_version_check=False\n",
    "\n",
    "If the H2O cluster isn't found h2o.init will start one.\n",
    "\n",
    "Note that the current script starts each H2O instance on a different port.  It's not clear why but should we do this we should choose from only the higher ports.\n",
    "\n",
    "A port number is a 16-bit unsigned integer, thus ranging from 0 to 65535.  There is no reason to choose a port less than 10000.  \n"
   ]
  },
  {
   "cell_type": "code",
   "execution_count": 89,
   "metadata": {
    "scrolled": true
   },
   "outputs": [
    {
     "name": "stdout",
     "output_type": "stream",
     "text": [
      "Checking whether there is an H2O instance running at http://localhost:54321..... not found.\n",
      "Attempting to start a local H2O server...\n",
      "  Java Version: openjdk version \"1.8.0_121\"; OpenJDK Runtime Environment (Zulu 8.20.0.5-macosx) (build 1.8.0_121-b15); OpenJDK 64-Bit Server VM (Zulu 8.20.0.5-macosx) (build 25.121-b15, mixed mode)\n",
      "  Starting server from /Users/bear/anaconda/lib/python3.6/site-packages/h2o/backend/bin/h2o.jar\n",
      "  Ice root: /var/folders/lh/42j8mfjx069d1bkc2wlf2pw40000gn/T/tmpv6o42qbs\n",
      "  JVM stdout: /var/folders/lh/42j8mfjx069d1bkc2wlf2pw40000gn/T/tmpv6o42qbs/h2o_bear_started_from_python.out\n",
      "  JVM stderr: /var/folders/lh/42j8mfjx069d1bkc2wlf2pw40000gn/T/tmpv6o42qbs/h2o_bear_started_from_python.err\n",
      "  Server is running at http://127.0.0.1:54321\n",
      "Connecting to H2O server at http://127.0.0.1:54321... successful.\n"
     ]
    },
    {
     "data": {
      "text/html": [
       "<div style=\"overflow:auto\"><table style=\"width:50%\"><tr><td>H2O cluster uptime:</td>\n",
       "<td>01 secs</td></tr>\n",
       "<tr><td>H2O cluster timezone:</td>\n",
       "<td>America/New_York</td></tr>\n",
       "<tr><td>H2O data parsing timezone:</td>\n",
       "<td>UTC</td></tr>\n",
       "<tr><td>H2O cluster version:</td>\n",
       "<td>3.22.0.2</td></tr>\n",
       "<tr><td>H2O cluster version age:</td>\n",
       "<td>25 days </td></tr>\n",
       "<tr><td>H2O cluster name:</td>\n",
       "<td>H2O_from_python_bear_ii254t</td></tr>\n",
       "<tr><td>H2O cluster total nodes:</td>\n",
       "<td>1</td></tr>\n",
       "<tr><td>H2O cluster free memory:</td>\n",
       "<td>3.556 Gb</td></tr>\n",
       "<tr><td>H2O cluster total cores:</td>\n",
       "<td>8</td></tr>\n",
       "<tr><td>H2O cluster allowed cores:</td>\n",
       "<td>8</td></tr>\n",
       "<tr><td>H2O cluster status:</td>\n",
       "<td>accepting new members, healthy</td></tr>\n",
       "<tr><td>H2O connection url:</td>\n",
       "<td>http://127.0.0.1:54321</td></tr>\n",
       "<tr><td>H2O connection proxy:</td>\n",
       "<td>None</td></tr>\n",
       "<tr><td>H2O internal security:</td>\n",
       "<td>False</td></tr>\n",
       "<tr><td>H2O API Extensions:</td>\n",
       "<td>XGBoost, Algos, AutoML, Core V3, Core V4</td></tr>\n",
       "<tr><td>Python version:</td>\n",
       "<td>3.6.5 final</td></tr></table></div>"
      ],
      "text/plain": [
       "--------------------------  ----------------------------------------\n",
       "H2O cluster uptime:         01 secs\n",
       "H2O cluster timezone:       America/New_York\n",
       "H2O data parsing timezone:  UTC\n",
       "H2O cluster version:        3.22.0.2\n",
       "H2O cluster version age:    25 days\n",
       "H2O cluster name:           H2O_from_python_bear_ii254t\n",
       "H2O cluster total nodes:    1\n",
       "H2O cluster free memory:    3.556 Gb\n",
       "H2O cluster total cores:    8\n",
       "H2O cluster allowed cores:  8\n",
       "H2O cluster status:         accepting new members, healthy\n",
       "H2O connection url:         http://127.0.0.1:54321\n",
       "H2O connection proxy:\n",
       "H2O internal security:      False\n",
       "H2O API Extensions:         XGBoost, Algos, AutoML, Core V3, Core V4\n",
       "Python version:             3.6.5 final\n",
       "--------------------------  ----------------------------------------"
      ]
     },
     "metadata": {},
     "output_type": "display_data"
    }
   ],
   "source": [
    "h2o.init(strict_version_check=False) # start h2o"
   ]
  },
  {
   "cell_type": "code",
   "execution_count": 90,
   "metadata": {
    "collapsed": true
   },
   "outputs": [],
   "source": [
    "# Assume the following are passed by the user from the web interface\n",
    "\n",
    "'''\n",
    "Need a user id and project id?\n",
    "\n",
    "'''\n",
    "target='Converted to Opp'\n",
    "data_file='XLSX/Vizadata+Lead+Object+Training+Data.csv'\n",
    "run_time=222\n",
    "run_id='Test' # Just some arbitrary ID\n",
    "server_path='/Users/bear/Downloads/code/'\n",
    "classification=True\n",
    "scale=False\n",
    "max_models=None\n",
    "balance_y=False # balance_classes=balance_y\n",
    "balance_threshold=0.2\n",
    "project =\"automl_test\"  # project_name = project"
   ]
  },
  {
   "cell_type": "code",
   "execution_count": 91,
   "metadata": {},
   "outputs": [
    {
     "data": {
      "text/plain": [
       "'/Users/bear/Downloads/code/XLSX/Vizadata+Lead+Object+Training+Data.csv'"
      ]
     },
     "execution_count": 91,
     "metadata": {},
     "output_type": "execute_result"
    }
   ],
   "source": [
    "# Use local data file or download from some type of bucket\n",
    "import os\n",
    "\n",
    "data_path=os.path.join(server_path,data_file)\n",
    "data_path"
   ]
  },
  {
   "cell_type": "code",
   "execution_count": 92,
   "metadata": {},
   "outputs": [
    {
     "data": {
      "text/plain": [
       "'/Users/bear/Downloads/code/XLSX/Vizadata+Lead+Object+Production+Data+v3.csv'"
      ]
     },
     "execution_count": 92,
     "metadata": {},
     "output_type": "execute_result"
    }
   ],
   "source": [
    "prod_file='XLSX/Vizadata+Lead+Object+Production+Data+v3.csv'\n",
    "prod_path=os.path.join(server_path,prod_file)\n",
    "prod_path"
   ]
  },
  {
   "cell_type": "code",
   "execution_count": 93,
   "metadata": {},
   "outputs": [
    {
     "name": "stdout",
     "output_type": "stream",
     "text": [
      "Parse progress: |█████████████████████████████████████████████████████████| 100%\n"
     ]
    }
   ],
   "source": [
    "\n",
    "# Load data into H2O\n",
    "df = h2o.import_file(data_path)"
   ]
  },
  {
   "cell_type": "code",
   "execution_count": 94,
   "metadata": {},
   "outputs": [
    {
     "name": "stdout",
     "output_type": "stream",
     "text": [
      "Rows:235138\n",
      "Cols:158\n",
      "\n",
      "\n"
     ]
    },
    {
     "data": {
      "text/html": [
       "<table>\n",
       "<thead>\n",
       "<tr><th>       </th><th>﻿Id               </th><th>Actively_being_sequenced__c  </th><th>Activity_Count__c  </th><th>Activity_First__c  </th><th>Activity_Next__c  </th><th>Activity_SLA__c  </th><th>Activity_Sales_Post_BDR__c  </th><th>Activity_Sales_Post_SRL__c  </th><th>Activity_Status__c            </th><th>Age_Converted__c  </th><th>Age_QUAL_to_SRL__c  </th><th>Age_SAL_Days__c   </th><th>Age_Sales_Ready_No_Act__c  </th><th>Age_Sales_Ready__c  </th><th>Alt_Contact_Info__c  </th><th>AnnualRevenue    </th><th>Apple_Source__c  </th><th>Approved_Date__c  </th><th>Approved_Deal_Registration__c  </th><th>Apps_Content__c  </th><th>BDR_Activity__c  </th><th>BYO_Interest__c  </th><th>City         </th><th>CleanStatus  </th><th>Company                           </th><th>Contact_URL__c  </th><th>ConvertedDate     </th><th>Country      </th><th>CreatedDate   </th><th>Created_Year__c  </th><th>CurrencyIsoCode  </th><th>DSCORGPKG__DiscoverOrg_Created_On__c  </th><th>DSCORGPKG__Email_Invalid__c  </th><th>DSCORGPKG__External_DiscoverOrg_Id__c  </th><th>DSCORGPKG__department__c  </th><th>Date_Time_MQL__c  </th><th>Date_Time_SAL__c  </th><th>Date_Time_SRLYear__c  </th><th>Date_Time_SRL_Week__c  </th><th>Date_Time_SRL__c  </th><th>Date_Time_SRejectedL__c  </th><th>Disqualification_Reason_del__c  </th><th>Domain__c         </th><th>Email                           </th><th>EmailBouncedDate  </th><th>EmailBouncedReason       </th><th>FirstName  </th><th>GCLID__c  </th><th>Goals__c  </th><th>Industry                            </th><th>IsConverted  </th><th>IsDeleted  </th><th>IsUnreadByOwner  </th><th>Is_Budget_Available__c  </th><th>Jigsaw            </th><th>LATAM_EDU__c  </th><th>LastActivityDate   </th><th>LastModifiedDate  </th><th>LastName  </th><th>LastReferencedDate  </th><th>LastViewedDate  </th><th>Last_Activity_Date__c  </th><th>LeadSource  </th><th>Lead_Bucket__c  </th><th>Lead_Disqualification_Comments__c  </th><th>Lead_Notes__c  </th><th>Lead_Source_Detail__c  </th><th>MSP_Interest__c  </th><th>Marketing_Suspended__c  </th><th>MobilePhone  </th><th>Name             </th><th>No_of_Employees__c  </th><th>NumberOfEmployees  </th><th>Number_of_active_sequences__c  </th><th>Opted_Out__c  </th><th>Outreach_Caution__c  </th><th>Outreach_Stage__c       </th><th>PRO6senseUpdatedDate__c  </th><th>PROaccountBuyingStage6sense__c  </th><th>PROaccountIntentScore6sense__c  </th><th>PROaccountProfileFit6sense__c  </th><th>PROcontactGrade6sense__c  </th><th>PROcontactIntentScore6sense__c  </th><th>PROcontactProfileFit6sense__c  </th><th>PROtranslatedcontactrank__c  </th><th>Partner_Account__c  </th><th>Pipeline_Bucket__c  </th><th>PostalCode        </th><th>Potential_Account_Match_Customer_Status__c  </th><th>Potential_Account_Territory__c  </th><th>Preferred_Language__c  </th><th>Region__c  </th><th>Reseller_Company_Name__c  </th><th>Reseller_Company__c  </th><th>Reseller_Contact_Email__c  </th><th>Reseller_Contact_Name__c  </th><th>Reseller_Contact_Phone__c  </th><th>Reseller_Interest__c  </th><th>Role_Within_Company__c  </th><th>SLA_Start__c  </th><th>Sales_Marketing__c  </th><th>Sales_Outreach_Suspended__c  </th><th>Salutation  </th><th>Solution_Requested__c  </th><th>State  </th><th>Status         </th><th>Status_Group__c  </th><th>Status_QUAL__c  </th><th>Status_SAL__c  </th><th>Status_SRL__c  </th><th>Strategic__c  </th><th>SystemModstamp  </th><th>Territory_16__c           </th><th>Territory_EVG__c  </th><th>Territory_GEO_VERT__c  </th><th>Territory_Geo2__c  </th><th>Territory_Geo__c  </th><th>Territory_Renewal_ISS__c  </th><th>Territory_Segment__c  </th><th>Timeframe__c  </th><th>Title                                          </th><th>Type_of_Organization__c  </th><th>Vertical_Group__c  </th><th>Warm_Handoff__c  </th><th>Website            </th><th>Work_with_reseller__c  </th><th>X6sense_Temp__c  </th><th>ddc_prospector__Sourced_from_Data_com__c  </th><th>mkto71_Acquisition_Date__c  </th><th>mkto71_Acquisition_Program_Id__c  </th><th>mkto71_Acquisition_Program__c  </th><th>mkto71_BInferred_City__c  </th><th>mkto71_Inferred_Company__c  </th><th>mkto71_Inferred_Country__c  </th><th>mkto71_Inferred_Metropolitan_Area__c  </th><th>mkto71_Inferred_Phone_Area_Code__c  </th><th>mkto71_Inferred_Postal_Code__c  </th><th>mkto71_Inferred_State_Region__c  </th><th>mkto71_Lead_Score__c  </th><th>mkto71_Original_Referrer__c  </th><th>mkto71_Original_Search_Engine__c  </th><th>mkto71_Original_Search_Phrase__c  </th><th>mkto71_Original_Source_Info__c  </th><th>mkto71_Original_Source_Type__c  </th><th>rvpe__IsDealRegistration__c  </th><th>rvpe__PartnerLastModifiedDate__c  </th><th>utm_campaign__c  </th><th>utm_content_c__c  </th><th>utm_medium__c  </th><th>utm_source__c  </th><th>utm_term__c  </th><th>Address.city  </th><th>Address.country  </th><th>Address.geocodeAccuracy  </th><th>Address.postalCode  </th><th>Address.state  </th><th>Address.street                 </th><th>Converted to Opp    </th></tr>\n",
       "</thead>\n",
       "<tbody>\n",
       "<tr><td>type   </td><td>string            </td><td>enum                         </td><td>int                </td><td>int                </td><td>time              </td><td>int              </td><td>enum                        </td><td>enum                        </td><td>enum                          </td><td>int               </td><td>int                 </td><td>int               </td><td>int                        </td><td>int                 </td><td>int                  </td><td>int              </td><td>enum             </td><td>int               </td><td>enum                           </td><td>int              </td><td>enum             </td><td>enum             </td><td>enum         </td><td>enum         </td><td>enum                              </td><td>int             </td><td>time              </td><td>enum         </td><td>enum          </td><td>int              </td><td>enum             </td><td>int                                   </td><td>enum                         </td><td>int                                    </td><td>enum                      </td><td>enum              </td><td>enum              </td><td>int                   </td><td>int                    </td><td>enum              </td><td>string                   </td><td>enum                            </td><td>enum              </td><td>string                          </td><td>enum              </td><td>enum                     </td><td>enum       </td><td>string    </td><td>enum      </td><td>enum                                </td><td>enum         </td><td>enum       </td><td>enum             </td><td>enum                    </td><td>int               </td><td>enum          </td><td>time               </td><td>enum              </td><td>enum      </td><td>int                 </td><td>int             </td><td>time                   </td><td>enum        </td><td>enum            </td><td>enum                               </td><td>int            </td><td>enum                   </td><td>enum             </td><td>enum                    </td><td>string       </td><td>string           </td><td>int                 </td><td>int                </td><td>int                            </td><td>enum          </td><td>enum                 </td><td>enum                    </td><td>enum                     </td><td>enum                            </td><td>int                             </td><td>enum                           </td><td>enum                      </td><td>int                             </td><td>enum                           </td><td>int                          </td><td>int                 </td><td>enum                </td><td>int               </td><td>enum                                        </td><td>enum                            </td><td>enum                   </td><td>enum       </td><td>int                       </td><td>enum                 </td><td>enum                       </td><td>enum                      </td><td>enum                       </td><td>enum                  </td><td>enum                    </td><td>int           </td><td>enum                </td><td>enum                         </td><td>enum        </td><td>enum                   </td><td>enum   </td><td>enum           </td><td>enum             </td><td>enum            </td><td>enum           </td><td>enum           </td><td>enum          </td><td>enum            </td><td>enum                      </td><td>enum              </td><td>enum                   </td><td>enum               </td><td>enum              </td><td>enum                      </td><td>enum                  </td><td>int           </td><td>enum                                           </td><td>enum                     </td><td>enum               </td><td>enum             </td><td>enum               </td><td>enum                   </td><td>enum             </td><td>enum                                      </td><td>enum                        </td><td>int                               </td><td>enum                           </td><td>string                    </td><td>enum                        </td><td>enum                        </td><td>enum                                  </td><td>int                                 </td><td>int                             </td><td>enum                             </td><td>int                   </td><td>enum                         </td><td>string                            </td><td>string                            </td><td>enum                            </td><td>enum                            </td><td>enum                         </td><td>string                            </td><td>enum             </td><td>int               </td><td>enum           </td><td>enum           </td><td>enum         </td><td>enum          </td><td>enum             </td><td>enum                     </td><td>int                 </td><td>enum           </td><td>enum                           </td><td>int                 </td></tr>\n",
       "<tr><td>mins   </td><td>NaN               </td><td>                             </td><td>0.0                </td><td>NaN                </td><td>1505952000000.0   </td><td>-466560.0        </td><td>                            </td><td>                            </td><td>                              </td><td>0.0               </td><td>-1782870.0          </td><td>0.0               </td><td>-1320764.0                 </td><td>-540137.0           </td><td>NaN                  </td><td>0.0              </td><td>                 </td><td>NaN               </td><td>                               </td><td>NaN              </td><td>                 </td><td>                 </td><td>             </td><td>             </td><td>                                  </td><td>NaN             </td><td>1514851200000.0   </td><td>             </td><td>              </td><td>2018.0           </td><td>                 </td><td>NaN                                   </td><td>                             </td><td>166.0                                  </td><td>                          </td><td>                  </td><td>                  </td><td>2014.0                </td><td>1.0                    </td><td>                  </td><td>NaN                      </td><td>                                </td><td>                  </td><td>NaN                             </td><td>                  </td><td>                         </td><td>           </td><td>NaN       </td><td>          </td><td>                                    </td><td>             </td><td>           </td><td>                 </td><td>                        </td><td>1001965.0         </td><td>              </td><td>1514851200000.0    </td><td>                  </td><td>          </td><td>NaN                 </td><td>NaN             </td><td>1514851200000.0        </td><td>            </td><td>                </td><td>                                   </td><td>NaN            </td><td>                       </td><td>                 </td><td>                        </td><td>NaN          </td><td>NaN              </td><td>0.0                 </td><td>0.0                </td><td>0.0                            </td><td>              </td><td>                     </td><td>                        </td><td>                         </td><td>                                </td><td>0.0                             </td><td>                               </td><td>                          </td><td>0.0                             </td><td>                               </td><td>NaN                          </td><td>NaN                 </td><td>                    </td><td>0.0               </td><td>                                            </td><td>                                </td><td>                       </td><td>           </td><td>NaN                       </td><td>                     </td><td>                           </td><td>                          </td><td>                           </td><td>                      </td><td>                        </td><td>NaN           </td><td>                    </td><td>                             </td><td>            </td><td>                       </td><td>       </td><td>               </td><td>                 </td><td>                </td><td>               </td><td>               </td><td>              </td><td>                </td><td>                          </td><td>                  </td><td>                       </td><td>                   </td><td>                  </td><td>                          </td><td>                      </td><td>NaN           </td><td>                                               </td><td>                         </td><td>                   </td><td>                 </td><td>                   </td><td>                       </td><td>                 </td><td>                                          </td><td>                            </td><td>1051.0                            </td><td>                               </td><td>NaN                       </td><td>                            </td><td>                            </td><td>                                      </td><td>11.0                                </td><td>1.0                             </td><td>                                 </td><td>-1500.0               </td><td>                             </td><td>NaN                               </td><td>NaN                               </td><td>                                </td><td>                                </td><td>                             </td><td>NaN                               </td><td>                 </td><td>NaN               </td><td>               </td><td>               </td><td>             </td><td>              </td><td>                 </td><td>                         </td><td>0.0                 </td><td>               </td><td>                               </td><td>0.0                 </td></tr>\n",
       "<tr><td>mean   </td><td>NaN               </td><td>                             </td><td>5.377406575660465  </td><td>0.0                </td><td>1531508892131.8677</td><td>74827.10141335422</td><td>                            </td><td>                            </td><td>                              </td><td>45.28314964208612 </td><td>146134.98864774624  </td><td>153.58876646508153</td><td>78096.97921632897          </td><td>20296.90315852205   </td><td>0.0                  </td><td>6405969762.334981</td><td>                 </td><td>0.0               </td><td>                               </td><td>0.0              </td><td>                 </td><td>                 </td><td>             </td><td>             </td><td>                                  </td><td>0.0             </td><td>1531826910214.7483</td><td>             </td><td>              </td><td>2018.0           </td><td>                 </td><td>0.0                                   </td><td>                             </td><td>4704969.067727188                      </td><td>                          </td><td>                  </td><td>                  </td><td>2017.9897943980925    </td><td>25.458954112038132     </td><td>                  </td><td>NaN                      </td><td>                                </td><td>                  </td><td>NaN                             </td><td>                  </td><td>                         </td><td>           </td><td>NaN       </td><td>          </td><td>                                    </td><td>             </td><td>           </td><td>                 </td><td>                        </td><td>61932698.61019346 </td><td>              </td><td>1536818357594.707  </td><td>                  </td><td>          </td><td>0.0                 </td><td>0.0             </td><td>1536818357594.707      </td><td>            </td><td>                </td><td>                                   </td><td>0.0            </td><td>                       </td><td>                 </td><td>                        </td><td>NaN          </td><td>NaN              </td><td>28858.963519295055  </td><td>23068.0925890386   </td><td>0.3310884067398818             </td><td>              </td><td>                     </td><td>                        </td><td>                         </td><td>                                </td><td>55.08655264821896               </td><td>                               </td><td>                          </td><td>40.383579594234334              </td><td>                               </td><td>0.0                          </td><td>0.0                 </td><td>                    </td><td>83223.9912841495  </td><td>                                            </td><td>                                </td><td>                       </td><td>           </td><td>0.0                       </td><td>                     </td><td>                           </td><td>                          </td><td>                           </td><td>                      </td><td>                        </td><td>0.0           </td><td>                    </td><td>                             </td><td>            </td><td>                       </td><td>       </td><td>               </td><td>                 </td><td>                </td><td>               </td><td>               </td><td>              </td><td>                </td><td>                          </td><td>                  </td><td>                       </td><td>                   </td><td>                  </td><td>                          </td><td>                      </td><td>0.0           </td><td>                                               </td><td>                         </td><td>                   </td><td>                 </td><td>                   </td><td>                       </td><td>                 </td><td>                                          </td><td>                            </td><td>3522.3708599790016                </td><td>                               </td><td>NaN                       </td><td>                            </td><td>                            </td><td>                                      </td><td>629.1729823429815                   </td><td>42138.02931775597               </td><td>                                 </td><td>262.8120382818427     </td><td>                             </td><td>NaN                               </td><td>NaN                               </td><td>                                </td><td>                                </td><td>                             </td><td>NaN                               </td><td>                 </td><td>0.0               </td><td>               </td><td>               </td><td>             </td><td>              </td><td>                 </td><td>                         </td><td>83223.9912841495    </td><td>               </td><td>                               </td><td>0.016590257635941446</td></tr>\n",
       "<tr><td>maxs   </td><td>NaN               </td><td>                             </td><td>196.0              </td><td>NaN                </td><td>1564617600000.0   </td><td>478567.0         </td><td>                            </td><td>                            </td><td>                              </td><td>318.0             </td><td>2156702.0           </td><td>1624.0            </td><td>1892359.0                  </td><td>1603869.0           </td><td>NaN                  </td><td>12300000000000.0 </td><td>                 </td><td>NaN               </td><td>                               </td><td>NaN              </td><td>                 </td><td>                 </td><td>             </td><td>             </td><td>                                  </td><td>NaN             </td><td>1543449600000.0   </td><td>             </td><td>              </td><td>2018.0           </td><td>                 </td><td>NaN                                   </td><td>                             </td><td>9815421.0                              </td><td>                          </td><td>                  </td><td>                  </td><td>2018.0                </td><td>52.0                   </td><td>                  </td><td>NaN                      </td><td>                                </td><td>                  </td><td>NaN                             </td><td>                  </td><td>                         </td><td>           </td><td>NaN       </td><td>          </td><td>                                    </td><td>             </td><td>           </td><td>                 </td><td>                        </td><td>92191457.0        </td><td>              </td><td>1543881600000.0    </td><td>                  </td><td>          </td><td>NaN                 </td><td>NaN             </td><td>1543881600000.0        </td><td>            </td><td>                </td><td>                                   </td><td>NaN            </td><td>                       </td><td>                 </td><td>                        </td><td>NaN          </td><td>NaN              </td><td>2768886.0           </td><td>27300000.0         </td><td>2.0                            </td><td>              </td><td>                     </td><td>                        </td><td>                         </td><td>                                </td><td>100.0                           </td><td>                               </td><td>                          </td><td>99.0                            </td><td>                               </td><td>NaN                          </td><td>NaN                 </td><td>                    </td><td>971033698.0       </td><td>                                            </td><td>                                </td><td>                       </td><td>           </td><td>NaN                       </td><td>                     </td><td>                           </td><td>                          </td><td>                           </td><td>                      </td><td>                        </td><td>NaN           </td><td>                    </td><td>                             </td><td>            </td><td>                       </td><td>       </td><td>               </td><td>                 </td><td>                </td><td>               </td><td>               </td><td>              </td><td>                </td><td>                          </td><td>                  </td><td>                       </td><td>                   </td><td>                  </td><td>                          </td><td>                      </td><td>NaN           </td><td>                                               </td><td>                         </td><td>                   </td><td>                 </td><td>                   </td><td>                       </td><td>                 </td><td>                                          </td><td>                            </td><td>4888.0                            </td><td>                               </td><td>NaN                       </td><td>                            </td><td>                            </td><td>                                      </td><td>989.0                               </td><td>756100.0                        </td><td>                                 </td><td>43945.0               </td><td>                             </td><td>NaN                               </td><td>NaN                               </td><td>                                </td><td>                                </td><td>                             </td><td>NaN                               </td><td>                 </td><td>NaN               </td><td>               </td><td>               </td><td>             </td><td>              </td><td>                 </td><td>                         </td><td>971033698.0         </td><td>               </td><td>                               </td><td>1.0                 </td></tr>\n",
       "<tr><td>sigma  </td><td>NaN               </td><td>                             </td><td>4.1142792960228345 </td><td>-0.0               </td><td>8933400649.444736 </td><td>77477.95561511893</td><td>                            </td><td>                            </td><td>                              </td><td>74.12760526702642 </td><td>158944.47233445526  </td><td>98.58112310362579 </td><td>123916.05867463948         </td><td>74488.70650689947   </td><td>-0.0                 </td><td>85885760121.72269</td><td>                 </td><td>-0.0              </td><td>                               </td><td>-0.0             </td><td>                 </td><td>                 </td><td>             </td><td>             </td><td>                                  </td><td>-0.0            </td><td>8371231225.463949 </td><td>             </td><td>              </td><td>0.0              </td><td>                 </td><td>-0.0                                  </td><td>                             </td><td>2684111.5188120236                     </td><td>                          </td><td>                  </td><td>                  </td><td>0.10904208365019816   </td><td>13.818604821399031     </td><td>                  </td><td>NaN                      </td><td>                                </td><td>                  </td><td>NaN                             </td><td>                  </td><td>                         </td><td>           </td><td>NaN       </td><td>          </td><td>                                    </td><td>             </td><td>           </td><td>                 </td><td>                        </td><td>27041529.922881644</td><td>              </td><td>6641772740.667684  </td><td>                  </td><td>          </td><td>-0.0                </td><td>-0.0            </td><td>6641772740.667684      </td><td>            </td><td>                </td><td>                                   </td><td>-0.0           </td><td>                       </td><td>                 </td><td>                        </td><td>NaN          </td><td>NaN              </td><td>223600.55779523935  </td><td>232768.69380487545 </td><td>0.47087876055430966            </td><td>              </td><td>                     </td><td>                        </td><td>                         </td><td>                                </td><td>26.61534668561007               </td><td>                               </td><td>                          </td><td>29.77604997078658               </td><td>                               </td><td>-0.0                         </td><td>-0.0                </td><td>                    </td><td>4092563.7573513226</td><td>                                            </td><td>                                </td><td>                       </td><td>           </td><td>-0.0                      </td><td>                     </td><td>                           </td><td>                          </td><td>                           </td><td>                      </td><td>                        </td><td>-0.0          </td><td>                    </td><td>                             </td><td>            </td><td>                       </td><td>       </td><td>               </td><td>                 </td><td>                </td><td>               </td><td>               </td><td>              </td><td>                </td><td>                          </td><td>                  </td><td>                       </td><td>                   </td><td>                  </td><td>                          </td><td>                      </td><td>-0.0          </td><td>                                               </td><td>                         </td><td>                   </td><td>                 </td><td>                   </td><td>                       </td><td>                 </td><td>                                          </td><td>                            </td><td>1325.3309682635252                </td><td>                               </td><td>NaN                       </td><td>                            </td><td>                            </td><td>                                      </td><td>188.07640360056595                  </td><td>48355.335167553705              </td><td>                                 </td><td>410.3787247714272     </td><td>                             </td><td>NaN                               </td><td>NaN                               </td><td>                                </td><td>                                </td><td>                             </td><td>NaN                               </td><td>                 </td><td>-0.0              </td><td>               </td><td>               </td><td>             </td><td>              </td><td>                 </td><td>                         </td><td>4092563.7573513226  </td><td>               </td><td>                               </td><td>0.12773053813667928 </td></tr>\n",
       "<tr><td>zeros  </td><td>0                 </td><td>                             </td><td>22                 </td><td>0                  </td><td>0                 </td><td>0                </td><td>                            </td><td>                            </td><td>                              </td><td>1311              </td><td>27                  </td><td>24                </td><td>35                         </td><td>3577                </td><td>0                    </td><td>5799             </td><td>                 </td><td>0                 </td><td>                               </td><td>0                </td><td>                 </td><td>                 </td><td>             </td><td>             </td><td>                                  </td><td>0               </td><td>0                 </td><td>             </td><td>              </td><td>0                </td><td>                 </td><td>0                                     </td><td>                             </td><td>0                                      </td><td>                          </td><td>                  </td><td>                  </td><td>0                     </td><td>0                      </td><td>                  </td><td>0                        </td><td>                                </td><td>                  </td><td>0                               </td><td>                  </td><td>                         </td><td>           </td><td>0         </td><td>          </td><td>                                    </td><td>             </td><td>           </td><td>                 </td><td>                        </td><td>0                 </td><td>              </td><td>0                  </td><td>                  </td><td>          </td><td>0                   </td><td>0               </td><td>0                      </td><td>            </td><td>                </td><td>                                   </td><td>0              </td><td>                       </td><td>                 </td><td>                        </td><td>0            </td><td>0                </td><td>126961              </td><td>3978               </td><td>52452                          </td><td>              </td><td>                     </td><td>                        </td><td>                         </td><td>                                </td><td>9593                            </td><td>                               </td><td>                          </td><td>22168                           </td><td>                               </td><td>0                            </td><td>0                   </td><td>                    </td><td>18                </td><td>                                            </td><td>                                </td><td>                       </td><td>           </td><td>0                         </td><td>                     </td><td>                           </td><td>                          </td><td>                           </td><td>                      </td><td>                        </td><td>0             </td><td>                    </td><td>                             </td><td>            </td><td>                       </td><td>       </td><td>               </td><td>                 </td><td>                </td><td>               </td><td>               </td><td>              </td><td>                </td><td>                          </td><td>                  </td><td>                       </td><td>                   </td><td>                  </td><td>                          </td><td>                      </td><td>0             </td><td>                                               </td><td>                         </td><td>                   </td><td>                 </td><td>                   </td><td>                       </td><td>                 </td><td>                                          </td><td>                            </td><td>0                                 </td><td>                               </td><td>0                         </td><td>                            </td><td>                            </td><td>                                      </td><td>0                                   </td><td>0                               </td><td>                                 </td><td>1889                  </td><td>                             </td><td>0                                 </td><td>0                                 </td><td>                                </td><td>                                </td><td>                             </td><td>0                                 </td><td>                 </td><td>0                 </td><td>               </td><td>               </td><td>             </td><td>              </td><td>                 </td><td>                         </td><td>18                  </td><td>               </td><td>                               </td><td>231237              </td></tr>\n",
       "<tr><td>missing</td><td>0                 </td><td>0                            </td><td>155876             </td><td>235138             </td><td>232863            </td><td>8797             </td><td>155897                      </td><td>155898                      </td><td>0                             </td><td>226337            </td><td>226153              </td><td>223067            </td><td>221714                     </td><td>221714              </td><td>235138               </td><td>40666            </td><td>234513           </td><td>235138            </td><td>0                              </td><td>235138           </td><td>155885           </td><td>0                </td><td>27385        </td><td>0            </td><td>0                                 </td><td>235138          </td><td>226337            </td><td>9250         </td><td>0             </td><td>0                </td><td>0                </td><td>235138                                </td><td>0                            </td><td>165801                                 </td><td>165908                    </td><td>226153            </td><td>223067            </td><td>221714                </td><td>221714                 </td><td>221714            </td><td>234667                   </td><td>229781                          </td><td>5947              </td><td>5947                            </td><td>234092            </td><td>234092                   </td><td>993        </td><td>232271    </td><td>234999    </td><td>8531                                </td><td>0            </td><td>0          </td><td>0                </td><td>0                       </td><td>106310            </td><td>0             </td><td>152620             </td><td>0                 </td><td>0         </td><td>235138              </td><td>235138          </td><td>152620                 </td><td>2973        </td><td>0               </td><td>232045                             </td><td>235138         </td><td>191331                 </td><td>0                </td><td>0                       </td><td>234735       </td><td>0                </td><td>0                   </td><td>37134              </td><td>156739                         </td><td>230116        </td><td>0                    </td><td>162353                  </td><td>155741                   </td><td>168747                          </td><td>168716                          </td><td>168746                         </td><td>168716                    </td><td>168745                          </td><td>168716                         </td><td>235138                       </td><td>235138              </td><td>812                 </td><td>47434             </td><td>0                                           </td><td>128955                          </td><td>52                     </td><td>217140     </td><td>235138                    </td><td>232739               </td><td>232736                     </td><td>232730                    </td><td>233353                     </td><td>0                     </td><td>183267                  </td><td>235138        </td><td>235117              </td><td>0                            </td><td>234862      </td><td>235131                 </td><td>15780  </td><td>0              </td><td>812              </td><td>0               </td><td>0              </td><td>0              </td><td>0             </td><td>0               </td><td>11348                     </td><td>35870             </td><td>111678                 </td><td>0                  </td><td>0                 </td><td>0                         </td><td>11707                 </td><td>235138        </td><td>18403                                          </td><td>4989                     </td><td>5193               </td><td>0                </td><td>32364              </td><td>0                      </td><td>0                </td><td>0                                         </td><td>193232                      </td><td>193230                            </td><td>193230                         </td><td>235111                    </td><td>201846                      </td><td>201761                      </td><td>210334                                </td><td>210332                              </td><td>207919                          </td><td>204340                           </td><td>160011                </td><td>213368                       </td><td>234445                            </td><td>234446                            </td><td>111727                          </td><td>111623                          </td><td>0                            </td><td>235110                            </td><td>233688           </td><td>235138            </td><td>233628         </td><td>233479         </td><td>229769       </td><td>27385         </td><td>9250             </td><td>29933                    </td><td>47434               </td><td>15780          </td><td>27480                          </td><td>0                   </td></tr>\n",
       "<tr><td>0      </td><td>00Q0h00001gIpObEAK</td><td>FALSE                        </td><td>nan                </td><td>nan                </td><td>                  </td><td>55851.0          </td><td>                            </td><td>                            </td><td>No Last Step - No Next Step   </td><td>nan               </td><td>nan                 </td><td>nan               </td><td>nan                        </td><td>nan                 </td><td>nan                  </td><td>35900000.0       </td><td>                 </td><td>nan               </td><td>FALSE                          </td><td>nan              </td><td>                 </td><td>FALSE            </td><td>Asheboro     </td><td>Different    </td><td>Asheboro City School District     </td><td>nan             </td><td>                  </td><td>United States</td><td>7/6/18 23:25  </td><td>2018.0           </td><td>USD              </td><td>nan                                   </td><td>FALSE                        </td><td>nan                                    </td><td>                          </td><td>                  </td><td>                  </td><td>nan                   </td><td>nan                    </td><td>                  </td><td>                         </td><td>                                </td><td>asheboro.k12.nc.us</td><td>aetheridge@asheboro.k12.nc.us   </td><td>                  </td><td>                         </td><td>Angel      </td><td>          </td><td>          </td><td>Education                           </td><td>FALSE        </td><td>FALSE      </td><td>TRUE             </td><td>FALSE                   </td><td>68756676.0        </td><td>FALSE         </td><td>                   </td><td>9/15/18 20:24     </td><td>Etheridge </td><td>nan                 </td><td>nan             </td><td>                       </td><td>6sense      </td><td>FIX             </td><td>                                   </td><td>nan            </td><td>                       </td><td>FALSE            </td><td>FALSE                   </td><td>             </td><td>Angel Etheridge  </td><td>600.0               </td><td>9.0                </td><td>nan                            </td><td>              </td><td>FALSE                </td><td>                        </td><td>7/14/18 14:51            </td><td>Consideration                   </td><td>63.0                            </td><td>Strong                         </td><td>C                         </td><td>56.0                            </td><td>Weak                           </td><td>nan                          </td><td>nan                 </td><td>Marketing Ready     </td><td>27203.0           </td><td>Never Customer                              </td><td>AMED - TAC - Southeast          </td><td>English - US           </td><td>           </td><td>nan                       </td><td>                     </td><td>                           </td><td>                          </td><td>                           </td><td>FALSE                 </td><td>N/A                     </td><td>nan           </td><td>                    </td><td>FALSE                        </td><td>            </td><td>                       </td><td>NC     </td><td>Marketing Ready</td><td>Marketing Ready  </td><td>FALSE           </td><td>FALSE          </td><td>FALSE          </td><td>FALSE         </td><td>9/15/18 20:24   </td><td>AMED - TAC - Southeast    </td><td>                  </td><td>AMER - EDU             </td><td>AMER               </td><td>AMER              </td><td>ISS Renewal-TAC East      </td><td>AMED - TAC            </td><td>nan           </td><td>Secretary for Technology                       </td><td>Education-K12            </td><td>Education          </td><td>FALSE            </td><td>asheboro.k12.nc.us </td><td>FALSE                  </td><td>Warm             </td><td>Other                                     </td><td>                            </td><td>nan                               </td><td>                               </td><td>                          </td><td>                            </td><td>                            </td><td>                                      </td><td>nan                                 </td><td>nan                             </td><td>                                 </td><td>165.0                 </td><td>                             </td><td>                                  </td><td>                                  </td><td>Web service API                 </td><td>Web service API                 </td><td>FALSE                        </td><td>                                  </td><td>                 </td><td>nan               </td><td>               </td><td>               </td><td>             </td><td>Asheboro      </td><td>United States    </td><td>Address                  </td><td>27203.0             </td><td>NC             </td><td>1126 S Park Street             </td><td>0.0                 </td></tr>\n",
       "<tr><td>1      </td><td>00Q0h00001fBpf1EAC</td><td>FALSE                        </td><td>nan                </td><td>nan                </td><td>                  </td><td>76797.0          </td><td>                            </td><td>                            </td><td>No Last Step - No Next Step   </td><td>nan               </td><td>nan                 </td><td>nan               </td><td>nan                        </td><td>nan                 </td><td>nan                  </td><td>39855000000.0    </td><td>                 </td><td>nan               </td><td>FALSE                          </td><td>nan              </td><td>                 </td><td>FALSE            </td><td>Saint Paul   </td><td>Different    </td><td>State of Minnesota                </td><td>nan             </td><td>                  </td><td>United States</td><td>5/15/18 14:58 </td><td>2018.0           </td><td>USD              </td><td>nan                                   </td><td>FALSE                        </td><td>41153.0                                </td><td>IT                        </td><td>                  </td><td>                  </td><td>nan                   </td><td>nan                    </td><td>                  </td><td>                         </td><td>                                </td><td>state.mn.us       </td><td>dan.oehmke@state.mn.us          </td><td>                  </td><td>                         </td><td>Dan        </td><td>          </td><td>          </td><td>Public & Social Administration      </td><td>FALSE        </td><td>FALSE      </td><td>TRUE             </td><td>FALSE                   </td><td>8283785.0         </td><td>FALSE         </td><td>                   </td><td>10/25/18 12:56    </td><td>Oehmke    </td><td>nan                 </td><td>nan             </td><td>                       </td><td>DiscoverOrg </td><td>Sales           </td><td>                                   </td><td>nan            </td><td>                       </td><td>FALSE            </td><td>FALSE                   </td><td>             </td><td>Dan Oehmke       </td><td>0.0                 </td><td>34000.0            </td><td>0.0                            </td><td>              </td><td>TRUE                 </td><td>Added to Sequence       </td><td>                         </td><td>                                </td><td>nan                             </td><td>                               </td><td>                          </td><td>nan                             </td><td>                               </td><td>nan                          </td><td>nan                 </td><td>Marketing Ready     </td><td>55155.0           </td><td>Current Customer                            </td><td>AMED - TAC - North Central      </td><td>English - US           </td><td>           </td><td>nan                       </td><td>                     </td><td>                           </td><td>                          </td><td>                           </td><td>FALSE                 </td><td>                        </td><td>nan           </td><td>                    </td><td>FALSE                        </td><td>            </td><td>                       </td><td>MN     </td><td>Marketing Ready</td><td>Marketing Ready  </td><td>FALSE           </td><td>FALSE          </td><td>FALSE          </td><td>TRUE          </td><td>10/25/18 12:56  </td><td>AMCO - STR - North Central</td><td>AMER - EVG - West </td><td>                       </td><td>AMER               </td><td>AMER              </td><td>Other                     </td><td>AMCO - ESE            </td><td>nan           </td><td>Director, IT Services Excellence               </td><td>Commercial               </td><td>Commercial         </td><td>FALSE            </td><td>www.state.mn.us    </td><td>FALSE                  </td><td>Cold             </td><td>Other                                     </td><td>                            </td><td>nan                               </td><td>                               </td><td>                          </td><td>                            </td><td>                            </td><td>                                      </td><td>nan                                 </td><td>nan                             </td><td>                                 </td><td>nan                   </td><td>                             </td><td>                                  </td><td>                                  </td><td>                                </td><td>                                </td><td>FALSE                        </td><td>                                  </td><td>                 </td><td>nan               </td><td>               </td><td>               </td><td>             </td><td>Saint Paul    </td><td>United States    </td><td>Address                  </td><td>55155.0             </td><td>MN             </td><td>658 Cedar Street               </td><td>0.0                 </td></tr>\n",
       "<tr><td>2      </td><td>00Q0h00001XgLIiEAN</td><td>FALSE                        </td><td>5.0                </td><td>nan                </td><td>                  </td><td>19995.0          </td><td>10/25/18 13:19              </td><td>10/25/18 13:19              </td><td>LS w/in 60 days - No Next Step</td><td>nan               </td><td>nan                 </td><td>nan               </td><td>nan                        </td><td>nan                 </td><td>nan                  </td><td>2827000000.0     </td><td>                 </td><td>nan               </td><td>FALSE                          </td><td>nan              </td><td>Jack Tierney     </td><td>FALSE            </td><td>Fort Smith   </td><td>Different    </td><td>ArcBest                           </td><td>nan             </td><td>                  </td><td>United States</td><td>10/9/18 16:36 </td><td>2018.0           </td><td>USD              </td><td>nan                                   </td><td>FALSE                        </td><td>nan                                    </td><td>                          </td><td>                  </td><td>                  </td><td>nan                   </td><td>nan                    </td><td>                  </td><td>                         </td><td>                                </td><td>arcbtech.com      </td><td>dclanton@arcbtech.com           </td><td>                  </td><td>                         </td><td>Doug       </td><td>          </td><td>          </td><td>Logistics / Transportation          </td><td>FALSE        </td><td>FALSE      </td><td>TRUE             </td><td>FALSE                   </td><td>68756684.0        </td><td>FALSE         </td><td>2018-10-25 00:00:00</td><td>10/25/18 13:20    </td><td>Clanton   </td><td>nan                 </td><td>nan             </td><td>2018-10-25 00:00:00    </td><td>DiscoverOrg </td><td>Sales           </td><td>                                   </td><td>nan            </td><td>                       </td><td>FALSE            </td><td>FALSE                   </td><td>             </td><td>Doug Clanton     </td><td>15000.0             </td><td>13000.0            </td><td>0.0                            </td><td>              </td><td>FALSE                </td><td>Manual - Marked Finished</td><td>                         </td><td>                                </td><td>nan                             </td><td>                               </td><td>                          </td><td>nan                             </td><td>                               </td><td>nan                          </td><td>nan                 </td><td>Marketing Ready     </td><td>72917.0           </td><td>Never Customer                              </td><td>                                </td><td>English - US           </td><td>           </td><td>nan                       </td><td>                     </td><td>                           </td><td>                          </td><td>                           </td><td>FALSE                 </td><td>                        </td><td>nan           </td><td>                    </td><td>FALSE                        </td><td>            </td><td>                       </td><td>AR     </td><td>Marketing Ready</td><td>Marketing Ready  </td><td>FALSE           </td><td>FALSE          </td><td>FALSE          </td><td>TRUE          </td><td>10/25/18 13:20  </td><td>AMCO - STR - North Texas  </td><td>AMER - EVG - West </td><td>                       </td><td>AMER               </td><td>AMER              </td><td>Other                     </td><td>AMCO - ESW            </td><td>nan           </td><td>Network Control & Help Desk Analyst            </td><td>Commercial               </td><td>Commercial         </td><td>FALSE            </td><td>http://www.arcb.com</td><td>FALSE                  </td><td>Cold             </td><td>Other                                     </td><td>                            </td><td>nan                               </td><td>                               </td><td>                          </td><td>                            </td><td>                            </td><td>                                      </td><td>nan                                 </td><td>nan                             </td><td>                                 </td><td>nan                   </td><td>                             </td><td>                                  </td><td>                                  </td><td>Lead                            </td><td>salesforce.com                  </td><td>FALSE                        </td><td>                                  </td><td>                 </td><td>nan               </td><td>               </td><td>               </td><td>             </td><td>Fort Smith    </td><td>United States    </td><td>Zip                      </td><td>72917.0             </td><td>AR             </td><td>P.O. Box 10048                 </td><td>0.0                 </td></tr>\n",
       "<tr><td>3      </td><td>00Q0h00001XfkY3EAJ</td><td>FALSE                        </td><td>8.0                </td><td>nan                </td><td>                  </td><td>26824.0          </td><td>10/17/18 16:48              </td><td>10/17/18 16:48              </td><td>LS w/in 60 days - No Next Step</td><td>nan               </td><td>nan                 </td><td>nan               </td><td>nan                        </td><td>nan                 </td><td>nan                  </td><td>2827000000.0     </td><td>                 </td><td>nan               </td><td>FALSE                          </td><td>nan              </td><td>Graham McCullough</td><td>FALSE            </td><td>Fort Smith   </td><td>Different    </td><td>ArcBest                           </td><td>nan             </td><td>                  </td><td>United States</td><td>9/20/18 19:46 </td><td>2018.0           </td><td>USD              </td><td>nan                                   </td><td>FALSE                        </td><td>nan                                    </td><td>                          </td><td>                  </td><td>                  </td><td>nan                   </td><td>nan                    </td><td>                  </td><td>                         </td><td>                                </td><td>arcbtech.com      </td><td>strickland@arcbtech.com         </td><td>                  </td><td>                         </td><td>Kerry      </td><td>          </td><td>          </td><td>Logistics / Transportation          </td><td>FALSE        </td><td>FALSE      </td><td>TRUE             </td><td>FALSE                   </td><td>68756686.0        </td><td>FALSE         </td><td>2018-10-17 00:00:00</td><td>10/17/18 16:48    </td><td>Strickland</td><td>nan                 </td><td>nan             </td><td>2018-10-17 00:00:00    </td><td>DiscoverOrg </td><td>Sales           </td><td>                                   </td><td>nan            </td><td>                       </td><td>FALSE            </td><td>FALSE                   </td><td>             </td><td>Kerry Strickland </td><td>15000.0             </td><td>13000.0            </td><td>0.0                            </td><td>              </td><td>FALSE                </td><td>Manual - Marked Finished</td><td>                         </td><td>                                </td><td>nan                             </td><td>                               </td><td>                          </td><td>nan                             </td><td>                               </td><td>nan                          </td><td>nan                 </td><td>Marketing Ready     </td><td>72917.0           </td><td>Never Customer                              </td><td>                                </td><td>English - US           </td><td>           </td><td>nan                       </td><td>                     </td><td>                           </td><td>                          </td><td>                           </td><td>FALSE                 </td><td>                        </td><td>nan           </td><td>                    </td><td>FALSE                        </td><td>            </td><td>                       </td><td>AR     </td><td>Marketing Ready</td><td>Marketing Ready  </td><td>FALSE           </td><td>FALSE          </td><td>FALSE          </td><td>TRUE          </td><td>10/17/18 16:48  </td><td>AMCO - STR - North Texas  </td><td>AMER - EVG - West </td><td>                       </td><td>AMER               </td><td>AMER              </td><td>Other                     </td><td>AMCO - ESW            </td><td>nan           </td><td>Technical Administrator (Database Systems)     </td><td>Commercial               </td><td>Commercial         </td><td>FALSE            </td><td>http://www.arcb.com</td><td>FALSE                  </td><td>Cold             </td><td>Other                                     </td><td>                            </td><td>nan                               </td><td>                               </td><td>                          </td><td>                            </td><td>                            </td><td>                                      </td><td>nan                                 </td><td>nan                             </td><td>                                 </td><td>nan                   </td><td>                             </td><td>                                  </td><td>                                  </td><td>                                </td><td>                                </td><td>FALSE                        </td><td>                                  </td><td>                 </td><td>nan               </td><td>               </td><td>               </td><td>             </td><td>Fort Smith    </td><td>United States    </td><td>Zip                      </td><td>72917.0             </td><td>AR             </td><td>P.O. Box 10048                 </td><td>0.0                 </td></tr>\n",
       "<tr><td>4      </td><td>00Q0h00001fAbq6EAC</td><td>FALSE                        </td><td>8.0                </td><td>nan                </td><td>                  </td><td>85652.0          </td><td>10/30/18 15:04              </td><td>10/30/18 15:04              </td><td>LS w/in 30 days - No Next Step</td><td>nan               </td><td>nan                 </td><td>nan               </td><td>nan                        </td><td>nan                 </td><td>nan                  </td><td>200000000.0      </td><td>                 </td><td>nan               </td><td>FALSE                          </td><td>nan              </td><td>Travis Rilea     </td><td>FALSE            </td><td>Tempe        </td><td>Different    </td><td>American Traffic Solutions        </td><td>nan             </td><td>                  </td><td>United States</td><td>4/20/18 20:24 </td><td>2018.0           </td><td>USD              </td><td>nan                                   </td><td>FALSE                        </td><td>5405075.0                              </td><td>IT                        </td><td>                  </td><td>                  </td><td>nan                   </td><td>nan                    </td><td>                  </td><td>                         </td><td>                                </td><td>atsol.com         </td><td>paddy.mcgrory@atsol.com         </td><td>                  </td><td>                         </td><td>Paddy      </td><td>          </td><td>          </td><td>Information & Communication         </td><td>FALSE        </td><td>FALSE      </td><td>TRUE             </td><td>FALSE                   </td><td>82837902.0        </td><td>FALSE         </td><td>2018-10-30 00:00:00</td><td>10/30/18 15:04    </td><td>Mcgrory   </td><td>nan                 </td><td>nan             </td><td>2018-10-30 00:00:00    </td><td>DiscoverOrg </td><td>Sales           </td><td>                                   </td><td>nan            </td><td>                       </td><td>FALSE            </td><td>FALSE                   </td><td>             </td><td>Paddy Mcgrory    </td><td>50038.0             </td><td>600.0              </td><td>0.0                            </td><td>              </td><td>FALSE                </td><td>Manual - Marked Finished</td><td>                         </td><td>                                </td><td>nan                             </td><td>                               </td><td>                          </td><td>nan                             </td><td>                               </td><td>nan                          </td><td>nan                 </td><td>Marketing Ready     </td><td>85282.0           </td><td>Never Customer                              </td><td>                                </td><td>English - US           </td><td>           </td><td>nan                       </td><td>                     </td><td>                           </td><td>                          </td><td>                           </td><td>FALSE                 </td><td>                        </td><td>nan           </td><td>                    </td><td>FALSE                        </td><td>            </td><td>                       </td><td>AZ     </td><td>Marketing Ready</td><td>Marketing Ready  </td><td>FALSE           </td><td>FALSE          </td><td>FALSE          </td><td>FALSE         </td><td>10/30/18 15:04  </td><td>AMCO - TAC - UNZ          </td><td>AMER - EVG - West </td><td>                       </td><td>AMER               </td><td>AMER              </td><td>Other                     </td><td>AMCO - NL             </td><td>nan           </td><td>Network Engineer                               </td><td>Commercial               </td><td>Commercial         </td><td>FALSE            </td><td>www.atsol.com      </td><td>FALSE                  </td><td>Cold             </td><td>Other                                     </td><td>                            </td><td>nan                               </td><td>                               </td><td>                          </td><td>                            </td><td>                            </td><td>                                      </td><td>nan                                 </td><td>nan                             </td><td>                                 </td><td>nan                   </td><td>                             </td><td>                                  </td><td>                                  </td><td>                                </td><td>                                </td><td>FALSE                        </td><td>                                  </td><td>                 </td><td>nan               </td><td>               </td><td>               </td><td>             </td><td>Tempe         </td><td>United States    </td><td>Address                  </td><td>85282.0             </td><td>AZ             </td><td>1330 W Southern Avenue         </td><td>0.0                 </td></tr>\n",
       "<tr><td>5      </td><td>00Q0h00001fLFEMEA4</td><td>FALSE                        </td><td>6.0                </td><td>nan                </td><td>                  </td><td>112757.0         </td><td>3/13/18 16:38               </td><td>3/13/18 16:38               </td><td>LS w/in 60 days - No Next Step</td><td>nan               </td><td>nan                 </td><td>nan               </td><td>nan                        </td><td>nan                 </td><td>nan                  </td><td>61.0             </td><td>                 </td><td>nan               </td><td>FALSE                          </td><td>nan              </td><td>Kayla Norquist   </td><td>FALSE            </td><td>San Francisco</td><td>NotFound     </td><td>Morrison & Foerster LLP           </td><td>nan             </td><td>                  </td><td>United States</td><td>2/9/18 18:52  </td><td>2018.0           </td><td>USD              </td><td>nan                                   </td><td>FALSE                        </td><td>nan                                    </td><td>                          </td><td>                  </td><td>                  </td><td>nan                   </td><td>nan                    </td><td>                  </td><td>                         </td><td>                                </td><td>mofo.com          </td><td>jmckenna@mofo.com               </td><td>10/18/18 18:33    </td><td>The recipient is invalid.</td><td>James      </td><td>          </td><td>          </td><td>Professional Services               </td><td>FALSE        </td><td>FALSE      </td><td>TRUE             </td><td>FALSE                   </td><td>nan               </td><td>FALSE         </td><td>2018-10-18 00:00:00</td><td>9/17/18 16:27     </td><td>McKenna   </td><td>nan                 </td><td>nan             </td><td>2018-10-18 00:00:00    </td><td>6sense      </td><td>FIX             </td><td>                                   </td><td>nan            </td><td>                       </td><td>FALSE            </td><td>FALSE                   </td><td>             </td><td>James McKenna    </td><td>0.0                 </td><td>4999.0             </td><td>0.0                            </td><td>FALSE         </td><td>FALSE                </td><td>Manual - Marked Finished</td><td>2/10/18 16:43            </td><td>Consideration                   </td><td>66.0                            </td><td>Strong                         </td><td>C                         </td><td>59.0                            </td><td>Weak                           </td><td>nan                          </td><td>nan                 </td><td>Marketing Ready     </td><td>94105.0           </td><td>Never Customer                              </td><td>AMCO - STR - NorCal             </td><td>English - US           </td><td>           </td><td>nan                       </td><td>                     </td><td>                           </td><td>                          </td><td>                           </td><td>FALSE                 </td><td>N/A                     </td><td>nan           </td><td>                    </td><td>FALSE                        </td><td>            </td><td>                       </td><td>CA     </td><td>Marketing Ready</td><td>Marketing Ready  </td><td>FALSE           </td><td>FALSE          </td><td>FALSE          </td><td>TRUE          </td><td>10/18/18 18:33  </td><td>AMCO - STR - NorCal       </td><td>AMER - EVG - West </td><td>AMER - COM             </td><td>AMER               </td><td>AMER              </td><td>ISS Renewal-ENT/STR       </td><td>AMCO - ESW            </td><td>nan           </td><td>Director, Infrastructure & Information Security</td><td>Commercial               </td><td>Commercial         </td><td>FALSE            </td><td>mofo.com           </td><td>FALSE                  </td><td>Warm             </td><td>Other                                     </td><td>                            </td><td>nan                               </td><td>                               </td><td>                          </td><td>                            </td><td>                            </td><td>                                      </td><td>nan                                 </td><td>nan                             </td><td>                                 </td><td>165.0                 </td><td>                             </td><td>                                  </td><td>                                  </td><td>Web service API                 </td><td>Web service API                 </td><td>FALSE                        </td><td>                                  </td><td>                 </td><td>nan               </td><td>               </td><td>               </td><td>             </td><td>San Francisco </td><td>United States    </td><td>Address                  </td><td>94105.0             </td><td>CA             </td><td>425 Market Street              </td><td>0.0                 </td></tr>\n",
       "<tr><td>6      </td><td>00Q0h00001fLFEQEA4</td><td>TRUE                         </td><td>5.0                </td><td>nan                </td><td>                  </td><td>112758.0         </td><td>11/28/18 15:34              </td><td>11/28/18 15:34              </td><td>LS w/in 7 days - No Next Step </td><td>nan               </td><td>nan                 </td><td>nan               </td><td>nan                        </td><td>nan                 </td><td>nan                  </td><td>54.0             </td><td>                 </td><td>nan               </td><td>FALSE                          </td><td>nan              </td><td>Patrick Ubel     </td><td>FALSE            </td><td>Cincinnati   </td><td>NotFound     </td><td>LSI Industries                    </td><td>nan             </td><td>                  </td><td>United States</td><td>2/9/18 18:51  </td><td>2018.0           </td><td>USD              </td><td>nan                                   </td><td>FALSE                        </td><td>nan                                    </td><td>                          </td><td>                  </td><td>                  </td><td>nan                   </td><td>nan                    </td><td>                  </td><td>                         </td><td>                                </td><td>lsi-industries.com</td><td>andy.foerster@lsi-industries.com</td><td>                  </td><td>                         </td><td>Andy       </td><td>          </td><td>          </td><td>Manufacturing                       </td><td>FALSE        </td><td>FALSE      </td><td>TRUE             </td><td>FALSE                   </td><td>nan               </td><td>FALSE         </td><td>2018-11-28 00:00:00</td><td>11/28/18 15:34    </td><td>Foerster  </td><td>nan                 </td><td>nan             </td><td>2018-11-28 00:00:00    </td><td>6sense      </td><td>FIX             </td><td>                                   </td><td>nan            </td><td>                       </td><td>FALSE            </td><td>FALSE                   </td><td>             </td><td>Andy Foerster    </td><td>0.0                 </td><td>1929.0             </td><td>1.0                            </td><td>              </td><td>FALSE                </td><td>Working                 </td><td>2/10/18 16:43            </td><td>Consideration                   </td><td>65.0                            </td><td>Moderate                       </td><td>C                         </td><td>59.0                            </td><td>Weak                           </td><td>nan                          </td><td>nan                 </td><td>Marketing Ready     </td><td>45242.0           </td><td>Never Customer                              </td><td>                                </td><td>English - US           </td><td>           </td><td>nan                       </td><td>                     </td><td>                           </td><td>                          </td><td>                           </td><td>FALSE                 </td><td>N/A                     </td><td>nan           </td><td>                    </td><td>FALSE                        </td><td>            </td><td>                       </td><td>OH     </td><td>Marketing Ready</td><td>Marketing Ready  </td><td>FALSE           </td><td>FALSE          </td><td>FALSE          </td><td>FALSE         </td><td>11/28/18 15:34  </td><td>AMCO - TAC - Northeast    </td><td>AMER - EVG - East </td><td>AMER - COM             </td><td>AMER               </td><td>AMER              </td><td>ISS Renewal-TAC East      </td><td>AMCO - NL             </td><td>nan           </td><td>Executive VP & Chief Technology Officer        </td><td>Commercial               </td><td>Commercial         </td><td>FALSE            </td><td>lsi-industries.com </td><td>FALSE                  </td><td>Warm             </td><td>Other                                     </td><td>                            </td><td>nan                               </td><td>                               </td><td>                          </td><td>                            </td><td>                            </td><td>                                      </td><td>nan                                 </td><td>nan                             </td><td>                                 </td><td>165.0                 </td><td>                             </td><td>                                  </td><td>                                  </td><td>Web service API                 </td><td>Web service API                 </td><td>FALSE                        </td><td>                                  </td><td>                 </td><td>nan               </td><td>               </td><td>               </td><td>             </td><td>Cincinnati    </td><td>United States    </td><td>Address                  </td><td>45242.0             </td><td>OH             </td><td>10000 Alliance Road            </td><td>0.0                 </td></tr>\n",
       "<tr><td>7      </td><td>00Q0h00001fBl78EAC</td><td>FALSE                        </td><td>nan                </td><td>nan                </td><td>                  </td><td>77392.0          </td><td>                            </td><td>                            </td><td>No Last Step - No Next Step   </td><td>nan               </td><td>nan                 </td><td>nan               </td><td>nan                        </td><td>nan                 </td><td>nan                  </td><td>51000000.0       </td><td>                 </td><td>nan               </td><td>FALSE                          </td><td>nan              </td><td>                 </td><td>FALSE            </td><td>San Francisco</td><td>Inactive     </td><td>10x Genomics                      </td><td>nan             </td><td>                  </td><td>United States</td><td>5/14/18 14:10 </td><td>2018.0           </td><td>USD              </td><td>nan                                   </td><td>FALSE                        </td><td>8184081.0                              </td><td>TEDD                      </td><td>                  </td><td>                  </td><td>nan                   </td><td>nan                    </td><td>                  </td><td>                         </td><td>                                </td><td>10xgenomics.com   </td><td>david.lin@10xgenomics.com       </td><td>                  </td><td>                         </td><td>David      </td><td>          </td><td>          </td><td>Information & Communication         </td><td>FALSE        </td><td>FALSE      </td><td>TRUE             </td><td>FALSE                   </td><td>90373310.0        </td><td>FALSE         </td><td>                   </td><td>10/8/18 15:24     </td><td>Lin       </td><td>nan                 </td><td>nan             </td><td>                       </td><td>DiscoverOrg </td><td>Sales           </td><td>                                   </td><td>nan            </td><td>                       </td><td>FALSE            </td><td>FALSE                   </td><td>             </td><td>David Lin        </td><td>14.0                </td><td>135.0              </td><td>nan                            </td><td>              </td><td>FALSE                </td><td>                        </td><td>                         </td><td>                                </td><td>nan                             </td><td>                               </td><td>                          </td><td>nan                             </td><td>                               </td><td>nan                          </td><td>nan                 </td><td>Marketing Ready     </td><td>94105.0           </td><td>Never Customer                              </td><td>                                </td><td>English - US           </td><td>           </td><td>nan                       </td><td>                     </td><td>                           </td><td>                          </td><td>                           </td><td>FALSE                 </td><td>                        </td><td>nan           </td><td>                    </td><td>FALSE                        </td><td>            </td><td>                       </td><td>CA     </td><td>Marketing Ready</td><td>Marketing Ready  </td><td>FALSE           </td><td>FALSE          </td><td>FALSE          </td><td>FALSE         </td><td>10/8/18 15:24   </td><td>AMCO - TAC - San Fran     </td><td>AMER - EVG - West </td><td>                       </td><td>AMER               </td><td>AMER              </td><td>Other                     </td><td>AMCO - NL             </td><td>nan           </td><td>Head of Software Field Operations              </td><td>Commercial               </td><td>Commercial         </td><td>FALSE            </td><td>www.10xgenomics.com</td><td>FALSE                  </td><td>Cold             </td><td>Other                                     </td><td>                            </td><td>nan                               </td><td>                               </td><td>                          </td><td>                            </td><td>                            </td><td>                                      </td><td>nan                                 </td><td>nan                             </td><td>                                 </td><td>nan                   </td><td>                             </td><td>                                  </td><td>                                  </td><td>                                </td><td>                                </td><td>FALSE                        </td><td>                                  </td><td>                 </td><td>nan               </td><td>               </td><td>               </td><td>             </td><td>San Francisco </td><td>United States    </td><td>Address                  </td><td>94105.0             </td><td>CA             </td><td>160 Spear Street               </td><td>0.0                 </td></tr>\n",
       "<tr><td>8      </td><td>00Q0h00001fChxdEAC</td><td>FALSE                        </td><td>nan                </td><td>nan                </td><td>                  </td><td>67905.0          </td><td>                            </td><td>                            </td><td>No Last Step - No Next Step   </td><td>nan               </td><td>nan                 </td><td>nan               </td><td>nan                        </td><td>nan                 </td><td>nan                  </td><td>20970000000.0    </td><td>                 </td><td>nan               </td><td>FALSE                          </td><td>nan              </td><td>                 </td><td>FALSE            </td><td>Detroit      </td><td>Different    </td><td>Blue Cross Blue Shield of Michigan</td><td>nan             </td><td>                  </td><td>United States</td><td>6/6/18 18:52  </td><td>2018.0           </td><td>USD              </td><td>nan                                   </td><td>FALSE                        </td><td>8260071.0                              </td><td>IT                        </td><td>                  </td><td>                  </td><td>nan                   </td><td>nan                    </td><td>                  </td><td>                         </td><td>                                </td><td>bcbsm.com         </td><td>gmolakaluri@bcbsm.com           </td><td>                  </td><td>                         </td><td>Gopala     </td><td>          </td><td>          </td><td>Financial Services & Insurance (FSI)</td><td>FALSE        </td><td>FALSE      </td><td>TRUE             </td><td>FALSE                   </td><td>10001122.0        </td><td>FALSE         </td><td>                   </td><td>9/17/18 15:32     </td><td>Molakaluri</td><td>nan                 </td><td>nan             </td><td>                       </td><td>DiscoverOrg </td><td>Sales           </td><td>                                   </td><td>nan            </td><td>                       </td><td>FALSE            </td><td>FALSE                   </td><td>             </td><td>Gopala Molakaluri</td><td>8546.0              </td><td>5000.0             </td><td>nan                            </td><td>              </td><td>FALSE                </td><td>                        </td><td>6/8/18 23:19             </td><td>Consideration                   </td><td>59.0                            </td><td>Weak                           </td><td>D                         </td><td>0.0                             </td><td>Moderate                       </td><td>nan                          </td><td>nan                 </td><td>Marketing Ready     </td><td>48226.0           </td><td>Never Customer                              </td><td>AMCO - STR - South Central      </td><td>English - US           </td><td>           </td><td>nan                       </td><td>                     </td><td>                           </td><td>                          </td><td>                           </td><td>FALSE                 </td><td>                        </td><td>nan           </td><td>                    </td><td>FALSE                        </td><td>            </td><td>                       </td><td>MI     </td><td>Marketing Ready</td><td>Marketing Ready  </td><td>FALSE           </td><td>FALSE          </td><td>FALSE          </td><td>TRUE          </td><td>9/17/18 15:32   </td><td>AMCO - STR - OhioVal      </td><td>AMER - EVG - East </td><td>AMER - COM             </td><td>AMER               </td><td>AMER              </td><td>ISS Renewal-ENT/STR       </td><td>AMCO - ESE            </td><td>nan           </td><td>Senior Manager, Delivery                       </td><td>Commercial               </td><td>Commercial         </td><td>FALSE            </td><td>www.bcbsm.com      </td><td>FALSE                  </td><td>Cold             </td><td>Other                                     </td><td>                            </td><td>nan                               </td><td>                               </td><td>                          </td><td>                            </td><td>                            </td><td>                                      </td><td>nan                                 </td><td>nan                             </td><td>                                 </td><td>nan                   </td><td>                             </td><td>                                  </td><td>                                  </td><td>                                </td><td>                                </td><td>FALSE                        </td><td>                                  </td><td>                 </td><td>nan               </td><td>               </td><td>               </td><td>             </td><td>Detroit       </td><td>United States    </td><td>Address                  </td><td>48226.0             </td><td>MI             </td><td>600 E Lafayette Boulevard      </td><td>0.0                 </td></tr>\n",
       "<tr><td>9      </td><td>00Q0h00001XgU5UEAV</td><td>FALSE                        </td><td>8.0                </td><td>nan                </td><td>                  </td><td>18183.0          </td><td>11/9/18 14:45               </td><td>11/9/18 14:45               </td><td>LS w/in 30 days - No Next Step</td><td>nan               </td><td>nan                 </td><td>nan               </td><td>nan                        </td><td>nan                 </td><td>nan                  </td><td>232714000.0      </td><td>                 </td><td>nan               </td><td>FALSE                          </td><td>nan              </td><td>Jack Tierney     </td><td>FALSE            </td><td>Houston      </td><td>Different    </td><td>Transwestern Commercial Services  </td><td>nan             </td><td>                  </td><td>United States</td><td>10/12/18 19:52</td><td>2018.0           </td><td>USD              </td><td>nan                                   </td><td>FALSE                        </td><td>nan                                    </td><td>                          </td><td>                  </td><td>                  </td><td>nan                   </td><td>nan                    </td><td>                  </td><td>                         </td><td>                                </td><td>transwestern.net  </td><td>paul.nguyen@transwestern.net    </td><td>                  </td><td>                         </td><td>Paul       </td><td>          </td><td>          </td><td>Real Estate                         </td><td>FALSE        </td><td>FALSE      </td><td>TRUE             </td><td>FALSE                   </td><td>82838063.0        </td><td>FALSE         </td><td>2018-11-09 00:00:00</td><td>11/9/18 14:45     </td><td>Nguyen    </td><td>nan                 </td><td>nan             </td><td>2018-11-09 00:00:00    </td><td>6sense      </td><td>FIX             </td><td>                                   </td><td>nan            </td><td>                       </td><td>FALSE            </td><td>FALSE                   </td><td>             </td><td>Paul Nguyen      </td><td>1420.0              </td><td>4999.0             </td><td>0.0                            </td><td>              </td><td>FALSE                </td><td>Manual - Marked Finished</td><td>10/12/18 0:00            </td><td>                                </td><td>nan                             </td><td>                               </td><td>                          </td><td>nan                             </td><td>                               </td><td>nan                          </td><td>nan                 </td><td>Marketing Ready     </td><td>77027.0           </td><td>Never Customer                              </td><td>                                </td><td>English - US           </td><td>           </td><td>nan                       </td><td>                     </td><td>                           </td><td>                          </td><td>                           </td><td>FALSE                 </td><td>N/A                     </td><td>nan           </td><td>                    </td><td>FALSE                        </td><td>            </td><td>                       </td><td>TX     </td><td>Marketing Ready</td><td>Marketing Ready  </td><td>FALSE           </td><td>FALSE          </td><td>FALSE          </td><td>TRUE          </td><td>11/9/18 14:45   </td><td>AMCO - STR - South Texas  </td><td>AMER - EVG - West </td><td>                       </td><td>AMER               </td><td>AMER              </td><td>Other                     </td><td>AMCO - ESW            </td><td>nan           </td><td>IT Ambassador                                  </td><td>Commercial               </td><td>Commercial         </td><td>FALSE            </td><td>transwestern.net   </td><td>FALSE                  </td><td>Cold             </td><td>Other                                     </td><td>                            </td><td>nan                               </td><td>                               </td><td>                          </td><td>                            </td><td>                            </td><td>                                      </td><td>nan                                 </td><td>nan                             </td><td>                                 </td><td>165.0                 </td><td>                             </td><td>                                  </td><td>                                  </td><td>Web service API                 </td><td>Web service API                 </td><td>FALSE                        </td><td>                                  </td><td>                 </td><td>nan               </td><td>               </td><td>               </td><td>             </td><td>Houston       </td><td>United States    </td><td>ExtendedZip              </td><td>77027.0             </td><td>TX             </td><td>1900 West Loop South Suite 1300</td><td>0.0                 </td></tr>\n",
       "</tbody>\n",
       "</table>"
      ]
     },
     "metadata": {},
     "output_type": "display_data"
    }
   ],
   "source": [
    "df.describe()"
   ]
  },
  {
   "cell_type": "code",
   "execution_count": 95,
   "metadata": {
    "scrolled": true
   },
   "outputs": [
    {
     "name": "stdout",
     "output_type": "stream",
     "text": [
      "Converted to Opp\n",
      "['\\ufeffId', 'Actively_being_sequenced__c', 'Activity_Count__c', 'Activity_First__c', 'Activity_Next__c', 'Activity_SLA__c', 'Activity_Sales_Post_BDR__c', 'Activity_Sales_Post_SRL__c', 'Activity_Status__c', 'Age_Converted__c', 'Age_QUAL_to_SRL__c', 'Age_SAL_Days__c', 'Age_Sales_Ready_No_Act__c', 'Age_Sales_Ready__c', 'Alt_Contact_Info__c', 'AnnualRevenue', 'Apple_Source__c', 'Approved_Date__c', 'Approved_Deal_Registration__c', 'Apps_Content__c', 'BDR_Activity__c', 'BYO_Interest__c', 'City', 'CleanStatus', 'Company', 'Contact_URL__c', 'ConvertedDate', 'Country', 'CreatedDate', 'Created_Year__c', 'CurrencyIsoCode', 'DSCORGPKG__DiscoverOrg_Created_On__c', 'DSCORGPKG__Email_Invalid__c', 'DSCORGPKG__External_DiscoverOrg_Id__c', 'DSCORGPKG__department__c', 'Date_Time_MQL__c', 'Date_Time_SAL__c', 'Date_Time_SRLYear__c', 'Date_Time_SRL_Week__c', 'Date_Time_SRL__c', 'Date_Time_SRejectedL__c', 'Disqualification_Reason_del__c', 'Domain__c', 'Email', 'EmailBouncedDate', 'EmailBouncedReason', 'FirstName', 'GCLID__c', 'Goals__c', 'Industry', 'IsConverted', 'IsDeleted', 'IsUnreadByOwner', 'Is_Budget_Available__c', 'Jigsaw', 'LATAM_EDU__c', 'LastActivityDate', 'LastModifiedDate', 'LastName', 'LastReferencedDate', 'LastViewedDate', 'Last_Activity_Date__c', 'LeadSource', 'Lead_Bucket__c', 'Lead_Disqualification_Comments__c', 'Lead_Notes__c', 'Lead_Source_Detail__c', 'MSP_Interest__c', 'Marketing_Suspended__c', 'MobilePhone', 'Name', 'No_of_Employees__c', 'NumberOfEmployees', 'Number_of_active_sequences__c', 'Opted_Out__c', 'Outreach_Caution__c', 'Outreach_Stage__c', 'PRO6senseUpdatedDate__c', 'PROaccountBuyingStage6sense__c', 'PROaccountIntentScore6sense__c', 'PROaccountProfileFit6sense__c', 'PROcontactGrade6sense__c', 'PROcontactIntentScore6sense__c', 'PROcontactProfileFit6sense__c', 'PROtranslatedcontactrank__c', 'Partner_Account__c', 'Pipeline_Bucket__c', 'PostalCode', 'Potential_Account_Match_Customer_Status__c', 'Potential_Account_Territory__c', 'Preferred_Language__c', 'Region__c', 'Reseller_Company_Name__c', 'Reseller_Company__c', 'Reseller_Contact_Email__c', 'Reseller_Contact_Name__c', 'Reseller_Contact_Phone__c', 'Reseller_Interest__c', 'Role_Within_Company__c', 'SLA_Start__c', 'Sales_Marketing__c', 'Sales_Outreach_Suspended__c', 'Salutation', 'Solution_Requested__c', 'State', 'Status', 'Status_Group__c', 'Status_QUAL__c', 'Status_SAL__c', 'Status_SRL__c', 'Strategic__c', 'SystemModstamp', 'Territory_16__c', 'Territory_EVG__c', 'Territory_GEO_VERT__c', 'Territory_Geo2__c', 'Territory_Geo__c', 'Territory_Renewal_ISS__c', 'Territory_Segment__c', 'Timeframe__c', 'Title', 'Type_of_Organization__c', 'Vertical_Group__c', 'Warm_Handoff__c', 'Website', 'Work_with_reseller__c', 'X6sense_Temp__c', 'ddc_prospector__Sourced_from_Data_com__c', 'mkto71_Acquisition_Date__c', 'mkto71_Acquisition_Program_Id__c', 'mkto71_Acquisition_Program__c', 'mkto71_BInferred_City__c', 'mkto71_Inferred_Company__c', 'mkto71_Inferred_Country__c', 'mkto71_Inferred_Metropolitan_Area__c', 'mkto71_Inferred_Phone_Area_Code__c', 'mkto71_Inferred_Postal_Code__c', 'mkto71_Inferred_State_Region__c', 'mkto71_Lead_Score__c', 'mkto71_Original_Referrer__c', 'mkto71_Original_Search_Engine__c', 'mkto71_Original_Search_Phrase__c', 'mkto71_Original_Source_Info__c', 'mkto71_Original_Source_Type__c', 'rvpe__IsDealRegistration__c', 'rvpe__PartnerLastModifiedDate__c', 'utm_campaign__c', 'utm_content_c__c', 'utm_medium__c', 'utm_source__c', 'utm_term__c', 'Address.city', 'Address.country', 'Address.geocodeAccuracy', 'Address.postalCode', 'Address.state', 'Address.street']\n"
     ]
    }
   ],
   "source": [
    "# assign target and inputs for logistic regression\n",
    "y = target\n",
    "X = [name for name in df.columns if name != y]\n",
    "print(y)\n",
    "print(X)"
   ]
  },
  {
   "cell_type": "code",
   "execution_count": 96,
   "metadata": {},
   "outputs": [
    {
     "name": "stdout",
     "output_type": "stream",
     "text": [
      "['Activity_Count__c', 'Activity_First__c', 'Activity_SLA__c', 'Age_Converted__c', 'Age_QUAL_to_SRL__c', 'Age_SAL_Days__c', 'Age_Sales_Ready_No_Act__c', 'Age_Sales_Ready__c', 'Alt_Contact_Info__c', 'AnnualRevenue', 'Approved_Date__c', 'Apps_Content__c', 'Contact_URL__c', 'Created_Year__c', 'DSCORGPKG__DiscoverOrg_Created_On__c', 'DSCORGPKG__External_DiscoverOrg_Id__c', 'Date_Time_SRLYear__c', 'Date_Time_SRL_Week__c', 'Jigsaw', 'LastReferencedDate', 'LastViewedDate', 'Lead_Notes__c', 'No_of_Employees__c', 'NumberOfEmployees', 'Number_of_active_sequences__c', 'PROaccountIntentScore6sense__c', 'PROcontactIntentScore6sense__c', 'PROtranslatedcontactrank__c', 'Partner_Account__c', 'PostalCode', 'Reseller_Company_Name__c', 'SLA_Start__c', 'Timeframe__c', 'mkto71_Acquisition_Program_Id__c', 'mkto71_Inferred_Phone_Area_Code__c', 'mkto71_Inferred_Postal_Code__c', 'mkto71_Lead_Score__c', 'utm_content_c__c', 'Address.postalCode']\n",
      "['Actively_being_sequenced__c', 'Activity_Sales_Post_BDR__c', 'Activity_Sales_Post_SRL__c', 'Activity_Status__c', 'Apple_Source__c', 'Approved_Deal_Registration__c', 'BDR_Activity__c', 'BYO_Interest__c', 'City', 'CleanStatus', 'Company', 'Country', 'CreatedDate', 'CurrencyIsoCode', 'DSCORGPKG__Email_Invalid__c', 'DSCORGPKG__department__c', 'Date_Time_MQL__c', 'Date_Time_SAL__c', 'Date_Time_SRL__c', 'Disqualification_Reason_del__c', 'Domain__c', 'EmailBouncedDate', 'EmailBouncedReason', 'FirstName', 'Goals__c', 'Industry', 'IsConverted', 'IsDeleted', 'IsUnreadByOwner', 'Is_Budget_Available__c', 'LATAM_EDU__c', 'LastModifiedDate', 'LastName', 'LeadSource', 'Lead_Bucket__c', 'Lead_Disqualification_Comments__c', 'Lead_Source_Detail__c', 'MSP_Interest__c', 'Marketing_Suspended__c', 'Opted_Out__c', 'Outreach_Caution__c', 'Outreach_Stage__c', 'PRO6senseUpdatedDate__c', 'PROaccountBuyingStage6sense__c', 'PROaccountProfileFit6sense__c', 'PROcontactGrade6sense__c', 'PROcontactProfileFit6sense__c', 'Pipeline_Bucket__c', 'Potential_Account_Match_Customer_Status__c', 'Potential_Account_Territory__c', 'Preferred_Language__c', 'Region__c', 'Reseller_Company__c', 'Reseller_Contact_Email__c', 'Reseller_Contact_Name__c', 'Reseller_Contact_Phone__c', 'Reseller_Interest__c', 'Role_Within_Company__c', 'Sales_Marketing__c', 'Sales_Outreach_Suspended__c', 'Salutation', 'Solution_Requested__c', 'State', 'Status', 'Status_Group__c', 'Status_QUAL__c', 'Status_SAL__c', 'Status_SRL__c', 'Strategic__c', 'SystemModstamp', 'Territory_16__c', 'Territory_EVG__c', 'Territory_GEO_VERT__c', 'Territory_Geo2__c', 'Territory_Geo__c', 'Territory_Renewal_ISS__c', 'Territory_Segment__c', 'Title', 'Type_of_Organization__c', 'Vertical_Group__c', 'Warm_Handoff__c', 'Website', 'Work_with_reseller__c', 'X6sense_Temp__c', 'ddc_prospector__Sourced_from_Data_com__c', 'mkto71_Acquisition_Date__c', 'mkto71_Acquisition_Program__c', 'mkto71_Inferred_Company__c', 'mkto71_Inferred_Country__c', 'mkto71_Inferred_Metropolitan_Area__c', 'mkto71_Inferred_State_Region__c', 'mkto71_Original_Referrer__c', 'mkto71_Original_Source_Info__c', 'mkto71_Original_Source_Type__c', 'rvpe__IsDealRegistration__c', 'utm_campaign__c', 'utm_medium__c', 'utm_source__c', 'utm_term__c', 'Address.city', 'Address.country', 'Address.geocodeAccuracy', 'Address.state', 'Address.street']\n",
      "['\\ufeffId', 'Activity_Next__c', 'ConvertedDate', 'Date_Time_SRejectedL__c', 'Email', 'GCLID__c', 'LastActivityDate', 'Last_Activity_Date__c', 'MobilePhone', 'Name', 'mkto71_BInferred_City__c', 'mkto71_Original_Search_Engine__c', 'mkto71_Original_Search_Phrase__c', 'rvpe__PartnerLastModifiedDate__c']\n"
     ]
    }
   ],
   "source": [
    "# determine column types\n",
    "ints, reals, enums = [], [], []\n",
    "for key, val in df.types.items():\n",
    "    if key in X:\n",
    "        if val == 'enum':\n",
    "            enums.append(key)\n",
    "        elif val == 'int':\n",
    "            ints.append(key)            \n",
    "        else: \n",
    "            reals.append(key)\n",
    "\n",
    "print(ints)\n",
    "print(enums)\n",
    "print(reals)"
   ]
  },
  {
   "cell_type": "code",
   "execution_count": 97,
   "metadata": {
    "collapsed": true
   },
   "outputs": [],
   "source": [
    "# impute missing values\n",
    "# _ = df[reals].impute(method='mean')\n",
    "# _ = df[ints].impute(method='median')\n",
    "\n",
    "if scale:\n",
    "    df[reals] = df[reals].scale()\n",
    "    df[ints] = df[ints].scale()"
   ]
  },
  {
   "cell_type": "code",
   "execution_count": 98,
   "metadata": {
    "collapsed": true
   },
   "outputs": [],
   "source": [
    "# set target to factor for classification by default or if user specifies classification\n",
    "if classification:\n",
    "    df[y] = df[y].asfactor()"
   ]
  },
  {
   "cell_type": "code",
   "execution_count": 99,
   "metadata": {},
   "outputs": [
    {
     "data": {
      "text/plain": [
       "[['0', '1']]"
      ]
     },
     "execution_count": 99,
     "metadata": {},
     "output_type": "execute_result"
    }
   ],
   "source": [
    "df[y].levels()"
   ]
  },
  {
   "cell_type": "markdown",
   "metadata": {},
   "source": [
    "### balance_classes check \n",
    "\n",
    "If one class in two class classification is less than 20% of the total then one should set balance_classes=True\n",
    "\n",
    "That is,\n",
    "\n",
    "balance_classes=balance_y\n"
   ]
  },
  {
   "cell_type": "code",
   "execution_count": 100,
   "metadata": {
    "collapsed": true
   },
   "outputs": [],
   "source": [
    "if classification:\n",
    "    class_percentage = y_balance=df[y].mean()[0]/(df[y].max()-df[y].min())\n",
    "    if class_percentage < balance_threshold:\n",
    "        balance_y=True\n",
    "        \n",
    "        "
   ]
  },
  {
   "cell_type": "code",
   "execution_count": 101,
   "metadata": {},
   "outputs": [
    {
     "name": "stdout",
     "output_type": "stream",
     "text": [
      "True\n"
     ]
    }
   ],
   "source": [
    "print(classification)"
   ]
  },
  {
   "cell_type": "code",
   "execution_count": 102,
   "metadata": {},
   "outputs": [
    {
     "name": "stdout",
     "output_type": "stream",
     "text": [
      "222\n"
     ]
    },
    {
     "data": {
      "text/plain": [
       "int"
      ]
     },
     "execution_count": 102,
     "metadata": {},
     "output_type": "execute_result"
    }
   ],
   "source": [
    "print(run_time)\n",
    "type(run_time)"
   ]
  },
  {
   "cell_type": "markdown",
   "metadata": {},
   "source": [
    "## Cross-validate rather than take a test training split\n",
    "\n",
    "Cross-validation rather than taking a test training split reduces the variance of the estimates of goodness of fit statistics.  In rare cases one should take a test training split but this should be left to the expert users.\n",
    "\n",
    "This also means the pro user can just upload the data and not worry about taking a test training split.  \n",
    "\n",
    "We can pass the original, full dataset, `df` (without passing a `leaderboard_frame`).  This is a more efficient use of our data since we can use 100% of the data for training, rather than 80% or so.  This time our leaderboard will use cross-validated metrics. It also gives better estimates of goodness of fit statistics.\n",
    "\n",
    "*Note: Using an explicit `leaderboard_frame` for scoring may be useful in some cases, which is why the option is available.*  \n",
    "\n",
    "But it's not preferable in most cases.  Leave it as an expert option.  \n"
   ]
  },
  {
   "cell_type": "code",
   "execution_count": 103,
   "metadata": {
    "scrolled": true
   },
   "outputs": [
    {
     "name": "stdout",
     "output_type": "stream",
     "text": [
      "AutoML progress: |████████████████████████████████████████████████████████| 100%\n"
     ]
    }
   ],
   "source": [
    "# automl\n",
    "# runs for run_time seconds then builds a stacked ensemble\n",
    "aml = H2OAutoML(max_runtime_secs=run_time,project_name = project,balance_classes=balance_y) # init automl, run for 300 seconds\n",
    "aml.train(x=X,  \n",
    "           y=y,\n",
    "           training_frame=df) "
   ]
  },
  {
   "cell_type": "markdown",
   "metadata": {},
   "source": [
    "## Leaderboard\n",
    "\n",
    "Next, we will view the AutoML Leaderboard.  Since we did not specify a `leaderboard_frame` in the `H2OAutoML.train()` method for scoring and ranking the models, the AutoML leaderboard uses cross-validation metrics to rank the models.  \n",
    "\n",
    "A default performance metric for each machine learning task (binary classification, multiclass classification, regression) is specified internally and the leaderboard will be sorted by that metric.  In the case of binary classification, the default ranking metric is Area Under the ROC Curve (AUC).  In the future, the user will be able to specify any of the H2O metrics so that different metrics can be used to generate rankings on the leaderboard.\n",
    "\n",
    "The leader model is stored at `aml.leader` and the leaderboard is stored at `aml.leaderboard`."
   ]
  },
  {
   "cell_type": "code",
   "execution_count": 104,
   "metadata": {},
   "outputs": [
    {
     "data": {
      "text/html": [
       "<table>\n",
       "<thead>\n",
       "<tr><th>model_id                                           </th><th style=\"text-align: right;\">     auc</th><th style=\"text-align: right;\">   logloss</th><th style=\"text-align: right;\">  mean_per_class_error</th><th style=\"text-align: right;\">     rmse</th><th style=\"text-align: right;\">        mse</th></tr>\n",
       "</thead>\n",
       "<tbody>\n",
       "<tr><td>DRF_1_AutoML_20181218_004911                       </td><td style=\"text-align: right;\">1       </td><td style=\"text-align: right;\">0.0165054 </td><td style=\"text-align: right;\">            0.00014477</td><td style=\"text-align: right;\">0.0747882</td><td style=\"text-align: right;\">0.00559327 </td></tr>\n",
       "<tr><td>StackedEnsemble_AllModels_AutoML_20181218_004911   </td><td style=\"text-align: right;\">0.999994</td><td style=\"text-align: right;\">0.00083735</td><td style=\"text-align: right;\">            0.00332492</td><td style=\"text-align: right;\">0.0142757</td><td style=\"text-align: right;\">0.000203797</td></tr>\n",
       "<tr><td>StackedEnsemble_BestOfFamily_AutoML_20181218_004911</td><td style=\"text-align: right;\">0.999994</td><td style=\"text-align: right;\">0.00083735</td><td style=\"text-align: right;\">            0.00332492</td><td style=\"text-align: right;\">0.0142757</td><td style=\"text-align: right;\">0.000203797</td></tr>\n",
       "<tr><td>XRT_1_AutoML_20181218_004911                       </td><td style=\"text-align: right;\">0.999881</td><td style=\"text-align: right;\">0.0582685 </td><td style=\"text-align: right;\">            0.0176836 </td><td style=\"text-align: right;\">0.123722 </td><td style=\"text-align: right;\">0.015307   </td></tr>\n",
       "</tbody>\n",
       "</table>"
      ]
     },
     "metadata": {},
     "output_type": "display_data"
    },
    {
     "data": {
      "text/plain": []
     },
     "execution_count": 104,
     "metadata": {},
     "output_type": "execute_result"
    }
   ],
   "source": [
    "# view leaderboard\n",
    "lb = aml.leaderboard\n",
    "lb"
   ]
  },
  {
   "cell_type": "markdown",
   "metadata": {},
   "source": [
    "Now we will view a snapshot of the top models.  Here we should see the two Stacked Ensembles at or near the top of the leaderboard.  Stacked Ensembles can almost always outperform a single model."
   ]
  },
  {
   "cell_type": "code",
   "execution_count": 105,
   "metadata": {
    "scrolled": true
   },
   "outputs": [
    {
     "name": "stdout",
     "output_type": "stream",
     "text": [
      "Model Details\n",
      "=============\n",
      "H2ORandomForestEstimator :  Distributed Random Forest\n",
      "Model Key:  DRF_1_AutoML_20181218_004911\n",
      "\n",
      "\n",
      "ModelMetricsBinomial: drf\n",
      "** Reported on train data. **\n",
      "\n",
      "MSE: 0.07741851544765838\n",
      "RMSE: 0.2782418290761804\n",
      "LogLoss: 0.21782575452069844\n",
      "Mean Per-Class Error: 9.606489390789896e-05\n",
      "AUC: 0.9999888834117703\n",
      "pr_auc: 0.9199815407009633\n",
      "Gini: 0.9999777668235406\n",
      "Confusion Matrix (Act/Pred) for max f1 @ threshold = 0.03273634390753935: \n"
     ]
    },
    {
     "data": {
      "text/html": [
       "<div style=\"overflow:auto\"><table style=\"width:50%\"><tr><td><b></b></td>\n",
       "<td><b>0</b></td>\n",
       "<td><b>1</b></td>\n",
       "<td><b>Error</b></td>\n",
       "<td><b>Rate</b></td></tr>\n",
       "<tr><td>0</td>\n",
       "<td>208170.0</td>\n",
       "<td>28.0</td>\n",
       "<td>0.0001</td>\n",
       "<td> (28.0/208198.0)</td></tr>\n",
       "<tr><td>1</td>\n",
       "<td>12.0</td>\n",
       "<td>208168.0</td>\n",
       "<td>0.0001</td>\n",
       "<td> (12.0/208180.0)</td></tr>\n",
       "<tr><td>Total</td>\n",
       "<td>208182.0</td>\n",
       "<td>208196.0</td>\n",
       "<td>0.0001</td>\n",
       "<td> (40.0/416378.0)</td></tr></table></div>"
      ],
      "text/plain": [
       "       0       1       Error    Rate\n",
       "-----  ------  ------  -------  ---------------\n",
       "0      208170  28      0.0001   (28.0/208198.0)\n",
       "1      12      208168  0.0001   (12.0/208180.0)\n",
       "Total  208182  208196  0.0001   (40.0/416378.0)"
      ]
     },
     "metadata": {},
     "output_type": "display_data"
    },
    {
     "name": "stdout",
     "output_type": "stream",
     "text": [
      "Maximum Metrics: Maximum metrics at their respective thresholds\n",
      "\n"
     ]
    },
    {
     "data": {
      "text/html": [
       "<div style=\"overflow:auto\"><table style=\"width:50%\"><tr><td><b>metric</b></td>\n",
       "<td><b>threshold</b></td>\n",
       "<td><b>value</b></td>\n",
       "<td><b>idx</b></td></tr>\n",
       "<tr><td>max f1</td>\n",
       "<td>0.0327363</td>\n",
       "<td>0.9999039</td>\n",
       "<td>385.0</td></tr>\n",
       "<tr><td>max f2</td>\n",
       "<td>0.0262859</td>\n",
       "<td>0.9999270</td>\n",
       "<td>386.0</td></tr>\n",
       "<tr><td>max f0point5</td>\n",
       "<td>0.0526565</td>\n",
       "<td>0.9999106</td>\n",
       "<td>382.0</td></tr>\n",
       "<tr><td>max accuracy</td>\n",
       "<td>0.0327363</td>\n",
       "<td>0.9999039</td>\n",
       "<td>385.0</td></tr>\n",
       "<tr><td>max precision</td>\n",
       "<td>0.7459579</td>\n",
       "<td>0.9999913</td>\n",
       "<td>131.0</td></tr>\n",
       "<tr><td>max recall</td>\n",
       "<td>0.0154397</td>\n",
       "<td>1.0</td>\n",
       "<td>388.0</td></tr>\n",
       "<tr><td>max specificity</td>\n",
       "<td>0.9999977</td>\n",
       "<td>0.9999952</td>\n",
       "<td>0.0</td></tr>\n",
       "<tr><td>max absolute_mcc</td>\n",
       "<td>0.0327363</td>\n",
       "<td>0.9998079</td>\n",
       "<td>385.0</td></tr>\n",
       "<tr><td>max min_per_class_accuracy</td>\n",
       "<td>0.0408983</td>\n",
       "<td>0.9998799</td>\n",
       "<td>384.0</td></tr>\n",
       "<tr><td>max mean_per_class_accuracy</td>\n",
       "<td>0.0327363</td>\n",
       "<td>0.9999039</td>\n",
       "<td>385.0</td></tr></table></div>"
      ],
      "text/plain": [
       "metric                       threshold    value     idx\n",
       "---------------------------  -----------  --------  -----\n",
       "max f1                       0.0327363    0.999904  385\n",
       "max f2                       0.0262859    0.999927  386\n",
       "max f0point5                 0.0526565    0.999911  382\n",
       "max accuracy                 0.0327363    0.999904  385\n",
       "max precision                0.745958     0.999991  131\n",
       "max recall                   0.0154397    1         388\n",
       "max specificity              0.999998     0.999995  0\n",
       "max absolute_mcc             0.0327363    0.999808  385\n",
       "max min_per_class_accuracy   0.0408983    0.99988   384\n",
       "max mean_per_class_accuracy  0.0327363    0.999904  385"
      ]
     },
     "metadata": {},
     "output_type": "display_data"
    },
    {
     "name": "stdout",
     "output_type": "stream",
     "text": [
      "Gains/Lift Table: Avg response rate: 50.00 %, avg score: 35.44 %\n",
      "\n"
     ]
    },
    {
     "data": {
      "text/html": [
       "<div style=\"overflow:auto\"><table style=\"width:50%\"><tr><td><b></b></td>\n",
       "<td><b>group</b></td>\n",
       "<td><b>cumulative_data_fraction</b></td>\n",
       "<td><b>lower_threshold</b></td>\n",
       "<td><b>lift</b></td>\n",
       "<td><b>cumulative_lift</b></td>\n",
       "<td><b>response_rate</b></td>\n",
       "<td><b>score</b></td>\n",
       "<td><b>cumulative_response_rate</b></td>\n",
       "<td><b>cumulative_score</b></td>\n",
       "<td><b>capture_rate</b></td>\n",
       "<td><b>cumulative_capture_rate</b></td>\n",
       "<td><b>gain</b></td>\n",
       "<td><b>cumulative_gain</b></td></tr>\n",
       "<tr><td></td>\n",
       "<td>1</td>\n",
       "<td>0.0399700</td>\n",
       "<td>1.0</td>\n",
       "<td>1.9999567</td>\n",
       "<td>1.9999567</td>\n",
       "<td>0.9999399</td>\n",
       "<td>1.0</td>\n",
       "<td>0.9999399</td>\n",
       "<td>1.0</td>\n",
       "<td>0.0799383</td>\n",
       "<td>0.0799383</td>\n",
       "<td>99.9956682</td>\n",
       "<td>99.9956682</td></tr>\n",
       "<tr><td></td>\n",
       "<td>2</td>\n",
       "<td>0.0400061</td>\n",
       "<td>0.9969733</td>\n",
       "<td>2.0000768</td>\n",
       "<td>1.9999568</td>\n",
       "<td>1.0</td>\n",
       "<td>0.9970352</td>\n",
       "<td>0.9999400</td>\n",
       "<td>0.9999973</td>\n",
       "<td>0.0000720</td>\n",
       "<td>0.0800104</td>\n",
       "<td>100.0076850</td>\n",
       "<td>99.9956790</td></tr>\n",
       "<tr><td></td>\n",
       "<td>3</td>\n",
       "<td>0.0501162</td>\n",
       "<td>0.9866030</td>\n",
       "<td>2.0000768</td>\n",
       "<td>1.9999810</td>\n",
       "<td>1.0</td>\n",
       "<td>0.9924779</td>\n",
       "<td>0.9999521</td>\n",
       "<td>0.9984804</td>\n",
       "<td>0.0202211</td>\n",
       "<td>0.1002315</td>\n",
       "<td>100.0076850</td>\n",
       "<td>99.9981010</td></tr>\n",
       "<tr><td></td>\n",
       "<td>4</td>\n",
       "<td>0.1007992</td>\n",
       "<td>0.9598234</td>\n",
       "<td>2.0000768</td>\n",
       "<td>2.0000292</td>\n",
       "<td>1.0</td>\n",
       "<td>0.9705921</td>\n",
       "<td>0.9999762</td>\n",
       "<td>0.9844578</td>\n",
       "<td>0.1013698</td>\n",
       "<td>0.2016014</td>\n",
       "<td>100.0076850</td>\n",
       "<td>100.0029200</td></tr>\n",
       "<tr><td></td>\n",
       "<td>5</td>\n",
       "<td>0.1503151</td>\n",
       "<td>0.9383415</td>\n",
       "<td>2.0000768</td>\n",
       "<td>2.0000449</td>\n",
       "<td>1.0</td>\n",
       "<td>0.9488113</td>\n",
       "<td>0.9999840</td>\n",
       "<td>0.9727154</td>\n",
       "<td>0.0990355</td>\n",
       "<td>0.3006369</td>\n",
       "<td>100.0076850</td>\n",
       "<td>100.0044896</td></tr>\n",
       "<tr><td></td>\n",
       "<td>6</td>\n",
       "<td>0.2007291</td>\n",
       "<td>0.9111756</td>\n",
       "<td>2.0000768</td>\n",
       "<td>2.0000529</td>\n",
       "<td>1.0</td>\n",
       "<td>0.9252446</td>\n",
       "<td>0.9999880</td>\n",
       "<td>0.9607929</td>\n",
       "<td>0.1008319</td>\n",
       "<td>0.4014688</td>\n",
       "<td>100.0076850</td>\n",
       "<td>100.0052922</td></tr>\n",
       "<tr><td></td>\n",
       "<td>7</td>\n",
       "<td>0.3000034</td>\n",
       "<td>0.5838402</td>\n",
       "<td>1.9999801</td>\n",
       "<td>2.0000288</td>\n",
       "<td>0.9999516</td>\n",
       "<td>0.8086903</td>\n",
       "<td>0.9999760</td>\n",
       "<td>0.9104605</td>\n",
       "<td>0.1985466</td>\n",
       "<td>0.6000154</td>\n",
       "<td>99.9980085</td>\n",
       "<td>100.0028819</td></tr>\n",
       "<tr><td></td>\n",
       "<td>8</td>\n",
       "<td>0.4002334</td>\n",
       "<td>0.4250915</td>\n",
       "<td>2.0000289</td>\n",
       "<td>2.0000288</td>\n",
       "<td>0.9999760</td>\n",
       "<td>0.4821188</td>\n",
       "<td>0.9999760</td>\n",
       "<td>0.8031913</td>\n",
       "<td>0.2004630</td>\n",
       "<td>0.8004784</td>\n",
       "<td>100.0028929</td>\n",
       "<td>100.0028847</td></tr>\n",
       "<tr><td></td>\n",
       "<td>9</td>\n",
       "<td>0.5</td>\n",
       "<td>0.0279668</td>\n",
       "<td>1.9985844</td>\n",
       "<td>1.9997406</td>\n",
       "<td>0.9992538</td>\n",
       "<td>0.3283246</td>\n",
       "<td>0.9998319</td>\n",
       "<td>0.7084397</td>\n",
       "<td>0.1993919</td>\n",
       "<td>0.9998703</td>\n",
       "<td>99.8584399</td>\n",
       "<td>99.9740632</td></tr>\n",
       "<tr><td></td>\n",
       "<td>10</td>\n",
       "<td>0.6033280</td>\n",
       "<td>0.0000009</td>\n",
       "<td>0.0004184</td>\n",
       "<td>1.6573300</td>\n",
       "<td>0.0002092</td>\n",
       "<td>0.0012867</td>\n",
       "<td>0.8286332</td>\n",
       "<td>0.5873303</td>\n",
       "<td>0.0000432</td>\n",
       "<td>0.9999135</td>\n",
       "<td>-99.9581642</td>\n",
       "<td>65.7330043</td></tr>\n",
       "<tr><td></td>\n",
       "<td>11</td>\n",
       "<td>0.7050421</td>\n",
       "<td>0.0000005</td>\n",
       "<td>0.0</td>\n",
       "<td>1.4182323</td>\n",
       "<td>0.0</td>\n",
       "<td>0.0000006</td>\n",
       "<td>0.7090889</td>\n",
       "<td>0.5025981</td>\n",
       "<td>0.0</td>\n",
       "<td>0.9999135</td>\n",
       "<td>-100.0</td>\n",
       "<td>41.8232348</td></tr>\n",
       "<tr><td></td>\n",
       "<td>12</td>\n",
       "<td>1.0</td>\n",
       "<td>0.0</td>\n",
       "<td>0.0002931</td>\n",
       "<td>1.0</td>\n",
       "<td>0.0001466</td>\n",
       "<td>0.0000000</td>\n",
       "<td>0.4999808</td>\n",
       "<td>0.3543528</td>\n",
       "<td>0.0000865</td>\n",
       "<td>1.0</td>\n",
       "<td>-99.9706886</td>\n",
       "<td>0.0</td></tr></table></div>"
      ],
      "text/plain": [
       "    group    cumulative_data_fraction    lower_threshold    lift         cumulative_lift    response_rate    score        cumulative_response_rate    cumulative_score    capture_rate    cumulative_capture_rate    gain      cumulative_gain\n",
       "--  -------  --------------------------  -----------------  -----------  -----------------  ---------------  -----------  --------------------------  ------------------  --------------  -------------------------  --------  -----------------\n",
       "    1        0.03997                     1                  1.99996      1.99996            0.99994          1            0.99994                     1                   0.0799383       0.0799383                  99.9957   99.9957\n",
       "    2        0.0400061                   0.996973           2.00008      1.99996            1                0.997035     0.99994                     0.999997            7.20468e-05     0.0800104                  100.008   99.9957\n",
       "    3        0.0501162                   0.986603           2.00008      1.99998            1                0.992478     0.999952                    0.99848             0.0202211       0.100232                   100.008   99.9981\n",
       "    4        0.100799                    0.959823           2.00008      2.00003            1                0.970592     0.999976                    0.984458            0.10137         0.201601                   100.008   100.003\n",
       "    5        0.150315                    0.938341           2.00008      2.00004            1                0.948811     0.999984                    0.972715            0.0990355       0.300637                   100.008   100.004\n",
       "    6        0.200729                    0.911176           2.00008      2.00005            1                0.925245     0.999988                    0.960793            0.100832        0.401469                   100.008   100.005\n",
       "    7        0.300003                    0.58384            1.99998      2.00003            0.999952         0.80869      0.999976                    0.910461            0.198547        0.600015                   99.998    100.003\n",
       "    8        0.400233                    0.425091           2.00003      2.00003            0.999976         0.482119     0.999976                    0.803191            0.200463        0.800478                   100.003   100.003\n",
       "    9        0.5                         0.0279668          1.99858      1.99974            0.999254         0.328325     0.999832                    0.70844             0.199392        0.99987                    99.8584   99.9741\n",
       "    10       0.603328                    8.68748e-07        0.000418358  1.65733            0.000209171      0.0012867    0.828633                    0.58733             4.32281e-05     0.999914                   -99.9582  65.733\n",
       "    11       0.705042                    4.73852e-07        0            1.41823            0                6.19874e-07  0.709089                    0.502598            0               0.999914                   -100      41.8232\n",
       "    12       1                           0                  0.000293114  1                  0.000146551      1.02752e-08  0.499981                    0.354353            8.64562e-05     1                          -99.9707  0"
      ]
     },
     "metadata": {},
     "output_type": "display_data"
    },
    {
     "name": "stdout",
     "output_type": "stream",
     "text": [
      "\n",
      "\n",
      "ModelMetricsBinomial: drf\n",
      "** Reported on validation data. **\n",
      "\n",
      "MSE: 0.005082333450994551\n",
      "RMSE: 0.07129048639891968\n",
      "LogLoss: 0.015679654654073814\n",
      "Mean Per-Class Error: 2.17174130217046e-05\n",
      "AUC: 0.9999996650270486\n",
      "pr_auc: 0.997409454872439\n",
      "Gini: 0.9999993300540972\n",
      "Confusion Matrix (Act/Pred) for max f1 @ threshold = 0.015832223641016097: \n"
     ]
    },
    {
     "data": {
      "text/html": [
       "<div style=\"overflow:auto\"><table style=\"width:50%\"><tr><td><b></b></td>\n",
       "<td><b>0</b></td>\n",
       "<td><b>1</b></td>\n",
       "<td><b>Error</b></td>\n",
       "<td><b>Rate</b></td></tr>\n",
       "<tr><td>0</td>\n",
       "<td>23022.0</td>\n",
       "<td>1.0</td>\n",
       "<td>0.0</td>\n",
       "<td> (1.0/23023.0)</td></tr>\n",
       "<tr><td>1</td>\n",
       "<td>0.0</td>\n",
       "<td>389.0</td>\n",
       "<td>0.0</td>\n",
       "<td> (0.0/389.0)</td></tr>\n",
       "<tr><td>Total</td>\n",
       "<td>23022.0</td>\n",
       "<td>390.0</td>\n",
       "<td>0.0</td>\n",
       "<td> (1.0/23412.0)</td></tr></table></div>"
      ],
      "text/plain": [
       "       0      1    Error    Rate\n",
       "-----  -----  ---  -------  -------------\n",
       "0      23022  1    0        (1.0/23023.0)\n",
       "1      0      389  0        (0.0/389.0)\n",
       "Total  23022  390  0        (1.0/23412.0)"
      ]
     },
     "metadata": {},
     "output_type": "display_data"
    },
    {
     "name": "stdout",
     "output_type": "stream",
     "text": [
      "Maximum Metrics: Maximum metrics at their respective thresholds\n",
      "\n"
     ]
    },
    {
     "data": {
      "text/html": [
       "<div style=\"overflow:auto\"><table style=\"width:50%\"><tr><td><b>metric</b></td>\n",
       "<td><b>threshold</b></td>\n",
       "<td><b>value</b></td>\n",
       "<td><b>idx</b></td></tr>\n",
       "<tr><td>max f1</td>\n",
       "<td>0.0158322</td>\n",
       "<td>0.9987163</td>\n",
       "<td>174.0</td></tr>\n",
       "<tr><td>max f2</td>\n",
       "<td>0.0158322</td>\n",
       "<td>0.9994861</td>\n",
       "<td>174.0</td></tr>\n",
       "<tr><td>max f0point5</td>\n",
       "<td>0.0196033</td>\n",
       "<td>0.9984480</td>\n",
       "<td>170.0</td></tr>\n",
       "<tr><td>max accuracy</td>\n",
       "<td>0.0158322</td>\n",
       "<td>0.9999573</td>\n",
       "<td>174.0</td></tr>\n",
       "<tr><td>max precision</td>\n",
       "<td>0.9660758</td>\n",
       "<td>1.0</td>\n",
       "<td>0.0</td></tr>\n",
       "<tr><td>max recall</td>\n",
       "<td>0.0158322</td>\n",
       "<td>1.0</td>\n",
       "<td>174.0</td></tr>\n",
       "<tr><td>max specificity</td>\n",
       "<td>0.9660758</td>\n",
       "<td>1.0</td>\n",
       "<td>0.0</td></tr>\n",
       "<tr><td>max absolute_mcc</td>\n",
       "<td>0.0158322</td>\n",
       "<td>0.9986954</td>\n",
       "<td>174.0</td></tr>\n",
       "<tr><td>max min_per_class_accuracy</td>\n",
       "<td>0.0158322</td>\n",
       "<td>0.9999566</td>\n",
       "<td>174.0</td></tr>\n",
       "<tr><td>max mean_per_class_accuracy</td>\n",
       "<td>0.0158322</td>\n",
       "<td>0.9999783</td>\n",
       "<td>174.0</td></tr></table></div>"
      ],
      "text/plain": [
       "metric                       threshold    value     idx\n",
       "---------------------------  -----------  --------  -----\n",
       "max f1                       0.0158322    0.998716  174\n",
       "max f2                       0.0158322    0.999486  174\n",
       "max f0point5                 0.0196033    0.998448  170\n",
       "max accuracy                 0.0158322    0.999957  174\n",
       "max precision                0.966076     1         0\n",
       "max recall                   0.0158322    1         174\n",
       "max specificity              0.966076     1         0\n",
       "max absolute_mcc             0.0158322    0.998695  174\n",
       "max min_per_class_accuracy   0.0158322    0.999957  174\n",
       "max mean_per_class_accuracy  0.0158322    0.999978  174"
      ]
     },
     "metadata": {},
     "output_type": "display_data"
    },
    {
     "name": "stdout",
     "output_type": "stream",
     "text": [
      "Gains/Lift Table: Avg response rate:  1.66 %, avg score:  0.85 %\n",
      "\n"
     ]
    },
    {
     "data": {
      "text/html": [
       "<div style=\"overflow:auto\"><table style=\"width:50%\"><tr><td><b></b></td>\n",
       "<td><b>group</b></td>\n",
       "<td><b>cumulative_data_fraction</b></td>\n",
       "<td><b>lower_threshold</b></td>\n",
       "<td><b>lift</b></td>\n",
       "<td><b>cumulative_lift</b></td>\n",
       "<td><b>response_rate</b></td>\n",
       "<td><b>score</b></td>\n",
       "<td><b>cumulative_response_rate</b></td>\n",
       "<td><b>cumulative_score</b></td>\n",
       "<td><b>capture_rate</b></td>\n",
       "<td><b>cumulative_capture_rate</b></td>\n",
       "<td><b>gain</b></td>\n",
       "<td><b>cumulative_gain</b></td></tr>\n",
       "<tr><td></td>\n",
       "<td>1</td>\n",
       "<td>0.0100376</td>\n",
       "<td>0.4272561</td>\n",
       "<td>60.1850900</td>\n",
       "<td>60.1850900</td>\n",
       "<td>1.0</td>\n",
       "<td>0.6598429</td>\n",
       "<td>1.0</td>\n",
       "<td>0.6598429</td>\n",
       "<td>0.6041131</td>\n",
       "<td>0.6041131</td>\n",
       "<td>5918.5089974</td>\n",
       "<td>5918.5089974</td></tr>\n",
       "<tr><td></td>\n",
       "<td>2</td>\n",
       "<td>0.0200325</td>\n",
       "<td>0.0068904</td>\n",
       "<td>39.6089908</td>\n",
       "<td>49.9189765</td>\n",
       "<td>0.6581197</td>\n",
       "<td>0.1669500</td>\n",
       "<td>0.8294243</td>\n",
       "<td>0.4139220</td>\n",
       "<td>0.3958869</td>\n",
       "<td>1.0</td>\n",
       "<td>3860.8990838</td>\n",
       "<td>4891.8976546</td></tr>\n",
       "<tr><td></td>\n",
       "<td>3</td>\n",
       "<td>0.0304118</td>\n",
       "<td>0.0025398</td>\n",
       "<td>0.0</td>\n",
       "<td>32.8820225</td>\n",
       "<td>0.0</td>\n",
       "<td>0.0042567</td>\n",
       "<td>0.5463483</td>\n",
       "<td>0.2741064</td>\n",
       "<td>0.0</td>\n",
       "<td>1.0</td>\n",
       "<td>-100.0</td>\n",
       "<td>3188.2022472</td></tr>\n",
       "<tr><td></td>\n",
       "<td>4</td>\n",
       "<td>0.0893559</td>\n",
       "<td>0.0014394</td>\n",
       "<td>0.0</td>\n",
       "<td>11.1912046</td>\n",
       "<td>0.0</td>\n",
       "<td>0.0014814</td>\n",
       "<td>0.1859465</td>\n",
       "<td>0.0942677</td>\n",
       "<td>0.0</td>\n",
       "<td>1.0</td>\n",
       "<td>-100.0</td>\n",
       "<td>1019.1204589</td></tr>\n",
       "<tr><td></td>\n",
       "<td>5</td>\n",
       "<td>0.1027678</td>\n",
       "<td>0.0014346</td>\n",
       "<td>0.0</td>\n",
       "<td>9.7306733</td>\n",
       "<td>0.0</td>\n",
       "<td>0.0014360</td>\n",
       "<td>0.1616791</td>\n",
       "<td>0.0821525</td>\n",
       "<td>0.0</td>\n",
       "<td>1.0</td>\n",
       "<td>-100.0</td>\n",
       "<td>873.0673317</td></tr>\n",
       "<tr><td></td>\n",
       "<td>6</td>\n",
       "<td>0.1767897</td>\n",
       "<td>0.0007484</td>\n",
       "<td>0.0</td>\n",
       "<td>5.6564388</td>\n",
       "<td>0.0</td>\n",
       "<td>0.0007577</td>\n",
       "<td>0.0939841</td>\n",
       "<td>0.0480725</td>\n",
       "<td>0.0</td>\n",
       "<td>1.0</td>\n",
       "<td>-100.0</td>\n",
       "<td>465.6438753</td></tr>\n",
       "<tr><td></td>\n",
       "<td>7</td>\n",
       "<td>0.2349650</td>\n",
       "<td>0.0000020</td>\n",
       "<td>0.0</td>\n",
       "<td>4.2559535</td>\n",
       "<td>0.0</td>\n",
       "<td>0.0000135</td>\n",
       "<td>0.0707144</td>\n",
       "<td>0.0361735</td>\n",
       "<td>0.0</td>\n",
       "<td>1.0</td>\n",
       "<td>-100.0</td>\n",
       "<td>325.5953463</td></tr>\n",
       "<tr><td></td>\n",
       "<td>8</td>\n",
       "<td>0.9696310</td>\n",
       "<td>0.0000003</td>\n",
       "<td>0.0</td>\n",
       "<td>1.0313202</td>\n",
       "<td>0.0</td>\n",
       "<td>0.0000003</td>\n",
       "<td>0.0171358</td>\n",
       "<td>0.0087659</td>\n",
       "<td>0.0</td>\n",
       "<td>1.0</td>\n",
       "<td>-100.0</td>\n",
       "<td>3.1320206</td></tr>\n",
       "<tr><td></td>\n",
       "<td>9</td>\n",
       "<td>1.0</td>\n",
       "<td>0.0</td>\n",
       "<td>0.0</td>\n",
       "<td>1.0</td>\n",
       "<td>0.0</td>\n",
       "<td>0.0</td>\n",
       "<td>0.0166154</td>\n",
       "<td>0.0084997</td>\n",
       "<td>0.0</td>\n",
       "<td>1.0</td>\n",
       "<td>-100.0</td>\n",
       "<td>0.0</td></tr></table></div>"
      ],
      "text/plain": [
       "    group    cumulative_data_fraction    lower_threshold    lift     cumulative_lift    response_rate    score        cumulative_response_rate    cumulative_score    capture_rate    cumulative_capture_rate    gain     cumulative_gain\n",
       "--  -------  --------------------------  -----------------  -------  -----------------  ---------------  -----------  --------------------------  ------------------  --------------  -------------------------  -------  -----------------\n",
       "    1        0.0100376                   0.427256           60.1851  60.1851            1                0.659843     1                           0.659843            0.604113        0.604113                   5918.51  5918.51\n",
       "    2        0.0200325                   0.00689042         39.609   49.919             0.65812          0.16695      0.829424                    0.413922            0.395887        1                          3860.9   4891.9\n",
       "    3        0.0304118                   0.00253978         0        32.882             0                0.00425674   0.546348                    0.274106            0               1                          -100     3188.2\n",
       "    4        0.0893559                   0.00143938         0        11.1912            0                0.00148138   0.185946                    0.0942677           0               1                          -100     1019.12\n",
       "    5        0.102768                    0.00143456         0        9.73067            0                0.00143599   0.161679                    0.0821525           0               1                          -100     873.067\n",
       "    6        0.17679                     0.000748399        0        5.65644            0                0.000757705  0.0939841                   0.0480725           0               1                          -100     465.644\n",
       "    7        0.234965                    2.0325e-06         0        4.25595            0                1.35038e-05  0.0707144                   0.0361735           0               1                          -100     325.595\n",
       "    8        0.969631                    2.60665e-07        0        1.03132            0                2.61895e-07  0.0171358                   0.00876591          0               1                          -100     3.13202\n",
       "    9        1                           0                  0        1                  0                0            0.0166154                   0.0084997           0               1                          -100     0"
      ]
     },
     "metadata": {},
     "output_type": "display_data"
    },
    {
     "name": "stdout",
     "output_type": "stream",
     "text": [
      "\n",
      "\n",
      "ModelMetricsBinomial: drf\n",
      "** Reported on cross-validation data. **\n",
      "\n",
      "MSE: 0.005593274772224707\n",
      "RMSE: 0.0747881994182552\n",
      "LogLoss: 0.0165053830379851\n",
      "Mean Per-Class Error: 0.00012727290191816287\n",
      "AUC: 0.9999999336749931\n",
      "pr_auc: 0.9997113823260905\n",
      "Gini: 0.9999998673499861\n",
      "Confusion Matrix (Act/Pred) for max f1 @ threshold = 0.014970018447006956: \n"
     ]
    },
    {
     "data": {
      "text/html": [
       "<div style=\"overflow:auto\"><table style=\"width:50%\"><tr><td><b></b></td>\n",
       "<td><b>0</b></td>\n",
       "<td><b>1</b></td>\n",
       "<td><b>Error</b></td>\n",
       "<td><b>Rate</b></td></tr>\n",
       "<tr><td>0</td>\n",
       "<td>208213.0</td>\n",
       "<td>1.0</td>\n",
       "<td>0.0</td>\n",
       "<td> (1.0/208214.0)</td></tr>\n",
       "<tr><td>1</td>\n",
       "<td>1.0</td>\n",
       "<td>3511.0</td>\n",
       "<td>0.0003</td>\n",
       "<td> (1.0/3512.0)</td></tr>\n",
       "<tr><td>Total</td>\n",
       "<td>208214.0</td>\n",
       "<td>3512.0</td>\n",
       "<td>0.0</td>\n",
       "<td> (2.0/211726.0)</td></tr></table></div>"
      ],
      "text/plain": [
       "       0       1     Error    Rate\n",
       "-----  ------  ----  -------  --------------\n",
       "0      208213  1     0        (1.0/208214.0)\n",
       "1      1       3511  0.0003   (1.0/3512.0)\n",
       "Total  208214  3512  0        (2.0/211726.0)"
      ]
     },
     "metadata": {},
     "output_type": "display_data"
    },
    {
     "name": "stdout",
     "output_type": "stream",
     "text": [
      "Maximum Metrics: Maximum metrics at their respective thresholds\n",
      "\n"
     ]
    },
    {
     "data": {
      "text/html": [
       "<div style=\"overflow:auto\"><table style=\"width:50%\"><tr><td><b>metric</b></td>\n",
       "<td><b>threshold</b></td>\n",
       "<td><b>value</b></td>\n",
       "<td><b>idx</b></td></tr>\n",
       "<tr><td>max f1</td>\n",
       "<td>0.0149700</td>\n",
       "<td>0.9997153</td>\n",
       "<td>348.0</td></tr>\n",
       "<tr><td>max f2</td>\n",
       "<td>0.0149700</td>\n",
       "<td>0.9997153</td>\n",
       "<td>348.0</td></tr>\n",
       "<tr><td>max f0point5</td>\n",
       "<td>0.0179785</td>\n",
       "<td>0.9998861</td>\n",
       "<td>347.0</td></tr>\n",
       "<tr><td>max accuracy</td>\n",
       "<td>0.0179785</td>\n",
       "<td>0.9999906</td>\n",
       "<td>347.0</td></tr>\n",
       "<tr><td>max precision</td>\n",
       "<td>0.9897570</td>\n",
       "<td>1.0</td>\n",
       "<td>0.0</td></tr>\n",
       "<tr><td>max recall</td>\n",
       "<td>0.0122635</td>\n",
       "<td>1.0</td>\n",
       "<td>350.0</td></tr>\n",
       "<tr><td>max specificity</td>\n",
       "<td>0.9897570</td>\n",
       "<td>1.0</td>\n",
       "<td>0.0</td></tr>\n",
       "<tr><td>max absolute_mcc</td>\n",
       "<td>0.0149700</td>\n",
       "<td>0.9997105</td>\n",
       "<td>348.0</td></tr>\n",
       "<tr><td>max min_per_class_accuracy</td>\n",
       "<td>0.0122635</td>\n",
       "<td>0.9997455</td>\n",
       "<td>350.0</td></tr>\n",
       "<tr><td>max mean_per_class_accuracy</td>\n",
       "<td>0.0122635</td>\n",
       "<td>0.9998727</td>\n",
       "<td>350.0</td></tr></table></div>"
      ],
      "text/plain": [
       "metric                       threshold    value     idx\n",
       "---------------------------  -----------  --------  -----\n",
       "max f1                       0.01497      0.999715  348\n",
       "max f2                       0.01497      0.999715  348\n",
       "max f0point5                 0.0179785    0.999886  347\n",
       "max accuracy                 0.0179785    0.999991  347\n",
       "max precision                0.989757     1         0\n",
       "max recall                   0.0122635    1         350\n",
       "max specificity              0.989757     1         0\n",
       "max absolute_mcc             0.01497      0.99971   348\n",
       "max min_per_class_accuracy   0.0122635    0.999745  350\n",
       "max mean_per_class_accuracy  0.0122635    0.999873  350"
      ]
     },
     "metadata": {},
     "output_type": "display_data"
    },
    {
     "name": "stdout",
     "output_type": "stream",
     "text": [
      "Gains/Lift Table: Avg response rate:  1.66 %, avg score:  0.79 %\n",
      "\n"
     ]
    },
    {
     "data": {
      "text/html": [
       "<div style=\"overflow:auto\"><table style=\"width:50%\"><tr><td><b></b></td>\n",
       "<td><b>group</b></td>\n",
       "<td><b>cumulative_data_fraction</b></td>\n",
       "<td><b>lower_threshold</b></td>\n",
       "<td><b>lift</b></td>\n",
       "<td><b>cumulative_lift</b></td>\n",
       "<td><b>response_rate</b></td>\n",
       "<td><b>score</b></td>\n",
       "<td><b>cumulative_response_rate</b></td>\n",
       "<td><b>cumulative_score</b></td>\n",
       "<td><b>capture_rate</b></td>\n",
       "<td><b>cumulative_capture_rate</b></td>\n",
       "<td><b>gain</b></td>\n",
       "<td><b>cumulative_gain</b></td></tr>\n",
       "<tr><td></td>\n",
       "<td>1</td>\n",
       "<td>0.0100035</td>\n",
       "<td>0.4913394</td>\n",
       "<td>60.2864465</td>\n",
       "<td>60.2864465</td>\n",
       "<td>1.0</td>\n",
       "<td>0.6006591</td>\n",
       "<td>1.0</td>\n",
       "<td>0.6006591</td>\n",
       "<td>0.6030752</td>\n",
       "<td>0.6030752</td>\n",
       "<td>5928.6446469</td>\n",
       "<td>5928.6446469</td></tr>\n",
       "<tr><td></td>\n",
       "<td>2</td>\n",
       "<td>0.0200259</td>\n",
       "<td>0.0067390</td>\n",
       "<td>39.6038202</td>\n",
       "<td>49.9353774</td>\n",
       "<td>0.6569274</td>\n",
       "<td>0.1613192</td>\n",
       "<td>0.8283019</td>\n",
       "<td>0.3807819</td>\n",
       "<td>0.3969248</td>\n",
       "<td>1.0</td>\n",
       "<td>3860.3820159</td>\n",
       "<td>4893.5377358</td></tr>\n",
       "<tr><td></td>\n",
       "<td>3</td>\n",
       "<td>0.0300010</td>\n",
       "<td>0.0025618</td>\n",
       "<td>0.0</td>\n",
       "<td>33.3321788</td>\n",
       "<td>0.0</td>\n",
       "<td>0.0044250</td>\n",
       "<td>0.5528967</td>\n",
       "<td>0.2556456</td>\n",
       "<td>0.0</td>\n",
       "<td>1.0</td>\n",
       "<td>-100.0</td>\n",
       "<td>3233.2178841</td></tr>\n",
       "<tr><td></td>\n",
       "<td>4</td>\n",
       "<td>0.0435894</td>\n",
       "<td>0.0021012</td>\n",
       "<td>0.0</td>\n",
       "<td>22.9413804</td>\n",
       "<td>0.0</td>\n",
       "<td>0.0021516</td>\n",
       "<td>0.3805396</td>\n",
       "<td>0.1766228</td>\n",
       "<td>0.0</td>\n",
       "<td>1.0</td>\n",
       "<td>-100.0</td>\n",
       "<td>2194.1380431</td></tr>\n",
       "<tr><td></td>\n",
       "<td>5</td>\n",
       "<td>0.0580892</td>\n",
       "<td>0.0019835</td>\n",
       "<td>0.0</td>\n",
       "<td>17.2148955</td>\n",
       "<td>0.0</td>\n",
       "<td>0.0020075</td>\n",
       "<td>0.2855517</td>\n",
       "<td>0.1330364</td>\n",
       "<td>0.0</td>\n",
       "<td>1.0</td>\n",
       "<td>-100.0</td>\n",
       "<td>1621.4895520</td></tr>\n",
       "<tr><td></td>\n",
       "<td>6</td>\n",
       "<td>0.1049328</td>\n",
       "<td>0.0014189</td>\n",
       "<td>0.0</td>\n",
       "<td>9.5299095</td>\n",
       "<td>0.0</td>\n",
       "<td>0.0016977</td>\n",
       "<td>0.1580771</td>\n",
       "<td>0.0744048</td>\n",
       "<td>0.0</td>\n",
       "<td>1.0</td>\n",
       "<td>-100.0</td>\n",
       "<td>852.9909529</td></tr>\n",
       "<tr><td></td>\n",
       "<td>7</td>\n",
       "<td>0.1500146</td>\n",
       "<td>0.0010076</td>\n",
       "<td>0.0</td>\n",
       "<td>6.6660160</td>\n",
       "<td>0.0</td>\n",
       "<td>0.0011150</td>\n",
       "<td>0.1105724</td>\n",
       "<td>0.0523800</td>\n",
       "<td>0.0</td>\n",
       "<td>1.0</td>\n",
       "<td>-100.0</td>\n",
       "<td>566.6015994</td></tr>\n",
       "<tr><td></td>\n",
       "<td>8</td>\n",
       "<td>0.2064933</td>\n",
       "<td>0.0000032</td>\n",
       "<td>0.0</td>\n",
       "<td>4.8427722</td>\n",
       "<td>0.0</td>\n",
       "<td>0.0004533</td>\n",
       "<td>0.0803294</td>\n",
       "<td>0.0381774</td>\n",
       "<td>0.0</td>\n",
       "<td>1.0</td>\n",
       "<td>-100.0</td>\n",
       "<td>384.2772187</td></tr>\n",
       "<tr><td></td>\n",
       "<td>9</td>\n",
       "<td>0.3765858</td>\n",
       "<td>0.0000018</td>\n",
       "<td>0.0</td>\n",
       "<td>2.6554375</td>\n",
       "<td>0.0</td>\n",
       "<td>0.0000019</td>\n",
       "<td>0.0440470</td>\n",
       "<td>0.0209347</td>\n",
       "<td>0.0</td>\n",
       "<td>1.0</td>\n",
       "<td>-100.0</td>\n",
       "<td>165.5437523</td></tr>\n",
       "<tr><td></td>\n",
       "<td>10</td>\n",
       "<td>0.5234407</td>\n",
       "<td>0.0000004</td>\n",
       "<td>0.0</td>\n",
       "<td>1.9104362</td>\n",
       "<td>0.0</td>\n",
       "<td>0.0000004</td>\n",
       "<td>0.0316893</td>\n",
       "<td>0.0150614</td>\n",
       "<td>0.0</td>\n",
       "<td>1.0</td>\n",
       "<td>-100.0</td>\n",
       "<td>91.0436179</td></tr>\n",
       "<tr><td></td>\n",
       "<td>11</td>\n",
       "<td>0.6697099</td>\n",
       "<td>0.0000003</td>\n",
       "<td>0.0</td>\n",
       "<td>1.4931838</td>\n",
       "<td>0.0</td>\n",
       "<td>0.0000003</td>\n",
       "<td>0.0247682</td>\n",
       "<td>0.0117720</td>\n",
       "<td>0.0</td>\n",
       "<td>1.0</td>\n",
       "<td>-100.0</td>\n",
       "<td>49.3183822</td></tr>\n",
       "<tr><td></td>\n",
       "<td>12</td>\n",
       "<td>1.0</td>\n",
       "<td>0.0</td>\n",
       "<td>0.0</td>\n",
       "<td>1.0</td>\n",
       "<td>0.0</td>\n",
       "<td>0.0</td>\n",
       "<td>0.0165875</td>\n",
       "<td>0.0078838</td>\n",
       "<td>0.0</td>\n",
       "<td>1.0</td>\n",
       "<td>-100.0</td>\n",
       "<td>0.0</td></tr></table></div>"
      ],
      "text/plain": [
       "    group    cumulative_data_fraction    lower_threshold    lift     cumulative_lift    response_rate    score        cumulative_response_rate    cumulative_score    capture_rate    cumulative_capture_rate    gain     cumulative_gain\n",
       "--  -------  --------------------------  -----------------  -------  -----------------  ---------------  -----------  --------------------------  ------------------  --------------  -------------------------  -------  -----------------\n",
       "    1        0.0100035                   0.491339           60.2864  60.2864            1                0.600659     1                           0.600659            0.603075        0.603075                   5928.64  5928.64\n",
       "    2        0.0200259                   0.00673898         39.6038  49.9354            0.656927         0.161319     0.828302                    0.380782            0.396925        1                          3860.38  4893.54\n",
       "    3        0.030001                    0.00256176         0        33.3322            0                0.00442505   0.552897                    0.255646            0               1                          -100     3233.22\n",
       "    4        0.0435894                   0.00210119         0        22.9414            0                0.00215165   0.38054                     0.176623            0               1                          -100     2194.14\n",
       "    5        0.0580892                   0.00198348         0        17.2149            0                0.00200755   0.285552                    0.133036            0               1                          -100     1621.49\n",
       "    6        0.104933                    0.0014189          0        9.52991            0                0.00169766   0.158077                    0.0744048           0               1                          -100     852.991\n",
       "    7        0.150015                    0.00100763         0        6.66602            0                0.00111499   0.110572                    0.05238             0               1                          -100     566.602\n",
       "    8        0.206493                    3.19038e-06        0        4.84277            0                0.00045327   0.0803294                   0.0381774           0               1                          -100     384.277\n",
       "    9        0.376586                    1.81931e-06        0        2.65544            0                1.93858e-06  0.044047                    0.0209347           0               1                          -100     165.544\n",
       "    10       0.523441                    4.37715e-07        0        1.91044            0                4.3775e-07   0.0316893                   0.0150614           0               1                          -100     91.0436\n",
       "    11       0.66971                     3.33137e-07        0        1.49318            0                3.33137e-07  0.0247682                   0.011772            0               1                          -100     49.3184\n",
       "    12       1                           0                  0        1                  0                0            0.0165875                   0.00788381          0               1                          -100     0"
      ]
     },
     "metadata": {},
     "output_type": "display_data"
    },
    {
     "name": "stdout",
     "output_type": "stream",
     "text": [
      "\n",
      "Cross-Validation Metrics Summary: \n"
     ]
    },
    {
     "data": {
      "text/html": [
       "<div style=\"overflow:auto\"><table style=\"width:50%\"><tr><td><b></b></td>\n",
       "<td><b>mean</b></td>\n",
       "<td><b>sd</b></td>\n",
       "<td><b>cv_1_valid</b></td>\n",
       "<td><b>cv_2_valid</b></td>\n",
       "<td><b>cv_3_valid</b></td>\n",
       "<td><b>cv_4_valid</b></td>\n",
       "<td><b>cv_5_valid</b></td></tr>\n",
       "<tr><td>accuracy</td>\n",
       "<td>1.0</td>\n",
       "<td>0.0</td>\n",
       "<td>1.0</td>\n",
       "<td>1.0</td>\n",
       "<td>1.0</td>\n",
       "<td>1.0</td>\n",
       "<td>1.0</td></tr>\n",
       "<tr><td>auc</td>\n",
       "<td>1.0</td>\n",
       "<td>0.0</td>\n",
       "<td>1.0</td>\n",
       "<td>1.0</td>\n",
       "<td>1.0</td>\n",
       "<td>1.0</td>\n",
       "<td>1.0</td></tr>\n",
       "<tr><td>err</td>\n",
       "<td>0.0</td>\n",
       "<td>0.0</td>\n",
       "<td>0.0</td>\n",
       "<td>0.0</td>\n",
       "<td>0.0</td>\n",
       "<td>0.0</td>\n",
       "<td>0.0</td></tr>\n",
       "<tr><td>err_count</td>\n",
       "<td>0.0</td>\n",
       "<td>0.0</td>\n",
       "<td>0.0</td>\n",
       "<td>0.0</td>\n",
       "<td>0.0</td>\n",
       "<td>0.0</td>\n",
       "<td>0.0</td></tr>\n",
       "<tr><td>f0point5</td>\n",
       "<td>1.0</td>\n",
       "<td>0.0</td>\n",
       "<td>1.0</td>\n",
       "<td>1.0</td>\n",
       "<td>1.0</td>\n",
       "<td>1.0</td>\n",
       "<td>1.0</td></tr>\n",
       "<tr><td>f1</td>\n",
       "<td>1.0</td>\n",
       "<td>0.0</td>\n",
       "<td>1.0</td>\n",
       "<td>1.0</td>\n",
       "<td>1.0</td>\n",
       "<td>1.0</td>\n",
       "<td>1.0</td></tr>\n",
       "<tr><td>f2</td>\n",
       "<td>1.0</td>\n",
       "<td>0.0</td>\n",
       "<td>1.0</td>\n",
       "<td>1.0</td>\n",
       "<td>1.0</td>\n",
       "<td>1.0</td>\n",
       "<td>1.0</td></tr>\n",
       "<tr><td>lift_top_group</td>\n",
       "<td>60.327164</td>\n",
       "<td>1.1163116</td>\n",
       "<td>58.81389</td>\n",
       "<td>59.223778</td>\n",
       "<td>59.223778</td>\n",
       "<td>61.547966</td>\n",
       "<td>62.82641</td></tr>\n",
       "<tr><td>logloss</td>\n",
       "<td>0.0165054</td>\n",
       "<td>0.0005679</td>\n",
       "<td>0.0164761</td>\n",
       "<td>0.0169776</td>\n",
       "<td>0.0172996</td>\n",
       "<td>0.0167826</td>\n",
       "<td>0.0149910</td></tr>\n",
       "<tr><td>max_per_class_error</td>\n",
       "<td>0.0</td>\n",
       "<td>0.0</td>\n",
       "<td>0.0</td>\n",
       "<td>0.0</td>\n",
       "<td>0.0</td>\n",
       "<td>0.0</td>\n",
       "<td>0.0</td></tr>\n",
       "<tr><td>mcc</td>\n",
       "<td>1.0</td>\n",
       "<td>0.0</td>\n",
       "<td>1.0</td>\n",
       "<td>1.0</td>\n",
       "<td>1.0</td>\n",
       "<td>1.0</td>\n",
       "<td>1.0</td></tr>\n",
       "<tr><td>mean_per_class_accuracy</td>\n",
       "<td>1.0</td>\n",
       "<td>0.0</td>\n",
       "<td>1.0</td>\n",
       "<td>1.0</td>\n",
       "<td>1.0</td>\n",
       "<td>1.0</td>\n",
       "<td>1.0</td></tr>\n",
       "<tr><td>mean_per_class_error</td>\n",
       "<td>0.0</td>\n",
       "<td>0.0</td>\n",
       "<td>0.0</td>\n",
       "<td>0.0</td>\n",
       "<td>0.0</td>\n",
       "<td>0.0</td>\n",
       "<td>0.0</td></tr>\n",
       "<tr><td>mse</td>\n",
       "<td>0.0055933</td>\n",
       "<td>0.0001955</td>\n",
       "<td>0.0055066</td>\n",
       "<td>0.0058439</td>\n",
       "<td>0.0057814</td>\n",
       "<td>0.0057448</td>\n",
       "<td>0.0050897</td></tr>\n",
       "<tr><td>precision</td>\n",
       "<td>1.0</td>\n",
       "<td>0.0</td>\n",
       "<td>1.0</td>\n",
       "<td>1.0</td>\n",
       "<td>1.0</td>\n",
       "<td>1.0</td>\n",
       "<td>1.0</td></tr>\n",
       "<tr><td>r2</td>\n",
       "<td>0.6571712</td>\n",
       "<td>0.0094262</td>\n",
       "<td>0.6705349</td>\n",
       "<td>0.6479570</td>\n",
       "<td>0.6517242</td>\n",
       "<td>0.6405786</td>\n",
       "<td>0.6750612</td></tr>\n",
       "<tr><td>recall</td>\n",
       "<td>1.0</td>\n",
       "<td>0.0</td>\n",
       "<td>1.0</td>\n",
       "<td>1.0</td>\n",
       "<td>1.0</td>\n",
       "<td>1.0</td>\n",
       "<td>1.0</td></tr>\n",
       "<tr><td>rmse</td>\n",
       "<td>0.0747648</td>\n",
       "<td>0.0013239</td>\n",
       "<td>0.0742063</td>\n",
       "<td>0.0764455</td>\n",
       "<td>0.0760354</td>\n",
       "<td>0.0757946</td>\n",
       "<td>0.0713421</td></tr>\n",
       "<tr><td>specificity</td>\n",
       "<td>1.0</td>\n",
       "<td>0.0</td>\n",
       "<td>1.0</td>\n",
       "<td>1.0</td>\n",
       "<td>1.0</td>\n",
       "<td>1.0</td>\n",
       "<td>1.0</td></tr></table></div>"
      ],
      "text/plain": [
       "                         mean        sd           cv_1_valid    cv_2_valid    cv_3_valid    cv_4_valid    cv_5_valid\n",
       "-----------------------  ----------  -----------  ------------  ------------  ------------  ------------  ------------\n",
       "accuracy                 1           0            1             1             1             1             1\n",
       "auc                      1           0            1             1             1             1             1\n",
       "err                      0           0            0             0             0             0             0\n",
       "err_count                0           0            0             0             0             0             0\n",
       "f0point5                 1           0            1             1             1             1             1\n",
       "f1                       1           0            1             1             1             1             1\n",
       "f2                       1           0            1             1             1             1             1\n",
       "lift_top_group           60.3272     1.11631      58.8139       59.2238       59.2238       61.548        62.8264\n",
       "logloss                  0.0165054   0.000567873  0.0164761     0.0169776     0.0172996     0.0167826     0.014991\n",
       "max_per_class_error      0           0            0             0             0             0             0\n",
       "mcc                      1           0            1             1             1             1             1\n",
       "mean_per_class_accuracy  1           0            1             1             1             1             1\n",
       "mean_per_class_error     0           0            0             0             0             0             0\n",
       "mse                      0.00559327  0.000195521  0.00550658    0.00584391    0.00578138    0.00574482    0.00508969\n",
       "precision                1           0            1             1             1             1             1\n",
       "r2                       0.657171    0.00942616   0.670535      0.647957      0.651724      0.640579      0.675061\n",
       "recall                   1           0            1             1             1             1             1\n",
       "rmse                     0.0747648   0.00132388   0.0742063     0.0764455     0.0760354     0.0757946     0.0713421\n",
       "specificity              1           0            1             1             1             1             1"
      ]
     },
     "metadata": {},
     "output_type": "display_data"
    },
    {
     "name": "stdout",
     "output_type": "stream",
     "text": [
      "Scoring History: \n"
     ]
    },
    {
     "data": {
      "text/html": [
       "<div style=\"overflow:auto\"><table style=\"width:50%\"><tr><td><b></b></td>\n",
       "<td><b>timestamp</b></td>\n",
       "<td><b>duration</b></td>\n",
       "<td><b>number_of_trees</b></td>\n",
       "<td><b>training_rmse</b></td>\n",
       "<td><b>training_logloss</b></td>\n",
       "<td><b>training_auc</b></td>\n",
       "<td><b>training_pr_auc</b></td>\n",
       "<td><b>training_lift</b></td>\n",
       "<td><b>training_classification_error</b></td>\n",
       "<td><b>validation_rmse</b></td>\n",
       "<td><b>validation_logloss</b></td>\n",
       "<td><b>validation_auc</b></td>\n",
       "<td><b>validation_pr_auc</b></td>\n",
       "<td><b>validation_lift</b></td>\n",
       "<td><b>validation_classification_error</b></td></tr>\n",
       "<tr><td></td>\n",
       "<td>2018-12-18 00:50:32</td>\n",
       "<td> 1 min 17.878 sec</td>\n",
       "<td>0.0</td>\n",
       "<td>nan</td>\n",
       "<td>nan</td>\n",
       "<td>nan</td>\n",
       "<td>nan</td>\n",
       "<td>nan</td>\n",
       "<td>nan</td>\n",
       "<td>nan</td>\n",
       "<td>nan</td>\n",
       "<td>nan</td>\n",
       "<td>nan</td>\n",
       "<td>nan</td>\n",
       "<td>nan</td></tr>\n",
       "<tr><td></td>\n",
       "<td>2018-12-18 00:50:35</td>\n",
       "<td> 1 min 21.548 sec</td>\n",
       "<td>1.0</td>\n",
       "<td>0.1644410</td>\n",
       "<td>0.1240961</td>\n",
       "<td>0.9975811</td>\n",
       "<td>0.8699698</td>\n",
       "<td>1.9996673</td>\n",
       "<td>0.0032680</td>\n",
       "<td>0.0679628</td>\n",
       "<td>0.0325642</td>\n",
       "<td>0.9795802</td>\n",
       "<td>0.7456979</td>\n",
       "<td>45.3550883</td>\n",
       "<td>0.0059371</td></tr>\n",
       "<tr><td></td>\n",
       "<td>2018-12-18 00:50:36</td>\n",
       "<td> 1 min 21.939 sec</td>\n",
       "<td>2.0</td>\n",
       "<td>0.1125375</td>\n",
       "<td>0.0628744</td>\n",
       "<td>0.9996018</td>\n",
       "<td>0.5312809</td>\n",
       "<td>2.0000090</td>\n",
       "<td>0.0013210</td>\n",
       "<td>0.0308073</td>\n",
       "<td>0.0048073</td>\n",
       "<td>1.0</td>\n",
       "<td>0.8946015</td>\n",
       "<td>60.1850900</td>\n",
       "<td>0.0</td></tr>\n",
       "<tr><td></td>\n",
       "<td>2018-12-18 00:50:36</td>\n",
       "<td> 1 min 22.635 sec</td>\n",
       "<td>3.0</td>\n",
       "<td>0.1135025</td>\n",
       "<td>0.0590266</td>\n",
       "<td>0.9998165</td>\n",
       "<td>0.4819567</td>\n",
       "<td>2.0000027</td>\n",
       "<td>0.0012474</td>\n",
       "<td>0.0405133</td>\n",
       "<td>0.0070701</td>\n",
       "<td>0.9999819</td>\n",
       "<td>0.9526994</td>\n",
       "<td>60.1850900</td>\n",
       "<td>0.0003844</td></tr>\n",
       "<tr><td></td>\n",
       "<td>2018-12-18 00:50:37</td>\n",
       "<td> 1 min 23.299 sec</td>\n",
       "<td>4.0</td>\n",
       "<td>0.1290151</td>\n",
       "<td>0.0754174</td>\n",
       "<td>0.9997741</td>\n",
       "<td>0.6052325</td>\n",
       "<td>2.0000190</td>\n",
       "<td>0.0013201</td>\n",
       "<td>0.0447591</td>\n",
       "<td>0.0082472</td>\n",
       "<td>0.9999506</td>\n",
       "<td>0.9922634</td>\n",
       "<td>60.1850900</td>\n",
       "<td>0.0008115</td></tr>\n",
       "<tr><td></td>\n",
       "<td>2018-12-18 00:50:38</td>\n",
       "<td> 1 min 24.033 sec</td>\n",
       "<td>5.0</td>\n",
       "<td>0.1318415</td>\n",
       "<td>0.0780778</td>\n",
       "<td>0.9998297</td>\n",
       "<td>0.6286910</td>\n",
       "<td>2.0000480</td>\n",
       "<td>0.0012231</td>\n",
       "<td>0.0473314</td>\n",
       "<td>0.0090216</td>\n",
       "<td>0.9999255</td>\n",
       "<td>0.9911408</td>\n",
       "<td>60.1850900</td>\n",
       "<td>0.0005553</td></tr>\n",
       "<tr><td></td>\n",
       "<td>2018-12-18 00:50:38</td>\n",
       "<td> 1 min 24.457 sec</td>\n",
       "<td>6.0</td>\n",
       "<td>0.1183792</td>\n",
       "<td>0.0661659</td>\n",
       "<td>0.9999313</td>\n",
       "<td>0.6025551</td>\n",
       "<td>2.0000510</td>\n",
       "<td>0.0007359</td>\n",
       "<td>0.0458169</td>\n",
       "<td>0.0081060</td>\n",
       "<td>0.9999854</td>\n",
       "<td>0.9940724</td>\n",
       "<td>60.1850900</td>\n",
       "<td>0.0002990</td></tr>\n",
       "<tr><td></td>\n",
       "<td>2018-12-18 00:50:42</td>\n",
       "<td> 1 min 28.678 sec</td>\n",
       "<td>16.0</td>\n",
       "<td>0.2975046</td>\n",
       "<td>0.2407747</td>\n",
       "<td>0.9999902</td>\n",
       "<td>0.8289278</td>\n",
       "<td>2.0000207</td>\n",
       "<td>0.0001298</td>\n",
       "<td>0.0727484</td>\n",
       "<td>0.0159133</td>\n",
       "<td>1.0</td>\n",
       "<td>0.9922879</td>\n",
       "<td>60.1850900</td>\n",
       "<td>0.0</td></tr>\n",
       "<tr><td></td>\n",
       "<td>2018-12-18 00:50:45</td>\n",
       "<td> 1 min 30.863 sec</td>\n",
       "<td>20.0</td>\n",
       "<td>0.2782418</td>\n",
       "<td>0.2178258</td>\n",
       "<td>0.9999889</td>\n",
       "<td>0.9199815</td>\n",
       "<td>1.9999567</td>\n",
       "<td>0.0000961</td>\n",
       "<td>0.0712905</td>\n",
       "<td>0.0156797</td>\n",
       "<td>0.9999997</td>\n",
       "<td>0.9974095</td>\n",
       "<td>60.1850900</td>\n",
       "<td>0.0000427</td></tr></table></div>"
      ],
      "text/plain": [
       "    timestamp            duration          number_of_trees    training_rmse    training_logloss    training_auc    training_pr_auc    training_lift    training_classification_error    validation_rmse    validation_logloss    validation_auc    validation_pr_auc    validation_lift    validation_classification_error\n",
       "--  -------------------  ----------------  -----------------  ---------------  ------------------  --------------  -----------------  ---------------  -------------------------------  -----------------  --------------------  ----------------  -------------------  -----------------  ---------------------------------\n",
       "    2018-12-18 00:50:32  1 min 17.878 sec  0                  nan              nan                 nan             nan                nan              nan                              nan                nan                   nan               nan                  nan                nan\n",
       "    2018-12-18 00:50:35  1 min 21.548 sec  1                  0.164441         0.124096            0.997581        0.86997            1.99967          0.00326795                       0.0679628          0.0325642             0.97958           0.745698             45.3551            0.00593713\n",
       "    2018-12-18 00:50:36  1 min 21.939 sec  2                  0.112538         0.0628744           0.999602        0.531281           2.00001          0.00132096                       0.0308073          0.0048073             1                 0.894602             60.1851            0\n",
       "    2018-12-18 00:50:36  1 min 22.635 sec  3                  0.113502         0.0590266           0.999817        0.481957           2                0.00124745                       0.0405133          0.0070701             0.999982          0.952699             60.1851            0.000384418\n",
       "    2018-12-18 00:50:37  1 min 23.299 sec  4                  0.129015         0.0754174           0.999774        0.605233           2.00002          0.00132007                       0.0447591          0.00824723            0.999951          0.992263             60.1851            0.00081155\n",
       "    2018-12-18 00:50:38  1 min 24.033 sec  5                  0.131841         0.0780778           0.99983         0.628691           2.00005          0.00122309                       0.0473314          0.0090216             0.999926          0.991141             60.1851            0.000555271\n",
       "    2018-12-18 00:50:38  1 min 24.457 sec  6                  0.118379         0.0661659           0.999931        0.602555           2.00005          0.000735933                      0.0458169          0.00810605            0.999985          0.994072             60.1851            0.000298992\n",
       "    2018-12-18 00:50:42  1 min 28.678 sec  16                 0.297505         0.240775            0.99999         0.828928           2.00002          0.000129758                      0.0727484          0.0159133             1                 0.992288             60.1851            0\n",
       "    2018-12-18 00:50:45  1 min 30.863 sec  20                 0.278242         0.217826            0.999989        0.919982           1.99996          9.60666e-05                      0.0712905          0.0156797             1                 0.997409             60.1851            4.27131e-05"
      ]
     },
     "metadata": {},
     "output_type": "display_data"
    },
    {
     "name": "stdout",
     "output_type": "stream",
     "text": [
      "Variable Importances: \n"
     ]
    },
    {
     "data": {
      "text/html": [
       "<div style=\"overflow:auto\"><table style=\"width:50%\"><tr><td><b>variable</b></td>\n",
       "<td><b>relative_importance</b></td>\n",
       "<td><b>scaled_importance</b></td>\n",
       "<td><b>percentage</b></td></tr>\n",
       "<tr><td>ConvertedDate</td>\n",
       "<td>299333.2812500</td>\n",
       "<td>1.0</td>\n",
       "<td>0.1526484</td></tr>\n",
       "<tr><td>Status_Group__c</td>\n",
       "<td>236178.3281250</td>\n",
       "<td>0.7890146</td>\n",
       "<td>0.1204418</td></tr>\n",
       "<tr><td>Age_Converted__c</td>\n",
       "<td>215829.5468750</td>\n",
       "<td>0.7210342</td>\n",
       "<td>0.1100647</td></tr>\n",
       "<tr><td>Status</td>\n",
       "<td>201666.5468750</td>\n",
       "<td>0.6737191</td>\n",
       "<td>0.1028422</td></tr>\n",
       "<tr><td>IsConverted</td>\n",
       "<td>200049.4062500</td>\n",
       "<td>0.6683166</td>\n",
       "<td>0.1020175</td></tr>\n",
       "<tr><td>---</td>\n",
       "<td>---</td>\n",
       "<td>---</td>\n",
       "<td>---</td></tr>\n",
       "<tr><td>Territory_Geo__c</td>\n",
       "<td>0.0</td>\n",
       "<td>0.0</td>\n",
       "<td>0.0</td></tr>\n",
       "<tr><td>Work_with_reseller__c</td>\n",
       "<td>0.0</td>\n",
       "<td>0.0</td>\n",
       "<td>0.0</td></tr>\n",
       "<tr><td>ddc_prospector__Sourced_from_Data_com__c</td>\n",
       "<td>0.0</td>\n",
       "<td>0.0</td>\n",
       "<td>0.0</td></tr>\n",
       "<tr><td>rvpe__IsDealRegistration__c</td>\n",
       "<td>0.0</td>\n",
       "<td>0.0</td>\n",
       "<td>0.0</td></tr>\n",
       "<tr><td>Address.postalCode</td>\n",
       "<td>0.0</td>\n",
       "<td>0.0</td>\n",
       "<td>0.0</td></tr></table></div>"
      ],
      "text/plain": [
       "variable                                  relative_importance    scaled_importance    percentage\n",
       "----------------------------------------  ---------------------  -------------------  -------------------\n",
       "ConvertedDate                             299333.28125           1.0                  0.1526484340446237\n",
       "Status_Group__c                           236178.328125          0.7890145965017046   0.12044184259433582\n",
       "Age_Converted__c                          215829.546875          0.7210342464216046   0.11006474860880326\n",
       "Status                                    201666.546875          0.6737190934227264   0.10284216459694272\n",
       "IsConverted                               200049.40625           0.6683166182343782   0.10201748521947643\n",
       "---                                       ---                    ---                  ---\n",
       "Territory_Geo__c                          0.0                    0.0                  0.0\n",
       "Work_with_reseller__c                     0.0                    0.0                  0.0\n",
       "ddc_prospector__Sourced_from_Data_com__c  0.0                    0.0                  0.0\n",
       "rvpe__IsDealRegistration__c               0.0                    0.0                  0.0\n",
       "Address.postalCode                        0.0                    0.0                  0.0"
      ]
     },
     "metadata": {},
     "output_type": "display_data"
    },
    {
     "name": "stdout",
     "output_type": "stream",
     "text": [
      "\n",
      "See the whole table with table.as_data_frame()\n"
     ]
    },
    {
     "data": {
      "text/plain": []
     },
     "execution_count": 105,
     "metadata": {},
     "output_type": "execute_result"
    }
   ],
   "source": [
    "aml.leader"
   ]
  },
  {
   "cell_type": "code",
   "execution_count": 106,
   "metadata": {},
   "outputs": [
    {
     "data": {
      "text/plain": [
       "'drf'"
      ]
     },
     "execution_count": 106,
     "metadata": {},
     "output_type": "execute_result"
    }
   ],
   "source": [
    "aml.leader.algo"
   ]
  },
  {
   "cell_type": "code",
   "execution_count": 107,
   "metadata": {},
   "outputs": [
    {
     "data": {
      "text/plain": [
       "['F0point5',\n",
       " 'F1',\n",
       " 'F2',\n",
       " '__class__',\n",
       " '__delattr__',\n",
       " '__dict__',\n",
       " '__dir__',\n",
       " '__doc__',\n",
       " '__eq__',\n",
       " '__format__',\n",
       " '__ge__',\n",
       " '__getattr__',\n",
       " '__getattribute__',\n",
       " '__gt__',\n",
       " '__hash__',\n",
       " '__init__',\n",
       " '__init_subclass__',\n",
       " '__le__',\n",
       " '__lt__',\n",
       " '__module__',\n",
       " '__ne__',\n",
       " '__new__',\n",
       " '__reduce__',\n",
       " '__reduce_ex__',\n",
       " '__repr__',\n",
       " '__setattr__',\n",
       " '__sizeof__',\n",
       " '__str__',\n",
       " '__subclasshook__',\n",
       " '__weakref__',\n",
       " '_bc',\n",
       " '_bcin',\n",
       " '_check_and_save_parm',\n",
       " '_check_targets',\n",
       " '_compute_algo',\n",
       " '_estimator_type',\n",
       " '_future',\n",
       " '_get_metrics',\n",
       " '_have_mojo',\n",
       " '_have_pojo',\n",
       " '_id',\n",
       " '_is_xvalidated',\n",
       " '_job',\n",
       " '_keyify_if_h2oframe',\n",
       " '_metrics_class',\n",
       " '_model_json',\n",
       " '_parms',\n",
       " '_plot',\n",
       " '_requires_training_frame',\n",
       " '_resolve_model',\n",
       " '_verify_training_frame_params',\n",
       " '_xval_keys',\n",
       " 'accuracy',\n",
       " 'actual_params',\n",
       " 'aic',\n",
       " 'algo',\n",
       " 'auc',\n",
       " 'balance_classes',\n",
       " 'biases',\n",
       " 'binomial_double_trees',\n",
       " 'build_tree_one_node',\n",
       " 'calibrate_model',\n",
       " 'calibration_frame',\n",
       " 'categorical_encoding',\n",
       " 'catoffsets',\n",
       " 'checkpoint',\n",
       " 'class_sampling_factors',\n",
       " 'coef',\n",
       " 'coef_norm',\n",
       " 'col_sample_rate_change_per_level',\n",
       " 'col_sample_rate_per_tree',\n",
       " 'confusion_matrix',\n",
       " 'convert_H2OXGBoostParams_2_XGBoostParams',\n",
       " 'cross_validation_fold_assignment',\n",
       " 'cross_validation_holdout_predictions',\n",
       " 'cross_validation_metrics_summary',\n",
       " 'cross_validation_models',\n",
       " 'cross_validation_predictions',\n",
       " 'custom_metric_func',\n",
       " 'deepfeatures',\n",
       " 'default_params',\n",
       " 'distribution',\n",
       " 'download_mojo',\n",
       " 'download_pojo',\n",
       " 'error',\n",
       " 'fallout',\n",
       " 'find_idx_by_threshold',\n",
       " 'find_threshold_by_max_metric',\n",
       " 'fit',\n",
       " 'fnr',\n",
       " 'fold_assignment',\n",
       " 'fold_column',\n",
       " 'fpr',\n",
       " 'full_parameters',\n",
       " 'gains_lift',\n",
       " 'get_params',\n",
       " 'get_xval_models',\n",
       " 'gini',\n",
       " 'have_mojo',\n",
       " 'have_pojo',\n",
       " 'histogram_type',\n",
       " 'ignore_const_cols',\n",
       " 'ignored_columns',\n",
       " 'is_cross_validated',\n",
       " 'join',\n",
       " 'keep_cross_validation_fold_assignment',\n",
       " 'keep_cross_validation_models',\n",
       " 'keep_cross_validation_predictions',\n",
       " 'logloss',\n",
       " 'mae',\n",
       " 'max_after_balance_size',\n",
       " 'max_confusion_matrix_size',\n",
       " 'max_depth',\n",
       " 'max_hit_ratio_k',\n",
       " 'max_per_class_error',\n",
       " 'max_runtime_secs',\n",
       " 'mcc',\n",
       " 'mean_per_class_error',\n",
       " 'mean_residual_deviance',\n",
       " 'metric',\n",
       " 'min_rows',\n",
       " 'min_split_improvement',\n",
       " 'missrate',\n",
       " 'mixin',\n",
       " 'model_id',\n",
       " 'model_performance',\n",
       " 'mse',\n",
       " 'mtries',\n",
       " 'nbins',\n",
       " 'nbins_cats',\n",
       " 'nbins_top_level',\n",
       " 'nfolds',\n",
       " 'normmul',\n",
       " 'normsub',\n",
       " 'ntrees',\n",
       " 'null_degrees_of_freedom',\n",
       " 'null_deviance',\n",
       " 'offset_column',\n",
       " 'params',\n",
       " 'parms',\n",
       " 'partial_plot',\n",
       " 'plot',\n",
       " 'pprint_coef',\n",
       " 'precision',\n",
       " 'predict',\n",
       " 'predict_leaf_node_assignment',\n",
       " 'r2',\n",
       " 'r2_stopping',\n",
       " 'recall',\n",
       " 'residual_degrees_of_freedom',\n",
       " 'residual_deviance',\n",
       " 'respmul',\n",
       " 'response_column',\n",
       " 'respsub',\n",
       " 'rmse',\n",
       " 'rmsle',\n",
       " 'roc',\n",
       " 'rotation',\n",
       " 'sample_rate',\n",
       " 'sample_rate_per_class',\n",
       " 'save_model_details',\n",
       " 'save_mojo',\n",
       " 'score_each_iteration',\n",
       " 'score_history',\n",
       " 'score_tree_interval',\n",
       " 'scoring_history',\n",
       " 'seed',\n",
       " 'sensitivity',\n",
       " 'set_params',\n",
       " 'show',\n",
       " 'specificity',\n",
       " 'staged_predict_proba',\n",
       " 'start',\n",
       " 'std_coef_plot',\n",
       " 'stopping_metric',\n",
       " 'stopping_rounds',\n",
       " 'stopping_tolerance',\n",
       " 'summary',\n",
       " 'tnr',\n",
       " 'tpr',\n",
       " 'train',\n",
       " 'training_frame',\n",
       " 'type',\n",
       " 'validation_frame',\n",
       " 'varimp',\n",
       " 'varimp_plot',\n",
       " 'weights',\n",
       " 'weights_column',\n",
       " 'xval_keys',\n",
       " 'xvals']"
      ]
     },
     "execution_count": 107,
     "metadata": {},
     "output_type": "execute_result"
    }
   ],
   "source": [
    "dir(aml.leader)"
   ]
  },
  {
   "cell_type": "markdown",
   "metadata": {},
   "source": [
    "Examine the variable importance of the metalearner (combiner) algorithm in the ensemble.  This shows us how much each base learner is contributing to the ensemble. The AutoML Stacked Ensembles use the default metalearner algorithm (GLM with non-negative weights), so the variable importance of the metalearner is actually the standardized coefficient magnitudes of the GLM. "
   ]
  },
  {
   "cell_type": "markdown",
   "metadata": {},
   "source": [
    "## Save Leader Model\n",
    "\n",
    "There are two ways to save the leader model -- binary format and MOJO format.  If you're taking your leader model to production, then we'd suggest the MOJO format since it's optimized for production use."
   ]
  },
  {
   "cell_type": "code",
   "execution_count": 108,
   "metadata": {},
   "outputs": [
    {
     "data": {
      "text/plain": [
       "'/Users/bear/Downloads/code/models/DRF_1_AutoML_20181218_004911'"
      ]
     },
     "execution_count": 108,
     "metadata": {},
     "output_type": "execute_result"
    }
   ],
   "source": [
    "h2o.save_model(aml.leader, path = \"./models\")"
   ]
  },
  {
   "cell_type": "code",
   "execution_count": 109,
   "metadata": {},
   "outputs": [
    {
     "data": {
      "text/plain": [
       "'/Users/bear/Downloads/code/models/DRF_1_AutoML_20181218_004911.zip'"
      ]
     },
     "execution_count": 109,
     "metadata": {},
     "output_type": "execute_result"
    }
   ],
   "source": [
    "aml.leader.download_mojo(path = \"./models\")"
   ]
  },
  {
   "cell_type": "markdown",
   "metadata": {},
   "source": [
    "## Making predictions\n",
    "\n",
    "If one wants predictions the user will do this on new data.\n",
    "\n",
    "Here we are taking 10% of original file just to show the syntax"
   ]
  },
  {
   "cell_type": "code",
   "execution_count": 110,
   "metadata": {},
   "outputs": [
    {
     "data": {
      "text/plain": [
       "'/Users/bear/Downloads/code/XLSX/Vizadata+Lead+Object+Production+Data+v3.csv'"
      ]
     },
     "execution_count": 110,
     "metadata": {},
     "output_type": "execute_result"
    }
   ],
   "source": [
    "prod_path"
   ]
  },
  {
   "cell_type": "code",
   "execution_count": 111,
   "metadata": {},
   "outputs": [
    {
     "name": "stdout",
     "output_type": "stream",
     "text": [
      "Parse progress: |█████████████████████████████████████████████████████████| 100%\n"
     ]
    }
   ],
   "source": [
    "prod = h2o.import_file(prod_path)"
   ]
  },
  {
   "cell_type": "code",
   "execution_count": 112,
   "metadata": {
    "scrolled": true
   },
   "outputs": [
    {
     "name": "stdout",
     "output_type": "stream",
     "text": [
      "Rows:226337\n",
      "Cols:158\n",
      "\n",
      "\n"
     ]
    },
    {
     "data": {
      "text/html": [
       "<table>\n",
       "<thead>\n",
       "<tr><th>       </th><th>Id                </th><th>Actively_being_sequenced__c  </th><th>Activity_Count__c  </th><th>Activity_First__c  </th><th>Activity_Next__c  </th><th>Activity_SLA__c  </th><th>Activity_Sales_Post_BDR__c  </th><th>Activity_Sales_Post_SRL__c  </th><th>Activity_Status__c            </th><th>Age_Converted__c  </th><th>Age_QUAL_to_SRL__c  </th><th>Age_SAL_Days__c   </th><th>Age_Sales_Ready_No_Act__c  </th><th>Age_Sales_Ready__c  </th><th>Alt_Contact_Info__c  </th><th>AnnualRevenue    </th><th>Apple_Source__c  </th><th>Approved_Date__c  </th><th>Approved_Deal_Registration__c  </th><th>Apps_Content__c  </th><th>BDR_Activity__c  </th><th>BYO_Interest__c  </th><th>City         </th><th>CleanStatus  </th><th>Company                           </th><th>Contact_URL__c  </th><th>ConvertedDate  </th><th>Country      </th><th>CreatedDate        </th><th>Created_Year__c  </th><th>CurrencyIsoCode  </th><th>DSCORGPKG__DiscoverOrg_Created_On__c  </th><th>DSCORGPKG__Email_Invalid__c  </th><th>DSCORGPKG__External_DiscoverOrg_Id__c  </th><th>DSCORGPKG__department__c  </th><th>Date_Time_MQL__c  </th><th>Date_Time_SAL__c  </th><th>Date_Time_SRLYear__c  </th><th>Date_Time_SRL_Week__c  </th><th>Date_Time_SRL__c  </th><th>Date_Time_SRejectedL__c  </th><th>Disqualification_Reason_del__c  </th><th>Domain__c         </th><th>Email                           </th><th>EmailBouncedDate   </th><th>EmailBouncedReason       </th><th>FirstName  </th><th>GCLID__c  </th><th>Goals__c  </th><th>Industry                            </th><th>IsConverted  </th><th>IsDeleted  </th><th>IsUnreadByOwner  </th><th>Is_Budget_Available__c  </th><th>Jigsaw           </th><th>LATAM_EDU__c  </th><th>LastActivityDate   </th><th>LastModifiedDate   </th><th>LastName  </th><th>LastReferencedDate  </th><th>LastViewedDate  </th><th>Last_Activity_Date__c  </th><th>LeadSource  </th><th>Lead_Bucket__c  </th><th>Lead_Disqualification_Comments__c  </th><th>Lead_Notes__c  </th><th>Lead_Source_Detail__c           </th><th>MSP_Interest__c  </th><th>Marketing_Suspended__c  </th><th>MobilePhone  </th><th>Name             </th><th>No_of_Employees__c  </th><th>NumberOfEmployees  </th><th>Number_of_active_sequences__c  </th><th>Opted_Out__c  </th><th>Outreach_Caution__c  </th><th>Outreach_Stage__c       </th><th>PRO6senseUpdatedDate__c  </th><th>PROaccountBuyingStage6sense__c  </th><th>PROaccountIntentScore6sense__c  </th><th>PROaccountProfileFit6sense__c  </th><th>PROcontactGrade6sense__c  </th><th>PROcontactIntentScore6sense__c  </th><th>PROcontactProfileFit6sense__c  </th><th>PROtranslatedcontactrank__c  </th><th>Partner_Account__c  </th><th>Pipeline_Bucket__c  </th><th>PostalCode        </th><th>Potential_Account_Match_Customer_Status__c  </th><th>Potential_Account_Territory__c  </th><th>Preferred_Language__c  </th><th>Region__c  </th><th>Reseller_Company_Name__c  </th><th>Reseller_Company__c  </th><th>Reseller_Contact_Email__c  </th><th>Reseller_Contact_Name__c  </th><th>Reseller_Contact_Phone__c  </th><th>Reseller_Interest__c  </th><th>Role_Within_Company__c  </th><th>SLA_Start__c  </th><th>Sales_Marketing__c  </th><th>Sales_Outreach_Suspended__c  </th><th>Salutation  </th><th>Solution_Requested__c  </th><th>State  </th><th>Status         </th><th>Status_Group__c  </th><th>Status_QUAL__c  </th><th>Status_SAL__c  </th><th>Status_SRL__c  </th><th>Strategic__c  </th><th>SystemModstamp     </th><th>Territory_16__c           </th><th>Territory_EVG__c  </th><th>Territory_GEO_VERT__c  </th><th>Territory_Geo2__c  </th><th>Territory_Geo__c  </th><th>Territory_Renewal_ISS__c  </th><th>Territory_Segment__c  </th><th>Timeframe__c  </th><th>Title                                              </th><th>Type_of_Organization__c  </th><th>Vertical_Group__c  </th><th>Warm_Handoff__c  </th><th>Website            </th><th>Work_with_reseller__c  </th><th>X6sense_Temp__c  </th><th>ddc_prospector__Sourced_from_Data_com__c  </th><th>mkto71_Acquisition_Date__c  </th><th>mkto71_Acquisition_Program_Id__c  </th><th>mkto71_Acquisition_Program__c  </th><th>mkto71_BInferred_City__c  </th><th>mkto71_Inferred_Company__c  </th><th>mkto71_Inferred_Country__c  </th><th>mkto71_Inferred_Metropolitan_Area__c  </th><th>mkto71_Inferred_Phone_Area_Code__c  </th><th>mkto71_Inferred_Postal_Code__c  </th><th>mkto71_Inferred_State_Region__c  </th><th>mkto71_Lead_Score__c  </th><th>mkto71_Original_Referrer__c  </th><th>mkto71_Original_Search_Engine__c  </th><th>mkto71_Original_Search_Phrase__c  </th><th>mkto71_Original_Source_Info__c                         </th><th>mkto71_Original_Source_Type__c  </th><th>rvpe__IsDealRegistration__c  </th><th>rvpe__PartnerLastModifiedDate__c  </th><th>utm_campaign__c  </th><th>utm_content_c__c  </th><th>utm_medium__c  </th><th>utm_source__c  </th><th>utm_term__c  </th><th>Address.city  </th><th>Address.country  </th><th>Address.geocodeAccuracy  </th><th>Address.postalCode  </th><th>Address.state  </th><th>Address.street           </th><th>Converted to Opp  </th></tr>\n",
       "</thead>\n",
       "<tbody>\n",
       "<tr><td>type   </td><td>string            </td><td>enum                         </td><td>int                </td><td>int                </td><td>time              </td><td>int              </td><td>time                        </td><td>time                        </td><td>enum                          </td><td>int               </td><td>int                 </td><td>int               </td><td>int                        </td><td>int                 </td><td>int                  </td><td>int              </td><td>string           </td><td>int               </td><td>enum                           </td><td>int              </td><td>enum             </td><td>enum             </td><td>enum         </td><td>enum         </td><td>enum                              </td><td>int             </td><td>int            </td><td>enum         </td><td>time               </td><td>int              </td><td>enum             </td><td>int                                   </td><td>enum                         </td><td>int                                    </td><td>enum                      </td><td>time              </td><td>time              </td><td>int                   </td><td>int                    </td><td>time              </td><td>time                     </td><td>enum                            </td><td>enum              </td><td>string                          </td><td>time               </td><td>enum                     </td><td>enum       </td><td>string    </td><td>string    </td><td>enum                                </td><td>enum         </td><td>enum       </td><td>enum             </td><td>enum                    </td><td>int              </td><td>enum          </td><td>time               </td><td>time               </td><td>enum      </td><td>int                 </td><td>int             </td><td>time                   </td><td>enum        </td><td>enum            </td><td>enum                               </td><td>int            </td><td>enum                            </td><td>enum             </td><td>enum                    </td><td>string       </td><td>string           </td><td>int                 </td><td>int                </td><td>int                            </td><td>enum          </td><td>enum                 </td><td>enum                    </td><td>time                     </td><td>enum                            </td><td>int                             </td><td>enum                           </td><td>enum                      </td><td>int                             </td><td>enum                           </td><td>int                          </td><td>int                 </td><td>enum                </td><td>int               </td><td>enum                                        </td><td>enum                            </td><td>enum                   </td><td>enum       </td><td>int                       </td><td>enum                 </td><td>string                     </td><td>string                    </td><td>int                        </td><td>enum                  </td><td>enum                    </td><td>int           </td><td>enum                </td><td>enum                         </td><td>enum        </td><td>enum                   </td><td>enum   </td><td>enum           </td><td>enum             </td><td>enum            </td><td>enum           </td><td>enum           </td><td>enum          </td><td>time               </td><td>enum                      </td><td>enum              </td><td>enum                   </td><td>enum               </td><td>enum              </td><td>enum                      </td><td>enum                  </td><td>int           </td><td>enum                                               </td><td>enum                     </td><td>enum               </td><td>enum             </td><td>enum               </td><td>enum                   </td><td>enum             </td><td>enum                                      </td><td>time                        </td><td>int                               </td><td>enum                           </td><td>string                    </td><td>enum                        </td><td>enum                        </td><td>enum                                  </td><td>int                                 </td><td>int                             </td><td>enum                             </td><td>int                   </td><td>enum                         </td><td>string                            </td><td>string                            </td><td>enum                                                   </td><td>enum                            </td><td>enum                         </td><td>time                              </td><td>enum             </td><td>int               </td><td>enum           </td><td>enum           </td><td>enum         </td><td>enum          </td><td>enum             </td><td>enum                     </td><td>int                 </td><td>enum           </td><td>enum                     </td><td>int               </td></tr>\n",
       "<tr><td>mins   </td><td>NaN               </td><td>                             </td><td>0.0                </td><td>NaN                </td><td>1506384000000.0   </td><td>-466560.0        </td><td>1401397173000.0             </td><td>1436814270000.0             </td><td>                              </td><td>NaN               </td><td>-1782870.0          </td><td>0.0               </td><td>-354175.0                  </td><td>-362921.0           </td><td>NaN                  </td><td>0.0              </td><td>NaN              </td><td>NaN               </td><td>                               </td><td>NaN              </td><td>                 </td><td>                 </td><td>             </td><td>             </td><td>                                  </td><td>NaN             </td><td>NaN            </td><td>             </td><td>1514787070000.0    </td><td>2018.0           </td><td>                 </td><td>NaN                                   </td><td>                             </td><td>166.0                                  </td><td>                          </td><td>1414109234000.0   </td><td>1403185954000.0   </td><td>2014.0                </td><td>1.0                    </td><td>1412350776000.0   </td><td>1526475072000.0          </td><td>                                </td><td>                  </td><td>NaN                             </td><td>1516813975000.0    </td><td>                         </td><td>           </td><td>NaN       </td><td>NaN       </td><td>                                    </td><td>             </td><td>           </td><td>                 </td><td>                        </td><td>1001965.0        </td><td>              </td><td>1514851200000.0    </td><td>1536091544000.0    </td><td>          </td><td>NaN                 </td><td>NaN             </td><td>1514851200000.0        </td><td>            </td><td>                </td><td>                                   </td><td>NaN            </td><td>                                </td><td>                 </td><td>                        </td><td>NaN          </td><td>NaN              </td><td>0.0                 </td><td>0.0                </td><td>0.0                            </td><td>              </td><td>                     </td><td>                        </td><td>1494426420000.0          </td><td>                                </td><td>0.0                             </td><td>                               </td><td>                          </td><td>0.0                             </td><td>                               </td><td>NaN                          </td><td>NaN                 </td><td>                    </td><td>0.0               </td><td>                                            </td><td>                                </td><td>                       </td><td>           </td><td>NaN                       </td><td>                     </td><td>NaN                        </td><td>NaN                       </td><td>1234555.0                  </td><td>                      </td><td>                        </td><td>NaN           </td><td>                    </td><td>                             </td><td>            </td><td>                       </td><td>       </td><td>               </td><td>                 </td><td>                </td><td>               </td><td>               </td><td>              </td><td>1536091544000.0    </td><td>                          </td><td>                  </td><td>                       </td><td>                   </td><td>                  </td><td>                          </td><td>                      </td><td>NaN           </td><td>                                                   </td><td>                         </td><td>                   </td><td>                 </td><td>                   </td><td>                       </td><td>                 </td><td>                                          </td><td>1412350915000.0             </td><td>1156.0                            </td><td>                               </td><td>NaN                       </td><td>                            </td><td>                            </td><td>                                      </td><td>11.0                                </td><td>1.0                             </td><td>                                 </td><td>-1500.0               </td><td>                             </td><td>NaN                               </td><td>NaN                               </td><td>                                                       </td><td>                                </td><td>                             </td><td>1516005616000.0                   </td><td>                 </td><td>NaN               </td><td>               </td><td>               </td><td>             </td><td>              </td><td>                 </td><td>                         </td><td>0.0                 </td><td>               </td><td>                         </td><td>0.0               </td></tr>\n",
       "<tr><td>mean   </td><td>NaN               </td><td>                             </td><td>5.420803026669866  </td><td>0.0                </td><td>1532992935626.5356</td><td>74835.36686445428</td><td>1535930595602.6252          </td><td>1535932388210.4229          </td><td>                              </td><td>0.0               </td><td>197429.55432223342  </td><td>152.1384540117417 </td><td>78751.96559101448          </td><td>45716.09039044393   </td><td>0.0                  </td><td>6440888608.297863</td><td>NaN              </td><td>0.0               </td><td>                               </td><td>0.0              </td><td>                 </td><td>                 </td><td>             </td><td>             </td><td>                                  </td><td>0.0             </td><td>0.0            </td><td>             </td><td>1530662113624.0964 </td><td>2018.0           </td><td>                 </td><td>0.0                                   </td><td>                             </td><td>4707772.729435286                      </td><td>                          </td><td>1529919948220.148 </td><td>1530361310493.64  </td><td>2017.9787840969873    </td><td>25.311820288821536     </td><td>1529063711956.4988</td><td>1537085645428.889        </td><td>                                </td><td>                  </td><td>NaN                             </td><td>1536492988876.1997 </td><td>                         </td><td>           </td><td>NaN       </td><td>NaN       </td><td>                                    </td><td>             </td><td>           </td><td>                 </td><td>                        </td><td>61932594.55164008</td><td>              </td><td>1536818357594.7065 </td><td>1539281263218.8325 </td><td>          </td><td>0.0                 </td><td>0.0             </td><td>1536818357594.7065     </td><td>            </td><td>                </td><td>                                   </td><td>0.0            </td><td>                                </td><td>                 </td><td>                        </td><td>NaN          </td><td>NaN              </td><td>29828.794571811053  </td><td>23075.385087437633 </td><td>0.3335628361349996             </td><td>              </td><td>                     </td><td>                        </td><td>1529092178594.3945       </td><td>                                </td><td>53.793233022078184              </td><td>                               </td><td>                          </td><td>38.524258847059585              </td><td>                               </td><td>0.0                          </td><td>0.0                 </td><td>                    </td><td>72220.32944539987 </td><td>                                            </td><td>                                </td><td>                       </td><td>           </td><td>0.0                       </td><td>                     </td><td>NaN                        </td><td>NaN                       </td><td>6309235772.664974          </td><td>                      </td><td>                        </td><td>0.0           </td><td>                    </td><td>                             </td><td>            </td><td>                       </td><td>       </td><td>               </td><td>                 </td><td>                </td><td>               </td><td>               </td><td>              </td><td>1539411540764.7708 </td><td>                          </td><td>                  </td><td>                       </td><td>                   </td><td>                  </td><td>                          </td><td>                      </td><td>0.0           </td><td>                                                   </td><td>                         </td><td>                   </td><td>                 </td><td>                   </td><td>                       </td><td>                 </td><td>                                          </td><td>1527820023362.5884          </td><td>3715.2377638078124                </td><td>                               </td><td>NaN                       </td><td>                            </td><td>                            </td><td>                                      </td><td>624.237195275195                    </td><td>44283.29022009393               </td><td>                                 </td><td>227.27679758843868    </td><td>                             </td><td>NaN                               </td><td>NaN                               </td><td>                                                       </td><td>                                </td><td>                             </td><td>1522847854600.0                   </td><td>                 </td><td>0.0               </td><td>               </td><td>               </td><td>             </td><td>              </td><td>                 </td><td>                         </td><td>72220.32944539987   </td><td>               </td><td>                         </td><td>0.0               </td></tr>\n",
       "<tr><td>maxs   </td><td>NaN               </td><td>                             </td><td>196.0              </td><td>NaN                </td><td>1564617600000.0   </td><td>478567.0         </td><td>1543512190000.0             </td><td>1543512190000.0             </td><td>                              </td><td>NaN               </td><td>2156702.0           </td><td>1624.0            </td><td>1892359.0                  </td><td>747475.0            </td><td>NaN                  </td><td>12303100000000.0 </td><td>NaN              </td><td>NaN               </td><td>                               </td><td>NaN              </td><td>                 </td><td>                 </td><td>             </td><td>             </td><td>                                  </td><td>NaN             </td><td>NaN            </td><td>             </td><td>1543509426000.0    </td><td>2018.0           </td><td>                 </td><td>NaN                                   </td><td>                             </td><td>9815421.0                              </td><td>                          </td><td>1543510856000.0   </td><td>1543511556000.0   </td><td>2018.0                </td><td>52.0                   </td><td>1543511360000.0   </td><td>1543507253000.0          </td><td>                                </td><td>                  </td><td>NaN                             </td><td>1543431589000.0    </td><td>                         </td><td>           </td><td>NaN       </td><td>NaN       </td><td>                                    </td><td>             </td><td>           </td><td>                 </td><td>                        </td><td>92191457.0       </td><td>              </td><td>1543881600000.0    </td><td>1543512190000.0    </td><td>          </td><td>NaN                 </td><td>NaN             </td><td>1543881600000.0        </td><td>            </td><td>                </td><td>                                   </td><td>NaN            </td><td>                                </td><td>                 </td><td>                        </td><td>NaN          </td><td>NaN              </td><td>2768886.0           </td><td>27300000.0         </td><td>2.0                            </td><td>              </td><td>                     </td><td>                        </td><td>1542931200000.0          </td><td>                                </td><td>100.0                           </td><td>                               </td><td>                          </td><td>99.0                            </td><td>                               </td><td>NaN                          </td><td>NaN                 </td><td>                    </td><td>847217106.0       </td><td>                                            </td><td>                                </td><td>                       </td><td>           </td><td>NaN                       </td><td>                     </td><td>NaN                        </td><td>NaN                       </td><td>71329812609.0              </td><td>                      </td><td>                        </td><td>NaN           </td><td>                    </td><td>                             </td><td>            </td><td>                       </td><td>       </td><td>               </td><td>                 </td><td>                </td><td>               </td><td>               </td><td>              </td><td>1543512190000.0    </td><td>                          </td><td>                  </td><td>                       </td><td>                   </td><td>                  </td><td>                          </td><td>                      </td><td>NaN           </td><td>                                                   </td><td>                         </td><td>                   </td><td>                 </td><td>                   </td><td>                       </td><td>                 </td><td>                                          </td><td>1543509246000.0             </td><td>4888.0                            </td><td>                               </td><td>NaN                       </td><td>                            </td><td>                            </td><td>                                      </td><td>989.0                               </td><td>756100.0                        </td><td>                                 </td><td>23825.0               </td><td>                             </td><td>NaN                               </td><td>NaN                               </td><td>                                                       </td><td>                                </td><td>                             </td><td>1535145519000.0                   </td><td>                 </td><td>NaN               </td><td>               </td><td>               </td><td>             </td><td>              </td><td>                 </td><td>                         </td><td>847217106.0         </td><td>               </td><td>                         </td><td>0.0               </td></tr>\n",
       "<tr><td>sigma  </td><td>NaN               </td><td>                             </td><td>3.849184536305334  </td><td>-0.0               </td><td>9269029335.168493 </td><td>77453.60362217361</td><td>7068279058.694305           </td><td>7051245455.738275           </td><td>                              </td><td>-0.0              </td><td>159551.06853358922  </td><td>105.26207362404236</td><td>119805.09778894355         </td><td>103841.53412050943  </td><td>-0.0                 </td><td>86214924678.80212</td><td>NaN              </td><td>-0.0              </td><td>                               </td><td>-0.0             </td><td>                 </td><td>                 </td><td>             </td><td>             </td><td>                                  </td><td>-0.0            </td><td>-0.0           </td><td>             </td><td>7955258214.721458  </td><td>0.0              </td><td>                 </td><td>-0.0                                  </td><td>                             </td><td>2683133.9278510143                     </td><td>                          </td><td>8906094686.820667 </td><td>9094616741.98305  </td><td>0.152531718095675     </td><td>14.61557819409573      </td><td>9399251007.901125 </td><td>4922570339.057015        </td><td>                                </td><td>                  </td><td>NaN                             </td><td>5982484687.424016  </td><td>                         </td><td>           </td><td>NaN       </td><td>NaN       </td><td>                                    </td><td>             </td><td>           </td><td>                 </td><td>                        </td><td>27041153.08575385</td><td>              </td><td>6641772740.66766   </td><td>2288290677.9720936 </td><td>          </td><td>-0.0                </td><td>-0.0            </td><td>6641772740.66766       </td><td>            </td><td>                </td><td>                                   </td><td>-0.0           </td><td>                                </td><td>                 </td><td>                        </td><td>NaN          </td><td>NaN              </td><td>227373.23774769632  </td><td>225539.86400479198 </td><td>0.4717641107699666             </td><td>              </td><td>                     </td><td>                        </td><td>6660283593.019224        </td><td>                                </td><td>26.269495839221467              </td><td>                               </td><td>                          </td><td>28.600620059006296              </td><td>                               </td><td>-0.0                         </td><td>-0.0                </td><td>                    </td><td>2721045.4612961262</td><td>                                            </td><td>                                </td><td>                       </td><td>           </td><td>-0.0                      </td><td>                     </td><td>NaN                        </td><td>NaN                       </td><td>8487875584.210413          </td><td>                      </td><td>                        </td><td>-0.0          </td><td>                    </td><td>                             </td><td>            </td><td>                       </td><td>       </td><td>               </td><td>                 </td><td>                </td><td>               </td><td>               </td><td>              </td><td>2304277039.1804805 </td><td>                          </td><td>                  </td><td>                       </td><td>                   </td><td>                  </td><td>                          </td><td>                      </td><td>-0.0          </td><td>                                                   </td><td>                         </td><td>                   </td><td>                 </td><td>                   </td><td>                       </td><td>                 </td><td>                                          </td><td>8419583936.200812           </td><td>1198.8296845453406                </td><td>                               </td><td>NaN                       </td><td>                            </td><td>                            </td><td>                                      </td><td>194.5891031244172                   </td><td>49862.84552468556               </td><td>                                 </td><td>284.20557752096505    </td><td>                             </td><td>NaN                               </td><td>NaN                               </td><td>                                                       </td><td>                                </td><td>                             </td><td>7561001235.390158                 </td><td>                 </td><td>-0.0              </td><td>               </td><td>               </td><td>             </td><td>              </td><td>                 </td><td>                         </td><td>2721045.4612961262  </td><td>               </td><td>                         </td><td>0.0               </td></tr>\n",
       "<tr><td>zeros  </td><td>0                 </td><td>                             </td><td>18                 </td><td>0                  </td><td>0                 </td><td>0                </td><td>0                           </td><td>0                           </td><td>                              </td><td>0                 </td><td>6                   </td><td>21                </td><td>7                          </td><td>124                 </td><td>0                    </td><td>5547             </td><td>0                </td><td>0                 </td><td>                               </td><td>0                </td><td>                 </td><td>                 </td><td>             </td><td>             </td><td>                                  </td><td>0               </td><td>0              </td><td>             </td><td>0                  </td><td>0                </td><td>                 </td><td>0                                     </td><td>                             </td><td>0                                      </td><td>                          </td><td>0                 </td><td>0                 </td><td>0                     </td><td>0                      </td><td>0                 </td><td>0                        </td><td>                                </td><td>                  </td><td>0                               </td><td>0                  </td><td>                         </td><td>           </td><td>0         </td><td>0         </td><td>                                    </td><td>             </td><td>           </td><td>                 </td><td>                        </td><td>0                </td><td>              </td><td>0                  </td><td>0                  </td><td>          </td><td>0                   </td><td>0               </td><td>0                      </td><td>            </td><td>                </td><td>                                   </td><td>0              </td><td>                                </td><td>                 </td><td>                        </td><td>0            </td><td>0                </td><td>119142              </td><td>3766               </td><td>51311                          </td><td>              </td><td>                     </td><td>                        </td><td>0                        </td><td>                                </td><td>9315                            </td><td>                               </td><td>                          </td><td>21418                           </td><td>                               </td><td>0                            </td><td>0                   </td><td>                    </td><td>15                </td><td>                                            </td><td>                                </td><td>                       </td><td>           </td><td>0                         </td><td>                     </td><td>0                          </td><td>0                         </td><td>0                          </td><td>                      </td><td>                        </td><td>0             </td><td>                    </td><td>                             </td><td>            </td><td>                       </td><td>       </td><td>               </td><td>                 </td><td>                </td><td>               </td><td>               </td><td>              </td><td>0                  </td><td>                          </td><td>                  </td><td>                       </td><td>                   </td><td>                  </td><td>                          </td><td>                      </td><td>0             </td><td>                                                   </td><td>                         </td><td>                   </td><td>                 </td><td>                   </td><td>                       </td><td>                 </td><td>                                          </td><td>0                           </td><td>0                                 </td><td>                               </td><td>0                         </td><td>                            </td><td>                            </td><td>                                      </td><td>0                                   </td><td>0                               </td><td>                                 </td><td>1813                  </td><td>                             </td><td>0                                 </td><td>0                                 </td><td>                                                       </td><td>                                </td><td>                             </td><td>0                                 </td><td>                 </td><td>0                 </td><td>               </td><td>               </td><td>             </td><td>              </td><td>                 </td><td>                         </td><td>15                  </td><td>               </td><td>                         </td><td>226337            </td></tr>\n",
       "<tr><td>missing</td><td>0                 </td><td>0                            </td><td>151271             </td><td>226337             </td><td>225116            </td><td>0                </td><td>151287                      </td><td>151288                      </td><td>0                             </td><td>226337            </td><td>220391              </td><td>222249            </td><td>220728                     </td><td>220728              </td><td>226337               </td><td>33436            </td><td>225965           </td><td>226337            </td><td>0                              </td><td>226337           </td><td>151286           </td><td>0                </td><td>23219        </td><td>0            </td><td>0                                 </td><td>226337          </td><td>226337         </td><td>8593         </td><td>0                  </td><td>0                </td><td>0                </td><td>226337                                </td><td>0                            </td><td>157311                                 </td><td>157411                    </td><td>220391            </td><td>222249            </td><td>220728                </td><td>220728                 </td><td>220728            </td><td>225887                   </td><td>221275                          </td><td>5945              </td><td>5945                            </td><td>225295             </td><td>225295                   </td><td>980        </td><td>224365    </td><td>226271    </td><td>7239                                </td><td>0            </td><td>0          </td><td>0                </td><td>0                       </td><td>97532            </td><td>0             </td><td>143819             </td><td>0                  </td><td>0         </td><td>226337              </td><td>226337          </td><td>143819                 </td><td>2881        </td><td>0               </td><td>223432                             </td><td>226337         </td><td>189560                          </td><td>0                </td><td>0                       </td><td>226233       </td><td>0                </td><td>0                   </td><td>30140              </td><td>149359                         </td><td>221487        </td><td>0                    </td><td>154698                  </td><td>151259                   </td><td>164339                          </td><td>164330                          </td><td>164339                         </td><td>164330                    </td><td>164339                          </td><td>164330                         </td><td>226337                       </td><td>226337              </td><td>812                 </td><td>42006             </td><td>0                                           </td><td>128183                          </td><td>49                     </td><td>211908     </td><td>226337                    </td><td>225531               </td><td>225523                     </td><td>225518                    </td><td>226140                     </td><td>0                     </td><td>182414                  </td><td>226337        </td><td>226325              </td><td>0                            </td><td>226262      </td><td>226335                 </td><td>12118  </td><td>0              </td><td>812              </td><td>0               </td><td>0              </td><td>0              </td><td>0             </td><td>0                  </td><td>10851                     </td><td>32203             </td><td>109515                 </td><td>0                  </td><td>0                 </td><td>0                         </td><td>11193                 </td><td>226337        </td><td>14664                                              </td><td>4680                     </td><td>4882               </td><td>0                </td><td>30962              </td><td>0                      </td><td>0                </td><td>0                                         </td><td>190707                      </td><td>190705                            </td><td>190705                         </td><td>226317                    </td><td>199743                      </td><td>199663                      </td><td>206444                                </td><td>206442                              </td><td>204619                          </td><td>201857                           </td><td>158663                </td><td>209337                       </td><td>225857                            </td><td>225858                            </td><td>110673                                                 </td><td>110573                          </td><td>0                            </td><td>226332                            </td><td>225237           </td><td>226337            </td><td>225191         </td><td>225139         </td><td>221274       </td><td>23219         </td><td>8593             </td><td>24509                    </td><td>42006               </td><td>12118          </td><td>23077                    </td><td>0                 </td></tr>\n",
       "<tr><td>0      </td><td>00Q0h00001gIpObEAK</td><td>false                        </td><td>nan                </td><td>nan                </td><td>                  </td><td>55851.0          </td><td>                            </td><td>                            </td><td>No Last Step - No Next Step   </td><td>nan               </td><td>nan                 </td><td>nan               </td><td>nan                        </td><td>nan                 </td><td>nan                  </td><td>35900000.0       </td><td>                 </td><td>nan               </td><td>false                          </td><td>nan              </td><td>                 </td><td>false            </td><td>Asheboro     </td><td>Different    </td><td>Asheboro City School District     </td><td>nan             </td><td>nan            </td><td>United States</td><td>2018-07-06 23:25:27</td><td>2018.0           </td><td>USD              </td><td>nan                                   </td><td>false                        </td><td>nan                                    </td><td>                          </td><td>                  </td><td>                  </td><td>nan                   </td><td>nan                    </td><td>                  </td><td>                         </td><td>                                </td><td>asheboro.k12.nc.us</td><td>aetheridge@asheboro.k12.nc.us   </td><td>                   </td><td>                         </td><td>Angel      </td><td>          </td><td>          </td><td>Education                           </td><td>false        </td><td>false      </td><td>true             </td><td>false                   </td><td>68756676.0       </td><td>false         </td><td>                   </td><td>2018-09-15 20:24:47</td><td>Etheridge </td><td>nan                 </td><td>nan             </td><td>                       </td><td>6sense      </td><td>FIX             </td><td>                                   </td><td>nan            </td><td>                                </td><td>false            </td><td>false                   </td><td>             </td><td>Angel Etheridge  </td><td>600.0               </td><td>9.0                </td><td>nan                            </td><td>              </td><td>false                </td><td>                        </td><td>2018-07-14 14:51:51      </td><td>Consideration                   </td><td>63.0                            </td><td>Strong                         </td><td>C                         </td><td>56.0                            </td><td>Weak                           </td><td>nan                          </td><td>nan                 </td><td>Marketing Ready     </td><td>27203.0           </td><td>Never Customer                              </td><td>AMED - TAC - Southeast          </td><td>English - US           </td><td>           </td><td>nan                       </td><td>                     </td><td>                           </td><td>                          </td><td>nan                        </td><td>false                 </td><td>N/A                     </td><td>nan           </td><td>                    </td><td>false                        </td><td>            </td><td>                       </td><td>NC     </td><td>Marketing Ready</td><td>Marketing Ready  </td><td>false           </td><td>false          </td><td>false          </td><td>false         </td><td>2018-09-15 20:24:47</td><td>AMED - TAC - Southeast    </td><td>                  </td><td>AMER - EDU             </td><td>AMER               </td><td>AMER              </td><td>ISS Renewal-TAC East      </td><td>AMED - TAC            </td><td>nan           </td><td>Secretary for Technology                           </td><td>Education-K12            </td><td>Education          </td><td>false            </td><td>asheboro.k12.nc.us </td><td>false                  </td><td>Warm             </td><td>Other                                     </td><td>                            </td><td>nan                               </td><td>                               </td><td>                          </td><td>                            </td><td>                            </td><td>                                      </td><td>nan                                 </td><td>nan                             </td><td>                                 </td><td>165.0                 </td><td>                             </td><td>                                  </td><td>                                  </td><td>Web service API                                        </td><td>Web service API                 </td><td>false                        </td><td>                                  </td><td>                 </td><td>nan               </td><td>               </td><td>               </td><td>             </td><td>Asheboro      </td><td>United States    </td><td>Address                  </td><td>27203.0             </td><td>NC             </td><td>1126 S Park Street       </td><td>0.0               </td></tr>\n",
       "<tr><td>1      </td><td>00Q0h00001fBl78EAC</td><td>false                        </td><td>nan                </td><td>nan                </td><td>                  </td><td>77392.0          </td><td>                            </td><td>                            </td><td>No Last Step - No Next Step   </td><td>nan               </td><td>nan                 </td><td>nan               </td><td>nan                        </td><td>nan                 </td><td>nan                  </td><td>51000000.0       </td><td>                 </td><td>nan               </td><td>false                          </td><td>nan              </td><td>                 </td><td>false            </td><td>San Francisco</td><td>Inactive     </td><td>10x Genomics                      </td><td>nan             </td><td>nan            </td><td>United States</td><td>2018-05-14 14:10:28</td><td>2018.0           </td><td>USD              </td><td>nan                                   </td><td>false                        </td><td>8184081.0                              </td><td>TEDD                      </td><td>                  </td><td>                  </td><td>nan                   </td><td>nan                    </td><td>                  </td><td>                         </td><td>                                </td><td>10xgenomics.com   </td><td>david.lin@10xgenomics.com       </td><td>                   </td><td>                         </td><td>David      </td><td>          </td><td>          </td><td>Information & Communication         </td><td>false        </td><td>false      </td><td>true             </td><td>false                   </td><td>90373310.0       </td><td>false         </td><td>                   </td><td>2018-10-08 15:24:33</td><td>Lin       </td><td>nan                 </td><td>nan             </td><td>                       </td><td>DiscoverOrg </td><td>Sales           </td><td>                                   </td><td>nan            </td><td>                                </td><td>false            </td><td>false                   </td><td>             </td><td>David Lin        </td><td>14.0                </td><td>135.0              </td><td>nan                            </td><td>              </td><td>false                </td><td>                        </td><td>                         </td><td>                                </td><td>nan                             </td><td>                               </td><td>                          </td><td>nan                             </td><td>                               </td><td>nan                          </td><td>nan                 </td><td>Marketing Ready     </td><td>94105.0           </td><td>Never Customer                              </td><td>                                </td><td>English - US           </td><td>           </td><td>nan                       </td><td>                     </td><td>                           </td><td>                          </td><td>nan                        </td><td>false                 </td><td>                        </td><td>nan           </td><td>                    </td><td>false                        </td><td>            </td><td>                       </td><td>CA     </td><td>Marketing Ready</td><td>Marketing Ready  </td><td>false           </td><td>false          </td><td>false          </td><td>false         </td><td>2018-10-08 15:24:33</td><td>AMCO - TAC - San Fran     </td><td>AMER - EVG - West </td><td>                       </td><td>AMER               </td><td>AMER              </td><td>Other                     </td><td>AMCO - NL             </td><td>nan           </td><td>Head of Software Field Operations                  </td><td>Commercial               </td><td>Commercial         </td><td>false            </td><td>www.10xgenomics.com</td><td>false                  </td><td>Cold             </td><td>Other                                     </td><td>                            </td><td>nan                               </td><td>                               </td><td>                          </td><td>                            </td><td>                            </td><td>                                      </td><td>nan                                 </td><td>nan                             </td><td>                                 </td><td>nan                   </td><td>                             </td><td>                                  </td><td>                                  </td><td>                                                       </td><td>                                </td><td>false                        </td><td>                                  </td><td>                 </td><td>nan               </td><td>               </td><td>               </td><td>             </td><td>San Francisco </td><td>United States    </td><td>Address                  </td><td>94105.0             </td><td>CA             </td><td>160 Spear Street         </td><td>0.0               </td></tr>\n",
       "<tr><td>2      </td><td>00Q0h00001fLFEMEA4</td><td>false                        </td><td>6.0                </td><td>nan                </td><td>                  </td><td>112757.0         </td><td>2018-03-13 16:38:38         </td><td>2018-03-13 16:38:38         </td><td>LS w/in 60 days - No Next Step</td><td>nan               </td><td>nan                 </td><td>nan               </td><td>nan                        </td><td>nan                 </td><td>nan                  </td><td>61.0             </td><td>                 </td><td>nan               </td><td>false                          </td><td>nan              </td><td>Kayla Norquist   </td><td>false            </td><td>San Francisco</td><td>NotFound     </td><td>Morrison & Foerster LLP           </td><td>nan             </td><td>nan            </td><td>United States</td><td>2018-02-09 18:52:05</td><td>2018.0           </td><td>USD              </td><td>nan                                   </td><td>false                        </td><td>nan                                    </td><td>                          </td><td>                  </td><td>                  </td><td>nan                   </td><td>nan                    </td><td>                  </td><td>                         </td><td>                                </td><td>mofo.com          </td><td>jmckenna@mofo.com               </td><td>2018-10-18 18:33:46</td><td>The recipient is invalid.</td><td>James      </td><td>          </td><td>          </td><td>Professional Services               </td><td>false        </td><td>false      </td><td>true             </td><td>false                   </td><td>nan              </td><td>false         </td><td>2018-10-18 00:00:00</td><td>2018-09-17 16:27:36</td><td>McKenna   </td><td>nan                 </td><td>nan             </td><td>2018-10-18 00:00:00    </td><td>6sense      </td><td>FIX             </td><td>                                   </td><td>nan            </td><td>                                </td><td>false            </td><td>false                   </td><td>             </td><td>James McKenna    </td><td>0.0                 </td><td>4999.0             </td><td>0.0                            </td><td>false         </td><td>false                </td><td>Manual - Marked Finished</td><td>2018-02-10 16:43:49      </td><td>Consideration                   </td><td>66.0                            </td><td>Strong                         </td><td>C                         </td><td>59.0                            </td><td>Weak                           </td><td>nan                          </td><td>nan                 </td><td>Marketing Ready     </td><td>94105.0           </td><td>Never Customer                              </td><td>AMCO - STR - NorCal             </td><td>English - US           </td><td>           </td><td>nan                       </td><td>                     </td><td>                           </td><td>                          </td><td>nan                        </td><td>false                 </td><td>N/A                     </td><td>nan           </td><td>                    </td><td>false                        </td><td>            </td><td>                       </td><td>CA     </td><td>Marketing Ready</td><td>Marketing Ready  </td><td>false           </td><td>false          </td><td>false          </td><td>true          </td><td>2018-10-18 18:33:46</td><td>AMCO - STR - NorCal       </td><td>AMER - EVG - West </td><td>AMER - COM             </td><td>AMER               </td><td>AMER              </td><td>ISS Renewal-ENT/STR       </td><td>AMCO - ESW            </td><td>nan           </td><td>Director, Infrastructure & Information Security    </td><td>Commercial               </td><td>Commercial         </td><td>false            </td><td>mofo.com           </td><td>false                  </td><td>Warm             </td><td>Other                                     </td><td>                            </td><td>nan                               </td><td>                               </td><td>                          </td><td>                            </td><td>                            </td><td>                                      </td><td>nan                                 </td><td>nan                             </td><td>                                 </td><td>165.0                 </td><td>                             </td><td>                                  </td><td>                                  </td><td>Web service API                                        </td><td>Web service API                 </td><td>false                        </td><td>                                  </td><td>                 </td><td>nan               </td><td>               </td><td>               </td><td>             </td><td>San Francisco </td><td>United States    </td><td>Address                  </td><td>94105.0             </td><td>CA             </td><td>425 Market Street        </td><td>0.0               </td></tr>\n",
       "<tr><td>3      </td><td>00Q0h00001XgLIiEAN</td><td>false                        </td><td>5.0                </td><td>nan                </td><td>                  </td><td>19995.0          </td><td>2018-10-25 13:19:56         </td><td>2018-10-25 13:19:56         </td><td>LS w/in 60 days - No Next Step</td><td>nan               </td><td>nan                 </td><td>nan               </td><td>nan                        </td><td>nan                 </td><td>nan                  </td><td>2827000000.0     </td><td>                 </td><td>nan               </td><td>false                          </td><td>nan              </td><td>Jack Tierney     </td><td>false            </td><td>Fort Smith   </td><td>Different    </td><td>ArcBest                           </td><td>nan             </td><td>nan            </td><td>United States</td><td>2018-10-09 16:36:01</td><td>2018.0           </td><td>USD              </td><td>nan                                   </td><td>false                        </td><td>nan                                    </td><td>                          </td><td>                  </td><td>                  </td><td>nan                   </td><td>nan                    </td><td>                  </td><td>                         </td><td>                                </td><td>arcbtech.com      </td><td>dclanton@arcbtech.com           </td><td>                   </td><td>                         </td><td>Doug       </td><td>          </td><td>          </td><td>Logistics / Transportation          </td><td>false        </td><td>false      </td><td>true             </td><td>false                   </td><td>68756684.0       </td><td>false         </td><td>2018-10-25 00:00:00</td><td>2018-10-25 13:20:16</td><td>Clanton   </td><td>nan                 </td><td>nan             </td><td>2018-10-25 00:00:00    </td><td>DiscoverOrg </td><td>Sales           </td><td>                                   </td><td>nan            </td><td>                                </td><td>false            </td><td>false                   </td><td>             </td><td>Doug Clanton     </td><td>15000.0             </td><td>13000.0            </td><td>0.0                            </td><td>              </td><td>false                </td><td>Manual - Marked Finished</td><td>                         </td><td>                                </td><td>nan                             </td><td>                               </td><td>                          </td><td>nan                             </td><td>                               </td><td>nan                          </td><td>nan                 </td><td>Marketing Ready     </td><td>72917.0           </td><td>Never Customer                              </td><td>                                </td><td>English - US           </td><td>           </td><td>nan                       </td><td>                     </td><td>                           </td><td>                          </td><td>nan                        </td><td>false                 </td><td>                        </td><td>nan           </td><td>                    </td><td>false                        </td><td>            </td><td>                       </td><td>AR     </td><td>Marketing Ready</td><td>Marketing Ready  </td><td>false           </td><td>false          </td><td>false          </td><td>true          </td><td>2018-10-25 13:20:16</td><td>AMCO - STR - North Texas  </td><td>AMER - EVG - West </td><td>                       </td><td>AMER               </td><td>AMER              </td><td>Other                     </td><td>AMCO - ESW            </td><td>nan           </td><td>Network Control & Help Desk Analyst                </td><td>Commercial               </td><td>Commercial         </td><td>false            </td><td>http://www.arcb.com</td><td>false                  </td><td>Cold             </td><td>Other                                     </td><td>                            </td><td>nan                               </td><td>                               </td><td>                          </td><td>                            </td><td>                            </td><td>                                      </td><td>nan                                 </td><td>nan                             </td><td>                                 </td><td>nan                   </td><td>                             </td><td>                                  </td><td>                                  </td><td>Lead                                                   </td><td>salesforce.com                  </td><td>false                        </td><td>                                  </td><td>                 </td><td>nan               </td><td>               </td><td>               </td><td>             </td><td>Fort Smith    </td><td>United States    </td><td>Zip                      </td><td>72917.0             </td><td>AR             </td><td>P.O. Box 10048           </td><td>0.0               </td></tr>\n",
       "<tr><td>4      </td><td>00Q0h00001XfkY3EAJ</td><td>false                        </td><td>8.0                </td><td>nan                </td><td>                  </td><td>26824.0          </td><td>2018-10-17 16:48:27         </td><td>2018-10-17 16:48:27         </td><td>LS w/in 60 days - No Next Step</td><td>nan               </td><td>nan                 </td><td>nan               </td><td>nan                        </td><td>nan                 </td><td>nan                  </td><td>2827000000.0     </td><td>                 </td><td>nan               </td><td>false                          </td><td>nan              </td><td>Graham McCullough</td><td>false            </td><td>Fort Smith   </td><td>Different    </td><td>ArcBest                           </td><td>nan             </td><td>nan            </td><td>United States</td><td>2018-09-20 19:46:38</td><td>2018.0           </td><td>USD              </td><td>nan                                   </td><td>false                        </td><td>nan                                    </td><td>                          </td><td>                  </td><td>                  </td><td>nan                   </td><td>nan                    </td><td>                  </td><td>                         </td><td>                                </td><td>arcbtech.com      </td><td>strickland@arcbtech.com         </td><td>                   </td><td>                         </td><td>Kerry      </td><td>          </td><td>          </td><td>Logistics / Transportation          </td><td>false        </td><td>false      </td><td>true             </td><td>false                   </td><td>68756686.0       </td><td>false         </td><td>2018-10-17 00:00:00</td><td>2018-10-17 16:48:46</td><td>Strickland</td><td>nan                 </td><td>nan             </td><td>2018-10-17 00:00:00    </td><td>DiscoverOrg </td><td>Sales           </td><td>                                   </td><td>nan            </td><td>                                </td><td>false            </td><td>false                   </td><td>             </td><td>Kerry Strickland </td><td>15000.0             </td><td>13000.0            </td><td>0.0                            </td><td>              </td><td>false                </td><td>Manual - Marked Finished</td><td>                         </td><td>                                </td><td>nan                             </td><td>                               </td><td>                          </td><td>nan                             </td><td>                               </td><td>nan                          </td><td>nan                 </td><td>Marketing Ready     </td><td>72917.0           </td><td>Never Customer                              </td><td>                                </td><td>English - US           </td><td>           </td><td>nan                       </td><td>                     </td><td>                           </td><td>                          </td><td>nan                        </td><td>false                 </td><td>                        </td><td>nan           </td><td>                    </td><td>false                        </td><td>            </td><td>                       </td><td>AR     </td><td>Marketing Ready</td><td>Marketing Ready  </td><td>false           </td><td>false          </td><td>false          </td><td>true          </td><td>2018-10-17 16:48:46</td><td>AMCO - STR - North Texas  </td><td>AMER - EVG - West </td><td>                       </td><td>AMER               </td><td>AMER              </td><td>Other                     </td><td>AMCO - ESW            </td><td>nan           </td><td>Technical Administrator (Database Systems)         </td><td>Commercial               </td><td>Commercial         </td><td>false            </td><td>http://www.arcb.com</td><td>false                  </td><td>Cold             </td><td>Other                                     </td><td>                            </td><td>nan                               </td><td>                               </td><td>                          </td><td>                            </td><td>                            </td><td>                                      </td><td>nan                                 </td><td>nan                             </td><td>                                 </td><td>nan                   </td><td>                             </td><td>                                  </td><td>                                  </td><td>                                                       </td><td>                                </td><td>false                        </td><td>                                  </td><td>                 </td><td>nan               </td><td>               </td><td>               </td><td>             </td><td>Fort Smith    </td><td>United States    </td><td>Zip                      </td><td>72917.0             </td><td>AR             </td><td>P.O. Box 10048           </td><td>0.0               </td></tr>\n",
       "<tr><td>5      </td><td>00Q0h00001fCr7gEAC</td><td>false                        </td><td>nan                </td><td>nan                </td><td>                  </td><td>66167.0          </td><td>                            </td><td>                            </td><td>No Last Step - No Next Step   </td><td>nan               </td><td>nan                 </td><td>nan               </td><td>nan                        </td><td>nan                 </td><td>nan                  </td><td>111360000.0      </td><td>                 </td><td>nan               </td><td>false                          </td><td>nan              </td><td>                 </td><td>false            </td><td>West Columbia</td><td>Different    </td><td>LEXINGTON DISTRICT 2              </td><td>nan             </td><td>nan            </td><td>United States</td><td>2018-06-11 20:59:12</td><td>2018.0           </td><td>USD              </td><td>nan                                   </td><td>false                        </td><td>nan                                    </td><td>                          </td><td>                  </td><td>                  </td><td>nan                   </td><td>nan                    </td><td>                  </td><td>                         </td><td>                                </td><td>lex2.org          </td><td>ksmoak@lex2.org                 </td><td>                   </td><td>                         </td><td>Kevin      </td><td>          </td><td>          </td><td>Education                           </td><td>false        </td><td>false      </td><td>true             </td><td>false                   </td><td>56792220.0       </td><td>false         </td><td>                   </td><td>2018-09-15 16:57:32</td><td>Smoak     </td><td>nan                 </td><td>nan             </td><td>                       </td><td>JAMF - Event</td><td>Marketing       </td><td>                                   </td><td>nan            </td><td>2018-06-17-SCASA-Registrant List</td><td>false            </td><td>false                   </td><td>             </td><td>Kevin Smoak      </td><td>1173.0              </td><td>1173.0             </td><td>nan                            </td><td>              </td><td>true                 </td><td>                        </td><td>2018-06-20 03:10:57      </td><td>Awareness                       </td><td>49.0                            </td><td>Moderate                       </td><td>C                         </td><td>57.0                            </td><td>Weak                           </td><td>nan                          </td><td>nan                 </td><td>Marketing Ready     </td><td>29169.0           </td><td>Current Customer                            </td><td>AMED - TAC - Southeast          </td><td>English - US           </td><td>           </td><td>nan                       </td><td>                     </td><td>                           </td><td>                          </td><td>nan                        </td><td>false                 </td><td>                        </td><td>nan           </td><td>                    </td><td>false                        </td><td>            </td><td>                       </td><td>SC     </td><td>Marketing Ready</td><td>Marketing Ready  </td><td>false           </td><td>false          </td><td>false          </td><td>false         </td><td>2018-09-15 16:57:32</td><td>AMED - TAC - Southeast    </td><td>                  </td><td>AMER - EDU             </td><td>AMER               </td><td>AMER              </td><td>ISS Renewal-TAC East      </td><td>AMED - TAC            </td><td>nan           </td><td>Evaluation & Effectiveness Coordinator             </td><td>Education-K12            </td><td>Education          </td><td>false            </td><td>lex2.org           </td><td>false                  </td><td>Warm             </td><td>Other                                     </td><td>2018-06-11 20:50:05         </td><td>4303.0                            </td><td>2018-06-17-SCASA               </td><td>                          </td><td>Ben Lomand                  </td><td>United States               </td><td>Columbia SC (MRC-546)                 </td><td>803.0                               </td><td>29062.0                         </td><td>SC                               </td><td>nan                   </td><td>                             </td><td>                                  </td><td>                                  </td><td>List: 2018-06-17-SCASA.2018-06-17-SCASA Registrant List</td><td>List import                     </td><td>false                        </td><td>                                  </td><td>                 </td><td>nan               </td><td>               </td><td>               </td><td>             </td><td>West Columbia </td><td>United States    </td><td>Block                    </td><td>29169.0             </td><td>SC             </td><td>715 Ninth Street         </td><td>0.0               </td></tr>\n",
       "<tr><td>6      </td><td>00Q0h00001fChxdEAC</td><td>false                        </td><td>nan                </td><td>nan                </td><td>                  </td><td>67905.0          </td><td>                            </td><td>                            </td><td>No Last Step - No Next Step   </td><td>nan               </td><td>nan                 </td><td>nan               </td><td>nan                        </td><td>nan                 </td><td>nan                  </td><td>20970000000.0    </td><td>                 </td><td>nan               </td><td>false                          </td><td>nan              </td><td>                 </td><td>false            </td><td>Detroit      </td><td>Different    </td><td>Blue Cross Blue Shield of Michigan</td><td>nan             </td><td>nan            </td><td>United States</td><td>2018-06-06 18:52:01</td><td>2018.0           </td><td>USD              </td><td>nan                                   </td><td>false                        </td><td>8260071.0                              </td><td>IT                        </td><td>                  </td><td>                  </td><td>nan                   </td><td>nan                    </td><td>                  </td><td>                         </td><td>                                </td><td>bcbsm.com         </td><td>gmolakaluri@bcbsm.com           </td><td>                   </td><td>                         </td><td>Gopala     </td><td>          </td><td>          </td><td>Financial Services & Insurance (FSI)</td><td>false        </td><td>false      </td><td>true             </td><td>false                   </td><td>10001122.0       </td><td>false         </td><td>                   </td><td>2018-09-17 15:32:34</td><td>Molakaluri</td><td>nan                 </td><td>nan             </td><td>                       </td><td>DiscoverOrg </td><td>Sales           </td><td>                                   </td><td>nan            </td><td>                                </td><td>false            </td><td>false                   </td><td>             </td><td>Gopala Molakaluri</td><td>8546.0              </td><td>5000.0             </td><td>nan                            </td><td>              </td><td>false                </td><td>                        </td><td>2018-06-08 23:19:29      </td><td>Consideration                   </td><td>59.0                            </td><td>Weak                           </td><td>D                         </td><td>0.0                             </td><td>Moderate                       </td><td>nan                          </td><td>nan                 </td><td>Marketing Ready     </td><td>48226.0           </td><td>Never Customer                              </td><td>AMCO - STR - South Central      </td><td>English - US           </td><td>           </td><td>nan                       </td><td>                     </td><td>                           </td><td>                          </td><td>nan                        </td><td>false                 </td><td>                        </td><td>nan           </td><td>                    </td><td>false                        </td><td>            </td><td>                       </td><td>MI     </td><td>Marketing Ready</td><td>Marketing Ready  </td><td>false           </td><td>false          </td><td>false          </td><td>true          </td><td>2018-09-17 15:32:35</td><td>AMCO - STR - OhioVal      </td><td>AMER - EVG - East </td><td>AMER - COM             </td><td>AMER               </td><td>AMER              </td><td>ISS Renewal-ENT/STR       </td><td>AMCO - ESE            </td><td>nan           </td><td>Senior Manager, Delivery                           </td><td>Commercial               </td><td>Commercial         </td><td>false            </td><td>www.bcbsm.com      </td><td>false                  </td><td>Cold             </td><td>Other                                     </td><td>                            </td><td>nan                               </td><td>                               </td><td>                          </td><td>                            </td><td>                            </td><td>                                      </td><td>nan                                 </td><td>nan                             </td><td>                                 </td><td>nan                   </td><td>                             </td><td>                                  </td><td>                                  </td><td>                                                       </td><td>                                </td><td>false                        </td><td>                                  </td><td>                 </td><td>nan               </td><td>               </td><td>               </td><td>             </td><td>Detroit       </td><td>United States    </td><td>Address                  </td><td>48226.0             </td><td>MI             </td><td>600 E Lafayette Boulevard</td><td>0.0               </td></tr>\n",
       "<tr><td>7      </td><td>00Q0h00001XfNMIEA3</td><td>false                        </td><td>9.0                </td><td>nan                </td><td>                  </td><td>30829.0          </td><td>2018-10-19 18:17:56         </td><td>2018-10-19 18:17:56         </td><td>LS w/in 60 days - No Next Step</td><td>nan               </td><td>nan                 </td><td>nan               </td><td>nan                        </td><td>nan                 </td><td>nan                  </td><td>170116760.0      </td><td>                 </td><td>nan               </td><td>false                          </td><td>nan              </td><td>Mike Penn        </td><td>false            </td><td>White Plains </td><td>Matched      </td><td>Combe Incorporated                </td><td>nan             </td><td>nan            </td><td>United States</td><td>2018-09-11 16:13:09</td><td>2018.0           </td><td>USD              </td><td>nan                                   </td><td>false                        </td><td>nan                                    </td><td>                          </td><td>                  </td><td>                  </td><td>nan                   </td><td>nan                    </td><td>                  </td><td>                         </td><td>                                </td><td>combe.com         </td><td>rlanni@combe.com                </td><td>                   </td><td>                         </td><td>Rob        </td><td>          </td><td>          </td><td>Chemicals                           </td><td>false        </td><td>false      </td><td>true             </td><td>false                   </td><td>9037461.0        </td><td>false         </td><td>2018-10-19 00:00:00</td><td>2018-10-19 18:18:16</td><td>Lanni     </td><td>nan                 </td><td>nan             </td><td>2018-10-19 00:00:00    </td><td>Jigsaw      </td><td>Sales           </td><td>                                   </td><td>nan            </td><td>                                </td><td>false            </td><td>false                   </td><td>             </td><td>Rob Lanni        </td><td>600.0               </td><td>600.0              </td><td>0.0                            </td><td>              </td><td>false                </td><td>Manual - Marked Finished</td><td>                         </td><td>                                </td><td>nan                             </td><td>                               </td><td>                          </td><td>nan                             </td><td>                               </td><td>nan                          </td><td>nan                 </td><td>Marketing Ready     </td><td>nan               </td><td>Never Customer                              </td><td>                                </td><td>English - US           </td><td>           </td><td>nan                       </td><td>                     </td><td>                           </td><td>                          </td><td>nan                        </td><td>false                 </td><td>                        </td><td>nan           </td><td>                    </td><td>false                        </td><td>            </td><td>                       </td><td>NY     </td><td>Marketing Ready</td><td>Marketing Ready  </td><td>false           </td><td>false          </td><td>false          </td><td>false         </td><td>2018-10-19 18:18:16</td><td>AMCO - TAC - Brooklyn     </td><td>AMER - EVG - East </td><td>                       </td><td>AMER               </td><td>AMER              </td><td>Other                     </td><td>AMCO - NL             </td><td>nan           </td><td>Chief Information Officer and Senior Vice President</td><td>Commercial               </td><td>Commercial         </td><td>false            </td><td>                   </td><td>false                  </td><td>Cold             </td><td>Added from Data.com                       </td><td>                            </td><td>nan                               </td><td>                               </td><td>                          </td><td>                            </td><td>                            </td><td>                                      </td><td>nan                                 </td><td>nan                             </td><td>                                 </td><td>nan                   </td><td>                             </td><td>                                  </td><td>                                  </td><td>                                                       </td><td>                                </td><td>false                        </td><td>                                  </td><td>                 </td><td>nan               </td><td>               </td><td>               </td><td>             </td><td>White Plains  </td><td>United States    </td><td>Address                  </td><td>nan                 </td><td>NY             </td><td>1101 Westchester Ave     </td><td>0.0               </td></tr>\n",
       "<tr><td>8      </td><td>00Q0h00001fLFEQEA4</td><td>true                         </td><td>5.0                </td><td>nan                </td><td>                  </td><td>112758.0         </td><td>2018-11-28 15:34:09         </td><td>2018-11-28 15:34:09         </td><td>LS w/in 7 days - No Next Step </td><td>nan               </td><td>nan                 </td><td>nan               </td><td>nan                        </td><td>nan                 </td><td>nan                  </td><td>54.0             </td><td>                 </td><td>nan               </td><td>false                          </td><td>nan              </td><td>Patrick Ubel     </td><td>false            </td><td>Cincinnati   </td><td>NotFound     </td><td>LSI Industries                    </td><td>nan             </td><td>nan            </td><td>United States</td><td>2018-02-09 18:51:45</td><td>2018.0           </td><td>USD              </td><td>nan                                   </td><td>false                        </td><td>nan                                    </td><td>                          </td><td>                  </td><td>                  </td><td>nan                   </td><td>nan                    </td><td>                  </td><td>                         </td><td>                                </td><td>lsi-industries.com</td><td>andy.foerster@lsi-industries.com</td><td>                   </td><td>                         </td><td>Andy       </td><td>          </td><td>          </td><td>Manufacturing                       </td><td>false        </td><td>false      </td><td>true             </td><td>false                   </td><td>nan              </td><td>false         </td><td>2018-11-28 00:00:00</td><td>2018-11-28 15:34:29</td><td>Foerster  </td><td>nan                 </td><td>nan             </td><td>2018-11-28 00:00:00    </td><td>6sense      </td><td>FIX             </td><td>                                   </td><td>nan            </td><td>                                </td><td>false            </td><td>false                   </td><td>             </td><td>Andy Foerster    </td><td>0.0                 </td><td>1929.0             </td><td>1.0                            </td><td>              </td><td>false                </td><td>Working                 </td><td>2018-02-10 16:43:49      </td><td>Consideration                   </td><td>65.0                            </td><td>Moderate                       </td><td>C                         </td><td>59.0                            </td><td>Weak                           </td><td>nan                          </td><td>nan                 </td><td>Marketing Ready     </td><td>45242.0           </td><td>Never Customer                              </td><td>                                </td><td>English - US           </td><td>           </td><td>nan                       </td><td>                     </td><td>                           </td><td>                          </td><td>nan                        </td><td>false                 </td><td>N/A                     </td><td>nan           </td><td>                    </td><td>false                        </td><td>            </td><td>                       </td><td>OH     </td><td>Marketing Ready</td><td>Marketing Ready  </td><td>false           </td><td>false          </td><td>false          </td><td>false         </td><td>2018-11-28 15:34:29</td><td>AMCO - TAC - Northeast    </td><td>AMER - EVG - East </td><td>AMER - COM             </td><td>AMER               </td><td>AMER              </td><td>ISS Renewal-TAC East      </td><td>AMCO - NL             </td><td>nan           </td><td>Executive VP & Chief Technology Officer            </td><td>Commercial               </td><td>Commercial         </td><td>false            </td><td>lsi-industries.com </td><td>false                  </td><td>Warm             </td><td>Other                                     </td><td>                            </td><td>nan                               </td><td>                               </td><td>                          </td><td>                            </td><td>                            </td><td>                                      </td><td>nan                                 </td><td>nan                             </td><td>                                 </td><td>165.0                 </td><td>                             </td><td>                                  </td><td>                                  </td><td>Web service API                                        </td><td>Web service API                 </td><td>false                        </td><td>                                  </td><td>                 </td><td>nan               </td><td>               </td><td>               </td><td>             </td><td>Cincinnati    </td><td>United States    </td><td>Address                  </td><td>45242.0             </td><td>OH             </td><td>10000 Alliance Road      </td><td>0.0               </td></tr>\n",
       "<tr><td>9      </td><td>00Q0h00001fLFEjEAO</td><td>false                        </td><td>nan                </td><td>nan                </td><td>                  </td><td>112758.0         </td><td>                            </td><td>                            </td><td>No Last Step - No Next Step   </td><td>nan               </td><td>nan                 </td><td>nan               </td><td>nan                        </td><td>nan                 </td><td>nan                  </td><td>70.0             </td><td>                 </td><td>nan               </td><td>false                          </td><td>nan              </td><td>                 </td><td>false            </td><td>Jonesboro    </td><td>NotFound     </td><td>Delta Air Lines                   </td><td>nan             </td><td>nan            </td><td>United States</td><td>2018-02-09 18:51:22</td><td>2018.0           </td><td>USD              </td><td>nan                                   </td><td>false                        </td><td>nan                                    </td><td>                          </td><td>                  </td><td>                  </td><td>nan                   </td><td>nan                    </td><td>                  </td><td>                         </td><td>                                </td><td>delta.com         </td><td>david.skipwith@delta.com        </td><td>                   </td><td>                         </td><td>David      </td><td>          </td><td>          </td><td>Transportation, Courier, Stoarage   </td><td>false        </td><td>false      </td><td>true             </td><td>false                   </td><td>nan              </td><td>false         </td><td>                   </td><td>2018-09-17 16:27:36</td><td>Skipwith  </td><td>nan                 </td><td>nan             </td><td>                       </td><td>6sense      </td><td>FIX             </td><td>                                   </td><td>nan            </td><td>                                </td><td>false            </td><td>false                   </td><td>             </td><td>David Skipwith   </td><td>0.0                 </td><td>360000.0           </td><td>nan                            </td><td>              </td><td>false                </td><td>                        </td><td>2018-02-10 16:43:49      </td><td>Consideration                   </td><td>69.0                            </td><td>Strong                         </td><td>C                         </td><td>59.0                            </td><td>Weak                           </td><td>nan                          </td><td>nan                 </td><td>Marketing Ready     </td><td>30236.0           </td><td>Never Customer                              </td><td>AMCO - STR - South Central      </td><td>English - US           </td><td>           </td><td>nan                       </td><td>                     </td><td>                           </td><td>                          </td><td>nan                        </td><td>false                 </td><td>N/A                     </td><td>nan           </td><td>                    </td><td>false                        </td><td>            </td><td>                       </td><td>GA     </td><td>Marketing Ready</td><td>Marketing Ready  </td><td>false           </td><td>false          </td><td>false          </td><td>true          </td><td>2018-09-17 16:27:36</td><td>AMCO - STR - South Central</td><td>AMER - EVG - East </td><td>                       </td><td>AMER               </td><td>AMER              </td><td>Other                     </td><td>AMCO - ESE            </td><td>nan           </td><td>Security Analyst                                   </td><td>Commercial               </td><td>Commercial         </td><td>false            </td><td>delta.com          </td><td>false                  </td><td>Warm             </td><td>Other                                     </td><td>                            </td><td>nan                               </td><td>                               </td><td>                          </td><td>                            </td><td>                            </td><td>                                      </td><td>nan                                 </td><td>nan                             </td><td>                                 </td><td>165.0                 </td><td>                             </td><td>                                  </td><td>                                  </td><td>Web service API                                        </td><td>Web service API                 </td><td>false                        </td><td>                                  </td><td>                 </td><td>nan               </td><td>               </td><td>               </td><td>             </td><td>Jonesboro     </td><td>United States    </td><td>Address                  </td><td>30236.0             </td><td>GA             </td><td>409 Charleston Avenue    </td><td>0.0               </td></tr>\n",
       "</tbody>\n",
       "</table>"
      ]
     },
     "metadata": {},
     "output_type": "display_data"
    }
   ],
   "source": [
    "prod.describe()"
   ]
  },
  {
   "cell_type": "code",
   "execution_count": 113,
   "metadata": {
    "collapsed": true
   },
   "outputs": [],
   "source": [
    "key='Reseller_Contact_Phone__c'\n",
    "prod[key] = prod[key].asfactor()"
   ]
  },
  {
   "cell_type": "code",
   "execution_count": 114,
   "metadata": {
    "scrolled": true
   },
   "outputs": [
    {
     "name": "stdout",
     "output_type": "stream",
     "text": [
      "Rows:226337\n",
      "Cols:158\n",
      "\n",
      "\n"
     ]
    },
    {
     "data": {
      "text/html": [
       "<table>\n",
       "<thead>\n",
       "<tr><th>       </th><th>Id                </th><th>Actively_being_sequenced__c  </th><th>Activity_Count__c  </th><th>Activity_First__c  </th><th>Activity_Next__c  </th><th>Activity_SLA__c  </th><th>Activity_Sales_Post_BDR__c  </th><th>Activity_Sales_Post_SRL__c  </th><th>Activity_Status__c            </th><th>Age_Converted__c  </th><th>Age_QUAL_to_SRL__c  </th><th>Age_SAL_Days__c   </th><th>Age_Sales_Ready_No_Act__c  </th><th>Age_Sales_Ready__c  </th><th>Alt_Contact_Info__c  </th><th>AnnualRevenue    </th><th>Apple_Source__c  </th><th>Approved_Date__c  </th><th>Approved_Deal_Registration__c  </th><th>Apps_Content__c  </th><th>BDR_Activity__c  </th><th>BYO_Interest__c  </th><th>City         </th><th>CleanStatus  </th><th>Company                           </th><th>Contact_URL__c  </th><th>ConvertedDate  </th><th>Country      </th><th>CreatedDate        </th><th>Created_Year__c  </th><th>CurrencyIsoCode  </th><th>DSCORGPKG__DiscoverOrg_Created_On__c  </th><th>DSCORGPKG__Email_Invalid__c  </th><th>DSCORGPKG__External_DiscoverOrg_Id__c  </th><th>DSCORGPKG__department__c  </th><th>Date_Time_MQL__c  </th><th>Date_Time_SAL__c  </th><th>Date_Time_SRLYear__c  </th><th>Date_Time_SRL_Week__c  </th><th>Date_Time_SRL__c  </th><th>Date_Time_SRejectedL__c  </th><th>Disqualification_Reason_del__c  </th><th>Domain__c         </th><th>Email                           </th><th>EmailBouncedDate   </th><th>EmailBouncedReason       </th><th>FirstName  </th><th>GCLID__c  </th><th>Goals__c  </th><th>Industry                            </th><th>IsConverted  </th><th>IsDeleted  </th><th>IsUnreadByOwner  </th><th>Is_Budget_Available__c  </th><th>Jigsaw           </th><th>LATAM_EDU__c  </th><th>LastActivityDate   </th><th>LastModifiedDate   </th><th>LastName  </th><th>LastReferencedDate  </th><th>LastViewedDate  </th><th>Last_Activity_Date__c  </th><th>LeadSource  </th><th>Lead_Bucket__c  </th><th>Lead_Disqualification_Comments__c  </th><th>Lead_Notes__c  </th><th>Lead_Source_Detail__c           </th><th>MSP_Interest__c  </th><th>Marketing_Suspended__c  </th><th>MobilePhone  </th><th>Name             </th><th>No_of_Employees__c  </th><th>NumberOfEmployees  </th><th>Number_of_active_sequences__c  </th><th>Opted_Out__c  </th><th>Outreach_Caution__c  </th><th>Outreach_Stage__c       </th><th>PRO6senseUpdatedDate__c  </th><th>PROaccountBuyingStage6sense__c  </th><th>PROaccountIntentScore6sense__c  </th><th>PROaccountProfileFit6sense__c  </th><th>PROcontactGrade6sense__c  </th><th>PROcontactIntentScore6sense__c  </th><th>PROcontactProfileFit6sense__c  </th><th>PROtranslatedcontactrank__c  </th><th>Partner_Account__c  </th><th>Pipeline_Bucket__c  </th><th>PostalCode        </th><th>Potential_Account_Match_Customer_Status__c  </th><th>Potential_Account_Territory__c  </th><th>Preferred_Language__c  </th><th>Region__c  </th><th>Reseller_Company_Name__c  </th><th>Reseller_Company__c  </th><th>Reseller_Contact_Email__c  </th><th>Reseller_Contact_Name__c  </th><th>Reseller_Contact_Phone__c  </th><th>Reseller_Interest__c  </th><th>Role_Within_Company__c  </th><th>SLA_Start__c  </th><th>Sales_Marketing__c  </th><th>Sales_Outreach_Suspended__c  </th><th>Salutation  </th><th>Solution_Requested__c  </th><th>State  </th><th>Status         </th><th>Status_Group__c  </th><th>Status_QUAL__c  </th><th>Status_SAL__c  </th><th>Status_SRL__c  </th><th>Strategic__c  </th><th>SystemModstamp     </th><th>Territory_16__c           </th><th>Territory_EVG__c  </th><th>Territory_GEO_VERT__c  </th><th>Territory_Geo2__c  </th><th>Territory_Geo__c  </th><th>Territory_Renewal_ISS__c  </th><th>Territory_Segment__c  </th><th>Timeframe__c  </th><th>Title                                              </th><th>Type_of_Organization__c  </th><th>Vertical_Group__c  </th><th>Warm_Handoff__c  </th><th>Website            </th><th>Work_with_reseller__c  </th><th>X6sense_Temp__c  </th><th>ddc_prospector__Sourced_from_Data_com__c  </th><th>mkto71_Acquisition_Date__c  </th><th>mkto71_Acquisition_Program_Id__c  </th><th>mkto71_Acquisition_Program__c  </th><th>mkto71_BInferred_City__c  </th><th>mkto71_Inferred_Company__c  </th><th>mkto71_Inferred_Country__c  </th><th>mkto71_Inferred_Metropolitan_Area__c  </th><th>mkto71_Inferred_Phone_Area_Code__c  </th><th>mkto71_Inferred_Postal_Code__c  </th><th>mkto71_Inferred_State_Region__c  </th><th>mkto71_Lead_Score__c  </th><th>mkto71_Original_Referrer__c  </th><th>mkto71_Original_Search_Engine__c  </th><th>mkto71_Original_Search_Phrase__c  </th><th>mkto71_Original_Source_Info__c                         </th><th>mkto71_Original_Source_Type__c  </th><th>rvpe__IsDealRegistration__c  </th><th>rvpe__PartnerLastModifiedDate__c  </th><th>utm_campaign__c  </th><th>utm_content_c__c  </th><th>utm_medium__c  </th><th>utm_source__c  </th><th>utm_term__c  </th><th>Address.city  </th><th>Address.country  </th><th>Address.geocodeAccuracy  </th><th>Address.postalCode  </th><th>Address.state  </th><th>Address.street           </th><th>Converted to Opp  </th></tr>\n",
       "</thead>\n",
       "<tbody>\n",
       "<tr><td>type   </td><td>string            </td><td>enum                         </td><td>int                </td><td>int                </td><td>time              </td><td>int              </td><td>time                        </td><td>time                        </td><td>enum                          </td><td>int               </td><td>int                 </td><td>int               </td><td>int                        </td><td>int                 </td><td>int                  </td><td>int              </td><td>string           </td><td>int               </td><td>enum                           </td><td>int              </td><td>enum             </td><td>enum             </td><td>enum         </td><td>enum         </td><td>enum                              </td><td>int             </td><td>int            </td><td>enum         </td><td>time               </td><td>int              </td><td>enum             </td><td>int                                   </td><td>enum                         </td><td>int                                    </td><td>enum                      </td><td>time              </td><td>time              </td><td>int                   </td><td>int                    </td><td>time              </td><td>time                     </td><td>enum                            </td><td>enum              </td><td>string                          </td><td>time               </td><td>enum                     </td><td>enum       </td><td>string    </td><td>string    </td><td>enum                                </td><td>enum         </td><td>enum       </td><td>enum             </td><td>enum                    </td><td>int              </td><td>enum          </td><td>time               </td><td>time               </td><td>enum      </td><td>int                 </td><td>int             </td><td>time                   </td><td>enum        </td><td>enum            </td><td>enum                               </td><td>int            </td><td>enum                            </td><td>enum             </td><td>enum                    </td><td>string       </td><td>string           </td><td>int                 </td><td>int                </td><td>int                            </td><td>enum          </td><td>enum                 </td><td>enum                    </td><td>time                     </td><td>enum                            </td><td>int                             </td><td>enum                           </td><td>enum                      </td><td>int                             </td><td>enum                           </td><td>int                          </td><td>int                 </td><td>enum                </td><td>int               </td><td>enum                                        </td><td>enum                            </td><td>enum                   </td><td>enum       </td><td>int                       </td><td>enum                 </td><td>string                     </td><td>string                    </td><td>enum                       </td><td>enum                  </td><td>enum                    </td><td>int           </td><td>enum                </td><td>enum                         </td><td>enum        </td><td>enum                   </td><td>enum   </td><td>enum           </td><td>enum             </td><td>enum            </td><td>enum           </td><td>enum           </td><td>enum          </td><td>time               </td><td>enum                      </td><td>enum              </td><td>enum                   </td><td>enum               </td><td>enum              </td><td>enum                      </td><td>enum                  </td><td>int           </td><td>enum                                               </td><td>enum                     </td><td>enum               </td><td>enum             </td><td>enum               </td><td>enum                   </td><td>enum             </td><td>enum                                      </td><td>time                        </td><td>int                               </td><td>enum                           </td><td>string                    </td><td>enum                        </td><td>enum                        </td><td>enum                                  </td><td>int                                 </td><td>int                             </td><td>enum                             </td><td>int                   </td><td>enum                         </td><td>string                            </td><td>string                            </td><td>enum                                                   </td><td>enum                            </td><td>enum                         </td><td>time                              </td><td>enum             </td><td>int               </td><td>enum           </td><td>enum           </td><td>enum         </td><td>enum          </td><td>enum             </td><td>enum                     </td><td>int                 </td><td>enum           </td><td>enum                     </td><td>int               </td></tr>\n",
       "<tr><td>mins   </td><td>NaN               </td><td>                             </td><td>0.0                </td><td>NaN                </td><td>1506384000000.0   </td><td>-466560.0        </td><td>1401397173000.0             </td><td>1436814270000.0             </td><td>                              </td><td>NaN               </td><td>-1782870.0          </td><td>0.0               </td><td>-354175.0                  </td><td>-362921.0           </td><td>NaN                  </td><td>0.0              </td><td>NaN              </td><td>NaN               </td><td>                               </td><td>NaN              </td><td>                 </td><td>                 </td><td>             </td><td>             </td><td>                                  </td><td>NaN             </td><td>NaN            </td><td>             </td><td>1514787070000.0    </td><td>2018.0           </td><td>                 </td><td>NaN                                   </td><td>                             </td><td>166.0                                  </td><td>                          </td><td>1414109234000.0   </td><td>1403185954000.0   </td><td>2014.0                </td><td>1.0                    </td><td>1412350776000.0   </td><td>1526475072000.0          </td><td>                                </td><td>                  </td><td>NaN                             </td><td>1516813975000.0    </td><td>                         </td><td>           </td><td>NaN       </td><td>NaN       </td><td>                                    </td><td>             </td><td>           </td><td>                 </td><td>                        </td><td>1001965.0        </td><td>              </td><td>1514851200000.0    </td><td>1536091544000.0    </td><td>          </td><td>NaN                 </td><td>NaN             </td><td>1514851200000.0        </td><td>            </td><td>                </td><td>                                   </td><td>NaN            </td><td>                                </td><td>                 </td><td>                        </td><td>NaN          </td><td>NaN              </td><td>0.0                 </td><td>0.0                </td><td>0.0                            </td><td>              </td><td>                     </td><td>                        </td><td>1494426420000.0          </td><td>                                </td><td>0.0                             </td><td>                               </td><td>                          </td><td>0.0                             </td><td>                               </td><td>NaN                          </td><td>NaN                 </td><td>                    </td><td>0.0               </td><td>                                            </td><td>                                </td><td>                       </td><td>           </td><td>NaN                       </td><td>                     </td><td>NaN                        </td><td>NaN                       </td><td>                           </td><td>                      </td><td>                        </td><td>NaN           </td><td>                    </td><td>                             </td><td>            </td><td>                       </td><td>       </td><td>               </td><td>                 </td><td>                </td><td>               </td><td>               </td><td>              </td><td>1536091544000.0    </td><td>                          </td><td>                  </td><td>                       </td><td>                   </td><td>                  </td><td>                          </td><td>                      </td><td>NaN           </td><td>                                                   </td><td>                         </td><td>                   </td><td>                 </td><td>                   </td><td>                       </td><td>                 </td><td>                                          </td><td>1412350915000.0             </td><td>1156.0                            </td><td>                               </td><td>NaN                       </td><td>                            </td><td>                            </td><td>                                      </td><td>11.0                                </td><td>1.0                             </td><td>                                 </td><td>-1500.0               </td><td>                             </td><td>NaN                               </td><td>NaN                               </td><td>                                                       </td><td>                                </td><td>                             </td><td>1516005616000.0                   </td><td>                 </td><td>NaN               </td><td>               </td><td>               </td><td>             </td><td>              </td><td>                 </td><td>                         </td><td>0.0                 </td><td>               </td><td>                         </td><td>0.0               </td></tr>\n",
       "<tr><td>mean   </td><td>NaN               </td><td>                             </td><td>5.420803026669866  </td><td>0.0                </td><td>1532992935626.5356</td><td>74835.36686445428</td><td>1535930595602.6252          </td><td>1535932388210.4229          </td><td>                              </td><td>0.0               </td><td>197429.55432223342  </td><td>152.1384540117417 </td><td>78751.96559101448          </td><td>45716.09039044393   </td><td>0.0                  </td><td>6440888608.297863</td><td>NaN              </td><td>0.0               </td><td>                               </td><td>0.0              </td><td>                 </td><td>                 </td><td>             </td><td>             </td><td>                                  </td><td>0.0             </td><td>0.0            </td><td>             </td><td>1530662113624.0964 </td><td>2018.0           </td><td>                 </td><td>0.0                                   </td><td>                             </td><td>4707772.729435286                      </td><td>                          </td><td>1529919948220.148 </td><td>1530361310493.64  </td><td>2017.9787840969873    </td><td>25.311820288821536     </td><td>1529063711956.4988</td><td>1537085645428.889        </td><td>                                </td><td>                  </td><td>NaN                             </td><td>1536492988876.1997 </td><td>                         </td><td>           </td><td>NaN       </td><td>NaN       </td><td>                                    </td><td>             </td><td>           </td><td>                 </td><td>                        </td><td>61932594.55164008</td><td>              </td><td>1536818357594.7065 </td><td>1539281263218.8325 </td><td>          </td><td>0.0                 </td><td>0.0             </td><td>1536818357594.7065     </td><td>            </td><td>                </td><td>                                   </td><td>0.0            </td><td>                                </td><td>                 </td><td>                        </td><td>NaN          </td><td>NaN              </td><td>29828.794571811053  </td><td>23075.385087437633 </td><td>0.3335628361349996             </td><td>              </td><td>                     </td><td>                        </td><td>1529092178594.3945       </td><td>                                </td><td>53.793233022078184              </td><td>                               </td><td>                          </td><td>38.524258847059585              </td><td>                               </td><td>0.0                          </td><td>0.0                 </td><td>                    </td><td>72220.32944539987 </td><td>                                            </td><td>                                </td><td>                       </td><td>           </td><td>0.0                       </td><td>                     </td><td>NaN                        </td><td>NaN                       </td><td>                           </td><td>                      </td><td>                        </td><td>0.0           </td><td>                    </td><td>                             </td><td>            </td><td>                       </td><td>       </td><td>               </td><td>                 </td><td>                </td><td>               </td><td>               </td><td>              </td><td>1539411540764.7708 </td><td>                          </td><td>                  </td><td>                       </td><td>                   </td><td>                  </td><td>                          </td><td>                      </td><td>0.0           </td><td>                                                   </td><td>                         </td><td>                   </td><td>                 </td><td>                   </td><td>                       </td><td>                 </td><td>                                          </td><td>1527820023362.5884          </td><td>3715.2377638078124                </td><td>                               </td><td>NaN                       </td><td>                            </td><td>                            </td><td>                                      </td><td>624.237195275195                    </td><td>44283.29022009393               </td><td>                                 </td><td>227.27679758843868    </td><td>                             </td><td>NaN                               </td><td>NaN                               </td><td>                                                       </td><td>                                </td><td>                             </td><td>1522847854600.0                   </td><td>                 </td><td>0.0               </td><td>               </td><td>               </td><td>             </td><td>              </td><td>                 </td><td>                         </td><td>72220.32944539987   </td><td>               </td><td>                         </td><td>0.0               </td></tr>\n",
       "<tr><td>maxs   </td><td>NaN               </td><td>                             </td><td>196.0              </td><td>NaN                </td><td>1564617600000.0   </td><td>478567.0         </td><td>1543512190000.0             </td><td>1543512190000.0             </td><td>                              </td><td>NaN               </td><td>2156702.0           </td><td>1624.0            </td><td>1892359.0                  </td><td>747475.0            </td><td>NaN                  </td><td>12303100000000.0 </td><td>NaN              </td><td>NaN               </td><td>                               </td><td>NaN              </td><td>                 </td><td>                 </td><td>             </td><td>             </td><td>                                  </td><td>NaN             </td><td>NaN            </td><td>             </td><td>1543509426000.0    </td><td>2018.0           </td><td>                 </td><td>NaN                                   </td><td>                             </td><td>9815421.0                              </td><td>                          </td><td>1543510856000.0   </td><td>1543511556000.0   </td><td>2018.0                </td><td>52.0                   </td><td>1543511360000.0   </td><td>1543507253000.0          </td><td>                                </td><td>                  </td><td>NaN                             </td><td>1543431589000.0    </td><td>                         </td><td>           </td><td>NaN       </td><td>NaN       </td><td>                                    </td><td>             </td><td>           </td><td>                 </td><td>                        </td><td>92191457.0       </td><td>              </td><td>1543881600000.0    </td><td>1543512190000.0    </td><td>          </td><td>NaN                 </td><td>NaN             </td><td>1543881600000.0        </td><td>            </td><td>                </td><td>                                   </td><td>NaN            </td><td>                                </td><td>                 </td><td>                        </td><td>NaN          </td><td>NaN              </td><td>2768886.0           </td><td>27300000.0         </td><td>2.0                            </td><td>              </td><td>                     </td><td>                        </td><td>1542931200000.0          </td><td>                                </td><td>100.0                           </td><td>                               </td><td>                          </td><td>99.0                            </td><td>                               </td><td>NaN                          </td><td>NaN                 </td><td>                    </td><td>847217106.0       </td><td>                                            </td><td>                                </td><td>                       </td><td>           </td><td>NaN                       </td><td>                     </td><td>NaN                        </td><td>NaN                       </td><td>                           </td><td>                      </td><td>                        </td><td>NaN           </td><td>                    </td><td>                             </td><td>            </td><td>                       </td><td>       </td><td>               </td><td>                 </td><td>                </td><td>               </td><td>               </td><td>              </td><td>1543512190000.0    </td><td>                          </td><td>                  </td><td>                       </td><td>                   </td><td>                  </td><td>                          </td><td>                      </td><td>NaN           </td><td>                                                   </td><td>                         </td><td>                   </td><td>                 </td><td>                   </td><td>                       </td><td>                 </td><td>                                          </td><td>1543509246000.0             </td><td>4888.0                            </td><td>                               </td><td>NaN                       </td><td>                            </td><td>                            </td><td>                                      </td><td>989.0                               </td><td>756100.0                        </td><td>                                 </td><td>23825.0               </td><td>                             </td><td>NaN                               </td><td>NaN                               </td><td>                                                       </td><td>                                </td><td>                             </td><td>1535145519000.0                   </td><td>                 </td><td>NaN               </td><td>               </td><td>               </td><td>             </td><td>              </td><td>                 </td><td>                         </td><td>847217106.0         </td><td>               </td><td>                         </td><td>0.0               </td></tr>\n",
       "<tr><td>sigma  </td><td>NaN               </td><td>                             </td><td>3.849184536305334  </td><td>-0.0               </td><td>9269029335.168493 </td><td>77453.60362217361</td><td>7068279058.694305           </td><td>7051245455.738275           </td><td>                              </td><td>-0.0              </td><td>159551.06853358922  </td><td>105.26207362404236</td><td>119805.09778894355         </td><td>103841.53412050943  </td><td>-0.0                 </td><td>86214924678.80212</td><td>NaN              </td><td>-0.0              </td><td>                               </td><td>-0.0             </td><td>                 </td><td>                 </td><td>             </td><td>             </td><td>                                  </td><td>-0.0            </td><td>-0.0           </td><td>             </td><td>7955258214.721458  </td><td>0.0              </td><td>                 </td><td>-0.0                                  </td><td>                             </td><td>2683133.9278510143                     </td><td>                          </td><td>8906094686.820667 </td><td>9094616741.98305  </td><td>0.152531718095675     </td><td>14.61557819409573      </td><td>9399251007.901125 </td><td>4922570339.057015        </td><td>                                </td><td>                  </td><td>NaN                             </td><td>5982484687.424016  </td><td>                         </td><td>           </td><td>NaN       </td><td>NaN       </td><td>                                    </td><td>             </td><td>           </td><td>                 </td><td>                        </td><td>27041153.08575385</td><td>              </td><td>6641772740.66766   </td><td>2288290677.9720936 </td><td>          </td><td>-0.0                </td><td>-0.0            </td><td>6641772740.66766       </td><td>            </td><td>                </td><td>                                   </td><td>-0.0           </td><td>                                </td><td>                 </td><td>                        </td><td>NaN          </td><td>NaN              </td><td>227373.23774769632  </td><td>225539.86400479198 </td><td>0.4717641107699666             </td><td>              </td><td>                     </td><td>                        </td><td>6660283593.019224        </td><td>                                </td><td>26.269495839221467              </td><td>                               </td><td>                          </td><td>28.600620059006296              </td><td>                               </td><td>-0.0                         </td><td>-0.0                </td><td>                    </td><td>2721045.4612961262</td><td>                                            </td><td>                                </td><td>                       </td><td>           </td><td>-0.0                      </td><td>                     </td><td>NaN                        </td><td>NaN                       </td><td>                           </td><td>                      </td><td>                        </td><td>-0.0          </td><td>                    </td><td>                             </td><td>            </td><td>                       </td><td>       </td><td>               </td><td>                 </td><td>                </td><td>               </td><td>               </td><td>              </td><td>2304277039.1804805 </td><td>                          </td><td>                  </td><td>                       </td><td>                   </td><td>                  </td><td>                          </td><td>                      </td><td>-0.0          </td><td>                                                   </td><td>                         </td><td>                   </td><td>                 </td><td>                   </td><td>                       </td><td>                 </td><td>                                          </td><td>8419583936.200812           </td><td>1198.8296845453406                </td><td>                               </td><td>NaN                       </td><td>                            </td><td>                            </td><td>                                      </td><td>194.5891031244172                   </td><td>49862.84552468556               </td><td>                                 </td><td>284.20557752096505    </td><td>                             </td><td>NaN                               </td><td>NaN                               </td><td>                                                       </td><td>                                </td><td>                             </td><td>7561001235.390158                 </td><td>                 </td><td>-0.0              </td><td>               </td><td>               </td><td>             </td><td>              </td><td>                 </td><td>                         </td><td>2721045.4612961262  </td><td>               </td><td>                         </td><td>0.0               </td></tr>\n",
       "<tr><td>zeros  </td><td>0                 </td><td>                             </td><td>18                 </td><td>0                  </td><td>0                 </td><td>0                </td><td>0                           </td><td>0                           </td><td>                              </td><td>0                 </td><td>6                   </td><td>21                </td><td>7                          </td><td>124                 </td><td>0                    </td><td>5547             </td><td>0                </td><td>0                 </td><td>                               </td><td>0                </td><td>                 </td><td>                 </td><td>             </td><td>             </td><td>                                  </td><td>0               </td><td>0              </td><td>             </td><td>0                  </td><td>0                </td><td>                 </td><td>0                                     </td><td>                             </td><td>0                                      </td><td>                          </td><td>0                 </td><td>0                 </td><td>0                     </td><td>0                      </td><td>0                 </td><td>0                        </td><td>                                </td><td>                  </td><td>0                               </td><td>0                  </td><td>                         </td><td>           </td><td>0         </td><td>0         </td><td>                                    </td><td>             </td><td>           </td><td>                 </td><td>                        </td><td>0                </td><td>              </td><td>0                  </td><td>0                  </td><td>          </td><td>0                   </td><td>0               </td><td>0                      </td><td>            </td><td>                </td><td>                                   </td><td>0              </td><td>                                </td><td>                 </td><td>                        </td><td>0            </td><td>0                </td><td>119142              </td><td>3766               </td><td>51311                          </td><td>              </td><td>                     </td><td>                        </td><td>0                        </td><td>                                </td><td>9315                            </td><td>                               </td><td>                          </td><td>21418                           </td><td>                               </td><td>0                            </td><td>0                   </td><td>                    </td><td>15                </td><td>                                            </td><td>                                </td><td>                       </td><td>           </td><td>0                         </td><td>                     </td><td>0                          </td><td>0                         </td><td>                           </td><td>                      </td><td>                        </td><td>0             </td><td>                    </td><td>                             </td><td>            </td><td>                       </td><td>       </td><td>               </td><td>                 </td><td>                </td><td>               </td><td>               </td><td>              </td><td>0                  </td><td>                          </td><td>                  </td><td>                       </td><td>                   </td><td>                  </td><td>                          </td><td>                      </td><td>0             </td><td>                                                   </td><td>                         </td><td>                   </td><td>                 </td><td>                   </td><td>                       </td><td>                 </td><td>                                          </td><td>0                           </td><td>0                                 </td><td>                               </td><td>0                         </td><td>                            </td><td>                            </td><td>                                      </td><td>0                                   </td><td>0                               </td><td>                                 </td><td>1813                  </td><td>                             </td><td>0                                 </td><td>0                                 </td><td>                                                       </td><td>                                </td><td>                             </td><td>0                                 </td><td>                 </td><td>0                 </td><td>               </td><td>               </td><td>             </td><td>              </td><td>                 </td><td>                         </td><td>15                  </td><td>               </td><td>                         </td><td>226337            </td></tr>\n",
       "<tr><td>missing</td><td>0                 </td><td>0                            </td><td>151271             </td><td>226337             </td><td>225116            </td><td>0                </td><td>151287                      </td><td>151288                      </td><td>0                             </td><td>226337            </td><td>220391              </td><td>222249            </td><td>220728                     </td><td>220728              </td><td>226337               </td><td>33436            </td><td>225965           </td><td>226337            </td><td>0                              </td><td>226337           </td><td>151286           </td><td>0                </td><td>23219        </td><td>0            </td><td>0                                 </td><td>226337          </td><td>226337         </td><td>8593         </td><td>0                  </td><td>0                </td><td>0                </td><td>226337                                </td><td>0                            </td><td>157311                                 </td><td>157411                    </td><td>220391            </td><td>222249            </td><td>220728                </td><td>220728                 </td><td>220728            </td><td>225887                   </td><td>221275                          </td><td>5945              </td><td>5945                            </td><td>225295             </td><td>225295                   </td><td>980        </td><td>224365    </td><td>226271    </td><td>7239                                </td><td>0            </td><td>0          </td><td>0                </td><td>0                       </td><td>97532            </td><td>0             </td><td>143819             </td><td>0                  </td><td>0         </td><td>226337              </td><td>226337          </td><td>143819                 </td><td>2881        </td><td>0               </td><td>223432                             </td><td>226337         </td><td>189560                          </td><td>0                </td><td>0                       </td><td>226233       </td><td>0                </td><td>0                   </td><td>30140              </td><td>149359                         </td><td>221487        </td><td>0                    </td><td>154698                  </td><td>151259                   </td><td>164339                          </td><td>164330                          </td><td>164339                         </td><td>164330                    </td><td>164339                          </td><td>164330                         </td><td>226337                       </td><td>226337              </td><td>812                 </td><td>42006             </td><td>0                                           </td><td>128183                          </td><td>49                     </td><td>211908     </td><td>226337                    </td><td>225531               </td><td>225523                     </td><td>225518                    </td><td>226140                     </td><td>0                     </td><td>182414                  </td><td>226337        </td><td>226325              </td><td>0                            </td><td>226262      </td><td>226335                 </td><td>12118  </td><td>0              </td><td>812              </td><td>0               </td><td>0              </td><td>0              </td><td>0             </td><td>0                  </td><td>10851                     </td><td>32203             </td><td>109515                 </td><td>0                  </td><td>0                 </td><td>0                         </td><td>11193                 </td><td>226337        </td><td>14664                                              </td><td>4680                     </td><td>4882               </td><td>0                </td><td>30962              </td><td>0                      </td><td>0                </td><td>0                                         </td><td>190707                      </td><td>190705                            </td><td>190705                         </td><td>226317                    </td><td>199743                      </td><td>199663                      </td><td>206444                                </td><td>206442                              </td><td>204619                          </td><td>201857                           </td><td>158663                </td><td>209337                       </td><td>225857                            </td><td>225858                            </td><td>110673                                                 </td><td>110573                          </td><td>0                            </td><td>226332                            </td><td>225237           </td><td>226337            </td><td>225191         </td><td>225139         </td><td>221274       </td><td>23219         </td><td>8593             </td><td>24509                    </td><td>42006               </td><td>12118          </td><td>23077                    </td><td>0                 </td></tr>\n",
       "<tr><td>0      </td><td>00Q0h00001gIpObEAK</td><td>false                        </td><td>nan                </td><td>nan                </td><td>                  </td><td>55851.0          </td><td>                            </td><td>                            </td><td>No Last Step - No Next Step   </td><td>nan               </td><td>nan                 </td><td>nan               </td><td>nan                        </td><td>nan                 </td><td>nan                  </td><td>35900000.0       </td><td>                 </td><td>nan               </td><td>false                          </td><td>nan              </td><td>                 </td><td>false            </td><td>Asheboro     </td><td>Different    </td><td>Asheboro City School District     </td><td>nan             </td><td>nan            </td><td>United States</td><td>2018-07-06 23:25:27</td><td>2018.0           </td><td>USD              </td><td>nan                                   </td><td>false                        </td><td>nan                                    </td><td>                          </td><td>                  </td><td>                  </td><td>nan                   </td><td>nan                    </td><td>                  </td><td>                         </td><td>                                </td><td>asheboro.k12.nc.us</td><td>aetheridge@asheboro.k12.nc.us   </td><td>                   </td><td>                         </td><td>Angel      </td><td>          </td><td>          </td><td>Education                           </td><td>false        </td><td>false      </td><td>true             </td><td>false                   </td><td>68756676.0       </td><td>false         </td><td>                   </td><td>2018-09-15 20:24:47</td><td>Etheridge </td><td>nan                 </td><td>nan             </td><td>                       </td><td>6sense      </td><td>FIX             </td><td>                                   </td><td>nan            </td><td>                                </td><td>false            </td><td>false                   </td><td>             </td><td>Angel Etheridge  </td><td>600.0               </td><td>9.0                </td><td>nan                            </td><td>              </td><td>false                </td><td>                        </td><td>2018-07-14 14:51:51      </td><td>Consideration                   </td><td>63.0                            </td><td>Strong                         </td><td>C                         </td><td>56.0                            </td><td>Weak                           </td><td>nan                          </td><td>nan                 </td><td>Marketing Ready     </td><td>27203.0           </td><td>Never Customer                              </td><td>AMED - TAC - Southeast          </td><td>English - US           </td><td>           </td><td>nan                       </td><td>                     </td><td>                           </td><td>                          </td><td>                           </td><td>false                 </td><td>N/A                     </td><td>nan           </td><td>                    </td><td>false                        </td><td>            </td><td>                       </td><td>NC     </td><td>Marketing Ready</td><td>Marketing Ready  </td><td>false           </td><td>false          </td><td>false          </td><td>false         </td><td>2018-09-15 20:24:47</td><td>AMED - TAC - Southeast    </td><td>                  </td><td>AMER - EDU             </td><td>AMER               </td><td>AMER              </td><td>ISS Renewal-TAC East      </td><td>AMED - TAC            </td><td>nan           </td><td>Secretary for Technology                           </td><td>Education-K12            </td><td>Education          </td><td>false            </td><td>asheboro.k12.nc.us </td><td>false                  </td><td>Warm             </td><td>Other                                     </td><td>                            </td><td>nan                               </td><td>                               </td><td>                          </td><td>                            </td><td>                            </td><td>                                      </td><td>nan                                 </td><td>nan                             </td><td>                                 </td><td>165.0                 </td><td>                             </td><td>                                  </td><td>                                  </td><td>Web service API                                        </td><td>Web service API                 </td><td>false                        </td><td>                                  </td><td>                 </td><td>nan               </td><td>               </td><td>               </td><td>             </td><td>Asheboro      </td><td>United States    </td><td>Address                  </td><td>27203.0             </td><td>NC             </td><td>1126 S Park Street       </td><td>0.0               </td></tr>\n",
       "<tr><td>1      </td><td>00Q0h00001fBl78EAC</td><td>false                        </td><td>nan                </td><td>nan                </td><td>                  </td><td>77392.0          </td><td>                            </td><td>                            </td><td>No Last Step - No Next Step   </td><td>nan               </td><td>nan                 </td><td>nan               </td><td>nan                        </td><td>nan                 </td><td>nan                  </td><td>51000000.0       </td><td>                 </td><td>nan               </td><td>false                          </td><td>nan              </td><td>                 </td><td>false            </td><td>San Francisco</td><td>Inactive     </td><td>10x Genomics                      </td><td>nan             </td><td>nan            </td><td>United States</td><td>2018-05-14 14:10:28</td><td>2018.0           </td><td>USD              </td><td>nan                                   </td><td>false                        </td><td>8184081.0                              </td><td>TEDD                      </td><td>                  </td><td>                  </td><td>nan                   </td><td>nan                    </td><td>                  </td><td>                         </td><td>                                </td><td>10xgenomics.com   </td><td>david.lin@10xgenomics.com       </td><td>                   </td><td>                         </td><td>David      </td><td>          </td><td>          </td><td>Information & Communication         </td><td>false        </td><td>false      </td><td>true             </td><td>false                   </td><td>90373310.0       </td><td>false         </td><td>                   </td><td>2018-10-08 15:24:33</td><td>Lin       </td><td>nan                 </td><td>nan             </td><td>                       </td><td>DiscoverOrg </td><td>Sales           </td><td>                                   </td><td>nan            </td><td>                                </td><td>false            </td><td>false                   </td><td>             </td><td>David Lin        </td><td>14.0                </td><td>135.0              </td><td>nan                            </td><td>              </td><td>false                </td><td>                        </td><td>                         </td><td>                                </td><td>nan                             </td><td>                               </td><td>                          </td><td>nan                             </td><td>                               </td><td>nan                          </td><td>nan                 </td><td>Marketing Ready     </td><td>94105.0           </td><td>Never Customer                              </td><td>                                </td><td>English - US           </td><td>           </td><td>nan                       </td><td>                     </td><td>                           </td><td>                          </td><td>                           </td><td>false                 </td><td>                        </td><td>nan           </td><td>                    </td><td>false                        </td><td>            </td><td>                       </td><td>CA     </td><td>Marketing Ready</td><td>Marketing Ready  </td><td>false           </td><td>false          </td><td>false          </td><td>false         </td><td>2018-10-08 15:24:33</td><td>AMCO - TAC - San Fran     </td><td>AMER - EVG - West </td><td>                       </td><td>AMER               </td><td>AMER              </td><td>Other                     </td><td>AMCO - NL             </td><td>nan           </td><td>Head of Software Field Operations                  </td><td>Commercial               </td><td>Commercial         </td><td>false            </td><td>www.10xgenomics.com</td><td>false                  </td><td>Cold             </td><td>Other                                     </td><td>                            </td><td>nan                               </td><td>                               </td><td>                          </td><td>                            </td><td>                            </td><td>                                      </td><td>nan                                 </td><td>nan                             </td><td>                                 </td><td>nan                   </td><td>                             </td><td>                                  </td><td>                                  </td><td>                                                       </td><td>                                </td><td>false                        </td><td>                                  </td><td>                 </td><td>nan               </td><td>               </td><td>               </td><td>             </td><td>San Francisco </td><td>United States    </td><td>Address                  </td><td>94105.0             </td><td>CA             </td><td>160 Spear Street         </td><td>0.0               </td></tr>\n",
       "<tr><td>2      </td><td>00Q0h00001fLFEMEA4</td><td>false                        </td><td>6.0                </td><td>nan                </td><td>                  </td><td>112757.0         </td><td>2018-03-13 16:38:38         </td><td>2018-03-13 16:38:38         </td><td>LS w/in 60 days - No Next Step</td><td>nan               </td><td>nan                 </td><td>nan               </td><td>nan                        </td><td>nan                 </td><td>nan                  </td><td>61.0             </td><td>                 </td><td>nan               </td><td>false                          </td><td>nan              </td><td>Kayla Norquist   </td><td>false            </td><td>San Francisco</td><td>NotFound     </td><td>Morrison & Foerster LLP           </td><td>nan             </td><td>nan            </td><td>United States</td><td>2018-02-09 18:52:05</td><td>2018.0           </td><td>USD              </td><td>nan                                   </td><td>false                        </td><td>nan                                    </td><td>                          </td><td>                  </td><td>                  </td><td>nan                   </td><td>nan                    </td><td>                  </td><td>                         </td><td>                                </td><td>mofo.com          </td><td>jmckenna@mofo.com               </td><td>2018-10-18 18:33:46</td><td>The recipient is invalid.</td><td>James      </td><td>          </td><td>          </td><td>Professional Services               </td><td>false        </td><td>false      </td><td>true             </td><td>false                   </td><td>nan              </td><td>false         </td><td>2018-10-18 00:00:00</td><td>2018-09-17 16:27:36</td><td>McKenna   </td><td>nan                 </td><td>nan             </td><td>2018-10-18 00:00:00    </td><td>6sense      </td><td>FIX             </td><td>                                   </td><td>nan            </td><td>                                </td><td>false            </td><td>false                   </td><td>             </td><td>James McKenna    </td><td>0.0                 </td><td>4999.0             </td><td>0.0                            </td><td>false         </td><td>false                </td><td>Manual - Marked Finished</td><td>2018-02-10 16:43:49      </td><td>Consideration                   </td><td>66.0                            </td><td>Strong                         </td><td>C                         </td><td>59.0                            </td><td>Weak                           </td><td>nan                          </td><td>nan                 </td><td>Marketing Ready     </td><td>94105.0           </td><td>Never Customer                              </td><td>AMCO - STR - NorCal             </td><td>English - US           </td><td>           </td><td>nan                       </td><td>                     </td><td>                           </td><td>                          </td><td>                           </td><td>false                 </td><td>N/A                     </td><td>nan           </td><td>                    </td><td>false                        </td><td>            </td><td>                       </td><td>CA     </td><td>Marketing Ready</td><td>Marketing Ready  </td><td>false           </td><td>false          </td><td>false          </td><td>true          </td><td>2018-10-18 18:33:46</td><td>AMCO - STR - NorCal       </td><td>AMER - EVG - West </td><td>AMER - COM             </td><td>AMER               </td><td>AMER              </td><td>ISS Renewal-ENT/STR       </td><td>AMCO - ESW            </td><td>nan           </td><td>Director, Infrastructure & Information Security    </td><td>Commercial               </td><td>Commercial         </td><td>false            </td><td>mofo.com           </td><td>false                  </td><td>Warm             </td><td>Other                                     </td><td>                            </td><td>nan                               </td><td>                               </td><td>                          </td><td>                            </td><td>                            </td><td>                                      </td><td>nan                                 </td><td>nan                             </td><td>                                 </td><td>165.0                 </td><td>                             </td><td>                                  </td><td>                                  </td><td>Web service API                                        </td><td>Web service API                 </td><td>false                        </td><td>                                  </td><td>                 </td><td>nan               </td><td>               </td><td>               </td><td>             </td><td>San Francisco </td><td>United States    </td><td>Address                  </td><td>94105.0             </td><td>CA             </td><td>425 Market Street        </td><td>0.0               </td></tr>\n",
       "<tr><td>3      </td><td>00Q0h00001XgLIiEAN</td><td>false                        </td><td>5.0                </td><td>nan                </td><td>                  </td><td>19995.0          </td><td>2018-10-25 13:19:56         </td><td>2018-10-25 13:19:56         </td><td>LS w/in 60 days - No Next Step</td><td>nan               </td><td>nan                 </td><td>nan               </td><td>nan                        </td><td>nan                 </td><td>nan                  </td><td>2827000000.0     </td><td>                 </td><td>nan               </td><td>false                          </td><td>nan              </td><td>Jack Tierney     </td><td>false            </td><td>Fort Smith   </td><td>Different    </td><td>ArcBest                           </td><td>nan             </td><td>nan            </td><td>United States</td><td>2018-10-09 16:36:01</td><td>2018.0           </td><td>USD              </td><td>nan                                   </td><td>false                        </td><td>nan                                    </td><td>                          </td><td>                  </td><td>                  </td><td>nan                   </td><td>nan                    </td><td>                  </td><td>                         </td><td>                                </td><td>arcbtech.com      </td><td>dclanton@arcbtech.com           </td><td>                   </td><td>                         </td><td>Doug       </td><td>          </td><td>          </td><td>Logistics / Transportation          </td><td>false        </td><td>false      </td><td>true             </td><td>false                   </td><td>68756684.0       </td><td>false         </td><td>2018-10-25 00:00:00</td><td>2018-10-25 13:20:16</td><td>Clanton   </td><td>nan                 </td><td>nan             </td><td>2018-10-25 00:00:00    </td><td>DiscoverOrg </td><td>Sales           </td><td>                                   </td><td>nan            </td><td>                                </td><td>false            </td><td>false                   </td><td>             </td><td>Doug Clanton     </td><td>15000.0             </td><td>13000.0            </td><td>0.0                            </td><td>              </td><td>false                </td><td>Manual - Marked Finished</td><td>                         </td><td>                                </td><td>nan                             </td><td>                               </td><td>                          </td><td>nan                             </td><td>                               </td><td>nan                          </td><td>nan                 </td><td>Marketing Ready     </td><td>72917.0           </td><td>Never Customer                              </td><td>                                </td><td>English - US           </td><td>           </td><td>nan                       </td><td>                     </td><td>                           </td><td>                          </td><td>                           </td><td>false                 </td><td>                        </td><td>nan           </td><td>                    </td><td>false                        </td><td>            </td><td>                       </td><td>AR     </td><td>Marketing Ready</td><td>Marketing Ready  </td><td>false           </td><td>false          </td><td>false          </td><td>true          </td><td>2018-10-25 13:20:16</td><td>AMCO - STR - North Texas  </td><td>AMER - EVG - West </td><td>                       </td><td>AMER               </td><td>AMER              </td><td>Other                     </td><td>AMCO - ESW            </td><td>nan           </td><td>Network Control & Help Desk Analyst                </td><td>Commercial               </td><td>Commercial         </td><td>false            </td><td>http://www.arcb.com</td><td>false                  </td><td>Cold             </td><td>Other                                     </td><td>                            </td><td>nan                               </td><td>                               </td><td>                          </td><td>                            </td><td>                            </td><td>                                      </td><td>nan                                 </td><td>nan                             </td><td>                                 </td><td>nan                   </td><td>                             </td><td>                                  </td><td>                                  </td><td>Lead                                                   </td><td>salesforce.com                  </td><td>false                        </td><td>                                  </td><td>                 </td><td>nan               </td><td>               </td><td>               </td><td>             </td><td>Fort Smith    </td><td>United States    </td><td>Zip                      </td><td>72917.0             </td><td>AR             </td><td>P.O. Box 10048           </td><td>0.0               </td></tr>\n",
       "<tr><td>4      </td><td>00Q0h00001XfkY3EAJ</td><td>false                        </td><td>8.0                </td><td>nan                </td><td>                  </td><td>26824.0          </td><td>2018-10-17 16:48:27         </td><td>2018-10-17 16:48:27         </td><td>LS w/in 60 days - No Next Step</td><td>nan               </td><td>nan                 </td><td>nan               </td><td>nan                        </td><td>nan                 </td><td>nan                  </td><td>2827000000.0     </td><td>                 </td><td>nan               </td><td>false                          </td><td>nan              </td><td>Graham McCullough</td><td>false            </td><td>Fort Smith   </td><td>Different    </td><td>ArcBest                           </td><td>nan             </td><td>nan            </td><td>United States</td><td>2018-09-20 19:46:38</td><td>2018.0           </td><td>USD              </td><td>nan                                   </td><td>false                        </td><td>nan                                    </td><td>                          </td><td>                  </td><td>                  </td><td>nan                   </td><td>nan                    </td><td>                  </td><td>                         </td><td>                                </td><td>arcbtech.com      </td><td>strickland@arcbtech.com         </td><td>                   </td><td>                         </td><td>Kerry      </td><td>          </td><td>          </td><td>Logistics / Transportation          </td><td>false        </td><td>false      </td><td>true             </td><td>false                   </td><td>68756686.0       </td><td>false         </td><td>2018-10-17 00:00:00</td><td>2018-10-17 16:48:46</td><td>Strickland</td><td>nan                 </td><td>nan             </td><td>2018-10-17 00:00:00    </td><td>DiscoverOrg </td><td>Sales           </td><td>                                   </td><td>nan            </td><td>                                </td><td>false            </td><td>false                   </td><td>             </td><td>Kerry Strickland </td><td>15000.0             </td><td>13000.0            </td><td>0.0                            </td><td>              </td><td>false                </td><td>Manual - Marked Finished</td><td>                         </td><td>                                </td><td>nan                             </td><td>                               </td><td>                          </td><td>nan                             </td><td>                               </td><td>nan                          </td><td>nan                 </td><td>Marketing Ready     </td><td>72917.0           </td><td>Never Customer                              </td><td>                                </td><td>English - US           </td><td>           </td><td>nan                       </td><td>                     </td><td>                           </td><td>                          </td><td>                           </td><td>false                 </td><td>                        </td><td>nan           </td><td>                    </td><td>false                        </td><td>            </td><td>                       </td><td>AR     </td><td>Marketing Ready</td><td>Marketing Ready  </td><td>false           </td><td>false          </td><td>false          </td><td>true          </td><td>2018-10-17 16:48:46</td><td>AMCO - STR - North Texas  </td><td>AMER - EVG - West </td><td>                       </td><td>AMER               </td><td>AMER              </td><td>Other                     </td><td>AMCO - ESW            </td><td>nan           </td><td>Technical Administrator (Database Systems)         </td><td>Commercial               </td><td>Commercial         </td><td>false            </td><td>http://www.arcb.com</td><td>false                  </td><td>Cold             </td><td>Other                                     </td><td>                            </td><td>nan                               </td><td>                               </td><td>                          </td><td>                            </td><td>                            </td><td>                                      </td><td>nan                                 </td><td>nan                             </td><td>                                 </td><td>nan                   </td><td>                             </td><td>                                  </td><td>                                  </td><td>                                                       </td><td>                                </td><td>false                        </td><td>                                  </td><td>                 </td><td>nan               </td><td>               </td><td>               </td><td>             </td><td>Fort Smith    </td><td>United States    </td><td>Zip                      </td><td>72917.0             </td><td>AR             </td><td>P.O. Box 10048           </td><td>0.0               </td></tr>\n",
       "<tr><td>5      </td><td>00Q0h00001fCr7gEAC</td><td>false                        </td><td>nan                </td><td>nan                </td><td>                  </td><td>66167.0          </td><td>                            </td><td>                            </td><td>No Last Step - No Next Step   </td><td>nan               </td><td>nan                 </td><td>nan               </td><td>nan                        </td><td>nan                 </td><td>nan                  </td><td>111360000.0      </td><td>                 </td><td>nan               </td><td>false                          </td><td>nan              </td><td>                 </td><td>false            </td><td>West Columbia</td><td>Different    </td><td>LEXINGTON DISTRICT 2              </td><td>nan             </td><td>nan            </td><td>United States</td><td>2018-06-11 20:59:12</td><td>2018.0           </td><td>USD              </td><td>nan                                   </td><td>false                        </td><td>nan                                    </td><td>                          </td><td>                  </td><td>                  </td><td>nan                   </td><td>nan                    </td><td>                  </td><td>                         </td><td>                                </td><td>lex2.org          </td><td>ksmoak@lex2.org                 </td><td>                   </td><td>                         </td><td>Kevin      </td><td>          </td><td>          </td><td>Education                           </td><td>false        </td><td>false      </td><td>true             </td><td>false                   </td><td>56792220.0       </td><td>false         </td><td>                   </td><td>2018-09-15 16:57:32</td><td>Smoak     </td><td>nan                 </td><td>nan             </td><td>                       </td><td>JAMF - Event</td><td>Marketing       </td><td>                                   </td><td>nan            </td><td>2018-06-17-SCASA-Registrant List</td><td>false            </td><td>false                   </td><td>             </td><td>Kevin Smoak      </td><td>1173.0              </td><td>1173.0             </td><td>nan                            </td><td>              </td><td>true                 </td><td>                        </td><td>2018-06-20 03:10:57      </td><td>Awareness                       </td><td>49.0                            </td><td>Moderate                       </td><td>C                         </td><td>57.0                            </td><td>Weak                           </td><td>nan                          </td><td>nan                 </td><td>Marketing Ready     </td><td>29169.0           </td><td>Current Customer                            </td><td>AMED - TAC - Southeast          </td><td>English - US           </td><td>           </td><td>nan                       </td><td>                     </td><td>                           </td><td>                          </td><td>                           </td><td>false                 </td><td>                        </td><td>nan           </td><td>                    </td><td>false                        </td><td>            </td><td>                       </td><td>SC     </td><td>Marketing Ready</td><td>Marketing Ready  </td><td>false           </td><td>false          </td><td>false          </td><td>false         </td><td>2018-09-15 16:57:32</td><td>AMED - TAC - Southeast    </td><td>                  </td><td>AMER - EDU             </td><td>AMER               </td><td>AMER              </td><td>ISS Renewal-TAC East      </td><td>AMED - TAC            </td><td>nan           </td><td>Evaluation & Effectiveness Coordinator             </td><td>Education-K12            </td><td>Education          </td><td>false            </td><td>lex2.org           </td><td>false                  </td><td>Warm             </td><td>Other                                     </td><td>2018-06-11 20:50:05         </td><td>4303.0                            </td><td>2018-06-17-SCASA               </td><td>                          </td><td>Ben Lomand                  </td><td>United States               </td><td>Columbia SC (MRC-546)                 </td><td>803.0                               </td><td>29062.0                         </td><td>SC                               </td><td>nan                   </td><td>                             </td><td>                                  </td><td>                                  </td><td>List: 2018-06-17-SCASA.2018-06-17-SCASA Registrant List</td><td>List import                     </td><td>false                        </td><td>                                  </td><td>                 </td><td>nan               </td><td>               </td><td>               </td><td>             </td><td>West Columbia </td><td>United States    </td><td>Block                    </td><td>29169.0             </td><td>SC             </td><td>715 Ninth Street         </td><td>0.0               </td></tr>\n",
       "<tr><td>6      </td><td>00Q0h00001fChxdEAC</td><td>false                        </td><td>nan                </td><td>nan                </td><td>                  </td><td>67905.0          </td><td>                            </td><td>                            </td><td>No Last Step - No Next Step   </td><td>nan               </td><td>nan                 </td><td>nan               </td><td>nan                        </td><td>nan                 </td><td>nan                  </td><td>20970000000.0    </td><td>                 </td><td>nan               </td><td>false                          </td><td>nan              </td><td>                 </td><td>false            </td><td>Detroit      </td><td>Different    </td><td>Blue Cross Blue Shield of Michigan</td><td>nan             </td><td>nan            </td><td>United States</td><td>2018-06-06 18:52:01</td><td>2018.0           </td><td>USD              </td><td>nan                                   </td><td>false                        </td><td>8260071.0                              </td><td>IT                        </td><td>                  </td><td>                  </td><td>nan                   </td><td>nan                    </td><td>                  </td><td>                         </td><td>                                </td><td>bcbsm.com         </td><td>gmolakaluri@bcbsm.com           </td><td>                   </td><td>                         </td><td>Gopala     </td><td>          </td><td>          </td><td>Financial Services & Insurance (FSI)</td><td>false        </td><td>false      </td><td>true             </td><td>false                   </td><td>10001122.0       </td><td>false         </td><td>                   </td><td>2018-09-17 15:32:34</td><td>Molakaluri</td><td>nan                 </td><td>nan             </td><td>                       </td><td>DiscoverOrg </td><td>Sales           </td><td>                                   </td><td>nan            </td><td>                                </td><td>false            </td><td>false                   </td><td>             </td><td>Gopala Molakaluri</td><td>8546.0              </td><td>5000.0             </td><td>nan                            </td><td>              </td><td>false                </td><td>                        </td><td>2018-06-08 23:19:29      </td><td>Consideration                   </td><td>59.0                            </td><td>Weak                           </td><td>D                         </td><td>0.0                             </td><td>Moderate                       </td><td>nan                          </td><td>nan                 </td><td>Marketing Ready     </td><td>48226.0           </td><td>Never Customer                              </td><td>AMCO - STR - South Central      </td><td>English - US           </td><td>           </td><td>nan                       </td><td>                     </td><td>                           </td><td>                          </td><td>                           </td><td>false                 </td><td>                        </td><td>nan           </td><td>                    </td><td>false                        </td><td>            </td><td>                       </td><td>MI     </td><td>Marketing Ready</td><td>Marketing Ready  </td><td>false           </td><td>false          </td><td>false          </td><td>true          </td><td>2018-09-17 15:32:35</td><td>AMCO - STR - OhioVal      </td><td>AMER - EVG - East </td><td>AMER - COM             </td><td>AMER               </td><td>AMER              </td><td>ISS Renewal-ENT/STR       </td><td>AMCO - ESE            </td><td>nan           </td><td>Senior Manager, Delivery                           </td><td>Commercial               </td><td>Commercial         </td><td>false            </td><td>www.bcbsm.com      </td><td>false                  </td><td>Cold             </td><td>Other                                     </td><td>                            </td><td>nan                               </td><td>                               </td><td>                          </td><td>                            </td><td>                            </td><td>                                      </td><td>nan                                 </td><td>nan                             </td><td>                                 </td><td>nan                   </td><td>                             </td><td>                                  </td><td>                                  </td><td>                                                       </td><td>                                </td><td>false                        </td><td>                                  </td><td>                 </td><td>nan               </td><td>               </td><td>               </td><td>             </td><td>Detroit       </td><td>United States    </td><td>Address                  </td><td>48226.0             </td><td>MI             </td><td>600 E Lafayette Boulevard</td><td>0.0               </td></tr>\n",
       "<tr><td>7      </td><td>00Q0h00001XfNMIEA3</td><td>false                        </td><td>9.0                </td><td>nan                </td><td>                  </td><td>30829.0          </td><td>2018-10-19 18:17:56         </td><td>2018-10-19 18:17:56         </td><td>LS w/in 60 days - No Next Step</td><td>nan               </td><td>nan                 </td><td>nan               </td><td>nan                        </td><td>nan                 </td><td>nan                  </td><td>170116760.0      </td><td>                 </td><td>nan               </td><td>false                          </td><td>nan              </td><td>Mike Penn        </td><td>false            </td><td>White Plains </td><td>Matched      </td><td>Combe Incorporated                </td><td>nan             </td><td>nan            </td><td>United States</td><td>2018-09-11 16:13:09</td><td>2018.0           </td><td>USD              </td><td>nan                                   </td><td>false                        </td><td>nan                                    </td><td>                          </td><td>                  </td><td>                  </td><td>nan                   </td><td>nan                    </td><td>                  </td><td>                         </td><td>                                </td><td>combe.com         </td><td>rlanni@combe.com                </td><td>                   </td><td>                         </td><td>Rob        </td><td>          </td><td>          </td><td>Chemicals                           </td><td>false        </td><td>false      </td><td>true             </td><td>false                   </td><td>9037461.0        </td><td>false         </td><td>2018-10-19 00:00:00</td><td>2018-10-19 18:18:16</td><td>Lanni     </td><td>nan                 </td><td>nan             </td><td>2018-10-19 00:00:00    </td><td>Jigsaw      </td><td>Sales           </td><td>                                   </td><td>nan            </td><td>                                </td><td>false            </td><td>false                   </td><td>             </td><td>Rob Lanni        </td><td>600.0               </td><td>600.0              </td><td>0.0                            </td><td>              </td><td>false                </td><td>Manual - Marked Finished</td><td>                         </td><td>                                </td><td>nan                             </td><td>                               </td><td>                          </td><td>nan                             </td><td>                               </td><td>nan                          </td><td>nan                 </td><td>Marketing Ready     </td><td>nan               </td><td>Never Customer                              </td><td>                                </td><td>English - US           </td><td>           </td><td>nan                       </td><td>                     </td><td>                           </td><td>                          </td><td>                           </td><td>false                 </td><td>                        </td><td>nan           </td><td>                    </td><td>false                        </td><td>            </td><td>                       </td><td>NY     </td><td>Marketing Ready</td><td>Marketing Ready  </td><td>false           </td><td>false          </td><td>false          </td><td>false         </td><td>2018-10-19 18:18:16</td><td>AMCO - TAC - Brooklyn     </td><td>AMER - EVG - East </td><td>                       </td><td>AMER               </td><td>AMER              </td><td>Other                     </td><td>AMCO - NL             </td><td>nan           </td><td>Chief Information Officer and Senior Vice President</td><td>Commercial               </td><td>Commercial         </td><td>false            </td><td>                   </td><td>false                  </td><td>Cold             </td><td>Added from Data.com                       </td><td>                            </td><td>nan                               </td><td>                               </td><td>                          </td><td>                            </td><td>                            </td><td>                                      </td><td>nan                                 </td><td>nan                             </td><td>                                 </td><td>nan                   </td><td>                             </td><td>                                  </td><td>                                  </td><td>                                                       </td><td>                                </td><td>false                        </td><td>                                  </td><td>                 </td><td>nan               </td><td>               </td><td>               </td><td>             </td><td>White Plains  </td><td>United States    </td><td>Address                  </td><td>nan                 </td><td>NY             </td><td>1101 Westchester Ave     </td><td>0.0               </td></tr>\n",
       "<tr><td>8      </td><td>00Q0h00001fLFEQEA4</td><td>true                         </td><td>5.0                </td><td>nan                </td><td>                  </td><td>112758.0         </td><td>2018-11-28 15:34:09         </td><td>2018-11-28 15:34:09         </td><td>LS w/in 7 days - No Next Step </td><td>nan               </td><td>nan                 </td><td>nan               </td><td>nan                        </td><td>nan                 </td><td>nan                  </td><td>54.0             </td><td>                 </td><td>nan               </td><td>false                          </td><td>nan              </td><td>Patrick Ubel     </td><td>false            </td><td>Cincinnati   </td><td>NotFound     </td><td>LSI Industries                    </td><td>nan             </td><td>nan            </td><td>United States</td><td>2018-02-09 18:51:45</td><td>2018.0           </td><td>USD              </td><td>nan                                   </td><td>false                        </td><td>nan                                    </td><td>                          </td><td>                  </td><td>                  </td><td>nan                   </td><td>nan                    </td><td>                  </td><td>                         </td><td>                                </td><td>lsi-industries.com</td><td>andy.foerster@lsi-industries.com</td><td>                   </td><td>                         </td><td>Andy       </td><td>          </td><td>          </td><td>Manufacturing                       </td><td>false        </td><td>false      </td><td>true             </td><td>false                   </td><td>nan              </td><td>false         </td><td>2018-11-28 00:00:00</td><td>2018-11-28 15:34:29</td><td>Foerster  </td><td>nan                 </td><td>nan             </td><td>2018-11-28 00:00:00    </td><td>6sense      </td><td>FIX             </td><td>                                   </td><td>nan            </td><td>                                </td><td>false            </td><td>false                   </td><td>             </td><td>Andy Foerster    </td><td>0.0                 </td><td>1929.0             </td><td>1.0                            </td><td>              </td><td>false                </td><td>Working                 </td><td>2018-02-10 16:43:49      </td><td>Consideration                   </td><td>65.0                            </td><td>Moderate                       </td><td>C                         </td><td>59.0                            </td><td>Weak                           </td><td>nan                          </td><td>nan                 </td><td>Marketing Ready     </td><td>45242.0           </td><td>Never Customer                              </td><td>                                </td><td>English - US           </td><td>           </td><td>nan                       </td><td>                     </td><td>                           </td><td>                          </td><td>                           </td><td>false                 </td><td>N/A                     </td><td>nan           </td><td>                    </td><td>false                        </td><td>            </td><td>                       </td><td>OH     </td><td>Marketing Ready</td><td>Marketing Ready  </td><td>false           </td><td>false          </td><td>false          </td><td>false         </td><td>2018-11-28 15:34:29</td><td>AMCO - TAC - Northeast    </td><td>AMER - EVG - East </td><td>AMER - COM             </td><td>AMER               </td><td>AMER              </td><td>ISS Renewal-TAC East      </td><td>AMCO - NL             </td><td>nan           </td><td>Executive VP & Chief Technology Officer            </td><td>Commercial               </td><td>Commercial         </td><td>false            </td><td>lsi-industries.com </td><td>false                  </td><td>Warm             </td><td>Other                                     </td><td>                            </td><td>nan                               </td><td>                               </td><td>                          </td><td>                            </td><td>                            </td><td>                                      </td><td>nan                                 </td><td>nan                             </td><td>                                 </td><td>165.0                 </td><td>                             </td><td>                                  </td><td>                                  </td><td>Web service API                                        </td><td>Web service API                 </td><td>false                        </td><td>                                  </td><td>                 </td><td>nan               </td><td>               </td><td>               </td><td>             </td><td>Cincinnati    </td><td>United States    </td><td>Address                  </td><td>45242.0             </td><td>OH             </td><td>10000 Alliance Road      </td><td>0.0               </td></tr>\n",
       "<tr><td>9      </td><td>00Q0h00001fLFEjEAO</td><td>false                        </td><td>nan                </td><td>nan                </td><td>                  </td><td>112758.0         </td><td>                            </td><td>                            </td><td>No Last Step - No Next Step   </td><td>nan               </td><td>nan                 </td><td>nan               </td><td>nan                        </td><td>nan                 </td><td>nan                  </td><td>70.0             </td><td>                 </td><td>nan               </td><td>false                          </td><td>nan              </td><td>                 </td><td>false            </td><td>Jonesboro    </td><td>NotFound     </td><td>Delta Air Lines                   </td><td>nan             </td><td>nan            </td><td>United States</td><td>2018-02-09 18:51:22</td><td>2018.0           </td><td>USD              </td><td>nan                                   </td><td>false                        </td><td>nan                                    </td><td>                          </td><td>                  </td><td>                  </td><td>nan                   </td><td>nan                    </td><td>                  </td><td>                         </td><td>                                </td><td>delta.com         </td><td>david.skipwith@delta.com        </td><td>                   </td><td>                         </td><td>David      </td><td>          </td><td>          </td><td>Transportation, Courier, Stoarage   </td><td>false        </td><td>false      </td><td>true             </td><td>false                   </td><td>nan              </td><td>false         </td><td>                   </td><td>2018-09-17 16:27:36</td><td>Skipwith  </td><td>nan                 </td><td>nan             </td><td>                       </td><td>6sense      </td><td>FIX             </td><td>                                   </td><td>nan            </td><td>                                </td><td>false            </td><td>false                   </td><td>             </td><td>David Skipwith   </td><td>0.0                 </td><td>360000.0           </td><td>nan                            </td><td>              </td><td>false                </td><td>                        </td><td>2018-02-10 16:43:49      </td><td>Consideration                   </td><td>69.0                            </td><td>Strong                         </td><td>C                         </td><td>59.0                            </td><td>Weak                           </td><td>nan                          </td><td>nan                 </td><td>Marketing Ready     </td><td>30236.0           </td><td>Never Customer                              </td><td>AMCO - STR - South Central      </td><td>English - US           </td><td>           </td><td>nan                       </td><td>                     </td><td>                           </td><td>                          </td><td>                           </td><td>false                 </td><td>N/A                     </td><td>nan           </td><td>                    </td><td>false                        </td><td>            </td><td>                       </td><td>GA     </td><td>Marketing Ready</td><td>Marketing Ready  </td><td>false           </td><td>false          </td><td>false          </td><td>true          </td><td>2018-09-17 16:27:36</td><td>AMCO - STR - South Central</td><td>AMER - EVG - East </td><td>                       </td><td>AMER               </td><td>AMER              </td><td>Other                     </td><td>AMCO - ESE            </td><td>nan           </td><td>Security Analyst                                   </td><td>Commercial               </td><td>Commercial         </td><td>false            </td><td>delta.com          </td><td>false                  </td><td>Warm             </td><td>Other                                     </td><td>                            </td><td>nan                               </td><td>                               </td><td>                          </td><td>                            </td><td>                            </td><td>                                      </td><td>nan                                 </td><td>nan                             </td><td>                                 </td><td>165.0                 </td><td>                             </td><td>                                  </td><td>                                  </td><td>Web service API                                        </td><td>Web service API                 </td><td>false                        </td><td>                                  </td><td>                 </td><td>nan               </td><td>               </td><td>               </td><td>             </td><td>Jonesboro     </td><td>United States    </td><td>Address                  </td><td>30236.0             </td><td>GA             </td><td>409 Charleston Avenue    </td><td>0.0               </td></tr>\n",
       "</tbody>\n",
       "</table>"
      ]
     },
     "metadata": {},
     "output_type": "display_data"
    }
   ],
   "source": [
    "prod.describe()"
   ]
  },
  {
   "cell_type": "code",
   "execution_count": 115,
   "metadata": {},
   "outputs": [
    {
     "name": "stdout",
     "output_type": "stream",
     "text": [
      "drf prediction progress: | (failed)\n"
     ]
    },
    {
     "ename": "OSError",
     "evalue": "Job with key $03017f00000132d4ffffffff$_848a168d97b7862e87928c2014b94534 failed with an exception: java.lang.IllegalArgumentException: Test/Validation dataset has a non-categorical column 'Activity_Sales_Post_BDR__c' which is categorical in the training data\nstacktrace: \njava.lang.IllegalArgumentException: Test/Validation dataset has a non-categorical column 'Activity_Sales_Post_BDR__c' which is categorical in the training data\n\tat hex.Model.adaptTestForTrain(Model.java:1201)\n\tat hex.Model.adaptTestForTrain(Model.java:1075)\n\tat hex.Model.score(Model.java:1341)\n\tat water.api.ModelMetricsHandler$1.compute2(ModelMetricsHandler.java:374)\n\tat water.H2O$H2OCountedCompleter.compute(H2O.java:1310)\n\tat jsr166y.CountedCompleter.exec(CountedCompleter.java:468)\n\tat jsr166y.ForkJoinTask.doExec(ForkJoinTask.java:263)\n\tat jsr166y.ForkJoinPool$WorkQueue.runTask(ForkJoinPool.java:974)\n\tat jsr166y.ForkJoinPool.runWorker(ForkJoinPool.java:1477)\n\tat jsr166y.ForkJoinWorkerThread.run(ForkJoinWorkerThread.java:104)\n",
     "output_type": "error",
     "traceback": [
      "\u001b[0;31m---------------------------------------------------------------------------\u001b[0m",
      "\u001b[0;31mOSError\u001b[0m                                   Traceback (most recent call last)",
      "\u001b[0;32m<ipython-input-115-2fab7a6059c1>\u001b[0m in \u001b[0;36m<module>\u001b[0;34m()\u001b[0m\n\u001b[0;32m----> 1\u001b[0;31m \u001b[0mpred\u001b[0m \u001b[0;34m=\u001b[0m \u001b[0maml\u001b[0m\u001b[0;34m.\u001b[0m\u001b[0mpredict\u001b[0m\u001b[0;34m(\u001b[0m\u001b[0mprod\u001b[0m\u001b[0;34m)\u001b[0m\u001b[0;34m\u001b[0m\u001b[0m\n\u001b[0m\u001b[1;32m      2\u001b[0m \u001b[0mpred\u001b[0m\u001b[0;34m.\u001b[0m\u001b[0mhead\u001b[0m\u001b[0;34m(\u001b[0m\u001b[0;34m)\u001b[0m\u001b[0;34m\u001b[0m\u001b[0m\n",
      "\u001b[0;32m/Users/bear/anaconda/lib/python3.6/site-packages/h2o/automl/autoh2o.py\u001b[0m in \u001b[0;36mpredict\u001b[0;34m(self, test_data)\u001b[0m\n\u001b[1;32m    395\u001b[0m         \u001b[0;32mif\u001b[0m \u001b[0mself\u001b[0m\u001b[0;34m.\u001b[0m\u001b[0m_fetch\u001b[0m\u001b[0;34m(\u001b[0m\u001b[0;34m)\u001b[0m\u001b[0;34m:\u001b[0m\u001b[0;34m\u001b[0m\u001b[0m\n\u001b[1;32m    396\u001b[0m             \u001b[0mself\u001b[0m\u001b[0;34m.\u001b[0m\u001b[0m_model\u001b[0m \u001b[0;34m=\u001b[0m \u001b[0mh2o\u001b[0m\u001b[0;34m.\u001b[0m\u001b[0mget_model\u001b[0m\u001b[0;34m(\u001b[0m\u001b[0mself\u001b[0m\u001b[0;34m.\u001b[0m\u001b[0m_leader_id\u001b[0m\u001b[0;34m)\u001b[0m\u001b[0;34m\u001b[0m\u001b[0m\n\u001b[0;32m--> 397\u001b[0;31m             \u001b[0;32mreturn\u001b[0m \u001b[0mself\u001b[0m\u001b[0;34m.\u001b[0m\u001b[0m_model\u001b[0m\u001b[0;34m.\u001b[0m\u001b[0mpredict\u001b[0m\u001b[0;34m(\u001b[0m\u001b[0mtest_data\u001b[0m\u001b[0;34m)\u001b[0m\u001b[0;34m\u001b[0m\u001b[0m\n\u001b[0m\u001b[1;32m    398\u001b[0m         \u001b[0mprint\u001b[0m\u001b[0;34m(\u001b[0m\u001b[0;34m\"No model built yet...\"\u001b[0m\u001b[0;34m)\u001b[0m\u001b[0;34m\u001b[0m\u001b[0m\n\u001b[1;32m    399\u001b[0m \u001b[0;34m\u001b[0m\u001b[0m\n",
      "\u001b[0;32m/Users/bear/anaconda/lib/python3.6/site-packages/h2o/model/model_base.py\u001b[0m in \u001b[0;36mpredict\u001b[0;34m(self, test_data, custom_metric, custom_metric_func)\u001b[0m\n\u001b[1;32m    173\u001b[0m         j = H2OJob(h2o.api(\"POST /4/Predictions/models/%s/frames/%s\" % (self.model_id, test_data.frame_id), data = {'custom_metric_func': custom_metric_func}),\n\u001b[1;32m    174\u001b[0m                    self._model_json[\"algo\"] + \" prediction\")\n\u001b[0;32m--> 175\u001b[0;31m         \u001b[0mj\u001b[0m\u001b[0;34m.\u001b[0m\u001b[0mpoll\u001b[0m\u001b[0;34m(\u001b[0m\u001b[0;34m)\u001b[0m\u001b[0;34m\u001b[0m\u001b[0m\n\u001b[0m\u001b[1;32m    176\u001b[0m         \u001b[0;32mreturn\u001b[0m \u001b[0mh2o\u001b[0m\u001b[0;34m.\u001b[0m\u001b[0mget_frame\u001b[0m\u001b[0;34m(\u001b[0m\u001b[0mj\u001b[0m\u001b[0;34m.\u001b[0m\u001b[0mdest_key\u001b[0m\u001b[0;34m)\u001b[0m\u001b[0;34m\u001b[0m\u001b[0m\n\u001b[1;32m    177\u001b[0m \u001b[0;34m\u001b[0m\u001b[0m\n",
      "\u001b[0;32m/Users/bear/anaconda/lib/python3.6/site-packages/h2o/job.py\u001b[0m in \u001b[0;36mpoll\u001b[0;34m(self, verbose_model_scoring_history)\u001b[0m\n\u001b[1;32m     75\u001b[0m             \u001b[0;32mif\u001b[0m \u001b[0;34m(\u001b[0m\u001b[0misinstance\u001b[0m\u001b[0;34m(\u001b[0m\u001b[0mself\u001b[0m\u001b[0;34m.\u001b[0m\u001b[0mjob\u001b[0m\u001b[0;34m,\u001b[0m \u001b[0mdict\u001b[0m\u001b[0;34m)\u001b[0m\u001b[0;34m)\u001b[0m \u001b[0;32mand\u001b[0m \u001b[0;34m(\u001b[0m\u001b[0;34m\"stacktrace\"\u001b[0m \u001b[0;32min\u001b[0m \u001b[0mlist\u001b[0m\u001b[0;34m(\u001b[0m\u001b[0mself\u001b[0m\u001b[0;34m.\u001b[0m\u001b[0mjob\u001b[0m\u001b[0;34m)\u001b[0m\u001b[0;34m)\u001b[0m\u001b[0;34m:\u001b[0m\u001b[0;34m\u001b[0m\u001b[0m\n\u001b[1;32m     76\u001b[0m                 raise EnvironmentError(\"Job with key {} failed with an exception: {}\\nstacktrace: \"\n\u001b[0;32m---> 77\u001b[0;31m                                        \"\\n{}\".format(self.job_key, self.exception, self.job[\"stacktrace\"]))\n\u001b[0m\u001b[1;32m     78\u001b[0m             \u001b[0;32melse\u001b[0m\u001b[0;34m:\u001b[0m\u001b[0;34m\u001b[0m\u001b[0m\n\u001b[1;32m     79\u001b[0m                 \u001b[0;32mraise\u001b[0m \u001b[0mEnvironmentError\u001b[0m\u001b[0;34m(\u001b[0m\u001b[0;34m\"Job with key %s failed with an exception: %s\"\u001b[0m \u001b[0;34m%\u001b[0m \u001b[0;34m(\u001b[0m\u001b[0mself\u001b[0m\u001b[0;34m.\u001b[0m\u001b[0mjob_key\u001b[0m\u001b[0;34m,\u001b[0m \u001b[0mself\u001b[0m\u001b[0;34m.\u001b[0m\u001b[0mexception\u001b[0m\u001b[0;34m)\u001b[0m\u001b[0;34m)\u001b[0m\u001b[0;34m\u001b[0m\u001b[0m\n",
      "\u001b[0;31mOSError\u001b[0m: Job with key $03017f00000132d4ffffffff$_848a168d97b7862e87928c2014b94534 failed with an exception: java.lang.IllegalArgumentException: Test/Validation dataset has a non-categorical column 'Activity_Sales_Post_BDR__c' which is categorical in the training data\nstacktrace: \njava.lang.IllegalArgumentException: Test/Validation dataset has a non-categorical column 'Activity_Sales_Post_BDR__c' which is categorical in the training data\n\tat hex.Model.adaptTestForTrain(Model.java:1201)\n\tat hex.Model.adaptTestForTrain(Model.java:1075)\n\tat hex.Model.score(Model.java:1341)\n\tat water.api.ModelMetricsHandler$1.compute2(ModelMetricsHandler.java:374)\n\tat water.H2O$H2OCountedCompleter.compute(H2O.java:1310)\n\tat jsr166y.CountedCompleter.exec(CountedCompleter.java:468)\n\tat jsr166y.ForkJoinTask.doExec(ForkJoinTask.java:263)\n\tat jsr166y.ForkJoinPool$WorkQueue.runTask(ForkJoinPool.java:974)\n\tat jsr166y.ForkJoinPool.runWorker(ForkJoinPool.java:1477)\n\tat jsr166y.ForkJoinWorkerThread.run(ForkJoinWorkerThread.java:104)\n"
     ]
    }
   ],
   "source": [
    "pred = aml.predict(prod)\n",
    "pred.head()"
   ]
  },
  {
   "cell_type": "code",
   "execution_count": null,
   "metadata": {
    "collapsed": true
   },
   "outputs": [],
   "source": [
    "# split into training and test for showing how to predict\n",
    "train, test = df.split_frame([0.95])"
   ]
  },
  {
   "cell_type": "code",
   "execution_count": null,
   "metadata": {},
   "outputs": [],
   "source": [
    "test.describe()"
   ]
  },
  {
   "cell_type": "code",
   "execution_count": null,
   "metadata": {},
   "outputs": [],
   "source": [
    "test_file='XLSX/test.csv'\n",
    "test_path=os.path.join(server_path,test_file)\n",
    "test_path"
   ]
  },
  {
   "cell_type": "code",
   "execution_count": null,
   "metadata": {},
   "outputs": [],
   "source": [
    "test = h2o.import_file(test_path)"
   ]
  },
  {
   "cell_type": "code",
   "execution_count": null,
   "metadata": {},
   "outputs": [],
   "source": [
    "test.describe()"
   ]
  },
  {
   "cell_type": "markdown",
   "metadata": {},
   "source": [
    "## Predict Using Leader Model\n",
    "\n",
    "If you need to generate predictions on a test set, you can make predictions on the `\"H2OAutoML\"` object directly, or on the leader model object."
   ]
  },
  {
   "cell_type": "code",
   "execution_count": null,
   "metadata": {},
   "outputs": [],
   "source": [
    "pred = aml.predict(test)\n",
    "pred.head()"
   ]
  },
  {
   "cell_type": "markdown",
   "metadata": {},
   "source": [
    "## model_performance()\n",
    "\n",
    "The standard `model_performance()` method can be applied to the AutoML leader model and a test set to generate an H2O model performance object.\n"
   ]
  },
  {
   "cell_type": "code",
   "execution_count": null,
   "metadata": {},
   "outputs": [],
   "source": [
    "perf = aml.leader.model_performance(test)\n",
    "perf"
   ]
  },
  {
   "cell_type": "code",
   "execution_count": null,
   "metadata": {},
   "outputs": [],
   "source": [
    "dir(perf)"
   ]
  },
  {
   "cell_type": "code",
   "execution_count": null,
   "metadata": {},
   "outputs": [],
   "source": [
    "d=perf.confusion_matrix()\n",
    "d"
   ]
  },
  {
   "cell_type": "code",
   "execution_count": null,
   "metadata": {},
   "outputs": [],
   "source": [
    "dir(perf)"
   ]
  },
  {
   "cell_type": "markdown",
   "metadata": {
    "collapsed": true
   },
   "source": [
    "In R we get plots like:\n",
    "    \n",
    "    #compute performance\n",
    "perf <- h2o.performance(automl_leader,conv_data.hex)\n",
    "h2o.confusionMatrix(perf)\n",
    "h2o.accuracy(perf)\n",
    "h2o.tpr(perf)"
   ]
  },
  {
   "cell_type": "code",
   "execution_count": null,
   "metadata": {},
   "outputs": [],
   "source": [
    "aml.leader.algo"
   ]
  },
  {
   "cell_type": "code",
   "execution_count": null,
   "metadata": {},
   "outputs": [],
   "source": [
    "dir(aml.leader)"
   ]
  },
  {
   "cell_type": "code",
   "execution_count": null,
   "metadata": {},
   "outputs": [],
   "source": [
    "aml.leader.model_performance(test).auc() "
   ]
  },
  {
   "cell_type": "code",
   "execution_count": null,
   "metadata": {},
   "outputs": [],
   "source": [
    "best_perf = aml.leader.model_performance()\n",
    "best_perf"
   ]
  },
  {
   "cell_type": "code",
   "execution_count": null,
   "metadata": {},
   "outputs": [],
   "source": [
    "best_perf.plot()"
   ]
  },
  {
   "cell_type": "code",
   "execution_count": null,
   "metadata": {},
   "outputs": [],
   "source": [
    "aml.leader.confusion_matrix()\n"
   ]
  },
  {
   "cell_type": "code",
   "execution_count": null,
   "metadata": {},
   "outputs": [],
   "source": [
    "roc=aml.leader.roc()\n",
    "roc"
   ]
  },
  {
   "cell_type": "code",
   "execution_count": null,
   "metadata": {},
   "outputs": [],
   "source": [
    "aml.leader.tnr"
   ]
  },
  {
   "cell_type": "code",
   "execution_count": null,
   "metadata": {},
   "outputs": [],
   "source": [
    "aml.leader.tpr"
   ]
  },
  {
   "cell_type": "code",
   "execution_count": null,
   "metadata": {},
   "outputs": [],
   "source": [
    "aml.leader.weights"
   ]
  },
  {
   "cell_type": "code",
   "execution_count": null,
   "metadata": {
    "collapsed": true
   },
   "outputs": [],
   "source": []
  },
  {
   "cell_type": "code",
   "execution_count": null,
   "metadata": {
    "collapsed": true
   },
   "outputs": [],
   "source": []
  },
  {
   "cell_type": "code",
   "execution_count": null,
   "metadata": {
    "collapsed": true
   },
   "outputs": [],
   "source": []
  },
  {
   "cell_type": "code",
   "execution_count": null,
   "metadata": {
    "collapsed": true
   },
   "outputs": [],
   "source": []
  },
  {
   "cell_type": "code",
   "execution_count": null,
   "metadata": {
    "collapsed": true
   },
   "outputs": [],
   "source": []
  },
  {
   "cell_type": "code",
   "execution_count": null,
   "metadata": {
    "collapsed": true
   },
   "outputs": [],
   "source": []
  },
  {
   "cell_type": "code",
   "execution_count": null,
   "metadata": {
    "collapsed": true
   },
   "outputs": [],
   "source": []
  },
  {
   "cell_type": "code",
   "execution_count": null,
   "metadata": {
    "collapsed": true
   },
   "outputs": [],
   "source": []
  },
  {
   "cell_type": "code",
   "execution_count": null,
   "metadata": {
    "collapsed": true
   },
   "outputs": [],
   "source": []
  },
  {
   "cell_type": "code",
   "execution_count": null,
   "metadata": {
    "collapsed": true
   },
   "outputs": [],
   "source": []
  },
  {
   "cell_type": "code",
   "execution_count": null,
   "metadata": {
    "collapsed": true
   },
   "outputs": [],
   "source": []
  },
  {
   "cell_type": "code",
   "execution_count": null,
   "metadata": {
    "collapsed": true
   },
   "outputs": [],
   "source": []
  },
  {
   "cell_type": "code",
   "execution_count": null,
   "metadata": {
    "collapsed": true
   },
   "outputs": [],
   "source": []
  },
  {
   "cell_type": "code",
   "execution_count": null,
   "metadata": {
    "collapsed": true
   },
   "outputs": [],
   "source": []
  },
  {
   "cell_type": "code",
   "execution_count": null,
   "metadata": {},
   "outputs": [],
   "source": [
    "# h2o.cluster().shutdown()"
   ]
  },
  {
   "cell_type": "markdown",
   "metadata": {},
   "source": [
    "### Test Data Sets for Binary Classifier \n",
    "\n",
    "#### Some Kaggle Binary classification competitions  \n",
    "\n",
    "The idea here is to get a range of datasets to test our H2O binary classification models as well as to understand which approaches work best for binary classification.   The hope is to get a single model or set of models that perform well in these competitions as well as logic and tests to dynamically choose the best models and their parameters.  \n",
    "\n",
    "[Santander Customer Satisfaction](https://www.kaggle.com/c/santander-customer-satisfaction)    \n",
    "\n",
    "[Facebook Recruiting IV: Human or Robot?](https://www.kaggle.com/c/facebook-recruiting-iv-human-or-bot)    \n",
    "\n",
    "[DonorsChoose.org Application Screening Predict whether teachers' project proposals are accepted](https://www.kaggle.com/c/donorschoose-application-screening)    \n",
    "\n",
    "[Statoil/C-CORE Iceberg Classifier Challenge Ship or iceberg, can you decide from space?](https://www.kaggle.com/c/statoil-iceberg-classifier-challenge)    \n",
    "\n",
    "[WSDM - KKBox's Churn Prediction Challenge Can you predict when subscribers will churn?](https://www.kaggle.com/c/kkbox-churn-prediction-challenge)    \n",
    "\n",
    "[Porto Seguro’s Safe Driver Prediction Predict if a driver will file an insurance claim next year.](https://www.kaggle.com/c/porto-seguro-safe-driver-prediction)    \n",
    "\n",
    "[Porto Seguro’s Safe Driver Prediction Predict if a driver will file an insurance claim next year.](https://www.kaggle.com/c/dato-native)    \n",
    "\n",
    "[Data Science Bowl 2017 Can you improve lung cancer detection?](https://www.kaggle.com/c/data-science-bowl-2017)    \n",
    "\n",
    "[Random Acts of Pizza Predicting altruism through free pizza](https://www.kaggle.com/c/random-acts-of-pizza)    \n"
   ]
  },
  {
   "cell_type": "markdown",
   "metadata": {},
   "source": [
    "Last update:  October 3, 2018"
   ]
  }
 ],
 "metadata": {
  "anaconda-cloud": {},
  "kernelspec": {
   "display_name": "Python 3",
   "language": "python",
   "name": "python3"
  },
  "language_info": {
   "codemirror_mode": {
    "name": "ipython",
    "version": 3
   },
   "file_extension": ".py",
   "mimetype": "text/x-python",
   "name": "python",
   "nbconvert_exporter": "python",
   "pygments_lexer": "ipython3",
   "version": "3.6.5"
  }
 },
 "nbformat": 4,
 "nbformat_minor": 2
}
