{
 "cells": [
  {
   "cell_type": "markdown",
   "metadata": {
    "id": "UtQQzsu-rulK"
   },
   "source": [
    "To check the performance of the model in a easier and faster way we have few Libraries in hand and will be discussing it in this notebook.\n",
    "\n",
    "We have listed few libraries here\n",
    "\n",
    "\n",
    "\n",
    "*   tpot\n",
    "\n",
    "\n",
    "\n",
    "*   h2o automl\n",
    "*   auto keras\n",
    "\n",
    "\n",
    "*   Auto-sklearn\n",
    "*   AutoML\n",
    "\n",
    "\n",
    "*   MLBox\n",
    "*   Pycaret\n",
    "\n",
    "\n",
    "*  Lazy Predict\n",
    "\n",
    "\n",
    "We have implemented few of the above libraries in this notebook\n",
    "\n",
    "\n",
    "\n",
    "\n",
    "\n",
    "\n",
    "\n",
    "\n",
    "\n",
    "\n",
    "\n",
    "\n",
    "\n",
    "\n",
    "\n",
    "\n"
   ]
  },
  {
   "cell_type": "markdown",
   "metadata": {
    "id": "rQOQEaXZljP9"
   },
   "source": [
    "AutoSKLearn\n",
    "\n",
    "AutoSklearn automatically searches for the right machine learning algorithm for a dataset and optimizes its hyperparameters.\n",
    "\n",
    "It is bulit around the Sckit Learn Machine Learning library."
   ]
  },
  {
   "cell_type": "markdown",
   "metadata": {
    "colab": {
     "base_uri": "https://localhost:8080/"
    },
    "id": "spe5fZr5nmUZ",
    "outputId": "631f3ca3-f776-4708-daa7-c569964c55f3"
   },
   "source": [
    "#Installing the libraries and the required dependencies for the library\n",
    "```bash\n",
    "!apt-get install swig-y\n",
    "or\n",
    "brew install swig\n",
    "!pip install Cython numpy\n",
    "!pip install auto-sklearn\n",
    "```"
   ]
  },
  {
   "cell_type": "code",
   "execution_count": 3,
   "metadata": {
    "id": "foYCTox6odEV"
   },
   "outputs": [
    {
     "ename": "ModuleNotFoundError",
     "evalue": "No module named 'autosklearn'",
     "output_type": "error",
     "traceback": [
      "\u001b[0;31m---------------------------------------------------------------------------\u001b[0m",
      "\u001b[0;31mModuleNotFoundError\u001b[0m                       Traceback (most recent call last)",
      "\u001b[0;32m/var/folders/lh/42j8mfjx069d1bkc2wlf2pw40000gn/T/ipykernel_32888/789522138.py\u001b[0m in \u001b[0;36m<module>\u001b[0;34m\u001b[0m\n\u001b[1;32m      1\u001b[0m \u001b[0;31m#importing the libraries\u001b[0m\u001b[0;34m\u001b[0m\u001b[0;34m\u001b[0m\u001b[0;34m\u001b[0m\u001b[0m\n\u001b[1;32m      2\u001b[0m \u001b[0;32mimport\u001b[0m \u001b[0msklearn\u001b[0m\u001b[0;34m\u001b[0m\u001b[0;34m\u001b[0m\u001b[0m\n\u001b[0;32m----> 3\u001b[0;31m \u001b[0;32mimport\u001b[0m \u001b[0mautosklearn\u001b[0m\u001b[0;34m.\u001b[0m\u001b[0mclassification\u001b[0m \u001b[0;32mas\u001b[0m \u001b[0mclassifier\u001b[0m\u001b[0;34m\u001b[0m\u001b[0;34m\u001b[0m\u001b[0m\n\u001b[0m\u001b[1;32m      4\u001b[0m \u001b[0;32mfrom\u001b[0m \u001b[0msklearn\u001b[0m\u001b[0;34m.\u001b[0m\u001b[0mmodel_selection\u001b[0m \u001b[0;32mimport\u001b[0m \u001b[0mtrain_test_split\u001b[0m\u001b[0;34m\u001b[0m\u001b[0;34m\u001b[0m\u001b[0m\n\u001b[1;32m      5\u001b[0m \u001b[0;32mfrom\u001b[0m \u001b[0msklearn\u001b[0m \u001b[0;32mimport\u001b[0m \u001b[0mdatasets\u001b[0m\u001b[0;34m\u001b[0m\u001b[0;34m\u001b[0m\u001b[0m\n",
      "\u001b[0;31mModuleNotFoundError\u001b[0m: No module named 'autosklearn'"
     ]
    }
   ],
   "source": [
    "#importing the libraries\n",
    "import sklearn\n",
    "import autosklearn.classification as classifier\n",
    "from sklearn.model_selection import train_test_split\n",
    "from sklearn import datasets"
   ]
  },
  {
   "cell_type": "code",
   "execution_count": null,
   "metadata": {
    "id": "TSwv2q_0odIt"
   },
   "outputs": [],
   "source": [
    "X,y=sklearn.datasets.load_iris(return_X_y=True)\n",
    "\n",
    "X_train,X_test,y_train,y_test=train_test_split(X,y,random_state=0)\n",
    "#creating the training and testing dataset"
   ]
  },
  {
   "cell_type": "code",
   "execution_count": null,
   "metadata": {
    "colab": {
     "base_uri": "https://localhost:8080/"
    },
    "id": "5vv0HYl3odNY",
    "outputId": "7f43d54f-65b7-43b2-e99f-452f16fcad1f"
   },
   "outputs": [],
   "source": [
    "automlclassifier=classifier.AutoSklearnClassifier(time_left_for_this_task=180,per_run_time_limit=40)\n",
    "automlclassifier.fit(X_train,y_train)\n",
    "# time_left_for_this_task tells us how much seconds are needed to train that particular model to select the right algorithm.\n",
    "# per_run_time_limit tells us how much seconds is used to run each and every algorithm\n"
   ]
  },
  {
   "cell_type": "code",
   "execution_count": null,
   "metadata": {
    "id": "tg6JCHFcodQN"
   },
   "outputs": [],
   "source": [
    "from sklearn.metrics import accuracy_score\n",
    "y_pred=automlclassifier.predict(X_test)\n",
    "#importing the accuracy_score and predicting the X_test"
   ]
  },
  {
   "cell_type": "code",
   "execution_count": null,
   "metadata": {
    "colab": {
     "base_uri": "https://localhost:8080/"
    },
    "id": "3HeyCtcCfRwz",
    "outputId": "3b081a7d-9d78-46cb-dc75-052352e8eafa"
   },
   "outputs": [],
   "source": [
    "score=accuracy_score(y_test,y_pred)\n",
    "print(score)"
   ]
  },
  {
   "cell_type": "code",
   "execution_count": null,
   "metadata": {
    "colab": {
     "base_uri": "https://localhost:8080/",
     "height": 254
    },
    "id": "9PQGOZrlfRzl",
    "outputId": "a4a69323-d0e6-47da-fb6b-efdd6f35ef01"
   },
   "outputs": [],
   "source": [
    "automlclassifier.show_models()\n",
    "#this shows what are the parameters which are selected \n",
    "#AutoSkLearn also helps us to select a pipeline"
   ]
  },
  {
   "cell_type": "markdown",
   "metadata": {
    "id": "6rBsW1Hbk1Ej"
   },
   "source": [
    "This helps the Data Scientist to select the right model with very few steps and this is also a very quick method."
   ]
  },
  {
   "cell_type": "markdown",
   "metadata": {
    "id": "hcxt7y8php1i"
   },
   "source": [
    "TPOT (Tree Based Pipeline Optimization Tool)"
   ]
  },
  {
   "cell_type": "markdown",
   "metadata": {
    "id": "6Dr9i4HtMvPx"
   },
   "source": [
    "The goal of TPOT is to automate the building of ML pipelines by combining a flexible expression tree representation of pipelines with stochastic search algorithms such as genetic programming. TPOT makes use of the Python-based scikit-learn library as its ML menu.\n",
    "\n",
    "TPOT uses the python based sckit learn machine learning library.\n",
    "\n",
    "We can use any dataset and split it into test and train data as our inputs.\n",
    "We get the best fit model with its parameters in the output."
   ]
  },
  {
   "cell_type": "code",
   "execution_count": null,
   "metadata": {
    "colab": {
     "base_uri": "https://localhost:8080/"
    },
    "id": "RYPEDo-uiZk2",
    "outputId": "78dd6c16-1218-41ad-dca6-c6858bcd8a44"
   },
   "outputs": [],
   "source": [
    "!pip install tpot"
   ]
  },
  {
   "cell_type": "code",
   "execution_count": null,
   "metadata": {
    "id": "UJXQ6donh_vw"
   },
   "outputs": [],
   "source": [
    "from tpot import TPOTClassifier\n",
    "from sklearn.datasets import load_iris\n",
    "from sklearn.model_selection import train_test_split"
   ]
  },
  {
   "cell_type": "code",
   "execution_count": null,
   "metadata": {
    "colab": {
     "base_uri": "https://localhost:8080/"
    },
    "id": "74hz5LHOiRne",
    "outputId": "4d0d23d2-ef8a-4cbf-86a2-ad6e0c01f2d4"
   },
   "outputs": [],
   "source": [
    "iris = load_iris()\n",
    "iris.data[0:5], iris.target"
   ]
  },
  {
   "cell_type": "code",
   "execution_count": null,
   "metadata": {
    "colab": {
     "base_uri": "https://localhost:8080/"
    },
    "id": "ylhEi4XEjE5e",
    "outputId": "fac2a5b0-abd5-4bd9-c50f-d5f57d500f47"
   },
   "outputs": [],
   "source": [
    "X_train, X_test, y_train, y_test = train_test_split(iris.data, iris.target,\n",
    "                                                    train_size=0.75, test_size=0.25)\n",
    "X_train.shape, X_test.shape, y_train.shape, y_test.shape"
   ]
  },
  {
   "cell_type": "code",
   "execution_count": null,
   "metadata": {
    "colab": {
     "base_uri": "https://localhost:8080/",
     "height": 448,
     "referenced_widgets": [
      "88eff172a69e410b9e32019b4ce3e7ea",
      "578f6b3a2442476c969eb997d93d1f22",
      "037ee04598b84c7a996d302699a79ef8",
      "03f556a45f704aca92c2ccbb40d3d456",
      "2a2e0278cb8842aaa2820fb9ae1cf7ad",
      "81511f93836444b68593d858ec616665",
      "93ae6f4ee08743fa8dd95a47b1e8a2f1",
      "b359e3dc37ab4fa0a82819d9e7f3e8cb",
      "2e637f05e08d4090aae34edd98075ab0",
      "4bb3259c88c54812bafde1e04e517327",
      "ee19deb2b368453fad093f88383d037f"
     ]
    },
    "id": "DgipkwNelWYB",
    "outputId": "3d23d9b2-9ec5-4ce5-a5ce-581721969569"
   },
   "outputs": [],
   "source": [
    "tpot = TPOTClassifier(verbosity=2,max_time_mins=10)\n",
    "tpot.fit(X_train,y_train)\n",
    "print(tpot.score(X_test,y_test))"
   ]
  },
  {
   "cell_type": "markdown",
   "metadata": {
    "id": "BfHzqAT2lyvq"
   },
   "source": [
    "This will run for 10mins because we have given maximum time as 10mins to check the best fit function.\n",
    "\n",
    "This will also gives the best model.In this example KNeighborsClasssifier is the model and we see the parameters and the score of this model"
   ]
  },
  {
   "cell_type": "code",
   "execution_count": null,
   "metadata": {
    "colab": {
     "base_uri": "https://localhost:8080/"
    },
    "id": "jTmVyldSjFD7",
    "outputId": "40221f9f-d02d-4a84-b212-33a4c25f680a"
   },
   "outputs": [],
   "source": [
    "tpot.fitted_pipeline_"
   ]
  },
  {
   "cell_type": "code",
   "execution_count": null,
   "metadata": {
    "colab": {
     "base_uri": "https://localhost:8080/"
    },
    "id": "qMQMVll9jFGm",
    "outputId": "1774c5b7-ea82-4470-9883-1b8d999b89c9"
   },
   "outputs": [],
   "source": [
    "print(tpot.score(X_test, y_test))"
   ]
  },
  {
   "cell_type": "code",
   "execution_count": null,
   "metadata": {
    "id": "pgO7AQxujFKI"
   },
   "outputs": [],
   "source": [
    "tpot.export('tpot_iris_pipeline.py')\n",
    "#This will create a pipeline and save it in this file"
   ]
  },
  {
   "cell_type": "markdown",
   "metadata": {
    "id": "DGz8YpBel2mk"
   },
   "source": []
  }
 ],
 "metadata": {
  "accelerator": "GPU",
  "colab": {
   "collapsed_sections": [],
   "name": "Modeling.ipynb",
   "provenance": []
  },
  "kernelspec": {
   "display_name": "Python 3 (ipykernel)",
   "language": "python",
   "name": "python3"
  },
  "language_info": {
   "codemirror_mode": {
    "name": "ipython",
    "version": 3
   },
   "file_extension": ".py",
   "mimetype": "text/x-python",
   "name": "python",
   "nbconvert_exporter": "python",
   "pygments_lexer": "ipython3",
   "version": "3.8.5"
  },
  "widgets": {
   "application/vnd.jupyter.widget-state+json": {
    "037ee04598b84c7a996d302699a79ef8": {
     "model_module": "@jupyter-widgets/controls",
     "model_module_version": "1.5.0",
     "model_name": "HTMLModel",
     "state": {
      "_dom_classes": [],
      "_model_module": "@jupyter-widgets/controls",
      "_model_module_version": "1.5.0",
      "_model_name": "HTMLModel",
      "_view_count": null,
      "_view_module": "@jupyter-widgets/controls",
      "_view_module_version": "1.5.0",
      "_view_name": "HTMLView",
      "description": "",
      "description_tooltip": null,
      "layout": "IPY_MODEL_93ae6f4ee08743fa8dd95a47b1e8a2f1",
      "placeholder": "​",
      "style": "IPY_MODEL_81511f93836444b68593d858ec616665",
      "value": "Optimization Progress:  98%"
     }
    },
    "03f556a45f704aca92c2ccbb40d3d456": {
     "model_module": "@jupyter-widgets/controls",
     "model_module_version": "1.5.0",
     "model_name": "FloatProgressModel",
     "state": {
      "_dom_classes": [],
      "_model_module": "@jupyter-widgets/controls",
      "_model_module_version": "1.5.0",
      "_model_name": "FloatProgressModel",
      "_view_count": null,
      "_view_module": "@jupyter-widgets/controls",
      "_view_module_version": "1.5.0",
      "_view_name": "ProgressView",
      "bar_style": "danger",
      "description": "",
      "description_tooltip": null,
      "layout": "IPY_MODEL_2e637f05e08d4090aae34edd98075ab0",
      "max": 100,
      "min": 0,
      "orientation": "horizontal",
      "style": "IPY_MODEL_b359e3dc37ab4fa0a82819d9e7f3e8cb",
      "value": 100
     }
    },
    "2a2e0278cb8842aaa2820fb9ae1cf7ad": {
     "model_module": "@jupyter-widgets/controls",
     "model_module_version": "1.5.0",
     "model_name": "HTMLModel",
     "state": {
      "_dom_classes": [],
      "_model_module": "@jupyter-widgets/controls",
      "_model_module_version": "1.5.0",
      "_model_name": "HTMLModel",
      "_view_count": null,
      "_view_module": "@jupyter-widgets/controls",
      "_view_module_version": "1.5.0",
      "_view_name": "HTMLView",
      "description": "",
      "description_tooltip": null,
      "layout": "IPY_MODEL_ee19deb2b368453fad093f88383d037f",
      "placeholder": "​",
      "style": "IPY_MODEL_4bb3259c88c54812bafde1e04e517327",
      "value": " 786/800 [09:47&lt;00:09,  1.54pipeline/s]"
     }
    },
    "2e637f05e08d4090aae34edd98075ab0": {
     "model_module": "@jupyter-widgets/base",
     "model_module_version": "1.2.0",
     "model_name": "LayoutModel",
     "state": {
      "_model_module": "@jupyter-widgets/base",
      "_model_module_version": "1.2.0",
      "_model_name": "LayoutModel",
      "_view_count": null,
      "_view_module": "@jupyter-widgets/base",
      "_view_module_version": "1.2.0",
      "_view_name": "LayoutView",
      "align_content": null,
      "align_items": null,
      "align_self": null,
      "border": null,
      "bottom": null,
      "display": null,
      "flex": null,
      "flex_flow": null,
      "grid_area": null,
      "grid_auto_columns": null,
      "grid_auto_flow": null,
      "grid_auto_rows": null,
      "grid_column": null,
      "grid_gap": null,
      "grid_row": null,
      "grid_template_areas": null,
      "grid_template_columns": null,
      "grid_template_rows": null,
      "height": null,
      "justify_content": null,
      "justify_items": null,
      "left": null,
      "margin": null,
      "max_height": null,
      "max_width": null,
      "min_height": null,
      "min_width": null,
      "object_fit": null,
      "object_position": null,
      "order": null,
      "overflow": null,
      "overflow_x": null,
      "overflow_y": null,
      "padding": null,
      "right": null,
      "top": null,
      "visibility": null,
      "width": null
     }
    },
    "4bb3259c88c54812bafde1e04e517327": {
     "model_module": "@jupyter-widgets/controls",
     "model_module_version": "1.5.0",
     "model_name": "DescriptionStyleModel",
     "state": {
      "_model_module": "@jupyter-widgets/controls",
      "_model_module_version": "1.5.0",
      "_model_name": "DescriptionStyleModel",
      "_view_count": null,
      "_view_module": "@jupyter-widgets/base",
      "_view_module_version": "1.2.0",
      "_view_name": "StyleView",
      "description_width": ""
     }
    },
    "578f6b3a2442476c969eb997d93d1f22": {
     "model_module": "@jupyter-widgets/base",
     "model_module_version": "1.2.0",
     "model_name": "LayoutModel",
     "state": {
      "_model_module": "@jupyter-widgets/base",
      "_model_module_version": "1.2.0",
      "_model_name": "LayoutModel",
      "_view_count": null,
      "_view_module": "@jupyter-widgets/base",
      "_view_module_version": "1.2.0",
      "_view_name": "LayoutView",
      "align_content": null,
      "align_items": null,
      "align_self": null,
      "border": null,
      "bottom": null,
      "display": null,
      "flex": null,
      "flex_flow": null,
      "grid_area": null,
      "grid_auto_columns": null,
      "grid_auto_flow": null,
      "grid_auto_rows": null,
      "grid_column": null,
      "grid_gap": null,
      "grid_row": null,
      "grid_template_areas": null,
      "grid_template_columns": null,
      "grid_template_rows": null,
      "height": null,
      "justify_content": null,
      "justify_items": null,
      "left": null,
      "margin": null,
      "max_height": null,
      "max_width": null,
      "min_height": null,
      "min_width": null,
      "object_fit": null,
      "object_position": null,
      "order": null,
      "overflow": null,
      "overflow_x": null,
      "overflow_y": null,
      "padding": null,
      "right": null,
      "top": null,
      "visibility": null,
      "width": null
     }
    },
    "81511f93836444b68593d858ec616665": {
     "model_module": "@jupyter-widgets/controls",
     "model_module_version": "1.5.0",
     "model_name": "DescriptionStyleModel",
     "state": {
      "_model_module": "@jupyter-widgets/controls",
      "_model_module_version": "1.5.0",
      "_model_name": "DescriptionStyleModel",
      "_view_count": null,
      "_view_module": "@jupyter-widgets/base",
      "_view_module_version": "1.2.0",
      "_view_name": "StyleView",
      "description_width": ""
     }
    },
    "88eff172a69e410b9e32019b4ce3e7ea": {
     "model_module": "@jupyter-widgets/controls",
     "model_module_version": "1.5.0",
     "model_name": "HBoxModel",
     "state": {
      "_dom_classes": [],
      "_model_module": "@jupyter-widgets/controls",
      "_model_module_version": "1.5.0",
      "_model_name": "HBoxModel",
      "_view_count": null,
      "_view_module": "@jupyter-widgets/controls",
      "_view_module_version": "1.5.0",
      "_view_name": "HBoxView",
      "box_style": "",
      "children": [
       "IPY_MODEL_037ee04598b84c7a996d302699a79ef8",
       "IPY_MODEL_03f556a45f704aca92c2ccbb40d3d456",
       "IPY_MODEL_2a2e0278cb8842aaa2820fb9ae1cf7ad"
      ],
      "layout": "IPY_MODEL_578f6b3a2442476c969eb997d93d1f22"
     }
    },
    "93ae6f4ee08743fa8dd95a47b1e8a2f1": {
     "model_module": "@jupyter-widgets/base",
     "model_module_version": "1.2.0",
     "model_name": "LayoutModel",
     "state": {
      "_model_module": "@jupyter-widgets/base",
      "_model_module_version": "1.2.0",
      "_model_name": "LayoutModel",
      "_view_count": null,
      "_view_module": "@jupyter-widgets/base",
      "_view_module_version": "1.2.0",
      "_view_name": "LayoutView",
      "align_content": null,
      "align_items": null,
      "align_self": null,
      "border": null,
      "bottom": null,
      "display": null,
      "flex": null,
      "flex_flow": null,
      "grid_area": null,
      "grid_auto_columns": null,
      "grid_auto_flow": null,
      "grid_auto_rows": null,
      "grid_column": null,
      "grid_gap": null,
      "grid_row": null,
      "grid_template_areas": null,
      "grid_template_columns": null,
      "grid_template_rows": null,
      "height": null,
      "justify_content": null,
      "justify_items": null,
      "left": null,
      "margin": null,
      "max_height": null,
      "max_width": null,
      "min_height": null,
      "min_width": null,
      "object_fit": null,
      "object_position": null,
      "order": null,
      "overflow": null,
      "overflow_x": null,
      "overflow_y": null,
      "padding": null,
      "right": null,
      "top": null,
      "visibility": null,
      "width": null
     }
    },
    "b359e3dc37ab4fa0a82819d9e7f3e8cb": {
     "model_module": "@jupyter-widgets/controls",
     "model_module_version": "1.5.0",
     "model_name": "ProgressStyleModel",
     "state": {
      "_model_module": "@jupyter-widgets/controls",
      "_model_module_version": "1.5.0",
      "_model_name": "ProgressStyleModel",
      "_view_count": null,
      "_view_module": "@jupyter-widgets/base",
      "_view_module_version": "1.2.0",
      "_view_name": "StyleView",
      "bar_color": null,
      "description_width": ""
     }
    },
    "ee19deb2b368453fad093f88383d037f": {
     "model_module": "@jupyter-widgets/base",
     "model_module_version": "1.2.0",
     "model_name": "LayoutModel",
     "state": {
      "_model_module": "@jupyter-widgets/base",
      "_model_module_version": "1.2.0",
      "_model_name": "LayoutModel",
      "_view_count": null,
      "_view_module": "@jupyter-widgets/base",
      "_view_module_version": "1.2.0",
      "_view_name": "LayoutView",
      "align_content": null,
      "align_items": null,
      "align_self": null,
      "border": null,
      "bottom": null,
      "display": null,
      "flex": null,
      "flex_flow": null,
      "grid_area": null,
      "grid_auto_columns": null,
      "grid_auto_flow": null,
      "grid_auto_rows": null,
      "grid_column": null,
      "grid_gap": null,
      "grid_row": null,
      "grid_template_areas": null,
      "grid_template_columns": null,
      "grid_template_rows": null,
      "height": null,
      "justify_content": null,
      "justify_items": null,
      "left": null,
      "margin": null,
      "max_height": null,
      "max_width": null,
      "min_height": null,
      "min_width": null,
      "object_fit": null,
      "object_position": null,
      "order": null,
      "overflow": null,
      "overflow_x": null,
      "overflow_y": null,
      "padding": null,
      "right": null,
      "top": null,
      "visibility": null,
      "width": null
     }
    }
   }
  }
 },
 "nbformat": 4,
 "nbformat_minor": 1
}
