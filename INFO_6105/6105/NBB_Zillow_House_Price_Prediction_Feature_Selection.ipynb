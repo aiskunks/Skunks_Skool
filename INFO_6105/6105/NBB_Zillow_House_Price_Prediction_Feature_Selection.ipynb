{
 "cells": [
  {
   "cell_type": "markdown",
   "metadata": {},
   "source": [
    "# Zillow House Price Feature Selection\n",
    "\n"
   ]
  },
  {
   "cell_type": "markdown",
   "metadata": {},
   "source": [
    "## Introduction\n",
    "\n",
    "Zillow as one of the largest marketplaces for real estate information in the U.S, it’s Zestimate is a prediction of a property value. Zillow hosted a [Kaggle Competition](https://www.kaggle.com/c/zillow-prize-1/data) with over a million in prizes to get ideas to improve their Zestimate. \n",
    "\n",
    "First Round Prizes: $50,000 U.S. Dollars (\"USD\") total           \n",
    "   \n",
    "* First Place Prize - $25,000 USD   \n",
    "* Second Place Prize - $15,000 USD  \n",
    "* Third Place Prize - $10,000 USD      \n",
    "\n",
    "_As a condition to receipt of a prize, each First Round prize winner must agree to grant Sponsor a non-exclusive license to their winning Submission._\n",
    "\n",
    "Second Round Prizes: $1,150,000 USD Total   \n",
    "\n",
    "* First Place Prize - $1,000,000 USD    \n",
    "* Second Place Prize - $100,000 USD      \n",
    "* Third Place Prize - $50,000 USD      \n",
    "\n",
    "_As a condition of receipt of a prize, each Second Round prize winner must (1) beat the Zillow benchmark model (as described below) and (2) deliver the final model’s software code as used to generate their winning Submission and associated documentation (consistent with the winning model documentation template available on the Kaggle wiki at https://www.kaggle.com/wiki/WinningModelDocumentationTemplate) to the Sponsor. The delivered software code must be capable of generating the winning Submission and contain a description of resources required to build and/or run the executable code successfully. For clarity, if no Participants beat the Zillow benchmark model, Sponsor is not required to award any prizes in the Second Round._"
   ]
  },
  {
   "cell_type": "markdown",
   "metadata": {},
   "source": [
    "## Data \n",
    "\n",
    "Our data is getting from [Kaggle Competition](https://www.kaggle.com/c/zillow-prize-1/data), 6 csv files and corresponding descriptions are included:\n",
    "- properties_2016.csv: all the properties with their home features for 2016. Note: Some 2017 new properties don't have any data yet except for their parcelid's. Those data points should be populated when properties_2017.csv is available.\n",
    "- properties_2017.csv: all the properties with their home features for 2017 (released on 10/2/2017)\n",
    "- sample_submission.csv: a sample submission file in the correct format\n",
    "- train_2016_v2.csv: the training set with transactions from 1/1/2016 to 12/31/2016\n",
    "- train_2017.csv: the training set with transactions from 1/1/2017 to 9/15/2017 (released on 10/2/2017)\n"
   ]
  },
  {
   "cell_type": "code",
   "execution_count": 232,
   "metadata": {
    "collapsed": true
   },
   "outputs": [],
   "source": [
    "import h2o\n",
    "from h2o.automl import H2OAutoML\n",
    "import random, os, sys\n",
    "from datetime import datetime\n",
    "import pandas as pd\n",
    "import logging\n",
    "import csv\n",
    "import optparse\n",
    "import time\n",
    "import json\n",
    "from distutils.util import strtobool\n",
    "import psutil\n",
    "import numpy as np\n",
    "import tensorflow as tf\n",
    "import seaborn as sns\n",
    "import matplotlib.pyplot as plt\n",
    "import math\n",
    "import h5py\n",
    "import warnings\n",
    "from tensorflow.python.framework import ops\n",
    "warnings.filterwarnings('ignore')\n",
    "%matplotlib inline"
   ]
  },
  {
   "cell_type": "code",
   "execution_count": 233,
   "metadata": {
    "collapsed": true
   },
   "outputs": [],
   "source": [
    "target='logerror'\n",
    "min_mem_size=6 \n",
    "run_time=333"
   ]
  },
  {
   "cell_type": "code",
   "execution_count": 234,
   "metadata": {},
   "outputs": [
    {
     "name": "stdout",
     "output_type": "stream",
     "text": [
      "4\n"
     ]
    }
   ],
   "source": [
    "pct_memory=0.5\n",
    "virtual_memory=psutil.virtual_memory()\n",
    "min_mem_size=int(round(int(pct_memory*virtual_memory.available)/1073741824,0))\n",
    "print(min_mem_size)"
   ]
  },
  {
   "cell_type": "code",
   "execution_count": 235,
   "metadata": {},
   "outputs": [
    {
     "name": "stdout",
     "output_type": "stream",
     "text": [
      "Checking whether there is an H2O instance running at http://localhost:41636..... not found.\n",
      "Attempting to start a local H2O server...\n",
      "  Java Version: openjdk version \"1.8.0_121\"; OpenJDK Runtime Environment (Zulu 8.20.0.5-macosx) (build 1.8.0_121-b15); OpenJDK 64-Bit Server VM (Zulu 8.20.0.5-macosx) (build 25.121-b15, mixed mode)\n",
      "  Starting server from /Users/bear/anaconda/lib/python3.6/site-packages/h2o/backend/bin/h2o.jar\n",
      "  Ice root: /var/folders/lh/42j8mfjx069d1bkc2wlf2pw40000gn/T/tmp72x9ll02\n",
      "  JVM stdout: /var/folders/lh/42j8mfjx069d1bkc2wlf2pw40000gn/T/tmp72x9ll02/h2o_bear_started_from_python.out\n",
      "  JVM stderr: /var/folders/lh/42j8mfjx069d1bkc2wlf2pw40000gn/T/tmp72x9ll02/h2o_bear_started_from_python.err\n",
      "  Server is running at http://127.0.0.1:41636\n",
      "Connecting to H2O server at http://127.0.0.1:41636... successful.\n"
     ]
    },
    {
     "data": {
      "text/html": [
       "<div style=\"overflow:auto\"><table style=\"width:50%\"><tr><td>H2O cluster uptime:</td>\n",
       "<td>01 secs</td></tr>\n",
       "<tr><td>H2O cluster timezone:</td>\n",
       "<td>America/New_York</td></tr>\n",
       "<tr><td>H2O data parsing timezone:</td>\n",
       "<td>UTC</td></tr>\n",
       "<tr><td>H2O cluster version:</td>\n",
       "<td>3.22.1.3</td></tr>\n",
       "<tr><td>H2O cluster version age:</td>\n",
       "<td>24 days </td></tr>\n",
       "<tr><td>H2O cluster name:</td>\n",
       "<td>H2O_from_python_bear_a4nz3l</td></tr>\n",
       "<tr><td>H2O cluster total nodes:</td>\n",
       "<td>1</td></tr>\n",
       "<tr><td>H2O cluster free memory:</td>\n",
       "<td>3.833 Gb</td></tr>\n",
       "<tr><td>H2O cluster total cores:</td>\n",
       "<td>8</td></tr>\n",
       "<tr><td>H2O cluster allowed cores:</td>\n",
       "<td>8</td></tr>\n",
       "<tr><td>H2O cluster status:</td>\n",
       "<td>accepting new members, healthy</td></tr>\n",
       "<tr><td>H2O connection url:</td>\n",
       "<td>http://127.0.0.1:41636</td></tr>\n",
       "<tr><td>H2O connection proxy:</td>\n",
       "<td>None</td></tr>\n",
       "<tr><td>H2O internal security:</td>\n",
       "<td>False</td></tr>\n",
       "<tr><td>H2O API Extensions:</td>\n",
       "<td>XGBoost, Algos, AutoML, Core V3, Core V4</td></tr>\n",
       "<tr><td>Python version:</td>\n",
       "<td>3.6.5 final</td></tr></table></div>"
      ],
      "text/plain": [
       "--------------------------  ----------------------------------------\n",
       "H2O cluster uptime:         01 secs\n",
       "H2O cluster timezone:       America/New_York\n",
       "H2O data parsing timezone:  UTC\n",
       "H2O cluster version:        3.22.1.3\n",
       "H2O cluster version age:    24 days\n",
       "H2O cluster name:           H2O_from_python_bear_a4nz3l\n",
       "H2O cluster total nodes:    1\n",
       "H2O cluster free memory:    3.833 Gb\n",
       "H2O cluster total cores:    8\n",
       "H2O cluster allowed cores:  8\n",
       "H2O cluster status:         accepting new members, healthy\n",
       "H2O connection url:         http://127.0.0.1:41636\n",
       "H2O connection proxy:\n",
       "H2O internal security:      False\n",
       "H2O API Extensions:         XGBoost, Algos, AutoML, Core V3, Core V4\n",
       "Python version:             3.6.5 final\n",
       "--------------------------  ----------------------------------------"
      ]
     },
     "metadata": {},
     "output_type": "display_data"
    }
   ],
   "source": [
    "# 65535 Highest port no\n",
    "port_no=random.randint(5555,55555)\n",
    "\n",
    "#  h2o.init(strict_version_check=False,min_mem_size_GB=min_mem_size,port=port_no) # start h2o\n",
    "try:\n",
    "  h2o.init(strict_version_check=False,min_mem_size_GB=min_mem_size,port=port_no) # start h2o\n",
    "except:\n",
    "  logging.critical('h2o.init')\n",
    "  h2o.download_all_logs(dirname=logs_path, filename=logfile)      \n",
    "  h2o.cluster().shutdown()\n",
    "  sys.exit(2)"
   ]
  },
  {
   "cell_type": "markdown",
   "metadata": {},
   "source": [
    "#### Read the Evaluation Data "
   ]
  },
  {
   "cell_type": "code",
   "execution_count": 236,
   "metadata": {},
   "outputs": [
    {
     "data": {
      "text/html": [
       "<div>\n",
       "<style>\n",
       "    .dataframe thead tr:only-child th {\n",
       "        text-align: right;\n",
       "    }\n",
       "\n",
       "    .dataframe thead th {\n",
       "        text-align: left;\n",
       "    }\n",
       "\n",
       "    .dataframe tbody tr th {\n",
       "        vertical-align: top;\n",
       "    }\n",
       "</style>\n",
       "<table border=\"1\" class=\"dataframe\">\n",
       "  <thead>\n",
       "    <tr style=\"text-align: right;\">\n",
       "      <th></th>\n",
       "      <th>parcelid</th>\n",
       "      <th>logerror</th>\n",
       "      <th>transactiondate</th>\n",
       "    </tr>\n",
       "  </thead>\n",
       "  <tbody>\n",
       "    <tr>\n",
       "      <th>0</th>\n",
       "      <td>11016594</td>\n",
       "      <td>0.0276</td>\n",
       "      <td>2016-01-01</td>\n",
       "    </tr>\n",
       "    <tr>\n",
       "      <th>1</th>\n",
       "      <td>14366692</td>\n",
       "      <td>-0.1684</td>\n",
       "      <td>2016-01-01</td>\n",
       "    </tr>\n",
       "    <tr>\n",
       "      <th>2</th>\n",
       "      <td>12098116</td>\n",
       "      <td>-0.0040</td>\n",
       "      <td>2016-01-01</td>\n",
       "    </tr>\n",
       "    <tr>\n",
       "      <th>3</th>\n",
       "      <td>12643413</td>\n",
       "      <td>0.0218</td>\n",
       "      <td>2016-01-02</td>\n",
       "    </tr>\n",
       "    <tr>\n",
       "      <th>4</th>\n",
       "      <td>14432541</td>\n",
       "      <td>-0.0050</td>\n",
       "      <td>2016-01-02</td>\n",
       "    </tr>\n",
       "  </tbody>\n",
       "</table>\n",
       "</div>"
      ],
      "text/plain": [
       "   parcelid  logerror transactiondate\n",
       "0  11016594    0.0276      2016-01-01\n",
       "1  14366692   -0.1684      2016-01-01\n",
       "2  12098116   -0.0040      2016-01-01\n",
       "3  12643413    0.0218      2016-01-02\n",
       "4  14432541   -0.0050      2016-01-02"
      ]
     },
     "execution_count": 236,
     "metadata": {},
     "output_type": "execute_result"
    }
   ],
   "source": [
    "# read the evaluation data\n",
    "properties_2016_eval = pd.read_csv('zillow-prize-1/train_2016_v2.csv')\n",
    "\n",
    "# show the head of evaluation data\n",
    "properties_2016_eval.head()"
   ]
  },
  {
   "cell_type": "markdown",
   "metadata": {},
   "source": [
    "The evaluation data only includes 3 different columns:\n",
    "- parcelid\n",
    "- logerror\n",
    "- transactiondate\n",
    "\n",
    "According to the Evaluation idea in kaggle, we know that Submissions are evaluated on Mean Absolute Error between the predicted log error and the actual log error. The log error is defined as:   \n",
    "> logerror = log (Zestimate) − log (SalePrice)\n",
    "\n",
    "As for the parcelid, it is id for each row of data(unique parcelid).\n",
    "And as for the transactiondate, it restricts the date we need to predict and submit in csv file. As a parcel can be sold many times we want to predict prices each time its sold.\n",
    "\n",
    "_This is not training data.  We will create predictions and use this file to estimate how well our estimate, called Bearstimates come to Zillow's  Zestimates._\n"
   ]
  },
  {
   "cell_type": "code",
   "execution_count": 237,
   "metadata": {
    "collapsed": true
   },
   "outputs": [],
   "source": [
    "# read the property data from properties_2016 file\n",
    "properties_2016 = pd.read_csv('zillow-prize-1/properties_2016.csv')"
   ]
  },
  {
   "cell_type": "code",
   "execution_count": 238,
   "metadata": {},
   "outputs": [
    {
     "data": {
      "text/html": [
       "<div>\n",
       "<style>\n",
       "    .dataframe thead tr:only-child th {\n",
       "        text-align: right;\n",
       "    }\n",
       "\n",
       "    .dataframe thead th {\n",
       "        text-align: left;\n",
       "    }\n",
       "\n",
       "    .dataframe tbody tr th {\n",
       "        vertical-align: top;\n",
       "    }\n",
       "</style>\n",
       "<table border=\"1\" class=\"dataframe\">\n",
       "  <thead>\n",
       "    <tr style=\"text-align: right;\">\n",
       "      <th></th>\n",
       "      <th>parcelid</th>\n",
       "      <th>airconditioningtypeid</th>\n",
       "      <th>architecturalstyletypeid</th>\n",
       "      <th>basementsqft</th>\n",
       "      <th>bathroomcnt</th>\n",
       "      <th>bedroomcnt</th>\n",
       "      <th>buildingclasstypeid</th>\n",
       "      <th>buildingqualitytypeid</th>\n",
       "      <th>calculatedbathnbr</th>\n",
       "      <th>decktypeid</th>\n",
       "      <th>...</th>\n",
       "      <th>numberofstories</th>\n",
       "      <th>fireplaceflag</th>\n",
       "      <th>structuretaxvaluedollarcnt</th>\n",
       "      <th>taxvaluedollarcnt</th>\n",
       "      <th>assessmentyear</th>\n",
       "      <th>landtaxvaluedollarcnt</th>\n",
       "      <th>taxamount</th>\n",
       "      <th>taxdelinquencyflag</th>\n",
       "      <th>taxdelinquencyyear</th>\n",
       "      <th>censustractandblock</th>\n",
       "    </tr>\n",
       "  </thead>\n",
       "  <tbody>\n",
       "    <tr>\n",
       "      <th>0</th>\n",
       "      <td>10754147</td>\n",
       "      <td>NaN</td>\n",
       "      <td>NaN</td>\n",
       "      <td>NaN</td>\n",
       "      <td>0.0</td>\n",
       "      <td>0.0</td>\n",
       "      <td>NaN</td>\n",
       "      <td>NaN</td>\n",
       "      <td>NaN</td>\n",
       "      <td>NaN</td>\n",
       "      <td>...</td>\n",
       "      <td>NaN</td>\n",
       "      <td>NaN</td>\n",
       "      <td>NaN</td>\n",
       "      <td>9.0</td>\n",
       "      <td>2015.0</td>\n",
       "      <td>9.0</td>\n",
       "      <td>NaN</td>\n",
       "      <td>NaN</td>\n",
       "      <td>NaN</td>\n",
       "      <td>NaN</td>\n",
       "    </tr>\n",
       "    <tr>\n",
       "      <th>1</th>\n",
       "      <td>10759547</td>\n",
       "      <td>NaN</td>\n",
       "      <td>NaN</td>\n",
       "      <td>NaN</td>\n",
       "      <td>0.0</td>\n",
       "      <td>0.0</td>\n",
       "      <td>NaN</td>\n",
       "      <td>NaN</td>\n",
       "      <td>NaN</td>\n",
       "      <td>NaN</td>\n",
       "      <td>...</td>\n",
       "      <td>NaN</td>\n",
       "      <td>NaN</td>\n",
       "      <td>NaN</td>\n",
       "      <td>27516.0</td>\n",
       "      <td>2015.0</td>\n",
       "      <td>27516.0</td>\n",
       "      <td>NaN</td>\n",
       "      <td>NaN</td>\n",
       "      <td>NaN</td>\n",
       "      <td>NaN</td>\n",
       "    </tr>\n",
       "    <tr>\n",
       "      <th>2</th>\n",
       "      <td>10843547</td>\n",
       "      <td>NaN</td>\n",
       "      <td>NaN</td>\n",
       "      <td>NaN</td>\n",
       "      <td>0.0</td>\n",
       "      <td>0.0</td>\n",
       "      <td>NaN</td>\n",
       "      <td>NaN</td>\n",
       "      <td>NaN</td>\n",
       "      <td>NaN</td>\n",
       "      <td>...</td>\n",
       "      <td>NaN</td>\n",
       "      <td>NaN</td>\n",
       "      <td>650756.0</td>\n",
       "      <td>1413387.0</td>\n",
       "      <td>2015.0</td>\n",
       "      <td>762631.0</td>\n",
       "      <td>20800.37</td>\n",
       "      <td>NaN</td>\n",
       "      <td>NaN</td>\n",
       "      <td>NaN</td>\n",
       "    </tr>\n",
       "    <tr>\n",
       "      <th>3</th>\n",
       "      <td>10859147</td>\n",
       "      <td>NaN</td>\n",
       "      <td>NaN</td>\n",
       "      <td>NaN</td>\n",
       "      <td>0.0</td>\n",
       "      <td>0.0</td>\n",
       "      <td>3.0</td>\n",
       "      <td>7.0</td>\n",
       "      <td>NaN</td>\n",
       "      <td>NaN</td>\n",
       "      <td>...</td>\n",
       "      <td>1.0</td>\n",
       "      <td>NaN</td>\n",
       "      <td>571346.0</td>\n",
       "      <td>1156834.0</td>\n",
       "      <td>2015.0</td>\n",
       "      <td>585488.0</td>\n",
       "      <td>14557.57</td>\n",
       "      <td>NaN</td>\n",
       "      <td>NaN</td>\n",
       "      <td>NaN</td>\n",
       "    </tr>\n",
       "    <tr>\n",
       "      <th>4</th>\n",
       "      <td>10879947</td>\n",
       "      <td>NaN</td>\n",
       "      <td>NaN</td>\n",
       "      <td>NaN</td>\n",
       "      <td>0.0</td>\n",
       "      <td>0.0</td>\n",
       "      <td>4.0</td>\n",
       "      <td>NaN</td>\n",
       "      <td>NaN</td>\n",
       "      <td>NaN</td>\n",
       "      <td>...</td>\n",
       "      <td>NaN</td>\n",
       "      <td>NaN</td>\n",
       "      <td>193796.0</td>\n",
       "      <td>433491.0</td>\n",
       "      <td>2015.0</td>\n",
       "      <td>239695.0</td>\n",
       "      <td>5725.17</td>\n",
       "      <td>NaN</td>\n",
       "      <td>NaN</td>\n",
       "      <td>NaN</td>\n",
       "    </tr>\n",
       "  </tbody>\n",
       "</table>\n",
       "<p>5 rows × 58 columns</p>\n",
       "</div>"
      ],
      "text/plain": [
       "   parcelid  airconditioningtypeid  architecturalstyletypeid  basementsqft  \\\n",
       "0  10754147                    NaN                       NaN           NaN   \n",
       "1  10759547                    NaN                       NaN           NaN   \n",
       "2  10843547                    NaN                       NaN           NaN   \n",
       "3  10859147                    NaN                       NaN           NaN   \n",
       "4  10879947                    NaN                       NaN           NaN   \n",
       "\n",
       "   bathroomcnt  bedroomcnt  buildingclasstypeid  buildingqualitytypeid  \\\n",
       "0          0.0         0.0                  NaN                    NaN   \n",
       "1          0.0         0.0                  NaN                    NaN   \n",
       "2          0.0         0.0                  NaN                    NaN   \n",
       "3          0.0         0.0                  3.0                    7.0   \n",
       "4          0.0         0.0                  4.0                    NaN   \n",
       "\n",
       "   calculatedbathnbr  decktypeid         ...           numberofstories  \\\n",
       "0                NaN         NaN         ...                       NaN   \n",
       "1                NaN         NaN         ...                       NaN   \n",
       "2                NaN         NaN         ...                       NaN   \n",
       "3                NaN         NaN         ...                       1.0   \n",
       "4                NaN         NaN         ...                       NaN   \n",
       "\n",
       "   fireplaceflag  structuretaxvaluedollarcnt  taxvaluedollarcnt  \\\n",
       "0            NaN                         NaN                9.0   \n",
       "1            NaN                         NaN            27516.0   \n",
       "2            NaN                    650756.0          1413387.0   \n",
       "3            NaN                    571346.0          1156834.0   \n",
       "4            NaN                    193796.0           433491.0   \n",
       "\n",
       "   assessmentyear  landtaxvaluedollarcnt  taxamount  taxdelinquencyflag  \\\n",
       "0          2015.0                    9.0        NaN                 NaN   \n",
       "1          2015.0                27516.0        NaN                 NaN   \n",
       "2          2015.0               762631.0   20800.37                 NaN   \n",
       "3          2015.0               585488.0   14557.57                 NaN   \n",
       "4          2015.0               239695.0    5725.17                 NaN   \n",
       "\n",
       "   taxdelinquencyyear  censustractandblock  \n",
       "0                 NaN                  NaN  \n",
       "1                 NaN                  NaN  \n",
       "2                 NaN                  NaN  \n",
       "3                 NaN                  NaN  \n",
       "4                 NaN                  NaN  \n",
       "\n",
       "[5 rows x 58 columns]"
      ]
     },
     "execution_count": 238,
     "metadata": {},
     "output_type": "execute_result"
    }
   ],
   "source": [
    "properties_2016.head()"
   ]
  },
  {
   "cell_type": "code",
   "execution_count": 239,
   "metadata": {},
   "outputs": [
    {
     "data": {
      "text/html": [
       "<div>\n",
       "<style>\n",
       "    .dataframe thead tr:only-child th {\n",
       "        text-align: right;\n",
       "    }\n",
       "\n",
       "    .dataframe thead th {\n",
       "        text-align: left;\n",
       "    }\n",
       "\n",
       "    .dataframe tbody tr th {\n",
       "        vertical-align: top;\n",
       "    }\n",
       "</style>\n",
       "<table border=\"1\" class=\"dataframe\">\n",
       "  <thead>\n",
       "    <tr style=\"text-align: right;\">\n",
       "      <th></th>\n",
       "      <th>parcelid</th>\n",
       "      <th>airconditioningtypeid</th>\n",
       "      <th>architecturalstyletypeid</th>\n",
       "      <th>basementsqft</th>\n",
       "      <th>bathroomcnt</th>\n",
       "      <th>bedroomcnt</th>\n",
       "      <th>buildingclasstypeid</th>\n",
       "      <th>buildingqualitytypeid</th>\n",
       "      <th>calculatedbathnbr</th>\n",
       "      <th>decktypeid</th>\n",
       "      <th>...</th>\n",
       "      <th>numberofstories</th>\n",
       "      <th>fireplaceflag</th>\n",
       "      <th>structuretaxvaluedollarcnt</th>\n",
       "      <th>taxvaluedollarcnt</th>\n",
       "      <th>assessmentyear</th>\n",
       "      <th>landtaxvaluedollarcnt</th>\n",
       "      <th>taxamount</th>\n",
       "      <th>taxdelinquencyflag</th>\n",
       "      <th>taxdelinquencyyear</th>\n",
       "      <th>censustractandblock</th>\n",
       "    </tr>\n",
       "  </thead>\n",
       "  <tbody>\n",
       "    <tr>\n",
       "      <th>0</th>\n",
       "      <td>10754147</td>\n",
       "      <td>NaN</td>\n",
       "      <td>NaN</td>\n",
       "      <td>NaN</td>\n",
       "      <td>0.0</td>\n",
       "      <td>0.0</td>\n",
       "      <td>NaN</td>\n",
       "      <td>NaN</td>\n",
       "      <td>NaN</td>\n",
       "      <td>NaN</td>\n",
       "      <td>...</td>\n",
       "      <td>NaN</td>\n",
       "      <td>NaN</td>\n",
       "      <td>NaN</td>\n",
       "      <td>9.0</td>\n",
       "      <td>2015.0</td>\n",
       "      <td>9.0</td>\n",
       "      <td>NaN</td>\n",
       "      <td>NaN</td>\n",
       "      <td>NaN</td>\n",
       "      <td>NaN</td>\n",
       "    </tr>\n",
       "    <tr>\n",
       "      <th>1</th>\n",
       "      <td>10759547</td>\n",
       "      <td>NaN</td>\n",
       "      <td>NaN</td>\n",
       "      <td>NaN</td>\n",
       "      <td>0.0</td>\n",
       "      <td>0.0</td>\n",
       "      <td>NaN</td>\n",
       "      <td>NaN</td>\n",
       "      <td>NaN</td>\n",
       "      <td>NaN</td>\n",
       "      <td>...</td>\n",
       "      <td>NaN</td>\n",
       "      <td>NaN</td>\n",
       "      <td>NaN</td>\n",
       "      <td>27516.0</td>\n",
       "      <td>2015.0</td>\n",
       "      <td>27516.0</td>\n",
       "      <td>NaN</td>\n",
       "      <td>NaN</td>\n",
       "      <td>NaN</td>\n",
       "      <td>NaN</td>\n",
       "    </tr>\n",
       "    <tr>\n",
       "      <th>2</th>\n",
       "      <td>10843547</td>\n",
       "      <td>NaN</td>\n",
       "      <td>NaN</td>\n",
       "      <td>NaN</td>\n",
       "      <td>0.0</td>\n",
       "      <td>0.0</td>\n",
       "      <td>NaN</td>\n",
       "      <td>NaN</td>\n",
       "      <td>NaN</td>\n",
       "      <td>NaN</td>\n",
       "      <td>...</td>\n",
       "      <td>NaN</td>\n",
       "      <td>NaN</td>\n",
       "      <td>650756.0</td>\n",
       "      <td>1413387.0</td>\n",
       "      <td>2015.0</td>\n",
       "      <td>762631.0</td>\n",
       "      <td>20800.37</td>\n",
       "      <td>NaN</td>\n",
       "      <td>NaN</td>\n",
       "      <td>NaN</td>\n",
       "    </tr>\n",
       "    <tr>\n",
       "      <th>3</th>\n",
       "      <td>10859147</td>\n",
       "      <td>NaN</td>\n",
       "      <td>NaN</td>\n",
       "      <td>NaN</td>\n",
       "      <td>0.0</td>\n",
       "      <td>0.0</td>\n",
       "      <td>3.0</td>\n",
       "      <td>7.0</td>\n",
       "      <td>NaN</td>\n",
       "      <td>NaN</td>\n",
       "      <td>...</td>\n",
       "      <td>1.0</td>\n",
       "      <td>NaN</td>\n",
       "      <td>571346.0</td>\n",
       "      <td>1156834.0</td>\n",
       "      <td>2015.0</td>\n",
       "      <td>585488.0</td>\n",
       "      <td>14557.57</td>\n",
       "      <td>NaN</td>\n",
       "      <td>NaN</td>\n",
       "      <td>NaN</td>\n",
       "    </tr>\n",
       "    <tr>\n",
       "      <th>4</th>\n",
       "      <td>10879947</td>\n",
       "      <td>NaN</td>\n",
       "      <td>NaN</td>\n",
       "      <td>NaN</td>\n",
       "      <td>0.0</td>\n",
       "      <td>0.0</td>\n",
       "      <td>4.0</td>\n",
       "      <td>NaN</td>\n",
       "      <td>NaN</td>\n",
       "      <td>NaN</td>\n",
       "      <td>...</td>\n",
       "      <td>NaN</td>\n",
       "      <td>NaN</td>\n",
       "      <td>193796.0</td>\n",
       "      <td>433491.0</td>\n",
       "      <td>2015.0</td>\n",
       "      <td>239695.0</td>\n",
       "      <td>5725.17</td>\n",
       "      <td>NaN</td>\n",
       "      <td>NaN</td>\n",
       "      <td>NaN</td>\n",
       "    </tr>\n",
       "  </tbody>\n",
       "</table>\n",
       "<p>5 rows × 58 columns</p>\n",
       "</div>"
      ],
      "text/plain": [
       "   parcelid  airconditioningtypeid  architecturalstyletypeid  basementsqft  \\\n",
       "0  10754147                    NaN                       NaN           NaN   \n",
       "1  10759547                    NaN                       NaN           NaN   \n",
       "2  10843547                    NaN                       NaN           NaN   \n",
       "3  10859147                    NaN                       NaN           NaN   \n",
       "4  10879947                    NaN                       NaN           NaN   \n",
       "\n",
       "   bathroomcnt  bedroomcnt  buildingclasstypeid  buildingqualitytypeid  \\\n",
       "0          0.0         0.0                  NaN                    NaN   \n",
       "1          0.0         0.0                  NaN                    NaN   \n",
       "2          0.0         0.0                  NaN                    NaN   \n",
       "3          0.0         0.0                  3.0                    7.0   \n",
       "4          0.0         0.0                  4.0                    NaN   \n",
       "\n",
       "   calculatedbathnbr  decktypeid         ...           numberofstories  \\\n",
       "0                NaN         NaN         ...                       NaN   \n",
       "1                NaN         NaN         ...                       NaN   \n",
       "2                NaN         NaN         ...                       NaN   \n",
       "3                NaN         NaN         ...                       1.0   \n",
       "4                NaN         NaN         ...                       NaN   \n",
       "\n",
       "   fireplaceflag  structuretaxvaluedollarcnt  taxvaluedollarcnt  \\\n",
       "0            NaN                         NaN                9.0   \n",
       "1            NaN                         NaN            27516.0   \n",
       "2            NaN                    650756.0          1413387.0   \n",
       "3            NaN                    571346.0          1156834.0   \n",
       "4            NaN                    193796.0           433491.0   \n",
       "\n",
       "   assessmentyear  landtaxvaluedollarcnt  taxamount  taxdelinquencyflag  \\\n",
       "0          2015.0                    9.0        NaN                 NaN   \n",
       "1          2015.0                27516.0        NaN                 NaN   \n",
       "2          2015.0               762631.0   20800.37                 NaN   \n",
       "3          2015.0               585488.0   14557.57                 NaN   \n",
       "4          2015.0               239695.0    5725.17                 NaN   \n",
       "\n",
       "   taxdelinquencyyear  censustractandblock  \n",
       "0                 NaN                  NaN  \n",
       "1                 NaN                  NaN  \n",
       "2                 NaN                  NaN  \n",
       "3                 NaN                  NaN  \n",
       "4                 NaN                  NaN  \n",
       "\n",
       "[5 rows x 58 columns]"
      ]
     },
     "execution_count": 239,
     "metadata": {},
     "output_type": "execute_result"
    }
   ],
   "source": [
    "# read the property data from properties_2016 file\n",
    "data_file='zillow-prize-1/properties_2016.csv'\n",
    "properties_2016 = pd.read_csv(data_file)\n",
    "\n",
    "# show the head of property data\n",
    "properties_2016.head()"
   ]
  },
  {
   "cell_type": "markdown",
   "metadata": {},
   "source": [
    "In the properties file, we can see there are 58 colunms. According to zillow data dictionary each field is as follows:\n",
    "- 'airconditioningtypeid'\t Type of cooling system present in the home (if any)\n",
    "- 'architecturalstyletypeid'\t Architectural style of the home (i.e. ranch, colonial, split-level, etc…)\n",
    "- 'basementsqft'\t Finished living area below or partially below ground level\n",
    "- 'bathroomcnt'\t Number of bathrooms in home including fractional bathrooms\n",
    "- 'bedroomcnt'\t Number of bedrooms in home \n",
    "- 'buildingqualitytypeid'\t Overall assessment of condition of the building from best (lowest) to worst (highest)\n",
    "- 'buildingclasstypeid'\tThe building framing type (steel frame, wood frame, concrete/brick) \n",
    "- 'calculatedbathnbr'\t Number of bathrooms in home including fractional bathroom\n",
    "- 'decktypeid'\tType of deck (if any) present on parcel\n",
    "- 'threequarterbathnbr'\t Number of 3/4 bathrooms in house (shower + sink + toilet)\n",
    "- 'finishedfloor1squarefeet'\t Size of the finished living area on the first (entry) floor of the home\n",
    "- 'calculatedfinishedsquarefeet'\t Calculated total finished living area of the home \n",
    "- 'finishedsquarefeet6'\tBase unfinished and finished area\n",
    "- 'finishedsquarefeet12'\tFinished living area\n",
    "- 'finishedsquarefeet13'\tPerimeter  living area\n",
    "- 'finishedsquarefeet15'\tTotal area\n",
    "- 'finishedsquarefeet50'\t Size of the finished living area on the first (entry) floor of the home\n",
    "- 'fips'\t Federal Information Processing Standard code -  see https://en.wikipedia.org/wiki/FIPS_county_code for more details\n",
    "- 'fireplacecnt'\t Number of fireplaces in a home (if any)\n",
    "- 'fireplaceflag'\t Is a fireplace present in this home \n",
    "- 'fullbathcnt'\t Number of full bathrooms (sink, shower + bathtub, and toilet) present in home\n",
    "- 'garagecarcnt'\t Total number of garages on the lot including an attached garage\n",
    "- 'garagetotalsqft'\t Total number of square feet of all garages on lot including an attached garage\n",
    "- 'hashottuborspa'\t Does the home have a hot tub or spa\n",
    "- 'heatingorsystemtypeid'\t Type of home heating system\n",
    "- 'latitude'\t Latitude of the middle of the parcel multiplied by 10e6\n",
    "- 'longitude'\t Longitude of the middle of the parcel multiplied by 10e6\n",
    "- 'lotsizesquarefeet'\t Area of the lot in square feet\n",
    "- 'numberofstories'\t Number of stories or levels the home has\n",
    "- 'parcelid'\t Unique identifier for parcels (lots) \n",
    "- 'poolcnt'\t Number of pools on the lot (if any)\n",
    "- 'poolsizesum'\t Total square footage of all pools on property\n",
    "- 'pooltypeid10'\t Spa or Hot Tub\n",
    "- 'pooltypeid2'\t Pool with Spa/Hot Tub\n",
    "- 'pooltypeid7'\t Pool without hot tub\n",
    "- 'propertycountylandusecode'\t County land use code i.e. it's zoning at the county level\n",
    "- 'propertylandusetypeid'\t Type of land use the property is zoned for\n",
    "- 'propertyzoningdesc'\t Description of the allowed land uses (zoning) for that property\n",
    "- 'rawcensustractandblock'\t Census tract and block ID combined - also contains blockgroup assignment by extension\n",
    "- 'censustractandblock'\t Census tract and block ID combined - also contains blockgroup assignment by extension\n",
    "- 'regionidcounty'\tCounty in which the property is located\n",
    "- 'regionidcity'\t City in which the property is located (if any)\n",
    "- 'regionidzip'\t Zip code in which the property is located\n",
    "- 'regionidneighborhood'\tNeighborhood in which the property is located\n",
    "- 'roomcnt'\t Total number of rooms in the principal residence\n",
    "- 'storytypeid'\t Type of floors in a multi-story house (i.e. basement and main level, split-level, attic, etc.).  See tab for details.\n",
    "- 'typeconstructiontypeid'\t What type of construction material was used to construct the home\n",
    "- 'unitcnt'\t Number of units the structure is built into (i.e. 2 = duplex, 3 = triplex, etc...)\n",
    "- 'yardbuildingsqft17'\tPatio in  yard\n",
    "- 'yardbuildingsqft26'\tStorage shed/building in yard\n",
    "- 'yearbuilt'\t The Year the principal residence was built \n",
    "- 'taxvaluedollarcnt'\tThe total tax assessed value of the parcel\n",
    "- 'structuretaxvaluedollarcnt'\tThe assessed value of the built structure on the parcel\n",
    "- 'landtaxvaluedollarcnt'\tThe assessed value of the land area of the parcel\n",
    "- 'taxamount'\tThe total property tax assessed for that assessment year\n",
    "- 'assessmentyear'\tThe year of the property tax assessment \n",
    "- 'taxdelinquencyflag'\tProperty taxes for this parcel are past due as of 2015\n",
    "- 'taxdelinquencyyear'\tYear for which the unpaid propert taxes were due \n",
    "\n",
    "Obviously, we can not use every column of data. Because some data has too many missing values, some data is not suitable for the prediction and some data can be calculated by some other data. So we need to do the data cleaning."
   ]
  },
  {
   "cell_type": "markdown",
   "metadata": {},
   "source": [
    "### Create properties data and convert it to an H20 dataframe\n",
    "\n",
    "Note that we want an inner join as we only want a parcelid with a logerror"
   ]
  },
  {
   "cell_type": "code",
   "execution_count": 240,
   "metadata": {
    "collapsed": true
   },
   "outputs": [],
   "source": [
    "# Merge the properties and trian data\n",
    "df = pd.merge(properties_2016, properties_2016_eval, on='parcelid', how='inner')"
   ]
  },
  {
   "cell_type": "code",
   "execution_count": 241,
   "metadata": {},
   "outputs": [
    {
     "data": {
      "text/html": [
       "<div>\n",
       "<style>\n",
       "    .dataframe thead tr:only-child th {\n",
       "        text-align: right;\n",
       "    }\n",
       "\n",
       "    .dataframe thead th {\n",
       "        text-align: left;\n",
       "    }\n",
       "\n",
       "    .dataframe tbody tr th {\n",
       "        vertical-align: top;\n",
       "    }\n",
       "</style>\n",
       "<table border=\"1\" class=\"dataframe\">\n",
       "  <thead>\n",
       "    <tr style=\"text-align: right;\">\n",
       "      <th></th>\n",
       "      <th>parcelid</th>\n",
       "      <th>airconditioningtypeid</th>\n",
       "      <th>architecturalstyletypeid</th>\n",
       "      <th>basementsqft</th>\n",
       "      <th>bathroomcnt</th>\n",
       "      <th>bedroomcnt</th>\n",
       "      <th>buildingclasstypeid</th>\n",
       "      <th>buildingqualitytypeid</th>\n",
       "      <th>calculatedbathnbr</th>\n",
       "      <th>decktypeid</th>\n",
       "      <th>...</th>\n",
       "      <th>structuretaxvaluedollarcnt</th>\n",
       "      <th>taxvaluedollarcnt</th>\n",
       "      <th>assessmentyear</th>\n",
       "      <th>landtaxvaluedollarcnt</th>\n",
       "      <th>taxamount</th>\n",
       "      <th>taxdelinquencyflag</th>\n",
       "      <th>taxdelinquencyyear</th>\n",
       "      <th>censustractandblock</th>\n",
       "      <th>logerror</th>\n",
       "      <th>transactiondate</th>\n",
       "    </tr>\n",
       "  </thead>\n",
       "  <tbody>\n",
       "    <tr>\n",
       "      <th>0</th>\n",
       "      <td>17073783</td>\n",
       "      <td>NaN</td>\n",
       "      <td>NaN</td>\n",
       "      <td>NaN</td>\n",
       "      <td>2.5</td>\n",
       "      <td>3.0</td>\n",
       "      <td>NaN</td>\n",
       "      <td>NaN</td>\n",
       "      <td>2.5</td>\n",
       "      <td>NaN</td>\n",
       "      <td>...</td>\n",
       "      <td>115087.0</td>\n",
       "      <td>191811.0</td>\n",
       "      <td>2015.0</td>\n",
       "      <td>76724.0</td>\n",
       "      <td>2015.06</td>\n",
       "      <td>NaN</td>\n",
       "      <td>NaN</td>\n",
       "      <td>6.111002e+13</td>\n",
       "      <td>0.0953</td>\n",
       "      <td>2016-01-27</td>\n",
       "    </tr>\n",
       "    <tr>\n",
       "      <th>1</th>\n",
       "      <td>17088994</td>\n",
       "      <td>NaN</td>\n",
       "      <td>NaN</td>\n",
       "      <td>NaN</td>\n",
       "      <td>1.0</td>\n",
       "      <td>2.0</td>\n",
       "      <td>NaN</td>\n",
       "      <td>NaN</td>\n",
       "      <td>1.0</td>\n",
       "      <td>NaN</td>\n",
       "      <td>...</td>\n",
       "      <td>143809.0</td>\n",
       "      <td>239679.0</td>\n",
       "      <td>2015.0</td>\n",
       "      <td>95870.0</td>\n",
       "      <td>2581.30</td>\n",
       "      <td>NaN</td>\n",
       "      <td>NaN</td>\n",
       "      <td>6.111002e+13</td>\n",
       "      <td>0.0198</td>\n",
       "      <td>2016-03-30</td>\n",
       "    </tr>\n",
       "    <tr>\n",
       "      <th>2</th>\n",
       "      <td>17100444</td>\n",
       "      <td>NaN</td>\n",
       "      <td>NaN</td>\n",
       "      <td>NaN</td>\n",
       "      <td>2.0</td>\n",
       "      <td>3.0</td>\n",
       "      <td>NaN</td>\n",
       "      <td>NaN</td>\n",
       "      <td>2.0</td>\n",
       "      <td>NaN</td>\n",
       "      <td>...</td>\n",
       "      <td>33619.0</td>\n",
       "      <td>47853.0</td>\n",
       "      <td>2015.0</td>\n",
       "      <td>14234.0</td>\n",
       "      <td>591.64</td>\n",
       "      <td>NaN</td>\n",
       "      <td>NaN</td>\n",
       "      <td>6.111001e+13</td>\n",
       "      <td>0.0060</td>\n",
       "      <td>2016-05-27</td>\n",
       "    </tr>\n",
       "    <tr>\n",
       "      <th>3</th>\n",
       "      <td>17102429</td>\n",
       "      <td>NaN</td>\n",
       "      <td>NaN</td>\n",
       "      <td>NaN</td>\n",
       "      <td>1.5</td>\n",
       "      <td>2.0</td>\n",
       "      <td>NaN</td>\n",
       "      <td>NaN</td>\n",
       "      <td>1.5</td>\n",
       "      <td>NaN</td>\n",
       "      <td>...</td>\n",
       "      <td>45609.0</td>\n",
       "      <td>62914.0</td>\n",
       "      <td>2015.0</td>\n",
       "      <td>17305.0</td>\n",
       "      <td>682.78</td>\n",
       "      <td>NaN</td>\n",
       "      <td>NaN</td>\n",
       "      <td>6.111001e+13</td>\n",
       "      <td>-0.0566</td>\n",
       "      <td>2016-06-07</td>\n",
       "    </tr>\n",
       "    <tr>\n",
       "      <th>4</th>\n",
       "      <td>17109604</td>\n",
       "      <td>NaN</td>\n",
       "      <td>NaN</td>\n",
       "      <td>NaN</td>\n",
       "      <td>2.5</td>\n",
       "      <td>4.0</td>\n",
       "      <td>NaN</td>\n",
       "      <td>NaN</td>\n",
       "      <td>2.5</td>\n",
       "      <td>NaN</td>\n",
       "      <td>...</td>\n",
       "      <td>277000.0</td>\n",
       "      <td>554000.0</td>\n",
       "      <td>2015.0</td>\n",
       "      <td>277000.0</td>\n",
       "      <td>5886.92</td>\n",
       "      <td>NaN</td>\n",
       "      <td>NaN</td>\n",
       "      <td>6.111001e+13</td>\n",
       "      <td>0.0573</td>\n",
       "      <td>2016-08-08</td>\n",
       "    </tr>\n",
       "  </tbody>\n",
       "</table>\n",
       "<p>5 rows × 60 columns</p>\n",
       "</div>"
      ],
      "text/plain": [
       "   parcelid  airconditioningtypeid  architecturalstyletypeid  basementsqft  \\\n",
       "0  17073783                    NaN                       NaN           NaN   \n",
       "1  17088994                    NaN                       NaN           NaN   \n",
       "2  17100444                    NaN                       NaN           NaN   \n",
       "3  17102429                    NaN                       NaN           NaN   \n",
       "4  17109604                    NaN                       NaN           NaN   \n",
       "\n",
       "   bathroomcnt  bedroomcnt  buildingclasstypeid  buildingqualitytypeid  \\\n",
       "0          2.5         3.0                  NaN                    NaN   \n",
       "1          1.0         2.0                  NaN                    NaN   \n",
       "2          2.0         3.0                  NaN                    NaN   \n",
       "3          1.5         2.0                  NaN                    NaN   \n",
       "4          2.5         4.0                  NaN                    NaN   \n",
       "\n",
       "   calculatedbathnbr  decktypeid       ...         structuretaxvaluedollarcnt  \\\n",
       "0                2.5         NaN       ...                           115087.0   \n",
       "1                1.0         NaN       ...                           143809.0   \n",
       "2                2.0         NaN       ...                            33619.0   \n",
       "3                1.5         NaN       ...                            45609.0   \n",
       "4                2.5         NaN       ...                           277000.0   \n",
       "\n",
       "   taxvaluedollarcnt  assessmentyear  landtaxvaluedollarcnt  taxamount  \\\n",
       "0           191811.0          2015.0                76724.0    2015.06   \n",
       "1           239679.0          2015.0                95870.0    2581.30   \n",
       "2            47853.0          2015.0                14234.0     591.64   \n",
       "3            62914.0          2015.0                17305.0     682.78   \n",
       "4           554000.0          2015.0               277000.0    5886.92   \n",
       "\n",
       "   taxdelinquencyflag  taxdelinquencyyear  censustractandblock  logerror  \\\n",
       "0                 NaN                 NaN         6.111002e+13    0.0953   \n",
       "1                 NaN                 NaN         6.111002e+13    0.0198   \n",
       "2                 NaN                 NaN         6.111001e+13    0.0060   \n",
       "3                 NaN                 NaN         6.111001e+13   -0.0566   \n",
       "4                 NaN                 NaN         6.111001e+13    0.0573   \n",
       "\n",
       "   transactiondate  \n",
       "0       2016-01-27  \n",
       "1       2016-03-30  \n",
       "2       2016-05-27  \n",
       "3       2016-06-07  \n",
       "4       2016-08-08  \n",
       "\n",
       "[5 rows x 60 columns]"
      ]
     },
     "execution_count": 241,
     "metadata": {},
     "output_type": "execute_result"
    }
   ],
   "source": [
    "df.head()"
   ]
  },
  {
   "cell_type": "code",
   "execution_count": 242,
   "metadata": {},
   "outputs": [
    {
     "data": {
      "text/plain": [
       "(90275, 60)"
      ]
     },
     "execution_count": 242,
     "metadata": {},
     "output_type": "execute_result"
    }
   ],
   "source": [
    "df.shape"
   ]
  },
  {
   "cell_type": "code",
   "execution_count": 246,
   "metadata": {},
   "outputs": [
    {
     "data": {
      "text/plain": [
       "0    0.0953\n",
       "1    0.0198\n",
       "2    0.0060\n",
       "3   -0.0566\n",
       "4    0.0573\n",
       "Name: logerror, dtype: float64"
      ]
     },
     "execution_count": 246,
     "metadata": {},
     "output_type": "execute_result"
    }
   ],
   "source": [
    "df['logerror'].head()"
   ]
  },
  {
   "cell_type": "code",
   "execution_count": 247,
   "metadata": {},
   "outputs": [
    {
     "data": {
      "text/plain": [
       "count    90275.000000\n",
       "mean         0.011457\n",
       "std          0.161079\n",
       "min         -4.605000\n",
       "25%         -0.025300\n",
       "50%          0.006000\n",
       "75%          0.039200\n",
       "max          4.737000\n",
       "Name: logerror, dtype: float64"
      ]
     },
     "execution_count": 247,
     "metadata": {},
     "output_type": "execute_result"
    }
   ],
   "source": [
    "df['logerror'].describe()"
   ]
  },
  {
   "cell_type": "code",
   "execution_count": 248,
   "metadata": {},
   "outputs": [
    {
     "name": "stdout",
     "output_type": "stream",
     "text": [
      "Parse progress: |█████████████████████████████████████████████████████████| 100%\n"
     ]
    }
   ],
   "source": [
    "# conversion of pandas dataframe to h2o frame\n",
    "hf = h2o.H2OFrame(df)"
   ]
  },
  {
   "cell_type": "code",
   "execution_count": 249,
   "metadata": {},
   "outputs": [
    {
     "name": "stdout",
     "output_type": "stream",
     "text": [
      "Rows:90275\n",
      "Cols:60\n",
      "\n",
      "\n"
     ]
    },
    {
     "data": {
      "text/html": [
       "<table>\n",
       "<thead>\n",
       "<tr><th>       </th><th>parcelid          </th><th>airconditioningtypeid  </th><th>architecturalstyletypeid  </th><th>basementsqft  </th><th>bathroomcnt       </th><th>bedroomcnt        </th><th>buildingclasstypeid  </th><th>buildingqualitytypeid  </th><th>calculatedbathnbr  </th><th>decktypeid  </th><th>finishedfloor1squarefeet  </th><th>calculatedfinishedsquarefeet  </th><th>finishedsquarefeet12  </th><th>finishedsquarefeet13  </th><th>finishedsquarefeet15  </th><th>finishedsquarefeet50  </th><th>finishedsquarefeet6  </th><th>fips              </th><th>fireplacecnt  </th><th>fullbathcnt       </th><th>garagecarcnt  </th><th>garagetotalsqft  </th><th>hashottuborspa  </th><th>heatingorsystemtypeid  </th><th>latitude          </th><th>longitude          </th><th>lotsizesquarefeet  </th><th>poolcnt  </th><th>poolsizesum  </th><th>pooltypeid10  </th><th>pooltypeid2  </th><th>pooltypeid7  </th><th>propertycountylandusecode  </th><th>propertylandusetypeid  </th><th>propertyzoningdesc  </th><th>rawcensustractandblock  </th><th>regionidcity      </th><th>regionidcounty   </th><th>regionidneighborhood  </th><th>regionidzip       </th><th>roomcnt           </th><th>storytypeid  </th><th>threequarterbathnbr  </th><th>typeconstructiontypeid  </th><th>unitcnt           </th><th>yardbuildingsqft17  </th><th>yardbuildingsqft26  </th><th>yearbuilt         </th><th>numberofstories  </th><th>fireplaceflag  </th><th>structuretaxvaluedollarcnt  </th><th>taxvaluedollarcnt  </th><th>assessmentyear  </th><th>landtaxvaluedollarcnt  </th><th>taxamount        </th><th>taxdelinquencyflag  </th><th>taxdelinquencyyear  </th><th>censustractandblock  </th><th>logerror            </th><th>transactiondate    </th></tr>\n",
       "</thead>\n",
       "<tbody>\n",
       "<tr><td>type   </td><td>int               </td><td>enum                   </td><td>enum                      </td><td>enum          </td><td>real              </td><td>int               </td><td>enum                 </td><td>int                    </td><td>real               </td><td>enum        </td><td>enum                      </td><td>int                           </td><td>int                   </td><td>enum                  </td><td>enum                  </td><td>enum                  </td><td>enum                 </td><td>int               </td><td>enum          </td><td>int               </td><td>enum          </td><td>enum             </td><td>enum            </td><td>int                    </td><td>int               </td><td>int                </td><td>real               </td><td>enum     </td><td>enum         </td><td>enum          </td><td>enum         </td><td>enum         </td><td>int                        </td><td>int                    </td><td>enum                </td><td>real                    </td><td>int               </td><td>int              </td><td>enum                  </td><td>int               </td><td>int               </td><td>enum         </td><td>enum                 </td><td>enum                    </td><td>int               </td><td>enum                </td><td>enum                </td><td>int               </td><td>enum             </td><td>enum           </td><td>int                         </td><td>int                </td><td>int             </td><td>int                    </td><td>real             </td><td>enum                </td><td>enum                </td><td>int                  </td><td>real                </td><td>time               </td></tr>\n",
       "<tr><td>mins   </td><td>10711738.0        </td><td>                       </td><td>                          </td><td>              </td><td>0.0               </td><td>0.0               </td><td>                     </td><td>1.0                    </td><td>1.0                </td><td>            </td><td>                          </td><td>2.0                           </td><td>2.0                   </td><td>                      </td><td>                      </td><td>                      </td><td>                     </td><td>6037.0            </td><td>              </td><td>1.0               </td><td>              </td><td>                 </td><td>                </td><td>1.0                    </td><td>33339295.0        </td><td>-119447865.0       </td><td>167.0              </td><td>         </td><td>             </td><td>              </td><td>             </td><td>             </td><td>0.0                        </td><td>31.0                   </td><td>                    </td><td>60371011.101001         </td><td>3491.0            </td><td>1286.0           </td><td>                      </td><td>95982.0           </td><td>0.0               </td><td>             </td><td>                     </td><td>                        </td><td>1.0               </td><td>                    </td><td>                    </td><td>1885.0            </td><td>                 </td><td>               </td><td>100.0                       </td><td>22.0               </td><td>2015.0          </td><td>22.0                   </td><td>49.08            </td><td>                    </td><td>                    </td><td>60371011101001.0     </td><td>-4.605              </td><td>1451606400000.0    </td></tr>\n",
       "<tr><td>mean   </td><td>12984656.108712273</td><td>                       </td><td>                          </td><td>              </td><td>2.279473829964004 </td><td>3.0318692882857903</td><td>                     </td><td>5.56540687539223       </td><td>2.3092162122725703 </td><td>            </td><td>                          </td><td>1773.1859865645972            </td><td>1745.4545305855427    </td><td>                      </td><td>                      </td><td>                      </td><td>                     </td><td>6048.870551093871 </td><td>              </td><td>2.241231073148282 </td><td>              </td><td>                 </td><td>                </td><td>3.9269793152639108     </td><td>34005410.69369153 </td><td>-118198868.30685127</td><td>29110.164176624    </td><td>         </td><td>             </td><td>              </td><td>             </td><td>             </td><td>202.6997234028199          </td><td>261.83217945167587     </td><td>                    </td><td>60491794.811502874      </td><td>33761.332851071544</td><td>2525.420769869842</td><td>                      </td><td>96586.1311835106  </td><td>1.4785156466352813</td><td>             </td><td>                     </td><td>                        </td><td>1.1104142032114885</td><td>                    </td><td>                    </td><td>1968.5328701169585</td><td>                 </td><td>               </td><td>180093.39374826167          </td><td>457672.6273567132  </td><td>2015.0          </td><td>278335.3250216003      </td><td>5983.975926730117</td><td>                    </td><td>                    </td><td>60491508546032.64    </td><td>0.011457219606757121</td><td>1465669839260.0388 </td></tr>\n",
       "<tr><td>maxs   </td><td>162960842.0       </td><td>                       </td><td>                          </td><td>              </td><td>20.0              </td><td>16.0              </td><td>                     </td><td>12.0                   </td><td>20.0               </td><td>            </td><td>                          </td><td>22741.0                       </td><td>20013.0               </td><td>                      </td><td>                      </td><td>                      </td><td>                     </td><td>6111.0            </td><td>              </td><td>20.0              </td><td>              </td><td>                 </td><td>                </td><td>24.0                   </td><td>34816009.0        </td><td>-117554924.0       </td><td>6971010.0          </td><td>         </td><td>             </td><td>              </td><td>             </td><td>             </td><td>8800.0                     </td><td>275.0                  </td><td>                    </td><td>61110091.00101999       </td><td>396556.0          </td><td>3101.0           </td><td>                      </td><td>399675.0          </td><td>18.0              </td><td>             </td><td>                     </td><td>                        </td><td>143.0             </td><td>                    </td><td>                    </td><td>2015.0            </td><td>                 </td><td>               </td><td>9948100.0                   </td><td>27750000.0         </td><td>2015.0          </td><td>24500000.0             </td><td>321936.09        </td><td>                    </td><td>                    </td><td>61110091001020.0     </td><td>4.737               </td><td>1483056000000.0    </td></tr>\n",
       "<tr><td>sigma  </td><td>2504510.488301767 </td><td>                       </td><td>                          </td><td>              </td><td>1.0042709877071905</td><td>1.1564355198675524</td><td>                     </td><td>1.9006016285969731     </td><td>0.9761724992343213 </td><td>            </td><td>                          </td><td>928.1623927208233             </td><td>909.9411657489271     </td><td>                      </td><td>                      </td><td>                      </td><td>                     </td><td>20.663460805186414</td><td>              </td><td>0.9631416217273226</td><td>              </td><td>                 </td><td>                </td><td>3.6843820505313793     </td><td>264965.37555690156</td><td>360603.19970355544 </td><td>121721.30865440037 </td><td>         </td><td>             </td><td>              </td><td>             </td><td>             </td><td>307.47152682954317         </td><td>5.182900523458312      </td><td>                    </td><td>205054.86726826307      </td><td>46672.39386291222 </td><td>805.6948419923104</td><td>                      </td><td>3661.3390937511517</td><td>2.819627043522205 </td><td>             </td><td>                     </td><td>                        </td><td>0.7972352624935555</td><td>                    </td><td>                    </td><td>23.76347471454321 </td><td>                 </td><td>               </td><td>209129.88816860024          </td><td>554884.3989425417  </td><td>0.0             </td><td>400495.4648926158      </td><td>6838.876956292304</td><td>                    </td><td>                    </td><td>204660503527.13788   </td><td>0.1610788353671869  </td><td>7410679638.77166   </td></tr>\n",
       "<tr><td>zeros  </td><td>0                 </td><td>                       </td><td>                          </td><td>              </td><td>1165              </td><td>1421              </td><td>                     </td><td>0                      </td><td>0                  </td><td>            </td><td>                          </td><td>0                             </td><td>0                     </td><td>                      </td><td>                      </td><td>                      </td><td>                     </td><td>0                 </td><td>              </td><td>0                 </td><td>              </td><td>                 </td><td>                </td><td>0                      </td><td>0                 </td><td>0                  </td><td>0                  </td><td>         </td><td>             </td><td>              </td><td>             </td><td>             </td><td>1                          </td><td>0                      </td><td>                    </td><td>0                       </td><td>0                 </td><td>0                </td><td>                      </td><td>0                 </td><td>69700             </td><td>             </td><td>                     </td><td>                        </td><td>0                 </td><td>                    </td><td>                    </td><td>0                 </td><td>                 </td><td>               </td><td>0                           </td><td>0                  </td><td>0               </td><td>0                      </td><td>0                </td><td>                    </td><td>                    </td><td>0                    </td><td>847                 </td><td>0                  </td></tr>\n",
       "<tr><td>missing</td><td>0                 </td><td>0                      </td><td>0                         </td><td>0             </td><td>0                 </td><td>0                 </td><td>0                    </td><td>32911                  </td><td>1182               </td><td>0           </td><td>0                         </td><td>661                           </td><td>4679                  </td><td>0                     </td><td>0                     </td><td>0                     </td><td>0                    </td><td>0                 </td><td>0             </td><td>1182              </td><td>0             </td><td>0                </td><td>0               </td><td>34195                  </td><td>0                 </td><td>0                  </td><td>10150              </td><td>0        </td><td>0            </td><td>0             </td><td>0            </td><td>0            </td><td>16160                      </td><td>0                      </td><td>0                   </td><td>0                       </td><td>1803              </td><td>0                </td><td>0                     </td><td>35                </td><td>0                 </td><td>0            </td><td>0                    </td><td>0                       </td><td>31922             </td><td>0                   </td><td>0                   </td><td>756               </td><td>0                </td><td>0              </td><td>380                         </td><td>1                  </td><td>0               </td><td>1                      </td><td>6                </td><td>0                   </td><td>0                   </td><td>605                  </td><td>0                   </td><td>0                  </td></tr>\n",
       "<tr><td>0      </td><td>17073783.0        </td><td>nan                    </td><td>nan                       </td><td>nan           </td><td>2.5               </td><td>3.0               </td><td>nan                  </td><td>nan                    </td><td>2.5                </td><td>nan         </td><td>548.0                     </td><td>1264.0                        </td><td>1264.0                </td><td>nan                   </td><td>nan                   </td><td>548.0                 </td><td>nan                  </td><td>6111.0            </td><td>nan           </td><td>2.0               </td><td>2.0           </td><td>0.0              </td><td>nan             </td><td>nan                    </td><td>34303597.0        </td><td>-119287236.0       </td><td>1735.0             </td><td>nan      </td><td>nan          </td><td>nan           </td><td>nan          </td><td>nan          </td><td>1128.0                     </td><td>265.0                  </td><td>nan                 </td><td>61110022.003006995      </td><td>34543.0           </td><td>2061.0           </td><td>nan                   </td><td>97081.0           </td><td>5.0               </td><td>nan          </td><td>1.0                  </td><td>nan                     </td><td>nan               </td><td>128.0               </td><td>nan                 </td><td>1986.0            </td><td>2.0              </td><td>nan            </td><td>115087.0                    </td><td>191811.0           </td><td>2015.0          </td><td>76724.0                </td><td>2015.06          </td><td>nan                 </td><td>nan                 </td><td>61110022003007.0     </td><td>0.0953              </td><td>2016-01-27 00:00:00</td></tr>\n",
       "<tr><td>1      </td><td>17088994.0        </td><td>nan                    </td><td>nan                       </td><td>nan           </td><td>1.0               </td><td>2.0               </td><td>nan                  </td><td>nan                    </td><td>1.0                </td><td>nan         </td><td>777.0                     </td><td>777.0                         </td><td>777.0                 </td><td>nan                   </td><td>nan                   </td><td>777.0                 </td><td>nan                  </td><td>6111.0            </td><td>nan           </td><td>1.0               </td><td>1.0           </td><td>0.0              </td><td>nan             </td><td>nan                    </td><td>34272866.0        </td><td>-119198911.0       </td><td>nan                </td><td>nan      </td><td>nan          </td><td>nan           </td><td>nan          </td><td>nan          </td><td>1129.0                     </td><td>266.0                  </td><td>nan                 </td><td>61110015.031002         </td><td>34543.0           </td><td>2061.0           </td><td>nan                   </td><td>97083.0           </td><td>4.0               </td><td>nan          </td><td>nan                  </td><td>nan                     </td><td>nan               </td><td>198.0               </td><td>nan                 </td><td>1990.0            </td><td>1.0              </td><td>nan            </td><td>143809.0                    </td><td>239679.0           </td><td>2015.0          </td><td>95870.0                </td><td>2581.3           </td><td>nan                 </td><td>nan                 </td><td>61110015031002.0     </td><td>0.0198              </td><td>2016-03-30 00:00:00</td></tr>\n",
       "<tr><td>2      </td><td>17100444.0        </td><td>nan                    </td><td>nan                       </td><td>nan           </td><td>2.0               </td><td>3.0               </td><td>nan                  </td><td>nan                    </td><td>2.0                </td><td>nan         </td><td>1101.0                    </td><td>1101.0                        </td><td>1101.0                </td><td>nan                   </td><td>nan                   </td><td>1101.0                </td><td>nan                  </td><td>6111.0            </td><td>nan           </td><td>2.0               </td><td>2.0           </td><td>441.0            </td><td>nan             </td><td>nan                    </td><td>34340801.0        </td><td>-119079610.0       </td><td>6569.0             </td><td>nan      </td><td>nan          </td><td>nan           </td><td>nan          </td><td>nan          </td><td>1111.0                     </td><td>261.0                  </td><td>nan                 </td><td>61110007.01100699       </td><td>26965.0           </td><td>2061.0           </td><td>nan                   </td><td>97113.0           </td><td>5.0               </td><td>nan          </td><td>nan                  </td><td>nan                     </td><td>nan               </td><td>nan                 </td><td>nan                 </td><td>1956.0            </td><td>1.0              </td><td>nan            </td><td>33619.0                     </td><td>47853.0            </td><td>2015.0          </td><td>14234.0                </td><td>591.64           </td><td>nan                 </td><td>nan                 </td><td>61110007011007.0     </td><td>0.006               </td><td>2016-05-27 00:00:00</td></tr>\n",
       "<tr><td>3      </td><td>17102429.0        </td><td>nan                    </td><td>nan                       </td><td>nan           </td><td>1.5               </td><td>2.0               </td><td>nan                  </td><td>nan                    </td><td>1.5                </td><td>nan         </td><td>1554.0                    </td><td>1554.0                        </td><td>1554.0                </td><td>nan                   </td><td>nan                   </td><td>1554.0                </td><td>nan                  </td><td>6111.0            </td><td>1.0           </td><td>1.0               </td><td>2.0           </td><td>460.0            </td><td>nan             </td><td>nan                    </td><td>34354313.0        </td><td>-119076405.0       </td><td>7400.0             </td><td>nan      </td><td>nan          </td><td>nan           </td><td>nan          </td><td>nan          </td><td>1110.0                     </td><td>261.0                  </td><td>nan                 </td><td>61110008.002013         </td><td>26965.0           </td><td>2061.0           </td><td>nan                   </td><td>97113.0           </td><td>5.0               </td><td>nan          </td><td>1.0                  </td><td>nan                     </td><td>nan               </td><td>nan                 </td><td>nan                 </td><td>1965.0            </td><td>1.0              </td><td>nan            </td><td>45609.0                     </td><td>62914.0            </td><td>2015.0          </td><td>17305.0                </td><td>682.78           </td><td>nan                 </td><td>nan                 </td><td>61110008002013.0     </td><td>-0.0566             </td><td>2016-06-07 00:00:00</td></tr>\n",
       "<tr><td>4      </td><td>17109604.0        </td><td>nan                    </td><td>nan                       </td><td>nan           </td><td>2.5               </td><td>4.0               </td><td>nan                  </td><td>nan                    </td><td>2.5                </td><td>nan         </td><td>1305.0                    </td><td>2415.0                        </td><td>2415.0                </td><td>nan                   </td><td>nan                   </td><td>1305.0                </td><td>nan                  </td><td>6111.0            </td><td>1.0           </td><td>2.0               </td><td>2.0           </td><td>665.0            </td><td>nan             </td><td>nan                    </td><td>34266578.0        </td><td>-119165392.0       </td><td>6326.0             </td><td>nan      </td><td>nan          </td><td>nan           </td><td>nan          </td><td>nan          </td><td>1111.0                     </td><td>261.0                  </td><td>nan                 </td><td>61110014.021006994      </td><td>34543.0           </td><td>2061.0           </td><td>nan                   </td><td>97084.0           </td><td>8.0               </td><td>nan          </td><td>1.0                  </td><td>nan                     </td><td>nan               </td><td>nan                 </td><td>nan                 </td><td>1984.0            </td><td>2.0              </td><td>nan            </td><td>277000.0                    </td><td>554000.0           </td><td>2015.0          </td><td>277000.0               </td><td>5886.92          </td><td>nan                 </td><td>nan                 </td><td>61110014021007.0     </td><td>0.0573              </td><td>2016-08-08 00:00:00</td></tr>\n",
       "<tr><td>5      </td><td>17125829.0        </td><td>nan                    </td><td>nan                       </td><td>nan           </td><td>2.5               </td><td>4.0               </td><td>nan                  </td><td>nan                    </td><td>2.5                </td><td>66.0        </td><td>1303.0                    </td><td>2882.0                        </td><td>2882.0                </td><td>nan                   </td><td>nan                   </td><td>1303.0                </td><td>nan                  </td><td>6111.0            </td><td>1.0           </td><td>2.0               </td><td>2.0           </td><td>473.0            </td><td>nan             </td><td>nan                    </td><td>34240014.0        </td><td>-119024793.0       </td><td>10000.0            </td><td>nan      </td><td>nan          </td><td>nan           </td><td>nan          </td><td>nan          </td><td>1111.0                     </td><td>261.0                  </td><td>nan                 </td><td>61110052.022034         </td><td>51239.0           </td><td>2061.0           </td><td>nan                   </td><td>97089.0           </td><td>8.0               </td><td>nan          </td><td>1.0                  </td><td>nan                     </td><td>nan               </td><td>nan                 </td><td>nan                 </td><td>1980.0            </td><td>2.0              </td><td>nan            </td><td>222070.0                    </td><td>289609.0           </td><td>2015.0          </td><td>67539.0                </td><td>3110.44          </td><td>nan                 </td><td>nan                 </td><td>61110052022034.0     </td><td>0.0564              </td><td>2016-08-26 00:00:00</td></tr>\n",
       "<tr><td>6      </td><td>17132911.0        </td><td>nan                    </td><td>nan                       </td><td>nan           </td><td>2.0               </td><td>3.0               </td><td>nan                  </td><td>nan                    </td><td>2.0                </td><td>nan         </td><td>1772.0                    </td><td>1772.0                        </td><td>1772.0                </td><td>nan                   </td><td>nan                   </td><td>1772.0                </td><td>nan                  </td><td>6111.0            </td><td>1.0           </td><td>2.0               </td><td>2.0           </td><td>467.0            </td><td>nan             </td><td>nan                    </td><td>34226842.0        </td><td>-119059815.0       </td><td>8059.0             </td><td>nan      </td><td>nan          </td><td>nan           </td><td>nan          </td><td>nan          </td><td>1111.0                     </td><td>261.0                  </td><td>nan                 </td><td>61110055.03201          </td><td>51239.0           </td><td>2061.0           </td><td>nan                   </td><td>97089.0           </td><td>6.0               </td><td>nan          </td><td>nan                  </td><td>nan                     </td><td>nan               </td><td>1045.0              </td><td>nan                 </td><td>1978.0            </td><td>1.0              </td><td>nan            </td><td>185000.0                    </td><td>526000.0           </td><td>2015.0          </td><td>341000.0               </td><td>5632.2           </td><td>nan                 </td><td>nan                 </td><td>61110055032010.0     </td><td>0.0315              </td><td>2016-07-08 00:00:00</td></tr>\n",
       "<tr><td>7      </td><td>17134926.0        </td><td>nan                    </td><td>nan                       </td><td>nan           </td><td>2.5               </td><td>5.0               </td><td>nan                  </td><td>nan                    </td><td>2.5                </td><td>nan         </td><td>1240.0                    </td><td>2632.0                        </td><td>2632.0                </td><td>nan                   </td><td>nan                   </td><td>1240.0                </td><td>nan                  </td><td>6111.0            </td><td>1.0           </td><td>2.0               </td><td>2.0           </td><td>440.0            </td><td>nan             </td><td>nan                    </td><td>34229816.0        </td><td>-119050224.0       </td><td>7602.0             </td><td>1.0      </td><td>800.0        </td><td>nan           </td><td>nan          </td><td>1.0          </td><td>1111.0                     </td><td>261.0                  </td><td>nan                 </td><td>61110055.041004         </td><td>51239.0           </td><td>2061.0           </td><td>nan                   </td><td>97089.0           </td><td>8.0               </td><td>nan          </td><td>1.0                  </td><td>nan                     </td><td>nan               </td><td>180.0               </td><td>nan                 </td><td>1971.0            </td><td>2.0              </td><td>nan            </td><td>342611.0                    </td><td>571086.0           </td><td>2015.0          </td><td>228475.0               </td><td>6109.94          </td><td>nan                 </td><td>nan                 </td><td>61110055041004.0     </td><td>0.0257              </td><td>2016-05-11 00:00:00</td></tr>\n",
       "<tr><td>8      </td><td>17139988.0        </td><td>nan                    </td><td>nan                       </td><td>nan           </td><td>2.0               </td><td>3.0               </td><td>nan                  </td><td>nan                    </td><td>2.0                </td><td>nan         </td><td>1292.0                    </td><td>1292.0                        </td><td>1292.0                </td><td>nan                   </td><td>nan                   </td><td>1292.0                </td><td>nan                  </td><td>6111.0            </td><td>nan           </td><td>2.0               </td><td>2.0           </td><td>494.0            </td><td>nan             </td><td>nan                    </td><td>34226351.0        </td><td>-118983853.0       </td><td>7405.0             </td><td>nan      </td><td>nan          </td><td>nan           </td><td>nan          </td><td>nan          </td><td>1111.0                     </td><td>261.0                  </td><td>nan                 </td><td>61110053.041014         </td><td>51239.0           </td><td>2061.0           </td><td>nan                   </td><td>97091.0           </td><td>6.0               </td><td>nan          </td><td>nan                  </td><td>nan                     </td><td>nan               </td><td>304.0               </td><td>nan                 </td><td>1979.0            </td><td>1.0              </td><td>nan            </td><td>231297.0                    </td><td>462594.0           </td><td>2015.0          </td><td>231297.0               </td><td>5026.4           </td><td>nan                 </td><td>nan                 </td><td>61110053041014.0     </td><td>0.002               </td><td>2016-06-15 00:00:00</td></tr>\n",
       "<tr><td>9      </td><td>17167359.0        </td><td>nan                    </td><td>nan                       </td><td>nan           </td><td>1.0               </td><td>3.0               </td><td>nan                  </td><td>nan                    </td><td>1.0                </td><td>nan         </td><td>804.0                     </td><td>1385.0                        </td><td>1385.0                </td><td>nan                   </td><td>nan                   </td><td>804.0                 </td><td>nan                  </td><td>6111.0            </td><td>1.0           </td><td>1.0               </td><td>1.0           </td><td>253.0            </td><td>nan             </td><td>nan                    </td><td>34179289.0        </td><td>-119169287.0       </td><td>6000.0             </td><td>nan      </td><td>nan          </td><td>nan           </td><td>nan          </td><td>nan          </td><td>1111.0                     </td><td>261.0                  </td><td>nan                 </td><td>61110039.002008         </td><td>13150.0           </td><td>2061.0           </td><td>nan                   </td><td>97104.0           </td><td>6.0               </td><td>nan          </td><td>nan                  </td><td>nan                     </td><td>nan               </td><td>nan                 </td><td>nan                 </td><td>1950.0            </td><td>1.0              </td><td>nan            </td><td>134251.0                    </td><td>268502.0           </td><td>2015.0          </td><td>134251.0               </td><td>3217.06          </td><td>nan                 </td><td>nan                 </td><td>61110039002008.0     </td><td>-0.0576             </td><td>2016-05-27 00:00:00</td></tr>\n",
       "</tbody>\n",
       "</table>"
      ]
     },
     "metadata": {},
     "output_type": "display_data"
    }
   ],
   "source": [
    "hf.describe()"
   ]
  },
  {
   "cell_type": "code",
   "execution_count": 250,
   "metadata": {
    "collapsed": true
   },
   "outputs": [],
   "source": [
    "def get_independent_variables(df, targ):\n",
    "    C = [name for name in df.columns if name != targ]\n",
    "    # determine column types\n",
    "    ints, reals, enums = [], [], []\n",
    "    for key, val in df.types.items():\n",
    "        if key in C:\n",
    "            if val == 'enum':\n",
    "                enums.append(key)\n",
    "            elif val == 'int':\n",
    "                ints.append(key)            \n",
    "            else: \n",
    "                reals.append(key)    \n",
    "    x=ints+enums+reals\n",
    "    return x"
   ]
  },
  {
   "cell_type": "code",
   "execution_count": 251,
   "metadata": {},
   "outputs": [
    {
     "name": "stdout",
     "output_type": "stream",
     "text": [
      "['parcelid', 'bedroomcnt', 'buildingqualitytypeid', 'calculatedfinishedsquarefeet', 'finishedsquarefeet12', 'fips', 'fullbathcnt', 'heatingorsystemtypeid', 'latitude', 'longitude', 'propertycountylandusecode', 'propertylandusetypeid', 'regionidcity', 'regionidcounty', 'regionidzip', 'roomcnt', 'unitcnt', 'yearbuilt', 'structuretaxvaluedollarcnt', 'taxvaluedollarcnt', 'assessmentyear', 'landtaxvaluedollarcnt', 'censustractandblock', 'airconditioningtypeid', 'architecturalstyletypeid', 'basementsqft', 'buildingclasstypeid', 'decktypeid', 'finishedfloor1squarefeet', 'finishedsquarefeet13', 'finishedsquarefeet15', 'finishedsquarefeet50', 'finishedsquarefeet6', 'fireplacecnt', 'garagecarcnt', 'garagetotalsqft', 'hashottuborspa', 'poolcnt', 'poolsizesum', 'pooltypeid10', 'pooltypeid2', 'pooltypeid7', 'propertyzoningdesc', 'regionidneighborhood', 'storytypeid', 'threequarterbathnbr', 'typeconstructiontypeid', 'yardbuildingsqft17', 'yardbuildingsqft26', 'numberofstories', 'fireplaceflag', 'taxdelinquencyflag', 'taxdelinquencyyear', 'bathroomcnt', 'calculatedbathnbr', 'lotsizesquarefeet', 'rawcensustractandblock', 'taxamount', 'transactiondate']\n",
      "logerror\n"
     ]
    }
   ],
   "source": [
    "y=target\n",
    "X=get_independent_variables(hf,y) \n",
    "print(X)\n",
    "print(y)"
   ]
  },
  {
   "cell_type": "code",
   "execution_count": 252,
   "metadata": {
    "collapsed": true
   },
   "outputs": [],
   "source": [
    "train, valid = hf.split_frame([0.90])"
   ]
  },
  {
   "cell_type": "code",
   "execution_count": 253,
   "metadata": {
    "collapsed": true
   },
   "outputs": [],
   "source": [
    "# Set up AutoML\n",
    "aml = H2OAutoML(max_runtime_secs=run_time,exclude_algos = ['DeepLearning'])"
   ]
  },
  {
   "cell_type": "code",
   "execution_count": 254,
   "metadata": {},
   "outputs": [
    {
     "name": "stdout",
     "output_type": "stream",
     "text": [
      "AutoML progress: |████████████████████████████████████████████████████████| 100%\n"
     ]
    }
   ],
   "source": [
    "aml.train(x=X,y=y,training_frame=train) "
   ]
  },
  {
   "cell_type": "code",
   "execution_count": 255,
   "metadata": {
    "scrolled": true
   },
   "outputs": [
    {
     "data": {
      "text/html": [
       "<table>\n",
       "<thead>\n",
       "<tr><th>model_id                                           </th><th style=\"text-align: right;\">  mean_residual_deviance</th><th style=\"text-align: right;\">    rmse</th><th style=\"text-align: right;\">      mse</th><th style=\"text-align: right;\">      mae</th><th style=\"text-align: right;\">  rmsle</th></tr>\n",
       "</thead>\n",
       "<tbody>\n",
       "<tr><td>StackedEnsemble_AllModels_AutoML_20190218_225558   </td><td style=\"text-align: right;\">               0.0253171</td><td style=\"text-align: right;\">0.159114</td><td style=\"text-align: right;\">0.0253171</td><td style=\"text-align: right;\">0.0682536</td><td style=\"text-align: right;\">    nan</td></tr>\n",
       "<tr><td>StackedEnsemble_BestOfFamily_AutoML_20190218_225558</td><td style=\"text-align: right;\">               0.0253171</td><td style=\"text-align: right;\">0.159114</td><td style=\"text-align: right;\">0.0253171</td><td style=\"text-align: right;\">0.0682536</td><td style=\"text-align: right;\">    nan</td></tr>\n",
       "<tr><td>XGBoost_1_AutoML_20190218_225558                   </td><td style=\"text-align: right;\">               0.0254222</td><td style=\"text-align: right;\">0.159444</td><td style=\"text-align: right;\">0.0254222</td><td style=\"text-align: right;\">0.0684169</td><td style=\"text-align: right;\">    nan</td></tr>\n",
       "<tr><td>XRT_1_AutoML_20190218_225558                       </td><td style=\"text-align: right;\">               0.0255347</td><td style=\"text-align: right;\">0.159796</td><td style=\"text-align: right;\">0.0255347</td><td style=\"text-align: right;\">0.06863  </td><td style=\"text-align: right;\">    nan</td></tr>\n",
       "<tr><td>GLM_grid_1_AutoML_20190218_225558_model_1          </td><td style=\"text-align: right;\">               0.0255774</td><td style=\"text-align: right;\">0.159929</td><td style=\"text-align: right;\">0.0255774</td><td style=\"text-align: right;\">0.0681765</td><td style=\"text-align: right;\">    nan</td></tr>\n",
       "<tr><td>DRF_1_AutoML_20190218_225558                       </td><td style=\"text-align: right;\">               0.0257977</td><td style=\"text-align: right;\">0.160617</td><td style=\"text-align: right;\">0.0257977</td><td style=\"text-align: right;\">0.0702727</td><td style=\"text-align: right;\">    nan</td></tr>\n",
       "</tbody>\n",
       "</table>"
      ]
     },
     "metadata": {},
     "output_type": "display_data"
    },
    {
     "name": "stdout",
     "output_type": "stream",
     "text": [
      "\n"
     ]
    }
   ],
   "source": [
    "print(aml.leaderboard)"
   ]
  },
  {
   "cell_type": "code",
   "execution_count": 256,
   "metadata": {
    "collapsed": true
   },
   "outputs": [],
   "source": [
    "aml_leaderboard_df=aml.leaderboard.as_data_frame()"
   ]
  },
  {
   "cell_type": "code",
   "execution_count": 257,
   "metadata": {},
   "outputs": [
    {
     "data": {
      "text/plain": [
       "0     StackedEnsemble_AllModels_AutoML_20190218_225558\n",
       "1    StackedEnsemble_BestOfFamily_AutoML_20190218_2...\n",
       "2                     XGBoost_1_AutoML_20190218_225558\n",
       "3                         XRT_1_AutoML_20190218_225558\n",
       "4            GLM_grid_1_AutoML_20190218_225558_model_1\n",
       "5                         DRF_1_AutoML_20190218_225558\n",
       "Name: model_id, dtype: object"
      ]
     },
     "execution_count": 257,
     "metadata": {},
     "output_type": "execute_result"
    }
   ],
   "source": [
    "aml_leaderboard_df['model_id']"
   ]
  },
  {
   "cell_type": "code",
   "execution_count": 258,
   "metadata": {},
   "outputs": [
    {
     "name": "stdout",
     "output_type": "stream",
     "text": [
      "StackedEnsemble_AllModels_AutoML_20190218_225558\n",
      "StackedEnsemble_BestOfFamily_AutoML_20190218_225558\n",
      "XGBoost_1_AutoML_20190218_225558\n",
      "XRT_1_AutoML_20190218_225558\n",
      "GLM_grid_1_AutoML_20190218_225558_model_1\n",
      "DRF_1_AutoML_20190218_225558\n"
     ]
    }
   ],
   "source": [
    "models_dict={}\n",
    "for m in aml_leaderboard_df['model_id']:\n",
    "     print(m)\n",
    "     models_dict[m]=None        \n",
    "  "
   ]
  },
  {
   "cell_type": "code",
   "execution_count": 259,
   "metadata": {},
   "outputs": [
    {
     "data": {
      "text/plain": [
       "{'DRF_1_AutoML_20190218_225558': None,\n",
       " 'GLM_grid_1_AutoML_20190218_225558_model_1': None,\n",
       " 'StackedEnsemble_AllModels_AutoML_20190218_225558': None,\n",
       " 'StackedEnsemble_BestOfFamily_AutoML_20190218_225558': None,\n",
       " 'XGBoost_1_AutoML_20190218_225558': None,\n",
       " 'XRT_1_AutoML_20190218_225558': None}"
      ]
     },
     "execution_count": 259,
     "metadata": {},
     "output_type": "execute_result"
    }
   ],
   "source": [
    "models_dict"
   ]
  },
  {
   "cell_type": "code",
   "execution_count": 260,
   "metadata": {
    "collapsed": true
   },
   "outputs": [],
   "source": [
    "def get_model_by_algo(algo,models_dict):\n",
    "    mod=None\n",
    "    mod_id=None    \n",
    "    for m in list(models_dict.keys()):\n",
    "        if m[0:3]==algo:\n",
    "            mod_id=m\n",
    "            mod=h2o.get_model(m)      \n",
    "    return mod,mod_id "
   ]
  },
  {
   "cell_type": "code",
   "execution_count": 261,
   "metadata": {
    "collapsed": true
   },
   "outputs": [],
   "source": [
    "mod,mod_id=get_model_by_algo(\"DRF\",models_dict)"
   ]
  },
  {
   "cell_type": "code",
   "execution_count": 262,
   "metadata": {},
   "outputs": [
    {
     "name": "stdout",
     "output_type": "stream",
     "text": [
      "DRF_1_AutoML_20190218_225558\n",
      "drf\n"
     ]
    },
    {
     "data": {
      "image/png": "[encoded data removed]",
      "text/plain": [
       "<Figure size 1008x720 with 1 Axes>"
      ]
     },
     "metadata": {},
     "output_type": "display_data"
    }
   ],
   "source": [
    "if mod is not None:\n",
    "  print(mod_id)\n",
    "  print(mod.algo)\n",
    "  mod.varimp_plot()    "
   ]
  },
  {
   "cell_type": "code",
   "execution_count": 263,
   "metadata": {},
   "outputs": [
    {
     "name": "stdout",
     "output_type": "stream",
     "text": [
      "[('garagetotalsqft', 2526.961181640625, 1.0, 0.11224990912048484), ('regionidneighborhood', 2461.303466796875, 0.9740171256603468, 0.10933333383716978), ('transactiondate', 1604.8946533203125, 0.635108550531171, 0.0712908770787668), ('finishedsquarefeet12', 1162.1513671875, 0.4599007597073475, 0.05162381848159169), ('structuretaxvaluedollarcnt', 1106.5487060546875, 0.43789699426101303, 0.049153897809932186), ('yearbuilt', 1070.215087890625, 0.42351861028422677, 0.04753992551523849), ('calculatedfinishedsquarefeet', 1022.011962890625, 0.4044430798209118, 0.04539869895430635), ('taxamount', 849.593994140625, 0.3362117314319121, 0.037739736298472985), ('taxvaluedollarcnt', 796.4660034179688, 0.31518727284162895, 0.03537974273240631), ('landtaxvaluedollarcnt', 786.174560546875, 0.3111146171372734, 0.03492258749971337), ('latitude', 670.5223999023438, 0.2653473289474943, 0.029785213559719626), ('lotsizesquarefeet', 600.8272094726562, 0.23776669536433886, 0.02668928994652504), ('propertyzoningdesc', 548.6195068359375, 0.2171064244365429, 0.02437017641247535), ('bedroomcnt', 534.0047607421875, 0.21132289827874834, 0.023720976126866963), ('finishedsquarefeet15', 515.5449829101562, 0.20401776911168837, 0.022900976041751078), ('longitude', 506.2004089355469, 0.2003198199534261, 0.022485881584803965), ('yardbuildingsqft17', 506.0462341308594, 0.20025880801315268, 0.02247903300005301), ('finishedsquarefeet6', 420.2239685058594, 0.166296170894493, 0.018666730069991457), ('fullbathcnt', 388.5401306152344, 0.15375785486462257, 0.01725930523511458), ('calculatedbathnbr', 358.6844177246094, 0.1419429868296331, 0.015933087371916493), ('regionidcity', 333.21771240234375, 0.1318649905757566, 0.014801833208302266), ('buildingqualitytypeid', 325.6979064941406, 0.12888916096553643, 0.014467796604997004), ('bathroomcnt', 287.49676513671875, 0.11377173785869635, 0.01277086723511829), ('finishedsquarefeet50', 255.63473510742188, 0.1011629054552597, 0.0113555269437171), ('parcelid', 226.5991973876953, 0.08967260717498485, 0.010065742005988986), ('propertycountylandusecode', 222.8397216796875, 0.08818486144492699, 0.009898742682995601), ('regionidzip', 199.26290893554688, 0.07885475660776704, 0.008851439262939801), ('taxdelinquencyyear', 196.97286987304688, 0.07794851432785468, 0.0087497136493785), ('airconditioningtypeid', 182.47499084472656, 0.07221123623523769, 0.008105704704883292), ('heatingorsystemtypeid', 179.9956512451172, 0.07123008163040136, 0.007995570189657268), ('finishedfloor1squarefeet', 172.60690307617188, 0.06830611579245043, 0.007667355290075874), ('censustractandblock', 163.75054931640625, 0.06480137111172064, 0.007273948018173453), ('propertylandusetypeid', 144.98887634277344, 0.05737677230508134, 0.006440537476872132), ('roomcnt', 139.62611389160156, 0.05525455432637456, 0.006202318701628437), ('numberofstories', 137.03761291503906, 0.054230201045695384, 0.006087335138964928), ('fireplacecnt', 107.86286926269531, 0.04268481449036963, 0.004791366547368745), ('unitcnt', 105.03302001953125, 0.04156495192036894, 0.004665662075658735), ('poolcnt', 102.13200378417969, 0.04041692627738376, 0.004536796301565662), ('pooltypeid7', 101.3302230834961, 0.0400996358075068, 0.004501180475157178), ('rawcensustractandblock', 85.89301300048828, 0.033990634135789295, 0.003815445592689998), ('threequarterbathnbr', 77.02796173095703, 0.030482447570067843, 0.003421651969510059), ('garagecarcnt', 66.98079681396484, 0.02650646052682047, 0.0029753477852413166), ('pooltypeid10', 62.27217102050781, 0.024643105510658347, 0.0027661863540179186), ('hashottuborspa', 59.637142181396484, 0.02360033965487241, 0.0026491359814720026), ('taxdelinquencyflag', 39.15337371826172, 0.015494252148678224, 0.0017392283955790077), ('poolsizesum', 32.467689514160156, 0.012848511385948782, 0.0014422442354062653), ('buildingclasstypeid', 21.261308670043945, 0.008413785231255543, 0.0009444466275677121), ('pooltypeid2', 12.041105270385742, 0.004765053518775495, 0.0005348768244367957), ('yardbuildingsqft26', 8.645916938781738, 0.0034214680469164915, 0.0003840594773250189), ('basementsqft', 5.456946849822998, 0.002159489781429917, 0.00024240253171212383), ('fips', 4.878175735473633, 0.0019304513939175298, 0.000216692993528756), ('regionidcounty', 3.8571054935455322, 0.001526380983439292, 0.00017133612667429677), ('decktypeid', 3.725581645965576, 0.0014743327570812738, 0.00016549371799572682), ('storytypeid', 3.1972599029541016, 0.0012652588121192612, 0.00014202518667427965), ('finishedsquarefeet13', 2.9090325832366943, 0.0011511979702624518, 0.0001292218675416468), ('architecturalstyletypeid', 2.0236542224884033, 0.0008008252114005762, 8.989255720110774e-05), ('fireplaceflag', 0.27223485708236694, 0.0001077321088508447, 1.2092919427865498e-05), ('typeconstructiontypeid', 0.1257440596818924, 4.976097796652867e-05, 5.585665254489291e-06)]\n"
     ]
    }
   ],
   "source": [
    "if mod is not None:\n",
    "  print(mod.varimp())"
   ]
  },
  {
   "cell_type": "code",
   "execution_count": 264,
   "metadata": {
    "collapsed": true
   },
   "outputs": [],
   "source": [
    "varimp={}\n",
    "if mod is not None:\n",
    "  l=mod.varimp()\n",
    "  for v in l:\n",
    "    varimp[v[0]]=v[2]    "
   ]
  },
  {
   "cell_type": "code",
   "execution_count": 265,
   "metadata": {},
   "outputs": [
    {
     "data": {
      "text/plain": [
       "{'airconditioningtypeid': 0.07221123623523769,\n",
       " 'architecturalstyletypeid': 0.0008008252114005762,\n",
       " 'basementsqft': 0.002159489781429917,\n",
       " 'bathroomcnt': 0.11377173785869635,\n",
       " 'bedroomcnt': 0.21132289827874834,\n",
       " 'buildingclasstypeid': 0.008413785231255543,\n",
       " 'buildingqualitytypeid': 0.12888916096553643,\n",
       " 'calculatedbathnbr': 0.1419429868296331,\n",
       " 'calculatedfinishedsquarefeet': 0.4044430798209118,\n",
       " 'censustractandblock': 0.06480137111172064,\n",
       " 'decktypeid': 0.0014743327570812738,\n",
       " 'finishedfloor1squarefeet': 0.06830611579245043,\n",
       " 'finishedsquarefeet12': 0.4599007597073475,\n",
       " 'finishedsquarefeet13': 0.0011511979702624518,\n",
       " 'finishedsquarefeet15': 0.20401776911168837,\n",
       " 'finishedsquarefeet50': 0.1011629054552597,\n",
       " 'finishedsquarefeet6': 0.166296170894493,\n",
       " 'fips': 0.0019304513939175298,\n",
       " 'fireplacecnt': 0.04268481449036963,\n",
       " 'fireplaceflag': 0.0001077321088508447,\n",
       " 'fullbathcnt': 0.15375785486462257,\n",
       " 'garagecarcnt': 0.02650646052682047,\n",
       " 'garagetotalsqft': 1.0,\n",
       " 'hashottuborspa': 0.02360033965487241,\n",
       " 'heatingorsystemtypeid': 0.07123008163040136,\n",
       " 'landtaxvaluedollarcnt': 0.3111146171372734,\n",
       " 'latitude': 0.2653473289474943,\n",
       " 'longitude': 0.2003198199534261,\n",
       " 'lotsizesquarefeet': 0.23776669536433886,\n",
       " 'numberofstories': 0.054230201045695384,\n",
       " 'parcelid': 0.08967260717498485,\n",
       " 'poolcnt': 0.04041692627738376,\n",
       " 'poolsizesum': 0.012848511385948782,\n",
       " 'pooltypeid10': 0.024643105510658347,\n",
       " 'pooltypeid2': 0.004765053518775495,\n",
       " 'pooltypeid7': 0.0400996358075068,\n",
       " 'propertycountylandusecode': 0.08818486144492699,\n",
       " 'propertylandusetypeid': 0.05737677230508134,\n",
       " 'propertyzoningdesc': 0.2171064244365429,\n",
       " 'rawcensustractandblock': 0.033990634135789295,\n",
       " 'regionidcity': 0.1318649905757566,\n",
       " 'regionidcounty': 0.001526380983439292,\n",
       " 'regionidneighborhood': 0.9740171256603468,\n",
       " 'regionidzip': 0.07885475660776704,\n",
       " 'roomcnt': 0.05525455432637456,\n",
       " 'storytypeid': 0.0012652588121192612,\n",
       " 'structuretaxvaluedollarcnt': 0.43789699426101303,\n",
       " 'taxamount': 0.3362117314319121,\n",
       " 'taxdelinquencyflag': 0.015494252148678224,\n",
       " 'taxdelinquencyyear': 0.07794851432785468,\n",
       " 'taxvaluedollarcnt': 0.31518727284162895,\n",
       " 'threequarterbathnbr': 0.030482447570067843,\n",
       " 'transactiondate': 0.635108550531171,\n",
       " 'typeconstructiontypeid': 4.976097796652867e-05,\n",
       " 'unitcnt': 0.04156495192036894,\n",
       " 'yardbuildingsqft17': 0.20025880801315268,\n",
       " 'yardbuildingsqft26': 0.0034214680469164915,\n",
       " 'yearbuilt': 0.42351861028422677}"
      ]
     },
     "execution_count": 265,
     "metadata": {},
     "output_type": "execute_result"
    }
   ],
   "source": [
    "varimp"
   ]
  },
  {
   "cell_type": "code",
   "execution_count": 266,
   "metadata": {},
   "outputs": [
    {
     "data": {
      "text/plain": [
       "['__class__',\n",
       " '__delattr__',\n",
       " '__dict__',\n",
       " '__dir__',\n",
       " '__doc__',\n",
       " '__eq__',\n",
       " '__format__',\n",
       " '__ge__',\n",
       " '__getattr__',\n",
       " '__getattribute__',\n",
       " '__gt__',\n",
       " '__hash__',\n",
       " '__init__',\n",
       " '__init_subclass__',\n",
       " '__le__',\n",
       " '__lt__',\n",
       " '__module__',\n",
       " '__ne__',\n",
       " '__new__',\n",
       " '__reduce__',\n",
       " '__reduce_ex__',\n",
       " '__repr__',\n",
       " '__setattr__',\n",
       " '__sizeof__',\n",
       " '__str__',\n",
       " '__subclasshook__',\n",
       " '__weakref__',\n",
       " '_bc',\n",
       " '_bcin',\n",
       " '_check_and_save_parm',\n",
       " '_check_targets',\n",
       " '_compute_algo',\n",
       " '_end_time',\n",
       " '_estimator_type',\n",
       " '_future',\n",
       " '_get_metrics',\n",
       " '_have_mojo',\n",
       " '_have_pojo',\n",
       " '_id',\n",
       " '_is_xvalidated',\n",
       " '_job',\n",
       " '_keyify_if_h2oframe',\n",
       " '_make_model',\n",
       " '_metrics_class',\n",
       " '_model_json',\n",
       " '_parms',\n",
       " '_plot',\n",
       " '_requires_training_frame',\n",
       " '_resolve_model',\n",
       " '_run_time',\n",
       " '_start_time',\n",
       " '_verify_training_frame_params',\n",
       " '_xval_keys',\n",
       " 'actual_params',\n",
       " 'aic',\n",
       " 'algo',\n",
       " 'auc',\n",
       " 'balance_classes',\n",
       " 'biases',\n",
       " 'binomial_double_trees',\n",
       " 'build_tree_one_node',\n",
       " 'calibrate_model',\n",
       " 'calibration_frame',\n",
       " 'categorical_encoding',\n",
       " 'catoffsets',\n",
       " 'checkpoint',\n",
       " 'class_sampling_factors',\n",
       " 'coef',\n",
       " 'coef_norm',\n",
       " 'col_sample_rate_change_per_level',\n",
       " 'col_sample_rate_per_tree',\n",
       " 'convert_H2OXGBoostParams_2_XGBoostParams',\n",
       " 'cross_validation_fold_assignment',\n",
       " 'cross_validation_holdout_predictions',\n",
       " 'cross_validation_metrics_summary',\n",
       " 'cross_validation_models',\n",
       " 'cross_validation_predictions',\n",
       " 'custom_metric_func',\n",
       " 'deepfeatures',\n",
       " 'default_params',\n",
       " 'distribution',\n",
       " 'download_mojo',\n",
       " 'download_pojo',\n",
       " 'end_time',\n",
       " 'export_checkpoints_dir',\n",
       " 'fit',\n",
       " 'fold_assignment',\n",
       " 'fold_column',\n",
       " 'full_parameters',\n",
       " 'get_params',\n",
       " 'get_xval_models',\n",
       " 'gini',\n",
       " 'have_mojo',\n",
       " 'have_pojo',\n",
       " 'histogram_type',\n",
       " 'ignore_const_cols',\n",
       " 'ignored_columns',\n",
       " 'is_cross_validated',\n",
       " 'join',\n",
       " 'keep_cross_validation_fold_assignment',\n",
       " 'keep_cross_validation_models',\n",
       " 'keep_cross_validation_predictions',\n",
       " 'logloss',\n",
       " 'mae',\n",
       " 'max_after_balance_size',\n",
       " 'max_confusion_matrix_size',\n",
       " 'max_depth',\n",
       " 'max_hit_ratio_k',\n",
       " 'max_runtime_secs',\n",
       " 'mean_residual_deviance',\n",
       " 'min_rows',\n",
       " 'min_split_improvement',\n",
       " 'mixin',\n",
       " 'model_id',\n",
       " 'model_performance',\n",
       " 'mse',\n",
       " 'mtries',\n",
       " 'nbins',\n",
       " 'nbins_cats',\n",
       " 'nbins_top_level',\n",
       " 'nfolds',\n",
       " 'normmul',\n",
       " 'normsub',\n",
       " 'ntrees',\n",
       " 'null_degrees_of_freedom',\n",
       " 'null_deviance',\n",
       " 'offset_column',\n",
       " 'params',\n",
       " 'parms',\n",
       " 'partial_plot',\n",
       " 'plot',\n",
       " 'pprint_coef',\n",
       " 'predict',\n",
       " 'predict_leaf_node_assignment',\n",
       " 'r2',\n",
       " 'r2_stopping',\n",
       " 'residual_degrees_of_freedom',\n",
       " 'residual_deviance',\n",
       " 'respmul',\n",
       " 'response_column',\n",
       " 'respsub',\n",
       " 'rmse',\n",
       " 'rmsle',\n",
       " 'rotation',\n",
       " 'run_time',\n",
       " 'sample_rate',\n",
       " 'sample_rate_per_class',\n",
       " 'save_model_details',\n",
       " 'save_mojo',\n",
       " 'score_each_iteration',\n",
       " 'score_history',\n",
       " 'score_tree_interval',\n",
       " 'scoring_history',\n",
       " 'seed',\n",
       " 'set_params',\n",
       " 'show',\n",
       " 'staged_predict_proba',\n",
       " 'start',\n",
       " 'start_time',\n",
       " 'std_coef_plot',\n",
       " 'stopping_metric',\n",
       " 'stopping_rounds',\n",
       " 'stopping_tolerance',\n",
       " 'summary',\n",
       " 'train',\n",
       " 'training_frame',\n",
       " 'type',\n",
       " 'validation_frame',\n",
       " 'varimp',\n",
       " 'varimp_plot',\n",
       " 'weights',\n",
       " 'weights_column',\n",
       " 'xval_keys',\n",
       " 'xvals']"
      ]
     },
     "execution_count": 266,
     "metadata": {},
     "output_type": "execute_result"
    }
   ],
   "source": [
    "dir(mod)\n"
   ]
  },
  {
   "cell_type": "code",
   "execution_count": 267,
   "metadata": {},
   "outputs": [
    {
     "name": "stdout",
     "output_type": "stream",
     "text": [
      "XRT_1_AutoML_20190218_225558\n",
      "drf\n"
     ]
    },
    {
     "data": {
      "image/png": "[encoded data removed]",
      "text/plain": [
       "<Figure size 1008x720 with 1 Axes>"
      ]
     },
     "metadata": {},
     "output_type": "display_data"
    }
   ],
   "source": [
    "mod,mod_id=get_model_by_algo(\"XRT\",models_dict)\n",
    "if mod is not None:\n",
    "  print(mod_id)\n",
    "  print(mod.algo)\n",
    "  mod.varimp_plot()"
   ]
  },
  {
   "cell_type": "code",
   "execution_count": 268,
   "metadata": {
    "collapsed": true
   },
   "outputs": [],
   "source": [
    "penalty=0.9\n",
    "if mod is not None:\n",
    "  l=mod.varimp()\n",
    "  for v in l:\n",
    "    if v[0] in varimp:   \n",
    "      varimp[v[0]]=((v[2]+varimp[v[0]])/2)\n",
    "    else:   \n",
    "      varimp[v[0]]=(v[2]*penalty)    "
   ]
  },
  {
   "cell_type": "code",
   "execution_count": 269,
   "metadata": {},
   "outputs": [
    {
     "data": {
      "text/plain": [
       "{'airconditioningtypeid': 0.05141151458706515,\n",
       " 'architecturalstyletypeid': 0.00046464485054704795,\n",
       " 'basementsqft': 0.0026241165742099384,\n",
       " 'bathroomcnt': 0.07274506024705465,\n",
       " 'bedroomcnt': 0.1305713849157399,\n",
       " 'buildingclasstypeid': 0.006877635985929468,\n",
       " 'buildingqualitytypeid': 0.09369778554278294,\n",
       " 'calculatedbathnbr': 0.10344769456216321,\n",
       " 'calculatedfinishedsquarefeet': 0.26966102743002024,\n",
       " 'censustractandblock': 0.046362481746277634,\n",
       " 'decktypeid': 0.0014537852687852197,\n",
       " 'finishedfloor1squarefeet': 0.0432001399990304,\n",
       " 'finishedsquarefeet12': 0.32364493082011925,\n",
       " 'finishedsquarefeet13': 0.0011657648706583884,\n",
       " 'finishedsquarefeet15': 0.17175445575841458,\n",
       " 'finishedsquarefeet50': 0.0557225633175046,\n",
       " 'finishedsquarefeet6': 0.16273612228501427,\n",
       " 'fips': 0.0016128368320534946,\n",
       " 'fireplacecnt': 0.025245995937445663,\n",
       " 'fireplaceflag': 5.386605442542235e-05,\n",
       " 'fullbathcnt': 0.10107202745603537,\n",
       " 'garagecarcnt': 0.02224045959906754,\n",
       " 'garagetotalsqft': 0.9902905056682907,\n",
       " 'hashottuborspa': 0.012499321729563103,\n",
       " 'heatingorsystemtypeid': 0.04593034487892414,\n",
       " 'landtaxvaluedollarcnt': 0.20279495769219022,\n",
       " 'latitude': 0.18441766089466144,\n",
       " 'longitude': 0.13268424673592238,\n",
       " 'lotsizesquarefeet': 0.16188013549689995,\n",
       " 'numberofstories': 0.03088412946904459,\n",
       " 'parcelid': 0.06432871749936166,\n",
       " 'poolcnt': 0.0266956074228928,\n",
       " 'poolsizesum': 0.00966054452009323,\n",
       " 'pooltypeid10': 0.01362965199477346,\n",
       " 'pooltypeid2': 0.004476573429655846,\n",
       " 'pooltypeid7': 0.024786374592781994,\n",
       " 'propertycountylandusecode': 0.06418781053667699,\n",
       " 'propertylandusetypeid': 0.03834249354578528,\n",
       " 'propertyzoningdesc': 0.15719310144163473,\n",
       " 'rawcensustractandblock': 0.022598411049201995,\n",
       " 'regionidcity': 0.08415399456993361,\n",
       " 'regionidcounty': 0.002324774589144559,\n",
       " 'regionidneighborhood': 0.9870085628301735,\n",
       " 'regionidzip': 0.05793938726845756,\n",
       " 'roomcnt': 0.03480895063664661,\n",
       " 'storytypeid': 0.0014836981999175806,\n",
       " 'structuretaxvaluedollarcnt': 0.2889385649268037,\n",
       " 'taxamount': 0.23003854992185543,\n",
       " 'taxdelinquencyflag': 0.010622652151466884,\n",
       " 'taxdelinquencyyear': 0.05521735921483659,\n",
       " 'taxvaluedollarcnt': 0.21364325368424297,\n",
       " 'threequarterbathnbr': 0.018701586193554682,\n",
       " 'transactiondate': 0.4242807867127589,\n",
       " 'typeconstructiontypeid': 2.508533428055789e-05,\n",
       " 'unitcnt': 0.025710255105587436,\n",
       " 'yardbuildingsqft17': 0.20059102015886654,\n",
       " 'yardbuildingsqft26': 0.003119325541484739,\n",
       " 'yearbuilt': 0.27342751695205253}"
      ]
     },
     "execution_count": 269,
     "metadata": {},
     "output_type": "execute_result"
    }
   ],
   "source": [
    "varimp"
   ]
  },
  {
   "cell_type": "markdown",
   "metadata": {},
   "source": [
    "#### Properties Set Missing Values:\n",
    "first, we need to check the missing values of each colunm. Some data will not be used to predict the price if too many missing values included."
   ]
  },
  {
   "cell_type": "code",
   "execution_count": 270,
   "metadata": {},
   "outputs": [
    {
     "data": {
      "image/png": "[encoded data removed]",
      "text/plain": [
       "<Figure size 864x1296 with 1 Axes>"
      ]
     },
     "metadata": {},
     "output_type": "display_data"
    }
   ],
   "source": [
    "# define the properties missing value variable\n",
    "properties_missing_df = properties_2016.isnull().sum(axis=0).reset_index()\n",
    "properties_missing_df.columns = ['column_name', 'missing_count']\n",
    "properties_missing_df = properties_missing_df.ix[properties_missing_df['missing_count']>=0]\n",
    "properties_missing_df = properties_missing_df.sort_values(by='missing_count')\n",
    "\n",
    "# set the size and shape of the grapgh\n",
    "ind = np.arange(properties_missing_df.shape[0])\n",
    "width = 0.9\n",
    "fig, ax = plt.subplots(figsize=(12,18))\n",
    "rects = ax.barh(ind, properties_missing_df.missing_count.values, color='blue')\n",
    "ax.set_yticks(ind)\n",
    "ax.set_yticklabels(properties_missing_df.column_name.values, rotation='horizontal')\n",
    "ax.set_xlabel(\"Count of missing values\")\n",
    "ax.set_title(\"Number of missing values in each column\")\n",
    "\n",
    "# show the graph\n",
    "plt.show()"
   ]
  },
  {
   "cell_type": "code",
   "execution_count": 271,
   "metadata": {},
   "outputs": [
    {
     "data": {
      "text/html": [
       "<div>\n",
       "<style>\n",
       "    .dataframe thead tr:only-child th {\n",
       "        text-align: right;\n",
       "    }\n",
       "\n",
       "    .dataframe thead th {\n",
       "        text-align: left;\n",
       "    }\n",
       "\n",
       "    .dataframe tbody tr th {\n",
       "        vertical-align: top;\n",
       "    }\n",
       "</style>\n",
       "<table border=\"1\" class=\"dataframe\">\n",
       "  <thead>\n",
       "    <tr style=\"text-align: right;\">\n",
       "      <th></th>\n",
       "      <th>column_name</th>\n",
       "      <th>missing_count</th>\n",
       "    </tr>\n",
       "  </thead>\n",
       "  <tbody>\n",
       "    <tr>\n",
       "      <th>0</th>\n",
       "      <td>parcelid</td>\n",
       "      <td>0</td>\n",
       "    </tr>\n",
       "    <tr>\n",
       "      <th>17</th>\n",
       "      <td>fips</td>\n",
       "      <td>11437</td>\n",
       "    </tr>\n",
       "    <tr>\n",
       "      <th>33</th>\n",
       "      <td>propertylandusetypeid</td>\n",
       "      <td>11437</td>\n",
       "    </tr>\n",
       "    <tr>\n",
       "      <th>35</th>\n",
       "      <td>rawcensustractandblock</td>\n",
       "      <td>11437</td>\n",
       "    </tr>\n",
       "    <tr>\n",
       "      <th>37</th>\n",
       "      <td>regionidcounty</td>\n",
       "      <td>11437</td>\n",
       "    </tr>\n",
       "  </tbody>\n",
       "</table>\n",
       "</div>"
      ],
      "text/plain": [
       "               column_name  missing_count\n",
       "0                 parcelid              0\n",
       "17                    fips          11437\n",
       "33   propertylandusetypeid          11437\n",
       "35  rawcensustractandblock          11437\n",
       "37          regionidcounty          11437"
      ]
     },
     "execution_count": 271,
     "metadata": {},
     "output_type": "execute_result"
    }
   ],
   "source": [
    "properties_missing_df.head()"
   ]
  },
  {
   "cell_type": "markdown",
   "metadata": {},
   "source": [
    "### Missing and uniques in H2O\n",
    "\n",
    "Let's calculate total counts, missing, uniques using H2O rather than Pandas.\n",
    "\n"
   ]
  },
  {
   "cell_type": "code",
   "execution_count": 272,
   "metadata": {
    "collapsed": true
   },
   "outputs": [],
   "source": [
    "def get_variable_names(df):\n",
    "    d={}\n",
    "    n={} \n",
    "    e={}    \n",
    "    for key, val in df.types.items():\n",
    "      if val in ['real','int','enum']:\n",
    "         d[key]=val\n",
    "      if val in ['real','int']:\n",
    "         n[key]=val            \n",
    "      if val in ['enum']:\n",
    "         e[key]=val            \n",
    "    return  d,n, e"
   ]
  },
  {
   "cell_type": "code",
   "execution_count": 273,
   "metadata": {},
   "outputs": [
    {
     "name": "stdout",
     "output_type": "stream",
     "text": [
      "nan\n"
     ]
    }
   ],
   "source": [
    "nvalue = float('NaN')\n",
    "print(nvalue)"
   ]
  },
  {
   "cell_type": "code",
   "execution_count": 274,
   "metadata": {
    "scrolled": true
   },
   "outputs": [
    {
     "name": "stdout",
     "output_type": "stream",
     "text": [
      "{'parcelid': 'int', 'airconditioningtypeid': 'enum', 'architecturalstyletypeid': 'enum', 'basementsqft': 'enum', 'bathroomcnt': 'real', 'bedroomcnt': 'int', 'buildingclasstypeid': 'enum', 'buildingqualitytypeid': 'int', 'calculatedbathnbr': 'real', 'decktypeid': 'enum', 'finishedfloor1squarefeet': 'enum', 'calculatedfinishedsquarefeet': 'int', 'finishedsquarefeet12': 'int', 'finishedsquarefeet13': 'enum', 'finishedsquarefeet15': 'enum', 'finishedsquarefeet50': 'enum', 'finishedsquarefeet6': 'enum', 'fips': 'int', 'fireplacecnt': 'enum', 'fullbathcnt': 'int', 'garagecarcnt': 'enum', 'garagetotalsqft': 'enum', 'hashottuborspa': 'enum', 'heatingorsystemtypeid': 'int', 'latitude': 'int', 'longitude': 'int', 'lotsizesquarefeet': 'real', 'poolcnt': 'enum', 'poolsizesum': 'enum', 'pooltypeid10': 'enum', 'pooltypeid2': 'enum', 'pooltypeid7': 'enum', 'propertycountylandusecode': 'int', 'propertylandusetypeid': 'int', 'propertyzoningdesc': 'enum', 'rawcensustractandblock': 'real', 'regionidcity': 'int', 'regionidcounty': 'int', 'regionidneighborhood': 'enum', 'regionidzip': 'int', 'roomcnt': 'int', 'storytypeid': 'enum', 'threequarterbathnbr': 'enum', 'typeconstructiontypeid': 'enum', 'unitcnt': 'int', 'yardbuildingsqft17': 'enum', 'yardbuildingsqft26': 'enum', 'yearbuilt': 'int', 'numberofstories': 'enum', 'fireplaceflag': 'enum', 'structuretaxvaluedollarcnt': 'int', 'taxvaluedollarcnt': 'int', 'assessmentyear': 'int', 'landtaxvaluedollarcnt': 'int', 'taxamount': 'real', 'taxdelinquencyflag': 'enum', 'taxdelinquencyyear': 'enum', 'censustractandblock': 'int', 'logerror': 'real'}\n"
     ]
    }
   ],
   "source": [
    "hf_counts={}\n",
    "v,ir,e=get_variable_names(hf)\n",
    "print(v)"
   ]
  },
  {
   "cell_type": "code",
   "execution_count": 275,
   "metadata": {},
   "outputs": [
    {
     "data": {
      "text/plain": [
       "['parcelid',\n",
       " 'bathroomcnt',\n",
       " 'bedroomcnt',\n",
       " 'buildingqualitytypeid',\n",
       " 'calculatedbathnbr',\n",
       " 'calculatedfinishedsquarefeet',\n",
       " 'finishedsquarefeet12',\n",
       " 'fips',\n",
       " 'fullbathcnt',\n",
       " 'heatingorsystemtypeid',\n",
       " 'latitude',\n",
       " 'longitude',\n",
       " 'lotsizesquarefeet',\n",
       " 'propertycountylandusecode',\n",
       " 'propertylandusetypeid',\n",
       " 'rawcensustractandblock',\n",
       " 'regionidcity',\n",
       " 'regionidcounty',\n",
       " 'regionidzip',\n",
       " 'roomcnt',\n",
       " 'unitcnt',\n",
       " 'yearbuilt',\n",
       " 'structuretaxvaluedollarcnt',\n",
       " 'taxvaluedollarcnt',\n",
       " 'assessmentyear',\n",
       " 'landtaxvaluedollarcnt',\n",
       " 'taxamount',\n",
       " 'censustractandblock',\n",
       " 'logerror']"
      ]
     },
     "execution_count": 275,
     "metadata": {},
     "output_type": "execute_result"
    }
   ],
   "source": [
    "num_fields=list(ir.keys())\n",
    "num_fields"
   ]
  },
  {
   "cell_type": "code",
   "execution_count": 276,
   "metadata": {
    "collapsed": true
   },
   "outputs": [],
   "source": [
    "hf_num_fields=hf[:,num_fields]"
   ]
  },
  {
   "cell_type": "code",
   "execution_count": 277,
   "metadata": {},
   "outputs": [
    {
     "data": {
      "text/html": [
       "<table>\n",
       "<thead>\n",
       "<tr><th style=\"text-align: right;\">   parcelid</th><th style=\"text-align: right;\">  bathroomcnt</th><th style=\"text-align: right;\">  bedroomcnt</th><th style=\"text-align: right;\">  buildingqualitytypeid</th><th style=\"text-align: right;\">  calculatedbathnbr</th><th style=\"text-align: right;\">  calculatedfinishedsquarefeet</th><th style=\"text-align: right;\">  finishedsquarefeet12</th><th style=\"text-align: right;\">  fips</th><th style=\"text-align: right;\">  fullbathcnt</th><th style=\"text-align: right;\">  heatingorsystemtypeid</th><th style=\"text-align: right;\">   latitude</th><th style=\"text-align: right;\">   longitude</th><th style=\"text-align: right;\">  lotsizesquarefeet</th><th style=\"text-align: right;\">  propertycountylandusecode</th><th style=\"text-align: right;\">  propertylandusetypeid</th><th style=\"text-align: right;\">  rawcensustractandblock</th><th style=\"text-align: right;\">  regionidcity</th><th style=\"text-align: right;\">  regionidcounty</th><th style=\"text-align: right;\">  regionidzip</th><th style=\"text-align: right;\">  roomcnt</th><th style=\"text-align: right;\">  unitcnt</th><th style=\"text-align: right;\">  yearbuilt</th><th style=\"text-align: right;\">  structuretaxvaluedollarcnt</th><th style=\"text-align: right;\">  taxvaluedollarcnt</th><th style=\"text-align: right;\">  assessmentyear</th><th style=\"text-align: right;\">  landtaxvaluedollarcnt</th><th style=\"text-align: right;\">  taxamount</th><th style=\"text-align: right;\">  censustractandblock</th><th style=\"text-align: right;\">  logerror</th></tr>\n",
       "</thead>\n",
       "<tbody>\n",
       "<tr><td style=\"text-align: right;\">1.70738e+07</td><td style=\"text-align: right;\">          2.5</td><td style=\"text-align: right;\">           3</td><td style=\"text-align: right;\">                    nan</td><td style=\"text-align: right;\">                2.5</td><td style=\"text-align: right;\">                          1264</td><td style=\"text-align: right;\">                  1264</td><td style=\"text-align: right;\">  6111</td><td style=\"text-align: right;\">            2</td><td style=\"text-align: right;\">                    nan</td><td style=\"text-align: right;\">3.43036e+07</td><td style=\"text-align: right;\">-1.19287e+08</td><td style=\"text-align: right;\">               1735</td><td style=\"text-align: right;\">                       1128</td><td style=\"text-align: right;\">                    265</td><td style=\"text-align: right;\">             6.111e+07  </td><td style=\"text-align: right;\">         34543</td><td style=\"text-align: right;\">            2061</td><td style=\"text-align: right;\">        97081</td><td style=\"text-align: right;\">        5</td><td style=\"text-align: right;\">      nan</td><td style=\"text-align: right;\">       1986</td><td style=\"text-align: right;\">                      115087</td><td style=\"text-align: right;\">             191811</td><td style=\"text-align: right;\">            2015</td><td style=\"text-align: right;\">                  76724</td><td style=\"text-align: right;\">    2015.06</td><td style=\"text-align: right;\">          6.111e+13  </td><td style=\"text-align: right;\">    0.0953</td></tr>\n",
       "<tr><td style=\"text-align: right;\">1.7089e+07 </td><td style=\"text-align: right;\">          1  </td><td style=\"text-align: right;\">           2</td><td style=\"text-align: right;\">                    nan</td><td style=\"text-align: right;\">                1  </td><td style=\"text-align: right;\">                           777</td><td style=\"text-align: right;\">                   777</td><td style=\"text-align: right;\">  6111</td><td style=\"text-align: right;\">            1</td><td style=\"text-align: right;\">                    nan</td><td style=\"text-align: right;\">3.42729e+07</td><td style=\"text-align: right;\">-1.19199e+08</td><td style=\"text-align: right;\">                nan</td><td style=\"text-align: right;\">                       1129</td><td style=\"text-align: right;\">                    266</td><td style=\"text-align: right;\">             6.111e+07  </td><td style=\"text-align: right;\">         34543</td><td style=\"text-align: right;\">            2061</td><td style=\"text-align: right;\">        97083</td><td style=\"text-align: right;\">        4</td><td style=\"text-align: right;\">      nan</td><td style=\"text-align: right;\">       1990</td><td style=\"text-align: right;\">                      143809</td><td style=\"text-align: right;\">             239679</td><td style=\"text-align: right;\">            2015</td><td style=\"text-align: right;\">                  95870</td><td style=\"text-align: right;\">    2581.3 </td><td style=\"text-align: right;\">          6.111e+13  </td><td style=\"text-align: right;\">    0.0198</td></tr>\n",
       "<tr><td style=\"text-align: right;\">1.71004e+07</td><td style=\"text-align: right;\">          2  </td><td style=\"text-align: right;\">           3</td><td style=\"text-align: right;\">                    nan</td><td style=\"text-align: right;\">                2  </td><td style=\"text-align: right;\">                          1101</td><td style=\"text-align: right;\">                  1101</td><td style=\"text-align: right;\">  6111</td><td style=\"text-align: right;\">            2</td><td style=\"text-align: right;\">                    nan</td><td style=\"text-align: right;\">3.43408e+07</td><td style=\"text-align: right;\">-1.1908e+08 </td><td style=\"text-align: right;\">               6569</td><td style=\"text-align: right;\">                       1111</td><td style=\"text-align: right;\">                    261</td><td style=\"text-align: right;\">             6.111e+07  </td><td style=\"text-align: right;\">         26965</td><td style=\"text-align: right;\">            2061</td><td style=\"text-align: right;\">        97113</td><td style=\"text-align: right;\">        5</td><td style=\"text-align: right;\">      nan</td><td style=\"text-align: right;\">       1956</td><td style=\"text-align: right;\">                       33619</td><td style=\"text-align: right;\">              47853</td><td style=\"text-align: right;\">            2015</td><td style=\"text-align: right;\">                  14234</td><td style=\"text-align: right;\">     591.64</td><td style=\"text-align: right;\">          6.111e+13  </td><td style=\"text-align: right;\">    0.006 </td></tr>\n",
       "<tr><td style=\"text-align: right;\">1.71024e+07</td><td style=\"text-align: right;\">          1.5</td><td style=\"text-align: right;\">           2</td><td style=\"text-align: right;\">                    nan</td><td style=\"text-align: right;\">                1.5</td><td style=\"text-align: right;\">                          1554</td><td style=\"text-align: right;\">                  1554</td><td style=\"text-align: right;\">  6111</td><td style=\"text-align: right;\">            1</td><td style=\"text-align: right;\">                    nan</td><td style=\"text-align: right;\">3.43543e+07</td><td style=\"text-align: right;\">-1.19076e+08</td><td style=\"text-align: right;\">               7400</td><td style=\"text-align: right;\">                       1110</td><td style=\"text-align: right;\">                    261</td><td style=\"text-align: right;\">             6.111e+07  </td><td style=\"text-align: right;\">         26965</td><td style=\"text-align: right;\">            2061</td><td style=\"text-align: right;\">        97113</td><td style=\"text-align: right;\">        5</td><td style=\"text-align: right;\">      nan</td><td style=\"text-align: right;\">       1965</td><td style=\"text-align: right;\">                       45609</td><td style=\"text-align: right;\">              62914</td><td style=\"text-align: right;\">            2015</td><td style=\"text-align: right;\">                  17305</td><td style=\"text-align: right;\">     682.78</td><td style=\"text-align: right;\">          6.111e+13  </td><td style=\"text-align: right;\">   -0.0566</td></tr>\n",
       "<tr><td style=\"text-align: right;\">1.71096e+07</td><td style=\"text-align: right;\">          2.5</td><td style=\"text-align: right;\">           4</td><td style=\"text-align: right;\">                    nan</td><td style=\"text-align: right;\">                2.5</td><td style=\"text-align: right;\">                          2415</td><td style=\"text-align: right;\">                  2415</td><td style=\"text-align: right;\">  6111</td><td style=\"text-align: right;\">            2</td><td style=\"text-align: right;\">                    nan</td><td style=\"text-align: right;\">3.42666e+07</td><td style=\"text-align: right;\">-1.19165e+08</td><td style=\"text-align: right;\">               6326</td><td style=\"text-align: right;\">                       1111</td><td style=\"text-align: right;\">                    261</td><td style=\"text-align: right;\">             6.111e+07  </td><td style=\"text-align: right;\">         34543</td><td style=\"text-align: right;\">            2061</td><td style=\"text-align: right;\">        97084</td><td style=\"text-align: right;\">        8</td><td style=\"text-align: right;\">      nan</td><td style=\"text-align: right;\">       1984</td><td style=\"text-align: right;\">                      277000</td><td style=\"text-align: right;\">             554000</td><td style=\"text-align: right;\">            2015</td><td style=\"text-align: right;\">                 277000</td><td style=\"text-align: right;\">    5886.92</td><td style=\"text-align: right;\">          6.111e+13  </td><td style=\"text-align: right;\">    0.0573</td></tr>\n",
       "<tr><td style=\"text-align: right;\">1.71258e+07</td><td style=\"text-align: right;\">          2.5</td><td style=\"text-align: right;\">           4</td><td style=\"text-align: right;\">                    nan</td><td style=\"text-align: right;\">                2.5</td><td style=\"text-align: right;\">                          2882</td><td style=\"text-align: right;\">                  2882</td><td style=\"text-align: right;\">  6111</td><td style=\"text-align: right;\">            2</td><td style=\"text-align: right;\">                    nan</td><td style=\"text-align: right;\">3.424e+07  </td><td style=\"text-align: right;\">-1.19025e+08</td><td style=\"text-align: right;\">              10000</td><td style=\"text-align: right;\">                       1111</td><td style=\"text-align: right;\">                    261</td><td style=\"text-align: right;\">             6.11101e+07</td><td style=\"text-align: right;\">         51239</td><td style=\"text-align: right;\">            2061</td><td style=\"text-align: right;\">        97089</td><td style=\"text-align: right;\">        8</td><td style=\"text-align: right;\">      nan</td><td style=\"text-align: right;\">       1980</td><td style=\"text-align: right;\">                      222070</td><td style=\"text-align: right;\">             289609</td><td style=\"text-align: right;\">            2015</td><td style=\"text-align: right;\">                  67539</td><td style=\"text-align: right;\">    3110.44</td><td style=\"text-align: right;\">          6.11101e+13</td><td style=\"text-align: right;\">    0.0564</td></tr>\n",
       "<tr><td style=\"text-align: right;\">1.71329e+07</td><td style=\"text-align: right;\">          2  </td><td style=\"text-align: right;\">           3</td><td style=\"text-align: right;\">                    nan</td><td style=\"text-align: right;\">                2  </td><td style=\"text-align: right;\">                          1772</td><td style=\"text-align: right;\">                  1772</td><td style=\"text-align: right;\">  6111</td><td style=\"text-align: right;\">            2</td><td style=\"text-align: right;\">                    nan</td><td style=\"text-align: right;\">3.42268e+07</td><td style=\"text-align: right;\">-1.1906e+08 </td><td style=\"text-align: right;\">               8059</td><td style=\"text-align: right;\">                       1111</td><td style=\"text-align: right;\">                    261</td><td style=\"text-align: right;\">             6.11101e+07</td><td style=\"text-align: right;\">         51239</td><td style=\"text-align: right;\">            2061</td><td style=\"text-align: right;\">        97089</td><td style=\"text-align: right;\">        6</td><td style=\"text-align: right;\">      nan</td><td style=\"text-align: right;\">       1978</td><td style=\"text-align: right;\">                      185000</td><td style=\"text-align: right;\">             526000</td><td style=\"text-align: right;\">            2015</td><td style=\"text-align: right;\">                 341000</td><td style=\"text-align: right;\">    5632.2 </td><td style=\"text-align: right;\">          6.11101e+13</td><td style=\"text-align: right;\">    0.0315</td></tr>\n",
       "<tr><td style=\"text-align: right;\">1.71349e+07</td><td style=\"text-align: right;\">          2.5</td><td style=\"text-align: right;\">           5</td><td style=\"text-align: right;\">                    nan</td><td style=\"text-align: right;\">                2.5</td><td style=\"text-align: right;\">                          2632</td><td style=\"text-align: right;\">                  2632</td><td style=\"text-align: right;\">  6111</td><td style=\"text-align: right;\">            2</td><td style=\"text-align: right;\">                    nan</td><td style=\"text-align: right;\">3.42298e+07</td><td style=\"text-align: right;\">-1.1905e+08 </td><td style=\"text-align: right;\">               7602</td><td style=\"text-align: right;\">                       1111</td><td style=\"text-align: right;\">                    261</td><td style=\"text-align: right;\">             6.11101e+07</td><td style=\"text-align: right;\">         51239</td><td style=\"text-align: right;\">            2061</td><td style=\"text-align: right;\">        97089</td><td style=\"text-align: right;\">        8</td><td style=\"text-align: right;\">      nan</td><td style=\"text-align: right;\">       1971</td><td style=\"text-align: right;\">                      342611</td><td style=\"text-align: right;\">             571086</td><td style=\"text-align: right;\">            2015</td><td style=\"text-align: right;\">                 228475</td><td style=\"text-align: right;\">    6109.94</td><td style=\"text-align: right;\">          6.11101e+13</td><td style=\"text-align: right;\">    0.0257</td></tr>\n",
       "<tr><td style=\"text-align: right;\">1.714e+07  </td><td style=\"text-align: right;\">          2  </td><td style=\"text-align: right;\">           3</td><td style=\"text-align: right;\">                    nan</td><td style=\"text-align: right;\">                2  </td><td style=\"text-align: right;\">                          1292</td><td style=\"text-align: right;\">                  1292</td><td style=\"text-align: right;\">  6111</td><td style=\"text-align: right;\">            2</td><td style=\"text-align: right;\">                    nan</td><td style=\"text-align: right;\">3.42264e+07</td><td style=\"text-align: right;\">-1.18984e+08</td><td style=\"text-align: right;\">               7405</td><td style=\"text-align: right;\">                       1111</td><td style=\"text-align: right;\">                    261</td><td style=\"text-align: right;\">             6.11101e+07</td><td style=\"text-align: right;\">         51239</td><td style=\"text-align: right;\">            2061</td><td style=\"text-align: right;\">        97091</td><td style=\"text-align: right;\">        6</td><td style=\"text-align: right;\">      nan</td><td style=\"text-align: right;\">       1979</td><td style=\"text-align: right;\">                      231297</td><td style=\"text-align: right;\">             462594</td><td style=\"text-align: right;\">            2015</td><td style=\"text-align: right;\">                 231297</td><td style=\"text-align: right;\">    5026.4 </td><td style=\"text-align: right;\">          6.11101e+13</td><td style=\"text-align: right;\">    0.002 </td></tr>\n",
       "<tr><td style=\"text-align: right;\">1.71674e+07</td><td style=\"text-align: right;\">          1  </td><td style=\"text-align: right;\">           3</td><td style=\"text-align: right;\">                    nan</td><td style=\"text-align: right;\">                1  </td><td style=\"text-align: right;\">                          1385</td><td style=\"text-align: right;\">                  1385</td><td style=\"text-align: right;\">  6111</td><td style=\"text-align: right;\">            1</td><td style=\"text-align: right;\">                    nan</td><td style=\"text-align: right;\">3.41793e+07</td><td style=\"text-align: right;\">-1.19169e+08</td><td style=\"text-align: right;\">               6000</td><td style=\"text-align: right;\">                       1111</td><td style=\"text-align: right;\">                    261</td><td style=\"text-align: right;\">             6.111e+07  </td><td style=\"text-align: right;\">         13150</td><td style=\"text-align: right;\">            2061</td><td style=\"text-align: right;\">        97104</td><td style=\"text-align: right;\">        6</td><td style=\"text-align: right;\">      nan</td><td style=\"text-align: right;\">       1950</td><td style=\"text-align: right;\">                      134251</td><td style=\"text-align: right;\">             268502</td><td style=\"text-align: right;\">            2015</td><td style=\"text-align: right;\">                 134251</td><td style=\"text-align: right;\">    3217.06</td><td style=\"text-align: right;\">          6.111e+13  </td><td style=\"text-align: right;\">   -0.0576</td></tr>\n",
       "</tbody>\n",
       "</table>"
      ]
     },
     "metadata": {},
     "output_type": "display_data"
    },
    {
     "data": {
      "text/plain": []
     },
     "execution_count": 277,
     "metadata": {},
     "output_type": "execute_result"
    }
   ],
   "source": [
    "hf_num_fields.head()"
   ]
  },
  {
   "cell_type": "code",
   "execution_count": 278,
   "metadata": {},
   "outputs": [
    {
     "name": "stdout",
     "output_type": "stream",
     "text": [
      "Rows:90275\n",
      "Cols:29\n",
      "\n",
      "\n"
     ]
    },
    {
     "data": {
      "text/html": [
       "<table>\n",
       "<thead>\n",
       "<tr><th>       </th><th>parcelid          </th><th>bathroomcnt       </th><th>bedroomcnt        </th><th>buildingqualitytypeid  </th><th>calculatedbathnbr  </th><th>calculatedfinishedsquarefeet  </th><th>finishedsquarefeet12  </th><th>fips              </th><th>fullbathcnt       </th><th>heatingorsystemtypeid  </th><th>latitude          </th><th>longitude          </th><th>lotsizesquarefeet  </th><th>propertycountylandusecode  </th><th>propertylandusetypeid  </th><th>rawcensustractandblock  </th><th>regionidcity      </th><th>regionidcounty   </th><th>regionidzip       </th><th>roomcnt           </th><th>unitcnt           </th><th>yearbuilt         </th><th>structuretaxvaluedollarcnt  </th><th>taxvaluedollarcnt  </th><th>assessmentyear  </th><th>landtaxvaluedollarcnt  </th><th>taxamount        </th><th>censustractandblock  </th><th>logerror            </th></tr>\n",
       "</thead>\n",
       "<tbody>\n",
       "<tr><td>type   </td><td>int               </td><td>real              </td><td>int               </td><td>int                    </td><td>real               </td><td>int                           </td><td>int                   </td><td>int               </td><td>int               </td><td>int                    </td><td>int               </td><td>int                </td><td>real               </td><td>int                        </td><td>int                    </td><td>real                    </td><td>int               </td><td>int              </td><td>int               </td><td>int               </td><td>int               </td><td>int               </td><td>int                         </td><td>int                </td><td>int             </td><td>int                    </td><td>real             </td><td>int                  </td><td>real                </td></tr>\n",
       "<tr><td>mins   </td><td>10711738.0        </td><td>0.0               </td><td>0.0               </td><td>1.0                    </td><td>1.0                </td><td>2.0                           </td><td>2.0                   </td><td>6037.0            </td><td>1.0               </td><td>1.0                    </td><td>33339295.0        </td><td>-119447865.0       </td><td>167.0              </td><td>0.0                        </td><td>31.0                   </td><td>60371011.101001         </td><td>3491.0            </td><td>1286.0           </td><td>95982.0           </td><td>0.0               </td><td>1.0               </td><td>1885.0            </td><td>100.0                       </td><td>22.0               </td><td>2015.0          </td><td>22.0                   </td><td>49.08            </td><td>60371011101001.0     </td><td>-4.605              </td></tr>\n",
       "<tr><td>mean   </td><td>12984656.108712273</td><td>2.279473829964004 </td><td>3.0318692882857903</td><td>5.56540687539223       </td><td>2.3092162122725703 </td><td>1773.1859865645972            </td><td>1745.4545305855427    </td><td>6048.870551093871 </td><td>2.241231073148282 </td><td>3.9269793152639108     </td><td>34005410.69369153 </td><td>-118198868.30685127</td><td>29110.164176624    </td><td>202.6997234028199          </td><td>261.83217945167587     </td><td>60491794.811502874      </td><td>33761.332851071544</td><td>2525.420769869842</td><td>96586.1311835106  </td><td>1.4785156466352813</td><td>1.1104142032114885</td><td>1968.5328701169585</td><td>180093.39374826167          </td><td>457672.6273567132  </td><td>2015.0          </td><td>278335.3250216003      </td><td>5983.975926730117</td><td>60491508546032.64    </td><td>0.011457219606757121</td></tr>\n",
       "<tr><td>maxs   </td><td>162960842.0       </td><td>20.0              </td><td>16.0              </td><td>12.0                   </td><td>20.0               </td><td>22741.0                       </td><td>20013.0               </td><td>6111.0            </td><td>20.0              </td><td>24.0                   </td><td>34816009.0        </td><td>-117554924.0       </td><td>6971010.0          </td><td>8800.0                     </td><td>275.0                  </td><td>61110091.00101999       </td><td>396556.0          </td><td>3101.0           </td><td>399675.0          </td><td>18.0              </td><td>143.0             </td><td>2015.0            </td><td>9948100.0                   </td><td>27750000.0         </td><td>2015.0          </td><td>24500000.0             </td><td>321936.09        </td><td>61110091001020.0     </td><td>4.737               </td></tr>\n",
       "<tr><td>sigma  </td><td>2504510.488301767 </td><td>1.0042709877071905</td><td>1.1564355198675524</td><td>1.9006016285969731     </td><td>0.9761724992343213 </td><td>928.1623927208233             </td><td>909.9411657489271     </td><td>20.663460805186414</td><td>0.9631416217273226</td><td>3.6843820505313793     </td><td>264965.37555690156</td><td>360603.19970355544 </td><td>121721.30865440037 </td><td>307.47152682954317         </td><td>5.182900523458312      </td><td>205054.86726826307      </td><td>46672.39386291222 </td><td>805.6948419923104</td><td>3661.3390937511517</td><td>2.819627043522205 </td><td>0.7972352624935555</td><td>23.76347471454321 </td><td>209129.88816860024          </td><td>554884.3989425417  </td><td>0.0             </td><td>400495.4648926158      </td><td>6838.876956292304</td><td>204660503527.13788   </td><td>0.1610788353671869  </td></tr>\n",
       "<tr><td>zeros  </td><td>0                 </td><td>1165              </td><td>1421              </td><td>0                      </td><td>0                  </td><td>0                             </td><td>0                     </td><td>0                 </td><td>0                 </td><td>0                      </td><td>0                 </td><td>0                  </td><td>0                  </td><td>1                          </td><td>0                      </td><td>0                       </td><td>0                 </td><td>0                </td><td>0                 </td><td>69700             </td><td>0                 </td><td>0                 </td><td>0                           </td><td>0                  </td><td>0               </td><td>0                      </td><td>0                </td><td>0                    </td><td>847                 </td></tr>\n",
       "<tr><td>missing</td><td>0                 </td><td>0                 </td><td>0                 </td><td>32911                  </td><td>1182               </td><td>661                           </td><td>4679                  </td><td>0                 </td><td>1182              </td><td>34195                  </td><td>0                 </td><td>0                  </td><td>10150              </td><td>16160                      </td><td>0                      </td><td>0                       </td><td>1803              </td><td>0                </td><td>35                </td><td>0                 </td><td>31922             </td><td>756               </td><td>380                         </td><td>1                  </td><td>0               </td><td>1                      </td><td>6                </td><td>605                  </td><td>0                   </td></tr>\n",
       "<tr><td>0      </td><td>17073783.0        </td><td>2.5               </td><td>3.0               </td><td>nan                    </td><td>2.5                </td><td>1264.0                        </td><td>1264.0                </td><td>6111.0            </td><td>2.0               </td><td>nan                    </td><td>34303597.0        </td><td>-119287236.0       </td><td>1735.0             </td><td>1128.0                     </td><td>265.0                  </td><td>61110022.003006995      </td><td>34543.0           </td><td>2061.0           </td><td>97081.0           </td><td>5.0               </td><td>nan               </td><td>1986.0            </td><td>115087.0                    </td><td>191811.0           </td><td>2015.0          </td><td>76724.0                </td><td>2015.06          </td><td>61110022003007.0     </td><td>0.0953              </td></tr>\n",
       "<tr><td>1      </td><td>17088994.0        </td><td>1.0               </td><td>2.0               </td><td>nan                    </td><td>1.0                </td><td>777.0                         </td><td>777.0                 </td><td>6111.0            </td><td>1.0               </td><td>nan                    </td><td>34272866.0        </td><td>-119198911.0       </td><td>nan                </td><td>1129.0                     </td><td>266.0                  </td><td>61110015.031002         </td><td>34543.0           </td><td>2061.0           </td><td>97083.0           </td><td>4.0               </td><td>nan               </td><td>1990.0            </td><td>143809.0                    </td><td>239679.0           </td><td>2015.0          </td><td>95870.0                </td><td>2581.3           </td><td>61110015031002.0     </td><td>0.0198              </td></tr>\n",
       "<tr><td>2      </td><td>17100444.0        </td><td>2.0               </td><td>3.0               </td><td>nan                    </td><td>2.0                </td><td>1101.0                        </td><td>1101.0                </td><td>6111.0            </td><td>2.0               </td><td>nan                    </td><td>34340801.0        </td><td>-119079610.0       </td><td>6569.0             </td><td>1111.0                     </td><td>261.0                  </td><td>61110007.01100699       </td><td>26965.0           </td><td>2061.0           </td><td>97113.0           </td><td>5.0               </td><td>nan               </td><td>1956.0            </td><td>33619.0                     </td><td>47853.0            </td><td>2015.0          </td><td>14234.0                </td><td>591.64           </td><td>61110007011007.0     </td><td>0.006               </td></tr>\n",
       "<tr><td>3      </td><td>17102429.0        </td><td>1.5               </td><td>2.0               </td><td>nan                    </td><td>1.5                </td><td>1554.0                        </td><td>1554.0                </td><td>6111.0            </td><td>1.0               </td><td>nan                    </td><td>34354313.0        </td><td>-119076405.0       </td><td>7400.0             </td><td>1110.0                     </td><td>261.0                  </td><td>61110008.002013         </td><td>26965.0           </td><td>2061.0           </td><td>97113.0           </td><td>5.0               </td><td>nan               </td><td>1965.0            </td><td>45609.0                     </td><td>62914.0            </td><td>2015.0          </td><td>17305.0                </td><td>682.78           </td><td>61110008002013.0     </td><td>-0.0566             </td></tr>\n",
       "<tr><td>4      </td><td>17109604.0        </td><td>2.5               </td><td>4.0               </td><td>nan                    </td><td>2.5                </td><td>2415.0                        </td><td>2415.0                </td><td>6111.0            </td><td>2.0               </td><td>nan                    </td><td>34266578.0        </td><td>-119165392.0       </td><td>6326.0             </td><td>1111.0                     </td><td>261.0                  </td><td>61110014.021006994      </td><td>34543.0           </td><td>2061.0           </td><td>97084.0           </td><td>8.0               </td><td>nan               </td><td>1984.0            </td><td>277000.0                    </td><td>554000.0           </td><td>2015.0          </td><td>277000.0               </td><td>5886.92          </td><td>61110014021007.0     </td><td>0.0573              </td></tr>\n",
       "<tr><td>5      </td><td>17125829.0        </td><td>2.5               </td><td>4.0               </td><td>nan                    </td><td>2.5                </td><td>2882.0                        </td><td>2882.0                </td><td>6111.0            </td><td>2.0               </td><td>nan                    </td><td>34240014.0        </td><td>-119024793.0       </td><td>10000.0            </td><td>1111.0                     </td><td>261.0                  </td><td>61110052.022034         </td><td>51239.0           </td><td>2061.0           </td><td>97089.0           </td><td>8.0               </td><td>nan               </td><td>1980.0            </td><td>222070.0                    </td><td>289609.0           </td><td>2015.0          </td><td>67539.0                </td><td>3110.44          </td><td>61110052022034.0     </td><td>0.0564              </td></tr>\n",
       "<tr><td>6      </td><td>17132911.0        </td><td>2.0               </td><td>3.0               </td><td>nan                    </td><td>2.0                </td><td>1772.0                        </td><td>1772.0                </td><td>6111.0            </td><td>2.0               </td><td>nan                    </td><td>34226842.0        </td><td>-119059815.0       </td><td>8059.0             </td><td>1111.0                     </td><td>261.0                  </td><td>61110055.03201          </td><td>51239.0           </td><td>2061.0           </td><td>97089.0           </td><td>6.0               </td><td>nan               </td><td>1978.0            </td><td>185000.0                    </td><td>526000.0           </td><td>2015.0          </td><td>341000.0               </td><td>5632.2           </td><td>61110055032010.0     </td><td>0.0315              </td></tr>\n",
       "<tr><td>7      </td><td>17134926.0        </td><td>2.5               </td><td>5.0               </td><td>nan                    </td><td>2.5                </td><td>2632.0                        </td><td>2632.0                </td><td>6111.0            </td><td>2.0               </td><td>nan                    </td><td>34229816.0        </td><td>-119050224.0       </td><td>7602.0             </td><td>1111.0                     </td><td>261.0                  </td><td>61110055.041004         </td><td>51239.0           </td><td>2061.0           </td><td>97089.0           </td><td>8.0               </td><td>nan               </td><td>1971.0            </td><td>342611.0                    </td><td>571086.0           </td><td>2015.0          </td><td>228475.0               </td><td>6109.94          </td><td>61110055041004.0     </td><td>0.0257              </td></tr>\n",
       "<tr><td>8      </td><td>17139988.0        </td><td>2.0               </td><td>3.0               </td><td>nan                    </td><td>2.0                </td><td>1292.0                        </td><td>1292.0                </td><td>6111.0            </td><td>2.0               </td><td>nan                    </td><td>34226351.0        </td><td>-118983853.0       </td><td>7405.0             </td><td>1111.0                     </td><td>261.0                  </td><td>61110053.041014         </td><td>51239.0           </td><td>2061.0           </td><td>97091.0           </td><td>6.0               </td><td>nan               </td><td>1979.0            </td><td>231297.0                    </td><td>462594.0           </td><td>2015.0          </td><td>231297.0               </td><td>5026.4           </td><td>61110053041014.0     </td><td>0.002               </td></tr>\n",
       "<tr><td>9      </td><td>17167359.0        </td><td>1.0               </td><td>3.0               </td><td>nan                    </td><td>1.0                </td><td>1385.0                        </td><td>1385.0                </td><td>6111.0            </td><td>1.0               </td><td>nan                    </td><td>34179289.0        </td><td>-119169287.0       </td><td>6000.0             </td><td>1111.0                     </td><td>261.0                  </td><td>61110039.002008         </td><td>13150.0           </td><td>2061.0           </td><td>97104.0           </td><td>6.0               </td><td>nan               </td><td>1950.0            </td><td>134251.0                    </td><td>268502.0           </td><td>2015.0          </td><td>134251.0               </td><td>3217.06          </td><td>61110039002008.0     </td><td>-0.0576             </td></tr>\n",
       "</tbody>\n",
       "</table>"
      ]
     },
     "metadata": {},
     "output_type": "display_data"
    }
   ],
   "source": [
    "hf_num_fields.describe()"
   ]
  },
  {
   "cell_type": "code",
   "execution_count": 279,
   "metadata": {},
   "outputs": [
    {
     "data": {
      "text/plain": [
       "['airconditioningtypeid',\n",
       " 'architecturalstyletypeid',\n",
       " 'basementsqft',\n",
       " 'buildingclasstypeid',\n",
       " 'decktypeid',\n",
       " 'finishedfloor1squarefeet',\n",
       " 'finishedsquarefeet13',\n",
       " 'finishedsquarefeet15',\n",
       " 'finishedsquarefeet50',\n",
       " 'finishedsquarefeet6',\n",
       " 'fireplacecnt',\n",
       " 'garagecarcnt',\n",
       " 'garagetotalsqft',\n",
       " 'hashottuborspa',\n",
       " 'poolcnt',\n",
       " 'poolsizesum',\n",
       " 'pooltypeid10',\n",
       " 'pooltypeid2',\n",
       " 'pooltypeid7',\n",
       " 'propertyzoningdesc',\n",
       " 'regionidneighborhood',\n",
       " 'storytypeid',\n",
       " 'threequarterbathnbr',\n",
       " 'typeconstructiontypeid',\n",
       " 'yardbuildingsqft17',\n",
       " 'yardbuildingsqft26',\n",
       " 'numberofstories',\n",
       " 'fireplaceflag',\n",
       " 'taxdelinquencyflag',\n",
       " 'taxdelinquencyyear']"
      ]
     },
     "execution_count": 279,
     "metadata": {},
     "output_type": "execute_result"
    }
   ],
   "source": [
    "enum_fields=list(e.keys())\n",
    "enum_fields"
   ]
  },
  {
   "cell_type": "code",
   "execution_count": 280,
   "metadata": {
    "collapsed": true
   },
   "outputs": [],
   "source": [
    "hf_enum_fields=hf[:,enum_fields]"
   ]
  },
  {
   "cell_type": "code",
   "execution_count": 281,
   "metadata": {},
   "outputs": [
    {
     "data": {
      "text/html": [
       "<table>\n",
       "<thead>\n",
       "<tr><th style=\"text-align: right;\">  airconditioningtypeid</th><th style=\"text-align: right;\">  architecturalstyletypeid</th><th style=\"text-align: right;\">  basementsqft</th><th style=\"text-align: right;\">  buildingclasstypeid</th><th style=\"text-align: right;\">  decktypeid</th><th style=\"text-align: right;\">  finishedfloor1squarefeet</th><th style=\"text-align: right;\">  finishedsquarefeet13</th><th style=\"text-align: right;\">  finishedsquarefeet15</th><th style=\"text-align: right;\">  finishedsquarefeet50</th><th style=\"text-align: right;\">  finishedsquarefeet6</th><th style=\"text-align: right;\">  fireplacecnt</th><th style=\"text-align: right;\">  garagecarcnt</th><th style=\"text-align: right;\">  garagetotalsqft</th><th style=\"text-align: right;\">  hashottuborspa</th><th style=\"text-align: right;\">  poolcnt</th><th style=\"text-align: right;\">  poolsizesum</th><th style=\"text-align: right;\">  pooltypeid10</th><th style=\"text-align: right;\">  pooltypeid2</th><th style=\"text-align: right;\">  pooltypeid7</th><th style=\"text-align: right;\">  propertyzoningdesc</th><th style=\"text-align: right;\">  regionidneighborhood</th><th style=\"text-align: right;\">  storytypeid</th><th style=\"text-align: right;\">  threequarterbathnbr</th><th style=\"text-align: right;\">  typeconstructiontypeid</th><th style=\"text-align: right;\">  yardbuildingsqft17</th><th style=\"text-align: right;\">  yardbuildingsqft26</th><th style=\"text-align: right;\">  numberofstories</th><th style=\"text-align: right;\">  fireplaceflag</th><th style=\"text-align: right;\">  taxdelinquencyflag</th><th style=\"text-align: right;\">  taxdelinquencyyear</th></tr>\n",
       "</thead>\n",
       "<tbody>\n",
       "<tr><td style=\"text-align: right;\">                    nan</td><td style=\"text-align: right;\">                       nan</td><td style=\"text-align: right;\">           nan</td><td style=\"text-align: right;\">                  nan</td><td style=\"text-align: right;\">         nan</td><td style=\"text-align: right;\">                       548</td><td style=\"text-align: right;\">                   nan</td><td style=\"text-align: right;\">                   nan</td><td style=\"text-align: right;\">                   548</td><td style=\"text-align: right;\">                  nan</td><td style=\"text-align: right;\">           nan</td><td style=\"text-align: right;\">             2</td><td style=\"text-align: right;\">                0</td><td style=\"text-align: right;\">             nan</td><td style=\"text-align: right;\">      nan</td><td style=\"text-align: right;\">          nan</td><td style=\"text-align: right;\">           nan</td><td style=\"text-align: right;\">          nan</td><td style=\"text-align: right;\">          nan</td><td style=\"text-align: right;\">                 nan</td><td style=\"text-align: right;\">                   nan</td><td style=\"text-align: right;\">          nan</td><td style=\"text-align: right;\">                    1</td><td style=\"text-align: right;\">                     nan</td><td style=\"text-align: right;\">                 128</td><td style=\"text-align: right;\">                 nan</td><td style=\"text-align: right;\">                2</td><td style=\"text-align: right;\">            nan</td><td style=\"text-align: right;\">                 nan</td><td style=\"text-align: right;\">                 nan</td></tr>\n",
       "<tr><td style=\"text-align: right;\">                    nan</td><td style=\"text-align: right;\">                       nan</td><td style=\"text-align: right;\">           nan</td><td style=\"text-align: right;\">                  nan</td><td style=\"text-align: right;\">         nan</td><td style=\"text-align: right;\">                       777</td><td style=\"text-align: right;\">                   nan</td><td style=\"text-align: right;\">                   nan</td><td style=\"text-align: right;\">                   777</td><td style=\"text-align: right;\">                  nan</td><td style=\"text-align: right;\">           nan</td><td style=\"text-align: right;\">             1</td><td style=\"text-align: right;\">                0</td><td style=\"text-align: right;\">             nan</td><td style=\"text-align: right;\">      nan</td><td style=\"text-align: right;\">          nan</td><td style=\"text-align: right;\">           nan</td><td style=\"text-align: right;\">          nan</td><td style=\"text-align: right;\">          nan</td><td style=\"text-align: right;\">                 nan</td><td style=\"text-align: right;\">                   nan</td><td style=\"text-align: right;\">          nan</td><td style=\"text-align: right;\">                  nan</td><td style=\"text-align: right;\">                     nan</td><td style=\"text-align: right;\">                 198</td><td style=\"text-align: right;\">                 nan</td><td style=\"text-align: right;\">                1</td><td style=\"text-align: right;\">            nan</td><td style=\"text-align: right;\">                 nan</td><td style=\"text-align: right;\">                 nan</td></tr>\n",
       "<tr><td style=\"text-align: right;\">                    nan</td><td style=\"text-align: right;\">                       nan</td><td style=\"text-align: right;\">           nan</td><td style=\"text-align: right;\">                  nan</td><td style=\"text-align: right;\">         nan</td><td style=\"text-align: right;\">                      1101</td><td style=\"text-align: right;\">                   nan</td><td style=\"text-align: right;\">                   nan</td><td style=\"text-align: right;\">                  1101</td><td style=\"text-align: right;\">                  nan</td><td style=\"text-align: right;\">           nan</td><td style=\"text-align: right;\">             2</td><td style=\"text-align: right;\">              441</td><td style=\"text-align: right;\">             nan</td><td style=\"text-align: right;\">      nan</td><td style=\"text-align: right;\">          nan</td><td style=\"text-align: right;\">           nan</td><td style=\"text-align: right;\">          nan</td><td style=\"text-align: right;\">          nan</td><td style=\"text-align: right;\">                 nan</td><td style=\"text-align: right;\">                   nan</td><td style=\"text-align: right;\">          nan</td><td style=\"text-align: right;\">                  nan</td><td style=\"text-align: right;\">                     nan</td><td style=\"text-align: right;\">                 nan</td><td style=\"text-align: right;\">                 nan</td><td style=\"text-align: right;\">                1</td><td style=\"text-align: right;\">            nan</td><td style=\"text-align: right;\">                 nan</td><td style=\"text-align: right;\">                 nan</td></tr>\n",
       "<tr><td style=\"text-align: right;\">                    nan</td><td style=\"text-align: right;\">                       nan</td><td style=\"text-align: right;\">           nan</td><td style=\"text-align: right;\">                  nan</td><td style=\"text-align: right;\">         nan</td><td style=\"text-align: right;\">                      1554</td><td style=\"text-align: right;\">                   nan</td><td style=\"text-align: right;\">                   nan</td><td style=\"text-align: right;\">                  1554</td><td style=\"text-align: right;\">                  nan</td><td style=\"text-align: right;\">             1</td><td style=\"text-align: right;\">             2</td><td style=\"text-align: right;\">              460</td><td style=\"text-align: right;\">             nan</td><td style=\"text-align: right;\">      nan</td><td style=\"text-align: right;\">          nan</td><td style=\"text-align: right;\">           nan</td><td style=\"text-align: right;\">          nan</td><td style=\"text-align: right;\">          nan</td><td style=\"text-align: right;\">                 nan</td><td style=\"text-align: right;\">                   nan</td><td style=\"text-align: right;\">          nan</td><td style=\"text-align: right;\">                    1</td><td style=\"text-align: right;\">                     nan</td><td style=\"text-align: right;\">                 nan</td><td style=\"text-align: right;\">                 nan</td><td style=\"text-align: right;\">                1</td><td style=\"text-align: right;\">            nan</td><td style=\"text-align: right;\">                 nan</td><td style=\"text-align: right;\">                 nan</td></tr>\n",
       "<tr><td style=\"text-align: right;\">                    nan</td><td style=\"text-align: right;\">                       nan</td><td style=\"text-align: right;\">           nan</td><td style=\"text-align: right;\">                  nan</td><td style=\"text-align: right;\">         nan</td><td style=\"text-align: right;\">                      1305</td><td style=\"text-align: right;\">                   nan</td><td style=\"text-align: right;\">                   nan</td><td style=\"text-align: right;\">                  1305</td><td style=\"text-align: right;\">                  nan</td><td style=\"text-align: right;\">             1</td><td style=\"text-align: right;\">             2</td><td style=\"text-align: right;\">              665</td><td style=\"text-align: right;\">             nan</td><td style=\"text-align: right;\">      nan</td><td style=\"text-align: right;\">          nan</td><td style=\"text-align: right;\">           nan</td><td style=\"text-align: right;\">          nan</td><td style=\"text-align: right;\">          nan</td><td style=\"text-align: right;\">                 nan</td><td style=\"text-align: right;\">                   nan</td><td style=\"text-align: right;\">          nan</td><td style=\"text-align: right;\">                    1</td><td style=\"text-align: right;\">                     nan</td><td style=\"text-align: right;\">                 nan</td><td style=\"text-align: right;\">                 nan</td><td style=\"text-align: right;\">                2</td><td style=\"text-align: right;\">            nan</td><td style=\"text-align: right;\">                 nan</td><td style=\"text-align: right;\">                 nan</td></tr>\n",
       "<tr><td style=\"text-align: right;\">                    nan</td><td style=\"text-align: right;\">                       nan</td><td style=\"text-align: right;\">           nan</td><td style=\"text-align: right;\">                  nan</td><td style=\"text-align: right;\">          66</td><td style=\"text-align: right;\">                      1303</td><td style=\"text-align: right;\">                   nan</td><td style=\"text-align: right;\">                   nan</td><td style=\"text-align: right;\">                  1303</td><td style=\"text-align: right;\">                  nan</td><td style=\"text-align: right;\">             1</td><td style=\"text-align: right;\">             2</td><td style=\"text-align: right;\">              473</td><td style=\"text-align: right;\">             nan</td><td style=\"text-align: right;\">      nan</td><td style=\"text-align: right;\">          nan</td><td style=\"text-align: right;\">           nan</td><td style=\"text-align: right;\">          nan</td><td style=\"text-align: right;\">          nan</td><td style=\"text-align: right;\">                 nan</td><td style=\"text-align: right;\">                   nan</td><td style=\"text-align: right;\">          nan</td><td style=\"text-align: right;\">                    1</td><td style=\"text-align: right;\">                     nan</td><td style=\"text-align: right;\">                 nan</td><td style=\"text-align: right;\">                 nan</td><td style=\"text-align: right;\">                2</td><td style=\"text-align: right;\">            nan</td><td style=\"text-align: right;\">                 nan</td><td style=\"text-align: right;\">                 nan</td></tr>\n",
       "<tr><td style=\"text-align: right;\">                    nan</td><td style=\"text-align: right;\">                       nan</td><td style=\"text-align: right;\">           nan</td><td style=\"text-align: right;\">                  nan</td><td style=\"text-align: right;\">         nan</td><td style=\"text-align: right;\">                      1772</td><td style=\"text-align: right;\">                   nan</td><td style=\"text-align: right;\">                   nan</td><td style=\"text-align: right;\">                  1772</td><td style=\"text-align: right;\">                  nan</td><td style=\"text-align: right;\">             1</td><td style=\"text-align: right;\">             2</td><td style=\"text-align: right;\">              467</td><td style=\"text-align: right;\">             nan</td><td style=\"text-align: right;\">      nan</td><td style=\"text-align: right;\">          nan</td><td style=\"text-align: right;\">           nan</td><td style=\"text-align: right;\">          nan</td><td style=\"text-align: right;\">          nan</td><td style=\"text-align: right;\">                 nan</td><td style=\"text-align: right;\">                   nan</td><td style=\"text-align: right;\">          nan</td><td style=\"text-align: right;\">                  nan</td><td style=\"text-align: right;\">                     nan</td><td style=\"text-align: right;\">                1045</td><td style=\"text-align: right;\">                 nan</td><td style=\"text-align: right;\">                1</td><td style=\"text-align: right;\">            nan</td><td style=\"text-align: right;\">                 nan</td><td style=\"text-align: right;\">                 nan</td></tr>\n",
       "<tr><td style=\"text-align: right;\">                    nan</td><td style=\"text-align: right;\">                       nan</td><td style=\"text-align: right;\">           nan</td><td style=\"text-align: right;\">                  nan</td><td style=\"text-align: right;\">         nan</td><td style=\"text-align: right;\">                      1240</td><td style=\"text-align: right;\">                   nan</td><td style=\"text-align: right;\">                   nan</td><td style=\"text-align: right;\">                  1240</td><td style=\"text-align: right;\">                  nan</td><td style=\"text-align: right;\">             1</td><td style=\"text-align: right;\">             2</td><td style=\"text-align: right;\">              440</td><td style=\"text-align: right;\">             nan</td><td style=\"text-align: right;\">        1</td><td style=\"text-align: right;\">          800</td><td style=\"text-align: right;\">           nan</td><td style=\"text-align: right;\">          nan</td><td style=\"text-align: right;\">            1</td><td style=\"text-align: right;\">                 nan</td><td style=\"text-align: right;\">                   nan</td><td style=\"text-align: right;\">          nan</td><td style=\"text-align: right;\">                    1</td><td style=\"text-align: right;\">                     nan</td><td style=\"text-align: right;\">                 180</td><td style=\"text-align: right;\">                 nan</td><td style=\"text-align: right;\">                2</td><td style=\"text-align: right;\">            nan</td><td style=\"text-align: right;\">                 nan</td><td style=\"text-align: right;\">                 nan</td></tr>\n",
       "<tr><td style=\"text-align: right;\">                    nan</td><td style=\"text-align: right;\">                       nan</td><td style=\"text-align: right;\">           nan</td><td style=\"text-align: right;\">                  nan</td><td style=\"text-align: right;\">         nan</td><td style=\"text-align: right;\">                      1292</td><td style=\"text-align: right;\">                   nan</td><td style=\"text-align: right;\">                   nan</td><td style=\"text-align: right;\">                  1292</td><td style=\"text-align: right;\">                  nan</td><td style=\"text-align: right;\">           nan</td><td style=\"text-align: right;\">             2</td><td style=\"text-align: right;\">              494</td><td style=\"text-align: right;\">             nan</td><td style=\"text-align: right;\">      nan</td><td style=\"text-align: right;\">          nan</td><td style=\"text-align: right;\">           nan</td><td style=\"text-align: right;\">          nan</td><td style=\"text-align: right;\">          nan</td><td style=\"text-align: right;\">                 nan</td><td style=\"text-align: right;\">                   nan</td><td style=\"text-align: right;\">          nan</td><td style=\"text-align: right;\">                  nan</td><td style=\"text-align: right;\">                     nan</td><td style=\"text-align: right;\">                 304</td><td style=\"text-align: right;\">                 nan</td><td style=\"text-align: right;\">                1</td><td style=\"text-align: right;\">            nan</td><td style=\"text-align: right;\">                 nan</td><td style=\"text-align: right;\">                 nan</td></tr>\n",
       "<tr><td style=\"text-align: right;\">                    nan</td><td style=\"text-align: right;\">                       nan</td><td style=\"text-align: right;\">           nan</td><td style=\"text-align: right;\">                  nan</td><td style=\"text-align: right;\">         nan</td><td style=\"text-align: right;\">                       804</td><td style=\"text-align: right;\">                   nan</td><td style=\"text-align: right;\">                   nan</td><td style=\"text-align: right;\">                   804</td><td style=\"text-align: right;\">                  nan</td><td style=\"text-align: right;\">             1</td><td style=\"text-align: right;\">             1</td><td style=\"text-align: right;\">              253</td><td style=\"text-align: right;\">             nan</td><td style=\"text-align: right;\">      nan</td><td style=\"text-align: right;\">          nan</td><td style=\"text-align: right;\">           nan</td><td style=\"text-align: right;\">          nan</td><td style=\"text-align: right;\">          nan</td><td style=\"text-align: right;\">                 nan</td><td style=\"text-align: right;\">                   nan</td><td style=\"text-align: right;\">          nan</td><td style=\"text-align: right;\">                  nan</td><td style=\"text-align: right;\">                     nan</td><td style=\"text-align: right;\">                 nan</td><td style=\"text-align: right;\">                 nan</td><td style=\"text-align: right;\">                1</td><td style=\"text-align: right;\">            nan</td><td style=\"text-align: right;\">                 nan</td><td style=\"text-align: right;\">                 nan</td></tr>\n",
       "</tbody>\n",
       "</table>"
      ]
     },
     "metadata": {},
     "output_type": "display_data"
    },
    {
     "data": {
      "text/plain": []
     },
     "execution_count": 281,
     "metadata": {},
     "output_type": "execute_result"
    }
   ],
   "source": [
    "hf_enum_fields.head()"
   ]
  },
  {
   "cell_type": "code",
   "execution_count": 282,
   "metadata": {
    "collapsed": true
   },
   "outputs": [],
   "source": [
    "# get variable counts\n",
    "for n in v.keys():\n",
    "  try:\n",
    "    l=[v[n]]\n",
    "    l.append(int(hf[n].nrows))      \n",
    "    try:\n",
    "      nunique=int(len(hf[n].unique()))\n",
    "    except:\n",
    "      nunique=int(hf[n].nrows)    \n",
    "    l.append(nunique) \n",
    "    l.append(int(hf[n].nacnt()[0])) \n",
    "    l.append((int(hf[n].nrows))-(int(hf[n].nacnt()[0])))     \n",
    "    hf_counts[n]=l\n",
    "  except:\n",
    "    pass "
   ]
  },
  {
   "cell_type": "code",
   "execution_count": 283,
   "metadata": {},
   "outputs": [
    {
     "data": {
      "text/plain": [
       "{'airconditioningtypeid': ['enum', 90275, 7, 0, 90275],\n",
       " 'architecturalstyletypeid': ['enum', 90275, 7, 0, 90275],\n",
       " 'assessmentyear': ['int', 90275, 1, 0, 90275],\n",
       " 'basementsqft': ['enum', 90275, 40, 0, 90275],\n",
       " 'bathroomcnt': ['real', 90275, 23, 0, 90275],\n",
       " 'bedroomcnt': ['int', 90275, 17, 0, 90275],\n",
       " 'buildingclasstypeid': ['enum', 90275, 2, 0, 90275],\n",
       " 'buildingqualitytypeid': ['int', 90275, 9, 32911, 57364],\n",
       " 'calculatedbathnbr': ['real', 90275, 23, 1182, 89093],\n",
       " 'calculatedfinishedsquarefeet': ['int', 90275, 5103, 661, 89614],\n",
       " 'censustractandblock': ['int', 90275, 42399, 605, 89670],\n",
       " 'decktypeid': ['enum', 90275, 2, 0, 90275],\n",
       " 'finishedfloor1squarefeet': ['enum', 90275, 1887, 0, 90275],\n",
       " 'finishedsquarefeet12': ['int', 90275, 4983, 4679, 85596],\n",
       " 'finishedsquarefeet13': ['enum', 90275, 12, 0, 90275],\n",
       " 'finishedsquarefeet15': ['enum', 90275, 1916, 0, 90275],\n",
       " 'finishedsquarefeet50': ['enum', 90275, 1899, 0, 90275],\n",
       " 'finishedsquarefeet6': ['enum', 90275, 361, 0, 90275],\n",
       " 'fips': ['int', 90275, 3, 0, 90275],\n",
       " 'fireplacecnt': ['enum', 90275, 6, 0, 90275],\n",
       " 'fireplaceflag': ['enum', 90275, 2, 0, 90275],\n",
       " 'fullbathcnt': ['int', 90275, 15, 1182, 89093],\n",
       " 'garagecarcnt': ['enum', 90275, 16, 0, 90275],\n",
       " 'garagetotalsqft': ['enum', 90275, 871, 0, 90275],\n",
       " 'hashottuborspa': ['enum', 90275, 2, 0, 90275],\n",
       " 'heatingorsystemtypeid': ['int', 90275, 13, 34195, 56080],\n",
       " 'landtaxvaluedollarcnt': ['int', 90275, 57067, 1, 90274],\n",
       " 'latitude': ['int', 90275, 73312, 0, 90275],\n",
       " 'logerror': ['real', 90275, 1894, 0, 90275],\n",
       " 'longitude': ['int', 90275, 71900, 0, 90275],\n",
       " 'lotsizesquarefeet': ['real', 90275, 20017, 10150, 80125],\n",
       " 'numberofstories': ['enum', 90275, 5, 0, 90275],\n",
       " 'parcelid': ['int', 90275, 90150, 0, 90275],\n",
       " 'poolcnt': ['enum', 90275, 2, 0, 90275],\n",
       " 'poolsizesum': ['enum', 90275, 274, 0, 90275],\n",
       " 'pooltypeid10': ['enum', 90275, 2, 0, 90275],\n",
       " 'pooltypeid2': ['enum', 90275, 2, 0, 90275],\n",
       " 'pooltypeid7': ['enum', 90275, 2, 0, 90275],\n",
       " 'propertycountylandusecode': ['int', 90275, 56, 16160, 74115],\n",
       " 'propertylandusetypeid': ['int', 90275, 14, 0, 90275],\n",
       " 'propertyzoningdesc': ['enum', 90275, 1997, 0, 90275],\n",
       " 'rawcensustractandblock': ['real', 90275, 42641, 0, 90275],\n",
       " 'regionidcity': ['int', 90275, 178, 1803, 88472],\n",
       " 'regionidcounty': ['int', 90275, 3, 0, 90275],\n",
       " 'regionidneighborhood': ['enum', 90275, 495, 0, 90275],\n",
       " 'regionidzip': ['int', 90275, 389, 35, 90240],\n",
       " 'roomcnt': ['int', 90275, 17, 0, 90275],\n",
       " 'storytypeid': ['enum', 90275, 2, 0, 90275],\n",
       " 'structuretaxvaluedollarcnt': ['int', 90275, 55451, 380, 89895],\n",
       " 'taxamount': ['real', 90275, 85111, 6, 90269],\n",
       " 'taxdelinquencyflag': ['enum', 90275, 2, 0, 90275],\n",
       " 'taxdelinquencyyear': ['enum', 90275, 12, 0, 90275],\n",
       " 'taxvaluedollarcnt': ['int', 90275, 55939, 1, 90274],\n",
       " 'threequarterbathnbr': ['enum', 90275, 5, 0, 90275],\n",
       " 'typeconstructiontypeid': ['enum', 90275, 4, 0, 90275],\n",
       " 'unitcnt': ['int', 90275, 11, 31922, 58353],\n",
       " 'yardbuildingsqft17': ['enum', 90275, 568, 0, 90275],\n",
       " 'yardbuildingsqft26': ['enum', 90275, 74, 0, 90275],\n",
       " 'yearbuilt': ['int', 90275, 131, 756, 89519]}"
      ]
     },
     "execution_count": 283,
     "metadata": {},
     "output_type": "execute_result"
    }
   ],
   "source": [
    "# nrows, nacnt, unique \n",
    "hf_counts"
   ]
  },
  {
   "cell_type": "markdown",
   "metadata": {},
   "source": [
    "Many columns have many missing values, more can focus on the columns with more values.  \n",
    "#### Choose colums according to missing value for properties:"
   ]
  },
  {
   "cell_type": "code",
   "execution_count": 284,
   "metadata": {},
   "outputs": [
    {
     "name": "stdout",
     "output_type": "stream",
     "text": [
      "['parcelid' 'fips' 'propertylandusetypeid' 'rawcensustractandblock'\n",
      " 'regionidcounty' 'longitude' 'latitude' 'assessmentyear' 'bedroomcnt'\n",
      " 'bathroomcnt' 'roomcnt' 'propertycountylandusecode' 'regionidzip'\n",
      " 'taxamount' 'taxvaluedollarcnt' 'structuretaxvaluedollarcnt'\n",
      " 'calculatedfinishedsquarefeet' 'yearbuilt' 'regionidcity'\n",
      " 'landtaxvaluedollarcnt' 'censustractandblock' 'fullbathcnt'\n",
      " 'calculatedbathnbr']\n"
     ]
    }
   ],
   "source": [
    "# chose the top 23 variables of properties missing value\n",
    "total_name = properties_missing_df.column_name.values[0:23]\n",
    "\n",
    "# print the total name\n",
    "print(total_name)"
   ]
  },
  {
   "cell_type": "markdown",
   "metadata": {},
   "source": [
    "# Indpendent variables based on variable importance\n",
    "\n",
    "Lets select indpendent variables based on variable importance and data types."
   ]
  },
  {
   "cell_type": "code",
   "execution_count": 285,
   "metadata": {},
   "outputs": [
    {
     "data": {
      "text/plain": [
       "{'airconditioningtypeid': 0.05141151458706515,\n",
       " 'architecturalstyletypeid': 0.00046464485054704795,\n",
       " 'basementsqft': 0.0026241165742099384,\n",
       " 'bathroomcnt': 0.07274506024705465,\n",
       " 'bedroomcnt': 0.1305713849157399,\n",
       " 'buildingclasstypeid': 0.006877635985929468,\n",
       " 'buildingqualitytypeid': 0.09369778554278294,\n",
       " 'calculatedbathnbr': 0.10344769456216321,\n",
       " 'calculatedfinishedsquarefeet': 0.26966102743002024,\n",
       " 'censustractandblock': 0.046362481746277634,\n",
       " 'decktypeid': 0.0014537852687852197,\n",
       " 'finishedfloor1squarefeet': 0.0432001399990304,\n",
       " 'finishedsquarefeet12': 0.32364493082011925,\n",
       " 'finishedsquarefeet13': 0.0011657648706583884,\n",
       " 'finishedsquarefeet15': 0.17175445575841458,\n",
       " 'finishedsquarefeet50': 0.0557225633175046,\n",
       " 'finishedsquarefeet6': 0.16273612228501427,\n",
       " 'fips': 0.0016128368320534946,\n",
       " 'fireplacecnt': 0.025245995937445663,\n",
       " 'fireplaceflag': 5.386605442542235e-05,\n",
       " 'fullbathcnt': 0.10107202745603537,\n",
       " 'garagecarcnt': 0.02224045959906754,\n",
       " 'garagetotalsqft': 0.9902905056682907,\n",
       " 'hashottuborspa': 0.012499321729563103,\n",
       " 'heatingorsystemtypeid': 0.04593034487892414,\n",
       " 'landtaxvaluedollarcnt': 0.20279495769219022,\n",
       " 'latitude': 0.18441766089466144,\n",
       " 'longitude': 0.13268424673592238,\n",
       " 'lotsizesquarefeet': 0.16188013549689995,\n",
       " 'numberofstories': 0.03088412946904459,\n",
       " 'parcelid': 0.06432871749936166,\n",
       " 'poolcnt': 0.0266956074228928,\n",
       " 'poolsizesum': 0.00966054452009323,\n",
       " 'pooltypeid10': 0.01362965199477346,\n",
       " 'pooltypeid2': 0.004476573429655846,\n",
       " 'pooltypeid7': 0.024786374592781994,\n",
       " 'propertycountylandusecode': 0.06418781053667699,\n",
       " 'propertylandusetypeid': 0.03834249354578528,\n",
       " 'propertyzoningdesc': 0.15719310144163473,\n",
       " 'rawcensustractandblock': 0.022598411049201995,\n",
       " 'regionidcity': 0.08415399456993361,\n",
       " 'regionidcounty': 0.002324774589144559,\n",
       " 'regionidneighborhood': 0.9870085628301735,\n",
       " 'regionidzip': 0.05793938726845756,\n",
       " 'roomcnt': 0.03480895063664661,\n",
       " 'storytypeid': 0.0014836981999175806,\n",
       " 'structuretaxvaluedollarcnt': 0.2889385649268037,\n",
       " 'taxamount': 0.23003854992185543,\n",
       " 'taxdelinquencyflag': 0.010622652151466884,\n",
       " 'taxdelinquencyyear': 0.05521735921483659,\n",
       " 'taxvaluedollarcnt': 0.21364325368424297,\n",
       " 'threequarterbathnbr': 0.018701586193554682,\n",
       " 'transactiondate': 0.4242807867127589,\n",
       " 'typeconstructiontypeid': 2.508533428055789e-05,\n",
       " 'unitcnt': 0.025710255105587436,\n",
       " 'yardbuildingsqft17': 0.20059102015886654,\n",
       " 'yardbuildingsqft26': 0.003119325541484739,\n",
       " 'yearbuilt': 0.27342751695205253}"
      ]
     },
     "execution_count": 285,
     "metadata": {},
     "output_type": "execute_result"
    }
   ],
   "source": [
    "varimp"
   ]
  },
  {
   "cell_type": "code",
   "execution_count": 286,
   "metadata": {},
   "outputs": [
    {
     "data": {
      "text/plain": [
       "['parcelid',\n",
       " 'airconditioningtypeid',\n",
       " 'architecturalstyletypeid',\n",
       " 'basementsqft',\n",
       " 'bathroomcnt',\n",
       " 'bedroomcnt',\n",
       " 'buildingclasstypeid',\n",
       " 'buildingqualitytypeid',\n",
       " 'calculatedbathnbr',\n",
       " 'decktypeid',\n",
       " 'finishedfloor1squarefeet',\n",
       " 'calculatedfinishedsquarefeet',\n",
       " 'finishedsquarefeet12',\n",
       " 'finishedsquarefeet13',\n",
       " 'finishedsquarefeet15',\n",
       " 'finishedsquarefeet50',\n",
       " 'finishedsquarefeet6',\n",
       " 'fips',\n",
       " 'fireplacecnt',\n",
       " 'fullbathcnt',\n",
       " 'garagecarcnt',\n",
       " 'garagetotalsqft',\n",
       " 'hashottuborspa',\n",
       " 'heatingorsystemtypeid',\n",
       " 'latitude',\n",
       " 'longitude',\n",
       " 'lotsizesquarefeet',\n",
       " 'poolcnt',\n",
       " 'poolsizesum',\n",
       " 'pooltypeid10',\n",
       " 'pooltypeid2',\n",
       " 'pooltypeid7',\n",
       " 'propertycountylandusecode',\n",
       " 'propertylandusetypeid',\n",
       " 'propertyzoningdesc',\n",
       " 'rawcensustractandblock',\n",
       " 'regionidcity',\n",
       " 'regionidcounty',\n",
       " 'regionidneighborhood',\n",
       " 'regionidzip',\n",
       " 'roomcnt',\n",
       " 'storytypeid',\n",
       " 'threequarterbathnbr',\n",
       " 'typeconstructiontypeid',\n",
       " 'unitcnt',\n",
       " 'yardbuildingsqft17',\n",
       " 'yardbuildingsqft26',\n",
       " 'yearbuilt',\n",
       " 'numberofstories',\n",
       " 'fireplaceflag',\n",
       " 'structuretaxvaluedollarcnt',\n",
       " 'taxvaluedollarcnt',\n",
       " 'assessmentyear',\n",
       " 'landtaxvaluedollarcnt',\n",
       " 'taxamount',\n",
       " 'taxdelinquencyflag',\n",
       " 'taxdelinquencyyear',\n",
       " 'censustractandblock',\n",
       " 'logerror']"
      ]
     },
     "execution_count": 286,
     "metadata": {},
     "output_type": "execute_result"
    }
   ],
   "source": [
    "list(v.keys())"
   ]
  },
  {
   "cell_type": "code",
   "execution_count": 287,
   "metadata": {
    "collapsed": true
   },
   "outputs": [],
   "source": [
    "def feature_selection(d,l, thresh=0.05):\n",
    "    iv=[]\n",
    "    for key in d.keys():\n",
    "      if d[key]>thresh:\n",
    "        iv.append(key)\n",
    "    for v in iv:\n",
    "        if v not in l:\n",
    "            iv.remove(v)\n",
    "    return iv"
   ]
  },
  {
   "cell_type": "code",
   "execution_count": 288,
   "metadata": {},
   "outputs": [
    {
     "name": "stdout",
     "output_type": "stream",
     "text": [
      "['garagetotalsqft', 'regionidneighborhood', 'finishedsquarefeet12', 'structuretaxvaluedollarcnt', 'yearbuilt', 'calculatedfinishedsquarefeet', 'taxamount', 'taxvaluedollarcnt', 'landtaxvaluedollarcnt', 'latitude', 'lotsizesquarefeet', 'propertyzoningdesc', 'bedroomcnt', 'finishedsquarefeet15', 'longitude', 'yardbuildingsqft17', 'finishedsquarefeet6', 'fullbathcnt', 'calculatedbathnbr', 'regionidcity', 'buildingqualitytypeid', 'bathroomcnt', 'finishedsquarefeet50', 'parcelid', 'propertycountylandusecode', 'regionidzip', 'taxdelinquencyyear', 'airconditioningtypeid']\n"
     ]
    }
   ],
   "source": [
    "X=feature_selection(varimp,list(v.keys()))\n",
    "print(X)"
   ]
  },
  {
   "cell_type": "code",
   "execution_count": 289,
   "metadata": {},
   "outputs": [
    {
     "name": "stdout",
     "output_type": "stream",
     "text": [
      "logerror\n"
     ]
    }
   ],
   "source": [
    "print(y)\n",
    "if y in X:\n",
    "  X.remove(y) "
   ]
  },
  {
   "cell_type": "code",
   "execution_count": 290,
   "metadata": {},
   "outputs": [
    {
     "name": "stdout",
     "output_type": "stream",
     "text": [
      "['garagetotalsqft', 'regionidneighborhood', 'finishedsquarefeet12', 'structuretaxvaluedollarcnt', 'yearbuilt', 'calculatedfinishedsquarefeet', 'taxamount', 'taxvaluedollarcnt', 'landtaxvaluedollarcnt', 'latitude', 'lotsizesquarefeet', 'propertyzoningdesc', 'bedroomcnt', 'finishedsquarefeet15', 'longitude', 'yardbuildingsqft17', 'finishedsquarefeet6', 'fullbathcnt', 'calculatedbathnbr', 'regionidcity', 'buildingqualitytypeid', 'bathroomcnt', 'finishedsquarefeet50', 'parcelid', 'propertycountylandusecode', 'regionidzip', 'taxdelinquencyyear', 'airconditioningtypeid']\n",
      "['logerror', 'garagetotalsqft', 'regionidneighborhood', 'finishedsquarefeet12', 'structuretaxvaluedollarcnt', 'yearbuilt', 'calculatedfinishedsquarefeet', 'taxamount', 'taxvaluedollarcnt', 'landtaxvaluedollarcnt', 'latitude', 'lotsizesquarefeet', 'propertyzoningdesc', 'bedroomcnt', 'finishedsquarefeet15', 'longitude', 'yardbuildingsqft17', 'finishedsquarefeet6', 'fullbathcnt', 'calculatedbathnbr', 'regionidcity', 'buildingqualitytypeid', 'bathroomcnt', 'finishedsquarefeet50', 'parcelid', 'propertycountylandusecode', 'regionidzip', 'taxdelinquencyyear', 'airconditioningtypeid']\n"
     ]
    }
   ],
   "source": [
    "Xy=[y]\n",
    "for i in X:\n",
    "  Xy.append(i)\n",
    "print(X)\n",
    "print(Xy)"
   ]
  },
  {
   "cell_type": "code",
   "execution_count": 291,
   "metadata": {
    "collapsed": true
   },
   "outputs": [],
   "source": [
    "hf_scrubbed=hf[:,Xy]"
   ]
  },
  {
   "cell_type": "code",
   "execution_count": 292,
   "metadata": {},
   "outputs": [
    {
     "data": {
      "text/html": [
       "<table>\n",
       "<thead>\n",
       "<tr><th style=\"text-align: right;\">  logerror</th><th style=\"text-align: right;\">  garagetotalsqft</th><th style=\"text-align: right;\">  regionidneighborhood</th><th style=\"text-align: right;\">  finishedsquarefeet12</th><th style=\"text-align: right;\">  structuretaxvaluedollarcnt</th><th style=\"text-align: right;\">  yearbuilt</th><th style=\"text-align: right;\">  calculatedfinishedsquarefeet</th><th style=\"text-align: right;\">  taxamount</th><th style=\"text-align: right;\">  taxvaluedollarcnt</th><th style=\"text-align: right;\">  landtaxvaluedollarcnt</th><th style=\"text-align: right;\">   latitude</th><th style=\"text-align: right;\">  lotsizesquarefeet</th><th style=\"text-align: right;\">  propertyzoningdesc</th><th style=\"text-align: right;\">  bedroomcnt</th><th style=\"text-align: right;\">  finishedsquarefeet15</th><th style=\"text-align: right;\">   longitude</th><th style=\"text-align: right;\">  yardbuildingsqft17</th><th style=\"text-align: right;\">  finishedsquarefeet6</th><th style=\"text-align: right;\">  fullbathcnt</th><th style=\"text-align: right;\">  calculatedbathnbr</th><th style=\"text-align: right;\">  regionidcity</th><th style=\"text-align: right;\">  buildingqualitytypeid</th><th style=\"text-align: right;\">  bathroomcnt</th><th style=\"text-align: right;\">  finishedsquarefeet50</th><th style=\"text-align: right;\">   parcelid</th><th style=\"text-align: right;\">  propertycountylandusecode</th><th style=\"text-align: right;\">  regionidzip</th><th style=\"text-align: right;\">  taxdelinquencyyear</th><th style=\"text-align: right;\">  airconditioningtypeid</th></tr>\n",
       "</thead>\n",
       "<tbody>\n",
       "<tr><td style=\"text-align: right;\">    0.0953</td><td style=\"text-align: right;\">                0</td><td style=\"text-align: right;\">                   nan</td><td style=\"text-align: right;\">                  1264</td><td style=\"text-align: right;\">                      115087</td><td style=\"text-align: right;\">       1986</td><td style=\"text-align: right;\">                          1264</td><td style=\"text-align: right;\">    2015.06</td><td style=\"text-align: right;\">             191811</td><td style=\"text-align: right;\">                  76724</td><td style=\"text-align: right;\">3.43036e+07</td><td style=\"text-align: right;\">               1735</td><td style=\"text-align: right;\">                 nan</td><td style=\"text-align: right;\">           3</td><td style=\"text-align: right;\">                   nan</td><td style=\"text-align: right;\">-1.19287e+08</td><td style=\"text-align: right;\">                 128</td><td style=\"text-align: right;\">                  nan</td><td style=\"text-align: right;\">            2</td><td style=\"text-align: right;\">                2.5</td><td style=\"text-align: right;\">         34543</td><td style=\"text-align: right;\">                    nan</td><td style=\"text-align: right;\">          2.5</td><td style=\"text-align: right;\">                   548</td><td style=\"text-align: right;\">1.70738e+07</td><td style=\"text-align: right;\">                       1128</td><td style=\"text-align: right;\">        97081</td><td style=\"text-align: right;\">                 nan</td><td style=\"text-align: right;\">                    nan</td></tr>\n",
       "<tr><td style=\"text-align: right;\">    0.0198</td><td style=\"text-align: right;\">                0</td><td style=\"text-align: right;\">                   nan</td><td style=\"text-align: right;\">                   777</td><td style=\"text-align: right;\">                      143809</td><td style=\"text-align: right;\">       1990</td><td style=\"text-align: right;\">                           777</td><td style=\"text-align: right;\">    2581.3 </td><td style=\"text-align: right;\">             239679</td><td style=\"text-align: right;\">                  95870</td><td style=\"text-align: right;\">3.42729e+07</td><td style=\"text-align: right;\">                nan</td><td style=\"text-align: right;\">                 nan</td><td style=\"text-align: right;\">           2</td><td style=\"text-align: right;\">                   nan</td><td style=\"text-align: right;\">-1.19199e+08</td><td style=\"text-align: right;\">                 198</td><td style=\"text-align: right;\">                  nan</td><td style=\"text-align: right;\">            1</td><td style=\"text-align: right;\">                1  </td><td style=\"text-align: right;\">         34543</td><td style=\"text-align: right;\">                    nan</td><td style=\"text-align: right;\">          1  </td><td style=\"text-align: right;\">                   777</td><td style=\"text-align: right;\">1.7089e+07 </td><td style=\"text-align: right;\">                       1129</td><td style=\"text-align: right;\">        97083</td><td style=\"text-align: right;\">                 nan</td><td style=\"text-align: right;\">                    nan</td></tr>\n",
       "<tr><td style=\"text-align: right;\">    0.006 </td><td style=\"text-align: right;\">              441</td><td style=\"text-align: right;\">                   nan</td><td style=\"text-align: right;\">                  1101</td><td style=\"text-align: right;\">                       33619</td><td style=\"text-align: right;\">       1956</td><td style=\"text-align: right;\">                          1101</td><td style=\"text-align: right;\">     591.64</td><td style=\"text-align: right;\">              47853</td><td style=\"text-align: right;\">                  14234</td><td style=\"text-align: right;\">3.43408e+07</td><td style=\"text-align: right;\">               6569</td><td style=\"text-align: right;\">                 nan</td><td style=\"text-align: right;\">           3</td><td style=\"text-align: right;\">                   nan</td><td style=\"text-align: right;\">-1.1908e+08 </td><td style=\"text-align: right;\">                 nan</td><td style=\"text-align: right;\">                  nan</td><td style=\"text-align: right;\">            2</td><td style=\"text-align: right;\">                2  </td><td style=\"text-align: right;\">         26965</td><td style=\"text-align: right;\">                    nan</td><td style=\"text-align: right;\">          2  </td><td style=\"text-align: right;\">                  1101</td><td style=\"text-align: right;\">1.71004e+07</td><td style=\"text-align: right;\">                       1111</td><td style=\"text-align: right;\">        97113</td><td style=\"text-align: right;\">                 nan</td><td style=\"text-align: right;\">                    nan</td></tr>\n",
       "<tr><td style=\"text-align: right;\">   -0.0566</td><td style=\"text-align: right;\">              460</td><td style=\"text-align: right;\">                   nan</td><td style=\"text-align: right;\">                  1554</td><td style=\"text-align: right;\">                       45609</td><td style=\"text-align: right;\">       1965</td><td style=\"text-align: right;\">                          1554</td><td style=\"text-align: right;\">     682.78</td><td style=\"text-align: right;\">              62914</td><td style=\"text-align: right;\">                  17305</td><td style=\"text-align: right;\">3.43543e+07</td><td style=\"text-align: right;\">               7400</td><td style=\"text-align: right;\">                 nan</td><td style=\"text-align: right;\">           2</td><td style=\"text-align: right;\">                   nan</td><td style=\"text-align: right;\">-1.19076e+08</td><td style=\"text-align: right;\">                 nan</td><td style=\"text-align: right;\">                  nan</td><td style=\"text-align: right;\">            1</td><td style=\"text-align: right;\">                1.5</td><td style=\"text-align: right;\">         26965</td><td style=\"text-align: right;\">                    nan</td><td style=\"text-align: right;\">          1.5</td><td style=\"text-align: right;\">                  1554</td><td style=\"text-align: right;\">1.71024e+07</td><td style=\"text-align: right;\">                       1110</td><td style=\"text-align: right;\">        97113</td><td style=\"text-align: right;\">                 nan</td><td style=\"text-align: right;\">                    nan</td></tr>\n",
       "<tr><td style=\"text-align: right;\">    0.0573</td><td style=\"text-align: right;\">              665</td><td style=\"text-align: right;\">                   nan</td><td style=\"text-align: right;\">                  2415</td><td style=\"text-align: right;\">                      277000</td><td style=\"text-align: right;\">       1984</td><td style=\"text-align: right;\">                          2415</td><td style=\"text-align: right;\">    5886.92</td><td style=\"text-align: right;\">             554000</td><td style=\"text-align: right;\">                 277000</td><td style=\"text-align: right;\">3.42666e+07</td><td style=\"text-align: right;\">               6326</td><td style=\"text-align: right;\">                 nan</td><td style=\"text-align: right;\">           4</td><td style=\"text-align: right;\">                   nan</td><td style=\"text-align: right;\">-1.19165e+08</td><td style=\"text-align: right;\">                 nan</td><td style=\"text-align: right;\">                  nan</td><td style=\"text-align: right;\">            2</td><td style=\"text-align: right;\">                2.5</td><td style=\"text-align: right;\">         34543</td><td style=\"text-align: right;\">                    nan</td><td style=\"text-align: right;\">          2.5</td><td style=\"text-align: right;\">                  1305</td><td style=\"text-align: right;\">1.71096e+07</td><td style=\"text-align: right;\">                       1111</td><td style=\"text-align: right;\">        97084</td><td style=\"text-align: right;\">                 nan</td><td style=\"text-align: right;\">                    nan</td></tr>\n",
       "<tr><td style=\"text-align: right;\">    0.0564</td><td style=\"text-align: right;\">              473</td><td style=\"text-align: right;\">                   nan</td><td style=\"text-align: right;\">                  2882</td><td style=\"text-align: right;\">                      222070</td><td style=\"text-align: right;\">       1980</td><td style=\"text-align: right;\">                          2882</td><td style=\"text-align: right;\">    3110.44</td><td style=\"text-align: right;\">             289609</td><td style=\"text-align: right;\">                  67539</td><td style=\"text-align: right;\">3.424e+07  </td><td style=\"text-align: right;\">              10000</td><td style=\"text-align: right;\">                 nan</td><td style=\"text-align: right;\">           4</td><td style=\"text-align: right;\">                   nan</td><td style=\"text-align: right;\">-1.19025e+08</td><td style=\"text-align: right;\">                 nan</td><td style=\"text-align: right;\">                  nan</td><td style=\"text-align: right;\">            2</td><td style=\"text-align: right;\">                2.5</td><td style=\"text-align: right;\">         51239</td><td style=\"text-align: right;\">                    nan</td><td style=\"text-align: right;\">          2.5</td><td style=\"text-align: right;\">                  1303</td><td style=\"text-align: right;\">1.71258e+07</td><td style=\"text-align: right;\">                       1111</td><td style=\"text-align: right;\">        97089</td><td style=\"text-align: right;\">                 nan</td><td style=\"text-align: right;\">                    nan</td></tr>\n",
       "<tr><td style=\"text-align: right;\">    0.0315</td><td style=\"text-align: right;\">              467</td><td style=\"text-align: right;\">                   nan</td><td style=\"text-align: right;\">                  1772</td><td style=\"text-align: right;\">                      185000</td><td style=\"text-align: right;\">       1978</td><td style=\"text-align: right;\">                          1772</td><td style=\"text-align: right;\">    5632.2 </td><td style=\"text-align: right;\">             526000</td><td style=\"text-align: right;\">                 341000</td><td style=\"text-align: right;\">3.42268e+07</td><td style=\"text-align: right;\">               8059</td><td style=\"text-align: right;\">                 nan</td><td style=\"text-align: right;\">           3</td><td style=\"text-align: right;\">                   nan</td><td style=\"text-align: right;\">-1.1906e+08 </td><td style=\"text-align: right;\">                1045</td><td style=\"text-align: right;\">                  nan</td><td style=\"text-align: right;\">            2</td><td style=\"text-align: right;\">                2  </td><td style=\"text-align: right;\">         51239</td><td style=\"text-align: right;\">                    nan</td><td style=\"text-align: right;\">          2  </td><td style=\"text-align: right;\">                  1772</td><td style=\"text-align: right;\">1.71329e+07</td><td style=\"text-align: right;\">                       1111</td><td style=\"text-align: right;\">        97089</td><td style=\"text-align: right;\">                 nan</td><td style=\"text-align: right;\">                    nan</td></tr>\n",
       "<tr><td style=\"text-align: right;\">    0.0257</td><td style=\"text-align: right;\">              440</td><td style=\"text-align: right;\">                   nan</td><td style=\"text-align: right;\">                  2632</td><td style=\"text-align: right;\">                      342611</td><td style=\"text-align: right;\">       1971</td><td style=\"text-align: right;\">                          2632</td><td style=\"text-align: right;\">    6109.94</td><td style=\"text-align: right;\">             571086</td><td style=\"text-align: right;\">                 228475</td><td style=\"text-align: right;\">3.42298e+07</td><td style=\"text-align: right;\">               7602</td><td style=\"text-align: right;\">                 nan</td><td style=\"text-align: right;\">           5</td><td style=\"text-align: right;\">                   nan</td><td style=\"text-align: right;\">-1.1905e+08 </td><td style=\"text-align: right;\">                 180</td><td style=\"text-align: right;\">                  nan</td><td style=\"text-align: right;\">            2</td><td style=\"text-align: right;\">                2.5</td><td style=\"text-align: right;\">         51239</td><td style=\"text-align: right;\">                    nan</td><td style=\"text-align: right;\">          2.5</td><td style=\"text-align: right;\">                  1240</td><td style=\"text-align: right;\">1.71349e+07</td><td style=\"text-align: right;\">                       1111</td><td style=\"text-align: right;\">        97089</td><td style=\"text-align: right;\">                 nan</td><td style=\"text-align: right;\">                    nan</td></tr>\n",
       "<tr><td style=\"text-align: right;\">    0.002 </td><td style=\"text-align: right;\">              494</td><td style=\"text-align: right;\">                   nan</td><td style=\"text-align: right;\">                  1292</td><td style=\"text-align: right;\">                      231297</td><td style=\"text-align: right;\">       1979</td><td style=\"text-align: right;\">                          1292</td><td style=\"text-align: right;\">    5026.4 </td><td style=\"text-align: right;\">             462594</td><td style=\"text-align: right;\">                 231297</td><td style=\"text-align: right;\">3.42264e+07</td><td style=\"text-align: right;\">               7405</td><td style=\"text-align: right;\">                 nan</td><td style=\"text-align: right;\">           3</td><td style=\"text-align: right;\">                   nan</td><td style=\"text-align: right;\">-1.18984e+08</td><td style=\"text-align: right;\">                 304</td><td style=\"text-align: right;\">                  nan</td><td style=\"text-align: right;\">            2</td><td style=\"text-align: right;\">                2  </td><td style=\"text-align: right;\">         51239</td><td style=\"text-align: right;\">                    nan</td><td style=\"text-align: right;\">          2  </td><td style=\"text-align: right;\">                  1292</td><td style=\"text-align: right;\">1.714e+07  </td><td style=\"text-align: right;\">                       1111</td><td style=\"text-align: right;\">        97091</td><td style=\"text-align: right;\">                 nan</td><td style=\"text-align: right;\">                    nan</td></tr>\n",
       "<tr><td style=\"text-align: right;\">   -0.0576</td><td style=\"text-align: right;\">              253</td><td style=\"text-align: right;\">                   nan</td><td style=\"text-align: right;\">                  1385</td><td style=\"text-align: right;\">                      134251</td><td style=\"text-align: right;\">       1950</td><td style=\"text-align: right;\">                          1385</td><td style=\"text-align: right;\">    3217.06</td><td style=\"text-align: right;\">             268502</td><td style=\"text-align: right;\">                 134251</td><td style=\"text-align: right;\">3.41793e+07</td><td style=\"text-align: right;\">               6000</td><td style=\"text-align: right;\">                 nan</td><td style=\"text-align: right;\">           3</td><td style=\"text-align: right;\">                   nan</td><td style=\"text-align: right;\">-1.19169e+08</td><td style=\"text-align: right;\">                 nan</td><td style=\"text-align: right;\">                  nan</td><td style=\"text-align: right;\">            1</td><td style=\"text-align: right;\">                1  </td><td style=\"text-align: right;\">         13150</td><td style=\"text-align: right;\">                    nan</td><td style=\"text-align: right;\">          1  </td><td style=\"text-align: right;\">                   804</td><td style=\"text-align: right;\">1.71674e+07</td><td style=\"text-align: right;\">                       1111</td><td style=\"text-align: right;\">        97104</td><td style=\"text-align: right;\">                 nan</td><td style=\"text-align: right;\">                    nan</td></tr>\n",
       "</tbody>\n",
       "</table>"
      ]
     },
     "metadata": {},
     "output_type": "display_data"
    },
    {
     "data": {
      "text/plain": []
     },
     "execution_count": 292,
     "metadata": {},
     "output_type": "execute_result"
    }
   ],
   "source": [
    "hf_scrubbed.head()"
   ]
  },
  {
   "cell_type": "code",
   "execution_count": 293,
   "metadata": {
    "collapsed": true
   },
   "outputs": [],
   "source": [
    "def get_independent_variables(df, targ):\n",
    "    C = [name for name in df.columns if name != targ]\n",
    "    # determine column types\n",
    "    ints, reals, enums = [], [], []\n",
    "    for key, val in df.types.items():\n",
    "        if key in C:\n",
    "            if val == 'enum':\n",
    "                enums.append(key)\n",
    "            elif val == 'int':\n",
    "                ints.append(key)            \n",
    "            else: \n",
    "                reals.append(key)    \n",
    "    x=ints+enums+reals\n",
    "    return x"
   ]
  },
  {
   "cell_type": "code",
   "execution_count": 294,
   "metadata": {},
   "outputs": [
    {
     "name": "stdout",
     "output_type": "stream",
     "text": [
      "['parcelid', 'bedroomcnt', 'buildingqualitytypeid', 'calculatedfinishedsquarefeet', 'finishedsquarefeet12', 'fips', 'fullbathcnt', 'heatingorsystemtypeid', 'latitude', 'longitude', 'propertycountylandusecode', 'propertylandusetypeid', 'regionidcity', 'regionidcounty', 'regionidzip', 'roomcnt', 'unitcnt', 'yearbuilt', 'structuretaxvaluedollarcnt', 'taxvaluedollarcnt', 'assessmentyear', 'landtaxvaluedollarcnt', 'censustractandblock', 'airconditioningtypeid', 'architecturalstyletypeid', 'basementsqft', 'buildingclasstypeid', 'decktypeid', 'finishedfloor1squarefeet', 'finishedsquarefeet13', 'finishedsquarefeet15', 'finishedsquarefeet50', 'finishedsquarefeet6', 'fireplacecnt', 'garagecarcnt', 'garagetotalsqft', 'hashottuborspa', 'poolcnt', 'poolsizesum', 'pooltypeid10', 'pooltypeid2', 'pooltypeid7', 'propertyzoningdesc', 'regionidneighborhood', 'storytypeid', 'threequarterbathnbr', 'typeconstructiontypeid', 'yardbuildingsqft17', 'yardbuildingsqft26', 'numberofstories', 'fireplaceflag', 'taxdelinquencyflag', 'taxdelinquencyyear', 'bathroomcnt', 'calculatedbathnbr', 'lotsizesquarefeet', 'rawcensustractandblock', 'taxamount', 'transactiondate']\n",
      "59\n"
     ]
    }
   ],
   "source": [
    "X_all=get_independent_variables(train,y)\n",
    "print(X_all)\n",
    "print(len(X_all))"
   ]
  },
  {
   "cell_type": "code",
   "execution_count": 295,
   "metadata": {},
   "outputs": [
    {
     "name": "stdout",
     "output_type": "stream",
     "text": [
      "['garagetotalsqft', 'regionidneighborhood', 'finishedsquarefeet12', 'structuretaxvaluedollarcnt', 'yearbuilt', 'calculatedfinishedsquarefeet', 'taxamount', 'taxvaluedollarcnt', 'landtaxvaluedollarcnt', 'latitude', 'lotsizesquarefeet', 'propertyzoningdesc', 'bedroomcnt', 'finishedsquarefeet15', 'longitude', 'yardbuildingsqft17', 'finishedsquarefeet6', 'fullbathcnt', 'calculatedbathnbr', 'regionidcity', 'buildingqualitytypeid', 'bathroomcnt', 'finishedsquarefeet50', 'parcelid', 'propertycountylandusecode', 'regionidzip', 'taxdelinquencyyear', 'airconditioningtypeid']\n",
      "28\n"
     ]
    }
   ],
   "source": [
    "print(X)\n",
    "print(len(X))"
   ]
  },
  {
   "cell_type": "code",
   "execution_count": 296,
   "metadata": {},
   "outputs": [
    {
     "name": "stdout",
     "output_type": "stream",
     "text": [
      "AutoML progress: |████████████████████████████████████████████████████████| 100%\n"
     ]
    }
   ],
   "source": [
    "aml.train(x=X_all,y=y,training_frame=train) "
   ]
  },
  {
   "cell_type": "code",
   "execution_count": 297,
   "metadata": {},
   "outputs": [
    {
     "data": {
      "text/html": [
       "<table>\n",
       "<thead>\n",
       "<tr><th>model_id                                           </th><th style=\"text-align: right;\">  mean_residual_deviance</th><th style=\"text-align: right;\">    rmse</th><th style=\"text-align: right;\">      mse</th><th style=\"text-align: right;\">      mae</th><th style=\"text-align: right;\">  rmsle</th></tr>\n",
       "</thead>\n",
       "<tbody>\n",
       "<tr><td>StackedEnsemble_AllModels_AutoML_20190218_225558   </td><td style=\"text-align: right;\">               0.0253171</td><td style=\"text-align: right;\">0.159114</td><td style=\"text-align: right;\">0.0253171</td><td style=\"text-align: right;\">0.0682536</td><td style=\"text-align: right;\">    nan</td></tr>\n",
       "<tr><td>StackedEnsemble_BestOfFamily_AutoML_20190218_225558</td><td style=\"text-align: right;\">               0.0253171</td><td style=\"text-align: right;\">0.159114</td><td style=\"text-align: right;\">0.0253171</td><td style=\"text-align: right;\">0.0682536</td><td style=\"text-align: right;\">    nan</td></tr>\n",
       "<tr><td>XGBoost_1_AutoML_20190218_230151                   </td><td style=\"text-align: right;\">               0.0254015</td><td style=\"text-align: right;\">0.159378</td><td style=\"text-align: right;\">0.0254015</td><td style=\"text-align: right;\">0.0684061</td><td style=\"text-align: right;\">    nan</td></tr>\n",
       "<tr><td>XGBoost_1_AutoML_20190218_225558                   </td><td style=\"text-align: right;\">               0.0254222</td><td style=\"text-align: right;\">0.159444</td><td style=\"text-align: right;\">0.0254222</td><td style=\"text-align: right;\">0.0684169</td><td style=\"text-align: right;\">    nan</td></tr>\n",
       "<tr><td>XRT_1_AutoML_20190218_225558                       </td><td style=\"text-align: right;\">               0.0255347</td><td style=\"text-align: right;\">0.159796</td><td style=\"text-align: right;\">0.0255347</td><td style=\"text-align: right;\">0.06863  </td><td style=\"text-align: right;\">    nan</td></tr>\n",
       "<tr><td>XRT_1_AutoML_20190218_230151                       </td><td style=\"text-align: right;\">               0.0255681</td><td style=\"text-align: right;\">0.1599  </td><td style=\"text-align: right;\">0.0255681</td><td style=\"text-align: right;\">0.068737 </td><td style=\"text-align: right;\">    nan</td></tr>\n",
       "<tr><td>GLM_grid_1_AutoML_20190218_225558_model_1          </td><td style=\"text-align: right;\">               0.0255774</td><td style=\"text-align: right;\">0.159929</td><td style=\"text-align: right;\">0.0255774</td><td style=\"text-align: right;\">0.0681765</td><td style=\"text-align: right;\">    nan</td></tr>\n",
       "<tr><td>GLM_grid_1_AutoML_20190218_230151_model_1          </td><td style=\"text-align: right;\">               0.0255774</td><td style=\"text-align: right;\">0.159929</td><td style=\"text-align: right;\">0.0255774</td><td style=\"text-align: right;\">0.0681765</td><td style=\"text-align: right;\">    nan</td></tr>\n",
       "<tr><td>DRF_1_AutoML_20190218_225558                       </td><td style=\"text-align: right;\">               0.0257977</td><td style=\"text-align: right;\">0.160617</td><td style=\"text-align: right;\">0.0257977</td><td style=\"text-align: right;\">0.0702727</td><td style=\"text-align: right;\">    nan</td></tr>\n",
       "<tr><td>DRF_1_AutoML_20190218_230151                       </td><td style=\"text-align: right;\">               0.0259102</td><td style=\"text-align: right;\">0.160966</td><td style=\"text-align: right;\">0.0259102</td><td style=\"text-align: right;\">0.0703762</td><td style=\"text-align: right;\">    nan</td></tr>\n",
       "</tbody>\n",
       "</table>"
      ]
     },
     "metadata": {},
     "output_type": "display_data"
    },
    {
     "name": "stdout",
     "output_type": "stream",
     "text": [
      "\n"
     ]
    }
   ],
   "source": [
    "print(aml.leaderboard)"
   ]
  },
  {
   "cell_type": "code",
   "execution_count": 298,
   "metadata": {},
   "outputs": [
    {
     "name": "stdout",
     "output_type": "stream",
     "text": [
      "AutoML progress: |████████████████████████████████████████████████████████| 100%\n"
     ]
    }
   ],
   "source": [
    "aml.train(x=X,y=y,training_frame=hf_scrubbed)"
   ]
  },
  {
   "cell_type": "code",
   "execution_count": 299,
   "metadata": {},
   "outputs": [
    {
     "data": {
      "text/html": [
       "<table>\n",
       "<thead>\n",
       "<tr><th>model_id                                           </th><th style=\"text-align: right;\">  mean_residual_deviance</th><th style=\"text-align: right;\">    rmse</th><th style=\"text-align: right;\">      mse</th><th style=\"text-align: right;\">      mae</th><th style=\"text-align: right;\">  rmsle</th></tr>\n",
       "</thead>\n",
       "<tbody>\n",
       "<tr><td>StackedEnsemble_AllModels_AutoML_20190218_225558   </td><td style=\"text-align: right;\">               0.0253171</td><td style=\"text-align: right;\">0.159114</td><td style=\"text-align: right;\">0.0253171</td><td style=\"text-align: right;\">0.0682536</td><td style=\"text-align: right;\">    nan</td></tr>\n",
       "<tr><td>StackedEnsemble_BestOfFamily_AutoML_20190218_225558</td><td style=\"text-align: right;\">               0.0253171</td><td style=\"text-align: right;\">0.159114</td><td style=\"text-align: right;\">0.0253171</td><td style=\"text-align: right;\">0.0682536</td><td style=\"text-align: right;\">    nan</td></tr>\n",
       "<tr><td>XGBoost_1_AutoML_20190218_230151                   </td><td style=\"text-align: right;\">               0.0254015</td><td style=\"text-align: right;\">0.159378</td><td style=\"text-align: right;\">0.0254015</td><td style=\"text-align: right;\">0.0684061</td><td style=\"text-align: right;\">    nan</td></tr>\n",
       "<tr><td>XGBoost_1_AutoML_20190218_225558                   </td><td style=\"text-align: right;\">               0.0254222</td><td style=\"text-align: right;\">0.159444</td><td style=\"text-align: right;\">0.0254222</td><td style=\"text-align: right;\">0.0684169</td><td style=\"text-align: right;\">    nan</td></tr>\n",
       "<tr><td>XRT_1_AutoML_20190218_225558                       </td><td style=\"text-align: right;\">               0.0255347</td><td style=\"text-align: right;\">0.159796</td><td style=\"text-align: right;\">0.0255347</td><td style=\"text-align: right;\">0.06863  </td><td style=\"text-align: right;\">    nan</td></tr>\n",
       "<tr><td>XRT_1_AutoML_20190218_230151                       </td><td style=\"text-align: right;\">               0.0255681</td><td style=\"text-align: right;\">0.1599  </td><td style=\"text-align: right;\">0.0255681</td><td style=\"text-align: right;\">0.068737 </td><td style=\"text-align: right;\">    nan</td></tr>\n",
       "<tr><td>GLM_grid_1_AutoML_20190218_225558_model_1          </td><td style=\"text-align: right;\">               0.0255774</td><td style=\"text-align: right;\">0.159929</td><td style=\"text-align: right;\">0.0255774</td><td style=\"text-align: right;\">0.0681765</td><td style=\"text-align: right;\">    nan</td></tr>\n",
       "<tr><td>GLM_grid_1_AutoML_20190218_230151_model_1          </td><td style=\"text-align: right;\">               0.0255774</td><td style=\"text-align: right;\">0.159929</td><td style=\"text-align: right;\">0.0255774</td><td style=\"text-align: right;\">0.0681765</td><td style=\"text-align: right;\">    nan</td></tr>\n",
       "<tr><td>XGBoost_1_AutoML_20190218_230729                   </td><td style=\"text-align: right;\">               0.0257691</td><td style=\"text-align: right;\">0.160527</td><td style=\"text-align: right;\">0.0257691</td><td style=\"text-align: right;\">0.0686501</td><td style=\"text-align: right;\">    nan</td></tr>\n",
       "<tr><td>DRF_1_AutoML_20190218_225558                       </td><td style=\"text-align: right;\">               0.0257977</td><td style=\"text-align: right;\">0.160617</td><td style=\"text-align: right;\">0.0257977</td><td style=\"text-align: right;\">0.0702727</td><td style=\"text-align: right;\">    nan</td></tr>\n",
       "</tbody>\n",
       "</table>"
      ]
     },
     "metadata": {},
     "output_type": "display_data"
    },
    {
     "name": "stdout",
     "output_type": "stream",
     "text": [
      "\n"
     ]
    }
   ],
   "source": [
    "print(aml.leaderboard)"
   ]
  },
  {
   "cell_type": "code",
   "execution_count": 300,
   "metadata": {
    "collapsed": true
   },
   "outputs": [],
   "source": [
    "def get_scrubbed_name(p):\n",
    "  n=''\n",
    "  (data_root, data_ext) = os.path.splitext(p)\n",
    "  data_names=data_root.split('/')\n",
    "  n=data_names[-1]+'_scrubbed'+data_ext\n",
    "  return n  "
   ]
  },
  {
   "cell_type": "code",
   "execution_count": 301,
   "metadata": {},
   "outputs": [
    {
     "name": "stdout",
     "output_type": "stream",
     "text": [
      "properties_2016_scrubbed.csv\n"
     ]
    }
   ],
   "source": [
    "n=get_scrubbed_name(data_file)\n",
    "print(n)"
   ]
  },
  {
   "cell_type": "code",
   "execution_count": 302,
   "metadata": {},
   "outputs": [
    {
     "name": "stdout",
     "output_type": "stream",
     "text": [
      "Export File progress: |███████████████████████████████████████████████████| 100%\n"
     ]
    }
   ],
   "source": [
    "h2o.export_file(hf_scrubbed, n, force=True)"
   ]
  },
  {
   "cell_type": "code",
   "execution_count": 303,
   "metadata": {},
   "outputs": [
    {
     "name": "stdout",
     "output_type": "stream",
     "text": [
      "H2O session _sid_9230 closed.\n"
     ]
    }
   ],
   "source": [
    "h2o.cluster().shutdown()"
   ]
  }
 ],
 "metadata": {
  "kernelspec": {
   "display_name": "Python 3",
   "language": "python",
   "name": "python3"
  },
  "language_info": {
   "codemirror_mode": {
    "name": "ipython",
    "version": 3
   },
   "file_extension": ".py",
   "mimetype": "text/x-python",
   "name": "python",
   "nbconvert_exporter": "python",
   "pygments_lexer": "ipython3",
   "version": "3.6.5"
  }
 },
 "nbformat": 4,
 "nbformat_minor": 2
}
