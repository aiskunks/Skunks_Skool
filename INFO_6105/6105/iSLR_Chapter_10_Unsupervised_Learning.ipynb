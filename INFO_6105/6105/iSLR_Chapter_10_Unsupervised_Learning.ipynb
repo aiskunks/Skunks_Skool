{
 "cells": [
  {
   "cell_type": "markdown",
   "metadata": {},
   "source": [
    "# Chapter 10 - Unsupervised Learning"
   ]
  },
  {
   "cell_type": "markdown",
   "metadata": {},
   "source": [
    "### Unsupervised vs Supervised Learning:\n",
    "- Most of this course focuses on supervised learning methods\n",
    "such as regression and classification.\n",
    "- In that setting we observe both a set of features\n",
    "X1;X2; : : : ;Xp for each object, as well as a response or\n",
    "outcome variable Y . The goal is then to predict Y using\n",
    "X1;X2; : : : ;Xp.\n",
    "- Here we instead focus on unsupervised learning, we where\n",
    "observe only the features X1;X2; : : : ;Xp. We are not\n",
    "interested in prediction, because we do not have an\n",
    "associated response variable Y ."
   ]
  },
  {
   "cell_type": "markdown",
   "metadata": {},
   "source": [
    "### The Goals of Unsupervised Learning\n",
    "- The goal is to discover interesting things about the\n",
    "measurements: is there an informative way to visualize the\n",
    "data? Can we discover subgroups among the variables or\n",
    "among the observations?\n",
    "- We discuss two methods:\n",
    "- principal components analysis, a tool used for data\n",
    "visualization or data pre-processing before supervised\n",
    "techniques are applied, and\n",
    "- Clustering, a broad class of methods for discovering\n",
    "unknown subgroups in data."
   ]
  },
  {
   "cell_type": "markdown",
   "metadata": {},
   "source": [
    "### The Challenge of Unsupervised Learning\n",
    "- Unsupervised learning is more subjective than supervised\n",
    "learning, as there is no simple goal for the analysis, such as\n",
    "prediction of a response.\n",
    "- But techniques for unsupervised learning are of growing\n",
    "importance in a number of fields:\n",
    "    - subgroups of breast cancer patients grouped by their gene\n",
    "        expression measurements,\n",
    "    - groups of shoppers characterized by their browsing and\n",
    "        purchase histories,\n",
    "    - movies grouped by the ratings assigned by movie viewers.\n",
    "- It is often easier to obtain unlabeled data | from a lab\n",
    "instrument or a computer | than labeled data, which can\n",
    "require human intervention.\n",
    "- For example it is difficult to automatically assess the\n",
    "overall sentiment of a movie review: is it favorable or not?"
   ]
  },
  {
   "cell_type": "markdown",
   "metadata": {},
   "source": [
    "### Principal Components Analysis\n",
    "- PCA produces a low-dimensional representation of a\n",
    "dataset. It finds a sequence of linear combinations of the\n",
    "variables that have maximal variance, and are mutually\n",
    "uncorrelated.\n",
    "- Apart from producing derived variables for use in\n",
    "supervised learning problems, PCA also serves as a tool for\n",
    "data visualization."
   ]
  },
  {
   "cell_type": "markdown",
   "metadata": {},
   "source": [
    "### Principal Components Analysis: details\n",
    "The first principal component of a set of features $X_{1}, X_{2}, \\ldots, X_{p}$ is the normalized linear combination of the features\n",
    "$$\n",
    "Z_{1}=\\phi_{11} X_{1}+\\phi_{21} X_{2}+\\ldots+\\phi_{p 1} X_{p}\n",
    "$$\n",
    "that has the largest variance. By normalized, we mean that $\\sum_{j=1}^{p} \\phi_{j 1}^{2}=1$\n",
    "- We refer to the elements $\\phi_{11}, \\ldots, \\phi_{p 1}$ as the loadings of the first principal component; together, the loadings make up the principal component loading vector, $\\phi_{1}=\\left(\\phi_{11} \\phi_{21} \\ldots \\phi_{p 1}\\right)^{T}$\n",
    "- We constrain the loadings so that their sum of squares is equal to one, since otherwise setting these elements to be arbitrarily large in absolute value could result in an arbitrarily large variance."
   ]
  },
  {
   "cell_type": "markdown",
   "metadata": {},
   "source": [
    "### Computation of Principal Components\n",
    "- Suppose we have a $n \\times p$ data set X. since we are only interested in variance, we assume that each of the variables in X has been centered to have mean zero (that is, the column means of $X$ are zero).\n",
    "- We then look for the linear combination of the sample feature values of the form\n",
    "$$\n",
    "z_{i 1}=\\phi_{11} x_{i 1}+\\phi_{21} x_{i 2}+\\ldots+\\phi_{p 1} x_{i p}\n",
    "$$\n",
    "for $i=1, \\ldots, n$ that has largest sample variance, subject to the constraint that $\\sum_{j=1}^{p} \\phi_{j 1}^{2}=1$\n",
    "- Since each of the $x_{i j}$ has mean zero, then so does $z_{i 1}$ (for any values of $\\phi_{j 1}$ ). Hence the sample variance of the $z_{i 1}$ can be written as $\\frac{1}{n} \\sum_{i=1}^{n} z_{i 1}^{2}$\n",
    "- Plugging in (1) the first principal component loading vector solves the optimization problem\n",
    "$$\n",
    "\\underset{\\phi_{11}, \\ldots, \\phi_{p 1}}{\\operatorname{maximize}} \\frac{1}{n} \\sum_{i=1}^{n}\\left(\\sum_{j=1}^{p} \\phi_{j 1} x_{i j}\\right)^{2} \\text { subject to } \\sum_{j=1}^{p} \\phi_{j 1}^{2}=1\n",
    "$$\n",
    "- This problem can be solved via a singular-value decomposition of the matrix $\\mathrm{X}$, a standard technique in linear algebra.\n",
    "- We refer to $Z_{1}$ as the first principal component, with realized values $z_{11}, \\ldots, z_{n 1}$"
   ]
  },
  {
   "cell_type": "markdown",
   "metadata": {},
   "source": [
    "### USArrests Data\n",
    "- USAarrests data: For each of the fifty states in the United\n",
    "States, the data set contains the number of arrests per\n",
    "100; 000 residents for each of three crimes: Assault, Murder,\n",
    "and Rape. We also record UrbanPop (the percent of the\n",
    "population in each state living in urban areas).\n",
    "- The principal component score vectors have length n = 50,\n",
    "and the principal component loading vectors have length\n",
    "p = 4.\n",
    "- PCA was performed after standardizing each variable to\n",
    "have mean zero and standard deviation one."
   ]
  },
  {
   "cell_type": "code",
   "execution_count": 2,
   "metadata": {},
   "outputs": [],
   "source": [
    "import pandas as pd\n",
    "import numpy as np\n",
    "import matplotlib as mpl\n",
    "import matplotlib.pyplot as plt\n",
    "import seaborn as sns\n",
    "\n",
    "from sklearn.model_selection import train_test_split, cross_val_score\n",
    "from sklearn.model_selection import GridSearchCV\n",
    "\n",
    "from sklearn.preprocessing import StandardScaler\n",
    "from sklearn.pipeline import make_pipeline\n",
    "\n",
    "\n",
    "from sklearn.decomposition import PCA\n",
    "from sklearn.cluster import KMeans, AgglomerativeClustering\n",
    "from scipy.cluster.hierarchy import dendrogram\n",
    "from sklearn.metrics.pairwise import pairwise_distances\n",
    "\n",
    "%matplotlib inline\n",
    "plt.style.use('seaborn-white')"
   ]
  },
  {
   "cell_type": "code",
   "execution_count": 4,
   "metadata": {},
   "outputs": [
    {
     "data": {
      "text/html": [
       "<div>\n",
       "<style scoped>\n",
       "    .dataframe tbody tr th:only-of-type {\n",
       "        vertical-align: middle;\n",
       "    }\n",
       "\n",
       "    .dataframe tbody tr th {\n",
       "        vertical-align: top;\n",
       "    }\n",
       "\n",
       "    .dataframe thead th {\n",
       "        text-align: right;\n",
       "    }\n",
       "</style>\n",
       "<table border=\"1\" class=\"dataframe\">\n",
       "  <thead>\n",
       "    <tr style=\"text-align: right;\">\n",
       "      <th></th>\n",
       "      <th>Murder</th>\n",
       "      <th>Assault</th>\n",
       "      <th>UrbanPop</th>\n",
       "      <th>Rape</th>\n",
       "    </tr>\n",
       "  </thead>\n",
       "  <tbody>\n",
       "    <tr>\n",
       "      <th>Alabama</th>\n",
       "      <td>13.2</td>\n",
       "      <td>236</td>\n",
       "      <td>58</td>\n",
       "      <td>21.2</td>\n",
       "    </tr>\n",
       "    <tr>\n",
       "      <th>Alaska</th>\n",
       "      <td>10.0</td>\n",
       "      <td>263</td>\n",
       "      <td>48</td>\n",
       "      <td>44.5</td>\n",
       "    </tr>\n",
       "    <tr>\n",
       "      <th>Arizona</th>\n",
       "      <td>8.1</td>\n",
       "      <td>294</td>\n",
       "      <td>80</td>\n",
       "      <td>31.0</td>\n",
       "    </tr>\n",
       "    <tr>\n",
       "      <th>Arkansas</th>\n",
       "      <td>8.8</td>\n",
       "      <td>190</td>\n",
       "      <td>50</td>\n",
       "      <td>19.5</td>\n",
       "    </tr>\n",
       "    <tr>\n",
       "      <th>California</th>\n",
       "      <td>9.0</td>\n",
       "      <td>276</td>\n",
       "      <td>91</td>\n",
       "      <td>40.6</td>\n",
       "    </tr>\n",
       "  </tbody>\n",
       "</table>\n",
       "</div>"
      ],
      "text/plain": [
       "            Murder  Assault  UrbanPop  Rape\n",
       "Alabama       13.2      236        58  21.2\n",
       "Alaska        10.0      263        48  44.5\n",
       "Arizona        8.1      294        80  31.0\n",
       "Arkansas       8.8      190        50  19.5\n",
       "California     9.0      276        91  40.6"
      ]
     },
     "execution_count": 4,
     "metadata": {},
     "output_type": "execute_result"
    }
   ],
   "source": [
    "df_heart = pd.read_csv('data/usarrests.csv', index_col=0).dropna()\n",
    "df_heart.head()"
   ]
  },
  {
   "cell_type": "code",
   "execution_count": 5,
   "metadata": {},
   "outputs": [],
   "source": [
    "X = df_heart.values\n",
    "scaled_pca = make_pipeline(StandardScaler(), PCA(n_components=2, whiten=False))\n",
    "pca = scaled_pca.named_steps['pca']\n",
    "pcaX = scaled_pca.fit_transform(X)\n",
    "pcaX = pcaX[:,:2]"
   ]
  },
  {
   "cell_type": "code",
   "execution_count": 6,
   "metadata": {},
   "outputs": [
    {
     "data": {
      "image/png": "[encoded data removed]",
      "text/plain": [
       "<Figure size 576x576 with 1 Axes>"
      ]
     },
     "metadata": {
      "needs_background": "light"
     },
     "output_type": "display_data"
    }
   ],
   "source": [
    "# the second pca component is inverted so the plot matches the book\n",
    "# the original features as a function of the principal components have been scaled by 2 so they can be seen easier\n",
    "\n",
    "fig, ax = plt.subplots(figsize=(8,8))\n",
    "\n",
    "ax.scatter(pcaX[:, 0], pcaX[:, 1], s=0)\n",
    "ax.set_xlabel('1st PC')\n",
    "ax.set_ylabel('2nd PC')\n",
    "\n",
    "for i, txt in enumerate(df_heart.index):\n",
    "    ax.annotate(txt, (pcaX[i, 0], -pcaX[i, 1]), horizontalalignment='center', verticalalignment='center', color='b')\n",
    "    \n",
    "components = pca.components_\n",
    "for i, col in enumerate(df_heart.columns.tolist()):\n",
    "    ax.annotate('', xy=(2*components[0, i], -2*components[1, i]), xytext=(0, 0), arrowprops=dict(arrowstyle=\"->\", ec=\"orange\"))\n",
    "    ax.text(2*components[0, i], -2*components[1, i], col, size=15, color='orange')\n",
    "    \n",
    "ax.set_ylim(ax.get_xlim());"
   ]
  },
  {
   "cell_type": "markdown",
   "metadata": {},
   "source": [
    "#### Figure details\n",
    "The first two principal components for the USArrests data.\n",
    "- The blue state names represent the scores for the first two\n",
    "principal components.\n",
    "- The orange arrows indicate the first two principal\n",
    "component loading vectors (with axes on the top and\n",
    "right). For example, the loading for Rape on the first\n",
    "component is 0:54, and its loading on the second principal\n",
    "component 0:17 [the word Rape is centered at the point\n",
    "(0:54; 0:17)].\n",
    "- This figure is known as a biplot, because it displays both\n",
    "the principal component scores and the principal\n",
    "component loadings."
   ]
  },
  {
   "cell_type": "markdown",
   "metadata": {},
   "source": [
    "### Proportion Variance Explained\n",
    "- To understand the strength of each component, we are interested in knowing the proportion of variance explained (PVE) by each one.\n",
    "- The total variance present in a data set (assuming that the variables have been centered to have mean zero) is defined\n",
    "as\n",
    "$$\n",
    "\\sum_{j=1}^{p} \\operatorname{Var}\\left(X_{j}\\right)=\\sum_{j=1}^{p} \\frac{1}{n} \\sum_{i=1}^{n} x_{i j}^{2}\n",
    "$$\n",
    "and the variance explained by the $m$ th principal component is\n",
    "$$\n",
    "\\operatorname{Var}\\left(Z_{m}\\right)=\\frac{1}{n} \\sum_{i=1}^{n} z_{i m}^{2}\n",
    "$$\n",
    "- It can be shown that $\\sum_{j=1}^{p} \\operatorname{Var}\\left(X_{j}\\right)=\\sum_{m=1}^{M} \\operatorname{Var}\\left(Z_{m}\\right)$\n",
    "with $M=\\min (n-1, p)$\n",
    "- Therefore, the PVE of the $m$ th principal component is given by the positive quantity between 0 and 1\n",
    "$\\frac{\\sum_{i=1}^{n} z_{i m}^{2}}{\\sum_{j=1}^{p=1} \\sum_{i=1} x_{i j}^{2}}$\n",
    "- The PVEs sum to one. We sometimes display the cumulative PVEs."
   ]
  },
  {
   "cell_type": "code",
   "execution_count": 7,
   "metadata": {},
   "outputs": [
    {
     "data": {
      "text/plain": [
       "Pipeline(memory=None,\n",
       "         steps=[('standardscaler',\n",
       "                 StandardScaler(copy=True, with_mean=True, with_std=True)),\n",
       "                ('pca',\n",
       "                 PCA(copy=True, iterated_power='auto', n_components=None,\n",
       "                     random_state=None, svd_solver='auto', tol=0.0,\n",
       "                     whiten=False))],\n",
       "         verbose=False)"
      ]
     },
     "execution_count": 7,
     "metadata": {},
     "output_type": "execute_result"
    }
   ],
   "source": [
    "scaled_pca = make_pipeline(StandardScaler(), PCA())\n",
    "pca = scaled_pca.named_steps['pca']\n",
    "scaled_pca.fit(X)"
   ]
  },
  {
   "cell_type": "code",
   "execution_count": 8,
   "metadata": {},
   "outputs": [
    {
     "data": {
      "image/png": "[encoded data removed]",
      "text/plain": [
       "<Figure size 720x288 with 2 Axes>"
      ]
     },
     "metadata": {
      "needs_background": "light"
     },
     "output_type": "display_data"
    }
   ],
   "source": [
    "fig, (ax1, ax2) = plt.subplots(1, 2, figsize=(10,4))\n",
    "\n",
    "ax1.plot(range(0, pca.n_components_), pca.explained_variance_ratio_, '.-')\n",
    "ax1.set_ylabel('Prop. Variance Explained')\n",
    "\n",
    "ax2.plot(range(0, pca.n_components_), np.cumsum(pca.explained_variance_ratio_), '.-')\n",
    "ax2.set_ylabel('Cumulative Prop. Variance Explained')\n",
    "\n",
    "for ax in (ax1, ax2):\n",
    "    ax.set_ylim(bottom=-0.05, top=1.05)\n",
    "    ax.get_xaxis().set_major_locator(mpl.ticker.MaxNLocator(integer=True))\n",
    "    ax.set_xlabel('Principal Component')"
   ]
  },
  {
   "cell_type": "markdown",
   "metadata": {},
   "source": [
    "### How many principal components should we use?\n",
    "If we use principal components as a summary of our data, how\n",
    "many components are sufficient?\n",
    "- No simple answer to this question, as cross-validation is not\n",
    "available for this purpose.\n",
    "    - Why not?\n",
    "    - When could we use cross-validation to select the number of\n",
    "components?\n",
    "- the \"screen plot\" on the previous slide can be used as a\n",
    "guide: we look for an \"elbow\"."
   ]
  },
  {
   "cell_type": "markdown",
   "metadata": {},
   "source": [
    "### Clustering\n",
    "- Clustering refers to a very broad set of techniques for\n",
    "finding subgroups, or clusters, in a data set.\n",
    "- We seek a partition of the data into distinct groups so that\n",
    "the observations within each group are quite similar to\n",
    "each other,\n",
    "- It make this concrete, we must define what it means for\n",
    "two or more observations to be similar or diffierent.\n",
    "- Indeed, this is often a domain-specific consideration that\n",
    "must be made based on knowledge of the data being\n",
    "studied."
   ]
  },
  {
   "cell_type": "markdown",
   "metadata": {},
   "source": [
    "### PCA vs Clustering\n",
    "- PCA looks for a low-dimensional representation of the\n",
    "observations that explains a good fraction of the variance.\n",
    "- Clustering looks for homogeneous subgroups among the\n",
    "observations."
   ]
  },
  {
   "cell_type": "markdown",
   "metadata": {},
   "source": [
    "### Clustering for Market Segmentation\n",
    "- Suppose we have access to a large number of measurements\n",
    "(e.g. median household income, occupation, distance from\n",
    "nearest urban area, and so forth) for a large number of\n",
    "people.\n",
    "- Our goal is to perform market segmentation by identifying\n",
    "subgroups of people who might be more receptive to a\n",
    "particular form of advertising, or more likely to purchase a\n",
    "particular product.\n",
    "- The task of performing market segmentation amounts to\n",
    "clustering the people in the data set."
   ]
  },
  {
   "cell_type": "markdown",
   "metadata": {},
   "source": [
    "### Two clustering methods\n",
    "- In K-means clustering, we seek to partition the\n",
    "observations into a pre-specified number of clusters.\n",
    "- In hierarchical clustering, we do not know in advance how\n",
    "many clusters we want; in fact, we end up with a tree-like\n",
    "visual representation of the observations, called a\n",
    "dendrogram, that allows us to view at once the clusterings\n",
    "obtained for each possible number of clusters, from 1 to n."
   ]
  },
  {
   "cell_type": "markdown",
   "metadata": {},
   "source": [
    "### Details of K-means clustering\n",
    "Let $C_{1}, \\ldots, C_{K}$ denote sets containing the indices of the observations in each cluster. These sets satisfy two properties:\n",
    "1. $C_{1} \\cup C_{2} \\cup \\ldots \\cup C_{K}=\\{1, \\ldots, n\\} .$ In other words, each observation belongs to at least one of the $K$ clusters.\n",
    "2. $C_{k} \\cap C_{k^{\\prime}}=\\emptyset$ for all $k \\neq k^{\\prime} .$ In other words, the clusters are non-overlapping: no observation belongs to more than one cluster.\n",
    "\n",
    "For instance, if the $i$ th observation is in the $k$ th cluster, then $i \\in C_{k}$\n",
    "\n",
    "- The idea behind $K$ -means clustering is that a good clustering is one for which the within-cluster variation is as small as possible.\n",
    "- The within-cluster variation for cluster $C_{k}$ is a measure $\\mathrm{WCV}\\left(C_{k}\\right)$ of the amount by which the observations within a cluster differ from each other.\n",
    "- Hence we want to solve the problem\n",
    "$$\n",
    "\\underset{C_{1}, \\ldots, C_{K}}{\\operatorname{minimize}}\\left\\{\\sum_{k=1}^{K} \\mathrm{WCV}\\left(C_{k}\\right)\\right\\}\n",
    "$$\n",
    "In words, this formula says that we want to partition the observations into $K$ clusters such that the total within-cluster variation, summed over all $K$ clusters, is as small as possible."
   ]
  },
  {
   "cell_type": "markdown",
   "metadata": {},
   "source": [
    "### K-Means Clustering Algorithm\n",
    "1. Randomly assign a number, from 1 to K, to each of the\n",
    "observations. These serve as initial cluster assignments for\n",
    "the observations.\n",
    "2. Iterate until the cluster assignments stop changing:\n",
    "    2.1 For each of the K clusters, compute the cluster centroid.\n",
    "    The kth cluster centroid is the vector of the p feature means\n",
    "    for the observations in the kth cluster.\n",
    "    2.2 Assign each observation to the cluster whose centroid is\n",
    "    closest (where closest is de\f",
    "ned using Euclidean distance)."
   ]
  },
  {
   "cell_type": "markdown",
   "metadata": {},
   "source": [
    "### Hierarchical Clustering\n",
    "- K-means clustering requires us to pre-specify the number\n",
    "of clusters K. This can be a disadvantage (later we discuss\n",
    "strategies for choosing K)\n",
    "- Hierarchical clustering is an alternative approach which\n",
    "does not require that we commit to a particular choice of\n",
    "K.\n",
    "- In this section, we describe bottom-up or agglomerative\n",
    "clustering. This is the most common type of hierarchical\n",
    "clustering, and refers to the fact that a dendrogram is built\n",
    "starting from the leaves and combining clusters up to the\n",
    "trunk."
   ]
  },
  {
   "cell_type": "markdown",
   "metadata": {},
   "source": [
    "### Hierarchical Clustering Algorithm\n",
    "The approach in words:\n",
    "- Start with each point in its own cluster.\n",
    "- Identify the closest two clusters and merge them.\n",
    "- Repeat.\n",
    "- Ends when all points are in a single cluster."
   ]
  },
  {
   "cell_type": "code",
   "execution_count": 9,
   "metadata": {},
   "outputs": [
    {
     "data": {
      "image/png": "[encoded data removed]",
      "text/plain": [
       "<Figure size 1080x288 with 3 Axes>"
      ]
     },
     "metadata": {
      "needs_background": "light"
     },
     "output_type": "display_data"
    }
   ],
   "source": [
    "agg_complete = AgglomerativeClustering(affinity='euclidean', linkage='complete').fit(X)\n",
    "agg_average = AgglomerativeClustering(affinity='euclidean', linkage='average').fit(X)\n",
    "agg_ward = AgglomerativeClustering(affinity='euclidean', linkage='ward').fit(X)\n",
    "def plot_dendrogram(model, labels=None, **kwargs):\n",
    "    # Children of hierarchical clustering\n",
    "    children = model.children_\n",
    "\n",
    "    # Distances between each pair of children\n",
    "    # Since we don't have this information, we can use a uniform one for plotting\n",
    "    distance = np.arange(children.shape[0])\n",
    "\n",
    "    # The number of observations contained in each cluster level\n",
    "    no_of_observations = np.arange(2, children.shape[0]+2)\n",
    "\n",
    "    # Create linkage matrix and then plot the dendrogram\n",
    "    linkage_matrix = np.column_stack([children, distance, no_of_observations]).astype(float)\n",
    "    \n",
    "    if labels is None:\n",
    "        labels = model.labels_\n",
    "    else:\n",
    "        labels = [f'{lab1}_{lab2}' for lab1, lab2 in zip(model.labels_, labels)]\n",
    "\n",
    "    # Plot the corresponding dendrogram\n",
    "    dendrogram(linkage_matrix, labels=labels, **kwargs)\n",
    "fig, (ax1, ax2, ax3) = plt.subplots(1, 3, figsize=(15,4))\n",
    "\n",
    "color_threshold = 48\n",
    "\n",
    "ax1.set_title('Complete linkage')\n",
    "ax2.set_title('Average linkage')\n",
    "ax3.set_title('Ward linkage')\n",
    "\n",
    "plot_dendrogram(agg_complete, color_threshold=color_threshold, ax=ax1)\n",
    "plot_dendrogram(agg_average, color_threshold=color_threshold, ax=ax2)\n",
    "plot_dendrogram(agg_ward, color_threshold=color_threshold, ax=ax3)"
   ]
  },
  {
   "cell_type": "markdown",
   "metadata": {},
   "source": [
    "### Details of previous figure\n",
    "- Left: Dendrogram obtained from hierarchically clustering\n",
    "the data from previous slide, with complete linkage and\n",
    "Euclidean distance.\n",
    "- Center: The dendrogram from the left-hand panel, cut at a\n",
    "height of 9 (indicated by the dashed line). This cut results\n",
    "in two distinct clusters, shown in different colors.\n",
    "- Right: The dendrogram from the left-hand panel, now cut\n",
    "at a height of 5. This cut results in three distinct clusters,\n",
    "shown in different colors. Note that the colors were not\n",
    "used in clustering, but are simply used for display purposes\n",
    "in this figure"
   ]
  },
  {
   "cell_type": "markdown",
   "metadata": {},
   "source": [
    "### Summary\n",
    "- Unsupervised learning is important for understanding the\n",
    "variation and grouping structure of a set of unlabeled data,\n",
    "and can be a useful pre-processor for supervised learning\n",
    "- It is intrinsically more difficult than supervised learning\n",
    "because there is no gold standard (like an outcome\n",
    "variable) and no single objective (like test set accuracy)\n",
    "- It is an active field of research, with many recently\n",
    "developed tools such as self-organizing maps, independent\n",
    "components analysis and spectral clustering."
   ]
  },
  {
   "cell_type": "markdown",
   "metadata": {},
   "source": [
    "### End of Chapter  10"
   ]
  }
 ],
 "metadata": {
  "kernelspec": {
   "display_name": "Python 3",
   "language": "python",
   "name": "python3"
  },
  "language_info": {
   "codemirror_mode": {
    "name": "ipython",
    "version": 3
   },
   "file_extension": ".py",
   "mimetype": "text/x-python",
   "name": "python",
   "nbconvert_exporter": "python",
   "pygments_lexer": "ipython3",
   "version": "3.6.7"
  }
 },
 "nbformat": 4,
 "nbformat_minor": 2
}
