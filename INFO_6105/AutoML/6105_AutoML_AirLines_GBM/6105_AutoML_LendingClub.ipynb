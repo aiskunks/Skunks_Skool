{
 "cells": [
  {
   "cell_type": "markdown",
   "metadata": {},
   "source": [
    "# Lending Club Analysis Using AutoML"
   ]
  },
  {
   "cell_type": "code",
   "execution_count": 1,
   "metadata": {},
   "outputs": [],
   "source": [
    "import h2o\n",
    "from h2o.automl import H2OAutoML\n",
    "import random, os, sys\n",
    "from datetime import datetime\n",
    "import pandas as pd\n",
    "import logging\n",
    "import csv\n",
    "import optparse\n",
    "import time\n",
    "import json\n",
    "from distutils.util import strtobool\n",
    "import psutil\n",
    "import numpy as np"
   ]
  },
  {
   "cell_type": "code",
   "execution_count": 2,
   "metadata": {},
   "outputs": [],
   "source": [
    "target='bad_loan'\n",
    "min_mem_size=6 \n",
    "run_time=222"
   ]
  },
  {
   "cell_type": "code",
   "execution_count": 3,
   "metadata": {},
   "outputs": [
    {
     "name": "stdout",
     "output_type": "stream",
     "text": [
      "3\n"
     ]
    }
   ],
   "source": [
    "pct_memory=0.5\n",
    "virtual_memory=psutil.virtual_memory()\n",
    "min_mem_size=int(round(int(pct_memory*virtual_memory.available)/1073741824,0))\n",
    "print(min_mem_size)"
   ]
  },
  {
   "cell_type": "code",
   "execution_count": 4,
   "metadata": {},
   "outputs": [
    {
     "name": "stdout",
     "output_type": "stream",
     "text": [
      "Checking whether there is an H2O instance running at http://localhost:23963 ..... not found.\n",
      "Attempting to start a local H2O server...\n",
      "; Java HotSpot(TM) 64-Bit Server VM (build 19.0.1+10-21, mixed mode, sharing)\n",
      "  Starting server from C:\\Users\\HP\\anaconda3\\Lib\\site-packages\\h2o\\backend\\bin\\h2o.jar\n",
      "  Ice root: C:\\Users\\HP\\AppData\\Local\\Temp\\tmp88f2mych\n",
      "  JVM stdout: C:\\Users\\HP\\AppData\\Local\\Temp\\tmp88f2mych\\h2o_HP_started_from_python.out\n",
      "  JVM stderr: C:\\Users\\HP\\AppData\\Local\\Temp\\tmp88f2mych\\h2o_HP_started_from_python.err\n",
      "  Server is running at http://127.0.0.1:23963\n",
      "Connecting to H2O server at http://127.0.0.1:23963 ... successful.\n"
     ]
    },
    {
     "data": {
      "text/html": [
       "\n",
       "<style>\n",
       "\n",
       "#h2o-table-1.h2o-container {\n",
       "  overflow-x: auto;\n",
       "}\n",
       "#h2o-table-1 .h2o-table {\n",
       "  /* width: 100%; */\n",
       "  margin-top: 1em;\n",
       "  margin-bottom: 1em;\n",
       "}\n",
       "#h2o-table-1 .h2o-table caption {\n",
       "  white-space: nowrap;\n",
       "  caption-side: top;\n",
       "  text-align: left;\n",
       "  /* margin-left: 1em; */\n",
       "  margin: 0;\n",
       "  font-size: larger;\n",
       "}\n",
       "#h2o-table-1 .h2o-table thead {\n",
       "  white-space: nowrap; \n",
       "  position: sticky;\n",
       "  top: 0;\n",
       "  box-shadow: 0 -1px inset;\n",
       "}\n",
       "#h2o-table-1 .h2o-table tbody {\n",
       "  overflow: auto;\n",
       "}\n",
       "#h2o-table-1 .h2o-table th,\n",
       "#h2o-table-1 .h2o-table td {\n",
       "  text-align: right;\n",
       "  /* border: 1px solid; */\n",
       "}\n",
       "#h2o-table-1 .h2o-table tr:nth-child(even) {\n",
       "  /* background: #F5F5F5 */\n",
       "}\n",
       "\n",
       "</style>      \n",
       "<div id=\"h2o-table-1\" class=\"h2o-container\">\n",
       "  <table class=\"h2o-table\">\n",
       "    <caption></caption>\n",
       "    <thead></thead>\n",
       "    <tbody><tr><td>H2O_cluster_uptime:</td>\n",
       "<td>01 secs</td></tr>\n",
       "<tr><td>H2O_cluster_timezone:</td>\n",
       "<td>America/New_York</td></tr>\n",
       "<tr><td>H2O_data_parsing_timezone:</td>\n",
       "<td>UTC</td></tr>\n",
       "<tr><td>H2O_cluster_version:</td>\n",
       "<td>3.38.0.2</td></tr>\n",
       "<tr><td>H2O_cluster_version_age:</td>\n",
       "<td>15 days </td></tr>\n",
       "<tr><td>H2O_cluster_name:</td>\n",
       "<td>H2O_from_python_HP_ng2cpa</td></tr>\n",
       "<tr><td>H2O_cluster_total_nodes:</td>\n",
       "<td>1</td></tr>\n",
       "<tr><td>H2O_cluster_free_memory:</td>\n",
       "<td>3.939 Gb</td></tr>\n",
       "<tr><td>H2O_cluster_total_cores:</td>\n",
       "<td>8</td></tr>\n",
       "<tr><td>H2O_cluster_allowed_cores:</td>\n",
       "<td>8</td></tr>\n",
       "<tr><td>H2O_cluster_status:</td>\n",
       "<td>locked, healthy</td></tr>\n",
       "<tr><td>H2O_connection_url:</td>\n",
       "<td>http://127.0.0.1:23963</td></tr>\n",
       "<tr><td>H2O_connection_proxy:</td>\n",
       "<td>{\"http\": null, \"https\": null}</td></tr>\n",
       "<tr><td>H2O_internal_security:</td>\n",
       "<td>False</td></tr>\n",
       "<tr><td>Python_version:</td>\n",
       "<td>3.9.13 final</td></tr></tbody>\n",
       "  </table>\n",
       "</div>\n"
      ],
      "text/plain": [
       "--------------------------  -----------------------------\n",
       "H2O_cluster_uptime:         01 secs\n",
       "H2O_cluster_timezone:       America/New_York\n",
       "H2O_data_parsing_timezone:  UTC\n",
       "H2O_cluster_version:        3.38.0.2\n",
       "H2O_cluster_version_age:    15 days\n",
       "H2O_cluster_name:           H2O_from_python_HP_ng2cpa\n",
       "H2O_cluster_total_nodes:    1\n",
       "H2O_cluster_free_memory:    3.939 Gb\n",
       "H2O_cluster_total_cores:    8\n",
       "H2O_cluster_allowed_cores:  8\n",
       "H2O_cluster_status:         locked, healthy\n",
       "H2O_connection_url:         http://127.0.0.1:23963\n",
       "H2O_connection_proxy:       {\"http\": null, \"https\": null}\n",
       "H2O_internal_security:      False\n",
       "Python_version:             3.9.13 final\n",
       "--------------------------  -----------------------------"
      ]
     },
     "metadata": {},
     "output_type": "display_data"
    }
   ],
   "source": [
    "# 65535 Highest port no\n",
    "port_no=random.randint(5555,55555)\n",
    "\n",
    "#  h2o.init(strict_version_check=False,min_mem_size_GB=min_mem_size,port=port_no) # start h2o\n",
    "try:\n",
    "  h2o.init(strict_version_check=False,min_mem_size_GB=min_mem_size,port=port_no) # start h2o\n",
    "except:\n",
    "  logging.critical('h2o.init')\n",
    "  h2o.download_all_logs(dirname=logs_path, filename=logfile)      \n",
    "  h2o.cluster().shutdown()\n",
    "  sys.exit(2)"
   ]
  },
  {
   "cell_type": "markdown",
   "metadata": {},
   "source": [
    "## Import data and Manage Data Types\n",
    "\n",
    "This exploration of H2O will use a version of the Lending Club Loan Data that can be found on [Kaggle](https://www.kaggle.com/wendykan/lending-club-loan-data). This data consists of 15 variables:\n",
    "\n",
    "|     | Column Name | Description |\n",
    "| --- | ----------- | ----------- |\n",
    "|   1 | loan_amnt   | Requested loan amount (US dollars) |\n",
    "|   2 | term        | Loan term length (months) |\n",
    "|   3 | int_rate    | Recommended interest rate |\n",
    "|   4 | emp_length  | Employment length (years) |\n",
    "|   5 | home_ownership| Housing status |\n",
    "|   6 | annual_inc  | Annual income (US dollars) |\n",
    "|   7 | purpose     | Purpose for the loan |\n",
    "|   8 | addr_state  | State of residence |\n",
    "|   9 | dti         | Debt to income ratio |\n",
    "|  10 | delinq_2yrs | Number of delinquencies in the past 2 years |\n",
    "|  11 | revol_util  | Percent of revolving credit line utilized |\n",
    "|  12 | total_acc   | Number of active accounts |\n",
    "|  13 | bad_loan    | Bad loan indicator |\n",
    "|  14 | longest_credit_length | Age of oldest active account |\n",
    "|  15 | verification_status | Income verification status |"
   ]
  },
  {
   "cell_type": "code",
   "execution_count": 5,
   "metadata": {},
   "outputs": [
    {
     "name": "stdout",
     "output_type": "stream",
     "text": [
      "Parse progress: |████████████████████████████████████████████████████████████████| (done) 100%\n"
     ]
    }
   ],
   "source": [
    "df = h2o.import_file( 'https://raw.githubusercontent.com/h2oai/h2o-tutorials/master/training/data/loan.csv' )\n"
   ]
  },
  {
   "cell_type": "code",
   "execution_count": 6,
   "metadata": {},
   "outputs": [
    {
     "data": {
      "text/html": [
       "<pre style='margin: 1em 0 1em 0;'>Rows:163987\n",
       "Cols:15\n",
       "</pre>"
      ],
      "text/plain": [
       "Rows:163987\n",
       "Cols:15\n"
      ]
     },
     "metadata": {},
     "output_type": "display_data"
    },
    {
     "data": {
      "text/html": [
       "<table class='dataframe'>\n",
       "<thead>\n",
       "<tr><th>       </th><th>loan_amnt         </th><th>term     </th><th>int_rate          </th><th>emp_length        </th><th>home_ownership  </th><th>annual_inc        </th><th>purpose           </th><th>addr_state  </th><th>dti               </th><th>delinq_2yrs       </th><th>revol_util        </th><th>total_acc         </th><th>bad_loan          </th><th>longest_credit_length  </th><th>verification_status  </th></tr>\n",
       "</thead>\n",
       "<tbody>\n",
       "<tr><td>type   </td><td>int               </td><td>enum     </td><td>real              </td><td>int               </td><td>enum            </td><td>real              </td><td>enum              </td><td>enum        </td><td>real              </td><td>int               </td><td>real              </td><td>int               </td><td>int               </td><td>int                    </td><td>enum                 </td></tr>\n",
       "<tr><td>mins   </td><td>500.0             </td><td>         </td><td>5.42              </td><td>0.0               </td><td>                </td><td>1896.0            </td><td>                  </td><td>            </td><td>0.0               </td><td>0.0               </td><td>0.0               </td><td>1.0               </td><td>0.0               </td><td>0.0                    </td><td>                     </td></tr>\n",
       "<tr><td>mean   </td><td>13074.169141456336</td><td>         </td><td>13.715904065566173</td><td>5.68435293299533  </td><td>                </td><td>71915.67051974901 </td><td>                  </td><td>            </td><td>15.881530121290117</td><td>0.2273570060625282</td><td>54.07917280242258 </td><td>24.579733834274638</td><td>0.1830388994249544</td><td>14.854273655448353     </td><td>                     </td></tr>\n",
       "<tr><td>maxs   </td><td>35000.0           </td><td>         </td><td>26.06             </td><td>10.0              </td><td>                </td><td>7141778.0         </td><td>                  </td><td>            </td><td>39.99             </td><td>29.0              </td><td>150.70000000000002</td><td>118.0             </td><td>1.0               </td><td>65.0                   </td><td>                     </td></tr>\n",
       "<tr><td>sigma  </td><td>7993.556188734649 </td><td>         </td><td>4.391939870545795 </td><td>3.6106637311002365</td><td>                </td><td>59070.915654918244</td><td>                  </td><td>            </td><td>7.587668224192549 </td><td>0.6941679229284182</td><td>25.285366766770505</td><td>11.685190365910659</td><td>0.3866995896078875</td><td>6.947732922546696      </td><td>                     </td></tr>\n",
       "<tr><td>zeros  </td><td>0                 </td><td>         </td><td>0                 </td><td>14248             </td><td>                </td><td>0                 </td><td>                  </td><td>            </td><td>270               </td><td>139459            </td><td>1562              </td><td>0                 </td><td>133971            </td><td>11                     </td><td>                     </td></tr>\n",
       "<tr><td>missing</td><td>0                 </td><td>0        </td><td>0                 </td><td>5804              </td><td>0               </td><td>4                 </td><td>0                 </td><td>0           </td><td>0                 </td><td>29                </td><td>193               </td><td>29                </td><td>0                 </td><td>29                     </td><td>0                    </td></tr>\n",
       "<tr><td>0      </td><td>5000.0            </td><td>36 months</td><td>10.65             </td><td>10.0              </td><td>RENT            </td><td>24000.0           </td><td>credit_card       </td><td>AZ          </td><td>27.65             </td><td>0.0               </td><td>83.7              </td><td>9.0               </td><td>0.0               </td><td>26.0                   </td><td>verified             </td></tr>\n",
       "<tr><td>1      </td><td>2500.0            </td><td>60 months</td><td>15.27             </td><td>0.0               </td><td>RENT            </td><td>30000.0           </td><td>car               </td><td>GA          </td><td>1.0               </td><td>0.0               </td><td>9.4               </td><td>4.0               </td><td>1.0               </td><td>12.0                   </td><td>verified             </td></tr>\n",
       "<tr><td>2      </td><td>2400.0            </td><td>36 months</td><td>15.96             </td><td>10.0              </td><td>RENT            </td><td>12252.0           </td><td>small_business    </td><td>IL          </td><td>8.72              </td><td>0.0               </td><td>98.5              </td><td>10.0              </td><td>0.0               </td><td>10.0                   </td><td>not verified         </td></tr>\n",
       "<tr><td>3      </td><td>10000.0           </td><td>36 months</td><td>13.49             </td><td>10.0              </td><td>RENT            </td><td>49200.0           </td><td>other             </td><td>CA          </td><td>20.0              </td><td>0.0               </td><td>21.0              </td><td>37.0              </td><td>0.0               </td><td>15.0                   </td><td>verified             </td></tr>\n",
       "<tr><td>4      </td><td>5000.0            </td><td>36 months</td><td>7.9               </td><td>3.0               </td><td>RENT            </td><td>36000.0           </td><td>wedding           </td><td>AZ          </td><td>11.2              </td><td>0.0               </td><td>28.3              </td><td>12.0              </td><td>0.0               </td><td>7.0                    </td><td>verified             </td></tr>\n",
       "<tr><td>5      </td><td>3000.0            </td><td>36 months</td><td>18.64             </td><td>9.0               </td><td>RENT            </td><td>48000.0           </td><td>car               </td><td>CA          </td><td>5.3500000000000005</td><td>0.0               </td><td>87.5              </td><td>4.0               </td><td>0.0               </td><td>4.0                    </td><td>verified             </td></tr>\n",
       "<tr><td>6      </td><td>5600.0            </td><td>60 months</td><td>21.28             </td><td>4.0               </td><td>OWN             </td><td>40000.0           </td><td>small_business    </td><td>CA          </td><td>5.55              </td><td>0.0               </td><td>32.6              </td><td>13.0              </td><td>1.0               </td><td>7.0                    </td><td>verified             </td></tr>\n",
       "<tr><td>7      </td><td>5375.0            </td><td>60 months</td><td>12.69             </td><td>0.0               </td><td>RENT            </td><td>15000.0           </td><td>other             </td><td>TX          </td><td>18.08             </td><td>0.0               </td><td>36.5              </td><td>3.0               </td><td>1.0               </td><td>7.0                    </td><td>verified             </td></tr>\n",
       "<tr><td>8      </td><td>6500.0            </td><td>60 months</td><td>14.65             </td><td>5.0               </td><td>OWN             </td><td>72000.0           </td><td>debt_consolidation</td><td>AZ          </td><td>16.12             </td><td>0.0               </td><td>20.6              </td><td>23.0              </td><td>0.0               </td><td>13.0                   </td><td>not verified         </td></tr>\n",
       "<tr><td>9      </td><td>12000.0           </td><td>36 months</td><td>12.69             </td><td>10.0              </td><td>OWN             </td><td>75000.0           </td><td>debt_consolidation</td><td>CA          </td><td>10.78             </td><td>0.0               </td><td>67.10000000000001 </td><td>34.0              </td><td>0.0               </td><td>22.0                   </td><td>verified             </td></tr>\n",
       "</tbody>\n",
       "</table><pre style='font-size: smaller; margin-bottom: 1em;'>[163987 rows x 15 columns]</pre>"
      ],
      "text/plain": [
       "         loan_amnt           term       int_rate            emp_length          home_ownership    annual_inc          purpose             addr_state    dti                 delinq_2yrs         revol_util          total_acc           bad_loan            longest_credit_length    verification_status\n",
       "-------  ------------------  ---------  ------------------  ------------------  ----------------  ------------------  ------------------  ------------  ------------------  ------------------  ------------------  ------------------  ------------------  -----------------------  ---------------------\n",
       "type     int                 enum       real                int                 enum              real                enum                enum          real                int                 real                int                 int                 int                      enum\n",
       "mins     500.0                          5.42                0.0                                   1896.0                                                0.0                 0.0                 0.0                 1.0                 0.0                 0.0\n",
       "mean     13074.169141456336             13.715904065566173  5.68435293299533                      71915.67051974901                                     15.881530121290117  0.2273570060625282  54.07917280242258   24.579733834274638  0.1830388994249544  14.854273655448353\n",
       "maxs     35000.0                        26.06               10.0                                  7141778.0                                             39.99               29.0                150.70000000000002  118.0               1.0                 65.0\n",
       "sigma    7993.556188734649              4.391939870545795   3.6106637311002365                    59070.915654918244                                    7.587668224192549   0.6941679229284182  25.285366766770505  11.685190365910659  0.3866995896078875  6.947732922546696\n",
       "zeros    0                              0                   14248                                 0                                                     270                 139459              1562                0                   133971              11\n",
       "missing  0                   0          0                   5804                0                 4                   0                   0             0                   29                  193                 29                  0                   29                       0\n",
       "0        5000.0              36 months  10.65               10.0                RENT              24000.0             credit_card         AZ            27.65               0.0                 83.7                9.0                 0.0                 26.0                     verified\n",
       "1        2500.0              60 months  15.27               0.0                 RENT              30000.0             car                 GA            1.0                 0.0                 9.4                 4.0                 1.0                 12.0                     verified\n",
       "2        2400.0              36 months  15.96               10.0                RENT              12252.0             small_business      IL            8.72                0.0                 98.5                10.0                0.0                 10.0                     not verified\n",
       "3        10000.0             36 months  13.49               10.0                RENT              49200.0             other               CA            20.0                0.0                 21.0                37.0                0.0                 15.0                     verified\n",
       "4        5000.0              36 months  7.9                 3.0                 RENT              36000.0             wedding             AZ            11.2                0.0                 28.3                12.0                0.0                 7.0                      verified\n",
       "5        3000.0              36 months  18.64               9.0                 RENT              48000.0             car                 CA            5.3500000000000005  0.0                 87.5                4.0                 0.0                 4.0                      verified\n",
       "6        5600.0              60 months  21.28               4.0                 OWN               40000.0             small_business      CA            5.55                0.0                 32.6                13.0                1.0                 7.0                      verified\n",
       "7        5375.0              60 months  12.69               0.0                 RENT              15000.0             other               TX            18.08               0.0                 36.5                3.0                 1.0                 7.0                      verified\n",
       "8        6500.0              60 months  14.65               5.0                 OWN               72000.0             debt_consolidation  AZ            16.12               0.0                 20.6                23.0                0.0                 13.0                     not verified\n",
       "9        12000.0             36 months  12.69               10.0                OWN               75000.0             debt_consolidation  CA            10.78               0.0                 67.10000000000001   34.0                0.0                 22.0                     verified\n",
       "[163987 rows x 15 columns]\n"
      ]
     },
     "metadata": {},
     "output_type": "display_data"
    }
   ],
   "source": [
    "df.describe()"
   ]
  },
  {
   "cell_type": "markdown",
   "metadata": {},
   "source": [
    "## Train Models Using H2O's AutoML"
   ]
  },
  {
   "cell_type": "code",
   "execution_count": 7,
   "metadata": {},
   "outputs": [],
   "source": [
    "def get_independent_variables(df, targ):\n",
    "    C = [name for name in df.columns if name != targ]\n",
    "    # determine column types\n",
    "    ints, reals, enums = [], [], []\n",
    "    for key, val in df.types.items():\n",
    "        if key in C:\n",
    "            if val == 'enum':\n",
    "                enums.append(key)\n",
    "            elif val == 'int':\n",
    "                ints.append(key)            \n",
    "            else: \n",
    "                reals.append(key)    \n",
    "    x=ints+enums+reals\n",
    "    return x"
   ]
  },
  {
   "cell_type": "code",
   "execution_count": 8,
   "metadata": {},
   "outputs": [
    {
     "name": "stdout",
     "output_type": "stream",
     "text": [
      "['loan_amnt', 'emp_length', 'delinq_2yrs', 'total_acc', 'longest_credit_length', 'term', 'home_ownership', 'purpose', 'addr_state', 'verification_status', 'int_rate', 'annual_inc', 'dti', 'revol_util']\n"
     ]
    }
   ],
   "source": [
    "\n",
    "X=get_independent_variables(df, target) \n",
    "print(X)"
   ]
  },
  {
   "cell_type": "code",
   "execution_count": 9,
   "metadata": {},
   "outputs": [],
   "source": [
    "# Set target and predictor variables\n",
    "y = target\n"
   ]
  },
  {
   "cell_type": "markdown",
   "metadata": {},
   "source": [
    "## Regression"
   ]
  },
  {
   "cell_type": "code",
   "execution_count": 10,
   "metadata": {},
   "outputs": [],
   "source": [
    "# Set up AutoML\n",
    "\n",
    "aml = H2OAutoML(max_runtime_secs=run_time,exclude_algos = ['DeepLearning'])"
   ]
  },
  {
   "cell_type": "code",
   "execution_count": 11,
   "metadata": {},
   "outputs": [
    {
     "name": "stdout",
     "output_type": "stream",
     "text": [
      "AutoML progress: |\n",
      "20:03:08.675: AutoML: XGBoost is not available; skipping it.\n",
      "20:03:08.712: _response param, We have detected that your response column has only 2 unique values (0/1). If you wish to train a binary model instead of a regression model, convert your target column to categorical before training.\n",
      "\n",
      "███\n",
      "20:03:13.495: _response param, We have detected that your response column has only 2 unique values (0/1). If you wish to train a binary model instead of a regression model, convert your target column to categorical before training.\n",
      "\n",
      "█████\n",
      "20:03:34.661: _response param, We have detected that your response column has only 2 unique values (0/1). If you wish to train a binary model instead of a regression model, convert your target column to categorical before training.\n",
      "20:03:35.579: _response param, We have detected that your response column has only 2 unique values (0/1). If you wish to train a binary model instead of a regression model, convert your target column to categorical before training.\n",
      "\n",
      "██████████\n",
      "20:04:10.87: _response param, We have detected that your response column has only 2 unique values (0/1). If you wish to train a binary model instead of a regression model, convert your target column to categorical before training.\n",
      "\n",
      "███\n",
      "20:04:21.883: _response param, We have detected that your response column has only 2 unique values (0/1). If you wish to train a binary model instead of a regression model, convert your target column to categorical before training.\n",
      "\n",
      "████\n",
      "20:04:34.545: _response param, We have detected that your response column has only 2 unique values (0/1). If you wish to train a binary model instead of a regression model, convert your target column to categorical before training.\n",
      "\n",
      "████\n",
      "20:04:48.726: _response param, We have detected that your response column has only 2 unique values (0/1). If you wish to train a binary model instead of a regression model, convert your target column to categorical before training.\n",
      "20:04:49.126: _response param, We have detected that your response column has only 2 unique values (0/1). If you wish to train a binary model instead of a regression model, convert your target column to categorical before training.\n",
      "20:04:49.646: _response param, We have detected that your response column has only 2 unique values (0/1). If you wish to train a binary model instead of a regression model, convert your target column to categorical before training.\n",
      "\n",
      "█████████\n",
      "20:05:22.699: _response param, We have detected that your response column has only 2 unique values (0/1). If you wish to train a binary model instead of a regression model, convert your target column to categorical before training.\n",
      "\n",
      "███\n",
      "20:05:33.330: _response param, We have detected that your response column has only 2 unique values (0/1). If you wish to train a binary model instead of a regression model, convert your target column to categorical before training.\n",
      "\n",
      "\n",
      "20:05:33.769: _response param, We have detected that your response column has only 2 unique values (0/1). If you wish to train a binary model instead of a regression model, convert your target column to categorical before training.\n",
      "\n",
      "█████████████████\n",
      "20:06:35.969: _response param, We have detected that your response column has only 2 unique values (0/1). If you wish to train a binary model instead of a regression model, convert your target column to categorical before training.\n",
      "\n",
      "█\n",
      "20:06:36.413: _response param, We have detected that your response column has only 2 unique values (0/1). If you wish to train a binary model instead of a regression model, convert your target column to categorical before training.\n",
      "\n",
      "\n",
      "20:06:37.395: _response param, We have detected that your response column has only 2 unique values (0/1). If you wish to train a binary model instead of a regression model, convert your target column to categorical before training.\n",
      "\n",
      "\n",
      "20:06:39.480: _response param, We have detected that your response column has only 2 unique values (0/1). If you wish to train a binary model instead of a regression model, convert your target column to categorical before training.\n",
      "\n",
      "███\n",
      "20:06:48.113: _response param, We have detected that your response column has only 2 unique values (0/1). If you wish to train a binary model instead of a regression model, convert your target column to categorical before training.\n",
      "\n",
      "█| (done) 100%\n"
     ]
    }
   ],
   "source": [
    "model_start_time = time.time()\n",
    "  \n",
    "try:\n",
    "  aml.train(x=X,y=y,training_frame=df)  # Change training_frame=train\n",
    "except Exception as e:\n",
    "  logging.critical('aml.train') \n",
    "  h2o.download_all_logs(dirname=logs_path, filename=logfile)      \n",
    "  h2o.cluster().shutdown()   \n",
    "  sys.exit(4)\n"
   ]
  },
  {
   "cell_type": "code",
   "execution_count": 12,
   "metadata": {},
   "outputs": [],
   "source": [
    "meta_data={}\n",
    "meta_data['model_execution_time'] = {\"regression\":(time.time() - model_start_time)} "
   ]
  },
  {
   "cell_type": "code",
   "execution_count": 13,
   "metadata": {},
   "outputs": [
    {
     "data": {
      "text/plain": [
       "{'model_execution_time': {'regression': 317.0149726867676}}"
      ]
     },
     "execution_count": 13,
     "metadata": {},
     "output_type": "execute_result"
    }
   ],
   "source": [
    "meta_data"
   ]
  },
  {
   "cell_type": "code",
   "execution_count": 14,
   "metadata": {},
   "outputs": [
    {
     "name": "stdout",
     "output_type": "stream",
     "text": [
      "model_id                                                     rmse       mse       mae     rmsle    mean_residual_deviance\n",
      "StackedEnsemble_AllModels_3_AutoML_1_20221111_200308     0.369699  0.136677  0.273476  0.259377                  0.136677\n",
      "StackedEnsemble_BestOfFamily_4_AutoML_1_20221111_200308  0.369952  0.136864  0.274004  0.259599                  0.136864\n",
      "StackedEnsemble_AllModels_2_AutoML_1_20221111_200308     0.369954  0.136866  0.273805  0.259537                  0.136866\n",
      "StackedEnsemble_AllModels_1_AutoML_1_20221111_200308     0.37008   0.136959  0.27398   0.259634                  0.136959\n",
      "GBM_grid_1_AutoML_1_20221111_200308_model_4              0.370159  0.137017  0.275933  0.259409                  0.137017\n",
      "StackedEnsemble_BestOfFamily_3_AutoML_1_20221111_200308  0.370216  0.13706   0.274238  0.259734                  0.13706\n",
      "StackedEnsemble_BestOfFamily_5_AutoML_1_20221111_200308  0.370219  0.137062  0.273947  0.259655                  0.137062\n",
      "GBM_5_AutoML_1_20221111_200308                           0.370358  0.137165  0.274854  0.259744                  0.137165\n",
      "GBM_grid_1_AutoML_1_20221111_200308_model_2              0.370464  0.137244  0.274465  0.259859                  0.137244\n",
      "StackedEnsemble_BestOfFamily_2_AutoML_1_20221111_200308  0.370477  0.137253  0.274696  0.259931                  0.137253\n",
      "[23 rows x 6 columns]\n",
      "\n"
     ]
    }
   ],
   "source": [
    "print(aml.leaderboard)"
   ]
  },
  {
   "cell_type": "markdown",
   "metadata": {},
   "source": [
    "## Examine the Best Model"
   ]
  },
  {
   "cell_type": "code",
   "execution_count": 15,
   "metadata": {},
   "outputs": [],
   "source": [
    "best_model = h2o.get_model(aml.leaderboard[2,'model_id'])"
   ]
  },
  {
   "cell_type": "code",
   "execution_count": 16,
   "metadata": {},
   "outputs": [
    {
     "data": {
      "text/plain": [
       "'stackedensemble'"
      ]
     },
     "execution_count": 16,
     "metadata": {},
     "output_type": "execute_result"
    }
   ],
   "source": [
    "best_model.algo"
   ]
  },
  {
   "cell_type": "markdown",
   "metadata": {},
   "source": [
    "## Classification"
   ]
  },
  {
   "cell_type": "code",
   "execution_count": 17,
   "metadata": {},
   "outputs": [],
   "source": [
    "df[y] = df[y].asfactor()"
   ]
  },
  {
   "cell_type": "code",
   "execution_count": 18,
   "metadata": {},
   "outputs": [
    {
     "data": {
      "text/html": [
       "<pre style='margin: 1em 0 1em 0;'>Rows:163987\n",
       "Cols:15\n",
       "</pre>"
      ],
      "text/plain": [
       "Rows:163987\n",
       "Cols:15\n"
      ]
     },
     "metadata": {},
     "output_type": "display_data"
    },
    {
     "data": {
      "text/html": [
       "<table class='dataframe'>\n",
       "<thead>\n",
       "<tr><th>       </th><th>loan_amnt         </th><th>term     </th><th>int_rate          </th><th>emp_length        </th><th>home_ownership  </th><th>annual_inc        </th><th>purpose           </th><th>addr_state  </th><th>dti               </th><th>delinq_2yrs       </th><th>revol_util        </th><th>total_acc         </th><th>bad_loan  </th><th>longest_credit_length  </th><th>verification_status  </th></tr>\n",
       "</thead>\n",
       "<tbody>\n",
       "<tr><td>type   </td><td>int               </td><td>enum     </td><td>real              </td><td>int               </td><td>enum            </td><td>real              </td><td>enum              </td><td>enum        </td><td>real              </td><td>int               </td><td>real              </td><td>int               </td><td>enum      </td><td>int                    </td><td>enum                 </td></tr>\n",
       "<tr><td>mins   </td><td>500.0             </td><td>         </td><td>5.42              </td><td>0.0               </td><td>                </td><td>1896.0            </td><td>                  </td><td>            </td><td>0.0               </td><td>0.0               </td><td>0.0               </td><td>1.0               </td><td>          </td><td>0.0                    </td><td>                     </td></tr>\n",
       "<tr><td>mean   </td><td>13074.169141456336</td><td>         </td><td>13.715904065566173</td><td>5.68435293299533  </td><td>                </td><td>71915.67051974901 </td><td>                  </td><td>            </td><td>15.881530121290117</td><td>0.2273570060625282</td><td>54.07917280242258 </td><td>24.579733834274638</td><td>          </td><td>14.854273655448353     </td><td>                     </td></tr>\n",
       "<tr><td>maxs   </td><td>35000.0           </td><td>         </td><td>26.06             </td><td>10.0              </td><td>                </td><td>7141778.0         </td><td>                  </td><td>            </td><td>39.99             </td><td>29.0              </td><td>150.70000000000002</td><td>118.0             </td><td>          </td><td>65.0                   </td><td>                     </td></tr>\n",
       "<tr><td>sigma  </td><td>7993.556188734649 </td><td>         </td><td>4.391939870545795 </td><td>3.6106637311002365</td><td>                </td><td>59070.915654918244</td><td>                  </td><td>            </td><td>7.587668224192549 </td><td>0.6941679229284182</td><td>25.285366766770505</td><td>11.685190365910659</td><td>          </td><td>6.947732922546696      </td><td>                     </td></tr>\n",
       "<tr><td>zeros  </td><td>0                 </td><td>         </td><td>0                 </td><td>14248             </td><td>                </td><td>0                 </td><td>                  </td><td>            </td><td>270               </td><td>139459            </td><td>1562              </td><td>0                 </td><td>          </td><td>11                     </td><td>                     </td></tr>\n",
       "<tr><td>missing</td><td>0                 </td><td>0        </td><td>0                 </td><td>5804              </td><td>0               </td><td>4                 </td><td>0                 </td><td>0           </td><td>0                 </td><td>29                </td><td>193               </td><td>29                </td><td>0         </td><td>29                     </td><td>0                    </td></tr>\n",
       "<tr><td>0      </td><td>5000.0            </td><td>36 months</td><td>10.65             </td><td>10.0              </td><td>RENT            </td><td>24000.0           </td><td>credit_card       </td><td>AZ          </td><td>27.65             </td><td>0.0               </td><td>83.7              </td><td>9.0               </td><td>0         </td><td>26.0                   </td><td>verified             </td></tr>\n",
       "<tr><td>1      </td><td>2500.0            </td><td>60 months</td><td>15.27             </td><td>0.0               </td><td>RENT            </td><td>30000.0           </td><td>car               </td><td>GA          </td><td>1.0               </td><td>0.0               </td><td>9.4               </td><td>4.0               </td><td>1         </td><td>12.0                   </td><td>verified             </td></tr>\n",
       "<tr><td>2      </td><td>2400.0            </td><td>36 months</td><td>15.96             </td><td>10.0              </td><td>RENT            </td><td>12252.0           </td><td>small_business    </td><td>IL          </td><td>8.72              </td><td>0.0               </td><td>98.5              </td><td>10.0              </td><td>0         </td><td>10.0                   </td><td>not verified         </td></tr>\n",
       "<tr><td>3      </td><td>10000.0           </td><td>36 months</td><td>13.49             </td><td>10.0              </td><td>RENT            </td><td>49200.0           </td><td>other             </td><td>CA          </td><td>20.0              </td><td>0.0               </td><td>21.0              </td><td>37.0              </td><td>0         </td><td>15.0                   </td><td>verified             </td></tr>\n",
       "<tr><td>4      </td><td>5000.0            </td><td>36 months</td><td>7.9               </td><td>3.0               </td><td>RENT            </td><td>36000.0           </td><td>wedding           </td><td>AZ          </td><td>11.2              </td><td>0.0               </td><td>28.3              </td><td>12.0              </td><td>0         </td><td>7.0                    </td><td>verified             </td></tr>\n",
       "<tr><td>5      </td><td>3000.0            </td><td>36 months</td><td>18.64             </td><td>9.0               </td><td>RENT            </td><td>48000.0           </td><td>car               </td><td>CA          </td><td>5.3500000000000005</td><td>0.0               </td><td>87.5              </td><td>4.0               </td><td>0         </td><td>4.0                    </td><td>verified             </td></tr>\n",
       "<tr><td>6      </td><td>5600.0            </td><td>60 months</td><td>21.28             </td><td>4.0               </td><td>OWN             </td><td>40000.0           </td><td>small_business    </td><td>CA          </td><td>5.55              </td><td>0.0               </td><td>32.6              </td><td>13.0              </td><td>1         </td><td>7.0                    </td><td>verified             </td></tr>\n",
       "<tr><td>7      </td><td>5375.0            </td><td>60 months</td><td>12.69             </td><td>0.0               </td><td>RENT            </td><td>15000.0           </td><td>other             </td><td>TX          </td><td>18.08             </td><td>0.0               </td><td>36.5              </td><td>3.0               </td><td>1         </td><td>7.0                    </td><td>verified             </td></tr>\n",
       "<tr><td>8      </td><td>6500.0            </td><td>60 months</td><td>14.65             </td><td>5.0               </td><td>OWN             </td><td>72000.0           </td><td>debt_consolidation</td><td>AZ          </td><td>16.12             </td><td>0.0               </td><td>20.6              </td><td>23.0              </td><td>0         </td><td>13.0                   </td><td>not verified         </td></tr>\n",
       "<tr><td>9      </td><td>12000.0           </td><td>36 months</td><td>12.69             </td><td>10.0              </td><td>OWN             </td><td>75000.0           </td><td>debt_consolidation</td><td>CA          </td><td>10.78             </td><td>0.0               </td><td>67.10000000000001 </td><td>34.0              </td><td>0         </td><td>22.0                   </td><td>verified             </td></tr>\n",
       "</tbody>\n",
       "</table><pre style='font-size: smaller; margin-bottom: 1em;'>[163987 rows x 15 columns]</pre>"
      ],
      "text/plain": [
       "         loan_amnt           term       int_rate            emp_length          home_ownership    annual_inc          purpose             addr_state    dti                 delinq_2yrs         revol_util          total_acc           bad_loan    longest_credit_length    verification_status\n",
       "-------  ------------------  ---------  ------------------  ------------------  ----------------  ------------------  ------------------  ------------  ------------------  ------------------  ------------------  ------------------  ----------  -----------------------  ---------------------\n",
       "type     int                 enum       real                int                 enum              real                enum                enum          real                int                 real                int                 enum        int                      enum\n",
       "mins     500.0                          5.42                0.0                                   1896.0                                                0.0                 0.0                 0.0                 1.0                             0.0\n",
       "mean     13074.169141456336             13.715904065566173  5.68435293299533                      71915.67051974901                                     15.881530121290117  0.2273570060625282  54.07917280242258   24.579733834274638              14.854273655448353\n",
       "maxs     35000.0                        26.06               10.0                                  7141778.0                                             39.99               29.0                150.70000000000002  118.0                           65.0\n",
       "sigma    7993.556188734649              4.391939870545795   3.6106637311002365                    59070.915654918244                                    7.587668224192549   0.6941679229284182  25.285366766770505  11.685190365910659              6.947732922546696\n",
       "zeros    0                              0                   14248                                 0                                                     270                 139459              1562                0                               11\n",
       "missing  0                   0          0                   5804                0                 4                   0                   0             0                   29                  193                 29                  0           29                       0\n",
       "0        5000.0              36 months  10.65               10.0                RENT              24000.0             credit_card         AZ            27.65               0.0                 83.7                9.0                 0           26.0                     verified\n",
       "1        2500.0              60 months  15.27               0.0                 RENT              30000.0             car                 GA            1.0                 0.0                 9.4                 4.0                 1           12.0                     verified\n",
       "2        2400.0              36 months  15.96               10.0                RENT              12252.0             small_business      IL            8.72                0.0                 98.5                10.0                0           10.0                     not verified\n",
       "3        10000.0             36 months  13.49               10.0                RENT              49200.0             other               CA            20.0                0.0                 21.0                37.0                0           15.0                     verified\n",
       "4        5000.0              36 months  7.9                 3.0                 RENT              36000.0             wedding             AZ            11.2                0.0                 28.3                12.0                0           7.0                      verified\n",
       "5        3000.0              36 months  18.64               9.0                 RENT              48000.0             car                 CA            5.3500000000000005  0.0                 87.5                4.0                 0           4.0                      verified\n",
       "6        5600.0              60 months  21.28               4.0                 OWN               40000.0             small_business      CA            5.55                0.0                 32.6                13.0                1           7.0                      verified\n",
       "7        5375.0              60 months  12.69               0.0                 RENT              15000.0             other               TX            18.08               0.0                 36.5                3.0                 1           7.0                      verified\n",
       "8        6500.0              60 months  14.65               5.0                 OWN               72000.0             debt_consolidation  AZ            16.12               0.0                 20.6                23.0                0           13.0                     not verified\n",
       "9        12000.0             36 months  12.69               10.0                OWN               75000.0             debt_consolidation  CA            10.78               0.0                 67.10000000000001   34.0                0           22.0                     verified\n",
       "[163987 rows x 15 columns]\n"
      ]
     },
     "metadata": {},
     "output_type": "display_data"
    }
   ],
   "source": [
    "df.describe()"
   ]
  },
  {
   "cell_type": "code",
   "execution_count": 19,
   "metadata": {},
   "outputs": [],
   "source": [
    "# Set up AutoML\n",
    "\n",
    "aml = H2OAutoML(max_runtime_secs=run_time)"
   ]
  },
  {
   "cell_type": "code",
   "execution_count": 20,
   "metadata": {},
   "outputs": [
    {
     "name": "stdout",
     "output_type": "stream",
     "text": [
      "AutoML progress: |\n",
      "20:08:45.126: AutoML: XGBoost is not available; skipping it.\n",
      "\n",
      "███████████████████████████████████████████████████████████████| (done) 100%\n"
     ]
    }
   ],
   "source": [
    "model_start_time = time.time()\n",
    "  \n",
    "try:\n",
    "  aml.train(x=X,y=y,training_frame=df)  # Change training_frame=train\n",
    "except Exception as e:\n",
    "  logging.critical('aml.train') \n",
    "  h2o.download_all_logs(dirname=logs_path, filename=logfile)      \n",
    "  h2o.cluster().shutdown()   \n",
    "  sys.exit(4)\n"
   ]
  },
  {
   "cell_type": "code",
   "execution_count": 21,
   "metadata": {},
   "outputs": [],
   "source": [
    "d=meta_data['model_execution_time']\n",
    "d['classification']=(time.time() - model_start_time)\n",
    "meta_data['model_execution_time'] = d"
   ]
  },
  {
   "cell_type": "code",
   "execution_count": 22,
   "metadata": {},
   "outputs": [
    {
     "data": {
      "text/plain": [
       "{'model_execution_time': {'regression': 317.0149726867676,\n",
       "  'classification': 223.43316340446472}}"
      ]
     },
     "execution_count": 22,
     "metadata": {},
     "output_type": "execute_result"
    }
   ],
   "source": [
    "meta_data"
   ]
  },
  {
   "cell_type": "code",
   "execution_count": 23,
   "metadata": {},
   "outputs": [
    {
     "name": "stdout",
     "output_type": "stream",
     "text": [
      "model_id                                                      auc    logloss     aucpr    mean_per_class_error      rmse       mse\n",
      "StackedEnsemble_AllModels_3_AutoML_2_20221111_200845     0.708936   0.433632  0.346522                0.350163  0.369758  0.136721\n",
      "StackedEnsemble_AllModels_2_AutoML_2_20221111_200845     0.708558   0.433788  0.346107                0.350899  0.369819  0.136766\n",
      "StackedEnsemble_AllModels_1_AutoML_2_20221111_200845     0.708207   0.434035  0.345421                0.352214  0.369929  0.136847\n",
      "StackedEnsemble_BestOfFamily_3_AutoML_2_20221111_200845  0.707334   0.434315  0.343825                0.353761  0.370063  0.136947\n",
      "StackedEnsemble_BestOfFamily_4_AutoML_2_20221111_200845  0.707279   0.43441   0.343512                0.35216   0.370106  0.136979\n",
      "StackedEnsemble_BestOfFamily_2_AutoML_2_20221111_200845  0.70712    0.434496  0.343713                0.352942  0.370136  0.137001\n",
      "GBM_5_AutoML_2_20221111_200845                           0.706301   0.434988  0.341121                0.350867  0.370377  0.137179\n",
      "GBM_2_AutoML_2_20221111_200845                           0.705988   0.435087  0.341476                0.351821  0.370425  0.137214\n",
      "StackedEnsemble_BestOfFamily_1_AutoML_2_20221111_200845  0.70458    0.435821  0.340249                0.352606  0.370626  0.137364\n",
      "GBM_3_AutoML_2_20221111_200845                           0.703908   0.43608   0.338605                0.353109  0.370872  0.137546\n",
      "[19 rows x 7 columns]\n",
      "\n"
     ]
    }
   ],
   "source": [
    "print(aml.leaderboard)"
   ]
  },
  {
   "cell_type": "code",
   "execution_count": 24,
   "metadata": {},
   "outputs": [],
   "source": [
    "best_model = h2o.get_model(aml.leaderboard[2,'model_id'])"
   ]
  },
  {
   "cell_type": "code",
   "execution_count": 25,
   "metadata": {},
   "outputs": [
    {
     "data": {
      "text/plain": [
       "'stackedensemble'"
      ]
     },
     "execution_count": 25,
     "metadata": {},
     "output_type": "execute_result"
    }
   ],
   "source": [
    "best_model.algo"
   ]
  },
  {
   "cell_type": "code",
   "execution_count": 26,
   "metadata": {},
   "outputs": [
    {
     "name": "stdout",
     "output_type": "stream",
     "text": [
      "0.8068128359868059\n"
     ]
    }
   ],
   "source": [
    "print(best_model.auc(train = True))"
   ]
  },
  {
   "cell_type": "code",
   "execution_count": 27,
   "metadata": {},
   "outputs": [
    {
     "name": "stdout",
     "output_type": "stream",
     "text": [
      "0.39555677529473987\n"
     ]
    }
   ],
   "source": [
    "print(best_model.logloss(train = True))"
   ]
  },
  {
   "cell_type": "code",
   "execution_count": 28,
   "metadata": {},
   "outputs": [
    {
     "data": {
      "text/plain": [
       "[Confusion Matrix (Act/Pred) for max f1 @ threshold = 0.23087187912438084\n",
       "       0     1     Error    Rate\n",
       "-----  ----  ----  -------  ---------------\n",
       "0      6537  1520  0.1887   (1520.0/8057.0)\n",
       "1      705   1188  0.3724   (705.0/1893.0)\n",
       "Total  7242  2708  0.2236   (2225.0/9950.0),\n",
       " Confusion Matrix (Act/Pred) for max f2 @ threshold = 0.15548660253910326\n",
       "       0     1     Error    Rate\n",
       "-----  ----  ----  -------  ---------------\n",
       "0      4851  3206  0.3979   (3206.0/8057.0)\n",
       "1      322   1571  0.1701   (322.0/1893.0)\n",
       "Total  5173  4777  0.3546   (3528.0/9950.0),\n",
       " Confusion Matrix (Act/Pred) for max f0point5 @ threshold = 0.3656255417721083\n",
       "       0     1    Error    Rate\n",
       "-----  ----  ---  -------  ---------------\n",
       "0      7741  316  0.0392   (316.0/8057.0)\n",
       "1      1303  590  0.6883   (1303.0/1893.0)\n",
       "Total  9044  906  0.1627   (1619.0/9950.0),\n",
       " Confusion Matrix (Act/Pred) for max accuracy @ threshold = 0.3789870363995832\n",
       "       0     1    Error    Rate\n",
       "-----  ----  ---  -------  ---------------\n",
       "0      7793  264  0.0328   (264.0/8057.0)\n",
       "1      1353  540  0.7147   (1353.0/1893.0)\n",
       "Total  9146  804  0.1625   (1617.0/9950.0),\n",
       " Confusion Matrix (Act/Pred) for max precision @ threshold = 0.860597210234278\n",
       "       0     1    Error    Rate\n",
       "-----  ----  ---  -------  ---------------\n",
       "0      8057  0    0        (0.0/8057.0)\n",
       "1      1892  1    0.9995   (1892.0/1893.0)\n",
       "Total  9949  1    0.1902   (1892.0/9950.0),\n",
       " Confusion Matrix (Act/Pred) for max recall @ threshold = 0.04336592888507319\n",
       "       0    1     Error    Rate\n",
       "-----  ---  ----  -------  ---------------\n",
       "0      585  7472  0.9274   (7472.0/8057.0)\n",
       "1      0    1893  0        (0.0/1893.0)\n",
       "Total  585  9365  0.751    (7472.0/9950.0),\n",
       " Confusion Matrix (Act/Pred) for max specificity @ threshold = 0.860597210234278\n",
       "       0     1    Error    Rate\n",
       "-----  ----  ---  -------  ---------------\n",
       "0      8057  0    0        (0.0/8057.0)\n",
       "1      1892  1    0.9995   (1892.0/1893.0)\n",
       "Total  9949  1    0.1902   (1892.0/9950.0),\n",
       " Confusion Matrix (Act/Pred) for max absolute_mcc @ threshold = 0.2716574242550108\n",
       "       0     1     Error    Rate\n",
       "-----  ----  ----  -------  ---------------\n",
       "0      7094  963   0.1195   (963.0/8057.0)\n",
       "1      911   982   0.4812   (911.0/1893.0)\n",
       "Total  8005  1945  0.1883   (1874.0/9950.0),\n",
       " Confusion Matrix (Act/Pred) for max min_per_class_accuracy @ threshold = 0.19429925611758286\n",
       "       0     1     Error    Rate\n",
       "-----  ----  ----  -------  ---------------\n",
       "0      5836  2221  0.2757   (2221.0/8057.0)\n",
       "1      519   1374  0.2742   (519.0/1893.0)\n",
       "Total  6355  3595  0.2754   (2740.0/9950.0),\n",
       " Confusion Matrix (Act/Pred) for max mean_per_class_accuracy @ threshold = 0.184610876828505\n",
       "       0     1     Error    Rate\n",
       "-----  ----  ----  -------  ---------------\n",
       "0      5615  2442  0.3031   (2442.0/8057.0)\n",
       "1      460   1433  0.243    (460.0/1893.0)\n",
       "Total  6075  3875  0.2917   (2902.0/9950.0)]"
      ]
     },
     "execution_count": 28,
     "metadata": {},
     "output_type": "execute_result"
    }
   ],
   "source": [
    "cf=best_model.confusion_matrix(metrics=[\"f1\",\"f2\",\"f0point5\",\"accuracy\",\"precision\",\"recall\",\"specificity\",\"absolute_mcc\",\"min_per_class_accuracy\",\"mean_per_class_accuracy\"])\n",
    "cf"
   ]
  },
  {
   "cell_type": "markdown",
   "metadata": {},
   "source": [
    "## Perform Feature Engineering\n",
    "\n",
    "The goal of this section is to improve upon these predictors through a number of feature engineering steps. In particular, we will perform three feature engineering tasks:\n",
    "\n",
    "1. **Separating Typical from Extreme Loan Amount**\n",
    "1. **Converting Term to a 0/1 Indicator**\n",
    "1. **Creating Missing Value Indicator for Employment Length**\n",
    "1. **Combining Categories in Home Ownership**\n",
    "1. **Separating Typical from Extreme Annual Income**\n",
    "1. **Creating Target Encoding for Loan Purpose**\n",
    "1. **Creating Target Encoding for State of Residence**\n",
    "1. **Separating Typical from Extreme Debt to Income Ratio**\n",
    "1. **Separating Typical from Extreme Number of Delinquencies in the Past 2 Years**\n",
    "1. **Separating Typical from Extreme Revolving Credit Line Utilized**\n",
    "1. **Separating Typical from Extreme Number of Credit Lines**\n",
    "1. **Separating Typical from Extreme Longest Credit Length**\n",
    "1. **Converting Income Verification Status to a 0/1 Indicator**"
   ]
  },
  {
   "cell_type": "code",
   "execution_count": 29,
   "metadata": {},
   "outputs": [],
   "source": [
    "x_orig = df.col_names\n",
    "x_orig.remove(y)\n",
    "x_orig.remove(\"int_rate\")\n",
    "\n",
    "x_trans = x_orig.copy()"
   ]
  },
  {
   "cell_type": "markdown",
   "metadata": {},
   "source": [
    "### Cross Validation and Target Encoding\n",
    "\n",
    "Some of the engineered features will use [cross-validated mean target encoding](https://github.com/h2oai/h2o-tutorials/blob/master/best-practices/categorical-predictors/target_encoding.md) of categorical predictors since one hot encodings can lead to overfitting of infrequent categories.\n",
    "\n",
    "To achieve this goal, we will first create soft partitions using H2OFrame's [`kfold_column`](http://docs.h2o.ai/h2o/latest-stable/h2o-py/docs/frame.html?highlight=kfold_column#h2o.frame.H2OFrame.kfold_column) function, then calculate summary statistics using H2O's [`group_by`](http://docs.h2o.ai/h2o/latest-stable/h2o-py/docs/frame.html#groupby) function, and finally join these engineered features using H2OFrame's [`merge`](http://docs.h2o.ai/h2o/latest-stable/h2o-py/docs/frame.html?highlight=merge#h2o.frame.H2OFrame.merge)."
   ]
  },
  {
   "cell_type": "code",
   "execution_count": 30,
   "metadata": {},
   "outputs": [],
   "source": [
    "cv_nfolds = 5\n",
    "cv_seed = 2307"
   ]
  },
  {
   "cell_type": "code",
   "execution_count": 31,
   "metadata": {},
   "outputs": [],
   "source": [
    "train=df"
   ]
  },
  {
   "cell_type": "code",
   "execution_count": 32,
   "metadata": {},
   "outputs": [],
   "source": [
    "train[\"cv_fold\"] = train.kfold_column(n_folds = cv_nfolds, seed = cv_seed)"
   ]
  },
  {
   "cell_type": "code",
   "execution_count": 33,
   "metadata": {},
   "outputs": [
    {
     "data": {
      "text/html": [
       "<table class='dataframe'>\n",
       "<thead>\n",
       "<tr><th style=\"text-align: right;\">  cv_fold</th><th style=\"text-align: right;\">  Count</th></tr>\n",
       "</thead>\n",
       "<tbody>\n",
       "<tr><td style=\"text-align: right;\">        0</td><td style=\"text-align: right;\">  32848</td></tr>\n",
       "<tr><td style=\"text-align: right;\">        1</td><td style=\"text-align: right;\">  32808</td></tr>\n",
       "<tr><td style=\"text-align: right;\">        2</td><td style=\"text-align: right;\">  33035</td></tr>\n",
       "<tr><td style=\"text-align: right;\">        3</td><td style=\"text-align: right;\">  32574</td></tr>\n",
       "<tr><td style=\"text-align: right;\">        4</td><td style=\"text-align: right;\">  32722</td></tr>\n",
       "</tbody>\n",
       "</table><pre style='font-size: smaller; margin-bottom: 1em;'>[5 rows x 2 columns]</pre>"
      ],
      "text/plain": [
       "  cv_fold    Count\n",
       "---------  -------\n",
       "        0    32848\n",
       "        1    32808\n",
       "        2    33035\n",
       "        3    32574\n",
       "        4    32722\n",
       "[5 rows x 2 columns]\n"
      ]
     },
     "execution_count": 33,
     "metadata": {},
     "output_type": "execute_result"
    }
   ],
   "source": [
    "train[\"cv_fold\"].table()"
   ]
  },
  {
   "cell_type": "code",
   "execution_count": 34,
   "metadata": {},
   "outputs": [],
   "source": [
    "def logit(p):\n",
    "    return np.log(p) - np.log(1 - p)"
   ]
  },
  {
   "cell_type": "code",
   "execution_count": 35,
   "metadata": {},
   "outputs": [],
   "source": [
    "def mean_target(data, x, y = \"bad_loan\"):\n",
    "    grouped_data = data[[x, y]].group_by([x])\n",
    "    stats = grouped_data.count(na = \"ignore\").mean(na = \"ignore\")\n",
    "    return stats.get_frame().as_data_frame()"
   ]
  },
  {
   "cell_type": "code",
   "execution_count": 36,
   "metadata": {},
   "outputs": [],
   "source": [
    "def mean_target_encoding(data, x, y = \"bad_loan\", fold_column = \"cv_fold\", prior_mean = 0.183, prior_count = 1):\n",
    "    \"\"\"\n",
    "    Creates target encoding for binary target\n",
    "    data (H2OFrame) : data set\n",
    "    x (string) : categorical predictor column name\n",
    "    y (string) : binary target column name\n",
    "    fold_column (string) : cross-validation fold column name\n",
    "    prior_mean (float) : proportion of 1s in the target column\n",
    "    prior_count (positive number) : weight to give to prior_mean\n",
    "    \"\"\" \n",
    "    grouped_data = data[[x, fold_column, y]].group_by([x, fold_column])\n",
    "    grouped_data.sum(na = \"ignore\").count(na = \"ignore\")\n",
    "    df = grouped_data.get_frame().as_data_frame()\n",
    "    df_list = []\n",
    "    nfold = int(data[fold_column].max()) + 1\n",
    "    for j in range(0, nfold):\n",
    "        te_x = \"te_{}\".format(x)\n",
    "        sum_y = \"sum_{}\".format(y)\n",
    "        oof = df.loc[df[fold_column] != j, [x, sum_y, \"nrow\"]]\n",
    "        stats = oof.groupby([x]).sum()\n",
    "        stats[x] = stats.index\n",
    "        stats[fold_column] = j\n",
    "        p = (stats[sum_y] + (prior_count * prior_mean)) / (stats[\"nrow\"] + prior_count)\n",
    "        stats[te_x] = logit(p)\n",
    "        df_list.append(stats[[x, fold_column, te_x]])\n",
    "    return h2o.H2OFrame(pd.concat(df_list))"
   ]
  },
  {
   "cell_type": "markdown",
   "metadata": {},
   "source": [
    "### Separating Typical from Extreme Loan Amount\n",
    "\n",
    "After binning `loan_amt` using H2OFrame's [`cut`](http://docs.h2o.ai/h2o/latest-stable/h2o-py/docs/frame.html?highlight=cut#h2o.frame.H2OFrame.cut) function and looking at the fraction of bad loans on a logit scale, we see that the chance of a bad loan roughly increases linearly in loan amount from \\\\$5,000 to \\\\$30,000 and is relatively flat below \\$5,000 and above \\$30,000. To reflect this finding in the modeling, we will replace the original `loan_amnt` measure with two derived measures:\n",
    "\n",
    "\\begin{eqnarray}\n",
    "loan\\_amnt\\_core & = & \\max(5000, \\min(loan\\_amnt, 30000)) \\\\\n",
    "loan\\_amnt\\_diff & = & loan\\_amnt - loan\\_amnt\\_core\n",
    "\\end{eqnarray}"
   ]
  },
  {
   "cell_type": "code",
   "execution_count": 37,
   "metadata": {},
   "outputs": [
    {
     "data": {
      "text/html": [
       "<table class='dataframe'>\n",
       "<thead>\n",
       "<tr><th style=\"text-align: right;\">  Probs</th><th style=\"text-align: right;\">  loan_amntQuantiles</th></tr>\n",
       "</thead>\n",
       "<tbody>\n",
       "<tr><td style=\"text-align: right;\">   0   </td><td style=\"text-align: right;\">                 500</td></tr>\n",
       "<tr><td style=\"text-align: right;\">   0.05</td><td style=\"text-align: right;\">                3000</td></tr>\n",
       "<tr><td style=\"text-align: right;\">   0.25</td><td style=\"text-align: right;\">                7000</td></tr>\n",
       "<tr><td style=\"text-align: right;\">   0.5 </td><td style=\"text-align: right;\">               11325</td></tr>\n",
       "<tr><td style=\"text-align: right;\">   0.75</td><td style=\"text-align: right;\">               18000</td></tr>\n",
       "<tr><td style=\"text-align: right;\">   0.95</td><td style=\"text-align: right;\">               30000</td></tr>\n",
       "<tr><td style=\"text-align: right;\">   1   </td><td style=\"text-align: right;\">               35000</td></tr>\n",
       "</tbody>\n",
       "</table><pre style='font-size: smaller; margin-bottom: 1em;'>[7 rows x 2 columns]</pre>"
      ],
      "text/plain": [
       "  Probs    loan_amntQuantiles\n",
       "-------  --------------------\n",
       "   0                      500\n",
       "   0.05                  3000\n",
       "   0.25                  7000\n",
       "   0.5                  11325\n",
       "   0.75                 18000\n",
       "   0.95                 30000\n",
       "   1                    35000\n",
       "[7 rows x 2 columns]\n"
      ]
     },
     "execution_count": 37,
     "metadata": {},
     "output_type": "execute_result"
    }
   ],
   "source": [
    "train[\"loan_amnt\"].quantile([0, 0.05, 0.25, 0.5, 0.75, 0.95, 1])"
   ]
  },
  {
   "cell_type": "code",
   "execution_count": 38,
   "metadata": {},
   "outputs": [],
   "source": [
    "breaks = np.linspace(0, 35000, 8).tolist()\n",
    "train[\"loan_amnt_cat\"] = train[\"loan_amnt\"].cut(breaks = breaks)"
   ]
  },
  {
   "cell_type": "code",
   "execution_count": 39,
   "metadata": {},
   "outputs": [],
   "source": [
    "df = mean_target(train, \"loan_amnt_cat\")"
   ]
  },
  {
   "cell_type": "code",
   "execution_count": 40,
   "metadata": {},
   "outputs": [],
   "source": [
    "import matplotlib.pyplot as plt\n",
    "%matplotlib inline\n",
    "\n",
    "import warnings\n",
    "import matplotlib.cbook\n",
    "warnings.filterwarnings(\"ignore\", category = matplotlib.cbook.mplDeprecation)"
   ]
  },
  {
   "cell_type": "code",
   "execution_count": 41,
   "metadata": {},
   "outputs": [
    {
     "data": {
      "text/plain": [
       "[<matplotlib.lines.Line2D at 0x1b30d321190>]"
      ]
     },
     "execution_count": 41,
     "metadata": {},
     "output_type": "execute_result"
    },
    {
     "data": {
      "image/png": "[encoded data removed]",
      "text/plain": [
       "<Figure size 640x480 with 1 Axes>"
      ]
     },
     "metadata": {},
     "output_type": "display_data"
    }
   ],
   "source": [
    "plt.xticks(rotation = 90)\n",
    "plt.yscale(\"logit\")\n",
    "plt.plot(df[\"loan_amnt_cat\"], df[\"mean_bad_loan\"])"
   ]
  },
  {
   "cell_type": "code",
   "execution_count": 42,
   "metadata": {},
   "outputs": [
    {
     "data": {
      "text/html": [
       "<div>\n",
       "<style scoped>\n",
       "    .dataframe tbody tr th:only-of-type {\n",
       "        vertical-align: middle;\n",
       "    }\n",
       "\n",
       "    .dataframe tbody tr th {\n",
       "        vertical-align: top;\n",
       "    }\n",
       "\n",
       "    .dataframe thead th {\n",
       "        text-align: right;\n",
       "    }\n",
       "</style>\n",
       "<table border=\"1\" class=\"dataframe\">\n",
       "  <thead>\n",
       "    <tr style=\"text-align: right;\">\n",
       "      <th></th>\n",
       "      <th>loan_amnt_cat</th>\n",
       "      <th>nrow</th>\n",
       "      <th>mean_bad_loan</th>\n",
       "    </tr>\n",
       "  </thead>\n",
       "  <tbody>\n",
       "    <tr>\n",
       "      <th>0</th>\n",
       "      <td>(0.0,5000.0]</td>\n",
       "      <td>25785</td>\n",
       "      <td>0.163234</td>\n",
       "    </tr>\n",
       "    <tr>\n",
       "      <th>1</th>\n",
       "      <td>(5000.0,10000.0]</td>\n",
       "      <td>50384</td>\n",
       "      <td>0.164278</td>\n",
       "    </tr>\n",
       "    <tr>\n",
       "      <th>2</th>\n",
       "      <td>(10000.0,15000.0]</td>\n",
       "      <td>35552</td>\n",
       "      <td>0.173436</td>\n",
       "    </tr>\n",
       "    <tr>\n",
       "      <th>3</th>\n",
       "      <td>(15000.0,20000.0]</td>\n",
       "      <td>24659</td>\n",
       "      <td>0.208281</td>\n",
       "    </tr>\n",
       "    <tr>\n",
       "      <th>4</th>\n",
       "      <td>(20000.0,25000.0]</td>\n",
       "      <td>14447</td>\n",
       "      <td>0.214508</td>\n",
       "    </tr>\n",
       "    <tr>\n",
       "      <th>5</th>\n",
       "      <td>(25000.0,30000.0]</td>\n",
       "      <td>6913</td>\n",
       "      <td>0.238825</td>\n",
       "    </tr>\n",
       "    <tr>\n",
       "      <th>6</th>\n",
       "      <td>(30000.0,35000.0]</td>\n",
       "      <td>6247</td>\n",
       "      <td>0.236594</td>\n",
       "    </tr>\n",
       "  </tbody>\n",
       "</table>\n",
       "</div>"
      ],
      "text/plain": [
       "       loan_amnt_cat   nrow  mean_bad_loan\n",
       "0       (0.0,5000.0]  25785       0.163234\n",
       "1   (5000.0,10000.0]  50384       0.164278\n",
       "2  (10000.0,15000.0]  35552       0.173436\n",
       "3  (15000.0,20000.0]  24659       0.208281\n",
       "4  (20000.0,25000.0]  14447       0.214508\n",
       "5  (25000.0,30000.0]   6913       0.238825\n",
       "6  (30000.0,35000.0]   6247       0.236594"
      ]
     },
     "execution_count": 42,
     "metadata": {},
     "output_type": "execute_result"
    }
   ],
   "source": [
    "df"
   ]
  },
  {
   "cell_type": "code",
   "execution_count": 43,
   "metadata": {},
   "outputs": [],
   "source": [
    "x_trans.remove(\"loan_amnt\")\n",
    "x_trans.append(\"loan_amnt_core\")\n",
    "x_trans.append(\"loan_amnt_delta\")\n",
    "\n",
    "train[\"loan_amnt_core\"] = h2o.H2OFrame.ifelse(train[\"loan_amnt\"] <= 5000, 5000, train[\"loan_amnt\"])\n",
    "train[\"loan_amnt_core\"] = h2o.H2OFrame.ifelse(train[\"loan_amnt_core\"] <= 30000, train[\"loan_amnt_core\"], 30000)\n",
    "\n",
    "train[\"loan_amnt_delta\"] = train[\"loan_amnt\"] - train[\"loan_amnt_core\"]"
   ]
  },
  {
   "cell_type": "markdown",
   "metadata": {},
   "source": [
    "### Converting Term to a 0/1 Indicator\n",
    "\n",
    "Given that term of the loans are either 3 or 5 years, we will create a simplifed `term_36month` binary indicator that is 1 when the terms of the loan is for 5 years and 0 for loans with a term of 3 years."
   ]
  },
  {
   "cell_type": "code",
   "execution_count": 44,
   "metadata": {},
   "outputs": [
    {
     "data": {
      "text/html": [
       "<table class='dataframe'>\n",
       "<thead>\n",
       "<tr><th>term     </th><th style=\"text-align: right;\">  Count</th></tr>\n",
       "</thead>\n",
       "<tbody>\n",
       "<tr><td>36 months</td><td style=\"text-align: right;\"> 129950</td></tr>\n",
       "<tr><td>60 months</td><td style=\"text-align: right;\">  34037</td></tr>\n",
       "</tbody>\n",
       "</table><pre style='font-size: smaller; margin-bottom: 1em;'>[2 rows x 2 columns]</pre>"
      ],
      "text/plain": [
       "term         Count\n",
       "---------  -------\n",
       "36 months   129950\n",
       "60 months    34037\n",
       "[2 rows x 2 columns]\n"
      ]
     },
     "execution_count": 44,
     "metadata": {},
     "output_type": "execute_result"
    }
   ],
   "source": [
    "train[\"term\"].table()"
   ]
  },
  {
   "cell_type": "code",
   "execution_count": 45,
   "metadata": {},
   "outputs": [],
   "source": [
    "x_trans.remove(\"term\")\n",
    "x_trans.append(\"term_60months\")\n",
    "\n",
    "train[\"term_60months\"] = train[\"term\"] == \"60 months\""
   ]
  },
  {
   "cell_type": "code",
   "execution_count": 46,
   "metadata": {},
   "outputs": [
    {
     "data": {
      "text/html": [
       "<table class='dataframe'>\n",
       "<thead>\n",
       "<tr><th style=\"text-align: right;\">  term_60months</th><th style=\"text-align: right;\">  Count</th></tr>\n",
       "</thead>\n",
       "<tbody>\n",
       "<tr><td style=\"text-align: right;\">              0</td><td style=\"text-align: right;\"> 129950</td></tr>\n",
       "<tr><td style=\"text-align: right;\">              1</td><td style=\"text-align: right;\">  34037</td></tr>\n",
       "</tbody>\n",
       "</table><pre style='font-size: smaller; margin-bottom: 1em;'>[2 rows x 2 columns]</pre>"
      ],
      "text/plain": [
       "  term_60months    Count\n",
       "---------------  -------\n",
       "              0   129950\n",
       "              1    34037\n",
       "[2 rows x 2 columns]\n"
      ]
     },
     "execution_count": 46,
     "metadata": {},
     "output_type": "execute_result"
    }
   ],
   "source": [
    "train[\"term_60months\"].table()"
   ]
  },
  {
   "cell_type": "markdown",
   "metadata": {},
   "source": [
    "### Creating Missing Value Indicator for Employment Length\n",
    "\n",
    "The most interesting characteristic about employment length is whether or not it is missing. The divide between those with missing values for employment length to those who have a recorded employment length is 26.3% bad loans to 18.0% bad loans respectively. Interestingly, there doesn't appear to be any differences in bad loans across employment lengths."
   ]
  },
  {
   "cell_type": "code",
   "execution_count": 47,
   "metadata": {},
   "outputs": [
    {
     "name": "stderr",
     "output_type": "stream",
     "text": [
      "C:\\Users\\HP\\AppData\\Local\\Temp\\ipykernel_9312\\141756057.py:1: H2ODeprecationWarning: ``summary()`` is deprecated, please use ``show_summary()`` or ``get_summary()`` instead\n",
      "  train[\"emp_length\"].summary()\n"
     ]
    },
    {
     "data": {
      "text/html": [
       "<table class='dataframe'>\n",
       "<thead>\n",
       "<tr><th>       </th><th>emp_length        </th></tr>\n",
       "</thead>\n",
       "<tbody>\n",
       "<tr><td>type   </td><td>int               </td></tr>\n",
       "<tr><td>mins   </td><td>0.0               </td></tr>\n",
       "<tr><td>mean   </td><td>5.68435293299533  </td></tr>\n",
       "<tr><td>maxs   </td><td>10.0              </td></tr>\n",
       "<tr><td>sigma  </td><td>3.6106637311002365</td></tr>\n",
       "<tr><td>zeros  </td><td>14248             </td></tr>\n",
       "<tr><td>missing</td><td>5804              </td></tr>\n",
       "<tr><td>0      </td><td>10.0              </td></tr>\n",
       "<tr><td>1      </td><td>0.0               </td></tr>\n",
       "<tr><td>2      </td><td>10.0              </td></tr>\n",
       "<tr><td>3      </td><td>10.0              </td></tr>\n",
       "<tr><td>4      </td><td>3.0               </td></tr>\n",
       "<tr><td>5      </td><td>9.0               </td></tr>\n",
       "<tr><td>6      </td><td>4.0               </td></tr>\n",
       "<tr><td>7      </td><td>0.0               </td></tr>\n",
       "<tr><td>8      </td><td>5.0               </td></tr>\n",
       "<tr><td>9      </td><td>10.0              </td></tr>\n",
       "</tbody>\n",
       "</table><pre style='font-size: smaller; margin-bottom: 1em;'>[163987 rows x 1 column]</pre>"
      ],
      "text/plain": [
       "         emp_length\n",
       "-------  ------------------\n",
       "type     int\n",
       "mins     0.0\n",
       "mean     5.68435293299533\n",
       "maxs     10.0\n",
       "sigma    3.6106637311002365\n",
       "zeros    14248\n",
       "missing  5804\n",
       "0        10.0\n",
       "1        0.0\n",
       "2        10.0\n",
       "3        10.0\n",
       "4        3.0\n",
       "5        9.0\n",
       "6        4.0\n",
       "7        0.0\n",
       "8        5.0\n",
       "9        10.0\n",
       "[163987 rows x 1 column]\n"
      ]
     },
     "metadata": {},
     "output_type": "display_data"
    }
   ],
   "source": [
    "train[\"emp_length\"].summary()"
   ]
  },
  {
   "cell_type": "code",
   "execution_count": 48,
   "metadata": {},
   "outputs": [],
   "source": [
    "x_trans.append(\"emp_length_missing\")\n",
    "\n",
    "train[\"emp_length_missing\"] = train[\"emp_length\"] == None"
   ]
  },
  {
   "cell_type": "code",
   "execution_count": 49,
   "metadata": {},
   "outputs": [
    {
     "name": "stdout",
     "output_type": "stream",
     "text": [
      "Parse progress: |████████████████████████████████████████████████████████████████| (done) 100%\n"
     ]
    },
    {
     "data": {
      "text/html": [
       "<table class='dataframe'>\n",
       "<thead>\n",
       "<tr><th style=\"text-align: right;\">  emp_length_missing</th><th style=\"text-align: right;\">  cv_fold</th><th style=\"text-align: right;\">  te_emp_length_missing</th></tr>\n",
       "</thead>\n",
       "<tbody>\n",
       "<tr><td style=\"text-align: right;\">                   0</td><td style=\"text-align: right;\">        0</td><td style=\"text-align: right;\">               -1.52145</td></tr>\n",
       "<tr><td style=\"text-align: right;\">                   1</td><td style=\"text-align: right;\">        0</td><td style=\"text-align: right;\">               -1.03907</td></tr>\n",
       "<tr><td style=\"text-align: right;\">                   0</td><td style=\"text-align: right;\">        1</td><td style=\"text-align: right;\">               -1.51691</td></tr>\n",
       "<tr><td style=\"text-align: right;\">                   1</td><td style=\"text-align: right;\">        1</td><td style=\"text-align: right;\">               -1.02443</td></tr>\n",
       "<tr><td style=\"text-align: right;\">                   0</td><td style=\"text-align: right;\">        2</td><td style=\"text-align: right;\">               -1.51666</td></tr>\n",
       "<tr><td style=\"text-align: right;\">                   1</td><td style=\"text-align: right;\">        2</td><td style=\"text-align: right;\">               -1.05314</td></tr>\n",
       "<tr><td style=\"text-align: right;\">                   0</td><td style=\"text-align: right;\">        3</td><td style=\"text-align: right;\">               -1.51154</td></tr>\n",
       "<tr><td style=\"text-align: right;\">                   1</td><td style=\"text-align: right;\">        3</td><td style=\"text-align: right;\">               -1.02223</td></tr>\n",
       "<tr><td style=\"text-align: right;\">                   0</td><td style=\"text-align: right;\">        4</td><td style=\"text-align: right;\">               -1.51157</td></tr>\n",
       "<tr><td style=\"text-align: right;\">                   1</td><td style=\"text-align: right;\">        4</td><td style=\"text-align: right;\">               -1.01582</td></tr>\n",
       "</tbody>\n",
       "</table><pre style='font-size: smaller; margin-bottom: 1em;'>[10 rows x 3 columns]</pre>"
      ],
      "text/plain": [
       "  emp_length_missing    cv_fold    te_emp_length_missing\n",
       "--------------------  ---------  -----------------------\n",
       "                   0          0                 -1.52145\n",
       "                   1          0                 -1.03907\n",
       "                   0          1                 -1.51691\n",
       "                   1          1                 -1.02443\n",
       "                   0          2                 -1.51666\n",
       "                   1          2                 -1.05314\n",
       "                   0          3                 -1.51154\n",
       "                   1          3                 -1.02223\n",
       "                   0          4                 -1.51157\n",
       "                   1          4                 -1.01582\n",
       "[10 rows x 3 columns]\n"
      ]
     },
     "execution_count": 49,
     "metadata": {},
     "output_type": "execute_result"
    }
   ],
   "source": [
    "mean_target_encoding(train, \"emp_length_missing\")"
   ]
  },
  {
   "cell_type": "code",
   "execution_count": 50,
   "metadata": {},
   "outputs": [],
   "source": [
    "df = mean_target(train, \"emp_length\")"
   ]
  },
  {
   "cell_type": "code",
   "execution_count": 51,
   "metadata": {},
   "outputs": [
    {
     "data": {
      "text/plain": [
       "[<matplotlib.lines.Line2D at 0x1b30d7c6f10>]"
      ]
     },
     "execution_count": 51,
     "metadata": {},
     "output_type": "execute_result"
    },
    {
     "data": {
      "image/png": "[encoded data removed]",
      "text/plain": [
       "<Figure size 640x480 with 1 Axes>"
      ]
     },
     "metadata": {},
     "output_type": "display_data"
    }
   ],
   "source": [
    "plt.yscale(\"logit\")\n",
    "plt.plot(df[\"emp_length\"], df[\"mean_bad_loan\"])"
   ]
  },
  {
   "cell_type": "code",
   "execution_count": 52,
   "metadata": {},
   "outputs": [
    {
     "data": {
      "text/html": [
       "<div>\n",
       "<style scoped>\n",
       "    .dataframe tbody tr th:only-of-type {\n",
       "        vertical-align: middle;\n",
       "    }\n",
       "\n",
       "    .dataframe tbody tr th {\n",
       "        vertical-align: top;\n",
       "    }\n",
       "\n",
       "    .dataframe thead th {\n",
       "        text-align: right;\n",
       "    }\n",
       "</style>\n",
       "<table border=\"1\" class=\"dataframe\">\n",
       "  <thead>\n",
       "    <tr style=\"text-align: right;\">\n",
       "      <th></th>\n",
       "      <th>emp_length</th>\n",
       "      <th>nrow</th>\n",
       "      <th>mean_bad_loan</th>\n",
       "    </tr>\n",
       "  </thead>\n",
       "  <tbody>\n",
       "    <tr>\n",
       "      <th>0</th>\n",
       "      <td>NaN</td>\n",
       "      <td>0</td>\n",
       "      <td>0.262922</td>\n",
       "    </tr>\n",
       "    <tr>\n",
       "      <th>1</th>\n",
       "      <td>0.0</td>\n",
       "      <td>14248</td>\n",
       "      <td>0.184307</td>\n",
       "    </tr>\n",
       "    <tr>\n",
       "      <th>2</th>\n",
       "      <td>1.0</td>\n",
       "      <td>11414</td>\n",
       "      <td>0.177238</td>\n",
       "    </tr>\n",
       "    <tr>\n",
       "      <th>3</th>\n",
       "      <td>2.0</td>\n",
       "      <td>15766</td>\n",
       "      <td>0.173728</td>\n",
       "    </tr>\n",
       "    <tr>\n",
       "      <th>4</th>\n",
       "      <td>3.0</td>\n",
       "      <td>13611</td>\n",
       "      <td>0.178679</td>\n",
       "    </tr>\n",
       "    <tr>\n",
       "      <th>5</th>\n",
       "      <td>4.0</td>\n",
       "      <td>11024</td>\n",
       "      <td>0.173258</td>\n",
       "    </tr>\n",
       "    <tr>\n",
       "      <th>6</th>\n",
       "      <td>5.0</td>\n",
       "      <td>12347</td>\n",
       "      <td>0.181664</td>\n",
       "    </tr>\n",
       "    <tr>\n",
       "      <th>7</th>\n",
       "      <td>6.0</td>\n",
       "      <td>10000</td>\n",
       "      <td>0.188500</td>\n",
       "    </tr>\n",
       "    <tr>\n",
       "      <th>8</th>\n",
       "      <td>7.0</td>\n",
       "      <td>9079</td>\n",
       "      <td>0.190770</td>\n",
       "    </tr>\n",
       "    <tr>\n",
       "      <th>9</th>\n",
       "      <td>8.0</td>\n",
       "      <td>7424</td>\n",
       "      <td>0.185614</td>\n",
       "    </tr>\n",
       "    <tr>\n",
       "      <th>10</th>\n",
       "      <td>9.0</td>\n",
       "      <td>6087</td>\n",
       "      <td>0.187120</td>\n",
       "    </tr>\n",
       "    <tr>\n",
       "      <th>11</th>\n",
       "      <td>10.0</td>\n",
       "      <td>47183</td>\n",
       "      <td>0.177670</td>\n",
       "    </tr>\n",
       "  </tbody>\n",
       "</table>\n",
       "</div>"
      ],
      "text/plain": [
       "    emp_length   nrow  mean_bad_loan\n",
       "0          NaN      0       0.262922\n",
       "1          0.0  14248       0.184307\n",
       "2          1.0  11414       0.177238\n",
       "3          2.0  15766       0.173728\n",
       "4          3.0  13611       0.178679\n",
       "5          4.0  11024       0.173258\n",
       "6          5.0  12347       0.181664\n",
       "7          6.0  10000       0.188500\n",
       "8          7.0   9079       0.190770\n",
       "9          8.0   7424       0.185614\n",
       "10         9.0   6087       0.187120\n",
       "11        10.0  47183       0.177670"
      ]
     },
     "execution_count": 52,
     "metadata": {},
     "output_type": "execute_result"
    }
   ],
   "source": [
    "df"
   ]
  },
  {
   "cell_type": "markdown",
   "metadata": {},
   "source": [
    "### Combining Categories in Home Ownership\n",
    "\n",
    "Although there are 6 recorded categories within home ownership, only three had over 200 observations: OWN, MORTGAGE, and RENT. The remaining three are so infrequent we will combine them {ANY, NONE, OTHER} with RENT to form an enlarged OTHER category. This new `home_ownership_3cat` variable will have values in {MORTGAGE, OTHER, OWN}."
   ]
  },
  {
   "cell_type": "code",
   "execution_count": 53,
   "metadata": {},
   "outputs": [
    {
     "data": {
      "text/html": [
       "<div>\n",
       "<style scoped>\n",
       "    .dataframe tbody tr th:only-of-type {\n",
       "        vertical-align: middle;\n",
       "    }\n",
       "\n",
       "    .dataframe tbody tr th {\n",
       "        vertical-align: top;\n",
       "    }\n",
       "\n",
       "    .dataframe thead th {\n",
       "        text-align: right;\n",
       "    }\n",
       "</style>\n",
       "<table border=\"1\" class=\"dataframe\">\n",
       "  <thead>\n",
       "    <tr style=\"text-align: right;\">\n",
       "      <th></th>\n",
       "      <th>home_ownership</th>\n",
       "      <th>nrow</th>\n",
       "      <th>mean_bad_loan</th>\n",
       "    </tr>\n",
       "  </thead>\n",
       "  <tbody>\n",
       "    <tr>\n",
       "      <th>0</th>\n",
       "      <td>ANY</td>\n",
       "      <td>1</td>\n",
       "      <td>0.000000</td>\n",
       "    </tr>\n",
       "    <tr>\n",
       "      <th>1</th>\n",
       "      <td>MORTGAGE</td>\n",
       "      <td>79714</td>\n",
       "      <td>0.164137</td>\n",
       "    </tr>\n",
       "    <tr>\n",
       "      <th>2</th>\n",
       "      <td>NONE</td>\n",
       "      <td>30</td>\n",
       "      <td>0.233333</td>\n",
       "    </tr>\n",
       "    <tr>\n",
       "      <th>3</th>\n",
       "      <td>OTHER</td>\n",
       "      <td>156</td>\n",
       "      <td>0.224359</td>\n",
       "    </tr>\n",
       "    <tr>\n",
       "      <th>4</th>\n",
       "      <td>OWN</td>\n",
       "      <td>13560</td>\n",
       "      <td>0.188348</td>\n",
       "    </tr>\n",
       "    <tr>\n",
       "      <th>5</th>\n",
       "      <td>RENT</td>\n",
       "      <td>70526</td>\n",
       "      <td>0.203273</td>\n",
       "    </tr>\n",
       "  </tbody>\n",
       "</table>\n",
       "</div>"
      ],
      "text/plain": [
       "  home_ownership   nrow  mean_bad_loan\n",
       "0            ANY      1       0.000000\n",
       "1       MORTGAGE  79714       0.164137\n",
       "2           NONE     30       0.233333\n",
       "3          OTHER    156       0.224359\n",
       "4            OWN  13560       0.188348\n",
       "5           RENT  70526       0.203273"
      ]
     },
     "execution_count": 53,
     "metadata": {},
     "output_type": "execute_result"
    }
   ],
   "source": [
    "mean_target(train, \"home_ownership\")"
   ]
  },
  {
   "cell_type": "code",
   "execution_count": 54,
   "metadata": {},
   "outputs": [],
   "source": [
    "lvls = [\"OTHER\", \"MORTGAGE\", \"OTHER\", \"OTHER\", \"OWN\", \"OTHER\"]\n",
    "train[\"home_ownership_3cat\"] = train[\"home_ownership\"].set_levels(lvls).ascharacter().asfactor()"
   ]
  },
  {
   "cell_type": "code",
   "execution_count": 55,
   "metadata": {},
   "outputs": [
    {
     "data": {
      "text/html": [
       "<table class='dataframe'>\n",
       "<thead>\n",
       "<tr><th>home_ownership  </th><th>home_ownership_3cat  </th><th style=\"text-align: right;\">  Counts</th></tr>\n",
       "</thead>\n",
       "<tbody>\n",
       "<tr><td>ANY             </td><td>OTHER                </td><td style=\"text-align: right;\">       1</td></tr>\n",
       "<tr><td>MORTGAGE        </td><td>MORTGAGE             </td><td style=\"text-align: right;\">   79714</td></tr>\n",
       "<tr><td>NONE            </td><td>OTHER                </td><td style=\"text-align: right;\">      30</td></tr>\n",
       "<tr><td>OTHER           </td><td>OTHER                </td><td style=\"text-align: right;\">     156</td></tr>\n",
       "<tr><td>OWN             </td><td>OWN                  </td><td style=\"text-align: right;\">   13560</td></tr>\n",
       "<tr><td>RENT            </td><td>OTHER                </td><td style=\"text-align: right;\">   70526</td></tr>\n",
       "</tbody>\n",
       "</table><pre style='font-size: smaller; margin-bottom: 1em;'>[6 rows x 3 columns]</pre>"
      ],
      "text/plain": [
       "home_ownership    home_ownership_3cat      Counts\n",
       "----------------  ---------------------  --------\n",
       "ANY               OTHER                         1\n",
       "MORTGAGE          MORTGAGE                  79714\n",
       "NONE              OTHER                        30\n",
       "OTHER             OTHER                       156\n",
       "OWN               OWN                       13560\n",
       "RENT              OTHER                     70526\n",
       "[6 rows x 3 columns]\n"
      ]
     },
     "execution_count": 55,
     "metadata": {},
     "output_type": "execute_result"
    }
   ],
   "source": [
    "train[[\"home_ownership\", \"home_ownership_3cat\"]].table()"
   ]
  },
  {
   "cell_type": "code",
   "execution_count": 56,
   "metadata": {},
   "outputs": [
    {
     "data": {
      "text/html": [
       "<div>\n",
       "<style scoped>\n",
       "    .dataframe tbody tr th:only-of-type {\n",
       "        vertical-align: middle;\n",
       "    }\n",
       "\n",
       "    .dataframe tbody tr th {\n",
       "        vertical-align: top;\n",
       "    }\n",
       "\n",
       "    .dataframe thead th {\n",
       "        text-align: right;\n",
       "    }\n",
       "</style>\n",
       "<table border=\"1\" class=\"dataframe\">\n",
       "  <thead>\n",
       "    <tr style=\"text-align: right;\">\n",
       "      <th></th>\n",
       "      <th>home_ownership_3cat</th>\n",
       "      <th>nrow</th>\n",
       "      <th>mean_bad_loan</th>\n",
       "    </tr>\n",
       "  </thead>\n",
       "  <tbody>\n",
       "    <tr>\n",
       "      <th>0</th>\n",
       "      <td>MORTGAGE</td>\n",
       "      <td>79714</td>\n",
       "      <td>0.164137</td>\n",
       "    </tr>\n",
       "    <tr>\n",
       "      <th>1</th>\n",
       "      <td>OTHER</td>\n",
       "      <td>70713</td>\n",
       "      <td>0.203329</td>\n",
       "    </tr>\n",
       "    <tr>\n",
       "      <th>2</th>\n",
       "      <td>OWN</td>\n",
       "      <td>13560</td>\n",
       "      <td>0.188348</td>\n",
       "    </tr>\n",
       "  </tbody>\n",
       "</table>\n",
       "</div>"
      ],
      "text/plain": [
       "  home_ownership_3cat   nrow  mean_bad_loan\n",
       "0            MORTGAGE  79714       0.164137\n",
       "1               OTHER  70713       0.203329\n",
       "2                 OWN  13560       0.188348"
      ]
     },
     "execution_count": 56,
     "metadata": {},
     "output_type": "execute_result"
    }
   ],
   "source": [
    "mean_target(train, \"home_ownership_3cat\")"
   ]
  },
  {
   "cell_type": "code",
   "execution_count": 57,
   "metadata": {},
   "outputs": [],
   "source": [
    "x_trans.remove(\"home_ownership\")\n",
    "x_trans.append(\"home_ownership_3cat\")"
   ]
  },
  {
   "cell_type": "markdown",
   "metadata": {},
   "source": [
    "### Separating Typical from Extreme Annual Income\n",
    "\n",
    "Looking at the occurance of bad loans on a logit scale reveal that the chance of a bad loan roughly decreases linearly in annual income from \\$10,000 to \\$105,000 and is relatively flat above \\$105,000. To reflect this finding in the modeling, we will replace the original `annual_inc` measure with two derived measures:\n",
    "\n",
    "\\begin{eqnarray}\n",
    "annual\\_inc\\_core & = & \\max(10000, \\min(annual\\_inc, 105000)) \\\\\n",
    "annual\\_inc\\_diff & = & annual\\_inc - annual\\_inc\\_core\n",
    "\\end{eqnarray}"
   ]
  },
  {
   "cell_type": "code",
   "execution_count": 58,
   "metadata": {},
   "outputs": [
    {
     "data": {
      "text/html": [
       "<table class='dataframe'>\n",
       "<thead>\n",
       "<tr><th style=\"text-align: right;\">  Probs</th><th style=\"text-align: right;\">  annual_incQuantiles</th></tr>\n",
       "</thead>\n",
       "<tbody>\n",
       "<tr><td style=\"text-align: right;\">   0   </td><td style=\"text-align: right;\">       1896          </td></tr>\n",
       "<tr><td style=\"text-align: right;\">   0.05</td><td style=\"text-align: right;\">      27000          </td></tr>\n",
       "<tr><td style=\"text-align: right;\">   0.25</td><td style=\"text-align: right;\">      45000          </td></tr>\n",
       "<tr><td style=\"text-align: right;\">   0.5 </td><td style=\"text-align: right;\">      61000          </td></tr>\n",
       "<tr><td style=\"text-align: right;\">   0.75</td><td style=\"text-align: right;\">      85000          </td></tr>\n",
       "<tr><td style=\"text-align: right;\">   0.95</td><td style=\"text-align: right;\">     145000          </td></tr>\n",
       "<tr><td style=\"text-align: right;\">   1   </td><td style=\"text-align: right;\">          7.14178e+06</td></tr>\n",
       "</tbody>\n",
       "</table><pre style='font-size: smaller; margin-bottom: 1em;'>[7 rows x 2 columns]</pre>"
      ],
      "text/plain": [
       "  Probs    annual_incQuantiles\n",
       "-------  ---------------------\n",
       "   0            1896\n",
       "   0.05        27000\n",
       "   0.25        45000\n",
       "   0.5         61000\n",
       "   0.75        85000\n",
       "   0.95       145000\n",
       "   1               7.14178e+06\n",
       "[7 rows x 2 columns]\n"
      ]
     },
     "execution_count": 58,
     "metadata": {},
     "output_type": "execute_result"
    }
   ],
   "source": [
    "train[\"annual_inc\"].quantile([0, 0.05, 0.25, 0.5, 0.75, 0.95, 1])"
   ]
  },
  {
   "cell_type": "code",
   "execution_count": 59,
   "metadata": {},
   "outputs": [],
   "source": [
    "breaks = np.linspace(0, 150000, 31).tolist()\n",
    "train[\"annual_inc_cat\"] = train[\"annual_inc\"].cut(breaks = breaks)"
   ]
  },
  {
   "cell_type": "code",
   "execution_count": 60,
   "metadata": {},
   "outputs": [],
   "source": [
    "df = mean_target(train, \"annual_inc_cat\")"
   ]
  },
  {
   "cell_type": "code",
   "execution_count": 61,
   "metadata": {},
   "outputs": [
    {
     "data": {
      "text/plain": [
       "[<matplotlib.lines.Line2D at 0x1b30d9c3880>]"
      ]
     },
     "execution_count": 61,
     "metadata": {},
     "output_type": "execute_result"
    },
    {
     "data": {
      "image/png": "[encoded data removed]",
      "text/plain": [
       "<Figure size 640x480 with 1 Axes>"
      ]
     },
     "metadata": {},
     "output_type": "display_data"
    }
   ],
   "source": [
    "plt.yscale(\"logit\")\n",
    "plt.plot(df[\"annual_inc_cat\"].index, df[\"mean_bad_loan\"])"
   ]
  },
  {
   "cell_type": "code",
   "execution_count": 62,
   "metadata": {},
   "outputs": [
    {
     "data": {
      "text/html": [
       "<div>\n",
       "<style scoped>\n",
       "    .dataframe tbody tr th:only-of-type {\n",
       "        vertical-align: middle;\n",
       "    }\n",
       "\n",
       "    .dataframe tbody tr th {\n",
       "        vertical-align: top;\n",
       "    }\n",
       "\n",
       "    .dataframe thead th {\n",
       "        text-align: right;\n",
       "    }\n",
       "</style>\n",
       "<table border=\"1\" class=\"dataframe\">\n",
       "  <thead>\n",
       "    <tr style=\"text-align: right;\">\n",
       "      <th></th>\n",
       "      <th>annual_inc_cat</th>\n",
       "      <th>nrow</th>\n",
       "      <th>mean_bad_loan</th>\n",
       "    </tr>\n",
       "  </thead>\n",
       "  <tbody>\n",
       "    <tr>\n",
       "      <th>0</th>\n",
       "      <td>NaN</td>\n",
       "      <td>0</td>\n",
       "      <td>0.126695</td>\n",
       "    </tr>\n",
       "    <tr>\n",
       "      <th>1</th>\n",
       "      <td>(0.0,5000.0]</td>\n",
       "      <td>25</td>\n",
       "      <td>0.240000</td>\n",
       "    </tr>\n",
       "    <tr>\n",
       "      <th>2</th>\n",
       "      <td>(5000.0,10000.0]</td>\n",
       "      <td>192</td>\n",
       "      <td>0.213542</td>\n",
       "    </tr>\n",
       "    <tr>\n",
       "      <th>3</th>\n",
       "      <td>(10000.0,15000.0]</td>\n",
       "      <td>868</td>\n",
       "      <td>0.288018</td>\n",
       "    </tr>\n",
       "    <tr>\n",
       "      <th>4</th>\n",
       "      <td>(15000.0,20000.0]</td>\n",
       "      <td>1847</td>\n",
       "      <td>0.251760</td>\n",
       "    </tr>\n",
       "    <tr>\n",
       "      <th>5</th>\n",
       "      <td>(20000.0,25000.0]</td>\n",
       "      <td>3975</td>\n",
       "      <td>0.241509</td>\n",
       "    </tr>\n",
       "  </tbody>\n",
       "</table>\n",
       "</div>"
      ],
      "text/plain": [
       "      annual_inc_cat  nrow  mean_bad_loan\n",
       "0                NaN     0       0.126695\n",
       "1       (0.0,5000.0]    25       0.240000\n",
       "2   (5000.0,10000.0]   192       0.213542\n",
       "3  (10000.0,15000.0]   868       0.288018\n",
       "4  (15000.0,20000.0]  1847       0.251760\n",
       "5  (20000.0,25000.0]  3975       0.241509"
      ]
     },
     "execution_count": 62,
     "metadata": {},
     "output_type": "execute_result"
    }
   ],
   "source": [
    "df[0:6]"
   ]
  },
  {
   "cell_type": "code",
   "execution_count": 63,
   "metadata": {},
   "outputs": [
    {
     "data": {
      "text/html": [
       "<div>\n",
       "<style scoped>\n",
       "    .dataframe tbody tr th:only-of-type {\n",
       "        vertical-align: middle;\n",
       "    }\n",
       "\n",
       "    .dataframe tbody tr th {\n",
       "        vertical-align: top;\n",
       "    }\n",
       "\n",
       "    .dataframe thead th {\n",
       "        text-align: right;\n",
       "    }\n",
       "</style>\n",
       "<table border=\"1\" class=\"dataframe\">\n",
       "  <thead>\n",
       "    <tr style=\"text-align: right;\">\n",
       "      <th></th>\n",
       "      <th>annual_inc_cat</th>\n",
       "      <th>nrow</th>\n",
       "      <th>mean_bad_loan</th>\n",
       "    </tr>\n",
       "  </thead>\n",
       "  <tbody>\n",
       "    <tr>\n",
       "      <th>20</th>\n",
       "      <td>(95000.0,100000.0]</td>\n",
       "      <td>5473</td>\n",
       "      <td>0.138315</td>\n",
       "    </tr>\n",
       "    <tr>\n",
       "      <th>21</th>\n",
       "      <td>(100000.0,105000.0]</td>\n",
       "      <td>2860</td>\n",
       "      <td>0.129021</td>\n",
       "    </tr>\n",
       "    <tr>\n",
       "      <th>22</th>\n",
       "      <td>(105000.0,110000.0]</td>\n",
       "      <td>3275</td>\n",
       "      <td>0.133740</td>\n",
       "    </tr>\n",
       "    <tr>\n",
       "      <th>23</th>\n",
       "      <td>(110000.0,115000.0]</td>\n",
       "      <td>1908</td>\n",
       "      <td>0.108491</td>\n",
       "    </tr>\n",
       "    <tr>\n",
       "      <th>24</th>\n",
       "      <td>(115000.0,120000.0]</td>\n",
       "      <td>3009</td>\n",
       "      <td>0.147557</td>\n",
       "    </tr>\n",
       "    <tr>\n",
       "      <th>25</th>\n",
       "      <td>(120000.0,125000.0]</td>\n",
       "      <td>1741</td>\n",
       "      <td>0.125790</td>\n",
       "    </tr>\n",
       "    <tr>\n",
       "      <th>26</th>\n",
       "      <td>(125000.0,130000.0]</td>\n",
       "      <td>1642</td>\n",
       "      <td>0.107186</td>\n",
       "    </tr>\n",
       "    <tr>\n",
       "      <th>27</th>\n",
       "      <td>(130000.0,135000.0]</td>\n",
       "      <td>974</td>\n",
       "      <td>0.120123</td>\n",
       "    </tr>\n",
       "    <tr>\n",
       "      <th>28</th>\n",
       "      <td>(135000.0,140000.0]</td>\n",
       "      <td>1235</td>\n",
       "      <td>0.132794</td>\n",
       "    </tr>\n",
       "    <tr>\n",
       "      <th>29</th>\n",
       "      <td>(140000.0,145000.0]</td>\n",
       "      <td>746</td>\n",
       "      <td>0.107239</td>\n",
       "    </tr>\n",
       "    <tr>\n",
       "      <th>30</th>\n",
       "      <td>(145000.0,150000.0]</td>\n",
       "      <td>1492</td>\n",
       "      <td>0.136729</td>\n",
       "    </tr>\n",
       "  </tbody>\n",
       "</table>\n",
       "</div>"
      ],
      "text/plain": [
       "         annual_inc_cat  nrow  mean_bad_loan\n",
       "20   (95000.0,100000.0]  5473       0.138315\n",
       "21  (100000.0,105000.0]  2860       0.129021\n",
       "22  (105000.0,110000.0]  3275       0.133740\n",
       "23  (110000.0,115000.0]  1908       0.108491\n",
       "24  (115000.0,120000.0]  3009       0.147557\n",
       "25  (120000.0,125000.0]  1741       0.125790\n",
       "26  (125000.0,130000.0]  1642       0.107186\n",
       "27  (130000.0,135000.0]   974       0.120123\n",
       "28  (135000.0,140000.0]  1235       0.132794\n",
       "29  (140000.0,145000.0]   746       0.107239\n",
       "30  (145000.0,150000.0]  1492       0.136729"
      ]
     },
     "execution_count": 63,
     "metadata": {},
     "output_type": "execute_result"
    }
   ],
   "source": [
    "df[20:31]"
   ]
  },
  {
   "cell_type": "code",
   "execution_count": 64,
   "metadata": {},
   "outputs": [],
   "source": [
    "x_trans.remove(\"annual_inc\")\n",
    "x_trans.append(\"annual_inc_core\")\n",
    "x_trans.append(\"annual_inc_delta\")\n",
    "\n",
    "train[\"annual_inc_core\"] = h2o.H2OFrame.ifelse(train[\"annual_inc\"] <= 10000, 10000, train[\"annual_inc\"])\n",
    "train[\"annual_inc_core\"] = h2o.H2OFrame.ifelse(train[\"annual_inc_core\"] <= 105000,\n",
    "                                               train[\"annual_inc_core\"], 105000)\n",
    "\n",
    "train[\"annual_inc_delta\"] = train[\"annual_inc\"] - train[\"annual_inc_core\"]"
   ]
  },
  {
   "cell_type": "markdown",
   "metadata": {},
   "source": [
    "### Creating Target Encoding for Loan Purpose\n",
    "\n",
    "Given that there is a high concentration of loans for debt consolidation (56.87%), a sizable number for credit card (18.78%), and the remaining 24.35% loans are spread amongst 12 other purposes, we will use mean target encoding to avoid overfitting of the later group."
   ]
  },
  {
   "cell_type": "code",
   "execution_count": 65,
   "metadata": {},
   "outputs": [
    {
     "name": "stdout",
     "output_type": "stream",
     "text": [
      "               purpose  Count  Percent\n",
      "0   debt_consolidation  93261    56.87\n",
      "1          credit_card  30792    18.78\n",
      "2                other  10492     6.40\n",
      "3     home_improvement   9872     6.02\n",
      "4       major_purchase   4686     2.86\n",
      "5       small_business   3841     2.34\n",
      "6                  car   2842     1.73\n",
      "7              medical   2029     1.24\n",
      "8              wedding   1751     1.07\n",
      "9               moving   1464     0.89\n",
      "10               house   1245     0.76\n",
      "11            vacation   1096     0.67\n",
      "12         educational    418     0.25\n",
      "13    renewable_energy    198     0.12\n"
     ]
    }
   ],
   "source": [
    "tbl = train[\"purpose\"].table().as_data_frame()\n",
    "tbl[\"Percent\"] = np.round((100 * tbl[\"Count\"]/train.nrows), 2)\n",
    "tbl = tbl.sort_values(by = \"Count\", ascending = 0)\n",
    "tbl = tbl.reset_index(drop = True)\n",
    "print(tbl)"
   ]
  },
  {
   "cell_type": "code",
   "execution_count": 66,
   "metadata": {},
   "outputs": [],
   "source": [
    "df = mean_target(train, \"purpose\")"
   ]
  },
  {
   "cell_type": "code",
   "execution_count": 67,
   "metadata": {},
   "outputs": [
    {
     "data": {
      "text/html": [
       "<div>\n",
       "<style scoped>\n",
       "    .dataframe tbody tr th:only-of-type {\n",
       "        vertical-align: middle;\n",
       "    }\n",
       "\n",
       "    .dataframe tbody tr th {\n",
       "        vertical-align: top;\n",
       "    }\n",
       "\n",
       "    .dataframe thead th {\n",
       "        text-align: right;\n",
       "    }\n",
       "</style>\n",
       "<table border=\"1\" class=\"dataframe\">\n",
       "  <thead>\n",
       "    <tr style=\"text-align: right;\">\n",
       "      <th></th>\n",
       "      <th>purpose</th>\n",
       "      <th>nrow</th>\n",
       "      <th>mean_bad_loan</th>\n",
       "    </tr>\n",
       "  </thead>\n",
       "  <tbody>\n",
       "    <tr>\n",
       "      <th>0</th>\n",
       "      <td>small_business</td>\n",
       "      <td>3841</td>\n",
       "      <td>0.309034</td>\n",
       "    </tr>\n",
       "    <tr>\n",
       "      <th>1</th>\n",
       "      <td>renewable_energy</td>\n",
       "      <td>198</td>\n",
       "      <td>0.227273</td>\n",
       "    </tr>\n",
       "    <tr>\n",
       "      <th>2</th>\n",
       "      <td>other</td>\n",
       "      <td>10492</td>\n",
       "      <td>0.214354</td>\n",
       "    </tr>\n",
       "    <tr>\n",
       "      <th>3</th>\n",
       "      <td>educational</td>\n",
       "      <td>418</td>\n",
       "      <td>0.210526</td>\n",
       "    </tr>\n",
       "    <tr>\n",
       "      <th>4</th>\n",
       "      <td>moving</td>\n",
       "      <td>1464</td>\n",
       "      <td>0.207650</td>\n",
       "    </tr>\n",
       "    <tr>\n",
       "      <th>5</th>\n",
       "      <td>medical</td>\n",
       "      <td>2029</td>\n",
       "      <td>0.203056</td>\n",
       "    </tr>\n",
       "    <tr>\n",
       "      <th>6</th>\n",
       "      <td>debt_consolidation</td>\n",
       "      <td>93261</td>\n",
       "      <td>0.189479</td>\n",
       "    </tr>\n",
       "    <tr>\n",
       "      <th>7</th>\n",
       "      <td>house</td>\n",
       "      <td>1245</td>\n",
       "      <td>0.182329</td>\n",
       "    </tr>\n",
       "    <tr>\n",
       "      <th>8</th>\n",
       "      <td>vacation</td>\n",
       "      <td>1096</td>\n",
       "      <td>0.178832</td>\n",
       "    </tr>\n",
       "    <tr>\n",
       "      <th>9</th>\n",
       "      <td>credit_card</td>\n",
       "      <td>30792</td>\n",
       "      <td>0.157281</td>\n",
       "    </tr>\n",
       "    <tr>\n",
       "      <th>10</th>\n",
       "      <td>home_improvement</td>\n",
       "      <td>9872</td>\n",
       "      <td>0.155895</td>\n",
       "    </tr>\n",
       "    <tr>\n",
       "      <th>11</th>\n",
       "      <td>wedding</td>\n",
       "      <td>1751</td>\n",
       "      <td>0.145060</td>\n",
       "    </tr>\n",
       "    <tr>\n",
       "      <th>12</th>\n",
       "      <td>major_purchase</td>\n",
       "      <td>4686</td>\n",
       "      <td>0.137217</td>\n",
       "    </tr>\n",
       "    <tr>\n",
       "      <th>13</th>\n",
       "      <td>car</td>\n",
       "      <td>2842</td>\n",
       "      <td>0.125968</td>\n",
       "    </tr>\n",
       "  </tbody>\n",
       "</table>\n",
       "</div>"
      ],
      "text/plain": [
       "               purpose   nrow  mean_bad_loan\n",
       "0       small_business   3841       0.309034\n",
       "1     renewable_energy    198       0.227273\n",
       "2                other  10492       0.214354\n",
       "3          educational    418       0.210526\n",
       "4               moving   1464       0.207650\n",
       "5              medical   2029       0.203056\n",
       "6   debt_consolidation  93261       0.189479\n",
       "7                house   1245       0.182329\n",
       "8             vacation   1096       0.178832\n",
       "9          credit_card  30792       0.157281\n",
       "10    home_improvement   9872       0.155895\n",
       "11             wedding   1751       0.145060\n",
       "12      major_purchase   4686       0.137217\n",
       "13                 car   2842       0.125968"
      ]
     },
     "execution_count": 67,
     "metadata": {},
     "output_type": "execute_result"
    }
   ],
   "source": [
    "df = df.sort_values(by = \"mean_bad_loan\", ascending = 0)\n",
    "df = df.reset_index(drop = True)\n",
    "df"
   ]
  },
  {
   "cell_type": "code",
   "execution_count": 68,
   "metadata": {},
   "outputs": [
    {
     "data": {
      "text/plain": [
       "[<matplotlib.lines.Line2D at 0x1b30dba49d0>]"
      ]
     },
     "execution_count": 68,
     "metadata": {},
     "output_type": "execute_result"
    },
    {
     "data": {
      "image/png": "[encoded data removed]",
      "text/plain": [
       "<Figure size 640x480 with 1 Axes>"
      ]
     },
     "metadata": {},
     "output_type": "display_data"
    }
   ],
   "source": [
    "plt.xticks(rotation = 90)\n",
    "plt.yscale(\"logit\")\n",
    "plt.plot(df[\"purpose\"], df[\"mean_bad_loan\"])"
   ]
  },
  {
   "cell_type": "code",
   "execution_count": 69,
   "metadata": {},
   "outputs": [
    {
     "name": "stdout",
     "output_type": "stream",
     "text": [
      "Parse progress: |████████████████████████████████████████████████████████████████| (done) 100%\n"
     ]
    }
   ],
   "source": [
    "te_purpose = mean_target_encoding(train, \"purpose\")"
   ]
  },
  {
   "cell_type": "code",
   "execution_count": 70,
   "metadata": {},
   "outputs": [],
   "source": [
    "train = train.merge(te_purpose, all_x = True)"
   ]
  },
  {
   "cell_type": "code",
   "execution_count": 71,
   "metadata": {},
   "outputs": [],
   "source": [
    "x_trans.remove(\"purpose\")\n",
    "x_trans.append(\"te_purpose\")"
   ]
  },
  {
   "cell_type": "code",
   "execution_count": 72,
   "metadata": {},
   "outputs": [
    {
     "data": {
      "image/png": "[encoded data removed]",
      "text/plain": [
       "<Figure size 640x480 with 1 Axes>"
      ]
     },
     "metadata": {},
     "output_type": "display_data"
    },
    {
     "data": {
      "text/html": [
       "<table class='dataframe'>\n",
       "<thead>\n",
       "<tr><th style=\"text-align: right;\">  breaks</th><th style=\"text-align: right;\">  counts</th><th style=\"text-align: right;\">  mids_true</th><th style=\"text-align: right;\">     mids</th><th style=\"text-align: right;\">     widths</th></tr>\n",
       "</thead>\n",
       "<tbody>\n",
       "<tr><td style=\"text-align: right;\">-1.93625</td><td style=\"text-align: right;\">     nan</td><td style=\"text-align: right;\"> nan       </td><td style=\"text-align: right;\">nan      </td><td style=\"text-align: right;\">nan        </td></tr>\n",
       "<tr><td style=\"text-align: right;\">-1.87208</td><td style=\"text-align: right;\">    1695</td><td style=\"text-align: right;\">  -1.00021 </td><td style=\"text-align: right;\"> -1.90416</td><td style=\"text-align: right;\">  0.0641741</td></tr>\n",
       "<tr><td style=\"text-align: right;\">-1.8079 </td><td style=\"text-align: right;\">    1147</td><td style=\"text-align: right;\">  -0.956633</td><td style=\"text-align: right;\"> -1.83999</td><td style=\"text-align: right;\">  0.0641741</td></tr>\n",
       "<tr><td style=\"text-align: right;\">-1.74373</td><td style=\"text-align: right;\">    4120</td><td style=\"text-align: right;\">  -0.933019</td><td style=\"text-align: right;\"> -1.77582</td><td style=\"text-align: right;\">  0.0641741</td></tr>\n",
       "<tr><td style=\"text-align: right;\">-1.67956</td><td style=\"text-align: right;\">    2317</td><td style=\"text-align: right;\">  -0.897082</td><td style=\"text-align: right;\"> -1.71164</td><td style=\"text-align: right;\">  0.0641741</td></tr>\n",
       "<tr><td style=\"text-align: right;\">-1.61538</td><td style=\"text-align: right;\">   26242</td><td style=\"text-align: right;\">  -0.856468</td><td style=\"text-align: right;\"> -1.64747</td><td style=\"text-align: right;\">  0.0641741</td></tr>\n",
       "<tr><td style=\"text-align: right;\">-1.55121</td><td style=\"text-align: right;\">   14422</td><td style=\"text-align: right;\">  -0.836325</td><td style=\"text-align: right;\"> -1.58329</td><td style=\"text-align: right;\">  0.0641741</td></tr>\n",
       "<tr><td style=\"text-align: right;\">-1.48703</td><td style=\"text-align: right;\">     205</td><td style=\"text-align: right;\">  -0.782778</td><td style=\"text-align: right;\"> -1.51912</td><td style=\"text-align: right;\">  0.0641741</td></tr>\n",
       "<tr><td style=\"text-align: right;\">-1.42286</td><td style=\"text-align: right;\">    1419</td><td style=\"text-align: right;\">  -0.767386</td><td style=\"text-align: right;\"> -1.45495</td><td style=\"text-align: right;\">  0.0641741</td></tr>\n",
       "<tr><td style=\"text-align: right;\">-1.35868</td><td style=\"text-align: right;\">   94074</td><td style=\"text-align: right;\">  -0.740671</td><td style=\"text-align: right;\"> -1.39077</td><td style=\"text-align: right;\">  0.0641741</td></tr>\n",
       "</tbody>\n",
       "</table><pre style='font-size: smaller; margin-bottom: 1em;'>[19 rows x 5 columns]</pre>"
      ],
      "text/plain": [
       "  breaks    counts    mids_true       mids       widths\n",
       "--------  --------  -----------  ---------  -----------\n",
       "-1.93625       nan   nan         nan        nan\n",
       "-1.87208      1695    -1.00021    -1.90416    0.0641741\n",
       "-1.8079       1147    -0.956633   -1.83999    0.0641741\n",
       "-1.74373      4120    -0.933019   -1.77582    0.0641741\n",
       "-1.67956      2317    -0.897082   -1.71164    0.0641741\n",
       "-1.61538     26242    -0.856468   -1.64747    0.0641741\n",
       "-1.55121     14422    -0.836325   -1.58329    0.0641741\n",
       "-1.48703       205    -0.782778   -1.51912    0.0641741\n",
       "-1.42286      1419    -0.767386   -1.45495    0.0641741\n",
       "-1.35868     94074    -0.740671   -1.39077    0.0641741\n",
       "[19 rows x 5 columns]\n"
      ]
     },
     "execution_count": 72,
     "metadata": {},
     "output_type": "execute_result"
    }
   ],
   "source": [
    "train[\"te_purpose\"].hist()"
   ]
  },
  {
   "cell_type": "markdown",
   "metadata": {},
   "source": [
    "### Creating Target Encoding for State of Residence\n",
    "\n",
    "We will also use a mean target encoding for state of residence for a reason similar to that for purpose."
   ]
  },
  {
   "cell_type": "code",
   "execution_count": 73,
   "metadata": {},
   "outputs": [
    {
     "name": "stdout",
     "output_type": "stream",
     "text": [
      "  addr_state  Count  Percent\n",
      "0         CA  28702    17.50\n",
      "1         NY  14285     8.71\n",
      "2         TX  12128     7.40\n",
      "3         FL  11396     6.95\n",
      "4         NJ   6457     3.94\n"
     ]
    }
   ],
   "source": [
    "tbl = train[\"addr_state\"].table().as_data_frame()\n",
    "tbl[\"Percent\"] = np.round((100 * tbl[\"Count\"]/train.nrows), 2)\n",
    "tbl = tbl.sort_values(by = \"Count\", ascending = 0)\n",
    "tbl = tbl.reset_index(drop = True)\n",
    "print(tbl[0:5])"
   ]
  },
  {
   "cell_type": "code",
   "execution_count": 74,
   "metadata": {},
   "outputs": [],
   "source": [
    "df = mean_target(train, \"addr_state\")"
   ]
  },
  {
   "cell_type": "code",
   "execution_count": 75,
   "metadata": {},
   "outputs": [
    {
     "name": "stdout",
     "output_type": "stream",
     "text": [
      "  addr_state  nrow  mean_bad_loan\n",
      "0         NE    13       0.538462\n",
      "1         TN  1327       0.238885\n",
      "2         NV  2387       0.227901\n",
      "3         MS   163       0.226994\n",
      "4         IN  1463       0.217362\n"
     ]
    }
   ],
   "source": [
    "df = df.sort_values(by = \"mean_bad_loan\", ascending = 0)\n",
    "df = df.reset_index(drop = True)\n",
    "print(df[0:5])"
   ]
  },
  {
   "cell_type": "code",
   "execution_count": 76,
   "metadata": {},
   "outputs": [
    {
     "name": "stdout",
     "output_type": "stream",
     "text": [
      "   addr_state  nrow  mean_bad_loan\n",
      "45         WV   714       0.131653\n",
      "46         DC   584       0.114726\n",
      "47         ID     9       0.111111\n",
      "48         WY   376       0.109043\n",
      "49         ME     3       0.000000\n"
     ]
    }
   ],
   "source": [
    "print(df[45:50])"
   ]
  },
  {
   "cell_type": "code",
   "execution_count": 77,
   "metadata": {},
   "outputs": [
    {
     "data": {
      "text/plain": [
       "[<matplotlib.lines.Line2D at 0x1b30d9cf730>]"
      ]
     },
     "execution_count": 77,
     "metadata": {},
     "output_type": "execute_result"
    },
    {
     "data": {
      "image/png": "[encoded data removed]",
      "text/plain": [
       "<Figure size 640x480 with 1 Axes>"
      ]
     },
     "metadata": {},
     "output_type": "display_data"
    }
   ],
   "source": [
    "plt.yscale(\"logit\")\n",
    "plt.plot(df[\"addr_state\"], df[\"mean_bad_loan\"])"
   ]
  },
  {
   "cell_type": "code",
   "execution_count": 78,
   "metadata": {},
   "outputs": [
    {
     "name": "stdout",
     "output_type": "stream",
     "text": [
      "Parse progress: |████████████████████████████████████████████████████████████████| (done) 100%\n"
     ]
    }
   ],
   "source": [
    "te_addr_state = mean_target_encoding(train, \"addr_state\", prior_count = 30)"
   ]
  },
  {
   "cell_type": "code",
   "execution_count": 79,
   "metadata": {},
   "outputs": [],
   "source": [
    "grouped_data = te_addr_state[[\"addr_state\", \"te_addr_state\"]].group_by([\"addr_state\"])\n",
    "df = grouped_data.count(na = \"ignore\").mean(na = \"ignore\").get_frame().as_data_frame()"
   ]
  },
  {
   "cell_type": "code",
   "execution_count": 80,
   "metadata": {},
   "outputs": [],
   "source": [
    "df = df.sort_values(by = \"mean_te_addr_state\", ascending = 0)\n",
    "df = df.reset_index(drop = True)"
   ]
  },
  {
   "cell_type": "code",
   "execution_count": 81,
   "metadata": {},
   "outputs": [
    {
     "data": {
      "text/plain": [
       "[<matplotlib.lines.Line2D at 0x1b30e2ab7c0>]"
      ]
     },
     "execution_count": 81,
     "metadata": {},
     "output_type": "execute_result"
    },
    {
     "data": {
      "image/png": "[encoded data removed]",
      "text/plain": [
       "<Figure size 640x480 with 1 Axes>"
      ]
     },
     "metadata": {},
     "output_type": "display_data"
    }
   ],
   "source": [
    "plt.plot(df[\"addr_state\"], df[\"mean_te_addr_state\"])"
   ]
  },
  {
   "cell_type": "code",
   "execution_count": 82,
   "metadata": {},
   "outputs": [],
   "source": [
    "train = train.merge(te_addr_state, all_x = True)"
   ]
  },
  {
   "cell_type": "code",
   "execution_count": 83,
   "metadata": {},
   "outputs": [],
   "source": [
    "x_trans.remove(\"addr_state\")\n",
    "x_trans.append(\"te_addr_state\")"
   ]
  },
  {
   "cell_type": "code",
   "execution_count": 84,
   "metadata": {},
   "outputs": [
    {
     "data": {
      "image/png": "[encoded data removed]",
      "text/plain": [
       "<Figure size 640x480 with 1 Axes>"
      ]
     },
     "metadata": {},
     "output_type": "display_data"
    },
    {
     "data": {
      "text/html": [
       "<table class='dataframe'>\n",
       "<thead>\n",
       "<tr><th style=\"text-align: right;\">  breaks</th><th style=\"text-align: right;\">  counts</th><th style=\"text-align: right;\">  mids_true</th><th style=\"text-align: right;\">     mids</th><th style=\"text-align: right;\">     widths</th></tr>\n",
       "</thead>\n",
       "<tbody>\n",
       "<tr><td style=\"text-align: right;\">-2.04719</td><td style=\"text-align: right;\">     nan</td><td style=\"text-align: right;\"> nan       </td><td style=\"text-align: right;\">nan      </td><td style=\"text-align: right;\">nan        </td></tr>\n",
       "<tr><td style=\"text-align: right;\">-1.97931</td><td style=\"text-align: right;\">     180</td><td style=\"text-align: right;\">  -1.05754 </td><td style=\"text-align: right;\"> -2.01325</td><td style=\"text-align: right;\">  0.0678816</td></tr>\n",
       "<tr><td style=\"text-align: right;\">-1.91143</td><td style=\"text-align: right;\">     703</td><td style=\"text-align: right;\">  -1.01915 </td><td style=\"text-align: right;\"> -1.94537</td><td style=\"text-align: right;\">  0.0678816</td></tr>\n",
       "<tr><td style=\"text-align: right;\">-1.84355</td><td style=\"text-align: right;\">     375</td><td style=\"text-align: right;\">  -0.985462</td><td style=\"text-align: right;\"> -1.87749</td><td style=\"text-align: right;\">  0.0678816</td></tr>\n",
       "<tr><td style=\"text-align: right;\">-1.77567</td><td style=\"text-align: right;\">     104</td><td style=\"text-align: right;\">  -0.925854</td><td style=\"text-align: right;\"> -1.80961</td><td style=\"text-align: right;\">  0.0678816</td></tr>\n",
       "<tr><td style=\"text-align: right;\">-1.70779</td><td style=\"text-align: right;\">    3423</td><td style=\"text-align: right;\">  -0.920484</td><td style=\"text-align: right;\"> -1.74173</td><td style=\"text-align: right;\">  0.0678816</td></tr>\n",
       "<tr><td style=\"text-align: right;\">-1.63991</td><td style=\"text-align: right;\">    1122</td><td style=\"text-align: right;\">  -0.885872</td><td style=\"text-align: right;\"> -1.67385</td><td style=\"text-align: right;\">  0.0678816</td></tr>\n",
       "<tr><td style=\"text-align: right;\">-1.57202</td><td style=\"text-align: right;\">   14477</td><td style=\"text-align: right;\">  -0.843086</td><td style=\"text-align: right;\"> -1.60596</td><td style=\"text-align: right;\">  0.0678816</td></tr>\n",
       "<tr><td style=\"text-align: right;\">-1.50414</td><td style=\"text-align: right;\">    9728</td><td style=\"text-align: right;\">  -0.818752</td><td style=\"text-align: right;\"> -1.53808</td><td style=\"text-align: right;\">  0.0678816</td></tr>\n",
       "<tr><td style=\"text-align: right;\">-1.43626</td><td style=\"text-align: right;\">   57525</td><td style=\"text-align: right;\">  -0.785532</td><td style=\"text-align: right;\"> -1.4702 </td><td style=\"text-align: right;\">  0.0678816</td></tr>\n",
       "</tbody>\n",
       "</table><pre style='font-size: smaller; margin-bottom: 1em;'>[19 rows x 5 columns]</pre>"
      ],
      "text/plain": [
       "  breaks    counts    mids_true       mids       widths\n",
       "--------  --------  -----------  ---------  -----------\n",
       "-2.04719       nan   nan         nan        nan\n",
       "-1.97931       180    -1.05754    -2.01325    0.0678816\n",
       "-1.91143       703    -1.01915    -1.94537    0.0678816\n",
       "-1.84355       375    -0.985462   -1.87749    0.0678816\n",
       "-1.77567       104    -0.925854   -1.80961    0.0678816\n",
       "-1.70779      3423    -0.920484   -1.74173    0.0678816\n",
       "-1.63991      1122    -0.885872   -1.67385    0.0678816\n",
       "-1.57202     14477    -0.843086   -1.60596    0.0678816\n",
       "-1.50414      9728    -0.818752   -1.53808    0.0678816\n",
       "-1.43626     57525    -0.785532   -1.4702     0.0678816\n",
       "[19 rows x 5 columns]\n"
      ]
     },
     "execution_count": 84,
     "metadata": {},
     "output_type": "execute_result"
    }
   ],
   "source": [
    "train[\"te_addr_state\"].hist()"
   ]
  },
  {
   "cell_type": "markdown",
   "metadata": {},
   "source": [
    "### Separating Typical from Extreme Debt to Income Ratio\n",
    "\n",
    "Looking at the occurance of bad loans on a logit scale reveal that the chance of a bad loan roughly increases linearly in debt-to-income from 5% to 30% and is highly volatile outside of that range due to small numbers of observations. To reflect this finding in the modeling, we will replace the original `dti` measure with two derived measures:\n",
    "\n",
    "\\begin{eqnarray}\n",
    "dti\\_core & = & \\max(5, \\min(dti, 30)) \\\\\n",
    "dti\\_diff & = & dti - dti\\_core\n",
    "\\end{eqnarray}"
   ]
  },
  {
   "cell_type": "code",
   "execution_count": 85,
   "metadata": {},
   "outputs": [
    {
     "data": {
      "text/html": [
       "<table class='dataframe'>\n",
       "<thead>\n",
       "<tr><th style=\"text-align: right;\">  Probs</th><th style=\"text-align: right;\">  dtiQuantiles</th></tr>\n",
       "</thead>\n",
       "<tbody>\n",
       "<tr><td style=\"text-align: right;\">   0   </td><td style=\"text-align: right;\">          0   </td></tr>\n",
       "<tr><td style=\"text-align: right;\">   0.05</td><td style=\"text-align: right;\">          3.79</td></tr>\n",
       "<tr><td style=\"text-align: right;\">   0.25</td><td style=\"text-align: right;\">         10.23</td></tr>\n",
       "<tr><td style=\"text-align: right;\">   0.5 </td><td style=\"text-align: right;\">         15.62</td></tr>\n",
       "<tr><td style=\"text-align: right;\">   0.75</td><td style=\"text-align: right;\">         21.26</td></tr>\n",
       "<tr><td style=\"text-align: right;\">   0.95</td><td style=\"text-align: right;\">         29.02</td></tr>\n",
       "<tr><td style=\"text-align: right;\">   1   </td><td style=\"text-align: right;\">         39.99</td></tr>\n",
       "</tbody>\n",
       "</table><pre style='font-size: smaller; margin-bottom: 1em;'>[7 rows x 2 columns]</pre>"
      ],
      "text/plain": [
       "  Probs    dtiQuantiles\n",
       "-------  --------------\n",
       "   0               0\n",
       "   0.05            3.79\n",
       "   0.25           10.23\n",
       "   0.5            15.62\n",
       "   0.75           21.26\n",
       "   0.95           29.02\n",
       "   1              39.99\n",
       "[7 rows x 2 columns]\n"
      ]
     },
     "execution_count": 85,
     "metadata": {},
     "output_type": "execute_result"
    }
   ],
   "source": [
    "train[\"dti\"].quantile([0, 0.05, 0.25, 0.5, 0.75, 0.95, 1])"
   ]
  },
  {
   "cell_type": "code",
   "execution_count": 86,
   "metadata": {},
   "outputs": [],
   "source": [
    "breaks = np.linspace(0, 40, 41).tolist()\n",
    "train[\"dti_cat\"] = train[\"dti\"].cut(breaks = breaks)"
   ]
  },
  {
   "cell_type": "code",
   "execution_count": 87,
   "metadata": {},
   "outputs": [],
   "source": [
    "df = mean_target(train, \"dti_cat\")"
   ]
  },
  {
   "cell_type": "code",
   "execution_count": 88,
   "metadata": {},
   "outputs": [
    {
     "data": {
      "text/plain": [
       "[<matplotlib.lines.Line2D at 0x1b30d59d400>]"
      ]
     },
     "execution_count": 88,
     "metadata": {},
     "output_type": "execute_result"
    },
    {
     "data": {
      "image/png": "[encoded data removed]",
      "text/plain": [
       "<Figure size 640x480 with 1 Axes>"
      ]
     },
     "metadata": {},
     "output_type": "display_data"
    }
   ],
   "source": [
    "plt.yscale(\"logit\")\n",
    "plt.plot(df[\"dti_cat\"].index, df[\"mean_bad_loan\"])"
   ]
  },
  {
   "cell_type": "code",
   "execution_count": 89,
   "metadata": {},
   "outputs": [
    {
     "data": {
      "text/html": [
       "<div>\n",
       "<style scoped>\n",
       "    .dataframe tbody tr th:only-of-type {\n",
       "        vertical-align: middle;\n",
       "    }\n",
       "\n",
       "    .dataframe tbody tr th {\n",
       "        vertical-align: top;\n",
       "    }\n",
       "\n",
       "    .dataframe thead th {\n",
       "        text-align: right;\n",
       "    }\n",
       "</style>\n",
       "<table border=\"1\" class=\"dataframe\">\n",
       "  <thead>\n",
       "    <tr style=\"text-align: right;\">\n",
       "      <th></th>\n",
       "      <th>dti_cat</th>\n",
       "      <th>nrow</th>\n",
       "      <th>mean_bad_loan</th>\n",
       "    </tr>\n",
       "  </thead>\n",
       "  <tbody>\n",
       "    <tr>\n",
       "      <th>30</th>\n",
       "      <td>(29.0,30.0]</td>\n",
       "      <td>2329</td>\n",
       "      <td>0.280378</td>\n",
       "    </tr>\n",
       "    <tr>\n",
       "      <th>31</th>\n",
       "      <td>(30.0,31.0]</td>\n",
       "      <td>1496</td>\n",
       "      <td>0.293449</td>\n",
       "    </tr>\n",
       "    <tr>\n",
       "      <th>32</th>\n",
       "      <td>(31.0,32.0]</td>\n",
       "      <td>1282</td>\n",
       "      <td>0.287051</td>\n",
       "    </tr>\n",
       "    <tr>\n",
       "      <th>33</th>\n",
       "      <td>(32.0,33.0]</td>\n",
       "      <td>1051</td>\n",
       "      <td>0.308278</td>\n",
       "    </tr>\n",
       "    <tr>\n",
       "      <th>34</th>\n",
       "      <td>(33.0,34.0]</td>\n",
       "      <td>1025</td>\n",
       "      <td>0.290732</td>\n",
       "    </tr>\n",
       "    <tr>\n",
       "      <th>35</th>\n",
       "      <td>(34.0,35.0]</td>\n",
       "      <td>750</td>\n",
       "      <td>0.318667</td>\n",
       "    </tr>\n",
       "    <tr>\n",
       "      <th>36</th>\n",
       "      <td>(35.0,36.0]</td>\n",
       "      <td>75</td>\n",
       "      <td>0.160000</td>\n",
       "    </tr>\n",
       "    <tr>\n",
       "      <th>37</th>\n",
       "      <td>(36.0,37.0]</td>\n",
       "      <td>66</td>\n",
       "      <td>0.227273</td>\n",
       "    </tr>\n",
       "    <tr>\n",
       "      <th>38</th>\n",
       "      <td>(37.0,38.0]</td>\n",
       "      <td>65</td>\n",
       "      <td>0.123077</td>\n",
       "    </tr>\n",
       "    <tr>\n",
       "      <th>39</th>\n",
       "      <td>(38.0,39.0]</td>\n",
       "      <td>59</td>\n",
       "      <td>0.322034</td>\n",
       "    </tr>\n",
       "    <tr>\n",
       "      <th>40</th>\n",
       "      <td>(39.0,40.0]</td>\n",
       "      <td>47</td>\n",
       "      <td>0.063830</td>\n",
       "    </tr>\n",
       "  </tbody>\n",
       "</table>\n",
       "</div>"
      ],
      "text/plain": [
       "        dti_cat  nrow  mean_bad_loan\n",
       "30  (29.0,30.0]  2329       0.280378\n",
       "31  (30.0,31.0]  1496       0.293449\n",
       "32  (31.0,32.0]  1282       0.287051\n",
       "33  (32.0,33.0]  1051       0.308278\n",
       "34  (33.0,34.0]  1025       0.290732\n",
       "35  (34.0,35.0]   750       0.318667\n",
       "36  (35.0,36.0]    75       0.160000\n",
       "37  (36.0,37.0]    66       0.227273\n",
       "38  (37.0,38.0]    65       0.123077\n",
       "39  (38.0,39.0]    59       0.322034\n",
       "40  (39.0,40.0]    47       0.063830"
      ]
     },
     "execution_count": 89,
     "metadata": {},
     "output_type": "execute_result"
    }
   ],
   "source": [
    "df[30:41]"
   ]
  },
  {
   "cell_type": "code",
   "execution_count": 90,
   "metadata": {},
   "outputs": [],
   "source": [
    "x_trans.remove(\"dti\")\n",
    "x_trans.append(\"dti_core\")\n",
    "x_trans.append(\"dti_delta\")\n",
    "\n",
    "train[\"dti_core\"] = h2o.H2OFrame.ifelse(train[\"dti\"] <= 5, 5, train[\"dti\"])\n",
    "train[\"dti_core\"] = h2o.H2OFrame.ifelse(train[\"dti_core\"] <= 30, train[\"dti_core\"], 30)\n",
    "\n",
    "train[\"dti_delta\"] = train[\"dti\"] - train[\"dti_core\"]"
   ]
  },
  {
   "cell_type": "markdown",
   "metadata": {},
   "source": [
    "### Separating Typical from Extreme Number of Delinquencies in the Past 2 Years\n",
    "\n",
    "The chance of a bad loan seems to max out at 3 delinquent payments in the past two years. To reflect this finding in the modeling, we will replace the original `delinq_2yrs` measure with two derived measures:\n",
    "\n",
    "\\begin{eqnarray}\n",
    "delinq\\_2yrs\\_core & = & \\min(delinq\\_2yrs, 3) \\\\\n",
    "delinq\\_2yrs\\_diff & = & delinq\\_2yrs - delinq\\_2yrs\\_core\n",
    "\\end{eqnarray}"
   ]
  },
  {
   "cell_type": "code",
   "execution_count": 91,
   "metadata": {},
   "outputs": [
    {
     "data": {
      "text/html": [
       "<table class='dataframe'>\n",
       "<thead>\n",
       "<tr><th style=\"text-align: right;\">  Probs</th><th style=\"text-align: right;\">  delinq_2yrsQuantiles</th></tr>\n",
       "</thead>\n",
       "<tbody>\n",
       "<tr><td style=\"text-align: right;\">   0   </td><td style=\"text-align: right;\">                     0</td></tr>\n",
       "<tr><td style=\"text-align: right;\">   0.05</td><td style=\"text-align: right;\">                     0</td></tr>\n",
       "<tr><td style=\"text-align: right;\">   0.25</td><td style=\"text-align: right;\">                     0</td></tr>\n",
       "<tr><td style=\"text-align: right;\">   0.5 </td><td style=\"text-align: right;\">                     0</td></tr>\n",
       "<tr><td style=\"text-align: right;\">   0.75</td><td style=\"text-align: right;\">                     0</td></tr>\n",
       "<tr><td style=\"text-align: right;\">   0.95</td><td style=\"text-align: right;\">                     1</td></tr>\n",
       "<tr><td style=\"text-align: right;\">   1   </td><td style=\"text-align: right;\">                    29</td></tr>\n",
       "</tbody>\n",
       "</table><pre style='font-size: smaller; margin-bottom: 1em;'>[7 rows x 2 columns]</pre>"
      ],
      "text/plain": [
       "  Probs    delinq_2yrsQuantiles\n",
       "-------  ----------------------\n",
       "   0                          0\n",
       "   0.05                       0\n",
       "   0.25                       0\n",
       "   0.5                        0\n",
       "   0.75                       0\n",
       "   0.95                       1\n",
       "   1                         29\n",
       "[7 rows x 2 columns]\n"
      ]
     },
     "execution_count": 91,
     "metadata": {},
     "output_type": "execute_result"
    }
   ],
   "source": [
    "train[\"delinq_2yrs\"].quantile([0, 0.05, 0.25, 0.5, 0.75, 0.95, 1])"
   ]
  },
  {
   "cell_type": "code",
   "execution_count": 92,
   "metadata": {},
   "outputs": [],
   "source": [
    "breaks = np.linspace(0, 5, 6).tolist()\n",
    "train[\"delinq_2yrs_cat\"] = train[\"delinq_2yrs\"].cut(breaks = breaks)"
   ]
  },
  {
   "cell_type": "code",
   "execution_count": 93,
   "metadata": {},
   "outputs": [
    {
     "data": {
      "text/html": [
       "<div>\n",
       "<style scoped>\n",
       "    .dataframe tbody tr th:only-of-type {\n",
       "        vertical-align: middle;\n",
       "    }\n",
       "\n",
       "    .dataframe tbody tr th {\n",
       "        vertical-align: top;\n",
       "    }\n",
       "\n",
       "    .dataframe thead th {\n",
       "        text-align: right;\n",
       "    }\n",
       "</style>\n",
       "<table border=\"1\" class=\"dataframe\">\n",
       "  <thead>\n",
       "    <tr style=\"text-align: right;\">\n",
       "      <th></th>\n",
       "      <th>delinq_2yrs_cat</th>\n",
       "      <th>nrow</th>\n",
       "      <th>mean_bad_loan</th>\n",
       "    </tr>\n",
       "  </thead>\n",
       "  <tbody>\n",
       "    <tr>\n",
       "      <th>0</th>\n",
       "      <td>NaN</td>\n",
       "      <td>0</td>\n",
       "      <td>0.181037</td>\n",
       "    </tr>\n",
       "    <tr>\n",
       "      <th>1</th>\n",
       "      <td>(0.0,1.0]</td>\n",
       "      <td>17158</td>\n",
       "      <td>0.189299</td>\n",
       "    </tr>\n",
       "    <tr>\n",
       "      <th>2</th>\n",
       "      <td>(1.0,2.0]</td>\n",
       "      <td>4635</td>\n",
       "      <td>0.201510</td>\n",
       "    </tr>\n",
       "    <tr>\n",
       "      <th>3</th>\n",
       "      <td>(2.0,3.0]</td>\n",
       "      <td>1488</td>\n",
       "      <td>0.221774</td>\n",
       "    </tr>\n",
       "    <tr>\n",
       "      <th>4</th>\n",
       "      <td>(3.0,4.0]</td>\n",
       "      <td>579</td>\n",
       "      <td>0.215889</td>\n",
       "    </tr>\n",
       "    <tr>\n",
       "      <th>5</th>\n",
       "      <td>(4.0,5.0]</td>\n",
       "      <td>310</td>\n",
       "      <td>0.216129</td>\n",
       "    </tr>\n",
       "  </tbody>\n",
       "</table>\n",
       "</div>"
      ],
      "text/plain": [
       "  delinq_2yrs_cat   nrow  mean_bad_loan\n",
       "0             NaN      0       0.181037\n",
       "1       (0.0,1.0]  17158       0.189299\n",
       "2       (1.0,2.0]   4635       0.201510\n",
       "3       (2.0,3.0]   1488       0.221774\n",
       "4       (3.0,4.0]    579       0.215889\n",
       "5       (4.0,5.0]    310       0.216129"
      ]
     },
     "execution_count": 93,
     "metadata": {},
     "output_type": "execute_result"
    }
   ],
   "source": [
    "mean_target(train, \"delinq_2yrs_cat\")"
   ]
  },
  {
   "cell_type": "code",
   "execution_count": 94,
   "metadata": {},
   "outputs": [],
   "source": [
    "x_trans.remove(\"delinq_2yrs\")\n",
    "x_trans.append(\"delinq_2yrs_core\")\n",
    "x_trans.append(\"delinq_2yrs_delta\")\n",
    "\n",
    "train[\"delinq_2yrs_core\"] = h2o.H2OFrame.ifelse(train[\"delinq_2yrs\"] <= 3, train[\"delinq_2yrs\"], 3)\n",
    "\n",
    "train[\"delinq_2yrs_delta\"] = train[\"delinq_2yrs\"] - train[\"delinq_2yrs_core\"]"
   ]
  },
  {
   "cell_type": "markdown",
   "metadata": {},
   "source": [
    "### Separating Typical from Extreme Revolving Credit Line Utilized\n",
    "\n",
    "The relationship between credit line utilized is somewhat interesting. There appears to be a higher rate for a bad loan when 0% of the credit lines are utilized, then it drops down slightly and roughly increases linearly in credit line utilized up to 100%. To reflect this finding in the modeling, we will replace the original `revol_util` measure with three derived measures:\n",
    "\n",
    "\\begin{eqnarray}\n",
    "revol\\_util\\_0 & = & I(revol\\_util == 0) \\\\\n",
    "revol\\_util\\_core & = & \\max(5, \\min(revol\\_util, 30)) \\\\\n",
    "revol\\_util\\_diff & = & revol\\_util - revol\\_util\\_core\n",
    "\\end{eqnarray}"
   ]
  },
  {
   "cell_type": "code",
   "execution_count": 95,
   "metadata": {},
   "outputs": [
    {
     "data": {
      "text/html": [
       "<table class='dataframe'>\n",
       "<thead>\n",
       "<tr><th style=\"text-align: right;\">  Probs</th><th style=\"text-align: right;\">  revol_utilQuantiles</th></tr>\n",
       "</thead>\n",
       "<tbody>\n",
       "<tr><td style=\"text-align: right;\">   0   </td><td style=\"text-align: right;\">                  0  </td></tr>\n",
       "<tr><td style=\"text-align: right;\">   0.05</td><td style=\"text-align: right;\">                  8.7</td></tr>\n",
       "<tr><td style=\"text-align: right;\">   0.25</td><td style=\"text-align: right;\">                 35.6</td></tr>\n",
       "<tr><td style=\"text-align: right;\">   0.5 </td><td style=\"text-align: right;\">                 55.8</td></tr>\n",
       "<tr><td style=\"text-align: right;\">   0.75</td><td style=\"text-align: right;\">                 74.2</td></tr>\n",
       "<tr><td style=\"text-align: right;\">   0.95</td><td style=\"text-align: right;\">                 92.5</td></tr>\n",
       "<tr><td style=\"text-align: right;\">   1   </td><td style=\"text-align: right;\">                150.7</td></tr>\n",
       "</tbody>\n",
       "</table><pre style='font-size: smaller; margin-bottom: 1em;'>[7 rows x 2 columns]</pre>"
      ],
      "text/plain": [
       "  Probs    revol_utilQuantiles\n",
       "-------  ---------------------\n",
       "   0                       0\n",
       "   0.05                    8.7\n",
       "   0.25                   35.6\n",
       "   0.5                    55.8\n",
       "   0.75                   74.2\n",
       "   0.95                   92.5\n",
       "   1                     150.7\n",
       "[7 rows x 2 columns]\n"
      ]
     },
     "execution_count": 95,
     "metadata": {},
     "output_type": "execute_result"
    }
   ],
   "source": [
    "train[\"revol_util\"].quantile([0, 0.05, 0.25, 0.5, 0.75, 0.95, 1])"
   ]
  },
  {
   "cell_type": "code",
   "execution_count": 96,
   "metadata": {},
   "outputs": [],
   "source": [
    "breaks = np.linspace(0, 120, 25).tolist()\n",
    "train[\"revol_util_cat\"] = train[\"revol_util\"].cut(breaks = breaks)"
   ]
  },
  {
   "cell_type": "code",
   "execution_count": 97,
   "metadata": {},
   "outputs": [],
   "source": [
    "df = mean_target(train, \"revol_util_cat\")"
   ]
  },
  {
   "cell_type": "code",
   "execution_count": 98,
   "metadata": {},
   "outputs": [
    {
     "data": {
      "text/plain": [
       "[<matplotlib.lines.Line2D at 0x1b30da73550>]"
      ]
     },
     "execution_count": 98,
     "metadata": {},
     "output_type": "execute_result"
    },
    {
     "data": {
      "image/png": "[encoded data removed]",
      "text/plain": [
       "<Figure size 640x480 with 1 Axes>"
      ]
     },
     "metadata": {},
     "output_type": "display_data"
    }
   ],
   "source": [
    "plt.yscale(\"logit\")\n",
    "plt.plot(df[\"revol_util_cat\"].index, df[\"mean_bad_loan\"])"
   ]
  },
  {
   "cell_type": "code",
   "execution_count": 99,
   "metadata": {},
   "outputs": [
    {
     "data": {
      "text/html": [
       "<div>\n",
       "<style scoped>\n",
       "    .dataframe tbody tr th:only-of-type {\n",
       "        vertical-align: middle;\n",
       "    }\n",
       "\n",
       "    .dataframe tbody tr th {\n",
       "        vertical-align: top;\n",
       "    }\n",
       "\n",
       "    .dataframe thead th {\n",
       "        text-align: right;\n",
       "    }\n",
       "</style>\n",
       "<table border=\"1\" class=\"dataframe\">\n",
       "  <thead>\n",
       "    <tr style=\"text-align: right;\">\n",
       "      <th></th>\n",
       "      <th>revol_util_cat</th>\n",
       "      <th>nrow</th>\n",
       "      <th>mean_bad_loan</th>\n",
       "    </tr>\n",
       "  </thead>\n",
       "  <tbody>\n",
       "    <tr>\n",
       "      <th>20</th>\n",
       "      <td>(95.0,100.0]</td>\n",
       "      <td>4316</td>\n",
       "      <td>0.255097</td>\n",
       "    </tr>\n",
       "    <tr>\n",
       "      <th>21</th>\n",
       "      <td>(100.0,105.0]</td>\n",
       "      <td>238</td>\n",
       "      <td>0.260504</td>\n",
       "    </tr>\n",
       "    <tr>\n",
       "      <th>22</th>\n",
       "      <td>(105.0,110.0]</td>\n",
       "      <td>35</td>\n",
       "      <td>0.200000</td>\n",
       "    </tr>\n",
       "    <tr>\n",
       "      <th>23</th>\n",
       "      <td>(110.0,115.0]</td>\n",
       "      <td>9</td>\n",
       "      <td>0.333333</td>\n",
       "    </tr>\n",
       "    <tr>\n",
       "      <th>24</th>\n",
       "      <td>(115.0,120.0]</td>\n",
       "      <td>3</td>\n",
       "      <td>0.000000</td>\n",
       "    </tr>\n",
       "  </tbody>\n",
       "</table>\n",
       "</div>"
      ],
      "text/plain": [
       "   revol_util_cat  nrow  mean_bad_loan\n",
       "20   (95.0,100.0]  4316       0.255097\n",
       "21  (100.0,105.0]   238       0.260504\n",
       "22  (105.0,110.0]    35       0.200000\n",
       "23  (110.0,115.0]     9       0.333333\n",
       "24  (115.0,120.0]     3       0.000000"
      ]
     },
     "execution_count": 99,
     "metadata": {},
     "output_type": "execute_result"
    }
   ],
   "source": [
    "df[20:25]"
   ]
  },
  {
   "cell_type": "code",
   "execution_count": 100,
   "metadata": {},
   "outputs": [],
   "source": [
    "x_trans.remove(\"revol_util\")\n",
    "x_trans.append(\"revol_util_0\")\n",
    "x_trans.append(\"revol_util_core\")\n",
    "x_trans.append(\"revol_util_delta\")\n",
    "\n",
    "train[\"revol_util_0\"] = train[\"revol_util\"] == 0\n",
    "\n",
    "train[\"revol_util_core\"] = h2o.H2OFrame.ifelse(train[\"revol_util\"] <= 100, train[\"revol_util\"], 100)\n",
    "\n",
    "train[\"revol_util_delta\"] = train[\"revol_util\"] - train[\"revol_util_core\"]"
   ]
  },
  {
   "cell_type": "markdown",
   "metadata": {},
   "source": [
    "### Separating Typical from Extreme Number of Credit Lines\n",
    "\n",
    "Looking at the occurance of bad loans on a logit scale reveal that the chance of a bad loan roughly decreases linearly in number of lines of credit up to about 50. To reflect this finding in the modeling, we will replace the original `total_acc` measure with two derived measures:\n",
    "\n",
    "\\begin{eqnarray}\n",
    "total\\_acc\\_core & = & \\min(total\\_acc, 50) \\\\\n",
    "total\\_acc\\_diff & = & total\\_acc - total\\_acc\\_core\n",
    "\\end{eqnarray}"
   ]
  },
  {
   "cell_type": "code",
   "execution_count": 101,
   "metadata": {},
   "outputs": [
    {
     "data": {
      "text/html": [
       "<table class='dataframe'>\n",
       "<thead>\n",
       "<tr><th style=\"text-align: right;\">  Probs</th><th style=\"text-align: right;\">  total_accQuantiles</th></tr>\n",
       "</thead>\n",
       "<tbody>\n",
       "<tr><td style=\"text-align: right;\">   0   </td><td style=\"text-align: right;\">                   1</td></tr>\n",
       "<tr><td style=\"text-align: right;\">   0.05</td><td style=\"text-align: right;\">                   8</td></tr>\n",
       "<tr><td style=\"text-align: right;\">   0.25</td><td style=\"text-align: right;\">                  16</td></tr>\n",
       "<tr><td style=\"text-align: right;\">   0.5 </td><td style=\"text-align: right;\">                  23</td></tr>\n",
       "<tr><td style=\"text-align: right;\">   0.75</td><td style=\"text-align: right;\">                  31</td></tr>\n",
       "<tr><td style=\"text-align: right;\">   0.95</td><td style=\"text-align: right;\">                  46</td></tr>\n",
       "<tr><td style=\"text-align: right;\">   1   </td><td style=\"text-align: right;\">                 118</td></tr>\n",
       "</tbody>\n",
       "</table><pre style='font-size: smaller; margin-bottom: 1em;'>[7 rows x 2 columns]</pre>"
      ],
      "text/plain": [
       "  Probs    total_accQuantiles\n",
       "-------  --------------------\n",
       "   0                        1\n",
       "   0.05                     8\n",
       "   0.25                    16\n",
       "   0.5                     23\n",
       "   0.75                    31\n",
       "   0.95                    46\n",
       "   1                      118\n",
       "[7 rows x 2 columns]\n"
      ]
     },
     "execution_count": 101,
     "metadata": {},
     "output_type": "execute_result"
    }
   ],
   "source": [
    "train[\"total_acc\"].quantile([0, 0.05, 0.25, 0.5, 0.75, 0.95, 1])"
   ]
  },
  {
   "cell_type": "code",
   "execution_count": 102,
   "metadata": {},
   "outputs": [],
   "source": [
    "breaks = np.linspace(0, 60, 13).tolist()\n",
    "train[\"total_acc_cat\"] = train[\"total_acc\"].cut(breaks = breaks)"
   ]
  },
  {
   "cell_type": "code",
   "execution_count": 103,
   "metadata": {},
   "outputs": [],
   "source": [
    "df = mean_target(train, \"total_acc_cat\")"
   ]
  },
  {
   "cell_type": "code",
   "execution_count": 104,
   "metadata": {},
   "outputs": [
    {
     "data": {
      "text/plain": [
       "[<matplotlib.lines.Line2D at 0x1b30e1af880>]"
      ]
     },
     "execution_count": 104,
     "metadata": {},
     "output_type": "execute_result"
    },
    {
     "data": {
      "image/png": "[encoded data removed]",
      "text/plain": [
       "<Figure size 640x480 with 1 Axes>"
      ]
     },
     "metadata": {},
     "output_type": "display_data"
    }
   ],
   "source": [
    "plt.yscale(\"logit\")\n",
    "plt.plot(df[\"total_acc_cat\"].index, df[\"mean_bad_loan\"])"
   ]
  },
  {
   "cell_type": "code",
   "execution_count": 105,
   "metadata": {},
   "outputs": [
    {
     "data": {
      "text/html": [
       "<table class='dataframe'>\n",
       "<thead>\n",
       "<tr><th style=\"text-align: right;\">  C1</th><th style=\"text-align: right;\">  Count</th></tr>\n",
       "</thead>\n",
       "<tbody>\n",
       "<tr><td style=\"text-align: right;\">   0</td><td style=\"text-align: right;\"> 163958</td></tr>\n",
       "<tr><td style=\"text-align: right;\">   1</td><td style=\"text-align: right;\">     29</td></tr>\n",
       "</tbody>\n",
       "</table><pre style='font-size: smaller; margin-bottom: 1em;'>[2 rows x 2 columns]</pre>"
      ],
      "text/plain": [
       "  C1    Count\n",
       "----  -------\n",
       "   0   163958\n",
       "   1       29\n",
       "[2 rows x 2 columns]\n"
      ]
     },
     "execution_count": 105,
     "metadata": {},
     "output_type": "execute_result"
    }
   ],
   "source": [
    "(train[\"total_acc\"] == None).table()"
   ]
  },
  {
   "cell_type": "code",
   "execution_count": 106,
   "metadata": {},
   "outputs": [
    {
     "data": {
      "text/html": [
       "<div>\n",
       "<style scoped>\n",
       "    .dataframe tbody tr th:only-of-type {\n",
       "        vertical-align: middle;\n",
       "    }\n",
       "\n",
       "    .dataframe tbody tr th {\n",
       "        vertical-align: top;\n",
       "    }\n",
       "\n",
       "    .dataframe thead th {\n",
       "        text-align: right;\n",
       "    }\n",
       "</style>\n",
       "<table border=\"1\" class=\"dataframe\">\n",
       "  <thead>\n",
       "    <tr style=\"text-align: right;\">\n",
       "      <th></th>\n",
       "      <th>total_acc_cat</th>\n",
       "      <th>nrow</th>\n",
       "      <th>mean_bad_loan</th>\n",
       "    </tr>\n",
       "  </thead>\n",
       "  <tbody>\n",
       "    <tr>\n",
       "      <th>0</th>\n",
       "      <td>NaN</td>\n",
       "      <td>0</td>\n",
       "      <td>0.153788</td>\n",
       "    </tr>\n",
       "    <tr>\n",
       "      <th>1</th>\n",
       "      <td>(0.0,5.0]</td>\n",
       "      <td>2309</td>\n",
       "      <td>0.226072</td>\n",
       "    </tr>\n",
       "    <tr>\n",
       "      <th>2</th>\n",
       "      <td>(5.0,10.0]</td>\n",
       "      <td>12717</td>\n",
       "      <td>0.210034</td>\n",
       "    </tr>\n",
       "  </tbody>\n",
       "</table>\n",
       "</div>"
      ],
      "text/plain": [
       "  total_acc_cat   nrow  mean_bad_loan\n",
       "0           NaN      0       0.153788\n",
       "1     (0.0,5.0]   2309       0.226072\n",
       "2    (5.0,10.0]  12717       0.210034"
      ]
     },
     "execution_count": 106,
     "metadata": {},
     "output_type": "execute_result"
    }
   ],
   "source": [
    "df[0:3]"
   ]
  },
  {
   "cell_type": "code",
   "execution_count": 107,
   "metadata": {},
   "outputs": [
    {
     "data": {
      "text/html": [
       "<div>\n",
       "<style scoped>\n",
       "    .dataframe tbody tr th:only-of-type {\n",
       "        vertical-align: middle;\n",
       "    }\n",
       "\n",
       "    .dataframe tbody tr th {\n",
       "        vertical-align: top;\n",
       "    }\n",
       "\n",
       "    .dataframe thead th {\n",
       "        text-align: right;\n",
       "    }\n",
       "</style>\n",
       "<table border=\"1\" class=\"dataframe\">\n",
       "  <thead>\n",
       "    <tr style=\"text-align: right;\">\n",
       "      <th></th>\n",
       "      <th>total_acc_cat</th>\n",
       "      <th>nrow</th>\n",
       "      <th>mean_bad_loan</th>\n",
       "    </tr>\n",
       "  </thead>\n",
       "  <tbody>\n",
       "    <tr>\n",
       "      <th>8</th>\n",
       "      <td>(35.0,40.0]</td>\n",
       "      <td>11251</td>\n",
       "      <td>0.163719</td>\n",
       "    </tr>\n",
       "    <tr>\n",
       "      <th>9</th>\n",
       "      <td>(40.0,45.0]</td>\n",
       "      <td>7174</td>\n",
       "      <td>0.161137</td>\n",
       "    </tr>\n",
       "    <tr>\n",
       "      <th>10</th>\n",
       "      <td>(45.0,50.0]</td>\n",
       "      <td>4203</td>\n",
       "      <td>0.157507</td>\n",
       "    </tr>\n",
       "    <tr>\n",
       "      <th>11</th>\n",
       "      <td>(50.0,55.0]</td>\n",
       "      <td>2350</td>\n",
       "      <td>0.140426</td>\n",
       "    </tr>\n",
       "    <tr>\n",
       "      <th>12</th>\n",
       "      <td>(55.0,60.0]</td>\n",
       "      <td>1287</td>\n",
       "      <td>0.165501</td>\n",
       "    </tr>\n",
       "  </tbody>\n",
       "</table>\n",
       "</div>"
      ],
      "text/plain": [
       "   total_acc_cat   nrow  mean_bad_loan\n",
       "8    (35.0,40.0]  11251       0.163719\n",
       "9    (40.0,45.0]   7174       0.161137\n",
       "10   (45.0,50.0]   4203       0.157507\n",
       "11   (50.0,55.0]   2350       0.140426\n",
       "12   (55.0,60.0]   1287       0.165501"
      ]
     },
     "execution_count": 107,
     "metadata": {},
     "output_type": "execute_result"
    }
   ],
   "source": [
    "df[8:13]"
   ]
  },
  {
   "cell_type": "code",
   "execution_count": 108,
   "metadata": {},
   "outputs": [],
   "source": [
    "x_trans.remove(\"total_acc\")\n",
    "x_trans.append(\"total_acc_core\")\n",
    "x_trans.append(\"total_acc_delta\")\n",
    "\n",
    "train[\"total_acc_core\"] = h2o.H2OFrame.ifelse(train[\"total_acc\"] <= 50, train[\"total_acc\"], 50)\n",
    "\n",
    "train[\"total_acc_delta\"] = train[\"total_acc\"] - train[\"total_acc_core\"]"
   ]
  },
  {
   "cell_type": "markdown",
   "metadata": {},
   "source": [
    "### Separating Typical from Extreme Longest Credit Length\n",
    "\n",
    "Looking at the occurance of bad loans on a logit scale reveal that the chance of a bad loan roughly decreases linearly in longest credit length from 3 to 20 years and is highly volatile outside of that range due to small numbers of observations. To reflect this finding in the modeling, we will replace the original `longest_credit_length` measure with two derived measures:\n",
    "\n",
    "\\begin{eqnarray}\n",
    "longest\\_credit\\_length\\_core & = & \\max(3, \\min(longest\\_credit\\_length, 20)) \\\\\n",
    "longest\\_credit\\_length\\_diff & = & longest\\_credit\\_length - longest\\_credit\\_length\\_core\n",
    "\\end{eqnarray}"
   ]
  },
  {
   "cell_type": "code",
   "execution_count": 109,
   "metadata": {},
   "outputs": [
    {
     "data": {
      "text/html": [
       "<table class='dataframe'>\n",
       "<thead>\n",
       "<tr><th style=\"text-align: right;\">  Probs</th><th style=\"text-align: right;\">  longest_credit_lengthQuantiles</th></tr>\n",
       "</thead>\n",
       "<tbody>\n",
       "<tr><td style=\"text-align: right;\">   0   </td><td style=\"text-align: right;\">                               0</td></tr>\n",
       "<tr><td style=\"text-align: right;\">   0.05</td><td style=\"text-align: right;\">                               6</td></tr>\n",
       "<tr><td style=\"text-align: right;\">   0.25</td><td style=\"text-align: right;\">                              10</td></tr>\n",
       "<tr><td style=\"text-align: right;\">   0.5 </td><td style=\"text-align: right;\">                              14</td></tr>\n",
       "<tr><td style=\"text-align: right;\">   0.75</td><td style=\"text-align: right;\">                              18</td></tr>\n",
       "<tr><td style=\"text-align: right;\">   0.95</td><td style=\"text-align: right;\">                              28</td></tr>\n",
       "<tr><td style=\"text-align: right;\">   1   </td><td style=\"text-align: right;\">                              65</td></tr>\n",
       "</tbody>\n",
       "</table><pre style='font-size: smaller; margin-bottom: 1em;'>[7 rows x 2 columns]</pre>"
      ],
      "text/plain": [
       "  Probs    longest_credit_lengthQuantiles\n",
       "-------  --------------------------------\n",
       "   0                                    0\n",
       "   0.05                                 6\n",
       "   0.25                                10\n",
       "   0.5                                 14\n",
       "   0.75                                18\n",
       "   0.95                                28\n",
       "   1                                   65\n",
       "[7 rows x 2 columns]\n"
      ]
     },
     "execution_count": 109,
     "metadata": {},
     "output_type": "execute_result"
    }
   ],
   "source": [
    "train[\"longest_credit_length\"].quantile([0, 0.05, 0.25, 0.5, 0.75, 0.95, 1])"
   ]
  },
  {
   "cell_type": "code",
   "execution_count": 110,
   "metadata": {},
   "outputs": [],
   "source": [
    "breaks = np.linspace(0, 25, 26).tolist()\n",
    "train[\"longest_credit_length_cat\"] = train[\"longest_credit_length\"].cut(breaks = breaks)"
   ]
  },
  {
   "cell_type": "code",
   "execution_count": 111,
   "metadata": {},
   "outputs": [],
   "source": [
    "df = mean_target(train, \"longest_credit_length_cat\")"
   ]
  },
  {
   "cell_type": "code",
   "execution_count": 112,
   "metadata": {},
   "outputs": [
    {
     "data": {
      "text/plain": [
       "[<matplotlib.lines.Line2D at 0x1b30e249280>]"
      ]
     },
     "execution_count": 112,
     "metadata": {},
     "output_type": "execute_result"
    },
    {
     "data": {
      "image/png": "[encoded data removed]",
      "text/plain": [
       "<Figure size 640x480 with 1 Axes>"
      ]
     },
     "metadata": {},
     "output_type": "display_data"
    }
   ],
   "source": [
    "plt.yscale(\"logit\")\n",
    "plt.plot(df[\"longest_credit_length_cat\"].index, df[\"mean_bad_loan\"])"
   ]
  },
  {
   "cell_type": "code",
   "execution_count": 113,
   "metadata": {},
   "outputs": [
    {
     "data": {
      "text/html": [
       "<div>\n",
       "<style scoped>\n",
       "    .dataframe tbody tr th:only-of-type {\n",
       "        vertical-align: middle;\n",
       "    }\n",
       "\n",
       "    .dataframe tbody tr th {\n",
       "        vertical-align: top;\n",
       "    }\n",
       "\n",
       "    .dataframe thead th {\n",
       "        text-align: right;\n",
       "    }\n",
       "</style>\n",
       "<table border=\"1\" class=\"dataframe\">\n",
       "  <thead>\n",
       "    <tr style=\"text-align: right;\">\n",
       "      <th></th>\n",
       "      <th>longest_credit_length_cat</th>\n",
       "      <th>nrow</th>\n",
       "      <th>mean_bad_loan</th>\n",
       "    </tr>\n",
       "  </thead>\n",
       "  <tbody>\n",
       "    <tr>\n",
       "      <th>0</th>\n",
       "      <td>NaN</td>\n",
       "      <td>0</td>\n",
       "      <td>0.171094</td>\n",
       "    </tr>\n",
       "    <tr>\n",
       "      <th>1</th>\n",
       "      <td>(0.0,1.0]</td>\n",
       "      <td>67</td>\n",
       "      <td>0.253731</td>\n",
       "    </tr>\n",
       "    <tr>\n",
       "      <th>2</th>\n",
       "      <td>(1.0,2.0]</td>\n",
       "      <td>100</td>\n",
       "      <td>0.300000</td>\n",
       "    </tr>\n",
       "    <tr>\n",
       "      <th>3</th>\n",
       "      <td>(2.0,3.0]</td>\n",
       "      <td>914</td>\n",
       "      <td>0.205689</td>\n",
       "    </tr>\n",
       "  </tbody>\n",
       "</table>\n",
       "</div>"
      ],
      "text/plain": [
       "  longest_credit_length_cat  nrow  mean_bad_loan\n",
       "0                       NaN     0       0.171094\n",
       "1                 (0.0,1.0]    67       0.253731\n",
       "2                 (1.0,2.0]   100       0.300000\n",
       "3                 (2.0,3.0]   914       0.205689"
      ]
     },
     "execution_count": 113,
     "metadata": {},
     "output_type": "execute_result"
    }
   ],
   "source": [
    "df[0:4]"
   ]
  },
  {
   "cell_type": "code",
   "execution_count": 114,
   "metadata": {},
   "outputs": [
    {
     "data": {
      "text/html": [
       "<div>\n",
       "<style scoped>\n",
       "    .dataframe tbody tr th:only-of-type {\n",
       "        vertical-align: middle;\n",
       "    }\n",
       "\n",
       "    .dataframe tbody tr th {\n",
       "        vertical-align: top;\n",
       "    }\n",
       "\n",
       "    .dataframe thead th {\n",
       "        text-align: right;\n",
       "    }\n",
       "</style>\n",
       "<table border=\"1\" class=\"dataframe\">\n",
       "  <thead>\n",
       "    <tr style=\"text-align: right;\">\n",
       "      <th></th>\n",
       "      <th>longest_credit_length_cat</th>\n",
       "      <th>nrow</th>\n",
       "      <th>mean_bad_loan</th>\n",
       "    </tr>\n",
       "  </thead>\n",
       "  <tbody>\n",
       "    <tr>\n",
       "      <th>20</th>\n",
       "      <td>(19.0,20.0]</td>\n",
       "      <td>4682</td>\n",
       "      <td>0.163392</td>\n",
       "    </tr>\n",
       "    <tr>\n",
       "      <th>21</th>\n",
       "      <td>(20.0,21.0]</td>\n",
       "      <td>3892</td>\n",
       "      <td>0.157760</td>\n",
       "    </tr>\n",
       "    <tr>\n",
       "      <th>22</th>\n",
       "      <td>(21.0,22.0]</td>\n",
       "      <td>3350</td>\n",
       "      <td>0.160000</td>\n",
       "    </tr>\n",
       "    <tr>\n",
       "      <th>23</th>\n",
       "      <td>(22.0,23.0]</td>\n",
       "      <td>3092</td>\n",
       "      <td>0.167206</td>\n",
       "    </tr>\n",
       "    <tr>\n",
       "      <th>24</th>\n",
       "      <td>(23.0,24.0]</td>\n",
       "      <td>2856</td>\n",
       "      <td>0.176821</td>\n",
       "    </tr>\n",
       "    <tr>\n",
       "      <th>25</th>\n",
       "      <td>(24.0,25.0]</td>\n",
       "      <td>2471</td>\n",
       "      <td>0.164711</td>\n",
       "    </tr>\n",
       "  </tbody>\n",
       "</table>\n",
       "</div>"
      ],
      "text/plain": [
       "   longest_credit_length_cat  nrow  mean_bad_loan\n",
       "20               (19.0,20.0]  4682       0.163392\n",
       "21               (20.0,21.0]  3892       0.157760\n",
       "22               (21.0,22.0]  3350       0.160000\n",
       "23               (22.0,23.0]  3092       0.167206\n",
       "24               (23.0,24.0]  2856       0.176821\n",
       "25               (24.0,25.0]  2471       0.164711"
      ]
     },
     "execution_count": 114,
     "metadata": {},
     "output_type": "execute_result"
    }
   ],
   "source": [
    "df[20:26]"
   ]
  },
  {
   "cell_type": "code",
   "execution_count": 115,
   "metadata": {},
   "outputs": [],
   "source": [
    "x_trans.remove(\"longest_credit_length\")\n",
    "x_trans.append(\"longest_credit_length_core\")\n",
    "x_trans.append(\"longest_credit_length_delta\")\n",
    "\n",
    "train[\"longest_credit_length_core\"] = h2o.H2OFrame.ifelse(train[\"longest_credit_length\"] <= 3,\n",
    "                                                          3, train[\"longest_credit_length\"])\n",
    "train[\"longest_credit_length_core\"] = h2o.H2OFrame.ifelse(train[\"longest_credit_length_core\"] <= 20,\n",
    "                                                          train[\"longest_credit_length_core\"], 20)\n",
    "\n",
    "train[\"longest_credit_length_delta\"] = train[\"longest_credit_length\"] - train[\"longest_credit_length_core\"]"
   ]
  },
  {
   "cell_type": "markdown",
   "metadata": {},
   "source": [
    "### Converting Income Verification Status to a 0/1 Indicator\n",
    "\n",
    "Given that incomes are either verified or not verified, we will create a simplifed `verified` binary indicator that is 1 when income has been verified."
   ]
  },
  {
   "cell_type": "code",
   "execution_count": 116,
   "metadata": {},
   "outputs": [
    {
     "data": {
      "text/html": [
       "<table class='dataframe'>\n",
       "<thead>\n",
       "<tr><th>verification_status  </th><th style=\"text-align: right;\">  Count</th></tr>\n",
       "</thead>\n",
       "<tbody>\n",
       "<tr><td>not verified         </td><td style=\"text-align: right;\">  59155</td></tr>\n",
       "<tr><td>verified             </td><td style=\"text-align: right;\"> 104832</td></tr>\n",
       "</tbody>\n",
       "</table><pre style='font-size: smaller; margin-bottom: 1em;'>[2 rows x 2 columns]</pre>"
      ],
      "text/plain": [
       "verification_status      Count\n",
       "---------------------  -------\n",
       "not verified             59155\n",
       "verified                104832\n",
       "[2 rows x 2 columns]\n"
      ]
     },
     "execution_count": 116,
     "metadata": {},
     "output_type": "execute_result"
    }
   ],
   "source": [
    "train[\"verification_status\"].table()"
   ]
  },
  {
   "cell_type": "code",
   "execution_count": 117,
   "metadata": {},
   "outputs": [],
   "source": [
    "x_trans.remove(\"verification_status\")\n",
    "x_trans.append(\"verified\")\n",
    "\n",
    "train[\"verified\"] = train[\"verification_status\"] == \"verified\""
   ]
  },
  {
   "cell_type": "code",
   "execution_count": 118,
   "metadata": {},
   "outputs": [
    {
     "data": {
      "text/html": [
       "<table class='dataframe'>\n",
       "<thead>\n",
       "<tr><th style=\"text-align: right;\">  verified</th><th style=\"text-align: right;\">  Count</th></tr>\n",
       "</thead>\n",
       "<tbody>\n",
       "<tr><td style=\"text-align: right;\">         0</td><td style=\"text-align: right;\">  59155</td></tr>\n",
       "<tr><td style=\"text-align: right;\">         1</td><td style=\"text-align: right;\"> 104832</td></tr>\n",
       "</tbody>\n",
       "</table><pre style='font-size: smaller; margin-bottom: 1em;'>[2 rows x 2 columns]</pre>"
      ],
      "text/plain": [
       "  verified    Count\n",
       "----------  -------\n",
       "         0    59155\n",
       "         1   104832\n",
       "[2 rows x 2 columns]\n"
      ]
     },
     "execution_count": 118,
     "metadata": {},
     "output_type": "execute_result"
    }
   ],
   "source": [
    "train[\"verified\"].table()"
   ]
  },
  {
   "cell_type": "markdown",
   "metadata": {},
   "source": [
    "## Train Models Using Transformed Data"
   ]
  },
  {
   "cell_type": "code",
   "execution_count": 119,
   "metadata": {},
   "outputs": [
    {
     "name": "stdout",
     "output_type": "stream",
     "text": [
      "model_id                                                      auc    logloss     aucpr    mean_per_class_error      rmse       mse\n",
      "StackedEnsemble_AllModels_3_AutoML_2_20221111_200845     0.708936   0.433632  0.346522                0.350163  0.369758  0.136721\n",
      "StackedEnsemble_AllModels_2_AutoML_2_20221111_200845     0.708558   0.433788  0.346107                0.350899  0.369819  0.136766\n",
      "StackedEnsemble_AllModels_1_AutoML_2_20221111_200845     0.708207   0.434035  0.345421                0.352214  0.369929  0.136847\n",
      "StackedEnsemble_BestOfFamily_3_AutoML_2_20221111_200845  0.707334   0.434315  0.343825                0.353761  0.370063  0.136947\n",
      "StackedEnsemble_BestOfFamily_4_AutoML_2_20221111_200845  0.707279   0.43441   0.343512                0.35216   0.370106  0.136979\n",
      "StackedEnsemble_BestOfFamily_2_AutoML_2_20221111_200845  0.70712    0.434496  0.343713                0.352942  0.370136  0.137001\n",
      "GBM_5_AutoML_2_20221111_200845                           0.706301   0.434988  0.341121                0.350867  0.370377  0.137179\n",
      "GBM_2_AutoML_2_20221111_200845                           0.705988   0.435087  0.341476                0.351821  0.370425  0.137214\n",
      "StackedEnsemble_BestOfFamily_1_AutoML_2_20221111_200845  0.70458    0.435821  0.340249                0.352606  0.370626  0.137364\n",
      "GBM_3_AutoML_2_20221111_200845                           0.703908   0.43608   0.338605                0.353109  0.370872  0.137546\n",
      "[19 rows x 7 columns]\n",
      "\n"
     ]
    }
   ],
   "source": [
    "print(aml.leaderboard)"
   ]
  },
  {
   "cell_type": "code",
   "execution_count": 120,
   "metadata": {},
   "outputs": [
    {
     "name": "stdout",
     "output_type": "stream",
     "text": [
      "['emp_length', 'loan_amnt_core', 'loan_amnt_delta', 'term_60months', 'emp_length_missing', 'home_ownership_3cat', 'annual_inc_core', 'annual_inc_delta', 'te_purpose', 'te_addr_state', 'dti_core', 'dti_delta', 'delinq_2yrs_core', 'delinq_2yrs_delta', 'revol_util_0', 'revol_util_core', 'revol_util_delta', 'total_acc_core', 'total_acc_delta', 'longest_credit_length_core', 'longest_credit_length_delta', 'verified']\n"
     ]
    }
   ],
   "source": [
    "print(x_trans)"
   ]
  },
  {
   "cell_type": "code",
   "execution_count": 121,
   "metadata": {},
   "outputs": [],
   "source": [
    "# Set up AutoML\n",
    "\n",
    "aml = H2OAutoML(max_runtime_secs=run_time)"
   ]
  },
  {
   "cell_type": "code",
   "execution_count": 122,
   "metadata": {},
   "outputs": [
    {
     "name": "stdout",
     "output_type": "stream",
     "text": [
      "AutoML progress: |\n",
      "20:15:06.357: AutoML: XGBoost is not available; skipping it.\n",
      "\n",
      "███████████████████████████████████████████████████████████████| (done) 100%\n"
     ]
    }
   ],
   "source": [
    "model_start_time = time.time()\n",
    "  \n",
    "try:\n",
    "  aml.train(x = x_trans, y = y, training_frame = train)  # Change training_frame=train\n",
    "except Exception as e:\n",
    "  logging.critical('aml.train') \n",
    "  h2o.download_all_logs(dirname=logs_path, filename=logfile)      \n",
    "  h2o.cluster().shutdown()   \n",
    "  sys.exit(4)\n",
    "  \n",
    "  \n",
    "meta_data['model_execution_time'] = {\"classification\":(time.time() - model_start_time)} "
   ]
  },
  {
   "cell_type": "code",
   "execution_count": 123,
   "metadata": {},
   "outputs": [],
   "source": [
    "d=meta_data['model_execution_time']\n",
    "d['classification_trans']=(time.time() - model_start_time)\n",
    "meta_data['model_execution_time'] = d"
   ]
  },
  {
   "cell_type": "code",
   "execution_count": 124,
   "metadata": {},
   "outputs": [
    {
     "data": {
      "text/plain": [
       "{'model_execution_time': {'classification': 224.29422569274902,\n",
       "  'classification_trans': 230.71701645851135}}"
      ]
     },
     "execution_count": 124,
     "metadata": {},
     "output_type": "execute_result"
    }
   ],
   "source": [
    "meta_data "
   ]
  },
  {
   "cell_type": "code",
   "execution_count": 125,
   "metadata": {},
   "outputs": [
    {
     "name": "stdout",
     "output_type": "stream",
     "text": [
      "model_id                                                      auc    logloss     aucpr    mean_per_class_error      rmse       mse\n",
      "StackedEnsemble_AllModels_2_AutoML_3_20221111_201506     0.684687   0.443036  0.325614                0.367476  0.373336  0.13938\n",
      "StackedEnsemble_AllModels_3_AutoML_3_20221111_201506     0.684637   0.443071  0.325463                0.366872  0.373353  0.139393\n",
      "StackedEnsemble_AllModels_1_AutoML_3_20221111_201506     0.684561   0.443074  0.325427                0.367348  0.373357  0.139395\n",
      "StackedEnsemble_BestOfFamily_3_AutoML_3_20221111_201506  0.683987   0.443297  0.324737                0.367766  0.373446  0.139462\n",
      "StackedEnsemble_BestOfFamily_2_AutoML_3_20221111_201506  0.683916   0.443347  0.32436                 0.367748  0.373475  0.139483\n",
      "GBM_2_AutoML_3_20221111_201506                           0.683125   0.443869  0.322344                0.367579  0.37371   0.139659\n",
      "GBM_5_AutoML_3_20221111_201506                           0.682008   0.444445  0.321703                0.368348  0.373871  0.139779\n",
      "StackedEnsemble_BestOfFamily_1_AutoML_3_20221111_201506  0.6813     0.444148  0.322537                0.369454  0.373784  0.139714\n",
      "GBM_3_AutoML_3_20221111_201506                           0.681284   0.444588  0.319575                0.368804  0.374068  0.139927\n",
      "GLM_1_AutoML_3_20221111_201506                           0.677161   0.445679  0.317685                0.373425  0.374427  0.140195\n",
      "[18 rows x 7 columns]\n",
      "\n"
     ]
    }
   ],
   "source": [
    "print(aml.leaderboard)"
   ]
  },
  {
   "cell_type": "code",
   "execution_count": 126,
   "metadata": {},
   "outputs": [],
   "source": [
    "best_model_trans = h2o.get_model(aml.leaderboard[3,'model_id'])"
   ]
  },
  {
   "cell_type": "markdown",
   "metadata": {},
   "source": [
    "## Shutdown H2O Cluster"
   ]
  },
  {
   "cell_type": "code",
   "execution_count": 128,
   "metadata": {},
   "outputs": [
    {
     "name": "stdout",
     "output_type": "stream",
     "text": [
      "H2O session _sid_9dc0 closed.\n"
     ]
    }
   ],
   "source": [
    "h2o.cluster().shutdown()"
   ]
  },
  {
   "cell_type": "code",
   "execution_count": null,
   "metadata": {},
   "outputs": [],
   "source": []
  }
 ],
 "metadata": {
  "kernelspec": {
   "display_name": "Python 3 (ipykernel)",
   "language": "python",
   "name": "python3"
  },
  "language_info": {
   "codemirror_mode": {
    "name": "ipython",
    "version": 3
   },
   "file_extension": ".py",
   "mimetype": "text/x-python",
   "name": "python",
   "nbconvert_exporter": "python",
   "pygments_lexer": "ipython3",
   "version": "3.9.13"
  }
 },
 "nbformat": 4,
 "nbformat_minor": 2
}
