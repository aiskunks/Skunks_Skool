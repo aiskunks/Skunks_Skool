{
  "cells": [
    {
      "cell_type": "markdown",
      "id": "56afe5b1",
      "metadata": {
        "id": "56afe5b1"
      },
      "source": [
        "# Assignment 1 - ML Data Cleaning & Feature Selection"
      ]
    },
    {
      "cell_type": "markdown",
      "id": "8f10b436",
      "metadata": {
        "id": "8f10b436"
      },
      "source": [
        "## Background"
      ]
    },
    {
      "cell_type": "markdown",
      "id": "7c6a8ecd",
      "metadata": {
        "id": "7c6a8ecd"
      },
      "source": [
        "A tour & travels company is offering travel insurance package to their customers. The new insurance package also includes covid cover. The company wants to know which customers would be interested to buy it based on their database history. The insurance was offered to some of the customers in 2019 and the given data has been extracted from the performance/sales of the package during that period. The data is provided for almost 2000 of its previous customers and we are required to build an intelligent model that can predict if the customer will be interested to buy the travel insurance package."
      ]
    },
    {
      "cell_type": "markdown",
      "id": "cae64242",
      "metadata": {
        "id": "cae64242"
      },
      "source": [
        "## Information about the Dataset"
      ]
    },
    {
      "cell_type": "markdown",
      "id": "6bfb6d1b",
      "metadata": {
        "id": "6bfb6d1b"
      },
      "source": [
        "##### What is our ultimate aim with this notebook?\n",
        "- Our ultimate aim is to build a machine learning model that can predict if the customer will be interested in buying the travel insurance package based on certaing parameters. Before we create a model we need to do some data cleaning, feature selection and exploratory data analysis of the kaggle dataset.\n",
        "\n",
        "<i><b>Kaggle Dataset Link: </b>  https://www.kaggle.com/datasets/tejashvi14/travel-insurance-prediction-data</i>"
      ]
    },
    {
      "cell_type": "markdown",
      "id": "1f05e4f8",
      "metadata": {
        "id": "1f05e4f8"
      },
      "source": [
        "***\n",
        "#### Column Description for our Dataset\n",
        "***\n",
        "<b><i><u>Target Variable/Dependent Variable</u><i></b>\n",
        "    \n",
        "1. <b>TravelInsurance</b> - Did the customer buy travel insurance package during introductory offering held in the year 2019. This is the variable we have to predict\n",
        "\n",
        "<b><i><u>Predictor Variables/Independent Variables </u><i></b>\n",
        "1. <b>Unnamed: 0</b> - The row number\n",
        "2. <b>Age</b> - Age of the customer\n",
        "3. <b>Employment Type</b> - The sector in which customer is employed\n",
        "4. <b>GraduateOrNot</b> - Whether the customer is college graduate or not\n",
        "5. <b>AnnualIncome</b> - The yearly income of the customer in indian rupees[rounded to nearest 50 thousand rupees]\n",
        "6. <b>FamilyMembers</b> - Number of members in customer's family\n",
        "7. <b>ChronicDiseases</b> - Whether the customer suffers from any major disease or conditions like Diabetes/high BP or Asthama,etc\n",
        "8. <b>FrequentFlyer</b> - Derived data based on customer's history of booking air tickets on atleast 4 different instances in the last 2 years[2017-2019]\n",
        "9. <b>EverTravelledAbroad</b> - Has the customer ever travelled to a foreign country\n",
        "\n",
        "    \n"
      ]
    },
    {
      "cell_type": "code",
      "execution_count": null,
      "id": "bf6ab66e",
      "metadata": {
        "id": "bf6ab66e"
      },
      "outputs": [],
      "source": [
        "#loading the required libraries\n",
        "import numpy as np\n",
        "import matplotlib as mlt\n",
        "import seaborn as sns\n",
        "import matplotlib.pyplot as plt\n",
        "%matplotlib inline\n",
        "import pandas as pd\n",
        "import statsmodels.api as sd\n",
        "from sklearn import tree\n",
        "import sklearn.metrics as sm\n",
        "import warnings\n",
        "warnings.filterwarnings(\"ignore\")"
      ]
    },
    {
      "cell_type": "code",
      "execution_count": null,
      "id": "55504cf1",
      "metadata": {
        "id": "55504cf1"
      },
      "outputs": [],
      "source": [
        "#Loading the dataset\n",
        "data = pd.read_csv(\"TravelInsurancePrediction.csv\")"
      ]
    },
    {
      "cell_type": "code",
      "execution_count": null,
      "id": "b7e1bced",
      "metadata": {
        "colab": {
          "base_uri": "https://localhost:8080/",
          "height": 337
        },
        "id": "b7e1bced",
        "outputId": "e39a10ef-39eb-4b55-98a0-e64ccfd80b07"
      },
      "outputs": [
        {
          "output_type": "execute_result",
          "data": {
            "text/plain": [
              "   Unnamed: 0  Age               Employment Type GraduateOrNot  AnnualIncome  \\\n",
              "0           0   31             Government Sector           Yes        400000   \n",
              "1           1   31  Private Sector/Self Employed           Yes       1250000   \n",
              "2           2   34  Private Sector/Self Employed           Yes        500000   \n",
              "3           3   28  Private Sector/Self Employed           Yes        700000   \n",
              "4           4   28  Private Sector/Self Employed           Yes        700000   \n",
              "\n",
              "   FamilyMembers  ChronicDiseases FrequentFlyer EverTravelledAbroad  \\\n",
              "0              6                1            No                  No   \n",
              "1              7                0            No                  No   \n",
              "2              4                1            No                  No   \n",
              "3              3                1            No                  No   \n",
              "4              8                1           Yes                  No   \n",
              "\n",
              "   TravelInsurance  \n",
              "0                0  \n",
              "1                0  \n",
              "2                1  \n",
              "3                0  \n",
              "4                0  "
            ],
            "text/html": [
              "\n",
              "  <div id=\"df-dd396007-6d8c-47ec-9c0a-4c008f16cfaa\">\n",
              "    <div class=\"colab-df-container\">\n",
              "      <div>\n",
              "<style scoped>\n",
              "    .dataframe tbody tr th:only-of-type {\n",
              "        vertical-align: middle;\n",
              "    }\n",
              "\n",
              "    .dataframe tbody tr th {\n",
              "        vertical-align: top;\n",
              "    }\n",
              "\n",
              "    .dataframe thead th {\n",
              "        text-align: right;\n",
              "    }\n",
              "</style>\n",
              "<table border=\"1\" class=\"dataframe\">\n",
              "  <thead>\n",
              "    <tr style=\"text-align: right;\">\n",
              "      <th></th>\n",
              "      <th>Unnamed: 0</th>\n",
              "      <th>Age</th>\n",
              "      <th>Employment Type</th>\n",
              "      <th>GraduateOrNot</th>\n",
              "      <th>AnnualIncome</th>\n",
              "      <th>FamilyMembers</th>\n",
              "      <th>ChronicDiseases</th>\n",
              "      <th>FrequentFlyer</th>\n",
              "      <th>EverTravelledAbroad</th>\n",
              "      <th>TravelInsurance</th>\n",
              "    </tr>\n",
              "  </thead>\n",
              "  <tbody>\n",
              "    <tr>\n",
              "      <th>0</th>\n",
              "      <td>0</td>\n",
              "      <td>31</td>\n",
              "      <td>Government Sector</td>\n",
              "      <td>Yes</td>\n",
              "      <td>400000</td>\n",
              "      <td>6</td>\n",
              "      <td>1</td>\n",
              "      <td>No</td>\n",
              "      <td>No</td>\n",
              "      <td>0</td>\n",
              "    </tr>\n",
              "    <tr>\n",
              "      <th>1</th>\n",
              "      <td>1</td>\n",
              "      <td>31</td>\n",
              "      <td>Private Sector/Self Employed</td>\n",
              "      <td>Yes</td>\n",
              "      <td>1250000</td>\n",
              "      <td>7</td>\n",
              "      <td>0</td>\n",
              "      <td>No</td>\n",
              "      <td>No</td>\n",
              "      <td>0</td>\n",
              "    </tr>\n",
              "    <tr>\n",
              "      <th>2</th>\n",
              "      <td>2</td>\n",
              "      <td>34</td>\n",
              "      <td>Private Sector/Self Employed</td>\n",
              "      <td>Yes</td>\n",
              "      <td>500000</td>\n",
              "      <td>4</td>\n",
              "      <td>1</td>\n",
              "      <td>No</td>\n",
              "      <td>No</td>\n",
              "      <td>1</td>\n",
              "    </tr>\n",
              "    <tr>\n",
              "      <th>3</th>\n",
              "      <td>3</td>\n",
              "      <td>28</td>\n",
              "      <td>Private Sector/Self Employed</td>\n",
              "      <td>Yes</td>\n",
              "      <td>700000</td>\n",
              "      <td>3</td>\n",
              "      <td>1</td>\n",
              "      <td>No</td>\n",
              "      <td>No</td>\n",
              "      <td>0</td>\n",
              "    </tr>\n",
              "    <tr>\n",
              "      <th>4</th>\n",
              "      <td>4</td>\n",
              "      <td>28</td>\n",
              "      <td>Private Sector/Self Employed</td>\n",
              "      <td>Yes</td>\n",
              "      <td>700000</td>\n",
              "      <td>8</td>\n",
              "      <td>1</td>\n",
              "      <td>Yes</td>\n",
              "      <td>No</td>\n",
              "      <td>0</td>\n",
              "    </tr>\n",
              "  </tbody>\n",
              "</table>\n",
              "</div>\n",
              "      <button class=\"colab-df-convert\" onclick=\"convertToInteractive('df-dd396007-6d8c-47ec-9c0a-4c008f16cfaa')\"\n",
              "              title=\"Convert this dataframe to an interactive table.\"\n",
              "              style=\"display:none;\">\n",
              "        \n",
              "  <svg xmlns=\"http://www.w3.org/2000/svg\" height=\"24px\"viewBox=\"0 0 24 24\"\n",
              "       width=\"24px\">\n",
              "    <path d=\"M0 0h24v24H0V0z\" fill=\"none\"/>\n",
              "    <path d=\"M18.56 5.44l.94 2.06.94-2.06 2.06-.94-2.06-.94-.94-2.06-.94 2.06-2.06.94zm-11 1L8.5 8.5l.94-2.06 2.06-.94-2.06-.94L8.5 2.5l-.94 2.06-2.06.94zm10 10l.94 2.06.94-2.06 2.06-.94-2.06-.94-.94-2.06-.94 2.06-2.06.94z\"/><path d=\"M17.41 7.96l-1.37-1.37c-.4-.4-.92-.59-1.43-.59-.52 0-1.04.2-1.43.59L10.3 9.45l-7.72 7.72c-.78.78-.78 2.05 0 2.83L4 21.41c.39.39.9.59 1.41.59.51 0 1.02-.2 1.41-.59l7.78-7.78 2.81-2.81c.8-.78.8-2.07 0-2.86zM5.41 20L4 18.59l7.72-7.72 1.47 1.35L5.41 20z\"/>\n",
              "  </svg>\n",
              "      </button>\n",
              "      \n",
              "  <style>\n",
              "    .colab-df-container {\n",
              "      display:flex;\n",
              "      flex-wrap:wrap;\n",
              "      gap: 12px;\n",
              "    }\n",
              "\n",
              "    .colab-df-convert {\n",
              "      background-color: #E8F0FE;\n",
              "      border: none;\n",
              "      border-radius: 50%;\n",
              "      cursor: pointer;\n",
              "      display: none;\n",
              "      fill: #1967D2;\n",
              "      height: 32px;\n",
              "      padding: 0 0 0 0;\n",
              "      width: 32px;\n",
              "    }\n",
              "\n",
              "    .colab-df-convert:hover {\n",
              "      background-color: #E2EBFA;\n",
              "      box-shadow: 0px 1px 2px rgba(60, 64, 67, 0.3), 0px 1px 3px 1px rgba(60, 64, 67, 0.15);\n",
              "      fill: #174EA6;\n",
              "    }\n",
              "\n",
              "    [theme=dark] .colab-df-convert {\n",
              "      background-color: #3B4455;\n",
              "      fill: #D2E3FC;\n",
              "    }\n",
              "\n",
              "    [theme=dark] .colab-df-convert:hover {\n",
              "      background-color: #434B5C;\n",
              "      box-shadow: 0px 1px 3px 1px rgba(0, 0, 0, 0.15);\n",
              "      filter: drop-shadow(0px 1px 2px rgba(0, 0, 0, 0.3));\n",
              "      fill: #FFFFFF;\n",
              "    }\n",
              "  </style>\n",
              "\n",
              "      <script>\n",
              "        const buttonEl =\n",
              "          document.querySelector('#df-dd396007-6d8c-47ec-9c0a-4c008f16cfaa button.colab-df-convert');\n",
              "        buttonEl.style.display =\n",
              "          google.colab.kernel.accessAllowed ? 'block' : 'none';\n",
              "\n",
              "        async function convertToInteractive(key) {\n",
              "          const element = document.querySelector('#df-dd396007-6d8c-47ec-9c0a-4c008f16cfaa');\n",
              "          const dataTable =\n",
              "            await google.colab.kernel.invokeFunction('convertToInteractive',\n",
              "                                                     [key], {});\n",
              "          if (!dataTable) return;\n",
              "\n",
              "          const docLinkHtml = 'Like what you see? Visit the ' +\n",
              "            '<a target=\"_blank\" href=https://colab.research.google.com/notebooks/data_table.ipynb>data table notebook</a>'\n",
              "            + ' to learn more about interactive tables.';\n",
              "          element.innerHTML = '';\n",
              "          dataTable['output_type'] = 'display_data';\n",
              "          await google.colab.output.renderOutput(dataTable, element);\n",
              "          const docLink = document.createElement('div');\n",
              "          docLink.innerHTML = docLinkHtml;\n",
              "          element.appendChild(docLink);\n",
              "        }\n",
              "      </script>\n",
              "    </div>\n",
              "  </div>\n",
              "  "
            ]
          },
          "metadata": {},
          "execution_count": 778
        }
      ],
      "source": [
        "##Reading first 5 rows\n",
        "data.head(5)"
      ]
    },
    {
      "cell_type": "markdown",
      "id": "61ef55a7",
      "metadata": {
        "id": "61ef55a7"
      },
      "source": [
        "> We are dropping \"Unnamed: 0\" as it has the row number which is not useful for our analysis"
      ]
    },
    {
      "cell_type": "code",
      "execution_count": null,
      "id": "b9984669",
      "metadata": {
        "id": "b9984669"
      },
      "outputs": [],
      "source": [
        "#Dropping \"Unnamed: 0\"\n",
        "data.drop(columns=['Unnamed: 0'],inplace=True)"
      ]
    },
    {
      "cell_type": "code",
      "execution_count": null,
      "id": "c5c2d4e9",
      "metadata": {
        "colab": {
          "base_uri": "https://localhost:8080/",
          "height": 206
        },
        "id": "c5c2d4e9",
        "outputId": "02438033-52f4-4283-c26e-95f1e9c83372"
      },
      "outputs": [
        {
          "output_type": "execute_result",
          "data": {
            "text/plain": [
              "   Age               Employment Type GraduateOrNot  AnnualIncome  \\\n",
              "0   31             Government Sector           Yes        400000   \n",
              "1   31  Private Sector/Self Employed           Yes       1250000   \n",
              "2   34  Private Sector/Self Employed           Yes        500000   \n",
              "3   28  Private Sector/Self Employed           Yes        700000   \n",
              "4   28  Private Sector/Self Employed           Yes        700000   \n",
              "\n",
              "   FamilyMembers  ChronicDiseases FrequentFlyer EverTravelledAbroad  \\\n",
              "0              6                1            No                  No   \n",
              "1              7                0            No                  No   \n",
              "2              4                1            No                  No   \n",
              "3              3                1            No                  No   \n",
              "4              8                1           Yes                  No   \n",
              "\n",
              "   TravelInsurance  \n",
              "0                0  \n",
              "1                0  \n",
              "2                1  \n",
              "3                0  \n",
              "4                0  "
            ],
            "text/html": [
              "\n",
              "  <div id=\"df-9f78e92b-d57f-4485-bdba-09828f3bb1f1\">\n",
              "    <div class=\"colab-df-container\">\n",
              "      <div>\n",
              "<style scoped>\n",
              "    .dataframe tbody tr th:only-of-type {\n",
              "        vertical-align: middle;\n",
              "    }\n",
              "\n",
              "    .dataframe tbody tr th {\n",
              "        vertical-align: top;\n",
              "    }\n",
              "\n",
              "    .dataframe thead th {\n",
              "        text-align: right;\n",
              "    }\n",
              "</style>\n",
              "<table border=\"1\" class=\"dataframe\">\n",
              "  <thead>\n",
              "    <tr style=\"text-align: right;\">\n",
              "      <th></th>\n",
              "      <th>Age</th>\n",
              "      <th>Employment Type</th>\n",
              "      <th>GraduateOrNot</th>\n",
              "      <th>AnnualIncome</th>\n",
              "      <th>FamilyMembers</th>\n",
              "      <th>ChronicDiseases</th>\n",
              "      <th>FrequentFlyer</th>\n",
              "      <th>EverTravelledAbroad</th>\n",
              "      <th>TravelInsurance</th>\n",
              "    </tr>\n",
              "  </thead>\n",
              "  <tbody>\n",
              "    <tr>\n",
              "      <th>0</th>\n",
              "      <td>31</td>\n",
              "      <td>Government Sector</td>\n",
              "      <td>Yes</td>\n",
              "      <td>400000</td>\n",
              "      <td>6</td>\n",
              "      <td>1</td>\n",
              "      <td>No</td>\n",
              "      <td>No</td>\n",
              "      <td>0</td>\n",
              "    </tr>\n",
              "    <tr>\n",
              "      <th>1</th>\n",
              "      <td>31</td>\n",
              "      <td>Private Sector/Self Employed</td>\n",
              "      <td>Yes</td>\n",
              "      <td>1250000</td>\n",
              "      <td>7</td>\n",
              "      <td>0</td>\n",
              "      <td>No</td>\n",
              "      <td>No</td>\n",
              "      <td>0</td>\n",
              "    </tr>\n",
              "    <tr>\n",
              "      <th>2</th>\n",
              "      <td>34</td>\n",
              "      <td>Private Sector/Self Employed</td>\n",
              "      <td>Yes</td>\n",
              "      <td>500000</td>\n",
              "      <td>4</td>\n",
              "      <td>1</td>\n",
              "      <td>No</td>\n",
              "      <td>No</td>\n",
              "      <td>1</td>\n",
              "    </tr>\n",
              "    <tr>\n",
              "      <th>3</th>\n",
              "      <td>28</td>\n",
              "      <td>Private Sector/Self Employed</td>\n",
              "      <td>Yes</td>\n",
              "      <td>700000</td>\n",
              "      <td>3</td>\n",
              "      <td>1</td>\n",
              "      <td>No</td>\n",
              "      <td>No</td>\n",
              "      <td>0</td>\n",
              "    </tr>\n",
              "    <tr>\n",
              "      <th>4</th>\n",
              "      <td>28</td>\n",
              "      <td>Private Sector/Self Employed</td>\n",
              "      <td>Yes</td>\n",
              "      <td>700000</td>\n",
              "      <td>8</td>\n",
              "      <td>1</td>\n",
              "      <td>Yes</td>\n",
              "      <td>No</td>\n",
              "      <td>0</td>\n",
              "    </tr>\n",
              "  </tbody>\n",
              "</table>\n",
              "</div>\n",
              "      <button class=\"colab-df-convert\" onclick=\"convertToInteractive('df-9f78e92b-d57f-4485-bdba-09828f3bb1f1')\"\n",
              "              title=\"Convert this dataframe to an interactive table.\"\n",
              "              style=\"display:none;\">\n",
              "        \n",
              "  <svg xmlns=\"http://www.w3.org/2000/svg\" height=\"24px\"viewBox=\"0 0 24 24\"\n",
              "       width=\"24px\">\n",
              "    <path d=\"M0 0h24v24H0V0z\" fill=\"none\"/>\n",
              "    <path d=\"M18.56 5.44l.94 2.06.94-2.06 2.06-.94-2.06-.94-.94-2.06-.94 2.06-2.06.94zm-11 1L8.5 8.5l.94-2.06 2.06-.94-2.06-.94L8.5 2.5l-.94 2.06-2.06.94zm10 10l.94 2.06.94-2.06 2.06-.94-2.06-.94-.94-2.06-.94 2.06-2.06.94z\"/><path d=\"M17.41 7.96l-1.37-1.37c-.4-.4-.92-.59-1.43-.59-.52 0-1.04.2-1.43.59L10.3 9.45l-7.72 7.72c-.78.78-.78 2.05 0 2.83L4 21.41c.39.39.9.59 1.41.59.51 0 1.02-.2 1.41-.59l7.78-7.78 2.81-2.81c.8-.78.8-2.07 0-2.86zM5.41 20L4 18.59l7.72-7.72 1.47 1.35L5.41 20z\"/>\n",
              "  </svg>\n",
              "      </button>\n",
              "      \n",
              "  <style>\n",
              "    .colab-df-container {\n",
              "      display:flex;\n",
              "      flex-wrap:wrap;\n",
              "      gap: 12px;\n",
              "    }\n",
              "\n",
              "    .colab-df-convert {\n",
              "      background-color: #E8F0FE;\n",
              "      border: none;\n",
              "      border-radius: 50%;\n",
              "      cursor: pointer;\n",
              "      display: none;\n",
              "      fill: #1967D2;\n",
              "      height: 32px;\n",
              "      padding: 0 0 0 0;\n",
              "      width: 32px;\n",
              "    }\n",
              "\n",
              "    .colab-df-convert:hover {\n",
              "      background-color: #E2EBFA;\n",
              "      box-shadow: 0px 1px 2px rgba(60, 64, 67, 0.3), 0px 1px 3px 1px rgba(60, 64, 67, 0.15);\n",
              "      fill: #174EA6;\n",
              "    }\n",
              "\n",
              "    [theme=dark] .colab-df-convert {\n",
              "      background-color: #3B4455;\n",
              "      fill: #D2E3FC;\n",
              "    }\n",
              "\n",
              "    [theme=dark] .colab-df-convert:hover {\n",
              "      background-color: #434B5C;\n",
              "      box-shadow: 0px 1px 3px 1px rgba(0, 0, 0, 0.15);\n",
              "      filter: drop-shadow(0px 1px 2px rgba(0, 0, 0, 0.3));\n",
              "      fill: #FFFFFF;\n",
              "    }\n",
              "  </style>\n",
              "\n",
              "      <script>\n",
              "        const buttonEl =\n",
              "          document.querySelector('#df-9f78e92b-d57f-4485-bdba-09828f3bb1f1 button.colab-df-convert');\n",
              "        buttonEl.style.display =\n",
              "          google.colab.kernel.accessAllowed ? 'block' : 'none';\n",
              "\n",
              "        async function convertToInteractive(key) {\n",
              "          const element = document.querySelector('#df-9f78e92b-d57f-4485-bdba-09828f3bb1f1');\n",
              "          const dataTable =\n",
              "            await google.colab.kernel.invokeFunction('convertToInteractive',\n",
              "                                                     [key], {});\n",
              "          if (!dataTable) return;\n",
              "\n",
              "          const docLinkHtml = 'Like what you see? Visit the ' +\n",
              "            '<a target=\"_blank\" href=https://colab.research.google.com/notebooks/data_table.ipynb>data table notebook</a>'\n",
              "            + ' to learn more about interactive tables.';\n",
              "          element.innerHTML = '';\n",
              "          dataTable['output_type'] = 'display_data';\n",
              "          await google.colab.output.renderOutput(dataTable, element);\n",
              "          const docLink = document.createElement('div');\n",
              "          docLink.innerHTML = docLinkHtml;\n",
              "          element.appendChild(docLink);\n",
              "        }\n",
              "      </script>\n",
              "    </div>\n",
              "  </div>\n",
              "  "
            ]
          },
          "metadata": {},
          "execution_count": 780
        }
      ],
      "source": [
        "#Reading first 5 rows after dropping the first column\n",
        "data.head(5)"
      ]
    },
    {
      "cell_type": "code",
      "execution_count": null,
      "id": "db63bed1",
      "metadata": {
        "id": "db63bed1"
      },
      "outputs": [],
      "source": [
        "#Renaming Employment Type column to remove space and keep naming convention consistent\n",
        "data = data.rename(columns={\"Employment Type\":\"EmploymentType\"})"
      ]
    },
    {
      "cell_type": "code",
      "execution_count": null,
      "id": "cb509903",
      "metadata": {
        "colab": {
          "base_uri": "https://localhost:8080/",
          "height": 206
        },
        "id": "cb509903",
        "outputId": "98151ccb-6074-422e-91c8-7c170cb35859"
      },
      "outputs": [
        {
          "output_type": "execute_result",
          "data": {
            "text/plain": [
              "   Age                EmploymentType GraduateOrNot  AnnualIncome  \\\n",
              "0   31             Government Sector           Yes        400000   \n",
              "1   31  Private Sector/Self Employed           Yes       1250000   \n",
              "2   34  Private Sector/Self Employed           Yes        500000   \n",
              "3   28  Private Sector/Self Employed           Yes        700000   \n",
              "4   28  Private Sector/Self Employed           Yes        700000   \n",
              "\n",
              "   FamilyMembers  ChronicDiseases FrequentFlyer EverTravelledAbroad  \\\n",
              "0              6                1            No                  No   \n",
              "1              7                0            No                  No   \n",
              "2              4                1            No                  No   \n",
              "3              3                1            No                  No   \n",
              "4              8                1           Yes                  No   \n",
              "\n",
              "   TravelInsurance  \n",
              "0                0  \n",
              "1                0  \n",
              "2                1  \n",
              "3                0  \n",
              "4                0  "
            ],
            "text/html": [
              "\n",
              "  <div id=\"df-1914e02c-0592-443c-8192-322589082227\">\n",
              "    <div class=\"colab-df-container\">\n",
              "      <div>\n",
              "<style scoped>\n",
              "    .dataframe tbody tr th:only-of-type {\n",
              "        vertical-align: middle;\n",
              "    }\n",
              "\n",
              "    .dataframe tbody tr th {\n",
              "        vertical-align: top;\n",
              "    }\n",
              "\n",
              "    .dataframe thead th {\n",
              "        text-align: right;\n",
              "    }\n",
              "</style>\n",
              "<table border=\"1\" class=\"dataframe\">\n",
              "  <thead>\n",
              "    <tr style=\"text-align: right;\">\n",
              "      <th></th>\n",
              "      <th>Age</th>\n",
              "      <th>EmploymentType</th>\n",
              "      <th>GraduateOrNot</th>\n",
              "      <th>AnnualIncome</th>\n",
              "      <th>FamilyMembers</th>\n",
              "      <th>ChronicDiseases</th>\n",
              "      <th>FrequentFlyer</th>\n",
              "      <th>EverTravelledAbroad</th>\n",
              "      <th>TravelInsurance</th>\n",
              "    </tr>\n",
              "  </thead>\n",
              "  <tbody>\n",
              "    <tr>\n",
              "      <th>0</th>\n",
              "      <td>31</td>\n",
              "      <td>Government Sector</td>\n",
              "      <td>Yes</td>\n",
              "      <td>400000</td>\n",
              "      <td>6</td>\n",
              "      <td>1</td>\n",
              "      <td>No</td>\n",
              "      <td>No</td>\n",
              "      <td>0</td>\n",
              "    </tr>\n",
              "    <tr>\n",
              "      <th>1</th>\n",
              "      <td>31</td>\n",
              "      <td>Private Sector/Self Employed</td>\n",
              "      <td>Yes</td>\n",
              "      <td>1250000</td>\n",
              "      <td>7</td>\n",
              "      <td>0</td>\n",
              "      <td>No</td>\n",
              "      <td>No</td>\n",
              "      <td>0</td>\n",
              "    </tr>\n",
              "    <tr>\n",
              "      <th>2</th>\n",
              "      <td>34</td>\n",
              "      <td>Private Sector/Self Employed</td>\n",
              "      <td>Yes</td>\n",
              "      <td>500000</td>\n",
              "      <td>4</td>\n",
              "      <td>1</td>\n",
              "      <td>No</td>\n",
              "      <td>No</td>\n",
              "      <td>1</td>\n",
              "    </tr>\n",
              "    <tr>\n",
              "      <th>3</th>\n",
              "      <td>28</td>\n",
              "      <td>Private Sector/Self Employed</td>\n",
              "      <td>Yes</td>\n",
              "      <td>700000</td>\n",
              "      <td>3</td>\n",
              "      <td>1</td>\n",
              "      <td>No</td>\n",
              "      <td>No</td>\n",
              "      <td>0</td>\n",
              "    </tr>\n",
              "    <tr>\n",
              "      <th>4</th>\n",
              "      <td>28</td>\n",
              "      <td>Private Sector/Self Employed</td>\n",
              "      <td>Yes</td>\n",
              "      <td>700000</td>\n",
              "      <td>8</td>\n",
              "      <td>1</td>\n",
              "      <td>Yes</td>\n",
              "      <td>No</td>\n",
              "      <td>0</td>\n",
              "    </tr>\n",
              "  </tbody>\n",
              "</table>\n",
              "</div>\n",
              "      <button class=\"colab-df-convert\" onclick=\"convertToInteractive('df-1914e02c-0592-443c-8192-322589082227')\"\n",
              "              title=\"Convert this dataframe to an interactive table.\"\n",
              "              style=\"display:none;\">\n",
              "        \n",
              "  <svg xmlns=\"http://www.w3.org/2000/svg\" height=\"24px\"viewBox=\"0 0 24 24\"\n",
              "       width=\"24px\">\n",
              "    <path d=\"M0 0h24v24H0V0z\" fill=\"none\"/>\n",
              "    <path d=\"M18.56 5.44l.94 2.06.94-2.06 2.06-.94-2.06-.94-.94-2.06-.94 2.06-2.06.94zm-11 1L8.5 8.5l.94-2.06 2.06-.94-2.06-.94L8.5 2.5l-.94 2.06-2.06.94zm10 10l.94 2.06.94-2.06 2.06-.94-2.06-.94-.94-2.06-.94 2.06-2.06.94z\"/><path d=\"M17.41 7.96l-1.37-1.37c-.4-.4-.92-.59-1.43-.59-.52 0-1.04.2-1.43.59L10.3 9.45l-7.72 7.72c-.78.78-.78 2.05 0 2.83L4 21.41c.39.39.9.59 1.41.59.51 0 1.02-.2 1.41-.59l7.78-7.78 2.81-2.81c.8-.78.8-2.07 0-2.86zM5.41 20L4 18.59l7.72-7.72 1.47 1.35L5.41 20z\"/>\n",
              "  </svg>\n",
              "      </button>\n",
              "      \n",
              "  <style>\n",
              "    .colab-df-container {\n",
              "      display:flex;\n",
              "      flex-wrap:wrap;\n",
              "      gap: 12px;\n",
              "    }\n",
              "\n",
              "    .colab-df-convert {\n",
              "      background-color: #E8F0FE;\n",
              "      border: none;\n",
              "      border-radius: 50%;\n",
              "      cursor: pointer;\n",
              "      display: none;\n",
              "      fill: #1967D2;\n",
              "      height: 32px;\n",
              "      padding: 0 0 0 0;\n",
              "      width: 32px;\n",
              "    }\n",
              "\n",
              "    .colab-df-convert:hover {\n",
              "      background-color: #E2EBFA;\n",
              "      box-shadow: 0px 1px 2px rgba(60, 64, 67, 0.3), 0px 1px 3px 1px rgba(60, 64, 67, 0.15);\n",
              "      fill: #174EA6;\n",
              "    }\n",
              "\n",
              "    [theme=dark] .colab-df-convert {\n",
              "      background-color: #3B4455;\n",
              "      fill: #D2E3FC;\n",
              "    }\n",
              "\n",
              "    [theme=dark] .colab-df-convert:hover {\n",
              "      background-color: #434B5C;\n",
              "      box-shadow: 0px 1px 3px 1px rgba(0, 0, 0, 0.15);\n",
              "      filter: drop-shadow(0px 1px 2px rgba(0, 0, 0, 0.3));\n",
              "      fill: #FFFFFF;\n",
              "    }\n",
              "  </style>\n",
              "\n",
              "      <script>\n",
              "        const buttonEl =\n",
              "          document.querySelector('#df-1914e02c-0592-443c-8192-322589082227 button.colab-df-convert');\n",
              "        buttonEl.style.display =\n",
              "          google.colab.kernel.accessAllowed ? 'block' : 'none';\n",
              "\n",
              "        async function convertToInteractive(key) {\n",
              "          const element = document.querySelector('#df-1914e02c-0592-443c-8192-322589082227');\n",
              "          const dataTable =\n",
              "            await google.colab.kernel.invokeFunction('convertToInteractive',\n",
              "                                                     [key], {});\n",
              "          if (!dataTable) return;\n",
              "\n",
              "          const docLinkHtml = 'Like what you see? Visit the ' +\n",
              "            '<a target=\"_blank\" href=https://colab.research.google.com/notebooks/data_table.ipynb>data table notebook</a>'\n",
              "            + ' to learn more about interactive tables.';\n",
              "          element.innerHTML = '';\n",
              "          dataTable['output_type'] = 'display_data';\n",
              "          await google.colab.output.renderOutput(dataTable, element);\n",
              "          const docLink = document.createElement('div');\n",
              "          docLink.innerHTML = docLinkHtml;\n",
              "          element.appendChild(docLink);\n",
              "        }\n",
              "      </script>\n",
              "    </div>\n",
              "  </div>\n",
              "  "
            ]
          },
          "metadata": {},
          "execution_count": 782
        }
      ],
      "source": [
        "#Reading first 5 rows after renaming\n",
        "data.head(5)"
      ]
    },
    {
      "cell_type": "code",
      "execution_count": null,
      "id": "8ed058a5",
      "metadata": {
        "colab": {
          "base_uri": "https://localhost:8080/",
          "height": 373
        },
        "id": "8ed058a5",
        "outputId": "2dc26c96-6646-415b-9877-146771b86455"
      },
      "outputs": [
        {
          "output_type": "execute_result",
          "data": {
            "text/plain": [
              "Text(0, 0.5, 'Chronic Disease')"
            ]
          },
          "metadata": {},
          "execution_count": 783
        },
        {
          "output_type": "display_data",
          "data": {
            "text/plain": [
              "<Figure size 720x360 with 1 Axes>"
            ],
            "image/png": "[encoded data removed]"
          },
          "metadata": {
            "needs_background": "light"
          }
        }
      ],
      "source": [
        "#Checking if ChronicDiseases has 1 and 0 only(binary)\n",
        "data['ChronicDiseases'].value_counts()\n",
        "plt.figure(figsize=(10,5))\n",
        "plt.barh(['No','Yes'],data['ChronicDiseases'].value_counts(), color =\"#cc6600\")\n",
        "plt.title('Distribution for Chronic Diseases', size =14)\n",
        "plt.xlabel(\"Count\", size =14)\n",
        "plt.ylabel(\"Chronic Disease\", size =14)"
      ]
    },
    {
      "cell_type": "markdown",
      "id": "351d5d6b",
      "metadata": {
        "id": "351d5d6b"
      },
      "source": [
        "Observations:\n",
        "1. Chronic Diseases has only binary data so we are assuming that '1' means that the travellers has a chronic Disease and '0' means the traveller is free of any chronic disease."
      ]
    },
    {
      "cell_type": "code",
      "execution_count": null,
      "id": "ebc6145c",
      "metadata": {
        "id": "ebc6145c"
      },
      "outputs": [],
      "source": [
        "#function for coverting binary to yes/no\n",
        "\n",
        "def convert_binary_to_yesno(x):\n",
        "    if x == 1:\n",
        "        return \"Yes\"\n",
        "    else:\n",
        "        return \"No\""
      ]
    },
    {
      "cell_type": "code",
      "execution_count": null,
      "id": "a7114bee",
      "metadata": {
        "id": "a7114bee"
      },
      "outputs": [],
      "source": [
        "#function for coverting yes/no to binary\n",
        "\n",
        "def convert_yesno_to_binary(x):\n",
        "    if x == \"Yes\":\n",
        "        return 1\n",
        "    else:\n",
        "        return 0"
      ]
    },
    {
      "cell_type": "code",
      "execution_count": null,
      "id": "1283f047",
      "metadata": {
        "id": "1283f047"
      },
      "outputs": [],
      "source": [
        "#Converting ChronicDiseases to a Yes/No field for keeping it consistent with other Yes/No fields for our analysis  \n",
        "data['ChronicDiseases'] = data['ChronicDiseases'].apply(convert_binary_to_yesno)"
      ]
    },
    {
      "cell_type": "code",
      "execution_count": null,
      "id": "ae1e6241",
      "metadata": {
        "colab": {
          "base_uri": "https://localhost:8080/",
          "height": 206
        },
        "id": "ae1e6241",
        "outputId": "177c9a49-66e5-464b-ccc8-5d568c055249"
      },
      "outputs": [
        {
          "output_type": "execute_result",
          "data": {
            "text/plain": [
              "   Age                EmploymentType GraduateOrNot  AnnualIncome  \\\n",
              "0   31             Government Sector           Yes        400000   \n",
              "1   31  Private Sector/Self Employed           Yes       1250000   \n",
              "2   34  Private Sector/Self Employed           Yes        500000   \n",
              "3   28  Private Sector/Self Employed           Yes        700000   \n",
              "4   28  Private Sector/Self Employed           Yes        700000   \n",
              "\n",
              "   FamilyMembers ChronicDiseases FrequentFlyer EverTravelledAbroad  \\\n",
              "0              6             Yes            No                  No   \n",
              "1              7              No            No                  No   \n",
              "2              4             Yes            No                  No   \n",
              "3              3             Yes            No                  No   \n",
              "4              8             Yes           Yes                  No   \n",
              "\n",
              "   TravelInsurance  \n",
              "0                0  \n",
              "1                0  \n",
              "2                1  \n",
              "3                0  \n",
              "4                0  "
            ],
            "text/html": [
              "\n",
              "  <div id=\"df-13b0f8a3-a76d-4811-b16b-3a829b960d87\">\n",
              "    <div class=\"colab-df-container\">\n",
              "      <div>\n",
              "<style scoped>\n",
              "    .dataframe tbody tr th:only-of-type {\n",
              "        vertical-align: middle;\n",
              "    }\n",
              "\n",
              "    .dataframe tbody tr th {\n",
              "        vertical-align: top;\n",
              "    }\n",
              "\n",
              "    .dataframe thead th {\n",
              "        text-align: right;\n",
              "    }\n",
              "</style>\n",
              "<table border=\"1\" class=\"dataframe\">\n",
              "  <thead>\n",
              "    <tr style=\"text-align: right;\">\n",
              "      <th></th>\n",
              "      <th>Age</th>\n",
              "      <th>EmploymentType</th>\n",
              "      <th>GraduateOrNot</th>\n",
              "      <th>AnnualIncome</th>\n",
              "      <th>FamilyMembers</th>\n",
              "      <th>ChronicDiseases</th>\n",
              "      <th>FrequentFlyer</th>\n",
              "      <th>EverTravelledAbroad</th>\n",
              "      <th>TravelInsurance</th>\n",
              "    </tr>\n",
              "  </thead>\n",
              "  <tbody>\n",
              "    <tr>\n",
              "      <th>0</th>\n",
              "      <td>31</td>\n",
              "      <td>Government Sector</td>\n",
              "      <td>Yes</td>\n",
              "      <td>400000</td>\n",
              "      <td>6</td>\n",
              "      <td>Yes</td>\n",
              "      <td>No</td>\n",
              "      <td>No</td>\n",
              "      <td>0</td>\n",
              "    </tr>\n",
              "    <tr>\n",
              "      <th>1</th>\n",
              "      <td>31</td>\n",
              "      <td>Private Sector/Self Employed</td>\n",
              "      <td>Yes</td>\n",
              "      <td>1250000</td>\n",
              "      <td>7</td>\n",
              "      <td>No</td>\n",
              "      <td>No</td>\n",
              "      <td>No</td>\n",
              "      <td>0</td>\n",
              "    </tr>\n",
              "    <tr>\n",
              "      <th>2</th>\n",
              "      <td>34</td>\n",
              "      <td>Private Sector/Self Employed</td>\n",
              "      <td>Yes</td>\n",
              "      <td>500000</td>\n",
              "      <td>4</td>\n",
              "      <td>Yes</td>\n",
              "      <td>No</td>\n",
              "      <td>No</td>\n",
              "      <td>1</td>\n",
              "    </tr>\n",
              "    <tr>\n",
              "      <th>3</th>\n",
              "      <td>28</td>\n",
              "      <td>Private Sector/Self Employed</td>\n",
              "      <td>Yes</td>\n",
              "      <td>700000</td>\n",
              "      <td>3</td>\n",
              "      <td>Yes</td>\n",
              "      <td>No</td>\n",
              "      <td>No</td>\n",
              "      <td>0</td>\n",
              "    </tr>\n",
              "    <tr>\n",
              "      <th>4</th>\n",
              "      <td>28</td>\n",
              "      <td>Private Sector/Self Employed</td>\n",
              "      <td>Yes</td>\n",
              "      <td>700000</td>\n",
              "      <td>8</td>\n",
              "      <td>Yes</td>\n",
              "      <td>Yes</td>\n",
              "      <td>No</td>\n",
              "      <td>0</td>\n",
              "    </tr>\n",
              "  </tbody>\n",
              "</table>\n",
              "</div>\n",
              "      <button class=\"colab-df-convert\" onclick=\"convertToInteractive('df-13b0f8a3-a76d-4811-b16b-3a829b960d87')\"\n",
              "              title=\"Convert this dataframe to an interactive table.\"\n",
              "              style=\"display:none;\">\n",
              "        \n",
              "  <svg xmlns=\"http://www.w3.org/2000/svg\" height=\"24px\"viewBox=\"0 0 24 24\"\n",
              "       width=\"24px\">\n",
              "    <path d=\"M0 0h24v24H0V0z\" fill=\"none\"/>\n",
              "    <path d=\"M18.56 5.44l.94 2.06.94-2.06 2.06-.94-2.06-.94-.94-2.06-.94 2.06-2.06.94zm-11 1L8.5 8.5l.94-2.06 2.06-.94-2.06-.94L8.5 2.5l-.94 2.06-2.06.94zm10 10l.94 2.06.94-2.06 2.06-.94-2.06-.94-.94-2.06-.94 2.06-2.06.94z\"/><path d=\"M17.41 7.96l-1.37-1.37c-.4-.4-.92-.59-1.43-.59-.52 0-1.04.2-1.43.59L10.3 9.45l-7.72 7.72c-.78.78-.78 2.05 0 2.83L4 21.41c.39.39.9.59 1.41.59.51 0 1.02-.2 1.41-.59l7.78-7.78 2.81-2.81c.8-.78.8-2.07 0-2.86zM5.41 20L4 18.59l7.72-7.72 1.47 1.35L5.41 20z\"/>\n",
              "  </svg>\n",
              "      </button>\n",
              "      \n",
              "  <style>\n",
              "    .colab-df-container {\n",
              "      display:flex;\n",
              "      flex-wrap:wrap;\n",
              "      gap: 12px;\n",
              "    }\n",
              "\n",
              "    .colab-df-convert {\n",
              "      background-color: #E8F0FE;\n",
              "      border: none;\n",
              "      border-radius: 50%;\n",
              "      cursor: pointer;\n",
              "      display: none;\n",
              "      fill: #1967D2;\n",
              "      height: 32px;\n",
              "      padding: 0 0 0 0;\n",
              "      width: 32px;\n",
              "    }\n",
              "\n",
              "    .colab-df-convert:hover {\n",
              "      background-color: #E2EBFA;\n",
              "      box-shadow: 0px 1px 2px rgba(60, 64, 67, 0.3), 0px 1px 3px 1px rgba(60, 64, 67, 0.15);\n",
              "      fill: #174EA6;\n",
              "    }\n",
              "\n",
              "    [theme=dark] .colab-df-convert {\n",
              "      background-color: #3B4455;\n",
              "      fill: #D2E3FC;\n",
              "    }\n",
              "\n",
              "    [theme=dark] .colab-df-convert:hover {\n",
              "      background-color: #434B5C;\n",
              "      box-shadow: 0px 1px 3px 1px rgba(0, 0, 0, 0.15);\n",
              "      filter: drop-shadow(0px 1px 2px rgba(0, 0, 0, 0.3));\n",
              "      fill: #FFFFFF;\n",
              "    }\n",
              "  </style>\n",
              "\n",
              "      <script>\n",
              "        const buttonEl =\n",
              "          document.querySelector('#df-13b0f8a3-a76d-4811-b16b-3a829b960d87 button.colab-df-convert');\n",
              "        buttonEl.style.display =\n",
              "          google.colab.kernel.accessAllowed ? 'block' : 'none';\n",
              "\n",
              "        async function convertToInteractive(key) {\n",
              "          const element = document.querySelector('#df-13b0f8a3-a76d-4811-b16b-3a829b960d87');\n",
              "          const dataTable =\n",
              "            await google.colab.kernel.invokeFunction('convertToInteractive',\n",
              "                                                     [key], {});\n",
              "          if (!dataTable) return;\n",
              "\n",
              "          const docLinkHtml = 'Like what you see? Visit the ' +\n",
              "            '<a target=\"_blank\" href=https://colab.research.google.com/notebooks/data_table.ipynb>data table notebook</a>'\n",
              "            + ' to learn more about interactive tables.';\n",
              "          element.innerHTML = '';\n",
              "          dataTable['output_type'] = 'display_data';\n",
              "          await google.colab.output.renderOutput(dataTable, element);\n",
              "          const docLink = document.createElement('div');\n",
              "          docLink.innerHTML = docLinkHtml;\n",
              "          element.appendChild(docLink);\n",
              "        }\n",
              "      </script>\n",
              "    </div>\n",
              "  </div>\n",
              "  "
            ]
          },
          "metadata": {},
          "execution_count": 787
        }
      ],
      "source": [
        "#Reading first 5 rows after coversion\n",
        "data.head(5)"
      ]
    },
    {
      "cell_type": "code",
      "execution_count": null,
      "id": "1726ab4f",
      "metadata": {
        "id": "1726ab4f"
      },
      "outputs": [],
      "source": [
        "# Temporarily converting our dependent variable to a Yes/No field to get a clear categorical & numerical column list\n",
        "data['TravelInsurance'] = data['TravelInsurance'].apply(convert_binary_to_yesno)"
      ]
    },
    {
      "cell_type": "markdown",
      "id": "08faa575",
      "metadata": {
        "id": "08faa575"
      },
      "source": [
        "<h2><i> Q1. What are the data types of our dataset variables?</i></h2>"
      ]
    },
    {
      "cell_type": "code",
      "execution_count": null,
      "id": "c5602776",
      "metadata": {
        "id": "c5602776"
      },
      "outputs": [],
      "source": [
        "#Getting the list of categorical columns\n",
        "categorical_cols = data.select_dtypes(include=['object']).columns.tolist()"
      ]
    },
    {
      "cell_type": "code",
      "execution_count": null,
      "id": "962a2439",
      "metadata": {
        "id": "962a2439"
      },
      "outputs": [],
      "source": [
        "#Getting the list of numerical columns\n",
        "numerical_cols = data.select_dtypes(exclude=['object']).columns.tolist()"
      ]
    },
    {
      "cell_type": "code",
      "execution_count": null,
      "id": "13226abe",
      "metadata": {
        "colab": {
          "base_uri": "https://localhost:8080/"
        },
        "id": "13226abe",
        "outputId": "f4c73c2b-90be-4343-ef5d-9cc5f1d83f3b"
      },
      "outputs": [
        {
          "output_type": "stream",
          "name": "stdout",
          "text": [
            "--------------------------------------------------------\n",
            "                 Categorical Variables                  \n",
            "--------------------------------------------------------\n",
            "Total number of categorical variables in our dataset: 6\n",
            "1. EmploymentType\n",
            "2. GraduateOrNot\n",
            "3. ChronicDiseases\n",
            "4. FrequentFlyer\n",
            "5. EverTravelledAbroad\n",
            "6. TravelInsurance\n",
            "\n",
            "\n",
            "--------------------------------------------------------\n",
            "                 Numerical Variables                  \n",
            "--------------------------------------------------------\n",
            "Total number of num variables in our dataset: 3\n",
            "1. Age\n",
            "2. AnnualIncome\n",
            "3. FamilyMembers\n"
          ]
        }
      ],
      "source": [
        "#Printing the list of categorical and numerical columns\n",
        "print(\"--------------------------------------------------------\")\n",
        "print(\"                 Categorical Variables                  \")\n",
        "print(\"--------------------------------------------------------\")\n",
        "print(f'Total number of categorical variables in our dataset: {len(categorical_cols)}')\n",
        "for row,col in enumerate(categorical_cols):\n",
        "    print(f'{row+1}. {col}')\n",
        "print(\"\\n\")\n",
        "print(\"--------------------------------------------------------\")\n",
        "print(\"                 Numerical Variables                  \")\n",
        "print(\"--------------------------------------------------------\")\n",
        "print(f'Total number of num variables in our dataset: {len(numerical_cols)}')\n",
        "for row,col in enumerate(numerical_cols):\n",
        "    print(f'{row+1}. {col}')"
      ]
    },
    {
      "cell_type": "markdown",
      "id": "b1ec6ebd",
      "metadata": {
        "id": "b1ec6ebd"
      },
      "source": [
        "<h2><i>Q2. Are there missing values? Which independent variables have missing data? How much?</h2></i>"
      ]
    },
    {
      "cell_type": "code",
      "execution_count": null,
      "id": "35614ccc",
      "metadata": {
        "colab": {
          "base_uri": "https://localhost:8080/"
        },
        "id": "35614ccc",
        "outputId": "cff8665e-d021-4b40-af1d-ca61e77eb07d"
      },
      "outputs": [
        {
          "output_type": "execute_result",
          "data": {
            "text/plain": [
              "Age                    0\n",
              "EmploymentType         0\n",
              "GraduateOrNot          0\n",
              "AnnualIncome           0\n",
              "FamilyMembers          0\n",
              "ChronicDiseases        0\n",
              "FrequentFlyer          0\n",
              "EverTravelledAbroad    0\n",
              "TravelInsurance        0\n",
              "dtype: int64"
            ]
          },
          "metadata": {},
          "execution_count": 792
        }
      ],
      "source": [
        "#Checking missing values in our data\n",
        "data.isnull().sum()"
      ]
    },
    {
      "cell_type": "markdown",
      "id": "8c82041c",
      "metadata": {
        "id": "8c82041c"
      },
      "source": [
        "<u><b><i>Observations</i></b></u>\n",
        "* We have 0% missing values both in our independent variables as well as dependent variable"
      ]
    },
    {
      "cell_type": "code",
      "execution_count": null,
      "id": "047f75bf",
      "metadata": {
        "id": "047f75bf"
      },
      "outputs": [],
      "source": [
        "# Splitting our dataset into two dataframes - 1. Predictor Variables 2. Target Variable\n",
        "y = data['TravelInsurance']\n",
        "x = data.drop('TravelInsurance', axis = 1)\n",
        "data_total = data"
      ]
    },
    {
      "cell_type": "markdown",
      "id": "9427a508",
      "metadata": {
        "id": "9427a508"
      },
      "source": [
        "<h2><i>Q3. What are the likely distributions of the numeric variables?</h2></i>\n",
        "\n",
        "For our analysis we will be exploring categorical variables as well in this section"
      ]
    },
    {
      "cell_type": "markdown",
      "id": "78d5a83d",
      "metadata": {
        "id": "78d5a83d"
      },
      "source": [
        "#### 1. Age"
      ]
    },
    {
      "cell_type": "code",
      "execution_count": null,
      "id": "327ff1bc",
      "metadata": {
        "colab": {
          "base_uri": "https://localhost:8080/",
          "height": 556
        },
        "id": "327ff1bc",
        "outputId": "4d06faad-642d-4462-d34a-dd197ca09dfd"
      },
      "outputs": [
        {
          "output_type": "stream",
          "name": "stdout",
          "text": [
            "The mean of Age is  29.65\n",
            "The median of Age is  29.0\n",
            "The Mode of Age is  0    28\n",
            "dtype: int64\n"
          ]
        },
        {
          "output_type": "execute_result",
          "data": {
            "text/plain": [
              "Text(0.5, 1.0, 'Distribution curve for Age')"
            ]
          },
          "metadata": {},
          "execution_count": 794
        },
        {
          "output_type": "display_data",
          "data": {
            "text/plain": [
              "<Figure size 1080x504 with 1 Axes>"
            ],
            "image/png": "[encoded data removed]"
          },
          "metadata": {
            "needs_background": "light"
          }
        }
      ],
      "source": [
        "plt.figure(figsize=(15,7))\n",
        "sns.distplot(data['Age'], bins=10, color = \"green\")\n",
        "print(\"The mean of Age is \",round(data['Age'].mean(),2))\n",
        "print(\"The median of Age is \",data['Age'].median())\n",
        "print(\"The Mode of Age is \",data['Age'].mode())\n",
        "plt.xlabel(\"Age\", size=14)\n",
        "plt.ylabel(\"Density\", size=14)\n",
        "plt.title('Distribution curve for Age', size=20)"
      ]
    },
    {
      "cell_type": "markdown",
      "id": "2a0bbb29",
      "metadata": {
        "id": "2a0bbb29"
      },
      "source": [
        "Observations-\n",
        "1. The mean and median are almost similar\n",
        "2. The density of people with age 28 is the highest\n",
        "3. The age range lies between 25 - 35 years"
      ]
    },
    {
      "cell_type": "markdown",
      "id": "0f49c824",
      "metadata": {
        "id": "0f49c824"
      },
      "source": [
        "#### 2. Annual Income"
      ]
    },
    {
      "cell_type": "code",
      "execution_count": null,
      "id": "96f5147d",
      "metadata": {
        "colab": {
          "base_uri": "https://localhost:8080/",
          "height": 521
        },
        "id": "96f5147d",
        "outputId": "2867210d-5745-4144-b2d3-cb4179c10697"
      },
      "outputs": [
        {
          "output_type": "stream",
          "name": "stdout",
          "text": [
            "The mean income is  932762.96\n",
            "The median income is  900000.0\n"
          ]
        },
        {
          "output_type": "execute_result",
          "data": {
            "text/plain": [
              "Text(0.5, 1.0, 'Distribution curve for Annual Income')"
            ]
          },
          "metadata": {},
          "execution_count": 795
        },
        {
          "output_type": "display_data",
          "data": {
            "text/plain": [
              "<Figure size 1080x504 with 1 Axes>"
            ],
            "image/png": "[encoded data removed]"
          },
          "metadata": {
            "needs_background": "light"
          }
        }
      ],
      "source": [
        "plt.figure(figsize=(15,7))\n",
        "sns.distplot(data['AnnualIncome'], color = \"darkgreen\")\n",
        "print(\"The mean income is \",round(data['AnnualIncome'].mean(),2))\n",
        "print(\"The median income is \",data['AnnualIncome'].median())\n",
        "plt.title('Distribution curve for Annual Income')\n",
        "plt.xlabel(\"Annual Income(in Millions)\", size=14)\n",
        "plt.ylabel(\"Density\", size=14)\n",
        "plt.title('Distribution curve for Annual Income', size=20)"
      ]
    },
    {
      "cell_type": "markdown",
      "id": "ce8016ad",
      "metadata": {
        "id": "ce8016ad"
      },
      "source": [
        "Observations:\n",
        "1. As per the graph the income distribution follows modified normal distribution\n",
        "2. There is a significant drop in the number of people from an income greater than 1.6M to 1.8M\n",
        "3. Here also the mean and median are almost the same"
      ]
    },
    {
      "cell_type": "markdown",
      "id": "ce0e1313",
      "metadata": {
        "id": "ce0e1313"
      },
      "source": [
        "#### 3. Family Members"
      ]
    },
    {
      "cell_type": "code",
      "execution_count": null,
      "id": "60810efb",
      "metadata": {
        "colab": {
          "base_uri": "https://localhost:8080/",
          "height": 556
        },
        "id": "60810efb",
        "outputId": "ddb25dc6-16d8-481b-c162-585884741723"
      },
      "outputs": [
        {
          "output_type": "stream",
          "name": "stdout",
          "text": [
            "Average family members for a traveller is  4.75\n",
            "The median of family members is  5.0\n",
            "The mode of family members is  0    4\n",
            "dtype: int64\n"
          ]
        },
        {
          "output_type": "execute_result",
          "data": {
            "text/plain": [
              "Text(0.5, 1.0, 'Distribution curve for FamilyMembers')"
            ]
          },
          "metadata": {},
          "execution_count": 796
        },
        {
          "output_type": "display_data",
          "data": {
            "text/plain": [
              "<Figure size 1080x504 with 1 Axes>"
            ],
            "image/png": "[encoded data removed]"
          },
          "metadata": {
            "needs_background": "light"
          }
        }
      ],
      "source": [
        "plt.figure(figsize=(15,7))\n",
        "sns.distplot(data['FamilyMembers'], color = \"#00b3b3\")\n",
        "print(\"Average family members for a traveller is \",round(data['FamilyMembers'].mean(),2))\n",
        "print(\"The median of family members is \",data['FamilyMembers'].median())\n",
        "print(\"The mode of family members is \",data['FamilyMembers'].mode())\n",
        "plt.xlabel(\"FamilyMembers\", size=14)\n",
        "plt.ylabel(\"Density\", size=14)\n",
        "plt.title('Distribution curve for FamilyMembers', size=20)"
      ]
    },
    {
      "cell_type": "markdown",
      "id": "32770b64",
      "metadata": {
        "id": "32770b64"
      },
      "source": [
        "Observations:\n",
        "1. Average number of family members for the ones travelling is around 4\n",
        "2. We have atleast 2 family members for any traveller with maximum of 9 members for 10% of the travellers\n",
        "3. Travellers that have 8 or 9 family members are low in our dataset which might mean that travellers with big families don't travel that often"
      ]
    },
    {
      "cell_type": "markdown",
      "id": "5b2f7f12",
      "metadata": {
        "id": "5b2f7f12"
      },
      "source": [
        "#### 4. Employment Type"
      ]
    },
    {
      "cell_type": "code",
      "execution_count": null,
      "id": "38ffc0f8",
      "metadata": {
        "colab": {
          "base_uri": "https://localhost:8080/",
          "height": 373
        },
        "id": "38ffc0f8",
        "outputId": "296624a4-7df1-4907-e49c-edbff09c94b9"
      },
      "outputs": [
        {
          "output_type": "execute_result",
          "data": {
            "text/plain": [
              "Text(0.5, 0, 'No of Appearances')"
            ]
          },
          "metadata": {},
          "execution_count": 797
        },
        {
          "output_type": "display_data",
          "data": {
            "text/plain": [
              "<Figure size 720x360 with 1 Axes>"
            ],
            "image/png": "[encoded data removed]"
          },
          "metadata": {
            "needs_background": "light"
          }
        }
      ],
      "source": [
        "plt.figure(figsize=(10,5))\n",
        "plt.barh(['Private Sector/Self Employed','Government Sector'],data['EmploymentType'].value_counts(), color = \"#ffa64d\")\n",
        "plt.title('Distribution curve for type of employment', size=14)\n",
        "plt.ylabel(\"Type of Employment\", size=14)\n",
        "plt.xlabel(\"No of Appearances\", size=14)"
      ]
    },
    {
      "cell_type": "markdown",
      "id": "67a9ced3",
      "metadata": {
        "id": "67a9ced3"
      },
      "source": [
        "Insights from the distribution graph above:\n",
        "\n",
        "1. There are only two categories of employment type of travellers in our dataset - Private Sector and Government Sector \n",
        "2. No of private sector travellers are almost double of Government sector travellers"
      ]
    },
    {
      "cell_type": "markdown",
      "id": "87051a5f",
      "metadata": {
        "id": "87051a5f"
      },
      "source": [
        "#### 5. GraduateOrNot"
      ]
    },
    {
      "cell_type": "code",
      "execution_count": null,
      "id": "4aa24fa1",
      "metadata": {
        "colab": {
          "base_uri": "https://localhost:8080/",
          "height": 426
        },
        "id": "4aa24fa1",
        "outputId": "3bb107cc-12cc-41a8-b025-41c4d264f958"
      },
      "outputs": [
        {
          "output_type": "stream",
          "name": "stdout",
          "text": [
            "Yes    1692\n",
            "No      295\n",
            "Name: GraduateOrNot, dtype: int64\n",
            "14.846502264720684\n"
          ]
        },
        {
          "output_type": "display_data",
          "data": {
            "text/plain": [
              "<Figure size 720x360 with 1 Axes>"
            ],
            "image/png": "[encoded data removed]"
          },
          "metadata": {
            "needs_background": "light"
          }
        }
      ],
      "source": [
        "plt.figure(figsize=(10,5))\n",
        "plt.barh(['Yes','No'],data['GraduateOrNot'].value_counts(), color=\"#33cccc\")\n",
        "plt.title('Distribution of travellers holding a graduate degree vs not holding a degree', size=14)\n",
        "plt.ylabel(\"Graduate or Not\", size=14)\n",
        "plt.xlabel(\"No of Travellers\", size=14)\n",
        "print(data['GraduateOrNot'].value_counts())\n",
        "print(295/1987*100)"
      ]
    },
    {
      "cell_type": "markdown",
      "id": "a9d59e86",
      "metadata": {
        "id": "a9d59e86"
      },
      "source": [
        "Observations:\n",
        "1. ~85% of the travellers in our dataset hold a graduate degree"
      ]
    },
    {
      "cell_type": "markdown",
      "id": "0e7b1c58",
      "metadata": {
        "id": "0e7b1c58"
      },
      "source": [
        "#### 6. FrequentFlyers"
      ]
    },
    {
      "cell_type": "code",
      "execution_count": null,
      "id": "19f77f8a",
      "metadata": {
        "colab": {
          "base_uri": "https://localhost:8080/",
          "height": 409
        },
        "id": "19f77f8a",
        "outputId": "932702a3-a9e2-48de-b32e-904e8aac9dd9"
      },
      "outputs": [
        {
          "output_type": "execute_result",
          "data": {
            "text/plain": [
              "No     1570\n",
              "Yes     417\n",
              "Name: FrequentFlyer, dtype: int64"
            ]
          },
          "metadata": {},
          "execution_count": 799
        },
        {
          "output_type": "display_data",
          "data": {
            "text/plain": [
              "<Figure size 720x360 with 1 Axes>"
            ],
            "image/png": "[encoded data removed]"
          },
          "metadata": {
            "needs_background": "light"
          }
        }
      ],
      "source": [
        "plt.figure(figsize=(10,5))\n",
        "plt.barh(['No','Yes'],data['FrequentFlyer'].value_counts())\n",
        "plt.title('Distribution of frequent flyers', size=14)\n",
        "plt.ylabel(\"Frequent flyer or not\", size=14)\n",
        "plt.xlabel(\"No of counts\", size=14)\n",
        "data['FrequentFlyer'].value_counts()"
      ]
    },
    {
      "cell_type": "markdown",
      "id": "20c5af0f",
      "metadata": {
        "id": "20c5af0f"
      },
      "source": [
        "Observations:\n",
        "* More than 60% of the travellers do not travel than often so we will have to check if they would even consider opting for a travel insurance"
      ]
    },
    {
      "cell_type": "markdown",
      "id": "2e63968a",
      "metadata": {
        "id": "2e63968a"
      },
      "source": [
        "#### 7. ChronicDiseases"
      ]
    },
    {
      "cell_type": "code",
      "execution_count": null,
      "id": "6cd6b0f9",
      "metadata": {
        "colab": {
          "base_uri": "https://localhost:8080/",
          "height": 373
        },
        "id": "6cd6b0f9",
        "outputId": "757355f2-12b1-4988-8a15-a71b6ebb0d01"
      },
      "outputs": [
        {
          "output_type": "execute_result",
          "data": {
            "text/plain": [
              "Text(0, 0.5, 'Chronic Disease')"
            ]
          },
          "metadata": {},
          "execution_count": 800
        },
        {
          "output_type": "display_data",
          "data": {
            "text/plain": [
              "<Figure size 720x360 with 1 Axes>"
            ],
            "image/png": "[encoded data removed]"
          },
          "metadata": {
            "needs_background": "light"
          }
        }
      ],
      "source": [
        "plt.figure(figsize=(10,5))\n",
        "plt.barh(['No','Yes'],data['ChronicDiseases'].value_counts(), color =\"#cc6600\")\n",
        "plt.title('Distribution for Chronic Diseases', size =14)\n",
        "plt.xlabel(\"Count\", size =14)\n",
        "plt.ylabel(\"Chronic Disease\", size =14)"
      ]
    },
    {
      "cell_type": "markdown",
      "id": "c967ceac",
      "metadata": {
        "id": "c967ceac"
      },
      "source": [
        "Observations:\n",
        "* Majority of the travellers do not have any chronic disease"
      ]
    },
    {
      "cell_type": "markdown",
      "id": "ee347e12",
      "metadata": {
        "id": "ee347e12"
      },
      "source": [
        "#### 8. EverTravelledAbroad"
      ]
    },
    {
      "cell_type": "code",
      "execution_count": null,
      "id": "2986812e",
      "metadata": {
        "colab": {
          "base_uri": "https://localhost:8080/",
          "height": 409
        },
        "id": "2986812e",
        "outputId": "66833511-657f-4eee-ccfc-297dde134b1f"
      },
      "outputs": [
        {
          "output_type": "stream",
          "name": "stdout",
          "text": [
            "No     1607\n",
            "Yes     380\n",
            "Name: EverTravelledAbroad, dtype: int64\n"
          ]
        },
        {
          "output_type": "display_data",
          "data": {
            "text/plain": [
              "<Figure size 720x360 with 1 Axes>"
            ],
            "image/png": "[encoded data removed]"
          },
          "metadata": {
            "needs_background": "light"
          }
        }
      ],
      "source": [
        "plt.figure(figsize=(10,5))\n",
        "plt.barh(['No','Yes'],data['EverTravelledAbroad'].value_counts(), color =\"#660066\")\n",
        "plt.title('Distribution showing distribution of people who have travelled abroad or not', size =14)\n",
        "plt.xlabel(\"Travelled abroad or not\", size =14)\n",
        "plt.ylabel(\"No of counts\", size =14)\n",
        "print(data['EverTravelledAbroad'].value_counts())"
      ]
    },
    {
      "cell_type": "markdown",
      "id": "68036a8a",
      "metadata": {
        "id": "68036a8a"
      },
      "source": [
        "Observations:\n",
        "1. Only 20% of the travellers have a travel history travelling abroad\n",
        "***"
      ]
    },
    {
      "cell_type": "markdown",
      "id": "de504009",
      "metadata": {
        "id": "de504009"
      },
      "source": [
        "Before we move further, we need to do some data cleaning for our analysis and also for building the model.\n",
        "\n",
        "* We will covert 'Yes/No' to 1/0 - GraduateOrNot, FrequentFlyer, EverTravelledAbroad, ChronicDiseases,TravelInsurance\n",
        "\n",
        "* For employment type we will follow the rule: Governemnt Sector -> 1, Private Sector -> 0"
      ]
    },
    {
      "cell_type": "code",
      "execution_count": null,
      "id": "23f68ad3",
      "metadata": {
        "id": "23f68ad3"
      },
      "outputs": [],
      "source": [
        "# Coverting our independent categorical variables from Yes/No to Binary\n",
        "x['GraduateOrNot'] = x['GraduateOrNot'].apply(convert_yesno_to_binary)\n",
        "x['FrequentFlyer'] = x['FrequentFlyer'].apply(convert_yesno_to_binary)\n",
        "x['EverTravelledAbroad'] = x['EverTravelledAbroad'].apply(convert_yesno_to_binary)\n",
        "x['ChronicDiseases'] = x['ChronicDiseases'].apply(convert_yesno_to_binary)\n",
        "\n",
        "# Converting the target variable from Yes/No to Binary\n",
        "y = y.apply(convert_yesno_to_binary)"
      ]
    },
    {
      "cell_type": "code",
      "execution_count": null,
      "id": "cd002297",
      "metadata": {
        "id": "cd002297"
      },
      "outputs": [],
      "source": [
        "#function for converting Employement type to binary\n",
        "\n",
        "def convert_employmenttype_to_binary(employmenttype):\n",
        "    if employmenttype == \"Government Sector\":\n",
        "        return 1\n",
        "    else:\n",
        "        return 0"
      ]
    },
    {
      "cell_type": "code",
      "execution_count": null,
      "id": "fe226c9f",
      "metadata": {
        "id": "fe226c9f"
      },
      "outputs": [],
      "source": [
        "# Converting EmployementType to Binary\n",
        "x['EmploymentType'] = x['EmploymentType'].apply(convert_employmenttype_to_binary)"
      ]
    },
    {
      "cell_type": "code",
      "execution_count": null,
      "id": "efbfff3e",
      "metadata": {
        "scrolled": false,
        "colab": {
          "base_uri": "https://localhost:8080/",
          "height": 206
        },
        "id": "efbfff3e",
        "outputId": "07733814-ce72-4413-c82c-96e04778e70e"
      },
      "outputs": [
        {
          "output_type": "execute_result",
          "data": {
            "text/plain": [
              "   Age  EmploymentType  GraduateOrNot  AnnualIncome  FamilyMembers  \\\n",
              "0   31               1              1        400000              6   \n",
              "1   31               0              1       1250000              7   \n",
              "2   34               0              1        500000              4   \n",
              "3   28               0              1        700000              3   \n",
              "4   28               0              1        700000              8   \n",
              "\n",
              "   ChronicDiseases  FrequentFlyer  EverTravelledAbroad  \n",
              "0                1              0                    0  \n",
              "1                0              0                    0  \n",
              "2                1              0                    0  \n",
              "3                1              0                    0  \n",
              "4                1              1                    0  "
            ],
            "text/html": [
              "\n",
              "  <div id=\"df-f6acd154-5e5d-4fdf-a98e-b61aeaca804e\">\n",
              "    <div class=\"colab-df-container\">\n",
              "      <div>\n",
              "<style scoped>\n",
              "    .dataframe tbody tr th:only-of-type {\n",
              "        vertical-align: middle;\n",
              "    }\n",
              "\n",
              "    .dataframe tbody tr th {\n",
              "        vertical-align: top;\n",
              "    }\n",
              "\n",
              "    .dataframe thead th {\n",
              "        text-align: right;\n",
              "    }\n",
              "</style>\n",
              "<table border=\"1\" class=\"dataframe\">\n",
              "  <thead>\n",
              "    <tr style=\"text-align: right;\">\n",
              "      <th></th>\n",
              "      <th>Age</th>\n",
              "      <th>EmploymentType</th>\n",
              "      <th>GraduateOrNot</th>\n",
              "      <th>AnnualIncome</th>\n",
              "      <th>FamilyMembers</th>\n",
              "      <th>ChronicDiseases</th>\n",
              "      <th>FrequentFlyer</th>\n",
              "      <th>EverTravelledAbroad</th>\n",
              "    </tr>\n",
              "  </thead>\n",
              "  <tbody>\n",
              "    <tr>\n",
              "      <th>0</th>\n",
              "      <td>31</td>\n",
              "      <td>1</td>\n",
              "      <td>1</td>\n",
              "      <td>400000</td>\n",
              "      <td>6</td>\n",
              "      <td>1</td>\n",
              "      <td>0</td>\n",
              "      <td>0</td>\n",
              "    </tr>\n",
              "    <tr>\n",
              "      <th>1</th>\n",
              "      <td>31</td>\n",
              "      <td>0</td>\n",
              "      <td>1</td>\n",
              "      <td>1250000</td>\n",
              "      <td>7</td>\n",
              "      <td>0</td>\n",
              "      <td>0</td>\n",
              "      <td>0</td>\n",
              "    </tr>\n",
              "    <tr>\n",
              "      <th>2</th>\n",
              "      <td>34</td>\n",
              "      <td>0</td>\n",
              "      <td>1</td>\n",
              "      <td>500000</td>\n",
              "      <td>4</td>\n",
              "      <td>1</td>\n",
              "      <td>0</td>\n",
              "      <td>0</td>\n",
              "    </tr>\n",
              "    <tr>\n",
              "      <th>3</th>\n",
              "      <td>28</td>\n",
              "      <td>0</td>\n",
              "      <td>1</td>\n",
              "      <td>700000</td>\n",
              "      <td>3</td>\n",
              "      <td>1</td>\n",
              "      <td>0</td>\n",
              "      <td>0</td>\n",
              "    </tr>\n",
              "    <tr>\n",
              "      <th>4</th>\n",
              "      <td>28</td>\n",
              "      <td>0</td>\n",
              "      <td>1</td>\n",
              "      <td>700000</td>\n",
              "      <td>8</td>\n",
              "      <td>1</td>\n",
              "      <td>1</td>\n",
              "      <td>0</td>\n",
              "    </tr>\n",
              "  </tbody>\n",
              "</table>\n",
              "</div>\n",
              "      <button class=\"colab-df-convert\" onclick=\"convertToInteractive('df-f6acd154-5e5d-4fdf-a98e-b61aeaca804e')\"\n",
              "              title=\"Convert this dataframe to an interactive table.\"\n",
              "              style=\"display:none;\">\n",
              "        \n",
              "  <svg xmlns=\"http://www.w3.org/2000/svg\" height=\"24px\"viewBox=\"0 0 24 24\"\n",
              "       width=\"24px\">\n",
              "    <path d=\"M0 0h24v24H0V0z\" fill=\"none\"/>\n",
              "    <path d=\"M18.56 5.44l.94 2.06.94-2.06 2.06-.94-2.06-.94-.94-2.06-.94 2.06-2.06.94zm-11 1L8.5 8.5l.94-2.06 2.06-.94-2.06-.94L8.5 2.5l-.94 2.06-2.06.94zm10 10l.94 2.06.94-2.06 2.06-.94-2.06-.94-.94-2.06-.94 2.06-2.06.94z\"/><path d=\"M17.41 7.96l-1.37-1.37c-.4-.4-.92-.59-1.43-.59-.52 0-1.04.2-1.43.59L10.3 9.45l-7.72 7.72c-.78.78-.78 2.05 0 2.83L4 21.41c.39.39.9.59 1.41.59.51 0 1.02-.2 1.41-.59l7.78-7.78 2.81-2.81c.8-.78.8-2.07 0-2.86zM5.41 20L4 18.59l7.72-7.72 1.47 1.35L5.41 20z\"/>\n",
              "  </svg>\n",
              "      </button>\n",
              "      \n",
              "  <style>\n",
              "    .colab-df-container {\n",
              "      display:flex;\n",
              "      flex-wrap:wrap;\n",
              "      gap: 12px;\n",
              "    }\n",
              "\n",
              "    .colab-df-convert {\n",
              "      background-color: #E8F0FE;\n",
              "      border: none;\n",
              "      border-radius: 50%;\n",
              "      cursor: pointer;\n",
              "      display: none;\n",
              "      fill: #1967D2;\n",
              "      height: 32px;\n",
              "      padding: 0 0 0 0;\n",
              "      width: 32px;\n",
              "    }\n",
              "\n",
              "    .colab-df-convert:hover {\n",
              "      background-color: #E2EBFA;\n",
              "      box-shadow: 0px 1px 2px rgba(60, 64, 67, 0.3), 0px 1px 3px 1px rgba(60, 64, 67, 0.15);\n",
              "      fill: #174EA6;\n",
              "    }\n",
              "\n",
              "    [theme=dark] .colab-df-convert {\n",
              "      background-color: #3B4455;\n",
              "      fill: #D2E3FC;\n",
              "    }\n",
              "\n",
              "    [theme=dark] .colab-df-convert:hover {\n",
              "      background-color: #434B5C;\n",
              "      box-shadow: 0px 1px 3px 1px rgba(0, 0, 0, 0.15);\n",
              "      filter: drop-shadow(0px 1px 2px rgba(0, 0, 0, 0.3));\n",
              "      fill: #FFFFFF;\n",
              "    }\n",
              "  </style>\n",
              "\n",
              "      <script>\n",
              "        const buttonEl =\n",
              "          document.querySelector('#df-f6acd154-5e5d-4fdf-a98e-b61aeaca804e button.colab-df-convert');\n",
              "        buttonEl.style.display =\n",
              "          google.colab.kernel.accessAllowed ? 'block' : 'none';\n",
              "\n",
              "        async function convertToInteractive(key) {\n",
              "          const element = document.querySelector('#df-f6acd154-5e5d-4fdf-a98e-b61aeaca804e');\n",
              "          const dataTable =\n",
              "            await google.colab.kernel.invokeFunction('convertToInteractive',\n",
              "                                                     [key], {});\n",
              "          if (!dataTable) return;\n",
              "\n",
              "          const docLinkHtml = 'Like what you see? Visit the ' +\n",
              "            '<a target=\"_blank\" href=https://colab.research.google.com/notebooks/data_table.ipynb>data table notebook</a>'\n",
              "            + ' to learn more about interactive tables.';\n",
              "          element.innerHTML = '';\n",
              "          dataTable['output_type'] = 'display_data';\n",
              "          await google.colab.output.renderOutput(dataTable, element);\n",
              "          const docLink = document.createElement('div');\n",
              "          docLink.innerHTML = docLinkHtml;\n",
              "          element.appendChild(docLink);\n",
              "        }\n",
              "      </script>\n",
              "    </div>\n",
              "  </div>\n",
              "  "
            ]
          },
          "metadata": {},
          "execution_count": 805
        }
      ],
      "source": [
        "# Reading our independent variables dataframe after data preparation\n",
        "x.head()"
      ]
    },
    {
      "cell_type": "markdown",
      "id": "c24830f5",
      "metadata": {
        "id": "c24830f5"
      },
      "source": [
        "<h2><i>Q4. Do the range of the predictor variables make sense? Q5. Remove outliers and keep outliers?</i></h2>"
      ]
    },
    {
      "cell_type": "code",
      "execution_count": null,
      "id": "c72287f5",
      "metadata": {
        "colab": {
          "base_uri": "https://localhost:8080/",
          "height": 457
        },
        "id": "c72287f5",
        "outputId": "2d0ba6f3-5485-49a8-9b24-a42eb37376c2"
      },
      "outputs": [
        {
          "output_type": "execute_result",
          "data": {
            "text/plain": [
              "<matplotlib.axes._subplots.AxesSubplot at 0x7f1fea1f4950>"
            ]
          },
          "metadata": {},
          "execution_count": 806
        },
        {
          "output_type": "display_data",
          "data": {
            "text/plain": [
              "<Figure size 1440x504 with 1 Axes>"
            ],
            "image/png": "[encoded data removed]"
          },
          "metadata": {
            "needs_background": "light"
          }
        }
      ],
      "source": [
        "#Checking the range of the predictor variables\n",
        "plt.figure(figsize=(20,7))\n",
        "sns.boxplot(data=x, palette=\"Set3\")"
      ]
    },
    {
      "cell_type": "markdown",
      "id": "c1dca2b2",
      "metadata": {
        "id": "c1dca2b2"
      },
      "source": [
        "<b>Observations:</b>\n",
        "* The range of AnnualIncome is way too high as compared to other predictor variables. Therefore, we are not able to visualize the ranges for other predictor variables.\n",
        "\n",
        "<b>So what should be do next to visualize ranges of other predictor variables?</b>\n",
        "* We will plot the charts separately to get the ranges of each one of them"
      ]
    },
    {
      "cell_type": "code",
      "execution_count": null,
      "id": "c26876f7",
      "metadata": {
        "colab": {
          "base_uri": "https://localhost:8080/",
          "height": 621
        },
        "id": "c26876f7",
        "outputId": "ed89f170-984f-4aee-f428-1b20123e2e30"
      },
      "outputs": [
        {
          "output_type": "display_data",
          "data": {
            "text/plain": [
              "<Figure size 1440x720 with 8 Axes>"
            ],
            "image/png": "[encoded data removed]"
          },
          "metadata": {
            "needs_background": "light"
          }
        }
      ],
      "source": [
        "#Checking the Ranges of the predictor variables individually\n",
        "cols = list(x.columns)\n",
        "f, axs = plt.subplots(2,4,figsize=(20,10))\n",
        "for i in range(len(cols)):\n",
        "  plt.subplot(2,4,i+1)\n",
        "  plt.title('Box plot of '+ cols[i])\n",
        "  sns.boxplot(x[cols[i]], palette = 'Set3')\n",
        "plt.show()"
      ]
    },
    {
      "cell_type": "markdown",
      "id": "d331fb24",
      "metadata": {
        "id": "d331fb24"
      },
      "source": [
        "Observations:\n",
        "* Majority of the travellers have an age greater than the median age of ~29 years\n",
        "* No of family above and below the median is almost same\n",
        "* The income group appears to be normally distributed as the 25-50 percentile and 50-75% have almost similar area\n",
        "* Number of travellers without a Graduate degree is low\n",
        "* Number of travellers who are frequent flyers or have travelled abroad is also low\n",
        "* <b><i>There are no outliers in our dataset.</i></b> For GraduateOrNot, FrequentFlyer and EvertravelledAbroad charts, one category like Yes is more than 50% then the other but they can't be considered as outliers"
      ]
    },
    {
      "cell_type": "markdown",
      "id": "da11a35c",
      "metadata": {
        "id": "da11a35c"
      },
      "source": [
        "##### Normalizing the dataset\n",
        "* We need to scale our numerical columns. Although we can use any scaling technique, we will be using normalization as we want to have values in the range of [0,1] and also to detect outliers as normalization is highly affected my outliers\n"
      ]
    },
    {
      "cell_type": "code",
      "execution_count": null,
      "id": "5df29657",
      "metadata": {
        "id": "5df29657"
      },
      "outputs": [],
      "source": [
        "# list of numerical columns which require normalization\n",
        "num_cols=['AnnualIncome','Age', 'FamilyMembers']\n",
        "\n",
        "# Importing required library from sklearn for normalization\n",
        "from sklearn import preprocessing\n",
        "feature_to_scale = num_cols\n",
        "\n",
        "# Preparing for normalizing\n",
        "min_max_scaler = preprocessing.MinMaxScaler()\n",
        "\n",
        "# Transform the data to fit minmax processor\n",
        "x[feature_to_scale] = min_max_scaler.fit_transform(x[feature_to_scale])"
      ]
    },
    {
      "cell_type": "code",
      "execution_count": null,
      "id": "659eb766",
      "metadata": {
        "colab": {
          "base_uri": "https://localhost:8080/",
          "height": 300
        },
        "id": "659eb766",
        "outputId": "386bb0f2-5fc4-4525-c008-8f50fc0089ad"
      },
      "outputs": [
        {
          "output_type": "execute_result",
          "data": {
            "text/plain": [
              "               Age  EmploymentType  GraduateOrNot  AnnualIncome  \\\n",
              "count  1987.000000     1987.000000    1987.000000   1987.000000   \n",
              "mean      0.465023        0.286865       0.851535      0.421842   \n",
              "std       0.291331        0.452412       0.355650      0.251237   \n",
              "min       0.000000        0.000000       0.000000      0.000000   \n",
              "25%       0.300000        0.000000       1.000000      0.200000   \n",
              "50%       0.400000        0.000000       1.000000      0.400000   \n",
              "75%       0.700000        1.000000       1.000000      0.633333   \n",
              "max       1.000000        1.000000       1.000000      1.000000   \n",
              "\n",
              "       FamilyMembers  ChronicDiseases  FrequentFlyer  EverTravelledAbroad  \n",
              "count    1987.000000      1987.000000    1987.000000          1987.000000  \n",
              "mean        0.393271         0.277806       0.209864             0.191243  \n",
              "std         0.229950         0.448030       0.407314             0.393379  \n",
              "min         0.000000         0.000000       0.000000             0.000000  \n",
              "25%         0.285714         0.000000       0.000000             0.000000  \n",
              "50%         0.428571         0.000000       0.000000             0.000000  \n",
              "75%         0.571429         1.000000       0.000000             0.000000  \n",
              "max         1.000000         1.000000       1.000000             1.000000  "
            ],
            "text/html": [
              "\n",
              "  <div id=\"df-b4eebc2f-42a3-4068-acc8-a42509cc9432\">\n",
              "    <div class=\"colab-df-container\">\n",
              "      <div>\n",
              "<style scoped>\n",
              "    .dataframe tbody tr th:only-of-type {\n",
              "        vertical-align: middle;\n",
              "    }\n",
              "\n",
              "    .dataframe tbody tr th {\n",
              "        vertical-align: top;\n",
              "    }\n",
              "\n",
              "    .dataframe thead th {\n",
              "        text-align: right;\n",
              "    }\n",
              "</style>\n",
              "<table border=\"1\" class=\"dataframe\">\n",
              "  <thead>\n",
              "    <tr style=\"text-align: right;\">\n",
              "      <th></th>\n",
              "      <th>Age</th>\n",
              "      <th>EmploymentType</th>\n",
              "      <th>GraduateOrNot</th>\n",
              "      <th>AnnualIncome</th>\n",
              "      <th>FamilyMembers</th>\n",
              "      <th>ChronicDiseases</th>\n",
              "      <th>FrequentFlyer</th>\n",
              "      <th>EverTravelledAbroad</th>\n",
              "    </tr>\n",
              "  </thead>\n",
              "  <tbody>\n",
              "    <tr>\n",
              "      <th>count</th>\n",
              "      <td>1987.000000</td>\n",
              "      <td>1987.000000</td>\n",
              "      <td>1987.000000</td>\n",
              "      <td>1987.000000</td>\n",
              "      <td>1987.000000</td>\n",
              "      <td>1987.000000</td>\n",
              "      <td>1987.000000</td>\n",
              "      <td>1987.000000</td>\n",
              "    </tr>\n",
              "    <tr>\n",
              "      <th>mean</th>\n",
              "      <td>0.465023</td>\n",
              "      <td>0.286865</td>\n",
              "      <td>0.851535</td>\n",
              "      <td>0.421842</td>\n",
              "      <td>0.393271</td>\n",
              "      <td>0.277806</td>\n",
              "      <td>0.209864</td>\n",
              "      <td>0.191243</td>\n",
              "    </tr>\n",
              "    <tr>\n",
              "      <th>std</th>\n",
              "      <td>0.291331</td>\n",
              "      <td>0.452412</td>\n",
              "      <td>0.355650</td>\n",
              "      <td>0.251237</td>\n",
              "      <td>0.229950</td>\n",
              "      <td>0.448030</td>\n",
              "      <td>0.407314</td>\n",
              "      <td>0.393379</td>\n",
              "    </tr>\n",
              "    <tr>\n",
              "      <th>min</th>\n",
              "      <td>0.000000</td>\n",
              "      <td>0.000000</td>\n",
              "      <td>0.000000</td>\n",
              "      <td>0.000000</td>\n",
              "      <td>0.000000</td>\n",
              "      <td>0.000000</td>\n",
              "      <td>0.000000</td>\n",
              "      <td>0.000000</td>\n",
              "    </tr>\n",
              "    <tr>\n",
              "      <th>25%</th>\n",
              "      <td>0.300000</td>\n",
              "      <td>0.000000</td>\n",
              "      <td>1.000000</td>\n",
              "      <td>0.200000</td>\n",
              "      <td>0.285714</td>\n",
              "      <td>0.000000</td>\n",
              "      <td>0.000000</td>\n",
              "      <td>0.000000</td>\n",
              "    </tr>\n",
              "    <tr>\n",
              "      <th>50%</th>\n",
              "      <td>0.400000</td>\n",
              "      <td>0.000000</td>\n",
              "      <td>1.000000</td>\n",
              "      <td>0.400000</td>\n",
              "      <td>0.428571</td>\n",
              "      <td>0.000000</td>\n",
              "      <td>0.000000</td>\n",
              "      <td>0.000000</td>\n",
              "    </tr>\n",
              "    <tr>\n",
              "      <th>75%</th>\n",
              "      <td>0.700000</td>\n",
              "      <td>1.000000</td>\n",
              "      <td>1.000000</td>\n",
              "      <td>0.633333</td>\n",
              "      <td>0.571429</td>\n",
              "      <td>1.000000</td>\n",
              "      <td>0.000000</td>\n",
              "      <td>0.000000</td>\n",
              "    </tr>\n",
              "    <tr>\n",
              "      <th>max</th>\n",
              "      <td>1.000000</td>\n",
              "      <td>1.000000</td>\n",
              "      <td>1.000000</td>\n",
              "      <td>1.000000</td>\n",
              "      <td>1.000000</td>\n",
              "      <td>1.000000</td>\n",
              "      <td>1.000000</td>\n",
              "      <td>1.000000</td>\n",
              "    </tr>\n",
              "  </tbody>\n",
              "</table>\n",
              "</div>\n",
              "      <button class=\"colab-df-convert\" onclick=\"convertToInteractive('df-b4eebc2f-42a3-4068-acc8-a42509cc9432')\"\n",
              "              title=\"Convert this dataframe to an interactive table.\"\n",
              "              style=\"display:none;\">\n",
              "        \n",
              "  <svg xmlns=\"http://www.w3.org/2000/svg\" height=\"24px\"viewBox=\"0 0 24 24\"\n",
              "       width=\"24px\">\n",
              "    <path d=\"M0 0h24v24H0V0z\" fill=\"none\"/>\n",
              "    <path d=\"M18.56 5.44l.94 2.06.94-2.06 2.06-.94-2.06-.94-.94-2.06-.94 2.06-2.06.94zm-11 1L8.5 8.5l.94-2.06 2.06-.94-2.06-.94L8.5 2.5l-.94 2.06-2.06.94zm10 10l.94 2.06.94-2.06 2.06-.94-2.06-.94-.94-2.06-.94 2.06-2.06.94z\"/><path d=\"M17.41 7.96l-1.37-1.37c-.4-.4-.92-.59-1.43-.59-.52 0-1.04.2-1.43.59L10.3 9.45l-7.72 7.72c-.78.78-.78 2.05 0 2.83L4 21.41c.39.39.9.59 1.41.59.51 0 1.02-.2 1.41-.59l7.78-7.78 2.81-2.81c.8-.78.8-2.07 0-2.86zM5.41 20L4 18.59l7.72-7.72 1.47 1.35L5.41 20z\"/>\n",
              "  </svg>\n",
              "      </button>\n",
              "      \n",
              "  <style>\n",
              "    .colab-df-container {\n",
              "      display:flex;\n",
              "      flex-wrap:wrap;\n",
              "      gap: 12px;\n",
              "    }\n",
              "\n",
              "    .colab-df-convert {\n",
              "      background-color: #E8F0FE;\n",
              "      border: none;\n",
              "      border-radius: 50%;\n",
              "      cursor: pointer;\n",
              "      display: none;\n",
              "      fill: #1967D2;\n",
              "      height: 32px;\n",
              "      padding: 0 0 0 0;\n",
              "      width: 32px;\n",
              "    }\n",
              "\n",
              "    .colab-df-convert:hover {\n",
              "      background-color: #E2EBFA;\n",
              "      box-shadow: 0px 1px 2px rgba(60, 64, 67, 0.3), 0px 1px 3px 1px rgba(60, 64, 67, 0.15);\n",
              "      fill: #174EA6;\n",
              "    }\n",
              "\n",
              "    [theme=dark] .colab-df-convert {\n",
              "      background-color: #3B4455;\n",
              "      fill: #D2E3FC;\n",
              "    }\n",
              "\n",
              "    [theme=dark] .colab-df-convert:hover {\n",
              "      background-color: #434B5C;\n",
              "      box-shadow: 0px 1px 3px 1px rgba(0, 0, 0, 0.15);\n",
              "      filter: drop-shadow(0px 1px 2px rgba(0, 0, 0, 0.3));\n",
              "      fill: #FFFFFF;\n",
              "    }\n",
              "  </style>\n",
              "\n",
              "      <script>\n",
              "        const buttonEl =\n",
              "          document.querySelector('#df-b4eebc2f-42a3-4068-acc8-a42509cc9432 button.colab-df-convert');\n",
              "        buttonEl.style.display =\n",
              "          google.colab.kernel.accessAllowed ? 'block' : 'none';\n",
              "\n",
              "        async function convertToInteractive(key) {\n",
              "          const element = document.querySelector('#df-b4eebc2f-42a3-4068-acc8-a42509cc9432');\n",
              "          const dataTable =\n",
              "            await google.colab.kernel.invokeFunction('convertToInteractive',\n",
              "                                                     [key], {});\n",
              "          if (!dataTable) return;\n",
              "\n",
              "          const docLinkHtml = 'Like what you see? Visit the ' +\n",
              "            '<a target=\"_blank\" href=https://colab.research.google.com/notebooks/data_table.ipynb>data table notebook</a>'\n",
              "            + ' to learn more about interactive tables.';\n",
              "          element.innerHTML = '';\n",
              "          dataTable['output_type'] = 'display_data';\n",
              "          await google.colab.output.renderOutput(dataTable, element);\n",
              "          const docLink = document.createElement('div');\n",
              "          docLink.innerHTML = docLinkHtml;\n",
              "          element.appendChild(docLink);\n",
              "        }\n",
              "      </script>\n",
              "    </div>\n",
              "  </div>\n",
              "  "
            ]
          },
          "metadata": {},
          "execution_count": 809
        }
      ],
      "source": [
        "# Checking our predictor variables after normalization\n",
        "x.describe()"
      ]
    },
    {
      "cell_type": "markdown",
      "id": "b1402149",
      "metadata": {
        "id": "b1402149"
      },
      "source": [
        "Observations:\n",
        "* We can see that the numerical variables - age, annual income and family members are now in the range of 0 to 1"
      ]
    },
    {
      "cell_type": "code",
      "source": [
        "#Checking the Ranges of the predictor variables together after normalization of numerical variables\n",
        "plt.figure(figsize=(20,7))\n",
        "sns.boxplot(data=x, palette=\"Set3\")\n",
        "plt.title(\"Box plot of predictor variables of the dataset\", size=14)"
      ],
      "metadata": {
        "colab": {
          "base_uri": "https://localhost:8080/",
          "height": 463
        },
        "id": "aoE56VU1cjNT",
        "outputId": "ccadbe7d-67b3-437e-f277-9fa4b76e6e69"
      },
      "id": "aoE56VU1cjNT",
      "execution_count": null,
      "outputs": [
        {
          "output_type": "execute_result",
          "data": {
            "text/plain": [
              "Text(0.5, 1.0, 'Box plot of predictor variables of the dataset')"
            ]
          },
          "metadata": {},
          "execution_count": 810
        },
        {
          "output_type": "display_data",
          "data": {
            "text/plain": [
              "<Figure size 1440x504 with 1 Axes>"
            ],
            "image/png": "[encoded data removed]"
          },
          "metadata": {
            "needs_background": "light"
          }
        }
      ]
    },
    {
      "cell_type": "markdown",
      "id": "f7214860",
      "metadata": {
        "id": "f7214860"
      },
      "source": [
        "<h2><i>Q6. Are the predictor variables independent of all other predictor variables?</i></h2>"
      ]
    },
    {
      "cell_type": "code",
      "execution_count": null,
      "id": "3d016cd3",
      "metadata": {
        "colab": {
          "base_uri": "https://localhost:8080/",
          "height": 300
        },
        "id": "3d016cd3",
        "outputId": "fb64e758-1eb9-43c4-fb21-03a8bad7466e"
      },
      "outputs": [
        {
          "output_type": "execute_result",
          "data": {
            "text/plain": [
              "                          Age  EmploymentType  GraduateOrNot  AnnualIncome  \\\n",
              "Age                  1.000000        0.115134       0.027125     -0.020101   \n",
              "EmploymentType       0.115134        1.000000       0.127133     -0.349157   \n",
              "GraduateOrNot        0.027125        0.127133       1.000000      0.108066   \n",
              "AnnualIncome        -0.020101       -0.349157       0.108066      1.000000   \n",
              "FamilyMembers        0.027409        0.003354       0.021201     -0.015367   \n",
              "ChronicDiseases      0.007359        0.011553       0.018811     -0.001149   \n",
              "FrequentFlyer       -0.033159       -0.143790      -0.028120      0.353087   \n",
              "EverTravelledAbroad -0.012779       -0.181098       0.062683      0.486043   \n",
              "\n",
              "                     FamilyMembers  ChronicDiseases  FrequentFlyer  \\\n",
              "Age                       0.027409         0.007359      -0.033159   \n",
              "EmploymentType            0.003354         0.011553      -0.143790   \n",
              "GraduateOrNot             0.021201         0.018811      -0.028120   \n",
              "AnnualIncome             -0.015367        -0.001149       0.353087   \n",
              "FamilyMembers             1.000000         0.028209      -0.023775   \n",
              "ChronicDiseases           0.028209         1.000000      -0.043720   \n",
              "FrequentFlyer            -0.023775        -0.043720       1.000000   \n",
              "EverTravelledAbroad      -0.020755         0.021238       0.277334   \n",
              "\n",
              "                     EverTravelledAbroad  \n",
              "Age                            -0.012779  \n",
              "EmploymentType                 -0.181098  \n",
              "GraduateOrNot                   0.062683  \n",
              "AnnualIncome                    0.486043  \n",
              "FamilyMembers                  -0.020755  \n",
              "ChronicDiseases                 0.021238  \n",
              "FrequentFlyer                   0.277334  \n",
              "EverTravelledAbroad             1.000000  "
            ],
            "text/html": [
              "\n",
              "  <div id=\"df-4d1db542-13c0-429e-a0b8-000865e05716\">\n",
              "    <div class=\"colab-df-container\">\n",
              "      <div>\n",
              "<style scoped>\n",
              "    .dataframe tbody tr th:only-of-type {\n",
              "        vertical-align: middle;\n",
              "    }\n",
              "\n",
              "    .dataframe tbody tr th {\n",
              "        vertical-align: top;\n",
              "    }\n",
              "\n",
              "    .dataframe thead th {\n",
              "        text-align: right;\n",
              "    }\n",
              "</style>\n",
              "<table border=\"1\" class=\"dataframe\">\n",
              "  <thead>\n",
              "    <tr style=\"text-align: right;\">\n",
              "      <th></th>\n",
              "      <th>Age</th>\n",
              "      <th>EmploymentType</th>\n",
              "      <th>GraduateOrNot</th>\n",
              "      <th>AnnualIncome</th>\n",
              "      <th>FamilyMembers</th>\n",
              "      <th>ChronicDiseases</th>\n",
              "      <th>FrequentFlyer</th>\n",
              "      <th>EverTravelledAbroad</th>\n",
              "    </tr>\n",
              "  </thead>\n",
              "  <tbody>\n",
              "    <tr>\n",
              "      <th>Age</th>\n",
              "      <td>1.000000</td>\n",
              "      <td>0.115134</td>\n",
              "      <td>0.027125</td>\n",
              "      <td>-0.020101</td>\n",
              "      <td>0.027409</td>\n",
              "      <td>0.007359</td>\n",
              "      <td>-0.033159</td>\n",
              "      <td>-0.012779</td>\n",
              "    </tr>\n",
              "    <tr>\n",
              "      <th>EmploymentType</th>\n",
              "      <td>0.115134</td>\n",
              "      <td>1.000000</td>\n",
              "      <td>0.127133</td>\n",
              "      <td>-0.349157</td>\n",
              "      <td>0.003354</td>\n",
              "      <td>0.011553</td>\n",
              "      <td>-0.143790</td>\n",
              "      <td>-0.181098</td>\n",
              "    </tr>\n",
              "    <tr>\n",
              "      <th>GraduateOrNot</th>\n",
              "      <td>0.027125</td>\n",
              "      <td>0.127133</td>\n",
              "      <td>1.000000</td>\n",
              "      <td>0.108066</td>\n",
              "      <td>0.021201</td>\n",
              "      <td>0.018811</td>\n",
              "      <td>-0.028120</td>\n",
              "      <td>0.062683</td>\n",
              "    </tr>\n",
              "    <tr>\n",
              "      <th>AnnualIncome</th>\n",
              "      <td>-0.020101</td>\n",
              "      <td>-0.349157</td>\n",
              "      <td>0.108066</td>\n",
              "      <td>1.000000</td>\n",
              "      <td>-0.015367</td>\n",
              "      <td>-0.001149</td>\n",
              "      <td>0.353087</td>\n",
              "      <td>0.486043</td>\n",
              "    </tr>\n",
              "    <tr>\n",
              "      <th>FamilyMembers</th>\n",
              "      <td>0.027409</td>\n",
              "      <td>0.003354</td>\n",
              "      <td>0.021201</td>\n",
              "      <td>-0.015367</td>\n",
              "      <td>1.000000</td>\n",
              "      <td>0.028209</td>\n",
              "      <td>-0.023775</td>\n",
              "      <td>-0.020755</td>\n",
              "    </tr>\n",
              "    <tr>\n",
              "      <th>ChronicDiseases</th>\n",
              "      <td>0.007359</td>\n",
              "      <td>0.011553</td>\n",
              "      <td>0.018811</td>\n",
              "      <td>-0.001149</td>\n",
              "      <td>0.028209</td>\n",
              "      <td>1.000000</td>\n",
              "      <td>-0.043720</td>\n",
              "      <td>0.021238</td>\n",
              "    </tr>\n",
              "    <tr>\n",
              "      <th>FrequentFlyer</th>\n",
              "      <td>-0.033159</td>\n",
              "      <td>-0.143790</td>\n",
              "      <td>-0.028120</td>\n",
              "      <td>0.353087</td>\n",
              "      <td>-0.023775</td>\n",
              "      <td>-0.043720</td>\n",
              "      <td>1.000000</td>\n",
              "      <td>0.277334</td>\n",
              "    </tr>\n",
              "    <tr>\n",
              "      <th>EverTravelledAbroad</th>\n",
              "      <td>-0.012779</td>\n",
              "      <td>-0.181098</td>\n",
              "      <td>0.062683</td>\n",
              "      <td>0.486043</td>\n",
              "      <td>-0.020755</td>\n",
              "      <td>0.021238</td>\n",
              "      <td>0.277334</td>\n",
              "      <td>1.000000</td>\n",
              "    </tr>\n",
              "  </tbody>\n",
              "</table>\n",
              "</div>\n",
              "      <button class=\"colab-df-convert\" onclick=\"convertToInteractive('df-4d1db542-13c0-429e-a0b8-000865e05716')\"\n",
              "              title=\"Convert this dataframe to an interactive table.\"\n",
              "              style=\"display:none;\">\n",
              "        \n",
              "  <svg xmlns=\"http://www.w3.org/2000/svg\" height=\"24px\"viewBox=\"0 0 24 24\"\n",
              "       width=\"24px\">\n",
              "    <path d=\"M0 0h24v24H0V0z\" fill=\"none\"/>\n",
              "    <path d=\"M18.56 5.44l.94 2.06.94-2.06 2.06-.94-2.06-.94-.94-2.06-.94 2.06-2.06.94zm-11 1L8.5 8.5l.94-2.06 2.06-.94-2.06-.94L8.5 2.5l-.94 2.06-2.06.94zm10 10l.94 2.06.94-2.06 2.06-.94-2.06-.94-.94-2.06-.94 2.06-2.06.94z\"/><path d=\"M17.41 7.96l-1.37-1.37c-.4-.4-.92-.59-1.43-.59-.52 0-1.04.2-1.43.59L10.3 9.45l-7.72 7.72c-.78.78-.78 2.05 0 2.83L4 21.41c.39.39.9.59 1.41.59.51 0 1.02-.2 1.41-.59l7.78-7.78 2.81-2.81c.8-.78.8-2.07 0-2.86zM5.41 20L4 18.59l7.72-7.72 1.47 1.35L5.41 20z\"/>\n",
              "  </svg>\n",
              "      </button>\n",
              "      \n",
              "  <style>\n",
              "    .colab-df-container {\n",
              "      display:flex;\n",
              "      flex-wrap:wrap;\n",
              "      gap: 12px;\n",
              "    }\n",
              "\n",
              "    .colab-df-convert {\n",
              "      background-color: #E8F0FE;\n",
              "      border: none;\n",
              "      border-radius: 50%;\n",
              "      cursor: pointer;\n",
              "      display: none;\n",
              "      fill: #1967D2;\n",
              "      height: 32px;\n",
              "      padding: 0 0 0 0;\n",
              "      width: 32px;\n",
              "    }\n",
              "\n",
              "    .colab-df-convert:hover {\n",
              "      background-color: #E2EBFA;\n",
              "      box-shadow: 0px 1px 2px rgba(60, 64, 67, 0.3), 0px 1px 3px 1px rgba(60, 64, 67, 0.15);\n",
              "      fill: #174EA6;\n",
              "    }\n",
              "\n",
              "    [theme=dark] .colab-df-convert {\n",
              "      background-color: #3B4455;\n",
              "      fill: #D2E3FC;\n",
              "    }\n",
              "\n",
              "    [theme=dark] .colab-df-convert:hover {\n",
              "      background-color: #434B5C;\n",
              "      box-shadow: 0px 1px 3px 1px rgba(0, 0, 0, 0.15);\n",
              "      filter: drop-shadow(0px 1px 2px rgba(0, 0, 0, 0.3));\n",
              "      fill: #FFFFFF;\n",
              "    }\n",
              "  </style>\n",
              "\n",
              "      <script>\n",
              "        const buttonEl =\n",
              "          document.querySelector('#df-4d1db542-13c0-429e-a0b8-000865e05716 button.colab-df-convert');\n",
              "        buttonEl.style.display =\n",
              "          google.colab.kernel.accessAllowed ? 'block' : 'none';\n",
              "\n",
              "        async function convertToInteractive(key) {\n",
              "          const element = document.querySelector('#df-4d1db542-13c0-429e-a0b8-000865e05716');\n",
              "          const dataTable =\n",
              "            await google.colab.kernel.invokeFunction('convertToInteractive',\n",
              "                                                     [key], {});\n",
              "          if (!dataTable) return;\n",
              "\n",
              "          const docLinkHtml = 'Like what you see? Visit the ' +\n",
              "            '<a target=\"_blank\" href=https://colab.research.google.com/notebooks/data_table.ipynb>data table notebook</a>'\n",
              "            + ' to learn more about interactive tables.';\n",
              "          element.innerHTML = '';\n",
              "          dataTable['output_type'] = 'display_data';\n",
              "          await google.colab.output.renderOutput(dataTable, element);\n",
              "          const docLink = document.createElement('div');\n",
              "          docLink.innerHTML = docLinkHtml;\n",
              "          element.appendChild(docLink);\n",
              "        }\n",
              "      </script>\n",
              "    </div>\n",
              "  </div>\n",
              "  "
            ]
          },
          "metadata": {},
          "execution_count": 811
        }
      ],
      "source": [
        "# Lets check the correlation among the predictor variables using a correlation matrix\n",
        "x.corr()"
      ]
    },
    {
      "cell_type": "markdown",
      "id": "25b73192",
      "metadata": {
        "id": "25b73192"
      },
      "source": [
        "Observations:\n",
        "* At first glance we can see that that the variables have very less collinearity. To visualize the values lets check the heatmap next"
      ]
    },
    {
      "cell_type": "code",
      "execution_count": null,
      "id": "20c80520",
      "metadata": {
        "colab": {
          "base_uri": "https://localhost:8080/",
          "height": 450
        },
        "id": "20c80520",
        "outputId": "86535128-e601-4479-9d20-574e4370e288"
      },
      "outputs": [
        {
          "output_type": "execute_result",
          "data": {
            "text/plain": [
              "<matplotlib.axes._subplots.AxesSubplot at 0x7f1fee75e210>"
            ]
          },
          "metadata": {},
          "execution_count": 812
        },
        {
          "output_type": "display_data",
          "data": {
            "text/plain": [
              "<Figure size 1440x504 with 2 Axes>"
            ],
            "image/png": "[encoded data removed]"
          },
          "metadata": {
            "needs_background": "light"
          }
        }
      ],
      "source": [
        "#the heat map of the correlation\n",
        "plt.figure(figsize=(20,7))\n",
        "sns.heatmap(x.corr(), annot=True, cmap='RdYlGn')"
      ]
    },
    {
      "cell_type": "markdown",
      "id": "3dbddbaf",
      "metadata": {
        "id": "3dbddbaf"
      },
      "source": [
        "Observations:\n",
        "* It is very clear from the heatmap that most of the variables are not dependent on each other\n",
        "* Degree of collinearity is significantly less that 0.1 for most variables\n",
        "* The Annual income and the international travel history of the travellers have a degree of collinearity of 0.49"
      ]
    },
    {
      "cell_type": "markdown",
      "id": "a0a2f509",
      "metadata": {
        "id": "a0a2f509"
      },
      "source": [
        "#### Creating a Train - Test split for our model training and predictions"
      ]
    },
    {
      "cell_type": "code",
      "execution_count": null,
      "id": "1196c0fb",
      "metadata": {
        "id": "1196c0fb"
      },
      "outputs": [],
      "source": [
        "from sklearn.model_selection import  train_test_split\n",
        "\n",
        "#Spliting data into Training 80% and Test set 20%\n",
        "\n",
        "X_train, X_test, y_train, y_test = train_test_split(x, y, test_size=0.2, random_state=1)\n"
      ]
    },
    {
      "cell_type": "markdown",
      "id": "686fc250",
      "metadata": {
        "id": "686fc250"
      },
      "source": [
        "<h2><i>Q7. Do the training and test sets have the same data?</i></h2>"
      ]
    },
    {
      "cell_type": "code",
      "execution_count": null,
      "id": "e0d04b91",
      "metadata": {
        "colab": {
          "base_uri": "https://localhost:8080/",
          "height": 1000
        },
        "id": "e0d04b91",
        "outputId": "70ccbd00-afbf-4023-a60a-87f4d50ad432"
      },
      "outputs": [
        {
          "output_type": "display_data",
          "data": {
            "text/plain": [
              "<Figure size 432x504 with 1 Axes>"
            ],
            "image/png": "[encoded data removed]"
          },
          "metadata": {
            "needs_background": "light"
          }
        },
        {
          "output_type": "display_data",
          "data": {
            "text/plain": [
              "<Figure size 432x504 with 1 Axes>"
            ],
            "image/png": "[encoded data removed]"
          },
          "metadata": {
            "needs_background": "light"
          }
        },
        {
          "output_type": "display_data",
          "data": {
            "text/plain": [
              "<Figure size 432x504 with 1 Axes>"
            ],
            "image/png": "[encoded data removed]"
          },
          "metadata": {
            "needs_background": "light"
          }
        },
        {
          "output_type": "display_data",
          "data": {
            "text/plain": [
              "<Figure size 432x504 with 1 Axes>"
            ],
            "image/png": "[encoded data removed]"
          },
          "metadata": {
            "needs_background": "light"
          }
        },
        {
          "output_type": "display_data",
          "data": {
            "text/plain": [
              "<Figure size 432x504 with 1 Axes>"
            ],
            "image/png": "[encoded data removed]"
          },
          "metadata": {
            "needs_background": "light"
          }
        },
        {
          "output_type": "display_data",
          "data": {
            "text/plain": [
              "<Figure size 432x504 with 1 Axes>"
            ],
            "image/png": "[encoded data removed]"
          },
          "metadata": {
            "needs_background": "light"
          }
        },
        {
          "output_type": "display_data",
          "data": {
            "text/plain": [
              "<Figure size 432x504 with 1 Axes>"
            ],
            "image/png": "[encoded data removed]"
          },
          "metadata": {
            "needs_background": "light"
          }
        },
        {
          "output_type": "display_data",
          "data": {
            "text/plain": [
              "<Figure size 432x504 with 1 Axes>"
            ],
            "image/png": "[encoded data removed]"
          },
          "metadata": {
            "needs_background": "light"
          }
        }
      ],
      "source": [
        "# Looking the data for test and training set\n",
        "X_test_plot = X_test\n",
        "X_train_plot = X_train\n",
        "\n",
        "#Plotting the data to see the histogram\n",
        "for c in X_test_plot.columns[:]:\n",
        "    plt.figure(figsize=(6,7))\n",
        "    plt.hist(X_train_plot[c], bins=10, alpha=0.5, label=\"Train Set\", color=\"darkgreen\")\n",
        "    plt.hist(X_test_plot[c], bins=10, alpha=0.5, label=\"Test Set\", color =\"red\")\n",
        "    plt.xlabel(c, size=14)\n",
        "    plt.ylabel(\"Count\", size=14)\n",
        "    plt.legend(loc='upper right')\n",
        "    plt.title(\"{} distribution\".format(c))\n",
        "    plt.show()\n",
        "\n",
        "\n",
        " "
      ]
    },
    {
      "cell_type": "markdown",
      "id": "2aa01bab",
      "metadata": {
        "id": "2aa01bab"
      },
      "source": [
        "Observations:\n",
        "* The ratio of 80%-20% for train-test split appears to be distributed correctly for all the variables except for Annual Income\n",
        "* For Annual Income, from 0.8 - 0.9, the count of test instances is more than the count of train instances. For the rest of the counts, test count is lower than the train count"
      ]
    },
    {
      "cell_type": "markdown",
      "id": "1c156234",
      "metadata": {
        "id": "1c156234"
      },
      "source": [
        "<h2><i>Q8. Which predictor variables are the most useful to predict a target?</i></h2>\n",
        "<h4>Method 1 - Using Ordinary Least Squares(OLS) Regression</h4>"
      ]
    },
    {
      "cell_type": "code",
      "execution_count": null,
      "id": "f2cab7f6",
      "metadata": {
        "colab": {
          "base_uri": "https://localhost:8080/",
          "height": 597
        },
        "id": "f2cab7f6",
        "outputId": "22966806-7a27-4321-98c1-8552aa68453e"
      },
      "outputs": [
        {
          "output_type": "execute_result",
          "data": {
            "text/plain": [
              "<class 'statsmodels.iolib.summary.Summary'>\n",
              "\"\"\"\n",
              "                                 OLS Regression Results                                \n",
              "=======================================================================================\n",
              "Dep. Variable:        TravelInsurance   R-squared (uncentered):                   0.513\n",
              "Model:                            OLS   Adj. R-squared (uncentered):              0.511\n",
              "Method:                 Least Squares   F-statistic:                              208.6\n",
              "Date:                Sat, 08 Oct 2022   Prob (F-statistic):                   5.03e-241\n",
              "Time:                        01:25:58   Log-Likelihood:                         -860.73\n",
              "No. Observations:                1589   AIC:                                      1737.\n",
              "Df Residuals:                    1581   BIC:                                      1780.\n",
              "Df Model:                           8                                                  \n",
              "Covariance Type:            nonrobust                                                  \n",
              "=======================================================================================\n",
              "                          coef    std err          t      P>|t|      [0.025      0.975]\n",
              "---------------------------------------------------------------------------------------\n",
              "Age                     0.1062      0.034      3.163      0.002       0.040       0.172\n",
              "EmploymentType         -0.0260      0.025     -1.058      0.290      -0.074       0.022\n",
              "GraduateOrNot          -0.0335      0.026     -1.289      0.198      -0.084       0.017\n",
              "AnnualIncome            0.4338      0.048      9.104      0.000       0.340       0.527\n",
              "FamilyMembers           0.1734      0.041      4.181      0.000       0.092       0.255\n",
              "ChronicDiseases         0.0217      0.023      0.933      0.351      -0.024       0.067\n",
              "FrequentFlyer           0.0803      0.027      2.926      0.003       0.026       0.134\n",
              "EverTravelledAbroad     0.3549      0.030     11.725      0.000       0.296       0.414\n",
              "==============================================================================\n",
              "Omnibus:                      141.412   Durbin-Watson:                   2.042\n",
              "Prob(Omnibus):                  0.000   Jarque-Bera (JB):              143.001\n",
              "Skew:                           0.682   Prob(JB):                     8.86e-32\n",
              "Kurtosis:                       2.452   Cond. No.                         6.55\n",
              "==============================================================================\n",
              "\n",
              "Notes:\n",
              "[1] R² is computed without centering (uncentered) since the model does not contain a constant.\n",
              "[2] Standard Errors assume that the covariance matrix of the errors is correctly specified.\n",
              "\"\"\""
            ],
            "text/html": [
              "<table class=\"simpletable\">\n",
              "<caption>OLS Regression Results</caption>\n",
              "<tr>\n",
              "  <th>Dep. Variable:</th>     <td>TravelInsurance</td> <th>  R-squared (uncentered):</th>      <td>   0.513</td> \n",
              "</tr>\n",
              "<tr>\n",
              "  <th>Model:</th>                   <td>OLS</td>       <th>  Adj. R-squared (uncentered):</th> <td>   0.511</td> \n",
              "</tr>\n",
              "<tr>\n",
              "  <th>Method:</th>             <td>Least Squares</td>  <th>  F-statistic:       </th>          <td>   208.6</td> \n",
              "</tr>\n",
              "<tr>\n",
              "  <th>Date:</th>             <td>Sat, 08 Oct 2022</td> <th>  Prob (F-statistic):</th>          <td>5.03e-241</td>\n",
              "</tr>\n",
              "<tr>\n",
              "  <th>Time:</th>                 <td>01:25:58</td>     <th>  Log-Likelihood:    </th>          <td> -860.73</td> \n",
              "</tr>\n",
              "<tr>\n",
              "  <th>No. Observations:</th>      <td>  1589</td>      <th>  AIC:               </th>          <td>   1737.</td> \n",
              "</tr>\n",
              "<tr>\n",
              "  <th>Df Residuals:</th>          <td>  1581</td>      <th>  BIC:               </th>          <td>   1780.</td> \n",
              "</tr>\n",
              "<tr>\n",
              "  <th>Df Model:</th>              <td>     8</td>      <th>                     </th>              <td> </td>    \n",
              "</tr>\n",
              "<tr>\n",
              "  <th>Covariance Type:</th>      <td>nonrobust</td>    <th>                     </th>              <td> </td>    \n",
              "</tr>\n",
              "</table>\n",
              "<table class=\"simpletable\">\n",
              "<tr>\n",
              "           <td></td>              <th>coef</th>     <th>std err</th>      <th>t</th>      <th>P>|t|</th>  <th>[0.025</th>    <th>0.975]</th>  \n",
              "</tr>\n",
              "<tr>\n",
              "  <th>Age</th>                 <td>    0.1062</td> <td>    0.034</td> <td>    3.163</td> <td> 0.002</td> <td>    0.040</td> <td>    0.172</td>\n",
              "</tr>\n",
              "<tr>\n",
              "  <th>EmploymentType</th>      <td>   -0.0260</td> <td>    0.025</td> <td>   -1.058</td> <td> 0.290</td> <td>   -0.074</td> <td>    0.022</td>\n",
              "</tr>\n",
              "<tr>\n",
              "  <th>GraduateOrNot</th>       <td>   -0.0335</td> <td>    0.026</td> <td>   -1.289</td> <td> 0.198</td> <td>   -0.084</td> <td>    0.017</td>\n",
              "</tr>\n",
              "<tr>\n",
              "  <th>AnnualIncome</th>        <td>    0.4338</td> <td>    0.048</td> <td>    9.104</td> <td> 0.000</td> <td>    0.340</td> <td>    0.527</td>\n",
              "</tr>\n",
              "<tr>\n",
              "  <th>FamilyMembers</th>       <td>    0.1734</td> <td>    0.041</td> <td>    4.181</td> <td> 0.000</td> <td>    0.092</td> <td>    0.255</td>\n",
              "</tr>\n",
              "<tr>\n",
              "  <th>ChronicDiseases</th>     <td>    0.0217</td> <td>    0.023</td> <td>    0.933</td> <td> 0.351</td> <td>   -0.024</td> <td>    0.067</td>\n",
              "</tr>\n",
              "<tr>\n",
              "  <th>FrequentFlyer</th>       <td>    0.0803</td> <td>    0.027</td> <td>    2.926</td> <td> 0.003</td> <td>    0.026</td> <td>    0.134</td>\n",
              "</tr>\n",
              "<tr>\n",
              "  <th>EverTravelledAbroad</th> <td>    0.3549</td> <td>    0.030</td> <td>   11.725</td> <td> 0.000</td> <td>    0.296</td> <td>    0.414</td>\n",
              "</tr>\n",
              "</table>\n",
              "<table class=\"simpletable\">\n",
              "<tr>\n",
              "  <th>Omnibus:</th>       <td>141.412</td> <th>  Durbin-Watson:     </th> <td>   2.042</td>\n",
              "</tr>\n",
              "<tr>\n",
              "  <th>Prob(Omnibus):</th> <td> 0.000</td>  <th>  Jarque-Bera (JB):  </th> <td> 143.001</td>\n",
              "</tr>\n",
              "<tr>\n",
              "  <th>Skew:</th>          <td> 0.682</td>  <th>  Prob(JB):          </th> <td>8.86e-32</td>\n",
              "</tr>\n",
              "<tr>\n",
              "  <th>Kurtosis:</th>      <td> 2.452</td>  <th>  Cond. No.          </th> <td>    6.55</td>\n",
              "</tr>\n",
              "</table><br/><br/>Notes:<br/>[1] R² is computed without centering (uncentered) since the model does not contain a constant.<br/>[2] Standard Errors assume that the covariance matrix of the errors is correctly specified."
            ]
          },
          "metadata": {},
          "execution_count": 815
        }
      ],
      "source": [
        "#Using OLS for finding the p value to check the significant features\n",
        "import statsmodels.api as sm\n",
        "\n",
        "model1 = sm.OLS(y_train, X_train).fit()\n",
        "\n",
        "# Print out the statistics\n",
        "model1.summary()"
      ]
    },
    {
      "cell_type": "markdown",
      "id": "76ae508a",
      "metadata": {
        "id": "76ae508a"
      },
      "source": [
        "We will consider a significance value of <b>0.05</b> for determining the significance of our predictor variables which means if \n",
        "* p value is greater that 0.05 - feature is not significant for predicting the target variable\n",
        "* p value is less than 0.05 - feature is significant for predicting the target variable\n",
        "\n",
        "Observations:\n",
        "* Age has a p-value of 0.0 which is lesser than 0.05 so it is a significant feature\n",
        "* EmployeeType has a p-value of 0.6 which is greater than 0.05 so it is not a significant feature\n",
        "* GraduateOrNot has a p-value of 0.09 which is greater than 0.05 so it is not a significant feature\n",
        "* AnnualIncome has a p-value of 0.0 which is lesser than 0.05 so it is a significant feature\n",
        "* FamilyMembers has a p-value of 0.0 which is lesser than 0.05 so it is a significant feature\n",
        "* ChronicDiseases has a p-value of 0.5 which is greater than 0.05 so it is not a significant feature\n",
        "* FrequentFlyer has a p-value of 0.0 which is lesser than 0.05 so it is a significant feature\n",
        "* EverTravelledAbroad has a p-value of 0.0 which is lesser than 0.05 so it is a significant feature"
      ]
    },
    {
      "cell_type": "code",
      "execution_count": null,
      "id": "7d74097d",
      "metadata": {
        "colab": {
          "base_uri": "https://localhost:8080/"
        },
        "id": "7d74097d",
        "outputId": "17870343-ee23-4932-c20b-b8f371b64c51"
      },
      "outputs": [
        {
          "output_type": "stream",
          "name": "stdout",
          "text": [
            "Summary of OLS Regression results:\n",
            "--------------------------------------------------------\n",
            "          Significant Variables              \n",
            "--------------------------------------------------------\n",
            "1. Age\n",
            "2. AnnualIncome\n",
            "3. FamilyMembers\n",
            "4. FrequentFlyer\n",
            "5. EverTravelledAbroad\n",
            "--------------------------------------------------------\n",
            "          Non - significant Variables          \n",
            "--------------------------------------------------------\n",
            "1. EmployeeType\n",
            "2. GraduateOrNot\n",
            "3. ChronicDiseases\n"
          ]
        }
      ],
      "source": [
        "print(\"Summary of OLS Regression results:\")\n",
        "print(\"--------------------------------------------------------\")\n",
        "print(\"          Significant Variables              \")\n",
        "print(\"--------------------------------------------------------\")\n",
        "print(\"1. Age\" + \"\\n\" + \"2. AnnualIncome\" + \"\\n\" + \"3. FamilyMembers\" + \"\\n\" + \"4. FrequentFlyer\" + \"\\n\" + \"5. EverTravelledAbroad\")\n",
        "print(\"--------------------------------------------------------\")\n",
        "print(\"          Non - significant Variables          \")\n",
        "print(\"--------------------------------------------------------\")\n",
        "print(\"1. EmployeeType\" + \"\\n\" + \"2. GraduateOrNot\" + \"\\n\" + \"3. ChronicDiseases\")"
      ]
    },
    {
      "cell_type": "markdown",
      "id": "64970783",
      "metadata": {
        "id": "64970783"
      },
      "source": [
        "***"
      ]
    },
    {
      "cell_type": "markdown",
      "id": "0a45f7ab",
      "metadata": {
        "id": "0a45f7ab"
      },
      "source": [
        "<h4>Method 2 - Using Logistic Regression Results</h4>"
      ]
    },
    {
      "cell_type": "code",
      "execution_count": null,
      "id": "6986d0b6",
      "metadata": {
        "colab": {
          "base_uri": "https://localhost:8080/"
        },
        "id": "6986d0b6",
        "outputId": "7e0581e9-97f5-45a3-ad6a-14951169b711"
      },
      "outputs": [
        {
          "output_type": "stream",
          "name": "stdout",
          "text": [
            "Optimization terminated successfully.\n",
            "         Current function value: 0.568056\n",
            "         Iterations 5\n",
            "                           Logit Regression Results                           \n",
            "==============================================================================\n",
            "Dep. Variable:        TravelInsurance   No. Observations:                 1589\n",
            "Model:                          Logit   Df Residuals:                     1581\n",
            "Method:                           MLE   Df Model:                            7\n",
            "Date:                Sat, 08 Oct 2022   Pseudo R-squ.:                  0.1272\n",
            "Time:                        01:25:59   Log-Likelihood:                -902.64\n",
            "converged:                       True   LL-Null:                       -1034.2\n",
            "Covariance Type:            nonrobust   LLR p-value:                 4.624e-53\n",
            "=======================================================================================\n",
            "                          coef    std err          z      P>|z|      [0.025      0.975]\n",
            "---------------------------------------------------------------------------------------\n",
            "Age                    -0.2326      0.182     -1.275      0.202      -0.590       0.125\n",
            "EmploymentType         -0.4604      0.139     -3.320      0.001      -0.732      -0.189\n",
            "GraduateOrNot          -1.0091      0.140     -7.210      0.000      -1.283      -0.735\n",
            "AnnualIncome            0.8917      0.258      3.454      0.001       0.386       1.398\n",
            "FamilyMembers          -0.3536      0.227     -1.557      0.120      -0.799       0.092\n",
            "ChronicDiseases        -0.0819      0.128     -0.639      0.523      -0.333       0.169\n",
            "FrequentFlyer           0.2721      0.147      1.854      0.064      -0.016       0.560\n",
            "EverTravelledAbroad     1.7737      0.166     10.678      0.000       1.448       2.099\n",
            "=======================================================================================\n"
          ]
        }
      ],
      "source": [
        "model2 = sd.Logit(y_train,X_train).fit()\n",
        "print(model2.summary())\n"
      ]
    },
    {
      "cell_type": "markdown",
      "id": "b1899e51",
      "metadata": {
        "id": "b1899e51"
      },
      "source": [
        "We will consider a significance value of <b>0.05</b> for determining the significance of our predictor variables which means if \n",
        "* p value is greater that 0.05 - feature is not significant for predicting the target variable\n",
        "* p value is less than 0.05 - feature is significant for predicting the target variable\n",
        "* We do see some difference in the significance of certain features which might be because of small size of our dataset"
      ]
    },
    {
      "cell_type": "code",
      "execution_count": null,
      "id": "1b244dd4",
      "metadata": {
        "colab": {
          "base_uri": "https://localhost:8080/"
        },
        "id": "1b244dd4",
        "outputId": "b1c5bfa0-c2e9-4b21-c857-59ca8f9a4da0"
      },
      "outputs": [
        {
          "output_type": "stream",
          "name": "stdout",
          "text": [
            "Summary of Logistic Regression results:\n",
            "--------------------------------------------------------\n",
            "          Significant Variables               \n",
            "--------------------------------------------------------\n",
            "1. Age\n",
            "2. AnnualIncome\n",
            "3. FamilyMembers\n",
            "4. FrequentFlyer\n",
            "5. EverTravelledAbroad\n",
            "--------------------------------------------------------\n",
            "          Non - significant Variables          \n",
            "--------------------------------------------------------\n",
            "1. EmployeeType\n",
            "2. GraduateOrNot\n",
            "3. ChronicDiseases\n"
          ]
        }
      ],
      "source": [
        "print(\"Summary of Logistic Regression results:\")\n",
        "print(\"--------------------------------------------------------\")\n",
        "print(\"          Significant Variables               \")\n",
        "print(\"--------------------------------------------------------\")\n",
        "print(\"1. Age\" + \"\\n\" + \"2. AnnualIncome\" + \"\\n\" + \"3. FamilyMembers\" + \"\\n\" + \"4. FrequentFlyer\" + \"\\n\" + \"5. EverTravelledAbroad\")\n",
        "print(\"--------------------------------------------------------\")\n",
        "print(\"          Non - significant Variables          \")\n",
        "print(\"--------------------------------------------------------\")\n",
        "print(\"1. EmployeeType\" + \"\\n\" + \"2. GraduateOrNot\" + \"\\n\" + \"3. ChronicDiseases\")"
      ]
    },
    {
      "cell_type": "markdown",
      "id": "c70dff1a",
      "metadata": {
        "id": "c70dff1a"
      },
      "source": [
        "<h4>Method 3 - Using Gradient Boosting Classifier Results</h4>"
      ]
    },
    {
      "cell_type": "code",
      "execution_count": null,
      "id": "69696bdd",
      "metadata": {
        "colab": {
          "base_uri": "https://localhost:8080/",
          "height": 463
        },
        "id": "69696bdd",
        "outputId": "b6395a64-2763-4541-9a7c-f6d1726131c5"
      },
      "outputs": [
        {
          "output_type": "execute_result",
          "data": {
            "text/plain": [
              "Text(0.5, 1.0, 'Feature Importance ')"
            ]
          },
          "metadata": {},
          "execution_count": 819
        },
        {
          "output_type": "display_data",
          "data": {
            "text/plain": [
              "<Figure size 1080x504 with 1 Axes>"
            ],
            "image/png": "[encoded data removed]"
          },
          "metadata": {
            "needs_background": "light"
          }
        }
      ],
      "source": [
        "from sklearn import ensemble\n",
        "model_3=ensemble.GradientBoostingClassifier()\n",
        "model_3.fit(X_train,y_train)\n",
        "cols=X_train.columns\n",
        "plt.figure(figsize=(15, 7))\n",
        "plt.barh(cols,model_3.feature_importances_, color =\"#00b3b3\")\n",
        "plt.title('Feature Importance ', size=14)"
      ]
    },
    {
      "cell_type": "markdown",
      "source": [
        "Observations:\n",
        "* Using gradient boosting method also we get similar results as the previous two methods with our numerical columns(age, family members and annual income) having noticable significance."
      ],
      "metadata": {
        "id": "HDbw2MnnhVRa"
      },
      "id": "HDbw2MnnhVRa"
    },
    {
      "cell_type": "code",
      "execution_count": null,
      "id": "98b874b4",
      "metadata": {
        "colab": {
          "base_uri": "https://localhost:8080/",
          "height": 405
        },
        "id": "98b874b4",
        "outputId": "bc5be013-51c1-481a-e50c-61a8871ad399"
      },
      "outputs": [
        {
          "output_type": "stream",
          "name": "stdout",
          "text": [
            "Looking in indexes: https://pypi.org/simple, https://us-python.pkg.dev/colab-wheels/public/simple/\n",
            "Requirement already satisfied: eli5 in /usr/local/lib/python3.7/dist-packages (0.13.0)\n",
            "Requirement already satisfied: scikit-learn>=0.20 in /usr/local/lib/python3.7/dist-packages (from eli5) (1.0.2)\n",
            "Requirement already satisfied: tabulate>=0.7.7 in /usr/local/lib/python3.7/dist-packages (from eli5) (0.8.10)\n",
            "Requirement already satisfied: graphviz in /usr/local/lib/python3.7/dist-packages (from eli5) (0.10.1)\n",
            "Requirement already satisfied: scipy in /usr/local/lib/python3.7/dist-packages (from eli5) (1.7.3)\n",
            "Requirement already satisfied: numpy>=1.9.0 in /usr/local/lib/python3.7/dist-packages (from eli5) (1.21.6)\n",
            "Requirement already satisfied: six in /usr/local/lib/python3.7/dist-packages (from eli5) (1.15.0)\n",
            "Requirement already satisfied: attrs>17.1.0 in /usr/local/lib/python3.7/dist-packages (from eli5) (22.1.0)\n",
            "Requirement already satisfied: jinja2>=3.0.0 in /usr/local/lib/python3.7/dist-packages (from eli5) (3.1.2)\n",
            "Requirement already satisfied: MarkupSafe>=2.0 in /usr/local/lib/python3.7/dist-packages (from jinja2>=3.0.0->eli5) (2.0.1)\n",
            "Requirement already satisfied: joblib>=0.11 in /usr/local/lib/python3.7/dist-packages (from scikit-learn>=0.20->eli5) (1.2.0)\n",
            "Requirement already satisfied: threadpoolctl>=2.0.0 in /usr/local/lib/python3.7/dist-packages (from scikit-learn>=0.20->eli5) (3.1.0)\n"
          ]
        },
        {
          "output_type": "execute_result",
          "data": {
            "text/plain": [
              "<IPython.core.display.HTML object>"
            ],
            "text/html": [
              "\n",
              "    <style>\n",
              "    table.eli5-weights tr:hover {\n",
              "        filter: brightness(85%);\n",
              "    }\n",
              "</style>\n",
              "\n",
              "\n",
              "\n",
              "    \n",
              "\n",
              "    \n",
              "\n",
              "    \n",
              "\n",
              "    \n",
              "\n",
              "    \n",
              "\n",
              "    \n",
              "\n",
              "\n",
              "    \n",
              "\n",
              "    \n",
              "\n",
              "    \n",
              "\n",
              "    \n",
              "\n",
              "    \n",
              "\n",
              "    \n",
              "\n",
              "\n",
              "    \n",
              "\n",
              "    \n",
              "\n",
              "    \n",
              "\n",
              "    \n",
              "\n",
              "    \n",
              "        <table class=\"eli5-weights eli5-feature-importances\" style=\"border-collapse: collapse; border: none; margin-top: 0em; table-layout: auto;\">\n",
              "    <thead>\n",
              "    <tr style=\"border: none;\">\n",
              "        <th style=\"padding: 0 1em 0 0.5em; text-align: right; border: none;\">Weight</th>\n",
              "        <th style=\"padding: 0 0.5em 0 0.5em; text-align: left; border: none;\">Feature</th>\n",
              "    </tr>\n",
              "    </thead>\n",
              "    <tbody>\n",
              "    \n",
              "        <tr style=\"background-color: hsl(120, 100.00%, 80.00%); border: none;\">\n",
              "            <td style=\"padding: 0 1em 0 0.5em; text-align: right; border: none;\">\n",
              "                0.2251\n",
              "                \n",
              "                    &plusmn; 0.0311\n",
              "                \n",
              "            </td>\n",
              "            <td style=\"padding: 0 0.5em 0 0.5em; text-align: left; border: none;\">\n",
              "                AnnualIncome\n",
              "            </td>\n",
              "        </tr>\n",
              "    \n",
              "        <tr style=\"background-color: hsl(120, 100.00%, 92.19%); border: none;\">\n",
              "            <td style=\"padding: 0 1em 0 0.5em; text-align: right; border: none;\">\n",
              "                0.0588\n",
              "                \n",
              "                    &plusmn; 0.0093\n",
              "                \n",
              "            </td>\n",
              "            <td style=\"padding: 0 0.5em 0 0.5em; text-align: left; border: none;\">\n",
              "                Age\n",
              "            </td>\n",
              "        </tr>\n",
              "    \n",
              "        <tr style=\"background-color: hsl(120, 100.00%, 92.33%); border: none;\">\n",
              "            <td style=\"padding: 0 1em 0 0.5em; text-align: right; border: none;\">\n",
              "                0.0573\n",
              "                \n",
              "                    &plusmn; 0.0181\n",
              "                \n",
              "            </td>\n",
              "            <td style=\"padding: 0 0.5em 0 0.5em; text-align: left; border: none;\">\n",
              "                FamilyMembers\n",
              "            </td>\n",
              "        </tr>\n",
              "    \n",
              "        <tr style=\"background-color: hsl(120, 100.00%, 99.14%); border: none;\">\n",
              "            <td style=\"padding: 0 1em 0 0.5em; text-align: right; border: none;\">\n",
              "                0.0025\n",
              "                \n",
              "                    &plusmn; 0.0000\n",
              "                \n",
              "            </td>\n",
              "            <td style=\"padding: 0 0.5em 0 0.5em; text-align: left; border: none;\">\n",
              "                FrequentFlyer\n",
              "            </td>\n",
              "        </tr>\n",
              "    \n",
              "        <tr style=\"background-color: hsl(120, 100.00%, 99.40%); border: none;\">\n",
              "            <td style=\"padding: 0 1em 0 0.5em; text-align: right; border: none;\">\n",
              "                0.0015\n",
              "                \n",
              "                    &plusmn; 0.0051\n",
              "                \n",
              "            </td>\n",
              "            <td style=\"padding: 0 0.5em 0 0.5em; text-align: left; border: none;\">\n",
              "                EverTravelledAbroad\n",
              "            </td>\n",
              "        </tr>\n",
              "    \n",
              "        <tr style=\"background-color: hsl(120, 100.00%, 99.72%); border: none;\">\n",
              "            <td style=\"padding: 0 1em 0 0.5em; text-align: right; border: none;\">\n",
              "                0.0005\n",
              "                \n",
              "                    &plusmn; 0.0080\n",
              "                \n",
              "            </td>\n",
              "            <td style=\"padding: 0 0.5em 0 0.5em; text-align: left; border: none;\">\n",
              "                ChronicDiseases\n",
              "            </td>\n",
              "        </tr>\n",
              "    \n",
              "        <tr style=\"background-color: hsl(120, 100.00%, 99.72%); border: none;\">\n",
              "            <td style=\"padding: 0 1em 0 0.5em; text-align: right; border: none;\">\n",
              "                0.0005\n",
              "                \n",
              "                    &plusmn; 0.0020\n",
              "                \n",
              "            </td>\n",
              "            <td style=\"padding: 0 0.5em 0 0.5em; text-align: left; border: none;\">\n",
              "                GraduateOrNot\n",
              "            </td>\n",
              "        </tr>\n",
              "    \n",
              "        <tr style=\"background-color: hsl(120, 100.00%, 100.00%); border: none;\">\n",
              "            <td style=\"padding: 0 1em 0 0.5em; text-align: right; border: none;\">\n",
              "                0.0000\n",
              "                \n",
              "                    &plusmn; 0.0055\n",
              "                \n",
              "            </td>\n",
              "            <td style=\"padding: 0 0.5em 0 0.5em; text-align: left; border: none;\">\n",
              "                EmploymentType\n",
              "            </td>\n",
              "        </tr>\n",
              "    \n",
              "    \n",
              "    </tbody>\n",
              "</table>\n",
              "    \n",
              "\n",
              "    \n",
              "\n",
              "\n",
              "    \n",
              "\n",
              "    \n",
              "\n",
              "    \n",
              "\n",
              "    \n",
              "\n",
              "    \n",
              "\n",
              "    \n",
              "\n",
              "\n",
              "\n"
            ]
          },
          "metadata": {},
          "execution_count": 820
        }
      ],
      "source": [
        "#Understanding the important features \n",
        "!pip install eli5\n",
        "import eli5\n",
        "from eli5.sklearn import PermutationImportance\n",
        "perm = PermutationImportance(model_3, random_state=1).fit(X_test, y_test)\n",
        "eli5.show_weights(perm, feature_names = X_test.columns.tolist())"
      ]
    },
    {
      "cell_type": "markdown",
      "id": "e50135ff",
      "metadata": {
        "id": "e50135ff"
      },
      "source": [
        "Observations:\n",
        "* From the graph we can see that Annual Income, Family Members and Age appear to be the most significant features\n",
        "* All other variables are more or less at significanct level, quite low as compared to Income, age and no of family members"
      ]
    },
    {
      "cell_type": "markdown",
      "id": "fa2d82f0",
      "metadata": {
        "id": "fa2d82f0"
      },
      "source": [
        "<h2><i>Q9. Remove 1%, 5%, and 10% of your data randomly and impute the values back using at least 3 imputation methods. How well did the methods recover the missing values?</i></h2>"
      ]
    },
    {
      "cell_type": "markdown",
      "id": "cff65676",
      "metadata": {
        "id": "cff65676"
      },
      "source": [
        "#### Creating 1%, 5%, and 10% missing values in our dataset"
      ]
    },
    {
      "cell_type": "code",
      "execution_count": null,
      "id": "9896497a",
      "metadata": {
        "colab": {
          "base_uri": "https://localhost:8080/",
          "height": 206
        },
        "id": "9896497a",
        "outputId": "d4bd5a8e-2b9f-4060-82de-9be998adcac5"
      },
      "outputs": [
        {
          "output_type": "execute_result",
          "data": {
            "text/plain": [
              "   Age  EmploymentType  GraduateOrNot  AnnualIncome  FamilyMembers  \\\n",
              "0  0.6               1              1      0.066667       0.571429   \n",
              "1  0.6               0              1      0.633333       0.714286   \n",
              "2  0.9               0              1      0.133333       0.285714   \n",
              "3  0.3               0              1      0.266667       0.142857   \n",
              "4  0.3               0              1      0.266667       0.857143   \n",
              "\n",
              "   ChronicDiseases  FrequentFlyer  EverTravelledAbroad  TravelInsurance  \n",
              "0                1              0                    0                0  \n",
              "1                0              0                    0                0  \n",
              "2                1              0                    0                1  \n",
              "3                1              0                    0                0  \n",
              "4                1              1                    0                0  "
            ],
            "text/html": [
              "\n",
              "  <div id=\"df-8d2543d7-ebec-40f4-9ac4-e59866a334b7\">\n",
              "    <div class=\"colab-df-container\">\n",
              "      <div>\n",
              "<style scoped>\n",
              "    .dataframe tbody tr th:only-of-type {\n",
              "        vertical-align: middle;\n",
              "    }\n",
              "\n",
              "    .dataframe tbody tr th {\n",
              "        vertical-align: top;\n",
              "    }\n",
              "\n",
              "    .dataframe thead th {\n",
              "        text-align: right;\n",
              "    }\n",
              "</style>\n",
              "<table border=\"1\" class=\"dataframe\">\n",
              "  <thead>\n",
              "    <tr style=\"text-align: right;\">\n",
              "      <th></th>\n",
              "      <th>Age</th>\n",
              "      <th>EmploymentType</th>\n",
              "      <th>GraduateOrNot</th>\n",
              "      <th>AnnualIncome</th>\n",
              "      <th>FamilyMembers</th>\n",
              "      <th>ChronicDiseases</th>\n",
              "      <th>FrequentFlyer</th>\n",
              "      <th>EverTravelledAbroad</th>\n",
              "      <th>TravelInsurance</th>\n",
              "    </tr>\n",
              "  </thead>\n",
              "  <tbody>\n",
              "    <tr>\n",
              "      <th>0</th>\n",
              "      <td>0.6</td>\n",
              "      <td>1</td>\n",
              "      <td>1</td>\n",
              "      <td>0.066667</td>\n",
              "      <td>0.571429</td>\n",
              "      <td>1</td>\n",
              "      <td>0</td>\n",
              "      <td>0</td>\n",
              "      <td>0</td>\n",
              "    </tr>\n",
              "    <tr>\n",
              "      <th>1</th>\n",
              "      <td>0.6</td>\n",
              "      <td>0</td>\n",
              "      <td>1</td>\n",
              "      <td>0.633333</td>\n",
              "      <td>0.714286</td>\n",
              "      <td>0</td>\n",
              "      <td>0</td>\n",
              "      <td>0</td>\n",
              "      <td>0</td>\n",
              "    </tr>\n",
              "    <tr>\n",
              "      <th>2</th>\n",
              "      <td>0.9</td>\n",
              "      <td>0</td>\n",
              "      <td>1</td>\n",
              "      <td>0.133333</td>\n",
              "      <td>0.285714</td>\n",
              "      <td>1</td>\n",
              "      <td>0</td>\n",
              "      <td>0</td>\n",
              "      <td>1</td>\n",
              "    </tr>\n",
              "    <tr>\n",
              "      <th>3</th>\n",
              "      <td>0.3</td>\n",
              "      <td>0</td>\n",
              "      <td>1</td>\n",
              "      <td>0.266667</td>\n",
              "      <td>0.142857</td>\n",
              "      <td>1</td>\n",
              "      <td>0</td>\n",
              "      <td>0</td>\n",
              "      <td>0</td>\n",
              "    </tr>\n",
              "    <tr>\n",
              "      <th>4</th>\n",
              "      <td>0.3</td>\n",
              "      <td>0</td>\n",
              "      <td>1</td>\n",
              "      <td>0.266667</td>\n",
              "      <td>0.857143</td>\n",
              "      <td>1</td>\n",
              "      <td>1</td>\n",
              "      <td>0</td>\n",
              "      <td>0</td>\n",
              "    </tr>\n",
              "  </tbody>\n",
              "</table>\n",
              "</div>\n",
              "      <button class=\"colab-df-convert\" onclick=\"convertToInteractive('df-8d2543d7-ebec-40f4-9ac4-e59866a334b7')\"\n",
              "              title=\"Convert this dataframe to an interactive table.\"\n",
              "              style=\"display:none;\">\n",
              "        \n",
              "  <svg xmlns=\"http://www.w3.org/2000/svg\" height=\"24px\"viewBox=\"0 0 24 24\"\n",
              "       width=\"24px\">\n",
              "    <path d=\"M0 0h24v24H0V0z\" fill=\"none\"/>\n",
              "    <path d=\"M18.56 5.44l.94 2.06.94-2.06 2.06-.94-2.06-.94-.94-2.06-.94 2.06-2.06.94zm-11 1L8.5 8.5l.94-2.06 2.06-.94-2.06-.94L8.5 2.5l-.94 2.06-2.06.94zm10 10l.94 2.06.94-2.06 2.06-.94-2.06-.94-.94-2.06-.94 2.06-2.06.94z\"/><path d=\"M17.41 7.96l-1.37-1.37c-.4-.4-.92-.59-1.43-.59-.52 0-1.04.2-1.43.59L10.3 9.45l-7.72 7.72c-.78.78-.78 2.05 0 2.83L4 21.41c.39.39.9.59 1.41.59.51 0 1.02-.2 1.41-.59l7.78-7.78 2.81-2.81c.8-.78.8-2.07 0-2.86zM5.41 20L4 18.59l7.72-7.72 1.47 1.35L5.41 20z\"/>\n",
              "  </svg>\n",
              "      </button>\n",
              "      \n",
              "  <style>\n",
              "    .colab-df-container {\n",
              "      display:flex;\n",
              "      flex-wrap:wrap;\n",
              "      gap: 12px;\n",
              "    }\n",
              "\n",
              "    .colab-df-convert {\n",
              "      background-color: #E8F0FE;\n",
              "      border: none;\n",
              "      border-radius: 50%;\n",
              "      cursor: pointer;\n",
              "      display: none;\n",
              "      fill: #1967D2;\n",
              "      height: 32px;\n",
              "      padding: 0 0 0 0;\n",
              "      width: 32px;\n",
              "    }\n",
              "\n",
              "    .colab-df-convert:hover {\n",
              "      background-color: #E2EBFA;\n",
              "      box-shadow: 0px 1px 2px rgba(60, 64, 67, 0.3), 0px 1px 3px 1px rgba(60, 64, 67, 0.15);\n",
              "      fill: #174EA6;\n",
              "    }\n",
              "\n",
              "    [theme=dark] .colab-df-convert {\n",
              "      background-color: #3B4455;\n",
              "      fill: #D2E3FC;\n",
              "    }\n",
              "\n",
              "    [theme=dark] .colab-df-convert:hover {\n",
              "      background-color: #434B5C;\n",
              "      box-shadow: 0px 1px 3px 1px rgba(0, 0, 0, 0.15);\n",
              "      filter: drop-shadow(0px 1px 2px rgba(0, 0, 0, 0.3));\n",
              "      fill: #FFFFFF;\n",
              "    }\n",
              "  </style>\n",
              "\n",
              "      <script>\n",
              "        const buttonEl =\n",
              "          document.querySelector('#df-8d2543d7-ebec-40f4-9ac4-e59866a334b7 button.colab-df-convert');\n",
              "        buttonEl.style.display =\n",
              "          google.colab.kernel.accessAllowed ? 'block' : 'none';\n",
              "\n",
              "        async function convertToInteractive(key) {\n",
              "          const element = document.querySelector('#df-8d2543d7-ebec-40f4-9ac4-e59866a334b7');\n",
              "          const dataTable =\n",
              "            await google.colab.kernel.invokeFunction('convertToInteractive',\n",
              "                                                     [key], {});\n",
              "          if (!dataTable) return;\n",
              "\n",
              "          const docLinkHtml = 'Like what you see? Visit the ' +\n",
              "            '<a target=\"_blank\" href=https://colab.research.google.com/notebooks/data_table.ipynb>data table notebook</a>'\n",
              "            + ' to learn more about interactive tables.';\n",
              "          element.innerHTML = '';\n",
              "          dataTable['output_type'] = 'display_data';\n",
              "          await google.colab.output.renderOutput(dataTable, element);\n",
              "          const docLink = document.createElement('div');\n",
              "          docLink.innerHTML = docLinkHtml;\n",
              "          element.appendChild(docLink);\n",
              "        }\n",
              "      </script>\n",
              "    </div>\n",
              "  </div>\n",
              "  "
            ]
          },
          "metadata": {},
          "execution_count": 821
        }
      ],
      "source": [
        "# Coverting our independent categorical variables from Yes/No to Binary\n",
        "data_total['GraduateOrNot'] = data_total['GraduateOrNot'].apply(convert_yesno_to_binary)\n",
        "data_total['FrequentFlyer'] = data_total['FrequentFlyer'].apply(convert_yesno_to_binary)\n",
        "data_total['EverTravelledAbroad'] = data_total['EverTravelledAbroad'].apply(convert_yesno_to_binary)\n",
        "data_total['ChronicDiseases'] = data_total['ChronicDiseases'].apply(convert_yesno_to_binary)\n",
        "data_total['TravelInsurance'] = data_total['TravelInsurance'].apply(convert_yesno_to_binary)\n",
        "# Converting EmployementType to Binary\n",
        "data_total['EmploymentType'] = data_total['EmploymentType'].apply(convert_employmenttype_to_binary)\n",
        "# list of numerical columns which require normalization\n",
        "num_cols=['AnnualIncome','Age', 'FamilyMembers']\n",
        "\n",
        "# Importing required library from sklearn for normalization\n",
        "feature_to_scale = num_cols\n",
        "\n",
        "# Preparing for normalizing\n",
        "min_max_scaler = preprocessing.MinMaxScaler()\n",
        "\n",
        "# Transform the data to fit minmax processor\n",
        "data_total[feature_to_scale] = min_max_scaler.fit_transform(data_total[feature_to_scale])\n",
        "data_total.head()"
      ]
    },
    {
      "cell_type": "code",
      "execution_count": null,
      "id": "9f148929",
      "metadata": {
        "id": "9f148929"
      },
      "outputs": [],
      "source": [
        "percent=[0.01,0.05,0.1]\n",
        "train_data = data_total.astype(float)\n",
        "cols=list(train_data.columns)\n",
        "all_rows=[]\n",
        "all_cols=[]\n",
        "for per in percent:\n",
        "    nan_rows_size=int(per*len(train_data))\n",
        "    random_cols=np.random.choice(np.arange(len(cols)),nan_rows_size,replace=True)\n",
        "    random_rows=np.random.choice(np.arange(len(train_data)),nan_rows_size,replace=False)\n",
        "    all_rows.append(random_rows)\n",
        "    all_cols.append(random_cols)\n",
        "    \n",
        "#creating new dataframe with 1%,5% and 10% missing values    \n",
        "predictors_missing_1_percent=train_data.copy()\n",
        "for r_index,c_index in zip(all_rows[0],all_cols[0]):\n",
        "    predictors_missing_1_percent.at[r_index,cols[c_index]]=np.NaN\n",
        "predictors_missing_5_percent=train_data.copy()\n",
        "for r_index,c_index in zip(all_rows[1],all_cols[1]):\n",
        "    predictors_missing_5_percent.at[r_index,cols[c_index]]=np.NaN\n",
        "predictors_missing_10_percent=train_data.copy()\n",
        "for r_index,c_index in zip(all_rows[2],all_cols[2]):\n",
        "    predictors_missing_10_percent.at[r_index,cols[c_index]]=np.NaN"
      ]
    },
    {
      "cell_type": "code",
      "execution_count": null,
      "id": "0c35bc4a",
      "metadata": {
        "colab": {
          "base_uri": "https://localhost:8080/",
          "height": 278
        },
        "id": "0c35bc4a",
        "outputId": "81b156ec-de78-4df6-c0e2-eb5ca8eb8d11"
      },
      "outputs": [
        {
          "output_type": "stream",
          "name": "stdout",
          "text": [
            "Number of missing values\n",
            "1% missing 19\n",
            "5% missing 99\n",
            "10% missing 198\n"
          ]
        },
        {
          "output_type": "execute_result",
          "data": {
            "text/plain": [
              "   Age  EmploymentType  GraduateOrNot  AnnualIncome  FamilyMembers  \\\n",
              "0  0.6             1.0            1.0      0.066667       0.571429   \n",
              "1  0.6             0.0            1.0      0.633333       0.714286   \n",
              "2  0.9             0.0            1.0      0.133333       0.285714   \n",
              "3  0.3             0.0            1.0      0.266667       0.142857   \n",
              "4  0.3             0.0            1.0      0.266667       0.857143   \n",
              "\n",
              "   ChronicDiseases  FrequentFlyer  EverTravelledAbroad  TravelInsurance  \n",
              "0              1.0            0.0                  0.0              0.0  \n",
              "1              0.0            0.0                  0.0              0.0  \n",
              "2              1.0            0.0                  0.0              1.0  \n",
              "3              1.0            0.0                  0.0              0.0  \n",
              "4              1.0            1.0                  0.0              0.0  "
            ],
            "text/html": [
              "\n",
              "  <div id=\"df-1ef188f5-bf5a-46d3-80de-c4c92c9c8ff3\">\n",
              "    <div class=\"colab-df-container\">\n",
              "      <div>\n",
              "<style scoped>\n",
              "    .dataframe tbody tr th:only-of-type {\n",
              "        vertical-align: middle;\n",
              "    }\n",
              "\n",
              "    .dataframe tbody tr th {\n",
              "        vertical-align: top;\n",
              "    }\n",
              "\n",
              "    .dataframe thead th {\n",
              "        text-align: right;\n",
              "    }\n",
              "</style>\n",
              "<table border=\"1\" class=\"dataframe\">\n",
              "  <thead>\n",
              "    <tr style=\"text-align: right;\">\n",
              "      <th></th>\n",
              "      <th>Age</th>\n",
              "      <th>EmploymentType</th>\n",
              "      <th>GraduateOrNot</th>\n",
              "      <th>AnnualIncome</th>\n",
              "      <th>FamilyMembers</th>\n",
              "      <th>ChronicDiseases</th>\n",
              "      <th>FrequentFlyer</th>\n",
              "      <th>EverTravelledAbroad</th>\n",
              "      <th>TravelInsurance</th>\n",
              "    </tr>\n",
              "  </thead>\n",
              "  <tbody>\n",
              "    <tr>\n",
              "      <th>0</th>\n",
              "      <td>0.6</td>\n",
              "      <td>1.0</td>\n",
              "      <td>1.0</td>\n",
              "      <td>0.066667</td>\n",
              "      <td>0.571429</td>\n",
              "      <td>1.0</td>\n",
              "      <td>0.0</td>\n",
              "      <td>0.0</td>\n",
              "      <td>0.0</td>\n",
              "    </tr>\n",
              "    <tr>\n",
              "      <th>1</th>\n",
              "      <td>0.6</td>\n",
              "      <td>0.0</td>\n",
              "      <td>1.0</td>\n",
              "      <td>0.633333</td>\n",
              "      <td>0.714286</td>\n",
              "      <td>0.0</td>\n",
              "      <td>0.0</td>\n",
              "      <td>0.0</td>\n",
              "      <td>0.0</td>\n",
              "    </tr>\n",
              "    <tr>\n",
              "      <th>2</th>\n",
              "      <td>0.9</td>\n",
              "      <td>0.0</td>\n",
              "      <td>1.0</td>\n",
              "      <td>0.133333</td>\n",
              "      <td>0.285714</td>\n",
              "      <td>1.0</td>\n",
              "      <td>0.0</td>\n",
              "      <td>0.0</td>\n",
              "      <td>1.0</td>\n",
              "    </tr>\n",
              "    <tr>\n",
              "      <th>3</th>\n",
              "      <td>0.3</td>\n",
              "      <td>0.0</td>\n",
              "      <td>1.0</td>\n",
              "      <td>0.266667</td>\n",
              "      <td>0.142857</td>\n",
              "      <td>1.0</td>\n",
              "      <td>0.0</td>\n",
              "      <td>0.0</td>\n",
              "      <td>0.0</td>\n",
              "    </tr>\n",
              "    <tr>\n",
              "      <th>4</th>\n",
              "      <td>0.3</td>\n",
              "      <td>0.0</td>\n",
              "      <td>1.0</td>\n",
              "      <td>0.266667</td>\n",
              "      <td>0.857143</td>\n",
              "      <td>1.0</td>\n",
              "      <td>1.0</td>\n",
              "      <td>0.0</td>\n",
              "      <td>0.0</td>\n",
              "    </tr>\n",
              "  </tbody>\n",
              "</table>\n",
              "</div>\n",
              "      <button class=\"colab-df-convert\" onclick=\"convertToInteractive('df-1ef188f5-bf5a-46d3-80de-c4c92c9c8ff3')\"\n",
              "              title=\"Convert this dataframe to an interactive table.\"\n",
              "              style=\"display:none;\">\n",
              "        \n",
              "  <svg xmlns=\"http://www.w3.org/2000/svg\" height=\"24px\"viewBox=\"0 0 24 24\"\n",
              "       width=\"24px\">\n",
              "    <path d=\"M0 0h24v24H0V0z\" fill=\"none\"/>\n",
              "    <path d=\"M18.56 5.44l.94 2.06.94-2.06 2.06-.94-2.06-.94-.94-2.06-.94 2.06-2.06.94zm-11 1L8.5 8.5l.94-2.06 2.06-.94-2.06-.94L8.5 2.5l-.94 2.06-2.06.94zm10 10l.94 2.06.94-2.06 2.06-.94-2.06-.94-.94-2.06-.94 2.06-2.06.94z\"/><path d=\"M17.41 7.96l-1.37-1.37c-.4-.4-.92-.59-1.43-.59-.52 0-1.04.2-1.43.59L10.3 9.45l-7.72 7.72c-.78.78-.78 2.05 0 2.83L4 21.41c.39.39.9.59 1.41.59.51 0 1.02-.2 1.41-.59l7.78-7.78 2.81-2.81c.8-.78.8-2.07 0-2.86zM5.41 20L4 18.59l7.72-7.72 1.47 1.35L5.41 20z\"/>\n",
              "  </svg>\n",
              "      </button>\n",
              "      \n",
              "  <style>\n",
              "    .colab-df-container {\n",
              "      display:flex;\n",
              "      flex-wrap:wrap;\n",
              "      gap: 12px;\n",
              "    }\n",
              "\n",
              "    .colab-df-convert {\n",
              "      background-color: #E8F0FE;\n",
              "      border: none;\n",
              "      border-radius: 50%;\n",
              "      cursor: pointer;\n",
              "      display: none;\n",
              "      fill: #1967D2;\n",
              "      height: 32px;\n",
              "      padding: 0 0 0 0;\n",
              "      width: 32px;\n",
              "    }\n",
              "\n",
              "    .colab-df-convert:hover {\n",
              "      background-color: #E2EBFA;\n",
              "      box-shadow: 0px 1px 2px rgba(60, 64, 67, 0.3), 0px 1px 3px 1px rgba(60, 64, 67, 0.15);\n",
              "      fill: #174EA6;\n",
              "    }\n",
              "\n",
              "    [theme=dark] .colab-df-convert {\n",
              "      background-color: #3B4455;\n",
              "      fill: #D2E3FC;\n",
              "    }\n",
              "\n",
              "    [theme=dark] .colab-df-convert:hover {\n",
              "      background-color: #434B5C;\n",
              "      box-shadow: 0px 1px 3px 1px rgba(0, 0, 0, 0.15);\n",
              "      filter: drop-shadow(0px 1px 2px rgba(0, 0, 0, 0.3));\n",
              "      fill: #FFFFFF;\n",
              "    }\n",
              "  </style>\n",
              "\n",
              "      <script>\n",
              "        const buttonEl =\n",
              "          document.querySelector('#df-1ef188f5-bf5a-46d3-80de-c4c92c9c8ff3 button.colab-df-convert');\n",
              "        buttonEl.style.display =\n",
              "          google.colab.kernel.accessAllowed ? 'block' : 'none';\n",
              "\n",
              "        async function convertToInteractive(key) {\n",
              "          const element = document.querySelector('#df-1ef188f5-bf5a-46d3-80de-c4c92c9c8ff3');\n",
              "          const dataTable =\n",
              "            await google.colab.kernel.invokeFunction('convertToInteractive',\n",
              "                                                     [key], {});\n",
              "          if (!dataTable) return;\n",
              "\n",
              "          const docLinkHtml = 'Like what you see? Visit the ' +\n",
              "            '<a target=\"_blank\" href=https://colab.research.google.com/notebooks/data_table.ipynb>data table notebook</a>'\n",
              "            + ' to learn more about interactive tables.';\n",
              "          element.innerHTML = '';\n",
              "          dataTable['output_type'] = 'display_data';\n",
              "          await google.colab.output.renderOutput(dataTable, element);\n",
              "          const docLink = document.createElement('div');\n",
              "          docLink.innerHTML = docLinkHtml;\n",
              "          element.appendChild(docLink);\n",
              "        }\n",
              "      </script>\n",
              "    </div>\n",
              "  </div>\n",
              "  "
            ]
          },
          "metadata": {},
          "execution_count": 823
        }
      ],
      "source": [
        "print('Number of missing values')\n",
        "print('1% missing',predictors_missing_1_percent.isna().sum().sum())\n",
        "print('5% missing',predictors_missing_5_percent.isna().sum().sum())\n",
        "print('10% missing',predictors_missing_10_percent.isna().sum().sum())\n",
        "train_data.head(5)"
      ]
    },
    {
      "cell_type": "markdown",
      "id": "0ae4db1d",
      "metadata": {
        "id": "0ae4db1d"
      },
      "source": [
        "### Imputation Method 1: Dropping rows with  NaN values"
      ]
    },
    {
      "cell_type": "code",
      "execution_count": null,
      "id": "2b8d1661",
      "metadata": {
        "colab": {
          "base_uri": "https://localhost:8080/"
        },
        "id": "2b8d1661",
        "outputId": "1e189a05-23e4-49cf-dcfa-deaa233edde9"
      },
      "outputs": [
        {
          "output_type": "stream",
          "name": "stdout",
          "text": [
            "<class 'pandas.core.frame.DataFrame'>\n",
            "Int64Index: 1968 entries, 0 to 1986\n",
            "Data columns (total 9 columns):\n",
            " #   Column               Non-Null Count  Dtype  \n",
            "---  ------               --------------  -----  \n",
            " 0   Age                  1968 non-null   float64\n",
            " 1   EmploymentType       1968 non-null   float64\n",
            " 2   GraduateOrNot        1968 non-null   float64\n",
            " 3   AnnualIncome         1968 non-null   float64\n",
            " 4   FamilyMembers        1968 non-null   float64\n",
            " 5   ChronicDiseases      1968 non-null   float64\n",
            " 6   FrequentFlyer        1968 non-null   float64\n",
            " 7   EverTravelledAbroad  1968 non-null   float64\n",
            " 8   TravelInsurance      1968 non-null   float64\n",
            "dtypes: float64(9)\n",
            "memory usage: 153.8 KB\n"
          ]
        }
      ],
      "source": [
        "# Dropping NaN value rows from our 1%, 5% and 10% missing values dataframe and creating new dataframes\n",
        "df_1_percent_without_nan=predictors_missing_1_percent.dropna()\n",
        "df_5_percent_without_nan=predictors_missing_5_percent.dropna()\n",
        "df_10_percent_without_nan=predictors_missing_10_percent.dropna()\n",
        "df_1_percent_without_nan.info()"
      ]
    },
    {
      "cell_type": "code",
      "execution_count": null,
      "id": "de908a51",
      "metadata": {
        "id": "de908a51"
      },
      "outputs": [],
      "source": [
        "# Importing the metrics library from sklearn\n",
        "from sklearn import metrics as sm\n",
        "# Defining the function to calculate model performance scores\n",
        "def performnce_calcuation(y_true,y_pred):\n",
        "    acc=sm.accuracy_score(y_true,y_pred)\n",
        "    log_loss=sm.log_loss(y_true,y_pred)\n",
        "    auc=sm.roc_auc_score(y_true,y_pred)\n",
        "    confusion_matrix=sm.confusion_matrix(y_true,y_pred)\n",
        "    return acc,auc,log_loss,confusion_matrix"
      ]
    },
    {
      "cell_type": "code",
      "execution_count": null,
      "id": "2306e57d",
      "metadata": {
        "id": "2306e57d"
      },
      "outputs": [],
      "source": [
        "model_1=tree.DecisionTreeClassifier(random_state=42,max_depth=4)\n",
        "\n",
        "predictors=df_1_percent_without_nan.drop('TravelInsurance',axis=1)\n",
        "X_train, X_test, y_train, y_test = train_test_split(predictors, df_1_percent_without_nan['TravelInsurance'], test_size=0.25, random_state=42)\n",
        "model_1.fit(X_train,y_train)\n",
        "\n",
        "accuracy_1_te,auc_1_te,log_loss_1_te,cm_1_te=performnce_calcuation(y_test,model_1.predict(X_test))\n",
        "\n",
        "predictors=df_5_percent_without_nan.drop('TravelInsurance',axis=1)\n",
        "X_train, X_test, y_train, y_test = train_test_split(predictors, df_5_percent_without_nan['TravelInsurance'], test_size=0.25, random_state=42)\n",
        "model_1.fit(X_train,y_train)\n",
        "\n",
        "accuracy_2_te,auc_2_te,log_loss_2_te,cm_2_te=performnce_calcuation(y_test,model_1.predict(X_test))\n",
        "\n",
        "predictors=df_10_percent_without_nan.drop('TravelInsurance',axis=1)\n",
        "X_train, X_test, y_train, y_test = train_test_split(predictors, df_10_percent_without_nan['TravelInsurance'], test_size=0.25, random_state=42)\n",
        "model_1.fit(X_train,y_train)\n",
        "\n",
        "accuracy_3_te,auc_3_te,log_loss_3_te,cm_3_te=performnce_calcuation(y_test,model_1.predict(X_test))"
      ]
    },
    {
      "cell_type": "code",
      "source": [
        "print(\"-------------------------------\")\n",
        "print(f'For 1% Imputation Dataset')\n",
        "print(\"-------------------------------\")\n",
        "print(f'Accuracy: {accuracy_1_te:.2f}')\n",
        "print(f'AUC: {auc_1_te:.2f}')\n",
        "print(f'Log Loss: {log_loss_1_te:.2f}')\n",
        "print(f'Confusion Matrix:\\n {cm_1_te}')\n",
        "print(\"\\n-------------------------------\")\n",
        "print(f'For 5% Imputation Dataset')\n",
        "print(\"-------------------------------\")\n",
        "print(f'Accuracy: {accuracy_2_te:.2f}')\n",
        "print(f'AUC: {auc_2_te:.2f}')\n",
        "print(f'Log Loss: {log_loss_2_te:.2f}')\n",
        "print(f'Confusion Matrix:\\n {cm_2_te}')\n",
        "print(\"\\n-------------------------------\")\n",
        "print(f'For 10% Imputation Dataset')\n",
        "print(\"-------------------------------\")\n",
        "print(f'Accuracy: {accuracy_3_te:.2f}')\n",
        "print(f'AUC: {auc_3_te:.2f}')\n",
        "print(f'Log Loss: {log_loss_3_te:.2f}')\n",
        "print(f'Confusion Matrix:\\n {cm_3_te}')\n",
        "print(\"\\n-------------------------------\")"
      ],
      "metadata": {
        "colab": {
          "base_uri": "https://localhost:8080/"
        },
        "id": "eebVLqKOJOaO",
        "outputId": "fdff8345-7b28-4778-e428-2dbe32294821"
      },
      "id": "eebVLqKOJOaO",
      "execution_count": null,
      "outputs": [
        {
          "output_type": "stream",
          "name": "stdout",
          "text": [
            "-------------------------------\n",
            "For 1% Imputation Dataset\n",
            "-------------------------------\n",
            "Accuracy: 0.82\n",
            "AUC: 0.77\n",
            "Log Loss: 6.25\n",
            "Confusion Matrix:\n",
            " [[300   6]\n",
            " [ 83 103]]\n",
            "\n",
            "-------------------------------\n",
            "For 5% Imputation Dataset\n",
            "-------------------------------\n",
            "Accuracy: 0.83\n",
            "AUC: 0.78\n",
            "Log Loss: 5.71\n",
            "Confusion Matrix:\n",
            " [[293  10]\n",
            " [ 68 101]]\n",
            "\n",
            "-------------------------------\n",
            "For 10% Imputation Dataset\n",
            "-------------------------------\n",
            "Accuracy: 0.83\n",
            "AUC: 0.75\n",
            "Log Loss: 6.01\n",
            "Confusion Matrix:\n",
            " [[289   5]\n",
            " [ 73  81]]\n",
            "\n",
            "-------------------------------\n"
          ]
        }
      ]
    },
    {
      "cell_type": "code",
      "execution_count": null,
      "id": "cdf94296",
      "metadata": {
        "colab": {
          "base_uri": "https://localhost:8080/",
          "height": 422
        },
        "id": "cdf94296",
        "outputId": "dd3c4c28-d735-41aa-fb12-41b6b29c882b"
      },
      "outputs": [
        {
          "output_type": "execute_result",
          "data": {
            "text/plain": [
              "[<matplotlib.lines.Line2D at 0x7f1fed5546d0>]"
            ]
          },
          "metadata": {},
          "execution_count": 828
        },
        {
          "output_type": "display_data",
          "data": {
            "text/plain": [
              "<Figure size 576x432 with 1 Axes>"
            ],
            "image/png": "[encoded data removed]"
          },
          "metadata": {
            "needs_background": "light"
          }
        }
      ],
      "source": [
        "model_firssthand_accuracy = 0.84\n",
        "plt.figure(figsize=(8, 6))\n",
        "accuracy=[model_firssthand_accuracy,accuracy_1_te,accuracy_2_te,accuracy_3_te]\n",
        "log_loss=[log_loss_1_te,log_loss_2_te,log_loss_3_te]\n",
        "label=['No data imputation','1% imputation','5% imputation','10% imputation']\n",
        "plt.title('Accuracy plot vs % of data imputation')\n",
        "plt.ylabel('Accuracy')\n",
        "plt.xlabel('% of data imputation')\n",
        "plt.plot(label,accuracy)"
      ]
    },
    {
      "cell_type": "markdown",
      "source": [
        "Observations:\n",
        "* We can clearly observe that when we remove 1% of data there is a significant drop in accuracy\n",
        "* The accuracy increases from 1% to 5% and then drops again after 10% imputation of data which means that after dropping too less or too many rows from the dataset we are lossing some valuable information necessary for our prediction \n",
        "* Our dataset orginally has less rows and drop in accuracy means we are loosing on a lot of valuable information using this imputation technique"
      ],
      "metadata": {
        "id": "yt6nDh5zi5Fd"
      },
      "id": "yt6nDh5zi5Fd"
    },
    {
      "cell_type": "markdown",
      "id": "45a547bc",
      "metadata": {
        "id": "45a547bc"
      },
      "source": [
        "### Imputation Method 2 : Impute Numerical values with Median and Categorical value with Mode"
      ]
    },
    {
      "cell_type": "code",
      "source": [
        "num_cols=['Age','FamilyMembers','AnnualIncome']\n",
        "cat_cols=['EmploymentType','GraduateOrNot','ChronicDiseases','FrequentFlyer','EverTravelledAbroad','TravelInsurance']\n",
        "predict_impute_1=pd.DataFrame()\n",
        "predict_impute_5=pd.DataFrame()\n",
        "predict_impute_10=pd.DataFrame()\n",
        "for col in num_cols:\n",
        "    predict_impute_1[col]=predictors_missing_1_percent[col].fillna(predictors_missing_1_percent[col].median())\n",
        "    predict_impute_5[col]=predictors_missing_5_percent[col].fillna(predictors_missing_5_percent[col].median())\n",
        "    predict_impute_10[col]=predictors_missing_10_percent[col].fillna(predictors_missing_10_percent[col].median())\n",
        "for col in cat_cols:\n",
        "    predict_impute_1[col]=predictors_missing_1_percent[col].fillna(predictors_missing_1_percent[col].mode())\n",
        "    predict_impute_5[col]=predictors_missing_5_percent[col].fillna(predictors_missing_1_percent[col].mode())\n",
        "    predict_impute_10[col]=predictors_missing_10_percent[col].fillna(predictors_missing_1_percent[col].mode())"
      ],
      "metadata": {
        "id": "uF-2t6fL57DR"
      },
      "id": "uF-2t6fL57DR",
      "execution_count": null,
      "outputs": []
    },
    {
      "cell_type": "code",
      "source": [
        "model_1=tree.DecisionTreeClassifier(random_state=42,max_depth=4)\n",
        "\n",
        "predictors=df_1_percent_without_nan.drop('TravelInsurance',axis=1)\n",
        "X_train, X_test, y_train, y_test = train_test_split(predictors, df_1_percent_without_nan['TravelInsurance'], test_size=0.25, random_state=42)\n",
        "model_1.fit(X_train,y_train)\n",
        "\n",
        "accuracy_1_te,auc_1_te,log_loss_1_te,cm_1_te=performnce_calcuation(y_test,model_1.predict(X_test))\n",
        "\n",
        "predictors=df_5_percent_without_nan.drop('TravelInsurance',axis=1)\n",
        "X_train, X_test, y_train, y_test = train_test_split(predictors, df_5_percent_without_nan['TravelInsurance'], test_size=0.25, random_state=42)\n",
        "model_1.fit(X_train,y_train)\n",
        "\n",
        "accuracy_2_te,auc_2_te,log_loss_2_te,cm_2_te=performnce_calcuation(y_test,model_1.predict(X_test))\n",
        "\n",
        "predictors=df_10_percent_without_nan.drop('TravelInsurance',axis=1)\n",
        "X_train, X_test, y_train, y_test = train_test_split(predictors, df_10_percent_without_nan['TravelInsurance'], test_size=0.25, random_state=42)\n",
        "model_1.fit(X_train,y_train)\n",
        "\n",
        "accuracy_3_te,auc_3_te,log_loss_3_te,cm_3_te=performnce_calcuation(y_test,model_1.predict(X_test))"
      ],
      "metadata": {
        "id": "NnFl1yWj72NL"
      },
      "id": "NnFl1yWj72NL",
      "execution_count": null,
      "outputs": []
    },
    {
      "cell_type": "code",
      "source": [
        "print(\"-------------------------------\")\n",
        "print(f'For 1% Imputation Dataset')\n",
        "print(\"-------------------------------\")\n",
        "print(f'Accuracy: {accuracy_1_te:.2f}')\n",
        "print(f'AUC: {auc_1_te:.2f}')\n",
        "print(f'Log Loss: {log_loss_1_te:.2f}')\n",
        "print(f'Confusion Matrix:\\n {cm_1_te}')\n",
        "print(\"\\n-------------------------------\")\n",
        "print(f'For 5% Imputation Dataset')\n",
        "print(\"-------------------------------\")\n",
        "print(f'Accuracy: {accuracy_2_te:.2f}')\n",
        "print(f'AUC: {auc_2_te:.2f}')\n",
        "print(f'Log Loss: {log_loss_2_te:.2f}')\n",
        "print(f'Confusion Matrix:\\n {cm_2_te}')\n",
        "print(\"\\n-------------------------------\")\n",
        "print(f'For 10% Imputation Dataset')\n",
        "print(\"-------------------------------\")\n",
        "print(f'Accuracy: {accuracy_3_te:.2f}')\n",
        "print(f'AUC: {auc_3_te:.2f}')\n",
        "print(f'Log Loss: {log_loss_3_te:.2f}')\n",
        "print(f'Confusion Matrix:\\n {cm_3_te}')\n",
        "print(\"\\n-------------------------------\")"
      ],
      "metadata": {
        "colab": {
          "base_uri": "https://localhost:8080/"
        },
        "id": "BW2NyMJTMB0_",
        "outputId": "7e17434b-3091-4c3d-9a9f-c8cacadc0104"
      },
      "id": "BW2NyMJTMB0_",
      "execution_count": null,
      "outputs": [
        {
          "output_type": "stream",
          "name": "stdout",
          "text": [
            "-------------------------------\n",
            "For 1% Imputation Dataset\n",
            "-------------------------------\n",
            "Accuracy: 0.82\n",
            "AUC: 0.77\n",
            "Log Loss: 6.25\n",
            "Confusion Matrix:\n",
            " [[300   6]\n",
            " [ 83 103]]\n",
            "\n",
            "-------------------------------\n",
            "For 5% Imputation Dataset\n",
            "-------------------------------\n",
            "Accuracy: 0.83\n",
            "AUC: 0.78\n",
            "Log Loss: 5.71\n",
            "Confusion Matrix:\n",
            " [[293  10]\n",
            " [ 68 101]]\n",
            "\n",
            "-------------------------------\n",
            "For 10% Imputation Dataset\n",
            "-------------------------------\n",
            "Accuracy: 0.83\n",
            "AUC: 0.75\n",
            "Log Loss: 6.01\n",
            "Confusion Matrix:\n",
            " [[289   5]\n",
            " [ 73  81]]\n",
            "\n",
            "-------------------------------\n"
          ]
        }
      ]
    },
    {
      "cell_type": "code",
      "source": [
        "model_firssthand_accuracy = 0.83\n",
        "plt.figure(figsize=(8, 6))\n",
        "accuracy=[model_firssthand_accuracy,accuracy_1_te,accuracy_2_te,accuracy_3_te]\n",
        "log_loss=[log_loss_1_te,log_loss_2_te,log_loss_3_te]\n",
        "label=['No data imputation','1% imputation','5% imputation','10% imputation']\n",
        "plt.title('Accuracy plot vs % of data imputation')\n",
        "plt.ylabel('Accuracy')\n",
        "plt.xlabel('% of data imputed')\n",
        "plt.plot(label,accuracy)"
      ],
      "metadata": {
        "colab": {
          "base_uri": "https://localhost:8080/",
          "height": 422
        },
        "id": "Igv3F8uM8Fyt",
        "outputId": "c96d78cf-b5b3-4b5d-c88e-56b3598bfe79"
      },
      "id": "Igv3F8uM8Fyt",
      "execution_count": null,
      "outputs": [
        {
          "output_type": "execute_result",
          "data": {
            "text/plain": [
              "[<matplotlib.lines.Line2D at 0x7f1fea22f890>]"
            ]
          },
          "metadata": {},
          "execution_count": 832
        },
        {
          "output_type": "display_data",
          "data": {
            "text/plain": [
              "<Figure size 576x432 with 1 Axes>"
            ],
            "image/png": "[encoded data removed]"
          },
          "metadata": {
            "needs_background": "light"
          }
        }
      ]
    },
    {
      "cell_type": "markdown",
      "source": [
        "Observations:\n",
        "* After doing median and mode imputation of missing values, here also we see that the accuracy keeps on increases from 1% to 5% and then drops after more data imputation\n",
        "* Our dataset orginally has less rows and drop in accuracy means we are loosing on a lot of valuable information"
      ],
      "metadata": {
        "id": "7hVUklVdkEqy"
      },
      "id": "7hVUklVdkEqy"
    },
    {
      "cell_type": "markdown",
      "id": "90cdfdaa",
      "metadata": {
        "id": "90cdfdaa"
      },
      "source": [
        "### Imputation Method 3 : Impute using KNN imputer"
      ]
    },
    {
      "cell_type": "code",
      "source": [
        "from sklearn.impute import KNNImputer\n",
        "imputer = KNNImputer(n_neighbors=5)\n",
        "\n",
        "predictors=predict_impute_1.drop('TravelInsurance',axis=1)\n",
        "all_col=list(predictors.columns)\n",
        "final=imputer.fit_transform(predictors)\n",
        "imputed_df_1=pd.DataFrame(final,columns=all_col)\n",
        "\n",
        "predictors=predict_impute_5.drop('TravelInsurance',axis=1)\n",
        "all_col=list(predictors.columns)\n",
        "final=imputer.fit_transform(predictors)\n",
        "imputed_df_5=pd.DataFrame(final,columns=all_col)\n",
        "\n",
        "predictors=predict_impute_10.drop('TravelInsurance',axis=1)\n",
        "all_col=list(predictors.columns)\n",
        "final=imputer.fit_transform(predictors)\n",
        "imputed_df_10=pd.DataFrame(final,columns=all_col)"
      ],
      "metadata": {
        "id": "rT_-bG_f80_p"
      },
      "id": "rT_-bG_f80_p",
      "execution_count": null,
      "outputs": []
    },
    {
      "cell_type": "code",
      "source": [
        "model_1=tree.DecisionTreeClassifier(random_state=42,max_depth=2)\n",
        "predict_impute_1 = predict_impute_1.dropna()\n",
        "predict_impute_5 = predict_impute_5.dropna()\n",
        "predict_impute_10 = predict_impute_10.dropna()\n",
        "\n",
        "predictors=predict_impute_1.drop('TravelInsurance',axis=1)\n",
        "X_train, X_test, y_train, y_test = train_test_split(predictors, predict_impute_1['TravelInsurance'], test_size=0.25, random_state=42)\n",
        "model_1.fit(X_train,y_train)\n",
        "\n",
        "accuracy_1_te,auc_1_te,log_loss_1_te,cm_1_te=performnce_calcuation(y_test,model_1.predict(X_test))\n",
        "\n",
        "predictors=predict_impute_5.drop('TravelInsurance',axis=1)\n",
        "X_train, X_test, y_train, y_test = train_test_split(predictors, predict_impute_5['TravelInsurance'], test_size=0.25, random_state=42)\n",
        "model_1.fit(X_train,y_train)\n",
        "\n",
        "accuracy_2_te,auc_2_te,log_loss_2_te,cm_2_te=performnce_calcuation(y_test,model_1.predict(X_test))\n",
        "\n",
        "predictors=predict_impute_10.drop('TravelInsurance',axis=1)\n",
        "X_train, X_test, y_train, y_test = train_test_split(predictors, predict_impute_10['TravelInsurance'], test_size=0.25, random_state=42)\n",
        "model_1.fit(X_train,y_train)\n",
        "\n",
        "accuracy_3_te,auc_3_te,log_loss_3_te,cm_3_te=performnce_calcuation(y_test,model_1.predict(X_test))"
      ],
      "metadata": {
        "id": "v455fpRv8izc"
      },
      "id": "v455fpRv8izc",
      "execution_count": null,
      "outputs": []
    },
    {
      "cell_type": "code",
      "source": [
        "print(\"-------------------------------\")\n",
        "print(f'For 1% Imputation Dataset')\n",
        "print(\"-------------------------------\")\n",
        "print(f'Accuracy: {accuracy_1_te:.2f}')\n",
        "print(f'AUC: {auc_1_te:.2f}')\n",
        "print(f'Log Loss: {log_loss_1_te:.2f}')\n",
        "print(f'Confusion Matrix:\\n {cm_1_te}')\n",
        "print(\"\\n-------------------------------\")\n",
        "print(f'For 5% Imputation Dataset')\n",
        "print(\"-------------------------------\")\n",
        "print(f'Accuracy: {accuracy_2_te:.2f}')\n",
        "print(f'AUC: {auc_2_te:.2f}')\n",
        "print(f'Log Loss: {log_loss_2_te:.2f}')\n",
        "print(f'Confusion Matrix:\\n {cm_2_te}')\n",
        "print(\"\\n-------------------------------\")\n",
        "print(f'For 10% Imputation Dataset')\n",
        "print(\"-------------------------------\")\n",
        "print(f'Accuracy: {accuracy_3_te:.2f}')\n",
        "print(f'AUC: {auc_3_te:.2f}')\n",
        "print(f'Log Loss: {log_loss_3_te:.2f}')\n",
        "print(f'Confusion Matrix:\\n {cm_3_te}')\n",
        "print(\"\\n-------------------------------\")"
      ],
      "metadata": {
        "colab": {
          "base_uri": "https://localhost:8080/"
        },
        "id": "_NZGnRkfMEnD",
        "outputId": "a15cd058-b206-4c86-8142-97094b8bfec7"
      },
      "id": "_NZGnRkfMEnD",
      "execution_count": null,
      "outputs": [
        {
          "output_type": "stream",
          "name": "stdout",
          "text": [
            "-------------------------------\n",
            "For 1% Imputation Dataset\n",
            "-------------------------------\n",
            "Accuracy: 0.76\n",
            "AUC: 0.71\n",
            "Log Loss: 8.25\n",
            "Confusion Matrix:\n",
            " [[289   4]\n",
            " [114  87]]\n",
            "\n",
            "-------------------------------\n",
            "For 5% Imputation Dataset\n",
            "-------------------------------\n",
            "Accuracy: 0.80\n",
            "AUC: 0.70\n",
            "Log Loss: 6.85\n",
            "Confusion Matrix:\n",
            " [[318   3]\n",
            " [ 92  66]]\n",
            "\n",
            "-------------------------------\n",
            "For 10% Imputation Dataset\n",
            "-------------------------------\n",
            "Accuracy: 0.78\n",
            "AUC: 0.69\n",
            "Log Loss: 7.53\n",
            "Confusion Matrix:\n",
            " [[302   4]\n",
            " [ 98  64]]\n",
            "\n",
            "-------------------------------\n"
          ]
        }
      ]
    },
    {
      "cell_type": "code",
      "source": [
        "model_firssthand_accuracy = 0.84\n",
        "plt.figure(figsize=(8, 6))\n",
        "accuracy=[model_firssthand_accuracy,accuracy_1_te,accuracy_2_te,accuracy_3_te]\n",
        "log_loss=[log_loss_1_te,log_loss_2_te,log_loss_3_te]\n",
        "label=['No data imputation','1% imputation','5% imputation','10% imputation']\n",
        "plt.title('Accuracy plot vs % of data imputation')\n",
        "plt.ylabel('Accuracy')\n",
        "plt.xlabel('% of data imputed')\n",
        "plt.plot(label,accuracy)"
      ],
      "metadata": {
        "colab": {
          "base_uri": "https://localhost:8080/",
          "height": 422
        },
        "id": "QqHg2R538xim",
        "outputId": "a61df913-39e1-47da-be02-52c886045188"
      },
      "id": "QqHg2R538xim",
      "execution_count": null,
      "outputs": [
        {
          "output_type": "execute_result",
          "data": {
            "text/plain": [
              "[<matplotlib.lines.Line2D at 0x7f1ff1f5fad0>]"
            ]
          },
          "metadata": {},
          "execution_count": 836
        },
        {
          "output_type": "display_data",
          "data": {
            "text/plain": [
              "<Figure size 576x432 with 1 Axes>"
            ],
            "image/png": "[encoded data removed]"
          },
          "metadata": {
            "needs_background": "light"
          }
        }
      ]
    },
    {
      "cell_type": "markdown",
      "source": [
        "Observations:\n",
        "* With this technique, we first observe a decrease in accuracy after 1% data imputation \n",
        "* There is an increase in accuracy after 5% data imputation followed by a little decrease in accuracy after 10% imputation\n",
        "* The accuracy for all the imputation techniques is less than the base model's accuracy"
      ],
      "metadata": {
        "id": "5-UW_WlQk1uI"
      },
      "id": "5-UW_WlQk1uI"
    },
    {
      "cell_type": "markdown",
      "id": "8312f75f",
      "metadata": {
        "id": "8312f75f"
      },
      "source": [
        "***\n",
        "## Citations"
      ]
    },
    {
      "cell_type": "markdown",
      "id": "0d4fef1f",
      "metadata": {
        "id": "0d4fef1f"
      },
      "source": [
        "1.Many techniques used in this notebook have been adopted from the following github repositories\n",
        "\n",
        "* Owner - AI Skunkworks\n",
        "* Link - https://github.com/aiskunks/Skunks_Skool\n",
        "<br></br>\n",
        "* Author name - Prof Nik Bear Brown\n",
        "* Link - https://github.com/nikbearbrown/\n",
        "\n",
        "2.The methods and parameters of the models amd code corrections have been adapted from stackoverflow\n",
        "\n",
        "* Link - https://stackoverflow.com\n",
        "\n",
        "3.Reference has been taken from the seaborn webpage for charts and visualization\n",
        "* Link - https://seaborn.pydata.org\n"
      ]
    },
    {
      "cell_type": "markdown",
      "id": "44403a89",
      "metadata": {
        "id": "44403a89"
      },
      "source": [
        "***\n",
        "## Licensing"
      ]
    },
    {
      "cell_type": "markdown",
      "id": "2fee0467",
      "metadata": {
        "id": "2fee0467"
      },
      "source": [
        "Copyright 2022 Ankit Goyal\n",
        "\n",
        "Permission is hereby granted, free of charge, to any person obtaining a copy of this software and associated documentation files (the \"Software\"), to deal in the Software without restriction, including without limitation the rights to use, copy, modify, merge, publish, distribute, sublicense, and/or sell copies of the Software, and to permit persons to whom the Software is furnished to do so, subject to the following conditions:\n",
        "\n",
        "The above copyright notice and this permission notice shall be included in all copies or substantial portions of the Software.\n",
        "\n",
        "THE SOFTWARE IS PROVIDED \"AS IS\", WITHOUT WARRANTY OF ANY KIND, EXPRESS OR IMPLIED, INCLUDING BUT NOT LIMITED TO THE WARRANTIES OF MERCHANTABILITY, FITNESS FOR A PARTICULAR PURPOSE AND NONINFRINGEMENT. IN NO EVENT SHALL THE AUTHORS OR COPYRIGHT HOLDERS BE LIABLE FOR ANY CLAIM, DAMAGES OR OTHER LIABILITY, WHETHER IN AN ACTION OF CONTRACT, TORT OR OTHERWISE, ARISING FROM, OUT OF OR IN CONNECTION WITH THE SOFTWARE OR THE USE OR OTHER DEALINGS IN THE SOFTWARE."
      ]
    }
  ],
  "metadata": {
    "kernelspec": {
      "display_name": "Python 3 (ipykernel)",
      "language": "python",
      "name": "python3"
    },
    "language_info": {
      "codemirror_mode": {
        "name": "ipython",
        "version": 3
      },
      "file_extension": ".py",
      "mimetype": "text/x-python",
      "name": "python",
      "nbconvert_exporter": "python",
      "pygments_lexer": "ipython3",
      "version": "3.9.12"
    },
    "colab": {
      "provenance": [],
      "collapsed_sections": [
        "6bfb6d1b"
      ]
    }
  },
  "nbformat": 4,
  "nbformat_minor": 5
}