{
 "cells": [
  {
   "cell_type": "code",
   "execution_count": 107,
   "metadata": {},
   "outputs": [],
   "source": [
    "from __future__ import print_function\n",
    "import urllib3 #  pip install -i https://pypi.anaconda.org/pypi/simple urllib3\n",
    "import unicodedata\n",
    "from bs4 import BeautifulSoup, SoupStrainer, Comment\n",
    "import warnings\n",
    "warnings.filterwarnings('ignore')"
   ]
  },
  {
   "cell_type": "code",
   "execution_count": 108,
   "metadata": {
    "collapsed": true
   },
   "outputs": [],
   "source": [
    "# Artificial intelligence will change America. Here’s how. http://wapo.st/2l1oCvJ\n",
    "url='http://wapo.st/2l1oCvJ'"
   ]
  },
  {
   "cell_type": "code",
   "execution_count": 109,
   "metadata": {},
   "outputs": [
    {
     "data": {
      "text/plain": [
       "200"
      ]
     },
     "execution_count": 109,
     "metadata": {},
     "output_type": "execute_result"
    }
   ],
   "source": [
    "http = urllib3.PoolManager()\n",
    "response = http.request('GET',url)\n",
    "response.status"
   ]
  },
  {
   "cell_type": "markdown",
   "metadata": {},
   "source": [
    "### Table mapping response codes to messages; entries have the form {code: (shortmessage, longmessage)}.\n",
    "\n",
    "responses = {\n",
    "\n",
    "    100: ('Continue', 'Request received, please continue'),  \n",
    "    101: ('Switching Protocols',\n",
    "          'Switching to new protocol; obey Upgrade header'),  \n",
    "\n",
    "    200: ('OK', 'Request fulfilled, document follows'),  \n",
    "    201: ('Created', 'Document created, URL follows'),  \n",
    "    202: ('Accepted',\n",
    "          'Request accepted, processing continues off-line'),\n",
    "    203: ('Non-Authoritative Information', 'Request fulfilled from cache'),  \n",
    "    204: ('No Content', 'Request fulfilled, nothing follows'),\n",
    "    205: ('Reset Content', 'Clear input form for further input.'),\n",
    "    206: ('Partial Content', 'Partial content follows.'),\n",
    "\n",
    "    300: ('Multiple Choices',\n",
    "          'Object has several resources -- see URI list'),\n",
    "    301: ('Moved Permanently', 'Object moved permanently -- see URI list'),\n",
    "    302: ('Found', 'Object moved temporarily -- see URI list'),\n",
    "    303: ('See Other', 'Object moved -- see Method and URL list'),\n",
    "    304: ('Not Modified',\n",
    "          'Document has not changed since given time'),\n",
    "    305: ('Use Proxy',\n",
    "          'You must use proxy specified in Location to access this '\n",
    "          'resource.'),\n",
    "    307: ('Temporary Redirect',\n",
    "          'Object moved temporarily -- see URI list'),\n",
    "\n",
    "    400: ('Bad Request',\n",
    "          'Bad request syntax or unsupported method'),\n",
    "    401: ('Unauthorized',\n",
    "          'No permission -- see authorization schemes'),\n",
    "    402: ('Payment Required',\n",
    "          'No payment -- see charging schemes'),\n",
    "    403: ('Forbidden',\n",
    "          'Request forbidden -- authorization will not help'),\n",
    "    404: ('Not Found', 'Nothing matches the given URI'),\n",
    "    405: ('Method Not Allowed',\n",
    "          'Specified method is invalid for this server.'),\n",
    "    406: ('Not Acceptable', 'URI not available in preferred format.'),\n",
    "    407: ('Proxy Authentication Required', 'You must authenticate with '\n",
    "          'this proxy before proceeding.'),\n",
    "    408: ('Request Timeout', 'Request timed out; try again later.'),\n",
    "    409: ('Conflict', 'Request conflict.'),\n",
    "    410: ('Gone',\n",
    "          'URI no longer exists and has been permanently removed.'),\n",
    "    411: ('Length Required', 'Client must specify Content-Length.'),\n",
    "    412: ('Precondition Failed', 'Precondition in headers is false.'),\n",
    "    413: ('Request Entity Too Large', 'Entity is too large.'),\n",
    "    414: ('Request-URI Too Long', 'URI is too long.'),\n",
    "    415: ('Unsupported Media Type', 'Entity body in unsupported format.'),\n",
    "    416: ('Requested Range Not Satisfiable',\n",
    "          'Cannot satisfy request range.'),\n",
    "    417: ('Expectation Failed',\n",
    "          'Expect condition could not be satisfied.'),\n",
    "\n",
    "    500: ('Internal Server Error', 'Server got itself in trouble'),\n",
    "    501: ('Not Implemented',\n",
    "          'Server does not support this operation'),\n",
    "    502: ('Bad Gateway', 'Invalid responses from another server/proxy.'),\n",
    "    503: ('Service Unavailable',\n",
    "          'The server cannot process the request due to a high load'),\n",
    "    504: ('Gateway Timeout',\n",
    "          'The gateway server did not receive a timely response'),\n",
    "    505: ('HTTP Version Not Supported', 'Cannot fulfill request.'),\n",
    "    }"
   ]
  },
  {
   "cell_type": "code",
   "execution_count": 110,
   "metadata": {
    "collapsed": true
   },
   "outputs": [],
   "source": [
    "soup=BeautifulSoup(response.data, \"lxml\")"
   ]
  },
  {
   "cell_type": "code",
   "execution_count": 111,
   "metadata": {},
   "outputs": [
    {
     "data": {
      "text/plain": [
       "<article itemprop=\"articleBody\"><p>The term \\u201cartificial intelligence\\u201d is widely used, but less understood. As we see it permeate our everyday lives, we should deal with its inevitable exponential growth and learn to embrace it before tremendous economic and social changes overwhelm us.</p> <p>Part of the confusion about artificial intelligence is in the name itself. There is a tendency to think about AI as an endpoint \\u2014 the creation of self-aware beings with consciousness that exist thanks to software. This somewhat disquieting concept weighs heavily; what makes us human when software can think, too? It also distracts us from the tremendous progress that has been made in developing software that ultimately drives AI: machine learning.</p> <div class=\"inline-content inline-photo-left\" style=\"width:200px;\"> <a name=\"67f0b65d4f\"></a> <img alt=\"(Photo courtesy of Jonathan Aberman)\" src=\"https://img.washingtonpost.com/news/capital-business/wp-content/uploads/sites/17/2015/08/Aberman-in-suit-200x300.jpg\"/> <span class=\"pb-caption\">(Photo courtesy of Jonathan Aberman)</span> </div> <p>Machine learning allows software to mimic and then perform tasks that were until very recently carried out exclusively by humans. Simply put, software can now substitute for workers\\u2019 knowledge to a level where many jobs can be done as well \\u2014 or even better \\u2014 by software. This reality makes a conversation about when software will acquire consciousness somewhat superfluous.</p> <p>When you combine the explosion in competency of machine learning with a continued development of hardware that mimics human action (think robots), our society is headed into a perfect storm where both physical labor and knowledge labor are equally under threat.</p> <p>The trends are here, whether through the coming of autonomous taxis or medical diagnostics tools evaluating your well-being. There is no reason to expect this shift towards replacement to slow as machine learning applications find their way into more parts of our economy.</p> <p>The invention of the steam engine and the industrialization that followed may provide a useful analogue to the challenges our society faces today. Steam power first substituted the brute force of animals and eventually moved much human labor away from growing crops to working in cities. Subsequent technological waves such as coal power, electricity and computerization continued to change the very nature of work. Yet, through each wave, the opportunity for citizens to apply their labor persisted. Humans were the masters of technology and found new ways to find income and worth through the jobs and roles that emerged as new technologies were applied.</p> <p>Here\\u2019s the problem: I am not yet seeing a similar analogy for human workers when faced with machine learning and AI. Where are humans to go when most things they do can be better performed by software and machinery? What happens when human workers are not users of technology in their work but instead replaced by it entirely? I will admit to wanting to have an answer, but not yet finding one.</p> <p>Some say our economy will adjust, and we will find ways to engage in commerce that relies on their labor. Others are less confident and predict a continued erosion of labor as we know it, leading to widespread unemployment and social unrest.</p> <p>Other big questions raised by AI include what our expectations of privacy should be when machine learning needs our personal data to be efficient. Where do we draw the ethical lines when software must choose between two people\\u2019s lives? How will a society capable of satisfying such narrow individual needs maintain a unified culture and look out for the common good?</p> <p>The potential and promise of AI requires a discussion free of ideological rigidity. Whether change occurs as our society makes those conscious choices or while we are otherwise distracted, the evolution is upon us regardless.</p> <p><em><a href=\"https://urldefense.proofpoint.com/v2/url?u=http-3A__www.jonathanaberman.com&amp;d=DQMFAg&amp;c=RAhzPLrCAq19eJdrcQiUVEwFYoMRqGDAXQ_puw5tYjg&amp;r=7_oKOg_khM7fqT6I1JFF8DZ1AD68vuN6uPx_yK9Vb84&amp;m=MhDc_gDrORA3cHFjusdi8gmoFAnsTdLJnbHNmdl6s5Y&amp;s=2sgOj00FDno5wUDp5s44P67nxR1mJE7GocZCKDRkV8E&amp;e=\">Jonathan Aberman</a> is a business owner, entrepreneur and founder\\xa0of <a href=\"https://urldefense.proofpoint.com/v2/url?u=http-3A__www.tandemnsi.com&amp;d=DQMFAg&amp;c=RAhzPLrCAq19eJdrcQiUVEwFYoMRqGDAXQ_puw5tYjg&amp;r=7_oKOg_khM7fqT6I1JFF8DZ1AD68vuN6uPx_yK9Vb84&amp;m=MhDc_gDrORA3cHFjusdi8gmoFAnsTdLJnbHNmdl6s5Y&amp;s=UAPj_oDG2LCXsRH4hqmBARBoc_Q-N8mxI01HtST7F5M&amp;e=\">Tandem NSI</a>, a national community that connects innovators to government agencies. He is host of \\u201c<a href=\"http://federalnewsradio.com/category/radio-interviews/whats-working-washington/\">What\\u2019s Working in Washington</a>\\u201d on WFED, a program that highlights business and innovation, and he lectures at the University of Maryland\\u2019s Robert H. Smith School of Business.</em></p></article>"
      ]
     },
     "execution_count": 111,
     "metadata": {},
     "output_type": "execute_result"
    }
   ],
   "source": [
    "soup.find('article')"
   ]
  },
  {
   "cell_type": "code",
   "execution_count": 112,
   "metadata": {
    "scrolled": true
   },
   "outputs": [
    {
     "data": {
      "text/plain": [
       "u'The term \\u201cartificial intelligence\\u201d is widely used, but less understood. As we see it permeate our everyday lives, we should deal with its inevitable exponential growth and learn to embrace it before tremendous economic and social changes overwhelm us. Part of the confusion about artificial intelligence is in the name itself. There is a tendency to think about AI as an endpoint \\u2014 the creation of self-aware beings with consciousness that exist thanks to software. This somewhat disquieting concept weighs heavily; what makes us human when software can think, too? It also distracts us from the tremendous progress that has been made in developing software that ultimately drives AI: machine learning.    (Photo courtesy of Jonathan Aberman)  Machine learning allows software to mimic and then perform tasks that were until very recently carried out exclusively by humans. Simply put, software can now substitute for workers\\u2019 knowledge to a level where many jobs can be done as well \\u2014 or even better \\u2014 by software. This reality makes a conversation about when software will acquire consciousness somewhat superfluous. When you combine the explosion in competency of machine learning with a continued development of hardware that mimics human action (think robots), our society is headed into a perfect storm where both physical labor and knowledge labor are equally under threat. The trends are here, whether through the coming of autonomous taxis or medical diagnostics tools evaluating your well-being. There is no reason to expect this shift towards replacement to slow as machine learning applications find their way into more parts of our economy. The invention of the steam engine and the industrialization that followed may provide a useful analogue to the challenges our society faces today. Steam power first substituted the brute force of animals and eventually moved much human labor away from growing crops to working in cities. Subsequent technological waves such as coal power, electricity and computerization continued to change the very nature of work. Yet, through each wave, the opportunity for citizens to apply their labor persisted. Humans were the masters of technology and found new ways to find income and worth through the jobs and roles that emerged as new technologies were applied. Here\\u2019s the problem: I am not yet seeing a similar analogy for human workers when faced with machine learning and AI. Where are humans to go when most things they do can be better performed by software and machinery? What happens when human workers are not users of technology in their work but instead replaced by it entirely? I will admit to wanting to have an answer, but not yet finding one. Some say our economy will adjust, and we will find ways to engage in commerce that relies on their labor. Others are less confident and predict a continued erosion of labor as we know it, leading to widespread unemployment and social unrest. Other big questions raised by AI include what our expectations of privacy should be when machine learning needs our personal data to be efficient. Where do we draw the ethical lines when software must choose between two people\\u2019s lives? How will a society capable of satisfying such narrow individual needs maintain a unified culture and look out for the common good? The potential and promise of AI requires a discussion free of ideological rigidity. Whether change occurs as our society makes those conscious choices or while we are otherwise distracted, the evolution is upon us regardless. Jonathan Aberman is a business owner, entrepreneur and founder\\xa0of Tandem NSI, a national community that connects innovators to government agencies. He is host of \\u201cWhat\\u2019s Working in Washington\\u201d on WFED, a program that highlights business and innovation, and he lectures at the University of Maryland\\u2019s Robert H. Smith School of Business.'"
      ]
     },
     "execution_count": 112,
     "metadata": {},
     "output_type": "execute_result"
    }
   ],
   "source": [
    "soup.find('article').text"
   ]
  },
  {
   "cell_type": "code",
   "execution_count": 113,
   "metadata": {
    "scrolled": true
   },
   "outputs": [
    {
     "data": {
      "text/plain": [
       "u'The term \\u201cartificial intelligence\\u201d is widely used, but less understood. As we see it permeate our everyday lives, we should deal with its inevitable exponential growth and learn to embrace it before tremendous economic and social changes overwhelm us. Part of the confusion about artificial intelligence is in the name itself. There is a tendency to think about AI as an endpoint \\u2014 the creation of self-aware beings with consciousness that exist thanks to software. This somewhat disquieting concept weighs heavily; what makes us human when software can think, too? It also distracts us from the tremendous progress that has been made in developing software that ultimately drives AI: machine learning.    (Photo courtesy of Jonathan Aberman)  Machine learning allows software to mimic and then perform tasks that were until very recently carried out exclusively by humans. Simply put, software can now substitute for workers\\u2019 knowledge to a level where many jobs can be done as well \\u2014 or even better \\u2014 by software. This reality makes a conversation about when software will acquire consciousness somewhat superfluous. When you combine the explosion in competency of machine learning with a continued development of hardware that mimics human action (think robots), our society is headed into a perfect storm where both physical labor and knowledge labor are equally under threat. The trends are here, whether through the coming of autonomous taxis or medical diagnostics tools evaluating your well-being. There is no reason to expect this shift towards replacement to slow as machine learning applications find their way into more parts of our economy. The invention of the steam engine and the industrialization that followed may provide a useful analogue to the challenges our society faces today. Steam power first substituted the brute force of animals and eventually moved much human labor away from growing crops to working in cities. Subsequent technological waves such as coal power, electricity and computerization continued to change the very nature of work. Yet, through each wave, the opportunity for citizens to apply their labor persisted. Humans were the masters of technology and found new ways to find income and worth through the jobs and roles that emerged as new technologies were applied. Here\\u2019s the problem: I am not yet seeing a similar analogy for human workers when faced with machine learning and AI. Where are humans to go when most things they do can be better performed by software and machinery? What happens when human workers are not users of technology in their work but instead replaced by it entirely? I will admit to wanting to have an answer, but not yet finding one. Some say our economy will adjust, and we will find ways to engage in commerce that relies on their labor. Others are less confident and predict a continued erosion of labor as we know it, leading to widespread unemployment and social unrest. Other big questions raised by AI include what our expectations of privacy should be when machine learning needs our personal data to be efficient. Where do we draw the ethical lines when software must choose between two people\\u2019s lives? How will a society capable of satisfying such narrow individual needs maintain a unified culture and look out for the common good? The potential and promise of AI requires a discussion free of ideological rigidity. Whether change occurs as our society makes those conscious choices or while we are otherwise distracted, the evolution is upon us regardless. Jonathan Aberman is a business owner, entrepreneur and founder\\xa0of Tandem NSI, a national community that connects innovators to government agencies. He is host of \\u201cWhat\\u2019s Working in Washington\\u201d on WFED, a program that highlights business and innovation, and he lectures at the University of Maryland\\u2019s Robert H. Smith School of Business.'"
      ]
     },
     "execution_count": 113,
     "metadata": {},
     "output_type": "execute_result"
    }
   ],
   "source": [
    "text = ' '.join(map(lambda p: p.text, soup.find_all('article')))\n",
    "text"
   ]
  },
  {
   "cell_type": "code",
   "execution_count": 114,
   "metadata": {
    "collapsed": true
   },
   "outputs": [],
   "source": [
    "article=''\n",
    "try:\n",
    "  article=unicodedata.normalize('NFKD',soup.find('article').text).encode('ascii', 'ignore')\n",
    "except:\n",
    "  pass"
   ]
  },
  {
   "cell_type": "code",
   "execution_count": 115,
   "metadata": {},
   "outputs": [
    {
     "data": {
      "text/plain": [
       "'The term artificial intelligence is widely used, but less understood. As we see it permeate our everyday lives, we should deal with its inevitable exponential growth and learn to embrace it before tremendous economic and social changes overwhelm us. Part of the confusion about artificial intelligence is in the name itself. There is a tendency to think about AI as an endpoint  the creation of self-aware beings with consciousness that exist thanks to software. This somewhat disquieting concept weighs heavily; what makes us human when software can think, too? It also distracts us from the tremendous progress that has been made in developing software that ultimately drives AI: machine learning.    (Photo courtesy of Jonathan Aberman)  Machine learning allows software to mimic and then perform tasks that were until very recently carried out exclusively by humans. Simply put, software can now substitute for workers knowledge to a level where many jobs can be done as well  or even better  by software. This reality makes a conversation about when software will acquire consciousness somewhat superfluous. When you combine the explosion in competency of machine learning with a continued development of hardware that mimics human action (think robots), our society is headed into a perfect storm where both physical labor and knowledge labor are equally under threat. The trends are here, whether through the coming of autonomous taxis or medical diagnostics tools evaluating your well-being. There is no reason to expect this shift towards replacement to slow as machine learning applications find their way into more parts of our economy. The invention of the steam engine and the industrialization that followed may provide a useful analogue to the challenges our society faces today. Steam power first substituted the brute force of animals and eventually moved much human labor away from growing crops to working in cities. Subsequent technological waves such as coal power, electricity and computerization continued to change the very nature of work. Yet, through each wave, the opportunity for citizens to apply their labor persisted. Humans were the masters of technology and found new ways to find income and worth through the jobs and roles that emerged as new technologies were applied. Heres the problem: I am not yet seeing a similar analogy for human workers when faced with machine learning and AI. Where are humans to go when most things they do can be better performed by software and machinery? What happens when human workers are not users of technology in their work but instead replaced by it entirely? I will admit to wanting to have an answer, but not yet finding one. Some say our economy will adjust, and we will find ways to engage in commerce that relies on their labor. Others are less confident and predict a continued erosion of labor as we know it, leading to widespread unemployment and social unrest. Other big questions raised by AI include what our expectations of privacy should be when machine learning needs our personal data to be efficient. Where do we draw the ethical lines when software must choose between two peoples lives? How will a society capable of satisfying such narrow individual needs maintain a unified culture and look out for the common good? The potential and promise of AI requires a discussion free of ideological rigidity. Whether change occurs as our society makes those conscious choices or while we are otherwise distracted, the evolution is upon us regardless. Jonathan Aberman is a business owner, entrepreneur and founder of Tandem NSI, a national community that connects innovators to government agencies. He is host of Whats Working in Washington on WFED, a program that highlights business and innovation, and he lectures at the University of Marylands Robert H. Smith School of Business.'"
      ]
     },
     "execution_count": 115,
     "metadata": {},
     "output_type": "execute_result"
    }
   ],
   "source": [
    "article"
   ]
  },
  {
   "cell_type": "code",
   "execution_count": 116,
   "metadata": {},
   "outputs": [
    {
     "data": {
      "text/plain": [
       "'The term artificial intelligence is widely used, but less understood. As we see it permeate our everyday lives, we should deal with its inevitable exponential growth and learn to embrace it before tremendous economic and social changes overwhelm us. Part of the confusion about artificial intelligence is in the name itself. There is a tendency to think about AI as an endpoint  the creation of self-aware beings with consciousness that exist thanks to software. This somewhat disquieting concept weighs heavily; what makes us human when software can think, too? It also distracts us from the tremendous progress that has been made in developing software that ultimately drives AI: machine learning.    (Photo courtesy of Jonathan Aberman)  Machine learning allows software to mimic and then perform tasks that were until very recently carried out exclusively by humans. Simply put, software can now substitute for workers knowledge to a level where many jobs can be done as well  or even better  by software. This reality makes a conversation about when software will acquire consciousness somewhat superfluous. When you combine the explosion in competency of machine learning with a continued development of hardware that mimics human action (think robots), our society is headed into a perfect storm where both physical labor and knowledge labor are equally under threat. The trends are here, whether through the coming of autonomous taxis or medical diagnostics tools evaluating your well-being. There is no reason to expect this shift towards replacement to slow as machine learning applications find their way into more parts of our economy. The invention of the steam engine and the industrialization that followed may provide a useful analogue to the challenges our society faces today. Steam power first substituted the brute force of animals and eventually moved much human labor away from growing crops to working in cities. Subsequent technological waves such as coal power, electricity and computerization continued to change the very nature of work. Yet, through each wave, the opportunity for citizens to apply their labor persisted. Humans were the masters of technology and found new ways to find income and worth through the jobs and roles that emerged as new technologies were applied. Heres the problem: I am not yet seeing a similar analogy for human workers when faced with machine learning and AI. Where are humans to go when most things they do can be better performed by software and machinery? What happens when human workers are not users of technology in their work but instead replaced by it entirely? I will admit to wanting to have an answer, but not yet finding one. Some say our economy will adjust, and we will find ways to engage in commerce that relies on their labor. Others are less confident and predict a continued erosion of labor as we know it, leading to widespread unemployment and social unrest. Other big questions raised by AI include what our expectations of privacy should be when machine learning needs our personal data to be efficient. Where do we draw the ethical lines when software must choose between two peoples lives? How will a society capable of satisfying such narrow individual needs maintain a unified culture and look out for the common good? The potential and promise of AI requires a discussion free of ideological rigidity. Whether change occurs as our society makes those conscious choices or while we are otherwise distracted, the evolution is upon us regardless. Jonathan Aberman is a business owner, entrepreneur and founder of Tandem NSI, a national community that connects innovators to government agencies. He is host of Whats Working in Washington on WFED, a program that highlights business and innovation, and he lectures at the University of Marylands Robert H. Smith School of Business.'"
      ]
     },
     "execution_count": 116,
     "metadata": {},
     "output_type": "execute_result"
    }
   ],
   "source": [
    "text = ' '.join(map(lambda p: p.text, soup.find_all('article')))\n",
    "try:\n",
    "  text=unicodedata.normalize('NFKD',text).encode('ascii', 'ignore')\n",
    "except:\n",
    "  pass\n",
    "text"
   ]
  },
  {
   "cell_type": "code",
   "execution_count": 117,
   "metadata": {
    "collapsed": true
   },
   "outputs": [],
   "source": [
    "html = \"\"\"\n",
    "<html><head><title>-- e. e. cummings,\n",
    "                      *somewhere i have never travelled,gladly beyond*</title></head>\n",
    "<body>\n",
    "<p class=\"title\"><b>*somewhere i have never travelled,gladly beyond*</b></p>\n",
    "\n",
    "<p class=\"poem\">(I do not know what it is about you that closes\n",
    "and opens;only something in me understands\n",
    "the voice of your eyes is deeper than all roses)\n",
    "nobody,not even the rain,has such small hands,</p>\n",
    "\n",
    "<p class=\"poet\">-- e. e. cummings,</p>\n",
    "\n",
    "<p class=\"links\">-- e. e. cummings links <br />\n",
    "    <a class=\"cummings\" href=\"https://www.poetryfoundation.org/poems-and-poets/poets/detail/e-e-cummings\" id=\"link1\">\n",
    "     poetryfoundation.org e. e. cummings\n",
    "    </a>, \n",
    "    <a class=\"cummings\" href=\"https://www.poets.org/poetsorg/poet/e-e-cummings\" id=\"link2\">\n",
    "      poets.org e. e. cummings\n",
    "    </a>\n",
    "     and\n",
    "    <a class=\"cummings\" href=\"https://en.wikipedia.org/wiki/E._E._Cummings\" id=\"link3\">\n",
    "     wikipedia e. e. cummings\n",
    "    </a>\n",
    "\n",
    "</p>\n",
    "\"\"\""
   ]
  },
  {
   "cell_type": "code",
   "execution_count": 118,
   "metadata": {
    "collapsed": true
   },
   "outputs": [],
   "source": [
    "s=BeautifulSoup(html, \"lxml\")"
   ]
  },
  {
   "cell_type": "code",
   "execution_count": 119,
   "metadata": {},
   "outputs": [
    {
     "name": "stdout",
     "output_type": "stream",
     "text": [
      "<html>\n",
      " <head>\n",
      "  <title>\n",
      "   -- e. e. cummings,\n",
      "                      *somewhere i have never travelled,gladly beyond*\n",
      "  </title>\n",
      " </head>\n",
      " <body>\n",
      "  <p class=\"title\">\n",
      "   <b>\n",
      "    *somewhere i have never travelled,gladly beyond*\n",
      "   </b>\n",
      "  </p>\n",
      "  <p class=\"poem\">\n",
      "   (I do not know what it is about you that closes\n",
      "and opens;only something in me understands\n",
      "the voice of your eyes is deeper than all roses)\n",
      "nobody,not even the rain,has such small hands,\n",
      "  </p>\n",
      "  <p class=\"poet\">\n",
      "   -- e. e. cummings,\n",
      "  </p>\n",
      "  <p class=\"links\">\n",
      "   -- e. e. cummings links\n",
      "   <br/>\n",
      "   <a class=\"cummings\" href=\"https://www.poetryfoundation.org/poems-and-poets/poets/detail/e-e-cummings\" id=\"link1\">\n",
      "    poetryfoundation.org e. e. cummings\n",
      "   </a>\n",
      "   ,\n",
      "   <a class=\"cummings\" href=\"https://www.poets.org/poetsorg/poet/e-e-cummings\" id=\"link2\">\n",
      "    poets.org e. e. cummings\n",
      "   </a>\n",
      "   and\n",
      "   <a class=\"cummings\" href=\"https://en.wikipedia.org/wiki/E._E._Cummings\" id=\"link3\">\n",
      "    wikipedia e. e. cummings\n",
      "   </a>\n",
      "  </p>\n",
      " </body>\n",
      "</html>\n"
     ]
    }
   ],
   "source": [
    "print(s.prettify())"
   ]
  },
  {
   "cell_type": "code",
   "execution_count": 120,
   "metadata": {},
   "outputs": [
    {
     "data": {
      "text/plain": [
       "<title>-- e. e. cummings,\\n                      *somewhere i have never travelled,gladly beyond*</title>"
      ]
     },
     "execution_count": 120,
     "metadata": {},
     "output_type": "execute_result"
    }
   ],
   "source": [
    "s.title"
   ]
  },
  {
   "cell_type": "code",
   "execution_count": 121,
   "metadata": {},
   "outputs": [
    {
     "data": {
      "text/plain": [
       "'title'"
      ]
     },
     "execution_count": 121,
     "metadata": {},
     "output_type": "execute_result"
    }
   ],
   "source": [
    "s.title.name"
   ]
  },
  {
   "cell_type": "code",
   "execution_count": 122,
   "metadata": {},
   "outputs": [
    {
     "data": {
      "text/plain": [
       "u'-- e. e. cummings,\\n                      *somewhere i have never travelled,gladly beyond*'"
      ]
     },
     "execution_count": 122,
     "metadata": {},
     "output_type": "execute_result"
    }
   ],
   "source": [
    "s.title.string"
   ]
  },
  {
   "cell_type": "code",
   "execution_count": 123,
   "metadata": {},
   "outputs": [
    {
     "data": {
      "text/plain": [
       "'head'"
      ]
     },
     "execution_count": 123,
     "metadata": {},
     "output_type": "execute_result"
    }
   ],
   "source": [
    "s.title.parent.name"
   ]
  },
  {
   "cell_type": "code",
   "execution_count": 124,
   "metadata": {},
   "outputs": [
    {
     "data": {
      "text/plain": [
       "<p class=\"title\"><b>*somewhere i have never travelled,gladly beyond*</b></p>"
      ]
     },
     "execution_count": 124,
     "metadata": {},
     "output_type": "execute_result"
    }
   ],
   "source": [
    "s.p"
   ]
  },
  {
   "cell_type": "code",
   "execution_count": 125,
   "metadata": {},
   "outputs": [
    {
     "data": {
      "text/plain": [
       "['title']"
      ]
     },
     "execution_count": 125,
     "metadata": {},
     "output_type": "execute_result"
    }
   ],
   "source": [
    "s.p['class']"
   ]
  },
  {
   "cell_type": "code",
   "execution_count": 126,
   "metadata": {},
   "outputs": [
    {
     "data": {
      "text/plain": [
       "<a class=\"cummings\" href=\"https://www.poetryfoundation.org/poems-and-poets/poets/detail/e-e-cummings\" id=\"link1\">\\n     poetryfoundation.org e. e. cummings\\n    </a>"
      ]
     },
     "execution_count": 126,
     "metadata": {},
     "output_type": "execute_result"
    }
   ],
   "source": [
    "s.a"
   ]
  },
  {
   "cell_type": "code",
   "execution_count": 127,
   "metadata": {},
   "outputs": [
    {
     "data": {
      "text/plain": [
       "[<a class=\"cummings\" href=\"https://www.poetryfoundation.org/poems-and-poets/poets/detail/e-e-cummings\" id=\"link1\">\\n     poetryfoundation.org e. e. cummings\\n    </a>,\n",
       " <a class=\"cummings\" href=\"https://www.poets.org/poetsorg/poet/e-e-cummings\" id=\"link2\">\\n      poets.org e. e. cummings\\n    </a>,\n",
       " <a class=\"cummings\" href=\"https://en.wikipedia.org/wiki/E._E._Cummings\" id=\"link3\">\\n     wikipedia e. e. cummings\\n    </a>]"
      ]
     },
     "execution_count": 127,
     "metadata": {},
     "output_type": "execute_result"
    }
   ],
   "source": [
    "s.find_all('a')"
   ]
  }
 ],
 "metadata": {
  "kernelspec": {
   "display_name": "Python 3",
   "language": "python",
   "name": "python3"
  },
  "language_info": {
   "codemirror_mode": {
    "name": "ipython",
    "version": 3
   },
   "file_extension": ".py",
   "mimetype": "text/x-python",
   "name": "python",
   "nbconvert_exporter": "python",
   "pygments_lexer": "ipython3",
   "version": "3.6.1"
  }
 },
 "nbformat": 4,
 "nbformat_minor": 1
}
