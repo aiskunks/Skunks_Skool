{
 "cells": [
  {
   "cell_type": "markdown",
   "metadata": {},
   "source": [
    "## Intro to Python Data Structures"
   ]
  },
  {
   "cell_type": "markdown",
   "metadata": {},
   "source": [
    "### Learning tips.\n",
    "\n",
    "* Practice, practice, practice.  \n",
    "\n",
    "* Get used to making mistakes! It’s OK.  \n",
    "\n",
    "* Don’t memorize. There are thousands packages in python.  Learn to read documentation.  \n"
   ]
  },
  {
   "cell_type": "markdown",
   "metadata": {},
   "source": [
    "###  Strings"
   ]
  },
  {
   "cell_type": "code",
   "execution_count": 107,
   "metadata": {},
   "outputs": [
    {
     "name": "stdout",
     "output_type": "stream",
     "text": [
      "Rick & Morty\n"
     ]
    }
   ],
   "source": [
    "from __future__ import print_function\n",
    "x = 'Rick'\n",
    "y = 'Morty'\n",
    "print(x + ' & ' + y)"
   ]
  },
  {
   "cell_type": "code",
   "execution_count": 108,
   "metadata": {},
   "outputs": [
    {
     "name": "stdout",
     "output_type": "stream",
     "text": [
      "RickRickRickRickRickRickRickRickRickRickRick\n"
     ]
    }
   ],
   "source": [
    "print(x*11)"
   ]
  },
  {
   "cell_type": "code",
   "execution_count": 109,
   "metadata": {},
   "outputs": [
    {
     "name": "stdout",
     "output_type": "stream",
     "text": [
      "ck\n"
     ]
    }
   ],
   "source": [
    "print(x[2:])"
   ]
  },
  {
   "cell_type": "code",
   "execution_count": 110,
   "metadata": {},
   "outputs": [
    {
     "name": "stdout",
     "output_type": "stream",
     "text": [
      "bear\n",
      "Bear\n"
     ]
    }
   ],
   "source": [
    "z='bear'\n",
    "print(z)\n",
    "print(str.capitalize(z))"
   ]
  },
  {
   "cell_type": "code",
   "execution_count": 111,
   "metadata": {},
   "outputs": [
    {
     "data": {
      "text/plain": [
       "False"
      ]
     },
     "execution_count": 111,
     "metadata": {},
     "output_type": "execute_result"
    }
   ],
   "source": [
    "z.isdigit()"
   ]
  },
  {
   "cell_type": "code",
   "execution_count": 112,
   "metadata": {},
   "outputs": [
    {
     "data": {
      "text/plain": [
       "True"
      ]
     },
     "execution_count": 112,
     "metadata": {},
     "output_type": "execute_result"
    }
   ],
   "source": [
    "z='5'\n",
    "z.isdigit()"
   ]
  },
  {
   "cell_type": "code",
   "execution_count": 113,
   "metadata": {
    "scrolled": false
   },
   "outputs": [
    {
     "name": "stdout",
     "output_type": "stream",
     "text": [
      "Morty\n",
      "MOOOOOrty\n",
      "Morty\n"
     ]
    }
   ],
   "source": [
    "print(y)\n",
    "print(y.replace('o', 'OOOOO'))\n",
    "print(y)"
   ]
  },
  {
   "cell_type": "markdown",
   "metadata": {},
   "source": [
    "## Data Structures"
   ]
  },
  {
   "cell_type": "markdown",
   "metadata": {},
   "source": [
    "## Arrays"
   ]
  },
  {
   "cell_type": "code",
   "execution_count": 114,
   "metadata": {
    "scrolled": false
   },
   "outputs": [
    {
     "name": "stdout",
     "output_type": "stream",
     "text": [
      "bBuhHiIlLqQfd\n"
     ]
    }
   ],
   "source": [
    "import array as arr\n",
    "print(arr.typecodes)"
   ]
  },
  {
   "cell_type": "markdown",
   "metadata": {},
   "source": [
    "\n",
    "Type code\tC Type\tPython Type\tMinimum size in bytes\t   \n",
    "'b'\tsigned char\tint\t1\t   \n",
    "'B'\tunsigned char\tint\t1\t    \n",
    "'u'\tPy_UNICODE\tUnicode character\t2\t(1)    \n",
    "'h'\tsigned short\tint\t2\t    \n",
    "'H'\tunsigned short\tint\t2\t    \n",
    "'i'\tsigned int\tint\t2\t   \n",
    "'I'\tunsigned int\tint\t2\t   \n",
    "'l'\tsigned long\tint\t4\t   \n",
    "'L'\tunsigned long\tint\t4\t   \n",
    "'q'\tsigned long long\tint\t8\t(2)   \n",
    "'Q'\tunsigned long long\tint\t8\t(2)   \n",
    "'f'\tfloat\tfloat\t4\t   \n",
    "'d'\tdouble\tfloat\t8\t   \n"
   ]
  },
  {
   "cell_type": "code",
   "execution_count": 115,
   "metadata": {},
   "outputs": [
    {
     "name": "stdout",
     "output_type": "stream",
     "text": [
      "<class 'array.array'>\n",
      "array('u', '357')\n",
      "3\n",
      "<class 'str'>\n"
     ]
    }
   ],
   "source": [
    "a = arr.array(\"u\",['3','5','7'])\n",
    "print(type(a))\n",
    "print(a)\n",
    "print(a[0])\n",
    "print(type(a[0]))"
   ]
  },
  {
   "cell_type": "code",
   "execution_count": 116,
   "metadata": {},
   "outputs": [
    {
     "name": "stdout",
     "output_type": "stream",
     "text": [
      "<class 'array.array'>\n",
      "array('B', [3, 5, 7])\n",
      "3\n",
      "<class 'int'>\n",
      "array('B', [3, 5, 7, 9])\n"
     ]
    }
   ],
   "source": [
    "a = arr.array(\"B\",[3,5,7])\n",
    "print(type(a))\n",
    "print(a)\n",
    "print(a[0])\n",
    "print(type(a[0]))\n",
    "a.append(9)\n",
    "print(a)"
   ]
  },
  {
   "cell_type": "markdown",
   "metadata": {},
   "source": [
    "The following data items and methods are also supported:\n",
    "\n",
    "array.typecode\n",
    "The typecode character used to create the array.\n",
    "\n",
    "array.itemsize\n",
    "The length in bytes of one array item in the internal representation.\n",
    "\n",
    "array.append(x)\n",
    "Append a new item with value x to the end of the array.\n",
    "\n",
    "array.buffer_info()\n",
    "Return a tuple (address, length) giving the current memory address and the length in elements of the buffer used to hold array’s contents. The size of the memory buffer in bytes can be computed as array.buffer_info()[1] * array.itemsize. This is occasionally useful when working with low-level (and inherently unsafe) I/O interfaces that require memory addresses, such as certain ioctl() operations. The returned numbers are valid as long as the array exists and no length-changing operations are applied to it.\n",
    "\n",
    "Note When using array objects from code written in C or C++ (the only way to effectively make use of this information), it makes more sense to use the buffer interface supported by array objects. This method is maintained for backward compatibility and should be avoided in new code. The buffer interface is documented in Buffer Protocol.\n",
    "array.byteswap()\n",
    "“Byteswap” all items of the array. This is only supported for values which are 1, 2, 4, or 8 bytes in size; for other types of values, RuntimeError is raised. It is useful when reading data from a file written on a machine with a different byte order.\n",
    "\n",
    "array.count(x)\n",
    "Return the number of occurrences of x in the array.\n",
    "\n",
    "array.extend(iterable)\n",
    "Append items from iterable to the end of the array. If iterable is another array, it must have exactly the same type code; if not, TypeError will be raised. If iterable is not an array, it must be iterable and its elements must be the right type to be appended to the array.\n",
    "\n",
    "array.frombytes(s)\n",
    "Appends items from the string, interpreting the string as an array of machine values (as if it had been read from a file using the fromfile() method).\n",
    "\n",
    "New in version 3.2: fromstring() is renamed to frombytes() for clarity.\n",
    "\n",
    "array.fromfile(f, n)\n",
    "Read n items (as machine values) from the file object f and append them to the end of the array. If less than n items are available, EOFError is raised, but the items that were available are still inserted into the array. f must be a real built-in file object; something else with a read() method won’t do.\n",
    "\n",
    "array.fromlist(list)\n",
    "Append items from the list. This is equivalent to for x in list: a.append(x) except that if there is a type error, the array is unchanged.\n",
    "\n",
    "array.fromstring()\n",
    "Deprecated alias for frombytes().\n",
    "\n",
    "array.fromunicode(s)\n",
    "Extends this array with data from the given unicode string. The array must be a type 'u' array; otherwise a ValueError is raised. Use array.frombytes(unicodestring.encode(enc)) to append Unicode data to an array of some other type.\n",
    "\n",
    "array.index(x)\n",
    "Return the smallest i such that i is the index of the first occurrence of x in the array.\n",
    "\n",
    "array.insert(i, x)\n",
    "Insert a new item with value x in the array before position i. Negative values are treated as being relative to the end of the array.\n",
    "\n",
    "array.pop([i])\n",
    "Removes the item with the index i from the array and returns it. The optional argument defaults to -1, so that by default the last item is removed and returned.\n",
    "\n",
    "array.remove(x)\n",
    "Remove the first occurrence of x from the array.\n",
    "\n",
    "array.reverse()\n",
    "Reverse the order of the items in the array.\n",
    "\n",
    "array.tobytes()\n",
    "Convert the array to an array of machine values and return the bytes representation (the same sequence of bytes that would be written to a file by the tofile() method.)\n",
    "\n",
    "New in version 3.2: tostring() is renamed to tobytes() for clarity.\n",
    "\n",
    "array.tofile(f)\n",
    "Write all items (as machine values) to the file object f.\n",
    "\n",
    "array.tolist()\n",
    "Convert the array to an ordinary list with the same items.\n",
    "\n",
    "array.tostring()\n",
    "Deprecated alias for tobytes().\n",
    "\n",
    "array.tounicode()\n",
    "Convert the array to a unicode string. The array must be a type 'u' array; otherwise a ValueError is raised. Use array.tobytes().decode(enc) to obtain a unicode string from an array of some other type."
   ]
  },
  {
   "cell_type": "code",
   "execution_count": 117,
   "metadata": {},
   "outputs": [
    {
     "name": "stdout",
     "output_type": "stream",
     "text": [
      "array('l')\n",
      "array('u', 'hello ♁')\n",
      "array('l', [1, 2, 3, 4, 5])\n",
      "array('d', [1.0, 2.0, 3.14])\n"
     ]
    }
   ],
   "source": [
    "b=arr.array('l')\n",
    "print(b)\n",
    "c=arr.array('u', 'hello \\u2641')\n",
    "print(c)\n",
    "d=arr.array('l', [1, 2, 3, 4, 5])\n",
    "print(d)\n",
    "e=arr.array('d', [1.0, 2.0, 3.14])\n",
    "print(e)"
   ]
  },
  {
   "cell_type": "markdown",
   "metadata": {},
   "source": [
    "### Arrays versus Lists  \n",
    "\n",
    "Why do you need arrays at all. They are different in terms of the operations one can perform on them. With arrays, you can perform an operations on all its item individually, which may not be the case with lists. "
   ]
  },
  {
   "cell_type": "code",
   "execution_count": 118,
   "metadata": {},
   "outputs": [
    {
     "name": "stdout",
     "output_type": "stream",
     "text": [
      "array('u', 'cats')\n"
     ]
    }
   ],
   "source": [
    "a = arr.array(\"u\",[\"c\",\"a\",\"t\",\"s\"])\n",
    "print(a)"
   ]
  },
  {
   "cell_type": "code",
   "execution_count": 119,
   "metadata": {},
   "outputs": [
    {
     "name": "stdout",
     "output_type": "stream",
     "text": [
      "array('u', 'cats')\n"
     ]
    }
   ],
   "source": [
    "a.tostring()\n",
    "print(a)"
   ]
  },
  {
   "cell_type": "code",
   "execution_count": 120,
   "metadata": {},
   "outputs": [
    {
     "name": "stdout",
     "output_type": "stream",
     "text": [
      "cats\n"
     ]
    }
   ],
   "source": [
    "l = [\"c\",\"a\",\"t\",\"s\"]\n",
    "s=''.join(l)\n",
    "print(s)"
   ]
  },
  {
   "cell_type": "markdown",
   "metadata": {},
   "source": [
    "## NumPy Arrays\n",
    "\n",
    "See [https://docs.scipy.org/doc/numpy-dev/user/quickstart.html](https://docs.scipy.org/doc/numpy-dev/user/quickstart.html)"
   ]
  },
  {
   "cell_type": "code",
   "execution_count": 121,
   "metadata": {},
   "outputs": [
    {
     "name": "stdout",
     "output_type": "stream",
     "text": [
      "[3 5 7]\n",
      "[ 1.          1.66666667  2.33333333]\n"
     ]
    }
   ],
   "source": [
    "import numpy as np\n",
    "\n",
    "a = np.array([3, 5, 7])\n",
    "print(a)\n",
    "b = a/3.0 # Performing vectorized (element-wise) operations \n",
    "print(b)"
   ]
  },
  {
   "cell_type": "code",
   "execution_count": 122,
   "metadata": {},
   "outputs": [
    {
     "name": "stdout",
     "output_type": "stream",
     "text": [
      "[ 1.  1.  1.  1.  1.]\n"
     ]
    }
   ],
   "source": [
    "o = np.ones(5)\n",
    "print(o)"
   ]
  },
  {
   "cell_type": "code",
   "execution_count": 123,
   "metadata": {},
   "outputs": [
    {
     "name": "stdout",
     "output_type": "stream",
     "text": [
      "[ 0.  0.  0.  0.  0.]\n"
     ]
    }
   ],
   "source": [
    "o = np.zeros(5)\n",
    "print(o)"
   ]
  },
  {
   "cell_type": "code",
   "execution_count": 124,
   "metadata": {},
   "outputs": [
    {
     "name": "stdout",
     "output_type": "stream",
     "text": [
      "[[ 0  1  2  3  4]\n",
      " [ 5  6  7  8  9]\n",
      " [10 11 12 13 14]]\n"
     ]
    }
   ],
   "source": [
    "a = np.arange(15).reshape(3, 5)\n",
    "print(a)"
   ]
  },
  {
   "cell_type": "code",
   "execution_count": 125,
   "metadata": {},
   "outputs": [
    {
     "name": "stdout",
     "output_type": "stream",
     "text": [
      "(3, 5)\n",
      "2\n",
      "int64\n",
      "8\n",
      "15\n",
      "<class 'numpy.ndarray'>\n"
     ]
    }
   ],
   "source": [
    "print(a.shape)\n",
    "print(a.ndim)\n",
    "print(a.dtype.name)\n",
    "print(a.itemsize)\n",
    "print(a.size)\n",
    "print(type(a))"
   ]
  },
  {
   "cell_type": "code",
   "execution_count": 126,
   "metadata": {},
   "outputs": [
    {
     "name": "stdout",
     "output_type": "stream",
     "text": [
      "[[ 0  5 10 15 20]\n",
      " [25 30 35 40 45]\n",
      " [50 55 60 65 70]]\n"
     ]
    }
   ],
   "source": [
    "a*=5\n",
    "print(a)"
   ]
  },
  {
   "cell_type": "code",
   "execution_count": 127,
   "metadata": {},
   "outputs": [
    {
     "name": "stdout",
     "output_type": "stream",
     "text": [
      "[1 2 3 4]\n"
     ]
    }
   ],
   "source": [
    "a = np.array([1,2,3,4])\n",
    "print(a)"
   ]
  },
  {
   "cell_type": "code",
   "execution_count": 128,
   "metadata": {},
   "outputs": [
    {
     "name": "stdout",
     "output_type": "stream",
     "text": [
      "[[ 1.5  2.   3. ]\n",
      " [ 4.   5.   6. ]]\n"
     ]
    }
   ],
   "source": [
    "b = np.array([(1.5,2,3), (4,5,6)])\n",
    "print(b)"
   ]
  },
  {
   "cell_type": "code",
   "execution_count": 129,
   "metadata": {},
   "outputs": [
    {
     "name": "stdout",
     "output_type": "stream",
     "text": [
      "[[ 1.+0.j  2.+0.j]\n",
      " [ 3.+0.j  4.+0.j]]\n"
     ]
    }
   ],
   "source": [
    "c = np.array( [ [1,2], [3,4] ], dtype=complex )\n",
    "print(c)"
   ]
  },
  {
   "cell_type": "code",
   "execution_count": 130,
   "metadata": {},
   "outputs": [
    {
     "name": "stdout",
     "output_type": "stream",
     "text": [
      "[ 0  1  2  3  4  5  6  7  8  9 10 11 12 13 14 15 16 17 18 19 20 21 22 23 24\n",
      " 25 26 27 28 29 30 31 32 33 34 35 36 37 38 39 40 41 42 43 44 45 46 47 48 49\n",
      " 50 51 52 53 54 55 56 57 58 59 60 61 62 63 64 65 66 67 68 69 70 71 72 73 74\n",
      " 75 76 77 78 79 80 81 82 83 84 85 86 87 88 89 90 91 92 93 94 95 96 97 98 99]\n"
     ]
    }
   ],
   "source": [
    "c=np.arange(100)\n",
    "print(c)"
   ]
  },
  {
   "cell_type": "code",
   "execution_count": 131,
   "metadata": {},
   "outputs": [
    {
     "name": "stdout",
     "output_type": "stream",
     "text": [
      "[[ 0  1  2  3  4  5  6  7  8  9]\n",
      " [10 11 12 13 14 15 16 17 18 19]\n",
      " [20 21 22 23 24 25 26 27 28 29]\n",
      " [30 31 32 33 34 35 36 37 38 39]\n",
      " [40 41 42 43 44 45 46 47 48 49]\n",
      " [50 51 52 53 54 55 56 57 58 59]\n",
      " [60 61 62 63 64 65 66 67 68 69]\n",
      " [70 71 72 73 74 75 76 77 78 79]\n",
      " [80 81 82 83 84 85 86 87 88 89]\n",
      " [90 91 92 93 94 95 96 97 98 99]]\n"
     ]
    }
   ],
   "source": [
    "c=c.reshape(10,10)\n",
    "print(c)"
   ]
  },
  {
   "cell_type": "code",
   "execution_count": 132,
   "metadata": {},
   "outputs": [
    {
     "name": "stdout",
     "output_type": "stream",
     "text": [
      "[20 30 40 50]\n",
      "[0 1 2 3]\n",
      "[20 29 38 47]\n"
     ]
    }
   ],
   "source": [
    "a = np.array( [20,30,40,50] )\n",
    "print(a)\n",
    "b = np.arange( 4 )\n",
    "print(b)\n",
    "c=a-b\n",
    "print(c)"
   ]
  },
  {
   "cell_type": "code",
   "execution_count": 133,
   "metadata": {},
   "outputs": [
    {
     "name": "stdout",
     "output_type": "stream",
     "text": [
      "[ 4.47213595  5.38516481  6.164414    6.8556546 ]\n"
     ]
    }
   ],
   "source": [
    "b=np.sqrt(c)\n",
    "print(b)"
   ]
  },
  {
   "cell_type": "code",
   "execution_count": 134,
   "metadata": {},
   "outputs": [
    {
     "name": "stdout",
     "output_type": "stream",
     "text": [
      "[  0.           1.           2.82842712   5.19615242   8.          11.18033989\n",
      "  14.69693846  18.52025918  22.627417    27.        ]\n"
     ]
    }
   ],
   "source": [
    "a = np.sqrt(np.arange(10)**3)\n",
    "print(a)"
   ]
  },
  {
   "cell_type": "code",
   "execution_count": 135,
   "metadata": {},
   "outputs": [
    {
     "name": "stdout",
     "output_type": "stream",
     "text": [
      "[ 2.82842712  5.19615242  8.        ]\n"
     ]
    }
   ],
   "source": [
    "print(a[2:5])"
   ]
  },
  {
   "cell_type": "code",
   "execution_count": 136,
   "metadata": {},
   "outputs": [
    {
     "name": "stdout",
     "output_type": "stream",
     "text": [
      "[[ 0  1  2  3]\n",
      " [10 11 12 13]\n",
      " [20 21 22 23]\n",
      " [30 31 32 33]\n",
      " [40 41 42 43]]\n"
     ]
    }
   ],
   "source": [
    "def f(x,y):\n",
    "  return 10*x+y\n",
    "b = np.fromfunction(f,(5,4),dtype=int)\n",
    "print(b)"
   ]
  },
  {
   "cell_type": "code",
   "execution_count": 137,
   "metadata": {},
   "outputs": [
    {
     "name": "stdout",
     "output_type": "stream",
     "text": [
      "23\n",
      "[ 1 11 21 31 41]\n",
      "[[10 11 12 13]\n",
      " [20 21 22 23]]\n"
     ]
    }
   ],
   "source": [
    "print(b[2,3])\n",
    "print(b[0:5, 1])\n",
    "print(b[1:3, : ] )"
   ]
  },
  {
   "cell_type": "code",
   "execution_count": 138,
   "metadata": {},
   "outputs": [
    {
     "name": "stdout",
     "output_type": "stream",
     "text": [
      "[[ 0  1  2  3]\n",
      " [10 11 12 13]\n",
      " [20 21 22 23]\n",
      " [30 31 32 33]\n",
      " [40 41 42 43]]\n",
      "[[ 0 10 20 30 40]\n",
      " [ 1 11 21 31 41]\n",
      " [ 2 12 22 32 42]\n",
      " [ 3 13 23 33 43]]\n"
     ]
    }
   ],
   "source": [
    "print(b)\n",
    "print(b.T)"
   ]
  },
  {
   "cell_type": "code",
   "execution_count": 139,
   "metadata": {},
   "outputs": [
    {
     "name": "stdout",
     "output_type": "stream",
     "text": [
      "0\n",
      "1\n",
      "2\n",
      "3\n",
      "10\n",
      "11\n",
      "12\n",
      "13\n",
      "20\n",
      "21\n",
      "22\n",
      "23\n",
      "30\n",
      "31\n",
      "32\n",
      "33\n",
      "40\n",
      "41\n",
      "42\n",
      "43\n"
     ]
    }
   ],
   "source": [
    "for element in b.flat:\n",
    "    print (element)"
   ]
  },
  {
   "cell_type": "markdown",
   "metadata": {},
   "source": [
    "### Sets  \n",
    "\n",
    "Sets are a collection of distinct (unique) objects."
   ]
  },
  {
   "cell_type": "code",
   "execution_count": 140,
   "metadata": {},
   "outputs": [
    {
     "name": "stdout",
     "output_type": "stream",
     "text": [
      "{'C', 'o', '&', 'i', 'a', 'e', 'k'}\n",
      "{'C', 'o', 'i', 'e', 'k'}\n"
     ]
    }
   ],
   "source": [
    "x = set('Cake&Cookie')\n",
    "print(x)\n",
    "y = set('Cookie')\n",
    "print(y)"
   ]
  },
  {
   "cell_type": "code",
   "execution_count": 141,
   "metadata": {},
   "outputs": [
    {
     "name": "stdout",
     "output_type": "stream",
     "text": [
      "{'a', '&'}\n"
     ]
    }
   ],
   "source": [
    "print(x-y)"
   ]
  },
  {
   "cell_type": "markdown",
   "metadata": {},
   "source": [
    "## Lists   "
   ]
  },
  {
   "cell_type": "code",
   "execution_count": 142,
   "metadata": {},
   "outputs": [
    {
     "name": "stdout",
     "output_type": "stream",
     "text": [
      "<class 'list'>\n",
      "<class 'float'>\n",
      "13\n",
      "1.0\n",
      "December\n"
     ]
    }
   ],
   "source": [
    "months = [\n",
    "1.0,    \n",
    "'January',\n",
    "'February',\n",
    "'March',\n",
    "'April',\n",
    "'May',\n",
    "'June',\n",
    "'July',\n",
    "'August',\n",
    "'September',\n",
    "'October',\n",
    "'November',\n",
    "'December'\n",
    "]\n",
    "print (type(months))\n",
    "print (type(months[0]))\n",
    "print (len(months))\n",
    "# print (class(months))\n",
    "print(months[0])\n",
    "print(months[-1])"
   ]
  },
  {
   "cell_type": "code",
   "execution_count": 143,
   "metadata": {},
   "outputs": [
    {
     "name": "stdout",
     "output_type": "stream",
     "text": [
      "December\n"
     ]
    }
   ],
   "source": [
    "print(months[len(months)-1])"
   ]
  },
  {
   "cell_type": "code",
   "execution_count": 144,
   "metadata": {},
   "outputs": [
    {
     "name": "stdout",
     "output_type": "stream",
     "text": [
      "[1.0, 'January', 'February', 'March', 'April', 'May', 'June', 'July', 'August', 'September', 'October', 'November', 'December']\n",
      "['January', 'February', 'March', 'April', 'May', 'June', 'July', 'August', 'September', 'October', 'November', 'December']\n"
     ]
    }
   ],
   "source": [
    "print(months)\n",
    "del months[0]\n",
    "print(months)"
   ]
  },
  {
   "cell_type": "code",
   "execution_count": 145,
   "metadata": {},
   "outputs": [
    {
     "name": "stdout",
     "output_type": "stream",
     "text": [
      "['October', 'November']\n"
     ]
    }
   ],
   "source": [
    "print(months[9:11])"
   ]
  },
  {
   "cell_type": "code",
   "execution_count": 146,
   "metadata": {},
   "outputs": [
    {
     "name": "stdout",
     "output_type": "stream",
     "text": [
      "['October', 'November', 'December']\n"
     ]
    }
   ],
   "source": [
    "print(months[9:])"
   ]
  },
  {
   "cell_type": "code",
   "execution_count": 147,
   "metadata": {},
   "outputs": [
    {
     "name": "stdout",
     "output_type": "stream",
     "text": [
      "['January', 'February', 'March', 'April', 'May', 'June', 'July', 'August', 'September', 'October', 'November', 'December']\n",
      "['January', 'March', 'May', 'July', 'September', 'November']\n"
     ]
    }
   ],
   "source": [
    "print(months[:]) # Print everything\n",
    "print(months[::2]) # Print every other - i.e. skip by 2"
   ]
  },
  {
   "cell_type": "code",
   "execution_count": 148,
   "metadata": {},
   "outputs": [
    {
     "name": "stdout",
     "output_type": "stream",
     "text": [
      "December\n",
      "October\n",
      "['October', 'November']\n"
     ]
    }
   ],
   "source": [
    "print(months[-1])\n",
    "print(months[-3])\n",
    "print(months[-3:-1])  # Print second to last to third to last"
   ]
  },
  {
   "cell_type": "code",
   "execution_count": 149,
   "metadata": {},
   "outputs": [
    {
     "name": "stdout",
     "output_type": "stream",
     "text": [
      "['November', 'August', 'May']\n"
     ]
    }
   ],
   "source": [
    "print(months[10:1:-3]) # Print 10 to 1 - i.e. skip by 3"
   ]
  },
  {
   "cell_type": "code",
   "execution_count": 150,
   "metadata": {},
   "outputs": [
    {
     "name": "stdout",
     "output_type": "stream",
     "text": [
      "['November', 'October', 'September', 'August', 'July', 'June', 'May', 'April', 'March']\n"
     ]
    }
   ],
   "source": [
    "print(months[10:1:-1])  # Print 10 to 1 - i.e. no skip but descending"
   ]
  },
  {
   "cell_type": "code",
   "execution_count": 151,
   "metadata": {},
   "outputs": [
    {
     "name": "stdout",
     "output_type": "stream",
     "text": [
      "[1, 2, 3, 4, 5, 6]\n"
     ]
    }
   ],
   "source": [
    "print([1, 2, 3] + [4, 5, 6]) # join two lists"
   ]
  },
  {
   "cell_type": "code",
   "execution_count": 152,
   "metadata": {},
   "outputs": [
    {
     "name": "stdout",
     "output_type": "stream",
     "text": [
      "Hello, world!\n"
     ]
    }
   ],
   "source": [
    "print('Hello, ' + 'world!')  # concatenate two strings"
   ]
  },
  {
   "cell_type": "code",
   "execution_count": 153,
   "metadata": {},
   "outputs": [
    {
     "name": "stdout",
     "output_type": "stream",
     "text": [
      "BearBearBearBearBear\n"
     ]
    }
   ],
   "source": [
    "name='Bear' # Create string 'Bear'\n",
    "print(name*5) # concatenate 5 times"
   ]
  },
  {
   "cell_type": "code",
   "execution_count": 154,
   "metadata": {},
   "outputs": [
    {
     "name": "stdout",
     "output_type": "stream",
     "text": [
      "True\n",
      "False\n"
     ]
    }
   ],
   "source": [
    "print('B' in name) # Test if B in Bear\n",
    "print('b' in name)  # Test if b in Bear"
   ]
  },
  {
   "cell_type": "code",
   "execution_count": 155,
   "metadata": {},
   "outputs": [
    {
     "name": "stdout",
     "output_type": "stream",
     "text": [
      "range(1, 6)\n"
     ]
    }
   ],
   "source": [
    "s=range(1,6) # Range doesn't create lists in python 3\n",
    "print(s)"
   ]
  },
  {
   "cell_type": "code",
   "execution_count": 156,
   "metadata": {},
   "outputs": [
    {
     "name": "stdout",
     "output_type": "stream",
     "text": [
      "[1, 2, 3, 4, 5, 6, 7, 8]\n",
      "[1, 2, 5, 4, 5, 6, 7, 8]\n"
     ]
    }
   ],
   "source": [
    "s=list(range(1,9)) # Using range to create lists in python 3\n",
    "print(s)\n",
    "s[2]=5\n",
    "print(s)"
   ]
  },
  {
   "cell_type": "code",
   "execution_count": 157,
   "metadata": {},
   "outputs": [
    {
     "name": "stdout",
     "output_type": "stream",
     "text": [
      "[1, 2, 4, 5, 6, 7, 8]\n",
      "[1, 2, 6, 7, 8]\n"
     ]
    }
   ],
   "source": [
    "del s[2] # Delete an item\n",
    "print(s)\n",
    "del s[2:4] # Delete more than one item\n",
    "print(s)"
   ]
  },
  {
   "cell_type": "code",
   "execution_count": 158,
   "metadata": {},
   "outputs": [
    {
     "name": "stdout",
     "output_type": "stream",
     "text": [
      "[1, 2, 3, 4, 5]\n"
     ]
    }
   ],
   "source": [
    "t=[1, 2, 3, 4, 5] #  Create a list\n",
    "print(t)"
   ]
  },
  {
   "cell_type": "code",
   "execution_count": 159,
   "metadata": {},
   "outputs": [
    {
     "name": "stdout",
     "output_type": "stream",
     "text": [
      "(1, 2, 3, 4, 5)\n"
     ]
    }
   ],
   "source": [
    "t=(1, 2, 3, 4, 5) #  Create a tuple\n",
    "print(t)"
   ]
  },
  {
   "cell_type": "code",
   "execution_count": 160,
   "metadata": {},
   "outputs": [
    {
     "name": "stdout",
     "output_type": "stream",
     "text": [
      "(1, 2, 3, 4, 5)\n"
     ]
    }
   ],
   "source": [
    "# del t[2]\n",
    "print(t)"
   ]
  },
  {
   "cell_type": "code",
   "execution_count": 161,
   "metadata": {},
   "outputs": [
    {
     "name": "stdout",
     "output_type": "stream",
     "text": [
      "32\n"
     ]
    }
   ],
   "source": [
    "print(2 ** 5) # Power"
   ]
  },
  {
   "cell_type": "code",
   "execution_count": 162,
   "metadata": {},
   "outputs": [
    {
     "name": "stdout",
     "output_type": "stream",
     "text": [
      "32\n"
     ]
    }
   ],
   "source": [
    "print(pow(2, 5)) # Power using function"
   ]
  },
  {
   "cell_type": "code",
   "execution_count": 163,
   "metadata": {},
   "outputs": [
    {
     "name": "stdout",
     "output_type": "stream",
     "text": [
      "34\n"
     ]
    }
   ],
   "source": [
    "import math # Some common math functions\n",
    "print(math.ceil(33.3))"
   ]
  },
  {
   "cell_type": "code",
   "execution_count": 164,
   "metadata": {},
   "outputs": [
    {
     "name": "stdout",
     "output_type": "stream",
     "text": [
      "3.0\n"
     ]
    }
   ],
   "source": [
    "print(math.sqrt(9))"
   ]
  },
  {
   "cell_type": "code",
   "execution_count": 165,
   "metadata": {},
   "outputs": [
    {
     "name": "stdout",
     "output_type": "stream",
     "text": [
      "3.0\n"
     ]
    }
   ],
   "source": [
    "from math import sqrt\n",
    "print(sqrt(9))"
   ]
  },
  {
   "cell_type": "markdown",
   "metadata": {},
   "source": [
    "## List Methods\n",
    "\n",
    "* list.append(elem) -- adds a single element to the end of the list. Common error: does not return the new list, just modifies the original.\n",
    "* list.insert(index, elem) -- inserts the element at the given index, shifting elements to the right.\n",
    "* list.extend(list2) adds the elements in list2 to the end of the list. Using + or += on a list is similar to using extend().\n",
    "* list.index(elem) -- searches for the given element from the start of the list and returns its index. Throws a ValueError if the element does not appear (use \"in\" to check without a ValueError).\n",
    "* list.remove(elem) -- searches for the first instance of the given element and removes it (throws ValueError if not present)\n",
    "* list.sort() -- sorts the list in place (does not return it). (The sorted() function shown below is preferred.)\n",
    "* list.reverse() -- reverses the list in place (does not return it)\n",
    "* list.pop(index) -- removes and returns the element at the given index. Returns the rightmost element if index is omitted (roughly the opposite of append()).\n"
   ]
  },
  {
   "cell_type": "code",
   "execution_count": 166,
   "metadata": {},
   "outputs": [
    {
     "name": "stdout",
     "output_type": "stream",
     "text": [
      "['Rick Sanchez', 1.0, 'Morty Smith', 'Mr. Meeseeks']\n",
      "['Rick Sanchez', 1.0, 'Morty Smith', 'Mr. Meeseeks', 'Doofus Rick']\n",
      "['Scary Terry', 'Rick Sanchez', 1.0, 'Morty Smith', 'Mr. Meeseeks', 'Doofus Rick']\n",
      "['Scary Terry', 'Rick Sanchez', 1.0, 'Morty Smith', 'Mr. Meeseeks', 'Doofus Rick', 'Squanchy', 'Mr. Poopybutthole']\n",
      "3\n",
      "['Scary Terry', 'Rick Sanchez', 1.0, 'Morty Smith', 'Mr. Meeseeks', 'Doofus Rick', 'Squanchy', 'Mr. Poopybutthole']\n",
      "['Scary Terry', 'Rick Sanchez', 1.0, 'Mr. Meeseeks', 'Doofus Rick', 'Squanchy', 'Mr. Poopybutthole']\n",
      "Rick Sanchez\n",
      "['Scary Terry', 1.0, 'Mr. Meeseeks', 'Doofus Rick', 'Squanchy', 'Mr. Poopybutthole']\n"
     ]
    }
   ],
   "source": [
    "l = ['Rick Sanchez',1.0, 'Morty Smith', 'Mr. Meeseeks']\n",
    "print (l)    \n",
    "l.append('Doofus Rick')         ## append item at end\n",
    "print (l)\n",
    "l.insert(0, 'Scary Terry')        ## insert item at index 0\n",
    "print (l)\n",
    "l.extend(['Squanchy', 'Mr. Poopybutthole'])  ## add list of items at end\n",
    "print (l)\n",
    "print (l.index('Morty Smith'))   \n",
    "print (l)\n",
    "l.remove('Morty Smith') ## search and remove an item\n",
    "print (l)\n",
    "print(l.pop(1)) ## removes and returns 'Rick Sanchez' second item\n",
    "print (l)  ## ['Scary Terry', 'Mr. Meeseeks', 'Doofus Rick', 'Squanchy', 'Mr. Poopybutthole']"
   ]
  },
  {
   "cell_type": "markdown",
   "metadata": {},
   "source": [
    "## Dictionaries"
   ]
  },
  {
   "cell_type": "code",
   "execution_count": 167,
   "metadata": {},
   "outputs": [
    {
     "name": "stdout",
     "output_type": "stream",
     "text": [
      "dict_keys(['python', 'R', 33, 'C++'])\n"
     ]
    }
   ],
   "source": [
    "d={\"python\": 333, \"R\": 222, 33: 111, \"C++\": 111} # Create a dictionary\n",
    "print(d.keys())"
   ]
  },
  {
   "cell_type": "code",
   "execution_count": 168,
   "metadata": {},
   "outputs": [
    {
     "name": "stdout",
     "output_type": "stream",
     "text": [
      "333\n"
     ]
    }
   ],
   "source": [
    "print(d[\"python\"]) # List value with key \"python\""
   ]
  },
  {
   "cell_type": "code",
   "execution_count": 169,
   "metadata": {},
   "outputs": [
    {
     "name": "stdout",
     "output_type": "stream",
     "text": [
      "False\n"
     ]
    }
   ],
   "source": [
    "print(\"java\" in d) # Check if \"java\" in dictionary"
   ]
  },
  {
   "cell_type": "code",
   "execution_count": 170,
   "metadata": {},
   "outputs": [
    {
     "name": "stdout",
     "output_type": "stream",
     "text": [
      "True\n"
     ]
    }
   ],
   "source": [
    "print(\"python\" in d) # Check if \"python\" in dictionary"
   ]
  },
  {
   "cell_type": "code",
   "execution_count": 171,
   "metadata": {},
   "outputs": [
    {
     "name": "stdout",
     "output_type": "stream",
     "text": [
      "{'java': 33, 'C#': 22, 'Scala': 11}\n"
     ]
    }
   ],
   "source": [
    "d2={\"java\": 33, \"C#\": 22, \"Scala\": 11} # Create a dictionary\n",
    "print(d2)"
   ]
  },
  {
   "cell_type": "code",
   "execution_count": 172,
   "metadata": {},
   "outputs": [
    {
     "name": "stdout",
     "output_type": "stream",
     "text": [
      "{'python': 333, 'R': 222, 33: 111, 'C++': 111, 'java': 33, 'C#': 22, 'Scala': 11}\n"
     ]
    }
   ],
   "source": [
    "d.update(d2) # add dictionary to another dictionary\n",
    "print(d)"
   ]
  },
  {
   "cell_type": "code",
   "execution_count": 173,
   "metadata": {},
   "outputs": [
    {
     "name": "stdout",
     "output_type": "stream",
     "text": [
      "python\n",
      "R\n",
      "33\n",
      "C++\n",
      "java\n",
      "C#\n",
      "Scala\n",
      "dict_keys(['python', 'R', 33, 'C++', 'java', 'C#', 'Scala'])\n"
     ]
    }
   ],
   "source": [
    "for key in d: # List keys in dictionary\n",
    "  print(key)\n",
    "print(d.keys())"
   ]
  },
  {
   "cell_type": "code",
   "execution_count": 174,
   "metadata": {},
   "outputs": [
    {
     "name": "stdout",
     "output_type": "stream",
     "text": [
      "333\n",
      "222\n",
      "111\n",
      "111\n",
      "33\n",
      "22\n",
      "11\n",
      "dict_values([333, 222, 111, 111, 33, 22, 11])\n"
     ]
    }
   ],
   "source": [
    "for key in d: # List values in dictionary\n",
    "  print(d[key])\n",
    "print(d.values())"
   ]
  },
  {
   "cell_type": "code",
   "execution_count": 175,
   "metadata": {},
   "outputs": [
    {
     "name": "stdout",
     "output_type": "stream",
     "text": [
      "{'python': 333, 'R': 222, 33: 111, 'C++': 111, 'java': 33, 'C#': 22, 'Scala': 11}\n"
     ]
    }
   ],
   "source": [
    "d_backup = d.copy() # Create  dictionary copy\n",
    "print(d_backup)"
   ]
  },
  {
   "cell_type": "code",
   "execution_count": 176,
   "metadata": {},
   "outputs": [
    {
     "name": "stdout",
     "output_type": "stream",
     "text": [
      "{'python': 333, 'R': 222, 33: 111, 'C++': 55, 'java': 33, 'C#': 22, 'Scala': 11}\n",
      "{'python': 333, 'R': 222, 33: 111, 'C++': 111, 'java': 33, 'C#': 22, 'Scala': 11}\n"
     ]
    }
   ],
   "source": [
    "d['C++']=55\n",
    "print(d)\n",
    "print(d_backup)"
   ]
  },
  {
   "cell_type": "markdown",
   "metadata": {},
   "source": [
    "### Note:\n",
    "\n",
    "* A shallow copy constructs a new compound object and then (to the extent possible) inserts references into it to the objects found in the original.\n",
    "* A deep copy constructs a new compound object and then, recursively, inserts copies into it of the objects found in the original."
   ]
  },
  {
   "cell_type": "code",
   "execution_count": 177,
   "metadata": {},
   "outputs": [
    {
     "name": "stdout",
     "output_type": "stream",
     "text": [
      "0\n",
      "{'python': 333, 'R': 222, 33: 111, 'C++': 111, 'C#': 22, 'Scala': 11}\n"
     ]
    }
   ],
   "source": [
    "print(len(d)-len(d_backup))\n",
    "del d_backup[\"java\"]\n",
    "print(d_backup)"
   ]
  },
  {
   "cell_type": "code",
   "execution_count": 178,
   "metadata": {},
   "outputs": [
    {
     "name": "stdout",
     "output_type": "stream",
     "text": [
      "1\n"
     ]
    }
   ],
   "source": [
    "print(len(d)-len(d_backup))  # Note original isn't changed"
   ]
  },
  {
   "cell_type": "markdown",
   "metadata": {},
   "source": [
    "## Dictionary Methods\n",
    "\n",
    "* d.fromkeys() - Create a new dictonary with keys from seq and values set to value.\n",
    "* d.get(key, default=None) - For any key, returns value or default if key not in dictonary\n",
    "* d.has_key(key) - Removed, use the in operation instead.\n",
    "* d.items() - Returns a list of d.s (key, value) tuple pairs\n",
    "* d.keys() - Returns list of dictonary d's keys\n",
    "* d.setdefault(key, default = None) - Similar to get(), but will set d.key] = default if key is not already in dict\n",
    "* d.update(d2) - Adds dictonary d2's key-values pairs to dict\n",
    "* d.values() - Returns list of dictonary d's values\n",
    "* d.clear() - Removes all elements of dictonary d\n",
    "\n",
    "Note:\n",
    "\n",
    "* A shallow copy constructs a new compound object and then (to the extent possible) inserts references into it to the objects found in the original.\n",
    "* A deep copy constructs a new compound object and then, recursively, inserts copies into it of the objects found in the original."
   ]
  },
  {
   "cell_type": "markdown",
   "metadata": {},
   "source": [
    "## Trees\n",
    "\n",
    "See [https://link.springer.com/chapter/10.1007/978-3-319-13072-9_6][https://link.springer.com/chapter/10.1007/978-3-319-13072-9_6]"
   ]
  },
  {
   "cell_type": "markdown",
   "metadata": {},
   "source": [
    "## help(), and dir()\n",
    "\n",
    "here are a variety of ways to get help for Python.\n",
    "\n",
    "Do a Google search, starting with the word \"python\", like \"python list\" or \"python string lowercase\". The first hit is often the answer. This technique seems to work better for Python than it does for other languages for some reason.\n",
    "The official Python docs site — docs.python.org — has high quality docs. Nonetheless, I often find a Google search of a couple words to be quicker.\n",
    "There is also an official Tutor mailing list specifically designed for those who are new to Python and/or programming!\n",
    "Many questions (and answers) can be found on StackOverflow and Quora.\n",
    "Use the help() and dir() functions (see below).\n",
    "Inside the Python interpreter, the help() function pulls up documentation strings for various modules, functions, and methods. These doc strings are similar to Java's javadoc. The dir() function tells you what the attributes of an object are. Below are some ways to call help() and dir() from the interpreter:\n",
    "\n",
    "help(len) — help string for the built-in len() function; note that it's \"len\" not \"len()\", which is a call to the function, which we don't want\n",
    "help(sys) — help string for the sys module (must do an import sys first)\n",
    "dir(sys) — dir() is like help() but just gives a quick list of its defined symbols, or \"attributes\"\n",
    "help(sys.exit) — help string for the exit() function in the sys module\n",
    "help('xyz'.split) — help string for the split() method for string objects. You can call help() with that object itself or an example of that object, plus its attribute. For example, calling help('xyz'.split) is the same as calling help(str.split).\n",
    "help(list) — help string for list objects\n",
    "dir(list) — displays list object attributes, including its methods\n",
    "help(list.append) — help string for the append() method for list objects"
   ]
  },
  {
   "cell_type": "markdown",
   "metadata": {},
   "source": [
    "## Python Tutorials \n",
    "\n",
    "* [“Dive into Python” (Chapters 2 to 4)] (http://diveintopython.org/)\n",
    "\n",
    "* [Python 101 – Beginning Python] (http://www.rexx.com/~dkuhlman/python_101/python_101.html) \n",
    "\n",
    "* [Nice free CS/python book] (https://www.cs.hmc.edu/csforall/index.html)\n",
    "\n",
    "\n",
    "### Things to refer to \n",
    "\n",
    "* [The Official Python Tutorial] (http://www.python.org/doc/current/tut/tut.html) \n",
    "* [The Python Quick Reference] (http://rgruet.free.fr/PQR2.3.html) \n",
    "\n",
    "### YouTube Python Tutorials \n",
    "\n",
    "* [Python Fundamentals Training – Classes] (http://www.youtube.com/watch?v=rKzZEtxIX14)\n",
    "* [Python 2.7 Tutorial Derek Banas] (http://www.youtube.com/watch?v=UQi-L-_chcc)\n",
    "* [Python Programming Tutorial - thenewboston] \n",
    "(http://www.youtube.com/watch?v=4Mf0h3HphEA)\n",
    "* [Google Python Class](http://www.youtube.com/watch?v=tKTZoB2Vjuk) \n",
    "\n",
    "\n",
    "### datacamp.com\n",
    "\n",
    "* [datacamp.com] (https://www.datacamp.com/tracks/python-developer)"
   ]
  },
  {
   "cell_type": "markdown",
   "metadata": {
    "collapsed": true
   },
   "source": [
    "Last update October 3, 2017"
   ]
  }
 ],
 "metadata": {
  "kernelspec": {
   "display_name": "Python 3",
   "language": "python",
   "name": "python3"
  },
  "language_info": {
   "codemirror_mode": {
    "name": "ipython",
    "version": 3
   },
   "file_extension": ".py",
   "mimetype": "text/x-python",
   "name": "python",
   "nbconvert_exporter": "python",
   "pygments_lexer": "ipython3",
   "version": "3.6.1"
  }
 },
 "nbformat": 4,
 "nbformat_minor": 2
}
