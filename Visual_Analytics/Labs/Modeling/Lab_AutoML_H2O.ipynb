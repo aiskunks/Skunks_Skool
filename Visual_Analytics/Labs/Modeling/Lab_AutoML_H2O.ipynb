{
 "cells": [
  {
   "cell_type": "markdown",
   "metadata": {},
   "source": [
    "# AutoML with H20.ai\n",
    "This notebook will be a part of Modeling node of the Klee project. This is a Jupyter Notebook we will execute the autoML using H20.ai library. This is part of the **Modeling** component of the Klee project.\n",
    "\n",
    "- H2O’s AutoML can be used for automating the machine learning workflow, which includes automatic training and tuning of many models within a user-specified time-limit.\n",
    "- H2O’s AutoML can also be a helpful tool for the advanced user, by providing a simple wrapper function that performs a large number of modeling-related tasks that would typically require many lines of code, and by freeing up their time to focus on other aspects of the data science pipeline tasks such as data-preprocessing, feature engineering and model deployment.\n",
    "\n",
    "##### We can see in this notebook that the ensemble model from h20.ai works best, as it is a combination of all the models tested.\n",
    "\n",
    "##### Limitation:\n",
    "The h20.ai library tests on alot of models, but because of low computational power on my system, it is testing on mostly tree based models. "
   ]
  },
  {
   "cell_type": "markdown",
   "metadata": {},
   "source": [
    "### Libraries used \n",
    "- We use H20.AI to investigate and select best features from the dataset. \n",
    "\n",
    "#### Input: \n",
    "The input to this notebook is Tabular dataset. Ex. Titanic dataset used in this notebook\n",
    "\n",
    "#### Output:\n",
    "Output of this notebook is the best model based on performance accuracy for the dataset"
   ]
  },
  {
   "cell_type": "code",
   "execution_count": 1,
   "metadata": {},
   "outputs": [],
   "source": [
    "# import the library\n",
    "\n",
    "import h2o\n",
    "from h2o.automl import H2OAutoML\n",
    "import os\n",
    "import pandas as pd"
   ]
  },
  {
   "cell_type": "code",
   "execution_count": 2,
   "metadata": {},
   "outputs": [
    {
     "name": "stdout",
     "output_type": "stream",
     "text": [
      "Checking whether there is an H2O instance running at http://localhost:54321 ..... not found.\n",
      "Attempting to start a local H2O server...\n",
      "  Java Version: java version \"1.8.0_201\"; Java(TM) SE Runtime Environment (build 1.8.0_201-b09); Java HotSpot(TM) 64-Bit Server VM (build 25.201-b09, mixed mode)\n",
      "  Starting server from /Users/bear/.local/lib/python3.8/site-packages/h2o/backend/bin/h2o.jar\n",
      "  Ice root: /var/folders/lh/42j8mfjx069d1bkc2wlf2pw40000gn/T/tmpcvvzgi9s\n",
      "  JVM stdout: /var/folders/lh/42j8mfjx069d1bkc2wlf2pw40000gn/T/tmpcvvzgi9s/h2o_bear_started_from_python.out\n",
      "  JVM stderr: /var/folders/lh/42j8mfjx069d1bkc2wlf2pw40000gn/T/tmpcvvzgi9s/h2o_bear_started_from_python.err\n",
      "  Server is running at http://127.0.0.1:54321\n",
      "Connecting to H2O server at http://127.0.0.1:54321 ... successful.\n"
     ]
    },
    {
     "data": {
      "text/html": [
       "<div style=\"overflow:auto\"><table style=\"width:50%\"><tr><td>H2O_cluster_uptime:</td>\n",
       "<td>03 secs</td></tr>\n",
       "<tr><td>H2O_cluster_timezone:</td>\n",
       "<td>America/New_York</td></tr>\n",
       "<tr><td>H2O_data_parsing_timezone:</td>\n",
       "<td>UTC</td></tr>\n",
       "<tr><td>H2O_cluster_version:</td>\n",
       "<td>3.34.0.7</td></tr>\n",
       "<tr><td>H2O_cluster_version_age:</td>\n",
       "<td>21 days, 10 hours and 3 minutes </td></tr>\n",
       "<tr><td>H2O_cluster_name:</td>\n",
       "<td>H2O_from_python_bear_5kyi1o</td></tr>\n",
       "<tr><td>H2O_cluster_total_nodes:</td>\n",
       "<td>1</td></tr>\n",
       "<tr><td>H2O_cluster_free_memory:</td>\n",
       "<td>3.556 Gb</td></tr>\n",
       "<tr><td>H2O_cluster_total_cores:</td>\n",
       "<td>8</td></tr>\n",
       "<tr><td>H2O_cluster_allowed_cores:</td>\n",
       "<td>8</td></tr>\n",
       "<tr><td>H2O_cluster_status:</td>\n",
       "<td>locked, healthy</td></tr>\n",
       "<tr><td>H2O_connection_url:</td>\n",
       "<td>http://127.0.0.1:54321</td></tr>\n",
       "<tr><td>H2O_connection_proxy:</td>\n",
       "<td>{\"http\": null, \"https\": null}</td></tr>\n",
       "<tr><td>H2O_internal_security:</td>\n",
       "<td>False</td></tr>\n",
       "<tr><td>H2O_API_Extensions:</td>\n",
       "<td>Amazon S3, XGBoost, Algos, AutoML, Core V3, TargetEncoder, Core V4</td></tr>\n",
       "<tr><td>Python_version:</td>\n",
       "<td>3.8.5 final</td></tr></table></div>"
      ],
      "text/plain": [
       "--------------------------  ------------------------------------------------------------------\n",
       "H2O_cluster_uptime:         03 secs\n",
       "H2O_cluster_timezone:       America/New_York\n",
       "H2O_data_parsing_timezone:  UTC\n",
       "H2O_cluster_version:        3.34.0.7\n",
       "H2O_cluster_version_age:    21 days, 10 hours and 3 minutes\n",
       "H2O_cluster_name:           H2O_from_python_bear_5kyi1o\n",
       "H2O_cluster_total_nodes:    1\n",
       "H2O_cluster_free_memory:    3.556 Gb\n",
       "H2O_cluster_total_cores:    8\n",
       "H2O_cluster_allowed_cores:  8\n",
       "H2O_cluster_status:         locked, healthy\n",
       "H2O_connection_url:         http://127.0.0.1:54321\n",
       "H2O_connection_proxy:       {\"http\": null, \"https\": null}\n",
       "H2O_internal_security:      False\n",
       "H2O_API_Extensions:         Amazon S3, XGBoost, Algos, AutoML, Core V3, TargetEncoder, Core V4\n",
       "Python_version:             3.8.5 final\n",
       "--------------------------  ------------------------------------------------------------------"
      ]
     },
     "metadata": {},
     "output_type": "display_data"
    }
   ],
   "source": [
    "h2o.init()"
   ]
  },
  {
   "cell_type": "markdown",
   "metadata": {},
   "source": [
    "# Load the dataset"
   ]
  },
  {
   "cell_type": "code",
   "execution_count": 4,
   "metadata": {},
   "outputs": [
    {
     "name": "stdout",
     "output_type": "stream",
     "text": [
      "Parse progress: |████████████████████████████████████████████████████████████████| (done) 100%\n"
     ]
    },
    {
     "data": {
      "text/html": [
       "<table>\n",
       "<thead>\n",
       "<tr><th style=\"text-align: right;\">  PassengerId</th><th style=\"text-align: right;\">  Pclass</th><th>Name                                        </th><th>Sex   </th><th style=\"text-align: right;\">  Age</th><th style=\"text-align: right;\">  SibSp</th><th style=\"text-align: right;\">  Parch</th><th style=\"text-align: right;\">         Ticket</th><th style=\"text-align: right;\">   Fare</th><th>Cabin  </th><th>Embarked  </th></tr>\n",
       "</thead>\n",
       "<tbody>\n",
       "<tr><td style=\"text-align: right;\">          892</td><td style=\"text-align: right;\">       3</td><td>Kelly, Mr. James                            </td><td>male  </td><td style=\"text-align: right;\"> 34.5</td><td style=\"text-align: right;\">      0</td><td style=\"text-align: right;\">      0</td><td style=\"text-align: right;\">330911         </td><td style=\"text-align: right;\"> 7.8292</td><td>       </td><td>Q         </td></tr>\n",
       "<tr><td style=\"text-align: right;\">          893</td><td style=\"text-align: right;\">       3</td><td>Wilkes, Mrs. James (Ellen Needs)            </td><td>female</td><td style=\"text-align: right;\"> 47  </td><td style=\"text-align: right;\">      1</td><td style=\"text-align: right;\">      0</td><td style=\"text-align: right;\">363272         </td><td style=\"text-align: right;\"> 7     </td><td>       </td><td>S         </td></tr>\n",
       "<tr><td style=\"text-align: right;\">          894</td><td style=\"text-align: right;\">       2</td><td>Myles, Mr. Thomas Francis                   </td><td>male  </td><td style=\"text-align: right;\"> 62  </td><td style=\"text-align: right;\">      0</td><td style=\"text-align: right;\">      0</td><td style=\"text-align: right;\">240276         </td><td style=\"text-align: right;\"> 9.6875</td><td>       </td><td>Q         </td></tr>\n",
       "<tr><td style=\"text-align: right;\">          895</td><td style=\"text-align: right;\">       3</td><td>Wirz, Mr. Albert                            </td><td>male  </td><td style=\"text-align: right;\"> 27  </td><td style=\"text-align: right;\">      0</td><td style=\"text-align: right;\">      0</td><td style=\"text-align: right;\">315154         </td><td style=\"text-align: right;\"> 8.6625</td><td>       </td><td>S         </td></tr>\n",
       "<tr><td style=\"text-align: right;\">          896</td><td style=\"text-align: right;\">       3</td><td>Hirvonen, Mrs. Alexander (Helga E Lindqvist)</td><td>female</td><td style=\"text-align: right;\"> 22  </td><td style=\"text-align: right;\">      1</td><td style=\"text-align: right;\">      1</td><td style=\"text-align: right;\">     3.1013e+06</td><td style=\"text-align: right;\">12.2875</td><td>       </td><td>S         </td></tr>\n",
       "<tr><td style=\"text-align: right;\">          897</td><td style=\"text-align: right;\">       3</td><td>Svensson, Mr. Johan Cervin                  </td><td>male  </td><td style=\"text-align: right;\"> 14  </td><td style=\"text-align: right;\">      0</td><td style=\"text-align: right;\">      0</td><td style=\"text-align: right;\">  7538         </td><td style=\"text-align: right;\"> 9.225 </td><td>       </td><td>S         </td></tr>\n",
       "<tr><td style=\"text-align: right;\">          898</td><td style=\"text-align: right;\">       3</td><td>Connolly, Miss. Kate                        </td><td>female</td><td style=\"text-align: right;\"> 30  </td><td style=\"text-align: right;\">      0</td><td style=\"text-align: right;\">      0</td><td style=\"text-align: right;\">330972         </td><td style=\"text-align: right;\"> 7.6292</td><td>       </td><td>Q         </td></tr>\n",
       "<tr><td style=\"text-align: right;\">          899</td><td style=\"text-align: right;\">       2</td><td>Caldwell, Mr. Albert Francis                </td><td>male  </td><td style=\"text-align: right;\"> 26  </td><td style=\"text-align: right;\">      1</td><td style=\"text-align: right;\">      1</td><td style=\"text-align: right;\">248738         </td><td style=\"text-align: right;\">29     </td><td>       </td><td>S         </td></tr>\n",
       "<tr><td style=\"text-align: right;\">          900</td><td style=\"text-align: right;\">       3</td><td>Abrahim, Mrs. Joseph (Sophie Halaut Easu)   </td><td>female</td><td style=\"text-align: right;\"> 18  </td><td style=\"text-align: right;\">      0</td><td style=\"text-align: right;\">      0</td><td style=\"text-align: right;\">  2657         </td><td style=\"text-align: right;\"> 7.2292</td><td>       </td><td>C         </td></tr>\n",
       "<tr><td style=\"text-align: right;\">          901</td><td style=\"text-align: right;\">       3</td><td>Davies, Mr. John Samuel                     </td><td>male  </td><td style=\"text-align: right;\"> 21  </td><td style=\"text-align: right;\">      2</td><td style=\"text-align: right;\">      0</td><td style=\"text-align: right;\">   nan         </td><td style=\"text-align: right;\">24.15  </td><td>       </td><td>S         </td></tr>\n",
       "</tbody>\n",
       "</table>"
      ]
     },
     "metadata": {},
     "output_type": "display_data"
    },
    {
     "data": {
      "text/plain": []
     },
     "execution_count": 4,
     "metadata": {},
     "output_type": "execute_result"
    }
   ],
   "source": [
    "# Use local data file or download from GitHub\n",
    "url = \"https://github.com/nikbearbrown/Visual_Analytics/raw/main/CSV/titanic.csv\"\n",
    "df = h2o.import_file(url)\n",
    "df.head()"
   ]
  },
  {
   "cell_type": "code",
   "execution_count": 6,
   "metadata": {},
   "outputs": [
    {
     "name": "stdout",
     "output_type": "stream",
     "text": [
      "Rows:418\n",
      "Cols:11\n",
      "\n",
      "\n"
     ]
    },
    {
     "data": {
      "text/html": [
       "<table>\n",
       "<thead>\n",
       "<tr><th>       </th><th>PassengerId       </th><th>Pclass            </th><th>Name                                        </th><th>Sex   </th><th>Age               </th><th>SibSp              </th><th>Parch              </th><th>Ticket            </th><th>Fare              </th><th>Cabin  </th><th>Embarked  </th></tr>\n",
       "</thead>\n",
       "<tbody>\n",
       "<tr><td>type   </td><td>int               </td><td>int               </td><td>string                                      </td><td>enum  </td><td>real              </td><td>int                </td><td>int                </td><td>int               </td><td>real              </td><td>enum   </td><td>enum      </td></tr>\n",
       "<tr><td>mins   </td><td>892.0             </td><td>1.0               </td><td>NaN                                         </td><td>      </td><td>0.17              </td><td>0.0                </td><td>0.0                </td><td>680.0             </td><td>0.0               </td><td>       </td><td>          </td></tr>\n",
       "<tr><td>mean   </td><td>1100.5            </td><td>2.2655502392344493</td><td>NaN                                         </td><td>      </td><td>30.272590361445786</td><td>0.44736842105263147</td><td>0.39234449760765555</td><td>223850.98986486494</td><td>35.627188489208656</td><td>       </td><td>          </td></tr>\n",
       "<tr><td>maxs   </td><td>1309.0            </td><td>3.0               </td><td>NaN                                         </td><td>      </td><td>76.0              </td><td>8.0                </td><td>9.0                </td><td>3101298.0         </td><td>512.3292          </td><td>       </td><td>          </td></tr>\n",
       "<tr><td>sigma  </td><td>120.81045760473994</td><td>0.8418375519640504</td><td>NaN                                         </td><td>      </td><td>14.181209235624422</td><td>0.8967595611217135 </td><td>0.9814288785371694 </td><td>369523.7764694362 </td><td>55.907576179973844</td><td>       </td><td>          </td></tr>\n",
       "<tr><td>zeros  </td><td>0                 </td><td>0                 </td><td>0                                           </td><td>      </td><td>0                 </td><td>283                </td><td>324                </td><td>0                 </td><td>2                 </td><td>       </td><td>          </td></tr>\n",
       "<tr><td>missing</td><td>0                 </td><td>0                 </td><td>0                                           </td><td>0     </td><td>86                </td><td>0                  </td><td>0                  </td><td>122               </td><td>1                 </td><td>327    </td><td>0         </td></tr>\n",
       "<tr><td>0      </td><td>892.0             </td><td>3.0               </td><td>Kelly, Mr. James                            </td><td>male  </td><td>34.5              </td><td>0.0                </td><td>0.0                </td><td>330911.0          </td><td>7.8292            </td><td>       </td><td>Q         </td></tr>\n",
       "<tr><td>1      </td><td>893.0             </td><td>3.0               </td><td>Wilkes, Mrs. James (Ellen Needs)            </td><td>female</td><td>47.0              </td><td>1.0                </td><td>0.0                </td><td>363272.0          </td><td>7.0               </td><td>       </td><td>S         </td></tr>\n",
       "<tr><td>2      </td><td>894.0             </td><td>2.0               </td><td>Myles, Mr. Thomas Francis                   </td><td>male  </td><td>62.0              </td><td>0.0                </td><td>0.0                </td><td>240276.0          </td><td>9.6875            </td><td>       </td><td>Q         </td></tr>\n",
       "<tr><td>3      </td><td>895.0             </td><td>3.0               </td><td>Wirz, Mr. Albert                            </td><td>male  </td><td>27.0              </td><td>0.0                </td><td>0.0                </td><td>315154.0          </td><td>8.6625            </td><td>       </td><td>S         </td></tr>\n",
       "<tr><td>4      </td><td>896.0             </td><td>3.0               </td><td>Hirvonen, Mrs. Alexander (Helga E Lindqvist)</td><td>female</td><td>22.0              </td><td>1.0                </td><td>1.0                </td><td>3101298.0         </td><td>12.2875           </td><td>       </td><td>S         </td></tr>\n",
       "<tr><td>5      </td><td>897.0             </td><td>3.0               </td><td>Svensson, Mr. Johan Cervin                  </td><td>male  </td><td>14.0              </td><td>0.0                </td><td>0.0                </td><td>7538.0            </td><td>9.225             </td><td>       </td><td>S         </td></tr>\n",
       "<tr><td>6      </td><td>898.0             </td><td>3.0               </td><td>Connolly, Miss. Kate                        </td><td>female</td><td>30.0              </td><td>0.0                </td><td>0.0                </td><td>330972.0          </td><td>7.6292            </td><td>       </td><td>Q         </td></tr>\n",
       "<tr><td>7      </td><td>899.0             </td><td>2.0               </td><td>Caldwell, Mr. Albert Francis                </td><td>male  </td><td>26.0              </td><td>1.0                </td><td>1.0                </td><td>248738.0          </td><td>29.0              </td><td>       </td><td>S         </td></tr>\n",
       "<tr><td>8      </td><td>900.0             </td><td>3.0               </td><td>Abrahim, Mrs. Joseph (Sophie Halaut Easu)   </td><td>female</td><td>18.0              </td><td>0.0                </td><td>0.0                </td><td>2657.0            </td><td>7.2292            </td><td>       </td><td>C         </td></tr>\n",
       "<tr><td>9      </td><td>901.0             </td><td>3.0               </td><td>Davies, Mr. John Samuel                     </td><td>male  </td><td>21.0              </td><td>2.0                </td><td>0.0                </td><td>nan               </td><td>24.15             </td><td>       </td><td>S         </td></tr>\n",
       "</tbody>\n",
       "</table>"
      ]
     },
     "metadata": {},
     "output_type": "display_data"
    }
   ],
   "source": [
    "# descriptive statistics for the dataset\n",
    "\n",
    "df.describe()"
   ]
  },
  {
   "cell_type": "code",
   "execution_count": 7,
   "metadata": {},
   "outputs": [],
   "source": [
    "# define the independent and dependent variable\n",
    "y = \"Fare\""
   ]
  },
  {
   "cell_type": "code",
   "execution_count": 8,
   "metadata": {},
   "outputs": [],
   "source": [
    "# split the data into train and test split\n",
    "\n",
    "splits = df.split_frame(ratios = [0.8], seed = 1)\n",
    "train = splits[0]\n",
    "test = splits[1]"
   ]
  },
  {
   "cell_type": "code",
   "execution_count": 9,
   "metadata": {},
   "outputs": [
    {
     "data": {
      "text/html": [
       "<table>\n",
       "<thead>\n",
       "<tr><th style=\"text-align: right;\">  PassengerId</th><th style=\"text-align: right;\">  Pclass</th><th>Name                                        </th><th>Sex   </th><th style=\"text-align: right;\">  Age</th><th style=\"text-align: right;\">  SibSp</th><th style=\"text-align: right;\">  Parch</th><th style=\"text-align: right;\">         Ticket</th><th style=\"text-align: right;\">   Fare</th><th>Cabin  </th><th>Embarked  </th></tr>\n",
       "</thead>\n",
       "<tbody>\n",
       "<tr><td style=\"text-align: right;\">          892</td><td style=\"text-align: right;\">       3</td><td>Kelly, Mr. James                            </td><td>male  </td><td style=\"text-align: right;\"> 34.5</td><td style=\"text-align: right;\">      0</td><td style=\"text-align: right;\">      0</td><td style=\"text-align: right;\">330911         </td><td style=\"text-align: right;\"> 7.8292</td><td>       </td><td>Q         </td></tr>\n",
       "<tr><td style=\"text-align: right;\">          893</td><td style=\"text-align: right;\">       3</td><td>Wilkes, Mrs. James (Ellen Needs)            </td><td>female</td><td style=\"text-align: right;\"> 47  </td><td style=\"text-align: right;\">      1</td><td style=\"text-align: right;\">      0</td><td style=\"text-align: right;\">363272         </td><td style=\"text-align: right;\"> 7     </td><td>       </td><td>S         </td></tr>\n",
       "<tr><td style=\"text-align: right;\">          895</td><td style=\"text-align: right;\">       3</td><td>Wirz, Mr. Albert                            </td><td>male  </td><td style=\"text-align: right;\"> 27  </td><td style=\"text-align: right;\">      0</td><td style=\"text-align: right;\">      0</td><td style=\"text-align: right;\">315154         </td><td style=\"text-align: right;\"> 8.6625</td><td>       </td><td>S         </td></tr>\n",
       "<tr><td style=\"text-align: right;\">          896</td><td style=\"text-align: right;\">       3</td><td>Hirvonen, Mrs. Alexander (Helga E Lindqvist)</td><td>female</td><td style=\"text-align: right;\"> 22  </td><td style=\"text-align: right;\">      1</td><td style=\"text-align: right;\">      1</td><td style=\"text-align: right;\">     3.1013e+06</td><td style=\"text-align: right;\">12.2875</td><td>       </td><td>S         </td></tr>\n",
       "<tr><td style=\"text-align: right;\">          897</td><td style=\"text-align: right;\">       3</td><td>Svensson, Mr. Johan Cervin                  </td><td>male  </td><td style=\"text-align: right;\"> 14  </td><td style=\"text-align: right;\">      0</td><td style=\"text-align: right;\">      0</td><td style=\"text-align: right;\">  7538         </td><td style=\"text-align: right;\"> 9.225 </td><td>       </td><td>S         </td></tr>\n",
       "<tr><td style=\"text-align: right;\">          898</td><td style=\"text-align: right;\">       3</td><td>Connolly, Miss. Kate                        </td><td>female</td><td style=\"text-align: right;\"> 30  </td><td style=\"text-align: right;\">      0</td><td style=\"text-align: right;\">      0</td><td style=\"text-align: right;\">330972         </td><td style=\"text-align: right;\"> 7.6292</td><td>       </td><td>Q         </td></tr>\n",
       "<tr><td style=\"text-align: right;\">          899</td><td style=\"text-align: right;\">       2</td><td>Caldwell, Mr. Albert Francis                </td><td>male  </td><td style=\"text-align: right;\"> 26  </td><td style=\"text-align: right;\">      1</td><td style=\"text-align: right;\">      1</td><td style=\"text-align: right;\">248738         </td><td style=\"text-align: right;\">29     </td><td>       </td><td>S         </td></tr>\n",
       "<tr><td style=\"text-align: right;\">          900</td><td style=\"text-align: right;\">       3</td><td>Abrahim, Mrs. Joseph (Sophie Halaut Easu)   </td><td>female</td><td style=\"text-align: right;\"> 18  </td><td style=\"text-align: right;\">      0</td><td style=\"text-align: right;\">      0</td><td style=\"text-align: right;\">  2657         </td><td style=\"text-align: right;\"> 7.2292</td><td>       </td><td>C         </td></tr>\n",
       "<tr><td style=\"text-align: right;\">          902</td><td style=\"text-align: right;\">       3</td><td>Ilieff, Mr. Ylio                            </td><td>male  </td><td style=\"text-align: right;\">nan  </td><td style=\"text-align: right;\">      0</td><td style=\"text-align: right;\">      0</td><td style=\"text-align: right;\">349220         </td><td style=\"text-align: right;\"> 7.8958</td><td>       </td><td>S         </td></tr>\n",
       "<tr><td style=\"text-align: right;\">          903</td><td style=\"text-align: right;\">       1</td><td>Jones, Mr. Charles Cresson                  </td><td>male  </td><td style=\"text-align: right;\"> 46  </td><td style=\"text-align: right;\">      0</td><td style=\"text-align: right;\">      0</td><td style=\"text-align: right;\">   694         </td><td style=\"text-align: right;\">26     </td><td>       </td><td>S         </td></tr>\n",
       "</tbody>\n",
       "</table>"
      ]
     },
     "metadata": {},
     "output_type": "display_data"
    },
    {
     "data": {
      "text/html": [
       "<table>\n",
       "<thead>\n",
       "<tr><th style=\"text-align: right;\">  PassengerId</th><th style=\"text-align: right;\">  Pclass</th><th>Name                          </th><th>Sex   </th><th style=\"text-align: right;\">  Age</th><th style=\"text-align: right;\">  SibSp</th><th style=\"text-align: right;\">  Parch</th><th style=\"text-align: right;\">         Ticket</th><th style=\"text-align: right;\">    Fare</th><th>Cabin          </th><th>Embarked  </th></tr>\n",
       "</thead>\n",
       "<tbody>\n",
       "<tr><td style=\"text-align: right;\">          894</td><td style=\"text-align: right;\">       2</td><td>Myles, Mr. Thomas Francis     </td><td>male  </td><td style=\"text-align: right;\">   62</td><td style=\"text-align: right;\">      0</td><td style=\"text-align: right;\">      0</td><td style=\"text-align: right;\">240276         </td><td style=\"text-align: right;\">  9.6875</td><td>               </td><td>Q         </td></tr>\n",
       "<tr><td style=\"text-align: right;\">          901</td><td style=\"text-align: right;\">       3</td><td>Davies, Mr. John Samuel       </td><td>male  </td><td style=\"text-align: right;\">   21</td><td style=\"text-align: right;\">      2</td><td style=\"text-align: right;\">      0</td><td style=\"text-align: right;\">   nan         </td><td style=\"text-align: right;\"> 24.15  </td><td>               </td><td>S         </td></tr>\n",
       "<tr><td style=\"text-align: right;\">          912</td><td style=\"text-align: right;\">       1</td><td>Rothschild, Mr. Martin        </td><td>male  </td><td style=\"text-align: right;\">   55</td><td style=\"text-align: right;\">      1</td><td style=\"text-align: right;\">      0</td><td style=\"text-align: right;\">   nan         </td><td style=\"text-align: right;\"> 59.4   </td><td>               </td><td>C         </td></tr>\n",
       "<tr><td style=\"text-align: right;\">          929</td><td style=\"text-align: right;\">       3</td><td>Cacic, Miss. Manda            </td><td>female</td><td style=\"text-align: right;\">   21</td><td style=\"text-align: right;\">      0</td><td style=\"text-align: right;\">      0</td><td style=\"text-align: right;\">315087         </td><td style=\"text-align: right;\">  8.6625</td><td>               </td><td>S         </td></tr>\n",
       "<tr><td style=\"text-align: right;\">          931</td><td style=\"text-align: right;\">       3</td><td>Hee, Mr. Ling                 </td><td>male  </td><td style=\"text-align: right;\">  nan</td><td style=\"text-align: right;\">      0</td><td style=\"text-align: right;\">      0</td><td style=\"text-align: right;\">  1601         </td><td style=\"text-align: right;\"> 56.4958</td><td>               </td><td>S         </td></tr>\n",
       "<tr><td style=\"text-align: right;\">          943</td><td style=\"text-align: right;\">       2</td><td>Pulbaum, Mr. Franz            </td><td>male  </td><td style=\"text-align: right;\">   27</td><td style=\"text-align: right;\">      0</td><td style=\"text-align: right;\">      0</td><td style=\"text-align: right;\">   nan         </td><td style=\"text-align: right;\"> 15.0333</td><td>               </td><td>C         </td></tr>\n",
       "<tr><td style=\"text-align: right;\">          947</td><td style=\"text-align: right;\">       3</td><td>Rice, Master. Albert          </td><td>male  </td><td style=\"text-align: right;\">   10</td><td style=\"text-align: right;\">      4</td><td style=\"text-align: right;\">      1</td><td style=\"text-align: right;\">382652         </td><td style=\"text-align: right;\"> 29.125 </td><td>               </td><td>Q         </td></tr>\n",
       "<tr><td style=\"text-align: right;\">          955</td><td style=\"text-align: right;\">       3</td><td>Bradley, Miss. Bridget Delia  </td><td>female</td><td style=\"text-align: right;\">   22</td><td style=\"text-align: right;\">      0</td><td style=\"text-align: right;\">      0</td><td style=\"text-align: right;\">334914         </td><td style=\"text-align: right;\">  7.725 </td><td>               </td><td>Q         </td></tr>\n",
       "<tr><td style=\"text-align: right;\">          956</td><td style=\"text-align: right;\">       1</td><td>Ryerson, Master. John Borie   </td><td>male  </td><td style=\"text-align: right;\">   13</td><td style=\"text-align: right;\">      2</td><td style=\"text-align: right;\">      2</td><td style=\"text-align: right;\">   nan         </td><td style=\"text-align: right;\">262.375 </td><td>B57 B59 B63 B66</td><td>C         </td></tr>\n",
       "<tr><td style=\"text-align: right;\">          964</td><td style=\"text-align: right;\">       3</td><td>Nieminen, Miss. Manta Josefina</td><td>female</td><td style=\"text-align: right;\">   29</td><td style=\"text-align: right;\">      0</td><td style=\"text-align: right;\">      0</td><td style=\"text-align: right;\">     3.1013e+06</td><td style=\"text-align: right;\">  7.925 </td><td>               </td><td>S         </td></tr>\n",
       "</tbody>\n",
       "</table>"
      ]
     },
     "metadata": {},
     "output_type": "display_data"
    },
    {
     "data": {
      "text/plain": [
       "[, ]"
      ]
     },
     "execution_count": 9,
     "metadata": {},
     "output_type": "execute_result"
    }
   ],
   "source": [
    "splits"
   ]
  },
  {
   "cell_type": "markdown",
   "metadata": {},
   "source": [
    "# AutoML\n",
    "- Run AutoML, stopping after 60 seconds. The **max_runtime_secs** argument provides a way to limit the AutoML run by time. When using a time-limited stopping criterion, the number of models train will vary between runs. If different hardware is used or even if the same machine is used but the available compute resources on that machine are not the same between runs, then AutoML may be able to train more models on one run vs another.\n",
    "\n",
    "- The test frame is passed explicitly to the leaderboard_frame argument here, which means that instead of using cross-validated metrics, we use test set metrics for generating the leaderboard."
   ]
  },
  {
   "cell_type": "code",
   "execution_count": 10,
   "metadata": {},
   "outputs": [
    {
     "name": "stdout",
     "output_type": "stream",
     "text": [
      "AutoML progress: |\n",
      "01:02:02.338: _train param, Dropping bad and constant columns: [Name]\n",
      "\n",
      "\n",
      "01:02:03.348: XGBoost_1_AutoML_1_20220112_10202 [XGBoost def_2] failed: water.exceptions.H2OModelBuilderIllegalArgumentException: Illegal argument(s) for XGBoost model: XGBoost_1_AutoML_1_20220112_10202_cv_1.  Details: ERRR on field: _response_column: Response contains missing values (NAs) - not supported by XGBoost.\n",
      "\n",
      "01:02:03.353: _train param, Dropping bad and constant columns: [Name]\n",
      "\n",
      "█\n",
      "01:02:04.386: _train param, Dropping bad and constant columns: [Name]\n",
      "\n",
      "█\n",
      "01:02:05.403: _train param, Dropping unused columns: [Name]\n",
      "\n",
      "█\n",
      "01:02:06.413: _train param, Dropping bad and constant columns: [Name]\n",
      "\n",
      "█\n",
      "01:02:07.418: XGBoost_2_AutoML_1_20220112_10202 [XGBoost def_1] failed: water.exceptions.H2OModelBuilderIllegalArgumentException: Illegal argument(s) for XGBoost model: XGBoost_2_AutoML_1_20220112_10202_cv_1.  Details: ERRR on field: _response_column: Response contains missing values (NAs) - not supported by XGBoost.\n",
      "\n",
      "01:02:07.420: _train param, Dropping bad and constant columns: [Name]\n",
      "\n",
      "██\n",
      "01:02:08.430: _train param, Dropping bad and constant columns: [Name]\n",
      "01:02:09.435: _train param, Dropping bad and constant columns: [Name]\n",
      "\n",
      "█\n",
      "01:02:10.443: _train param, Dropping bad and constant columns: [Name]\n",
      "\n",
      "██\n",
      "01:02:11.453: _train param, Dropping unused columns: [Name]\n",
      "01:02:12.467: _train param, Dropping unused columns: [Name]\n",
      "\n",
      "█\n",
      "01:02:13.478: _train param, Dropping bad and constant columns: [Name]\n",
      "\n",
      "██\n",
      "01:02:14.482: XGBoost_3_AutoML_1_20220112_10202 [XGBoost def_3] failed: water.exceptions.H2OModelBuilderIllegalArgumentException: Illegal argument(s) for XGBoost model: XGBoost_3_AutoML_1_20220112_10202_cv_1.  Details: ERRR on field: _response_column: Response contains missing values (NAs) - not supported by XGBoost.\n",
      "\n",
      "01:02:14.483: _train param, Dropping bad and constant columns: [Name]\n",
      "01:02:15.491: _train param, Dropping bad and constant columns: [Name]\n",
      "\n",
      "█\n",
      "01:02:16.501: _train param, Dropping bad and constant columns: [Name]\n",
      "\n",
      "██\n",
      "01:02:17.510: _train param, Dropping unused columns: [Name]\n",
      "01:02:18.520: _train param, Dropping unused columns: [Name]\n",
      "\n",
      "██████████████████████████████████████████\n",
      "01:02:56.708: _train param, Dropping unused columns: [Name]\n",
      "\n",
      "█\n",
      "01:02:57.719: _train param, Dropping unused columns: [Name]\n",
      "\n",
      "█████| (done) 100%\n",
      "Model Details\n",
      "=============\n",
      "H2OStackedEnsembleEstimator :  Stacked Ensemble\n",
      "Model Key:  StackedEnsemble_BestOfFamily_2_AutoML_1_20220112_10202\n",
      "\n",
      "No model summary for this model\n",
      "\n",
      "ModelMetricsRegressionGLM: stackedensemble\n",
      "** Reported on train data. **\n",
      "\n",
      "MSE: 237.0886671295713\n",
      "RMSE: 15.397683823535646\n",
      "MAE: 10.077718363464136\n",
      "RMSLE: 0.7014921909740367\n",
      "R^2: 0.925336691297291\n",
      "Mean Residual Deviance: 237.0886671295713\n",
      "Null degrees of freedom: 332\n",
      "Residual degrees of freedom: 329\n",
      "Null deviance: 1057420.6732320013\n",
      "Residual deviance: 78950.52615414724\n",
      "AIC: 2776.001649742349\n",
      "\n",
      "ModelMetricsRegressionGLM: stackedensemble\n",
      "** Reported on cross-validation data. **\n",
      "\n",
      "MSE: 1512.310714813126\n",
      "RMSE: 38.88843934658636\n",
      "MAE: 17.60671573692212\n",
      "RMSLE: NaN\n",
      "R^2: 0.523747283573035\n",
      "Mean Residual Deviance: 1512.310714813126\n",
      "Null degrees of freedom: 332\n",
      "Residual degrees of freedom: 329\n",
      "Null deviance: 1061742.0201285465\n",
      "Residual deviance: 503599.46803277096\n",
      "AIC: 3393.0372767168437\n"
     ]
    },
    {
     "data": {
      "text/plain": []
     },
     "execution_count": 10,
     "metadata": {},
     "output_type": "execute_result"
    }
   ],
   "source": [
    "aml = H2OAutoML(max_runtime_secs = 60, seed = 1, project_name = \"Testing_frame\")\n",
    "aml.train(y = y, training_frame = train, leaderboard_frame = test)"
   ]
  },
  {
   "cell_type": "markdown",
   "metadata": {},
   "source": [
    "## Leaderboard\n",
    "- View the AutoML Leaderboard. Since we specified a leaderboard_frame in the H2OAutoML.train() method for scoring and ranking the models, the AutoML leaderboard uses the performance on this data to rank the models.\n",
    "\n",
    "- A default performance metric for each machine learning task (binary classification, multiclass classification, regression) is specified internally and the leaderboard will be sorted by that metric. In the case of regression, the default ranking metric is mean residual deviance. In the future, the user will be able to specify any of the H2O metrics so that different metrics can be used to generate rankings on the leaderboard."
   ]
  },
  {
   "cell_type": "code",
   "execution_count": 11,
   "metadata": {},
   "outputs": [
    {
     "data": {
      "text/html": [
       "<table>\n",
       "<thead>\n",
       "<tr><th>model_id                                              </th><th style=\"text-align: right;\">  mean_residual_deviance</th><th style=\"text-align: right;\">   rmse</th><th style=\"text-align: right;\">     mse</th><th style=\"text-align: right;\">    mae</th><th style=\"text-align: right;\">   rmsle</th></tr>\n",
       "</thead>\n",
       "<tbody>\n",
       "<tr><td>StackedEnsemble_BestOfFamily_2_AutoML_1_20220112_10202</td><td style=\"text-align: right;\">                 848.854</td><td style=\"text-align: right;\">29.1351</td><td style=\"text-align: right;\"> 848.854</td><td style=\"text-align: right;\">15.2723</td><td style=\"text-align: right;\">0.700064</td></tr>\n",
       "<tr><td>GBM_4_AutoML_1_20220112_10202                         </td><td style=\"text-align: right;\">                 920.86 </td><td style=\"text-align: right;\">30.3457</td><td style=\"text-align: right;\"> 920.86 </td><td style=\"text-align: right;\">13.2641</td><td style=\"text-align: right;\">0.470033</td></tr>\n",
       "<tr><td>StackedEnsemble_AllModels_1_AutoML_1_20220112_10202   </td><td style=\"text-align: right;\">                 927.818</td><td style=\"text-align: right;\">30.4601</td><td style=\"text-align: right;\"> 927.818</td><td style=\"text-align: right;\">15.9489</td><td style=\"text-align: right;\">0.720741</td></tr>\n",
       "<tr><td>GBM_grid_1_AutoML_1_20220112_10202_model_9            </td><td style=\"text-align: right;\">                 978.155</td><td style=\"text-align: right;\">31.2755</td><td style=\"text-align: right;\"> 978.155</td><td style=\"text-align: right;\">15.1538</td><td style=\"text-align: right;\">0.505271</td></tr>\n",
       "<tr><td>StackedEnsemble_BestOfFamily_3_AutoML_1_20220112_10202</td><td style=\"text-align: right;\">                 985.23 </td><td style=\"text-align: right;\">31.3884</td><td style=\"text-align: right;\"> 985.23 </td><td style=\"text-align: right;\">16.0655</td><td style=\"text-align: right;\">0.606395</td></tr>\n",
       "<tr><td>StackedEnsemble_BestOfFamily_4_AutoML_1_20220112_10202</td><td style=\"text-align: right;\">                 992.816</td><td style=\"text-align: right;\">31.509 </td><td style=\"text-align: right;\"> 992.816</td><td style=\"text-align: right;\">15.1833</td><td style=\"text-align: right;\">0.517876</td></tr>\n",
       "<tr><td>DRF_1_AutoML_1_20220112_10202                         </td><td style=\"text-align: right;\">                 998.256</td><td style=\"text-align: right;\">31.5952</td><td style=\"text-align: right;\"> 998.256</td><td style=\"text-align: right;\">13.5931</td><td style=\"text-align: right;\">0.458207</td></tr>\n",
       "<tr><td>GBM_grid_1_AutoML_1_20220112_10202_model_10           </td><td style=\"text-align: right;\">                1019.92 </td><td style=\"text-align: right;\">31.9362</td><td style=\"text-align: right;\">1019.92 </td><td style=\"text-align: right;\">14.6545</td><td style=\"text-align: right;\">0.537303</td></tr>\n",
       "<tr><td>GBM_grid_1_AutoML_1_20220112_10202_model_17           </td><td style=\"text-align: right;\">                1020.91 </td><td style=\"text-align: right;\">31.9516</td><td style=\"text-align: right;\">1020.91 </td><td style=\"text-align: right;\">14.5714</td><td style=\"text-align: right;\">0.515761</td></tr>\n",
       "<tr><td>StackedEnsemble_AllModels_2_AutoML_1_20220112_10202   </td><td style=\"text-align: right;\">                1030    </td><td style=\"text-align: right;\">32.0936</td><td style=\"text-align: right;\">1030    </td><td style=\"text-align: right;\">16.49  </td><td style=\"text-align: right;\">0.640455</td></tr>\n",
       "</tbody>\n",
       "</table>"
      ]
     },
     "metadata": {},
     "output_type": "display_data"
    },
    {
     "data": {
      "text/plain": []
     },
     "execution_count": 11,
     "metadata": {},
     "output_type": "execute_result"
    }
   ],
   "source": [
    "aml.leaderboard.head()"
   ]
  },
  {
   "cell_type": "markdown",
   "metadata": {},
   "source": [
    "Mostly on the top there will be ensemble of models, as they perform better than a single model"
   ]
  },
  {
   "cell_type": "markdown",
   "metadata": {},
   "source": [
    "## Testing of model"
   ]
  },
  {
   "cell_type": "code",
   "execution_count": 12,
   "metadata": {},
   "outputs": [
    {
     "name": "stdout",
     "output_type": "stream",
     "text": [
      "\n",
      "ModelMetricsRegressionGLM: stackedensemble\n",
      "** Reported on test data. **\n",
      "\n",
      "MSE: 848.8542772637696\n",
      "RMSE: 29.135103865676705\n",
      "MAE: 15.272297474451399\n",
      "RMSLE: 0.7000639680799781\n",
      "R^2: 0.7062323746863823\n",
      "Mean Residual Deviance: 848.8542772637696\n",
      "Null degrees of freedom: 83\n",
      "Residual degrees of freedom: 80\n",
      "Null deviance: 242885.75655845192\n",
      "Residual deviance: 71303.75929015665\n",
      "AIC: 814.8682261938338\n"
     ]
    },
    {
     "data": {
      "text/plain": []
     },
     "execution_count": 12,
     "metadata": {},
     "output_type": "execute_result"
    }
   ],
   "source": [
    "perf = aml.leader.model_performance(test)\n",
    "perf"
   ]
  },
  {
   "cell_type": "code",
   "execution_count": 13,
   "metadata": {},
   "outputs": [],
   "source": [
    "# Get model ids for all models in the AutoML Leaderboard\n",
    "model_ids = list(aml.leaderboard['model_id'].as_data_frame().iloc[:,0])\n",
    "# Get the \"All Models\" Stacked Ensemble model\n",
    "se = h2o.get_model([mid for mid in model_ids if \"StackedEnsemble_AllModels\" in mid][0])\n",
    "# Get the Stacked Ensemble metalearner model\n",
    "metalearner = se.metalearner()"
   ]
  },
  {
   "cell_type": "code",
   "execution_count": 14,
   "metadata": {},
   "outputs": [
    {
     "data": {
      "text/plain": [
       "{'Intercept': 35.39018375680689,\n",
       " 'GBM_4_AutoML_1_20220112_10202': 0.0,\n",
       " 'DRF_1_AutoML_1_20220112_10202': 5.526465201060359,\n",
       " 'GBM_3_AutoML_1_20220112_10202': 28.591036886229674,\n",
       " 'GBM_2_AutoML_1_20220112_10202': 0.0,\n",
       " 'GLM_1_AutoML_1_20220112_10202': 9.640862074758312,\n",
       " 'GBM_1_AutoML_1_20220112_10202': 0.0}"
      ]
     },
     "execution_count": 14,
     "metadata": {},
     "output_type": "execute_result"
    }
   ],
   "source": [
    "metalearner.coef_norm()"
   ]
  }
 ],
 "metadata": {
  "kernelspec": {
   "display_name": "Python 3 (ipykernel)",
   "language": "python",
   "name": "python3"
  },
  "language_info": {
   "codemirror_mode": {
    "name": "ipython",
    "version": 3
   },
   "file_extension": ".py",
   "mimetype": "text/x-python",
   "name": "python",
   "nbconvert_exporter": "python",
   "pygments_lexer": "ipython3",
   "version": "3.8.5"
  }
 },
 "nbformat": 4,
 "nbformat_minor": 2
}
